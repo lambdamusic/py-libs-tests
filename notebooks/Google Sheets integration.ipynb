{
 "cells": [
  {
   "cell_type": "markdown",
   "metadata": {
    "Collapsed": "false",
    "colab_type": "text",
    "id": "sOm9PFrT8mGG"
   },
   "source": [
    "# Google Sheets Integration from Google Colab / Python Script\n",
    "\n",
    "This notebook provides recipes for loading and saving data from google sheets\n",
    "\n",
    "Our examples below use the open-source [`gspread`](https://github.com/burnash/gspread) library for interacting with Google Sheets.\n",
    "\n",
    "The library [`gspread-dataframe`](https://pythonhosted.org/gspread-dataframe/#from-github) is used to facilitate working with pandas dataframes (view [source here](https://github.com/robin900/gspread-dataframe/blob/master/gspread_dataframe.py)).\n",
    "\n",
    "First, install the packages using `pip`."
   ]
  },
  {
   "cell_type": "code",
   "execution_count": null,
   "metadata": {
    "Collapsed": "false",
    "colab": {},
    "colab_type": "code",
    "id": "Mwu_sWHv4jEo"
   },
   "outputs": [],
   "source": [
    "!pip install --upgrade --quiet gspread gspread-dataframe"
   ]
  },
  {
   "cell_type": "markdown",
   "metadata": {
    "Collapsed": "false",
    "colab_type": "text",
    "id": "qzi9VsEqzI-o"
   },
   "source": [
    "Import the library, authenticate, and create the interface to Sheets."
   ]
  },
  {
   "cell_type": "code",
   "execution_count": null,
   "metadata": {
    "Collapsed": "false",
    "colab": {},
    "colab_type": "code",
    "id": "6d0xJz3VzLOo"
   },
   "outputs": [],
   "source": [
    "from google.colab import auth\n",
    "auth.authenticate_user()\n",
    "\n",
    "import gspread\n",
    "from gspread_dataframe import get_as_dataframe, set_with_dataframe\n",
    "import pandas as pd\n",
    "from oauth2client.client import GoogleCredentials\n",
    "\n",
    "gc = gspread.authorize(GoogleCredentials.get_application_default())"
   ]
  },
  {
   "cell_type": "markdown",
   "metadata": {
    "Collapsed": "false",
    "colab_type": "text",
    "id": "yjrZQUrt6kKj"
   },
   "source": [
    "Below is a small set of `gspread` examples. Additional examples are availabe at the [`gspread` GitHub page](https://github.com/burnash/gspread#more-examples)."
   ]
  },
  {
   "cell_type": "markdown",
   "metadata": {
    "Collapsed": "false",
    "colab_type": "text",
    "id": "WgXqE02UofZG"
   },
   "source": [
    "## Creating a new sheet with data from Python"
   ]
  },
  {
   "cell_type": "code",
   "execution_count": null,
   "metadata": {
    "Collapsed": "false",
    "colab": {},
    "colab_type": "code",
    "id": "tnnYKhGfzGeP"
   },
   "outputs": [],
   "source": [
    "sh = gc.create('My cool spreadsheet')"
   ]
  },
  {
   "cell_type": "markdown",
   "metadata": {
    "Collapsed": "false",
    "colab_type": "text",
    "id": "v9Ia9JVc6Zvk"
   },
   "source": [
    "After executing the cell above, you will see a new spreadsheet named 'My cool spreadsheet' at [https://sheets.google.com](https://sheets.google.com/).\n",
    "\n",
    "Open our new sheet and add some random data."
   ]
  },
  {
   "cell_type": "code",
   "execution_count": null,
   "metadata": {
    "Collapsed": "false",
    "colab": {
     "base_uri": "https://localhost:8080/",
     "height": 102
    },
    "colab_type": "code",
    "executionInfo": {
     "elapsed": 4583,
     "status": "ok",
     "timestamp": 1570524611844,
     "user": {
      "displayName": "",
      "photoUrl": "",
      "userId": ""
     },
     "user_tz": -60
    },
    "id": "ASdgLIt2s-ux",
    "outputId": "5732c89f-83d4-429f-b466-3bf511de523e"
   },
   "outputs": [
    {
     "data": {
      "text/plain": [
       "{'spreadsheetId': '1q_Ziym70qyOx80pzoRWQJhcUXp8fR12HBXSK7lWhfmA',\n",
       " 'updatedCells': 6,\n",
       " 'updatedColumns': 3,\n",
       " 'updatedRange': 'Sheet1!A1:C2',\n",
       " 'updatedRows': 2}"
      ]
     },
     "execution_count": 5,
     "metadata": {
      "tags": []
     },
     "output_type": "execute_result"
    }
   ],
   "source": [
    "worksheet = gc.open('My cool spreadsheet').sheet1\n",
    "\n",
    "cell_list = worksheet.range('A1:C2')\n",
    "\n",
    "import random\n",
    "for cell in cell_list:\n",
    "  cell.value = random.randint(1, 10)\n",
    "\n",
    "worksheet.update_cells(cell_list)"
   ]
  },
  {
   "cell_type": "markdown",
   "metadata": {
    "Collapsed": "false",
    "colab_type": "text",
    "id": "D7m60Rm4pUVX"
   },
   "source": [
    "Or from a dataframe"
   ]
  },
  {
   "cell_type": "code",
   "execution_count": null,
   "metadata": {
    "Collapsed": "false",
    "colab": {},
    "colab_type": "code",
    "id": "woaMwJc1pTPJ"
   },
   "outputs": [],
   "source": [
    "d = [pd.Series([1., 2., 3.], index=['a', 'b', 'c']),\n",
    "    pd.Series([1., 2., 3., 4.], index=['a', 'b', 'c', 'd'])]\n",
    "df = pd.DataFrame(d)\n",
    "#\n",
    "set_with_dataframe(worksheet, df)"
   ]
  },
  {
   "cell_type": "markdown",
   "metadata": {
    "Collapsed": "false",
    "colab_type": "text",
    "id": "pxxuNlz4suDA"
   },
   "source": [
    "### Saving the data \n",
    "\n",
    "See also https://stackoverflow.com/questions/36936449/creating-a-worksheet-using-gspread"
   ]
  },
  {
   "cell_type": "code",
   "execution_count": null,
   "metadata": {
    "Collapsed": "false",
    "colab": {},
    "colab_type": "code",
    "id": "o7j913XCrKAB"
   },
   "outputs": [],
   "source": [
    "spreadsheet = gc.open('My cool spreadsheet')\n",
    "new_worksheet = spreadsheet.add_worksheet(title=\"DSL Results\", rows=\"100\", cols=\"20\")"
   ]
  },
  {
   "cell_type": "code",
   "execution_count": null,
   "metadata": {
    "Collapsed": "false",
    "colab": {},
    "colab_type": "code",
    "id": "li1l6vWOnUDP"
   },
   "outputs": [],
   "source": [
    "set_with_dataframe(new_worksheet, dsl_last_results)"
   ]
  },
  {
   "cell_type": "markdown",
   "metadata": {
    "Collapsed": "false",
    "colab_type": "text",
    "id": "k9q0pp33dckN"
   },
   "source": [
    "## Downloading data from a sheet into Python as a Pandas DataFrame\n",
    "\n",
    "Read back the random data that we inserted above and convert the result into a [Pandas DataFrame](https://pandas.pydata.org/pandas-docs/stable/generated/pandas.DataFrame.html)."
   ]
  },
  {
   "cell_type": "code",
   "execution_count": null,
   "metadata": {
    "Collapsed": "false",
    "colab": {
     "base_uri": "https://localhost:8080/",
     "height": 34
    },
    "colab_type": "code",
    "executionInfo": {
     "elapsed": 2365,
     "status": "ok",
     "timestamp": 1570524662093,
     "user": {
      "displayName": "",
      "photoUrl": "",
      "userId": ""
     },
     "user_tz": -60
    },
    "id": "J4QxBareshEV",
    "outputId": "1913c70d-f2df-4132-edb5-53a496800291"
   },
   "outputs": [
    {
     "name": "stdout",
     "output_type": "stream",
     "text": [
      "[['4', '4', '3'], ['6', '6', '6']]\n"
     ]
    }
   ],
   "source": [
    "worksheet = gc.open('My cool spreadsheet').sheet1\n",
    "\n",
    "# get_all_values gives a list of rows.\n",
    "rows = worksheet.get_all_values()\n",
    "print(rows)\n",
    "\n",
    "import pandas as pd\n",
    "df = pd.DataFrame.from_records(rows)"
   ]
  },
  {
   "cell_type": "markdown",
   "metadata": {
    "Collapsed": "false",
    "colab_type": "text",
    "id": "5VyqjxVGqP54"
   },
   "source": [
    "Or with the shortcut library:"
   ]
  },
  {
   "cell_type": "code",
   "execution_count": null,
   "metadata": {
    "Collapsed": "false",
    "colab": {},
    "colab_type": "code",
    "id": "7k73vxU5kqa1"
   },
   "outputs": [],
   "source": [
    "df = get_as_dataframe(worksheet)"
   ]
  },
  {
   "cell_type": "markdown",
   "metadata": {
    "Collapsed": "false",
    "colab_type": "text",
    "id": "R5C5pFoNtzq6"
   },
   "source": [
    "### All together now \n",
    "\n",
    "PS you dont have to pip install anything on google colab!\n"
   ]
  },
  {
   "cell_type": "code",
   "execution_count": null,
   "metadata": {
    "Collapsed": "false",
    "colab": {},
    "colab_type": "code",
    "id": "h9jO0O-yt6zK"
   },
   "outputs": [],
   "source": [
    "from google.colab import auth\n",
    "auth.authenticate_user()\n",
    "\n",
    "import gspread\n",
    "from gspread_dataframe import get_as_dataframe, set_with_dataframe\n",
    "import pandas as pd\n",
    "from oauth2client.client import GoogleCredentials\n",
    "\n",
    "gc = gspread.authorize(GoogleCredentials.get_application_default())\n",
    "\n",
    "title = 'My cool spreadsheet'\n",
    "sh = gc.create(title)\n",
    "worksheet = gc.open(title).sheet1\n",
    "set_with_dataframe(worksheet, data)\n",
    "spreadsheet_url = \"https://docs.google.com/spreadsheets/d/%s\" % sh.id\n",
    "print(spreadsheet_url)"
   ]
  },
  {
   "cell_type": "markdown",
   "metadata": {
    "Collapsed": "false",
    "colab_type": "text",
    "id": "HsqDSxVbtIOT"
   },
   "source": [
    "## Connect to a new Google Sheet - Offline Version\n",
    "\n",
    "This involves using an authorization key from Google. See how to obtain it here https://gspread.readthedocs.io/en/latest/oauth2.html"
   ]
  },
  {
   "cell_type": "code",
   "execution_count": 9,
   "metadata": {
    "Collapsed": "false"
   },
   "outputs": [],
   "source": [
    "!pip install gspread df2gspread oauth2client -U --quiet"
   ]
  },
  {
   "cell_type": "code",
   "execution_count": 4,
   "metadata": {
    "Collapsed": "false"
   },
   "outputs": [],
   "source": [
    "import pandas as pd\n",
    "import gspread\n",
    "from oauth2client.service_account import ServiceAccountCredentials\n",
    "from df2gspread import df2gspread as d2g"
   ]
  },
  {
   "cell_type": "code",
   "execution_count": 5,
   "metadata": {
    "Collapsed": "false"
   },
   "outputs": [],
   "source": [
    "scope = ['https://spreadsheets.google.com/feeds',\n",
    "         'https://www.googleapis.com/auth/drive']\n",
    "credentials = ServiceAccountCredentials.from_json_keyfile_name(\n",
    "    'gas.json', scope)\n",
    "gc = gspread.authorize(credentials)"
   ]
  },
  {
   "cell_type": "markdown",
   "metadata": {
    "Collapsed": "false"
   },
   "source": [
    "NOTE you can only open spreadsheets where your credentials email address has been addeed as an editor!!"
   ]
  },
  {
   "cell_type": "code",
   "execution_count": 6,
   "metadata": {
    "Collapsed": "false"
   },
   "outputs": [
    {
     "data": {
      "text/plain": [
       "[{'kind': 'drive#file',\n",
       "  'id': '1-kTZJZ1GAhJ2m4GAIhw1ZdlgO46JpvX0ZQa232VWRmw',\n",
       "  'name': 'Dimensions COVID-19 publications, data sets, clinical trials  - updated daily',\n",
       "  'mimeType': 'application/vnd.google-apps.spreadsheet'},\n",
       " {'kind': 'drive#file',\n",
       "  'id': '1m52H7KjahhUxcTHzUFUeXNr_p8MwFsZILw5fuwyUGcI',\n",
       "  'name': 'gspread python test',\n",
       "  'mimeType': 'application/vnd.google-apps.spreadsheet'}]"
      ]
     },
     "execution_count": 6,
     "metadata": {},
     "output_type": "execute_result"
    }
   ],
   "source": [
    "gc.list_spreadsheet_files()"
   ]
  },
  {
   "cell_type": "code",
   "execution_count": 24,
   "metadata": {
    "Collapsed": "false"
   },
   "outputs": [],
   "source": [
    "wks = gc.open(\"gspread python test\").sheet1"
   ]
  },
  {
   "cell_type": "code",
   "execution_count": null,
   "metadata": {
    "Collapsed": "false"
   },
   "outputs": [],
   "source": [
    "wks.col_values(1)"
   ]
  },
  {
   "cell_type": "markdown",
   "metadata": {
    "Collapsed": "false",
    "colab_type": "text",
    "id": "HsqDSxVbtIOT"
   },
   "source": [
    "### Save the data \n",
    "\n",
    "This creates a new sheet 'master' in our spreadsheet (accessed via ID). See also the [df2gspread docs](https://df2gspread.readthedocs.io/en/latest/examples.html). \n"
   ]
  },
  {
   "cell_type": "code",
   "execution_count": 31,
   "metadata": {
    "Collapsed": "false",
    "colab": {
     "base_uri": "https://localhost:8080/",
     "height": 34
    },
    "colab_type": "code",
    "executionInfo": {
     "elapsed": 4015,
     "status": "ok",
     "timestamp": 1582908718022,
     "user": {
      "displayName": "Michele Pasin",
      "photoUrl": "https://lh3.googleusercontent.com/a-/AAuE7mBu8LVjIGgontF2Wax51BoL5KFx8esezX3bUmaa0g=s64",
      "userId": "10309320684375994511"
     },
     "user_tz": 0
    },
    "id": "6SXkyWkhqtSE",
    "outputId": "880026e9-451b-4385-9f8b-d0aa28be7040"
   },
   "outputs": [
    {
     "data": {
      "text/plain": [
       "<Worksheet 'Master' id:186578311>"
      ]
     },
     "execution_count": 31,
     "metadata": {},
     "output_type": "execute_result"
    }
   ],
   "source": [
    "spreadsheet_key = '1m52H7KjahhUxcTHzUFUeXNr_p8MwFsZILw5fuwyUGcI'\n",
    "wks_name = 'Master'\n",
    "d2g.upload(data, spreadsheet_key, wks_name, credentials=credentials, row_names=True)"
   ]
  },
  {
   "cell_type": "code",
   "execution_count": null,
   "metadata": {
    "Collapsed": "false"
   },
   "outputs": [],
   "source": [
    "data"
   ]
  }
 ],
 "metadata": {
  "colab": {
   "collapsed_sections": [],
   "name": "Google Sheets integration",
   "provenance": [
    {
     "file_id": "/v2/external/notebooks/io.ipynb",
     "timestamp": 1570526319882
    }
   ],
   "toc_visible": true
  },
  "kernelspec": {
   "display_name": "Python 3",
   "language": "python",
   "name": "python3"
  },
  "language_info": {
   "codemirror_mode": {
    "name": "ipython",
    "version": 3
   },
   "file_extension": ".py",
   "mimetype": "text/x-python",
   "name": "python",
   "nbconvert_exporter": "python",
   "pygments_lexer": "ipython3",
   "version": "3.8.5"
  }
 },
 "nbformat": 4,
 "nbformat_minor": 4
}
