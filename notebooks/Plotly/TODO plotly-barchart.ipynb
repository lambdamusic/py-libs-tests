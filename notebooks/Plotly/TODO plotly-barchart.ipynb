{
 "cells": [
  {
   "cell_type": "markdown",
   "metadata": {
    "Collapsed": "false",
    "colab_type": "text",
    "id": "BLVy9ZifwYiV"
   },
   "source": [
    "#  TODO Plotly bar charts with Dimensions data\n",
    "\n",
    "* https://plotly.com/python/horizontal-bar-charts/\n",
    "* https://plotly.com/python-api-reference/generated/plotly.express.bar.html#plotly.express.bar\n"
   ]
  },
  {
   "cell_type": "code",
   "execution_count": null,
   "metadata": {
    "Collapsed": "false",
    "colab": {},
    "colab_type": "code",
    "id": "o_zL5ZigwYiY",
    "outputId": "7c2f5368-af63-4199-b21a-ba7c401474dd"
   },
   "outputs": [
    {
     "name": "stdout",
     "output_type": "stream",
     "text": [
      "DimCli v0.5.4 - Succesfully connected to <https://app.dimensions.ai> (method: dsl.ini file)\n"
     ]
    }
   ],
   "source": [
    "import os\n",
    "import sys\n",
    "import time\n",
    "import json\n",
    "import pandas as pd\n",
    "from pandas import json_normalize\n",
    "from tqdm.notebook import tqdm as progress\n",
    "import plotly.express as px\n",
    "from plotly.offline import plot\n",
    "if not 'google.colab' in sys.modules:\n",
    "  # make js dependecies local / needed by html exports \n",
    "  from plotly.offline import init_notebook_mode\n",
    "  init_notebook_mode(connected=True)\n",
    "#\n",
    "import dimcli\n",
    "from dimcli.shortcuts import *\n",
    "#\n",
    "dimcli.login()\n",
    "dsl = dimcli.Dsl()"
   ]
  },
  {
   "cell_type": "markdown",
   "metadata": {
    "Collapsed": "false",
    "colab_type": "text",
    "id": "jxYHheQXwYic"
   },
   "source": [
    "### Testing out plotly_express with DSL data"
   ]
  },
  {
   "cell_type": "code",
   "execution_count": null,
   "metadata": {
    "Collapsed": "false",
    "colab": {},
    "colab_type": "code",
    "id": "2hSnZfIFwYid",
    "outputId": "35271541-a7db-4288-e7c7-618e53e3024a"
   },
   "outputs": [
    {
     "name": "stdout",
     "output_type": "stream",
     "text": [
      "Returned Publications: 500 (total = 3331)\n"
     ]
    }
   ],
   "source": [
    "res = dslquery(\"\"\"search publications for \"malaria\" where research_org_country_names=\"Italy\" and year < 2010 return publications[basics] limit 500\"\"\")\n",
    "df = res.as_dataframe()\n",
    "df = df.fillna(\"\")\n",
    "df.head(5)"
   ]
  }
 ],
 "metadata": {
  "colab": {
   "collapsed_sections": [],
   "name": "sankey.ipynb",
   "provenance": []
  },
  "kernelspec": {
   "display_name": "Python 3",
   "language": "python",
   "name": "python3"
  },
  "language_info": {
   "codemirror_mode": {
    "name": "ipython",
    "version": 3
   },
   "file_extension": ".py",
   "mimetype": "text/x-python",
   "name": "python",
   "nbconvert_exporter": "python",
   "pygments_lexer": "ipython3",
   "version": "3.8.5"
  },
  "toc-autonumbering": false,
  "toc-showcode": false,
  "toc-showmarkdowntxt": true,
  "toc-showtags": false
 },
 "nbformat": 4,
 "nbformat_minor": 4
}
