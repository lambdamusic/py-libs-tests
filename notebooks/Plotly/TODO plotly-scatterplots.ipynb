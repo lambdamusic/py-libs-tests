{
 "cells": [
  {
   "cell_type": "markdown",
   "metadata": {
    "Collapsed": "false",
    "colab_type": "text",
    "id": "BLVy9ZifwYiV"
   },
   "source": [
    "#  TODO Plotly Scatter plots and bubble charts with Dimensions data\n",
    "\n",
    "* https://plotly.com/python/bubble-charts/\n",
    "* https://plotly.com/python/line-and-scatter/"
   ]
  },
  {
   "cell_type": "code",
   "execution_count": null,
   "metadata": {
    "Collapsed": "false",
    "colab": {},
    "colab_type": "code",
    "id": "o_zL5ZigwYiY",
    "outputId": "7c2f5368-af63-4199-b21a-ba7c401474dd"
   },
   "outputs": [
    {
     "name": "stdout",
     "output_type": "stream",
     "text": [
      "DimCli v0.5.4 - Succesfully connected to <https://app.dimensions.ai> (method: dsl.ini file)\n"
     ]
    }
   ],
   "source": [
    "import os\n",
    "import sys\n",
    "import time\n",
    "import json\n",
    "import pandas as pd\n",
    "from pandas import json_normalize\n",
    "from tqdm.notebook import tqdm as progress\n",
    "import plotly.express as px\n",
    "from plotly.offline import plot\n",
    "if not 'google.colab' in sys.modules:\n",
    "  # make js dependecies local / needed by html exports \n",
    "  from plotly.offline import init_notebook_mode\n",
    "  init_notebook_mode(connected=True)\n",
    "#\n",
    "import dimcli\n",
    "from dimcli.shortcuts import *\n",
    "#\n",
    "dimcli.login()\n",
    "dsl = dimcli.Dsl()"
   ]
  },
  {
   "cell_type": "markdown",
   "metadata": {
    "Collapsed": "false",
    "colab_type": "text",
    "id": "jxYHheQXwYic"
   },
   "source": [
    "### Testing out plotly_express with DSL data"
   ]
  },
  {
   "cell_type": "code",
   "execution_count": null,
   "metadata": {
    "Collapsed": "false",
    "colab": {},
    "colab_type": "code",
    "id": "2hSnZfIFwYid",
    "outputId": "35271541-a7db-4288-e7c7-618e53e3024a"
   },
   "outputs": [
    {
     "name": "stdout",
     "output_type": "stream",
     "text": [
      "Returned Publications: 500 (total = 3331)\n"
     ]
    }
   ],
   "source": [
    "res = dslquery(\"\"\"search publications for \"malaria\" where research_org_country_names=\"Italy\" and year < 2010 return publications[basics] limit 500\"\"\")"
   ]
  },
  {
   "cell_type": "code",
   "execution_count": null,
   "metadata": {
    "Collapsed": "false",
    "colab": {},
    "colab_type": "code",
    "id": "w4e8O27gwYif"
   },
   "outputs": [],
   "source": [
    "df = res.as_dataframe()\n",
    "df = df.fillna(\"undefined\")"
   ]
  },
  {
   "cell_type": "code",
   "execution_count": null,
   "metadata": {
    "Collapsed": "false",
    "colab": {},
    "colab_type": "code",
    "id": "U_Du2HpSwYii",
    "outputId": "9cdef24f-31a5-436e-dabf-21bb35097d33"
   },
   "outputs": [
    {
     "data": {
      "text/html": [
       "<div>\n",
       "<style scoped>\n",
       "    .dataframe tbody tr th:only-of-type {\n",
       "        vertical-align: middle;\n",
       "    }\n",
       "\n",
       "    .dataframe tbody tr th {\n",
       "        vertical-align: top;\n",
       "    }\n",
       "\n",
       "    .dataframe thead th {\n",
       "        text-align: right;\n",
       "    }\n",
       "</style>\n",
       "<table border=\"1\" class=\"dataframe\">\n",
       "  <thead>\n",
       "    <tr style=\"text-align: right;\">\n",
       "      <th></th>\n",
       "      <th>author_affiliations</th>\n",
       "      <th>id</th>\n",
       "      <th>issue</th>\n",
       "      <th>journal.id</th>\n",
       "      <th>journal.title</th>\n",
       "      <th>pages</th>\n",
       "      <th>title</th>\n",
       "      <th>type</th>\n",
       "      <th>volume</th>\n",
       "      <th>year</th>\n",
       "    </tr>\n",
       "  </thead>\n",
       "  <tbody>\n",
       "    <tr>\n",
       "      <th>0</th>\n",
       "      <td>[[{'first_name': 'Francesco', 'last_name': 'Se...</td>\n",
       "      <td>pub.1032403232</td>\n",
       "      <td>2</td>\n",
       "      <td>jour.1295566</td>\n",
       "      <td>Fragmenta entomologica</td>\n",
       "      <td>213-372</td>\n",
       "      <td>LE ZANZARE ITALIANE: GENERALITÀ E IDENTIFICAZI...</td>\n",
       "      <td>article</td>\n",
       "      <td>41</td>\n",
       "      <td>2009</td>\n",
       "    </tr>\n",
       "    <tr>\n",
       "      <th>1</th>\n",
       "      <td>[[{'first_name': 'Barbara C.', 'last_name': 'B...</td>\n",
       "      <td>pub.1004146769</td>\n",
       "      <td>undefined</td>\n",
       "      <td>undefined</td>\n",
       "      <td>undefined</td>\n",
       "      <td>261-285</td>\n",
       "      <td>Determining the Activity of Mucosal Adjuvants</td>\n",
       "      <td>chapter</td>\n",
       "      <td>626</td>\n",
       "      <td>2009</td>\n",
       "    </tr>\n",
       "    <tr>\n",
       "      <th>2</th>\n",
       "      <td>[[{'first_name': 'David W.', 'last_name': 'Rog...</td>\n",
       "      <td>pub.1052568629</td>\n",
       "      <td>12</td>\n",
       "      <td>jour.1032549</td>\n",
       "      <td>PLoS Biology</td>\n",
       "      <td>e1000272</td>\n",
       "      <td>Transglutaminase-Mediated Semen Coagulation Co...</td>\n",
       "      <td>article</td>\n",
       "      <td>7</td>\n",
       "      <td>2009</td>\n",
       "    </tr>\n",
       "    <tr>\n",
       "      <th>3</th>\n",
       "      <td>[[{'first_name': 'Devendra', 'last_name': 'Ban...</td>\n",
       "      <td>pub.1007487910</td>\n",
       "      <td>12</td>\n",
       "      <td>jour.1037553</td>\n",
       "      <td>PLoS ONE</td>\n",
       "      <td>e8245</td>\n",
       "      <td>IgG Autoantibody to Brain Beta Tubulin III Ass...</td>\n",
       "      <td>article</td>\n",
       "      <td>4</td>\n",
       "      <td>2009</td>\n",
       "    </tr>\n",
       "    <tr>\n",
       "      <th>4</th>\n",
       "      <td>[[{'first_name': 'Paolo', 'last_name': 'Coghi'...</td>\n",
       "      <td>pub.1026635135</td>\n",
       "      <td>12</td>\n",
       "      <td>jour.1036021</td>\n",
       "      <td>ChemMedChem</td>\n",
       "      <td>1957-1957</td>\n",
       "      <td>Cover Picture: Interaction of Artemisinins wit...</td>\n",
       "      <td>article</td>\n",
       "      <td>4</td>\n",
       "      <td>2009</td>\n",
       "    </tr>\n",
       "  </tbody>\n",
       "</table>\n",
       "</div>"
      ],
      "text/plain": [
       "                                 author_affiliations              id  \\\n",
       "0  [[{'first_name': 'Francesco', 'last_name': 'Se...  pub.1032403232   \n",
       "1  [[{'first_name': 'Barbara C.', 'last_name': 'B...  pub.1004146769   \n",
       "2  [[{'first_name': 'David W.', 'last_name': 'Rog...  pub.1052568629   \n",
       "3  [[{'first_name': 'Devendra', 'last_name': 'Ban...  pub.1007487910   \n",
       "4  [[{'first_name': 'Paolo', 'last_name': 'Coghi'...  pub.1026635135   \n",
       "\n",
       "       issue    journal.id           journal.title      pages  \\\n",
       "0          2  jour.1295566  Fragmenta entomologica    213-372   \n",
       "1  undefined     undefined               undefined    261-285   \n",
       "2         12  jour.1032549            PLoS Biology   e1000272   \n",
       "3         12  jour.1037553                PLoS ONE      e8245   \n",
       "4         12  jour.1036021             ChemMedChem  1957-1957   \n",
       "\n",
       "                                               title     type volume  year  \n",
       "0  LE ZANZARE ITALIANE: GENERALITÀ E IDENTIFICAZI...  article     41  2009  \n",
       "1      Determining the Activity of Mucosal Adjuvants  chapter    626  2009  \n",
       "2  Transglutaminase-Mediated Semen Coagulation Co...  article      7  2009  \n",
       "3  IgG Autoantibody to Brain Beta Tubulin III Ass...  article      4  2009  \n",
       "4  Cover Picture: Interaction of Artemisinins wit...  article      4  2009  "
      ]
     },
     "execution_count": 46,
     "metadata": {
      "tags": []
     },
     "output_type": "execute_result"
    }
   ],
   "source": [
    "df.head(5)"
   ]
  },
  {
   "cell_type": "markdown",
   "metadata": {
    "Collapsed": "false",
    "colab_type": "text",
    "id": "wexCwa7UwYin"
   },
   "source": [
    "### scatter matrix is prob better when you have numeric values or not too many categorical ones"
   ]
  },
  {
   "cell_type": "code",
   "execution_count": null,
   "metadata": {
    "Collapsed": "false",
    "colab": {},
    "colab_type": "code",
    "id": "DytJklvhwYio",
    "outputId": "741945c4-732b-4661-d468-bf418970923f"
   },
   "outputs": [
    {
     "data": {
      "application/vnd.plotly.v1+json": {
       "config": {
        "linkText": "Export to plot.ly",
        "plotlyServerURL": "https://plot.ly",
        "showLink": false
       },
       "data": [
        {
         "dimensions": [
          {
           "axis": {
            "matches": true
           },
           "label": "journal.title",
           "values": [
            "Fragmenta entomologica",
            "undefined",
            "PLoS Biology",
            "PLoS ONE",
            "ChemMedChem",
            "undefined",
            "ChemMedChem",
            "FEBS Letters",
            "Malaria Journal",
            "BMC Ecology",
            "Food Security",
            "Environmental Microbiology",
            "Evidence-Based Child Health A Cochrane Review Journal",
            "Journal of Mathematical Analysis and Applications",
            "Natural product communications",
            "Malaria Journal",
            "Malaria Journal",
            "BMC Medical Informatics and Decision Making",
            "BMC Evolutionary Biology",
            "Glia",
            "Biological Invasions",
            "Clinical Biochemistry",
            "Clinics in Chest Medicine",
            "BMC Genomics",
            "Malaria Journal",
            "Cases Journal",
            "Health Research Policy and Systems",
            "Malaria Journal",
            "Evidence-Based Child Health A Cochrane Review Journal",
            "Seminars in Cancer Biology",
            "Journal of Infection",
            "BMC Research Notes",
            "Genetic Testing and Molecular Biomarkers",
            "Pathogens and Global Health",
            "Paediatrics and Child Health",
            "Clinical & Experimental Immunology",
            "Genes & Immunity",
            "Journal of Ethnobiology and Ethnomedicine",
            "Aging Clinical and Experimental Research",
            "Vector-Borne and Zoonotic Diseases",
            "Malaria Journal",
            "International Journal for Equity in Health",
            "BMC Pregnancy and Childbirth",
            "Natural product communications",
            "Natural product communications",
            "International Journal of Health Geographics",
            "Journal of Ethnobiology and Ethnomedicine",
            "Prenatal Diagnosis",
            "Journal of Molecular Evolution",
            "Chromatographia",
            "Ophthalmic Epidemiology",
            "BMC Ecology",
            "Diagnostic Pathology",
            "Journal of Inherited Metabolic Disease",
            "BMC Genomics",
            "Toxicon",
            "Natural product communications",
            "Malaria Journal",
            "PLoS ONE",
            "Journal of Reproductive Immunology",
            "Parasitology Research",
            "Mutation Research/Fundamental and Molecular Mechanisms of Mutagenesis",
            "The Journal of Heart and Lung Transplantation",
            "Human Immunology",
            "Journal of Ethnopharmacology",
            "Evolutionary Applications",
            "Journal of Clinical Ultrasound",
            "The FEBS Journal",
            "Radio Graphics",
            "Data & Knowledge Engineering",
            "Nature Reviews Nephrology",
            "Cell and Tissue Banking",
            "Proteomics Clinical Applications",
            "Molecular Ecology",
            "Desalination",
            "Comptes Rendus Physique",
            "Medical Hypotheses",
            "EFSA Supporting Publications",
            "undefined",
            "Journal of Intellectual Capital",
            "undefined",
            "PLoS ONE",
            "Antimicrobial Agents and Chemotherapy",
            "The Journal of Immunology",
            "Human Reproduction",
            "Expert Review of Vaccines",
            "The International Journal of Tuberculosis and Lung Disease",
            "Cancer Gene Therapy",
            "Food Chemistry",
            "Child and Adolescent Psychiatric Clinics of North America",
            "International Journal of Immunopathology and Pharmacology",
            "Revista chilena de infectología",
            "European Journal of Gastroenterology & Hepatology",
            "Genes & Immunity",
            "Tropical Medicine and International Health",
            "Tetrahedron Letters",
            "Journal of Pharmaceutical Sciences",
            "Investigational New Drugs",
            "Physiological Reviews",
            "British Journal of Cancer",
            "Veterinary Parasitology",
            "undefined",
            "PLoS ONE",
            "undefined",
            "Journal of Travel Medicine",
            "Pediatric Blood & Cancer",
            "Microbes and Infection",
            "Biodiversity",
            "The International Journal of Artificial Organs",
            "Bioorganic & Medicinal Chemistry",
            "Journal of Animal Ecology",
            "Experimental Hematology",
            "European Journal of Clinical Microbiology & Infectious Diseases",
            "Parasite",
            "Le infezioni in medicina : rivista periodica di eziologia, epidemiologia, diagnostica, clinica e terapia delle patologie infettive",
            "Human Genetics",
            "Heart and Vessels",
            "Journal of Ethnopharmacology",
            "Biochimica et Biophysica Acta (BBA) - Lipids and Lipid Metabolism",
            "Medical and Veterinary Entomology",
            "Politische Vierteljahresschrift",
            "Emerging Infectious Diseases",
            "Molecular Immunology",
            "Tumori Journal",
            "Emergency Care Journal",
            "Journal of Biological Chemistry",
            "European Journal of Histochemistry",
            "Proceedings of the National Academy of Sciences",
            "undefined",
            "Clinical Microbiology and Infection",
            "Journal of Theoretical Biology",
            "Nonlinear Analysis Real World Applications",
            "European Journal of Immunology",
            "Journal of Medicine and the Person",
            "Analytical and Bioanalytical Chemistry",
            "The Indian Journal of Medical Research",
            "Veterinary Parasitology",
            "Nucleic Acids Research",
            "Cellular Microbiology",
            "Clinical Therapeutics",
            "undefined",
            "ChemMedChem",
            "Biotechnology Advances",
            "Molecular Microbiology",
            "Nature",
            "Human Mutation",
            "Journal of Family History",
            "Parasitology",
            "IEEE/ACM Transactions on Computational Biology and Bioinformatics",
            "The American Journal of Human Genetics",
            "The FEBS Journal",
            "Infection Genetics and Evolution",
            "Acta Tropica",
            "Ecological Modelling",
            "European Journal of Medicinal Chemistry",
            "Emerging Infectious Diseases",
            "Memórias do Instituto Oswaldo Cruz",
            "Journal of Ethnopharmacology",
            "Gene",
            "Gene",
            "Journal of Ethnopharmacology",
            "Insect Biochemistry and Molecular Biology",
            "Acta Neurologica Scandinavica",
            "Fitoterapia",
            "Journal of Investigative Dermatology",
            "mSphere",
            "Anthropologischer Anzeiger",
            "Chemosphere",
            "Revista de Nutrição",
            "Drug Discovery Today",
            "International Journal of Immunogenetics",
            "Nature Genetics",
            "Heredity",
            "Population and Development Review",
            "Experimental and Applied Acarology",
            "Vaccine",
            "Infectious Disease Clinics of North America",
            "American Journal of Hematology",
            "The British Journal for the History of Science",
            "Transplant Infectious Disease",
            "Experimental and Applied Acarology",
            "European Journal of Political Economy",
            "Therapeutic Drug Monitoring",
            "Neuroscience",
            "The Lancet Infectious Diseases",
            "Indoor and Built Environment",
            "Vaccine",
            "Journal of Applied Microbiology",
            "Gastroenterology",
            "Vaccine",
            "Science",
            "Applied and Environmental Microbiology",
            "Clinical Infectious Diseases",
            "American Journal of Tropical Medicine and Hygiene",
            "Journal of Travel Medicine",
            "Parasite Immunology",
            "Nature",
            "Expert Systems with Applications",
            "The Lancet Infectious Diseases",
            "Entomologia Experimentalis et Applicata",
            "Tropical Medicine and International Health",
            "Journal of Eukaryotic Microbiology",
            "Transplantation Proceedings",
            "Vaccine",
            "Artificial Intelligence in Medicine",
            "Tetrahedron",
            "Vaccine",
            "Journal of the American Academy of Dermatology",
            "Journal of Essential Oil Research",
            "PLoS Medicine",
            "Marine Drugs",
            "undefined",
            "Corporate Governance",
            "undefined",
            "Journal of Ethnopharmacology",
            "Auris Nasus Larynx",
            "Human Mutation",
            "British Journal of Pharmacology",
            "Toxicological Sciences",
            "Filaria Journal",
            "Trends in Parasitology",
            "Radiology",
            "Journal of Internal Medicine",
            "Experimental and Molecular Pathology",
            "Cell",
            "Journal of Neurochemistry",
            "Biochimica et Biophysica Acta (BBA) - Lipids and Lipid Metabolism",
            "Infection",
            "Science",
            "Science",
            "Biochemical Journal",
            "The Journal of Infectious Diseases",
            "Journal of Essential Oil Research",
            "Journal of Archaeological Science",
            "Placenta",
            "Analytica Chimica Acta",
            "Clinical Pharmacology & Therapeutics",
            "Evolution and Human Behavior",
            "Journal of Virological Methods",
            "TrAC Trends in Analytical Chemistry",
            "Parasite Immunology",
            "Autoimmunity Reviews",
            "Future Microbiology",
            "Revista Brasileira de Farmacognosia",
            "Fisheries Research",
            "Marine Genomics",
            "Pharmaceutical Research",
            "Parasitology",
            "Le infezioni in medicina : rivista periodica di eziologia, epidemiologia, diagnostica, clinica e terapia delle patologie infettive",
            "undefined",
            "Science Signaling",
            "Journal of Analytical Psychology",
            "Jornal de Pediatria",
            "Emerging Infectious Diseases",
            "Molecular Ecology",
            "Vaccine",
            "Analytical Biochemistry",
            "Journal of Inorganic Biochemistry",
            "Pharmacogenetics and Genomics",
            "Vaccine",
            "Comptes Rendus Biologies",
            "Journal of Archaeological Science",
            "International Journal of Antimicrobial Agents",
            "undefined",
            "Studies in Ethics Law and Technology",
            "Global Jurist",
            "PLoS ONE",
            "Applied and Environmental Microbiology",
            "Disability and Rehabilitation",
            "The International Journal of Health Planning and Management",
            "Journal of Chemical Ecology",
            "Journal of Ethnopharmacology",
            "Reviews on Environmental Health",
            "The Journal of Membrane Biology",
            "Journal of NeuroVirology",
            "Journal of Clinical Virology",
            "International Journal for Parasitology",
            "International Journal of STD & AIDS",
            "Vaccine",
            "IUBMB Life",
            "Journal of Molecular Biology",
            "undefined",
            "undefined",
            "undefined",
            "Photochemical & Photobiological Sciences",
            "undefined",
            "undefined",
            "undefined",
            "undefined",
            "Cellular Physiology and Biochemistry",
            "undefined",
            "Mediterranean Journal of Hematology and Infectious Diseases",
            "undefined",
            "undefined",
            "undefined",
            "undefined",
            "undefined",
            "undefined",
            "undefined",
            "undefined",
            "undefined",
            "Cellular Physiology and Biochemistry",
            "undefined",
            "undefined",
            "Acta Haematologica",
            "undefined",
            "Medicinal Research Reviews",
            "International Journal of Osteoarchaeology",
            "undefined",
            "undefined",
            "undefined",
            "Blood Purification",
            "undefined",
            "undefined",
            "undefined",
            "undefined",
            "undefined",
            "undefined",
            "International Organizations Law Review",
            "World Journal of Gastroenterology",
            "undefined",
            "undefined",
            "Mediterranean Journal of Hematology and Infectious Diseases",
            "undefined",
            "undefined",
            "undefined",
            "Annales Nestlé (Ed española)",
            "Green Chemistry",
            "undefined",
            "undefined",
            "undefined",
            "Mediterranean Journal of Hematology and Infectious Diseases",
            "undefined",
            "International Organizations Law Review",
            "International Organizations Law Review",
            "Amphibia-Reptilia",
            "undefined",
            "PLoS ONE",
            "Genome Research",
            "Occupational Medicine",
            "Genome Biology",
            "Coordination Chemistry Reviews",
            "Malaria Journal",
            "Current Opinion in Infectious Diseases",
            "BMC Evolutionary Biology",
            "Food Policy",
            "European View",
            "BMC Evolutionary Biology",
            "Public Health Nutrition",
            "The American Journal of the Medical Sciences",
            "Genes & Immunity",
            "Bone",
            "Hepatology",
            "Autoimmunity Reviews",
            "Emerging Themes in Epidemiology",
            "Epilepsy Research",
            "Medical and Veterinary Entomology",
            "Clinical & Experimental Immunology",
            "Natural product communications",
            "Global Biogeochemical Cycles",
            "BMC Genomics",
            "Malaria Journal",
            "Malaria Journal",
            "Medical and Veterinary Entomology",
            "Parassitologia",
            "Le infezioni in medicina : rivista periodica di eziologia, epidemiologia, diagnostica, clinica e terapia delle patologie infettive",
            "Natural product communications",
            "BMC Genomics",
            "Malaria Journal",
            "BMC Public Health",
            "BMC Bioinformatics",
            "Natural product communications",
            "Malaria Journal",
            "Analytical and Bioanalytical Chemistry",
            "Current Biology",
            "Malaria Journal",
            "Parasite",
            "Public Health Nutrition",
            "Infection",
            "Phytothérapie",
            "Health Promotion International",
            "Molecules",
            "mSphere",
            "Journal of Chromatography B",
            "The FEBS Journal",
            "Vaccine",
            "Tropical Medicine and International Health",
            "Environmental Health Perspectives",
            "Small Ruminant Research",
            "Phytomedicine",
            "Cytokine",
            "International Journal of Infectious Diseases",
            "Natural Resources Forum",
            "Pesticide Biochemistry and Physiology",
            "Veterinary Parasitology",
            "Blood",
            "The Journal of Immunology",
            "mSphere",
            "Archives of Environmental Contamination and Toxicology",
            "Bioorganic & Medicinal Chemistry Letters",
            "Preventive Veterinary Medicine",
            "Wiener klinische Wochenschrift",
            "Vaccine",
            "Molecular and Biochemical Parasitology",
            "Chemosphere",
            "Hydrobiologia",
            "Journal of Organizational Behavior",
            "Fish & Shellfish Immunology",
            "Therapeutics and Clinical Risk Management",
            "Microbiologica",
            "Evolutionary Applications",
            "Food and Chemical Toxicology",
            "On the Horizon",
            "The Open AIDS Journal",
            "undefined",
            "Journal of Travel Medicine",
            "Journal of Travel Medicine",
            "Journal of Virology",
            "Journal of Eukaryotic Microbiology",
            "Journal of Affective Disorders",
            "Vaccine",
            "Reproductive Toxicology",
            "Clinical Practice",
            "Molecular Phylogenetics and Evolution",
            "Expert Opinion on Pharmacotherapy",
            "Food and Nutrition Bulletin",
            "Insect Biochemistry and Molecular Biology",
            "Reproductive Toxicology",
            "Trends in Parasitology",
            "Clinics in Chest Medicine",
            "Reproductive Toxicology",
            "Genetic Resources and Crop Evolution",
            "Acta Paediatrica",
            "Advances in Pediatrics",
            "Ethnobotany Research and Applications",
            "undefined",
            "PLoS ONE",
            "Corporate Governance",
            "Infection and Immunity",
            "Biophysical Journal",
            "Biochemical and Biophysical Research Communications",
            "Biotechnology Letters",
            "Parasitology Research",
            "Journal of the American Academy of Dermatology",
            "Reproductive Toxicology",
            "Diagnostic Microbiology and Infectious Disease",
            "Toxicology Letters",
            "Chemosphere",
            "Burns",
            "Molecular Pharmacology",
            "Tissue and Cell",
            "Prenatal Diagnosis",
            "Trends in Pharmacological Sciences",
            "European Journal of Protistology",
            "PLoS ONE",
            "Movement Disorders",
            "Journal of Antimicrobial Chemotherapy",
            "undefined",
            "The Journal of Immunology",
            "ChemMedChem",
            "Philosophical Transactions of The Royal Society A Mathematical Physical and Engineering Sciences",
            "Journal of Travel Medicine",
            "Scandinavian Journal of Immunology",
            "International Journal of Medical Microbiology",
            "Emerging Infectious Diseases",
            "Public Health Nutrition",
            "Emerging Infectious Diseases",
            "Journal of Neuroimmunology",
            "Immunology",
            "Proteins Structure Function and Bioinformatics",
            "Bone Marrow Transplantation",
            "Rendiconti Lincei. Scienze Fisiche e Naturali",
            "Journal of Archaeological Science",
            "Human Genetics",
            "Journal of Separation Science",
            "Travel Medicine and Infectious Disease",
            "Bioorganic & Medicinal Chemistry",
            "Human Gene Therapy",
            "Bioorganic & Medicinal Chemistry Letters",
            "Public Health Nutrition",
            "European Journal of Anaesthesiology",
            "undefined",
            "PLoS ONE",
            "PLoS Neglected Tropical Diseases",
            "ChemMedChem",
            "PLoS ONE",
            "Cellular & Molecular Immunology",
            "Proteomics",
            "Molecular Aspects of Medicine",
            "Parassitologia",
            "Journal of Inherited Metabolic Disease",
            "Parassitologia",
            "Parassitologia",
            "Vaccine",
            "Parassitologia",
            "Autoimmunity Reviews",
            "Cellular and Molecular Life Sciences",
            "Statistica",
            "Vaccine",
            "Environmental and Molecular Mutagenesis"
           ]
          },
          {
           "axis": {
            "matches": true
           },
           "label": "type",
           "values": [
            "article",
            "chapter",
            "article",
            "article",
            "article",
            "chapter",
            "article",
            "article",
            "article",
            "article",
            "article",
            "article",
            "article",
            "article",
            "article",
            "article",
            "article",
            "article",
            "article",
            "article",
            "article",
            "article",
            "article",
            "article",
            "article",
            "article",
            "article",
            "article",
            "article",
            "article",
            "article",
            "article",
            "article",
            "article",
            "article",
            "article",
            "article",
            "article",
            "article",
            "article",
            "article",
            "article",
            "article",
            "article",
            "article",
            "article",
            "article",
            "article",
            "article",
            "article",
            "article",
            "article",
            "article",
            "article",
            "article",
            "article",
            "article",
            "article",
            "article",
            "article",
            "article",
            "article",
            "article",
            "article",
            "article",
            "article",
            "article",
            "article",
            "article",
            "article",
            "article",
            "article",
            "article",
            "article",
            "article",
            "article",
            "article",
            "article",
            "chapter",
            "article",
            "chapter",
            "article",
            "article",
            "article",
            "article",
            "article",
            "article",
            "article",
            "article",
            "article",
            "article",
            "article",
            "article",
            "article",
            "article",
            "article",
            "article",
            "article",
            "article",
            "article",
            "article",
            "chapter",
            "article",
            "chapter",
            "article",
            "article",
            "article",
            "article",
            "article",
            "article",
            "article",
            "article",
            "article",
            "article",
            "article",
            "article",
            "article",
            "article",
            "article",
            "article",
            "article",
            "article",
            "article",
            "article",
            "article",
            "article",
            "article",
            "article",
            "chapter",
            "article",
            "article",
            "article",
            "article",
            "article",
            "article",
            "article",
            "article",
            "article",
            "article",
            "article",
            "chapter",
            "article",
            "article",
            "article",
            "article",
            "article",
            "article",
            "article",
            "article",
            "article",
            "article",
            "article",
            "article",
            "article",
            "article",
            "article",
            "article",
            "article",
            "article",
            "article",
            "article",
            "article",
            "article",
            "article",
            "article",
            "article",
            "article",
            "article",
            "article",
            "article",
            "article",
            "article",
            "article",
            "article",
            "article",
            "article",
            "article",
            "article",
            "article",
            "article",
            "article",
            "article",
            "article",
            "article",
            "article",
            "article",
            "article",
            "article",
            "article",
            "article",
            "article",
            "article",
            "article",
            "article",
            "article",
            "article",
            "article",
            "article",
            "article",
            "article",
            "article",
            "article",
            "article",
            "article",
            "article",
            "article",
            "article",
            "article",
            "article",
            "article",
            "article",
            "chapter",
            "article",
            "chapter",
            "article",
            "article",
            "article",
            "article",
            "article",
            "article",
            "article",
            "article",
            "article",
            "article",
            "article",
            "article",
            "article",
            "article",
            "article",
            "article",
            "article",
            "article",
            "article",
            "article",
            "article",
            "article",
            "article",
            "article",
            "article",
            "article",
            "article",
            "article",
            "article",
            "article",
            "article",
            "article",
            "article",
            "article",
            "article",
            "chapter",
            "article",
            "article",
            "article",
            "article",
            "article",
            "article",
            "article",
            "article",
            "article",
            "article",
            "article",
            "article",
            "article",
            "chapter",
            "article",
            "article",
            "article",
            "article",
            "article",
            "article",
            "article",
            "article",
            "article",
            "article",
            "article",
            "article",
            "article",
            "article",
            "article",
            "article",
            "article",
            "chapter",
            "chapter",
            "proceeding",
            "article",
            "chapter",
            "chapter",
            "chapter",
            "chapter",
            "article",
            "chapter",
            "article",
            "chapter",
            "chapter",
            "chapter",
            "chapter",
            "chapter",
            "monograph",
            "chapter",
            "chapter",
            "chapter",
            "article",
            "chapter",
            "chapter",
            "article",
            "chapter",
            "article",
            "article",
            "chapter",
            "chapter",
            "chapter",
            "article",
            "chapter",
            "chapter",
            "chapter",
            "chapter",
            "chapter",
            "chapter",
            "article",
            "article",
            "chapter",
            "chapter",
            "article",
            "chapter",
            "chapter",
            "chapter",
            "article",
            "article",
            "chapter",
            "chapter",
            "chapter",
            "article",
            "chapter",
            "article",
            "article",
            "article",
            "chapter",
            "article",
            "article",
            "article",
            "article",
            "article",
            "article",
            "article",
            "article",
            "article",
            "article",
            "article",
            "article",
            "article",
            "article",
            "article",
            "article",
            "article",
            "article",
            "article",
            "article",
            "article",
            "article",
            "article",
            "article",
            "article",
            "article",
            "article",
            "article",
            "article",
            "article",
            "article",
            "article",
            "article",
            "article",
            "article",
            "article",
            "article",
            "article",
            "article",
            "article",
            "article",
            "article",
            "article",
            "article",
            "article",
            "article",
            "article",
            "article",
            "article",
            "article",
            "article",
            "article",
            "article",
            "article",
            "article",
            "article",
            "article",
            "article",
            "article",
            "article",
            "article",
            "article",
            "article",
            "article",
            "article",
            "article",
            "article",
            "article",
            "article",
            "article",
            "article",
            "article",
            "article",
            "article",
            "article",
            "article",
            "article",
            "chapter",
            "article",
            "article",
            "article",
            "article",
            "article",
            "article",
            "article",
            "article",
            "article",
            "article",
            "article",
            "article",
            "article",
            "article",
            "article",
            "article",
            "article",
            "article",
            "article",
            "article",
            "chapter",
            "article",
            "article",
            "article",
            "article",
            "article",
            "article",
            "article",
            "article",
            "article",
            "article",
            "article",
            "article",
            "article",
            "article",
            "article",
            "article",
            "article",
            "article",
            "article",
            "article",
            "article",
            "chapter",
            "article",
            "article",
            "article",
            "article",
            "article",
            "article",
            "article",
            "article",
            "article",
            "article",
            "article",
            "article",
            "article",
            "article",
            "article",
            "article",
            "article",
            "article",
            "article",
            "article",
            "article",
            "article",
            "article",
            "chapter",
            "article",
            "article",
            "article",
            "article",
            "article",
            "article",
            "article",
            "article",
            "article",
            "article",
            "article",
            "article",
            "article",
            "article",
            "article",
            "article",
            "article",
            "article"
           ]
          },
          {
           "axis": {
            "matches": true
           },
           "label": "year",
           "values": [
            2009,
            2009,
            2009,
            2009,
            2009,
            2009,
            2009,
            2009,
            2009,
            2009,
            2009,
            2009,
            2009,
            2009,
            2009,
            2009,
            2009,
            2009,
            2009,
            2009,
            2009,
            2009,
            2009,
            2009,
            2009,
            2009,
            2009,
            2009,
            2009,
            2009,
            2009,
            2009,
            2009,
            2009,
            2009,
            2009,
            2009,
            2009,
            2009,
            2009,
            2009,
            2009,
            2009,
            2009,
            2009,
            2009,
            2009,
            2009,
            2009,
            2009,
            2009,
            2009,
            2009,
            2009,
            2009,
            2009,
            2009,
            2009,
            2009,
            2009,
            2009,
            2009,
            2009,
            2009,
            2009,
            2009,
            2009,
            2009,
            2009,
            2009,
            2009,
            2009,
            2009,
            2009,
            2009,
            2009,
            2009,
            2009,
            2009,
            2009,
            2009,
            2009,
            2009,
            2009,
            2009,
            2009,
            2009,
            2009,
            2009,
            2009,
            2009,
            2009,
            2009,
            2009,
            2009,
            2009,
            2009,
            2009,
            2009,
            2009,
            2009,
            2009,
            2009,
            2009,
            2009,
            2009,
            2009,
            2009,
            2009,
            2009,
            2009,
            2009,
            2009,
            2009,
            2009,
            2009,
            2009,
            2009,
            2009,
            2009,
            2009,
            2009,
            2009,
            2009,
            2009,
            2009,
            2009,
            2009,
            2009,
            2009,
            2009,
            2009,
            2009,
            2009,
            2009,
            2009,
            2009,
            2009,
            2009,
            2009,
            2009,
            2009,
            2009,
            2009,
            2009,
            2009,
            2009,
            2009,
            2009,
            2009,
            2009,
            2009,
            2009,
            2009,
            2009,
            2009,
            2009,
            2009,
            2009,
            2009,
            2009,
            2009,
            2009,
            2009,
            2009,
            2009,
            2009,
            2009,
            2009,
            2009,
            2009,
            2009,
            2009,
            2009,
            2009,
            2009,
            2009,
            2009,
            2009,
            2009,
            2009,
            2009,
            2009,
            2009,
            2009,
            2009,
            2009,
            2009,
            2009,
            2009,
            2009,
            2009,
            2009,
            2009,
            2009,
            2009,
            2009,
            2009,
            2009,
            2009,
            2009,
            2009,
            2009,
            2009,
            2009,
            2009,
            2009,
            2009,
            2009,
            2009,
            2009,
            2009,
            2009,
            2009,
            2009,
            2009,
            2009,
            2009,
            2009,
            2009,
            2009,
            2009,
            2009,
            2009,
            2009,
            2009,
            2009,
            2009,
            2009,
            2009,
            2009,
            2009,
            2009,
            2009,
            2009,
            2009,
            2009,
            2009,
            2009,
            2009,
            2009,
            2009,
            2009,
            2009,
            2009,
            2009,
            2009,
            2009,
            2009,
            2009,
            2009,
            2009,
            2009,
            2009,
            2009,
            2009,
            2009,
            2009,
            2009,
            2009,
            2009,
            2009,
            2009,
            2009,
            2009,
            2009,
            2009,
            2009,
            2009,
            2009,
            2009,
            2009,
            2009,
            2009,
            2009,
            2009,
            2009,
            2009,
            2009,
            2009,
            2009,
            2009,
            2009,
            2009,
            2009,
            2009,
            2009,
            2009,
            2009,
            2009,
            2009,
            2009,
            2009,
            2009,
            2009,
            2009,
            2009,
            2009,
            2009,
            2009,
            2009,
            2009,
            2009,
            2009,
            2009,
            2009,
            2009,
            2009,
            2009,
            2009,
            2009,
            2009,
            2009,
            2009,
            2009,
            2009,
            2009,
            2009,
            2009,
            2009,
            2009,
            2009,
            2009,
            2009,
            2009,
            2009,
            2009,
            2009,
            2009,
            2009,
            2009,
            2009,
            2009,
            2009,
            2009,
            2009,
            2009,
            2008,
            2008,
            2008,
            2008,
            2008,
            2008,
            2008,
            2008,
            2008,
            2008,
            2008,
            2008,
            2008,
            2008,
            2008,
            2008,
            2008,
            2008,
            2008,
            2008,
            2008,
            2008,
            2008,
            2008,
            2008,
            2008,
            2008,
            2008,
            2008,
            2008,
            2008,
            2008,
            2008,
            2008,
            2008,
            2008,
            2008,
            2008,
            2008,
            2008,
            2008,
            2008,
            2008,
            2008,
            2008,
            2008,
            2008,
            2008,
            2008,
            2008,
            2008,
            2008,
            2008,
            2008,
            2008,
            2008,
            2008,
            2008,
            2008,
            2008,
            2008,
            2008,
            2008,
            2008,
            2008,
            2008,
            2008,
            2008,
            2008,
            2008,
            2008,
            2008,
            2008,
            2008,
            2008,
            2008,
            2008,
            2008,
            2008,
            2008,
            2008,
            2008,
            2008,
            2008,
            2008,
            2008,
            2008,
            2008,
            2008,
            2008,
            2008,
            2008,
            2008,
            2008,
            2008,
            2008,
            2008,
            2008,
            2008,
            2008,
            2008,
            2008,
            2008,
            2008,
            2008,
            2008,
            2008,
            2008,
            2008,
            2008,
            2008,
            2008,
            2008,
            2008,
            2008,
            2008,
            2008,
            2008,
            2008,
            2008,
            2008,
            2008,
            2008,
            2008,
            2008,
            2008,
            2008,
            2008,
            2008,
            2008,
            2008,
            2008,
            2008,
            2008,
            2008,
            2008,
            2008,
            2008,
            2008,
            2008,
            2008,
            2008,
            2008,
            2008,
            2008,
            2008,
            2008,
            2008,
            2008,
            2008,
            2008,
            2008,
            2008,
            2008,
            2008,
            2008,
            2008,
            2008,
            2008,
            2008,
            2008,
            2008,
            2008
           ]
          }
         ],
         "hoverlabel": {
          "namelength": 0
         },
         "hovertemplate": "%{xaxis.title.text}=%{x}<br>%{yaxis.title.text}=%{y}",
         "legendgroup": "",
         "marker": {
          "color": "#636efa",
          "symbol": "circle"
         },
         "name": "",
         "showlegend": false,
         "type": "splom",
         "uid": "d9aef8ca-075f-4eed-ae7e-0c3b2a4d70c4"
        }
       ],
       "layout": {
        "autosize": true,
        "dragmode": "select",
        "legend": {
         "tracegroupgap": 0
        },
        "margin": {
         "t": 60
        },
        "template": {
         "data": {
          "bar": [
           {
            "marker": {
             "line": {
              "color": "#E5ECF6",
              "width": 0.5
             }
            },
            "type": "bar"
           }
          ],
          "barpolar": [
           {
            "marker": {
             "line": {
              "color": "#E5ECF6",
              "width": 0.5
             }
            },
            "type": "barpolar"
           }
          ],
          "carpet": [
           {
            "aaxis": {
             "endlinecolor": "#2a3f5f",
             "gridcolor": "white",
             "linecolor": "white",
             "minorgridcolor": "white",
             "startlinecolor": "#2a3f5f"
            },
            "baxis": {
             "endlinecolor": "#2a3f5f",
             "gridcolor": "white",
             "linecolor": "white",
             "minorgridcolor": "white",
             "startlinecolor": "#2a3f5f"
            },
            "type": "carpet"
           }
          ],
          "choropleth": [
           {
            "colorbar": {
             "outlinewidth": 0,
             "ticks": ""
            },
            "type": "choropleth"
           }
          ],
          "contour": [
           {
            "colorbar": {
             "outlinewidth": 0,
             "ticks": ""
            },
            "colorscale": [
             [
              0,
              "#0508b8"
             ],
             [
              0.0893854748603352,
              "#1910d8"
             ],
             [
              0.1787709497206704,
              "#3c19f0"
             ],
             [
              0.2681564245810056,
              "#6b1cfb"
             ],
             [
              0.3575418994413408,
              "#981cfd"
             ],
             [
              0.44692737430167595,
              "#bf1cfd"
             ],
             [
              0.5363128491620112,
              "#dd2bfd"
             ],
             [
              0.6256983240223464,
              "#f246fe"
             ],
             [
              0.7150837988826816,
              "#fc67fd"
             ],
             [
              0.8044692737430168,
              "#fe88fc"
             ],
             [
              0.8938547486033519,
              "#fea5fd"
             ],
             [
              0.9832402234636871,
              "#febefe"
             ],
             [
              1,
              "#fec3fe"
             ]
            ],
            "type": "contour"
           }
          ],
          "contourcarpet": [
           {
            "colorbar": {
             "outlinewidth": 0,
             "ticks": ""
            },
            "type": "contourcarpet"
           }
          ],
          "heatmap": [
           {
            "colorbar": {
             "outlinewidth": 0,
             "ticks": ""
            },
            "colorscale": [
             [
              0,
              "#0508b8"
             ],
             [
              0.0893854748603352,
              "#1910d8"
             ],
             [
              0.1787709497206704,
              "#3c19f0"
             ],
             [
              0.2681564245810056,
              "#6b1cfb"
             ],
             [
              0.3575418994413408,
              "#981cfd"
             ],
             [
              0.44692737430167595,
              "#bf1cfd"
             ],
             [
              0.5363128491620112,
              "#dd2bfd"
             ],
             [
              0.6256983240223464,
              "#f246fe"
             ],
             [
              0.7150837988826816,
              "#fc67fd"
             ],
             [
              0.8044692737430168,
              "#fe88fc"
             ],
             [
              0.8938547486033519,
              "#fea5fd"
             ],
             [
              0.9832402234636871,
              "#febefe"
             ],
             [
              1,
              "#fec3fe"
             ]
            ],
            "type": "heatmap"
           }
          ],
          "heatmapgl": [
           {
            "colorbar": {
             "outlinewidth": 0,
             "ticks": ""
            },
            "type": "heatmapgl"
           }
          ],
          "histogram": [
           {
            "marker": {
             "colorbar": {
              "outlinewidth": 0,
              "ticks": ""
             }
            },
            "type": "histogram"
           }
          ],
          "histogram2d": [
           {
            "colorbar": {
             "outlinewidth": 0,
             "ticks": ""
            },
            "colorscale": [
             [
              0,
              "#0508b8"
             ],
             [
              0.0893854748603352,
              "#1910d8"
             ],
             [
              0.1787709497206704,
              "#3c19f0"
             ],
             [
              0.2681564245810056,
              "#6b1cfb"
             ],
             [
              0.3575418994413408,
              "#981cfd"
             ],
             [
              0.44692737430167595,
              "#bf1cfd"
             ],
             [
              0.5363128491620112,
              "#dd2bfd"
             ],
             [
              0.6256983240223464,
              "#f246fe"
             ],
             [
              0.7150837988826816,
              "#fc67fd"
             ],
             [
              0.8044692737430168,
              "#fe88fc"
             ],
             [
              0.8938547486033519,
              "#fea5fd"
             ],
             [
              0.9832402234636871,
              "#febefe"
             ],
             [
              1,
              "#fec3fe"
             ]
            ],
            "type": "histogram2d"
           }
          ],
          "histogram2dcontour": [
           {
            "colorbar": {
             "outlinewidth": 0,
             "ticks": ""
            },
            "colorscale": [
             [
              0,
              "#0508b8"
             ],
             [
              0.0893854748603352,
              "#1910d8"
             ],
             [
              0.1787709497206704,
              "#3c19f0"
             ],
             [
              0.2681564245810056,
              "#6b1cfb"
             ],
             [
              0.3575418994413408,
              "#981cfd"
             ],
             [
              0.44692737430167595,
              "#bf1cfd"
             ],
             [
              0.5363128491620112,
              "#dd2bfd"
             ],
             [
              0.6256983240223464,
              "#f246fe"
             ],
             [
              0.7150837988826816,
              "#fc67fd"
             ],
             [
              0.8044692737430168,
              "#fe88fc"
             ],
             [
              0.8938547486033519,
              "#fea5fd"
             ],
             [
              0.9832402234636871,
              "#febefe"
             ],
             [
              1,
              "#fec3fe"
             ]
            ],
            "type": "histogram2dcontour"
           }
          ],
          "mesh3d": [
           {
            "colorbar": {
             "outlinewidth": 0,
             "ticks": ""
            },
            "type": "mesh3d"
           }
          ],
          "parcoords": [
           {
            "line": {
             "colorbar": {
              "outlinewidth": 0,
              "ticks": ""
             }
            },
            "type": "parcoords"
           }
          ],
          "scatter": [
           {
            "marker": {
             "colorbar": {
              "outlinewidth": 0,
              "ticks": ""
             }
            },
            "type": "scatter"
           }
          ],
          "scatter3d": [
           {
            "marker": {
             "colorbar": {
              "outlinewidth": 0,
              "ticks": ""
             }
            },
            "type": "scatter3d"
           }
          ],
          "scattercarpet": [
           {
            "marker": {
             "colorbar": {
              "outlinewidth": 0,
              "ticks": ""
             }
            },
            "type": "scattercarpet"
           }
          ],
          "scattergeo": [
           {
            "marker": {
             "colorbar": {
              "outlinewidth": 0,
              "ticks": ""
             }
            },
            "type": "scattergeo"
           }
          ],
          "scattergl": [
           {
            "marker": {
             "colorbar": {
              "outlinewidth": 0,
              "ticks": ""
             }
            },
            "type": "scattergl"
           }
          ],
          "scattermapbox": [
           {
            "marker": {
             "colorbar": {
              "outlinewidth": 0,
              "ticks": ""
             }
            },
            "type": "scattermapbox"
           }
          ],
          "scatterpolar": [
           {
            "marker": {
             "colorbar": {
              "outlinewidth": 0,
              "ticks": ""
             }
            },
            "type": "scatterpolar"
           }
          ],
          "scatterpolargl": [
           {
            "marker": {
             "colorbar": {
              "outlinewidth": 0,
              "ticks": ""
             }
            },
            "type": "scatterpolargl"
           }
          ],
          "scatterternary": [
           {
            "marker": {
             "colorbar": {
              "outlinewidth": 0,
              "ticks": ""
             }
            },
            "type": "scatterternary"
           }
          ],
          "surface": [
           {
            "colorbar": {
             "outlinewidth": 0,
             "ticks": ""
            },
            "type": "surface"
           }
          ],
          "table": [
           {
            "cells": {
             "fill": {
              "color": "#EBF0F8"
             },
             "line": {
              "color": "white"
             }
            },
            "header": {
             "fill": {
              "color": "#C8D4E3"
             },
             "line": {
              "color": "white"
             }
            },
            "type": "table"
           }
          ]
         },
         "layout": {
          "annotationdefaults": {
           "arrowcolor": "#506784",
           "arrowhead": 0,
           "arrowwidth": 1
          },
          "colorscale": {
           "diverging": [
            [
             0,
             "#8e0152"
            ],
            [
             0.1,
             "#c51b7d"
            ],
            [
             0.2,
             "#de77ae"
            ],
            [
             0.3,
             "#f1b6da"
            ],
            [
             0.4,
             "#fde0ef"
            ],
            [
             0.5,
             "#f7f7f7"
            ],
            [
             0.6,
             "#e6f5d0"
            ],
            [
             0.7,
             "#b8e186"
            ],
            [
             0.8,
             "#7fbc41"
            ],
            [
             0.9,
             "#4d9221"
            ],
            [
             1,
             "#276419"
            ]
           ],
           "sequential": [
            [
             0,
             "#0508b8"
            ],
            [
             0.0893854748603352,
             "#1910d8"
            ],
            [
             0.1787709497206704,
             "#3c19f0"
            ],
            [
             0.2681564245810056,
             "#6b1cfb"
            ],
            [
             0.3575418994413408,
             "#981cfd"
            ],
            [
             0.44692737430167595,
             "#bf1cfd"
            ],
            [
             0.5363128491620112,
             "#dd2bfd"
            ],
            [
             0.6256983240223464,
             "#f246fe"
            ],
            [
             0.7150837988826816,
             "#fc67fd"
            ],
            [
             0.8044692737430168,
             "#fe88fc"
            ],
            [
             0.8938547486033519,
             "#fea5fd"
            ],
            [
             0.9832402234636871,
             "#febefe"
            ],
            [
             1,
             "#fec3fe"
            ]
           ],
           "sequentialminus": [
            [
             0,
             "#0508b8"
            ],
            [
             0.0893854748603352,
             "#1910d8"
            ],
            [
             0.1787709497206704,
             "#3c19f0"
            ],
            [
             0.2681564245810056,
             "#6b1cfb"
            ],
            [
             0.3575418994413408,
             "#981cfd"
            ],
            [
             0.44692737430167595,
             "#bf1cfd"
            ],
            [
             0.5363128491620112,
             "#dd2bfd"
            ],
            [
             0.6256983240223464,
             "#f246fe"
            ],
            [
             0.7150837988826816,
             "#fc67fd"
            ],
            [
             0.8044692737430168,
             "#fe88fc"
            ],
            [
             0.8938547486033519,
             "#fea5fd"
            ],
            [
             0.9832402234636871,
             "#febefe"
            ],
            [
             1,
             "#fec3fe"
            ]
           ]
          },
          "colorway": [
           "#636efa",
           "#EF553B",
           "#00cc96",
           "#ab63fa",
           "#19d3f3",
           "#e763fa",
           "#FECB52",
           "#FFA15A",
           "#FF6692",
           "#B6E880"
          ],
          "font": {
           "color": "#2a3f5f"
          },
          "geo": {
           "bgcolor": "white",
           "lakecolor": "white",
           "landcolor": "#E5ECF6",
           "showlakes": true,
           "showland": true,
           "subunitcolor": "white"
          },
          "hoverlabel": {
           "align": "left"
          },
          "hovermode": "closest",
          "mapbox": {
           "style": "light"
          },
          "paper_bgcolor": "white",
          "plot_bgcolor": "#E5ECF6",
          "polar": {
           "angularaxis": {
            "gridcolor": "white",
            "linecolor": "white",
            "ticks": ""
           },
           "bgcolor": "#E5ECF6",
           "radialaxis": {
            "gridcolor": "white",
            "linecolor": "white",
            "ticks": ""
           }
          },
          "scene": {
           "xaxis": {
            "backgroundcolor": "#E5ECF6",
            "gridcolor": "white",
            "gridwidth": 2,
            "linecolor": "white",
            "showbackground": true,
            "ticks": "",
            "zerolinecolor": "white"
           },
           "yaxis": {
            "backgroundcolor": "#E5ECF6",
            "gridcolor": "white",
            "gridwidth": 2,
            "linecolor": "white",
            "showbackground": true,
            "ticks": "",
            "zerolinecolor": "white"
           },
           "zaxis": {
            "backgroundcolor": "#E5ECF6",
            "gridcolor": "white",
            "gridwidth": 2,
            "linecolor": "white",
            "showbackground": true,
            "ticks": "",
            "zerolinecolor": "white"
           }
          },
          "shapedefaults": {
           "fillcolor": "#506784",
           "line": {
            "width": 0
           },
           "opacity": 0.4
          },
          "ternary": {
           "aaxis": {
            "gridcolor": "white",
            "linecolor": "white",
            "ticks": ""
           },
           "baxis": {
            "gridcolor": "white",
            "linecolor": "white",
            "ticks": ""
           },
           "bgcolor": "#E5ECF6",
           "caxis": {
            "gridcolor": "white",
            "linecolor": "white",
            "ticks": ""
           }
          },
          "title": {
           "x": 0.05
          },
          "xaxis": {
           "automargin": true,
           "gridcolor": "white",
           "linecolor": "white",
           "ticks": "",
           "zerolinecolor": "white",
           "zerolinewidth": 2
          },
          "yaxis": {
           "automargin": true,
           "gridcolor": "white",
           "linecolor": "white",
           "ticks": "",
           "zerolinecolor": "white",
           "zerolinewidth": 2
          }
         }
        },
        "xaxis": {
         "autorange": true,
         "range": [
          -33.987573577501635,
          347.9875735775016
         ],
         "type": "category"
        },
        "xaxis2": {
         "autorange": true,
         "range": [
          -0.3247220405493787,
          3.3247220405493785
         ],
         "type": "category"
        },
        "xaxis3": {
         "autorange": true,
         "range": [
          2007.8917593198169,
          2009.1082406801831
         ],
         "type": "linear"
        },
        "yaxis": {
         "autorange": true,
         "range": [
          -33.987573577501635,
          347.9875735775016
         ],
         "type": "category"
        },
        "yaxis2": {
         "autorange": true,
         "range": [
          -0.3247220405493787,
          3.3247220405493785
         ],
         "type": "category"
        },
        "yaxis3": {
         "autorange": true,
         "range": [
          2007.8917593198169,
          2009.1082406801831
         ],
         "type": "linear"
        }
       }
      },
      "image/png": "[encoded data removed]",
      "text/html": [
       "<div>\n",
       "        \n",
       "        \n",
       "            <div id=\"15414fc7-c00d-4a36-87f6-374e5d940639\" class=\"plotly-graph-div\" style=\"height:600px; width:100%;\"></div>\n",
       "            <script type=\"text/javascript\">\n",
       "                require([\"plotly\"], function(Plotly) {\n",
       "                    window.PLOTLYENV=window.PLOTLYENV || {};\n",
       "                    window.PLOTLYENV.BASE_URL='https://plot.ly';\n",
       "                    \n",
       "                if (document.getElementById(\"15414fc7-c00d-4a36-87f6-374e5d940639\")) {\n",
       "                    Plotly.newPlot(\n",
       "                        '15414fc7-c00d-4a36-87f6-374e5d940639',\n",
       "                        [{\"dimensions\": [{\"axis\": {\"matches\": true}, \"label\": \"journal.title\", \"values\": [\"Fragmenta entomologica\", \"undefined\", \"PLoS Biology\", \"PLoS ONE\", \"ChemMedChem\", \"undefined\", \"ChemMedChem\", \"FEBS Letters\", \"Malaria Journal\", \"BMC Ecology\", \"Food Security\", \"Environmental Microbiology\", \"Evidence-Based Child Health A Cochrane Review Journal\", \"Journal of Mathematical Analysis and Applications\", \"Natural product communications\", \"Malaria Journal\", \"Malaria Journal\", \"BMC Medical Informatics and Decision Making\", \"BMC Evolutionary Biology\", \"Glia\", \"Biological Invasions\", \"Clinical Biochemistry\", \"Clinics in Chest Medicine\", \"BMC Genomics\", \"Malaria Journal\", \"Cases Journal\", \"Health Research Policy and Systems\", \"Malaria Journal\", \"Evidence-Based Child Health A Cochrane Review Journal\", \"Seminars in Cancer Biology\", \"Journal of Infection\", \"BMC Research Notes\", \"Genetic Testing and Molecular Biomarkers\", \"Pathogens and Global Health\", \"Paediatrics and Child Health\", \"Clinical & Experimental Immunology\", \"Genes & Immunity\", \"Journal of Ethnobiology and Ethnomedicine\", \"Aging Clinical and Experimental Research\", \"Vector-Borne and Zoonotic Diseases\", \"Malaria Journal\", \"International Journal for Equity in Health\", \"BMC Pregnancy and Childbirth\", \"Natural product communications\", \"Natural product communications\", \"International Journal of Health Geographics\", \"Journal of Ethnobiology and Ethnomedicine\", \"Prenatal Diagnosis\", \"Journal of Molecular Evolution\", \"Chromatographia\", \"Ophthalmic Epidemiology\", \"BMC Ecology\", \"Diagnostic Pathology\", \"Journal of Inherited Metabolic Disease\", \"BMC Genomics\", \"Toxicon\", \"Natural product communications\", \"Malaria Journal\", \"PLoS ONE\", \"Journal of Reproductive Immunology\", \"Parasitology Research\", \"Mutation Research/Fundamental and Molecular Mechanisms of Mutagenesis\", \"The Journal of Heart and Lung Transplantation\", \"Human Immunology\", \"Journal of Ethnopharmacology\", \"Evolutionary Applications\", \"Journal of Clinical Ultrasound\", \"The FEBS Journal\", \"Radio Graphics\", \"Data & Knowledge Engineering\", \"Nature Reviews Nephrology\", \"Cell and Tissue Banking\", \"Proteomics Clinical Applications\", \"Molecular Ecology\", \"Desalination\", \"Comptes Rendus Physique\", \"Medical Hypotheses\", \"EFSA Supporting Publications\", \"undefined\", \"Journal of Intellectual Capital\", \"undefined\", \"PLoS ONE\", \"Antimicrobial Agents and Chemotherapy\", \"The Journal of Immunology\", \"Human Reproduction\", \"Expert Review of Vaccines\", \"The International Journal of Tuberculosis and Lung Disease\", \"Cancer Gene Therapy\", \"Food Chemistry\", \"Child and Adolescent Psychiatric Clinics of North America\", \"International Journal of Immunopathology and Pharmacology\", \"Revista chilena de infectolog\\u00eda\", \"European Journal of Gastroenterology & Hepatology\", \"Genes & Immunity\", \"Tropical Medicine and International Health\", \"Tetrahedron Letters\", \"Journal of Pharmaceutical Sciences\", \"Investigational New Drugs\", \"Physiological Reviews\", \"British Journal of Cancer\", \"Veterinary Parasitology\", \"undefined\", \"PLoS ONE\", \"undefined\", \"Journal of Travel Medicine\", \"Pediatric Blood & Cancer\", \"Microbes and Infection\", \"Biodiversity\", \"The International Journal of Artificial Organs\", \"Bioorganic & Medicinal Chemistry\", \"Journal of Animal Ecology\", \"Experimental Hematology\", \"European Journal of Clinical Microbiology & Infectious Diseases\", \"Parasite\", \"Le infezioni in medicina : rivista periodica di eziologia, epidemiologia, diagnostica, clinica e terapia delle patologie infettive\", \"Human Genetics\", \"Heart and Vessels\", \"Journal of Ethnopharmacology\", \"Biochimica et Biophysica Acta (BBA) - Lipids and Lipid Metabolism\", \"Medical and Veterinary Entomology\", \"Politische Vierteljahresschrift\", \"Emerging Infectious Diseases\", \"Molecular Immunology\", \"Tumori Journal\", \"Emergency Care Journal\", \"Journal of Biological Chemistry\", \"European Journal of Histochemistry\", \"Proceedings of the National Academy of Sciences\", \"undefined\", \"Clinical Microbiology and Infection\", \"Journal of Theoretical Biology\", \"Nonlinear Analysis Real World Applications\", \"European Journal of Immunology\", \"Journal of Medicine and the Person\", \"Analytical and Bioanalytical Chemistry\", \"The Indian Journal of Medical Research\", \"Veterinary Parasitology\", \"Nucleic Acids Research\", \"Cellular Microbiology\", \"Clinical Therapeutics\", \"undefined\", \"ChemMedChem\", \"Biotechnology Advances\", \"Molecular Microbiology\", \"Nature\", \"Human Mutation\", \"Journal of Family History\", \"Parasitology\", \"IEEE/ACM Transactions on Computational Biology and Bioinformatics\", \"The American Journal of Human Genetics\", \"The FEBS Journal\", \"Infection Genetics and Evolution\", \"Acta Tropica\", \"Ecological Modelling\", \"European Journal of Medicinal Chemistry\", \"Emerging Infectious Diseases\", \"Mem\\u00f3rias do Instituto Oswaldo Cruz\", \"Journal of Ethnopharmacology\", \"Gene\", \"Gene\", \"Journal of Ethnopharmacology\", \"Insect Biochemistry and Molecular Biology\", \"Acta Neurologica Scandinavica\", \"Fitoterapia\", \"Journal of Investigative Dermatology\", \"mSphere\", \"Anthropologischer Anzeiger\", \"Chemosphere\", \"Revista de Nutri\\u00e7\\u00e3o\", \"Drug Discovery Today\", \"International Journal of Immunogenetics\", \"Nature Genetics\", \"Heredity\", \"Population and Development Review\", \"Experimental and Applied Acarology\", \"Vaccine\", \"Infectious Disease Clinics of North America\", \"American Journal of Hematology\", \"The British Journal for the History of Science\", \"Transplant Infectious Disease\", \"Experimental and Applied Acarology\", \"European Journal of Political Economy\", \"Therapeutic Drug Monitoring\", \"Neuroscience\", \"The Lancet Infectious Diseases\", \"Indoor and Built Environment\", \"Vaccine\", \"Journal of Applied Microbiology\", \"Gastroenterology\", \"Vaccine\", \"Science\", \"Applied and Environmental Microbiology\", \"Clinical Infectious Diseases\", \"American Journal of Tropical Medicine and Hygiene\", \"Journal of Travel Medicine\", \"Parasite Immunology\", \"Nature\", \"Expert Systems with Applications\", \"The Lancet Infectious Diseases\", \"Entomologia Experimentalis et Applicata\", \"Tropical Medicine and International Health\", \"Journal of Eukaryotic Microbiology\", \"Transplantation Proceedings\", \"Vaccine\", \"Artificial Intelligence in Medicine\", \"Tetrahedron\", \"Vaccine\", \"Journal of the American Academy of Dermatology\", \"Journal of Essential Oil Research\", \"PLoS Medicine\", \"Marine Drugs\", \"undefined\", \"Corporate Governance\", \"undefined\", \"Journal of Ethnopharmacology\", \"Auris Nasus Larynx\", \"Human Mutation\", \"British Journal of Pharmacology\", \"Toxicological Sciences\", \"Filaria Journal\", \"Trends in Parasitology\", \"Radiology\", \"Journal of Internal Medicine\", \"Experimental and Molecular Pathology\", \"Cell\", \"Journal of Neurochemistry\", \"Biochimica et Biophysica Acta (BBA) - Lipids and Lipid Metabolism\", \"Infection\", \"Science\", \"Science\", \"Biochemical Journal\", \"The Journal of Infectious Diseases\", \"Journal of Essential Oil Research\", \"Journal of Archaeological Science\", \"Placenta\", \"Analytica Chimica Acta\", \"Clinical Pharmacology & Therapeutics\", \"Evolution and Human Behavior\", \"Journal of Virological Methods\", \"TrAC Trends in Analytical Chemistry\", \"Parasite Immunology\", \"Autoimmunity Reviews\", \"Future Microbiology\", \"Revista Brasileira de Farmacognosia\", \"Fisheries Research\", \"Marine Genomics\", \"Pharmaceutical Research\", \"Parasitology\", \"Le infezioni in medicina : rivista periodica di eziologia, epidemiologia, diagnostica, clinica e terapia delle patologie infettive\", \"undefined\", \"Science Signaling\", \"Journal of Analytical Psychology\", \"Jornal de Pediatria\", \"Emerging Infectious Diseases\", \"Molecular Ecology\", \"Vaccine\", \"Analytical Biochemistry\", \"Journal of Inorganic Biochemistry\", \"Pharmacogenetics and Genomics\", \"Vaccine\", \"Comptes Rendus Biologies\", \"Journal of Archaeological Science\", \"International Journal of Antimicrobial Agents\", \"undefined\", \"Studies in Ethics Law and Technology\", \"Global Jurist\", \"PLoS ONE\", \"Applied and Environmental Microbiology\", \"Disability and Rehabilitation\", \"The International Journal of Health Planning and Management\", \"Journal of Chemical Ecology\", \"Journal of Ethnopharmacology\", \"Reviews on Environmental Health\", \"The Journal of Membrane Biology\", \"Journal of NeuroVirology\", \"Journal of Clinical Virology\", \"International Journal for Parasitology\", \"International Journal of STD & AIDS\", \"Vaccine\", \"IUBMB Life\", \"Journal of Molecular Biology\", \"undefined\", \"undefined\", \"undefined\", \"Photochemical & Photobiological Sciences\", \"undefined\", \"undefined\", \"undefined\", \"undefined\", \"Cellular Physiology and Biochemistry\", \"undefined\", \"Mediterranean Journal of Hematology and Infectious Diseases\", \"undefined\", \"undefined\", \"undefined\", \"undefined\", \"undefined\", \"undefined\", \"undefined\", \"undefined\", \"undefined\", \"Cellular Physiology and Biochemistry\", \"undefined\", \"undefined\", \"Acta Haematologica\", \"undefined\", \"Medicinal Research Reviews\", \"International Journal of Osteoarchaeology\", \"undefined\", \"undefined\", \"undefined\", \"Blood Purification\", \"undefined\", \"undefined\", \"undefined\", \"undefined\", \"undefined\", \"undefined\", \"International Organizations Law Review\", \"World Journal of Gastroenterology\", \"undefined\", \"undefined\", \"Mediterranean Journal of Hematology and Infectious Diseases\", \"undefined\", \"undefined\", \"undefined\", \"Annales Nestl\\u00e9 (Ed espa\\u00f1ola)\", \"Green Chemistry\", \"undefined\", \"undefined\", \"undefined\", \"Mediterranean Journal of Hematology and Infectious Diseases\", \"undefined\", \"International Organizations Law Review\", \"International Organizations Law Review\", \"Amphibia-Reptilia\", \"undefined\", \"PLoS ONE\", \"Genome Research\", \"Occupational Medicine\", \"Genome Biology\", \"Coordination Chemistry Reviews\", \"Malaria Journal\", \"Current Opinion in Infectious Diseases\", \"BMC Evolutionary Biology\", \"Food Policy\", \"European View\", \"BMC Evolutionary Biology\", \"Public Health Nutrition\", \"The American Journal of the Medical Sciences\", \"Genes & Immunity\", \"Bone\", \"Hepatology\", \"Autoimmunity Reviews\", \"Emerging Themes in Epidemiology\", \"Epilepsy Research\", \"Medical and Veterinary Entomology\", \"Clinical & Experimental Immunology\", \"Natural product communications\", \"Global Biogeochemical Cycles\", \"BMC Genomics\", \"Malaria Journal\", \"Malaria Journal\", \"Medical and Veterinary Entomology\", \"Parassitologia\", \"Le infezioni in medicina : rivista periodica di eziologia, epidemiologia, diagnostica, clinica e terapia delle patologie infettive\", \"Natural product communications\", \"BMC Genomics\", \"Malaria Journal\", \"BMC Public Health\", \"BMC Bioinformatics\", \"Natural product communications\", \"Malaria Journal\", \"Analytical and Bioanalytical Chemistry\", \"Current Biology\", \"Malaria Journal\", \"Parasite\", \"Public Health Nutrition\", \"Infection\", \"Phytoth\\u00e9rapie\", \"Health Promotion International\", \"Molecules\", \"mSphere\", \"Journal of Chromatography B\", \"The FEBS Journal\", \"Vaccine\", \"Tropical Medicine and International Health\", \"Environmental Health Perspectives\", \"Small Ruminant Research\", \"Phytomedicine\", \"Cytokine\", \"International Journal of Infectious Diseases\", \"Natural Resources Forum\", \"Pesticide Biochemistry and Physiology\", \"Veterinary Parasitology\", \"Blood\", \"The Journal of Immunology\", \"mSphere\", \"Archives of Environmental Contamination and Toxicology\", \"Bioorganic & Medicinal Chemistry Letters\", \"Preventive Veterinary Medicine\", \"Wiener klinische Wochenschrift\", \"Vaccine\", \"Molecular and Biochemical Parasitology\", \"Chemosphere\", \"Hydrobiologia\", \"Journal of Organizational Behavior\", \"Fish & Shellfish Immunology\", \"Therapeutics and Clinical Risk Management\", \"Microbiologica\", \"Evolutionary Applications\", \"Food and Chemical Toxicology\", \"On the Horizon\", \"The Open AIDS Journal\", \"undefined\", \"Journal of Travel Medicine\", \"Journal of Travel Medicine\", \"Journal of Virology\", \"Journal of Eukaryotic Microbiology\", \"Journal of Affective Disorders\", \"Vaccine\", \"Reproductive Toxicology\", \"Clinical Practice\", \"Molecular Phylogenetics and Evolution\", \"Expert Opinion on Pharmacotherapy\", \"Food and Nutrition Bulletin\", \"Insect Biochemistry and Molecular Biology\", \"Reproductive Toxicology\", \"Trends in Parasitology\", \"Clinics in Chest Medicine\", \"Reproductive Toxicology\", \"Genetic Resources and Crop Evolution\", \"Acta Paediatrica\", \"Advances in Pediatrics\", \"Ethnobotany Research and Applications\", \"undefined\", \"PLoS ONE\", \"Corporate Governance\", \"Infection and Immunity\", \"Biophysical Journal\", \"Biochemical and Biophysical Research Communications\", \"Biotechnology Letters\", \"Parasitology Research\", \"Journal of the American Academy of Dermatology\", \"Reproductive Toxicology\", \"Diagnostic Microbiology and Infectious Disease\", \"Toxicology Letters\", \"Chemosphere\", \"Burns\", \"Molecular Pharmacology\", \"Tissue and Cell\", \"Prenatal Diagnosis\", \"Trends in Pharmacological Sciences\", \"European Journal of Protistology\", \"PLoS ONE\", \"Movement Disorders\", \"Journal of Antimicrobial Chemotherapy\", \"undefined\", \"The Journal of Immunology\", \"ChemMedChem\", \"Philosophical Transactions of The Royal Society A Mathematical Physical and Engineering Sciences\", \"Journal of Travel Medicine\", \"Scandinavian Journal of Immunology\", \"International Journal of Medical Microbiology\", \"Emerging Infectious Diseases\", \"Public Health Nutrition\", \"Emerging Infectious Diseases\", \"Journal of Neuroimmunology\", \"Immunology\", \"Proteins Structure Function and Bioinformatics\", \"Bone Marrow Transplantation\", \"Rendiconti Lincei. Scienze Fisiche e Naturali\", \"Journal of Archaeological Science\", \"Human Genetics\", \"Journal of Separation Science\", \"Travel Medicine and Infectious Disease\", \"Bioorganic & Medicinal Chemistry\", \"Human Gene Therapy\", \"Bioorganic & Medicinal Chemistry Letters\", \"Public Health Nutrition\", \"European Journal of Anaesthesiology\", \"undefined\", \"PLoS ONE\", \"PLoS Neglected Tropical Diseases\", \"ChemMedChem\", \"PLoS ONE\", \"Cellular & Molecular Immunology\", \"Proteomics\", \"Molecular Aspects of Medicine\", \"Parassitologia\", \"Journal of Inherited Metabolic Disease\", \"Parassitologia\", \"Parassitologia\", \"Vaccine\", \"Parassitologia\", \"Autoimmunity Reviews\", \"Cellular and Molecular Life Sciences\", \"Statistica\", \"Vaccine\", \"Environmental and Molecular Mutagenesis\"]}, {\"axis\": {\"matches\": true}, \"label\": \"type\", \"values\": [\"article\", \"chapter\", \"article\", \"article\", \"article\", \"chapter\", \"article\", \"article\", \"article\", \"article\", \"article\", \"article\", \"article\", \"article\", \"article\", \"article\", \"article\", \"article\", \"article\", \"article\", \"article\", \"article\", \"article\", \"article\", \"article\", \"article\", \"article\", \"article\", \"article\", \"article\", \"article\", \"article\", \"article\", \"article\", \"article\", \"article\", \"article\", \"article\", \"article\", \"article\", \"article\", \"article\", \"article\", \"article\", \"article\", \"article\", \"article\", \"article\", \"article\", \"article\", \"article\", \"article\", \"article\", \"article\", \"article\", \"article\", \"article\", \"article\", \"article\", \"article\", \"article\", \"article\", \"article\", \"article\", \"article\", \"article\", \"article\", \"article\", \"article\", \"article\", \"article\", \"article\", \"article\", \"article\", \"article\", \"article\", \"article\", \"article\", \"chapter\", \"article\", \"chapter\", \"article\", \"article\", \"article\", \"article\", \"article\", \"article\", \"article\", \"article\", \"article\", \"article\", \"article\", \"article\", \"article\", \"article\", \"article\", \"article\", \"article\", \"article\", \"article\", \"article\", \"chapter\", \"article\", \"chapter\", \"article\", \"article\", \"article\", \"article\", \"article\", \"article\", \"article\", \"article\", \"article\", \"article\", \"article\", \"article\", \"article\", \"article\", \"article\", \"article\", \"article\", \"article\", \"article\", \"article\", \"article\", \"article\", \"article\", \"article\", \"chapter\", \"article\", \"article\", \"article\", \"article\", \"article\", \"article\", \"article\", \"article\", \"article\", \"article\", \"article\", \"chapter\", \"article\", \"article\", \"article\", \"article\", \"article\", \"article\", \"article\", \"article\", \"article\", \"article\", \"article\", \"article\", \"article\", \"article\", \"article\", \"article\", \"article\", \"article\", \"article\", \"article\", \"article\", \"article\", \"article\", \"article\", \"article\", \"article\", \"article\", \"article\", \"article\", \"article\", \"article\", \"article\", \"article\", \"article\", \"article\", \"article\", \"article\", \"article\", \"article\", \"article\", \"article\", \"article\", \"article\", \"article\", \"article\", \"article\", \"article\", \"article\", \"article\", \"article\", \"article\", \"article\", \"article\", \"article\", \"article\", \"article\", \"article\", \"article\", \"article\", \"article\", \"article\", \"article\", \"article\", \"article\", \"article\", \"article\", \"article\", \"article\", \"article\", \"article\", \"chapter\", \"article\", \"chapter\", \"article\", \"article\", \"article\", \"article\", \"article\", \"article\", \"article\", \"article\", \"article\", \"article\", \"article\", \"article\", \"article\", \"article\", \"article\", \"article\", \"article\", \"article\", \"article\", \"article\", \"article\", \"article\", \"article\", \"article\", \"article\", \"article\", \"article\", \"article\", \"article\", \"article\", \"article\", \"article\", \"article\", \"article\", \"article\", \"chapter\", \"article\", \"article\", \"article\", \"article\", \"article\", \"article\", \"article\", \"article\", \"article\", \"article\", \"article\", \"article\", \"article\", \"chapter\", \"article\", \"article\", \"article\", \"article\", \"article\", \"article\", \"article\", \"article\", \"article\", \"article\", \"article\", \"article\", \"article\", \"article\", \"article\", \"article\", \"article\", \"chapter\", \"chapter\", \"proceeding\", \"article\", \"chapter\", \"chapter\", \"chapter\", \"chapter\", \"article\", \"chapter\", \"article\", \"chapter\", \"chapter\", \"chapter\", \"chapter\", \"chapter\", \"monograph\", \"chapter\", \"chapter\", \"chapter\", \"article\", \"chapter\", \"chapter\", \"article\", \"chapter\", \"article\", \"article\", \"chapter\", \"chapter\", \"chapter\", \"article\", \"chapter\", \"chapter\", \"chapter\", \"chapter\", \"chapter\", \"chapter\", \"article\", \"article\", \"chapter\", \"chapter\", \"article\", \"chapter\", \"chapter\", \"chapter\", \"article\", \"article\", \"chapter\", \"chapter\", \"chapter\", \"article\", \"chapter\", \"article\", \"article\", \"article\", \"chapter\", \"article\", \"article\", \"article\", \"article\", \"article\", \"article\", \"article\", \"article\", \"article\", \"article\", \"article\", \"article\", \"article\", \"article\", \"article\", \"article\", \"article\", \"article\", \"article\", \"article\", \"article\", \"article\", \"article\", \"article\", \"article\", \"article\", \"article\", \"article\", \"article\", \"article\", \"article\", \"article\", \"article\", \"article\", \"article\", \"article\", \"article\", \"article\", \"article\", \"article\", \"article\", \"article\", \"article\", \"article\", \"article\", \"article\", \"article\", \"article\", \"article\", \"article\", \"article\", \"article\", \"article\", \"article\", \"article\", \"article\", \"article\", \"article\", \"article\", \"article\", \"article\", \"article\", \"article\", \"article\", \"article\", \"article\", \"article\", \"article\", \"article\", \"article\", \"article\", \"article\", \"article\", \"article\", \"article\", \"article\", \"article\", \"chapter\", \"article\", \"article\", \"article\", \"article\", \"article\", \"article\", \"article\", \"article\", \"article\", \"article\", \"article\", \"article\", \"article\", \"article\", \"article\", \"article\", \"article\", \"article\", \"article\", \"article\", \"chapter\", \"article\", \"article\", \"article\", \"article\", \"article\", \"article\", \"article\", \"article\", \"article\", \"article\", \"article\", \"article\", \"article\", \"article\", \"article\", \"article\", \"article\", \"article\", \"article\", \"article\", \"article\", \"chapter\", \"article\", \"article\", \"article\", \"article\", \"article\", \"article\", \"article\", \"article\", \"article\", \"article\", \"article\", \"article\", \"article\", \"article\", \"article\", \"article\", \"article\", \"article\", \"article\", \"article\", \"article\", \"article\", \"article\", \"chapter\", \"article\", \"article\", \"article\", \"article\", \"article\", \"article\", \"article\", \"article\", \"article\", \"article\", \"article\", \"article\", \"article\", \"article\", \"article\", \"article\", \"article\", \"article\"]}, {\"axis\": {\"matches\": true}, \"label\": \"year\", \"values\": [2009, 2009, 2009, 2009, 2009, 2009, 2009, 2009, 2009, 2009, 2009, 2009, 2009, 2009, 2009, 2009, 2009, 2009, 2009, 2009, 2009, 2009, 2009, 2009, 2009, 2009, 2009, 2009, 2009, 2009, 2009, 2009, 2009, 2009, 2009, 2009, 2009, 2009, 2009, 2009, 2009, 2009, 2009, 2009, 2009, 2009, 2009, 2009, 2009, 2009, 2009, 2009, 2009, 2009, 2009, 2009, 2009, 2009, 2009, 2009, 2009, 2009, 2009, 2009, 2009, 2009, 2009, 2009, 2009, 2009, 2009, 2009, 2009, 2009, 2009, 2009, 2009, 2009, 2009, 2009, 2009, 2009, 2009, 2009, 2009, 2009, 2009, 2009, 2009, 2009, 2009, 2009, 2009, 2009, 2009, 2009, 2009, 2009, 2009, 2009, 2009, 2009, 2009, 2009, 2009, 2009, 2009, 2009, 2009, 2009, 2009, 2009, 2009, 2009, 2009, 2009, 2009, 2009, 2009, 2009, 2009, 2009, 2009, 2009, 2009, 2009, 2009, 2009, 2009, 2009, 2009, 2009, 2009, 2009, 2009, 2009, 2009, 2009, 2009, 2009, 2009, 2009, 2009, 2009, 2009, 2009, 2009, 2009, 2009, 2009, 2009, 2009, 2009, 2009, 2009, 2009, 2009, 2009, 2009, 2009, 2009, 2009, 2009, 2009, 2009, 2009, 2009, 2009, 2009, 2009, 2009, 2009, 2009, 2009, 2009, 2009, 2009, 2009, 2009, 2009, 2009, 2009, 2009, 2009, 2009, 2009, 2009, 2009, 2009, 2009, 2009, 2009, 2009, 2009, 2009, 2009, 2009, 2009, 2009, 2009, 2009, 2009, 2009, 2009, 2009, 2009, 2009, 2009, 2009, 2009, 2009, 2009, 2009, 2009, 2009, 2009, 2009, 2009, 2009, 2009, 2009, 2009, 2009, 2009, 2009, 2009, 2009, 2009, 2009, 2009, 2009, 2009, 2009, 2009, 2009, 2009, 2009, 2009, 2009, 2009, 2009, 2009, 2009, 2009, 2009, 2009, 2009, 2009, 2009, 2009, 2009, 2009, 2009, 2009, 2009, 2009, 2009, 2009, 2009, 2009, 2009, 2009, 2009, 2009, 2009, 2009, 2009, 2009, 2009, 2009, 2009, 2009, 2009, 2009, 2009, 2009, 2009, 2009, 2009, 2009, 2009, 2009, 2009, 2009, 2009, 2009, 2009, 2009, 2009, 2009, 2009, 2009, 2009, 2009, 2009, 2009, 2009, 2009, 2009, 2009, 2009, 2009, 2009, 2009, 2009, 2009, 2009, 2009, 2009, 2009, 2009, 2009, 2009, 2009, 2009, 2009, 2009, 2009, 2009, 2009, 2009, 2009, 2009, 2009, 2009, 2009, 2009, 2009, 2009, 2009, 2009, 2009, 2009, 2009, 2009, 2009, 2009, 2008, 2008, 2008, 2008, 2008, 2008, 2008, 2008, 2008, 2008, 2008, 2008, 2008, 2008, 2008, 2008, 2008, 2008, 2008, 2008, 2008, 2008, 2008, 2008, 2008, 2008, 2008, 2008, 2008, 2008, 2008, 2008, 2008, 2008, 2008, 2008, 2008, 2008, 2008, 2008, 2008, 2008, 2008, 2008, 2008, 2008, 2008, 2008, 2008, 2008, 2008, 2008, 2008, 2008, 2008, 2008, 2008, 2008, 2008, 2008, 2008, 2008, 2008, 2008, 2008, 2008, 2008, 2008, 2008, 2008, 2008, 2008, 2008, 2008, 2008, 2008, 2008, 2008, 2008, 2008, 2008, 2008, 2008, 2008, 2008, 2008, 2008, 2008, 2008, 2008, 2008, 2008, 2008, 2008, 2008, 2008, 2008, 2008, 2008, 2008, 2008, 2008, 2008, 2008, 2008, 2008, 2008, 2008, 2008, 2008, 2008, 2008, 2008, 2008, 2008, 2008, 2008, 2008, 2008, 2008, 2008, 2008, 2008, 2008, 2008, 2008, 2008, 2008, 2008, 2008, 2008, 2008, 2008, 2008, 2008, 2008, 2008, 2008, 2008, 2008, 2008, 2008, 2008, 2008, 2008, 2008, 2008, 2008, 2008, 2008, 2008, 2008, 2008, 2008, 2008, 2008, 2008, 2008, 2008, 2008, 2008, 2008, 2008]}], \"hoverlabel\": {\"namelength\": 0}, \"hovertemplate\": \"%{xaxis.title.text}=%{x}<br>%{yaxis.title.text}=%{y}\", \"legendgroup\": \"\", \"marker\": {\"color\": \"#636efa\", \"symbol\": \"circle\"}, \"name\": \"\", \"showlegend\": false, \"type\": \"splom\", \"uid\": \"d9aef8ca-075f-4eed-ae7e-0c3b2a4d70c4\"}],\n",
       "                        {\"dragmode\": \"select\", \"height\": 600, \"legend\": {\"tracegroupgap\": 0}, \"margin\": {\"t\": 60}, \"template\": {\"data\": {\"bar\": [{\"marker\": {\"line\": {\"color\": \"#E5ECF6\", \"width\": 0.5}}, \"type\": \"bar\"}], \"barpolar\": [{\"marker\": {\"line\": {\"color\": \"#E5ECF6\", \"width\": 0.5}}, \"type\": \"barpolar\"}], \"carpet\": [{\"aaxis\": {\"endlinecolor\": \"#2a3f5f\", \"gridcolor\": \"white\", \"linecolor\": \"white\", \"minorgridcolor\": \"white\", \"startlinecolor\": \"#2a3f5f\"}, \"baxis\": {\"endlinecolor\": \"#2a3f5f\", \"gridcolor\": \"white\", \"linecolor\": \"white\", \"minorgridcolor\": \"white\", \"startlinecolor\": \"#2a3f5f\"}, \"type\": \"carpet\"}], \"choropleth\": [{\"colorbar\": {\"outlinewidth\": 0, \"ticks\": \"\"}, \"type\": \"choropleth\"}], \"contour\": [{\"colorbar\": {\"outlinewidth\": 0, \"ticks\": \"\"}, \"colorscale\": [[0.0, \"#0508b8\"], [0.0893854748603352, \"#1910d8\"], [0.1787709497206704, \"#3c19f0\"], [0.2681564245810056, \"#6b1cfb\"], [0.3575418994413408, \"#981cfd\"], [0.44692737430167595, \"#bf1cfd\"], [0.5363128491620112, \"#dd2bfd\"], [0.6256983240223464, \"#f246fe\"], [0.7150837988826816, \"#fc67fd\"], [0.8044692737430168, \"#fe88fc\"], [0.8938547486033519, \"#fea5fd\"], [0.9832402234636871, \"#febefe\"], [1.0, \"#fec3fe\"]], \"type\": \"contour\"}], \"contourcarpet\": [{\"colorbar\": {\"outlinewidth\": 0, \"ticks\": \"\"}, \"type\": \"contourcarpet\"}], \"heatmap\": [{\"colorbar\": {\"outlinewidth\": 0, \"ticks\": \"\"}, \"colorscale\": [[0.0, \"#0508b8\"], [0.0893854748603352, \"#1910d8\"], [0.1787709497206704, \"#3c19f0\"], [0.2681564245810056, \"#6b1cfb\"], [0.3575418994413408, \"#981cfd\"], [0.44692737430167595, \"#bf1cfd\"], [0.5363128491620112, \"#dd2bfd\"], [0.6256983240223464, \"#f246fe\"], [0.7150837988826816, \"#fc67fd\"], [0.8044692737430168, \"#fe88fc\"], [0.8938547486033519, \"#fea5fd\"], [0.9832402234636871, \"#febefe\"], [1.0, \"#fec3fe\"]], \"type\": \"heatmap\"}], \"heatmapgl\": [{\"colorbar\": {\"outlinewidth\": 0, \"ticks\": \"\"}, \"type\": \"heatmapgl\"}], \"histogram\": [{\"marker\": {\"colorbar\": {\"outlinewidth\": 0, \"ticks\": \"\"}}, \"type\": \"histogram\"}], \"histogram2d\": [{\"colorbar\": {\"outlinewidth\": 0, \"ticks\": \"\"}, \"colorscale\": [[0.0, \"#0508b8\"], [0.0893854748603352, \"#1910d8\"], [0.1787709497206704, \"#3c19f0\"], [0.2681564245810056, \"#6b1cfb\"], [0.3575418994413408, \"#981cfd\"], [0.44692737430167595, \"#bf1cfd\"], [0.5363128491620112, \"#dd2bfd\"], [0.6256983240223464, \"#f246fe\"], [0.7150837988826816, \"#fc67fd\"], [0.8044692737430168, \"#fe88fc\"], [0.8938547486033519, \"#fea5fd\"], [0.9832402234636871, \"#febefe\"], [1.0, \"#fec3fe\"]], \"type\": \"histogram2d\"}], \"histogram2dcontour\": [{\"colorbar\": {\"outlinewidth\": 0, \"ticks\": \"\"}, \"colorscale\": [[0.0, \"#0508b8\"], [0.0893854748603352, \"#1910d8\"], [0.1787709497206704, \"#3c19f0\"], [0.2681564245810056, \"#6b1cfb\"], [0.3575418994413408, \"#981cfd\"], [0.44692737430167595, \"#bf1cfd\"], [0.5363128491620112, \"#dd2bfd\"], [0.6256983240223464, \"#f246fe\"], [0.7150837988826816, \"#fc67fd\"], [0.8044692737430168, \"#fe88fc\"], [0.8938547486033519, \"#fea5fd\"], [0.9832402234636871, \"#febefe\"], [1.0, \"#fec3fe\"]], \"type\": \"histogram2dcontour\"}], \"mesh3d\": [{\"colorbar\": {\"outlinewidth\": 0, \"ticks\": \"\"}, \"type\": \"mesh3d\"}], \"parcoords\": [{\"line\": {\"colorbar\": {\"outlinewidth\": 0, \"ticks\": \"\"}}, \"type\": \"parcoords\"}], \"scatter\": [{\"marker\": {\"colorbar\": {\"outlinewidth\": 0, \"ticks\": \"\"}}, \"type\": \"scatter\"}], \"scatter3d\": [{\"marker\": {\"colorbar\": {\"outlinewidth\": 0, \"ticks\": \"\"}}, \"type\": \"scatter3d\"}], \"scattercarpet\": [{\"marker\": {\"colorbar\": {\"outlinewidth\": 0, \"ticks\": \"\"}}, \"type\": \"scattercarpet\"}], \"scattergeo\": [{\"marker\": {\"colorbar\": {\"outlinewidth\": 0, \"ticks\": \"\"}}, \"type\": \"scattergeo\"}], \"scattergl\": [{\"marker\": {\"colorbar\": {\"outlinewidth\": 0, \"ticks\": \"\"}}, \"type\": \"scattergl\"}], \"scattermapbox\": [{\"marker\": {\"colorbar\": {\"outlinewidth\": 0, \"ticks\": \"\"}}, \"type\": \"scattermapbox\"}], \"scatterpolar\": [{\"marker\": {\"colorbar\": {\"outlinewidth\": 0, \"ticks\": \"\"}}, \"type\": \"scatterpolar\"}], \"scatterpolargl\": [{\"marker\": {\"colorbar\": {\"outlinewidth\": 0, \"ticks\": \"\"}}, \"type\": \"scatterpolargl\"}], \"scatterternary\": [{\"marker\": {\"colorbar\": {\"outlinewidth\": 0, \"ticks\": \"\"}}, \"type\": \"scatterternary\"}], \"surface\": [{\"colorbar\": {\"outlinewidth\": 0, \"ticks\": \"\"}, \"type\": \"surface\"}], \"table\": [{\"cells\": {\"fill\": {\"color\": \"#EBF0F8\"}, \"line\": {\"color\": \"white\"}}, \"header\": {\"fill\": {\"color\": \"#C8D4E3\"}, \"line\": {\"color\": \"white\"}}, \"type\": \"table\"}]}, \"layout\": {\"annotationdefaults\": {\"arrowcolor\": \"#506784\", \"arrowhead\": 0, \"arrowwidth\": 1}, \"colorscale\": {\"diverging\": [[0, \"#8e0152\"], [0.1, \"#c51b7d\"], [0.2, \"#de77ae\"], [0.3, \"#f1b6da\"], [0.4, \"#fde0ef\"], [0.5, \"#f7f7f7\"], [0.6, \"#e6f5d0\"], [0.7, \"#b8e186\"], [0.8, \"#7fbc41\"], [0.9, \"#4d9221\"], [1, \"#276419\"]], \"sequential\": [[0.0, \"#0508b8\"], [0.0893854748603352, \"#1910d8\"], [0.1787709497206704, \"#3c19f0\"], [0.2681564245810056, \"#6b1cfb\"], [0.3575418994413408, \"#981cfd\"], [0.44692737430167595, \"#bf1cfd\"], [0.5363128491620112, \"#dd2bfd\"], [0.6256983240223464, \"#f246fe\"], [0.7150837988826816, \"#fc67fd\"], [0.8044692737430168, \"#fe88fc\"], [0.8938547486033519, \"#fea5fd\"], [0.9832402234636871, \"#febefe\"], [1.0, \"#fec3fe\"]], \"sequentialminus\": [[0.0, \"#0508b8\"], [0.0893854748603352, \"#1910d8\"], [0.1787709497206704, \"#3c19f0\"], [0.2681564245810056, \"#6b1cfb\"], [0.3575418994413408, \"#981cfd\"], [0.44692737430167595, \"#bf1cfd\"], [0.5363128491620112, \"#dd2bfd\"], [0.6256983240223464, \"#f246fe\"], [0.7150837988826816, \"#fc67fd\"], [0.8044692737430168, \"#fe88fc\"], [0.8938547486033519, \"#fea5fd\"], [0.9832402234636871, \"#febefe\"], [1.0, \"#fec3fe\"]]}, \"colorway\": [\"#636efa\", \"#EF553B\", \"#00cc96\", \"#ab63fa\", \"#19d3f3\", \"#e763fa\", \"#FECB52\", \"#FFA15A\", \"#FF6692\", \"#B6E880\"], \"font\": {\"color\": \"#2a3f5f\"}, \"geo\": {\"bgcolor\": \"white\", \"lakecolor\": \"white\", \"landcolor\": \"#E5ECF6\", \"showlakes\": true, \"showland\": true, \"subunitcolor\": \"white\"}, \"hoverlabel\": {\"align\": \"left\"}, \"hovermode\": \"closest\", \"mapbox\": {\"style\": \"light\"}, \"paper_bgcolor\": \"white\", \"plot_bgcolor\": \"#E5ECF6\", \"polar\": {\"angularaxis\": {\"gridcolor\": \"white\", \"linecolor\": \"white\", \"ticks\": \"\"}, \"bgcolor\": \"#E5ECF6\", \"radialaxis\": {\"gridcolor\": \"white\", \"linecolor\": \"white\", \"ticks\": \"\"}}, \"scene\": {\"xaxis\": {\"backgroundcolor\": \"#E5ECF6\", \"gridcolor\": \"white\", \"gridwidth\": 2, \"linecolor\": \"white\", \"showbackground\": true, \"ticks\": \"\", \"zerolinecolor\": \"white\"}, \"yaxis\": {\"backgroundcolor\": \"#E5ECF6\", \"gridcolor\": \"white\", \"gridwidth\": 2, \"linecolor\": \"white\", \"showbackground\": true, \"ticks\": \"\", \"zerolinecolor\": \"white\"}, \"zaxis\": {\"backgroundcolor\": \"#E5ECF6\", \"gridcolor\": \"white\", \"gridwidth\": 2, \"linecolor\": \"white\", \"showbackground\": true, \"ticks\": \"\", \"zerolinecolor\": \"white\"}}, \"shapedefaults\": {\"fillcolor\": \"#506784\", \"line\": {\"width\": 0}, \"opacity\": 0.4}, \"ternary\": {\"aaxis\": {\"gridcolor\": \"white\", \"linecolor\": \"white\", \"ticks\": \"\"}, \"baxis\": {\"gridcolor\": \"white\", \"linecolor\": \"white\", \"ticks\": \"\"}, \"bgcolor\": \"#E5ECF6\", \"caxis\": {\"gridcolor\": \"white\", \"linecolor\": \"white\", \"ticks\": \"\"}}, \"title\": {\"x\": 0.05}, \"xaxis\": {\"automargin\": true, \"gridcolor\": \"white\", \"linecolor\": \"white\", \"ticks\": \"\", \"zerolinecolor\": \"white\", \"zerolinewidth\": 2}, \"yaxis\": {\"automargin\": true, \"gridcolor\": \"white\", \"linecolor\": \"white\", \"ticks\": \"\", \"zerolinecolor\": \"white\", \"zerolinewidth\": 2}}}},\n",
       "                        {\"showLink\": false, \"linkText\": \"Export to plot.ly\", \"plotlyServerURL\": \"https://plot.ly\", \"responsive\": true}\n",
       "                    ).then(function(){\n",
       "                            \n",
       "var gd = document.getElementById('15414fc7-c00d-4a36-87f6-374e5d940639');\n",
       "var x = new MutationObserver(function (mutations, observer) {{\n",
       "        var display = window.getComputedStyle(gd).display;\n",
       "        if (!display || display === 'none') {{\n",
       "            console.log([gd, 'removed!']);\n",
       "            Plotly.purge(gd);\n",
       "            observer.disconnect();\n",
       "        }}\n",
       "}});\n",
       "\n",
       "// Listen for the removal of the full notebook cells\n",
       "var notebookContainer = gd.closest('#notebook-container');\n",
       "if (notebookContainer) {{\n",
       "    x.observe(notebookContainer, {childList: true});\n",
       "}}\n",
       "\n",
       "// Listen for the clearing of the current output cell\n",
       "var outputEl = gd.closest('.output');\n",
       "if (outputEl) {{\n",
       "    x.observe(outputEl, {childList: true});\n",
       "}}\n",
       "\n",
       "                        })\n",
       "                };\n",
       "                });\n",
       "            </script>\n",
       "        </div>"
      ]
     },
     "metadata": {
      "tags": []
     },
     "output_type": "display_data"
    }
   ],
   "source": [
    "px.scatter_matrix(df, dimensions=[\"journal.title\",  \"type\", \"year\"])"
   ]
  },
  {
   "cell_type": "code",
   "execution_count": null,
   "metadata": {
    "Collapsed": "false",
    "colab": {},
    "colab_type": "code",
    "id": "JOufwFYuwYi9"
   },
   "outputs": [],
   "source": []
  },
  {
   "cell_type": "markdown",
   "metadata": {
    "Collapsed": "false",
    "colab_type": "text",
    "id": "RUQUQeSnwYi_"
   },
   "source": [
    "### Testing out plotly_express default examples"
   ]
  },
  {
   "cell_type": "code",
   "execution_count": null,
   "metadata": {
    "Collapsed": "false",
    "colab": {},
    "colab_type": "code",
    "id": "nZKGT6oXwYjA"
   },
   "outputs": [],
   "source": [
    "import plotly_express as px"
   ]
  },
  {
   "cell_type": "code",
   "execution_count": null,
   "metadata": {
    "Collapsed": "false",
    "colab": {},
    "colab_type": "code",
    "id": "gjlQ_6ORwYjC",
    "outputId": "977e320a-1323-4b5d-cb51-14e1999cd801"
   },
   "outputs": [
    {
     "name": "stdout",
     "output_type": "stream",
     "text": [
      "\n",
      "    Each row represents a flower.\n",
      "\n",
      "    https://en.wikipedia.org/wiki/Iris_flower_data_set\n",
      "\n",
      "    Returns:\n",
      "        A `pandas.DataFrame` with 150 rows and the following columns: `['sepal_length', 'sepal_width', 'petal_length', 'petal_width', 'species',\n",
      "       'species_id']`.\n",
      "    \n"
     ]
    }
   ],
   "source": [
    "print(px.data.iris.__doc__)\n",
    "iris = px.data.iris()"
   ]
  },
  {
   "cell_type": "code",
   "execution_count": null,
   "metadata": {
    "Collapsed": "false",
    "colab": {},
    "colab_type": "code",
    "id": "r3ynUi1IwYjE",
    "outputId": "4f06bdb4-f0f4-454c-cf0e-07e2d16b1ee8"
   },
   "outputs": [
    {
     "data": {
      "application/vnd.plotly.v1+json": {
       "config": {
        "linkText": "Export to plot.ly",
        "plotlyServerURL": "https://plot.ly",
        "showLink": false
       },
       "data": [
        {
         "dimensions": [
          {
           "axis": {
            "matches": true
           },
           "label": "sepal_length",
           "values": [
            5.1,
            4.9,
            4.7,
            4.6,
            5,
            5.4,
            4.6,
            5,
            4.4,
            4.9,
            5.4,
            4.8,
            4.8,
            4.3,
            5.8,
            5.7,
            5.4,
            5.1,
            5.7,
            5.1,
            5.4,
            5.1,
            4.6,
            5.1,
            4.8,
            5,
            5,
            5.2,
            5.2,
            4.7,
            4.8,
            5.4,
            5.2,
            5.5,
            4.9,
            5,
            5.5,
            4.9,
            4.4,
            5.1,
            5,
            4.5,
            4.4,
            5,
            5.1,
            4.8,
            5.1,
            4.6,
            5.3,
            5,
            7,
            6.4,
            6.9,
            5.5,
            6.5,
            5.7,
            6.3,
            4.9,
            6.6,
            5.2,
            5,
            5.9,
            6,
            6.1,
            5.6,
            6.7,
            5.6,
            5.8,
            6.2,
            5.6,
            5.9,
            6.1,
            6.3,
            6.1,
            6.4,
            6.6,
            6.8,
            6.7,
            6,
            5.7,
            5.5,
            5.5,
            5.8,
            6,
            5.4,
            6,
            6.7,
            6.3,
            5.6,
            5.5,
            5.5,
            6.1,
            5.8,
            5,
            5.6,
            5.7,
            5.7,
            6.2,
            5.1,
            5.7,
            6.3,
            5.8,
            7.1,
            6.3,
            6.5,
            7.6,
            4.9,
            7.3,
            6.7,
            7.2,
            6.5,
            6.4,
            6.8,
            5.7,
            5.8,
            6.4,
            6.5,
            7.7,
            7.7,
            6,
            6.9,
            5.6,
            7.7,
            6.3,
            6.7,
            7.2,
            6.2,
            6.1,
            6.4,
            7.2,
            7.4,
            7.9,
            6.4,
            6.3,
            6.1,
            7.7,
            6.3,
            6.4,
            6,
            6.9,
            6.7,
            6.9,
            5.8,
            6.8,
            6.7,
            6.7,
            6.3,
            6.5,
            6.2,
            5.9
           ]
          },
          {
           "axis": {
            "matches": true
           },
           "label": "sepal_width",
           "values": [
            3.5,
            3,
            3.2,
            3.1,
            3.6,
            3.9,
            3.4,
            3.4,
            2.9,
            3.1,
            3.7,
            3.4,
            3,
            3,
            4,
            4.4,
            3.9,
            3.5,
            3.8,
            3.8,
            3.4,
            3.7,
            3.6,
            3.3,
            3.4,
            3,
            3.4,
            3.5,
            3.4,
            3.2,
            3.1,
            3.4,
            4.1,
            4.2,
            3.1,
            3.2,
            3.5,
            3.1,
            3,
            3.4,
            3.5,
            2.3,
            3.2,
            3.5,
            3.8,
            3,
            3.8,
            3.2,
            3.7,
            3.3,
            3.2,
            3.2,
            3.1,
            2.3,
            2.8,
            2.8,
            3.3,
            2.4,
            2.9,
            2.7,
            2,
            3,
            2.2,
            2.9,
            2.9,
            3.1,
            3,
            2.7,
            2.2,
            2.5,
            3.2,
            2.8,
            2.5,
            2.8,
            2.9,
            3,
            2.8,
            3,
            2.9,
            2.6,
            2.4,
            2.4,
            2.7,
            2.7,
            3,
            3.4,
            3.1,
            2.3,
            3,
            2.5,
            2.6,
            3,
            2.6,
            2.3,
            2.7,
            3,
            2.9,
            2.9,
            2.5,
            2.8,
            3.3,
            2.7,
            3,
            2.9,
            3,
            3,
            2.5,
            2.9,
            2.5,
            3.6,
            3.2,
            2.7,
            3,
            2.5,
            2.8,
            3.2,
            3,
            3.8,
            2.6,
            2.2,
            3.2,
            2.8,
            2.8,
            2.7,
            3.3,
            3.2,
            2.8,
            3,
            2.8,
            3,
            2.8,
            3.8,
            2.8,
            2.8,
            2.6,
            3,
            3.4,
            3.1,
            3,
            3.1,
            3.1,
            3.1,
            2.7,
            3.2,
            3.3,
            3,
            2.5,
            3,
            3.4,
            3
           ]
          },
          {
           "axis": {
            "matches": true
           },
           "label": "petal_length",
           "values": [
            1.4,
            1.4,
            1.3,
            1.5,
            1.4,
            1.7,
            1.4,
            1.5,
            1.4,
            1.5,
            1.5,
            1.6,
            1.4,
            1.1,
            1.2,
            1.5,
            1.3,
            1.4,
            1.7,
            1.5,
            1.7,
            1.5,
            1,
            1.7,
            1.9,
            1.6,
            1.6,
            1.5,
            1.4,
            1.6,
            1.6,
            1.5,
            1.5,
            1.4,
            1.5,
            1.2,
            1.3,
            1.5,
            1.3,
            1.5,
            1.3,
            1.3,
            1.3,
            1.6,
            1.9,
            1.4,
            1.6,
            1.4,
            1.5,
            1.4,
            4.7,
            4.5,
            4.9,
            4,
            4.6,
            4.5,
            4.7,
            3.3,
            4.6,
            3.9,
            3.5,
            4.2,
            4,
            4.7,
            3.6,
            4.4,
            4.5,
            4.1,
            4.5,
            3.9,
            4.8,
            4,
            4.9,
            4.7,
            4.3,
            4.4,
            4.8,
            5,
            4.5,
            3.5,
            3.8,
            3.7,
            3.9,
            5.1,
            4.5,
            4.5,
            4.7,
            4.4,
            4.1,
            4,
            4.4,
            4.6,
            4,
            3.3,
            4.2,
            4.2,
            4.2,
            4.3,
            3,
            4.1,
            6,
            5.1,
            5.9,
            5.6,
            5.8,
            6.6,
            4.5,
            6.3,
            5.8,
            6.1,
            5.1,
            5.3,
            5.5,
            5,
            5.1,
            5.3,
            5.5,
            6.7,
            6.9,
            5,
            5.7,
            4.9,
            6.7,
            4.9,
            5.7,
            6,
            4.8,
            4.9,
            5.6,
            5.8,
            6.1,
            6.4,
            5.6,
            5.1,
            5.6,
            6.1,
            5.6,
            5.5,
            4.8,
            5.4,
            5.6,
            5.1,
            5.1,
            5.9,
            5.7,
            5.2,
            5,
            5.2,
            5.4,
            5.1
           ]
          },
          {
           "axis": {
            "matches": true
           },
           "label": "petal_width",
           "values": [
            0.2,
            0.2,
            0.2,
            0.2,
            0.2,
            0.4,
            0.3,
            0.2,
            0.2,
            0.1,
            0.2,
            0.2,
            0.1,
            0.1,
            0.2,
            0.4,
            0.4,
            0.3,
            0.3,
            0.3,
            0.2,
            0.4,
            0.2,
            0.5,
            0.2,
            0.2,
            0.4,
            0.2,
            0.2,
            0.2,
            0.2,
            0.4,
            0.1,
            0.2,
            0.1,
            0.2,
            0.2,
            0.1,
            0.2,
            0.2,
            0.3,
            0.3,
            0.2,
            0.6,
            0.4,
            0.3,
            0.2,
            0.2,
            0.2,
            0.2,
            1.4,
            1.5,
            1.5,
            1.3,
            1.5,
            1.3,
            1.6,
            1,
            1.3,
            1.4,
            1,
            1.5,
            1,
            1.4,
            1.3,
            1.4,
            1.5,
            1,
            1.5,
            1.1,
            1.8,
            1.3,
            1.5,
            1.2,
            1.3,
            1.4,
            1.4,
            1.7,
            1.5,
            1,
            1.1,
            1,
            1.2,
            1.6,
            1.5,
            1.6,
            1.5,
            1.3,
            1.3,
            1.3,
            1.2,
            1.4,
            1.2,
            1,
            1.3,
            1.2,
            1.3,
            1.3,
            1.1,
            1.3,
            2.5,
            1.9,
            2.1,
            1.8,
            2.2,
            2.1,
            1.7,
            1.8,
            1.8,
            2.5,
            2,
            1.9,
            2.1,
            2,
            2.4,
            2.3,
            1.8,
            2.2,
            2.3,
            1.5,
            2.3,
            2,
            2,
            1.8,
            2.1,
            1.8,
            1.8,
            1.8,
            2.1,
            1.6,
            1.9,
            2,
            2.2,
            1.5,
            1.4,
            2.3,
            2.4,
            1.8,
            1.8,
            2.1,
            2.4,
            2.3,
            1.9,
            2.3,
            2.5,
            2.3,
            1.9,
            2,
            2.3,
            1.8
           ]
          },
          {
           "axis": {
            "matches": true
           },
           "label": "species",
           "values": [
            "setosa",
            "setosa",
            "setosa",
            "setosa",
            "setosa",
            "setosa",
            "setosa",
            "setosa",
            "setosa",
            "setosa",
            "setosa",
            "setosa",
            "setosa",
            "setosa",
            "setosa",
            "setosa",
            "setosa",
            "setosa",
            "setosa",
            "setosa",
            "setosa",
            "setosa",
            "setosa",
            "setosa",
            "setosa",
            "setosa",
            "setosa",
            "setosa",
            "setosa",
            "setosa",
            "setosa",
            "setosa",
            "setosa",
            "setosa",
            "setosa",
            "setosa",
            "setosa",
            "setosa",
            "setosa",
            "setosa",
            "setosa",
            "setosa",
            "setosa",
            "setosa",
            "setosa",
            "setosa",
            "setosa",
            "setosa",
            "setosa",
            "setosa",
            "versicolor",
            "versicolor",
            "versicolor",
            "versicolor",
            "versicolor",
            "versicolor",
            "versicolor",
            "versicolor",
            "versicolor",
            "versicolor",
            "versicolor",
            "versicolor",
            "versicolor",
            "versicolor",
            "versicolor",
            "versicolor",
            "versicolor",
            "versicolor",
            "versicolor",
            "versicolor",
            "versicolor",
            "versicolor",
            "versicolor",
            "versicolor",
            "versicolor",
            "versicolor",
            "versicolor",
            "versicolor",
            "versicolor",
            "versicolor",
            "versicolor",
            "versicolor",
            "versicolor",
            "versicolor",
            "versicolor",
            "versicolor",
            "versicolor",
            "versicolor",
            "versicolor",
            "versicolor",
            "versicolor",
            "versicolor",
            "versicolor",
            "versicolor",
            "versicolor",
            "versicolor",
            "versicolor",
            "versicolor",
            "versicolor",
            "versicolor",
            "virginica",
            "virginica",
            "virginica",
            "virginica",
            "virginica",
            "virginica",
            "virginica",
            "virginica",
            "virginica",
            "virginica",
            "virginica",
            "virginica",
            "virginica",
            "virginica",
            "virginica",
            "virginica",
            "virginica",
            "virginica",
            "virginica",
            "virginica",
            "virginica",
            "virginica",
            "virginica",
            "virginica",
            "virginica",
            "virginica",
            "virginica",
            "virginica",
            "virginica",
            "virginica",
            "virginica",
            "virginica",
            "virginica",
            "virginica",
            "virginica",
            "virginica",
            "virginica",
            "virginica",
            "virginica",
            "virginica",
            "virginica",
            "virginica",
            "virginica",
            "virginica",
            "virginica",
            "virginica",
            "virginica",
            "virginica",
            "virginica",
            "virginica"
           ]
          },
          {
           "axis": {
            "matches": true
           },
           "label": "species_id",
           "values": [
            1,
            1,
            1,
            1,
            1,
            1,
            1,
            1,
            1,
            1,
            1,
            1,
            1,
            1,
            1,
            1,
            1,
            1,
            1,
            1,
            1,
            1,
            1,
            1,
            1,
            1,
            1,
            1,
            1,
            1,
            1,
            1,
            1,
            1,
            1,
            1,
            1,
            1,
            1,
            1,
            1,
            1,
            1,
            1,
            1,
            1,
            1,
            1,
            1,
            1,
            2,
            2,
            2,
            2,
            2,
            2,
            2,
            2,
            2,
            2,
            2,
            2,
            2,
            2,
            2,
            2,
            2,
            2,
            2,
            2,
            2,
            2,
            2,
            2,
            2,
            2,
            2,
            2,
            2,
            2,
            2,
            2,
            2,
            2,
            2,
            2,
            2,
            2,
            2,
            2,
            2,
            2,
            2,
            2,
            2,
            2,
            2,
            2,
            2,
            2,
            3,
            3,
            3,
            3,
            3,
            3,
            3,
            3,
            3,
            3,
            3,
            3,
            3,
            3,
            3,
            3,
            3,
            3,
            3,
            3,
            3,
            3,
            3,
            3,
            3,
            3,
            3,
            3,
            3,
            3,
            3,
            3,
            3,
            3,
            3,
            3,
            3,
            3,
            3,
            3,
            3,
            3,
            3,
            3,
            3,
            3,
            3,
            3,
            3,
            3
           ]
          }
         ],
         "hoverlabel": {
          "namelength": 0
         },
         "hovertemplate": "%{xaxis.title.text}=%{x}<br>%{yaxis.title.text}=%{y}",
         "legendgroup": "",
         "marker": {
          "color": "#636efa",
          "symbol": "circle"
         },
         "name": "",
         "selectedpoints": [
          5,
          10,
          14,
          15,
          16,
          18,
          20,
          27,
          28,
          31,
          32,
          33,
          36,
          48,
          50,
          51,
          52,
          53,
          54,
          55,
          56,
          58,
          59,
          61,
          62,
          63,
          64,
          65,
          66,
          67,
          68,
          69,
          70,
          71,
          72,
          73,
          74,
          75,
          76,
          77,
          78,
          79,
          80,
          81,
          82,
          83,
          84,
          85,
          86,
          87,
          88,
          89,
          90,
          91,
          92,
          94,
          95,
          96,
          97,
          99,
          100,
          101,
          102,
          103,
          104,
          105,
          107,
          108,
          109,
          110,
          111,
          112,
          113,
          114,
          115,
          116,
          117,
          118,
          119,
          120,
          121,
          122,
          123,
          124,
          125,
          126,
          127,
          128,
          129,
          130,
          132,
          133,
          134,
          135,
          136,
          137,
          138,
          139,
          140,
          141,
          142,
          143,
          144,
          145,
          146,
          147,
          148,
          149
         ],
         "showlegend": false,
         "type": "splom",
         "uid": "3bce700a-7ba5-4d09-ab5d-dd1a56288a95"
        }
       ],
       "layout": {
        "autosize": true,
        "dragmode": "select",
        "hovermode": "closest",
        "legend": {
         "tracegroupgap": 0
        },
        "margin": {
         "t": 60
        },
        "template": {
         "data": {
          "bar": [
           {
            "marker": {
             "line": {
              "color": "#E5ECF6",
              "width": 0.5
             }
            },
            "type": "bar"
           }
          ],
          "barpolar": [
           {
            "marker": {
             "line": {
              "color": "#E5ECF6",
              "width": 0.5
             }
            },
            "type": "barpolar"
           }
          ],
          "carpet": [
           {
            "aaxis": {
             "endlinecolor": "#2a3f5f",
             "gridcolor": "white",
             "linecolor": "white",
             "minorgridcolor": "white",
             "startlinecolor": "#2a3f5f"
            },
            "baxis": {
             "endlinecolor": "#2a3f5f",
             "gridcolor": "white",
             "linecolor": "white",
             "minorgridcolor": "white",
             "startlinecolor": "#2a3f5f"
            },
            "type": "carpet"
           }
          ],
          "choropleth": [
           {
            "colorbar": {
             "outlinewidth": 0,
             "ticks": ""
            },
            "type": "choropleth"
           }
          ],
          "contour": [
           {
            "colorbar": {
             "outlinewidth": 0,
             "ticks": ""
            },
            "colorscale": [
             [
              0,
              "#0508b8"
             ],
             [
              0.0893854748603352,
              "#1910d8"
             ],
             [
              0.1787709497206704,
              "#3c19f0"
             ],
             [
              0.2681564245810056,
              "#6b1cfb"
             ],
             [
              0.3575418994413408,
              "#981cfd"
             ],
             [
              0.44692737430167595,
              "#bf1cfd"
             ],
             [
              0.5363128491620112,
              "#dd2bfd"
             ],
             [
              0.6256983240223464,
              "#f246fe"
             ],
             [
              0.7150837988826816,
              "#fc67fd"
             ],
             [
              0.8044692737430168,
              "#fe88fc"
             ],
             [
              0.8938547486033519,
              "#fea5fd"
             ],
             [
              0.9832402234636871,
              "#febefe"
             ],
             [
              1,
              "#fec3fe"
             ]
            ],
            "type": "contour"
           }
          ],
          "contourcarpet": [
           {
            "colorbar": {
             "outlinewidth": 0,
             "ticks": ""
            },
            "type": "contourcarpet"
           }
          ],
          "heatmap": [
           {
            "colorbar": {
             "outlinewidth": 0,
             "ticks": ""
            },
            "colorscale": [
             [
              0,
              "#0508b8"
             ],
             [
              0.0893854748603352,
              "#1910d8"
             ],
             [
              0.1787709497206704,
              "#3c19f0"
             ],
             [
              0.2681564245810056,
              "#6b1cfb"
             ],
             [
              0.3575418994413408,
              "#981cfd"
             ],
             [
              0.44692737430167595,
              "#bf1cfd"
             ],
             [
              0.5363128491620112,
              "#dd2bfd"
             ],
             [
              0.6256983240223464,
              "#f246fe"
             ],
             [
              0.7150837988826816,
              "#fc67fd"
             ],
             [
              0.8044692737430168,
              "#fe88fc"
             ],
             [
              0.8938547486033519,
              "#fea5fd"
             ],
             [
              0.9832402234636871,
              "#febefe"
             ],
             [
              1,
              "#fec3fe"
             ]
            ],
            "type": "heatmap"
           }
          ],
          "heatmapgl": [
           {
            "colorbar": {
             "outlinewidth": 0,
             "ticks": ""
            },
            "type": "heatmapgl"
           }
          ],
          "histogram": [
           {
            "marker": {
             "colorbar": {
              "outlinewidth": 0,
              "ticks": ""
             }
            },
            "type": "histogram"
           }
          ],
          "histogram2d": [
           {
            "colorbar": {
             "outlinewidth": 0,
             "ticks": ""
            },
            "colorscale": [
             [
              0,
              "#0508b8"
             ],
             [
              0.0893854748603352,
              "#1910d8"
             ],
             [
              0.1787709497206704,
              "#3c19f0"
             ],
             [
              0.2681564245810056,
              "#6b1cfb"
             ],
             [
              0.3575418994413408,
              "#981cfd"
             ],
             [
              0.44692737430167595,
              "#bf1cfd"
             ],
             [
              0.5363128491620112,
              "#dd2bfd"
             ],
             [
              0.6256983240223464,
              "#f246fe"
             ],
             [
              0.7150837988826816,
              "#fc67fd"
             ],
             [
              0.8044692737430168,
              "#fe88fc"
             ],
             [
              0.8938547486033519,
              "#fea5fd"
             ],
             [
              0.9832402234636871,
              "#febefe"
             ],
             [
              1,
              "#fec3fe"
             ]
            ],
            "type": "histogram2d"
           }
          ],
          "histogram2dcontour": [
           {
            "colorbar": {
             "outlinewidth": 0,
             "ticks": ""
            },
            "colorscale": [
             [
              0,
              "#0508b8"
             ],
             [
              0.0893854748603352,
              "#1910d8"
             ],
             [
              0.1787709497206704,
              "#3c19f0"
             ],
             [
              0.2681564245810056,
              "#6b1cfb"
             ],
             [
              0.3575418994413408,
              "#981cfd"
             ],
             [
              0.44692737430167595,
              "#bf1cfd"
             ],
             [
              0.5363128491620112,
              "#dd2bfd"
             ],
             [
              0.6256983240223464,
              "#f246fe"
             ],
             [
              0.7150837988826816,
              "#fc67fd"
             ],
             [
              0.8044692737430168,
              "#fe88fc"
             ],
             [
              0.8938547486033519,
              "#fea5fd"
             ],
             [
              0.9832402234636871,
              "#febefe"
             ],
             [
              1,
              "#fec3fe"
             ]
            ],
            "type": "histogram2dcontour"
           }
          ],
          "mesh3d": [
           {
            "colorbar": {
             "outlinewidth": 0,
             "ticks": ""
            },
            "type": "mesh3d"
           }
          ],
          "parcoords": [
           {
            "line": {
             "colorbar": {
              "outlinewidth": 0,
              "ticks": ""
             }
            },
            "type": "parcoords"
           }
          ],
          "scatter": [
           {
            "marker": {
             "colorbar": {
              "outlinewidth": 0,
              "ticks": ""
             }
            },
            "type": "scatter"
           }
          ],
          "scatter3d": [
           {
            "marker": {
             "colorbar": {
              "outlinewidth": 0,
              "ticks": ""
             }
            },
            "type": "scatter3d"
           }
          ],
          "scattercarpet": [
           {
            "marker": {
             "colorbar": {
              "outlinewidth": 0,
              "ticks": ""
             }
            },
            "type": "scattercarpet"
           }
          ],
          "scattergeo": [
           {
            "marker": {
             "colorbar": {
              "outlinewidth": 0,
              "ticks": ""
             }
            },
            "type": "scattergeo"
           }
          ],
          "scattergl": [
           {
            "marker": {
             "colorbar": {
              "outlinewidth": 0,
              "ticks": ""
             }
            },
            "type": "scattergl"
           }
          ],
          "scattermapbox": [
           {
            "marker": {
             "colorbar": {
              "outlinewidth": 0,
              "ticks": ""
             }
            },
            "type": "scattermapbox"
           }
          ],
          "scatterpolar": [
           {
            "marker": {
             "colorbar": {
              "outlinewidth": 0,
              "ticks": ""
             }
            },
            "type": "scatterpolar"
           }
          ],
          "scatterpolargl": [
           {
            "marker": {
             "colorbar": {
              "outlinewidth": 0,
              "ticks": ""
             }
            },
            "type": "scatterpolargl"
           }
          ],
          "scatterternary": [
           {
            "marker": {
             "colorbar": {
              "outlinewidth": 0,
              "ticks": ""
             }
            },
            "type": "scatterternary"
           }
          ],
          "surface": [
           {
            "colorbar": {
             "outlinewidth": 0,
             "ticks": ""
            },
            "type": "surface"
           }
          ],
          "table": [
           {
            "cells": {
             "fill": {
              "color": "#EBF0F8"
             },
             "line": {
              "color": "white"
             }
            },
            "header": {
             "fill": {
              "color": "#C8D4E3"
             },
             "line": {
              "color": "white"
             }
            },
            "type": "table"
           }
          ]
         },
         "layout": {
          "annotationdefaults": {
           "arrowcolor": "#506784",
           "arrowhead": 0,
           "arrowwidth": 1
          },
          "colorscale": {
           "diverging": [
            [
             0,
             "#8e0152"
            ],
            [
             0.1,
             "#c51b7d"
            ],
            [
             0.2,
             "#de77ae"
            ],
            [
             0.3,
             "#f1b6da"
            ],
            [
             0.4,
             "#fde0ef"
            ],
            [
             0.5,
             "#f7f7f7"
            ],
            [
             0.6,
             "#e6f5d0"
            ],
            [
             0.7,
             "#b8e186"
            ],
            [
             0.8,
             "#7fbc41"
            ],
            [
             0.9,
             "#4d9221"
            ],
            [
             1,
             "#276419"
            ]
           ],
           "sequential": [
            [
             0,
             "#0508b8"
            ],
            [
             0.0893854748603352,
             "#1910d8"
            ],
            [
             0.1787709497206704,
             "#3c19f0"
            ],
            [
             0.2681564245810056,
             "#6b1cfb"
            ],
            [
             0.3575418994413408,
             "#981cfd"
            ],
            [
             0.44692737430167595,
             "#bf1cfd"
            ],
            [
             0.5363128491620112,
             "#dd2bfd"
            ],
            [
             0.6256983240223464,
             "#f246fe"
            ],
            [
             0.7150837988826816,
             "#fc67fd"
            ],
            [
             0.8044692737430168,
             "#fe88fc"
            ],
            [
             0.8938547486033519,
             "#fea5fd"
            ],
            [
             0.9832402234636871,
             "#febefe"
            ],
            [
             1,
             "#fec3fe"
            ]
           ],
           "sequentialminus": [
            [
             0,
             "#0508b8"
            ],
            [
             0.0893854748603352,
             "#1910d8"
            ],
            [
             0.1787709497206704,
             "#3c19f0"
            ],
            [
             0.2681564245810056,
             "#6b1cfb"
            ],
            [
             0.3575418994413408,
             "#981cfd"
            ],
            [
             0.44692737430167595,
             "#bf1cfd"
            ],
            [
             0.5363128491620112,
             "#dd2bfd"
            ],
            [
             0.6256983240223464,
             "#f246fe"
            ],
            [
             0.7150837988826816,
             "#fc67fd"
            ],
            [
             0.8044692737430168,
             "#fe88fc"
            ],
            [
             0.8938547486033519,
             "#fea5fd"
            ],
            [
             0.9832402234636871,
             "#febefe"
            ],
            [
             1,
             "#fec3fe"
            ]
           ]
          },
          "colorway": [
           "#636efa",
           "#EF553B",
           "#00cc96",
           "#ab63fa",
           "#19d3f3",
           "#e763fa",
           "#FECB52",
           "#FFA15A",
           "#FF6692",
           "#B6E880"
          ],
          "font": {
           "color": "#2a3f5f"
          },
          "geo": {
           "bgcolor": "white",
           "lakecolor": "white",
           "landcolor": "#E5ECF6",
           "showlakes": true,
           "showland": true,
           "subunitcolor": "white"
          },
          "hoverlabel": {
           "align": "left"
          },
          "hovermode": "closest",
          "mapbox": {
           "style": "light"
          },
          "paper_bgcolor": "white",
          "plot_bgcolor": "#E5ECF6",
          "polar": {
           "angularaxis": {
            "gridcolor": "white",
            "linecolor": "white",
            "ticks": ""
           },
           "bgcolor": "#E5ECF6",
           "radialaxis": {
            "gridcolor": "white",
            "linecolor": "white",
            "ticks": ""
           }
          },
          "scene": {
           "xaxis": {
            "backgroundcolor": "#E5ECF6",
            "gridcolor": "white",
            "gridwidth": 2,
            "linecolor": "white",
            "showbackground": true,
            "ticks": "",
            "zerolinecolor": "white"
           },
           "yaxis": {
            "backgroundcolor": "#E5ECF6",
            "gridcolor": "white",
            "gridwidth": 2,
            "linecolor": "white",
            "showbackground": true,
            "ticks": "",
            "zerolinecolor": "white"
           },
           "zaxis": {
            "backgroundcolor": "#E5ECF6",
            "gridcolor": "white",
            "gridwidth": 2,
            "linecolor": "white",
            "showbackground": true,
            "ticks": "",
            "zerolinecolor": "white"
           }
          },
          "shapedefaults": {
           "fillcolor": "#506784",
           "line": {
            "width": 0
           },
           "opacity": 0.4
          },
          "ternary": {
           "aaxis": {
            "gridcolor": "white",
            "linecolor": "white",
            "ticks": ""
           },
           "baxis": {
            "gridcolor": "white",
            "linecolor": "white",
            "ticks": ""
           },
           "bgcolor": "#E5ECF6",
           "caxis": {
            "gridcolor": "white",
            "linecolor": "white",
            "ticks": ""
           }
          },
          "title": {
           "x": 0.05
          },
          "xaxis": {
           "automargin": true,
           "gridcolor": "white",
           "linecolor": "white",
           "ticks": "",
           "zerolinecolor": "white",
           "zerolinewidth": 2
          },
          "yaxis": {
           "automargin": true,
           "gridcolor": "white",
           "linecolor": "white",
           "ticks": "",
           "zerolinecolor": "white",
           "zerolinewidth": 2
          }
         }
        },
        "xaxis": {
         "autorange": false,
         "range": [
          4.965235267245318,
          7.234764732754686
         ],
         "type": "linear"
        },
        "xaxis2": {
         "autorange": false,
         "range": [
          2.4434901781635445,
          3.9565098218364545
         ],
         "type": "linear"
        },
        "xaxis3": {
         "autorange": false,
         "range": [
          2.0902466879853803,
          5.8097533120146165
         ],
         "type": "linear"
        },
        "xaxis4": {
         "autorange": false,
         "range": [
          0.5434901781635448,
          2.0565098218364555
         ],
         "type": "linear"
        },
        "xaxis5": {
         "autorange": false,
         "range": [
          0.3695751484696208,
          1.6304248515303792
         ],
         "type": "category"
        },
        "xaxis6": {
         "autorange": false,
         "range": [
          1.3695751484696204,
          2.630424851530379
         ],
         "type": "linear"
        },
        "yaxis": {
         "autorange": false,
         "range": [
          4.965235267245318,
          7.234764732754686
         ],
         "type": "linear"
        },
        "yaxis2": {
         "autorange": false,
         "range": [
          2.4434901781635445,
          3.9565098218364545
         ],
         "type": "linear"
        },
        "yaxis3": {
         "autorange": false,
         "range": [
          2.0902466879853803,
          5.8097533120146165
         ],
         "type": "linear"
        },
        "yaxis4": {
         "autorange": false,
         "range": [
          0.5434901781635448,
          2.0565098218364555
         ],
         "type": "linear"
        },
        "yaxis5": {
         "autorange": false,
         "range": [
          0.3695751484696208,
          1.6304248515303792
         ],
         "type": "category"
        },
        "yaxis6": {
         "autorange": false,
         "range": [
          1.3695751484696204,
          2.630424851530379
         ],
         "type": "linear"
        }
       }
      },
      "image/png": "[encoded data removed]",
      "text/html": [
       "<div>\n",
       "        \n",
       "        \n",
       "            <div id=\"9747d00e-1314-44b3-adaa-ec40d881dc7c\" class=\"plotly-graph-div\" style=\"height:600px; width:100%;\"></div>\n",
       "            <script type=\"text/javascript\">\n",
       "                require([\"plotly\"], function(Plotly) {\n",
       "                    window.PLOTLYENV=window.PLOTLYENV || {};\n",
       "                    window.PLOTLYENV.BASE_URL='https://plot.ly';\n",
       "                    \n",
       "                if (document.getElementById(\"9747d00e-1314-44b3-adaa-ec40d881dc7c\")) {\n",
       "                    Plotly.newPlot(\n",
       "                        '9747d00e-1314-44b3-adaa-ec40d881dc7c',\n",
       "                        [{\"dimensions\": [{\"axis\": {\"matches\": true}, \"label\": \"sepal_length\", \"values\": [5.1, 4.9, 4.7, 4.6, 5.0, 5.4, 4.6, 5.0, 4.4, 4.9, 5.4, 4.8, 4.8, 4.3, 5.8, 5.7, 5.4, 5.1, 5.7, 5.1, 5.4, 5.1, 4.6, 5.1, 4.8, 5.0, 5.0, 5.2, 5.2, 4.7, 4.8, 5.4, 5.2, 5.5, 4.9, 5.0, 5.5, 4.9, 4.4, 5.1, 5.0, 4.5, 4.4, 5.0, 5.1, 4.8, 5.1, 4.6, 5.3, 5.0, 7.0, 6.4, 6.9, 5.5, 6.5, 5.7, 6.3, 4.9, 6.6, 5.2, 5.0, 5.9, 6.0, 6.1, 5.6, 6.7, 5.6, 5.8, 6.2, 5.6, 5.9, 6.1, 6.3, 6.1, 6.4, 6.6, 6.8, 6.7, 6.0, 5.7, 5.5, 5.5, 5.8, 6.0, 5.4, 6.0, 6.7, 6.3, 5.6, 5.5, 5.5, 6.1, 5.8, 5.0, 5.6, 5.7, 5.7, 6.2, 5.1, 5.7, 6.3, 5.8, 7.1, 6.3, 6.5, 7.6, 4.9, 7.3, 6.7, 7.2, 6.5, 6.4, 6.8, 5.7, 5.8, 6.4, 6.5, 7.7, 7.7, 6.0, 6.9, 5.6, 7.7, 6.3, 6.7, 7.2, 6.2, 6.1, 6.4, 7.2, 7.4, 7.9, 6.4, 6.3, 6.1, 7.7, 6.3, 6.4, 6.0, 6.9, 6.7, 6.9, 5.8, 6.8, 6.7, 6.7, 6.3, 6.5, 6.2, 5.9]}, {\"axis\": {\"matches\": true}, \"label\": \"sepal_width\", \"values\": [3.5, 3.0, 3.2, 3.1, 3.6, 3.9, 3.4, 3.4, 2.9, 3.1, 3.7, 3.4, 3.0, 3.0, 4.0, 4.4, 3.9, 3.5, 3.8, 3.8, 3.4, 3.7, 3.6, 3.3, 3.4, 3.0, 3.4, 3.5, 3.4, 3.2, 3.1, 3.4, 4.1, 4.2, 3.1, 3.2, 3.5, 3.1, 3.0, 3.4, 3.5, 2.3, 3.2, 3.5, 3.8, 3.0, 3.8, 3.2, 3.7, 3.3, 3.2, 3.2, 3.1, 2.3, 2.8, 2.8, 3.3, 2.4, 2.9, 2.7, 2.0, 3.0, 2.2, 2.9, 2.9, 3.1, 3.0, 2.7, 2.2, 2.5, 3.2, 2.8, 2.5, 2.8, 2.9, 3.0, 2.8, 3.0, 2.9, 2.6, 2.4, 2.4, 2.7, 2.7, 3.0, 3.4, 3.1, 2.3, 3.0, 2.5, 2.6, 3.0, 2.6, 2.3, 2.7, 3.0, 2.9, 2.9, 2.5, 2.8, 3.3, 2.7, 3.0, 2.9, 3.0, 3.0, 2.5, 2.9, 2.5, 3.6, 3.2, 2.7, 3.0, 2.5, 2.8, 3.2, 3.0, 3.8, 2.6, 2.2, 3.2, 2.8, 2.8, 2.7, 3.3, 3.2, 2.8, 3.0, 2.8, 3.0, 2.8, 3.8, 2.8, 2.8, 2.6, 3.0, 3.4, 3.1, 3.0, 3.1, 3.1, 3.1, 2.7, 3.2, 3.3, 3.0, 2.5, 3.0, 3.4, 3.0]}, {\"axis\": {\"matches\": true}, \"label\": \"petal_length\", \"values\": [1.4, 1.4, 1.3, 1.5, 1.4, 1.7, 1.4, 1.5, 1.4, 1.5, 1.5, 1.6, 1.4, 1.1, 1.2, 1.5, 1.3, 1.4, 1.7, 1.5, 1.7, 1.5, 1.0, 1.7, 1.9, 1.6, 1.6, 1.5, 1.4, 1.6, 1.6, 1.5, 1.5, 1.4, 1.5, 1.2, 1.3, 1.5, 1.3, 1.5, 1.3, 1.3, 1.3, 1.6, 1.9, 1.4, 1.6, 1.4, 1.5, 1.4, 4.7, 4.5, 4.9, 4.0, 4.6, 4.5, 4.7, 3.3, 4.6, 3.9, 3.5, 4.2, 4.0, 4.7, 3.6, 4.4, 4.5, 4.1, 4.5, 3.9, 4.8, 4.0, 4.9, 4.7, 4.3, 4.4, 4.8, 5.0, 4.5, 3.5, 3.8, 3.7, 3.9, 5.1, 4.5, 4.5, 4.7, 4.4, 4.1, 4.0, 4.4, 4.6, 4.0, 3.3, 4.2, 4.2, 4.2, 4.3, 3.0, 4.1, 6.0, 5.1, 5.9, 5.6, 5.8, 6.6, 4.5, 6.3, 5.8, 6.1, 5.1, 5.3, 5.5, 5.0, 5.1, 5.3, 5.5, 6.7, 6.9, 5.0, 5.7, 4.9, 6.7, 4.9, 5.7, 6.0, 4.8, 4.9, 5.6, 5.8, 6.1, 6.4, 5.6, 5.1, 5.6, 6.1, 5.6, 5.5, 4.8, 5.4, 5.6, 5.1, 5.1, 5.9, 5.7, 5.2, 5.0, 5.2, 5.4, 5.1]}, {\"axis\": {\"matches\": true}, \"label\": \"petal_width\", \"values\": [0.2, 0.2, 0.2, 0.2, 0.2, 0.4, 0.3, 0.2, 0.2, 0.1, 0.2, 0.2, 0.1, 0.1, 0.2, 0.4, 0.4, 0.3, 0.3, 0.3, 0.2, 0.4, 0.2, 0.5, 0.2, 0.2, 0.4, 0.2, 0.2, 0.2, 0.2, 0.4, 0.1, 0.2, 0.1, 0.2, 0.2, 0.1, 0.2, 0.2, 0.3, 0.3, 0.2, 0.6, 0.4, 0.3, 0.2, 0.2, 0.2, 0.2, 1.4, 1.5, 1.5, 1.3, 1.5, 1.3, 1.6, 1.0, 1.3, 1.4, 1.0, 1.5, 1.0, 1.4, 1.3, 1.4, 1.5, 1.0, 1.5, 1.1, 1.8, 1.3, 1.5, 1.2, 1.3, 1.4, 1.4, 1.7, 1.5, 1.0, 1.1, 1.0, 1.2, 1.6, 1.5, 1.6, 1.5, 1.3, 1.3, 1.3, 1.2, 1.4, 1.2, 1.0, 1.3, 1.2, 1.3, 1.3, 1.1, 1.3, 2.5, 1.9, 2.1, 1.8, 2.2, 2.1, 1.7, 1.8, 1.8, 2.5, 2.0, 1.9, 2.1, 2.0, 2.4, 2.3, 1.8, 2.2, 2.3, 1.5, 2.3, 2.0, 2.0, 1.8, 2.1, 1.8, 1.8, 1.8, 2.1, 1.6, 1.9, 2.0, 2.2, 1.5, 1.4, 2.3, 2.4, 1.8, 1.8, 2.1, 2.4, 2.3, 1.9, 2.3, 2.5, 2.3, 1.9, 2.0, 2.3, 1.8]}, {\"axis\": {\"matches\": true}, \"label\": \"species\", \"values\": [\"setosa\", \"setosa\", \"setosa\", \"setosa\", \"setosa\", \"setosa\", \"setosa\", \"setosa\", \"setosa\", \"setosa\", \"setosa\", \"setosa\", \"setosa\", \"setosa\", \"setosa\", \"setosa\", \"setosa\", \"setosa\", \"setosa\", \"setosa\", \"setosa\", \"setosa\", \"setosa\", \"setosa\", \"setosa\", \"setosa\", \"setosa\", \"setosa\", \"setosa\", \"setosa\", \"setosa\", \"setosa\", \"setosa\", \"setosa\", \"setosa\", \"setosa\", \"setosa\", \"setosa\", \"setosa\", \"setosa\", \"setosa\", \"setosa\", \"setosa\", \"setosa\", \"setosa\", \"setosa\", \"setosa\", \"setosa\", \"setosa\", \"setosa\", \"versicolor\", \"versicolor\", \"versicolor\", \"versicolor\", \"versicolor\", \"versicolor\", \"versicolor\", \"versicolor\", \"versicolor\", \"versicolor\", \"versicolor\", \"versicolor\", \"versicolor\", \"versicolor\", \"versicolor\", \"versicolor\", \"versicolor\", \"versicolor\", \"versicolor\", \"versicolor\", \"versicolor\", \"versicolor\", \"versicolor\", \"versicolor\", \"versicolor\", \"versicolor\", \"versicolor\", \"versicolor\", \"versicolor\", \"versicolor\", \"versicolor\", \"versicolor\", \"versicolor\", \"versicolor\", \"versicolor\", \"versicolor\", \"versicolor\", \"versicolor\", \"versicolor\", \"versicolor\", \"versicolor\", \"versicolor\", \"versicolor\", \"versicolor\", \"versicolor\", \"versicolor\", \"versicolor\", \"versicolor\", \"versicolor\", \"versicolor\", \"virginica\", \"virginica\", \"virginica\", \"virginica\", \"virginica\", \"virginica\", \"virginica\", \"virginica\", \"virginica\", \"virginica\", \"virginica\", \"virginica\", \"virginica\", \"virginica\", \"virginica\", \"virginica\", \"virginica\", \"virginica\", \"virginica\", \"virginica\", \"virginica\", \"virginica\", \"virginica\", \"virginica\", \"virginica\", \"virginica\", \"virginica\", \"virginica\", \"virginica\", \"virginica\", \"virginica\", \"virginica\", \"virginica\", \"virginica\", \"virginica\", \"virginica\", \"virginica\", \"virginica\", \"virginica\", \"virginica\", \"virginica\", \"virginica\", \"virginica\", \"virginica\", \"virginica\", \"virginica\", \"virginica\", \"virginica\", \"virginica\", \"virginica\"]}, {\"axis\": {\"matches\": true}, \"label\": \"species_id\", \"values\": [1, 1, 1, 1, 1, 1, 1, 1, 1, 1, 1, 1, 1, 1, 1, 1, 1, 1, 1, 1, 1, 1, 1, 1, 1, 1, 1, 1, 1, 1, 1, 1, 1, 1, 1, 1, 1, 1, 1, 1, 1, 1, 1, 1, 1, 1, 1, 1, 1, 1, 2, 2, 2, 2, 2, 2, 2, 2, 2, 2, 2, 2, 2, 2, 2, 2, 2, 2, 2, 2, 2, 2, 2, 2, 2, 2, 2, 2, 2, 2, 2, 2, 2, 2, 2, 2, 2, 2, 2, 2, 2, 2, 2, 2, 2, 2, 2, 2, 2, 2, 3, 3, 3, 3, 3, 3, 3, 3, 3, 3, 3, 3, 3, 3, 3, 3, 3, 3, 3, 3, 3, 3, 3, 3, 3, 3, 3, 3, 3, 3, 3, 3, 3, 3, 3, 3, 3, 3, 3, 3, 3, 3, 3, 3, 3, 3, 3, 3, 3, 3]}], \"hoverlabel\": {\"namelength\": 0}, \"hovertemplate\": \"%{xaxis.title.text}=%{x}<br>%{yaxis.title.text}=%{y}\", \"legendgroup\": \"\", \"marker\": {\"color\": \"#636efa\", \"symbol\": \"circle\"}, \"name\": \"\", \"showlegend\": false, \"type\": \"splom\", \"uid\": \"3bce700a-7ba5-4d09-ab5d-dd1a56288a95\"}],\n",
       "                        {\"dragmode\": \"select\", \"height\": 600, \"legend\": {\"tracegroupgap\": 0}, \"margin\": {\"t\": 60}, \"template\": {\"data\": {\"bar\": [{\"marker\": {\"line\": {\"color\": \"#E5ECF6\", \"width\": 0.5}}, \"type\": \"bar\"}], \"barpolar\": [{\"marker\": {\"line\": {\"color\": \"#E5ECF6\", \"width\": 0.5}}, \"type\": \"barpolar\"}], \"carpet\": [{\"aaxis\": {\"endlinecolor\": \"#2a3f5f\", \"gridcolor\": \"white\", \"linecolor\": \"white\", \"minorgridcolor\": \"white\", \"startlinecolor\": \"#2a3f5f\"}, \"baxis\": {\"endlinecolor\": \"#2a3f5f\", \"gridcolor\": \"white\", \"linecolor\": \"white\", \"minorgridcolor\": \"white\", \"startlinecolor\": \"#2a3f5f\"}, \"type\": \"carpet\"}], \"choropleth\": [{\"colorbar\": {\"outlinewidth\": 0, \"ticks\": \"\"}, \"type\": \"choropleth\"}], \"contour\": [{\"colorbar\": {\"outlinewidth\": 0, \"ticks\": \"\"}, \"colorscale\": [[0.0, \"#0508b8\"], [0.0893854748603352, \"#1910d8\"], [0.1787709497206704, \"#3c19f0\"], [0.2681564245810056, \"#6b1cfb\"], [0.3575418994413408, \"#981cfd\"], [0.44692737430167595, \"#bf1cfd\"], [0.5363128491620112, \"#dd2bfd\"], [0.6256983240223464, \"#f246fe\"], [0.7150837988826816, \"#fc67fd\"], [0.8044692737430168, \"#fe88fc\"], [0.8938547486033519, \"#fea5fd\"], [0.9832402234636871, \"#febefe\"], [1.0, \"#fec3fe\"]], \"type\": \"contour\"}], \"contourcarpet\": [{\"colorbar\": {\"outlinewidth\": 0, \"ticks\": \"\"}, \"type\": \"contourcarpet\"}], \"heatmap\": [{\"colorbar\": {\"outlinewidth\": 0, \"ticks\": \"\"}, \"colorscale\": [[0.0, \"#0508b8\"], [0.0893854748603352, \"#1910d8\"], [0.1787709497206704, \"#3c19f0\"], [0.2681564245810056, \"#6b1cfb\"], [0.3575418994413408, \"#981cfd\"], [0.44692737430167595, \"#bf1cfd\"], [0.5363128491620112, \"#dd2bfd\"], [0.6256983240223464, \"#f246fe\"], [0.7150837988826816, \"#fc67fd\"], [0.8044692737430168, \"#fe88fc\"], [0.8938547486033519, \"#fea5fd\"], [0.9832402234636871, \"#febefe\"], [1.0, \"#fec3fe\"]], \"type\": \"heatmap\"}], \"heatmapgl\": [{\"colorbar\": {\"outlinewidth\": 0, \"ticks\": \"\"}, \"type\": \"heatmapgl\"}], \"histogram\": [{\"marker\": {\"colorbar\": {\"outlinewidth\": 0, \"ticks\": \"\"}}, \"type\": \"histogram\"}], \"histogram2d\": [{\"colorbar\": {\"outlinewidth\": 0, \"ticks\": \"\"}, \"colorscale\": [[0.0, \"#0508b8\"], [0.0893854748603352, \"#1910d8\"], [0.1787709497206704, \"#3c19f0\"], [0.2681564245810056, \"#6b1cfb\"], [0.3575418994413408, \"#981cfd\"], [0.44692737430167595, \"#bf1cfd\"], [0.5363128491620112, \"#dd2bfd\"], [0.6256983240223464, \"#f246fe\"], [0.7150837988826816, \"#fc67fd\"], [0.8044692737430168, \"#fe88fc\"], [0.8938547486033519, \"#fea5fd\"], [0.9832402234636871, \"#febefe\"], [1.0, \"#fec3fe\"]], \"type\": \"histogram2d\"}], \"histogram2dcontour\": [{\"colorbar\": {\"outlinewidth\": 0, \"ticks\": \"\"}, \"colorscale\": [[0.0, \"#0508b8\"], [0.0893854748603352, \"#1910d8\"], [0.1787709497206704, \"#3c19f0\"], [0.2681564245810056, \"#6b1cfb\"], [0.3575418994413408, \"#981cfd\"], [0.44692737430167595, \"#bf1cfd\"], [0.5363128491620112, \"#dd2bfd\"], [0.6256983240223464, \"#f246fe\"], [0.7150837988826816, \"#fc67fd\"], [0.8044692737430168, \"#fe88fc\"], [0.8938547486033519, \"#fea5fd\"], [0.9832402234636871, \"#febefe\"], [1.0, \"#fec3fe\"]], \"type\": \"histogram2dcontour\"}], \"mesh3d\": [{\"colorbar\": {\"outlinewidth\": 0, \"ticks\": \"\"}, \"type\": \"mesh3d\"}], \"parcoords\": [{\"line\": {\"colorbar\": {\"outlinewidth\": 0, \"ticks\": \"\"}}, \"type\": \"parcoords\"}], \"scatter\": [{\"marker\": {\"colorbar\": {\"outlinewidth\": 0, \"ticks\": \"\"}}, \"type\": \"scatter\"}], \"scatter3d\": [{\"marker\": {\"colorbar\": {\"outlinewidth\": 0, \"ticks\": \"\"}}, \"type\": \"scatter3d\"}], \"scattercarpet\": [{\"marker\": {\"colorbar\": {\"outlinewidth\": 0, \"ticks\": \"\"}}, \"type\": \"scattercarpet\"}], \"scattergeo\": [{\"marker\": {\"colorbar\": {\"outlinewidth\": 0, \"ticks\": \"\"}}, \"type\": \"scattergeo\"}], \"scattergl\": [{\"marker\": {\"colorbar\": {\"outlinewidth\": 0, \"ticks\": \"\"}}, \"type\": \"scattergl\"}], \"scattermapbox\": [{\"marker\": {\"colorbar\": {\"outlinewidth\": 0, \"ticks\": \"\"}}, \"type\": \"scattermapbox\"}], \"scatterpolar\": [{\"marker\": {\"colorbar\": {\"outlinewidth\": 0, \"ticks\": \"\"}}, \"type\": \"scatterpolar\"}], \"scatterpolargl\": [{\"marker\": {\"colorbar\": {\"outlinewidth\": 0, \"ticks\": \"\"}}, \"type\": \"scatterpolargl\"}], \"scatterternary\": [{\"marker\": {\"colorbar\": {\"outlinewidth\": 0, \"ticks\": \"\"}}, \"type\": \"scatterternary\"}], \"surface\": [{\"colorbar\": {\"outlinewidth\": 0, \"ticks\": \"\"}, \"type\": \"surface\"}], \"table\": [{\"cells\": {\"fill\": {\"color\": \"#EBF0F8\"}, \"line\": {\"color\": \"white\"}}, \"header\": {\"fill\": {\"color\": \"#C8D4E3\"}, \"line\": {\"color\": \"white\"}}, \"type\": \"table\"}]}, \"layout\": {\"annotationdefaults\": {\"arrowcolor\": \"#506784\", \"arrowhead\": 0, \"arrowwidth\": 1}, \"colorscale\": {\"diverging\": [[0, \"#8e0152\"], [0.1, \"#c51b7d\"], [0.2, \"#de77ae\"], [0.3, \"#f1b6da\"], [0.4, \"#fde0ef\"], [0.5, \"#f7f7f7\"], [0.6, \"#e6f5d0\"], [0.7, \"#b8e186\"], [0.8, \"#7fbc41\"], [0.9, \"#4d9221\"], [1, \"#276419\"]], \"sequential\": [[0.0, \"#0508b8\"], [0.0893854748603352, \"#1910d8\"], [0.1787709497206704, \"#3c19f0\"], [0.2681564245810056, \"#6b1cfb\"], [0.3575418994413408, \"#981cfd\"], [0.44692737430167595, \"#bf1cfd\"], [0.5363128491620112, \"#dd2bfd\"], [0.6256983240223464, \"#f246fe\"], [0.7150837988826816, \"#fc67fd\"], [0.8044692737430168, \"#fe88fc\"], [0.8938547486033519, \"#fea5fd\"], [0.9832402234636871, \"#febefe\"], [1.0, \"#fec3fe\"]], \"sequentialminus\": [[0.0, \"#0508b8\"], [0.0893854748603352, \"#1910d8\"], [0.1787709497206704, \"#3c19f0\"], [0.2681564245810056, \"#6b1cfb\"], [0.3575418994413408, \"#981cfd\"], [0.44692737430167595, \"#bf1cfd\"], [0.5363128491620112, \"#dd2bfd\"], [0.6256983240223464, \"#f246fe\"], [0.7150837988826816, \"#fc67fd\"], [0.8044692737430168, \"#fe88fc\"], [0.8938547486033519, \"#fea5fd\"], [0.9832402234636871, \"#febefe\"], [1.0, \"#fec3fe\"]]}, \"colorway\": [\"#636efa\", \"#EF553B\", \"#00cc96\", \"#ab63fa\", \"#19d3f3\", \"#e763fa\", \"#FECB52\", \"#FFA15A\", \"#FF6692\", \"#B6E880\"], \"font\": {\"color\": \"#2a3f5f\"}, \"geo\": {\"bgcolor\": \"white\", \"lakecolor\": \"white\", \"landcolor\": \"#E5ECF6\", \"showlakes\": true, \"showland\": true, \"subunitcolor\": \"white\"}, \"hoverlabel\": {\"align\": \"left\"}, \"hovermode\": \"closest\", \"mapbox\": {\"style\": \"light\"}, \"paper_bgcolor\": \"white\", \"plot_bgcolor\": \"#E5ECF6\", \"polar\": {\"angularaxis\": {\"gridcolor\": \"white\", \"linecolor\": \"white\", \"ticks\": \"\"}, \"bgcolor\": \"#E5ECF6\", \"radialaxis\": {\"gridcolor\": \"white\", \"linecolor\": \"white\", \"ticks\": \"\"}}, \"scene\": {\"xaxis\": {\"backgroundcolor\": \"#E5ECF6\", \"gridcolor\": \"white\", \"gridwidth\": 2, \"linecolor\": \"white\", \"showbackground\": true, \"ticks\": \"\", \"zerolinecolor\": \"white\"}, \"yaxis\": {\"backgroundcolor\": \"#E5ECF6\", \"gridcolor\": \"white\", \"gridwidth\": 2, \"linecolor\": \"white\", \"showbackground\": true, \"ticks\": \"\", \"zerolinecolor\": \"white\"}, \"zaxis\": {\"backgroundcolor\": \"#E5ECF6\", \"gridcolor\": \"white\", \"gridwidth\": 2, \"linecolor\": \"white\", \"showbackground\": true, \"ticks\": \"\", \"zerolinecolor\": \"white\"}}, \"shapedefaults\": {\"fillcolor\": \"#506784\", \"line\": {\"width\": 0}, \"opacity\": 0.4}, \"ternary\": {\"aaxis\": {\"gridcolor\": \"white\", \"linecolor\": \"white\", \"ticks\": \"\"}, \"baxis\": {\"gridcolor\": \"white\", \"linecolor\": \"white\", \"ticks\": \"\"}, \"bgcolor\": \"#E5ECF6\", \"caxis\": {\"gridcolor\": \"white\", \"linecolor\": \"white\", \"ticks\": \"\"}}, \"title\": {\"x\": 0.05}, \"xaxis\": {\"automargin\": true, \"gridcolor\": \"white\", \"linecolor\": \"white\", \"ticks\": \"\", \"zerolinecolor\": \"white\", \"zerolinewidth\": 2}, \"yaxis\": {\"automargin\": true, \"gridcolor\": \"white\", \"linecolor\": \"white\", \"ticks\": \"\", \"zerolinecolor\": \"white\", \"zerolinewidth\": 2}}}},\n",
       "                        {\"showLink\": false, \"linkText\": \"Export to plot.ly\", \"plotlyServerURL\": \"https://plot.ly\", \"responsive\": true}\n",
       "                    ).then(function(){\n",
       "                            \n",
       "var gd = document.getElementById('9747d00e-1314-44b3-adaa-ec40d881dc7c');\n",
       "var x = new MutationObserver(function (mutations, observer) {{\n",
       "        var display = window.getComputedStyle(gd).display;\n",
       "        if (!display || display === 'none') {{\n",
       "            console.log([gd, 'removed!']);\n",
       "            Plotly.purge(gd);\n",
       "            observer.disconnect();\n",
       "        }}\n",
       "}});\n",
       "\n",
       "// Listen for the removal of the full notebook cells\n",
       "var notebookContainer = gd.closest('#notebook-container');\n",
       "if (notebookContainer) {{\n",
       "    x.observe(notebookContainer, {childList: true});\n",
       "}}\n",
       "\n",
       "// Listen for the clearing of the current output cell\n",
       "var outputEl = gd.closest('.output');\n",
       "if (outputEl) {{\n",
       "    x.observe(outputEl, {childList: true});\n",
       "}}\n",
       "\n",
       "                        })\n",
       "                };\n",
       "                });\n",
       "            </script>\n",
       "        </div>"
      ]
     },
     "metadata": {
      "tags": []
     },
     "output_type": "display_data"
    }
   ],
   "source": [
    "px.scatter_matrix(iris)"
   ]
  },
  {
   "cell_type": "code",
   "execution_count": null,
   "metadata": {
    "Collapsed": "false",
    "colab": {},
    "colab_type": "code",
    "id": "4Wd5sBkQwYjG"
   },
   "outputs": [],
   "source": []
  },
  {
   "cell_type": "code",
   "execution_count": null,
   "metadata": {
    "Collapsed": "false",
    "colab": {},
    "colab_type": "code",
    "id": "oJGYq_GRwYjJ"
   },
   "outputs": [],
   "source": []
  }
 ],
 "metadata": {
  "colab": {
   "collapsed_sections": [],
   "name": "sankey.ipynb",
   "provenance": []
  },
  "kernelspec": {
   "display_name": "Python 3",
   "language": "python",
   "name": "python3"
  },
  "language_info": {
   "codemirror_mode": {
    "name": "ipython",
    "version": 3
   },
   "file_extension": ".py",
   "mimetype": "text/x-python",
   "name": "python",
   "nbconvert_exporter": "python",
   "pygments_lexer": "ipython3",
   "version": "3.8.5"
  },
  "toc-autonumbering": false,
  "toc-showcode": false,
  "toc-showmarkdowntxt": true,
  "toc-showtags": false
 },
 "nbformat": 4,
 "nbformat_minor": 4
}
