{
 "cells": [
  {
   "cell_type": "markdown",
   "metadata": {
    "Collapsed": "false",
    "colab_type": "text",
    "id": "BLVy9ZifwYiV"
   },
   "source": [
    "#  TODO Plotly Sunburst plots with Dimensions data\n",
    "\n",
    "* https://plotly.com/python/sunburst-charts/ walkthrough guide\n",
    "* https://plotly.com/python-api-reference/generated/plotly.express.sunburst.html#plotly.express.sunburst full docs"
   ]
  },
  {
   "cell_type": "code",
   "execution_count": 1,
   "metadata": {
    "Collapsed": "false",
    "colab": {},
    "colab_type": "code",
    "id": "o_zL5ZigwYiY",
    "outputId": "7c2f5368-af63-4199-b21a-ba7c401474dd"
   },
   "outputs": [
    {
     "data": {
      "text/html": [
       "        <script type=\"text/javascript\">\n",
       "        window.PlotlyConfig = {MathJaxConfig: 'local'};\n",
       "        if (window.MathJax) {MathJax.Hub.Config({SVG: {font: \"STIX-Web\"}});}\n",
       "        if (typeof require !== 'undefined') {\n",
       "        require.undef(\"plotly\");\n",
       "        requirejs.config({\n",
       "            paths: {\n",
       "                'plotly': ['https://cdn.plot.ly/plotly-latest.min']\n",
       "            }\n",
       "        });\n",
       "        require(['plotly'], function(Plotly) {\n",
       "            window._Plotly = Plotly;\n",
       "        });\n",
       "        }\n",
       "        </script>\n",
       "        "
      ]
     },
     "metadata": {},
     "output_type": "display_data"
    },
    {
     "name": "stdout",
     "output_type": "stream",
     "text": [
      "DimCli v0.6.7.2 - Succesfully connected to <https://app.dimensions.ai> (method: dsl.ini file)\n"
     ]
    }
   ],
   "source": [
    "import os\n",
    "import sys\n",
    "import time\n",
    "import json\n",
    "import pandas as pd\n",
    "from pandas import json_normalize\n",
    "from tqdm.notebook import tqdm as progress\n",
    "import plotly.express as px\n",
    "from plotly.offline import plot\n",
    "if not 'google.colab' in sys.modules:\n",
    "  # make js dependecies local / needed by html exports \n",
    "  from plotly.offline import init_notebook_mode\n",
    "  init_notebook_mode(connected=True)\n",
    "#\n",
    "import dimcli\n",
    "from dimcli.shortcuts import *\n",
    "#\n",
    "dimcli.login()\n",
    "dsl = dimcli.Dsl()"
   ]
  },
  {
   "cell_type": "markdown",
   "metadata": {
    "Collapsed": "false",
    "colab_type": "text",
    "id": "jxYHheQXwYic"
   },
   "source": [
    "### Testing out plotly_express with DSL data"
   ]
  },
  {
   "cell_type": "code",
   "execution_count": 10,
   "metadata": {
    "Collapsed": "false",
    "colab": {},
    "colab_type": "code",
    "id": "2hSnZfIFwYid",
    "outputId": "35271541-a7db-4288-e7c7-618e53e3024a"
   },
   "outputs": [
    {
     "name": "stdout",
     "output_type": "stream",
     "text": [
      "Returned Publications: 500 (total = 4325)\n",
      "WARNINGS [1]\n",
      "Field 'author_affiliations' is deprecated in favor of authors. Please refer to https://docs.dimensions.ai/dsl/releasenotes.html for more details\n"
     ]
    }
   ],
   "source": [
    "q = \"\"\"search publications for \"malaria\" where research_org_country_names=\"Italy\" and year < 2010 return publications[basics] limit 500\"\"\"\n",
    "data = dslquery(q)"
   ]
  },
  {
   "cell_type": "code",
   "execution_count": 37,
   "metadata": {
    "Collapsed": "false",
    "colab": {},
    "colab_type": "code",
    "id": "w4e8O27gwYif"
   },
   "outputs": [],
   "source": [
    "df = data.as_dataframe()\n",
    "df = df.fillna(\"\")\n",
    "df.head(5)\n"
   ]
  },
  {
   "cell_type": "markdown",
   "metadata": {
    "Collapsed": "false",
    "colab_type": "text",
    "id": "wexCwa7UwYin"
   },
   "source": [
    "### Basic  Charts\n",
    "\n",
    "..."
   ]
  },
  {
   "cell_type": "code",
   "execution_count": null,
   "metadata": {
    "Collapsed": "false"
   },
   "outputs": [],
   "source": []
  },
  {
   "cell_type": "markdown",
   "metadata": {
    "Collapsed": "false",
    "colab_type": "text",
    "id": "jxYHheQXwYic"
   },
   "source": [
    "### Testing out plotly_express with DSL data\n",
    "\n",
    "We can generate some hiearchical data using geographical data"
   ]
  },
  {
   "cell_type": "code",
   "execution_count": 2,
   "metadata": {
    "Collapsed": "false",
    "colab": {},
    "colab_type": "code",
    "id": "2hSnZfIFwYid",
    "outputId": "35271541-a7db-4288-e7c7-618e53e3024a"
   },
   "outputs": [
    {
     "name": "stdout",
     "output_type": "stream",
     "text": [
      "Returned Publications: 500 (total = 4338)\n",
      "WARNINGS [1]\n",
      "Field 'author_affiliations' is deprecated in favor of authors. Please refer to https://docs.dimensions.ai/dsl/releasenotes.html for more details\n"
     ]
    },
    {
     "data": {
      "text/html": [
       "<div>\n",
       "<style scoped>\n",
       "    .dataframe tbody tr th:only-of-type {\n",
       "        vertical-align: middle;\n",
       "    }\n",
       "\n",
       "    .dataframe tbody tr th {\n",
       "        vertical-align: top;\n",
       "    }\n",
       "\n",
       "    .dataframe thead th {\n",
       "        text-align: right;\n",
       "    }\n",
       "</style>\n",
       "<table border=\"1\" class=\"dataframe\">\n",
       "  <thead>\n",
       "    <tr style=\"text-align: right;\">\n",
       "      <th></th>\n",
       "      <th>aff_id</th>\n",
       "      <th>aff_name</th>\n",
       "      <th>aff_city</th>\n",
       "      <th>aff_city_id</th>\n",
       "      <th>aff_country</th>\n",
       "      <th>aff_country_code</th>\n",
       "      <th>aff_state</th>\n",
       "      <th>aff_state_code</th>\n",
       "      <th>pub_id</th>\n",
       "      <th>researcher_id</th>\n",
       "      <th>first_name</th>\n",
       "      <th>last_name</th>\n",
       "    </tr>\n",
       "  </thead>\n",
       "  <tbody>\n",
       "    <tr>\n",
       "      <th>0</th>\n",
       "      <td>grid.416651.1</td>\n",
       "      <td>Istituto Superiore di Sanità</td>\n",
       "      <td>Rome</td>\n",
       "      <td>3.16907e+06</td>\n",
       "      <td>Italy</td>\n",
       "      <td>IT</td>\n",
       "      <td></td>\n",
       "      <td></td>\n",
       "      <td>pub.1032403232</td>\n",
       "      <td>ur.01364745012.11</td>\n",
       "      <td>Francesco</td>\n",
       "      <td>Severini</td>\n",
       "    </tr>\n",
       "    <tr>\n",
       "      <th>1</th>\n",
       "      <td>grid.416651.1</td>\n",
       "      <td>Istituto Superiore di Sanità</td>\n",
       "      <td>Rome</td>\n",
       "      <td>3.16907e+06</td>\n",
       "      <td>Italy</td>\n",
       "      <td>IT</td>\n",
       "      <td></td>\n",
       "      <td></td>\n",
       "      <td>pub.1032403232</td>\n",
       "      <td>ur.0752630273.46</td>\n",
       "      <td>Luciano</td>\n",
       "      <td>Toma</td>\n",
       "    </tr>\n",
       "    <tr>\n",
       "      <th>2</th>\n",
       "      <td>grid.416651.1</td>\n",
       "      <td>Istituto Superiore di Sanità</td>\n",
       "      <td>Rome</td>\n",
       "      <td>3.16907e+06</td>\n",
       "      <td>Italy</td>\n",
       "      <td>IT</td>\n",
       "      <td></td>\n",
       "      <td></td>\n",
       "      <td>pub.1032403232</td>\n",
       "      <td>ur.0727445147.51</td>\n",
       "      <td>Marco</td>\n",
       "      <td>Di Luca</td>\n",
       "    </tr>\n",
       "    <tr>\n",
       "      <th>3</th>\n",
       "      <td>grid.416651.1</td>\n",
       "      <td>Istituto Superiore di Sanità</td>\n",
       "      <td>Rome</td>\n",
       "      <td>3.16907e+06</td>\n",
       "      <td>Italy</td>\n",
       "      <td>IT</td>\n",
       "      <td></td>\n",
       "      <td></td>\n",
       "      <td>pub.1032403232</td>\n",
       "      <td>ur.0652742326.39</td>\n",
       "      <td>Roberto</td>\n",
       "      <td>Romi</td>\n",
       "    </tr>\n",
       "    <tr>\n",
       "      <th>4</th>\n",
       "      <td>grid.7445.2</td>\n",
       "      <td>Imperial College London</td>\n",
       "      <td>London</td>\n",
       "      <td>2.64374e+06</td>\n",
       "      <td>United Kingdom</td>\n",
       "      <td>GB</td>\n",
       "      <td></td>\n",
       "      <td></td>\n",
       "      <td>pub.1052568629</td>\n",
       "      <td>ur.01171100243.77</td>\n",
       "      <td>David W.</td>\n",
       "      <td>Rogers</td>\n",
       "    </tr>\n",
       "  </tbody>\n",
       "</table>\n",
       "</div>"
      ],
      "text/plain": [
       "          aff_id                      aff_name aff_city  aff_city_id  \\\n",
       "0  grid.416651.1  Istituto Superiore di Sanità     Rome  3.16907e+06   \n",
       "1  grid.416651.1  Istituto Superiore di Sanità     Rome  3.16907e+06   \n",
       "2  grid.416651.1  Istituto Superiore di Sanità     Rome  3.16907e+06   \n",
       "3  grid.416651.1  Istituto Superiore di Sanità     Rome  3.16907e+06   \n",
       "4    grid.7445.2       Imperial College London   London  2.64374e+06   \n",
       "\n",
       "      aff_country aff_country_code aff_state aff_state_code          pub_id  \\\n",
       "0           Italy               IT                           pub.1032403232   \n",
       "1           Italy               IT                           pub.1032403232   \n",
       "2           Italy               IT                           pub.1032403232   \n",
       "3           Italy               IT                           pub.1032403232   \n",
       "4  United Kingdom               GB                           pub.1052568629   \n",
       "\n",
       "       researcher_id first_name last_name  \n",
       "0  ur.01364745012.11  Francesco  Severini  \n",
       "1   ur.0752630273.46    Luciano      Toma  \n",
       "2   ur.0727445147.51      Marco   Di Luca  \n",
       "3   ur.0652742326.39    Roberto      Romi  \n",
       "4  ur.01171100243.77   David W.    Rogers  "
      ]
     },
     "execution_count": 2,
     "metadata": {},
     "output_type": "execute_result"
    }
   ],
   "source": [
    "res = dslquery(\"\"\"search publications \n",
    "            for \"malaria\" \n",
    "            where research_org_country_names=\"Italy\" and year < 2010 \n",
    "            return publications[basics] limit 500\"\"\")\n",
    "df = res.as_dataframe_authors_affiliations()\n",
    "df = df.fillna(\"\")\n",
    "df.head(5)"
   ]
  },
  {
   "cell_type": "markdown",
   "metadata": {
    "Collapsed": "false"
   },
   "source": [
    "First let's remove ambiguous data that can't be counted correctly\n",
    "\n",
    "#### Also we need a numeric field to construct the rectangle sizes\n",
    "\n",
    "The treemap uses this value to sum up all appearances of the selected hierarchy-levels. "
   ]
  },
  {
   "cell_type": "code",
   "execution_count": 3,
   "metadata": {
    "Collapsed": "false"
   },
   "outputs": [],
   "source": [
    "df = df[df['aff_id'] != ''].copy()\n",
    "df['tot_researchers'] = df.groupby(\"aff_id\")[\"researcher_id\"].transform(\"count\")"
   ]
  },
  {
   "cell_type": "code",
   "execution_count": 4,
   "metadata": {
    "Collapsed": "false"
   },
   "outputs": [
    {
     "data": {
      "application/vnd.plotly.v1+json": {
       "config": {
        "plotlyServerURL": "https://plot.ly"
       },
       "data": [
        {
         "branchvalues": "total",
         "customdata": [
          [
           "grid.419994.8"
          ],
          [
           "grid.7048.b"
          ],
          [
           "grid.154185.c"
          ],
          [
           "grid.417585.a"
          ],
          [
           "grid.5650.6"
          ],
          [
           "grid.7123.7"
          ],
          [
           "grid.463073.5"
          ],
          [
           "grid.487701.d"
          ],
          [
           "grid.5399.6"
          ],
          [
           "grid.251916.8"
          ],
          [
           "grid.29906.34"
          ],
          [
           "grid.417827.f"
          ],
          [
           "grid.251993.5"
          ],
          [
           "grid.413569.c"
          ],
          [
           "grid.413571.5"
          ],
          [
           "grid.413574.0"
          ],
          [
           "grid.8168.7"
          ],
          [
           "grid.413618.9"
          ],
          [
           "grid.422422.0"
          ],
          [
           "grid.457522.3"
          ],
          [
           "grid.7256.6"
          ],
          [
           "grid.426412.7"
          ],
          [
           "grid.411424.6"
          ],
          [
           "grid.4793.9"
          ],
          [
           "grid.215654.1"
          ],
          [
           "grid.418042.b"
          ],
          [
           "grid.411445.1"
          ],
          [
           "grid.414055.1"
          ],
          [
           "grid.1001.0"
          ],
          [
           "grid.7080.f"
          ],
          [
           "grid.412510.3"
          ],
          [
           "grid.476047.6"
          ],
          [
           "grid.466496.f"
          ],
          [
           "grid.248762.d"
          ],
          [
           "grid.252754.3"
          ],
          [
           "grid.414125.7"
          ],
          [
           "grid.438280.5"
          ],
          [
           "grid.7362.0"
          ],
          [
           "grid.411521.2"
          ],
          [
           "grid.22098.31"
          ],
          [
           "grid.420044.6"
          ],
          [
           "grid.39382.33"
          ],
          [
           "grid.411548.d"
          ],
          [
           "grid.7489.2"
          ],
          [
           "grid.424065.1"
          ],
          [
           "grid.418304.a"
          ],
          [
           "grid.446127.2"
          ],
          [
           "grid.7491.b"
          ],
          [
           "grid.420849.3"
          ],
          [
           "grid.466828.6"
          ],
          [
           "grid.11184.3d"
          ],
          [
           "grid.462854.9"
          ],
          [
           "grid.411701.2"
          ],
          [
           "grid.412918.7"
          ],
          [
           "grid.7945.f"
          ],
          [
           "grid.484445.d"
          ],
          [
           "grid.442598.6"
          ],
          [
           "grid.452567.7"
          ],
          [
           "grid.62560.37"
          ],
          [
           "grid.414601.6"
          ],
          [
           "grid.40263.33"
          ],
          [
           "grid.7728.a"
          ],
          [
           "grid.419043.b"
          ],
          [
           "grid.20861.3d"
          ],
          [
           "grid.498702.0"
          ],
          [
           "grid.420087.9"
          ],
          [
           "grid.5600.3"
          ],
          [
           "grid.34428.39"
          ],
          [
           "grid.7840.b"
          ],
          [
           "grid.147455.6"
          ],
          [
           "grid.413503.0"
          ],
          [
           "grid.67105.35"
          ],
          [
           "grid.411947.e"
          ],
          [
           "grid.8142.f"
          ],
          [
           "grid.11100.31"
          ],
          [
           "grid.53964.3d"
          ],
          [
           "grid.469405.a"
          ],
          [
           "grid.463852.e"
          ],
          [
           "grid.134996.0"
          ],
          [
           "grid.41724.34"
          ],
          [
           "grid.411418.9"
          ],
          [
           "grid.277151.7"
          ],
          [
           "grid.418128.6"
          ],
          [
           "grid.507461.1"
          ],
          [
           "grid.460202.2"
          ],
          [
           "grid.11478.3b"
          ],
          [
           "grid.419328.5"
          ],
          [
           "grid.6363.0"
          ],
          [
           "grid.4491.8"
          ],
          [
           "grid.8191.1"
          ],
          [
           "grid.414148.c"
          ],
          [
           "grid.239553.b"
          ],
          [
           "grid.413963.a"
          ],
          [
           "grid.14005.30"
          ],
          [
           "grid.419783.0"
          ],
          [
           "grid.7922.e"
          ],
          [
           "grid.239573.9"
          ],
          [
           "grid.26090.3d"
          ],
          [
           "grid.239578.2"
          ],
          [
           "grid.424096.d"
          ],
          [
           "grid.47894.36"
          ],
          [
           "grid.21729.3f"
          ],
          [
           "grid.433055.4"
          ],
          [
           "grid.4795.f"
          ],
          [
           "grid.428298.d"
          ],
          [
           "grid.5386.8"
          ],
          [
           "grid.7327.1"
          ],
          [
           "grid.417605.1"
          ],
          [
           "grid.420076.7"
          ],
          [
           "grid.5433.1"
          ],
          [
           "grid.254880.3"
          ],
          [
           "grid.425461.0"
          ],
          [
           "grid.414102.2"
          ],
          [
           "grid.453680.c"
          ],
          [
           "grid.7683.a"
          ],
          [
           "grid.414116.7"
          ],
          [
           "grid.166341.7"
          ],
          [
           "grid.26009.3d"
          ],
          [
           "grid.412109.f"
          ],
          [
           "grid.464150.2"
          ],
          [
           "grid.457379.b"
          ],
          [
           "grid.5801.c"
          ],
          [
           "grid.255381.8"
          ],
          [
           "grid.18377.3a"
          ],
          [
           "grid.189967.8"
          ],
          [
           "grid.5645.2"
          ],
          [
           "grid.414570.3"
          ],
          [
           "grid.164274.2"
          ],
          [
           "grid.225360.0"
          ],
          [
           "grid.418914.1"
          ],
          [
           "grid.424780.d"
          ],
          [
           "grid.270680.b"
          ],
          [
           "grid.15667.33"
          ],
          [
           "grid.4709.a"
          ],
          [
           "grid.418946.6"
          ],
          [
           "grid.255649.9"
          ],
          [
           "grid.7678.e"
          ],
          [
           "grid.414802.b"
          ],
          [
           "grid.411233.6"
          ],
          [
           "grid.8536.8"
          ],
          [
           "grid.250903.d"
          ],
          [
           "grid.452661.2"
          ],
          [
           "grid.255951.f"
          ],
          [
           "grid.11469.3b"
          ],
          [
           "grid.424414.3"
          ],
          [
           "grid.414818.0"
          ],
          [
           "grid.418378.1"
          ],
          [
           "grid.417778.a"
          ],
          [
           "grid.434251.5"
          ],
          [
           "grid.420153.1"
          ],
          [
           "grid.8385.6"
          ],
          [
           "grid.452485.a"
          ],
          [
           "grid.4834.b"
          ],
          [
           "grid.428807.1"
          ],
          [
           "grid.418688.b"
          ],
          [
           "grid.4444.0"
          ],
          [
           "grid.9613.d"
          ],
          [
           "grid.256115.4"
          ],
          [
           "grid.443929.1"
          ],
          [
           "grid.411320.5"
          ],
          [
           "grid.256169.f"
          ],
          [
           "grid.434656.6"
          ],
          [
           "grid.253615.6"
          ],
          [
           "grid.7497.d"
          ],
          [
           "grid.5342.0"
          ],
          [
           "grid.410566.0"
          ],
          [
           "grid.419078.3"
          ],
          [
           "grid.133275.1"
          ],
          [
           "grid.7839.5"
          ],
          [
           "grid.1022.1"
          ],
          [
           "grid.14442.37"
          ],
          [
           "grid.11500.35"
          ],
          [
           "grid.10423.34"
          ],
          [
           "grid.413714.4"
          ],
          [
           "grid.38142.3c"
          ],
          [
           "grid.413752.6"
          ],
          [
           "grid.57544.37"
          ],
          [
           "grid.9984.c"
          ],
          [
           "grid.9619.7"
          ],
          [
           "grid.7700.0"
          ],
          [
           "grid.411327.2"
          ],
          [
           "grid.506258.c"
          ],
          [
           "grid.418496.6"
          ],
          [
           "grid.7490.a"
          ],
          [
           "grid.15485.3d"
          ],
          [
           "grid.257065.3"
          ],
          [
           "grid.221309.b"
          ],
          [
           "grid.411142.3"
          ],
          [
           "grid.410526.4"
          ],
          [
           "grid.414793.c"
          ],
          [
           "grid.411136.0"
          ],
          [
           "grid.411331.5"
          ],
          [
           "grid.411347.4"
          ],
          [
           "grid.413504.7"
          ],
          [
           "grid.42327.30"
          ],
          [
           "grid.439634.f"
          ],
          [
           "grid.413299.4"
          ],
          [
           "grid.417728.f"
          ],
          [
           "grid.257167.0"
          ],
          [
           "grid.411905.8"
          ],
          [
           "grid.413780.9"
          ],
          [
           "grid.411119.d"
          ],
          [
           "grid.411784.f"
          ],
          [
           "grid.414244.3"
          ],
          [
           "grid.414263.6"
          ],
          [
           "grid.412212.6"
          ],
          [
           "grid.411266.6"
          ],
          [
           "grid.481554.9"
          ],
          [
           "grid.434914.f"
          ],
          [
           "grid.470216.6"
          ],
          [
           "grid.418712.9"
          ],
          [
           "grid.59734.3c"
          ],
          [
           "grid.257310.2"
          ],
          [
           "grid.7445.2"
          ],
          [
           "grid.34980.36"
          ],
          [
           "grid.414489.4"
          ],
          [
           "grid.5361.1"
          ],
          [
           "grid.7429.8"
          ],
          [
           "grid.418106.a"
          ],
          [
           "grid.14925.3b"
          ],
          [
           "grid.20522.37"
          ],
          [
           "grid.418480.1"
          ],
          [
           "grid.428999.7"
          ],
          [
           "grid.418508.0"
          ],
          [
           "grid.418511.8"
          ],
          [
           "grid.418517.e"
          ],
          [
           "grid.418537.c"
          ],
          [
           "grid.497397.7"
          ],
          [
           "grid.469947.1"
          ],
          [
           "grid.457337.1"
          ],
          [
           "grid.473220.0"
          ],
          [
           "grid.4399.7"
          ],
          [
           "grid.418596.7"
          ],
          [
           "grid.429141.b"
          ],
          [
           "grid.418744.a"
          ],
          [
           "grid.418750.f"
          ],
          [
           "grid.503048.a"
          ],
          [
           "grid.18886.3f"
          ],
          [
           "grid.414709.f"
          ],
          [
           "grid.425308.8"
          ],
          [
           "grid.472639.d"
          ],
          [
           "grid.494653.9"
          ],
          [
           "grid.425290.8"
          ],
          [
           "grid.425078.c"
          ],
          [
           "grid.428966.7"
          ],
          [
           "grid.418972.1"
          ],
          [
           "grid.11505.30"
          ],
          [
           "grid.418514.d"
          ],
          [
           "grid.418346.c"
          ],
          [
           "grid.415771.1"
          ],
          [
           "grid.419166.d"
          ],
          [
           "grid.413448.e"
          ],
          [
           "grid.419305.a"
          ],
          [
           "grid.17703.32"
          ],
          [
           "grid.425195.e"
          ],
          [
           "grid.466871.a"
          ],
          [
           "grid.463321.1"
          ],
          [
           "grid.488957.f"
          ],
          [
           "grid.34421.30"
          ],
          [
           "grid.411746.1"
          ],
          [
           "grid.414844.9"
          ],
          [
           "grid.9601.e"
          ],
          [
           "grid.506076.2"
          ],
          [
           "grid.417520.5"
          ],
          [
           "grid.419457.a"
          ],
          [
           "grid.419504.d"
          ],
          [
           "grid.428717.f"
          ],
          [
           "grid.417893.0"
          ],
          [
           "grid.419539.3"
          ],
          [
           "grid.425425.0"
          ],
          [
           "grid.419423.9"
          ],
          [
           "grid.417894.7"
          ],
          [
           "grid.452606.3"
          ],
          [
           "grid.419563.c"
          ],
          [
           "grid.416651.1"
          ],
          [
           "grid.466852.b"
          ],
          [
           "grid.419593.3"
          ],
          [
           "grid.418529.3"
          ],
          [
           "grid.419479.6"
          ],
          [
           "grid.497276.9"
          ],
          [
           "grid.429138.5"
          ],
          [
           "grid.25786.3e"
          ],
          [
           "grid.469946.0"
          ],
          [
           "grid.411818.5"
          ],
          [
           "grid.6279.a"
          ],
          [
           "grid.411898.d"
          ],
          [
           "grid.5802.f"
          ],
          [
           "grid.8348.7"
          ],
          [
           "grid.469474.c"
          ],
          [
           "grid.21107.35"
          ],
          [
           "grid.434554.7"
          ],
          [
           "grid.11375.31"
          ],
          [
           "grid.411741.6"
          ],
          [
           "grid.9707.9"
          ],
          [
           "grid.410783.9"
          ],
          [
           "grid.415014.5"
          ],
          [
           "grid.7892.4"
          ],
          [
           "grid.4714.6"
          ],
          [
           "grid.24381.3c"
          ],
          [
           "grid.77268.3c"
          ],
          [
           "grid.33058.3d"
          ],
          [
           "grid.9762.a"
          ],
          [
           "grid.412105.3"
          ],
          [
           "grid.9764.c"
          ],
          [
           "grid.415218.b"
          ],
          [
           "grid.448756.c"
          ],
          [
           "grid.412125.1"
          ],
          [
           "grid.415259.e"
          ],
          [
           "grid.13097.3c"
          ],
          [
           "grid.470005.6"
          ],
          [
           "grid.411095.8"
          ],
          [
           "grid.31432.37"
          ],
          [
           "grid.415482.e"
          ],
          [
           "grid.249967.7"
          ],
          [
           "grid.411196.a"
          ],
          [
           "grid.9829.a"
          ],
          [
           "grid.258799.8"
          ],
          [
           "grid.411047.7"
          ],
          [
           "grid.1018.8"
          ],
          [
           "grid.464004.2"
          ],
          [
           "grid.470921.9"
          ],
          [
           "grid.411276.7"
          ],
          [
           "grid.489787.d"
          ],
          [
           "grid.5132.5"
          ],
          [
           "grid.10419.3d"
          ],
          [
           "grid.9647.c"
          ],
          [
           "grid.440892.3"
          ],
          [
           "grid.5640.7"
          ],
          [
           "grid.411384.b"
          ],
          [
           "grid.281958.f"
          ],
          [
           "grid.48004.38"
          ],
          [
           "grid.429360.a"
          ],
          [
           "grid.8991.9"
          ],
          [
           "grid.273206.2"
          ],
          [
           "grid.148313.c"
          ],
          [
           "grid.414123.1"
          ],
          [
           "grid.5252.0"
          ],
          [
           "grid.504876.8"
          ],
          [
           "grid.415056.3"
          ],
          [
           "grid.462573.1"
          ],
          [
           "grid.5012.6"
          ],
          [
           "grid.412966.e"
          ],
          [
           "grid.1004.5"
          ],
          [
           "grid.429045.e"
          ],
          [
           "grid.411489.1"
          ],
          [
           "grid.10223.32"
          ],
          [
           "grid.11194.3c"
          ],
          [
           "grid.419393.5"
          ],
          [
           "grid.452366.0"
          ],
          [
           "grid.7010.6"
          ],
          [
           "grid.416408.f"
          ],
          [
           "grid.4527.4"
          ],
          [
           "grid.410531.2"
          ],
          [
           "grid.16477.33"
          ],
          [
           "grid.280718.4"
          ],
          [
           "grid.411583.a"
          ],
          [
           "grid.32224.35"
          ],
          [
           "grid.116068.8"
          ],
          [
           "grid.1491.d"
          ],
          [
           "grid.414698.6"
          ],
          [
           "grid.450268.d"
          ],
          [
           "grid.14709.3b"
          ],
          [
           "grid.25073.33"
          ],
          [
           "grid.420006.0"
          ],
          [
           "grid.415063.5"
          ],
          [
           "grid.11598.34"
          ],
          [
           "grid.20501.36"
          ],
          [
           "grid.22937.3d"
          ],
          [
           "grid.13339.3b"
          ],
          [
           "grid.452605.0"
          ],
          [
           "grid.25055.37"
          ],
          [
           "grid.17088.36"
          ],
          [
           "grid.15822.3c"
          ],
          [
           "grid.419903.6"
          ],
          [
           "grid.415788.7"
          ],
          [
           "grid.415759.b"
          ],
          [
           "grid.415734.0"
          ],
          [
           "grid.415857.a"
          ],
          [
           "grid.500526.4"
          ],
          [
           "grid.418306.8"
          ],
          [
           "grid.462410.5"
          ],
          [
           "grid.240283.f"
          ],
          [
           "grid.420013.4"
          ],
          [
           "grid.25867.3e"
          ],
          [
           "grid.420021.5"
          ],
          [
           "grid.411861.b"
          ],
          [
           "grid.452593.c"
          ],
          [
           "grid.436365.1"
          ],
          [
           "grid.174567.6"
          ],
          [
           "grid.260433.0"
          ],
          [
           "grid.412006.1"
          ],
          [
           "grid.5196.b"
          ],
          [
           "grid.410914.9"
          ],
          [
           "grid.410724.4"
          ],
          [
           "grid.48336.3a"
          ],
          [
           "grid.419280.6"
          ],
          [
           "grid.453445.7"
          ],
          [
           "grid.419235.8"
          ],
          [
           "grid.280128.1"
          ],
          [
           "grid.70909.37"
          ],
          [
           "grid.416716.3"
          ],
          [
           "grid.31147.30"
          ],
          [
           "grid.419681.3"
          ],
          [
           "grid.420086.8"
          ],
          [
           "grid.280664.e"
          ],
          [
           "grid.19100.39"
          ],
          [
           "grid.425381.9"
          ],
          [
           "grid.419475.a"
          ],
          [
           "grid.94365.3d"
          ],
          [
           "grid.454846.f"
          ],
          [
           "grid.5326.2"
          ],
          [
           "grid.410763.7"
          ],
          [
           "grid.10692.3c"
          ],
          [
           "grid.5216.0"
          ],
          [
           "grid.35937.3b"
          ],
          [
           "grid.415943.e"
          ],
          [
           "grid.412134.1"
          ],
          [
           "grid.411124.3"
          ],
          [
           "grid.4858.1"
          ],
          [
           "grid.422550.4"
          ],
          [
           "grid.288223.1"
          ],
          [
           "grid.137628.9"
          ],
          [
           "grid.1006.7"
          ],
          [
           "grid.10737.32"
          ],
          [
           "grid.462644.6"
          ],
          [
           "grid.40803.3f"
          ],
          [
           "grid.261112.7"
          ],
          [
           "grid.412262.1"
          ],
          [
           "grid.16753.36"
          ],
          [
           "grid.418193.6"
          ],
          [
           "grid.19477.3c"
          ],
          [
           "grid.412920.c"
          ],
          [
           "grid.15585.3c"
          ],
          [
           "grid.419481.1"
          ],
          [
           "grid.10824.3f"
          ],
          [
           "grid.418682.1"
          ],
          [
           "grid.453407.1"
          ],
          [
           "grid.5288.7"
          ],
          [
           "grid.419910.4"
          ],
          [
           "grid.261445.0"
          ],
          [
           "grid.136593.b"
          ],
          [
           "grid.412414.6"
          ],
          [
           "grid.414405.0"
          ],
          [
           "grid.417225.7"
          ],
          [
           "grid.414614.2"
          ],
          [
           "grid.416052.4"
          ],
          [
           "grid.460094.f"
          ],
          [
           "grid.416422.7"
          ],
          [
           "grid.416303.3"
          ],
          [
           "grid.415044.0"
          ],
          [
           "grid.410345.7"
          ],
          [
           "grid.417108.b"
          ],
          [
           "grid.418068.3"
          ],
          [
           "grid.5807.a"
          ],
          [
           "grid.412433.3"
          ],
          [
           "grid.411742.5"
          ],
          [
           "grid.417153.5"
          ],
          [
           "grid.410511.0"
          ],
          [
           "grid.10992.33"
          ],
          [
           "grid.7452.4"
          ],
          [
           "grid.8970.6"
          ],
          [
           "grid.15781.3a"
          ],
          [
           "grid.29857.31"
          ],
          [
           "grid.32495.39"
          ],
          [
           "grid.410513.2"
          ],
          [
           "grid.63622.33"
          ],
          [
           "grid.411439.a"
          ],
          [
           "grid.412311.4"
          ],
          [
           "grid.419557.b"
          ],
          [
           "grid.419425.f"
          ],
          [
           "grid.413009.f"
          ],
          [
           "grid.4643.5"
          ],
          [
           "grid.5612.0"
          ],
          [
           "grid.16750.35"
          ],
          [
           "grid.437153.7"
          ],
          [
           "grid.419734.c"
          ],
          [
           "grid.271308.f"
          ],
          [
           "grid.169077.e"
          ],
          [
           "grid.1049.c"
          ],
          [
           "grid.7597.c"
          ],
          [
           "grid.1957.a"
          ],
          [
           "grid.413156.4"
          ],
          [
           "grid.10417.33"
          ],
          [
           "grid.412665.2"
          ],
          [
           "grid.414291.b"
          ],
          [
           "grid.425883.0"
          ],
          [
           "grid.33647.35"
          ],
          [
           "grid.418187.3"
          ],
          [
           "grid.465310.5"
          ],
          [
           "grid.475435.4"
          ],
          [
           "grid.415989.8"
          ],
          [
           "grid.13652.33"
          ],
          [
           "grid.134907.8"
          ],
          [
           "grid.8509.4"
          ],
          [
           "grid.416100.2"
          ],
          [
           "grid.452735.2"
          ],
          [
           "grid.4912.e"
          ],
          [
           "grid.426108.9"
          ],
          [
           "grid.415970.e"
          ],
          [
           "grid.416153.4"
          ],
          [
           "grid.413249.9"
          ],
          [
           "grid.11503.36"
          ],
          [
           "grid.5570.7"
          ],
          [
           "grid.430387.b"
          ],
          [
           "grid.262863.b"
          ],
          [
           "grid.11749.3a"
          ],
          [
           "grid.421780.8"
          ],
          [
           "grid.18887.3e"
          ],
          [
           "grid.419837.0"
          ],
          [
           "grid.7841.a"
          ],
          [
           "grid.17242.32"
          ],
          [
           "grid.486769.2"
          ],
          [
           "grid.438154.f"
          ],
          [
           "grid.496667.c"
          ],
          [
           "grid.411600.2"
          ],
          [
           "grid.412504.6"
          ],
          [
           "grid.412505.7"
          ],
          [
           "grid.27255.37"
          ],
          [
           "grid.412553.4"
          ],
          [
           "grid.412573.6"
          ],
          [
           "grid.452807.c"
          ],
          [
           "grid.61971.38"
          ],
          [
           "grid.416050.6"
          ],
          [
           "grid.11887.37"
          ],
          [
           "grid.263761.7"
          ],
          [
           "grid.462844.8"
          ],
          [
           "grid.412686.f"
          ],
          [
           "grid.415021.3"
          ],
          [
           "grid.263826.b"
          ],
          [
           "grid.264200.2"
          ],
          [
           "grid.1073.5"
          ],
          [
           "grid.240871.8"
          ],
          [
           "grid.416432.6"
          ],
          [
           "grid.168010.e"
          ],
          [
           "grid.411087.b"
          ],
          [
           "grid.6401.3"
          ],
          [
           "grid.11956.3a"
          ],
          [
           "grid.10548.38"
          ],
          [
           "grid.419594.4"
          ],
          [
           "grid.413104.3"
          ],
          [
           "grid.4827.9"
          ],
          [
           "grid.416786.a"
          ],
          [
           "grid.45978.37"
          ],
          [
           "grid.4488.0"
          ],
          [
           "grid.412895.3"
          ],
          [
           "grid.502801.e"
          ],
          [
           "grid.412266.5"
          ],
          [
           "grid.6827.b"
          ],
          [
           "grid.5170.3"
          ],
          [
           "grid.5690.a"
          ],
          [
           "grid.6936.a"
          ],
          [
           "grid.6451.6"
          ],
          [
           "grid.497880.a"
          ],
          [
           "grid.411705.6"
          ],
          [
           "grid.12136.37"
          ],
          [
           "grid.28526.3b"
          ],
          [
           "grid.410439.b"
          ],
          [
           "grid.412408.b"
          ],
          [
           "grid.264756.4"
          ],
          [
           "grid.416975.8"
          ],
          [
           "grid.416992.1"
          ],
          [
           "grid.451388.3"
          ],
          [
           "grid.261331.4"
          ],
          [
           "grid.176731.5"
          ],
          [
           "grid.267315.4"
          ],
          [
           "grid.215352.2"
          ],
          [
           "grid.265008.9"
          ],
          [
           "grid.410648.f"
          ],
          [
           "grid.69566.3a"
          ],
          [
           "grid.32197.3e"
          ],
          [
           "grid.410793.8"
          ],
          [
           "grid.265073.5"
          ],
          [
           "grid.410818.4"
          ],
          [
           "grid.420228.e"
          ],
          [
           "grid.8217.c"
          ],
          [
           "grid.429997.8"
          ],
          [
           "grid.12597.38"
          ],
          [
           "grid.34538.39"
          ],
          [
           "grid.418707.d"
          ],
          [
           "grid.282968.f"
          ],
          [
           "grid.2865.9"
          ],
          [
           "grid.8430.f"
          ],
          [
           "grid.8395.7"
          ],
          [
           "grid.10772.33"
          ],
          [
           "grid.11142.37"
          ],
          [
           "grid.412347.7"
          ],
          [
           "grid.7872.a"
          ],
          [
           "grid.83440.3b"
          ],
          [
           "grid.412570.5"
          ],
          [
           "grid.5253.1"
          ],
          [
           "grid.16149.3b"
          ],
          [
           "grid.150338.c"
          ],
          [
           "grid.8515.9"
          ],
          [
           "grid.269014.8"
          ],
          [
           "grid.7708.8"
          ],
          [
           "grid.4494.d"
          ],
          [
           "grid.79746.3b"
          ],
          [
           "grid.265850.c"
          ],
          [
           "grid.265892.2"
          ],
          [
           "grid.17089.37"
          ],
          [
           "grid.7177.6"
          ],
          [
           "grid.134563.6"
          ],
          [
           "grid.194632.b"
          ],
          [
           "grid.241054.6"
          ],
          [
           "grid.7307.3"
          ],
          [
           "grid.427646.5"
          ],
          [
           "grid.15653.34"
          ],
          [
           "grid.5841.8"
          ],
          [
           "grid.7644.1"
          ],
          [
           "grid.5734.5"
          ],
          [
           "grid.6292.f"
          ],
          [
           "grid.10388.32"
          ],
          [
           "grid.412041.2"
          ],
          [
           "grid.7632.0"
          ],
          [
           "grid.7637.5"
          ],
          [
           "grid.5337.2"
          ],
          [
           "grid.17091.3e"
          ],
          [
           "grid.29273.3d"
          ],
          [
           "grid.7345.5"
          ],
          [
           "grid.5613.1"
          ],
          [
           "grid.7763.5"
          ],
          [
           "grid.7778.f"
          ],
          [
           "grid.22072.35"
          ],
          [
           "grid.30389.31"
          ],
          [
           "grid.47840.3f"
          ],
          [
           "grid.27860.3b"
          ],
          [
           "grid.19006.3e"
          ],
          [
           "grid.266097.c"
          ],
          [
           "grid.266100.3"
          ],
          [
           "grid.5335.0"
          ],
          [
           "grid.5602.1"
          ],
          [
           "grid.9841.4"
          ],
          [
           "grid.7836.a"
          ],
          [
           "grid.8158.4"
          ],
          [
           "grid.170205.1"
          ],
          [
           "grid.412578.d"
          ],
          [
           "grid.443909.3"
          ],
          [
           "grid.6190.e"
          ],
          [
           "grid.8065.b"
          ],
          [
           "grid.241116.1"
          ],
          [
           "grid.5254.6"
          ],
          [
           "grid.412058.a"
          ],
          [
           "grid.8127.c"
          ],
          [
           "grid.33489.35"
          ],
          [
           "grid.9668.1"
          ],
          [
           "grid.4305.2"
          ],
          [
           "grid.5330.5"
          ],
          [
           "grid.8484.0"
          ],
          [
           "grid.8404.8"
          ],
          [
           "grid.15276.37"
          ],
          [
           "grid.10796.39"
          ],
          [
           "grid.5963.9"
          ],
          [
           "grid.8591.5"
          ],
          [
           "grid.5606.5"
          ],
          [
           "grid.213876.9"
          ],
          [
           "grid.8664.c"
          ],
          [
           "grid.8756.c"
          ],
          [
           "grid.7450.6"
          ],
          [
           "grid.410445.0"
          ],
          [
           "grid.7737.4"
          ],
          [
           "grid.18048.35"
          ],
          [
           "grid.9582.6"
          ],
          [
           "grid.185648.6"
          ],
          [
           "grid.18147.3b"
          ],
          [
           "grid.9594.1"
          ],
          [
           "grid.214572.7"
          ],
          [
           "grid.266515.3"
          ],
          [
           "grid.9759.2"
          ],
          [
           "grid.9763.b"
          ],
          [
           "grid.9811.1"
          ],
          [
           "grid.16463.36"
          ],
          [
           "grid.9851.5"
          ],
          [
           "grid.9909.9"
          ],
          [
           "grid.9918.9"
          ],
          [
           "grid.503422.2"
          ],
          [
           "grid.10049.3c"
          ],
          [
           "grid.9983.b"
          ],
          [
           "grid.10025.36"
          ],
          [
           "grid.8954.0"
          ],
          [
           "grid.4464.2"
          ],
          [
           "grid.29172.3f"
          ],
          [
           "grid.266623.5"
          ],
          [
           "grid.4562.5"
          ],
          [
           "grid.10595.38"
          ],
          [
           "grid.5379.8"
          ],
          [
           "grid.411024.2"
          ],
          [
           "grid.164295.d"
          ],
          [
           "grid.1008.9"
          ],
          [
           "grid.10438.3e"
          ],
          [
           "grid.214458.e"
          ],
          [
           "grid.266717.3"
          ],
          [
           "grid.4708.b"
          ],
          [
           "grid.7563.7"
          ],
          [
           "grid.10328.38"
          ],
          [
           "grid.17635.36"
          ],
          [
           "grid.410721.1"
          ],
          [
           "grid.7548.e"
          ],
          [
           "grid.121334.6"
          ],
          [
           "grid.14848.31"
          ],
          [
           "grid.411848.0"
          ],
          [
           "grid.5949.1"
          ],
          [
           "grid.4691.a"
          ],
          [
           "grid.24434.35"
          ],
          [
           "grid.266820.8"
          ],
          [
           "grid.1020.3"
          ],
          [
           "grid.266842.c"
          ],
          [
           "grid.10698.36"
          ],
          [
           "grid.131063.6"
          ],
          [
           "grid.4563.4"
          ],
          [
           "grid.112485.b"
          ],
          [
           "grid.218069.4"
          ],
          [
           "grid.4991.5"
          ],
          [
           "grid.5608.b"
          ],
          [
           "grid.10776.37"
          ],
          [
           "grid.5842.b"
          ],
          [
           "grid.10383.39"
          ],
          [
           "grid.11047.33"
          ],
          [
           "grid.8982.b"
          ],
          [
           "grid.25879.31"
          ],
          [
           "grid.9027.c"
          ],
          [
           "grid.11162.35"
          ],
          [
           "grid.5395.a"
          ],
          [
           "grid.21925.3d"
          ],
          [
           "grid.5808.5"
          ],
          [
           "grid.49697.35"
          ],
          [
           "grid.1003.2"
          ],
          [
           "grid.9435.b"
          ],
          [
           "grid.7727.5"
          ],
          [
           "grid.11567.34"
          ],
          [
           "grid.16416.34"
          ],
          [
           "grid.412750.5"
          ],
          [
           "grid.6530.0"
          ],
          [
           "grid.10493.3f"
          ],
          [
           "grid.10400.35"
          ],
          [
           "grid.9906.6"
          ],
          [
           "grid.11780.3f"
          ],
          [
           "grid.47422.37"
          ],
          [
           "grid.412179.8"
          ],
          [
           "grid.11899.38"
          ],
          [
           "grid.25152.31"
          ],
          [
           "grid.11450.31"
          ],
          [
           "grid.442967.a"
          ],
          [
           "grid.11835.3e"
          ],
          [
           "grid.9024.f"
          ],
          [
           "grid.254567.7"
          ],
          [
           "grid.42505.36"
          ],
          [
           "grid.10825.3e"
          ],
          [
           "grid.11984.35"
          ],
          [
           "grid.12082.39"
          ],
          [
           "grid.1013.3"
          ],
          [
           "grid.1009.8"
          ],
          [
           "grid.267301.1"
          ],
          [
           "grid.12306.36"
          ],
          [
           "grid.26999.3d"
          ],
          [
           "grid.17063.33"
          ],
          [
           "grid.11696.39"
          ],
          [
           "grid.5133.4"
          ],
          [
           "grid.12341.35"
          ],
          [
           "grid.7605.4"
          ],
          [
           "grid.1374.1"
          ],
          [
           "grid.10392.39"
          ],
          [
           "grid.5390.f"
          ],
          [
           "grid.6582.9"
          ],
          [
           "grid.12711.34"
          ],
          [
           "grid.59062.38"
          ],
          [
           "grid.5611.3"
          ],
          [
           "grid.7372.1"
          ],
          [
           "grid.34477.33"
          ],
          [
           "grid.8379.5"
          ],
          [
           "grid.5685.e"
          ],
          [
           "grid.4808.4"
          ],
          [
           "grid.11205.37"
          ],
          [
           "grid.7400.3"
          ],
          [
           "grid.11480.3c"
          ],
          [
           "grid.6518.a"
          ],
          [
           "grid.9657.d"
          ],
          [
           "grid.411544.1"
          ],
          [
           "grid.413108.f"
          ],
          [
           "grid.23856.3a"
          ],
          [
           "grid.8993.b"
          ],
          [
           "grid.5477.1"
          ],
          [
           "grid.12380.38"
          ],
          [
           "grid.152326.1"
          ],
          [
           "grid.411904.9"
          ],
          [
           "grid.224260.0"
          ],
          [
           "grid.438526.e"
          ],
          [
           "grid.4367.6"
          ],
          [
           "grid.270683.8"
          ],
          [
           "grid.449999.0"
          ],
          [
           "grid.10306.34"
          ],
          [
           "grid.52788.30"
          ],
          [
           "grid.1694.a"
          ],
          [
           "grid.452890.2"
          ],
          [
           "grid.3575.4"
          ],
          [
           "grid.426427.1"
          ],
          [
           "grid.463718.f"
          ],
          [
           "grid.483405.e"
          ],
          [
           "grid.268333.f"
          ],
          [
           "grid.47100.32"
          ],
          [
           "grid.268397.1"
          ],
          [
           "grid.268415.c"
          ],
          [
           "grid.15444.30"
          ],
          [
           "grid.417375.3"
          ],
          [
           "grid.411703.0"
          ],
          [
           "grid.424453.0"
          ],
          [
           "grid.5607.4"
          ],
          [
           "grid.5333.6"
          ],
          [
           "grid.1957.a"
          ],
          [
           "(?)"
          ],
          [
           "grid.462644.6"
          ],
          [
           "grid.7123.7"
          ],
          [
           "grid.1694.a"
          ],
          [
           "grid.466496.f"
          ],
          [
           "grid.412504.6"
          ],
          [
           "grid.427646.5"
          ],
          [
           "grid.265850.c"
          ],
          [
           "grid.34421.30"
          ],
          [
           "(?)"
          ],
          [
           "(?)"
          ],
          [
           "grid.7010.6"
          ],
          [
           "(?)"
          ],
          [
           "grid.214458.e"
          ],
          [
           "grid.29906.34"
          ],
          [
           "grid.418511.8"
          ],
          [
           "grid.11505.30"
          ],
          [
           "grid.267315.4"
          ],
          [
           "grid.1020.3"
          ],
          [
           "(?)"
          ],
          [
           "grid.213876.9"
          ],
          [
           "(?)"
          ],
          [
           "grid.470921.9"
          ],
          [
           "grid.414055.1"
          ],
          [
           "grid.7307.3"
          ],
          [
           "grid.496667.c"
          ],
          [
           "grid.429360.a"
          ],
          [
           "(?)"
          ],
          [
           "grid.15653.34"
          ],
          [
           "(?)"
          ],
          [
           "grid.7362.0"
          ],
          [
           "grid.415063.5"
          ],
          [
           "(?)"
          ],
          [
           "(?)"
          ],
          [
           "(?)"
          ],
          [
           "(?)"
          ],
          [
           "grid.8430.f"
          ],
          [
           "grid.47422.37"
          ],
          [
           "(?)"
          ],
          [
           "grid.460094.f"
          ],
          [
           "grid.47840.3f"
          ],
          [
           "(?)"
          ],
          [
           "grid.5734.5"
          ],
          [
           "(?)"
          ],
          [
           "grid.446127.2"
          ],
          [
           "grid.7491.b"
          ],
          [
           "grid.411701.2"
          ],
          [
           "grid.412918.7"
          ],
          [
           "(?)"
          ],
          [
           "grid.438526.e"
          ],
          [
           "grid.419393.5"
          ],
          [
           "grid.413780.9"
          ],
          [
           "grid.418128.6"
          ],
          [
           "grid.255951.f"
          ],
          [
           "grid.5570.7"
          ],
          [
           "(?)"
          ],
          [
           "(?)"
          ],
          [
           "grid.9984.c"
          ],
          [
           "(?)"
          ],
          [
           "grid.418187.3"
          ],
          [
           "(?)"
          ],
          [
           "grid.10328.38"
          ],
          [
           "grid.7632.0"
          ],
          [
           "grid.420087.9"
          ],
          [
           "grid.7490.a"
          ],
          [
           "grid.463718.f"
          ],
          [
           "grid.7637.5"
          ],
          [
           "(?)"
          ],
          [
           "(?)"
          ],
          [
           "(?)"
          ],
          [
           "grid.262863.b"
          ],
          [
           "(?)"
          ],
          [
           "grid.424096.d"
          ],
          [
           "grid.29273.3d"
          ],
          [
           "(?)"
          ],
          [
           "grid.59062.38"
          ],
          [
           "grid.61971.38"
          ],
          [
           "grid.34538.39"
          ],
          [
           "grid.424453.0"
          ],
          [
           "grid.7763.5"
          ],
          [
           "grid.483405.e"
          ],
          [
           "(?)"
          ],
          [
           "(?)"
          ],
          [
           "(?)"
          ],
          [
           "grid.5602.1"
          ],
          [
           "grid.419783.0"
          ],
          [
           "(?)"
          ],
          [
           "(?)"
          ],
          [
           "grid.9759.2"
          ],
          [
           "grid.415021.3"
          ],
          [
           "grid.413504.7"
          ],
          [
           "grid.5600.3"
          ],
          [
           "grid.9841.4"
          ],
          [
           "grid.8158.4"
          ],
          [
           "grid.411489.1"
          ],
          [
           "grid.7080.f"
          ],
          [
           "grid.10698.36"
          ],
          [
           "grid.415482.e"
          ],
          [
           "(?)"
          ],
          [
           "grid.442967.a"
          ],
          [
           "grid.239573.9"
          ],
          [
           "grid.26090.3d"
          ],
          [
           "(?)"
          ],
          [
           "grid.6827.b"
          ],
          [
           "grid.164295.d"
          ],
          [
           "(?)"
          ],
          [
           "grid.6190.e"
          ],
          [
           "grid.8065.b"
          ],
          [
           "grid.254567.7"
          ],
          [
           "grid.261331.4"
          ],
          [
           "grid.428298.d"
          ],
          [
           "(?)"
          ],
          [
           "grid.7872.a"
          ],
          [
           "grid.412058.a"
          ],
          [
           "grid.7778.f"
          ],
          [
           "grid.473220.0"
          ],
          [
           "(?)"
          ],
          [
           "grid.462410.5"
          ],
          [
           "grid.415771.1"
          ],
          [
           "grid.10692.3c"
          ],
          [
           "grid.249967.7"
          ],
          [
           "(?)"
          ],
          [
           "(?)"
          ],
          [
           "grid.27860.3b"
          ],
          [
           "grid.268333.f"
          ],
          [
           "grid.31147.30"
          ],
          [
           "grid.266717.3"
          ],
          [
           "grid.4858.1"
          ],
          [
           "grid.411742.5"
          ],
          [
           "grid.241116.1"
          ],
          [
           "grid.5613.1"
          ],
          [
           "grid.4488.0"
          ],
          [
           "(?)"
          ],
          [
           "grid.16463.36"
          ],
          [
           "(?)"
          ],
          [
           "grid.411327.2"
          ],
          [
           "grid.17088.36"
          ],
          [
           "grid.4305.2"
          ],
          [
           "grid.17089.37"
          ],
          [
           "grid.411320.5"
          ],
          [
           "grid.5330.5"
          ],
          [
           "(?)"
          ],
          [
           "grid.164274.2"
          ],
          [
           "grid.16753.36"
          ],
          [
           "grid.8484.0"
          ],
          [
           "grid.11780.3f"
          ],
          [
           "grid.1073.5"
          ],
          [
           "grid.8404.8"
          ],
          [
           "grid.10796.39"
          ],
          [
           "grid.47894.36"
          ],
          [
           "grid.8395.7"
          ],
          [
           "(?)"
          ],
          [
           "grid.266820.8"
          ],
          [
           "(?)"
          ],
          [
           "grid.15276.37"
          ],
          [
           "grid.176731.5"
          ],
          [
           "grid.414291.b"
          ],
          [
           "(?)"
          ],
          [
           "(?)"
          ],
          [
           "(?)"
          ],
          [
           "grid.8664.c"
          ],
          [
           "(?)"
          ],
          [
           "grid.417153.5"
          ],
          [
           "grid.410914.9"
          ],
          [
           "grid.11598.34"
          ],
          [
           "grid.133275.1"
          ],
          [
           "grid.4494.d"
          ],
          [
           "grid.14005.30"
          ],
          [
           "grid.7450.6"
          ],
          [
           "grid.420076.7"
          ],
          [
           "grid.6451.6"
          ],
          [
           "(?)"
          ],
          [
           "grid.25073.33"
          ],
          [
           "grid.470005.6"
          ],
          [
           "grid.452661.2"
          ],
          [
           "grid.10423.34"
          ],
          [
           "grid.254880.3"
          ],
          [
           "(?)"
          ],
          [
           "(?)"
          ],
          [
           "(?)"
          ],
          [
           "grid.4834.b"
          ],
          [
           "grid.412433.3"
          ],
          [
           "grid.1009.8"
          ],
          [
           "grid.221309.b"
          ],
          [
           "grid.410445.0"
          ],
          [
           "(?)"
          ],
          [
           "grid.411905.8"
          ],
          [
           "grid.18048.35"
          ],
          [
           "grid.8168.7"
          ],
          [
           "grid.9582.6"
          ],
          [
           "grid.411276.7"
          ],
          [
           "grid.10824.3f"
          ],
          [
           "grid.420228.e"
          ],
          [
           "grid.5361.1"
          ],
          [
           "grid.9594.1"
          ],
          [
           "grid.214572.7"
          ],
          [
           "grid.45978.37"
          ],
          [
           "grid.434554.7"
          ],
          [
           "(?)"
          ],
          [
           "grid.5386.8"
          ],
          [
           "grid.442598.6"
          ],
          [
           "grid.410721.1"
          ],
          [
           "grid.412125.1"
          ],
          [
           "grid.9613.d"
          ],
          [
           "grid.9619.7"
          ],
          [
           "grid.27255.37"
          ],
          [
           "grid.255381.8"
          ],
          [
           "grid.8385.6"
          ],
          [
           "grid.411741.6"
          ],
          [
           "(?)"
          ],
          [
           "grid.9707.9"
          ],
          [
           "(?)"
          ],
          [
           "grid.77268.3c"
          ],
          [
           "grid.412105.3"
          ],
          [
           "grid.9763.b"
          ],
          [
           "grid.9764.c"
          ],
          [
           "grid.448756.c"
          ],
          [
           "grid.31432.37"
          ],
          [
           "grid.5170.3"
          ],
          [
           "grid.9811.1"
          ],
          [
           "(?)"
          ],
          [
           "grid.506258.c"
          ],
          [
           "grid.9829.a"
          ],
          [
           "grid.9668.1"
          ],
          [
           "grid.411196.a"
          ],
          [
           "grid.258799.8"
          ],
          [
           "grid.412109.f"
          ],
          [
           "grid.411047.7"
          ],
          [
           "(?)"
          ],
          [
           "grid.413569.c"
          ],
          [
           "grid.437153.7"
          ],
          [
           "(?)"
          ],
          [
           "grid.266515.3"
          ],
          [
           "grid.9906.6"
          ],
          [
           "grid.9909.9"
          ],
          [
           "grid.419593.3"
          ],
          [
           "(?)"
          ],
          [
           "(?)"
          ],
          [
           "grid.11480.3c"
          ],
          [
           "grid.9647.c"
          ],
          [
           "grid.420044.6"
          ],
          [
           "grid.504876.8"
          ],
          [
           "(?)"
          ],
          [
           "grid.11100.31"
          ],
          [
           "grid.10049.3c"
          ],
          [
           "grid.412212.6"
          ],
          [
           "grid.24434.35"
          ],
          [
           "(?)"
          ],
          [
           "(?)"
          ],
          [
           "(?)"
          ],
          [
           "(?)"
          ],
          [
           "(?)"
          ],
          [
           "(?)"
          ],
          [
           "grid.148313.c"
          ],
          [
           "(?)"
          ],
          [
           "grid.266623.5"
          ],
          [
           "grid.416992.1"
          ],
          [
           "grid.79746.3b"
          ],
          [
           "grid.17703.32"
          ],
          [
           "grid.4562.5"
          ],
          [
           "(?)"
          ],
          [
           "(?)"
          ],
          [
           "grid.5807.a"
          ],
          [
           "grid.5802.f"
          ],
          [
           "grid.411424.6"
          ],
          [
           "grid.5379.8"
          ],
          [
           "grid.250903.d"
          ],
          [
           "grid.452366.0"
          ],
          [
           "(?)"
          ],
          [
           "grid.280718.4"
          ],
          [
           "grid.411583.a"
          ],
          [
           "grid.429997.8"
          ],
          [
           "(?)"
          ],
          [
           "grid.419563.c"
          ],
          [
           "(?)"
          ],
          [
           "(?)"
          ],
          [
           "(?)"
          ],
          [
           "grid.17635.36"
          ],
          [
           "(?)"
          ],
          [
           "(?)"
          ],
          [
           "(?)"
          ],
          [
           "grid.421780.8"
          ],
          [
           "grid.11887.37"
          ],
          [
           "grid.415218.b"
          ],
          [
           "grid.411848.0"
          ],
          [
           "grid.410531.2"
          ],
          [
           "grid.418304.a"
          ],
          [
           "grid.252754.3"
          ],
          [
           "(?)"
          ],
          [
           "grid.411861.b"
          ],
          [
           "(?)"
          ],
          [
           "grid.174567.6"
          ],
          [
           "grid.260433.0"
          ],
          [
           "(?)"
          ],
          [
           "grid.29172.3f"
          ],
          [
           "(?)"
          ],
          [
           "(?)"
          ],
          [
           "(?)"
          ],
          [
           "grid.152326.1"
          ],
          [
           "grid.411233.6"
          ],
          [
           "grid.415943.e"
          ],
          [
           "grid.416422.7"
          ],
          [
           "grid.430387.b"
          ],
          [
           "(?)"
          ],
          [
           "grid.47100.32"
          ],
          [
           "grid.273206.2"
          ],
          [
           "(?)"
          ],
          [
           "grid.33489.35"
          ],
          [
           "grid.266842.c"
          ],
          [
           "(?)"
          ],
          [
           "(?)"
          ],
          [
           "grid.10417.33"
          ],
          [
           "grid.257310.2"
          ],
          [
           "grid.131063.6"
          ],
          [
           "(?)"
          ],
          [
           "grid.30389.31"
          ],
          [
           "grid.10825.3e"
          ],
          [
           "grid.418346.c"
          ],
          [
           "grid.419837.0"
          ],
          [
           "grid.417827.f"
          ],
          [
           "grid.15585.3c"
          ],
          [
           "grid.112485.b"
          ],
          [
           "grid.5842.b"
          ],
          [
           "(?)"
          ],
          [
           "(?)"
          ],
          [
           "(?)"
          ],
          [
           "(?)"
          ],
          [
           "(?)"
          ],
          [
           "grid.5608.b"
          ],
          [
           "grid.469405.a"
          ],
          [
           "(?)"
          ],
          [
           "grid.414123.1"
          ],
          [
           "(?)"
          ],
          [
           "grid.10383.39"
          ],
          [
           "grid.20861.3d"
          ],
          [
           "grid.412665.2"
          ],
          [
           "(?)"
          ],
          [
           "grid.420013.4"
          ],
          [
           "grid.9027.c"
          ],
          [
           "grid.413156.4"
          ],
          [
           "(?)"
          ],
          [
           "grid.418537.c"
          ],
          [
           "(?)"
          ],
          [
           "(?)"
          ],
          [
           "grid.452807.c"
          ],
          [
           "grid.5288.7"
          ],
          [
           "grid.5808.5"
          ],
          [
           "grid.70909.37"
          ],
          [
           "grid.4491.8"
          ],
          [
           "(?)"
          ],
          [
           "grid.16750.35"
          ],
          [
           "grid.40263.33"
          ],
          [
           "grid.419235.8"
          ],
          [
           "grid.415759.b"
          ],
          [
           "grid.418972.1"
          ],
          [
           "grid.11047.33"
          ],
          [
           "grid.23856.3a"
          ],
          [
           "(?)"
          ],
          [
           "grid.40803.3f"
          ],
          [
           "grid.22098.31"
          ],
          [
           "grid.9435.b"
          ],
          [
           "grid.7727.5"
          ],
          [
           "grid.11567.34"
          ],
          [
           "grid.460202.2"
          ],
          [
           "grid.2865.9"
          ],
          [
           "grid.8127.c"
          ],
          [
           "grid.411136.0"
          ],
          [
           "grid.224260.0"
          ],
          [
           "grid.11184.3d"
          ],
          [
           "grid.414614.2"
          ],
          [
           "(?)"
          ],
          [
           "grid.266097.c"
          ],
          [
           "grid.415989.8"
          ],
          [
           "(?)"
          ],
          [
           "grid.48336.3a"
          ],
          [
           "(?)"
          ],
          [
           "grid.7836.a"
          ],
          [
           "(?)"
          ],
          [
           "grid.5645.2"
          ],
          [
           "(?)"
          ],
          [
           "grid.417728.f"
          ],
          [
           "grid.11749.3a"
          ],
          [
           "grid.32495.39"
          ],
          [
           "grid.6279.a"
          ],
          [
           "grid.420849.3"
          ],
          [
           "grid.215352.2"
          ],
          [
           "grid.266100.3"
          ],
          [
           "grid.419557.b"
          ],
          [
           "grid.413503.0"
          ],
          [
           "grid.424414.3"
          ],
          [
           "grid.28526.3b"
          ],
          [
           "grid.418688.b"
          ],
          [
           "grid.411331.5"
          ],
          [
           "(?)"
          ],
          [
           "grid.443929.1"
          ],
          [
           "grid.25152.31"
          ],
          [
           "grid.11450.31"
          ],
          [
           "(?)"
          ],
          [
           "grid.486769.2"
          ],
          [
           "grid.69566.3a"
          ],
          [
           "(?)"
          ],
          [
           "grid.11142.37"
          ],
          [
           "grid.11835.3e"
          ],
          [
           "grid.414489.4"
          ],
          [
           "grid.412573.6"
          ],
          [
           "grid.9024.f"
          ],
          [
           "(?)"
          ],
          [
           "grid.419734.c"
          ],
          [
           "grid.433055.4"
          ],
          [
           "grid.4367.6"
          ],
          [
           "grid.25055.37"
          ],
          [
           "grid.168010.e"
          ],
          [
           "grid.29857.31"
          ],
          [
           "grid.11956.3a"
          ],
          [
           "(?)"
          ],
          [
           "grid.469947.1"
          ],
          [
           "grid.5433.1"
          ],
          [
           "grid.415259.e"
          ],
          [
           "grid.251916.8"
          ],
          [
           "grid.263761.7"
          ],
          [
           "grid.4827.9"
          ],
          [
           "(?)"
          ],
          [
           "(?)"
          ],
          [
           "grid.412895.3"
          ],
          [
           "grid.502801.e"
          ],
          [
           "(?)"
          ],
          [
           "grid.412006.1"
          ],
          [
           "(?)"
          ],
          [
           "grid.215654.1"
          ],
          [
           "(?)"
          ],
          [
           "grid.4793.9"
          ],
          [
           "grid.410648.f"
          ],
          [
           "grid.12306.36"
          ],
          [
           "grid.434251.5"
          ],
          [
           "(?)"
          ],
          [
           "grid.465310.5"
          ],
          [
           "(?)"
          ],
          [
           "(?)"
          ],
          [
           "grid.256115.4"
          ],
          [
           "(?)"
          ],
          [
           "(?)"
          ],
          [
           "grid.33647.35"
          ],
          [
           "grid.134563.6"
          ],
          [
           "grid.418517.e"
          ],
          [
           "(?)"
          ],
          [
           "grid.1374.1"
          ],
          [
           "(?)"
          ],
          [
           "(?)"
          ],
          [
           "grid.6582.9"
          ],
          [
           "grid.8993.b"
          ],
          [
           "grid.12711.34"
          ],
          [
           "grid.5477.1"
          ],
          [
           "grid.466828.6"
          ],
          [
           "grid.411703.0"
          ],
          [
           "(?)"
          ],
          [
           "grid.18147.3b"
          ],
          [
           "grid.20501.36"
          ],
          [
           "grid.5611.3"
          ],
          [
           "grid.418378.1"
          ],
          [
           "(?)"
          ],
          [
           "(?)"
          ],
          [
           "grid.12341.35"
          ],
          [
           "grid.14925.3b"
          ],
          [
           "grid.462854.9"
          ],
          [
           "grid.12597.38"
          ],
          [
           "grid.7597.c"
          ],
          [
           "(?)"
          ],
          [
           "(?)"
          ],
          [
           "grid.436365.1"
          ],
          [
           "grid.169077.e"
          ],
          [
           "grid.63622.33"
          ],
          [
           "grid.8379.5"
          ],
          [
           "grid.412262.1"
          ],
          [
           "grid.268397.1"
          ],
          [
           "grid.268415.c"
          ],
          [
           "(?)"
          ],
          [
           "grid.412505.7"
          ],
          [
           "(?)"
          ],
          [
           "grid.481554.9"
          ],
          [
           "(?)"
          ],
          [
           "grid.11205.37"
          ],
          [
           "grid.10595.38"
          ],
          [
           "(?)"
          ],
          [
           "grid.19477.3c"
          ],
          [
           "grid.12306.36"
          ],
          [
           "(?)"
          ],
          [
           "(?)"
          ],
          [
           "(?)"
          ],
          [
           "grid.411424.6"
          ],
          [
           "grid.442967.a"
          ],
          [
           "(?)"
          ],
          [
           "grid.473220.0"
          ],
          [
           "(?)"
          ],
          [
           "grid.20501.36"
          ],
          [
           "(?)"
          ],
          [
           "grid.418537.c"
          ],
          [
           "(?)"
          ],
          [
           "(?)"
          ],
          [
           "(?)"
          ],
          [
           "(?)"
          ],
          [
           "(?)"
          ],
          [
           "grid.4491.8"
          ],
          [
           "(?)"
          ],
          [
           "grid.483405.e"
          ],
          [
           "grid.7123.7"
          ],
          [
           "(?)"
          ],
          [
           "(?)"
          ],
          [
           "grid.413569.c"
          ],
          [
           "grid.415063.5"
          ],
          [
           "(?)"
          ],
          [
           "(?)"
          ],
          [
           "(?)"
          ],
          [
           "grid.424096.d"
          ],
          [
           "(?)"
          ],
          [
           "(?)"
          ],
          [
           "(?)"
          ],
          [
           "(?)"
          ],
          [
           "(?)"
          ],
          [
           "(?)"
          ],
          [
           "(?)"
          ],
          [
           "(?)"
          ],
          [
           "grid.411196.a"
          ],
          [
           "grid.418511.8"
          ],
          [
           "(?)"
          ],
          [
           "(?)"
          ],
          [
           "grid.15653.34"
          ],
          [
           "grid.415771.1"
          ],
          [
           "(?)"
          ],
          [
           "grid.452366.0"
          ],
          [
           "(?)"
          ],
          [
           "grid.414055.1"
          ],
          [
           "(?)"
          ],
          [
           "(?)"
          ],
          [
           "grid.417153.5"
          ],
          [
           "grid.11100.31"
          ],
          [
           "(?)"
          ],
          [
           "(?)"
          ],
          [
           "grid.463718.f"
          ],
          [
           "(?)"
          ],
          [
           "(?)"
          ],
          [
           "(?)"
          ],
          [
           "(?)"
          ],
          [
           "(?)"
          ],
          [
           "grid.420087.9"
          ],
          [
           "(?)"
          ],
          [
           "(?)"
          ],
          [
           "(?)"
          ],
          [
           "(?)"
          ],
          [
           "grid.8065.b"
          ],
          [
           "grid.9763.b"
          ],
          [
           "(?)"
          ],
          [
           "(?)"
          ],
          [
           "(?)"
          ],
          [
           "(?)"
          ],
          [
           "grid.418517.e"
          ],
          [
           "(?)"
          ],
          [
           "(?)"
          ],
          [
           "(?)"
          ],
          [
           "(?)"
          ],
          [
           "grid.413504.7"
          ],
          [
           "grid.412433.3"
          ],
          [
           "grid.79746.3b"
          ]
         ],
         "domain": {
          "x": [
           0,
           1
          ],
          "y": [
           0,
           1
          ]
         },
         "hovertemplate": "aff_id=%{customdata[0]}<br>labels=%{label}<br>tot_researchers=%{value}<br>parent=%{parent}<br>id=%{id}<extra></extra>",
         "ids": [
          "Italy/Trieste/AREA Science Park",
          "Denmark/Aarhus/Aarhus University",
          "Denmark/Aarhus/Aarhus University Hospital",
          "United States/Cambridge/Abt Associates (United States)",
          "Netherlands/Amsterdam/Academic Medical Center",
          "Ethiopia/Addis Ababa/Addis Ababa University",
          "Uganda/Kampala/African Palliative Care Association",
          "Italy/Bologna/Agenzia Sanitaria e Sociale Regionale",
          "France/Marseille/Aix-Marseille University",
          "South Korea/Suwon/Ajou University",
          "Turkey/Antalya/Akdeniz University",
          "Japan/Okayama/Akebono Clinic",
          "United States/The Bronx/Albert Einstein College of Medicine",
          "Gabon/Lambaréné/Albert Schweitzer Hospital",
          "Canada/Calgary/Alberta Children's Hospital",
          "Canada/Calgary/Alberta Health Services",
          "Romania/Iasi/Alexandru Ioan Cuza University",
          "India/New Delhi/All India Institute of Medical Sciences",
          "United States/Bethesda/American College of Medical Genetics",
          "Norway/Oslo/Animalia (Norway)",
          "Turkey/Ankara/Ankara University",
          "United Kingdom/London/Anthony Nolan",
          "Bahrain/Manama/Arabian Gulf University",
          "Greece/Thessaloniki/Aristotle University of Thessaloniki",
          "United States/Tempe/Arizona State University",
          "Japan/Tokyo/Astellas Pharma (Japan)",
          "Turkey/Erzurum/Atatürk University",
          "New Zealand/Auckland/Auckland City Hospital",
          "Australia/Canberra/Australian National University",
          "Spain/Cerdanyola del Vallès/Autonomous University of Barcelona",
          "Italy/Palermo/Azienda Ospedaliera Universitaria Policlinico \"Paolo Giaccone\" di Palermo",
          "Italy/Modena/Azienda Unita' Sanitaria Locale Di Modena",
          "India/Ahmedabad/B. V. Patel Pharmaceutical Education and Research Development Centre",
          "Canada/Vancouver/BC Cancer Agency",
          "United States/Muncie/Ball State University",
          "Italy/Rome/Bambino Gesù Children's Hospital",
          "Spain/Barcelona/Banc de Sang i Teixits",
          "United Kingdom/Bangor/Bangor University",
          "Iran/Tehran/Baqiyatallah University of Medical Sciences",
          "Israel/Ramat Gan/Bar-Ilan University",
          "Germany/Leverkusen/Bayer (Germany)",
          "United States/Houston/Baylor College of Medicine",
          "Turkey/Ankara/Başkent University",
          "Israel/Beersheba/Ben-Gurion University of the Negev",
          "Germany/Hamburg/Bernhard Nocht Institute for Tropical Medicine",
          "India/Mumbai/Bhabha Atomic Research Centre",
          "Poland/Białystok/Bialystok University of Technology",
          "Germany/Bielefeld/Bielefeld University",
          "United States/Salt Lake City/BioFire Diagnostics (United States)",
          "Spain/Valencia/Biomedical Institute of Valencia",
          "Netherlands/Rijswijk/Biomedical Primate Research Centre",
          "France/Villeurbanne/Biometry and Evolutionary Biology Laboratory",
          "Iran/Birjand/Birjand University of Medical Sciences",
          "United Kingdom/Birmingham/Birmingham City Hospital",
          "Italy/Milan/Bocconi University",
          "France/Paris/Boehringer Ingelheim (France)",
          "Nigeria/Iwo/Bowen University",
          "Brazil/Campinas/Brazilian Center for Research in Energy and Materials",
          "United States/Boston/Brigham and Women's Hospital",
          "United Kingdom/Brighton/Brighton and Sussex Medical School",
          "United States/Providence/Brown University",
          "United Kingdom/London/Brunel University London",
          "Spain/Madrid/Cajal Institute",
          "United States/Pasadena/California Institute of Technology",
          "Canada/Ottawa/Canadian Red Cross Society",
          "Slovakia/Bratislava/Cancer Research Institute",
          "United Kingdom/Cardiff/Cardiff University",
          "Canada/Ottawa/Carleton University",
          "Spain/Madrid/Carlos III University of Madrid",
          "United States/Pittsburgh/Carnegie Mellon University",
          "Italy/San Giovanni Rotondo/Casa Sollievo della Sofferenza",
          "United States/Cleveland/Case Western Reserve University",
          "South Korea/Seoul/Catholic University of Korea",
          "Italy/Milan/Catholic University of the Sacred Heart",
          "Peru/Lima/Cayetano Heredia University",
          "United States/Seattle/Center for Infectious Disease Research",
          "France/Palaiseau/Center of Theoretical Physics",
          "France/Paris/Centre De Recherche en Mathématiques de la Décision",
          "France/Amiens/Centre Hospitalier Universitaire D' Amiens",
          "France/Rouen/Centre Hospitalier Universitaire De Rouen",
          "Canada/Montreal/Centre Hospitalier Universitaire Sainte-Justine",
          "France/Nantes/Centre Hospitalier Universitaire de Nantes",
          "Burkina Faso/Bobo-Dioulasso/Centre Muraz",
          "Burkina Faso/Ouagadougou/Centre National de Recherche et de Formation sur le Paludisme",
          "France/Rennes/Centre Rennes",
          "Spain/Barcelona/Centre for Genomic Regulation",
          "United Kingdom/Newcastle upon Tyne/Centre for Life",
          "Germany/Berlin/Charité",
          "Czechia/Prague/Charles University",
          "Senegal/Dakar/Cheikh Anta Diop University",
          "Canada/Ottawa/Children's Hospital of Eastern Ontario",
          "United States/Pittsburgh/Children's Hospital of Pittsburgh",
          "United States/Birmingham/Children's of Alabama",
          "South Korea/Gwangju/Chonnam National University",
          "Australia/Camperdown/Chris O’Brien Lifehouse",
          "Thailand/Bangkok/Chulalongkorn University",
          "United States/Cincinnati/Cincinnati Children's Hospital Medical Center",
          "United States/Clemson/Clemson University",
          "United States/Cleveland/Cleveland Clinic",
          "Hungary/Budapest/Collegium Budapest",
          "United States/Fort Collins/Colorado State University",
          "United States/New York/Columbia University",
          "United Kingdom/Southampton/Community Network Services",
          "Spain/Madrid/Complutense University of Madrid",
          "United States/Cookeville/Cookeville Regional Medical Center",
          "United States/Ithaca/Cornell University",
          "South Africa/Pretoria/Council for Scientific and Industrial Research",
          "United Kingdom/Harrogate/Covance (United Kingdom)",
          "Germany/Hachenburg/DRK Krankenhaus Alzey",
          "Germany/Stuttgart/Daimler (Germany)",
          "United States/Hanover/Dartmouth College",
          "Australia/Canberra/Data61",
          "Australia/Canberra/Department of Health",
          "Australia/Melbourne/Department of Health and Human Services",
          "Germany/Hamburg/Deutsches Elektronen-Synchrotron DESY",
          "Turkey/Istanbul/Dr Lütfi Kırdar Kartal Eğitim ve Araştırma Hastanesi",
          "United States/Philadelphia/Drexel University",
          "United States/Durham/Duke University",
          "Turkey/Kütahya/Dumlupinar University",
          "France/Montpellier/Dynamique des Interactions Membranaires Normales et Pathologiques",
          "France/Toulouse/Délégation Midi-Pyrénées, Limousin",
          "Switzerland/Zurich/ETH Zurich",
          "United States/Johnson City/East Tennessee State University",
          "Ireland/Dublin/Economic and Social Research Institute",
          "United States/Atlanta/Emory University",
          "Netherlands/Rotterdam/Erasmus University Medical Center",
          "Turkey/Erzurum/Erzurum Regional Training and Research Hospital",
          "Turkey/Eskişehir/Eskişehir Osmangazi University",
          "United Kingdom/Cambridge/European Bioinformatics Institute",
          "Sweden/Stockholm/European Centre for Disease Prevention and Control",
          "Austria/Vienna/European Centre for Social Welfare Policy and Research",
          "Belgium/Brussels/European Commission",
          "Italy/Milan/European Institute of Oncology",
          "Germany/Heidelberg/European Molecular Biology Laboratory",
          "Italy/Milan/European School of Oncology",
          "South Korea/Seoul/Ewha Womans University",
          "Italy/Milan/FIRC Institute of Molecular Oncology",
          "Germany/Bonn/Federal Institute for Drugs and Medical Devices",
          "Brazil/Natal/Federal University of Rio Grande do Norte",
          "Brazil/Rio de Janeiro/Federal University of Rio de Janeiro",
          "United States/Manhasset/Feinstein Institute for Medical Research",
          "China/Hangzhou/First Affiliated Hospital Zhejiang University",
          "United States/Boca Raton/Florida Atlantic University",
          "Italy/Trento/Fondazione Bruno Kessler",
          "Italy/San Michele all'Adige/Fondazione Edmund Mach",
          "Italy/Milan/Fondazione IRCCS Ca' Granda Ospedale Maggiore Policlinico",
          "Italy/Veruno/Fondazione Salvatore Maugeri",
          "Italy/Rome/Fondazione Santa Lucia",
          "Italy/Tirrenia/Fondazione Stella Maris",
          "Italy/Rome/Food and Agriculture Organization of the United Nations",
          "Germany/Jülich/Forschungszentrum Jülich",
          "Switzerland/Geneva/Foundation for Innovative New Diagnostics",
          "Greece/Heraklion/Foundation for Research and Technology Hellas",
          "United States/Bethesda/Foundation for the National Institutes of Health",
          "Germany/Sankt Augustin/Fraunhofer Institute for Algorithms and Scientific Computing",
          "France/Paris/French National Centre for Scientific Research",
          "Germany/Jena/Friedrich Schiller University Jena",
          "Japan/Toyoake/Fujita Health University",
          "Spain/Santiago de Compostela/Fundación Pública Galega de Medicina Xenómica",
          "Turkey/Elâzığ/Fırat University",
          "Japan/Tokyo/Gakushuin University",
          "United States/Washington D.C./Genetic Alliance",
          "United States/Washington D.C./George Washington University",
          "Germany/Heidelberg/German Cancer Research Center",
          "Belgium/Ghent/Ghent University",
          "Belgium/Ghent/Ghent University Hospital",
          "United States/New York/Goddard Institute for Space Studies",
          "United States/Greenbelt/Goddard Space Flight Center",
          "Germany/Frankfurt am Main/Goethe University Frankfurt",
          "Australia/Brisbane/Griffith University",
          "Turkey/Ankara/Hacettepe University",
          "Germany/Hamburg/Hamburg University of Applied Sciences",
          "Germany/Hanover/Hannover Medical School",
          "United Kingdom/Harrogate/Harrogate District Hospital",
          "United States/Cambridge/Harvard University",
          "Turkey/Istanbul/Haseki Eğitim ve Araştırma Hastanesi",
          "Canada/Ottawa/Health Canada",
          "United Kingdom/Bootle/Health and Safety Executive",
          "Israel/Jerusalem/Hebrew University of Jerusalem",
          "Germany/Heidelberg/Heidelberg University",
          "Germany/Düsseldorf/Heinrich Heine University Düsseldorf",
          "Germany/Krefeld/Helios Klinikum Krefeld",
          "Greece/Athens/Hellenic Center for Disease Control & Prevention",
          "Germany/Braunschweig/Helmholtz Centre for Infection Research",
          "Finland/Helsinki/Helsinki University Central Hospital",
          "China/Nanjing/Hohai University",
          "China/Hong Kong/Hong Kong Baptist University",
          "Spain/Barcelona/Hospital Del Mar",
          "Spain/Madrid/Hospital General Universitario Gregorio Marañón",
          "Chile/Santiago/Hospital Luis Calvo Mackenna",
          "Spain/Reus/Hospital Universitari Sant Joan de Reus",
          "Spain/Santa Cruz de Tenerife/Hospital Universitario Nuestra Señora de Candelaria",
          "Spain/Madrid/Hospital Universitario Ramón y Cajal",
          "Venezuela/Caracas/Hospital Vargas",
          "Canada/Toronto/Hospital for Sick Children",
          "United Kingdom/London/Hospital for Tropical Diseases",
          "Croatia/Zagreb/Hrvatski zavod za javno zdravstvo",
          "Italy/Rozzano/Humanitas Research Hospital",
          "United States/New York/Hunter College",
          "Denmark/Hvidovre/Hvidovre Hospital",
          "France/Bobigny/Hôpital Avicenne",
          "France/Paris/Hôpital Bichat-Claude-Bernard",
          "France/Paris/Hôpital Cochin",
          "France/Marseille/Hôpital Nord",
          "France/Bordeaux/Hôpital Pellegrin",
          "France/Limoges/Hôpital Universitaire Dupuytren",
          "France/Marseille/Hôpital de la Timone",
          "United States/Yorktown Heights/IBM Research – Thomas J. Watson Research Center",
          "Italy/Udine/IN Financing & Project Management",
          "Italy/Pisa/INFN Sezione di Pisa",
          "Italy/Trieste/IRCCS Materno Infantile Burlo Garofolo",
          "United States/New York/Icahn School of Medicine at Mount Sinai",
          "United States/Normal/Illinois State University",
          "United Kingdom/London/Imperial College London",
          "India/Bengaluru/Indian Institute of Science Bangalore",
          "India/Shimla/Indira Gandhi Medical College",
          "Austria/Innsbruck/Innsbruck Medical University",
          "France/Paris/Inserm",
          "Morocco/Rabat/Institut Agronomique et Vétérinaire Hassan II",
          "France/Villejuif/Institut Gustave Roussy",
          "Spain/Barcelona/Institut Hospital del Mar d'Investigacions Mèdiques",
          "Morocco/Rabat/Institut National d'Hygiène du Maroc",
          "France/Paris/Institut Pasteur",
          "Senegal/Dakar/Institut Pasteur de Dakar",
          "Madagascar/Antananarivo/Institut Pasteur de Madagascar",
          "Tunisia/Tunis/Institut Pasteur de Tunis",
          "Cambodia/Phnom Penh/Institut Pasteur du Cambodge",
          "France/Nice/Institut de Physique de Nice",
          "France/Strasbourg/Institut de Recherche Mathématique Avancée",
          "Burkina Faso/Ouagadougou/Institut de Recherche en Sciences de la Santé",
          "Benin/Cotonou/Institut de Recherche pour le Développement",
          "France/Marseille/Institut de Recherche pour le Développement",
          "France/Paris/Institute Curie",
          "Italy/Messina/Institute for Chemical and Physical Processes",
          "Iran/Tehran/Institute for Research in Fundamental Sciences",
          "Italy/Turin/Institute for Scientific Interchange",
          "Italy/Turin/Institute for Sustainable Plant Protection",
          "United Kingdom/London/Institute of Cancer Research",
          "Greece/Athens/Institute of Child Health",
          "Poland/Warsaw/Institute of Computer Science",
          "Italy/Bari/Institute of Crystallography",
          "Italy/Bologna/Institute of Organic Synthesis and Photoreactivity",
          "Poland/Warsaw/Institute of Physical Chemistry",
          "Poland/Warsaw/Institute of Physics",
          "Italy/Naples/Institute of Protein Biochemistry",
          "Poland/Puławy/Institute of Soil Science and Plant Cultivation",
          "Belgium/Antwerp/Institute of Tropical Medicine Antwerp",
          "Brazil/São Paulo/Instituto Butantan",
          "Portugal/Oeiras/Instituto Gulbenkian de Ciência",
          "Mexico/Cuernavaca/Instituto Nacional de Salud Pública",
          "Brazil/Rio de Janeiro/Instituto Nacional do Câncer",
          "Spain/Madrid/Instituto de Salud Carlos III",
          "Poland/Warsaw/Instytut Biologii Doświadczalnej im. Marcelego Nenckiego",
          "France/Lyon/International Agency For Research On Cancer",
          "India/New Delhi/International Centre for Genetic Engineering and Biotechnology",
          "Italy/Rome/International Fund for Agricultural Development",
          "Burkina Faso/Ouagadougou/International Institute for Water and Environmental Engineering",
          "Italy/Vicenza/International Renal Research Institute of Vicenza",
          "United States/Ames/Iowa State University",
          "Iran/Tehran/Iran University of Medical Sciences",
          "Germany/Hamburg/Israelitisches Krankenhaus",
          "Turkey/Istanbul/Istanbul University",
          "Turkey/Istanbul/Istanbul University Cerrahpaşa",
          "Italy/Rome/Istituti Fisioterapici Ospitalieri",
          "Italy/Rome/Istituto Dermopatico dell'Immacolata",
          "Italy/Genoa/Istituto Giannina Gaslini",
          "Italy/Milan/Istituto Nazionale Genetica Molecolare",
          "Italy/Milan/Istituto Nazionale dei Tumori",
          "Italy/Rome/Istituto Nazionale di Ricerca per gli Alimenti e la Nutrizione",
          "Italy/Rome/Istituto Nazionale per l'Assicurazione Contro gli Infortuni sul Lavoro",
          "Italy/Rome/Istituto Nazionale per le Malattie Infettive Lazzaro Spallanzani",
          "Italy/Milan/Istituto Neurologico Carlo Besta",
          "Italy/Rome/Istituto Pasteur",
          "Italy/Meldola/Istituto Scientifico Romagnolo per lo Studio e la Cura dei Tumori",
          "Italy/Rome/Istituto Superiore di Sanità",
          "Italy/Palermo/Istituto Zooprofilattico Sperimentale Della Sicilia",
          "Italy/Legnaro/Istituto Zooprofilattico Sperimentale delle Venezie",
          "Italy/Pisa/Istituto di Fisiologia Clinica",
          "Italy/Pavia/Istituto di Genetica Molecolare",
          "Italy/Pavia/Istituto di Matematica Applicata e Tecnologie Informatiche",
          "Italy/Milan/Italian Association for Cancer Research",
          "Italy/Genoa/Italian Institute of Technology",
          "United States/La Jolla/J. Craig Venter Institute",
          "India/New Delhi/Jamia Millia Islamia",
          "France/Saint-Etienne/Jean Monnet University",
          "Japan/Tokyo/Jikei University School of Medicine",
          "Germany/Mainz/Johannes Gutenberg University of Mainz",
          "United Kingdom/Oxford/John Radcliffe Hospital",
          "United States/Baltimore/Johns Hopkins Medicine",
          "United States/Baltimore/Johns Hopkins University",
          "Italy/Ispra/Joint Research Centre",
          "Slovenia/Ljubljana/Jožef Stefan Institute",
          "Turkey/Kahramanmaraş/Kahramanmaraş Sütçü İmam University",
          "Japan/Kanazawa/Kanazawa University",
          "Japan/Osaka/Kansai Medical University",
          "Israel/Tel Aviv/Kaplan Medical Center",
          "Germany/Karlsruhe/Karlsruhe Institute of Technology",
          "Sweden/Stockholm/Karolinska Institute",
          "Sweden/Stockholm/Karolinska University Hospital",
          "Russia/Kazan’/Kazan Federal University",
          "Kenya/Nairobi/Kenya Medical Research Institute",
          "Kenya/Nairobi/Kenyatta University",
          "Iran/Kerman/Kerman University of Medical Sciences",
          "Germany/Kiel/Kiel University",
          "Tanzania/Moshi/Kilimanjaro Christian Medical Centre",
          "Turkey/Kilis/Kilis 7 Aralık University",
          "Saudi Arabia/Jeddah/King Abdulaziz University",
          "Australia/Subiaco/King Edward Memorial Hospital",
          "United Kingdom/London/King's College London",
          "Germany/Hanau/Klinikum Hanau",
          "Germany/Munich/Klinikum der Universität München",
          "Japan/Kobe/Kobe University",
          "South Korea/Cheongju-si/Korea National Institute of Health",
          "South Korea/Daejeon/Korea Research Institute of Bioscience and Biotechnology",
          "Kuwait/Kuwait City/Kuwait University",
          "Ghana/Kumasi/Kwame Nkrumah University of Science and Technology",
          "Japan/Kyoto/Kyoto University",
          "Turkey/Kırıkkale/Kırıkkale University",
          "Australia/Melbourne/La Trobe University",
          "France/Paris/Laboratoire Jacques-Louis Lions",
          "France/Aubière/Laboratoire de Physique Corpusculaire",
          "Nigeria/Ikeja/Lagos State University",
          "Argentina/Buenos Aires/Latin American and Caribbean Society of Medical Oncology",
          "Netherlands/Leiden/Leiden University",
          "Netherlands/Leiden/Leiden University Medical Center",
          "Germany/Leipzig/Leipzig University",
          "Italy/Rome/Libera Università Maria SS. Assunta",
          "Sweden/Linköping/Linköping University",
          "Sweden/Linköping/Linköping University Hospital",
          "United States/Rochester/Litron Laboratories",
          "United Kingdom/Liverpool/Liverpool School of Tropical Medicine",
          "United States/Austin/Livestrong Foundation",
          "United Kingdom/London/London School of Hygiene & Tropical Medicine",
          "United States/New Hyde Park/Long Island Jewish Medical Center",
          "United States/Los Alamos/Los Alamos National Laboratory",
          "United States/Palo Alto/Lucile Packard Children's Hospital",
          "Germany/Munich/Ludwig Maximilian University of Munich",
          "United States/Lexington/MIT Lincoln Laboratory",
          "United Kingdom/Cambridge/MRC Epidemiology Unit",
          "United Kingdom/Cambridge/MRC Mitochondrial Biology Unit",
          "Netherlands/Maastricht/Maastricht University",
          "Netherlands/Maastricht/Maastricht University Medical Centre",
          "Australia/Sydney/Macquarie University",
          "Spain/Madrid/Madrid Institute for Advanced Studies",
          "Italy/Catanzaro/Magna Graecia University",
          "Thailand/Bangkok/Mahidol University",
          "Uganda/Kampala/Makerere University",
          "Malawi/Blantyre/Malawi-Liverpool-Wellcome Trust Clinical Research Programme",
          "Mozambique/Maputo/Manhiça Health Research Centre",
          "Italy/Ancona/Marche Polytechnic University",
          "Turkey/Erzurum/Mareşal Çakmak Askeri Hastanesi",
          "Italy/Milan/Mario Negri Institute for Pharmacological Research",
          "Italy/Mozzagrogna/Mario Negri Sud Foundation",
          "Turkey/Istanbul/Marmara University",
          "United States/Marshfield/Marshfield Clinic",
          "Iran/Mashhad/Mashhad University of Medical Sciences",
          "United States/Boston/Massachusetts General Hospital",
          "United States/Cambridge/Massachusetts Institute of Technology",
          "Australia/Brisbane/Mater Health Services",
          "India/New Delhi/Maulana Azad Medical College",
          "Germany/Hamburg/Max Planck Institute for Meteorology",
          "Canada/Montreal/McGill University",
          "Canada/Hamilton/McMaster University",
          "United Kingdom/Oxford/Medical Research Council Harwell",
          "Gambia/Banjul/Medical Research Council The Gambia Unit",
          "Austria/Graz/Medical University of Graz",
          "Bulgaria/Varna/Medical University of Varna",
          "Austria/Vienna/Medical University of Vienna",
          "Poland/Warsaw/Medical University of Warsaw",
          "Switzerland/Geneva/Medicines for Malaria Venture",
          "Canada/St. John's/Memorial University of Newfoundland",
          "United States/East Lansing/Michigan State University",
          "United Kingdom/London/Middlesex University",
          "Italy/Rome/Ministero degli Affari Esteri",
          "Italy/Rome/Ministero della Salute",
          "Malaysia/Putrajaya/Ministry of Health",
          "Tanzania/Dar es Salaam/Ministry of Health and Social Welfare",
          "Cameroon/Yaoundé/Ministry of Public Health",
          "Cameroon/Yaoundé/Ministry of Scientific Research and Innovation",
          "Japan/Tokyo/Mitsubishi Chemical Holdings (Japan)",
          "France/Créteil/Mondor Institute of Biomedical Research",
          "United States/The Bronx/Montefiore Medical Center",
          "United Kingdom/Penicuik/Moredun Foundation",
          "Tanzania/Dar es Salaam/Muhimbili University of Health and Allied Sciences",
          "France/Paris/Musée de l'Homme",
          "Turkey/Muğla/Muğla University",
          "Belgium/Brussels/Médecins Sans Frontières",
          "United Kingdom/Watford/NHS Blood and Transplant",
          "Japan/Nagasaki/Nagasaki University",
          "Japan/Nagoya/Nagoya City University",
          "Turkey/Tekirdağ/Namık Kemal University",
          "Italy/Rome/National Agency For New Technologies, Energy and Sustainable Economic Development",
          "South Korea/Goyang-si/National Cancer Center",
          "Singapore/Singapore/National Cancer Centre Singapore",
          "United States/Rockville/National Cancer Institute",
          "Japan/Tokyo/National Center of Neurology and Psychiatry",
          "United States/Atlanta/National Center on Birth Defects and Developmental Disabilities",
          "India/Pune/National Centre for Cell Science",
          "United States/Bethesda/National Human Genome Research Institute",
          "United Kingdom/Potters Bar/National Institute for Biological Standards and Control",
          "Tanzania/Dar es Salaam/National Institute for Medical Research",
          "Netherlands/De Bilt/National Institute for Public Health and the Environment",
          "United States/Bethesda/National Institute of Allergy and Infectious Diseases",
          "United States/Bethesda/National Institute of Arthritis and Musculoskeletal and Skin Diseases",
          "United States/Durham/National Institute of Environmental Health Sciences",
          "India/New Delhi/National Institute of Immunology",
          "Italy/Rome/National Institute of Statistics",
          "United States/Baltimore/National Institute on Aging",
          "United States/Bethesda/National Institutes of Health",
          "United States/Washington D.C./National Park Service",
          "Italy/Rome/National Research Council",
          "Singapore/Singapore/National Skin Centre",
          "Argentina/Córdoba/National University of Córdoba",
          "Greece/Athens/National and Kapodistrian University of Athens",
          "United Kingdom/London/Natural History Museum",
          "Ghana/Navrongo/Navrongo Health Research Centre",
          "France/Paris/Necker-Enfants Malades Hospital",
          "Turkey/Konya/Necmettin Erbakan University",
          "Netherlands/Delft/Netherlands Organisation for Applied Scientific Research",
          "United States/La Jolla/Neurosciences Institute",
          "United States/New York/New York Botanical Garden",
          "United States/New York/New York University",
          "United Kingdom/Newcastle upon Tyne/Newcastle University",
          "France/Nice/Nice Sophia Antipolis University",
          "Ghana/Accra/Noguchi Memorial Institute for Medical Research",
          "United States/Raleigh/North Carolina State University",
          "United States/Boston/Northeastern University",
          "China/Xi'an/Northwest University",
          "United States/Evanston/Northwestern University",
          "Norway/Oslo/Norwegian Institute of Public Health",
          "Norway/Ås/Norwegian University of Life Sciences",
          "United Kingdom/Nottingham/Nottingham City Hospital",
          "Italy/Origgio/Novartis (Italy)",
          "Switzerland/Basel/Novartis (Switzerland)",
          "Nigeria/Ilesa/Obafemi Awolowo University",
          "France/Nantes/Oniris",
          "United States/New York/Open Society Foundations",
          "United States/Portland/Oregon Health & Science University",
          "Cameroon/Yaoundé/Organisation de Coordination pour la lutte contre les Endémies en Afrique Centrale",
          "Japan/Osaka/Osaka City University",
          "Japan/Osaka/Osaka University",
          "Norway/Oslo/OsloMet – Oslo Metropolitan University",
          "Italy/Bologna/Ospedale Bellaria",
          "Italy/Turin/Ospedale Humanitas Gradenigo",
          "Italy/Rimini/Ospedale Infermi di Rimini",
          "Italy/Naples/Ospedale Monaldi",
          "Italy/Bergamo/Ospedale Papa Giovanni XXIII",
          "Italy/Negrar/Ospedale Sacro Cuore Don Calabria",
          "Italy/Vicenza/Ospedale San Bortolo",
          "Italy/Turin/Ospedale San Giovanni Bosco",
          "Italy/Genoa/Ospedale San Martino",
          "Italy/Palermo/Ospedale Vincenzo Cervello",
          "Brazil/Rio de Janeiro/Oswaldo Cruz Foundation",
          "Germany/Magdeburg/Otto-von-Guericke University Magdeburg",
          "Vietnam/Ho Chi Minh City/Oxford University Clinical Research Unit",
          "Turkey/Denizli/Pamukkale University",
          "Papua New Guinea/Goroka/Papua New Guinea Institute of Medical Research",
          "France/Paris/Paris 12 Val de Marne University",
          "France/Paris/Paris Descartes University",
          "France/Paris/Paris Diderot University",
          "France/Lille/Pasteur Institute of Lille",
          "France/Toulouse/Paul Sabatier University",
          "United States/State College/Pennsylvania State University",
          "Russia/Saint Petersburg/Peter the Great St. Petersburg Polytechnic University",
          "United States/New York/Pfizer (United States)",
          "United Kingdom/Woking/Pirbright Institute",
          "France/Paris/Pitié-Salpêtrière Hospital",
          "Italy/Bologna/Policlinico S.Orsola-Malpighi",
          "Italy/San Donato Milanese/Policlinico San Donato",
          "Italy/Pavia/Policlinico San Matteo Fondazione",
          "Italy/Rome/Policlinico Tor Vergata",
          "Italy/Milan/Polytechnic University of Milan",
          "Spain/Barcelona/Pompeu Fabra University",
          "United States/Princeton/Princeton University",
          "Switzerland/Lancy/Procter & Gamble (Switzerland)",
          "Sweden/Solna/Public Health Agency of Sweden",
          "United Kingdom/London/Public Health England",
          "United States/West Lafayette/Purdue University West Lafayette",
          "Australia/Brisbane/QIMR Berghofer Medical Research Institute",
          "Japan/Wako/RIKEN",
          "Germany/Aachen/RWTH Aachen University",
          "Israel/Petah Tikva/Rabin Medical Center",
          "Netherlands/Nijmegen/Radboud University Nijmegen Medical Centre",
          "Thailand/Pathum Thani/Rangsit University",
          "France/Garches/Raymond Poincaré University Hospital",
          "Italy/Naples/Regione Campania",
          "United States/Troy/Rensselaer Polytechnic Institute",
          "Germany/Borstel/Research Center Borstel - Leibniz-Center for Medicine and Biosciences",
          "Russia/Tomsk/Research Institute of Medical Genetics of Russian Academy of Medical Sciences",
          "Denmark/Copenhagen/Rigshospitalet",
          "Saudi Arabia/Riyadh/Riyadh Armed Forces Hospital",
          "Germany/Berlin/Robert Koch Institute",
          "United States/New York/Rockefeller University",
          "Italy/Rome/Roma Tre University",
          "Australia/Brisbane/Royal Brisbane and Women's Hospital",
          "United Kingdom/London/Royal College of Psychiatrists",
          "Ireland/Dublin/Royal College of Surgeons in Ireland",
          "United Kingdom/London/Royal Free Hospital",
          "United Kingdom/Liverpool/Royal Liverpool University Hospital",
          "Australia/Melbourne/Royal Melbourne Hospital",
          "Australia/Sydney/Royal Prince Alfred Hospital",
          "Netherlands/Amsterdam/Royal Tropical Institute",
          "Germany/Bochum/Ruhr University Bochum",
          "United States/New Brunswick/Rutgers, The State University of New Jersey",
          "United States/Brooklyn/SUNY Downstate Medical Center",
          "Germany/Saarbrücken/Saarland University",
          "United States/Moraga/Saint Mary's College of California",
          "Italy/Milan/San Raffaele Hospital",
          "Germany/Offenbach/Sana Klinikum Offenbach",
          "Italy/Rome/Sapienza University of Rome",
          "Turkey/Konya/Selçuk University",
          "Iran/Semnan/Semnan University of Medical Sciences",
          "Germany/Frankfurt am Main/Senckenberg Nature Research Society",
          "India/Aurangabad/Seth Nandlal Dhoot Hospital",
          "Iran/Tehran/Shahid Beheshti University of Medical Sciences",
          "Iran/Ahvāz/Shahid Chamran University of Ahvaz",
          "Iran/Yazd/Shahid Sadoughi University of Medical Sciences and Health Services",
          "China/Jinan/Shandong University",
          "Iran/Tehran/Sharif University of Technology",
          "Iran/Shiraz/Shiraz University",
          "Italy/Pomezia/Sigma Tau (Italy)",
          "Canada/Burnaby/Simon Fraser University",
          "Netherlands/Amsterdam/Slotervaartziekenhuis",
          "Tanzania/Morogoro/Sokoine University of Agriculture",
          "China/Suzhou/Soochow University",
          "France/Paris/Sorbonne University",
          "Israel/Beersheba/Soroka Medical Center",
          "South Africa/Cape Town/South African Medical Research Council",
          "China/Nanjing/Southeast University",
          "United Kingdom/London/St George's, University of London",
          "Australia/Fitzroy/St Vincents Institute of Medical Research",
          "United States/Memphis/St. Jude Children's Research Hospital",
          "India/Bengaluru/St.John's Medical College Hospital",
          "United States/Stanford/Stanford University",
          "Brazil/Campinas/State University of Campinas",
          "Italy/Naples/Stazione Zoologica Anton Dohrn",
          "South Africa/Stellenbosch/Stellenbosch University",
          "Sweden/Stockholm/Stockholm University",
          "Germany/Karlsruhe/Städtisches Klinikum Karlsruhe",
          "Canada/Toronto/Sunnybrook Health Science Centre",
          "United Kingdom/Swansea/Swansea University",
          "Switzerland/Basel/Swiss Tropical and Public Health Institute",
          "Turkey/Isparta/Süleyman Demirel University",
          "Germany/Dresden/TU Dresden",
          "Saudi Arabia/Ta'if/Taif University",
          "Finland/Tampere/Tampere University",
          "Iran/Tehran/Tarbiat Modares University",
          "Romania/Cluj-Napoca/Technical University of Cluj-Napoca",
          "Denmark/Kongens Lyngby/Technical University of Denmark",
          "Spain/Madrid/Technical University of Madrid",
          "Germany/Munich/Technical University of Munich",
          "Israel/Haifa/Technion – Israel Institute of Technology",
          "Ireland/Dublin/Technological University Dublin",
          "Iran/Tehran/Tehran University of Medical Sciences",
          "Israel/Tel Aviv/Tel Aviv University",
          "Norway/Sandvika/Telenor (Norway)",
          "Italy/Naples/Telethon Institute Of Genetics And Medicine",
          "United States/College Station/Texas A&M Health Science Center",
          "United States/College Station/Texas A&M University",
          "United States/Houston/Texas Children's Hospital",
          "United States/Lubbock/Texas Tech University Health Sciences Center",
          "United Kingdom/London/The Francis Crick Institute",
          "United States/Columbus/The Ohio State University",
          "United States/Galveston/The University of Texas Medical Branch at Galveston",
          "United States/Arlington/The University of Texas at Arlington",
          "United States/San Antonio/The University of Texas at San Antonio",
          "United States/Philadelphia/Thomas Jefferson University",
          "China/Tianjin/Tianjin University of Traditional Chinese Medicine",
          "Japan/Sendai/Tohoku University",
          "Japan/Tokyo/Tokyo Institute of Technology",
          "Japan/Tokyo/Tokyo Medical University",
          "Japan/Tokyo/Tokyo Medical and Dental University",
          "Japan/Tokyo/Tokyo Women's Medical University",
          "France/Illkirch-Graffenstaden/Transgene (France)",
          "Ireland/Dublin/Trinity College Dublin",
          "United States/Medford/Tufts University",
          "Italy/Viterbo/Tuscia University",
          "Turkey/Bursa/Uludağ University",
          "United Kingdom/London/Unilever (United Kingdom)",
          "Switzerland/Geneva/Union for International Cancer Control",
          "United States/Reston/United States Geological Survey",
          "Brazil/Belo Horizonte/Universidade Federal de Minas Gerais",
          "Brazil/Fortaleza/Universidade Federal do Ceará",
          "Portugal/Lisbon/Universidade Nova de Lisboa",
          "Malaysia/Seri Kembangan/Universiti Putra Malaysia",
          "Switzerland/Basel/University Children’s Hospital Basel",
          "Ireland/Cork/University College Cork",
          "United Kingdom/London/University College London",
          "United Kingdom/Coventry/University Hospital Coventry",
          "Germany/Heidelberg/University Hospital Heidelberg",
          "Germany/Münster/University Hospital Münster",
          "Switzerland/Geneva/University Hospital of Geneva",
          "Switzerland/Lausanne/University Hospital of Lausanne",
          "United Kingdom/Leicester/University Hospitals of Leicester NHS Trust",
          "Germany/Freiburg/University Medical Center Freiburg",
          "Netherlands/Groningen/University Medical Center Groningen",
          "Zambia/Lusaka/University Teaching Hospital",
          "United States/Albany/University at Albany, State University of New York",
          "United States/Birmingham/University of Alabama at Birmingham",
          "Canada/Edmonton/University of Alberta",
          "Netherlands/Amsterdam/University of Amsterdam",
          "United States/Tucson/University of Arizona",
          "United States/Little Rock/University of Arkansas System",
          "United States/Little Rock/University of Arkansas for Medical Sciences",
          "Germany/Augsburg/University of Augsburg",
          "Iraq/Al Hillah/University of Babylon",
          "Mali/Bamako/University of Bamako",
          "Spain/Barcelona/University of Barcelona",
          "Italy/Bari/University of Bari Aldo Moro",
          "Switzerland/Bern/University of Bern",
          "Italy/Bologna/University of Bologna",
          "Germany/Bonn/University of Bonn",
          "France/Bordeaux/University of Bordeaux",
          "Brazil/Brasília/University of Brasília",
          "Italy/Brescia/University of Brescia",
          "United Kingdom/Bristol/University of Bristol",
          "Canada/Vancouver/University of British Columbia",
          "Cameroon/Buea/University of Buea",
          "Argentina/Buenos Aires/University of Buenos Aires",
          "France/Dijon/University of Burgundy",
          "Italy/Cagliari/University of Cagliari",
          "Italy/Cosenza/University of Calabria",
          "Canada/Calgary/University of Calgary",
          "United States/Oakland/University of California System",
          "United States/Berkeley/University of California, Berkeley",
          "United States/Davis/University of California, Davis",
          "United States/Los Angeles/University of California, Los Angeles",
          "United States/Riverside/University of California, Riverside",
          "United States/San Diego/University of California, San Diego",
          "United Kingdom/Cambridge/University of Cambridge",
          "Italy/Camerino/University of Camerino",
          "Italy/Caserta/University of Campania \"Luigi Vanvitelli\"",
          "South Africa/Rondebosch/University of Cape Town",
          "Italy/Catania/University of Catania",
          "United States/Chicago/University of Chicago",
          "United States/Chicago/University of Chicago Medical Center",
          "Chile/Santiago/University of Chile",
          "Germany/Cologne/University of Cologne",
          "Sri Lanka/Colombo/University of Colombo",
          "United States/Denver/University of Colorado Denver",
          "Denmark/Copenhagen/University of Copenhagen",
          "France/Corte/University of Corsica Pascal Paoli",
          "Greece/Rethymno/University of Crete",
          "United States/Newark/University of Delaware",
          "Finland/Kuopio/University of Eastern Finland",
          "United Kingdom/Edinburgh/University of Edinburgh",
          "Germany/Erlangen/University of Erlangen-Nuremberg",
          "Italy/Ferrara/University of Ferrara",
          "Italy/Florence/University of Florence",
          "United States/Gainesville/University of Florida",
          "Italy/Foggia/University of Foggia",
          "Germany/Freiburg/University of Freiburg",
          "Switzerland/Geneva/University of Geneva",
          "Italy/Genoa/University of Genoa",
          "United States/Athens/University of Georgia",
          "Germany/Giessen/University of Giessen",
          "United Kingdom/Glasgow/University of Glasgow",
          "Germany/Göttingen/University of Göttingen",
          "United States/Honolulu/University of Hawaii at Manoa",
          "Finland/Helsinki/University of Helsinki",
          "India/Hyderabad/University of Hyderabad",
          "Nigeria/Ibadan/University of Ibadan",
          "United States/Chicago/University of Illinois at Chicago",
          "Italy/Varese/University of Insubria",
          "Greece/Ioannina/University of Ioannina",
          "United States/Iowa City/University of Iowa",
          "United States/Lawrence/University of Kansas",
          "United Kingdom/Canterbury/University of Kent",
          "Sudan/Khartoum/University of Khartoum",
          "Germany/Konstanz/University of Konstanz",
          "South Africa/Durban/University of KwaZulu-Natal",
          "Switzerland/Lausanne/University of Lausanne",
          "United Kingdom/Leeds/University of Leeds",
          "United Kingdom/Leicester/University of Leicester",
          "France/Lille/University of Lille",
          "Ireland/Limerick/University of Limerick",
          "Portugal/Lisbon/University of Lisbon",
          "United Kingdom/Liverpool/University of Liverpool",
          "Slovenia/Ljubljana/University of Ljubljana",
          "United Kingdom/London/University of London",
          "France/Nancy/University of Lorraine",
          "United States/Louisville/University of Louisville",
          "Germany/Lübeck/University of Lübeck",
          "Malawi/Zomba/University of Malawi",
          "United Kingdom/Manchester/University of Manchester",
          "United States/Baltimore/University of Maryland, Baltimore",
          "United States/College Park/University of Maryland, College Park",
          "Australia/Melbourne/University of Melbourne",
          "Italy/Messina/University of Messina",
          "United States/Ann Arbor/University of Michigan–Ann Arbor",
          "United States/Dearborn/University of Michigan–Dearborn",
          "Italy/Milan/University of Milan",
          "Italy/Milan/University of Milano-Bicocca",
          "Portugal/Braga/University of Minho",
          "United States/Minneapolis/University of Minnesota",
          "United States/Jackson/University of Mississippi Medical Center",
          "Italy/Modena/University of Modena and Reggio Emilia",
          "France/Montpellier/University of Montpellier",
          "Canada/Montreal/University of Montreal",
          "Iraq/Mosul/University of Mosul",
          "Germany/Münster/University of Münster",
          "Italy/Naples/University of Naples Federico II",
          "United States/Lincoln/University of Nebraska–Lincoln",
          "Canada/Fredericton/University of New Brunswick",
          "Australia/Armidale/University of New England",
          "Australia/Newcastle/University of Newcastle Australia",
          "United States/Chapel Hill/University of North Carolina at Chapel Hill",
          "United States/Notre Dame/University of Notre Dame",
          "United Kingdom/Nottingham/University of Nottingham",
          "France/Orléans/University of Orléans",
          "Burkina Faso/Ouagadougou/University of Ouagadougou",
          "United Kingdom/Oxford/University of Oxford",
          "Italy/Padova/University of Padua",
          "Italy/Palermo/University of Palermo",
          "France/Orsay/University of Paris-Sud",
          "Italy/Parma/University of Parma",
          "Greece/Pátrai/University of Patras",
          "Italy/Pavia/University of Pavia",
          "United States/Philadelphia/University of Pennsylvania",
          "Italy/Perugia/University of Perugia",
          "France/Amiens/University of Picardie Jules Verne",
          "Italy/Pisa/University of Pisa",
          "United States/Pittsburgh/University of Pittsburgh",
          "Portugal/Porto/University of Porto",
          "South Africa/Pretoria/University of Pretoria",
          "Australia/Brisbane/University of Queensland",
          "United Kingdom/Reading/University of Reading",
          "Germany/Regensburg/University of Regensburg",
          "Italy/Reggio Calabria/University of Reggio Calabria",
          "United States/Rochester/University of Rochester",
          "United States/Rochester/University of Rochester Medical Center",
          "Italy/Rome/University of Rome Tor Vergata",
          "Germany/Rostock/University of Rostock",
          "France/Rouen/University of Rouen",
          "Italy/Lecce/University of Salento",
          "Italy/Fisciano/University of Salerno",
          "Italy/Benevento/University of Sannio",
          "Chile/Santiago/University of Santiago Chile",
          "Brazil/São Paulo/University of Sao Paulo",
          "Canada/Saskatoon/University of Saskatchewan",
          "Italy/Sassari/University of Sassari",
          "Bangladesh/Chittagong/University of Science and Technology Chittagong",
          "United Kingdom/Sheffield/University of Sheffield",
          "Italy/Siena/University of Siena",
          "United States/Columbia/University of South Carolina",
          "United States/Los Angeles/University of Southern California",
          "Denmark/Odense/University of Southern Denmark",
          "United Kingdom/Glasgow/University of Strathclyde",
          "United Kingdom/Brighton/University of Sussex",
          "Australia/Sydney/University of Sydney",
          "Australia/Hobart/University of Tasmania",
          "United States/Memphis/University of Tennessee Health Science Center",
          "Albania/Tirana/University of Tirana",
          "Japan/Tokyo/University of Tokyo",
          "Canada/Toronto/University of Toronto",
          "Italy/Trento/University of Trento",
          "Italy/Trieste/University of Trieste",
          "Portugal/Vila Real/University of Trás-os-Montes and Alto Douro",
          "Italy/Turin/University of Turin",
          "Finland/Turku/University of Turku",
          "Germany/Tübingen/University of Tübingen",
          "Italy/Udine/University of Udine",
          "Germany/Ulm/University of Ulm",
          "Italy/Urbino/University of Urbino",
          "United States/Burlington/University of Vermont",
          "Italy/Verona/University of Verona",
          "United Kingdom/Coventry/University of Warwick",
          "United States/Seattle/University of Washington",
          "Germany/Wurzburg/University of Würzburg",
          "United Kingdom/York/University of York",
          "Croatia/Zagreb/University of Zagreb",
          "Spain/Zaragoza/University of Zaragoza",
          "Switzerland/Zurich/University of Zurich",
          "Spain/Leioa/University of the Basque Country",
          "United Kingdom/Bristol/University of the West of England",
          "Italy/Rome/Università Campus Bio-Medico",
          "Germany/Tübingen/Universitätsklinikum Tübingen",
          "Germany/Rostock/Universitätsmedizin Rostock",
          "Canada/Québec/Université Laval",
          "Sweden/Uppsala/Uppsala University",
          "Netherlands/Utrecht/Utrecht University",
          "Netherlands/Amsterdam/VU Amsterdam",
          "United States/Nashville/Vanderbilt University",
          "Austria/Vienna/Vienna General Hospital",
          "United States/Richmond/Virginia Commonwealth University",
          "United States/Blacksburg/Virginia Tech",
          "United States/St Louis/Washington University in St. Louis",
          "United Kingdom/Oxford/Wellcome Centre for Human Genetics",
          "United Kingdom/Glasgow/Wellcome Centre for Molecular Parasitology",
          "United Kingdom/Cambridge/Wellcome Sanger Institute",
          "United Kingdom/London/Wellcome Trust",
          "Australia/Adelaide/Women's and Children's Hospital",
          "Italy/Rome/World Food Programme",
          "Switzerland/Geneva/World Health Organization",
          "Italy/Rome/World Health Organization - Italy",
          "Republic of the Congo/Brazzaville/World Health Organization Regional Office for Africa",
          "Egypt/Cairo/World Health Organization Regional Office for the Eastern Mediterranean",
          "United States/Dayton/Wright State University",
          "United States/New Haven/Yale University",
          "Japan/Yamaguchi/Yamaguchi University",
          "China/Yangzhou/Yangzhou University",
          "South Korea/Seoul/Yonsei University",
          "United Kingdom/York/York Hospital",
          "Turkey/Van/Yüzüncü Yıl University",
          "France/Caen/École Nationale Supérieure d'ingénieurs De Caen",
          "France/Paris/École Normale Supérieure",
          "Switzerland/Lausanne/École Polytechnique Fédérale de Lausanne",
          "Germany/Aachen",
          "Denmark/Aarhus",
          "Ghana/Accra",
          "Ethiopia/Addis Ababa",
          "Australia/Adelaide",
          "India/Ahmedabad",
          "Iran/Ahvāz",
          "Iraq/Al Hillah",
          "United States/Albany",
          "United States/Ames",
          "France/Amiens",
          "Netherlands/Amsterdam",
          "Italy/Ancona",
          "Turkey/Ankara",
          "United States/Ann Arbor",
          "Turkey/Antalya",
          "Madagascar/Antananarivo",
          "Belgium/Antwerp",
          "United States/Arlington",
          "Australia/Armidale",
          "Greece/Athens",
          "United States/Athens",
          "United States/Atlanta",
          "France/Aubière",
          "New Zealand/Auckland",
          "Germany/Augsburg",
          "India/Aurangabad",
          "United States/Austin",
          "United States/Baltimore",
          "Mali/Bamako",
          "Thailand/Bangkok",
          "United Kingdom/Bangor",
          "Gambia/Banjul",
          "Spain/Barcelona",
          "Italy/Bari",
          "Switzerland/Basel",
          "Israel/Beersheba",
          "Brazil/Belo Horizonte",
          "Italy/Benevento",
          "India/Bengaluru",
          "Italy/Bergamo",
          "United States/Berkeley",
          "Germany/Berlin",
          "Switzerland/Bern",
          "United States/Bethesda",
          "Poland/Białystok",
          "Germany/Bielefeld",
          "Iran/Birjand",
          "United Kingdom/Birmingham",
          "United States/Birmingham",
          "United States/Blacksburg",
          "Malawi/Blantyre",
          "France/Bobigny",
          "Burkina Faso/Bobo-Dioulasso",
          "United States/Boca Raton",
          "Germany/Bochum",
          "Italy/Bologna",
          "Germany/Bonn",
          "United Kingdom/Bootle",
          "France/Bordeaux",
          "Germany/Borstel",
          "United States/Boston",
          "Portugal/Braga",
          "Brazil/Brasília",
          "Slovakia/Bratislava",
          "Germany/Braunschweig",
          "Republic of the Congo/Brazzaville",
          "Italy/Brescia",
          "United Kingdom/Brighton",
          "Australia/Brisbane",
          "United Kingdom/Bristol",
          "United States/Brooklyn",
          "Belgium/Brussels",
          "Hungary/Budapest",
          "Cameroon/Buea",
          "Argentina/Buenos Aires",
          "United States/Burlington",
          "Canada/Burnaby",
          "Turkey/Bursa",
          "France/Caen",
          "Italy/Cagliari",
          "Egypt/Cairo",
          "Canada/Calgary",
          "United Kingdom/Cambridge",
          "United States/Cambridge",
          "Italy/Camerino",
          "Australia/Camperdown",
          "Brazil/Campinas",
          "Australia/Canberra",
          "United Kingdom/Canterbury",
          "South Africa/Cape Town",
          "Venezuela/Caracas",
          "United Kingdom/Cardiff",
          "Italy/Caserta",
          "Italy/Catania",
          "Italy/Catanzaro",
          "Spain/Cerdanyola del Vallès",
          "United States/Chapel Hill",
          "South Korea/Cheongju-si",
          "United States/Chicago",
          "Bangladesh/Chittagong",
          "United States/Cincinnati",
          "United States/Clemson",
          "United States/Cleveland",
          "Romania/Cluj-Napoca",
          "United States/College Park",
          "United States/College Station",
          "Germany/Cologne",
          "Sri Lanka/Colombo",
          "United States/Columbia",
          "United States/Columbus",
          "United States/Cookeville",
          "Denmark/Copenhagen",
          "Ireland/Cork",
          "France/Corte",
          "Italy/Cosenza",
          "Benin/Cotonou",
          "United Kingdom/Coventry",
          "France/Créteil",
          "Mexico/Cuernavaca",
          "Argentina/Córdoba",
          "South Korea/Daejeon",
          "Senegal/Dakar",
          "Tanzania/Dar es Salaam",
          "United States/Davis",
          "United States/Dayton",
          "Netherlands/De Bilt",
          "United States/Dearborn",
          "Netherlands/Delft",
          "Turkey/Denizli",
          "United States/Denver",
          "France/Dijon",
          "Germany/Dresden",
          "Ireland/Dublin",
          "South Africa/Durban",
          "United States/Durham",
          "Germany/Düsseldorf",
          "United States/East Lansing",
          "United Kingdom/Edinburgh",
          "Canada/Edmonton",
          "Turkey/Elâzığ",
          "Germany/Erlangen",
          "Turkey/Erzurum",
          "Turkey/Eskişehir",
          "United States/Evanston",
          "Italy/Ferrara",
          "Italy/Fisciano",
          "Australia/Fitzroy",
          "Italy/Florence",
          "Italy/Foggia",
          "United States/Fort Collins",
          "Brazil/Fortaleza",
          "Germany/Frankfurt am Main",
          "Canada/Fredericton",
          "Germany/Freiburg",
          "United States/Gainesville",
          "United States/Galveston",
          "France/Garches",
          "Switzerland/Geneva",
          "Italy/Genoa",
          "Belgium/Ghent",
          "Germany/Giessen",
          "United Kingdom/Glasgow",
          "Papua New Guinea/Goroka",
          "South Korea/Goyang-si",
          "Austria/Graz",
          "United States/Greenbelt",
          "Netherlands/Groningen",
          "South Korea/Gwangju",
          "Germany/Göttingen",
          "Germany/Hachenburg",
          "Israel/Haifa",
          "Germany/Hamburg",
          "Canada/Hamilton",
          "Germany/Hanau",
          "China/Hangzhou",
          "Germany/Hanover",
          "United States/Hanover",
          "United Kingdom/Harrogate",
          "Germany/Heidelberg",
          "Finland/Helsinki",
          "Greece/Heraklion",
          "Vietnam/Ho Chi Minh City",
          "Australia/Hobart",
          "China/Hong Kong",
          "United States/Honolulu",
          "United States/Houston",
          "Denmark/Hvidovre",
          "India/Hyderabad",
          "Romania/Iasi",
          "Nigeria/Ibadan",
          "Nigeria/Ikeja",
          "Nigeria/Ilesa",
          "France/Illkirch-Graffenstaden",
          "Austria/Innsbruck",
          "Greece/Ioannina",
          "United States/Iowa City",
          "Turkey/Isparta",
          "Italy/Ispra",
          "Turkey/Istanbul",
          "United States/Ithaca",
          "Nigeria/Iwo",
          "United States/Jackson",
          "Saudi Arabia/Jeddah",
          "Germany/Jena",
          "Israel/Jerusalem",
          "China/Jinan",
          "United States/Johnson City",
          "Germany/Jülich",
          "Turkey/Kahramanmaraş",
          "Uganda/Kampala",
          "Japan/Kanazawa",
          "Germany/Karlsruhe",
          "Russia/Kazan’",
          "Iran/Kerman",
          "Sudan/Khartoum",
          "Germany/Kiel",
          "Turkey/Kilis",
          "Japan/Kobe",
          "Denmark/Kongens Lyngby",
          "Germany/Konstanz",
          "Turkey/Konya",
          "Germany/Krefeld",
          "Ghana/Kumasi",
          "Finland/Kuopio",
          "Kuwait/Kuwait City",
          "Japan/Kyoto",
          "Turkey/Kütahya",
          "Turkey/Kırıkkale",
          "United States/La Jolla",
          "Gabon/Lambaréné",
          "Switzerland/Lancy",
          "Switzerland/Lausanne",
          "United States/Lawrence",
          "Italy/Lecce",
          "United Kingdom/Leeds",
          "Italy/Legnaro",
          "United Kingdom/Leicester",
          "Netherlands/Leiden",
          "Spain/Leioa",
          "Germany/Leipzig",
          "Germany/Leverkusen",
          "United States/Lexington",
          "France/Lille",
          "Peru/Lima",
          "Ireland/Limerick",
          "France/Limoges",
          "United States/Lincoln",
          "Sweden/Linköping",
          "Portugal/Lisbon",
          "United States/Little Rock",
          "United Kingdom/Liverpool",
          "Slovenia/Ljubljana",
          "United Kingdom/London",
          "United States/Los Alamos",
          "United States/Los Angeles",
          "United States/Louisville",
          "United States/Lubbock",
          "Zambia/Lusaka",
          "France/Lyon",
          "Germany/Lübeck",
          "Netherlands/Maastricht",
          "Spain/Madrid",
          "Germany/Magdeburg",
          "Germany/Mainz",
          "Bahrain/Manama",
          "United Kingdom/Manchester",
          "United States/Manhasset",
          "Mozambique/Maputo",
          "France/Marseille",
          "United States/Marshfield",
          "Iran/Mashhad",
          "United States/Medford",
          "Australia/Melbourne",
          "Italy/Meldola",
          "United States/Memphis",
          "Italy/Messina",
          "Italy/Milan",
          "United States/Minneapolis",
          "Italy/Modena",
          "France/Montpellier",
          "Canada/Montreal",
          "United States/Moraga",
          "Tanzania/Morogoro",
          "Tanzania/Moshi",
          "Iraq/Mosul",
          "Italy/Mozzagrogna",
          "India/Mumbai",
          "United States/Muncie",
          "Germany/Munich",
          "Turkey/Muğla",
          "Germany/Münster",
          "Japan/Nagasaki",
          "Japan/Nagoya",
          "Kenya/Nairobi",
          "France/Nancy",
          "China/Nanjing",
          "France/Nantes",
          "Italy/Naples",
          "United States/Nashville",
          "Brazil/Natal",
          "Ghana/Navrongo",
          "Italy/Negrar",
          "United States/New Brunswick",
          "India/New Delhi",
          "United States/New Haven",
          "United States/New Hyde Park",
          "United States/New York",
          "United States/Newark",
          "Australia/Newcastle",
          "United Kingdom/Newcastle upon Tyne",
          "France/Nice",
          "Netherlands/Nijmegen",
          "United States/Normal",
          "United States/Notre Dame",
          "United Kingdom/Nottingham",
          "United States/Oakland",
          "Denmark/Odense",
          "Portugal/Oeiras",
          "Germany/Offenbach",
          "Japan/Okayama",
          "Italy/Origgio",
          "France/Orléans",
          "France/Orsay",
          "Japan/Osaka",
          "Norway/Oslo",
          "Canada/Ottawa",
          "Burkina Faso/Ouagadougou",
          "United Kingdom/Oxford",
          "Italy/Padova",
          "France/Palaiseau",
          "Italy/Palermo",
          "United States/Palo Alto",
          "France/Paris",
          "Italy/Parma",
          "United States/Pasadena",
          "Thailand/Pathum Thani",
          "Italy/Pavia",
          "United Kingdom/Penicuik",
          "Italy/Perugia",
          "Israel/Petah Tikva",
          "United States/Philadelphia",
          "Cambodia/Phnom Penh",
          "Italy/Pisa",
          "United States/Pittsburgh",
          "Italy/Pomezia",
          "United States/Portland",
          "Portugal/Porto",
          "United Kingdom/Potters Bar",
          "Czechia/Prague",
          "South Africa/Pretoria",
          "United States/Princeton",
          "United States/Providence",
          "India/Pune",
          "Malaysia/Putrajaya",
          "Poland/Puławy",
          "Greece/Pátrai",
          "Canada/Québec",
          "Morocco/Rabat",
          "United States/Raleigh",
          "Israel/Ramat Gan",
          "United Kingdom/Reading",
          "Germany/Regensburg",
          "Italy/Reggio Calabria",
          "France/Rennes",
          "United States/Reston",
          "Greece/Rethymno",
          "Spain/Reus",
          "United States/Richmond",
          "Netherlands/Rijswijk",
          "Italy/Rimini",
          "Brazil/Rio de Janeiro",
          "United States/Riverside",
          "Saudi Arabia/Riyadh",
          "United States/Rochester",
          "United States/Rockville",
          "Italy/Rome",
          "South Africa/Rondebosch",
          "Germany/Rostock",
          "Netherlands/Rotterdam",
          "France/Rouen",
          "Italy/Rozzano",
          "Germany/Saarbrücken",
          "Russia/Saint Petersburg",
          "France/Saint-Etienne",
          "United States/Salt Lake City",
          "United States/San Antonio",
          "United States/San Diego",
          "Italy/San Donato Milanese",
          "Italy/San Giovanni Rotondo",
          "Italy/San Michele all'Adige",
          "Norway/Sandvika",
          "Germany/Sankt Augustin",
          "Spain/Santa Cruz de Tenerife",
          "Chile/Santiago",
          "Spain/Santiago de Compostela",
          "Canada/Saskatoon",
          "Italy/Sassari",
          "United States/Seattle",
          "Iran/Semnan",
          "Japan/Sendai",
          "South Korea/Seoul",
          "Malaysia/Seri Kembangan",
          "United Kingdom/Sheffield",
          "India/Shimla",
          "Iran/Shiraz",
          "Italy/Siena",
          "Singapore/Singapore",
          "Sweden/Solna",
          "United Kingdom/Southampton",
          "United States/St Louis",
          "Canada/St. John's",
          "United States/Stanford",
          "United States/State College",
          "South Africa/Stellenbosch",
          "Sweden/Stockholm",
          "France/Strasbourg",
          "Germany/Stuttgart",
          "Australia/Subiaco",
          "South Korea/Suwon",
          "China/Suzhou",
          "United Kingdom/Swansea",
          "Australia/Sydney",
          "Brazil/São Paulo",
          "Saudi Arabia/Ta'if",
          "Finland/Tampere",
          "Iran/Tehran",
          "Turkey/Tekirdağ",
          "Israel/Tel Aviv",
          "United States/Tempe",
          "United States/The Bronx",
          "Greece/Thessaloniki",
          "China/Tianjin",
          "Albania/Tirana",
          "Italy/Tirrenia",
          "Japan/Tokyo",
          "Russia/Tomsk",
          "Canada/Toronto",
          "France/Toulouse",
          "Japan/Toyoake",
          "Italy/Trento",
          "Italy/Trieste",
          "United States/Troy",
          "United States/Tucson",
          "Tunisia/Tunis",
          "Italy/Turin",
          "Finland/Turku",
          "Germany/Tübingen",
          "Italy/Udine",
          "Germany/Ulm",
          "Sweden/Uppsala",
          "Italy/Urbino",
          "Netherlands/Utrecht",
          "Spain/Valencia",
          "Turkey/Van",
          "Canada/Vancouver",
          "Italy/Varese",
          "Bulgaria/Varna",
          "Italy/Verona",
          "Italy/Veruno",
          "Italy/Vicenza",
          "Austria/Vienna",
          "Portugal/Vila Real",
          "France/Villejuif",
          "France/Villeurbanne",
          "Italy/Viterbo",
          "Japan/Wako",
          "Poland/Warsaw",
          "United States/Washington D.C.",
          "United Kingdom/Watford",
          "United States/West Lafayette",
          "United Kingdom/Woking",
          "Germany/Wurzburg",
          "China/Xi'an",
          "Japan/Yamaguchi",
          "China/Yangzhou",
          "Cameroon/Yaoundé",
          "Iran/Yazd",
          "United Kingdom/York",
          "United States/Yorktown Heights",
          "Croatia/Zagreb",
          "Spain/Zaragoza",
          "Malawi/Zomba",
          "Switzerland/Zurich",
          "Norway/Ås",
          "Albania",
          "Argentina",
          "Australia",
          "Austria",
          "Bahrain",
          "Bangladesh",
          "Belgium",
          "Benin",
          "Brazil",
          "Bulgaria",
          "Burkina Faso",
          "Cambodia",
          "Cameroon",
          "Canada",
          "Chile",
          "China",
          "Croatia",
          "Czechia",
          "Denmark",
          "Egypt",
          "Ethiopia",
          "Finland",
          "France",
          "Gabon",
          "Gambia",
          "Germany",
          "Ghana",
          "Greece",
          "Hungary",
          "India",
          "Iran",
          "Iraq",
          "Ireland",
          "Israel",
          "Italy",
          "Japan",
          "Kenya",
          "Kuwait",
          "Madagascar",
          "Malawi",
          "Malaysia",
          "Mali",
          "Mexico",
          "Morocco",
          "Mozambique",
          "Netherlands",
          "New Zealand",
          "Nigeria",
          "Norway",
          "Papua New Guinea",
          "Peru",
          "Poland",
          "Portugal",
          "Republic of the Congo",
          "Romania",
          "Russia",
          "Saudi Arabia",
          "Senegal",
          "Singapore",
          "Slovakia",
          "Slovenia",
          "South Africa",
          "South Korea",
          "Spain",
          "Sri Lanka",
          "Sudan",
          "Sweden",
          "Switzerland",
          "Tanzania",
          "Thailand",
          "Tunisia",
          "Turkey",
          "Uganda",
          "United Kingdom",
          "United States",
          "Venezuela",
          "Vietnam",
          "Zambia"
         ],
         "labels": [
          "AREA Science Park",
          "Aarhus University",
          "Aarhus University Hospital",
          "Abt Associates (United States)",
          "Academic Medical Center",
          "Addis Ababa University",
          "African Palliative Care Association",
          "Agenzia Sanitaria e Sociale Regionale",
          "Aix-Marseille University",
          "Ajou University",
          "Akdeniz University",
          "Akebono Clinic",
          "Albert Einstein College of Medicine",
          "Albert Schweitzer Hospital",
          "Alberta Children's Hospital",
          "Alberta Health Services",
          "Alexandru Ioan Cuza University",
          "All India Institute of Medical Sciences",
          "American College of Medical Genetics",
          "Animalia (Norway)",
          "Ankara University",
          "Anthony Nolan",
          "Arabian Gulf University",
          "Aristotle University of Thessaloniki",
          "Arizona State University",
          "Astellas Pharma (Japan)",
          "Atatürk University",
          "Auckland City Hospital",
          "Australian National University",
          "Autonomous University of Barcelona",
          "Azienda Ospedaliera Universitaria Policlinico \"Paolo Giaccone\" di Palermo",
          "Azienda Unita' Sanitaria Locale Di Modena",
          "B. V. Patel Pharmaceutical Education and Research Development Centre",
          "BC Cancer Agency",
          "Ball State University",
          "Bambino Gesù Children's Hospital",
          "Banc de Sang i Teixits",
          "Bangor University",
          "Baqiyatallah University of Medical Sciences",
          "Bar-Ilan University",
          "Bayer (Germany)",
          "Baylor College of Medicine",
          "Başkent University",
          "Ben-Gurion University of the Negev",
          "Bernhard Nocht Institute for Tropical Medicine",
          "Bhabha Atomic Research Centre",
          "Bialystok University of Technology",
          "Bielefeld University",
          "BioFire Diagnostics (United States)",
          "Biomedical Institute of Valencia",
          "Biomedical Primate Research Centre",
          "Biometry and Evolutionary Biology Laboratory",
          "Birjand University of Medical Sciences",
          "Birmingham City Hospital",
          "Bocconi University",
          "Boehringer Ingelheim (France)",
          "Bowen University",
          "Brazilian Center for Research in Energy and Materials",
          "Brigham and Women's Hospital",
          "Brighton and Sussex Medical School",
          "Brown University",
          "Brunel University London",
          "Cajal Institute",
          "California Institute of Technology",
          "Canadian Red Cross Society",
          "Cancer Research Institute",
          "Cardiff University",
          "Carleton University",
          "Carlos III University of Madrid",
          "Carnegie Mellon University",
          "Casa Sollievo della Sofferenza",
          "Case Western Reserve University",
          "Catholic University of Korea",
          "Catholic University of the Sacred Heart",
          "Cayetano Heredia University",
          "Center for Infectious Disease Research",
          "Center of Theoretical Physics",
          "Centre De Recherche en Mathématiques de la Décision",
          "Centre Hospitalier Universitaire D' Amiens",
          "Centre Hospitalier Universitaire De Rouen",
          "Centre Hospitalier Universitaire Sainte-Justine",
          "Centre Hospitalier Universitaire de Nantes",
          "Centre Muraz",
          "Centre National de Recherche et de Formation sur le Paludisme",
          "Centre Rennes",
          "Centre for Genomic Regulation",
          "Centre for Life",
          "Charité",
          "Charles University",
          "Cheikh Anta Diop University",
          "Children's Hospital of Eastern Ontario",
          "Children's Hospital of Pittsburgh",
          "Children's of Alabama",
          "Chonnam National University",
          "Chris O’Brien Lifehouse",
          "Chulalongkorn University",
          "Cincinnati Children's Hospital Medical Center",
          "Clemson University",
          "Cleveland Clinic",
          "Collegium Budapest",
          "Colorado State University",
          "Columbia University",
          "Community Network Services",
          "Complutense University of Madrid",
          "Cookeville Regional Medical Center",
          "Cornell University",
          "Council for Scientific and Industrial Research",
          "Covance (United Kingdom)",
          "DRK Krankenhaus Alzey",
          "Daimler (Germany)",
          "Dartmouth College",
          "Data61",
          "Department of Health",
          "Department of Health and Human Services",
          "Deutsches Elektronen-Synchrotron DESY",
          "Dr Lütfi Kırdar Kartal Eğitim ve Araştırma Hastanesi",
          "Drexel University",
          "Duke University",
          "Dumlupinar University",
          "Dynamique des Interactions Membranaires Normales et Pathologiques",
          "Délégation Midi-Pyrénées, Limousin",
          "ETH Zurich",
          "East Tennessee State University",
          "Economic and Social Research Institute",
          "Emory University",
          "Erasmus University Medical Center",
          "Erzurum Regional Training and Research Hospital",
          "Eskişehir Osmangazi University",
          "European Bioinformatics Institute",
          "European Centre for Disease Prevention and Control",
          "European Centre for Social Welfare Policy and Research",
          "European Commission",
          "European Institute of Oncology",
          "European Molecular Biology Laboratory",
          "European School of Oncology",
          "Ewha Womans University",
          "FIRC Institute of Molecular Oncology",
          "Federal Institute for Drugs and Medical Devices",
          "Federal University of Rio Grande do Norte",
          "Federal University of Rio de Janeiro",
          "Feinstein Institute for Medical Research",
          "First Affiliated Hospital Zhejiang University",
          "Florida Atlantic University",
          "Fondazione Bruno Kessler",
          "Fondazione Edmund Mach",
          "Fondazione IRCCS Ca' Granda Ospedale Maggiore Policlinico",
          "Fondazione Salvatore Maugeri",
          "Fondazione Santa Lucia",
          "Fondazione Stella Maris",
          "Food and Agriculture Organization of the United Nations",
          "Forschungszentrum Jülich",
          "Foundation for Innovative New Diagnostics",
          "Foundation for Research and Technology Hellas",
          "Foundation for the National Institutes of Health",
          "Fraunhofer Institute for Algorithms and Scientific Computing",
          "French National Centre for Scientific Research",
          "Friedrich Schiller University Jena",
          "Fujita Health University",
          "Fundación Pública Galega de Medicina Xenómica",
          "Fırat University",
          "Gakushuin University",
          "Genetic Alliance",
          "George Washington University",
          "German Cancer Research Center",
          "Ghent University",
          "Ghent University Hospital",
          "Goddard Institute for Space Studies",
          "Goddard Space Flight Center",
          "Goethe University Frankfurt",
          "Griffith University",
          "Hacettepe University",
          "Hamburg University of Applied Sciences",
          "Hannover Medical School",
          "Harrogate District Hospital",
          "Harvard University",
          "Haseki Eğitim ve Araştırma Hastanesi",
          "Health Canada",
          "Health and Safety Executive",
          "Hebrew University of Jerusalem",
          "Heidelberg University",
          "Heinrich Heine University Düsseldorf",
          "Helios Klinikum Krefeld",
          "Hellenic Center for Disease Control & Prevention",
          "Helmholtz Centre for Infection Research",
          "Helsinki University Central Hospital",
          "Hohai University",
          "Hong Kong Baptist University",
          "Hospital Del Mar",
          "Hospital General Universitario Gregorio Marañón",
          "Hospital Luis Calvo Mackenna",
          "Hospital Universitari Sant Joan de Reus",
          "Hospital Universitario Nuestra Señora de Candelaria",
          "Hospital Universitario Ramón y Cajal",
          "Hospital Vargas",
          "Hospital for Sick Children",
          "Hospital for Tropical Diseases",
          "Hrvatski zavod za javno zdravstvo",
          "Humanitas Research Hospital",
          "Hunter College",
          "Hvidovre Hospital",
          "Hôpital Avicenne",
          "Hôpital Bichat-Claude-Bernard",
          "Hôpital Cochin",
          "Hôpital Nord",
          "Hôpital Pellegrin",
          "Hôpital Universitaire Dupuytren",
          "Hôpital de la Timone",
          "IBM Research – Thomas J. Watson Research Center",
          "IN Financing & Project Management",
          "INFN Sezione di Pisa",
          "IRCCS Materno Infantile Burlo Garofolo",
          "Icahn School of Medicine at Mount Sinai",
          "Illinois State University",
          "Imperial College London",
          "Indian Institute of Science Bangalore",
          "Indira Gandhi Medical College",
          "Innsbruck Medical University",
          "Inserm",
          "Institut Agronomique et Vétérinaire Hassan II",
          "Institut Gustave Roussy",
          "Institut Hospital del Mar d'Investigacions Mèdiques",
          "Institut National d'Hygiène du Maroc",
          "Institut Pasteur",
          "Institut Pasteur de Dakar",
          "Institut Pasteur de Madagascar",
          "Institut Pasteur de Tunis",
          "Institut Pasteur du Cambodge",
          "Institut de Physique de Nice",
          "Institut de Recherche Mathématique Avancée",
          "Institut de Recherche en Sciences de la Santé",
          "Institut de Recherche pour le Développement",
          "Institut de Recherche pour le Développement",
          "Institute Curie",
          "Institute for Chemical and Physical Processes",
          "Institute for Research in Fundamental Sciences",
          "Institute for Scientific Interchange",
          "Institute for Sustainable Plant Protection",
          "Institute of Cancer Research",
          "Institute of Child Health",
          "Institute of Computer Science",
          "Institute of Crystallography",
          "Institute of Organic Synthesis and Photoreactivity",
          "Institute of Physical Chemistry",
          "Institute of Physics",
          "Institute of Protein Biochemistry",
          "Institute of Soil Science and Plant Cultivation",
          "Institute of Tropical Medicine Antwerp",
          "Instituto Butantan",
          "Instituto Gulbenkian de Ciência",
          "Instituto Nacional de Salud Pública",
          "Instituto Nacional do Câncer",
          "Instituto de Salud Carlos III",
          "Instytut Biologii Doświadczalnej im. Marcelego Nenckiego",
          "International Agency For Research On Cancer",
          "International Centre for Genetic Engineering and Biotechnology",
          "International Fund for Agricultural Development",
          "International Institute for Water and Environmental Engineering",
          "International Renal Research Institute of Vicenza",
          "Iowa State University",
          "Iran University of Medical Sciences",
          "Israelitisches Krankenhaus",
          "Istanbul University",
          "Istanbul University Cerrahpaşa",
          "Istituti Fisioterapici Ospitalieri",
          "Istituto Dermopatico dell'Immacolata",
          "Istituto Giannina Gaslini",
          "Istituto Nazionale Genetica Molecolare",
          "Istituto Nazionale dei Tumori",
          "Istituto Nazionale di Ricerca per gli Alimenti e la Nutrizione",
          "Istituto Nazionale per l'Assicurazione Contro gli Infortuni sul Lavoro",
          "Istituto Nazionale per le Malattie Infettive Lazzaro Spallanzani",
          "Istituto Neurologico Carlo Besta",
          "Istituto Pasteur",
          "Istituto Scientifico Romagnolo per lo Studio e la Cura dei Tumori",
          "Istituto Superiore di Sanità",
          "Istituto Zooprofilattico Sperimentale Della Sicilia",
          "Istituto Zooprofilattico Sperimentale delle Venezie",
          "Istituto di Fisiologia Clinica",
          "Istituto di Genetica Molecolare",
          "Istituto di Matematica Applicata e Tecnologie Informatiche",
          "Italian Association for Cancer Research",
          "Italian Institute of Technology",
          "J. Craig Venter Institute",
          "Jamia Millia Islamia",
          "Jean Monnet University",
          "Jikei University School of Medicine",
          "Johannes Gutenberg University of Mainz",
          "John Radcliffe Hospital",
          "Johns Hopkins Medicine",
          "Johns Hopkins University",
          "Joint Research Centre",
          "Jožef Stefan Institute",
          "Kahramanmaraş Sütçü İmam University",
          "Kanazawa University",
          "Kansai Medical University",
          "Kaplan Medical Center",
          "Karlsruhe Institute of Technology",
          "Karolinska Institute",
          "Karolinska University Hospital",
          "Kazan Federal University",
          "Kenya Medical Research Institute",
          "Kenyatta University",
          "Kerman University of Medical Sciences",
          "Kiel University",
          "Kilimanjaro Christian Medical Centre",
          "Kilis 7 Aralık University",
          "King Abdulaziz University",
          "King Edward Memorial Hospital",
          "King's College London",
          "Klinikum Hanau",
          "Klinikum der Universität München",
          "Kobe University",
          "Korea National Institute of Health",
          "Korea Research Institute of Bioscience and Biotechnology",
          "Kuwait University",
          "Kwame Nkrumah University of Science and Technology",
          "Kyoto University",
          "Kırıkkale University",
          "La Trobe University",
          "Laboratoire Jacques-Louis Lions",
          "Laboratoire de Physique Corpusculaire",
          "Lagos State University",
          "Latin American and Caribbean Society of Medical Oncology",
          "Leiden University",
          "Leiden University Medical Center",
          "Leipzig University",
          "Libera Università Maria SS. Assunta",
          "Linköping University",
          "Linköping University Hospital",
          "Litron Laboratories",
          "Liverpool School of Tropical Medicine",
          "Livestrong Foundation",
          "London School of Hygiene & Tropical Medicine",
          "Long Island Jewish Medical Center",
          "Los Alamos National Laboratory",
          "Lucile Packard Children's Hospital",
          "Ludwig Maximilian University of Munich",
          "MIT Lincoln Laboratory",
          "MRC Epidemiology Unit",
          "MRC Mitochondrial Biology Unit",
          "Maastricht University",
          "Maastricht University Medical Centre",
          "Macquarie University",
          "Madrid Institute for Advanced Studies",
          "Magna Graecia University",
          "Mahidol University",
          "Makerere University",
          "Malawi-Liverpool-Wellcome Trust Clinical Research Programme",
          "Manhiça Health Research Centre",
          "Marche Polytechnic University",
          "Mareşal Çakmak Askeri Hastanesi",
          "Mario Negri Institute for Pharmacological Research",
          "Mario Negri Sud Foundation",
          "Marmara University",
          "Marshfield Clinic",
          "Mashhad University of Medical Sciences",
          "Massachusetts General Hospital",
          "Massachusetts Institute of Technology",
          "Mater Health Services",
          "Maulana Azad Medical College",
          "Max Planck Institute for Meteorology",
          "McGill University",
          "McMaster University",
          "Medical Research Council Harwell",
          "Medical Research Council The Gambia Unit",
          "Medical University of Graz",
          "Medical University of Varna",
          "Medical University of Vienna",
          "Medical University of Warsaw",
          "Medicines for Malaria Venture",
          "Memorial University of Newfoundland",
          "Michigan State University",
          "Middlesex University",
          "Ministero degli Affari Esteri",
          "Ministero della Salute",
          "Ministry of Health",
          "Ministry of Health and Social Welfare",
          "Ministry of Public Health",
          "Ministry of Scientific Research and Innovation",
          "Mitsubishi Chemical Holdings (Japan)",
          "Mondor Institute of Biomedical Research",
          "Montefiore Medical Center",
          "Moredun Foundation",
          "Muhimbili University of Health and Allied Sciences",
          "Musée de l'Homme",
          "Muğla University",
          "Médecins Sans Frontières",
          "NHS Blood and Transplant",
          "Nagasaki University",
          "Nagoya City University",
          "Namık Kemal University",
          "National Agency For New Technologies, Energy and Sustainable Economic Development",
          "National Cancer Center",
          "National Cancer Centre Singapore",
          "National Cancer Institute",
          "National Center of Neurology and Psychiatry",
          "National Center on Birth Defects and Developmental Disabilities",
          "National Centre for Cell Science",
          "National Human Genome Research Institute",
          "National Institute for Biological Standards and Control",
          "National Institute for Medical Research",
          "National Institute for Public Health and the Environment",
          "National Institute of Allergy and Infectious Diseases",
          "National Institute of Arthritis and Musculoskeletal and Skin Diseases",
          "National Institute of Environmental Health Sciences",
          "National Institute of Immunology",
          "National Institute of Statistics",
          "National Institute on Aging",
          "National Institutes of Health",
          "National Park Service",
          "National Research Council",
          "National Skin Centre",
          "National University of Córdoba",
          "National and Kapodistrian University of Athens",
          "Natural History Museum",
          "Navrongo Health Research Centre",
          "Necker-Enfants Malades Hospital",
          "Necmettin Erbakan University",
          "Netherlands Organisation for Applied Scientific Research",
          "Neurosciences Institute",
          "New York Botanical Garden",
          "New York University",
          "Newcastle University",
          "Nice Sophia Antipolis University",
          "Noguchi Memorial Institute for Medical Research",
          "North Carolina State University",
          "Northeastern University",
          "Northwest University",
          "Northwestern University",
          "Norwegian Institute of Public Health",
          "Norwegian University of Life Sciences",
          "Nottingham City Hospital",
          "Novartis (Italy)",
          "Novartis (Switzerland)",
          "Obafemi Awolowo University",
          "Oniris",
          "Open Society Foundations",
          "Oregon Health & Science University",
          "Organisation de Coordination pour la lutte contre les Endémies en Afrique Centrale",
          "Osaka City University",
          "Osaka University",
          "OsloMet – Oslo Metropolitan University",
          "Ospedale Bellaria",
          "Ospedale Humanitas Gradenigo",
          "Ospedale Infermi di Rimini",
          "Ospedale Monaldi",
          "Ospedale Papa Giovanni XXIII",
          "Ospedale Sacro Cuore Don Calabria",
          "Ospedale San Bortolo",
          "Ospedale San Giovanni Bosco",
          "Ospedale San Martino",
          "Ospedale Vincenzo Cervello",
          "Oswaldo Cruz Foundation",
          "Otto-von-Guericke University Magdeburg",
          "Oxford University Clinical Research Unit",
          "Pamukkale University",
          "Papua New Guinea Institute of Medical Research",
          "Paris 12 Val de Marne University",
          "Paris Descartes University",
          "Paris Diderot University",
          "Pasteur Institute of Lille",
          "Paul Sabatier University",
          "Pennsylvania State University",
          "Peter the Great St. Petersburg Polytechnic University",
          "Pfizer (United States)",
          "Pirbright Institute",
          "Pitié-Salpêtrière Hospital",
          "Policlinico S.Orsola-Malpighi",
          "Policlinico San Donato",
          "Policlinico San Matteo Fondazione",
          "Policlinico Tor Vergata",
          "Polytechnic University of Milan",
          "Pompeu Fabra University",
          "Princeton University",
          "Procter & Gamble (Switzerland)",
          "Public Health Agency of Sweden",
          "Public Health England",
          "Purdue University West Lafayette",
          "QIMR Berghofer Medical Research Institute",
          "RIKEN",
          "RWTH Aachen University",
          "Rabin Medical Center",
          "Radboud University Nijmegen Medical Centre",
          "Rangsit University",
          "Raymond Poincaré University Hospital",
          "Regione Campania",
          "Rensselaer Polytechnic Institute",
          "Research Center Borstel - Leibniz-Center for Medicine and Biosciences",
          "Research Institute of Medical Genetics of Russian Academy of Medical Sciences",
          "Rigshospitalet",
          "Riyadh Armed Forces Hospital",
          "Robert Koch Institute",
          "Rockefeller University",
          "Roma Tre University",
          "Royal Brisbane and Women's Hospital",
          "Royal College of Psychiatrists",
          "Royal College of Surgeons in Ireland",
          "Royal Free Hospital",
          "Royal Liverpool University Hospital",
          "Royal Melbourne Hospital",
          "Royal Prince Alfred Hospital",
          "Royal Tropical Institute",
          "Ruhr University Bochum",
          "Rutgers, The State University of New Jersey",
          "SUNY Downstate Medical Center",
          "Saarland University",
          "Saint Mary's College of California",
          "San Raffaele Hospital",
          "Sana Klinikum Offenbach",
          "Sapienza University of Rome",
          "Selçuk University",
          "Semnan University of Medical Sciences",
          "Senckenberg Nature Research Society",
          "Seth Nandlal Dhoot Hospital",
          "Shahid Beheshti University of Medical Sciences",
          "Shahid Chamran University of Ahvaz",
          "Shahid Sadoughi University of Medical Sciences and Health Services",
          "Shandong University",
          "Sharif University of Technology",
          "Shiraz University",
          "Sigma Tau (Italy)",
          "Simon Fraser University",
          "Slotervaartziekenhuis",
          "Sokoine University of Agriculture",
          "Soochow University",
          "Sorbonne University",
          "Soroka Medical Center",
          "South African Medical Research Council",
          "Southeast University",
          "St George's, University of London",
          "St Vincents Institute of Medical Research",
          "St. Jude Children's Research Hospital",
          "St.John's Medical College Hospital",
          "Stanford University",
          "State University of Campinas",
          "Stazione Zoologica Anton Dohrn",
          "Stellenbosch University",
          "Stockholm University",
          "Städtisches Klinikum Karlsruhe",
          "Sunnybrook Health Science Centre",
          "Swansea University",
          "Swiss Tropical and Public Health Institute",
          "Süleyman Demirel University",
          "TU Dresden",
          "Taif University",
          "Tampere University",
          "Tarbiat Modares University",
          "Technical University of Cluj-Napoca",
          "Technical University of Denmark",
          "Technical University of Madrid",
          "Technical University of Munich",
          "Technion – Israel Institute of Technology",
          "Technological University Dublin",
          "Tehran University of Medical Sciences",
          "Tel Aviv University",
          "Telenor (Norway)",
          "Telethon Institute Of Genetics And Medicine",
          "Texas A&M Health Science Center",
          "Texas A&M University",
          "Texas Children's Hospital",
          "Texas Tech University Health Sciences Center",
          "The Francis Crick Institute",
          "The Ohio State University",
          "The University of Texas Medical Branch at Galveston",
          "The University of Texas at Arlington",
          "The University of Texas at San Antonio",
          "Thomas Jefferson University",
          "Tianjin University of Traditional Chinese Medicine",
          "Tohoku University",
          "Tokyo Institute of Technology",
          "Tokyo Medical University",
          "Tokyo Medical and Dental University",
          "Tokyo Women's Medical University",
          "Transgene (France)",
          "Trinity College Dublin",
          "Tufts University",
          "Tuscia University",
          "Uludağ University",
          "Unilever (United Kingdom)",
          "Union for International Cancer Control",
          "United States Geological Survey",
          "Universidade Federal de Minas Gerais",
          "Universidade Federal do Ceará",
          "Universidade Nova de Lisboa",
          "Universiti Putra Malaysia",
          "University Children’s Hospital Basel",
          "University College Cork",
          "University College London",
          "University Hospital Coventry",
          "University Hospital Heidelberg",
          "University Hospital Münster",
          "University Hospital of Geneva",
          "University Hospital of Lausanne",
          "University Hospitals of Leicester NHS Trust",
          "University Medical Center Freiburg",
          "University Medical Center Groningen",
          "University Teaching Hospital",
          "University at Albany, State University of New York",
          "University of Alabama at Birmingham",
          "University of Alberta",
          "University of Amsterdam",
          "University of Arizona",
          "University of Arkansas System",
          "University of Arkansas for Medical Sciences",
          "University of Augsburg",
          "University of Babylon",
          "University of Bamako",
          "University of Barcelona",
          "University of Bari Aldo Moro",
          "University of Bern",
          "University of Bologna",
          "University of Bonn",
          "University of Bordeaux",
          "University of Brasília",
          "University of Brescia",
          "University of Bristol",
          "University of British Columbia",
          "University of Buea",
          "University of Buenos Aires",
          "University of Burgundy",
          "University of Cagliari",
          "University of Calabria",
          "University of Calgary",
          "University of California System",
          "University of California, Berkeley",
          "University of California, Davis",
          "University of California, Los Angeles",
          "University of California, Riverside",
          "University of California, San Diego",
          "University of Cambridge",
          "University of Camerino",
          "University of Campania \"Luigi Vanvitelli\"",
          "University of Cape Town",
          "University of Catania",
          "University of Chicago",
          "University of Chicago Medical Center",
          "University of Chile",
          "University of Cologne",
          "University of Colombo",
          "University of Colorado Denver",
          "University of Copenhagen",
          "University of Corsica Pascal Paoli",
          "University of Crete",
          "University of Delaware",
          "University of Eastern Finland",
          "University of Edinburgh",
          "University of Erlangen-Nuremberg",
          "University of Ferrara",
          "University of Florence",
          "University of Florida",
          "University of Foggia",
          "University of Freiburg",
          "University of Geneva",
          "University of Genoa",
          "University of Georgia",
          "University of Giessen",
          "University of Glasgow",
          "University of Göttingen",
          "University of Hawaii at Manoa",
          "University of Helsinki",
          "University of Hyderabad",
          "University of Ibadan",
          "University of Illinois at Chicago",
          "University of Insubria",
          "University of Ioannina",
          "University of Iowa",
          "University of Kansas",
          "University of Kent",
          "University of Khartoum",
          "University of Konstanz",
          "University of KwaZulu-Natal",
          "University of Lausanne",
          "University of Leeds",
          "University of Leicester",
          "University of Lille",
          "University of Limerick",
          "University of Lisbon",
          "University of Liverpool",
          "University of Ljubljana",
          "University of London",
          "University of Lorraine",
          "University of Louisville",
          "University of Lübeck",
          "University of Malawi",
          "University of Manchester",
          "University of Maryland, Baltimore",
          "University of Maryland, College Park",
          "University of Melbourne",
          "University of Messina",
          "University of Michigan–Ann Arbor",
          "University of Michigan–Dearborn",
          "University of Milan",
          "University of Milano-Bicocca",
          "University of Minho",
          "University of Minnesota",
          "University of Mississippi Medical Center",
          "University of Modena and Reggio Emilia",
          "University of Montpellier",
          "University of Montreal",
          "University of Mosul",
          "University of Münster",
          "University of Naples Federico II",
          "University of Nebraska–Lincoln",
          "University of New Brunswick",
          "University of New England",
          "University of Newcastle Australia",
          "University of North Carolina at Chapel Hill",
          "University of Notre Dame",
          "University of Nottingham",
          "University of Orléans",
          "University of Ouagadougou",
          "University of Oxford",
          "University of Padua",
          "University of Palermo",
          "University of Paris-Sud",
          "University of Parma",
          "University of Patras",
          "University of Pavia",
          "University of Pennsylvania",
          "University of Perugia",
          "University of Picardie Jules Verne",
          "University of Pisa",
          "University of Pittsburgh",
          "University of Porto",
          "University of Pretoria",
          "University of Queensland",
          "University of Reading",
          "University of Regensburg",
          "University of Reggio Calabria",
          "University of Rochester",
          "University of Rochester Medical Center",
          "University of Rome Tor Vergata",
          "University of Rostock",
          "University of Rouen",
          "University of Salento",
          "University of Salerno",
          "University of Sannio",
          "University of Santiago Chile",
          "University of Sao Paulo",
          "University of Saskatchewan",
          "University of Sassari",
          "University of Science and Technology Chittagong",
          "University of Sheffield",
          "University of Siena",
          "University of South Carolina",
          "University of Southern California",
          "University of Southern Denmark",
          "University of Strathclyde",
          "University of Sussex",
          "University of Sydney",
          "University of Tasmania",
          "University of Tennessee Health Science Center",
          "University of Tirana",
          "University of Tokyo",
          "University of Toronto",
          "University of Trento",
          "University of Trieste",
          "University of Trás-os-Montes and Alto Douro",
          "University of Turin",
          "University of Turku",
          "University of Tübingen",
          "University of Udine",
          "University of Ulm",
          "University of Urbino",
          "University of Vermont",
          "University of Verona",
          "University of Warwick",
          "University of Washington",
          "University of Würzburg",
          "University of York",
          "University of Zagreb",
          "University of Zaragoza",
          "University of Zurich",
          "University of the Basque Country",
          "University of the West of England",
          "Università Campus Bio-Medico",
          "Universitätsklinikum Tübingen",
          "Universitätsmedizin Rostock",
          "Université Laval",
          "Uppsala University",
          "Utrecht University",
          "VU Amsterdam",
          "Vanderbilt University",
          "Vienna General Hospital",
          "Virginia Commonwealth University",
          "Virginia Tech",
          "Washington University in St. Louis",
          "Wellcome Centre for Human Genetics",
          "Wellcome Centre for Molecular Parasitology",
          "Wellcome Sanger Institute",
          "Wellcome Trust",
          "Women's and Children's Hospital",
          "World Food Programme",
          "World Health Organization",
          "World Health Organization - Italy",
          "World Health Organization Regional Office for Africa",
          "World Health Organization Regional Office for the Eastern Mediterranean",
          "Wright State University",
          "Yale University",
          "Yamaguchi University",
          "Yangzhou University",
          "Yonsei University",
          "York Hospital",
          "Yüzüncü Yıl University",
          "École Nationale Supérieure d'ingénieurs De Caen",
          "École Normale Supérieure",
          "École Polytechnique Fédérale de Lausanne",
          "Aachen",
          "Aarhus",
          "Accra",
          "Addis Ababa",
          "Adelaide",
          "Ahmedabad",
          "Ahvāz",
          "Al Hillah",
          "Albany",
          "Ames",
          "Amiens",
          "Amsterdam",
          "Ancona",
          "Ankara",
          "Ann Arbor",
          "Antalya",
          "Antananarivo",
          "Antwerp",
          "Arlington",
          "Armidale",
          "Athens",
          "Athens",
          "Atlanta",
          "Aubière",
          "Auckland",
          "Augsburg",
          "Aurangabad",
          "Austin",
          "Baltimore",
          "Bamako",
          "Bangkok",
          "Bangor",
          "Banjul",
          "Barcelona",
          "Bari",
          "Basel",
          "Beersheba",
          "Belo Horizonte",
          "Benevento",
          "Bengaluru",
          "Bergamo",
          "Berkeley",
          "Berlin",
          "Bern",
          "Bethesda",
          "Białystok",
          "Bielefeld",
          "Birjand",
          "Birmingham",
          "Birmingham",
          "Blacksburg",
          "Blantyre",
          "Bobigny",
          "Bobo-Dioulasso",
          "Boca Raton",
          "Bochum",
          "Bologna",
          "Bonn",
          "Bootle",
          "Bordeaux",
          "Borstel",
          "Boston",
          "Braga",
          "Brasília",
          "Bratislava",
          "Braunschweig",
          "Brazzaville",
          "Brescia",
          "Brighton",
          "Brisbane",
          "Bristol",
          "Brooklyn",
          "Brussels",
          "Budapest",
          "Buea",
          "Buenos Aires",
          "Burlington",
          "Burnaby",
          "Bursa",
          "Caen",
          "Cagliari",
          "Cairo",
          "Calgary",
          "Cambridge",
          "Cambridge",
          "Camerino",
          "Camperdown",
          "Campinas",
          "Canberra",
          "Canterbury",
          "Cape Town",
          "Caracas",
          "Cardiff",
          "Caserta",
          "Catania",
          "Catanzaro",
          "Cerdanyola del Vallès",
          "Chapel Hill",
          "Cheongju-si",
          "Chicago",
          "Chittagong",
          "Cincinnati",
          "Clemson",
          "Cleveland",
          "Cluj-Napoca",
          "College Park",
          "College Station",
          "Cologne",
          "Colombo",
          "Columbia",
          "Columbus",
          "Cookeville",
          "Copenhagen",
          "Cork",
          "Corte",
          "Cosenza",
          "Cotonou",
          "Coventry",
          "Créteil",
          "Cuernavaca",
          "Córdoba",
          "Daejeon",
          "Dakar",
          "Dar es Salaam",
          "Davis",
          "Dayton",
          "De Bilt",
          "Dearborn",
          "Delft",
          "Denizli",
          "Denver",
          "Dijon",
          "Dresden",
          "Dublin",
          "Durban",
          "Durham",
          "Düsseldorf",
          "East Lansing",
          "Edinburgh",
          "Edmonton",
          "Elâzığ",
          "Erlangen",
          "Erzurum",
          "Eskişehir",
          "Evanston",
          "Ferrara",
          "Fisciano",
          "Fitzroy",
          "Florence",
          "Foggia",
          "Fort Collins",
          "Fortaleza",
          "Frankfurt am Main",
          "Fredericton",
          "Freiburg",
          "Gainesville",
          "Galveston",
          "Garches",
          "Geneva",
          "Genoa",
          "Ghent",
          "Giessen",
          "Glasgow",
          "Goroka",
          "Goyang-si",
          "Graz",
          "Greenbelt",
          "Groningen",
          "Gwangju",
          "Göttingen",
          "Hachenburg",
          "Haifa",
          "Hamburg",
          "Hamilton",
          "Hanau",
          "Hangzhou",
          "Hanover",
          "Hanover",
          "Harrogate",
          "Heidelberg",
          "Helsinki",
          "Heraklion",
          "Ho Chi Minh City",
          "Hobart",
          "Hong Kong",
          "Honolulu",
          "Houston",
          "Hvidovre",
          "Hyderabad",
          "Iasi",
          "Ibadan",
          "Ikeja",
          "Ilesa",
          "Illkirch-Graffenstaden",
          "Innsbruck",
          "Ioannina",
          "Iowa City",
          "Isparta",
          "Ispra",
          "Istanbul",
          "Ithaca",
          "Iwo",
          "Jackson",
          "Jeddah",
          "Jena",
          "Jerusalem",
          "Jinan",
          "Johnson City",
          "Jülich",
          "Kahramanmaraş",
          "Kampala",
          "Kanazawa",
          "Karlsruhe",
          "Kazan’",
          "Kerman",
          "Khartoum",
          "Kiel",
          "Kilis",
          "Kobe",
          "Kongens Lyngby",
          "Konstanz",
          "Konya",
          "Krefeld",
          "Kumasi",
          "Kuopio",
          "Kuwait City",
          "Kyoto",
          "Kütahya",
          "Kırıkkale",
          "La Jolla",
          "Lambaréné",
          "Lancy",
          "Lausanne",
          "Lawrence",
          "Lecce",
          "Leeds",
          "Legnaro",
          "Leicester",
          "Leiden",
          "Leioa",
          "Leipzig",
          "Leverkusen",
          "Lexington",
          "Lille",
          "Lima",
          "Limerick",
          "Limoges",
          "Lincoln",
          "Linköping",
          "Lisbon",
          "Little Rock",
          "Liverpool",
          "Ljubljana",
          "London",
          "Los Alamos",
          "Los Angeles",
          "Louisville",
          "Lubbock",
          "Lusaka",
          "Lyon",
          "Lübeck",
          "Maastricht",
          "Madrid",
          "Magdeburg",
          "Mainz",
          "Manama",
          "Manchester",
          "Manhasset",
          "Maputo",
          "Marseille",
          "Marshfield",
          "Mashhad",
          "Medford",
          "Melbourne",
          "Meldola",
          "Memphis",
          "Messina",
          "Milan",
          "Minneapolis",
          "Modena",
          "Montpellier",
          "Montreal",
          "Moraga",
          "Morogoro",
          "Moshi",
          "Mosul",
          "Mozzagrogna",
          "Mumbai",
          "Muncie",
          "Munich",
          "Muğla",
          "Münster",
          "Nagasaki",
          "Nagoya",
          "Nairobi",
          "Nancy",
          "Nanjing",
          "Nantes",
          "Naples",
          "Nashville",
          "Natal",
          "Navrongo",
          "Negrar",
          "New Brunswick",
          "New Delhi",
          "New Haven",
          "New Hyde Park",
          "New York",
          "Newark",
          "Newcastle",
          "Newcastle upon Tyne",
          "Nice",
          "Nijmegen",
          "Normal",
          "Notre Dame",
          "Nottingham",
          "Oakland",
          "Odense",
          "Oeiras",
          "Offenbach",
          "Okayama",
          "Origgio",
          "Orléans",
          "Orsay",
          "Osaka",
          "Oslo",
          "Ottawa",
          "Ouagadougou",
          "Oxford",
          "Padova",
          "Palaiseau",
          "Palermo",
          "Palo Alto",
          "Paris",
          "Parma",
          "Pasadena",
          "Pathum Thani",
          "Pavia",
          "Penicuik",
          "Perugia",
          "Petah Tikva",
          "Philadelphia",
          "Phnom Penh",
          "Pisa",
          "Pittsburgh",
          "Pomezia",
          "Portland",
          "Porto",
          "Potters Bar",
          "Prague",
          "Pretoria",
          "Princeton",
          "Providence",
          "Pune",
          "Putrajaya",
          "Puławy",
          "Pátrai",
          "Québec",
          "Rabat",
          "Raleigh",
          "Ramat Gan",
          "Reading",
          "Regensburg",
          "Reggio Calabria",
          "Rennes",
          "Reston",
          "Rethymno",
          "Reus",
          "Richmond",
          "Rijswijk",
          "Rimini",
          "Rio de Janeiro",
          "Riverside",
          "Riyadh",
          "Rochester",
          "Rockville",
          "Rome",
          "Rondebosch",
          "Rostock",
          "Rotterdam",
          "Rouen",
          "Rozzano",
          "Saarbrücken",
          "Saint Petersburg",
          "Saint-Etienne",
          "Salt Lake City",
          "San Antonio",
          "San Diego",
          "San Donato Milanese",
          "San Giovanni Rotondo",
          "San Michele all'Adige",
          "Sandvika",
          "Sankt Augustin",
          "Santa Cruz de Tenerife",
          "Santiago",
          "Santiago de Compostela",
          "Saskatoon",
          "Sassari",
          "Seattle",
          "Semnan",
          "Sendai",
          "Seoul",
          "Seri Kembangan",
          "Sheffield",
          "Shimla",
          "Shiraz",
          "Siena",
          "Singapore",
          "Solna",
          "Southampton",
          "St Louis",
          "St. John's",
          "Stanford",
          "State College",
          "Stellenbosch",
          "Stockholm",
          "Strasbourg",
          "Stuttgart",
          "Subiaco",
          "Suwon",
          "Suzhou",
          "Swansea",
          "Sydney",
          "São Paulo",
          "Ta'if",
          "Tampere",
          "Tehran",
          "Tekirdağ",
          "Tel Aviv",
          "Tempe",
          "The Bronx",
          "Thessaloniki",
          "Tianjin",
          "Tirana",
          "Tirrenia",
          "Tokyo",
          "Tomsk",
          "Toronto",
          "Toulouse",
          "Toyoake",
          "Trento",
          "Trieste",
          "Troy",
          "Tucson",
          "Tunis",
          "Turin",
          "Turku",
          "Tübingen",
          "Udine",
          "Ulm",
          "Uppsala",
          "Urbino",
          "Utrecht",
          "Valencia",
          "Van",
          "Vancouver",
          "Varese",
          "Varna",
          "Verona",
          "Veruno",
          "Vicenza",
          "Vienna",
          "Vila Real",
          "Villejuif",
          "Villeurbanne",
          "Viterbo",
          "Wako",
          "Warsaw",
          "Washington D.C.",
          "Watford",
          "West Lafayette",
          "Woking",
          "Wurzburg",
          "Xi'an",
          "Yamaguchi",
          "Yangzhou",
          "Yaoundé",
          "Yazd",
          "York",
          "Yorktown Heights",
          "Zagreb",
          "Zaragoza",
          "Zomba",
          "Zurich",
          "Ås",
          "Albania",
          "Argentina",
          "Australia",
          "Austria",
          "Bahrain",
          "Bangladesh",
          "Belgium",
          "Benin",
          "Brazil",
          "Bulgaria",
          "Burkina Faso",
          "Cambodia",
          "Cameroon",
          "Canada",
          "Chile",
          "China",
          "Croatia",
          "Czechia",
          "Denmark",
          "Egypt",
          "Ethiopia",
          "Finland",
          "France",
          "Gabon",
          "Gambia",
          "Germany",
          "Ghana",
          "Greece",
          "Hungary",
          "India",
          "Iran",
          "Iraq",
          "Ireland",
          "Israel",
          "Italy",
          "Japan",
          "Kenya",
          "Kuwait",
          "Madagascar",
          "Malawi",
          "Malaysia",
          "Mali",
          "Mexico",
          "Morocco",
          "Mozambique",
          "Netherlands",
          "New Zealand",
          "Nigeria",
          "Norway",
          "Papua New Guinea",
          "Peru",
          "Poland",
          "Portugal",
          "Republic of the Congo",
          "Romania",
          "Russia",
          "Saudi Arabia",
          "Senegal",
          "Singapore",
          "Slovakia",
          "Slovenia",
          "South Africa",
          "South Korea",
          "Spain",
          "Sri Lanka",
          "Sudan",
          "Sweden",
          "Switzerland",
          "Tanzania",
          "Thailand",
          "Tunisia",
          "Turkey",
          "Uganda",
          "United Kingdom",
          "United States",
          "Venezuela",
          "Vietnam",
          "Zambia"
         ],
         "level": "4515d8",
         "name": "",
         "parents": [
          "Italy/Trieste",
          "Denmark/Aarhus",
          "Denmark/Aarhus",
          "United States/Cambridge",
          "Netherlands/Amsterdam",
          "Ethiopia/Addis Ababa",
          "Uganda/Kampala",
          "Italy/Bologna",
          "France/Marseille",
          "South Korea/Suwon",
          "Turkey/Antalya",
          "Japan/Okayama",
          "United States/The Bronx",
          "Gabon/Lambaréné",
          "Canada/Calgary",
          "Canada/Calgary",
          "Romania/Iasi",
          "India/New Delhi",
          "United States/Bethesda",
          "Norway/Oslo",
          "Turkey/Ankara",
          "United Kingdom/London",
          "Bahrain/Manama",
          "Greece/Thessaloniki",
          "United States/Tempe",
          "Japan/Tokyo",
          "Turkey/Erzurum",
          "New Zealand/Auckland",
          "Australia/Canberra",
          "Spain/Cerdanyola del Vallès",
          "Italy/Palermo",
          "Italy/Modena",
          "India/Ahmedabad",
          "Canada/Vancouver",
          "United States/Muncie",
          "Italy/Rome",
          "Spain/Barcelona",
          "United Kingdom/Bangor",
          "Iran/Tehran",
          "Israel/Ramat Gan",
          "Germany/Leverkusen",
          "United States/Houston",
          "Turkey/Ankara",
          "Israel/Beersheba",
          "Germany/Hamburg",
          "India/Mumbai",
          "Poland/Białystok",
          "Germany/Bielefeld",
          "United States/Salt Lake City",
          "Spain/Valencia",
          "Netherlands/Rijswijk",
          "France/Villeurbanne",
          "Iran/Birjand",
          "United Kingdom/Birmingham",
          "Italy/Milan",
          "France/Paris",
          "Nigeria/Iwo",
          "Brazil/Campinas",
          "United States/Boston",
          "United Kingdom/Brighton",
          "United States/Providence",
          "United Kingdom/London",
          "Spain/Madrid",
          "United States/Pasadena",
          "Canada/Ottawa",
          "Slovakia/Bratislava",
          "United Kingdom/Cardiff",
          "Canada/Ottawa",
          "Spain/Madrid",
          "United States/Pittsburgh",
          "Italy/San Giovanni Rotondo",
          "United States/Cleveland",
          "South Korea/Seoul",
          "Italy/Milan",
          "Peru/Lima",
          "United States/Seattle",
          "France/Palaiseau",
          "France/Paris",
          "France/Amiens",
          "France/Rouen",
          "Canada/Montreal",
          "France/Nantes",
          "Burkina Faso/Bobo-Dioulasso",
          "Burkina Faso/Ouagadougou",
          "France/Rennes",
          "Spain/Barcelona",
          "United Kingdom/Newcastle upon Tyne",
          "Germany/Berlin",
          "Czechia/Prague",
          "Senegal/Dakar",
          "Canada/Ottawa",
          "United States/Pittsburgh",
          "United States/Birmingham",
          "South Korea/Gwangju",
          "Australia/Camperdown",
          "Thailand/Bangkok",
          "United States/Cincinnati",
          "United States/Clemson",
          "United States/Cleveland",
          "Hungary/Budapest",
          "United States/Fort Collins",
          "United States/New York",
          "United Kingdom/Southampton",
          "Spain/Madrid",
          "United States/Cookeville",
          "United States/Ithaca",
          "South Africa/Pretoria",
          "United Kingdom/Harrogate",
          "Germany/Hachenburg",
          "Germany/Stuttgart",
          "United States/Hanover",
          "Australia/Canberra",
          "Australia/Canberra",
          "Australia/Melbourne",
          "Germany/Hamburg",
          "Turkey/Istanbul",
          "United States/Philadelphia",
          "United States/Durham",
          "Turkey/Kütahya",
          "France/Montpellier",
          "France/Toulouse",
          "Switzerland/Zurich",
          "United States/Johnson City",
          "Ireland/Dublin",
          "United States/Atlanta",
          "Netherlands/Rotterdam",
          "Turkey/Erzurum",
          "Turkey/Eskişehir",
          "United Kingdom/Cambridge",
          "Sweden/Stockholm",
          "Austria/Vienna",
          "Belgium/Brussels",
          "Italy/Milan",
          "Germany/Heidelberg",
          "Italy/Milan",
          "South Korea/Seoul",
          "Italy/Milan",
          "Germany/Bonn",
          "Brazil/Natal",
          "Brazil/Rio de Janeiro",
          "United States/Manhasset",
          "China/Hangzhou",
          "United States/Boca Raton",
          "Italy/Trento",
          "Italy/San Michele all'Adige",
          "Italy/Milan",
          "Italy/Veruno",
          "Italy/Rome",
          "Italy/Tirrenia",
          "Italy/Rome",
          "Germany/Jülich",
          "Switzerland/Geneva",
          "Greece/Heraklion",
          "United States/Bethesda",
          "Germany/Sankt Augustin",
          "France/Paris",
          "Germany/Jena",
          "Japan/Toyoake",
          "Spain/Santiago de Compostela",
          "Turkey/Elâzığ",
          "Japan/Tokyo",
          "United States/Washington D.C.",
          "United States/Washington D.C.",
          "Germany/Heidelberg",
          "Belgium/Ghent",
          "Belgium/Ghent",
          "United States/New York",
          "United States/Greenbelt",
          "Germany/Frankfurt am Main",
          "Australia/Brisbane",
          "Turkey/Ankara",
          "Germany/Hamburg",
          "Germany/Hanover",
          "United Kingdom/Harrogate",
          "United States/Cambridge",
          "Turkey/Istanbul",
          "Canada/Ottawa",
          "United Kingdom/Bootle",
          "Israel/Jerusalem",
          "Germany/Heidelberg",
          "Germany/Düsseldorf",
          "Germany/Krefeld",
          "Greece/Athens",
          "Germany/Braunschweig",
          "Finland/Helsinki",
          "China/Nanjing",
          "China/Hong Kong",
          "Spain/Barcelona",
          "Spain/Madrid",
          "Chile/Santiago",
          "Spain/Reus",
          "Spain/Santa Cruz de Tenerife",
          "Spain/Madrid",
          "Venezuela/Caracas",
          "Canada/Toronto",
          "United Kingdom/London",
          "Croatia/Zagreb",
          "Italy/Rozzano",
          "United States/New York",
          "Denmark/Hvidovre",
          "France/Bobigny",
          "France/Paris",
          "France/Paris",
          "France/Marseille",
          "France/Bordeaux",
          "France/Limoges",
          "France/Marseille",
          "United States/Yorktown Heights",
          "Italy/Udine",
          "Italy/Pisa",
          "Italy/Trieste",
          "United States/New York",
          "United States/Normal",
          "United Kingdom/London",
          "India/Bengaluru",
          "India/Shimla",
          "Austria/Innsbruck",
          "France/Paris",
          "Morocco/Rabat",
          "France/Villejuif",
          "Spain/Barcelona",
          "Morocco/Rabat",
          "France/Paris",
          "Senegal/Dakar",
          "Madagascar/Antananarivo",
          "Tunisia/Tunis",
          "Cambodia/Phnom Penh",
          "France/Nice",
          "France/Strasbourg",
          "Burkina Faso/Ouagadougou",
          "Benin/Cotonou",
          "France/Marseille",
          "France/Paris",
          "Italy/Messina",
          "Iran/Tehran",
          "Italy/Turin",
          "Italy/Turin",
          "United Kingdom/London",
          "Greece/Athens",
          "Poland/Warsaw",
          "Italy/Bari",
          "Italy/Bologna",
          "Poland/Warsaw",
          "Poland/Warsaw",
          "Italy/Naples",
          "Poland/Puławy",
          "Belgium/Antwerp",
          "Brazil/São Paulo",
          "Portugal/Oeiras",
          "Mexico/Cuernavaca",
          "Brazil/Rio de Janeiro",
          "Spain/Madrid",
          "Poland/Warsaw",
          "France/Lyon",
          "India/New Delhi",
          "Italy/Rome",
          "Burkina Faso/Ouagadougou",
          "Italy/Vicenza",
          "United States/Ames",
          "Iran/Tehran",
          "Germany/Hamburg",
          "Turkey/Istanbul",
          "Turkey/Istanbul",
          "Italy/Rome",
          "Italy/Rome",
          "Italy/Genoa",
          "Italy/Milan",
          "Italy/Milan",
          "Italy/Rome",
          "Italy/Rome",
          "Italy/Rome",
          "Italy/Milan",
          "Italy/Rome",
          "Italy/Meldola",
          "Italy/Rome",
          "Italy/Palermo",
          "Italy/Legnaro",
          "Italy/Pisa",
          "Italy/Pavia",
          "Italy/Pavia",
          "Italy/Milan",
          "Italy/Genoa",
          "United States/La Jolla",
          "India/New Delhi",
          "France/Saint-Etienne",
          "Japan/Tokyo",
          "Germany/Mainz",
          "United Kingdom/Oxford",
          "United States/Baltimore",
          "United States/Baltimore",
          "Italy/Ispra",
          "Slovenia/Ljubljana",
          "Turkey/Kahramanmaraş",
          "Japan/Kanazawa",
          "Japan/Osaka",
          "Israel/Tel Aviv",
          "Germany/Karlsruhe",
          "Sweden/Stockholm",
          "Sweden/Stockholm",
          "Russia/Kazan’",
          "Kenya/Nairobi",
          "Kenya/Nairobi",
          "Iran/Kerman",
          "Germany/Kiel",
          "Tanzania/Moshi",
          "Turkey/Kilis",
          "Saudi Arabia/Jeddah",
          "Australia/Subiaco",
          "United Kingdom/London",
          "Germany/Hanau",
          "Germany/Munich",
          "Japan/Kobe",
          "South Korea/Cheongju-si",
          "South Korea/Daejeon",
          "Kuwait/Kuwait City",
          "Ghana/Kumasi",
          "Japan/Kyoto",
          "Turkey/Kırıkkale",
          "Australia/Melbourne",
          "France/Paris",
          "France/Aubière",
          "Nigeria/Ikeja",
          "Argentina/Buenos Aires",
          "Netherlands/Leiden",
          "Netherlands/Leiden",
          "Germany/Leipzig",
          "Italy/Rome",
          "Sweden/Linköping",
          "Sweden/Linköping",
          "United States/Rochester",
          "United Kingdom/Liverpool",
          "United States/Austin",
          "United Kingdom/London",
          "United States/New Hyde Park",
          "United States/Los Alamos",
          "United States/Palo Alto",
          "Germany/Munich",
          "United States/Lexington",
          "United Kingdom/Cambridge",
          "United Kingdom/Cambridge",
          "Netherlands/Maastricht",
          "Netherlands/Maastricht",
          "Australia/Sydney",
          "Spain/Madrid",
          "Italy/Catanzaro",
          "Thailand/Bangkok",
          "Uganda/Kampala",
          "Malawi/Blantyre",
          "Mozambique/Maputo",
          "Italy/Ancona",
          "Turkey/Erzurum",
          "Italy/Milan",
          "Italy/Mozzagrogna",
          "Turkey/Istanbul",
          "United States/Marshfield",
          "Iran/Mashhad",
          "United States/Boston",
          "United States/Cambridge",
          "Australia/Brisbane",
          "India/New Delhi",
          "Germany/Hamburg",
          "Canada/Montreal",
          "Canada/Hamilton",
          "United Kingdom/Oxford",
          "Gambia/Banjul",
          "Austria/Graz",
          "Bulgaria/Varna",
          "Austria/Vienna",
          "Poland/Warsaw",
          "Switzerland/Geneva",
          "Canada/St. John's",
          "United States/East Lansing",
          "United Kingdom/London",
          "Italy/Rome",
          "Italy/Rome",
          "Malaysia/Putrajaya",
          "Tanzania/Dar es Salaam",
          "Cameroon/Yaoundé",
          "Cameroon/Yaoundé",
          "Japan/Tokyo",
          "France/Créteil",
          "United States/The Bronx",
          "United Kingdom/Penicuik",
          "Tanzania/Dar es Salaam",
          "France/Paris",
          "Turkey/Muğla",
          "Belgium/Brussels",
          "United Kingdom/Watford",
          "Japan/Nagasaki",
          "Japan/Nagoya",
          "Turkey/Tekirdağ",
          "Italy/Rome",
          "South Korea/Goyang-si",
          "Singapore/Singapore",
          "United States/Rockville",
          "Japan/Tokyo",
          "United States/Atlanta",
          "India/Pune",
          "United States/Bethesda",
          "United Kingdom/Potters Bar",
          "Tanzania/Dar es Salaam",
          "Netherlands/De Bilt",
          "United States/Bethesda",
          "United States/Bethesda",
          "United States/Durham",
          "India/New Delhi",
          "Italy/Rome",
          "United States/Baltimore",
          "United States/Bethesda",
          "United States/Washington D.C.",
          "Italy/Rome",
          "Singapore/Singapore",
          "Argentina/Córdoba",
          "Greece/Athens",
          "United Kingdom/London",
          "Ghana/Navrongo",
          "France/Paris",
          "Turkey/Konya",
          "Netherlands/Delft",
          "United States/La Jolla",
          "United States/New York",
          "United States/New York",
          "United Kingdom/Newcastle upon Tyne",
          "France/Nice",
          "Ghana/Accra",
          "United States/Raleigh",
          "United States/Boston",
          "China/Xi'an",
          "United States/Evanston",
          "Norway/Oslo",
          "Norway/Ås",
          "United Kingdom/Nottingham",
          "Italy/Origgio",
          "Switzerland/Basel",
          "Nigeria/Ilesa",
          "France/Nantes",
          "United States/New York",
          "United States/Portland",
          "Cameroon/Yaoundé",
          "Japan/Osaka",
          "Japan/Osaka",
          "Norway/Oslo",
          "Italy/Bologna",
          "Italy/Turin",
          "Italy/Rimini",
          "Italy/Naples",
          "Italy/Bergamo",
          "Italy/Negrar",
          "Italy/Vicenza",
          "Italy/Turin",
          "Italy/Genoa",
          "Italy/Palermo",
          "Brazil/Rio de Janeiro",
          "Germany/Magdeburg",
          "Vietnam/Ho Chi Minh City",
          "Turkey/Denizli",
          "Papua New Guinea/Goroka",
          "France/Paris",
          "France/Paris",
          "France/Paris",
          "France/Lille",
          "France/Toulouse",
          "United States/State College",
          "Russia/Saint Petersburg",
          "United States/New York",
          "United Kingdom/Woking",
          "France/Paris",
          "Italy/Bologna",
          "Italy/San Donato Milanese",
          "Italy/Pavia",
          "Italy/Rome",
          "Italy/Milan",
          "Spain/Barcelona",
          "United States/Princeton",
          "Switzerland/Lancy",
          "Sweden/Solna",
          "United Kingdom/London",
          "United States/West Lafayette",
          "Australia/Brisbane",
          "Japan/Wako",
          "Germany/Aachen",
          "Israel/Petah Tikva",
          "Netherlands/Nijmegen",
          "Thailand/Pathum Thani",
          "France/Garches",
          "Italy/Naples",
          "United States/Troy",
          "Germany/Borstel",
          "Russia/Tomsk",
          "Denmark/Copenhagen",
          "Saudi Arabia/Riyadh",
          "Germany/Berlin",
          "United States/New York",
          "Italy/Rome",
          "Australia/Brisbane",
          "United Kingdom/London",
          "Ireland/Dublin",
          "United Kingdom/London",
          "United Kingdom/Liverpool",
          "Australia/Melbourne",
          "Australia/Sydney",
          "Netherlands/Amsterdam",
          "Germany/Bochum",
          "United States/New Brunswick",
          "United States/Brooklyn",
          "Germany/Saarbrücken",
          "United States/Moraga",
          "Italy/Milan",
          "Germany/Offenbach",
          "Italy/Rome",
          "Turkey/Konya",
          "Iran/Semnan",
          "Germany/Frankfurt am Main",
          "India/Aurangabad",
          "Iran/Tehran",
          "Iran/Ahvāz",
          "Iran/Yazd",
          "China/Jinan",
          "Iran/Tehran",
          "Iran/Shiraz",
          "Italy/Pomezia",
          "Canada/Burnaby",
          "Netherlands/Amsterdam",
          "Tanzania/Morogoro",
          "China/Suzhou",
          "France/Paris",
          "Israel/Beersheba",
          "South Africa/Cape Town",
          "China/Nanjing",
          "United Kingdom/London",
          "Australia/Fitzroy",
          "United States/Memphis",
          "India/Bengaluru",
          "United States/Stanford",
          "Brazil/Campinas",
          "Italy/Naples",
          "South Africa/Stellenbosch",
          "Sweden/Stockholm",
          "Germany/Karlsruhe",
          "Canada/Toronto",
          "United Kingdom/Swansea",
          "Switzerland/Basel",
          "Turkey/Isparta",
          "Germany/Dresden",
          "Saudi Arabia/Ta'if",
          "Finland/Tampere",
          "Iran/Tehran",
          "Romania/Cluj-Napoca",
          "Denmark/Kongens Lyngby",
          "Spain/Madrid",
          "Germany/Munich",
          "Israel/Haifa",
          "Ireland/Dublin",
          "Iran/Tehran",
          "Israel/Tel Aviv",
          "Norway/Sandvika",
          "Italy/Naples",
          "United States/College Station",
          "United States/College Station",
          "United States/Houston",
          "United States/Lubbock",
          "United Kingdom/London",
          "United States/Columbus",
          "United States/Galveston",
          "United States/Arlington",
          "United States/San Antonio",
          "United States/Philadelphia",
          "China/Tianjin",
          "Japan/Sendai",
          "Japan/Tokyo",
          "Japan/Tokyo",
          "Japan/Tokyo",
          "Japan/Tokyo",
          "France/Illkirch-Graffenstaden",
          "Ireland/Dublin",
          "United States/Medford",
          "Italy/Viterbo",
          "Turkey/Bursa",
          "United Kingdom/London",
          "Switzerland/Geneva",
          "United States/Reston",
          "Brazil/Belo Horizonte",
          "Brazil/Fortaleza",
          "Portugal/Lisbon",
          "Malaysia/Seri Kembangan",
          "Switzerland/Basel",
          "Ireland/Cork",
          "United Kingdom/London",
          "United Kingdom/Coventry",
          "Germany/Heidelberg",
          "Germany/Münster",
          "Switzerland/Geneva",
          "Switzerland/Lausanne",
          "United Kingdom/Leicester",
          "Germany/Freiburg",
          "Netherlands/Groningen",
          "Zambia/Lusaka",
          "United States/Albany",
          "United States/Birmingham",
          "Canada/Edmonton",
          "Netherlands/Amsterdam",
          "United States/Tucson",
          "United States/Little Rock",
          "United States/Little Rock",
          "Germany/Augsburg",
          "Iraq/Al Hillah",
          "Mali/Bamako",
          "Spain/Barcelona",
          "Italy/Bari",
          "Switzerland/Bern",
          "Italy/Bologna",
          "Germany/Bonn",
          "France/Bordeaux",
          "Brazil/Brasília",
          "Italy/Brescia",
          "United Kingdom/Bristol",
          "Canada/Vancouver",
          "Cameroon/Buea",
          "Argentina/Buenos Aires",
          "France/Dijon",
          "Italy/Cagliari",
          "Italy/Cosenza",
          "Canada/Calgary",
          "United States/Oakland",
          "United States/Berkeley",
          "United States/Davis",
          "United States/Los Angeles",
          "United States/Riverside",
          "United States/San Diego",
          "United Kingdom/Cambridge",
          "Italy/Camerino",
          "Italy/Caserta",
          "South Africa/Rondebosch",
          "Italy/Catania",
          "United States/Chicago",
          "United States/Chicago",
          "Chile/Santiago",
          "Germany/Cologne",
          "Sri Lanka/Colombo",
          "United States/Denver",
          "Denmark/Copenhagen",
          "France/Corte",
          "Greece/Rethymno",
          "United States/Newark",
          "Finland/Kuopio",
          "United Kingdom/Edinburgh",
          "Germany/Erlangen",
          "Italy/Ferrara",
          "Italy/Florence",
          "United States/Gainesville",
          "Italy/Foggia",
          "Germany/Freiburg",
          "Switzerland/Geneva",
          "Italy/Genoa",
          "United States/Athens",
          "Germany/Giessen",
          "United Kingdom/Glasgow",
          "Germany/Göttingen",
          "United States/Honolulu",
          "Finland/Helsinki",
          "India/Hyderabad",
          "Nigeria/Ibadan",
          "United States/Chicago",
          "Italy/Varese",
          "Greece/Ioannina",
          "United States/Iowa City",
          "United States/Lawrence",
          "United Kingdom/Canterbury",
          "Sudan/Khartoum",
          "Germany/Konstanz",
          "South Africa/Durban",
          "Switzerland/Lausanne",
          "United Kingdom/Leeds",
          "United Kingdom/Leicester",
          "France/Lille",
          "Ireland/Limerick",
          "Portugal/Lisbon",
          "United Kingdom/Liverpool",
          "Slovenia/Ljubljana",
          "United Kingdom/London",
          "France/Nancy",
          "United States/Louisville",
          "Germany/Lübeck",
          "Malawi/Zomba",
          "United Kingdom/Manchester",
          "United States/Baltimore",
          "United States/College Park",
          "Australia/Melbourne",
          "Italy/Messina",
          "United States/Ann Arbor",
          "United States/Dearborn",
          "Italy/Milan",
          "Italy/Milan",
          "Portugal/Braga",
          "United States/Minneapolis",
          "United States/Jackson",
          "Italy/Modena",
          "France/Montpellier",
          "Canada/Montreal",
          "Iraq/Mosul",
          "Germany/Münster",
          "Italy/Naples",
          "United States/Lincoln",
          "Canada/Fredericton",
          "Australia/Armidale",
          "Australia/Newcastle",
          "United States/Chapel Hill",
          "United States/Notre Dame",
          "United Kingdom/Nottingham",
          "France/Orléans",
          "Burkina Faso/Ouagadougou",
          "United Kingdom/Oxford",
          "Italy/Padova",
          "Italy/Palermo",
          "France/Orsay",
          "Italy/Parma",
          "Greece/Pátrai",
          "Italy/Pavia",
          "United States/Philadelphia",
          "Italy/Perugia",
          "France/Amiens",
          "Italy/Pisa",
          "United States/Pittsburgh",
          "Portugal/Porto",
          "South Africa/Pretoria",
          "Australia/Brisbane",
          "United Kingdom/Reading",
          "Germany/Regensburg",
          "Italy/Reggio Calabria",
          "United States/Rochester",
          "United States/Rochester",
          "Italy/Rome",
          "Germany/Rostock",
          "France/Rouen",
          "Italy/Lecce",
          "Italy/Fisciano",
          "Italy/Benevento",
          "Chile/Santiago",
          "Brazil/São Paulo",
          "Canada/Saskatoon",
          "Italy/Sassari",
          "Bangladesh/Chittagong",
          "United Kingdom/Sheffield",
          "Italy/Siena",
          "United States/Columbia",
          "United States/Los Angeles",
          "Denmark/Odense",
          "United Kingdom/Glasgow",
          "United Kingdom/Brighton",
          "Australia/Sydney",
          "Australia/Hobart",
          "United States/Memphis",
          "Albania/Tirana",
          "Japan/Tokyo",
          "Canada/Toronto",
          "Italy/Trento",
          "Italy/Trieste",
          "Portugal/Vila Real",
          "Italy/Turin",
          "Finland/Turku",
          "Germany/Tübingen",
          "Italy/Udine",
          "Germany/Ulm",
          "Italy/Urbino",
          "United States/Burlington",
          "Italy/Verona",
          "United Kingdom/Coventry",
          "United States/Seattle",
          "Germany/Wurzburg",
          "United Kingdom/York",
          "Croatia/Zagreb",
          "Spain/Zaragoza",
          "Switzerland/Zurich",
          "Spain/Leioa",
          "United Kingdom/Bristol",
          "Italy/Rome",
          "Germany/Tübingen",
          "Germany/Rostock",
          "Canada/Québec",
          "Sweden/Uppsala",
          "Netherlands/Utrecht",
          "Netherlands/Amsterdam",
          "United States/Nashville",
          "Austria/Vienna",
          "United States/Richmond",
          "United States/Blacksburg",
          "United States/St Louis",
          "United Kingdom/Oxford",
          "United Kingdom/Glasgow",
          "United Kingdom/Cambridge",
          "United Kingdom/London",
          "Australia/Adelaide",
          "Italy/Rome",
          "Switzerland/Geneva",
          "Italy/Rome",
          "Republic of the Congo/Brazzaville",
          "Egypt/Cairo",
          "United States/Dayton",
          "United States/New Haven",
          "Japan/Yamaguchi",
          "China/Yangzhou",
          "South Korea/Seoul",
          "United Kingdom/York",
          "Turkey/Van",
          "France/Caen",
          "France/Paris",
          "Switzerland/Lausanne",
          "Germany",
          "Denmark",
          "Ghana",
          "Ethiopia",
          "Australia",
          "India",
          "Iran",
          "Iraq",
          "United States",
          "United States",
          "France",
          "Netherlands",
          "Italy",
          "Turkey",
          "United States",
          "Turkey",
          "Madagascar",
          "Belgium",
          "United States",
          "Australia",
          "Greece",
          "United States",
          "United States",
          "France",
          "New Zealand",
          "Germany",
          "India",
          "United States",
          "United States",
          "Mali",
          "Thailand",
          "United Kingdom",
          "Gambia",
          "Spain",
          "Italy",
          "Switzerland",
          "Israel",
          "Brazil",
          "Italy",
          "India",
          "Italy",
          "United States",
          "Germany",
          "Switzerland",
          "United States",
          "Poland",
          "Germany",
          "Iran",
          "United Kingdom",
          "United States",
          "United States",
          "Malawi",
          "France",
          "Burkina Faso",
          "United States",
          "Germany",
          "Italy",
          "Germany",
          "United Kingdom",
          "France",
          "Germany",
          "United States",
          "Portugal",
          "Brazil",
          "Slovakia",
          "Germany",
          "Republic of the Congo",
          "Italy",
          "United Kingdom",
          "Australia",
          "United Kingdom",
          "United States",
          "Belgium",
          "Hungary",
          "Cameroon",
          "Argentina",
          "United States",
          "Canada",
          "Turkey",
          "France",
          "Italy",
          "Egypt",
          "Canada",
          "United Kingdom",
          "United States",
          "Italy",
          "Australia",
          "Brazil",
          "Australia",
          "United Kingdom",
          "South Africa",
          "Venezuela",
          "United Kingdom",
          "Italy",
          "Italy",
          "Italy",
          "Spain",
          "United States",
          "South Korea",
          "United States",
          "Bangladesh",
          "United States",
          "United States",
          "United States",
          "Romania",
          "United States",
          "United States",
          "Germany",
          "Sri Lanka",
          "United States",
          "United States",
          "United States",
          "Denmark",
          "Ireland",
          "France",
          "Italy",
          "Benin",
          "United Kingdom",
          "France",
          "Mexico",
          "Argentina",
          "South Korea",
          "Senegal",
          "Tanzania",
          "United States",
          "United States",
          "Netherlands",
          "United States",
          "Netherlands",
          "Turkey",
          "United States",
          "France",
          "Germany",
          "Ireland",
          "South Africa",
          "United States",
          "Germany",
          "United States",
          "United Kingdom",
          "Canada",
          "Turkey",
          "Germany",
          "Turkey",
          "Turkey",
          "United States",
          "Italy",
          "Italy",
          "Australia",
          "Italy",
          "Italy",
          "United States",
          "Brazil",
          "Germany",
          "Canada",
          "Germany",
          "United States",
          "United States",
          "France",
          "Switzerland",
          "Italy",
          "Belgium",
          "Germany",
          "United Kingdom",
          "Papua New Guinea",
          "South Korea",
          "Austria",
          "United States",
          "Netherlands",
          "South Korea",
          "Germany",
          "Germany",
          "Israel",
          "Germany",
          "Canada",
          "Germany",
          "China",
          "Germany",
          "United States",
          "United Kingdom",
          "Germany",
          "Finland",
          "Greece",
          "Vietnam",
          "Australia",
          "China",
          "United States",
          "United States",
          "Denmark",
          "India",
          "Romania",
          "Nigeria",
          "Nigeria",
          "Nigeria",
          "France",
          "Austria",
          "Greece",
          "United States",
          "Turkey",
          "Italy",
          "Turkey",
          "United States",
          "Nigeria",
          "United States",
          "Saudi Arabia",
          "Germany",
          "Israel",
          "China",
          "United States",
          "Germany",
          "Turkey",
          "Uganda",
          "Japan",
          "Germany",
          "Russia",
          "Iran",
          "Sudan",
          "Germany",
          "Turkey",
          "Japan",
          "Denmark",
          "Germany",
          "Turkey",
          "Germany",
          "Ghana",
          "Finland",
          "Kuwait",
          "Japan",
          "Turkey",
          "Turkey",
          "United States",
          "Gabon",
          "Switzerland",
          "Switzerland",
          "United States",
          "Italy",
          "United Kingdom",
          "Italy",
          "United Kingdom",
          "Netherlands",
          "Spain",
          "Germany",
          "Germany",
          "United States",
          "France",
          "Peru",
          "Ireland",
          "France",
          "United States",
          "Sweden",
          "Portugal",
          "United States",
          "United Kingdom",
          "Slovenia",
          "United Kingdom",
          "United States",
          "United States",
          "United States",
          "United States",
          "Zambia",
          "France",
          "Germany",
          "Netherlands",
          "Spain",
          "Germany",
          "Germany",
          "Bahrain",
          "United Kingdom",
          "United States",
          "Mozambique",
          "France",
          "United States",
          "Iran",
          "United States",
          "Australia",
          "Italy",
          "United States",
          "Italy",
          "Italy",
          "United States",
          "Italy",
          "France",
          "Canada",
          "United States",
          "Tanzania",
          "Tanzania",
          "Iraq",
          "Italy",
          "India",
          "United States",
          "Germany",
          "Turkey",
          "Germany",
          "Japan",
          "Japan",
          "Kenya",
          "France",
          "China",
          "France",
          "Italy",
          "United States",
          "Brazil",
          "Ghana",
          "Italy",
          "United States",
          "India",
          "United States",
          "United States",
          "United States",
          "United States",
          "Australia",
          "United Kingdom",
          "France",
          "Netherlands",
          "United States",
          "United States",
          "United Kingdom",
          "United States",
          "Denmark",
          "Portugal",
          "Germany",
          "Japan",
          "Italy",
          "France",
          "France",
          "Japan",
          "Norway",
          "Canada",
          "Burkina Faso",
          "United Kingdom",
          "Italy",
          "France",
          "Italy",
          "United States",
          "France",
          "Italy",
          "United States",
          "Thailand",
          "Italy",
          "United Kingdom",
          "Italy",
          "Israel",
          "United States",
          "Cambodia",
          "Italy",
          "United States",
          "Italy",
          "United States",
          "Portugal",
          "United Kingdom",
          "Czechia",
          "South Africa",
          "United States",
          "United States",
          "India",
          "Malaysia",
          "Poland",
          "Greece",
          "Canada",
          "Morocco",
          "United States",
          "Israel",
          "United Kingdom",
          "Germany",
          "Italy",
          "France",
          "United States",
          "Greece",
          "Spain",
          "United States",
          "Netherlands",
          "Italy",
          "Brazil",
          "United States",
          "Saudi Arabia",
          "United States",
          "United States",
          "Italy",
          "South Africa",
          "Germany",
          "Netherlands",
          "France",
          "Italy",
          "Germany",
          "Russia",
          "France",
          "United States",
          "United States",
          "United States",
          "Italy",
          "Italy",
          "Italy",
          "Norway",
          "Germany",
          "Spain",
          "Chile",
          "Spain",
          "Canada",
          "Italy",
          "United States",
          "Iran",
          "Japan",
          "South Korea",
          "Malaysia",
          "United Kingdom",
          "India",
          "Iran",
          "Italy",
          "Singapore",
          "Sweden",
          "United Kingdom",
          "United States",
          "Canada",
          "United States",
          "United States",
          "South Africa",
          "Sweden",
          "France",
          "Germany",
          "Australia",
          "South Korea",
          "China",
          "United Kingdom",
          "Australia",
          "Brazil",
          "Saudi Arabia",
          "Finland",
          "Iran",
          "Turkey",
          "Israel",
          "United States",
          "United States",
          "Greece",
          "China",
          "Albania",
          "Italy",
          "Japan",
          "Russia",
          "Canada",
          "France",
          "Japan",
          "Italy",
          "Italy",
          "United States",
          "United States",
          "Tunisia",
          "Italy",
          "Finland",
          "Germany",
          "Italy",
          "Germany",
          "Sweden",
          "Italy",
          "Netherlands",
          "Spain",
          "Turkey",
          "Canada",
          "Italy",
          "Bulgaria",
          "Italy",
          "Italy",
          "Italy",
          "Austria",
          "Portugal",
          "France",
          "France",
          "Italy",
          "Japan",
          "Poland",
          "United States",
          "United Kingdom",
          "United States",
          "United Kingdom",
          "Germany",
          "China",
          "Japan",
          "China",
          "Cameroon",
          "Iran",
          "United Kingdom",
          "United States",
          "Croatia",
          "Spain",
          "Malawi",
          "Switzerland",
          "Norway",
          "",
          "",
          "",
          "",
          "",
          "",
          "",
          "",
          "",
          "",
          "",
          "",
          "",
          "",
          "",
          "",
          "",
          "",
          "",
          "",
          "",
          "",
          "",
          "",
          "",
          "",
          "",
          "",
          "",
          "",
          "",
          "",
          "",
          "",
          "",
          "",
          "",
          "",
          "",
          "",
          "",
          "",
          "",
          "",
          "",
          "",
          "",
          "",
          "",
          "",
          "",
          "",
          "",
          "",
          "",
          "",
          "",
          "",
          "",
          "",
          "",
          "",
          "",
          "",
          "",
          "",
          "",
          "",
          "",
          "",
          "",
          "",
          "",
          "",
          "",
          "",
          "",
          ""
         ],
         "type": "sunburst",
         "values": [
          9,
          4,
          1,
          1,
          25,
          1,
          1,
          1,
          4,
          4,
          16,
          1,
          16,
          1,
          4,
          144,
          4,
          121,
          1,
          4,
          625,
          1,
          1,
          9,
          9,
          1,
          81,
          1,
          1,
          9,
          25,
          25,
          4,
          1,
          1,
          49,
          1,
          1,
          9,
          4,
          1,
          16,
          16,
          1,
          25,
          4,
          1,
          9,
          1,
          1,
          1,
          16,
          25,
          4,
          225,
          1,
          1,
          25,
          4,
          1,
          9,
          4,
          1,
          4,
          1,
          1,
          4,
          1,
          1,
          4,
          1,
          1,
          121,
          1089,
          4,
          1,
          1,
          1,
          1,
          36,
          1,
          4,
          16,
          144,
          4,
          1,
          1,
          36,
          100,
          1,
          1,
          1,
          1,
          16,
          144,
          9,
          1,
          4,
          256,
          1,
          1,
          4,
          4,
          36,
          1,
          25,
          4,
          1,
          1,
          1,
          1,
          1,
          1,
          1,
          1,
          16,
          1,
          4,
          1,
          1,
          1,
          9,
          4,
          1,
          9,
          16,
          1,
          289,
          4,
          1,
          1,
          1,
          4,
          1,
          4,
          1,
          16,
          1,
          1,
          9,
          1,
          1,
          1,
          4,
          9,
          81,
          1,
          1,
          1,
          361,
          1,
          4,
          4,
          4,
          9,
          9,
          4,
          1,
          1,
          4,
          1,
          1,
          16,
          1,
          4,
          16,
          1,
          1,
          49,
          1,
          169,
          1,
          1,
          4,
          16,
          36,
          49,
          1,
          100,
          121,
          529,
          1,
          1,
          1,
          4,
          1,
          1,
          49,
          144,
          1,
          1,
          1,
          1,
          4,
          225,
          1,
          4,
          64,
          4,
          1,
          1,
          1,
          4,
          1,
          1,
          1,
          4,
          1,
          1,
          16,
          36,
          4,
          1,
          361,
          1,
          9,
          16,
          9,
          4,
          196,
          1,
          16,
          144,
          4,
          9,
          1,
          1,
          1,
          4,
          1,
          4,
          169,
          1,
          1,
          1,
          36,
          4,
          4,
          4,
          1,
          1,
          1,
          1,
          4,
          81,
          4,
          49,
          9,
          1,
          1,
          1,
          1,
          1,
          1,
          36,
          1,
          1,
          16,
          9,
          289,
          1,
          64,
          36,
          4,
          1,
          1,
          1,
          625,
          1,
          16,
          121,
          25,
          36,
          1,
          6400,
          4,
          9,
          16,
          4,
          1,
          1,
          1,
          100,
          4,
          25,
          1,
          4,
          1,
          4,
          100,
          49,
          1,
          100,
          1,
          1,
          16,
          1,
          100,
          4,
          1,
          400,
          9,
          169,
          9,
          36,
          1,
          1,
          1,
          1,
          1,
          1,
          1,
          9,
          16,
          1,
          36,
          16,
          4,
          1,
          1,
          16,
          4,
          1,
          1,
          64,
          169,
          1,
          4,
          4,
          1,
          9,
          1,
          324,
          1,
          1,
          1,
          25,
          1,
          1,
          1,
          100,
          1,
          1,
          1,
          1,
          16,
          9,
          25,
          4,
          225,
          1,
          121,
          9,
          64,
          1,
          9,
          4,
          4,
          9,
          16,
          4,
          36,
          1,
          1,
          529,
          49,
          1,
          1,
          25,
          1,
          1,
          9,
          1,
          1,
          4,
          4,
          1,
          1,
          1,
          1,
          1,
          9,
          4,
          25,
          1,
          1,
          1,
          4,
          1,
          1,
          1,
          1,
          1,
          169,
          64,
          1,
          1,
          4,
          1,
          9,
          9,
          4,
          9,
          4,
          4,
          1,
          4,
          1,
          9,
          4,
          361,
          4,
          1,
          81,
          1,
          1,
          4,
          25,
          1,
          1,
          1,
          1,
          36,
          4,
          36,
          1,
          4,
          1,
          9,
          4,
          1,
          1,
          144,
          1,
          1,
          1,
          144,
          1,
          64,
          1,
          4,
          1,
          4,
          1,
          9,
          4,
          4,
          16,
          16,
          1,
          81,
          4,
          144,
          4,
          64,
          121,
          100,
          4,
          1,
          1,
          36,
          4,
          49,
          1,
          49,
          1,
          1,
          4,
          4,
          49,
          100,
          16,
          64,
          16,
          1,
          1,
          1,
          16,
          1,
          9,
          169,
          4,
          25,
          1,
          4,
          16,
          1,
          1,
          1,
          16,
          1,
          1,
          16,
          49,
          4,
          1,
          9,
          9,
          144,
          4,
          1,
          4,
          16,
          1,
          4,
          1,
          1,
          784,
          1,
          18225,
          121,
          9,
          1,
          16,
          1,
          25,
          25,
          196,
          1,
          36,
          4,
          1,
          16,
          4,
          4,
          4,
          4,
          1,
          4,
          1,
          1,
          25,
          9,
          25,
          36,
          49,
          4,
          16,
          4,
          4,
          1,
          256,
          25,
          16,
          1,
          1,
          4,
          1,
          9,
          1,
          25,
          4,
          1,
          1,
          1,
          1,
          9,
          16,
          1,
          1,
          9,
          4,
          16,
          4,
          1,
          16,
          4,
          9,
          81,
          1,
          4,
          81,
          25,
          9,
          25,
          1,
          4,
          16,
          1,
          1,
          4,
          9,
          36,
          16,
          9,
          1,
          4,
          400,
          4,
          36,
          144,
          1,
          1,
          64,
          16,
          1,
          36,
          9,
          1,
          256,
          1,
          1,
          100,
          4,
          1,
          4,
          729,
          4,
          784,
          1,
          1444,
          400,
          81,
          4,
          144,
          9,
          4,
          9,
          4,
          9,
          400,
          16,
          729,
          1,
          9,
          36,
          25,
          16,
          9,
          9,
          529,
          169,
          1,
          25,
          1,
          1,
          4,
          121,
          25,
          4,
          1,
          16,
          1,
          1,
          1,
          9,
          1,
          100,
          2916,
          9,
          49,
          1,
          36,
          64,
          1,
          25,
          49,
          36,
          4,
          16,
          4,
          4,
          1,
          49,
          9,
          16,
          4,
          4,
          36,
          1,
          9,
          9,
          1,
          9,
          4,
          1,
          100,
          169,
          16,
          36,
          9,
          1,
          9,
          4,
          25,
          64,
          400,
          64,
          225,
          1,
          1,
          5929,
          9,
          1,
          4,
          100,
          1296,
          1,
          4,
          9,
          4,
          2601,
          9,
          1,
          1,
          9,
          4,
          25,
          16,
          1,
          1,
          484,
          2116,
          784,
          64,
          256,
          1,
          2304,
          36,
          1024,
          4,
          2704,
          1,
          4,
          36,
          16,
          1,
          9,
          4,
          1,
          1,
          1156,
          4,
          16,
          4,
          196,
          4,
          1,
          16,
          1,
          100,
          1,
          16,
          961,
          1,
          9,
          1,
          100,
          4,
          169,
          1,
          1,
          100,
          25,
          36,
          4,
          400,
          1,
          3969,
          1,
          16,
          1,
          81,
          9,
          1,
          1024,
          36,
          4,
          4,
          25,
          1,
          1,
          9,
          9,
          1,
          16,
          36,
          1,
          9,
          1,
          4,
          4,
          4,
          1,
          25,
          4,
          4,
          3844,
          4,
          3364,
          4,
          1,
          1,
          16,
          1,
          4,
          1,
          1,
          1,
          1,
          4,
          36,
          1,
          4,
          1,
          1,
          4,
          169,
          5,
          36,
          1,
          1,
          4,
          25,
          4,
          9,
          9,
          5,
          50,
          225,
          810,
          1,
          16,
          9,
          49,
          1,
          1,
          86,
          1,
          10,
          16,
          1,
          1,
          16,
          1,
          169,
          729,
          25,
          1,
          529,
          120,
          785,
          258,
          5,
          9,
          4,
          10,
          4,
          9,
          37,
          1,
          28,
          1,
          9,
          25,
          4,
          2,
          4,
          25,
          1,
          16,
          1,
          16,
          1454,
          401,
          1,
          82,
          1,
          12,
          1,
          4,
          1,
          1,
          4,
          144,
          5,
          31,
          10,
          4,
          2,
          1,
          9,
          5,
          1,
          1,
          16,
          1,
          400,
          1,
          877,
          3379,
          21,
          529,
          144,
          61,
          3,
          4,
          1,
          4,
          4,
          169,
          25,
          1,
          9,
          4,
          9,
          3,
          1,
          1,
          4,
          257,
          1,
          400,
          17,
          121,
          25,
          1,
          16,
          1,
          17,
          4,
          16,
          16,
          4,
          40,
          1,
          1,
          1,
          16,
          5,
          35,
          36,
          1,
          4,
          1,
          1,
          121,
          4,
          9,
          16,
          36,
          9,
          8,
          529,
          9,
          9,
          256,
          4,
          1,
          83,
          289,
          9,
          100,
          196,
          1,
          2916,
          49,
          1,
          36,
          50,
          1,
          17,
          9,
          4,
          4,
          59,
          147,
          20,
          25,
          153,
          100,
          1,
          49,
          1,
          1,
          16,
          36,
          1,
          4,
          32,
          1,
          1,
          1,
          1,
          1,
          5,
          159,
          20,
          4,
          64,
          1,
          1,
          4,
          17,
          1,
          4,
          4,
          4,
          4,
          1,
          9,
          16,
          9,
          16,
          25,
          49,
          216,
          25,
          1,
          100,
          1,
          4,
          100,
          196,
          4,
          1,
          100,
          10,
          1,
          5,
          1,
          169,
          36,
          9,
          1,
          1,
          9,
          1,
          146,
          1,
          36,
          1,
          1,
          16,
          1,
          4,
          101,
          1,
          1,
          14,
          4,
          4,
          1,
          9,
          73,
          65,
          9,
          169,
          1,
          1,
          40,
          4,
          1,
          1,
          9,
          8,
          116,
          104,
          322,
          17,
          1155,
          1,
          34,
          1,
          9,
          36,
          1,
          9,
          101,
          186,
          4,
          4,
          1,
          25,
          1,
          4,
          178,
          1,
          9,
          1,
          70,
          1,
          26,
          226,
          8930,
          4,
          1321,
          2,
          41,
          1,
          4,
          36,
          9,
          9,
          4,
          1,
          51,
          1,
          148,
          1,
          1,
          409,
          9,
          5,
          5,
          2760,
          4,
          1,
          1,
          16,
          1,
          178,
          1,
          1,
          224,
          1,
          9,
          37,
          5,
          25,
          1,
          25,
          17,
          1,
          1,
          1,
          1,
          1,
          144,
          1,
          64,
          6,
          9,
          52,
          147,
          4330,
          2116,
          1,
          817,
          1,
          188,
          256,
          4,
          1,
          2358,
          4,
          1024,
          4,
          41,
          1,
          2736,
          6,
          4,
          1,
          4,
          9,
          100,
          40,
          16,
          9,
          4,
          4,
          4,
          1,
          9,
          20,
          1,
          4,
          1,
          9,
          4,
          4,
          4,
          1,
          1,
          25,
          1,
          9,
          154,
          16,
          1,
          3,
          64,
          26911,
          1,
          5,
          16,
          52,
          64,
          1,
          1,
          25,
          1,
          16,
          9,
          4,
          1,
          9,
          1,
          9,
          1,
          6,
          1,
          1,
          100,
          5,
          9,
          81,
          158,
          9,
          16,
          9,
          36,
          961,
          173,
          1,
          4,
          4,
          1,
          25,
          49,
          4,
          121,
          4,
          1,
          1,
          4,
          4,
          1,
          171,
          25,
          1,
          1,
          306,
          1,
          17,
          9,
          25,
          9,
          9,
          100,
          1,
          141,
          1,
          265,
          5,
          1,
          8,
          445,
          1,
          1,
          1,
          4011,
          1,
          52,
          2,
          81,
          1,
          9,
          4,
          1,
          4,
          5,
          49,
          1,
          1024,
          1,
          32,
          3,
          1,
          196,
          16,
          4,
          9,
          32,
          21,
          4,
          16,
          1,
          4,
          1,
          1,
          4,
          66,
          25,
          26,
          1,
          5,
          1,
          4,
          18,
          1,
          100,
          6,
          433,
          68,
          1,
          1,
          71,
          4,
          290,
          1,
          163,
          1,
          75,
          1510,
          6,
          221,
          5,
          100,
          33,
          1,
          1,
          23,
          941,
          1,
          529,
          2194,
          73,
          110,
          1,
          229,
          604,
          13,
          41,
          134,
          63593,
          260,
          409,
          1,
          9,
          29,
          13,
          729,
          1,
          20,
          4,
          268,
          1,
          10,
          11,
          100,
          4,
          37,
          123,
          4,
          5,
          3,
          3,
          5,
          173,
          1,
          17,
          55,
          204,
          329,
          25,
          36,
          131,
          351,
          75,
          26,
          1,
          1838,
          10,
          9641,
          2169,
          4,
          64,
          36
         ]
        }
       ],
       "layout": {
        "autosize": true,
        "legend": {
         "tracegroupgap": 0
        },
        "margin": {
         "t": 60
        },
        "template": {
         "data": {
          "bar": [
           {
            "error_x": {
             "color": "#2a3f5f"
            },
            "error_y": {
             "color": "#2a3f5f"
            },
            "marker": {
             "line": {
              "color": "#E5ECF6",
              "width": 0.5
             }
            },
            "type": "bar"
           }
          ],
          "barpolar": [
           {
            "marker": {
             "line": {
              "color": "#E5ECF6",
              "width": 0.5
             }
            },
            "type": "barpolar"
           }
          ],
          "carpet": [
           {
            "aaxis": {
             "endlinecolor": "#2a3f5f",
             "gridcolor": "white",
             "linecolor": "white",
             "minorgridcolor": "white",
             "startlinecolor": "#2a3f5f"
            },
            "baxis": {
             "endlinecolor": "#2a3f5f",
             "gridcolor": "white",
             "linecolor": "white",
             "minorgridcolor": "white",
             "startlinecolor": "#2a3f5f"
            },
            "type": "carpet"
           }
          ],
          "choropleth": [
           {
            "colorbar": {
             "outlinewidth": 0,
             "ticks": ""
            },
            "type": "choropleth"
           }
          ],
          "contour": [
           {
            "colorbar": {
             "outlinewidth": 0,
             "ticks": ""
            },
            "colorscale": [
             [
              0,
              "#0d0887"
             ],
             [
              0.1111111111111111,
              "#46039f"
             ],
             [
              0.2222222222222222,
              "#7201a8"
             ],
             [
              0.3333333333333333,
              "#9c179e"
             ],
             [
              0.4444444444444444,
              "#bd3786"
             ],
             [
              0.5555555555555556,
              "#d8576b"
             ],
             [
              0.6666666666666666,
              "#ed7953"
             ],
             [
              0.7777777777777778,
              "#fb9f3a"
             ],
             [
              0.8888888888888888,
              "#fdca26"
             ],
             [
              1,
              "#f0f921"
             ]
            ],
            "type": "contour"
           }
          ],
          "contourcarpet": [
           {
            "colorbar": {
             "outlinewidth": 0,
             "ticks": ""
            },
            "type": "contourcarpet"
           }
          ],
          "heatmap": [
           {
            "colorbar": {
             "outlinewidth": 0,
             "ticks": ""
            },
            "colorscale": [
             [
              0,
              "#0d0887"
             ],
             [
              0.1111111111111111,
              "#46039f"
             ],
             [
              0.2222222222222222,
              "#7201a8"
             ],
             [
              0.3333333333333333,
              "#9c179e"
             ],
             [
              0.4444444444444444,
              "#bd3786"
             ],
             [
              0.5555555555555556,
              "#d8576b"
             ],
             [
              0.6666666666666666,
              "#ed7953"
             ],
             [
              0.7777777777777778,
              "#fb9f3a"
             ],
             [
              0.8888888888888888,
              "#fdca26"
             ],
             [
              1,
              "#f0f921"
             ]
            ],
            "type": "heatmap"
           }
          ],
          "heatmapgl": [
           {
            "colorbar": {
             "outlinewidth": 0,
             "ticks": ""
            },
            "colorscale": [
             [
              0,
              "#0d0887"
             ],
             [
              0.1111111111111111,
              "#46039f"
             ],
             [
              0.2222222222222222,
              "#7201a8"
             ],
             [
              0.3333333333333333,
              "#9c179e"
             ],
             [
              0.4444444444444444,
              "#bd3786"
             ],
             [
              0.5555555555555556,
              "#d8576b"
             ],
             [
              0.6666666666666666,
              "#ed7953"
             ],
             [
              0.7777777777777778,
              "#fb9f3a"
             ],
             [
              0.8888888888888888,
              "#fdca26"
             ],
             [
              1,
              "#f0f921"
             ]
            ],
            "type": "heatmapgl"
           }
          ],
          "histogram": [
           {
            "marker": {
             "colorbar": {
              "outlinewidth": 0,
              "ticks": ""
             }
            },
            "type": "histogram"
           }
          ],
          "histogram2d": [
           {
            "colorbar": {
             "outlinewidth": 0,
             "ticks": ""
            },
            "colorscale": [
             [
              0,
              "#0d0887"
             ],
             [
              0.1111111111111111,
              "#46039f"
             ],
             [
              0.2222222222222222,
              "#7201a8"
             ],
             [
              0.3333333333333333,
              "#9c179e"
             ],
             [
              0.4444444444444444,
              "#bd3786"
             ],
             [
              0.5555555555555556,
              "#d8576b"
             ],
             [
              0.6666666666666666,
              "#ed7953"
             ],
             [
              0.7777777777777778,
              "#fb9f3a"
             ],
             [
              0.8888888888888888,
              "#fdca26"
             ],
             [
              1,
              "#f0f921"
             ]
            ],
            "type": "histogram2d"
           }
          ],
          "histogram2dcontour": [
           {
            "colorbar": {
             "outlinewidth": 0,
             "ticks": ""
            },
            "colorscale": [
             [
              0,
              "#0d0887"
             ],
             [
              0.1111111111111111,
              "#46039f"
             ],
             [
              0.2222222222222222,
              "#7201a8"
             ],
             [
              0.3333333333333333,
              "#9c179e"
             ],
             [
              0.4444444444444444,
              "#bd3786"
             ],
             [
              0.5555555555555556,
              "#d8576b"
             ],
             [
              0.6666666666666666,
              "#ed7953"
             ],
             [
              0.7777777777777778,
              "#fb9f3a"
             ],
             [
              0.8888888888888888,
              "#fdca26"
             ],
             [
              1,
              "#f0f921"
             ]
            ],
            "type": "histogram2dcontour"
           }
          ],
          "mesh3d": [
           {
            "colorbar": {
             "outlinewidth": 0,
             "ticks": ""
            },
            "type": "mesh3d"
           }
          ],
          "parcoords": [
           {
            "line": {
             "colorbar": {
              "outlinewidth": 0,
              "ticks": ""
             }
            },
            "type": "parcoords"
           }
          ],
          "pie": [
           {
            "automargin": true,
            "type": "pie"
           }
          ],
          "scatter": [
           {
            "marker": {
             "colorbar": {
              "outlinewidth": 0,
              "ticks": ""
             }
            },
            "type": "scatter"
           }
          ],
          "scatter3d": [
           {
            "line": {
             "colorbar": {
              "outlinewidth": 0,
              "ticks": ""
             }
            },
            "marker": {
             "colorbar": {
              "outlinewidth": 0,
              "ticks": ""
             }
            },
            "type": "scatter3d"
           }
          ],
          "scattercarpet": [
           {
            "marker": {
             "colorbar": {
              "outlinewidth": 0,
              "ticks": ""
             }
            },
            "type": "scattercarpet"
           }
          ],
          "scattergeo": [
           {
            "marker": {
             "colorbar": {
              "outlinewidth": 0,
              "ticks": ""
             }
            },
            "type": "scattergeo"
           }
          ],
          "scattergl": [
           {
            "marker": {
             "colorbar": {
              "outlinewidth": 0,
              "ticks": ""
             }
            },
            "type": "scattergl"
           }
          ],
          "scattermapbox": [
           {
            "marker": {
             "colorbar": {
              "outlinewidth": 0,
              "ticks": ""
             }
            },
            "type": "scattermapbox"
           }
          ],
          "scatterpolar": [
           {
            "marker": {
             "colorbar": {
              "outlinewidth": 0,
              "ticks": ""
             }
            },
            "type": "scatterpolar"
           }
          ],
          "scatterpolargl": [
           {
            "marker": {
             "colorbar": {
              "outlinewidth": 0,
              "ticks": ""
             }
            },
            "type": "scatterpolargl"
           }
          ],
          "scatterternary": [
           {
            "marker": {
             "colorbar": {
              "outlinewidth": 0,
              "ticks": ""
             }
            },
            "type": "scatterternary"
           }
          ],
          "surface": [
           {
            "colorbar": {
             "outlinewidth": 0,
             "ticks": ""
            },
            "colorscale": [
             [
              0,
              "#0d0887"
             ],
             [
              0.1111111111111111,
              "#46039f"
             ],
             [
              0.2222222222222222,
              "#7201a8"
             ],
             [
              0.3333333333333333,
              "#9c179e"
             ],
             [
              0.4444444444444444,
              "#bd3786"
             ],
             [
              0.5555555555555556,
              "#d8576b"
             ],
             [
              0.6666666666666666,
              "#ed7953"
             ],
             [
              0.7777777777777778,
              "#fb9f3a"
             ],
             [
              0.8888888888888888,
              "#fdca26"
             ],
             [
              1,
              "#f0f921"
             ]
            ],
            "type": "surface"
           }
          ],
          "table": [
           {
            "cells": {
             "fill": {
              "color": "#EBF0F8"
             },
             "line": {
              "color": "white"
             }
            },
            "header": {
             "fill": {
              "color": "#C8D4E3"
             },
             "line": {
              "color": "white"
             }
            },
            "type": "table"
           }
          ]
         },
         "layout": {
          "annotationdefaults": {
           "arrowcolor": "#2a3f5f",
           "arrowhead": 0,
           "arrowwidth": 1
          },
          "coloraxis": {
           "colorbar": {
            "outlinewidth": 0,
            "ticks": ""
           }
          },
          "colorscale": {
           "diverging": [
            [
             0,
             "#8e0152"
            ],
            [
             0.1,
             "#c51b7d"
            ],
            [
             0.2,
             "#de77ae"
            ],
            [
             0.3,
             "#f1b6da"
            ],
            [
             0.4,
             "#fde0ef"
            ],
            [
             0.5,
             "#f7f7f7"
            ],
            [
             0.6,
             "#e6f5d0"
            ],
            [
             0.7,
             "#b8e186"
            ],
            [
             0.8,
             "#7fbc41"
            ],
            [
             0.9,
             "#4d9221"
            ],
            [
             1,
             "#276419"
            ]
           ],
           "sequential": [
            [
             0,
             "#0d0887"
            ],
            [
             0.1111111111111111,
             "#46039f"
            ],
            [
             0.2222222222222222,
             "#7201a8"
            ],
            [
             0.3333333333333333,
             "#9c179e"
            ],
            [
             0.4444444444444444,
             "#bd3786"
            ],
            [
             0.5555555555555556,
             "#d8576b"
            ],
            [
             0.6666666666666666,
             "#ed7953"
            ],
            [
             0.7777777777777778,
             "#fb9f3a"
            ],
            [
             0.8888888888888888,
             "#fdca26"
            ],
            [
             1,
             "#f0f921"
            ]
           ],
           "sequentialminus": [
            [
             0,
             "#0d0887"
            ],
            [
             0.1111111111111111,
             "#46039f"
            ],
            [
             0.2222222222222222,
             "#7201a8"
            ],
            [
             0.3333333333333333,
             "#9c179e"
            ],
            [
             0.4444444444444444,
             "#bd3786"
            ],
            [
             0.5555555555555556,
             "#d8576b"
            ],
            [
             0.6666666666666666,
             "#ed7953"
            ],
            [
             0.7777777777777778,
             "#fb9f3a"
            ],
            [
             0.8888888888888888,
             "#fdca26"
            ],
            [
             1,
             "#f0f921"
            ]
           ]
          },
          "colorway": [
           "#636efa",
           "#EF553B",
           "#00cc96",
           "#ab63fa",
           "#FFA15A",
           "#19d3f3",
           "#FF6692",
           "#B6E880",
           "#FF97FF",
           "#FECB52"
          ],
          "font": {
           "color": "#2a3f5f"
          },
          "geo": {
           "bgcolor": "white",
           "lakecolor": "white",
           "landcolor": "#E5ECF6",
           "showlakes": true,
           "showland": true,
           "subunitcolor": "white"
          },
          "hoverlabel": {
           "align": "left"
          },
          "hovermode": "closest",
          "mapbox": {
           "style": "light"
          },
          "paper_bgcolor": "white",
          "plot_bgcolor": "#E5ECF6",
          "polar": {
           "angularaxis": {
            "gridcolor": "white",
            "linecolor": "white",
            "ticks": ""
           },
           "bgcolor": "#E5ECF6",
           "radialaxis": {
            "gridcolor": "white",
            "linecolor": "white",
            "ticks": ""
           }
          },
          "scene": {
           "xaxis": {
            "backgroundcolor": "#E5ECF6",
            "gridcolor": "white",
            "gridwidth": 2,
            "linecolor": "white",
            "showbackground": true,
            "ticks": "",
            "zerolinecolor": "white"
           },
           "yaxis": {
            "backgroundcolor": "#E5ECF6",
            "gridcolor": "white",
            "gridwidth": 2,
            "linecolor": "white",
            "showbackground": true,
            "ticks": "",
            "zerolinecolor": "white"
           },
           "zaxis": {
            "backgroundcolor": "#E5ECF6",
            "gridcolor": "white",
            "gridwidth": 2,
            "linecolor": "white",
            "showbackground": true,
            "ticks": "",
            "zerolinecolor": "white"
           }
          },
          "shapedefaults": {
           "line": {
            "color": "#2a3f5f"
           }
          },
          "ternary": {
           "aaxis": {
            "gridcolor": "white",
            "linecolor": "white",
            "ticks": ""
           },
           "baxis": {
            "gridcolor": "white",
            "linecolor": "white",
            "ticks": ""
           },
           "bgcolor": "#E5ECF6",
           "caxis": {
            "gridcolor": "white",
            "linecolor": "white",
            "ticks": ""
           }
          },
          "title": {
           "x": 0.05
          },
          "xaxis": {
           "automargin": true,
           "gridcolor": "white",
           "linecolor": "white",
           "ticks": "",
           "title": {
            "standoff": 15
           },
           "zerolinecolor": "white",
           "zerolinewidth": 2
          },
          "yaxis": {
           "automargin": true,
           "gridcolor": "white",
           "linecolor": "white",
           "ticks": "",
           "title": {
            "standoff": 15
           },
           "zerolinecolor": "white",
           "zerolinewidth": 2
          }
         }
        }
       }
      },
      "image/png": "[encoded data removed]",
      "text/html": [
       "<div>\n",
       "        \n",
       "        \n",
       "            <div id=\"08a7343f-3738-4dc8-8481-9b3b8de7f261\" class=\"plotly-graph-div\" style=\"height:525px; width:100%;\"></div>\n",
       "            <script type=\"text/javascript\">\n",
       "                require([\"plotly\"], function(Plotly) {\n",
       "                    window.PLOTLYENV=window.PLOTLYENV || {};\n",
       "                    \n",
       "                if (document.getElementById(\"08a7343f-3738-4dc8-8481-9b3b8de7f261\")) {\n",
       "                    Plotly.newPlot(\n",
       "                        '08a7343f-3738-4dc8-8481-9b3b8de7f261',\n",
       "                        [{\"branchvalues\": \"total\", \"customdata\": [[\"grid.419994.8\"], [\"grid.7048.b\"], [\"grid.154185.c\"], [\"grid.417585.a\"], [\"grid.5650.6\"], [\"grid.7123.7\"], [\"grid.463073.5\"], [\"grid.487701.d\"], [\"grid.5399.6\"], [\"grid.251916.8\"], [\"grid.29906.34\"], [\"grid.417827.f\"], [\"grid.251993.5\"], [\"grid.413569.c\"], [\"grid.413571.5\"], [\"grid.413574.0\"], [\"grid.8168.7\"], [\"grid.413618.9\"], [\"grid.422422.0\"], [\"grid.457522.3\"], [\"grid.7256.6\"], [\"grid.426412.7\"], [\"grid.411424.6\"], [\"grid.4793.9\"], [\"grid.215654.1\"], [\"grid.418042.b\"], [\"grid.411445.1\"], [\"grid.414055.1\"], [\"grid.1001.0\"], [\"grid.7080.f\"], [\"grid.412510.3\"], [\"grid.476047.6\"], [\"grid.466496.f\"], [\"grid.248762.d\"], [\"grid.252754.3\"], [\"grid.414125.7\"], [\"grid.438280.5\"], [\"grid.7362.0\"], [\"grid.411521.2\"], [\"grid.22098.31\"], [\"grid.420044.6\"], [\"grid.39382.33\"], [\"grid.411548.d\"], [\"grid.7489.2\"], [\"grid.424065.1\"], [\"grid.418304.a\"], [\"grid.446127.2\"], [\"grid.7491.b\"], [\"grid.420849.3\"], [\"grid.466828.6\"], [\"grid.11184.3d\"], [\"grid.462854.9\"], [\"grid.411701.2\"], [\"grid.412918.7\"], [\"grid.7945.f\"], [\"grid.484445.d\"], [\"grid.442598.6\"], [\"grid.452567.7\"], [\"grid.62560.37\"], [\"grid.414601.6\"], [\"grid.40263.33\"], [\"grid.7728.a\"], [\"grid.419043.b\"], [\"grid.20861.3d\"], [\"grid.498702.0\"], [\"grid.420087.9\"], [\"grid.5600.3\"], [\"grid.34428.39\"], [\"grid.7840.b\"], [\"grid.147455.6\"], [\"grid.413503.0\"], [\"grid.67105.35\"], [\"grid.411947.e\"], [\"grid.8142.f\"], [\"grid.11100.31\"], [\"grid.53964.3d\"], [\"grid.469405.a\"], [\"grid.463852.e\"], [\"grid.134996.0\"], [\"grid.41724.34\"], [\"grid.411418.9\"], [\"grid.277151.7\"], [\"grid.418128.6\"], [\"grid.507461.1\"], [\"grid.460202.2\"], [\"grid.11478.3b\"], [\"grid.419328.5\"], [\"grid.6363.0\"], [\"grid.4491.8\"], [\"grid.8191.1\"], [\"grid.414148.c\"], [\"grid.239553.b\"], [\"grid.413963.a\"], [\"grid.14005.30\"], [\"grid.419783.0\"], [\"grid.7922.e\"], [\"grid.239573.9\"], [\"grid.26090.3d\"], [\"grid.239578.2\"], [\"grid.424096.d\"], [\"grid.47894.36\"], [\"grid.21729.3f\"], [\"grid.433055.4\"], [\"grid.4795.f\"], [\"grid.428298.d\"], [\"grid.5386.8\"], [\"grid.7327.1\"], [\"grid.417605.1\"], [\"grid.420076.7\"], [\"grid.5433.1\"], [\"grid.254880.3\"], [\"grid.425461.0\"], [\"grid.414102.2\"], [\"grid.453680.c\"], [\"grid.7683.a\"], [\"grid.414116.7\"], [\"grid.166341.7\"], [\"grid.26009.3d\"], [\"grid.412109.f\"], [\"grid.464150.2\"], [\"grid.457379.b\"], [\"grid.5801.c\"], [\"grid.255381.8\"], [\"grid.18377.3a\"], [\"grid.189967.8\"], [\"grid.5645.2\"], [\"grid.414570.3\"], [\"grid.164274.2\"], [\"grid.225360.0\"], [\"grid.418914.1\"], [\"grid.424780.d\"], [\"grid.270680.b\"], [\"grid.15667.33\"], [\"grid.4709.a\"], [\"grid.418946.6\"], [\"grid.255649.9\"], [\"grid.7678.e\"], [\"grid.414802.b\"], [\"grid.411233.6\"], [\"grid.8536.8\"], [\"grid.250903.d\"], [\"grid.452661.2\"], [\"grid.255951.f\"], [\"grid.11469.3b\"], [\"grid.424414.3\"], [\"grid.414818.0\"], [\"grid.418378.1\"], [\"grid.417778.a\"], [\"grid.434251.5\"], [\"grid.420153.1\"], [\"grid.8385.6\"], [\"grid.452485.a\"], [\"grid.4834.b\"], [\"grid.428807.1\"], [\"grid.418688.b\"], [\"grid.4444.0\"], [\"grid.9613.d\"], [\"grid.256115.4\"], [\"grid.443929.1\"], [\"grid.411320.5\"], [\"grid.256169.f\"], [\"grid.434656.6\"], [\"grid.253615.6\"], [\"grid.7497.d\"], [\"grid.5342.0\"], [\"grid.410566.0\"], [\"grid.419078.3\"], [\"grid.133275.1\"], [\"grid.7839.5\"], [\"grid.1022.1\"], [\"grid.14442.37\"], [\"grid.11500.35\"], [\"grid.10423.34\"], [\"grid.413714.4\"], [\"grid.38142.3c\"], [\"grid.413752.6\"], [\"grid.57544.37\"], [\"grid.9984.c\"], [\"grid.9619.7\"], [\"grid.7700.0\"], [\"grid.411327.2\"], [\"grid.506258.c\"], [\"grid.418496.6\"], [\"grid.7490.a\"], [\"grid.15485.3d\"], [\"grid.257065.3\"], [\"grid.221309.b\"], [\"grid.411142.3\"], [\"grid.410526.4\"], [\"grid.414793.c\"], [\"grid.411136.0\"], [\"grid.411331.5\"], [\"grid.411347.4\"], [\"grid.413504.7\"], [\"grid.42327.30\"], [\"grid.439634.f\"], [\"grid.413299.4\"], [\"grid.417728.f\"], [\"grid.257167.0\"], [\"grid.411905.8\"], [\"grid.413780.9\"], [\"grid.411119.d\"], [\"grid.411784.f\"], [\"grid.414244.3\"], [\"grid.414263.6\"], [\"grid.412212.6\"], [\"grid.411266.6\"], [\"grid.481554.9\"], [\"grid.434914.f\"], [\"grid.470216.6\"], [\"grid.418712.9\"], [\"grid.59734.3c\"], [\"grid.257310.2\"], [\"grid.7445.2\"], [\"grid.34980.36\"], [\"grid.414489.4\"], [\"grid.5361.1\"], [\"grid.7429.8\"], [\"grid.418106.a\"], [\"grid.14925.3b\"], [\"grid.20522.37\"], [\"grid.418480.1\"], [\"grid.428999.7\"], [\"grid.418508.0\"], [\"grid.418511.8\"], [\"grid.418517.e\"], [\"grid.418537.c\"], [\"grid.497397.7\"], [\"grid.469947.1\"], [\"grid.457337.1\"], [\"grid.473220.0\"], [\"grid.4399.7\"], [\"grid.418596.7\"], [\"grid.429141.b\"], [\"grid.418744.a\"], [\"grid.418750.f\"], [\"grid.503048.a\"], [\"grid.18886.3f\"], [\"grid.414709.f\"], [\"grid.425308.8\"], [\"grid.472639.d\"], [\"grid.494653.9\"], [\"grid.425290.8\"], [\"grid.425078.c\"], [\"grid.428966.7\"], [\"grid.418972.1\"], [\"grid.11505.30\"], [\"grid.418514.d\"], [\"grid.418346.c\"], [\"grid.415771.1\"], [\"grid.419166.d\"], [\"grid.413448.e\"], [\"grid.419305.a\"], [\"grid.17703.32\"], [\"grid.425195.e\"], [\"grid.466871.a\"], [\"grid.463321.1\"], [\"grid.488957.f\"], [\"grid.34421.30\"], [\"grid.411746.1\"], [\"grid.414844.9\"], [\"grid.9601.e\"], [\"grid.506076.2\"], [\"grid.417520.5\"], [\"grid.419457.a\"], [\"grid.419504.d\"], [\"grid.428717.f\"], [\"grid.417893.0\"], [\"grid.419539.3\"], [\"grid.425425.0\"], [\"grid.419423.9\"], [\"grid.417894.7\"], [\"grid.452606.3\"], [\"grid.419563.c\"], [\"grid.416651.1\"], [\"grid.466852.b\"], [\"grid.419593.3\"], [\"grid.418529.3\"], [\"grid.419479.6\"], [\"grid.497276.9\"], [\"grid.429138.5\"], [\"grid.25786.3e\"], [\"grid.469946.0\"], [\"grid.411818.5\"], [\"grid.6279.a\"], [\"grid.411898.d\"], [\"grid.5802.f\"], [\"grid.8348.7\"], [\"grid.469474.c\"], [\"grid.21107.35\"], [\"grid.434554.7\"], [\"grid.11375.31\"], [\"grid.411741.6\"], [\"grid.9707.9\"], [\"grid.410783.9\"], [\"grid.415014.5\"], [\"grid.7892.4\"], [\"grid.4714.6\"], [\"grid.24381.3c\"], [\"grid.77268.3c\"], [\"grid.33058.3d\"], [\"grid.9762.a\"], [\"grid.412105.3\"], [\"grid.9764.c\"], [\"grid.415218.b\"], [\"grid.448756.c\"], [\"grid.412125.1\"], [\"grid.415259.e\"], [\"grid.13097.3c\"], [\"grid.470005.6\"], [\"grid.411095.8\"], [\"grid.31432.37\"], [\"grid.415482.e\"], [\"grid.249967.7\"], [\"grid.411196.a\"], [\"grid.9829.a\"], [\"grid.258799.8\"], [\"grid.411047.7\"], [\"grid.1018.8\"], [\"grid.464004.2\"], [\"grid.470921.9\"], [\"grid.411276.7\"], [\"grid.489787.d\"], [\"grid.5132.5\"], [\"grid.10419.3d\"], [\"grid.9647.c\"], [\"grid.440892.3\"], [\"grid.5640.7\"], [\"grid.411384.b\"], [\"grid.281958.f\"], [\"grid.48004.38\"], [\"grid.429360.a\"], [\"grid.8991.9\"], [\"grid.273206.2\"], [\"grid.148313.c\"], [\"grid.414123.1\"], [\"grid.5252.0\"], [\"grid.504876.8\"], [\"grid.415056.3\"], [\"grid.462573.1\"], [\"grid.5012.6\"], [\"grid.412966.e\"], [\"grid.1004.5\"], [\"grid.429045.e\"], [\"grid.411489.1\"], [\"grid.10223.32\"], [\"grid.11194.3c\"], [\"grid.419393.5\"], [\"grid.452366.0\"], [\"grid.7010.6\"], [\"grid.416408.f\"], [\"grid.4527.4\"], [\"grid.410531.2\"], [\"grid.16477.33\"], [\"grid.280718.4\"], [\"grid.411583.a\"], [\"grid.32224.35\"], [\"grid.116068.8\"], [\"grid.1491.d\"], [\"grid.414698.6\"], [\"grid.450268.d\"], [\"grid.14709.3b\"], [\"grid.25073.33\"], [\"grid.420006.0\"], [\"grid.415063.5\"], [\"grid.11598.34\"], [\"grid.20501.36\"], [\"grid.22937.3d\"], [\"grid.13339.3b\"], [\"grid.452605.0\"], [\"grid.25055.37\"], [\"grid.17088.36\"], [\"grid.15822.3c\"], [\"grid.419903.6\"], [\"grid.415788.7\"], [\"grid.415759.b\"], [\"grid.415734.0\"], [\"grid.415857.a\"], [\"grid.500526.4\"], [\"grid.418306.8\"], [\"grid.462410.5\"], [\"grid.240283.f\"], [\"grid.420013.4\"], [\"grid.25867.3e\"], [\"grid.420021.5\"], [\"grid.411861.b\"], [\"grid.452593.c\"], [\"grid.436365.1\"], [\"grid.174567.6\"], [\"grid.260433.0\"], [\"grid.412006.1\"], [\"grid.5196.b\"], [\"grid.410914.9\"], [\"grid.410724.4\"], [\"grid.48336.3a\"], [\"grid.419280.6\"], [\"grid.453445.7\"], [\"grid.419235.8\"], [\"grid.280128.1\"], [\"grid.70909.37\"], [\"grid.416716.3\"], [\"grid.31147.30\"], [\"grid.419681.3\"], [\"grid.420086.8\"], [\"grid.280664.e\"], [\"grid.19100.39\"], [\"grid.425381.9\"], [\"grid.419475.a\"], [\"grid.94365.3d\"], [\"grid.454846.f\"], [\"grid.5326.2\"], [\"grid.410763.7\"], [\"grid.10692.3c\"], [\"grid.5216.0\"], [\"grid.35937.3b\"], [\"grid.415943.e\"], [\"grid.412134.1\"], [\"grid.411124.3\"], [\"grid.4858.1\"], [\"grid.422550.4\"], [\"grid.288223.1\"], [\"grid.137628.9\"], [\"grid.1006.7\"], [\"grid.10737.32\"], [\"grid.462644.6\"], [\"grid.40803.3f\"], [\"grid.261112.7\"], [\"grid.412262.1\"], [\"grid.16753.36\"], [\"grid.418193.6\"], [\"grid.19477.3c\"], [\"grid.412920.c\"], [\"grid.15585.3c\"], [\"grid.419481.1\"], [\"grid.10824.3f\"], [\"grid.418682.1\"], [\"grid.453407.1\"], [\"grid.5288.7\"], [\"grid.419910.4\"], [\"grid.261445.0\"], [\"grid.136593.b\"], [\"grid.412414.6\"], [\"grid.414405.0\"], [\"grid.417225.7\"], [\"grid.414614.2\"], [\"grid.416052.4\"], [\"grid.460094.f\"], [\"grid.416422.7\"], [\"grid.416303.3\"], [\"grid.415044.0\"], [\"grid.410345.7\"], [\"grid.417108.b\"], [\"grid.418068.3\"], [\"grid.5807.a\"], [\"grid.412433.3\"], [\"grid.411742.5\"], [\"grid.417153.5\"], [\"grid.410511.0\"], [\"grid.10992.33\"], [\"grid.7452.4\"], [\"grid.8970.6\"], [\"grid.15781.3a\"], [\"grid.29857.31\"], [\"grid.32495.39\"], [\"grid.410513.2\"], [\"grid.63622.33\"], [\"grid.411439.a\"], [\"grid.412311.4\"], [\"grid.419557.b\"], [\"grid.419425.f\"], [\"grid.413009.f\"], [\"grid.4643.5\"], [\"grid.5612.0\"], [\"grid.16750.35\"], [\"grid.437153.7\"], [\"grid.419734.c\"], [\"grid.271308.f\"], [\"grid.169077.e\"], [\"grid.1049.c\"], [\"grid.7597.c\"], [\"grid.1957.a\"], [\"grid.413156.4\"], [\"grid.10417.33\"], [\"grid.412665.2\"], [\"grid.414291.b\"], [\"grid.425883.0\"], [\"grid.33647.35\"], [\"grid.418187.3\"], [\"grid.465310.5\"], [\"grid.475435.4\"], [\"grid.415989.8\"], [\"grid.13652.33\"], [\"grid.134907.8\"], [\"grid.8509.4\"], [\"grid.416100.2\"], [\"grid.452735.2\"], [\"grid.4912.e\"], [\"grid.426108.9\"], [\"grid.415970.e\"], [\"grid.416153.4\"], [\"grid.413249.9\"], [\"grid.11503.36\"], [\"grid.5570.7\"], [\"grid.430387.b\"], [\"grid.262863.b\"], [\"grid.11749.3a\"], [\"grid.421780.8\"], [\"grid.18887.3e\"], [\"grid.419837.0\"], [\"grid.7841.a\"], [\"grid.17242.32\"], [\"grid.486769.2\"], [\"grid.438154.f\"], [\"grid.496667.c\"], [\"grid.411600.2\"], [\"grid.412504.6\"], [\"grid.412505.7\"], [\"grid.27255.37\"], [\"grid.412553.4\"], [\"grid.412573.6\"], [\"grid.452807.c\"], [\"grid.61971.38\"], [\"grid.416050.6\"], [\"grid.11887.37\"], [\"grid.263761.7\"], [\"grid.462844.8\"], [\"grid.412686.f\"], [\"grid.415021.3\"], [\"grid.263826.b\"], [\"grid.264200.2\"], [\"grid.1073.5\"], [\"grid.240871.8\"], [\"grid.416432.6\"], [\"grid.168010.e\"], [\"grid.411087.b\"], [\"grid.6401.3\"], [\"grid.11956.3a\"], [\"grid.10548.38\"], [\"grid.419594.4\"], [\"grid.413104.3\"], [\"grid.4827.9\"], [\"grid.416786.a\"], [\"grid.45978.37\"], [\"grid.4488.0\"], [\"grid.412895.3\"], [\"grid.502801.e\"], [\"grid.412266.5\"], [\"grid.6827.b\"], [\"grid.5170.3\"], [\"grid.5690.a\"], [\"grid.6936.a\"], [\"grid.6451.6\"], [\"grid.497880.a\"], [\"grid.411705.6\"], [\"grid.12136.37\"], [\"grid.28526.3b\"], [\"grid.410439.b\"], [\"grid.412408.b\"], [\"grid.264756.4\"], [\"grid.416975.8\"], [\"grid.416992.1\"], [\"grid.451388.3\"], [\"grid.261331.4\"], [\"grid.176731.5\"], [\"grid.267315.4\"], [\"grid.215352.2\"], [\"grid.265008.9\"], [\"grid.410648.f\"], [\"grid.69566.3a\"], [\"grid.32197.3e\"], [\"grid.410793.8\"], [\"grid.265073.5\"], [\"grid.410818.4\"], [\"grid.420228.e\"], [\"grid.8217.c\"], [\"grid.429997.8\"], [\"grid.12597.38\"], [\"grid.34538.39\"], [\"grid.418707.d\"], [\"grid.282968.f\"], [\"grid.2865.9\"], [\"grid.8430.f\"], [\"grid.8395.7\"], [\"grid.10772.33\"], [\"grid.11142.37\"], [\"grid.412347.7\"], [\"grid.7872.a\"], [\"grid.83440.3b\"], [\"grid.412570.5\"], [\"grid.5253.1\"], [\"grid.16149.3b\"], [\"grid.150338.c\"], [\"grid.8515.9\"], [\"grid.269014.8\"], [\"grid.7708.8\"], [\"grid.4494.d\"], [\"grid.79746.3b\"], [\"grid.265850.c\"], [\"grid.265892.2\"], [\"grid.17089.37\"], [\"grid.7177.6\"], [\"grid.134563.6\"], [\"grid.194632.b\"], [\"grid.241054.6\"], [\"grid.7307.3\"], [\"grid.427646.5\"], [\"grid.15653.34\"], [\"grid.5841.8\"], [\"grid.7644.1\"], [\"grid.5734.5\"], [\"grid.6292.f\"], [\"grid.10388.32\"], [\"grid.412041.2\"], [\"grid.7632.0\"], [\"grid.7637.5\"], [\"grid.5337.2\"], [\"grid.17091.3e\"], [\"grid.29273.3d\"], [\"grid.7345.5\"], [\"grid.5613.1\"], [\"grid.7763.5\"], [\"grid.7778.f\"], [\"grid.22072.35\"], [\"grid.30389.31\"], [\"grid.47840.3f\"], [\"grid.27860.3b\"], [\"grid.19006.3e\"], [\"grid.266097.c\"], [\"grid.266100.3\"], [\"grid.5335.0\"], [\"grid.5602.1\"], [\"grid.9841.4\"], [\"grid.7836.a\"], [\"grid.8158.4\"], [\"grid.170205.1\"], [\"grid.412578.d\"], [\"grid.443909.3\"], [\"grid.6190.e\"], [\"grid.8065.b\"], [\"grid.241116.1\"], [\"grid.5254.6\"], [\"grid.412058.a\"], [\"grid.8127.c\"], [\"grid.33489.35\"], [\"grid.9668.1\"], [\"grid.4305.2\"], [\"grid.5330.5\"], [\"grid.8484.0\"], [\"grid.8404.8\"], [\"grid.15276.37\"], [\"grid.10796.39\"], [\"grid.5963.9\"], [\"grid.8591.5\"], [\"grid.5606.5\"], [\"grid.213876.9\"], [\"grid.8664.c\"], [\"grid.8756.c\"], [\"grid.7450.6\"], [\"grid.410445.0\"], [\"grid.7737.4\"], [\"grid.18048.35\"], [\"grid.9582.6\"], [\"grid.185648.6\"], [\"grid.18147.3b\"], [\"grid.9594.1\"], [\"grid.214572.7\"], [\"grid.266515.3\"], [\"grid.9759.2\"], [\"grid.9763.b\"], [\"grid.9811.1\"], [\"grid.16463.36\"], [\"grid.9851.5\"], [\"grid.9909.9\"], [\"grid.9918.9\"], [\"grid.503422.2\"], [\"grid.10049.3c\"], [\"grid.9983.b\"], [\"grid.10025.36\"], [\"grid.8954.0\"], [\"grid.4464.2\"], [\"grid.29172.3f\"], [\"grid.266623.5\"], [\"grid.4562.5\"], [\"grid.10595.38\"], [\"grid.5379.8\"], [\"grid.411024.2\"], [\"grid.164295.d\"], [\"grid.1008.9\"], [\"grid.10438.3e\"], [\"grid.214458.e\"], [\"grid.266717.3\"], [\"grid.4708.b\"], [\"grid.7563.7\"], [\"grid.10328.38\"], [\"grid.17635.36\"], [\"grid.410721.1\"], [\"grid.7548.e\"], [\"grid.121334.6\"], [\"grid.14848.31\"], [\"grid.411848.0\"], [\"grid.5949.1\"], [\"grid.4691.a\"], [\"grid.24434.35\"], [\"grid.266820.8\"], [\"grid.1020.3\"], [\"grid.266842.c\"], [\"grid.10698.36\"], [\"grid.131063.6\"], [\"grid.4563.4\"], [\"grid.112485.b\"], [\"grid.218069.4\"], [\"grid.4991.5\"], [\"grid.5608.b\"], [\"grid.10776.37\"], [\"grid.5842.b\"], [\"grid.10383.39\"], [\"grid.11047.33\"], [\"grid.8982.b\"], [\"grid.25879.31\"], [\"grid.9027.c\"], [\"grid.11162.35\"], [\"grid.5395.a\"], [\"grid.21925.3d\"], [\"grid.5808.5\"], [\"grid.49697.35\"], [\"grid.1003.2\"], [\"grid.9435.b\"], [\"grid.7727.5\"], [\"grid.11567.34\"], [\"grid.16416.34\"], [\"grid.412750.5\"], [\"grid.6530.0\"], [\"grid.10493.3f\"], [\"grid.10400.35\"], [\"grid.9906.6\"], [\"grid.11780.3f\"], [\"grid.47422.37\"], [\"grid.412179.8\"], [\"grid.11899.38\"], [\"grid.25152.31\"], [\"grid.11450.31\"], [\"grid.442967.a\"], [\"grid.11835.3e\"], [\"grid.9024.f\"], [\"grid.254567.7\"], [\"grid.42505.36\"], [\"grid.10825.3e\"], [\"grid.11984.35\"], [\"grid.12082.39\"], [\"grid.1013.3\"], [\"grid.1009.8\"], [\"grid.267301.1\"], [\"grid.12306.36\"], [\"grid.26999.3d\"], [\"grid.17063.33\"], [\"grid.11696.39\"], [\"grid.5133.4\"], [\"grid.12341.35\"], [\"grid.7605.4\"], [\"grid.1374.1\"], [\"grid.10392.39\"], [\"grid.5390.f\"], [\"grid.6582.9\"], [\"grid.12711.34\"], [\"grid.59062.38\"], [\"grid.5611.3\"], [\"grid.7372.1\"], [\"grid.34477.33\"], [\"grid.8379.5\"], [\"grid.5685.e\"], [\"grid.4808.4\"], [\"grid.11205.37\"], [\"grid.7400.3\"], [\"grid.11480.3c\"], [\"grid.6518.a\"], [\"grid.9657.d\"], [\"grid.411544.1\"], [\"grid.413108.f\"], [\"grid.23856.3a\"], [\"grid.8993.b\"], [\"grid.5477.1\"], [\"grid.12380.38\"], [\"grid.152326.1\"], [\"grid.411904.9\"], [\"grid.224260.0\"], [\"grid.438526.e\"], [\"grid.4367.6\"], [\"grid.270683.8\"], [\"grid.449999.0\"], [\"grid.10306.34\"], [\"grid.52788.30\"], [\"grid.1694.a\"], [\"grid.452890.2\"], [\"grid.3575.4\"], [\"grid.426427.1\"], [\"grid.463718.f\"], [\"grid.483405.e\"], [\"grid.268333.f\"], [\"grid.47100.32\"], [\"grid.268397.1\"], [\"grid.268415.c\"], [\"grid.15444.30\"], [\"grid.417375.3\"], [\"grid.411703.0\"], [\"grid.424453.0\"], [\"grid.5607.4\"], [\"grid.5333.6\"], [\"grid.1957.a\"], [\"(?)\"], [\"grid.462644.6\"], [\"grid.7123.7\"], [\"grid.1694.a\"], [\"grid.466496.f\"], [\"grid.412504.6\"], [\"grid.427646.5\"], [\"grid.265850.c\"], [\"grid.34421.30\"], [\"(?)\"], [\"(?)\"], [\"grid.7010.6\"], [\"(?)\"], [\"grid.214458.e\"], [\"grid.29906.34\"], [\"grid.418511.8\"], [\"grid.11505.30\"], [\"grid.267315.4\"], [\"grid.1020.3\"], [\"(?)\"], [\"grid.213876.9\"], [\"(?)\"], [\"grid.470921.9\"], [\"grid.414055.1\"], [\"grid.7307.3\"], [\"grid.496667.c\"], [\"grid.429360.a\"], [\"(?)\"], [\"grid.15653.34\"], [\"(?)\"], [\"grid.7362.0\"], [\"grid.415063.5\"], [\"(?)\"], [\"(?)\"], [\"(?)\"], [\"(?)\"], [\"grid.8430.f\"], [\"grid.47422.37\"], [\"(?)\"], [\"grid.460094.f\"], [\"grid.47840.3f\"], [\"(?)\"], [\"grid.5734.5\"], [\"(?)\"], [\"grid.446127.2\"], [\"grid.7491.b\"], [\"grid.411701.2\"], [\"grid.412918.7\"], [\"(?)\"], [\"grid.438526.e\"], [\"grid.419393.5\"], [\"grid.413780.9\"], [\"grid.418128.6\"], [\"grid.255951.f\"], [\"grid.5570.7\"], [\"(?)\"], [\"(?)\"], [\"grid.9984.c\"], [\"(?)\"], [\"grid.418187.3\"], [\"(?)\"], [\"grid.10328.38\"], [\"grid.7632.0\"], [\"grid.420087.9\"], [\"grid.7490.a\"], [\"grid.463718.f\"], [\"grid.7637.5\"], [\"(?)\"], [\"(?)\"], [\"(?)\"], [\"grid.262863.b\"], [\"(?)\"], [\"grid.424096.d\"], [\"grid.29273.3d\"], [\"(?)\"], [\"grid.59062.38\"], [\"grid.61971.38\"], [\"grid.34538.39\"], [\"grid.424453.0\"], [\"grid.7763.5\"], [\"grid.483405.e\"], [\"(?)\"], [\"(?)\"], [\"(?)\"], [\"grid.5602.1\"], [\"grid.419783.0\"], [\"(?)\"], [\"(?)\"], [\"grid.9759.2\"], [\"grid.415021.3\"], [\"grid.413504.7\"], [\"grid.5600.3\"], [\"grid.9841.4\"], [\"grid.8158.4\"], [\"grid.411489.1\"], [\"grid.7080.f\"], [\"grid.10698.36\"], [\"grid.415482.e\"], [\"(?)\"], [\"grid.442967.a\"], [\"grid.239573.9\"], [\"grid.26090.3d\"], [\"(?)\"], [\"grid.6827.b\"], [\"grid.164295.d\"], [\"(?)\"], [\"grid.6190.e\"], [\"grid.8065.b\"], [\"grid.254567.7\"], [\"grid.261331.4\"], [\"grid.428298.d\"], [\"(?)\"], [\"grid.7872.a\"], [\"grid.412058.a\"], [\"grid.7778.f\"], [\"grid.473220.0\"], [\"(?)\"], [\"grid.462410.5\"], [\"grid.415771.1\"], [\"grid.10692.3c\"], [\"grid.249967.7\"], [\"(?)\"], [\"(?)\"], [\"grid.27860.3b\"], [\"grid.268333.f\"], [\"grid.31147.30\"], [\"grid.266717.3\"], [\"grid.4858.1\"], [\"grid.411742.5\"], [\"grid.241116.1\"], [\"grid.5613.1\"], [\"grid.4488.0\"], [\"(?)\"], [\"grid.16463.36\"], [\"(?)\"], [\"grid.411327.2\"], [\"grid.17088.36\"], [\"grid.4305.2\"], [\"grid.17089.37\"], [\"grid.411320.5\"], [\"grid.5330.5\"], [\"(?)\"], [\"grid.164274.2\"], [\"grid.16753.36\"], [\"grid.8484.0\"], [\"grid.11780.3f\"], [\"grid.1073.5\"], [\"grid.8404.8\"], [\"grid.10796.39\"], [\"grid.47894.36\"], [\"grid.8395.7\"], [\"(?)\"], [\"grid.266820.8\"], [\"(?)\"], [\"grid.15276.37\"], [\"grid.176731.5\"], [\"grid.414291.b\"], [\"(?)\"], [\"(?)\"], [\"(?)\"], [\"grid.8664.c\"], [\"(?)\"], [\"grid.417153.5\"], [\"grid.410914.9\"], [\"grid.11598.34\"], [\"grid.133275.1\"], [\"grid.4494.d\"], [\"grid.14005.30\"], [\"grid.7450.6\"], [\"grid.420076.7\"], [\"grid.6451.6\"], [\"(?)\"], [\"grid.25073.33\"], [\"grid.470005.6\"], [\"grid.452661.2\"], [\"grid.10423.34\"], [\"grid.254880.3\"], [\"(?)\"], [\"(?)\"], [\"(?)\"], [\"grid.4834.b\"], [\"grid.412433.3\"], [\"grid.1009.8\"], [\"grid.221309.b\"], [\"grid.410445.0\"], [\"(?)\"], [\"grid.411905.8\"], [\"grid.18048.35\"], [\"grid.8168.7\"], [\"grid.9582.6\"], [\"grid.411276.7\"], [\"grid.10824.3f\"], [\"grid.420228.e\"], [\"grid.5361.1\"], [\"grid.9594.1\"], [\"grid.214572.7\"], [\"grid.45978.37\"], [\"grid.434554.7\"], [\"(?)\"], [\"grid.5386.8\"], [\"grid.442598.6\"], [\"grid.410721.1\"], [\"grid.412125.1\"], [\"grid.9613.d\"], [\"grid.9619.7\"], [\"grid.27255.37\"], [\"grid.255381.8\"], [\"grid.8385.6\"], [\"grid.411741.6\"], [\"(?)\"], [\"grid.9707.9\"], [\"(?)\"], [\"grid.77268.3c\"], [\"grid.412105.3\"], [\"grid.9763.b\"], [\"grid.9764.c\"], [\"grid.448756.c\"], [\"grid.31432.37\"], [\"grid.5170.3\"], [\"grid.9811.1\"], [\"(?)\"], [\"grid.506258.c\"], [\"grid.9829.a\"], [\"grid.9668.1\"], [\"grid.411196.a\"], [\"grid.258799.8\"], [\"grid.412109.f\"], [\"grid.411047.7\"], [\"(?)\"], [\"grid.413569.c\"], [\"grid.437153.7\"], [\"(?)\"], [\"grid.266515.3\"], [\"grid.9906.6\"], [\"grid.9909.9\"], [\"grid.419593.3\"], [\"(?)\"], [\"(?)\"], [\"grid.11480.3c\"], [\"grid.9647.c\"], [\"grid.420044.6\"], [\"grid.504876.8\"], [\"(?)\"], [\"grid.11100.31\"], [\"grid.10049.3c\"], [\"grid.412212.6\"], [\"grid.24434.35\"], [\"(?)\"], [\"(?)\"], [\"(?)\"], [\"(?)\"], [\"(?)\"], [\"(?)\"], [\"grid.148313.c\"], [\"(?)\"], [\"grid.266623.5\"], [\"grid.416992.1\"], [\"grid.79746.3b\"], [\"grid.17703.32\"], [\"grid.4562.5\"], [\"(?)\"], [\"(?)\"], [\"grid.5807.a\"], [\"grid.5802.f\"], [\"grid.411424.6\"], [\"grid.5379.8\"], [\"grid.250903.d\"], [\"grid.452366.0\"], [\"(?)\"], [\"grid.280718.4\"], [\"grid.411583.a\"], [\"grid.429997.8\"], [\"(?)\"], [\"grid.419563.c\"], [\"(?)\"], [\"(?)\"], [\"(?)\"], [\"grid.17635.36\"], [\"(?)\"], [\"(?)\"], [\"(?)\"], [\"grid.421780.8\"], [\"grid.11887.37\"], [\"grid.415218.b\"], [\"grid.411848.0\"], [\"grid.410531.2\"], [\"grid.418304.a\"], [\"grid.252754.3\"], [\"(?)\"], [\"grid.411861.b\"], [\"(?)\"], [\"grid.174567.6\"], [\"grid.260433.0\"], [\"(?)\"], [\"grid.29172.3f\"], [\"(?)\"], [\"(?)\"], [\"(?)\"], [\"grid.152326.1\"], [\"grid.411233.6\"], [\"grid.415943.e\"], [\"grid.416422.7\"], [\"grid.430387.b\"], [\"(?)\"], [\"grid.47100.32\"], [\"grid.273206.2\"], [\"(?)\"], [\"grid.33489.35\"], [\"grid.266842.c\"], [\"(?)\"], [\"(?)\"], [\"grid.10417.33\"], [\"grid.257310.2\"], [\"grid.131063.6\"], [\"(?)\"], [\"grid.30389.31\"], [\"grid.10825.3e\"], [\"grid.418346.c\"], [\"grid.419837.0\"], [\"grid.417827.f\"], [\"grid.15585.3c\"], [\"grid.112485.b\"], [\"grid.5842.b\"], [\"(?)\"], [\"(?)\"], [\"(?)\"], [\"(?)\"], [\"(?)\"], [\"grid.5608.b\"], [\"grid.469405.a\"], [\"(?)\"], [\"grid.414123.1\"], [\"(?)\"], [\"grid.10383.39\"], [\"grid.20861.3d\"], [\"grid.412665.2\"], [\"(?)\"], [\"grid.420013.4\"], [\"grid.9027.c\"], [\"grid.413156.4\"], [\"(?)\"], [\"grid.418537.c\"], [\"(?)\"], [\"(?)\"], [\"grid.452807.c\"], [\"grid.5288.7\"], [\"grid.5808.5\"], [\"grid.70909.37\"], [\"grid.4491.8\"], [\"(?)\"], [\"grid.16750.35\"], [\"grid.40263.33\"], [\"grid.419235.8\"], [\"grid.415759.b\"], [\"grid.418972.1\"], [\"grid.11047.33\"], [\"grid.23856.3a\"], [\"(?)\"], [\"grid.40803.3f\"], [\"grid.22098.31\"], [\"grid.9435.b\"], [\"grid.7727.5\"], [\"grid.11567.34\"], [\"grid.460202.2\"], [\"grid.2865.9\"], [\"grid.8127.c\"], [\"grid.411136.0\"], [\"grid.224260.0\"], [\"grid.11184.3d\"], [\"grid.414614.2\"], [\"(?)\"], [\"grid.266097.c\"], [\"grid.415989.8\"], [\"(?)\"], [\"grid.48336.3a\"], [\"(?)\"], [\"grid.7836.a\"], [\"(?)\"], [\"grid.5645.2\"], [\"(?)\"], [\"grid.417728.f\"], [\"grid.11749.3a\"], [\"grid.32495.39\"], [\"grid.6279.a\"], [\"grid.420849.3\"], [\"grid.215352.2\"], [\"grid.266100.3\"], [\"grid.419557.b\"], [\"grid.413503.0\"], [\"grid.424414.3\"], [\"grid.28526.3b\"], [\"grid.418688.b\"], [\"grid.411331.5\"], [\"(?)\"], [\"grid.443929.1\"], [\"grid.25152.31\"], [\"grid.11450.31\"], [\"(?)\"], [\"grid.486769.2\"], [\"grid.69566.3a\"], [\"(?)\"], [\"grid.11142.37\"], [\"grid.11835.3e\"], [\"grid.414489.4\"], [\"grid.412573.6\"], [\"grid.9024.f\"], [\"(?)\"], [\"grid.419734.c\"], [\"grid.433055.4\"], [\"grid.4367.6\"], [\"grid.25055.37\"], [\"grid.168010.e\"], [\"grid.29857.31\"], [\"grid.11956.3a\"], [\"(?)\"], [\"grid.469947.1\"], [\"grid.5433.1\"], [\"grid.415259.e\"], [\"grid.251916.8\"], [\"grid.263761.7\"], [\"grid.4827.9\"], [\"(?)\"], [\"(?)\"], [\"grid.412895.3\"], [\"grid.502801.e\"], [\"(?)\"], [\"grid.412006.1\"], [\"(?)\"], [\"grid.215654.1\"], [\"(?)\"], [\"grid.4793.9\"], [\"grid.410648.f\"], [\"grid.12306.36\"], [\"grid.434251.5\"], [\"(?)\"], [\"grid.465310.5\"], [\"(?)\"], [\"(?)\"], [\"grid.256115.4\"], [\"(?)\"], [\"(?)\"], [\"grid.33647.35\"], [\"grid.134563.6\"], [\"grid.418517.e\"], [\"(?)\"], [\"grid.1374.1\"], [\"(?)\"], [\"(?)\"], [\"grid.6582.9\"], [\"grid.8993.b\"], [\"grid.12711.34\"], [\"grid.5477.1\"], [\"grid.466828.6\"], [\"grid.411703.0\"], [\"(?)\"], [\"grid.18147.3b\"], [\"grid.20501.36\"], [\"grid.5611.3\"], [\"grid.418378.1\"], [\"(?)\"], [\"(?)\"], [\"grid.12341.35\"], [\"grid.14925.3b\"], [\"grid.462854.9\"], [\"grid.12597.38\"], [\"grid.7597.c\"], [\"(?)\"], [\"(?)\"], [\"grid.436365.1\"], [\"grid.169077.e\"], [\"grid.63622.33\"], [\"grid.8379.5\"], [\"grid.412262.1\"], [\"grid.268397.1\"], [\"grid.268415.c\"], [\"(?)\"], [\"grid.412505.7\"], [\"(?)\"], [\"grid.481554.9\"], [\"(?)\"], [\"grid.11205.37\"], [\"grid.10595.38\"], [\"(?)\"], [\"grid.19477.3c\"], [\"grid.12306.36\"], [\"(?)\"], [\"(?)\"], [\"(?)\"], [\"grid.411424.6\"], [\"grid.442967.a\"], [\"(?)\"], [\"grid.473220.0\"], [\"(?)\"], [\"grid.20501.36\"], [\"(?)\"], [\"grid.418537.c\"], [\"(?)\"], [\"(?)\"], [\"(?)\"], [\"(?)\"], [\"(?)\"], [\"grid.4491.8\"], [\"(?)\"], [\"grid.483405.e\"], [\"grid.7123.7\"], [\"(?)\"], [\"(?)\"], [\"grid.413569.c\"], [\"grid.415063.5\"], [\"(?)\"], [\"(?)\"], [\"(?)\"], [\"grid.424096.d\"], [\"(?)\"], [\"(?)\"], [\"(?)\"], [\"(?)\"], [\"(?)\"], [\"(?)\"], [\"(?)\"], [\"(?)\"], [\"grid.411196.a\"], [\"grid.418511.8\"], [\"(?)\"], [\"(?)\"], [\"grid.15653.34\"], [\"grid.415771.1\"], [\"(?)\"], [\"grid.452366.0\"], [\"(?)\"], [\"grid.414055.1\"], [\"(?)\"], [\"(?)\"], [\"grid.417153.5\"], [\"grid.11100.31\"], [\"(?)\"], [\"(?)\"], [\"grid.463718.f\"], [\"(?)\"], [\"(?)\"], [\"(?)\"], [\"(?)\"], [\"(?)\"], [\"grid.420087.9\"], [\"(?)\"], [\"(?)\"], [\"(?)\"], [\"(?)\"], [\"grid.8065.b\"], [\"grid.9763.b\"], [\"(?)\"], [\"(?)\"], [\"(?)\"], [\"(?)\"], [\"grid.418517.e\"], [\"(?)\"], [\"(?)\"], [\"(?)\"], [\"(?)\"], [\"grid.413504.7\"], [\"grid.412433.3\"], [\"grid.79746.3b\"]], \"domain\": {\"x\": [0.0, 1.0], \"y\": [0.0, 1.0]}, \"hovertemplate\": \"aff_id=%{customdata[0]}<br>labels=%{label}<br>tot_researchers=%{value}<br>parent=%{parent}<br>id=%{id}<extra></extra>\", \"ids\": [\"Italy/Trieste/AREA Science Park\", \"Denmark/Aarhus/Aarhus University\", \"Denmark/Aarhus/Aarhus University Hospital\", \"United States/Cambridge/Abt Associates (United States)\", \"Netherlands/Amsterdam/Academic Medical Center\", \"Ethiopia/Addis Ababa/Addis Ababa University\", \"Uganda/Kampala/African Palliative Care Association\", \"Italy/Bologna/Agenzia Sanitaria e Sociale Regionale\", \"France/Marseille/Aix-Marseille University\", \"South Korea/Suwon/Ajou University\", \"Turkey/Antalya/Akdeniz University\", \"Japan/Okayama/Akebono Clinic\", \"United States/The Bronx/Albert Einstein College of Medicine\", \"Gabon/Lambar\\u00e9n\\u00e9/Albert Schweitzer Hospital\", \"Canada/Calgary/Alberta Children's Hospital\", \"Canada/Calgary/Alberta Health Services\", \"Romania/Iasi/Alexandru Ioan Cuza University\", \"India/New Delhi/All India Institute of Medical Sciences\", \"United States/Bethesda/American College of Medical Genetics\", \"Norway/Oslo/Animalia (Norway)\", \"Turkey/Ankara/Ankara University\", \"United Kingdom/London/Anthony Nolan\", \"Bahrain/Manama/Arabian Gulf University\", \"Greece/Thessaloniki/Aristotle University of Thessaloniki\", \"United States/Tempe/Arizona State University\", \"Japan/Tokyo/Astellas Pharma (Japan)\", \"Turkey/Erzurum/Atat\\u00fcrk University\", \"New Zealand/Auckland/Auckland City Hospital\", \"Australia/Canberra/Australian National University\", \"Spain/Cerdanyola del Vall\\u00e8s/Autonomous University of Barcelona\", \"Italy/Palermo/Azienda Ospedaliera Universitaria Policlinico \\\"Paolo Giaccone\\\" di Palermo\", \"Italy/Modena/Azienda Unita' Sanitaria Locale Di Modena\", \"India/Ahmedabad/B. V. Patel Pharmaceutical Education and Research Development Centre\", \"Canada/Vancouver/BC Cancer Agency\", \"United States/Muncie/Ball State University\", \"Italy/Rome/Bambino Ges\\u00f9 Children's Hospital\", \"Spain/Barcelona/Banc de Sang i Teixits\", \"United Kingdom/Bangor/Bangor University\", \"Iran/Tehran/Baqiyatallah University of Medical Sciences\", \"Israel/Ramat Gan/Bar-Ilan University\", \"Germany/Leverkusen/Bayer (Germany)\", \"United States/Houston/Baylor College of Medicine\", \"Turkey/Ankara/Ba\\u015fkent University\", \"Israel/Beersheba/Ben-Gurion University of the Negev\", \"Germany/Hamburg/Bernhard Nocht Institute for Tropical Medicine\", \"India/Mumbai/Bhabha Atomic Research Centre\", \"Poland/Bia\\u0142ystok/Bialystok University of Technology\", \"Germany/Bielefeld/Bielefeld University\", \"United States/Salt Lake City/BioFire Diagnostics (United States)\", \"Spain/Valencia/Biomedical Institute of Valencia\", \"Netherlands/Rijswijk/Biomedical Primate Research Centre\", \"France/Villeurbanne/Biometry and Evolutionary Biology Laboratory\", \"Iran/Birjand/Birjand University of Medical Sciences\", \"United Kingdom/Birmingham/Birmingham City Hospital\", \"Italy/Milan/Bocconi University\", \"France/Paris/Boehringer Ingelheim (France)\", \"Nigeria/Iwo/Bowen University\", \"Brazil/Campinas/Brazilian Center for Research in Energy and Materials\", \"United States/Boston/Brigham and Women's Hospital\", \"United Kingdom/Brighton/Brighton and Sussex Medical School\", \"United States/Providence/Brown University\", \"United Kingdom/London/Brunel University London\", \"Spain/Madrid/Cajal Institute\", \"United States/Pasadena/California Institute of Technology\", \"Canada/Ottawa/Canadian Red Cross Society\", \"Slovakia/Bratislava/Cancer Research Institute\", \"United Kingdom/Cardiff/Cardiff University\", \"Canada/Ottawa/Carleton University\", \"Spain/Madrid/Carlos III University of Madrid\", \"United States/Pittsburgh/Carnegie Mellon University\", \"Italy/San Giovanni Rotondo/Casa Sollievo della Sofferenza\", \"United States/Cleveland/Case Western Reserve University\", \"South Korea/Seoul/Catholic University of Korea\", \"Italy/Milan/Catholic University of the Sacred Heart\", \"Peru/Lima/Cayetano Heredia University\", \"United States/Seattle/Center for Infectious Disease Research\", \"France/Palaiseau/Center of Theoretical Physics\", \"France/Paris/Centre De Recherche en Math\\u00e9matiques de la D\\u00e9cision\", \"France/Amiens/Centre Hospitalier Universitaire D' Amiens\", \"France/Rouen/Centre Hospitalier Universitaire De Rouen\", \"Canada/Montreal/Centre Hospitalier Universitaire Sainte-Justine\", \"France/Nantes/Centre Hospitalier Universitaire de Nantes\", \"Burkina Faso/Bobo-Dioulasso/Centre Muraz\", \"Burkina Faso/Ouagadougou/Centre National de Recherche et de Formation sur le Paludisme\", \"France/Rennes/Centre Rennes\", \"Spain/Barcelona/Centre for Genomic Regulation\", \"United Kingdom/Newcastle upon Tyne/Centre for Life\", \"Germany/Berlin/Charit\\u00e9\", \"Czechia/Prague/Charles University\", \"Senegal/Dakar/Cheikh Anta Diop University\", \"Canada/Ottawa/Children's Hospital of Eastern Ontario\", \"United States/Pittsburgh/Children's Hospital of Pittsburgh\", \"United States/Birmingham/Children's of Alabama\", \"South Korea/Gwangju/Chonnam National University\", \"Australia/Camperdown/Chris O\\u2019Brien Lifehouse\", \"Thailand/Bangkok/Chulalongkorn University\", \"United States/Cincinnati/Cincinnati Children's Hospital Medical Center\", \"United States/Clemson/Clemson University\", \"United States/Cleveland/Cleveland Clinic\", \"Hungary/Budapest/Collegium Budapest\", \"United States/Fort Collins/Colorado State University\", \"United States/New York/Columbia University\", \"United Kingdom/Southampton/Community Network Services\", \"Spain/Madrid/Complutense University of Madrid\", \"United States/Cookeville/Cookeville Regional Medical Center\", \"United States/Ithaca/Cornell University\", \"South Africa/Pretoria/Council for Scientific and Industrial Research\", \"United Kingdom/Harrogate/Covance (United Kingdom)\", \"Germany/Hachenburg/DRK Krankenhaus Alzey\", \"Germany/Stuttgart/Daimler (Germany)\", \"United States/Hanover/Dartmouth College\", \"Australia/Canberra/Data61\", \"Australia/Canberra/Department of Health\", \"Australia/Melbourne/Department of Health and Human Services\", \"Germany/Hamburg/Deutsches Elektronen-Synchrotron DESY\", \"Turkey/Istanbul/Dr L\\u00fctfi K\\u0131rdar Kartal E\\u011fitim ve Ara\\u015ft\\u0131rma Hastanesi\", \"United States/Philadelphia/Drexel University\", \"United States/Durham/Duke University\", \"Turkey/K\\u00fctahya/Dumlupinar University\", \"France/Montpellier/Dynamique des Interactions Membranaires Normales et Pathologiques\", \"France/Toulouse/D\\u00e9l\\u00e9gation Midi-Pyr\\u00e9n\\u00e9es, Limousin\", \"Switzerland/Zurich/ETH Zurich\", \"United States/Johnson City/East Tennessee State University\", \"Ireland/Dublin/Economic and Social Research Institute\", \"United States/Atlanta/Emory University\", \"Netherlands/Rotterdam/Erasmus University Medical Center\", \"Turkey/Erzurum/Erzurum Regional Training and Research Hospital\", \"Turkey/Eski\\u015fehir/Eski\\u015fehir Osmangazi University\", \"United Kingdom/Cambridge/European Bioinformatics Institute\", \"Sweden/Stockholm/European Centre for Disease Prevention and Control\", \"Austria/Vienna/European Centre for Social Welfare Policy and Research\", \"Belgium/Brussels/European Commission\", \"Italy/Milan/European Institute of Oncology\", \"Germany/Heidelberg/European Molecular Biology Laboratory\", \"Italy/Milan/European School of Oncology\", \"South Korea/Seoul/Ewha Womans University\", \"Italy/Milan/FIRC Institute of Molecular Oncology\", \"Germany/Bonn/Federal Institute for Drugs and Medical Devices\", \"Brazil/Natal/Federal University of Rio Grande do Norte\", \"Brazil/Rio de Janeiro/Federal University of Rio de Janeiro\", \"United States/Manhasset/Feinstein Institute for Medical Research\", \"China/Hangzhou/First Affiliated Hospital Zhejiang University\", \"United States/Boca Raton/Florida Atlantic University\", \"Italy/Trento/Fondazione Bruno Kessler\", \"Italy/San Michele all'Adige/Fondazione Edmund Mach\", \"Italy/Milan/Fondazione IRCCS Ca' Granda Ospedale Maggiore Policlinico\", \"Italy/Veruno/Fondazione Salvatore Maugeri\", \"Italy/Rome/Fondazione Santa Lucia\", \"Italy/Tirrenia/Fondazione Stella Maris\", \"Italy/Rome/Food and Agriculture Organization of the United Nations\", \"Germany/J\\u00fclich/Forschungszentrum J\\u00fclich\", \"Switzerland/Geneva/Foundation for Innovative New Diagnostics\", \"Greece/Heraklion/Foundation for Research and Technology Hellas\", \"United States/Bethesda/Foundation for the National Institutes of Health\", \"Germany/Sankt Augustin/Fraunhofer Institute for Algorithms and Scientific Computing\", \"France/Paris/French National Centre for Scientific Research\", \"Germany/Jena/Friedrich Schiller University Jena\", \"Japan/Toyoake/Fujita Health University\", \"Spain/Santiago de Compostela/Fundaci\\u00f3n P\\u00fablica Galega de Medicina Xen\\u00f3mica\", \"Turkey/El\\u00e2z\\u0131\\u011f/F\\u0131rat University\", \"Japan/Tokyo/Gakushuin University\", \"United States/Washington D.C./Genetic Alliance\", \"United States/Washington D.C./George Washington University\", \"Germany/Heidelberg/German Cancer Research Center\", \"Belgium/Ghent/Ghent University\", \"Belgium/Ghent/Ghent University Hospital\", \"United States/New York/Goddard Institute for Space Studies\", \"United States/Greenbelt/Goddard Space Flight Center\", \"Germany/Frankfurt am Main/Goethe University Frankfurt\", \"Australia/Brisbane/Griffith University\", \"Turkey/Ankara/Hacettepe University\", \"Germany/Hamburg/Hamburg University of Applied Sciences\", \"Germany/Hanover/Hannover Medical School\", \"United Kingdom/Harrogate/Harrogate District Hospital\", \"United States/Cambridge/Harvard University\", \"Turkey/Istanbul/Haseki E\\u011fitim ve Ara\\u015ft\\u0131rma Hastanesi\", \"Canada/Ottawa/Health Canada\", \"United Kingdom/Bootle/Health and Safety Executive\", \"Israel/Jerusalem/Hebrew University of Jerusalem\", \"Germany/Heidelberg/Heidelberg University\", \"Germany/D\\u00fcsseldorf/Heinrich Heine University D\\u00fcsseldorf\", \"Germany/Krefeld/Helios Klinikum Krefeld\", \"Greece/Athens/Hellenic Center for Disease Control & Prevention\", \"Germany/Braunschweig/Helmholtz Centre for Infection Research\", \"Finland/Helsinki/Helsinki University Central Hospital\", \"China/Nanjing/Hohai University\", \"China/Hong Kong/Hong Kong Baptist University\", \"Spain/Barcelona/Hospital Del Mar\", \"Spain/Madrid/Hospital General Universitario Gregorio Mara\\u00f1\\u00f3n\", \"Chile/Santiago/Hospital Luis Calvo Mackenna\", \"Spain/Reus/Hospital Universitari Sant Joan de Reus\", \"Spain/Santa Cruz de Tenerife/Hospital Universitario Nuestra Se\\u00f1ora de Candelaria\", \"Spain/Madrid/Hospital Universitario Ram\\u00f3n y Cajal\", \"Venezuela/Caracas/Hospital Vargas\", \"Canada/Toronto/Hospital for Sick Children\", \"United Kingdom/London/Hospital for Tropical Diseases\", \"Croatia/Zagreb/Hrvatski zavod za javno zdravstvo\", \"Italy/Rozzano/Humanitas Research Hospital\", \"United States/New York/Hunter College\", \"Denmark/Hvidovre/Hvidovre Hospital\", \"France/Bobigny/H\\u00f4pital Avicenne\", \"France/Paris/H\\u00f4pital Bichat-Claude-Bernard\", \"France/Paris/H\\u00f4pital Cochin\", \"France/Marseille/H\\u00f4pital Nord\", \"France/Bordeaux/H\\u00f4pital Pellegrin\", \"France/Limoges/H\\u00f4pital Universitaire Dupuytren\", \"France/Marseille/H\\u00f4pital de la Timone\", \"United States/Yorktown Heights/IBM Research \\u2013 Thomas J. Watson Research Center\", \"Italy/Udine/IN Financing & Project Management\", \"Italy/Pisa/INFN Sezione di Pisa\", \"Italy/Trieste/IRCCS Materno Infantile Burlo Garofolo\", \"United States/New York/Icahn School of Medicine at Mount Sinai\", \"United States/Normal/Illinois State University\", \"United Kingdom/London/Imperial College London\", \"India/Bengaluru/Indian Institute of Science Bangalore\", \"India/Shimla/Indira Gandhi Medical College\", \"Austria/Innsbruck/Innsbruck Medical University\", \"France/Paris/Inserm\", \"Morocco/Rabat/Institut Agronomique et V\\u00e9t\\u00e9rinaire Hassan II\", \"France/Villejuif/Institut Gustave Roussy\", \"Spain/Barcelona/Institut Hospital del Mar d'Investigacions M\\u00e8diques\", \"Morocco/Rabat/Institut National d'Hygi\\u00e8ne du Maroc\", \"France/Paris/Institut Pasteur\", \"Senegal/Dakar/Institut Pasteur de Dakar\", \"Madagascar/Antananarivo/Institut Pasteur de Madagascar\", \"Tunisia/Tunis/Institut Pasteur de Tunis\", \"Cambodia/Phnom Penh/Institut Pasteur du Cambodge\", \"France/Nice/Institut de Physique de Nice\", \"France/Strasbourg/Institut de Recherche Math\\u00e9matique Avanc\\u00e9e\", \"Burkina Faso/Ouagadougou/Institut de Recherche en Sciences de la Sant\\u00e9\", \"Benin/Cotonou/Institut de Recherche pour le D\\u00e9veloppement\", \"France/Marseille/Institut de Recherche pour le D\\u00e9veloppement\", \"France/Paris/Institute Curie\", \"Italy/Messina/Institute for Chemical and Physical Processes\", \"Iran/Tehran/Institute for Research in Fundamental Sciences\", \"Italy/Turin/Institute for Scientific Interchange\", \"Italy/Turin/Institute for Sustainable Plant Protection\", \"United Kingdom/London/Institute of Cancer Research\", \"Greece/Athens/Institute of Child Health\", \"Poland/Warsaw/Institute of Computer Science\", \"Italy/Bari/Institute of Crystallography\", \"Italy/Bologna/Institute of Organic Synthesis and Photoreactivity\", \"Poland/Warsaw/Institute of Physical Chemistry\", \"Poland/Warsaw/Institute of Physics\", \"Italy/Naples/Institute of Protein Biochemistry\", \"Poland/Pu\\u0142awy/Institute of Soil Science and Plant Cultivation\", \"Belgium/Antwerp/Institute of Tropical Medicine Antwerp\", \"Brazil/S\\u00e3o Paulo/Instituto Butantan\", \"Portugal/Oeiras/Instituto Gulbenkian de Ci\\u00eancia\", \"Mexico/Cuernavaca/Instituto Nacional de Salud P\\u00fablica\", \"Brazil/Rio de Janeiro/Instituto Nacional do C\\u00e2ncer\", \"Spain/Madrid/Instituto de Salud Carlos III\", \"Poland/Warsaw/Instytut Biologii Do\\u015bwiadczalnej im. Marcelego Nenckiego\", \"France/Lyon/International Agency For Research On Cancer\", \"India/New Delhi/International Centre for Genetic Engineering and Biotechnology\", \"Italy/Rome/International Fund for Agricultural Development\", \"Burkina Faso/Ouagadougou/International Institute for Water and Environmental Engineering\", \"Italy/Vicenza/International Renal Research Institute of Vicenza\", \"United States/Ames/Iowa State University\", \"Iran/Tehran/Iran University of Medical Sciences\", \"Germany/Hamburg/Israelitisches Krankenhaus\", \"Turkey/Istanbul/Istanbul University\", \"Turkey/Istanbul/Istanbul University Cerrahpa\\u015fa\", \"Italy/Rome/Istituti Fisioterapici Ospitalieri\", \"Italy/Rome/Istituto Dermopatico dell'Immacolata\", \"Italy/Genoa/Istituto Giannina Gaslini\", \"Italy/Milan/Istituto Nazionale Genetica Molecolare\", \"Italy/Milan/Istituto Nazionale dei Tumori\", \"Italy/Rome/Istituto Nazionale di Ricerca per gli Alimenti e la Nutrizione\", \"Italy/Rome/Istituto Nazionale per l'Assicurazione Contro gli Infortuni sul Lavoro\", \"Italy/Rome/Istituto Nazionale per le Malattie Infettive Lazzaro Spallanzani\", \"Italy/Milan/Istituto Neurologico Carlo Besta\", \"Italy/Rome/Istituto Pasteur\", \"Italy/Meldola/Istituto Scientifico Romagnolo per lo Studio e la Cura dei Tumori\", \"Italy/Rome/Istituto Superiore di Sanit\\u00e0\", \"Italy/Palermo/Istituto Zooprofilattico Sperimentale Della Sicilia\", \"Italy/Legnaro/Istituto Zooprofilattico Sperimentale delle Venezie\", \"Italy/Pisa/Istituto di Fisiologia Clinica\", \"Italy/Pavia/Istituto di Genetica Molecolare\", \"Italy/Pavia/Istituto di Matematica Applicata e Tecnologie Informatiche\", \"Italy/Milan/Italian Association for Cancer Research\", \"Italy/Genoa/Italian Institute of Technology\", \"United States/La Jolla/J. Craig Venter Institute\", \"India/New Delhi/Jamia Millia Islamia\", \"France/Saint-Etienne/Jean Monnet University\", \"Japan/Tokyo/Jikei University School of Medicine\", \"Germany/Mainz/Johannes Gutenberg University of Mainz\", \"United Kingdom/Oxford/John Radcliffe Hospital\", \"United States/Baltimore/Johns Hopkins Medicine\", \"United States/Baltimore/Johns Hopkins University\", \"Italy/Ispra/Joint Research Centre\", \"Slovenia/Ljubljana/Jo\\u017eef Stefan Institute\", \"Turkey/Kahramanmara\\u015f/Kahramanmara\\u015f S\\u00fct\\u00e7\\u00fc \\u0130mam University\", \"Japan/Kanazawa/Kanazawa University\", \"Japan/Osaka/Kansai Medical University\", \"Israel/Tel Aviv/Kaplan Medical Center\", \"Germany/Karlsruhe/Karlsruhe Institute of Technology\", \"Sweden/Stockholm/Karolinska Institute\", \"Sweden/Stockholm/Karolinska University Hospital\", \"Russia/Kazan\\u2019/Kazan Federal University\", \"Kenya/Nairobi/Kenya Medical Research Institute\", \"Kenya/Nairobi/Kenyatta University\", \"Iran/Kerman/Kerman University of Medical Sciences\", \"Germany/Kiel/Kiel University\", \"Tanzania/Moshi/Kilimanjaro Christian Medical Centre\", \"Turkey/Kilis/Kilis 7 Aral\\u0131k University\", \"Saudi Arabia/Jeddah/King Abdulaziz University\", \"Australia/Subiaco/King Edward Memorial Hospital\", \"United Kingdom/London/King's College London\", \"Germany/Hanau/Klinikum Hanau\", \"Germany/Munich/Klinikum der Universit\\u00e4t M\\u00fcnchen\", \"Japan/Kobe/Kobe University\", \"South Korea/Cheongju-si/Korea National Institute of Health\", \"South Korea/Daejeon/Korea Research Institute of Bioscience and Biotechnology\", \"Kuwait/Kuwait City/Kuwait University\", \"Ghana/Kumasi/Kwame Nkrumah University of Science and Technology\", \"Japan/Kyoto/Kyoto University\", \"Turkey/K\\u0131r\\u0131kkale/K\\u0131r\\u0131kkale University\", \"Australia/Melbourne/La Trobe University\", \"France/Paris/Laboratoire Jacques-Louis Lions\", \"France/Aubi\\u00e8re/Laboratoire de Physique Corpusculaire\", \"Nigeria/Ikeja/Lagos State University\", \"Argentina/Buenos Aires/Latin American and Caribbean Society of Medical Oncology\", \"Netherlands/Leiden/Leiden University\", \"Netherlands/Leiden/Leiden University Medical Center\", \"Germany/Leipzig/Leipzig University\", \"Italy/Rome/Libera Universit\\u00e0 Maria SS. Assunta\", \"Sweden/Link\\u00f6ping/Link\\u00f6ping University\", \"Sweden/Link\\u00f6ping/Link\\u00f6ping University Hospital\", \"United States/Rochester/Litron Laboratories\", \"United Kingdom/Liverpool/Liverpool School of Tropical Medicine\", \"United States/Austin/Livestrong Foundation\", \"United Kingdom/London/London School of Hygiene & Tropical Medicine\", \"United States/New Hyde Park/Long Island Jewish Medical Center\", \"United States/Los Alamos/Los Alamos National Laboratory\", \"United States/Palo Alto/Lucile Packard Children's Hospital\", \"Germany/Munich/Ludwig Maximilian University of Munich\", \"United States/Lexington/MIT Lincoln Laboratory\", \"United Kingdom/Cambridge/MRC Epidemiology Unit\", \"United Kingdom/Cambridge/MRC Mitochondrial Biology Unit\", \"Netherlands/Maastricht/Maastricht University\", \"Netherlands/Maastricht/Maastricht University Medical Centre\", \"Australia/Sydney/Macquarie University\", \"Spain/Madrid/Madrid Institute for Advanced Studies\", \"Italy/Catanzaro/Magna Graecia University\", \"Thailand/Bangkok/Mahidol University\", \"Uganda/Kampala/Makerere University\", \"Malawi/Blantyre/Malawi-Liverpool-Wellcome Trust Clinical Research Programme\", \"Mozambique/Maputo/Manhi\\u00e7a Health Research Centre\", \"Italy/Ancona/Marche Polytechnic University\", \"Turkey/Erzurum/Mare\\u015fal \\u00c7akmak Askeri Hastanesi\", \"Italy/Milan/Mario Negri Institute for Pharmacological Research\", \"Italy/Mozzagrogna/Mario Negri Sud Foundation\", \"Turkey/Istanbul/Marmara University\", \"United States/Marshfield/Marshfield Clinic\", \"Iran/Mashhad/Mashhad University of Medical Sciences\", \"United States/Boston/Massachusetts General Hospital\", \"United States/Cambridge/Massachusetts Institute of Technology\", \"Australia/Brisbane/Mater Health Services\", \"India/New Delhi/Maulana Azad Medical College\", \"Germany/Hamburg/Max Planck Institute for Meteorology\", \"Canada/Montreal/McGill University\", \"Canada/Hamilton/McMaster University\", \"United Kingdom/Oxford/Medical Research Council Harwell\", \"Gambia/Banjul/Medical Research Council The Gambia Unit\", \"Austria/Graz/Medical University of Graz\", \"Bulgaria/Varna/Medical University of Varna\", \"Austria/Vienna/Medical University of Vienna\", \"Poland/Warsaw/Medical University of Warsaw\", \"Switzerland/Geneva/Medicines for Malaria Venture\", \"Canada/St. John's/Memorial University of Newfoundland\", \"United States/East Lansing/Michigan State University\", \"United Kingdom/London/Middlesex University\", \"Italy/Rome/Ministero degli Affari Esteri\", \"Italy/Rome/Ministero della Salute\", \"Malaysia/Putrajaya/Ministry of Health\", \"Tanzania/Dar es Salaam/Ministry of Health and Social Welfare\", \"Cameroon/Yaound\\u00e9/Ministry of Public Health\", \"Cameroon/Yaound\\u00e9/Ministry of Scientific Research and Innovation\", \"Japan/Tokyo/Mitsubishi Chemical Holdings (Japan)\", \"France/Cr\\u00e9teil/Mondor Institute of Biomedical Research\", \"United States/The Bronx/Montefiore Medical Center\", \"United Kingdom/Penicuik/Moredun Foundation\", \"Tanzania/Dar es Salaam/Muhimbili University of Health and Allied Sciences\", \"France/Paris/Mus\\u00e9e de l'Homme\", \"Turkey/Mu\\u011fla/Mu\\u011fla University\", \"Belgium/Brussels/M\\u00e9decins Sans Fronti\\u00e8res\", \"United Kingdom/Watford/NHS Blood and Transplant\", \"Japan/Nagasaki/Nagasaki University\", \"Japan/Nagoya/Nagoya City University\", \"Turkey/Tekirda\\u011f/Nam\\u0131k Kemal University\", \"Italy/Rome/National Agency For New Technologies, Energy and Sustainable Economic Development\", \"South Korea/Goyang-si/National Cancer Center\", \"Singapore/Singapore/National Cancer Centre Singapore\", \"United States/Rockville/National Cancer Institute\", \"Japan/Tokyo/National Center of Neurology and Psychiatry\", \"United States/Atlanta/National Center on Birth Defects and Developmental Disabilities\", \"India/Pune/National Centre for Cell Science\", \"United States/Bethesda/National Human Genome Research Institute\", \"United Kingdom/Potters Bar/National Institute for Biological Standards and Control\", \"Tanzania/Dar es Salaam/National Institute for Medical Research\", \"Netherlands/De Bilt/National Institute for Public Health and the Environment\", \"United States/Bethesda/National Institute of Allergy and Infectious Diseases\", \"United States/Bethesda/National Institute of Arthritis and Musculoskeletal and Skin Diseases\", \"United States/Durham/National Institute of Environmental Health Sciences\", \"India/New Delhi/National Institute of Immunology\", \"Italy/Rome/National Institute of Statistics\", \"United States/Baltimore/National Institute on Aging\", \"United States/Bethesda/National Institutes of Health\", \"United States/Washington D.C./National Park Service\", \"Italy/Rome/National Research Council\", \"Singapore/Singapore/National Skin Centre\", \"Argentina/C\\u00f3rdoba/National University of C\\u00f3rdoba\", \"Greece/Athens/National and Kapodistrian University of Athens\", \"United Kingdom/London/Natural History Museum\", \"Ghana/Navrongo/Navrongo Health Research Centre\", \"France/Paris/Necker-Enfants Malades Hospital\", \"Turkey/Konya/Necmettin Erbakan University\", \"Netherlands/Delft/Netherlands Organisation for Applied Scientific Research\", \"United States/La Jolla/Neurosciences Institute\", \"United States/New York/New York Botanical Garden\", \"United States/New York/New York University\", \"United Kingdom/Newcastle upon Tyne/Newcastle University\", \"France/Nice/Nice Sophia Antipolis University\", \"Ghana/Accra/Noguchi Memorial Institute for Medical Research\", \"United States/Raleigh/North Carolina State University\", \"United States/Boston/Northeastern University\", \"China/Xi'an/Northwest University\", \"United States/Evanston/Northwestern University\", \"Norway/Oslo/Norwegian Institute of Public Health\", \"Norway/\\u00c5s/Norwegian University of Life Sciences\", \"United Kingdom/Nottingham/Nottingham City Hospital\", \"Italy/Origgio/Novartis (Italy)\", \"Switzerland/Basel/Novartis (Switzerland)\", \"Nigeria/Ilesa/Obafemi Awolowo University\", \"France/Nantes/Oniris\", \"United States/New York/Open Society Foundations\", \"United States/Portland/Oregon Health & Science University\", \"Cameroon/Yaound\\u00e9/Organisation de Coordination pour la lutte contre les End\\u00e9mies en Afrique Centrale\", \"Japan/Osaka/Osaka City University\", \"Japan/Osaka/Osaka University\", \"Norway/Oslo/OsloMet \\u2013 Oslo Metropolitan University\", \"Italy/Bologna/Ospedale Bellaria\", \"Italy/Turin/Ospedale Humanitas Gradenigo\", \"Italy/Rimini/Ospedale Infermi di Rimini\", \"Italy/Naples/Ospedale Monaldi\", \"Italy/Bergamo/Ospedale Papa Giovanni XXIII\", \"Italy/Negrar/Ospedale Sacro Cuore Don Calabria\", \"Italy/Vicenza/Ospedale San Bortolo\", \"Italy/Turin/Ospedale San Giovanni Bosco\", \"Italy/Genoa/Ospedale San Martino\", \"Italy/Palermo/Ospedale Vincenzo Cervello\", \"Brazil/Rio de Janeiro/Oswaldo Cruz Foundation\", \"Germany/Magdeburg/Otto-von-Guericke University Magdeburg\", \"Vietnam/Ho Chi Minh City/Oxford University Clinical Research Unit\", \"Turkey/Denizli/Pamukkale University\", \"Papua New Guinea/Goroka/Papua New Guinea Institute of Medical Research\", \"France/Paris/Paris 12 Val de Marne University\", \"France/Paris/Paris Descartes University\", \"France/Paris/Paris Diderot University\", \"France/Lille/Pasteur Institute of Lille\", \"France/Toulouse/Paul Sabatier University\", \"United States/State College/Pennsylvania State University\", \"Russia/Saint Petersburg/Peter the Great St. Petersburg Polytechnic University\", \"United States/New York/Pfizer (United States)\", \"United Kingdom/Woking/Pirbright Institute\", \"France/Paris/Piti\\u00e9-Salp\\u00eatri\\u00e8re Hospital\", \"Italy/Bologna/Policlinico S.Orsola-Malpighi\", \"Italy/San Donato Milanese/Policlinico San Donato\", \"Italy/Pavia/Policlinico San Matteo Fondazione\", \"Italy/Rome/Policlinico Tor Vergata\", \"Italy/Milan/Polytechnic University of Milan\", \"Spain/Barcelona/Pompeu Fabra University\", \"United States/Princeton/Princeton University\", \"Switzerland/Lancy/Procter & Gamble (Switzerland)\", \"Sweden/Solna/Public Health Agency of Sweden\", \"United Kingdom/London/Public Health England\", \"United States/West Lafayette/Purdue University West Lafayette\", \"Australia/Brisbane/QIMR Berghofer Medical Research Institute\", \"Japan/Wako/RIKEN\", \"Germany/Aachen/RWTH Aachen University\", \"Israel/Petah Tikva/Rabin Medical Center\", \"Netherlands/Nijmegen/Radboud University Nijmegen Medical Centre\", \"Thailand/Pathum Thani/Rangsit University\", \"France/Garches/Raymond Poincar\\u00e9 University Hospital\", \"Italy/Naples/Regione Campania\", \"United States/Troy/Rensselaer Polytechnic Institute\", \"Germany/Borstel/Research Center Borstel - Leibniz-Center for Medicine and Biosciences\", \"Russia/Tomsk/Research Institute of Medical Genetics of Russian Academy of Medical Sciences\", \"Denmark/Copenhagen/Rigshospitalet\", \"Saudi Arabia/Riyadh/Riyadh Armed Forces Hospital\", \"Germany/Berlin/Robert Koch Institute\", \"United States/New York/Rockefeller University\", \"Italy/Rome/Roma Tre University\", \"Australia/Brisbane/Royal Brisbane and Women's Hospital\", \"United Kingdom/London/Royal College of Psychiatrists\", \"Ireland/Dublin/Royal College of Surgeons in Ireland\", \"United Kingdom/London/Royal Free Hospital\", \"United Kingdom/Liverpool/Royal Liverpool University Hospital\", \"Australia/Melbourne/Royal Melbourne Hospital\", \"Australia/Sydney/Royal Prince Alfred Hospital\", \"Netherlands/Amsterdam/Royal Tropical Institute\", \"Germany/Bochum/Ruhr University Bochum\", \"United States/New Brunswick/Rutgers, The State University of New Jersey\", \"United States/Brooklyn/SUNY Downstate Medical Center\", \"Germany/Saarbr\\u00fccken/Saarland University\", \"United States/Moraga/Saint Mary's College of California\", \"Italy/Milan/San Raffaele Hospital\", \"Germany/Offenbach/Sana Klinikum Offenbach\", \"Italy/Rome/Sapienza University of Rome\", \"Turkey/Konya/Sel\\u00e7uk University\", \"Iran/Semnan/Semnan University of Medical Sciences\", \"Germany/Frankfurt am Main/Senckenberg Nature Research Society\", \"India/Aurangabad/Seth Nandlal Dhoot Hospital\", \"Iran/Tehran/Shahid Beheshti University of Medical Sciences\", \"Iran/Ahv\\u0101z/Shahid Chamran University of Ahvaz\", \"Iran/Yazd/Shahid Sadoughi University of Medical Sciences and Health Services\", \"China/Jinan/Shandong University\", \"Iran/Tehran/Sharif University of Technology\", \"Iran/Shiraz/Shiraz University\", \"Italy/Pomezia/Sigma Tau (Italy)\", \"Canada/Burnaby/Simon Fraser University\", \"Netherlands/Amsterdam/Slotervaartziekenhuis\", \"Tanzania/Morogoro/Sokoine University of Agriculture\", \"China/Suzhou/Soochow University\", \"France/Paris/Sorbonne University\", \"Israel/Beersheba/Soroka Medical Center\", \"South Africa/Cape Town/South African Medical Research Council\", \"China/Nanjing/Southeast University\", \"United Kingdom/London/St George's, University of London\", \"Australia/Fitzroy/St Vincents Institute of Medical Research\", \"United States/Memphis/St. Jude Children's Research Hospital\", \"India/Bengaluru/St.John's Medical College Hospital\", \"United States/Stanford/Stanford University\", \"Brazil/Campinas/State University of Campinas\", \"Italy/Naples/Stazione Zoologica Anton Dohrn\", \"South Africa/Stellenbosch/Stellenbosch University\", \"Sweden/Stockholm/Stockholm University\", \"Germany/Karlsruhe/St\\u00e4dtisches Klinikum Karlsruhe\", \"Canada/Toronto/Sunnybrook Health Science Centre\", \"United Kingdom/Swansea/Swansea University\", \"Switzerland/Basel/Swiss Tropical and Public Health Institute\", \"Turkey/Isparta/S\\u00fcleyman Demirel University\", \"Germany/Dresden/TU Dresden\", \"Saudi Arabia/Ta'if/Taif University\", \"Finland/Tampere/Tampere University\", \"Iran/Tehran/Tarbiat Modares University\", \"Romania/Cluj-Napoca/Technical University of Cluj-Napoca\", \"Denmark/Kongens Lyngby/Technical University of Denmark\", \"Spain/Madrid/Technical University of Madrid\", \"Germany/Munich/Technical University of Munich\", \"Israel/Haifa/Technion \\u2013 Israel Institute of Technology\", \"Ireland/Dublin/Technological University Dublin\", \"Iran/Tehran/Tehran University of Medical Sciences\", \"Israel/Tel Aviv/Tel Aviv University\", \"Norway/Sandvika/Telenor (Norway)\", \"Italy/Naples/Telethon Institute Of Genetics And Medicine\", \"United States/College Station/Texas A&M Health Science Center\", \"United States/College Station/Texas A&M University\", \"United States/Houston/Texas Children's Hospital\", \"United States/Lubbock/Texas Tech University Health Sciences Center\", \"United Kingdom/London/The Francis Crick Institute\", \"United States/Columbus/The Ohio State University\", \"United States/Galveston/The University of Texas Medical Branch at Galveston\", \"United States/Arlington/The University of Texas at Arlington\", \"United States/San Antonio/The University of Texas at San Antonio\", \"United States/Philadelphia/Thomas Jefferson University\", \"China/Tianjin/Tianjin University of Traditional Chinese Medicine\", \"Japan/Sendai/Tohoku University\", \"Japan/Tokyo/Tokyo Institute of Technology\", \"Japan/Tokyo/Tokyo Medical University\", \"Japan/Tokyo/Tokyo Medical and Dental University\", \"Japan/Tokyo/Tokyo Women's Medical University\", \"France/Illkirch-Graffenstaden/Transgene (France)\", \"Ireland/Dublin/Trinity College Dublin\", \"United States/Medford/Tufts University\", \"Italy/Viterbo/Tuscia University\", \"Turkey/Bursa/Uluda\\u011f University\", \"United Kingdom/London/Unilever (United Kingdom)\", \"Switzerland/Geneva/Union for International Cancer Control\", \"United States/Reston/United States Geological Survey\", \"Brazil/Belo Horizonte/Universidade Federal de Minas Gerais\", \"Brazil/Fortaleza/Universidade Federal do Cear\\u00e1\", \"Portugal/Lisbon/Universidade Nova de Lisboa\", \"Malaysia/Seri Kembangan/Universiti Putra Malaysia\", \"Switzerland/Basel/University Children\\u2019s Hospital Basel\", \"Ireland/Cork/University College Cork\", \"United Kingdom/London/University College London\", \"United Kingdom/Coventry/University Hospital Coventry\", \"Germany/Heidelberg/University Hospital Heidelberg\", \"Germany/M\\u00fcnster/University Hospital M\\u00fcnster\", \"Switzerland/Geneva/University Hospital of Geneva\", \"Switzerland/Lausanne/University Hospital of Lausanne\", \"United Kingdom/Leicester/University Hospitals of Leicester NHS Trust\", \"Germany/Freiburg/University Medical Center Freiburg\", \"Netherlands/Groningen/University Medical Center Groningen\", \"Zambia/Lusaka/University Teaching Hospital\", \"United States/Albany/University at Albany, State University of New York\", \"United States/Birmingham/University of Alabama at Birmingham\", \"Canada/Edmonton/University of Alberta\", \"Netherlands/Amsterdam/University of Amsterdam\", \"United States/Tucson/University of Arizona\", \"United States/Little Rock/University of Arkansas System\", \"United States/Little Rock/University of Arkansas for Medical Sciences\", \"Germany/Augsburg/University of Augsburg\", \"Iraq/Al Hillah/University of Babylon\", \"Mali/Bamako/University of Bamako\", \"Spain/Barcelona/University of Barcelona\", \"Italy/Bari/University of Bari Aldo Moro\", \"Switzerland/Bern/University of Bern\", \"Italy/Bologna/University of Bologna\", \"Germany/Bonn/University of Bonn\", \"France/Bordeaux/University of Bordeaux\", \"Brazil/Bras\\u00edlia/University of Bras\\u00edlia\", \"Italy/Brescia/University of Brescia\", \"United Kingdom/Bristol/University of Bristol\", \"Canada/Vancouver/University of British Columbia\", \"Cameroon/Buea/University of Buea\", \"Argentina/Buenos Aires/University of Buenos Aires\", \"France/Dijon/University of Burgundy\", \"Italy/Cagliari/University of Cagliari\", \"Italy/Cosenza/University of Calabria\", \"Canada/Calgary/University of Calgary\", \"United States/Oakland/University of California System\", \"United States/Berkeley/University of California, Berkeley\", \"United States/Davis/University of California, Davis\", \"United States/Los Angeles/University of California, Los Angeles\", \"United States/Riverside/University of California, Riverside\", \"United States/San Diego/University of California, San Diego\", \"United Kingdom/Cambridge/University of Cambridge\", \"Italy/Camerino/University of Camerino\", \"Italy/Caserta/University of Campania \\\"Luigi Vanvitelli\\\"\", \"South Africa/Rondebosch/University of Cape Town\", \"Italy/Catania/University of Catania\", \"United States/Chicago/University of Chicago\", \"United States/Chicago/University of Chicago Medical Center\", \"Chile/Santiago/University of Chile\", \"Germany/Cologne/University of Cologne\", \"Sri Lanka/Colombo/University of Colombo\", \"United States/Denver/University of Colorado Denver\", \"Denmark/Copenhagen/University of Copenhagen\", \"France/Corte/University of Corsica Pascal Paoli\", \"Greece/Rethymno/University of Crete\", \"United States/Newark/University of Delaware\", \"Finland/Kuopio/University of Eastern Finland\", \"United Kingdom/Edinburgh/University of Edinburgh\", \"Germany/Erlangen/University of Erlangen-Nuremberg\", \"Italy/Ferrara/University of Ferrara\", \"Italy/Florence/University of Florence\", \"United States/Gainesville/University of Florida\", \"Italy/Foggia/University of Foggia\", \"Germany/Freiburg/University of Freiburg\", \"Switzerland/Geneva/University of Geneva\", \"Italy/Genoa/University of Genoa\", \"United States/Athens/University of Georgia\", \"Germany/Giessen/University of Giessen\", \"United Kingdom/Glasgow/University of Glasgow\", \"Germany/G\\u00f6ttingen/University of G\\u00f6ttingen\", \"United States/Honolulu/University of Hawaii at Manoa\", \"Finland/Helsinki/University of Helsinki\", \"India/Hyderabad/University of Hyderabad\", \"Nigeria/Ibadan/University of Ibadan\", \"United States/Chicago/University of Illinois at Chicago\", \"Italy/Varese/University of Insubria\", \"Greece/Ioannina/University of Ioannina\", \"United States/Iowa City/University of Iowa\", \"United States/Lawrence/University of Kansas\", \"United Kingdom/Canterbury/University of Kent\", \"Sudan/Khartoum/University of Khartoum\", \"Germany/Konstanz/University of Konstanz\", \"South Africa/Durban/University of KwaZulu-Natal\", \"Switzerland/Lausanne/University of Lausanne\", \"United Kingdom/Leeds/University of Leeds\", \"United Kingdom/Leicester/University of Leicester\", \"France/Lille/University of Lille\", \"Ireland/Limerick/University of Limerick\", \"Portugal/Lisbon/University of Lisbon\", \"United Kingdom/Liverpool/University of Liverpool\", \"Slovenia/Ljubljana/University of Ljubljana\", \"United Kingdom/London/University of London\", \"France/Nancy/University of Lorraine\", \"United States/Louisville/University of Louisville\", \"Germany/L\\u00fcbeck/University of L\\u00fcbeck\", \"Malawi/Zomba/University of Malawi\", \"United Kingdom/Manchester/University of Manchester\", \"United States/Baltimore/University of Maryland, Baltimore\", \"United States/College Park/University of Maryland, College Park\", \"Australia/Melbourne/University of Melbourne\", \"Italy/Messina/University of Messina\", \"United States/Ann Arbor/University of Michigan\\u2013Ann Arbor\", \"United States/Dearborn/University of Michigan\\u2013Dearborn\", \"Italy/Milan/University of Milan\", \"Italy/Milan/University of Milano-Bicocca\", \"Portugal/Braga/University of Minho\", \"United States/Minneapolis/University of Minnesota\", \"United States/Jackson/University of Mississippi Medical Center\", \"Italy/Modena/University of Modena and Reggio Emilia\", \"France/Montpellier/University of Montpellier\", \"Canada/Montreal/University of Montreal\", \"Iraq/Mosul/University of Mosul\", \"Germany/M\\u00fcnster/University of M\\u00fcnster\", \"Italy/Naples/University of Naples Federico II\", \"United States/Lincoln/University of Nebraska\\u2013Lincoln\", \"Canada/Fredericton/University of New Brunswick\", \"Australia/Armidale/University of New England\", \"Australia/Newcastle/University of Newcastle Australia\", \"United States/Chapel Hill/University of North Carolina at Chapel Hill\", \"United States/Notre Dame/University of Notre Dame\", \"United Kingdom/Nottingham/University of Nottingham\", \"France/Orl\\u00e9ans/University of Orl\\u00e9ans\", \"Burkina Faso/Ouagadougou/University of Ouagadougou\", \"United Kingdom/Oxford/University of Oxford\", \"Italy/Padova/University of Padua\", \"Italy/Palermo/University of Palermo\", \"France/Orsay/University of Paris-Sud\", \"Italy/Parma/University of Parma\", \"Greece/P\\u00e1trai/University of Patras\", \"Italy/Pavia/University of Pavia\", \"United States/Philadelphia/University of Pennsylvania\", \"Italy/Perugia/University of Perugia\", \"France/Amiens/University of Picardie Jules Verne\", \"Italy/Pisa/University of Pisa\", \"United States/Pittsburgh/University of Pittsburgh\", \"Portugal/Porto/University of Porto\", \"South Africa/Pretoria/University of Pretoria\", \"Australia/Brisbane/University of Queensland\", \"United Kingdom/Reading/University of Reading\", \"Germany/Regensburg/University of Regensburg\", \"Italy/Reggio Calabria/University of Reggio Calabria\", \"United States/Rochester/University of Rochester\", \"United States/Rochester/University of Rochester Medical Center\", \"Italy/Rome/University of Rome Tor Vergata\", \"Germany/Rostock/University of Rostock\", \"France/Rouen/University of Rouen\", \"Italy/Lecce/University of Salento\", \"Italy/Fisciano/University of Salerno\", \"Italy/Benevento/University of Sannio\", \"Chile/Santiago/University of Santiago Chile\", \"Brazil/S\\u00e3o Paulo/University of Sao Paulo\", \"Canada/Saskatoon/University of Saskatchewan\", \"Italy/Sassari/University of Sassari\", \"Bangladesh/Chittagong/University of Science and Technology Chittagong\", \"United Kingdom/Sheffield/University of Sheffield\", \"Italy/Siena/University of Siena\", \"United States/Columbia/University of South Carolina\", \"United States/Los Angeles/University of Southern California\", \"Denmark/Odense/University of Southern Denmark\", \"United Kingdom/Glasgow/University of Strathclyde\", \"United Kingdom/Brighton/University of Sussex\", \"Australia/Sydney/University of Sydney\", \"Australia/Hobart/University of Tasmania\", \"United States/Memphis/University of Tennessee Health Science Center\", \"Albania/Tirana/University of Tirana\", \"Japan/Tokyo/University of Tokyo\", \"Canada/Toronto/University of Toronto\", \"Italy/Trento/University of Trento\", \"Italy/Trieste/University of Trieste\", \"Portugal/Vila Real/University of Tr\\u00e1s-os-Montes and Alto Douro\", \"Italy/Turin/University of Turin\", \"Finland/Turku/University of Turku\", \"Germany/T\\u00fcbingen/University of T\\u00fcbingen\", \"Italy/Udine/University of Udine\", \"Germany/Ulm/University of Ulm\", \"Italy/Urbino/University of Urbino\", \"United States/Burlington/University of Vermont\", \"Italy/Verona/University of Verona\", \"United Kingdom/Coventry/University of Warwick\", \"United States/Seattle/University of Washington\", \"Germany/Wurzburg/University of W\\u00fcrzburg\", \"United Kingdom/York/University of York\", \"Croatia/Zagreb/University of Zagreb\", \"Spain/Zaragoza/University of Zaragoza\", \"Switzerland/Zurich/University of Zurich\", \"Spain/Leioa/University of the Basque Country\", \"United Kingdom/Bristol/University of the West of England\", \"Italy/Rome/Universit\\u00e0 Campus Bio-Medico\", \"Germany/T\\u00fcbingen/Universit\\u00e4tsklinikum T\\u00fcbingen\", \"Germany/Rostock/Universit\\u00e4tsmedizin Rostock\", \"Canada/Qu\\u00e9bec/Universit\\u00e9 Laval\", \"Sweden/Uppsala/Uppsala University\", \"Netherlands/Utrecht/Utrecht University\", \"Netherlands/Amsterdam/VU Amsterdam\", \"United States/Nashville/Vanderbilt University\", \"Austria/Vienna/Vienna General Hospital\", \"United States/Richmond/Virginia Commonwealth University\", \"United States/Blacksburg/Virginia Tech\", \"United States/St Louis/Washington University in St. Louis\", \"United Kingdom/Oxford/Wellcome Centre for Human Genetics\", \"United Kingdom/Glasgow/Wellcome Centre for Molecular Parasitology\", \"United Kingdom/Cambridge/Wellcome Sanger Institute\", \"United Kingdom/London/Wellcome Trust\", \"Australia/Adelaide/Women's and Children's Hospital\", \"Italy/Rome/World Food Programme\", \"Switzerland/Geneva/World Health Organization\", \"Italy/Rome/World Health Organization - Italy\", \"Republic of the Congo/Brazzaville/World Health Organization Regional Office for Africa\", \"Egypt/Cairo/World Health Organization Regional Office for the Eastern Mediterranean\", \"United States/Dayton/Wright State University\", \"United States/New Haven/Yale University\", \"Japan/Yamaguchi/Yamaguchi University\", \"China/Yangzhou/Yangzhou University\", \"South Korea/Seoul/Yonsei University\", \"United Kingdom/York/York Hospital\", \"Turkey/Van/Y\\u00fcz\\u00fcnc\\u00fc Y\\u0131l University\", \"France/Caen/\\u00c9cole Nationale Sup\\u00e9rieure d'ing\\u00e9nieurs De Caen\", \"France/Paris/\\u00c9cole Normale Sup\\u00e9rieure\", \"Switzerland/Lausanne/\\u00c9cole Polytechnique F\\u00e9d\\u00e9rale de Lausanne\", \"Germany/Aachen\", \"Denmark/Aarhus\", \"Ghana/Accra\", \"Ethiopia/Addis Ababa\", \"Australia/Adelaide\", \"India/Ahmedabad\", \"Iran/Ahv\\u0101z\", \"Iraq/Al Hillah\", \"United States/Albany\", \"United States/Ames\", \"France/Amiens\", \"Netherlands/Amsterdam\", \"Italy/Ancona\", \"Turkey/Ankara\", \"United States/Ann Arbor\", \"Turkey/Antalya\", \"Madagascar/Antananarivo\", \"Belgium/Antwerp\", \"United States/Arlington\", \"Australia/Armidale\", \"Greece/Athens\", \"United States/Athens\", \"United States/Atlanta\", \"France/Aubi\\u00e8re\", \"New Zealand/Auckland\", \"Germany/Augsburg\", \"India/Aurangabad\", \"United States/Austin\", \"United States/Baltimore\", \"Mali/Bamako\", \"Thailand/Bangkok\", \"United Kingdom/Bangor\", \"Gambia/Banjul\", \"Spain/Barcelona\", \"Italy/Bari\", \"Switzerland/Basel\", \"Israel/Beersheba\", \"Brazil/Belo Horizonte\", \"Italy/Benevento\", \"India/Bengaluru\", \"Italy/Bergamo\", \"United States/Berkeley\", \"Germany/Berlin\", \"Switzerland/Bern\", \"United States/Bethesda\", \"Poland/Bia\\u0142ystok\", \"Germany/Bielefeld\", \"Iran/Birjand\", \"United Kingdom/Birmingham\", \"United States/Birmingham\", \"United States/Blacksburg\", \"Malawi/Blantyre\", \"France/Bobigny\", \"Burkina Faso/Bobo-Dioulasso\", \"United States/Boca Raton\", \"Germany/Bochum\", \"Italy/Bologna\", \"Germany/Bonn\", \"United Kingdom/Bootle\", \"France/Bordeaux\", \"Germany/Borstel\", \"United States/Boston\", \"Portugal/Braga\", \"Brazil/Bras\\u00edlia\", \"Slovakia/Bratislava\", \"Germany/Braunschweig\", \"Republic of the Congo/Brazzaville\", \"Italy/Brescia\", \"United Kingdom/Brighton\", \"Australia/Brisbane\", \"United Kingdom/Bristol\", \"United States/Brooklyn\", \"Belgium/Brussels\", \"Hungary/Budapest\", \"Cameroon/Buea\", \"Argentina/Buenos Aires\", \"United States/Burlington\", \"Canada/Burnaby\", \"Turkey/Bursa\", \"France/Caen\", \"Italy/Cagliari\", \"Egypt/Cairo\", \"Canada/Calgary\", \"United Kingdom/Cambridge\", \"United States/Cambridge\", \"Italy/Camerino\", \"Australia/Camperdown\", \"Brazil/Campinas\", \"Australia/Canberra\", \"United Kingdom/Canterbury\", \"South Africa/Cape Town\", \"Venezuela/Caracas\", \"United Kingdom/Cardiff\", \"Italy/Caserta\", \"Italy/Catania\", \"Italy/Catanzaro\", \"Spain/Cerdanyola del Vall\\u00e8s\", \"United States/Chapel Hill\", \"South Korea/Cheongju-si\", \"United States/Chicago\", \"Bangladesh/Chittagong\", \"United States/Cincinnati\", \"United States/Clemson\", \"United States/Cleveland\", \"Romania/Cluj-Napoca\", \"United States/College Park\", \"United States/College Station\", \"Germany/Cologne\", \"Sri Lanka/Colombo\", \"United States/Columbia\", \"United States/Columbus\", \"United States/Cookeville\", \"Denmark/Copenhagen\", \"Ireland/Cork\", \"France/Corte\", \"Italy/Cosenza\", \"Benin/Cotonou\", \"United Kingdom/Coventry\", \"France/Cr\\u00e9teil\", \"Mexico/Cuernavaca\", \"Argentina/C\\u00f3rdoba\", \"South Korea/Daejeon\", \"Senegal/Dakar\", \"Tanzania/Dar es Salaam\", \"United States/Davis\", \"United States/Dayton\", \"Netherlands/De Bilt\", \"United States/Dearborn\", \"Netherlands/Delft\", \"Turkey/Denizli\", \"United States/Denver\", \"France/Dijon\", \"Germany/Dresden\", \"Ireland/Dublin\", \"South Africa/Durban\", \"United States/Durham\", \"Germany/D\\u00fcsseldorf\", \"United States/East Lansing\", \"United Kingdom/Edinburgh\", \"Canada/Edmonton\", \"Turkey/El\\u00e2z\\u0131\\u011f\", \"Germany/Erlangen\", \"Turkey/Erzurum\", \"Turkey/Eski\\u015fehir\", \"United States/Evanston\", \"Italy/Ferrara\", \"Italy/Fisciano\", \"Australia/Fitzroy\", \"Italy/Florence\", \"Italy/Foggia\", \"United States/Fort Collins\", \"Brazil/Fortaleza\", \"Germany/Frankfurt am Main\", \"Canada/Fredericton\", \"Germany/Freiburg\", \"United States/Gainesville\", \"United States/Galveston\", \"France/Garches\", \"Switzerland/Geneva\", \"Italy/Genoa\", \"Belgium/Ghent\", \"Germany/Giessen\", \"United Kingdom/Glasgow\", \"Papua New Guinea/Goroka\", \"South Korea/Goyang-si\", \"Austria/Graz\", \"United States/Greenbelt\", \"Netherlands/Groningen\", \"South Korea/Gwangju\", \"Germany/G\\u00f6ttingen\", \"Germany/Hachenburg\", \"Israel/Haifa\", \"Germany/Hamburg\", \"Canada/Hamilton\", \"Germany/Hanau\", \"China/Hangzhou\", \"Germany/Hanover\", \"United States/Hanover\", \"United Kingdom/Harrogate\", \"Germany/Heidelberg\", \"Finland/Helsinki\", \"Greece/Heraklion\", \"Vietnam/Ho Chi Minh City\", \"Australia/Hobart\", \"China/Hong Kong\", \"United States/Honolulu\", \"United States/Houston\", \"Denmark/Hvidovre\", \"India/Hyderabad\", \"Romania/Iasi\", \"Nigeria/Ibadan\", \"Nigeria/Ikeja\", \"Nigeria/Ilesa\", \"France/Illkirch-Graffenstaden\", \"Austria/Innsbruck\", \"Greece/Ioannina\", \"United States/Iowa City\", \"Turkey/Isparta\", \"Italy/Ispra\", \"Turkey/Istanbul\", \"United States/Ithaca\", \"Nigeria/Iwo\", \"United States/Jackson\", \"Saudi Arabia/Jeddah\", \"Germany/Jena\", \"Israel/Jerusalem\", \"China/Jinan\", \"United States/Johnson City\", \"Germany/J\\u00fclich\", \"Turkey/Kahramanmara\\u015f\", \"Uganda/Kampala\", \"Japan/Kanazawa\", \"Germany/Karlsruhe\", \"Russia/Kazan\\u2019\", \"Iran/Kerman\", \"Sudan/Khartoum\", \"Germany/Kiel\", \"Turkey/Kilis\", \"Japan/Kobe\", \"Denmark/Kongens Lyngby\", \"Germany/Konstanz\", \"Turkey/Konya\", \"Germany/Krefeld\", \"Ghana/Kumasi\", \"Finland/Kuopio\", \"Kuwait/Kuwait City\", \"Japan/Kyoto\", \"Turkey/K\\u00fctahya\", \"Turkey/K\\u0131r\\u0131kkale\", \"United States/La Jolla\", \"Gabon/Lambar\\u00e9n\\u00e9\", \"Switzerland/Lancy\", \"Switzerland/Lausanne\", \"United States/Lawrence\", \"Italy/Lecce\", \"United Kingdom/Leeds\", \"Italy/Legnaro\", \"United Kingdom/Leicester\", \"Netherlands/Leiden\", \"Spain/Leioa\", \"Germany/Leipzig\", \"Germany/Leverkusen\", \"United States/Lexington\", \"France/Lille\", \"Peru/Lima\", \"Ireland/Limerick\", \"France/Limoges\", \"United States/Lincoln\", \"Sweden/Link\\u00f6ping\", \"Portugal/Lisbon\", \"United States/Little Rock\", \"United Kingdom/Liverpool\", \"Slovenia/Ljubljana\", \"United Kingdom/London\", \"United States/Los Alamos\", \"United States/Los Angeles\", \"United States/Louisville\", \"United States/Lubbock\", \"Zambia/Lusaka\", \"France/Lyon\", \"Germany/L\\u00fcbeck\", \"Netherlands/Maastricht\", \"Spain/Madrid\", \"Germany/Magdeburg\", \"Germany/Mainz\", \"Bahrain/Manama\", \"United Kingdom/Manchester\", \"United States/Manhasset\", \"Mozambique/Maputo\", \"France/Marseille\", \"United States/Marshfield\", \"Iran/Mashhad\", \"United States/Medford\", \"Australia/Melbourne\", \"Italy/Meldola\", \"United States/Memphis\", \"Italy/Messina\", \"Italy/Milan\", \"United States/Minneapolis\", \"Italy/Modena\", \"France/Montpellier\", \"Canada/Montreal\", \"United States/Moraga\", \"Tanzania/Morogoro\", \"Tanzania/Moshi\", \"Iraq/Mosul\", \"Italy/Mozzagrogna\", \"India/Mumbai\", \"United States/Muncie\", \"Germany/Munich\", \"Turkey/Mu\\u011fla\", \"Germany/M\\u00fcnster\", \"Japan/Nagasaki\", \"Japan/Nagoya\", \"Kenya/Nairobi\", \"France/Nancy\", \"China/Nanjing\", \"France/Nantes\", \"Italy/Naples\", \"United States/Nashville\", \"Brazil/Natal\", \"Ghana/Navrongo\", \"Italy/Negrar\", \"United States/New Brunswick\", \"India/New Delhi\", \"United States/New Haven\", \"United States/New Hyde Park\", \"United States/New York\", \"United States/Newark\", \"Australia/Newcastle\", \"United Kingdom/Newcastle upon Tyne\", \"France/Nice\", \"Netherlands/Nijmegen\", \"United States/Normal\", \"United States/Notre Dame\", \"United Kingdom/Nottingham\", \"United States/Oakland\", \"Denmark/Odense\", \"Portugal/Oeiras\", \"Germany/Offenbach\", \"Japan/Okayama\", \"Italy/Origgio\", \"France/Orl\\u00e9ans\", \"France/Orsay\", \"Japan/Osaka\", \"Norway/Oslo\", \"Canada/Ottawa\", \"Burkina Faso/Ouagadougou\", \"United Kingdom/Oxford\", \"Italy/Padova\", \"France/Palaiseau\", \"Italy/Palermo\", \"United States/Palo Alto\", \"France/Paris\", \"Italy/Parma\", \"United States/Pasadena\", \"Thailand/Pathum Thani\", \"Italy/Pavia\", \"United Kingdom/Penicuik\", \"Italy/Perugia\", \"Israel/Petah Tikva\", \"United States/Philadelphia\", \"Cambodia/Phnom Penh\", \"Italy/Pisa\", \"United States/Pittsburgh\", \"Italy/Pomezia\", \"United States/Portland\", \"Portugal/Porto\", \"United Kingdom/Potters Bar\", \"Czechia/Prague\", \"South Africa/Pretoria\", \"United States/Princeton\", \"United States/Providence\", \"India/Pune\", \"Malaysia/Putrajaya\", \"Poland/Pu\\u0142awy\", \"Greece/P\\u00e1trai\", \"Canada/Qu\\u00e9bec\", \"Morocco/Rabat\", \"United States/Raleigh\", \"Israel/Ramat Gan\", \"United Kingdom/Reading\", \"Germany/Regensburg\", \"Italy/Reggio Calabria\", \"France/Rennes\", \"United States/Reston\", \"Greece/Rethymno\", \"Spain/Reus\", \"United States/Richmond\", \"Netherlands/Rijswijk\", \"Italy/Rimini\", \"Brazil/Rio de Janeiro\", \"United States/Riverside\", \"Saudi Arabia/Riyadh\", \"United States/Rochester\", \"United States/Rockville\", \"Italy/Rome\", \"South Africa/Rondebosch\", \"Germany/Rostock\", \"Netherlands/Rotterdam\", \"France/Rouen\", \"Italy/Rozzano\", \"Germany/Saarbr\\u00fccken\", \"Russia/Saint Petersburg\", \"France/Saint-Etienne\", \"United States/Salt Lake City\", \"United States/San Antonio\", \"United States/San Diego\", \"Italy/San Donato Milanese\", \"Italy/San Giovanni Rotondo\", \"Italy/San Michele all'Adige\", \"Norway/Sandvika\", \"Germany/Sankt Augustin\", \"Spain/Santa Cruz de Tenerife\", \"Chile/Santiago\", \"Spain/Santiago de Compostela\", \"Canada/Saskatoon\", \"Italy/Sassari\", \"United States/Seattle\", \"Iran/Semnan\", \"Japan/Sendai\", \"South Korea/Seoul\", \"Malaysia/Seri Kembangan\", \"United Kingdom/Sheffield\", \"India/Shimla\", \"Iran/Shiraz\", \"Italy/Siena\", \"Singapore/Singapore\", \"Sweden/Solna\", \"United Kingdom/Southampton\", \"United States/St Louis\", \"Canada/St. John's\", \"United States/Stanford\", \"United States/State College\", \"South Africa/Stellenbosch\", \"Sweden/Stockholm\", \"France/Strasbourg\", \"Germany/Stuttgart\", \"Australia/Subiaco\", \"South Korea/Suwon\", \"China/Suzhou\", \"United Kingdom/Swansea\", \"Australia/Sydney\", \"Brazil/S\\u00e3o Paulo\", \"Saudi Arabia/Ta'if\", \"Finland/Tampere\", \"Iran/Tehran\", \"Turkey/Tekirda\\u011f\", \"Israel/Tel Aviv\", \"United States/Tempe\", \"United States/The Bronx\", \"Greece/Thessaloniki\", \"China/Tianjin\", \"Albania/Tirana\", \"Italy/Tirrenia\", \"Japan/Tokyo\", \"Russia/Tomsk\", \"Canada/Toronto\", \"France/Toulouse\", \"Japan/Toyoake\", \"Italy/Trento\", \"Italy/Trieste\", \"United States/Troy\", \"United States/Tucson\", \"Tunisia/Tunis\", \"Italy/Turin\", \"Finland/Turku\", \"Germany/T\\u00fcbingen\", \"Italy/Udine\", \"Germany/Ulm\", \"Sweden/Uppsala\", \"Italy/Urbino\", \"Netherlands/Utrecht\", \"Spain/Valencia\", \"Turkey/Van\", \"Canada/Vancouver\", \"Italy/Varese\", \"Bulgaria/Varna\", \"Italy/Verona\", \"Italy/Veruno\", \"Italy/Vicenza\", \"Austria/Vienna\", \"Portugal/Vila Real\", \"France/Villejuif\", \"France/Villeurbanne\", \"Italy/Viterbo\", \"Japan/Wako\", \"Poland/Warsaw\", \"United States/Washington D.C.\", \"United Kingdom/Watford\", \"United States/West Lafayette\", \"United Kingdom/Woking\", \"Germany/Wurzburg\", \"China/Xi'an\", \"Japan/Yamaguchi\", \"China/Yangzhou\", \"Cameroon/Yaound\\u00e9\", \"Iran/Yazd\", \"United Kingdom/York\", \"United States/Yorktown Heights\", \"Croatia/Zagreb\", \"Spain/Zaragoza\", \"Malawi/Zomba\", \"Switzerland/Zurich\", \"Norway/\\u00c5s\", \"Albania\", \"Argentina\", \"Australia\", \"Austria\", \"Bahrain\", \"Bangladesh\", \"Belgium\", \"Benin\", \"Brazil\", \"Bulgaria\", \"Burkina Faso\", \"Cambodia\", \"Cameroon\", \"Canada\", \"Chile\", \"China\", \"Croatia\", \"Czechia\", \"Denmark\", \"Egypt\", \"Ethiopia\", \"Finland\", \"France\", \"Gabon\", \"Gambia\", \"Germany\", \"Ghana\", \"Greece\", \"Hungary\", \"India\", \"Iran\", \"Iraq\", \"Ireland\", \"Israel\", \"Italy\", \"Japan\", \"Kenya\", \"Kuwait\", \"Madagascar\", \"Malawi\", \"Malaysia\", \"Mali\", \"Mexico\", \"Morocco\", \"Mozambique\", \"Netherlands\", \"New Zealand\", \"Nigeria\", \"Norway\", \"Papua New Guinea\", \"Peru\", \"Poland\", \"Portugal\", \"Republic of the Congo\", \"Romania\", \"Russia\", \"Saudi Arabia\", \"Senegal\", \"Singapore\", \"Slovakia\", \"Slovenia\", \"South Africa\", \"South Korea\", \"Spain\", \"Sri Lanka\", \"Sudan\", \"Sweden\", \"Switzerland\", \"Tanzania\", \"Thailand\", \"Tunisia\", \"Turkey\", \"Uganda\", \"United Kingdom\", \"United States\", \"Venezuela\", \"Vietnam\", \"Zambia\"], \"labels\": [\"AREA Science Park\", \"Aarhus University\", \"Aarhus University Hospital\", \"Abt Associates (United States)\", \"Academic Medical Center\", \"Addis Ababa University\", \"African Palliative Care Association\", \"Agenzia Sanitaria e Sociale Regionale\", \"Aix-Marseille University\", \"Ajou University\", \"Akdeniz University\", \"Akebono Clinic\", \"Albert Einstein College of Medicine\", \"Albert Schweitzer Hospital\", \"Alberta Children's Hospital\", \"Alberta Health Services\", \"Alexandru Ioan Cuza University\", \"All India Institute of Medical Sciences\", \"American College of Medical Genetics\", \"Animalia (Norway)\", \"Ankara University\", \"Anthony Nolan\", \"Arabian Gulf University\", \"Aristotle University of Thessaloniki\", \"Arizona State University\", \"Astellas Pharma (Japan)\", \"Atat\\u00fcrk University\", \"Auckland City Hospital\", \"Australian National University\", \"Autonomous University of Barcelona\", \"Azienda Ospedaliera Universitaria Policlinico \\\"Paolo Giaccone\\\" di Palermo\", \"Azienda Unita' Sanitaria Locale Di Modena\", \"B. V. Patel Pharmaceutical Education and Research Development Centre\", \"BC Cancer Agency\", \"Ball State University\", \"Bambino Ges\\u00f9 Children's Hospital\", \"Banc de Sang i Teixits\", \"Bangor University\", \"Baqiyatallah University of Medical Sciences\", \"Bar-Ilan University\", \"Bayer (Germany)\", \"Baylor College of Medicine\", \"Ba\\u015fkent University\", \"Ben-Gurion University of the Negev\", \"Bernhard Nocht Institute for Tropical Medicine\", \"Bhabha Atomic Research Centre\", \"Bialystok University of Technology\", \"Bielefeld University\", \"BioFire Diagnostics (United States)\", \"Biomedical Institute of Valencia\", \"Biomedical Primate Research Centre\", \"Biometry and Evolutionary Biology Laboratory\", \"Birjand University of Medical Sciences\", \"Birmingham City Hospital\", \"Bocconi University\", \"Boehringer Ingelheim (France)\", \"Bowen University\", \"Brazilian Center for Research in Energy and Materials\", \"Brigham and Women's Hospital\", \"Brighton and Sussex Medical School\", \"Brown University\", \"Brunel University London\", \"Cajal Institute\", \"California Institute of Technology\", \"Canadian Red Cross Society\", \"Cancer Research Institute\", \"Cardiff University\", \"Carleton University\", \"Carlos III University of Madrid\", \"Carnegie Mellon University\", \"Casa Sollievo della Sofferenza\", \"Case Western Reserve University\", \"Catholic University of Korea\", \"Catholic University of the Sacred Heart\", \"Cayetano Heredia University\", \"Center for Infectious Disease Research\", \"Center of Theoretical Physics\", \"Centre De Recherche en Math\\u00e9matiques de la D\\u00e9cision\", \"Centre Hospitalier Universitaire D' Amiens\", \"Centre Hospitalier Universitaire De Rouen\", \"Centre Hospitalier Universitaire Sainte-Justine\", \"Centre Hospitalier Universitaire de Nantes\", \"Centre Muraz\", \"Centre National de Recherche et de Formation sur le Paludisme\", \"Centre Rennes\", \"Centre for Genomic Regulation\", \"Centre for Life\", \"Charit\\u00e9\", \"Charles University\", \"Cheikh Anta Diop University\", \"Children's Hospital of Eastern Ontario\", \"Children's Hospital of Pittsburgh\", \"Children's of Alabama\", \"Chonnam National University\", \"Chris O\\u2019Brien Lifehouse\", \"Chulalongkorn University\", \"Cincinnati Children's Hospital Medical Center\", \"Clemson University\", \"Cleveland Clinic\", \"Collegium Budapest\", \"Colorado State University\", \"Columbia University\", \"Community Network Services\", \"Complutense University of Madrid\", \"Cookeville Regional Medical Center\", \"Cornell University\", \"Council for Scientific and Industrial Research\", \"Covance (United Kingdom)\", \"DRK Krankenhaus Alzey\", \"Daimler (Germany)\", \"Dartmouth College\", \"Data61\", \"Department of Health\", \"Department of Health and Human Services\", \"Deutsches Elektronen-Synchrotron DESY\", \"Dr L\\u00fctfi K\\u0131rdar Kartal E\\u011fitim ve Ara\\u015ft\\u0131rma Hastanesi\", \"Drexel University\", \"Duke University\", \"Dumlupinar University\", \"Dynamique des Interactions Membranaires Normales et Pathologiques\", \"D\\u00e9l\\u00e9gation Midi-Pyr\\u00e9n\\u00e9es, Limousin\", \"ETH Zurich\", \"East Tennessee State University\", \"Economic and Social Research Institute\", \"Emory University\", \"Erasmus University Medical Center\", \"Erzurum Regional Training and Research Hospital\", \"Eski\\u015fehir Osmangazi University\", \"European Bioinformatics Institute\", \"European Centre for Disease Prevention and Control\", \"European Centre for Social Welfare Policy and Research\", \"European Commission\", \"European Institute of Oncology\", \"European Molecular Biology Laboratory\", \"European School of Oncology\", \"Ewha Womans University\", \"FIRC Institute of Molecular Oncology\", \"Federal Institute for Drugs and Medical Devices\", \"Federal University of Rio Grande do Norte\", \"Federal University of Rio de Janeiro\", \"Feinstein Institute for Medical Research\", \"First Affiliated Hospital Zhejiang University\", \"Florida Atlantic University\", \"Fondazione Bruno Kessler\", \"Fondazione Edmund Mach\", \"Fondazione IRCCS Ca' Granda Ospedale Maggiore Policlinico\", \"Fondazione Salvatore Maugeri\", \"Fondazione Santa Lucia\", \"Fondazione Stella Maris\", \"Food and Agriculture Organization of the United Nations\", \"Forschungszentrum J\\u00fclich\", \"Foundation for Innovative New Diagnostics\", \"Foundation for Research and Technology Hellas\", \"Foundation for the National Institutes of Health\", \"Fraunhofer Institute for Algorithms and Scientific Computing\", \"French National Centre for Scientific Research\", \"Friedrich Schiller University Jena\", \"Fujita Health University\", \"Fundaci\\u00f3n P\\u00fablica Galega de Medicina Xen\\u00f3mica\", \"F\\u0131rat University\", \"Gakushuin University\", \"Genetic Alliance\", \"George Washington University\", \"German Cancer Research Center\", \"Ghent University\", \"Ghent University Hospital\", \"Goddard Institute for Space Studies\", \"Goddard Space Flight Center\", \"Goethe University Frankfurt\", \"Griffith University\", \"Hacettepe University\", \"Hamburg University of Applied Sciences\", \"Hannover Medical School\", \"Harrogate District Hospital\", \"Harvard University\", \"Haseki E\\u011fitim ve Ara\\u015ft\\u0131rma Hastanesi\", \"Health Canada\", \"Health and Safety Executive\", \"Hebrew University of Jerusalem\", \"Heidelberg University\", \"Heinrich Heine University D\\u00fcsseldorf\", \"Helios Klinikum Krefeld\", \"Hellenic Center for Disease Control & Prevention\", \"Helmholtz Centre for Infection Research\", \"Helsinki University Central Hospital\", \"Hohai University\", \"Hong Kong Baptist University\", \"Hospital Del Mar\", \"Hospital General Universitario Gregorio Mara\\u00f1\\u00f3n\", \"Hospital Luis Calvo Mackenna\", \"Hospital Universitari Sant Joan de Reus\", \"Hospital Universitario Nuestra Se\\u00f1ora de Candelaria\", \"Hospital Universitario Ram\\u00f3n y Cajal\", \"Hospital Vargas\", \"Hospital for Sick Children\", \"Hospital for Tropical Diseases\", \"Hrvatski zavod za javno zdravstvo\", \"Humanitas Research Hospital\", \"Hunter College\", \"Hvidovre Hospital\", \"H\\u00f4pital Avicenne\", \"H\\u00f4pital Bichat-Claude-Bernard\", \"H\\u00f4pital Cochin\", \"H\\u00f4pital Nord\", \"H\\u00f4pital Pellegrin\", \"H\\u00f4pital Universitaire Dupuytren\", \"H\\u00f4pital de la Timone\", \"IBM Research \\u2013 Thomas J. Watson Research Center\", \"IN Financing & Project Management\", \"INFN Sezione di Pisa\", \"IRCCS Materno Infantile Burlo Garofolo\", \"Icahn School of Medicine at Mount Sinai\", \"Illinois State University\", \"Imperial College London\", \"Indian Institute of Science Bangalore\", \"Indira Gandhi Medical College\", \"Innsbruck Medical University\", \"Inserm\", \"Institut Agronomique et V\\u00e9t\\u00e9rinaire Hassan II\", \"Institut Gustave Roussy\", \"Institut Hospital del Mar d'Investigacions M\\u00e8diques\", \"Institut National d'Hygi\\u00e8ne du Maroc\", \"Institut Pasteur\", \"Institut Pasteur de Dakar\", \"Institut Pasteur de Madagascar\", \"Institut Pasteur de Tunis\", \"Institut Pasteur du Cambodge\", \"Institut de Physique de Nice\", \"Institut de Recherche Math\\u00e9matique Avanc\\u00e9e\", \"Institut de Recherche en Sciences de la Sant\\u00e9\", \"Institut de Recherche pour le D\\u00e9veloppement\", \"Institut de Recherche pour le D\\u00e9veloppement\", \"Institute Curie\", \"Institute for Chemical and Physical Processes\", \"Institute for Research in Fundamental Sciences\", \"Institute for Scientific Interchange\", \"Institute for Sustainable Plant Protection\", \"Institute of Cancer Research\", \"Institute of Child Health\", \"Institute of Computer Science\", \"Institute of Crystallography\", \"Institute of Organic Synthesis and Photoreactivity\", \"Institute of Physical Chemistry\", \"Institute of Physics\", \"Institute of Protein Biochemistry\", \"Institute of Soil Science and Plant Cultivation\", \"Institute of Tropical Medicine Antwerp\", \"Instituto Butantan\", \"Instituto Gulbenkian de Ci\\u00eancia\", \"Instituto Nacional de Salud P\\u00fablica\", \"Instituto Nacional do C\\u00e2ncer\", \"Instituto de Salud Carlos III\", \"Instytut Biologii Do\\u015bwiadczalnej im. Marcelego Nenckiego\", \"International Agency For Research On Cancer\", \"International Centre for Genetic Engineering and Biotechnology\", \"International Fund for Agricultural Development\", \"International Institute for Water and Environmental Engineering\", \"International Renal Research Institute of Vicenza\", \"Iowa State University\", \"Iran University of Medical Sciences\", \"Israelitisches Krankenhaus\", \"Istanbul University\", \"Istanbul University Cerrahpa\\u015fa\", \"Istituti Fisioterapici Ospitalieri\", \"Istituto Dermopatico dell'Immacolata\", \"Istituto Giannina Gaslini\", \"Istituto Nazionale Genetica Molecolare\", \"Istituto Nazionale dei Tumori\", \"Istituto Nazionale di Ricerca per gli Alimenti e la Nutrizione\", \"Istituto Nazionale per l'Assicurazione Contro gli Infortuni sul Lavoro\", \"Istituto Nazionale per le Malattie Infettive Lazzaro Spallanzani\", \"Istituto Neurologico Carlo Besta\", \"Istituto Pasteur\", \"Istituto Scientifico Romagnolo per lo Studio e la Cura dei Tumori\", \"Istituto Superiore di Sanit\\u00e0\", \"Istituto Zooprofilattico Sperimentale Della Sicilia\", \"Istituto Zooprofilattico Sperimentale delle Venezie\", \"Istituto di Fisiologia Clinica\", \"Istituto di Genetica Molecolare\", \"Istituto di Matematica Applicata e Tecnologie Informatiche\", \"Italian Association for Cancer Research\", \"Italian Institute of Technology\", \"J. Craig Venter Institute\", \"Jamia Millia Islamia\", \"Jean Monnet University\", \"Jikei University School of Medicine\", \"Johannes Gutenberg University of Mainz\", \"John Radcliffe Hospital\", \"Johns Hopkins Medicine\", \"Johns Hopkins University\", \"Joint Research Centre\", \"Jo\\u017eef Stefan Institute\", \"Kahramanmara\\u015f S\\u00fct\\u00e7\\u00fc \\u0130mam University\", \"Kanazawa University\", \"Kansai Medical University\", \"Kaplan Medical Center\", \"Karlsruhe Institute of Technology\", \"Karolinska Institute\", \"Karolinska University Hospital\", \"Kazan Federal University\", \"Kenya Medical Research Institute\", \"Kenyatta University\", \"Kerman University of Medical Sciences\", \"Kiel University\", \"Kilimanjaro Christian Medical Centre\", \"Kilis 7 Aral\\u0131k University\", \"King Abdulaziz University\", \"King Edward Memorial Hospital\", \"King's College London\", \"Klinikum Hanau\", \"Klinikum der Universit\\u00e4t M\\u00fcnchen\", \"Kobe University\", \"Korea National Institute of Health\", \"Korea Research Institute of Bioscience and Biotechnology\", \"Kuwait University\", \"Kwame Nkrumah University of Science and Technology\", \"Kyoto University\", \"K\\u0131r\\u0131kkale University\", \"La Trobe University\", \"Laboratoire Jacques-Louis Lions\", \"Laboratoire de Physique Corpusculaire\", \"Lagos State University\", \"Latin American and Caribbean Society of Medical Oncology\", \"Leiden University\", \"Leiden University Medical Center\", \"Leipzig University\", \"Libera Universit\\u00e0 Maria SS. Assunta\", \"Link\\u00f6ping University\", \"Link\\u00f6ping University Hospital\", \"Litron Laboratories\", \"Liverpool School of Tropical Medicine\", \"Livestrong Foundation\", \"London School of Hygiene & Tropical Medicine\", \"Long Island Jewish Medical Center\", \"Los Alamos National Laboratory\", \"Lucile Packard Children's Hospital\", \"Ludwig Maximilian University of Munich\", \"MIT Lincoln Laboratory\", \"MRC Epidemiology Unit\", \"MRC Mitochondrial Biology Unit\", \"Maastricht University\", \"Maastricht University Medical Centre\", \"Macquarie University\", \"Madrid Institute for Advanced Studies\", \"Magna Graecia University\", \"Mahidol University\", \"Makerere University\", \"Malawi-Liverpool-Wellcome Trust Clinical Research Programme\", \"Manhi\\u00e7a Health Research Centre\", \"Marche Polytechnic University\", \"Mare\\u015fal \\u00c7akmak Askeri Hastanesi\", \"Mario Negri Institute for Pharmacological Research\", \"Mario Negri Sud Foundation\", \"Marmara University\", \"Marshfield Clinic\", \"Mashhad University of Medical Sciences\", \"Massachusetts General Hospital\", \"Massachusetts Institute of Technology\", \"Mater Health Services\", \"Maulana Azad Medical College\", \"Max Planck Institute for Meteorology\", \"McGill University\", \"McMaster University\", \"Medical Research Council Harwell\", \"Medical Research Council The Gambia Unit\", \"Medical University of Graz\", \"Medical University of Varna\", \"Medical University of Vienna\", \"Medical University of Warsaw\", \"Medicines for Malaria Venture\", \"Memorial University of Newfoundland\", \"Michigan State University\", \"Middlesex University\", \"Ministero degli Affari Esteri\", \"Ministero della Salute\", \"Ministry of Health\", \"Ministry of Health and Social Welfare\", \"Ministry of Public Health\", \"Ministry of Scientific Research and Innovation\", \"Mitsubishi Chemical Holdings (Japan)\", \"Mondor Institute of Biomedical Research\", \"Montefiore Medical Center\", \"Moredun Foundation\", \"Muhimbili University of Health and Allied Sciences\", \"Mus\\u00e9e de l'Homme\", \"Mu\\u011fla University\", \"M\\u00e9decins Sans Fronti\\u00e8res\", \"NHS Blood and Transplant\", \"Nagasaki University\", \"Nagoya City University\", \"Nam\\u0131k Kemal University\", \"National Agency For New Technologies, Energy and Sustainable Economic Development\", \"National Cancer Center\", \"National Cancer Centre Singapore\", \"National Cancer Institute\", \"National Center of Neurology and Psychiatry\", \"National Center on Birth Defects and Developmental Disabilities\", \"National Centre for Cell Science\", \"National Human Genome Research Institute\", \"National Institute for Biological Standards and Control\", \"National Institute for Medical Research\", \"National Institute for Public Health and the Environment\", \"National Institute of Allergy and Infectious Diseases\", \"National Institute of Arthritis and Musculoskeletal and Skin Diseases\", \"National Institute of Environmental Health Sciences\", \"National Institute of Immunology\", \"National Institute of Statistics\", \"National Institute on Aging\", \"National Institutes of Health\", \"National Park Service\", \"National Research Council\", \"National Skin Centre\", \"National University of C\\u00f3rdoba\", \"National and Kapodistrian University of Athens\", \"Natural History Museum\", \"Navrongo Health Research Centre\", \"Necker-Enfants Malades Hospital\", \"Necmettin Erbakan University\", \"Netherlands Organisation for Applied Scientific Research\", \"Neurosciences Institute\", \"New York Botanical Garden\", \"New York University\", \"Newcastle University\", \"Nice Sophia Antipolis University\", \"Noguchi Memorial Institute for Medical Research\", \"North Carolina State University\", \"Northeastern University\", \"Northwest University\", \"Northwestern University\", \"Norwegian Institute of Public Health\", \"Norwegian University of Life Sciences\", \"Nottingham City Hospital\", \"Novartis (Italy)\", \"Novartis (Switzerland)\", \"Obafemi Awolowo University\", \"Oniris\", \"Open Society Foundations\", \"Oregon Health & Science University\", \"Organisation de Coordination pour la lutte contre les End\\u00e9mies en Afrique Centrale\", \"Osaka City University\", \"Osaka University\", \"OsloMet \\u2013 Oslo Metropolitan University\", \"Ospedale Bellaria\", \"Ospedale Humanitas Gradenigo\", \"Ospedale Infermi di Rimini\", \"Ospedale Monaldi\", \"Ospedale Papa Giovanni XXIII\", \"Ospedale Sacro Cuore Don Calabria\", \"Ospedale San Bortolo\", \"Ospedale San Giovanni Bosco\", \"Ospedale San Martino\", \"Ospedale Vincenzo Cervello\", \"Oswaldo Cruz Foundation\", \"Otto-von-Guericke University Magdeburg\", \"Oxford University Clinical Research Unit\", \"Pamukkale University\", \"Papua New Guinea Institute of Medical Research\", \"Paris 12 Val de Marne University\", \"Paris Descartes University\", \"Paris Diderot University\", \"Pasteur Institute of Lille\", \"Paul Sabatier University\", \"Pennsylvania State University\", \"Peter the Great St. Petersburg Polytechnic University\", \"Pfizer (United States)\", \"Pirbright Institute\", \"Piti\\u00e9-Salp\\u00eatri\\u00e8re Hospital\", \"Policlinico S.Orsola-Malpighi\", \"Policlinico San Donato\", \"Policlinico San Matteo Fondazione\", \"Policlinico Tor Vergata\", \"Polytechnic University of Milan\", \"Pompeu Fabra University\", \"Princeton University\", \"Procter & Gamble (Switzerland)\", \"Public Health Agency of Sweden\", \"Public Health England\", \"Purdue University West Lafayette\", \"QIMR Berghofer Medical Research Institute\", \"RIKEN\", \"RWTH Aachen University\", \"Rabin Medical Center\", \"Radboud University Nijmegen Medical Centre\", \"Rangsit University\", \"Raymond Poincar\\u00e9 University Hospital\", \"Regione Campania\", \"Rensselaer Polytechnic Institute\", \"Research Center Borstel - Leibniz-Center for Medicine and Biosciences\", \"Research Institute of Medical Genetics of Russian Academy of Medical Sciences\", \"Rigshospitalet\", \"Riyadh Armed Forces Hospital\", \"Robert Koch Institute\", \"Rockefeller University\", \"Roma Tre University\", \"Royal Brisbane and Women's Hospital\", \"Royal College of Psychiatrists\", \"Royal College of Surgeons in Ireland\", \"Royal Free Hospital\", \"Royal Liverpool University Hospital\", \"Royal Melbourne Hospital\", \"Royal Prince Alfred Hospital\", \"Royal Tropical Institute\", \"Ruhr University Bochum\", \"Rutgers, The State University of New Jersey\", \"SUNY Downstate Medical Center\", \"Saarland University\", \"Saint Mary's College of California\", \"San Raffaele Hospital\", \"Sana Klinikum Offenbach\", \"Sapienza University of Rome\", \"Sel\\u00e7uk University\", \"Semnan University of Medical Sciences\", \"Senckenberg Nature Research Society\", \"Seth Nandlal Dhoot Hospital\", \"Shahid Beheshti University of Medical Sciences\", \"Shahid Chamran University of Ahvaz\", \"Shahid Sadoughi University of Medical Sciences and Health Services\", \"Shandong University\", \"Sharif University of Technology\", \"Shiraz University\", \"Sigma Tau (Italy)\", \"Simon Fraser University\", \"Slotervaartziekenhuis\", \"Sokoine University of Agriculture\", \"Soochow University\", \"Sorbonne University\", \"Soroka Medical Center\", \"South African Medical Research Council\", \"Southeast University\", \"St George's, University of London\", \"St Vincents Institute of Medical Research\", \"St. Jude Children's Research Hospital\", \"St.John's Medical College Hospital\", \"Stanford University\", \"State University of Campinas\", \"Stazione Zoologica Anton Dohrn\", \"Stellenbosch University\", \"Stockholm University\", \"St\\u00e4dtisches Klinikum Karlsruhe\", \"Sunnybrook Health Science Centre\", \"Swansea University\", \"Swiss Tropical and Public Health Institute\", \"S\\u00fcleyman Demirel University\", \"TU Dresden\", \"Taif University\", \"Tampere University\", \"Tarbiat Modares University\", \"Technical University of Cluj-Napoca\", \"Technical University of Denmark\", \"Technical University of Madrid\", \"Technical University of Munich\", \"Technion \\u2013 Israel Institute of Technology\", \"Technological University Dublin\", \"Tehran University of Medical Sciences\", \"Tel Aviv University\", \"Telenor (Norway)\", \"Telethon Institute Of Genetics And Medicine\", \"Texas A&M Health Science Center\", \"Texas A&M University\", \"Texas Children's Hospital\", \"Texas Tech University Health Sciences Center\", \"The Francis Crick Institute\", \"The Ohio State University\", \"The University of Texas Medical Branch at Galveston\", \"The University of Texas at Arlington\", \"The University of Texas at San Antonio\", \"Thomas Jefferson University\", \"Tianjin University of Traditional Chinese Medicine\", \"Tohoku University\", \"Tokyo Institute of Technology\", \"Tokyo Medical University\", \"Tokyo Medical and Dental University\", \"Tokyo Women's Medical University\", \"Transgene (France)\", \"Trinity College Dublin\", \"Tufts University\", \"Tuscia University\", \"Uluda\\u011f University\", \"Unilever (United Kingdom)\", \"Union for International Cancer Control\", \"United States Geological Survey\", \"Universidade Federal de Minas Gerais\", \"Universidade Federal do Cear\\u00e1\", \"Universidade Nova de Lisboa\", \"Universiti Putra Malaysia\", \"University Children\\u2019s Hospital Basel\", \"University College Cork\", \"University College London\", \"University Hospital Coventry\", \"University Hospital Heidelberg\", \"University Hospital M\\u00fcnster\", \"University Hospital of Geneva\", \"University Hospital of Lausanne\", \"University Hospitals of Leicester NHS Trust\", \"University Medical Center Freiburg\", \"University Medical Center Groningen\", \"University Teaching Hospital\", \"University at Albany, State University of New York\", \"University of Alabama at Birmingham\", \"University of Alberta\", \"University of Amsterdam\", \"University of Arizona\", \"University of Arkansas System\", \"University of Arkansas for Medical Sciences\", \"University of Augsburg\", \"University of Babylon\", \"University of Bamako\", \"University of Barcelona\", \"University of Bari Aldo Moro\", \"University of Bern\", \"University of Bologna\", \"University of Bonn\", \"University of Bordeaux\", \"University of Bras\\u00edlia\", \"University of Brescia\", \"University of Bristol\", \"University of British Columbia\", \"University of Buea\", \"University of Buenos Aires\", \"University of Burgundy\", \"University of Cagliari\", \"University of Calabria\", \"University of Calgary\", \"University of California System\", \"University of California, Berkeley\", \"University of California, Davis\", \"University of California, Los Angeles\", \"University of California, Riverside\", \"University of California, San Diego\", \"University of Cambridge\", \"University of Camerino\", \"University of Campania \\\"Luigi Vanvitelli\\\"\", \"University of Cape Town\", \"University of Catania\", \"University of Chicago\", \"University of Chicago Medical Center\", \"University of Chile\", \"University of Cologne\", \"University of Colombo\", \"University of Colorado Denver\", \"University of Copenhagen\", \"University of Corsica Pascal Paoli\", \"University of Crete\", \"University of Delaware\", \"University of Eastern Finland\", \"University of Edinburgh\", \"University of Erlangen-Nuremberg\", \"University of Ferrara\", \"University of Florence\", \"University of Florida\", \"University of Foggia\", \"University of Freiburg\", \"University of Geneva\", \"University of Genoa\", \"University of Georgia\", \"University of Giessen\", \"University of Glasgow\", \"University of G\\u00f6ttingen\", \"University of Hawaii at Manoa\", \"University of Helsinki\", \"University of Hyderabad\", \"University of Ibadan\", \"University of Illinois at Chicago\", \"University of Insubria\", \"University of Ioannina\", \"University of Iowa\", \"University of Kansas\", \"University of Kent\", \"University of Khartoum\", \"University of Konstanz\", \"University of KwaZulu-Natal\", \"University of Lausanne\", \"University of Leeds\", \"University of Leicester\", \"University of Lille\", \"University of Limerick\", \"University of Lisbon\", \"University of Liverpool\", \"University of Ljubljana\", \"University of London\", \"University of Lorraine\", \"University of Louisville\", \"University of L\\u00fcbeck\", \"University of Malawi\", \"University of Manchester\", \"University of Maryland, Baltimore\", \"University of Maryland, College Park\", \"University of Melbourne\", \"University of Messina\", \"University of Michigan\\u2013Ann Arbor\", \"University of Michigan\\u2013Dearborn\", \"University of Milan\", \"University of Milano-Bicocca\", \"University of Minho\", \"University of Minnesota\", \"University of Mississippi Medical Center\", \"University of Modena and Reggio Emilia\", \"University of Montpellier\", \"University of Montreal\", \"University of Mosul\", \"University of M\\u00fcnster\", \"University of Naples Federico II\", \"University of Nebraska\\u2013Lincoln\", \"University of New Brunswick\", \"University of New England\", \"University of Newcastle Australia\", \"University of North Carolina at Chapel Hill\", \"University of Notre Dame\", \"University of Nottingham\", \"University of Orl\\u00e9ans\", \"University of Ouagadougou\", \"University of Oxford\", \"University of Padua\", \"University of Palermo\", \"University of Paris-Sud\", \"University of Parma\", \"University of Patras\", \"University of Pavia\", \"University of Pennsylvania\", \"University of Perugia\", \"University of Picardie Jules Verne\", \"University of Pisa\", \"University of Pittsburgh\", \"University of Porto\", \"University of Pretoria\", \"University of Queensland\", \"University of Reading\", \"University of Regensburg\", \"University of Reggio Calabria\", \"University of Rochester\", \"University of Rochester Medical Center\", \"University of Rome Tor Vergata\", \"University of Rostock\", \"University of Rouen\", \"University of Salento\", \"University of Salerno\", \"University of Sannio\", \"University of Santiago Chile\", \"University of Sao Paulo\", \"University of Saskatchewan\", \"University of Sassari\", \"University of Science and Technology Chittagong\", \"University of Sheffield\", \"University of Siena\", \"University of South Carolina\", \"University of Southern California\", \"University of Southern Denmark\", \"University of Strathclyde\", \"University of Sussex\", \"University of Sydney\", \"University of Tasmania\", \"University of Tennessee Health Science Center\", \"University of Tirana\", \"University of Tokyo\", \"University of Toronto\", \"University of Trento\", \"University of Trieste\", \"University of Tr\\u00e1s-os-Montes and Alto Douro\", \"University of Turin\", \"University of Turku\", \"University of T\\u00fcbingen\", \"University of Udine\", \"University of Ulm\", \"University of Urbino\", \"University of Vermont\", \"University of Verona\", \"University of Warwick\", \"University of Washington\", \"University of W\\u00fcrzburg\", \"University of York\", \"University of Zagreb\", \"University of Zaragoza\", \"University of Zurich\", \"University of the Basque Country\", \"University of the West of England\", \"Universit\\u00e0 Campus Bio-Medico\", \"Universit\\u00e4tsklinikum T\\u00fcbingen\", \"Universit\\u00e4tsmedizin Rostock\", \"Universit\\u00e9 Laval\", \"Uppsala University\", \"Utrecht University\", \"VU Amsterdam\", \"Vanderbilt University\", \"Vienna General Hospital\", \"Virginia Commonwealth University\", \"Virginia Tech\", \"Washington University in St. Louis\", \"Wellcome Centre for Human Genetics\", \"Wellcome Centre for Molecular Parasitology\", \"Wellcome Sanger Institute\", \"Wellcome Trust\", \"Women's and Children's Hospital\", \"World Food Programme\", \"World Health Organization\", \"World Health Organization - Italy\", \"World Health Organization Regional Office for Africa\", \"World Health Organization Regional Office for the Eastern Mediterranean\", \"Wright State University\", \"Yale University\", \"Yamaguchi University\", \"Yangzhou University\", \"Yonsei University\", \"York Hospital\", \"Y\\u00fcz\\u00fcnc\\u00fc Y\\u0131l University\", \"\\u00c9cole Nationale Sup\\u00e9rieure d'ing\\u00e9nieurs De Caen\", \"\\u00c9cole Normale Sup\\u00e9rieure\", \"\\u00c9cole Polytechnique F\\u00e9d\\u00e9rale de Lausanne\", \"Aachen\", \"Aarhus\", \"Accra\", \"Addis Ababa\", \"Adelaide\", \"Ahmedabad\", \"Ahv\\u0101z\", \"Al Hillah\", \"Albany\", \"Ames\", \"Amiens\", \"Amsterdam\", \"Ancona\", \"Ankara\", \"Ann Arbor\", \"Antalya\", \"Antananarivo\", \"Antwerp\", \"Arlington\", \"Armidale\", \"Athens\", \"Athens\", \"Atlanta\", \"Aubi\\u00e8re\", \"Auckland\", \"Augsburg\", \"Aurangabad\", \"Austin\", \"Baltimore\", \"Bamako\", \"Bangkok\", \"Bangor\", \"Banjul\", \"Barcelona\", \"Bari\", \"Basel\", \"Beersheba\", \"Belo Horizonte\", \"Benevento\", \"Bengaluru\", \"Bergamo\", \"Berkeley\", \"Berlin\", \"Bern\", \"Bethesda\", \"Bia\\u0142ystok\", \"Bielefeld\", \"Birjand\", \"Birmingham\", \"Birmingham\", \"Blacksburg\", \"Blantyre\", \"Bobigny\", \"Bobo-Dioulasso\", \"Boca Raton\", \"Bochum\", \"Bologna\", \"Bonn\", \"Bootle\", \"Bordeaux\", \"Borstel\", \"Boston\", \"Braga\", \"Bras\\u00edlia\", \"Bratislava\", \"Braunschweig\", \"Brazzaville\", \"Brescia\", \"Brighton\", \"Brisbane\", \"Bristol\", \"Brooklyn\", \"Brussels\", \"Budapest\", \"Buea\", \"Buenos Aires\", \"Burlington\", \"Burnaby\", \"Bursa\", \"Caen\", \"Cagliari\", \"Cairo\", \"Calgary\", \"Cambridge\", \"Cambridge\", \"Camerino\", \"Camperdown\", \"Campinas\", \"Canberra\", \"Canterbury\", \"Cape Town\", \"Caracas\", \"Cardiff\", \"Caserta\", \"Catania\", \"Catanzaro\", \"Cerdanyola del Vall\\u00e8s\", \"Chapel Hill\", \"Cheongju-si\", \"Chicago\", \"Chittagong\", \"Cincinnati\", \"Clemson\", \"Cleveland\", \"Cluj-Napoca\", \"College Park\", \"College Station\", \"Cologne\", \"Colombo\", \"Columbia\", \"Columbus\", \"Cookeville\", \"Copenhagen\", \"Cork\", \"Corte\", \"Cosenza\", \"Cotonou\", \"Coventry\", \"Cr\\u00e9teil\", \"Cuernavaca\", \"C\\u00f3rdoba\", \"Daejeon\", \"Dakar\", \"Dar es Salaam\", \"Davis\", \"Dayton\", \"De Bilt\", \"Dearborn\", \"Delft\", \"Denizli\", \"Denver\", \"Dijon\", \"Dresden\", \"Dublin\", \"Durban\", \"Durham\", \"D\\u00fcsseldorf\", \"East Lansing\", \"Edinburgh\", \"Edmonton\", \"El\\u00e2z\\u0131\\u011f\", \"Erlangen\", \"Erzurum\", \"Eski\\u015fehir\", \"Evanston\", \"Ferrara\", \"Fisciano\", \"Fitzroy\", \"Florence\", \"Foggia\", \"Fort Collins\", \"Fortaleza\", \"Frankfurt am Main\", \"Fredericton\", \"Freiburg\", \"Gainesville\", \"Galveston\", \"Garches\", \"Geneva\", \"Genoa\", \"Ghent\", \"Giessen\", \"Glasgow\", \"Goroka\", \"Goyang-si\", \"Graz\", \"Greenbelt\", \"Groningen\", \"Gwangju\", \"G\\u00f6ttingen\", \"Hachenburg\", \"Haifa\", \"Hamburg\", \"Hamilton\", \"Hanau\", \"Hangzhou\", \"Hanover\", \"Hanover\", \"Harrogate\", \"Heidelberg\", \"Helsinki\", \"Heraklion\", \"Ho Chi Minh City\", \"Hobart\", \"Hong Kong\", \"Honolulu\", \"Houston\", \"Hvidovre\", \"Hyderabad\", \"Iasi\", \"Ibadan\", \"Ikeja\", \"Ilesa\", \"Illkirch-Graffenstaden\", \"Innsbruck\", \"Ioannina\", \"Iowa City\", \"Isparta\", \"Ispra\", \"Istanbul\", \"Ithaca\", \"Iwo\", \"Jackson\", \"Jeddah\", \"Jena\", \"Jerusalem\", \"Jinan\", \"Johnson City\", \"J\\u00fclich\", \"Kahramanmara\\u015f\", \"Kampala\", \"Kanazawa\", \"Karlsruhe\", \"Kazan\\u2019\", \"Kerman\", \"Khartoum\", \"Kiel\", \"Kilis\", \"Kobe\", \"Kongens Lyngby\", \"Konstanz\", \"Konya\", \"Krefeld\", \"Kumasi\", \"Kuopio\", \"Kuwait City\", \"Kyoto\", \"K\\u00fctahya\", \"K\\u0131r\\u0131kkale\", \"La Jolla\", \"Lambar\\u00e9n\\u00e9\", \"Lancy\", \"Lausanne\", \"Lawrence\", \"Lecce\", \"Leeds\", \"Legnaro\", \"Leicester\", \"Leiden\", \"Leioa\", \"Leipzig\", \"Leverkusen\", \"Lexington\", \"Lille\", \"Lima\", \"Limerick\", \"Limoges\", \"Lincoln\", \"Link\\u00f6ping\", \"Lisbon\", \"Little Rock\", \"Liverpool\", \"Ljubljana\", \"London\", \"Los Alamos\", \"Los Angeles\", \"Louisville\", \"Lubbock\", \"Lusaka\", \"Lyon\", \"L\\u00fcbeck\", \"Maastricht\", \"Madrid\", \"Magdeburg\", \"Mainz\", \"Manama\", \"Manchester\", \"Manhasset\", \"Maputo\", \"Marseille\", \"Marshfield\", \"Mashhad\", \"Medford\", \"Melbourne\", \"Meldola\", \"Memphis\", \"Messina\", \"Milan\", \"Minneapolis\", \"Modena\", \"Montpellier\", \"Montreal\", \"Moraga\", \"Morogoro\", \"Moshi\", \"Mosul\", \"Mozzagrogna\", \"Mumbai\", \"Muncie\", \"Munich\", \"Mu\\u011fla\", \"M\\u00fcnster\", \"Nagasaki\", \"Nagoya\", \"Nairobi\", \"Nancy\", \"Nanjing\", \"Nantes\", \"Naples\", \"Nashville\", \"Natal\", \"Navrongo\", \"Negrar\", \"New Brunswick\", \"New Delhi\", \"New Haven\", \"New Hyde Park\", \"New York\", \"Newark\", \"Newcastle\", \"Newcastle upon Tyne\", \"Nice\", \"Nijmegen\", \"Normal\", \"Notre Dame\", \"Nottingham\", \"Oakland\", \"Odense\", \"Oeiras\", \"Offenbach\", \"Okayama\", \"Origgio\", \"Orl\\u00e9ans\", \"Orsay\", \"Osaka\", \"Oslo\", \"Ottawa\", \"Ouagadougou\", \"Oxford\", \"Padova\", \"Palaiseau\", \"Palermo\", \"Palo Alto\", \"Paris\", \"Parma\", \"Pasadena\", \"Pathum Thani\", \"Pavia\", \"Penicuik\", \"Perugia\", \"Petah Tikva\", \"Philadelphia\", \"Phnom Penh\", \"Pisa\", \"Pittsburgh\", \"Pomezia\", \"Portland\", \"Porto\", \"Potters Bar\", \"Prague\", \"Pretoria\", \"Princeton\", \"Providence\", \"Pune\", \"Putrajaya\", \"Pu\\u0142awy\", \"P\\u00e1trai\", \"Qu\\u00e9bec\", \"Rabat\", \"Raleigh\", \"Ramat Gan\", \"Reading\", \"Regensburg\", \"Reggio Calabria\", \"Rennes\", \"Reston\", \"Rethymno\", \"Reus\", \"Richmond\", \"Rijswijk\", \"Rimini\", \"Rio de Janeiro\", \"Riverside\", \"Riyadh\", \"Rochester\", \"Rockville\", \"Rome\", \"Rondebosch\", \"Rostock\", \"Rotterdam\", \"Rouen\", \"Rozzano\", \"Saarbr\\u00fccken\", \"Saint Petersburg\", \"Saint-Etienne\", \"Salt Lake City\", \"San Antonio\", \"San Diego\", \"San Donato Milanese\", \"San Giovanni Rotondo\", \"San Michele all'Adige\", \"Sandvika\", \"Sankt Augustin\", \"Santa Cruz de Tenerife\", \"Santiago\", \"Santiago de Compostela\", \"Saskatoon\", \"Sassari\", \"Seattle\", \"Semnan\", \"Sendai\", \"Seoul\", \"Seri Kembangan\", \"Sheffield\", \"Shimla\", \"Shiraz\", \"Siena\", \"Singapore\", \"Solna\", \"Southampton\", \"St Louis\", \"St. John's\", \"Stanford\", \"State College\", \"Stellenbosch\", \"Stockholm\", \"Strasbourg\", \"Stuttgart\", \"Subiaco\", \"Suwon\", \"Suzhou\", \"Swansea\", \"Sydney\", \"S\\u00e3o Paulo\", \"Ta'if\", \"Tampere\", \"Tehran\", \"Tekirda\\u011f\", \"Tel Aviv\", \"Tempe\", \"The Bronx\", \"Thessaloniki\", \"Tianjin\", \"Tirana\", \"Tirrenia\", \"Tokyo\", \"Tomsk\", \"Toronto\", \"Toulouse\", \"Toyoake\", \"Trento\", \"Trieste\", \"Troy\", \"Tucson\", \"Tunis\", \"Turin\", \"Turku\", \"T\\u00fcbingen\", \"Udine\", \"Ulm\", \"Uppsala\", \"Urbino\", \"Utrecht\", \"Valencia\", \"Van\", \"Vancouver\", \"Varese\", \"Varna\", \"Verona\", \"Veruno\", \"Vicenza\", \"Vienna\", \"Vila Real\", \"Villejuif\", \"Villeurbanne\", \"Viterbo\", \"Wako\", \"Warsaw\", \"Washington D.C.\", \"Watford\", \"West Lafayette\", \"Woking\", \"Wurzburg\", \"Xi'an\", \"Yamaguchi\", \"Yangzhou\", \"Yaound\\u00e9\", \"Yazd\", \"York\", \"Yorktown Heights\", \"Zagreb\", \"Zaragoza\", \"Zomba\", \"Zurich\", \"\\u00c5s\", \"Albania\", \"Argentina\", \"Australia\", \"Austria\", \"Bahrain\", \"Bangladesh\", \"Belgium\", \"Benin\", \"Brazil\", \"Bulgaria\", \"Burkina Faso\", \"Cambodia\", \"Cameroon\", \"Canada\", \"Chile\", \"China\", \"Croatia\", \"Czechia\", \"Denmark\", \"Egypt\", \"Ethiopia\", \"Finland\", \"France\", \"Gabon\", \"Gambia\", \"Germany\", \"Ghana\", \"Greece\", \"Hungary\", \"India\", \"Iran\", \"Iraq\", \"Ireland\", \"Israel\", \"Italy\", \"Japan\", \"Kenya\", \"Kuwait\", \"Madagascar\", \"Malawi\", \"Malaysia\", \"Mali\", \"Mexico\", \"Morocco\", \"Mozambique\", \"Netherlands\", \"New Zealand\", \"Nigeria\", \"Norway\", \"Papua New Guinea\", \"Peru\", \"Poland\", \"Portugal\", \"Republic of the Congo\", \"Romania\", \"Russia\", \"Saudi Arabia\", \"Senegal\", \"Singapore\", \"Slovakia\", \"Slovenia\", \"South Africa\", \"South Korea\", \"Spain\", \"Sri Lanka\", \"Sudan\", \"Sweden\", \"Switzerland\", \"Tanzania\", \"Thailand\", \"Tunisia\", \"Turkey\", \"Uganda\", \"United Kingdom\", \"United States\", \"Venezuela\", \"Vietnam\", \"Zambia\"], \"name\": \"\", \"parents\": [\"Italy/Trieste\", \"Denmark/Aarhus\", \"Denmark/Aarhus\", \"United States/Cambridge\", \"Netherlands/Amsterdam\", \"Ethiopia/Addis Ababa\", \"Uganda/Kampala\", \"Italy/Bologna\", \"France/Marseille\", \"South Korea/Suwon\", \"Turkey/Antalya\", \"Japan/Okayama\", \"United States/The Bronx\", \"Gabon/Lambar\\u00e9n\\u00e9\", \"Canada/Calgary\", \"Canada/Calgary\", \"Romania/Iasi\", \"India/New Delhi\", \"United States/Bethesda\", \"Norway/Oslo\", \"Turkey/Ankara\", \"United Kingdom/London\", \"Bahrain/Manama\", \"Greece/Thessaloniki\", \"United States/Tempe\", \"Japan/Tokyo\", \"Turkey/Erzurum\", \"New Zealand/Auckland\", \"Australia/Canberra\", \"Spain/Cerdanyola del Vall\\u00e8s\", \"Italy/Palermo\", \"Italy/Modena\", \"India/Ahmedabad\", \"Canada/Vancouver\", \"United States/Muncie\", \"Italy/Rome\", \"Spain/Barcelona\", \"United Kingdom/Bangor\", \"Iran/Tehran\", \"Israel/Ramat Gan\", \"Germany/Leverkusen\", \"United States/Houston\", \"Turkey/Ankara\", \"Israel/Beersheba\", \"Germany/Hamburg\", \"India/Mumbai\", \"Poland/Bia\\u0142ystok\", \"Germany/Bielefeld\", \"United States/Salt Lake City\", \"Spain/Valencia\", \"Netherlands/Rijswijk\", \"France/Villeurbanne\", \"Iran/Birjand\", \"United Kingdom/Birmingham\", \"Italy/Milan\", \"France/Paris\", \"Nigeria/Iwo\", \"Brazil/Campinas\", \"United States/Boston\", \"United Kingdom/Brighton\", \"United States/Providence\", \"United Kingdom/London\", \"Spain/Madrid\", \"United States/Pasadena\", \"Canada/Ottawa\", \"Slovakia/Bratislava\", \"United Kingdom/Cardiff\", \"Canada/Ottawa\", \"Spain/Madrid\", \"United States/Pittsburgh\", \"Italy/San Giovanni Rotondo\", \"United States/Cleveland\", \"South Korea/Seoul\", \"Italy/Milan\", \"Peru/Lima\", \"United States/Seattle\", \"France/Palaiseau\", \"France/Paris\", \"France/Amiens\", \"France/Rouen\", \"Canada/Montreal\", \"France/Nantes\", \"Burkina Faso/Bobo-Dioulasso\", \"Burkina Faso/Ouagadougou\", \"France/Rennes\", \"Spain/Barcelona\", \"United Kingdom/Newcastle upon Tyne\", \"Germany/Berlin\", \"Czechia/Prague\", \"Senegal/Dakar\", \"Canada/Ottawa\", \"United States/Pittsburgh\", \"United States/Birmingham\", \"South Korea/Gwangju\", \"Australia/Camperdown\", \"Thailand/Bangkok\", \"United States/Cincinnati\", \"United States/Clemson\", \"United States/Cleveland\", \"Hungary/Budapest\", \"United States/Fort Collins\", \"United States/New York\", \"United Kingdom/Southampton\", \"Spain/Madrid\", \"United States/Cookeville\", \"United States/Ithaca\", \"South Africa/Pretoria\", \"United Kingdom/Harrogate\", \"Germany/Hachenburg\", \"Germany/Stuttgart\", \"United States/Hanover\", \"Australia/Canberra\", \"Australia/Canberra\", \"Australia/Melbourne\", \"Germany/Hamburg\", \"Turkey/Istanbul\", \"United States/Philadelphia\", \"United States/Durham\", \"Turkey/K\\u00fctahya\", \"France/Montpellier\", \"France/Toulouse\", \"Switzerland/Zurich\", \"United States/Johnson City\", \"Ireland/Dublin\", \"United States/Atlanta\", \"Netherlands/Rotterdam\", \"Turkey/Erzurum\", \"Turkey/Eski\\u015fehir\", \"United Kingdom/Cambridge\", \"Sweden/Stockholm\", \"Austria/Vienna\", \"Belgium/Brussels\", \"Italy/Milan\", \"Germany/Heidelberg\", \"Italy/Milan\", \"South Korea/Seoul\", \"Italy/Milan\", \"Germany/Bonn\", \"Brazil/Natal\", \"Brazil/Rio de Janeiro\", \"United States/Manhasset\", \"China/Hangzhou\", \"United States/Boca Raton\", \"Italy/Trento\", \"Italy/San Michele all'Adige\", \"Italy/Milan\", \"Italy/Veruno\", \"Italy/Rome\", \"Italy/Tirrenia\", \"Italy/Rome\", \"Germany/J\\u00fclich\", \"Switzerland/Geneva\", \"Greece/Heraklion\", \"United States/Bethesda\", \"Germany/Sankt Augustin\", \"France/Paris\", \"Germany/Jena\", \"Japan/Toyoake\", \"Spain/Santiago de Compostela\", \"Turkey/El\\u00e2z\\u0131\\u011f\", \"Japan/Tokyo\", \"United States/Washington D.C.\", \"United States/Washington D.C.\", \"Germany/Heidelberg\", \"Belgium/Ghent\", \"Belgium/Ghent\", \"United States/New York\", \"United States/Greenbelt\", \"Germany/Frankfurt am Main\", \"Australia/Brisbane\", \"Turkey/Ankara\", \"Germany/Hamburg\", \"Germany/Hanover\", \"United Kingdom/Harrogate\", \"United States/Cambridge\", \"Turkey/Istanbul\", \"Canada/Ottawa\", \"United Kingdom/Bootle\", \"Israel/Jerusalem\", \"Germany/Heidelberg\", \"Germany/D\\u00fcsseldorf\", \"Germany/Krefeld\", \"Greece/Athens\", \"Germany/Braunschweig\", \"Finland/Helsinki\", \"China/Nanjing\", \"China/Hong Kong\", \"Spain/Barcelona\", \"Spain/Madrid\", \"Chile/Santiago\", \"Spain/Reus\", \"Spain/Santa Cruz de Tenerife\", \"Spain/Madrid\", \"Venezuela/Caracas\", \"Canada/Toronto\", \"United Kingdom/London\", \"Croatia/Zagreb\", \"Italy/Rozzano\", \"United States/New York\", \"Denmark/Hvidovre\", \"France/Bobigny\", \"France/Paris\", \"France/Paris\", \"France/Marseille\", \"France/Bordeaux\", \"France/Limoges\", \"France/Marseille\", \"United States/Yorktown Heights\", \"Italy/Udine\", \"Italy/Pisa\", \"Italy/Trieste\", \"United States/New York\", \"United States/Normal\", \"United Kingdom/London\", \"India/Bengaluru\", \"India/Shimla\", \"Austria/Innsbruck\", \"France/Paris\", \"Morocco/Rabat\", \"France/Villejuif\", \"Spain/Barcelona\", \"Morocco/Rabat\", \"France/Paris\", \"Senegal/Dakar\", \"Madagascar/Antananarivo\", \"Tunisia/Tunis\", \"Cambodia/Phnom Penh\", \"France/Nice\", \"France/Strasbourg\", \"Burkina Faso/Ouagadougou\", \"Benin/Cotonou\", \"France/Marseille\", \"France/Paris\", \"Italy/Messina\", \"Iran/Tehran\", \"Italy/Turin\", \"Italy/Turin\", \"United Kingdom/London\", \"Greece/Athens\", \"Poland/Warsaw\", \"Italy/Bari\", \"Italy/Bologna\", \"Poland/Warsaw\", \"Poland/Warsaw\", \"Italy/Naples\", \"Poland/Pu\\u0142awy\", \"Belgium/Antwerp\", \"Brazil/S\\u00e3o Paulo\", \"Portugal/Oeiras\", \"Mexico/Cuernavaca\", \"Brazil/Rio de Janeiro\", \"Spain/Madrid\", \"Poland/Warsaw\", \"France/Lyon\", \"India/New Delhi\", \"Italy/Rome\", \"Burkina Faso/Ouagadougou\", \"Italy/Vicenza\", \"United States/Ames\", \"Iran/Tehran\", \"Germany/Hamburg\", \"Turkey/Istanbul\", \"Turkey/Istanbul\", \"Italy/Rome\", \"Italy/Rome\", \"Italy/Genoa\", \"Italy/Milan\", \"Italy/Milan\", \"Italy/Rome\", \"Italy/Rome\", \"Italy/Rome\", \"Italy/Milan\", \"Italy/Rome\", \"Italy/Meldola\", \"Italy/Rome\", \"Italy/Palermo\", \"Italy/Legnaro\", \"Italy/Pisa\", \"Italy/Pavia\", \"Italy/Pavia\", \"Italy/Milan\", \"Italy/Genoa\", \"United States/La Jolla\", \"India/New Delhi\", \"France/Saint-Etienne\", \"Japan/Tokyo\", \"Germany/Mainz\", \"United Kingdom/Oxford\", \"United States/Baltimore\", \"United States/Baltimore\", \"Italy/Ispra\", \"Slovenia/Ljubljana\", \"Turkey/Kahramanmara\\u015f\", \"Japan/Kanazawa\", \"Japan/Osaka\", \"Israel/Tel Aviv\", \"Germany/Karlsruhe\", \"Sweden/Stockholm\", \"Sweden/Stockholm\", \"Russia/Kazan\\u2019\", \"Kenya/Nairobi\", \"Kenya/Nairobi\", \"Iran/Kerman\", \"Germany/Kiel\", \"Tanzania/Moshi\", \"Turkey/Kilis\", \"Saudi Arabia/Jeddah\", \"Australia/Subiaco\", \"United Kingdom/London\", \"Germany/Hanau\", \"Germany/Munich\", \"Japan/Kobe\", \"South Korea/Cheongju-si\", \"South Korea/Daejeon\", \"Kuwait/Kuwait City\", \"Ghana/Kumasi\", \"Japan/Kyoto\", \"Turkey/K\\u0131r\\u0131kkale\", \"Australia/Melbourne\", \"France/Paris\", \"France/Aubi\\u00e8re\", \"Nigeria/Ikeja\", \"Argentina/Buenos Aires\", \"Netherlands/Leiden\", \"Netherlands/Leiden\", \"Germany/Leipzig\", \"Italy/Rome\", \"Sweden/Link\\u00f6ping\", \"Sweden/Link\\u00f6ping\", \"United States/Rochester\", \"United Kingdom/Liverpool\", \"United States/Austin\", \"United Kingdom/London\", \"United States/New Hyde Park\", \"United States/Los Alamos\", \"United States/Palo Alto\", \"Germany/Munich\", \"United States/Lexington\", \"United Kingdom/Cambridge\", \"United Kingdom/Cambridge\", \"Netherlands/Maastricht\", \"Netherlands/Maastricht\", \"Australia/Sydney\", \"Spain/Madrid\", \"Italy/Catanzaro\", \"Thailand/Bangkok\", \"Uganda/Kampala\", \"Malawi/Blantyre\", \"Mozambique/Maputo\", \"Italy/Ancona\", \"Turkey/Erzurum\", \"Italy/Milan\", \"Italy/Mozzagrogna\", \"Turkey/Istanbul\", \"United States/Marshfield\", \"Iran/Mashhad\", \"United States/Boston\", \"United States/Cambridge\", \"Australia/Brisbane\", \"India/New Delhi\", \"Germany/Hamburg\", \"Canada/Montreal\", \"Canada/Hamilton\", \"United Kingdom/Oxford\", \"Gambia/Banjul\", \"Austria/Graz\", \"Bulgaria/Varna\", \"Austria/Vienna\", \"Poland/Warsaw\", \"Switzerland/Geneva\", \"Canada/St. John's\", \"United States/East Lansing\", \"United Kingdom/London\", \"Italy/Rome\", \"Italy/Rome\", \"Malaysia/Putrajaya\", \"Tanzania/Dar es Salaam\", \"Cameroon/Yaound\\u00e9\", \"Cameroon/Yaound\\u00e9\", \"Japan/Tokyo\", \"France/Cr\\u00e9teil\", \"United States/The Bronx\", \"United Kingdom/Penicuik\", \"Tanzania/Dar es Salaam\", \"France/Paris\", \"Turkey/Mu\\u011fla\", \"Belgium/Brussels\", \"United Kingdom/Watford\", \"Japan/Nagasaki\", \"Japan/Nagoya\", \"Turkey/Tekirda\\u011f\", \"Italy/Rome\", \"South Korea/Goyang-si\", \"Singapore/Singapore\", \"United States/Rockville\", \"Japan/Tokyo\", \"United States/Atlanta\", \"India/Pune\", \"United States/Bethesda\", \"United Kingdom/Potters Bar\", \"Tanzania/Dar es Salaam\", \"Netherlands/De Bilt\", \"United States/Bethesda\", \"United States/Bethesda\", \"United States/Durham\", \"India/New Delhi\", \"Italy/Rome\", \"United States/Baltimore\", \"United States/Bethesda\", \"United States/Washington D.C.\", \"Italy/Rome\", \"Singapore/Singapore\", \"Argentina/C\\u00f3rdoba\", \"Greece/Athens\", \"United Kingdom/London\", \"Ghana/Navrongo\", \"France/Paris\", \"Turkey/Konya\", \"Netherlands/Delft\", \"United States/La Jolla\", \"United States/New York\", \"United States/New York\", \"United Kingdom/Newcastle upon Tyne\", \"France/Nice\", \"Ghana/Accra\", \"United States/Raleigh\", \"United States/Boston\", \"China/Xi'an\", \"United States/Evanston\", \"Norway/Oslo\", \"Norway/\\u00c5s\", \"United Kingdom/Nottingham\", \"Italy/Origgio\", \"Switzerland/Basel\", \"Nigeria/Ilesa\", \"France/Nantes\", \"United States/New York\", \"United States/Portland\", \"Cameroon/Yaound\\u00e9\", \"Japan/Osaka\", \"Japan/Osaka\", \"Norway/Oslo\", \"Italy/Bologna\", \"Italy/Turin\", \"Italy/Rimini\", \"Italy/Naples\", \"Italy/Bergamo\", \"Italy/Negrar\", \"Italy/Vicenza\", \"Italy/Turin\", \"Italy/Genoa\", \"Italy/Palermo\", \"Brazil/Rio de Janeiro\", \"Germany/Magdeburg\", \"Vietnam/Ho Chi Minh City\", \"Turkey/Denizli\", \"Papua New Guinea/Goroka\", \"France/Paris\", \"France/Paris\", \"France/Paris\", \"France/Lille\", \"France/Toulouse\", \"United States/State College\", \"Russia/Saint Petersburg\", \"United States/New York\", \"United Kingdom/Woking\", \"France/Paris\", \"Italy/Bologna\", \"Italy/San Donato Milanese\", \"Italy/Pavia\", \"Italy/Rome\", \"Italy/Milan\", \"Spain/Barcelona\", \"United States/Princeton\", \"Switzerland/Lancy\", \"Sweden/Solna\", \"United Kingdom/London\", \"United States/West Lafayette\", \"Australia/Brisbane\", \"Japan/Wako\", \"Germany/Aachen\", \"Israel/Petah Tikva\", \"Netherlands/Nijmegen\", \"Thailand/Pathum Thani\", \"France/Garches\", \"Italy/Naples\", \"United States/Troy\", \"Germany/Borstel\", \"Russia/Tomsk\", \"Denmark/Copenhagen\", \"Saudi Arabia/Riyadh\", \"Germany/Berlin\", \"United States/New York\", \"Italy/Rome\", \"Australia/Brisbane\", \"United Kingdom/London\", \"Ireland/Dublin\", \"United Kingdom/London\", \"United Kingdom/Liverpool\", \"Australia/Melbourne\", \"Australia/Sydney\", \"Netherlands/Amsterdam\", \"Germany/Bochum\", \"United States/New Brunswick\", \"United States/Brooklyn\", \"Germany/Saarbr\\u00fccken\", \"United States/Moraga\", \"Italy/Milan\", \"Germany/Offenbach\", \"Italy/Rome\", \"Turkey/Konya\", \"Iran/Semnan\", \"Germany/Frankfurt am Main\", \"India/Aurangabad\", \"Iran/Tehran\", \"Iran/Ahv\\u0101z\", \"Iran/Yazd\", \"China/Jinan\", \"Iran/Tehran\", \"Iran/Shiraz\", \"Italy/Pomezia\", \"Canada/Burnaby\", \"Netherlands/Amsterdam\", \"Tanzania/Morogoro\", \"China/Suzhou\", \"France/Paris\", \"Israel/Beersheba\", \"South Africa/Cape Town\", \"China/Nanjing\", \"United Kingdom/London\", \"Australia/Fitzroy\", \"United States/Memphis\", \"India/Bengaluru\", \"United States/Stanford\", \"Brazil/Campinas\", \"Italy/Naples\", \"South Africa/Stellenbosch\", \"Sweden/Stockholm\", \"Germany/Karlsruhe\", \"Canada/Toronto\", \"United Kingdom/Swansea\", \"Switzerland/Basel\", \"Turkey/Isparta\", \"Germany/Dresden\", \"Saudi Arabia/Ta'if\", \"Finland/Tampere\", \"Iran/Tehran\", \"Romania/Cluj-Napoca\", \"Denmark/Kongens Lyngby\", \"Spain/Madrid\", \"Germany/Munich\", \"Israel/Haifa\", \"Ireland/Dublin\", \"Iran/Tehran\", \"Israel/Tel Aviv\", \"Norway/Sandvika\", \"Italy/Naples\", \"United States/College Station\", \"United States/College Station\", \"United States/Houston\", \"United States/Lubbock\", \"United Kingdom/London\", \"United States/Columbus\", \"United States/Galveston\", \"United States/Arlington\", \"United States/San Antonio\", \"United States/Philadelphia\", \"China/Tianjin\", \"Japan/Sendai\", \"Japan/Tokyo\", \"Japan/Tokyo\", \"Japan/Tokyo\", \"Japan/Tokyo\", \"France/Illkirch-Graffenstaden\", \"Ireland/Dublin\", \"United States/Medford\", \"Italy/Viterbo\", \"Turkey/Bursa\", \"United Kingdom/London\", \"Switzerland/Geneva\", \"United States/Reston\", \"Brazil/Belo Horizonte\", \"Brazil/Fortaleza\", \"Portugal/Lisbon\", \"Malaysia/Seri Kembangan\", \"Switzerland/Basel\", \"Ireland/Cork\", \"United Kingdom/London\", \"United Kingdom/Coventry\", \"Germany/Heidelberg\", \"Germany/M\\u00fcnster\", \"Switzerland/Geneva\", \"Switzerland/Lausanne\", \"United Kingdom/Leicester\", \"Germany/Freiburg\", \"Netherlands/Groningen\", \"Zambia/Lusaka\", \"United States/Albany\", \"United States/Birmingham\", \"Canada/Edmonton\", \"Netherlands/Amsterdam\", \"United States/Tucson\", \"United States/Little Rock\", \"United States/Little Rock\", \"Germany/Augsburg\", \"Iraq/Al Hillah\", \"Mali/Bamako\", \"Spain/Barcelona\", \"Italy/Bari\", \"Switzerland/Bern\", \"Italy/Bologna\", \"Germany/Bonn\", \"France/Bordeaux\", \"Brazil/Bras\\u00edlia\", \"Italy/Brescia\", \"United Kingdom/Bristol\", \"Canada/Vancouver\", \"Cameroon/Buea\", \"Argentina/Buenos Aires\", \"France/Dijon\", \"Italy/Cagliari\", \"Italy/Cosenza\", \"Canada/Calgary\", \"United States/Oakland\", \"United States/Berkeley\", \"United States/Davis\", \"United States/Los Angeles\", \"United States/Riverside\", \"United States/San Diego\", \"United Kingdom/Cambridge\", \"Italy/Camerino\", \"Italy/Caserta\", \"South Africa/Rondebosch\", \"Italy/Catania\", \"United States/Chicago\", \"United States/Chicago\", \"Chile/Santiago\", \"Germany/Cologne\", \"Sri Lanka/Colombo\", \"United States/Denver\", \"Denmark/Copenhagen\", \"France/Corte\", \"Greece/Rethymno\", \"United States/Newark\", \"Finland/Kuopio\", \"United Kingdom/Edinburgh\", \"Germany/Erlangen\", \"Italy/Ferrara\", \"Italy/Florence\", \"United States/Gainesville\", \"Italy/Foggia\", \"Germany/Freiburg\", \"Switzerland/Geneva\", \"Italy/Genoa\", \"United States/Athens\", \"Germany/Giessen\", \"United Kingdom/Glasgow\", \"Germany/G\\u00f6ttingen\", \"United States/Honolulu\", \"Finland/Helsinki\", \"India/Hyderabad\", \"Nigeria/Ibadan\", \"United States/Chicago\", \"Italy/Varese\", \"Greece/Ioannina\", \"United States/Iowa City\", \"United States/Lawrence\", \"United Kingdom/Canterbury\", \"Sudan/Khartoum\", \"Germany/Konstanz\", \"South Africa/Durban\", \"Switzerland/Lausanne\", \"United Kingdom/Leeds\", \"United Kingdom/Leicester\", \"France/Lille\", \"Ireland/Limerick\", \"Portugal/Lisbon\", \"United Kingdom/Liverpool\", \"Slovenia/Ljubljana\", \"United Kingdom/London\", \"France/Nancy\", \"United States/Louisville\", \"Germany/L\\u00fcbeck\", \"Malawi/Zomba\", \"United Kingdom/Manchester\", \"United States/Baltimore\", \"United States/College Park\", \"Australia/Melbourne\", \"Italy/Messina\", \"United States/Ann Arbor\", \"United States/Dearborn\", \"Italy/Milan\", \"Italy/Milan\", \"Portugal/Braga\", \"United States/Minneapolis\", \"United States/Jackson\", \"Italy/Modena\", \"France/Montpellier\", \"Canada/Montreal\", \"Iraq/Mosul\", \"Germany/M\\u00fcnster\", \"Italy/Naples\", \"United States/Lincoln\", \"Canada/Fredericton\", \"Australia/Armidale\", \"Australia/Newcastle\", \"United States/Chapel Hill\", \"United States/Notre Dame\", \"United Kingdom/Nottingham\", \"France/Orl\\u00e9ans\", \"Burkina Faso/Ouagadougou\", \"United Kingdom/Oxford\", \"Italy/Padova\", \"Italy/Palermo\", \"France/Orsay\", \"Italy/Parma\", \"Greece/P\\u00e1trai\", \"Italy/Pavia\", \"United States/Philadelphia\", \"Italy/Perugia\", \"France/Amiens\", \"Italy/Pisa\", \"United States/Pittsburgh\", \"Portugal/Porto\", \"South Africa/Pretoria\", \"Australia/Brisbane\", \"United Kingdom/Reading\", \"Germany/Regensburg\", \"Italy/Reggio Calabria\", \"United States/Rochester\", \"United States/Rochester\", \"Italy/Rome\", \"Germany/Rostock\", \"France/Rouen\", \"Italy/Lecce\", \"Italy/Fisciano\", \"Italy/Benevento\", \"Chile/Santiago\", \"Brazil/S\\u00e3o Paulo\", \"Canada/Saskatoon\", \"Italy/Sassari\", \"Bangladesh/Chittagong\", \"United Kingdom/Sheffield\", \"Italy/Siena\", \"United States/Columbia\", \"United States/Los Angeles\", \"Denmark/Odense\", \"United Kingdom/Glasgow\", \"United Kingdom/Brighton\", \"Australia/Sydney\", \"Australia/Hobart\", \"United States/Memphis\", \"Albania/Tirana\", \"Japan/Tokyo\", \"Canada/Toronto\", \"Italy/Trento\", \"Italy/Trieste\", \"Portugal/Vila Real\", \"Italy/Turin\", \"Finland/Turku\", \"Germany/T\\u00fcbingen\", \"Italy/Udine\", \"Germany/Ulm\", \"Italy/Urbino\", \"United States/Burlington\", \"Italy/Verona\", \"United Kingdom/Coventry\", \"United States/Seattle\", \"Germany/Wurzburg\", \"United Kingdom/York\", \"Croatia/Zagreb\", \"Spain/Zaragoza\", \"Switzerland/Zurich\", \"Spain/Leioa\", \"United Kingdom/Bristol\", \"Italy/Rome\", \"Germany/T\\u00fcbingen\", \"Germany/Rostock\", \"Canada/Qu\\u00e9bec\", \"Sweden/Uppsala\", \"Netherlands/Utrecht\", \"Netherlands/Amsterdam\", \"United States/Nashville\", \"Austria/Vienna\", \"United States/Richmond\", \"United States/Blacksburg\", \"United States/St Louis\", \"United Kingdom/Oxford\", \"United Kingdom/Glasgow\", \"United Kingdom/Cambridge\", \"United Kingdom/London\", \"Australia/Adelaide\", \"Italy/Rome\", \"Switzerland/Geneva\", \"Italy/Rome\", \"Republic of the Congo/Brazzaville\", \"Egypt/Cairo\", \"United States/Dayton\", \"United States/New Haven\", \"Japan/Yamaguchi\", \"China/Yangzhou\", \"South Korea/Seoul\", \"United Kingdom/York\", \"Turkey/Van\", \"France/Caen\", \"France/Paris\", \"Switzerland/Lausanne\", \"Germany\", \"Denmark\", \"Ghana\", \"Ethiopia\", \"Australia\", \"India\", \"Iran\", \"Iraq\", \"United States\", \"United States\", \"France\", \"Netherlands\", \"Italy\", \"Turkey\", \"United States\", \"Turkey\", \"Madagascar\", \"Belgium\", \"United States\", \"Australia\", \"Greece\", \"United States\", \"United States\", \"France\", \"New Zealand\", \"Germany\", \"India\", \"United States\", \"United States\", \"Mali\", \"Thailand\", \"United Kingdom\", \"Gambia\", \"Spain\", \"Italy\", \"Switzerland\", \"Israel\", \"Brazil\", \"Italy\", \"India\", \"Italy\", \"United States\", \"Germany\", \"Switzerland\", \"United States\", \"Poland\", \"Germany\", \"Iran\", \"United Kingdom\", \"United States\", \"United States\", \"Malawi\", \"France\", \"Burkina Faso\", \"United States\", \"Germany\", \"Italy\", \"Germany\", \"United Kingdom\", \"France\", \"Germany\", \"United States\", \"Portugal\", \"Brazil\", \"Slovakia\", \"Germany\", \"Republic of the Congo\", \"Italy\", \"United Kingdom\", \"Australia\", \"United Kingdom\", \"United States\", \"Belgium\", \"Hungary\", \"Cameroon\", \"Argentina\", \"United States\", \"Canada\", \"Turkey\", \"France\", \"Italy\", \"Egypt\", \"Canada\", \"United Kingdom\", \"United States\", \"Italy\", \"Australia\", \"Brazil\", \"Australia\", \"United Kingdom\", \"South Africa\", \"Venezuela\", \"United Kingdom\", \"Italy\", \"Italy\", \"Italy\", \"Spain\", \"United States\", \"South Korea\", \"United States\", \"Bangladesh\", \"United States\", \"United States\", \"United States\", \"Romania\", \"United States\", \"United States\", \"Germany\", \"Sri Lanka\", \"United States\", \"United States\", \"United States\", \"Denmark\", \"Ireland\", \"France\", \"Italy\", \"Benin\", \"United Kingdom\", \"France\", \"Mexico\", \"Argentina\", \"South Korea\", \"Senegal\", \"Tanzania\", \"United States\", \"United States\", \"Netherlands\", \"United States\", \"Netherlands\", \"Turkey\", \"United States\", \"France\", \"Germany\", \"Ireland\", \"South Africa\", \"United States\", \"Germany\", \"United States\", \"United Kingdom\", \"Canada\", \"Turkey\", \"Germany\", \"Turkey\", \"Turkey\", \"United States\", \"Italy\", \"Italy\", \"Australia\", \"Italy\", \"Italy\", \"United States\", \"Brazil\", \"Germany\", \"Canada\", \"Germany\", \"United States\", \"United States\", \"France\", \"Switzerland\", \"Italy\", \"Belgium\", \"Germany\", \"United Kingdom\", \"Papua New Guinea\", \"South Korea\", \"Austria\", \"United States\", \"Netherlands\", \"South Korea\", \"Germany\", \"Germany\", \"Israel\", \"Germany\", \"Canada\", \"Germany\", \"China\", \"Germany\", \"United States\", \"United Kingdom\", \"Germany\", \"Finland\", \"Greece\", \"Vietnam\", \"Australia\", \"China\", \"United States\", \"United States\", \"Denmark\", \"India\", \"Romania\", \"Nigeria\", \"Nigeria\", \"Nigeria\", \"France\", \"Austria\", \"Greece\", \"United States\", \"Turkey\", \"Italy\", \"Turkey\", \"United States\", \"Nigeria\", \"United States\", \"Saudi Arabia\", \"Germany\", \"Israel\", \"China\", \"United States\", \"Germany\", \"Turkey\", \"Uganda\", \"Japan\", \"Germany\", \"Russia\", \"Iran\", \"Sudan\", \"Germany\", \"Turkey\", \"Japan\", \"Denmark\", \"Germany\", \"Turkey\", \"Germany\", \"Ghana\", \"Finland\", \"Kuwait\", \"Japan\", \"Turkey\", \"Turkey\", \"United States\", \"Gabon\", \"Switzerland\", \"Switzerland\", \"United States\", \"Italy\", \"United Kingdom\", \"Italy\", \"United Kingdom\", \"Netherlands\", \"Spain\", \"Germany\", \"Germany\", \"United States\", \"France\", \"Peru\", \"Ireland\", \"France\", \"United States\", \"Sweden\", \"Portugal\", \"United States\", \"United Kingdom\", \"Slovenia\", \"United Kingdom\", \"United States\", \"United States\", \"United States\", \"United States\", \"Zambia\", \"France\", \"Germany\", \"Netherlands\", \"Spain\", \"Germany\", \"Germany\", \"Bahrain\", \"United Kingdom\", \"United States\", \"Mozambique\", \"France\", \"United States\", \"Iran\", \"United States\", \"Australia\", \"Italy\", \"United States\", \"Italy\", \"Italy\", \"United States\", \"Italy\", \"France\", \"Canada\", \"United States\", \"Tanzania\", \"Tanzania\", \"Iraq\", \"Italy\", \"India\", \"United States\", \"Germany\", \"Turkey\", \"Germany\", \"Japan\", \"Japan\", \"Kenya\", \"France\", \"China\", \"France\", \"Italy\", \"United States\", \"Brazil\", \"Ghana\", \"Italy\", \"United States\", \"India\", \"United States\", \"United States\", \"United States\", \"United States\", \"Australia\", \"United Kingdom\", \"France\", \"Netherlands\", \"United States\", \"United States\", \"United Kingdom\", \"United States\", \"Denmark\", \"Portugal\", \"Germany\", \"Japan\", \"Italy\", \"France\", \"France\", \"Japan\", \"Norway\", \"Canada\", \"Burkina Faso\", \"United Kingdom\", \"Italy\", \"France\", \"Italy\", \"United States\", \"France\", \"Italy\", \"United States\", \"Thailand\", \"Italy\", \"United Kingdom\", \"Italy\", \"Israel\", \"United States\", \"Cambodia\", \"Italy\", \"United States\", \"Italy\", \"United States\", \"Portugal\", \"United Kingdom\", \"Czechia\", \"South Africa\", \"United States\", \"United States\", \"India\", \"Malaysia\", \"Poland\", \"Greece\", \"Canada\", \"Morocco\", \"United States\", \"Israel\", \"United Kingdom\", \"Germany\", \"Italy\", \"France\", \"United States\", \"Greece\", \"Spain\", \"United States\", \"Netherlands\", \"Italy\", \"Brazil\", \"United States\", \"Saudi Arabia\", \"United States\", \"United States\", \"Italy\", \"South Africa\", \"Germany\", \"Netherlands\", \"France\", \"Italy\", \"Germany\", \"Russia\", \"France\", \"United States\", \"United States\", \"United States\", \"Italy\", \"Italy\", \"Italy\", \"Norway\", \"Germany\", \"Spain\", \"Chile\", \"Spain\", \"Canada\", \"Italy\", \"United States\", \"Iran\", \"Japan\", \"South Korea\", \"Malaysia\", \"United Kingdom\", \"India\", \"Iran\", \"Italy\", \"Singapore\", \"Sweden\", \"United Kingdom\", \"United States\", \"Canada\", \"United States\", \"United States\", \"South Africa\", \"Sweden\", \"France\", \"Germany\", \"Australia\", \"South Korea\", \"China\", \"United Kingdom\", \"Australia\", \"Brazil\", \"Saudi Arabia\", \"Finland\", \"Iran\", \"Turkey\", \"Israel\", \"United States\", \"United States\", \"Greece\", \"China\", \"Albania\", \"Italy\", \"Japan\", \"Russia\", \"Canada\", \"France\", \"Japan\", \"Italy\", \"Italy\", \"United States\", \"United States\", \"Tunisia\", \"Italy\", \"Finland\", \"Germany\", \"Italy\", \"Germany\", \"Sweden\", \"Italy\", \"Netherlands\", \"Spain\", \"Turkey\", \"Canada\", \"Italy\", \"Bulgaria\", \"Italy\", \"Italy\", \"Italy\", \"Austria\", \"Portugal\", \"France\", \"France\", \"Italy\", \"Japan\", \"Poland\", \"United States\", \"United Kingdom\", \"United States\", \"United Kingdom\", \"Germany\", \"China\", \"Japan\", \"China\", \"Cameroon\", \"Iran\", \"United Kingdom\", \"United States\", \"Croatia\", \"Spain\", \"Malawi\", \"Switzerland\", \"Norway\", \"\", \"\", \"\", \"\", \"\", \"\", \"\", \"\", \"\", \"\", \"\", \"\", \"\", \"\", \"\", \"\", \"\", \"\", \"\", \"\", \"\", \"\", \"\", \"\", \"\", \"\", \"\", \"\", \"\", \"\", \"\", \"\", \"\", \"\", \"\", \"\", \"\", \"\", \"\", \"\", \"\", \"\", \"\", \"\", \"\", \"\", \"\", \"\", \"\", \"\", \"\", \"\", \"\", \"\", \"\", \"\", \"\", \"\", \"\", \"\", \"\", \"\", \"\", \"\", \"\", \"\", \"\", \"\", \"\", \"\", \"\", \"\", \"\", \"\", \"\", \"\", \"\", \"\"], \"type\": \"sunburst\", \"values\": [9, 4, 1, 1, 25, 1, 1, 1, 4, 4, 16, 1, 16, 1, 4, 144, 4, 121, 1, 4, 625, 1, 1, 9, 9, 1, 81, 1, 1, 9, 25, 25, 4, 1, 1, 49, 1, 1, 9, 4, 1, 16, 16, 1, 25, 4, 1, 9, 1, 1, 1, 16, 25, 4, 225, 1, 1, 25, 4, 1, 9, 4, 1, 4, 1, 1, 4, 1, 1, 4, 1, 1, 121, 1089, 4, 1, 1, 1, 1, 36, 1, 4, 16, 144, 4, 1, 1, 36, 100, 1, 1, 1, 1, 16, 144, 9, 1, 4, 256, 1, 1, 4, 4, 36, 1, 25, 4, 1, 1, 1, 1, 1, 1, 1, 1, 16, 1, 4, 1, 1, 1, 9, 4, 1, 9, 16, 1, 289, 4, 1, 1, 1, 4, 1, 4, 1, 16, 1, 1, 9, 1, 1, 1, 4, 9, 81, 1, 1, 1, 361, 1, 4, 4, 4, 9, 9, 4, 1, 1, 4, 1, 1, 16, 1, 4, 16, 1, 1, 49, 1, 169, 1, 1, 4, 16, 36, 49, 1, 100, 121, 529, 1, 1, 1, 4, 1, 1, 49, 144, 1, 1, 1, 1, 4, 225, 1, 4, 64, 4, 1, 1, 1, 4, 1, 1, 1, 4, 1, 1, 16, 36, 4, 1, 361, 1, 9, 16, 9, 4, 196, 1, 16, 144, 4, 9, 1, 1, 1, 4, 1, 4, 169, 1, 1, 1, 36, 4, 4, 4, 1, 1, 1, 1, 4, 81, 4, 49, 9, 1, 1, 1, 1, 1, 1, 36, 1, 1, 16, 9, 289, 1, 64, 36, 4, 1, 1, 1, 625, 1, 16, 121, 25, 36, 1, 6400, 4, 9, 16, 4, 1, 1, 1, 100, 4, 25, 1, 4, 1, 4, 100, 49, 1, 100, 1, 1, 16, 1, 100, 4, 1, 400, 9, 169, 9, 36, 1, 1, 1, 1, 1, 1, 1, 9, 16, 1, 36, 16, 4, 1, 1, 16, 4, 1, 1, 64, 169, 1, 4, 4, 1, 9, 1, 324, 1, 1, 1, 25, 1, 1, 1, 100, 1, 1, 1, 1, 16, 9, 25, 4, 225, 1, 121, 9, 64, 1, 9, 4, 4, 9, 16, 4, 36, 1, 1, 529, 49, 1, 1, 25, 1, 1, 9, 1, 1, 4, 4, 1, 1, 1, 1, 1, 9, 4, 25, 1, 1, 1, 4, 1, 1, 1, 1, 1, 169, 64, 1, 1, 4, 1, 9, 9, 4, 9, 4, 4, 1, 4, 1, 9, 4, 361, 4, 1, 81, 1, 1, 4, 25, 1, 1, 1, 1, 36, 4, 36, 1, 4, 1, 9, 4, 1, 1, 144, 1, 1, 1, 144, 1, 64, 1, 4, 1, 4, 1, 9, 4, 4, 16, 16, 1, 81, 4, 144, 4, 64, 121, 100, 4, 1, 1, 36, 4, 49, 1, 49, 1, 1, 4, 4, 49, 100, 16, 64, 16, 1, 1, 1, 16, 1, 9, 169, 4, 25, 1, 4, 16, 1, 1, 1, 16, 1, 1, 16, 49, 4, 1, 9, 9, 144, 4, 1, 4, 16, 1, 4, 1, 1, 784, 1, 18225, 121, 9, 1, 16, 1, 25, 25, 196, 1, 36, 4, 1, 16, 4, 4, 4, 4, 1, 4, 1, 1, 25, 9, 25, 36, 49, 4, 16, 4, 4, 1, 256, 25, 16, 1, 1, 4, 1, 9, 1, 25, 4, 1, 1, 1, 1, 9, 16, 1, 1, 9, 4, 16, 4, 1, 16, 4, 9, 81, 1, 4, 81, 25, 9, 25, 1, 4, 16, 1, 1, 4, 9, 36, 16, 9, 1, 4, 400, 4, 36, 144, 1, 1, 64, 16, 1, 36, 9, 1, 256, 1, 1, 100, 4, 1, 4, 729, 4, 784, 1, 1444, 400, 81, 4, 144, 9, 4, 9, 4, 9, 400, 16, 729, 1, 9, 36, 25, 16, 9, 9, 529, 169, 1, 25, 1, 1, 4, 121, 25, 4, 1, 16, 1, 1, 1, 9, 1, 100, 2916, 9, 49, 1, 36, 64, 1, 25, 49, 36, 4, 16, 4, 4, 1, 49, 9, 16, 4, 4, 36, 1, 9, 9, 1, 9, 4, 1, 100, 169, 16, 36, 9, 1, 9, 4, 25, 64, 400, 64, 225, 1, 1, 5929, 9, 1, 4, 100, 1296, 1, 4, 9, 4, 2601, 9, 1, 1, 9, 4, 25, 16, 1, 1, 484, 2116, 784, 64, 256, 1, 2304, 36, 1024, 4, 2704, 1, 4, 36, 16, 1, 9, 4, 1, 1, 1156, 4, 16, 4, 196, 4, 1, 16, 1, 100, 1, 16, 961, 1, 9, 1, 100, 4, 169, 1, 1, 100, 25, 36, 4, 400, 1, 3969, 1, 16, 1, 81, 9, 1, 1024, 36, 4, 4, 25, 1, 1, 9, 9, 1, 16, 36, 1, 9, 1, 4, 4, 4, 1, 25, 4, 4, 3844, 4, 3364, 4, 1, 1, 16, 1, 4, 1, 1, 1, 1, 4, 36, 1, 4, 1, 1, 4, 169, 5, 36, 1, 1, 4, 25, 4, 9, 9, 5, 50, 225, 810, 1, 16, 9, 49, 1, 1, 86, 1, 10, 16, 1, 1, 16, 1, 169, 729, 25, 1, 529, 120, 785, 258, 5, 9, 4, 10, 4, 9, 37, 1, 28, 1, 9, 25, 4, 2, 4, 25, 1, 16, 1, 16, 1454, 401, 1, 82, 1, 12, 1, 4, 1, 1, 4, 144, 5, 31, 10, 4, 2, 1, 9, 5, 1, 1, 16, 1, 400, 1, 877, 3379, 21, 529, 144, 61, 3, 4, 1, 4, 4, 169, 25, 1, 9, 4, 9, 3, 1, 1, 4, 257, 1, 400, 17, 121, 25, 1, 16, 1, 17, 4, 16, 16, 4, 40, 1, 1, 1, 16, 5, 35, 36, 1, 4, 1, 1, 121, 4, 9, 16, 36, 9, 8, 529, 9, 9, 256, 4, 1, 83, 289, 9, 100, 196, 1, 2916, 49, 1, 36, 50, 1, 17, 9, 4, 4, 59, 147, 20, 25, 153, 100, 1, 49, 1, 1, 16, 36, 1, 4, 32, 1, 1, 1, 1, 1, 5, 159, 20, 4, 64, 1, 1, 4, 17, 1, 4, 4, 4, 4, 1, 9, 16, 9, 16, 25, 49, 216, 25, 1, 100, 1, 4, 100, 196, 4, 1, 100, 10, 1, 5, 1, 169, 36, 9, 1, 1, 9, 1, 146, 1, 36, 1, 1, 16, 1, 4, 101, 1, 1, 14, 4, 4, 1, 9, 73, 65, 9, 169, 1, 1, 40, 4, 1, 1, 9, 8, 116, 104, 322, 17, 1155, 1, 34, 1, 9, 36, 1, 9, 101, 186, 4, 4, 1, 25, 1, 4, 178, 1, 9, 1, 70, 1, 26, 226, 8930, 4, 1321, 2, 41, 1, 4, 36, 9, 9, 4, 1, 51, 1, 148, 1, 1, 409, 9, 5, 5, 2760, 4, 1, 1, 16, 1, 178, 1, 1, 224, 1, 9, 37, 5, 25, 1, 25, 17, 1, 1, 1, 1, 1, 144, 1, 64, 6, 9, 52, 147, 4330, 2116, 1, 817, 1, 188, 256, 4, 1, 2358, 4, 1024, 4, 41, 1, 2736, 6, 4, 1, 4, 9, 100, 40, 16, 9, 4, 4, 4, 1, 9, 20, 1, 4, 1, 9, 4, 4, 4, 1, 1, 25, 1, 9, 154, 16, 1, 3, 64, 26911, 1, 5, 16, 52, 64, 1, 1, 25, 1, 16, 9, 4, 1, 9, 1, 9, 1, 6, 1, 1, 100, 5, 9, 81, 158, 9, 16, 9, 36, 961, 173, 1, 4, 4, 1, 25, 49, 4, 121, 4, 1, 1, 4, 4, 1, 171, 25, 1, 1, 306, 1, 17, 9, 25, 9, 9, 100, 1, 141, 1, 265, 5, 1, 8, 445, 1, 1, 1, 4011, 1, 52, 2, 81, 1, 9, 4, 1, 4, 5, 49, 1, 1024, 1, 32, 3, 1, 196, 16, 4, 9, 32, 21, 4, 16, 1, 4, 1, 1, 4, 66, 25, 26, 1, 5, 1, 4, 18, 1, 100, 6, 433, 68, 1, 1, 71, 4, 290, 1, 163, 1, 75, 1510, 6, 221, 5, 100, 33, 1, 1, 23, 941, 1, 529, 2194, 73, 110, 1, 229, 604, 13, 41, 134, 63593, 260, 409, 1, 9, 29, 13, 729, 1, 20, 4, 268, 1, 10, 11, 100, 4, 37, 123, 4, 5, 3, 3, 5, 173, 1, 17, 55, 204, 329, 25, 36, 131, 351, 75, 26, 1, 1838, 10, 9641, 2169, 4, 64, 36]}],\n",
       "                        {\"legend\": {\"tracegroupgap\": 0}, \"margin\": {\"t\": 60}, \"template\": {\"data\": {\"bar\": [{\"error_x\": {\"color\": \"#2a3f5f\"}, \"error_y\": {\"color\": \"#2a3f5f\"}, \"marker\": {\"line\": {\"color\": \"#E5ECF6\", \"width\": 0.5}}, \"type\": \"bar\"}], \"barpolar\": [{\"marker\": {\"line\": {\"color\": \"#E5ECF6\", \"width\": 0.5}}, \"type\": \"barpolar\"}], \"carpet\": [{\"aaxis\": {\"endlinecolor\": \"#2a3f5f\", \"gridcolor\": \"white\", \"linecolor\": \"white\", \"minorgridcolor\": \"white\", \"startlinecolor\": \"#2a3f5f\"}, \"baxis\": {\"endlinecolor\": \"#2a3f5f\", \"gridcolor\": \"white\", \"linecolor\": \"white\", \"minorgridcolor\": \"white\", \"startlinecolor\": \"#2a3f5f\"}, \"type\": \"carpet\"}], \"choropleth\": [{\"colorbar\": {\"outlinewidth\": 0, \"ticks\": \"\"}, \"type\": \"choropleth\"}], \"contour\": [{\"colorbar\": {\"outlinewidth\": 0, \"ticks\": \"\"}, \"colorscale\": [[0.0, \"#0d0887\"], [0.1111111111111111, \"#46039f\"], [0.2222222222222222, \"#7201a8\"], [0.3333333333333333, \"#9c179e\"], [0.4444444444444444, \"#bd3786\"], [0.5555555555555556, \"#d8576b\"], [0.6666666666666666, \"#ed7953\"], [0.7777777777777778, \"#fb9f3a\"], [0.8888888888888888, \"#fdca26\"], [1.0, \"#f0f921\"]], \"type\": \"contour\"}], \"contourcarpet\": [{\"colorbar\": {\"outlinewidth\": 0, \"ticks\": \"\"}, \"type\": \"contourcarpet\"}], \"heatmap\": [{\"colorbar\": {\"outlinewidth\": 0, \"ticks\": \"\"}, \"colorscale\": [[0.0, \"#0d0887\"], [0.1111111111111111, \"#46039f\"], [0.2222222222222222, \"#7201a8\"], [0.3333333333333333, \"#9c179e\"], [0.4444444444444444, \"#bd3786\"], [0.5555555555555556, \"#d8576b\"], [0.6666666666666666, \"#ed7953\"], [0.7777777777777778, \"#fb9f3a\"], [0.8888888888888888, \"#fdca26\"], [1.0, \"#f0f921\"]], \"type\": \"heatmap\"}], \"heatmapgl\": [{\"colorbar\": {\"outlinewidth\": 0, \"ticks\": \"\"}, \"colorscale\": [[0.0, \"#0d0887\"], [0.1111111111111111, \"#46039f\"], [0.2222222222222222, \"#7201a8\"], [0.3333333333333333, \"#9c179e\"], [0.4444444444444444, \"#bd3786\"], [0.5555555555555556, \"#d8576b\"], [0.6666666666666666, \"#ed7953\"], [0.7777777777777778, \"#fb9f3a\"], [0.8888888888888888, \"#fdca26\"], [1.0, \"#f0f921\"]], \"type\": \"heatmapgl\"}], \"histogram\": [{\"marker\": {\"colorbar\": {\"outlinewidth\": 0, \"ticks\": \"\"}}, \"type\": \"histogram\"}], \"histogram2d\": [{\"colorbar\": {\"outlinewidth\": 0, \"ticks\": \"\"}, \"colorscale\": [[0.0, \"#0d0887\"], [0.1111111111111111, \"#46039f\"], [0.2222222222222222, \"#7201a8\"], [0.3333333333333333, \"#9c179e\"], [0.4444444444444444, \"#bd3786\"], [0.5555555555555556, \"#d8576b\"], [0.6666666666666666, \"#ed7953\"], [0.7777777777777778, \"#fb9f3a\"], [0.8888888888888888, \"#fdca26\"], [1.0, \"#f0f921\"]], \"type\": \"histogram2d\"}], \"histogram2dcontour\": [{\"colorbar\": {\"outlinewidth\": 0, \"ticks\": \"\"}, \"colorscale\": [[0.0, \"#0d0887\"], [0.1111111111111111, \"#46039f\"], [0.2222222222222222, \"#7201a8\"], [0.3333333333333333, \"#9c179e\"], [0.4444444444444444, \"#bd3786\"], [0.5555555555555556, \"#d8576b\"], [0.6666666666666666, \"#ed7953\"], [0.7777777777777778, \"#fb9f3a\"], [0.8888888888888888, \"#fdca26\"], [1.0, \"#f0f921\"]], \"type\": \"histogram2dcontour\"}], \"mesh3d\": [{\"colorbar\": {\"outlinewidth\": 0, \"ticks\": \"\"}, \"type\": \"mesh3d\"}], \"parcoords\": [{\"line\": {\"colorbar\": {\"outlinewidth\": 0, \"ticks\": \"\"}}, \"type\": \"parcoords\"}], \"pie\": [{\"automargin\": true, \"type\": \"pie\"}], \"scatter\": [{\"marker\": {\"colorbar\": {\"outlinewidth\": 0, \"ticks\": \"\"}}, \"type\": \"scatter\"}], \"scatter3d\": [{\"line\": {\"colorbar\": {\"outlinewidth\": 0, \"ticks\": \"\"}}, \"marker\": {\"colorbar\": {\"outlinewidth\": 0, \"ticks\": \"\"}}, \"type\": \"scatter3d\"}], \"scattercarpet\": [{\"marker\": {\"colorbar\": {\"outlinewidth\": 0, \"ticks\": \"\"}}, \"type\": \"scattercarpet\"}], \"scattergeo\": [{\"marker\": {\"colorbar\": {\"outlinewidth\": 0, \"ticks\": \"\"}}, \"type\": \"scattergeo\"}], \"scattergl\": [{\"marker\": {\"colorbar\": {\"outlinewidth\": 0, \"ticks\": \"\"}}, \"type\": \"scattergl\"}], \"scattermapbox\": [{\"marker\": {\"colorbar\": {\"outlinewidth\": 0, \"ticks\": \"\"}}, \"type\": \"scattermapbox\"}], \"scatterpolar\": [{\"marker\": {\"colorbar\": {\"outlinewidth\": 0, \"ticks\": \"\"}}, \"type\": \"scatterpolar\"}], \"scatterpolargl\": [{\"marker\": {\"colorbar\": {\"outlinewidth\": 0, \"ticks\": \"\"}}, \"type\": \"scatterpolargl\"}], \"scatterternary\": [{\"marker\": {\"colorbar\": {\"outlinewidth\": 0, \"ticks\": \"\"}}, \"type\": \"scatterternary\"}], \"surface\": [{\"colorbar\": {\"outlinewidth\": 0, \"ticks\": \"\"}, \"colorscale\": [[0.0, \"#0d0887\"], [0.1111111111111111, \"#46039f\"], [0.2222222222222222, \"#7201a8\"], [0.3333333333333333, \"#9c179e\"], [0.4444444444444444, \"#bd3786\"], [0.5555555555555556, \"#d8576b\"], [0.6666666666666666, \"#ed7953\"], [0.7777777777777778, \"#fb9f3a\"], [0.8888888888888888, \"#fdca26\"], [1.0, \"#f0f921\"]], \"type\": \"surface\"}], \"table\": [{\"cells\": {\"fill\": {\"color\": \"#EBF0F8\"}, \"line\": {\"color\": \"white\"}}, \"header\": {\"fill\": {\"color\": \"#C8D4E3\"}, \"line\": {\"color\": \"white\"}}, \"type\": \"table\"}]}, \"layout\": {\"annotationdefaults\": {\"arrowcolor\": \"#2a3f5f\", \"arrowhead\": 0, \"arrowwidth\": 1}, \"coloraxis\": {\"colorbar\": {\"outlinewidth\": 0, \"ticks\": \"\"}}, \"colorscale\": {\"diverging\": [[0, \"#8e0152\"], [0.1, \"#c51b7d\"], [0.2, \"#de77ae\"], [0.3, \"#f1b6da\"], [0.4, \"#fde0ef\"], [0.5, \"#f7f7f7\"], [0.6, \"#e6f5d0\"], [0.7, \"#b8e186\"], [0.8, \"#7fbc41\"], [0.9, \"#4d9221\"], [1, \"#276419\"]], \"sequential\": [[0.0, \"#0d0887\"], [0.1111111111111111, \"#46039f\"], [0.2222222222222222, \"#7201a8\"], [0.3333333333333333, \"#9c179e\"], [0.4444444444444444, \"#bd3786\"], [0.5555555555555556, \"#d8576b\"], [0.6666666666666666, \"#ed7953\"], [0.7777777777777778, \"#fb9f3a\"], [0.8888888888888888, \"#fdca26\"], [1.0, \"#f0f921\"]], \"sequentialminus\": [[0.0, \"#0d0887\"], [0.1111111111111111, \"#46039f\"], [0.2222222222222222, \"#7201a8\"], [0.3333333333333333, \"#9c179e\"], [0.4444444444444444, \"#bd3786\"], [0.5555555555555556, \"#d8576b\"], [0.6666666666666666, \"#ed7953\"], [0.7777777777777778, \"#fb9f3a\"], [0.8888888888888888, \"#fdca26\"], [1.0, \"#f0f921\"]]}, \"colorway\": [\"#636efa\", \"#EF553B\", \"#00cc96\", \"#ab63fa\", \"#FFA15A\", \"#19d3f3\", \"#FF6692\", \"#B6E880\", \"#FF97FF\", \"#FECB52\"], \"font\": {\"color\": \"#2a3f5f\"}, \"geo\": {\"bgcolor\": \"white\", \"lakecolor\": \"white\", \"landcolor\": \"#E5ECF6\", \"showlakes\": true, \"showland\": true, \"subunitcolor\": \"white\"}, \"hoverlabel\": {\"align\": \"left\"}, \"hovermode\": \"closest\", \"mapbox\": {\"style\": \"light\"}, \"paper_bgcolor\": \"white\", \"plot_bgcolor\": \"#E5ECF6\", \"polar\": {\"angularaxis\": {\"gridcolor\": \"white\", \"linecolor\": \"white\", \"ticks\": \"\"}, \"bgcolor\": \"#E5ECF6\", \"radialaxis\": {\"gridcolor\": \"white\", \"linecolor\": \"white\", \"ticks\": \"\"}}, \"scene\": {\"xaxis\": {\"backgroundcolor\": \"#E5ECF6\", \"gridcolor\": \"white\", \"gridwidth\": 2, \"linecolor\": \"white\", \"showbackground\": true, \"ticks\": \"\", \"zerolinecolor\": \"white\"}, \"yaxis\": {\"backgroundcolor\": \"#E5ECF6\", \"gridcolor\": \"white\", \"gridwidth\": 2, \"linecolor\": \"white\", \"showbackground\": true, \"ticks\": \"\", \"zerolinecolor\": \"white\"}, \"zaxis\": {\"backgroundcolor\": \"#E5ECF6\", \"gridcolor\": \"white\", \"gridwidth\": 2, \"linecolor\": \"white\", \"showbackground\": true, \"ticks\": \"\", \"zerolinecolor\": \"white\"}}, \"shapedefaults\": {\"line\": {\"color\": \"#2a3f5f\"}}, \"ternary\": {\"aaxis\": {\"gridcolor\": \"white\", \"linecolor\": \"white\", \"ticks\": \"\"}, \"baxis\": {\"gridcolor\": \"white\", \"linecolor\": \"white\", \"ticks\": \"\"}, \"bgcolor\": \"#E5ECF6\", \"caxis\": {\"gridcolor\": \"white\", \"linecolor\": \"white\", \"ticks\": \"\"}}, \"title\": {\"x\": 0.05}, \"xaxis\": {\"automargin\": true, \"gridcolor\": \"white\", \"linecolor\": \"white\", \"ticks\": \"\", \"title\": {\"standoff\": 15}, \"zerolinecolor\": \"white\", \"zerolinewidth\": 2}, \"yaxis\": {\"automargin\": true, \"gridcolor\": \"white\", \"linecolor\": \"white\", \"ticks\": \"\", \"title\": {\"standoff\": 15}, \"zerolinecolor\": \"white\", \"zerolinewidth\": 2}}}},\n",
       "                        {\"responsive\": true}\n",
       "                    ).then(function(){\n",
       "                            \n",
       "var gd = document.getElementById('08a7343f-3738-4dc8-8481-9b3b8de7f261');\n",
       "var x = new MutationObserver(function (mutations, observer) {{\n",
       "        var display = window.getComputedStyle(gd).display;\n",
       "        if (!display || display === 'none') {{\n",
       "            console.log([gd, 'removed!']);\n",
       "            Plotly.purge(gd);\n",
       "            observer.disconnect();\n",
       "        }}\n",
       "}});\n",
       "\n",
       "// Listen for the removal of the full notebook cells\n",
       "var notebookContainer = gd.closest('#notebook-container');\n",
       "if (notebookContainer) {{\n",
       "    x.observe(notebookContainer, {childList: true});\n",
       "}}\n",
       "\n",
       "// Listen for the clearing of the current output cell\n",
       "var outputEl = gd.closest('.output');\n",
       "if (outputEl) {{\n",
       "    x.observe(outputEl, {childList: true});\n",
       "}}\n",
       "\n",
       "                        })\n",
       "                };\n",
       "                });\n",
       "            </script>\n",
       "        </div>"
      ]
     },
     "metadata": {},
     "output_type": "display_data"
    }
   ],
   "source": [
    "px.sunburst(\n",
    "    df, \n",
    "    path=['aff_country', 'aff_city', 'aff_name'], \n",
    "    values='tot_researchers',\n",
    "    hover_data=['aff_id']\n",
    ")"
   ]
  },
  {
   "cell_type": "code",
   "execution_count": null,
   "metadata": {
    "Collapsed": "false"
   },
   "outputs": [],
   "source": []
  },
  {
   "cell_type": "code",
   "execution_count": null,
   "metadata": {
    "Collapsed": "false"
   },
   "outputs": [],
   "source": []
  }
 ],
 "metadata": {
  "colab": {
   "collapsed_sections": [],
   "name": "sankey.ipynb",
   "provenance": []
  },
  "kernelspec": {
   "display_name": "Python 3",
   "language": "python",
   "name": "python3"
  },
  "language_info": {
   "codemirror_mode": {
    "name": "ipython",
    "version": 3
   },
   "file_extension": ".py",
   "mimetype": "text/x-python",
   "name": "python",
   "nbconvert_exporter": "python",
   "pygments_lexer": "ipython3",
   "version": "3.8.5"
  },
  "toc-autonumbering": false,
  "toc-showcode": false,
  "toc-showmarkdowntxt": true,
  "toc-showtags": false
 },
 "nbformat": 4,
 "nbformat_minor": 4
}
