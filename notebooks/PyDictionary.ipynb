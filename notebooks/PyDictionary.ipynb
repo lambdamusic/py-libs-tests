{
 "cells": [
  {
   "cell_type": "markdown",
   "metadata": {
    "Collapsed": "false",
    "colab_type": "text",
    "id": "Y6_G7SL2kSLN"
   },
   "source": [
    "# Testing out PyDictionary\n",
    "\n",
    "* https://pypi.org/project/PyDictionary/\n",
    "\n",
    "Doesn't seem to be working too well...."
   ]
  },
  {
   "cell_type": "code",
   "execution_count": 1,
   "metadata": {
    "Collapsed": "false",
    "colab": {
     "base_uri": "https://localhost:8080/",
     "height": 428
    },
    "colab_type": "code",
    "executionInfo": {
     "elapsed": 6486,
     "status": "ok",
     "timestamp": 1569417255941,
     "user": {
      "displayName": "Michele Pasin",
      "photoUrl": "https://lh3.googleusercontent.com/a-/AAuE7mBu8LVjIGgontF2Wax51BoL5KFx8esezX3bUmaa0g=s64",
      "userId": "10309320684375994511"
     },
     "user_tz": -60
    },
    "id": "tQbVZfuxjo2m",
    "outputId": "1ef93781-ddba-422c-bb5b-e03861e3cfff"
   },
   "outputs": [
    {
     "name": "stdout",
     "output_type": "stream",
     "text": [
      "Collecting PyDictionary\n",
      "  Downloading https://files.pythonhosted.org/packages/bf/b3/3014f6ee372f93d7bc1c743b020d0b223d7e792f2aa4f117466991832ba1/PyDictionary-1.5.2.zip\n",
      "Requirement already satisfied: beautifulsoup4 in /usr/local/lib/python3.6/dist-packages (from PyDictionary) (4.6.3)\n",
      "Collecting goslate (from PyDictionary)\n",
      "  Downloading https://files.pythonhosted.org/packages/39/0b/50af938a1c3d4f4c595b6a22d37af11ebe666246b05a1a97573e8c8944e5/goslate-1.5.1.tar.gz\n",
      "Requirement already satisfied: requests in /usr/local/lib/python3.6/dist-packages (from PyDictionary) (2.21.0)\n",
      "Requirement already satisfied: click in /usr/local/lib/python3.6/dist-packages (from PyDictionary) (7.0)\n",
      "Collecting futures (from goslate->PyDictionary)\n",
      "  Downloading https://files.pythonhosted.org/packages/05/80/f41cca0ea1ff69bce7e7a7d76182b47bb4e1a494380a532af3e8ee70b9ec/futures-3.1.1-py3-none-any.whl\n",
      "Requirement already satisfied: idna<2.9,>=2.5 in /usr/local/lib/python3.6/dist-packages (from requests->PyDictionary) (2.8)\n",
      "Requirement already satisfied: chardet<3.1.0,>=3.0.2 in /usr/local/lib/python3.6/dist-packages (from requests->PyDictionary) (3.0.4)\n",
      "Requirement already satisfied: certifi>=2017.4.17 in /usr/local/lib/python3.6/dist-packages (from requests->PyDictionary) (2019.6.16)\n",
      "Requirement already satisfied: urllib3<1.25,>=1.21.1 in /usr/local/lib/python3.6/dist-packages (from requests->PyDictionary) (1.24.3)\n",
      "Building wheels for collected packages: PyDictionary, goslate\n",
      "  Building wheel for PyDictionary (setup.py) ... \u001b[?25l\u001b[?25hdone\n",
      "  Created wheel for PyDictionary: filename=PyDictionary-1.5.2-cp36-none-any.whl size=4743 sha256=ba79887048c2d3215b32aa2d16825f0c7a539f277b4e95f7f0ef10af350a0fbd\n",
      "  Stored in directory: /root/.cache/pip/wheels/8f/55/4a/14dc8470ed285bf2463f958022322e8de7c46c2555c45e3007\n",
      "  Building wheel for goslate (setup.py) ... \u001b[?25l\u001b[?25hdone\n",
      "  Created wheel for goslate: filename=goslate-1.5.1-cp36-none-any.whl size=11549 sha256=5ebcf0f02104f139c42836712597baeae2a53309a641f4c0dafea03d56893e7b\n",
      "  Stored in directory: /root/.cache/pip/wheels/4f/7f/28/6f52271012a7649b54b1a7adaae329b4246bbbf9d1e4f6e51a\n",
      "Successfully built PyDictionary goslate\n",
      "Installing collected packages: futures, goslate, PyDictionary\n",
      "Successfully installed PyDictionary-1.5.2 futures-3.1.1 goslate-1.5.1\n"
     ]
    }
   ],
   "source": [
    "!pip install PyDictionary"
   ]
  },
  {
   "cell_type": "code",
   "execution_count": null,
   "metadata": {
    "Collapsed": "false",
    "colab": {},
    "colab_type": "code",
    "id": "QrOSFI-Mjqh_"
   },
   "outputs": [],
   "source": [
    "from PyDictionary import PyDictionary\n",
    "\n",
    "dictionary=PyDictionary()"
   ]
  },
  {
   "cell_type": "code",
   "execution_count": 4,
   "metadata": {
    "Collapsed": "false",
    "colab": {
     "base_uri": "https://localhost:8080/",
     "height": 139
    },
    "colab_type": "code",
    "executionInfo": {
     "elapsed": 6675,
     "status": "ok",
     "timestamp": 1569417309209,
     "user": {
      "displayName": "Michele Pasin",
      "photoUrl": "https://lh3.googleusercontent.com/a-/AAuE7mBu8LVjIGgontF2Wax51BoL5KFx8esezX3bUmaa0g=s64",
      "userId": "10309320684375994511"
     },
     "user_tz": -60
    },
    "id": "6a0nR-cUj1WY",
    "outputId": "a3ca1b59-0e14-4dea-84d7-96a032887835"
   },
   "outputs": [
    {
     "name": "stdout",
     "output_type": "stream",
     "text": [
      "{'Verb': ['make less natural or innocent', 'practice sophistry; change the meaning of or be vague about in order to mislead or deceive', 'alter and make impure, as with the intention to deceive', 'make more complex or refined'], 'Adjective': ['having or appealing to those having worldly knowledge and refinement and savoir-faire', 'ahead in development; complex or intricate', 'intellectually appealing']}\n"
     ]
    },
    {
     "name": "stderr",
     "output_type": "stream",
     "text": [
      "/usr/local/lib/python3.6/dist-packages/PyDictionary/utils.py:5: UserWarning: No parser was explicitly specified, so I'm using the best available HTML parser for this system (\"lxml\"). This usually isn't a problem, but if you run this code on another system, or in a different virtual environment, it may use a different parser and behave differently.\n",
      "\n",
      "The code that caused this warning is on line 5 of the file /usr/local/lib/python3.6/dist-packages/PyDictionary/utils.py. To get rid of this warning, pass the additional argument 'features=\"lxml\"' to the BeautifulSoup constructor.\n",
      "\n",
      "  return BeautifulSoup(requests.get(url).text)\n"
     ]
    }
   ],
   "source": [
    "print (dictionary.meaning(\"sophisticated\"))"
   ]
  },
  {
   "cell_type": "code",
   "execution_count": 7,
   "metadata": {
    "Collapsed": "false",
    "colab": {
     "base_uri": "https://localhost:8080/",
     "height": 156
    },
    "colab_type": "code",
    "executionInfo": {
     "elapsed": 639,
     "status": "ok",
     "timestamp": 1569417348857,
     "user": {
      "displayName": "Michele Pasin",
      "photoUrl": "https://lh3.googleusercontent.com/a-/AAuE7mBu8LVjIGgontF2Wax51BoL5KFx8esezX3bUmaa0g=s64",
      "userId": "10309320684375994511"
     },
     "user_tz": -60
    },
    "id": "LuDF9cpsj4Sx",
    "outputId": "686aaf81-5940-49ca-e342-4214f17f4b94"
   },
   "outputs": [
    {
     "name": "stdout",
     "output_type": "stream",
     "text": [
      "breast has no Synonyms in the API\n",
      "None\n"
     ]
    },
    {
     "name": "stderr",
     "output_type": "stream",
     "text": [
      "/usr/local/lib/python3.6/dist-packages/PyDictionary/utils.py:5: UserWarning: No parser was explicitly specified, so I'm using the best available HTML parser for this system (\"lxml\"). This usually isn't a problem, but if you run this code on another system, or in a different virtual environment, it may use a different parser and behave differently.\n",
      "\n",
      "The code that caused this warning is on line 5 of the file /usr/local/lib/python3.6/dist-packages/PyDictionary/utils.py. To get rid of this warning, pass the additional argument 'features=\"lxml\"' to the BeautifulSoup constructor.\n",
      "\n",
      "  return BeautifulSoup(requests.get(url).text)\n"
     ]
    }
   ],
   "source": [
    "print(dictionary.synonym(\"breast\"))"
   ]
  },
  {
   "cell_type": "code",
   "execution_count": 8,
   "metadata": {
    "Collapsed": "false",
    "colab": {
     "base_uri": "https://localhost:8080/",
     "height": 156
    },
    "colab_type": "code",
    "executionInfo": {
     "elapsed": 592,
     "status": "ok",
     "timestamp": 1569417359213,
     "user": {
      "displayName": "Michele Pasin",
      "photoUrl": "https://lh3.googleusercontent.com/a-/AAuE7mBu8LVjIGgontF2Wax51BoL5KFx8esezX3bUmaa0g=s64",
      "userId": "10309320684375994511"
     },
     "user_tz": -60
    },
    "id": "FxHAv_5Sj_P4",
    "outputId": "b7c62e52-c3c3-40f1-cf7b-2b8f842cc6d7"
   },
   "outputs": [
    {
     "name": "stdout",
     "output_type": "stream",
     "text": [
      "Life has no Antonyms in the API\n",
      "None\n"
     ]
    },
    {
     "name": "stderr",
     "output_type": "stream",
     "text": [
      "/usr/local/lib/python3.6/dist-packages/PyDictionary/utils.py:5: UserWarning: No parser was explicitly specified, so I'm using the best available HTML parser for this system (\"lxml\"). This usually isn't a problem, but if you run this code on another system, or in a different virtual environment, it may use a different parser and behave differently.\n",
      "\n",
      "The code that caused this warning is on line 5 of the file /usr/local/lib/python3.6/dist-packages/PyDictionary/utils.py. To get rid of this warning, pass the additional argument 'features=\"lxml\"' to the BeautifulSoup constructor.\n",
      "\n",
      "  return BeautifulSoup(requests.get(url).text)\n"
     ]
    }
   ],
   "source": [
    "print (dictionary.antonym(\"Life\"))"
   ]
  },
  {
   "cell_type": "code",
   "execution_count": null,
   "metadata": {
    "Collapsed": "false",
    "colab": {},
    "colab_type": "code",
    "id": "XoTAZ3M-kGzm"
   },
   "outputs": [],
   "source": []
  }
 ],
 "metadata": {
  "colab": {
   "collapsed_sections": [],
   "name": "PyDictionary.ipynb",
   "provenance": []
  },
  "kernelspec": {
   "display_name": "Python 3",
   "language": "python",
   "name": "python3"
  },
  "language_info": {
   "codemirror_mode": {
    "name": "ipython",
    "version": 3
   },
   "file_extension": ".py",
   "mimetype": "text/x-python",
   "name": "python",
   "nbconvert_exporter": "python",
   "pygments_lexer": "ipython3",
   "version": "3.8.5"
  }
 },
 "nbformat": 4,
 "nbformat_minor": 4
}
