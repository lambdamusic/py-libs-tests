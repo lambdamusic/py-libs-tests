{
 "cells": [
  {
   "cell_type": "markdown",
   "metadata": {
    "Collapsed": "false",
    "colab_type": "text",
    "id": "FzWzWQV4GulC"
   },
   "source": [
    "# Pandas Recipes\n",
    "\n",
    "* https://pandas.pydata.org/pandas-docs/stable/index.html\n",
    "* https://www.shanelynn.ie/using-pandas-dataframe-creating-editing-viewing-data-in-python/\n",
    "* https://www.shanelynn.ie/summarising-aggregation-and-grouping-data-in-python-pandas/\n",
    "\n"
   ]
  },
  {
   "cell_type": "code",
   "execution_count": null,
   "metadata": {
    "Collapsed": "false",
    "colab": {},
    "colab_type": "code",
    "id": "d6SnTrR_GulD"
   },
   "outputs": [],
   "source": [
    "import json\n",
    "import dimcli\n",
    "from dimcli.shortcuts import dslquery\n",
    "import pandas as pd\n",
    "from pandas.io.json import json_normalize"
   ]
  },
  {
   "cell_type": "markdown",
   "metadata": {
    "Collapsed": "false",
    "colab_type": "text",
    "id": "tzloBT7LGulF"
   },
   "source": [
    "### Reminder: about tidy data\n",
    "\n",
    "http://www.jeannicholashould.com/tidy-data-in-python.html"
   ]
  },
  {
   "cell_type": "markdown",
   "metadata": {
    "Collapsed": "false",
    "colab_type": "text",
    "id": "A2DjBhUkGulF"
   },
   "source": [
    "* Each variable forms a column and contains values\n",
    "* Each observation forms a row\n",
    "* Each type of observational unit forms a table\n",
    "\n",
    "A few definitions:\n",
    "\n",
    "* Variable: A measurement or an attribute. Height, weight, sex, etc.\n",
    "* Value: The actual measurement or attribute. 152 cm, 80 kg, female, etc.\n",
    "* Observation: All values measure on the same unit. Each person.\n"
   ]
  },
  {
   "cell_type": "markdown",
   "metadata": {
    "Collapsed": "false",
    "colab_type": "text",
    "id": "D9XSK-ucGulG"
   },
   "source": [
    "## Load some data"
   ]
  },
  {
   "cell_type": "code",
   "execution_count": null,
   "metadata": {
    "Collapsed": "false",
    "colab": {},
    "colab_type": "code",
    "id": "zzUQs-5GlT6c"
   },
   "outputs": [],
   "source": [
    "### With empty columns\n",
    "\n",
    "df = pd.DataFrame(columns=['A','B','C','D','E','F','G'])"
   ]
  },
  {
   "cell_type": "markdown",
   "metadata": {
    "Collapsed": "false",
    "colab_type": "text",
    "id": "CUTihTJXGulM"
   },
   "source": [
    "### by columns\n",
    "\n"
   ]
  },
  {
   "cell_type": "code",
   "execution_count": null,
   "metadata": {
    "Collapsed": "false",
    "colab": {},
    "colab_type": "code",
    "id": "aQ96oNeslb_s"
   },
   "outputs": [],
   "source": [
    "df = pd.DataFrame({\n",
    "    'name' : ['val1', 'val2', 'etc..'],\n",
    "    'category' : ['val1', 'val2', 'etc..'],\n",
    "})"
   ]
  },
  {
   "cell_type": "markdown",
   "metadata": {
    "Collapsed": "false",
    "colab_type": "text",
    "id": "13XCbUy6v9RH"
   },
   "source": [
    "\n",
    "\n",
    "### by rows (records)\n",
    "\n"
   ]
  },
  {
   "cell_type": "code",
   "execution_count": null,
   "metadata": {
    "Collapsed": "false",
    "colab": {},
    "colab_type": "code",
    "id": "Zj8smBJWlj9s"
   },
   "outputs": [],
   "source": [
    "df = pd.DataFrame.from_dict([\n",
    "    {'name': 'val1', 'category' : 'val1' },\n",
    "    {'name': 'val1', 'category' : 'val1' },\n",
    "    ...\n",
    "})"
   ]
  },
  {
   "cell_type": "markdown",
   "metadata": {
    "Collapsed": "false",
    "colab_type": "text",
    "id": "DOsVwTy9GulN"
   },
   "source": [
    "### From JSON\n"
   ]
  },
  {
   "cell_type": "code",
   "execution_count": null,
   "metadata": {
    "Collapsed": "false",
    "colab": {},
    "colab_type": "code",
    "id": "o0DsC1VplpB6"
   },
   "outputs": [],
   "source": [
    "pd.read_json('file.json', orient='columns') # for rows, use 'records' \n",
    "\n",
    "pd.to_json('out.json', orient='columns')"
   ]
  },
  {
   "cell_type": "markdown",
   "metadata": {
    "Collapsed": "false",
    "colab_type": "text",
    "id": "O9TmT3YLl_zJ"
   },
   "source": [
    "### From CSV"
   ]
  },
  {
   "cell_type": "code",
   "execution_count": null,
   "metadata": {
    "Collapsed": "false",
    "colab": {},
    "colab_type": "code",
    "id": "_zvaMQOvl_ji"
   },
   "outputs": [],
   "source": [
    "df = pd.read_csv(\"/tmp/tmp07wuam09/data/cereal.csv\")"
   ]
  },
  {
   "cell_type": "markdown",
   "metadata": {
    "Collapsed": "false",
    "colab_type": "text",
    "id": "CuLSzCIhS2DV"
   },
   "source": [
    "## Add cell value\n",
    "\n",
    "```\n",
    "ddf.at['Row Index or Label', 'Col name'] = 10\n",
    "```\n"
   ]
  },
  {
   "cell_type": "markdown",
   "metadata": {
    "Collapsed": "false",
    "colab_type": "text",
    "id": "nLN65ymLGulN"
   },
   "source": [
    "## Inspect dataframe and Index"
   ]
  },
  {
   "cell_type": "code",
   "execution_count": null,
   "metadata": {
    "Collapsed": "false",
    "colab": {},
    "colab_type": "code",
    "id": "DXF8FS4WGulO",
    "outputId": "bfa49c0d-9389-4500-d952-ede8b7d970a1"
   },
   "outputs": [
    {
     "data": {
      "text/plain": [
       "(1000, 9)"
      ]
     },
     "execution_count": 30,
     "metadata": {
      "tags": []
     },
     "output_type": "execute_result"
    }
   ],
   "source": [
    "df.shape"
   ]
  },
  {
   "cell_type": "code",
   "execution_count": null,
   "metadata": {
    "Collapsed": "false",
    "colab": {},
    "colab_type": "code",
    "id": "yNhkVyjuGulQ",
    "outputId": "645beb98-b8eb-4b92-8587-615da86b7fec"
   },
   "outputs": [
    {
     "data": {
      "text/plain": [
       "2"
      ]
     },
     "execution_count": 29,
     "metadata": {
      "tags": []
     },
     "output_type": "execute_result"
    }
   ],
   "source": [
    "df.ndim"
   ]
  },
  {
   "cell_type": "code",
   "execution_count": null,
   "metadata": {
    "Collapsed": "false",
    "colab": {},
    "colab_type": "code",
    "id": "EsFTX34XGulR",
    "outputId": "fce0c79a-348b-4560-e580-2cf788ec024c"
   },
   "outputs": [
    {
     "data": {
      "text/plain": [
       "author_affiliations    object\n",
       "id                     object\n",
       "issue                  object\n",
       "journal                object\n",
       "pages                  object\n",
       "title                  object\n",
       "type                   object\n",
       "volume                 object\n",
       "year                    int64\n",
       "dtype: object"
      ]
     },
     "execution_count": 31,
     "metadata": {
      "tags": []
     },
     "output_type": "execute_result"
    }
   ],
   "source": [
    "df.dtypes"
   ]
  },
  {
   "cell_type": "code",
   "execution_count": null,
   "metadata": {
    "Collapsed": "false",
    "colab": {},
    "colab_type": "code",
    "id": "ufb7m2A51EdG"
   },
   "outputs": [],
   "source": [
    "# the 'describe' method returns basic statistic for all columns of a dataframe\n",
    "df.describe(include='all')"
   ]
  },
  {
   "cell_type": "markdown",
   "metadata": {
    "Collapsed": "false",
    "colab_type": "text",
    "id": "6uobOn9HGulT"
   },
   "source": [
    "### Working with the index"
   ]
  },
  {
   "cell_type": "code",
   "execution_count": null,
   "metadata": {
    "Collapsed": "false",
    "colab": {},
    "colab_type": "code",
    "collapsed": false,
    "id": "eVQXYzg-GulT",
    "inputHidden": false,
    "jupyter": {
     "outputs_hidden": false
    },
    "outputHidden": false,
    "outputId": "e2ad1122-884d-49c3-ff90-1d8e62aa6a7b"
   },
   "outputs": [
    {
     "data": {
      "text/plain": [
       "RangeIndex(start=0, stop=1000, step=1)"
      ]
     },
     "execution_count": 8,
     "metadata": {
      "tags": []
     },
     "output_type": "execute_result"
    }
   ],
   "source": [
    "df.index"
   ]
  },
  {
   "cell_type": "code",
   "execution_count": null,
   "metadata": {
    "Collapsed": "false",
    "colab": {},
    "colab_type": "code",
    "id": "fldw9r8zGulV",
    "outputId": "80f72727-8516-41b5-9c42-dfdf585d07b5"
   },
   "outputs": [
    {
     "data": {
      "text/plain": [
       "author_affiliations    [[{'first_name': 'Karl', 'last_name': 'Derouen...\n",
       "id                                                        pub.1011026276\n",
       "issue                                                                  4\n",
       "journal                {'id': 'jour.1139246', 'title': 'Defence and P...\n",
       "pages                                                            251-260\n",
       "title                  The Role of the UN in International Crisis Ter...\n",
       "type                                                             article\n",
       "volume                                                                14\n",
       "Name: 2003, dtype: object"
      ]
     },
     "execution_count": 40,
     "metadata": {
      "tags": []
     },
     "output_type": "execute_result"
    }
   ],
   "source": [
    "df = df.set_index('year')\n",
    "df.loc['2003']"
   ]
  },
  {
   "cell_type": "code",
   "execution_count": null,
   "metadata": {
    "Collapsed": "false",
    "colab": {},
    "colab_type": "code",
    "id": "TiaDaConGulX"
   },
   "outputs": [],
   "source": [
    "df = df.reset_index() # return index to original integer-based state"
   ]
  },
  {
   "cell_type": "markdown",
   "metadata": {
    "Collapsed": "false",
    "colab_type": "text",
    "id": "HDSl4C19GulY"
   },
   "source": [
    "## Rows and columns"
   ]
  },
  {
   "cell_type": "code",
   "execution_count": null,
   "metadata": {
    "Collapsed": "false",
    "colab": {},
    "colab_type": "code",
    "id": "tlLB2_jMGulZ",
    "outputId": "21f11a33-b6cb-405f-aa67-47ec27f221c8"
   },
   "outputs": [
    {
     "data": {
      "text/plain": [
       "Index(['year', 'author_affiliations', 'id', 'issue', 'journal', 'pages',\n",
       "       'title', 'type', 'volume'],\n",
       "      dtype='object')"
      ]
     },
     "execution_count": 54,
     "metadata": {
      "tags": []
     },
     "output_type": "execute_result"
    }
   ],
   "source": [
    "df.columns"
   ]
  },
  {
   "cell_type": "code",
   "execution_count": null,
   "metadata": {
    "Collapsed": "false",
    "colab": {},
    "colab_type": "code",
    "id": "dx_8W1RcGula",
    "outputId": "a0310b80-222a-4a7f-9dd9-e32aa52ea737"
   },
   "outputs": [
    {
     "data": {
      "text/plain": [
       "year                                                                2015\n",
       "author_affiliations    [[{'first_name': 'TIM', 'last_name': 'OLIVER',...\n",
       "id                                                        pub.1013516622\n",
       "issue                                                                  1\n",
       "journal                {'id': 'jour.1024766', 'title': 'International...\n",
       "pages                                                              77-91\n",
       "title                  To be or not to be in Europe: is that the ques...\n",
       "type                                                             article\n",
       "volume                                                                91\n",
       "Name: 2, dtype: object"
      ]
     },
     "execution_count": 44,
     "metadata": {
      "tags": []
     },
     "output_type": "execute_result"
    }
   ],
   "source": [
    "df.iloc[2] # select by position"
   ]
  },
  {
   "cell_type": "code",
   "execution_count": null,
   "metadata": {
    "Collapsed": "false",
    "colab": {},
    "colab_type": "code",
    "id": "Hwr0jamvGuld",
    "outputId": "d2260692-6d44-4367-9283-052991a69890"
   },
   "outputs": [
    {
     "data": {
      "text/plain": [
       "year                                                                2015\n",
       "author_affiliations    [[{'first_name': 'TIM', 'last_name': 'OLIVER',...\n",
       "id                                                        pub.1013516622\n",
       "issue                                                                  1\n",
       "journal                {'id': 'jour.1024766', 'title': 'International...\n",
       "pages                                                              77-91\n",
       "title                  To be or not to be in Europe: is that the ques...\n",
       "type                                                             article\n",
       "volume                                                                91\n",
       "Name: 2, dtype: object"
      ]
     },
     "execution_count": 47,
     "metadata": {
      "tags": []
     },
     "output_type": "execute_result"
    }
   ],
   "source": [
    "df.loc[2] # equivalent to iloc in this case // label based indexing"
   ]
  },
  {
   "cell_type": "code",
   "execution_count": null,
   "metadata": {
    "Collapsed": "false",
    "colab": {},
    "colab_type": "code",
    "id": "UoE7sw0kGulg",
    "outputId": "9befb2a9-e1ec-42f2-a46b-284bd26ccff5"
   },
   "outputs": [
    {
     "data": {
      "text/plain": [
       "0    2003\n",
       "1    2006\n",
       "2    2015\n",
       "3    2015\n",
       "4    2015\n",
       "Name: year, dtype: int64"
      ]
     },
     "execution_count": 51,
     "metadata": {
      "tags": []
     },
     "output_type": "execute_result"
    }
   ],
   "source": [
    "df.year.head() # grab a column by its name with dot notation"
   ]
  },
  {
   "cell_type": "code",
   "execution_count": null,
   "metadata": {
    "Collapsed": "false",
    "colab": {},
    "colab_type": "code",
    "id": "t4-dLec6Gulh",
    "outputId": "54d00e17-1f78-49de-8c92-7e18a2f0b177"
   },
   "outputs": [
    {
     "data": {
      "text/plain": [
       "pandas.core.series.Series"
      ]
     },
     "execution_count": 52,
     "metadata": {
      "tags": []
     },
     "output_type": "execute_result"
    }
   ],
   "source": [
    "type(df.year)"
   ]
  },
  {
   "cell_type": "code",
   "execution_count": null,
   "metadata": {
    "Collapsed": "false",
    "colab": {},
    "colab_type": "code",
    "id": "6C1o5bbFGulj",
    "outputId": "351ed829-90be-4350-b868-1c96a9882a88"
   },
   "outputs": [
    {
     "data": {
      "text/plain": [
       "count    1000.000000\n",
       "mean     2017.100000\n",
       "std         0.954417\n",
       "min      2003.000000\n",
       "25%      2017.000000\n",
       "50%      2017.000000\n",
       "75%      2018.000000\n",
       "max      2019.000000\n",
       "Name: year, dtype: float64"
      ]
     },
     "execution_count": 35,
     "metadata": {
      "tags": []
     },
     "output_type": "execute_result"
    }
   ],
   "source": [
    "df['year'].describe()"
   ]
  },
  {
   "cell_type": "code",
   "execution_count": null,
   "metadata": {
    "Collapsed": "false",
    "colab": {},
    "colab_type": "code",
    "collapsed": false,
    "id": "u6jBq07wGull",
    "inputHidden": false,
    "jupyter": {
     "outputs_hidden": false
    },
    "outputHidden": false,
    "outputId": "dfe00261-6472-4623-9f21-ae74d4c935a1"
   },
   "outputs": [
    {
     "data": {
      "text/plain": [
       "2017    479\n",
       "2018    326\n",
       "2016    154\n",
       "2019     28\n",
       "2015     11\n",
       "2006      1\n",
       "2003      1\n",
       "Name: year, dtype: int64"
      ]
     },
     "execution_count": 5,
     "metadata": {
      "tags": []
     },
     "output_type": "execute_result"
    }
   ],
   "source": [
    "df['year'].value_counts()"
   ]
  },
  {
   "cell_type": "markdown",
   "metadata": {
    "Collapsed": "false",
    "colab_type": "text",
    "id": "irTXB-sVGuln"
   },
   "source": [
    "### Select rows based on cell values and update"
   ]
  },
  {
   "cell_type": "code",
   "execution_count": null,
   "metadata": {
    "Collapsed": "false",
    "colab": {},
    "colab_type": "code",
    "id": "7r9PenjcGulp"
   },
   "outputs": [],
   "source": [
    "df.loc[df['journal'].isnull(), \"journal\"] = \"unknown\""
   ]
  },
  {
   "cell_type": "code",
   "execution_count": null,
   "metadata": {
    "Collapsed": "false",
    "colab": {},
    "colab_type": "code",
    "id": "C7aLSt5RGulr",
    "outputId": "a132bf5f-e70d-4190-db11-ff17a9ebe6b6"
   },
   "outputs": [
    {
     "data": {
      "text/html": [
       "<div>\n",
       "<style scoped>\n",
       "    .dataframe tbody tr th:only-of-type {\n",
       "        vertical-align: middle;\n",
       "    }\n",
       "\n",
       "    .dataframe tbody tr th {\n",
       "        vertical-align: top;\n",
       "    }\n",
       "\n",
       "    .dataframe thead th {\n",
       "        text-align: right;\n",
       "    }\n",
       "</style>\n",
       "<table border=\"1\" class=\"dataframe\">\n",
       "  <thead>\n",
       "    <tr style=\"text-align: right;\">\n",
       "      <th></th>\n",
       "      <th>year</th>\n",
       "      <th>author_affiliations</th>\n",
       "      <th>id</th>\n",
       "      <th>issue</th>\n",
       "      <th>journal</th>\n",
       "      <th>pages</th>\n",
       "      <th>title</th>\n",
       "      <th>type</th>\n",
       "      <th>volume</th>\n",
       "    </tr>\n",
       "  </thead>\n",
       "  <tbody>\n",
       "    <tr>\n",
       "      <th>10</th>\n",
       "      <td>2015</td>\n",
       "      <td>[[{'first_name': 'Julie', 'last_name': 'Smith'...</td>\n",
       "      <td>pub.1024252028</td>\n",
       "      <td>NaN</td>\n",
       "      <td>unknown</td>\n",
       "      <td>370-396</td>\n",
       "      <td>Europe: The coalition's poisoned chalice</td>\n",
       "      <td>John</td>\n",
       "      <td>NaN</td>\n",
       "    </tr>\n",
       "    <tr>\n",
       "      <th>43</th>\n",
       "      <td>2016</td>\n",
       "      <td>[[{'first_name': 'Margaret', 'last_name': 'Sto...</td>\n",
       "      <td>pub.1037023067</td>\n",
       "      <td>NaN</td>\n",
       "      <td>unknown</td>\n",
       "      <td>NaN</td>\n",
       "      <td>A Radically Democratic Response to Global Gove...</td>\n",
       "      <td>John</td>\n",
       "      <td>NaN</td>\n",
       "    </tr>\n",
       "    <tr>\n",
       "      <th>75</th>\n",
       "      <td>2016</td>\n",
       "      <td>[[{'first_name': 'Amr', 'last_name': 'Magdy', ...</td>\n",
       "      <td>pub.1083917941</td>\n",
       "      <td>NaN</td>\n",
       "      <td>unknown</td>\n",
       "      <td>7</td>\n",
       "      <td>GeoTrend: spatial trending queries on real-tim...</td>\n",
       "      <td>John</td>\n",
       "      <td>NaN</td>\n",
       "    </tr>\n",
       "    <tr>\n",
       "      <th>85</th>\n",
       "      <td>2016</td>\n",
       "      <td>[[{'first_name': 'Tim', 'last_name': 'Jackson'...</td>\n",
       "      <td>pub.1052654584</td>\n",
       "      <td>NaN</td>\n",
       "      <td>unknown</td>\n",
       "      <td>NaN</td>\n",
       "      <td>Prosperity without Growth, 2nd</td>\n",
       "      <td>John</td>\n",
       "      <td>NaN</td>\n",
       "    </tr>\n",
       "    <tr>\n",
       "      <th>86</th>\n",
       "      <td>2016</td>\n",
       "      <td>[[{'first_name': 'Cas', 'last_name': 'Mudde', ...</td>\n",
       "      <td>pub.1052987179</td>\n",
       "      <td>NaN</td>\n",
       "      <td>unknown</td>\n",
       "      <td>NaN</td>\n",
       "      <td>The Populist Radical Right</td>\n",
       "      <td>John</td>\n",
       "      <td>NaN</td>\n",
       "    </tr>\n",
       "  </tbody>\n",
       "</table>\n",
       "</div>"
      ],
      "text/plain": [
       "    year                                author_affiliations              id  \\\n",
       "10  2015  [[{'first_name': 'Julie', 'last_name': 'Smith'...  pub.1024252028   \n",
       "43  2016  [[{'first_name': 'Margaret', 'last_name': 'Sto...  pub.1037023067   \n",
       "75  2016  [[{'first_name': 'Amr', 'last_name': 'Magdy', ...  pub.1083917941   \n",
       "85  2016  [[{'first_name': 'Tim', 'last_name': 'Jackson'...  pub.1052654584   \n",
       "86  2016  [[{'first_name': 'Cas', 'last_name': 'Mudde', ...  pub.1052987179   \n",
       "\n",
       "   issue  journal    pages                                              title  \\\n",
       "10   NaN  unknown  370-396           Europe: The coalition's poisoned chalice   \n",
       "43   NaN  unknown      NaN  A Radically Democratic Response to Global Gove...   \n",
       "75   NaN  unknown        7  GeoTrend: spatial trending queries on real-tim...   \n",
       "85   NaN  unknown      NaN                     Prosperity without Growth, 2nd   \n",
       "86   NaN  unknown      NaN                         The Populist Radical Right   \n",
       "\n",
       "    type volume  \n",
       "10  John    NaN  \n",
       "43  John    NaN  \n",
       "75  John    NaN  \n",
       "85  John    NaN  \n",
       "86  John    NaN  "
      ]
     },
     "execution_count": 56,
     "metadata": {
      "tags": []
     },
     "output_type": "execute_result"
    }
   ],
   "source": [
    "df[df['journal'] == \"unknown\"].head()"
   ]
  },
  {
   "cell_type": "markdown",
   "metadata": {
    "Collapsed": "false",
    "colab_type": "text",
    "id": "7oGGIpeYGulu"
   },
   "source": [
    "### Renaming columns\n",
    "* from https://www.shanelynn.ie/using-pandas-dataframe-creating-editing-viewing-data-in-python/"
   ]
  },
  {
   "cell_type": "code",
   "execution_count": null,
   "metadata": {
    "Collapsed": "false",
    "colab": {},
    "colab_type": "code",
    "id": "sSKMbukrGulu"
   },
   "outputs": [],
   "source": [
    "# Rename columns using a dictionary to map values\n",
    "# Rename the Area columnn to 'place_name'\n",
    "data = data.rename(columns={\"Area\": \"place_name\"})\n",
    "\n",
    "# Again, the inplace parameter will change the dataframe without assignment\n",
    "data.rename(columns={\"Area\": \"place_name\"}, inplace=True)\n",
    "\n",
    "# Rename multiple columns in one go with a larger dictionary\n",
    "data.rename(\n",
    "    columns={\n",
    "        \"Area\": \"place_name\",\n",
    "        \"Y2001\": \"year_2001\"\n",
    "    },\n",
    "    inplace=True\n",
    ")\n",
    "\n",
    "# Rename all columns using a function, e.g. convert all column names to lower case:\n",
    "data.rename(columns=str.lower)"
   ]
  },
  {
   "cell_type": "markdown",
   "metadata": {
    "Collapsed": "false",
    "colab_type": "text",
    "id": "E6BFkCIgGulv"
   },
   "source": [
    "### Create a new DF by selecting columns"
   ]
  },
  {
   "cell_type": "code",
   "execution_count": null,
   "metadata": {
    "Collapsed": "false",
    "colab": {},
    "colab_type": "code",
    "collapsed": false,
    "id": "nVuPAN45Gulw",
    "inputHidden": false,
    "jupyter": {
     "outputs_hidden": false
    },
    "outputHidden": false
   },
   "outputs": [],
   "source": [
    "df2 = df[['id', 'issue', 'pages', 'title', 'type', 'volume', 'year']]"
   ]
  },
  {
   "cell_type": "code",
   "execution_count": null,
   "metadata": {
    "Collapsed": "false",
    "colab": {},
    "colab_type": "code",
    "collapsed": false,
    "id": "30HXZ-CxGuly",
    "inputHidden": false,
    "jupyter": {
     "outputs_hidden": false
    },
    "outputHidden": false,
    "outputId": "b3892749-aa30-41a5-d24e-42a66dcae965"
   },
   "outputs": [
    {
     "data": {
      "text/html": [
       "<div>\n",
       "<style scoped>\n",
       "    .dataframe tbody tr th:only-of-type {\n",
       "        vertical-align: middle;\n",
       "    }\n",
       "\n",
       "    .dataframe tbody tr th {\n",
       "        vertical-align: top;\n",
       "    }\n",
       "\n",
       "    .dataframe thead th {\n",
       "        text-align: right;\n",
       "    }\n",
       "</style>\n",
       "<table border=\"1\" class=\"dataframe\">\n",
       "  <thead>\n",
       "    <tr style=\"text-align: right;\">\n",
       "      <th></th>\n",
       "      <th>id</th>\n",
       "      <th>issue</th>\n",
       "      <th>pages</th>\n",
       "      <th>title</th>\n",
       "      <th>type</th>\n",
       "      <th>volume</th>\n",
       "      <th>year</th>\n",
       "    </tr>\n",
       "  </thead>\n",
       "  <tbody>\n",
       "    <tr>\n",
       "      <th>0</th>\n",
       "      <td>pub.1059983538</td>\n",
       "      <td>4</td>\n",
       "      <td>1593-1636</td>\n",
       "      <td>Measuring Economic Policy Uncertainty</td>\n",
       "      <td>article</td>\n",
       "      <td>131</td>\n",
       "      <td>2016</td>\n",
       "    </tr>\n",
       "    <tr>\n",
       "      <th>1</th>\n",
       "      <td>pub.1024262334</td>\n",
       "      <td>3</td>\n",
       "      <td>575-605</td>\n",
       "      <td>An Illustrated User Guide to the World Input–O...</td>\n",
       "      <td>article</td>\n",
       "      <td>23</td>\n",
       "      <td>2015</td>\n",
       "    </tr>\n",
       "    <tr>\n",
       "      <th>2</th>\n",
       "      <td>pub.1090420622</td>\n",
       "      <td>NaN</td>\n",
       "      <td>NaN</td>\n",
       "      <td>Trump, Brexit, and the Rise of Populism: Econo...</td>\n",
       "      <td>preprint</td>\n",
       "      <td>NaN</td>\n",
       "      <td>2016</td>\n",
       "    </tr>\n",
       "    <tr>\n",
       "      <th>3</th>\n",
       "      <td>pub.1038710751</td>\n",
       "      <td>9</td>\n",
       "      <td>1259-1277</td>\n",
       "      <td>The Brexit vote: a divided nation, a divided c...</td>\n",
       "      <td>article</td>\n",
       "      <td>23</td>\n",
       "      <td>2016</td>\n",
       "    </tr>\n",
       "    <tr>\n",
       "      <th>4</th>\n",
       "      <td>pub.1019084958</td>\n",
       "      <td>3</td>\n",
       "      <td>323-332</td>\n",
       "      <td>The 2016 Referendum, Brexit and the Left Behin...</td>\n",
       "      <td>article</td>\n",
       "      <td>87</td>\n",
       "      <td>2016</td>\n",
       "    </tr>\n",
       "  </tbody>\n",
       "</table>\n",
       "</div>"
      ],
      "text/plain": [
       "               id issue      pages  \\\n",
       "0  pub.1059983538     4  1593-1636   \n",
       "1  pub.1024262334     3    575-605   \n",
       "2  pub.1090420622   NaN        NaN   \n",
       "3  pub.1038710751     9  1259-1277   \n",
       "4  pub.1019084958     3    323-332   \n",
       "\n",
       "                                               title      type volume  year  \n",
       "0              Measuring Economic Policy Uncertainty   article    131  2016  \n",
       "1  An Illustrated User Guide to the World Input–O...   article     23  2015  \n",
       "2  Trump, Brexit, and the Rise of Populism: Econo...  preprint    NaN  2016  \n",
       "3  The Brexit vote: a divided nation, a divided c...   article     23  2016  \n",
       "4  The 2016 Referendum, Brexit and the Left Behin...   article     87  2016  "
      ]
     },
     "execution_count": 11,
     "metadata": {
      "tags": []
     },
     "output_type": "execute_result"
    }
   ],
   "source": [
    "df2.head()"
   ]
  },
  {
   "cell_type": "markdown",
   "metadata": {
    "Collapsed": "false",
    "colab_type": "text",
    "id": "49dGzkGdGulz"
   },
   "source": [
    "### Dropping columns"
   ]
  },
  {
   "cell_type": "code",
   "execution_count": null,
   "metadata": {
    "Collapsed": "false",
    "colab": {},
    "colab_type": "code",
    "id": "LG42BtNqGul0"
   },
   "outputs": [],
   "source": [
    "df.drop(['author_affiliations'], axis=1, inplace=True)"
   ]
  },
  {
   "cell_type": "markdown",
   "metadata": {
    "Collapsed": "false",
    "colab_type": "text",
    "id": "5fABdXWuGul1"
   },
   "source": [
    "### Drop columns with missing values \n",
    "* https://pandas.pydata.org/pandas-docs/stable/reference/api/pandas.DataFrame.dropna.html"
   ]
  },
  {
   "cell_type": "code",
   "execution_count": null,
   "metadata": {
    "Collapsed": "false",
    "colab": {},
    "colab_type": "code",
    "id": "3OGPr1JbPMMS"
   },
   "outputs": [],
   "source": [
    "df = pd.DataFrame({\"name\": ['Alfred', 'Batman', 'Catwoman'],\n",
    "...                    \"toy\": [np.nan, 'Batmobile', 'Bullwhip'],\n",
    "...                    \"born\": [pd.NaT, pd.Timestamp(\"1940-04-25\"),\n",
    "...                             pd.NaT]})\n",
    "\n",
    "# Drop the rows where at least one element is missing.\n",
    "\n",
    "df.dropna()\n",
    "#      name        toy       born\n",
    "# 1  Batman  Batmobile 1940-04-25\n",
    "\n",
    "# Drop the columns where at least one element is missing.\n",
    "\n",
    "df.dropna(axis='columns')\n",
    "#        name\n",
    "# 0    Alfred\n",
    "# 1    Batman\n",
    "# 2  Catwoman\n",
    "\n",
    "#Drop the rows where all elements are missing.\n",
    "\n",
    "df.dropna(how='all')\n",
    "#        name        toy       born\n",
    "# 0    Alfred        NaN        NaT\n",
    "# 1    Batman  Batmobile 1940-04-25\n",
    "# 2  Catwoman   Bullwhip        NaT\n",
    "\n",
    "#Keep only the rows with at least 2 non-NA values.\n",
    "\n",
    "df.dropna(thresh=2)\n",
    "#        name        toy       born\n",
    "# 1    Batman  Batmobile 1940-04-25\n",
    "# 2  Catwoman   Bullwhip        NaT\n",
    "\n",
    "#Define in which columns to look for missing values.\n",
    "\n",
    "df.dropna(subset=['name', 'born'])\n",
    "#        name        toy       born\n",
    "# 1    Batman  Batmobile 1940-04-25\n",
    "\n",
    "#Keep the DataFrame with valid entries in the same variable.\n",
    "\n",
    "df.dropna(inplace=True)\n",
    "# >>> df\n",
    "#      name        toy       born\n",
    "# 1  Batman  Batmobile 1940-04-25"
   ]
  },
  {
   "cell_type": "markdown",
   "metadata": {
    "Collapsed": "false",
    "colab_type": "text",
    "id": "E2P8NnBgGul8"
   },
   "source": [
    "### Drop empty values rows, after replacing empty strings"
   ]
  },
  {
   "cell_type": "code",
   "execution_count": null,
   "metadata": {
    "Collapsed": "false",
    "colab": {},
    "colab_type": "code",
    "id": "yRE9DNwbGul8"
   },
   "outputs": [],
   "source": [
    "df['FOR'].replace('', np.nan, inplace=True)"
   ]
  },
  {
   "cell_type": "code",
   "execution_count": null,
   "metadata": {
    "Collapsed": "false",
    "colab": {},
    "colab_type": "code",
    "id": "5XRT0HzcGul-"
   },
   "outputs": [],
   "source": [
    "df.dropna(subset=['FOR'], inplace=False).head()"
   ]
  },
  {
   "cell_type": "code",
   "execution_count": null,
   "metadata": {
    "Collapsed": "false",
    "colab": {},
    "colab_type": "code",
    "id": "oFckJ4yZN6Dt",
    "inputHidden": false,
    "outputHidden": false
   },
   "outputs": [],
   "source": [
    "# replace with empty list (can't be done with 'replace')\n",
    "for row in df.loc[df.ids.isnull(), 'ids'].index:\n",
    "    df.at[row, 'ids'] = []"
   ]
  },
  {
   "cell_type": "markdown",
   "metadata": {
    "Collapsed": "false",
    "colab_type": "text",
    "id": "uxFb8pZeUoFG"
   },
   "source": [
    "### Add new column to existing dataframe"
   ]
  },
  {
   "cell_type": "code",
   "execution_count": null,
   "metadata": {
    "Collapsed": "false",
    "colab": {},
    "colab_type": "code",
    "id": "oTp1Ru3CUsDX"
   },
   "outputs": [],
   "source": [
    "# Use the original df1 indexes to create the series:\n",
    "\n",
    "df1['e'] = pd.Series(np.random.randn(sLength), index=df1.index)"
   ]
  },
  {
   "cell_type": "code",
   "execution_count": null,
   "metadata": {
    "Collapsed": "false",
    "colab": {},
    "colab_type": "code",
    "id": "kcIM5QMzVE8_"
   },
   "outputs": [],
   "source": [
    "# Declare a list that is to be converted into a column \n",
    "address = ['Delhi', 'Bangalore', 'Chennai', 'Patna'] \n",
    "  \n",
    "# Using 'Address' as the column name \n",
    "# and equating it to the list \n",
    "df['Address'] = address "
   ]
  },
  {
   "cell_type": "markdown",
   "metadata": {
    "Collapsed": "false",
    "colab_type": "text",
    "id": "y3ppECvUfGL_"
   },
   "source": [
    "### change column order"
   ]
  },
  {
   "cell_type": "code",
   "execution_count": null,
   "metadata": {
    "Collapsed": "false",
    "colab": {},
    "colab_type": "code",
    "id": "QcncpMbdfIS4"
   },
   "outputs": [],
   "source": [
    "df = df[['mean', '0', '1', '2', '3']]\n",
    "\n",
    "#You can get the list of columns with:\n",
    "\n",
    "cols = list(df.columns.values)\n",
    "\n",
    "#The output will produce:\n",
    "#['0', '1', '2', '3', 'mean']"
   ]
  },
  {
   "cell_type": "markdown",
   "metadata": {
    "Collapsed": "false",
    "colab_type": "text",
    "id": "fb78iaZ0QbQq"
   },
   "source": [
    "## Count Values"
   ]
  },
  {
   "cell_type": "markdown",
   "metadata": {
    "Collapsed": "false",
    "colab_type": "text",
    "id": "PbPGnSX3Q1pa"
   },
   "source": [
    "### Count unique values"
   ]
  },
  {
   "cell_type": "code",
   "execution_count": null,
   "metadata": {
    "Collapsed": "false",
    "colab": {},
    "colab_type": "code",
    "id": "ORh3_wZtQ58s"
   },
   "outputs": [],
   "source": [
    "# Count distict values, use nunique:\n",
    "\n",
    "df['hID'].nunique()\n",
    "\n",
    "# Count only non-null values, use count:\n",
    "\n",
    "df['hID'].count()\n",
    "\n",
    "# Count total values including null values, use size attribute:\n",
    "\n",
    "df['hID'].size\n"
   ]
  },
  {
   "cell_type": "code",
   "execution_count": null,
   "metadata": {
    "Collapsed": "false",
    "colab": {},
    "colab_type": "code",
    "id": "pRJJSrDjR5Sq"
   },
   "outputs": [],
   "source": [
    "# this will show you the distinct element and their number of occurence.\n",
    "\n",
    "df['race'].value_counts()"
   ]
  },
  {
   "cell_type": "code",
   "execution_count": null,
   "metadata": {
    "Collapsed": "false",
    "colab": {},
    "colab_type": "code",
    "id": "Sdq4BZFH1Sf9"
   },
   "outputs": [],
   "source": [
    "# only top ten\n",
    "affiliations['aff_id'].value_counts()[:10]"
   ]
  },
  {
   "cell_type": "markdown",
   "metadata": {
    "Collapsed": "false",
    "colab_type": "text",
    "id": "QAdNJJXJGul2"
   },
   "source": [
    "### Count missing values\n",
    "* https://chartio.com/resources/tutorials/how-to-check-if-any-value-is-nan-in-a-pandas-dataframe/\n",
    "* https://pandas.pydata.org/pandas-docs/stable/user_guide/missing_data.html"
   ]
  },
  {
   "cell_type": "code",
   "execution_count": null,
   "metadata": {
    "Collapsed": "false",
    "colab": {},
    "colab_type": "code",
    "id": "vrsiZAeuGul2",
    "outputId": "8796139b-6b12-4809-ea3f-ad9822caa494"
   },
   "outputs": [
    {
     "data": {
      "text/plain": [
       "author_affiliations      6\n",
       "id                       0\n",
       "issue                  162\n",
       "journal                 56\n",
       "pages                   38\n",
       "title                    0\n",
       "type                     0\n",
       "volume                  77\n",
       "year                     0\n",
       "dtype: int64"
      ]
     },
     "execution_count": 6,
     "metadata": {
      "tags": []
     },
     "output_type": "execute_result"
    }
   ],
   "source": [
    "df.isnull().sum()"
   ]
  },
  {
   "cell_type": "code",
   "execution_count": null,
   "metadata": {
    "Collapsed": "false",
    "colab": {},
    "colab_type": "code",
    "id": "wzJra8VnGul4"
   },
   "outputs": [],
   "source": [
    "# THIS CHANGES ALL VALUES IN ROW! SO NOT IDEAL\n",
    "ddf[ddf['FOR'].isnull()] = \"ciao\""
   ]
  },
  {
   "cell_type": "markdown",
   "metadata": {
    "Collapsed": "false",
    "colab_type": "text",
    "id": "Ikk1SmzsRzuy"
   },
   "source": [
    "### Get most frequent value (single)"
   ]
  },
  {
   "cell_type": "code",
   "execution_count": null,
   "metadata": {
    "Collapsed": "false",
    "colab": {},
    "colab_type": "code",
    "id": "7pwoUsrYR3IO"
   },
   "outputs": [],
   "source": [
    "dataframe['name'].value_counts().idxmax()"
   ]
  },
  {
   "cell_type": "markdown",
   "metadata": {
    "Collapsed": "false",
    "colab_type": "text",
    "id": "iYsW0lkx3Zxj"
   },
   "source": [
    "### Frequency count based on two columns (variables)\n",
    "\n",
    "https://stackoverflow.com/questions/33271098/python-get-a-frequency-count-based-on-two-columns-variables-in-pandas-datafra"
   ]
  },
  {
   "cell_type": "code",
   "execution_count": null,
   "metadata": {
    "Collapsed": "false",
    "colab": {},
    "colab_type": "code",
    "id": "g0WpQ2kB3hXN"
   },
   "outputs": [],
   "source": [
    "df.groupby([\"Group\", \"Size\"]).size()\n",
    "# Out[11]:\n",
    "# Group     Size\n",
    "# Moderate  Medium    1\n",
    "#           Small     1\n",
    "# Short     Small     2\n",
    "# Tall      Large     1\n",
    "# dtype: int64\n",
    "\n",
    "df.groupby([\"Group\", \"Size\"]).size().reset_index(name=\"Time\")\n",
    "# Out[12]:\n",
    "#       Group    Size  Time\n",
    "# 0  Moderate  Medium     1\n",
    "# 1  Moderate   Small     1\n",
    "# 2     Short   Small     2\n",
    "# 3      Tall   Large     1"
   ]
  },
  {
   "cell_type": "code",
   "execution_count": null,
   "metadata": {
    "Collapsed": "false",
    "colab": {},
    "colab_type": "code",
    "id": "A1aerAMn3tOl"
   },
   "outputs": [],
   "source": [
    "# You can also try pd.crosstab()\n",
    "\n",
    "pd.crosstab(df.Group,df.Size)\n",
    "\n",
    "# Size      Large  Medium  Small\n",
    "# Group                         \n",
    "# Moderate      0       1      1\n",
    "# Short         0       0      2\n",
    "# Tall          1       0      0"
   ]
  },
  {
   "cell_type": "markdown",
   "metadata": {
    "Collapsed": "false",
    "colab_type": "text",
    "id": "CjADmJJTGul5"
   },
   "source": [
    "### Fill in empty values\n",
    "* https://www.shanelynn.ie/select-pandas-dataframe-rows-and-columns-using-iloc-loc-and-ix/"
   ]
  },
  {
   "cell_type": "code",
   "execution_count": null,
   "metadata": {
    "Collapsed": "false",
    "colab": {},
    "colab_type": "code",
    "id": "ZRMemOSrZNzw"
   },
   "outputs": [],
   "source": [
    "# fill everywhere, returns a frame\n",
    "\n",
    "ddf.fillna(0) "
   ]
  },
  {
   "cell_type": "code",
   "execution_count": null,
   "metadata": {
    "Collapsed": "false",
    "colab": {},
    "colab_type": "code",
    "id": "D5E7pqsYGul6",
    "outputId": "afac1090-b84d-41a3-d529-2f7aea171b53"
   },
   "outputs": [
    {
     "data": {
      "text/plain": [
       "0    [{'id': '3292', 'name': '1402 Applied Economic...\n",
       "1        [{'id': '3313', 'name': '1403 Econometrics'}]\n",
       "2                                                  aaa\n",
       "3    [{'id': '3675', 'name': '2103 Historical Studi...\n",
       "4           [{'id': '3448', 'name': '1608 Sociology'}]\n",
       "5    [{'id': '3197', 'name': '1199 Other Medical an...\n",
       "6                                                  aaa\n",
       "7    [{'id': '3432', 'name': '1606 Political Scienc...\n",
       "8    [{'id': '3432', 'name': '1606 Political Scienc...\n",
       "9    [{'id': '3432', 'name': '1606 Political Scienc...\n",
       "Name: FOR, dtype: object"
      ]
     },
     "execution_count": 48,
     "metadata": {
      "tags": []
     },
     "output_type": "execute_result"
    }
   ],
   "source": [
    "# this returns a series, not a frame!\n",
    "ddf['FOR'].fillna(\"aaa\") # NOTE doesn't save anything! "
   ]
  },
  {
   "cell_type": "markdown",
   "metadata": {
    "Collapsed": "false",
    "colab_type": "text",
    "id": "d4b97j8sGul_",
    "inputHidden": false,
    "outputHidden": false
   },
   "source": [
    "## Transpose axis\n",
    "* http://pandas.pydata.org/pandas-docs/stable/reference/api/pandas.DataFrame.transpose.html"
   ]
  },
  {
   "cell_type": "code",
   "execution_count": null,
   "metadata": {
    "Collapsed": "false",
    "colab": {},
    "colab_type": "code",
    "collapsed": false,
    "id": "iex1gS_bGumA",
    "inputHidden": false,
    "jupyter": {
     "outputs_hidden": false
    },
    "outputHidden": false,
    "outputId": "e76e18a5-5569-46b4-c103-a6cb4fb7b69b"
   },
   "outputs": [
    {
     "data": {
      "text/html": [
       "<div>\n",
       "<style scoped>\n",
       "    .dataframe tbody tr th:only-of-type {\n",
       "        vertical-align: middle;\n",
       "    }\n",
       "\n",
       "    .dataframe tbody tr th {\n",
       "        vertical-align: top;\n",
       "    }\n",
       "\n",
       "    .dataframe thead th {\n",
       "        text-align: right;\n",
       "    }\n",
       "</style>\n",
       "<table border=\"1\" class=\"dataframe\">\n",
       "  <thead>\n",
       "    <tr style=\"text-align: right;\">\n",
       "      <th></th>\n",
       "      <th>0</th>\n",
       "      <th>1</th>\n",
       "      <th>2</th>\n",
       "      <th>3</th>\n",
       "      <th>4</th>\n",
       "      <th>5</th>\n",
       "      <th>6</th>\n",
       "      <th>7</th>\n",
       "      <th>8</th>\n",
       "      <th>9</th>\n",
       "      <th>...</th>\n",
       "      <th>990</th>\n",
       "      <th>991</th>\n",
       "      <th>992</th>\n",
       "      <th>993</th>\n",
       "      <th>994</th>\n",
       "      <th>995</th>\n",
       "      <th>996</th>\n",
       "      <th>997</th>\n",
       "      <th>998</th>\n",
       "      <th>999</th>\n",
       "    </tr>\n",
       "  </thead>\n",
       "  <tbody>\n",
       "    <tr>\n",
       "      <th>author_affiliations</th>\n",
       "      <td>[[{'first_name': 'Scott R.', 'last_name': 'Bak...</td>\n",
       "      <td>[[{'first_name': 'Marcel P.', 'last_name': 'Ti...</td>\n",
       "      <td>[[{'first_name': 'Ronald', 'last_name': 'Ingle...</td>\n",
       "      <td>[[{'first_name': 'Sara B.', 'last_name': 'Hobo...</td>\n",
       "      <td>[[{'first_name': 'Matthew J.', 'last_name': 'G...</td>\n",
       "      <td>[[{'first_name': 'The Global Consortium for H5...</td>\n",
       "      <td>[[{'first_name': 'Liesbet', 'last_name': 'Hoog...</td>\n",
       "      <td>[[{'first_name': 'Jonathan', 'last_name': 'Pol...</td>\n",
       "      <td>[[{'first_name': 'Harold D.', 'last_name': 'Cl...</td>\n",
       "      <td>[[{'first_name': 'D.J.', 'last_name': 'Flynn',...</td>\n",
       "      <td>...</td>\n",
       "      <td>[[{'first_name': 'Yannis', 'last_name': 'Stavr...</td>\n",
       "      <td>[[{'first_name': 'Vegard', 'last_name': 'Jarne...</td>\n",
       "      <td>[[{'first_name': 'Anastasia', 'last_name': 'Go...</td>\n",
       "      <td>[[{'first_name': 'Eva', 'last_name': 'Thomann'...</td>\n",
       "      <td>[[{'first_name': 'Terrie', 'last_name': 'Epste...</td>\n",
       "      <td>[[{'first_name': 'Kristoffer', 'last_name': 'H...</td>\n",
       "      <td>[[{'first_name': 'Charlotte', 'last_name': 'Ga...</td>\n",
       "      <td>[[{'first_name': 'Nikolas', 'last_name': 'Rose...</td>\n",
       "      <td>[[{'first_name': 'Sophie', 'last_name': 'Meuni...</td>\n",
       "      <td>NaN</td>\n",
       "    </tr>\n",
       "    <tr>\n",
       "      <th>id</th>\n",
       "      <td>pub.1059983538</td>\n",
       "      <td>pub.1024262334</td>\n",
       "      <td>pub.1090420622</td>\n",
       "      <td>pub.1038710751</td>\n",
       "      <td>pub.1019084958</td>\n",
       "      <td>pub.1062667950</td>\n",
       "      <td>pub.1085208832</td>\n",
       "      <td>pub.1053864137</td>\n",
       "      <td>pub.1096906068</td>\n",
       "      <td>pub.1074211439</td>\n",
       "      <td>...</td>\n",
       "      <td>pub.1101047240</td>\n",
       "      <td>pub.1100074004</td>\n",
       "      <td>pub.1112309901</td>\n",
       "      <td>pub.1115075916</td>\n",
       "      <td>pub.1091824261</td>\n",
       "      <td>pub.1109782631</td>\n",
       "      <td>pub.1083872789</td>\n",
       "      <td>pub.1092641433</td>\n",
       "      <td>pub.1093091454</td>\n",
       "      <td>pub.1084761130</td>\n",
       "    </tr>\n",
       "    <tr>\n",
       "      <th>issue</th>\n",
       "      <td>4</td>\n",
       "      <td>3</td>\n",
       "      <td>NaN</td>\n",
       "      <td>9</td>\n",
       "      <td>3</td>\n",
       "      <td>6309</td>\n",
       "      <td>1</td>\n",
       "      <td>1</td>\n",
       "      <td>NaN</td>\n",
       "      <td>S1</td>\n",
       "      <td>...</td>\n",
       "      <td>1</td>\n",
       "      <td>1</td>\n",
       "      <td>NaN</td>\n",
       "      <td>1</td>\n",
       "      <td>NaN</td>\n",
       "      <td>4</td>\n",
       "      <td>NaN</td>\n",
       "      <td>3-4</td>\n",
       "      <td>7</td>\n",
       "      <td>NaN</td>\n",
       "    </tr>\n",
       "    <tr>\n",
       "      <th>journal</th>\n",
       "      <td>{'id': 'jour.1123532', 'title': 'The Quarterly...</td>\n",
       "      <td>{'id': 'jour.1050256', 'title': 'Review of Int...</td>\n",
       "      <td>{'id': 'jour.1276748', 'title': 'SSRN Electron...</td>\n",
       "      <td>{'id': 'jour.1052590', 'title': 'Journal of Eu...</td>\n",
       "      <td>{'id': 'jour.1026839', 'title': 'The Political...</td>\n",
       "      <td>{'id': 'jour.1346339', 'title': 'Science'}</td>\n",
       "      <td>{'id': 'jour.1052590', 'title': 'Journal of Eu...</td>\n",
       "      <td>{'id': 'jour.1147745', 'title': 'Research &amp; Po...</td>\n",
       "      <td>NaN</td>\n",
       "      <td>{'id': 'jour.1129081', 'title': 'Political Psy...</td>\n",
       "      <td>...</td>\n",
       "      <td>{'id': 'jour.1006192', 'title': 'American Beha...</td>\n",
       "      <td>{'id': 'jour.1017488', 'title': 'British Journ...</td>\n",
       "      <td>{'id': 'jour.1027568', 'title': 'Journal of Et...</td>\n",
       "      <td>{'id': 'jour.1153608', 'title': 'European Poli...</td>\n",
       "      <td>NaN</td>\n",
       "      <td>{'id': 'jour.1149390', 'title': 'Media and Com...</td>\n",
       "      <td>NaN</td>\n",
       "      <td>{'id': 'jour.1028218', 'title': 'Economy and S...</td>\n",
       "      <td>{'id': 'jour.1138887', 'title': 'Journal of Eu...</td>\n",
       "      <td>NaN</td>\n",
       "    </tr>\n",
       "    <tr>\n",
       "      <th>pages</th>\n",
       "      <td>1593-1636</td>\n",
       "      <td>575-605</td>\n",
       "      <td>NaN</td>\n",
       "      <td>1259-1277</td>\n",
       "      <td>323-332</td>\n",
       "      <td>213-217</td>\n",
       "      <td>1-27</td>\n",
       "      <td>205316801668691</td>\n",
       "      <td>NaN</td>\n",
       "      <td>127-150</td>\n",
       "      <td>...</td>\n",
       "      <td>43-58</td>\n",
       "      <td>166-189</td>\n",
       "      <td>1-19</td>\n",
       "      <td>37-57</td>\n",
       "      <td>NaN</td>\n",
       "      <td>49-57</td>\n",
       "      <td>49-72</td>\n",
       "      <td>1-21</td>\n",
       "      <td>891-907</td>\n",
       "      <td>NaN</td>\n",
       "    </tr>\n",
       "  </tbody>\n",
       "</table>\n",
       "<p>5 rows × 1000 columns</p>\n",
       "</div>"
      ],
      "text/plain": [
       "                                                                   0    \\\n",
       "author_affiliations  [[{'first_name': 'Scott R.', 'last_name': 'Bak...   \n",
       "id                                                      pub.1059983538   \n",
       "issue                                                                4   \n",
       "journal              {'id': 'jour.1123532', 'title': 'The Quarterly...   \n",
       "pages                                                        1593-1636   \n",
       "\n",
       "                                                                   1    \\\n",
       "author_affiliations  [[{'first_name': 'Marcel P.', 'last_name': 'Ti...   \n",
       "id                                                      pub.1024262334   \n",
       "issue                                                                3   \n",
       "journal              {'id': 'jour.1050256', 'title': 'Review of Int...   \n",
       "pages                                                          575-605   \n",
       "\n",
       "                                                                   2    \\\n",
       "author_affiliations  [[{'first_name': 'Ronald', 'last_name': 'Ingle...   \n",
       "id                                                      pub.1090420622   \n",
       "issue                                                              NaN   \n",
       "journal              {'id': 'jour.1276748', 'title': 'SSRN Electron...   \n",
       "pages                                                              NaN   \n",
       "\n",
       "                                                                   3    \\\n",
       "author_affiliations  [[{'first_name': 'Sara B.', 'last_name': 'Hobo...   \n",
       "id                                                      pub.1038710751   \n",
       "issue                                                                9   \n",
       "journal              {'id': 'jour.1052590', 'title': 'Journal of Eu...   \n",
       "pages                                                        1259-1277   \n",
       "\n",
       "                                                                   4    \\\n",
       "author_affiliations  [[{'first_name': 'Matthew J.', 'last_name': 'G...   \n",
       "id                                                      pub.1019084958   \n",
       "issue                                                                3   \n",
       "journal              {'id': 'jour.1026839', 'title': 'The Political...   \n",
       "pages                                                          323-332   \n",
       "\n",
       "                                                                   5    \\\n",
       "author_affiliations  [[{'first_name': 'The Global Consortium for H5...   \n",
       "id                                                      pub.1062667950   \n",
       "issue                                                             6309   \n",
       "journal                     {'id': 'jour.1346339', 'title': 'Science'}   \n",
       "pages                                                          213-217   \n",
       "\n",
       "                                                                   6    \\\n",
       "author_affiliations  [[{'first_name': 'Liesbet', 'last_name': 'Hoog...   \n",
       "id                                                      pub.1085208832   \n",
       "issue                                                                1   \n",
       "journal              {'id': 'jour.1052590', 'title': 'Journal of Eu...   \n",
       "pages                                                             1-27   \n",
       "\n",
       "                                                                   7    \\\n",
       "author_affiliations  [[{'first_name': 'Jonathan', 'last_name': 'Pol...   \n",
       "id                                                      pub.1053864137   \n",
       "issue                                                                1   \n",
       "journal              {'id': 'jour.1147745', 'title': 'Research & Po...   \n",
       "pages                                                  205316801668691   \n",
       "\n",
       "                                                                   8    \\\n",
       "author_affiliations  [[{'first_name': 'Harold D.', 'last_name': 'Cl...   \n",
       "id                                                      pub.1096906068   \n",
       "issue                                                              NaN   \n",
       "journal                                                            NaN   \n",
       "pages                                                              NaN   \n",
       "\n",
       "                                                                   9    ...  \\\n",
       "author_affiliations  [[{'first_name': 'D.J.', 'last_name': 'Flynn',...  ...   \n",
       "id                                                      pub.1074211439  ...   \n",
       "issue                                                               S1  ...   \n",
       "journal              {'id': 'jour.1129081', 'title': 'Political Psy...  ...   \n",
       "pages                                                          127-150  ...   \n",
       "\n",
       "                                                                   990  \\\n",
       "author_affiliations  [[{'first_name': 'Yannis', 'last_name': 'Stavr...   \n",
       "id                                                      pub.1101047240   \n",
       "issue                                                                1   \n",
       "journal              {'id': 'jour.1006192', 'title': 'American Beha...   \n",
       "pages                                                            43-58   \n",
       "\n",
       "                                                                   991  \\\n",
       "author_affiliations  [[{'first_name': 'Vegard', 'last_name': 'Jarne...   \n",
       "id                                                      pub.1100074004   \n",
       "issue                                                                1   \n",
       "journal              {'id': 'jour.1017488', 'title': 'British Journ...   \n",
       "pages                                                          166-189   \n",
       "\n",
       "                                                                   992  \\\n",
       "author_affiliations  [[{'first_name': 'Anastasia', 'last_name': 'Go...   \n",
       "id                                                      pub.1112309901   \n",
       "issue                                                              NaN   \n",
       "journal              {'id': 'jour.1027568', 'title': 'Journal of Et...   \n",
       "pages                                                             1-19   \n",
       "\n",
       "                                                                   993  \\\n",
       "author_affiliations  [[{'first_name': 'Eva', 'last_name': 'Thomann'...   \n",
       "id                                                      pub.1115075916   \n",
       "issue                                                                1   \n",
       "journal              {'id': 'jour.1153608', 'title': 'European Poli...   \n",
       "pages                                                            37-57   \n",
       "\n",
       "                                                                   994  \\\n",
       "author_affiliations  [[{'first_name': 'Terrie', 'last_name': 'Epste...   \n",
       "id                                                      pub.1091824261   \n",
       "issue                                                              NaN   \n",
       "journal                                                            NaN   \n",
       "pages                                                              NaN   \n",
       "\n",
       "                                                                   995  \\\n",
       "author_affiliations  [[{'first_name': 'Kristoffer', 'last_name': 'H...   \n",
       "id                                                      pub.1109782631   \n",
       "issue                                                                4   \n",
       "journal              {'id': 'jour.1149390', 'title': 'Media and Com...   \n",
       "pages                                                            49-57   \n",
       "\n",
       "                                                                   996  \\\n",
       "author_affiliations  [[{'first_name': 'Charlotte', 'last_name': 'Ga...   \n",
       "id                                                      pub.1083872789   \n",
       "issue                                                              NaN   \n",
       "journal                                                            NaN   \n",
       "pages                                                            49-72   \n",
       "\n",
       "                                                                   997  \\\n",
       "author_affiliations  [[{'first_name': 'Nikolas', 'last_name': 'Rose...   \n",
       "id                                                      pub.1092641433   \n",
       "issue                                                              3-4   \n",
       "journal              {'id': 'jour.1028218', 'title': 'Economy and S...   \n",
       "pages                                                             1-21   \n",
       "\n",
       "                                                                   998  \\\n",
       "author_affiliations  [[{'first_name': 'Sophie', 'last_name': 'Meuni...   \n",
       "id                                                      pub.1093091454   \n",
       "issue                                                                7   \n",
       "journal              {'id': 'jour.1138887', 'title': 'Journal of Eu...   \n",
       "pages                                                          891-907   \n",
       "\n",
       "                                999  \n",
       "author_affiliations             NaN  \n",
       "id                   pub.1084761130  \n",
       "issue                           NaN  \n",
       "journal                         NaN  \n",
       "pages                           NaN  \n",
       "\n",
       "[5 rows x 1000 columns]"
      ]
     },
     "execution_count": 13,
     "metadata": {
      "tags": []
     },
     "output_type": "execute_result"
    }
   ],
   "source": [
    "df3 = df.transpose()\n",
    "df3.head()"
   ]
  },
  {
   "cell_type": "markdown",
   "metadata": {
    "Collapsed": "false",
    "colab_type": "text",
    "id": "PEPOOUY1GumB"
   },
   "source": [
    "## Sorting values\n",
    "* https://thispointer.com/pandas-sort-rows-or-columns-in-dataframe-based-on-values-using-dataframe-sort_values/"
   ]
  },
  {
   "cell_type": "code",
   "execution_count": null,
   "metadata": {
    "Collapsed": "false",
    "colab": {},
    "colab_type": "code",
    "id": "QSqM8p_NGumB"
   },
   "outputs": [],
   "source": [
    "\t\n",
    "df.sort_values(by, axis=0, ascending=True, inplace=False, kind='quicksort', na_position='last')\n",
    "# Arguments :\n",
    "\n",
    "# by : A string or list of strings basically either column names or index labels based on which sorting will be done.\n",
    "# axis : If axis is 0, then name or list of names in by argument will be considered as column names. Default is 0\n",
    "# If axis is 1, then name or list of names in by argument will be considered as row index labels\n",
    "# ascending : If True sort in ascending else sort in descending order. Default is True\n",
    "# inplace : If True, perform operation in-place in Dataframe\n",
    "# na_position : Decides the position of NaNs after sorting i.e. irst puts NaNs at the beginning, last puts NaNs at the end\n",
    "# Default value is ‘first’"
   ]
  },
  {
   "cell_type": "code",
   "execution_count": null,
   "metadata": {
    "Collapsed": "false",
    "colab": {},
    "colab_type": "code",
    "collapsed": false,
    "id": "WYAsNuhmGumD",
    "inputHidden": false,
    "jupyter": {
     "outputs_hidden": false
    },
    "outputHidden": false,
    "outputId": "b847cae2-8f22-4f09-fb93-088c47533df6"
   },
   "outputs": [
    {
     "data": {
      "text/html": [
       "<div>\n",
       "<style scoped>\n",
       "    .dataframe tbody tr th:only-of-type {\n",
       "        vertical-align: middle;\n",
       "    }\n",
       "\n",
       "    .dataframe tbody tr th {\n",
       "        vertical-align: top;\n",
       "    }\n",
       "\n",
       "    .dataframe thead th {\n",
       "        text-align: right;\n",
       "    }\n",
       "</style>\n",
       "<table border=\"1\" class=\"dataframe\">\n",
       "  <thead>\n",
       "    <tr style=\"text-align: right;\">\n",
       "      <th></th>\n",
       "      <th>author_affiliations</th>\n",
       "      <th>id</th>\n",
       "      <th>issue</th>\n",
       "      <th>journal</th>\n",
       "      <th>pages</th>\n",
       "      <th>title</th>\n",
       "      <th>type</th>\n",
       "      <th>volume</th>\n",
       "      <th>year</th>\n",
       "    </tr>\n",
       "  </thead>\n",
       "  <tbody>\n",
       "    <tr>\n",
       "      <th>281</th>\n",
       "      <td>[[{'first_name': 'Karl', 'last_name': 'Derouen...</td>\n",
       "      <td>pub.1011026276</td>\n",
       "      <td>4</td>\n",
       "      <td>{'id': 'jour.1139246', 'title': 'Defence and P...</td>\n",
       "      <td>251-260</td>\n",
       "      <td>The Role of the UN in International Crisis Ter...</td>\n",
       "      <td>article</td>\n",
       "      <td>14</td>\n",
       "      <td>2003</td>\n",
       "    </tr>\n",
       "    <tr>\n",
       "      <th>647</th>\n",
       "      <td>[[{'first_name': 'Meirav', 'last_name': 'Misha...</td>\n",
       "      <td>pub.1053839515</td>\n",
       "      <td>5</td>\n",
       "      <td>{'id': 'jour.1024683', 'title': 'Journal of Pe...</td>\n",
       "      <td>583-600</td>\n",
       "      <td>Ethnic Diversity, Issues, and International Cr...</td>\n",
       "      <td>article</td>\n",
       "      <td>43</td>\n",
       "      <td>2006</td>\n",
       "    </tr>\n",
       "    <tr>\n",
       "      <th>351</th>\n",
       "      <td>[[{'first_name': 'Oliver', 'last_name': 'Daddo...</td>\n",
       "      <td>pub.1033135439</td>\n",
       "      <td>1</td>\n",
       "      <td>{'id': 'jour.1027780', 'title': 'JCMS Journal ...</td>\n",
       "      <td>71-88</td>\n",
       "      <td>Interpreting the Outsider Tradition in British...</td>\n",
       "      <td>article</td>\n",
       "      <td>53</td>\n",
       "      <td>2015</td>\n",
       "    </tr>\n",
       "    <tr>\n",
       "      <th>114</th>\n",
       "      <td>[[{'first_name': 'Nicholas', 'last_name': 'Sta...</td>\n",
       "      <td>pub.1011712909</td>\n",
       "      <td>3</td>\n",
       "      <td>{'id': 'jour.1138537', 'title': 'International...</td>\n",
       "      <td>311-323</td>\n",
       "      <td>Have we reached a tipping point? The mainstrea...</td>\n",
       "      <td>article</td>\n",
       "      <td>36</td>\n",
       "      <td>2015</td>\n",
       "    </tr>\n",
       "    <tr>\n",
       "      <th>809</th>\n",
       "      <td>[[{'first_name': 'Julie', 'last_name': 'Smith'...</td>\n",
       "      <td>pub.1024252028</td>\n",
       "      <td>NaN</td>\n",
       "      <td>NaN</td>\n",
       "      <td>370-396</td>\n",
       "      <td>Europe: The coalition's poisoned chalice</td>\n",
       "      <td>chapter</td>\n",
       "      <td>NaN</td>\n",
       "      <td>2015</td>\n",
       "    </tr>\n",
       "  </tbody>\n",
       "</table>\n",
       "</div>"
      ],
      "text/plain": [
       "                                   author_affiliations              id issue  \\\n",
       "281  [[{'first_name': 'Karl', 'last_name': 'Derouen...  pub.1011026276     4   \n",
       "647  [[{'first_name': 'Meirav', 'last_name': 'Misha...  pub.1053839515     5   \n",
       "351  [[{'first_name': 'Oliver', 'last_name': 'Daddo...  pub.1033135439     1   \n",
       "114  [[{'first_name': 'Nicholas', 'last_name': 'Sta...  pub.1011712909     3   \n",
       "809  [[{'first_name': 'Julie', 'last_name': 'Smith'...  pub.1024252028   NaN   \n",
       "\n",
       "                                               journal    pages  \\\n",
       "281  {'id': 'jour.1139246', 'title': 'Defence and P...  251-260   \n",
       "647  {'id': 'jour.1024683', 'title': 'Journal of Pe...  583-600   \n",
       "351  {'id': 'jour.1027780', 'title': 'JCMS Journal ...    71-88   \n",
       "114  {'id': 'jour.1138537', 'title': 'International...  311-323   \n",
       "809                                                NaN  370-396   \n",
       "\n",
       "                                                 title     type volume  year  \n",
       "281  The Role of the UN in International Crisis Ter...  article     14  2003  \n",
       "647  Ethnic Diversity, Issues, and International Cr...  article     43  2006  \n",
       "351  Interpreting the Outsider Tradition in British...  article     53  2015  \n",
       "114  Have we reached a tipping point? The mainstrea...  article     36  2015  \n",
       "809           Europe: The coalition's poisoned chalice  chapter    NaN  2015  "
      ]
     },
     "execution_count": 17,
     "metadata": {
      "tags": []
     },
     "output_type": "execute_result"
    }
   ],
   "source": [
    "df.sort_values(by=[\"year\"], inplace=True) # sort in place and update the index as well\n",
    "df.reset_index(drop=True)\n",
    "df.head()"
   ]
  },
  {
   "cell_type": "markdown",
   "metadata": {
    "Collapsed": "false",
    "colab_type": "text",
    "id": "ua5T9Sl0N6EP"
   },
   "source": [
    "## Apply"
   ]
  },
  {
   "cell_type": "code",
   "execution_count": null,
   "metadata": {
    "Collapsed": "false",
    "colab": {},
    "colab_type": "code",
    "id": "oq2sepctN6EQ",
    "inputHidden": false,
    "outputHidden": false
   },
   "outputs": [],
   "source": [
    "# add new column \n",
    "df['M1_list'] = df['M1'].apply(lambda x: x.split(\",\"))"
   ]
  },
  {
   "cell_type": "markdown",
   "metadata": {
    "Collapsed": "false",
    "colab_type": "text",
    "id": "jRFD26VpGumF"
   },
   "source": [
    "## Groupby"
   ]
  },
  {
   "cell_type": "markdown",
   "metadata": {
    "Collapsed": "false",
    "colab_type": "text",
    "id": "o41PGlCfKlVw"
   },
   "source": [
    "### Simple Groupby"
   ]
  },
  {
   "cell_type": "code",
   "execution_count": null,
   "metadata": {
    "Collapsed": "false",
    "colab": {},
    "colab_type": "code",
    "id": "y564xD54GumG",
    "outputId": "9a189223-0fee-4df4-a322-486119c75a94"
   },
   "outputs": [
    {
     "data": {
      "text/plain": [
       "dict_keys([2003, 2006, 2015, 2016, 2017, 2018, 2019])"
      ]
     },
     "execution_count": 58,
     "metadata": {
      "tags": []
     },
     "output_type": "execute_result"
    }
   ],
   "source": [
    "df2 = df.groupby('year', as_index=False)\n",
    "df2.groups.keys()"
   ]
  },
  {
   "cell_type": "code",
   "execution_count": null,
   "metadata": {
    "Collapsed": "false",
    "colab": {},
    "colab_type": "code",
    "id": "yxnwg5dIGumH",
    "outputId": "410036cd-9800-41cf-def3-fd533ef2f378"
   },
   "outputs": [
    {
     "data": {
      "text/html": [
       "<div>\n",
       "<style scoped>\n",
       "    .dataframe tbody tr th:only-of-type {\n",
       "        vertical-align: middle;\n",
       "    }\n",
       "\n",
       "    .dataframe tbody tr th {\n",
       "        vertical-align: top;\n",
       "    }\n",
       "\n",
       "    .dataframe thead th {\n",
       "        text-align: right;\n",
       "    }\n",
       "</style>\n",
       "<table border=\"1\" class=\"dataframe\">\n",
       "  <thead>\n",
       "    <tr style=\"text-align: right;\">\n",
       "      <th></th>\n",
       "      <th>year</th>\n",
       "      <th>author_affiliations</th>\n",
       "      <th>id</th>\n",
       "      <th>issue</th>\n",
       "      <th>journal</th>\n",
       "      <th>pages</th>\n",
       "      <th>title</th>\n",
       "      <th>type</th>\n",
       "      <th>volume</th>\n",
       "    </tr>\n",
       "  </thead>\n",
       "  <tbody>\n",
       "    <tr>\n",
       "      <th>0</th>\n",
       "      <td>2003</td>\n",
       "      <td>[[{'first_name': 'Karl', 'last_name': 'Derouen...</td>\n",
       "      <td>pub.1011026276</td>\n",
       "      <td>4</td>\n",
       "      <td>{'id': 'jour.1139246', 'title': 'Defence and P...</td>\n",
       "      <td>251-260</td>\n",
       "      <td>The Role of the UN in International Crisis Ter...</td>\n",
       "      <td>article</td>\n",
       "      <td>14</td>\n",
       "    </tr>\n",
       "  </tbody>\n",
       "</table>\n",
       "</div>"
      ],
      "text/plain": [
       "   year                                author_affiliations              id  \\\n",
       "0  2003  [[{'first_name': 'Karl', 'last_name': 'Derouen...  pub.1011026276   \n",
       "\n",
       "  issue                                            journal    pages  \\\n",
       "0     4  {'id': 'jour.1139246', 'title': 'Defence and P...  251-260   \n",
       "\n",
       "                                               title     type volume  \n",
       "0  The Role of the UN in International Crisis Ter...  article     14  "
      ]
     },
     "execution_count": 64,
     "metadata": {
      "tags": []
     },
     "output_type": "execute_result"
    }
   ],
   "source": [
    "group2003 = df2.get_group(2003)\n",
    "group2003.head()"
   ]
  },
  {
   "cell_type": "code",
   "execution_count": null,
   "metadata": {
    "Collapsed": "false",
    "colab": {},
    "colab_type": "code",
    "id": "jyMPb9GqGumJ",
    "outputId": "094a4ccb-ed2a-41b2-ef27-bb0c7e4b25d7"
   },
   "outputs": [
    {
     "data": {
      "text/html": [
       "<div>\n",
       "<style scoped>\n",
       "    .dataframe tbody tr th:only-of-type {\n",
       "        vertical-align: middle;\n",
       "    }\n",
       "\n",
       "    .dataframe tbody tr th {\n",
       "        vertical-align: top;\n",
       "    }\n",
       "\n",
       "    .dataframe thead th {\n",
       "        text-align: right;\n",
       "    }\n",
       "</style>\n",
       "<table border=\"1\" class=\"dataframe\">\n",
       "  <thead>\n",
       "    <tr style=\"text-align: right;\">\n",
       "      <th></th>\n",
       "      <th>year</th>\n",
       "      <th>author_affiliations</th>\n",
       "      <th>id</th>\n",
       "      <th>issue</th>\n",
       "      <th>journal</th>\n",
       "      <th>pages</th>\n",
       "      <th>title</th>\n",
       "      <th>type</th>\n",
       "      <th>volume</th>\n",
       "    </tr>\n",
       "  </thead>\n",
       "  <tbody>\n",
       "    <tr>\n",
       "      <th>0</th>\n",
       "      <td>2003</td>\n",
       "      <td>1</td>\n",
       "      <td>1</td>\n",
       "      <td>1</td>\n",
       "      <td>1</td>\n",
       "      <td>1</td>\n",
       "      <td>1</td>\n",
       "      <td>1</td>\n",
       "      <td>1</td>\n",
       "    </tr>\n",
       "    <tr>\n",
       "      <th>1</th>\n",
       "      <td>2006</td>\n",
       "      <td>1</td>\n",
       "      <td>1</td>\n",
       "      <td>1</td>\n",
       "      <td>1</td>\n",
       "      <td>1</td>\n",
       "      <td>1</td>\n",
       "      <td>1</td>\n",
       "      <td>1</td>\n",
       "    </tr>\n",
       "    <tr>\n",
       "      <th>2</th>\n",
       "      <td>2015</td>\n",
       "      <td>11</td>\n",
       "      <td>11</td>\n",
       "      <td>10</td>\n",
       "      <td>11</td>\n",
       "      <td>11</td>\n",
       "      <td>11</td>\n",
       "      <td>11</td>\n",
       "      <td>10</td>\n",
       "    </tr>\n",
       "    <tr>\n",
       "      <th>3</th>\n",
       "      <td>2016</td>\n",
       "      <td>154</td>\n",
       "      <td>154</td>\n",
       "      <td>129</td>\n",
       "      <td>154</td>\n",
       "      <td>143</td>\n",
       "      <td>154</td>\n",
       "      <td>154</td>\n",
       "      <td>139</td>\n",
       "    </tr>\n",
       "    <tr>\n",
       "      <th>4</th>\n",
       "      <td>2017</td>\n",
       "      <td>475</td>\n",
       "      <td>479</td>\n",
       "      <td>385</td>\n",
       "      <td>479</td>\n",
       "      <td>462</td>\n",
       "      <td>479</td>\n",
       "      <td>479</td>\n",
       "      <td>448</td>\n",
       "    </tr>\n",
       "    <tr>\n",
       "      <th>5</th>\n",
       "      <td>2018</td>\n",
       "      <td>324</td>\n",
       "      <td>326</td>\n",
       "      <td>290</td>\n",
       "      <td>326</td>\n",
       "      <td>318</td>\n",
       "      <td>326</td>\n",
       "      <td>326</td>\n",
       "      <td>301</td>\n",
       "    </tr>\n",
       "    <tr>\n",
       "      <th>6</th>\n",
       "      <td>2019</td>\n",
       "      <td>28</td>\n",
       "      <td>28</td>\n",
       "      <td>22</td>\n",
       "      <td>28</td>\n",
       "      <td>26</td>\n",
       "      <td>28</td>\n",
       "      <td>28</td>\n",
       "      <td>23</td>\n",
       "    </tr>\n",
       "  </tbody>\n",
       "</table>\n",
       "</div>"
      ],
      "text/plain": [
       "   year  author_affiliations   id  issue  journal  pages  title  type  volume\n",
       "0  2003                    1    1      1        1      1      1     1       1\n",
       "1  2006                    1    1      1        1      1      1     1       1\n",
       "2  2015                   11   11     10       11     11     11    11      10\n",
       "3  2016                  154  154    129      154    143    154   154     139\n",
       "4  2017                  475  479    385      479    462    479   479     448\n",
       "5  2018                  324  326    290      326    318    326   326     301\n",
       "6  2019                   28   28     22       28     26     28    28      23"
      ]
     },
     "execution_count": 65,
     "metadata": {
      "tags": []
     },
     "output_type": "execute_result"
    }
   ],
   "source": [
    "# The groupby output will have an index or multi-index on rows corresponding to your chosen grouping variables. \n",
    "# To avoid setting this index, pass “as_index=False” to the groupby operation.\n",
    "df3 = df.groupby('year', as_index=False)\n",
    "df3.count()"
   ]
  },
  {
   "cell_type": "markdown",
   "metadata": {
    "Collapsed": "false",
    "colab_type": "text",
    "id": "aEFXQOjpKsAo"
   },
   "source": [
    "### Counting results"
   ]
  },
  {
   "cell_type": "code",
   "execution_count": null,
   "metadata": {
    "Collapsed": "false",
    "colab": {},
    "colab_type": "code",
    "id": "yueuhKjTGumL",
    "outputId": "907d6102-d35c-4e70-bca8-d44fdbc63939"
   },
   "outputs": [
    {
     "data": {
      "text/html": [
       "<div>\n",
       "<style scoped>\n",
       "    .dataframe tbody tr th:only-of-type {\n",
       "        vertical-align: middle;\n",
       "    }\n",
       "\n",
       "    .dataframe tbody tr th {\n",
       "        vertical-align: top;\n",
       "    }\n",
       "\n",
       "    .dataframe thead th {\n",
       "        text-align: right;\n",
       "    }\n",
       "</style>\n",
       "<table border=\"1\" class=\"dataframe\">\n",
       "  <thead>\n",
       "    <tr style=\"text-align: right;\">\n",
       "      <th></th>\n",
       "      <th>year</th>\n",
       "      <th>id</th>\n",
       "    </tr>\n",
       "  </thead>\n",
       "  <tbody>\n",
       "    <tr>\n",
       "      <th>0</th>\n",
       "      <td>2003</td>\n",
       "      <td>1</td>\n",
       "    </tr>\n",
       "    <tr>\n",
       "      <th>1</th>\n",
       "      <td>2006</td>\n",
       "      <td>1</td>\n",
       "    </tr>\n",
       "    <tr>\n",
       "      <th>2</th>\n",
       "      <td>2015</td>\n",
       "      <td>11</td>\n",
       "    </tr>\n",
       "    <tr>\n",
       "      <th>3</th>\n",
       "      <td>2016</td>\n",
       "      <td>154</td>\n",
       "    </tr>\n",
       "    <tr>\n",
       "      <th>4</th>\n",
       "      <td>2017</td>\n",
       "      <td>479</td>\n",
       "    </tr>\n",
       "    <tr>\n",
       "      <th>5</th>\n",
       "      <td>2018</td>\n",
       "      <td>326</td>\n",
       "    </tr>\n",
       "    <tr>\n",
       "      <th>6</th>\n",
       "      <td>2019</td>\n",
       "      <td>28</td>\n",
       "    </tr>\n",
       "  </tbody>\n",
       "</table>\n",
       "</div>"
      ],
      "text/plain": [
       "   year   id\n",
       "0  2003    1\n",
       "1  2006    1\n",
       "2  2015   11\n",
       "3  2016  154\n",
       "4  2017  479\n",
       "5  2018  326\n",
       "6  2019   28"
      ]
     },
     "execution_count": 66,
     "metadata": {
      "tags": []
     },
     "output_type": "execute_result"
    }
   ],
   "source": [
    "# https://www.shanelynn.ie/summarising-aggregation-and-grouping-data-in-python-pandas/\n",
    "# Produces Pandas Series\n",
    "df3['id'].count()\n",
    "# Produces Pandas DataFrame\n",
    "df3[['id']].count()"
   ]
  },
  {
   "cell_type": "markdown",
   "metadata": {
    "Collapsed": "false",
    "colab_type": "text",
    "id": "2BNrPztmGumR"
   },
   "source": [
    "One liner.."
   ]
  },
  {
   "cell_type": "code",
   "execution_count": null,
   "metadata": {
    "Collapsed": "false",
    "colab": {},
    "colab_type": "code",
    "id": "5-yk9ZLwGumR",
    "outputId": "96a7317a-c402-4c7f-ca61-a19aea831f81"
   },
   "outputs": [
    {
     "data": {
      "text/html": [
       "<div>\n",
       "<style scoped>\n",
       "    .dataframe tbody tr th:only-of-type {\n",
       "        vertical-align: middle;\n",
       "    }\n",
       "\n",
       "    .dataframe tbody tr th {\n",
       "        vertical-align: top;\n",
       "    }\n",
       "\n",
       "    .dataframe thead th {\n",
       "        text-align: right;\n",
       "    }\n",
       "</style>\n",
       "<table border=\"1\" class=\"dataframe\">\n",
       "  <thead>\n",
       "    <tr style=\"text-align: right;\">\n",
       "      <th></th>\n",
       "      <th>year</th>\n",
       "      <th>id</th>\n",
       "    </tr>\n",
       "  </thead>\n",
       "  <tbody>\n",
       "    <tr>\n",
       "      <th>0</th>\n",
       "      <td>2003</td>\n",
       "      <td>1</td>\n",
       "    </tr>\n",
       "    <tr>\n",
       "      <th>1</th>\n",
       "      <td>2006</td>\n",
       "      <td>1</td>\n",
       "    </tr>\n",
       "    <tr>\n",
       "      <th>2</th>\n",
       "      <td>2015</td>\n",
       "      <td>11</td>\n",
       "    </tr>\n",
       "    <tr>\n",
       "      <th>3</th>\n",
       "      <td>2016</td>\n",
       "      <td>154</td>\n",
       "    </tr>\n",
       "    <tr>\n",
       "      <th>4</th>\n",
       "      <td>2017</td>\n",
       "      <td>479</td>\n",
       "    </tr>\n",
       "    <tr>\n",
       "      <th>5</th>\n",
       "      <td>2018</td>\n",
       "      <td>326</td>\n",
       "    </tr>\n",
       "    <tr>\n",
       "      <th>6</th>\n",
       "      <td>2019</td>\n",
       "      <td>28</td>\n",
       "    </tr>\n",
       "  </tbody>\n",
       "</table>\n",
       "</div>"
      ],
      "text/plain": [
       "   year   id\n",
       "0  2003    1\n",
       "1  2006    1\n",
       "2  2015   11\n",
       "3  2016  154\n",
       "4  2017  479\n",
       "5  2018  326\n",
       "6  2019   28"
      ]
     },
     "execution_count": 67,
     "metadata": {
      "tags": []
     },
     "output_type": "execute_result"
    }
   ],
   "source": [
    "df.groupby('year', as_index=False)['id'].count()"
   ]
  },
  {
   "cell_type": "markdown",
   "metadata": {
    "Collapsed": "false",
    "colab_type": "text",
    "id": "PmKlcGxrGumT",
    "inputHidden": false,
    "outputHidden": false
   },
   "source": [
    "### Groupby and sum only one column\n",
    "* https://stackoverflow.com/questions/38985053/pandas-groupby-and-sum-only-one-column"
   ]
  },
  {
   "cell_type": "code",
   "execution_count": null,
   "metadata": {
    "Collapsed": "false",
    "colab": {},
    "colab_type": "code",
    "collapsed": false,
    "id": "XXC5IYidGumT",
    "inputHidden": false,
    "jupyter": {
     "outputs_hidden": false
    },
    "outputHidden": false
   },
   "outputs": [],
   "source": [
    "df_by_concept = df.groupby('concept', as_index=False)['score'].sum()"
   ]
  },
  {
   "cell_type": "markdown",
   "metadata": {
    "Collapsed": "false",
    "colab_type": "text",
    "id": "BhB0agxWGumW"
   },
   "source": [
    "### Using groupby to filter items that occur more than once\n",
    "* https://stackoverflow.com/questions/32918506/pandas-how-to-filter-for-items-that-occur-more-than-once-in-a-dataframe"
   ]
  },
  {
   "cell_type": "code",
   "execution_count": null,
   "metadata": {
    "Collapsed": "false",
    "colab": {},
    "colab_type": "code",
    "id": "Xi5I3XLRGumX",
    "inputHidden": false,
    "outputHidden": false
   },
   "outputs": [],
   "source": [
    "df_top_journals = df.groupby('journal.title').filter(lambda x: len(x) > 3)"
   ]
  },
  {
   "cell_type": "markdown",
   "metadata": {
    "Collapsed": "false",
    "colab_type": "text",
    "id": "YelMs7lCKy_r"
   },
   "source": [
    "### Add a column that counts a variable in groupby\n",
    "* https://stackoverflow.com/questions/29791785/python-pandas-add-a-column-to-my-dataframe-that-counts-a-variable"
   ]
  },
  {
   "cell_type": "code",
   "execution_count": null,
   "metadata": {
    "Collapsed": "false",
    "colab": {},
    "colab_type": "code",
    "id": "0d6K_VXNK7Aa"
   },
   "outputs": [],
   "source": [
    "df['count'] = df.groupby('group')['group'].transform('count')\n",
    "\n",
    "# Out[223]:\n",
    "#     org  group  count\n",
    "# 0  org1      1      2\n",
    "# 1  org2      1      2\n",
    "# 2  org3      2      1\n",
    "# 3  org4      3      3\n",
    "# 4  org5      3      3\n",
    "# 5  org6      3      3"
   ]
  },
  {
   "cell_type": "code",
   "execution_count": null,
   "metadata": {
    "Collapsed": "false",
    "colab": {},
    "colab_type": "code",
    "id": "b6MIdw6cb-I1"
   },
   "outputs": [],
   "source": [
    "#\n",
    "# add new column by counting unique instances in another column than the grouping one\n",
    "#\n",
    "gridaffiliations[\"tot_pubs\"] = gridaffiliations.groupby(['aff_id'])['pub_id'].transform('nunique')"
   ]
  },
  {
   "cell_type": "markdown",
   "metadata": {
    "Collapsed": "false",
    "colab_type": "text",
    "id": "pMACflvQMWZk"
   },
   "source": [
    "### Group by two variables\n"
   ]
  },
  {
   "cell_type": "code",
   "execution_count": null,
   "metadata": {
    "Collapsed": "false",
    "colab": {},
    "colab_type": "code",
    "id": "ddQDsUvuMcOE"
   },
   "outputs": [],
   "source": [
    "gridaffiliations.groupby(['aff_id', 'pub_id']).count()"
   ]
  },
  {
   "cell_type": "markdown",
   "metadata": {
    "Collapsed": "false",
    "colab_type": "text",
    "id": "uv7FluczGumY",
    "inputHidden": false,
    "outputHidden": false
   },
   "source": [
    "## Iterate through dataframe\n",
    "* https://stackoverflow.com/questions/16476924/how-to-iterate-over-rows-in-a-dataframe-in-pandas"
   ]
  },
  {
   "cell_type": "code",
   "execution_count": null,
   "metadata": {
    "Collapsed": "false",
    "colab": {},
    "colab_type": "code",
    "collapsed": false,
    "id": "AvLAPC0AGumY",
    "inputHidden": false,
    "jupyter": {
     "outputs_hidden": false
    },
    "outputHidden": false
   },
   "outputs": [],
   "source": [
    "for index, row in df.iterrows():\n",
    "    print(row['c1'], row['c2'])"
   ]
  },
  {
   "cell_type": "markdown",
   "metadata": {
    "Collapsed": "false",
    "colab_type": "text",
    "id": "Yr7rGnIjGumZ"
   },
   "source": [
    "## Query dataframe"
   ]
  },
  {
   "cell_type": "code",
   "execution_count": null,
   "metadata": {
    "Collapsed": "false",
    "colab": {},
    "colab_type": "code",
    "id": "vXw1ukM3Guma",
    "outputId": "c03bb4ce-2487-4262-f1c3-7cff2b645294"
   },
   "outputs": [
    {
     "data": {
      "text/html": [
       "<div>\n",
       "<style scoped>\n",
       "    .dataframe tbody tr th:only-of-type {\n",
       "        vertical-align: middle;\n",
       "    }\n",
       "\n",
       "    .dataframe tbody tr th {\n",
       "        vertical-align: top;\n",
       "    }\n",
       "\n",
       "    .dataframe thead th {\n",
       "        text-align: right;\n",
       "    }\n",
       "</style>\n",
       "<table border=\"1\" class=\"dataframe\">\n",
       "  <thead>\n",
       "    <tr style=\"text-align: right;\">\n",
       "      <th></th>\n",
       "      <th>author_affiliations</th>\n",
       "      <th>id</th>\n",
       "      <th>issue</th>\n",
       "      <th>journal</th>\n",
       "      <th>pages</th>\n",
       "      <th>title</th>\n",
       "      <th>type</th>\n",
       "      <th>volume</th>\n",
       "      <th>year</th>\n",
       "    </tr>\n",
       "  </thead>\n",
       "  <tbody>\n",
       "    <tr>\n",
       "      <th>0</th>\n",
       "      <td>[[{'first_name': 'Scott R.', 'last_name': 'Bak...</td>\n",
       "      <td>pub.1059983538</td>\n",
       "      <td>4</td>\n",
       "      <td>{'id': 'jour.1123532', 'title': 'The Quarterly...</td>\n",
       "      <td>1593-1636</td>\n",
       "      <td>Measuring Economic Policy Uncertainty</td>\n",
       "      <td>article</td>\n",
       "      <td>131</td>\n",
       "      <td>2016</td>\n",
       "    </tr>\n",
       "    <tr>\n",
       "      <th>1</th>\n",
       "      <td>[[{'first_name': 'Marcel P.', 'last_name': 'Ti...</td>\n",
       "      <td>pub.1024262334</td>\n",
       "      <td>3</td>\n",
       "      <td>{'id': 'jour.1050256', 'title': 'Review of Int...</td>\n",
       "      <td>575-605</td>\n",
       "      <td>An Illustrated User Guide to the World Input–O...</td>\n",
       "      <td>article</td>\n",
       "      <td>23</td>\n",
       "      <td>2015</td>\n",
       "    </tr>\n",
       "    <tr>\n",
       "      <th>3</th>\n",
       "      <td>[[{'first_name': 'Sara B.', 'last_name': 'Hobo...</td>\n",
       "      <td>pub.1038710751</td>\n",
       "      <td>9</td>\n",
       "      <td>{'id': 'jour.1052590', 'title': 'Journal of Eu...</td>\n",
       "      <td>1259-1277</td>\n",
       "      <td>The Brexit vote: a divided nation, a divided c...</td>\n",
       "      <td>article</td>\n",
       "      <td>23</td>\n",
       "      <td>2016</td>\n",
       "    </tr>\n",
       "    <tr>\n",
       "      <th>4</th>\n",
       "      <td>[[{'first_name': 'Matthew J.', 'last_name': 'G...</td>\n",
       "      <td>pub.1019084958</td>\n",
       "      <td>3</td>\n",
       "      <td>{'id': 'jour.1026839', 'title': 'The Political...</td>\n",
       "      <td>323-332</td>\n",
       "      <td>The 2016 Referendum, Brexit and the Left Behin...</td>\n",
       "      <td>article</td>\n",
       "      <td>87</td>\n",
       "      <td>2016</td>\n",
       "    </tr>\n",
       "    <tr>\n",
       "      <th>5</th>\n",
       "      <td>[[{'first_name': 'The Global Consortium for H5...</td>\n",
       "      <td>pub.1062667950</td>\n",
       "      <td>6309</td>\n",
       "      <td>{'id': 'jour.1346339', 'title': 'Science'}</td>\n",
       "      <td>213-217</td>\n",
       "      <td>Role for migratory wild birds in the global sp...</td>\n",
       "      <td>article</td>\n",
       "      <td>354</td>\n",
       "      <td>2016</td>\n",
       "    </tr>\n",
       "  </tbody>\n",
       "</table>\n",
       "</div>"
      ],
      "text/plain": [
       "                                 author_affiliations              id issue  \\\n",
       "0  [[{'first_name': 'Scott R.', 'last_name': 'Bak...  pub.1059983538     4   \n",
       "1  [[{'first_name': 'Marcel P.', 'last_name': 'Ti...  pub.1024262334     3   \n",
       "3  [[{'first_name': 'Sara B.', 'last_name': 'Hobo...  pub.1038710751     9   \n",
       "4  [[{'first_name': 'Matthew J.', 'last_name': 'G...  pub.1019084958     3   \n",
       "5  [[{'first_name': 'The Global Consortium for H5...  pub.1062667950  6309   \n",
       "\n",
       "                                             journal      pages  \\\n",
       "0  {'id': 'jour.1123532', 'title': 'The Quarterly...  1593-1636   \n",
       "1  {'id': 'jour.1050256', 'title': 'Review of Int...    575-605   \n",
       "3  {'id': 'jour.1052590', 'title': 'Journal of Eu...  1259-1277   \n",
       "4  {'id': 'jour.1026839', 'title': 'The Political...    323-332   \n",
       "5         {'id': 'jour.1346339', 'title': 'Science'}    213-217   \n",
       "\n",
       "                                               title     type volume  year  \n",
       "0              Measuring Economic Policy Uncertainty  article    131  2016  \n",
       "1  An Illustrated User Guide to the World Input–O...  article     23  2015  \n",
       "3  The Brexit vote: a divided nation, a divided c...  article     23  2016  \n",
       "4  The 2016 Referendum, Brexit and the Left Behin...  article     87  2016  \n",
       "5  Role for migratory wild birds in the global sp...  article    354  2016  "
      ]
     },
     "execution_count": 71,
     "metadata": {
      "tags": []
     },
     "output_type": "execute_result"
    }
   ],
   "source": [
    "df.query(\"type=='article'\").head()"
   ]
  },
  {
   "cell_type": "code",
   "execution_count": null,
   "metadata": {
    "Collapsed": "false",
    "colab": {},
    "colab_type": "code",
    "collapsed": false,
    "id": "SMFaVNUkGumb",
    "inputHidden": false,
    "jupyter": {
     "outputs_hidden": false
    },
    "outputHidden": false
   },
   "outputs": [],
   "source": [
    "grid_ids = df.query(\"country_name=='Netherlands'\")[:30]['id']"
   ]
  },
  {
   "cell_type": "markdown",
   "metadata": {
    "Collapsed": "false",
    "colab_type": "text",
    "id": "srKl8Bp4aIg7"
   },
   "source": [
    "### Select based on list "
   ]
  },
  {
   "cell_type": "code",
   "execution_count": null,
   "metadata": {
    "Collapsed": "false",
    "colab": {},
    "colab_type": "code",
    "id": "aZrwWhQpaLoQ"
   },
   "outputs": [],
   "source": [
    " df[df['A'].isin([3, 6])]"
   ]
  },
  {
   "cell_type": "code",
   "execution_count": null,
   "metadata": {
    "Collapsed": "false",
    "colab": {},
    "colab_type": "code",
    "id": "MSUNXWr9DDkF"
   },
   "outputs": [],
   "source": [
    "# negative version\n",
    " df[~df['A'].isin([3, 6])]"
   ]
  },
  {
   "cell_type": "code",
   "execution_count": null,
   "metadata": {
    "Collapsed": "false",
    "colab": {},
    "colab_type": "code",
    "id": "R1DTidmkaUfQ"
   },
   "outputs": [],
   "source": [
    "df.query(' column_a == [\"val1\", \"val2\", ...]', inplace=True)"
   ]
  },
  {
   "cell_type": "code",
   "execution_count": null,
   "metadata": {
    "Collapsed": "false",
    "colab": {},
    "colab_type": "code",
    "id": "EAAQtJceDF3X"
   },
   "outputs": [],
   "source": [
    "my_symbol = 'BUD US'\n",
    "df.query(\"Symbol=='{0}'\".format(my_symbol))"
   ]
  },
  {
   "cell_type": "code",
   "execution_count": null,
   "metadata": {
    "Collapsed": "false",
    "collapsed": false,
    "inputHidden": false,
    "jupyter": {
     "outputs_hidden": false
    },
    "outputHidden": false
   },
   "outputs": [],
   "source": [
    "# select if value is in list (when cell contains a list eg a list of grants)\n",
    "df[df['supporting_grant_ids'].str.contains('grant.2347731')]"
   ]
  },
  {
   "cell_type": "markdown",
   "metadata": {
    "Collapsed": "false",
    "colab_type": "text",
    "id": "gqvoY2hrGumd"
   },
   "source": [
    "## Merge and aggregrate dataframes\n",
    "* https://www.dataquest.io/blog/pandas-concatenation-tutorial/"
   ]
  },
  {
   "cell_type": "markdown",
   "metadata": {
    "Collapsed": "false",
    "colab_type": "text",
    "id": "eLT2x0FuGumd"
   },
   "source": [
    "df2 = pd.merge(dfy, dfyears_nl, how='outer')"
   ]
  },
  {
   "cell_type": "code",
   "execution_count": null,
   "metadata": {
    "Collapsed": "false",
    "colab": {},
    "colab_type": "code",
    "id": "nUAVua_VGumd",
    "outputId": "be3091f6-8f33-4e33-d6b6-de327e13d789"
   },
   "outputs": [
    {
     "ename": "NameError",
     "evalue": "name 'pubyears1' is not defined",
     "output_type": "error",
     "traceback": [
      "\u001b[0;31m---------------------------------------------------------------------------\u001b[0m",
      "\u001b[0;31mNameError\u001b[0m                                 Traceback (most recent call last)",
      "\u001b[0;32m<ipython-input-2-2b3367aad6e7>\u001b[0m in \u001b[0;36m<module>\u001b[0;34m\u001b[0m\n\u001b[1;32m      1\u001b[0m \u001b[0;31m# concenate dataframes simply add new rows at the bottom\u001b[0m\u001b[0;34m\u001b[0m\u001b[0;34m\u001b[0m\u001b[0;34m\u001b[0m\u001b[0m\n\u001b[0;32m----> 2\u001b[0;31m \u001b[0mres\u001b[0m \u001b[0;34m=\u001b[0m \u001b[0mpubyears1\u001b[0m\u001b[0;34m.\u001b[0m\u001b[0mappend\u001b[0m\u001b[0;34m(\u001b[0m\u001b[0;34m[\u001b[0m\u001b[0mpubyears2\u001b[0m\u001b[0;34m,\u001b[0m \u001b[0mpubyears3\u001b[0m\u001b[0;34m]\u001b[0m\u001b[0;34m)\u001b[0m\u001b[0;34m\u001b[0m\u001b[0;34m\u001b[0m\u001b[0m\n\u001b[0m",
      "\u001b[0;31mNameError\u001b[0m: name 'pubyears1' is not defined"
     ]
    }
   ],
   "source": [
    "# concenate dataframes simply add new rows at the bottom\n",
    "res = df1.append([df2, df3])\n",
    "# then usually sort and reset index for visualizations etc...\n",
    "res.rename(columns={'id':'years'}, inplace=True)\n",
    "res.sort_values(by=\"years\", inplace=True)\n",
    "res.reset_index(drop=True)"
   ]
  },
  {
   "cell_type": "markdown",
   "metadata": {
    "Collapsed": "false",
    "colab_type": "text",
    "id": "c4f8PcSpGumf"
   },
   "source": [
    "## Melt a dataframe"
   ]
  },
  {
   "cell_type": "code",
   "execution_count": null,
   "metadata": {
    "Collapsed": "false",
    "colab": {},
    "colab_type": "code",
    "id": "Xrd6lSSgGumf"
   },
   "outputs": [],
   "source": [
    "formatted_df = pd.melt(df,\n",
    "                       [\"religion\"],  # the columns to keep as is\n",
    "                       var_name=\"income\",  # the columnn grouping all melted columns \n",
    "                       value_name=\"freq\")  # the column counting the objects melted\n",
    "formatted_df = formatted_df.sort_values(by=[\"religion\"])\n",
    "formatted_df.head(10)"
   ]
  },
  {
   "cell_type": "markdown",
   "metadata": {
    "Collapsed": "false",
    "colab_type": "text",
    "id": "T7M_2pQCGumg"
   },
   "source": [
    "## Using json_normalize\n",
    "\n",
    "* https://pandas.pydata.org/pandas-docs/stable/reference/api/pandas.io.json.json_normalize.html\n",
    "* https://www.kaggle.com/jboysen/quick-tutorial-flatten-nested-json-in-pandas\n",
    "\n",
    "```\n",
    "from pandas.io.json import json_normalize #package for flattening json in pandas df\n",
    "\n",
    ">>> data = [{'state': 'Florida',\n",
    "...          'shortname': 'FL',\n",
    "...          'info': {\n",
    "...               'governor': 'Rick Scott'\n",
    "...          },\n",
    "...          'counties': [{'name': 'Dade', 'population': 12345},\n",
    "...                      {'name': 'Broward', 'population': 40000},\n",
    "...                      {'name': 'Palm Beach', 'population': 60000}]},\n",
    "...         {'state': 'Ohio',\n",
    "...          'shortname': 'OH',\n",
    "...          'info': {\n",
    "...               'governor': 'John Kasich'\n",
    "...          },\n",
    "...          'counties': [{'name': 'Summit', 'population': 1234},\n",
    "...                       {'name': 'Cuyahoga', 'population': 1337}]}]\n",
    ">>> result = json_normalize(data, 'counties', ['state', 'shortname',\n",
    "...                                           ['info', 'governor']])\n",
    ">>> result\n",
    "         name  population info.governor    state shortname\n",
    "0        Dade       12345    Rick Scott  Florida        FL\n",
    "1     Broward       40000    Rick Scott  Florida        FL\n",
    "2  Palm Beach       60000    Rick Scott  Florida        FL\n",
    "3      Summit        1234   John Kasich     Ohio        OH\n",
    "4    Cuyahoga        1337   John Kasich     Ohio        OH\n",
    "```"
   ]
  },
  {
   "cell_type": "code",
   "execution_count": null,
   "metadata": {
    "Collapsed": "false",
    "colab": {},
    "colab_type": "code",
    "id": "7JEiyfi7Gumg",
    "outputId": "20398324-545a-4a2a-b9b2-ec292ca05362"
   },
   "outputs": [
    {
     "data": {
      "text/html": [
       "<div>\n",
       "<style scoped>\n",
       "    .dataframe tbody tr th:only-of-type {\n",
       "        vertical-align: middle;\n",
       "    }\n",
       "\n",
       "    .dataframe tbody tr th {\n",
       "        vertical-align: top;\n",
       "    }\n",
       "\n",
       "    .dataframe thead th {\n",
       "        text-align: right;\n",
       "    }\n",
       "</style>\n",
       "<table border=\"1\" class=\"dataframe\">\n",
       "  <thead>\n",
       "    <tr style=\"text-align: right;\">\n",
       "      <th></th>\n",
       "      <th>author_affiliations</th>\n",
       "      <th>id</th>\n",
       "      <th>issue</th>\n",
       "      <th>journal.id</th>\n",
       "      <th>journal.title</th>\n",
       "      <th>pages</th>\n",
       "      <th>title</th>\n",
       "      <th>type</th>\n",
       "      <th>volume</th>\n",
       "      <th>year</th>\n",
       "    </tr>\n",
       "  </thead>\n",
       "  <tbody>\n",
       "    <tr>\n",
       "      <th>0</th>\n",
       "      <td>[[{'first_name': 'Scott R.', 'last_name': 'Bak...</td>\n",
       "      <td>pub.1059983538</td>\n",
       "      <td>4</td>\n",
       "      <td>jour.1123532</td>\n",
       "      <td>The Quarterly Journal of Economics</td>\n",
       "      <td>1593-1636</td>\n",
       "      <td>Measuring Economic Policy Uncertainty</td>\n",
       "      <td>article</td>\n",
       "      <td>131</td>\n",
       "      <td>2016</td>\n",
       "    </tr>\n",
       "    <tr>\n",
       "      <th>1</th>\n",
       "      <td>[[{'first_name': 'Marcel P.', 'last_name': 'Ti...</td>\n",
       "      <td>pub.1024262334</td>\n",
       "      <td>3</td>\n",
       "      <td>jour.1050256</td>\n",
       "      <td>Review of International Economics</td>\n",
       "      <td>575-605</td>\n",
       "      <td>An Illustrated User Guide to the World Input–O...</td>\n",
       "      <td>article</td>\n",
       "      <td>23</td>\n",
       "      <td>2015</td>\n",
       "    </tr>\n",
       "    <tr>\n",
       "      <th>2</th>\n",
       "      <td>[[{'first_name': 'Ronald', 'last_name': 'Ingle...</td>\n",
       "      <td>pub.1090420622</td>\n",
       "      <td>NaN</td>\n",
       "      <td>jour.1276748</td>\n",
       "      <td>SSRN Electronic Journal</td>\n",
       "      <td>NaN</td>\n",
       "      <td>Trump, Brexit, and the Rise of Populism: Econo...</td>\n",
       "      <td>preprint</td>\n",
       "      <td>NaN</td>\n",
       "      <td>2016</td>\n",
       "    </tr>\n",
       "    <tr>\n",
       "      <th>3</th>\n",
       "      <td>[[{'first_name': 'Sara B.', 'last_name': 'Hobo...</td>\n",
       "      <td>pub.1038710751</td>\n",
       "      <td>9</td>\n",
       "      <td>jour.1052590</td>\n",
       "      <td>Journal of European Public Policy</td>\n",
       "      <td>1259-1277</td>\n",
       "      <td>The Brexit vote: a divided nation, a divided c...</td>\n",
       "      <td>article</td>\n",
       "      <td>23</td>\n",
       "      <td>2016</td>\n",
       "    </tr>\n",
       "    <tr>\n",
       "      <th>4</th>\n",
       "      <td>[[{'first_name': 'Matthew J.', 'last_name': 'G...</td>\n",
       "      <td>pub.1019084958</td>\n",
       "      <td>3</td>\n",
       "      <td>jour.1026839</td>\n",
       "      <td>The Political Quarterly</td>\n",
       "      <td>323-332</td>\n",
       "      <td>The 2016 Referendum, Brexit and the Left Behin...</td>\n",
       "      <td>article</td>\n",
       "      <td>87</td>\n",
       "      <td>2016</td>\n",
       "    </tr>\n",
       "  </tbody>\n",
       "</table>\n",
       "</div>"
      ],
      "text/plain": [
       "                                 author_affiliations              id issue  \\\n",
       "0  [[{'first_name': 'Scott R.', 'last_name': 'Bak...  pub.1059983538     4   \n",
       "1  [[{'first_name': 'Marcel P.', 'last_name': 'Ti...  pub.1024262334     3   \n",
       "2  [[{'first_name': 'Ronald', 'last_name': 'Ingle...  pub.1090420622   NaN   \n",
       "3  [[{'first_name': 'Sara B.', 'last_name': 'Hobo...  pub.1038710751     9   \n",
       "4  [[{'first_name': 'Matthew J.', 'last_name': 'G...  pub.1019084958     3   \n",
       "\n",
       "     journal.id                       journal.title      pages  \\\n",
       "0  jour.1123532  The Quarterly Journal of Economics  1593-1636   \n",
       "1  jour.1050256   Review of International Economics    575-605   \n",
       "2  jour.1276748             SSRN Electronic Journal        NaN   \n",
       "3  jour.1052590   Journal of European Public Policy  1259-1277   \n",
       "4  jour.1026839             The Political Quarterly    323-332   \n",
       "\n",
       "                                               title      type volume  year  \n",
       "0              Measuring Economic Policy Uncertainty   article    131  2016  \n",
       "1  An Illustrated User Guide to the World Input–O...   article     23  2015  \n",
       "2  Trump, Brexit, and the Rise of Populism: Econo...  preprint    NaN  2016  \n",
       "3  The Brexit vote: a divided nation, a divided c...   article     23  2016  \n",
       "4  The 2016 Referendum, Brexit and the Left Behin...   article     87  2016  "
      ]
     },
     "execution_count": 92,
     "metadata": {
      "tags": []
     },
     "output_type": "execute_result"
    }
   ],
   "source": [
    "dfjournals = json_normalize(data.publications)\n",
    "dfjournals.reset_index()\n",
    "dfjournals.head()"
   ]
  },
  {
   "cell_type": "code",
   "execution_count": null,
   "metadata": {
    "Collapsed": "false",
    "colab": {},
    "colab_type": "code",
    "id": "KGaztOxZGumh",
    "outputId": "baa25e2e-a8e1-4684-bffe-e9f28ea4e106"
   },
   "outputs": [
    {
     "data": {
      "text/plain": [
       "Journal of European Public Policy                              30\n",
       "The British Journal of Politics and International Relations    17\n",
       "Journal of Ethnic and Migration Studies                        16\n",
       "Journal of Democracy                                           13\n",
       "The Political Quarterly                                        12\n",
       "Name: journal.title, dtype: int64"
      ]
     },
     "execution_count": 93,
     "metadata": {
      "tags": []
     },
     "output_type": "execute_result"
    }
   ],
   "source": [
    "dfjournals['journal.title'].value_counts().head()"
   ]
  },
  {
   "cell_type": "markdown",
   "metadata": {
    "Collapsed": "false",
    "colab_type": "text",
    "id": "M_4DrFWPGumi"
   },
   "source": [
    "### Json_normalize on nested objects with missing elements"
   ]
  },
  {
   "cell_type": "code",
   "execution_count": null,
   "metadata": {
    "Collapsed": "false",
    "colab": {},
    "colab_type": "code",
    "id": "iaf9geT-Gumj"
   },
   "outputs": [],
   "source": [
    "data = dslquery(\"\"\"search publications for \"brexit\" return publications[doi+title+FOR+times_cited] sort by times_cited limit 1000\"\"\")"
   ]
  },
  {
   "cell_type": "markdown",
   "metadata": {
    "Collapsed": "false",
    "colab_type": "text",
    "id": "FHEgjX77Gumj"
   },
   "source": [
    "NOTE the following doesn't work because the nested FOR structure sometimes is missing!\n",
    "\n",
    "```\n",
    "json_normalize(data.publications[:10], record_path=['FOR'])\n",
    "\n",
    "==> 'FOR' key Error! \n",
    "```\n",
    "\n",
    "In essence, the problem is that the data above have a missing key! The JSON is not regularly structured"
   ]
  },
  {
   "cell_type": "code",
   "execution_count": null,
   "metadata": {
    "Collapsed": "false",
    "colab": {},
    "colab_type": "code",
    "id": "dBWPOwl-Gumk",
    "outputId": "5dcd4bc4-5be6-437b-950a-7d404436b280"
   },
   "outputs": [
    {
     "data": {
      "text/html": [
       "<div>\n",
       "<style scoped>\n",
       "    .dataframe tbody tr th:only-of-type {\n",
       "        vertical-align: middle;\n",
       "    }\n",
       "\n",
       "    .dataframe tbody tr th {\n",
       "        vertical-align: top;\n",
       "    }\n",
       "\n",
       "    .dataframe thead th {\n",
       "        text-align: right;\n",
       "    }\n",
       "</style>\n",
       "<table border=\"1\" class=\"dataframe\">\n",
       "  <thead>\n",
       "    <tr style=\"text-align: right;\">\n",
       "      <th></th>\n",
       "      <th>id</th>\n",
       "      <th>name</th>\n",
       "      <th>doi</th>\n",
       "      <th>title</th>\n",
       "    </tr>\n",
       "  </thead>\n",
       "  <tbody>\n",
       "    <tr>\n",
       "      <th>0</th>\n",
       "      <td>3292</td>\n",
       "      <td>1402 Applied Economics</td>\n",
       "      <td>10.1093/qje/qjw024</td>\n",
       "      <td>Measuring Economic Policy Uncertainty</td>\n",
       "    </tr>\n",
       "    <tr>\n",
       "      <th>1</th>\n",
       "      <td>3313</td>\n",
       "      <td>1403 Econometrics</td>\n",
       "      <td>10.1093/qje/qjw024</td>\n",
       "      <td>Measuring Economic Policy Uncertainty</td>\n",
       "    </tr>\n",
       "    <tr>\n",
       "      <th>2</th>\n",
       "      <td>3286</td>\n",
       "      <td>1401 Economic Theory</td>\n",
       "      <td>10.1093/qje/qjw024</td>\n",
       "      <td>Measuring Economic Policy Uncertainty</td>\n",
       "    </tr>\n",
       "    <tr>\n",
       "      <th>3</th>\n",
       "      <td>3313</td>\n",
       "      <td>1403 Econometrics</td>\n",
       "      <td>10.1111/roie.12178</td>\n",
       "      <td>An Illustrated User Guide to the World Input–O...</td>\n",
       "    </tr>\n",
       "    <tr>\n",
       "      <th>4</th>\n",
       "      <td>3675</td>\n",
       "      <td>2103 Historical Studies</td>\n",
       "      <td>10.1080/13501763.2016.1225785</td>\n",
       "      <td>The Brexit vote: a divided nation, a divided c...</td>\n",
       "    </tr>\n",
       "  </tbody>\n",
       "</table>\n",
       "</div>"
      ],
      "text/plain": [
       "     id                     name                            doi  \\\n",
       "0  3292   1402 Applied Economics             10.1093/qje/qjw024   \n",
       "1  3313        1403 Econometrics             10.1093/qje/qjw024   \n",
       "2  3286     1401 Economic Theory             10.1093/qje/qjw024   \n",
       "3  3313        1403 Econometrics             10.1111/roie.12178   \n",
       "4  3675  2103 Historical Studies  10.1080/13501763.2016.1225785   \n",
       "\n",
       "                                               title  \n",
       "0              Measuring Economic Policy Uncertainty  \n",
       "1              Measuring Economic Policy Uncertainty  \n",
       "2              Measuring Economic Policy Uncertainty  \n",
       "3  An Illustrated User Guide to the World Input–O...  \n",
       "4  The Brexit vote: a divided nation, a divided c...  "
      ]
     },
     "execution_count": 113,
     "metadata": {
      "tags": []
     },
     "output_type": "execute_result"
    }
   ],
   "source": [
    "for x in data.publications[:10]:\n",
    "    if not 'FOR' in x:\n",
    "        x['FOR'] = []\n",
    "json_normalize(data.publications[:10], record_path=['FOR'], meta=['doi', 'title']).head()"
   ]
  },
  {
   "cell_type": "code",
   "execution_count": null,
   "metadata": {
    "Collapsed": "false",
    "colab": {},
    "colab_type": "code",
    "collapsed": false,
    "id": "p5w1_HcvGumk",
    "inputHidden": false,
    "jupyter": {
     "outputs_hidden": false
    },
    "outputHidden": false,
    "outputId": "5dcaaaf8-c7c6-4e93-ad42-cbf16c94bb83"
   },
   "outputs": [
    {
     "data": {
      "text/html": [
       "<div>\n",
       "<style scoped>\n",
       "    .dataframe tbody tr th:only-of-type {\n",
       "        vertical-align: middle;\n",
       "    }\n",
       "\n",
       "    .dataframe tbody tr th {\n",
       "        vertical-align: top;\n",
       "    }\n",
       "\n",
       "    .dataframe thead th {\n",
       "        text-align: right;\n",
       "    }\n",
       "</style>\n",
       "<table border=\"1\" class=\"dataframe\">\n",
       "  <thead>\n",
       "    <tr style=\"text-align: right;\">\n",
       "      <th></th>\n",
       "      <th>for_name</th>\n",
       "      <th>doi</th>\n",
       "      <th>title</th>\n",
       "    </tr>\n",
       "  </thead>\n",
       "  <tbody>\n",
       "    <tr>\n",
       "      <th>0</th>\n",
       "      <td>Applied Economics</td>\n",
       "      <td>10.1093/qje/qjw024</td>\n",
       "      <td>Measuring Economic Policy Uncertainty</td>\n",
       "    </tr>\n",
       "    <tr>\n",
       "      <th>1</th>\n",
       "      <td>Econometrics</td>\n",
       "      <td>10.1093/qje/qjw024</td>\n",
       "      <td>Measuring Economic Policy Uncertainty</td>\n",
       "    </tr>\n",
       "    <tr>\n",
       "      <th>2</th>\n",
       "      <td>Economic Theory</td>\n",
       "      <td>10.1093/qje/qjw024</td>\n",
       "      <td>Measuring Economic Policy Uncertainty</td>\n",
       "    </tr>\n",
       "    <tr>\n",
       "      <th>3</th>\n",
       "      <td>Econometrics</td>\n",
       "      <td>10.1111/roie.12178</td>\n",
       "      <td>An Illustrated User Guide to the World Input–O...</td>\n",
       "    </tr>\n",
       "    <tr>\n",
       "      <th>4</th>\n",
       "      <td>Historical Studies</td>\n",
       "      <td>10.1080/13501763.2016.1225785</td>\n",
       "      <td>The Brexit vote: a divided nation, a divided c...</td>\n",
       "    </tr>\n",
       "  </tbody>\n",
       "</table>\n",
       "</div>"
      ],
      "text/plain": [
       "             for_name                            doi  \\\n",
       "0   Applied Economics             10.1093/qje/qjw024   \n",
       "1        Econometrics             10.1093/qje/qjw024   \n",
       "2     Economic Theory             10.1093/qje/qjw024   \n",
       "3        Econometrics             10.1111/roie.12178   \n",
       "4  Historical Studies  10.1080/13501763.2016.1225785   \n",
       "\n",
       "                                               title  \n",
       "0              Measuring Economic Policy Uncertainty  \n",
       "1              Measuring Economic Policy Uncertainty  \n",
       "2              Measuring Economic Policy Uncertainty  \n",
       "3  An Illustrated User Guide to the World Input–O...  \n",
       "4  The Brexit vote: a divided nation, a divided c...  "
      ]
     },
     "execution_count": 111,
     "metadata": {
      "tags": []
     },
     "output_type": "execute_result"
    }
   ],
   "source": [
    "# another more sophisticated approach\n",
    "data = dslquery(\"\"\"search publications for \"brexit\" return publications[doi+title+FOR+times_cited] sort by times_cited limit 1000\"\"\")\n",
    "# ensure that all pubs have a valid (empty, even) FOR value \n",
    "for x in data.publications:\n",
    "    if not 'FOR' in x:\n",
    "        x['FOR'] = \"\"\n",
    "    else:\n",
    "        x['FOR'] = [{'name' : x['name'][5:]} for x in x['FOR']] # also remove the digit prefix to improve legibility\n",
    "# then\n",
    "json_normalize(data.publications, record_path=['FOR'], meta=[\"doi\", \"title\"], errors='ignore', record_prefix='for_').head()"
   ]
  },
  {
   "cell_type": "markdown",
   "metadata": {
    "Collapsed": "false",
    "colab_type": "text",
    "id": "XH-mSpeJGumm"
   },
   "source": [
    "### Normalizing nested JSON objects"
   ]
  },
  {
   "cell_type": "markdown",
   "metadata": {
    "Collapsed": "false",
    "colab_type": "text",
    "id": "A7IPWdgAGumn"
   },
   "source": [
    "Normalizing author affiliations is more difficult becuase they are **nested within 2 level** so the unpacking doesnt work out of the box..."
   ]
  },
  {
   "cell_type": "code",
   "execution_count": null,
   "metadata": {
    "Collapsed": "false",
    "colab": {},
    "colab_type": "code",
    "id": "uuSduvxWGumn"
   },
   "outputs": [],
   "source": [
    "data = dslquery(\"\"\"search publications for \"brexit\" return publications[basics] sort by times_cited limit 1000\"\"\")"
   ]
  },
  {
   "cell_type": "code",
   "execution_count": null,
   "metadata": {
    "Collapsed": "false",
    "colab": {},
    "colab_type": "code",
    "id": "aiDBPnPLGumo",
    "outputId": "84872c7c-75d6-43cd-8abc-7e11b27cbb23"
   },
   "outputs": [
    {
     "data": {
      "text/plain": [
       "[{'first_name': 'Scott R.',\n",
       "  'last_name': 'Baker',\n",
       "  'orcid': '',\n",
       "  'current_organization_id': '',\n",
       "  'researcher_id': '',\n",
       "  'affiliations': []},\n",
       " {'first_name': 'Nicholas',\n",
       "  'last_name': 'Bloom',\n",
       "  'orcid': '',\n",
       "  'current_organization_id': '',\n",
       "  'researcher_id': '',\n",
       "  'affiliations': []},\n",
       " {'first_name': 'Steven J.',\n",
       "  'last_name': 'Davis',\n",
       "  'orcid': '',\n",
       "  'current_organization_id': '',\n",
       "  'researcher_id': '',\n",
       "  'affiliations': []}]"
      ]
     },
     "execution_count": 124,
     "metadata": {
      "tags": []
     },
     "output_type": "execute_result"
    }
   ],
   "source": [
    "data.publications[0]['author_affiliations'][0]"
   ]
  },
  {
   "cell_type": "markdown",
   "metadata": {
    "Collapsed": "false",
    "colab_type": "text",
    "id": "yZZzlOwMGump"
   },
   "source": [
    "TIP: we can just simplify the input JSON by removing the empty level in the nesting structure... "
   ]
  },
  {
   "cell_type": "code",
   "execution_count": null,
   "metadata": {
    "Collapsed": "false",
    "colab": {},
    "colab_type": "code",
    "id": "5j2ar7wCGump"
   },
   "outputs": [],
   "source": [
    "for x in data.publications:\n",
    "    if 'author_affiliations' in x:\n",
    "        x['author_affiliations'] = x['author_affiliations'][0]\n",
    "    else:\n",
    "        x['author_affiliations'] = []"
   ]
  },
  {
   "cell_type": "code",
   "execution_count": null,
   "metadata": {
    "Collapsed": "false",
    "colab": {},
    "colab_type": "code",
    "id": "PRsm2azDGumq",
    "outputId": "a1b28705-8daf-4254-cb0b-f3002ca443dc"
   },
   "outputs": [
    {
     "data": {
      "text/html": [
       "<div>\n",
       "<style scoped>\n",
       "    .dataframe tbody tr th:only-of-type {\n",
       "        vertical-align: middle;\n",
       "    }\n",
       "\n",
       "    .dataframe tbody tr th {\n",
       "        vertical-align: top;\n",
       "    }\n",
       "\n",
       "    .dataframe thead th {\n",
       "        text-align: right;\n",
       "    }\n",
       "</style>\n",
       "<table border=\"1\" class=\"dataframe\">\n",
       "  <thead>\n",
       "    <tr style=\"text-align: right;\">\n",
       "      <th></th>\n",
       "      <th>affiliations</th>\n",
       "      <th>current_organization_id</th>\n",
       "      <th>first_name</th>\n",
       "      <th>last_name</th>\n",
       "      <th>orcid</th>\n",
       "      <th>researcher_id</th>\n",
       "      <th>id</th>\n",
       "      <th>doi</th>\n",
       "    </tr>\n",
       "  </thead>\n",
       "  <tbody>\n",
       "    <tr>\n",
       "      <th>0</th>\n",
       "      <td>[]</td>\n",
       "      <td></td>\n",
       "      <td>Scott R.</td>\n",
       "      <td>Baker</td>\n",
       "      <td></td>\n",
       "      <td></td>\n",
       "      <td>pub.1059983538</td>\n",
       "      <td>NaN</td>\n",
       "    </tr>\n",
       "    <tr>\n",
       "      <th>1</th>\n",
       "      <td>[]</td>\n",
       "      <td></td>\n",
       "      <td>Nicholas</td>\n",
       "      <td>Bloom</td>\n",
       "      <td></td>\n",
       "      <td></td>\n",
       "      <td>pub.1059983538</td>\n",
       "      <td>NaN</td>\n",
       "    </tr>\n",
       "    <tr>\n",
       "      <th>2</th>\n",
       "      <td>[]</td>\n",
       "      <td></td>\n",
       "      <td>Steven J.</td>\n",
       "      <td>Davis</td>\n",
       "      <td></td>\n",
       "      <td></td>\n",
       "      <td>pub.1059983538</td>\n",
       "      <td>NaN</td>\n",
       "    </tr>\n",
       "    <tr>\n",
       "      <th>3</th>\n",
       "      <td>[{'id': 'grid.4830.f', 'name': 'University of ...</td>\n",
       "      <td>grid.4830.f</td>\n",
       "      <td>Marcel P.</td>\n",
       "      <td>Timmer</td>\n",
       "      <td></td>\n",
       "      <td>ur.0637613047.37</td>\n",
       "      <td>pub.1024262334</td>\n",
       "      <td>NaN</td>\n",
       "    </tr>\n",
       "    <tr>\n",
       "      <th>4</th>\n",
       "      <td>[{'id': 'grid.4830.f', 'name': 'University of ...</td>\n",
       "      <td>grid.4830.f</td>\n",
       "      <td>Erik</td>\n",
       "      <td>Dietzenbacher</td>\n",
       "      <td></td>\n",
       "      <td>ur.010050177407.14</td>\n",
       "      <td>pub.1024262334</td>\n",
       "      <td>NaN</td>\n",
       "    </tr>\n",
       "  </tbody>\n",
       "</table>\n",
       "</div>"
      ],
      "text/plain": [
       "                                        affiliations current_organization_id  \\\n",
       "0                                                 []                           \n",
       "1                                                 []                           \n",
       "2                                                 []                           \n",
       "3  [{'id': 'grid.4830.f', 'name': 'University of ...             grid.4830.f   \n",
       "4  [{'id': 'grid.4830.f', 'name': 'University of ...             grid.4830.f   \n",
       "\n",
       "  first_name      last_name orcid       researcher_id              id  doi  \n",
       "0   Scott R.          Baker                            pub.1059983538  NaN  \n",
       "1   Nicholas          Bloom                            pub.1059983538  NaN  \n",
       "2  Steven J.          Davis                            pub.1059983538  NaN  \n",
       "3  Marcel P.         Timmer          ur.0637613047.37  pub.1024262334  NaN  \n",
       "4       Erik  Dietzenbacher        ur.010050177407.14  pub.1024262334  NaN  "
      ]
     },
     "execution_count": 133,
     "metadata": {
      "tags": []
     },
     "output_type": "execute_result"
    }
   ],
   "source": [
    "df_aff1 = json_normalize(data.publications[:10], record_path=['author_affiliations'], meta=[\"id\", \"doi\"], errors='ignore')\n",
    "df_aff1.head()"
   ]
  },
  {
   "cell_type": "markdown",
   "metadata": {
    "Collapsed": "false",
    "colab_type": "text",
    "id": "GtnHO8tRGumr"
   },
   "source": [
    "this allows us to have stats on number of authors per pub, how many have orcids, and current organizations."
   ]
  },
  {
   "cell_type": "markdown",
   "metadata": {
    "Collapsed": "false",
    "colab_type": "text",
    "id": "8O1ZLaCmGumr"
   },
   "source": [
    "### Recursive applications of json_normalize"
   ]
  },
  {
   "cell_type": "markdown",
   "metadata": {
    "Collapsed": "false",
    "colab_type": "text",
    "id": "35u-LZxCGums"
   },
   "source": [
    "We could simply create do another round of json_normalize !"
   ]
  },
  {
   "cell_type": "code",
   "execution_count": null,
   "metadata": {
    "Collapsed": "false",
    "colab": {},
    "colab_type": "code",
    "id": "x05qZYrrGums",
    "outputId": "c754de2e-c3a5-4bb9-c8af-a6cd3d1bc113"
   },
   "outputs": [
    {
     "data": {
      "text/plain": [
       "list"
      ]
     },
     "execution_count": 143,
     "metadata": {
      "tags": []
     },
     "output_type": "execute_result"
    }
   ],
   "source": [
    "type(json.loads(df_aff1.to_json(orient='records')))"
   ]
  },
  {
   "cell_type": "code",
   "execution_count": null,
   "metadata": {
    "Collapsed": "false",
    "colab": {},
    "colab_type": "code",
    "id": "AXuRSzdtGumt",
    "outputId": "03ba97b1-7dc0-4e76-e871-194a64ed83d5"
   },
   "outputs": [
    {
     "data": {
      "text/html": [
       "<div>\n",
       "<style scoped>\n",
       "    .dataframe tbody tr th:only-of-type {\n",
       "        vertical-align: middle;\n",
       "    }\n",
       "\n",
       "    .dataframe tbody tr th {\n",
       "        vertical-align: top;\n",
       "    }\n",
       "\n",
       "    .dataframe thead th {\n",
       "        text-align: right;\n",
       "    }\n",
       "</style>\n",
       "<table border=\"1\" class=\"dataframe\">\n",
       "  <thead>\n",
       "    <tr style=\"text-align: right;\">\n",
       "      <th></th>\n",
       "      <th>aff_city</th>\n",
       "      <th>aff_city_id</th>\n",
       "      <th>aff_country</th>\n",
       "      <th>aff_country_code</th>\n",
       "      <th>aff_id</th>\n",
       "      <th>aff_name</th>\n",
       "      <th>aff_state</th>\n",
       "      <th>aff_state_code</th>\n",
       "      <th>id</th>\n",
       "      <th>researcher_id</th>\n",
       "      <th>first_name</th>\n",
       "      <th>last_name</th>\n",
       "    </tr>\n",
       "  </thead>\n",
       "  <tbody>\n",
       "    <tr>\n",
       "      <th>0</th>\n",
       "      <td>Groningen</td>\n",
       "      <td>2755251.0</td>\n",
       "      <td>Netherlands</td>\n",
       "      <td>NL</td>\n",
       "      <td>grid.4830.f</td>\n",
       "      <td>University of Groningen</td>\n",
       "      <td>None</td>\n",
       "      <td>None</td>\n",
       "      <td>pub.1024262334</td>\n",
       "      <td>ur.0637613047.37</td>\n",
       "      <td>Marcel P.</td>\n",
       "      <td>Timmer</td>\n",
       "    </tr>\n",
       "    <tr>\n",
       "      <th>1</th>\n",
       "      <td>Groningen</td>\n",
       "      <td>2755251.0</td>\n",
       "      <td>Netherlands</td>\n",
       "      <td>NL</td>\n",
       "      <td>grid.4830.f</td>\n",
       "      <td>University of Groningen</td>\n",
       "      <td>None</td>\n",
       "      <td>None</td>\n",
       "      <td>pub.1024262334</td>\n",
       "      <td>ur.010050177407.14</td>\n",
       "      <td>Erik</td>\n",
       "      <td>Dietzenbacher</td>\n",
       "    </tr>\n",
       "    <tr>\n",
       "      <th>2</th>\n",
       "      <td>Groningen</td>\n",
       "      <td>2755251.0</td>\n",
       "      <td>Netherlands</td>\n",
       "      <td>NL</td>\n",
       "      <td>grid.4830.f</td>\n",
       "      <td>University of Groningen</td>\n",
       "      <td>None</td>\n",
       "      <td>None</td>\n",
       "      <td>pub.1024262334</td>\n",
       "      <td>ur.014505206773.12</td>\n",
       "      <td>Bart</td>\n",
       "      <td>Los</td>\n",
       "    </tr>\n",
       "    <tr>\n",
       "      <th>3</th>\n",
       "      <td>Vienna</td>\n",
       "      <td>2761369.0</td>\n",
       "      <td>Austria</td>\n",
       "      <td>AT</td>\n",
       "      <td>grid.426374.0</td>\n",
       "      <td>Vienna Institute for International Economic St...</td>\n",
       "      <td>None</td>\n",
       "      <td>None</td>\n",
       "      <td>pub.1024262334</td>\n",
       "      <td>ur.013540400553.29</td>\n",
       "      <td>Robert</td>\n",
       "      <td>Stehrer</td>\n",
       "    </tr>\n",
       "    <tr>\n",
       "      <th>4</th>\n",
       "      <td>Groningen</td>\n",
       "      <td>2755251.0</td>\n",
       "      <td>Netherlands</td>\n",
       "      <td>NL</td>\n",
       "      <td>grid.4830.f</td>\n",
       "      <td>University of Groningen</td>\n",
       "      <td>None</td>\n",
       "      <td>None</td>\n",
       "      <td>pub.1024262334</td>\n",
       "      <td>ur.07400737673.66</td>\n",
       "      <td>Gaaitzen J.</td>\n",
       "      <td>Vries</td>\n",
       "    </tr>\n",
       "  </tbody>\n",
       "</table>\n",
       "</div>"
      ],
      "text/plain": [
       "    aff_city  aff_city_id  aff_country aff_country_code         aff_id  \\\n",
       "0  Groningen    2755251.0  Netherlands               NL    grid.4830.f   \n",
       "1  Groningen    2755251.0  Netherlands               NL    grid.4830.f   \n",
       "2  Groningen    2755251.0  Netherlands               NL    grid.4830.f   \n",
       "3     Vienna    2761369.0      Austria               AT  grid.426374.0   \n",
       "4  Groningen    2755251.0  Netherlands               NL    grid.4830.f   \n",
       "\n",
       "                                            aff_name aff_state aff_state_code  \\\n",
       "0                            University of Groningen      None           None   \n",
       "1                            University of Groningen      None           None   \n",
       "2                            University of Groningen      None           None   \n",
       "3  Vienna Institute for International Economic St...      None           None   \n",
       "4                            University of Groningen      None           None   \n",
       "\n",
       "               id       researcher_id   first_name      last_name  \n",
       "0  pub.1024262334    ur.0637613047.37    Marcel P.         Timmer  \n",
       "1  pub.1024262334  ur.010050177407.14         Erik  Dietzenbacher  \n",
       "2  pub.1024262334  ur.014505206773.12         Bart            Los  \n",
       "3  pub.1024262334  ur.013540400553.29       Robert        Stehrer  \n",
       "4  pub.1024262334   ur.07400737673.66  Gaaitzen J.          Vries  "
      ]
     },
     "execution_count": 151,
     "metadata": {
      "tags": []
     },
     "output_type": "execute_result"
    }
   ],
   "source": [
    "json_normalize(json.loads(df_aff1.to_json(orient='records')), record_path=['affiliations'], \n",
    "               meta=['id', 'researcher_id', 'first_name', 'last_name'], record_prefix='aff_').head()\n",
    "        "
   ]
  }
 ],
 "metadata": {
  "colab": {
   "collapsed_sections": [
    "M_4DrFWPGumi"
   ],
   "name": "pandas recipes.ipynb",
   "provenance": [],
   "toc_visible": true
  },
  "kernel_info": {
   "name": "python3"
  },
  "kernelspec": {
   "display_name": "Python 3",
   "language": "python",
   "name": "python3"
  },
  "language_info": {
   "codemirror_mode": {
    "name": "ipython",
    "version": 3
   },
   "file_extension": ".py",
   "mimetype": "text/x-python",
   "name": "python",
   "nbconvert_exporter": "python",
   "pygments_lexer": "ipython3",
   "version": "3.8.5"
  },
  "nteract": {
   "version": "0.15.0"
  }
 },
 "nbformat": 4,
 "nbformat_minor": 4
}
