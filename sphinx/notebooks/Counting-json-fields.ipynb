{
 "cells": [
  {
   "cell_type": "markdown",
   "metadata": {
    "Collapsed": "false"
   },
   "source": [
    "# Counting JSON fields"
   ]
  },
  {
   "cell_type": "code",
   "execution_count": 1,
   "metadata": {
    "Collapsed": "false",
    "collapsed": true,
    "jupyter": {
     "outputs_hidden": true
    }
   },
   "outputs": [],
   "source": [
    "import os\n",
    "import json\n",
    "from collections import defaultdict"
   ]
  },
  {
   "cell_type": "code",
   "execution_count": 2,
   "metadata": {
    "Collapsed": "false",
    "collapsed": false,
    "jupyter": {
     "outputs_hidden": false
    }
   },
   "outputs": [],
   "source": [
    "total_grants = 0\n",
    "grant_ids_list = []\n",
    "field_counts = defaultdict(int)\n",
    "\n",
    "base_dir = \"./Dimensions API/2017-02\"\n",
    "for filename in os.listdir(base_dir):\n",
    "    if filename[-5:] == '.json':     \n",
    "        with open(os.path.join(base_dir, filename)) as f_in:\n",
    "            json_data = json.load(f_in)\n",
    "            for record in json_data:\n",
    "                grant_ids_list.append(record['id'])\n",
    "                total_grants += 1\n",
    "                for fieldname in record.keys():\n",
    "                    data = record[fieldname]\n",
    "                    \n",
    "                    if isinstance(data, list) or isinstance(data, str):\n",
    "                        if data and len(data) > 0:\n",
    "                            field_counts[fieldname] += 1\n",
    "                    else:\n",
    "                        if data:\n",
    "                            field_counts[fieldname] += 1"
   ]
  },
  {
   "cell_type": "code",
   "execution_count": 3,
   "metadata": {
    "Collapsed": "false",
    "collapsed": false,
    "jupyter": {
     "outputs_hidden": false
    }
   },
   "outputs": [
    {
     "name": "stdout",
     "output_type": "stream",
     "text": [
      "261321\n"
     ]
    }
   ],
   "source": [
    "print total_grants"
   ]
  },
  {
   "cell_type": "code",
   "execution_count": 4,
   "metadata": {
    "Collapsed": "false",
    "collapsed": false,
    "jupyter": {
     "outputs_hidden": false
    }
   },
   "outputs": [
    {
     "name": "stdout",
     "output_type": "stream",
     "text": [
      "261321\n"
     ]
    }
   ],
   "source": [
    "print len(grant_ids_list)"
   ]
  },
  {
   "cell_type": "code",
   "execution_count": 5,
   "metadata": {
    "Collapsed": "false",
    "collapsed": false,
    "jupyter": {
     "outputs_hidden": false
    }
   },
   "outputs": [
    {
     "name": "stdout",
     "output_type": "stream",
     "text": [
      "261321\n"
     ]
    }
   ],
   "source": [
    "print len(set(grant_ids_list))"
   ]
  },
  {
   "cell_type": "code",
   "execution_count": 6,
   "metadata": {
    "Collapsed": "false",
    "collapsed": false,
    "jupyter": {
     "outputs_hidden": false
    }
   },
   "outputs": [
    {
     "name": "stdout",
     "output_type": "stream",
     "text": [
      "239500\t21821\tabstract\n",
      "239500\t21821\tabstract_original\n",
      "15237\t246084\tattribution\n",
      "261321\t0\tdois\n",
      "243279\t18042\tend_date\n",
      "238523\t22798\tfor\n",
      "194294\t67027\tfunding_amount\n",
      "194436\t66885\tfunding_amount_in_eur\n",
      "194436\t66885\tfunding_amount_in_gbp\n",
      "194294\t67027\tfunding_amount_in_usd\n",
      "261320\t1\tfunding_currency\n",
      "261321\t0\tfunding_org_country\n",
      "256804\t4517\tfunding_org_id\n",
      "261321\t0\tfunding_org_name\n",
      "261321\t0\tid\n",
      "261321\t0\tlanguage_abstract\n",
      "261321\t0\tlanguage_title\n",
      "259193\t2128\tlinkout\n",
      "261321\t0\tproject_num\n",
      "255916\t5405\tresearch_org_id\n",
      "260887\t434\tresearcher_name\n",
      "252826\t8495\tstart_date\n",
      "261319\t2\ttitle\n",
      "261319\t2\ttitle_original\n"
     ]
    }
   ],
   "source": [
    "for fieldname in sorted(field_counts.keys()):\n",
    "    print \"%s\\t%s\\t%s\" % (field_counts[fieldname], total_grants - field_counts[fieldname], fieldname)\n"
   ]
  },
  {
   "cell_type": "code",
   "execution_count": 7,
   "metadata": {
    "Collapsed": "false",
    "collapsed": false,
    "jupyter": {
     "outputs_hidden": false
    }
   },
   "outputs": [],
   "source": [
    "previous_grant_ids = []\n",
    "for filename in os.listdir('./data/dimensions/all_projects_integrated/'):\n",
    "    if filename[-6:] == '.jsonl':\n",
    "        with open(\"./data/dimensions/all_projects_integrated/%s\" % filename) as f_in:\n",
    "            for line in f_in:\n",
    "                json_data = json.loads(line)\n",
    "                grant_id = json_data['id']\n",
    "                previous_grant_ids.append(grant_id)"
   ]
  },
  {
   "cell_type": "code",
   "execution_count": 8,
   "metadata": {
    "Collapsed": "false",
    "collapsed": false,
    "jupyter": {
     "outputs_hidden": false
    }
   },
   "outputs": [
    {
     "name": "stdout",
     "output_type": "stream",
     "text": [
      "261462\n"
     ]
    }
   ],
   "source": [
    "print len(previous_grant_ids)"
   ]
  },
  {
   "cell_type": "code",
   "execution_count": 9,
   "metadata": {
    "Collapsed": "false",
    "collapsed": false,
    "jupyter": {
     "outputs_hidden": false
    }
   },
   "outputs": [],
   "source": [
    "missing = set(previous_grant_ids) - set(grant_ids_list)"
   ]
  },
  {
   "cell_type": "code",
   "execution_count": 10,
   "metadata": {
    "Collapsed": "false",
    "collapsed": false,
    "jupyter": {
     "outputs_hidden": false
    }
   },
   "outputs": [],
   "source": [
    "with open(\"./Dimensions API/missing.txt\", \"w\") as f_out:\n",
    "    for i in missing:\n",
    "        f_out.write(i)\n",
    "        f_out.write('\\n')"
   ]
  },
  {
   "cell_type": "code",
   "execution_count": 12,
   "metadata": {
    "Collapsed": "false",
    "collapsed": false,
    "jupyter": {
     "outputs_hidden": false
    }
   },
   "outputs": [
    {
     "name": "stdout",
     "output_type": "stream",
     "text": [
      "189\n"
     ]
    }
   ],
   "source": [
    "print len(missing)"
   ]
  },
  {
   "cell_type": "code",
   "execution_count": null,
   "metadata": {
    "Collapsed": "false",
    "collapsed": true,
    "jupyter": {
     "outputs_hidden": true
    }
   },
   "outputs": [],
   "source": []
  }
 ],
 "metadata": {
  "kernelspec": {
   "display_name": "Python 3",
   "language": "python",
   "name": "python3"
  },
  "language_info": {
   "codemirror_mode": {
    "name": "ipython",
    "version": 3
   },
   "file_extension": ".py",
   "mimetype": "text/x-python",
   "name": "python",
   "nbconvert_exporter": "python",
   "pygments_lexer": "ipython3",
   "version": "3.8.5"
  }
 },
 "nbformat": 4,
 "nbformat_minor": 4
}
