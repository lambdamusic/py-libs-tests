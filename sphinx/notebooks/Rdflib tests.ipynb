{
 "cells": [
  {
   "cell_type": "markdown",
   "metadata": {
    "Collapsed": "false"
   },
   "source": [
    "# RDFLib "
   ]
  },
  {
   "cell_type": "markdown",
   "metadata": {
    "Collapsed": "false"
   },
   "source": [
    "from __future__ import print_function\n",
    "from rdflib.plugins.stores.sparqlstore import SPARQLStore\n",
    "from rdflib import Graph, ConjunctiveGraph"
   ]
  },
  {
   "cell_type": "markdown",
   "metadata": {
    "Collapsed": "false"
   },
   "source": [
    "Create a graph backed by a sparql endpoint and query it\n",
    "\n",
    "**Note** need a construct in order to get back graph data (https://www.w3.org/TR/sparql11-query/#construct)"
   ]
  },
  {
   "cell_type": "code",
   "execution_count": 31,
   "metadata": {
    "Collapsed": "false",
    "collapsed": false,
    "jupyter": {
     "outputs_hidden": false
    }
   },
   "outputs": [],
   "source": [
    "store = SPARQLStore(\"http://localhost:7200/repositories/scigraph-2016\")\n",
    "g = ConjunctiveGraph(store=store)\n",
    "\n",
    "raw = g.query(\"\"\"\n",
    "construct {?x ?y ?z} \n",
    "where \n",
    "{ BIND (<http://www.springernature.com/scigraph/things/articles/ce1754aea7802d9a362f24905585f12a> AS ?x) .\n",
    "    ?x ?y ?z .   \n",
    "}\n",
    "\"\"\")"
   ]
  },
  {
   "cell_type": "markdown",
   "metadata": {
    "Collapsed": "false"
   },
   "source": [
    "Now load the results of previous SPARQL query into a new temporary graph, so that we can work with it"
   ]
  },
  {
   "cell_type": "code",
   "execution_count": 34,
   "metadata": {
    "Collapsed": "false",
    "collapsed": true,
    "jupyter": {
     "outputs_hidden": true
    }
   },
   "outputs": [],
   "source": [
    "g_temp = ConjunctiveGraph()\n",
    "g_temp.parse(data=raw.serialize())"
   ]
  },
  {
   "cell_type": "markdown",
   "metadata": {
    "Collapsed": "false"
   },
   "source": [
    "Serialize into json-ld"
   ]
  },
  {
   "cell_type": "code",
   "execution_count": 36,
   "metadata": {
    "Collapsed": "false",
    "collapsed": false,
    "deletable": true,
    "editable": true,
    "jupyter": {
     "outputs_hidden": false
    }
   },
   "outputs": [
    {
     "name": "stdout",
     "output_type": "stream",
     "text": [
      "[\n",
      "  {\n",
      "    \"@id\": \"http://www.springernature.com/scigraph/things/articles/ce1754aea7802d9a362f24905585f12a\",\n",
      "    \"@type\": [\n",
      "      \"http://www.springernature.com/scigraph/ontologies/core/Article\"\n",
      "    ],\n",
      "    \"http://www.springernature.com/scigraph/ontologies/core/abstract\": [\n",
      "      {\n",
      "        \"@value\": \"Abstract An associated adaptive and sliding-mode observer (AASMO) design is proposed to detect and estimate the incipient actuator faults of a quadrotor. The incipient faults considered are physical structure aging and quadrotor leakage. First, disturbances and nonlinear parameters are considered in system formulation for a realistic mathematical model of the quadrotor. Its fault model is also introduced. Second, the decomposed subsystems are obtained through coordinate transformations to separate the incipient faults from the disturbances. For the subsystem with no disturbance, the adaptive observer can estimate the incipient faults. For the subsystem with disturbances, the sliding-mode observer has strong robustness against the disturbances. Dynamic error convergence and system stability can also be guaranteed by Lyapunov stability theory. Finally, the simulation results of quadrotor helicopter attitude systems validate the efficiency of the proposed AASMO-based incipient fault detection algorithm.\"\n",
      "      }\n",
      "    ],\n",
      "    \"http://www.springernature.com/scigraph/ontologies/core/doi\": [\n",
      "      {\n",
      "        \"@value\": \"10.1007/s00034-015-0229-8\"\n",
      "      }\n",
      "    ],\n",
      "    \"http://www.springernature.com/scigraph/ontologies/core/doiLink\": [\n",
      "      {\n",
      "        \"@id\": \"http://dx.doi.org/10.1007/s00034-015-0229-8\"\n",
      "      }\n",
      "    ],\n",
      "    \"http://www.springernature.com/scigraph/ontologies/core/hasContribution\": [\n",
      "      {\n",
      "        \"@id\": \"http://www.springernature.com/scigraph/things/contributions/b0d9a983f29015a1652a3d1e65d83d6f\"\n",
      "      },\n",
      "      {\n",
      "        \"@id\": \"http://www.springernature.com/scigraph/things/contributions/d435b45d8722c4dc51891ee4d89fc240\"\n",
      "      },\n",
      "      {\n",
      "        \"@id\": \"http://www.springernature.com/scigraph/things/contributions/43a51ee716128a86590bde772531ab51\"\n",
      "      }\n",
      "    ],\n",
      "    \"http://www.springernature.com/scigraph/ontologies/core/hasFieldOfResearchCode\": [\n",
      "      {\n",
      "        \"@id\": \"http://purl.org/au-research/vocabulary/anzsrc-for/2008/0102\"\n",
      "      }\n",
      "    ],\n",
      "    \"http://www.springernature.com/scigraph/ontologies/core/hasJournal\": [\n",
      "      {\n",
      "        \"@id\": \"http://www.springernature.com/scigraph/things/journals/68164b83de2aa805eb126500a1feec6f\"\n",
      "      }\n",
      "    ],\n",
      "    \"http://www.springernature.com/scigraph/ontologies/core/issue\": [\n",
      "      {\n",
      "        \"@value\": \"10\"\n",
      "      }\n",
      "    ],\n",
      "    \"http://www.springernature.com/scigraph/ontologies/core/language\": [\n",
      "      {\n",
      "        \"@value\": \"English\"\n",
      "      }\n",
      "    ],\n",
      "    \"http://www.springernature.com/scigraph/ontologies/core/publicationDate\": [\n",
      "      {\n",
      "        \"@type\": \"http://www.w3.org/2001/XMLSchema#date\",\n",
      "        \"@value\": \"2016-02-08\"\n",
      "      }\n",
      "    ],\n",
      "    \"http://www.springernature.com/scigraph/ontologies/core/publicationYear\": [\n",
      "      {\n",
      "        \"@type\": \"http://www.w3.org/2001/XMLSchema#gYear\",\n",
      "        \"@value\": \"2016-01-01\"\n",
      "      }\n",
      "    ],\n",
      "    \"http://www.springernature.com/scigraph/ontologies/core/publicationYearMonth\": [\n",
      "      {\n",
      "        \"@type\": \"http://www.w3.org/2001/XMLSchema#gYearMonth\",\n",
      "        \"@value\": \"2016-02-01\"\n",
      "      }\n",
      "    ],\n",
      "    \"http://www.springernature.com/scigraph/ontologies/core/scigraphId\": [\n",
      "      {\n",
      "        \"@value\": \"ce1754aea7802d9a362f24905585f12a\"\n",
      "      }\n",
      "    ],\n",
      "    \"http://www.springernature.com/scigraph/ontologies/core/title\": [\n",
      "      {\n",
      "        \"@value\": \"Incipient Fault Detection Using an Associated Adaptive and Sliding-Mode Observer for Quadrotor Helicopter Attitude Control Systems\"\n",
      "      }\n",
      "    ],\n",
      "    \"http://www.springernature.com/scigraph/ontologies/core/volume\": [\n",
      "      {\n",
      "        \"@value\": \"35\"\n",
      "      }\n",
      "    ]\n",
      "  }\n",
      "]\n"
     ]
    }
   ],
   "source": [
    "print(g_temp.serialize(format=\"json-ld\"))"
   ]
  },
  {
   "cell_type": "markdown",
   "metadata": {
    "Collapsed": "false"
   },
   "source": [
    "Adding prefix bindings have no effect on jsonld, but they do on turtle"
   ]
  },
  {
   "cell_type": "code",
   "execution_count": null,
   "metadata": {
    "Collapsed": "false",
    "collapsed": true,
    "jupyter": {
     "outputs_hidden": true
    }
   },
   "outputs": [],
   "source": [
    "g_temp.bind('sg','http://www.springernature.com/scigraph/ontologies/core/')"
   ]
  },
  {
   "cell_type": "code",
   "execution_count": 37,
   "metadata": {
    "Collapsed": "false",
    "collapsed": false,
    "deletable": true,
    "editable": true,
    "jupyter": {
     "outputs_hidden": false
    }
   },
   "outputs": [
    {
     "name": "stdout",
     "output_type": "stream",
     "text": [
      "@prefix : <http://www.springernature.com/scigraph/ontologies/core/> .\n",
      "@prefix rdf: <http://www.w3.org/1999/02/22-rdf-syntax-ns#> .\n",
      "@prefix rdfs: <http://www.w3.org/2000/01/rdf-schema#> .\n",
      "@prefix xml: <http://www.w3.org/XML/1998/namespace> .\n",
      "@prefix xsd: <http://www.w3.org/2001/XMLSchema#> .\n",
      "\n",
      "<http://www.springernature.com/scigraph/things/articles/ce1754aea7802d9a362f24905585f12a> a :Article ;\n",
      "    :abstract \"Abstract An associated adaptive and sliding-mode observer (AASMO) design is proposed to detect and estimate the incipient actuator faults of a quadrotor. The incipient faults considered are physical structure aging and quadrotor leakage. First, disturbances and nonlinear parameters are considered in system formulation for a realistic mathematical model of the quadrotor. Its fault model is also introduced. Second, the decomposed subsystems are obtained through coordinate transformations to separate the incipient faults from the disturbances. For the subsystem with no disturbance, the adaptive observer can estimate the incipient faults. For the subsystem with disturbances, the sliding-mode observer has strong robustness against the disturbances. Dynamic error convergence and system stability can also be guaranteed by Lyapunov stability theory. Finally, the simulation results of quadrotor helicopter attitude systems validate the efficiency of the proposed AASMO-based incipient fault detection algorithm.\"^^xsd:string ;\n",
      "    :doi \"10.1007/s00034-015-0229-8\"^^xsd:string ;\n",
      "    :doiLink <http://dx.doi.org/10.1007/s00034-015-0229-8> ;\n",
      "    :hasContribution <http://www.springernature.com/scigraph/things/contributions/43a51ee716128a86590bde772531ab51>,\n",
      "        <http://www.springernature.com/scigraph/things/contributions/b0d9a983f29015a1652a3d1e65d83d6f>,\n",
      "        <http://www.springernature.com/scigraph/things/contributions/d435b45d8722c4dc51891ee4d89fc240> ;\n",
      "    :hasFieldOfResearchCode <http://purl.org/au-research/vocabulary/anzsrc-for/2008/0102> ;\n",
      "    :hasJournal <http://www.springernature.com/scigraph/things/journals/68164b83de2aa805eb126500a1feec6f> ;\n",
      "    :issue \"10\"^^xsd:string ;\n",
      "    :language \"English\"^^xsd:string ;\n",
      "    :publicationDate \"2016-02-08\"^^xsd:date ;\n",
      "    :publicationYear \"2016-01-01\"^^xsd:gYear ;\n",
      "    :publicationYearMonth \"2016-02-01\"^^xsd:gYearMonth ;\n",
      "    :scigraphId \"ce1754aea7802d9a362f24905585f12a\"^^xsd:string ;\n",
      "    :title \"Incipient Fault Detection Using an Associated Adaptive and Sliding-Mode Observer for Quadrotor Helicopter Attitude Control Systems\"^^xsd:string ;\n",
      "    :volume \"35\"^^xsd:string .\n",
      "\n",
      "\n"
     ]
    }
   ],
   "source": [
    "print(g_temp.serialize(format=\"turtle\"))\n"
   ]
  },
  {
   "cell_type": "code",
   "execution_count": 38,
   "metadata": {
    "Collapsed": "false",
    "collapsed": true,
    "jupyter": {
     "outputs_hidden": true
    }
   },
   "outputs": [],
   "source": [
    "j = g_temp.serialize(format=\"json-ld\")"
   ]
  },
  {
   "cell_type": "code",
   "execution_count": 39,
   "metadata": {
    "Collapsed": "false",
    "collapsed": false,
    "jupyter": {
     "outputs_hidden": false
    }
   },
   "outputs": [
    {
     "data": {
      "text/plain": [
       "str"
      ]
     },
     "execution_count": 39,
     "metadata": {},
     "output_type": "execute_result"
    }
   ],
   "source": [
    "type(j)"
   ]
  },
  {
   "cell_type": "code",
   "execution_count": 40,
   "metadata": {
    "Collapsed": "false",
    "collapsed": true,
    "jupyter": {
     "outputs_hidden": true
    }
   },
   "outputs": [],
   "source": [
    "import json"
   ]
  },
  {
   "cell_type": "code",
   "execution_count": 41,
   "metadata": {
    "Collapsed": "false",
    "collapsed": true,
    "jupyter": {
     "outputs_hidden": true
    }
   },
   "outputs": [],
   "source": [
    "js = json.loads(j)"
   ]
  },
  {
   "cell_type": "code",
   "execution_count": 42,
   "metadata": {
    "Collapsed": "false",
    "collapsed": false,
    "jupyter": {
     "outputs_hidden": false
    }
   },
   "outputs": [
    {
     "data": {
      "text/plain": [
       "list"
      ]
     },
     "execution_count": 42,
     "metadata": {},
     "output_type": "execute_result"
    }
   ],
   "source": [
    "type(js)"
   ]
  },
  {
   "cell_type": "code",
   "execution_count": 43,
   "metadata": {
    "Collapsed": "false",
    "collapsed": false,
    "jupyter": {
     "outputs_hidden": false
    }
   },
   "outputs": [
    {
     "data": {
      "text/plain": [
       "[{u'@id': u'http://www.springernature.com/scigraph/things/articles/ce1754aea7802d9a362f24905585f12a',\n",
       "  u'@type': [u'http://www.springernature.com/scigraph/ontologies/core/Article'],\n",
       "  u'http://www.springernature.com/scigraph/ontologies/core/abstract': [{u'@value': u'Abstract An associated adaptive and sliding-mode observer (AASMO) design is proposed to detect and estimate the incipient actuator faults of a quadrotor. The incipient faults considered are physical structure aging and quadrotor leakage. First, disturbances and nonlinear parameters are considered in system formulation for a realistic mathematical model of the quadrotor. Its fault model is also introduced. Second, the decomposed subsystems are obtained through coordinate transformations to separate the incipient faults from the disturbances. For the subsystem with no disturbance, the adaptive observer can estimate the incipient faults. For the subsystem with disturbances, the sliding-mode observer has strong robustness against the disturbances. Dynamic error convergence and system stability can also be guaranteed by Lyapunov stability theory. Finally, the simulation results of quadrotor helicopter attitude systems validate the efficiency of the proposed AASMO-based incipient fault detection algorithm.'}],\n",
       "  u'http://www.springernature.com/scigraph/ontologies/core/doi': [{u'@value': u'10.1007/s00034-015-0229-8'}],\n",
       "  u'http://www.springernature.com/scigraph/ontologies/core/doiLink': [{u'@id': u'http://dx.doi.org/10.1007/s00034-015-0229-8'}],\n",
       "  u'http://www.springernature.com/scigraph/ontologies/core/hasContribution': [{u'@id': u'http://www.springernature.com/scigraph/things/contributions/b0d9a983f29015a1652a3d1e65d83d6f'},\n",
       "   {u'@id': u'http://www.springernature.com/scigraph/things/contributions/43a51ee716128a86590bde772531ab51'},\n",
       "   {u'@id': u'http://www.springernature.com/scigraph/things/contributions/d435b45d8722c4dc51891ee4d89fc240'}],\n",
       "  u'http://www.springernature.com/scigraph/ontologies/core/hasFieldOfResearchCode': [{u'@id': u'http://purl.org/au-research/vocabulary/anzsrc-for/2008/0102'}],\n",
       "  u'http://www.springernature.com/scigraph/ontologies/core/hasJournal': [{u'@id': u'http://www.springernature.com/scigraph/things/journals/68164b83de2aa805eb126500a1feec6f'}],\n",
       "  u'http://www.springernature.com/scigraph/ontologies/core/issue': [{u'@value': u'10'}],\n",
       "  u'http://www.springernature.com/scigraph/ontologies/core/language': [{u'@value': u'English'}],\n",
       "  u'http://www.springernature.com/scigraph/ontologies/core/publicationDate': [{u'@type': u'http://www.w3.org/2001/XMLSchema#date',\n",
       "    u'@value': u'2016-02-08'}],\n",
       "  u'http://www.springernature.com/scigraph/ontologies/core/publicationYear': [{u'@type': u'http://www.w3.org/2001/XMLSchema#gYear',\n",
       "    u'@value': u'2016-01-01'}],\n",
       "  u'http://www.springernature.com/scigraph/ontologies/core/publicationYearMonth': [{u'@type': u'http://www.w3.org/2001/XMLSchema#gYearMonth',\n",
       "    u'@value': u'2016-02-01'}],\n",
       "  u'http://www.springernature.com/scigraph/ontologies/core/scigraphId': [{u'@value': u'ce1754aea7802d9a362f24905585f12a'}],\n",
       "  u'http://www.springernature.com/scigraph/ontologies/core/title': [{u'@value': u'Incipient Fault Detection Using an Associated Adaptive and Sliding-Mode Observer for Quadrotor Helicopter Attitude Control Systems'}],\n",
       "  u'http://www.springernature.com/scigraph/ontologies/core/volume': [{u'@value': u'35'}]}]"
      ]
     },
     "execution_count": 43,
     "metadata": {},
     "output_type": "execute_result"
    }
   ],
   "source": [
    "js"
   ]
  },
  {
   "cell_type": "code",
   "execution_count": 46,
   "metadata": {
    "Collapsed": "false",
    "collapsed": false,
    "jupyter": {
     "outputs_hidden": false
    }
   },
   "outputs": [
    {
     "data": {
      "text/plain": [
       "{u'@id': u'http://www.springernature.com/scigraph/things/articles/ce1754aea7802d9a362f24905585f12a',\n",
       " u'@type': [u'http://www.springernature.com/scigraph/ontologies/core/Article'],\n",
       " u'http://www.springernature.com/scigraph/ontologies/core/abstract': [{u'@value': u'Abstract An associated adaptive and sliding-mode observer (AASMO) design is proposed to detect and estimate the incipient actuator faults of a quadrotor. The incipient faults considered are physical structure aging and quadrotor leakage. First, disturbances and nonlinear parameters are considered in system formulation for a realistic mathematical model of the quadrotor. Its fault model is also introduced. Second, the decomposed subsystems are obtained through coordinate transformations to separate the incipient faults from the disturbances. For the subsystem with no disturbance, the adaptive observer can estimate the incipient faults. For the subsystem with disturbances, the sliding-mode observer has strong robustness against the disturbances. Dynamic error convergence and system stability can also be guaranteed by Lyapunov stability theory. Finally, the simulation results of quadrotor helicopter attitude systems validate the efficiency of the proposed AASMO-based incipient fault detection algorithm.'}],\n",
       " u'http://www.springernature.com/scigraph/ontologies/core/doi': [{u'@value': u'10.1007/s00034-015-0229-8'}],\n",
       " u'http://www.springernature.com/scigraph/ontologies/core/doiLink': [{u'@id': u'http://dx.doi.org/10.1007/s00034-015-0229-8'}],\n",
       " u'http://www.springernature.com/scigraph/ontologies/core/hasContribution': [{u'@id': u'http://www.springernature.com/scigraph/things/contributions/b0d9a983f29015a1652a3d1e65d83d6f'},\n",
       "  {u'@id': u'http://www.springernature.com/scigraph/things/contributions/43a51ee716128a86590bde772531ab51'},\n",
       "  {u'@id': u'http://www.springernature.com/scigraph/things/contributions/d435b45d8722c4dc51891ee4d89fc240'}],\n",
       " u'http://www.springernature.com/scigraph/ontologies/core/hasFieldOfResearchCode': [{u'@id': u'http://purl.org/au-research/vocabulary/anzsrc-for/2008/0102'}],\n",
       " u'http://www.springernature.com/scigraph/ontologies/core/hasJournal': [{u'@id': u'http://www.springernature.com/scigraph/things/journals/68164b83de2aa805eb126500a1feec6f'}],\n",
       " u'http://www.springernature.com/scigraph/ontologies/core/issue': [{u'@value': u'10'}],\n",
       " u'http://www.springernature.com/scigraph/ontologies/core/language': [{u'@value': u'English'}],\n",
       " u'http://www.springernature.com/scigraph/ontologies/core/publicationDate': [{u'@type': u'http://www.w3.org/2001/XMLSchema#date',\n",
       "   u'@value': u'2016-02-08'}],\n",
       " u'http://www.springernature.com/scigraph/ontologies/core/publicationYear': [{u'@type': u'http://www.w3.org/2001/XMLSchema#gYear',\n",
       "   u'@value': u'2016-01-01'}],\n",
       " u'http://www.springernature.com/scigraph/ontologies/core/publicationYearMonth': [{u'@type': u'http://www.w3.org/2001/XMLSchema#gYearMonth',\n",
       "   u'@value': u'2016-02-01'}],\n",
       " u'http://www.springernature.com/scigraph/ontologies/core/scigraphId': [{u'@value': u'ce1754aea7802d9a362f24905585f12a'}],\n",
       " u'http://www.springernature.com/scigraph/ontologies/core/title': [{u'@value': u'Incipient Fault Detection Using an Associated Adaptive and Sliding-Mode Observer for Quadrotor Helicopter Attitude Control Systems'}],\n",
       " u'http://www.springernature.com/scigraph/ontologies/core/volume': [{u'@value': u'35'}]}"
      ]
     },
     "execution_count": 46,
     "metadata": {},
     "output_type": "execute_result"
    }
   ],
   "source": [
    "js[0]"
   ]
  },
  {
   "cell_type": "code",
   "execution_count": null,
   "metadata": {
    "Collapsed": "false",
    "collapsed": true,
    "jupyter": {
     "outputs_hidden": true
    }
   },
   "outputs": [],
   "source": []
  }
 ],
 "metadata": {
  "kernelspec": {
   "display_name": "Python 3",
   "language": "python",
   "name": "python3"
  },
  "language_info": {
   "codemirror_mode": {
    "name": "ipython",
    "version": 3
   },
   "file_extension": ".py",
   "mimetype": "text/x-python",
   "name": "python",
   "nbconvert_exporter": "python",
   "pygments_lexer": "ipython3",
   "version": "3.8.5"
  }
 },
 "nbformat": 4,
 "nbformat_minor": 4
}
