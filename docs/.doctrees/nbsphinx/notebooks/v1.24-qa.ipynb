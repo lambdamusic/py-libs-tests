{
 "cells": [
  {
   "cell_type": "markdown",
   "metadata": {
    "Collapsed": "false",
    "colab_type": "text",
    "id": "AuCkj0Qwywjy"
   },
   "source": [
    "# QA of DSL Release v1.24\n",
    "The purpose of this notebook is to review and test the new features in 1.23\n",
    "\n",
    "Docs: https://docs.dimensions.ai/dsl/1.24.0-preview/\n"
   ]
  },
  {
   "cell_type": "markdown",
   "metadata": {
    "Collapsed": "false",
    "colab_type": "text",
    "id": "dj3FxL-cbjrM"
   },
   "source": [
    "## Prerequisites\n",
    "\n",
    "Please install the latest versions of these libraries to run this notebook. "
   ]
  },
  {
   "cell_type": "code",
   "execution_count": 51,
   "metadata": {
    "Collapsed": "false",
    "cellView": "form",
    "colab": {
     "base_uri": "https://localhost:8080/",
     "height": 153
    },
    "colab_type": "code",
    "executionInfo": {
     "elapsed": 10861,
     "status": "ok",
     "timestamp": 1570722986241,
     "user": {
      "displayName": "Michele Pasin",
      "photoUrl": "https://lh3.googleusercontent.com/a-/AAuE7mBu8LVjIGgontF2Wax51BoL5KFx8esezX3bUmaa0g=s64",
      "userId": "10309320684375994511"
     },
     "user_tz": -60
    },
    "id": "BLUcxPxVb1vl",
    "outputId": "182031e3-7618-4a76-f7ee-d89fe4a4a6c7"
   },
   "outputs": [
    {
     "name": "stdout",
     "output_type": "stream",
     "text": [
      "DimCli v0.6.7 - Succesfully connected to <https://integration.dimensions.ai> (method: dsl.ini file)\n"
     ]
    }
   ],
   "source": [
    "#\n",
    "# load common libraries\n",
    "import pandas as pd\n",
    "from pandas.io.json import json_normalize\n",
    "\n",
    "import time\n",
    "import json\n",
    "from tqdm.notebook import tqdm as progress\n",
    "\n",
    "import plotly.express as px\n",
    "from plotly.offline import plot \n",
    "\n",
    "import dimcli\n",
    "from dimcli.shortcuts import *\n",
    "\n",
    "dimcli.login(instance=\"integration\")\n",
    "dsl = dimcli.Dsl() \n"
   ]
  },
  {
   "cell_type": "markdown",
   "metadata": {
    "Collapsed": "false",
    "colab_type": "text",
    "id": "JcnVEdOAywj3"
   },
   "source": [
    "---"
   ]
  },
  {
   "cell_type": "markdown",
   "metadata": {
    "Collapsed": "false",
    "colab_type": "text",
    "id": "YBSdHL4Tywj4"
   },
   "source": [
    "## [DSL-363] 0 Returned as False\n",
    "\n",
    "https://uberresearch.atlassian.net/browse/DSL-363"
   ]
  },
  {
   "cell_type": "code",
   "execution_count": 52,
   "metadata": {
    "Collapsed": "false"
   },
   "outputs": [
    {
     "name": "stdout",
     "output_type": "stream",
     "text": [
      "Returned Publications: 20 (total = 13319376)\n"
     ]
    },
    {
     "data": {
      "text/html": [
       "<div>\n",
       "<style scoped>\n",
       "    .dataframe tbody tr th:only-of-type {\n",
       "        vertical-align: middle;\n",
       "    }\n",
       "\n",
       "    .dataframe tbody tr th {\n",
       "        vertical-align: top;\n",
       "    }\n",
       "\n",
       "    .dataframe thead th {\n",
       "        text-align: right;\n",
       "    }\n",
       "</style>\n",
       "<table border=\"1\" class=\"dataframe\">\n",
       "  <thead>\n",
       "    <tr style=\"text-align: right;\">\n",
       "      <th></th>\n",
       "      <th>field_citation_ratio</th>\n",
       "    </tr>\n",
       "  </thead>\n",
       "  <tbody>\n",
       "    <tr>\n",
       "      <th>0</th>\n",
       "      <td>0.0</td>\n",
       "    </tr>\n",
       "    <tr>\n",
       "      <th>1</th>\n",
       "      <td>0.0</td>\n",
       "    </tr>\n",
       "    <tr>\n",
       "      <th>2</th>\n",
       "      <td>0.0</td>\n",
       "    </tr>\n",
       "    <tr>\n",
       "      <th>3</th>\n",
       "      <td>0.0</td>\n",
       "    </tr>\n",
       "    <tr>\n",
       "      <th>4</th>\n",
       "      <td>0.0</td>\n",
       "    </tr>\n",
       "    <tr>\n",
       "      <th>5</th>\n",
       "      <td>0.0</td>\n",
       "    </tr>\n",
       "    <tr>\n",
       "      <th>6</th>\n",
       "      <td>0.0</td>\n",
       "    </tr>\n",
       "    <tr>\n",
       "      <th>7</th>\n",
       "      <td>0.0</td>\n",
       "    </tr>\n",
       "    <tr>\n",
       "      <th>8</th>\n",
       "      <td>0.0</td>\n",
       "    </tr>\n",
       "    <tr>\n",
       "      <th>9</th>\n",
       "      <td>0.0</td>\n",
       "    </tr>\n",
       "    <tr>\n",
       "      <th>10</th>\n",
       "      <td>0.0</td>\n",
       "    </tr>\n",
       "    <tr>\n",
       "      <th>11</th>\n",
       "      <td>0.0</td>\n",
       "    </tr>\n",
       "    <tr>\n",
       "      <th>12</th>\n",
       "      <td>0.0</td>\n",
       "    </tr>\n",
       "    <tr>\n",
       "      <th>13</th>\n",
       "      <td>0.0</td>\n",
       "    </tr>\n",
       "    <tr>\n",
       "      <th>14</th>\n",
       "      <td>0.0</td>\n",
       "    </tr>\n",
       "    <tr>\n",
       "      <th>15</th>\n",
       "      <td>0.0</td>\n",
       "    </tr>\n",
       "    <tr>\n",
       "      <th>16</th>\n",
       "      <td>0.0</td>\n",
       "    </tr>\n",
       "    <tr>\n",
       "      <th>17</th>\n",
       "      <td>0.0</td>\n",
       "    </tr>\n",
       "    <tr>\n",
       "      <th>18</th>\n",
       "      <td>0.0</td>\n",
       "    </tr>\n",
       "    <tr>\n",
       "      <th>19</th>\n",
       "      <td>0.0</td>\n",
       "    </tr>\n",
       "  </tbody>\n",
       "</table>\n",
       "</div>"
      ],
      "text/plain": [
       "    field_citation_ratio\n",
       "0                    0.0\n",
       "1                    0.0\n",
       "2                    0.0\n",
       "3                    0.0\n",
       "4                    0.0\n",
       "5                    0.0\n",
       "6                    0.0\n",
       "7                    0.0\n",
       "8                    0.0\n",
       "9                    0.0\n",
       "10                   0.0\n",
       "11                   0.0\n",
       "12                   0.0\n",
       "13                   0.0\n",
       "14                   0.0\n",
       "15                   0.0\n",
       "16                   0.0\n",
       "17                   0.0\n",
       "18                   0.0\n",
       "19                   0.0"
      ]
     },
     "execution_count": 52,
     "metadata": {},
     "output_type": "execute_result"
    }
   ],
   "source": [
    "%dsldf search publications where field_citation_ratio = 0 return publications[field_citation_ratio]"
   ]
  },
  {
   "cell_type": "markdown",
   "metadata": {
    "Collapsed": "false",
    "colab_type": "text",
    "id": "YBSdHL4Tywj4"
   },
   "source": [
    "## [DSL-401] Include version in response\n",
    "\n",
    "https://uberresearch.atlassian.net/browse/DSL-401"
   ]
  },
  {
   "cell_type": "code",
   "execution_count": 53,
   "metadata": {
    "Collapsed": "false"
   },
   "outputs": [
    {
     "name": "stdout",
     "output_type": "stream",
     "text": [
      "Returned Publications: 20 (total = 13319376)\n"
     ]
    },
    {
     "data": {
      "application/json": {
       "_stats": {
        "total_count": 13319376
       },
       "_version": {
        "release": "1.24",
        "version": "1.24.0"
       },
       "publications": [
        {
         "field_citation_ratio": 0
        },
        {
         "field_citation_ratio": 0
        },
        {
         "field_citation_ratio": 0
        },
        {
         "field_citation_ratio": 0
        },
        {
         "field_citation_ratio": 0
        },
        {
         "field_citation_ratio": 0
        },
        {
         "field_citation_ratio": 0
        },
        {
         "field_citation_ratio": 0
        },
        {
         "field_citation_ratio": 0
        },
        {
         "field_citation_ratio": 0
        },
        {
         "field_citation_ratio": 0
        },
        {
         "field_citation_ratio": 0
        },
        {
         "field_citation_ratio": 0
        },
        {
         "field_citation_ratio": 0
        },
        {
         "field_citation_ratio": 0
        },
        {
         "field_citation_ratio": 0
        },
        {
         "field_citation_ratio": 0
        },
        {
         "field_citation_ratio": 0
        },
        {
         "field_citation_ratio": 0
        },
        {
         "field_citation_ratio": 0
        }
       ]
      },
      "text/plain": [
       "<dimcli.Dataset object #4715604496. Records: 20/13319376>"
      ]
     },
     "execution_count": 53,
     "metadata": {
      "application/json": {
       "expanded": false,
       "root": "root"
      }
     },
     "output_type": "execute_result"
    }
   ],
   "source": [
    "%dsl search publications where field_citation_ratio = 0 return publications[field_citation_ratio]"
   ]
  },
  {
   "cell_type": "code",
   "execution_count": 54,
   "metadata": {
    "Collapsed": "false"
   },
   "outputs": [
    {
     "data": {
      "text/plain": [
       "{'release': '1.24', 'version': '1.24.0'}"
      ]
     },
     "execution_count": 54,
     "metadata": {},
     "output_type": "execute_result"
    }
   ],
   "source": [
    "dsl_last_results._version"
   ]
  },
  {
   "cell_type": "markdown",
   "metadata": {
    "Collapsed": "false",
    "colab_type": "text",
    "id": "YBSdHL4Tywj4"
   },
   "source": [
    "## [DSL-396] Describe command GRID\n",
    "\n",
    "https://uberresearch.atlassian.net/browse/DSL-396"
   ]
  },
  {
   "cell_type": "code",
   "execution_count": 55,
   "metadata": {
    "Collapsed": "false"
   },
   "outputs": [
    {
     "data": {
      "application/json": {
       "release": "2019_05_06"
      },
      "text/plain": [
       "<dimcli.Dataset object #4715547792. Dict keys: 'release'>"
      ]
     },
     "execution_count": 55,
     "metadata": {
      "application/json": {
       "expanded": false,
       "root": "root"
      }
     },
     "output_type": "execute_result"
    }
   ],
   "source": [
    "%dsl describe service grid"
   ]
  },
  {
   "cell_type": "markdown",
   "metadata": {
    "Collapsed": "false",
    "colab_type": "text",
    "id": "YBSdHL4Tywj4"
   },
   "source": [
    "## [DSL-400] Searching by data in datasets fails \n",
    "\n",
    "https://uberresearch.atlassian.net/browse/DSL-400"
   ]
  },
  {
   "cell_type": "code",
   "execution_count": 56,
   "metadata": {
    "Collapsed": "false"
   },
   "outputs": [
    {
     "name": "stdout",
     "output_type": "stream",
     "text": [
      "Returned Datasets: 20 (total = 58)\n"
     ]
    },
    {
     "data": {
      "application/json": {
       "_stats": {
        "total_count": 58
       },
       "_version": {
        "release": "1.24",
        "version": "1.24.0"
       },
       "datasets": [
        {
         "authors": [
          {
           "name": "Ethan P. White",
           "orcid": ""
          },
          {
           "name": "Glenda M. Yenni",
           "orcid": ""
          },
          {
           "name": "Shawn D. Taylor",
           "orcid": ""
          },
          {
           "name": "Erica M. Christensen",
           "orcid": ""
          },
          {
           "name": "Ellen K. Bledsoe",
           "orcid": ""
          },
          {
           "name": "Juniper L. Simonis",
           "orcid": ""
          },
          {
           "name": "S. K. Morgan Ernest",
           "orcid": ""
          }
         ],
         "id": "11661462",
         "keywords": [
          "ecology",
          "forecasting",
          "pipeline",
          "continuous analysis"
         ],
         "title": "weecology/portalPredictions 2020-01-02",
         "year": 2020
        },
        {
         "authors": [
          {
           "name": "Ethan P. White",
           "orcid": ""
          },
          {
           "name": "Ellen K. Bledsoe",
           "orcid": ""
          },
          {
           "name": "Erica M. Christensen",
           "orcid": ""
          },
          {
           "name": "David J. Harris",
           "orcid": ""
          },
          {
           "name": "Shawn D. Taylor",
           "orcid": ""
          },
          {
           "name": "Glenda M. Yenni",
           "orcid": ""
          },
          {
           "name": "Juniper L. Simonis",
           "orcid": ""
          },
          {
           "name": "S. K. Morgan Ernest",
           "orcid": ""
          }
         ],
         "id": "11661465",
         "keywords": [
          "ecology",
          "forecasting",
          "pipeline",
          "continuous analysis"
         ],
         "title": "weecology/forecasts 2020-01-02",
         "year": 2020
        },
        {
         "authors": [
          {
           "name": "Han Ming Gan",
           "orcid": ""
          },
          {
           "name": "Alexandra Pavlova",
           "orcid": ""
          },
          {
           "name": "Paul Sunnucks",
           "orcid": ""
          }
         ],
         "id": "11661438",
         "keywords": [
          "Macquarie perch",
          "BRAKER2",
          "Annotation",
          "gff3"
         ],
         "title": "Genome annotation of Macquarie perch",
         "year": 2020
        },
        {
         "authors": [
          {
           "name": "Mohammad Anani",
           "orcid": ""
          },
          {
           "name": "Nazmul Kazi",
           "orcid": ""
          },
          {
           "name": "Matt Kuntz",
           "orcid": ""
          },
          {
           "name": "Indika Kahanda",
           "orcid": ""
          }
         ],
         "id": "11661441",
         "keywords": [
          "RDoC Task"
         ],
         "title": "Data associated with RDoC Task 2019",
         "year": 2020
        },
        {
         "authors": [
          {
           "name": "IJGIS",
           "orcid": ""
          }
         ],
         "id": "11672742",
         "keywords": [
          "http",
          "codes availability statement",
          "data",
          "finding",
          "DCAE Data",
          "identifier"
         ],
         "title": "DCAE",
         "year": 2020
        },
        {
         "authors": [
          {
           "name": "Voyles, Andrew",
           "orcid": ""
          }
         ],
         "id": "11828619",
         "keywords": [
          "medical isotope production",
          "nuclear medicine",
          "nuclear reactions",
          "proton",
          "iron",
          "gamma ray spectra"
         ],
         "title": "Proton-induced reactions on Fe, Cu, & Ti from threshold to 55 MeV",
         "year": 2020
        },
        {
         "authors": [
          {
           "name": "Ruest, Nick",
           "orcid": ""
          }
         ],
         "id": "11532987",
         "keywords": [
          "web archives",
          "parquet",
          "dataframes"
         ],
         "title": "Ministry of Environment of Québec (2011-2014) web archive collection derivatives",
         "year": 2020
        },
        {
         "authors": [
          {
           "name": "Ruest, Nick",
           "orcid": ""
          }
         ],
         "id": "11543889",
         "keywords": [
          "web archives",
          "parquet",
          "dataframes"
         ],
         "title": "Ministry of Environment of Québec (2011-2014) web archive collection derivatives",
         "year": 2020
        },
        {
         "authors": [
          {
           "name": "Romain Guiet",
           "orcid": ""
          }
         ],
         "id": "11575116",
         "keywords": [
          "Distance, larvae, helminth, cells"
         ],
         "title": "Fiji Macro for measuring distance of cells to a an helminth parasite",
         "year": 2020
        },
        {
         "authors": [
          {
           "name": "Edisson Subdiaga",
           "orcid": ""
          },
          {
           "name": "Mourad Harir",
           "orcid": ""
          },
          {
           "name": "Silvia Orsetti",
           "orcid": ""
          },
          {
           "name": "Norbert Hertkorn",
           "orcid": ""
          },
          {
           "name": "Philippe Schmitt-Kopplin",
           "orcid": ""
          },
          {
           "name": "Stefan B. Haderlein",
           "orcid": ""
          }
         ],
         "id": "11688639",
         "journal": {
          "id": "jour.1012116",
          "title": "Environmental Science and Technology"
         },
         "keywords": [
          "Suwannee river humic acid",
          "redox properties",
          "electron exchange capacity",
          "ion cyclotron resonance mass spectrometry",
          "Electron Exchange Capacities",
          "oxygen-rich compounds",
          "HS",
          "electron exchange capacities",
          "Al 2 O 3",
          "sorption",
          "Aluminum Oxide Affects",
          "DAX -8 resin",
          "Sorption",
          "redox-inert aluminum oxide",
          "FT-ICRMS",
          "HA fractions"
         ],
         "title": "Preferential\nSorption of Tannins at Aluminum Oxide\nAffects the Electron Exchange Capacities of Dissolved and Sorbed Humic\nAcid Fractions",
         "year": 2020
        },
        {
         "authors": [
          {
           "name": "Meng Cheng",
           "orcid": ""
          },
          {
           "name": "Xufen Yu",
           "orcid": ""
          },
          {
           "name": "Kaylene Lu",
           "orcid": ""
          },
          {
           "name": "Ling Xie",
           "orcid": ""
          },
          {
           "name": "Li Wang",
           "orcid": ""
          },
          {
           "name": "Fanye Meng",
           "orcid": ""
          },
          {
           "name": "Xiaoran Han",
           "orcid": ""
          },
          {
           "name": "Xian Chen",
           "orcid": ""
          },
          {
           "name": "Jing Liu",
           "orcid": ""
          },
          {
           "name": "Yue Xiong",
           "orcid": ""
          },
          {
           "name": "Jian Jin",
           "orcid": ""
          }
         ],
         "id": "11608071",
         "journal": {
          "id": "jour.1062267",
          "title": "Journal of Medicinal Chemistry"
         },
         "keywords": [
          "compound 6",
          "tyrosine kinase inhibitors",
          "MS 39",
          "Drug Administration",
          "first-in-class E 3 ligase cereblon-recruiting EGFR degrader",
          "epidermal growth factor receptor",
          "wild-type EGFR",
          "non-small-cell lung cancers",
          "well-characterized chemical tools",
          "Bifunctional Small-Molecule Degraders",
          "compounds potently",
          "Selective Epidermal Growth Factor Receptor",
          "lung cancer cells",
          "drug resistance",
          "mouse pharmacokinetic studies",
          "research community",
          "vivo efficacy studies",
          "cancer cell lines",
          "proteomic analyses",
          "MS 154",
          "EGFR degrader",
          "E 3 ligase-dependent manner",
          "chimera technology"
         ],
         "title": "Discovery of Potent\nand Selective Epidermal Growth\nFactor Receptor (EGFR) Bifunctional Small-Molecule Degraders",
         "year": 2020
        },
        {
         "authors": [
          {
           "name": "Robyn J. Wright",
           "orcid": ""
          },
          {
           "name": "Rafael Bosch",
           "orcid": ""
          },
          {
           "name": "Matthew I. Gibson",
           "orcid": ""
          },
          {
           "name": "Joseph A. Christie-Oleza",
           "orcid": ""
          }
         ],
         "id": "11608005",
         "journal": {
          "id": "jour.1012116",
          "title": "Environmental Science and Technology"
         },
         "keywords": [
          "marine environment",
          "DEHP",
          "PAE plasticizers",
          "DBP",
          "PAE degradation",
          "Metabolomic Characterization",
          "endocrine-disrupting chemicals",
          "Plasticizer Degradation",
          "metabolomic approach",
          "ATBC biodegradation",
          "dibutyl phthalate",
          "plasticizer degradation",
          "Traditional phthalic acid ester plasticizers",
          "ester side-chain removal",
          "plastic toxicity",
          "marine plastic debris",
          "β- oxidation pathway",
          "multi-OMIC study",
          "acetyl tributyl citrate",
          "biodegrade plastic additives"
         ],
         "title": "Plasticizer\nDegradation by Marine Bacterial Isolates: A Proteogenomic and Metabolomic\nCharacterization",
         "year": 2020
        },
        {
         "authors": [
          {
           "name": "Robyn J. Wright",
           "orcid": ""
          },
          {
           "name": "Rafael Bosch",
           "orcid": ""
          },
          {
           "name": "Matthew I. Gibson",
           "orcid": ""
          },
          {
           "name": "Joseph A. Christie-Oleza",
           "orcid": ""
          }
         ],
         "id": "11607999",
         "journal": {
          "id": "jour.1012116",
          "title": "Environmental Science and Technology"
         },
         "keywords": [
          "marine environment",
          "DEHP",
          "PAE plasticizers",
          "DBP",
          "PAE degradation",
          "Metabolomic Characterization",
          "endocrine-disrupting chemicals",
          "Plasticizer Degradation",
          "metabolomic approach",
          "ATBC biodegradation",
          "dibutyl phthalate",
          "plasticizer degradation",
          "Traditional phthalic acid ester plasticizers",
          "ester side-chain removal",
          "plastic toxicity",
          "marine plastic debris",
          "β- oxidation pathway",
          "multi-OMIC study",
          "acetyl tributyl citrate",
          "biodegrade plastic additives"
         ],
         "title": "Plasticizer\nDegradation by Marine Bacterial Isolates: A Proteogenomic and Metabolomic\nCharacterization",
         "year": 2020
        },
        {
         "authors": [
          {
           "name": "Robyn J. Wright",
           "orcid": ""
          },
          {
           "name": "Rafael Bosch",
           "orcid": ""
          },
          {
           "name": "Matthew I. Gibson",
           "orcid": ""
          },
          {
           "name": "Joseph A. Christie-Oleza",
           "orcid": ""
          }
         ],
         "id": "11608002",
         "journal": {
          "id": "jour.1012116",
          "title": "Environmental Science and Technology"
         },
         "keywords": [
          "marine environment",
          "DEHP",
          "PAE plasticizers",
          "DBP",
          "PAE degradation",
          "Metabolomic Characterization",
          "endocrine-disrupting chemicals",
          "Plasticizer Degradation",
          "metabolomic approach",
          "ATBC biodegradation",
          "dibutyl phthalate",
          "plasticizer degradation",
          "Traditional phthalic acid ester plasticizers",
          "ester side-chain removal",
          "plastic toxicity",
          "marine plastic debris",
          "β- oxidation pathway",
          "multi-OMIC study",
          "acetyl tributyl citrate",
          "biodegrade plastic additives"
         ],
         "title": "Plasticizer\nDegradation by Marine Bacterial Isolates: A Proteogenomic and Metabolomic\nCharacterization",
         "year": 2020
        },
        {
         "authors": [
          {
           "name": "Robyn J. Wright",
           "orcid": ""
          },
          {
           "name": "Rafael Bosch",
           "orcid": ""
          },
          {
           "name": "Matthew I. Gibson",
           "orcid": ""
          },
          {
           "name": "Joseph A. Christie-Oleza",
           "orcid": ""
          }
         ],
         "id": "11607996",
         "journal": {
          "id": "jour.1012116",
          "title": "Environmental Science and Technology"
         },
         "keywords": [
          "marine environment",
          "DEHP",
          "PAE plasticizers",
          "DBP",
          "PAE degradation",
          "Metabolomic Characterization",
          "endocrine-disrupting chemicals",
          "Plasticizer Degradation",
          "metabolomic approach",
          "ATBC biodegradation",
          "dibutyl phthalate",
          "plasticizer degradation",
          "Traditional phthalic acid ester plasticizers",
          "ester side-chain removal",
          "plastic toxicity",
          "marine plastic debris",
          "β- oxidation pathway",
          "multi-OMIC study",
          "acetyl tributyl citrate",
          "biodegrade plastic additives"
         ],
         "title": "Plasticizer\nDegradation by Marine Bacterial Isolates: A Proteogenomic and Metabolomic\nCharacterization",
         "year": 2020
        },
        {
         "authors": [
          {
           "name": "Robyn J. Wright",
           "orcid": ""
          },
          {
           "name": "Rafael Bosch",
           "orcid": ""
          },
          {
           "name": "Matthew I. Gibson",
           "orcid": ""
          },
          {
           "name": "Joseph A. Christie-Oleza",
           "orcid": ""
          }
         ],
         "id": "11607993",
         "journal": {
          "id": "jour.1012116",
          "title": "Environmental Science and Technology"
         },
         "keywords": [
          "marine environment",
          "DEHP",
          "PAE plasticizers",
          "DBP",
          "PAE degradation",
          "Metabolomic Characterization",
          "endocrine-disrupting chemicals",
          "Plasticizer Degradation",
          "metabolomic approach",
          "ATBC biodegradation",
          "dibutyl phthalate",
          "plasticizer degradation",
          "Traditional phthalic acid ester plasticizers",
          "ester side-chain removal",
          "plastic toxicity",
          "marine plastic debris",
          "β- oxidation pathway",
          "multi-OMIC study",
          "acetyl tributyl citrate",
          "biodegrade plastic additives"
         ],
         "title": "Plasticizer\nDegradation by Marine Bacterial Isolates: A Proteogenomic and Metabolomic\nCharacterization",
         "year": 2020
        },
        {
         "authors": [
          {
           "name": "Robyn J. Wright",
           "orcid": ""
          },
          {
           "name": "Rafael Bosch",
           "orcid": ""
          },
          {
           "name": "Matthew I. Gibson",
           "orcid": ""
          },
          {
           "name": "Joseph A. Christie-Oleza",
           "orcid": ""
          }
         ],
         "id": "11607990",
         "journal": {
          "id": "jour.1012116",
          "title": "Environmental Science and Technology"
         },
         "keywords": [
          "marine environment",
          "DEHP",
          "PAE plasticizers",
          "DBP",
          "PAE degradation",
          "Metabolomic Characterization",
          "endocrine-disrupting chemicals",
          "Plasticizer Degradation",
          "metabolomic approach",
          "ATBC biodegradation",
          "dibutyl phthalate",
          "plasticizer degradation",
          "Traditional phthalic acid ester plasticizers",
          "ester side-chain removal",
          "plastic toxicity",
          "marine plastic debris",
          "β- oxidation pathway",
          "multi-OMIC study",
          "acetyl tributyl citrate",
          "biodegrade plastic additives"
         ],
         "title": "Plasticizer\nDegradation by Marine Bacterial Isolates: A Proteogenomic and Metabolomic\nCharacterization",
         "year": 2020
        },
        {
         "authors": [
          {
           "name": "Robyn J. Wright",
           "orcid": ""
          },
          {
           "name": "Rafael Bosch",
           "orcid": ""
          },
          {
           "name": "Matthew I. Gibson",
           "orcid": ""
          },
          {
           "name": "Joseph A. Christie-Oleza",
           "orcid": ""
          }
         ],
         "id": "11607987",
         "journal": {
          "id": "jour.1012116",
          "title": "Environmental Science and Technology"
         },
         "keywords": [
          "marine environment",
          "DEHP",
          "PAE plasticizers",
          "DBP",
          "PAE degradation",
          "Metabolomic Characterization",
          "endocrine-disrupting chemicals",
          "Plasticizer Degradation",
          "metabolomic approach",
          "ATBC biodegradation",
          "dibutyl phthalate",
          "plasticizer degradation",
          "Traditional phthalic acid ester plasticizers",
          "ester side-chain removal",
          "plastic toxicity",
          "marine plastic debris",
          "β- oxidation pathway",
          "multi-OMIC study",
          "acetyl tributyl citrate",
          "biodegrade plastic additives"
         ],
         "title": "Plasticizer\nDegradation by Marine Bacterial Isolates: A Proteogenomic and Metabolomic\nCharacterization",
         "year": 2020
        },
        {
         "authors": [
          {
           "name": "Ying Ren",
           "orcid": ""
          },
          {
           "name": "Zhenyang Lin",
           "orcid": ""
          }
         ],
         "id": "11607432",
         "journal": {
          "id": "jour.1045236",
          "title": "ACS Catalysis"
         },
         "keywords": [
          "Rh-catalyzed cycloisomerization",
          "migration",
          "Theoretical Studies",
          "DFT results",
          "tricycle",
          "Rh-Catalyzed Cycloisomerization",
          "cycloisomerization product selectivity",
          "alkyl"
         ],
         "title": "Theoretical Studies on Rh-Catalyzed Cycloisomerization of Homopropargylallene-Alkynes\nthrough C(sp3)–C(sp) Bond Activation",
         "year": 2020
        },
        {
         "authors": [
          {
           "name": "Osamu Kurasawa",
           "orcid": ""
          },
          {
           "name": "Tohru Miyazaki",
           "orcid": ""
          },
          {
           "name": "Misaki Homma",
           "orcid": ""
          },
          {
           "name": "Yuya Oguro",
           "orcid": ""
          },
          {
           "name": "Takashi Imada",
           "orcid": ""
          },
          {
           "name": "Noriko Uchiyama",
           "orcid": ""
          },
          {
           "name": "Kenichi Iwai",
           "orcid": ""
          },
          {
           "name": "Yukiko Yamamoto",
           "orcid": ""
          },
          {
           "name": "Momoko Ohori",
           "orcid": ""
          },
          {
           "name": "Hideto Hara",
           "orcid": ""
          },
          {
           "name": "Hiroshi Sugimoto",
           "orcid": ""
          },
          {
           "name": "Kentaro Iwata",
           "orcid": ""
          },
          {
           "name": "Robert Skene",
           "orcid": ""
          },
          {
           "name": "Isaac Hoffman",
           "orcid": ""
          },
          {
           "name": "Akihiro Ohashi",
           "orcid": ""
          },
          {
           "name": "Toshiyuki Nomura",
           "orcid": ""
          },
          {
           "name": "Nobuo Cho",
           "orcid": ""
          }
         ],
         "id": "11606727",
         "journal": {
          "id": "jour.1062267",
          "title": "Journal of Medicinal Chemistry"
         },
         "keywords": [
          "compound 3",
          "cell division cycle 7",
          "Quinuclidine Moiety",
          "compound 11 b",
          "TAK -931",
          "kinase selectivity",
          "dissociation kinetics",
          "formaldehyde adduct formation",
          "adduct formation",
          "pyrimidinone-Based Cdc 7 Inhibitor",
          "structure-based approach",
          "Investigational Antitumor Agent",
          "COLO 205 xenograft mouse model",
          "antitumor efficacy",
          "chemistry efforts",
          "quinuclidine moiety",
          "time-dependent Cdc 7 kinase inhibition"
         ],
         "title": "Discovery of a\nNovel, Highly Potent, and Selective\nThieno[3,2‑d]pyrimidinone-Based Cdc7 Inhibitor\nwith a Quinuclidine Moiety (TAK-931) as an Orally Active Investigational\nAntitumor Agent",
         "year": 2020
        }
       ]
      },
      "text/plain": [
       "<dimcli.Dataset object #4715115216. Records: 20/58>"
      ]
     },
     "execution_count": 56,
     "metadata": {
      "application/json": {
       "expanded": false,
       "root": "root"
      }
     },
     "output_type": "execute_result"
    }
   ],
   "source": [
    "%dsl search datasets where date = \"2020-01-02\""
   ]
  },
  {
   "cell_type": "code",
   "execution_count": 57,
   "metadata": {
    "Collapsed": "false"
   },
   "outputs": [
    {
     "name": "stdout",
     "output_type": "stream",
     "text": [
      "Returned Datasets: 20 (total = 53087)\n"
     ]
    },
    {
     "data": {
      "application/json": {
       "_stats": {
        "total_count": 53087
       },
       "_version": {
        "release": "1.24",
        "version": "1.24.0"
       },
       "datasets": [
        {
         "authors": [
          {
           "name": "Okubo Takashi",
           "orcid": ""
          },
          {
           "name": "Toyoda Atsushi",
           "orcid": ""
          },
          {
           "name": "Fukuhara Kohei",
           "orcid": ""
          },
          {
           "name": "Uchiyama Ikuo",
           "orcid": ""
          },
          {
           "name": "Kuroiwa Megumi",
           "orcid": ""
          },
          {
           "name": "Harigaya Yuhki",
           "orcid": ""
          },
          {
           "name": "Suzuki Takuma",
           "orcid": ""
          },
          {
           "name": "Murakami Yuka",
           "orcid": ""
          },
          {
           "name": "Suwa Yuichi",
           "orcid": ""
          },
          {
           "name": "Takami Hideto",
           "orcid": ""
          }
         ],
         "id": "10309100",
         "keywords": [
          "anammox, nitric oxide, metagenome, MAPLE, Ca. Brocadia lutana, Ca. Nitrosynbiomonas proteolyticus, Ca. Defulfobacillus symbiosus, Ca. Denitrolinea imperfectus, metatranscriptomics."
         ],
         "title": "Anammox bacteria originally used nitric oxide as electron accepter",
         "year": 2020
        },
        {
         "authors": [
          {
           "name": "T.E.P. Bueno",
           "orcid": ""
          },
          {
           "name": "U. Camara da Silva",
           "orcid": ""
          }
         ],
         "id": "10438004",
         "journal": {
          "id": "jour.1277798",
          "title": "Revista Brasileira de Ensino de Física"
         },
         "keywords": [
          "Electrostatic",
          "Azimuthal Symmetry",
          "Uniqueness Theorem",
          "Method of Inversion"
         ],
         "title": "Two methods for solving electrostatic problems with azimuthal symmetry",
         "year": 2020
        },
        {
         "authors": [
          {
           "name": "Edson Lourenço da Silva",
           "orcid": ""
          },
          {
           "name": "Adriana Josefa da Rocha",
           "orcid": ""
          },
          {
           "name": "Manuella Feitosa Leal",
           "orcid": ""
          },
          {
           "name": "Orianna dos Santos",
           "orcid": ""
          },
          {
           "name": "João Hemerson de Sousa",
           "orcid": ""
          },
          {
           "name": "Antônia Rafaela Viana da Silva",
           "orcid": ""
          },
          {
           "name": "Karina Ketelen Silva Dantas",
           "orcid": ""
          },
          {
           "name": "Erika Maria Matos Rulim",
           "orcid": ""
          },
          {
           "name": "Emerson Santos Castro",
           "orcid": ""
          },
          {
           "name": "Ana Carolina Landim Pacheco",
           "orcid": ""
          },
          {
           "name": "Tamaris Gimenez Pinheiro",
           "orcid": ""
          }
         ],
         "id": "10437989",
         "journal": {
          "id": "jour.1272548",
          "title": "Biota Neotropica"
         },
         "keywords": [
          "Ampullariidae",
          "Gastropoda",
          "Planorbidae",
          "species list",
          "Thiaridae"
         ],
         "title": "Freshwater mollusks from three reservoirs of Piauí, northeastern Brazil",
         "year": 2020
        },
        {
         "authors": [
          {
           "name": "Janiquelli Barbosa Silva",
           "orcid": ""
          },
          {
           "name": "Bianca Caroline Elias",
           "orcid": ""
          },
          {
           "name": "Laís Amaral Mais",
           "orcid": ""
          },
          {
           "name": "Sarah Warkentin",
           "orcid": ""
          },
          {
           "name": "Tulio Konstantyner",
           "orcid": ""
          },
          {
           "name": "Fernanda Luisa Ceragioli Oliveira",
           "orcid": ""
          }
         ],
         "id": "11267858",
         "journal": {
          "id": "jour.1101422",
          "title": "Revista Paulista de Pediatria"
         },
         "keywords": [
          "Adolescent",
          "Food consumption",
          "Milk",
          "Calcium",
          "Epidemiological surveys",
          "Logistic models"
         ],
         "title": "FACTORS ASSOCIATED WITH INADEQUATE MILK CONSUMPTION AMONG ADOLESCENTS: NATIONAL SCHOOL HEALTH SURVEY - PENSE 2012",
         "year": 2020
        },
        {
         "authors": [
          {
           "name": "Sabrina da Conceição Guedes",
           "orcid": ""
          },
          {
           "name": "Rosane Luzia de Souza Morais",
           "orcid": ""
          },
          {
           "name": "Lívia Rodrigues Santos",
           "orcid": ""
          },
          {
           "name": "Hércules Ribeiro Leite",
           "orcid": ""
          },
          {
           "name": "Juliana Nogueira Pontes Nobre",
           "orcid": ""
          },
          {
           "name": "Juliana Nunes Santos",
           "orcid": ""
          }
         ],
         "id": "11267699",
         "journal": {
          "id": "jour.1101422",
          "title": "Revista Paulista de Pediatria"
         },
         "keywords": [
          "Child",
          "Mobile applications",
          "Smartphone",
          "Epidemiology",
          "Child development"
         ],
         "title": "CHILDREN’S USE OF INTERACTIVE MEDIA IN EARLY CHILDHOOD - AN EPIDEMIOLOGICAL STUDY",
         "year": 2020
        },
        {
         "authors": [
          {
           "name": "Isabella Lima Arrais Ribeiro",
           "orcid": ""
          },
          {
           "name": "Sâmara Munique Silva",
           "orcid": ""
          },
          {
           "name": "Rebecca Rhuanny Tolentino Limeira",
           "orcid": ""
          },
          {
           "name": "Paulo Rogério Ferreti Bonan",
           "orcid": ""
          },
          {
           "name": "Ana Maria Gondim Valença",
           "orcid": ""
          },
          {
           "name": "Eufrásio Andrade de Lima Neto",
           "orcid": ""
          },
          {
           "name": "Ricardo Dias de Castro",
           "orcid": ""
          }
         ],
         "id": "11267570",
         "journal": {
          "id": "jour.1032831",
          "title": "Journal of Applied Oral Science"
         },
         "keywords": [
          "Oral health",
          "Oral manifestations",
          "Antineoplastic agents",
          "Cancer",
          "Pediatrics"
         ],
         "title": "Differences between the oral changes presented by patients with solid and hematologic tumors during the chemotherapeutic treatment",
         "year": 2020
        },
        {
         "authors": [
          {
           "name": "Burcu Oglakci",
           "orcid": ""
          },
          {
           "name": "Magrur Kazak",
           "orcid": ""
          },
          {
           "name": "Nazmiye Donmez",
           "orcid": ""
          },
          {
           "name": "Evrim Eliguzeloglu Dalkilic",
           "orcid": ""
          },
          {
           "name": "Safiye Selin Koymen",
           "orcid": ""
          }
         ],
         "id": "11267561",
         "journal": {
          "id": "jour.1032831",
          "title": "Journal of Applied Oral Science"
         },
         "keywords": [
          "Bulk-fill composite",
          "Gap formation",
          "Liner",
          "Resin-modified glass-ionomer cement",
          "Micro-computed tomography",
          "Micro-CT"
         ],
         "title": "The use of a liner under different bulk-fill resin composites: 3D GAP formation analysis by x-ray microcomputed tomography",
         "year": 2020
        },
        {
         "authors": [
          {
           "name": "Gustavo Simao Moraes",
           "orcid": ""
          },
          {
           "name": "Isadora Benato dos Santos",
           "orcid": ""
          },
          {
           "name": "Shelon Cristina Souza Pinto",
           "orcid": ""
          },
          {
           "name": "Marcia Thais Pochapski",
           "orcid": ""
          },
          {
           "name": "Paulo Vitor Farago",
           "orcid": ""
          },
          {
           "name": "Gibson Luiz Pilatti",
           "orcid": ""
          },
          {
           "name": "Fabio Andre Santos",
           "orcid": ""
          }
         ],
         "id": "11267543",
         "journal": {
          "id": "jour.1032831",
          "title": "Journal of Applied Oral Science"
         },
         "keywords": [
          "Anesthetics",
          "Periodontal debridement",
          "Pain management",
          "Dental scaling",
          "Clinical trial"
         ],
         "title": "Liposomal anesthetic gel for pain control during periodontal therapy in adults: a placebo-controlled RCT",
         "year": 2020
        },
        {
         "authors": [
          {
           "name": "Bianca Caroline Figueiredo Bianco",
           "orcid": ""
          },
          {
           "name": "Felipe Fornias Sperandio",
           "orcid": ""
          },
          {
           "name": "João Adolfo Costa Hanemann",
           "orcid": ""
          },
          {
           "name": "Alessandro Antônio Costa Pereira",
           "orcid": ""
          }
         ],
         "id": "11267519",
         "journal": {
          "id": "jour.1032831",
          "title": "Journal of Applied Oral Science"
         },
         "keywords": [
          "Oral pathology",
          "Odontogenic tumors",
          "Biopsy",
          "Neoplasia"
         ],
         "title": "New WHO odontogenic tumor classification: impact on prevalence in a population",
         "year": 2020
        },
        {
         "authors": [
          {
           "name": "Reneide Muniz da Silva",
           "orcid": ""
          },
          {
           "name": "Isabella Chagas Samico",
           "orcid": ""
          },
          {
           "name": "Pedro Miguel dos Santos Neto",
           "orcid": ""
          }
         ],
         "id": "11267438",
         "journal": {
          "id": "jour.1032754",
          "title": "Trabalho Educação e Saúde"
         },
         "keywords": [
          "management in health",
          "human resources in health",
          "public administration",
          "public-private partnership"
         ],
         "title": "THE PUBLIC-PRIVATE RELATIONSHIP AND THE MANAGEMENT OF WORK IN STATE HEALTH FOUNDATIONS",
         "year": 2020
        },
        {
         "authors": [
          {
           "name": "Débora Santos Lula Barros",
           "orcid": ""
          },
          {
           "name": "Dayde Lane Mendonça Silva",
           "orcid": ""
          },
          {
           "name": "Silvana Nair Leite",
           "orcid": ""
          }
         ],
         "id": "11267435",
         "journal": {
          "id": "jour.1032754",
          "title": "Trabalho Educação e Saúde"
         },
         "keywords": [
          "rational use of drugs",
          "pharmacists",
          "pharmaceutical services",
          "pharmaceutical care",
          "primary health care"
         ],
         "title": "CLINICAL PHARMACEUTICAL SERVICES IN BRAZIL’S PRIMARY HEALTH CARE",
         "year": 2020
        },
        {
         "authors": [
          {
           "name": "Ana Cláudia Camargo Miranda",
           "orcid": ""
          },
          {
           "name": "Denise Rahal Lobato",
           "orcid": ""
          },
          {
           "name": "Elaine Bortoleti de Araújo",
           "orcid": ""
          }
         ],
         "id": "11267420",
         "journal": {
          "id": "jour.1037357",
          "title": "Einstein (São Paulo)"
         },
         "keywords": [
          "Intellectual Property",
          "Patent",
          "Innovation",
          "Radiopharmaceuticals",
          "Nuclear medicine"
         ],
         "title": "Comparative overview of innovation and patent filings in Radiopharmacy",
         "year": 2020
        },
        {
         "authors": [
          {
           "name": "D. M. Oliveira",
           "orcid": ""
          }
         ],
         "id": "11267399",
         "journal": {
          "id": "jour.1277798",
          "title": "Revista Brasileira de Ensino de Física"
         },
         "keywords": [
          "Carrington's event",
          "Solar-terrestrial interactions",
          "Space weather"
         ],
         "title": "One swallow does not make a summer: 160 years of Richard Carrington's legacy",
         "year": 2020
        },
        {
         "authors": [
          {
           "name": "Amanda Rocha Firmino Pereira",
           "orcid": ""
          },
          {
           "name": "Marcelo Vivolo Aun",
           "orcid": ""
          },
          {
           "name": "Nathália Coelho Portilho Kelmann",
           "orcid": ""
          },
          {
           "name": "Antônio Abílio Motta",
           "orcid": ""
          },
          {
           "name": "Jorge Kalil",
           "orcid": ""
          },
          {
           "name": "Pedro Giavina-Bianchi",
           "orcid": ""
          }
         ],
         "id": "11267165",
         "journal": {
          "id": "jour.1037357",
          "title": "Einstein (São Paulo)"
         },
         "keywords": [
          "Drug hypersensitivity",
          "Trimethoprim, sulfamethoxazole drug combination",
          "Drug eruptions",
          "Desensitization, immunologic",
          "Drug tolerance"
         ],
         "title": "Loss of tolerance 5 days after discontinuing sulphonamide introduced via desensitization in delayed reaction",
         "year": 2020
        },
        {
         "authors": [
          {
           "name": "Camila Brito Collares da Silva",
           "orcid": ""
          },
          {
           "name": "Bruno Borges Fagundes",
           "orcid": ""
          },
          {
           "name": "Januário Dias Ribeiro",
           "orcid": ""
          },
          {
           "name": "Arlei Prestes Tonel",
           "orcid": ""
          },
          {
           "name": "Fernando Lang da Silveira",
           "orcid": ""
          },
          {
           "name": "Pedro Fernando Dorneles",
           "orcid": ""
          }
         ],
         "id": "11267111",
         "journal": {
          "id": "jour.1277798",
          "title": "Revista Brasileira de Ensino de Física"
         },
         "keywords": [
          "Pendulum",
          "Non-inertial forces",
          "Accelerometer",
          "Arduino"
         ],
         "title": "Forces in the accelerated reference system of a pendulum: theoretical study and experimental results",
         "year": 2020
        },
        {
         "authors": [
          {
           "name": "Mário J. de Oliveira",
           "orcid": ""
          }
         ],
         "id": "11267075",
         "journal": {
          "id": "jour.1277798",
          "title": "Revista Brasileira de Ensino de Física"
         },
         "keywords": [
          "differential",
          "differential calculus",
          "analytical mechanics",
          "thermodynamics"
         ],
         "title": "Exact and inexact differentials in the early development of mechanics and thermodynamics",
         "year": 2020
        },
        {
         "authors": [
          {
           "name": "Oscar Javier León Guerra",
           "orcid": ""
          },
          {
           "name": "Ricardo Saul Galeano Rodríguez",
           "orcid": ""
          },
          {
           "name": "William Javier Morales Camacho",
           "orcid": ""
          },
          {
           "name": "Jessica Estefanía Plata Ortiz",
           "orcid": ""
          },
          {
           "name": "María Alejandra Morales Camacho",
           "orcid": ""
          }
         ],
         "id": "11266949",
         "journal": {
          "id": "jour.1101422",
          "title": "Revista Paulista de Pediatria"
         },
         "keywords": [
          "Hemolytic-uremic syndrome",
          "Streptococcus pneumoniae",
          "Renal insufficiency"
         ],
         "title": "HEMOLYTIC UREMIC SYNDROME ASSOCIATED WITH STREPTOCOCCUS PNEUMONIAE IN PEDIATRICS: A CASE SERIES",
         "year": 2020
        },
        {
         "authors": [
          {
           "name": "Antonio García-Carmona",
           "orcid": ""
          }
         ],
         "id": "11266688",
         "journal": {
          "id": "jour.1277798",
          "title": "Revista Brasileira de Ensino de Física"
         },
         "keywords": [
          "inquiry abilities",
          "elementary teacher training",
          "science education",
          "scientific inquiry",
          "thermal phenomenon"
         ],
         "title": "Prospective elementary teachers' abilities in tackling a contextualized physics problem as guided inquiry",
         "year": 2020
        },
        {
         "authors": [
          {
           "name": "R. F. F. da Cunha",
           "orcid": ""
          },
          {
           "name": "D. G. G. Sasaki",
           "orcid": ""
          }
         ],
         "id": "11266652",
         "journal": {
          "id": "jour.1277798",
          "title": "Revista Brasileira de Ensino de Física"
         },
         "keywords": [
          "Peer Instruction",
          "kinematics graphs",
          "TUG-K validity"
         ],
         "title": "Evaluating the validity of the new version of Test of Understanding Graphs in Kinematics (TUG-K) with high school students",
         "year": 2020
        },
        {
         "authors": [
          {
           "name": "Paulo Henrique Guerra",
           "orcid": ""
          },
          {
           "name": "Valter Cordeiro Barbosa Filho",
           "orcid": ""
          },
          {
           "name": "Angélica Almeida",
           "orcid": ""
          },
          {
           "name": "Letícia de Souza Silva",
           "orcid": ""
          },
          {
           "name": "Marcelo Tedesco Vidal Pinto",
           "orcid": ""
          },
          {
           "name": "Renan Martinelli Leonel",
           "orcid": ""
          },
          {
           "name": "Evelyn Helena Corgosinho Ribeiro",
           "orcid": ""
          },
          {
           "name": "Alex Antonio Florindo",
           "orcid": ""
          }
         ],
         "id": "11266412",
         "journal": {
          "id": "jour.1101422",
          "title": "Revista Paulista de Pediatria"
         },
         "keywords": [
          "Physical activity",
          "Sedentary lifestyle",
          "Indicators (Statistics)",
          "Child",
          "Review"
         ],
         "title": "SYSTEMATIC REVIEW OF PHYSICAL ACTIVITY AND SEDENTARY BEHAVIOR INDICATORS IN SOUTH-AMERICAN PRESCHOOL CHILDREN",
         "year": 2020
        }
       ]
      },
      "text/plain": [
       "<dimcli.Dataset object #4715581200. Records: 20/53087>"
      ]
     },
     "execution_count": 57,
     "metadata": {
      "application/json": {
       "expanded": false,
       "root": "root"
      }
     },
     "output_type": "execute_result"
    }
   ],
   "source": [
    "%dsl search datasets where date > \"2020-01-02\""
   ]
  },
  {
   "cell_type": "code",
   "execution_count": 58,
   "metadata": {
    "Collapsed": "false"
   },
   "outputs": [
    {
     "name": "stdout",
     "output_type": "stream",
     "text": [
      "Returned Datasets: 20 (total = 277)\n"
     ]
    },
    {
     "data": {
      "application/json": {
       "_stats": {
        "total_count": 277
       },
       "_version": {
        "release": "1.24",
        "version": "1.24.0"
       },
       "datasets": [
        {
         "authors": [
          {
           "name": "Aden-Antoniow",
           "orcid": ""
          },
          {
           "name": "Satriano",
           "orcid": ""
          },
          {
           "name": "Bernard",
           "orcid": ""
          },
          {
           "name": "Poiata",
           "orcid": ""
          },
          {
           "name": "Aissaoui",
           "orcid": ""
          },
          {
           "name": "Vilotte",
           "orcid": ""
          },
          {
           "name": "Frank",
           "orcid": ""
          }
         ],
         "id": "11661480",
         "keywords": [
          "Mw 8.1 Iquique earthquake",
          "evidence",
          "nbsp",
          "quot",
          "catalog",
          "quiescence",
          "Chile",
          "Seismic",
          "Iquique earthquake",
          "phase",
          "Aden-Antoniow"
         ],
         "title": "Iquique earthquake preparatory phase / Aden-Antoniow 2020",
         "year": 2020
        },
        {
         "authors": [
          {
           "name": "Han Ming Gan",
           "orcid": ""
          }
         ],
         "id": "11661450",
         "keywords": [
          "Nanopore",
          "Hdyrogenophaga"
         ],
         "title": "Raw Nanopore data for \"Nanopore Long-Read Guided Complete Genome Assembly of Hydrogenophaga intermedia, and Genomic Insights into 4-Aminobenzenesulfonate, p-Aminobenzoic Acid and Hydrogen Metabolism in the Genus Hydrogenophaga\"",
         "year": 2020
        },
        {
         "authors": [
          {
           "name": "Shuo Wang",
           "orcid": ""
          },
          {
           "name": "Jia-Shu Ren",
           "orcid": ""
          },
          {
           "name": "Lian-Yun Shan",
           "orcid": ""
          },
          {
           "name": "Xiao-Yan Sun",
           "orcid": ""
          },
          {
           "name": "Bin Di",
           "orcid": ""
          },
          {
           "name": "Ning Gu",
           "orcid": ""
          },
          {
           "name": "Jin-Long Chen",
           "orcid": ""
          }
         ],
         "id": "11673894",
         "journal": {
          "id": "jour.1345331",
          "title": "Analytical Chemistry"
         },
         "keywords": [
          "sulfur dioxide-relevant species",
          "nucleophilic addition",
          "charge transfer",
          "multiphase adsorption science",
          "Triplexed Tracking Labile Sulfur-Containing Species",
          "single-molecule sensors",
          "valence state",
          "recognition units",
          "SCS",
          "ZIF",
          "affinity target-guided",
          "triplexed responses",
          "sulfur trioxide",
          "Nezha",
          "dynamics transformation",
          "VSM",
          "sulfur dioxide",
          "Zeolitic imidazolate framework -8"
         ],
         "title": "Triplexed Tracking Labile Sulfur-Containing Species\non a Single-Molecule “Nezha” Sensor",
         "year": 2020
        },
        {
         "authors": [
          {
           "name": "Kelcy N. Brunner",
           "orcid": ""
          }
         ],
         "id": "11672988",
         "keywords": [
          "storm electrification package",
          "WRF supercell simulation",
          "microphysical profile",
          "WRF version 3.9.1.1",
          "Monte Carlo Lightning Simulations",
          "data",
          "New Methods"
         ],
         "title": "New Methods in Monte Carlo Lightning Simulations: data for inhomogeneous simulations",
         "year": 2020
        },
        {
         "authors": [
          {
           "name": "Souza, Valdiva Rossato",
           "orcid": ""
          },
          {
           "name": "Suzar, Janilson Antonio da Silva",
           "orcid": ""
          },
          {
           "name": "Ribeiro, Maisa de Souza",
           "orcid": ""
          },
          {
           "name": "Martins, Eliseu",
           "orcid": ""
          }
         ],
         "id": "11672910",
         "keywords": [
          "Developing countries – Brazil – China – India. Clean Development Mechanism (CDM). Carbon credits. Measurement and accounting recognition"
         ],
         "title": "Accounting Measurement of Carbon Credits in Brazil, China, and India",
         "year": 2020
        },
        {
         "authors": [
          {
           "name": "FREJ Jibril",
           "orcid": ""
          }
         ],
         "id": "11508519",
         "keywords": [
          "wikIR tool",
          "enwikIRS 78k English Information Retrieval dataset"
         ],
         "title": "enwikIRS78k",
         "year": 2020
        },
        {
         "authors": [
          {
           "name": "Ioanna Zergioti, Symeon Papazoglou",
           "orcid": ""
          }
         ],
         "id": "11672733",
         "keywords": [
          "Raman mapping",
          "LIFT printing of graphene"
         ],
         "title": "Dataset 02: DS2.WP2_0.2 - Raman mapping results of LIFT printed graphene",
         "year": 2020
        },
        {
         "authors": [
          {
           "name": "Abankwa, Nana",
           "orcid": ""
          },
          {
           "name": "Biagiolini, Pier Maria",
           "orcid": ""
          },
          {
           "name": "Cao, Yu",
           "orcid": ""
          },
          {
           "name": "Hadjiodysseos, Elisavet",
           "orcid": ""
          },
          {
           "name": "Hausner, Daniel",
           "orcid": ""
          },
          {
           "name": "Kluyver, Thomas",
           "orcid": ""
          },
          {
           "name": "Lemaire, Sébastien",
           "orcid": ""
          },
          {
           "name": "Lee, Zhong-yuen",
           "orcid": ""
          },
          {
           "name": "Lynn, Alistair",
           "orcid": ""
          },
          {
           "name": "Perez-Diaz, Alvaro",
           "orcid": ""
          },
          {
           "name": "Schillai, Sophia Maria",
           "orcid": ""
          },
          {
           "name": "Vasilovici, Camil",
           "orcid": ""
          }
         ],
         "id": "11800290",
         "keywords": [
          "autonomous sailing",
          "ROS"
         ],
         "title": "Southampton Sailing Robot test logs 2016-2018",
         "year": 2020
        },
        {
         "authors": [
          {
           "name": "Paolo Della Sala",
           "orcid": ""
          },
          {
           "name": "Rocco Del Regno",
           "orcid": ""
          },
          {
           "name": "Carmen Talotta",
           "orcid": ""
          },
          {
           "name": "Amedeo Capobianco",
           "orcid": ""
          },
          {
           "name": "Neal Hickey",
           "orcid": ""
          },
          {
           "name": "Silvano Geremia",
           "orcid": ""
          },
          {
           "name": "Margherita De Rosa",
           "orcid": ""
          },
          {
           "name": "Aldo Spinella",
           "orcid": ""
          },
          {
           "name": "Annunziata Soriente",
           "orcid": ""
          },
          {
           "name": "Placido Neri",
           "orcid": ""
          },
          {
           "name": "Carmine Gaeta",
           "orcid": ""
          }
         ],
         "id": "11607399",
         "journal": {
          "id": "jour.1081898",
          "title": "Journal of the American Chemical Society"
         },
         "keywords": [
          "ammonium-templating agent",
          "NC",
          "Thermodynamically Controlled Synthesis",
          "templated synthesis",
          "recognition motif",
          "DCE",
          "template effect",
          "Macrocyclic Hosts Obtained",
          "New Class",
          "equilibrium mixture",
          "novel title macrocycles",
          "prism",
          "π- electron-rich",
          "quaternary ammonium guests"
         ],
         "title": "Prismarenes:\nA New Class of Macrocyclic Hosts Obtained\nby Templation in a Thermodynamically Controlled Synthesis",
         "year": 2020
        },
        {
         "authors": [
          {
           "name": "Paolo Della Sala",
           "orcid": ""
          },
          {
           "name": "Rocco Del Regno",
           "orcid": ""
          },
          {
           "name": "Carmen Talotta",
           "orcid": ""
          },
          {
           "name": "Amedeo Capobianco",
           "orcid": ""
          },
          {
           "name": "Neal Hickey",
           "orcid": ""
          },
          {
           "name": "Silvano Geremia",
           "orcid": ""
          },
          {
           "name": "Margherita De Rosa",
           "orcid": ""
          },
          {
           "name": "Aldo Spinella",
           "orcid": ""
          },
          {
           "name": "Annunziata Soriente",
           "orcid": ""
          },
          {
           "name": "Placido Neri",
           "orcid": ""
          },
          {
           "name": "Carmine Gaeta",
           "orcid": ""
          }
         ],
         "id": "11607396",
         "journal": {
          "id": "jour.1081898",
          "title": "Journal of the American Chemical Society"
         },
         "keywords": [
          "ammonium-templating agent",
          "NC",
          "Thermodynamically Controlled Synthesis",
          "templated synthesis",
          "recognition motif",
          "DCE",
          "template effect",
          "Macrocyclic Hosts Obtained",
          "New Class",
          "equilibrium mixture",
          "novel title macrocycles",
          "prism",
          "π- electron-rich",
          "quaternary ammonium guests"
         ],
         "title": "Prismarenes:\nA New Class of Macrocyclic Hosts Obtained\nby Templation in a Thermodynamically Controlled Synthesis",
         "year": 2020
        },
        {
         "authors": [
          {
           "name": "Paolo Della Sala",
           "orcid": ""
          },
          {
           "name": "Rocco Del Regno",
           "orcid": ""
          },
          {
           "name": "Carmen Talotta",
           "orcid": ""
          },
          {
           "name": "Amedeo Capobianco",
           "orcid": ""
          },
          {
           "name": "Neal Hickey",
           "orcid": ""
          },
          {
           "name": "Silvano Geremia",
           "orcid": ""
          },
          {
           "name": "Margherita De Rosa",
           "orcid": ""
          },
          {
           "name": "Aldo Spinella",
           "orcid": ""
          },
          {
           "name": "Annunziata Soriente",
           "orcid": ""
          },
          {
           "name": "Placido Neri",
           "orcid": ""
          },
          {
           "name": "Carmine Gaeta",
           "orcid": ""
          }
         ],
         "id": "11607393",
         "journal": {
          "id": "jour.1081898",
          "title": "Journal of the American Chemical Society"
         },
         "keywords": [
          "ammonium-templating agent",
          "NC",
          "Thermodynamically Controlled Synthesis",
          "templated synthesis",
          "recognition motif",
          "DCE",
          "template effect",
          "Macrocyclic Hosts Obtained",
          "New Class",
          "equilibrium mixture",
          "novel title macrocycles",
          "prism",
          "π- electron-rich",
          "quaternary ammonium guests"
         ],
         "title": "Prismarenes:\nA New Class of Macrocyclic Hosts Obtained\nby Templation in a Thermodynamically Controlled Synthesis",
         "year": 2020
        },
        {
         "authors": [
          {
           "name": "Paolo Della Sala",
           "orcid": ""
          },
          {
           "name": "Rocco Del Regno",
           "orcid": ""
          },
          {
           "name": "Carmen Talotta",
           "orcid": ""
          },
          {
           "name": "Amedeo Capobianco",
           "orcid": ""
          },
          {
           "name": "Neal Hickey",
           "orcid": ""
          },
          {
           "name": "Silvano Geremia",
           "orcid": ""
          },
          {
           "name": "Margherita De Rosa",
           "orcid": ""
          },
          {
           "name": "Aldo Spinella",
           "orcid": ""
          },
          {
           "name": "Annunziata Soriente",
           "orcid": ""
          },
          {
           "name": "Placido Neri",
           "orcid": ""
          },
          {
           "name": "Carmine Gaeta",
           "orcid": ""
          }
         ],
         "id": "11607390",
         "journal": {
          "id": "jour.1081898",
          "title": "Journal of the American Chemical Society"
         },
         "keywords": [
          "ammonium-templating agent",
          "NC",
          "Thermodynamically Controlled Synthesis",
          "templated synthesis",
          "recognition motif",
          "DCE",
          "template effect",
          "Macrocyclic Hosts Obtained",
          "New Class",
          "equilibrium mixture",
          "novel title macrocycles",
          "prism",
          "π- electron-rich",
          "quaternary ammonium guests"
         ],
         "title": "Prismarenes:\nA New Class of Macrocyclic Hosts Obtained\nby Templation in a Thermodynamically Controlled Synthesis",
         "year": 2020
        },
        {
         "authors": [
          {
           "name": "Paolo Della Sala",
           "orcid": ""
          },
          {
           "name": "Rocco Del Regno",
           "orcid": ""
          },
          {
           "name": "Carmen Talotta",
           "orcid": ""
          },
          {
           "name": "Amedeo Capobianco",
           "orcid": ""
          },
          {
           "name": "Neal Hickey",
           "orcid": ""
          },
          {
           "name": "Silvano Geremia",
           "orcid": ""
          },
          {
           "name": "Margherita De Rosa",
           "orcid": ""
          },
          {
           "name": "Aldo Spinella",
           "orcid": ""
          },
          {
           "name": "Annunziata Soriente",
           "orcid": ""
          },
          {
           "name": "Placido Neri",
           "orcid": ""
          },
          {
           "name": "Carmine Gaeta",
           "orcid": ""
          }
         ],
         "id": "11607387",
         "journal": {
          "id": "jour.1081898",
          "title": "Journal of the American Chemical Society"
         },
         "keywords": [
          "ammonium-templating agent",
          "NC",
          "Thermodynamically Controlled Synthesis",
          "templated synthesis",
          "recognition motif",
          "DCE",
          "template effect",
          "Macrocyclic Hosts Obtained",
          "New Class",
          "equilibrium mixture",
          "novel title macrocycles",
          "prism",
          "π- electron-rich",
          "quaternary ammonium guests"
         ],
         "title": "Prismarenes:\nA New Class of Macrocyclic Hosts Obtained\nby Templation in a Thermodynamically Controlled Synthesis",
         "year": 2020
        },
        {
         "authors": [
          {
           "name": "Wei Jiang",
           "orcid": ""
          },
          {
           "name": "Juanping Zhuge",
           "orcid": ""
          },
          {
           "name": "Jianxiao Li",
           "orcid": ""
          },
          {
           "name": "Gary Histand",
           "orcid": ""
          },
          {
           "name": "Dongen Lin",
           "orcid": ""
          }
         ],
         "id": "11594823",
         "journal": {
          "id": "jour.1077200",
          "title": "The Journal of Organic Chemistry"
         },
         "keywords": [
          "C 8",
          "phenanthroline",
          "oxidant",
          "presence",
          "C 2",
          "easy-to-handle",
          "Na 2 CO 3",
          "amine",
          "Direct Sulfenylation",
          "method",
          "purine derivatives",
          "synthesis",
          "monohydrate",
          "1.0 equiv",
          "C 6.",
          "8- sulfenylpurine derivatives",
          "arylthiol",
          "Bond",
          "substrate scope",
          "Thiophenol",
          "yield",
          "copper-mediated regioselective formation",
          "stoichiometric CuCl",
          "Purine",
          "bond"
         ],
         "title": "Direct Sulfenylation\nof the Purine C8–H\nBond with Thiophenols",
         "year": 2020
        },
        {
         "authors": [
          {
           "name": "Guangpeng Gao",
           "orcid": ""
          },
          {
           "name": "Meng Chen",
           "orcid": ""
          },
          {
           "name": "Josiah Roberts",
           "orcid": ""
          },
          {
           "name": "Meng Feng",
           "orcid": ""
          },
          {
           "name": "Chengyi Xiao",
           "orcid": ""
          },
          {
           "name": "Guowei Zhang",
           "orcid": ""
          },
          {
           "name": "Sean Parkin",
           "orcid": ""
          },
          {
           "name": "Chad Risko",
           "orcid": ""
          },
          {
           "name": "Lei Zhang",
           "orcid": ""
          }
         ],
         "id": "11593974",
         "journal": {
          "id": "jour.1081898",
          "title": "Journal of the American Chemical Society"
         },
         "keywords": [
          "C 70 cocrystal exhibits ambipolar transport characteristics",
          "cm",
          "novel C 70 subunit",
          "C 70 Buckybowl",
          "meta",
          "Organic field-effect transistor",
          "buckybowl",
          "Organic Semiconductor Applications Fullerene fragments",
          "bond length alternation",
          "C 70",
          "triisopropylphenyl",
          "display",
          "OFET"
         ],
         "title": "Rational\nFunctionalization of a C70 Buckybowl\nTo Enable a C70:Buckybowl Cocrystal for Organic Semiconductor\nApplications",
         "year": 2020
        },
        {
         "authors": [
          {
           "name": "Guangpeng Gao",
           "orcid": ""
          },
          {
           "name": "Meng Chen",
           "orcid": ""
          },
          {
           "name": "Josiah Roberts",
           "orcid": ""
          },
          {
           "name": "Meng Feng",
           "orcid": ""
          },
          {
           "name": "Chengyi Xiao",
           "orcid": ""
          },
          {
           "name": "Guowei Zhang",
           "orcid": ""
          },
          {
           "name": "Sean Parkin",
           "orcid": ""
          },
          {
           "name": "Chad Risko",
           "orcid": ""
          },
          {
           "name": "Lei Zhang",
           "orcid": ""
          }
         ],
         "id": "11593971",
         "journal": {
          "id": "jour.1081898",
          "title": "Journal of the American Chemical Society"
         },
         "keywords": [
          "C 70 cocrystal exhibits ambipolar transport characteristics",
          "cm",
          "novel C 70 subunit",
          "C 70 Buckybowl",
          "meta",
          "Organic field-effect transistor",
          "buckybowl",
          "Organic Semiconductor Applications Fullerene fragments",
          "bond length alternation",
          "C 70",
          "triisopropylphenyl",
          "display",
          "OFET"
         ],
         "title": "Rational\nFunctionalization of a C70 Buckybowl\nTo Enable a C70:Buckybowl Cocrystal for Organic Semiconductor\nApplications",
         "year": 2020
        },
        {
         "authors": [
          {
           "name": "Guangpeng Gao",
           "orcid": ""
          },
          {
           "name": "Meng Chen",
           "orcid": ""
          },
          {
           "name": "Josiah Roberts",
           "orcid": ""
          },
          {
           "name": "Meng Feng",
           "orcid": ""
          },
          {
           "name": "Chengyi Xiao",
           "orcid": ""
          },
          {
           "name": "Guowei Zhang",
           "orcid": ""
          },
          {
           "name": "Sean Parkin",
           "orcid": ""
          },
          {
           "name": "Chad Risko",
           "orcid": ""
          },
          {
           "name": "Lei Zhang",
           "orcid": ""
          }
         ],
         "id": "11593968",
         "journal": {
          "id": "jour.1081898",
          "title": "Journal of the American Chemical Society"
         },
         "keywords": [
          "C 70 cocrystal exhibits ambipolar transport characteristics",
          "cm",
          "novel C 70 subunit",
          "C 70 Buckybowl",
          "meta",
          "Organic field-effect transistor",
          "buckybowl",
          "Organic Semiconductor Applications Fullerene fragments",
          "bond length alternation",
          "C 70",
          "triisopropylphenyl",
          "display",
          "OFET"
         ],
         "title": "Rational\nFunctionalization of a C70 Buckybowl\nTo Enable a C70:Buckybowl Cocrystal for Organic Semiconductor\nApplications",
         "year": 2020
        },
        {
         "authors": [
          {
           "name": "Guangpeng Gao",
           "orcid": ""
          },
          {
           "name": "Meng Chen",
           "orcid": ""
          },
          {
           "name": "Josiah Roberts",
           "orcid": ""
          },
          {
           "name": "Meng Feng",
           "orcid": ""
          },
          {
           "name": "Chengyi Xiao",
           "orcid": ""
          },
          {
           "name": "Guowei Zhang",
           "orcid": ""
          },
          {
           "name": "Sean Parkin",
           "orcid": ""
          },
          {
           "name": "Chad Risko",
           "orcid": ""
          },
          {
           "name": "Lei Zhang",
           "orcid": ""
          }
         ],
         "id": "11593965",
         "journal": {
          "id": "jour.1081898",
          "title": "Journal of the American Chemical Society"
         },
         "keywords": [
          "C 70 cocrystal exhibits ambipolar transport characteristics",
          "cm",
          "novel C 70 subunit",
          "C 70 Buckybowl",
          "meta",
          "Organic field-effect transistor",
          "buckybowl",
          "Organic Semiconductor Applications Fullerene fragments",
          "bond length alternation",
          "C 70",
          "triisopropylphenyl",
          "display",
          "OFET"
         ],
         "title": "Rational\nFunctionalization of a C70 Buckybowl\nTo Enable a C70:Buckybowl Cocrystal for Organic Semiconductor\nApplications",
         "year": 2020
        },
        {
         "authors": [
          {
           "name": "Guangpeng Gao",
           "orcid": ""
          },
          {
           "name": "Meng Chen",
           "orcid": ""
          },
          {
           "name": "Josiah Roberts",
           "orcid": ""
          },
          {
           "name": "Meng Feng",
           "orcid": ""
          },
          {
           "name": "Chengyi Xiao",
           "orcid": ""
          },
          {
           "name": "Guowei Zhang",
           "orcid": ""
          },
          {
           "name": "Sean Parkin",
           "orcid": ""
          },
          {
           "name": "Chad Risko",
           "orcid": ""
          },
          {
           "name": "Lei Zhang",
           "orcid": ""
          }
         ],
         "id": "11593962",
         "journal": {
          "id": "jour.1081898",
          "title": "Journal of the American Chemical Society"
         },
         "keywords": [
          "C 70 cocrystal exhibits ambipolar transport characteristics",
          "cm",
          "novel C 70 subunit",
          "C 70 Buckybowl",
          "meta",
          "Organic field-effect transistor",
          "buckybowl",
          "Organic Semiconductor Applications Fullerene fragments",
          "bond length alternation",
          "C 70",
          "triisopropylphenyl",
          "display",
          "OFET"
         ],
         "title": "Rational\nFunctionalization of a C70 Buckybowl\nTo Enable a C70:Buckybowl Cocrystal for Organic Semiconductor\nApplications",
         "year": 2020
        },
        {
         "authors": [
          {
           "name": "Fen Zhang",
           "orcid": ""
          },
          {
           "name": "Liyuan Wang",
           "orcid": ""
          },
          {
           "name": "Peixian Bai",
           "orcid": ""
          },
          {
           "name": "Kang Wei",
           "orcid": ""
          },
          {
           "name": "Yazhen Zhang",
           "orcid": ""
          },
          {
           "name": "Li Ruan",
           "orcid": ""
          },
          {
           "name": "Liyun Wu",
           "orcid": ""
          },
          {
           "name": "Hao Cheng",
           "orcid": ""
          }
         ],
         "id": "11857665",
         "journal": {
          "id": "jour.1017681",
          "title": "Journal of Agricultural and Food Chemistry"
         },
         "keywords": [
          "uptake",
          "N metabolism network",
          "gene co-expression network analyses",
          "31019 b yeast cells",
          "control N absorption",
          "NH 4",
          "gene co-expression networks",
          "Hub Genes Controlling Nitrogen Uptake",
          "MEP 3 genes",
          "NUE",
          "KEGG",
          "N metabolism",
          "gene expression networks",
          "tea plant roots",
          "16 co-expression modules",
          "tea plants",
          "WGCNA",
          "CsAMT 1.2"
         ],
         "title": "Identification of Regulatory Networks and Hub Genes\nControlling Nitrogen Uptake in Tea Plants [Camellia\nsinensis (L.) O. Kuntze]",
         "year": 2020
        }
       ]
      },
      "text/plain": [
       "<dimcli.Dataset object #4715777360. Records: 20/277>"
      ]
     },
     "execution_count": 58,
     "metadata": {
      "application/json": {
       "expanded": false,
       "root": "root"
      }
     },
     "output_type": "execute_result"
    }
   ],
   "source": [
    "%dsl search datasets where date > \"2020-01-02\" and date <= \"2020-01-03\""
   ]
  },
  {
   "cell_type": "markdown",
   "metadata": {
    "Collapsed": "false",
    "colab_type": "text",
    "id": "YBSdHL4Tywj4"
   },
   "source": [
    "## [DSL-402] Add NUTS fields to GRID orgs \n",
    "\n",
    "https://uberresearch.atlassian.net/browse/DSL-402"
   ]
  },
  {
   "cell_type": "markdown",
   "metadata": {
    "Collapsed": "false"
   },
   "source": [
    "**FILTERS TEST**"
   ]
  },
  {
   "cell_type": "code",
   "execution_count": 59,
   "metadata": {
    "Collapsed": "false"
   },
   "outputs": [
    {
     "name": "stdout",
     "output_type": "stream",
     "text": [
      "==== nuts_level1_code\n",
      "Returned Organizations: 20 (total = 32241)\n",
      "{'id': 'grid.421091.f', 'nuts_level1_code': 'UKK', 'name': 'Engineering and Physical Sciences Research Council'}\n",
      "{'id': 'grid.434257.3', 'nuts_level1_code': 'UKK', 'name': 'Economic and Social Research Council'}\n",
      "{'id': 'grid.14467.30', 'nuts_level1_code': 'UKK', 'name': 'Science and Technology Facilities Council'}\n",
      "{'id': 'grid.14105.31', 'nuts_level1_code': 'UKI', 'name': 'Medical Research Council'}\n",
      "{'id': 'grid.8682.4', 'nuts_level1_code': 'UKK', 'name': 'Natural Environment Research Council'}\n",
      "{'id': 'grid.418100.c', 'nuts_level1_code': 'UKK', 'name': 'Biotechnology and Biological Sciences Research Council'}\n",
      "{'id': 'grid.426413.6', 'nuts_level1_code': 'UKK', 'name': 'Arts and Humanities Research Council'}\n",
      "{'id': 'grid.438467.a', 'nuts_level1_code': 'UKI', 'name': 'Action on Hearing Loss'}\n",
      "{'id': 'grid.507369.e', 'nuts_level1_code': 'UKF', 'name': 'Versus Arthritis'}\n",
      "{'id': 'grid.25111.36', 'nuts_level1_code': 'AT1', 'name': 'FWF Austrian Science Fund'}\n",
      "{'id': 'grid.452924.c', 'nuts_level1_code': 'UKI', 'name': 'British Heart Foundation'}\n",
      "{'id': 'grid.11485.39', 'nuts_level1_code': 'UKI', 'name': 'Cancer Research UK'}\n",
      "{'id': 'grid.450637.3', 'nuts_level1_code': 'UKM', 'name': 'Scottish Government Health and Social Care Directorates'}\n",
      "{'id': 'grid.453048.e', 'nuts_level1_code': 'UKI', 'name': 'Diabetes UK'}\n",
      "{'id': 'grid.453271.6', 'nuts_level1_code': 'UKI', 'name': 'Dunhill Medical Trust'}\n",
      "{'id': 'grid.452896.4', 'nuts_level1_code': 'BE1', 'name': 'European Research Council'}\n",
      "{'id': 'grid.270680.b', 'nuts_level1_code': 'BE1', 'name': 'European Commission'}\n",
      "{'id': 'grid.419428.2', 'nuts_level1_code': 'UKI', 'name': 'Marie Curie'}\n",
      "{'id': 'grid.453661.3', 'nuts_level1_code': 'UKF', 'name': 'Motor Neurone Disease Association'}\n",
      "{'id': 'grid.453295.c', 'nuts_level1_code': 'UKI', 'name': 'Multiple Sclerosis Society'}\n",
      "==== nuts_level1_name\n",
      "Returned Organizations: 20 (total = 32241)\n",
      "{'id': 'grid.421091.f', 'nuts_level1_name': 'SOUTH WEST (ENGLAND)', 'name': 'Engineering and Physical Sciences Research Council'}\n",
      "{'id': 'grid.434257.3', 'nuts_level1_name': 'SOUTH WEST (ENGLAND)', 'name': 'Economic and Social Research Council'}\n",
      "{'id': 'grid.14467.30', 'nuts_level1_name': 'SOUTH WEST (ENGLAND)', 'name': 'Science and Technology Facilities Council'}\n",
      "{'id': 'grid.14105.31', 'nuts_level1_name': 'LONDON', 'name': 'Medical Research Council'}\n",
      "{'id': 'grid.8682.4', 'nuts_level1_name': 'SOUTH WEST (ENGLAND)', 'name': 'Natural Environment Research Council'}\n",
      "{'id': 'grid.418100.c', 'nuts_level1_name': 'SOUTH WEST (ENGLAND)', 'name': 'Biotechnology and Biological Sciences Research Council'}\n",
      "{'id': 'grid.426413.6', 'nuts_level1_name': 'SOUTH WEST (ENGLAND)', 'name': 'Arts and Humanities Research Council'}\n",
      "{'id': 'grid.438467.a', 'nuts_level1_name': 'LONDON', 'name': 'Action on Hearing Loss'}\n",
      "{'id': 'grid.507369.e', 'nuts_level1_name': 'EAST MIDLANDS (ENGLAND)', 'name': 'Versus Arthritis'}\n",
      "{'id': 'grid.25111.36', 'nuts_level1_name': 'OSTÖSTERREICH', 'name': 'FWF Austrian Science Fund'}\n",
      "{'id': 'grid.452924.c', 'nuts_level1_name': 'LONDON', 'name': 'British Heart Foundation'}\n",
      "{'id': 'grid.11485.39', 'nuts_level1_name': 'LONDON', 'name': 'Cancer Research UK'}\n",
      "{'id': 'grid.450637.3', 'nuts_level1_name': 'SCOTLAND', 'name': 'Scottish Government Health and Social Care Directorates'}\n",
      "{'id': 'grid.453048.e', 'nuts_level1_name': 'LONDON', 'name': 'Diabetes UK'}\n",
      "{'id': 'grid.453271.6', 'nuts_level1_name': 'LONDON', 'name': 'Dunhill Medical Trust'}\n",
      "{'id': 'grid.452896.4', 'nuts_level1_name': 'RÉGION DE BRUXELLES-CAPITALE / BRUSSELS HOOFDSTEDELIJK GEWEST', 'name': 'European Research Council'}\n",
      "{'id': 'grid.270680.b', 'nuts_level1_name': 'RÉGION DE BRUXELLES-CAPITALE / BRUSSELS HOOFDSTEDELIJK GEWEST', 'name': 'European Commission'}\n",
      "{'id': 'grid.419428.2', 'nuts_level1_name': 'LONDON', 'name': 'Marie Curie'}\n",
      "{'id': 'grid.453661.3', 'nuts_level1_name': 'EAST MIDLANDS (ENGLAND)', 'name': 'Motor Neurone Disease Association'}\n",
      "{'id': 'grid.453295.c', 'nuts_level1_name': 'LONDON', 'name': 'Multiple Sclerosis Society'}\n",
      "==== nuts_level2_code\n",
      "Returned Organizations: 20 (total = 32241)\n",
      "{'id': 'grid.421091.f', 'nuts_level2_code': 'UKK1', 'name': 'Engineering and Physical Sciences Research Council'}\n",
      "{'id': 'grid.434257.3', 'nuts_level2_code': 'UKK1', 'name': 'Economic and Social Research Council'}\n",
      "{'id': 'grid.14467.30', 'nuts_level2_code': 'UKK1', 'name': 'Science and Technology Facilities Council'}\n",
      "{'id': 'grid.14105.31', 'nuts_level2_code': 'UKI3', 'name': 'Medical Research Council'}\n",
      "{'id': 'grid.8682.4', 'nuts_level2_code': 'UKK1', 'name': 'Natural Environment Research Council'}\n",
      "{'id': 'grid.418100.c', 'nuts_level2_code': 'UKK1', 'name': 'Biotechnology and Biological Sciences Research Council'}\n",
      "{'id': 'grid.426413.6', 'nuts_level2_code': 'UKK1', 'name': 'Arts and Humanities Research Council'}\n",
      "{'id': 'grid.438467.a', 'nuts_level2_code': 'UKI3', 'name': 'Action on Hearing Loss'}\n",
      "{'id': 'grid.507369.e', 'nuts_level2_code': 'UKF1', 'name': 'Versus Arthritis'}\n",
      "{'id': 'grid.25111.36', 'nuts_level2_code': 'AT13', 'name': 'FWF Austrian Science Fund'}\n",
      "{'id': 'grid.452924.c', 'nuts_level2_code': 'UKI3', 'name': 'British Heart Foundation'}\n",
      "{'id': 'grid.11485.39', 'nuts_level2_code': 'UKI3', 'name': 'Cancer Research UK'}\n",
      "{'id': 'grid.450637.3', 'nuts_level2_code': 'UKM2', 'name': 'Scottish Government Health and Social Care Directorates'}\n",
      "{'id': 'grid.453048.e', 'nuts_level2_code': 'UKI3', 'name': 'Diabetes UK'}\n",
      "{'id': 'grid.453271.6', 'nuts_level2_code': 'UKI3', 'name': 'Dunhill Medical Trust'}\n",
      "{'id': 'grid.452896.4', 'nuts_level2_code': 'BE10', 'name': 'European Research Council'}\n",
      "{'id': 'grid.270680.b', 'nuts_level2_code': 'BE10', 'name': 'European Commission'}\n",
      "{'id': 'grid.419428.2', 'nuts_level2_code': 'UKI3', 'name': 'Marie Curie'}\n",
      "{'id': 'grid.453661.3', 'nuts_level2_code': 'UKF2', 'name': 'Motor Neurone Disease Association'}\n",
      "{'id': 'grid.453295.c', 'nuts_level2_code': 'UKI3', 'name': 'Multiple Sclerosis Society'}\n",
      "==== nuts_level2_name\n",
      "Returned Organizations: 20 (total = 32241)\n",
      "{'nuts_level2_name': 'Gloucestershire, Wiltshire and Bristol/Bath area', 'id': 'grid.421091.f', 'name': 'Engineering and Physical Sciences Research Council'}\n",
      "{'nuts_level2_name': 'Gloucestershire, Wiltshire and Bristol/Bath area', 'id': 'grid.434257.3', 'name': 'Economic and Social Research Council'}\n",
      "{'nuts_level2_name': 'Gloucestershire, Wiltshire and Bristol/Bath area', 'id': 'grid.14467.30', 'name': 'Science and Technology Facilities Council'}\n",
      "{'nuts_level2_name': 'Inner London - West', 'id': 'grid.14105.31', 'name': 'Medical Research Council'}\n",
      "{'nuts_level2_name': 'Gloucestershire, Wiltshire and Bristol/Bath area', 'id': 'grid.8682.4', 'name': 'Natural Environment Research Council'}\n",
      "{'nuts_level2_name': 'Gloucestershire, Wiltshire and Bristol/Bath area', 'id': 'grid.418100.c', 'name': 'Biotechnology and Biological Sciences Research Council'}\n",
      "{'nuts_level2_name': 'Gloucestershire, Wiltshire and Bristol/Bath area', 'id': 'grid.426413.6', 'name': 'Arts and Humanities Research Council'}\n",
      "{'nuts_level2_name': 'Inner London - West', 'id': 'grid.438467.a', 'name': 'Action on Hearing Loss'}\n",
      "{'nuts_level2_name': 'Derbyshire and Nottinghamshire', 'id': 'grid.507369.e', 'name': 'Versus Arthritis'}\n",
      "{'nuts_level2_name': 'Wien', 'id': 'grid.25111.36', 'name': 'FWF Austrian Science Fund'}\n",
      "{'nuts_level2_name': 'Inner London - West', 'id': 'grid.452924.c', 'name': 'British Heart Foundation'}\n",
      "{'nuts_level2_name': 'Inner London - West', 'id': 'grid.11485.39', 'name': 'Cancer Research UK'}\n",
      "{'nuts_level2_name': 'Eastern Scotland', 'id': 'grid.450637.3', 'name': 'Scottish Government Health and Social Care Directorates'}\n",
      "{'nuts_level2_name': 'Inner London - West', 'id': 'grid.453048.e', 'name': 'Diabetes UK'}\n",
      "{'nuts_level2_name': 'Inner London - West', 'id': 'grid.453271.6', 'name': 'Dunhill Medical Trust'}\n",
      "{'nuts_level2_name': 'Région de Bruxelles-Capitale / Brussels Hoofdstedelijk Gewest', 'id': 'grid.452896.4', 'name': 'European Research Council'}\n",
      "{'nuts_level2_name': 'Région de Bruxelles-Capitale / Brussels Hoofdstedelijk Gewest', 'id': 'grid.270680.b', 'name': 'European Commission'}\n",
      "{'nuts_level2_name': 'Inner London - West', 'id': 'grid.419428.2', 'name': 'Marie Curie'}\n",
      "{'nuts_level2_name': 'Leicestershire, Rutland and Northamptonshire', 'id': 'grid.453661.3', 'name': 'Motor Neurone Disease Association'}\n",
      "{'nuts_level2_name': 'Inner London - West', 'id': 'grid.453295.c', 'name': 'Multiple Sclerosis Society'}\n"
     ]
    }
   ],
   "source": [
    "q = \"\"\"\n",
    "search organizations where {} is not empty return organizations[id+name+{}]\n",
    "\"\"\"\n",
    "\n",
    "fields = [\"nuts_level1_code\", \"nuts_level1_name\", \"nuts_level2_code\", \"nuts_level2_name\"]\n",
    "\n",
    "for x in fields:\n",
    "    print(\"====\", x)\n",
    "    d = dsl.query(q.format(x, x))\n",
    "    print(\"\\n\".join([str(z) for z in d.organizations]))"
   ]
  },
  {
   "cell_type": "markdown",
   "metadata": {
    "Collapsed": "false"
   },
   "source": [
    "**FACETS TEST**"
   ]
  },
  {
   "cell_type": "code",
   "execution_count": 60,
   "metadata": {
    "Collapsed": "false"
   },
   "outputs": [
    {
     "name": "stdout",
     "output_type": "stream",
     "text": [
      "==== nuts_level1_code\n",
      "Returned Nuts_level1_code: 20\n",
      "{'id': 'CZ0', 'count': 2747}\n",
      "{'id': 'UKI', 'count': 1969}\n",
      "{'id': 'FR1', 'count': 1611}\n",
      "{'id': 'UKJ', 'count': 1049}\n",
      "{'id': 'NL3', 'count': 950}\n",
      "{'id': 'DEA', 'count': 928}\n",
      "{'id': 'SE1', 'count': 847}\n",
      "{'id': 'UKH', 'count': 705}\n",
      "{'id': 'DE2', 'count': 694}\n",
      "{'id': 'DE1', 'count': 680}\n",
      "{'id': 'ITC', 'count': 619}\n",
      "{'id': 'IE0', 'count': 616}\n",
      "{'id': 'ITI', 'count': 609}\n",
      "{'id': 'UKM', 'count': 587}\n",
      "{'id': 'ES5', 'count': 583}\n",
      "{'id': 'UKK', 'count': 575}\n",
      "{'id': 'DK0', 'count': 570}\n",
      "{'id': 'UKD', 'count': 548}\n",
      "{'id': 'DE3', 'count': 511}\n",
      "{'id': 'FR7', 'count': 506}\n",
      "==== nuts_level1_name\n",
      "Returned Nuts_level1_name: 20\n",
      "{'id': 'ČESKÁ REPUBLIKA', 'count': 2747}\n",
      "{'id': 'LONDON', 'count': 1969}\n",
      "{'id': 'ÎLE DE FRANCE', 'count': 1611}\n",
      "{'id': 'SOUTH EAST (ENGLAND)', 'count': 1049}\n",
      "{'id': 'WEST-NEDERLAND', 'count': 950}\n",
      "{'id': 'NORDRHEIN-WESTFALEN', 'count': 928}\n",
      "{'id': 'ÖSTRA SVERIGE', 'count': 847}\n",
      "{'id': 'EAST OF ENGLAND', 'count': 705}\n",
      "{'id': 'BAYERN', 'count': 694}\n",
      "{'id': 'BADEN-WÜRTTEMBERG', 'count': 680}\n",
      "{'id': 'NORD-OVEST', 'count': 619}\n",
      "{'id': 'IRELAND', 'count': 616}\n",
      "{'id': 'CENTRO (IT)', 'count': 609}\n",
      "{'id': 'SCOTLAND', 'count': 587}\n",
      "{'id': 'ESTE', 'count': 583}\n",
      "{'id': 'SOUTH WEST (ENGLAND)', 'count': 575}\n",
      "{'id': 'DANMARK', 'count': 570}\n",
      "{'id': 'NORTH WEST (ENGLAND)', 'count': 548}\n",
      "{'id': 'BERLIN', 'count': 511}\n",
      "{'id': 'CENTRE-EST', 'count': 506}\n",
      "==== nuts_level2_code\n",
      "Returned Nuts_level2_code: 20\n",
      "{'id': 'UKI3', 'count': 1963}\n",
      "{'id': 'FR10', 'count': 1611}\n",
      "{'id': 'CZ02', 'count': 1150}\n",
      "{'id': 'SE11', 'count': 664}\n",
      "{'id': 'IE02', 'count': 543}\n",
      "{'id': 'CZ06', 'count': 525}\n",
      "{'id': 'DE30', 'count': 511}\n",
      "{'id': 'ES30', 'count': 474}\n",
      "{'id': 'BE10', 'count': 468}\n",
      "{'id': 'FR71', 'count': 454}\n",
      "{'id': 'UKJ1', 'count': 449}\n",
      "{'id': 'DE21', 'count': 438}\n",
      "{'id': 'UKH1', 'count': 434}\n",
      "{'id': 'ES51', 'count': 430}\n",
      "{'id': 'PL12', 'count': 400}\n",
      "{'id': 'ITC4', 'count': 394}\n",
      "{'id': 'ITI4', 'count': 394}\n",
      "{'id': 'NL33', 'count': 381}\n",
      "{'id': 'AT13', 'count': 374}\n",
      "{'id': 'DK01', 'count': 366}\n",
      "==== nuts_level2_name\n",
      "Returned Nuts_level2_name: 20\n",
      "{'id': 'Inner London - West', 'count': 1963}\n",
      "{'id': 'Île de France', 'count': 1611}\n",
      "{'id': 'Střední Čechy', 'count': 1150}\n",
      "{'id': 'Stockholm', 'count': 664}\n",
      "{'id': 'Southern and Eastern', 'count': 543}\n",
      "{'id': 'Jihovýchod', 'count': 525}\n",
      "{'id': 'Berlin', 'count': 511}\n",
      "{'id': 'Comunidad de Madrid', 'count': 474}\n",
      "{'id': 'Région de Bruxelles-Capitale / Brussels Hoofdstedelijk Gewest', 'count': 468}\n",
      "{'id': 'Rhône-Alpes', 'count': 454}\n",
      "{'id': 'Berkshire, Buckinghamshire and Oxfordshire', 'count': 449}\n",
      "{'id': 'Oberbayern', 'count': 438}\n",
      "{'id': 'East Anglia', 'count': 434}\n",
      "{'id': 'Cataluña', 'count': 430}\n",
      "{'id': 'Mazowieckie', 'count': 400}\n",
      "{'id': 'Lazio', 'count': 394}\n",
      "{'id': 'Lombardia', 'count': 394}\n",
      "{'id': 'Zuid-Holland', 'count': 381}\n",
      "{'id': 'Wien', 'count': 374}\n",
      "{'id': 'Hovedstaden', 'count': 366}\n"
     ]
    }
   ],
   "source": [
    "q = \"\"\"\n",
    "search organizations where {} is not empty return {}\n",
    "\"\"\"\n",
    "\n",
    "fields = [\"nuts_level1_code\", \"nuts_level1_name\", \"nuts_level2_code\", \"nuts_level2_name\"]\n",
    "\n",
    "for x in fields:\n",
    "    print(\"====\", x)\n",
    "    res = dsl.query(q.format(x, x))\n",
    "    print(\"\\n\".join([str(z) for z in getattr(res, x)]))"
   ]
  },
  {
   "cell_type": "markdown",
   "metadata": {
    "Collapsed": "false",
    "colab_type": "text",
    "id": "YBSdHL4Tywj4"
   },
   "source": [
    "## [DSL-392] Publications research_orgs_name \n",
    "\n",
    "https://uberresearch.atlassian.net/browse/DSL-392"
   ]
  },
  {
   "cell_type": "code",
   "execution_count": 61,
   "metadata": {
    "Collapsed": "false"
   },
   "outputs": [
    {
     "name": "stdout",
     "output_type": "stream",
     "text": [
      "Returned Publications: 20 (total = 29)\n"
     ]
    },
    {
     "data": {
      "text/html": [
       "<div>\n",
       "<style scoped>\n",
       "    .dataframe tbody tr th:only-of-type {\n",
       "        vertical-align: middle;\n",
       "    }\n",
       "\n",
       "    .dataframe tbody tr th {\n",
       "        vertical-align: top;\n",
       "    }\n",
       "\n",
       "    .dataframe thead th {\n",
       "        text-align: right;\n",
       "    }\n",
       "</style>\n",
       "<table border=\"1\" class=\"dataframe\">\n",
       "  <thead>\n",
       "    <tr style=\"text-align: right;\">\n",
       "      <th></th>\n",
       "      <th>volume</th>\n",
       "      <th>type</th>\n",
       "      <th>id</th>\n",
       "      <th>issue</th>\n",
       "      <th>author_affiliations</th>\n",
       "      <th>year</th>\n",
       "      <th>title</th>\n",
       "      <th>pages</th>\n",
       "      <th>journal.id</th>\n",
       "      <th>journal.title</th>\n",
       "    </tr>\n",
       "  </thead>\n",
       "  <tbody>\n",
       "    <tr>\n",
       "      <th>0</th>\n",
       "      <td>14</td>\n",
       "      <td>article</td>\n",
       "      <td>pub.1115957159</td>\n",
       "      <td>5</td>\n",
       "      <td>[[{'first_name': 'David', 'last_name': 'Zeitly...</td>\n",
       "      <td>2019</td>\n",
       "      <td>Perception, prestige and PageRank</td>\n",
       "      <td>e0216783</td>\n",
       "      <td>jour.1037553</td>\n",
       "      <td>PLoS ONE</td>\n",
       "    </tr>\n",
       "    <tr>\n",
       "      <th>1</th>\n",
       "      <td>3</td>\n",
       "      <td>article</td>\n",
       "      <td>pub.1106289502</td>\n",
       "      <td>NaN</td>\n",
       "      <td>[[{'first_name': 'Daniel W.', 'last_name': 'Ho...</td>\n",
       "      <td>2018</td>\n",
       "      <td>Dimensions: Building Context for Search and Ev...</td>\n",
       "      <td>23</td>\n",
       "      <td>jour.1292498</td>\n",
       "      <td>Frontiers in Research Metrics and Analytics</td>\n",
       "    </tr>\n",
       "    <tr>\n",
       "      <th>2</th>\n",
       "      <td>95</td>\n",
       "      <td>article</td>\n",
       "      <td>pub.1085511076</td>\n",
       "      <td>5</td>\n",
       "      <td>[[{'first_name': 'Carl M.', 'last_name': 'Bend...</td>\n",
       "      <td>2017</td>\n",
       "      <td>Behavior of eigenvalues in a region of broken ...</td>\n",
       "      <td>052113</td>\n",
       "      <td>jour.1053349</td>\n",
       "      <td>Physical Review A</td>\n",
       "    </tr>\n",
       "    <tr>\n",
       "      <th>3</th>\n",
       "      <td>49</td>\n",
       "      <td>article</td>\n",
       "      <td>pub.1059174631</td>\n",
       "      <td>45</td>\n",
       "      <td>[[{'first_name': 'Carl M', 'last_name': 'Bende...</td>\n",
       "      <td>2016</td>\n",
       "      <td>-symmetric interpretation of unstable effectiv...</td>\n",
       "      <td>45lt01</td>\n",
       "      <td>jour.1084797</td>\n",
       "      <td>Journal of Physics A: Mathematical and Theoret...</td>\n",
       "    </tr>\n",
       "    <tr>\n",
       "      <th>4</th>\n",
       "      <td>113</td>\n",
       "      <td>article</td>\n",
       "      <td>pub.1038047274</td>\n",
       "      <td>23</td>\n",
       "      <td>[[{'first_name': 'Carl M', 'last_name': 'Bende...</td>\n",
       "      <td>2014</td>\n",
       "      <td>Infinite Class of PT-Symmetric Theories from O...</td>\n",
       "      <td>231605</td>\n",
       "      <td>jour.1018277</td>\n",
       "      <td>Physical Review Letters</td>\n",
       "    </tr>\n",
       "    <tr>\n",
       "      <th>5</th>\n",
       "      <td>133</td>\n",
       "      <td>article</td>\n",
       "      <td>pub.1033519830</td>\n",
       "      <td>3</td>\n",
       "      <td>[[{'first_name': 'Carl M.', 'last_name': 'Bend...</td>\n",
       "      <td>2014</td>\n",
       "      <td>Complex Classical Motion in Potentials with Po...</td>\n",
       "      <td>318-336</td>\n",
       "      <td>jour.1038268</td>\n",
       "      <td>Studies in Applied Mathematics</td>\n",
       "    </tr>\n",
       "    <tr>\n",
       "      <th>6</th>\n",
       "      <td>45</td>\n",
       "      <td>article</td>\n",
       "      <td>pub.1032716976</td>\n",
       "      <td>44</td>\n",
       "      <td>[[{'first_name': 'Carl M', 'last_name': 'Bende...</td>\n",
       "      <td>2012</td>\n",
       "      <td>Negative-energy $\\mathcal {P}\\mathcal {T}$-sym...</td>\n",
       "      <td>444003</td>\n",
       "      <td>jour.1084797</td>\n",
       "      <td>Journal of Physics A: Mathematical and Theoret...</td>\n",
       "    </tr>\n",
       "    <tr>\n",
       "      <th>7</th>\n",
       "      <td>524</td>\n",
       "      <td>article</td>\n",
       "      <td>pub.1041921433</td>\n",
       "      <td>6‐7</td>\n",
       "      <td>[[{'first_name': 'D.W.', 'last_name': 'Hook', ...</td>\n",
       "      <td>2012</td>\n",
       "      <td>Non‐Hermitian potentials and real eigenvalues</td>\n",
       "      <td>106-107</td>\n",
       "      <td>jour.1056952</td>\n",
       "      <td>Annalen der Physik</td>\n",
       "    </tr>\n",
       "    <tr>\n",
       "      <th>8</th>\n",
       "      <td>22</td>\n",
       "      <td>article</td>\n",
       "      <td>pub.1025632328</td>\n",
       "      <td>2</td>\n",
       "      <td>[[{'first_name': 'Shadi', 'last_name': 'Gholiz...</td>\n",
       "      <td>2012</td>\n",
       "      <td>The Discursive Construction of the 1978–1979 I...</td>\n",
       "      <td>174-186</td>\n",
       "      <td>jour.1101684</td>\n",
       "      <td>Journal of Community &amp; Applied Social Psychology</td>\n",
       "    </tr>\n",
       "    <tr>\n",
       "      <th>9</th>\n",
       "      <td>44</td>\n",
       "      <td>article</td>\n",
       "      <td>pub.1028159934</td>\n",
       "      <td>37</td>\n",
       "      <td>[[{'first_name': 'Carl M', 'last_name': 'Bende...</td>\n",
       "      <td>2011</td>\n",
       "      <td>Quantum tunneling as a classical anomaly</td>\n",
       "      <td>372001</td>\n",
       "      <td>jour.1084797</td>\n",
       "      <td>Journal of Physics A: Mathematical and Theoret...</td>\n",
       "    </tr>\n",
       "    <tr>\n",
       "      <th>10</th>\n",
       "      <td>NaN</td>\n",
       "      <td>chapter</td>\n",
       "      <td>pub.1044195510</td>\n",
       "      <td>NaN</td>\n",
       "      <td>[[{'first_name': 'Carl M.', 'last_name': 'Bend...</td>\n",
       "      <td>2011</td>\n",
       "      <td>Complex elliptic pendulum</td>\n",
       "      <td>1-18</td>\n",
       "      <td>NaN</td>\n",
       "      <td>NaN</td>\n",
       "    </tr>\n",
       "    <tr>\n",
       "      <th>11</th>\n",
       "      <td>325</td>\n",
       "      <td>article</td>\n",
       "      <td>pub.1050737187</td>\n",
       "      <td>11</td>\n",
       "      <td>[[{'first_name': 'Carl M.', 'last_name': 'Bend...</td>\n",
       "      <td>2010</td>\n",
       "      <td>Probability density in the complex plane</td>\n",
       "      <td>2332-2362</td>\n",
       "      <td>jour.1017227</td>\n",
       "      <td>Annals of Physics</td>\n",
       "    </tr>\n",
       "    <tr>\n",
       "      <th>12</th>\n",
       "      <td>43</td>\n",
       "      <td>article</td>\n",
       "      <td>pub.1032115462</td>\n",
       "      <td>16</td>\n",
       "      <td>[[{'first_name': 'Carl M', 'last_name': 'Bende...</td>\n",
       "      <td>2010</td>\n",
       "      <td>Classical particle in a complex elliptic poten...</td>\n",
       "      <td>165201</td>\n",
       "      <td>jour.1084797</td>\n",
       "      <td>Journal of Physics A: Mathematical and Theoret...</td>\n",
       "    </tr>\n",
       "    <tr>\n",
       "      <th>13</th>\n",
       "      <td>104</td>\n",
       "      <td>article</td>\n",
       "      <td>pub.1036459050</td>\n",
       "      <td>6</td>\n",
       "      <td>[[{'first_name': 'Carl M.', 'last_name': 'Bend...</td>\n",
       "      <td>2010</td>\n",
       "      <td>Complex Correspondence Principle</td>\n",
       "      <td>061601</td>\n",
       "      <td>jour.1018277</td>\n",
       "      <td>Physical Review Letters</td>\n",
       "    </tr>\n",
       "    <tr>\n",
       "      <th>14</th>\n",
       "      <td>73</td>\n",
       "      <td>article</td>\n",
       "      <td>pub.1021542691</td>\n",
       "      <td>3</td>\n",
       "      <td>[[{'first_name': 'Carl M.', 'last_name': 'Bend...</td>\n",
       "      <td>2009</td>\n",
       "      <td>Chaotic systems in complex phase space</td>\n",
       "      <td>453</td>\n",
       "      <td>jour.1036186</td>\n",
       "      <td>Pramana</td>\n",
       "    </tr>\n",
       "    <tr>\n",
       "      <th>15</th>\n",
       "      <td>42</td>\n",
       "      <td>article</td>\n",
       "      <td>pub.1006655528</td>\n",
       "      <td>2</td>\n",
       "      <td>[[{'first_name': 'Dorje C', 'last_name': 'Brod...</td>\n",
       "      <td>2009</td>\n",
       "      <td>Information geometry in vapour–liquid equilibrium</td>\n",
       "      <td>023001</td>\n",
       "      <td>jour.1084797</td>\n",
       "      <td>Journal of Physics A: Mathematical and Theoret...</td>\n",
       "    </tr>\n",
       "    <tr>\n",
       "      <th>16</th>\n",
       "      <td>41</td>\n",
       "      <td>article</td>\n",
       "      <td>pub.1027415437</td>\n",
       "      <td>39</td>\n",
       "      <td>[[{'first_name': 'Carl M', 'last_name': 'Bende...</td>\n",
       "      <td>2008</td>\n",
       "      <td>Conjecture on the analyticity of {\\cal PT} -sy...</td>\n",
       "      <td>392005</td>\n",
       "      <td>jour.1084797</td>\n",
       "      <td>Journal of Physics A: Mathematical and Theoret...</td>\n",
       "    </tr>\n",
       "    <tr>\n",
       "      <th>17</th>\n",
       "      <td>41</td>\n",
       "      <td>article</td>\n",
       "      <td>pub.1012860743</td>\n",
       "      <td>35</td>\n",
       "      <td>[[{'first_name': 'Carl M', 'last_name': 'Bende...</td>\n",
       "      <td>2008</td>\n",
       "      <td>Quantum effects in classical systems having co...</td>\n",
       "      <td>352003</td>\n",
       "      <td>jour.1084797</td>\n",
       "      <td>Journal of Physics A: Mathematical and Theoret...</td>\n",
       "    </tr>\n",
       "    <tr>\n",
       "      <th>18</th>\n",
       "      <td>41</td>\n",
       "      <td>article</td>\n",
       "      <td>pub.1027141106</td>\n",
       "      <td>24</td>\n",
       "      <td>[[{'first_name': 'Carl M', 'last_name': 'Bende...</td>\n",
       "      <td>2008</td>\n",
       "      <td>Exact isospectral pairs of {\\cal P}{\\cal T} sy...</td>\n",
       "      <td>244005</td>\n",
       "      <td>jour.1084797</td>\n",
       "      <td>Journal of Physics A: Mathematical and Theoret...</td>\n",
       "    </tr>\n",
       "    <tr>\n",
       "      <th>19</th>\n",
       "      <td>41</td>\n",
       "      <td>article</td>\n",
       "      <td>pub.1020443337</td>\n",
       "      <td>1</td>\n",
       "      <td>[[{'first_name': 'D W', 'last_name': 'Hook', '...</td>\n",
       "      <td>2008</td>\n",
       "      <td>Geometry of Quantum States</td>\n",
       "      <td>019001</td>\n",
       "      <td>jour.1084797</td>\n",
       "      <td>Journal of Physics A: Mathematical and Theoret...</td>\n",
       "    </tr>\n",
       "  </tbody>\n",
       "</table>\n",
       "</div>"
      ],
      "text/plain": [
       "   volume     type              id issue  \\\n",
       "0      14  article  pub.1115957159     5   \n",
       "1       3  article  pub.1106289502   NaN   \n",
       "2      95  article  pub.1085511076     5   \n",
       "3      49  article  pub.1059174631    45   \n",
       "4     113  article  pub.1038047274    23   \n",
       "5     133  article  pub.1033519830     3   \n",
       "6      45  article  pub.1032716976    44   \n",
       "7     524  article  pub.1041921433   6‐7   \n",
       "8      22  article  pub.1025632328     2   \n",
       "9      44  article  pub.1028159934    37   \n",
       "10    NaN  chapter  pub.1044195510   NaN   \n",
       "11    325  article  pub.1050737187    11   \n",
       "12     43  article  pub.1032115462    16   \n",
       "13    104  article  pub.1036459050     6   \n",
       "14     73  article  pub.1021542691     3   \n",
       "15     42  article  pub.1006655528     2   \n",
       "16     41  article  pub.1027415437    39   \n",
       "17     41  article  pub.1012860743    35   \n",
       "18     41  article  pub.1027141106    24   \n",
       "19     41  article  pub.1020443337     1   \n",
       "\n",
       "                                  author_affiliations  year  \\\n",
       "0   [[{'first_name': 'David', 'last_name': 'Zeitly...  2019   \n",
       "1   [[{'first_name': 'Daniel W.', 'last_name': 'Ho...  2018   \n",
       "2   [[{'first_name': 'Carl M.', 'last_name': 'Bend...  2017   \n",
       "3   [[{'first_name': 'Carl M', 'last_name': 'Bende...  2016   \n",
       "4   [[{'first_name': 'Carl M', 'last_name': 'Bende...  2014   \n",
       "5   [[{'first_name': 'Carl M.', 'last_name': 'Bend...  2014   \n",
       "6   [[{'first_name': 'Carl M', 'last_name': 'Bende...  2012   \n",
       "7   [[{'first_name': 'D.W.', 'last_name': 'Hook', ...  2012   \n",
       "8   [[{'first_name': 'Shadi', 'last_name': 'Gholiz...  2012   \n",
       "9   [[{'first_name': 'Carl M', 'last_name': 'Bende...  2011   \n",
       "10  [[{'first_name': 'Carl M.', 'last_name': 'Bend...  2011   \n",
       "11  [[{'first_name': 'Carl M.', 'last_name': 'Bend...  2010   \n",
       "12  [[{'first_name': 'Carl M', 'last_name': 'Bende...  2010   \n",
       "13  [[{'first_name': 'Carl M.', 'last_name': 'Bend...  2010   \n",
       "14  [[{'first_name': 'Carl M.', 'last_name': 'Bend...  2009   \n",
       "15  [[{'first_name': 'Dorje C', 'last_name': 'Brod...  2009   \n",
       "16  [[{'first_name': 'Carl M', 'last_name': 'Bende...  2008   \n",
       "17  [[{'first_name': 'Carl M', 'last_name': 'Bende...  2008   \n",
       "18  [[{'first_name': 'Carl M', 'last_name': 'Bende...  2008   \n",
       "19  [[{'first_name': 'D W', 'last_name': 'Hook', '...  2008   \n",
       "\n",
       "                                                title      pages  \\\n",
       "0                   Perception, prestige and PageRank   e0216783   \n",
       "1   Dimensions: Building Context for Search and Ev...         23   \n",
       "2   Behavior of eigenvalues in a region of broken ...     052113   \n",
       "3   -symmetric interpretation of unstable effectiv...     45lt01   \n",
       "4   Infinite Class of PT-Symmetric Theories from O...     231605   \n",
       "5   Complex Classical Motion in Potentials with Po...    318-336   \n",
       "6   Negative-energy $\\mathcal {P}\\mathcal {T}$-sym...     444003   \n",
       "7       Non‐Hermitian potentials and real eigenvalues    106-107   \n",
       "8   The Discursive Construction of the 1978–1979 I...    174-186   \n",
       "9            Quantum tunneling as a classical anomaly     372001   \n",
       "10                          Complex elliptic pendulum       1-18   \n",
       "11           Probability density in the complex plane  2332-2362   \n",
       "12  Classical particle in a complex elliptic poten...     165201   \n",
       "13                   Complex Correspondence Principle     061601   \n",
       "14             Chaotic systems in complex phase space        453   \n",
       "15  Information geometry in vapour–liquid equilibrium     023001   \n",
       "16  Conjecture on the analyticity of {\\cal PT} -sy...     392005   \n",
       "17  Quantum effects in classical systems having co...     352003   \n",
       "18  Exact isospectral pairs of {\\cal P}{\\cal T} sy...     244005   \n",
       "19                         Geometry of Quantum States     019001   \n",
       "\n",
       "      journal.id                                      journal.title  \n",
       "0   jour.1037553                                           PLoS ONE  \n",
       "1   jour.1292498        Frontiers in Research Metrics and Analytics  \n",
       "2   jour.1053349                                  Physical Review A  \n",
       "3   jour.1084797  Journal of Physics A: Mathematical and Theoret...  \n",
       "4   jour.1018277                            Physical Review Letters  \n",
       "5   jour.1038268                     Studies in Applied Mathematics  \n",
       "6   jour.1084797  Journal of Physics A: Mathematical and Theoret...  \n",
       "7   jour.1056952                                 Annalen der Physik  \n",
       "8   jour.1101684   Journal of Community & Applied Social Psychology  \n",
       "9   jour.1084797  Journal of Physics A: Mathematical and Theoret...  \n",
       "10           NaN                                                NaN  \n",
       "11  jour.1017227                                  Annals of Physics  \n",
       "12  jour.1084797  Journal of Physics A: Mathematical and Theoret...  \n",
       "13  jour.1018277                            Physical Review Letters  \n",
       "14  jour.1036186                                            Pramana  \n",
       "15  jour.1084797  Journal of Physics A: Mathematical and Theoret...  \n",
       "16  jour.1084797  Journal of Physics A: Mathematical and Theoret...  \n",
       "17  jour.1084797  Journal of Physics A: Mathematical and Theoret...  \n",
       "18  jour.1084797  Journal of Physics A: Mathematical and Theoret...  \n",
       "19  jour.1084797  Journal of Physics A: Mathematical and Theoret...  "
      ]
     },
     "execution_count": 61,
     "metadata": {},
     "output_type": "execute_result"
    }
   ],
   "source": [
    "%dsldf search publications in authors for \"\\\"Hook, D.W.\\\"\" where research_org_names ~ \"London\""
   ]
  },
  {
   "cell_type": "markdown",
   "metadata": {
    "Collapsed": "false",
    "colab_type": "text",
    "id": "YBSdHL4Tywj4"
   },
   "source": [
    "## [DSL-403] Boosting full text syntax\n",
    "\n",
    "https://uberresearch.atlassian.net/browse/DSL-403"
   ]
  },
  {
   "cell_type": "markdown",
   "metadata": {
    "Collapsed": "false"
   },
   "source": [
    "Can see the new docs on https://docs.dimensions.ai/dsl/1.24.0-preview/language.html#term-boosting"
   ]
  },
  {
   "cell_type": "code",
   "execution_count": 62,
   "metadata": {
    "Collapsed": "false"
   },
   "outputs": [
    {
     "name": "stdout",
     "output_type": "stream",
     "text": [
      "Returned Publications: 20 (total = 1387)\n"
     ]
    },
    {
     "data": {
      "text/html": [
       "<div>\n",
       "<style scoped>\n",
       "    .dataframe tbody tr th:only-of-type {\n",
       "        vertical-align: middle;\n",
       "    }\n",
       "\n",
       "    .dataframe tbody tr th {\n",
       "        vertical-align: top;\n",
       "    }\n",
       "\n",
       "    .dataframe thead th {\n",
       "        text-align: right;\n",
       "    }\n",
       "</style>\n",
       "<table border=\"1\" class=\"dataframe\">\n",
       "  <thead>\n",
       "    <tr style=\"text-align: right;\">\n",
       "      <th></th>\n",
       "      <th>title</th>\n",
       "      <th>year</th>\n",
       "      <th>journal.id</th>\n",
       "      <th>journal.title</th>\n",
       "    </tr>\n",
       "  </thead>\n",
       "  <tbody>\n",
       "    <tr>\n",
       "      <th>0</th>\n",
       "      <td>Describing, comparing and analysing digital ur...</td>\n",
       "      <td>2020</td>\n",
       "      <td>jour.1151279</td>\n",
       "      <td>Digital Applications in Archaeology and Cultur...</td>\n",
       "    </tr>\n",
       "    <tr>\n",
       "      <th>1</th>\n",
       "      <td>Practical non-monotonic knowledge-base system ...</td>\n",
       "      <td>2020</td>\n",
       "      <td>jour.1121462</td>\n",
       "      <td>Information Processing &amp; Management</td>\n",
       "    </tr>\n",
       "    <tr>\n",
       "      <th>2</th>\n",
       "      <td>“Just-in-time” generation of datasets by consi...</td>\n",
       "      <td>2020</td>\n",
       "      <td>jour.1041769</td>\n",
       "      <td>Knowledge and Information Systems</td>\n",
       "    </tr>\n",
       "    <tr>\n",
       "      <th>3</th>\n",
       "      <td>Digital Cultural Heritage and Linked Data: Sem...</td>\n",
       "      <td>2020</td>\n",
       "      <td>jour.1140306</td>\n",
       "      <td>LIBER Quarterly</td>\n",
       "    </tr>\n",
       "    <tr>\n",
       "      <th>4</th>\n",
       "      <td>ConVRgence (VRIC) Virtual Reality Internationa...</td>\n",
       "      <td>2020</td>\n",
       "      <td>jour.1051167</td>\n",
       "      <td>International Journal of Virtual Reality</td>\n",
       "    </tr>\n",
       "    <tr>\n",
       "      <th>5</th>\n",
       "      <td>Report of the ALCTS/LITA Linked Library Data I...</td>\n",
       "      <td>2020</td>\n",
       "      <td>jour.1125087</td>\n",
       "      <td>Technical Services Quarterly</td>\n",
       "    </tr>\n",
       "    <tr>\n",
       "      <th>6</th>\n",
       "      <td>Affective Encounters with Tidal Livelihoods: D...</td>\n",
       "      <td>2020</td>\n",
       "      <td>jour.1142147</td>\n",
       "      <td>Environmental Communication</td>\n",
       "    </tr>\n",
       "    <tr>\n",
       "      <th>7</th>\n",
       "      <td>Listening to Indigenous Knowledge of the Land ...</td>\n",
       "      <td>2020</td>\n",
       "      <td>jour.1151291</td>\n",
       "      <td>Feminist Media Histories</td>\n",
       "    </tr>\n",
       "    <tr>\n",
       "      <th>8</th>\n",
       "      <td>The future of travel writing: Interactivity, p...</td>\n",
       "      <td>2020</td>\n",
       "      <td>jour.1052651</td>\n",
       "      <td>Tourism Management</td>\n",
       "    </tr>\n",
       "    <tr>\n",
       "      <th>9</th>\n",
       "      <td>Continuous, not discrete: The mutual influence...</td>\n",
       "      <td>2020</td>\n",
       "      <td>jour.1138940</td>\n",
       "      <td>Convergence The International Journal of Resea...</td>\n",
       "    </tr>\n",
       "    <tr>\n",
       "      <th>10</th>\n",
       "      <td>The enslaved ontology: Peoples of the historic...</td>\n",
       "      <td>2020</td>\n",
       "      <td>jour.1033697</td>\n",
       "      <td>Journal of Web Semantics</td>\n",
       "    </tr>\n",
       "    <tr>\n",
       "      <th>11</th>\n",
       "      <td>The finger of God is here! Past, present, and ...</td>\n",
       "      <td>2020</td>\n",
       "      <td>jour.1024673</td>\n",
       "      <td>Historian</td>\n",
       "    </tr>\n",
       "    <tr>\n",
       "      <th>12</th>\n",
       "      <td>A retrospective on Telos as a metamodeling lan...</td>\n",
       "      <td>2020</td>\n",
       "      <td>jour.1136300</td>\n",
       "      <td>Requirements Engineering</td>\n",
       "    </tr>\n",
       "    <tr>\n",
       "      <th>13</th>\n",
       "      <td>French Media Representations towards Sustainab...</td>\n",
       "      <td>2020</td>\n",
       "      <td>jour.1046556</td>\n",
       "      <td>Sustainability</td>\n",
       "    </tr>\n",
       "    <tr>\n",
       "      <th>14</th>\n",
       "      <td>Paradoxes of curating colonial memory</td>\n",
       "      <td>2020</td>\n",
       "      <td>jour.1028231</td>\n",
       "      <td>Archival Science</td>\n",
       "    </tr>\n",
       "    <tr>\n",
       "      <th>15</th>\n",
       "      <td>More than just a product: Strengthening litera...</td>\n",
       "      <td>2020</td>\n",
       "      <td>jour.1049941</td>\n",
       "      <td>Sociology Compass</td>\n",
       "    </tr>\n",
       "    <tr>\n",
       "      <th>16</th>\n",
       "      <td>Stan i perspektywy badań geograficzno-historyc...</td>\n",
       "      <td>2020</td>\n",
       "      <td>jour.1019105</td>\n",
       "      <td>TSG - Tijdschrift voor gezondheidswetenschappen</td>\n",
       "    </tr>\n",
       "    <tr>\n",
       "      <th>17</th>\n",
       "      <td>Tracking the history and evolution of entities...</td>\n",
       "      <td>2020</td>\n",
       "      <td>jour.1135728</td>\n",
       "      <td>International Journal on Digital Libraries</td>\n",
       "    </tr>\n",
       "    <tr>\n",
       "      <th>18</th>\n",
       "      <td>Information professionals meet Arthur Prior</td>\n",
       "      <td>2020</td>\n",
       "      <td>jour.1120510</td>\n",
       "      <td>Journal of Librarianship and Information Science</td>\n",
       "    </tr>\n",
       "    <tr>\n",
       "      <th>19</th>\n",
       "      <td>Spatial Archaeology: Mapping the Ancient Past ...</td>\n",
       "      <td>2020</td>\n",
       "      <td>jour.1100760</td>\n",
       "      <td>International Journal of Humanities and Arts C...</td>\n",
       "    </tr>\n",
       "  </tbody>\n",
       "</table>\n",
       "</div>"
      ],
      "text/plain": [
       "                                                title  year    journal.id  \\\n",
       "0   Describing, comparing and analysing digital ur...  2020  jour.1151279   \n",
       "1   Practical non-monotonic knowledge-base system ...  2020  jour.1121462   \n",
       "2   “Just-in-time” generation of datasets by consi...  2020  jour.1041769   \n",
       "3   Digital Cultural Heritage and Linked Data: Sem...  2020  jour.1140306   \n",
       "4   ConVRgence (VRIC) Virtual Reality Internationa...  2020  jour.1051167   \n",
       "5   Report of the ALCTS/LITA Linked Library Data I...  2020  jour.1125087   \n",
       "6   Affective Encounters with Tidal Livelihoods: D...  2020  jour.1142147   \n",
       "7   Listening to Indigenous Knowledge of the Land ...  2020  jour.1151291   \n",
       "8   The future of travel writing: Interactivity, p...  2020  jour.1052651   \n",
       "9   Continuous, not discrete: The mutual influence...  2020  jour.1138940   \n",
       "10  The enslaved ontology: Peoples of the historic...  2020  jour.1033697   \n",
       "11  The finger of God is here! Past, present, and ...  2020  jour.1024673   \n",
       "12  A retrospective on Telos as a metamodeling lan...  2020  jour.1136300   \n",
       "13  French Media Representations towards Sustainab...  2020  jour.1046556   \n",
       "14              Paradoxes of curating colonial memory  2020  jour.1028231   \n",
       "15  More than just a product: Strengthening litera...  2020  jour.1049941   \n",
       "16  Stan i perspektywy badań geograficzno-historyc...  2020  jour.1019105   \n",
       "17  Tracking the history and evolution of entities...  2020  jour.1135728   \n",
       "18        Information professionals meet Arthur Prior  2020  jour.1120510   \n",
       "19  Spatial Archaeology: Mapping the Ancient Past ...  2020  jour.1100760   \n",
       "\n",
       "                                        journal.title  \n",
       "0   Digital Applications in Archaeology and Cultur...  \n",
       "1                 Information Processing & Management  \n",
       "2                   Knowledge and Information Systems  \n",
       "3                                     LIBER Quarterly  \n",
       "4            International Journal of Virtual Reality  \n",
       "5                        Technical Services Quarterly  \n",
       "6                         Environmental Communication  \n",
       "7                            Feminist Media Histories  \n",
       "8                                  Tourism Management  \n",
       "9   Convergence The International Journal of Resea...  \n",
       "10                           Journal of Web Semantics  \n",
       "11                                          Historian  \n",
       "12                           Requirements Engineering  \n",
       "13                                     Sustainability  \n",
       "14                                   Archival Science  \n",
       "15                                  Sociology Compass  \n",
       "16    TSG - Tijdschrift voor gezondheidswetenschappen  \n",
       "17         International Journal on Digital Libraries  \n",
       "18   Journal of Librarianship and Information Science  \n",
       "19  International Journal of Humanities and Arts C...  "
      ]
     },
     "execution_count": 62,
     "metadata": {},
     "output_type": "execute_result"
    }
   ],
   "source": [
    "%dsldf search publications for \"\\\"digital humanities\\\"^4 history ontology\" where type=\"article\" return publications[title+journal+year]"
   ]
  },
  {
   "cell_type": "markdown",
   "metadata": {
    "Collapsed": "false",
    "colab_type": "text",
    "id": "YBSdHL4Tywj4"
   },
   "source": [
    "## [DSL-399] Add two new categorizations to the classify API\n",
    "\n",
    "https://uberresearch.atlassian.net/browse/DSL-399"
   ]
  },
  {
   "cell_type": "code",
   "execution_count": 63,
   "metadata": {
    "Collapsed": "false"
   },
   "outputs": [],
   "source": [
    "abstract = \"\"\"\n",
    "What does it mean for a student to come to an understanding of a philosophical standpoint and can the explosion of resources now available on the web support this process, or is it inclined instead to create more confusion? We believe that a possible answer to the problem of finding a means through the morass of information on the web to the philosophical insights it conceals lies in the process of narrative pathway generation. That is, the active linking of resources into a learning path that contextualizes them with respect to one another. This result can be achieved only if the content of the resources is indexed, not just their status as a text document, an image or a video. To this aim, we propose a formal conceptualization of the domain of philosophy, an ontology that would allow the categorization of resources according to a series of pre-agreed content descriptors. Within an e-learning scenario, a teacher could use a tool comprising such an ontology to annotate at various levels of granularity available philosophical materials, and let the students explore this semantic space in an unsupervised manner, according to pre-defined narrative pathways.\n",
    "\"\"\"\n",
    "title = \"Semantic Technologies for ELearning: A case study in the philosophical domain: representing Wittgenstein's Tractatus Logico-Philosophicus\""
   ]
  },
  {
   "cell_type": "code",
   "execution_count": 64,
   "metadata": {
    "Collapsed": "false"
   },
   "outputs": [
    {
     "name": "stdout",
     "output_type": "stream",
     "text": [
      "\n",
      "classify(title=\"Semantic Technologies for ELearning: A case study in the philosophical domain: representing Wittgenstein's Tractatus Logico-Philosophicus\", abstract=\"\n",
      "What does it mean for a student to come to an understanding of a philosophical standpoint and can the explosion of resources now available on the web support this process, or is it inclined instead to create more confusion? We believe that a possible answer to the problem of finding a means through the morass of information on the web to the philosophical insights it conceals lies in the process of narrative pathway generation. That is, the active linking of resources into a learning path that contextualizes them with respect to one another. This result can be achieved only if the content of the resources is indexed, not just their status as a text document, an image or a video. To this aim, we propose a formal conceptualization of the domain of philosophy, an ontology that would allow the categorization of resources according to a series of pre-agreed content descriptors. Within an e-learning scenario, a teacher could use a tool comprising such an ontology to annotate at various levels of granularity available philosophical materials, and let the students explore this semantic space in an unsupervised manner, according to pre-defined narrative pathways.\n",
      "\", system=\"UOA\")\n",
      "\n"
     ]
    },
    {
     "data": {
      "text/html": [
       "<div>\n",
       "<style scoped>\n",
       "    .dataframe tbody tr th:only-of-type {\n",
       "        vertical-align: middle;\n",
       "    }\n",
       "\n",
       "    .dataframe tbody tr th {\n",
       "        vertical-align: top;\n",
       "    }\n",
       "\n",
       "    .dataframe thead th {\n",
       "        text-align: right;\n",
       "    }\n",
       "</style>\n",
       "<table border=\"1\" class=\"dataframe\">\n",
       "  <thead>\n",
       "    <tr style=\"text-align: right;\">\n",
       "      <th></th>\n",
       "      <th>id</th>\n",
       "      <th>name</th>\n",
       "    </tr>\n",
       "  </thead>\n",
       "  <tbody>\n",
       "    <tr>\n",
       "      <th>0</th>\n",
       "      <td>30011</td>\n",
       "      <td>B11 Computer Science and Informatics</td>\n",
       "    </tr>\n",
       "  </tbody>\n",
       "</table>\n",
       "</div>"
      ],
      "text/plain": [
       "      id                                  name\n",
       "0  30011  B11 Computer Science and Informatics"
      ]
     },
     "execution_count": 64,
     "metadata": {},
     "output_type": "execute_result"
    }
   ],
   "source": [
    "q = \"\"\"\n",
    "classify(title=\"{}\", abstract=\"{}\", system=\"UOA\")\n",
    "\"\"\"\n",
    "qq = q.format(title, abstract)\n",
    "print(qq)\n",
    "dsl.query(qq).as_dataframe()"
   ]
  },
  {
   "cell_type": "code",
   "execution_count": 80,
   "metadata": {
    "Collapsed": "false"
   },
   "outputs": [
    {
     "name": "stdout",
     "output_type": "stream",
     "text": [
      "\n",
      "classify(title=\"Semantic Technologies for ELearning: A case study in the philosophical domain: representing Wittgenstein's Tractatus Logico-Philosophicus\", abstract=\"\n",
      "What does it mean for a student to come to an understanding of a philosophical standpoint and can the explosion of resources now available on the web support this process, or is it inclined instead to create more confusion? We believe that a possible answer to the problem of finding a means through the morass of information on the web to the philosophical insights it conceals lies in the process of narrative pathway generation. That is, the active linking of resources into a learning path that contextualizes them with respect to one another. This result can be achieved only if the content of the resources is indexed, not just their status as a text document, an image or a video. To this aim, we propose a formal conceptualization of the domain of philosophy, an ontology that would allow the categorization of resources according to a series of pre-agreed content descriptors. Within an e-learning scenario, a teacher could use a tool comprising such an ontology to annotate at various levels of granularity available philosophical materials, and let the students explore this semantic space in an unsupervised manner, according to pre-defined narrative pathways.\n",
      "\", system=\"SDG\")\n",
      "\n"
     ]
    },
    {
     "data": {
      "text/html": [
       "<div>\n",
       "<style scoped>\n",
       "    .dataframe tbody tr th:only-of-type {\n",
       "        vertical-align: middle;\n",
       "    }\n",
       "\n",
       "    .dataframe tbody tr th {\n",
       "        vertical-align: top;\n",
       "    }\n",
       "\n",
       "    .dataframe thead th {\n",
       "        text-align: right;\n",
       "    }\n",
       "</style>\n",
       "<table border=\"1\" class=\"dataframe\">\n",
       "  <thead>\n",
       "    <tr style=\"text-align: right;\">\n",
       "      <th></th>\n",
       "    </tr>\n",
       "  </thead>\n",
       "  <tbody>\n",
       "  </tbody>\n",
       "</table>\n",
       "</div>"
      ],
      "text/plain": [
       "Empty DataFrame\n",
       "Columns: []\n",
       "Index: []"
      ]
     },
     "execution_count": 80,
     "metadata": {},
     "output_type": "execute_result"
    }
   ],
   "source": [
    "q = \"\"\"\n",
    "classify(title=\"{}\", abstract=\"{}\", system=\"SDG\")\n",
    "\"\"\"\n",
    "qq = q.format(title, abstract)\n",
    "print(qq)\n",
    "dsl.query(qq).as_dataframe()"
   ]
  },
  {
   "cell_type": "code",
   "execution_count": 82,
   "metadata": {
    "Collapsed": "false"
   },
   "outputs": [
    {
     "data": {
      "text/html": [
       "<div>\n",
       "<style scoped>\n",
       "    .dataframe tbody tr th:only-of-type {\n",
       "        vertical-align: middle;\n",
       "    }\n",
       "\n",
       "    .dataframe tbody tr th {\n",
       "        vertical-align: top;\n",
       "    }\n",
       "\n",
       "    .dataframe thead th {\n",
       "        text-align: right;\n",
       "    }\n",
       "</style>\n",
       "<table border=\"1\" class=\"dataframe\">\n",
       "  <thead>\n",
       "    <tr style=\"text-align: right;\">\n",
       "      <th></th>\n",
       "      <th>id</th>\n",
       "      <th>name</th>\n",
       "    </tr>\n",
       "  </thead>\n",
       "  <tbody>\n",
       "    <tr>\n",
       "      <th>0</th>\n",
       "      <td>40007</td>\n",
       "      <td>7 Affordable and Clean Energy</td>\n",
       "    </tr>\n",
       "  </tbody>\n",
       "</table>\n",
       "</div>"
      ],
      "text/plain": [
       "      id                           name\n",
       "0  40007  7 Affordable and Clean Energy"
      ]
     },
     "execution_count": 82,
     "metadata": {},
     "output_type": "execute_result"
    }
   ],
   "source": [
    "dsl.query(\"\"\"\n",
    "classify(title=\"Modeling of flow uniformity by installing inlet distributor within the inflow part of a pressurized module using computational fluid dynamics\", abstract=\"Uniform flow distribution is a significant parameter for designing pressurized membrane modules because non-uniform flow distribution can cause serious local flux and fouling problems within a module. Thus, this study investigated the fluid behavior with regards to the evenness of water distribution using newly designed inlet distributors in the inflow part of a pressurized membrane module. From the results of velocity and pressure at the cross-sectional and outlet planes, we confirmed that a conventional membrane module with no distributor (non-distributor) had fluid that was concentrated at the central part. Case 1, which had a cross-shaped distributor, reduced the central concentration tendency, and Case 2, which had a round-shaped distributor, displayed a relatively uniform flow based on the velocity, pressure, flux, and standard deviation data. Here, the non-uniformity coefficient (N) and energy utilization (η) for Cases 1 and 2 showed a lower non-uniformity coefficient (0.030 and 0.017, respectively) than for the Non-distributor (0.039). The energy utilization of Cases 1 and 2 were higher (1.35e-0.5 and 1.46e-05) than the Non-distributor (1.64e-05). Overall, we confirmed that the inlet distributors led to increased evenness of flow distribution within an inflow part.\", system=\"SDG\")\n",
    "\"\"\").as_dataframe()"
   ]
  },
  {
   "cell_type": "markdown",
   "metadata": {
    "Collapsed": "false",
    "colab_type": "text",
    "id": "YBSdHL4Tywj4"
   },
   "source": [
    "## [DSL-398] LuceneParser: deal with apostrophe (bug)\n",
    "\n",
    "https://uberresearch.atlassian.net/browse/DSL-398"
   ]
  },
  {
   "cell_type": "code",
   "execution_count": 66,
   "metadata": {
    "Collapsed": "false"
   },
   "outputs": [
    {
     "name": "stdout",
     "output_type": "stream",
     "text": [
      "Returned Research_orgs: 200\n"
     ]
    },
    {
     "data": {
      "text/html": [
       "<div>\n",
       "<style scoped>\n",
       "    .dataframe tbody tr th:only-of-type {\n",
       "        vertical-align: middle;\n",
       "    }\n",
       "\n",
       "    .dataframe tbody tr th {\n",
       "        vertical-align: top;\n",
       "    }\n",
       "\n",
       "    .dataframe thead th {\n",
       "        text-align: right;\n",
       "    }\n",
       "</style>\n",
       "<table border=\"1\" class=\"dataframe\">\n",
       "  <thead>\n",
       "    <tr style=\"text-align: right;\">\n",
       "      <th></th>\n",
       "      <th>id</th>\n",
       "      <th>count</th>\n",
       "      <th>types</th>\n",
       "      <th>name</th>\n",
       "    </tr>\n",
       "  </thead>\n",
       "  <tbody>\n",
       "    <tr>\n",
       "      <th>0</th>\n",
       "      <td>grid.83440.3b</td>\n",
       "      <td>213</td>\n",
       "      <td>[Education]</td>\n",
       "      <td>University College London</td>\n",
       "    </tr>\n",
       "    <tr>\n",
       "      <th>1</th>\n",
       "      <td>grid.17091.3e</td>\n",
       "      <td>130</td>\n",
       "      <td>[Education]</td>\n",
       "      <td>University of British Columbia</td>\n",
       "    </tr>\n",
       "    <tr>\n",
       "      <th>2</th>\n",
       "      <td>grid.5600.3</td>\n",
       "      <td>130</td>\n",
       "      <td>[Education]</td>\n",
       "      <td>Cardiff University</td>\n",
       "    </tr>\n",
       "    <tr>\n",
       "      <th>3</th>\n",
       "      <td>grid.10419.3d</td>\n",
       "      <td>129</td>\n",
       "      <td>[Healthcare]</td>\n",
       "      <td>Leiden University Medical Center</td>\n",
       "    </tr>\n",
       "    <tr>\n",
       "      <th>4</th>\n",
       "      <td>grid.214572.7</td>\n",
       "      <td>119</td>\n",
       "      <td>[Education]</td>\n",
       "      <td>University of Iowa</td>\n",
       "    </tr>\n",
       "    <tr>\n",
       "      <th>...</th>\n",
       "      <td>...</td>\n",
       "      <td>...</td>\n",
       "      <td>...</td>\n",
       "      <td>...</td>\n",
       "    </tr>\n",
       "    <tr>\n",
       "      <th>195</th>\n",
       "      <td>grid.15444.30</td>\n",
       "      <td>11</td>\n",
       "      <td>[Education]</td>\n",
       "      <td>Yonsei University</td>\n",
       "    </tr>\n",
       "    <tr>\n",
       "      <th>196</th>\n",
       "      <td>grid.1649.a</td>\n",
       "      <td>11</td>\n",
       "      <td>[Healthcare]</td>\n",
       "      <td>Sahlgrenska University Hospital</td>\n",
       "    </tr>\n",
       "    <tr>\n",
       "      <th>197</th>\n",
       "      <td>grid.16872.3a</td>\n",
       "      <td>11</td>\n",
       "      <td>[Healthcare]</td>\n",
       "      <td>VU University Medical Center</td>\n",
       "    </tr>\n",
       "    <tr>\n",
       "      <th>198</th>\n",
       "      <td>grid.22072.35</td>\n",
       "      <td>11</td>\n",
       "      <td>[Education]</td>\n",
       "      <td>University of Calgary</td>\n",
       "    </tr>\n",
       "    <tr>\n",
       "      <th>199</th>\n",
       "      <td>grid.223827.e</td>\n",
       "      <td>11</td>\n",
       "      <td>[Education]</td>\n",
       "      <td>University of Utah</td>\n",
       "    </tr>\n",
       "  </tbody>\n",
       "</table>\n",
       "<p>200 rows × 4 columns</p>\n",
       "</div>"
      ],
      "text/plain": [
       "                id  count         types                              name\n",
       "0    grid.83440.3b    213   [Education]         University College London\n",
       "1    grid.17091.3e    130   [Education]    University of British Columbia\n",
       "2      grid.5600.3    130   [Education]                Cardiff University\n",
       "3    grid.10419.3d    129  [Healthcare]  Leiden University Medical Center\n",
       "4    grid.214572.7    119   [Education]                University of Iowa\n",
       "..             ...    ...           ...                               ...\n",
       "195  grid.15444.30     11   [Education]                 Yonsei University\n",
       "196    grid.1649.a     11  [Healthcare]   Sahlgrenska University Hospital\n",
       "197  grid.16872.3a     11  [Healthcare]      VU University Medical Center\n",
       "198  grid.22072.35     11   [Education]             University of Calgary\n",
       "199  grid.223827.e     11   [Education]                University of Utah\n",
       "\n",
       "[200 rows x 4 columns]"
      ]
     },
     "execution_count": 66,
     "metadata": {},
     "output_type": "execute_result"
    }
   ],
   "source": [
    "%%dsldf\n",
    "\n",
    "search publications in title_abstract_only for \"huntington's disease\"\n",
    "    where year in [2016:2020]\n",
    "    return research_orgs[id+types+name] limit 200"
   ]
  },
  {
   "cell_type": "code",
   "execution_count": 67,
   "metadata": {
    "Collapsed": "false"
   },
   "outputs": [
    {
     "name": "stdout",
     "output_type": "stream",
     "text": [
      "Too Many Requests for the Server. Sleeping for 30 seconds and then retrying.\n",
      "Returned Publications: 10 (total = 18)\n"
     ]
    },
    {
     "data": {
      "text/html": [
       "<div>\n",
       "<style scoped>\n",
       "    .dataframe tbody tr th:only-of-type {\n",
       "        vertical-align: middle;\n",
       "    }\n",
       "\n",
       "    .dataframe tbody tr th {\n",
       "        vertical-align: top;\n",
       "    }\n",
       "\n",
       "    .dataframe thead th {\n",
       "        text-align: right;\n",
       "    }\n",
       "</style>\n",
       "<table border=\"1\" class=\"dataframe\">\n",
       "  <thead>\n",
       "    <tr style=\"text-align: right;\">\n",
       "      <th></th>\n",
       "      <th>volume</th>\n",
       "      <th>type</th>\n",
       "      <th>id</th>\n",
       "      <th>issue</th>\n",
       "      <th>author_affiliations</th>\n",
       "      <th>year</th>\n",
       "      <th>title</th>\n",
       "      <th>pages</th>\n",
       "      <th>journal.id</th>\n",
       "      <th>journal.title</th>\n",
       "    </tr>\n",
       "  </thead>\n",
       "  <tbody>\n",
       "    <tr>\n",
       "      <th>0</th>\n",
       "      <td>13</td>\n",
       "      <td>article</td>\n",
       "      <td>pub.1123722405</td>\n",
       "      <td>2</td>\n",
       "      <td>[[{'first_name': 'Meta Lenart', 'last_name': '...</td>\n",
       "      <td>2019</td>\n",
       "      <td>Sulle tracce di Giovanna d’Arco tra mito e doc...</td>\n",
       "      <td>119-131</td>\n",
       "      <td>jour.1143410</td>\n",
       "      <td>Ars &amp; Humanitas</td>\n",
       "    </tr>\n",
       "    <tr>\n",
       "      <th>1</th>\n",
       "      <td>62</td>\n",
       "      <td>article</td>\n",
       "      <td>pub.1090551325</td>\n",
       "      <td>1</td>\n",
       "      <td>[[{'first_name': 'Adél', 'last_name': 'Fekete'...</td>\n",
       "      <td>2017</td>\n",
       "      <td>IV. Prayers of Female Protagonists in Giuseppe...</td>\n",
       "      <td>203-217</td>\n",
       "      <td>jour.1299915</td>\n",
       "      <td>Studia Universitatis Babeş-Bolyai Musica</td>\n",
       "    </tr>\n",
       "    <tr>\n",
       "      <th>2</th>\n",
       "      <td>NaN</td>\n",
       "      <td>article</td>\n",
       "      <td>pub.1071130898</td>\n",
       "      <td>21</td>\n",
       "      <td>[[{'first_name': 'Clizia', 'last_name': 'Magon...</td>\n",
       "      <td>2016</td>\n",
       "      <td>Giovanna d'Arco, una storia senza tempo</td>\n",
       "      <td>52-56</td>\n",
       "      <td>jour.1145232</td>\n",
       "      <td>Historia Magistra</td>\n",
       "    </tr>\n",
       "    <tr>\n",
       "      <th>3</th>\n",
       "      <td>NaN</td>\n",
       "      <td>chapter</td>\n",
       "      <td>pub.1012392714</td>\n",
       "      <td>NaN</td>\n",
       "      <td>[[{'first_name': 'Anselm', 'last_name': 'Gerha...</td>\n",
       "      <td>2013</td>\n",
       "      <td>Giovanna d’Arco</td>\n",
       "      <td>370-374</td>\n",
       "      <td>NaN</td>\n",
       "      <td>NaN</td>\n",
       "    </tr>\n",
       "    <tr>\n",
       "      <th>4</th>\n",
       "      <td>4</td>\n",
       "      <td>article</td>\n",
       "      <td>pub.1100984863</td>\n",
       "      <td>1</td>\n",
       "      <td>[[{'first_name': '', 'last_name': 'Friba of RA...</td>\n",
       "      <td>2008</td>\n",
       "      <td>Life sketch of martyred Meena, founding leader...</td>\n",
       "      <td>21-34</td>\n",
       "      <td>jour.1276887</td>\n",
       "      <td>Storia delle Donne</td>\n",
       "    </tr>\n",
       "    <tr>\n",
       "      <th>5</th>\n",
       "      <td>60</td>\n",
       "      <td>article</td>\n",
       "      <td>pub.1009399440</td>\n",
       "      <td>3</td>\n",
       "      <td>[[{'first_name': 'Francesco', 'last_name': 'Iz...</td>\n",
       "      <td>2007</td>\n",
       "      <td>Verdi, the Virgin, and the Censor: The Politic...</td>\n",
       "      <td>557-597</td>\n",
       "      <td>jour.1137058</td>\n",
       "      <td>Journal of the American Musicological Society</td>\n",
       "    </tr>\n",
       "    <tr>\n",
       "      <th>6</th>\n",
       "      <td>NaN</td>\n",
       "      <td>article</td>\n",
       "      <td>pub.1034827718</td>\n",
       "      <td>25</td>\n",
       "      <td>[[{'first_name': 'Julie', 'last_name': 'DERAMO...</td>\n",
       "      <td>2007</td>\n",
       "      <td>Jeanne d'Arc et ses voix, dans deux opéras, Ve...</td>\n",
       "      <td>NaN</td>\n",
       "      <td>jour.1041485</td>\n",
       "      <td>Clio</td>\n",
       "    </tr>\n",
       "    <tr>\n",
       "      <th>7</th>\n",
       "      <td>86</td>\n",
       "      <td>article</td>\n",
       "      <td>pub.1059910469</td>\n",
       "      <td>2</td>\n",
       "      <td>[[{'first_name': 'Alberto', 'last_name': 'Rizz...</td>\n",
       "      <td>2005</td>\n",
       "      <td>Viganò’s ‘Giovanna d’Arco’ and Manzoni’s ‘Marc...</td>\n",
       "      <td>186-201</td>\n",
       "      <td>jour.1025189</td>\n",
       "      <td>Music and Letters</td>\n",
       "    </tr>\n",
       "    <tr>\n",
       "      <th>8</th>\n",
       "      <td>21</td>\n",
       "      <td>article</td>\n",
       "      <td>pub.1059955903</td>\n",
       "      <td>2</td>\n",
       "      <td>[[{'first_name': 'G.', 'last_name': 'Martin', ...</td>\n",
       "      <td>2005</td>\n",
       "      <td>Verdi Onstage in the United States: Giovanna d...</td>\n",
       "      <td>242-263</td>\n",
       "      <td>jour.1051906</td>\n",
       "      <td>The Opera Quarterly</td>\n",
       "    </tr>\n",
       "    <tr>\n",
       "      <th>9</th>\n",
       "      <td>NaN</td>\n",
       "      <td>chapter</td>\n",
       "      <td>pub.1100330910</td>\n",
       "      <td>NaN</td>\n",
       "      <td>[[{'first_name': 'Roger', 'last_name': 'Parker...</td>\n",
       "      <td>2002</td>\n",
       "      <td>Giovanna d’Arco</td>\n",
       "      <td>NaN</td>\n",
       "      <td>NaN</td>\n",
       "      <td>NaN</td>\n",
       "    </tr>\n",
       "  </tbody>\n",
       "</table>\n",
       "</div>"
      ],
      "text/plain": [
       "  volume     type              id issue  \\\n",
       "0     13  article  pub.1123722405     2   \n",
       "1     62  article  pub.1090551325     1   \n",
       "2    NaN  article  pub.1071130898    21   \n",
       "3    NaN  chapter  pub.1012392714   NaN   \n",
       "4      4  article  pub.1100984863     1   \n",
       "5     60  article  pub.1009399440     3   \n",
       "6    NaN  article  pub.1034827718    25   \n",
       "7     86  article  pub.1059910469     2   \n",
       "8     21  article  pub.1059955903     2   \n",
       "9    NaN  chapter  pub.1100330910   NaN   \n",
       "\n",
       "                                 author_affiliations  year  \\\n",
       "0  [[{'first_name': 'Meta Lenart', 'last_name': '...  2019   \n",
       "1  [[{'first_name': 'Adél', 'last_name': 'Fekete'...  2017   \n",
       "2  [[{'first_name': 'Clizia', 'last_name': 'Magon...  2016   \n",
       "3  [[{'first_name': 'Anselm', 'last_name': 'Gerha...  2013   \n",
       "4  [[{'first_name': '', 'last_name': 'Friba of RA...  2008   \n",
       "5  [[{'first_name': 'Francesco', 'last_name': 'Iz...  2007   \n",
       "6  [[{'first_name': 'Julie', 'last_name': 'DERAMO...  2007   \n",
       "7  [[{'first_name': 'Alberto', 'last_name': 'Rizz...  2005   \n",
       "8  [[{'first_name': 'G.', 'last_name': 'Martin', ...  2005   \n",
       "9  [[{'first_name': 'Roger', 'last_name': 'Parker...  2002   \n",
       "\n",
       "                                               title    pages    journal.id  \\\n",
       "0  Sulle tracce di Giovanna d’Arco tra mito e doc...  119-131  jour.1143410   \n",
       "1  IV. Prayers of Female Protagonists in Giuseppe...  203-217  jour.1299915   \n",
       "2            Giovanna d'Arco, una storia senza tempo    52-56  jour.1145232   \n",
       "3                                    Giovanna d’Arco  370-374           NaN   \n",
       "4  Life sketch of martyred Meena, founding leader...    21-34  jour.1276887   \n",
       "5  Verdi, the Virgin, and the Censor: The Politic...  557-597  jour.1137058   \n",
       "6  Jeanne d'Arc et ses voix, dans deux opéras, Ve...      NaN  jour.1041485   \n",
       "7  Viganò’s ‘Giovanna d’Arco’ and Manzoni’s ‘Marc...  186-201  jour.1025189   \n",
       "8  Verdi Onstage in the United States: Giovanna d...  242-263  jour.1051906   \n",
       "9                                    Giovanna d’Arco      NaN           NaN   \n",
       "\n",
       "                                   journal.title  \n",
       "0                                Ars & Humanitas  \n",
       "1       Studia Universitatis Babeş-Bolyai Musica  \n",
       "2                              Historia Magistra  \n",
       "3                                            NaN  \n",
       "4                             Storia delle Donne  \n",
       "5  Journal of the American Musicological Society  \n",
       "6                                           Clio  \n",
       "7                              Music and Letters  \n",
       "8                            The Opera Quarterly  \n",
       "9                                            NaN  "
      ]
     },
     "execution_count": 67,
     "metadata": {},
     "output_type": "execute_result"
    }
   ],
   "source": [
    "%%dsldf\n",
    "\n",
    "search publications in title_abstract_only for \"Giovanna D'Arco\"\n",
    "    return publications limit 10"
   ]
  },
  {
   "cell_type": "markdown",
   "metadata": {
    "Collapsed": "false",
    "colab_type": "text",
    "id": "YBSdHL4Tywj4"
   },
   "source": [
    "## [DSL-362] Be more robust in dealing with quotes messed up by slack/google docs\n",
    "\n",
    "https://uberresearch.atlassian.net/browse/DSL-362"
   ]
  },
  {
   "cell_type": "code",
   "execution_count": 68,
   "metadata": {
    "Collapsed": "false"
   },
   "outputs": [],
   "source": [
    "q1 = \"\"\"search publications for \n",
    "“\\”2019-nCoV\\” OR \\“COVID-19\\” OR \\“SARS-CoV-2\\” OR \\“HCoV-2019\\” OR \\“hcov\\” OR \\“NCOVID-19\\” OR \\“severe acute respiratory syndrome coronavirus 2\\” OR \\“severe acute respiratory syndrome corona virus 2\\” OR ((\\“coronavirus\\” OR \\“corona virus\\“) AND (Wuhan OR China OR novel))”\n",
    " return publications limit 1\"\"\""
   ]
  },
  {
   "cell_type": "code",
   "execution_count": 69,
   "metadata": {
    "Collapsed": "false"
   },
   "outputs": [
    {
     "name": "stdout",
     "output_type": "stream",
     "text": [
      "Returned Publications: 1 (total = 9503)\n"
     ]
    },
    {
     "data": {
      "application/json": {
       "_stats": {
        "limit": 1,
        "offset": 0,
        "total_count": 9503
       },
       "_version": {
        "release": "1.24",
        "version": "1.24.0"
       },
       "publications": [
        {
         "author_affiliations": [
          [
           {
            "affiliations": [
             {
              "city": "Chengdu",
              "city_id": 1815286,
              "country": "China",
              "country_code": "CN",
              "id": "grid.13291.38",
              "name": "Sichuan University",
              "state": null,
              "state_code": null
             }
            ],
            "corresponding": "",
            "current_organization_id": "grid.13291.38",
            "first_name": "Xian",
            "initials": "",
            "last_name": "Peng",
            "orcid": "",
            "researcher_id": "ur.010477606075.15"
           },
           {
            "affiliations": [
             {
              "city": "Chengdu",
              "city_id": 1815286,
              "country": "China",
              "country_code": "CN",
              "id": "grid.13291.38",
              "name": "Sichuan University",
              "state": null,
              "state_code": null
             }
            ],
            "corresponding": "",
            "current_organization_id": "grid.13291.38",
            "first_name": "Xin",
            "initials": "",
            "last_name": "Xu",
            "orcid": "['0000-0003-4608-4556']",
            "researcher_id": "ur.012724547347.18"
           },
           {
            "affiliations": [
             {
              "city": "Chengdu",
              "city_id": 1815286,
              "country": "China",
              "country_code": "CN",
              "id": "grid.13291.38",
              "name": "Sichuan University",
              "state": null,
              "state_code": null
             }
            ],
            "corresponding": "",
            "current_organization_id": "",
            "first_name": "Yuqing",
            "initials": "",
            "last_name": "Li",
            "orcid": "",
            "researcher_id": ""
           },
           {
            "affiliations": [
             {
              "city": "Chengdu",
              "city_id": 1815286,
              "country": "China",
              "country_code": "CN",
              "id": "grid.13291.38",
              "name": "Sichuan University",
              "state": null,
              "state_code": null
             }
            ],
            "corresponding": "",
            "current_organization_id": "grid.13291.38",
            "first_name": "Lei",
            "initials": "",
            "last_name": "Cheng",
            "orcid": "['0000-0002-2762-4740']",
            "researcher_id": "ur.07473374347.25"
           },
           {
            "affiliations": [
             {
              "city": "Chengdu",
              "city_id": 1815286,
              "country": "China",
              "country_code": "CN",
              "id": "grid.13291.38",
              "name": "Sichuan University",
              "state": null,
              "state_code": null
             }
            ],
            "corresponding": true,
            "current_organization_id": "grid.13291.38",
            "first_name": "Xuedong",
            "initials": "",
            "last_name": "Zhou",
            "orcid": "",
            "researcher_id": "ur.014237646665.09"
           },
           {
            "affiliations": [
             {
              "city": "Chengdu",
              "city_id": 1815286,
              "country": "China",
              "country_code": "CN",
              "id": "grid.13291.38",
              "name": "Sichuan University",
              "state": null,
              "state_code": null
             }
            ],
            "corresponding": true,
            "current_organization_id": "grid.13291.38",
            "first_name": "Biao",
            "initials": "",
            "last_name": "Ren",
            "orcid": "",
            "researcher_id": "ur.01350451445.04"
           }
          ]
         ],
         "id": "pub.1125329978",
         "issue": "1",
         "journal": {
          "id": "jour.1041424",
          "title": "International Journal of Oral Science"
         },
         "pages": "9",
         "title": "Transmission routes of 2019-nCoV and controls in dental practice",
         "type": "article",
         "volume": "12",
         "year": 2020
        }
       ]
      },
      "text/plain": [
       "<dimcli.Dataset object #4716160656. Records: 1/9503>"
      ]
     },
     "execution_count": 69,
     "metadata": {
      "application/json": {
       "expanded": false,
       "root": "root"
      }
     },
     "output_type": "execute_result"
    }
   ],
   "source": [
    "dsl.query(q1)"
   ]
  },
  {
   "cell_type": "markdown",
   "metadata": {
    "Collapsed": "false"
   },
   "source": [
    "#### Can't reproduce the query from Bob though..\n",
    "\n",
    "Prob just an issue of too many quotes - a smaller version of the query works (see below)"
   ]
  },
  {
   "cell_type": "code",
   "execution_count": 70,
   "metadata": {
    "Collapsed": "false"
   },
   "outputs": [
    {
     "name": "stdout",
     "output_type": "stream",
     "text": [
      "Returned Errors: 1\n",
      "4 QuerySyntaxErrors found\n",
      "2 LexerErrors found\n",
      "  * [Line 2:1164] ('ïve OR naïve OR untreated)') token recognition error at: 'ï'\n",
      "  * [Line 2:1173] ('ïve OR untreated)') token recognition error at: 'ï'\n",
      "2 ParserErrors found\n",
      "  * [Line 2:0] ('(') extraneous input '(' expecting {'text', NAME, STRING}\n",
      "  * [Line 2:17] ('OR') mismatched input 'OR' expecting 'return'\n"
     ]
    },
    {
     "data": {
      "application/json": {
       "errors": {
        "query": {
         "details": [
          "2 LexerErrors found\n  * [Line 2:1164] ('ïve OR naïve OR untreated)') token recognition error at: 'ï'\n  * [Line 2:1173] ('ïve OR untreated)') token recognition error at: 'ï'",
          "2 ParserErrors found\n  * [Line 2:0] ('(') extraneous input '(' expecting {'text', NAME, STRING}\n  * [Line 2:17] ('OR') mismatched input 'OR' expecting 'return'"
         ],
         "header": "4 QuerySyntaxErrors found\n",
         "query": "search publications for \n(“adverse event” OR AE OR safety OR toxicity OR tolerability OR \"Antibodies, Monoclonal, Humanized/adverse effects\"[MeSH Terms] OR \"Antineoplastic Agents/adverse effects\"[MAJR] OR hypothyroidism OR hyperthyroidism OR rash OR dermatitis OR pruritus OR colitis OR diarrhea OR hepatitis OR hepatotoxicity OR Nausea OR arthritis OR arthralgia OR fatigue OR “Infusion reaction” OR “Infusion-related” OR hypophysitis OR pancreatitis OR “cardiac events” OR “MACE” OR “CV events” or “Cardiovascular events” OR “thrombotic events” OR hemorrhage OR myocarditis) AND (“renal cell carcinoma” OR \"Carcinoma, Renal Cell\"[MeSH]) AND ((TKI OR “tyrosine kinase inhibitor” OR \"Protein Kinase Inhibitors\" [Pharmacological Action] OR axitinib OR cabozantinib OR lenvatinib OR sunitinib) OR (“Antineoplastic Agents, Immunological”[Pharmacological Action] OR “programmed death ligand 1” OR PD-L1 OR avelumab OR bavencio OR “programmed cell death protein 1” OR PD-1 OR pembrolizumab OR keytruda OR “mammalian target of rapamycin” OR everolimus OR afinitor OR nivolumab OR opdivo OR “checkpoint inhibitor”)) AND (“first line” OR first-line OR front-line OR “front line” OR frontline OR naïve OR naïve OR untreated)\nreturn publications limit 1 "
        }
       }
      },
      "text/plain": [
       "<dimcli.Dataset object #4716021328. Errors: 1>"
      ]
     },
     "execution_count": 70,
     "metadata": {
      "application/json": {
       "expanded": false,
       "root": "root"
      }
     },
     "output_type": "execute_result"
    }
   ],
   "source": [
    "q2 = \"\"\"search publications for \n",
    "(“adverse event” OR AE OR safety OR toxicity OR tolerability OR \"Antibodies, Monoclonal, Humanized/adverse effects\"[MeSH Terms] OR \"Antineoplastic Agents/adverse effects\"[MAJR] OR hypothyroidism OR hyperthyroidism OR rash OR dermatitis OR pruritus OR colitis OR diarrhea OR hepatitis OR hepatotoxicity OR Nausea OR arthritis OR arthralgia OR fatigue OR “Infusion reaction” OR “Infusion-related” OR hypophysitis OR pancreatitis OR “cardiac events” OR “MACE” OR “CV events” or “Cardiovascular events” OR “thrombotic events” OR hemorrhage OR myocarditis) AND (“renal cell carcinoma” OR \"Carcinoma, Renal Cell\"[MeSH]) AND ((TKI OR “tyrosine kinase inhibitor” OR \"Protein Kinase Inhibitors\" [Pharmacological Action] OR axitinib OR cabozantinib OR lenvatinib OR sunitinib) OR (“Antineoplastic Agents, Immunological”[Pharmacological Action] OR “programmed death ligand 1” OR PD-L1 OR avelumab OR bavencio OR “programmed cell death protein 1” OR PD-1 OR pembrolizumab OR keytruda OR “mammalian target of rapamycin” OR everolimus OR afinitor OR nivolumab OR opdivo OR “checkpoint inhibitor”)) AND (“first line” OR first-line OR front-line OR “front line” OR frontline OR naïve OR naïve OR untreated)\n",
    "return publications limit 1 \"\"\"\n",
    "dsl.query(q2)"
   ]
  },
  {
   "cell_type": "code",
   "execution_count": 71,
   "metadata": {
    "Collapsed": "false"
   },
   "outputs": [
    {
     "name": "stdout",
     "output_type": "stream",
     "text": [
      "Returned Publications: 1 (total = 5633079)\n"
     ]
    },
    {
     "data": {
      "application/json": {
       "_stats": {
        "limit": 1,
        "offset": 0,
        "total_count": 5633079
       },
       "_version": {
        "release": "1.24",
        "version": "1.24.0"
       },
       "publications": [
        {
         "id": "pub.1123550575",
         "pages": "1-46",
         "title": "Einleitung",
         "type": "chapter",
         "year": 2020
        }
       ]
      },
      "text/plain": [
       "<dimcli.Dataset object #4716021072. Records: 1/5633079>"
      ]
     },
     "execution_count": 71,
     "metadata": {
      "application/json": {
       "expanded": false,
       "root": "root"
      }
     },
     "output_type": "execute_result"
    }
   ],
   "source": [
    "%%dsl \n",
    "\n",
    "search publications for \n",
    "\"(\\“adverse event\\” OR AE OR safety OR toxicity OR tolerability OR \\\"Antibodies, Monoclonal, Humanizedadverse effects\\\")\"\n",
    "\n",
    "return publications limit 1"
   ]
  },
  {
   "cell_type": "markdown",
   "metadata": {
    "Collapsed": "false",
    "colab_type": "text",
    "id": "YBSdHL4Tywj4"
   },
   "source": [
    "## [DSL-309] Units of Assessment for Grants\n",
    "\n",
    "https://uberresearch.atlassian.net/browse/DSL-309"
   ]
  },
  {
   "cell_type": "markdown",
   "metadata": {
    "Collapsed": "false"
   },
   "source": [
    "get some stats"
   ]
  },
  {
   "cell_type": "code",
   "execution_count": 72,
   "metadata": {
    "Collapsed": "false"
   },
   "outputs": [
    {
     "name": "stdout",
     "output_type": "stream",
     "text": [
      "Returned Grants: 20 (total = 3346986)\n"
     ]
    },
    {
     "data": {
      "text/plain": [
       "{'total_count': 3346986}"
      ]
     },
     "execution_count": 72,
     "metadata": {},
     "output_type": "execute_result"
    }
   ],
   "source": [
    "dslquery(\"search grants where category_uoa is not empty return grants\").stats"
   ]
  },
  {
   "cell_type": "markdown",
   "metadata": {
    "Collapsed": "false"
   },
   "source": [
    "get an overview of how many docs per category"
   ]
  },
  {
   "cell_type": "code",
   "execution_count": 73,
   "metadata": {
    "Collapsed": "false"
   },
   "outputs": [
    {
     "name": "stdout",
     "output_type": "stream",
     "text": [
      "Returned Category_uoa: 20\n"
     ]
    },
    {
     "data": {
      "text/html": [
       "<div>\n",
       "<style scoped>\n",
       "    .dataframe tbody tr th:only-of-type {\n",
       "        vertical-align: middle;\n",
       "    }\n",
       "\n",
       "    .dataframe tbody tr th {\n",
       "        vertical-align: top;\n",
       "    }\n",
       "\n",
       "    .dataframe thead th {\n",
       "        text-align: right;\n",
       "    }\n",
       "</style>\n",
       "<table border=\"1\" class=\"dataframe\">\n",
       "  <thead>\n",
       "    <tr style=\"text-align: right;\">\n",
       "      <th></th>\n",
       "      <th>id</th>\n",
       "      <th>count</th>\n",
       "      <th>name</th>\n",
       "    </tr>\n",
       "  </thead>\n",
       "  <tbody>\n",
       "    <tr>\n",
       "      <th>0</th>\n",
       "      <td>30012</td>\n",
       "      <td>13039569</td>\n",
       "      <td>B12 Engineering</td>\n",
       "    </tr>\n",
       "    <tr>\n",
       "      <th>1</th>\n",
       "      <td>30001</td>\n",
       "      <td>7723142</td>\n",
       "      <td>A01 Clinical Medicine</td>\n",
       "    </tr>\n",
       "    <tr>\n",
       "      <th>2</th>\n",
       "      <td>30003</td>\n",
       "      <td>5479395</td>\n",
       "      <td>A03 Allied Health Professions, Dentistry, Nurs...</td>\n",
       "    </tr>\n",
       "    <tr>\n",
       "      <th>3</th>\n",
       "      <td>30011</td>\n",
       "      <td>3501897</td>\n",
       "      <td>B11 Computer Science and Informatics</td>\n",
       "    </tr>\n",
       "    <tr>\n",
       "      <th>4</th>\n",
       "      <td>30008</td>\n",
       "      <td>2684717</td>\n",
       "      <td>B08 Chemistry</td>\n",
       "    </tr>\n",
       "    <tr>\n",
       "      <th>5</th>\n",
       "      <td>30005</td>\n",
       "      <td>2602474</td>\n",
       "      <td>A05 Biological Sciences</td>\n",
       "    </tr>\n",
       "    <tr>\n",
       "      <th>6</th>\n",
       "      <td>30009</td>\n",
       "      <td>2514556</td>\n",
       "      <td>B09 Physics</td>\n",
       "    </tr>\n",
       "    <tr>\n",
       "      <th>7</th>\n",
       "      <td>30004</td>\n",
       "      <td>2372525</td>\n",
       "      <td>A04 Psychology, Psychiatry and Neuroscience</td>\n",
       "    </tr>\n",
       "    <tr>\n",
       "      <th>8</th>\n",
       "      <td>30010</td>\n",
       "      <td>2359287</td>\n",
       "      <td>B10 Mathematical Sciences</td>\n",
       "    </tr>\n",
       "    <tr>\n",
       "      <th>9</th>\n",
       "      <td>30006</td>\n",
       "      <td>2274657</td>\n",
       "      <td>A06 Agriculture, Veterinary and Food Science</td>\n",
       "    </tr>\n",
       "    <tr>\n",
       "      <th>10</th>\n",
       "      <td>30017</td>\n",
       "      <td>2040397</td>\n",
       "      <td>C17 Business and Management Studies</td>\n",
       "    </tr>\n",
       "    <tr>\n",
       "      <th>11</th>\n",
       "      <td>30007</td>\n",
       "      <td>1626369</td>\n",
       "      <td>B07 Earth Systems and Environmental Sciences</td>\n",
       "    </tr>\n",
       "    <tr>\n",
       "      <th>12</th>\n",
       "      <td>30023</td>\n",
       "      <td>969936</td>\n",
       "      <td>C23 Education</td>\n",
       "    </tr>\n",
       "    <tr>\n",
       "      <th>13</th>\n",
       "      <td>30002</td>\n",
       "      <td>850443</td>\n",
       "      <td>A02 Public Health, Health Services and Primary...</td>\n",
       "    </tr>\n",
       "    <tr>\n",
       "      <th>14</th>\n",
       "      <td>30014</td>\n",
       "      <td>668462</td>\n",
       "      <td>C14 Geography and Environmental Studies</td>\n",
       "    </tr>\n",
       "    <tr>\n",
       "      <th>15</th>\n",
       "      <td>30028</td>\n",
       "      <td>469930</td>\n",
       "      <td>D28 History</td>\n",
       "    </tr>\n",
       "    <tr>\n",
       "      <th>16</th>\n",
       "      <td>30024</td>\n",
       "      <td>452134</td>\n",
       "      <td>C24 Sport and Exercise Sciences, Leisure and T...</td>\n",
       "    </tr>\n",
       "    <tr>\n",
       "      <th>17</th>\n",
       "      <td>30013</td>\n",
       "      <td>402851</td>\n",
       "      <td>C13 Architecture, Built Environment and Planning</td>\n",
       "    </tr>\n",
       "    <tr>\n",
       "      <th>18</th>\n",
       "      <td>30020</td>\n",
       "      <td>392142</td>\n",
       "      <td>C20 Social Work and Social Policy</td>\n",
       "    </tr>\n",
       "    <tr>\n",
       "      <th>19</th>\n",
       "      <td>30018</td>\n",
       "      <td>383644</td>\n",
       "      <td>C18 Law</td>\n",
       "    </tr>\n",
       "  </tbody>\n",
       "</table>\n",
       "</div>"
      ],
      "text/plain": [
       "       id     count                                               name\n",
       "0   30012  13039569                                    B12 Engineering\n",
       "1   30001   7723142                              A01 Clinical Medicine\n",
       "2   30003   5479395  A03 Allied Health Professions, Dentistry, Nurs...\n",
       "3   30011   3501897               B11 Computer Science and Informatics\n",
       "4   30008   2684717                                      B08 Chemistry\n",
       "5   30005   2602474                            A05 Biological Sciences\n",
       "6   30009   2514556                                        B09 Physics\n",
       "7   30004   2372525        A04 Psychology, Psychiatry and Neuroscience\n",
       "8   30010   2359287                          B10 Mathematical Sciences\n",
       "9   30006   2274657       A06 Agriculture, Veterinary and Food Science\n",
       "10  30017   2040397                C17 Business and Management Studies\n",
       "11  30007   1626369       B07 Earth Systems and Environmental Sciences\n",
       "12  30023    969936                                      C23 Education\n",
       "13  30002    850443  A02 Public Health, Health Services and Primary...\n",
       "14  30014    668462            C14 Geography and Environmental Studies\n",
       "15  30028    469930                                        D28 History\n",
       "16  30024    452134  C24 Sport and Exercise Sciences, Leisure and T...\n",
       "17  30013    402851   C13 Architecture, Built Environment and Planning\n",
       "18  30020    392142                  C20 Social Work and Social Policy\n",
       "19  30018    383644                                            C18 Law"
      ]
     },
     "execution_count": 73,
     "metadata": {},
     "output_type": "execute_result"
    }
   ],
   "source": [
    "%dsldf search publications return category_uoa "
   ]
  },
  {
   "cell_type": "markdown",
   "metadata": {
    "Collapsed": "false"
   },
   "source": [
    "search docs with two different categories"
   ]
  },
  {
   "cell_type": "code",
   "execution_count": 74,
   "metadata": {
    "Collapsed": "false"
   },
   "outputs": [
    {
     "name": "stdout",
     "output_type": "stream",
     "text": [
      "Returned Grants: 20 (total = 147615)\n",
      "WARNINGS [1]\n",
      "Query is too long or complex. Please see https://docs.dimensions.ai/dsl/faq.html for more information. [code: 4]\n"
     ]
    },
    {
     "data": {
      "text/html": [
       "<div>\n",
       "<style scoped>\n",
       "    .dataframe tbody tr th:only-of-type {\n",
       "        vertical-align: middle;\n",
       "    }\n",
       "\n",
       "    .dataframe tbody tr th {\n",
       "        vertical-align: top;\n",
       "    }\n",
       "\n",
       "    .dataframe thead th {\n",
       "        text-align: right;\n",
       "    }\n",
       "</style>\n",
       "<table border=\"1\" class=\"dataframe\">\n",
       "  <thead>\n",
       "    <tr style=\"text-align: right;\">\n",
       "      <th></th>\n",
       "      <th>funders</th>\n",
       "      <th>title_language</th>\n",
       "      <th>funding_org_name</th>\n",
       "      <th>end_date</th>\n",
       "      <th>start_date</th>\n",
       "      <th>original_title</th>\n",
       "      <th>language</th>\n",
       "      <th>start_year</th>\n",
       "      <th>active_year</th>\n",
       "      <th>title</th>\n",
       "      <th>id</th>\n",
       "      <th>project_num</th>\n",
       "    </tr>\n",
       "  </thead>\n",
       "  <tbody>\n",
       "    <tr>\n",
       "      <th>0</th>\n",
       "      <td>[{'id': 'grid.425888.b', 'linkout': ['http://w...</td>\n",
       "      <td>en</td>\n",
       "      <td>Swiss National Science Foundation</td>\n",
       "      <td>2021-08-31</td>\n",
       "      <td>2021-06-01</td>\n",
       "      <td>Gender and Cancer Susceptibility</td>\n",
       "      <td>en</td>\n",
       "      <td>2021</td>\n",
       "      <td>[2021]</td>\n",
       "      <td>Gender and Cancer Susceptibility</td>\n",
       "      <td>grant.8968248</td>\n",
       "      <td>190929</td>\n",
       "    </tr>\n",
       "    <tr>\n",
       "      <th>1</th>\n",
       "      <td>[{'id': 'grid.270680.b', 'linkout': ['http://e...</td>\n",
       "      <td>en</td>\n",
       "      <td>European Commission</td>\n",
       "      <td>2023-05-02</td>\n",
       "      <td>2021-05-03</td>\n",
       "      <td>The Social INdividual’s Decisions: how are the...</td>\n",
       "      <td>en</td>\n",
       "      <td>2021</td>\n",
       "      <td>[2021, 2022, 2023]</td>\n",
       "      <td>The Social INdividual’s Decisions: how are the...</td>\n",
       "      <td>grant.8964278</td>\n",
       "      <td>882936</td>\n",
       "    </tr>\n",
       "    <tr>\n",
       "      <th>2</th>\n",
       "      <td>[{'id': 'grid.270680.b', 'linkout': ['http://e...</td>\n",
       "      <td>en</td>\n",
       "      <td>European Commission</td>\n",
       "      <td>2023-01-02</td>\n",
       "      <td>2021-01-03</td>\n",
       "      <td>Model-based biomarkers for the characterizatio...</td>\n",
       "      <td>en</td>\n",
       "      <td>2021</td>\n",
       "      <td>[2021, 2022, 2023]</td>\n",
       "      <td>Model-based biomarkers for the characterizatio...</td>\n",
       "      <td>grant.8964054</td>\n",
       "      <td>896354</td>\n",
       "    </tr>\n",
       "    <tr>\n",
       "      <th>3</th>\n",
       "      <td>[{'id': 'grid.270680.b', 'linkout': ['http://e...</td>\n",
       "      <td>en</td>\n",
       "      <td>European Commission</td>\n",
       "      <td>2022-12-31</td>\n",
       "      <td>2021-01-01</td>\n",
       "      <td>Convergence of Information from Separate Brain...</td>\n",
       "      <td>en</td>\n",
       "      <td>2021</td>\n",
       "      <td>[2021, 2022]</td>\n",
       "      <td>Convergence of Information from Separate Brain...</td>\n",
       "      <td>grant.8963781</td>\n",
       "      <td>894697</td>\n",
       "    </tr>\n",
       "    <tr>\n",
       "      <th>4</th>\n",
       "      <td>[{'id': 'grid.270680.b', 'linkout': ['http://e...</td>\n",
       "      <td>en</td>\n",
       "      <td>European Commission</td>\n",
       "      <td>2022-11-30</td>\n",
       "      <td>2020-12-01</td>\n",
       "      <td>Multi-layered integration of motivated actions...</td>\n",
       "      <td>en</td>\n",
       "      <td>2020</td>\n",
       "      <td>[2020, 2021, 2022]</td>\n",
       "      <td>Multi-layered integration of motivated actions...</td>\n",
       "      <td>grant.8963858</td>\n",
       "      <td>898059</td>\n",
       "    </tr>\n",
       "    <tr>\n",
       "      <th>5</th>\n",
       "      <td>[{'id': 'grid.452896.4', 'linkout': ['http://e...</td>\n",
       "      <td>en</td>\n",
       "      <td>European Research Council</td>\n",
       "      <td>2025-10-31</td>\n",
       "      <td>2020-11-01</td>\n",
       "      <td>Separating parallel threads of cognition to be...</td>\n",
       "      <td>en</td>\n",
       "      <td>2020</td>\n",
       "      <td>[2020, 2021, 2022, 2023, 2024, 2025]</td>\n",
       "      <td>Separating parallel threads of cognition to be...</td>\n",
       "      <td>grant.8964600</td>\n",
       "      <td>850404</td>\n",
       "    </tr>\n",
       "    <tr>\n",
       "      <th>6</th>\n",
       "      <td>[{'id': 'grid.270680.b', 'linkout': ['http://e...</td>\n",
       "      <td>en</td>\n",
       "      <td>European Commission</td>\n",
       "      <td>2022-10-11</td>\n",
       "      <td>2020-10-12</td>\n",
       "      <td>Common mechanisms for decision-making and work...</td>\n",
       "      <td>en</td>\n",
       "      <td>2020</td>\n",
       "      <td>[2020, 2021, 2022]</td>\n",
       "      <td>Common mechanisms for decision-making and work...</td>\n",
       "      <td>grant.8963494</td>\n",
       "      <td>843158</td>\n",
       "    </tr>\n",
       "    <tr>\n",
       "      <th>7</th>\n",
       "      <td>[{'id': 'grid.270680.b', 'linkout': ['http://e...</td>\n",
       "      <td>en</td>\n",
       "      <td>European Commission</td>\n",
       "      <td>2023-09-30</td>\n",
       "      <td>2020-10-01</td>\n",
       "      <td>Being ‘Mad’ in Byzantium. Toward a History of ...</td>\n",
       "      <td>en</td>\n",
       "      <td>2020</td>\n",
       "      <td>[2020, 2021, 2022, 2023]</td>\n",
       "      <td>Being ‘Mad’ in Byzantium. Toward a History of ...</td>\n",
       "      <td>grant.8964000</td>\n",
       "      <td>897297</td>\n",
       "    </tr>\n",
       "    <tr>\n",
       "      <th>8</th>\n",
       "      <td>[{'id': 'grid.270680.b', 'linkout': ['http://e...</td>\n",
       "      <td>en</td>\n",
       "      <td>European Commission</td>\n",
       "      <td>2023-03-31</td>\n",
       "      <td>2020-10-01</td>\n",
       "      <td>Characterize corpus callosum-mediated local an...</td>\n",
       "      <td>en</td>\n",
       "      <td>2020</td>\n",
       "      <td>[2020, 2021, 2022, 2023]</td>\n",
       "      <td>Characterize corpus callosum-mediated local an...</td>\n",
       "      <td>grant.8964214</td>\n",
       "      <td>896245</td>\n",
       "    </tr>\n",
       "    <tr>\n",
       "      <th>9</th>\n",
       "      <td>[{'id': 'grid.270680.b', 'linkout': ['http://e...</td>\n",
       "      <td>en</td>\n",
       "      <td>European Commission</td>\n",
       "      <td>2022-09-30</td>\n",
       "      <td>2020-10-01</td>\n",
       "      <td>DEciphering mechanisms of presynaptic reFINEment</td>\n",
       "      <td>en</td>\n",
       "      <td>2020</td>\n",
       "      <td>[2020, 2021, 2022]</td>\n",
       "      <td>DEciphering mechanisms of presynaptic reFINEment</td>\n",
       "      <td>grant.8964396</td>\n",
       "      <td>898840</td>\n",
       "    </tr>\n",
       "    <tr>\n",
       "      <th>10</th>\n",
       "      <td>[{'id': 'grid.452896.4', 'linkout': ['http://e...</td>\n",
       "      <td>en</td>\n",
       "      <td>European Research Council</td>\n",
       "      <td>2025-09-30</td>\n",
       "      <td>2020-10-01</td>\n",
       "      <td>Sleep and episodic memory consolidation:  ‘No-...</td>\n",
       "      <td>en</td>\n",
       "      <td>2020</td>\n",
       "      <td>[2020, 2021, 2022, 2023, 2024, 2025]</td>\n",
       "      <td>Sleep and episodic memory consolidation:  ‘No-...</td>\n",
       "      <td>grant.8963656</td>\n",
       "      <td>864353</td>\n",
       "    </tr>\n",
       "    <tr>\n",
       "      <th>11</th>\n",
       "      <td>[{'id': 'grid.454063.0', 'linkout': ['http://w...</td>\n",
       "      <td>en</td>\n",
       "      <td>Wolfson Foundation</td>\n",
       "      <td>2025-10-01</td>\n",
       "      <td>2020-10-01</td>\n",
       "      <td>The Wolfson Centre for Adolescent Mental Health</td>\n",
       "      <td>en</td>\n",
       "      <td>2020</td>\n",
       "      <td>[2020, 2021, 2022, 2023, 2024, 2025]</td>\n",
       "      <td>The Wolfson Centre for Adolescent Mental Health</td>\n",
       "      <td>grant.8746004</td>\n",
       "      <td>22233</td>\n",
       "    </tr>\n",
       "    <tr>\n",
       "      <th>12</th>\n",
       "      <td>[{'id': 'grid.434257.3', 'linkout': ['http://w...</td>\n",
       "      <td>en</td>\n",
       "      <td>Economic and Social Research Council</td>\n",
       "      <td>2024-09-29</td>\n",
       "      <td>2020-09-30</td>\n",
       "      <td>Superior perceptual capacity in autism: invest...</td>\n",
       "      <td>en</td>\n",
       "      <td>2020</td>\n",
       "      <td>[2020, 2021, 2022, 2023, 2024]</td>\n",
       "      <td>Superior perceptual capacity in autism: invest...</td>\n",
       "      <td>grant.8857422</td>\n",
       "      <td>ES/T005785/1</td>\n",
       "    </tr>\n",
       "    <tr>\n",
       "      <th>13</th>\n",
       "      <td>[{'id': 'grid.270680.b', 'linkout': ['http://e...</td>\n",
       "      <td>en</td>\n",
       "      <td>European Commission</td>\n",
       "      <td>2022-09-13</td>\n",
       "      <td>2020-09-14</td>\n",
       "      <td>Soluble IFNAR2 in Parkinson's disease and its ...</td>\n",
       "      <td>en</td>\n",
       "      <td>2020</td>\n",
       "      <td>[2020, 2021, 2022]</td>\n",
       "      <td>Soluble IFNAR2 in Parkinson's disease and its ...</td>\n",
       "      <td>grant.8964281</td>\n",
       "      <td>893859</td>\n",
       "    </tr>\n",
       "    <tr>\n",
       "      <th>14</th>\n",
       "      <td>[{'id': 'grid.270680.b', 'linkout': ['http://e...</td>\n",
       "      <td>en</td>\n",
       "      <td>European Commission</td>\n",
       "      <td>2022-08-31</td>\n",
       "      <td>2020-09-01</td>\n",
       "      <td>Uncovering the Behavioural and Neural Correlat...</td>\n",
       "      <td>en</td>\n",
       "      <td>2020</td>\n",
       "      <td>[2020, 2021, 2022]</td>\n",
       "      <td>Uncovering the Behavioural and Neural Correlat...</td>\n",
       "      <td>grant.8585203</td>\n",
       "      <td>843722</td>\n",
       "    </tr>\n",
       "    <tr>\n",
       "      <th>15</th>\n",
       "      <td>[{'id': 'grid.270680.b', 'linkout': ['http://e...</td>\n",
       "      <td>en</td>\n",
       "      <td>European Commission</td>\n",
       "      <td>2022-08-31</td>\n",
       "      <td>2020-09-01</td>\n",
       "      <td>Correcting misinformation: The role of source ...</td>\n",
       "      <td>en</td>\n",
       "      <td>2020</td>\n",
       "      <td>[2020, 2021, 2022]</td>\n",
       "      <td>Correcting misinformation: The role of source ...</td>\n",
       "      <td>grant.8585258</td>\n",
       "      <td>844296</td>\n",
       "    </tr>\n",
       "    <tr>\n",
       "      <th>16</th>\n",
       "      <td>[{'id': 'grid.270680.b', 'linkout': ['http://e...</td>\n",
       "      <td>en</td>\n",
       "      <td>European Commission</td>\n",
       "      <td>2022-08-31</td>\n",
       "      <td>2020-09-01</td>\n",
       "      <td>INTegration of EmotioNs During Decision-Making</td>\n",
       "      <td>en</td>\n",
       "      <td>2020</td>\n",
       "      <td>[2020, 2021, 2022]</td>\n",
       "      <td>INTegration of EmotioNs During Decision-Making</td>\n",
       "      <td>grant.8585248</td>\n",
       "      <td>844492</td>\n",
       "    </tr>\n",
       "    <tr>\n",
       "      <th>17</th>\n",
       "      <td>[{'id': 'grid.270680.b', 'linkout': ['http://e...</td>\n",
       "      <td>en</td>\n",
       "      <td>European Commission</td>\n",
       "      <td>2022-08-31</td>\n",
       "      <td>2020-09-01</td>\n",
       "      <td>I have seen that before: Pattern completion in...</td>\n",
       "      <td>en</td>\n",
       "      <td>2020</td>\n",
       "      <td>[2020, 2021, 2022]</td>\n",
       "      <td>I have seen that before: Pattern completion in...</td>\n",
       "      <td>grant.8963863</td>\n",
       "      <td>893912</td>\n",
       "    </tr>\n",
       "    <tr>\n",
       "      <th>18</th>\n",
       "      <td>[{'id': 'grid.270680.b', 'linkout': ['http://e...</td>\n",
       "      <td>en</td>\n",
       "      <td>European Commission</td>\n",
       "      <td>2022-08-31</td>\n",
       "      <td>2020-09-01</td>\n",
       "      <td>Why do individuals cooperate? Exploring the be...</td>\n",
       "      <td>en</td>\n",
       "      <td>2020</td>\n",
       "      <td>[2020, 2021, 2022]</td>\n",
       "      <td>Why do individuals cooperate? Exploring the be...</td>\n",
       "      <td>grant.8963690</td>\n",
       "      <td>893016</td>\n",
       "    </tr>\n",
       "    <tr>\n",
       "      <th>19</th>\n",
       "      <td>[{'id': 'grid.270680.b', 'linkout': ['http://e...</td>\n",
       "      <td>en</td>\n",
       "      <td>European Commission</td>\n",
       "      <td>2022-08-31</td>\n",
       "      <td>2020-09-01</td>\n",
       "      <td>Unraveling the combinatorial logic of amygdala...</td>\n",
       "      <td>en</td>\n",
       "      <td>2020</td>\n",
       "      <td>[2020, 2021, 2022]</td>\n",
       "      <td>Unraveling the combinatorial logic of amygdala...</td>\n",
       "      <td>grant.8389296</td>\n",
       "      <td>843236</td>\n",
       "    </tr>\n",
       "  </tbody>\n",
       "</table>\n",
       "</div>"
      ],
      "text/plain": [
       "                                              funders title_language  \\\n",
       "0   [{'id': 'grid.425888.b', 'linkout': ['http://w...             en   \n",
       "1   [{'id': 'grid.270680.b', 'linkout': ['http://e...             en   \n",
       "2   [{'id': 'grid.270680.b', 'linkout': ['http://e...             en   \n",
       "3   [{'id': 'grid.270680.b', 'linkout': ['http://e...             en   \n",
       "4   [{'id': 'grid.270680.b', 'linkout': ['http://e...             en   \n",
       "5   [{'id': 'grid.452896.4', 'linkout': ['http://e...             en   \n",
       "6   [{'id': 'grid.270680.b', 'linkout': ['http://e...             en   \n",
       "7   [{'id': 'grid.270680.b', 'linkout': ['http://e...             en   \n",
       "8   [{'id': 'grid.270680.b', 'linkout': ['http://e...             en   \n",
       "9   [{'id': 'grid.270680.b', 'linkout': ['http://e...             en   \n",
       "10  [{'id': 'grid.452896.4', 'linkout': ['http://e...             en   \n",
       "11  [{'id': 'grid.454063.0', 'linkout': ['http://w...             en   \n",
       "12  [{'id': 'grid.434257.3', 'linkout': ['http://w...             en   \n",
       "13  [{'id': 'grid.270680.b', 'linkout': ['http://e...             en   \n",
       "14  [{'id': 'grid.270680.b', 'linkout': ['http://e...             en   \n",
       "15  [{'id': 'grid.270680.b', 'linkout': ['http://e...             en   \n",
       "16  [{'id': 'grid.270680.b', 'linkout': ['http://e...             en   \n",
       "17  [{'id': 'grid.270680.b', 'linkout': ['http://e...             en   \n",
       "18  [{'id': 'grid.270680.b', 'linkout': ['http://e...             en   \n",
       "19  [{'id': 'grid.270680.b', 'linkout': ['http://e...             en   \n",
       "\n",
       "                        funding_org_name    end_date  start_date  \\\n",
       "0      Swiss National Science Foundation  2021-08-31  2021-06-01   \n",
       "1                    European Commission  2023-05-02  2021-05-03   \n",
       "2                    European Commission  2023-01-02  2021-01-03   \n",
       "3                    European Commission  2022-12-31  2021-01-01   \n",
       "4                    European Commission  2022-11-30  2020-12-01   \n",
       "5              European Research Council  2025-10-31  2020-11-01   \n",
       "6                    European Commission  2022-10-11  2020-10-12   \n",
       "7                    European Commission  2023-09-30  2020-10-01   \n",
       "8                    European Commission  2023-03-31  2020-10-01   \n",
       "9                    European Commission  2022-09-30  2020-10-01   \n",
       "10             European Research Council  2025-09-30  2020-10-01   \n",
       "11                    Wolfson Foundation  2025-10-01  2020-10-01   \n",
       "12  Economic and Social Research Council  2024-09-29  2020-09-30   \n",
       "13                   European Commission  2022-09-13  2020-09-14   \n",
       "14                   European Commission  2022-08-31  2020-09-01   \n",
       "15                   European Commission  2022-08-31  2020-09-01   \n",
       "16                   European Commission  2022-08-31  2020-09-01   \n",
       "17                   European Commission  2022-08-31  2020-09-01   \n",
       "18                   European Commission  2022-08-31  2020-09-01   \n",
       "19                   European Commission  2022-08-31  2020-09-01   \n",
       "\n",
       "                                       original_title language  start_year  \\\n",
       "0                    Gender and Cancer Susceptibility       en        2021   \n",
       "1   The Social INdividual’s Decisions: how are the...       en        2021   \n",
       "2   Model-based biomarkers for the characterizatio...       en        2021   \n",
       "3   Convergence of Information from Separate Brain...       en        2021   \n",
       "4   Multi-layered integration of motivated actions...       en        2020   \n",
       "5   Separating parallel threads of cognition to be...       en        2020   \n",
       "6   Common mechanisms for decision-making and work...       en        2020   \n",
       "7   Being ‘Mad’ in Byzantium. Toward a History of ...       en        2020   \n",
       "8   Characterize corpus callosum-mediated local an...       en        2020   \n",
       "9    DEciphering mechanisms of presynaptic reFINEment       en        2020   \n",
       "10  Sleep and episodic memory consolidation:  ‘No-...       en        2020   \n",
       "11    The Wolfson Centre for Adolescent Mental Health       en        2020   \n",
       "12  Superior perceptual capacity in autism: invest...       en        2020   \n",
       "13  Soluble IFNAR2 in Parkinson's disease and its ...       en        2020   \n",
       "14  Uncovering the Behavioural and Neural Correlat...       en        2020   \n",
       "15  Correcting misinformation: The role of source ...       en        2020   \n",
       "16     INTegration of EmotioNs During Decision-Making       en        2020   \n",
       "17  I have seen that before: Pattern completion in...       en        2020   \n",
       "18  Why do individuals cooperate? Exploring the be...       en        2020   \n",
       "19  Unraveling the combinatorial logic of amygdala...       en        2020   \n",
       "\n",
       "                             active_year  \\\n",
       "0                                 [2021]   \n",
       "1                     [2021, 2022, 2023]   \n",
       "2                     [2021, 2022, 2023]   \n",
       "3                           [2021, 2022]   \n",
       "4                     [2020, 2021, 2022]   \n",
       "5   [2020, 2021, 2022, 2023, 2024, 2025]   \n",
       "6                     [2020, 2021, 2022]   \n",
       "7               [2020, 2021, 2022, 2023]   \n",
       "8               [2020, 2021, 2022, 2023]   \n",
       "9                     [2020, 2021, 2022]   \n",
       "10  [2020, 2021, 2022, 2023, 2024, 2025]   \n",
       "11  [2020, 2021, 2022, 2023, 2024, 2025]   \n",
       "12        [2020, 2021, 2022, 2023, 2024]   \n",
       "13                    [2020, 2021, 2022]   \n",
       "14                    [2020, 2021, 2022]   \n",
       "15                    [2020, 2021, 2022]   \n",
       "16                    [2020, 2021, 2022]   \n",
       "17                    [2020, 2021, 2022]   \n",
       "18                    [2020, 2021, 2022]   \n",
       "19                    [2020, 2021, 2022]   \n",
       "\n",
       "                                                title             id  \\\n",
       "0                    Gender and Cancer Susceptibility  grant.8968248   \n",
       "1   The Social INdividual’s Decisions: how are the...  grant.8964278   \n",
       "2   Model-based biomarkers for the characterizatio...  grant.8964054   \n",
       "3   Convergence of Information from Separate Brain...  grant.8963781   \n",
       "4   Multi-layered integration of motivated actions...  grant.8963858   \n",
       "5   Separating parallel threads of cognition to be...  grant.8964600   \n",
       "6   Common mechanisms for decision-making and work...  grant.8963494   \n",
       "7   Being ‘Mad’ in Byzantium. Toward a History of ...  grant.8964000   \n",
       "8   Characterize corpus callosum-mediated local an...  grant.8964214   \n",
       "9    DEciphering mechanisms of presynaptic reFINEment  grant.8964396   \n",
       "10  Sleep and episodic memory consolidation:  ‘No-...  grant.8963656   \n",
       "11    The Wolfson Centre for Adolescent Mental Health  grant.8746004   \n",
       "12  Superior perceptual capacity in autism: invest...  grant.8857422   \n",
       "13  Soluble IFNAR2 in Parkinson's disease and its ...  grant.8964281   \n",
       "14  Uncovering the Behavioural and Neural Correlat...  grant.8585203   \n",
       "15  Correcting misinformation: The role of source ...  grant.8585258   \n",
       "16     INTegration of EmotioNs During Decision-Making  grant.8585248   \n",
       "17  I have seen that before: Pattern completion in...  grant.8963863   \n",
       "18  Why do individuals cooperate? Exploring the be...  grant.8963690   \n",
       "19  Unraveling the combinatorial logic of amygdala...  grant.8389296   \n",
       "\n",
       "     project_num  \n",
       "0         190929  \n",
       "1         882936  \n",
       "2         896354  \n",
       "3         894697  \n",
       "4         898059  \n",
       "5         850404  \n",
       "6         843158  \n",
       "7         897297  \n",
       "8         896245  \n",
       "9         898840  \n",
       "10        864353  \n",
       "11         22233  \n",
       "12  ES/T005785/1  \n",
       "13        893859  \n",
       "14        843722  \n",
       "15        844296  \n",
       "16        844492  \n",
       "17        893912  \n",
       "18        893016  \n",
       "19        843236  "
      ]
     },
     "execution_count": 74,
     "metadata": {},
     "output_type": "execute_result"
    }
   ],
   "source": [
    "%dsldf search grants where category_uoa.id=\"30004\" and category_uoa.name!=\"D28 History\""
   ]
  },
  {
   "cell_type": "code",
   "execution_count": 75,
   "metadata": {
    "Collapsed": "false"
   },
   "outputs": [
    {
     "name": "stdout",
     "output_type": "stream",
     "text": [
      "Returned Category_uoa: 20\n"
     ]
    },
    {
     "data": {
      "text/html": [
       "<div>\n",
       "<style scoped>\n",
       "    .dataframe tbody tr th:only-of-type {\n",
       "        vertical-align: middle;\n",
       "    }\n",
       "\n",
       "    .dataframe tbody tr th {\n",
       "        vertical-align: top;\n",
       "    }\n",
       "\n",
       "    .dataframe thead th {\n",
       "        text-align: right;\n",
       "    }\n",
       "</style>\n",
       "<table border=\"1\" class=\"dataframe\">\n",
       "  <thead>\n",
       "    <tr style=\"text-align: right;\">\n",
       "      <th></th>\n",
       "      <th>id</th>\n",
       "      <th>count</th>\n",
       "      <th>name</th>\n",
       "    </tr>\n",
       "  </thead>\n",
       "  <tbody>\n",
       "    <tr>\n",
       "      <th>0</th>\n",
       "      <td>30004</td>\n",
       "      <td>147615</td>\n",
       "      <td>A04 Psychology, Psychiatry and Neuroscience</td>\n",
       "    </tr>\n",
       "    <tr>\n",
       "      <th>1</th>\n",
       "      <td>30005</td>\n",
       "      <td>1449</td>\n",
       "      <td>A05 Biological Sciences</td>\n",
       "    </tr>\n",
       "    <tr>\n",
       "      <th>2</th>\n",
       "      <td>30003</td>\n",
       "      <td>512</td>\n",
       "      <td>A03 Allied Health Professions, Dentistry, Nurs...</td>\n",
       "    </tr>\n",
       "    <tr>\n",
       "      <th>3</th>\n",
       "      <td>30001</td>\n",
       "      <td>328</td>\n",
       "      <td>A01 Clinical Medicine</td>\n",
       "    </tr>\n",
       "    <tr>\n",
       "      <th>4</th>\n",
       "      <td>30011</td>\n",
       "      <td>327</td>\n",
       "      <td>B11 Computer Science and Informatics</td>\n",
       "    </tr>\n",
       "    <tr>\n",
       "      <th>5</th>\n",
       "      <td>30023</td>\n",
       "      <td>196</td>\n",
       "      <td>C23 Education</td>\n",
       "    </tr>\n",
       "    <tr>\n",
       "      <th>6</th>\n",
       "      <td>30026</td>\n",
       "      <td>120</td>\n",
       "      <td>D26 Modern Languages and Linguistics</td>\n",
       "    </tr>\n",
       "    <tr>\n",
       "      <th>7</th>\n",
       "      <td>30012</td>\n",
       "      <td>98</td>\n",
       "      <td>B12 Engineering</td>\n",
       "    </tr>\n",
       "    <tr>\n",
       "      <th>8</th>\n",
       "      <td>30017</td>\n",
       "      <td>75</td>\n",
       "      <td>C17 Business and Management Studies</td>\n",
       "    </tr>\n",
       "    <tr>\n",
       "      <th>9</th>\n",
       "      <td>30024</td>\n",
       "      <td>56</td>\n",
       "      <td>C24 Sport and Exercise Sciences, Leisure and T...</td>\n",
       "    </tr>\n",
       "    <tr>\n",
       "      <th>10</th>\n",
       "      <td>30020</td>\n",
       "      <td>42</td>\n",
       "      <td>C20 Social Work and Social Policy</td>\n",
       "    </tr>\n",
       "    <tr>\n",
       "      <th>11</th>\n",
       "      <td>30002</td>\n",
       "      <td>34</td>\n",
       "      <td>A02 Public Health, Health Services and Primary...</td>\n",
       "    </tr>\n",
       "    <tr>\n",
       "      <th>12</th>\n",
       "      <td>30006</td>\n",
       "      <td>22</td>\n",
       "      <td>A06 Agriculture, Veterinary and Food Science</td>\n",
       "    </tr>\n",
       "    <tr>\n",
       "      <th>13</th>\n",
       "      <td>30033</td>\n",
       "      <td>17</td>\n",
       "      <td>D33 Music, Drama, Dance, Performing Arts, Film...</td>\n",
       "    </tr>\n",
       "    <tr>\n",
       "      <th>14</th>\n",
       "      <td>30030</td>\n",
       "      <td>13</td>\n",
       "      <td>D30 Philosophy</td>\n",
       "    </tr>\n",
       "    <tr>\n",
       "      <th>15</th>\n",
       "      <td>30018</td>\n",
       "      <td>10</td>\n",
       "      <td>C18 Law</td>\n",
       "    </tr>\n",
       "    <tr>\n",
       "      <th>16</th>\n",
       "      <td>30022</td>\n",
       "      <td>4</td>\n",
       "      <td>C22 Anthropology and Development Studies</td>\n",
       "    </tr>\n",
       "    <tr>\n",
       "      <th>17</th>\n",
       "      <td>30008</td>\n",
       "      <td>1</td>\n",
       "      <td>B08 Chemistry</td>\n",
       "    </tr>\n",
       "    <tr>\n",
       "      <th>18</th>\n",
       "      <td>30009</td>\n",
       "      <td>1</td>\n",
       "      <td>B09 Physics</td>\n",
       "    </tr>\n",
       "    <tr>\n",
       "      <th>19</th>\n",
       "      <td>30010</td>\n",
       "      <td>1</td>\n",
       "      <td>B10 Mathematical Sciences</td>\n",
       "    </tr>\n",
       "  </tbody>\n",
       "</table>\n",
       "</div>"
      ],
      "text/plain": [
       "       id   count                                               name\n",
       "0   30004  147615        A04 Psychology, Psychiatry and Neuroscience\n",
       "1   30005    1449                            A05 Biological Sciences\n",
       "2   30003     512  A03 Allied Health Professions, Dentistry, Nurs...\n",
       "3   30001     328                              A01 Clinical Medicine\n",
       "4   30011     327               B11 Computer Science and Informatics\n",
       "5   30023     196                                      C23 Education\n",
       "6   30026     120               D26 Modern Languages and Linguistics\n",
       "7   30012      98                                    B12 Engineering\n",
       "8   30017      75                C17 Business and Management Studies\n",
       "9   30024      56  C24 Sport and Exercise Sciences, Leisure and T...\n",
       "10  30020      42                  C20 Social Work and Social Policy\n",
       "11  30002      34  A02 Public Health, Health Services and Primary...\n",
       "12  30006      22       A06 Agriculture, Veterinary and Food Science\n",
       "13  30033      17  D33 Music, Drama, Dance, Performing Arts, Film...\n",
       "14  30030      13                                     D30 Philosophy\n",
       "15  30018      10                                            C18 Law\n",
       "16  30022       4           C22 Anthropology and Development Studies\n",
       "17  30008       1                                      B08 Chemistry\n",
       "18  30009       1                                        B09 Physics\n",
       "19  30010       1                          B10 Mathematical Sciences"
      ]
     },
     "execution_count": 75,
     "metadata": {},
     "output_type": "execute_result"
    }
   ],
   "source": [
    "%dsldf search grants where category_uoa.id=\"30004\" return category_uoa"
   ]
  },
  {
   "cell_type": "markdown",
   "metadata": {
    "Collapsed": "false"
   },
   "source": [
    "search with partial string matching"
   ]
  },
  {
   "cell_type": "code",
   "execution_count": 76,
   "metadata": {
    "Collapsed": "false"
   },
   "outputs": [
    {
     "name": "stdout",
     "output_type": "stream",
     "text": [
      "Returned Category_uoa: 20\n"
     ]
    },
    {
     "data": {
      "text/html": [
       "<div>\n",
       "<style scoped>\n",
       "    .dataframe tbody tr th:only-of-type {\n",
       "        vertical-align: middle;\n",
       "    }\n",
       "\n",
       "    .dataframe tbody tr th {\n",
       "        vertical-align: top;\n",
       "    }\n",
       "\n",
       "    .dataframe thead th {\n",
       "        text-align: right;\n",
       "    }\n",
       "</style>\n",
       "<table border=\"1\" class=\"dataframe\">\n",
       "  <thead>\n",
       "    <tr style=\"text-align: right;\">\n",
       "      <th></th>\n",
       "      <th>id</th>\n",
       "      <th>count</th>\n",
       "      <th>name</th>\n",
       "    </tr>\n",
       "  </thead>\n",
       "  <tbody>\n",
       "    <tr>\n",
       "      <th>0</th>\n",
       "      <td>30028</td>\n",
       "      <td>28855</td>\n",
       "      <td>D28 History</td>\n",
       "    </tr>\n",
       "    <tr>\n",
       "      <th>1</th>\n",
       "      <td>30032</td>\n",
       "      <td>16550</td>\n",
       "      <td>D32 Art and Design: History, Practice and Theory</td>\n",
       "    </tr>\n",
       "    <tr>\n",
       "      <th>2</th>\n",
       "      <td>30012</td>\n",
       "      <td>105</td>\n",
       "      <td>B12 Engineering</td>\n",
       "    </tr>\n",
       "    <tr>\n",
       "      <th>3</th>\n",
       "      <td>30019</td>\n",
       "      <td>79</td>\n",
       "      <td>C19 Politics and International Studies</td>\n",
       "    </tr>\n",
       "    <tr>\n",
       "      <th>4</th>\n",
       "      <td>30011</td>\n",
       "      <td>65</td>\n",
       "      <td>B11 Computer Science and Informatics</td>\n",
       "    </tr>\n",
       "    <tr>\n",
       "      <th>5</th>\n",
       "      <td>30026</td>\n",
       "      <td>55</td>\n",
       "      <td>D26 Modern Languages and Linguistics</td>\n",
       "    </tr>\n",
       "    <tr>\n",
       "      <th>6</th>\n",
       "      <td>30023</td>\n",
       "      <td>53</td>\n",
       "      <td>C23 Education</td>\n",
       "    </tr>\n",
       "    <tr>\n",
       "      <th>7</th>\n",
       "      <td>30018</td>\n",
       "      <td>51</td>\n",
       "      <td>C18 Law</td>\n",
       "    </tr>\n",
       "    <tr>\n",
       "      <th>8</th>\n",
       "      <td>30027</td>\n",
       "      <td>45</td>\n",
       "      <td>D27 English Language and Literature</td>\n",
       "    </tr>\n",
       "    <tr>\n",
       "      <th>9</th>\n",
       "      <td>30013</td>\n",
       "      <td>44</td>\n",
       "      <td>C13 Architecture, Built Environment and Planning</td>\n",
       "    </tr>\n",
       "    <tr>\n",
       "      <th>10</th>\n",
       "      <td>30017</td>\n",
       "      <td>43</td>\n",
       "      <td>C17 Business and Management Studies</td>\n",
       "    </tr>\n",
       "    <tr>\n",
       "      <th>11</th>\n",
       "      <td>30034</td>\n",
       "      <td>36</td>\n",
       "      <td>D34 Communication, Cultural and Media Studies,...</td>\n",
       "    </tr>\n",
       "    <tr>\n",
       "      <th>12</th>\n",
       "      <td>30033</td>\n",
       "      <td>27</td>\n",
       "      <td>D33 Music, Drama, Dance, Performing Arts, Film...</td>\n",
       "    </tr>\n",
       "    <tr>\n",
       "      <th>13</th>\n",
       "      <td>30025</td>\n",
       "      <td>25</td>\n",
       "      <td>D25 Area Studies</td>\n",
       "    </tr>\n",
       "    <tr>\n",
       "      <th>14</th>\n",
       "      <td>30015</td>\n",
       "      <td>22</td>\n",
       "      <td>C15 Archaeology</td>\n",
       "    </tr>\n",
       "    <tr>\n",
       "      <th>15</th>\n",
       "      <td>30031</td>\n",
       "      <td>11</td>\n",
       "      <td>D31 Theology and Religious Studies</td>\n",
       "    </tr>\n",
       "    <tr>\n",
       "      <th>16</th>\n",
       "      <td>30024</td>\n",
       "      <td>9</td>\n",
       "      <td>C24 Sport and Exercise Sciences, Leisure and T...</td>\n",
       "    </tr>\n",
       "    <tr>\n",
       "      <th>17</th>\n",
       "      <td>30014</td>\n",
       "      <td>8</td>\n",
       "      <td>C14 Geography and Environmental Studies</td>\n",
       "    </tr>\n",
       "    <tr>\n",
       "      <th>18</th>\n",
       "      <td>30020</td>\n",
       "      <td>8</td>\n",
       "      <td>C20 Social Work and Social Policy</td>\n",
       "    </tr>\n",
       "    <tr>\n",
       "      <th>19</th>\n",
       "      <td>30029</td>\n",
       "      <td>7</td>\n",
       "      <td>D29 Classics</td>\n",
       "    </tr>\n",
       "  </tbody>\n",
       "</table>\n",
       "</div>"
      ],
      "text/plain": [
       "       id  count                                               name\n",
       "0   30028  28855                                        D28 History\n",
       "1   30032  16550   D32 Art and Design: History, Practice and Theory\n",
       "2   30012    105                                    B12 Engineering\n",
       "3   30019     79             C19 Politics and International Studies\n",
       "4   30011     65               B11 Computer Science and Informatics\n",
       "5   30026     55               D26 Modern Languages and Linguistics\n",
       "6   30023     53                                      C23 Education\n",
       "7   30018     51                                            C18 Law\n",
       "8   30027     45                D27 English Language and Literature\n",
       "9   30013     44   C13 Architecture, Built Environment and Planning\n",
       "10  30017     43                C17 Business and Management Studies\n",
       "11  30034     36  D34 Communication, Cultural and Media Studies,...\n",
       "12  30033     27  D33 Music, Drama, Dance, Performing Arts, Film...\n",
       "13  30025     25                                   D25 Area Studies\n",
       "14  30015     22                                    C15 Archaeology\n",
       "15  30031     11                 D31 Theology and Religious Studies\n",
       "16  30024      9  C24 Sport and Exercise Sciences, Leisure and T...\n",
       "17  30014      8            C14 Geography and Environmental Studies\n",
       "18  30020      8                  C20 Social Work and Social Policy\n",
       "19  30029      7                                       D29 Classics"
      ]
     },
     "execution_count": 76,
     "metadata": {},
     "output_type": "execute_result"
    }
   ],
   "source": [
    "%dsldf search grants where category_uoa.name~\"history\" return category_uoa"
   ]
  },
  {
   "cell_type": "code",
   "execution_count": 77,
   "metadata": {
    "Collapsed": "false"
   },
   "outputs": [
    {
     "name": "stdout",
     "output_type": "stream",
     "text": [
      "Returned Researchers: 10\n"
     ]
    },
    {
     "data": {
      "text/html": [
       "<div>\n",
       "<style scoped>\n",
       "    .dataframe tbody tr th:only-of-type {\n",
       "        vertical-align: middle;\n",
       "    }\n",
       "\n",
       "    .dataframe tbody tr th {\n",
       "        vertical-align: top;\n",
       "    }\n",
       "\n",
       "    .dataframe thead th {\n",
       "        text-align: right;\n",
       "    }\n",
       "</style>\n",
       "<table border=\"1\" class=\"dataframe\">\n",
       "  <thead>\n",
       "    <tr style=\"text-align: right;\">\n",
       "      <th></th>\n",
       "      <th>id</th>\n",
       "      <th>count</th>\n",
       "      <th>first_name</th>\n",
       "      <th>last_name</th>\n",
       "      <th>research_orgs</th>\n",
       "      <th>orcid_id</th>\n",
       "    </tr>\n",
       "  </thead>\n",
       "  <tbody>\n",
       "    <tr>\n",
       "      <th>0</th>\n",
       "      <td>ur.015202435305.87</td>\n",
       "      <td>46</td>\n",
       "      <td>Grants</td>\n",
       "      <td>Team</td>\n",
       "      <td>NaN</td>\n",
       "      <td>NaN</td>\n",
       "    </tr>\n",
       "    <tr>\n",
       "      <th>1</th>\n",
       "      <td>ur.010320437431.61</td>\n",
       "      <td>22</td>\n",
       "      <td>E I</td>\n",
       "      <td>Kolchinskii</td>\n",
       "      <td>NaN</td>\n",
       "      <td>NaN</td>\n",
       "    </tr>\n",
       "    <tr>\n",
       "      <th>2</th>\n",
       "      <td>ur.01051707425.47</td>\n",
       "      <td>22</td>\n",
       "      <td>Ulrich</td>\n",
       "      <td>Herbert</td>\n",
       "      <td>[grid.5963.9]</td>\n",
       "      <td>NaN</td>\n",
       "    </tr>\n",
       "    <tr>\n",
       "      <th>3</th>\n",
       "      <td>ur.016300720353.30</td>\n",
       "      <td>20</td>\n",
       "      <td>Rosalie Burns</td>\n",
       "      <td>Davis</td>\n",
       "      <td>NaN</td>\n",
       "      <td>NaN</td>\n",
       "    </tr>\n",
       "    <tr>\n",
       "      <th>4</th>\n",
       "      <td>ur.010205156151.22</td>\n",
       "      <td>16</td>\n",
       "      <td>Kei</td>\n",
       "      <td>Arai</td>\n",
       "      <td>NaN</td>\n",
       "      <td>NaN</td>\n",
       "    </tr>\n",
       "    <tr>\n",
       "      <th>5</th>\n",
       "      <td>ur.016627753011.35</td>\n",
       "      <td>16</td>\n",
       "      <td>Seishi</td>\n",
       "      <td>Namiki</td>\n",
       "      <td>NaN</td>\n",
       "      <td>NaN</td>\n",
       "    </tr>\n",
       "    <tr>\n",
       "      <th>6</th>\n",
       "      <td>ur.01111215176.48</td>\n",
       "      <td>15</td>\n",
       "      <td>Virginia S</td>\n",
       "      <td>Berridge</td>\n",
       "      <td>[grid.4563.4, grid.8991.9, grid.83440.3b]</td>\n",
       "      <td>[0000-0001-8011-8348]</td>\n",
       "    </tr>\n",
       "    <tr>\n",
       "      <th>7</th>\n",
       "      <td>ur.015573721121.33</td>\n",
       "      <td>15</td>\n",
       "      <td>Keizo</td>\n",
       "      <td>Asaji</td>\n",
       "      <td>[grid.444507.6]</td>\n",
       "      <td>NaN</td>\n",
       "    </tr>\n",
       "    <tr>\n",
       "      <th>8</th>\n",
       "      <td>ur.016367164225.36</td>\n",
       "      <td>15</td>\n",
       "      <td>Osamu</td>\n",
       "      <td>Saito</td>\n",
       "      <td>NaN</td>\n",
       "      <td>NaN</td>\n",
       "    </tr>\n",
       "    <tr>\n",
       "      <th>9</th>\n",
       "      <td>ur.010751216401.00</td>\n",
       "      <td>14</td>\n",
       "      <td>Shigeru</td>\n",
       "      <td>Akita</td>\n",
       "      <td>NaN</td>\n",
       "      <td>NaN</td>\n",
       "    </tr>\n",
       "  </tbody>\n",
       "</table>\n",
       "</div>"
      ],
      "text/plain": [
       "                   id  count     first_name    last_name  \\\n",
       "0  ur.015202435305.87     46         Grants         Team   \n",
       "1  ur.010320437431.61     22            E I  Kolchinskii   \n",
       "2   ur.01051707425.47     22         Ulrich      Herbert   \n",
       "3  ur.016300720353.30     20  Rosalie Burns        Davis   \n",
       "4  ur.010205156151.22     16            Kei         Arai   \n",
       "5  ur.016627753011.35     16         Seishi       Namiki   \n",
       "6   ur.01111215176.48     15     Virginia S     Berridge   \n",
       "7  ur.015573721121.33     15          Keizo        Asaji   \n",
       "8  ur.016367164225.36     15          Osamu        Saito   \n",
       "9  ur.010751216401.00     14        Shigeru        Akita   \n",
       "\n",
       "                               research_orgs               orcid_id  \n",
       "0                                        NaN                    NaN  \n",
       "1                                        NaN                    NaN  \n",
       "2                              [grid.5963.9]                    NaN  \n",
       "3                                        NaN                    NaN  \n",
       "4                                        NaN                    NaN  \n",
       "5                                        NaN                    NaN  \n",
       "6  [grid.4563.4, grid.8991.9, grid.83440.3b]  [0000-0001-8011-8348]  \n",
       "7                            [grid.444507.6]                    NaN  \n",
       "8                                        NaN                    NaN  \n",
       "9                                        NaN                    NaN  "
      ]
     },
     "execution_count": 77,
     "metadata": {},
     "output_type": "execute_result"
    }
   ],
   "source": [
    "%dsldf search grants where category_uoa.name~\"history\" return researchers limit 10"
   ]
  },
  {
   "cell_type": "markdown",
   "metadata": {
    "Collapsed": "false",
    "colab_type": "text",
    "id": "YBSdHL4Tywj4"
   },
   "source": [
    "## [DSL-406] Deprecate Patents.assignee_state_names and clarify docs for assignee fields \n",
    "\n",
    "https://uberresearch.atlassian.net/browse/DSL-406"
   ]
  },
  {
   "cell_type": "code",
   "execution_count": 78,
   "metadata": {
    "Collapsed": "false"
   },
   "outputs": [
    {
     "name": "stdout",
     "output_type": "stream",
     "text": [
      "Returned Patents: 1 (total = 1)\n"
     ]
    },
    {
     "data": {
      "application/json": {
       "_stats": {
        "total_count": 1
       },
       "_version": {
        "release": "1.24",
        "version": "1.24.0"
       },
       "patents": [
        {
         "assignee_countries": [
          {
           "id": "DE",
           "name": "Germany"
          }
         ],
         "assignee_names": [
          "HEIN JÖRG-HELGE",
          "NILLERT PETER"
         ]
        }
       ]
      },
      "text/plain": [
       "<dimcli.Dataset object #4716236496. Records: 1/1>"
      ]
     },
     "execution_count": 78,
     "metadata": {
      "application/json": {
       "expanded": false,
       "root": "root"
      }
     },
     "output_type": "execute_result"
    }
   ],
   "source": [
    "%dsl search patents where id=\"EP-3225971-A1\" return patents[assignee_names+assignees+assignee_countries]"
   ]
  },
  {
   "cell_type": "code",
   "execution_count": 79,
   "metadata": {
    "Collapsed": "false"
   },
   "outputs": [
    {
     "name": "stdout",
     "output_type": "stream",
     "text": [
      "Returned Patents: 1 (total = 1)\n",
      "WARNINGS [1]\n",
      "Field 'assignee_state_names' is deprecated. Please refer to https://docs.dimensions.ai/dsl/releasenotes.html for more details\n"
     ]
    },
    {
     "data": {
      "application/json": {
       "_stats": {
        "total_count": 1
       },
       "_version": {
        "release": "1.24",
        "version": "1.24.0"
       },
       "_warnings": [
        "Field 'assignee_state_names' is deprecated. Please refer to https://docs.dimensions.ai/dsl/releasenotes.html for more details"
       ],
       "patents": [
        {
         "assignee_names": [
          "HEIN JÖRG-HELGE",
          "NILLERT PETER"
         ]
        }
       ]
      },
      "text/plain": [
       "<dimcli.Dataset object #4716233552. Records: 1/1>"
      ]
     },
     "execution_count": 79,
     "metadata": {
      "application/json": {
       "expanded": false,
       "root": "root"
      }
     },
     "output_type": "execute_result"
    }
   ],
   "source": [
    "%dsl search patents where id=\"EP-3225971-A1\" return patents[assignee_names+assignee_state_names]"
   ]
  }
 ],
 "metadata": {
  "colab": {
   "collapsed_sections": [],
   "name": "v1-1.21-qa.ipynb",
   "provenance": []
  },
  "kernelspec": {
   "display_name": "Python 3",
   "language": "python",
   "name": "python3"
  },
  "language_info": {
   "codemirror_mode": {
    "name": "ipython",
    "version": 3
   },
   "file_extension": ".py",
   "mimetype": "text/x-python",
   "name": "python",
   "nbconvert_exporter": "python",
   "pygments_lexer": "ipython3",
   "version": "3.8.5"
  }
 },
 "nbformat": 4,
 "nbformat_minor": 4
}
