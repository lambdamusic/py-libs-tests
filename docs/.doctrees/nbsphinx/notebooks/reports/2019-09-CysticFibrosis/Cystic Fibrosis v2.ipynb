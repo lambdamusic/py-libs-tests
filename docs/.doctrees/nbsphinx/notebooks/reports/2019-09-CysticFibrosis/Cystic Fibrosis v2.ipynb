{
 "cells": [
  {
   "cell_type": "markdown",
   "metadata": {},
   "source": [
    "# Goal: making a comparison of authors with researchers ID VS authors without one"
   ]
  },
  {
   "cell_type": "code",
   "execution_count": 1,
   "metadata": {},
   "outputs": [],
   "source": [
    "import json\n",
    "import dimcli\n",
    "dsl = dimcli.Dsl()"
   ]
  },
  {
   "cell_type": "code",
   "execution_count": 2,
   "metadata": {},
   "outputs": [
    {
     "name": "stdout",
     "output_type": "stream",
     "text": [
      "1000 / 14680\n",
      "2000 / 14680\n",
      "3000 / 14680\n",
      "4000 / 14680\n",
      "5000 / 14680\n",
      "6000 / 14680\n",
      "7000 / 14680\n",
      "8000 / 14680\n",
      "9000 / 14680\n",
      "10000 / 14680\n",
      "11000 / 14680\n",
      "12000 / 14680\n",
      "13000 / 14680\n",
      "14000 / 14680\n",
      "14680 / 14680\n"
     ]
    }
   ],
   "source": [
    "publications = dsl.query_iterative(\"\"\"\n",
    "search publications\n",
    "where year in [2010:2019] and category_rcdc.name=\"Cystic Fibrosis\" and authors is not empty\n",
    "return publications[authors+id+year]\n",
    "\"\"\")['publications']"
   ]
  },
  {
   "cell_type": "code",
   "execution_count": 5,
   "metadata": {},
   "outputs": [
    {
     "name": "stdout",
     "output_type": "stream",
     "text": [
      "All authors: 93090\n",
      "Authors with ID: 77604\n",
      "Authors without ID: 15486\n",
      "Authors with ID + Authors Without ID = 93090\n"
     ]
    }
   ],
   "source": [
    "authorsAll = []\n",
    "authorsWithId = []\n",
    "authorsNotId = []\n",
    "\n",
    "for pub in publications:\n",
    "    for author in pub['authors']:\n",
    "        authorsAll.append(author)\n",
    "        if author['researcher_id']:\n",
    "            authorsWithId.append(author)\n",
    "        else:\n",
    "            authorsNotId.append(author)\n",
    "        \n",
    "print(f\"All authors: {len(authorsAll)}\")\n",
    "print(f\"Authors with ID: {len(authorsWithId)}\")\n",
    "print(f\"Authors without ID: {len(authorsNotId)}\")\n",
    "\n",
    "print(\"Authors with ID + Authors Without ID =\", len(authorsWithId)+len(authorsNotId))"
   ]
  },
  {
   "cell_type": "markdown",
   "metadata": {},
   "source": [
    "### Conclusion 1: without deduping the data, numbers add up"
   ]
  },
  {
   "cell_type": "markdown",
   "metadata": {},
   "source": [
    "So let's now try to unify the data... "
   ]
  },
  {
   "cell_type": "code",
   "execution_count": 7,
   "metadata": {},
   "outputs": [
    {
     "data": {
      "text/plain": [
       "{'first_name': 'Farhat',\n",
       " 'last_name': 'Raëd',\n",
       " 'orcid': '',\n",
       " 'current_organization_id': '',\n",
       " 'researcher_id': '',\n",
       " 'affiliations': []}"
      ]
     },
     "execution_count": 7,
     "metadata": {},
     "output_type": "execute_result"
    }
   ],
   "source": [
    "authorsAll[0]"
   ]
  },
  {
   "cell_type": "markdown",
   "metadata": {},
   "source": [
    "Let's create tuples to allow the set operation to work (issues with dicts) "
   ]
  },
  {
   "cell_type": "code",
   "execution_count": 11,
   "metadata": {},
   "outputs": [],
   "source": [
    "authorsAll2 = set([(x['first_name'], x['last_name'], x['researcher_id']) for x in authorsAll])\n",
    "authorsWithId2 = set([(x['first_name'], x['last_name'], x['researcher_id']) for x in authorsWithId])\n",
    "authorsNotId2 = set([(x['first_name'], x['last_name'], x['researcher_id']) for x in authorsNotId])"
   ]
  },
  {
   "cell_type": "code",
   "execution_count": 12,
   "metadata": {},
   "outputs": [
    {
     "name": "stdout",
     "output_type": "stream",
     "text": [
      "All authors: 58833\n",
      "Authors with ID: 44940\n",
      "Authors without ID: 13893\n",
      "Authors with ID + Authors Without ID = 58833\n"
     ]
    }
   ],
   "source": [
    "print(f\"All authors: {len(authorsAll2)}\")\n",
    "print(f\"Authors with ID: {len(authorsWithId2)}\")\n",
    "print(f\"Authors without ID: {len(authorsNotId2)}\")\n",
    "\n",
    "print(\"Authors with ID + Authors Without ID =\", len(authorsWithId2)+len(authorsNotId2))"
   ]
  },
  {
   "cell_type": "markdown",
   "metadata": {},
   "source": [
    "### Conclusion 2: after duplicates are removed, numbers add up too"
   ]
  }
 ],
 "metadata": {
  "kernelspec": {
   "display_name": "Python 3",
   "language": "python",
   "name": "python3"
  },
  "language_info": {
   "codemirror_mode": {
    "name": "ipython",
    "version": 3
   },
   "file_extension": ".py",
   "mimetype": "text/x-python",
   "name": "python",
   "nbconvert_exporter": "python",
   "pygments_lexer": "ipython3",
   "version": "3.7.4"
  }
 },
 "nbformat": 4,
 "nbformat_minor": 4
}
