{
 "cells": [
  {
   "cell_type": "code",
   "execution_count": 27,
   "metadata": {},
   "outputs": [],
   "source": [
    "import json\n",
    "import dimcli\n",
    "dsl = dimcli.Dsl()"
   ]
  },
  {
   "cell_type": "code",
   "execution_count": 11,
   "metadata": {},
   "outputs": [
    {
     "name": "stdout",
     "output_type": "stream",
     "text": [
      "1000 / 14680\n",
      "2000 / 14680\n",
      "3000 / 14680\n",
      "4000 / 14680\n",
      "5000 / 14680\n",
      "6000 / 14680\n",
      "7000 / 14680\n",
      "8000 / 14680\n",
      "9000 / 14680\n",
      "10000 / 14680\n",
      "11000 / 14680\n",
      "12000 / 14680\n",
      "13000 / 14680\n",
      "14000 / 14680\n",
      "14680 / 14680\n"
     ]
    }
   ],
   "source": [
    "publications = dsl.query_iterative(\"\"\"\n",
    "search publications\n",
    "where year in [2010:2019] and category_rcdc.name=\"Cystic Fibrosis\" and authors is not empty\n",
    "return publications[authors+id+year]\n",
    "\"\"\")['publications']"
   ]
  },
  {
   "cell_type": "code",
   "execution_count": 29,
   "metadata": {},
   "outputs": [
    {
     "name": "stdout",
     "output_type": "stream",
     "text": [
      "Unique researchers: 58621\n",
      "Unique dimensions researchers: 36566\n",
      "22055\n"
     ]
    }
   ],
   "source": [
    "uniqueResearchers = set()\n",
    "uniqueDimensionsResearchers = set()\n",
    "\n",
    "with open(\"cysticFibrosisNonDimensionsResearchers.csv\", \"w\") as nonDimensionsResearchersFile:\n",
    "    print(\"Pub ID,Year,First Name,Last Name\", file=nonDimensionsResearchersFile)\n",
    "    for pub in publications:\n",
    "        for author in pub['authors']:\n",
    "            uniqueResearchers.add(f\"{author['first_name']} {author['last_name']} {author['current_organization_id']} {author['orcid']}\")\n",
    "            if author['researcher_id']:\n",
    "                uniqueDimensionsResearchers.add(author['researcher_id'])\n",
    "            else:\n",
    "                print(f\"{pub['id']},{pub['year']},{author['first_name']},{author['last_name']}\", file=nonDimensionsResearchersFile)\n",
    "\n",
    "print(f\"Unique researchers: {len(uniqueResearchers)}\")\n",
    "print(f\"Unique dimensions researchers: {len(uniqueDimensionsResearchers)}\")\n",
    "\n",
    "print(len(uniqueResearchers)-len(uniqueDimensionsResearchers))"
   ]
  },
  {
   "cell_type": "code",
   "execution_count": 1,
   "metadata": {},
   "outputs": [
    {
     "data": {
      "text/plain": [
       "58621"
      ]
     },
     "execution_count": 1,
     "metadata": {},
     "output_type": "execute_result"
    }
   ],
   "source": [
    "36566 + 22055"
   ]
  },
  {
   "cell_type": "markdown",
   "metadata": {},
   "source": [
    "## the numbers don't add up! "
   ]
  },
  {
   "cell_type": "code",
   "execution_count": null,
   "metadata": {},
   "outputs": [],
   "source": []
  }
 ],
 "metadata": {
  "kernelspec": {
   "display_name": "Python 3",
   "language": "python",
   "name": "python3"
  },
  "language_info": {
   "codemirror_mode": {
    "name": "ipython",
    "version": 3
   },
   "file_extension": ".py",
   "mimetype": "text/x-python",
   "name": "python",
   "nbconvert_exporter": "python",
   "pygments_lexer": "ipython3",
   "version": "3.7.4"
  }
 },
 "nbformat": 4,
 "nbformat_minor": 4
}
