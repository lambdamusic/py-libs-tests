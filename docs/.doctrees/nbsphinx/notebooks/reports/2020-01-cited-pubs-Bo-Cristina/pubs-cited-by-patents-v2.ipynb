{
 "cells": [
  {
   "cell_type": "markdown",
   "metadata": {
    "Collapsed": "false",
    "colab_type": "text",
    "id": "xjqXbj55dkH0"
   },
   "source": [
    "# Dimensions Patents Statistics Report, for one or more Organizations\n",
    "\n",
    "- Get all pubs for a GRID in a period that were cited by patents \n",
    "    - https://docs.google.com/spreadsheets/d/11flWYNrnwwEJ5WzLXC_N2eItSHeatRQiLJZZ4euqIPo/edit#gid=0\n"
   ]
  },
  {
   "cell_type": "markdown",
   "metadata": {
    "Collapsed": "false",
    "colab_type": "text",
    "id": "JmIHSwq46aK0"
   },
   "source": [
    "## 1. Install Libraries and Log into Dimensions API\n"
   ]
  },
  {
   "cell_type": "code",
   "execution_count": 1,
   "metadata": {
    "Collapsed": "false",
    "cellView": "both",
    "colab": {
     "base_uri": "https://localhost:8080/",
     "height": 136
    },
    "colab_type": "code",
    "executionInfo": {
     "elapsed": 7435,
     "status": "ok",
     "timestamp": 1578993866355,
     "user": {
      "displayName": "Michele Pasin",
      "photoUrl": "https://lh3.googleusercontent.com/a-/AAuE7mBu8LVjIGgontF2Wax51BoL5KFx8esezX3bUmaa0g=s64",
      "userId": "10309320684375994511"
     },
     "user_tz": 0
    },
    "id": "5cbCB86W0EHw",
    "outputId": "8153a4c7-0056-4fd1-82a7-26862054f0fb"
   },
   "outputs": [
    {
     "name": "stdout",
     "output_type": "stream",
     "text": [
      "==\n",
      "Installing libraries..\n",
      "\u001b[K     |████████████████████████████████| 235kB 4.9MB/s \n",
      "\u001b[K     |████████████████████████████████| 61kB 8.7MB/s \n",
      "\u001b[?25h==\n",
      "Logging in..\n",
      "DimCli v0.6.2.2 - Succesfully connected to <https://app.dimensions.ai> (method: manual login)\n"
     ]
    }
   ],
   "source": [
    "# @markdown # Get the API library and login \n",
    "# @markdown **Privacy tip**: leave the password blank and you'll be asked for it later. This can be handy on shared computers.\n",
    "username = \"dsl.demo.1@dimensions.ai\"  #@param {type: \"string\"}\n",
    "password = \"1.Demo.Dsl\"  #@param {type: \"string\"}\n",
    "endpoint = \"https://app.dimensions.ai\"  #@param {type: \"string\"}\n",
    "\n",
    "\n",
    "# INSTALL/LOAD LIBRARIES \n",
    "# ps optimized for Google Colab /modify installation as needed based on your environment\n",
    "# \n",
    "print(\"==\\nInstalling libraries..\")\n",
    "!pip install dimcli tqdm -U --quiet \n",
    "\n",
    "import os\n",
    "import sys\n",
    "import time\n",
    "import json\n",
    "import pandas as pd\n",
    "from pandas.io.json import json_normalize\n",
    "try:\n",
    "  from tqdm.notebook import tqdm as pbar\n",
    "except:\n",
    "  from tqdm import tqdm_notebook as pbar\n",
    "import dimcli \n",
    "from dimcli.shortcuts import *\n",
    "\n",
    "# AUTHENTICATION \n",
    "# https://github.com/digital-science/dimcli#authentication\n",
    "#\n",
    "# == Google Colab users ==\n",
    "# If username/password not provided, the interactive setup assistant `dimcli --init` is invoked\n",
    "#\n",
    "# == Jupyter Notebook users == \n",
    "# If username/password not provided, try to use the global API credentials file.\n",
    "# To create one, open a terminal (File/New/Terminal) and run `dimcli --init` from there\n",
    "#  \n",
    "#\n",
    "print(\"==\\nLogging in..\")\n",
    "if username and password:\n",
    "  dimcli.login(username, password, endpoint)\n",
    "else:\n",
    "  if 'google.colab' in sys.modules:\n",
    "    print(\"Environment: Google Colab\")\n",
    "    if username and not password:\n",
    "      import getpass\n",
    "      password = getpass.getpass(prompt='Password: ')     \n",
    "      dimcli.login(username, password, endpoint)\n",
    "    else:\n",
    "      print(\"... launching interactive setup assistant\")\n",
    "      !dimcli --init    \n",
    "      dimcli.login()\n",
    "  else:\n",
    "    print(\"Environment: Jupyter Notebook\\n... looking for API credentials file\")\n",
    "    dimcli.login()\n",
    "\n",
    "dsl = dimcli.Dsl()\n",
    "\n",
    "   "
   ]
  },
  {
   "cell_type": "markdown",
   "metadata": {
    "Collapsed": "false",
    "colab_type": "text",
    "id": "cVhIN498fi9b"
   },
   "source": [
    "## 2. GRID organization and time frame selection\n",
    "\n",
    "Tip: pick one from https://grid.ac/institutes. "
   ]
  },
  {
   "cell_type": "code",
   "execution_count": 5,
   "metadata": {
    "Collapsed": "false",
    "cellView": "both",
    "colab": {
     "base_uri": "https://localhost:8080/",
     "height": 102
    },
    "colab_type": "code",
    "executionInfo": {
     "elapsed": 2264,
     "status": "ok",
     "timestamp": 1578994054378,
     "user": {
      "displayName": "Michele Pasin",
      "photoUrl": "https://lh3.googleusercontent.com/a-/AAuE7mBu8LVjIGgontF2Wax51BoL5KFx8esezX3bUmaa0g=s64",
      "userId": "10309320684375994511"
     },
     "user_tz": 0
    },
    "id": "Zvvob8TtHANv",
    "outputId": "096e3272-ea70-4167-9e4b-45675a74e74a"
   },
   "outputs": [
    {
     "name": "stdout",
     "output_type": "stream",
     "text": [
      "Returned Organizations: 1 (total = 1)\n"
     ]
    },
    {
     "data": {
      "text/html": [
       "GRID: <a href=\"https://app.dimensions.ai/discover/publication?and_facet_research_org=grid.42505.36\" title=\"View selected organization in Dimensions\">grid.42505.36 University of Southern California &#x29c9;</a>"
      ],
      "text/plain": [
       "<IPython.core.display.HTML object>"
      ]
     },
     "metadata": {
      "tags": []
     },
     "output_type": "display_data"
    },
    {
     "data": {
      "text/html": [
       "Time period: 2000 to 2015"
      ],
      "text/plain": [
       "<IPython.core.display.HTML object>"
      ]
     },
     "metadata": {
      "tags": []
     },
     "output_type": "display_data"
    },
    {
     "name": "stdout",
     "output_type": "stream",
     "text": [
      "==\n",
      "Created data folder: stats_data_grid.42505.36/\n"
     ]
    }
   ],
   "source": [
    "#@markdown Please enter a valid org grid\n",
    "\n",
    "GRIDID = \"grid.42505.36\" #@param {type:\"string\"}\n",
    "\n",
    "#@markdown The start/end year of publications used to extract patents\n",
    "YEAR_START = 2000 #@param {type: \"slider\", min: 1950, max: 2020}\n",
    "YEAR_END = 2015 #@param {type: \"slider\", min: 1950, max: 2020}\n",
    "\n",
    "if YEAR_END < YEAR_START:\n",
    "  YEAR_END = YEAR_START\n",
    "\n",
    "# gen link to Dimensions\n",
    "try:\n",
    "  gridname = dsl.query(f\"\"\"search organizations where id=\"{GRIDID}\" return organizations[name]\"\"\", verbose=False).organizations[0]['name']\n",
    "except:\n",
    "  gridname = \"\"\n",
    "from IPython.core.display import display, HTML\n",
    "display(HTML('GRID: <a href=\"{}\" title=\"View selected organization in Dimensions\">{} - {} &#x29c9;</a>'.format(dimensions_url(GRIDID), GRIDID, gridname)))\n",
    "display(HTML('Time period: {} to {} <br /><br />'.format(YEAR_START, YEAR_END)))\n",
    "\n",
    "#\n",
    "# data-saving utils \n",
    "#\n",
    "DATAFOLDER = \"stats_data_\" + str(GRIDID)\n",
    "if not os.path.exists(DATAFOLDER):\n",
    "  !mkdir $DATAFOLDER\n",
    "  print(f\"==\\nCreated data folder:\", DATAFOLDER + \"/\")\n",
    "#\n",
    "#\n",
    "def save_as_csv(df, save_name_without_extension):\n",
    "    \"usage: `save_as_csv(dataframe, 'filename')`\"\n",
    "    df.to_csv(f\"{DATAFOLDER}/{save_name_without_extension}.csv\", index=False)\n",
    "    print(\"===\\nSaving: \", f\"{DATAFOLDER}/{save_name_without_extension}.csv\")\n"
   ]
  },
  {
   "cell_type": "markdown",
   "metadata": {
    "Collapsed": "false",
    "colab_type": "text",
    "id": "c_USG_vgfTHb"
   },
   "source": [
    "## 3. Get all publications that were cited by patents\n",
    "\n",
    "The results are being saved in a folder called `stats_data_grid_xxx`, which contains two CSV files `publications.csv` and `patents.csv`. \n",
    "\n",
    "PS sometimes single publications records can contain a lot of data, causing the publications extraction to fail with a 'query too long or complex' error. This can be avoided by reducing the overall number of records extracted per iteration (generally 1000 is fine though)."
   ]
  },
  {
   "cell_type": "code",
   "execution_count": 0,
   "metadata": {
    "Collapsed": "false",
    "colab": {
     "base_uri": "https://localhost:8080/",
     "height": 1000,
     "referenced_widgets": [
      "032592a512114a638b912be8d7c9f891",
      "3151a8aee9794a7e966fe4f219cc725f",
      "de0c2d42fdbd453087680870b3070425",
      "a2da8ea0178949b5b1011a13f085dfa5",
      "b7a3425fdd084ae19a9de0e8211e479e",
      "049c50ced18243d0bcba1ba71d923500",
      "109877c23f854deaad9bec2e7ccbd34d",
      "7354deb04ae046c0ac160a96f0abed55"
     ]
    },
    "colab_type": "code",
    "executionInfo": {
     "elapsed": 634393,
     "status": "ok",
     "timestamp": 1578946386353,
     "user": {
      "displayName": "Michele Pasin",
      "photoUrl": "https://lh3.googleusercontent.com/a-/AAuE7mBu8LVjIGgontF2Wax51BoL5KFx8esezX3bUmaa0g=s64",
      "userId": "10309320684375994511"
     },
     "user_tz": 0
    },
    "id": "Yo2UPcnifTHb",
    "outputId": "a14dc651-ff83-43d0-86a6-90b5a76ffc1a"
   },
   "outputs": [
    {
     "name": "stdout",
     "output_type": "stream",
     "text": [
      "===\n",
      "Extracting publications for:  grid.42505.36 from 2000 to 2015\n",
      "1000 / 64089\n",
      "2000 / 64089\n",
      "3000 / 64089\n",
      "4000 / 64089\n",
      "5000 / 64089\n",
      "6000 / 64089\n",
      "7000 / 64089\n",
      "8000 / 64089\n",
      "9000 / 64089\n",
      "10000 / 64089\n",
      "11000 / 64089\n",
      "12000 / 64089\n",
      "13000 / 64089\n",
      "14000 / 64089\n",
      "15000 / 64089\n",
      "16000 / 64089\n",
      "17000 / 64089\n",
      "18000 / 64089\n",
      "19000 / 64089\n",
      "20000 / 64089\n",
      "21000 / 64089\n",
      "22000 / 64089\n",
      "23000 / 64089\n",
      "24000 / 64089\n",
      "25000 / 64089\n",
      "26000 / 64089\n",
      "27000 / 64089\n",
      "28000 / 64089\n",
      "29000 / 64089\n",
      "30000 / 64089\n",
      "31000 / 64089\n",
      "32000 / 64089\n",
      "33000 / 64089\n",
      "34000 / 64089\n",
      "35000 / 64089\n",
      "36000 / 64089\n",
      "37000 / 64089\n",
      "38000 / 64089\n",
      "39000 / 64089\n",
      "40000 / 64089\n",
      "41000 / 64089\n",
      "42000 / 64089\n",
      "43000 / 64089\n",
      "44000 / 64089\n",
      "45000 / 64089\n",
      "46000 / 64089\n",
      "47000 / 64089\n",
      "48000 / 64089\n",
      "49000 / 64089\n",
      "50000 / 64089\n",
      "Total publications found:  50000\n",
      "\n",
      "===\n",
      "Extracting patents citing these publications\n"
     ]
    },
    {
     "data": {
      "application/vnd.jupyter.widget-view+json": {
       "model_id": "032592a512114a638b912be8d7c9f891",
       "version_major": 2,
       "version_minor": 0
      },
      "text/plain": [
       "HBox(children=(FloatProgress(value=0.0, max=167.0), HTML(value='')))"
      ]
     },
     "metadata": {
      "tags": []
     },
     "output_type": "display_data"
    },
    {
     "name": "stdout",
     "output_type": "stream",
     "text": [
      "\n",
      "Total related patents found:  8093\n"
     ]
    }
   ],
   "source": [
    "#@markdown If you run into 'query too long or complex' errors, try reducing the records extracted per iteration. \n",
    "PUBS_PER_ITERATION = 200 #@param {type: \"slider\", min: 100, max: 1000}\n",
    "# PS this is just for publications loop\n",
    "\n",
    "# ;;;;;\n",
    "#\n",
    "# get publications from selected grid and time period\n",
    "#\n",
    "# ;;;;;\n",
    "\n",
    "\n",
    "print(\"===\\nExtracting publications for: \", GRIDID, \"from\", YEAR_START, \"to\", YEAR_END)\n",
    "\n",
    "publications = dsl.query_iterative(f\"\"\"\n",
    "search publications\n",
    "    where research_orgs.id = \"{GRIDID}\"\n",
    "    and year in [{YEAR_START}:{YEAR_END}]\n",
    "    return publications[id+doi+title+times_cited+recent_citations+field_citation_ratio+category_for+authors]\n",
    "\"\"\", limit=PUBS_PER_ITERATION).as_dataframe()\n",
    "\n",
    "print(\"Total publications found: \", len(publications))\n",
    "\n",
    "\n",
    "# ;;;;;\n",
    "#\n",
    "# get patents citations \n",
    "#\n",
    "# ;;;;;\n",
    "\n",
    "\n",
    "\n",
    "pubsids = list(publications['id'])\n",
    "\n",
    "print(\"\\n===\\nExtracting patents citing these publications\")\n",
    "\n",
    "q = \"\"\"search patents where publication_ids in {}\n",
    "  return patents[id+title+category_for+inventor_names+assignee_names+publication_ids+times_cited]\"\"\"\n",
    "\n",
    "# iterate pubids using chunks \n",
    "VERBOSE = False\n",
    "CHUNKS_SIZE = 300 \n",
    "results = []\n",
    "\n",
    "for chunk in pbar(list(chunks_of(pubsids, CHUNKS_SIZE))):\n",
    "    query = q.format(json.dumps(chunk))\n",
    "    data = dsl.query_iterative(query, verbose=VERBOSE)\n",
    "    results += data.patents\n",
    "    time.sleep(0.5)\n",
    "\n",
    "# remove duplicates\n",
    "patents = pd.DataFrame().from_dict(results)\n",
    "patents.drop_duplicates(subset='id', inplace=True)\n",
    "\n",
    "print(\"Total related patents found: \", len(patents))"
   ]
  },
  {
   "cell_type": "code",
   "execution_count": 0,
   "metadata": {
    "Collapsed": "false",
    "colab": {
     "base_uri": "https://localhost:8080/",
     "height": 387,
     "referenced_widgets": [
      "2b6bec8abfa140399bf401172ed42875",
      "e5f176a9fbf94b1ead3ff97408b38f14",
      "b45288965eeb4757a7f8300cc6996bbd",
      "f79b3c7b8e8942cb83e6c399442ed02b",
      "c211f96904d04637968eb9485edff9c8",
      "046769700a134d20801989b2bcbd2417",
      "d3a7de1e6de646ea81397570bb465870",
      "62a67c1a984c40dd8289468e92b362f6",
      "6945ce87ee554e46a3c0a5e5cb6cda35",
      "c7ab555edc8a4789a161934586287b29",
      "06b2ed125dc6492d9572ec6402ede8d2",
      "52fdf3785ab44003804f4741462214e9",
      "bef78ba376434460b3f34661f873e751",
      "cf50b02771384f799e2ac977a788bc9b",
      "93799d545b684e2792dbdb7b4b4c0b0c",
      "19942735e79141f5a2ab04239dbce234"
     ]
    },
    "colab_type": "code",
    "executionInfo": {
     "elapsed": 1674959,
     "status": "ok",
     "timestamp": 1578947426927,
     "user": {
      "displayName": "Michele Pasin",
      "photoUrl": "https://lh3.googleusercontent.com/a-/AAuE7mBu8LVjIGgontF2Wax51BoL5KFx8esezX3bUmaa0g=s64",
      "userId": "10309320684375994511"
     },
     "user_tz": 0
    },
    "id": "L_64moOYfTHd",
    "outputId": "d0b043b3-fd0d-4c6b-ab09-9ff6977441a9"
   },
   "outputs": [
    {
     "name": "stdout",
     "output_type": "stream",
     "text": [
      "\n",
      "===\n",
      "Counting patents for each publication...\n"
     ]
    },
    {
     "data": {
      "application/vnd.jupyter.widget-view+json": {
       "model_id": "2b6bec8abfa140399bf401172ed42875",
       "version_major": 2,
       "version_minor": 0
      },
      "text/plain": [
       "HBox(children=(FloatProgress(value=0.0, max=50000.0), HTML(value='')))"
      ]
     },
     "metadata": {
      "tags": []
     },
     "output_type": "display_data"
    },
    {
     "name": "stdout",
     "output_type": "stream",
     "text": [
      "\n",
      "Total publications with at least one patent citation:  2768\n",
      "\n",
      "===\n",
      "Counting publications for each patent ...\n"
     ]
    },
    {
     "data": {
      "application/vnd.jupyter.widget-view+json": {
       "model_id": "6945ce87ee554e46a3c0a5e5cb6cda35",
       "version_major": 2,
       "version_minor": 0
      },
      "text/plain": [
       "HBox(children=(FloatProgress(value=0.0, description='Patents', max=8093.0, style=ProgressStyle(description_wid…"
      ]
     },
     "metadata": {
      "tags": []
     },
     "output_type": "display_data"
    },
    {
     "name": "stdout",
     "output_type": "stream",
     "text": [
      "\n",
      "\n",
      "===\n",
      "Simplifying publication/patents fields..\n",
      "===\n",
      "Saving:  stats_data_grid.42505.36/publications.csv\n",
      "===\n",
      "Saving:  stats_data_grid.42505.36/patents.csv\n",
      "===\n",
      "Completed.\n"
     ]
    }
   ],
   "source": [
    "    \n",
    "# ;;;;;\n",
    "#\n",
    "# count PATENTS per publication\n",
    "#\n",
    "# ;;;;;\n",
    "\n",
    "\n",
    "print(\"\\n===\\nCounting patents for each publication...\")\n",
    "\n",
    "# build str column version for checking inclusion\n",
    "patents['publication_ids_str'] = patents['publication_ids'].apply(lambda x: ','.join(map(str, x)))                                 \n",
    "def get_patents_per_pub(pubid):\n",
    "    global patents\n",
    "    # turn list into str and check content in one line\n",
    "    return patents[patents['publication_ids_str'].str.contains(pubid)]['id']\n",
    "\n",
    "\n",
    "publications['patents_count'] = 0\n",
    "publications['patents_ids'] = \"\"\n",
    "for index, row in pbar(publications.iterrows(), total=publications.shape[0]):\n",
    "    match_patents = get_patents_per_pub(row['id'])\n",
    "    publications.at[index,'patents_count'] = len(match_patents)\n",
    "    publications.at[index,'patents_ids'] = list(match_patents)\n",
    "\n",
    "\n",
    "# keep only pubs with at least one patent citation and sort by citations     \n",
    "publications_subset = publications[publications['patents_count'] > 0].copy()\n",
    "publications_subset.sort_values(\"patents_count\", ascending=False, inplace=True)\n",
    "\n",
    "print(\"Total publications with at least one patent citation: \", len(publications_subset))\n",
    "\n"
   ]
  },
  {
   "cell_type": "code",
   "execution_count": 0,
   "metadata": {
    "colab": {},
    "colab_type": "code",
    "id": "DX5oPLQqYdEC"
   },
   "outputs": [],
   "source": [
    "\n",
    "\n",
    "# ;;;;;\n",
    "#\n",
    "# count PUBLICATIONS per patent \n",
    "#\n",
    "# ;;;;;\n",
    "\n",
    "\n",
    "print(\"\\n===\\nCounting publications for each patent ...\")\n",
    "# add tot column\n",
    "patents['publications_cited_tot'] = patents['publication_ids'].apply(lambda x: len(x))\n",
    "\n",
    "# count tot publications cited from GRIDID\n",
    "def is_in_grid_pubs(test_ids):\n",
    "    \"intersection of two lists: all cited pubs VS pubs from selected grid org\"\n",
    "    global pubsids\n",
    "    return len(list(set(test_ids) & set(pubsids)))\n",
    "\n",
    "pbar.pandas(desc=\"Patents\")\n",
    "patents['publications_cited_grid'] = patents['publication_ids'].progress_apply(lambda x: is_in_grid_pubs(x))\n",
    "\n"
   ]
  },
  {
   "cell_type": "code",
   "execution_count": 0,
   "metadata": {
    "colab": {},
    "colab_type": "code",
    "id": "6vrStNreYhIa"
   },
   "outputs": [],
   "source": [
    "\n",
    "\n",
    "# ;;;;;\n",
    "#\n",
    "# simplify JSON publication fields into simple strings \n",
    "#\n",
    "# ;;;;;\n",
    "\n",
    "\n",
    "print(\"\\n===\\nSimplifying publication/patents fields..\")\n",
    "\n",
    "# turn ids into URLs\n",
    "publications_subset['id'] = publications_subset['id'].apply(lambda x: dimensions_url(x))\n",
    "# simplify FOR codes (after filling in blanks)\n",
    "publications_subset['category_for'] = publications_subset['category_for'].fillna(\"\").apply(lambda x: \"; \".join([y['name'] for y in x]))\n",
    "\n",
    "# represent authors and affiliations as semicolon-delimited lists \n",
    "\n",
    "def nice_authors(authorslist):\n",
    "    authors = []\n",
    "    for x in authorslist:\n",
    "        name = x.get('first_name', \"\") + \" \" + x.get('last_name', \"\")\n",
    "        authors.append(name)\n",
    "    return \"; \".join(authors)\n",
    "\n",
    "def nice_affiliations(authorslist):\n",
    "    affiliations = []\n",
    "    for x in authorslist:\n",
    "        for a in x['affiliations']:\n",
    "            affiliations.append(a.get('name', \"\"))\n",
    "    return \"; \".join(list(set(affiliations)))\n",
    "\n",
    "# extract OWN authors (at any point in time!) \n",
    "def ownauthors(authorslist):\n",
    "    ownauthors = []\n",
    "    global GRIDID\n",
    "    for x in authorslist:\n",
    "        name = x.get('first_name', \"\") + \" \" + x.get('last_name', \"\")\n",
    "        for a in x['affiliations']:\n",
    "            if \"id\" in a and a['id'] == GRIDID:\n",
    "                ownauthors.append(name)\n",
    "    return \"; \".join(ownauthors)\n",
    "\n",
    "publications_subset['all_authors'] = publications_subset['authors'].fillna(\"\").apply(lambda x: nice_authors(x))\n",
    "publications_subset['own_authors'] = publications_subset['authors'].fillna(\"\").apply(lambda x: ownauthors(x))\n",
    "publications_subset['affiliations'] = publications_subset['authors'].fillna(\"\").apply(lambda x: nice_affiliations(x))\n",
    "\n",
    "# sort columns\n",
    "publications_subset = publications_subset[['id', 'title', 'times_cited', 'recent_citations', 'field_citation_ratio', 'category_for', 'all_authors',  'own_authors', 'affiliations', 'patents_count', 'patents_ids']]\n",
    "\n",
    "\n",
    "\n",
    "# ;;;;;\n",
    "#\n",
    "# simplify JSON patent fields  \n",
    "#\n",
    "# ;;;;;\n",
    "\n",
    "# turn ids into URLs\n",
    "patents['id'] = patents['id'].apply(lambda x: dimensions_url(x, \"patents\"))\n",
    "# simplify FOR codes (after filling in blanks)\n",
    "patents['category_for'] = patents['category_for'].fillna(\"\").apply(lambda x: \"; \".join([y['name'] for y in x]))\n",
    "\n",
    "# transform list into semicolon delimited string\n",
    "patents['inventor_names'] = patents['inventor_names'].fillna(\"\").apply(lambda x: \"; \".join([y for y in x]))\n",
    "patents['assignee_names'] = patents['assignee_names'].fillna(\"\").apply(lambda x: \"; \".join([y for y in x]))\n",
    "# set no value to 0\n",
    "patents['times_cited'].fillna(0, inplace=True)\n",
    "\n",
    "# sort columns\n",
    "patents = patents[['id', 'title', 'times_cited', 'category_for', 'inventor_names', 'assignee_names', 'publications_cited_tot', 'publications_cited_grid', 'publication_ids']]\n",
    "\n",
    "\n",
    "# ;;;;;\n",
    "#\n",
    "# save the data as CSV\n",
    "#\n",
    "# ;;;;;\n",
    "\n",
    "\n",
    "save_as_csv(publications_subset, \"publications\")\n",
    "save_as_csv(patents, \"patents\")\n",
    "\n",
    "\n",
    "print(\"===\\nCompleted.\")"
   ]
  },
  {
   "cell_type": "markdown",
   "metadata": {
    "Collapsed": "false",
    "colab_type": "text",
    "id": "KhU7_tdnsHbI"
   },
   "source": [
    "## 4. Downloading the results \n",
    "\n",
    "If you are viewing this notebook in **Google Colab**, run the following cell to download all data as a zip file. "
   ]
  },
  {
   "cell_type": "code",
   "execution_count": 0,
   "metadata": {
    "Collapsed": "false",
    "colab": {},
    "colab_type": "code",
    "id": "wJ6NGITtsJAA"
   },
   "outputs": [],
   "source": [
    "\n",
    "# zip up all files to make download easier\n",
    "import zipfile\n",
    "import os \n",
    "\n",
    "def zipdir(path, ziph):\n",
    "    # ziph is zipfile handle\n",
    "    for root, dirs, files in os.walk(path):\n",
    "        for file in files:\n",
    "            ziph.write(os.path.join(root, file))\n",
    "\n",
    "zip_name = DATAFOLDER + '.zip'\n",
    "zipf = zipfile.ZipFile(zip_name, 'w', zipfile.ZIP_DEFLATED)\n",
    "zipdir(DATAFOLDER + '/', zipf)\n",
    "zipf.close()\n",
    "\n",
    "try:\n",
    "  # try to download from colab: sometimes it fails hence print a message\n",
    "  from google.colab import files\n",
    "  time.sleep(5)\n",
    "  files.download(zip_name) \n",
    "except:\n",
    "  print(\"Google Colab failed to download - please try again.\")\n"
   ]
  },
  {
   "cell_type": "code",
   "execution_count": 0,
   "metadata": {
    "Collapsed": "false",
    "colab": {},
    "colab_type": "code",
    "id": "o4GlTWDSfTHh"
   },
   "outputs": [],
   "source": []
  }
 ],
 "metadata": {
  "colab": {
   "collapsed_sections": [],
   "name": "pubs-cited-by-patents-v2.ipynb",
   "provenance": []
  },
  "kernelspec": {
   "display_name": "Python 3",
   "language": "python",
   "name": "python3"
  },
  "language_info": {
   "codemirror_mode": {
    "name": "ipython",
    "version": 3
   },
   "file_extension": ".py",
   "mimetype": "text/x-python",
   "name": "python",
   "nbconvert_exporter": "python",
   "pygments_lexer": "ipython3",
   "version": "3.7.4"
  },
  "widgets": {
   "application/vnd.jupyter.widget-state+json": {
    "032592a512114a638b912be8d7c9f891": {
     "model_module": "@jupyter-widgets/controls",
     "model_name": "HBoxModel",
     "state": {
      "_dom_classes": [],
      "_model_module": "@jupyter-widgets/controls",
      "_model_module_version": "1.5.0",
      "_model_name": "HBoxModel",
      "_view_count": null,
      "_view_module": "@jupyter-widgets/controls",
      "_view_module_version": "1.5.0",
      "_view_name": "HBoxView",
      "box_style": "",
      "children": [
       "IPY_MODEL_de0c2d42fdbd453087680870b3070425",
       "IPY_MODEL_a2da8ea0178949b5b1011a13f085dfa5"
      ],
      "layout": "IPY_MODEL_3151a8aee9794a7e966fe4f219cc725f"
     }
    },
    "046769700a134d20801989b2bcbd2417": {
     "model_module": "@jupyter-widgets/base",
     "model_name": "LayoutModel",
     "state": {
      "_model_module": "@jupyter-widgets/base",
      "_model_module_version": "1.2.0",
      "_model_name": "LayoutModel",
      "_view_count": null,
      "_view_module": "@jupyter-widgets/base",
      "_view_module_version": "1.2.0",
      "_view_name": "LayoutView",
      "align_content": null,
      "align_items": null,
      "align_self": null,
      "border": null,
      "bottom": null,
      "display": null,
      "flex": null,
      "flex_flow": null,
      "grid_area": null,
      "grid_auto_columns": null,
      "grid_auto_flow": null,
      "grid_auto_rows": null,
      "grid_column": null,
      "grid_gap": null,
      "grid_row": null,
      "grid_template_areas": null,
      "grid_template_columns": null,
      "grid_template_rows": null,
      "height": null,
      "justify_content": null,
      "justify_items": null,
      "left": null,
      "margin": null,
      "max_height": null,
      "max_width": null,
      "min_height": null,
      "min_width": null,
      "object_fit": null,
      "object_position": null,
      "order": null,
      "overflow": null,
      "overflow_x": null,
      "overflow_y": null,
      "padding": null,
      "right": null,
      "top": null,
      "visibility": null,
      "width": null
     }
    },
    "049c50ced18243d0bcba1ba71d923500": {
     "model_module": "@jupyter-widgets/base",
     "model_name": "LayoutModel",
     "state": {
      "_model_module": "@jupyter-widgets/base",
      "_model_module_version": "1.2.0",
      "_model_name": "LayoutModel",
      "_view_count": null,
      "_view_module": "@jupyter-widgets/base",
      "_view_module_version": "1.2.0",
      "_view_name": "LayoutView",
      "align_content": null,
      "align_items": null,
      "align_self": null,
      "border": null,
      "bottom": null,
      "display": null,
      "flex": null,
      "flex_flow": null,
      "grid_area": null,
      "grid_auto_columns": null,
      "grid_auto_flow": null,
      "grid_auto_rows": null,
      "grid_column": null,
      "grid_gap": null,
      "grid_row": null,
      "grid_template_areas": null,
      "grid_template_columns": null,
      "grid_template_rows": null,
      "height": null,
      "justify_content": null,
      "justify_items": null,
      "left": null,
      "margin": null,
      "max_height": null,
      "max_width": null,
      "min_height": null,
      "min_width": null,
      "object_fit": null,
      "object_position": null,
      "order": null,
      "overflow": null,
      "overflow_x": null,
      "overflow_y": null,
      "padding": null,
      "right": null,
      "top": null,
      "visibility": null,
      "width": null
     }
    },
    "06b2ed125dc6492d9572ec6402ede8d2": {
     "model_module": "@jupyter-widgets/controls",
     "model_name": "FloatProgressModel",
     "state": {
      "_dom_classes": [],
      "_model_module": "@jupyter-widgets/controls",
      "_model_module_version": "1.5.0",
      "_model_name": "FloatProgressModel",
      "_view_count": null,
      "_view_module": "@jupyter-widgets/controls",
      "_view_module_version": "1.5.0",
      "_view_name": "ProgressView",
      "bar_style": "success",
      "description": "Patents: 100%",
      "description_tooltip": null,
      "layout": "IPY_MODEL_cf50b02771384f799e2ac977a788bc9b",
      "max": 8093,
      "min": 0,
      "orientation": "horizontal",
      "style": "IPY_MODEL_bef78ba376434460b3f34661f873e751",
      "value": 8093
     }
    },
    "109877c23f854deaad9bec2e7ccbd34d": {
     "model_module": "@jupyter-widgets/controls",
     "model_name": "DescriptionStyleModel",
     "state": {
      "_model_module": "@jupyter-widgets/controls",
      "_model_module_version": "1.5.0",
      "_model_name": "DescriptionStyleModel",
      "_view_count": null,
      "_view_module": "@jupyter-widgets/base",
      "_view_module_version": "1.2.0",
      "_view_name": "StyleView",
      "description_width": ""
     }
    },
    "19942735e79141f5a2ab04239dbce234": {
     "model_module": "@jupyter-widgets/base",
     "model_name": "LayoutModel",
     "state": {
      "_model_module": "@jupyter-widgets/base",
      "_model_module_version": "1.2.0",
      "_model_name": "LayoutModel",
      "_view_count": null,
      "_view_module": "@jupyter-widgets/base",
      "_view_module_version": "1.2.0",
      "_view_name": "LayoutView",
      "align_content": null,
      "align_items": null,
      "align_self": null,
      "border": null,
      "bottom": null,
      "display": null,
      "flex": null,
      "flex_flow": null,
      "grid_area": null,
      "grid_auto_columns": null,
      "grid_auto_flow": null,
      "grid_auto_rows": null,
      "grid_column": null,
      "grid_gap": null,
      "grid_row": null,
      "grid_template_areas": null,
      "grid_template_columns": null,
      "grid_template_rows": null,
      "height": null,
      "justify_content": null,
      "justify_items": null,
      "left": null,
      "margin": null,
      "max_height": null,
      "max_width": null,
      "min_height": null,
      "min_width": null,
      "object_fit": null,
      "object_position": null,
      "order": null,
      "overflow": null,
      "overflow_x": null,
      "overflow_y": null,
      "padding": null,
      "right": null,
      "top": null,
      "visibility": null,
      "width": null
     }
    },
    "2b6bec8abfa140399bf401172ed42875": {
     "model_module": "@jupyter-widgets/controls",
     "model_name": "HBoxModel",
     "state": {
      "_dom_classes": [],
      "_model_module": "@jupyter-widgets/controls",
      "_model_module_version": "1.5.0",
      "_model_name": "HBoxModel",
      "_view_count": null,
      "_view_module": "@jupyter-widgets/controls",
      "_view_module_version": "1.5.0",
      "_view_name": "HBoxView",
      "box_style": "",
      "children": [
       "IPY_MODEL_b45288965eeb4757a7f8300cc6996bbd",
       "IPY_MODEL_f79b3c7b8e8942cb83e6c399442ed02b"
      ],
      "layout": "IPY_MODEL_e5f176a9fbf94b1ead3ff97408b38f14"
     }
    },
    "3151a8aee9794a7e966fe4f219cc725f": {
     "model_module": "@jupyter-widgets/base",
     "model_name": "LayoutModel",
     "state": {
      "_model_module": "@jupyter-widgets/base",
      "_model_module_version": "1.2.0",
      "_model_name": "LayoutModel",
      "_view_count": null,
      "_view_module": "@jupyter-widgets/base",
      "_view_module_version": "1.2.0",
      "_view_name": "LayoutView",
      "align_content": null,
      "align_items": null,
      "align_self": null,
      "border": null,
      "bottom": null,
      "display": null,
      "flex": null,
      "flex_flow": null,
      "grid_area": null,
      "grid_auto_columns": null,
      "grid_auto_flow": null,
      "grid_auto_rows": null,
      "grid_column": null,
      "grid_gap": null,
      "grid_row": null,
      "grid_template_areas": null,
      "grid_template_columns": null,
      "grid_template_rows": null,
      "height": null,
      "justify_content": null,
      "justify_items": null,
      "left": null,
      "margin": null,
      "max_height": null,
      "max_width": null,
      "min_height": null,
      "min_width": null,
      "object_fit": null,
      "object_position": null,
      "order": null,
      "overflow": null,
      "overflow_x": null,
      "overflow_y": null,
      "padding": null,
      "right": null,
      "top": null,
      "visibility": null,
      "width": null
     }
    },
    "52fdf3785ab44003804f4741462214e9": {
     "model_module": "@jupyter-widgets/controls",
     "model_name": "HTMLModel",
     "state": {
      "_dom_classes": [],
      "_model_module": "@jupyter-widgets/controls",
      "_model_module_version": "1.5.0",
      "_model_name": "HTMLModel",
      "_view_count": null,
      "_view_module": "@jupyter-widgets/controls",
      "_view_module_version": "1.5.0",
      "_view_name": "HTMLView",
      "description": "",
      "description_tooltip": null,
      "layout": "IPY_MODEL_19942735e79141f5a2ab04239dbce234",
      "placeholder": "​",
      "style": "IPY_MODEL_93799d545b684e2792dbdb7b4b4c0b0c",
      "value": " 8093/8093 [01:11&lt;00:00, 113.27it/s]"
     }
    },
    "62a67c1a984c40dd8289468e92b362f6": {
     "model_module": "@jupyter-widgets/base",
     "model_name": "LayoutModel",
     "state": {
      "_model_module": "@jupyter-widgets/base",
      "_model_module_version": "1.2.0",
      "_model_name": "LayoutModel",
      "_view_count": null,
      "_view_module": "@jupyter-widgets/base",
      "_view_module_version": "1.2.0",
      "_view_name": "LayoutView",
      "align_content": null,
      "align_items": null,
      "align_self": null,
      "border": null,
      "bottom": null,
      "display": null,
      "flex": null,
      "flex_flow": null,
      "grid_area": null,
      "grid_auto_columns": null,
      "grid_auto_flow": null,
      "grid_auto_rows": null,
      "grid_column": null,
      "grid_gap": null,
      "grid_row": null,
      "grid_template_areas": null,
      "grid_template_columns": null,
      "grid_template_rows": null,
      "height": null,
      "justify_content": null,
      "justify_items": null,
      "left": null,
      "margin": null,
      "max_height": null,
      "max_width": null,
      "min_height": null,
      "min_width": null,
      "object_fit": null,
      "object_position": null,
      "order": null,
      "overflow": null,
      "overflow_x": null,
      "overflow_y": null,
      "padding": null,
      "right": null,
      "top": null,
      "visibility": null,
      "width": null
     }
    },
    "6945ce87ee554e46a3c0a5e5cb6cda35": {
     "model_module": "@jupyter-widgets/controls",
     "model_name": "HBoxModel",
     "state": {
      "_dom_classes": [],
      "_model_module": "@jupyter-widgets/controls",
      "_model_module_version": "1.5.0",
      "_model_name": "HBoxModel",
      "_view_count": null,
      "_view_module": "@jupyter-widgets/controls",
      "_view_module_version": "1.5.0",
      "_view_name": "HBoxView",
      "box_style": "",
      "children": [
       "IPY_MODEL_06b2ed125dc6492d9572ec6402ede8d2",
       "IPY_MODEL_52fdf3785ab44003804f4741462214e9"
      ],
      "layout": "IPY_MODEL_c7ab555edc8a4789a161934586287b29"
     }
    },
    "7354deb04ae046c0ac160a96f0abed55": {
     "model_module": "@jupyter-widgets/base",
     "model_name": "LayoutModel",
     "state": {
      "_model_module": "@jupyter-widgets/base",
      "_model_module_version": "1.2.0",
      "_model_name": "LayoutModel",
      "_view_count": null,
      "_view_module": "@jupyter-widgets/base",
      "_view_module_version": "1.2.0",
      "_view_name": "LayoutView",
      "align_content": null,
      "align_items": null,
      "align_self": null,
      "border": null,
      "bottom": null,
      "display": null,
      "flex": null,
      "flex_flow": null,
      "grid_area": null,
      "grid_auto_columns": null,
      "grid_auto_flow": null,
      "grid_auto_rows": null,
      "grid_column": null,
      "grid_gap": null,
      "grid_row": null,
      "grid_template_areas": null,
      "grid_template_columns": null,
      "grid_template_rows": null,
      "height": null,
      "justify_content": null,
      "justify_items": null,
      "left": null,
      "margin": null,
      "max_height": null,
      "max_width": null,
      "min_height": null,
      "min_width": null,
      "object_fit": null,
      "object_position": null,
      "order": null,
      "overflow": null,
      "overflow_x": null,
      "overflow_y": null,
      "padding": null,
      "right": null,
      "top": null,
      "visibility": null,
      "width": null
     }
    },
    "93799d545b684e2792dbdb7b4b4c0b0c": {
     "model_module": "@jupyter-widgets/controls",
     "model_name": "DescriptionStyleModel",
     "state": {
      "_model_module": "@jupyter-widgets/controls",
      "_model_module_version": "1.5.0",
      "_model_name": "DescriptionStyleModel",
      "_view_count": null,
      "_view_module": "@jupyter-widgets/base",
      "_view_module_version": "1.2.0",
      "_view_name": "StyleView",
      "description_width": ""
     }
    },
    "a2da8ea0178949b5b1011a13f085dfa5": {
     "model_module": "@jupyter-widgets/controls",
     "model_name": "HTMLModel",
     "state": {
      "_dom_classes": [],
      "_model_module": "@jupyter-widgets/controls",
      "_model_module_version": "1.5.0",
      "_model_name": "HTMLModel",
      "_view_count": null,
      "_view_module": "@jupyter-widgets/controls",
      "_view_module_version": "1.5.0",
      "_view_name": "HTMLView",
      "description": "",
      "description_tooltip": null,
      "layout": "IPY_MODEL_7354deb04ae046c0ac160a96f0abed55",
      "placeholder": "​",
      "style": "IPY_MODEL_109877c23f854deaad9bec2e7ccbd34d",
      "value": " 167/167 [07:25&lt;00:00,  2.67s/it]"
     }
    },
    "b45288965eeb4757a7f8300cc6996bbd": {
     "model_module": "@jupyter-widgets/controls",
     "model_name": "FloatProgressModel",
     "state": {
      "_dom_classes": [],
      "_model_module": "@jupyter-widgets/controls",
      "_model_module_version": "1.5.0",
      "_model_name": "FloatProgressModel",
      "_view_count": null,
      "_view_module": "@jupyter-widgets/controls",
      "_view_module_version": "1.5.0",
      "_view_name": "ProgressView",
      "bar_style": "success",
      "description": "100%",
      "description_tooltip": null,
      "layout": "IPY_MODEL_046769700a134d20801989b2bcbd2417",
      "max": 50000,
      "min": 0,
      "orientation": "horizontal",
      "style": "IPY_MODEL_c211f96904d04637968eb9485edff9c8",
      "value": 50000
     }
    },
    "b7a3425fdd084ae19a9de0e8211e479e": {
     "model_module": "@jupyter-widgets/controls",
     "model_name": "ProgressStyleModel",
     "state": {
      "_model_module": "@jupyter-widgets/controls",
      "_model_module_version": "1.5.0",
      "_model_name": "ProgressStyleModel",
      "_view_count": null,
      "_view_module": "@jupyter-widgets/base",
      "_view_module_version": "1.2.0",
      "_view_name": "StyleView",
      "bar_color": null,
      "description_width": "initial"
     }
    },
    "bef78ba376434460b3f34661f873e751": {
     "model_module": "@jupyter-widgets/controls",
     "model_name": "ProgressStyleModel",
     "state": {
      "_model_module": "@jupyter-widgets/controls",
      "_model_module_version": "1.5.0",
      "_model_name": "ProgressStyleModel",
      "_view_count": null,
      "_view_module": "@jupyter-widgets/base",
      "_view_module_version": "1.2.0",
      "_view_name": "StyleView",
      "bar_color": null,
      "description_width": "initial"
     }
    },
    "c211f96904d04637968eb9485edff9c8": {
     "model_module": "@jupyter-widgets/controls",
     "model_name": "ProgressStyleModel",
     "state": {
      "_model_module": "@jupyter-widgets/controls",
      "_model_module_version": "1.5.0",
      "_model_name": "ProgressStyleModel",
      "_view_count": null,
      "_view_module": "@jupyter-widgets/base",
      "_view_module_version": "1.2.0",
      "_view_name": "StyleView",
      "bar_color": null,
      "description_width": "initial"
     }
    },
    "c7ab555edc8a4789a161934586287b29": {
     "model_module": "@jupyter-widgets/base",
     "model_name": "LayoutModel",
     "state": {
      "_model_module": "@jupyter-widgets/base",
      "_model_module_version": "1.2.0",
      "_model_name": "LayoutModel",
      "_view_count": null,
      "_view_module": "@jupyter-widgets/base",
      "_view_module_version": "1.2.0",
      "_view_name": "LayoutView",
      "align_content": null,
      "align_items": null,
      "align_self": null,
      "border": null,
      "bottom": null,
      "display": null,
      "flex": null,
      "flex_flow": null,
      "grid_area": null,
      "grid_auto_columns": null,
      "grid_auto_flow": null,
      "grid_auto_rows": null,
      "grid_column": null,
      "grid_gap": null,
      "grid_row": null,
      "grid_template_areas": null,
      "grid_template_columns": null,
      "grid_template_rows": null,
      "height": null,
      "justify_content": null,
      "justify_items": null,
      "left": null,
      "margin": null,
      "max_height": null,
      "max_width": null,
      "min_height": null,
      "min_width": null,
      "object_fit": null,
      "object_position": null,
      "order": null,
      "overflow": null,
      "overflow_x": null,
      "overflow_y": null,
      "padding": null,
      "right": null,
      "top": null,
      "visibility": null,
      "width": null
     }
    },
    "cf50b02771384f799e2ac977a788bc9b": {
     "model_module": "@jupyter-widgets/base",
     "model_name": "LayoutModel",
     "state": {
      "_model_module": "@jupyter-widgets/base",
      "_model_module_version": "1.2.0",
      "_model_name": "LayoutModel",
      "_view_count": null,
      "_view_module": "@jupyter-widgets/base",
      "_view_module_version": "1.2.0",
      "_view_name": "LayoutView",
      "align_content": null,
      "align_items": null,
      "align_self": null,
      "border": null,
      "bottom": null,
      "display": null,
      "flex": null,
      "flex_flow": null,
      "grid_area": null,
      "grid_auto_columns": null,
      "grid_auto_flow": null,
      "grid_auto_rows": null,
      "grid_column": null,
      "grid_gap": null,
      "grid_row": null,
      "grid_template_areas": null,
      "grid_template_columns": null,
      "grid_template_rows": null,
      "height": null,
      "justify_content": null,
      "justify_items": null,
      "left": null,
      "margin": null,
      "max_height": null,
      "max_width": null,
      "min_height": null,
      "min_width": null,
      "object_fit": null,
      "object_position": null,
      "order": null,
      "overflow": null,
      "overflow_x": null,
      "overflow_y": null,
      "padding": null,
      "right": null,
      "top": null,
      "visibility": null,
      "width": null
     }
    },
    "d3a7de1e6de646ea81397570bb465870": {
     "model_module": "@jupyter-widgets/controls",
     "model_name": "DescriptionStyleModel",
     "state": {
      "_model_module": "@jupyter-widgets/controls",
      "_model_module_version": "1.5.0",
      "_model_name": "DescriptionStyleModel",
      "_view_count": null,
      "_view_module": "@jupyter-widgets/base",
      "_view_module_version": "1.2.0",
      "_view_name": "StyleView",
      "description_width": ""
     }
    },
    "de0c2d42fdbd453087680870b3070425": {
     "model_module": "@jupyter-widgets/controls",
     "model_name": "FloatProgressModel",
     "state": {
      "_dom_classes": [],
      "_model_module": "@jupyter-widgets/controls",
      "_model_module_version": "1.5.0",
      "_model_name": "FloatProgressModel",
      "_view_count": null,
      "_view_module": "@jupyter-widgets/controls",
      "_view_module_version": "1.5.0",
      "_view_name": "ProgressView",
      "bar_style": "success",
      "description": "100%",
      "description_tooltip": null,
      "layout": "IPY_MODEL_049c50ced18243d0bcba1ba71d923500",
      "max": 167,
      "min": 0,
      "orientation": "horizontal",
      "style": "IPY_MODEL_b7a3425fdd084ae19a9de0e8211e479e",
      "value": 167
     }
    },
    "e5f176a9fbf94b1ead3ff97408b38f14": {
     "model_module": "@jupyter-widgets/base",
     "model_name": "LayoutModel",
     "state": {
      "_model_module": "@jupyter-widgets/base",
      "_model_module_version": "1.2.0",
      "_model_name": "LayoutModel",
      "_view_count": null,
      "_view_module": "@jupyter-widgets/base",
      "_view_module_version": "1.2.0",
      "_view_name": "LayoutView",
      "align_content": null,
      "align_items": null,
      "align_self": null,
      "border": null,
      "bottom": null,
      "display": null,
      "flex": null,
      "flex_flow": null,
      "grid_area": null,
      "grid_auto_columns": null,
      "grid_auto_flow": null,
      "grid_auto_rows": null,
      "grid_column": null,
      "grid_gap": null,
      "grid_row": null,
      "grid_template_areas": null,
      "grid_template_columns": null,
      "grid_template_rows": null,
      "height": null,
      "justify_content": null,
      "justify_items": null,
      "left": null,
      "margin": null,
      "max_height": null,
      "max_width": null,
      "min_height": null,
      "min_width": null,
      "object_fit": null,
      "object_position": null,
      "order": null,
      "overflow": null,
      "overflow_x": null,
      "overflow_y": null,
      "padding": null,
      "right": null,
      "top": null,
      "visibility": null,
      "width": null
     }
    },
    "f79b3c7b8e8942cb83e6c399442ed02b": {
     "model_module": "@jupyter-widgets/controls",
     "model_name": "HTMLModel",
     "state": {
      "_dom_classes": [],
      "_model_module": "@jupyter-widgets/controls",
      "_model_module_version": "1.5.0",
      "_model_name": "HTMLModel",
      "_view_count": null,
      "_view_module": "@jupyter-widgets/controls",
      "_view_module_version": "1.5.0",
      "_view_name": "HTMLView",
      "description": "",
      "description_tooltip": null,
      "layout": "IPY_MODEL_62a67c1a984c40dd8289468e92b362f6",
      "placeholder": "​",
      "style": "IPY_MODEL_d3a7de1e6de646ea81397570bb465870",
      "value": " 50000/50000 [16:08&lt;00:00, 51.64it/s]"
     }
    }
   }
  }
 },
 "nbformat": 4,
 "nbformat_minor": 0
}
