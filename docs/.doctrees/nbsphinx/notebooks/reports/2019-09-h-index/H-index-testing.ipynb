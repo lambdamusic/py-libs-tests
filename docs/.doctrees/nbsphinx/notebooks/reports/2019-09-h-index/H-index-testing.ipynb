{
 "cells": [
  {
   "cell_type": "markdown",
   "metadata": {},
   "source": [
    "# Calculating the H-index of a researcher (testing and Simon version)\n",
    "\n",
    "This notebook shows how to use Python and the [Dimensions Analytics API](https://www.dimensions.ai/dimensions-apis/) to calculate the H-index of a researcher. \n",
    "\n",
    "NOTE: in the public folder there is a version I implemented"
   ]
  },
  {
   "cell_type": "markdown",
   "metadata": {},
   "source": [
    "#### Prerequisites"
   ]
  },
  {
   "cell_type": "code",
   "execution_count": 1,
   "metadata": {},
   "outputs": [
    {
     "name": "stdout",
     "output_type": "stream",
     "text": [
      "DimCli v0.5.4 - Succesfully connected to <https://app.dimensions.ai> (method: dsl.ini file)\n"
     ]
    }
   ],
   "source": [
    "# data analysis libraries \n",
    "import pandas as pd\n",
    "# Dimensions API query helper\n",
    "import dimcli\n",
    "dimcli.login()\n",
    "dsl = dimcli.Dsl()\n",
    "# "
   ]
  },
  {
   "cell_type": "markdown",
   "metadata": {},
   "source": [
    "### Selecting a researcher\n",
    "\n",
    "Let's take a researcher ID eg [Michael Boutros ur.01357111535.49](https://app.dimensions.ai/discover/publication?and_facet_researcher=ur.01357111535.49) and save its ID into a variable that can be referenced later.\n",
    "\n",
    "> Try modifying the researcher ID below to get different results! "
   ]
  },
  {
   "cell_type": "code",
   "execution_count": 2,
   "metadata": {},
   "outputs": [],
   "source": [
    "RESEARCHER = \"ur.01357111535.49\""
   ]
  },
  {
   "cell_type": "markdown",
   "metadata": {},
   "source": [
    "### Simon version"
   ]
  },
  {
   "cell_type": "code",
   "execution_count": 3,
   "metadata": {},
   "outputs": [
    {
     "name": "stdout",
     "output_type": "stream",
     "text": [
      "H_index is: 52.0\n"
     ]
    }
   ],
   "source": [
    "def get_H_Index(researcher_id):\n",
    "  tc = pd.DataFrame(dsl.query(\"\"\"\n",
    "      search publications\n",
    "      where researchers.id = \"{}\"\n",
    "      return publications[times_cited]\n",
    "      limit 1000\n",
    "  \"\"\".format(researcher_id))['publications'])\n",
    "  # Against each times cited, count the number of citations >= the number cited\n",
    "  tc['Hcandidate'] =  tc.apply(lambda r: len(tc[tc['times_cited']>= r['times_cited']].index), axis=1)\n",
    "  # Find the maximum where the value for times_cited <= the number of publications that have that citation value\n",
    "  return tc[tc['times_cited'] <= tc['Hcandidate'] ].times_cited.max()\n",
    "print(\"H_index is:\", get_H_Index(RESEARCHER))"
   ]
  },
  {
   "cell_type": "markdown",
   "metadata": {},
   "source": [
    "> ERROR: it should be 53, prob the issue is that the index is 0-based while for H-index it should be 1-based "
   ]
  },
  {
   "cell_type": "markdown",
   "metadata": {},
   "source": [
    "### My version"
   ]
  },
  {
   "cell_type": "markdown",
   "metadata": {},
   "source": [
    "The h-Index function takes a list of citations and outputs the h-index value as explained above: "
   ]
  },
  {
   "cell_type": "code",
   "execution_count": 4,
   "metadata": {},
   "outputs": [],
   "source": [
    "def the_H_function(sorted_citations_list, n=1):\n",
    "    \"\"\"from a list of integers [n1, n2 ..] representing publications citations, \n",
    "    return the max list-position which is >= integer\n",
    "    \n",
    "    eg \n",
    "    >>> the_H_function([10, 8, 5, 4, 3]) => 4\n",
    "    >>> the_H_function([25, 8, 5, 3, 3]) => 3\n",
    "    >>> the_H_function([1000, 20]) => 2\n",
    "    \"\"\"\n",
    "    if sorted_citations_list and sorted_citations_list[0] >= n:\n",
    "        return the_H_function(sorted_citations_list[1:], n+1)\n",
    "    else:\n",
    "        return n-1"
   ]
  },
  {
   "cell_type": "markdown",
   "metadata": {},
   "source": [
    "The H-index function is generic and can take any list of numbers representing publication citations. \n",
    "\n",
    "In order to pass some real-world data to the H-Index function, we can easily use the Dimensions API to extract all publication citations for a researcher, like this: "
   ]
  },
  {
   "cell_type": "code",
   "execution_count": 5,
   "metadata": {},
   "outputs": [],
   "source": [
    "def get_pubs_citations(researcher_id):\n",
    "    q = \"\"\"search publications where researchers.id = \"{}\" return publications[times_cited] sort by times_cited limit 1000\"\"\"\n",
    "    pubs = dsl.query(q.format(researcher_id))\n",
    "    return list(pubs.as_dataframe().fillna(0)['times_cited'])"
   ]
  },
  {
   "cell_type": "markdown",
   "metadata": {},
   "source": [
    "Finally, we combine the two functions to calculate the H-Index for a specific researcher:"
   ]
  },
  {
   "cell_type": "code",
   "execution_count": 6,
   "metadata": {},
   "outputs": [
    {
     "name": "stdout",
     "output_type": "stream",
     "text": [
      "H_index is: 53\n"
     ]
    }
   ],
   "source": [
    "print(\"H_index is:\", the_H_function(get_pubs_citations(RESEARCHER)))"
   ]
  },
  {
   "cell_type": "code",
   "execution_count": 10,
   "metadata": {},
   "outputs": [
    {
     "name": "stdout",
     "output_type": "stream",
     "text": [
      "1 757.0\n",
      "2 592.0\n",
      "3 557.0\n",
      "4 409.0\n",
      "5 382.0\n",
      "6 362.0\n",
      "7 358.0\n",
      "8 348.0\n",
      "9 336.0\n",
      "10 322.0\n",
      "11 315.0\n",
      "12 309.0\n",
      "13 296.0\n",
      "14 292.0\n",
      "15 268.0\n",
      "16 235.0\n",
      "17 218.0\n",
      "18 217.0\n",
      "19 213.0\n",
      "20 212.0\n",
      "21 157.0\n",
      "22 142.0\n",
      "23 140.0\n",
      "24 121.0\n",
      "25 119.0\n",
      "26 117.0\n",
      "27 109.0\n",
      "28 107.0\n",
      "29 103.0\n",
      "30 102.0\n",
      "31 101.0\n",
      "32 98.0\n",
      "33 90.0\n",
      "34 88.0\n",
      "35 87.0\n",
      "36 87.0\n",
      "37 84.0\n",
      "38 83.0\n",
      "39 81.0\n",
      "40 81.0\n",
      "41 75.0\n",
      "42 74.0\n",
      "43 72.0\n",
      "44 70.0\n",
      "45 69.0\n",
      "46 69.0\n",
      "47 68.0\n",
      "48 64.0\n",
      "49 64.0\n",
      "50 60.0\n",
      "51 58.0\n",
      "52 56.0\n",
      "53 55.0\n",
      "54 52.0\n",
      "55 52.0\n",
      "56 51.0\n",
      "57 45.0\n",
      "58 45.0\n",
      "59 44.0\n",
      "60 43.0\n",
      "61 41.0\n",
      "62 40.0\n",
      "63 37.0\n",
      "64 36.0\n",
      "65 36.0\n",
      "66 35.0\n",
      "67 35.0\n",
      "68 35.0\n",
      "69 34.0\n",
      "70 34.0\n",
      "71 34.0\n",
      "72 34.0\n",
      "73 33.0\n",
      "74 33.0\n",
      "75 32.0\n",
      "76 32.0\n",
      "77 31.0\n",
      "78 30.0\n",
      "79 30.0\n",
      "80 27.0\n",
      "81 27.0\n",
      "82 26.0\n",
      "83 26.0\n",
      "84 26.0\n",
      "85 25.0\n",
      "86 25.0\n",
      "87 25.0\n",
      "88 24.0\n",
      "89 24.0\n",
      "90 24.0\n",
      "91 23.0\n",
      "92 23.0\n",
      "93 23.0\n",
      "94 21.0\n",
      "95 21.0\n",
      "96 20.0\n",
      "97 20.0\n",
      "98 19.0\n",
      "99 19.0\n",
      "100 19.0\n",
      "101 18.0\n",
      "102 18.0\n",
      "103 18.0\n",
      "104 17.0\n",
      "105 17.0\n",
      "106 17.0\n",
      "107 16.0\n",
      "108 16.0\n",
      "109 15.0\n",
      "110 15.0\n",
      "111 15.0\n",
      "112 14.0\n",
      "113 14.0\n",
      "114 13.0\n",
      "115 12.0\n",
      "116 12.0\n",
      "117 12.0\n",
      "118 12.0\n",
      "119 11.0\n",
      "120 11.0\n",
      "121 11.0\n",
      "122 11.0\n",
      "123 10.0\n",
      "124 10.0\n",
      "125 9.0\n",
      "126 9.0\n",
      "127 8.0\n",
      "128 8.0\n",
      "129 7.0\n",
      "130 7.0\n",
      "131 7.0\n",
      "132 7.0\n",
      "133 7.0\n",
      "134 7.0\n",
      "135 6.0\n",
      "136 6.0\n",
      "137 6.0\n",
      "138 5.0\n",
      "139 5.0\n",
      "140 5.0\n",
      "141 5.0\n",
      "142 5.0\n",
      "143 5.0\n",
      "144 5.0\n",
      "145 5.0\n",
      "146 5.0\n",
      "147 4.0\n",
      "148 4.0\n",
      "149 4.0\n",
      "150 4.0\n",
      "151 3.0\n",
      "152 3.0\n",
      "153 3.0\n",
      "154 3.0\n",
      "155 2.0\n",
      "156 2.0\n",
      "157 2.0\n",
      "158 2.0\n",
      "159 2.0\n",
      "160 2.0\n",
      "161 2.0\n",
      "162 2.0\n",
      "163 2.0\n",
      "164 1.0\n",
      "165 1.0\n",
      "166 1.0\n",
      "167 1.0\n",
      "168 1.0\n",
      "169 1.0\n",
      "170 1.0\n",
      "171 0.0\n",
      "172 0.0\n",
      "173 0.0\n",
      "174 0.0\n",
      "175 0.0\n",
      "176 0.0\n",
      "177 0.0\n",
      "178 0.0\n",
      "179 0.0\n",
      "180 0.0\n",
      "181 0.0\n",
      "182 0.0\n",
      "183 0.0\n",
      "184 0.0\n",
      "185 0.0\n",
      "186 0.0\n",
      "187 0.0\n",
      "188 0.0\n",
      "189 0.0\n",
      "190 0.0\n",
      "191 0.0\n",
      "192 0.0\n",
      "193 0.0\n",
      "194 0.0\n",
      "195 0.0\n",
      "196 0.0\n",
      "197 0.0\n",
      "198 0.0\n",
      "199 0.0\n",
      "200 0.0\n",
      "201 0.0\n",
      "202 0.0\n",
      "203 0.0\n",
      "204 0.0\n",
      "205 0.0\n",
      "206 0.0\n",
      "207 0.0\n",
      "208 0.0\n",
      "209 0.0\n",
      "210 0.0\n",
      "211 0.0\n",
      "212 0.0\n",
      "213 0.0\n",
      "214 0.0\n",
      "215 0.0\n",
      "216 0.0\n",
      "217 0.0\n",
      "218 0.0\n"
     ]
    }
   ],
   "source": [
    "for x,y in enumerate(get_pubs_citations(RESEARCHER)):\n",
    "    print (x+1,y)"
   ]
  },
  {
   "cell_type": "code",
   "execution_count": null,
   "metadata": {},
   "outputs": [],
   "source": []
  }
 ],
 "metadata": {
  "kernelspec": {
   "display_name": "Python 3",
   "language": "python",
   "name": "python3"
  },
  "language_info": {
   "codemirror_mode": {
    "name": "ipython",
    "version": 3
   },
   "file_extension": ".py",
   "mimetype": "text/x-python",
   "name": "python",
   "nbconvert_exporter": "python",
   "pygments_lexer": "ipython3",
   "version": "3.7.4"
  }
 },
 "nbformat": 4,
 "nbformat_minor": 4
}
