{
 "cells": [
  {
   "cell_type": "markdown",
   "metadata": {
    "colab_type": "text",
    "id": "PelC31da1S6G"
   },
   "source": [
    "# Translate and DSL Search: Introduction\n",
    "\n",
    "September 18, 2019\n",
    "\n",
    "1. you enter a search text (e.g. 乳がん)\n",
    "2. you detect the language using Google translate (in the example: Japanese) - Jan can help if needed\n",
    "3. in case non-English text was entered\n",
    "  * you translate the text into English (in the example: breast cancer)\n",
    "  * you expand the search text (in the example: 乳がん OR \"breast cancer\") To be able to set the quotes, you need to get the tokens from the translation service.  \n",
    "4. You are performing a search in all available Dimensions data sources and you are returning the number of results without and with expansion"
   ]
  },
  {
   "cell_type": "markdown",
   "metadata": {
    "colab_type": "text",
    "id": "JmIHSwq46aK0"
   },
   "source": [
    "# 1. Install Libraries\n",
    "\n",
    "### Important\n",
    "If you see a **'Restart Runtime'** button after running this cell, please click it in order ensure all libraries work as expected."
   ]
  },
  {
   "cell_type": "code",
   "execution_count": null,
   "metadata": {
    "colab": {},
    "colab_type": "code",
    "id": "5cbCB86W0EHw"
   },
   "outputs": [],
   "source": [
    "# NOTE at the end of the installation please click the 'Restart Runtime' button \n",
    "!pip install dimcli prompt-toolkit plotly_express tqdm googletrans ipython -U"
   ]
  },
  {
   "cell_type": "markdown",
   "metadata": {
    "colab_type": "text",
    "id": "98_gAg3q1chs"
   },
   "source": [
    "# 2. Log into the Dimensions API\n",
    "\n",
    "And also setup a bunch of useful libraries. "
   ]
  },
  {
   "cell_type": "code",
   "execution_count": 1,
   "metadata": {
    "colab": {},
    "colab_type": "code",
    "id": "y74LlFHe1129"
   },
   "outputs": [
    {
     "name": "stdin",
     "output_type": "stream",
     "text": [
      "Enter username here ···\n",
      "Enter password here ····\n"
     ]
    },
    {
     "name": "stdout",
     "output_type": "stream",
     "text": [
      "=> username is emd\n",
      "=> password is ****\n",
      "401 Client Error: Unauthorized for url: https://app.dimensions.ai/api/auth.json\n",
      "Login failed: please ensure your credentials are correct.\n",
      "Warning: you are not logged in. Please use `dimcli.login(username, password)` before querying.\n"
     ]
    }
   ],
   "source": [
    "import pandas\n",
    "import time\n",
    "from tqdm import tqdm_notebook as tqdm\n",
    "from googletrans import Translator\n",
    "import dimcli\n",
    "import plotly_express as px\n",
    "# \n",
    "from getpass import getpass\n",
    "user = getpass('Enter username here')\n",
    "password = getpass('Enter password here')\n",
    "print('=> username is', user)\n",
    "print('=> password is', \"*\" * len(password))\n",
    "dimcli.login(user, password)\n",
    "#\n",
    "dsl = dimcli.Dsl()\n",
    "\n",
    "translator = Translator()"
   ]
  },
  {
   "cell_type": "markdown",
   "metadata": {
    "colab_type": "text",
    "id": "oLwUMzR23EXz"
   },
   "source": [
    "# 3. Define Functions for Querying"
   ]
  },
  {
   "cell_type": "code",
   "execution_count": null,
   "metadata": {
    "colab": {},
    "colab_type": "code",
    "id": "h-vC1Lz53GM1"
   },
   "outputs": [],
   "source": [
    "def translate(word):\n",
    "    \"\"\" Uses the  https://pypi.org/project/googletrans/ library to translate\"\"\"\n",
    "    # eg translate('乳がん')\n",
    "    r = translator.translate(word)\n",
    "    if r.src == \"en\":\n",
    "      return False\n",
    "    else:\n",
    "      return r.text\n",
    "\n",
    "def build_keywords(word):\n",
    "    \"\"\"\n",
    "    From a single keyword eg 乳がん, returned a list of keywords from translation eg\n",
    "    ['\\\\\"乳がん\\\\\"', '\\\\\"Breast cancer\\\\\"', '\\\\\"乳がん\\\\\" OR \\\\\"Breast cancer\\\\\"']\n",
    "    \"\"\"\n",
    "    t = translate(word)\n",
    "    if t:\n",
    "      return [f\"\"\"\\\\\\\"{word}\\\\\\\"\"\"\", f\"\"\"\\\\\\\"{t}\\\\\\\"\"\"\"] # f\"\"\"\\\\\\\"{word}\\\\\\\" OR \\\\\\\"{t}\\\\\\\"\"\"\"\n",
    "    else: # if english, no need to expand\n",
    "      return [f\"\"\"\\\\\\\"{word}\\\\\\\"\"\"\"]\n",
    "\n",
    "# The next function launches a query ```search publications for \\\"keyword\\\" return publications limit 1``` on all DSL sources. \n",
    "\n",
    "def multi_search(keywords, sources):\n",
    "    \"Launch multiple keyword searches across multiple DSL sources\"\n",
    "    out = []\n",
    "    for k in tqdm(keywords, desc='1st loop: keywords'):\n",
    "        for s in tqdm(sources, desc='2nd loop: sources'):\n",
    "            res = dsl.query(f\"\"\"search {s} for \\\"{k}\\\" return {s} limit 1\"\"\",  show_results=False)\n",
    "    #         print(s, res.total_count)\n",
    "            out.append({'source' : s, 'objects' : res.total_count, 'query' : k})\n",
    "            time.sleep(1)\n",
    "    return pandas.DataFrame.from_dict(out)"
   ]
  },
  {
   "cell_type": "markdown",
   "metadata": {
    "colab_type": "text",
    "id": "52cxTe023xzO"
   },
   "source": [
    "# 4. Run Your Query"
   ]
  },
  {
   "cell_type": "code",
   "execution_count": null,
   "metadata": {
    "cellView": "form",
    "colab": {},
    "colab_type": "code",
    "id": "uhhNhnZr6XKA"
   },
   "outputs": [],
   "source": [
    "#@title Enter a Search Term\n",
    "\n",
    "search_term = '\\u4E73\\u304C\\u3093'  #@param {type: \"string\"}\n",
    "\n",
    "keywords = build_keywords(search_term)\n",
    "print(\"Expanded into.. :\", keywords)\n",
    "sources = [x for x in dimcli.G.sources() if x != 'researchers']\n",
    "print(\"Searching in.. :\", sources)\n",
    "df = multi_search(build_keywords(search_term), sources)\n",
    "df"
   ]
  },
  {
   "cell_type": "markdown",
   "metadata": {
    "colab_type": "text",
    "id": "QBOlZ_rlCIy_"
   },
   "source": [
    "### Plot the results "
   ]
  },
  {
   "cell_type": "code",
   "execution_count": null,
   "metadata": {
    "colab": {},
    "colab_type": "code",
    "id": "yFseBQKe4xFo"
   },
   "outputs": [],
   "source": [
    "px.bar(df, x=\"query\", y=\"objects\", color=\"source\")"
   ]
  },
  {
   "cell_type": "code",
   "execution_count": null,
   "metadata": {
    "colab": {},
    "colab_type": "code",
    "id": "UlolWYC0CleO"
   },
   "outputs": [],
   "source": [
    "px.bar(df, x=\"source\", y=\"objects\", facet_col=\"query\")"
   ]
  }
 ],
 "metadata": {
  "colab": {
   "collapsed_sections": [],
   "name": "Translate and DSL Search.ipynb",
   "provenance": []
  },
  "kernel_info": {
   "name": "python3"
  },
  "kernelspec": {
   "display_name": "Python 3",
   "language": "python",
   "name": "python3"
  },
  "language_info": {
   "codemirror_mode": {
    "name": "ipython",
    "version": 3
   },
   "file_extension": ".py",
   "mimetype": "text/x-python",
   "name": "python",
   "nbconvert_exporter": "python",
   "pygments_lexer": "ipython3",
   "version": "3.7.4"
  },
  "nteract": {
   "version": "0.15.0"
  }
 },
 "nbformat": 4,
 "nbformat_minor": 4
}
