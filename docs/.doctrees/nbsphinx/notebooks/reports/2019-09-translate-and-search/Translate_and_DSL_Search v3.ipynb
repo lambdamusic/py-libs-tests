{
 "cells": [
  {
   "cell_type": "markdown",
   "metadata": {
    "colab_type": "text",
    "id": "PelC31da1S6G"
   },
   "source": [
    "# Translate and DSL Search: Introduction\n",
    "\n",
    "September 18, 2019 (updated September 26, 2019)\n",
    "\n",
    "---\n",
    "\n",
    "**Original requirements**\n",
    "1. you enter a search text (e.g. 乳がん)\n",
    "2. you detect the language using Google translate (in the example: Japanese)\n",
    "3. in case non-English text was entered\n",
    "  * you translate the text into English (in the example: breast cancer)\n",
    "  * you expand the search text (in the example: 乳がん OR \"breast cancer\") To be able to set the quotes, you need to get the tokens from the translation service.  \n",
    "4. You are performing a search in all available Dimensions data sources and you are returning the number of results without and with expansion\n",
    "\n",
    "---\n",
    "\n",
    "**Lessons Learned**\n",
    "\n",
    "* Language detection is not necessary as the [googletrans](https://pypi.org/project/googletrans/) library does it automatically\n",
    "* Google translate does not offer any tokenizer service for tranlations. I implemented a basic tokenizer for nouns/noun_phrases using [textblob](https://textblob.readthedocs.io/en/dev/) which is built on top of nltk\n",
    "* The [dimcli](https://pypi.org/project/dimcli/) library for Dimensions API has been updated so that it loads nicely in Google Colab. No need to restart the Kernel anymore, just run the cells from top to bottom"
   ]
  },
  {
   "cell_type": "markdown",
   "metadata": {
    "colab_type": "text",
    "id": "JmIHSwq46aK0"
   },
   "source": [
    "# 1. Install Libraries\n"
   ]
  },
  {
   "cell_type": "code",
   "execution_count": 1,
   "metadata": {
    "colab": {},
    "colab_type": "code",
    "id": "5cbCB86W0EHw"
   },
   "outputs": [
    {
     "name": "stdout",
     "output_type": "stream",
     "text": [
      "Requirement already up-to-date: dimcli in /Users/michele.pasin/Envs/dslqa/lib/python3.8/site-packages (0.7.3)\r\n"
     ]
    },
    {
     "name": "stdout",
     "output_type": "stream",
     "text": [
      "Requirement already up-to-date: plotly_express in /Users/michele.pasin/Envs/dslqa/lib/python3.8/site-packages (0.4.1)\r\n",
      "Requirement already up-to-date: googletrans in /Users/michele.pasin/Envs/dslqa/lib/python3.8/site-packages (3.0.0)\r\n"
     ]
    },
    {
     "name": "stdout",
     "output_type": "stream",
     "text": [
      "Requirement already up-to-date: textblob in /Users/michele.pasin/Envs/dslqa/lib/python3.8/site-packages (0.15.3)\r\n",
      "Requirement already satisfied, skipping upgrade: recommonmark in /Users/michele.pasin/Envs/dslqa/lib/python3.8/site-packages (from dimcli) (0.6.0)\r\n"
     ]
    },
    {
     "name": "stdout",
     "output_type": "stream",
     "text": [
      "Requirement already satisfied, skipping upgrade: requests in /Users/michele.pasin/Envs/dslqa/lib/python3.8/site-packages (from dimcli) (2.24.0)\r\n",
      "Requirement already satisfied, skipping upgrade: pandas in /Users/michele.pasin/Envs/dslqa/lib/python3.8/site-packages (from dimcli) (1.1.0)\r\n",
      "Requirement already satisfied, skipping upgrade: click in /Users/michele.pasin/Envs/dslqa/lib/python3.8/site-packages (from dimcli) (7.1.2)\r\n",
      "Requirement already satisfied, skipping upgrade: pygments in /Users/michele.pasin/Envs/dslqa/lib/python3.8/site-packages (from dimcli) (2.6.1)\r\n",
      "Requirement already satisfied, skipping upgrade: packaging in /Users/michele.pasin/Envs/dslqa/lib/python3.8/site-packages (from dimcli) (20.4)\r\n",
      "Requirement already satisfied, skipping upgrade: prompt-toolkit in /Users/michele.pasin/Envs/dslqa/lib/python3.8/site-packages (from dimcli) (3.0.5)\r\n",
      "Requirement already satisfied, skipping upgrade: ipython in /Users/michele.pasin/Envs/dslqa/lib/python3.8/site-packages (from dimcli) (7.17.0)\r\n"
     ]
    },
    {
     "name": "stdout",
     "output_type": "stream",
     "text": [
      "Requirement already satisfied, skipping upgrade: scipy>=0.18 in /Users/michele.pasin/Envs/dslqa/lib/python3.8/site-packages (from plotly_express) (1.5.2)\r\n",
      "Requirement already satisfied, skipping upgrade: plotly>=4.1.0 in /Users/michele.pasin/Envs/dslqa/lib/python3.8/site-packages (from plotly_express) (4.9.0)\r\n",
      "Requirement already satisfied, skipping upgrade: numpy>=1.11 in /Users/michele.pasin/Envs/dslqa/lib/python3.8/site-packages (from plotly_express) (1.19.1)\r\n",
      "Requirement already satisfied, skipping upgrade: patsy>=0.5 in /Users/michele.pasin/Envs/dslqa/lib/python3.8/site-packages (from plotly_express) (0.5.1)\r\n",
      "Requirement already satisfied, skipping upgrade: statsmodels>=0.9.0 in /Users/michele.pasin/Envs/dslqa/lib/python3.8/site-packages (from plotly_express) (0.11.1)\r\n",
      "Requirement already satisfied, skipping upgrade: httpx==0.13.3 in /Users/michele.pasin/Envs/dslqa/lib/python3.8/site-packages (from googletrans) (0.13.3)\r\n",
      "Requirement already satisfied, skipping upgrade: nltk>=3.1 in /Users/michele.pasin/Envs/dslqa/lib/python3.8/site-packages (from textblob) (3.5)\r\n"
     ]
    },
    {
     "name": "stdout",
     "output_type": "stream",
     "text": [
      "Requirement already satisfied, skipping upgrade: commonmark>=0.8.1 in /Users/michele.pasin/Envs/dslqa/lib/python3.8/site-packages (from recommonmark->dimcli) (0.9.1)\r\n",
      "Requirement already satisfied, skipping upgrade: docutils>=0.11 in /Users/michele.pasin/Envs/dslqa/lib/python3.8/site-packages (from recommonmark->dimcli) (0.16)\r\n",
      "Requirement already satisfied, skipping upgrade: sphinx>=1.3.1 in /Users/michele.pasin/Envs/dslqa/lib/python3.8/site-packages (from recommonmark->dimcli) (3.1.2)\r\n",
      "Requirement already satisfied, skipping upgrade: certifi>=2017.4.17 in /Users/michele.pasin/Envs/dslqa/lib/python3.8/site-packages (from requests->dimcli) (2020.6.20)\r\n",
      "Requirement already satisfied, skipping upgrade: chardet<4,>=3.0.2 in /Users/michele.pasin/Envs/dslqa/lib/python3.8/site-packages (from requests->dimcli) (3.0.4)\r\n",
      "Requirement already satisfied, skipping upgrade: urllib3!=1.25.0,!=1.25.1,<1.26,>=1.21.1 in /Users/michele.pasin/Envs/dslqa/lib/python3.8/site-packages (from requests->dimcli) (1.25.10)\r\n",
      "Requirement already satisfied, skipping upgrade: idna<3,>=2.5 in /Users/michele.pasin/Envs/dslqa/lib/python3.8/site-packages (from requests->dimcli) (2.10)\r\n"
     ]
    },
    {
     "name": "stdout",
     "output_type": "stream",
     "text": [
      "Requirement already satisfied, skipping upgrade: python-dateutil>=2.7.3 in /Users/michele.pasin/Envs/dslqa/lib/python3.8/site-packages (from pandas->dimcli) (2.8.1)\r\n",
      "Requirement already satisfied, skipping upgrade: pytz>=2017.2 in /Users/michele.pasin/Envs/dslqa/lib/python3.8/site-packages (from pandas->dimcli) (2020.1)\r\n",
      "Requirement already satisfied, skipping upgrade: six in /Users/michele.pasin/Envs/dslqa/lib/python3.8/site-packages (from packaging->dimcli) (1.15.0)\r\n",
      "Requirement already satisfied, skipping upgrade: pyparsing>=2.0.2 in /Users/michele.pasin/Envs/dslqa/lib/python3.8/site-packages (from packaging->dimcli) (2.4.7)\r\n",
      "Requirement already satisfied, skipping upgrade: wcwidth in /Users/michele.pasin/Envs/dslqa/lib/python3.8/site-packages (from prompt-toolkit->dimcli) (0.2.5)\r\n",
      "Requirement already satisfied, skipping upgrade: setuptools>=18.5 in /Users/michele.pasin/Envs/dslqa/lib/python3.8/site-packages (from ipython->dimcli) (49.2.0)\r\n",
      "Requirement already satisfied, skipping upgrade: pickleshare in /Users/michele.pasin/Envs/dslqa/lib/python3.8/site-packages (from ipython->dimcli) (0.7.5)\r\n",
      "Requirement already satisfied, skipping upgrade: pexpect; sys_platform != \"win32\" in /Users/michele.pasin/Envs/dslqa/lib/python3.8/site-packages (from ipython->dimcli) (4.8.0)\r\n",
      "Requirement already satisfied, skipping upgrade: decorator in /Users/michele.pasin/Envs/dslqa/lib/python3.8/site-packages (from ipython->dimcli) (4.4.2)\r\n",
      "Requirement already satisfied, skipping upgrade: appnope; sys_platform == \"darwin\" in /Users/michele.pasin/Envs/dslqa/lib/python3.8/site-packages (from ipython->dimcli) (0.1.0)\r\n",
      "Requirement already satisfied, skipping upgrade: backcall in /Users/michele.pasin/Envs/dslqa/lib/python3.8/site-packages (from ipython->dimcli) (0.2.0)\r\n",
      "Requirement already satisfied, skipping upgrade: jedi>=0.10 in /Users/michele.pasin/Envs/dslqa/lib/python3.8/site-packages (from ipython->dimcli) (0.17.2)\r\n",
      "Requirement already satisfied, skipping upgrade: traitlets>=4.2 in /Users/michele.pasin/Envs/dslqa/lib/python3.8/site-packages (from ipython->dimcli) (4.3.3)\r\n",
      "Requirement already satisfied, skipping upgrade: retrying>=1.3.3 in /Users/michele.pasin/Envs/dslqa/lib/python3.8/site-packages (from plotly>=4.1.0->plotly_express) (1.3.3)\r\n"
     ]
    },
    {
     "name": "stdout",
     "output_type": "stream",
     "text": [
      "Requirement already satisfied, skipping upgrade: httpcore==0.9.* in /Users/michele.pasin/Envs/dslqa/lib/python3.8/site-packages (from httpx==0.13.3->googletrans) (0.9.1)\r\n",
      "Requirement already satisfied, skipping upgrade: rfc3986<2,>=1.3 in /Users/michele.pasin/Envs/dslqa/lib/python3.8/site-packages (from httpx==0.13.3->googletrans) (1.4.0)\r\n",
      "Requirement already satisfied, skipping upgrade: sniffio in /Users/michele.pasin/Envs/dslqa/lib/python3.8/site-packages (from httpx==0.13.3->googletrans) (1.1.0)\r\n",
      "Requirement already satisfied, skipping upgrade: hstspreload in /Users/michele.pasin/Envs/dslqa/lib/python3.8/site-packages (from httpx==0.13.3->googletrans) (2020.8.12)\r\n",
      "Requirement already satisfied, skipping upgrade: joblib in /Users/michele.pasin/Envs/dslqa/lib/python3.8/site-packages (from nltk>=3.1->textblob) (0.16.0)\r\n",
      "Requirement already satisfied, skipping upgrade: regex in /Users/michele.pasin/Envs/dslqa/lib/python3.8/site-packages (from nltk>=3.1->textblob) (2020.7.14)\r\n",
      "Requirement already satisfied, skipping upgrade: tqdm in /Users/michele.pasin/Envs/dslqa/lib/python3.8/site-packages (from nltk>=3.1->textblob) (4.48.2)\r\n",
      "Requirement already satisfied, skipping upgrade: sphinxcontrib-jsmath in /Users/michele.pasin/Envs/dslqa/lib/python3.8/site-packages (from sphinx>=1.3.1->recommonmark->dimcli) (1.0.1)\r\n",
      "Requirement already satisfied, skipping upgrade: alabaster<0.8,>=0.7 in /Users/michele.pasin/Envs/dslqa/lib/python3.8/site-packages (from sphinx>=1.3.1->recommonmark->dimcli) (0.7.12)\r\n",
      "Requirement already satisfied, skipping upgrade: sphinxcontrib-htmlhelp in /Users/michele.pasin/Envs/dslqa/lib/python3.8/site-packages (from sphinx>=1.3.1->recommonmark->dimcli) (1.0.3)\r\n",
      "Requirement already satisfied, skipping upgrade: sphinxcontrib-applehelp in /Users/michele.pasin/Envs/dslqa/lib/python3.8/site-packages (from sphinx>=1.3.1->recommonmark->dimcli) (1.0.2)\r\n",
      "Requirement already satisfied, skipping upgrade: sphinxcontrib-serializinghtml in /Users/michele.pasin/Envs/dslqa/lib/python3.8/site-packages (from sphinx>=1.3.1->recommonmark->dimcli) (1.1.4)\r\n",
      "Requirement already satisfied, skipping upgrade: snowballstemmer>=1.1 in /Users/michele.pasin/Envs/dslqa/lib/python3.8/site-packages (from sphinx>=1.3.1->recommonmark->dimcli) (2.0.0)\r\n",
      "Requirement already satisfied, skipping upgrade: sphinxcontrib-devhelp in /Users/michele.pasin/Envs/dslqa/lib/python3.8/site-packages (from sphinx>=1.3.1->recommonmark->dimcli) (1.0.2)\r\n",
      "Requirement already satisfied, skipping upgrade: sphinxcontrib-qthelp in /Users/michele.pasin/Envs/dslqa/lib/python3.8/site-packages (from sphinx>=1.3.1->recommonmark->dimcli) (1.0.3)\r\n"
     ]
    },
    {
     "name": "stdout",
     "output_type": "stream",
     "text": [
      "Requirement already satisfied, skipping upgrade: babel>=1.3 in /Users/michele.pasin/Envs/dslqa/lib/python3.8/site-packages (from sphinx>=1.3.1->recommonmark->dimcli) (2.8.0)\r\n",
      "Requirement already satisfied, skipping upgrade: imagesize in /Users/michele.pasin/Envs/dslqa/lib/python3.8/site-packages (from sphinx>=1.3.1->recommonmark->dimcli) (1.2.0)\r\n",
      "Requirement already satisfied, skipping upgrade: Jinja2>=2.3 in /Users/michele.pasin/Envs/dslqa/lib/python3.8/site-packages (from sphinx>=1.3.1->recommonmark->dimcli) (2.11.2)\r\n",
      "Requirement already satisfied, skipping upgrade: ptyprocess>=0.5 in /Users/michele.pasin/Envs/dslqa/lib/python3.8/site-packages (from pexpect; sys_platform != \"win32\"->ipython->dimcli) (0.6.0)\r\n",
      "Requirement already satisfied, skipping upgrade: parso<0.8.0,>=0.7.0 in /Users/michele.pasin/Envs/dslqa/lib/python3.8/site-packages (from jedi>=0.10->ipython->dimcli) (0.7.1)\r\n",
      "Requirement already satisfied, skipping upgrade: ipython-genutils in /Users/michele.pasin/Envs/dslqa/lib/python3.8/site-packages (from traitlets>=4.2->ipython->dimcli) (0.2.0)\r\n",
      "Requirement already satisfied, skipping upgrade: h2==3.* in /Users/michele.pasin/Envs/dslqa/lib/python3.8/site-packages (from httpcore==0.9.*->httpx==0.13.3->googletrans) (3.2.0)\r\n",
      "Requirement already satisfied, skipping upgrade: h11<0.10,>=0.8 in /Users/michele.pasin/Envs/dslqa/lib/python3.8/site-packages (from httpcore==0.9.*->httpx==0.13.3->googletrans) (0.9.0)\r\n",
      "Requirement already satisfied, skipping upgrade: MarkupSafe>=0.23 in /Users/michele.pasin/Envs/dslqa/lib/python3.8/site-packages (from Jinja2>=2.3->sphinx>=1.3.1->recommonmark->dimcli) (1.1.1)\r\n",
      "Requirement already satisfied, skipping upgrade: hpack<4,>=3.0 in /Users/michele.pasin/Envs/dslqa/lib/python3.8/site-packages (from h2==3.*->httpcore==0.9.*->httpx==0.13.3->googletrans) (3.0.0)\r\n",
      "Requirement already satisfied, skipping upgrade: hyperframe<6,>=5.2.0 in /Users/michele.pasin/Envs/dslqa/lib/python3.8/site-packages (from h2==3.*->httpcore==0.9.*->httpx==0.13.3->googletrans) (5.2.0)\r\n"
     ]
    },
    {
     "name": "stdout",
     "output_type": "stream",
     "text": [
      "\u001b[33mWARNING: You are using pip version 20.1.1; however, version 20.2.2 is available.\r\n",
      "You should consider upgrading via the '/Users/michele.pasin/Envs/dslqa/bin/python -m pip install --upgrade pip' command.\u001b[0m\r\n"
     ]
    },
    {
     "name": "stdout",
     "output_type": "stream",
     "text": [
      "[nltk_data] Downloading package brown to\r\n",
      "[nltk_data]     /Users/michele.pasin/nltk_data...\r\n"
     ]
    },
    {
     "name": "stdout",
     "output_type": "stream",
     "text": [
      "[nltk_data]   Package brown is already up-to-date!\r\n",
      "[nltk_data] Downloading package punkt to\r\n",
      "[nltk_data]     /Users/michele.pasin/nltk_data...\r\n",
      "[nltk_data]   Package punkt is already up-to-date!\r\n",
      "[nltk_data] Downloading package wordnet to\r\n",
      "[nltk_data]     /Users/michele.pasin/nltk_data...\r\n"
     ]
    },
    {
     "name": "stdout",
     "output_type": "stream",
     "text": [
      "[nltk_data]   Package wordnet is already up-to-date!\r\n",
      "[nltk_data] Downloading package averaged_perceptron_tagger to\r\n",
      "[nltk_data]     /Users/michele.pasin/nltk_data...\r\n",
      "[nltk_data]   Package averaged_perceptron_tagger is already up-to-\r\n",
      "[nltk_data]       date!\r\n",
      "[nltk_data] Downloading package conll2000 to\r\n",
      "[nltk_data]     /Users/michele.pasin/nltk_data...\r\n",
      "[nltk_data]   Package conll2000 is already up-to-date!\r\n",
      "[nltk_data] Downloading package movie_reviews to\r\n",
      "[nltk_data]     /Users/michele.pasin/nltk_data...\r\n"
     ]
    },
    {
     "name": "stdout",
     "output_type": "stream",
     "text": [
      "[nltk_data]   Package movie_reviews is already up-to-date!\r\n",
      "Finished.\r\n"
     ]
    }
   ],
   "source": [
    "!pip install dimcli plotly_express googletrans textblob -U\n",
    "!python -m textblob.download_corpora"
   ]
  },
  {
   "cell_type": "markdown",
   "metadata": {
    "colab_type": "text",
    "id": "98_gAg3q1chs"
   },
   "source": [
    "# 2. Log into the Dimensions API\n",
    "\n",
    "And also setup a bunch of useful libraries. "
   ]
  },
  {
   "cell_type": "code",
   "execution_count": 2,
   "metadata": {
    "cellView": "both",
    "colab": {},
    "colab_type": "code",
    "id": "y74LlFHe1129"
   },
   "outputs": [
    {
     "ename": "StdinNotImplementedError",
     "evalue": "getpass was called, but this frontend does not support input requests.",
     "output_type": "error",
     "traceback": [
      "\u001b[0;31m---------------------------------------------------------------------------\u001b[0m",
      "\u001b[0;31mStdinNotImplementedError\u001b[0m                  Traceback (most recent call last)",
      "\u001b[0;32m<ipython-input-2-6127baf29036>\u001b[0m in \u001b[0;36m<module>\u001b[0;34m\u001b[0m\n\u001b[1;32m     13\u001b[0m \u001b[0;34m\u001b[0m\u001b[0m\n\u001b[1;32m     14\u001b[0m \u001b[0muser\u001b[0m \u001b[0;34m=\u001b[0m \u001b[0;34m\"\"\u001b[0m  \u001b[0;31m#@param {type: \"string\"}\u001b[0m\u001b[0;34m\u001b[0m\u001b[0;34m\u001b[0m\u001b[0m\n\u001b[0;32m---> 15\u001b[0;31m \u001b[0mpassword\u001b[0m \u001b[0;34m=\u001b[0m \u001b[0mgetpass\u001b[0m\u001b[0;34m(\u001b[0m\u001b[0;34m'Enter password here'\u001b[0m\u001b[0;34m)\u001b[0m\u001b[0;34m\u001b[0m\u001b[0;34m\u001b[0m\u001b[0m\n\u001b[0m\u001b[1;32m     16\u001b[0m \u001b[0mprint\u001b[0m\u001b[0;34m(\u001b[0m\u001b[0;34m'=> username is'\u001b[0m\u001b[0;34m,\u001b[0m \u001b[0muser\u001b[0m\u001b[0;34m)\u001b[0m\u001b[0;34m\u001b[0m\u001b[0;34m\u001b[0m\u001b[0m\n\u001b[1;32m     17\u001b[0m \u001b[0mprint\u001b[0m\u001b[0;34m(\u001b[0m\u001b[0;34m'=> password is'\u001b[0m\u001b[0;34m,\u001b[0m \u001b[0;34m\"*\"\u001b[0m \u001b[0;34m*\u001b[0m \u001b[0mlen\u001b[0m\u001b[0;34m(\u001b[0m\u001b[0mpassword\u001b[0m\u001b[0;34m)\u001b[0m\u001b[0;34m)\u001b[0m\u001b[0;34m\u001b[0m\u001b[0;34m\u001b[0m\u001b[0m\n",
      "\u001b[0;32m~/Envs/dslqa/lib/python3.8/site-packages/ipykernel/kernelbase.py\u001b[0m in \u001b[0;36mgetpass\u001b[0;34m(self, prompt, stream)\u001b[0m\n\u001b[1;32m    834\u001b[0m         \"\"\"\n\u001b[1;32m    835\u001b[0m         \u001b[0;32mif\u001b[0m \u001b[0;32mnot\u001b[0m \u001b[0mself\u001b[0m\u001b[0;34m.\u001b[0m\u001b[0m_allow_stdin\u001b[0m\u001b[0;34m:\u001b[0m\u001b[0;34m\u001b[0m\u001b[0;34m\u001b[0m\u001b[0m\n\u001b[0;32m--> 836\u001b[0;31m             raise StdinNotImplementedError(\n\u001b[0m\u001b[1;32m    837\u001b[0m                 \u001b[0;34m\"getpass was called, but this frontend does not support input requests.\"\u001b[0m\u001b[0;34m\u001b[0m\u001b[0;34m\u001b[0m\u001b[0m\n\u001b[1;32m    838\u001b[0m             )\n",
      "\u001b[0;31mStdinNotImplementedError\u001b[0m: getpass was called, but this frontend does not support input requests."
     ]
    }
   ],
   "source": [
    "import pandas\n",
    "import time\n",
    "from tqdm import tqdm_notebook as tqdm\n",
    "from googletrans import Translator\n",
    "import dimcli\n",
    "import plotly_express as px\n",
    "from textblob import TextBlob\n",
    "from getpass import getpass\n",
    "\n",
    "##\n",
    "# LOG IN \n",
    "##\n",
    "\n",
    "user = \"\"  #@param {type: \"string\"}\n",
    "password = getpass('Enter password here')\n",
    "print('=> username is', user)\n",
    "print('=> password is', \"*\" * len(password))\n",
    "dimcli.login(user, password)\n",
    "\n",
    "##\n",
    "# OBJECTS \n",
    "##\n",
    "\n",
    "dsl = dimcli.Dsl()\n",
    "translator = Translator()\n",
    "\n",
    "\n",
    "##\n",
    "# FUNCTIONS \n",
    "##\n",
    "\n",
    "def nouns_and_noun_phrases(s, dolower=True):\n",
    "  \"\"\" eg\n",
    "  > nouns_and_noun_phrases(\"women with breast cancer and men with breast cancer\")\n",
    "  > => ['women', 'men', 'breast cancer']\n",
    "  \"\"\"\n",
    "  if dolower: # this avoids bad tokenizations sometimes\n",
    "    s = s.lower()\n",
    "  blob, out = TextBlob(s), []\n",
    "  noun_phrases = list(set(blob.noun_phrases))\n",
    "  nouns = [n for n,t in blob.tags if t in ['NN', 'NNS', 'NNP', 'NNPS']]\n",
    "  for x in nouns:\n",
    "    flag = False\n",
    "    for y in noun_phrases:\n",
    "      if x in y:\n",
    "        flag = True\n",
    "    if not flag:\n",
    "      out.append(x)\n",
    "  return out + noun_phrases\n",
    "\n",
    "def build_keywords(word):\n",
    "    \"\"\"\n",
    "    From a single keyword eg 乳がん, returned a list of keywords from translation eg\n",
    "    ['\\\\\"乳がん\\\\\"', '\\\\\"Breast cancer\\\\\"', '\\\\\"乳がん\\\\\" OR \\\\\"Breast cancer\\\\\"']\n",
    "    \"\"\"\n",
    "    word = word.strip()\n",
    "    quotes_flag = False\n",
    "    if word[0] == '\"' and word[-1] == '\"':\n",
    "      word = word.replace(\"\\\"\", \"\")\n",
    "      quotes_flag = True\n",
    "    t = translate(word)\n",
    "    if t:\n",
    "      # if it's a non-english word\n",
    "      if quotes_flag:\n",
    "        word = f\"\"\"\\\\\\\"{word}\\\\\\\"\"\"\"\n",
    "        t = f\"\"\"\\\\\\\"{t}\\\\\\\"\"\"\"\n",
    "        return [f\"\"\"{word}\"\"\", f\"\"\"{t}\"\"\"]\n",
    "      else:\n",
    "        # if not in quotes, try to tokenize the english version\n",
    "        tokens = nouns_and_noun_phrases(t)\n",
    "        s = \" AND \".join([f\"\"\"\\\\\\\"{x}\\\\\\\"\"\"\" for x in tokens])\n",
    "        return [f\"\"\"{word}\"\"\", f\"\"\"{s}\"\"\"]\n",
    "    else:\n",
    "      # if not translation\n",
    "      if quotes_flag:\n",
    "        word = f\"\"\"\\\\\\\"{word}\\\\\\\"\"\"\"\n",
    "      return [f\"\"\"{word}\"\"\"] \n",
    "\n",
    "\n",
    "def translate(word):\n",
    "    \"\"\" Uses the  https://pypi.org/project/googletrans/ library to translate\"\"\"\n",
    "    # eg translate('乳がん')\n",
    "    r = translator.translate(word)\n",
    "    if r.src == \"en\":\n",
    "      return False\n",
    "    else:\n",
    "      return r.text\n",
    "\n",
    "# The next function launches a query ```search publications for \\\"keyword\\\" return publications limit 1``` on all DSL sources. \n",
    "\n",
    "def multi_search(keywords, sources):\n",
    "    \"Launch multiple keyword searches across multiple DSL sources\"\n",
    "    out = []\n",
    "    for k in tqdm(keywords, desc='1st loop: keywords'):\n",
    "        for s in tqdm(sources, desc='2nd loop: sources'):\n",
    "            res = dsl.query(f\"\"\"search {s} for \\\"{k}\\\" return {s} limit 1\"\"\",  show_results=False)\n",
    "    #         print(s, res.total_count)\n",
    "            out.append({'source' : s, 'objects' : res.count_total, 'query' : k})\n",
    "            time.sleep(1)\n",
    "    return pandas.DataFrame.from_dict(out)\n",
    "\n",
    "# EG \n",
    "# print(translate(' \\u4E73\\u304C\\u3093'))\n",
    "# print(build_keywords(\"Breast cancer\"))\n",
    "# print(nouns_and_noun_phrases(\"Breast cancer\"))\n",
    "# print(build_keywords(' \\u4E73\\u304C\\u3093'))\n",
    "# print(build_keywords('乳がんの女性')) . # tokenizer will kick in here\n",
    "\n",
    "# => \n",
    "# >> Breast cancer\n",
    "# >> ['breast cancer']\n",
    "# >> Women with breast cancer\n",
    "# >> ['women', 'breast cancer']\n",
    "# >> ['乳がんの女性', '\\\\\"women\\\\\" AND \\\\\"breast cancer\\\\\"']"
   ]
  },
  {
   "cell_type": "markdown",
   "metadata": {
    "colab_type": "text",
    "id": "52cxTe023xzO"
   },
   "source": [
    "# 3. Run Your Query\n",
    "\n",
    "You can use quotes for exact matches for example \"乳がん\""
   ]
  },
  {
   "cell_type": "code",
   "execution_count": 3,
   "metadata": {
    "cellView": "both",
    "colab": {},
    "colab_type": "code",
    "id": "uhhNhnZr6XKA"
   },
   "outputs": [
    {
     "ename": "NameError",
     "evalue": "name 'build_keywords' is not defined",
     "output_type": "error",
     "traceback": [
      "\u001b[0;31m---------------------------------------------------------------------------\u001b[0m",
      "\u001b[0;31mNameError\u001b[0m                                 Traceback (most recent call last)",
      "\u001b[0;32m<ipython-input-3-0771417a4cfb>\u001b[0m in \u001b[0;36m<module>\u001b[0;34m\u001b[0m\n\u001b[1;32m      3\u001b[0m \u001b[0msearch_term\u001b[0m \u001b[0;34m=\u001b[0m \u001b[0;34m'\\u4E73\\u304C\\u3093\\u306E\\u5973\\u6027'\u001b[0m  \u001b[0;31m#@param {type: \"string\"}\u001b[0m\u001b[0;34m\u001b[0m\u001b[0;34m\u001b[0m\u001b[0m\n\u001b[1;32m      4\u001b[0m \u001b[0;34m\u001b[0m\u001b[0m\n\u001b[0;32m----> 5\u001b[0;31m \u001b[0mkeywords\u001b[0m \u001b[0;34m=\u001b[0m \u001b[0mbuild_keywords\u001b[0m\u001b[0;34m(\u001b[0m\u001b[0msearch_term\u001b[0m\u001b[0;34m)\u001b[0m\u001b[0;34m\u001b[0m\u001b[0;34m\u001b[0m\u001b[0m\n\u001b[0m\u001b[1;32m      6\u001b[0m \u001b[0mprint\u001b[0m\u001b[0;34m(\u001b[0m\u001b[0;34m\"Expanded into.. :\"\u001b[0m\u001b[0;34m,\u001b[0m \u001b[0mkeywords\u001b[0m\u001b[0;34m)\u001b[0m\u001b[0;34m\u001b[0m\u001b[0;34m\u001b[0m\u001b[0m\n\u001b[1;32m      7\u001b[0m \u001b[0msources\u001b[0m \u001b[0;34m=\u001b[0m \u001b[0;34m[\u001b[0m\u001b[0mx\u001b[0m \u001b[0;32mfor\u001b[0m \u001b[0mx\u001b[0m \u001b[0;32min\u001b[0m \u001b[0mdimcli\u001b[0m\u001b[0;34m.\u001b[0m\u001b[0mG\u001b[0m\u001b[0;34m.\u001b[0m\u001b[0msources\u001b[0m\u001b[0;34m(\u001b[0m\u001b[0;34m)\u001b[0m \u001b[0;32mif\u001b[0m \u001b[0mx\u001b[0m \u001b[0;34m!=\u001b[0m \u001b[0;34m'researchers'\u001b[0m\u001b[0;34m]\u001b[0m\u001b[0;34m\u001b[0m\u001b[0;34m\u001b[0m\u001b[0m\n",
      "\u001b[0;31mNameError\u001b[0m: name 'build_keywords' is not defined"
     ]
    }
   ],
   "source": [
    "#@title Enter a Search Term\n",
    "\n",
    "search_term = '\\u4E73\\u304C\\u3093\\u306E\\u5973\\u6027'  #@param {type: \"string\"}\n",
    "\n",
    "keywords = build_keywords(search_term)\n",
    "print(\"Expanded into.. :\", keywords)\n",
    "sources = [x for x in dimcli.G.sources() if x != 'researchers']\n",
    "print(\"Searching in.. :\", sources)\n",
    "df = multi_search(build_keywords(search_term), sources)\n",
    "df"
   ]
  },
  {
   "cell_type": "markdown",
   "metadata": {
    "colab_type": "text",
    "id": "QBOlZ_rlCIy_"
   },
   "source": [
    "# 4. Plot the results \n",
    "\n",
    "Two simple bar charts display the data retrieved in alternate ways."
   ]
  },
  {
   "cell_type": "code",
   "execution_count": 4,
   "metadata": {
    "colab": {},
    "colab_type": "code",
    "id": "yFseBQKe4xFo"
   },
   "outputs": [
    {
     "ename": "NameError",
     "evalue": "name 'df' is not defined",
     "output_type": "error",
     "traceback": [
      "\u001b[0;31m---------------------------------------------------------------------------\u001b[0m",
      "\u001b[0;31mNameError\u001b[0m                                 Traceback (most recent call last)",
      "\u001b[0;32m<ipython-input-4-c409eededf63>\u001b[0m in \u001b[0;36m<module>\u001b[0;34m\u001b[0m\n\u001b[0;32m----> 1\u001b[0;31m \u001b[0mfig1\u001b[0m \u001b[0;34m=\u001b[0m \u001b[0mpx\u001b[0m\u001b[0;34m.\u001b[0m\u001b[0mbar\u001b[0m\u001b[0;34m(\u001b[0m\u001b[0mdf\u001b[0m\u001b[0;34m,\u001b[0m \u001b[0mx\u001b[0m\u001b[0;34m=\u001b[0m\u001b[0;34m\"query\"\u001b[0m\u001b[0;34m,\u001b[0m \u001b[0my\u001b[0m\u001b[0;34m=\u001b[0m\u001b[0;34m\"objects\"\u001b[0m\u001b[0;34m,\u001b[0m \u001b[0mcolor\u001b[0m\u001b[0;34m=\u001b[0m\u001b[0;34m\"source\"\u001b[0m\u001b[0;34m)\u001b[0m\u001b[0;34m\u001b[0m\u001b[0;34m\u001b[0m\u001b[0m\n\u001b[0m\u001b[1;32m      2\u001b[0m \u001b[0mfig2\u001b[0m \u001b[0;34m=\u001b[0m \u001b[0mpx\u001b[0m\u001b[0;34m.\u001b[0m\u001b[0mbar\u001b[0m\u001b[0;34m(\u001b[0m\u001b[0mdf\u001b[0m\u001b[0;34m,\u001b[0m \u001b[0mx\u001b[0m\u001b[0;34m=\u001b[0m\u001b[0;34m\"source\"\u001b[0m\u001b[0;34m,\u001b[0m \u001b[0my\u001b[0m\u001b[0;34m=\u001b[0m\u001b[0;34m\"objects\"\u001b[0m\u001b[0;34m,\u001b[0m \u001b[0mfacet_col\u001b[0m\u001b[0;34m=\u001b[0m\u001b[0;34m\"query\"\u001b[0m\u001b[0;34m)\u001b[0m\u001b[0;34m\u001b[0m\u001b[0;34m\u001b[0m\u001b[0m\n\u001b[1;32m      3\u001b[0m \u001b[0mfig1\u001b[0m\u001b[0;34m.\u001b[0m\u001b[0mshow\u001b[0m\u001b[0;34m(\u001b[0m\u001b[0;34m)\u001b[0m\u001b[0;34m\u001b[0m\u001b[0;34m\u001b[0m\u001b[0m\n\u001b[1;32m      4\u001b[0m \u001b[0mfig2\u001b[0m\u001b[0;34m.\u001b[0m\u001b[0mshow\u001b[0m\u001b[0;34m(\u001b[0m\u001b[0;34m)\u001b[0m\u001b[0;34m\u001b[0m\u001b[0;34m\u001b[0m\u001b[0m\n",
      "\u001b[0;31mNameError\u001b[0m: name 'df' is not defined"
     ]
    }
   ],
   "source": [
    "fig1 = px.bar(df, x=\"query\", y=\"objects\", color=\"source\")\n",
    "fig2 = px.bar(df, x=\"source\", y=\"objects\", facet_col=\"query\")\n",
    "fig1.show()\n",
    "fig2.show()"
   ]
  }
 ],
 "metadata": {
  "colab": {
   "collapsed_sections": [],
   "name": "Translate_and_DSL_Search v3.ipynb",
   "provenance": []
  },
  "kernelspec": {
   "display_name": "Python 3",
   "name": "python3"
  },
  "language_info": {
   "codemirror_mode": {
    "name": "ipython",
    "version": 3
   },
   "file_extension": ".py",
   "mimetype": "text/x-python",
   "name": "python",
   "nbconvert_exporter": "python",
   "pygments_lexer": "ipython3",
   "version": "3.8.5"
  }
 },
 "nbformat": 4,
 "nbformat_minor": 0
}
