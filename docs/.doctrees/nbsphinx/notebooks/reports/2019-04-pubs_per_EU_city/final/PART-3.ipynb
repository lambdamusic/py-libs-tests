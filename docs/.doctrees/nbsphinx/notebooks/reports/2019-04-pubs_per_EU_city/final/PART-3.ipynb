{
 "cells": [
  {
   "cell_type": "markdown",
   "metadata": {},
   "source": [
    "# Part 3. Visualising cities statistics with Plotly\n",
    "\n",
    "This final step is optional, but a bit of eye-candy will undoubtedly make you feel good :-) \n",
    "\n",
    "We can create a nice interactive bar chart using the open source [plotly](https://plot.ly/python/) library. "
   ]
  },
  {
   "cell_type": "code",
   "execution_count": 4,
   "metadata": {},
   "outputs": [
    {
     "data": {
      "text/html": [
       "        <script type=\"text/javascript\">\n",
       "        window.PlotlyConfig = {MathJaxConfig: 'local'};\n",
       "        if (window.MathJax) {MathJax.Hub.Config({SVG: {font: \"STIX-Web\"}});}\n",
       "        if (typeof require !== 'undefined') {\n",
       "        require.undef(\"plotly\");\n",
       "        requirejs.config({\n",
       "            paths: {\n",
       "                'plotly': ['https://cdn.plot.ly/plotly-latest.min']\n",
       "            }\n",
       "        });\n",
       "        require(['plotly'], function(Plotly) {\n",
       "            window._Plotly = Plotly;\n",
       "        });\n",
       "        }\n",
       "        </script>\n",
       "        "
      ]
     },
     "metadata": {},
     "output_type": "display_data"
    }
   ],
   "source": [
    "# import plotly\n",
    "# import plotly.graph_objs as go\n",
    "# from plotly.offline import download_plotlyjs, init_notebook_mode, plot, iplot\n",
    "import plotly_express as px\n",
    "from plotly.offline import init_notebook_mode # needed for exports \n",
    "init_notebook_mode(connected=True)\n",
    "#\n",
    "import time \n",
    "import pandas as pd \n",
    "import requests  \n",
    "import json "
   ]
  },
  {
   "cell_type": "code",
   "execution_count": 5,
   "metadata": {},
   "outputs": [
    {
     "data": {
      "text/html": [
       "<div>\n",
       "<style scoped>\n",
       "    .dataframe tbody tr th:only-of-type {\n",
       "        vertical-align: middle;\n",
       "    }\n",
       "\n",
       "    .dataframe tbody tr th {\n",
       "        vertical-align: top;\n",
       "    }\n",
       "\n",
       "    .dataframe thead th {\n",
       "        text-align: right;\n",
       "    }\n",
       "</style>\n",
       "<table border=\"1\" class=\"dataframe\">\n",
       "  <thead>\n",
       "    <tr style=\"text-align: right;\">\n",
       "      <th></th>\n",
       "      <th>Unnamed: 0</th>\n",
       "      <th>geonamesId</th>\n",
       "      <th>name</th>\n",
       "      <th>count</th>\n",
       "      <th>lat</th>\n",
       "      <th>lng</th>\n",
       "      <th>countryCode</th>\n",
       "      <th>countryName</th>\n",
       "    </tr>\n",
       "  </thead>\n",
       "  <tbody>\n",
       "    <tr>\n",
       "      <th>0</th>\n",
       "      <td>0</td>\n",
       "      <td>2643743</td>\n",
       "      <td>London</td>\n",
       "      <td>468</td>\n",
       "      <td>51.50853</td>\n",
       "      <td>-0.12574</td>\n",
       "      <td>GB</td>\n",
       "      <td>United Kingdom</td>\n",
       "    </tr>\n",
       "    <tr>\n",
       "      <th>1</th>\n",
       "      <td>1</td>\n",
       "      <td>2988507</td>\n",
       "      <td>Paris</td>\n",
       "      <td>293</td>\n",
       "      <td>48.85341</td>\n",
       "      <td>2.34880</td>\n",
       "      <td>FR</td>\n",
       "      <td>France</td>\n",
       "    </tr>\n",
       "    <tr>\n",
       "      <th>2</th>\n",
       "      <td>2</td>\n",
       "      <td>3128760</td>\n",
       "      <td>Barcelona</td>\n",
       "      <td>176</td>\n",
       "      <td>41.38879</td>\n",
       "      <td>2.15899</td>\n",
       "      <td>ES</td>\n",
       "      <td>Spain</td>\n",
       "    </tr>\n",
       "    <tr>\n",
       "      <th>3</th>\n",
       "      <td>3</td>\n",
       "      <td>2759794</td>\n",
       "      <td>Amsterdam</td>\n",
       "      <td>172</td>\n",
       "      <td>52.37403</td>\n",
       "      <td>4.88969</td>\n",
       "      <td>NL</td>\n",
       "      <td>Netherlands</td>\n",
       "    </tr>\n",
       "    <tr>\n",
       "      <th>4</th>\n",
       "      <td>4</td>\n",
       "      <td>3117735</td>\n",
       "      <td>Madrid</td>\n",
       "      <td>171</td>\n",
       "      <td>40.41650</td>\n",
       "      <td>-3.70256</td>\n",
       "      <td>ES</td>\n",
       "      <td>Spain</td>\n",
       "    </tr>\n",
       "  </tbody>\n",
       "</table>\n",
       "</div>"
      ],
      "text/plain": [
       "   Unnamed: 0  geonamesId       name  count       lat      lng countryCode  \\\n",
       "0           0     2643743     London    468  51.50853 -0.12574          GB   \n",
       "1           1     2988507      Paris    293  48.85341  2.34880          FR   \n",
       "2           2     3128760  Barcelona    176  41.38879  2.15899          ES   \n",
       "3           3     2759794  Amsterdam    172  52.37403  4.88969          NL   \n",
       "4           4     3117735     Madrid    171  40.41650 -3.70256          ES   \n",
       "\n",
       "      countryName  \n",
       "0  United Kingdom  \n",
       "1          France  \n",
       "2           Spain  \n",
       "3     Netherlands  \n",
       "4           Spain  "
      ]
     },
     "execution_count": 5,
     "metadata": {},
     "output_type": "execute_result"
    }
   ],
   "source": [
    "df = pd.read_csv(\"cities_data_final_2019-04-23.csv\")\n",
    "df.head()"
   ]
  },
  {
   "cell_type": "code",
   "execution_count": 10,
   "metadata": {},
   "outputs": [
    {
     "data": {
      "application/vnd.plotly.v1+json": {
       "config": {
        "linkText": "Export to plot.ly",
        "plotlyServerURL": "https://plot.ly",
        "showLink": false
       },
       "data": [
        {
         "alignmentgroup": "True",
         "hoverlabel": {
          "namelength": 0
         },
         "hovertemplate": "name=%{x}<br>count=%{y}",
         "legendgroup": "",
         "marker": {
          "color": "#636efa"
         },
         "name": "",
         "offsetgroup": "",
         "orientation": "v",
         "showlegend": false,
         "textposition": "auto",
         "type": "bar",
         "uid": "87e36f54-84db-4a61-bc0c-7425808f06b4",
         "x": [
          "London",
          "Paris",
          "Barcelona",
          "Amsterdam",
          "Madrid",
          "Milan",
          "Rome",
          "Zürich",
          "Berlin",
          "Stockholm",
          "Oxford",
          "Munich",
          "Lausanne",
          "Oslo",
          "Heidelberg",
          "Leuven",
          "Cambridge",
          "Gent",
          "Århus",
          "Lisbon",
          "Helsinki",
          "Moscow",
          "Hamburg",
          "Manchester",
          "Göteborg",
          "Copenhagen",
          "Genève",
          "Brussels",
          "Leiden",
          "Athens",
          "Prague",
          "Maastricht",
          "Leipzig",
          "Valencia",
          "Warsaw",
          "Lund",
          "Lyon",
          "Edinburgh",
          "Utrecht",
          "Rotterdam",
          "Villejuif",
          "Uppsala",
          "Newcastle upon Tyne",
          "Freiburg",
          "Köln",
          "Birmingham",
          "Antwerpen",
          "Basel",
          "Göttingen",
          "Florence",
          "Vienna",
          "Bordeaux",
          "Gif-sur-Yvette",
          "Nijmegen",
          "Glasgow",
          "Porto",
          "Kraków",
          "Bern",
          "Belgrade",
          "Exeter",
          "Thessaloníki",
          "Liverpool",
          "Dublin",
          "Turku",
          "Naples",
          "Ljubljana",
          "Erlangen",
          "Essen",
          "Potsdam",
          "Novosibirsk",
          "Groningen",
          "Bergen",
          "Leeds",
          "Sevilla",
          "Garching bei München",
          "Frankfurt am Main",
          "Graz",
          "Bucharest",
          "Sheffield",
          "Linköping",
          "Padova",
          "Rozzano",
          "Wrocław",
          "Coventry",
          "Abingdon",
          "Cardiff",
          "Turin",
          "Marseille",
          "York",
          "Budapest",
          "Granada",
          "Pisa",
          "Redhill",
          "Bonn",
          "Kongens Lyngby",
          "Tübingen",
          "Málaga",
          "Bratislava",
          "Gießen",
          "Montpellier"
         ],
         "xaxis": "x",
         "y": [
          468,
          293,
          176,
          172,
          171,
          163,
          154,
          147,
          135,
          126,
          120,
          115,
          114,
          108,
          106,
          101,
          101,
          100,
          96,
          94,
          91,
          90,
          89,
          88,
          87,
          86,
          84,
          84,
          82,
          79,
          76,
          75,
          69,
          69,
          69,
          68,
          67,
          67,
          63,
          60,
          60,
          60,
          58,
          57,
          57,
          56,
          56,
          55,
          54,
          54,
          54,
          53,
          50,
          49,
          49,
          48,
          47,
          46,
          46,
          46,
          44,
          43,
          42,
          42,
          41,
          41,
          41,
          41,
          40,
          40,
          40,
          39,
          38,
          38,
          38,
          38,
          37,
          37,
          37,
          36,
          35,
          35,
          34,
          34,
          34,
          34,
          34,
          33,
          32,
          32,
          32,
          32,
          32,
          32,
          31,
          31,
          31,
          30,
          29,
          29
         ],
         "yaxis": "y"
        }
       ],
       "layout": {
        "autosize": true,
        "barmode": "relative",
        "grid": {
         "xaxes": [
          "x"
         ],
         "xgap": 0.1,
         "xside": "bottom",
         "yaxes": [
          "y"
         ],
         "ygap": 0.1,
         "yside": "left"
        },
        "legend": {
         "tracegroupgap": 0
        },
        "margin": {
         "t": 60
        },
        "template": {
         "data": {
          "bar": [
           {
            "marker": {
             "line": {
              "color": "#E5ECF6",
              "width": 0.5
             }
            },
            "type": "bar"
           }
          ],
          "barpolar": [
           {
            "marker": {
             "line": {
              "color": "#E5ECF6",
              "width": 0.5
             }
            },
            "type": "barpolar"
           }
          ],
          "carpet": [
           {
            "aaxis": {
             "endlinecolor": "#2a3f5f",
             "gridcolor": "white",
             "linecolor": "white",
             "minorgridcolor": "white",
             "startlinecolor": "#2a3f5f"
            },
            "baxis": {
             "endlinecolor": "#2a3f5f",
             "gridcolor": "white",
             "linecolor": "white",
             "minorgridcolor": "white",
             "startlinecolor": "#2a3f5f"
            },
            "type": "carpet"
           }
          ],
          "choropleth": [
           {
            "colorbar": {
             "outlinewidth": 0,
             "ticks": ""
            },
            "type": "choropleth"
           }
          ],
          "contour": [
           {
            "colorbar": {
             "outlinewidth": 0,
             "ticks": ""
            },
            "colorscale": [
             [
              0,
              "#0508b8"
             ],
             [
              0.0893854748603352,
              "#1910d8"
             ],
             [
              0.1787709497206704,
              "#3c19f0"
             ],
             [
              0.2681564245810056,
              "#6b1cfb"
             ],
             [
              0.3575418994413408,
              "#981cfd"
             ],
             [
              0.44692737430167595,
              "#bf1cfd"
             ],
             [
              0.5363128491620112,
              "#dd2bfd"
             ],
             [
              0.6256983240223464,
              "#f246fe"
             ],
             [
              0.7150837988826816,
              "#fc67fd"
             ],
             [
              0.8044692737430168,
              "#fe88fc"
             ],
             [
              0.8938547486033519,
              "#fea5fd"
             ],
             [
              0.9832402234636871,
              "#febefe"
             ],
             [
              1,
              "#fec3fe"
             ]
            ],
            "type": "contour"
           }
          ],
          "contourcarpet": [
           {
            "colorbar": {
             "outlinewidth": 0,
             "ticks": ""
            },
            "type": "contourcarpet"
           }
          ],
          "heatmap": [
           {
            "colorbar": {
             "outlinewidth": 0,
             "ticks": ""
            },
            "colorscale": [
             [
              0,
              "#0508b8"
             ],
             [
              0.0893854748603352,
              "#1910d8"
             ],
             [
              0.1787709497206704,
              "#3c19f0"
             ],
             [
              0.2681564245810056,
              "#6b1cfb"
             ],
             [
              0.3575418994413408,
              "#981cfd"
             ],
             [
              0.44692737430167595,
              "#bf1cfd"
             ],
             [
              0.5363128491620112,
              "#dd2bfd"
             ],
             [
              0.6256983240223464,
              "#f246fe"
             ],
             [
              0.7150837988826816,
              "#fc67fd"
             ],
             [
              0.8044692737430168,
              "#fe88fc"
             ],
             [
              0.8938547486033519,
              "#fea5fd"
             ],
             [
              0.9832402234636871,
              "#febefe"
             ],
             [
              1,
              "#fec3fe"
             ]
            ],
            "type": "heatmap"
           }
          ],
          "heatmapgl": [
           {
            "colorbar": {
             "outlinewidth": 0,
             "ticks": ""
            },
            "type": "heatmapgl"
           }
          ],
          "histogram": [
           {
            "marker": {
             "colorbar": {
              "outlinewidth": 0,
              "ticks": ""
             }
            },
            "type": "histogram"
           }
          ],
          "histogram2d": [
           {
            "colorbar": {
             "outlinewidth": 0,
             "ticks": ""
            },
            "colorscale": [
             [
              0,
              "#0508b8"
             ],
             [
              0.0893854748603352,
              "#1910d8"
             ],
             [
              0.1787709497206704,
              "#3c19f0"
             ],
             [
              0.2681564245810056,
              "#6b1cfb"
             ],
             [
              0.3575418994413408,
              "#981cfd"
             ],
             [
              0.44692737430167595,
              "#bf1cfd"
             ],
             [
              0.5363128491620112,
              "#dd2bfd"
             ],
             [
              0.6256983240223464,
              "#f246fe"
             ],
             [
              0.7150837988826816,
              "#fc67fd"
             ],
             [
              0.8044692737430168,
              "#fe88fc"
             ],
             [
              0.8938547486033519,
              "#fea5fd"
             ],
             [
              0.9832402234636871,
              "#febefe"
             ],
             [
              1,
              "#fec3fe"
             ]
            ],
            "type": "histogram2d"
           }
          ],
          "histogram2dcontour": [
           {
            "colorbar": {
             "outlinewidth": 0,
             "ticks": ""
            },
            "colorscale": [
             [
              0,
              "#0508b8"
             ],
             [
              0.0893854748603352,
              "#1910d8"
             ],
             [
              0.1787709497206704,
              "#3c19f0"
             ],
             [
              0.2681564245810056,
              "#6b1cfb"
             ],
             [
              0.3575418994413408,
              "#981cfd"
             ],
             [
              0.44692737430167595,
              "#bf1cfd"
             ],
             [
              0.5363128491620112,
              "#dd2bfd"
             ],
             [
              0.6256983240223464,
              "#f246fe"
             ],
             [
              0.7150837988826816,
              "#fc67fd"
             ],
             [
              0.8044692737430168,
              "#fe88fc"
             ],
             [
              0.8938547486033519,
              "#fea5fd"
             ],
             [
              0.9832402234636871,
              "#febefe"
             ],
             [
              1,
              "#fec3fe"
             ]
            ],
            "type": "histogram2dcontour"
           }
          ],
          "mesh3d": [
           {
            "colorbar": {
             "outlinewidth": 0,
             "ticks": ""
            },
            "type": "mesh3d"
           }
          ],
          "parcoords": [
           {
            "line": {
             "colorbar": {
              "outlinewidth": 0,
              "ticks": ""
             }
            },
            "type": "parcoords"
           }
          ],
          "scatter": [
           {
            "marker": {
             "colorbar": {
              "outlinewidth": 0,
              "ticks": ""
             }
            },
            "type": "scatter"
           }
          ],
          "scatter3d": [
           {
            "marker": {
             "colorbar": {
              "outlinewidth": 0,
              "ticks": ""
             }
            },
            "type": "scatter3d"
           }
          ],
          "scattercarpet": [
           {
            "marker": {
             "colorbar": {
              "outlinewidth": 0,
              "ticks": ""
             }
            },
            "type": "scattercarpet"
           }
          ],
          "scattergeo": [
           {
            "marker": {
             "colorbar": {
              "outlinewidth": 0,
              "ticks": ""
             }
            },
            "type": "scattergeo"
           }
          ],
          "scattergl": [
           {
            "marker": {
             "colorbar": {
              "outlinewidth": 0,
              "ticks": ""
             }
            },
            "type": "scattergl"
           }
          ],
          "scattermapbox": [
           {
            "marker": {
             "colorbar": {
              "outlinewidth": 0,
              "ticks": ""
             }
            },
            "type": "scattermapbox"
           }
          ],
          "scatterpolar": [
           {
            "marker": {
             "colorbar": {
              "outlinewidth": 0,
              "ticks": ""
             }
            },
            "type": "scatterpolar"
           }
          ],
          "scatterpolargl": [
           {
            "marker": {
             "colorbar": {
              "outlinewidth": 0,
              "ticks": ""
             }
            },
            "type": "scatterpolargl"
           }
          ],
          "scatterternary": [
           {
            "marker": {
             "colorbar": {
              "outlinewidth": 0,
              "ticks": ""
             }
            },
            "type": "scatterternary"
           }
          ],
          "surface": [
           {
            "colorbar": {
             "outlinewidth": 0,
             "ticks": ""
            },
            "type": "surface"
           }
          ],
          "table": [
           {
            "cells": {
             "fill": {
              "color": "#EBF0F8"
             },
             "line": {
              "color": "white"
             }
            },
            "header": {
             "fill": {
              "color": "#C8D4E3"
             },
             "line": {
              "color": "white"
             }
            },
            "type": "table"
           }
          ]
         },
         "layout": {
          "annotationdefaults": {
           "arrowcolor": "#506784",
           "arrowhead": 0,
           "arrowwidth": 1
          },
          "colorscale": {
           "diverging": [
            [
             0,
             "#8e0152"
            ],
            [
             0.1,
             "#c51b7d"
            ],
            [
             0.2,
             "#de77ae"
            ],
            [
             0.3,
             "#f1b6da"
            ],
            [
             0.4,
             "#fde0ef"
            ],
            [
             0.5,
             "#f7f7f7"
            ],
            [
             0.6,
             "#e6f5d0"
            ],
            [
             0.7,
             "#b8e186"
            ],
            [
             0.8,
             "#7fbc41"
            ],
            [
             0.9,
             "#4d9221"
            ],
            [
             1,
             "#276419"
            ]
           ],
           "sequential": [
            [
             0,
             "#0508b8"
            ],
            [
             0.0893854748603352,
             "#1910d8"
            ],
            [
             0.1787709497206704,
             "#3c19f0"
            ],
            [
             0.2681564245810056,
             "#6b1cfb"
            ],
            [
             0.3575418994413408,
             "#981cfd"
            ],
            [
             0.44692737430167595,
             "#bf1cfd"
            ],
            [
             0.5363128491620112,
             "#dd2bfd"
            ],
            [
             0.6256983240223464,
             "#f246fe"
            ],
            [
             0.7150837988826816,
             "#fc67fd"
            ],
            [
             0.8044692737430168,
             "#fe88fc"
            ],
            [
             0.8938547486033519,
             "#fea5fd"
            ],
            [
             0.9832402234636871,
             "#febefe"
            ],
            [
             1,
             "#fec3fe"
            ]
           ],
           "sequentialminus": [
            [
             0,
             "#0508b8"
            ],
            [
             0.0893854748603352,
             "#1910d8"
            ],
            [
             0.1787709497206704,
             "#3c19f0"
            ],
            [
             0.2681564245810056,
             "#6b1cfb"
            ],
            [
             0.3575418994413408,
             "#981cfd"
            ],
            [
             0.44692737430167595,
             "#bf1cfd"
            ],
            [
             0.5363128491620112,
             "#dd2bfd"
            ],
            [
             0.6256983240223464,
             "#f246fe"
            ],
            [
             0.7150837988826816,
             "#fc67fd"
            ],
            [
             0.8044692737430168,
             "#fe88fc"
            ],
            [
             0.8938547486033519,
             "#fea5fd"
            ],
            [
             0.9832402234636871,
             "#febefe"
            ],
            [
             1,
             "#fec3fe"
            ]
           ]
          },
          "colorway": [
           "#636efa",
           "#EF553B",
           "#00cc96",
           "#ab63fa",
           "#19d3f3",
           "#e763fa",
           "#FECB52",
           "#FFA15A",
           "#FF6692",
           "#B6E880"
          ],
          "font": {
           "color": "#2a3f5f"
          },
          "geo": {
           "bgcolor": "white",
           "lakecolor": "white",
           "landcolor": "#E5ECF6",
           "showlakes": true,
           "showland": true,
           "subunitcolor": "white"
          },
          "hoverlabel": {
           "align": "left"
          },
          "hovermode": "closest",
          "mapbox": {
           "style": "light"
          },
          "paper_bgcolor": "white",
          "plot_bgcolor": "#E5ECF6",
          "polar": {
           "angularaxis": {
            "gridcolor": "white",
            "linecolor": "white",
            "ticks": ""
           },
           "bgcolor": "#E5ECF6",
           "radialaxis": {
            "gridcolor": "white",
            "linecolor": "white",
            "ticks": ""
           }
          },
          "scene": {
           "xaxis": {
            "backgroundcolor": "#E5ECF6",
            "gridcolor": "white",
            "gridwidth": 2,
            "linecolor": "white",
            "showbackground": true,
            "ticks": "",
            "zerolinecolor": "white"
           },
           "yaxis": {
            "backgroundcolor": "#E5ECF6",
            "gridcolor": "white",
            "gridwidth": 2,
            "linecolor": "white",
            "showbackground": true,
            "ticks": "",
            "zerolinecolor": "white"
           },
           "zaxis": {
            "backgroundcolor": "#E5ECF6",
            "gridcolor": "white",
            "gridwidth": 2,
            "linecolor": "white",
            "showbackground": true,
            "ticks": "",
            "zerolinecolor": "white"
           }
          },
          "shapedefaults": {
           "fillcolor": "#506784",
           "line": {
            "width": 0
           },
           "opacity": 0.4
          },
          "ternary": {
           "aaxis": {
            "gridcolor": "white",
            "linecolor": "white",
            "ticks": ""
           },
           "baxis": {
            "gridcolor": "white",
            "linecolor": "white",
            "ticks": ""
           },
           "bgcolor": "#E5ECF6",
           "caxis": {
            "gridcolor": "white",
            "linecolor": "white",
            "ticks": ""
           }
          },
          "title": {
           "x": 0.05
          },
          "xaxis": {
           "automargin": true,
           "gridcolor": "white",
           "linecolor": "white",
           "ticks": "",
           "zerolinecolor": "white",
           "zerolinewidth": 2
          },
          "yaxis": {
           "automargin": true,
           "gridcolor": "white",
           "linecolor": "white",
           "ticks": "",
           "zerolinecolor": "white",
           "zerolinewidth": 2
          }
         }
        },
        "xaxis": {
         "autorange": true,
         "range": [
          -0.5,
          99.5
         ],
         "title": {
          "text": "name"
         },
         "type": "category"
        },
        "yaxis": {
         "autorange": true,
         "range": [
          0,
          492.63157894736844
         ],
         "title": {
          "text": "count"
         },
         "type": "linear"
        }
       }
      },
      "image/png": "[encoded data removed]",
      "text/html": [
       "<div>\n",
       "        \n",
       "        \n",
       "            <div id=\"be956b84-5ec4-44f5-b757-a8057d01f4e7\" class=\"plotly-graph-div\" style=\"height:200px; width:100%;\"></div>\n",
       "            <script type=\"text/javascript\">\n",
       "                require([\"plotly\"], function(Plotly) {\n",
       "                    window.PLOTLYENV=window.PLOTLYENV || {};\n",
       "                    window.PLOTLYENV.BASE_URL='https://plot.ly';\n",
       "                    \n",
       "                if (document.getElementById(\"be956b84-5ec4-44f5-b757-a8057d01f4e7\")) {\n",
       "                    Plotly.newPlot(\n",
       "                        'be956b84-5ec4-44f5-b757-a8057d01f4e7',\n",
       "                        [{\"alignmentgroup\": \"True\", \"hoverlabel\": {\"namelength\": 0}, \"hovertemplate\": \"name=%{x}<br>count=%{y}\", \"legendgroup\": \"\", \"marker\": {\"color\": \"#636efa\"}, \"name\": \"\", \"offsetgroup\": \"\", \"orientation\": \"v\", \"showlegend\": false, \"textposition\": \"auto\", \"type\": \"bar\", \"uid\": \"87e36f54-84db-4a61-bc0c-7425808f06b4\", \"x\": [\"London\", \"Paris\", \"Barcelona\", \"Amsterdam\", \"Madrid\", \"Milan\", \"Rome\", \"Z\\u00fcrich\", \"Berlin\", \"Stockholm\", \"Oxford\", \"Munich\", \"Lausanne\", \"Oslo\", \"Heidelberg\", \"Leuven\", \"Cambridge\", \"Gent\", \"\\u00c5rhus\", \"Lisbon\", \"Helsinki\", \"Moscow\", \"Hamburg\", \"Manchester\", \"G\\u00f6teborg\", \"Copenhagen\", \"Gen\\u00e8ve\", \"Brussels\", \"Leiden\", \"Athens\", \"Prague\", \"Maastricht\", \"Leipzig\", \"Valencia\", \"Warsaw\", \"Lund\", \"Lyon\", \"Edinburgh\", \"Utrecht\", \"Rotterdam\", \"Villejuif\", \"Uppsala\", \"Newcastle upon Tyne\", \"Freiburg\", \"K\\u00f6ln\", \"Birmingham\", \"Antwerpen\", \"Basel\", \"G\\u00f6ttingen\", \"Florence\", \"Vienna\", \"Bordeaux\", \"Gif-sur-Yvette\", \"Nijmegen\", \"Glasgow\", \"Porto\", \"Krak\\u00f3w\", \"Bern\", \"Belgrade\", \"Exeter\", \"Thessalon\\u00edki\", \"Liverpool\", \"Dublin\", \"Turku\", \"Naples\", \"Ljubljana\", \"Erlangen\", \"Essen\", \"Potsdam\", \"Novosibirsk\", \"Groningen\", \"Bergen\", \"Leeds\", \"Sevilla\", \"Garching bei M\\u00fcnchen\", \"Frankfurt am Main\", \"Graz\", \"Bucharest\", \"Sheffield\", \"Link\\u00f6ping\", \"Padova\", \"Rozzano\", \"Wroc\\u0142aw\", \"Coventry\", \"Abingdon\", \"Cardiff\", \"Turin\", \"Marseille\", \"York\", \"Budapest\", \"Granada\", \"Pisa\", \"Redhill\", \"Bonn\", \"Kongens Lyngby\", \"T\\u00fcbingen\", \"M\\u00e1laga\", \"Bratislava\", \"Gie\\u00dfen\", \"Montpellier\"], \"xaxis\": \"x\", \"y\": [468, 293, 176, 172, 171, 163, 154, 147, 135, 126, 120, 115, 114, 108, 106, 101, 101, 100, 96, 94, 91, 90, 89, 88, 87, 86, 84, 84, 82, 79, 76, 75, 69, 69, 69, 68, 67, 67, 63, 60, 60, 60, 58, 57, 57, 56, 56, 55, 54, 54, 54, 53, 50, 49, 49, 48, 47, 46, 46, 46, 44, 43, 42, 42, 41, 41, 41, 41, 40, 40, 40, 39, 38, 38, 38, 38, 37, 37, 37, 36, 35, 35, 34, 34, 34, 34, 34, 33, 32, 32, 32, 32, 32, 32, 31, 31, 31, 30, 29, 29], \"yaxis\": \"y\"}],\n",
       "                        {\"barmode\": \"relative\", \"grid\": {\"xaxes\": [\"x\"], \"xgap\": 0.1, \"xside\": \"bottom\", \"yaxes\": [\"y\"], \"ygap\": 0.1, \"yside\": \"left\"}, \"height\": 200, \"legend\": {\"tracegroupgap\": 0}, \"margin\": {\"t\": 60}, \"template\": {\"data\": {\"bar\": [{\"marker\": {\"line\": {\"color\": \"#E5ECF6\", \"width\": 0.5}}, \"type\": \"bar\"}], \"barpolar\": [{\"marker\": {\"line\": {\"color\": \"#E5ECF6\", \"width\": 0.5}}, \"type\": \"barpolar\"}], \"carpet\": [{\"aaxis\": {\"endlinecolor\": \"#2a3f5f\", \"gridcolor\": \"white\", \"linecolor\": \"white\", \"minorgridcolor\": \"white\", \"startlinecolor\": \"#2a3f5f\"}, \"baxis\": {\"endlinecolor\": \"#2a3f5f\", \"gridcolor\": \"white\", \"linecolor\": \"white\", \"minorgridcolor\": \"white\", \"startlinecolor\": \"#2a3f5f\"}, \"type\": \"carpet\"}], \"choropleth\": [{\"colorbar\": {\"outlinewidth\": 0, \"ticks\": \"\"}, \"type\": \"choropleth\"}], \"contour\": [{\"colorbar\": {\"outlinewidth\": 0, \"ticks\": \"\"}, \"colorscale\": [[0.0, \"#0508b8\"], [0.0893854748603352, \"#1910d8\"], [0.1787709497206704, \"#3c19f0\"], [0.2681564245810056, \"#6b1cfb\"], [0.3575418994413408, \"#981cfd\"], [0.44692737430167595, \"#bf1cfd\"], [0.5363128491620112, \"#dd2bfd\"], [0.6256983240223464, \"#f246fe\"], [0.7150837988826816, \"#fc67fd\"], [0.8044692737430168, \"#fe88fc\"], [0.8938547486033519, \"#fea5fd\"], [0.9832402234636871, \"#febefe\"], [1.0, \"#fec3fe\"]], \"type\": \"contour\"}], \"contourcarpet\": [{\"colorbar\": {\"outlinewidth\": 0, \"ticks\": \"\"}, \"type\": \"contourcarpet\"}], \"heatmap\": [{\"colorbar\": {\"outlinewidth\": 0, \"ticks\": \"\"}, \"colorscale\": [[0.0, \"#0508b8\"], [0.0893854748603352, \"#1910d8\"], [0.1787709497206704, \"#3c19f0\"], [0.2681564245810056, \"#6b1cfb\"], [0.3575418994413408, \"#981cfd\"], [0.44692737430167595, \"#bf1cfd\"], [0.5363128491620112, \"#dd2bfd\"], [0.6256983240223464, \"#f246fe\"], [0.7150837988826816, \"#fc67fd\"], [0.8044692737430168, \"#fe88fc\"], [0.8938547486033519, \"#fea5fd\"], [0.9832402234636871, \"#febefe\"], [1.0, \"#fec3fe\"]], \"type\": \"heatmap\"}], \"heatmapgl\": [{\"colorbar\": {\"outlinewidth\": 0, \"ticks\": \"\"}, \"type\": \"heatmapgl\"}], \"histogram\": [{\"marker\": {\"colorbar\": {\"outlinewidth\": 0, \"ticks\": \"\"}}, \"type\": \"histogram\"}], \"histogram2d\": [{\"colorbar\": {\"outlinewidth\": 0, \"ticks\": \"\"}, \"colorscale\": [[0.0, \"#0508b8\"], [0.0893854748603352, \"#1910d8\"], [0.1787709497206704, \"#3c19f0\"], [0.2681564245810056, \"#6b1cfb\"], [0.3575418994413408, \"#981cfd\"], [0.44692737430167595, \"#bf1cfd\"], [0.5363128491620112, \"#dd2bfd\"], [0.6256983240223464, \"#f246fe\"], [0.7150837988826816, \"#fc67fd\"], [0.8044692737430168, \"#fe88fc\"], [0.8938547486033519, \"#fea5fd\"], [0.9832402234636871, \"#febefe\"], [1.0, \"#fec3fe\"]], \"type\": \"histogram2d\"}], \"histogram2dcontour\": [{\"colorbar\": {\"outlinewidth\": 0, \"ticks\": \"\"}, \"colorscale\": [[0.0, \"#0508b8\"], [0.0893854748603352, \"#1910d8\"], [0.1787709497206704, \"#3c19f0\"], [0.2681564245810056, \"#6b1cfb\"], [0.3575418994413408, \"#981cfd\"], [0.44692737430167595, \"#bf1cfd\"], [0.5363128491620112, \"#dd2bfd\"], [0.6256983240223464, \"#f246fe\"], [0.7150837988826816, \"#fc67fd\"], [0.8044692737430168, \"#fe88fc\"], [0.8938547486033519, \"#fea5fd\"], [0.9832402234636871, \"#febefe\"], [1.0, \"#fec3fe\"]], \"type\": \"histogram2dcontour\"}], \"mesh3d\": [{\"colorbar\": {\"outlinewidth\": 0, \"ticks\": \"\"}, \"type\": \"mesh3d\"}], \"parcoords\": [{\"line\": {\"colorbar\": {\"outlinewidth\": 0, \"ticks\": \"\"}}, \"type\": \"parcoords\"}], \"scatter\": [{\"marker\": {\"colorbar\": {\"outlinewidth\": 0, \"ticks\": \"\"}}, \"type\": \"scatter\"}], \"scatter3d\": [{\"marker\": {\"colorbar\": {\"outlinewidth\": 0, \"ticks\": \"\"}}, \"type\": \"scatter3d\"}], \"scattercarpet\": [{\"marker\": {\"colorbar\": {\"outlinewidth\": 0, \"ticks\": \"\"}}, \"type\": \"scattercarpet\"}], \"scattergeo\": [{\"marker\": {\"colorbar\": {\"outlinewidth\": 0, \"ticks\": \"\"}}, \"type\": \"scattergeo\"}], \"scattergl\": [{\"marker\": {\"colorbar\": {\"outlinewidth\": 0, \"ticks\": \"\"}}, \"type\": \"scattergl\"}], \"scattermapbox\": [{\"marker\": {\"colorbar\": {\"outlinewidth\": 0, \"ticks\": \"\"}}, \"type\": \"scattermapbox\"}], \"scatterpolar\": [{\"marker\": {\"colorbar\": {\"outlinewidth\": 0, \"ticks\": \"\"}}, \"type\": \"scatterpolar\"}], \"scatterpolargl\": [{\"marker\": {\"colorbar\": {\"outlinewidth\": 0, \"ticks\": \"\"}}, \"type\": \"scatterpolargl\"}], \"scatterternary\": [{\"marker\": {\"colorbar\": {\"outlinewidth\": 0, \"ticks\": \"\"}}, \"type\": \"scatterternary\"}], \"surface\": [{\"colorbar\": {\"outlinewidth\": 0, \"ticks\": \"\"}, \"type\": \"surface\"}], \"table\": [{\"cells\": {\"fill\": {\"color\": \"#EBF0F8\"}, \"line\": {\"color\": \"white\"}}, \"header\": {\"fill\": {\"color\": \"#C8D4E3\"}, \"line\": {\"color\": \"white\"}}, \"type\": \"table\"}]}, \"layout\": {\"annotationdefaults\": {\"arrowcolor\": \"#506784\", \"arrowhead\": 0, \"arrowwidth\": 1}, \"colorscale\": {\"diverging\": [[0, \"#8e0152\"], [0.1, \"#c51b7d\"], [0.2, \"#de77ae\"], [0.3, \"#f1b6da\"], [0.4, \"#fde0ef\"], [0.5, \"#f7f7f7\"], [0.6, \"#e6f5d0\"], [0.7, \"#b8e186\"], [0.8, \"#7fbc41\"], [0.9, \"#4d9221\"], [1, \"#276419\"]], \"sequential\": [[0.0, \"#0508b8\"], [0.0893854748603352, \"#1910d8\"], [0.1787709497206704, \"#3c19f0\"], [0.2681564245810056, \"#6b1cfb\"], [0.3575418994413408, \"#981cfd\"], [0.44692737430167595, \"#bf1cfd\"], [0.5363128491620112, \"#dd2bfd\"], [0.6256983240223464, \"#f246fe\"], [0.7150837988826816, \"#fc67fd\"], [0.8044692737430168, \"#fe88fc\"], [0.8938547486033519, \"#fea5fd\"], [0.9832402234636871, \"#febefe\"], [1.0, \"#fec3fe\"]], \"sequentialminus\": [[0.0, \"#0508b8\"], [0.0893854748603352, \"#1910d8\"], [0.1787709497206704, \"#3c19f0\"], [0.2681564245810056, \"#6b1cfb\"], [0.3575418994413408, \"#981cfd\"], [0.44692737430167595, \"#bf1cfd\"], [0.5363128491620112, \"#dd2bfd\"], [0.6256983240223464, \"#f246fe\"], [0.7150837988826816, \"#fc67fd\"], [0.8044692737430168, \"#fe88fc\"], [0.8938547486033519, \"#fea5fd\"], [0.9832402234636871, \"#febefe\"], [1.0, \"#fec3fe\"]]}, \"colorway\": [\"#636efa\", \"#EF553B\", \"#00cc96\", \"#ab63fa\", \"#19d3f3\", \"#e763fa\", \"#FECB52\", \"#FFA15A\", \"#FF6692\", \"#B6E880\"], \"font\": {\"color\": \"#2a3f5f\"}, \"geo\": {\"bgcolor\": \"white\", \"lakecolor\": \"white\", \"landcolor\": \"#E5ECF6\", \"showlakes\": true, \"showland\": true, \"subunitcolor\": \"white\"}, \"hoverlabel\": {\"align\": \"left\"}, \"hovermode\": \"closest\", \"mapbox\": {\"style\": \"light\"}, \"paper_bgcolor\": \"white\", \"plot_bgcolor\": \"#E5ECF6\", \"polar\": {\"angularaxis\": {\"gridcolor\": \"white\", \"linecolor\": \"white\", \"ticks\": \"\"}, \"bgcolor\": \"#E5ECF6\", \"radialaxis\": {\"gridcolor\": \"white\", \"linecolor\": \"white\", \"ticks\": \"\"}}, \"scene\": {\"xaxis\": {\"backgroundcolor\": \"#E5ECF6\", \"gridcolor\": \"white\", \"gridwidth\": 2, \"linecolor\": \"white\", \"showbackground\": true, \"ticks\": \"\", \"zerolinecolor\": \"white\"}, \"yaxis\": {\"backgroundcolor\": \"#E5ECF6\", \"gridcolor\": \"white\", \"gridwidth\": 2, \"linecolor\": \"white\", \"showbackground\": true, \"ticks\": \"\", \"zerolinecolor\": \"white\"}, \"zaxis\": {\"backgroundcolor\": \"#E5ECF6\", \"gridcolor\": \"white\", \"gridwidth\": 2, \"linecolor\": \"white\", \"showbackground\": true, \"ticks\": \"\", \"zerolinecolor\": \"white\"}}, \"shapedefaults\": {\"fillcolor\": \"#506784\", \"line\": {\"width\": 0}, \"opacity\": 0.4}, \"ternary\": {\"aaxis\": {\"gridcolor\": \"white\", \"linecolor\": \"white\", \"ticks\": \"\"}, \"baxis\": {\"gridcolor\": \"white\", \"linecolor\": \"white\", \"ticks\": \"\"}, \"bgcolor\": \"#E5ECF6\", \"caxis\": {\"gridcolor\": \"white\", \"linecolor\": \"white\", \"ticks\": \"\"}}, \"title\": {\"x\": 0.05}, \"xaxis\": {\"automargin\": true, \"gridcolor\": \"white\", \"linecolor\": \"white\", \"ticks\": \"\", \"zerolinecolor\": \"white\", \"zerolinewidth\": 2}, \"yaxis\": {\"automargin\": true, \"gridcolor\": \"white\", \"linecolor\": \"white\", \"ticks\": \"\", \"zerolinecolor\": \"white\", \"zerolinewidth\": 2}}}, \"xaxis\": {\"title\": {\"text\": \"name\"}}, \"yaxis\": {\"title\": {\"text\": \"count\"}}},\n",
       "                        {\"showLink\": false, \"linkText\": \"Export to plot.ly\", \"plotlyServerURL\": \"https://plot.ly\", \"responsive\": true}\n",
       "                    ).then(function(){\n",
       "                            \n",
       "var gd = document.getElementById('be956b84-5ec4-44f5-b757-a8057d01f4e7');\n",
       "var x = new MutationObserver(function (mutations, observer) {{\n",
       "        var display = window.getComputedStyle(gd).display;\n",
       "        if (!display || display === 'none') {{\n",
       "            console.log([gd, 'removed!']);\n",
       "            Plotly.purge(gd);\n",
       "            observer.disconnect();\n",
       "        }}\n",
       "}});\n",
       "\n",
       "// Listen for the removal of the full notebook cells\n",
       "var notebookContainer = gd.closest('#notebook-container');\n",
       "if (notebookContainer) {{\n",
       "    x.observe(notebookContainer, {childList: true});\n",
       "}}\n",
       "\n",
       "// Listen for the clearing of the current output cell\n",
       "var outputEl = gd.closest('.output');\n",
       "if (outputEl) {{\n",
       "    x.observe(outputEl, {childList: true});\n",
       "}}\n",
       "\n",
       "                        })\n",
       "                };\n",
       "                });\n",
       "            </script>\n",
       "        </div>"
      ]
     },
     "metadata": {},
     "output_type": "display_data"
    }
   ],
   "source": [
    "px.bar(df[:100], x=\"name\", y=\"count\", height=200)"
   ]
  },
  {
   "cell_type": "code",
   "execution_count": 15,
   "metadata": {},
   "outputs": [
    {
     "data": {
      "application/vnd.plotly.v1+json": {
       "config": {
        "linkText": "Export to plot.ly",
        "plotlyServerURL": "https://plot.ly",
        "showLink": false
       },
       "data": [
        {
         "hoverlabel": {
          "namelength": 0
         },
         "hovertemplate": "countryName=United Kingdom<br>name=%{x}<br>count=%{y}",
         "legendgroup": "countryName=United Kingdom",
         "marker": {
          "color": "#636efa",
          "symbol": "circle"
         },
         "mode": "markers",
         "name": "countryName=United Kingdom",
         "showlegend": true,
         "type": "scatter",
         "uid": "febb6d53-4b47-4f68-8e5f-dd85daeb22f6",
         "x": [
          "London",
          "Oxford",
          "Cambridge",
          "Manchester",
          "Edinburgh",
          "Newcastle upon Tyne",
          "Birmingham",
          "Glasgow",
          "Exeter",
          "Liverpool",
          "Leeds",
          "Sheffield",
          "Coventry",
          "Abingdon",
          "Cardiff",
          "York",
          "Redhill",
          "Southampton",
          "Norwich",
          "Aberdeen",
          "Bristol",
          "Welwyn Garden City",
          "Canterbury",
          "Nottingham",
          "Belfast",
          "Kingston upon Hull",
          "Durham",
          "Lancaster",
          "Leicester",
          "Didcot",
          "Saint Andrews",
          "Warrington",
          "Bath",
          "Runcorn",
          "Daresbury",
          "Dundee",
          "Warrington",
          "Taunton",
          "Swansea",
          "Reading",
          "Loughborough",
          "Egham",
          "Brighton",
          "Bangor",
          "Hatfield",
          "Newcastle under Lyme",
          "Craigavon",
          "Moreton",
          "Ormskirk",
          "Wallingford",
          "Bradford",
          "Guildford",
          "Colchester",
          "Derby",
          "Plymouth",
          "Paisley",
          "Box",
          "Chester",
          "Lancing",
          "Ipswich",
          "Wokingham",
          "Worcester",
          "Street",
          "Winchester",
          "High Wycombe",
          "Dalkeith",
          "Inverness",
          "Marlborough",
          "Milton Keynes",
          "Chesterfield",
          "Bournemouth",
          "Salford",
          "Scarborough",
          "Shipley",
          "Rotherham",
          "Bishops Stortford",
          "Bracknell",
          "Brierley Hill",
          "Brixham",
          "Bangor",
          "Airdrie",
          "Aylesbury",
          "Broadstairs",
          "Kirkcaldy",
          "Kilmarnock",
          "Lakenheath",
          "Larbert",
          "Lincoln",
          "Lowestoft",
          "Harpenden",
          "Coleraine",
          "Gateshead",
          "Cranfield",
          "Croydon",
          "Crumlin",
          "Dumfries",
          "Farnham",
          "Luton",
          "Wakefield",
          "Stoke-on-Trent",
          "Tranent",
          "Victoria",
          "Walkden",
          "Stirling",
          "Watford",
          "Witney",
          "Woking",
          "Stevenage",
          "Pontypridd",
          "Middlesbrough",
          "Newbury",
          "Newquay",
          "North Shields",
          "Peterborough",
          "Portsmouth",
          "Slough"
         ],
         "xaxis": "x",
         "y": [
          468,
          120,
          101,
          88,
          67,
          58,
          56,
          49,
          46,
          43,
          38,
          37,
          34,
          34,
          34,
          32,
          32,
          27,
          27,
          23,
          23,
          22,
          20,
          20,
          17,
          17,
          16,
          14,
          11,
          9,
          8,
          8,
          8,
          8,
          7,
          7,
          7,
          7,
          7,
          7,
          7,
          6,
          6,
          5,
          5,
          5,
          4,
          4,
          4,
          4,
          4,
          4,
          4,
          4,
          3,
          3,
          3,
          3,
          3,
          3,
          3,
          3,
          2,
          2,
          2,
          2,
          2,
          2,
          2,
          2,
          2,
          2,
          2,
          2,
          2,
          1,
          1,
          1,
          1,
          1,
          1,
          1,
          1,
          1,
          1,
          1,
          1,
          1,
          1,
          1,
          1,
          1,
          1,
          1,
          1,
          1,
          1,
          1,
          1,
          1,
          1,
          1,
          1,
          1,
          1,
          1,
          1,
          1,
          1,
          1,
          1,
          1,
          1,
          1,
          1,
          1
         ],
         "yaxis": "y"
        },
        {
         "alignmentgroup": "True",
         "bingroup": "x",
         "hoverlabel": {
          "namelength": 0
         },
         "hovertemplate": "countryName=United Kingdom<br>name=%{x}<br>count=%{y}",
         "legendgroup": "countryName=United Kingdom",
         "marker": {
          "color": "#636efa"
         },
         "name": "countryName=United Kingdom",
         "offsetgroup": "countryName=United Kingdom",
         "opacity": 0.5,
         "showlegend": false,
         "type": "histogram",
         "uid": "562d5f97-88f5-49ac-adfe-3a34f959330b",
         "x": [
          "London",
          "Oxford",
          "Cambridge",
          "Manchester",
          "Edinburgh",
          "Newcastle upon Tyne",
          "Birmingham",
          "Glasgow",
          "Exeter",
          "Liverpool",
          "Leeds",
          "Sheffield",
          "Coventry",
          "Abingdon",
          "Cardiff",
          "York",
          "Redhill",
          "Southampton",
          "Norwich",
          "Aberdeen",
          "Bristol",
          "Welwyn Garden City",
          "Canterbury",
          "Nottingham",
          "Belfast",
          "Kingston upon Hull",
          "Durham",
          "Lancaster",
          "Leicester",
          "Didcot",
          "Saint Andrews",
          "Warrington",
          "Bath",
          "Runcorn",
          "Daresbury",
          "Dundee",
          "Warrington",
          "Taunton",
          "Swansea",
          "Reading",
          "Loughborough",
          "Egham",
          "Brighton",
          "Bangor",
          "Hatfield",
          "Newcastle under Lyme",
          "Craigavon",
          "Moreton",
          "Ormskirk",
          "Wallingford",
          "Bradford",
          "Guildford",
          "Colchester",
          "Derby",
          "Plymouth",
          "Paisley",
          "Box",
          "Chester",
          "Lancing",
          "Ipswich",
          "Wokingham",
          "Worcester",
          "Street",
          "Winchester",
          "High Wycombe",
          "Dalkeith",
          "Inverness",
          "Marlborough",
          "Milton Keynes",
          "Chesterfield",
          "Bournemouth",
          "Salford",
          "Scarborough",
          "Shipley",
          "Rotherham",
          "Bishops Stortford",
          "Bracknell",
          "Brierley Hill",
          "Brixham",
          "Bangor",
          "Airdrie",
          "Aylesbury",
          "Broadstairs",
          "Kirkcaldy",
          "Kilmarnock",
          "Lakenheath",
          "Larbert",
          "Lincoln",
          "Lowestoft",
          "Harpenden",
          "Coleraine",
          "Gateshead",
          "Cranfield",
          "Croydon",
          "Crumlin",
          "Dumfries",
          "Farnham",
          "Luton",
          "Wakefield",
          "Stoke-on-Trent",
          "Tranent",
          "Victoria",
          "Walkden",
          "Stirling",
          "Watford",
          "Witney",
          "Woking",
          "Stevenage",
          "Pontypridd",
          "Middlesbrough",
          "Newbury",
          "Newquay",
          "North Shields",
          "Peterborough",
          "Portsmouth",
          "Slough"
         ],
         "xaxis": "x",
         "yaxis": "y2"
        },
        {
         "alignmentgroup": "True",
         "bingroup": "y",
         "hoverlabel": {
          "namelength": 0
         },
         "hovertemplate": "countryName=United Kingdom<br>count=%{x}",
         "legendgroup": "countryName=United Kingdom",
         "marker": {
          "color": "#636efa"
         },
         "name": "countryName=United Kingdom",
         "offsetgroup": "countryName=United Kingdom",
         "opacity": 0.5,
         "showlegend": false,
         "type": "histogram",
         "uid": "250ccaaa-087b-443f-b4fd-fe4bda5202d3",
         "xaxis": "x2",
         "y": [
          468,
          120,
          101,
          88,
          67,
          58,
          56,
          49,
          46,
          43,
          38,
          37,
          34,
          34,
          34,
          32,
          32,
          27,
          27,
          23,
          23,
          22,
          20,
          20,
          17,
          17,
          16,
          14,
          11,
          9,
          8,
          8,
          8,
          8,
          7,
          7,
          7,
          7,
          7,
          7,
          7,
          6,
          6,
          5,
          5,
          5,
          4,
          4,
          4,
          4,
          4,
          4,
          4,
          4,
          3,
          3,
          3,
          3,
          3,
          3,
          3,
          3,
          2,
          2,
          2,
          2,
          2,
          2,
          2,
          2,
          2,
          2,
          2,
          2,
          2,
          1,
          1,
          1,
          1,
          1,
          1,
          1,
          1,
          1,
          1,
          1,
          1,
          1,
          1,
          1,
          1,
          1,
          1,
          1,
          1,
          1,
          1,
          1,
          1,
          1,
          1,
          1,
          1,
          1,
          1,
          1,
          1,
          1,
          1,
          1,
          1,
          1,
          1,
          1,
          1,
          1
         ],
         "yaxis": "y"
        },
        {
         "hoverlabel": {
          "namelength": 0
         },
         "hovertemplate": "countryName=France<br>name=%{x}<br>count=%{y}",
         "legendgroup": "countryName=France",
         "marker": {
          "color": "#EF553B",
          "symbol": "circle"
         },
         "mode": "markers",
         "name": "countryName=France",
         "showlegend": true,
         "type": "scatter",
         "uid": "c1b535b8-dc4b-4c0d-9268-a1abec36879d",
         "x": [
          "Paris",
          "Lyon",
          "Villejuif",
          "Bordeaux",
          "Gif-sur-Yvette",
          "Marseille",
          "Montpellier",
          "Orsay",
          "Grenoble",
          "Pessac",
          "Tours",
          "Toulouse",
          "Brest",
          "Caen",
          "Angers",
          "Lille",
          "Saint-Martin-d’Hères",
          "Strasbourg",
          "Palaiseau",
          "Fontenay-aux-Roses",
          "Vinon-sur-Verdon",
          "Rennes",
          "Limoges",
          "Versailles",
          "Le Kremlin-Bicêtre",
          "Nancy",
          "Suresnes",
          "Nyons",
          "Créteil",
          "Dijon",
          "Jouy-en-Josas",
          "Nice",
          "Le Chesnay",
          "Villeurbanne",
          "Villetaneuse",
          "Vandœuvre-lès-Nancy",
          "Clermont-Ferrand",
          "Nantes",
          "Rouen",
          "Saint-Étienne",
          "Saint-Cloud",
          "Biot",
          "Besançon",
          "Amiens",
          "Saint-Mandé",
          "Saint-Genis-Laval",
          "Narbonne",
          "Avignon",
          "Fleury-Mérogis",
          "Illkirch-Graffenstaden",
          "Nanterre",
          "Issy-les-Moulineaux",
          "Nîmes",
          "Marcoussis",
          "Libourne",
          "Lorient",
          "Reims",
          "Le Pecq",
          "Valenciennes",
          "Vannes",
          "Perpignan",
          "Saint-Aubin",
          "La Rochelle",
          "Clamart",
          "Bron",
          "Meudon",
          "Arpajon",
          "Antony",
          "Aix-en-Provence",
          "Villeneuve-d'Ascq",
          "Saint-Maurice",
          "Tourcoing",
          "Talence",
          "Beauvais",
          "Chambéry",
          "Castanet-Tolosan",
          "Brétigny-sur-Orge",
          "Bourgoin",
          "Boulogne-Billancourt",
          "Beaune",
          "Châtillon",
          "Aulnay-sous-Bois",
          "Annecy-le-Vieux",
          "Annecy",
          "Ajaccio",
          "Abbeville",
          "Charleville-Mézières",
          "Orléans",
          "Nouzilly",
          "Nogent-sur-Marne",
          "Montivilliers",
          "Metz",
          "Meaux",
          "Le Mans",
          "Compiègne",
          "Firminy",
          "Écully",
          "Pierre-Bénite",
          "Pau",
          "Pleaux",
          "Plérin",
          "Saint-Germain-en-Laye",
          "Vaux-sur-Seine",
          "Tarbes",
          "Saint-Lô",
          "Saint-Julien-en-Genevois",
          "Roanne",
          "Ramonville-Saint-Agne",
          "Poitiers",
          "Villefranche-sur-Mer"
         ],
         "xaxis": "x",
         "y": [
          293,
          67,
          60,
          53,
          50,
          33,
          29,
          27,
          27,
          24,
          24,
          23,
          20,
          20,
          20,
          18,
          17,
          17,
          17,
          17,
          13,
          13,
          13,
          12,
          12,
          11,
          11,
          10,
          9,
          9,
          8,
          8,
          7,
          7,
          6,
          6,
          6,
          5,
          4,
          4,
          4,
          4,
          4,
          4,
          4,
          4,
          4,
          3,
          3,
          3,
          3,
          3,
          3,
          3,
          3,
          3,
          3,
          2,
          2,
          2,
          2,
          2,
          2,
          2,
          2,
          2,
          2,
          2,
          2,
          2,
          2,
          2,
          2,
          1,
          1,
          1,
          1,
          1,
          1,
          1,
          1,
          1,
          1,
          1,
          1,
          1,
          1,
          1,
          1,
          1,
          1,
          1,
          1,
          1,
          1,
          1,
          1,
          1,
          1,
          1,
          1,
          1,
          1,
          1,
          1,
          1,
          1,
          1,
          1,
          1
         ],
         "yaxis": "y"
        },
        {
         "alignmentgroup": "True",
         "bingroup": "x",
         "hoverlabel": {
          "namelength": 0
         },
         "hovertemplate": "countryName=France<br>name=%{x}<br>count=%{y}",
         "legendgroup": "countryName=France",
         "marker": {
          "color": "#EF553B"
         },
         "name": "countryName=France",
         "offsetgroup": "countryName=France",
         "opacity": 0.5,
         "showlegend": false,
         "type": "histogram",
         "uid": "deeb03d6-0aa4-4b67-b98c-4b47b942e636",
         "x": [
          "Paris",
          "Lyon",
          "Villejuif",
          "Bordeaux",
          "Gif-sur-Yvette",
          "Marseille",
          "Montpellier",
          "Orsay",
          "Grenoble",
          "Pessac",
          "Tours",
          "Toulouse",
          "Brest",
          "Caen",
          "Angers",
          "Lille",
          "Saint-Martin-d’Hères",
          "Strasbourg",
          "Palaiseau",
          "Fontenay-aux-Roses",
          "Vinon-sur-Verdon",
          "Rennes",
          "Limoges",
          "Versailles",
          "Le Kremlin-Bicêtre",
          "Nancy",
          "Suresnes",
          "Nyons",
          "Créteil",
          "Dijon",
          "Jouy-en-Josas",
          "Nice",
          "Le Chesnay",
          "Villeurbanne",
          "Villetaneuse",
          "Vandœuvre-lès-Nancy",
          "Clermont-Ferrand",
          "Nantes",
          "Rouen",
          "Saint-Étienne",
          "Saint-Cloud",
          "Biot",
          "Besançon",
          "Amiens",
          "Saint-Mandé",
          "Saint-Genis-Laval",
          "Narbonne",
          "Avignon",
          "Fleury-Mérogis",
          "Illkirch-Graffenstaden",
          "Nanterre",
          "Issy-les-Moulineaux",
          "Nîmes",
          "Marcoussis",
          "Libourne",
          "Lorient",
          "Reims",
          "Le Pecq",
          "Valenciennes",
          "Vannes",
          "Perpignan",
          "Saint-Aubin",
          "La Rochelle",
          "Clamart",
          "Bron",
          "Meudon",
          "Arpajon",
          "Antony",
          "Aix-en-Provence",
          "Villeneuve-d'Ascq",
          "Saint-Maurice",
          "Tourcoing",
          "Talence",
          "Beauvais",
          "Chambéry",
          "Castanet-Tolosan",
          "Brétigny-sur-Orge",
          "Bourgoin",
          "Boulogne-Billancourt",
          "Beaune",
          "Châtillon",
          "Aulnay-sous-Bois",
          "Annecy-le-Vieux",
          "Annecy",
          "Ajaccio",
          "Abbeville",
          "Charleville-Mézières",
          "Orléans",
          "Nouzilly",
          "Nogent-sur-Marne",
          "Montivilliers",
          "Metz",
          "Meaux",
          "Le Mans",
          "Compiègne",
          "Firminy",
          "Écully",
          "Pierre-Bénite",
          "Pau",
          "Pleaux",
          "Plérin",
          "Saint-Germain-en-Laye",
          "Vaux-sur-Seine",
          "Tarbes",
          "Saint-Lô",
          "Saint-Julien-en-Genevois",
          "Roanne",
          "Ramonville-Saint-Agne",
          "Poitiers",
          "Villefranche-sur-Mer"
         ],
         "xaxis": "x",
         "yaxis": "y2"
        },
        {
         "alignmentgroup": "True",
         "bingroup": "y",
         "hoverlabel": {
          "namelength": 0
         },
         "hovertemplate": "countryName=France<br>count=%{x}",
         "legendgroup": "countryName=France",
         "marker": {
          "color": "#EF553B"
         },
         "name": "countryName=France",
         "offsetgroup": "countryName=France",
         "opacity": 0.5,
         "showlegend": false,
         "type": "histogram",
         "uid": "17e5e844-5c81-4a7a-9ded-e1e958131840",
         "xaxis": "x2",
         "y": [
          293,
          67,
          60,
          53,
          50,
          33,
          29,
          27,
          27,
          24,
          24,
          23,
          20,
          20,
          20,
          18,
          17,
          17,
          17,
          17,
          13,
          13,
          13,
          12,
          12,
          11,
          11,
          10,
          9,
          9,
          8,
          8,
          7,
          7,
          6,
          6,
          6,
          5,
          4,
          4,
          4,
          4,
          4,
          4,
          4,
          4,
          4,
          3,
          3,
          3,
          3,
          3,
          3,
          3,
          3,
          3,
          3,
          2,
          2,
          2,
          2,
          2,
          2,
          2,
          2,
          2,
          2,
          2,
          2,
          2,
          2,
          2,
          2,
          1,
          1,
          1,
          1,
          1,
          1,
          1,
          1,
          1,
          1,
          1,
          1,
          1,
          1,
          1,
          1,
          1,
          1,
          1,
          1,
          1,
          1,
          1,
          1,
          1,
          1,
          1,
          1,
          1,
          1,
          1,
          1,
          1,
          1,
          1,
          1,
          1
         ],
         "yaxis": "y"
        },
        {
         "hoverlabel": {
          "namelength": 0
         },
         "hovertemplate": "countryName=Spain<br>name=%{x}<br>count=%{y}",
         "legendgroup": "countryName=Spain",
         "marker": {
          "color": "#00cc96",
          "symbol": "circle"
         },
         "mode": "markers",
         "name": "countryName=Spain",
         "showlegend": true,
         "type": "scatter",
         "uid": "68034e64-312a-4fd1-abda-891edf08ac40",
         "x": [
          "Barcelona",
          "Madrid",
          "Valencia",
          "Sevilla",
          "Granada",
          "Málaga",
          "Alcalá de Henares",
          "Santander",
          "Zaragoza",
          "Córdoba",
          "Pamplona",
          "Murcia",
          "Leioa",
          "Alicante",
          "Santiago de Compostela",
          "Oviedo",
          "Gasteiz / Vitoria",
          "Salamanca",
          "Santa Cruz de Tenerife",
          "Elche",
          "Albacete",
          "Bilbao",
          "Valladolid",
          "Logroño",
          "Jaén",
          "La Laguna",
          "Badajoz",
          "Ourense",
          "Girona",
          "Cañada",
          "Palma",
          "Almería",
          "Barakaldo",
          "Donostia / San Sebastián",
          "A Coruña",
          "Burgos",
          "Cadiz",
          "Castelló de la Plana",
          "Ciudad Real",
          "Paterna",
          "Villaviciosa",
          "Vigo",
          "Tarragona",
          "Lleida",
          "Fuenlabrada",
          "Tortosa",
          "Torrelavega",
          "Torrejón de Ardoz",
          "Sant Joan Despí",
          "Sant Cugat del Vallès",
          "Reus",
          "Zamora",
          "Pozuelo de Alarcón",
          "Olot",
          "Arrasate / Mondragón",
          "Valdemoro",
          "León",
          "Gijón",
          "Las Palmas de Gran Canaria",
          "Lorca",
          "Getafe",
          "Cuenca",
          "El Ejido",
          "Cartagena"
         ],
         "xaxis": "x",
         "y": [
          176,
          171,
          69,
          38,
          32,
          31,
          27,
          19,
          19,
          16,
          14,
          14,
          13,
          11,
          11,
          10,
          9,
          9,
          9,
          8,
          7,
          6,
          6,
          5,
          5,
          5,
          5,
          4,
          4,
          4,
          4,
          4,
          3,
          3,
          3,
          3,
          3,
          3,
          3,
          2,
          2,
          2,
          2,
          2,
          2,
          1,
          1,
          1,
          1,
          1,
          1,
          1,
          1,
          1,
          1,
          1,
          1,
          1,
          1,
          1,
          1,
          1,
          1,
          1
         ],
         "yaxis": "y"
        },
        {
         "alignmentgroup": "True",
         "bingroup": "x",
         "hoverlabel": {
          "namelength": 0
         },
         "hovertemplate": "countryName=Spain<br>name=%{x}<br>count=%{y}",
         "legendgroup": "countryName=Spain",
         "marker": {
          "color": "#00cc96"
         },
         "name": "countryName=Spain",
         "offsetgroup": "countryName=Spain",
         "opacity": 0.5,
         "showlegend": false,
         "type": "histogram",
         "uid": "d454fb42-3fa9-44ac-b032-e98e51813950",
         "x": [
          "Barcelona",
          "Madrid",
          "Valencia",
          "Sevilla",
          "Granada",
          "Málaga",
          "Alcalá de Henares",
          "Santander",
          "Zaragoza",
          "Córdoba",
          "Pamplona",
          "Murcia",
          "Leioa",
          "Alicante",
          "Santiago de Compostela",
          "Oviedo",
          "Gasteiz / Vitoria",
          "Salamanca",
          "Santa Cruz de Tenerife",
          "Elche",
          "Albacete",
          "Bilbao",
          "Valladolid",
          "Logroño",
          "Jaén",
          "La Laguna",
          "Badajoz",
          "Ourense",
          "Girona",
          "Cañada",
          "Palma",
          "Almería",
          "Barakaldo",
          "Donostia / San Sebastián",
          "A Coruña",
          "Burgos",
          "Cadiz",
          "Castelló de la Plana",
          "Ciudad Real",
          "Paterna",
          "Villaviciosa",
          "Vigo",
          "Tarragona",
          "Lleida",
          "Fuenlabrada",
          "Tortosa",
          "Torrelavega",
          "Torrejón de Ardoz",
          "Sant Joan Despí",
          "Sant Cugat del Vallès",
          "Reus",
          "Zamora",
          "Pozuelo de Alarcón",
          "Olot",
          "Arrasate / Mondragón",
          "Valdemoro",
          "León",
          "Gijón",
          "Las Palmas de Gran Canaria",
          "Lorca",
          "Getafe",
          "Cuenca",
          "El Ejido",
          "Cartagena"
         ],
         "xaxis": "x",
         "yaxis": "y2"
        },
        {
         "alignmentgroup": "True",
         "bingroup": "y",
         "hoverlabel": {
          "namelength": 0
         },
         "hovertemplate": "countryName=Spain<br>count=%{x}",
         "legendgroup": "countryName=Spain",
         "marker": {
          "color": "#00cc96"
         },
         "name": "countryName=Spain",
         "offsetgroup": "countryName=Spain",
         "opacity": 0.5,
         "showlegend": false,
         "type": "histogram",
         "uid": "5eb4684a-cfae-4f50-8bb1-cd1f5eca6c5d",
         "xaxis": "x2",
         "y": [
          176,
          171,
          69,
          38,
          32,
          31,
          27,
          19,
          19,
          16,
          14,
          14,
          13,
          11,
          11,
          10,
          9,
          9,
          9,
          8,
          7,
          6,
          6,
          5,
          5,
          5,
          5,
          4,
          4,
          4,
          4,
          4,
          3,
          3,
          3,
          3,
          3,
          3,
          3,
          2,
          2,
          2,
          2,
          2,
          2,
          1,
          1,
          1,
          1,
          1,
          1,
          1,
          1,
          1,
          1,
          1,
          1,
          1,
          1,
          1,
          1,
          1,
          1,
          1
         ],
         "yaxis": "y"
        },
        {
         "hoverlabel": {
          "namelength": 0
         },
         "hovertemplate": "countryName=Netherlands<br>name=%{x}<br>count=%{y}",
         "legendgroup": "countryName=Netherlands",
         "marker": {
          "color": "#ab63fa",
          "symbol": "circle"
         },
         "mode": "markers",
         "name": "countryName=Netherlands",
         "showlegend": true,
         "type": "scatter",
         "uid": "af5b1528-4a35-4980-8971-86ee51c4b190",
         "x": [
          "Amsterdam",
          "Leiden",
          "Maastricht",
          "Utrecht",
          "Rotterdam",
          "Nijmegen",
          "Groningen",
          "Delft",
          "Wageningen",
          "Eindhoven",
          "Nieuwegein",
          "De Bilt",
          "Enschede",
          "The Hague",
          "Veldhoven",
          "Dordrecht",
          "Kampen",
          "Boxtel",
          "'s-Hertogenbosch",
          "Naarden",
          "Alkmaar",
          "Tilburg",
          "Noordwijk-Binnen",
          "Purmerend",
          "Hoofddorp",
          "Leeuwarden",
          "Vlaardingen",
          "Zwolle",
          "Hilversum",
          "Heteren",
          "Den Burg",
          "Almelo",
          "Amersfoort",
          "Arnhem"
         ],
         "xaxis": "x",
         "y": [
          172,
          82,
          75,
          63,
          60,
          49,
          40,
          20,
          17,
          17,
          14,
          13,
          12,
          9,
          6,
          6,
          6,
          3,
          3,
          2,
          2,
          2,
          2,
          2,
          1,
          1,
          1,
          1,
          1,
          1,
          1,
          1,
          1,
          1
         ],
         "yaxis": "y"
        },
        {
         "alignmentgroup": "True",
         "bingroup": "x",
         "hoverlabel": {
          "namelength": 0
         },
         "hovertemplate": "countryName=Netherlands<br>name=%{x}<br>count=%{y}",
         "legendgroup": "countryName=Netherlands",
         "marker": {
          "color": "#ab63fa"
         },
         "name": "countryName=Netherlands",
         "offsetgroup": "countryName=Netherlands",
         "opacity": 0.5,
         "showlegend": false,
         "type": "histogram",
         "uid": "6e6dcb13-a8fe-42f9-90ad-ae5c3aaa0673",
         "x": [
          "Amsterdam",
          "Leiden",
          "Maastricht",
          "Utrecht",
          "Rotterdam",
          "Nijmegen",
          "Groningen",
          "Delft",
          "Wageningen",
          "Eindhoven",
          "Nieuwegein",
          "De Bilt",
          "Enschede",
          "The Hague",
          "Veldhoven",
          "Dordrecht",
          "Kampen",
          "Boxtel",
          "'s-Hertogenbosch",
          "Naarden",
          "Alkmaar",
          "Tilburg",
          "Noordwijk-Binnen",
          "Purmerend",
          "Hoofddorp",
          "Leeuwarden",
          "Vlaardingen",
          "Zwolle",
          "Hilversum",
          "Heteren",
          "Den Burg",
          "Almelo",
          "Amersfoort",
          "Arnhem"
         ],
         "xaxis": "x",
         "yaxis": "y2"
        },
        {
         "alignmentgroup": "True",
         "bingroup": "y",
         "hoverlabel": {
          "namelength": 0
         },
         "hovertemplate": "countryName=Netherlands<br>count=%{x}",
         "legendgroup": "countryName=Netherlands",
         "marker": {
          "color": "#ab63fa"
         },
         "name": "countryName=Netherlands",
         "offsetgroup": "countryName=Netherlands",
         "opacity": 0.5,
         "showlegend": false,
         "type": "histogram",
         "uid": "2e0c007a-1437-4fe3-b281-496898600c5a",
         "xaxis": "x2",
         "y": [
          172,
          82,
          75,
          63,
          60,
          49,
          40,
          20,
          17,
          17,
          14,
          13,
          12,
          9,
          6,
          6,
          6,
          3,
          3,
          2,
          2,
          2,
          2,
          2,
          1,
          1,
          1,
          1,
          1,
          1,
          1,
          1,
          1,
          1
         ],
         "yaxis": "y"
        },
        {
         "hoverlabel": {
          "namelength": 0
         },
         "hovertemplate": "countryName=Italy<br>name=%{x}<br>count=%{y}",
         "legendgroup": "countryName=Italy",
         "marker": {
          "color": "#19d3f3",
          "symbol": "circle"
         },
         "mode": "markers",
         "name": "countryName=Italy",
         "showlegend": true,
         "type": "scatter",
         "uid": "a826a8c0-a8c8-46e9-9e8a-35940ff3849b",
         "x": [
          "Milan",
          "Rome",
          "Florence",
          "Naples",
          "Padova",
          "Rozzano",
          "Turin",
          "Pisa",
          "Parma",
          "Bologna",
          "Chieti",
          "Perugia",
          "Pavia",
          "Brescia",
          "Palermo",
          "Genoa",
          "Verona",
          "Trieste",
          "Catania",
          "Bari",
          "Lecce",
          "Cagliari",
          "Udine",
          "Reggio Calabria",
          "Siena",
          "Modena",
          "Caserta",
          "Trento",
          "Bergamo",
          "L'Aquila",
          "Negrar",
          "Ancona",
          "Fisciano",
          "Campobasso",
          "Candiolo",
          "Bolzano",
          "Benevento",
          "Mangone",
          "Teramo",
          "Como",
          "Cassino",
          "Aviano",
          "Messina",
          "Veruno",
          "Monza",
          "Lodi",
          "Forlì",
          "Foggia",
          "Ferrara",
          "Cuneo",
          "San Vito al Tagliamento",
          "Bisceglie",
          "Sassari",
          "Venice",
          "Vicenza",
          "Seriate",
          "Scandiano",
          "Lumezzane",
          "Montescano",
          "Ravenna",
          "Pozzilli",
          "Pietra Ligure",
          "Piacenza",
          "Mantova",
          "Lecco",
          "Grosseto",
          "Reggio nell'Emilia",
          "Desio",
          "San Donato Milanese",
          "Urbino",
          "Treviso",
          "Tivoli",
          "Taranto",
          "San Giovanni Rotondo",
          "Este",
          "Cotignola",
          "Cosenza",
          "Castellaneta",
          "Casalecchio di Reno",
          "Brindisi",
          "Belluno",
          "Avezzano",
          "Aversa",
          "Asti",
          "Ariano Irpino-Martiri",
          "Arezzo",
          "Aosta"
         ],
         "xaxis": "x",
         "y": [
          163,
          154,
          54,
          41,
          35,
          35,
          34,
          32,
          25,
          24,
          23,
          23,
          20,
          19,
          18,
          16,
          16,
          15,
          14,
          13,
          11,
          11,
          9,
          9,
          9,
          8,
          7,
          7,
          6,
          6,
          6,
          6,
          5,
          5,
          5,
          4,
          4,
          4,
          3,
          3,
          3,
          3,
          3,
          3,
          2,
          2,
          2,
          2,
          2,
          2,
          2,
          2,
          2,
          2,
          2,
          2,
          2,
          1,
          1,
          1,
          1,
          1,
          1,
          1,
          1,
          1,
          1,
          1,
          1,
          1,
          1,
          1,
          1,
          1,
          1,
          1,
          1,
          1,
          1,
          1,
          1,
          1,
          1,
          1,
          1,
          1,
          1
         ],
         "yaxis": "y"
        },
        {
         "alignmentgroup": "True",
         "bingroup": "x",
         "hoverlabel": {
          "namelength": 0
         },
         "hovertemplate": "countryName=Italy<br>name=%{x}<br>count=%{y}",
         "legendgroup": "countryName=Italy",
         "marker": {
          "color": "#19d3f3"
         },
         "name": "countryName=Italy",
         "offsetgroup": "countryName=Italy",
         "opacity": 0.5,
         "showlegend": false,
         "type": "histogram",
         "uid": "3d892c36-ada7-42af-937e-91e6e2248116",
         "x": [
          "Milan",
          "Rome",
          "Florence",
          "Naples",
          "Padova",
          "Rozzano",
          "Turin",
          "Pisa",
          "Parma",
          "Bologna",
          "Chieti",
          "Perugia",
          "Pavia",
          "Brescia",
          "Palermo",
          "Genoa",
          "Verona",
          "Trieste",
          "Catania",
          "Bari",
          "Lecce",
          "Cagliari",
          "Udine",
          "Reggio Calabria",
          "Siena",
          "Modena",
          "Caserta",
          "Trento",
          "Bergamo",
          "L'Aquila",
          "Negrar",
          "Ancona",
          "Fisciano",
          "Campobasso",
          "Candiolo",
          "Bolzano",
          "Benevento",
          "Mangone",
          "Teramo",
          "Como",
          "Cassino",
          "Aviano",
          "Messina",
          "Veruno",
          "Monza",
          "Lodi",
          "Forlì",
          "Foggia",
          "Ferrara",
          "Cuneo",
          "San Vito al Tagliamento",
          "Bisceglie",
          "Sassari",
          "Venice",
          "Vicenza",
          "Seriate",
          "Scandiano",
          "Lumezzane",
          "Montescano",
          "Ravenna",
          "Pozzilli",
          "Pietra Ligure",
          "Piacenza",
          "Mantova",
          "Lecco",
          "Grosseto",
          "Reggio nell'Emilia",
          "Desio",
          "San Donato Milanese",
          "Urbino",
          "Treviso",
          "Tivoli",
          "Taranto",
          "San Giovanni Rotondo",
          "Este",
          "Cotignola",
          "Cosenza",
          "Castellaneta",
          "Casalecchio di Reno",
          "Brindisi",
          "Belluno",
          "Avezzano",
          "Aversa",
          "Asti",
          "Ariano Irpino-Martiri",
          "Arezzo",
          "Aosta"
         ],
         "xaxis": "x",
         "yaxis": "y2"
        },
        {
         "alignmentgroup": "True",
         "bingroup": "y",
         "hoverlabel": {
          "namelength": 0
         },
         "hovertemplate": "countryName=Italy<br>count=%{x}",
         "legendgroup": "countryName=Italy",
         "marker": {
          "color": "#19d3f3"
         },
         "name": "countryName=Italy",
         "offsetgroup": "countryName=Italy",
         "opacity": 0.5,
         "showlegend": false,
         "type": "histogram",
         "uid": "6f3707d4-d6fa-4c3b-9273-cb757c9d4f7f",
         "xaxis": "x2",
         "y": [
          163,
          154,
          54,
          41,
          35,
          35,
          34,
          32,
          25,
          24,
          23,
          23,
          20,
          19,
          18,
          16,
          16,
          15,
          14,
          13,
          11,
          11,
          9,
          9,
          9,
          8,
          7,
          7,
          6,
          6,
          6,
          6,
          5,
          5,
          5,
          4,
          4,
          4,
          3,
          3,
          3,
          3,
          3,
          3,
          2,
          2,
          2,
          2,
          2,
          2,
          2,
          2,
          2,
          2,
          2,
          2,
          2,
          1,
          1,
          1,
          1,
          1,
          1,
          1,
          1,
          1,
          1,
          1,
          1,
          1,
          1,
          1,
          1,
          1,
          1,
          1,
          1,
          1,
          1,
          1,
          1,
          1,
          1,
          1,
          1,
          1,
          1
         ],
         "yaxis": "y"
        },
        {
         "hoverlabel": {
          "namelength": 0
         },
         "hovertemplate": "countryName=Switzerland<br>name=%{x}<br>count=%{y}",
         "legendgroup": "countryName=Switzerland",
         "marker": {
          "color": "#e763fa",
          "symbol": "circle"
         },
         "mode": "markers",
         "name": "countryName=Switzerland",
         "showlegend": true,
         "type": "scatter",
         "uid": "13eeef2c-85d8-4cf0-9523-b5bc83741805",
         "x": [
          "Zürich",
          "Lausanne",
          "Genève",
          "Basel",
          "Bern",
          "Fribourg",
          "Lugano",
          "Sankt Gallen",
          "Luzern",
          "Neuchâtel",
          "Genolier",
          "Villigen",
          "Rüschlikon",
          "Kaiseraugst",
          "Plan-les-Ouates",
          "Frick",
          "Winterthur",
          "Dübendorf",
          "Bassersdorf",
          "Davos",
          "Bellinzona",
          "Zürich (Kreis 7) / Hirslanden",
          "Kirchlindach",
          "Sitten",
          "Vevey",
          "Wallisellen"
         ],
         "xaxis": "x",
         "y": [
          147,
          114,
          84,
          55,
          46,
          26,
          24,
          14,
          11,
          10,
          10,
          8,
          4,
          4,
          2,
          2,
          2,
          2,
          2,
          2,
          2,
          1,
          1,
          1,
          1,
          1
         ],
         "yaxis": "y"
        },
        {
         "alignmentgroup": "True",
         "bingroup": "x",
         "hoverlabel": {
          "namelength": 0
         },
         "hovertemplate": "countryName=Switzerland<br>name=%{x}<br>count=%{y}",
         "legendgroup": "countryName=Switzerland",
         "marker": {
          "color": "#e763fa"
         },
         "name": "countryName=Switzerland",
         "offsetgroup": "countryName=Switzerland",
         "opacity": 0.5,
         "showlegend": false,
         "type": "histogram",
         "uid": "6c174960-c8d6-42ff-905a-33215f36724a",
         "x": [
          "Zürich",
          "Lausanne",
          "Genève",
          "Basel",
          "Bern",
          "Fribourg",
          "Lugano",
          "Sankt Gallen",
          "Luzern",
          "Neuchâtel",
          "Genolier",
          "Villigen",
          "Rüschlikon",
          "Kaiseraugst",
          "Plan-les-Ouates",
          "Frick",
          "Winterthur",
          "Dübendorf",
          "Bassersdorf",
          "Davos",
          "Bellinzona",
          "Zürich (Kreis 7) / Hirslanden",
          "Kirchlindach",
          "Sitten",
          "Vevey",
          "Wallisellen"
         ],
         "xaxis": "x",
         "yaxis": "y2"
        },
        {
         "alignmentgroup": "True",
         "bingroup": "y",
         "hoverlabel": {
          "namelength": 0
         },
         "hovertemplate": "countryName=Switzerland<br>count=%{x}",
         "legendgroup": "countryName=Switzerland",
         "marker": {
          "color": "#e763fa"
         },
         "name": "countryName=Switzerland",
         "offsetgroup": "countryName=Switzerland",
         "opacity": 0.5,
         "showlegend": false,
         "type": "histogram",
         "uid": "78f28353-8bab-41da-9da5-6a9070dcd648",
         "xaxis": "x2",
         "y": [
          147,
          114,
          84,
          55,
          46,
          26,
          24,
          14,
          11,
          10,
          10,
          8,
          4,
          4,
          2,
          2,
          2,
          2,
          2,
          2,
          2,
          1,
          1,
          1,
          1,
          1
         ],
         "yaxis": "y"
        },
        {
         "hoverlabel": {
          "namelength": 0
         },
         "hovertemplate": "countryName=Germany<br>name=%{x}<br>count=%{y}",
         "legendgroup": "countryName=Germany",
         "marker": {
          "color": "#FECB52",
          "symbol": "circle"
         },
         "mode": "markers",
         "name": "countryName=Germany",
         "showlegend": true,
         "type": "scatter",
         "uid": "3741f70a-f4f1-4216-97f6-449a92ada94d",
         "x": [
          "Berlin",
          "Munich",
          "Heidelberg",
          "Hamburg",
          "Leipzig",
          "Freiburg",
          "Köln",
          "Göttingen",
          "Erlangen",
          "Essen",
          "Potsdam",
          "Garching bei München",
          "Frankfurt am Main",
          "Bonn",
          "Tübingen",
          "Gießen",
          "Bremen",
          "Mannheim",
          "Dresden",
          "Düsseldorf",
          "Kassel",
          "Bayreuth",
          "Osnabrück",
          "Bielefeld",
          "Hannover",
          "Kaiserslautern",
          "Greifswald",
          "Stuttgart",
          "Würzburg",
          "Münster",
          "Kiel",
          "Braunschweig",
          "Aachen",
          "Darmstadt",
          "Bochum",
          "Lübeck",
          "Jena",
          "Ludwigshafen am Rhein",
          "Marburg an der Lahn",
          "Mainz",
          "Karlsruhe",
          "Ulm",
          "Borstel",
          "Jülich",
          "Homburg",
          "Rostock",
          "Bad Nauheim",
          "Magdeburg",
          "Nürnberg",
          "Offenbach",
          "Oberkochen",
          "Regensburg",
          "Halle (Saale)",
          "Geesthacht",
          "Ingelheim am Rhein",
          "Augsburg",
          "Cottbus",
          "Chemnitz",
          "Freising",
          "Witten",
          "Trier",
          "Saarbrücken",
          "Sankt Augustin",
          "Schenefeld",
          "Erfurt",
          "Wiesbaden",
          "Oldenburg",
          "Bad Mergentheim",
          "Denzlingen",
          "Böblingen",
          "Bad Homburg vor der Höhe",
          "Strausberg",
          "Eisenach",
          "Eichstätt",
          "Werdohl",
          "Mittweida",
          "Unterschleißheim",
          "Garching an der Alz",
          "Fürth",
          "Friedrichshafen",
          "Warendorf",
          "Wesel",
          "Frankfurt (Oder)",
          "Ettlingen",
          "Tuttlingen",
          "Esslingen",
          "Weßling",
          "Dortmund",
          "Sigmaringen",
          "Denkendorf",
          "Mönchengladbach",
          "Murnau am Staffelsee",
          "Lengede",
          "Langenfeld",
          "Konstanz",
          "Neubrandenburg",
          "Oberschleißheim",
          "Pinneberg",
          "Siegen",
          "Rendsburg",
          "Rheda-Wiedenbrück",
          "Ilmenau",
          "Rosenheim",
          "Herne",
          "Hameln",
          "Schmallenberg",
          "Dachau",
          "Bad Oeynhausen",
          "Bremerhaven",
          "Bottrop",
          "Bad Münstereifel",
          "Bad Berka",
          "Albstadt",
          "Lüneburg"
         ],
         "xaxis": "x",
         "y": [
          135,
          115,
          106,
          89,
          69,
          57,
          57,
          54,
          41,
          41,
          40,
          38,
          38,
          32,
          31,
          29,
          29,
          28,
          25,
          22,
          21,
          21,
          20,
          20,
          20,
          19,
          19,
          18,
          17,
          17,
          16,
          16,
          14,
          14,
          13,
          12,
          12,
          10,
          10,
          10,
          10,
          10,
          9,
          9,
          8,
          7,
          7,
          6,
          6,
          5,
          5,
          5,
          5,
          5,
          4,
          4,
          4,
          4,
          4,
          4,
          3,
          3,
          3,
          3,
          3,
          3,
          3,
          3,
          3,
          2,
          2,
          2,
          2,
          2,
          2,
          1,
          1,
          1,
          1,
          1,
          1,
          1,
          1,
          1,
          1,
          1,
          1,
          1,
          1,
          1,
          1,
          1,
          1,
          1,
          1,
          1,
          1,
          1,
          1,
          1,
          1,
          1,
          1,
          1,
          1,
          1,
          1,
          1,
          1,
          1,
          1,
          1,
          1,
          1
         ],
         "yaxis": "y"
        },
        {
         "alignmentgroup": "True",
         "bingroup": "x",
         "hoverlabel": {
          "namelength": 0
         },
         "hovertemplate": "countryName=Germany<br>name=%{x}<br>count=%{y}",
         "legendgroup": "countryName=Germany",
         "marker": {
          "color": "#FECB52"
         },
         "name": "countryName=Germany",
         "offsetgroup": "countryName=Germany",
         "opacity": 0.5,
         "showlegend": false,
         "type": "histogram",
         "uid": "43b0093e-a483-42c9-9f97-869306077b18",
         "x": [
          "Berlin",
          "Munich",
          "Heidelberg",
          "Hamburg",
          "Leipzig",
          "Freiburg",
          "Köln",
          "Göttingen",
          "Erlangen",
          "Essen",
          "Potsdam",
          "Garching bei München",
          "Frankfurt am Main",
          "Bonn",
          "Tübingen",
          "Gießen",
          "Bremen",
          "Mannheim",
          "Dresden",
          "Düsseldorf",
          "Kassel",
          "Bayreuth",
          "Osnabrück",
          "Bielefeld",
          "Hannover",
          "Kaiserslautern",
          "Greifswald",
          "Stuttgart",
          "Würzburg",
          "Münster",
          "Kiel",
          "Braunschweig",
          "Aachen",
          "Darmstadt",
          "Bochum",
          "Lübeck",
          "Jena",
          "Ludwigshafen am Rhein",
          "Marburg an der Lahn",
          "Mainz",
          "Karlsruhe",
          "Ulm",
          "Borstel",
          "Jülich",
          "Homburg",
          "Rostock",
          "Bad Nauheim",
          "Magdeburg",
          "Nürnberg",
          "Offenbach",
          "Oberkochen",
          "Regensburg",
          "Halle (Saale)",
          "Geesthacht",
          "Ingelheim am Rhein",
          "Augsburg",
          "Cottbus",
          "Chemnitz",
          "Freising",
          "Witten",
          "Trier",
          "Saarbrücken",
          "Sankt Augustin",
          "Schenefeld",
          "Erfurt",
          "Wiesbaden",
          "Oldenburg",
          "Bad Mergentheim",
          "Denzlingen",
          "Böblingen",
          "Bad Homburg vor der Höhe",
          "Strausberg",
          "Eisenach",
          "Eichstätt",
          "Werdohl",
          "Mittweida",
          "Unterschleißheim",
          "Garching an der Alz",
          "Fürth",
          "Friedrichshafen",
          "Warendorf",
          "Wesel",
          "Frankfurt (Oder)",
          "Ettlingen",
          "Tuttlingen",
          "Esslingen",
          "Weßling",
          "Dortmund",
          "Sigmaringen",
          "Denkendorf",
          "Mönchengladbach",
          "Murnau am Staffelsee",
          "Lengede",
          "Langenfeld",
          "Konstanz",
          "Neubrandenburg",
          "Oberschleißheim",
          "Pinneberg",
          "Siegen",
          "Rendsburg",
          "Rheda-Wiedenbrück",
          "Ilmenau",
          "Rosenheim",
          "Herne",
          "Hameln",
          "Schmallenberg",
          "Dachau",
          "Bad Oeynhausen",
          "Bremerhaven",
          "Bottrop",
          "Bad Münstereifel",
          "Bad Berka",
          "Albstadt",
          "Lüneburg"
         ],
         "xaxis": "x",
         "yaxis": "y2"
        },
        {
         "alignmentgroup": "True",
         "bingroup": "y",
         "hoverlabel": {
          "namelength": 0
         },
         "hovertemplate": "countryName=Germany<br>count=%{x}",
         "legendgroup": "countryName=Germany",
         "marker": {
          "color": "#FECB52"
         },
         "name": "countryName=Germany",
         "offsetgroup": "countryName=Germany",
         "opacity": 0.5,
         "showlegend": false,
         "type": "histogram",
         "uid": "f9e2b5b6-3f5f-4aef-a15a-43e7d11b5181",
         "xaxis": "x2",
         "y": [
          135,
          115,
          106,
          89,
          69,
          57,
          57,
          54,
          41,
          41,
          40,
          38,
          38,
          32,
          31,
          29,
          29,
          28,
          25,
          22,
          21,
          21,
          20,
          20,
          20,
          19,
          19,
          18,
          17,
          17,
          16,
          16,
          14,
          14,
          13,
          12,
          12,
          10,
          10,
          10,
          10,
          10,
          9,
          9,
          8,
          7,
          7,
          6,
          6,
          5,
          5,
          5,
          5,
          5,
          4,
          4,
          4,
          4,
          4,
          4,
          3,
          3,
          3,
          3,
          3,
          3,
          3,
          3,
          3,
          2,
          2,
          2,
          2,
          2,
          2,
          1,
          1,
          1,
          1,
          1,
          1,
          1,
          1,
          1,
          1,
          1,
          1,
          1,
          1,
          1,
          1,
          1,
          1,
          1,
          1,
          1,
          1,
          1,
          1,
          1,
          1,
          1,
          1,
          1,
          1,
          1,
          1,
          1,
          1,
          1,
          1,
          1,
          1,
          1
         ],
         "yaxis": "y"
        },
        {
         "hoverlabel": {
          "namelength": 0
         },
         "hovertemplate": "countryName=Sweden<br>name=%{x}<br>count=%{y}",
         "legendgroup": "countryName=Sweden",
         "marker": {
          "color": "#FFA15A",
          "symbol": "circle"
         },
         "mode": "markers",
         "name": "countryName=Sweden",
         "showlegend": true,
         "type": "scatter",
         "uid": "ae0eb511-c985-4f4a-b256-d1675cfc4341",
         "x": [
          "Stockholm",
          "Göteborg",
          "Lund",
          "Uppsala",
          "Linköping",
          "Umeå",
          "Örebro",
          "Södertälje",
          "Norrköping",
          "Solna",
          "Skövde",
          "Nacka",
          "Mölndal",
          "Malmö",
          "Karlstad",
          "Luleå",
          "Kista",
          "Eskilstuna",
          "Falun",
          "Gävle"
         ],
         "xaxis": "x",
         "y": [
          126,
          87,
          68,
          60,
          36,
          25,
          16,
          7,
          5,
          4,
          4,
          2,
          2,
          2,
          2,
          2,
          1,
          1,
          1,
          1
         ],
         "yaxis": "y"
        },
        {
         "alignmentgroup": "True",
         "bingroup": "x",
         "hoverlabel": {
          "namelength": 0
         },
         "hovertemplate": "countryName=Sweden<br>name=%{x}<br>count=%{y}",
         "legendgroup": "countryName=Sweden",
         "marker": {
          "color": "#FFA15A"
         },
         "name": "countryName=Sweden",
         "offsetgroup": "countryName=Sweden",
         "opacity": 0.5,
         "showlegend": false,
         "type": "histogram",
         "uid": "1ecca91a-7821-4ecc-a039-2a5b3854287e",
         "x": [
          "Stockholm",
          "Göteborg",
          "Lund",
          "Uppsala",
          "Linköping",
          "Umeå",
          "Örebro",
          "Södertälje",
          "Norrköping",
          "Solna",
          "Skövde",
          "Nacka",
          "Mölndal",
          "Malmö",
          "Karlstad",
          "Luleå",
          "Kista",
          "Eskilstuna",
          "Falun",
          "Gävle"
         ],
         "xaxis": "x",
         "yaxis": "y2"
        },
        {
         "alignmentgroup": "True",
         "bingroup": "y",
         "hoverlabel": {
          "namelength": 0
         },
         "hovertemplate": "countryName=Sweden<br>count=%{x}",
         "legendgroup": "countryName=Sweden",
         "marker": {
          "color": "#FFA15A"
         },
         "name": "countryName=Sweden",
         "offsetgroup": "countryName=Sweden",
         "opacity": 0.5,
         "showlegend": false,
         "type": "histogram",
         "uid": "79a7526e-a3d6-4095-9ef6-bf5946142487",
         "xaxis": "x2",
         "y": [
          126,
          87,
          68,
          60,
          36,
          25,
          16,
          7,
          5,
          4,
          4,
          2,
          2,
          2,
          2,
          2,
          1,
          1,
          1,
          1
         ],
         "yaxis": "y"
        },
        {
         "hoverlabel": {
          "namelength": 0
         },
         "hovertemplate": "countryName=Norway<br>name=%{x}<br>count=%{y}",
         "legendgroup": "countryName=Norway",
         "marker": {
          "color": "#FF6692",
          "symbol": "circle"
         },
         "mode": "markers",
         "name": "countryName=Norway",
         "showlegend": true,
         "type": "scatter",
         "uid": "1d493076-ccb2-461b-b5fa-ab92ec64cb60",
         "x": [
          "Oslo",
          "Bergen",
          "Stavanger",
          "Lillestrøm",
          "Trondheim",
          "Tromsø",
          "Ås",
          "Sandvika",
          "Hov",
          "Drammen",
          "Asker",
          "Tønsberg",
          "Arendal"
         ],
         "xaxis": "x",
         "y": [
          108,
          39,
          19,
          17,
          15,
          14,
          6,
          5,
          3,
          2,
          2,
          1,
          1
         ],
         "yaxis": "y"
        },
        {
         "alignmentgroup": "True",
         "bingroup": "x",
         "hoverlabel": {
          "namelength": 0
         },
         "hovertemplate": "countryName=Norway<br>name=%{x}<br>count=%{y}",
         "legendgroup": "countryName=Norway",
         "marker": {
          "color": "#FF6692"
         },
         "name": "countryName=Norway",
         "offsetgroup": "countryName=Norway",
         "opacity": 0.5,
         "showlegend": false,
         "type": "histogram",
         "uid": "8ed1544c-6702-482d-9a2a-8c5d2682cef3",
         "x": [
          "Oslo",
          "Bergen",
          "Stavanger",
          "Lillestrøm",
          "Trondheim",
          "Tromsø",
          "Ås",
          "Sandvika",
          "Hov",
          "Drammen",
          "Asker",
          "Tønsberg",
          "Arendal"
         ],
         "xaxis": "x",
         "yaxis": "y2"
        },
        {
         "alignmentgroup": "True",
         "bingroup": "y",
         "hoverlabel": {
          "namelength": 0
         },
         "hovertemplate": "countryName=Norway<br>count=%{x}",
         "legendgroup": "countryName=Norway",
         "marker": {
          "color": "#FF6692"
         },
         "name": "countryName=Norway",
         "offsetgroup": "countryName=Norway",
         "opacity": 0.5,
         "showlegend": false,
         "type": "histogram",
         "uid": "460ff4f5-10c5-4e2d-90f3-d370ec643f35",
         "xaxis": "x2",
         "y": [
          108,
          39,
          19,
          17,
          15,
          14,
          6,
          5,
          3,
          2,
          2,
          1,
          1
         ],
         "yaxis": "y"
        },
        {
         "hoverlabel": {
          "namelength": 0
         },
         "hovertemplate": "countryName=Belgium<br>name=%{x}<br>count=%{y}",
         "legendgroup": "countryName=Belgium",
         "marker": {
          "color": "#B6E880",
          "symbol": "circle"
         },
         "mode": "markers",
         "name": "countryName=Belgium",
         "showlegend": true,
         "type": "scatter",
         "uid": "1ffbc7c2-7479-4914-9b2e-cd875ab23e88",
         "x": [
          "Leuven",
          "Gent",
          "Brussels",
          "Antwerpen",
          "Louvain-la-Neuve",
          "Liège",
          "Charleroi",
          "Aalst",
          "Torhout",
          "Sint-Niklaas",
          "Bonheiden",
          "Geel",
          "Gembloux",
          "Mechelen",
          "Melle",
          "Merelbeke",
          "Mol",
          "Mons",
          "Namur"
         ],
         "xaxis": "x",
         "y": [
          101,
          100,
          84,
          56,
          18,
          18,
          5,
          5,
          4,
          2,
          1,
          1,
          1,
          1,
          1,
          1,
          1,
          1,
          1
         ],
         "yaxis": "y"
        },
        {
         "alignmentgroup": "True",
         "bingroup": "x",
         "hoverlabel": {
          "namelength": 0
         },
         "hovertemplate": "countryName=Belgium<br>name=%{x}<br>count=%{y}",
         "legendgroup": "countryName=Belgium",
         "marker": {
          "color": "#B6E880"
         },
         "name": "countryName=Belgium",
         "offsetgroup": "countryName=Belgium",
         "opacity": 0.5,
         "showlegend": false,
         "type": "histogram",
         "uid": "c60a9879-6a53-4b4b-96b0-dd790d55f3c6",
         "x": [
          "Leuven",
          "Gent",
          "Brussels",
          "Antwerpen",
          "Louvain-la-Neuve",
          "Liège",
          "Charleroi",
          "Aalst",
          "Torhout",
          "Sint-Niklaas",
          "Bonheiden",
          "Geel",
          "Gembloux",
          "Mechelen",
          "Melle",
          "Merelbeke",
          "Mol",
          "Mons",
          "Namur"
         ],
         "xaxis": "x",
         "yaxis": "y2"
        },
        {
         "alignmentgroup": "True",
         "bingroup": "y",
         "hoverlabel": {
          "namelength": 0
         },
         "hovertemplate": "countryName=Belgium<br>count=%{x}",
         "legendgroup": "countryName=Belgium",
         "marker": {
          "color": "#B6E880"
         },
         "name": "countryName=Belgium",
         "offsetgroup": "countryName=Belgium",
         "opacity": 0.5,
         "showlegend": false,
         "type": "histogram",
         "uid": "e9136efa-64bb-4ea5-a284-ede29c69c3f5",
         "xaxis": "x2",
         "y": [
          101,
          100,
          84,
          56,
          18,
          18,
          5,
          5,
          4,
          2,
          1,
          1,
          1,
          1,
          1,
          1,
          1,
          1,
          1
         ],
         "yaxis": "y"
        },
        {
         "hoverlabel": {
          "namelength": 0
         },
         "hovertemplate": "countryName=Denmark<br>name=%{x}<br>count=%{y}",
         "legendgroup": "countryName=Denmark",
         "marker": {
          "color": "#636efa",
          "symbol": "circle"
         },
         "mode": "markers",
         "name": "countryName=Denmark",
         "showlegend": true,
         "type": "scatter",
         "uid": "e627e6dc-4766-4278-a6c2-63d1f3691915",
         "x": [
          "Århus",
          "Copenhagen",
          "Kongens Lyngby",
          "Aalborg",
          "Odense",
          "Roskilde",
          "Vejle",
          "Hvidovre",
          "Varde",
          "Herlev",
          "Bjerringbro",
          "Glostrup",
          "Holbæk",
          "Hørsholm",
          "Nykøbing Falster",
          "Taastrup"
         ],
         "xaxis": "x",
         "y": [
          96,
          86,
          31,
          18,
          14,
          12,
          6,
          6,
          4,
          2,
          1,
          1,
          1,
          1,
          1,
          1
         ],
         "yaxis": "y"
        },
        {
         "alignmentgroup": "True",
         "bingroup": "x",
         "hoverlabel": {
          "namelength": 0
         },
         "hovertemplate": "countryName=Denmark<br>name=%{x}<br>count=%{y}",
         "legendgroup": "countryName=Denmark",
         "marker": {
          "color": "#636efa"
         },
         "name": "countryName=Denmark",
         "offsetgroup": "countryName=Denmark",
         "opacity": 0.5,
         "showlegend": false,
         "type": "histogram",
         "uid": "31d12fd8-ce72-48a3-862f-1b7690256c6d",
         "x": [
          "Århus",
          "Copenhagen",
          "Kongens Lyngby",
          "Aalborg",
          "Odense",
          "Roskilde",
          "Vejle",
          "Hvidovre",
          "Varde",
          "Herlev",
          "Bjerringbro",
          "Glostrup",
          "Holbæk",
          "Hørsholm",
          "Nykøbing Falster",
          "Taastrup"
         ],
         "xaxis": "x",
         "yaxis": "y2"
        },
        {
         "alignmentgroup": "True",
         "bingroup": "y",
         "hoverlabel": {
          "namelength": 0
         },
         "hovertemplate": "countryName=Denmark<br>count=%{x}",
         "legendgroup": "countryName=Denmark",
         "marker": {
          "color": "#636efa"
         },
         "name": "countryName=Denmark",
         "offsetgroup": "countryName=Denmark",
         "opacity": 0.5,
         "showlegend": false,
         "type": "histogram",
         "uid": "08c2999d-3b9d-4822-9c6d-23473f539e07",
         "xaxis": "x2",
         "y": [
          96,
          86,
          31,
          18,
          14,
          12,
          6,
          6,
          4,
          2,
          1,
          1,
          1,
          1,
          1,
          1
         ],
         "yaxis": "y"
        },
        {
         "hoverlabel": {
          "namelength": 0
         },
         "hovertemplate": "countryName=Portugal<br>name=%{x}<br>count=%{y}",
         "legendgroup": "countryName=Portugal",
         "marker": {
          "color": "#EF553B",
          "symbol": "circle"
         },
         "mode": "markers",
         "name": "countryName=Portugal",
         "showlegend": true,
         "type": "scatter",
         "uid": "b2e50185-11f8-47b7-8d7d-d70d0a1db6d1",
         "x": [
          "Lisbon",
          "Porto",
          "Coimbra",
          "Braga",
          "Aveiro",
          "Porto Salvo",
          "Amadora",
          "Carnaxide",
          "Oeiras",
          "Évora",
          "Leiria",
          "Matosinhos",
          "Castelo Branco",
          "Funchal",
          "Queluz"
         ],
         "xaxis": "x",
         "y": [
          94,
          48,
          24,
          22,
          6,
          5,
          3,
          3,
          3,
          2,
          2,
          1,
          1,
          1,
          1
         ],
         "yaxis": "y"
        },
        {
         "alignmentgroup": "True",
         "bingroup": "x",
         "hoverlabel": {
          "namelength": 0
         },
         "hovertemplate": "countryName=Portugal<br>name=%{x}<br>count=%{y}",
         "legendgroup": "countryName=Portugal",
         "marker": {
          "color": "#EF553B"
         },
         "name": "countryName=Portugal",
         "offsetgroup": "countryName=Portugal",
         "opacity": 0.5,
         "showlegend": false,
         "type": "histogram",
         "uid": "c207cee0-b0be-4a51-bfd6-dadd64f67e46",
         "x": [
          "Lisbon",
          "Porto",
          "Coimbra",
          "Braga",
          "Aveiro",
          "Porto Salvo",
          "Amadora",
          "Carnaxide",
          "Oeiras",
          "Évora",
          "Leiria",
          "Matosinhos",
          "Castelo Branco",
          "Funchal",
          "Queluz"
         ],
         "xaxis": "x",
         "yaxis": "y2"
        },
        {
         "alignmentgroup": "True",
         "bingroup": "y",
         "hoverlabel": {
          "namelength": 0
         },
         "hovertemplate": "countryName=Portugal<br>count=%{x}",
         "legendgroup": "countryName=Portugal",
         "marker": {
          "color": "#EF553B"
         },
         "name": "countryName=Portugal",
         "offsetgroup": "countryName=Portugal",
         "opacity": 0.5,
         "showlegend": false,
         "type": "histogram",
         "uid": "af8bb16f-545f-4693-939a-42798b079a86",
         "xaxis": "x2",
         "y": [
          94,
          48,
          24,
          22,
          6,
          5,
          3,
          3,
          3,
          2,
          2,
          1,
          1,
          1,
          1
         ],
         "yaxis": "y"
        },
        {
         "hoverlabel": {
          "namelength": 0
         },
         "hovertemplate": "countryName=Finland<br>name=%{x}<br>count=%{y}",
         "legendgroup": "countryName=Finland",
         "marker": {
          "color": "#00cc96",
          "symbol": "circle"
         },
         "mode": "markers",
         "name": "countryName=Finland",
         "showlegend": true,
         "type": "scatter",
         "uid": "a9916ba0-f201-4772-8e8e-46919c40a57b",
         "x": [
          "Helsinki",
          "Turku",
          "Kuopio",
          "Tampere",
          "Oulu",
          "Espoo",
          "Jyväskylä",
          "Jokioinen"
         ],
         "xaxis": "x",
         "y": [
          91,
          42,
          23,
          18,
          13,
          5,
          3,
          1
         ],
         "yaxis": "y"
        },
        {
         "alignmentgroup": "True",
         "bingroup": "x",
         "hoverlabel": {
          "namelength": 0
         },
         "hovertemplate": "countryName=Finland<br>name=%{x}<br>count=%{y}",
         "legendgroup": "countryName=Finland",
         "marker": {
          "color": "#00cc96"
         },
         "name": "countryName=Finland",
         "offsetgroup": "countryName=Finland",
         "opacity": 0.5,
         "showlegend": false,
         "type": "histogram",
         "uid": "052bffeb-da87-4610-850f-3c3a8093bee2",
         "x": [
          "Helsinki",
          "Turku",
          "Kuopio",
          "Tampere",
          "Oulu",
          "Espoo",
          "Jyväskylä",
          "Jokioinen"
         ],
         "xaxis": "x",
         "yaxis": "y2"
        },
        {
         "alignmentgroup": "True",
         "bingroup": "y",
         "hoverlabel": {
          "namelength": 0
         },
         "hovertemplate": "countryName=Finland<br>count=%{x}",
         "legendgroup": "countryName=Finland",
         "marker": {
          "color": "#00cc96"
         },
         "name": "countryName=Finland",
         "offsetgroup": "countryName=Finland",
         "opacity": 0.5,
         "showlegend": false,
         "type": "histogram",
         "uid": "d47002b4-3b83-4d47-9fd7-d76a72a2897d",
         "xaxis": "x2",
         "y": [
          91,
          42,
          23,
          18,
          13,
          5,
          3,
          1
         ],
         "yaxis": "y"
        },
        {
         "hoverlabel": {
          "namelength": 0
         },
         "hovertemplate": "countryName=Russia<br>name=%{x}<br>count=%{y}",
         "legendgroup": "countryName=Russia",
         "marker": {
          "color": "#ab63fa",
          "symbol": "circle"
         },
         "mode": "markers",
         "name": "countryName=Russia",
         "showlegend": true,
         "type": "scatter",
         "uid": "53c6c9b2-e651-4a68-9937-991c7df84c64",
         "x": [
          "Moscow",
          "Novosibirsk",
          "Saint Petersburg",
          "Yekaterinburg",
          "Krasnoyarsk",
          "Nizhniy Novgorod",
          "Kazan",
          "Irkutsk",
          "Akademgorodok",
          "Kaliningrad",
          "Petropavlovsk-Kamchatsky",
          "Skolkovo",
          "Dolgoprudnyy",
          "Chelyabinsk",
          "Vladimir",
          "Amga",
          "Kemerovo",
          "Perm",
          "Komsomol’skiy",
          "Khimki",
          "Vladivostok",
          "Dubna",
          "Ryazan’"
         ],
         "xaxis": "x",
         "y": [
          90,
          40,
          26,
          5,
          5,
          4,
          4,
          4,
          4,
          3,
          2,
          2,
          2,
          2,
          1,
          1,
          1,
          1,
          1,
          1,
          1,
          1,
          1
         ],
         "yaxis": "y"
        },
        {
         "alignmentgroup": "True",
         "bingroup": "x",
         "hoverlabel": {
          "namelength": 0
         },
         "hovertemplate": "countryName=Russia<br>name=%{x}<br>count=%{y}",
         "legendgroup": "countryName=Russia",
         "marker": {
          "color": "#ab63fa"
         },
         "name": "countryName=Russia",
         "offsetgroup": "countryName=Russia",
         "opacity": 0.5,
         "showlegend": false,
         "type": "histogram",
         "uid": "a5bb3a43-56be-466f-9159-c25dda998ad3",
         "x": [
          "Moscow",
          "Novosibirsk",
          "Saint Petersburg",
          "Yekaterinburg",
          "Krasnoyarsk",
          "Nizhniy Novgorod",
          "Kazan",
          "Irkutsk",
          "Akademgorodok",
          "Kaliningrad",
          "Petropavlovsk-Kamchatsky",
          "Skolkovo",
          "Dolgoprudnyy",
          "Chelyabinsk",
          "Vladimir",
          "Amga",
          "Kemerovo",
          "Perm",
          "Komsomol’skiy",
          "Khimki",
          "Vladivostok",
          "Dubna",
          "Ryazan’"
         ],
         "xaxis": "x",
         "yaxis": "y2"
        },
        {
         "alignmentgroup": "True",
         "bingroup": "y",
         "hoverlabel": {
          "namelength": 0
         },
         "hovertemplate": "countryName=Russia<br>count=%{x}",
         "legendgroup": "countryName=Russia",
         "marker": {
          "color": "#ab63fa"
         },
         "name": "countryName=Russia",
         "offsetgroup": "countryName=Russia",
         "opacity": 0.5,
         "showlegend": false,
         "type": "histogram",
         "uid": "bab7dad7-ce8d-4697-8c67-490573787d2f",
         "xaxis": "x2",
         "y": [
          90,
          40,
          26,
          5,
          5,
          4,
          4,
          4,
          4,
          3,
          2,
          2,
          2,
          2,
          1,
          1,
          1,
          1,
          1,
          1,
          1,
          1,
          1
         ],
         "yaxis": "y"
        },
        {
         "hoverlabel": {
          "namelength": 0
         },
         "hovertemplate": "countryName=Greece<br>name=%{x}<br>count=%{y}",
         "legendgroup": "countryName=Greece",
         "marker": {
          "color": "#19d3f3",
          "symbol": "circle"
         },
         "mode": "markers",
         "name": "countryName=Greece",
         "showlegend": true,
         "type": "scatter",
         "uid": "0a4298b9-6161-4e10-a397-c677730fa7f6",
         "x": [
          "Athens",
          "Thessaloníki",
          "Irákleion",
          "Ioánnina",
          "Pátra",
          "Chaniá",
          "Rethymno",
          "Volos",
          "Mytilene",
          "Komotiní",
          "Kateríni",
          "Maroúsi",
          "Trípoli",
          "Piraeus",
          "Lamía",
          "Lárisa"
         ],
         "xaxis": "x",
         "y": [
          79,
          44,
          12,
          9,
          6,
          5,
          5,
          3,
          2,
          2,
          1,
          1,
          1,
          1,
          1,
          1
         ],
         "yaxis": "y"
        },
        {
         "alignmentgroup": "True",
         "bingroup": "x",
         "hoverlabel": {
          "namelength": 0
         },
         "hovertemplate": "countryName=Greece<br>name=%{x}<br>count=%{y}",
         "legendgroup": "countryName=Greece",
         "marker": {
          "color": "#19d3f3"
         },
         "name": "countryName=Greece",
         "offsetgroup": "countryName=Greece",
         "opacity": 0.5,
         "showlegend": false,
         "type": "histogram",
         "uid": "e0059053-4a0d-4f95-8f3e-ef7fa31e1c24",
         "x": [
          "Athens",
          "Thessaloníki",
          "Irákleion",
          "Ioánnina",
          "Pátra",
          "Chaniá",
          "Rethymno",
          "Volos",
          "Mytilene",
          "Komotiní",
          "Kateríni",
          "Maroúsi",
          "Trípoli",
          "Piraeus",
          "Lamía",
          "Lárisa"
         ],
         "xaxis": "x",
         "yaxis": "y2"
        },
        {
         "alignmentgroup": "True",
         "bingroup": "y",
         "hoverlabel": {
          "namelength": 0
         },
         "hovertemplate": "countryName=Greece<br>count=%{x}",
         "legendgroup": "countryName=Greece",
         "marker": {
          "color": "#19d3f3"
         },
         "name": "countryName=Greece",
         "offsetgroup": "countryName=Greece",
         "opacity": 0.5,
         "showlegend": false,
         "type": "histogram",
         "uid": "7d7c651b-1a68-4dc3-96d7-473a88aac01f",
         "xaxis": "x2",
         "y": [
          79,
          44,
          12,
          9,
          6,
          5,
          5,
          3,
          2,
          2,
          1,
          1,
          1,
          1,
          1,
          1
         ],
         "yaxis": "y"
        },
        {
         "hoverlabel": {
          "namelength": 0
         },
         "hovertemplate": "countryName=Czechia<br>name=%{x}<br>count=%{y}",
         "legendgroup": "countryName=Czechia",
         "marker": {
          "color": "#e763fa",
          "symbol": "circle"
         },
         "mode": "markers",
         "name": "countryName=Czechia",
         "showlegend": true,
         "type": "scatter",
         "uid": "72a5b8ea-f8dd-4c57-b375-908174585907",
         "x": [
          "Prague",
          "Brno",
          "České Budějovice",
          "Ondřejov",
          "Dolní Břežany",
          "Liberec",
          "Olomouc",
          "Ostrava",
          "Pardubice",
          "Třeboň",
          "Vestec",
          "Podolí",
          "Opava",
          "Hradec Králové",
          "Břeclav"
         ],
         "xaxis": "x",
         "y": [
          76,
          29,
          6,
          4,
          3,
          3,
          3,
          3,
          2,
          2,
          1,
          1,
          1,
          1,
          1
         ],
         "yaxis": "y"
        },
        {
         "alignmentgroup": "True",
         "bingroup": "x",
         "hoverlabel": {
          "namelength": 0
         },
         "hovertemplate": "countryName=Czechia<br>name=%{x}<br>count=%{y}",
         "legendgroup": "countryName=Czechia",
         "marker": {
          "color": "#e763fa"
         },
         "name": "countryName=Czechia",
         "offsetgroup": "countryName=Czechia",
         "opacity": 0.5,
         "showlegend": false,
         "type": "histogram",
         "uid": "b49a284b-3796-4708-a6a3-e12bc6b87232",
         "x": [
          "Prague",
          "Brno",
          "České Budějovice",
          "Ondřejov",
          "Dolní Břežany",
          "Liberec",
          "Olomouc",
          "Ostrava",
          "Pardubice",
          "Třeboň",
          "Vestec",
          "Podolí",
          "Opava",
          "Hradec Králové",
          "Břeclav"
         ],
         "xaxis": "x",
         "yaxis": "y2"
        },
        {
         "alignmentgroup": "True",
         "bingroup": "y",
         "hoverlabel": {
          "namelength": 0
         },
         "hovertemplate": "countryName=Czechia<br>count=%{x}",
         "legendgroup": "countryName=Czechia",
         "marker": {
          "color": "#e763fa"
         },
         "name": "countryName=Czechia",
         "offsetgroup": "countryName=Czechia",
         "opacity": 0.5,
         "showlegend": false,
         "type": "histogram",
         "uid": "97e833fc-31cf-427f-a972-876f49e9bdb7",
         "xaxis": "x2",
         "y": [
          76,
          29,
          6,
          4,
          3,
          3,
          3,
          3,
          2,
          2,
          1,
          1,
          1,
          1,
          1
         ],
         "yaxis": "y"
        },
        {
         "hoverlabel": {
          "namelength": 0
         },
         "hovertemplate": "countryName=Poland<br>name=%{x}<br>count=%{y}",
         "legendgroup": "countryName=Poland",
         "marker": {
          "color": "#FECB52",
          "symbol": "circle"
         },
         "mode": "markers",
         "name": "countryName=Poland",
         "showlegend": true,
         "type": "scatter",
         "uid": "88a819c7-d170-43ef-bcea-dbedab2d34a4",
         "x": [
          "Warsaw",
          "Kraków",
          "Wrocław",
          "Poznań",
          "Białystok",
          "Gdańsk",
          "Łódź",
          "Lublin",
          "Toruń",
          "Bydgoszcz",
          "Katowice",
          "Zabrze",
          "Olsztyn",
          "Szczecin",
          "Rzeszów",
          "Puławy",
          "Gliwice",
          "Trzebownisko",
          "Siedlce",
          "Radom",
          "Legionowo",
          "Gdynia"
         ],
         "xaxis": "x",
         "y": [
          69,
          47,
          34,
          26,
          23,
          19,
          19,
          18,
          12,
          12,
          9,
          6,
          5,
          3,
          3,
          2,
          2,
          1,
          1,
          1,
          1,
          1
         ],
         "yaxis": "y"
        },
        {
         "alignmentgroup": "True",
         "bingroup": "x",
         "hoverlabel": {
          "namelength": 0
         },
         "hovertemplate": "countryName=Poland<br>name=%{x}<br>count=%{y}",
         "legendgroup": "countryName=Poland",
         "marker": {
          "color": "#FECB52"
         },
         "name": "countryName=Poland",
         "offsetgroup": "countryName=Poland",
         "opacity": 0.5,
         "showlegend": false,
         "type": "histogram",
         "uid": "4a8bf50a-6b10-4673-90bc-437db8563c13",
         "x": [
          "Warsaw",
          "Kraków",
          "Wrocław",
          "Poznań",
          "Białystok",
          "Gdańsk",
          "Łódź",
          "Lublin",
          "Toruń",
          "Bydgoszcz",
          "Katowice",
          "Zabrze",
          "Olsztyn",
          "Szczecin",
          "Rzeszów",
          "Puławy",
          "Gliwice",
          "Trzebownisko",
          "Siedlce",
          "Radom",
          "Legionowo",
          "Gdynia"
         ],
         "xaxis": "x",
         "yaxis": "y2"
        },
        {
         "alignmentgroup": "True",
         "bingroup": "y",
         "hoverlabel": {
          "namelength": 0
         },
         "hovertemplate": "countryName=Poland<br>count=%{x}",
         "legendgroup": "countryName=Poland",
         "marker": {
          "color": "#FECB52"
         },
         "name": "countryName=Poland",
         "offsetgroup": "countryName=Poland",
         "opacity": 0.5,
         "showlegend": false,
         "type": "histogram",
         "uid": "206f5498-904a-422c-94fd-f2cb7b154f30",
         "xaxis": "x2",
         "y": [
          69,
          47,
          34,
          26,
          23,
          19,
          19,
          18,
          12,
          12,
          9,
          6,
          5,
          3,
          3,
          2,
          2,
          1,
          1,
          1,
          1,
          1
         ],
         "yaxis": "y"
        },
        {
         "hoverlabel": {
          "namelength": 0
         },
         "hovertemplate": "countryName=Austria<br>name=%{x}<br>count=%{y}",
         "legendgroup": "countryName=Austria",
         "marker": {
          "color": "#FFA15A",
          "symbol": "circle"
         },
         "mode": "markers",
         "name": "countryName=Austria",
         "showlegend": true,
         "type": "scatter",
         "uid": "2452aaac-ba63-45db-8cfc-844902bcdf1d",
         "x": [
          "Vienna",
          "Graz",
          "Innsbruck",
          "Salzburg",
          "Linz",
          "Laxenburg",
          "Wiener Neustadt",
          "Dornbirn",
          "Seibersdorf",
          "Wels",
          "Klagenfurt am Wörthersee",
          "Deutsch-Wagram",
          "Tulln",
          "Klosterneuburg",
          "Leoben"
         ],
         "xaxis": "x",
         "y": [
          54,
          37,
          25,
          18,
          11,
          6,
          5,
          4,
          4,
          4,
          3,
          3,
          2,
          1,
          1
         ],
         "yaxis": "y"
        },
        {
         "alignmentgroup": "True",
         "bingroup": "x",
         "hoverlabel": {
          "namelength": 0
         },
         "hovertemplate": "countryName=Austria<br>name=%{x}<br>count=%{y}",
         "legendgroup": "countryName=Austria",
         "marker": {
          "color": "#FFA15A"
         },
         "name": "countryName=Austria",
         "offsetgroup": "countryName=Austria",
         "opacity": 0.5,
         "showlegend": false,
         "type": "histogram",
         "uid": "521d3e58-4df0-4421-a184-c3ca53efb541",
         "x": [
          "Vienna",
          "Graz",
          "Innsbruck",
          "Salzburg",
          "Linz",
          "Laxenburg",
          "Wiener Neustadt",
          "Dornbirn",
          "Seibersdorf",
          "Wels",
          "Klagenfurt am Wörthersee",
          "Deutsch-Wagram",
          "Tulln",
          "Klosterneuburg",
          "Leoben"
         ],
         "xaxis": "x",
         "yaxis": "y2"
        },
        {
         "alignmentgroup": "True",
         "bingroup": "y",
         "hoverlabel": {
          "namelength": 0
         },
         "hovertemplate": "countryName=Austria<br>count=%{x}",
         "legendgroup": "countryName=Austria",
         "marker": {
          "color": "#FFA15A"
         },
         "name": "countryName=Austria",
         "offsetgroup": "countryName=Austria",
         "opacity": 0.5,
         "showlegend": false,
         "type": "histogram",
         "uid": "287a6322-42f6-4e8a-be7e-9443c0674e32",
         "xaxis": "x2",
         "y": [
          54,
          37,
          25,
          18,
          11,
          6,
          5,
          4,
          4,
          4,
          3,
          3,
          2,
          1,
          1
         ],
         "yaxis": "y"
        },
        {
         "hoverlabel": {
          "namelength": 0
         },
         "hovertemplate": "countryName=Serbia<br>name=%{x}<br>count=%{y}",
         "legendgroup": "countryName=Serbia",
         "marker": {
          "color": "#FF6692",
          "symbol": "circle"
         },
         "mode": "markers",
         "name": "countryName=Serbia",
         "showlegend": true,
         "type": "scatter",
         "uid": "ed611899-4b4f-411f-9491-163858bfa5f0",
         "x": [
          "Belgrade",
          "Niš",
          "Pančevo",
          "Subotica",
          "Novi Sad"
         ],
         "xaxis": "x",
         "y": [
          46,
          2,
          1,
          1,
          1
         ],
         "yaxis": "y"
        },
        {
         "alignmentgroup": "True",
         "bingroup": "x",
         "hoverlabel": {
          "namelength": 0
         },
         "hovertemplate": "countryName=Serbia<br>name=%{x}<br>count=%{y}",
         "legendgroup": "countryName=Serbia",
         "marker": {
          "color": "#FF6692"
         },
         "name": "countryName=Serbia",
         "offsetgroup": "countryName=Serbia",
         "opacity": 0.5,
         "showlegend": false,
         "type": "histogram",
         "uid": "0b75c16a-f0a5-4407-948f-3aabb430afe1",
         "x": [
          "Belgrade",
          "Niš",
          "Pančevo",
          "Subotica",
          "Novi Sad"
         ],
         "xaxis": "x",
         "yaxis": "y2"
        },
        {
         "alignmentgroup": "True",
         "bingroup": "y",
         "hoverlabel": {
          "namelength": 0
         },
         "hovertemplate": "countryName=Serbia<br>count=%{x}",
         "legendgroup": "countryName=Serbia",
         "marker": {
          "color": "#FF6692"
         },
         "name": "countryName=Serbia",
         "offsetgroup": "countryName=Serbia",
         "opacity": 0.5,
         "showlegend": false,
         "type": "histogram",
         "uid": "eeff973c-068b-470d-842a-2ad9675aa4ff",
         "xaxis": "x2",
         "y": [
          46,
          2,
          1,
          1,
          1
         ],
         "yaxis": "y"
        },
        {
         "hoverlabel": {
          "namelength": 0
         },
         "hovertemplate": "countryName=Ireland<br>name=%{x}<br>count=%{y}",
         "legendgroup": "countryName=Ireland",
         "marker": {
          "color": "#B6E880",
          "symbol": "circle"
         },
         "mode": "markers",
         "name": "countryName=Ireland",
         "showlegend": true,
         "type": "scatter",
         "uid": "a39d2f15-c5f7-4f26-aac6-f4a02cd1727a",
         "x": [
          "Dublin",
          "Gaillimh",
          "Cork",
          "Maynooth",
          "Carlow",
          "Waterford",
          "Naas"
         ],
         "xaxis": "x",
         "y": [
          42,
          17,
          9,
          5,
          2,
          1,
          1
         ],
         "yaxis": "y"
        },
        {
         "alignmentgroup": "True",
         "bingroup": "x",
         "hoverlabel": {
          "namelength": 0
         },
         "hovertemplate": "countryName=Ireland<br>name=%{x}<br>count=%{y}",
         "legendgroup": "countryName=Ireland",
         "marker": {
          "color": "#B6E880"
         },
         "name": "countryName=Ireland",
         "offsetgroup": "countryName=Ireland",
         "opacity": 0.5,
         "showlegend": false,
         "type": "histogram",
         "uid": "04fedf69-fa3c-4d02-a4ad-5d0ce98826d2",
         "x": [
          "Dublin",
          "Gaillimh",
          "Cork",
          "Maynooth",
          "Carlow",
          "Waterford",
          "Naas"
         ],
         "xaxis": "x",
         "yaxis": "y2"
        },
        {
         "alignmentgroup": "True",
         "bingroup": "y",
         "hoverlabel": {
          "namelength": 0
         },
         "hovertemplate": "countryName=Ireland<br>count=%{x}",
         "legendgroup": "countryName=Ireland",
         "marker": {
          "color": "#B6E880"
         },
         "name": "countryName=Ireland",
         "offsetgroup": "countryName=Ireland",
         "opacity": 0.5,
         "showlegend": false,
         "type": "histogram",
         "uid": "bbe98ac8-2bcd-4614-8228-dcb011cb83be",
         "xaxis": "x2",
         "y": [
          42,
          17,
          9,
          5,
          2,
          1,
          1
         ],
         "yaxis": "y"
        },
        {
         "hoverlabel": {
          "namelength": 0
         },
         "hovertemplate": "countryName=Slovenia<br>name=%{x}<br>count=%{y}",
         "legendgroup": "countryName=Slovenia",
         "marker": {
          "color": "#636efa",
          "symbol": "circle"
         },
         "mode": "markers",
         "name": "countryName=Slovenia",
         "showlegend": true,
         "type": "scatter",
         "uid": "c71934be-49fb-46fa-8aaa-8eff0c4732e7",
         "x": [
          "Ljubljana",
          "Koper",
          "Maribor"
         ],
         "xaxis": "x",
         "y": [
          41,
          4,
          2
         ],
         "yaxis": "y"
        },
        {
         "alignmentgroup": "True",
         "bingroup": "x",
         "hoverlabel": {
          "namelength": 0
         },
         "hovertemplate": "countryName=Slovenia<br>name=%{x}<br>count=%{y}",
         "legendgroup": "countryName=Slovenia",
         "marker": {
          "color": "#636efa"
         },
         "name": "countryName=Slovenia",
         "offsetgroup": "countryName=Slovenia",
         "opacity": 0.5,
         "showlegend": false,
         "type": "histogram",
         "uid": "8de025e6-09ca-4940-b29a-7c135ccfbed8",
         "x": [
          "Ljubljana",
          "Koper",
          "Maribor"
         ],
         "xaxis": "x",
         "yaxis": "y2"
        },
        {
         "alignmentgroup": "True",
         "bingroup": "y",
         "hoverlabel": {
          "namelength": 0
         },
         "hovertemplate": "countryName=Slovenia<br>count=%{x}",
         "legendgroup": "countryName=Slovenia",
         "marker": {
          "color": "#636efa"
         },
         "name": "countryName=Slovenia",
         "offsetgroup": "countryName=Slovenia",
         "opacity": 0.5,
         "showlegend": false,
         "type": "histogram",
         "uid": "5e80a3f4-ef6b-49f1-afac-85c21f6bf665",
         "xaxis": "x2",
         "y": [
          41,
          4,
          2
         ],
         "yaxis": "y"
        },
        {
         "hoverlabel": {
          "namelength": 0
         },
         "hovertemplate": "countryName=Romania<br>name=%{x}<br>count=%{y}",
         "legendgroup": "countryName=Romania",
         "marker": {
          "color": "#EF553B",
          "symbol": "circle"
         },
         "mode": "markers",
         "name": "countryName=Romania",
         "showlegend": true,
         "type": "scatter",
         "uid": "cb3c2179-30bd-4baa-b49a-896fd8a20705",
         "x": [
          "Bucharest",
          "Cluj-Napoca",
          "Iaşi",
          "Târgu-Mureş",
          "Sibiu",
          "Timişoara",
          "Oradea",
          "Suceava",
          "Tulcea",
          "Craiova",
          "Baloteşti",
          "Bacău",
          "Maşloc"
         ],
         "xaxis": "x",
         "y": [
          37,
          14,
          12,
          11,
          6,
          2,
          2,
          1,
          1,
          1,
          1,
          1,
          1
         ],
         "yaxis": "y"
        },
        {
         "alignmentgroup": "True",
         "bingroup": "x",
         "hoverlabel": {
          "namelength": 0
         },
         "hovertemplate": "countryName=Romania<br>name=%{x}<br>count=%{y}",
         "legendgroup": "countryName=Romania",
         "marker": {
          "color": "#EF553B"
         },
         "name": "countryName=Romania",
         "offsetgroup": "countryName=Romania",
         "opacity": 0.5,
         "showlegend": false,
         "type": "histogram",
         "uid": "434c8d1b-805d-475f-a0eb-49eb2c7ce698",
         "x": [
          "Bucharest",
          "Cluj-Napoca",
          "Iaşi",
          "Târgu-Mureş",
          "Sibiu",
          "Timişoara",
          "Oradea",
          "Suceava",
          "Tulcea",
          "Craiova",
          "Baloteşti",
          "Bacău",
          "Maşloc"
         ],
         "xaxis": "x",
         "yaxis": "y2"
        },
        {
         "alignmentgroup": "True",
         "bingroup": "y",
         "hoverlabel": {
          "namelength": 0
         },
         "hovertemplate": "countryName=Romania<br>count=%{x}",
         "legendgroup": "countryName=Romania",
         "marker": {
          "color": "#EF553B"
         },
         "name": "countryName=Romania",
         "offsetgroup": "countryName=Romania",
         "opacity": 0.5,
         "showlegend": false,
         "type": "histogram",
         "uid": "a8400665-f9e3-4efa-9834-285236f4663c",
         "xaxis": "x2",
         "y": [
          37,
          14,
          12,
          11,
          6,
          2,
          2,
          1,
          1,
          1,
          1,
          1,
          1
         ],
         "yaxis": "y"
        },
        {
         "hoverlabel": {
          "namelength": 0
         },
         "hovertemplate": "countryName=Hungary<br>name=%{x}<br>count=%{y}",
         "legendgroup": "countryName=Hungary",
         "marker": {
          "color": "#00cc96",
          "symbol": "circle"
         },
         "mode": "markers",
         "name": "countryName=Hungary",
         "showlegend": true,
         "type": "scatter",
         "uid": "e024b96c-0391-4a0f-8bf9-2041ac7b4935",
         "x": [
          "Budapest",
          "Szeged",
          "Debrecen",
          "Csongrád",
          "Győr",
          "Miskolc",
          "Pécs"
         ],
         "xaxis": "x",
         "y": [
          32,
          18,
          5,
          3,
          2,
          1,
          1
         ],
         "yaxis": "y"
        },
        {
         "alignmentgroup": "True",
         "bingroup": "x",
         "hoverlabel": {
          "namelength": 0
         },
         "hovertemplate": "countryName=Hungary<br>name=%{x}<br>count=%{y}",
         "legendgroup": "countryName=Hungary",
         "marker": {
          "color": "#00cc96"
         },
         "name": "countryName=Hungary",
         "offsetgroup": "countryName=Hungary",
         "opacity": 0.5,
         "showlegend": false,
         "type": "histogram",
         "uid": "0e33b2e0-1574-4865-a25b-9ff3e4e98274",
         "x": [
          "Budapest",
          "Szeged",
          "Debrecen",
          "Csongrád",
          "Győr",
          "Miskolc",
          "Pécs"
         ],
         "xaxis": "x",
         "yaxis": "y2"
        },
        {
         "alignmentgroup": "True",
         "bingroup": "y",
         "hoverlabel": {
          "namelength": 0
         },
         "hovertemplate": "countryName=Hungary<br>count=%{x}",
         "legendgroup": "countryName=Hungary",
         "marker": {
          "color": "#00cc96"
         },
         "name": "countryName=Hungary",
         "offsetgroup": "countryName=Hungary",
         "opacity": 0.5,
         "showlegend": false,
         "type": "histogram",
         "uid": "78e2f592-da0b-47e9-8f02-dc7dbb61b752",
         "xaxis": "x2",
         "y": [
          32,
          18,
          5,
          3,
          2,
          1,
          1
         ],
         "yaxis": "y"
        },
        {
         "hoverlabel": {
          "namelength": 0
         },
         "hovertemplate": "countryName=Slovakia<br>name=%{x}<br>count=%{y}",
         "legendgroup": "countryName=Slovakia",
         "marker": {
          "color": "#ab63fa",
          "symbol": "circle"
         },
         "mode": "markers",
         "name": "countryName=Slovakia",
         "showlegend": true,
         "type": "scatter",
         "uid": "393fcec3-c3d3-476b-ac57-f9a3be3875e1",
         "x": [
          "Bratislava",
          "Košice",
          "Žilina",
          "Trnava",
          "Nitra",
          "Komárno"
         ],
         "xaxis": "x",
         "y": [
          30,
          1,
          1,
          1,
          1,
          1
         ],
         "yaxis": "y"
        },
        {
         "alignmentgroup": "True",
         "bingroup": "x",
         "hoverlabel": {
          "namelength": 0
         },
         "hovertemplate": "countryName=Slovakia<br>name=%{x}<br>count=%{y}",
         "legendgroup": "countryName=Slovakia",
         "marker": {
          "color": "#ab63fa"
         },
         "name": "countryName=Slovakia",
         "offsetgroup": "countryName=Slovakia",
         "opacity": 0.5,
         "showlegend": false,
         "type": "histogram",
         "uid": "c8dc4920-3514-4282-a674-63a8b5d92d0a",
         "x": [
          "Bratislava",
          "Košice",
          "Žilina",
          "Trnava",
          "Nitra",
          "Komárno"
         ],
         "xaxis": "x",
         "yaxis": "y2"
        },
        {
         "alignmentgroup": "True",
         "bingroup": "y",
         "hoverlabel": {
          "namelength": 0
         },
         "hovertemplate": "countryName=Slovakia<br>count=%{x}",
         "legendgroup": "countryName=Slovakia",
         "marker": {
          "color": "#ab63fa"
         },
         "name": "countryName=Slovakia",
         "offsetgroup": "countryName=Slovakia",
         "opacity": 0.5,
         "showlegend": false,
         "type": "histogram",
         "uid": "4c6af402-28ec-4532-8576-31dd9ba9c82d",
         "xaxis": "x2",
         "y": [
          30,
          1,
          1,
          1,
          1,
          1
         ],
         "yaxis": "y"
        },
        {
         "hoverlabel": {
          "namelength": 0
         },
         "hovertemplate": "countryName=Malta<br>name=%{x}<br>count=%{y}",
         "legendgroup": "countryName=Malta",
         "marker": {
          "color": "#19d3f3",
          "symbol": "circle"
         },
         "mode": "markers",
         "name": "countryName=Malta",
         "showlegend": true,
         "type": "scatter",
         "uid": "82dfe127-6b6c-4fbc-aa86-012b90835c13",
         "x": [
          "Imsida",
          "Victoria"
         ],
         "xaxis": "x",
         "y": [
          17,
          2
         ],
         "yaxis": "y"
        },
        {
         "alignmentgroup": "True",
         "bingroup": "x",
         "hoverlabel": {
          "namelength": 0
         },
         "hovertemplate": "countryName=Malta<br>name=%{x}<br>count=%{y}",
         "legendgroup": "countryName=Malta",
         "marker": {
          "color": "#19d3f3"
         },
         "name": "countryName=Malta",
         "offsetgroup": "countryName=Malta",
         "opacity": 0.5,
         "showlegend": false,
         "type": "histogram",
         "uid": "4e5a2fa2-fbd5-445d-89e9-917f8cf4c48d",
         "x": [
          "Imsida",
          "Victoria"
         ],
         "xaxis": "x",
         "yaxis": "y2"
        },
        {
         "alignmentgroup": "True",
         "bingroup": "y",
         "hoverlabel": {
          "namelength": 0
         },
         "hovertemplate": "countryName=Malta<br>count=%{x}",
         "legendgroup": "countryName=Malta",
         "marker": {
          "color": "#19d3f3"
         },
         "name": "countryName=Malta",
         "offsetgroup": "countryName=Malta",
         "opacity": 0.5,
         "showlegend": false,
         "type": "histogram",
         "uid": "290a847e-9926-4aa4-b1e0-72e3b1256730",
         "xaxis": "x2",
         "y": [
          17,
          2
         ],
         "yaxis": "y"
        },
        {
         "hoverlabel": {
          "namelength": 0
         },
         "hovertemplate": "countryName=Bulgaria<br>name=%{x}<br>count=%{y}",
         "legendgroup": "countryName=Bulgaria",
         "marker": {
          "color": "#e763fa",
          "symbol": "circle"
         },
         "mode": "markers",
         "name": "countryName=Bulgaria",
         "showlegend": true,
         "type": "scatter",
         "uid": "0174eeec-d082-48e3-bbde-4cf60123c5ce",
         "x": [
          "Sofia",
          "Plovdiv",
          "Pleven",
          "Veliko Tŭrnovo"
         ],
         "xaxis": "x",
         "y": [
          17,
          2,
          1,
          1
         ],
         "yaxis": "y"
        },
        {
         "alignmentgroup": "True",
         "bingroup": "x",
         "hoverlabel": {
          "namelength": 0
         },
         "hovertemplate": "countryName=Bulgaria<br>name=%{x}<br>count=%{y}",
         "legendgroup": "countryName=Bulgaria",
         "marker": {
          "color": "#e763fa"
         },
         "name": "countryName=Bulgaria",
         "offsetgroup": "countryName=Bulgaria",
         "opacity": 0.5,
         "showlegend": false,
         "type": "histogram",
         "uid": "752b0a4a-5667-48fc-b6eb-45b990dc4727",
         "x": [
          "Sofia",
          "Plovdiv",
          "Pleven",
          "Veliko Tŭrnovo"
         ],
         "xaxis": "x",
         "yaxis": "y2"
        },
        {
         "alignmentgroup": "True",
         "bingroup": "y",
         "hoverlabel": {
          "namelength": 0
         },
         "hovertemplate": "countryName=Bulgaria<br>count=%{x}",
         "legendgroup": "countryName=Bulgaria",
         "marker": {
          "color": "#e763fa"
         },
         "name": "countryName=Bulgaria",
         "offsetgroup": "countryName=Bulgaria",
         "opacity": 0.5,
         "showlegend": false,
         "type": "histogram",
         "uid": "1d6f8fa8-c909-447b-87e4-2c67ff849333",
         "xaxis": "x2",
         "y": [
          17,
          2,
          1,
          1
         ],
         "yaxis": "y"
        },
        {
         "hoverlabel": {
          "namelength": 0
         },
         "hovertemplate": "countryName=Croatia<br>name=%{x}<br>count=%{y}",
         "legendgroup": "countryName=Croatia",
         "marker": {
          "color": "#FECB52",
          "symbol": "circle"
         },
         "mode": "markers",
         "name": "countryName=Croatia",
         "showlegend": true,
         "type": "scatter",
         "uid": "8cc1f6ca-55d1-43be-914f-83331821450a",
         "x": [
          "Zagreb",
          "Split"
         ],
         "xaxis": "x",
         "y": [
          13,
          1
         ],
         "yaxis": "y"
        },
        {
         "alignmentgroup": "True",
         "bingroup": "x",
         "hoverlabel": {
          "namelength": 0
         },
         "hovertemplate": "countryName=Croatia<br>name=%{x}<br>count=%{y}",
         "legendgroup": "countryName=Croatia",
         "marker": {
          "color": "#FECB52"
         },
         "name": "countryName=Croatia",
         "offsetgroup": "countryName=Croatia",
         "opacity": 0.5,
         "showlegend": false,
         "type": "histogram",
         "uid": "83f6beff-72ee-4a9e-9722-2d58c1649693",
         "x": [
          "Zagreb",
          "Split"
         ],
         "xaxis": "x",
         "yaxis": "y2"
        },
        {
         "alignmentgroup": "True",
         "bingroup": "y",
         "hoverlabel": {
          "namelength": 0
         },
         "hovertemplate": "countryName=Croatia<br>count=%{x}",
         "legendgroup": "countryName=Croatia",
         "marker": {
          "color": "#FECB52"
         },
         "name": "countryName=Croatia",
         "offsetgroup": "countryName=Croatia",
         "opacity": 0.5,
         "showlegend": false,
         "type": "histogram",
         "uid": "896fabc7-2214-4872-abf4-bebb55b10812",
         "xaxis": "x2",
         "y": [
          13,
          1
         ],
         "yaxis": "y"
        },
        {
         "hoverlabel": {
          "namelength": 0
         },
         "hovertemplate": "countryName=Ukraine<br>name=%{x}<br>count=%{y}",
         "legendgroup": "countryName=Ukraine",
         "marker": {
          "color": "#FFA15A",
          "symbol": "circle"
         },
         "mode": "markers",
         "name": "countryName=Ukraine",
         "showlegend": true,
         "type": "scatter",
         "uid": "cbc0883e-feb0-485d-a491-5be688f22567",
         "x": [
          "Kyiv",
          "Lviv",
          "Dnipro",
          "Bakhchisaray",
          "Odessa",
          "Kherson",
          "Kharkiv",
          "Vinnytsya",
          "Ternopil’"
         ],
         "xaxis": "x",
         "y": [
          9,
          8,
          8,
          4,
          3,
          2,
          2,
          1,
          1
         ],
         "yaxis": "y"
        },
        {
         "alignmentgroup": "True",
         "bingroup": "x",
         "hoverlabel": {
          "namelength": 0
         },
         "hovertemplate": "countryName=Ukraine<br>name=%{x}<br>count=%{y}",
         "legendgroup": "countryName=Ukraine",
         "marker": {
          "color": "#FFA15A"
         },
         "name": "countryName=Ukraine",
         "offsetgroup": "countryName=Ukraine",
         "opacity": 0.5,
         "showlegend": false,
         "type": "histogram",
         "uid": "4e97a88b-2ab4-485c-bb44-55796ef50852",
         "x": [
          "Kyiv",
          "Lviv",
          "Dnipro",
          "Bakhchisaray",
          "Odessa",
          "Kherson",
          "Kharkiv",
          "Vinnytsya",
          "Ternopil’"
         ],
         "xaxis": "x",
         "yaxis": "y2"
        },
        {
         "alignmentgroup": "True",
         "bingroup": "y",
         "hoverlabel": {
          "namelength": 0
         },
         "hovertemplate": "countryName=Ukraine<br>count=%{x}",
         "legendgroup": "countryName=Ukraine",
         "marker": {
          "color": "#FFA15A"
         },
         "name": "countryName=Ukraine",
         "offsetgroup": "countryName=Ukraine",
         "opacity": 0.5,
         "showlegend": false,
         "type": "histogram",
         "uid": "ef7eb313-5d29-45bb-b0a3-945bcc79e998",
         "xaxis": "x2",
         "y": [
          9,
          8,
          8,
          4,
          3,
          2,
          2,
          1,
          1
         ],
         "yaxis": "y"
        },
        {
         "hoverlabel": {
          "namelength": 0
         },
         "hovertemplate": "countryName=Iceland<br>name=%{x}<br>count=%{y}",
         "legendgroup": "countryName=Iceland",
         "marker": {
          "color": "#FF6692",
          "symbol": "circle"
         },
         "mode": "markers",
         "name": "countryName=Iceland",
         "showlegend": true,
         "type": "scatter",
         "uid": "2f486725-0a2c-414f-b3d8-f8ef18697ae1",
         "x": [
          "Reykjavík"
         ],
         "xaxis": "x",
         "y": [
          7
         ],
         "yaxis": "y"
        },
        {
         "alignmentgroup": "True",
         "bingroup": "x",
         "hoverlabel": {
          "namelength": 0
         },
         "hovertemplate": "countryName=Iceland<br>name=%{x}<br>count=%{y}",
         "legendgroup": "countryName=Iceland",
         "marker": {
          "color": "#FF6692"
         },
         "name": "countryName=Iceland",
         "offsetgroup": "countryName=Iceland",
         "opacity": 0.5,
         "showlegend": false,
         "type": "histogram",
         "uid": "79870bcf-6357-4111-9e41-f30289a4be3b",
         "x": [
          "Reykjavík"
         ],
         "xaxis": "x",
         "yaxis": "y2"
        },
        {
         "alignmentgroup": "True",
         "bingroup": "y",
         "hoverlabel": {
          "namelength": 0
         },
         "hovertemplate": "countryName=Iceland<br>count=%{x}",
         "legendgroup": "countryName=Iceland",
         "marker": {
          "color": "#FF6692"
         },
         "name": "countryName=Iceland",
         "offsetgroup": "countryName=Iceland",
         "opacity": 0.5,
         "showlegend": false,
         "type": "histogram",
         "uid": "bb6b3f40-162f-4ca5-b95b-f64309dc7350",
         "xaxis": "x2",
         "y": [
          7
         ],
         "yaxis": "y",
         "ybins": {
          "end": 7.5,
          "size": 1,
          "start": 6.5
         }
        },
        {
         "hoverlabel": {
          "namelength": 0
         },
         "hovertemplate": "countryName=Estonia<br>name=%{x}<br>count=%{y}",
         "legendgroup": "countryName=Estonia",
         "marker": {
          "color": "#B6E880",
          "symbol": "circle"
         },
         "mode": "markers",
         "name": "countryName=Estonia",
         "showlegend": true,
         "type": "scatter",
         "uid": "4e234877-192b-4c48-a2ab-c11f581c40fc",
         "x": [
          "Tartu",
          "Tallinn"
         ],
         "xaxis": "x",
         "y": [
          6,
          3
         ],
         "yaxis": "y"
        },
        {
         "alignmentgroup": "True",
         "bingroup": "x",
         "hoverlabel": {
          "namelength": 0
         },
         "hovertemplate": "countryName=Estonia<br>name=%{x}<br>count=%{y}",
         "legendgroup": "countryName=Estonia",
         "marker": {
          "color": "#B6E880"
         },
         "name": "countryName=Estonia",
         "offsetgroup": "countryName=Estonia",
         "opacity": 0.5,
         "showlegend": false,
         "type": "histogram",
         "uid": "b13a1607-4b15-4724-a439-3cb3d02ed658",
         "x": [
          "Tartu",
          "Tallinn"
         ],
         "xaxis": "x",
         "yaxis": "y2"
        },
        {
         "alignmentgroup": "True",
         "bingroup": "y",
         "hoverlabel": {
          "namelength": 0
         },
         "hovertemplate": "countryName=Estonia<br>count=%{x}",
         "legendgroup": "countryName=Estonia",
         "marker": {
          "color": "#B6E880"
         },
         "name": "countryName=Estonia",
         "offsetgroup": "countryName=Estonia",
         "opacity": 0.5,
         "showlegend": false,
         "type": "histogram",
         "uid": "86cd0802-af41-41de-80b4-e10c1651c7c0",
         "xaxis": "x2",
         "y": [
          6,
          3
         ],
         "yaxis": "y"
        },
        {
         "hoverlabel": {
          "namelength": 0
         },
         "hovertemplate": "countryName=Belarus<br>name=%{x}<br>count=%{y}",
         "legendgroup": "countryName=Belarus",
         "marker": {
          "color": "#636efa",
          "symbol": "circle"
         },
         "mode": "markers",
         "name": "countryName=Belarus",
         "showlegend": true,
         "type": "scatter",
         "uid": "ddb07e87-5e03-4159-bc0c-80922fbaee5a",
         "x": [
          "Minsk",
          "Vitebsk"
         ],
         "xaxis": "x",
         "y": [
          6,
          1
         ],
         "yaxis": "y"
        },
        {
         "alignmentgroup": "True",
         "bingroup": "x",
         "hoverlabel": {
          "namelength": 0
         },
         "hovertemplate": "countryName=Belarus<br>name=%{x}<br>count=%{y}",
         "legendgroup": "countryName=Belarus",
         "marker": {
          "color": "#636efa"
         },
         "name": "countryName=Belarus",
         "offsetgroup": "countryName=Belarus",
         "opacity": 0.5,
         "showlegend": false,
         "type": "histogram",
         "uid": "264bed09-07ed-4d22-a631-8b2d65ae421b",
         "x": [
          "Minsk",
          "Vitebsk"
         ],
         "xaxis": "x",
         "yaxis": "y2"
        },
        {
         "alignmentgroup": "True",
         "bingroup": "y",
         "hoverlabel": {
          "namelength": 0
         },
         "hovertemplate": "countryName=Belarus<br>count=%{x}",
         "legendgroup": "countryName=Belarus",
         "marker": {
          "color": "#636efa"
         },
         "name": "countryName=Belarus",
         "offsetgroup": "countryName=Belarus",
         "opacity": 0.5,
         "showlegend": false,
         "type": "histogram",
         "uid": "d2625282-c275-49e8-abcf-62ff97cefdf2",
         "xaxis": "x2",
         "y": [
          6,
          1
         ],
         "yaxis": "y"
        },
        {
         "hoverlabel": {
          "namelength": 0
         },
         "hovertemplate": "countryName=Albania<br>name=%{x}<br>count=%{y}",
         "legendgroup": "countryName=Albania",
         "marker": {
          "color": "#EF553B",
          "symbol": "circle"
         },
         "mode": "markers",
         "name": "countryName=Albania",
         "showlegend": true,
         "type": "scatter",
         "uid": "72df169b-6448-4d90-b950-92730feae91e",
         "x": [
          "Tirana",
          "Durrës",
          "Vlorë"
         ],
         "xaxis": "x",
         "y": [
          5,
          1,
          1
         ],
         "yaxis": "y"
        },
        {
         "alignmentgroup": "True",
         "bingroup": "x",
         "hoverlabel": {
          "namelength": 0
         },
         "hovertemplate": "countryName=Albania<br>name=%{x}<br>count=%{y}",
         "legendgroup": "countryName=Albania",
         "marker": {
          "color": "#EF553B"
         },
         "name": "countryName=Albania",
         "offsetgroup": "countryName=Albania",
         "opacity": 0.5,
         "showlegend": false,
         "type": "histogram",
         "uid": "75868b41-09b7-4f05-9dcf-129f222436ae",
         "x": [
          "Tirana",
          "Durrës",
          "Vlorë"
         ],
         "xaxis": "x",
         "yaxis": "y2"
        },
        {
         "alignmentgroup": "True",
         "bingroup": "y",
         "hoverlabel": {
          "namelength": 0
         },
         "hovertemplate": "countryName=Albania<br>count=%{x}",
         "legendgroup": "countryName=Albania",
         "marker": {
          "color": "#EF553B"
         },
         "name": "countryName=Albania",
         "offsetgroup": "countryName=Albania",
         "opacity": 0.5,
         "showlegend": false,
         "type": "histogram",
         "uid": "a37e2215-ad85-44a0-b633-fd6c3d74f8ab",
         "xaxis": "x2",
         "y": [
          5,
          1,
          1
         ],
         "yaxis": "y"
        },
        {
         "hoverlabel": {
          "namelength": 0
         },
         "hovertemplate": "countryName=Latvia<br>name=%{x}<br>count=%{y}",
         "legendgroup": "countryName=Latvia",
         "marker": {
          "color": "#00cc96",
          "symbol": "circle"
         },
         "mode": "markers",
         "name": "countryName=Latvia",
         "showlegend": true,
         "type": "scatter",
         "uid": "abaa69ba-7aa3-49e2-aa8a-1e05186299bd",
         "x": [
          "Riga"
         ],
         "xaxis": "x",
         "y": [
          4
         ],
         "yaxis": "y"
        },
        {
         "alignmentgroup": "True",
         "bingroup": "x",
         "hoverlabel": {
          "namelength": 0
         },
         "hovertemplate": "countryName=Latvia<br>name=%{x}<br>count=%{y}",
         "legendgroup": "countryName=Latvia",
         "marker": {
          "color": "#00cc96"
         },
         "name": "countryName=Latvia",
         "offsetgroup": "countryName=Latvia",
         "opacity": 0.5,
         "showlegend": false,
         "type": "histogram",
         "uid": "b936efd6-55b0-492d-a88c-444f19dfd0ab",
         "x": [
          "Riga"
         ],
         "xaxis": "x",
         "yaxis": "y2"
        },
        {
         "alignmentgroup": "True",
         "bingroup": "y",
         "hoverlabel": {
          "namelength": 0
         },
         "hovertemplate": "countryName=Latvia<br>count=%{x}",
         "legendgroup": "countryName=Latvia",
         "marker": {
          "color": "#00cc96"
         },
         "name": "countryName=Latvia",
         "offsetgroup": "countryName=Latvia",
         "opacity": 0.5,
         "showlegend": false,
         "type": "histogram",
         "uid": "765284f9-6d6b-47b4-8ebb-0ae97bbc2133",
         "xaxis": "x2",
         "y": [
          4
         ],
         "yaxis": "y",
         "ybins": {
          "end": 4.5,
          "size": 1,
          "start": 3.5
         }
        },
        {
         "hoverlabel": {
          "namelength": 0
         },
         "hovertemplate": "countryName=Lithuania<br>name=%{x}<br>count=%{y}",
         "legendgroup": "countryName=Lithuania",
         "marker": {
          "color": "#ab63fa",
          "symbol": "circle"
         },
         "mode": "markers",
         "name": "countryName=Lithuania",
         "showlegend": true,
         "type": "scatter",
         "uid": "77320b93-0433-4ea0-b8cd-534bc2561d23",
         "x": [
          "Kaunas",
          "Vilnius"
         ],
         "xaxis": "x",
         "y": [
          3,
          1
         ],
         "yaxis": "y"
        },
        {
         "alignmentgroup": "True",
         "bingroup": "x",
         "hoverlabel": {
          "namelength": 0
         },
         "hovertemplate": "countryName=Lithuania<br>name=%{x}<br>count=%{y}",
         "legendgroup": "countryName=Lithuania",
         "marker": {
          "color": "#ab63fa"
         },
         "name": "countryName=Lithuania",
         "offsetgroup": "countryName=Lithuania",
         "opacity": 0.5,
         "showlegend": false,
         "type": "histogram",
         "uid": "f9651f18-834b-459e-bf72-7749890e9974",
         "x": [
          "Kaunas",
          "Vilnius"
         ],
         "xaxis": "x",
         "yaxis": "y2"
        },
        {
         "alignmentgroup": "True",
         "bingroup": "y",
         "hoverlabel": {
          "namelength": 0
         },
         "hovertemplate": "countryName=Lithuania<br>count=%{x}",
         "legendgroup": "countryName=Lithuania",
         "marker": {
          "color": "#ab63fa"
         },
         "name": "countryName=Lithuania",
         "offsetgroup": "countryName=Lithuania",
         "opacity": 0.5,
         "showlegend": false,
         "type": "histogram",
         "uid": "51ff463e-fae7-47ed-bded-0efbe082fe7d",
         "xaxis": "x2",
         "y": [
          3,
          1
         ],
         "yaxis": "y"
        },
        {
         "hoverlabel": {
          "namelength": 0
         },
         "hovertemplate": "countryName=Bosnia and Herzegovina<br>name=%{x}<br>count=%{y}",
         "legendgroup": "countryName=Bosnia and Herzegovina",
         "marker": {
          "color": "#19d3f3",
          "symbol": "circle"
         },
         "mode": "markers",
         "name": "countryName=Bosnia and Herzegovina",
         "showlegend": true,
         "type": "scatter",
         "uid": "fee0a2c9-7799-4923-8070-f58995b1c44c",
         "x": [
          "Sarajevo",
          "Bijeljina"
         ],
         "xaxis": "x",
         "y": [
          3,
          2
         ],
         "yaxis": "y"
        },
        {
         "alignmentgroup": "True",
         "bingroup": "x",
         "hoverlabel": {
          "namelength": 0
         },
         "hovertemplate": "countryName=Bosnia and Herzegovina<br>name=%{x}<br>count=%{y}",
         "legendgroup": "countryName=Bosnia and Herzegovina",
         "marker": {
          "color": "#19d3f3"
         },
         "name": "countryName=Bosnia and Herzegovina",
         "offsetgroup": "countryName=Bosnia and Herzegovina",
         "opacity": 0.5,
         "showlegend": false,
         "type": "histogram",
         "uid": "6800f3d6-998a-4d2c-a717-d5fa72e9feb8",
         "x": [
          "Sarajevo",
          "Bijeljina"
         ],
         "xaxis": "x",
         "yaxis": "y2"
        },
        {
         "alignmentgroup": "True",
         "bingroup": "y",
         "hoverlabel": {
          "namelength": 0
         },
         "hovertemplate": "countryName=Bosnia and Herzegovina<br>count=%{x}",
         "legendgroup": "countryName=Bosnia and Herzegovina",
         "marker": {
          "color": "#19d3f3"
         },
         "name": "countryName=Bosnia and Herzegovina",
         "offsetgroup": "countryName=Bosnia and Herzegovina",
         "opacity": 0.5,
         "showlegend": false,
         "type": "histogram",
         "uid": "7cb6dcd4-b32f-4604-8e5c-d74ce871de60",
         "xaxis": "x2",
         "y": [
          3,
          2
         ],
         "yaxis": "y"
        },
        {
         "hoverlabel": {
          "namelength": 0
         },
         "hovertemplate": "countryName=Luxembourg<br>name=%{x}<br>count=%{y}",
         "legendgroup": "countryName=Luxembourg",
         "marker": {
          "color": "#e763fa",
          "symbol": "circle"
         },
         "mode": "markers",
         "name": "countryName=Luxembourg",
         "showlegend": true,
         "type": "scatter",
         "uid": "d00921eb-47bd-4531-a546-31c4b0d046df",
         "x": [
          "Luxembourg"
         ],
         "xaxis": "x",
         "y": [
          3
         ],
         "yaxis": "y"
        },
        {
         "alignmentgroup": "True",
         "bingroup": "x",
         "hoverlabel": {
          "namelength": 0
         },
         "hovertemplate": "countryName=Luxembourg<br>name=%{x}<br>count=%{y}",
         "legendgroup": "countryName=Luxembourg",
         "marker": {
          "color": "#e763fa"
         },
         "name": "countryName=Luxembourg",
         "offsetgroup": "countryName=Luxembourg",
         "opacity": 0.5,
         "showlegend": false,
         "type": "histogram",
         "uid": "0627db05-7d9a-4e9d-bdb6-42befbf512d4",
         "x": [
          "Luxembourg"
         ],
         "xaxis": "x",
         "yaxis": "y2"
        },
        {
         "alignmentgroup": "True",
         "bingroup": "y",
         "hoverlabel": {
          "namelength": 0
         },
         "hovertemplate": "countryName=Luxembourg<br>count=%{x}",
         "legendgroup": "countryName=Luxembourg",
         "marker": {
          "color": "#e763fa"
         },
         "name": "countryName=Luxembourg",
         "offsetgroup": "countryName=Luxembourg",
         "opacity": 0.5,
         "showlegend": false,
         "type": "histogram",
         "uid": "d1795c76-9cb6-4653-af2d-9d03caf28de7",
         "xaxis": "x2",
         "y": [
          3
         ],
         "yaxis": "y",
         "ybins": {
          "end": 3.5,
          "size": 1,
          "start": 2.5
         }
        },
        {
         "hoverlabel": {
          "namelength": 0
         },
         "hovertemplate": "countryName=Montenegro<br>name=%{x}<br>count=%{y}",
         "legendgroup": "countryName=Montenegro",
         "marker": {
          "color": "#FECB52",
          "symbol": "circle"
         },
         "mode": "markers",
         "name": "countryName=Montenegro",
         "showlegend": true,
         "type": "scatter",
         "uid": "79a4d46e-cbe2-48d5-a4a7-aee6ba5a1c79",
         "x": [
          "Podgorica"
         ],
         "xaxis": "x",
         "y": [
          2
         ],
         "yaxis": "y"
        },
        {
         "alignmentgroup": "True",
         "bingroup": "x",
         "hoverlabel": {
          "namelength": 0
         },
         "hovertemplate": "countryName=Montenegro<br>name=%{x}<br>count=%{y}",
         "legendgroup": "countryName=Montenegro",
         "marker": {
          "color": "#FECB52"
         },
         "name": "countryName=Montenegro",
         "offsetgroup": "countryName=Montenegro",
         "opacity": 0.5,
         "showlegend": false,
         "type": "histogram",
         "uid": "8ab87733-5267-491b-bef7-c9ef31f6b0ff",
         "x": [
          "Podgorica"
         ],
         "xaxis": "x",
         "yaxis": "y2"
        },
        {
         "alignmentgroup": "True",
         "bingroup": "y",
         "hoverlabel": {
          "namelength": 0
         },
         "hovertemplate": "countryName=Montenegro<br>count=%{x}",
         "legendgroup": "countryName=Montenegro",
         "marker": {
          "color": "#FECB52"
         },
         "name": "countryName=Montenegro",
         "offsetgroup": "countryName=Montenegro",
         "opacity": 0.5,
         "showlegend": false,
         "type": "histogram",
         "uid": "7a8bc5db-b3d8-4209-8ec6-675a3bb4f2a2",
         "xaxis": "x2",
         "y": [
          2
         ],
         "yaxis": "y",
         "ybins": {
          "end": 2.5,
          "size": 1,
          "start": 1.5
         }
        },
        {
         "hoverlabel": {
          "namelength": 0
         },
         "hovertemplate": "countryName=Moldova<br>name=%{x}<br>count=%{y}",
         "legendgroup": "countryName=Moldova",
         "marker": {
          "color": "#FFA15A",
          "symbol": "circle"
         },
         "mode": "markers",
         "name": "countryName=Moldova",
         "showlegend": true,
         "type": "scatter",
         "uid": "36cea860-69e7-4e99-8008-c7a108b19b05",
         "x": [
          "Chisinau"
         ],
         "xaxis": "x",
         "y": [
          2
         ],
         "yaxis": "y"
        },
        {
         "alignmentgroup": "True",
         "bingroup": "x",
         "hoverlabel": {
          "namelength": 0
         },
         "hovertemplate": "countryName=Moldova<br>name=%{x}<br>count=%{y}",
         "legendgroup": "countryName=Moldova",
         "marker": {
          "color": "#FFA15A"
         },
         "name": "countryName=Moldova",
         "offsetgroup": "countryName=Moldova",
         "opacity": 0.5,
         "showlegend": false,
         "type": "histogram",
         "uid": "9f831060-f875-44df-950f-8d4ee5a124f3",
         "x": [
          "Chisinau"
         ],
         "xaxis": "x",
         "yaxis": "y2"
        },
        {
         "alignmentgroup": "True",
         "bingroup": "y",
         "hoverlabel": {
          "namelength": 0
         },
         "hovertemplate": "countryName=Moldova<br>count=%{x}",
         "legendgroup": "countryName=Moldova",
         "marker": {
          "color": "#FFA15A"
         },
         "name": "countryName=Moldova",
         "offsetgroup": "countryName=Moldova",
         "opacity": 0.5,
         "showlegend": false,
         "type": "histogram",
         "uid": "1b48932f-f14b-4bcf-b644-cb196db1c9c2",
         "xaxis": "x2",
         "y": [
          2
         ],
         "yaxis": "y",
         "ybins": {
          "end": 2.5,
          "size": 1,
          "start": 1.5
         }
        },
        {
         "hoverlabel": {
          "namelength": 0
         },
         "hovertemplate": "countryName=Monaco<br>name=%{x}<br>count=%{y}",
         "legendgroup": "countryName=Monaco",
         "marker": {
          "color": "#FF6692",
          "symbol": "circle"
         },
         "mode": "markers",
         "name": "countryName=Monaco",
         "showlegend": true,
         "type": "scatter",
         "uid": "77ca90b7-f6e0-4d73-868a-745d325e0a4e",
         "x": [
          "Monaco"
         ],
         "xaxis": "x",
         "y": [
          2
         ],
         "yaxis": "y"
        },
        {
         "alignmentgroup": "True",
         "bingroup": "x",
         "hoverlabel": {
          "namelength": 0
         },
         "hovertemplate": "countryName=Monaco<br>name=%{x}<br>count=%{y}",
         "legendgroup": "countryName=Monaco",
         "marker": {
          "color": "#FF6692"
         },
         "name": "countryName=Monaco",
         "offsetgroup": "countryName=Monaco",
         "opacity": 0.5,
         "showlegend": false,
         "type": "histogram",
         "uid": "a6e2e366-9ba9-4f9a-a6bc-cde4579db225",
         "x": [
          "Monaco"
         ],
         "xaxis": "x",
         "yaxis": "y2"
        },
        {
         "alignmentgroup": "True",
         "bingroup": "y",
         "hoverlabel": {
          "namelength": 0
         },
         "hovertemplate": "countryName=Monaco<br>count=%{x}",
         "legendgroup": "countryName=Monaco",
         "marker": {
          "color": "#FF6692"
         },
         "name": "countryName=Monaco",
         "offsetgroup": "countryName=Monaco",
         "opacity": 0.5,
         "showlegend": false,
         "type": "histogram",
         "uid": "5734a1f2-4102-43da-af7d-d7e535173f03",
         "xaxis": "x2",
         "y": [
          2
         ],
         "yaxis": "y",
         "ybins": {
          "end": 2.5,
          "size": 1,
          "start": 1.5
         }
        }
       ],
       "layout": {
        "barmode": "overlay",
        "height": 900,
        "legend": {
         "tracegroupgap": 0
        },
        "template": {
         "data": {
          "bar": [
           {
            "marker": {
             "line": {
              "color": "#E5ECF6",
              "width": 0.5
             }
            },
            "type": "bar"
           }
          ],
          "barpolar": [
           {
            "marker": {
             "line": {
              "color": "#E5ECF6",
              "width": 0.5
             }
            },
            "type": "barpolar"
           }
          ],
          "carpet": [
           {
            "aaxis": {
             "endlinecolor": "#2a3f5f",
             "gridcolor": "white",
             "linecolor": "white",
             "minorgridcolor": "white",
             "startlinecolor": "#2a3f5f"
            },
            "baxis": {
             "endlinecolor": "#2a3f5f",
             "gridcolor": "white",
             "linecolor": "white",
             "minorgridcolor": "white",
             "startlinecolor": "#2a3f5f"
            },
            "type": "carpet"
           }
          ],
          "choropleth": [
           {
            "colorbar": {
             "outlinewidth": 0,
             "ticks": ""
            },
            "type": "choropleth"
           }
          ],
          "contour": [
           {
            "colorbar": {
             "outlinewidth": 0,
             "ticks": ""
            },
            "colorscale": [
             [
              0,
              "#0508b8"
             ],
             [
              0.0893854748603352,
              "#1910d8"
             ],
             [
              0.1787709497206704,
              "#3c19f0"
             ],
             [
              0.2681564245810056,
              "#6b1cfb"
             ],
             [
              0.3575418994413408,
              "#981cfd"
             ],
             [
              0.44692737430167595,
              "#bf1cfd"
             ],
             [
              0.5363128491620112,
              "#dd2bfd"
             ],
             [
              0.6256983240223464,
              "#f246fe"
             ],
             [
              0.7150837988826816,
              "#fc67fd"
             ],
             [
              0.8044692737430168,
              "#fe88fc"
             ],
             [
              0.8938547486033519,
              "#fea5fd"
             ],
             [
              0.9832402234636871,
              "#febefe"
             ],
             [
              1,
              "#fec3fe"
             ]
            ],
            "type": "contour"
           }
          ],
          "contourcarpet": [
           {
            "colorbar": {
             "outlinewidth": 0,
             "ticks": ""
            },
            "type": "contourcarpet"
           }
          ],
          "heatmap": [
           {
            "colorbar": {
             "outlinewidth": 0,
             "ticks": ""
            },
            "colorscale": [
             [
              0,
              "#0508b8"
             ],
             [
              0.0893854748603352,
              "#1910d8"
             ],
             [
              0.1787709497206704,
              "#3c19f0"
             ],
             [
              0.2681564245810056,
              "#6b1cfb"
             ],
             [
              0.3575418994413408,
              "#981cfd"
             ],
             [
              0.44692737430167595,
              "#bf1cfd"
             ],
             [
              0.5363128491620112,
              "#dd2bfd"
             ],
             [
              0.6256983240223464,
              "#f246fe"
             ],
             [
              0.7150837988826816,
              "#fc67fd"
             ],
             [
              0.8044692737430168,
              "#fe88fc"
             ],
             [
              0.8938547486033519,
              "#fea5fd"
             ],
             [
              0.9832402234636871,
              "#febefe"
             ],
             [
              1,
              "#fec3fe"
             ]
            ],
            "type": "heatmap"
           }
          ],
          "heatmapgl": [
           {
            "colorbar": {
             "outlinewidth": 0,
             "ticks": ""
            },
            "type": "heatmapgl"
           }
          ],
          "histogram": [
           {
            "marker": {
             "colorbar": {
              "outlinewidth": 0,
              "ticks": ""
             }
            },
            "type": "histogram"
           }
          ],
          "histogram2d": [
           {
            "colorbar": {
             "outlinewidth": 0,
             "ticks": ""
            },
            "colorscale": [
             [
              0,
              "#0508b8"
             ],
             [
              0.0893854748603352,
              "#1910d8"
             ],
             [
              0.1787709497206704,
              "#3c19f0"
             ],
             [
              0.2681564245810056,
              "#6b1cfb"
             ],
             [
              0.3575418994413408,
              "#981cfd"
             ],
             [
              0.44692737430167595,
              "#bf1cfd"
             ],
             [
              0.5363128491620112,
              "#dd2bfd"
             ],
             [
              0.6256983240223464,
              "#f246fe"
             ],
             [
              0.7150837988826816,
              "#fc67fd"
             ],
             [
              0.8044692737430168,
              "#fe88fc"
             ],
             [
              0.8938547486033519,
              "#fea5fd"
             ],
             [
              0.9832402234636871,
              "#febefe"
             ],
             [
              1,
              "#fec3fe"
             ]
            ],
            "type": "histogram2d"
           }
          ],
          "histogram2dcontour": [
           {
            "colorbar": {
             "outlinewidth": 0,
             "ticks": ""
            },
            "colorscale": [
             [
              0,
              "#0508b8"
             ],
             [
              0.0893854748603352,
              "#1910d8"
             ],
             [
              0.1787709497206704,
              "#3c19f0"
             ],
             [
              0.2681564245810056,
              "#6b1cfb"
             ],
             [
              0.3575418994413408,
              "#981cfd"
             ],
             [
              0.44692737430167595,
              "#bf1cfd"
             ],
             [
              0.5363128491620112,
              "#dd2bfd"
             ],
             [
              0.6256983240223464,
              "#f246fe"
             ],
             [
              0.7150837988826816,
              "#fc67fd"
             ],
             [
              0.8044692737430168,
              "#fe88fc"
             ],
             [
              0.8938547486033519,
              "#fea5fd"
             ],
             [
              0.9832402234636871,
              "#febefe"
             ],
             [
              1,
              "#fec3fe"
             ]
            ],
            "type": "histogram2dcontour"
           }
          ],
          "mesh3d": [
           {
            "colorbar": {
             "outlinewidth": 0,
             "ticks": ""
            },
            "type": "mesh3d"
           }
          ],
          "parcoords": [
           {
            "line": {
             "colorbar": {
              "outlinewidth": 0,
              "ticks": ""
             }
            },
            "type": "parcoords"
           }
          ],
          "scatter": [
           {
            "marker": {
             "colorbar": {
              "outlinewidth": 0,
              "ticks": ""
             }
            },
            "type": "scatter"
           }
          ],
          "scatter3d": [
           {
            "marker": {
             "colorbar": {
              "outlinewidth": 0,
              "ticks": ""
             }
            },
            "type": "scatter3d"
           }
          ],
          "scattercarpet": [
           {
            "marker": {
             "colorbar": {
              "outlinewidth": 0,
              "ticks": ""
             }
            },
            "type": "scattercarpet"
           }
          ],
          "scattergeo": [
           {
            "marker": {
             "colorbar": {
              "outlinewidth": 0,
              "ticks": ""
             }
            },
            "type": "scattergeo"
           }
          ],
          "scattergl": [
           {
            "marker": {
             "colorbar": {
              "outlinewidth": 0,
              "ticks": ""
             }
            },
            "type": "scattergl"
           }
          ],
          "scattermapbox": [
           {
            "marker": {
             "colorbar": {
              "outlinewidth": 0,
              "ticks": ""
             }
            },
            "type": "scattermapbox"
           }
          ],
          "scatterpolar": [
           {
            "marker": {
             "colorbar": {
              "outlinewidth": 0,
              "ticks": ""
             }
            },
            "type": "scatterpolar"
           }
          ],
          "scatterpolargl": [
           {
            "marker": {
             "colorbar": {
              "outlinewidth": 0,
              "ticks": ""
             }
            },
            "type": "scatterpolargl"
           }
          ],
          "scatterternary": [
           {
            "marker": {
             "colorbar": {
              "outlinewidth": 0,
              "ticks": ""
             }
            },
            "type": "scatterternary"
           }
          ],
          "surface": [
           {
            "colorbar": {
             "outlinewidth": 0,
             "ticks": ""
            },
            "type": "surface"
           }
          ],
          "table": [
           {
            "cells": {
             "fill": {
              "color": "#EBF0F8"
             },
             "line": {
              "color": "white"
             }
            },
            "header": {
             "fill": {
              "color": "#C8D4E3"
             },
             "line": {
              "color": "white"
             }
            },
            "type": "table"
           }
          ]
         },
         "layout": {
          "annotationdefaults": {
           "arrowcolor": "#506784",
           "arrowhead": 0,
           "arrowwidth": 1
          },
          "colorscale": {
           "diverging": [
            [
             0,
             "#8e0152"
            ],
            [
             0.1,
             "#c51b7d"
            ],
            [
             0.2,
             "#de77ae"
            ],
            [
             0.3,
             "#f1b6da"
            ],
            [
             0.4,
             "#fde0ef"
            ],
            [
             0.5,
             "#f7f7f7"
            ],
            [
             0.6,
             "#e6f5d0"
            ],
            [
             0.7,
             "#b8e186"
            ],
            [
             0.8,
             "#7fbc41"
            ],
            [
             0.9,
             "#4d9221"
            ],
            [
             1,
             "#276419"
            ]
           ],
           "sequential": [
            [
             0,
             "#0508b8"
            ],
            [
             0.0893854748603352,
             "#1910d8"
            ],
            [
             0.1787709497206704,
             "#3c19f0"
            ],
            [
             0.2681564245810056,
             "#6b1cfb"
            ],
            [
             0.3575418994413408,
             "#981cfd"
            ],
            [
             0.44692737430167595,
             "#bf1cfd"
            ],
            [
             0.5363128491620112,
             "#dd2bfd"
            ],
            [
             0.6256983240223464,
             "#f246fe"
            ],
            [
             0.7150837988826816,
             "#fc67fd"
            ],
            [
             0.8044692737430168,
             "#fe88fc"
            ],
            [
             0.8938547486033519,
             "#fea5fd"
            ],
            [
             0.9832402234636871,
             "#febefe"
            ],
            [
             1,
             "#fec3fe"
            ]
           ],
           "sequentialminus": [
            [
             0,
             "#0508b8"
            ],
            [
             0.0893854748603352,
             "#1910d8"
            ],
            [
             0.1787709497206704,
             "#3c19f0"
            ],
            [
             0.2681564245810056,
             "#6b1cfb"
            ],
            [
             0.3575418994413408,
             "#981cfd"
            ],
            [
             0.44692737430167595,
             "#bf1cfd"
            ],
            [
             0.5363128491620112,
             "#dd2bfd"
            ],
            [
             0.6256983240223464,
             "#f246fe"
            ],
            [
             0.7150837988826816,
             "#fc67fd"
            ],
            [
             0.8044692737430168,
             "#fe88fc"
            ],
            [
             0.8938547486033519,
             "#fea5fd"
            ],
            [
             0.9832402234636871,
             "#febefe"
            ],
            [
             1,
             "#fec3fe"
            ]
           ]
          },
          "colorway": [
           "#636efa",
           "#EF553B",
           "#00cc96",
           "#ab63fa",
           "#19d3f3",
           "#e763fa",
           "#FECB52",
           "#FFA15A",
           "#FF6692",
           "#B6E880"
          ],
          "font": {
           "color": "#2a3f5f"
          },
          "geo": {
           "bgcolor": "white",
           "lakecolor": "white",
           "landcolor": "#E5ECF6",
           "showlakes": true,
           "showland": true,
           "subunitcolor": "white"
          },
          "hoverlabel": {
           "align": "left"
          },
          "hovermode": "closest",
          "mapbox": {
           "style": "light"
          },
          "paper_bgcolor": "white",
          "plot_bgcolor": "#E5ECF6",
          "polar": {
           "angularaxis": {
            "gridcolor": "white",
            "linecolor": "white",
            "ticks": ""
           },
           "bgcolor": "#E5ECF6",
           "radialaxis": {
            "gridcolor": "white",
            "linecolor": "white",
            "ticks": ""
           }
          },
          "scene": {
           "xaxis": {
            "backgroundcolor": "#E5ECF6",
            "gridcolor": "white",
            "gridwidth": 2,
            "linecolor": "white",
            "showbackground": true,
            "ticks": "",
            "zerolinecolor": "white"
           },
           "yaxis": {
            "backgroundcolor": "#E5ECF6",
            "gridcolor": "white",
            "gridwidth": 2,
            "linecolor": "white",
            "showbackground": true,
            "ticks": "",
            "zerolinecolor": "white"
           },
           "zaxis": {
            "backgroundcolor": "#E5ECF6",
            "gridcolor": "white",
            "gridwidth": 2,
            "linecolor": "white",
            "showbackground": true,
            "ticks": "",
            "zerolinecolor": "white"
           }
          },
          "shapedefaults": {
           "fillcolor": "#506784",
           "line": {
            "width": 0
           },
           "opacity": 0.4
          },
          "ternary": {
           "aaxis": {
            "gridcolor": "white",
            "linecolor": "white",
            "ticks": ""
           },
           "baxis": {
            "gridcolor": "white",
            "linecolor": "white",
            "ticks": ""
           },
           "bgcolor": "#E5ECF6",
           "caxis": {
            "gridcolor": "white",
            "linecolor": "white",
            "ticks": ""
           }
          },
          "title": {
           "x": 0.05
          },
          "xaxis": {
           "automargin": true,
           "gridcolor": "white",
           "linecolor": "white",
           "ticks": "",
           "zerolinecolor": "white",
           "zerolinewidth": 2
          },
          "yaxis": {
           "automargin": true,
           "gridcolor": "white",
           "linecolor": "white",
           "ticks": "",
           "zerolinecolor": "white",
           "zerolinewidth": 2
          }
         }
        },
        "title": {
         "text": "Title (marginal subplots = X/Y distribution)"
        },
        "xaxis": {
         "domain": [
          0,
          0.74
         ],
         "showgrid": true,
         "title": {
          "text": "name"
         },
         "type": "category"
        },
        "xaxis2": {
         "domain": [
          0.745,
          1
         ],
         "showticklabels": false
        },
        "yaxis": {
         "domain": [
          0,
          0.74
         ],
         "showgrid": true,
         "title": {
          "text": "count"
         },
         "type": "linear"
        },
        "yaxis2": {
         "domain": [
          0.745,
          1
         ],
         "showticklabels": false
        }
       }
      },
      "text/html": [
       "<div>\n",
       "        \n",
       "        \n",
       "            <div id=\"4cd96593-1a34-46eb-8771-b321c99ca016\" class=\"plotly-graph-div\" style=\"height:900px; width:100%;\"></div>\n",
       "            <script type=\"text/javascript\">\n",
       "                require([\"plotly\"], function(Plotly) {\n",
       "                    window.PLOTLYENV=window.PLOTLYENV || {};\n",
       "                    window.PLOTLYENV.BASE_URL='https://plot.ly';\n",
       "                    \n",
       "                if (document.getElementById(\"4cd96593-1a34-46eb-8771-b321c99ca016\")) {\n",
       "                    Plotly.newPlot(\n",
       "                        '4cd96593-1a34-46eb-8771-b321c99ca016',\n",
       "                        [{\"hoverlabel\": {\"namelength\": 0}, \"hovertemplate\": \"countryName=United Kingdom<br>name=%{x}<br>count=%{y}\", \"legendgroup\": \"countryName=United Kingdom\", \"marker\": {\"color\": \"#636efa\", \"symbol\": \"circle\"}, \"mode\": \"markers\", \"name\": \"countryName=United Kingdom\", \"showlegend\": true, \"type\": \"scatter\", \"uid\": \"febb6d53-4b47-4f68-8e5f-dd85daeb22f6\", \"x\": [\"London\", \"Oxford\", \"Cambridge\", \"Manchester\", \"Edinburgh\", \"Newcastle upon Tyne\", \"Birmingham\", \"Glasgow\", \"Exeter\", \"Liverpool\", \"Leeds\", \"Sheffield\", \"Coventry\", \"Abingdon\", \"Cardiff\", \"York\", \"Redhill\", \"Southampton\", \"Norwich\", \"Aberdeen\", \"Bristol\", \"Welwyn Garden City\", \"Canterbury\", \"Nottingham\", \"Belfast\", \"Kingston upon Hull\", \"Durham\", \"Lancaster\", \"Leicester\", \"Didcot\", \"Saint Andrews\", \"Warrington\", \"Bath\", \"Runcorn\", \"Daresbury\", \"Dundee\", \"Warrington\", \"Taunton\", \"Swansea\", \"Reading\", \"Loughborough\", \"Egham\", \"Brighton\", \"Bangor\", \"Hatfield\", \"Newcastle under Lyme\", \"Craigavon\", \"Moreton\", \"Ormskirk\", \"Wallingford\", \"Bradford\", \"Guildford\", \"Colchester\", \"Derby\", \"Plymouth\", \"Paisley\", \"Box\", \"Chester\", \"Lancing\", \"Ipswich\", \"Wokingham\", \"Worcester\", \"Street\", \"Winchester\", \"High Wycombe\", \"Dalkeith\", \"Inverness\", \"Marlborough\", \"Milton Keynes\", \"Chesterfield\", \"Bournemouth\", \"Salford\", \"Scarborough\", \"Shipley\", \"Rotherham\", \"Bishops Stortford\", \"Bracknell\", \"Brierley Hill\", \"Brixham\", \"Bangor\", \"Airdrie\", \"Aylesbury\", \"Broadstairs\", \"Kirkcaldy\", \"Kilmarnock\", \"Lakenheath\", \"Larbert\", \"Lincoln\", \"Lowestoft\", \"Harpenden\", \"Coleraine\", \"Gateshead\", \"Cranfield\", \"Croydon\", \"Crumlin\", \"Dumfries\", \"Farnham\", \"Luton\", \"Wakefield\", \"Stoke-on-Trent\", \"Tranent\", \"Victoria\", \"Walkden\", \"Stirling\", \"Watford\", \"Witney\", \"Woking\", \"Stevenage\", \"Pontypridd\", \"Middlesbrough\", \"Newbury\", \"Newquay\", \"North Shields\", \"Peterborough\", \"Portsmouth\", \"Slough\"], \"xaxis\": \"x\", \"y\": [468, 120, 101, 88, 67, 58, 56, 49, 46, 43, 38, 37, 34, 34, 34, 32, 32, 27, 27, 23, 23, 22, 20, 20, 17, 17, 16, 14, 11, 9, 8, 8, 8, 8, 7, 7, 7, 7, 7, 7, 7, 6, 6, 5, 5, 5, 4, 4, 4, 4, 4, 4, 4, 4, 3, 3, 3, 3, 3, 3, 3, 3, 2, 2, 2, 2, 2, 2, 2, 2, 2, 2, 2, 2, 2, 1, 1, 1, 1, 1, 1, 1, 1, 1, 1, 1, 1, 1, 1, 1, 1, 1, 1, 1, 1, 1, 1, 1, 1, 1, 1, 1, 1, 1, 1, 1, 1, 1, 1, 1, 1, 1, 1, 1, 1, 1], \"yaxis\": \"y\"}, {\"alignmentgroup\": \"True\", \"bingroup\": \"x\", \"hoverlabel\": {\"namelength\": 0}, \"hovertemplate\": \"countryName=United Kingdom<br>name=%{x}<br>count=%{y}\", \"legendgroup\": \"countryName=United Kingdom\", \"marker\": {\"color\": \"#636efa\"}, \"name\": \"countryName=United Kingdom\", \"offsetgroup\": \"countryName=United Kingdom\", \"opacity\": 0.5, \"showlegend\": false, \"type\": \"histogram\", \"uid\": \"562d5f97-88f5-49ac-adfe-3a34f959330b\", \"x\": [\"London\", \"Oxford\", \"Cambridge\", \"Manchester\", \"Edinburgh\", \"Newcastle upon Tyne\", \"Birmingham\", \"Glasgow\", \"Exeter\", \"Liverpool\", \"Leeds\", \"Sheffield\", \"Coventry\", \"Abingdon\", \"Cardiff\", \"York\", \"Redhill\", \"Southampton\", \"Norwich\", \"Aberdeen\", \"Bristol\", \"Welwyn Garden City\", \"Canterbury\", \"Nottingham\", \"Belfast\", \"Kingston upon Hull\", \"Durham\", \"Lancaster\", \"Leicester\", \"Didcot\", \"Saint Andrews\", \"Warrington\", \"Bath\", \"Runcorn\", \"Daresbury\", \"Dundee\", \"Warrington\", \"Taunton\", \"Swansea\", \"Reading\", \"Loughborough\", \"Egham\", \"Brighton\", \"Bangor\", \"Hatfield\", \"Newcastle under Lyme\", \"Craigavon\", \"Moreton\", \"Ormskirk\", \"Wallingford\", \"Bradford\", \"Guildford\", \"Colchester\", \"Derby\", \"Plymouth\", \"Paisley\", \"Box\", \"Chester\", \"Lancing\", \"Ipswich\", \"Wokingham\", \"Worcester\", \"Street\", \"Winchester\", \"High Wycombe\", \"Dalkeith\", \"Inverness\", \"Marlborough\", \"Milton Keynes\", \"Chesterfield\", \"Bournemouth\", \"Salford\", \"Scarborough\", \"Shipley\", \"Rotherham\", \"Bishops Stortford\", \"Bracknell\", \"Brierley Hill\", \"Brixham\", \"Bangor\", \"Airdrie\", \"Aylesbury\", \"Broadstairs\", \"Kirkcaldy\", \"Kilmarnock\", \"Lakenheath\", \"Larbert\", \"Lincoln\", \"Lowestoft\", \"Harpenden\", \"Coleraine\", \"Gateshead\", \"Cranfield\", \"Croydon\", \"Crumlin\", \"Dumfries\", \"Farnham\", \"Luton\", \"Wakefield\", \"Stoke-on-Trent\", \"Tranent\", \"Victoria\", \"Walkden\", \"Stirling\", \"Watford\", \"Witney\", \"Woking\", \"Stevenage\", \"Pontypridd\", \"Middlesbrough\", \"Newbury\", \"Newquay\", \"North Shields\", \"Peterborough\", \"Portsmouth\", \"Slough\"], \"xaxis\": \"x\", \"yaxis\": \"y2\"}, {\"alignmentgroup\": \"True\", \"bingroup\": \"y\", \"hoverlabel\": {\"namelength\": 0}, \"hovertemplate\": \"countryName=United Kingdom<br>count=%{x}\", \"legendgroup\": \"countryName=United Kingdom\", \"marker\": {\"color\": \"#636efa\"}, \"name\": \"countryName=United Kingdom\", \"offsetgroup\": \"countryName=United Kingdom\", \"opacity\": 0.5, \"showlegend\": false, \"type\": \"histogram\", \"uid\": \"250ccaaa-087b-443f-b4fd-fe4bda5202d3\", \"xaxis\": \"x2\", \"y\": [468, 120, 101, 88, 67, 58, 56, 49, 46, 43, 38, 37, 34, 34, 34, 32, 32, 27, 27, 23, 23, 22, 20, 20, 17, 17, 16, 14, 11, 9, 8, 8, 8, 8, 7, 7, 7, 7, 7, 7, 7, 6, 6, 5, 5, 5, 4, 4, 4, 4, 4, 4, 4, 4, 3, 3, 3, 3, 3, 3, 3, 3, 2, 2, 2, 2, 2, 2, 2, 2, 2, 2, 2, 2, 2, 1, 1, 1, 1, 1, 1, 1, 1, 1, 1, 1, 1, 1, 1, 1, 1, 1, 1, 1, 1, 1, 1, 1, 1, 1, 1, 1, 1, 1, 1, 1, 1, 1, 1, 1, 1, 1, 1, 1, 1, 1], \"yaxis\": \"y\"}, {\"hoverlabel\": {\"namelength\": 0}, \"hovertemplate\": \"countryName=France<br>name=%{x}<br>count=%{y}\", \"legendgroup\": \"countryName=France\", \"marker\": {\"color\": \"#EF553B\", \"symbol\": \"circle\"}, \"mode\": \"markers\", \"name\": \"countryName=France\", \"showlegend\": true, \"type\": \"scatter\", \"uid\": \"c1b535b8-dc4b-4c0d-9268-a1abec36879d\", \"x\": [\"Paris\", \"Lyon\", \"Villejuif\", \"Bordeaux\", \"Gif-sur-Yvette\", \"Marseille\", \"Montpellier\", \"Orsay\", \"Grenoble\", \"Pessac\", \"Tours\", \"Toulouse\", \"Brest\", \"Caen\", \"Angers\", \"Lille\", \"Saint-Martin-d\\u2019H\\u00e8res\", \"Strasbourg\", \"Palaiseau\", \"Fontenay-aux-Roses\", \"Vinon-sur-Verdon\", \"Rennes\", \"Limoges\", \"Versailles\", \"Le Kremlin-Bic\\u00eatre\", \"Nancy\", \"Suresnes\", \"Nyons\", \"Cr\\u00e9teil\", \"Dijon\", \"Jouy-en-Josas\", \"Nice\", \"Le Chesnay\", \"Villeurbanne\", \"Villetaneuse\", \"Vand\\u0153uvre-l\\u00e8s-Nancy\", \"Clermont-Ferrand\", \"Nantes\", \"Rouen\", \"Saint-\\u00c9tienne\", \"Saint-Cloud\", \"Biot\", \"Besan\\u00e7on\", \"Amiens\", \"Saint-Mand\\u00e9\", \"Saint-Genis-Laval\", \"Narbonne\", \"Avignon\", \"Fleury-M\\u00e9rogis\", \"Illkirch-Graffenstaden\", \"Nanterre\", \"Issy-les-Moulineaux\", \"N\\u00eemes\", \"Marcoussis\", \"Libourne\", \"Lorient\", \"Reims\", \"Le Pecq\", \"Valenciennes\", \"Vannes\", \"Perpignan\", \"Saint-Aubin\", \"La Rochelle\", \"Clamart\", \"Bron\", \"Meudon\", \"Arpajon\", \"Antony\", \"Aix-en-Provence\", \"Villeneuve-d'Ascq\", \"Saint-Maurice\", \"Tourcoing\", \"Talence\", \"Beauvais\", \"Chamb\\u00e9ry\", \"Castanet-Tolosan\", \"Br\\u00e9tigny-sur-Orge\", \"Bourgoin\", \"Boulogne-Billancourt\", \"Beaune\", \"Ch\\u00e2tillon\", \"Aulnay-sous-Bois\", \"Annecy-le-Vieux\", \"Annecy\", \"Ajaccio\", \"Abbeville\", \"Charleville-M\\u00e9zi\\u00e8res\", \"Orl\\u00e9ans\", \"Nouzilly\", \"Nogent-sur-Marne\", \"Montivilliers\", \"Metz\", \"Meaux\", \"Le Mans\", \"Compi\\u00e8gne\", \"Firminy\", \"\\u00c9cully\", \"Pierre-B\\u00e9nite\", \"Pau\", \"Pleaux\", \"Pl\\u00e9rin\", \"Saint-Germain-en-Laye\", \"Vaux-sur-Seine\", \"Tarbes\", \"Saint-L\\u00f4\", \"Saint-Julien-en-Genevois\", \"Roanne\", \"Ramonville-Saint-Agne\", \"Poitiers\", \"Villefranche-sur-Mer\"], \"xaxis\": \"x\", \"y\": [293, 67, 60, 53, 50, 33, 29, 27, 27, 24, 24, 23, 20, 20, 20, 18, 17, 17, 17, 17, 13, 13, 13, 12, 12, 11, 11, 10, 9, 9, 8, 8, 7, 7, 6, 6, 6, 5, 4, 4, 4, 4, 4, 4, 4, 4, 4, 3, 3, 3, 3, 3, 3, 3, 3, 3, 3, 2, 2, 2, 2, 2, 2, 2, 2, 2, 2, 2, 2, 2, 2, 2, 2, 1, 1, 1, 1, 1, 1, 1, 1, 1, 1, 1, 1, 1, 1, 1, 1, 1, 1, 1, 1, 1, 1, 1, 1, 1, 1, 1, 1, 1, 1, 1, 1, 1, 1, 1, 1, 1], \"yaxis\": \"y\"}, {\"alignmentgroup\": \"True\", \"bingroup\": \"x\", \"hoverlabel\": {\"namelength\": 0}, \"hovertemplate\": \"countryName=France<br>name=%{x}<br>count=%{y}\", \"legendgroup\": \"countryName=France\", \"marker\": {\"color\": \"#EF553B\"}, \"name\": \"countryName=France\", \"offsetgroup\": \"countryName=France\", \"opacity\": 0.5, \"showlegend\": false, \"type\": \"histogram\", \"uid\": \"deeb03d6-0aa4-4b67-b98c-4b47b942e636\", \"x\": [\"Paris\", \"Lyon\", \"Villejuif\", \"Bordeaux\", \"Gif-sur-Yvette\", \"Marseille\", \"Montpellier\", \"Orsay\", \"Grenoble\", \"Pessac\", \"Tours\", \"Toulouse\", \"Brest\", \"Caen\", \"Angers\", \"Lille\", \"Saint-Martin-d\\u2019H\\u00e8res\", \"Strasbourg\", \"Palaiseau\", \"Fontenay-aux-Roses\", \"Vinon-sur-Verdon\", \"Rennes\", \"Limoges\", \"Versailles\", \"Le Kremlin-Bic\\u00eatre\", \"Nancy\", \"Suresnes\", \"Nyons\", \"Cr\\u00e9teil\", \"Dijon\", \"Jouy-en-Josas\", \"Nice\", \"Le Chesnay\", \"Villeurbanne\", \"Villetaneuse\", \"Vand\\u0153uvre-l\\u00e8s-Nancy\", \"Clermont-Ferrand\", \"Nantes\", \"Rouen\", \"Saint-\\u00c9tienne\", \"Saint-Cloud\", \"Biot\", \"Besan\\u00e7on\", \"Amiens\", \"Saint-Mand\\u00e9\", \"Saint-Genis-Laval\", \"Narbonne\", \"Avignon\", \"Fleury-M\\u00e9rogis\", \"Illkirch-Graffenstaden\", \"Nanterre\", \"Issy-les-Moulineaux\", \"N\\u00eemes\", \"Marcoussis\", \"Libourne\", \"Lorient\", \"Reims\", \"Le Pecq\", \"Valenciennes\", \"Vannes\", \"Perpignan\", \"Saint-Aubin\", \"La Rochelle\", \"Clamart\", \"Bron\", \"Meudon\", \"Arpajon\", \"Antony\", \"Aix-en-Provence\", \"Villeneuve-d'Ascq\", \"Saint-Maurice\", \"Tourcoing\", \"Talence\", \"Beauvais\", \"Chamb\\u00e9ry\", \"Castanet-Tolosan\", \"Br\\u00e9tigny-sur-Orge\", \"Bourgoin\", \"Boulogne-Billancourt\", \"Beaune\", \"Ch\\u00e2tillon\", \"Aulnay-sous-Bois\", \"Annecy-le-Vieux\", \"Annecy\", \"Ajaccio\", \"Abbeville\", \"Charleville-M\\u00e9zi\\u00e8res\", \"Orl\\u00e9ans\", \"Nouzilly\", \"Nogent-sur-Marne\", \"Montivilliers\", \"Metz\", \"Meaux\", \"Le Mans\", \"Compi\\u00e8gne\", \"Firminy\", \"\\u00c9cully\", \"Pierre-B\\u00e9nite\", \"Pau\", \"Pleaux\", \"Pl\\u00e9rin\", \"Saint-Germain-en-Laye\", \"Vaux-sur-Seine\", \"Tarbes\", \"Saint-L\\u00f4\", \"Saint-Julien-en-Genevois\", \"Roanne\", \"Ramonville-Saint-Agne\", \"Poitiers\", \"Villefranche-sur-Mer\"], \"xaxis\": \"x\", \"yaxis\": \"y2\"}, {\"alignmentgroup\": \"True\", \"bingroup\": \"y\", \"hoverlabel\": {\"namelength\": 0}, \"hovertemplate\": \"countryName=France<br>count=%{x}\", \"legendgroup\": \"countryName=France\", \"marker\": {\"color\": \"#EF553B\"}, \"name\": \"countryName=France\", \"offsetgroup\": \"countryName=France\", \"opacity\": 0.5, \"showlegend\": false, \"type\": \"histogram\", \"uid\": \"17e5e844-5c81-4a7a-9ded-e1e958131840\", \"xaxis\": \"x2\", \"y\": [293, 67, 60, 53, 50, 33, 29, 27, 27, 24, 24, 23, 20, 20, 20, 18, 17, 17, 17, 17, 13, 13, 13, 12, 12, 11, 11, 10, 9, 9, 8, 8, 7, 7, 6, 6, 6, 5, 4, 4, 4, 4, 4, 4, 4, 4, 4, 3, 3, 3, 3, 3, 3, 3, 3, 3, 3, 2, 2, 2, 2, 2, 2, 2, 2, 2, 2, 2, 2, 2, 2, 2, 2, 1, 1, 1, 1, 1, 1, 1, 1, 1, 1, 1, 1, 1, 1, 1, 1, 1, 1, 1, 1, 1, 1, 1, 1, 1, 1, 1, 1, 1, 1, 1, 1, 1, 1, 1, 1, 1], \"yaxis\": \"y\"}, {\"hoverlabel\": {\"namelength\": 0}, \"hovertemplate\": \"countryName=Spain<br>name=%{x}<br>count=%{y}\", \"legendgroup\": \"countryName=Spain\", \"marker\": {\"color\": \"#00cc96\", \"symbol\": \"circle\"}, \"mode\": \"markers\", \"name\": \"countryName=Spain\", \"showlegend\": true, \"type\": \"scatter\", \"uid\": \"68034e64-312a-4fd1-abda-891edf08ac40\", \"x\": [\"Barcelona\", \"Madrid\", \"Valencia\", \"Sevilla\", \"Granada\", \"M\\u00e1laga\", \"Alcal\\u00e1 de Henares\", \"Santander\", \"Zaragoza\", \"C\\u00f3rdoba\", \"Pamplona\", \"Murcia\", \"Leioa\", \"Alicante\", \"Santiago de Compostela\", \"Oviedo\", \"Gasteiz / Vitoria\", \"Salamanca\", \"Santa Cruz de Tenerife\", \"Elche\", \"Albacete\", \"Bilbao\", \"Valladolid\", \"Logro\\u00f1o\", \"Ja\\u00e9n\", \"La Laguna\", \"Badajoz\", \"Ourense\", \"Girona\", \"Ca\\u00f1ada\", \"Palma\", \"Almer\\u00eda\", \"Barakaldo\", \"Donostia / San Sebasti\\u00e1n\", \"A Coru\\u00f1a\", \"Burgos\", \"Cadiz\", \"Castell\\u00f3 de la Plana\", \"Ciudad Real\", \"Paterna\", \"Villaviciosa\", \"Vigo\", \"Tarragona\", \"Lleida\", \"Fuenlabrada\", \"Tortosa\", \"Torrelavega\", \"Torrej\\u00f3n de Ardoz\", \"Sant Joan Desp\\u00ed\", \"Sant Cugat del Vall\\u00e8s\", \"Reus\", \"Zamora\", \"Pozuelo de Alarc\\u00f3n\", \"Olot\", \"Arrasate / Mondrag\\u00f3n\", \"Valdemoro\", \"Le\\u00f3n\", \"Gij\\u00f3n\", \"Las Palmas de Gran Canaria\", \"Lorca\", \"Getafe\", \"Cuenca\", \"El Ejido\", \"Cartagena\"], \"xaxis\": \"x\", \"y\": [176, 171, 69, 38, 32, 31, 27, 19, 19, 16, 14, 14, 13, 11, 11, 10, 9, 9, 9, 8, 7, 6, 6, 5, 5, 5, 5, 4, 4, 4, 4, 4, 3, 3, 3, 3, 3, 3, 3, 2, 2, 2, 2, 2, 2, 1, 1, 1, 1, 1, 1, 1, 1, 1, 1, 1, 1, 1, 1, 1, 1, 1, 1, 1], \"yaxis\": \"y\"}, {\"alignmentgroup\": \"True\", \"bingroup\": \"x\", \"hoverlabel\": {\"namelength\": 0}, \"hovertemplate\": \"countryName=Spain<br>name=%{x}<br>count=%{y}\", \"legendgroup\": \"countryName=Spain\", \"marker\": {\"color\": \"#00cc96\"}, \"name\": \"countryName=Spain\", \"offsetgroup\": \"countryName=Spain\", \"opacity\": 0.5, \"showlegend\": false, \"type\": \"histogram\", \"uid\": \"d454fb42-3fa9-44ac-b032-e98e51813950\", \"x\": [\"Barcelona\", \"Madrid\", \"Valencia\", \"Sevilla\", \"Granada\", \"M\\u00e1laga\", \"Alcal\\u00e1 de Henares\", \"Santander\", \"Zaragoza\", \"C\\u00f3rdoba\", \"Pamplona\", \"Murcia\", \"Leioa\", \"Alicante\", \"Santiago de Compostela\", \"Oviedo\", \"Gasteiz / Vitoria\", \"Salamanca\", \"Santa Cruz de Tenerife\", \"Elche\", \"Albacete\", \"Bilbao\", \"Valladolid\", \"Logro\\u00f1o\", \"Ja\\u00e9n\", \"La Laguna\", \"Badajoz\", \"Ourense\", \"Girona\", \"Ca\\u00f1ada\", \"Palma\", \"Almer\\u00eda\", \"Barakaldo\", \"Donostia / San Sebasti\\u00e1n\", \"A Coru\\u00f1a\", \"Burgos\", \"Cadiz\", \"Castell\\u00f3 de la Plana\", \"Ciudad Real\", \"Paterna\", \"Villaviciosa\", \"Vigo\", \"Tarragona\", \"Lleida\", \"Fuenlabrada\", \"Tortosa\", \"Torrelavega\", \"Torrej\\u00f3n de Ardoz\", \"Sant Joan Desp\\u00ed\", \"Sant Cugat del Vall\\u00e8s\", \"Reus\", \"Zamora\", \"Pozuelo de Alarc\\u00f3n\", \"Olot\", \"Arrasate / Mondrag\\u00f3n\", \"Valdemoro\", \"Le\\u00f3n\", \"Gij\\u00f3n\", \"Las Palmas de Gran Canaria\", \"Lorca\", \"Getafe\", \"Cuenca\", \"El Ejido\", \"Cartagena\"], \"xaxis\": \"x\", \"yaxis\": \"y2\"}, {\"alignmentgroup\": \"True\", \"bingroup\": \"y\", \"hoverlabel\": {\"namelength\": 0}, \"hovertemplate\": \"countryName=Spain<br>count=%{x}\", \"legendgroup\": \"countryName=Spain\", \"marker\": {\"color\": \"#00cc96\"}, \"name\": \"countryName=Spain\", \"offsetgroup\": \"countryName=Spain\", \"opacity\": 0.5, \"showlegend\": false, \"type\": \"histogram\", \"uid\": \"5eb4684a-cfae-4f50-8bb1-cd1f5eca6c5d\", \"xaxis\": \"x2\", \"y\": [176, 171, 69, 38, 32, 31, 27, 19, 19, 16, 14, 14, 13, 11, 11, 10, 9, 9, 9, 8, 7, 6, 6, 5, 5, 5, 5, 4, 4, 4, 4, 4, 3, 3, 3, 3, 3, 3, 3, 2, 2, 2, 2, 2, 2, 1, 1, 1, 1, 1, 1, 1, 1, 1, 1, 1, 1, 1, 1, 1, 1, 1, 1, 1], \"yaxis\": \"y\"}, {\"hoverlabel\": {\"namelength\": 0}, \"hovertemplate\": \"countryName=Netherlands<br>name=%{x}<br>count=%{y}\", \"legendgroup\": \"countryName=Netherlands\", \"marker\": {\"color\": \"#ab63fa\", \"symbol\": \"circle\"}, \"mode\": \"markers\", \"name\": \"countryName=Netherlands\", \"showlegend\": true, \"type\": \"scatter\", \"uid\": \"af5b1528-4a35-4980-8971-86ee51c4b190\", \"x\": [\"Amsterdam\", \"Leiden\", \"Maastricht\", \"Utrecht\", \"Rotterdam\", \"Nijmegen\", \"Groningen\", \"Delft\", \"Wageningen\", \"Eindhoven\", \"Nieuwegein\", \"De Bilt\", \"Enschede\", \"The Hague\", \"Veldhoven\", \"Dordrecht\", \"Kampen\", \"Boxtel\", \"'s-Hertogenbosch\", \"Naarden\", \"Alkmaar\", \"Tilburg\", \"Noordwijk-Binnen\", \"Purmerend\", \"Hoofddorp\", \"Leeuwarden\", \"Vlaardingen\", \"Zwolle\", \"Hilversum\", \"Heteren\", \"Den Burg\", \"Almelo\", \"Amersfoort\", \"Arnhem\"], \"xaxis\": \"x\", \"y\": [172, 82, 75, 63, 60, 49, 40, 20, 17, 17, 14, 13, 12, 9, 6, 6, 6, 3, 3, 2, 2, 2, 2, 2, 1, 1, 1, 1, 1, 1, 1, 1, 1, 1], \"yaxis\": \"y\"}, {\"alignmentgroup\": \"True\", \"bingroup\": \"x\", \"hoverlabel\": {\"namelength\": 0}, \"hovertemplate\": \"countryName=Netherlands<br>name=%{x}<br>count=%{y}\", \"legendgroup\": \"countryName=Netherlands\", \"marker\": {\"color\": \"#ab63fa\"}, \"name\": \"countryName=Netherlands\", \"offsetgroup\": \"countryName=Netherlands\", \"opacity\": 0.5, \"showlegend\": false, \"type\": \"histogram\", \"uid\": \"6e6dcb13-a8fe-42f9-90ad-ae5c3aaa0673\", \"x\": [\"Amsterdam\", \"Leiden\", \"Maastricht\", \"Utrecht\", \"Rotterdam\", \"Nijmegen\", \"Groningen\", \"Delft\", \"Wageningen\", \"Eindhoven\", \"Nieuwegein\", \"De Bilt\", \"Enschede\", \"The Hague\", \"Veldhoven\", \"Dordrecht\", \"Kampen\", \"Boxtel\", \"'s-Hertogenbosch\", \"Naarden\", \"Alkmaar\", \"Tilburg\", \"Noordwijk-Binnen\", \"Purmerend\", \"Hoofddorp\", \"Leeuwarden\", \"Vlaardingen\", \"Zwolle\", \"Hilversum\", \"Heteren\", \"Den Burg\", \"Almelo\", \"Amersfoort\", \"Arnhem\"], \"xaxis\": \"x\", \"yaxis\": \"y2\"}, {\"alignmentgroup\": \"True\", \"bingroup\": \"y\", \"hoverlabel\": {\"namelength\": 0}, \"hovertemplate\": \"countryName=Netherlands<br>count=%{x}\", \"legendgroup\": \"countryName=Netherlands\", \"marker\": {\"color\": \"#ab63fa\"}, \"name\": \"countryName=Netherlands\", \"offsetgroup\": \"countryName=Netherlands\", \"opacity\": 0.5, \"showlegend\": false, \"type\": \"histogram\", \"uid\": \"2e0c007a-1437-4fe3-b281-496898600c5a\", \"xaxis\": \"x2\", \"y\": [172, 82, 75, 63, 60, 49, 40, 20, 17, 17, 14, 13, 12, 9, 6, 6, 6, 3, 3, 2, 2, 2, 2, 2, 1, 1, 1, 1, 1, 1, 1, 1, 1, 1], \"yaxis\": \"y\"}, {\"hoverlabel\": {\"namelength\": 0}, \"hovertemplate\": \"countryName=Italy<br>name=%{x}<br>count=%{y}\", \"legendgroup\": \"countryName=Italy\", \"marker\": {\"color\": \"#19d3f3\", \"symbol\": \"circle\"}, \"mode\": \"markers\", \"name\": \"countryName=Italy\", \"showlegend\": true, \"type\": \"scatter\", \"uid\": \"a826a8c0-a8c8-46e9-9e8a-35940ff3849b\", \"x\": [\"Milan\", \"Rome\", \"Florence\", \"Naples\", \"Padova\", \"Rozzano\", \"Turin\", \"Pisa\", \"Parma\", \"Bologna\", \"Chieti\", \"Perugia\", \"Pavia\", \"Brescia\", \"Palermo\", \"Genoa\", \"Verona\", \"Trieste\", \"Catania\", \"Bari\", \"Lecce\", \"Cagliari\", \"Udine\", \"Reggio Calabria\", \"Siena\", \"Modena\", \"Caserta\", \"Trento\", \"Bergamo\", \"L'Aquila\", \"Negrar\", \"Ancona\", \"Fisciano\", \"Campobasso\", \"Candiolo\", \"Bolzano\", \"Benevento\", \"Mangone\", \"Teramo\", \"Como\", \"Cassino\", \"Aviano\", \"Messina\", \"Veruno\", \"Monza\", \"Lodi\", \"Forl\\u00ec\", \"Foggia\", \"Ferrara\", \"Cuneo\", \"San Vito al Tagliamento\", \"Bisceglie\", \"Sassari\", \"Venice\", \"Vicenza\", \"Seriate\", \"Scandiano\", \"Lumezzane\", \"Montescano\", \"Ravenna\", \"Pozzilli\", \"Pietra Ligure\", \"Piacenza\", \"Mantova\", \"Lecco\", \"Grosseto\", \"Reggio nell'Emilia\", \"Desio\", \"San Donato Milanese\", \"Urbino\", \"Treviso\", \"Tivoli\", \"Taranto\", \"San Giovanni Rotondo\", \"Este\", \"Cotignola\", \"Cosenza\", \"Castellaneta\", \"Casalecchio di Reno\", \"Brindisi\", \"Belluno\", \"Avezzano\", \"Aversa\", \"Asti\", \"Ariano Irpino-Martiri\", \"Arezzo\", \"Aosta\"], \"xaxis\": \"x\", \"y\": [163, 154, 54, 41, 35, 35, 34, 32, 25, 24, 23, 23, 20, 19, 18, 16, 16, 15, 14, 13, 11, 11, 9, 9, 9, 8, 7, 7, 6, 6, 6, 6, 5, 5, 5, 4, 4, 4, 3, 3, 3, 3, 3, 3, 2, 2, 2, 2, 2, 2, 2, 2, 2, 2, 2, 2, 2, 1, 1, 1, 1, 1, 1, 1, 1, 1, 1, 1, 1, 1, 1, 1, 1, 1, 1, 1, 1, 1, 1, 1, 1, 1, 1, 1, 1, 1, 1], \"yaxis\": \"y\"}, {\"alignmentgroup\": \"True\", \"bingroup\": \"x\", \"hoverlabel\": {\"namelength\": 0}, \"hovertemplate\": \"countryName=Italy<br>name=%{x}<br>count=%{y}\", \"legendgroup\": \"countryName=Italy\", \"marker\": {\"color\": \"#19d3f3\"}, \"name\": \"countryName=Italy\", \"offsetgroup\": \"countryName=Italy\", \"opacity\": 0.5, \"showlegend\": false, \"type\": \"histogram\", \"uid\": \"3d892c36-ada7-42af-937e-91e6e2248116\", \"x\": [\"Milan\", \"Rome\", \"Florence\", \"Naples\", \"Padova\", \"Rozzano\", \"Turin\", \"Pisa\", \"Parma\", \"Bologna\", \"Chieti\", \"Perugia\", \"Pavia\", \"Brescia\", \"Palermo\", \"Genoa\", \"Verona\", \"Trieste\", \"Catania\", \"Bari\", \"Lecce\", \"Cagliari\", \"Udine\", \"Reggio Calabria\", \"Siena\", \"Modena\", \"Caserta\", \"Trento\", \"Bergamo\", \"L'Aquila\", \"Negrar\", \"Ancona\", \"Fisciano\", \"Campobasso\", \"Candiolo\", \"Bolzano\", \"Benevento\", \"Mangone\", \"Teramo\", \"Como\", \"Cassino\", \"Aviano\", \"Messina\", \"Veruno\", \"Monza\", \"Lodi\", \"Forl\\u00ec\", \"Foggia\", \"Ferrara\", \"Cuneo\", \"San Vito al Tagliamento\", \"Bisceglie\", \"Sassari\", \"Venice\", \"Vicenza\", \"Seriate\", \"Scandiano\", \"Lumezzane\", \"Montescano\", \"Ravenna\", \"Pozzilli\", \"Pietra Ligure\", \"Piacenza\", \"Mantova\", \"Lecco\", \"Grosseto\", \"Reggio nell'Emilia\", \"Desio\", \"San Donato Milanese\", \"Urbino\", \"Treviso\", \"Tivoli\", \"Taranto\", \"San Giovanni Rotondo\", \"Este\", \"Cotignola\", \"Cosenza\", \"Castellaneta\", \"Casalecchio di Reno\", \"Brindisi\", \"Belluno\", \"Avezzano\", \"Aversa\", \"Asti\", \"Ariano Irpino-Martiri\", \"Arezzo\", \"Aosta\"], \"xaxis\": \"x\", \"yaxis\": \"y2\"}, {\"alignmentgroup\": \"True\", \"bingroup\": \"y\", \"hoverlabel\": {\"namelength\": 0}, \"hovertemplate\": \"countryName=Italy<br>count=%{x}\", \"legendgroup\": \"countryName=Italy\", \"marker\": {\"color\": \"#19d3f3\"}, \"name\": \"countryName=Italy\", \"offsetgroup\": \"countryName=Italy\", \"opacity\": 0.5, \"showlegend\": false, \"type\": \"histogram\", \"uid\": \"6f3707d4-d6fa-4c3b-9273-cb757c9d4f7f\", \"xaxis\": \"x2\", \"y\": [163, 154, 54, 41, 35, 35, 34, 32, 25, 24, 23, 23, 20, 19, 18, 16, 16, 15, 14, 13, 11, 11, 9, 9, 9, 8, 7, 7, 6, 6, 6, 6, 5, 5, 5, 4, 4, 4, 3, 3, 3, 3, 3, 3, 2, 2, 2, 2, 2, 2, 2, 2, 2, 2, 2, 2, 2, 1, 1, 1, 1, 1, 1, 1, 1, 1, 1, 1, 1, 1, 1, 1, 1, 1, 1, 1, 1, 1, 1, 1, 1, 1, 1, 1, 1, 1, 1], \"yaxis\": \"y\"}, {\"hoverlabel\": {\"namelength\": 0}, \"hovertemplate\": \"countryName=Switzerland<br>name=%{x}<br>count=%{y}\", \"legendgroup\": \"countryName=Switzerland\", \"marker\": {\"color\": \"#e763fa\", \"symbol\": \"circle\"}, \"mode\": \"markers\", \"name\": \"countryName=Switzerland\", \"showlegend\": true, \"type\": \"scatter\", \"uid\": \"13eeef2c-85d8-4cf0-9523-b5bc83741805\", \"x\": [\"Z\\u00fcrich\", \"Lausanne\", \"Gen\\u00e8ve\", \"Basel\", \"Bern\", \"Fribourg\", \"Lugano\", \"Sankt Gallen\", \"Luzern\", \"Neuch\\u00e2tel\", \"Genolier\", \"Villigen\", \"R\\u00fcschlikon\", \"Kaiseraugst\", \"Plan-les-Ouates\", \"Frick\", \"Winterthur\", \"D\\u00fcbendorf\", \"Bassersdorf\", \"Davos\", \"Bellinzona\", \"Z\\u00fcrich (Kreis 7) / Hirslanden\", \"Kirchlindach\", \"Sitten\", \"Vevey\", \"Wallisellen\"], \"xaxis\": \"x\", \"y\": [147, 114, 84, 55, 46, 26, 24, 14, 11, 10, 10, 8, 4, 4, 2, 2, 2, 2, 2, 2, 2, 1, 1, 1, 1, 1], \"yaxis\": \"y\"}, {\"alignmentgroup\": \"True\", \"bingroup\": \"x\", \"hoverlabel\": {\"namelength\": 0}, \"hovertemplate\": \"countryName=Switzerland<br>name=%{x}<br>count=%{y}\", \"legendgroup\": \"countryName=Switzerland\", \"marker\": {\"color\": \"#e763fa\"}, \"name\": \"countryName=Switzerland\", \"offsetgroup\": \"countryName=Switzerland\", \"opacity\": 0.5, \"showlegend\": false, \"type\": \"histogram\", \"uid\": \"6c174960-c8d6-42ff-905a-33215f36724a\", \"x\": [\"Z\\u00fcrich\", \"Lausanne\", \"Gen\\u00e8ve\", \"Basel\", \"Bern\", \"Fribourg\", \"Lugano\", \"Sankt Gallen\", \"Luzern\", \"Neuch\\u00e2tel\", \"Genolier\", \"Villigen\", \"R\\u00fcschlikon\", \"Kaiseraugst\", \"Plan-les-Ouates\", \"Frick\", \"Winterthur\", \"D\\u00fcbendorf\", \"Bassersdorf\", \"Davos\", \"Bellinzona\", \"Z\\u00fcrich (Kreis 7) / Hirslanden\", \"Kirchlindach\", \"Sitten\", \"Vevey\", \"Wallisellen\"], \"xaxis\": \"x\", \"yaxis\": \"y2\"}, {\"alignmentgroup\": \"True\", \"bingroup\": \"y\", \"hoverlabel\": {\"namelength\": 0}, \"hovertemplate\": \"countryName=Switzerland<br>count=%{x}\", \"legendgroup\": \"countryName=Switzerland\", \"marker\": {\"color\": \"#e763fa\"}, \"name\": \"countryName=Switzerland\", \"offsetgroup\": \"countryName=Switzerland\", \"opacity\": 0.5, \"showlegend\": false, \"type\": \"histogram\", \"uid\": \"78f28353-8bab-41da-9da5-6a9070dcd648\", \"xaxis\": \"x2\", \"y\": [147, 114, 84, 55, 46, 26, 24, 14, 11, 10, 10, 8, 4, 4, 2, 2, 2, 2, 2, 2, 2, 1, 1, 1, 1, 1], \"yaxis\": \"y\"}, {\"hoverlabel\": {\"namelength\": 0}, \"hovertemplate\": \"countryName=Germany<br>name=%{x}<br>count=%{y}\", \"legendgroup\": \"countryName=Germany\", \"marker\": {\"color\": \"#FECB52\", \"symbol\": \"circle\"}, \"mode\": \"markers\", \"name\": \"countryName=Germany\", \"showlegend\": true, \"type\": \"scatter\", \"uid\": \"3741f70a-f4f1-4216-97f6-449a92ada94d\", \"x\": [\"Berlin\", \"Munich\", \"Heidelberg\", \"Hamburg\", \"Leipzig\", \"Freiburg\", \"K\\u00f6ln\", \"G\\u00f6ttingen\", \"Erlangen\", \"Essen\", \"Potsdam\", \"Garching bei M\\u00fcnchen\", \"Frankfurt am Main\", \"Bonn\", \"T\\u00fcbingen\", \"Gie\\u00dfen\", \"Bremen\", \"Mannheim\", \"Dresden\", \"D\\u00fcsseldorf\", \"Kassel\", \"Bayreuth\", \"Osnabr\\u00fcck\", \"Bielefeld\", \"Hannover\", \"Kaiserslautern\", \"Greifswald\", \"Stuttgart\", \"W\\u00fcrzburg\", \"M\\u00fcnster\", \"Kiel\", \"Braunschweig\", \"Aachen\", \"Darmstadt\", \"Bochum\", \"L\\u00fcbeck\", \"Jena\", \"Ludwigshafen am Rhein\", \"Marburg an der Lahn\", \"Mainz\", \"Karlsruhe\", \"Ulm\", \"Borstel\", \"J\\u00fclich\", \"Homburg\", \"Rostock\", \"Bad Nauheim\", \"Magdeburg\", \"N\\u00fcrnberg\", \"Offenbach\", \"Oberkochen\", \"Regensburg\", \"Halle (Saale)\", \"Geesthacht\", \"Ingelheim am Rhein\", \"Augsburg\", \"Cottbus\", \"Chemnitz\", \"Freising\", \"Witten\", \"Trier\", \"Saarbr\\u00fccken\", \"Sankt Augustin\", \"Schenefeld\", \"Erfurt\", \"Wiesbaden\", \"Oldenburg\", \"Bad Mergentheim\", \"Denzlingen\", \"B\\u00f6blingen\", \"Bad Homburg vor der H\\u00f6he\", \"Strausberg\", \"Eisenach\", \"Eichst\\u00e4tt\", \"Werdohl\", \"Mittweida\", \"Unterschlei\\u00dfheim\", \"Garching an der Alz\", \"F\\u00fcrth\", \"Friedrichshafen\", \"Warendorf\", \"Wesel\", \"Frankfurt (Oder)\", \"Ettlingen\", \"Tuttlingen\", \"Esslingen\", \"We\\u00dfling\", \"Dortmund\", \"Sigmaringen\", \"Denkendorf\", \"M\\u00f6nchengladbach\", \"Murnau am Staffelsee\", \"Lengede\", \"Langenfeld\", \"Konstanz\", \"Neubrandenburg\", \"Oberschlei\\u00dfheim\", \"Pinneberg\", \"Siegen\", \"Rendsburg\", \"Rheda-Wiedenbr\\u00fcck\", \"Ilmenau\", \"Rosenheim\", \"Herne\", \"Hameln\", \"Schmallenberg\", \"Dachau\", \"Bad Oeynhausen\", \"Bremerhaven\", \"Bottrop\", \"Bad M\\u00fcnstereifel\", \"Bad Berka\", \"Albstadt\", \"L\\u00fcneburg\"], \"xaxis\": \"x\", \"y\": [135, 115, 106, 89, 69, 57, 57, 54, 41, 41, 40, 38, 38, 32, 31, 29, 29, 28, 25, 22, 21, 21, 20, 20, 20, 19, 19, 18, 17, 17, 16, 16, 14, 14, 13, 12, 12, 10, 10, 10, 10, 10, 9, 9, 8, 7, 7, 6, 6, 5, 5, 5, 5, 5, 4, 4, 4, 4, 4, 4, 3, 3, 3, 3, 3, 3, 3, 3, 3, 2, 2, 2, 2, 2, 2, 1, 1, 1, 1, 1, 1, 1, 1, 1, 1, 1, 1, 1, 1, 1, 1, 1, 1, 1, 1, 1, 1, 1, 1, 1, 1, 1, 1, 1, 1, 1, 1, 1, 1, 1, 1, 1, 1, 1], \"yaxis\": \"y\"}, {\"alignmentgroup\": \"True\", \"bingroup\": \"x\", \"hoverlabel\": {\"namelength\": 0}, \"hovertemplate\": \"countryName=Germany<br>name=%{x}<br>count=%{y}\", \"legendgroup\": \"countryName=Germany\", \"marker\": {\"color\": \"#FECB52\"}, \"name\": \"countryName=Germany\", \"offsetgroup\": \"countryName=Germany\", \"opacity\": 0.5, \"showlegend\": false, \"type\": \"histogram\", \"uid\": \"43b0093e-a483-42c9-9f97-869306077b18\", \"x\": [\"Berlin\", \"Munich\", \"Heidelberg\", \"Hamburg\", \"Leipzig\", \"Freiburg\", \"K\\u00f6ln\", \"G\\u00f6ttingen\", \"Erlangen\", \"Essen\", \"Potsdam\", \"Garching bei M\\u00fcnchen\", \"Frankfurt am Main\", \"Bonn\", \"T\\u00fcbingen\", \"Gie\\u00dfen\", \"Bremen\", \"Mannheim\", \"Dresden\", \"D\\u00fcsseldorf\", \"Kassel\", \"Bayreuth\", \"Osnabr\\u00fcck\", \"Bielefeld\", \"Hannover\", \"Kaiserslautern\", \"Greifswald\", \"Stuttgart\", \"W\\u00fcrzburg\", \"M\\u00fcnster\", \"Kiel\", \"Braunschweig\", \"Aachen\", \"Darmstadt\", \"Bochum\", \"L\\u00fcbeck\", \"Jena\", \"Ludwigshafen am Rhein\", \"Marburg an der Lahn\", \"Mainz\", \"Karlsruhe\", \"Ulm\", \"Borstel\", \"J\\u00fclich\", \"Homburg\", \"Rostock\", \"Bad Nauheim\", \"Magdeburg\", \"N\\u00fcrnberg\", \"Offenbach\", \"Oberkochen\", \"Regensburg\", \"Halle (Saale)\", \"Geesthacht\", \"Ingelheim am Rhein\", \"Augsburg\", \"Cottbus\", \"Chemnitz\", \"Freising\", \"Witten\", \"Trier\", \"Saarbr\\u00fccken\", \"Sankt Augustin\", \"Schenefeld\", \"Erfurt\", \"Wiesbaden\", \"Oldenburg\", \"Bad Mergentheim\", \"Denzlingen\", \"B\\u00f6blingen\", \"Bad Homburg vor der H\\u00f6he\", \"Strausberg\", \"Eisenach\", \"Eichst\\u00e4tt\", \"Werdohl\", \"Mittweida\", \"Unterschlei\\u00dfheim\", \"Garching an der Alz\", \"F\\u00fcrth\", \"Friedrichshafen\", \"Warendorf\", \"Wesel\", \"Frankfurt (Oder)\", \"Ettlingen\", \"Tuttlingen\", \"Esslingen\", \"We\\u00dfling\", \"Dortmund\", \"Sigmaringen\", \"Denkendorf\", \"M\\u00f6nchengladbach\", \"Murnau am Staffelsee\", \"Lengede\", \"Langenfeld\", \"Konstanz\", \"Neubrandenburg\", \"Oberschlei\\u00dfheim\", \"Pinneberg\", \"Siegen\", \"Rendsburg\", \"Rheda-Wiedenbr\\u00fcck\", \"Ilmenau\", \"Rosenheim\", \"Herne\", \"Hameln\", \"Schmallenberg\", \"Dachau\", \"Bad Oeynhausen\", \"Bremerhaven\", \"Bottrop\", \"Bad M\\u00fcnstereifel\", \"Bad Berka\", \"Albstadt\", \"L\\u00fcneburg\"], \"xaxis\": \"x\", \"yaxis\": \"y2\"}, {\"alignmentgroup\": \"True\", \"bingroup\": \"y\", \"hoverlabel\": {\"namelength\": 0}, \"hovertemplate\": \"countryName=Germany<br>count=%{x}\", \"legendgroup\": \"countryName=Germany\", \"marker\": {\"color\": \"#FECB52\"}, \"name\": \"countryName=Germany\", \"offsetgroup\": \"countryName=Germany\", \"opacity\": 0.5, \"showlegend\": false, \"type\": \"histogram\", \"uid\": \"f9e2b5b6-3f5f-4aef-a15a-43e7d11b5181\", \"xaxis\": \"x2\", \"y\": [135, 115, 106, 89, 69, 57, 57, 54, 41, 41, 40, 38, 38, 32, 31, 29, 29, 28, 25, 22, 21, 21, 20, 20, 20, 19, 19, 18, 17, 17, 16, 16, 14, 14, 13, 12, 12, 10, 10, 10, 10, 10, 9, 9, 8, 7, 7, 6, 6, 5, 5, 5, 5, 5, 4, 4, 4, 4, 4, 4, 3, 3, 3, 3, 3, 3, 3, 3, 3, 2, 2, 2, 2, 2, 2, 1, 1, 1, 1, 1, 1, 1, 1, 1, 1, 1, 1, 1, 1, 1, 1, 1, 1, 1, 1, 1, 1, 1, 1, 1, 1, 1, 1, 1, 1, 1, 1, 1, 1, 1, 1, 1, 1, 1], \"yaxis\": \"y\"}, {\"hoverlabel\": {\"namelength\": 0}, \"hovertemplate\": \"countryName=Sweden<br>name=%{x}<br>count=%{y}\", \"legendgroup\": \"countryName=Sweden\", \"marker\": {\"color\": \"#FFA15A\", \"symbol\": \"circle\"}, \"mode\": \"markers\", \"name\": \"countryName=Sweden\", \"showlegend\": true, \"type\": \"scatter\", \"uid\": \"ae0eb511-c985-4f4a-b256-d1675cfc4341\", \"x\": [\"Stockholm\", \"G\\u00f6teborg\", \"Lund\", \"Uppsala\", \"Link\\u00f6ping\", \"Ume\\u00e5\", \"\\u00d6rebro\", \"S\\u00f6dert\\u00e4lje\", \"Norrk\\u00f6ping\", \"Solna\", \"Sk\\u00f6vde\", \"Nacka\", \"M\\u00f6lndal\", \"Malm\\u00f6\", \"Karlstad\", \"Lule\\u00e5\", \"Kista\", \"Eskilstuna\", \"Falun\", \"G\\u00e4vle\"], \"xaxis\": \"x\", \"y\": [126, 87, 68, 60, 36, 25, 16, 7, 5, 4, 4, 2, 2, 2, 2, 2, 1, 1, 1, 1], \"yaxis\": \"y\"}, {\"alignmentgroup\": \"True\", \"bingroup\": \"x\", \"hoverlabel\": {\"namelength\": 0}, \"hovertemplate\": \"countryName=Sweden<br>name=%{x}<br>count=%{y}\", \"legendgroup\": \"countryName=Sweden\", \"marker\": {\"color\": \"#FFA15A\"}, \"name\": \"countryName=Sweden\", \"offsetgroup\": \"countryName=Sweden\", \"opacity\": 0.5, \"showlegend\": false, \"type\": \"histogram\", \"uid\": \"1ecca91a-7821-4ecc-a039-2a5b3854287e\", \"x\": [\"Stockholm\", \"G\\u00f6teborg\", \"Lund\", \"Uppsala\", \"Link\\u00f6ping\", \"Ume\\u00e5\", \"\\u00d6rebro\", \"S\\u00f6dert\\u00e4lje\", \"Norrk\\u00f6ping\", \"Solna\", \"Sk\\u00f6vde\", \"Nacka\", \"M\\u00f6lndal\", \"Malm\\u00f6\", \"Karlstad\", \"Lule\\u00e5\", \"Kista\", \"Eskilstuna\", \"Falun\", \"G\\u00e4vle\"], \"xaxis\": \"x\", \"yaxis\": \"y2\"}, {\"alignmentgroup\": \"True\", \"bingroup\": \"y\", \"hoverlabel\": {\"namelength\": 0}, \"hovertemplate\": \"countryName=Sweden<br>count=%{x}\", \"legendgroup\": \"countryName=Sweden\", \"marker\": {\"color\": \"#FFA15A\"}, \"name\": \"countryName=Sweden\", \"offsetgroup\": \"countryName=Sweden\", \"opacity\": 0.5, \"showlegend\": false, \"type\": \"histogram\", \"uid\": \"79a7526e-a3d6-4095-9ef6-bf5946142487\", \"xaxis\": \"x2\", \"y\": [126, 87, 68, 60, 36, 25, 16, 7, 5, 4, 4, 2, 2, 2, 2, 2, 1, 1, 1, 1], \"yaxis\": \"y\"}, {\"hoverlabel\": {\"namelength\": 0}, \"hovertemplate\": \"countryName=Norway<br>name=%{x}<br>count=%{y}\", \"legendgroup\": \"countryName=Norway\", \"marker\": {\"color\": \"#FF6692\", \"symbol\": \"circle\"}, \"mode\": \"markers\", \"name\": \"countryName=Norway\", \"showlegend\": true, \"type\": \"scatter\", \"uid\": \"1d493076-ccb2-461b-b5fa-ab92ec64cb60\", \"x\": [\"Oslo\", \"Bergen\", \"Stavanger\", \"Lillestr\\u00f8m\", \"Trondheim\", \"Troms\\u00f8\", \"\\u00c5s\", \"Sandvika\", \"Hov\", \"Drammen\", \"Asker\", \"T\\u00f8nsberg\", \"Arendal\"], \"xaxis\": \"x\", \"y\": [108, 39, 19, 17, 15, 14, 6, 5, 3, 2, 2, 1, 1], \"yaxis\": \"y\"}, {\"alignmentgroup\": \"True\", \"bingroup\": \"x\", \"hoverlabel\": {\"namelength\": 0}, \"hovertemplate\": \"countryName=Norway<br>name=%{x}<br>count=%{y}\", \"legendgroup\": \"countryName=Norway\", \"marker\": {\"color\": \"#FF6692\"}, \"name\": \"countryName=Norway\", \"offsetgroup\": \"countryName=Norway\", \"opacity\": 0.5, \"showlegend\": false, \"type\": \"histogram\", \"uid\": \"8ed1544c-6702-482d-9a2a-8c5d2682cef3\", \"x\": [\"Oslo\", \"Bergen\", \"Stavanger\", \"Lillestr\\u00f8m\", \"Trondheim\", \"Troms\\u00f8\", \"\\u00c5s\", \"Sandvika\", \"Hov\", \"Drammen\", \"Asker\", \"T\\u00f8nsberg\", \"Arendal\"], \"xaxis\": \"x\", \"yaxis\": \"y2\"}, {\"alignmentgroup\": \"True\", \"bingroup\": \"y\", \"hoverlabel\": {\"namelength\": 0}, \"hovertemplate\": \"countryName=Norway<br>count=%{x}\", \"legendgroup\": \"countryName=Norway\", \"marker\": {\"color\": \"#FF6692\"}, \"name\": \"countryName=Norway\", \"offsetgroup\": \"countryName=Norway\", \"opacity\": 0.5, \"showlegend\": false, \"type\": \"histogram\", \"uid\": \"460ff4f5-10c5-4e2d-90f3-d370ec643f35\", \"xaxis\": \"x2\", \"y\": [108, 39, 19, 17, 15, 14, 6, 5, 3, 2, 2, 1, 1], \"yaxis\": \"y\"}, {\"hoverlabel\": {\"namelength\": 0}, \"hovertemplate\": \"countryName=Belgium<br>name=%{x}<br>count=%{y}\", \"legendgroup\": \"countryName=Belgium\", \"marker\": {\"color\": \"#B6E880\", \"symbol\": \"circle\"}, \"mode\": \"markers\", \"name\": \"countryName=Belgium\", \"showlegend\": true, \"type\": \"scatter\", \"uid\": \"1ffbc7c2-7479-4914-9b2e-cd875ab23e88\", \"x\": [\"Leuven\", \"Gent\", \"Brussels\", \"Antwerpen\", \"Louvain-la-Neuve\", \"Li\\u00e8ge\", \"Charleroi\", \"Aalst\", \"Torhout\", \"Sint-Niklaas\", \"Bonheiden\", \"Geel\", \"Gembloux\", \"Mechelen\", \"Melle\", \"Merelbeke\", \"Mol\", \"Mons\", \"Namur\"], \"xaxis\": \"x\", \"y\": [101, 100, 84, 56, 18, 18, 5, 5, 4, 2, 1, 1, 1, 1, 1, 1, 1, 1, 1], \"yaxis\": \"y\"}, {\"alignmentgroup\": \"True\", \"bingroup\": \"x\", \"hoverlabel\": {\"namelength\": 0}, \"hovertemplate\": \"countryName=Belgium<br>name=%{x}<br>count=%{y}\", \"legendgroup\": \"countryName=Belgium\", \"marker\": {\"color\": \"#B6E880\"}, \"name\": \"countryName=Belgium\", \"offsetgroup\": \"countryName=Belgium\", \"opacity\": 0.5, \"showlegend\": false, \"type\": \"histogram\", \"uid\": \"c60a9879-6a53-4b4b-96b0-dd790d55f3c6\", \"x\": [\"Leuven\", \"Gent\", \"Brussels\", \"Antwerpen\", \"Louvain-la-Neuve\", \"Li\\u00e8ge\", \"Charleroi\", \"Aalst\", \"Torhout\", \"Sint-Niklaas\", \"Bonheiden\", \"Geel\", \"Gembloux\", \"Mechelen\", \"Melle\", \"Merelbeke\", \"Mol\", \"Mons\", \"Namur\"], \"xaxis\": \"x\", \"yaxis\": \"y2\"}, {\"alignmentgroup\": \"True\", \"bingroup\": \"y\", \"hoverlabel\": {\"namelength\": 0}, \"hovertemplate\": \"countryName=Belgium<br>count=%{x}\", \"legendgroup\": \"countryName=Belgium\", \"marker\": {\"color\": \"#B6E880\"}, \"name\": \"countryName=Belgium\", \"offsetgroup\": \"countryName=Belgium\", \"opacity\": 0.5, \"showlegend\": false, \"type\": \"histogram\", \"uid\": \"e9136efa-64bb-4ea5-a284-ede29c69c3f5\", \"xaxis\": \"x2\", \"y\": [101, 100, 84, 56, 18, 18, 5, 5, 4, 2, 1, 1, 1, 1, 1, 1, 1, 1, 1], \"yaxis\": \"y\"}, {\"hoverlabel\": {\"namelength\": 0}, \"hovertemplate\": \"countryName=Denmark<br>name=%{x}<br>count=%{y}\", \"legendgroup\": \"countryName=Denmark\", \"marker\": {\"color\": \"#636efa\", \"symbol\": \"circle\"}, \"mode\": \"markers\", \"name\": \"countryName=Denmark\", \"showlegend\": true, \"type\": \"scatter\", \"uid\": \"e627e6dc-4766-4278-a6c2-63d1f3691915\", \"x\": [\"\\u00c5rhus\", \"Copenhagen\", \"Kongens Lyngby\", \"Aalborg\", \"Odense\", \"Roskilde\", \"Vejle\", \"Hvidovre\", \"Varde\", \"Herlev\", \"Bjerringbro\", \"Glostrup\", \"Holb\\u00e6k\", \"H\\u00f8rsholm\", \"Nyk\\u00f8bing Falster\", \"Taastrup\"], \"xaxis\": \"x\", \"y\": [96, 86, 31, 18, 14, 12, 6, 6, 4, 2, 1, 1, 1, 1, 1, 1], \"yaxis\": \"y\"}, {\"alignmentgroup\": \"True\", \"bingroup\": \"x\", \"hoverlabel\": {\"namelength\": 0}, \"hovertemplate\": \"countryName=Denmark<br>name=%{x}<br>count=%{y}\", \"legendgroup\": \"countryName=Denmark\", \"marker\": {\"color\": \"#636efa\"}, \"name\": \"countryName=Denmark\", \"offsetgroup\": \"countryName=Denmark\", \"opacity\": 0.5, \"showlegend\": false, \"type\": \"histogram\", \"uid\": \"31d12fd8-ce72-48a3-862f-1b7690256c6d\", \"x\": [\"\\u00c5rhus\", \"Copenhagen\", \"Kongens Lyngby\", \"Aalborg\", \"Odense\", \"Roskilde\", \"Vejle\", \"Hvidovre\", \"Varde\", \"Herlev\", \"Bjerringbro\", \"Glostrup\", \"Holb\\u00e6k\", \"H\\u00f8rsholm\", \"Nyk\\u00f8bing Falster\", \"Taastrup\"], \"xaxis\": \"x\", \"yaxis\": \"y2\"}, {\"alignmentgroup\": \"True\", \"bingroup\": \"y\", \"hoverlabel\": {\"namelength\": 0}, \"hovertemplate\": \"countryName=Denmark<br>count=%{x}\", \"legendgroup\": \"countryName=Denmark\", \"marker\": {\"color\": \"#636efa\"}, \"name\": \"countryName=Denmark\", \"offsetgroup\": \"countryName=Denmark\", \"opacity\": 0.5, \"showlegend\": false, \"type\": \"histogram\", \"uid\": \"08c2999d-3b9d-4822-9c6d-23473f539e07\", \"xaxis\": \"x2\", \"y\": [96, 86, 31, 18, 14, 12, 6, 6, 4, 2, 1, 1, 1, 1, 1, 1], \"yaxis\": \"y\"}, {\"hoverlabel\": {\"namelength\": 0}, \"hovertemplate\": \"countryName=Portugal<br>name=%{x}<br>count=%{y}\", \"legendgroup\": \"countryName=Portugal\", \"marker\": {\"color\": \"#EF553B\", \"symbol\": \"circle\"}, \"mode\": \"markers\", \"name\": \"countryName=Portugal\", \"showlegend\": true, \"type\": \"scatter\", \"uid\": \"b2e50185-11f8-47b7-8d7d-d70d0a1db6d1\", \"x\": [\"Lisbon\", \"Porto\", \"Coimbra\", \"Braga\", \"Aveiro\", \"Porto Salvo\", \"Amadora\", \"Carnaxide\", \"Oeiras\", \"\\u00c9vora\", \"Leiria\", \"Matosinhos\", \"Castelo Branco\", \"Funchal\", \"Queluz\"], \"xaxis\": \"x\", \"y\": [94, 48, 24, 22, 6, 5, 3, 3, 3, 2, 2, 1, 1, 1, 1], \"yaxis\": \"y\"}, {\"alignmentgroup\": \"True\", \"bingroup\": \"x\", \"hoverlabel\": {\"namelength\": 0}, \"hovertemplate\": \"countryName=Portugal<br>name=%{x}<br>count=%{y}\", \"legendgroup\": \"countryName=Portugal\", \"marker\": {\"color\": \"#EF553B\"}, \"name\": \"countryName=Portugal\", \"offsetgroup\": \"countryName=Portugal\", \"opacity\": 0.5, \"showlegend\": false, \"type\": \"histogram\", \"uid\": \"c207cee0-b0be-4a51-bfd6-dadd64f67e46\", \"x\": [\"Lisbon\", \"Porto\", \"Coimbra\", \"Braga\", \"Aveiro\", \"Porto Salvo\", \"Amadora\", \"Carnaxide\", \"Oeiras\", \"\\u00c9vora\", \"Leiria\", \"Matosinhos\", \"Castelo Branco\", \"Funchal\", \"Queluz\"], \"xaxis\": \"x\", \"yaxis\": \"y2\"}, {\"alignmentgroup\": \"True\", \"bingroup\": \"y\", \"hoverlabel\": {\"namelength\": 0}, \"hovertemplate\": \"countryName=Portugal<br>count=%{x}\", \"legendgroup\": \"countryName=Portugal\", \"marker\": {\"color\": \"#EF553B\"}, \"name\": \"countryName=Portugal\", \"offsetgroup\": \"countryName=Portugal\", \"opacity\": 0.5, \"showlegend\": false, \"type\": \"histogram\", \"uid\": \"af8bb16f-545f-4693-939a-42798b079a86\", \"xaxis\": \"x2\", \"y\": [94, 48, 24, 22, 6, 5, 3, 3, 3, 2, 2, 1, 1, 1, 1], \"yaxis\": \"y\"}, {\"hoverlabel\": {\"namelength\": 0}, \"hovertemplate\": \"countryName=Finland<br>name=%{x}<br>count=%{y}\", \"legendgroup\": \"countryName=Finland\", \"marker\": {\"color\": \"#00cc96\", \"symbol\": \"circle\"}, \"mode\": \"markers\", \"name\": \"countryName=Finland\", \"showlegend\": true, \"type\": \"scatter\", \"uid\": \"a9916ba0-f201-4772-8e8e-46919c40a57b\", \"x\": [\"Helsinki\", \"Turku\", \"Kuopio\", \"Tampere\", \"Oulu\", \"Espoo\", \"Jyv\\u00e4skyl\\u00e4\", \"Jokioinen\"], \"xaxis\": \"x\", \"y\": [91, 42, 23, 18, 13, 5, 3, 1], \"yaxis\": \"y\"}, {\"alignmentgroup\": \"True\", \"bingroup\": \"x\", \"hoverlabel\": {\"namelength\": 0}, \"hovertemplate\": \"countryName=Finland<br>name=%{x}<br>count=%{y}\", \"legendgroup\": \"countryName=Finland\", \"marker\": {\"color\": \"#00cc96\"}, \"name\": \"countryName=Finland\", \"offsetgroup\": \"countryName=Finland\", \"opacity\": 0.5, \"showlegend\": false, \"type\": \"histogram\", \"uid\": \"052bffeb-da87-4610-850f-3c3a8093bee2\", \"x\": [\"Helsinki\", \"Turku\", \"Kuopio\", \"Tampere\", \"Oulu\", \"Espoo\", \"Jyv\\u00e4skyl\\u00e4\", \"Jokioinen\"], \"xaxis\": \"x\", \"yaxis\": \"y2\"}, {\"alignmentgroup\": \"True\", \"bingroup\": \"y\", \"hoverlabel\": {\"namelength\": 0}, \"hovertemplate\": \"countryName=Finland<br>count=%{x}\", \"legendgroup\": \"countryName=Finland\", \"marker\": {\"color\": \"#00cc96\"}, \"name\": \"countryName=Finland\", \"offsetgroup\": \"countryName=Finland\", \"opacity\": 0.5, \"showlegend\": false, \"type\": \"histogram\", \"uid\": \"d47002b4-3b83-4d47-9fd7-d76a72a2897d\", \"xaxis\": \"x2\", \"y\": [91, 42, 23, 18, 13, 5, 3, 1], \"yaxis\": \"y\"}, {\"hoverlabel\": {\"namelength\": 0}, \"hovertemplate\": \"countryName=Russia<br>name=%{x}<br>count=%{y}\", \"legendgroup\": \"countryName=Russia\", \"marker\": {\"color\": \"#ab63fa\", \"symbol\": \"circle\"}, \"mode\": \"markers\", \"name\": \"countryName=Russia\", \"showlegend\": true, \"type\": \"scatter\", \"uid\": \"53c6c9b2-e651-4a68-9937-991c7df84c64\", \"x\": [\"Moscow\", \"Novosibirsk\", \"Saint Petersburg\", \"Yekaterinburg\", \"Krasnoyarsk\", \"Nizhniy Novgorod\", \"Kazan\", \"Irkutsk\", \"Akademgorodok\", \"Kaliningrad\", \"Petropavlovsk-Kamchatsky\", \"Skolkovo\", \"Dolgoprudnyy\", \"Chelyabinsk\", \"Vladimir\", \"Amga\", \"Kemerovo\", \"Perm\", \"Komsomol\\u2019skiy\", \"Khimki\", \"Vladivostok\", \"Dubna\", \"Ryazan\\u2019\"], \"xaxis\": \"x\", \"y\": [90, 40, 26, 5, 5, 4, 4, 4, 4, 3, 2, 2, 2, 2, 1, 1, 1, 1, 1, 1, 1, 1, 1], \"yaxis\": \"y\"}, {\"alignmentgroup\": \"True\", \"bingroup\": \"x\", \"hoverlabel\": {\"namelength\": 0}, \"hovertemplate\": \"countryName=Russia<br>name=%{x}<br>count=%{y}\", \"legendgroup\": \"countryName=Russia\", \"marker\": {\"color\": \"#ab63fa\"}, \"name\": \"countryName=Russia\", \"offsetgroup\": \"countryName=Russia\", \"opacity\": 0.5, \"showlegend\": false, \"type\": \"histogram\", \"uid\": \"a5bb3a43-56be-466f-9159-c25dda998ad3\", \"x\": [\"Moscow\", \"Novosibirsk\", \"Saint Petersburg\", \"Yekaterinburg\", \"Krasnoyarsk\", \"Nizhniy Novgorod\", \"Kazan\", \"Irkutsk\", \"Akademgorodok\", \"Kaliningrad\", \"Petropavlovsk-Kamchatsky\", \"Skolkovo\", \"Dolgoprudnyy\", \"Chelyabinsk\", \"Vladimir\", \"Amga\", \"Kemerovo\", \"Perm\", \"Komsomol\\u2019skiy\", \"Khimki\", \"Vladivostok\", \"Dubna\", \"Ryazan\\u2019\"], \"xaxis\": \"x\", \"yaxis\": \"y2\"}, {\"alignmentgroup\": \"True\", \"bingroup\": \"y\", \"hoverlabel\": {\"namelength\": 0}, \"hovertemplate\": \"countryName=Russia<br>count=%{x}\", \"legendgroup\": \"countryName=Russia\", \"marker\": {\"color\": \"#ab63fa\"}, \"name\": \"countryName=Russia\", \"offsetgroup\": \"countryName=Russia\", \"opacity\": 0.5, \"showlegend\": false, \"type\": \"histogram\", \"uid\": \"bab7dad7-ce8d-4697-8c67-490573787d2f\", \"xaxis\": \"x2\", \"y\": [90, 40, 26, 5, 5, 4, 4, 4, 4, 3, 2, 2, 2, 2, 1, 1, 1, 1, 1, 1, 1, 1, 1], \"yaxis\": \"y\"}, {\"hoverlabel\": {\"namelength\": 0}, \"hovertemplate\": \"countryName=Greece<br>name=%{x}<br>count=%{y}\", \"legendgroup\": \"countryName=Greece\", \"marker\": {\"color\": \"#19d3f3\", \"symbol\": \"circle\"}, \"mode\": \"markers\", \"name\": \"countryName=Greece\", \"showlegend\": true, \"type\": \"scatter\", \"uid\": \"0a4298b9-6161-4e10-a397-c677730fa7f6\", \"x\": [\"Athens\", \"Thessalon\\u00edki\", \"Ir\\u00e1kleion\", \"Io\\u00e1nnina\", \"P\\u00e1tra\", \"Chani\\u00e1\", \"Rethymno\", \"Volos\", \"Mytilene\", \"Komotin\\u00ed\", \"Kater\\u00edni\", \"Maro\\u00fasi\", \"Tr\\u00edpoli\", \"Piraeus\", \"Lam\\u00eda\", \"L\\u00e1risa\"], \"xaxis\": \"x\", \"y\": [79, 44, 12, 9, 6, 5, 5, 3, 2, 2, 1, 1, 1, 1, 1, 1], \"yaxis\": \"y\"}, {\"alignmentgroup\": \"True\", \"bingroup\": \"x\", \"hoverlabel\": {\"namelength\": 0}, \"hovertemplate\": \"countryName=Greece<br>name=%{x}<br>count=%{y}\", \"legendgroup\": \"countryName=Greece\", \"marker\": {\"color\": \"#19d3f3\"}, \"name\": \"countryName=Greece\", \"offsetgroup\": \"countryName=Greece\", \"opacity\": 0.5, \"showlegend\": false, \"type\": \"histogram\", \"uid\": \"e0059053-4a0d-4f95-8f3e-ef7fa31e1c24\", \"x\": [\"Athens\", \"Thessalon\\u00edki\", \"Ir\\u00e1kleion\", \"Io\\u00e1nnina\", \"P\\u00e1tra\", \"Chani\\u00e1\", \"Rethymno\", \"Volos\", \"Mytilene\", \"Komotin\\u00ed\", \"Kater\\u00edni\", \"Maro\\u00fasi\", \"Tr\\u00edpoli\", \"Piraeus\", \"Lam\\u00eda\", \"L\\u00e1risa\"], \"xaxis\": \"x\", \"yaxis\": \"y2\"}, {\"alignmentgroup\": \"True\", \"bingroup\": \"y\", \"hoverlabel\": {\"namelength\": 0}, \"hovertemplate\": \"countryName=Greece<br>count=%{x}\", \"legendgroup\": \"countryName=Greece\", \"marker\": {\"color\": \"#19d3f3\"}, \"name\": \"countryName=Greece\", \"offsetgroup\": \"countryName=Greece\", \"opacity\": 0.5, \"showlegend\": false, \"type\": \"histogram\", \"uid\": \"7d7c651b-1a68-4dc3-96d7-473a88aac01f\", \"xaxis\": \"x2\", \"y\": [79, 44, 12, 9, 6, 5, 5, 3, 2, 2, 1, 1, 1, 1, 1, 1], \"yaxis\": \"y\"}, {\"hoverlabel\": {\"namelength\": 0}, \"hovertemplate\": \"countryName=Czechia<br>name=%{x}<br>count=%{y}\", \"legendgroup\": \"countryName=Czechia\", \"marker\": {\"color\": \"#e763fa\", \"symbol\": \"circle\"}, \"mode\": \"markers\", \"name\": \"countryName=Czechia\", \"showlegend\": true, \"type\": \"scatter\", \"uid\": \"72a5b8ea-f8dd-4c57-b375-908174585907\", \"x\": [\"Prague\", \"Brno\", \"\\u010cesk\\u00e9 Bud\\u011bjovice\", \"Ond\\u0159ejov\", \"Doln\\u00ed B\\u0159e\\u017eany\", \"Liberec\", \"Olomouc\", \"Ostrava\", \"Pardubice\", \"T\\u0159ebo\\u0148\", \"Vestec\", \"Podol\\u00ed\", \"Opava\", \"Hradec Kr\\u00e1lov\\u00e9\", \"B\\u0159eclav\"], \"xaxis\": \"x\", \"y\": [76, 29, 6, 4, 3, 3, 3, 3, 2, 2, 1, 1, 1, 1, 1], \"yaxis\": \"y\"}, {\"alignmentgroup\": \"True\", \"bingroup\": \"x\", \"hoverlabel\": {\"namelength\": 0}, \"hovertemplate\": \"countryName=Czechia<br>name=%{x}<br>count=%{y}\", \"legendgroup\": \"countryName=Czechia\", \"marker\": {\"color\": \"#e763fa\"}, \"name\": \"countryName=Czechia\", \"offsetgroup\": \"countryName=Czechia\", \"opacity\": 0.5, \"showlegend\": false, \"type\": \"histogram\", \"uid\": \"b49a284b-3796-4708-a6a3-e12bc6b87232\", \"x\": [\"Prague\", \"Brno\", \"\\u010cesk\\u00e9 Bud\\u011bjovice\", \"Ond\\u0159ejov\", \"Doln\\u00ed B\\u0159e\\u017eany\", \"Liberec\", \"Olomouc\", \"Ostrava\", \"Pardubice\", \"T\\u0159ebo\\u0148\", \"Vestec\", \"Podol\\u00ed\", \"Opava\", \"Hradec Kr\\u00e1lov\\u00e9\", \"B\\u0159eclav\"], \"xaxis\": \"x\", \"yaxis\": \"y2\"}, {\"alignmentgroup\": \"True\", \"bingroup\": \"y\", \"hoverlabel\": {\"namelength\": 0}, \"hovertemplate\": \"countryName=Czechia<br>count=%{x}\", \"legendgroup\": \"countryName=Czechia\", \"marker\": {\"color\": \"#e763fa\"}, \"name\": \"countryName=Czechia\", \"offsetgroup\": \"countryName=Czechia\", \"opacity\": 0.5, \"showlegend\": false, \"type\": \"histogram\", \"uid\": \"97e833fc-31cf-427f-a972-876f49e9bdb7\", \"xaxis\": \"x2\", \"y\": [76, 29, 6, 4, 3, 3, 3, 3, 2, 2, 1, 1, 1, 1, 1], \"yaxis\": \"y\"}, {\"hoverlabel\": {\"namelength\": 0}, \"hovertemplate\": \"countryName=Poland<br>name=%{x}<br>count=%{y}\", \"legendgroup\": \"countryName=Poland\", \"marker\": {\"color\": \"#FECB52\", \"symbol\": \"circle\"}, \"mode\": \"markers\", \"name\": \"countryName=Poland\", \"showlegend\": true, \"type\": \"scatter\", \"uid\": \"88a819c7-d170-43ef-bcea-dbedab2d34a4\", \"x\": [\"Warsaw\", \"Krak\\u00f3w\", \"Wroc\\u0142aw\", \"Pozna\\u0144\", \"Bia\\u0142ystok\", \"Gda\\u0144sk\", \"\\u0141\\u00f3d\\u017a\", \"Lublin\", \"Toru\\u0144\", \"Bydgoszcz\", \"Katowice\", \"Zabrze\", \"Olsztyn\", \"Szczecin\", \"Rzesz\\u00f3w\", \"Pu\\u0142awy\", \"Gliwice\", \"Trzebownisko\", \"Siedlce\", \"Radom\", \"Legionowo\", \"Gdynia\"], \"xaxis\": \"x\", \"y\": [69, 47, 34, 26, 23, 19, 19, 18, 12, 12, 9, 6, 5, 3, 3, 2, 2, 1, 1, 1, 1, 1], \"yaxis\": \"y\"}, {\"alignmentgroup\": \"True\", \"bingroup\": \"x\", \"hoverlabel\": {\"namelength\": 0}, \"hovertemplate\": \"countryName=Poland<br>name=%{x}<br>count=%{y}\", \"legendgroup\": \"countryName=Poland\", \"marker\": {\"color\": \"#FECB52\"}, \"name\": \"countryName=Poland\", \"offsetgroup\": \"countryName=Poland\", \"opacity\": 0.5, \"showlegend\": false, \"type\": \"histogram\", \"uid\": \"4a8bf50a-6b10-4673-90bc-437db8563c13\", \"x\": [\"Warsaw\", \"Krak\\u00f3w\", \"Wroc\\u0142aw\", \"Pozna\\u0144\", \"Bia\\u0142ystok\", \"Gda\\u0144sk\", \"\\u0141\\u00f3d\\u017a\", \"Lublin\", \"Toru\\u0144\", \"Bydgoszcz\", \"Katowice\", \"Zabrze\", \"Olsztyn\", \"Szczecin\", \"Rzesz\\u00f3w\", \"Pu\\u0142awy\", \"Gliwice\", \"Trzebownisko\", \"Siedlce\", \"Radom\", \"Legionowo\", \"Gdynia\"], \"xaxis\": \"x\", \"yaxis\": \"y2\"}, {\"alignmentgroup\": \"True\", \"bingroup\": \"y\", \"hoverlabel\": {\"namelength\": 0}, \"hovertemplate\": \"countryName=Poland<br>count=%{x}\", \"legendgroup\": \"countryName=Poland\", \"marker\": {\"color\": \"#FECB52\"}, \"name\": \"countryName=Poland\", \"offsetgroup\": \"countryName=Poland\", \"opacity\": 0.5, \"showlegend\": false, \"type\": \"histogram\", \"uid\": \"206f5498-904a-422c-94fd-f2cb7b154f30\", \"xaxis\": \"x2\", \"y\": [69, 47, 34, 26, 23, 19, 19, 18, 12, 12, 9, 6, 5, 3, 3, 2, 2, 1, 1, 1, 1, 1], \"yaxis\": \"y\"}, {\"hoverlabel\": {\"namelength\": 0}, \"hovertemplate\": \"countryName=Austria<br>name=%{x}<br>count=%{y}\", \"legendgroup\": \"countryName=Austria\", \"marker\": {\"color\": \"#FFA15A\", \"symbol\": \"circle\"}, \"mode\": \"markers\", \"name\": \"countryName=Austria\", \"showlegend\": true, \"type\": \"scatter\", \"uid\": \"2452aaac-ba63-45db-8cfc-844902bcdf1d\", \"x\": [\"Vienna\", \"Graz\", \"Innsbruck\", \"Salzburg\", \"Linz\", \"Laxenburg\", \"Wiener Neustadt\", \"Dornbirn\", \"Seibersdorf\", \"Wels\", \"Klagenfurt am W\\u00f6rthersee\", \"Deutsch-Wagram\", \"Tulln\", \"Klosterneuburg\", \"Leoben\"], \"xaxis\": \"x\", \"y\": [54, 37, 25, 18, 11, 6, 5, 4, 4, 4, 3, 3, 2, 1, 1], \"yaxis\": \"y\"}, {\"alignmentgroup\": \"True\", \"bingroup\": \"x\", \"hoverlabel\": {\"namelength\": 0}, \"hovertemplate\": \"countryName=Austria<br>name=%{x}<br>count=%{y}\", \"legendgroup\": \"countryName=Austria\", \"marker\": {\"color\": \"#FFA15A\"}, \"name\": \"countryName=Austria\", \"offsetgroup\": \"countryName=Austria\", \"opacity\": 0.5, \"showlegend\": false, \"type\": \"histogram\", \"uid\": \"521d3e58-4df0-4421-a184-c3ca53efb541\", \"x\": [\"Vienna\", \"Graz\", \"Innsbruck\", \"Salzburg\", \"Linz\", \"Laxenburg\", \"Wiener Neustadt\", \"Dornbirn\", \"Seibersdorf\", \"Wels\", \"Klagenfurt am W\\u00f6rthersee\", \"Deutsch-Wagram\", \"Tulln\", \"Klosterneuburg\", \"Leoben\"], \"xaxis\": \"x\", \"yaxis\": \"y2\"}, {\"alignmentgroup\": \"True\", \"bingroup\": \"y\", \"hoverlabel\": {\"namelength\": 0}, \"hovertemplate\": \"countryName=Austria<br>count=%{x}\", \"legendgroup\": \"countryName=Austria\", \"marker\": {\"color\": \"#FFA15A\"}, \"name\": \"countryName=Austria\", \"offsetgroup\": \"countryName=Austria\", \"opacity\": 0.5, \"showlegend\": false, \"type\": \"histogram\", \"uid\": \"287a6322-42f6-4e8a-be7e-9443c0674e32\", \"xaxis\": \"x2\", \"y\": [54, 37, 25, 18, 11, 6, 5, 4, 4, 4, 3, 3, 2, 1, 1], \"yaxis\": \"y\"}, {\"hoverlabel\": {\"namelength\": 0}, \"hovertemplate\": \"countryName=Serbia<br>name=%{x}<br>count=%{y}\", \"legendgroup\": \"countryName=Serbia\", \"marker\": {\"color\": \"#FF6692\", \"symbol\": \"circle\"}, \"mode\": \"markers\", \"name\": \"countryName=Serbia\", \"showlegend\": true, \"type\": \"scatter\", \"uid\": \"ed611899-4b4f-411f-9491-163858bfa5f0\", \"x\": [\"Belgrade\", \"Ni\\u0161\", \"Pan\\u010devo\", \"Subotica\", \"Novi Sad\"], \"xaxis\": \"x\", \"y\": [46, 2, 1, 1, 1], \"yaxis\": \"y\"}, {\"alignmentgroup\": \"True\", \"bingroup\": \"x\", \"hoverlabel\": {\"namelength\": 0}, \"hovertemplate\": \"countryName=Serbia<br>name=%{x}<br>count=%{y}\", \"legendgroup\": \"countryName=Serbia\", \"marker\": {\"color\": \"#FF6692\"}, \"name\": \"countryName=Serbia\", \"offsetgroup\": \"countryName=Serbia\", \"opacity\": 0.5, \"showlegend\": false, \"type\": \"histogram\", \"uid\": \"0b75c16a-f0a5-4407-948f-3aabb430afe1\", \"x\": [\"Belgrade\", \"Ni\\u0161\", \"Pan\\u010devo\", \"Subotica\", \"Novi Sad\"], \"xaxis\": \"x\", \"yaxis\": \"y2\"}, {\"alignmentgroup\": \"True\", \"bingroup\": \"y\", \"hoverlabel\": {\"namelength\": 0}, \"hovertemplate\": \"countryName=Serbia<br>count=%{x}\", \"legendgroup\": \"countryName=Serbia\", \"marker\": {\"color\": \"#FF6692\"}, \"name\": \"countryName=Serbia\", \"offsetgroup\": \"countryName=Serbia\", \"opacity\": 0.5, \"showlegend\": false, \"type\": \"histogram\", \"uid\": \"eeff973c-068b-470d-842a-2ad9675aa4ff\", \"xaxis\": \"x2\", \"y\": [46, 2, 1, 1, 1], \"yaxis\": \"y\"}, {\"hoverlabel\": {\"namelength\": 0}, \"hovertemplate\": \"countryName=Ireland<br>name=%{x}<br>count=%{y}\", \"legendgroup\": \"countryName=Ireland\", \"marker\": {\"color\": \"#B6E880\", \"symbol\": \"circle\"}, \"mode\": \"markers\", \"name\": \"countryName=Ireland\", \"showlegend\": true, \"type\": \"scatter\", \"uid\": \"a39d2f15-c5f7-4f26-aac6-f4a02cd1727a\", \"x\": [\"Dublin\", \"Gaillimh\", \"Cork\", \"Maynooth\", \"Carlow\", \"Waterford\", \"Naas\"], \"xaxis\": \"x\", \"y\": [42, 17, 9, 5, 2, 1, 1], \"yaxis\": \"y\"}, {\"alignmentgroup\": \"True\", \"bingroup\": \"x\", \"hoverlabel\": {\"namelength\": 0}, \"hovertemplate\": \"countryName=Ireland<br>name=%{x}<br>count=%{y}\", \"legendgroup\": \"countryName=Ireland\", \"marker\": {\"color\": \"#B6E880\"}, \"name\": \"countryName=Ireland\", \"offsetgroup\": \"countryName=Ireland\", \"opacity\": 0.5, \"showlegend\": false, \"type\": \"histogram\", \"uid\": \"04fedf69-fa3c-4d02-a4ad-5d0ce98826d2\", \"x\": [\"Dublin\", \"Gaillimh\", \"Cork\", \"Maynooth\", \"Carlow\", \"Waterford\", \"Naas\"], \"xaxis\": \"x\", \"yaxis\": \"y2\"}, {\"alignmentgroup\": \"True\", \"bingroup\": \"y\", \"hoverlabel\": {\"namelength\": 0}, \"hovertemplate\": \"countryName=Ireland<br>count=%{x}\", \"legendgroup\": \"countryName=Ireland\", \"marker\": {\"color\": \"#B6E880\"}, \"name\": \"countryName=Ireland\", \"offsetgroup\": \"countryName=Ireland\", \"opacity\": 0.5, \"showlegend\": false, \"type\": \"histogram\", \"uid\": \"bbe98ac8-2bcd-4614-8228-dcb011cb83be\", \"xaxis\": \"x2\", \"y\": [42, 17, 9, 5, 2, 1, 1], \"yaxis\": \"y\"}, {\"hoverlabel\": {\"namelength\": 0}, \"hovertemplate\": \"countryName=Slovenia<br>name=%{x}<br>count=%{y}\", \"legendgroup\": \"countryName=Slovenia\", \"marker\": {\"color\": \"#636efa\", \"symbol\": \"circle\"}, \"mode\": \"markers\", \"name\": \"countryName=Slovenia\", \"showlegend\": true, \"type\": \"scatter\", \"uid\": \"c71934be-49fb-46fa-8aaa-8eff0c4732e7\", \"x\": [\"Ljubljana\", \"Koper\", \"Maribor\"], \"xaxis\": \"x\", \"y\": [41, 4, 2], \"yaxis\": \"y\"}, {\"alignmentgroup\": \"True\", \"bingroup\": \"x\", \"hoverlabel\": {\"namelength\": 0}, \"hovertemplate\": \"countryName=Slovenia<br>name=%{x}<br>count=%{y}\", \"legendgroup\": \"countryName=Slovenia\", \"marker\": {\"color\": \"#636efa\"}, \"name\": \"countryName=Slovenia\", \"offsetgroup\": \"countryName=Slovenia\", \"opacity\": 0.5, \"showlegend\": false, \"type\": \"histogram\", \"uid\": \"8de025e6-09ca-4940-b29a-7c135ccfbed8\", \"x\": [\"Ljubljana\", \"Koper\", \"Maribor\"], \"xaxis\": \"x\", \"yaxis\": \"y2\"}, {\"alignmentgroup\": \"True\", \"bingroup\": \"y\", \"hoverlabel\": {\"namelength\": 0}, \"hovertemplate\": \"countryName=Slovenia<br>count=%{x}\", \"legendgroup\": \"countryName=Slovenia\", \"marker\": {\"color\": \"#636efa\"}, \"name\": \"countryName=Slovenia\", \"offsetgroup\": \"countryName=Slovenia\", \"opacity\": 0.5, \"showlegend\": false, \"type\": \"histogram\", \"uid\": \"5e80a3f4-ef6b-49f1-afac-85c21f6bf665\", \"xaxis\": \"x2\", \"y\": [41, 4, 2], \"yaxis\": \"y\"}, {\"hoverlabel\": {\"namelength\": 0}, \"hovertemplate\": \"countryName=Romania<br>name=%{x}<br>count=%{y}\", \"legendgroup\": \"countryName=Romania\", \"marker\": {\"color\": \"#EF553B\", \"symbol\": \"circle\"}, \"mode\": \"markers\", \"name\": \"countryName=Romania\", \"showlegend\": true, \"type\": \"scatter\", \"uid\": \"cb3c2179-30bd-4baa-b49a-896fd8a20705\", \"x\": [\"Bucharest\", \"Cluj-Napoca\", \"Ia\\u015fi\", \"T\\u00e2rgu-Mure\\u015f\", \"Sibiu\", \"Timi\\u015foara\", \"Oradea\", \"Suceava\", \"Tulcea\", \"Craiova\", \"Balote\\u015fti\", \"Bac\\u0103u\", \"Ma\\u015floc\"], \"xaxis\": \"x\", \"y\": [37, 14, 12, 11, 6, 2, 2, 1, 1, 1, 1, 1, 1], \"yaxis\": \"y\"}, {\"alignmentgroup\": \"True\", \"bingroup\": \"x\", \"hoverlabel\": {\"namelength\": 0}, \"hovertemplate\": \"countryName=Romania<br>name=%{x}<br>count=%{y}\", \"legendgroup\": \"countryName=Romania\", \"marker\": {\"color\": \"#EF553B\"}, \"name\": \"countryName=Romania\", \"offsetgroup\": \"countryName=Romania\", \"opacity\": 0.5, \"showlegend\": false, \"type\": \"histogram\", \"uid\": \"434c8d1b-805d-475f-a0eb-49eb2c7ce698\", \"x\": [\"Bucharest\", \"Cluj-Napoca\", \"Ia\\u015fi\", \"T\\u00e2rgu-Mure\\u015f\", \"Sibiu\", \"Timi\\u015foara\", \"Oradea\", \"Suceava\", \"Tulcea\", \"Craiova\", \"Balote\\u015fti\", \"Bac\\u0103u\", \"Ma\\u015floc\"], \"xaxis\": \"x\", \"yaxis\": \"y2\"}, {\"alignmentgroup\": \"True\", \"bingroup\": \"y\", \"hoverlabel\": {\"namelength\": 0}, \"hovertemplate\": \"countryName=Romania<br>count=%{x}\", \"legendgroup\": \"countryName=Romania\", \"marker\": {\"color\": \"#EF553B\"}, \"name\": \"countryName=Romania\", \"offsetgroup\": \"countryName=Romania\", \"opacity\": 0.5, \"showlegend\": false, \"type\": \"histogram\", \"uid\": \"a8400665-f9e3-4efa-9834-285236f4663c\", \"xaxis\": \"x2\", \"y\": [37, 14, 12, 11, 6, 2, 2, 1, 1, 1, 1, 1, 1], \"yaxis\": \"y\"}, {\"hoverlabel\": {\"namelength\": 0}, \"hovertemplate\": \"countryName=Hungary<br>name=%{x}<br>count=%{y}\", \"legendgroup\": \"countryName=Hungary\", \"marker\": {\"color\": \"#00cc96\", \"symbol\": \"circle\"}, \"mode\": \"markers\", \"name\": \"countryName=Hungary\", \"showlegend\": true, \"type\": \"scatter\", \"uid\": \"e024b96c-0391-4a0f-8bf9-2041ac7b4935\", \"x\": [\"Budapest\", \"Szeged\", \"Debrecen\", \"Csongr\\u00e1d\", \"Gy\\u0151r\", \"Miskolc\", \"P\\u00e9cs\"], \"xaxis\": \"x\", \"y\": [32, 18, 5, 3, 2, 1, 1], \"yaxis\": \"y\"}, {\"alignmentgroup\": \"True\", \"bingroup\": \"x\", \"hoverlabel\": {\"namelength\": 0}, \"hovertemplate\": \"countryName=Hungary<br>name=%{x}<br>count=%{y}\", \"legendgroup\": \"countryName=Hungary\", \"marker\": {\"color\": \"#00cc96\"}, \"name\": \"countryName=Hungary\", \"offsetgroup\": \"countryName=Hungary\", \"opacity\": 0.5, \"showlegend\": false, \"type\": \"histogram\", \"uid\": \"0e33b2e0-1574-4865-a25b-9ff3e4e98274\", \"x\": [\"Budapest\", \"Szeged\", \"Debrecen\", \"Csongr\\u00e1d\", \"Gy\\u0151r\", \"Miskolc\", \"P\\u00e9cs\"], \"xaxis\": \"x\", \"yaxis\": \"y2\"}, {\"alignmentgroup\": \"True\", \"bingroup\": \"y\", \"hoverlabel\": {\"namelength\": 0}, \"hovertemplate\": \"countryName=Hungary<br>count=%{x}\", \"legendgroup\": \"countryName=Hungary\", \"marker\": {\"color\": \"#00cc96\"}, \"name\": \"countryName=Hungary\", \"offsetgroup\": \"countryName=Hungary\", \"opacity\": 0.5, \"showlegend\": false, \"type\": \"histogram\", \"uid\": \"78e2f592-da0b-47e9-8f02-dc7dbb61b752\", \"xaxis\": \"x2\", \"y\": [32, 18, 5, 3, 2, 1, 1], \"yaxis\": \"y\"}, {\"hoverlabel\": {\"namelength\": 0}, \"hovertemplate\": \"countryName=Slovakia<br>name=%{x}<br>count=%{y}\", \"legendgroup\": \"countryName=Slovakia\", \"marker\": {\"color\": \"#ab63fa\", \"symbol\": \"circle\"}, \"mode\": \"markers\", \"name\": \"countryName=Slovakia\", \"showlegend\": true, \"type\": \"scatter\", \"uid\": \"393fcec3-c3d3-476b-ac57-f9a3be3875e1\", \"x\": [\"Bratislava\", \"Ko\\u0161ice\", \"\\u017dilina\", \"Trnava\", \"Nitra\", \"Kom\\u00e1rno\"], \"xaxis\": \"x\", \"y\": [30, 1, 1, 1, 1, 1], \"yaxis\": \"y\"}, {\"alignmentgroup\": \"True\", \"bingroup\": \"x\", \"hoverlabel\": {\"namelength\": 0}, \"hovertemplate\": \"countryName=Slovakia<br>name=%{x}<br>count=%{y}\", \"legendgroup\": \"countryName=Slovakia\", \"marker\": {\"color\": \"#ab63fa\"}, \"name\": \"countryName=Slovakia\", \"offsetgroup\": \"countryName=Slovakia\", \"opacity\": 0.5, \"showlegend\": false, \"type\": \"histogram\", \"uid\": \"c8dc4920-3514-4282-a674-63a8b5d92d0a\", \"x\": [\"Bratislava\", \"Ko\\u0161ice\", \"\\u017dilina\", \"Trnava\", \"Nitra\", \"Kom\\u00e1rno\"], \"xaxis\": \"x\", \"yaxis\": \"y2\"}, {\"alignmentgroup\": \"True\", \"bingroup\": \"y\", \"hoverlabel\": {\"namelength\": 0}, \"hovertemplate\": \"countryName=Slovakia<br>count=%{x}\", \"legendgroup\": \"countryName=Slovakia\", \"marker\": {\"color\": \"#ab63fa\"}, \"name\": \"countryName=Slovakia\", \"offsetgroup\": \"countryName=Slovakia\", \"opacity\": 0.5, \"showlegend\": false, \"type\": \"histogram\", \"uid\": \"4c6af402-28ec-4532-8576-31dd9ba9c82d\", \"xaxis\": \"x2\", \"y\": [30, 1, 1, 1, 1, 1], \"yaxis\": \"y\"}, {\"hoverlabel\": {\"namelength\": 0}, \"hovertemplate\": \"countryName=Malta<br>name=%{x}<br>count=%{y}\", \"legendgroup\": \"countryName=Malta\", \"marker\": {\"color\": \"#19d3f3\", \"symbol\": \"circle\"}, \"mode\": \"markers\", \"name\": \"countryName=Malta\", \"showlegend\": true, \"type\": \"scatter\", \"uid\": \"82dfe127-6b6c-4fbc-aa86-012b90835c13\", \"x\": [\"Imsida\", \"Victoria\"], \"xaxis\": \"x\", \"y\": [17, 2], \"yaxis\": \"y\"}, {\"alignmentgroup\": \"True\", \"bingroup\": \"x\", \"hoverlabel\": {\"namelength\": 0}, \"hovertemplate\": \"countryName=Malta<br>name=%{x}<br>count=%{y}\", \"legendgroup\": \"countryName=Malta\", \"marker\": {\"color\": \"#19d3f3\"}, \"name\": \"countryName=Malta\", \"offsetgroup\": \"countryName=Malta\", \"opacity\": 0.5, \"showlegend\": false, \"type\": \"histogram\", \"uid\": \"4e5a2fa2-fbd5-445d-89e9-917f8cf4c48d\", \"x\": [\"Imsida\", \"Victoria\"], \"xaxis\": \"x\", \"yaxis\": \"y2\"}, {\"alignmentgroup\": \"True\", \"bingroup\": \"y\", \"hoverlabel\": {\"namelength\": 0}, \"hovertemplate\": \"countryName=Malta<br>count=%{x}\", \"legendgroup\": \"countryName=Malta\", \"marker\": {\"color\": \"#19d3f3\"}, \"name\": \"countryName=Malta\", \"offsetgroup\": \"countryName=Malta\", \"opacity\": 0.5, \"showlegend\": false, \"type\": \"histogram\", \"uid\": \"290a847e-9926-4aa4-b1e0-72e3b1256730\", \"xaxis\": \"x2\", \"y\": [17, 2], \"yaxis\": \"y\"}, {\"hoverlabel\": {\"namelength\": 0}, \"hovertemplate\": \"countryName=Bulgaria<br>name=%{x}<br>count=%{y}\", \"legendgroup\": \"countryName=Bulgaria\", \"marker\": {\"color\": \"#e763fa\", \"symbol\": \"circle\"}, \"mode\": \"markers\", \"name\": \"countryName=Bulgaria\", \"showlegend\": true, \"type\": \"scatter\", \"uid\": \"0174eeec-d082-48e3-bbde-4cf60123c5ce\", \"x\": [\"Sofia\", \"Plovdiv\", \"Pleven\", \"Veliko T\\u016drnovo\"], \"xaxis\": \"x\", \"y\": [17, 2, 1, 1], \"yaxis\": \"y\"}, {\"alignmentgroup\": \"True\", \"bingroup\": \"x\", \"hoverlabel\": {\"namelength\": 0}, \"hovertemplate\": \"countryName=Bulgaria<br>name=%{x}<br>count=%{y}\", \"legendgroup\": \"countryName=Bulgaria\", \"marker\": {\"color\": \"#e763fa\"}, \"name\": \"countryName=Bulgaria\", \"offsetgroup\": \"countryName=Bulgaria\", \"opacity\": 0.5, \"showlegend\": false, \"type\": \"histogram\", \"uid\": \"752b0a4a-5667-48fc-b6eb-45b990dc4727\", \"x\": [\"Sofia\", \"Plovdiv\", \"Pleven\", \"Veliko T\\u016drnovo\"], \"xaxis\": \"x\", \"yaxis\": \"y2\"}, {\"alignmentgroup\": \"True\", \"bingroup\": \"y\", \"hoverlabel\": {\"namelength\": 0}, \"hovertemplate\": \"countryName=Bulgaria<br>count=%{x}\", \"legendgroup\": \"countryName=Bulgaria\", \"marker\": {\"color\": \"#e763fa\"}, \"name\": \"countryName=Bulgaria\", \"offsetgroup\": \"countryName=Bulgaria\", \"opacity\": 0.5, \"showlegend\": false, \"type\": \"histogram\", \"uid\": \"1d6f8fa8-c909-447b-87e4-2c67ff849333\", \"xaxis\": \"x2\", \"y\": [17, 2, 1, 1], \"yaxis\": \"y\"}, {\"hoverlabel\": {\"namelength\": 0}, \"hovertemplate\": \"countryName=Croatia<br>name=%{x}<br>count=%{y}\", \"legendgroup\": \"countryName=Croatia\", \"marker\": {\"color\": \"#FECB52\", \"symbol\": \"circle\"}, \"mode\": \"markers\", \"name\": \"countryName=Croatia\", \"showlegend\": true, \"type\": \"scatter\", \"uid\": \"8cc1f6ca-55d1-43be-914f-83331821450a\", \"x\": [\"Zagreb\", \"Split\"], \"xaxis\": \"x\", \"y\": [13, 1], \"yaxis\": \"y\"}, {\"alignmentgroup\": \"True\", \"bingroup\": \"x\", \"hoverlabel\": {\"namelength\": 0}, \"hovertemplate\": \"countryName=Croatia<br>name=%{x}<br>count=%{y}\", \"legendgroup\": \"countryName=Croatia\", \"marker\": {\"color\": \"#FECB52\"}, \"name\": \"countryName=Croatia\", \"offsetgroup\": \"countryName=Croatia\", \"opacity\": 0.5, \"showlegend\": false, \"type\": \"histogram\", \"uid\": \"83f6beff-72ee-4a9e-9722-2d58c1649693\", \"x\": [\"Zagreb\", \"Split\"], \"xaxis\": \"x\", \"yaxis\": \"y2\"}, {\"alignmentgroup\": \"True\", \"bingroup\": \"y\", \"hoverlabel\": {\"namelength\": 0}, \"hovertemplate\": \"countryName=Croatia<br>count=%{x}\", \"legendgroup\": \"countryName=Croatia\", \"marker\": {\"color\": \"#FECB52\"}, \"name\": \"countryName=Croatia\", \"offsetgroup\": \"countryName=Croatia\", \"opacity\": 0.5, \"showlegend\": false, \"type\": \"histogram\", \"uid\": \"896fabc7-2214-4872-abf4-bebb55b10812\", \"xaxis\": \"x2\", \"y\": [13, 1], \"yaxis\": \"y\"}, {\"hoverlabel\": {\"namelength\": 0}, \"hovertemplate\": \"countryName=Ukraine<br>name=%{x}<br>count=%{y}\", \"legendgroup\": \"countryName=Ukraine\", \"marker\": {\"color\": \"#FFA15A\", \"symbol\": \"circle\"}, \"mode\": \"markers\", \"name\": \"countryName=Ukraine\", \"showlegend\": true, \"type\": \"scatter\", \"uid\": \"cbc0883e-feb0-485d-a491-5be688f22567\", \"x\": [\"Kyiv\", \"Lviv\", \"Dnipro\", \"Bakhchisaray\", \"Odessa\", \"Kherson\", \"Kharkiv\", \"Vinnytsya\", \"Ternopil\\u2019\"], \"xaxis\": \"x\", \"y\": [9, 8, 8, 4, 3, 2, 2, 1, 1], \"yaxis\": \"y\"}, {\"alignmentgroup\": \"True\", \"bingroup\": \"x\", \"hoverlabel\": {\"namelength\": 0}, \"hovertemplate\": \"countryName=Ukraine<br>name=%{x}<br>count=%{y}\", \"legendgroup\": \"countryName=Ukraine\", \"marker\": {\"color\": \"#FFA15A\"}, \"name\": \"countryName=Ukraine\", \"offsetgroup\": \"countryName=Ukraine\", \"opacity\": 0.5, \"showlegend\": false, \"type\": \"histogram\", \"uid\": \"4e97a88b-2ab4-485c-bb44-55796ef50852\", \"x\": [\"Kyiv\", \"Lviv\", \"Dnipro\", \"Bakhchisaray\", \"Odessa\", \"Kherson\", \"Kharkiv\", \"Vinnytsya\", \"Ternopil\\u2019\"], \"xaxis\": \"x\", \"yaxis\": \"y2\"}, {\"alignmentgroup\": \"True\", \"bingroup\": \"y\", \"hoverlabel\": {\"namelength\": 0}, \"hovertemplate\": \"countryName=Ukraine<br>count=%{x}\", \"legendgroup\": \"countryName=Ukraine\", \"marker\": {\"color\": \"#FFA15A\"}, \"name\": \"countryName=Ukraine\", \"offsetgroup\": \"countryName=Ukraine\", \"opacity\": 0.5, \"showlegend\": false, \"type\": \"histogram\", \"uid\": \"ef7eb313-5d29-45bb-b0a3-945bcc79e998\", \"xaxis\": \"x2\", \"y\": [9, 8, 8, 4, 3, 2, 2, 1, 1], \"yaxis\": \"y\"}, {\"hoverlabel\": {\"namelength\": 0}, \"hovertemplate\": \"countryName=Iceland<br>name=%{x}<br>count=%{y}\", \"legendgroup\": \"countryName=Iceland\", \"marker\": {\"color\": \"#FF6692\", \"symbol\": \"circle\"}, \"mode\": \"markers\", \"name\": \"countryName=Iceland\", \"showlegend\": true, \"type\": \"scatter\", \"uid\": \"2f486725-0a2c-414f-b3d8-f8ef18697ae1\", \"x\": [\"Reykjav\\u00edk\"], \"xaxis\": \"x\", \"y\": [7], \"yaxis\": \"y\"}, {\"alignmentgroup\": \"True\", \"bingroup\": \"x\", \"hoverlabel\": {\"namelength\": 0}, \"hovertemplate\": \"countryName=Iceland<br>name=%{x}<br>count=%{y}\", \"legendgroup\": \"countryName=Iceland\", \"marker\": {\"color\": \"#FF6692\"}, \"name\": \"countryName=Iceland\", \"offsetgroup\": \"countryName=Iceland\", \"opacity\": 0.5, \"showlegend\": false, \"type\": \"histogram\", \"uid\": \"79870bcf-6357-4111-9e41-f30289a4be3b\", \"x\": [\"Reykjav\\u00edk\"], \"xaxis\": \"x\", \"yaxis\": \"y2\"}, {\"alignmentgroup\": \"True\", \"bingroup\": \"y\", \"hoverlabel\": {\"namelength\": 0}, \"hovertemplate\": \"countryName=Iceland<br>count=%{x}\", \"legendgroup\": \"countryName=Iceland\", \"marker\": {\"color\": \"#FF6692\"}, \"name\": \"countryName=Iceland\", \"offsetgroup\": \"countryName=Iceland\", \"opacity\": 0.5, \"showlegend\": false, \"type\": \"histogram\", \"uid\": \"bb6b3f40-162f-4ca5-b95b-f64309dc7350\", \"xaxis\": \"x2\", \"y\": [7], \"yaxis\": \"y\"}, {\"hoverlabel\": {\"namelength\": 0}, \"hovertemplate\": \"countryName=Estonia<br>name=%{x}<br>count=%{y}\", \"legendgroup\": \"countryName=Estonia\", \"marker\": {\"color\": \"#B6E880\", \"symbol\": \"circle\"}, \"mode\": \"markers\", \"name\": \"countryName=Estonia\", \"showlegend\": true, \"type\": \"scatter\", \"uid\": \"4e234877-192b-4c48-a2ab-c11f581c40fc\", \"x\": [\"Tartu\", \"Tallinn\"], \"xaxis\": \"x\", \"y\": [6, 3], \"yaxis\": \"y\"}, {\"alignmentgroup\": \"True\", \"bingroup\": \"x\", \"hoverlabel\": {\"namelength\": 0}, \"hovertemplate\": \"countryName=Estonia<br>name=%{x}<br>count=%{y}\", \"legendgroup\": \"countryName=Estonia\", \"marker\": {\"color\": \"#B6E880\"}, \"name\": \"countryName=Estonia\", \"offsetgroup\": \"countryName=Estonia\", \"opacity\": 0.5, \"showlegend\": false, \"type\": \"histogram\", \"uid\": \"b13a1607-4b15-4724-a439-3cb3d02ed658\", \"x\": [\"Tartu\", \"Tallinn\"], \"xaxis\": \"x\", \"yaxis\": \"y2\"}, {\"alignmentgroup\": \"True\", \"bingroup\": \"y\", \"hoverlabel\": {\"namelength\": 0}, \"hovertemplate\": \"countryName=Estonia<br>count=%{x}\", \"legendgroup\": \"countryName=Estonia\", \"marker\": {\"color\": \"#B6E880\"}, \"name\": \"countryName=Estonia\", \"offsetgroup\": \"countryName=Estonia\", \"opacity\": 0.5, \"showlegend\": false, \"type\": \"histogram\", \"uid\": \"86cd0802-af41-41de-80b4-e10c1651c7c0\", \"xaxis\": \"x2\", \"y\": [6, 3], \"yaxis\": \"y\"}, {\"hoverlabel\": {\"namelength\": 0}, \"hovertemplate\": \"countryName=Belarus<br>name=%{x}<br>count=%{y}\", \"legendgroup\": \"countryName=Belarus\", \"marker\": {\"color\": \"#636efa\", \"symbol\": \"circle\"}, \"mode\": \"markers\", \"name\": \"countryName=Belarus\", \"showlegend\": true, \"type\": \"scatter\", \"uid\": \"ddb07e87-5e03-4159-bc0c-80922fbaee5a\", \"x\": [\"Minsk\", \"Vitebsk\"], \"xaxis\": \"x\", \"y\": [6, 1], \"yaxis\": \"y\"}, {\"alignmentgroup\": \"True\", \"bingroup\": \"x\", \"hoverlabel\": {\"namelength\": 0}, \"hovertemplate\": \"countryName=Belarus<br>name=%{x}<br>count=%{y}\", \"legendgroup\": \"countryName=Belarus\", \"marker\": {\"color\": \"#636efa\"}, \"name\": \"countryName=Belarus\", \"offsetgroup\": \"countryName=Belarus\", \"opacity\": 0.5, \"showlegend\": false, \"type\": \"histogram\", \"uid\": \"264bed09-07ed-4d22-a631-8b2d65ae421b\", \"x\": [\"Minsk\", \"Vitebsk\"], \"xaxis\": \"x\", \"yaxis\": \"y2\"}, {\"alignmentgroup\": \"True\", \"bingroup\": \"y\", \"hoverlabel\": {\"namelength\": 0}, \"hovertemplate\": \"countryName=Belarus<br>count=%{x}\", \"legendgroup\": \"countryName=Belarus\", \"marker\": {\"color\": \"#636efa\"}, \"name\": \"countryName=Belarus\", \"offsetgroup\": \"countryName=Belarus\", \"opacity\": 0.5, \"showlegend\": false, \"type\": \"histogram\", \"uid\": \"d2625282-c275-49e8-abcf-62ff97cefdf2\", \"xaxis\": \"x2\", \"y\": [6, 1], \"yaxis\": \"y\"}, {\"hoverlabel\": {\"namelength\": 0}, \"hovertemplate\": \"countryName=Albania<br>name=%{x}<br>count=%{y}\", \"legendgroup\": \"countryName=Albania\", \"marker\": {\"color\": \"#EF553B\", \"symbol\": \"circle\"}, \"mode\": \"markers\", \"name\": \"countryName=Albania\", \"showlegend\": true, \"type\": \"scatter\", \"uid\": \"72df169b-6448-4d90-b950-92730feae91e\", \"x\": [\"Tirana\", \"Durr\\u00ebs\", \"Vlor\\u00eb\"], \"xaxis\": \"x\", \"y\": [5, 1, 1], \"yaxis\": \"y\"}, {\"alignmentgroup\": \"True\", \"bingroup\": \"x\", \"hoverlabel\": {\"namelength\": 0}, \"hovertemplate\": \"countryName=Albania<br>name=%{x}<br>count=%{y}\", \"legendgroup\": \"countryName=Albania\", \"marker\": {\"color\": \"#EF553B\"}, \"name\": \"countryName=Albania\", \"offsetgroup\": \"countryName=Albania\", \"opacity\": 0.5, \"showlegend\": false, \"type\": \"histogram\", \"uid\": \"75868b41-09b7-4f05-9dcf-129f222436ae\", \"x\": [\"Tirana\", \"Durr\\u00ebs\", \"Vlor\\u00eb\"], \"xaxis\": \"x\", \"yaxis\": \"y2\"}, {\"alignmentgroup\": \"True\", \"bingroup\": \"y\", \"hoverlabel\": {\"namelength\": 0}, \"hovertemplate\": \"countryName=Albania<br>count=%{x}\", \"legendgroup\": \"countryName=Albania\", \"marker\": {\"color\": \"#EF553B\"}, \"name\": \"countryName=Albania\", \"offsetgroup\": \"countryName=Albania\", \"opacity\": 0.5, \"showlegend\": false, \"type\": \"histogram\", \"uid\": \"a37e2215-ad85-44a0-b633-fd6c3d74f8ab\", \"xaxis\": \"x2\", \"y\": [5, 1, 1], \"yaxis\": \"y\"}, {\"hoverlabel\": {\"namelength\": 0}, \"hovertemplate\": \"countryName=Latvia<br>name=%{x}<br>count=%{y}\", \"legendgroup\": \"countryName=Latvia\", \"marker\": {\"color\": \"#00cc96\", \"symbol\": \"circle\"}, \"mode\": \"markers\", \"name\": \"countryName=Latvia\", \"showlegend\": true, \"type\": \"scatter\", \"uid\": \"abaa69ba-7aa3-49e2-aa8a-1e05186299bd\", \"x\": [\"Riga\"], \"xaxis\": \"x\", \"y\": [4], \"yaxis\": \"y\"}, {\"alignmentgroup\": \"True\", \"bingroup\": \"x\", \"hoverlabel\": {\"namelength\": 0}, \"hovertemplate\": \"countryName=Latvia<br>name=%{x}<br>count=%{y}\", \"legendgroup\": \"countryName=Latvia\", \"marker\": {\"color\": \"#00cc96\"}, \"name\": \"countryName=Latvia\", \"offsetgroup\": \"countryName=Latvia\", \"opacity\": 0.5, \"showlegend\": false, \"type\": \"histogram\", \"uid\": \"b936efd6-55b0-492d-a88c-444f19dfd0ab\", \"x\": [\"Riga\"], \"xaxis\": \"x\", \"yaxis\": \"y2\"}, {\"alignmentgroup\": \"True\", \"bingroup\": \"y\", \"hoverlabel\": {\"namelength\": 0}, \"hovertemplate\": \"countryName=Latvia<br>count=%{x}\", \"legendgroup\": \"countryName=Latvia\", \"marker\": {\"color\": \"#00cc96\"}, \"name\": \"countryName=Latvia\", \"offsetgroup\": \"countryName=Latvia\", \"opacity\": 0.5, \"showlegend\": false, \"type\": \"histogram\", \"uid\": \"765284f9-6d6b-47b4-8ebb-0ae97bbc2133\", \"xaxis\": \"x2\", \"y\": [4], \"yaxis\": \"y\"}, {\"hoverlabel\": {\"namelength\": 0}, \"hovertemplate\": \"countryName=Lithuania<br>name=%{x}<br>count=%{y}\", \"legendgroup\": \"countryName=Lithuania\", \"marker\": {\"color\": \"#ab63fa\", \"symbol\": \"circle\"}, \"mode\": \"markers\", \"name\": \"countryName=Lithuania\", \"showlegend\": true, \"type\": \"scatter\", \"uid\": \"77320b93-0433-4ea0-b8cd-534bc2561d23\", \"x\": [\"Kaunas\", \"Vilnius\"], \"xaxis\": \"x\", \"y\": [3, 1], \"yaxis\": \"y\"}, {\"alignmentgroup\": \"True\", \"bingroup\": \"x\", \"hoverlabel\": {\"namelength\": 0}, \"hovertemplate\": \"countryName=Lithuania<br>name=%{x}<br>count=%{y}\", \"legendgroup\": \"countryName=Lithuania\", \"marker\": {\"color\": \"#ab63fa\"}, \"name\": \"countryName=Lithuania\", \"offsetgroup\": \"countryName=Lithuania\", \"opacity\": 0.5, \"showlegend\": false, \"type\": \"histogram\", \"uid\": \"f9651f18-834b-459e-bf72-7749890e9974\", \"x\": [\"Kaunas\", \"Vilnius\"], \"xaxis\": \"x\", \"yaxis\": \"y2\"}, {\"alignmentgroup\": \"True\", \"bingroup\": \"y\", \"hoverlabel\": {\"namelength\": 0}, \"hovertemplate\": \"countryName=Lithuania<br>count=%{x}\", \"legendgroup\": \"countryName=Lithuania\", \"marker\": {\"color\": \"#ab63fa\"}, \"name\": \"countryName=Lithuania\", \"offsetgroup\": \"countryName=Lithuania\", \"opacity\": 0.5, \"showlegend\": false, \"type\": \"histogram\", \"uid\": \"51ff463e-fae7-47ed-bded-0efbe082fe7d\", \"xaxis\": \"x2\", \"y\": [3, 1], \"yaxis\": \"y\"}, {\"hoverlabel\": {\"namelength\": 0}, \"hovertemplate\": \"countryName=Bosnia and Herzegovina<br>name=%{x}<br>count=%{y}\", \"legendgroup\": \"countryName=Bosnia and Herzegovina\", \"marker\": {\"color\": \"#19d3f3\", \"symbol\": \"circle\"}, \"mode\": \"markers\", \"name\": \"countryName=Bosnia and Herzegovina\", \"showlegend\": true, \"type\": \"scatter\", \"uid\": \"fee0a2c9-7799-4923-8070-f58995b1c44c\", \"x\": [\"Sarajevo\", \"Bijeljina\"], \"xaxis\": \"x\", \"y\": [3, 2], \"yaxis\": \"y\"}, {\"alignmentgroup\": \"True\", \"bingroup\": \"x\", \"hoverlabel\": {\"namelength\": 0}, \"hovertemplate\": \"countryName=Bosnia and Herzegovina<br>name=%{x}<br>count=%{y}\", \"legendgroup\": \"countryName=Bosnia and Herzegovina\", \"marker\": {\"color\": \"#19d3f3\"}, \"name\": \"countryName=Bosnia and Herzegovina\", \"offsetgroup\": \"countryName=Bosnia and Herzegovina\", \"opacity\": 0.5, \"showlegend\": false, \"type\": \"histogram\", \"uid\": \"6800f3d6-998a-4d2c-a717-d5fa72e9feb8\", \"x\": [\"Sarajevo\", \"Bijeljina\"], \"xaxis\": \"x\", \"yaxis\": \"y2\"}, {\"alignmentgroup\": \"True\", \"bingroup\": \"y\", \"hoverlabel\": {\"namelength\": 0}, \"hovertemplate\": \"countryName=Bosnia and Herzegovina<br>count=%{x}\", \"legendgroup\": \"countryName=Bosnia and Herzegovina\", \"marker\": {\"color\": \"#19d3f3\"}, \"name\": \"countryName=Bosnia and Herzegovina\", \"offsetgroup\": \"countryName=Bosnia and Herzegovina\", \"opacity\": 0.5, \"showlegend\": false, \"type\": \"histogram\", \"uid\": \"7cb6dcd4-b32f-4604-8e5c-d74ce871de60\", \"xaxis\": \"x2\", \"y\": [3, 2], \"yaxis\": \"y\"}, {\"hoverlabel\": {\"namelength\": 0}, \"hovertemplate\": \"countryName=Luxembourg<br>name=%{x}<br>count=%{y}\", \"legendgroup\": \"countryName=Luxembourg\", \"marker\": {\"color\": \"#e763fa\", \"symbol\": \"circle\"}, \"mode\": \"markers\", \"name\": \"countryName=Luxembourg\", \"showlegend\": true, \"type\": \"scatter\", \"uid\": \"d00921eb-47bd-4531-a546-31c4b0d046df\", \"x\": [\"Luxembourg\"], \"xaxis\": \"x\", \"y\": [3], \"yaxis\": \"y\"}, {\"alignmentgroup\": \"True\", \"bingroup\": \"x\", \"hoverlabel\": {\"namelength\": 0}, \"hovertemplate\": \"countryName=Luxembourg<br>name=%{x}<br>count=%{y}\", \"legendgroup\": \"countryName=Luxembourg\", \"marker\": {\"color\": \"#e763fa\"}, \"name\": \"countryName=Luxembourg\", \"offsetgroup\": \"countryName=Luxembourg\", \"opacity\": 0.5, \"showlegend\": false, \"type\": \"histogram\", \"uid\": \"0627db05-7d9a-4e9d-bdb6-42befbf512d4\", \"x\": [\"Luxembourg\"], \"xaxis\": \"x\", \"yaxis\": \"y2\"}, {\"alignmentgroup\": \"True\", \"bingroup\": \"y\", \"hoverlabel\": {\"namelength\": 0}, \"hovertemplate\": \"countryName=Luxembourg<br>count=%{x}\", \"legendgroup\": \"countryName=Luxembourg\", \"marker\": {\"color\": \"#e763fa\"}, \"name\": \"countryName=Luxembourg\", \"offsetgroup\": \"countryName=Luxembourg\", \"opacity\": 0.5, \"showlegend\": false, \"type\": \"histogram\", \"uid\": \"d1795c76-9cb6-4653-af2d-9d03caf28de7\", \"xaxis\": \"x2\", \"y\": [3], \"yaxis\": \"y\"}, {\"hoverlabel\": {\"namelength\": 0}, \"hovertemplate\": \"countryName=Montenegro<br>name=%{x}<br>count=%{y}\", \"legendgroup\": \"countryName=Montenegro\", \"marker\": {\"color\": \"#FECB52\", \"symbol\": \"circle\"}, \"mode\": \"markers\", \"name\": \"countryName=Montenegro\", \"showlegend\": true, \"type\": \"scatter\", \"uid\": \"79a4d46e-cbe2-48d5-a4a7-aee6ba5a1c79\", \"x\": [\"Podgorica\"], \"xaxis\": \"x\", \"y\": [2], \"yaxis\": \"y\"}, {\"alignmentgroup\": \"True\", \"bingroup\": \"x\", \"hoverlabel\": {\"namelength\": 0}, \"hovertemplate\": \"countryName=Montenegro<br>name=%{x}<br>count=%{y}\", \"legendgroup\": \"countryName=Montenegro\", \"marker\": {\"color\": \"#FECB52\"}, \"name\": \"countryName=Montenegro\", \"offsetgroup\": \"countryName=Montenegro\", \"opacity\": 0.5, \"showlegend\": false, \"type\": \"histogram\", \"uid\": \"8ab87733-5267-491b-bef7-c9ef31f6b0ff\", \"x\": [\"Podgorica\"], \"xaxis\": \"x\", \"yaxis\": \"y2\"}, {\"alignmentgroup\": \"True\", \"bingroup\": \"y\", \"hoverlabel\": {\"namelength\": 0}, \"hovertemplate\": \"countryName=Montenegro<br>count=%{x}\", \"legendgroup\": \"countryName=Montenegro\", \"marker\": {\"color\": \"#FECB52\"}, \"name\": \"countryName=Montenegro\", \"offsetgroup\": \"countryName=Montenegro\", \"opacity\": 0.5, \"showlegend\": false, \"type\": \"histogram\", \"uid\": \"7a8bc5db-b3d8-4209-8ec6-675a3bb4f2a2\", \"xaxis\": \"x2\", \"y\": [2], \"yaxis\": \"y\"}, {\"hoverlabel\": {\"namelength\": 0}, \"hovertemplate\": \"countryName=Moldova<br>name=%{x}<br>count=%{y}\", \"legendgroup\": \"countryName=Moldova\", \"marker\": {\"color\": \"#FFA15A\", \"symbol\": \"circle\"}, \"mode\": \"markers\", \"name\": \"countryName=Moldova\", \"showlegend\": true, \"type\": \"scatter\", \"uid\": \"36cea860-69e7-4e99-8008-c7a108b19b05\", \"x\": [\"Chisinau\"], \"xaxis\": \"x\", \"y\": [2], \"yaxis\": \"y\"}, {\"alignmentgroup\": \"True\", \"bingroup\": \"x\", \"hoverlabel\": {\"namelength\": 0}, \"hovertemplate\": \"countryName=Moldova<br>name=%{x}<br>count=%{y}\", \"legendgroup\": \"countryName=Moldova\", \"marker\": {\"color\": \"#FFA15A\"}, \"name\": \"countryName=Moldova\", \"offsetgroup\": \"countryName=Moldova\", \"opacity\": 0.5, \"showlegend\": false, \"type\": \"histogram\", \"uid\": \"9f831060-f875-44df-950f-8d4ee5a124f3\", \"x\": [\"Chisinau\"], \"xaxis\": \"x\", \"yaxis\": \"y2\"}, {\"alignmentgroup\": \"True\", \"bingroup\": \"y\", \"hoverlabel\": {\"namelength\": 0}, \"hovertemplate\": \"countryName=Moldova<br>count=%{x}\", \"legendgroup\": \"countryName=Moldova\", \"marker\": {\"color\": \"#FFA15A\"}, \"name\": \"countryName=Moldova\", \"offsetgroup\": \"countryName=Moldova\", \"opacity\": 0.5, \"showlegend\": false, \"type\": \"histogram\", \"uid\": \"1b48932f-f14b-4bcf-b644-cb196db1c9c2\", \"xaxis\": \"x2\", \"y\": [2], \"yaxis\": \"y\"}, {\"hoverlabel\": {\"namelength\": 0}, \"hovertemplate\": \"countryName=Monaco<br>name=%{x}<br>count=%{y}\", \"legendgroup\": \"countryName=Monaco\", \"marker\": {\"color\": \"#FF6692\", \"symbol\": \"circle\"}, \"mode\": \"markers\", \"name\": \"countryName=Monaco\", \"showlegend\": true, \"type\": \"scatter\", \"uid\": \"77ca90b7-f6e0-4d73-868a-745d325e0a4e\", \"x\": [\"Monaco\"], \"xaxis\": \"x\", \"y\": [2], \"yaxis\": \"y\"}, {\"alignmentgroup\": \"True\", \"bingroup\": \"x\", \"hoverlabel\": {\"namelength\": 0}, \"hovertemplate\": \"countryName=Monaco<br>name=%{x}<br>count=%{y}\", \"legendgroup\": \"countryName=Monaco\", \"marker\": {\"color\": \"#FF6692\"}, \"name\": \"countryName=Monaco\", \"offsetgroup\": \"countryName=Monaco\", \"opacity\": 0.5, \"showlegend\": false, \"type\": \"histogram\", \"uid\": \"a6e2e366-9ba9-4f9a-a6bc-cde4579db225\", \"x\": [\"Monaco\"], \"xaxis\": \"x\", \"yaxis\": \"y2\"}, {\"alignmentgroup\": \"True\", \"bingroup\": \"y\", \"hoverlabel\": {\"namelength\": 0}, \"hovertemplate\": \"countryName=Monaco<br>count=%{x}\", \"legendgroup\": \"countryName=Monaco\", \"marker\": {\"color\": \"#FF6692\"}, \"name\": \"countryName=Monaco\", \"offsetgroup\": \"countryName=Monaco\", \"opacity\": 0.5, \"showlegend\": false, \"type\": \"histogram\", \"uid\": \"5734a1f2-4102-43da-af7d-d7e535173f03\", \"xaxis\": \"x2\", \"y\": [2], \"yaxis\": \"y\"}],\n",
       "                        {\"barmode\": \"overlay\", \"height\": 900, \"legend\": {\"tracegroupgap\": 0}, \"template\": {\"data\": {\"bar\": [{\"marker\": {\"line\": {\"color\": \"#E5ECF6\", \"width\": 0.5}}, \"type\": \"bar\"}], \"barpolar\": [{\"marker\": {\"line\": {\"color\": \"#E5ECF6\", \"width\": 0.5}}, \"type\": \"barpolar\"}], \"carpet\": [{\"aaxis\": {\"endlinecolor\": \"#2a3f5f\", \"gridcolor\": \"white\", \"linecolor\": \"white\", \"minorgridcolor\": \"white\", \"startlinecolor\": \"#2a3f5f\"}, \"baxis\": {\"endlinecolor\": \"#2a3f5f\", \"gridcolor\": \"white\", \"linecolor\": \"white\", \"minorgridcolor\": \"white\", \"startlinecolor\": \"#2a3f5f\"}, \"type\": \"carpet\"}], \"choropleth\": [{\"colorbar\": {\"outlinewidth\": 0, \"ticks\": \"\"}, \"type\": \"choropleth\"}], \"contour\": [{\"colorbar\": {\"outlinewidth\": 0, \"ticks\": \"\"}, \"colorscale\": [[0.0, \"#0508b8\"], [0.0893854748603352, \"#1910d8\"], [0.1787709497206704, \"#3c19f0\"], [0.2681564245810056, \"#6b1cfb\"], [0.3575418994413408, \"#981cfd\"], [0.44692737430167595, \"#bf1cfd\"], [0.5363128491620112, \"#dd2bfd\"], [0.6256983240223464, \"#f246fe\"], [0.7150837988826816, \"#fc67fd\"], [0.8044692737430168, \"#fe88fc\"], [0.8938547486033519, \"#fea5fd\"], [0.9832402234636871, \"#febefe\"], [1.0, \"#fec3fe\"]], \"type\": \"contour\"}], \"contourcarpet\": [{\"colorbar\": {\"outlinewidth\": 0, \"ticks\": \"\"}, \"type\": \"contourcarpet\"}], \"heatmap\": [{\"colorbar\": {\"outlinewidth\": 0, \"ticks\": \"\"}, \"colorscale\": [[0.0, \"#0508b8\"], [0.0893854748603352, \"#1910d8\"], [0.1787709497206704, \"#3c19f0\"], [0.2681564245810056, \"#6b1cfb\"], [0.3575418994413408, \"#981cfd\"], [0.44692737430167595, \"#bf1cfd\"], [0.5363128491620112, \"#dd2bfd\"], [0.6256983240223464, \"#f246fe\"], [0.7150837988826816, \"#fc67fd\"], [0.8044692737430168, \"#fe88fc\"], [0.8938547486033519, \"#fea5fd\"], [0.9832402234636871, \"#febefe\"], [1.0, \"#fec3fe\"]], \"type\": \"heatmap\"}], \"heatmapgl\": [{\"colorbar\": {\"outlinewidth\": 0, \"ticks\": \"\"}, \"type\": \"heatmapgl\"}], \"histogram\": [{\"marker\": {\"colorbar\": {\"outlinewidth\": 0, \"ticks\": \"\"}}, \"type\": \"histogram\"}], \"histogram2d\": [{\"colorbar\": {\"outlinewidth\": 0, \"ticks\": \"\"}, \"colorscale\": [[0.0, \"#0508b8\"], [0.0893854748603352, \"#1910d8\"], [0.1787709497206704, \"#3c19f0\"], [0.2681564245810056, \"#6b1cfb\"], [0.3575418994413408, \"#981cfd\"], [0.44692737430167595, \"#bf1cfd\"], [0.5363128491620112, \"#dd2bfd\"], [0.6256983240223464, \"#f246fe\"], [0.7150837988826816, \"#fc67fd\"], [0.8044692737430168, \"#fe88fc\"], [0.8938547486033519, \"#fea5fd\"], [0.9832402234636871, \"#febefe\"], [1.0, \"#fec3fe\"]], \"type\": \"histogram2d\"}], \"histogram2dcontour\": [{\"colorbar\": {\"outlinewidth\": 0, \"ticks\": \"\"}, \"colorscale\": [[0.0, \"#0508b8\"], [0.0893854748603352, \"#1910d8\"], [0.1787709497206704, \"#3c19f0\"], [0.2681564245810056, \"#6b1cfb\"], [0.3575418994413408, \"#981cfd\"], [0.44692737430167595, \"#bf1cfd\"], [0.5363128491620112, \"#dd2bfd\"], [0.6256983240223464, \"#f246fe\"], [0.7150837988826816, \"#fc67fd\"], [0.8044692737430168, \"#fe88fc\"], [0.8938547486033519, \"#fea5fd\"], [0.9832402234636871, \"#febefe\"], [1.0, \"#fec3fe\"]], \"type\": \"histogram2dcontour\"}], \"mesh3d\": [{\"colorbar\": {\"outlinewidth\": 0, \"ticks\": \"\"}, \"type\": \"mesh3d\"}], \"parcoords\": [{\"line\": {\"colorbar\": {\"outlinewidth\": 0, \"ticks\": \"\"}}, \"type\": \"parcoords\"}], \"scatter\": [{\"marker\": {\"colorbar\": {\"outlinewidth\": 0, \"ticks\": \"\"}}, \"type\": \"scatter\"}], \"scatter3d\": [{\"marker\": {\"colorbar\": {\"outlinewidth\": 0, \"ticks\": \"\"}}, \"type\": \"scatter3d\"}], \"scattercarpet\": [{\"marker\": {\"colorbar\": {\"outlinewidth\": 0, \"ticks\": \"\"}}, \"type\": \"scattercarpet\"}], \"scattergeo\": [{\"marker\": {\"colorbar\": {\"outlinewidth\": 0, \"ticks\": \"\"}}, \"type\": \"scattergeo\"}], \"scattergl\": [{\"marker\": {\"colorbar\": {\"outlinewidth\": 0, \"ticks\": \"\"}}, \"type\": \"scattergl\"}], \"scattermapbox\": [{\"marker\": {\"colorbar\": {\"outlinewidth\": 0, \"ticks\": \"\"}}, \"type\": \"scattermapbox\"}], \"scatterpolar\": [{\"marker\": {\"colorbar\": {\"outlinewidth\": 0, \"ticks\": \"\"}}, \"type\": \"scatterpolar\"}], \"scatterpolargl\": [{\"marker\": {\"colorbar\": {\"outlinewidth\": 0, \"ticks\": \"\"}}, \"type\": \"scatterpolargl\"}], \"scatterternary\": [{\"marker\": {\"colorbar\": {\"outlinewidth\": 0, \"ticks\": \"\"}}, \"type\": \"scatterternary\"}], \"surface\": [{\"colorbar\": {\"outlinewidth\": 0, \"ticks\": \"\"}, \"type\": \"surface\"}], \"table\": [{\"cells\": {\"fill\": {\"color\": \"#EBF0F8\"}, \"line\": {\"color\": \"white\"}}, \"header\": {\"fill\": {\"color\": \"#C8D4E3\"}, \"line\": {\"color\": \"white\"}}, \"type\": \"table\"}]}, \"layout\": {\"annotationdefaults\": {\"arrowcolor\": \"#506784\", \"arrowhead\": 0, \"arrowwidth\": 1}, \"colorscale\": {\"diverging\": [[0, \"#8e0152\"], [0.1, \"#c51b7d\"], [0.2, \"#de77ae\"], [0.3, \"#f1b6da\"], [0.4, \"#fde0ef\"], [0.5, \"#f7f7f7\"], [0.6, \"#e6f5d0\"], [0.7, \"#b8e186\"], [0.8, \"#7fbc41\"], [0.9, \"#4d9221\"], [1, \"#276419\"]], \"sequential\": [[0.0, \"#0508b8\"], [0.0893854748603352, \"#1910d8\"], [0.1787709497206704, \"#3c19f0\"], [0.2681564245810056, \"#6b1cfb\"], [0.3575418994413408, \"#981cfd\"], [0.44692737430167595, \"#bf1cfd\"], [0.5363128491620112, \"#dd2bfd\"], [0.6256983240223464, \"#f246fe\"], [0.7150837988826816, \"#fc67fd\"], [0.8044692737430168, \"#fe88fc\"], [0.8938547486033519, \"#fea5fd\"], [0.9832402234636871, \"#febefe\"], [1.0, \"#fec3fe\"]], \"sequentialminus\": [[0.0, \"#0508b8\"], [0.0893854748603352, \"#1910d8\"], [0.1787709497206704, \"#3c19f0\"], [0.2681564245810056, \"#6b1cfb\"], [0.3575418994413408, \"#981cfd\"], [0.44692737430167595, \"#bf1cfd\"], [0.5363128491620112, \"#dd2bfd\"], [0.6256983240223464, \"#f246fe\"], [0.7150837988826816, \"#fc67fd\"], [0.8044692737430168, \"#fe88fc\"], [0.8938547486033519, \"#fea5fd\"], [0.9832402234636871, \"#febefe\"], [1.0, \"#fec3fe\"]]}, \"colorway\": [\"#636efa\", \"#EF553B\", \"#00cc96\", \"#ab63fa\", \"#19d3f3\", \"#e763fa\", \"#FECB52\", \"#FFA15A\", \"#FF6692\", \"#B6E880\"], \"font\": {\"color\": \"#2a3f5f\"}, \"geo\": {\"bgcolor\": \"white\", \"lakecolor\": \"white\", \"landcolor\": \"#E5ECF6\", \"showlakes\": true, \"showland\": true, \"subunitcolor\": \"white\"}, \"hoverlabel\": {\"align\": \"left\"}, \"hovermode\": \"closest\", \"mapbox\": {\"style\": \"light\"}, \"paper_bgcolor\": \"white\", \"plot_bgcolor\": \"#E5ECF6\", \"polar\": {\"angularaxis\": {\"gridcolor\": \"white\", \"linecolor\": \"white\", \"ticks\": \"\"}, \"bgcolor\": \"#E5ECF6\", \"radialaxis\": {\"gridcolor\": \"white\", \"linecolor\": \"white\", \"ticks\": \"\"}}, \"scene\": {\"xaxis\": {\"backgroundcolor\": \"#E5ECF6\", \"gridcolor\": \"white\", \"gridwidth\": 2, \"linecolor\": \"white\", \"showbackground\": true, \"ticks\": \"\", \"zerolinecolor\": \"white\"}, \"yaxis\": {\"backgroundcolor\": \"#E5ECF6\", \"gridcolor\": \"white\", \"gridwidth\": 2, \"linecolor\": \"white\", \"showbackground\": true, \"ticks\": \"\", \"zerolinecolor\": \"white\"}, \"zaxis\": {\"backgroundcolor\": \"#E5ECF6\", \"gridcolor\": \"white\", \"gridwidth\": 2, \"linecolor\": \"white\", \"showbackground\": true, \"ticks\": \"\", \"zerolinecolor\": \"white\"}}, \"shapedefaults\": {\"fillcolor\": \"#506784\", \"line\": {\"width\": 0}, \"opacity\": 0.4}, \"ternary\": {\"aaxis\": {\"gridcolor\": \"white\", \"linecolor\": \"white\", \"ticks\": \"\"}, \"baxis\": {\"gridcolor\": \"white\", \"linecolor\": \"white\", \"ticks\": \"\"}, \"bgcolor\": \"#E5ECF6\", \"caxis\": {\"gridcolor\": \"white\", \"linecolor\": \"white\", \"ticks\": \"\"}}, \"title\": {\"x\": 0.05}, \"xaxis\": {\"automargin\": true, \"gridcolor\": \"white\", \"linecolor\": \"white\", \"ticks\": \"\", \"zerolinecolor\": \"white\", \"zerolinewidth\": 2}, \"yaxis\": {\"automargin\": true, \"gridcolor\": \"white\", \"linecolor\": \"white\", \"ticks\": \"\", \"zerolinecolor\": \"white\", \"zerolinewidth\": 2}}}, \"title\": {\"text\": \"Title (marginal subplots = X/Y distribution)\"}, \"xaxis\": {\"domain\": [0, 0.74], \"showgrid\": true, \"title\": {\"text\": \"name\"}}, \"xaxis2\": {\"domain\": [0.745, 1], \"showticklabels\": false}, \"yaxis\": {\"domain\": [0, 0.74], \"showgrid\": true, \"title\": {\"text\": \"count\"}}, \"yaxis2\": {\"domain\": [0.745, 1], \"showticklabels\": false}},\n",
       "                        {\"showLink\": false, \"linkText\": \"Export to plot.ly\", \"plotlyServerURL\": \"https://plot.ly\", \"responsive\": true}\n",
       "                    ).then(function(){\n",
       "                            \n",
       "var gd = document.getElementById('4cd96593-1a34-46eb-8771-b321c99ca016');\n",
       "var x = new MutationObserver(function (mutations, observer) {{\n",
       "        var display = window.getComputedStyle(gd).display;\n",
       "        if (!display || display === 'none') {{\n",
       "            console.log([gd, 'removed!']);\n",
       "            Plotly.purge(gd);\n",
       "            observer.disconnect();\n",
       "        }}\n",
       "}});\n",
       "\n",
       "// Listen for the removal of the full notebook cells\n",
       "var notebookContainer = gd.closest('#notebook-container');\n",
       "if (notebookContainer) {{\n",
       "    x.observe(notebookContainer, {childList: true});\n",
       "}}\n",
       "\n",
       "// Listen for the clearing of the current output cell\n",
       "var outputEl = gd.closest('.output');\n",
       "if (outputEl) {{\n",
       "    x.observe(outputEl, {childList: true});\n",
       "}}\n",
       "\n",
       "                        })\n",
       "                };\n",
       "                });\n",
       "            </script>\n",
       "        </div>"
      ]
     },
     "metadata": {},
     "output_type": "display_data"
    }
   ],
   "source": [
    "px.scatter(df, x=\"name\", y=\"count\", color=\"countryName\", marginal_x=\"histogram\", marginal_y=\"histogram\", height=900, title=\"Title (marginal subplots = X/Y distribution)\")"
   ]
  },
  {
   "cell_type": "code",
   "execution_count": 17,
   "metadata": {},
   "outputs": [
    {
     "data": {
      "application/vnd.plotly.v1+json": {
       "config": {
        "linkText": "Export to plot.ly",
        "plotlyServerURL": "https://plot.ly",
        "showLink": false
       },
       "data": [
        {
         "hoverlabel": {
          "namelength": 0
         },
         "hovertemplate": "countryName=United Kingdom<br>name=%{x}<br>count=%{y}",
         "legendgroup": "countryName=United Kingdom",
         "marker": {
          "color": "#636efa",
          "symbol": "circle"
         },
         "mode": "markers",
         "name": "countryName=United Kingdom",
         "showlegend": true,
         "type": "scatter",
         "uid": "c8a11bf7-8311-45d0-afc5-17d69cec1779",
         "x": [
          "London",
          "Oxford",
          "Cambridge",
          "Manchester",
          "Edinburgh",
          "Newcastle upon Tyne",
          "Birmingham",
          "Glasgow",
          "Exeter",
          "Liverpool",
          "Leeds",
          "Sheffield",
          "Coventry",
          "Abingdon",
          "Cardiff",
          "York",
          "Redhill",
          "Southampton",
          "Norwich",
          "Aberdeen",
          "Bristol",
          "Welwyn Garden City",
          "Canterbury",
          "Nottingham",
          "Belfast",
          "Kingston upon Hull",
          "Durham",
          "Lancaster",
          "Leicester",
          "Didcot",
          "Saint Andrews",
          "Warrington",
          "Bath",
          "Runcorn",
          "Daresbury",
          "Dundee",
          "Warrington",
          "Taunton",
          "Swansea",
          "Reading",
          "Loughborough",
          "Egham",
          "Brighton",
          "Bangor",
          "Hatfield",
          "Newcastle under Lyme",
          "Craigavon",
          "Moreton",
          "Ormskirk",
          "Wallingford",
          "Bradford",
          "Guildford",
          "Colchester",
          "Derby",
          "Plymouth",
          "Paisley",
          "Box",
          "Chester",
          "Lancing",
          "Ipswich",
          "Wokingham",
          "Worcester",
          "Street",
          "Winchester",
          "High Wycombe",
          "Dalkeith",
          "Inverness",
          "Marlborough",
          "Milton Keynes",
          "Chesterfield",
          "Bournemouth",
          "Salford",
          "Scarborough",
          "Shipley",
          "Rotherham",
          "Bishops Stortford",
          "Bracknell",
          "Brierley Hill",
          "Brixham",
          "Bangor",
          "Airdrie",
          "Aylesbury",
          "Broadstairs",
          "Kirkcaldy",
          "Kilmarnock",
          "Lakenheath",
          "Larbert",
          "Lincoln",
          "Lowestoft",
          "Harpenden",
          "Coleraine",
          "Gateshead",
          "Cranfield",
          "Croydon",
          "Crumlin",
          "Dumfries",
          "Farnham",
          "Luton",
          "Wakefield",
          "Stoke-on-Trent",
          "Tranent",
          "Victoria",
          "Walkden",
          "Stirling",
          "Watford",
          "Witney",
          "Woking",
          "Stevenage",
          "Pontypridd",
          "Middlesbrough",
          "Newbury",
          "Newquay",
          "North Shields",
          "Peterborough",
          "Portsmouth",
          "Slough"
         ],
         "xaxis": "x",
         "y": [
          468,
          120,
          101,
          88,
          67,
          58,
          56,
          49,
          46,
          43,
          38,
          37,
          34,
          34,
          34,
          32,
          32,
          27,
          27,
          23,
          23,
          22,
          20,
          20,
          17,
          17,
          16,
          14,
          11,
          9,
          8,
          8,
          8,
          8,
          7,
          7,
          7,
          7,
          7,
          7,
          7,
          6,
          6,
          5,
          5,
          5,
          4,
          4,
          4,
          4,
          4,
          4,
          4,
          4,
          3,
          3,
          3,
          3,
          3,
          3,
          3,
          3,
          2,
          2,
          2,
          2,
          2,
          2,
          2,
          2,
          2,
          2,
          2,
          2,
          2,
          1,
          1,
          1,
          1,
          1,
          1,
          1,
          1,
          1,
          1,
          1,
          1,
          1,
          1,
          1,
          1,
          1,
          1,
          1,
          1,
          1,
          1,
          1,
          1,
          1,
          1,
          1,
          1,
          1,
          1,
          1,
          1,
          1,
          1,
          1,
          1,
          1,
          1,
          1,
          1,
          1
         ],
         "yaxis": "y"
        },
        {
         "hoverlabel": {
          "namelength": 0
         },
         "hovertemplate": "countryName=France<br>name=%{x}<br>count=%{y}",
         "legendgroup": "countryName=France",
         "marker": {
          "color": "#EF553B",
          "symbol": "circle"
         },
         "mode": "markers",
         "name": "countryName=France",
         "showlegend": true,
         "type": "scatter",
         "uid": "8b6ffd8d-d2d5-4fdf-8e8f-1837dbe80cb5",
         "x": [
          "Paris",
          "Lyon",
          "Villejuif",
          "Bordeaux",
          "Gif-sur-Yvette",
          "Marseille",
          "Montpellier",
          "Orsay",
          "Grenoble",
          "Pessac",
          "Tours",
          "Toulouse",
          "Brest",
          "Caen",
          "Angers",
          "Lille",
          "Saint-Martin-d’Hères",
          "Strasbourg",
          "Palaiseau",
          "Fontenay-aux-Roses",
          "Vinon-sur-Verdon",
          "Rennes",
          "Limoges",
          "Versailles",
          "Le Kremlin-Bicêtre",
          "Nancy",
          "Suresnes",
          "Nyons",
          "Créteil",
          "Dijon",
          "Jouy-en-Josas",
          "Nice",
          "Le Chesnay",
          "Villeurbanne",
          "Villetaneuse",
          "Vandœuvre-lès-Nancy",
          "Clermont-Ferrand",
          "Nantes",
          "Rouen",
          "Saint-Étienne",
          "Saint-Cloud",
          "Biot",
          "Besançon",
          "Amiens",
          "Saint-Mandé",
          "Saint-Genis-Laval",
          "Narbonne",
          "Avignon",
          "Fleury-Mérogis",
          "Illkirch-Graffenstaden",
          "Nanterre",
          "Issy-les-Moulineaux",
          "Nîmes",
          "Marcoussis",
          "Libourne",
          "Lorient",
          "Reims",
          "Le Pecq",
          "Valenciennes",
          "Vannes",
          "Perpignan",
          "Saint-Aubin",
          "La Rochelle",
          "Clamart",
          "Bron",
          "Meudon",
          "Arpajon",
          "Antony",
          "Aix-en-Provence",
          "Villeneuve-d'Ascq",
          "Saint-Maurice",
          "Tourcoing",
          "Talence",
          "Beauvais",
          "Chambéry",
          "Castanet-Tolosan",
          "Brétigny-sur-Orge",
          "Bourgoin",
          "Boulogne-Billancourt",
          "Beaune",
          "Châtillon",
          "Aulnay-sous-Bois",
          "Annecy-le-Vieux",
          "Annecy",
          "Ajaccio",
          "Abbeville",
          "Charleville-Mézières",
          "Orléans",
          "Nouzilly",
          "Nogent-sur-Marne",
          "Montivilliers",
          "Metz",
          "Meaux",
          "Le Mans",
          "Compiègne",
          "Firminy",
          "Écully",
          "Pierre-Bénite",
          "Pau",
          "Pleaux",
          "Plérin",
          "Saint-Germain-en-Laye",
          "Vaux-sur-Seine",
          "Tarbes",
          "Saint-Lô",
          "Saint-Julien-en-Genevois",
          "Roanne",
          "Ramonville-Saint-Agne",
          "Poitiers",
          "Villefranche-sur-Mer"
         ],
         "xaxis": "x",
         "y": [
          293,
          67,
          60,
          53,
          50,
          33,
          29,
          27,
          27,
          24,
          24,
          23,
          20,
          20,
          20,
          18,
          17,
          17,
          17,
          17,
          13,
          13,
          13,
          12,
          12,
          11,
          11,
          10,
          9,
          9,
          8,
          8,
          7,
          7,
          6,
          6,
          6,
          5,
          4,
          4,
          4,
          4,
          4,
          4,
          4,
          4,
          4,
          3,
          3,
          3,
          3,
          3,
          3,
          3,
          3,
          3,
          3,
          2,
          2,
          2,
          2,
          2,
          2,
          2,
          2,
          2,
          2,
          2,
          2,
          2,
          2,
          2,
          2,
          1,
          1,
          1,
          1,
          1,
          1,
          1,
          1,
          1,
          1,
          1,
          1,
          1,
          1,
          1,
          1,
          1,
          1,
          1,
          1,
          1,
          1,
          1,
          1,
          1,
          1,
          1,
          1,
          1,
          1,
          1,
          1,
          1,
          1,
          1,
          1,
          1
         ],
         "yaxis": "y"
        },
        {
         "hoverlabel": {
          "namelength": 0
         },
         "hovertemplate": "countryName=Spain<br>name=%{x}<br>count=%{y}",
         "legendgroup": "countryName=Spain",
         "marker": {
          "color": "#00cc96",
          "symbol": "circle"
         },
         "mode": "markers",
         "name": "countryName=Spain",
         "showlegend": true,
         "type": "scatter",
         "uid": "24d6c4a3-2f71-44dd-929b-dedb5c00efe7",
         "x": [
          "Barcelona",
          "Madrid",
          "Valencia",
          "Sevilla",
          "Granada",
          "Málaga",
          "Alcalá de Henares",
          "Santander",
          "Zaragoza",
          "Córdoba",
          "Pamplona",
          "Murcia",
          "Leioa",
          "Alicante",
          "Santiago de Compostela",
          "Oviedo",
          "Gasteiz / Vitoria",
          "Salamanca",
          "Santa Cruz de Tenerife",
          "Elche",
          "Albacete",
          "Bilbao",
          "Valladolid",
          "Logroño",
          "Jaén",
          "La Laguna",
          "Badajoz",
          "Ourense",
          "Girona",
          "Cañada",
          "Palma",
          "Almería",
          "Barakaldo",
          "Donostia / San Sebastián",
          "A Coruña",
          "Burgos",
          "Cadiz",
          "Castelló de la Plana",
          "Ciudad Real",
          "Paterna",
          "Villaviciosa",
          "Vigo",
          "Tarragona",
          "Lleida",
          "Fuenlabrada",
          "Tortosa",
          "Torrelavega",
          "Torrejón de Ardoz",
          "Sant Joan Despí",
          "Sant Cugat del Vallès",
          "Reus",
          "Zamora",
          "Pozuelo de Alarcón",
          "Olot",
          "Arrasate / Mondragón",
          "Valdemoro",
          "León",
          "Gijón",
          "Las Palmas de Gran Canaria",
          "Lorca",
          "Getafe",
          "Cuenca",
          "El Ejido",
          "Cartagena"
         ],
         "xaxis": "x",
         "y": [
          176,
          171,
          69,
          38,
          32,
          31,
          27,
          19,
          19,
          16,
          14,
          14,
          13,
          11,
          11,
          10,
          9,
          9,
          9,
          8,
          7,
          6,
          6,
          5,
          5,
          5,
          5,
          4,
          4,
          4,
          4,
          4,
          3,
          3,
          3,
          3,
          3,
          3,
          3,
          2,
          2,
          2,
          2,
          2,
          2,
          1,
          1,
          1,
          1,
          1,
          1,
          1,
          1,
          1,
          1,
          1,
          1,
          1,
          1,
          1,
          1,
          1,
          1,
          1
         ],
         "yaxis": "y"
        },
        {
         "hoverlabel": {
          "namelength": 0
         },
         "hovertemplate": "countryName=Netherlands<br>name=%{x}<br>count=%{y}",
         "legendgroup": "countryName=Netherlands",
         "marker": {
          "color": "#ab63fa",
          "symbol": "circle"
         },
         "mode": "markers",
         "name": "countryName=Netherlands",
         "showlegend": true,
         "type": "scatter",
         "uid": "d2f223eb-b5c1-466c-82f9-4d68c1021368",
         "x": [
          "Amsterdam",
          "Leiden",
          "Maastricht",
          "Utrecht",
          "Rotterdam",
          "Nijmegen",
          "Groningen",
          "Delft",
          "Wageningen",
          "Eindhoven",
          "Nieuwegein",
          "De Bilt",
          "Enschede",
          "The Hague",
          "Veldhoven",
          "Dordrecht",
          "Kampen",
          "Boxtel",
          "'s-Hertogenbosch",
          "Naarden",
          "Alkmaar",
          "Tilburg",
          "Noordwijk-Binnen",
          "Purmerend",
          "Hoofddorp",
          "Leeuwarden",
          "Vlaardingen",
          "Zwolle",
          "Hilversum",
          "Heteren",
          "Den Burg",
          "Almelo",
          "Amersfoort",
          "Arnhem"
         ],
         "xaxis": "x",
         "y": [
          172,
          82,
          75,
          63,
          60,
          49,
          40,
          20,
          17,
          17,
          14,
          13,
          12,
          9,
          6,
          6,
          6,
          3,
          3,
          2,
          2,
          2,
          2,
          2,
          1,
          1,
          1,
          1,
          1,
          1,
          1,
          1,
          1,
          1
         ],
         "yaxis": "y"
        },
        {
         "hoverlabel": {
          "namelength": 0
         },
         "hovertemplate": "countryName=Italy<br>name=%{x}<br>count=%{y}",
         "legendgroup": "countryName=Italy",
         "marker": {
          "color": "#19d3f3",
          "symbol": "circle"
         },
         "mode": "markers",
         "name": "countryName=Italy",
         "showlegend": true,
         "type": "scatter",
         "uid": "1975f0cc-a780-4622-91ba-61ac72e6a12b",
         "x": [
          "Milan",
          "Rome",
          "Florence",
          "Naples",
          "Padova",
          "Rozzano",
          "Turin",
          "Pisa",
          "Parma",
          "Bologna",
          "Chieti",
          "Perugia",
          "Pavia",
          "Brescia",
          "Palermo",
          "Genoa",
          "Verona",
          "Trieste",
          "Catania",
          "Bari",
          "Lecce",
          "Cagliari",
          "Udine",
          "Reggio Calabria",
          "Siena",
          "Modena",
          "Caserta",
          "Trento",
          "Bergamo",
          "L'Aquila",
          "Negrar",
          "Ancona",
          "Fisciano",
          "Campobasso",
          "Candiolo",
          "Bolzano",
          "Benevento",
          "Mangone",
          "Teramo",
          "Como",
          "Cassino",
          "Aviano",
          "Messina",
          "Veruno",
          "Monza",
          "Lodi",
          "Forlì",
          "Foggia",
          "Ferrara",
          "Cuneo",
          "San Vito al Tagliamento",
          "Bisceglie",
          "Sassari",
          "Venice",
          "Vicenza",
          "Seriate",
          "Scandiano",
          "Lumezzane",
          "Montescano",
          "Ravenna",
          "Pozzilli",
          "Pietra Ligure",
          "Piacenza",
          "Mantova",
          "Lecco",
          "Grosseto",
          "Reggio nell'Emilia",
          "Desio",
          "San Donato Milanese",
          "Urbino",
          "Treviso",
          "Tivoli",
          "Taranto",
          "San Giovanni Rotondo",
          "Este",
          "Cotignola",
          "Cosenza",
          "Castellaneta",
          "Casalecchio di Reno",
          "Brindisi",
          "Belluno",
          "Avezzano",
          "Aversa",
          "Asti",
          "Ariano Irpino-Martiri",
          "Arezzo",
          "Aosta"
         ],
         "xaxis": "x",
         "y": [
          163,
          154,
          54,
          41,
          35,
          35,
          34,
          32,
          25,
          24,
          23,
          23,
          20,
          19,
          18,
          16,
          16,
          15,
          14,
          13,
          11,
          11,
          9,
          9,
          9,
          8,
          7,
          7,
          6,
          6,
          6,
          6,
          5,
          5,
          5,
          4,
          4,
          4,
          3,
          3,
          3,
          3,
          3,
          3,
          2,
          2,
          2,
          2,
          2,
          2,
          2,
          2,
          2,
          2,
          2,
          2,
          2,
          1,
          1,
          1,
          1,
          1,
          1,
          1,
          1,
          1,
          1,
          1,
          1,
          1,
          1,
          1,
          1,
          1,
          1,
          1,
          1,
          1,
          1,
          1,
          1,
          1,
          1,
          1,
          1,
          1,
          1
         ],
         "yaxis": "y"
        },
        {
         "hoverlabel": {
          "namelength": 0
         },
         "hovertemplate": "countryName=Switzerland<br>name=%{x}<br>count=%{y}",
         "legendgroup": "countryName=Switzerland",
         "marker": {
          "color": "#e763fa",
          "symbol": "circle"
         },
         "mode": "markers",
         "name": "countryName=Switzerland",
         "showlegend": true,
         "type": "scatter",
         "uid": "e9ebafe3-ba40-4ac2-9343-fa2843124f92",
         "x": [
          "Zürich",
          "Lausanne",
          "Genève",
          "Basel",
          "Bern",
          "Fribourg",
          "Lugano",
          "Sankt Gallen",
          "Luzern",
          "Neuchâtel",
          "Genolier",
          "Villigen",
          "Rüschlikon",
          "Kaiseraugst",
          "Plan-les-Ouates",
          "Frick",
          "Winterthur",
          "Dübendorf",
          "Bassersdorf",
          "Davos",
          "Bellinzona",
          "Zürich (Kreis 7) / Hirslanden",
          "Kirchlindach",
          "Sitten",
          "Vevey",
          "Wallisellen"
         ],
         "xaxis": "x",
         "y": [
          147,
          114,
          84,
          55,
          46,
          26,
          24,
          14,
          11,
          10,
          10,
          8,
          4,
          4,
          2,
          2,
          2,
          2,
          2,
          2,
          2,
          1,
          1,
          1,
          1,
          1
         ],
         "yaxis": "y"
        },
        {
         "hoverlabel": {
          "namelength": 0
         },
         "hovertemplate": "countryName=Germany<br>name=%{x}<br>count=%{y}",
         "legendgroup": "countryName=Germany",
         "marker": {
          "color": "#FECB52",
          "symbol": "circle"
         },
         "mode": "markers",
         "name": "countryName=Germany",
         "showlegend": true,
         "type": "scatter",
         "uid": "96cfd16d-cc2f-40d1-8dd5-237f28bdee42",
         "x": [
          "Berlin",
          "Munich",
          "Heidelberg",
          "Hamburg",
          "Leipzig",
          "Freiburg",
          "Köln",
          "Göttingen",
          "Erlangen",
          "Essen",
          "Potsdam",
          "Garching bei München",
          "Frankfurt am Main",
          "Bonn",
          "Tübingen",
          "Gießen",
          "Bremen",
          "Mannheim",
          "Dresden",
          "Düsseldorf",
          "Kassel",
          "Bayreuth",
          "Osnabrück",
          "Bielefeld",
          "Hannover",
          "Kaiserslautern",
          "Greifswald",
          "Stuttgart",
          "Würzburg",
          "Münster",
          "Kiel",
          "Braunschweig",
          "Aachen",
          "Darmstadt",
          "Bochum",
          "Lübeck",
          "Jena",
          "Ludwigshafen am Rhein",
          "Marburg an der Lahn",
          "Mainz",
          "Karlsruhe",
          "Ulm",
          "Borstel",
          "Jülich",
          "Homburg",
          "Rostock",
          "Bad Nauheim",
          "Magdeburg",
          "Nürnberg",
          "Offenbach",
          "Oberkochen",
          "Regensburg",
          "Halle (Saale)",
          "Geesthacht",
          "Ingelheim am Rhein",
          "Augsburg",
          "Cottbus",
          "Chemnitz",
          "Freising",
          "Witten",
          "Trier",
          "Saarbrücken",
          "Sankt Augustin",
          "Schenefeld",
          "Erfurt",
          "Wiesbaden",
          "Oldenburg",
          "Bad Mergentheim",
          "Denzlingen",
          "Böblingen",
          "Bad Homburg vor der Höhe",
          "Strausberg",
          "Eisenach",
          "Eichstätt",
          "Werdohl",
          "Mittweida",
          "Unterschleißheim",
          "Garching an der Alz",
          "Fürth",
          "Friedrichshafen",
          "Warendorf",
          "Wesel",
          "Frankfurt (Oder)",
          "Ettlingen",
          "Tuttlingen",
          "Esslingen",
          "Weßling",
          "Dortmund",
          "Sigmaringen",
          "Denkendorf",
          "Mönchengladbach",
          "Murnau am Staffelsee",
          "Lengede",
          "Langenfeld",
          "Konstanz",
          "Neubrandenburg",
          "Oberschleißheim",
          "Pinneberg",
          "Siegen",
          "Rendsburg",
          "Rheda-Wiedenbrück",
          "Ilmenau",
          "Rosenheim",
          "Herne",
          "Hameln",
          "Schmallenberg",
          "Dachau",
          "Bad Oeynhausen",
          "Bremerhaven",
          "Bottrop",
          "Bad Münstereifel",
          "Bad Berka",
          "Albstadt",
          "Lüneburg"
         ],
         "xaxis": "x",
         "y": [
          135,
          115,
          106,
          89,
          69,
          57,
          57,
          54,
          41,
          41,
          40,
          38,
          38,
          32,
          31,
          29,
          29,
          28,
          25,
          22,
          21,
          21,
          20,
          20,
          20,
          19,
          19,
          18,
          17,
          17,
          16,
          16,
          14,
          14,
          13,
          12,
          12,
          10,
          10,
          10,
          10,
          10,
          9,
          9,
          8,
          7,
          7,
          6,
          6,
          5,
          5,
          5,
          5,
          5,
          4,
          4,
          4,
          4,
          4,
          4,
          3,
          3,
          3,
          3,
          3,
          3,
          3,
          3,
          3,
          2,
          2,
          2,
          2,
          2,
          2,
          1,
          1,
          1,
          1,
          1,
          1,
          1,
          1,
          1,
          1,
          1,
          1,
          1,
          1,
          1,
          1,
          1,
          1,
          1,
          1,
          1,
          1,
          1,
          1,
          1,
          1,
          1,
          1,
          1,
          1,
          1,
          1,
          1,
          1,
          1,
          1,
          1,
          1,
          1
         ],
         "yaxis": "y"
        },
        {
         "hoverlabel": {
          "namelength": 0
         },
         "hovertemplate": "countryName=Sweden<br>name=%{x}<br>count=%{y}",
         "legendgroup": "countryName=Sweden",
         "marker": {
          "color": "#FFA15A",
          "symbol": "circle"
         },
         "mode": "markers",
         "name": "countryName=Sweden",
         "showlegend": true,
         "type": "scatter",
         "uid": "a648d394-61f7-477b-bed3-c3c56547ed1e",
         "x": [
          "Stockholm",
          "Göteborg",
          "Lund",
          "Uppsala",
          "Linköping",
          "Umeå",
          "Örebro",
          "Södertälje",
          "Norrköping",
          "Solna",
          "Skövde",
          "Nacka",
          "Mölndal",
          "Malmö",
          "Karlstad",
          "Luleå",
          "Kista",
          "Eskilstuna",
          "Falun",
          "Gävle"
         ],
         "xaxis": "x",
         "y": [
          126,
          87,
          68,
          60,
          36,
          25,
          16,
          7,
          5,
          4,
          4,
          2,
          2,
          2,
          2,
          2,
          1,
          1,
          1,
          1
         ],
         "yaxis": "y"
        },
        {
         "hoverlabel": {
          "namelength": 0
         },
         "hovertemplate": "countryName=Norway<br>name=%{x}<br>count=%{y}",
         "legendgroup": "countryName=Norway",
         "marker": {
          "color": "#FF6692",
          "symbol": "circle"
         },
         "mode": "markers",
         "name": "countryName=Norway",
         "showlegend": true,
         "type": "scatter",
         "uid": "7c3ea5a7-ad0c-4114-820e-13ad9ec15cbc",
         "x": [
          "Oslo",
          "Bergen",
          "Stavanger",
          "Lillestrøm",
          "Trondheim",
          "Tromsø",
          "Ås",
          "Sandvika",
          "Hov",
          "Drammen",
          "Asker",
          "Tønsberg",
          "Arendal"
         ],
         "xaxis": "x",
         "y": [
          108,
          39,
          19,
          17,
          15,
          14,
          6,
          5,
          3,
          2,
          2,
          1,
          1
         ],
         "yaxis": "y"
        },
        {
         "hoverlabel": {
          "namelength": 0
         },
         "hovertemplate": "countryName=Belgium<br>name=%{x}<br>count=%{y}",
         "legendgroup": "countryName=Belgium",
         "marker": {
          "color": "#B6E880",
          "symbol": "circle"
         },
         "mode": "markers",
         "name": "countryName=Belgium",
         "showlegend": true,
         "type": "scatter",
         "uid": "13a89d35-a5bb-49d4-aeb3-df607b3114a4",
         "x": [
          "Leuven",
          "Gent",
          "Brussels",
          "Antwerpen",
          "Louvain-la-Neuve",
          "Liège",
          "Charleroi",
          "Aalst",
          "Torhout",
          "Sint-Niklaas",
          "Bonheiden",
          "Geel",
          "Gembloux",
          "Mechelen",
          "Melle",
          "Merelbeke",
          "Mol",
          "Mons",
          "Namur"
         ],
         "xaxis": "x",
         "y": [
          101,
          100,
          84,
          56,
          18,
          18,
          5,
          5,
          4,
          2,
          1,
          1,
          1,
          1,
          1,
          1,
          1,
          1,
          1
         ],
         "yaxis": "y"
        },
        {
         "hoverlabel": {
          "namelength": 0
         },
         "hovertemplate": "countryName=Denmark<br>name=%{x}<br>count=%{y}",
         "legendgroup": "countryName=Denmark",
         "marker": {
          "color": "#636efa",
          "symbol": "circle"
         },
         "mode": "markers",
         "name": "countryName=Denmark",
         "showlegend": true,
         "type": "scatter",
         "uid": "a9d0a545-7961-460c-816b-89e04de83284",
         "x": [
          "Århus",
          "Copenhagen",
          "Kongens Lyngby",
          "Aalborg",
          "Odense",
          "Roskilde",
          "Vejle",
          "Hvidovre",
          "Varde",
          "Herlev",
          "Bjerringbro",
          "Glostrup",
          "Holbæk",
          "Hørsholm",
          "Nykøbing Falster",
          "Taastrup"
         ],
         "xaxis": "x",
         "y": [
          96,
          86,
          31,
          18,
          14,
          12,
          6,
          6,
          4,
          2,
          1,
          1,
          1,
          1,
          1,
          1
         ],
         "yaxis": "y"
        },
        {
         "hoverlabel": {
          "namelength": 0
         },
         "hovertemplate": "countryName=Portugal<br>name=%{x}<br>count=%{y}",
         "legendgroup": "countryName=Portugal",
         "marker": {
          "color": "#EF553B",
          "symbol": "circle"
         },
         "mode": "markers",
         "name": "countryName=Portugal",
         "showlegend": true,
         "type": "scatter",
         "uid": "d4f13883-a339-4ddd-b30a-c309cdf4aa0c",
         "x": [
          "Lisbon",
          "Porto",
          "Coimbra",
          "Braga",
          "Aveiro",
          "Porto Salvo",
          "Amadora",
          "Carnaxide",
          "Oeiras",
          "Évora",
          "Leiria",
          "Matosinhos",
          "Castelo Branco",
          "Funchal",
          "Queluz"
         ],
         "xaxis": "x",
         "y": [
          94,
          48,
          24,
          22,
          6,
          5,
          3,
          3,
          3,
          2,
          2,
          1,
          1,
          1,
          1
         ],
         "yaxis": "y"
        },
        {
         "hoverlabel": {
          "namelength": 0
         },
         "hovertemplate": "countryName=Finland<br>name=%{x}<br>count=%{y}",
         "legendgroup": "countryName=Finland",
         "marker": {
          "color": "#00cc96",
          "symbol": "circle"
         },
         "mode": "markers",
         "name": "countryName=Finland",
         "showlegend": true,
         "type": "scatter",
         "uid": "9d3d6b02-f63c-4d18-8a2b-52a6a7d33d5c",
         "x": [
          "Helsinki",
          "Turku",
          "Kuopio",
          "Tampere",
          "Oulu",
          "Espoo",
          "Jyväskylä",
          "Jokioinen"
         ],
         "xaxis": "x",
         "y": [
          91,
          42,
          23,
          18,
          13,
          5,
          3,
          1
         ],
         "yaxis": "y"
        },
        {
         "hoverlabel": {
          "namelength": 0
         },
         "hovertemplate": "countryName=Russia<br>name=%{x}<br>count=%{y}",
         "legendgroup": "countryName=Russia",
         "marker": {
          "color": "#ab63fa",
          "symbol": "circle"
         },
         "mode": "markers",
         "name": "countryName=Russia",
         "showlegend": true,
         "type": "scatter",
         "uid": "31c501f1-d349-4962-9385-a50cf065cd93",
         "x": [
          "Moscow",
          "Novosibirsk",
          "Saint Petersburg",
          "Yekaterinburg",
          "Krasnoyarsk",
          "Nizhniy Novgorod",
          "Kazan",
          "Irkutsk",
          "Akademgorodok",
          "Kaliningrad",
          "Petropavlovsk-Kamchatsky",
          "Skolkovo",
          "Dolgoprudnyy",
          "Chelyabinsk",
          "Vladimir",
          "Amga",
          "Kemerovo",
          "Perm",
          "Komsomol’skiy",
          "Khimki",
          "Vladivostok",
          "Dubna",
          "Ryazan’"
         ],
         "xaxis": "x",
         "y": [
          90,
          40,
          26,
          5,
          5,
          4,
          4,
          4,
          4,
          3,
          2,
          2,
          2,
          2,
          1,
          1,
          1,
          1,
          1,
          1,
          1,
          1,
          1
         ],
         "yaxis": "y"
        },
        {
         "hoverlabel": {
          "namelength": 0
         },
         "hovertemplate": "countryName=Greece<br>name=%{x}<br>count=%{y}",
         "legendgroup": "countryName=Greece",
         "marker": {
          "color": "#19d3f3",
          "symbol": "circle"
         },
         "mode": "markers",
         "name": "countryName=Greece",
         "showlegend": true,
         "type": "scatter",
         "uid": "688b22a5-ab2a-40e6-8b98-f005d807e42b",
         "x": [
          "Athens",
          "Thessaloníki",
          "Irákleion",
          "Ioánnina",
          "Pátra",
          "Chaniá",
          "Rethymno",
          "Volos",
          "Mytilene",
          "Komotiní",
          "Kateríni",
          "Maroúsi",
          "Trípoli",
          "Piraeus",
          "Lamía",
          "Lárisa"
         ],
         "xaxis": "x",
         "y": [
          79,
          44,
          12,
          9,
          6,
          5,
          5,
          3,
          2,
          2,
          1,
          1,
          1,
          1,
          1,
          1
         ],
         "yaxis": "y"
        },
        {
         "hoverlabel": {
          "namelength": 0
         },
         "hovertemplate": "countryName=Czechia<br>name=%{x}<br>count=%{y}",
         "legendgroup": "countryName=Czechia",
         "marker": {
          "color": "#e763fa",
          "symbol": "circle"
         },
         "mode": "markers",
         "name": "countryName=Czechia",
         "showlegend": true,
         "type": "scatter",
         "uid": "a9409ec5-b831-4f7c-9fc6-d11c2e84c99d",
         "x": [
          "Prague",
          "Brno",
          "České Budějovice",
          "Ondřejov",
          "Dolní Břežany",
          "Liberec",
          "Olomouc",
          "Ostrava",
          "Pardubice",
          "Třeboň",
          "Vestec",
          "Podolí",
          "Opava",
          "Hradec Králové",
          "Břeclav"
         ],
         "xaxis": "x",
         "y": [
          76,
          29,
          6,
          4,
          3,
          3,
          3,
          3,
          2,
          2,
          1,
          1,
          1,
          1,
          1
         ],
         "yaxis": "y"
        },
        {
         "hoverlabel": {
          "namelength": 0
         },
         "hovertemplate": "countryName=Poland<br>name=%{x}<br>count=%{y}",
         "legendgroup": "countryName=Poland",
         "marker": {
          "color": "#FECB52",
          "symbol": "circle"
         },
         "mode": "markers",
         "name": "countryName=Poland",
         "showlegend": true,
         "type": "scatter",
         "uid": "0a38f563-6e2b-499c-ac40-24c9b2d26af4",
         "x": [
          "Warsaw",
          "Kraków",
          "Wrocław",
          "Poznań",
          "Białystok",
          "Gdańsk",
          "Łódź",
          "Lublin",
          "Toruń",
          "Bydgoszcz",
          "Katowice",
          "Zabrze",
          "Olsztyn",
          "Szczecin",
          "Rzeszów",
          "Puławy",
          "Gliwice",
          "Trzebownisko",
          "Siedlce",
          "Radom",
          "Legionowo",
          "Gdynia"
         ],
         "xaxis": "x",
         "y": [
          69,
          47,
          34,
          26,
          23,
          19,
          19,
          18,
          12,
          12,
          9,
          6,
          5,
          3,
          3,
          2,
          2,
          1,
          1,
          1,
          1,
          1
         ],
         "yaxis": "y"
        },
        {
         "hoverlabel": {
          "namelength": 0
         },
         "hovertemplate": "countryName=Austria<br>name=%{x}<br>count=%{y}",
         "legendgroup": "countryName=Austria",
         "marker": {
          "color": "#FFA15A",
          "symbol": "circle"
         },
         "mode": "markers",
         "name": "countryName=Austria",
         "showlegend": true,
         "type": "scatter",
         "uid": "7612ab0f-2352-4be4-b2c0-491ccccb2b5f",
         "x": [
          "Vienna",
          "Graz",
          "Innsbruck",
          "Salzburg",
          "Linz",
          "Laxenburg",
          "Wiener Neustadt",
          "Dornbirn",
          "Seibersdorf",
          "Wels",
          "Klagenfurt am Wörthersee",
          "Deutsch-Wagram",
          "Tulln",
          "Klosterneuburg",
          "Leoben"
         ],
         "xaxis": "x",
         "y": [
          54,
          37,
          25,
          18,
          11,
          6,
          5,
          4,
          4,
          4,
          3,
          3,
          2,
          1,
          1
         ],
         "yaxis": "y"
        },
        {
         "hoverlabel": {
          "namelength": 0
         },
         "hovertemplate": "countryName=Serbia<br>name=%{x}<br>count=%{y}",
         "legendgroup": "countryName=Serbia",
         "marker": {
          "color": "#FF6692",
          "symbol": "circle"
         },
         "mode": "markers",
         "name": "countryName=Serbia",
         "showlegend": true,
         "type": "scatter",
         "uid": "0c0d49e5-23c1-4211-bcb7-2b46b6f7d84d",
         "x": [
          "Belgrade",
          "Niš",
          "Pančevo",
          "Subotica",
          "Novi Sad"
         ],
         "xaxis": "x",
         "y": [
          46,
          2,
          1,
          1,
          1
         ],
         "yaxis": "y"
        },
        {
         "hoverlabel": {
          "namelength": 0
         },
         "hovertemplate": "countryName=Ireland<br>name=%{x}<br>count=%{y}",
         "legendgroup": "countryName=Ireland",
         "marker": {
          "color": "#B6E880",
          "symbol": "circle"
         },
         "mode": "markers",
         "name": "countryName=Ireland",
         "showlegend": true,
         "type": "scatter",
         "uid": "269390b6-bd42-433d-bfa2-00acd52796cc",
         "x": [
          "Dublin",
          "Gaillimh",
          "Cork",
          "Maynooth",
          "Carlow",
          "Waterford",
          "Naas"
         ],
         "xaxis": "x",
         "y": [
          42,
          17,
          9,
          5,
          2,
          1,
          1
         ],
         "yaxis": "y"
        },
        {
         "hoverlabel": {
          "namelength": 0
         },
         "hovertemplate": "countryName=Slovenia<br>name=%{x}<br>count=%{y}",
         "legendgroup": "countryName=Slovenia",
         "marker": {
          "color": "#636efa",
          "symbol": "circle"
         },
         "mode": "markers",
         "name": "countryName=Slovenia",
         "showlegend": true,
         "type": "scatter",
         "uid": "30e8e207-ee48-4a37-b694-e5a338dc9d5a",
         "x": [
          "Ljubljana",
          "Koper",
          "Maribor"
         ],
         "xaxis": "x",
         "y": [
          41,
          4,
          2
         ],
         "yaxis": "y"
        },
        {
         "hoverlabel": {
          "namelength": 0
         },
         "hovertemplate": "countryName=Romania<br>name=%{x}<br>count=%{y}",
         "legendgroup": "countryName=Romania",
         "marker": {
          "color": "#EF553B",
          "symbol": "circle"
         },
         "mode": "markers",
         "name": "countryName=Romania",
         "showlegend": true,
         "type": "scatter",
         "uid": "93cfe3b8-6321-40c9-96f9-a32300618473",
         "x": [
          "Bucharest",
          "Cluj-Napoca",
          "Iaşi",
          "Târgu-Mureş",
          "Sibiu",
          "Timişoara",
          "Oradea",
          "Suceava",
          "Tulcea",
          "Craiova",
          "Baloteşti",
          "Bacău",
          "Maşloc"
         ],
         "xaxis": "x",
         "y": [
          37,
          14,
          12,
          11,
          6,
          2,
          2,
          1,
          1,
          1,
          1,
          1,
          1
         ],
         "yaxis": "y"
        },
        {
         "hoverlabel": {
          "namelength": 0
         },
         "hovertemplate": "countryName=Hungary<br>name=%{x}<br>count=%{y}",
         "legendgroup": "countryName=Hungary",
         "marker": {
          "color": "#00cc96",
          "symbol": "circle"
         },
         "mode": "markers",
         "name": "countryName=Hungary",
         "showlegend": true,
         "type": "scatter",
         "uid": "bdba2bb5-eaad-4d8a-90ce-104bd41e92e0",
         "x": [
          "Budapest",
          "Szeged",
          "Debrecen",
          "Csongrád",
          "Győr",
          "Miskolc",
          "Pécs"
         ],
         "xaxis": "x",
         "y": [
          32,
          18,
          5,
          3,
          2,
          1,
          1
         ],
         "yaxis": "y"
        },
        {
         "hoverlabel": {
          "namelength": 0
         },
         "hovertemplate": "countryName=Slovakia<br>name=%{x}<br>count=%{y}",
         "legendgroup": "countryName=Slovakia",
         "marker": {
          "color": "#ab63fa",
          "symbol": "circle"
         },
         "mode": "markers",
         "name": "countryName=Slovakia",
         "showlegend": true,
         "type": "scatter",
         "uid": "d82c86a2-d5eb-47b1-9433-40025a4c58ae",
         "x": [
          "Bratislava",
          "Košice",
          "Žilina",
          "Trnava",
          "Nitra",
          "Komárno"
         ],
         "xaxis": "x",
         "y": [
          30,
          1,
          1,
          1,
          1,
          1
         ],
         "yaxis": "y"
        },
        {
         "hoverlabel": {
          "namelength": 0
         },
         "hovertemplate": "countryName=Malta<br>name=%{x}<br>count=%{y}",
         "legendgroup": "countryName=Malta",
         "marker": {
          "color": "#19d3f3",
          "symbol": "circle"
         },
         "mode": "markers",
         "name": "countryName=Malta",
         "showlegend": true,
         "type": "scatter",
         "uid": "c369dc55-4f8b-4a30-9ccf-923efbcf617e",
         "x": [
          "Imsida",
          "Victoria"
         ],
         "xaxis": "x",
         "y": [
          17,
          2
         ],
         "yaxis": "y"
        },
        {
         "hoverlabel": {
          "namelength": 0
         },
         "hovertemplate": "countryName=Bulgaria<br>name=%{x}<br>count=%{y}",
         "legendgroup": "countryName=Bulgaria",
         "marker": {
          "color": "#e763fa",
          "symbol": "circle"
         },
         "mode": "markers",
         "name": "countryName=Bulgaria",
         "showlegend": true,
         "type": "scatter",
         "uid": "580c8356-8613-4282-9066-45044ccae07c",
         "x": [
          "Sofia",
          "Plovdiv",
          "Pleven",
          "Veliko Tŭrnovo"
         ],
         "xaxis": "x",
         "y": [
          17,
          2,
          1,
          1
         ],
         "yaxis": "y"
        },
        {
         "hoverlabel": {
          "namelength": 0
         },
         "hovertemplate": "countryName=Croatia<br>name=%{x}<br>count=%{y}",
         "legendgroup": "countryName=Croatia",
         "marker": {
          "color": "#FECB52",
          "symbol": "circle"
         },
         "mode": "markers",
         "name": "countryName=Croatia",
         "showlegend": true,
         "type": "scatter",
         "uid": "9b872ecf-3b65-4ef4-9678-106d7be6b933",
         "x": [
          "Zagreb",
          "Split"
         ],
         "xaxis": "x",
         "y": [
          13,
          1
         ],
         "yaxis": "y"
        },
        {
         "hoverlabel": {
          "namelength": 0
         },
         "hovertemplate": "countryName=Ukraine<br>name=%{x}<br>count=%{y}",
         "legendgroup": "countryName=Ukraine",
         "marker": {
          "color": "#FFA15A",
          "symbol": "circle"
         },
         "mode": "markers",
         "name": "countryName=Ukraine",
         "showlegend": true,
         "type": "scatter",
         "uid": "0d092fdb-817c-440d-a0de-67e9dccc7264",
         "x": [
          "Kyiv",
          "Lviv",
          "Dnipro",
          "Bakhchisaray",
          "Odessa",
          "Kherson",
          "Kharkiv",
          "Vinnytsya",
          "Ternopil’"
         ],
         "xaxis": "x",
         "y": [
          9,
          8,
          8,
          4,
          3,
          2,
          2,
          1,
          1
         ],
         "yaxis": "y"
        },
        {
         "hoverlabel": {
          "namelength": 0
         },
         "hovertemplate": "countryName=Iceland<br>name=%{x}<br>count=%{y}",
         "legendgroup": "countryName=Iceland",
         "marker": {
          "color": "#FF6692",
          "symbol": "circle"
         },
         "mode": "markers",
         "name": "countryName=Iceland",
         "showlegend": true,
         "type": "scatter",
         "uid": "cfdd7443-f0e2-4fdf-9274-28bdf73ee4ea",
         "x": [
          "Reykjavík"
         ],
         "xaxis": "x",
         "y": [
          7
         ],
         "yaxis": "y"
        },
        {
         "hoverlabel": {
          "namelength": 0
         },
         "hovertemplate": "countryName=Estonia<br>name=%{x}<br>count=%{y}",
         "legendgroup": "countryName=Estonia",
         "marker": {
          "color": "#B6E880",
          "symbol": "circle"
         },
         "mode": "markers",
         "name": "countryName=Estonia",
         "showlegend": true,
         "type": "scatter",
         "uid": "a5312792-0c13-4dda-9ebd-20823fadc940",
         "x": [
          "Tartu",
          "Tallinn"
         ],
         "xaxis": "x",
         "y": [
          6,
          3
         ],
         "yaxis": "y"
        },
        {
         "hoverlabel": {
          "namelength": 0
         },
         "hovertemplate": "countryName=Belarus<br>name=%{x}<br>count=%{y}",
         "legendgroup": "countryName=Belarus",
         "marker": {
          "color": "#636efa",
          "symbol": "circle"
         },
         "mode": "markers",
         "name": "countryName=Belarus",
         "showlegend": true,
         "type": "scatter",
         "uid": "3612b9f6-8b0f-4966-8e3e-855b7b5c23b1",
         "x": [
          "Minsk",
          "Vitebsk"
         ],
         "xaxis": "x",
         "y": [
          6,
          1
         ],
         "yaxis": "y"
        },
        {
         "hoverlabel": {
          "namelength": 0
         },
         "hovertemplate": "countryName=Albania<br>name=%{x}<br>count=%{y}",
         "legendgroup": "countryName=Albania",
         "marker": {
          "color": "#EF553B",
          "symbol": "circle"
         },
         "mode": "markers",
         "name": "countryName=Albania",
         "showlegend": true,
         "type": "scatter",
         "uid": "57004d93-80dc-4411-9187-ee0c615ddd62",
         "x": [
          "Tirana",
          "Durrës",
          "Vlorë"
         ],
         "xaxis": "x",
         "y": [
          5,
          1,
          1
         ],
         "yaxis": "y"
        },
        {
         "hoverlabel": {
          "namelength": 0
         },
         "hovertemplate": "countryName=Latvia<br>name=%{x}<br>count=%{y}",
         "legendgroup": "countryName=Latvia",
         "marker": {
          "color": "#00cc96",
          "symbol": "circle"
         },
         "mode": "markers",
         "name": "countryName=Latvia",
         "showlegend": true,
         "type": "scatter",
         "uid": "bb2741fc-f3be-499b-b5df-4b067366ea3d",
         "x": [
          "Riga"
         ],
         "xaxis": "x",
         "y": [
          4
         ],
         "yaxis": "y"
        },
        {
         "hoverlabel": {
          "namelength": 0
         },
         "hovertemplate": "countryName=Lithuania<br>name=%{x}<br>count=%{y}",
         "legendgroup": "countryName=Lithuania",
         "marker": {
          "color": "#ab63fa",
          "symbol": "circle"
         },
         "mode": "markers",
         "name": "countryName=Lithuania",
         "showlegend": true,
         "type": "scatter",
         "uid": "ebf14cd5-441d-4550-9f39-e7878e92c04d",
         "x": [
          "Kaunas",
          "Vilnius"
         ],
         "xaxis": "x",
         "y": [
          3,
          1
         ],
         "yaxis": "y"
        },
        {
         "hoverlabel": {
          "namelength": 0
         },
         "hovertemplate": "countryName=Bosnia and Herzegovina<br>name=%{x}<br>count=%{y}",
         "legendgroup": "countryName=Bosnia and Herzegovina",
         "marker": {
          "color": "#19d3f3",
          "symbol": "circle"
         },
         "mode": "markers",
         "name": "countryName=Bosnia and Herzegovina",
         "showlegend": true,
         "type": "scatter",
         "uid": "facd86df-8853-4991-a6ae-93bcae6ef1f5",
         "x": [
          "Sarajevo",
          "Bijeljina"
         ],
         "xaxis": "x",
         "y": [
          3,
          2
         ],
         "yaxis": "y"
        },
        {
         "hoverlabel": {
          "namelength": 0
         },
         "hovertemplate": "countryName=Luxembourg<br>name=%{x}<br>count=%{y}",
         "legendgroup": "countryName=Luxembourg",
         "marker": {
          "color": "#e763fa",
          "symbol": "circle"
         },
         "mode": "markers",
         "name": "countryName=Luxembourg",
         "showlegend": true,
         "type": "scatter",
         "uid": "6b0f6959-b260-418d-b929-3b35dda19d9e",
         "x": [
          "Luxembourg"
         ],
         "xaxis": "x",
         "y": [
          3
         ],
         "yaxis": "y"
        },
        {
         "hoverlabel": {
          "namelength": 0
         },
         "hovertemplate": "countryName=Montenegro<br>name=%{x}<br>count=%{y}",
         "legendgroup": "countryName=Montenegro",
         "marker": {
          "color": "#FECB52",
          "symbol": "circle"
         },
         "mode": "markers",
         "name": "countryName=Montenegro",
         "showlegend": true,
         "type": "scatter",
         "uid": "df715291-2668-492a-ab02-965f8517e631",
         "x": [
          "Podgorica"
         ],
         "xaxis": "x",
         "y": [
          2
         ],
         "yaxis": "y"
        },
        {
         "hoverlabel": {
          "namelength": 0
         },
         "hovertemplate": "countryName=Moldova<br>name=%{x}<br>count=%{y}",
         "legendgroup": "countryName=Moldova",
         "marker": {
          "color": "#FFA15A",
          "symbol": "circle"
         },
         "mode": "markers",
         "name": "countryName=Moldova",
         "showlegend": true,
         "type": "scatter",
         "uid": "e12df899-d63d-478e-b5b7-fba958182de0",
         "x": [
          "Chisinau"
         ],
         "xaxis": "x",
         "y": [
          2
         ],
         "yaxis": "y"
        },
        {
         "hoverlabel": {
          "namelength": 0
         },
         "hovertemplate": "countryName=Monaco<br>name=%{x}<br>count=%{y}",
         "legendgroup": "countryName=Monaco",
         "marker": {
          "color": "#FF6692",
          "symbol": "circle"
         },
         "mode": "markers",
         "name": "countryName=Monaco",
         "showlegend": true,
         "type": "scatter",
         "uid": "ac89b0d2-18ac-4d21-8378-f1778675377a",
         "x": [
          "Monaco"
         ],
         "xaxis": "x",
         "y": [
          2
         ],
         "yaxis": "y"
        }
       ],
       "layout": {
        "autosize": true,
        "grid": {
         "xaxes": [
          "x"
         ],
         "xgap": 0.1,
         "xside": "bottom",
         "yaxes": [
          "y"
         ],
         "ygap": 0.1,
         "yside": "left"
        },
        "legend": {
         "tracegroupgap": 0
        },
        "margin": {
         "t": 60
        },
        "template": {
         "data": {
          "bar": [
           {
            "marker": {
             "line": {
              "color": "#E5ECF6",
              "width": 0.5
             }
            },
            "type": "bar"
           }
          ],
          "barpolar": [
           {
            "marker": {
             "line": {
              "color": "#E5ECF6",
              "width": 0.5
             }
            },
            "type": "barpolar"
           }
          ],
          "carpet": [
           {
            "aaxis": {
             "endlinecolor": "#2a3f5f",
             "gridcolor": "white",
             "linecolor": "white",
             "minorgridcolor": "white",
             "startlinecolor": "#2a3f5f"
            },
            "baxis": {
             "endlinecolor": "#2a3f5f",
             "gridcolor": "white",
             "linecolor": "white",
             "minorgridcolor": "white",
             "startlinecolor": "#2a3f5f"
            },
            "type": "carpet"
           }
          ],
          "choropleth": [
           {
            "colorbar": {
             "outlinewidth": 0,
             "ticks": ""
            },
            "type": "choropleth"
           }
          ],
          "contour": [
           {
            "colorbar": {
             "outlinewidth": 0,
             "ticks": ""
            },
            "colorscale": [
             [
              0,
              "#0508b8"
             ],
             [
              0.0893854748603352,
              "#1910d8"
             ],
             [
              0.1787709497206704,
              "#3c19f0"
             ],
             [
              0.2681564245810056,
              "#6b1cfb"
             ],
             [
              0.3575418994413408,
              "#981cfd"
             ],
             [
              0.44692737430167595,
              "#bf1cfd"
             ],
             [
              0.5363128491620112,
              "#dd2bfd"
             ],
             [
              0.6256983240223464,
              "#f246fe"
             ],
             [
              0.7150837988826816,
              "#fc67fd"
             ],
             [
              0.8044692737430168,
              "#fe88fc"
             ],
             [
              0.8938547486033519,
              "#fea5fd"
             ],
             [
              0.9832402234636871,
              "#febefe"
             ],
             [
              1,
              "#fec3fe"
             ]
            ],
            "type": "contour"
           }
          ],
          "contourcarpet": [
           {
            "colorbar": {
             "outlinewidth": 0,
             "ticks": ""
            },
            "type": "contourcarpet"
           }
          ],
          "heatmap": [
           {
            "colorbar": {
             "outlinewidth": 0,
             "ticks": ""
            },
            "colorscale": [
             [
              0,
              "#0508b8"
             ],
             [
              0.0893854748603352,
              "#1910d8"
             ],
             [
              0.1787709497206704,
              "#3c19f0"
             ],
             [
              0.2681564245810056,
              "#6b1cfb"
             ],
             [
              0.3575418994413408,
              "#981cfd"
             ],
             [
              0.44692737430167595,
              "#bf1cfd"
             ],
             [
              0.5363128491620112,
              "#dd2bfd"
             ],
             [
              0.6256983240223464,
              "#f246fe"
             ],
             [
              0.7150837988826816,
              "#fc67fd"
             ],
             [
              0.8044692737430168,
              "#fe88fc"
             ],
             [
              0.8938547486033519,
              "#fea5fd"
             ],
             [
              0.9832402234636871,
              "#febefe"
             ],
             [
              1,
              "#fec3fe"
             ]
            ],
            "type": "heatmap"
           }
          ],
          "heatmapgl": [
           {
            "colorbar": {
             "outlinewidth": 0,
             "ticks": ""
            },
            "type": "heatmapgl"
           }
          ],
          "histogram": [
           {
            "marker": {
             "colorbar": {
              "outlinewidth": 0,
              "ticks": ""
             }
            },
            "type": "histogram"
           }
          ],
          "histogram2d": [
           {
            "colorbar": {
             "outlinewidth": 0,
             "ticks": ""
            },
            "colorscale": [
             [
              0,
              "#0508b8"
             ],
             [
              0.0893854748603352,
              "#1910d8"
             ],
             [
              0.1787709497206704,
              "#3c19f0"
             ],
             [
              0.2681564245810056,
              "#6b1cfb"
             ],
             [
              0.3575418994413408,
              "#981cfd"
             ],
             [
              0.44692737430167595,
              "#bf1cfd"
             ],
             [
              0.5363128491620112,
              "#dd2bfd"
             ],
             [
              0.6256983240223464,
              "#f246fe"
             ],
             [
              0.7150837988826816,
              "#fc67fd"
             ],
             [
              0.8044692737430168,
              "#fe88fc"
             ],
             [
              0.8938547486033519,
              "#fea5fd"
             ],
             [
              0.9832402234636871,
              "#febefe"
             ],
             [
              1,
              "#fec3fe"
             ]
            ],
            "type": "histogram2d"
           }
          ],
          "histogram2dcontour": [
           {
            "colorbar": {
             "outlinewidth": 0,
             "ticks": ""
            },
            "colorscale": [
             [
              0,
              "#0508b8"
             ],
             [
              0.0893854748603352,
              "#1910d8"
             ],
             [
              0.1787709497206704,
              "#3c19f0"
             ],
             [
              0.2681564245810056,
              "#6b1cfb"
             ],
             [
              0.3575418994413408,
              "#981cfd"
             ],
             [
              0.44692737430167595,
              "#bf1cfd"
             ],
             [
              0.5363128491620112,
              "#dd2bfd"
             ],
             [
              0.6256983240223464,
              "#f246fe"
             ],
             [
              0.7150837988826816,
              "#fc67fd"
             ],
             [
              0.8044692737430168,
              "#fe88fc"
             ],
             [
              0.8938547486033519,
              "#fea5fd"
             ],
             [
              0.9832402234636871,
              "#febefe"
             ],
             [
              1,
              "#fec3fe"
             ]
            ],
            "type": "histogram2dcontour"
           }
          ],
          "mesh3d": [
           {
            "colorbar": {
             "outlinewidth": 0,
             "ticks": ""
            },
            "type": "mesh3d"
           }
          ],
          "parcoords": [
           {
            "line": {
             "colorbar": {
              "outlinewidth": 0,
              "ticks": ""
             }
            },
            "type": "parcoords"
           }
          ],
          "scatter": [
           {
            "marker": {
             "colorbar": {
              "outlinewidth": 0,
              "ticks": ""
             }
            },
            "type": "scatter"
           }
          ],
          "scatter3d": [
           {
            "marker": {
             "colorbar": {
              "outlinewidth": 0,
              "ticks": ""
             }
            },
            "type": "scatter3d"
           }
          ],
          "scattercarpet": [
           {
            "marker": {
             "colorbar": {
              "outlinewidth": 0,
              "ticks": ""
             }
            },
            "type": "scattercarpet"
           }
          ],
          "scattergeo": [
           {
            "marker": {
             "colorbar": {
              "outlinewidth": 0,
              "ticks": ""
             }
            },
            "type": "scattergeo"
           }
          ],
          "scattergl": [
           {
            "marker": {
             "colorbar": {
              "outlinewidth": 0,
              "ticks": ""
             }
            },
            "type": "scattergl"
           }
          ],
          "scattermapbox": [
           {
            "marker": {
             "colorbar": {
              "outlinewidth": 0,
              "ticks": ""
             }
            },
            "type": "scattermapbox"
           }
          ],
          "scatterpolar": [
           {
            "marker": {
             "colorbar": {
              "outlinewidth": 0,
              "ticks": ""
             }
            },
            "type": "scatterpolar"
           }
          ],
          "scatterpolargl": [
           {
            "marker": {
             "colorbar": {
              "outlinewidth": 0,
              "ticks": ""
             }
            },
            "type": "scatterpolargl"
           }
          ],
          "scatterternary": [
           {
            "marker": {
             "colorbar": {
              "outlinewidth": 0,
              "ticks": ""
             }
            },
            "type": "scatterternary"
           }
          ],
          "surface": [
           {
            "colorbar": {
             "outlinewidth": 0,
             "ticks": ""
            },
            "type": "surface"
           }
          ],
          "table": [
           {
            "cells": {
             "fill": {
              "color": "#EBF0F8"
             },
             "line": {
              "color": "white"
             }
            },
            "header": {
             "fill": {
              "color": "#C8D4E3"
             },
             "line": {
              "color": "white"
             }
            },
            "type": "table"
           }
          ]
         },
         "layout": {
          "annotationdefaults": {
           "arrowcolor": "#506784",
           "arrowhead": 0,
           "arrowwidth": 1
          },
          "colorscale": {
           "diverging": [
            [
             0,
             "#8e0152"
            ],
            [
             0.1,
             "#c51b7d"
            ],
            [
             0.2,
             "#de77ae"
            ],
            [
             0.3,
             "#f1b6da"
            ],
            [
             0.4,
             "#fde0ef"
            ],
            [
             0.5,
             "#f7f7f7"
            ],
            [
             0.6,
             "#e6f5d0"
            ],
            [
             0.7,
             "#b8e186"
            ],
            [
             0.8,
             "#7fbc41"
            ],
            [
             0.9,
             "#4d9221"
            ],
            [
             1,
             "#276419"
            ]
           ],
           "sequential": [
            [
             0,
             "#0508b8"
            ],
            [
             0.0893854748603352,
             "#1910d8"
            ],
            [
             0.1787709497206704,
             "#3c19f0"
            ],
            [
             0.2681564245810056,
             "#6b1cfb"
            ],
            [
             0.3575418994413408,
             "#981cfd"
            ],
            [
             0.44692737430167595,
             "#bf1cfd"
            ],
            [
             0.5363128491620112,
             "#dd2bfd"
            ],
            [
             0.6256983240223464,
             "#f246fe"
            ],
            [
             0.7150837988826816,
             "#fc67fd"
            ],
            [
             0.8044692737430168,
             "#fe88fc"
            ],
            [
             0.8938547486033519,
             "#fea5fd"
            ],
            [
             0.9832402234636871,
             "#febefe"
            ],
            [
             1,
             "#fec3fe"
            ]
           ],
           "sequentialminus": [
            [
             0,
             "#0508b8"
            ],
            [
             0.0893854748603352,
             "#1910d8"
            ],
            [
             0.1787709497206704,
             "#3c19f0"
            ],
            [
             0.2681564245810056,
             "#6b1cfb"
            ],
            [
             0.3575418994413408,
             "#981cfd"
            ],
            [
             0.44692737430167595,
             "#bf1cfd"
            ],
            [
             0.5363128491620112,
             "#dd2bfd"
            ],
            [
             0.6256983240223464,
             "#f246fe"
            ],
            [
             0.7150837988826816,
             "#fc67fd"
            ],
            [
             0.8044692737430168,
             "#fe88fc"
            ],
            [
             0.8938547486033519,
             "#fea5fd"
            ],
            [
             0.9832402234636871,
             "#febefe"
            ],
            [
             1,
             "#fec3fe"
            ]
           ]
          },
          "colorway": [
           "#636efa",
           "#EF553B",
           "#00cc96",
           "#ab63fa",
           "#19d3f3",
           "#e763fa",
           "#FECB52",
           "#FFA15A",
           "#FF6692",
           "#B6E880"
          ],
          "font": {
           "color": "#2a3f5f"
          },
          "geo": {
           "bgcolor": "white",
           "lakecolor": "white",
           "landcolor": "#E5ECF6",
           "showlakes": true,
           "showland": true,
           "subunitcolor": "white"
          },
          "hoverlabel": {
           "align": "left"
          },
          "hovermode": "closest",
          "mapbox": {
           "style": "light"
          },
          "paper_bgcolor": "white",
          "plot_bgcolor": "#E5ECF6",
          "polar": {
           "angularaxis": {
            "gridcolor": "white",
            "linecolor": "white",
            "ticks": ""
           },
           "bgcolor": "#E5ECF6",
           "radialaxis": {
            "gridcolor": "white",
            "linecolor": "white",
            "ticks": ""
           }
          },
          "scene": {
           "xaxis": {
            "backgroundcolor": "#E5ECF6",
            "gridcolor": "white",
            "gridwidth": 2,
            "linecolor": "white",
            "showbackground": true,
            "ticks": "",
            "zerolinecolor": "white"
           },
           "yaxis": {
            "backgroundcolor": "#E5ECF6",
            "gridcolor": "white",
            "gridwidth": 2,
            "linecolor": "white",
            "showbackground": true,
            "ticks": "",
            "zerolinecolor": "white"
           },
           "zaxis": {
            "backgroundcolor": "#E5ECF6",
            "gridcolor": "white",
            "gridwidth": 2,
            "linecolor": "white",
            "showbackground": true,
            "ticks": "",
            "zerolinecolor": "white"
           }
          },
          "shapedefaults": {
           "fillcolor": "#506784",
           "line": {
            "width": 0
           },
           "opacity": 0.4
          },
          "ternary": {
           "aaxis": {
            "gridcolor": "white",
            "linecolor": "white",
            "ticks": ""
           },
           "baxis": {
            "gridcolor": "white",
            "linecolor": "white",
            "ticks": ""
           },
           "bgcolor": "#E5ECF6",
           "caxis": {
            "gridcolor": "white",
            "linecolor": "white",
            "ticks": ""
           }
          },
          "title": {
           "x": 0.05
          },
          "xaxis": {
           "automargin": true,
           "gridcolor": "white",
           "linecolor": "white",
           "ticks": "",
           "zerolinecolor": "white",
           "zerolinewidth": 2
          },
          "yaxis": {
           "automargin": true,
           "gridcolor": "white",
           "linecolor": "white",
           "ticks": "",
           "zerolinecolor": "white",
           "zerolinewidth": 2
          }
         }
        },
        "xaxis": {
         "autorange": true,
         "range": [
          -48.83177918687058,
          852.8317791868706
         ],
         "title": {
          "text": "name"
         },
         "type": "category"
        },
        "yaxis": {
         "autorange": true,
         "range": [
          -30.76158445440957,
          499.76158445440956
         ],
         "title": {
          "text": "count"
         },
         "type": "linear"
        }
       }
      },
      "image/png": "[encoded data removed]",
      "text/html": [
       "<div>\n",
       "        \n",
       "        \n",
       "            <div id=\"5eebfc58-c96e-4e3e-bd21-f839de1520d9\" class=\"plotly-graph-div\" style=\"height:600px; width:100%;\"></div>\n",
       "            <script type=\"text/javascript\">\n",
       "                require([\"plotly\"], function(Plotly) {\n",
       "                    window.PLOTLYENV=window.PLOTLYENV || {};\n",
       "                    window.PLOTLYENV.BASE_URL='https://plot.ly';\n",
       "                    \n",
       "                if (document.getElementById(\"5eebfc58-c96e-4e3e-bd21-f839de1520d9\")) {\n",
       "                    Plotly.newPlot(\n",
       "                        '5eebfc58-c96e-4e3e-bd21-f839de1520d9',\n",
       "                        [{\"hoverlabel\": {\"namelength\": 0}, \"hovertemplate\": \"countryName=United Kingdom<br>name=%{x}<br>count=%{y}\", \"legendgroup\": \"countryName=United Kingdom\", \"marker\": {\"color\": \"#636efa\", \"symbol\": \"circle\"}, \"mode\": \"markers\", \"name\": \"countryName=United Kingdom\", \"showlegend\": true, \"type\": \"scatter\", \"uid\": \"c8a11bf7-8311-45d0-afc5-17d69cec1779\", \"x\": [\"London\", \"Oxford\", \"Cambridge\", \"Manchester\", \"Edinburgh\", \"Newcastle upon Tyne\", \"Birmingham\", \"Glasgow\", \"Exeter\", \"Liverpool\", \"Leeds\", \"Sheffield\", \"Coventry\", \"Abingdon\", \"Cardiff\", \"York\", \"Redhill\", \"Southampton\", \"Norwich\", \"Aberdeen\", \"Bristol\", \"Welwyn Garden City\", \"Canterbury\", \"Nottingham\", \"Belfast\", \"Kingston upon Hull\", \"Durham\", \"Lancaster\", \"Leicester\", \"Didcot\", \"Saint Andrews\", \"Warrington\", \"Bath\", \"Runcorn\", \"Daresbury\", \"Dundee\", \"Warrington\", \"Taunton\", \"Swansea\", \"Reading\", \"Loughborough\", \"Egham\", \"Brighton\", \"Bangor\", \"Hatfield\", \"Newcastle under Lyme\", \"Craigavon\", \"Moreton\", \"Ormskirk\", \"Wallingford\", \"Bradford\", \"Guildford\", \"Colchester\", \"Derby\", \"Plymouth\", \"Paisley\", \"Box\", \"Chester\", \"Lancing\", \"Ipswich\", \"Wokingham\", \"Worcester\", \"Street\", \"Winchester\", \"High Wycombe\", \"Dalkeith\", \"Inverness\", \"Marlborough\", \"Milton Keynes\", \"Chesterfield\", \"Bournemouth\", \"Salford\", \"Scarborough\", \"Shipley\", \"Rotherham\", \"Bishops Stortford\", \"Bracknell\", \"Brierley Hill\", \"Brixham\", \"Bangor\", \"Airdrie\", \"Aylesbury\", \"Broadstairs\", \"Kirkcaldy\", \"Kilmarnock\", \"Lakenheath\", \"Larbert\", \"Lincoln\", \"Lowestoft\", \"Harpenden\", \"Coleraine\", \"Gateshead\", \"Cranfield\", \"Croydon\", \"Crumlin\", \"Dumfries\", \"Farnham\", \"Luton\", \"Wakefield\", \"Stoke-on-Trent\", \"Tranent\", \"Victoria\", \"Walkden\", \"Stirling\", \"Watford\", \"Witney\", \"Woking\", \"Stevenage\", \"Pontypridd\", \"Middlesbrough\", \"Newbury\", \"Newquay\", \"North Shields\", \"Peterborough\", \"Portsmouth\", \"Slough\"], \"xaxis\": \"x\", \"y\": [468, 120, 101, 88, 67, 58, 56, 49, 46, 43, 38, 37, 34, 34, 34, 32, 32, 27, 27, 23, 23, 22, 20, 20, 17, 17, 16, 14, 11, 9, 8, 8, 8, 8, 7, 7, 7, 7, 7, 7, 7, 6, 6, 5, 5, 5, 4, 4, 4, 4, 4, 4, 4, 4, 3, 3, 3, 3, 3, 3, 3, 3, 2, 2, 2, 2, 2, 2, 2, 2, 2, 2, 2, 2, 2, 1, 1, 1, 1, 1, 1, 1, 1, 1, 1, 1, 1, 1, 1, 1, 1, 1, 1, 1, 1, 1, 1, 1, 1, 1, 1, 1, 1, 1, 1, 1, 1, 1, 1, 1, 1, 1, 1, 1, 1, 1], \"yaxis\": \"y\"}, {\"hoverlabel\": {\"namelength\": 0}, \"hovertemplate\": \"countryName=France<br>name=%{x}<br>count=%{y}\", \"legendgroup\": \"countryName=France\", \"marker\": {\"color\": \"#EF553B\", \"symbol\": \"circle\"}, \"mode\": \"markers\", \"name\": \"countryName=France\", \"showlegend\": true, \"type\": \"scatter\", \"uid\": \"8b6ffd8d-d2d5-4fdf-8e8f-1837dbe80cb5\", \"x\": [\"Paris\", \"Lyon\", \"Villejuif\", \"Bordeaux\", \"Gif-sur-Yvette\", \"Marseille\", \"Montpellier\", \"Orsay\", \"Grenoble\", \"Pessac\", \"Tours\", \"Toulouse\", \"Brest\", \"Caen\", \"Angers\", \"Lille\", \"Saint-Martin-d\\u2019H\\u00e8res\", \"Strasbourg\", \"Palaiseau\", \"Fontenay-aux-Roses\", \"Vinon-sur-Verdon\", \"Rennes\", \"Limoges\", \"Versailles\", \"Le Kremlin-Bic\\u00eatre\", \"Nancy\", \"Suresnes\", \"Nyons\", \"Cr\\u00e9teil\", \"Dijon\", \"Jouy-en-Josas\", \"Nice\", \"Le Chesnay\", \"Villeurbanne\", \"Villetaneuse\", \"Vand\\u0153uvre-l\\u00e8s-Nancy\", \"Clermont-Ferrand\", \"Nantes\", \"Rouen\", \"Saint-\\u00c9tienne\", \"Saint-Cloud\", \"Biot\", \"Besan\\u00e7on\", \"Amiens\", \"Saint-Mand\\u00e9\", \"Saint-Genis-Laval\", \"Narbonne\", \"Avignon\", \"Fleury-M\\u00e9rogis\", \"Illkirch-Graffenstaden\", \"Nanterre\", \"Issy-les-Moulineaux\", \"N\\u00eemes\", \"Marcoussis\", \"Libourne\", \"Lorient\", \"Reims\", \"Le Pecq\", \"Valenciennes\", \"Vannes\", \"Perpignan\", \"Saint-Aubin\", \"La Rochelle\", \"Clamart\", \"Bron\", \"Meudon\", \"Arpajon\", \"Antony\", \"Aix-en-Provence\", \"Villeneuve-d'Ascq\", \"Saint-Maurice\", \"Tourcoing\", \"Talence\", \"Beauvais\", \"Chamb\\u00e9ry\", \"Castanet-Tolosan\", \"Br\\u00e9tigny-sur-Orge\", \"Bourgoin\", \"Boulogne-Billancourt\", \"Beaune\", \"Ch\\u00e2tillon\", \"Aulnay-sous-Bois\", \"Annecy-le-Vieux\", \"Annecy\", \"Ajaccio\", \"Abbeville\", \"Charleville-M\\u00e9zi\\u00e8res\", \"Orl\\u00e9ans\", \"Nouzilly\", \"Nogent-sur-Marne\", \"Montivilliers\", \"Metz\", \"Meaux\", \"Le Mans\", \"Compi\\u00e8gne\", \"Firminy\", \"\\u00c9cully\", \"Pierre-B\\u00e9nite\", \"Pau\", \"Pleaux\", \"Pl\\u00e9rin\", \"Saint-Germain-en-Laye\", \"Vaux-sur-Seine\", \"Tarbes\", \"Saint-L\\u00f4\", \"Saint-Julien-en-Genevois\", \"Roanne\", \"Ramonville-Saint-Agne\", \"Poitiers\", \"Villefranche-sur-Mer\"], \"xaxis\": \"x\", \"y\": [293, 67, 60, 53, 50, 33, 29, 27, 27, 24, 24, 23, 20, 20, 20, 18, 17, 17, 17, 17, 13, 13, 13, 12, 12, 11, 11, 10, 9, 9, 8, 8, 7, 7, 6, 6, 6, 5, 4, 4, 4, 4, 4, 4, 4, 4, 4, 3, 3, 3, 3, 3, 3, 3, 3, 3, 3, 2, 2, 2, 2, 2, 2, 2, 2, 2, 2, 2, 2, 2, 2, 2, 2, 1, 1, 1, 1, 1, 1, 1, 1, 1, 1, 1, 1, 1, 1, 1, 1, 1, 1, 1, 1, 1, 1, 1, 1, 1, 1, 1, 1, 1, 1, 1, 1, 1, 1, 1, 1, 1], \"yaxis\": \"y\"}, {\"hoverlabel\": {\"namelength\": 0}, \"hovertemplate\": \"countryName=Spain<br>name=%{x}<br>count=%{y}\", \"legendgroup\": \"countryName=Spain\", \"marker\": {\"color\": \"#00cc96\", \"symbol\": \"circle\"}, \"mode\": \"markers\", \"name\": \"countryName=Spain\", \"showlegend\": true, \"type\": \"scatter\", \"uid\": \"24d6c4a3-2f71-44dd-929b-dedb5c00efe7\", \"x\": [\"Barcelona\", \"Madrid\", \"Valencia\", \"Sevilla\", \"Granada\", \"M\\u00e1laga\", \"Alcal\\u00e1 de Henares\", \"Santander\", \"Zaragoza\", \"C\\u00f3rdoba\", \"Pamplona\", \"Murcia\", \"Leioa\", \"Alicante\", \"Santiago de Compostela\", \"Oviedo\", \"Gasteiz / Vitoria\", \"Salamanca\", \"Santa Cruz de Tenerife\", \"Elche\", \"Albacete\", \"Bilbao\", \"Valladolid\", \"Logro\\u00f1o\", \"Ja\\u00e9n\", \"La Laguna\", \"Badajoz\", \"Ourense\", \"Girona\", \"Ca\\u00f1ada\", \"Palma\", \"Almer\\u00eda\", \"Barakaldo\", \"Donostia / San Sebasti\\u00e1n\", \"A Coru\\u00f1a\", \"Burgos\", \"Cadiz\", \"Castell\\u00f3 de la Plana\", \"Ciudad Real\", \"Paterna\", \"Villaviciosa\", \"Vigo\", \"Tarragona\", \"Lleida\", \"Fuenlabrada\", \"Tortosa\", \"Torrelavega\", \"Torrej\\u00f3n de Ardoz\", \"Sant Joan Desp\\u00ed\", \"Sant Cugat del Vall\\u00e8s\", \"Reus\", \"Zamora\", \"Pozuelo de Alarc\\u00f3n\", \"Olot\", \"Arrasate / Mondrag\\u00f3n\", \"Valdemoro\", \"Le\\u00f3n\", \"Gij\\u00f3n\", \"Las Palmas de Gran Canaria\", \"Lorca\", \"Getafe\", \"Cuenca\", \"El Ejido\", \"Cartagena\"], \"xaxis\": \"x\", \"y\": [176, 171, 69, 38, 32, 31, 27, 19, 19, 16, 14, 14, 13, 11, 11, 10, 9, 9, 9, 8, 7, 6, 6, 5, 5, 5, 5, 4, 4, 4, 4, 4, 3, 3, 3, 3, 3, 3, 3, 2, 2, 2, 2, 2, 2, 1, 1, 1, 1, 1, 1, 1, 1, 1, 1, 1, 1, 1, 1, 1, 1, 1, 1, 1], \"yaxis\": \"y\"}, {\"hoverlabel\": {\"namelength\": 0}, \"hovertemplate\": \"countryName=Netherlands<br>name=%{x}<br>count=%{y}\", \"legendgroup\": \"countryName=Netherlands\", \"marker\": {\"color\": \"#ab63fa\", \"symbol\": \"circle\"}, \"mode\": \"markers\", \"name\": \"countryName=Netherlands\", \"showlegend\": true, \"type\": \"scatter\", \"uid\": \"d2f223eb-b5c1-466c-82f9-4d68c1021368\", \"x\": [\"Amsterdam\", \"Leiden\", \"Maastricht\", \"Utrecht\", \"Rotterdam\", \"Nijmegen\", \"Groningen\", \"Delft\", \"Wageningen\", \"Eindhoven\", \"Nieuwegein\", \"De Bilt\", \"Enschede\", \"The Hague\", \"Veldhoven\", \"Dordrecht\", \"Kampen\", \"Boxtel\", \"'s-Hertogenbosch\", \"Naarden\", \"Alkmaar\", \"Tilburg\", \"Noordwijk-Binnen\", \"Purmerend\", \"Hoofddorp\", \"Leeuwarden\", \"Vlaardingen\", \"Zwolle\", \"Hilversum\", \"Heteren\", \"Den Burg\", \"Almelo\", \"Amersfoort\", \"Arnhem\"], \"xaxis\": \"x\", \"y\": [172, 82, 75, 63, 60, 49, 40, 20, 17, 17, 14, 13, 12, 9, 6, 6, 6, 3, 3, 2, 2, 2, 2, 2, 1, 1, 1, 1, 1, 1, 1, 1, 1, 1], \"yaxis\": \"y\"}, {\"hoverlabel\": {\"namelength\": 0}, \"hovertemplate\": \"countryName=Italy<br>name=%{x}<br>count=%{y}\", \"legendgroup\": \"countryName=Italy\", \"marker\": {\"color\": \"#19d3f3\", \"symbol\": \"circle\"}, \"mode\": \"markers\", \"name\": \"countryName=Italy\", \"showlegend\": true, \"type\": \"scatter\", \"uid\": \"1975f0cc-a780-4622-91ba-61ac72e6a12b\", \"x\": [\"Milan\", \"Rome\", \"Florence\", \"Naples\", \"Padova\", \"Rozzano\", \"Turin\", \"Pisa\", \"Parma\", \"Bologna\", \"Chieti\", \"Perugia\", \"Pavia\", \"Brescia\", \"Palermo\", \"Genoa\", \"Verona\", \"Trieste\", \"Catania\", \"Bari\", \"Lecce\", \"Cagliari\", \"Udine\", \"Reggio Calabria\", \"Siena\", \"Modena\", \"Caserta\", \"Trento\", \"Bergamo\", \"L'Aquila\", \"Negrar\", \"Ancona\", \"Fisciano\", \"Campobasso\", \"Candiolo\", \"Bolzano\", \"Benevento\", \"Mangone\", \"Teramo\", \"Como\", \"Cassino\", \"Aviano\", \"Messina\", \"Veruno\", \"Monza\", \"Lodi\", \"Forl\\u00ec\", \"Foggia\", \"Ferrara\", \"Cuneo\", \"San Vito al Tagliamento\", \"Bisceglie\", \"Sassari\", \"Venice\", \"Vicenza\", \"Seriate\", \"Scandiano\", \"Lumezzane\", \"Montescano\", \"Ravenna\", \"Pozzilli\", \"Pietra Ligure\", \"Piacenza\", \"Mantova\", \"Lecco\", \"Grosseto\", \"Reggio nell'Emilia\", \"Desio\", \"San Donato Milanese\", \"Urbino\", \"Treviso\", \"Tivoli\", \"Taranto\", \"San Giovanni Rotondo\", \"Este\", \"Cotignola\", \"Cosenza\", \"Castellaneta\", \"Casalecchio di Reno\", \"Brindisi\", \"Belluno\", \"Avezzano\", \"Aversa\", \"Asti\", \"Ariano Irpino-Martiri\", \"Arezzo\", \"Aosta\"], \"xaxis\": \"x\", \"y\": [163, 154, 54, 41, 35, 35, 34, 32, 25, 24, 23, 23, 20, 19, 18, 16, 16, 15, 14, 13, 11, 11, 9, 9, 9, 8, 7, 7, 6, 6, 6, 6, 5, 5, 5, 4, 4, 4, 3, 3, 3, 3, 3, 3, 2, 2, 2, 2, 2, 2, 2, 2, 2, 2, 2, 2, 2, 1, 1, 1, 1, 1, 1, 1, 1, 1, 1, 1, 1, 1, 1, 1, 1, 1, 1, 1, 1, 1, 1, 1, 1, 1, 1, 1, 1, 1, 1], \"yaxis\": \"y\"}, {\"hoverlabel\": {\"namelength\": 0}, \"hovertemplate\": \"countryName=Switzerland<br>name=%{x}<br>count=%{y}\", \"legendgroup\": \"countryName=Switzerland\", \"marker\": {\"color\": \"#e763fa\", \"symbol\": \"circle\"}, \"mode\": \"markers\", \"name\": \"countryName=Switzerland\", \"showlegend\": true, \"type\": \"scatter\", \"uid\": \"e9ebafe3-ba40-4ac2-9343-fa2843124f92\", \"x\": [\"Z\\u00fcrich\", \"Lausanne\", \"Gen\\u00e8ve\", \"Basel\", \"Bern\", \"Fribourg\", \"Lugano\", \"Sankt Gallen\", \"Luzern\", \"Neuch\\u00e2tel\", \"Genolier\", \"Villigen\", \"R\\u00fcschlikon\", \"Kaiseraugst\", \"Plan-les-Ouates\", \"Frick\", \"Winterthur\", \"D\\u00fcbendorf\", \"Bassersdorf\", \"Davos\", \"Bellinzona\", \"Z\\u00fcrich (Kreis 7) / Hirslanden\", \"Kirchlindach\", \"Sitten\", \"Vevey\", \"Wallisellen\"], \"xaxis\": \"x\", \"y\": [147, 114, 84, 55, 46, 26, 24, 14, 11, 10, 10, 8, 4, 4, 2, 2, 2, 2, 2, 2, 2, 1, 1, 1, 1, 1], \"yaxis\": \"y\"}, {\"hoverlabel\": {\"namelength\": 0}, \"hovertemplate\": \"countryName=Germany<br>name=%{x}<br>count=%{y}\", \"legendgroup\": \"countryName=Germany\", \"marker\": {\"color\": \"#FECB52\", \"symbol\": \"circle\"}, \"mode\": \"markers\", \"name\": \"countryName=Germany\", \"showlegend\": true, \"type\": \"scatter\", \"uid\": \"96cfd16d-cc2f-40d1-8dd5-237f28bdee42\", \"x\": [\"Berlin\", \"Munich\", \"Heidelberg\", \"Hamburg\", \"Leipzig\", \"Freiburg\", \"K\\u00f6ln\", \"G\\u00f6ttingen\", \"Erlangen\", \"Essen\", \"Potsdam\", \"Garching bei M\\u00fcnchen\", \"Frankfurt am Main\", \"Bonn\", \"T\\u00fcbingen\", \"Gie\\u00dfen\", \"Bremen\", \"Mannheim\", \"Dresden\", \"D\\u00fcsseldorf\", \"Kassel\", \"Bayreuth\", \"Osnabr\\u00fcck\", \"Bielefeld\", \"Hannover\", \"Kaiserslautern\", \"Greifswald\", \"Stuttgart\", \"W\\u00fcrzburg\", \"M\\u00fcnster\", \"Kiel\", \"Braunschweig\", \"Aachen\", \"Darmstadt\", \"Bochum\", \"L\\u00fcbeck\", \"Jena\", \"Ludwigshafen am Rhein\", \"Marburg an der Lahn\", \"Mainz\", \"Karlsruhe\", \"Ulm\", \"Borstel\", \"J\\u00fclich\", \"Homburg\", \"Rostock\", \"Bad Nauheim\", \"Magdeburg\", \"N\\u00fcrnberg\", \"Offenbach\", \"Oberkochen\", \"Regensburg\", \"Halle (Saale)\", \"Geesthacht\", \"Ingelheim am Rhein\", \"Augsburg\", \"Cottbus\", \"Chemnitz\", \"Freising\", \"Witten\", \"Trier\", \"Saarbr\\u00fccken\", \"Sankt Augustin\", \"Schenefeld\", \"Erfurt\", \"Wiesbaden\", \"Oldenburg\", \"Bad Mergentheim\", \"Denzlingen\", \"B\\u00f6blingen\", \"Bad Homburg vor der H\\u00f6he\", \"Strausberg\", \"Eisenach\", \"Eichst\\u00e4tt\", \"Werdohl\", \"Mittweida\", \"Unterschlei\\u00dfheim\", \"Garching an der Alz\", \"F\\u00fcrth\", \"Friedrichshafen\", \"Warendorf\", \"Wesel\", \"Frankfurt (Oder)\", \"Ettlingen\", \"Tuttlingen\", \"Esslingen\", \"We\\u00dfling\", \"Dortmund\", \"Sigmaringen\", \"Denkendorf\", \"M\\u00f6nchengladbach\", \"Murnau am Staffelsee\", \"Lengede\", \"Langenfeld\", \"Konstanz\", \"Neubrandenburg\", \"Oberschlei\\u00dfheim\", \"Pinneberg\", \"Siegen\", \"Rendsburg\", \"Rheda-Wiedenbr\\u00fcck\", \"Ilmenau\", \"Rosenheim\", \"Herne\", \"Hameln\", \"Schmallenberg\", \"Dachau\", \"Bad Oeynhausen\", \"Bremerhaven\", \"Bottrop\", \"Bad M\\u00fcnstereifel\", \"Bad Berka\", \"Albstadt\", \"L\\u00fcneburg\"], \"xaxis\": \"x\", \"y\": [135, 115, 106, 89, 69, 57, 57, 54, 41, 41, 40, 38, 38, 32, 31, 29, 29, 28, 25, 22, 21, 21, 20, 20, 20, 19, 19, 18, 17, 17, 16, 16, 14, 14, 13, 12, 12, 10, 10, 10, 10, 10, 9, 9, 8, 7, 7, 6, 6, 5, 5, 5, 5, 5, 4, 4, 4, 4, 4, 4, 3, 3, 3, 3, 3, 3, 3, 3, 3, 2, 2, 2, 2, 2, 2, 1, 1, 1, 1, 1, 1, 1, 1, 1, 1, 1, 1, 1, 1, 1, 1, 1, 1, 1, 1, 1, 1, 1, 1, 1, 1, 1, 1, 1, 1, 1, 1, 1, 1, 1, 1, 1, 1, 1], \"yaxis\": \"y\"}, {\"hoverlabel\": {\"namelength\": 0}, \"hovertemplate\": \"countryName=Sweden<br>name=%{x}<br>count=%{y}\", \"legendgroup\": \"countryName=Sweden\", \"marker\": {\"color\": \"#FFA15A\", \"symbol\": \"circle\"}, \"mode\": \"markers\", \"name\": \"countryName=Sweden\", \"showlegend\": true, \"type\": \"scatter\", \"uid\": \"a648d394-61f7-477b-bed3-c3c56547ed1e\", \"x\": [\"Stockholm\", \"G\\u00f6teborg\", \"Lund\", \"Uppsala\", \"Link\\u00f6ping\", \"Ume\\u00e5\", \"\\u00d6rebro\", \"S\\u00f6dert\\u00e4lje\", \"Norrk\\u00f6ping\", \"Solna\", \"Sk\\u00f6vde\", \"Nacka\", \"M\\u00f6lndal\", \"Malm\\u00f6\", \"Karlstad\", \"Lule\\u00e5\", \"Kista\", \"Eskilstuna\", \"Falun\", \"G\\u00e4vle\"], \"xaxis\": \"x\", \"y\": [126, 87, 68, 60, 36, 25, 16, 7, 5, 4, 4, 2, 2, 2, 2, 2, 1, 1, 1, 1], \"yaxis\": \"y\"}, {\"hoverlabel\": {\"namelength\": 0}, \"hovertemplate\": \"countryName=Norway<br>name=%{x}<br>count=%{y}\", \"legendgroup\": \"countryName=Norway\", \"marker\": {\"color\": \"#FF6692\", \"symbol\": \"circle\"}, \"mode\": \"markers\", \"name\": \"countryName=Norway\", \"showlegend\": true, \"type\": \"scatter\", \"uid\": \"7c3ea5a7-ad0c-4114-820e-13ad9ec15cbc\", \"x\": [\"Oslo\", \"Bergen\", \"Stavanger\", \"Lillestr\\u00f8m\", \"Trondheim\", \"Troms\\u00f8\", \"\\u00c5s\", \"Sandvika\", \"Hov\", \"Drammen\", \"Asker\", \"T\\u00f8nsberg\", \"Arendal\"], \"xaxis\": \"x\", \"y\": [108, 39, 19, 17, 15, 14, 6, 5, 3, 2, 2, 1, 1], \"yaxis\": \"y\"}, {\"hoverlabel\": {\"namelength\": 0}, \"hovertemplate\": \"countryName=Belgium<br>name=%{x}<br>count=%{y}\", \"legendgroup\": \"countryName=Belgium\", \"marker\": {\"color\": \"#B6E880\", \"symbol\": \"circle\"}, \"mode\": \"markers\", \"name\": \"countryName=Belgium\", \"showlegend\": true, \"type\": \"scatter\", \"uid\": \"13a89d35-a5bb-49d4-aeb3-df607b3114a4\", \"x\": [\"Leuven\", \"Gent\", \"Brussels\", \"Antwerpen\", \"Louvain-la-Neuve\", \"Li\\u00e8ge\", \"Charleroi\", \"Aalst\", \"Torhout\", \"Sint-Niklaas\", \"Bonheiden\", \"Geel\", \"Gembloux\", \"Mechelen\", \"Melle\", \"Merelbeke\", \"Mol\", \"Mons\", \"Namur\"], \"xaxis\": \"x\", \"y\": [101, 100, 84, 56, 18, 18, 5, 5, 4, 2, 1, 1, 1, 1, 1, 1, 1, 1, 1], \"yaxis\": \"y\"}, {\"hoverlabel\": {\"namelength\": 0}, \"hovertemplate\": \"countryName=Denmark<br>name=%{x}<br>count=%{y}\", \"legendgroup\": \"countryName=Denmark\", \"marker\": {\"color\": \"#636efa\", \"symbol\": \"circle\"}, \"mode\": \"markers\", \"name\": \"countryName=Denmark\", \"showlegend\": true, \"type\": \"scatter\", \"uid\": \"a9d0a545-7961-460c-816b-89e04de83284\", \"x\": [\"\\u00c5rhus\", \"Copenhagen\", \"Kongens Lyngby\", \"Aalborg\", \"Odense\", \"Roskilde\", \"Vejle\", \"Hvidovre\", \"Varde\", \"Herlev\", \"Bjerringbro\", \"Glostrup\", \"Holb\\u00e6k\", \"H\\u00f8rsholm\", \"Nyk\\u00f8bing Falster\", \"Taastrup\"], \"xaxis\": \"x\", \"y\": [96, 86, 31, 18, 14, 12, 6, 6, 4, 2, 1, 1, 1, 1, 1, 1], \"yaxis\": \"y\"}, {\"hoverlabel\": {\"namelength\": 0}, \"hovertemplate\": \"countryName=Portugal<br>name=%{x}<br>count=%{y}\", \"legendgroup\": \"countryName=Portugal\", \"marker\": {\"color\": \"#EF553B\", \"symbol\": \"circle\"}, \"mode\": \"markers\", \"name\": \"countryName=Portugal\", \"showlegend\": true, \"type\": \"scatter\", \"uid\": \"d4f13883-a339-4ddd-b30a-c309cdf4aa0c\", \"x\": [\"Lisbon\", \"Porto\", \"Coimbra\", \"Braga\", \"Aveiro\", \"Porto Salvo\", \"Amadora\", \"Carnaxide\", \"Oeiras\", \"\\u00c9vora\", \"Leiria\", \"Matosinhos\", \"Castelo Branco\", \"Funchal\", \"Queluz\"], \"xaxis\": \"x\", \"y\": [94, 48, 24, 22, 6, 5, 3, 3, 3, 2, 2, 1, 1, 1, 1], \"yaxis\": \"y\"}, {\"hoverlabel\": {\"namelength\": 0}, \"hovertemplate\": \"countryName=Finland<br>name=%{x}<br>count=%{y}\", \"legendgroup\": \"countryName=Finland\", \"marker\": {\"color\": \"#00cc96\", \"symbol\": \"circle\"}, \"mode\": \"markers\", \"name\": \"countryName=Finland\", \"showlegend\": true, \"type\": \"scatter\", \"uid\": \"9d3d6b02-f63c-4d18-8a2b-52a6a7d33d5c\", \"x\": [\"Helsinki\", \"Turku\", \"Kuopio\", \"Tampere\", \"Oulu\", \"Espoo\", \"Jyv\\u00e4skyl\\u00e4\", \"Jokioinen\"], \"xaxis\": \"x\", \"y\": [91, 42, 23, 18, 13, 5, 3, 1], \"yaxis\": \"y\"}, {\"hoverlabel\": {\"namelength\": 0}, \"hovertemplate\": \"countryName=Russia<br>name=%{x}<br>count=%{y}\", \"legendgroup\": \"countryName=Russia\", \"marker\": {\"color\": \"#ab63fa\", \"symbol\": \"circle\"}, \"mode\": \"markers\", \"name\": \"countryName=Russia\", \"showlegend\": true, \"type\": \"scatter\", \"uid\": \"31c501f1-d349-4962-9385-a50cf065cd93\", \"x\": [\"Moscow\", \"Novosibirsk\", \"Saint Petersburg\", \"Yekaterinburg\", \"Krasnoyarsk\", \"Nizhniy Novgorod\", \"Kazan\", \"Irkutsk\", \"Akademgorodok\", \"Kaliningrad\", \"Petropavlovsk-Kamchatsky\", \"Skolkovo\", \"Dolgoprudnyy\", \"Chelyabinsk\", \"Vladimir\", \"Amga\", \"Kemerovo\", \"Perm\", \"Komsomol\\u2019skiy\", \"Khimki\", \"Vladivostok\", \"Dubna\", \"Ryazan\\u2019\"], \"xaxis\": \"x\", \"y\": [90, 40, 26, 5, 5, 4, 4, 4, 4, 3, 2, 2, 2, 2, 1, 1, 1, 1, 1, 1, 1, 1, 1], \"yaxis\": \"y\"}, {\"hoverlabel\": {\"namelength\": 0}, \"hovertemplate\": \"countryName=Greece<br>name=%{x}<br>count=%{y}\", \"legendgroup\": \"countryName=Greece\", \"marker\": {\"color\": \"#19d3f3\", \"symbol\": \"circle\"}, \"mode\": \"markers\", \"name\": \"countryName=Greece\", \"showlegend\": true, \"type\": \"scatter\", \"uid\": \"688b22a5-ab2a-40e6-8b98-f005d807e42b\", \"x\": [\"Athens\", \"Thessalon\\u00edki\", \"Ir\\u00e1kleion\", \"Io\\u00e1nnina\", \"P\\u00e1tra\", \"Chani\\u00e1\", \"Rethymno\", \"Volos\", \"Mytilene\", \"Komotin\\u00ed\", \"Kater\\u00edni\", \"Maro\\u00fasi\", \"Tr\\u00edpoli\", \"Piraeus\", \"Lam\\u00eda\", \"L\\u00e1risa\"], \"xaxis\": \"x\", \"y\": [79, 44, 12, 9, 6, 5, 5, 3, 2, 2, 1, 1, 1, 1, 1, 1], \"yaxis\": \"y\"}, {\"hoverlabel\": {\"namelength\": 0}, \"hovertemplate\": \"countryName=Czechia<br>name=%{x}<br>count=%{y}\", \"legendgroup\": \"countryName=Czechia\", \"marker\": {\"color\": \"#e763fa\", \"symbol\": \"circle\"}, \"mode\": \"markers\", \"name\": \"countryName=Czechia\", \"showlegend\": true, \"type\": \"scatter\", \"uid\": \"a9409ec5-b831-4f7c-9fc6-d11c2e84c99d\", \"x\": [\"Prague\", \"Brno\", \"\\u010cesk\\u00e9 Bud\\u011bjovice\", \"Ond\\u0159ejov\", \"Doln\\u00ed B\\u0159e\\u017eany\", \"Liberec\", \"Olomouc\", \"Ostrava\", \"Pardubice\", \"T\\u0159ebo\\u0148\", \"Vestec\", \"Podol\\u00ed\", \"Opava\", \"Hradec Kr\\u00e1lov\\u00e9\", \"B\\u0159eclav\"], \"xaxis\": \"x\", \"y\": [76, 29, 6, 4, 3, 3, 3, 3, 2, 2, 1, 1, 1, 1, 1], \"yaxis\": \"y\"}, {\"hoverlabel\": {\"namelength\": 0}, \"hovertemplate\": \"countryName=Poland<br>name=%{x}<br>count=%{y}\", \"legendgroup\": \"countryName=Poland\", \"marker\": {\"color\": \"#FECB52\", \"symbol\": \"circle\"}, \"mode\": \"markers\", \"name\": \"countryName=Poland\", \"showlegend\": true, \"type\": \"scatter\", \"uid\": \"0a38f563-6e2b-499c-ac40-24c9b2d26af4\", \"x\": [\"Warsaw\", \"Krak\\u00f3w\", \"Wroc\\u0142aw\", \"Pozna\\u0144\", \"Bia\\u0142ystok\", \"Gda\\u0144sk\", \"\\u0141\\u00f3d\\u017a\", \"Lublin\", \"Toru\\u0144\", \"Bydgoszcz\", \"Katowice\", \"Zabrze\", \"Olsztyn\", \"Szczecin\", \"Rzesz\\u00f3w\", \"Pu\\u0142awy\", \"Gliwice\", \"Trzebownisko\", \"Siedlce\", \"Radom\", \"Legionowo\", \"Gdynia\"], \"xaxis\": \"x\", \"y\": [69, 47, 34, 26, 23, 19, 19, 18, 12, 12, 9, 6, 5, 3, 3, 2, 2, 1, 1, 1, 1, 1], \"yaxis\": \"y\"}, {\"hoverlabel\": {\"namelength\": 0}, \"hovertemplate\": \"countryName=Austria<br>name=%{x}<br>count=%{y}\", \"legendgroup\": \"countryName=Austria\", \"marker\": {\"color\": \"#FFA15A\", \"symbol\": \"circle\"}, \"mode\": \"markers\", \"name\": \"countryName=Austria\", \"showlegend\": true, \"type\": \"scatter\", \"uid\": \"7612ab0f-2352-4be4-b2c0-491ccccb2b5f\", \"x\": [\"Vienna\", \"Graz\", \"Innsbruck\", \"Salzburg\", \"Linz\", \"Laxenburg\", \"Wiener Neustadt\", \"Dornbirn\", \"Seibersdorf\", \"Wels\", \"Klagenfurt am W\\u00f6rthersee\", \"Deutsch-Wagram\", \"Tulln\", \"Klosterneuburg\", \"Leoben\"], \"xaxis\": \"x\", \"y\": [54, 37, 25, 18, 11, 6, 5, 4, 4, 4, 3, 3, 2, 1, 1], \"yaxis\": \"y\"}, {\"hoverlabel\": {\"namelength\": 0}, \"hovertemplate\": \"countryName=Serbia<br>name=%{x}<br>count=%{y}\", \"legendgroup\": \"countryName=Serbia\", \"marker\": {\"color\": \"#FF6692\", \"symbol\": \"circle\"}, \"mode\": \"markers\", \"name\": \"countryName=Serbia\", \"showlegend\": true, \"type\": \"scatter\", \"uid\": \"0c0d49e5-23c1-4211-bcb7-2b46b6f7d84d\", \"x\": [\"Belgrade\", \"Ni\\u0161\", \"Pan\\u010devo\", \"Subotica\", \"Novi Sad\"], \"xaxis\": \"x\", \"y\": [46, 2, 1, 1, 1], \"yaxis\": \"y\"}, {\"hoverlabel\": {\"namelength\": 0}, \"hovertemplate\": \"countryName=Ireland<br>name=%{x}<br>count=%{y}\", \"legendgroup\": \"countryName=Ireland\", \"marker\": {\"color\": \"#B6E880\", \"symbol\": \"circle\"}, \"mode\": \"markers\", \"name\": \"countryName=Ireland\", \"showlegend\": true, \"type\": \"scatter\", \"uid\": \"269390b6-bd42-433d-bfa2-00acd52796cc\", \"x\": [\"Dublin\", \"Gaillimh\", \"Cork\", \"Maynooth\", \"Carlow\", \"Waterford\", \"Naas\"], \"xaxis\": \"x\", \"y\": [42, 17, 9, 5, 2, 1, 1], \"yaxis\": \"y\"}, {\"hoverlabel\": {\"namelength\": 0}, \"hovertemplate\": \"countryName=Slovenia<br>name=%{x}<br>count=%{y}\", \"legendgroup\": \"countryName=Slovenia\", \"marker\": {\"color\": \"#636efa\", \"symbol\": \"circle\"}, \"mode\": \"markers\", \"name\": \"countryName=Slovenia\", \"showlegend\": true, \"type\": \"scatter\", \"uid\": \"30e8e207-ee48-4a37-b694-e5a338dc9d5a\", \"x\": [\"Ljubljana\", \"Koper\", \"Maribor\"], \"xaxis\": \"x\", \"y\": [41, 4, 2], \"yaxis\": \"y\"}, {\"hoverlabel\": {\"namelength\": 0}, \"hovertemplate\": \"countryName=Romania<br>name=%{x}<br>count=%{y}\", \"legendgroup\": \"countryName=Romania\", \"marker\": {\"color\": \"#EF553B\", \"symbol\": \"circle\"}, \"mode\": \"markers\", \"name\": \"countryName=Romania\", \"showlegend\": true, \"type\": \"scatter\", \"uid\": \"93cfe3b8-6321-40c9-96f9-a32300618473\", \"x\": [\"Bucharest\", \"Cluj-Napoca\", \"Ia\\u015fi\", \"T\\u00e2rgu-Mure\\u015f\", \"Sibiu\", \"Timi\\u015foara\", \"Oradea\", \"Suceava\", \"Tulcea\", \"Craiova\", \"Balote\\u015fti\", \"Bac\\u0103u\", \"Ma\\u015floc\"], \"xaxis\": \"x\", \"y\": [37, 14, 12, 11, 6, 2, 2, 1, 1, 1, 1, 1, 1], \"yaxis\": \"y\"}, {\"hoverlabel\": {\"namelength\": 0}, \"hovertemplate\": \"countryName=Hungary<br>name=%{x}<br>count=%{y}\", \"legendgroup\": \"countryName=Hungary\", \"marker\": {\"color\": \"#00cc96\", \"symbol\": \"circle\"}, \"mode\": \"markers\", \"name\": \"countryName=Hungary\", \"showlegend\": true, \"type\": \"scatter\", \"uid\": \"bdba2bb5-eaad-4d8a-90ce-104bd41e92e0\", \"x\": [\"Budapest\", \"Szeged\", \"Debrecen\", \"Csongr\\u00e1d\", \"Gy\\u0151r\", \"Miskolc\", \"P\\u00e9cs\"], \"xaxis\": \"x\", \"y\": [32, 18, 5, 3, 2, 1, 1], \"yaxis\": \"y\"}, {\"hoverlabel\": {\"namelength\": 0}, \"hovertemplate\": \"countryName=Slovakia<br>name=%{x}<br>count=%{y}\", \"legendgroup\": \"countryName=Slovakia\", \"marker\": {\"color\": \"#ab63fa\", \"symbol\": \"circle\"}, \"mode\": \"markers\", \"name\": \"countryName=Slovakia\", \"showlegend\": true, \"type\": \"scatter\", \"uid\": \"d82c86a2-d5eb-47b1-9433-40025a4c58ae\", \"x\": [\"Bratislava\", \"Ko\\u0161ice\", \"\\u017dilina\", \"Trnava\", \"Nitra\", \"Kom\\u00e1rno\"], \"xaxis\": \"x\", \"y\": [30, 1, 1, 1, 1, 1], \"yaxis\": \"y\"}, {\"hoverlabel\": {\"namelength\": 0}, \"hovertemplate\": \"countryName=Malta<br>name=%{x}<br>count=%{y}\", \"legendgroup\": \"countryName=Malta\", \"marker\": {\"color\": \"#19d3f3\", \"symbol\": \"circle\"}, \"mode\": \"markers\", \"name\": \"countryName=Malta\", \"showlegend\": true, \"type\": \"scatter\", \"uid\": \"c369dc55-4f8b-4a30-9ccf-923efbcf617e\", \"x\": [\"Imsida\", \"Victoria\"], \"xaxis\": \"x\", \"y\": [17, 2], \"yaxis\": \"y\"}, {\"hoverlabel\": {\"namelength\": 0}, \"hovertemplate\": \"countryName=Bulgaria<br>name=%{x}<br>count=%{y}\", \"legendgroup\": \"countryName=Bulgaria\", \"marker\": {\"color\": \"#e763fa\", \"symbol\": \"circle\"}, \"mode\": \"markers\", \"name\": \"countryName=Bulgaria\", \"showlegend\": true, \"type\": \"scatter\", \"uid\": \"580c8356-8613-4282-9066-45044ccae07c\", \"x\": [\"Sofia\", \"Plovdiv\", \"Pleven\", \"Veliko T\\u016drnovo\"], \"xaxis\": \"x\", \"y\": [17, 2, 1, 1], \"yaxis\": \"y\"}, {\"hoverlabel\": {\"namelength\": 0}, \"hovertemplate\": \"countryName=Croatia<br>name=%{x}<br>count=%{y}\", \"legendgroup\": \"countryName=Croatia\", \"marker\": {\"color\": \"#FECB52\", \"symbol\": \"circle\"}, \"mode\": \"markers\", \"name\": \"countryName=Croatia\", \"showlegend\": true, \"type\": \"scatter\", \"uid\": \"9b872ecf-3b65-4ef4-9678-106d7be6b933\", \"x\": [\"Zagreb\", \"Split\"], \"xaxis\": \"x\", \"y\": [13, 1], \"yaxis\": \"y\"}, {\"hoverlabel\": {\"namelength\": 0}, \"hovertemplate\": \"countryName=Ukraine<br>name=%{x}<br>count=%{y}\", \"legendgroup\": \"countryName=Ukraine\", \"marker\": {\"color\": \"#FFA15A\", \"symbol\": \"circle\"}, \"mode\": \"markers\", \"name\": \"countryName=Ukraine\", \"showlegend\": true, \"type\": \"scatter\", \"uid\": \"0d092fdb-817c-440d-a0de-67e9dccc7264\", \"x\": [\"Kyiv\", \"Lviv\", \"Dnipro\", \"Bakhchisaray\", \"Odessa\", \"Kherson\", \"Kharkiv\", \"Vinnytsya\", \"Ternopil\\u2019\"], \"xaxis\": \"x\", \"y\": [9, 8, 8, 4, 3, 2, 2, 1, 1], \"yaxis\": \"y\"}, {\"hoverlabel\": {\"namelength\": 0}, \"hovertemplate\": \"countryName=Iceland<br>name=%{x}<br>count=%{y}\", \"legendgroup\": \"countryName=Iceland\", \"marker\": {\"color\": \"#FF6692\", \"symbol\": \"circle\"}, \"mode\": \"markers\", \"name\": \"countryName=Iceland\", \"showlegend\": true, \"type\": \"scatter\", \"uid\": \"cfdd7443-f0e2-4fdf-9274-28bdf73ee4ea\", \"x\": [\"Reykjav\\u00edk\"], \"xaxis\": \"x\", \"y\": [7], \"yaxis\": \"y\"}, {\"hoverlabel\": {\"namelength\": 0}, \"hovertemplate\": \"countryName=Estonia<br>name=%{x}<br>count=%{y}\", \"legendgroup\": \"countryName=Estonia\", \"marker\": {\"color\": \"#B6E880\", \"symbol\": \"circle\"}, \"mode\": \"markers\", \"name\": \"countryName=Estonia\", \"showlegend\": true, \"type\": \"scatter\", \"uid\": \"a5312792-0c13-4dda-9ebd-20823fadc940\", \"x\": [\"Tartu\", \"Tallinn\"], \"xaxis\": \"x\", \"y\": [6, 3], \"yaxis\": \"y\"}, {\"hoverlabel\": {\"namelength\": 0}, \"hovertemplate\": \"countryName=Belarus<br>name=%{x}<br>count=%{y}\", \"legendgroup\": \"countryName=Belarus\", \"marker\": {\"color\": \"#636efa\", \"symbol\": \"circle\"}, \"mode\": \"markers\", \"name\": \"countryName=Belarus\", \"showlegend\": true, \"type\": \"scatter\", \"uid\": \"3612b9f6-8b0f-4966-8e3e-855b7b5c23b1\", \"x\": [\"Minsk\", \"Vitebsk\"], \"xaxis\": \"x\", \"y\": [6, 1], \"yaxis\": \"y\"}, {\"hoverlabel\": {\"namelength\": 0}, \"hovertemplate\": \"countryName=Albania<br>name=%{x}<br>count=%{y}\", \"legendgroup\": \"countryName=Albania\", \"marker\": {\"color\": \"#EF553B\", \"symbol\": \"circle\"}, \"mode\": \"markers\", \"name\": \"countryName=Albania\", \"showlegend\": true, \"type\": \"scatter\", \"uid\": \"57004d93-80dc-4411-9187-ee0c615ddd62\", \"x\": [\"Tirana\", \"Durr\\u00ebs\", \"Vlor\\u00eb\"], \"xaxis\": \"x\", \"y\": [5, 1, 1], \"yaxis\": \"y\"}, {\"hoverlabel\": {\"namelength\": 0}, \"hovertemplate\": \"countryName=Latvia<br>name=%{x}<br>count=%{y}\", \"legendgroup\": \"countryName=Latvia\", \"marker\": {\"color\": \"#00cc96\", \"symbol\": \"circle\"}, \"mode\": \"markers\", \"name\": \"countryName=Latvia\", \"showlegend\": true, \"type\": \"scatter\", \"uid\": \"bb2741fc-f3be-499b-b5df-4b067366ea3d\", \"x\": [\"Riga\"], \"xaxis\": \"x\", \"y\": [4], \"yaxis\": \"y\"}, {\"hoverlabel\": {\"namelength\": 0}, \"hovertemplate\": \"countryName=Lithuania<br>name=%{x}<br>count=%{y}\", \"legendgroup\": \"countryName=Lithuania\", \"marker\": {\"color\": \"#ab63fa\", \"symbol\": \"circle\"}, \"mode\": \"markers\", \"name\": \"countryName=Lithuania\", \"showlegend\": true, \"type\": \"scatter\", \"uid\": \"ebf14cd5-441d-4550-9f39-e7878e92c04d\", \"x\": [\"Kaunas\", \"Vilnius\"], \"xaxis\": \"x\", \"y\": [3, 1], \"yaxis\": \"y\"}, {\"hoverlabel\": {\"namelength\": 0}, \"hovertemplate\": \"countryName=Bosnia and Herzegovina<br>name=%{x}<br>count=%{y}\", \"legendgroup\": \"countryName=Bosnia and Herzegovina\", \"marker\": {\"color\": \"#19d3f3\", \"symbol\": \"circle\"}, \"mode\": \"markers\", \"name\": \"countryName=Bosnia and Herzegovina\", \"showlegend\": true, \"type\": \"scatter\", \"uid\": \"facd86df-8853-4991-a6ae-93bcae6ef1f5\", \"x\": [\"Sarajevo\", \"Bijeljina\"], \"xaxis\": \"x\", \"y\": [3, 2], \"yaxis\": \"y\"}, {\"hoverlabel\": {\"namelength\": 0}, \"hovertemplate\": \"countryName=Luxembourg<br>name=%{x}<br>count=%{y}\", \"legendgroup\": \"countryName=Luxembourg\", \"marker\": {\"color\": \"#e763fa\", \"symbol\": \"circle\"}, \"mode\": \"markers\", \"name\": \"countryName=Luxembourg\", \"showlegend\": true, \"type\": \"scatter\", \"uid\": \"6b0f6959-b260-418d-b929-3b35dda19d9e\", \"x\": [\"Luxembourg\"], \"xaxis\": \"x\", \"y\": [3], \"yaxis\": \"y\"}, {\"hoverlabel\": {\"namelength\": 0}, \"hovertemplate\": \"countryName=Montenegro<br>name=%{x}<br>count=%{y}\", \"legendgroup\": \"countryName=Montenegro\", \"marker\": {\"color\": \"#FECB52\", \"symbol\": \"circle\"}, \"mode\": \"markers\", \"name\": \"countryName=Montenegro\", \"showlegend\": true, \"type\": \"scatter\", \"uid\": \"df715291-2668-492a-ab02-965f8517e631\", \"x\": [\"Podgorica\"], \"xaxis\": \"x\", \"y\": [2], \"yaxis\": \"y\"}, {\"hoverlabel\": {\"namelength\": 0}, \"hovertemplate\": \"countryName=Moldova<br>name=%{x}<br>count=%{y}\", \"legendgroup\": \"countryName=Moldova\", \"marker\": {\"color\": \"#FFA15A\", \"symbol\": \"circle\"}, \"mode\": \"markers\", \"name\": \"countryName=Moldova\", \"showlegend\": true, \"type\": \"scatter\", \"uid\": \"e12df899-d63d-478e-b5b7-fba958182de0\", \"x\": [\"Chisinau\"], \"xaxis\": \"x\", \"y\": [2], \"yaxis\": \"y\"}, {\"hoverlabel\": {\"namelength\": 0}, \"hovertemplate\": \"countryName=Monaco<br>name=%{x}<br>count=%{y}\", \"legendgroup\": \"countryName=Monaco\", \"marker\": {\"color\": \"#FF6692\", \"symbol\": \"circle\"}, \"mode\": \"markers\", \"name\": \"countryName=Monaco\", \"showlegend\": true, \"type\": \"scatter\", \"uid\": \"ac89b0d2-18ac-4d21-8378-f1778675377a\", \"x\": [\"Monaco\"], \"xaxis\": \"x\", \"y\": [2], \"yaxis\": \"y\"}],\n",
       "                        {\"grid\": {\"xaxes\": [\"x\"], \"xgap\": 0.1, \"xside\": \"bottom\", \"yaxes\": [\"y\"], \"ygap\": 0.1, \"yside\": \"left\"}, \"height\": 600, \"legend\": {\"tracegroupgap\": 0}, \"margin\": {\"t\": 60}, \"template\": {\"data\": {\"bar\": [{\"marker\": {\"line\": {\"color\": \"#E5ECF6\", \"width\": 0.5}}, \"type\": \"bar\"}], \"barpolar\": [{\"marker\": {\"line\": {\"color\": \"#E5ECF6\", \"width\": 0.5}}, \"type\": \"barpolar\"}], \"carpet\": [{\"aaxis\": {\"endlinecolor\": \"#2a3f5f\", \"gridcolor\": \"white\", \"linecolor\": \"white\", \"minorgridcolor\": \"white\", \"startlinecolor\": \"#2a3f5f\"}, \"baxis\": {\"endlinecolor\": \"#2a3f5f\", \"gridcolor\": \"white\", \"linecolor\": \"white\", \"minorgridcolor\": \"white\", \"startlinecolor\": \"#2a3f5f\"}, \"type\": \"carpet\"}], \"choropleth\": [{\"colorbar\": {\"outlinewidth\": 0, \"ticks\": \"\"}, \"type\": \"choropleth\"}], \"contour\": [{\"colorbar\": {\"outlinewidth\": 0, \"ticks\": \"\"}, \"colorscale\": [[0.0, \"#0508b8\"], [0.0893854748603352, \"#1910d8\"], [0.1787709497206704, \"#3c19f0\"], [0.2681564245810056, \"#6b1cfb\"], [0.3575418994413408, \"#981cfd\"], [0.44692737430167595, \"#bf1cfd\"], [0.5363128491620112, \"#dd2bfd\"], [0.6256983240223464, \"#f246fe\"], [0.7150837988826816, \"#fc67fd\"], [0.8044692737430168, \"#fe88fc\"], [0.8938547486033519, \"#fea5fd\"], [0.9832402234636871, \"#febefe\"], [1.0, \"#fec3fe\"]], \"type\": \"contour\"}], \"contourcarpet\": [{\"colorbar\": {\"outlinewidth\": 0, \"ticks\": \"\"}, \"type\": \"contourcarpet\"}], \"heatmap\": [{\"colorbar\": {\"outlinewidth\": 0, \"ticks\": \"\"}, \"colorscale\": [[0.0, \"#0508b8\"], [0.0893854748603352, \"#1910d8\"], [0.1787709497206704, \"#3c19f0\"], [0.2681564245810056, \"#6b1cfb\"], [0.3575418994413408, \"#981cfd\"], [0.44692737430167595, \"#bf1cfd\"], [0.5363128491620112, \"#dd2bfd\"], [0.6256983240223464, \"#f246fe\"], [0.7150837988826816, \"#fc67fd\"], [0.8044692737430168, \"#fe88fc\"], [0.8938547486033519, \"#fea5fd\"], [0.9832402234636871, \"#febefe\"], [1.0, \"#fec3fe\"]], \"type\": \"heatmap\"}], \"heatmapgl\": [{\"colorbar\": {\"outlinewidth\": 0, \"ticks\": \"\"}, \"type\": \"heatmapgl\"}], \"histogram\": [{\"marker\": {\"colorbar\": {\"outlinewidth\": 0, \"ticks\": \"\"}}, \"type\": \"histogram\"}], \"histogram2d\": [{\"colorbar\": {\"outlinewidth\": 0, \"ticks\": \"\"}, \"colorscale\": [[0.0, \"#0508b8\"], [0.0893854748603352, \"#1910d8\"], [0.1787709497206704, \"#3c19f0\"], [0.2681564245810056, \"#6b1cfb\"], [0.3575418994413408, \"#981cfd\"], [0.44692737430167595, \"#bf1cfd\"], [0.5363128491620112, \"#dd2bfd\"], [0.6256983240223464, \"#f246fe\"], [0.7150837988826816, \"#fc67fd\"], [0.8044692737430168, \"#fe88fc\"], [0.8938547486033519, \"#fea5fd\"], [0.9832402234636871, \"#febefe\"], [1.0, \"#fec3fe\"]], \"type\": \"histogram2d\"}], \"histogram2dcontour\": [{\"colorbar\": {\"outlinewidth\": 0, \"ticks\": \"\"}, \"colorscale\": [[0.0, \"#0508b8\"], [0.0893854748603352, \"#1910d8\"], [0.1787709497206704, \"#3c19f0\"], [0.2681564245810056, \"#6b1cfb\"], [0.3575418994413408, \"#981cfd\"], [0.44692737430167595, \"#bf1cfd\"], [0.5363128491620112, \"#dd2bfd\"], [0.6256983240223464, \"#f246fe\"], [0.7150837988826816, \"#fc67fd\"], [0.8044692737430168, \"#fe88fc\"], [0.8938547486033519, \"#fea5fd\"], [0.9832402234636871, \"#febefe\"], [1.0, \"#fec3fe\"]], \"type\": \"histogram2dcontour\"}], \"mesh3d\": [{\"colorbar\": {\"outlinewidth\": 0, \"ticks\": \"\"}, \"type\": \"mesh3d\"}], \"parcoords\": [{\"line\": {\"colorbar\": {\"outlinewidth\": 0, \"ticks\": \"\"}}, \"type\": \"parcoords\"}], \"scatter\": [{\"marker\": {\"colorbar\": {\"outlinewidth\": 0, \"ticks\": \"\"}}, \"type\": \"scatter\"}], \"scatter3d\": [{\"marker\": {\"colorbar\": {\"outlinewidth\": 0, \"ticks\": \"\"}}, \"type\": \"scatter3d\"}], \"scattercarpet\": [{\"marker\": {\"colorbar\": {\"outlinewidth\": 0, \"ticks\": \"\"}}, \"type\": \"scattercarpet\"}], \"scattergeo\": [{\"marker\": {\"colorbar\": {\"outlinewidth\": 0, \"ticks\": \"\"}}, \"type\": \"scattergeo\"}], \"scattergl\": [{\"marker\": {\"colorbar\": {\"outlinewidth\": 0, \"ticks\": \"\"}}, \"type\": \"scattergl\"}], \"scattermapbox\": [{\"marker\": {\"colorbar\": {\"outlinewidth\": 0, \"ticks\": \"\"}}, \"type\": \"scattermapbox\"}], \"scatterpolar\": [{\"marker\": {\"colorbar\": {\"outlinewidth\": 0, \"ticks\": \"\"}}, \"type\": \"scatterpolar\"}], \"scatterpolargl\": [{\"marker\": {\"colorbar\": {\"outlinewidth\": 0, \"ticks\": \"\"}}, \"type\": \"scatterpolargl\"}], \"scatterternary\": [{\"marker\": {\"colorbar\": {\"outlinewidth\": 0, \"ticks\": \"\"}}, \"type\": \"scatterternary\"}], \"surface\": [{\"colorbar\": {\"outlinewidth\": 0, \"ticks\": \"\"}, \"type\": \"surface\"}], \"table\": [{\"cells\": {\"fill\": {\"color\": \"#EBF0F8\"}, \"line\": {\"color\": \"white\"}}, \"header\": {\"fill\": {\"color\": \"#C8D4E3\"}, \"line\": {\"color\": \"white\"}}, \"type\": \"table\"}]}, \"layout\": {\"annotationdefaults\": {\"arrowcolor\": \"#506784\", \"arrowhead\": 0, \"arrowwidth\": 1}, \"colorscale\": {\"diverging\": [[0, \"#8e0152\"], [0.1, \"#c51b7d\"], [0.2, \"#de77ae\"], [0.3, \"#f1b6da\"], [0.4, \"#fde0ef\"], [0.5, \"#f7f7f7\"], [0.6, \"#e6f5d0\"], [0.7, \"#b8e186\"], [0.8, \"#7fbc41\"], [0.9, \"#4d9221\"], [1, \"#276419\"]], \"sequential\": [[0.0, \"#0508b8\"], [0.0893854748603352, \"#1910d8\"], [0.1787709497206704, \"#3c19f0\"], [0.2681564245810056, \"#6b1cfb\"], [0.3575418994413408, \"#981cfd\"], [0.44692737430167595, \"#bf1cfd\"], [0.5363128491620112, \"#dd2bfd\"], [0.6256983240223464, \"#f246fe\"], [0.7150837988826816, \"#fc67fd\"], [0.8044692737430168, \"#fe88fc\"], [0.8938547486033519, \"#fea5fd\"], [0.9832402234636871, \"#febefe\"], [1.0, \"#fec3fe\"]], \"sequentialminus\": [[0.0, \"#0508b8\"], [0.0893854748603352, \"#1910d8\"], [0.1787709497206704, \"#3c19f0\"], [0.2681564245810056, \"#6b1cfb\"], [0.3575418994413408, \"#981cfd\"], [0.44692737430167595, \"#bf1cfd\"], [0.5363128491620112, \"#dd2bfd\"], [0.6256983240223464, \"#f246fe\"], [0.7150837988826816, \"#fc67fd\"], [0.8044692737430168, \"#fe88fc\"], [0.8938547486033519, \"#fea5fd\"], [0.9832402234636871, \"#febefe\"], [1.0, \"#fec3fe\"]]}, \"colorway\": [\"#636efa\", \"#EF553B\", \"#00cc96\", \"#ab63fa\", \"#19d3f3\", \"#e763fa\", \"#FECB52\", \"#FFA15A\", \"#FF6692\", \"#B6E880\"], \"font\": {\"color\": \"#2a3f5f\"}, \"geo\": {\"bgcolor\": \"white\", \"lakecolor\": \"white\", \"landcolor\": \"#E5ECF6\", \"showlakes\": true, \"showland\": true, \"subunitcolor\": \"white\"}, \"hoverlabel\": {\"align\": \"left\"}, \"hovermode\": \"closest\", \"mapbox\": {\"style\": \"light\"}, \"paper_bgcolor\": \"white\", \"plot_bgcolor\": \"#E5ECF6\", \"polar\": {\"angularaxis\": {\"gridcolor\": \"white\", \"linecolor\": \"white\", \"ticks\": \"\"}, \"bgcolor\": \"#E5ECF6\", \"radialaxis\": {\"gridcolor\": \"white\", \"linecolor\": \"white\", \"ticks\": \"\"}}, \"scene\": {\"xaxis\": {\"backgroundcolor\": \"#E5ECF6\", \"gridcolor\": \"white\", \"gridwidth\": 2, \"linecolor\": \"white\", \"showbackground\": true, \"ticks\": \"\", \"zerolinecolor\": \"white\"}, \"yaxis\": {\"backgroundcolor\": \"#E5ECF6\", \"gridcolor\": \"white\", \"gridwidth\": 2, \"linecolor\": \"white\", \"showbackground\": true, \"ticks\": \"\", \"zerolinecolor\": \"white\"}, \"zaxis\": {\"backgroundcolor\": \"#E5ECF6\", \"gridcolor\": \"white\", \"gridwidth\": 2, \"linecolor\": \"white\", \"showbackground\": true, \"ticks\": \"\", \"zerolinecolor\": \"white\"}}, \"shapedefaults\": {\"fillcolor\": \"#506784\", \"line\": {\"width\": 0}, \"opacity\": 0.4}, \"ternary\": {\"aaxis\": {\"gridcolor\": \"white\", \"linecolor\": \"white\", \"ticks\": \"\"}, \"baxis\": {\"gridcolor\": \"white\", \"linecolor\": \"white\", \"ticks\": \"\"}, \"bgcolor\": \"#E5ECF6\", \"caxis\": {\"gridcolor\": \"white\", \"linecolor\": \"white\", \"ticks\": \"\"}}, \"title\": {\"x\": 0.05}, \"xaxis\": {\"automargin\": true, \"gridcolor\": \"white\", \"linecolor\": \"white\", \"ticks\": \"\", \"zerolinecolor\": \"white\", \"zerolinewidth\": 2}, \"yaxis\": {\"automargin\": true, \"gridcolor\": \"white\", \"linecolor\": \"white\", \"ticks\": \"\", \"zerolinecolor\": \"white\", \"zerolinewidth\": 2}}}, \"xaxis\": {\"title\": {\"text\": \"name\"}}, \"yaxis\": {\"title\": {\"text\": \"count\"}}},\n",
       "                        {\"showLink\": false, \"linkText\": \"Export to plot.ly\", \"plotlyServerURL\": \"https://plot.ly\", \"responsive\": true}\n",
       "                    ).then(function(){\n",
       "                            \n",
       "var gd = document.getElementById('5eebfc58-c96e-4e3e-bd21-f839de1520d9');\n",
       "var x = new MutationObserver(function (mutations, observer) {{\n",
       "        var display = window.getComputedStyle(gd).display;\n",
       "        if (!display || display === 'none') {{\n",
       "            console.log([gd, 'removed!']);\n",
       "            Plotly.purge(gd);\n",
       "            observer.disconnect();\n",
       "        }}\n",
       "}});\n",
       "\n",
       "// Listen for the removal of the full notebook cells\n",
       "var notebookContainer = gd.closest('#notebook-container');\n",
       "if (notebookContainer) {{\n",
       "    x.observe(notebookContainer, {childList: true});\n",
       "}}\n",
       "\n",
       "// Listen for the clearing of the current output cell\n",
       "var outputEl = gd.closest('.output');\n",
       "if (outputEl) {{\n",
       "    x.observe(outputEl, {childList: true});\n",
       "}}\n",
       "\n",
       "                        })\n",
       "                };\n",
       "                });\n",
       "            </script>\n",
       "        </div>"
      ]
     },
     "metadata": {},
     "output_type": "display_data"
    }
   ],
   "source": [
    "px.scatter(df, x=\"name\", y=\"count\", color=\"countryName\")"
   ]
  },
  {
   "cell_type": "markdown",
   "metadata": {},
   "source": [
    "---\n",
    "# Want to learn more?\n",
    "\n",
    "Check out the [Dimensions API Lab](https://digital-science.github.io/dimensions-api-lab/) website, which contains many tutorials and reusable Jupyter notebooks for scholarly data analytics. "
   ]
  },
  {
   "cell_type": "code",
   "execution_count": null,
   "metadata": {},
   "outputs": [],
   "source": []
  }
 ],
 "metadata": {
  "kernelspec": {
   "display_name": "Python 3",
   "language": "python",
   "name": "python3"
  },
  "language_info": {
   "codemirror_mode": {
    "name": "ipython",
    "version": 3
   },
   "file_extension": ".py",
   "mimetype": "text/x-python",
   "name": "python",
   "nbconvert_exporter": "python",
   "pygments_lexer": "ipython3",
   "version": "3.7.4"
  }
 },
 "nbformat": 4,
 "nbformat_minor": 4
}
