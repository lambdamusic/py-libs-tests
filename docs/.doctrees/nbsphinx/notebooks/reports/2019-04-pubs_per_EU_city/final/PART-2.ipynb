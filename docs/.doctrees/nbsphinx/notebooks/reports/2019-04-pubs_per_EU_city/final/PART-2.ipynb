{
 "cells": [
  {
   "cell_type": "markdown",
   "metadata": {},
   "source": [
    "# Comparing the publications volume of cities in Europe\n",
    "\n",
    "## Part 2: Enriching Cities Data with Geonames.org Lat/Long\n",
    "\n",
    "This notebook shows how to use the [Dimensions Analytics API](https://www.dimensions.ai/dimensions-apis/) to measure the distribution of overall number of publications per European cities. For the purpose of this exercise, we will look at a specific year i.e. 2018."
   ]
  },
  {
   "cell_type": "markdown",
   "metadata": {},
   "source": [
    "In this section we want to take all cities information and enhance it by adding geocoordinates. These will become handy later on if we want to plot the data on a map.\n",
    "\n",
    "We will use the free service [geonames.org](http://www.geonames.org/export/web-services.html) for this. \n",
    "\n",
    "> Geonames API are freely available but one must create an account/username in order to use it: see also http://www.geonames.org/export/credits.html. \n",
    "\n",
    "Geonames information will also let us do more data clean up: due to co-author information, the cities list we currenlty have contains some non-EU places \n",
    "    (e.g. New York, because authors from NY happened to be co-authoring papers with EU authors). \n",
    "These values can be easily filtered out once we the cities information from Dimensions is enriched with country codes (from geonames.org). "
   ]
  },
  {
   "cell_type": "markdown",
   "metadata": {},
   "source": [
    "#### Prerequisites"
   ]
  },
  {
   "cell_type": "code",
   "execution_count": 2,
   "metadata": {},
   "outputs": [
    {
     "name": "stdout",
     "output_type": "stream",
     "text": [
      "DimCli v0.5.4 - Succesfully connected to <https://app.dimensions.ai> (method: dsl.ini file)\n"
     ]
    }
   ],
   "source": [
    "# data analysis libraries \n",
    "import time \n",
    "import pandas as pd \n",
    "import requests  \n",
    "import json \n",
    "# Dimensions API query helper\n",
    "import dimcli\n",
    "dimcli.login()\n",
    "dsl = dimcli.Dsl()\n",
    "# "
   ]
  },
  {
   "cell_type": "markdown",
   "metadata": {},
   "source": [
    "Also let's store the geonames settings we're gonna be using later"
   ]
  },
  {
   "cell_type": "code",
   "execution_count": 5,
   "metadata": {},
   "outputs": [],
   "source": [
    "# ****** REPLACE AS NEEDED ******\n",
    "GEONAMES_USER = \"YOUR_USERNAME_HERE\"\n",
    "#\n",
    "GEONAMES_URL = \"http://api.geonames.org/hierarchyJSON?geonameId=%s&username=%s\"\n",
    "#"
   ]
  },
  {
   "cell_type": "markdown",
   "metadata": {},
   "source": [
    "## Let's load the data we extracted in Part-1 of this tutorial"
   ]
  },
  {
   "cell_type": "code",
   "execution_count": 3,
   "metadata": {},
   "outputs": [
    {
     "data": {
      "text/html": [
       "<div>\n",
       "<style scoped>\n",
       "    .dataframe tbody tr th:only-of-type {\n",
       "        vertical-align: middle;\n",
       "    }\n",
       "\n",
       "    .dataframe tbody tr th {\n",
       "        vertical-align: top;\n",
       "    }\n",
       "\n",
       "    .dataframe thead th {\n",
       "        text-align: right;\n",
       "    }\n",
       "</style>\n",
       "<table border=\"1\" class=\"dataframe\">\n",
       "  <thead>\n",
       "    <tr style=\"text-align: right;\">\n",
       "      <th></th>\n",
       "      <th>Unnamed: 0</th>\n",
       "      <th>id</th>\n",
       "      <th>name</th>\n",
       "      <th>count</th>\n",
       "    </tr>\n",
       "  </thead>\n",
       "  <tbody>\n",
       "    <tr>\n",
       "      <th>0</th>\n",
       "      <td>0</td>\n",
       "      <td>2643743</td>\n",
       "      <td>London</td>\n",
       "      <td>468</td>\n",
       "    </tr>\n",
       "    <tr>\n",
       "      <th>1</th>\n",
       "      <td>1</td>\n",
       "      <td>2988507</td>\n",
       "      <td>Paris</td>\n",
       "      <td>293</td>\n",
       "    </tr>\n",
       "    <tr>\n",
       "      <th>2</th>\n",
       "      <td>2</td>\n",
       "      <td>3128760</td>\n",
       "      <td>Barcelona</td>\n",
       "      <td>176</td>\n",
       "    </tr>\n",
       "    <tr>\n",
       "      <th>3</th>\n",
       "      <td>3</td>\n",
       "      <td>2759794</td>\n",
       "      <td>Amsterdam</td>\n",
       "      <td>172</td>\n",
       "    </tr>\n",
       "    <tr>\n",
       "      <th>4</th>\n",
       "      <td>4</td>\n",
       "      <td>3117735</td>\n",
       "      <td>Madrid</td>\n",
       "      <td>171</td>\n",
       "    </tr>\n",
       "  </tbody>\n",
       "</table>\n",
       "</div>"
      ],
      "text/plain": [
       "   Unnamed: 0       id       name  count\n",
       "0           0  2643743     London    468\n",
       "1           1  2988507      Paris    293\n",
       "2           2  3128760  Barcelona    176\n",
       "3           3  2759794  Amsterdam    172\n",
       "4           4  3117735     Madrid    171"
      ]
     },
     "execution_count": 3,
     "metadata": {},
     "output_type": "execute_result"
    }
   ],
   "source": [
    "df1 = pd.read_csv(\"data/merged_cities_data.csv\")\n",
    "df1.head()"
   ]
  },
  {
   "cell_type": "code",
   "execution_count": 4,
   "metadata": {},
   "outputs": [
    {
     "data": {
      "text/html": [
       "<div>\n",
       "<style scoped>\n",
       "    .dataframe tbody tr th:only-of-type {\n",
       "        vertical-align: middle;\n",
       "    }\n",
       "\n",
       "    .dataframe tbody tr th {\n",
       "        vertical-align: top;\n",
       "    }\n",
       "\n",
       "    .dataframe thead th {\n",
       "        text-align: right;\n",
       "    }\n",
       "</style>\n",
       "<table border=\"1\" class=\"dataframe\">\n",
       "  <thead>\n",
       "    <tr style=\"text-align: right;\">\n",
       "      <th></th>\n",
       "      <th>geonamesId</th>\n",
       "      <th>name</th>\n",
       "      <th>count</th>\n",
       "    </tr>\n",
       "  </thead>\n",
       "  <tbody>\n",
       "    <tr>\n",
       "      <th>0</th>\n",
       "      <td>2643743</td>\n",
       "      <td>London</td>\n",
       "      <td>468</td>\n",
       "    </tr>\n",
       "    <tr>\n",
       "      <th>1</th>\n",
       "      <td>2988507</td>\n",
       "      <td>Paris</td>\n",
       "      <td>293</td>\n",
       "    </tr>\n",
       "    <tr>\n",
       "      <th>2</th>\n",
       "      <td>3128760</td>\n",
       "      <td>Barcelona</td>\n",
       "      <td>176</td>\n",
       "    </tr>\n",
       "    <tr>\n",
       "      <th>3</th>\n",
       "      <td>2759794</td>\n",
       "      <td>Amsterdam</td>\n",
       "      <td>172</td>\n",
       "    </tr>\n",
       "    <tr>\n",
       "      <th>4</th>\n",
       "      <td>3117735</td>\n",
       "      <td>Madrid</td>\n",
       "      <td>171</td>\n",
       "    </tr>\n",
       "  </tbody>\n",
       "</table>\n",
       "</div>"
      ],
      "text/plain": [
       "   geonamesId       name  count\n",
       "0     2643743     London    468\n",
       "1     2988507      Paris    293\n",
       "2     3128760  Barcelona    176\n",
       "3     2759794  Amsterdam    172\n",
       "4     3117735     Madrid    171"
      ]
     },
     "execution_count": 4,
     "metadata": {},
     "output_type": "execute_result"
    }
   ],
   "source": [
    "# Drop the first column and rename the second one\n",
    "df1.drop(['Unnamed: 0'], axis=1, inplace=True)\n",
    "df1.columns = ['geonamesId', 'name', 'count']\n",
    "df1.head()"
   ]
  },
  {
   "cell_type": "markdown",
   "metadata": {},
   "source": [
    "# Querying the Geonames API\n",
    "\n",
    "We want to set up a function that queries geonames.org based on the geonames city IDs we extracted from Dimensions. \n",
    "\n",
    "Then for each city records, we will extract useful latitude and longitude data.\n",
    "\n",
    "PS geonames API has a hourly limit of 1000 credits/requests, hence we will slow down the execution using `time.sleep()` later on. "
   ]
  },
  {
   "cell_type": "code",
   "execution_count": 6,
   "metadata": {},
   "outputs": [],
   "source": [
    "# eg http://api.geonames.org/hierarchyJSON?geonameId=2643743&username=mpasin\n",
    "def open_geonames(city_id):\n",
    "    r = requests.get(GEONAMES_URL % (str(city_id), GEONAMES_USER))\n",
    "    return r.json()\n",
    "\n",
    "def geonames_details(city_id):\n",
    "    city_id = int(city_id) # make sure it's a number\n",
    "    data = open_geonames(city_id)\n",
    "    try:\n",
    "        for x in data['geonames']:\n",
    "            if x['geonameId'] == city_id:\n",
    "                lat = x['lat']\n",
    "                lng = x['lng']\n",
    "                countryCode = x['countryCode']\n",
    "                countryName = x['countryName']\n",
    "                return [lat, lng, countryCode, countryName]\n",
    "    except Exception as e: \n",
    "        print(e)\n",
    "        print(\"Error parsing JSON: %s\" % str(data))\n",
    "        return None\n",
    "    "
   ]
  },
  {
   "cell_type": "markdown",
   "metadata": {},
   "source": [
    "The function above works like this:\n",
    "\n",
    "```\n",
    "geonames_details(3522210)\n",
    "=> ['20.11697', '-98.73329', 'MX', 'Mexico']\n",
    "```"
   ]
  },
  {
   "cell_type": "markdown",
   "metadata": {},
   "source": [
    "In order to prevent losing data is the geonames API returns an error, we store the cities data a dict which we can save as JSON.  \n",
    "This can be updated with geonames infos incrementally, using separate runs (if necessary). \n",
    "\n",
    "We use a list of dictionaries so to preserve the original order."
   ]
  },
  {
   "cell_type": "code",
   "execution_count": 20,
   "metadata": {},
   "outputs": [],
   "source": [
    "temp = {}\n",
    "temp['data'] = []\n",
    "for x in df1['geonamesId']:\n",
    "    temp['data'].append({x: None})\n",
    "with open('tmp/geonames_temp.json', 'w') as outfile:  \n",
    "    json.dump(temp  , outfile)"
   ]
  },
  {
   "cell_type": "markdown",
   "metadata": {},
   "source": [
    "Read the data back in for iteration"
   ]
  },
  {
   "cell_type": "code",
   "execution_count": 35,
   "metadata": {},
   "outputs": [],
   "source": [
    "with open('tmp/geonames_temp.json') as infile:  \n",
    "    tempfiledata = json.load(infile)"
   ]
  },
  {
   "cell_type": "markdown",
   "metadata": {},
   "source": [
    "Iterate and enrich the dict with the geonames details. \n",
    "\n",
    "If geonames API fails, the value for a place ID remains null. \n",
    "\n",
    "The iteration only takes null-place info elements, so we can rerun this cell as many times as needed to get data for all places. "
   ]
  },
  {
   "cell_type": "code",
   "execution_count": 36,
   "metadata": {},
   "outputs": [
    {
     "name": "stdout",
     "output_type": "stream",
     "text": [
      "1435 ...\n",
      "DONE: data saved\n"
     ]
    }
   ],
   "source": [
    "counter = 0\n",
    "for ddict in tempfiledata['data']:\n",
    "    _id = next(iter(ddict)) # get first element\n",
    "    if not ddict[_id]:\n",
    "        print(counter, \"...\")\n",
    "        res = geonames_details(_id)\n",
    "        if res:\n",
    "            tempfiledata['data'][counter][_id] = res\n",
    "        time.sleep(1)\n",
    "    else:\n",
    "        pass \n",
    "        # print(\"skipping\", counter)\n",
    "    counter += 1\n",
    "\n",
    "# now save to file\n",
    "with open('tmp/geonames_temp.json', 'w') as outfile:  \n",
    "    json.dump(tempfiledata, outfile)\n",
    "print(\"DONE: data saved\")"
   ]
  },
  {
   "cell_type": "markdown",
   "metadata": {},
   "source": [
    "Finally, add the geonames data to the original data frame. \n",
    "\n",
    "We can do this by creating a list for each of the new columns, making sure they have the exact same number of elements of the original data frame."
   ]
  },
  {
   "cell_type": "code",
   "execution_count": 37,
   "metadata": {},
   "outputs": [
    {
     "data": {
      "text/plain": [
       "True"
      ]
     },
     "execution_count": 37,
     "metadata": {},
     "output_type": "execute_result"
    }
   ],
   "source": [
    "lats, longs, countryCodes, countryNames = [], [], [], []\n",
    "for x in tempfiledata['data']:\n",
    "    _id = next(iter(x)) # get first element\n",
    "    if not x[_id]:\n",
    "        lats.append([\"\"])\n",
    "        longs.append([\"\"])\n",
    "        countryCodes.append([\"\"])\n",
    "        countryNames.append([\"\"])\n",
    "    else:\n",
    "        lats.append(x[_id][0])\n",
    "        longs.append(x[_id][1])\n",
    "        countryCodes.append(x[_id][2])\n",
    "        countryNames.append(x[_id][3])\n",
    "\n",
    "len(df1) == len(lats) == len(longs) == len(countryCodes) == len(countryNames)"
   ]
  },
  {
   "cell_type": "code",
   "execution_count": 38,
   "metadata": {},
   "outputs": [],
   "source": [
    "# when finished, update the dataframe and save \n",
    "df1['lat'] = lats\n",
    "df1['lng'] = longs\n",
    "df1['countryCode'] = countryCodes\n",
    "df1['countryName'] = countryNames\n",
    "df1.to_csv('tmp/enriched_cities_data_2019-04-23.csv')"
   ]
  },
  {
   "cell_type": "markdown",
   "metadata": {},
   "source": [
    "Finally, we can remove non-EU cities from the data table"
   ]
  },
  {
   "cell_type": "code",
   "execution_count": 41,
   "metadata": {},
   "outputs": [
    {
     "data": {
      "text/html": [
       "<div>\n",
       "<style scoped>\n",
       "    .dataframe tbody tr th:only-of-type {\n",
       "        vertical-align: middle;\n",
       "    }\n",
       "\n",
       "    .dataframe tbody tr th {\n",
       "        vertical-align: top;\n",
       "    }\n",
       "\n",
       "    .dataframe thead th {\n",
       "        text-align: right;\n",
       "    }\n",
       "</style>\n",
       "<table border=\"1\" class=\"dataframe\">\n",
       "  <thead>\n",
       "    <tr style=\"text-align: right;\">\n",
       "      <th></th>\n",
       "      <th>Unnamed: 0</th>\n",
       "      <th>geonamesId</th>\n",
       "      <th>name</th>\n",
       "      <th>count</th>\n",
       "      <th>lat</th>\n",
       "      <th>lng</th>\n",
       "      <th>countryCode</th>\n",
       "      <th>countryName</th>\n",
       "    </tr>\n",
       "  </thead>\n",
       "  <tbody>\n",
       "    <tr>\n",
       "      <th>0</th>\n",
       "      <td>0</td>\n",
       "      <td>2643743</td>\n",
       "      <td>London</td>\n",
       "      <td>468</td>\n",
       "      <td>51.50853</td>\n",
       "      <td>-0.12574</td>\n",
       "      <td>GB</td>\n",
       "      <td>United Kingdom</td>\n",
       "    </tr>\n",
       "    <tr>\n",
       "      <th>1</th>\n",
       "      <td>1</td>\n",
       "      <td>2988507</td>\n",
       "      <td>Paris</td>\n",
       "      <td>293</td>\n",
       "      <td>48.85341</td>\n",
       "      <td>2.3488</td>\n",
       "      <td>FR</td>\n",
       "      <td>France</td>\n",
       "    </tr>\n",
       "    <tr>\n",
       "      <th>2</th>\n",
       "      <td>2</td>\n",
       "      <td>3128760</td>\n",
       "      <td>Barcelona</td>\n",
       "      <td>176</td>\n",
       "      <td>41.38879</td>\n",
       "      <td>2.15899</td>\n",
       "      <td>ES</td>\n",
       "      <td>Spain</td>\n",
       "    </tr>\n",
       "    <tr>\n",
       "      <th>3</th>\n",
       "      <td>3</td>\n",
       "      <td>2759794</td>\n",
       "      <td>Amsterdam</td>\n",
       "      <td>172</td>\n",
       "      <td>52.37403</td>\n",
       "      <td>4.88969</td>\n",
       "      <td>NL</td>\n",
       "      <td>Netherlands</td>\n",
       "    </tr>\n",
       "    <tr>\n",
       "      <th>4</th>\n",
       "      <td>4</td>\n",
       "      <td>3117735</td>\n",
       "      <td>Madrid</td>\n",
       "      <td>171</td>\n",
       "      <td>40.4165</td>\n",
       "      <td>-3.70256</td>\n",
       "      <td>ES</td>\n",
       "      <td>Spain</td>\n",
       "    </tr>\n",
       "  </tbody>\n",
       "</table>\n",
       "</div>"
      ],
      "text/plain": [
       "   Unnamed: 0  geonamesId       name  count       lat       lng countryCode  \\\n",
       "0           0     2643743     London    468  51.50853  -0.12574          GB   \n",
       "1           1     2988507      Paris    293  48.85341    2.3488          FR   \n",
       "2           2     3128760  Barcelona    176  41.38879   2.15899          ES   \n",
       "3           3     2759794  Amsterdam    172  52.37403   4.88969          NL   \n",
       "4           4     3117735     Madrid    171   40.4165  -3.70256          ES   \n",
       "\n",
       "      countryName  \n",
       "0  United Kingdom  \n",
       "1          France  \n",
       "2           Spain  \n",
       "3     Netherlands  \n",
       "4           Spain  "
      ]
     },
     "execution_count": 41,
     "metadata": {},
     "output_type": "execute_result"
    }
   ],
   "source": [
    "df1 = pd.read_csv(\"tmp/enriched_cities_data_2019-04-23.csv\")\n",
    "europe_countries = [\"AD\",\"AL\",\"AT\",\"AX\",\"BA\",\"BE\",\"BG\",\"BY\",\"CH\",\"CZ\",\"DE\",\"DK\",\"EE\",\"ES\",\"FI\",\"FO\",\"FR\",\"GB\",\"GG\",\"GI\",\"GR\",\"HR\",\"HU\",\"IE\",\"IM\",\"IS\",\"IT\",\"JE\",\"LI\",\"LT\",\"LU\",\"LV\",\"MC\",\"MD\",\"ME\",\"MK\",\"MT\",\"NL\",\"NO\",\"PL\",\"PT\",\"RO\",\"RS\",\"RU\",\"SE\",\"SI\",\"SJ\",\"SK\",\"SM\",\"UA\",\"VA\"]\n",
    "\n",
    "to_drop = []\n",
    "\n",
    "for x,y in enumerate(df1['countryCode']):\n",
    "    if y not in europe_countries:\n",
    "        to_drop += [x]\n",
    "    \n",
    "df1.drop(df1.index[to_drop], inplace=True)\n",
    "df1.head()\n",
    "\n"
   ]
  },
  {
   "cell_type": "code",
   "execution_count": 51,
   "metadata": {},
   "outputs": [
    {
     "data": {
      "text/html": [
       "<div>\n",
       "<style scoped>\n",
       "    .dataframe tbody tr th:only-of-type {\n",
       "        vertical-align: middle;\n",
       "    }\n",
       "\n",
       "    .dataframe tbody tr th {\n",
       "        vertical-align: top;\n",
       "    }\n",
       "\n",
       "    .dataframe thead th {\n",
       "        text-align: right;\n",
       "    }\n",
       "</style>\n",
       "<table border=\"1\" class=\"dataframe\">\n",
       "  <thead>\n",
       "    <tr style=\"text-align: right;\">\n",
       "      <th></th>\n",
       "      <th>geonamesId</th>\n",
       "      <th>count</th>\n",
       "    </tr>\n",
       "  </thead>\n",
       "  <tbody>\n",
       "    <tr>\n",
       "      <th>count</th>\n",
       "      <td>8.080000e+02</td>\n",
       "      <td>808.000000</td>\n",
       "    </tr>\n",
       "    <tr>\n",
       "      <th>mean</th>\n",
       "      <td>2.627860e+06</td>\n",
       "      <td>13.493812</td>\n",
       "    </tr>\n",
       "    <tr>\n",
       "      <th>std</th>\n",
       "      <td>8.137934e+05</td>\n",
       "      <td>30.379793</td>\n",
       "    </tr>\n",
       "    <tr>\n",
       "      <th>min</th>\n",
       "      <td>2.518330e+05</td>\n",
       "      <td>1.000000</td>\n",
       "    </tr>\n",
       "    <tr>\n",
       "      <th>25%</th>\n",
       "      <td>2.641306e+06</td>\n",
       "      <td>1.000000</td>\n",
       "    </tr>\n",
       "    <tr>\n",
       "      <th>50%</th>\n",
       "      <td>2.825690e+06</td>\n",
       "      <td>3.000000</td>\n",
       "    </tr>\n",
       "    <tr>\n",
       "      <th>75%</th>\n",
       "      <td>3.031248e+06</td>\n",
       "      <td>13.000000</td>\n",
       "    </tr>\n",
       "    <tr>\n",
       "      <th>max</th>\n",
       "      <td>6.543862e+06</td>\n",
       "      <td>468.000000</td>\n",
       "    </tr>\n",
       "  </tbody>\n",
       "</table>\n",
       "</div>"
      ],
      "text/plain": [
       "         geonamesId       count\n",
       "count  8.080000e+02  808.000000\n",
       "mean   2.627860e+06   13.493812\n",
       "std    8.137934e+05   30.379793\n",
       "min    2.518330e+05    1.000000\n",
       "25%    2.641306e+06    1.000000\n",
       "50%    2.825690e+06    3.000000\n",
       "75%    3.031248e+06   13.000000\n",
       "max    6.543862e+06  468.000000"
      ]
     },
     "execution_count": 51,
     "metadata": {},
     "output_type": "execute_result"
    }
   ],
   "source": [
    "df1.describe()"
   ]
  },
  {
   "cell_type": "markdown",
   "metadata": {},
   "source": [
    "There are **808** cities from the EU listed now. \n",
    "\n",
    "As a final step, let's remove the first column and save the data as CSV. "
   ]
  },
  {
   "cell_type": "code",
   "execution_count": null,
   "metadata": {},
   "outputs": [],
   "source": [
    "df1.drop(['Unnamed: 0'], axis=1, inplace=True)"
   ]
  },
  {
   "cell_type": "code",
   "execution_count": 52,
   "metadata": {},
   "outputs": [],
   "source": [
    "df1.to_csv('cities_data_final_2019-04-23.csv')"
   ]
  },
  {
   "cell_type": "markdown",
   "metadata": {},
   "source": [
    "That's it. This is the final dataset, which includes only EU cities infos."
   ]
  },
  {
   "cell_type": "markdown",
   "metadata": {},
   "source": [
    "---\n",
    "# What next?\n",
    "\n",
    "\n",
    "This tutorial is the second of a three-parts series. The other ones can be found on the [Dimensions API Lab](https://digital-science.github.io/dimensions-api-lab/) website, which contains many other tutorials and reusable Jupyter notebooks for scholarly data analytics. "
   ]
  }
 ],
 "metadata": {
  "kernelspec": {
   "display_name": "Python 3",
   "language": "python",
   "name": "python3"
  },
  "language_info": {
   "codemirror_mode": {
    "name": "ipython",
    "version": 3
   },
   "file_extension": ".py",
   "mimetype": "text/x-python",
   "name": "python",
   "nbconvert_exporter": "python",
   "pygments_lexer": "ipython3",
   "version": "3.7.4"
  }
 },
 "nbformat": 4,
 "nbformat_minor": 4
}
