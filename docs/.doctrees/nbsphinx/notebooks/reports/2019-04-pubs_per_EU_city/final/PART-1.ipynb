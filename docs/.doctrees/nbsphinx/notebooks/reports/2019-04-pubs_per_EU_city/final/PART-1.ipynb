{
 "cells": [
  {
   "cell_type": "markdown",
   "metadata": {},
   "source": [
    "# Comparing the publications volume of cities in Europe\n",
    "\n",
    "## Part 1: Extracting Publications Data Based on Countries\n",
    "\n",
    "This notebook shows how to use the [Dimensions Analytics API](https://www.dimensions.ai/dimensions-apis/) to measure the distribution of overall number of publications per European cities. For the purpose of this exercise, we will look at a specific year i.e. 2018.\n",
    "\n",
    "This data will allow us to create a nice-looking map where cities producing more research can be identified visually.\n",
    "\n",
    "> **Customize this notebook:** simply change the geographical area and time-span to adapt this analysis to your needs! \n"
   ]
  },
  {
   "cell_type": "markdown",
   "metadata": {},
   "source": [
    "#### Prerequisites"
   ]
  },
  {
   "cell_type": "code",
   "execution_count": 1,
   "metadata": {},
   "outputs": [
    {
     "name": "stdout",
     "output_type": "stream",
     "text": [
      "DimCli v0.5.4 - Succesfully connected to <https://app.dimensions.ai> (method: dsl.ini file)\n"
     ]
    }
   ],
   "source": [
    "# data analysis libraries \n",
    "import time \n",
    "import pandas as pd \n",
    "import requests  \n",
    "import json \n",
    "# Dimensions API query helper\n",
    "import dimcli\n",
    "dimcli.login()\n",
    "dsl = dimcli.Dsl()\n",
    "# "
   ]
  },
  {
   "cell_type": "markdown",
   "metadata": {},
   "source": [
    "Let's put the list of countries we need into a Python list (PS: country codes are based on geonames, see also https://www.geonames.org/countries/). This will be used later when we generate queries dynamically."
   ]
  },
  {
   "cell_type": "code",
   "execution_count": 2,
   "metadata": {},
   "outputs": [],
   "source": [
    "EUROPEAN_COUNTRIES = [\"AD\",\"AL\",\"AT\",\"AX\",\"BA\",\"BE\",\"BG\",\"BY\",\"CH\",\"CZ\",\"DE\",\"DK\",\"EE\",\"ES\",\"FI\",\"FO\",\"FR\",\"GB\",\"GG\",\"GI\",\"GR\",\"HR\",\"HU\",\"IE\",\"IM\",\"IS\",\"IT\",\"JE\",\"LI\",\"LT\",\"LU\",\"LV\",\"MC\",\"MD\",\"ME\",\"MK\",\"MT\",\"NL\",\"NO\",\"PL\",\"PT\",\"RO\",\"RS\",\"RU\",\"SE\",\"SI\",\"SJ\",\"SK\",\"SM\",\"UA\",\"VA\"]"
   ]
  },
  {
   "cell_type": "markdown",
   "metadata": {},
   "source": [
    "We are looking at a specific year, hence:"
   ]
  },
  {
   "cell_type": "code",
   "execution_count": 3,
   "metadata": {},
   "outputs": [],
   "source": [
    "YEAR = 2018"
   ]
  },
  {
   "cell_type": "markdown",
   "metadata": {},
   "source": [
    "## 1. Getting the publications data from Dimensions\n",
    "\n",
    "Dimensions DSL API can return a maximim of 1000 results per call, so in order to get the data we are interested in we need to break down the queries into smaller components. \n",
    "\n",
    "We can create a number of **smaller queries**, one for for **each EU country**, for a single year, and extract all the cities information from it.\n",
    "\n",
    "This is what this query would look like, for a single country:\n",
    "\n",
    "```\n",
    "search publications\n",
    "where type=\"article\" and year=\"2018\" and research_org_countries in [\"GB\"]\n",
    "return research_org_cities limit 1000\n",
    "```\n",
    "\n",
    "The result of this query contains a list of cities and publication counts, like this:\n",
    "\n",
    "```\n",
    "n\tcount\tid\t\tname\n",
    "0\t63893\t2643743\tLondon\n",
    "1\t16173\t2653941\tCambridge\n",
    "2\t16073\t2640729\tOxford\n",
    "3\t10695\t2643123\tManchester\n",
    "4\t10403\t2650225\tEdinburgh\n",
    "```"
   ]
  },
  {
   "cell_type": "markdown",
   "metadata": {},
   "source": [
    "In essence, we want to run the query above for all countries in the EU, then collate the data into a single table. "
   ]
  },
  {
   "cell_type": "markdown",
   "metadata": {},
   "source": [
    "We can set up a parametrized query loop as follows "
   ]
  },
  {
   "cell_type": "code",
   "execution_count": 4,
   "metadata": {},
   "outputs": [],
   "source": [
    "q_template = f\"\"\"search publications\n",
    "where type=\"article\" and date=\"{YEAR}\" and research_org_countries in [\"%s\"]\n",
    "return research_org_cities limit 1000\"\"\""
   ]
  },
  {
   "cell_type": "code",
   "execution_count": 5,
   "metadata": {},
   "outputs": [
    {
     "name": "stdout",
     "output_type": "stream",
     "text": [
      "Querying country: AD . Results Rows: 0\n",
      "Querying country: AL . Results Rows: 6\n",
      "Querying country: AT . Results Rows: 179\n",
      "Querying country: AX . Results Rows: 179\n",
      "Querying country: BA . Results Rows: 184\n",
      "Querying country: BE . Results Rows: 485\n",
      "Querying country: BG . Results Rows: 514\n",
      "Querying country: BY . Results Rows: 585\n",
      "Querying country: CH . Results Rows: 963\n",
      "Querying country: CZ . Results Rows: 1108\n",
      "Querying country: DE . Results Rows: 1711\n",
      "Querying country: DK . Results Rows: 2001\n",
      "Querying country: EE . Results Rows: 2019\n",
      "Querying country: ES . Results Rows: 2464\n",
      "Querying country: FI . Results Rows: 2621\n",
      "Querying country: FO . Results Rows: 2621\n",
      "Querying country: FR . Results Rows: 3219\n",
      "Querying country: GB . Results Rows: 3942\n",
      "Querying country: GG . Results Rows: 3942\n",
      "Querying country: GI . Results Rows: 3942\n",
      "Querying country: GR . Results Rows: 4120\n",
      "Querying country: HR . Results Rows: 4129\n",
      "Querying country: HU . Results Rows: 4183\n",
      "Querying country: IE . Results Rows: 4258\n",
      "Querying country: IM . Results Rows: 4258\n",
      "Querying country: IS . Results Rows: 4270\n",
      "Querying country: IT . Results Rows: 4771\n",
      "Querying country: JE . Results Rows: 4771\n",
      "Querying country: LI . Results Rows: 4771\n",
      "Querying country: LT . Results Rows: 4773\n",
      "Querying country: LU . Results Rows: 4775\n",
      "Querying country: LV . Results Rows: 4776\n",
      "Querying country: MC . Results Rows: 4779\n",
      "Querying country: MD . Results Rows: 4781\n",
      "Querying country: ME . Results Rows: 4785\n",
      "Querying country: MK . Results Rows: 4785\n",
      "Querying country: MT . Results Rows: 4856\n",
      "Querying country: NL . Results Rows: 5287\n",
      "Querying country: NO . Results Rows: 5490\n",
      "Querying country: PL . Results Rows: 5702\n",
      "Querying country: PT . Results Rows: 5920\n",
      "Querying country: RO . Results Rows: 6017\n",
      "Querying country: RS . Results Rows: 6067\n",
      "Querying country: RU . Results Rows: 6288\n",
      "Querying country: SE . Results Rows: 6582\n",
      "Querying country: SI . Results Rows: 6669\n",
      "Querying country: SJ . Results Rows: 6669\n",
      "Querying country: SK . Results Rows: 6746\n",
      "Querying country: SM . Results Rows: 6746\n",
      "Querying country: UA . Results Rows: 6790\n",
      "Querying country: VA . Results Rows: 6790\n",
      "--\n",
      "Done\n"
     ]
    }
   ],
   "source": [
    "# dataframe container object\n",
    "df_master = pd.DataFrame()\n",
    "# query loop\n",
    "for c in EUROPEAN_COUNTRIES:\n",
    "    query = q_template % (c)\n",
    "    res = dsl.query(query, show_results=False)\n",
    "    data = res['research_org_cities']\n",
    "    if data:\n",
    "        if df_master.empty:\n",
    "            df_master = pd.DataFrame.from_dict(data)\n",
    "        else:\n",
    "            df_temp = pd.DataFrame.from_dict(data)\n",
    "            df_master = df_master.append(df_temp, sort=True)\n",
    "    print(\"Querying country:\", c, \". Results Rows:\", len(df_master))\n",
    "    time.sleep(1.5) # ensure we respect the API limit of 30 queries per second\n",
    "print(\"--\")    \n",
    "print(\"Done\")    "
   ]
  },
  {
   "cell_type": "markdown",
   "metadata": {},
   "source": [
    "#### That's it! We have extracted the cities/publications data for all the EU countries. \n",
    "\n",
    "Let's save the raw data as a CSV file so that we can use it later. "
   ]
  },
  {
   "cell_type": "code",
   "execution_count": 8,
   "metadata": {},
   "outputs": [],
   "source": [
    "df_master.to_csv('data/raw_cities_data.csv')"
   ]
  },
  {
   "cell_type": "markdown",
   "metadata": {},
   "source": [
    "## 2. Cleaning the data by removing duplicates \n",
    "\n",
    "Next up, we want to combine the raw data so that we have only one entry per city. "
   ]
  },
  {
   "cell_type": "code",
   "execution_count": 9,
   "metadata": {},
   "outputs": [],
   "source": [
    "df_master_merged = df_master.pivot_table(index=['id', 'name'], aggfunc=sum).sort_values(by=['count'], ascending=False)"
   ]
  },
  {
   "cell_type": "code",
   "execution_count": 10,
   "metadata": {},
   "outputs": [],
   "source": [
    "# fix column names (https://stackoverflow.com/questions/33290374/pandas-pivot-table-column-names)\n",
    "df_master_merged.reset_index(inplace=True)"
   ]
  },
  {
   "cell_type": "markdown",
   "metadata": {},
   "source": [
    "Let's save this intermediary step as a different CSV. "
   ]
  },
  {
   "cell_type": "code",
   "execution_count": 12,
   "metadata": {},
   "outputs": [],
   "source": [
    "df_master_merged.to_csv('data/merged_cities_data.csv')"
   ]
  },
  {
   "cell_type": "markdown",
   "metadata": {},
   "source": [
    "Quick look at the data we collected"
   ]
  },
  {
   "cell_type": "code",
   "execution_count": 11,
   "metadata": {},
   "outputs": [
    {
     "data": {
      "text/plain": [
       "1466"
      ]
     },
     "execution_count": 11,
     "metadata": {},
     "output_type": "execute_result"
    }
   ],
   "source": [
    "len(df_master_merged)"
   ]
  },
  {
   "cell_type": "code",
   "execution_count": 17,
   "metadata": {},
   "outputs": [
    {
     "data": {
      "text/html": [
       "<div>\n",
       "<style scoped>\n",
       "    .dataframe tbody tr th:only-of-type {\n",
       "        vertical-align: middle;\n",
       "    }\n",
       "\n",
       "    .dataframe tbody tr th {\n",
       "        vertical-align: top;\n",
       "    }\n",
       "\n",
       "    .dataframe thead th {\n",
       "        text-align: right;\n",
       "    }\n",
       "</style>\n",
       "<table border=\"1\" class=\"dataframe\">\n",
       "  <thead>\n",
       "    <tr style=\"text-align: right;\">\n",
       "      <th></th>\n",
       "      <th>Unnamed: 0</th>\n",
       "      <th>id</th>\n",
       "      <th>name</th>\n",
       "      <th>count</th>\n",
       "    </tr>\n",
       "  </thead>\n",
       "  <tbody>\n",
       "    <tr>\n",
       "      <th>0</th>\n",
       "      <td>0</td>\n",
       "      <td>2643743</td>\n",
       "      <td>London</td>\n",
       "      <td>468</td>\n",
       "    </tr>\n",
       "    <tr>\n",
       "      <th>1</th>\n",
       "      <td>1</td>\n",
       "      <td>2988507</td>\n",
       "      <td>Paris</td>\n",
       "      <td>293</td>\n",
       "    </tr>\n",
       "    <tr>\n",
       "      <th>2</th>\n",
       "      <td>2</td>\n",
       "      <td>3128760</td>\n",
       "      <td>Barcelona</td>\n",
       "      <td>176</td>\n",
       "    </tr>\n",
       "    <tr>\n",
       "      <th>3</th>\n",
       "      <td>3</td>\n",
       "      <td>2759794</td>\n",
       "      <td>Amsterdam</td>\n",
       "      <td>172</td>\n",
       "    </tr>\n",
       "    <tr>\n",
       "      <th>4</th>\n",
       "      <td>4</td>\n",
       "      <td>3117735</td>\n",
       "      <td>Madrid</td>\n",
       "      <td>171</td>\n",
       "    </tr>\n",
       "    <tr>\n",
       "      <th>5</th>\n",
       "      <td>5</td>\n",
       "      <td>3173435</td>\n",
       "      <td>Milan</td>\n",
       "      <td>163</td>\n",
       "    </tr>\n",
       "    <tr>\n",
       "      <th>6</th>\n",
       "      <td>6</td>\n",
       "      <td>3169070</td>\n",
       "      <td>Rome</td>\n",
       "      <td>154</td>\n",
       "    </tr>\n",
       "    <tr>\n",
       "      <th>7</th>\n",
       "      <td>7</td>\n",
       "      <td>2657896</td>\n",
       "      <td>Zürich</td>\n",
       "      <td>147</td>\n",
       "    </tr>\n",
       "    <tr>\n",
       "      <th>8</th>\n",
       "      <td>8</td>\n",
       "      <td>2950159</td>\n",
       "      <td>Berlin</td>\n",
       "      <td>135</td>\n",
       "    </tr>\n",
       "    <tr>\n",
       "      <th>9</th>\n",
       "      <td>9</td>\n",
       "      <td>2673730</td>\n",
       "      <td>Stockholm</td>\n",
       "      <td>126</td>\n",
       "    </tr>\n",
       "  </tbody>\n",
       "</table>\n",
       "</div>"
      ],
      "text/plain": [
       "   Unnamed: 0       id       name  count\n",
       "0           0  2643743     London    468\n",
       "1           1  2988507      Paris    293\n",
       "2           2  3128760  Barcelona    176\n",
       "3           3  2759794  Amsterdam    172\n",
       "4           4  3117735     Madrid    171\n",
       "5           5  3173435      Milan    163\n",
       "6           6  3169070       Rome    154\n",
       "7           7  2657896     Zürich    147\n",
       "8           8  2950159     Berlin    135\n",
       "9           9  2673730  Stockholm    126"
      ]
     },
     "execution_count": 17,
     "metadata": {},
     "output_type": "execute_result"
    }
   ],
   "source": [
    "df_master_merged.head(10)"
   ]
  },
  {
   "cell_type": "markdown",
   "metadata": {},
   "source": [
    "---\n",
    "# What next?\n",
    "\n",
    "\n",
    "This tutorial is the first of a three-parts series. The other ones can be found on the [Dimensions API Lab](https://digital-science.github.io/dimensions-api-lab/) website, which contains many other tutorials and reusable Jupyter notebooks for scholarly data analytics. "
   ]
  }
 ],
 "metadata": {
  "kernelspec": {
   "display_name": "Python 3",
   "language": "python",
   "name": "python3"
  },
  "language_info": {
   "codemirror_mode": {
    "name": "ipython",
    "version": 3
   },
   "file_extension": ".py",
   "mimetype": "text/x-python",
   "name": "python",
   "nbconvert_exporter": "python",
   "pygments_lexer": "ipython3",
   "version": "3.7.4"
  }
 },
 "nbformat": 4,
 "nbformat_minor": 4
}
