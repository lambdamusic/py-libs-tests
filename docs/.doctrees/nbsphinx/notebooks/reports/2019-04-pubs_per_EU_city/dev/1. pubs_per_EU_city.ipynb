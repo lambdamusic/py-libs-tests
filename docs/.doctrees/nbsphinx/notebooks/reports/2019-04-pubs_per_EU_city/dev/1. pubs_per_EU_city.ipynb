{
 "cells": [
  {
   "cell_type": "markdown",
   "metadata": {},
   "source": [
    "# 1. Publications volume per city (in the EU, for a given year)"
   ]
  },
  {
   "cell_type": "markdown",
   "metadata": {},
   "source": [
    "### Prerequisites"
   ]
  },
  {
   "cell_type": "markdown",
   "metadata": {},
   "source": [
    "> This notebook assumes you have installed the `dimcli` library and are familiar with the [Getting Started](https://github.com/digital-science/dimensions-api-examples/blob/master/stable/1.%20Getting%20Started.ipynb) tutorial. "
   ]
  },
  {
   "cell_type": "code",
   "execution_count": 8,
   "metadata": {},
   "outputs": [
    {
     "name": "stdout",
     "output_type": "stream",
     "text": [
      "DimCli v0.4.3 - Succesfully connected to <https://app.dimensions.ai>\n"
     ]
    }
   ],
   "source": [
    "import dimcli\n",
    "dimcli.login()\n",
    "dsl = dimcli.Dsl()"
   ]
  },
  {
   "cell_type": "markdown",
   "metadata": {},
   "source": [
    "Let's also load the time library (for pacing the API queries) and pandas (for analysing the data) "
   ]
  },
  {
   "cell_type": "code",
   "execution_count": 9,
   "metadata": {},
   "outputs": [],
   "source": [
    "import time\n",
    "import pandas as pd"
   ]
  },
  {
   "cell_type": "markdown",
   "metadata": {},
   "source": [
    "## Approach 1: one query per day\n",
    "\n",
    "We limit the number of results to a manageable size by querying for publications related to all cities in europe, for each day of the year. Eg. for a full year we would have 365 queries. Once we have collected all the data we can merge it and calculate the total sums per city.\n",
    "\n",
    "The main problem with this approach is that...."
   ]
  },
  {
   "cell_type": "markdown",
   "metadata": {},
   "source": [
    "#### 1. First let's try out the DSL query template we're gonna use later on"
   ]
  },
  {
   "cell_type": "code",
   "execution_count": 3,
   "metadata": {},
   "outputs": [
    {
     "name": "stdout",
     "output_type": "stream",
     "text": [
      "Tot Publications:  2461\n",
      "Returned Research_org_cities: 1000\n"
     ]
    },
    {
     "data": {
      "application/json": {
       "_stats": {
        "total_count": 2461
       },
       "research_org_cities": [
        {
         "count": 156,
         "id": "2643743",
         "name": "London"
        },
        {
         "count": 75,
         "id": "2988507",
         "name": "Paris"
        },
        {
         "count": 75,
         "id": "3117735",
         "name": "Madrid"
        },
        {
         "count": 71,
         "id": "3169070",
         "name": "Rome"
        },
        {
         "count": 62,
         "id": "524901",
         "name": "Moscow"
        },
        {
         "count": 60,
         "id": "2653941",
         "name": "Cambridge"
        },
        {
         "count": 52,
         "id": "3128760",
         "name": "Barcelona"
        },
        {
         "count": 48,
         "id": "2657896",
         "name": "Zürich"
        },
        {
         "count": 47,
         "id": "2640729",
         "name": "Oxford"
        },
        {
         "count": 47,
         "id": "3173435",
         "name": "Milan"
        },
        {
         "count": 41,
         "id": "3143244",
         "name": "Oslo"
        },
        {
         "count": 40,
         "id": "2618425",
         "name": "Copenhagen"
        },
        {
         "count": 39,
         "id": "2867714",
         "name": "Munich"
        },
        {
         "count": 38,
         "id": "2673730",
         "name": "Stockholm"
        },
        {
         "count": 37,
         "id": "2644210",
         "name": "Liverpool"
        },
        {
         "count": 37,
         "id": "2759794",
         "name": "Amsterdam"
        },
        {
         "count": 37,
         "id": "2950159",
         "name": "Berlin"
        },
        {
         "count": 37,
         "id": "3067696",
         "name": "Prague"
        },
        {
         "count": 35,
         "id": "2659994",
         "name": "Lausanne"
        },
        {
         "count": 34,
         "id": "1816670",
         "name": "Beijing"
        },
        {
         "count": 33,
         "id": "264371",
         "name": "Athens"
        },
        {
         "count": 31,
         "id": "2643123",
         "name": "Manchester"
        },
        {
         "count": 31,
         "id": "658225",
         "name": "Helsinki"
        },
        {
         "count": 30,
         "id": "2660646",
         "name": "Genève"
        },
        {
         "count": 29,
         "id": "2650225",
         "name": "Edinburgh"
        },
        {
         "count": 29,
         "id": "2761369",
         "name": "Vienna"
        },
        {
         "count": 28,
         "id": "2879139",
         "name": "Leipzig"
        },
        {
         "count": 27,
         "id": "2638077",
         "name": "Sheffield"
        },
        {
         "count": 27,
         "id": "2655603",
         "name": "Birmingham"
        },
        {
         "count": 27,
         "id": "756135",
         "name": "Warsaw"
        },
        {
         "count": 26,
         "id": "2648579",
         "name": "Glasgow"
        },
        {
         "count": 26,
         "id": "2661552",
         "name": "Bern"
        },
        {
         "count": 26,
         "id": "498817",
         "name": "Saint Petersburg"
        },
        {
         "count": 25,
         "id": "2509954",
         "name": "Valencia"
        },
        {
         "count": 25,
         "id": "2641170",
         "name": "Nottingham"
        },
        {
         "count": 25,
         "id": "2745912",
         "name": "Utrecht"
        },
        {
         "count": 25,
         "id": "2964574",
         "name": "Dublin"
        },
        {
         "count": 24,
         "id": "2666199",
         "name": "Uppsala"
        },
        {
         "count": 24,
         "id": "3176959",
         "name": "Florence"
        },
        {
         "count": 24,
         "id": "3181928",
         "name": "Bologna"
        },
        {
         "count": 23,
         "id": "2267057",
         "name": "Lisbon"
        },
        {
         "count": 23,
         "id": "2624652",
         "name": "Århus"
        },
        {
         "count": 23,
         "id": "2654675",
         "name": "Bristol"
        },
        {
         "count": 23,
         "id": "2792482",
         "name": "Leuven"
        },
        {
         "count": 22,
         "id": "2644688",
         "name": "Leeds"
        },
        {
         "count": 22,
         "id": "2886242",
         "name": "Köln"
        },
        {
         "count": 22,
         "id": "2995469",
         "name": "Marseille"
        },
        {
         "count": 20,
         "id": "2649808",
         "name": "Exeter"
        },
        {
         "count": 20,
         "id": "2750053",
         "name": "Nijmegen"
        },
        {
         "count": 20,
         "id": "2797656",
         "name": "Gent"
        },
        {
         "count": 19,
         "id": "2158177",
         "name": "Melbourne"
        },
        {
         "count": 19,
         "id": "2641673",
         "name": "Newcastle upon Tyne"
        },
        {
         "count": 19,
         "id": "633679",
         "name": "Turku"
        },
        {
         "count": 18,
         "id": "2147714",
         "name": "Sydney"
        },
        {
         "count": 18,
         "id": "2653822",
         "name": "Cardiff"
        },
        {
         "count": 18,
         "id": "2711537",
         "name": "Göteborg"
        },
        {
         "count": 18,
         "id": "2755251",
         "name": "Groningen"
        },
        {
         "count": 17,
         "id": "2803138",
         "name": "Antwerpen"
        },
        {
         "count": 17,
         "id": "2935022",
         "name": "Dresden"
        },
        {
         "count": 17,
         "id": "5128581",
         "name": "New York City"
        },
        {
         "count": 16,
         "id": "2747891",
         "name": "Rotterdam"
        },
        {
         "count": 16,
         "id": "3171728",
         "name": "Padova"
        },
        {
         "count": 16,
         "id": "3176219",
         "name": "Genoa"
        },
        {
         "count": 15,
         "id": "1850147",
         "name": "Tokyo"
        },
        {
         "count": 15,
         "id": "2615876",
         "name": "Odense"
        },
        {
         "count": 15,
         "id": "2693678",
         "name": "Lund"
        },
        {
         "count": 15,
         "id": "2751773",
         "name": "Leiden"
        },
        {
         "count": 15,
         "id": "2907911",
         "name": "Heidelberg"
        },
        {
         "count": 15,
         "id": "2911298",
         "name": "Hamburg"
        },
        {
         "count": 15,
         "id": "2925533",
         "name": "Frankfurt am Main"
        },
        {
         "count": 15,
         "id": "2929567",
         "name": "Erlangen"
        },
        {
         "count": 15,
         "id": "3170647",
         "name": "Pisa"
        },
        {
         "count": 15,
         "id": "4347778",
         "name": "Baltimore"
        },
        {
         "count": 15,
         "id": "4930956",
         "name": "Boston"
        },
        {
         "count": 14,
         "id": "1796236",
         "name": "Shanghai"
        },
        {
         "count": 14,
         "id": "2517117",
         "name": "Granada"
        },
        {
         "count": 14,
         "id": "2637487",
         "name": "Southampton"
        },
        {
         "count": 14,
         "id": "2735943",
         "name": "Porto"
        },
        {
         "count": 14,
         "id": "2867543",
         "name": "Münster"
        },
        {
         "count": 14,
         "id": "2946447",
         "name": "Bonn"
        },
        {
         "count": 14,
         "id": "2990969",
         "name": "Nantes"
        },
        {
         "count": 14,
         "id": "2992166",
         "name": "Montpellier"
        },
        {
         "count": 14,
         "id": "3133880",
         "name": "Trondheim"
        },
        {
         "count": 14,
         "id": "3186886",
         "name": "Zagreb"
        },
        {
         "count": 13,
         "id": "2652221",
         "name": "Coventry"
        },
        {
         "count": 13,
         "id": "2874225",
         "name": "Mainz"
        },
        {
         "count": 13,
         "id": "2964180",
         "name": "Gaillimh"
        },
        {
         "count": 13,
         "id": "2972315",
         "name": "Toulouse"
        },
        {
         "count": 13,
         "id": "2973783",
         "name": "Strasbourg"
        },
        {
         "count": 13,
         "id": "3094802",
         "name": "Kraków"
        },
        {
         "count": 13,
         "id": "3247449",
         "name": "Aachen"
        },
        {
         "count": 12,
         "id": "1486209",
         "name": "Yekaterinburg"
        },
        {
         "count": 12,
         "id": "2510911",
         "name": "Sevilla"
        },
        {
         "count": 12,
         "id": "2644668",
         "name": "Leicester"
        },
        {
         "count": 12,
         "id": "2655984",
         "name": "Belfast"
        },
        {
         "count": 12,
         "id": "2820256",
         "name": "Ulm"
        },
        {
         "count": 12,
         "id": "2895044",
         "name": "Jena"
        },
        {
         "count": 12,
         "id": "3054643",
         "name": "Budapest"
        },
        {
         "count": 12,
         "id": "3161732",
         "name": "Bergen"
        },
        {
         "count": 12,
         "id": "3165524",
         "name": "Turin"
        },
        {
         "count": 12,
         "id": "3172394",
         "name": "Naples"
        },
        {
         "count": 12,
         "id": "5368361",
         "name": "Los Angeles"
        },
        {
         "count": 12,
         "id": "727011",
         "name": "Sofia"
        },
        {
         "count": 11,
         "id": "2174003",
         "name": "Brisbane"
        },
        {
         "count": 11,
         "id": "2624886",
         "name": "Aalborg"
        },
        {
         "count": 11,
         "id": "2639577",
         "name": "Reading"
        },
        {
         "count": 11,
         "id": "2694762",
         "name": "Linköping"
        },
        {
         "count": 11,
         "id": "2740637",
         "name": "Coimbra"
        },
        {
         "count": 11,
         "id": "2778067",
         "name": "Graz"
        },
        {
         "count": 11,
         "id": "2800866",
         "name": "Brussels"
        },
        {
         "count": 11,
         "id": "2947416",
         "name": "Bochum"
        },
        {
         "count": 11,
         "id": "2996944",
         "name": "Lyon"
        },
        {
         "count": 11,
         "id": "3114711",
         "name": "Oviedo"
        },
        {
         "count": 11,
         "id": "4140963",
         "name": "Washington, D.C."
        },
        {
         "count": 11,
         "id": "4931972",
         "name": "Cambridge"
        },
        {
         "count": 11,
         "id": "5391811",
         "name": "San Diego"
        },
        {
         "count": 11,
         "id": "6077243",
         "name": "Montréal"
        },
        {
         "count": 11,
         "id": "634963",
         "name": "Tampere"
        },
        {
         "count": 11,
         "id": "650224",
         "name": "Kuopio"
        },
        {
         "count": 11,
         "id": "734077",
         "name": "Thessaloníki"
        },
        {
         "count": 10,
         "id": "1809858",
         "name": "Guangzhou"
        },
        {
         "count": 10,
         "id": "1819729",
         "name": "Hong Kong"
        },
        {
         "count": 10,
         "id": "1880252",
         "name": "Singapore"
        },
        {
         "count": 10,
         "id": "2618468",
         "name": "Kongens Lyngby"
        },
        {
         "count": 10,
         "id": "2633352",
         "name": "York"
        },
        {
         "count": 10,
         "id": "2757345",
         "name": "Delft"
        },
        {
         "count": 10,
         "id": "2805615",
         "name": "Würzburg"
        },
        {
         "count": 10,
         "id": "2918632",
         "name": "Göttingen"
        },
        {
         "count": 10,
         "id": "3031582",
         "name": "Bordeaux"
        },
        {
         "count": 10,
         "id": "3128026",
         "name": "Bilbao"
        },
        {
         "count": 10,
         "id": "3149563",
         "name": "Kongsberg"
        },
        {
         "count": 10,
         "id": "3530597",
         "name": "Mexico City"
        },
        {
         "count": 10,
         "id": "4348599",
         "name": "Bethesda"
        },
        {
         "count": 10,
         "id": "4560349",
         "name": "Philadelphia"
        },
        {
         "count": 10,
         "id": "602150",
         "name": "Umeå"
        },
        {
         "count": 10,
         "id": "655194",
         "name": "Jyväskylä"
        },
        {
         "count": 9,
         "id": "2654710",
         "name": "Brighton"
        },
        {
         "count": 9,
         "id": "2656173",
         "name": "Bath"
        },
        {
         "count": 9,
         "id": "2661604",
         "name": "Basel"
        },
        {
         "count": 9,
         "id": "2751283",
         "name": "Maastricht"
        },
        {
         "count": 9,
         "id": "2820860",
         "name": "Tübingen"
        },
        {
         "count": 9,
         "id": "2934246",
         "name": "Düsseldorf"
        },
        {
         "count": 9,
         "id": "3078610",
         "name": "Brno"
        },
        {
         "count": 9,
         "id": "3448439",
         "name": "São Paulo"
        },
        {
         "count": 9,
         "id": "4180439",
         "name": "Atlanta"
        },
        {
         "count": 9,
         "id": "5327684",
         "name": "Berkeley"
        },
        {
         "count": 9,
         "id": "593116",
         "name": "Vilnius"
        },
        {
         "count": 9,
         "id": "6167865",
         "name": "Toronto"
        },
        {
         "count": 9,
         "id": "792680",
         "name": "Belgrade"
        },
        {
         "count": 8,
         "id": "112931",
         "name": "Tehran"
        },
        {
         "count": 8,
         "id": "1835848",
         "name": "Seoul"
        },
        {
         "count": 8,
         "id": "2514256",
         "name": "Málaga"
        },
        {
         "count": 8,
         "id": "2636432",
         "name": "Swansea"
        },
        {
         "count": 8,
         "id": "2639996",
         "name": "Portsmouth"
        },
        {
         "count": 8,
         "id": "2640194",
         "name": "Plymouth"
        },
        {
         "count": 8,
         "id": "2650752",
         "name": "Dundee"
        },
        {
         "count": 8,
         "id": "2745088",
         "name": "Wageningen"
        },
        {
         "count": 8,
         "id": "2775220",
         "name": "Innsbruck"
        },
        {
         "count": 8,
         "id": "2792413",
         "name": "Liège"
        },
        {
         "count": 8,
         "id": "2891122",
         "name": "Kiel"
        },
        {
         "count": 8,
         "id": "2892794",
         "name": "Karlsruhe"
        },
        {
         "count": 8,
         "id": "2925177",
         "name": "Freiburg"
        },
        {
         "count": 8,
         "id": "2928810",
         "name": "Essen"
        },
        {
         "count": 8,
         "id": "3016078",
         "name": "Gif-sur-Yvette"
        },
        {
         "count": 8,
         "id": "3093133",
         "name": "Łódź"
        },
        {
         "count": 8,
         "id": "3099434",
         "name": "Gdańsk"
        },
        {
         "count": 8,
         "id": "3109642",
         "name": "Santiago de Compostela"
        },
        {
         "count": 8,
         "id": "3171366",
         "name": "Pavia"
        },
        {
         "count": 8,
         "id": "4887398",
         "name": "Chicago"
        },
        {
         "count": 8,
         "id": "6094817",
         "name": "Ottawa"
        },
        {
         "count": 7,
         "id": "2513416",
         "name": "Murcia"
        },
        {
         "count": 7,
         "id": "2614481",
         "name": "Roskilde"
        },
        {
         "count": 7,
         "id": "2636910",
         "name": "Stirling"
        },
        {
         "count": 7,
         "id": "2643567",
         "name": "Loughborough"
        },
        {
         "count": 7,
         "id": "2644487",
         "name": "Lincoln"
        },
        {
         "count": 7,
         "id": "2644972",
         "name": "Lancaster"
        },
        {
         "count": 7,
         "id": "2645425",
         "name": "Kingston upon Hull"
        },
        {
         "count": 7,
         "id": "2647349",
         "name": "Hatfield"
        },
        {
         "count": 7,
         "id": "2650628",
         "name": "Durham"
        },
        {
         "count": 7,
         "id": "2652586",
         "name": "Coleraine"
        },
        {
         "count": 7,
         "id": "2653877",
         "name": "Canterbury"
        },
        {
         "count": 7,
         "id": "2756071",
         "name": "Enschede"
        },
        {
         "count": 7,
         "id": "2825297",
         "name": "Stuttgart"
        },
        {
         "count": 7,
         "id": "2852458",
         "name": "Potsdam"
        },
        {
         "count": 7,
         "id": "2910831",
         "name": "Hannover"
        },
        {
         "count": 7,
         "id": "2920512",
         "name": "Gießen"
        },
        {
         "count": 7,
         "id": "2962943",
         "name": "Luimneach"
        },
        {
         "count": 7,
         "id": "2968254",
         "name": "Villeurbanne"
        },
        {
         "count": 7,
         "id": "3014728",
         "name": "Grenoble"
        },
        {
         "count": 7,
         "id": "3081368",
         "name": "Wrocław"
        },
        {
         "count": 7,
         "id": "3111108",
         "name": "Salamanca"
        },
        {
         "count": 7,
         "id": "3118554",
         "name": "Leioa"
        },
        {
         "count": 7,
         "id": "3133895",
         "name": "Tromsø"
        },
        {
         "count": 7,
         "id": "3196359",
         "name": "Ljubljana"
        },
        {
         "count": 7,
         "id": "3413829",
         "name": "Reykjavík"
        },
        {
         "count": 7,
         "id": "3871336",
         "name": "Santiago"
        },
        {
         "count": 7,
         "id": "4049979",
         "name": "Birmingham"
        },
        {
         "count": 7,
         "id": "4699066",
         "name": "Houston"
        },
        {
         "count": 7,
         "id": "5037649",
         "name": "Minneapolis"
        },
        {
         "count": 7,
         "id": "5206379",
         "name": "Pittsburgh"
        },
        {
         "count": 7,
         "id": "643492",
         "name": "Oulu"
        },
        {
         "count": 7,
         "id": "683506",
         "name": "Bucharest"
        },
        {
         "count": 7,
         "id": "765876",
         "name": "Lublin"
        },
        {
         "count": 7,
         "id": "993800",
         "name": "Johannesburg"
        },
        {
         "count": 6,
         "id": "108410",
         "name": "Riyadh"
        },
        {
         "count": 6,
         "id": "1261481",
         "name": "New Delhi"
        },
        {
         "count": 6,
         "id": "1275004",
         "name": "Kolkata"
        },
        {
         "count": 6,
         "id": "1496747",
         "name": "Novosibirsk"
        },
        {
         "count": 6,
         "id": "1797929",
         "name": "Qingdao"
        },
        {
         "count": 6,
         "id": "184745",
         "name": "Nairobi"
        },
        {
         "count": 6,
         "id": "1886760",
         "name": "Suzhou"
        },
        {
         "count": 6,
         "id": "2078025",
         "name": "Adelaide"
        },
        {
         "count": 6,
         "id": "2524170",
         "name": "Messina"
        },
        {
         "count": 6,
         "id": "2638864",
         "name": "Saint Andrews"
        },
        {
         "count": 6,
         "id": "2639912",
         "name": "Preston"
        },
        {
         "count": 6,
         "id": "2647793",
         "name": "Guildford"
        },
        {
         "count": 6,
         "id": "2660718",
         "name": "Fribourg"
        },
        {
         "count": 6,
         "id": "2746301",
         "name": "Tilburg"
        },
        {
         "count": 6,
         "id": "2983990",
         "name": "Rennes"
        },
        {
         "count": 6,
         "id": "3024635",
         "name": "Clermont-Ferrand"
        },
        {
         "count": 6,
         "id": "3088171",
         "name": "Poznań"
        },
        {
         "count": 6,
         "id": "3096472",
         "name": "Katowice"
        },
        {
         "count": 6,
         "id": "3171180",
         "name": "Perugia"
        },
        {
         "count": 6,
         "id": "3173331",
         "name": "Modena"
        },
        {
         "count": 6,
         "id": "3182351",
         "name": "Bari"
        },
        {
         "count": 6,
         "id": "4984247",
         "name": "Ann Arbor"
        },
        {
         "count": 6,
         "id": "598316",
         "name": "Kaunas"
        },
        {
         "count": 5,
         "id": "1609350",
         "name": "Bangkok"
        },
        {
         "count": 5,
         "id": "1791247",
         "name": "Wuhan"
        },
        {
         "count": 5,
         "id": "1792947",
         "name": "Tianjin"
        },
        {
         "count": 5,
         "id": "1799962",
         "name": "Nanjing"
        },
        {
         "count": 5,
         "id": "2063523",
         "name": "Perth"
        },
        {
         "count": 5,
         "id": "2512989",
         "name": "Palma"
        },
        {
         "count": 5,
         "id": "2519240",
         "name": "Córdoba"
        },
        {
         "count": 5,
         "id": "2521978",
         "name": "Alicante"
        },
        {
         "count": 5,
         "id": "2523920",
         "name": "Palermo"
        },
        {
         "count": 5,
         "id": "2525068",
         "name": "Catania"
        },
        {
         "count": 5,
         "id": "255683",
         "name": "Pátra"
        },
        {
         "count": 5,
         "id": "2638671",
         "name": "Salford"
        },
        {
         "count": 5,
         "id": "2641181",
         "name": "Norwich"
        },
        {
         "count": 5,
         "id": "2641674",
         "name": "Newcastle under Lyme"
        },
        {
         "count": 5,
         "id": "2642465",
         "name": "Milton Keynes"
        },
        {
         "count": 5,
         "id": "2658120",
         "name": "Villigen"
        },
        {
         "count": 5,
         "id": "2661881",
         "name": "Aarau"
        },
        {
         "count": 5,
         "id": "2692969",
         "name": "Malmö"
        },
        {
         "count": 5,
         "id": "2756253",
         "name": "Eindhoven"
        },
        {
         "count": 5,
         "id": "2766824",
         "name": "Salzburg"
        },
        {
         "count": 5,
         "id": "2792073",
         "name": "Louvain-la-Neuve"
        },
        {
         "count": 5,
         "id": "2892518",
         "name": "Kassel"
        },
        {
         "count": 5,
         "id": "2911522",
         "name": "Halle (Saale)"
        },
        {
         "count": 5,
         "id": "292968",
         "name": "Abu Dhabi"
        },
        {
         "count": 5,
         "id": "2938913",
         "name": "Darmstadt"
        },
        {
         "count": 5,
         "id": "2944388",
         "name": "Bremen"
        },
        {
         "count": 5,
         "id": "2945024",
         "name": "Braunschweig"
        },
        {
         "count": 5,
         "id": "2965140",
         "name": "Cork"
        },
        {
         "count": 5,
         "id": "2968705",
         "name": "Villejuif"
        },
        {
         "count": 5,
         "id": "3029241",
         "name": "Caen"
        },
        {
         "count": 5,
         "id": "3069011",
         "name": "Olomouc"
        },
        {
         "count": 5,
         "id": "3083829",
         "name": "Szczecin"
        },
        {
         "count": 5,
         "id": "3109718",
         "name": "Santander"
        },
        {
         "count": 5,
         "id": "3110044",
         "name": "Donostia / San Sebastián"
        },
        {
         "count": 5,
         "id": "3164527",
         "name": "Verona"
        },
        {
         "count": 5,
         "id": "3166548",
         "name": "Siena"
        },
        {
         "count": 5,
         "id": "3181554",
         "name": "Brescia"
        },
        {
         "count": 5,
         "id": "3183089",
         "name": "Ancona"
        },
        {
         "count": 5,
         "id": "360761",
         "name": "Al Manşūrah"
        },
        {
         "count": 5,
         "id": "4156404",
         "name": "Gainesville"
        },
        {
         "count": 5,
         "id": "4464368",
         "name": "Durham"
        },
        {
         "count": 5,
         "id": "4509177",
         "name": "Columbus"
        },
        {
         "count": 5,
         "id": "4726206",
         "name": "San Antonio"
        },
        {
         "count": 5,
         "id": "4762894",
         "name": "Hampton"
        },
        {
         "count": 5,
         "id": "4929023",
         "name": "Amherst Center"
        },
        {
         "count": 5,
         "id": "5150529",
         "name": "Cleveland"
        },
        {
         "count": 5,
         "id": "5261457",
         "name": "Madison"
        },
        {
         "count": 5,
         "id": "5341704",
         "name": "Davis"
        },
        {
         "count": 5,
         "id": "5419384",
         "name": "Denver"
        },
        {
         "count": 5,
         "id": "551487",
         "name": "Kazan"
        },
        {
         "count": 5,
         "id": "5809844",
         "name": "Seattle"
        },
        {
         "count": 5,
         "id": "703448",
         "name": "Kyiv"
        },
        {
         "count": 5,
         "id": "745044",
         "name": "İstanbul"
        },
        {
         "count": 4,
         "id": "1502026",
         "name": "Krasnoyarsk"
        },
        {
         "count": 4,
         "id": "1790630",
         "name": "Xi’an"
        },
        {
         "count": 4,
         "id": "1793511",
         "name": "Taiyuan"
        },
        {
         "count": 4,
         "id": "1814906",
         "name": "Chongqing"
        },
        {
         "count": 4,
         "id": "2172517",
         "name": "Canberra"
        },
        {
         "count": 4,
         "id": "232422",
         "name": "Kampala"
        },
        {
         "count": 4,
         "id": "2464470",
         "name": "Tunis"
        },
        {
         "count": 4,
         "id": "2511174",
         "name": "Santa Cruz de Tenerife"
        },
        {
         "count": 4,
         "id": "2515270",
         "name": "Las Palmas de Gran Canaria"
        },
        {
         "count": 4,
         "id": "2516395",
         "name": "Jaén"
        },
        {
         "count": 4,
         "id": "2520600",
         "name": "Cadiz"
        },
        {
         "count": 4,
         "id": "2521420",
         "name": "Badajoz"
        },
        {
         "count": 4,
         "id": "2521886",
         "name": "Almería"
        },
        {
         "count": 4,
         "id": "2522258",
         "name": "Albacete"
        },
        {
         "count": 4,
         "id": "254352",
         "name": "Rethymno"
        },
        {
         "count": 4,
         "id": "255274",
         "name": "Piraeus"
        },
        {
         "count": 4,
         "id": "2620431",
         "name": "Herlev"
        },
        {
         "count": 4,
         "id": "2636531",
         "name": "Sunderland"
        },
        {
         "count": 4,
         "id": "2640354",
         "name": "Peterborough"
        },
        {
         "count": 4,
         "id": "2641430",
         "name": "Northampton"
        },
        {
         "count": 4,
         "id": "2657832",
         "name": "Aberdeen"
        },
        {
         "count": 4,
         "id": "2742611",
         "name": "Aveiro"
        },
        {
         "count": 4,
         "id": "2772400",
         "name": "Linz"
        },
        {
         "count": 4,
         "id": "2856883",
         "name": "Osnabrück"
        },
        {
         "count": 4,
         "id": "2940132",
         "name": "Chemnitz"
        },
        {
         "count": 4,
         "id": "294801",
         "name": "Haifa"
        },
        {
         "count": 4,
         "id": "2989204",
         "name": "Orsay"
        },
        {
         "count": 4,
         "id": "2990440",
         "name": "Nice"
        },
        {
         "count": 4,
         "id": "3021372",
         "name": "Dijon"
        },
        {
         "count": 4,
         "id": "3060972",
         "name": "Bratislava"
        },
        {
         "count": 4,
         "id": "3104324",
         "name": "Zaragoza"
        },
        {
         "count": 4,
         "id": "3105976",
         "name": "Vigo"
        },
        {
         "count": 4,
         "id": "311046",
         "name": "İzmir"
        },
        {
         "count": 4,
         "id": "3114472",
         "name": "Pamplona"
        },
        {
         "count": 4,
         "id": "3130616",
         "name": "Alcalá de Henares"
        },
        {
         "count": 4,
         "id": "3167096",
         "name": "Sassari"
        },
        {
         "count": 4,
         "id": "3168837",
         "name": "Rozzano"
        },
        {
         "count": 4,
         "id": "3175121",
         "name": "L'Aquila"
        },
        {
         "count": 4,
         "id": "3175406",
         "name": "Ispra"
        },
        {
         "count": 4,
         "id": "3194360",
         "name": "Novi Sad"
        },
        {
         "count": 4,
         "id": "323786",
         "name": "Ankara"
        },
        {
         "count": 4,
         "id": "3361025",
         "name": "Stellenbosch"
        },
        {
         "count": 4,
         "id": "3936456",
         "name": "Lima"
        },
        {
         "count": 4,
         "id": "4274277",
         "name": "Lawrence"
        },
        {
         "count": 4,
         "id": "4367175",
         "name": "Rockville"
        },
        {
         "count": 4,
         "id": "4407066",
         "name": "St. Louis"
        },
        {
         "count": 4,
         "id": "4460162",
         "name": "Chapel Hill"
        },
        {
         "count": 4,
         "id": "4684888",
         "name": "Dallas"
        },
        {
         "count": 4,
         "id": "4839366",
         "name": "New Haven"
        },
        {
         "count": 4,
         "id": "4928096",
         "name": "West Lafayette"
        },
        {
         "count": 4,
         "id": "4956184",
         "name": "Worcester"
        },
        {
         "count": 4,
         "id": "5391959",
         "name": "San Francisco"
        },
        {
         "count": 4,
         "id": "5913490",
         "name": "Calgary"
        },
        {
         "count": 4,
         "id": "5946768",
         "name": "Edmonton"
        },
        {
         "count": 4,
         "id": "5969782",
         "name": "Hamilton"
        },
        {
         "count": 4,
         "id": "6173331",
         "name": "Vancouver"
        },
        {
         "count": 4,
         "id": "6174041",
         "name": "Victoria"
        },
        {
         "count": 4,
         "id": "735640",
         "name": "Komotiní"
        },
        {
         "count": 4,
         "id": "776069",
         "name": "Białystok"
        },
        {
         "count": 4,
         "id": "964137",
         "name": "Pretoria"
        },
        {
         "count": 3,
         "id": "1172451",
         "name": "Lahore"
        },
        {
         "count": 3,
         "id": "1277333",
         "name": "Bengaluru"
        },
        {
         "count": 3,
         "id": "1489425",
         "name": "Tomsk"
        },
        {
         "count": 3,
         "id": "1508291",
         "name": "Chelyabinsk"
        },
        {
         "count": 3,
         "id": "1668341",
         "name": "Taipei"
        },
        {
         "count": 3,
         "id": "1735161",
         "name": "Kuala Lumpur"
        },
        {
         "count": 3,
         "id": "1784642",
         "name": "Zhenjiang"
        },
        {
         "count": 3,
         "id": "1808926",
         "name": "Hangzhou"
        },
        {
         "count": 3,
         "id": "1815577",
         "name": "Changsha"
        },
        {
         "count": 3,
         "id": "1835235",
         "name": "Daejeon"
        },
        {
         "count": 3,
         "id": "1857910",
         "name": "Kyoto"
        },
        {
         "count": 3,
         "id": "1863967",
         "name": "Fukuoka"
        },
        {
         "count": 3,
         "id": "2013348",
         "name": "Vladivostok"
        },
        {
         "count": 3,
         "id": "2034937",
         "name": "Shenyang"
        },
        {
         "count": 3,
         "id": "2037013",
         "name": "Harbin"
        },
        {
         "count": 3,
         "id": "2038180",
         "name": "Changchun"
        },
        {
         "count": 3,
         "id": "2190324",
         "name": "Hamilton"
        },
        {
         "count": 3,
         "id": "2191562",
         "name": "Dunedin"
        },
        {
         "count": 3,
         "id": "2306104",
         "name": "Accra"
        },
        {
         "count": 3,
         "id": "2467454",
         "name": "Sfax"
        },
        {
         "count": 3,
         "id": "2511330",
         "name": "San Juan de Alicante"
        },
        {
         "count": 3,
         "id": "2511401",
         "name": "La Laguna"
        },
        {
         "count": 3,
         "id": "2524907",
         "name": "Cosenza"
        },
        {
         "count": 3,
         "id": "2525059",
         "name": "Catanzaro"
        },
        {
         "count": 3,
         "id": "2525473",
         "name": "Cagliari"
        },
        {
         "count": 3,
         "id": "256866",
         "name": "Mytilene"
        },
        {
         "count": 3,
         "id": "2636389",
         "name": "Swindon"
        },
        {
         "count": 3,
         "id": "2646458",
         "name": "Huddersfield"
        },
        {
         "count": 3,
         "id": "2649052",
         "name": "Frimley"
        },
        {
         "count": 3,
         "id": "2651269",
         "name": "Didcot"
        },
        {
         "count": 3,
         "id": "2659811",
         "name": "Luzern"
        },
        {
         "count": 3,
         "id": "2660971",
         "name": "Dübendorf"
        },
        {
         "count": 3,
         "id": "2661496",
         "name": "Birmensdorf"
        },
        {
         "count": 3,
         "id": "2702979",
         "name": "Jönköping"
        },
        {
         "count": 3,
         "id": "2742032",
         "name": "Braga"
        },
        {
         "count": 3,
         "id": "2747373",
         "name": "The Hague"
        },
        {
         "count": 3,
         "id": "2751792",
         "name": "Leeuwarden"
        },
        {
         "count": 3,
         "id": "2796491",
         "name": "Hasselt"
        },
        {
         "count": 3,
         "id": "2857807",
         "name": "Offenbach"
        },
        {
         "count": 3,
         "id": "2873759",
         "name": "Marburg an der Lahn"
        },
        {
         "count": 3,
         "id": "2873891",
         "name": "Mannheim"
        },
        {
         "count": 3,
         "id": "2929670",
         "name": "Erfurt"
        },
        {
         "count": 3,
         "id": "2935517",
         "name": "Dortmund"
        },
        {
         "count": 3,
         "id": "293788",
         "name": "Ramat Gan"
        },
        {
         "count": 3,
         "id": "2949186",
         "name": "Bielefeld"
        },
        {
         "count": 3,
         "id": "2951825",
         "name": "Bayreuth"
        },
        {
         "count": 3,
         "id": "295530",
         "name": "Beersheba"
        },
        {
         "count": 3,
         "id": "2960316",
         "name": "Luxembourg"
        },
        {
         "count": 3,
         "id": "2969679",
         "name": "Versailles"
        },
        {
         "count": 3,
         "id": "2978317",
         "name": "Saint-Martin-d’Hères"
        },
        {
         "count": 3,
         "id": "2982652",
         "name": "Rouen"
        },
        {
         "count": 3,
         "id": "2990999",
         "name": "Nancy"
        },
        {
         "count": 3,
         "id": "2998286",
         "name": "Limoges"
        },
        {
         "count": 3,
         "id": "2998324",
         "name": "Lille"
        },
        {
         "count": 3,
         "id": "3012165",
         "name": "Jouy-en-Josas"
        },
        {
         "count": 3,
         "id": "3029931",
         "name": "Bron"
        },
        {
         "count": 3,
         "id": "3030300",
         "name": "Brest"
        },
        {
         "count": 3,
         "id": "3037854",
         "name": "Amiens"
        },
        {
         "count": 3,
         "id": "3042929",
         "name": "Veszprém"
        },
        {
         "count": 3,
         "id": "3068582",
         "name": "Pardubice"
        },
        {
         "count": 3,
         "id": "3068799",
         "name": "Ostrava"
        },
        {
         "count": 3,
         "id": "3147465",
         "name": "Lillestrøm"
        },
        {
         "count": 3,
         "id": "3162797",
         "name": "Ås"
        },
        {
         "count": 3,
         "id": "3164039",
         "name": "Viterbo"
        },
        {
         "count": 3,
         "id": "3164603",
         "name": "Venice"
        },
        {
         "count": 3,
         "id": "3168414",
         "name": "San Donato Milanese"
        },
        {
         "count": 3,
         "id": "3171457",
         "name": "Parma"
        },
        {
         "count": 3,
         "id": "3174953",
         "name": "Lecce"
        },
        {
         "count": 3,
         "id": "3178796",
         "name": "Chieti"
        },
        {
         "count": 3,
         "id": "3182635",
         "name": "Aviano"
        },
        {
         "count": 3,
         "id": "3190261",
         "name": "Split"
        },
        {
         "count": 3,
         "id": "3435910",
         "name": "Buenos Aires"
        },
        {
         "count": 3,
         "id": "3467865",
         "name": "Campinas"
        },
        {
         "count": 3,
         "id": "3688689",
         "name": "Bogotá"
        },
        {
         "count": 3,
         "id": "4151871",
         "name": "Coral Gables"
        },
        {
         "count": 3,
         "id": "4174757",
         "name": "Tampa"
        },
        {
         "count": 3,
         "id": "4351977",
         "name": "College Park"
        },
        {
         "count": 3,
         "id": "4447161",
         "name": "Starkville"
        },
        {
         "count": 3,
         "id": "4508722",
         "name": "Cincinnati"
        },
        {
         "count": 3,
         "id": "4671654",
         "name": "Austin"
        },
        {
         "count": 3,
         "id": "4862034",
         "name": "Iowa City"
        },
        {
         "count": 3,
         "id": "4891382",
         "name": "Evanston"
        },
        {
         "count": 3,
         "id": "4914570",
         "name": "Urbana"
        },
        {
         "count": 3,
         "id": "4991640",
         "name": "East Lansing"
        },
        {
         "count": 3,
         "id": "504042",
         "name": "Pushchino"
        },
        {
         "count": 3,
         "id": "5043473",
         "name": "Rochester"
        },
        {
         "count": 3,
         "id": "5087168",
         "name": "Hanover"
        },
        {
         "count": 3,
         "id": "5101798",
         "name": "Newark"
        },
        {
         "count": 3,
         "id": "511196",
         "name": "Perm"
        },
        {
         "count": 3,
         "id": "5454711",
         "name": "Albuquerque"
        },
        {
         "count": 3,
         "id": "5574991",
         "name": "Boulder"
        },
        {
         "count": 3,
         "id": "5577147",
         "name": "Fort Collins"
        },
        {
         "count": 3,
         "id": "588335",
         "name": "Tartu"
        },
        {
         "count": 3,
         "id": "604490",
         "name": "Luleå"
        },
        {
         "count": 3,
         "id": "6325494",
         "name": "Québec"
        },
        {
         "count": 3,
         "id": "632978",
         "name": "Vaasa"
        },
        {
         "count": 3,
         "id": "648900",
         "name": "Lappeenranta"
        },
        {
         "count": 3,
         "id": "655808",
         "name": "Joensuu"
        },
        {
         "count": 3,
         "id": "660158",
         "name": "Espoo"
        },
        {
         "count": 3,
         "id": "724443",
         "name": "Košice"
        },
        {
         "count": 2,
         "id": "107797",
         "name": "Dhahran"
        },
        {
         "count": 2,
         "id": "1176615",
         "name": "Islamabad"
        },
        {
         "count": 2,
         "id": "1179400",
         "name": "Faisalābād"
        },
        {
         "count": 2,
         "id": "1254163",
         "name": "Thiruvananthapuram"
        },
        {
         "count": 2,
         "id": "1264527",
         "name": "Chennai"
        },
        {
         "count": 2,
         "id": "1275339",
         "name": "Mumbai"
        },
        {
         "count": 2,
         "id": "1279233",
         "name": "Ahmedabad"
        },
        {
         "count": 2,
         "id": "128234",
         "name": "Kerman"
        },
        {
         "count": 2,
         "id": "146268",
         "name": "Nicosia"
        },
        {
         "count": 2,
         "id": "1496990",
         "name": "Novokuznetsk"
        },
        {
         "count": 2,
         "id": "1581130",
         "name": "Hanoi"
        },
        {
         "count": 2,
         "id": "1804651",
         "name": "Kunming"
        },
        {
         "count": 2,
         "id": "1805753",
         "name": "Jinan"
        },
        {
         "count": 2,
         "id": "1810821",
         "name": "Fuzhou"
        },
        {
         "count": 2,
         "id": "1815286",
         "name": "Chengdu"
        },
        {
         "count": 2,
         "id": "1894616",
         "name": "Okinawa"
        },
        {
         "count": 2,
         "id": "203112",
         "name": "Butare"
        },
        {
         "count": 2,
         "id": "2073124",
         "name": "Darwin"
        },
        {
         "count": 2,
         "id": "2151650",
         "name": "Richmond"
        },
        {
         "count": 2,
         "id": "2163355",
         "name": "Hobart"
        },
        {
         "count": 2,
         "id": "2179537",
         "name": "Wellington"
        },
        {
         "count": 2,
         "id": "2185018",
         "name": "Palmerston North"
        },
        {
         "count": 2,
         "id": "2188371",
         "name": "Lincoln"
        },
        {
         "count": 2,
         "id": "2193733",
         "name": "Auckland"
        },
        {
         "count": 2,
         "id": "2314302",
         "name": "Kinshasa"
        },
        {
         "count": 2,
         "id": "233508",
         "name": "Entebbe"
        },
        {
         "count": 2,
         "id": "2510409",
         "name": "Toledo"
        },
        {
         "count": 2,
         "id": "2519752",
         "name": "Castelló de la Plana"
        },
        {
         "count": 2,
         "id": "2561668",
         "name": "Agadir"
        },
        {
         "count": 2,
         "id": "256429",
         "name": "Níkaia"
        },
        {
         "count": 2,
         "id": "261745",
         "name": "Irákleion"
        },
        {
         "count": 2,
         "id": "2620320",
         "name": "Hillerød"
        },
        {
         "count": 2,
         "id": "2621942",
         "name": "Frederiksberg"
        },
        {
         "count": 2,
         "id": "2634894",
         "name": "Wales"
        },
        {
         "count": 2,
         "id": "2639928",
         "name": "Prescot"
        },
        {
         "count": 2,
         "id": "2640101",
         "name": "Poole"
        },
        {
         "count": 2,
         "id": "2640465",
         "name": "Penicuik"
        },
        {
         "count": 2,
         "id": "2642607",
         "name": "Middlesbrough"
        },
        {
         "count": 2,
         "id": "2643490",
         "name": "Lowestoft"
        },
        {
         "count": 2,
         "id": "2643741",
         "name": "City of London"
        },
        {
         "count": 2,
         "id": "2645460",
         "name": "Kings Langley"
        },
        {
         "count": 2,
         "id": "2646914",
         "name": "High Wycombe"
        },
        {
         "count": 2,
         "id": "2649660",
         "name": "Farnham"
        },
        {
         "count": 2,
         "id": "2651347",
         "name": "Derby"
        },
        {
         "count": 2,
         "id": "2652087",
         "name": "Cranfield"
        },
        {
         "count": 2,
         "id": "2652618",
         "name": "Colchester"
        },
        {
         "count": 2,
         "id": "2656397",
         "name": "Bangor"
        },
        {
         "count": 2,
         "id": "2657970",
         "name": "Winterthur"
        },
        {
         "count": 2,
         "id": "2658822",
         "name": "Sankt Gallen"
        },
        {
         "count": 2,
         "id": "2659836",
         "name": "Lugano"
        },
        {
         "count": 2,
         "id": "2661169",
         "name": "Chur"
        },
        {
         "count": 2,
         "id": "2675397",
         "name": "Solna"
        },
        {
         "count": 2,
         "id": "2686657",
         "name": "Örebro"
        },
        {
         "count": 2,
         "id": "2688368",
         "name": "Norrköping"
        },
        {
         "count": 2,
         "id": "2701680",
         "name": "Karlstad"
        },
        {
         "count": 2,
         "id": "2702261",
         "name": "Kalmar"
        },
        {
         "count": 2,
         "id": "2712414",
         "name": "Gävle"
        },
        {
         "count": 2,
         "id": "2732438",
         "name": "Vila Real"
        },
        {
         "count": 2,
         "id": "2737824",
         "name": "Matosinhos"
        },
        {
         "count": 2,
         "id": "2746331",
         "name": "Tiel"
        },
        {
         "count": 2,
         "id": "2750325",
         "name": "Nieuwegein"
        },
        {
         "count": 2,
         "id": "2757783",
         "name": "De Bilt"
        },
        {
         "count": 2,
         "id": "2759821",
         "name": "Amersfoort"
        },
        {
         "count": 2,
         "id": "276781",
         "name": "Beirut"
        },
        {
         "count": 2,
         "id": "2772649",
         "name": "Leoben"
        },
        {
         "count": 2,
         "id": "2772810",
         "name": "Laxenburg"
        },
        {
         "count": 2,
         "id": "2805753",
         "name": "Wuppertal"
        },
        {
         "count": 2,
         "id": "281184",
         "name": "Jerusalem"
        },
        {
         "count": 2,
         "id": "2826099",
         "name": "Straubing"
        },
        {
         "count": 2,
         "id": "2842647",
         "name": "Saarbrücken"
        },
        {
         "count": 2,
         "id": "2857458",
         "name": "Oldenburg"
        },
        {
         "count": 2,
         "id": "2875376",
         "name": "Ludwigshafen am Rhein"
        },
        {
         "count": 2,
         "id": "2875601",
         "name": "Lübeck"
        },
        {
         "count": 2,
         "id": "2922582",
         "name": "Garching bei München"
        },
        {
         "count": 2,
         "id": "2925034",
         "name": "Freising"
        },
        {
         "count": 2,
         "id": "292672",
         "name": "Sharjah"
        },
        {
         "count": 2,
         "id": "2928751",
         "name": "Esslingen"
        },
        {
         "count": 2,
         "id": "2954172",
         "name": "Augsburg"
        },
        {
         "count": 2,
         "id": "2965768",
         "name": "Carlow"
        },
        {
         "count": 2,
         "id": "2968275",
         "name": "Villetaneuse"
        },
        {
         "count": 2,
         "id": "2972191",
         "name": "Tours"
        },
        {
         "count": 2,
         "id": "2973495",
         "name": "Talence"
        },
        {
         "count": 2,
         "id": "2986495",
         "name": "Poitiers"
        },
        {
         "count": 2,
         "id": "2987314",
         "name": "Pierre-Bénite"
        },
        {
         "count": 2,
         "id": "2988758",
         "name": "Palaiseau"
        },
        {
         "count": 2,
         "id": "2992003",
         "name": "Mont-Saint-Aignan"
        },
        {
         "count": 2,
         "id": "3002650",
         "name": "Le Plessis-Robinson"
        },
        {
         "count": 2,
         "id": "3006787",
         "name": "La Rochelle"
        },
        {
         "count": 2,
         "id": "3012649",
         "name": "Issy-les-Moulineaux"
        },
        {
         "count": 2,
         "id": "3022530",
         "name": "Créteil"
        },
        {
         "count": 2,
         "id": "3027014",
         "name": "Champs-sur-Marne"
        },
        {
         "count": 2,
         "id": "3033123",
         "name": "Besançon"
        },
        {
         "count": 2,
         "id": "3033791",
         "name": "Belfort"
        },
        {
         "count": 2,
         "id": "3061370",
         "name": "Zlín"
        },
        {
         "count": 2,
         "id": "3066885",
         "name": "Řež"
        },
        {
         "count": 2,
         "id": "3077916",
         "name": "České Budějovice"
        },
        {
         "count": 2,
         "id": "3083271",
         "name": "Toruń"
        },
        {
         "count": 2,
         "id": "3100946",
         "name": "Częstochowa"
        },
        {
         "count": 2,
         "id": "3105247",
         "name": "Villanueva de la Cañada"
        },
        {
         "count": 2,
         "id": "3108288",
         "name": "Tarragona"
        },
        {
         "count": 2,
         "id": "3118150",
         "name": "Logroño"
        },
        {
         "count": 2,
         "id": "3120619",
         "name": "L'Hospitalet de Llobregat"
        },
        {
         "count": 2,
         "id": "3123921",
         "name": "Derio"
        },
        {
         "count": 2,
         "id": "3160911",
         "name": "Bø"
        },
        {
         "count": 2,
         "id": "3164419",
         "name": "Vicenza"
        },
        {
         "count": 2,
         "id": "3165072",
         "name": "Udine"
        },
        {
         "count": 2,
         "id": "3165185",
         "name": "Trieste"
        },
        {
         "count": 2,
         "id": "3165243",
         "name": "Trento"
        },
        {
         "count": 2,
         "id": "3172338",
         "name": "Negrar"
        },
        {
         "count": 2,
         "id": "3172377",
         "name": "Narni"
        },
        {
         "count": 2,
         "id": "3174530",
         "name": "Lucca"
        },
        {
         "count": 2,
         "id": "3176885",
         "name": "Foggia"
        },
        {
         "count": 2,
         "id": "3176949",
         "name": "Fisciano"
        },
        {
         "count": 2,
         "id": "3177090",
         "name": "Ferrara"
        },
        {
         "count": 2,
         "id": "3182179",
         "name": "Benevento"
        },
        {
         "count": 2,
         "id": "3183299",
         "name": "Alessandria"
        },
        {
         "count": 2,
         "id": "3193935",
         "name": "Osijek"
        },
        {
         "count": 2,
         "id": "3405870",
         "name": "Belém"
        },
        {
         "count": 2,
         "id": "3441575",
         "name": "Montevideo"
        },
        {
         "count": 2,
         "id": "3450554",
         "name": "Salvador"
        },
        {
         "count": 2,
         "id": "3451190",
         "name": "Rio de Janeiro"
        },
        {
         "count": 2,
         "id": "3456283",
         "name": "Niterói"
        },
        {
         "count": 2,
         "id": "3459505",
         "name": "Juiz de Fora"
        },
        {
         "count": 2,
         "id": "3464975",
         "name": "Curitiba"
        },
        {
         "count": 2,
         "id": "3469058",
         "name": "Brasília"
        },
        {
         "count": 2,
         "id": "3470127",
         "name": "Belo Horizonte"
        },
        {
         "count": 2,
         "id": "3529947",
         "name": "Cuernavaca"
        },
        {
         "count": 2,
         "id": "361058",
         "name": "Alexandria"
        },
        {
         "count": 2,
         "id": "4143861",
         "name": "Newark"
        },
        {
         "count": 2,
         "id": "4145381",
         "name": "Wilmington"
        },
        {
         "count": 2,
         "id": "4167147",
         "name": "Orlando"
        },
        {
         "count": 2,
         "id": "456172",
         "name": "Riga"
        },
        {
         "count": 2,
         "id": "4744326",
         "name": "Amherst"
        },
        {
         "count": 2,
         "id": "4834272",
         "name": "Farmington"
        },
        {
         "count": 2,
         "id": "492396",
         "name": "Skolkovo"
        },
        {
         "count": 2,
         "id": "4929022",
         "name": "Amherst"
        },
        {
         "count": 2,
         "id": "4942618",
         "name": "Lowell"
        },
        {
         "count": 2,
         "id": "498677",
         "name": "Saratov"
        },
        {
         "count": 2,
         "id": "4990729",
         "name": "Detroit"
        },
        {
         "count": 2,
         "id": "5059163",
         "name": "Fargo"
        },
        {
         "count": 2,
         "id": "5074472",
         "name": "Omaha"
        },
        {
         "count": 2,
         "id": "5085618",
         "name": "Durham"
        },
        {
         "count": 2,
         "id": "5107129",
         "name": "Amherst"
        },
        {
         "count": 2,
         "id": "5122432",
         "name": "Ithaca"
        },
        {
         "count": 2,
         "id": "5145695",
         "name": "Amherst"
        },
        {
         "count": 2,
         "id": "5197842",
         "name": "Lewisburg"
        },
        {
         "count": 2,
         "id": "520555",
         "name": "Nizhniy Novgorod"
        },
        {
         "count": 2,
         "id": "5213681",
         "name": "State College"
        },
        {
         "count": 2,
         "id": "5224151",
         "name": "Providence"
        },
        {
         "count": 2,
         "id": "524305",
         "name": "Murmansk"
        },
        {
         "count": 2,
         "id": "5243883",
         "name": "Amherst"
        },
        {
         "count": 2,
         "id": "532288",
         "name": "Magnitogorsk"
        },
        {
         "count": 2,
         "id": "5363943",
         "name": "La Jolla"
        },
        {
         "count": 2,
         "id": "5380748",
         "name": "Palo Alto"
        },
        {
         "count": 2,
         "id": "5393015",
         "name": "Santa Clara"
        },
        {
         "count": 2,
         "id": "5398563",
         "name": "Stanford"
        },
        {
         "count": 2,
         "id": "5476825",
         "name": "Los Alamos"
        },
        {
         "count": 2,
         "id": "5720727",
         "name": "Corvallis"
        },
        {
         "count": 2,
         "id": "5746545",
         "name": "Portland"
        },
        {
         "count": 2,
         "id": "5780993",
         "name": "Salt Lake City"
        },
        {
         "count": 2,
         "id": "5807540",
         "name": "Pullman"
        },
        {
         "count": 2,
         "id": "588409",
         "name": "Tallinn"
        },
        {
         "count": 2,
         "id": "5911606",
         "name": "Burnaby"
        },
        {
         "count": 2,
         "id": "6058560",
         "name": "London"
        },
        {
         "count": 2,
         "id": "6324729",
         "name": "Halifax"
        },
        {
         "count": 2,
         "id": "6696918",
         "name": "Taoyuan City"
        },
        {
         "count": 2,
         "id": "681290",
         "name": "Cluj-Napoca"
        },
        {
         "count": 2,
         "id": "702550",
         "name": "Lviv"
        },
        {
         "count": 2,
         "id": "715429",
         "name": "Szeged"
        },
        {
         "count": 2,
         "id": "7302802",
         "name": "Rondebosch"
        },
        {
         "count": 2,
         "id": "734080",
         "name": "Thérmi"
        },
        {
         "count": 2,
         "id": "759734",
         "name": "Rzeszów"
        },
        {
         "count": 2,
         "id": "964349",
         "name": "Potchefstroom"
        },
        {
         "count": 1,
         "id": "1000501",
         "name": "Grahamstown"
        },
        {
         "count": 1,
         "id": "1007311",
         "name": "Durban"
        },
        {
         "count": 1,
         "id": "1040652",
         "name": "Maputo"
        },
        {
         "count": 1,
         "id": "105343",
         "name": "Jeddah"
        },
        {
         "count": 1,
         "id": "1070940",
         "name": "Antananarivo"
        },
        {
         "count": 1,
         "id": "109223",
         "name": "Medina"
        },
        {
         "count": 1,
         "id": "109323",
         "name": "Khobar"
        },
        {
         "count": 1,
         "id": "1105776",
         "name": "Midrand"
        },
        {
         "count": 1,
         "id": "1113217",
         "name": "Zābol"
        },
        {
         "count": 1,
         "id": "116402",
         "name": "Semnān"
        },
        {
         "count": 1,
         "id": "1167528",
         "name": "Quetta"
        },
        {
         "count": 1,
         "id": "1174872",
         "name": "Karachi"
        },
        {
         "count": 1,
         "id": "1183883",
         "name": "Bahāwalnagar"
        },
        {
         "count": 1,
         "id": "1185186",
         "name": "Comilla"
        },
        {
         "count": 1,
         "id": "1185241",
         "name": "Dhaka"
        },
        {
         "count": 1,
         "id": "1205733",
         "name": "Chittagong"
        },
        {
         "count": 1,
         "id": "1241622",
         "name": "Kandy"
        },
        {
         "count": 1,
         "id": "124665",
         "name": "Mashhad"
        },
        {
         "count": 1,
         "id": "1251081",
         "name": "Anuradhapura"
        },
        {
         "count": 1,
         "id": "1255349",
         "name": "Surendranagar"
        },
        {
         "count": 1,
         "id": "1258044",
         "name": "Roorkee"
        },
        {
         "count": 1,
         "id": "1258980",
         "name": "Raipur"
        },
        {
         "count": 1,
         "id": "1261731",
         "name": "Nashik"
        },
        {
         "count": 1,
         "id": "1264728",
         "name": "Ludhiāna"
        },
        {
         "count": 1,
         "id": "1264733",
         "name": "Lucknow"
        },
        {
         "count": 1,
         "id": "1266976",
         "name": "Kharagpur"
        },
        {
         "count": 1,
         "id": "1267885",
         "name": "Kāraikkudi"
        },
        {
         "count": 1,
         "id": "1267995",
         "name": "Kanpur"
        },
        {
         "count": 1,
         "id": "1268820",
         "name": "Jorhāt"
        },
        {
         "count": 1,
         "id": "1269655",
         "name": "Itānagar"
        },
        {
         "count": 1,
         "id": "1273874",
         "name": "Cochin"
        },
        {
         "count": 1,
         "id": "1274746",
         "name": "Chandigarh"
        },
        {
         "count": 1,
         "id": "1275817",
         "name": "Bhubaneshwar"
        },
        {
         "count": 1,
         "id": "1279017",
         "name": "Alīgarh"
        },
        {
         "count": 1,
         "id": "1279945",
         "name": "Jiuquan"
        },
        {
         "count": 1,
         "id": "1283240",
         "name": "Kathmandu"
        },
        {
         "count": 1,
         "id": "128747",
         "name": "Karaj"
        },
        {
         "count": 1,
         "id": "140380",
         "name": "Bojnūrd"
        },
        {
         "count": 1,
         "id": "140463",
         "name": "Bīrjand"
        },
        {
         "count": 1,
         "id": "141681",
         "name": "Bandar Abbas"
        },
        {
         "count": 1,
         "id": "146384",
         "name": "Limassol"
        },
        {
         "count": 1,
         "id": "1488754",
         "name": "Tyumen"
        },
        {
         "count": 1,
         "id": "1496153",
         "name": "Omsk"
        },
        {
         "count": 1,
         "id": "1505074",
         "name": "Kalachinsk"
        },
        {
         "count": 1,
         "id": "1510469",
         "name": "Belovo"
        },
        {
         "count": 1,
         "id": "153209",
         "name": "Moshi"
        },
        {
         "count": 1,
         "id": "1566083",
         "name": "Ho Chi Minh City"
        },
        {
         "count": 1,
         "id": "160263",
         "name": "Dar es Salaam"
        },
        {
         "count": 1,
         "id": "1642911",
         "name": "Jakarta"
        },
        {
         "count": 1,
         "id": "1667905",
         "name": "Taoyuan"
        },
        {
         "count": 1,
         "id": "1668355",
         "name": "Tainan"
        },
        {
         "count": 1,
         "id": "1668399",
         "name": "Taichung"
        },
        {
         "count": 1,
         "id": "1673820",
         "name": "Kaohsiung"
        },
        {
         "count": 1,
         "id": "1675151",
         "name": "Hsinchu"
        },
        {
         "count": 1,
         "id": "1678836",
         "name": "Jiayi Shi"
        },
        {
         "count": 1,
         "id": "1701668",
         "name": "Manila"
        },
        {
         "count": 1,
         "id": "1735022",
         "name": "Temerluh"
        },
        {
         "count": 1,
         "id": "1735106",
         "name": "George Town"
        },
        {
         "count": 1,
         "id": "1738050",
         "name": "Miri"
        },
        {
         "count": 1,
         "id": "1784658",
         "name": "Zhengzhou"
        },
        {
         "count": 1,
         "id": "1784853",
         "name": "Zhaoqing"
        },
        {
         "count": 1,
         "id": "1784990",
         "name": "Zhanjiang"
        },
        {
         "count": 1,
         "id": "1787458",
         "name": "Yangling"
        },
        {
         "count": 1,
         "id": "1793743",
         "name": "Suzhou"
        },
        {
         "count": 1,
         "id": "1795565",
         "name": "Shenzhen"
        },
        {
         "count": 1,
         "id": "1797132",
         "name": "Rizhao"
        },
        {
         "count": 1,
         "id": "1797318",
         "name": "Qujing"
        },
        {
         "count": 1,
         "id": "1799397",
         "name": "Ningbo"
        },
        {
         "count": 1,
         "id": "1803245",
         "name": "Lishui"
        },
        {
         "count": 1,
         "id": "1804879",
         "name": "Kaifeng"
        },
        {
         "count": 1,
         "id": "1809461",
         "name": "Guiyang"
        },
        {
         "count": 1,
         "id": "1811103",
         "name": "Foshan"
        },
        {
         "count": 1,
         "id": "1814087",
         "name": "Dalian"
        },
        {
         "count": 1,
         "id": "1818920",
         "name": "Sha Tin"
        },
        {
         "count": 1,
         "id": "1821306",
         "name": "Phnom Penh"
        },
        {
         "count": 1,
         "id": "1835553",
         "name": "Suwon"
        },
        {
         "count": 1,
         "id": "1843564",
         "name": "Incheon"
        },
        {
         "count": 1,
         "id": "1848689",
         "name": "Yamaguchi"
        },
        {
         "count": 1,
         "id": "1851717",
         "name": "Shizuoka"
        },
        {
         "count": 1,
         "id": "1853909",
         "name": "Osaka"
        },
        {
         "count": 1,
         "id": "1854383",
         "name": "Okayama"
        },
        {
         "count": 1,
         "id": "1855431",
         "name": "Niigata"
        },
        {
         "count": 1,
         "id": "1856057",
         "name": "Nagoya"
        },
        {
         "count": 1,
         "id": "1857519",
         "name": "Matsumoto"
        },
        {
         "count": 1,
         "id": "1860243",
         "name": "Kanazawa"
        },
        {
         "count": 1,
         "id": "1861749",
         "name": "Ikoma"
        },
        {
         "count": 1,
         "id": "1863641",
         "name": "Gifu-shi"
        },
        {
         "count": 1,
         "id": "1897000",
         "name": "Seongnam-si"
        },
        {
         "count": 1,
         "id": "2013159",
         "name": "Yakutsk"
        },
        {
         "count": 1,
         "id": "2019309",
         "name": "Neryungri"
        },
        {
         "count": 1,
         "id": "202061",
         "name": "Kigali"
        },
        {
         "count": 1,
         "id": "2021851",
         "name": "Komsomolsk-on-Amur"
        },
        {
         "count": 1,
         "id": "2023469",
         "name": "Irkutsk"
        },
        {
         "count": 1,
         "id": "2026609",
         "name": "Blagoveshchensk"
        },
        {
         "count": 1,
         "id": "2036502",
         "name": "Jilin"
        },
        {
         "count": 1,
         "id": "2071223",
         "name": "Fremantle"
        },
        {
         "count": 1,
         "id": "2110257",
         "name": "Tarawa"
        },
        {
         "count": 1,
         "id": "2110556",
         "name": "Yamagata"
        },
        {
         "count": 1,
         "id": "2113015",
         "name": "Chiba"
        },
        {
         "count": 1,
         "id": "2130629",
         "name": "Asahikawa"
        },
        {
         "count": 1,
         "id": "2155472",
         "name": "Newcastle"
        },
        {
         "count": 1,
         "id": "2165798",
         "name": "Geelong"
        },
        {
         "count": 1,
         "id": "2169378",
         "name": "Darlinghurst"
        },
        {
         "count": 1,
         "id": "2171707",
         "name": "Chatswood"
        },
        {
         "count": 1,
         "id": "2176373",
         "name": "Belconnen"
        },
        {
         "count": 1,
         "id": "2177671",
         "name": "Armidale"
        },
        {
         "count": 1,
         "id": "2188922",
         "name": "Kelburn"
        },
        {
         "count": 1,
         "id": "2220957",
         "name": "Yaoundé"
        },
        {
         "count": 1,
         "id": "2232444",
         "name": "Dschang"
        },
        {
         "count": 1,
         "id": "2253354",
         "name": "Dakar"
        },
        {
         "count": 1,
         "id": "2262644",
         "name": "Tomar"
        },
        {
         "count": 1,
         "id": "2267095",
         "name": "Leiria"
        },
        {
         "count": 1,
         "id": "2267827",
         "name": "Funchal"
        },
        {
         "count": 1,
         "id": "2268436",
         "name": "Estoril"
        },
        {
         "count": 1,
         "id": "2270229",
         "name": "Caparica"
        },
        {
         "count": 1,
         "id": "228853",
         "name": "Mukono"
        },
        {
         "count": 1,
         "id": "2298890",
         "name": "Kumasi"
        },
        {
         "count": 1,
         "id": "2353151",
         "name": "Aba"
        },
        {
         "count": 1,
         "id": "2357048",
         "name": "Ouagadougou"
        },
        {
         "count": 1,
         "id": "2394819",
         "name": "Cotonou"
        },
        {
         "count": 1,
         "id": "2409306",
         "name": "Freetown"
        },
        {
         "count": 1,
         "id": "2464915",
         "name": "Sousse"
        },
        {
         "count": 1,
         "id": "2473449",
         "name": "Kairouan"
        },
        {
         "count": 1,
         "id": "2473457",
         "name": "Kasserine"
        },
        {
         "count": 1,
         "id": "2473493",
         "name": "Monastir"
        },
        {
         "count": 1,
         "id": "2481700",
         "name": "Sétif"
        },
        {
         "count": 1,
         "id": "2496049",
         "name": "Ghardaïa"
        },
        {
         "count": 1,
         "id": "250441",
         "name": "Amman"
        },
        {
         "count": 1,
         "id": "2505329",
         "name": "Bejaïa"
        },
        {
         "count": 1,
         "id": "2507480",
         "name": "Algiers"
        },
        {
         "count": 1,
         "id": "2510940",
         "name": "Serra"
        },
        {
         "count": 1,
         "id": "2516548",
         "name": "Huelva"
        },
        {
         "count": 1,
         "id": "2518494",
         "name": "El Ejido"
        },
        {
         "count": 1,
         "id": "2520611",
         "name": "Cáceres"
        },
        {
         "count": 1,
         "id": "2522152",
         "name": "Alcantarilla"
        },
        {
         "count": 1,
         "id": "2522960",
         "name": "Termini Imerese"
        },
        {
         "count": 1,
         "id": "2524084",
         "name": "Monserrato"
        },
        {
         "count": 1,
         "id": "2524819",
         "name": "Enna"
        },
        {
         "count": 1,
         "id": "2525790",
         "name": "Acireale"
        },
        {
         "count": 1,
         "id": "252601",
         "name": "Trípoli"
        },
        {
         "count": 1,
         "id": "2538475",
         "name": "Rabat"
        },
        {
         "count": 1,
         "id": "2540483",
         "name": "Oujda-Angad"
        },
        {
         "count": 1,
         "id": "254505",
         "name": "Psychikó"
        },
        {
         "count": 1,
         "id": "2612045",
         "name": "Svendborg"
        },
        {
         "count": 1,
         "id": "261779",
         "name": "Ioánnina"
        },
        {
         "count": 1,
         "id": "2619528",
         "name": "Hvidovre"
        },
        {
         "count": 1,
         "id": "2620030",
         "name": "Holte"
        },
        {
         "count": 1,
         "id": "2620147",
         "name": "Holbæk"
        },
        {
         "count": 1,
         "id": "2621945",
         "name": "Frederiksberg"
        },
        {
         "count": 1,
         "id": "2623188",
         "name": "Charlottenlund"
        },
        {
         "count": 1,
         "id": "2624341",
         "name": "Ballerup"
        },
        {
         "count": 1,
         "id": "2633563",
         "name": "Worcester"
        },
        {
         "count": 1,
         "id": "2633691",
         "name": "Wolverhampton"
        },
        {
         "count": 1,
         "id": "2633948",
         "name": "Wigan"
        },
        {
         "count": 1,
         "id": "2634143",
         "name": "Whiston"
        },
        {
         "count": 1,
         "id": "2634204",
         "name": "Weybridge"
        },
        {
         "count": 1,
         "id": "2634553",
         "name": "Welwyn"
        },
        {
         "count": 1,
         "id": "2634725",
         "name": "Warwick"
        },
        {
         "count": 1,
         "id": "2634910",
         "name": "Wakefield"
        },
        {
         "count": 1,
         "id": "2635412",
         "name": "Truro"
        },
        {
         "count": 1,
         "id": "2636177",
         "name": "Taunton"
        },
        {
         "count": 1,
         "id": "2636841",
         "name": "Stoke-on-Trent"
        },
        {
         "count": 1,
         "id": "2636882",
         "name": "Stockport"
        },
        {
         "count": 1,
         "id": "2638867",
         "name": "St Albans"
        },
        {
         "count": 1,
         "id": "2640413",
         "name": "Penryn"
        },
        {
         "count": 1,
         "id": "2640496",
         "name": "Penarth"
        },
        {
         "count": 1,
         "id": "2640677",
         "name": "Paisley"
        },
        {
         "count": 1,
         "id": "2640908",
         "name": "Ormskirk"
        },
        {
         "count": 1,
         "id": "2641616",
         "name": "Newmarket"
        },
        {
         "count": 1,
         "id": "2642204",
         "name": "Moreton"
        },
        {
         "count": 1,
         "id": "2643010",
         "name": "Marlborough"
        },
        {
         "count": 1,
         "id": "2643318",
         "name": "Lydney"
        },
        {
         "count": 1,
         "id": "2643339",
         "name": "Luton"
        },
        {
         "count": 1,
         "id": "264445",
         "name": "Asprópyrgos"
        },
        {
         "count": 1,
         "id": "2644531",
         "name": "Lichfield"
        },
        {
         "count": 1,
         "id": "2644795",
         "name": "Law"
        },
        {
         "count": 1,
         "id": "2646057",
         "name": "Ipswich"
        },
        {
         "count": 1,
         "id": "2647074",
         "name": "Hereford"
        },
        {
         "count": 1,
         "id": "2647451",
         "name": "Harpenden"
        },
        {
         "count": 1,
         "id": "2649833",
         "name": "Evesham"
        },
        {
         "count": 1,
         "id": "2650188",
         "name": "Egham"
        },
        {
         "count": 1,
         "id": "2650278",
         "name": "Eccles"
        },
        {
         "count": 1,
         "id": "2650346",
         "name": "Retford"
        },
        {
         "count": 1,
         "id": "2651095",
         "name": "Dorking"
        },
        {
         "count": 1,
         "id": "2651587",
         "name": "Dalkeith"
        },
        {
         "count": 1,
         "id": "2652053",
         "name": "Crawley"
        },
        {
         "count": 1,
         "id": "2653228",
         "name": "Chester"
        },
        {
         "count": 1,
         "id": "2653261",
         "name": "Cheltenham"
        },
        {
         "count": 1,
         "id": "2653646",
         "name": "Carshalton"
        },
        {
         "count": 1,
         "id": "2654200",
         "name": "Burton upon Trent"
        },
        {
         "count": 1,
         "id": "2654927",
         "name": "Bramhall"
        },
        {
         "count": 1,
         "id": "2654993",
         "name": "Bradford"
        },
        {
         "count": 1,
         "id": "2655046",
         "name": "Box"
        },
        {
         "count": 1,
         "id": "2655095",
         "name": "Bournemouth"
        },
        {
         "count": 1,
         "id": "2655237",
         "name": "Bolton"
        },
        {
         "count": 1,
         "id": "2655459",
         "name": "Blackpool"
        },
        {
         "count": 1,
         "id": "2656192",
         "name": "Basingstoke"
        },
        {
         "count": 1,
         "id": "2656955",
         "name": "Ashford"
        },
        {
         "count": 1,
         "id": "2657676",
         "name": "Addlestone"
        },
        {
         "count": 1,
         "id": "2657780",
         "name": "Abingdon"
        },
        {
         "count": 1,
         "id": "2657782",
         "name": "Aberystwyth"
        },
        {
         "count": 1,
         "id": "2658060",
         "name": "Wallisellen"
        },
        {
         "count": 1,
         "id": "2658377",
         "name": "Thun"
        },
        {
         "count": 1,
         "id": "2658862",
         "name": "Saint-Prex"
        },
        {
         "count": 1,
         "id": "2658919",
         "name": "Rüschlikon"
        },
        {
         "count": 1,
         "id": "2659127",
         "name": "Pully"
        },
        {
         "count": 1,
         "id": "2659422",
         "name": "Nyon"
        },
        {
         "count": 1,
         "id": "2659436",
         "name": "Nottwil"
        },
        {
         "count": 1,
         "id": "2659496",
         "name": "Neuchâtel"
        },
        {
         "count": 1,
         "id": "2660432",
         "name": "Güttingen"
        },
        {
         "count": 1,
         "id": "2660716",
         "name": "Frick"
        },
        {
         "count": 1,
         "id": "2661035",
         "name": "Delémont"
        },
        {
         "count": 1,
         "id": "2661039",
         "name": "Davos"
        },
        {
         "count": 1,
         "id": "2661191",
         "name": "Chêne-Bourg"
        },
        {
         "count": 1,
         "id": "2661498",
         "name": "Bioggio"
        },
        {
         "count": 1,
         "id": "2661567",
         "name": "Bellinzona"
        },
        {
         "count": 1,
         "id": "2676176",
         "name": "Södertälje"
        },
        {
         "count": 1,
         "id": "2677234",
         "name": "Skövde"
        },
        {
         "count": 1,
         "id": "2701713",
         "name": "Karlskrona"
        },
        {
         "count": 1,
         "id": "2715459",
         "name": "Falun"
        },
        {
         "count": 1,
         "id": "2720501",
         "name": "Borås"
        },
        {
         "count": 1,
         "id": "2732265",
         "name": "Viseu"
        },
        {
         "count": 1,
         "id": "2742027",
         "name": "Bragança"
        },
        {
         "count": 1,
         "id": "2744248",
         "name": "Woerden"
        },
        {
         "count": 1,
         "id": "2745706",
         "name": "Veldhoven"
        },
        {
         "count": 1,
         "id": "2746420",
         "name": "Terneuzen"
        },
        {
         "count": 1,
         "id": "2748631",
         "name": "Petten"
        },
        {
         "count": 1,
         "id": "2750815",
         "name": "Mijdrecht"
        },
        {
         "count": 1,
         "id": "2751316",
         "name": "Maarssen"
        },
        {
         "count": 1,
         "id": "2753468",
         "name": "Huizen"
        },
        {
         "count": 1,
         "id": "2753557",
         "name": "Houten"
        },
        {
         "count": 1,
         "id": "2754287",
         "name": "Heteren"
        },
        {
         "count": 1,
         "id": "2756888",
         "name": "Diemen"
        },
        {
         "count": 1,
         "id": "2756987",
         "name": "Deventer"
        },
        {
         "count": 1,
         "id": "2758333",
         "name": "Breukelen"
        },
        {
         "count": 1,
         "id": "2759197",
         "name": "Bennekom"
        },
        {
         "count": 1,
         "id": "2759275",
         "name": "Beetsterzwaag"
        },
        {
         "count": 1,
         "id": "2759706",
         "name": "Apeldoorn"
        },
        {
         "count": 1,
         "id": "2759798",
         "name": "Amstelveen"
        },
        {
         "count": 1,
         "id": "2761353",
         "name": "Wiener Neustadt"
        },
        {
         "count": 1,
         "id": "2761524",
         "name": "Wels"
        },
        {
         "count": 1,
         "id": "2762372",
         "name": "Villach"
        },
        {
         "count": 1,
         "id": "2773250",
         "name": "Kundl"
        },
        {
         "count": 1,
         "id": "2773913",
         "name": "Klosterneuburg"
        },
        {
         "count": 1,
         "id": "2774326",
         "name": "Klagenfurt am Wörthersee"
        },
        {
         "count": 1,
         "id": "2783310",
         "name": "Zaventem"
        },
        {
         "count": 1,
         "id": "2787889",
         "name": "Roeselare"
        },
        {
         "count": 1,
         "id": "2790869",
         "name": "Mons"
        },
        {
         "count": 1,
         "id": "2791067",
         "name": "Mol"
        },
        {
         "count": 1,
         "id": "2791315",
         "name": "Merelbeke"
        },
        {
         "count": 1,
         "id": "2791385",
         "name": "Melle"
        },
        {
         "count": 1,
         "id": "2792235",
         "name": "Lochristi"
        },
        {
         "count": 1,
         "id": "2795113",
         "name": "Huy"
        },
        {
         "count": 1,
         "id": "2797500",
         "name": "Glabbeek-Zuurbemde"
        },
        {
         "count": 1,
         "id": "2799007",
         "name": "Edegem"
        },
        {
         "count": 1,
         "id": "2800481",
         "name": "Charleroi"
        },
        {
         "count": 1,
         "id": "2801154",
         "name": "Braine-l'Alleud"
        },
        {
         "count": 1,
         "id": "2803448",
         "name": "Aalst"
        },
        {
         "count": 1,
         "id": "2806654",
         "name": "Wolfsburg"
        },
        {
         "count": 1,
         "id": "2807363",
         "name": "Witten"
        },
        {
         "count": 1,
         "id": "2807465",
         "name": "Wismar"
        },
        {
         "count": 1,
         "id": "2809346",
         "name": "Wiesbaden"
        },
        {
         "count": 1,
         "id": "2810678",
         "name": "Wesel"
        },
        {
         "count": 1,
         "id": "2814131",
         "name": "Waren"
        },
        {
         "count": 1,
         "id": "2817220",
         "name": "Villingen-Schwenningen"
        },
        {
         "count": 1,
         "id": "2820964",
         "name": "Trostberg an der Alz"
        },
        {
         "count": 1,
         "id": "2821164",
         "name": "Trier"
        },
        {
         "count": 1,
         "id": "2832495",
         "name": "Siegen"
        },
        {
         "count": 1,
         "id": "2834282",
         "name": "Schwerin"
        },
        {
         "count": 1,
         "id": "2839980",
         "name": "Scheidegg"
        },
        {
         "count": 1,
         "id": "2841648",
         "name": "Sankt Augustin"
        },
        {
         "count": 1,
         "id": "2844588",
         "name": "Rostock"
        },
        {
         "count": 1,
         "id": "2848335",
         "name": "Remagen"
        },
        {
         "count": 1,
         "id": "2849483",
         "name": "Regensburg"
        },
        {
         "count": 1,
         "id": "2849647",
         "name": "Recklinghausen"
        },
        {
         "count": 1,
         "id": "2850954",
         "name": "Radolfzell am Bodensee"
        },
        {
         "count": 1,
         "id": "2851465",
         "name": "Quedlinburg"
        },
        {
         "count": 1,
         "id": "2855745",
         "name": "Paderborn"
        },
        {
         "count": 1,
         "id": "2857129",
         "name": "Oranienburg"
        },
        {
         "count": 1,
         "id": "285787",
         "name": "Kuwait City"
        },
        {
         "count": 1,
         "id": "2861650",
         "name": "Nürnberg"
        },
        {
         "count": 1,
         "id": "2871039",
         "name": "Minden"
        },
        {
         "count": 1,
         "id": "2871992",
         "name": "Memmingen"
        },
        {
         "count": 1,
         "id": "2873111"
        },
        {
         "count": 1,
         "id": "2874545",
         "name": "Magdeburg"
        },
        {
         "count": 1,
         "id": "2875115",
         "name": "Lüneburg"
        },
        {
         "count": 1,
         "id": "2881279",
         "name": "Langen"
        },
        {
         "count": 1,
         "id": "2885679",
         "name": "Konstanz"
        },
        {
         "count": 1,
         "id": "2891621",
         "name": "Kempten (Allgäu)"
        },
        {
         "count": 1,
         "id": "2894003",
         "name": "Kaiserslautern"
        },
        {
         "count": 1,
         "id": "2894553",
         "name": "Jülich"
        },
        {
         "count": 1,
         "id": "2896514",
         "name": "Ilmenau"
        },
        {
         "count": 1,
         "id": "2899449",
         "name": "Homburg"
        },
        {
         "count": 1,
         "id": "290030",
         "name": "Doha"
        },
        {
         "count": 1,
         "id": "2904789",
         "name": "Hildesheim"
        },
        {
         "count": 1,
         "id": "2911007",
         "name": "Hanau am Main"
        },
        {
         "count": 1,
         "id": "2917788",
         "name": "Greifswald"
        },
        {
         "count": 1,
         "id": "292223",
         "name": "Dubai"
        },
        {
         "count": 1,
         "id": "2923544",
         "name": "Fürth"
        },
        {
         "count": 1,
         "id": "2925192",
         "name": "Freiberg"
        },
        {
         "count": 1,
         "id": "2927347",
         "name": "Feldkirchen"
        },
        {
         "count": 1,
         "id": "2928963",
         "name": "Eschweiler"
        },
        {
         "count": 1,
         "id": "2937959",
         "name": "Dessau"
        },
        {
         "count": 1,
         "id": "293842",
         "name": "Qiryat Gat"
        },
        {
         "count": 1,
         "id": "2944368",
         "name": "Bremerhaven"
        },
        {
         "count": 1,
         "id": "2947444",
         "name": "Böblingen"
        },
        {
         "count": 1,
         "id": "2948058",
         "name": "Blankenhain"
        },
        {
         "count": 1,
         "id": "2950073",
         "name": "Bernburg"
        },
        {
         "count": 1,
         "id": "2952984",
         "name": "Bamberg"
        },
        {
         "count": 1,
         "id": "2953386",
         "name": "Bad Oeynhausen"
        },
        {
         "count": 1,
         "id": "2953402",
         "name": "Bad Mergentheim"
        },
        {
         "count": 1,
         "id": "2953535",
         "name": "Bad Brückenau"
        },
        {
         "count": 1,
         "id": "2953540",
         "name": "Bad Bocklet"
        },
        {
         "count": 1,
         "id": "2958516",
         "name": "Alfter"
        },
        {
         "count": 1,
         "id": "2961423",
         "name": "Sligo"
        },
        {
         "count": 1,
         "id": "2961732",
         "name": "Roscommon"
        },
        {
         "count": 1,
         "id": "2962361",
         "name": "An Muileann gCearr"
        },
        {
         "count": 1,
         "id": "2962568",
         "name": "Monaghan"
        },
        {
         "count": 1,
         "id": "2962668",
         "name": "Maynooth"
        },
        {
         "count": 1,
         "id": "2966370",
         "name": "Bandon"
        },
        {
         "count": 1,
         "id": "2966837",
         "name": "Athy"
        },
        {
         "count": 1,
         "id": "2967934",
         "name": "Viroflay"
        },
        {
         "count": 1,
         "id": "2968023",
         "name": "Vinon-sur-Verdon"
        },
        {
         "count": 1,
         "id": "2968984",
         "name": "Villard-de-Lans"
        },
        {
         "count": 1,
         "id": "2969766",
         "name": "Vernon"
        },
        {
         "count": 1,
         "id": "2969806",
         "name": "Verneuil-en-Halatte"
        },
        {
         "count": 1,
         "id": "2970797",
         "name": "Vandœuvre-lès-Nancy"
        },
        {
         "count": 1,
         "id": "297184",
         "name": "Yenice"
        },
        {
         "count": 1,
         "id": "2972049",
         "name": "Trappes"
        },
        {
         "count": 1,
         "id": "2972328",
         "name": "Toulon"
        },
        {
         "count": 1,
         "id": "2972794",
         "name": "Thiverval-Grignon"
        },
        {
         "count": 1,
         "id": "2973675",
         "name": "Suresnes"
        },
        {
         "count": 1,
         "id": "2973944",
         "name": "Sourdun"
        },
        {
         "count": 1,
         "id": "2979072",
         "name": "Saint-Julien-en-Genevois"
        },
        {
         "count": 1,
         "id": "2980291",
         "name": "Saint-Étienne"
        },
        {
         "count": 1,
         "id": "2981280",
         "name": "Saint-Brieuc"
        },
        {
         "count": 1,
         "id": "2981609",
         "name": "Saint-Aubin"
        },
        {
         "count": 1,
         "id": "2982681",
         "name": "Roubaix"
        },
        {
         "count": 1,
         "id": "2984114",
         "name": "Reims"
        },
        {
         "count": 1,
         "id": "2986626",
         "name": "Plouzané"
        },
        {
         "count": 1,
         "id": "2987805",
         "name": "Pessac"
        },
        {
         "count": 1,
         "id": "2988358",
         "name": "Pau"
        },
        {
         "count": 1,
         "id": "2990363",
         "name": "Nîmes"
        },
        {
         "count": 1,
         "id": "2991214",
         "name": "Mulhouse"
        },
        {
         "count": 1,
         "id": "2992017",
         "name": "Montrouge"
        },
        {
         "count": 1,
         "id": "2995908",
         "name": "Marcq-en-Barœul"
        },
        {
         "count": 1,
         "id": "2998975",
         "name": "Levallois-Perret"
        },
        {
         "count": 1,
         "id": "3003603",
         "name": "Le Mans"
        },
        {
         "count": 1,
         "id": "3012834",
         "name": "Illkirch-Graffenstaden"
        },
        {
         "count": 1,
         "id": "3013534",
         "name": "Hendaye"
        },
        {
         "count": 1,
         "id": "3013766",
         "name": "Haute-Goulaine"
        },
        {
         "count": 1,
         "id": "3016675",
         "name": "Garches"
        },
        {
         "count": 1,
         "id": "3017910",
         "name": "Fontenay-sous-Bois"
        },
        {
         "count": 1,
         "id": "3017924",
         "name": "Fontenay-aux-Roses"
        },
        {
         "count": 1,
         "id": "3020686",
         "name": "Dunkerque"
        },
        {
         "count": 1,
         "id": "3024266",
         "name": "Colombes"
        },
        {
         "count": 1,
         "id": "3024597",
         "name": "Clichy"
        },
        {
         "count": 1,
         "id": "3024783",
         "name": "Clamart"
        },
        {
         "count": 1,
         "id": "3027883",
         "name": "Cergy"
        },
        {
         "count": 1,
         "id": "3029713",
         "name": "Bruz"
        },
        {
         "count": 1,
         "id": "3029748",
         "name": "Brunoy"
        },
        {
         "count": 1,
         "id": "3031009",
         "name": "Bourg-en-Bresse"
        },
        {
         "count": 1,
         "id": "3031137",
         "name": "Boulogne-Billancourt"
        },
        {
         "count": 1,
         "id": "3033967",
         "name": "Beauvoir-sur-Niort"
        },
        {
         "count": 1,
         "id": "3036281",
         "name": "Auch"
        },
        {
         "count": 1,
         "id": "3036364",
         "name": "Aubière"
        },
        {
         "count": 1,
         "id": "3037456",
         "name": "Antibes"
        },
        {
         "count": 1,
         "id": "3037656",
         "name": "Angers"
        },
        {
         "count": 1,
         "id": "3038224",
         "name": "Alès"
        },
        {
         "count": 1,
         "id": "304531",
         "name": "Mercin"
        },
        {
         "count": 1,
         "id": "3056459",
         "name": "Zvolen"
        },
        {
         "count": 1,
         "id": "3057140",
         "name": "Trenčín"
        },
        {
         "count": 1,
         "id": "3067383",
         "name": "Průhonice"
        },
        {
         "count": 1,
         "id": "3068160",
         "name": "Pilsen"
        },
        {
         "count": 1,
         "id": "3071961",
         "name": "Liberec"
        },
        {
         "count": 1,
         "id": "3072929",
         "name": "Kralupy nad Vltavou"
        },
        {
         "count": 1,
         "id": "3073652",
         "name": "Klecany"
        },
        {
         "count": 1,
         "id": "3074967",
         "name": "Hradec Králové"
        },
        {
         "count": 1,
         "id": "3075919",
         "name": "Havlíčkův Brod"
        },
        {
         "count": 1,
         "id": "3080165",
         "name": "Zielona Góra"
        },
        {
         "count": 1,
         "id": "3080866",
         "name": "Zakopane"
        },
        {
         "count": 1,
         "id": "3085450",
         "name": "Słupsk"
        },
        {
         "count": 1,
         "id": "3099230",
         "name": "Gliwice"
        },
        {
         "count": 1,
         "id": "3102014",
         "name": "Bydgoszcz"
        },
        {
         "count": 1,
         "id": "3104499",
         "name": "Gasteiz / Vitoria"
        },
        {
         "count": 1,
         "id": "3107653",
         "name": "Touro"
        },
        {
         "count": 1,
         "id": "3108747",
         "name": "Solsona"
        }
       ]
      },
      "text/plain": [
       "<dimcli.Result object #4417980008: [('research_org_cities', 1000), ('_stats', 1)]>"
      ]
     },
     "execution_count": 3,
     "metadata": {
      "application/json": {
       "expanded": false,
       "root": "root"
      }
     },
     "output_type": "execute_result"
    }
   ],
   "source": [
    "%%dsl_query\n",
    "search publications\n",
    "where type=\"article\" and date=\"2019-04-03\" and research_org_countries in [\"AD\",\"AL\",\"AT\",\"AX\",\"BA\",\"BE\",\"BG\",\"BY\",\"CH\",\"CZ\",\"DE\",\"DK\",\"EE\",\"ES\",\"FI\",\"FO\",\"FR\",\"GB\",\"GG\",\"GI\",\"GR\",\"HR\",\"HU\",\"IE\",\"IM\",\"IS\",\"IT\",\"JE\",\"LI\",\"LT\",\"LU\",\"LV\",\"MC\",\"MD\",\"ME\",\"MK\",\"MT\",\"NL\",\"NO\",\"PL\",\"PT\",\"RO\",\"RS\",\"RU\",\"SE\",\"SI\",\"SJ\",\"SK\",\"SM\",\"UA\",\"VA\"]\n",
    "return research_org_cities limit 1000"
   ]
  },
  {
   "cell_type": "markdown",
   "metadata": {},
   "source": [
    "#### 2. Manipulating the query results as a table"
   ]
  },
  {
   "cell_type": "code",
   "execution_count": 4,
   "metadata": {},
   "outputs": [],
   "source": [
    "data = _['research_org_cities']\n",
    "df1 = pd.DataFrame.from_dict(data)\n",
    "df1.head()"
   ]
  },
  {
   "cell_type": "markdown",
   "metadata": {},
   "source": [
    "The pandas library allows us to put all results into a big table.\n",
    "\n",
    "Then we can then 'pivot' the table around the cities IDs and Names in order to calculate the total count of publications for each one of them."
   ]
  },
  {
   "cell_type": "code",
   "execution_count": 7,
   "metadata": {},
   "outputs": [
    {
     "data": {
      "text/html": [
       "<div>\n",
       "<style scoped>\n",
       "    .dataframe tbody tr th:only-of-type {\n",
       "        vertical-align: middle;\n",
       "    }\n",
       "\n",
       "    .dataframe tbody tr th {\n",
       "        vertical-align: top;\n",
       "    }\n",
       "\n",
       "    .dataframe thead th {\n",
       "        text-align: right;\n",
       "    }\n",
       "</style>\n",
       "<table border=\"1\" class=\"dataframe\">\n",
       "  <thead>\n",
       "    <tr style=\"text-align: right;\">\n",
       "      <th></th>\n",
       "      <th></th>\n",
       "      <th>count</th>\n",
       "    </tr>\n",
       "    <tr>\n",
       "      <th>id</th>\n",
       "      <th>name</th>\n",
       "      <th></th>\n",
       "    </tr>\n",
       "  </thead>\n",
       "  <tbody>\n",
       "    <tr>\n",
       "      <th>2643743</th>\n",
       "      <th>London</th>\n",
       "      <td>156</td>\n",
       "    </tr>\n",
       "    <tr>\n",
       "      <th>3117735</th>\n",
       "      <th>Madrid</th>\n",
       "      <td>75</td>\n",
       "    </tr>\n",
       "    <tr>\n",
       "      <th>2988507</th>\n",
       "      <th>Paris</th>\n",
       "      <td>75</td>\n",
       "    </tr>\n",
       "    <tr>\n",
       "      <th>3169070</th>\n",
       "      <th>Rome</th>\n",
       "      <td>71</td>\n",
       "    </tr>\n",
       "    <tr>\n",
       "      <th>524901</th>\n",
       "      <th>Moscow</th>\n",
       "      <td>62</td>\n",
       "    </tr>\n",
       "    <tr>\n",
       "      <th>2653941</th>\n",
       "      <th>Cambridge</th>\n",
       "      <td>60</td>\n",
       "    </tr>\n",
       "    <tr>\n",
       "      <th>3128760</th>\n",
       "      <th>Barcelona</th>\n",
       "      <td>52</td>\n",
       "    </tr>\n",
       "    <tr>\n",
       "      <th>2657896</th>\n",
       "      <th>Zürich</th>\n",
       "      <td>48</td>\n",
       "    </tr>\n",
       "    <tr>\n",
       "      <th>3173435</th>\n",
       "      <th>Milan</th>\n",
       "      <td>47</td>\n",
       "    </tr>\n",
       "    <tr>\n",
       "      <th>2640729</th>\n",
       "      <th>Oxford</th>\n",
       "      <td>47</td>\n",
       "    </tr>\n",
       "    <tr>\n",
       "      <th>3143244</th>\n",
       "      <th>Oslo</th>\n",
       "      <td>41</td>\n",
       "    </tr>\n",
       "    <tr>\n",
       "      <th>2618425</th>\n",
       "      <th>Copenhagen</th>\n",
       "      <td>40</td>\n",
       "    </tr>\n",
       "    <tr>\n",
       "      <th>2867714</th>\n",
       "      <th>Munich</th>\n",
       "      <td>39</td>\n",
       "    </tr>\n",
       "    <tr>\n",
       "      <th>2673730</th>\n",
       "      <th>Stockholm</th>\n",
       "      <td>38</td>\n",
       "    </tr>\n",
       "    <tr>\n",
       "      <th>2950159</th>\n",
       "      <th>Berlin</th>\n",
       "      <td>37</td>\n",
       "    </tr>\n",
       "    <tr>\n",
       "      <th>2644210</th>\n",
       "      <th>Liverpool</th>\n",
       "      <td>37</td>\n",
       "    </tr>\n",
       "    <tr>\n",
       "      <th>3067696</th>\n",
       "      <th>Prague</th>\n",
       "      <td>37</td>\n",
       "    </tr>\n",
       "    <tr>\n",
       "      <th>2759794</th>\n",
       "      <th>Amsterdam</th>\n",
       "      <td>37</td>\n",
       "    </tr>\n",
       "    <tr>\n",
       "      <th>2659994</th>\n",
       "      <th>Lausanne</th>\n",
       "      <td>35</td>\n",
       "    </tr>\n",
       "    <tr>\n",
       "      <th>1816670</th>\n",
       "      <th>Beijing</th>\n",
       "      <td>34</td>\n",
       "    </tr>\n",
       "    <tr>\n",
       "      <th>264371</th>\n",
       "      <th>Athens</th>\n",
       "      <td>33</td>\n",
       "    </tr>\n",
       "    <tr>\n",
       "      <th>2643123</th>\n",
       "      <th>Manchester</th>\n",
       "      <td>31</td>\n",
       "    </tr>\n",
       "    <tr>\n",
       "      <th>658225</th>\n",
       "      <th>Helsinki</th>\n",
       "      <td>31</td>\n",
       "    </tr>\n",
       "    <tr>\n",
       "      <th>2660646</th>\n",
       "      <th>Genève</th>\n",
       "      <td>30</td>\n",
       "    </tr>\n",
       "    <tr>\n",
       "      <th>2650225</th>\n",
       "      <th>Edinburgh</th>\n",
       "      <td>29</td>\n",
       "    </tr>\n",
       "    <tr>\n",
       "      <th>2761369</th>\n",
       "      <th>Vienna</th>\n",
       "      <td>29</td>\n",
       "    </tr>\n",
       "    <tr>\n",
       "      <th>2879139</th>\n",
       "      <th>Leipzig</th>\n",
       "      <td>28</td>\n",
       "    </tr>\n",
       "    <tr>\n",
       "      <th>2638077</th>\n",
       "      <th>Sheffield</th>\n",
       "      <td>27</td>\n",
       "    </tr>\n",
       "    <tr>\n",
       "      <th>2655603</th>\n",
       "      <th>Birmingham</th>\n",
       "      <td>27</td>\n",
       "    </tr>\n",
       "    <tr>\n",
       "      <th>756135</th>\n",
       "      <th>Warsaw</th>\n",
       "      <td>27</td>\n",
       "    </tr>\n",
       "    <tr>\n",
       "      <th>...</th>\n",
       "      <th>...</th>\n",
       "      <td>...</td>\n",
       "    </tr>\n",
       "    <tr>\n",
       "      <th>2875115</th>\n",
       "      <th>Lüneburg</th>\n",
       "      <td>1</td>\n",
       "    </tr>\n",
       "    <tr>\n",
       "      <th>1811103</th>\n",
       "      <th>Foshan</th>\n",
       "      <td>1</td>\n",
       "    </tr>\n",
       "    <tr>\n",
       "      <th>2881279</th>\n",
       "      <th>Langen</th>\n",
       "      <td>1</td>\n",
       "    </tr>\n",
       "    <tr>\n",
       "      <th>2885679</th>\n",
       "      <th>Konstanz</th>\n",
       "      <td>1</td>\n",
       "    </tr>\n",
       "    <tr>\n",
       "      <th>1809461</th>\n",
       "      <th>Guiyang</th>\n",
       "      <td>1</td>\n",
       "    </tr>\n",
       "    <tr>\n",
       "      <th>2891621</th>\n",
       "      <th>Kempten (Allgäu)</th>\n",
       "      <td>1</td>\n",
       "    </tr>\n",
       "    <tr>\n",
       "      <th>2894003</th>\n",
       "      <th>Kaiserslautern</th>\n",
       "      <td>1</td>\n",
       "    </tr>\n",
       "    <tr>\n",
       "      <th>2894553</th>\n",
       "      <th>Jülich</th>\n",
       "      <td>1</td>\n",
       "    </tr>\n",
       "    <tr>\n",
       "      <th>2896514</th>\n",
       "      <th>Ilmenau</th>\n",
       "      <td>1</td>\n",
       "    </tr>\n",
       "    <tr>\n",
       "      <th>2899449</th>\n",
       "      <th>Homburg</th>\n",
       "      <td>1</td>\n",
       "    </tr>\n",
       "    <tr>\n",
       "      <th>290030</th>\n",
       "      <th>Doha</th>\n",
       "      <td>1</td>\n",
       "    </tr>\n",
       "    <tr>\n",
       "      <th>2861650</th>\n",
       "      <th>Nürnberg</th>\n",
       "      <td>1</td>\n",
       "    </tr>\n",
       "    <tr>\n",
       "      <th>285787</th>\n",
       "      <th>Kuwait City</th>\n",
       "      <td>1</td>\n",
       "    </tr>\n",
       "    <tr>\n",
       "      <th>2857129</th>\n",
       "      <th>Oranienburg</th>\n",
       "      <td>1</td>\n",
       "    </tr>\n",
       "    <tr>\n",
       "      <th>2839980</th>\n",
       "      <th>Scheidegg</th>\n",
       "      <td>1</td>\n",
       "    </tr>\n",
       "    <tr>\n",
       "      <th>1821306</th>\n",
       "      <th>Phnom Penh</th>\n",
       "      <td>1</td>\n",
       "    </tr>\n",
       "    <tr>\n",
       "      <th>2820964</th>\n",
       "      <th>Trostberg an der Alz</th>\n",
       "      <td>1</td>\n",
       "    </tr>\n",
       "    <tr>\n",
       "      <th>2821164</th>\n",
       "      <th>Trier</th>\n",
       "      <td>1</td>\n",
       "    </tr>\n",
       "    <tr>\n",
       "      <th>1818920</th>\n",
       "      <th>Sha Tin</th>\n",
       "      <td>1</td>\n",
       "    </tr>\n",
       "    <tr>\n",
       "      <th>2832495</th>\n",
       "      <th>Siegen</th>\n",
       "      <td>1</td>\n",
       "    </tr>\n",
       "    <tr>\n",
       "      <th>2834282</th>\n",
       "      <th>Schwerin</th>\n",
       "      <td>1</td>\n",
       "    </tr>\n",
       "    <tr>\n",
       "      <th>2841648</th>\n",
       "      <th>Sankt Augustin</th>\n",
       "      <td>1</td>\n",
       "    </tr>\n",
       "    <tr>\n",
       "      <th>2855745</th>\n",
       "      <th>Paderborn</th>\n",
       "      <td>1</td>\n",
       "    </tr>\n",
       "    <tr>\n",
       "      <th>2844588</th>\n",
       "      <th>Rostock</th>\n",
       "      <td>1</td>\n",
       "    </tr>\n",
       "    <tr>\n",
       "      <th>2848335</th>\n",
       "      <th>Remagen</th>\n",
       "      <td>1</td>\n",
       "    </tr>\n",
       "    <tr>\n",
       "      <th>2849483</th>\n",
       "      <th>Regensburg</th>\n",
       "      <td>1</td>\n",
       "    </tr>\n",
       "    <tr>\n",
       "      <th>2849647</th>\n",
       "      <th>Recklinghausen</th>\n",
       "      <td>1</td>\n",
       "    </tr>\n",
       "    <tr>\n",
       "      <th>2850954</th>\n",
       "      <th>Radolfzell am Bodensee</th>\n",
       "      <td>1</td>\n",
       "    </tr>\n",
       "    <tr>\n",
       "      <th>2851465</th>\n",
       "      <th>Quedlinburg</th>\n",
       "      <td>1</td>\n",
       "    </tr>\n",
       "    <tr>\n",
       "      <th>1000501</th>\n",
       "      <th>Grahamstown</th>\n",
       "      <td>1</td>\n",
       "    </tr>\n",
       "  </tbody>\n",
       "</table>\n",
       "<p>999 rows × 1 columns</p>\n",
       "</div>"
      ],
      "text/plain": [
       "                                count\n",
       "id      name                         \n",
       "2643743 London                    156\n",
       "3117735 Madrid                     75\n",
       "2988507 Paris                      75\n",
       "3169070 Rome                       71\n",
       "524901  Moscow                     62\n",
       "2653941 Cambridge                  60\n",
       "3128760 Barcelona                  52\n",
       "2657896 Zürich                     48\n",
       "3173435 Milan                      47\n",
       "2640729 Oxford                     47\n",
       "3143244 Oslo                       41\n",
       "2618425 Copenhagen                 40\n",
       "2867714 Munich                     39\n",
       "2673730 Stockholm                  38\n",
       "2950159 Berlin                     37\n",
       "2644210 Liverpool                  37\n",
       "3067696 Prague                     37\n",
       "2759794 Amsterdam                  37\n",
       "2659994 Lausanne                   35\n",
       "1816670 Beijing                    34\n",
       "264371  Athens                     33\n",
       "2643123 Manchester                 31\n",
       "658225  Helsinki                   31\n",
       "2660646 Genève                     30\n",
       "2650225 Edinburgh                  29\n",
       "2761369 Vienna                     29\n",
       "2879139 Leipzig                    28\n",
       "2638077 Sheffield                  27\n",
       "2655603 Birmingham                 27\n",
       "756135  Warsaw                     27\n",
       "...                               ...\n",
       "2875115 Lüneburg                    1\n",
       "1811103 Foshan                      1\n",
       "2881279 Langen                      1\n",
       "2885679 Konstanz                    1\n",
       "1809461 Guiyang                     1\n",
       "2891621 Kempten (Allgäu)            1\n",
       "2894003 Kaiserslautern              1\n",
       "2894553 Jülich                      1\n",
       "2896514 Ilmenau                     1\n",
       "2899449 Homburg                     1\n",
       "290030  Doha                        1\n",
       "2861650 Nürnberg                    1\n",
       "285787  Kuwait City                 1\n",
       "2857129 Oranienburg                 1\n",
       "2839980 Scheidegg                   1\n",
       "1821306 Phnom Penh                  1\n",
       "2820964 Trostberg an der Alz        1\n",
       "2821164 Trier                       1\n",
       "1818920 Sha Tin                     1\n",
       "2832495 Siegen                      1\n",
       "2834282 Schwerin                    1\n",
       "2841648 Sankt Augustin              1\n",
       "2855745 Paderborn                   1\n",
       "2844588 Rostock                     1\n",
       "2848335 Remagen                     1\n",
       "2849483 Regensburg                  1\n",
       "2849647 Recklinghausen              1\n",
       "2850954 Radolfzell am Bodensee      1\n",
       "2851465 Quedlinburg                 1\n",
       "1000501 Grahamstown                 1\n",
       "\n",
       "[999 rows x 1 columns]"
      ]
     },
     "execution_count": 7,
     "metadata": {},
     "output_type": "execute_result"
    }
   ],
   "source": [
    "df1.pivot_table(index=['id', 'name'], aggfunc=sum).sort_values(by=['count'], ascending=False)"
   ]
  },
  {
   "cell_type": "markdown",
   "metadata": {},
   "source": [
    "#### 3. Dates: here's a function that generates a list of dates for each day in a time frame"
   ]
  },
  {
   "cell_type": "code",
   "execution_count": 8,
   "metadata": {},
   "outputs": [
    {
     "name": "stdout",
     "output_type": "stream",
     "text": [
      "['2019-04-01', '2019-04-02', '2019-04-03', '2019-04-04', '2019-04-05', '2019-04-06', '2019-04-07', '2019-04-08', '2019-04-09', '2019-04-10', '2019-04-11', '2019-04-12', '2019-04-13', '2019-04-14', '2019-04-15', '2019-04-16', '2019-04-17']\n"
     ]
    }
   ],
   "source": [
    "from datetime import datetime, date, timedelta\n",
    "def date_range_from_strings(start_date=None, end_date=None):\n",
    "    \"\"\"\n",
    "    From two string-dates formatted as YYYY-MM-DD\n",
    "    Return a delta date_object which can be iterated on  \n",
    "    <start_date> : => default: YESTERDAY\n",
    "    <end_date> : => default: TODAY\n",
    "    \"\"\"\n",
    "     # the following is redundant, added just as an example to simulate receiving a date-string\n",
    "    if not start_date:\n",
    "        yesterday = date.today() - timedelta(1)\n",
    "        start_date = yesterday.strftime(\"%Y-%m-%d\")\n",
    "    if not end_date:\n",
    "        end_date = date.today().strftime(\"%Y-%m-%d\")\n",
    "    d1 = datetime.strptime(start_date, '%Y-%m-%d').date()\n",
    "    d2 = datetime.strptime(end_date, '%Y-%m-%d').date()\n",
    "    delta = d2 - d1\n",
    "    out = []\n",
    "    for i in range(delta.days):\n",
    "        step = d1 + timedelta(i)\n",
    "        out += [step.strftime(\"%Y-%m-%d\")]\n",
    "    return out\n",
    "# EG\n",
    "start_date = \"2019-04-01\"\n",
    "end_date = None # = today\n",
    "print(date_range_from_strings(start_date, end_date))"
   ]
  },
  {
   "cell_type": "markdown",
   "metadata": {},
   "source": [
    "#### 4. Define the list of countries we need, and the list of dates"
   ]
  },
  {
   "cell_type": "markdown",
   "metadata": {},
   "source": [
    "Modify this as needed (see also https://www.geonames.org/countries/)"
   ]
  },
  {
   "cell_type": "code",
   "execution_count": 12,
   "metadata": {},
   "outputs": [],
   "source": [
    "europe_countries = [\"AD\",\"AL\",\"AT\",\"AX\",\"BA\",\"BE\",\"BG\",\"BY\",\"CH\",\"CZ\",\"DE\",\"DK\",\"EE\",\"ES\",\"FI\",\"FO\",\"FR\",\"GB\",\"GG\",\"GI\",\"GR\",\"HR\",\"HU\",\"IE\",\"IM\",\"IS\",\"IT\",\"JE\",\"LI\",\"LT\",\"LU\",\"LV\",\"MC\",\"MD\",\"ME\",\"MK\",\"MT\",\"NL\",\"NO\",\"PL\",\"PT\",\"RO\",\"RS\",\"RU\",\"SE\",\"SI\",\"SJ\",\"SK\",\"SM\",\"UA\",\"VA\"]\n",
    "europe_countries_string = \", \".join([\"\\\"%s\\\"\" % x for x in europe_countries])\n",
    "\n",
    "start_date = \"2018-01-01\"\n",
    "end_date = \"2018-01-10\"  # this is set to 10 days, so change it as needed\n",
    "all_dates = date_range_from_strings(start_date, end_date)"
   ]
  },
  {
   "cell_type": "markdown",
   "metadata": {},
   "source": [
    "#### 5. Set up the parametrized query loop "
   ]
  },
  {
   "cell_type": "code",
   "execution_count": 11,
   "metadata": {},
   "outputs": [],
   "source": [
    "q_template = \"\"\"search publications\n",
    "where type=\"article\" and date=\"%s\" and research_org_countries in [%s]\n",
    "return research_org_cities limit 1000\"\"\""
   ]
  },
  {
   "cell_type": "code",
   "execution_count": 15,
   "metadata": {},
   "outputs": [
    {
     "name": "stdout",
     "output_type": "stream",
     "text": [
      "Master Dataset Rows: 1000 <class 'pandas.core.frame.DataFrame'>\n",
      "Master Dataset Rows: 2000 <class 'pandas.core.frame.DataFrame'>\n",
      "Master Dataset Rows: 2363 <class 'pandas.core.frame.DataFrame'>\n",
      "Master Dataset Rows: 2895 <class 'pandas.core.frame.DataFrame'>\n",
      "Master Dataset Rows: 3471 <class 'pandas.core.frame.DataFrame'>\n",
      "Master Dataset Rows: 3671 <class 'pandas.core.frame.DataFrame'>\n",
      "Master Dataset Rows: 3835 <class 'pandas.core.frame.DataFrame'>\n",
      "Master Dataset Rows: 4399 <class 'pandas.core.frame.DataFrame'>\n",
      "Master Dataset Rows: 5023 <class 'pandas.core.frame.DataFrame'>\n",
      "FINISHED!\n"
     ]
    }
   ],
   "source": [
    "df_master = pd.DataFrame()\n",
    "for d in all_dates:\n",
    "    query = q_template % (d, europe_countries_string)\n",
    "    res = dsl.query(query, show_results=False)\n",
    "    data = res['research_org_cities']\n",
    "    if df_master.empty:\n",
    "        df_master = pd.DataFrame.from_dict(data)\n",
    "    else:\n",
    "        df_temp = pd.DataFrame.from_dict(data)\n",
    "        df_master = df_master.append(df_temp, sort=True)\n",
    "    print(\"Master Dataset Rows:\", len(df_master), type(df_master))\n",
    "    time.sleep(1.5)\n",
    "print(\"FINISHED!\")    "
   ]
  },
  {
   "cell_type": "markdown",
   "metadata": {},
   "source": [
    "#### 6. Let's group all results into a pivot table and display it"
   ]
  },
  {
   "cell_type": "code",
   "execution_count": 16,
   "metadata": {},
   "outputs": [],
   "source": [
    "df_master = df_master.pivot_table(index=['id', 'name'], aggfunc=sum).sort_values(by=['count'], ascending=False)"
   ]
  },
  {
   "cell_type": "code",
   "execution_count": 20,
   "metadata": {},
   "outputs": [
    {
     "data": {
      "text/plain": [
       "1907"
      ]
     },
     "execution_count": 20,
     "metadata": {},
     "output_type": "execute_result"
    }
   ],
   "source": [
    "len(df_master)"
   ]
  },
  {
   "cell_type": "code",
   "execution_count": 18,
   "metadata": {},
   "outputs": [],
   "source": [
    "# fix column names https://stackoverflow.com/questions/33290374/pandas-pivot-table-column-names\n",
    "df_master.reset_index(inplace=True)"
   ]
  },
  {
   "cell_type": "code",
   "execution_count": 21,
   "metadata": {},
   "outputs": [
    {
     "data": {
      "image/png": "[encoded data removed]",
      "text/plain": [
       "<Figure size 432x288 with 1 Axes>"
      ]
     },
     "metadata": {
      "needs_background": "light"
     },
     "output_type": "display_data"
    }
   ],
   "source": [
    "ax = df_master.head(10).plot.bar(x='name', rot=0,)"
   ]
  },
  {
   "cell_type": "markdown",
   "metadata": {},
   "source": [
    "## Approach 2: one query per country\n",
    "\n",
    "We limit the number of results to a manageable size by querying by country, for a full year, and extract all the cities information.\n",
    "\n",
    "The main problem with this approach is that...."
   ]
  },
  {
   "cell_type": "markdown",
   "metadata": {},
   "source": [
    "#### 1. First let's try out the DSL query template we're gonna use later on"
   ]
  },
  {
   "cell_type": "code",
   "execution_count": 10,
   "metadata": {},
   "outputs": [
    {
     "name": "stdout",
     "output_type": "stream",
     "text": [
      "Tot Publications:  208832\n",
      "Returned Research_org_cities: 1000\n"
     ]
    },
    {
     "data": {
      "application/json": {
       "_stats": {
        "total_count": 208832
       },
       "research_org_cities": [
        {
         "count": 63968,
         "id": "2643743",
         "name": "London"
        },
        {
         "count": 16187,
         "id": "2653941",
         "name": "Cambridge"
        },
        {
         "count": 16087,
         "id": "2640729",
         "name": "Oxford"
        },
        {
         "count": 10707,
         "id": "2643123",
         "name": "Manchester"
        },
        {
         "count": 10415,
         "id": "2650225",
         "name": "Edinburgh"
        },
        {
         "count": 8855,
         "id": "2655603",
         "name": "Birmingham"
        },
        {
         "count": 7984,
         "id": "2648579",
         "name": "Glasgow"
        },
        {
         "count": 7391,
         "id": "2654675",
         "name": "Bristol"
        },
        {
         "count": 7061,
         "id": "2644210",
         "name": "Liverpool"
        },
        {
         "count": 7023,
         "id": "2641170",
         "name": "Nottingham"
        },
        {
         "count": 6797,
         "id": "2644688",
         "name": "Leeds"
        },
        {
         "count": 6576,
         "id": "2638077",
         "name": "Sheffield"
        },
        {
         "count": 6424,
         "id": "2641673",
         "name": "Newcastle upon Tyne"
        },
        {
         "count": 5760,
         "id": "2637487",
         "name": "Southampton"
        },
        {
         "count": 5640,
         "id": "2988507",
         "name": "Paris"
        },
        {
         "count": 5139,
         "id": "1816670",
         "name": "Beijing"
        },
        {
         "count": 5063,
         "id": "2652221",
         "name": "Coventry"
        },
        {
         "count": 5038,
         "id": "2653822",
         "name": "Cardiff"
        },
        {
         "count": 4440,
         "id": "5128581",
         "name": "New York City"
        },
        {
         "count": 4251,
         "id": "2649808",
         "name": "Exeter"
        },
        {
         "count": 4075,
         "id": "2158177",
         "name": "Melbourne"
        },
        {
         "count": 3647,
         "id": "2147714",
         "name": "Sydney"
        },
        {
         "count": 3503,
         "id": "2644668",
         "name": "Leicester"
        },
        {
         "count": 3491,
         "id": "3128760",
         "name": "Barcelona"
        },
        {
         "count": 3480,
         "id": "3117735",
         "name": "Madrid"
        },
        {
         "count": 3404,
         "id": "2655984",
         "name": "Belfast"
        },
        {
         "count": 3318,
         "id": "2759794",
         "name": "Amsterdam"
        },
        {
         "count": 3288,
         "id": "3169070",
         "name": "Rome"
        },
        {
         "count": 3197,
         "id": "3173435",
         "name": "Milan"
        },
        {
         "count": 3143,
         "id": "2633352",
         "name": "York"
        },
        {
         "count": 3101,
         "id": "4930956",
         "name": "Boston"
        },
        {
         "count": 2965,
         "id": "2654710",
         "name": "Brighton"
        },
        {
         "count": 2918,
         "id": "4931972",
         "name": "Cambridge"
        },
        {
         "count": 2872,
         "id": "6167865",
         "name": "Toronto"
        },
        {
         "count": 2865,
         "id": "2673730",
         "name": "Stockholm"
        },
        {
         "count": 2681,
         "id": "2657832",
         "name": "Aberdeen"
        },
        {
         "count": 2650,
         "id": "2618425",
         "name": "Copenhagen"
        },
        {
         "count": 2592,
         "id": "2641181",
         "name": "Norwich"
        },
        {
         "count": 2551,
         "id": "2950159",
         "name": "Berlin"
        },
        {
         "count": 2542,
         "id": "2650628",
         "name": "Durham"
        },
        {
         "count": 2523,
         "id": "2644972",
         "name": "Lancaster"
        },
        {
         "count": 2464,
         "id": "2657896",
         "name": "Zürich"
        },
        {
         "count": 2452,
         "id": "2964574",
         "name": "Dublin"
        },
        {
         "count": 2403,
         "id": "2639577",
         "name": "Reading"
        },
        {
         "count": 2386,
         "id": "2650752",
         "name": "Dundee"
        },
        {
         "count": 2300,
         "id": "1850147",
         "name": "Tokyo"
        },
        {
         "count": 2287,
         "id": "2656173",
         "name": "Bath"
        },
        {
         "count": 2233,
         "id": "2867714",
         "name": "Munich"
        },
        {
         "count": 2228,
         "id": "2647793",
         "name": "Guildford"
        },
        {
         "count": 2164,
         "id": "2174003",
         "name": "Brisbane"
        },
        {
         "count": 2119,
         "id": "1796236",
         "name": "Shanghai"
        },
        {
         "count": 2063,
         "id": "3143244",
         "name": "Oslo"
        },
        {
         "count": 2044,
         "id": "1880252",
         "name": "Singapore"
        },
        {
         "count": 1955,
         "id": "2636432",
         "name": "Swansea"
        },
        {
         "count": 1935,
         "id": "2660646",
         "name": "Genève"
        },
        {
         "count": 1932,
         "id": "2761369",
         "name": "Vienna"
        },
        {
         "count": 1914,
         "id": "2745912",
         "name": "Utrecht"
        },
        {
         "count": 1866,
         "id": "4140963",
         "name": "Washington, D.C."
        },
        {
         "count": 1844,
         "id": "658225",
         "name": "Helsinki"
        },
        {
         "count": 1827,
         "id": "5809844",
         "name": "Seattle"
        },
        {
         "count": 1822,
         "id": "2638864",
         "name": "Saint Andrews"
        },
        {
         "count": 1815,
         "id": "5368361",
         "name": "Los Angeles"
        },
        {
         "count": 1803,
         "id": "4560349",
         "name": "Philadelphia"
        },
        {
         "count": 1802,
         "id": "2643567",
         "name": "Loughborough"
        },
        {
         "count": 1799,
         "id": "2653877",
         "name": "Canterbury"
        },
        {
         "count": 1798,
         "id": "4347778",
         "name": "Baltimore"
        },
        {
         "count": 1773,
         "id": "264371",
         "name": "Athens"
        },
        {
         "count": 1742,
         "id": "2800866",
         "name": "Brussels"
        },
        {
         "count": 1732,
         "id": "3448439",
         "name": "São Paulo"
        },
        {
         "count": 1731,
         "id": "2640194",
         "name": "Plymouth"
        },
        {
         "count": 1719,
         "id": "2792482",
         "name": "Leuven"
        },
        {
         "count": 1655,
         "id": "6077243",
         "name": "Montréal"
        },
        {
         "count": 1628,
         "id": "2267057",
         "name": "Lisbon"
        },
        {
         "count": 1592,
         "id": "2907911",
         "name": "Heidelberg"
        },
        {
         "count": 1531,
         "id": "524901",
         "name": "Moscow"
        },
        {
         "count": 1530,
         "id": "2651269",
         "name": "Didcot"
        },
        {
         "count": 1503,
         "id": "1799962",
         "name": "Nanjing"
        },
        {
         "count": 1493,
         "id": "1835848",
         "name": "Seoul"
        },
        {
         "count": 1492,
         "id": "2911298",
         "name": "Hamburg"
        },
        {
         "count": 1468,
         "id": "4887398",
         "name": "Chicago"
        },
        {
         "count": 1462,
         "id": "3067696",
         "name": "Prague"
        },
        {
         "count": 1430,
         "id": "4699066",
         "name": "Houston"
        },
        {
         "count": 1403,
         "id": "2750053",
         "name": "Nijmegen"
        },
        {
         "count": 1360,
         "id": "1819729",
         "name": "Hong Kong"
        },
        {
         "count": 1357,
         "id": "2063523",
         "name": "Perth"
        },
        {
         "count": 1354,
         "id": "2747891",
         "name": "Rotterdam"
        },
        {
         "count": 1341,
         "id": "6173331",
         "name": "Vancouver"
        },
        {
         "count": 1340,
         "id": "2797656",
         "name": "Gent"
        },
        {
         "count": 1331,
         "id": "2693678",
         "name": "Lund"
        },
        {
         "count": 1319,
         "id": "2661604",
         "name": "Basel"
        },
        {
         "count": 1317,
         "id": "2639996",
         "name": "Portsmouth"
        },
        {
         "count": 1308,
         "id": "2751773",
         "name": "Leiden"
        },
        {
         "count": 1304,
         "id": "2172517",
         "name": "Canberra"
        },
        {
         "count": 1299,
         "id": "2666199",
         "name": "Uppsala"
        },
        {
         "count": 1289,
         "id": "756135",
         "name": "Warsaw"
        },
        {
         "count": 1254,
         "id": "6094817",
         "name": "Ottawa"
        },
        {
         "count": 1237,
         "id": "5391959",
         "name": "San Francisco"
        },
        {
         "count": 1224,
         "id": "3171728",
         "name": "Padova"
        },
        {
         "count": 1224,
         "id": "4464368",
         "name": "Durham"
        },
        {
         "count": 1203,
         "id": "2645425",
         "name": "Kingston upon Hull"
        },
        {
         "count": 1199,
         "id": "2078025",
         "name": "Adelaide"
        },
        {
         "count": 1198,
         "id": "5398563",
         "name": "Stanford"
        },
        {
         "count": 1178,
         "id": "3181928",
         "name": "Bologna"
        },
        {
         "count": 1145,
         "id": "3172394",
         "name": "Naples"
        },
        {
         "count": 1143,
         "id": "4984247",
         "name": "Ann Arbor"
        },
        {
         "count": 1141,
         "id": "5391811",
         "name": "San Diego"
        },
        {
         "count": 1136,
         "id": "2624652",
         "name": "Århus"
        },
        {
         "count": 1132,
         "id": "2755251",
         "name": "Groningen"
        },
        {
         "count": 1121,
         "id": "2711537",
         "name": "Göteborg"
        },
        {
         "count": 1117,
         "id": "3165524",
         "name": "Turin"
        },
        {
         "count": 1099,
         "id": "2638671",
         "name": "Salford"
        },
        {
         "count": 1098,
         "id": "3054643",
         "name": "Budapest"
        },
        {
         "count": 1091,
         "id": "5206379",
         "name": "Pittsburgh"
        },
        {
         "count": 1083,
         "id": "2193733",
         "name": "Auckland"
        },
        {
         "count": 1082,
         "id": "2652618",
         "name": "Colchester"
        },
        {
         "count": 1066,
         "id": "2650188",
         "name": "Egham"
        },
        {
         "count": 1063,
         "id": "2642465",
         "name": "Milton Keynes"
        },
        {
         "count": 1061,
         "id": "4180439",
         "name": "Atlanta"
        },
        {
         "count": 1056,
         "id": "1791247",
         "name": "Wuhan"
        },
        {
         "count": 1056,
         "id": "1809858",
         "name": "Guangzhou"
        },
        {
         "count": 1054,
         "id": "2659994",
         "name": "Lausanne"
        },
        {
         "count": 1051,
         "id": "2641674",
         "name": "Newcastle under Lyme"
        },
        {
         "count": 1040,
         "id": "3176219",
         "name": "Genoa"
        },
        {
         "count": 1034,
         "id": "2661552",
         "name": "Bern"
        },
        {
         "count": 1019,
         "id": "4348599",
         "name": "Bethesda"
        },
        {
         "count": 1015,
         "id": "2946447",
         "name": "Bonn"
        },
        {
         "count": 995,
         "id": "2652586",
         "name": "Coleraine"
        },
        {
         "count": 985,
         "id": "1668341",
         "name": "Taipei"
        },
        {
         "count": 971,
         "id": "2751283",
         "name": "Maastricht"
        },
        {
         "count": 953,
         "id": "4839366",
         "name": "New Haven"
        },
        {
         "count": 953,
         "id": "5327684",
         "name": "Berkeley"
        },
        {
         "count": 939,
         "id": "993800",
         "name": "Johannesburg"
        },
        {
         "count": 936,
         "id": "3451190",
         "name": "Rio de Janeiro"
        },
        {
         "count": 931,
         "id": "2652087",
         "name": "Cranfield"
        },
        {
         "count": 926,
         "id": "2995469",
         "name": "Marseille"
        },
        {
         "count": 908,
         "id": "1790630",
         "name": "Xi’an"
        },
        {
         "count": 908,
         "id": "3170647",
         "name": "Pisa"
        },
        {
         "count": 906,
         "id": "3871336",
         "name": "Santiago"
        },
        {
         "count": 903,
         "id": "2636910",
         "name": "Stirling"
        },
        {
         "count": 900,
         "id": "3176959",
         "name": "Florence"
        },
        {
         "count": 882,
         "id": "7302802",
         "name": "Rondebosch"
        },
        {
         "count": 881,
         "id": "2972315",
         "name": "Toulouse"
        },
        {
         "count": 869,
         "id": "2647349",
         "name": "Hatfield"
        },
        {
         "count": 866,
         "id": "2886242",
         "name": "Köln"
        },
        {
         "count": 865,
         "id": "1815286",
         "name": "Chengdu"
        },
        {
         "count": 864,
         "id": "2646458",
         "name": "Huddersfield"
        },
        {
         "count": 858,
         "id": "112931",
         "name": "Tehran"
        },
        {
         "count": 853,
         "id": "2656397",
         "name": "Bangor"
        },
        {
         "count": 851,
         "id": "4509177",
         "name": "Columbus"
        },
        {
         "count": 847,
         "id": "3016078",
         "name": "Gif-sur-Yvette"
        },
        {
         "count": 844,
         "id": "3161732",
         "name": "Bergen"
        },
        {
         "count": 840,
         "id": "1609350",
         "name": "Bangkok"
        },
        {
         "count": 838,
         "id": "2639912",
         "name": "Preston"
        },
        {
         "count": 834,
         "id": "2640101",
         "name": "Poole"
        },
        {
         "count": 826,
         "id": "2996944",
         "name": "Lyon"
        },
        {
         "count": 824,
         "id": "5037649",
         "name": "Minneapolis"
        },
        {
         "count": 819,
         "id": "5574991",
         "name": "Boulder"
        },
        {
         "count": 808,
         "id": "3530597",
         "name": "Mexico City"
        },
        {
         "count": 805,
         "id": "745044",
         "name": "İstanbul"
        },
        {
         "count": 803,
         "id": "2155472",
         "name": "Newcastle"
        },
        {
         "count": 786,
         "id": "2654993",
         "name": "Bradford"
        },
        {
         "count": 786,
         "id": "5946768",
         "name": "Edmonton"
        },
        {
         "count": 781,
         "id": "3014728",
         "name": "Grenoble"
        },
        {
         "count": 778,
         "id": "5261457",
         "name": "Madison"
        },
        {
         "count": 776,
         "id": "2803138",
         "name": "Antwerpen"
        },
        {
         "count": 773,
         "id": "2644487",
         "name": "Lincoln"
        },
        {
         "count": 770,
         "id": "2935022",
         "name": "Dresden"
        },
        {
         "count": 765,
         "id": "1735161",
         "name": "Kuala Lumpur"
        },
        {
         "count": 765,
         "id": "5122432",
         "name": "Ithaca"
        },
        {
         "count": 761,
         "id": "4049979",
         "name": "Birmingham"
        },
        {
         "count": 752,
         "id": "2879139",
         "name": "Leipzig"
        },
        {
         "count": 746,
         "id": "323786",
         "name": "Ankara"
        },
        {
         "count": 743,
         "id": "1808926",
         "name": "Hangzhou"
        },
        {
         "count": 732,
         "id": "4407066",
         "name": "St. Louis"
        },
        {
         "count": 729,
         "id": "2918632",
         "name": "Göttingen"
        },
        {
         "count": 727,
         "id": "2820860",
         "name": "Tübingen"
        },
        {
         "count": 724,
         "id": "3171366",
         "name": "Pavia"
        },
        {
         "count": 717,
         "id": "2735943",
         "name": "Porto"
        },
        {
         "count": 713,
         "id": "2651347",
         "name": "Derby"
        },
        {
         "count": 705,
         "id": "1853909",
         "name": "Osaka"
        },
        {
         "count": 699,
         "id": "1261481",
         "name": "New Delhi"
        },
        {
         "count": 690,
         "id": "2509954",
         "name": "Valencia"
        },
        {
         "count": 690,
         "id": "3165185",
         "name": "Trieste"
        },
        {
         "count": 686,
         "id": "2925533",
         "name": "Frankfurt am Main"
        },
        {
         "count": 685,
         "id": "2992166",
         "name": "Montpellier"
        },
        {
         "count": 679,
         "id": "3186886",
         "name": "Zagreb"
        },
        {
         "count": 677,
         "id": "4891382",
         "name": "Evanston"
        },
        {
         "count": 674,
         "id": "184745",
         "name": "Nairobi"
        },
        {
         "count": 665,
         "id": "4460162",
         "name": "Chapel Hill"
        },
        {
         "count": 662,
         "id": "2874225",
         "name": "Mainz"
        },
        {
         "count": 661,
         "id": "3094802",
         "name": "Kraków"
        },
        {
         "count": 658,
         "id": "293397",
         "name": "Tel Aviv"
        },
        {
         "count": 653,
         "id": "734077",
         "name": "Thessaloníki"
        },
        {
         "count": 642,
         "id": "2989204",
         "name": "Orsay"
        },
        {
         "count": 638,
         "id": "4644585",
         "name": "Nashville"
        },
        {
         "count": 636,
         "id": "5102922",
         "name": "Princeton"
        },
        {
         "count": 631,
         "id": "5318313",
         "name": "Tucson"
        },
        {
         "count": 630,
         "id": "4156404",
         "name": "Gainesville"
        },
        {
         "count": 628,
         "id": "108410",
         "name": "Riyadh"
        },
        {
         "count": 624,
         "id": "5913490",
         "name": "Calgary"
        },
        {
         "count": 619,
         "id": "2910831",
         "name": "Hannover"
        },
        {
         "count": 615,
         "id": "2925177",
         "name": "Freiburg"
        },
        {
         "count": 609,
         "id": "5150529",
         "name": "Cleveland"
        },
        {
         "count": 607,
         "id": "5341704",
         "name": "Davis"
        },
        {
         "count": 604,
         "id": "3196359",
         "name": "Ljubljana"
        },
        {
         "count": 603,
         "id": "792680",
         "name": "Belgrade"
        },
        {
         "count": 600,
         "id": "1275339",
         "name": "Mumbai"
        },
        {
         "count": 599,
         "id": "3247449",
         "name": "Aachen"
        },
        {
         "count": 598,
         "id": "105343",
         "name": "Jeddah"
        },
        {
         "count": 597,
         "id": "1792947",
         "name": "Tianjin"
        },
        {
         "count": 588,
         "id": "2852458",
         "name": "Potsdam"
        },
        {
         "count": 585,
         "id": "1176615",
         "name": "Islamabad"
        },
        {
         "count": 585,
         "id": "3435910",
         "name": "Buenos Aires"
        },
        {
         "count": 581,
         "id": "2110683",
         "name": "Tsukuba"
        },
        {
         "count": 578,
         "id": "5381396",
         "name": "Pasadena"
        },
        {
         "count": 574,
         "id": "1857910",
         "name": "Kyoto"
        },
        {
         "count": 572,
         "id": "2892794",
         "name": "Karlsruhe"
        },
        {
         "count": 571,
         "id": "2633691",
         "name": "Wolverhampton"
        },
        {
         "count": 571,
         "id": "5043473",
         "name": "Rochester"
        },
        {
         "count": 570,
         "id": "3688689",
         "name": "Bogotá"
        },
        {
         "count": 569,
         "id": "2642607",
         "name": "Middlesbrough"
        },
        {
         "count": 569,
         "id": "360630",
         "name": "Cairo"
        },
        {
         "count": 567,
         "id": "290030",
         "name": "Doha"
        },
        {
         "count": 563,
         "id": "4351977",
         "name": "College Park"
        },
        {
         "count": 561,
         "id": "2792073",
         "name": "Louvain-la-Neuve"
        },
        {
         "count": 557,
         "id": "2615876",
         "name": "Odense"
        },
        {
         "count": 551,
         "id": "4684888",
         "name": "Dallas"
        },
        {
         "count": 549,
         "id": "2973783",
         "name": "Strasbourg"
        },
        {
         "count": 548,
         "id": "2867543",
         "name": "Münster"
        },
        {
         "count": 545,
         "id": "5969782",
         "name": "Hamilton"
        },
        {
         "count": 544,
         "id": "4671654",
         "name": "Austin"
        },
        {
         "count": 542,
         "id": "2757345",
         "name": "Delft"
        },
        {
         "count": 541,
         "id": "2657782",
         "name": "Aberystwyth"
        },
        {
         "count": 541,
         "id": "2775220",
         "name": "Innsbruck"
        },
        {
         "count": 538,
         "id": "683506",
         "name": "Bucharest"
        },
        {
         "count": 537,
         "id": "1818920",
         "name": "Sha Tin"
        },
        {
         "count": 537,
         "id": "3133880",
         "name": "Trondheim"
        },
        {
         "count": 534,
         "id": "2745088",
         "name": "Wageningen"
        },
        {
         "count": 531,
         "id": "1496747",
         "name": "Novosibirsk"
        },
        {
         "count": 531,
         "id": "4752031",
         "name": "Charlottesville"
        },
        {
         "count": 526,
         "id": "3031582",
         "name": "Bordeaux"
        },
        {
         "count": 525,
         "id": "5213681",
         "name": "State College"
        },
        {
         "count": 523,
         "id": "964137",
         "name": "Pretoria"
        },
        {
         "count": 515,
         "id": "5101717",
         "name": "New Brunswick"
        },
        {
         "count": 514,
         "id": "2517117",
         "name": "Granada"
        },
        {
         "count": 513,
         "id": "4862034",
         "name": "Iowa City"
        },
        {
         "count": 511,
         "id": "3182351",
         "name": "Bari"
        },
        {
         "count": 509,
         "id": "2778067",
         "name": "Graz"
        },
        {
         "count": 508,
         "id": "4508722",
         "name": "Cincinnati"
        },
        {
         "count": 507,
         "id": "2968705",
         "name": "Villejuif"
        },
        {
         "count": 503,
         "id": "2740637",
         "name": "Coimbra"
        },
        {
         "count": 503,
         "id": "498817",
         "name": "Saint Petersburg"
        },
        {
         "count": 499,
         "id": "602150",
         "name": "Umeå"
        },
        {
         "count": 497,
         "id": "1815577",
         "name": "Changsha"
        },
        {
         "count": 494,
         "id": "2965140",
         "name": "Cork"
        },
        {
         "count": 491,
         "id": "2636841",
         "name": "Stoke-on-Trent"
        },
        {
         "count": 490,
         "id": "1808722",
         "name": "Hefei"
        },
        {
         "count": 490,
         "id": "3165243",
         "name": "Trento"
        },
        {
         "count": 489,
         "id": "2510911",
         "name": "Sevilla"
        },
        {
         "count": 489,
         "id": "2634869",
         "name": "Wallingford"
        },
        {
         "count": 484,
         "id": "146268",
         "name": "Nicosia"
        },
        {
         "count": 484,
         "id": "6058560",
         "name": "London"
        },
        {
         "count": 482,
         "id": "2929567",
         "name": "Erlangen"
        },
        {
         "count": 481,
         "id": "633679",
         "name": "Turku"
        },
        {
         "count": 479,
         "id": "2657780",
         "name": "Abingdon"
        },
        {
         "count": 478,
         "id": "2968254",
         "name": "Villeurbanne"
        },
        {
         "count": 477,
         "id": "5359777",
         "name": "Irvine"
        },
        {
         "count": 476,
         "id": "3078610",
         "name": "Brno"
        },
        {
         "count": 474,
         "id": "1277333",
         "name": "Bengaluru"
        },
        {
         "count": 473,
         "id": "5134086",
         "name": "Rochester"
        },
        {
         "count": 471,
         "id": "2805615",
         "name": "Würzburg"
        },
        {
         "count": 470,
         "id": "4259418",
         "name": "Indianapolis"
        },
        {
         "count": 470,
         "id": "4991640",
         "name": "East Lansing"
        },
        {
         "count": 465,
         "id": "2643741",
         "name": "City of London"
        },
        {
         "count": 465,
         "id": "2891122",
         "name": "Kiel"
        },
        {
         "count": 464,
         "id": "4914570",
         "name": "Urbana"
        },
        {
         "count": 459,
         "id": "2655046",
         "name": "Box"
        },
        {
         "count": 456,
         "id": "2934246",
         "name": "Düsseldorf"
        },
        {
         "count": 455,
         "id": "2998324",
         "name": "Lille"
        },
        {
         "count": 450,
         "id": "2525068",
         "name": "Catania"
        },
        {
         "count": 450,
         "id": "2640677",
         "name": "Paisley"
        },
        {
         "count": 449,
         "id": "2920512",
         "name": "Gießen"
        },
        {
         "count": 448,
         "id": "294801",
         "name": "Haifa"
        },
        {
         "count": 448,
         "id": "5780993",
         "name": "Salt Lake City"
        },
        {
         "count": 447,
         "id": "2037013",
         "name": "Harbin"
        },
        {
         "count": 447,
         "id": "4682464",
         "name": "College Station"
        },
        {
         "count": 442,
         "id": "5392952",
         "name": "Santa Barbara"
        },
        {
         "count": 439,
         "id": "2191562",
         "name": "Dunedin"
        },
        {
         "count": 439,
         "id": "2895044",
         "name": "Jena"
        },
        {
         "count": 439,
         "id": "4634946",
         "name": "Knoxville"
        },
        {
         "count": 434,
         "id": "727011",
         "name": "Sofia"
        },
        {
         "count": 432,
         "id": "5746545",
         "name": "Portland"
        },
        {
         "count": 431,
         "id": "2618468",
         "name": "Kongens Lyngby"
        },
        {
         "count": 431,
         "id": "2640908",
         "name": "Ormskirk"
        },
        {
         "count": 431,
         "id": "2928810",
         "name": "Essen"
        },
        {
         "count": 430,
         "id": "3369157",
         "name": "Cape Town"
        },
        {
         "count": 427,
         "id": "5224151",
         "name": "Providence"
        },
        {
         "count": 423,
         "id": "2964180",
         "name": "Gaillimh"
        },
        {
         "count": 422,
         "id": "1264527",
         "name": "Chennai"
        },
        {
         "count": 422,
         "id": "703448",
         "name": "Kyiv"
        },
        {
         "count": 415,
         "id": "1275004",
         "name": "Kolkata"
        },
        {
         "count": 413,
         "id": "3133895",
         "name": "Tromsø"
        },
        {
         "count": 411,
         "id": "3176589",
         "name": "Frascati"
        },
        {
         "count": 410,
         "id": "5992500",
         "name": "Kingston"
        },
        {
         "count": 406,
         "id": "2165798",
         "name": "Geelong"
        },
        {
         "count": 404,
         "id": "2624886",
         "name": "Aalborg"
        },
        {
         "count": 402,
         "id": "1795565",
         "name": "Shenzhen"
        },
        {
         "count": 402,
         "id": "3171180",
         "name": "Perugia"
        },
        {
         "count": 401,
         "id": "4990729",
         "name": "Detroit"
        },
        {
         "count": 400,
         "id": "2653228",
         "name": "Chester"
        },
        {
         "count": 395,
         "id": "5110629",
         "name": "Buffalo"
        },
        {
         "count": 393,
         "id": "2641430",
         "name": "Northampton"
        },
        {
         "count": 390,
         "id": "3452925",
         "name": "Porto Alegre"
        },
        {
         "count": 390,
         "id": "561887",
         "name": "Gatchina"
        },
        {
         "count": 389,
         "id": "4928096",
         "name": "West Lafayette"
        },
        {
         "count": 389,
         "id": "6325494",
         "name": "Québec"
        },
        {
         "count": 388,
         "id": "6174041",
         "name": "Victoria"
        },
        {
         "count": 385,
         "id": "4164138",
         "name": "Miami"
        },
        {
         "count": 383,
         "id": "1805753",
         "name": "Jinan"
        },
        {
         "count": 382,
         "id": "1797929",
         "name": "Qingdao"
        },
        {
         "count": 381,
         "id": "1856057",
         "name": "Nagoya"
        },
        {
         "count": 381,
         "id": "2636389",
         "name": "Swindon"
        },
        {
         "count": 378,
         "id": "1489425",
         "name": "Tomsk"
        },
        {
         "count": 377,
         "id": "3060972",
         "name": "Bratislava"
        },
        {
         "count": 374,
         "id": "3467865",
         "name": "Campinas"
        },
        {
         "count": 373,
         "id": "2990969",
         "name": "Nantes"
        },
        {
         "count": 368,
         "id": "2163355",
         "name": "Hobart"
        },
        {
         "count": 363,
         "id": "2645460",
         "name": "Kings Langley"
        },
        {
         "count": 360,
         "id": "2643339",
         "name": "Luton"
        },
        {
         "count": 360,
         "id": "564719",
         "name": "Dubna"
        },
        {
         "count": 357,
         "id": "6324729",
         "name": "Halifax"
        },
        {
         "count": 355,
         "id": "3361025",
         "name": "Stellenbosch"
        },
        {
         "count": 354,
         "id": "3164527",
         "name": "Verona"
        },
        {
         "count": 352,
         "id": "2192362",
         "name": "Christchurch"
        },
        {
         "count": 352,
         "id": "261779",
         "name": "Ioánnina"
        },
        {
         "count": 352,
         "id": "281184",
         "name": "Jerusalem"
        },
        {
         "count": 352,
         "id": "593116",
         "name": "Vilnius"
        },
        {
         "count": 351,
         "id": "1835235",
         "name": "Daejeon"
        },
        {
         "count": 350,
         "id": "3114711",
         "name": "Oviedo"
        },
        {
         "count": 349,
         "id": "2792413",
         "name": "Liège"
        },
        {
         "count": 349,
         "id": "2988758",
         "name": "Palaiseau"
        },
        {
         "count": 348,
         "id": "5139865",
         "name": "Stony Brook"
        },
        {
         "count": 348,
         "id": "611717",
         "name": "Tbilisi"
        },
        {
         "count": 345,
         "id": "2640104",
         "name": "Pontypridd"
        },
        {
         "count": 341,
         "id": "625144",
         "name": "Minsk"
        },
        {
         "count": 340,
         "id": "1814906",
         "name": "Chongqing"
        },
        {
         "count": 340,
         "id": "616052",
         "name": "Yerevan"
        },
        {
         "count": 339,
         "id": "1185241",
         "name": "Dhaka"
        },
        {
         "count": 339,
         "id": "2647451",
         "name": "Harpenden"
        },
        {
         "count": 336,
         "id": "2983990",
         "name": "Rennes"
        },
        {
         "count": 336,
         "id": "4174715",
         "name": "Tallahassee"
        },
        {
         "count": 335,
         "id": "4145381",
         "name": "Wilmington"
        },
        {
         "count": 334,
         "id": "2938913",
         "name": "Darmstadt"
        },
        {
         "count": 333,
         "id": "232422",
         "name": "Kampala"
        },
        {
         "count": 331,
         "id": "5911606",
         "name": "Burnaby"
        },
        {
         "count": 330,
         "id": "3413829",
         "name": "Reykjavík"
        },
        {
         "count": 329,
         "id": "1259229",
         "name": "Pune"
        },
        {
         "count": 328,
         "id": "2944388",
         "name": "Bremen"
        },
        {
         "count": 328,
         "id": "3114472",
         "name": "Pamplona"
        },
        {
         "count": 328,
         "id": "6176823",
         "name": "Waterloo"
        },
        {
         "count": 326,
         "id": "5393052",
         "name": "Santa Cruz"
        },
        {
         "count": 325,
         "id": "2922582",
         "name": "Garching bei München"
        },
        {
         "count": 324,
         "id": "643492",
         "name": "Oulu"
        },
        {
         "count": 322,
         "id": "1007311",
         "name": "Durban"
        },
        {
         "count": 317,
         "id": "3109718",
         "name": "Santander"
        },
        {
         "count": 316,
         "id": "5372223",
         "name": "Menlo Park"
        },
        {
         "count": 316,
         "id": "5412347",
         "name": "Aurora"
        },
        {
         "count": 315,
         "id": "2658120",
         "name": "Villigen"
        },
        {
         "count": 315,
         "id": "2947416",
         "name": "Bochum"
        },
        {
         "count": 314,
         "id": "4174757",
         "name": "Tampa"
        },
        {
         "count": 314,
         "id": "4254679",
         "name": "Bloomington"
        },
        {
         "count": 313,
         "id": "3024635",
         "name": "Clermont-Ferrand"
        },
        {
         "count": 313,
         "id": "3181554",
         "name": "Brescia"
        },
        {
         "count": 312,
         "id": "2694762",
         "name": "Linköping"
        },
        {
         "count": 310,
         "id": "2742032",
         "name": "Braga"
        },
        {
         "count": 310,
         "id": "5317058",
         "name": "Tempe"
        },
        {
         "count": 309,
         "id": "2636531",
         "name": "Sunderland"
        },
        {
         "count": 308,
         "id": "3109642",
         "name": "Santiago de Compostela"
        },
        {
         "count": 308,
         "id": "4943629",
         "name": "Medford"
        },
        {
         "count": 307,
         "id": "4726206",
         "name": "San Antonio"
        },
        {
         "count": 305,
         "id": "4367175",
         "name": "Rockville"
        },
        {
         "count": 304,
         "id": "4929023",
         "name": "Amherst Center"
        },
        {
         "count": 301,
         "id": "2825297",
         "name": "Stuttgart"
        },
        {
         "count": 300,
         "id": "2633563",
         "name": "Worcester"
        },
        {
         "count": 300,
         "id": "5454711",
         "name": "Albuquerque"
        },
        {
         "count": 297,
         "id": "3104324",
         "name": "Zaragoza"
        },
        {
         "count": 297,
         "id": "4899581",
         "name": "Lemont"
        },
        {
         "count": 297,
         "id": "5367440",
         "name": "Livermore"
        },
        {
         "count": 296,
         "id": "1863967",
         "name": "Fukuoka"
        },
        {
         "count": 296,
         "id": "6696918",
         "name": "Taoyuan City"
        },
        {
         "count": 295,
         "id": "504576",
         "name": "Protvino"
        },
        {
         "count": 293,
         "id": "2820256",
         "name": "Ulm"
        },
        {
         "count": 291,
         "id": "588335",
         "name": "Tartu"
        },
        {
         "count": 290,
         "id": "2306104",
         "name": "Accra"
        },
        {
         "count": 288,
         "id": "588409",
         "name": "Tallinn"
        },
        {
         "count": 285,
         "id": "2757783",
         "name": "De Bilt"
        },
        {
         "count": 285,
         "id": "4274277",
         "name": "Lawrence"
        },
        {
         "count": 285,
         "id": "721472",
         "name": "Debrecen"
        },
        {
         "count": 284,
         "id": "4151871",
         "name": "Coral Gables"
        },
        {
         "count": 284,
         "id": "5419384",
         "name": "Denver"
        },
        {
         "count": 282,
         "id": "1859171",
         "name": "Kobe"
        },
        {
         "count": 282,
         "id": "2935517",
         "name": "Dortmund"
        },
        {
         "count": 279,
         "id": "1274746",
         "name": "Chandigarh"
        },
        {
         "count": 279,
         "id": "4846834",
         "name": "Ames"
        },
        {
         "count": 278,
         "id": "3088171",
         "name": "Poznań"
        },
        {
         "count": 278,
         "id": "3177090",
         "name": "Ferrara"
        },
        {
         "count": 278,
         "id": "4356847",
         "name": "Greenbelt"
        },
        {
         "count": 276,
         "id": "3081368",
         "name": "Wrocław"
        },
        {
         "count": 275,
         "id": "2111149",
         "name": "Sendai"
        },
        {
         "count": 274,
         "id": "5856195",
         "name": "Honolulu"
        },
        {
         "count": 273,
         "id": "1886760",
         "name": "Suzhou"
        },
        {
         "count": 271,
         "id": "1835329",
         "name": "Daegu"
        },
        {
         "count": 271,
         "id": "2513416",
         "name": "Murcia"
        },
        {
         "count": 270,
         "id": "2034937",
         "name": "Shenyang"
        },
        {
         "count": 270,
         "id": "2742611",
         "name": "Aveiro"
        },
        {
         "count": 270,
         "id": "3166548",
         "name": "Siena"
        },
        {
         "count": 270,
         "id": "3171457",
         "name": "Parma"
        },
        {
         "count": 270,
         "id": "5263045",
         "name": "Milwaukee"
        },
        {
         "count": 270,
         "id": "5387877",
         "name": "Riverside"
        },
        {
         "count": 270,
         "id": "650224",
         "name": "Kuopio"
        },
        {
         "count": 269,
         "id": "2633858",
         "name": "Winchester"
        },
        {
         "count": 265,
         "id": "1814087",
         "name": "Dalian"
        },
        {
         "count": 265,
         "id": "8469294",
         "name": "Notre Dame"
        },
        {
         "count": 264,
         "id": "2151650",
         "name": "Richmond"
        },
        {
         "count": 264,
         "id": "2844588",
         "name": "Rostock"
        },
        {
         "count": 264,
         "id": "4954380",
         "name": "Waltham"
        },
        {
         "count": 262,
         "id": "3165072",
         "name": "Udine"
        },
        {
         "count": 262,
         "id": "3190261",
         "name": "Split"
        },
        {
         "count": 261,
         "id": "293788",
         "name": "Ramat Gan"
        },
        {
         "count": 260,
         "id": "634963",
         "name": "Tampere"
        },
        {
         "count": 259,
         "id": "2179537",
         "name": "Wellington"
        },
        {
         "count": 258,
         "id": "2656192",
         "name": "Basingstoke"
        },
        {
         "count": 258,
         "id": "2873891",
         "name": "Mannheim"
        },
        {
         "count": 258,
         "id": "3469058",
         "name": "Brasília"
        },
        {
         "count": 258,
         "id": "4884192",
         "name": "Batavia"
        },
        {
         "count": 257,
         "id": "6183235",
         "name": "Winnipeg"
        },
        {
         "count": 256,
         "id": "2038180",
         "name": "Changchun"
        },
        {
         "count": 256,
         "id": "2146142",
         "name": "Townsville"
        },
        {
         "count": 256,
         "id": "2756253",
         "name": "Eindhoven"
        },
        {
         "count": 256,
         "id": "4646571",
         "name": "Oak Ridge"
        },
        {
         "count": 255,
         "id": "293725",
         "name": "Reẖovot"
        },
        {
         "count": 252,
         "id": "1581130",
         "name": "Hanoi"
        },
        {
         "count": 252,
         "id": "3118554",
         "name": "Leioa"
        },
        {
         "count": 252,
         "id": "706483",
         "name": "Kharkiv"
        },
        {
         "count": 251,
         "id": "1799397",
         "name": "Ningbo"
        },
        {
         "count": 251,
         "id": "2945024",
         "name": "Braunschweig"
        },
        {
         "count": 250,
         "id": "2648404",
         "name": "Gloucester"
        },
        {
         "count": 250,
         "id": "2756071",
         "name": "Enschede"
        },
        {
         "count": 250,
         "id": "3173331",
         "name": "Modena"
        },
        {
         "count": 250,
         "id": "565614",
         "name": "Dolgoprudnyy"
        },
        {
         "count": 249,
         "id": "1172451",
         "name": "Lahore"
        },
        {
         "count": 249,
         "id": "2525473",
         "name": "Cagliari"
        },
        {
         "count": 248,
         "id": "2511174",
         "name": "Santa Cruz de Tenerife"
        },
        {
         "count": 248,
         "id": "2990999",
         "name": "Nancy"
        },
        {
         "count": 248,
         "id": "3652462",
         "name": "Quito"
        },
        {
         "count": 247,
         "id": "1862415",
         "name": "Hiroshima"
        },
        {
         "count": 246,
         "id": "1790645",
         "name": "Xiamen"
        },
        {
         "count": 246,
         "id": "292968",
         "name": "Abu Dhabi"
        },
        {
         "count": 246,
         "id": "344979",
         "name": "Addis Ababa"
        },
        {
         "count": 245,
         "id": "3166601",
         "name": "Sesto Fiorentino"
        },
        {
         "count": 244,
         "id": "1675151",
         "name": "Hsinchu"
        },
        {
         "count": 244,
         "id": "2917788",
         "name": "Greifswald"
        },
        {
         "count": 244,
         "id": "3936456",
         "name": "Lima"
        },
        {
         "count": 243,
         "id": "5072006",
         "name": "Lincoln"
        },
        {
         "count": 242,
         "id": "255683",
         "name": "Pátra"
        },
        {
         "count": 240,
         "id": "2653261",
         "name": "Cheltenham"
        },
        {
         "count": 240,
         "id": "2676176",
         "name": "Södertälje"
        },
        {
         "count": 237,
         "id": "1566083",
         "name": "Ho Chi Minh City"
        },
        {
         "count": 237,
         "id": "2894553",
         "name": "Jülich"
        },
        {
         "count": 237,
         "id": "5378538",
         "name": "Oakland"
        },
        {
         "count": 236,
         "id": "2512862",
         "name": "Paterna"
        },
        {
         "count": 236,
         "id": "5106834",
         "name": "Albany"
        },
        {
         "count": 234,
         "id": "2523920",
         "name": "Palermo"
        },
        {
         "count": 234,
         "id": "5525577",
         "name": "Lubbock"
        },
        {
         "count": 232,
         "id": "2514256",
         "name": "Málaga"
        },
        {
         "count": 232,
         "id": "2637627",
         "name": "Slough"
        },
        {
         "count": 232,
         "id": "3868626",
         "name": "Valparaíso"
        },
        {
         "count": 232,
         "id": "5725846",
         "name": "Eugene"
        },
        {
         "count": 231,
         "id": "2962943",
         "name": "Luimneach"
        },
        {
         "count": 230,
         "id": "3093133",
         "name": "Łódź"
        },
        {
         "count": 229,
         "id": "1269843",
         "name": "Hyderabad"
        },
        {
         "count": 229,
         "id": "1275817",
         "name": "Bhubaneshwar"
        },
        {
         "count": 228,
         "id": "2634739",
         "name": "Warrington"
        },
        {
         "count": 228,
         "id": "3449701",
         "name": "Santo André"
        },
        {
         "count": 228,
         "id": "3470127",
         "name": "Belo Horizonte"
        },
        {
         "count": 227,
         "id": "2636940",
         "name": "Stevenage"
        },
        {
         "count": 227,
         "id": "4274994",
         "name": "Manhattan"
        },
        {
         "count": 226,
         "id": "681290",
         "name": "Cluj-Napoca"
        },
        {
         "count": 223,
         "id": "1841811",
         "name": "Gwangju"
        },
        {
         "count": 223,
         "id": "2190324",
         "name": "Hamilton"
        },
        {
         "count": 223,
         "id": "2638664",
         "name": "Salisbury"
        },
        {
         "count": 223,
         "id": "2643490",
         "name": "Lowestoft"
        },
        {
         "count": 221,
         "id": "3069011",
         "name": "Olomouc"
        },
        {
         "count": 221,
         "id": "5100007",
         "name": "Kenilworth"
        },
        {
         "count": 219,
         "id": "4487042",
         "name": "Raleigh"
        },
        {
         "count": 219,
         "id": "5142042"
        },
        {
         "count": 215,
         "id": "1856177",
         "name": "Nagasaki"
        },
        {
         "count": 215,
         "id": "4543762",
         "name": "Norman"
        },
        {
         "count": 214,
         "id": "276781",
         "name": "Beirut"
        },
        {
         "count": 212,
         "id": "4641239",
         "name": "Memphis"
        },
        {
         "count": 211,
         "id": "1174872",
         "name": "Karachi"
        },
        {
         "count": 210,
         "id": "2634677",
         "name": "Watford"
        },
        {
         "count": 209,
         "id": "2646088",
         "name": "Inverness"
        },
        {
         "count": 209,
         "id": "2655095",
         "name": "Bournemouth"
        },
        {
         "count": 209,
         "id": "5577147",
         "name": "Fort Collins"
        },
        {
         "count": 208,
         "id": "2911522",
         "name": "Halle (Saale)"
        },
        {
         "count": 208,
         "id": "3521081",
         "name": "Puebla"
        },
        {
         "count": 207,
         "id": "2747373",
         "name": "The Hague"
        },
        {
         "count": 207,
         "id": "5363943",
         "name": "La Jolla"
        },
        {
         "count": 207,
         "id": "655194",
         "name": "Jyväskylä"
        },
        {
         "count": 205,
         "id": "2171507",
         "name": "Wollongong"
        },
        {
         "count": 204,
         "id": "2849483",
         "name": "Regensburg"
        },
        {
         "count": 203,
         "id": "5476825",
         "name": "Los Alamos"
        },
        {
         "count": 201,
         "id": "2960316",
         "name": "Luxembourg"
        },
        {
         "count": 200,
         "id": "1784658",
         "name": "Zhengzhou"
        },
        {
         "count": 200,
         "id": "660158",
         "name": "Espoo"
        },
        {
         "count": 199,
         "id": "4440076",
         "name": "Oxford"
        },
        {
         "count": 196,
         "id": "1804651",
         "name": "Kunming"
        },
        {
         "count": 196,
         "id": "2524907",
         "name": "Cosenza"
        },
        {
         "count": 196,
         "id": "2562698",
         "name": "Imsida"
        },
        {
         "count": 195,
         "id": "3174953",
         "name": "Lecce"
        },
        {
         "count": 194,
         "id": "4094455",
         "name": "Tuscaloosa"
        },
        {
         "count": 194,
         "id": "456172",
         "name": "Riga"
        },
        {
         "count": 193,
         "id": "5223593",
         "name": "Newport"
        },
        {
         "count": 192,
         "id": "2635412",
         "name": "Truro"
        },
        {
         "count": 192,
         "id": "2990440",
         "name": "Nice"
        },
        {
         "count": 192,
         "id": "311046",
         "name": "İzmir"
        },
        {
         "count": 192,
         "id": "4722625",
         "name": "Richardson"
        },
        {
         "count": 192,
         "id": "4739526",
         "name": "Waco"
        },
        {
         "count": 191,
         "id": "2641598",
         "name": "Newport"
        },
        {
         "count": 191,
         "id": "2873759",
         "name": "Marburg an der Lahn"
        },
        {
         "count": 191,
         "id": "5140405",
         "name": "Syracuse"
        },
        {
         "count": 190,
         "id": "1854383",
         "name": "Okayama"
        },
        {
         "count": 189,
         "id": "3170027",
         "name": "Potenza"
        },
        {
         "count": 189,
         "id": "4781708",
         "name": "Richmond"
        },
        {
         "count": 189,
         "id": "724443",
         "name": "Košice"
        },
        {
         "count": 188,
         "id": "2633709",
         "name": "Woking"
        },
        {
         "count": 188,
         "id": "4747845",
         "name": "Blacksburg"
        },
        {
         "count": 187,
         "id": "5720727",
         "name": "Corvallis"
        },
        {
         "count": 184,
         "id": "2128295",
         "name": "Sapporo"
        },
        {
         "count": 184,
         "id": "254352",
         "name": "Rethymno"
        },
        {
         "count": 184,
         "id": "4297983",
         "name": "Lexington"
        },
        {
         "count": 184,
         "id": "5102076",
         "name": "Nutley"
        },
        {
         "count": 183,
         "id": "2653192",
         "name": "Chichester"
        },
        {
         "count": 183,
         "id": "3128026",
         "name": "Bilbao"
        },
        {
         "count": 183,
         "id": "890299",
         "name": "Harare"
        },
        {
         "count": 182,
         "id": "418863",
         "name": "Isfahan"
        },
        {
         "count": 181,
         "id": "124665",
         "name": "Mashhad"
        },
        {
         "count": 181,
         "id": "2875601",
         "name": "Lübeck"
        },
        {
         "count": 181,
         "id": "3137115",
         "name": "Stavanger"
        },
        {
         "count": 181,
         "id": "325363",
         "name": "Adana"
        },
        {
         "count": 180,
         "id": "2766824",
         "name": "Salzburg"
        },
        {
         "count": 180,
         "id": "3164565",
         "name": "Vercelli"
        },
        {
         "count": 180,
         "id": "3176949",
         "name": "Fisciano"
        },
        {
         "count": 179,
         "id": "5363859",
         "name": "La Cañada Flintridge"
        },
        {
         "count": 178,
         "id": "1907300",
         "name": "Wako"
        },
        {
         "count": 178,
         "id": "4574324",
         "name": "Charleston"
        },
        {
         "count": 178,
         "id": "4671240",
         "name": "Arlington"
        },
        {
         "count": 177,
         "id": "2805753",
         "name": "Wuppertal"
        },
        {
         "count": 177,
         "id": "3175406",
         "name": "Ispra"
        },
        {
         "count": 177,
         "id": "360995",
         "name": "Giza"
        },
        {
         "count": 177,
         "id": "4956184",
         "name": "Worcester"
        },
        {
         "count": 177,
         "id": "648900",
         "name": "Lappeenranta"
        },
        {
         "count": 176,
         "id": "2657676",
         "name": "Addlestone"
        },
        {
         "count": 176,
         "id": "4315588",
         "name": "Baton Rouge"
        },
        {
         "count": 175,
         "id": "2746301",
         "name": "Tilburg"
        },
        {
         "count": 173,
         "id": "1283240",
         "name": "Kathmandu"
        },
        {
         "count": 173,
         "id": "4180386",
         "name": "Athens"
        },
        {
         "count": 173,
         "id": "4499612",
         "name": "Winston-Salem"
        },
        {
         "count": 172,
         "id": "2646057",
         "name": "Ipswich"
        },
        {
         "count": 171,
         "id": "3021372",
         "name": "Dijon"
        },
        {
         "count": 171,
         "id": "5110266",
         "name": "The Bronx"
        },
        {
         "count": 170,
         "id": "2655237",
         "name": "Bolton"
        },
        {
         "count": 170,
         "id": "2978317",
         "name": "Saint-Martin-d’Hères"
        },
        {
         "count": 170,
         "id": "3037540",
         "name": "Annecy-le-Vieux"
        },
        {
         "count": 170,
         "id": "3110044",
         "name": "Donostia / San Sebastián"
        },
        {
         "count": 170,
         "id": "4355843",
         "name": "Gaithersburg"
        },
        {
         "count": 169,
         "id": "3099434",
         "name": "Gdańsk"
        },
        {
         "count": 169,
         "id": "4369596",
         "name": "Silver Spring"
        },
        {
         "count": 168,
         "id": "2660718",
         "name": "Fribourg"
        },
        {
         "count": 167,
         "id": "3432043",
         "name": "La Plata"
        },
        {
         "count": 167,
         "id": "4552215",
         "name": "Stillwater"
        },
        {
         "count": 166,
         "id": "5074472",
         "name": "Omaha"
        },
        {
         "count": 165,
         "id": "1642911",
         "name": "Jakarta"
        },
        {
         "count": 165,
         "id": "2686657",
         "name": "Örebro"
        },
        {
         "count": 165,
         "id": "5380748",
         "name": "Palo Alto"
        },
        {
         "count": 163,
         "id": "2639093",
         "name": "Rotherham"
        },
        {
         "count": 163,
         "id": "3033123",
         "name": "Besançon"
        },
        {
         "count": 161,
         "id": "160263",
         "name": "Dar es Salaam"
        },
        {
         "count": 161,
         "id": "1804430",
         "name": "Lanzhou"
        },
        {
         "count": 160,
         "id": "1810821",
         "name": "Fuzhou"
        },
        {
         "count": 160,
         "id": "2796491",
         "name": "Hasselt"
        },
        {
         "count": 160,
         "id": "587084",
         "name": "Baku"
        },
        {
         "count": 159,
         "id": "3183089",
         "name": "Ancona"
        },
        {
         "count": 159,
         "id": "4163971",
         "name": "Melbourne"
        },
        {
         "count": 158,
         "id": "2185018",
         "name": "Palmerston North"
        },
        {
         "count": 158,
         "id": "2832495",
         "name": "Siegen"
        },
        {
         "count": 158,
         "id": "3168837",
         "name": "Rozzano"
        },
        {
         "count": 158,
         "id": "665087",
         "name": "Timişoara"
        },
        {
         "count": 157,
         "id": "2636331",
         "name": "Tadworth"
        },
        {
         "count": 157,
         "id": "3985606",
         "name": "San Luis Potosí"
        },
        {
         "count": 157,
         "id": "675810",
         "name": "Iaşi"
        },
        {
         "count": 157,
         "id": "923295",
         "name": "Zomba"
        },
        {
         "count": 156,
         "id": "1848354",
         "name": "Yokohama"
        },
        {
         "count": 156,
         "id": "2153770",
         "name": "Parkville"
        },
        {
         "count": 156,
         "id": "2874545",
         "name": "Magdeburg"
        },
        {
         "count": 155,
         "id": "3022530",
         "name": "Créteil"
        },
        {
         "count": 155,
         "id": "4744709",
         "name": "Arlington"
        },
        {
         "count": 154,
         "id": "4566385",
         "name": "Mayagüez"
        },
        {
         "count": 153,
         "id": "2538475",
         "name": "Rabat"
        },
        {
         "count": 153,
         "id": "295530",
         "name": "Beersheba"
        },
        {
         "count": 153,
         "id": "3178796",
         "name": "Chieti"
        },
        {
         "count": 152,
         "id": "3029241",
         "name": "Caen"
        },
        {
         "count": 152,
         "id": "683844",
         "name": "Braşov"
        },
        {
         "count": 151,
         "id": "2339354",
         "name": "Ibadan"
        },
        {
         "count": 149,
         "id": "2641217",
         "name": "Northwood"
        },
        {
         "count": 149,
         "id": "4335045",
         "name": "New Orleans"
        },
        {
         "count": 148,
         "id": "2524170",
         "name": "Messina"
        },
        {
         "count": 148,
         "id": "2972191",
         "name": "Tours"
        },
        {
         "count": 148,
         "id": "4167147",
         "name": "Orlando"
        },
        {
         "count": 147,
         "id": "2519240",
         "name": "Córdoba"
        },
        {
         "count": 146,
         "id": "1793511",
         "name": "Taiyuan"
        },
        {
         "count": 146,
         "id": "2113015",
         "name": "Chiba"
        },
        {
         "count": 146,
         "id": "2635042",
         "name": "Uxbridge"
        },
        {
         "count": 146,
         "id": "2661039",
         "name": "Davos"
        },
        {
         "count": 146,
         "id": "4575352",
         "name": "Columbia"
        },
        {
         "count": 146,
         "id": "5234372",
         "name": "Burlington"
        },
        {
         "count": 146,
         "id": "964349",
         "name": "Potchefstroom"
        },
        {
         "count": 145,
         "id": "2188371",
         "name": "Lincoln"
        },
        {
         "count": 145,
         "id": "2553604",
         "name": "Casablanca"
        },
        {
         "count": 145,
         "id": "4299276",
         "name": "Louisville"
        },
        {
         "count": 145,
         "id": "98182",
         "name": "Baghdad"
        },
        {
         "count": 144,
         "id": "1857519",
         "name": "Matsumoto"
        },
        {
         "count": 144,
         "id": "2633521",
         "name": "Worthing"
        },
        {
         "count": 144,
         "id": "5967629",
         "name": "Guelph"
        },
        {
         "count": 143,
         "id": "1732752",
         "name": "Johor Bahru"
        },
        {
         "count": 143,
         "id": "361058",
         "name": "Alexandria"
        },
        {
         "count": 143,
         "id": "5313457",
         "name": "Scottsdale"
        },
        {
         "count": 142,
         "id": "3459505",
         "name": "Juiz de Fora"
        },
        {
         "count": 142,
         "id": "3464975",
         "name": "Curitiba"
        },
        {
         "count": 142,
         "id": "715429",
         "name": "Szeged"
        },
        {
         "count": 141,
         "id": "2636177",
         "name": "Taunton"
        },
        {
         "count": 141,
         "id": "2652730",
         "name": "Clydebank"
        },
        {
         "count": 141,
         "id": "3179866",
         "name": "Caserta"
        },
        {
         "count": 140,
         "id": "2634552",
         "name": "Welwyn Garden City"
        },
        {
         "count": 140,
         "id": "4843786",
         "name": "Storrs"
        },
        {
         "count": 139,
         "id": "4781530",
         "name": "Reston"
        },
        {
         "count": 139,
         "id": "4889553",
         "name": "DeKalb"
        },
        {
         "count": 139,
         "id": "5375480",
         "name": "Mountain View"
        },
        {
         "count": 138,
         "id": "3105976",
         "name": "Vigo"
        },
        {
         "count": 137,
         "id": "2949186",
         "name": "Bielefeld"
        },
        {
         "count": 136,
         "id": "1668399",
         "name": "Taichung"
        },
        {
         "count": 136,
         "id": "5308655",
         "name": "Phoenix"
        },
        {
         "count": 134,
         "id": "2842647",
         "name": "Saarbrücken"
        },
        {
         "count": 134,
         "id": "2944368",
         "name": "Bremerhaven"
        },
        {
         "count": 133,
         "id": "251833",
         "name": "Volos"
        },
        {
         "count": 133,
         "id": "2649052",
         "name": "Frimley"
        },
        {
         "count": 133,
         "id": "2885679",
         "name": "Konstanz"
        },
        {
         "count": 133,
         "id": "4762894",
         "name": "Hampton"
        },
        {
         "count": 132,
         "id": "2511401",
         "name": "La Laguna"
        },
        {
         "count": 132,
         "id": "2660971",
         "name": "Dübendorf"
        },
        {
         "count": 132,
         "id": "292223",
         "name": "Dubai"
        },
        {
         "count": 132,
         "id": "3441575",
         "name": "Montevideo"
        },
        {
         "count": 132,
         "id": "3893894",
         "name": "Concepción"
        },
        {
         "count": 132,
         "id": "6141256",
         "name": "Saskatoon"
        },
        {
         "count": 131,
         "id": "2220957",
         "name": "Yaoundé"
        },
        {
         "count": 131,
         "id": "6324733",
         "name": "St. John's"
        },
        {
         "count": 130,
         "id": "3464688",
         "name": "Divinópolis"
        },
        {
         "count": 129,
         "id": "10630003",
         "name": "Xuzhou"
        },
        {
         "count": 129,
         "id": "931755",
         "name": "Blantyre"
        },
        {
         "count": 128,
         "id": "1253286",
         "name": "Vellore"
        },
        {
         "count": 128,
         "id": "1838524",
         "name": "Busan"
        },
        {
         "count": 128,
         "id": "250441",
         "name": "Amman"
        },
        {
         "count": 128,
         "id": "2861650",
         "name": "Nürnberg"
        },
        {
         "count": 127,
         "id": "1845457",
         "name": "Jeonju"
        },
        {
         "count": 127,
         "id": "2646914",
         "name": "High Wycombe"
        },
        {
         "count": 127,
         "id": "2653266",
         "name": "Chelmsford"
        },
        {
         "count": 127,
         "id": "3027422",
         "name": "Chambéry"
        },
        {
         "count": 127,
         "id": "3108288",
         "name": "Tarragona"
        },
        {
         "count": 127,
         "id": "3175121",
         "name": "L'Aquila"
        },
        {
         "count": 127,
         "id": "4381982",
         "name": "Columbia"
        },
        {
         "count": 126,
         "id": "3111108",
         "name": "Salamanca"
        },
        {
         "count": 125,
         "id": "2542997",
         "name": "Marrakesh"
        },
        {
         "count": 125,
         "id": "2634894",
         "name": "Wales"
        },
        {
         "count": 125,
         "id": "285787",
         "name": "Kuwait City"
        },
        {
         "count": 125,
         "id": "314830",
         "name": "Gaziantep"
        },
        {
         "count": 124,
         "id": "261745",
         "name": "Irákleion"
        },
        {
         "count": 124,
         "id": "2878234",
         "name": "Leverkusen"
        },
        {
         "count": 123,
         "id": "2643266",
         "name": "Macclesfield"
        },
        {
         "count": 123,
         "id": "3182164",
         "name": "Bergamo"
        },
        {
         "count": 123,
         "id": "5807540",
         "name": "Pullman"
        },
        {
         "count": 122,
         "id": "1000501",
         "name": "Grahamstown"
        },
        {
         "count": 122,
         "id": "2649692",
         "name": "Fareham"
        },
        {
         "count": 122,
         "id": "2802435",
         "name": "Beerse"
        },
        {
         "count": 122,
         "id": "3450554",
         "name": "Salvador"
        },
        {
         "count": 121,
         "id": "1248991",
         "name": "Colombo"
        },
        {
         "count": 121,
         "id": "2962668",
         "name": "Maynooth"
        },
        {
         "count": 121,
         "id": "3463237",
         "name": "Florianópolis"
        },
        {
         "count": 121,
         "id": "4339348",
         "name": "Ruston"
        },
        {
         "count": 120,
         "id": "1273294",
         "name": "Delhi"
        },
        {
         "count": 120,
         "id": "3162797",
         "name": "Ås"
        },
        {
         "count": 119,
         "id": "1735106",
         "name": "George Town"
        },
        {
         "count": 119,
         "id": "2658822",
         "name": "Sankt Gallen"
        },
        {
         "count": 119,
         "id": "3003737",
         "name": "Le Kremlin-Bicêtre"
        },
        {
         "count": 118,
         "id": "2636671",
         "name": "Street"
        },
        {
         "count": 118,
         "id": "2969679",
         "name": "Versailles"
        },
        {
         "count": 117,
         "id": "1254163",
         "name": "Thiruvananthapuram"
        },
        {
         "count": 116,
         "id": "5808276",
         "name": "Richland"
        },
        {
         "count": 115,
         "id": "2169378",
         "name": "Darlinghurst"
        },
        {
         "count": 115,
         "id": "2540483",
         "name": "Oujda-Angad"
        },
        {
         "count": 115,
         "id": "2648773",
         "name": "Gateshead"
        },
        {
         "count": 115,
         "id": "4160021",
         "name": "Jacksonville"
        },
        {
         "count": 115,
         "id": "5087168",
         "name": "Hanover"
        },
        {
         "count": 115,
         "id": "5294810",
         "name": "Flagstaff"
        },
        {
         "count": 115,
         "id": "5861897",
         "name": "Fairbanks"
        },
        {
         "count": 115,
         "id": "909137",
         "name": "Lusaka"
        },
        {
         "count": 114,
         "id": "2521978",
         "name": "Alicante"
        },
        {
         "count": 114,
         "id": "2634910",
         "name": "Wakefield"
        },
        {
         "count": 114,
         "id": "3405870",
         "name": "Belém"
        },
        {
         "count": 114,
         "id": "4143861",
         "name": "Newark"
        },
        {
         "count": 113,
         "id": "2653775",
         "name": "Carlisle"
        },
        {
         "count": 112,
         "id": "1848313",
         "name": "Yokosuka"
        },
        {
         "count": 112,
         "id": "4393217",
         "name": "Kansas City"
        },
        {
         "count": 112,
         "id": "4936174",
         "name": "Falmouth"
        },
        {
         "count": 110,
         "id": "2512989",
         "name": "Palma"
        },
        {
         "count": 110,
         "id": "2641108",
         "name": "Oban"
        },
        {
         "count": 110,
         "id": "2659836",
         "name": "Lugano"
        },
        {
         "count": 110,
         "id": "2857458",
         "name": "Oldenburg"
        },
        {
         "count": 110,
         "id": "287286",
         "name": "Muscat"
        },
        {
         "count": 110,
         "id": "2896020",
         "name": "Ingelheim am Rhein"
        },
        {
         "count": 110,
         "id": "292913",
         "name": "Al Ain"
        },
        {
         "count": 109,
         "id": "2298890",
         "name": "Kumasi"
        },
        {
         "count": 109,
         "id": "2638530",
         "name": "Sandy"
        },
        {
         "count": 109,
         "id": "2641616",
         "name": "Newmarket"
        },
        {
         "count": 109,
         "id": "2649660",
         "name": "Farnham"
        },
        {
         "count": 109,
         "id": "2650839",
         "name": "Dudley"
        },
        {
         "count": 109,
         "id": "3037656",
         "name": "Angers"
        },
        {
         "count": 108,
         "id": "2633485",
         "name": "Wrexham"
        },
        {
         "count": 108,
         "id": "3037543",
         "name": "Annecy"
        },
        {
         "count": 108,
         "id": "3096472",
         "name": "Katowice"
        },
        {
         "count": 108,
         "id": "3454244",
         "name": "Pelotas"
        },
        {
         "count": 107,
         "id": "3164603",
         "name": "Venice"
        },
        {
         "count": 107,
         "id": "3164699",
         "name": "Varese"
        },
        {
         "count": 107,
         "id": "5139097",
         "name": "Sparkill"
        },
        {
         "count": 107,
         "id": "5393212",
         "name": "Santa Monica"
        },
        {
         "count": 106,
         "id": "1800163",
         "name": "Nanchang"
        },
        {
         "count": 106,
         "id": "2650435",
         "name": "East Grinstead"
        },
        {
         "count": 105,
         "id": "1153671",
         "name": "Chiang Mai"
        },
        {
         "count": 105,
         "id": "2413876",
         "name": "Banjul"
        },
        {
         "count": 105,
         "id": "2641267",
         "name": "North Shields"
        },
        {
         "count": 105,
         "id": "3121456",
         "name": "Girona"
        },
        {
         "count": 105,
         "id": "4815352",
         "name": "Morgantown"
        },
        {
         "count": 105,
         "id": "5389489",
         "name": "Sacramento"
        },
        {
         "count": 103,
         "id": "1784642",
         "name": "Zhenjiang"
        },
        {
         "count": 103,
         "id": "2073124",
         "name": "Darwin"
        },
        {
         "count": 103,
         "id": "2790869",
         "name": "Mons"
        },
        {
         "count": 102,
         "id": "2620431",
         "name": "Herlev"
        },
        {
         "count": 102,
         "id": "2647385",
         "name": "Harwell"
        },
        {
         "count": 102,
         "id": "4119403",
         "name": "Little Rock"
        },
        {
         "count": 102,
         "id": "5099312",
         "name": "Hopewell"
        },
        {
         "count": 101,
         "id": "2692969",
         "name": "Malmö"
        },
        {
         "count": 101,
         "id": "3077916",
         "name": "České Budějovice"
        },
        {
         "count": 101,
         "id": "3167096",
         "name": "Sassari"
        },
        {
         "count": 100,
         "id": "2332459",
         "name": "Lagos"
        },
        {
         "count": 100,
         "id": "2965768",
         "name": "Carlow"
        },
        {
         "count": 100,
         "id": "5085618",
         "name": "Durham"
        },
        {
         "count": 100,
         "id": "5402405",
         "name": "Thousand Oaks"
        },
        {
         "count": 100,
         "id": "5423294",
         "name": "Golden"
        },
        {
         "count": 99,
         "id": "2614481",
         "name": "Roskilde"
        },
        {
         "count": 99,
         "id": "2651587",
         "name": "Dalkeith"
        },
        {
         "count": 99,
         "id": "293918",
         "name": "Petaẖ Tiqwa"
        },
        {
         "count": 99,
         "id": "3106672",
         "name": "Valladolid"
        },
        {
         "count": 99,
         "id": "4509884",
         "name": "Dayton"
        },
        {
         "count": 99,
         "id": "738743",
         "name": "Tokat"
        },
        {
         "count": 98,
         "id": "2640354",
         "name": "Peterborough"
        },
        {
         "count": 98,
         "id": "2649000",
         "name": "Fulbourn"
        },
        {
         "count": 98,
         "id": "2653225",
         "name": "Chesterfield"
        },
        {
         "count": 98,
         "id": "2657908",
         "name": "Zug"
        },
        {
         "count": 98,
         "id": "2661496",
         "name": "Birmensdorf"
        },
        {
         "count": 98,
         "id": "306571",
         "name": "Konya"
        },
        {
         "count": 97,
         "id": "2464470",
         "name": "Tunis"
        },
        {
         "count": 97,
         "id": "2636503",
         "name": "Sutton"
        },
        {
         "count": 97,
         "id": "2702979",
         "name": "Jönköping"
        },
        {
         "count": 97,
         "id": "3012649",
         "name": "Issy-les-Moulineaux"
        },
        {
         "count": 97,
         "id": "3030300",
         "name": "Brest"
        },
        {
         "count": 97,
         "id": "3390760",
         "name": "Recife"
        },
        {
         "count": 97,
         "id": "3703443",
         "name": "Panamá"
        },
        {
         "count": 97,
         "id": "5045360",
         "name": "Saint Paul"
        },
        {
         "count": 97,
         "id": "5101798",
         "name": "Newark"
        },
        {
         "count": 96,
         "id": "2171400",
         "name": "Clayton"
        },
        {
         "count": 96,
         "id": "2524084",
         "name": "Monserrato"
        },
        {
         "count": 95,
         "id": "1673820",
         "name": "Kaohsiung"
        },
        {
         "count": 95,
         "id": "2989317",
         "name": "Orléans"
        },
        {
         "count": 95,
         "id": "3674962",
         "name": "Medellín"
        },
        {
         "count": 95,
         "id": "4460243",
         "name": "Charlotte"
        },
        {
         "count": 95,
         "id": "5959974",
         "name": "Gatineau"
        },
        {
         "count": 94,
         "id": "1732891",
         "name": "Kuala Selangor"
        },
        {
         "count": 94,
         "id": "1821274",
         "name": "Macau"
        },
        {
         "count": 94,
         "id": "2639970",
         "name": "Potters Bar"
        },
        {
         "count": 93,
         "id": "2253354",
         "name": "Dakar"
        },
        {
         "count": 93,
         "id": "2522258",
         "name": "Albacete"
        },
        {
         "count": 93,
         "id": "2641595",
         "name": "Newport"
        },
        {
         "count": 93,
         "id": "4758023",
         "name": "Fairfax"
        },
        {
         "count": 92,
         "id": "2633948",
         "name": "Wigan"
        },
        {
         "count": 92,
         "id": "2639545",
         "name": "Redhill"
        },
        {
         "count": 92,
         "id": "2643179",
         "name": "Maidstone"
        },
        {
         "count": 92,
         "id": "2986495",
         "name": "Poitiers"
        },
        {
         "count": 92,
         "id": "3037854",
         "name": "Amiens"
        },
        {
         "count": 92,
         "id": "598316",
         "name": "Kaunas"
        },
        {
         "count": 91,
         "id": "1833747",
         "name": "Ulsan"
        },
        {
         "count": 91,
         "id": "3448636",
         "name": "São José dos Campos"
        },
        {
         "count": 90,
         "id": "113646",
         "name": "Tabriz"
        },
        {
         "count": 90,
         "id": "1733432",
         "name": "Kota Kinabalu"
        },
        {
         "count": 90,
         "id": "2656070",
         "name": "Bebington"
        },
        {
         "count": 89,
         "id": "1843564",
         "name": "Incheon"
        },
        {
         "count": 89,
         "id": "2177671",
         "name": "Armidale"
        },
        {
         "count": 89,
         "id": "2634491",
         "name": "West Bromwich"
        },
        {
         "count": 89,
         "id": "2636882",
         "name": "Stockport"
        },
        {
         "count": 89,
         "id": "2643186",
         "name": "Maidenhead"
        },
        {
         "count": 89,
         "id": "2655524",
         "name": "Blackburn"
        },
        {
         "count": 89,
         "id": "2750325",
         "name": "Nieuwegein"
        },
        {
         "count": 89,
         "id": "292672",
         "name": "Sharjah"
        },
        {
         "count": 88,
         "id": "1279233",
         "name": "Ahmedabad"
        },
        {
         "count": 88,
         "id": "1860243",
         "name": "Kanazawa"
        },
        {
         "count": 88,
         "id": "2268339",
         "name": "Faro"
        },
        {
         "count": 88,
         "id": "2634204",
         "name": "Weybridge"
        },
        {
         "count": 88,
         "id": "2772400",
         "name": "Linz"
        },
        {
         "count": 88,
         "id": "3130616",
         "name": "Alcalá de Henares"
        },
        {
         "count": 87,
         "id": "2651521",
         "name": "Daresbury"
        },
        {
         "count": 87,
         "id": "2951825",
         "name": "Bayreuth"
        },
        {
         "count": 87,
         "id": "4544349",
         "name": "Oklahoma City"
        },
        {
         "count": 86,
         "id": "1701668",
         "name": "Manila"
        },
        {
         "count": 86,
         "id": "1734798",
         "name": "Semenyih"
        },
        {
         "count": 86,
         "id": "1798524",
         "name": "Pudong"
        },
        {
         "count": 86,
         "id": "2809346",
         "name": "Wiesbaden"
        },
        {
         "count": 86,
         "id": "2939811",
         "name": "Cottbus"
        },
        {
         "count": 86,
         "id": "3024597",
         "name": "Clichy"
        },
        {
         "count": 86,
         "id": "3029931",
         "name": "Bron"
        },
        {
         "count": 86,
         "id": "4685907",
         "name": "Denton"
        },
        {
         "count": 85,
         "id": "1168197",
         "name": "Peshawar"
        },
        {
         "count": 85,
         "id": "1897000",
         "name": "Seongnam-si"
        },
        {
         "count": 85,
         "id": "233508",
         "name": "Entebbe"
        },
        {
         "count": 85,
         "id": "2647428",
         "name": "Harrogate"
        },
        {
         "count": 85,
         "id": "3036364",
         "name": "Aubière"
        },
        {
         "count": 85,
         "id": "4499379",
         "name": "Wilmington"
        },
        {
         "count": 84,
         "id": "1790923",
         "name": "Wuxi"
        },
        {
         "count": 84,
         "id": "2634725",
         "name": "Warwick"
        },
        {
         "count": 84,
         "id": "2652262",
         "name": "Cottingham"
        },
        {
         "count": 84,
         "id": "735640",
         "name": "Komotiní"
        },
        {
         "count": 83,
         "id": "1270642",
         "name": "Gurgaon"
        },
        {
         "count": 83,
         "id": "2635603",
         "name": "Totton"
        },
        {
         "count": 83,
         "id": "2749812",
         "name": "Noordwijk-Binnen"
        },
        {
         "count": 83,
         "id": "3119841",
         "name": "A Coruña"
        },
        {
         "count": 83,
         "id": "3181913",
         "name": "Bolzano"
        },
        {
         "count": 83,
         "id": "5110302",
         "name": "Brooklyn"
        },
        {
         "count": 83,
         "id": "551487",
         "name": "Kazan"
        },
        {
         "count": 82,
         "id": "1668355",
         "name": "Tainan"
        },
        {
         "count": 82,
         "id": "2515270",
         "name": "Las Palmas de Gran Canaria"
        },
        {
         "count": 82,
         "id": "2640465",
         "name": "Penicuik"
        },
        {
         "count": 82,
         "id": "2643736",
         "name": "Derry"
        },
        {
         "count": 82,
         "id": "2656719",
         "name": "Aylesbury"
        },
        {
         "count": 82,
         "id": "2982652",
         "name": "Rouen"
        },
        {
         "count": 82,
         "id": "3147465",
         "name": "Lillestrøm"
        },
        {
         "count": 82,
         "id": "3399415",
         "name": "Fortaleza"
        },
        {
         "count": 82,
         "id": "6146143",
         "name": "Sherbrooke"
        },
        {
         "count": 81,
         "id": "2176632",
         "name": "Bathurst"
        },
        {
         "count": 81,
         "id": "2653239",
         "name": "Chertsey"
        },
        {
         "count": 81,
         "id": "2656955",
         "name": "Ashford"
        },
        {
         "count": 81,
         "id": "2772810",
         "name": "Laxenburg"
        },
        {
         "count": 80,
         "id": "10041014",
         "name": "Crawley"
        },
        {
         "count": 80,
         "id": "1667905",
         "name": "Taoyuan"
        },
        {
         "count": 80,
         "id": "3046526",
         "name": "Pécs"
        },
        {
         "count": 80,
         "id": "5511077",
         "name": "Reno"
        },
        {
         "count": 80,
         "id": "927967",
         "name": "Lilongwe"
        },
        {
         "count": 79,
         "id": "1269515",
         "name": "Jaipur"
        },
        {
         "count": 79,
         "id": "1271476",
         "name": "Guwahati"
        },
        {
         "count": 79,
         "id": "2654410",
         "name": "Buckingham"
        },
        {
         "count": 79,
         "id": "304531",
         "name": "Mercin"
        },
        {
         "count": 79,
         "id": "3884373",
         "name": "La Serena"
        },
        {
         "count": 79,
         "id": "4355585",
         "name": "Frederick"
        },
        {
         "count": 79,
         "id": "4793846",
         "name": "Williamsburg"
        },
        {
         "count": 78,
         "id": "1735158",
         "name": "Petaling Jaya"
        },
        {
         "count": 78,
         "id": "1787227",
         "name": "Yangzhou"
        },
        {
         "count": 77,
         "id": "2165087",
         "name": "Gold Coast"
        },
        {
         "count": 77,
         "id": "2520600",
         "name": "Cadiz"
        },
        {
         "count": 77,
         "id": "2635650",
         "name": "Torquay"
        },
        {
         "count": 77,
         "id": "2648657",
         "name": "Gillingham"
        },
        {
         "count": 77,
         "id": "2702261",
         "name": "Kalmar"
        },
        {
         "count": 77,
         "id": "2875376",
         "name": "Ludwigshafen am Rhein"
        },
        {
         "count": 77,
         "id": "308464",
         "name": "Kayseri"
        },
        {
         "count": 77,
         "id": "3118514",
         "name": "Lleida"
        },
        {
         "count": 77,
         "id": "4903862",
         "name": "North Chicago"
        },
        {
         "count": 77,
         "id": "8299576",
         "name": "Bridgewater"
        },
        {
         "count": 76,
         "id": "115019",
         "name": "Shiraz"
        },
        {
         "count": 76,
         "id": "4830796",
         "name": "Auburn"
        },
        {
         "count": 76,
         "id": "5506956",
         "name": "Las Vegas"
        },
        {
         "count": 75,
         "id": "1166993",
         "name": "Rawalpindi"
        },
        {
         "count": 75,
         "id": "1269743",
         "name": "Indore"
        },
        {
         "count": 75,
         "id": "2525059",
         "name": "Catanzaro"
        },
        {
         "count": 75,
         "id": "2791067",
         "name": "Mol"
        },
        {
         "count": 75,
         "id": "360761",
         "name": "Al Manşūrah"
        },
        {
         "count": 75,
         "id": "6940394",
         "name": "Saitama"
        },
        {
         "count": 74,
         "id": "256866",
         "name": "Mytilene"
        },
        {
         "count": 74,
         "id": "2691459",
         "name": "Mölndal"
        },
        {
         "count": 74,
         "id": "379252",
         "name": "Khartoum"
        },
        {
         "count": 74,
         "id": "5403022",
         "name": "Torrance"
        },
        {
         "count": 73,
         "id": "2651123",
         "name": "Doncaster"
        },
        {
         "count": 73,
         "id": "2654200",
         "name": "Burton upon Trent"
        },
        {
         "count": 73,
         "id": "2656046",
         "name": "Bedford"
        },
        {
         "count": 73,
         "id": "3109453",
         "name": "Barakaldo"
        },
        {
         "count": 73,
         "id": "3194360",
         "name": "Novi Sad"
        },
        {
         "count": 73,
         "id": "3687925",
         "name": "Cali"
        },
        {
         "count": 73,
         "id": "4447161",
         "name": "Starkville"
        },
        {
         "count": 73,
         "id": "4929055",
         "name": "Andover"
        },
        {
         "count": 73,
         "id": "5393015",
         "name": "Santa Clara"
        },
        {
         "count": 73,
         "id": "5641727",
         "name": "Bozeman"
        },
        {
         "count": 73,
         "id": "8029783",
         "name": "St Leonards"
        },
        {
         "count": 72,
         "id": "1809461",
         "name": "Guiyang"
        },
        {
         "count": 72,
         "id": "2970797",
         "name": "Vandœuvre-lès-Nancy"
        },
        {
         "count": 72,
         "id": "4834272",
         "name": "Farmington"
        },
        {
         "count": 72,
         "id": "492396",
         "name": "Skolkovo"
        },
        {
         "count": 71,
         "id": "3172629",
         "name": "Monza"
        },
        {
         "count": 70,
         "id": "1264733",
         "name": "Lucknow"
        },
        {
         "count": 70,
         "id": "1609776",
         "name": "Khon Kaen"
        },
        {
         "count": 70,
         "id": "1795270",
         "name": "Shijiazhuang"
        },
        {
         "count": 70,
         "id": "2754652",
         "name": "Heerlen"
        },
        {
         "count": 70,
         "id": "2994144",
         "name": "Meudon"
        },
        {
         "count": 70,
         "id": "3004630",
         "name": "Le Chesnay"
        },
        {
         "count": 70,
         "id": "3868707",
         "name": "Valdivia"
        },
        {
         "count": 70,
         "id": "4431410",
         "name": "Jackson"
        },
        {
         "count": 70,
         "id": "5344147",
         "name": "Duarte"
        },
        {
         "count": 69,
         "id": "1246294",
         "name": "Galle"
        },
        {
         "count": 69,
         "id": "2991214",
         "name": "Mulhouse"
        },
        {
         "count": 69,
         "id": "4351335",
         "name": "Chevy Chase"
        },
        {
         "count": 69,
         "id": "604490",
         "name": "Luleå"
        },
        {
         "count": 69,
         "id": "776069",
         "name": "Białystok"
        },
        {
         "count": 68,
         "id": "1821306",
         "name": "Phnom Penh"
        },
        {
         "count": 68,
         "id": "2357048",
         "name": "Ouagadougou"
        },
        {
         "count": 68,
         "id": "2807363",
         "name": "Witten"
        },
        {
         "count": 68,
         "id": "2968275",
         "name": "Villetaneuse"
        },
        {
         "count": 68,
         "id": "3017924",
         "name": "Fontenay-aux-Roses"
        },
        {
         "count": 68,
         "id": "3553478",
         "name": "Havana"
        },
        {
         "count": 68,
         "id": "6620308",
         "name": "Westcliff-on-Sea"
        },
        {
         "count": 67,
         "id": "2352778",
         "name": "Abuja"
        },
        {
         "count": 67,
         "id": "2655245",
         "name": "Bollington"
        },
        {
         "count": 67,
         "id": "2790471",
         "name": "Namur"
        },
        {
         "count": 67,
         "id": "2899449",
         "name": "Homburg"
        },
        {
         "count": 67,
         "id": "5830062",
         "name": "Laramie"
        },
        {
         "count": 66,
         "id": "111822",
         "name": "Yazd"
        },
        {
         "count": 66,
         "id": "1526384",
         "name": "Almaty"
        },
        {
         "count": 66,
         "id": "1787458",
         "name": "Yangling"
        },
        {
         "count": 66,
         "id": "2519752",
         "name": "Castelló de la Plana"
        },
        {
         "count": 66,
         "id": "2639928",
         "name": "Prescot"
        },
        {
         "count": 66,
         "id": "2675397",
         "name": "Solna"
        },
        {
         "count": 66,
         "id": "3165035",
         "name": "Urbino"
        },
        {
         "count": 66,
         "id": "4692883",
         "name": "Galveston"
        },
        {
         "count": 66,
         "id": "5397765",
         "name": "South San Francisco"
        },
        {
         "count": 65,
         "id": "1266976",
         "name": "Kharagpur"
        },
        {
         "count": 65,
         "id": "146384",
         "name": "Limassol"
        },
        {
         "count": 65,
         "id": "2653144",
         "name": "Chippenham"
        },
        {
         "count": 65,
         "id": "2987805",
         "name": "Pessac"
        },
        {
         "count": 65,
         "id": "3012165",
         "name": "Jouy-en-Josas"
        },
        {
         "count": 65,
         "id": "3083271",
         "name": "Toruń"
        },
        {
         "count": 65,
         "id": "4776222",
         "name": "Norfolk"
        },
        {
         "count": 65,
         "id": "743952",
         "name": "Kars"
        },
        {
         "count": 64,
         "id": "1275346",
         "name": "Bolpur"
        },
        {
         "count": 64,
         "id": "2645298",
         "name": "Kirkcaldy"
        },
        {
         "count": 64,
         "id": "4889668",
         "name": "Deerfield"
        },
        {
         "count": 63,
         "id": "1018725",
         "name": "Bloemfontein"
        },
        {
         "count": 63,
         "id": "1648473",
         "name": "Bogor"
        },
        {
         "count": 63,
         "id": "2636876",
         "name": "Stockton-on-Tees"
        },
        {
         "count": 63,
         "id": "2653305",
         "name": "Chatham"
        },
        {
         "count": 63,
         "id": "2659496",
         "name": "Neuchâtel"
        },
        {
         "count": 63,
         "id": "4561120",
         "name": "Scotland"
        },
        {
         "count": 63,
         "id": "5779334",
         "name": "Orem"
        },
        {
         "count": 62,
         "id": "1791388",
         "name": "Wenzhou"
        },
        {
         "count": 62,
         "id": "2146268",
         "name": "Toowoomba"
        },
        {
         "count": 62,
         "id": "2638282",
         "name": "Seascale"
        },
        {
         "count": 62,
         "id": "520555",
         "name": "Nizhniy Novgorod"
        },
        {
         "count": 61,
         "id": "2984114",
         "name": "Reims"
        },
        {
         "count": 61,
         "id": "3456283",
         "name": "Niterói"
        },
        {
         "count": 61,
         "id": "3663517",
         "name": "Manaus"
        },
        {
         "count": 60,
         "id": "2637546",
         "name": "Solihull"
        },
        {
         "count": 60,
         "id": "2659811",
         "name": "Luzern"
        },
        {
         "count": 60,
         "id": "4505542",
         "name": "Athens"
        },
        {
         "count": 59,
         "id": "1650357",
         "name": "Bandung"
        },
        {
         "count": 59,
         "id": "1732903",
         "name": "Shah Alam"
        },
        {
         "count": 59,
         "id": "2619528",
         "name": "Hvidovre"
        },
        {
         "count": 59,
         "id": "2638867",
         "name": "St Albans"
        },
        {
         "count": 59,
         "id": "3083829",
         "name": "Szczecin"
        },
        {
         "count": 59,
         "id": "3149318",
         "name": "Kristiansand"
        },
        {
         "count": 59,
         "id": "3449319",
         "name": "São Carlos"
        },
        {
         "count": 59,
         "id": "3462377",
         "name": "Goiânia"
        },
        {
         "count": 58,
         "id": "1040652",
         "name": "Maputo"
        },
        {
         "count": 58,
         "id": "1179400",
         "name": "Faisalābād"
        },
        {
         "count": 58,
         "id": "1267995",
         "name": "Kanpur"
        },
        {
         "count": 58,
         "id": "1608529",
         "name": "Nakhon Ratchasima"
        },
        {
         "count": 58,
         "id": "161325",
         "name": "Arusha"
        },
        {
         "count": 58,
         "id": "2894003",
         "name": "Kaiserslautern"
        },
        {
         "count": 58,
         "id": "4568127",
         "name": "San Juan"
        }
       ]
      },
      "text/plain": [
       "<dimcli.Result object #4576318128: [('research_org_cities', 1000), ('_stats', 1)]>"
      ]
     },
     "execution_count": 10,
     "metadata": {
      "application/json": {
       "expanded": false,
       "root": "root"
      }
     },
     "output_type": "execute_result"
    }
   ],
   "source": [
    "%%dsl_query\n",
    "search publications\n",
    "where type=\"article\" and year=\"2018\" and research_org_countries in [\"GB\"]\n",
    "return research_org_cities limit 1000"
   ]
  },
  {
   "cell_type": "code",
   "execution_count": 11,
   "metadata": {},
   "outputs": [
    {
     "data": {
      "text/html": [
       "<div>\n",
       "<style scoped>\n",
       "    .dataframe tbody tr th:only-of-type {\n",
       "        vertical-align: middle;\n",
       "    }\n",
       "\n",
       "    .dataframe tbody tr th {\n",
       "        vertical-align: top;\n",
       "    }\n",
       "\n",
       "    .dataframe thead th {\n",
       "        text-align: right;\n",
       "    }\n",
       "</style>\n",
       "<table border=\"1\" class=\"dataframe\">\n",
       "  <thead>\n",
       "    <tr style=\"text-align: right;\">\n",
       "      <th></th>\n",
       "      <th>count</th>\n",
       "      <th>id</th>\n",
       "      <th>name</th>\n",
       "    </tr>\n",
       "  </thead>\n",
       "  <tbody>\n",
       "    <tr>\n",
       "      <th>0</th>\n",
       "      <td>63968</td>\n",
       "      <td>2643743</td>\n",
       "      <td>London</td>\n",
       "    </tr>\n",
       "    <tr>\n",
       "      <th>1</th>\n",
       "      <td>16187</td>\n",
       "      <td>2653941</td>\n",
       "      <td>Cambridge</td>\n",
       "    </tr>\n",
       "    <tr>\n",
       "      <th>2</th>\n",
       "      <td>16087</td>\n",
       "      <td>2640729</td>\n",
       "      <td>Oxford</td>\n",
       "    </tr>\n",
       "    <tr>\n",
       "      <th>3</th>\n",
       "      <td>10707</td>\n",
       "      <td>2643123</td>\n",
       "      <td>Manchester</td>\n",
       "    </tr>\n",
       "    <tr>\n",
       "      <th>4</th>\n",
       "      <td>10415</td>\n",
       "      <td>2650225</td>\n",
       "      <td>Edinburgh</td>\n",
       "    </tr>\n",
       "  </tbody>\n",
       "</table>\n",
       "</div>"
      ],
      "text/plain": [
       "   count       id        name\n",
       "0  63968  2643743      London\n",
       "1  16187  2653941   Cambridge\n",
       "2  16087  2640729      Oxford\n",
       "3  10707  2643123  Manchester\n",
       "4  10415  2650225   Edinburgh"
      ]
     },
     "execution_count": 11,
     "metadata": {},
     "output_type": "execute_result"
    }
   ],
   "source": [
    "data = _['research_org_cities']\n",
    "df1 = pd.DataFrame.from_dict(data)\n",
    "df1.head()"
   ]
  },
  {
   "cell_type": "markdown",
   "metadata": {},
   "source": [
    "#### 2. Define the list of countries we need"
   ]
  },
  {
   "cell_type": "markdown",
   "metadata": {},
   "source": [
    "Modify this as needed (see also https://www.geonames.org/countries/)"
   ]
  },
  {
   "cell_type": "code",
   "execution_count": 12,
   "metadata": {},
   "outputs": [],
   "source": [
    "europe_countries = [\"AD\",\"AL\",\"AT\",\"AX\",\"BA\",\"BE\",\"BG\",\"BY\",\"CH\",\"CZ\",\"DE\",\"DK\",\"EE\",\"ES\",\"FI\",\"FO\",\"FR\",\"GB\",\"GG\",\"GI\",\"GR\",\"HR\",\"HU\",\"IE\",\"IM\",\"IS\",\"IT\",\"JE\",\"LI\",\"LT\",\"LU\",\"LV\",\"MC\",\"MD\",\"ME\",\"MK\",\"MT\",\"NL\",\"NO\",\"PL\",\"PT\",\"RO\",\"RS\",\"RU\",\"SE\",\"SI\",\"SJ\",\"SK\",\"SM\",\"UA\",\"VA\"]"
   ]
  },
  {
   "cell_type": "markdown",
   "metadata": {},
   "source": [
    "#### 3. Set up the parametrized query loop "
   ]
  },
  {
   "cell_type": "code",
   "execution_count": 13,
   "metadata": {},
   "outputs": [],
   "source": [
    "q_template = \"\"\"search publications\n",
    "where type=\"article\" and date=\"2018\" and research_org_countries in [\"%s\"]\n",
    "return research_org_cities limit 1000\"\"\""
   ]
  },
  {
   "cell_type": "code",
   "execution_count": 14,
   "metadata": {},
   "outputs": [
    {
     "name": "stdout",
     "output_type": "stream",
     "text": [
      "Country: AD Master Dataset Rows: 0 <class 'pandas.core.frame.DataFrame'>\n",
      "Country: AL Master Dataset Rows: 6 <class 'pandas.core.frame.DataFrame'>\n",
      "Country: AT Master Dataset Rows: 177 <class 'pandas.core.frame.DataFrame'>\n",
      "Country: AX Master Dataset Rows: 177 <class 'pandas.core.frame.DataFrame'>\n",
      "Country: BA Master Dataset Rows: 182 <class 'pandas.core.frame.DataFrame'>\n",
      "Country: BE Master Dataset Rows: 482 <class 'pandas.core.frame.DataFrame'>\n",
      "Country: BG Master Dataset Rows: 510 <class 'pandas.core.frame.DataFrame'>\n",
      "Country: BY Master Dataset Rows: 581 <class 'pandas.core.frame.DataFrame'>\n",
      "Country: CH Master Dataset Rows: 956 <class 'pandas.core.frame.DataFrame'>\n",
      "Country: CZ Master Dataset Rows: 1093 <class 'pandas.core.frame.DataFrame'>\n",
      "Country: DE Master Dataset Rows: 1682 <class 'pandas.core.frame.DataFrame'>\n",
      "Country: DK Master Dataset Rows: 1970 <class 'pandas.core.frame.DataFrame'>\n",
      "Country: EE Master Dataset Rows: 1977 <class 'pandas.core.frame.DataFrame'>\n",
      "Country: ES Master Dataset Rows: 2411 <class 'pandas.core.frame.DataFrame'>\n",
      "Country: FI Master Dataset Rows: 2563 <class 'pandas.core.frame.DataFrame'>\n",
      "Country: FO Master Dataset Rows: 2563 <class 'pandas.core.frame.DataFrame'>\n",
      "Country: FR Master Dataset Rows: 3159 <class 'pandas.core.frame.DataFrame'>\n",
      "Country: GB Master Dataset Rows: 3860 <class 'pandas.core.frame.DataFrame'>\n",
      "Country: GG Master Dataset Rows: 3860 <class 'pandas.core.frame.DataFrame'>\n",
      "Country: GI Master Dataset Rows: 3860 <class 'pandas.core.frame.DataFrame'>\n",
      "Country: GR Master Dataset Rows: 4029 <class 'pandas.core.frame.DataFrame'>\n",
      "Country: HR Master Dataset Rows: 4039 <class 'pandas.core.frame.DataFrame'>\n",
      "Country: HU Master Dataset Rows: 4094 <class 'pandas.core.frame.DataFrame'>\n",
      "Country: IE Master Dataset Rows: 4166 <class 'pandas.core.frame.DataFrame'>\n",
      "Country: IM Master Dataset Rows: 4166 <class 'pandas.core.frame.DataFrame'>\n",
      "Country: IS Master Dataset Rows: 4178 <class 'pandas.core.frame.DataFrame'>\n",
      "Country: IT Master Dataset Rows: 4672 <class 'pandas.core.frame.DataFrame'>\n",
      "Country: JE Master Dataset Rows: 4672 <class 'pandas.core.frame.DataFrame'>\n",
      "Country: LI Master Dataset Rows: 4672 <class 'pandas.core.frame.DataFrame'>\n",
      "Country: LT Master Dataset Rows: 4674 <class 'pandas.core.frame.DataFrame'>\n",
      "Country: LU Master Dataset Rows: 4676 <class 'pandas.core.frame.DataFrame'>\n",
      "Country: LV Master Dataset Rows: 4677 <class 'pandas.core.frame.DataFrame'>\n",
      "Country: MC Master Dataset Rows: 4680 <class 'pandas.core.frame.DataFrame'>\n",
      "Country: MD Master Dataset Rows: 4682 <class 'pandas.core.frame.DataFrame'>\n",
      "Country: ME Master Dataset Rows: 4683 <class 'pandas.core.frame.DataFrame'>\n",
      "Country: MK Master Dataset Rows: 4683 <class 'pandas.core.frame.DataFrame'>\n",
      "Country: MT Master Dataset Rows: 4754 <class 'pandas.core.frame.DataFrame'>\n",
      "Country: NL Master Dataset Rows: 5177 <class 'pandas.core.frame.DataFrame'>\n",
      "Country: NO Master Dataset Rows: 5381 <class 'pandas.core.frame.DataFrame'>\n",
      "Country: PL Master Dataset Rows: 5584 <class 'pandas.core.frame.DataFrame'>\n",
      "Country: PT Master Dataset Rows: 5803 <class 'pandas.core.frame.DataFrame'>\n",
      "Country: RO Master Dataset Rows: 5897 <class 'pandas.core.frame.DataFrame'>\n",
      "Country: RS Master Dataset Rows: 5948 <class 'pandas.core.frame.DataFrame'>\n",
      "Country: RU Master Dataset Rows: 6169 <class 'pandas.core.frame.DataFrame'>\n",
      "Country: SE Master Dataset Rows: 6455 <class 'pandas.core.frame.DataFrame'>\n",
      "Country: SI Master Dataset Rows: 6543 <class 'pandas.core.frame.DataFrame'>\n",
      "Country: SJ Master Dataset Rows: 6543 <class 'pandas.core.frame.DataFrame'>\n",
      "Country: SK Master Dataset Rows: 6619 <class 'pandas.core.frame.DataFrame'>\n",
      "Country: SM Master Dataset Rows: 6619 <class 'pandas.core.frame.DataFrame'>\n",
      "Country: UA Master Dataset Rows: 6663 <class 'pandas.core.frame.DataFrame'>\n",
      "Country: VA Master Dataset Rows: 6663 <class 'pandas.core.frame.DataFrame'>\n",
      "FINISHED!\n"
     ]
    }
   ],
   "source": [
    "df_master = pd.DataFrame()\n",
    "for c in europe_countries:\n",
    "    query = q_template % (c)\n",
    "    res = dsl.query(query, show_results=False)\n",
    "    data = res['research_org_cities']\n",
    "    if data:\n",
    "        if df_master.empty:\n",
    "            df_master = pd.DataFrame.from_dict(data)\n",
    "        else:\n",
    "            df_temp = pd.DataFrame.from_dict(data)\n",
    "            df_master = df_master.append(df_temp, sort=True)\n",
    "    print(\"Country:\", c, \"Master Dataset Rows:\", len(df_master), type(df_master))\n",
    "    time.sleep(1.5)\n",
    "print(\"FINISHED!\")    "
   ]
  },
  {
   "cell_type": "code",
   "execution_count": 22,
   "metadata": {},
   "outputs": [],
   "source": [
    "df_master.to_csv(r'cities_data_raw_2019-04-21.csv')"
   ]
  },
  {
   "cell_type": "code",
   "execution_count": 16,
   "metadata": {},
   "outputs": [],
   "source": [
    "df_master_merged = df_master.pivot_table(index=['id', 'name'], aggfunc=sum).sort_values(by=['count'], ascending=False)"
   ]
  },
  {
   "cell_type": "code",
   "execution_count": 17,
   "metadata": {},
   "outputs": [
    {
     "data": {
      "text/plain": [
       "1466"
      ]
     },
     "execution_count": 17,
     "metadata": {},
     "output_type": "execute_result"
    }
   ],
   "source": [
    "len(df_master_merged)"
   ]
  },
  {
   "cell_type": "code",
   "execution_count": 18,
   "metadata": {},
   "outputs": [],
   "source": [
    "# fix column names https://stackoverflow.com/questions/33290374/pandas-pivot-table-column-names\n",
    "df_master_merged.reset_index(inplace=True)"
   ]
  },
  {
   "cell_type": "code",
   "execution_count": 20,
   "metadata": {},
   "outputs": [
    {
     "data": {
      "image/png": "[encoded data removed]",
      "text/plain": [
       "<Figure size 432x288 with 1 Axes>"
      ]
     },
     "metadata": {
      "needs_background": "light"
     },
     "output_type": "display_data"
    }
   ],
   "source": [
    "ax = df_master_merged.head(10).plot.bar(x='name', rot=0,)"
   ]
  },
  {
   "cell_type": "code",
   "execution_count": 22,
   "metadata": {},
   "outputs": [],
   "source": [
    "df_master_merged.to_csv(r'cities_data_merged_2019-04-21.csv')"
   ]
  },
  {
   "cell_type": "code",
   "execution_count": null,
   "metadata": {},
   "outputs": [],
   "source": []
  }
 ],
 "metadata": {
  "kernelspec": {
   "display_name": "Python 3",
   "language": "python",
   "name": "python3"
  },
  "language_info": {
   "codemirror_mode": {
    "name": "ipython",
    "version": 3
   },
   "file_extension": ".py",
   "mimetype": "text/x-python",
   "name": "python",
   "nbconvert_exporter": "python",
   "pygments_lexer": "ipython3",
   "version": "3.7.3"
  }
 },
 "nbformat": 4,
 "nbformat_minor": 2
}
