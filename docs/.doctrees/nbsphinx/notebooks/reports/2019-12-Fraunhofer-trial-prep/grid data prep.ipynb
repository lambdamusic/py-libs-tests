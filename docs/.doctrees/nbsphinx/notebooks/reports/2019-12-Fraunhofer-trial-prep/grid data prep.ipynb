{
 "cells": [
  {
   "cell_type": "markdown",
   "metadata": {
    "Collapsed": "false",
    "colab_type": "text",
    "id": "KzK3pRMxESc5"
   },
   "source": [
    "# Preparation of grid data for generating a dropdown \n",
    "\n",
    "### Upload the excel spreadsheet "
   ]
  },
  {
   "cell_type": "code",
   "execution_count": 1,
   "metadata": {
    "Collapsed": "false",
    "colab": {},
    "colab_type": "code",
    "id": "2y9VKWhsELxx"
   },
   "outputs": [],
   "source": [
    "import pandas as pd"
   ]
  },
  {
   "cell_type": "code",
   "execution_count": 27,
   "metadata": {
    "Collapsed": "false",
    "colab": {
     "base_uri": "https://localhost:8080/",
     "height": 255
    },
    "colab_type": "code",
    "executionInfo": {
     "elapsed": 384,
     "status": "ok",
     "timestamp": 1574183874629,
     "user": {
      "displayName": "Michele Pasin",
      "photoUrl": "https://lh3.googleusercontent.com/a-/AAuE7mBu8LVjIGgontF2Wax51BoL5KFx8esezX3bUmaa0g=s64",
      "userId": "10309320684375994511"
     },
     "user_tz": 0
    },
    "id": "ePnlZx0wEXud",
    "outputId": "11156667-a2e2-4ea4-f9c1-9ab15abefdf0"
   },
   "outputs": [
    {
     "data": {
      "text/html": [
       "<div>\n",
       "<style scoped>\n",
       "    .dataframe tbody tr th:only-of-type {\n",
       "        vertical-align: middle;\n",
       "    }\n",
       "\n",
       "    .dataframe tbody tr th {\n",
       "        vertical-align: top;\n",
       "    }\n",
       "\n",
       "    .dataframe thead th {\n",
       "        text-align: right;\n",
       "    }\n",
       "</style>\n",
       "<table border=\"1\" class=\"dataframe\">\n",
       "  <thead>\n",
       "    <tr style=\"text-align: right;\">\n",
       "      <th></th>\n",
       "      <th>Unnamed: 0</th>\n",
       "      <th>Unnamed: 1</th>\n",
       "      <th>Unnamed: 2</th>\n",
       "      <th>Unnamed: 3</th>\n",
       "      <th>Unnamed: 4</th>\n",
       "      <th>Unnamed: 5</th>\n",
       "      <th>Unnamed: 6</th>\n",
       "      <th>Unnamed: 7</th>\n",
       "      <th>Unnamed: 8</th>\n",
       "    </tr>\n",
       "  </thead>\n",
       "  <tbody>\n",
       "    <tr>\n",
       "      <th>0</th>\n",
       "      <td>NaN</td>\n",
       "      <td>NaN</td>\n",
       "      <td>NaN</td>\n",
       "      <td>NaN</td>\n",
       "      <td>NaN</td>\n",
       "      <td>NaN</td>\n",
       "      <td>NaN</td>\n",
       "      <td>NaN</td>\n",
       "      <td>NaN</td>\n",
       "    </tr>\n",
       "    <tr>\n",
       "      <th>1</th>\n",
       "      <td>Institute</td>\n",
       "      <td>English</td>\n",
       "      <td>Acronym</td>\n",
       "      <td>Location</td>\n",
       "      <td>Dimensions URL</td>\n",
       "      <td>GRID ID</td>\n",
       "      <td>Remark</td>\n",
       "      <td>NaN</td>\n",
       "      <td>NaN</td>\n",
       "    </tr>\n",
       "    <tr>\n",
       "      <th>2</th>\n",
       "      <td>Lasertechnik</td>\n",
       "      <td>Fraunhofer Institute for Laser Technology</td>\n",
       "      <td>ILT</td>\n",
       "      <td>Aachen</td>\n",
       "      <td>https://app.dimensions.ai/discover/publication...</td>\n",
       "      <td>grid.461628.f</td>\n",
       "      <td>NaN</td>\n",
       "      <td>NaN</td>\n",
       "      <td>NaN</td>\n",
       "    </tr>\n",
       "    <tr>\n",
       "      <th>3</th>\n",
       "      <td>Molekularbiologie und Angewandte Oekologie – B...</td>\n",
       "      <td>Fraunhofer Institute for Molecular Biology and...</td>\n",
       "      <td>IME</td>\n",
       "      <td>Aachen</td>\n",
       "      <td>https://app.dimensions.ai/discover/publication...</td>\n",
       "      <td>grid.418010.c</td>\n",
       "      <td>NaN</td>\n",
       "      <td>NaN</td>\n",
       "      <td>NaN</td>\n",
       "    </tr>\n",
       "    <tr>\n",
       "      <th>4</th>\n",
       "      <td>Produktionstechnologie</td>\n",
       "      <td>Fraunhofer Institute for Production Technology</td>\n",
       "      <td>IPT</td>\n",
       "      <td>Aachen</td>\n",
       "      <td>https://app.dimensions.ai/discover/publication...</td>\n",
       "      <td>grid.461634.2</td>\n",
       "      <td>NaN</td>\n",
       "      <td>NaN</td>\n",
       "      <td>NaN</td>\n",
       "    </tr>\n",
       "  </tbody>\n",
       "</table>\n",
       "</div>"
      ],
      "text/plain": [
       "                                          Unnamed: 0  \\\n",
       "0                                                NaN   \n",
       "1                                          Institute   \n",
       "2                                       Lasertechnik   \n",
       "3  Molekularbiologie und Angewandte Oekologie – B...   \n",
       "4                             Produktionstechnologie   \n",
       "\n",
       "                                          Unnamed: 1 Unnamed: 2 Unnamed: 3  \\\n",
       "0                                                NaN        NaN        NaN   \n",
       "1                                            English    Acronym   Location   \n",
       "2          Fraunhofer Institute for Laser Technology        ILT     Aachen   \n",
       "3  Fraunhofer Institute for Molecular Biology and...        IME     Aachen   \n",
       "4     Fraunhofer Institute for Production Technology        IPT     Aachen   \n",
       "\n",
       "                                          Unnamed: 4     Unnamed: 5  \\\n",
       "0                                                NaN            NaN   \n",
       "1                                     Dimensions URL        GRID ID   \n",
       "2  https://app.dimensions.ai/discover/publication...  grid.461628.f   \n",
       "3  https://app.dimensions.ai/discover/publication...  grid.418010.c   \n",
       "4  https://app.dimensions.ai/discover/publication...  grid.461634.2   \n",
       "\n",
       "  Unnamed: 6 Unnamed: 7 Unnamed: 8  \n",
       "0        NaN        NaN        NaN  \n",
       "1     Remark        NaN        NaN  \n",
       "2        NaN        NaN        NaN  \n",
       "3        NaN        NaN        NaN  \n",
       "4        NaN        NaN        NaN  "
      ]
     },
     "execution_count": 27,
     "metadata": {},
     "output_type": "execute_result"
    }
   ],
   "source": [
    "data = pd.read_csv(\"Fraunhofer Institutes Overview and Check - Sheet1.csv\")\n",
    "data.head(5)"
   ]
  },
  {
   "cell_type": "code",
   "execution_count": 28,
   "metadata": {
    "Collapsed": "false",
    "colab": {},
    "colab_type": "code",
    "id": "XVPyEPSQEaPy"
   },
   "outputs": [],
   "source": [
    "data = data.drop([0, 1])"
   ]
  },
  {
   "cell_type": "code",
   "execution_count": 29,
   "metadata": {
    "Collapsed": "false",
    "colab": {
     "base_uri": "https://localhost:8080/",
     "height": 306
    },
    "colab_type": "code",
    "executionInfo": {
     "elapsed": 658,
     "status": "ok",
     "timestamp": 1574183878029,
     "user": {
      "displayName": "Michele Pasin",
      "photoUrl": "https://lh3.googleusercontent.com/a-/AAuE7mBu8LVjIGgontF2Wax51BoL5KFx8esezX3bUmaa0g=s64",
      "userId": "10309320684375994511"
     },
     "user_tz": 0
    },
    "id": "dAGZ2sKFFFHF",
    "outputId": "71a0dc4f-3faa-4cf9-d6e4-a97dd5240249"
   },
   "outputs": [
    {
     "data": {
      "text/html": [
       "<div>\n",
       "<style scoped>\n",
       "    .dataframe tbody tr th:only-of-type {\n",
       "        vertical-align: middle;\n",
       "    }\n",
       "\n",
       "    .dataframe tbody tr th {\n",
       "        vertical-align: top;\n",
       "    }\n",
       "\n",
       "    .dataframe thead th {\n",
       "        text-align: right;\n",
       "    }\n",
       "</style>\n",
       "<table border=\"1\" class=\"dataframe\">\n",
       "  <thead>\n",
       "    <tr style=\"text-align: right;\">\n",
       "      <th></th>\n",
       "      <th>Unnamed: 0</th>\n",
       "      <th>Unnamed: 1</th>\n",
       "      <th>Unnamed: 2</th>\n",
       "      <th>Unnamed: 3</th>\n",
       "      <th>Unnamed: 4</th>\n",
       "      <th>Unnamed: 5</th>\n",
       "      <th>Unnamed: 6</th>\n",
       "      <th>Unnamed: 7</th>\n",
       "      <th>Unnamed: 8</th>\n",
       "    </tr>\n",
       "  </thead>\n",
       "  <tbody>\n",
       "    <tr>\n",
       "      <th>2</th>\n",
       "      <td>Lasertechnik</td>\n",
       "      <td>Fraunhofer Institute for Laser Technology</td>\n",
       "      <td>ILT</td>\n",
       "      <td>Aachen</td>\n",
       "      <td>https://app.dimensions.ai/discover/publication...</td>\n",
       "      <td>grid.461628.f</td>\n",
       "      <td>NaN</td>\n",
       "      <td>NaN</td>\n",
       "      <td>NaN</td>\n",
       "    </tr>\n",
       "    <tr>\n",
       "      <th>3</th>\n",
       "      <td>Molekularbiologie und Angewandte Oekologie – B...</td>\n",
       "      <td>Fraunhofer Institute for Molecular Biology and...</td>\n",
       "      <td>IME</td>\n",
       "      <td>Aachen</td>\n",
       "      <td>https://app.dimensions.ai/discover/publication...</td>\n",
       "      <td>grid.418010.c</td>\n",
       "      <td>NaN</td>\n",
       "      <td>NaN</td>\n",
       "      <td>NaN</td>\n",
       "    </tr>\n",
       "    <tr>\n",
       "      <th>4</th>\n",
       "      <td>Produktionstechnologie</td>\n",
       "      <td>Fraunhofer Institute for Production Technology</td>\n",
       "      <td>IPT</td>\n",
       "      <td>Aachen</td>\n",
       "      <td>https://app.dimensions.ai/discover/publication...</td>\n",
       "      <td>grid.461634.2</td>\n",
       "      <td>NaN</td>\n",
       "      <td>NaN</td>\n",
       "      <td>NaN</td>\n",
       "    </tr>\n",
       "    <tr>\n",
       "      <th>5</th>\n",
       "      <td>Gießerei-, Composite- und Verarbeitungstechnik</td>\n",
       "      <td>Fraunhofer Research Institution for Casting, C...</td>\n",
       "      <td>IGCV</td>\n",
       "      <td>Augsburg</td>\n",
       "      <td>NaN</td>\n",
       "      <td>grid.506241.4</td>\n",
       "      <td>No institution profile in Dimensions, about 70...</td>\n",
       "      <td>NaN</td>\n",
       "      <td>NaN</td>\n",
       "    </tr>\n",
       "    <tr>\n",
       "      <th>6</th>\n",
       "      <td>Nachrichtentechnik, Heinrich-Hertz-Institut</td>\n",
       "      <td>Fraunhofer Institute for Telecommunications, H...</td>\n",
       "      <td>HHI</td>\n",
       "      <td>Berlin</td>\n",
       "      <td>https://app.dimensions.ai/discover/publication...</td>\n",
       "      <td>grid.435231.2</td>\n",
       "      <td>Question for FHG: Name is HHI and Fraunhofer I...</td>\n",
       "      <td>NaN</td>\n",
       "      <td>NaN</td>\n",
       "    </tr>\n",
       "  </tbody>\n",
       "</table>\n",
       "</div>"
      ],
      "text/plain": [
       "                                          Unnamed: 0  \\\n",
       "2                                       Lasertechnik   \n",
       "3  Molekularbiologie und Angewandte Oekologie – B...   \n",
       "4                             Produktionstechnologie   \n",
       "5     Gießerei-, Composite- und Verarbeitungstechnik   \n",
       "6        Nachrichtentechnik, Heinrich-Hertz-Institut   \n",
       "\n",
       "                                          Unnamed: 1 Unnamed: 2 Unnamed: 3  \\\n",
       "2          Fraunhofer Institute for Laser Technology        ILT     Aachen   \n",
       "3  Fraunhofer Institute for Molecular Biology and...        IME     Aachen   \n",
       "4     Fraunhofer Institute for Production Technology        IPT     Aachen   \n",
       "5  Fraunhofer Research Institution for Casting, C...       IGCV   Augsburg   \n",
       "6  Fraunhofer Institute for Telecommunications, H...        HHI     Berlin   \n",
       "\n",
       "                                          Unnamed: 4     Unnamed: 5  \\\n",
       "2  https://app.dimensions.ai/discover/publication...  grid.461628.f   \n",
       "3  https://app.dimensions.ai/discover/publication...  grid.418010.c   \n",
       "4  https://app.dimensions.ai/discover/publication...  grid.461634.2   \n",
       "5                                                NaN  grid.506241.4   \n",
       "6  https://app.dimensions.ai/discover/publication...  grid.435231.2   \n",
       "\n",
       "                                          Unnamed: 6 Unnamed: 7 Unnamed: 8  \n",
       "2                                                NaN        NaN        NaN  \n",
       "3                                                NaN        NaN        NaN  \n",
       "4                                                NaN        NaN        NaN  \n",
       "5  No institution profile in Dimensions, about 70...        NaN        NaN  \n",
       "6  Question for FHG: Name is HHI and Fraunhofer I...        NaN        NaN  "
      ]
     },
     "execution_count": 29,
     "metadata": {},
     "output_type": "execute_result"
    }
   ],
   "source": [
    "data.head()"
   ]
  },
  {
   "cell_type": "markdown",
   "metadata": {
    "Collapsed": "false"
   },
   "source": [
    "### Check for duplicates"
   ]
  },
  {
   "cell_type": "code",
   "execution_count": 30,
   "metadata": {
    "Collapsed": "false"
   },
   "outputs": [
    {
     "data": {
      "text/plain": [
       "73"
      ]
     },
     "execution_count": 30,
     "metadata": {},
     "output_type": "execute_result"
    }
   ],
   "source": [
    "len(data.drop_duplicates(\"Unnamed: 5\"))"
   ]
  },
  {
   "cell_type": "code",
   "execution_count": 31,
   "metadata": {
    "Collapsed": "false"
   },
   "outputs": [
    {
     "data": {
      "text/html": [
       "<div>\n",
       "<style scoped>\n",
       "    .dataframe tbody tr th:only-of-type {\n",
       "        vertical-align: middle;\n",
       "    }\n",
       "\n",
       "    .dataframe tbody tr th {\n",
       "        vertical-align: top;\n",
       "    }\n",
       "\n",
       "    .dataframe thead th {\n",
       "        text-align: right;\n",
       "    }\n",
       "</style>\n",
       "<table border=\"1\" class=\"dataframe\">\n",
       "  <thead>\n",
       "    <tr style=\"text-align: right;\">\n",
       "      <th></th>\n",
       "      <th>Unnamed: 0</th>\n",
       "      <th>Unnamed: 1</th>\n",
       "      <th>Unnamed: 2</th>\n",
       "      <th>Unnamed: 3</th>\n",
       "      <th>Unnamed: 4</th>\n",
       "      <th>Unnamed: 5</th>\n",
       "      <th>Unnamed: 6</th>\n",
       "      <th>Unnamed: 7</th>\n",
       "      <th>Unnamed: 8</th>\n",
       "    </tr>\n",
       "  </thead>\n",
       "  <tbody>\n",
       "    <tr>\n",
       "      <th>42</th>\n",
       "      <td>Keramische Technologien und Systeme</td>\n",
       "      <td>Fraunhofer Institute for Ceramic Technologies ...</td>\n",
       "      <td>IKTS</td>\n",
       "      <td>Hermsdorf</td>\n",
       "      <td>https://app.dimensions.ai/discover/publication...</td>\n",
       "      <td>grid.461622.5</td>\n",
       "      <td>NaN</td>\n",
       "      <td>NaN</td>\n",
       "      <td>NaN</td>\n",
       "    </tr>\n",
       "    <tr>\n",
       "      <th>49</th>\n",
       "      <td>Optronik, Systemtechnik und Bildauswertung</td>\n",
       "      <td>Fraunhofer Institute of Optronics, System Tech...</td>\n",
       "      <td>IOSB</td>\n",
       "      <td>Karlsruhe</td>\n",
       "      <td>https://app.dimensions.ai/discover/publication...</td>\n",
       "      <td>grid.466706.5</td>\n",
       "      <td>NaN</td>\n",
       "      <td>NaN</td>\n",
       "      <td>NaN</td>\n",
       "    </tr>\n",
       "    <tr>\n",
       "      <th>69</th>\n",
       "      <td>Molekularbiologie und Angewandte Oekologie – B...</td>\n",
       "      <td>Fraunhofer Institute for Molecular Biology and...</td>\n",
       "      <td>IME</td>\n",
       "      <td>Schmallenberg</td>\n",
       "      <td>https://app.dimensions.ai/discover/publication...</td>\n",
       "      <td>grid.418010.c</td>\n",
       "      <td>NaN</td>\n",
       "      <td>NaN</td>\n",
       "      <td>NaN</td>\n",
       "    </tr>\n",
       "    <tr>\n",
       "      <th>71</th>\n",
       "      <td>Bauphysik</td>\n",
       "      <td>Fraunhofer Institute for Building Physics</td>\n",
       "      <td>IBP</td>\n",
       "      <td>Stuttgart</td>\n",
       "      <td>https://app.dimensions.ai/discover/publication...</td>\n",
       "      <td>grid.469871.5</td>\n",
       "      <td>NaN</td>\n",
       "      <td>NaN</td>\n",
       "      <td>NaN</td>\n",
       "    </tr>\n",
       "  </tbody>\n",
       "</table>\n",
       "</div>"
      ],
      "text/plain": [
       "                                           Unnamed: 0  \\\n",
       "42                Keramische Technologien und Systeme   \n",
       "49         Optronik, Systemtechnik und Bildauswertung   \n",
       "69  Molekularbiologie und Angewandte Oekologie – B...   \n",
       "71                                          Bauphysik   \n",
       "\n",
       "                                           Unnamed: 1 Unnamed: 2  \\\n",
       "42  Fraunhofer Institute for Ceramic Technologies ...       IKTS   \n",
       "49  Fraunhofer Institute of Optronics, System Tech...       IOSB   \n",
       "69  Fraunhofer Institute for Molecular Biology and...        IME   \n",
       "71          Fraunhofer Institute for Building Physics        IBP   \n",
       "\n",
       "       Unnamed: 3                                         Unnamed: 4  \\\n",
       "42      Hermsdorf  https://app.dimensions.ai/discover/publication...   \n",
       "49      Karlsruhe  https://app.dimensions.ai/discover/publication...   \n",
       "69  Schmallenberg  https://app.dimensions.ai/discover/publication...   \n",
       "71      Stuttgart  https://app.dimensions.ai/discover/publication...   \n",
       "\n",
       "       Unnamed: 5 Unnamed: 6 Unnamed: 7 Unnamed: 8  \n",
       "42  grid.461622.5        NaN        NaN        NaN  \n",
       "49  grid.466706.5        NaN        NaN        NaN  \n",
       "69  grid.418010.c        NaN        NaN        NaN  \n",
       "71  grid.469871.5        NaN        NaN        NaN  "
      ]
     },
     "execution_count": 31,
     "metadata": {},
     "output_type": "execute_result"
    }
   ],
   "source": [
    "data[data.duplicated(\"Unnamed: 5\")]"
   ]
  },
  {
   "cell_type": "markdown",
   "metadata": {
    "Collapsed": "false"
   },
   "source": [
    "## Create new DF with name+grid and generate string"
   ]
  },
  {
   "cell_type": "code",
   "execution_count": 32,
   "metadata": {
    "Collapsed": "false",
    "colab": {},
    "colab_type": "code",
    "id": "km5pMupHFFpH"
   },
   "outputs": [
    {
     "data": {
      "text/html": [
       "<div>\n",
       "<style scoped>\n",
       "    .dataframe tbody tr th:only-of-type {\n",
       "        vertical-align: middle;\n",
       "    }\n",
       "\n",
       "    .dataframe tbody tr th {\n",
       "        vertical-align: top;\n",
       "    }\n",
       "\n",
       "    .dataframe thead th {\n",
       "        text-align: right;\n",
       "    }\n",
       "</style>\n",
       "<table border=\"1\" class=\"dataframe\">\n",
       "  <thead>\n",
       "    <tr style=\"text-align: right;\">\n",
       "      <th></th>\n",
       "      <th>Unnamed: 1</th>\n",
       "      <th>Unnamed: 5</th>\n",
       "    </tr>\n",
       "  </thead>\n",
       "  <tbody>\n",
       "    <tr>\n",
       "      <th>2</th>\n",
       "      <td>Fraunhofer Institute for Laser Technology</td>\n",
       "      <td>grid.461628.f</td>\n",
       "    </tr>\n",
       "    <tr>\n",
       "      <th>3</th>\n",
       "      <td>Fraunhofer Institute for Molecular Biology and...</td>\n",
       "      <td>grid.418010.c</td>\n",
       "    </tr>\n",
       "    <tr>\n",
       "      <th>4</th>\n",
       "      <td>Fraunhofer Institute for Production Technology</td>\n",
       "      <td>grid.461634.2</td>\n",
       "    </tr>\n",
       "    <tr>\n",
       "      <th>5</th>\n",
       "      <td>Fraunhofer Research Institution for Casting, C...</td>\n",
       "      <td>grid.506241.4</td>\n",
       "    </tr>\n",
       "    <tr>\n",
       "      <th>6</th>\n",
       "      <td>Fraunhofer Institute for Telecommunications, H...</td>\n",
       "      <td>grid.435231.2</td>\n",
       "    </tr>\n",
       "  </tbody>\n",
       "</table>\n",
       "</div>"
      ],
      "text/plain": [
       "                                          Unnamed: 1     Unnamed: 5\n",
       "2          Fraunhofer Institute for Laser Technology  grid.461628.f\n",
       "3  Fraunhofer Institute for Molecular Biology and...  grid.418010.c\n",
       "4     Fraunhofer Institute for Production Technology  grid.461634.2\n",
       "5  Fraunhofer Research Institution for Casting, C...  grid.506241.4\n",
       "6  Fraunhofer Institute for Telecommunications, H...  grid.435231.2"
      ]
     },
     "execution_count": 32,
     "metadata": {},
     "output_type": "execute_result"
    }
   ],
   "source": [
    "newdf = data[['Unnamed: 1', 'Unnamed: 5']]\n",
    "newdf.head()"
   ]
  },
  {
   "cell_type": "code",
   "execution_count": 33,
   "metadata": {
    "Collapsed": "false",
    "colab": {},
    "colab_type": "code",
    "id": "TPY7-TYTFsHS"
   },
   "outputs": [],
   "source": [
    "out = []\n",
    "for index, row in newdf.iterrows():\n",
    "    out += [row['Unnamed: 1'] + \" == \" + row['Unnamed: 5']]"
   ]
  },
  {
   "cell_type": "code",
   "execution_count": 34,
   "metadata": {
    "Collapsed": "false",
    "colab": {
     "base_uri": "https://localhost:8080/",
     "height": 54
    },
    "colab_type": "code",
    "executionInfo": {
     "elapsed": 369,
     "status": "ok",
     "timestamp": 1574183903904,
     "user": {
      "displayName": "Michele Pasin",
      "photoUrl": "https://lh3.googleusercontent.com/a-/AAuE7mBu8LVjIGgontF2Wax51BoL5KFx8esezX3bUmaa0g=s64",
      "userId": "10309320684375994511"
     },
     "user_tz": 0
    },
    "id": "MTSlSsZeGN1v",
    "outputId": "9005383f-9ee3-4e73-ff7c-cf33ca042837"
   },
   "outputs": [
    {
     "data": {
      "text/plain": [
       "\"['Fraunhofer Institute for Laser Technology == grid.461628.f', 'Fraunhofer Institute for Molecular Biology and Applied Ecology == grid.418010.c', 'Fraunhofer Institute for Production Technology == grid.461634.2', 'Fraunhofer Research Institution for Casting, Composite and Processing Technology == grid.506241.4', 'Fraunhofer Institute for Telecommunications, Heinrich Hertz Institute == grid.435231.2', 'Fraunhofer Institute for Open Communication Systems == grid.469837.7', 'Fraunhofer Institute for Production Systems and Design Technology == grid.469819.b', 'Fraunhofer Institute for Reliability and Microintegration == grid.469839.9', 'Fraunhofer Institute for Wood Research Wilhelm-Klauditz-Institut == grid.469829.8', 'Fraunhofer Institute for Surface Engineering and Thin Films == grid.462227.7', 'Fraunhofer Institute for Digital Medicine == grid.428590.2', 'Fraunhofer Institute for Manufacturing Technology and Advanced Materials == grid.461617.3', 'Fraunhofer Institute for Wind Energy Systems == grid.8440.8', 'Fraunhofer Institute for Electronic Nano Systems == grid.469847.0', 'Fraunhofer Institute for Machine Tools and Forming Technology == grid.461651.1', 'Fraunhofer Institute for Structural Durability and System Reliability == grid.434481.e', 'Fraunhofer Institute for Computer Graphics Research == grid.461618.c', 'Fraunhofer Institute for Secure Information Technology == grid.469848.f', 'Fraunhofer Institute for Material Flow and Logistics == grid.469827.6', 'Fraunhofer Institute for Software and Systems Engineering == grid.469821.0', 'Fraunhofer Institute for Ceramic Technologies and Systems == grid.461622.5', 'Fraunhofer Institute for Organic Electronics, Electron Beam and Plasma Technology == grid.469851.7', 'Fraunhofer Institute for Photonic Microsystems == grid.469853.5', 'Fraunhofer Institute for Transportation and Infrastructure Systems == grid.469826.7', 'Fraunhofer Institute for Material and Beam Technology == grid.461641.0', 'Fraunhofer Institute for Microelectronic Circuits and Systems == grid.469854.2', 'Fraunhofer Institute for Integrated Circuits == grid.469850.6', 'Fraunhofer Institute for Integrated Circuits == grid.469823.2', 'Fraunhofer Institute for Integrated Systems and Device Technology == grid.469855.3', 'Fraunhofer Institute of Optronics, System Technologies and Image Exploitation == grid.466706.5', 'Fraunhofer Institute for Technological Trend Analysis == grid.469856.0', 'Fraunhofer Institute for Applied Solid State Physics == grid.424642.2', 'Fraunhofer Institute for High-Speed Dynamics, Ernst-Mach-Institut == grid.461627.0', 'Fraunhofer Institute for Physical Measurement Techniques == grid.461631.7', 'Fraunhofer Institute for Solar Energy Systems == grid.434479.9', 'Fraunhofer Institute for Mechanics of Materials == grid.461645.4', 'Fraunhofer Institute for Process Engineering and Packaging == grid.466709.a', 'Fraunhofer Institute for Microstructure of Materials and Systems == grid.469857.1', 'Fraunhofer Research Institution for Additive Manufacturing Technologies == grid.506239.b', 'Fraunhofer Institute for Toxicology and Experimental Medicine == grid.418009.4', 'Fraunhofer Institute for Ceramic Technologies and Systems == grid.461622.5', 'Fraunhofer Institute for Building Physics == grid.469871.5', 'Fraunhofer Institute for Digital Media Technology  == grid.469861.4', 'Fraunhofer Institute for Silicon Technology == grid.469817.5', 'Fraunhofer Institute for Applied Optics and Precision Engineering == grid.418007.a', 'Fraunhofer Institute for Experimental Software Engineering == grid.469863.6', 'Fraunhofer Institute for Industrial Mathematics == grid.461635.3', 'Fraunhofer Institute of Optronics, System Technologies and Image Exploitation == grid.466706.5', 'Fraunhofer Institute for Systems and Innovation Research == grid.459551.9', 'Fraunhofer Institute for Energy Economics and Energy System Technology == grid.506250.4', 'Fraunhofer Center for International Management and Knowledge Economy == grid.462230.1', 'Fraunhofer Institute for Cell Therapy and Immunology == grid.418008.5', 'Fraunhofer Research Institution for Marine Biotechnology and Cell Technology == grid.469834.4', 'Fraunhofer Institute for Factory Operation and Automation == grid.469818.a', 'Fraunhofer Institute for Microengineering and Microsystems == grid.28894.3f', 'Fraunhofer Institute for Embedded Systems and Communication Technologies == grid.469865.0', 'Fraunhofer Research Institution for Microsystems and Solid State Technologies == grid.469866.3', 'Fraunhofer Institute for Applied and Integrated Security == grid.469867.2', 'Fraunhofer Institute for Environmental, Safety, and Energy Technology == grid.424428.c', 'Fraunhofer Institute for Mechatronic Systems Design == grid.469868.d', 'Fraunhofer Institute for Chemical Technology == grid.461616.2', 'Fraunhofer Institute for Applied Polymer Research == grid.461615.1', 'Fraunhofer Research Institution for Large Structures in Production Engineering == grid.506226.5', 'Fraunhofer Institute for Nondestructive Testing == grid.469830.0', 'Fraunhofer Institute for Algorithms and Scientific Computing == grid.418688.b', 'Fraunhofer Institute for Applied Information Technology == grid.469870.4', 'Fraunhofer Institute for Intelligent Analysis and Information Systems == grid.469822.3', 'Fraunhofer Institute for Molecular Biology and Applied Ecology == grid.418010.c', 'Fraunhofer Institute for Industrial Engineering == grid.434477.7', 'Fraunhofer Institute for Building Physics == grid.469871.5', 'Fraunhofer Institute for Interfacial Engineering and Biotechnology == grid.469831.1', 'Fraunhofer Institute for Manufacturing Engineering and Automation == grid.469833.3', 'Fraunhofer Information Center for Planning and Building == grid.469872.6', 'Fraunhofer Institute for Biomedical Engineering == grid.452493.d', 'Fraunhofer Institute for High Frequency Physics and Radar Techniques == grid.461619.d', 'Fraunhofer Institute for Communication, Information Processing and Ergonomics == grid.469836.6', 'Fraunhofer Institute for Silicate Research == grid.424644.4']\""
      ]
     },
     "execution_count": 34,
     "metadata": {},
     "output_type": "execute_result"
    }
   ],
   "source": [
    "str(out)"
   ]
  },
  {
   "cell_type": "markdown",
   "metadata": {
    "Collapsed": "false"
   },
   "source": [
    "it'll look like this in the end"
   ]
  },
  {
   "cell_type": "code",
   "execution_count": 35,
   "metadata": {
    "Collapsed": "false",
    "colab": {},
    "colab_type": "code",
    "id": "bOhV1v6HGTBQ"
   },
   "outputs": [],
   "source": [
    "gridid = \"ALL\"  #@param ['ALL', 'Fraunhofer Institute for Laser Technology == grid.461628.f', 'Fraunhofer Institute for Molecular Biology and Applied Ecology == grid.418010.c', 'Fraunhofer Institute for Production Technology == grid.461634.2', 'Fraunhofer Research Institution for Casting, Composite and Processing Technology == grid.506241.4', 'Fraunhofer Institute for Telecommunications, Heinrich Hertz Institute == grid.435231.2', 'Fraunhofer Institute for Open Communication Systems == grid.469837.7', 'Fraunhofer Institute for Production Systems and Design Technology == grid.469819.b', 'Fraunhofer Institute for Reliability and Microintegration == grid.469839.9', 'Fraunhofer Institute for Wood Research Wilhelm-Klauditz-Institut == grid.469829.8', 'Fraunhofer Institute for Surface Engineering and Thin Films == grid.462227.7', 'Fraunhofer Institute for Digital Medicine == grid.428590.2', 'Fraunhofer Institute for Manufacturing Technology and Advanced Materials == grid.461617.3', 'Fraunhofer Institute for Wind Energy Systems == grid.8440.8', 'Fraunhofer Institute for Electronic Nano Systems == grid.469847.0', 'Fraunhofer Institute for Machine Tools and Forming Technology == grid.461651.1', 'Fraunhofer Institute for Structural Durability and System Reliability == grid.434481.e', 'Fraunhofer Institute for Computer Graphics Research == grid.461618.c', 'Fraunhofer Institute for Secure Information Technology == grid.469848.f', 'Fraunhofer Institute for Material Flow and Logistics == grid.469827.6', 'Fraunhofer Institute for Software and Systems Engineering == grid.469821.0', 'Fraunhofer Institute for Ceramic Technologies and Systems == grid.461622.5', 'Fraunhofer Institute for Organic Electronics, Electron Beam and Plasma Technology == grid.469851.7', 'Fraunhofer Institute for Photonic Microsystems == grid.469853.5', 'Fraunhofer Institute for Transportation and Infrastructure Systems == grid.469826.7', 'Fraunhofer Institute for Material and Beam Technology == grid.461641.0', 'Fraunhofer Institute for Microelectronic Circuits and Systems == grid.469854.2', 'Fraunhofer Institute for Integrated Circuits == grid.469850.6', 'Fraunhofer Institute for Integrated Circuits == grid.469823.2', 'Fraunhofer Institute for Integrated Systems and Device Technology == grid.469855.3', 'Fraunhofer Institute of Optronics, System Technologies and Image Exploitation == grid.466706.5', 'Fraunhofer Institute for Technological Trend Analysis == grid.469856.0', 'Fraunhofer Institute for Applied Solid State Physics == grid.424642.2', 'Fraunhofer Institute for High-Speed Dynamics, Ernst-Mach-Institut == grid.461627.0', 'Fraunhofer Institute for Physical Measurement Techniques == grid.461631.7', 'Fraunhofer Institute for Solar Energy Systems == grid.434479.9', 'Fraunhofer Institute for Mechanics of Materials == grid.461645.4', 'Fraunhofer Institute for Process Engineering and Packaging == grid.466709.a', 'Fraunhofer Institute for Microstructure of Materials and Systems == grid.469857.1', 'Fraunhofer Research Institution for Additive Manufacturing Technologies == grid.506239.b', 'Fraunhofer Institute for Toxicology and Experimental Medicine == grid.418009.4', 'Fraunhofer Institute for Ceramic Technologies and Systems == grid.461622.5', 'Fraunhofer Institute for Building Physics == grid.469871.5', 'Fraunhofer Institute for Digital Media Technology  == grid.469861.4', 'Fraunhofer Institute for Silicon Technology == grid.469817.5', 'Fraunhofer Institute for Applied Optics and Precision Engineering == grid.418007.a', 'Fraunhofer Institute for Experimental Software Engineering == grid.469863.6', 'Fraunhofer Institute for Industrial Mathematics == grid.461635.3', 'Fraunhofer Institute of Optronics, System Technologies and Image Exploitation == grid.466706.5', 'Fraunhofer Institute for Systems and Innovation Research == grid.459551.9', 'Fraunhofer Institute for Energy Economics and Energy System Technology == grid.506250.4', 'Fraunhofer Center for International Management and Knowledge Economy == grid.462230.1', 'Fraunhofer Institute for Cell Therapy and Immunology == grid.418008.5', 'Fraunhofer Research Institution for Marine Biotechnology and Cell Technology == grid.469834.4', 'Fraunhofer Institute for Factory Operation and Automation == grid.469818.a', 'Fraunhofer Institute for Microengineering and Microsystems == grid.28894.3f', 'Fraunhofer Institute for Embedded Systems and Communication Technologies == grid.469865.0', 'Fraunhofer Research Institution for Microsystems and Solid State Technologies == grid.469866.3', 'Fraunhofer Institute for Applied and Integrated Security == grid.469867.2', 'Fraunhofer Institute for Environmental, Safety, and Energy Technology == grid.424428.c', 'Fraunhofer Institute for Mechatronic Systems Design == grid.469868.d', 'Fraunhofer Institute for Chemical Technology == grid.461616.2', 'Fraunhofer Institute for Applied Polymer Research == grid.461615.1', 'Fraunhofer Research Institution for Large Structures in Production Engineering == grid.506226.5', 'Fraunhofer Institute for Nondestructive Testing == grid.469830.0', 'Fraunhofer Institute for Algorithms and Scientific Computing == grid.418688.b', 'Fraunhofer Institute for Applied Information Technology == grid.469870.4', 'Fraunhofer Institute for Intelligent Analysis and Information Systems == grid.469822.3', 'Fraunhofer Institute for Molecular Biology and Applied Ecology == grid.418010.c', 'Fraunhofer Institute for Industrial Engineering == grid.434477.7', 'Fraunhofer Institute for Building Physics == grid.469871.5', 'Fraunhofer Institute for Interfacial Engineering and Biotechnology == grid.469831.1', 'Fraunhofer Institute for Manufacturing Engineering and Automation == grid.469833.3', 'Fraunhofer Information Center for Planning and Building == grid.469872.6', 'Fraunhofer Institute for Biomedical Engineering == grid.452493.d', 'Fraunhofer Institute for High Frequency Physics and Radar Techniques == grid.461619.d', 'Fraunhofer Institute for Communication, Information Processing and Ergonomics == grid.469836.6', 'Fraunhofer Institute for Silicate Research == grid.424644.4']"
   ]
  },
  {
   "cell_type": "code",
   "execution_count": null,
   "metadata": {
    "Collapsed": "false",
    "colab": {},
    "colab_type": "code",
    "id": "GWW2KH5RrMax"
   },
   "outputs": [],
   "source": []
  },
  {
   "cell_type": "markdown",
   "metadata": {
    "Collapsed": "false"
   },
   "source": [
    "## Check URL from CH"
   ]
  },
  {
   "cell_type": "code",
   "execution_count": 36,
   "metadata": {
    "Collapsed": "false"
   },
   "outputs": [],
   "source": [
    "s = \"\"\"https://app.dimensions.ai/discover/publication?or_facet_research_org=grid.461628.f&or_facet_research_org=grid.418010.c&or_facet_research_org=grid.461634.2&or_facet_research_org=grid.435231.2&or_facet_research_org=grid.469837.7&or_facet_research_org=grid.469819.b&or_facet_research_org=grid.469839.9&or_facet_research_org=grid.469829.8&or_facet_research_org=grid.462227.7&or_facet_research_org=grid.428590.2&or_facet_research_org=grid.461617.3&or_facet_research_org=grid.8440.8&or_facet_research_org=grid.469847.0&or_facet_research_org=grid.461651.1&or_facet_research_org=grid.434481.e&or_facet_research_org=grid.461618.c&or_facet_research_org=grid.469848.f&or_facet_research_org=grid.469827.6&or_facet_research_org=grid.469821.0&or_facet_research_org=grid.461622.5&or_facet_research_org=grid.469851.7&or_facet_research_org=grid.469853.5&or_facet_research_org=grid.469826.7&or_facet_research_org=grid.461641.0&or_facet_research_org=grid.469854.2&or_facet_research_org=grid.469823.2&or_facet_research_org=grid.469850.6&or_facet_research_org=grid.469855.3&or_facet_research_org=grid.466706.5&or_facet_research_org=grid.469856.0&or_facet_research_org=grid.424642.2&or_facet_research_org=grid.461627.0&or_facet_research_org=grid.461631.7&or_facet_research_org=grid.434479.9&or_facet_research_org=grid.461645.4&or_facet_research_org=grid.466709.a&or_facet_research_org=grid.469857.1&or_facet_research_org=grid.418009.4&or_facet_research_org=grid.461622.5&or_facet_research_org=grid.469871.5&or_facet_research_org=grid.469861.4&or_facet_research_org=grid.469817.5&or_facet_research_org=grid.418007.a&or_facet_research_org=grid.469863.6&or_facet_research_org=grid.461635.3&or_facet_research_org=grid.466706.5&or_facet_research_org=grid.459551.9&or_facet_research_org=grid.462230.1&or_facet_research_org=grid.418008.5&or_facet_research_org=grid.469834.4&or_facet_research_org=grid.469818.a&or_facet_research_org=grid.28894.3f&or_facet_research_org=grid.469865.0&or_facet_research_org=grid.469866.3&or_facet_research_org=grid.469867.2&or_facet_research_org=grid.424428.c&or_facet_research_org=grid.469868.d&or_facet_research_org=grid.461616.2&or_facet_research_org=grid.461615.1&or_facet_research_org=grid.469830.0&or_facet_research_org=grid.418688.b&or_facet_research_org=grid.469870.4&or_facet_research_org=grid.469822.3&or_facet_research_org=grid.418010.c&or_facet_research_org=grid.434477.7&or_facet_research_org=grid.469871.5&or_facet_research_org=grid.469831.1&or_facet_research_org=grid.469833.3&or_facet_research_org=grid.469872.6&or_facet_research_org=grid.452493.d&or_facet_research_org=grid.461619.d&or_facet_research_org=grid.469836.6&or_facet_research_org=grid.424644.4\"\"\""
   ]
  },
  {
   "cell_type": "code",
   "execution_count": 37,
   "metadata": {
    "Collapsed": "false"
   },
   "outputs": [
    {
     "name": "stdout",
     "output_type": "stream",
     "text": [
      "73\n"
     ]
    }
   ],
   "source": [
    "l = s.split(\"or_facet_research_org=\")[1:]\n",
    "print(len(l))"
   ]
  },
  {
   "cell_type": "code",
   "execution_count": 38,
   "metadata": {
    "Collapsed": "false"
   },
   "outputs": [
    {
     "name": "stdout",
     "output_type": "stream",
     "text": [
      "73\n"
     ]
    }
   ],
   "source": [
    "l = [x.replace(\"&\", \"\") for x in l]\n",
    "print(len(l))"
   ]
  },
  {
   "cell_type": "code",
   "execution_count": 39,
   "metadata": {
    "Collapsed": "false"
   },
   "outputs": [
    {
     "name": "stdout",
     "output_type": "stream",
     "text": [
      "69\n"
     ]
    }
   ],
   "source": [
    "ll = set(l)\n",
    "print(len(ll))"
   ]
  },
  {
   "cell_type": "code",
   "execution_count": 40,
   "metadata": {
    "Collapsed": "false"
   },
   "outputs": [
    {
     "data": {
      "text/plain": [
       "73"
      ]
     },
     "execution_count": 40,
     "metadata": {},
     "output_type": "execute_result"
    }
   ],
   "source": [
    "grids_sheet = list(data.drop_duplicates(\"Unnamed: 5\")[\"Unnamed: 5\"])\n",
    "len(grids_sheet)"
   ]
  },
  {
   "cell_type": "code",
   "execution_count": 41,
   "metadata": {
    "Collapsed": "false"
   },
   "outputs": [],
   "source": [
    "# should return nothing\n",
    "for g in ll:\n",
    "    if g not in grids_sheet:\n",
    "        print(g)"
   ]
  }
 ],
 "metadata": {
  "colab": {
   "collapsed_sections": [],
   "name": "Fraunhofer - grid data prep.ipynb",
   "provenance": [],
   "toc_visible": true
  },
  "kernelspec": {
   "display_name": "Python 3",
   "language": "python",
   "name": "python3"
  },
  "language_info": {
   "codemirror_mode": {
    "name": "ipython",
    "version": 3
   },
   "file_extension": ".py",
   "mimetype": "text/x-python",
   "name": "python",
   "nbconvert_exporter": "python",
   "pygments_lexer": "ipython3",
   "version": "3.7.4"
  }
 },
 "nbformat": 4,
 "nbformat_minor": 4
}
