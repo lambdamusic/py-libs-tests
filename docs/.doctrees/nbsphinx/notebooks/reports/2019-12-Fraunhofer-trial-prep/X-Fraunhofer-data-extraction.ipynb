{
 "cells": [
  {
   "cell_type": "markdown",
   "metadata": {
    "Collapsed": "false",
    "colab_type": "text",
    "id": "xjqXbj55dkH0"
   },
   "source": [
    "# Fraunhofer Data in Dimensions: Statistics\n",
    "\n",
    "This notebook allows to produce up-to-date statistics on the number of documents associated to the Fraunhofer Society organizations, which are available via Dimensions. \n",
    "\n",
    "The statistics produced are: \n",
    "* number of authored publications \n",
    "* number of grants received \n",
    "* number of associated clinical trials \n",
    "* number of assigned patents \n",
    "* number of associated policy documents *(TBC as this is zero)*\n",
    "\n",
    "Furthermore, starting from the authored Publications data, we also extract the overall number of outgoing links to other objects: Grants, Clinical Trials, Patents and Policy Documents. \n",
    "\n",
    "\n",
    "\n",
    "\n",
    "Background: \n",
    "* Extraction Plan: https://docs.google.com/document/d/1uNT-GXP5xoL0IGMwLFTJ9p6R8yM1z3x1vnl_1t6qMQM/edit\n",
    "* Fraunhofer GRIDs: https://docs.google.com/spreadsheets/d/1R0aDY0BZvzag9dAiklaqWq9v8FQpMxHSqZVcKg__CmQ/edit#gid=0\n"
   ]
  },
  {
   "cell_type": "markdown",
   "metadata": {
    "Collapsed": "false",
    "colab_type": "text",
    "id": "JmIHSwq46aK0"
   },
   "source": [
    "## 1. Install Libraries\n"
   ]
  },
  {
   "cell_type": "code",
   "execution_count": 1,
   "metadata": {
    "Collapsed": "false",
    "colab": {
     "base_uri": "https://localhost:8080/",
     "height": 34
    },
    "colab_type": "code",
    "executionInfo": {
     "elapsed": 10239,
     "status": "ok",
     "timestamp": 1575564829414,
     "user": {
      "displayName": "Michele Pasin",
      "photoUrl": "https://lh3.googleusercontent.com/a-/AAuE7mBu8LVjIGgontF2Wax51BoL5KFx8esezX3bUmaa0g=s64",
      "userId": "10309320684375994511"
     },
     "user_tz": 0
    },
    "id": "5cbCB86W0EHw",
    "outputId": "c1df4e6a-0633-4d20-a7b8-8c3e02428211"
   },
   "outputs": [
    {
     "name": "stdout",
     "output_type": "stream",
     "text": [
      "\u001b[?25l\r",
      "\u001b[K     |██▉                             | 10kB 22.6MB/s eta 0:00:01\r",
      "\u001b[K     |█████▊                          | 20kB 3.3MB/s eta 0:00:01\r",
      "\u001b[K     |████████▌                       | 30kB 4.7MB/s eta 0:00:01\r",
      "\u001b[K     |███████████▍                    | 40kB 3.0MB/s eta 0:00:01\r",
      "\u001b[K     |██████████████▏                 | 51kB 3.7MB/s eta 0:00:01\r",
      "\u001b[K     |█████████████████               | 61kB 4.3MB/s eta 0:00:01\r",
      "\u001b[K     |███████████████████▉            | 71kB 5.0MB/s eta 0:00:01\r",
      "\u001b[K     |██████████████████████▊         | 81kB 5.6MB/s eta 0:00:01\r",
      "\u001b[K     |█████████████████████████▌      | 92kB 6.2MB/s eta 0:00:01\r",
      "\u001b[K     |████████████████████████████▍   | 102kB 4.8MB/s eta 0:00:01\r",
      "\u001b[K     |███████████████████████████████▏| 112kB 4.8MB/s eta 0:00:01\r",
      "\u001b[K     |████████████████████████████████| 122kB 4.8MB/s \n",
      "\u001b[?25h"
     ]
    }
   ],
   "source": [
    "!pip install dimcli plotly_express -U --quiet \n",
    "try:\n",
    "  !mkdir results\n",
    "except:\n",
    "  print(\"Failed to create a `results` folder to store the output of this notebook - please do it manually.\")\n"
   ]
  },
  {
   "cell_type": "markdown",
   "metadata": {
    "Collapsed": "false",
    "colab_type": "text",
    "id": "98_gAg3q1chs"
   },
   "source": [
    "## 2. Log into the Dimensions API\n",
    "\n",
    "And also setup a bunch of useful libraries. "
   ]
  },
  {
   "cell_type": "code",
   "execution_count": 2,
   "metadata": {
    "Collapsed": "false",
    "cellView": "both",
    "colab": {
     "base_uri": "https://localhost:8080/",
     "height": 249
    },
    "colab_type": "code",
    "executionInfo": {
     "elapsed": 11204,
     "status": "error",
     "timestamp": 1575564830389,
     "user": {
      "displayName": "Michele Pasin",
      "photoUrl": "https://lh3.googleusercontent.com/a-/AAuE7mBu8LVjIGgontF2Wax51BoL5KFx8esezX3bUmaa0g=s64",
      "userId": "10309320684375994511"
     },
     "user_tz": 0
    },
    "id": "y74LlFHe1129",
    "outputId": "a90a0fe1-785e-44e7-a5e7-ad6870ef42ef"
   },
   "outputs": [
    {
     "name": "stdout",
     "output_type": "stream",
     "text": [
      "=> username is: \n",
      "=> password is: \n",
      "ERROR: `dsl.ini` credentials file not found.\n",
      "HowTo: https://github.com/digital-science/dimcli#credentials-file\n"
     ]
    },
    {
     "ename": "SystemExit",
     "evalue": "ignored",
     "output_type": "error",
     "traceback": [
      "An exception has occurred, use %tb to see the full traceback.\n",
      "\u001b[0;31mSystemExit\u001b[0m\u001b[0;31m:\u001b[0m 0\n"
     ]
    },
    {
     "name": "stderr",
     "output_type": "stream",
     "text": [
      "/usr/local/lib/python3.6/dist-packages/IPython/core/interactiveshell.py:2890: UserWarning:\n",
      "\n",
      "To exit: use 'exit', 'quit', or Ctrl-D.\n",
      "\n"
     ]
    }
   ],
   "source": [
    "##\n",
    "# load common libraries\n",
    "##\n",
    "\n",
    "import dimcli\n",
    "from dimcli.shortcuts import *\n",
    "import plotly_express as px\n",
    "import pandas as pd\n",
    "import time\n",
    "import json\n",
    "\n",
    "\n",
    "##\n",
    "# LOG IN \n",
    "##\n",
    "\n",
    "user = \"m.pasin@digital-science.com\"  #@param {type: \"string\"}\n",
    "password = \"\" #@param {type: \"string\"}\n",
    "print('=> username is:', user)\n",
    "print('=> password is:', \"*\" * len(password))\n",
    "dimcli.login(user, password)\n",
    "\n",
    "##\n",
    "# OBJECTS \n",
    "##\n",
    "\n",
    "dsl = dimcli.Dsl()\n",
    "\n"
   ]
  },
  {
   "cell_type": "markdown",
   "metadata": {
    "Collapsed": "false",
    "colab_type": "text",
    "id": "cVhIN498fi9b"
   },
   "source": [
    "## 3. GRIDs selection"
   ]
  },
  {
   "cell_type": "code",
   "execution_count": 0,
   "metadata": {
    "Collapsed": "false",
    "cellView": "form",
    "colab": {},
    "colab_type": "code",
    "id": "Zvvob8TtHANv"
   },
   "outputs": [],
   "source": [
    "#@markdown Please choose a specific member of the Fraunhofer Society, or 'ALL', and then run this cell.\n",
    "\n",
    "organization = \"ALL\"  #@param ['ALL', 'Fraunhofer Institute for Laser Technology == grid.461628.f', 'Fraunhofer Institute for Molecular Biology and Applied Ecology == grid.418010.c', 'Fraunhofer Institute for Production Technology == grid.461634.2', 'Fraunhofer Research Institution for Casting, Composite and Processing Technology == grid.506241.4', 'Fraunhofer Institute for Telecommunications, Heinrich Hertz Institute == grid.435231.2', 'Fraunhofer Institute for Open Communication Systems == grid.469837.7', 'Fraunhofer Institute for Production Systems and Design Technology == grid.469819.b', 'Fraunhofer Institute for Reliability and Microintegration == grid.469839.9', 'Fraunhofer Institute for Wood Research Wilhelm-Klauditz-Institut == grid.469829.8', 'Fraunhofer Institute for Surface Engineering and Thin Films == grid.462227.7', 'Fraunhofer Institute for Digital Medicine == grid.428590.2', 'Fraunhofer Institute for Manufacturing Technology and Advanced Materials == grid.461617.3', 'Fraunhofer Institute for Wind Energy Systems == grid.8440.8', 'Fraunhofer Institute for Electronic Nano Systems == grid.469847.0', 'Fraunhofer Institute for Machine Tools and Forming Technology == grid.461651.1', 'Fraunhofer Institute for Structural Durability and System Reliability == grid.434481.e', 'Fraunhofer Institute for Computer Graphics Research == grid.461618.c', 'Fraunhofer Institute for Secure Information Technology == grid.469848.f', 'Fraunhofer Institute for Material Flow and Logistics == grid.469827.6', 'Fraunhofer Institute for Software and Systems Engineering == grid.469821.0', 'Fraunhofer Institute for Ceramic Technologies and Systems == grid.461622.5', 'Fraunhofer Institute for Organic Electronics, Electron Beam and Plasma Technology == grid.469851.7', 'Fraunhofer Institute for Photonic Microsystems == grid.469853.5', 'Fraunhofer Institute for Transportation and Infrastructure Systems == grid.469826.7', 'Fraunhofer Institute for Material and Beam Technology == grid.461641.0', 'Fraunhofer Institute for Microelectronic Circuits and Systems == grid.469854.2', 'Fraunhofer Institute for Integrated Circuits == grid.469850.6', 'Fraunhofer Institute for Integrated Circuits == grid.469823.2', 'Fraunhofer Institute for Integrated Systems and Device Technology == grid.469855.3', 'Fraunhofer Institute of Optronics, System Technologies and Image Exploitation == grid.466706.5', 'Fraunhofer Institute for Technological Trend Analysis == grid.469856.0', 'Fraunhofer Institute for Applied Solid State Physics == grid.424642.2', 'Fraunhofer Institute for High-Speed Dynamics, Ernst-Mach-Institut == grid.461627.0', 'Fraunhofer Institute for Physical Measurement Techniques == grid.461631.7', 'Fraunhofer Institute for Solar Energy Systems == grid.434479.9', 'Fraunhofer Institute for Mechanics of Materials == grid.461645.4', 'Fraunhofer Institute for Process Engineering and Packaging == grid.466709.a', 'Fraunhofer Institute for Microstructure of Materials and Systems == grid.469857.1', 'Fraunhofer Research Institution for Additive Manufacturing Technologies == grid.506239.b', 'Fraunhofer Institute for Toxicology and Experimental Medicine == grid.418009.4', 'Fraunhofer Institute for Ceramic Technologies and Systems == grid.461622.5', 'Fraunhofer Institute for Building Physics == grid.469871.5', 'Fraunhofer Institute for Digital Media Technology  == grid.469861.4', 'Fraunhofer Institute for Silicon Technology == grid.469817.5', 'Fraunhofer Institute for Applied Optics and Precision Engineering == grid.418007.a', 'Fraunhofer Institute for Experimental Software Engineering == grid.469863.6', 'Fraunhofer Institute for Industrial Mathematics == grid.461635.3', 'Fraunhofer Institute of Optronics, System Technologies and Image Exploitation == grid.466706.5', 'Fraunhofer Institute for Systems and Innovation Research == grid.459551.9', 'Fraunhofer Institute for Energy Economics and Energy System Technology == grid.506250.4', 'Fraunhofer Center for International Management and Knowledge Economy == grid.462230.1', 'Fraunhofer Institute for Cell Therapy and Immunology == grid.418008.5', 'Fraunhofer Research Institution for Marine Biotechnology and Cell Technology == grid.469834.4', 'Fraunhofer Institute for Factory Operation and Automation == grid.469818.a', 'Fraunhofer Institute for Microengineering and Microsystems == grid.28894.3f', 'Fraunhofer Institute for Embedded Systems and Communication Technologies == grid.469865.0', 'Fraunhofer Research Institution for Microsystems and Solid State Technologies == grid.469866.3', 'Fraunhofer Institute for Applied and Integrated Security == grid.469867.2', 'Fraunhofer Institute for Environmental, Safety, and Energy Technology == grid.424428.c', 'Fraunhofer Institute for Mechatronic Systems Design == grid.469868.d', 'Fraunhofer Institute for Chemical Technology == grid.461616.2', 'Fraunhofer Institute for Applied Polymer Research == grid.461615.1', 'Fraunhofer Research Institution for Large Structures in Production Engineering == grid.506226.5', 'Fraunhofer Institute for Nondestructive Testing == grid.469830.0', 'Fraunhofer Institute for Algorithms and Scientific Computing == grid.418688.b', 'Fraunhofer Institute for Applied Information Technology == grid.469870.4', 'Fraunhofer Institute for Intelligent Analysis and Information Systems == grid.469822.3', 'Fraunhofer Institute for Molecular Biology and Applied Ecology == grid.418010.c', 'Fraunhofer Institute for Industrial Engineering == grid.434477.7', 'Fraunhofer Institute for Building Physics == grid.469871.5', 'Fraunhofer Institute for Interfacial Engineering and Biotechnology == grid.469831.1', 'Fraunhofer Institute for Manufacturing Engineering and Automation == grid.469833.3', 'Fraunhofer Information Center for Planning and Building == grid.469872.6', 'Fraunhofer Institute for Biomedical Engineering == grid.452493.d', 'Fraunhofer Institute for High Frequency Physics and Radar Techniques == grid.461619.d', 'Fraunhofer Institute for Communication, Information Processing and Ergonomics == grid.469836.6', 'Fraunhofer Institute for Silicate Research == grid.424644.4']\n",
    "grids_all = ['Fraunhofer Institute for Laser Technology == grid.461628.f', 'Fraunhofer Institute for Molecular Biology and Applied Ecology == grid.418010.c', 'Fraunhofer Institute for Production Technology == grid.461634.2', 'Fraunhofer Research Institution for Casting, Composite and Processing Technology == grid.506241.4', 'Fraunhofer Institute for Telecommunications, Heinrich Hertz Institute == grid.435231.2', 'Fraunhofer Institute for Open Communication Systems == grid.469837.7', 'Fraunhofer Institute for Production Systems and Design Technology == grid.469819.b', 'Fraunhofer Institute for Reliability and Microintegration == grid.469839.9', 'Fraunhofer Institute for Wood Research Wilhelm-Klauditz-Institut == grid.469829.8', 'Fraunhofer Institute for Surface Engineering and Thin Films == grid.462227.7', 'Fraunhofer Institute for Digital Medicine == grid.428590.2', 'Fraunhofer Institute for Manufacturing Technology and Advanced Materials == grid.461617.3', 'Fraunhofer Institute for Wind Energy Systems == grid.8440.8', 'Fraunhofer Institute for Electronic Nano Systems == grid.469847.0', 'Fraunhofer Institute for Machine Tools and Forming Technology == grid.461651.1', 'Fraunhofer Institute for Structural Durability and System Reliability == grid.434481.e', 'Fraunhofer Institute for Computer Graphics Research == grid.461618.c', 'Fraunhofer Institute for Secure Information Technology == grid.469848.f', 'Fraunhofer Institute for Material Flow and Logistics == grid.469827.6', 'Fraunhofer Institute for Software and Systems Engineering == grid.469821.0', 'Fraunhofer Institute for Ceramic Technologies and Systems == grid.461622.5', 'Fraunhofer Institute for Organic Electronics, Electron Beam and Plasma Technology == grid.469851.7', 'Fraunhofer Institute for Photonic Microsystems == grid.469853.5', 'Fraunhofer Institute for Transportation and Infrastructure Systems == grid.469826.7', 'Fraunhofer Institute for Material and Beam Technology == grid.461641.0', 'Fraunhofer Institute for Microelectronic Circuits and Systems == grid.469854.2', 'Fraunhofer Institute for Integrated Circuits == grid.469850.6', 'Fraunhofer Institute for Integrated Circuits == grid.469823.2', 'Fraunhofer Institute for Integrated Systems and Device Technology == grid.469855.3', 'Fraunhofer Institute of Optronics, System Technologies and Image Exploitation == grid.466706.5', 'Fraunhofer Institute for Technological Trend Analysis == grid.469856.0', 'Fraunhofer Institute for Applied Solid State Physics == grid.424642.2', 'Fraunhofer Institute for High-Speed Dynamics, Ernst-Mach-Institut == grid.461627.0', 'Fraunhofer Institute for Physical Measurement Techniques == grid.461631.7', 'Fraunhofer Institute for Solar Energy Systems == grid.434479.9', 'Fraunhofer Institute for Mechanics of Materials == grid.461645.4', 'Fraunhofer Institute for Process Engineering and Packaging == grid.466709.a', 'Fraunhofer Institute for Microstructure of Materials and Systems == grid.469857.1', 'Fraunhofer Research Institution for Additive Manufacturing Technologies == grid.506239.b', 'Fraunhofer Institute for Toxicology and Experimental Medicine == grid.418009.4', 'Fraunhofer Institute for Ceramic Technologies and Systems == grid.461622.5', 'Fraunhofer Institute for Building Physics == grid.469871.5', 'Fraunhofer Institute for Digital Media Technology  == grid.469861.4', 'Fraunhofer Institute for Silicon Technology == grid.469817.5', 'Fraunhofer Institute for Applied Optics and Precision Engineering == grid.418007.a', 'Fraunhofer Institute for Experimental Software Engineering == grid.469863.6', 'Fraunhofer Institute for Industrial Mathematics == grid.461635.3', 'Fraunhofer Institute of Optronics, System Technologies and Image Exploitation == grid.466706.5', 'Fraunhofer Institute for Systems and Innovation Research == grid.459551.9', 'Fraunhofer Institute for Energy Economics and Energy System Technology == grid.506250.4', 'Fraunhofer Center for International Management and Knowledge Economy == grid.462230.1', 'Fraunhofer Institute for Cell Therapy and Immunology == grid.418008.5', 'Fraunhofer Research Institution for Marine Biotechnology and Cell Technology == grid.469834.4', 'Fraunhofer Institute for Factory Operation and Automation == grid.469818.a', 'Fraunhofer Institute for Microengineering and Microsystems == grid.28894.3f', 'Fraunhofer Institute for Embedded Systems and Communication Technologies == grid.469865.0', 'Fraunhofer Research Institution for Microsystems and Solid State Technologies == grid.469866.3', 'Fraunhofer Institute for Applied and Integrated Security == grid.469867.2', 'Fraunhofer Institute for Environmental, Safety, and Energy Technology == grid.424428.c', 'Fraunhofer Institute for Mechatronic Systems Design == grid.469868.d', 'Fraunhofer Institute for Chemical Technology == grid.461616.2', 'Fraunhofer Institute for Applied Polymer Research == grid.461615.1', 'Fraunhofer Research Institution for Large Structures in Production Engineering == grid.506226.5', 'Fraunhofer Institute for Nondestructive Testing == grid.469830.0', 'Fraunhofer Institute for Algorithms and Scientific Computing == grid.418688.b', 'Fraunhofer Institute for Applied Information Technology == grid.469870.4', 'Fraunhofer Institute for Intelligent Analysis and Information Systems == grid.469822.3', 'Fraunhofer Institute for Molecular Biology and Applied Ecology == grid.418010.c', 'Fraunhofer Institute for Industrial Engineering == grid.434477.7', 'Fraunhofer Institute for Building Physics == grid.469871.5', 'Fraunhofer Institute for Interfacial Engineering and Biotechnology == grid.469831.1', 'Fraunhofer Institute for Manufacturing Engineering and Automation == grid.469833.3', 'Fraunhofer Information Center for Planning and Building == grid.469872.6', 'Fraunhofer Institute for Biomedical Engineering == grid.452493.d', 'Fraunhofer Institute for High Frequency Physics and Radar Techniques == grid.461619.d', 'Fraunhofer Institute for Communication, Information Processing and Ergonomics == grid.469836.6', 'Fraunhofer Institute for Silicate Research == grid.424644.4']\n",
    "if organization == \"ALL\":\n",
    "  gridids = [x.split(\"==\")[1].strip() for x in grids_all]\n",
    "else:\n",
    "  gridids = [organization.split(\"==\")[1].strip()]\n",
    "\n",
    "gridids = list(set(gridids))\n",
    "print(\"Selection: \", len(gridids), \"unique GRIDs\", gridids)\n",
    "\n",
    "def dimensions_url(grids):\n",
    "    root = \"https://app.dimensions.ai/discover/publication?or_facet_research_org=\"\n",
    "    return root + \"&or_facet_research_org=\".join([x for x in grids])\n",
    "\n",
    "# gen link to Dimensions\n",
    "from IPython.core.display import display, HTML\n",
    "display(HTML('---<br /><a href=\"{}\">Open in Dimensions &#x29c9;</a>'.format(dimensions_url(gridids))))\n"
   ]
  },
  {
   "cell_type": "markdown",
   "metadata": {
    "Collapsed": "false",
    "colab_type": "text",
    "id": "eb_TlbMii-zr"
   },
   "source": [
    "## 4. Data Extraction: Counts of Publications, Grants, Patents etc..\n",
    "\n",
    "In this step we count how many documents direcly associated to the GRID IDs exist - for each of the main Dimensions document types. \n",
    "\n",
    "Things to note: \n",
    "\n",
    "* Since the list of GRID IDs can be long, we need to split them up into smaller chunks to ensure API queries aren't too long. We will thus have a separate query per GRID IDs group. \n",
    "* After going through all GRID IDs chunks, we sum up the results and remove duplicates. This is because the same document could result from different GRID IDs.\n",
    "* All data gets saves in the `results` folder as CSV files"
   ]
  },
  {
   "cell_type": "code",
   "execution_count": 0,
   "metadata": {
    "Collapsed": "false",
    "colab": {},
    "colab_type": "code",
    "id": "56K4SxtG2xnB"
   },
   "outputs": [],
   "source": [
    "from tqdm import tqdm_notebook as pbar\n",
    "\n",
    "query_templates = {\n",
    "    \"publications\" : \"\"\"search publications where research_orgs in {} return publications[id]\"\"\" ,\n",
    "    \"grants\" : \"\"\"search grants where research_orgs in {} return grants[id]\"\"\" ,\n",
    "    \"clinical_trials\" : \"\"\"search clinical_trials where organizations in {} return clinical_trials[id]\"\"\" ,\n",
    "    \"patents\" : \"\"\"search patents where assignees in {} return patents[id]\"\"\" ,\n",
    "    \"policy_documents\" : \"\"\"search policy_documents where publisher_org in {} return policy_documents[id]\"\"\" ,\n",
    "    \"publications_altmetric\" : \"\"\"search publications where research_orgs in {} and altmetric > 0 return publications[id]\"\"\" ,\n",
    "}\n",
    "\n",
    "VERBOSE = False\n",
    "\n",
    "results = []\n",
    "\n",
    "loop1 = pbar(list(query_templates))\n",
    "for doctype in loop1:\n",
    "  loop1.set_description(\"Extracting %s\" % doctype.capitalize())\n",
    "  loop2 = pbar(list(chunks_of(list(gridids), 10)))\n",
    "  bucket = []\n",
    "  for chunk in loop2: \n",
    "    loop2.set_description(\"Processing Grid IDs..\")\n",
    "    #\n",
    "    q = query_templates[doctype].format(json.dumps(chunk))\n",
    "    data = dsl.query_iterative(q, verbose=VERBOSE)\n",
    "    #\n",
    "    if doctype == \"publications_altmetric\": # name used only for results export\n",
    "      bucket += getattr(data, \"publications\")\n",
    "    else:\n",
    "      bucket += getattr(data, doctype)\n",
    "    # time.sleep(1)\n",
    "  temp_df = pd.DataFrame().from_dict(bucket)\n",
    "  temp_df.drop_duplicates(subset=\"id\", inplace=True)\n",
    "  temp_df.to_csv(f\"results/tot_{doctype}.csv\", index=False)\n",
    "  print(f\"===\\nUnique {doctype} found: \", len(temp_df))\n",
    "  results.append({'doctype': doctype, 'count' : len(temp_df)})\n",
    "\n",
    "\n",
    "# save to a dataframe\n",
    "df = pd.DataFrame().from_dict(results)\n",
    "df.to_csv(f\"results/overview_objects.csv\", index=False)\n",
    "df"
   ]
  },
  {
   "cell_type": "markdown",
   "metadata": {
    "Collapsed": "false",
    "colab_type": "text",
    "id": "ppt22hsY8h4L"
   },
   "source": [
    "## 5. Data Extraction: links **from** Publications **to** Grants, Clinical Trials, Patents etc...\n",
    "\n",
    "In this section we extract existing links from **publications** to the other document types, based on publications list previously created for the list of GRID IDs.\n",
    "\n",
    "Note: \n",
    "\n",
    "* The publications data extracted above `tot_publications.csv` is loaded to seed the extraction.\n",
    "* We are only interested in total counts, but since we have multiple query-iterations per each document-type, we still need to extract all the data in order to remove duplicates afterwards. \n",
    "* After each query we pause for a second to avoid hitting the 30 queries per minute max API quota.\n",
    "* Also here, data gets saved in the `results` folder \n",
    "\n"
   ]
  },
  {
   "cell_type": "code",
   "execution_count": 0,
   "metadata": {
    "Collapsed": "false",
    "colab": {},
    "colab_type": "code",
    "id": "Joff3d_fezbL"
   },
   "outputs": [],
   "source": [
    "pubs = pd.read_csv(\"results/tot_publications.csv\")"
   ]
  },
  {
   "cell_type": "code",
   "execution_count": 0,
   "metadata": {
    "Collapsed": "false",
    "colab": {},
    "colab_type": "code",
    "id": "pbU3CmBoMPb7"
   },
   "outputs": [],
   "source": [
    "#\n",
    "# the main queries\n",
    "#\n",
    "\n",
    "q_template_sources = {\n",
    "    'grants' : \n",
    "      \"\"\"search grants where resulting_publication_ids in {} return grants[id] limit 1000\"\"\",\n",
    "    'clinical_trials' : \n",
    "      \"\"\"search clinical_trials where publication_ids in {} return clinical_trials[id] limit 1000\"\"\",\n",
    "    'patents' : \n",
    "      \"\"\"search patents where publication_ids in {} return patents[id] limit 1000\"\"\",\n",
    "    'policy_documents' : \n",
    "      \"\"\"search policy_documents where publication_ids in {} return policy_documents[id] limit 1000\"\"\", \n",
    "}\n",
    "\n",
    "ids = pubs['id']\n",
    "\n",
    "VERBOSE = False\n",
    "\n",
    "output = []\n",
    "\n",
    "for doctype in q_template_sources:\n",
    "  print(\"\\n===\\nExtracting\", doctype)\n",
    "  results = []\n",
    "  for chunk in pbar(list(chunks_of(list(ids), 300))):\n",
    "    q = q_template_sources[doctype].format(json.dumps(chunk))\n",
    "    # print(q)\n",
    "    data = dsl.query(q, verbose=VERBOSE)\n",
    "    results += getattr(data, doctype)\n",
    "    time.sleep(0.5)\n",
    "  dfdf = pd.DataFrame().from_dict(results)\n",
    "  dfdf.drop_duplicates(subset=\"id\", inplace=True)\n",
    "  dfdf.to_csv(f\"results/linked_{doctype}.csv\", index=False)\n",
    "  print(f\"---\\nLinks to {doctype} found:\", len(dfdf))\n",
    "  output.append({'from': 'publications', 'to': doctype, 'links' : len(dfdf)})\n",
    "\n",
    "\n",
    "# save to a dataframe\n",
    "df2 = pd.DataFrame().from_dict(output)\n",
    "df2.to_csv(f\"results/overview_links.csv\", index=False)\n",
    "df2\n"
   ]
  },
  {
   "cell_type": "markdown",
   "metadata": {
    "Collapsed": "false",
    "colab_type": "text",
    "id": "KhU7_tdnsHbI"
   },
   "source": [
    "## 6. Downloading all results \n",
    "\n",
    "If you are viewing this notebook in **Google Colab**, run the following cell to download all data as a zip file. "
   ]
  },
  {
   "cell_type": "code",
   "execution_count": 0,
   "metadata": {
    "Collapsed": "false",
    "colab": {},
    "colab_type": "code",
    "id": "wJ6NGITtsJAA"
   },
   "outputs": [],
   "source": [
    "\n",
    "# zip up all files to make download easier\n",
    "import zipfile\n",
    "import os \n",
    "\n",
    "def zipdir(path, ziph):\n",
    "    # ziph is zipfile handle\n",
    "    for root, dirs, files in os.walk(path):\n",
    "        for file in files:\n",
    "            ziph.write(os.path.join(root, file))\n",
    "\n",
    "zipf = zipfile.ZipFile('results.zip', 'w', zipfile.ZIP_DEFLATED)\n",
    "zipdir('results/', zipf)\n",
    "zipf.close()\n",
    "\n",
    "try:\n",
    "  # try to download from colab: sometimes it fails hence print a message\n",
    "  from google.colab import files\n",
    "  time.sleep(10)\n",
    "  files.download('results.zip') \n",
    "except:\n",
    "  print(\"Google Colab failed to download - please try again.\")\n"
   ]
  },
  {
   "cell_type": "code",
   "execution_count": 0,
   "metadata": {
    "Collapsed": "false",
    "colab": {},
    "colab_type": "code",
    "id": "xosN3D65-Qyz"
   },
   "outputs": [],
   "source": []
  }
 ],
 "metadata": {
  "colab": {
   "collapsed_sections": [],
   "name": "X-Fraunhofer-data-extraction.ipynb",
   "provenance": []
  },
  "kernelspec": {
   "display_name": "Python 3",
   "language": "python",
   "name": "python3"
  },
  "language_info": {
   "codemirror_mode": {
    "name": "ipython",
    "version": 3
   },
   "file_extension": ".py",
   "mimetype": "text/x-python",
   "name": "python",
   "nbconvert_exporter": "python",
   "pygments_lexer": "ipython3",
   "version": "3.7.4"
  }
 },
 "nbformat": 4,
 "nbformat_minor": 0
}
