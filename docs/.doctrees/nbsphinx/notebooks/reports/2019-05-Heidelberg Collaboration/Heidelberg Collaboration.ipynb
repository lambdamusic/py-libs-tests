{
 "cells": [
  {
   "cell_type": "code",
   "execution_count": 49,
   "metadata": {},
   "outputs": [
    {
     "data": {
      "text/html": [
       "        <script type=\"text/javascript\">\n",
       "        window.PlotlyConfig = {MathJaxConfig: 'local'};\n",
       "        if (window.MathJax) {MathJax.Hub.Config({SVG: {font: \"STIX-Web\"}});}\n",
       "        if (typeof require !== 'undefined') {\n",
       "        require.undef(\"plotly\");\n",
       "        requirejs.config({\n",
       "            paths: {\n",
       "                'plotly': ['https://cdn.plot.ly/plotly-latest.min']\n",
       "            }\n",
       "        });\n",
       "        require(['plotly'], function(Plotly) {\n",
       "            window._Plotly = Plotly;\n",
       "        });\n",
       "        }\n",
       "        </script>\n",
       "        "
      ]
     },
     "metadata": {},
     "output_type": "display_data"
    },
    {
     "name": "stdout",
     "output_type": "stream",
     "text": [
      "DimCli v0.4.8 - Succesfully connected to <https://app.dimensions.ai> (method: dsl.ini file)\n"
     ]
    }
   ],
   "source": [
    "import pandas \n",
    "import dimcli\n",
    "import plotly\n",
    "import plotly.graph_objs as go\n",
    "from plotly.offline import download_plotlyjs, init_notebook_mode, plot\n",
    "init_notebook_mode(connected=True)\n",
    "dimcli.login()"
   ]
  },
  {
   "cell_type": "markdown",
   "metadata": {},
   "source": [
    "HOWTO Install the dimensions client library: https://nbviewer.jupyter.org/github/digital-science/dimensions-api/blob/master/1.Getting%20Started/1.%20DimCli%20library%20for%20Dimensions.ipynb"
   ]
  },
  {
   "cell_type": "markdown",
   "metadata": {},
   "source": [
    "## Publications of Heidelberg university with at least one author with a non-German affiliation\n",
    "\n",
    "Heidelberg University is https://grid.ac/institutes/grid.7700.0 on GRID."
   ]
  },
  {
   "cell_type": "code",
   "execution_count": 2,
   "metadata": {},
   "outputs": [
    {
     "name": "stdout",
     "output_type": "stream",
     "text": [
      "Tot Publications:  31706\n",
      "Returned Publications: 20\n"
     ]
    },
    {
     "data": {
      "application/json": {
       "_stats": {
        "total_count": 31706
       },
       "publications": [
        {
         "author_affiliations": [
          [
           {
            "affiliations": [
             {
              "name": "Zoologisches Institut, Zell- und Neurobiologie, Karlsruhe Institute of Technology (KIT), Fritz-Haber-Weg 4, 76131, Karlsruhe, Germany"
             },
             {
              "city": "Karlsruhe",
              "city_id": 2892794,
              "country": "Germany",
              "country_code": "DE",
              "id": "grid.7892.4",
              "name": "Karlsruhe Institute of Technology",
              "state": null,
              "state_code": null
             }
            ],
            "current_organization_id": "",
            "first_name": "Marc",
            "last_name": "Hippler",
            "orcid": "",
            "researcher_id": ""
           },
           {
            "affiliations": [
             {
              "city": "Karlsruhe",
              "city_id": 2892794,
              "country": "Germany",
              "country_code": "DE",
              "id": "grid.7892.4",
              "name": "Karlsruhe Institute of Technology",
              "state": null,
              "state_code": null
             }
            ],
            "current_organization_id": "grid.7892.4",
            "first_name": "Eva",
            "last_name": "Blasco",
            "orcid": "",
            "researcher_id": "ur.01137272713.49"
           },
           {
            "affiliations": [
             {
              "city": "Karlsruhe",
              "city_id": 2892794,
              "country": "Germany",
              "country_code": "DE",
              "id": "grid.7892.4",
              "name": "Karlsruhe Institute of Technology",
              "state": null,
              "state_code": null
             }
            ],
            "current_organization_id": "grid.7892.4",
            "first_name": "Jingyuan",
            "last_name": "Qu",
            "orcid": "['0000-0003-2076-9557']",
            "researcher_id": "ur.012577170213.72"
           },
           {
            "affiliations": [
             {
              "city": "Heidelberg",
              "city_id": 2907911,
              "country": "Germany",
              "country_code": "DE",
              "id": "grid.7700.0",
              "name": "Heidelberg University",
              "state": null,
              "state_code": null
             },
             {
              "city": "Kyoto",
              "city_id": 1857910,
              "country": "Japan",
              "country_code": "JP",
              "id": "grid.258799.8",
              "name": "Kyoto University",
              "state": null,
              "state_code": null
             }
            ],
            "current_organization_id": "grid.7700.0",
            "first_name": "Motomu",
            "last_name": "Tanaka",
            "orcid": "['0000-0003-3663-9554']",
            "researcher_id": "ur.01345455571.79"
           },
           {
            "affiliations": [
             {
              "city": "Karlsruhe",
              "city_id": 2892794,
              "country": "Germany",
              "country_code": "DE",
              "id": "grid.7892.4",
              "name": "Karlsruhe Institute of Technology",
              "state": null,
              "state_code": null
             },
             {
              "city": "Brisbane",
              "city_id": 2174003,
              "country": "Australia",
              "country_code": "AU",
              "id": "grid.1024.7",
              "name": "Queensland University of Technology",
              "state": "Queensland",
              "state_code": "AU-QLD"
             }
            ],
            "current_organization_id": "grid.1024.7",
            "first_name": "Christopher",
            "last_name": "Barner-Kowollik",
            "orcid": "['0000-0002-6745-0570']",
            "researcher_id": "ur.01160334436.38"
           },
           {
            "affiliations": [
             {
              "city": "Karlsruhe",
              "city_id": 2892794,
              "country": "Germany",
              "country_code": "DE",
              "id": "grid.7892.4",
              "name": "Karlsruhe Institute of Technology",
              "state": null,
              "state_code": null
             }
            ],
            "current_organization_id": "grid.7892.4",
            "first_name": "Martin",
            "last_name": "Wegener",
            "orcid": "",
            "researcher_id": "ur.0665001655.55"
           },
           {
            "affiliations": [
             {
              "name": "Zoologisches Institut, Zell- und Neurobiologie, Karlsruhe Institute of Technology (KIT), Fritz-Haber-Weg 4, 76131, Karlsruhe, Germany"
             },
             {
              "city": "Karlsruhe",
              "city_id": 2892794,
              "country": "Germany",
              "country_code": "DE",
              "id": "grid.7892.4",
              "name": "Karlsruhe Institute of Technology",
              "state": null,
              "state_code": null
             }
            ],
            "current_organization_id": "grid.7892.4",
            "first_name": "Martin",
            "last_name": "Bastmeyer",
            "orcid": "",
            "researcher_id": "ur.01005054501.28"
           }
          ]
         ],
         "id": "pub.1111348246",
         "issue": "1",
         "journal": {
          "id": "jour.1043282",
          "title": "Nature Communications"
         },
         "pages": "232",
         "title": "Controlling the shape of 3D microstructures by temperature and light",
         "type": "article",
         "volume": "10",
         "year": 2019
        },
        {
         "author_affiliations": [
          [
           {
            "affiliations": [
             {
              "city": "Zurich",
              "city_id": 2657896,
              "country": "Switzerland",
              "country_code": "CH",
              "id": "grid.7400.3",
              "name": "University of Zurich",
              "state": null,
              "state_code": null
             }
            ],
            "current_organization_id": "",
            "first_name": "Stefan",
            "last_name": "Wyder",
            "orcid": "",
            "researcher_id": ""
           },
           {
            "affiliations": [
             {
              "city": "Zurich",
              "city_id": 2657896,
              "country": "Switzerland",
              "country_code": "CH",
              "id": "grid.7400.3",
              "name": "University of Zurich",
              "state": null,
              "state_code": null
             },
             {
              "city": "Heidelberg",
              "city_id": 2907911,
              "country": "Germany",
              "country_code": "DE",
              "id": "grid.7700.0",
              "name": "Heidelberg University",
              "state": null,
              "state_code": null
             }
            ],
            "current_organization_id": "",
            "first_name": "Michael T.",
            "last_name": "Raissig",
            "orcid": "",
            "researcher_id": ""
           },
           {
            "affiliations": [
             {
              "city": "Zurich",
              "city_id": 2657896,
              "country": "Switzerland",
              "country_code": "CH",
              "id": "grid.7400.3",
              "name": "University of Zurich",
              "state": null,
              "state_code": null
             }
            ],
            "current_organization_id": "",
            "first_name": "Ueli",
            "last_name": "Grossniklaus",
            "orcid": "",
            "researcher_id": ""
           }
          ]
         ],
         "id": "pub.1111910140",
         "issue": "1",
         "journal": {
          "id": "jour.1045337",
          "title": "Scientific Reports"
         },
         "pages": "1320",
         "title": "Consistent Reanalysis of Genome-wide Imprinting Studies in Plants Using Generalized Linear Models Increases Concordance across Datasets",
         "type": "article",
         "volume": "9",
         "year": 2019
        },
        {
         "author_affiliations": [
          [
           {
            "affiliations": [
             {
              "city": "Basel",
              "city_id": 2661604,
              "country": "Switzerland",
              "country_code": "CH",
              "id": "grid.412347.7",
              "name": "University Children’s Hospital Basel",
              "state": null,
              "state_code": null
             }
            ],
            "current_organization_id": "",
            "first_name": "Severin",
            "last_name": "Kasser",
            "orcid": "",
            "researcher_id": ""
           },
           {
            "affiliations": [
             {
              "city": "Oxford",
              "city_id": 2640729,
              "country": "United Kingdom",
              "country_code": "GB",
              "id": "grid.4991.5",
              "name": "University of Oxford",
              "state": null,
              "state_code": null
             }
            ],
            "current_organization_id": "",
            "first_name": "Caroline",
            "last_name": "Hartley",
            "orcid": "",
            "researcher_id": ""
           },
           {
            "affiliations": [
             {
              "city": "Basel",
              "city_id": 2661604,
              "country": "Switzerland",
              "country_code": "CH",
              "id": "grid.412347.7",
              "name": "University Children’s Hospital Basel",
              "state": null,
              "state_code": null
             }
            ],
            "current_organization_id": "",
            "first_name": "Hanna",
            "last_name": "Rickenbacher",
            "orcid": "",
            "researcher_id": ""
           },
           {
            "affiliations": [
             {
              "city": "Basel",
              "city_id": 2661604,
              "country": "Switzerland",
              "country_code": "CH",
              "id": "grid.412347.7",
              "name": "University Children’s Hospital Basel",
              "state": null,
              "state_code": null
             }
            ],
            "current_organization_id": "",
            "first_name": "Noemi",
            "last_name": "Klarer",
            "orcid": "",
            "researcher_id": ""
           },
           {
            "affiliations": [
             {
              "city": "Basel",
              "city_id": 2661604,
              "country": "Switzerland",
              "country_code": "CH",
              "id": "grid.412347.7",
              "name": "University Children’s Hospital Basel",
              "state": null,
              "state_code": null
             }
            ],
            "current_organization_id": "",
            "first_name": "Antoinette",
            "last_name": "Depoorter",
            "orcid": "",
            "researcher_id": ""
           },
           {
            "affiliations": [
             {
              "city": "Basel",
              "city_id": 2661604,
              "country": "Switzerland",
              "country_code": "CH",
              "id": "grid.412347.7",
              "name": "University Children’s Hospital Basel",
              "state": null,
              "state_code": null
             }
            ],
            "current_organization_id": "",
            "first_name": "Alexandre N.",
            "last_name": "Datta",
            "orcid": "",
            "researcher_id": ""
           },
           {
            "affiliations": [
             {
              "city": "Oxford",
              "city_id": 2640729,
              "country": "United Kingdom",
              "country_code": "GB",
              "id": "grid.4991.5",
              "name": "University of Oxford",
              "state": null,
              "state_code": null
             }
            ],
            "current_organization_id": "",
            "first_name": "Maria M.",
            "last_name": "Cobo",
            "orcid": "",
            "researcher_id": ""
           },
           {
            "affiliations": [
             {
              "city": "Oxford",
              "city_id": 2640729,
              "country": "United Kingdom",
              "country_code": "GB",
              "id": "grid.4991.5",
              "name": "University of Oxford",
              "state": null,
              "state_code": null
             }
            ],
            "current_organization_id": "",
            "first_name": "Sezgi",
            "last_name": "Goksan",
            "orcid": "",
            "researcher_id": ""
           },
           {
            "affiliations": [
             {
              "city": "Oxford",
              "city_id": 2640729,
              "country": "United Kingdom",
              "country_code": "GB",
              "id": "grid.4991.5",
              "name": "University of Oxford",
              "state": null,
              "state_code": null
             }
            ],
            "current_organization_id": "",
            "first_name": "Amy",
            "last_name": "Hoskin",
            "orcid": "",
            "researcher_id": ""
           },
           {
            "affiliations": [
             {
              "city": "Heidelberg",
              "city_id": 2907911,
              "country": "Germany",
              "country_code": "DE",
              "id": "grid.7700.0",
              "name": "Heidelberg University",
              "state": null,
              "state_code": null
             }
            ],
            "current_organization_id": "",
            "first_name": "Walter",
            "last_name": "Magerl",
            "orcid": "",
            "researcher_id": ""
           },
           {
            "affiliations": [
             {
              "city": "Basel",
              "city_id": 2661604,
              "country": "Switzerland",
              "country_code": "CH",
              "id": "grid.410567.1",
              "name": "University Hospital of Basel",
              "state": null,
              "state_code": null
             }
            ],
            "current_organization_id": "",
            "first_name": "Evelyn A.",
            "last_name": "Huhn",
            "orcid": "",
            "researcher_id": ""
           },
           {
            "affiliations": [
             {
              "city": "Oxford",
              "city_id": 2640729,
              "country": "United Kingdom",
              "country_code": "GB",
              "id": "grid.4991.5",
              "name": "University of Oxford",
              "state": null,
              "state_code": null
             }
            ],
            "current_organization_id": "",
            "first_name": "Gabrielle",
            "last_name": "Green",
            "orcid": "",
            "researcher_id": ""
           },
           {
            "affiliations": [
             {
              "city": "Oxford",
              "city_id": 2640729,
              "country": "United Kingdom",
              "country_code": "GB",
              "id": "grid.4991.5",
              "name": "University of Oxford",
              "state": null,
              "state_code": null
             }
            ],
            "current_organization_id": "",
            "first_name": "Rebeccah",
            "last_name": "Slater",
            "orcid": "",
            "researcher_id": ""
           },
           {
            "affiliations": [
             {
              "city": "Basel",
              "city_id": 2661604,
              "country": "Switzerland",
              "country_code": "CH",
              "id": "grid.412347.7",
              "name": "University Children’s Hospital Basel",
              "state": null,
              "state_code": null
             },
             {
              "city": "Regensburg",
              "city_id": 2849483,
              "country": "Germany",
              "country_code": "DE",
              "id": "grid.7727.5",
              "name": "University of Regensburg",
              "state": null,
              "state_code": null
             }
            ],
            "current_organization_id": "",
            "first_name": "Sven",
            "last_name": "Wellmann",
            "orcid": "",
            "researcher_id": ""
           }
          ]
         ],
         "id": "pub.1112676083",
         "issue": "1",
         "journal": {
          "id": "jour.1045337",
          "title": "Scientific Reports"
         },
         "pages": "4117",
         "title": "Birth experience in newborn infants is associated with changes in nociceptive sensitivity",
         "type": "article",
         "volume": "9",
         "year": 2019
        },
        {
         "author_affiliations": [
          [
           {
            "affiliations": [
             {
              "city": "London",
              "city_id": 2643743,
              "country": "United Kingdom",
              "country_code": "GB",
              "id": "grid.83440.3b",
              "name": "University College London",
              "state": null,
              "state_code": null
             },
             {
              "city": "Seattle",
              "city_id": 5809844,
              "country": "United States",
              "country_code": "US",
              "id": "grid.34477.33",
              "name": "University of Washington",
              "state": "Washington",
              "state_code": "US-WA"
             },
             {
              "city": "Cambridge",
              "city_id": 4931972,
              "country": "United States",
              "country_code": "US",
              "id": "grid.38142.3c",
              "name": "Harvard University",
              "state": "Massachusetts",
              "state_code": "US-MA"
             },
             {
              "city": "Durban",
              "city_id": 1007311,
              "country": "South Africa",
              "country_code": "ZA",
              "id": "grid.488675.0",
              "name": "Africa Health Research Institute",
              "state": null,
              "state_code": null
             }
            ],
            "current_organization_id": "",
            "first_name": "Guy",
            "last_name": "Harling",
            "orcid": "",
            "researcher_id": ""
           },
           {
            "affiliations": [
             {
              "name": "John Snow, Inc, Lusaka, Zambia"
             }
            ],
            "current_organization_id": "",
            "first_name": "Michael M.",
            "last_name": "Chanda",
            "orcid": "",
            "researcher_id": ""
           },
           {
            "affiliations": [
             {
              "city": "Seattle",
              "city_id": 5809844,
              "country": "United States",
              "country_code": "US",
              "id": "grid.34477.33",
              "name": "University of Washington",
              "state": "Washington",
              "state_code": "US-WA"
             }
            ],
            "current_organization_id": "",
            "first_name": "Katrina F.",
            "last_name": "Ortblad",
            "orcid": "",
            "researcher_id": ""
           },
           {
            "affiliations": [
             {
              "name": "John Snow, Inc, Lusaka, Zambia"
             }
            ],
            "current_organization_id": "",
            "first_name": "Magdalene",
            "last_name": "Mwale",
            "orcid": "",
            "researcher_id": ""
           },
           {
            "affiliations": [
             {
              "name": "John Snow, Inc, Lusaka, Zambia"
             }
            ],
            "current_organization_id": "",
            "first_name": "Steven",
            "last_name": "Chongo",
            "orcid": "",
            "researcher_id": ""
           },
           {
            "affiliations": [
             {
              "name": "John Snow, Inc, Lusaka, Zambia"
             }
            ],
            "current_organization_id": "",
            "first_name": "Catherine",
            "last_name": "Kanchele",
            "orcid": "",
            "researcher_id": ""
           },
           {
            "affiliations": [
             {
              "name": "John Snow, Inc, Lusaka, Zambia"
             }
            ],
            "current_organization_id": "",
            "first_name": "Nyambe",
            "last_name": "Kamungoma",
            "orcid": "",
            "researcher_id": ""
           },
           {
            "affiliations": [
             {
              "city": "Cambridge",
              "city_id": 4931972,
              "country": "United States",
              "country_code": "US",
              "id": "grid.38142.3c",
              "name": "Harvard University",
              "state": "Massachusetts",
              "state_code": "US-MA"
             }
            ],
            "current_organization_id": "",
            "first_name": "Leah G.",
            "last_name": "Barresi",
            "orcid": "",
            "researcher_id": ""
           },
           {
            "affiliations": [
             {
              "city": "Seattle",
              "city_id": 5809844,
              "country": "United States",
              "country_code": "US",
              "id": "grid.34477.33",
              "name": "University of Washington",
              "state": "Washington",
              "state_code": "US-WA"
             },
             {
              "city": "Durban",
              "city_id": 1007311,
              "country": "South Africa",
              "country_code": "ZA",
              "id": "grid.488675.0",
              "name": "Africa Health Research Institute",
              "state": null,
              "state_code": null
             },
             {
              "city": "Heidelberg",
              "city_id": 2907911,
              "country": "Germany",
              "country_code": "DE",
              "id": "grid.7700.0",
              "name": "Heidelberg University",
              "state": null,
              "state_code": null
             }
            ],
            "current_organization_id": "",
            "first_name": "Till",
            "last_name": "Bärnighausen",
            "orcid": "",
            "researcher_id": ""
           },
           {
            "affiliations": [
             {
              "city": "San Francisco",
              "city_id": 5391959,
              "country": "United States",
              "country_code": "US",
              "id": "grid.266102.1",
              "name": "University of California, San Francisco",
              "state": "California",
              "state_code": "US-CA"
             }
            ],
            "current_organization_id": "",
            "first_name": "Catherine E.",
            "last_name": "Oldenburg",
            "orcid": "",
            "researcher_id": ""
           }
          ]
         ],
         "id": "pub.1112778578",
         "issue": "1",
         "journal": {
          "id": "jour.1024940",
          "title": "BMC Medical Research Methodology"
         },
         "pages": "60",
         "title": "The influence of interviewers on survey responses among female sex workers in Zambia",
         "type": "article",
         "volume": "19",
         "year": 2019
        },
        {
         "author_affiliations": [
          [
           {
            "affiliations": [
             {
              "city": "Leipzig",
              "city_id": 2879139,
              "country": "Germany",
              "country_code": "DE",
              "id": "grid.419518.0",
              "name": "Max Planck Institute for Evolutionary Anthropology",
              "state": null,
              "state_code": null
             }
            ],
            "current_organization_id": "",
            "first_name": "H",
            "last_name": "Fewlass",
            "orcid": "",
            "researcher_id": ""
           },
           {
            "affiliations": [
             {
              "city": "Aix-en-Provence",
              "city_id": 3038354,
              "country": "France",
              "country_code": "FR",
              "id": "grid.498067.4",
              "name": "Centre for Research and Teaching in Environmental Geoscience",
              "state": null,
              "state_code": null
             }
            ],
            "current_organization_id": "",
            "first_name": "T",
            "last_name": "Tuna",
            "orcid": "",
            "researcher_id": ""
           },
           {
            "affiliations": [
             {
              "city": "Aix-en-Provence",
              "city_id": 3038354,
              "country": "France",
              "country_code": "FR",
              "id": "grid.498067.4",
              "name": "Centre for Research and Teaching in Environmental Geoscience",
              "state": null,
              "state_code": null
             }
            ],
            "current_organization_id": "",
            "first_name": "Y",
            "last_name": "Fagault",
            "orcid": "",
            "researcher_id": ""
           },
           {
            "affiliations": [
             {
              "city": "Leipzig",
              "city_id": 2879139,
              "country": "Germany",
              "country_code": "DE",
              "id": "grid.419518.0",
              "name": "Max Planck Institute for Evolutionary Anthropology",
              "state": null,
              "state_code": null
             }
            ],
            "current_organization_id": "",
            "first_name": "J-J",
            "last_name": "Hublin",
            "orcid": "",
            "researcher_id": ""
           },
           {
            "affiliations": [
             {
              "city": "Leipzig",
              "city_id": 2879139,
              "country": "Germany",
              "country_code": "DE",
              "id": "grid.419518.0",
              "name": "Max Planck Institute for Evolutionary Anthropology",
              "state": null,
              "state_code": null
             },
             {
              "city": "Heidelberg",
              "city_id": 2907911,
              "country": "Germany",
              "country_code": "DE",
              "id": "grid.7700.0",
              "name": "Heidelberg University",
              "state": null,
              "state_code": null
             }
            ],
            "current_organization_id": "",
            "first_name": "B",
            "last_name": "Kromer",
            "orcid": "",
            "researcher_id": ""
           },
           {
            "affiliations": [
             {
              "city": "Aix-en-Provence",
              "city_id": 3038354,
              "country": "France",
              "country_code": "FR",
              "id": "grid.498067.4",
              "name": "Centre for Research and Teaching in Environmental Geoscience",
              "state": null,
              "state_code": null
             }
            ],
            "current_organization_id": "",
            "first_name": "E",
            "last_name": "Bard",
            "orcid": "",
            "researcher_id": ""
           },
           {
            "affiliations": [
             {
              "city": "Leipzig",
              "city_id": 2879139,
              "country": "Germany",
              "country_code": "DE",
              "id": "grid.419518.0",
              "name": "Max Planck Institute for Evolutionary Anthropology",
              "state": null,
              "state_code": null
             }
            ],
            "current_organization_id": "",
            "first_name": "S",
            "last_name": "Talamo",
            "orcid": "",
            "researcher_id": ""
           }
          ]
         ],
         "id": "pub.1113049733",
         "issue": "1",
         "journal": {
          "id": "jour.1045337",
          "title": "Scientific Reports"
         },
         "pages": "5342",
         "title": "Pretreatment and gaseous radiocarbon dating of 40–100 mg archaeological bone",
         "type": "article",
         "volume": "9",
         "year": 2019
        },
        {
         "author_affiliations": [
          [
           {
            "affiliations": [
             {
              "name": "RefLab ApS, Copenhagen, Denmark"
             },
             {
              "city": "Copenhagen",
              "city_id": 2618425,
              "country": "Denmark",
              "country_code": "DK",
              "id": "grid.5254.6",
              "name": "University of Copenhagen",
              "state": null,
              "state_code": null
             }
            ],
            "current_organization_id": "",
            "first_name": "Katrine Y.",
            "last_name": "Baumann",
            "orcid": "",
            "researcher_id": ""
           },
           {
            "affiliations": [
             {
              "city": "Berlin",
              "city_id": 2950159,
              "country": "Germany",
              "country_code": "DE",
              "id": "grid.6363.0",
              "name": "Charité",
              "state": null,
              "state_code": null
             }
            ],
            "current_organization_id": "",
            "first_name": "Martin K.",
            "last_name": "Church",
            "orcid": "",
            "researcher_id": ""
           },
           {
            "affiliations": [
             {
              "city": "Southampton",
              "city_id": 2637487,
              "country": "United Kingdom",
              "country_code": "GB",
              "id": "grid.5491.9",
              "name": "University of Southampton",
              "state": null,
              "state_code": null
             }
            ],
            "current_organization_id": "",
            "first_name": "Geraldine F.",
            "last_name": "Clough",
            "orcid": "",
            "researcher_id": ""
           },
           {
            "affiliations": [
             {
              "city": "Magdeburg",
              "city_id": 2874545,
              "country": "Germany",
              "country_code": "DE",
              "id": "grid.5807.a",
              "name": "Otto-von-Guericke University Magdeburg",
              "state": null,
              "state_code": null
             },
             {
              "name": "Skin Center MDZ, Mainz, Germany"
             }
            ],
            "current_organization_id": "",
            "first_name": "Sven Roy",
            "last_name": "Quist",
            "orcid": "",
            "researcher_id": ""
           },
           {
            "affiliations": [
             {
              "city": "Heidelberg",
              "city_id": 2907911,
              "country": "Germany",
              "country_code": "DE",
              "id": "grid.7700.0",
              "name": "Heidelberg University",
              "state": null,
              "state_code": null
             }
            ],
            "current_organization_id": "",
            "first_name": "Martin",
            "last_name": "Schmelz",
            "orcid": "",
            "researcher_id": ""
           },
           {
            "affiliations": [
             {
              "name": "RefLab ApS, Copenhagen, Denmark"
             },
             {
              "city": "Odense",
              "city_id": 2615876,
              "country": "Denmark",
              "country_code": "DK",
              "id": "grid.7143.1",
              "name": "Odense University Hospital",
              "state": null,
              "state_code": null
             }
            ],
            "current_organization_id": "",
            "first_name": "Per Stahl",
            "last_name": "Skov",
            "orcid": "",
            "researcher_id": ""
           },
           {
            "affiliations": [
             {
              "city": "Linköping",
              "city_id": 2694762,
              "country": "Sweden",
              "country_code": "SE",
              "id": "grid.5640.7",
              "name": "Linköping University",
              "state": null,
              "state_code": null
             }
            ],
            "current_organization_id": "",
            "first_name": "Chris D.",
            "last_name": "Anderson",
            "orcid": "",
            "researcher_id": ""
           },
           {
            "affiliations": [
             {
              "city": "Odense",
              "city_id": 2615876,
              "country": "Denmark",
              "country_code": "DK",
              "id": "grid.7143.1",
              "name": "Odense University Hospital",
              "state": null,
              "state_code": null
             }
            ],
            "current_organization_id": "",
            "first_name": "Line Kring",
            "last_name": "Tannert",
            "orcid": "",
            "researcher_id": ""
           },
           {
            "affiliations": [
             {
              "name": "Department of Dermatology, Hospital del Mar, Institut Mar d’Investigacions Mèdiques, Universitat Autònoma, Barcelona, Spain"
             }
            ],
            "current_organization_id": "",
            "first_name": "Ana Maria",
            "last_name": "Giménez-Arnau",
            "orcid": "",
            "researcher_id": ""
           },
           {
            "affiliations": [
             {
              "city": "Berlin",
              "city_id": 2950159,
              "country": "Germany",
              "country_code": "DE",
              "id": "grid.6363.0",
              "name": "Charité",
              "state": null,
              "state_code": null
             }
            ],
            "current_organization_id": "",
            "first_name": "Stefan",
            "last_name": "Frischbutter",
            "orcid": "",
            "researcher_id": ""
           },
           {
            "affiliations": [
             {
              "city": "Berlin",
              "city_id": 2950159,
              "country": "Germany",
              "country_code": "DE",
              "id": "grid.6363.0",
              "name": "Charité",
              "state": null,
              "state_code": null
             }
            ],
            "current_organization_id": "",
            "first_name": "Jörg",
            "last_name": "Scheffel",
            "orcid": "",
            "researcher_id": ""
           },
           {
            "affiliations": [
             {
              "city": "Berlin",
              "city_id": 2950159,
              "country": "Germany",
              "country_code": "DE",
              "id": "grid.6363.0",
              "name": "Charité",
              "state": null,
              "state_code": null
             }
            ],
            "current_organization_id": "",
            "first_name": "Marcus",
            "last_name": "Maurer",
            "orcid": "",
            "researcher_id": ""
           }
          ]
         ],
         "id": "pub.1113363830",
         "issue": "1",
         "journal": {
          "id": "jour.1046232",
          "title": "Clinical and Translational Allergy"
         },
         "pages": "24",
         "title": "Skin microdialysis: methods, applications and future opportunities—an EAACI position paper",
         "type": "article",
         "volume": "9",
         "year": 2019
        },
        {
         "author_affiliations": [
          [
           {
            "affiliations": [
             {
              "city": "Heidelberg",
              "city_id": 2907911,
              "country": "Germany",
              "country_code": "DE",
              "id": "grid.7497.d",
              "name": "German Cancer Research Center",
              "state": null,
              "state_code": null
             },
             {
              "city": "Heidelberg",
              "city_id": 2907911,
              "country": "Germany",
              "country_code": "DE",
              "id": "grid.7700.0",
              "name": "Heidelberg University",
              "state": null,
              "state_code": null
             }
            ],
            "current_organization_id": "",
            "first_name": "Xīn",
            "last_name": "Gào",
            "orcid": "",
            "researcher_id": ""
           },
           {
            "affiliations": [
             {
              "city": "Saarbrücken",
              "city_id": 2842647,
              "country": "Germany",
              "country_code": "DE",
              "id": "grid.482902.5",
              "name": "Krebsregister Saarland",
              "state": null,
              "state_code": null
             }
            ],
            "current_organization_id": "",
            "first_name": "Bernd",
            "last_name": "Holleczek",
            "orcid": "",
            "researcher_id": ""
           },
           {
            "affiliations": [
             {
              "city": "Heidelberg",
              "city_id": 2907911,
              "country": "Germany",
              "country_code": "DE",
              "id": "grid.7497.d",
              "name": "German Cancer Research Center",
              "state": null,
              "state_code": null
             }
            ],
            "current_organization_id": "",
            "first_name": "Katarina",
            "last_name": "Cuk",
            "orcid": "",
            "researcher_id": ""
           },
           {
            "affiliations": [
             {
              "city": "Heidelberg",
              "city_id": 2907911,
              "country": "Germany",
              "country_code": "DE",
              "id": "grid.7497.d",
              "name": "German Cancer Research Center",
              "state": null,
              "state_code": null
             }
            ],
            "current_organization_id": "",
            "first_name": "Yan",
            "last_name": "Zhang",
            "orcid": "",
            "researcher_id": ""
           },
           {
            "affiliations": [
             {
              "city": "Heidelberg",
              "city_id": 2907911,
              "country": "Germany",
              "country_code": "DE",
              "id": "grid.7497.d",
              "name": "German Cancer Research Center",
              "state": null,
              "state_code": null
             },
             {
              "city": "Heidelberg",
              "city_id": 2907911,
              "country": "Germany",
              "country_code": "DE",
              "id": "grid.7700.0",
              "name": "Heidelberg University",
              "state": null,
              "state_code": null
             }
            ],
            "current_organization_id": "",
            "first_name": "Ankita",
            "last_name": "Anusruti",
            "orcid": "",
            "researcher_id": ""
           },
           {
            "affiliations": [
             {
              "city": "Heidelberg",
              "city_id": 2907911,
              "country": "Germany",
              "country_code": "DE",
              "id": "grid.7497.d",
              "name": "German Cancer Research Center",
              "state": null,
              "state_code": null
             },
             {
              "city": "Heidelberg",
              "city_id": 2907911,
              "country": "Germany",
              "country_code": "DE",
              "id": "grid.7700.0",
              "name": "Heidelberg University",
              "state": null,
              "state_code": null
             }
            ],
            "current_organization_id": "",
            "first_name": "Yang",
            "last_name": "Xuan",
            "orcid": "",
            "researcher_id": ""
           },
           {
            "affiliations": [
             {
              "city": "Madison",
              "city_id": 5261457,
              "country": "United States",
              "country_code": "US",
              "id": "grid.14003.36",
              "name": "University of Wisconsin–Madison",
              "state": "Wisconsin",
              "state_code": "US-WI"
             }
            ],
            "current_organization_id": "",
            "first_name": "Yiwei",
            "last_name": "Xu",
            "orcid": "",
            "researcher_id": ""
           },
           {
            "affiliations": [
             {
              "city": "Heidelberg",
              "city_id": 2907911,
              "country": "Germany",
              "country_code": "DE",
              "id": "grid.7700.0",
              "name": "Heidelberg University",
              "state": null,
              "state_code": null
             },
             {
              "city": "Heidelberg",
              "city_id": 2907911,
              "country": "Germany",
              "country_code": "DE",
              "id": "grid.7497.d",
              "name": "German Cancer Research Center",
              "state": null,
              "state_code": null
             }
            ],
            "current_organization_id": "",
            "first_name": "Hermann",
            "last_name": "Brenner",
            "orcid": "",
            "researcher_id": ""
           },
           {
            "affiliations": [
             {
              "city": "Heidelberg",
              "city_id": 2907911,
              "country": "Germany",
              "country_code": "DE",
              "id": "grid.7497.d",
              "name": "German Cancer Research Center",
              "state": null,
              "state_code": null
             },
             {
              "city": "Heidelberg",
              "city_id": 2907911,
              "country": "Germany",
              "country_code": "DE",
              "id": "grid.7700.0",
              "name": "Heidelberg University",
              "state": null,
              "state_code": null
             },
             {
              "name": "Institute of Health Care and Social Sciences, FOM University, D-45127, Essen, Germany"
             }
            ],
            "current_organization_id": "",
            "first_name": "Ben",
            "last_name": "Schöttker",
            "orcid": "",
            "researcher_id": ""
           }
          ]
         ],
         "id": "pub.1113954510",
         "issue": "1",
         "journal": {
          "id": "jour.1045337",
          "title": "Scientific Reports"
         },
         "pages": "7109",
         "title": "Investigation on potential associations of oxidatively generated DNA/RNA damage with lung, colorectal, breast, prostate and total cancer incidence",
         "type": "article",
         "volume": "9",
         "year": 2019
        },
        {
         "author_affiliations": [
          [
           {
            "affiliations": [
             {
              "city": "Heidelberg",
              "city_id": 2907911,
              "country": "Germany",
              "country_code": "DE",
              "id": "grid.7700.0",
              "name": "Heidelberg University",
              "state": null,
              "state_code": null
             }
            ],
            "current_organization_id": "grid.7700.0",
            "first_name": "Claudia",
            "last_name": "Sommerer",
            "orcid": "",
            "researcher_id": "ur.0630356734.42"
           },
           {
            "affiliations": [
             {
              "city": "Heidelberg",
              "city_id": 2907911,
              "country": "Germany",
              "country_code": "DE",
              "id": "grid.7700.0",
              "name": "Heidelberg University",
              "state": null,
              "state_code": null
             }
            ],
            "current_organization_id": "grid.7700.0",
            "first_name": "Martin",
            "last_name": "Zeier",
            "orcid": "",
            "researcher_id": "ur.0746626275.31"
           },
           {
            "affiliations": [
             {
              "city": "Heidelberg",
              "city_id": 2907911,
              "country": "Germany",
              "country_code": "DE",
              "id": "grid.7700.0",
              "name": "Heidelberg University",
              "state": null,
              "state_code": null
             }
            ],
            "current_organization_id": "grid.7700.0",
            "first_name": "Christian",
            "last_name": "Morath",
            "orcid": "",
            "researcher_id": "ur.0746524740.50"
           },
           {
            "affiliations": [
             {
              "city": "Chicago",
              "city_id": 4887398,
              "country": "United States",
              "country_code": "US",
              "id": "grid.240684.c",
              "name": "Rush University Medical Center",
              "state": "Illinois",
              "state_code": "US-IL"
             }
            ],
            "current_organization_id": "grid.240684.c",
            "first_name": "Jochen",
            "last_name": "Reiser",
            "orcid": "",
            "researcher_id": "ur.01205066264.12"
           },
           {
            "affiliations": [
             {
              "city": "Graz",
              "city_id": 2778067,
              "country": "Austria",
              "country_code": "AT",
              "id": "grid.11598.34",
              "name": "Medical University of Graz",
              "state": null,
              "state_code": null
             }
            ],
            "current_organization_id": "grid.11598.34",
            "first_name": "Hubert",
            "last_name": "Scharnagl",
            "orcid": "",
            "researcher_id": "ur.01042377147.30"
           },
           {
            "affiliations": [
             {
              "city": "Graz",
              "city_id": 2778067,
              "country": "Austria",
              "country_code": "AT",
              "id": "grid.11598.34",
              "name": "Medical University of Graz",
              "state": null,
              "state_code": null
             }
            ],
            "current_organization_id": "grid.11598.34",
            "first_name": "Tatjana",
            "last_name": "Stojakovic",
            "orcid": "",
            "researcher_id": "ur.01123135465.09"
           },
           {
            "affiliations": [
             {
              "city": "Heidelberg",
              "city_id": 2907911,
              "country": "Germany",
              "country_code": "DE",
              "id": "grid.7700.0",
              "name": "Heidelberg University",
              "state": null,
              "state_code": null
             }
            ],
            "current_organization_id": "grid.7700.0",
            "first_name": "Graciela E.",
            "last_name": "Delgado",
            "orcid": "",
            "researcher_id": "ur.01227616264.01"
           },
           {
            "affiliations": [
             {
              "city": "Graz",
              "city_id": 2778067,
              "country": "Austria",
              "country_code": "AT",
              "id": "grid.11598.34",
              "name": "Medical University of Graz",
              "state": null,
              "state_code": null
             },
             {
              "city": "Heidelberg",
              "city_id": 2907911,
              "country": "Germany",
              "country_code": "DE",
              "id": "grid.7700.0",
              "name": "Heidelberg University",
              "state": null,
              "state_code": null
             },
             {
              "name": "Synlab Academy, Synlab Holding Deutschland GmbH, Mannheim, Germany"
             }
            ],
            "current_organization_id": "grid.11598.34",
            "first_name": "Winfried",
            "last_name": "März",
            "orcid": "",
            "researcher_id": "ur.01200771067.24"
           },
           {
            "affiliations": [
             {
              "city": "Heidelberg",
              "city_id": 2907911,
              "country": "Germany",
              "country_code": "DE",
              "id": "grid.7700.0",
              "name": "Heidelberg University",
              "state": null,
              "state_code": null
             }
            ],
            "current_organization_id": "grid.7700.0",
            "first_name": "Marcus E.",
            "last_name": "Kleber",
            "orcid": "['0000-0003-0663-7275']",
            "researcher_id": "ur.01341032053.15"
           }
          ]
         ],
         "id": "pub.1111640628",
         "issue": "1",
         "journal": {
          "id": "jour.1045337",
          "title": "Scientific Reports"
         },
         "pages": "475",
         "title": "Soluble urokinase plasminogen activation receptor and long-term outcomes in persons undergoing coronary angiography",
         "type": "article",
         "volume": "9",
         "year": 2019
        },
        {
         "author_affiliations": [
          [
           {
            "affiliations": [
             {
              "city": "Heidelberg",
              "city_id": 2907911,
              "country": "Germany",
              "country_code": "DE",
              "id": "grid.7700.0",
              "name": "Heidelberg University",
              "state": null,
              "state_code": null
             }
            ],
            "current_organization_id": "",
            "first_name": "Joy",
            "last_name": "Mauti",
            "orcid": "",
            "researcher_id": ""
           },
           {
            "affiliations": [
             {
              "city": "Montreal",
              "city_id": 6077243,
              "country": "Canada",
              "country_code": "CA",
              "id": "grid.14848.31",
              "name": "University of Montreal",
              "state": "Quebec",
              "state_code": "CA-QC"
             },
             {
              "name": "Centre d’Etudes en Sciences Sociales sur les Mondes Africains, Américains et Asiatiques (CESSMA), Sorbonne Paris Cité University, Case courrier 7017, 75205, Paris Cedex 13, France"
             }
            ],
            "current_organization_id": "",
            "first_name": "Lara",
            "last_name": "Gautier",
            "orcid": "",
            "researcher_id": ""
           },
           {
            "affiliations": [
             {
              "city": "Heidelberg",
              "city_id": 2907911,
              "country": "Germany",
              "country_code": "DE",
              "id": "grid.7700.0",
              "name": "Heidelberg University",
              "state": null,
              "state_code": null
             }
            ],
            "current_organization_id": "",
            "first_name": "Jan-Walter",
            "last_name": "De Neve",
            "orcid": "",
            "researcher_id": ""
           },
           {
            "affiliations": [
             {
              "city": "Heidelberg",
              "city_id": 2907911,
              "country": "Germany",
              "country_code": "DE",
              "id": "grid.7700.0",
              "name": "Heidelberg University",
              "state": null,
              "state_code": null
             }
            ],
            "current_organization_id": "",
            "first_name": "Claudia",
            "last_name": "Beiersmann",
            "orcid": "",
            "researcher_id": ""
           },
           {
            "affiliations": [
             {
              "city": "Heidelberg",
              "city_id": 2907911,
              "country": "Germany",
              "country_code": "DE",
              "id": "grid.7700.0",
              "name": "Heidelberg University",
              "state": null,
              "state_code": null
             }
            ],
            "current_organization_id": "",
            "first_name": "Jale",
            "last_name": "Tosun",
            "orcid": "",
            "researcher_id": ""
           },
           {
            "affiliations": [
             {
              "city": "Heidelberg",
              "city_id": 2907911,
              "country": "Germany",
              "country_code": "DE",
              "id": "grid.7700.0",
              "name": "Heidelberg University",
              "state": null,
              "state_code": null
             }
            ],
            "current_organization_id": "",
            "first_name": "Albrecht",
            "last_name": "Jahn",
            "orcid": "",
            "researcher_id": ""
           }
          ]
         ],
         "id": "pub.1111954564",
         "issue": "1",
         "journal": {
          "id": "jour.1032049",
          "title": "Health Research Policy and Systems"
         },
         "pages": "15",
         "title": "Kenya’s Health in All Policies strategy: a policy analysis using Kingdon’s multiple streams",
         "type": "article",
         "volume": "17",
         "year": 2019
        },
        {
         "author_affiliations": [
          [
           {
            "affiliations": [
             {
              "city": "Heidelberg",
              "city_id": 2907911,
              "country": "Germany",
              "country_code": "DE",
              "id": "grid.7700.0",
              "name": "Heidelberg University",
              "state": null,
              "state_code": null
             }
            ],
            "current_organization_id": "",
            "first_name": "Tanja B.",
            "last_name": "Grammer",
            "orcid": "",
            "researcher_id": ""
           },
           {
            "affiliations": [
             {
              "city": "Heidelberg",
              "city_id": 2907911,
              "country": "Germany",
              "country_code": "DE",
              "id": "grid.7700.0",
              "name": "Heidelberg University",
              "state": null,
              "state_code": null
             }
            ],
            "current_organization_id": "",
            "first_name": "Alexander",
            "last_name": "Dressel",
            "orcid": "",
            "researcher_id": ""
           },
           {
            "affiliations": [
             {
              "city": "Heidelberg",
              "city_id": 2907911,
              "country": "Germany",
              "country_code": "DE",
              "id": "grid.7700.0",
              "name": "Heidelberg University",
              "state": null,
              "state_code": null
             }
            ],
            "current_organization_id": "",
            "first_name": "Ingrid",
            "last_name": "Gergei",
            "orcid": "",
            "researcher_id": ""
           },
           {
            "affiliations": [
             {
              "city": "Heidelberg",
              "city_id": 2907911,
              "country": "Germany",
              "country_code": "DE",
              "id": "grid.7700.0",
              "name": "Heidelberg University",
              "state": null,
              "state_code": null
             }
            ],
            "current_organization_id": "",
            "first_name": "Marcus E.",
            "last_name": "Kleber",
            "orcid": "",
            "researcher_id": ""
           },
           {
            "affiliations": [
             {
              "city": "Leipzig",
              "city_id": 2879139,
              "country": "Germany",
              "country_code": "DE",
              "id": "grid.411339.d",
              "name": "University Hospital Leipzig",
              "state": null,
              "state_code": null
             }
            ],
            "current_organization_id": "",
            "first_name": "Ulrich",
            "last_name": "Laufs",
            "orcid": "",
            "researcher_id": ""
           },
           {
            "affiliations": [
             {
              "city": "Graz",
              "city_id": 2778067,
              "country": "Austria",
              "country_code": "AT",
              "id": "grid.11598.34",
              "name": "Medical University of Graz",
              "state": null,
              "state_code": null
             }
            ],
            "current_organization_id": "",
            "first_name": "Hubert",
            "last_name": "Scharnagl",
            "orcid": "",
            "researcher_id": ""
           },
           {
            "affiliations": [
             {
              "name": "European Prevention Center, EPC GmbH, Düsseldorf, Germany"
             }
            ],
            "current_organization_id": "",
            "first_name": "Uwe",
            "last_name": "Nixdorff",
            "orcid": "",
            "researcher_id": ""
           },
           {
            "affiliations": [
             {
              "name": "German Research Center of Rheumatology Berlin, Leibnitz Institute, Berlin, Germany"
             }
            ],
            "current_organization_id": "",
            "first_name": "Jens",
            "last_name": "Klotsche",
            "orcid": "",
            "researcher_id": ""
           },
           {
            "affiliations": [
             {
              "city": "Berlin",
              "city_id": 2950159,
              "country": "Germany",
              "country_code": "DE",
              "id": "grid.6363.0",
              "name": "Charité",
              "state": null,
              "state_code": null
             }
            ],
            "current_organization_id": "",
            "first_name": "Lars",
            "last_name": "Pieper",
            "orcid": "",
            "researcher_id": ""
           },
           {
            "affiliations": [
             {
              "city": "Dresden",
              "city_id": 2935022,
              "country": "Germany",
              "country_code": "DE",
              "id": "grid.4488.0",
              "name": "TU Dresden",
              "state": null,
              "state_code": null
             }
            ],
            "current_organization_id": "",
            "first_name": "David",
            "last_name": "Pittrow",
            "orcid": "",
            "researcher_id": ""
           },
           {
            "affiliations": [
             {
              "name": "Cardiology Outpatient Clinic Tal, Munich, Germany"
             }
            ],
            "current_organization_id": "",
            "first_name": "Sigmund",
            "last_name": "Silber",
            "orcid": "",
            "researcher_id": ""
           },
           {
            "affiliations": [
             {
              "city": "Dresden",
              "city_id": 2935022,
              "country": "Germany",
              "country_code": "DE",
              "id": "grid.4488.0",
              "name": "TU Dresden",
              "state": null,
              "state_code": null
             },
             {
              "city": "Munich",
              "city_id": 2867714,
              "country": "Germany",
              "country_code": "DE",
              "id": "grid.419548.5",
              "name": "Max Planck Institute of Psychiatry",
              "state": null,
              "state_code": null
             }
            ],
            "current_organization_id": "",
            "first_name": "Hans-Ulrich",
            "last_name": "Wittchen",
            "orcid": "",
            "researcher_id": ""
           },
           {
            "affiliations": [
             {
              "city": "Heidelberg",
              "city_id": 2907911,
              "country": "Germany",
              "country_code": "DE",
              "id": "grid.7700.0",
              "name": "Heidelberg University",
              "state": null,
              "state_code": null
             },
             {
              "city": "Graz",
              "city_id": 2778067,
              "country": "Austria",
              "country_code": "AT",
              "id": "grid.11598.34",
              "name": "Medical University of Graz",
              "state": null,
              "state_code": null
             },
             {
              "name": "Synlab Services GmbH, Synlab Academy, Mannheim, Augsburg, Germany"
             }
            ],
            "current_organization_id": "",
            "first_name": "Winfried",
            "last_name": "März",
            "orcid": "",
            "researcher_id": ""
           }
          ]
         ],
         "id": "pub.1111774155",
         "issue": "1",
         "journal": {
          "id": "jour.1045337",
          "title": "Scientific Reports"
         },
         "pages": "1101",
         "title": "Cardiovascular risk algorithms in primary care: Results from the DETECT study",
         "type": "article",
         "volume": "9",
         "year": 2019
        },
        {
         "author_affiliations": [
          [
           {
            "affiliations": [
             {
              "city": "Heidelberg",
              "city_id": 2907911,
              "country": "Germany",
              "country_code": "DE",
              "id": "grid.7497.d",
              "name": "German Cancer Research Center",
              "state": null,
              "state_code": null
             },
             {
              "city": "Heidelberg",
              "city_id": 2907911,
              "country": "Germany",
              "country_code": "DE",
              "id": "grid.7700.0",
              "name": "Heidelberg University",
              "state": null,
              "state_code": null
             }
            ],
            "current_organization_id": "",
            "first_name": "Subhayan",
            "last_name": "Chattopadhyay",
            "orcid": "",
            "researcher_id": ""
           },
           {
            "affiliations": [
             {
              "city": "Heidelberg",
              "city_id": 2907911,
              "country": "Germany",
              "country_code": "DE",
              "id": "grid.7497.d",
              "name": "German Cancer Research Center",
              "state": null,
              "state_code": null
             }
            ],
            "current_organization_id": "",
            "first_name": "Hauke",
            "last_name": "Thomsen",
            "orcid": "",
            "researcher_id": ""
           },
           {
            "affiliations": [
             {
              "city": "Heidelberg",
              "city_id": 2907911,
              "country": "Germany",
              "country_code": "DE",
              "id": "grid.7497.d",
              "name": "German Cancer Research Center",
              "state": null,
              "state_code": null
             }
            ],
            "current_organization_id": "",
            "first_name": "Pankaj",
            "last_name": "Yadav",
            "orcid": "",
            "researcher_id": ""
           },
           {
            "affiliations": [
             {
              "city": "Heidelberg",
              "city_id": 2907911,
              "country": "Germany",
              "country_code": "DE",
              "id": "grid.7497.d",
              "name": "German Cancer Research Center",
              "state": null,
              "state_code": null
             }
            ],
            "current_organization_id": "",
            "first_name": "Miguel Inacio",
            "last_name": "da Silva Filho",
            "orcid": "",
            "researcher_id": ""
           },
           {
            "affiliations": [
             {
              "city": "Heidelberg",
              "city_id": 2907911,
              "country": "Germany",
              "country_code": "DE",
              "id": "grid.5253.1",
              "name": "University Hospital Heidelberg",
              "state": null,
              "state_code": null
             },
             {
              "city": "Little Rock",
              "city_id": 4119403,
              "country": "United States",
              "country_code": "US",
              "id": "grid.241054.6",
              "name": "University of Arkansas for Medical Sciences",
              "state": "Arkansas",
              "state_code": "US-AR"
             }
            ],
            "current_organization_id": "",
            "first_name": "Niels",
            "last_name": "Weinhold",
            "orcid": "",
            "researcher_id": ""
           },
           {
            "affiliations": [
             {
              "city": "Bonn",
              "city_id": 2946447,
              "country": "Germany",
              "country_code": "DE",
              "id": "grid.10388.32",
              "name": "University of Bonn",
              "state": null,
              "state_code": null
             }
            ],
            "current_organization_id": "",
            "first_name": "Markus M.",
            "last_name": "Nöthen",
            "orcid": "",
            "researcher_id": ""
           },
           {
            "affiliations": [
             {
              "city": "Bonn",
              "city_id": 2946447,
              "country": "Germany",
              "country_code": "DE",
              "id": "grid.10388.32",
              "name": "University of Bonn",
              "state": null,
              "state_code": null
             },
             {
              "city": "Basel",
              "city_id": 2661604,
              "country": "Switzerland",
              "country_code": "CH",
              "id": "grid.6612.3",
              "name": "University of Basel",
              "state": null,
              "state_code": null
             }
            ],
            "current_organization_id": "",
            "first_name": "Per",
            "last_name": "Hoffman",
            "orcid": "",
            "researcher_id": ""
           },
           {
            "affiliations": [
             {
              "city": "Heidelberg",
              "city_id": 2907911,
              "country": "Germany",
              "country_code": "DE",
              "id": "grid.5253.1",
              "name": "University Hospital Heidelberg",
              "state": null,
              "state_code": null
             }
            ],
            "current_organization_id": "",
            "first_name": "Uta",
            "last_name": "Bertsch",
            "orcid": "",
            "researcher_id": ""
           },
           {
            "affiliations": [
             {
              "city": "Heidelberg",
              "city_id": 2907911,
              "country": "Germany",
              "country_code": "DE",
              "id": "grid.5253.1",
              "name": "University Hospital Heidelberg",
              "state": null,
              "state_code": null
             }
            ],
            "current_organization_id": "",
            "first_name": "Stefanie",
            "last_name": "Huhn",
            "orcid": "",
            "researcher_id": ""
           },
           {
            "affiliations": [
             {
              "city": "Little Rock",
              "city_id": 4119403,
              "country": "United States",
              "country_code": "US",
              "id": "grid.241054.6",
              "name": "University of Arkansas for Medical Sciences",
              "state": "Arkansas",
              "state_code": "US-AR"
             }
            ],
            "current_organization_id": "",
            "first_name": "Gareth J.",
            "last_name": "Morgan",
            "orcid": "",
            "researcher_id": ""
           },
           {
            "affiliations": [
             {
              "city": "Heidelberg",
              "city_id": 2907911,
              "country": "Germany",
              "country_code": "DE",
              "id": "grid.5253.1",
              "name": "University Hospital Heidelberg",
              "state": null,
              "state_code": null
             },
             {
              "name": "National Centre of Tumor Diseases, 69120, Heidelberg, Germany"
             }
            ],
            "current_organization_id": "",
            "first_name": "Hartmut",
            "last_name": "Goldschmidt",
            "orcid": "",
            "researcher_id": ""
           },
           {
            "affiliations": [
             {
              "city": "London",
              "city_id": 2643743,
              "country": "United Kingdom",
              "country_code": "GB",
              "id": "grid.18886.3f",
              "name": "Institute of Cancer Research",
              "state": null,
              "state_code": null
             }
            ],
            "current_organization_id": "",
            "first_name": "Richard",
            "last_name": "Houlston",
            "orcid": "",
            "researcher_id": ""
           },
           {
            "affiliations": [
             {
              "city": "Heidelberg",
              "city_id": 2907911,
              "country": "Germany",
              "country_code": "DE",
              "id": "grid.7497.d",
              "name": "German Cancer Research Center",
              "state": null,
              "state_code": null
             },
             {
              "city": "Lund",
              "city_id": 2693678,
              "country": "Sweden",
              "country_code": "SE",
              "id": "grid.4514.4",
              "name": "Lund University",
              "state": null,
              "state_code": null
             }
            ],
            "current_organization_id": "",
            "first_name": "Kari",
            "last_name": "Hemminki",
            "orcid": "",
            "researcher_id": ""
           },
           {
            "affiliations": [
             {
              "city": "Heidelberg",
              "city_id": 2907911,
              "country": "Germany",
              "country_code": "DE",
              "id": "grid.7497.d",
              "name": "German Cancer Research Center",
              "state": null,
              "state_code": null
             },
             {
              "city": "Lund",
              "city_id": 2693678,
              "country": "Sweden",
              "country_code": "SE",
              "id": "grid.4514.4",
              "name": "Lund University",
              "state": null,
              "state_code": null
             }
            ],
            "current_organization_id": "",
            "first_name": "Asta",
            "last_name": "Försti",
            "orcid": "",
            "researcher_id": ""
           }
          ]
         ],
         "id": "pub.1112508565",
         "issue": "1",
         "journal": {
          "id": "jour.1300829",
          "title": "Communications Biology"
         },
         "pages": "89",
         "title": "Genome-wide interaction and pathway-based identification of key regulators in multiple myeloma",
         "type": "article",
         "volume": "2",
         "year": 2019
        },
        {
         "author_affiliations": [
          [
           {
            "affiliations": [
             {
              "city": "Wurzburg",
              "city_id": 2805615,
              "country": "Germany",
              "country_code": "DE",
              "id": "grid.8379.5",
              "name": "University of Würzburg",
              "state": null,
              "state_code": null
             }
            ],
            "current_organization_id": "",
            "first_name": "Philipp",
            "last_name": "Kunz",
            "orcid": "",
            "researcher_id": ""
           },
           {
            "affiliations": [
             {
              "city": "Heidelberg",
              "city_id": 2907911,
              "country": "Germany",
              "country_code": "DE",
              "id": "grid.7700.0",
              "name": "Heidelberg University",
              "state": null,
              "state_code": null
             }
            ],
            "current_organization_id": "",
            "first_name": "Florian Azad",
            "last_name": "Engel",
            "orcid": "",
            "researcher_id": ""
           },
           {
            "affiliations": [
             {
              "city": "Tromsø",
              "city_id": 3133895,
              "country": "Norway",
              "country_code": "NO",
              "id": "grid.10919.30",
              "name": "The Arctic University of Norway",
              "state": null,
              "state_code": null
             },
             {
              "city": "Sundsvall",
              "city_id": 2670781,
              "country": "Sweden",
              "country_code": "SE",
              "id": "grid.29050.3e",
              "name": "Mid Sweden University",
              "state": null,
              "state_code": null
             }
            ],
            "current_organization_id": "",
            "first_name": "Hans-Christer",
            "last_name": "Holmberg",
            "orcid": "",
            "researcher_id": ""
           },
           {
            "affiliations": [
             {
              "city": "Wurzburg",
              "city_id": 2805615,
              "country": "Germany",
              "country_code": "DE",
              "id": "grid.8379.5",
              "name": "University of Würzburg",
              "state": null,
              "state_code": null
             }
            ],
            "current_organization_id": "",
            "first_name": "Billy",
            "last_name": "Sperlich",
            "orcid": "",
            "researcher_id": ""
           }
          ]
         ],
         "id": "pub.1112351981",
         "issue": "1",
         "journal": {
          "id": "jour.1052131",
          "title": "Sports Medicine - Open"
         },
         "pages": "7",
         "title": "A Meta-Comparison of the Effects of High-Intensity Interval Training to Those of Small-Sided Games and Other Training Protocols on Parameters Related to the Physiology and Performance of Youth Soccer Players",
         "type": "article",
         "volume": "5",
         "year": 2019
        },
        {
         "author_affiliations": [
          [
           {
            "affiliations": [
             {
              "city": "Cambridge",
              "city_id": 4931972,
              "country": "United States",
              "country_code": "US",
              "id": "grid.38142.3c",
              "name": "Harvard University",
              "state": "Massachusetts",
              "state_code": "US-MA"
             }
            ],
            "current_organization_id": "",
            "first_name": "Elysia",
            "last_name": "Larson",
            "orcid": "",
            "researcher_id": ""
           },
           {
            "affiliations": [
             {
              "city": "Cambridge",
              "city_id": 4931972,
              "country": "United States",
              "country_code": "US",
              "id": "grid.38142.3c",
              "name": "Harvard University",
              "state": "Massachusetts",
              "state_code": "US-MA"
             }
            ],
            "current_organization_id": "",
            "first_name": "Pascal",
            "last_name": "Geldsetzer",
            "orcid": "",
            "researcher_id": ""
           },
           {
            "affiliations": [
             {
              "city": "Dar es Salaam",
              "city_id": 160263,
              "country": "Tanzania",
              "country_code": "TZ",
              "id": "grid.436289.2",
              "name": "Management and Development for Health",
              "state": null,
              "state_code": null
             }
            ],
            "current_organization_id": "",
            "first_name": "Eric",
            "last_name": "Mboggo",
            "orcid": "",
            "researcher_id": ""
           },
           {
            "affiliations": [
             {
              "city": "Dar es Salaam",
              "city_id": 160263,
              "country": "Tanzania",
              "country_code": "TZ",
              "id": "grid.436289.2",
              "name": "Management and Development for Health",
              "state": null,
              "state_code": null
             }
            ],
            "current_organization_id": "",
            "first_name": "Irene Andrew",
            "last_name": "Lema",
            "orcid": "",
            "researcher_id": ""
           },
           {
            "affiliations": [
             {
              "city": "Cambridge",
              "city_id": 4931972,
              "country": "United States",
              "country_code": "US",
              "id": "grid.38142.3c",
              "name": "Harvard University",
              "state": "Massachusetts",
              "state_code": "US-MA"
             }
            ],
            "current_organization_id": "",
            "first_name": "David",
            "last_name": "Sando",
            "orcid": "",
            "researcher_id": ""
           },
           {
            "affiliations": [
             {
              "city": "Stockholm",
              "city_id": 2673730,
              "country": "Sweden",
              "country_code": "SE",
              "id": "grid.4714.6",
              "name": "Karolinska Institute",
              "state": null,
              "state_code": null
             }
            ],
            "current_organization_id": "",
            "first_name": "Anna Mia",
            "last_name": "Ekström",
            "orcid": "",
            "researcher_id": ""
           },
           {
            "affiliations": [
             {
              "city": "Cambridge",
              "city_id": 4931972,
              "country": "United States",
              "country_code": "US",
              "id": "grid.38142.3c",
              "name": "Harvard University",
              "state": "Massachusetts",
              "state_code": "US-MA"
             }
            ],
            "current_organization_id": "",
            "first_name": "Wafaie",
            "last_name": "Fawzi",
            "orcid": "",
            "researcher_id": ""
           },
           {
            "affiliations": [
             {
              "city": "New Haven",
              "city_id": 4839366,
              "country": "United States",
              "country_code": "US",
              "id": "grid.47100.32",
              "name": "Yale University",
              "state": "Connecticut",
              "state_code": "US-CT"
             }
            ],
            "current_organization_id": "",
            "first_name": "Dawn W.",
            "last_name": "Foster",
            "orcid": "",
            "researcher_id": ""
           },
           {
            "affiliations": [
             {
              "city": "Dar es Salaam",
              "city_id": 160263,
              "country": "Tanzania",
              "country_code": "TZ",
              "id": "grid.25867.3e",
              "name": "Muhimbili University of Health and Allied Sciences",
              "state": null,
              "state_code": null
             }
            ],
            "current_organization_id": "",
            "first_name": "Charles",
            "last_name": "Kilewo",
            "orcid": "",
            "researcher_id": ""
           },
           {
            "affiliations": [
             {
              "city": "Hopewell",
              "city_id": 5099312,
              "country": "United States",
              "country_code": "US",
              "id": "grid.497530.c",
              "name": "Janssen (United States)",
              "state": "New Jersey",
              "state_code": "US-NJ"
             }
            ],
            "current_organization_id": "",
            "first_name": "Nan",
            "last_name": "Li",
            "orcid": "",
            "researcher_id": ""
           },
           {
            "affiliations": [
             {
              "city": "Dar es Salaam",
              "city_id": 160263,
              "country": "Tanzania",
              "country_code": "TZ",
              "id": "grid.436289.2",
              "name": "Management and Development for Health",
              "state": null,
              "state_code": null
             }
            ],
            "current_organization_id": "",
            "first_name": "Lameck",
            "last_name": "Machumi",
            "orcid": "",
            "researcher_id": ""
           },
           {
            "affiliations": [
             {
              "city": "Dar es Salaam",
              "city_id": 160263,
              "country": "Tanzania",
              "country_code": "TZ",
              "id": "grid.436289.2",
              "name": "Management and Development for Health",
              "state": null,
              "state_code": null
             }
            ],
            "current_organization_id": "",
            "first_name": "Lucy",
            "last_name": "Magesa",
            "orcid": "",
            "researcher_id": ""
           },
           {
            "affiliations": [
             {
              "city": "Dar es Salaam",
              "city_id": 160263,
              "country": "Tanzania",
              "country_code": "TZ",
              "id": "grid.25867.3e",
              "name": "Muhimbili University of Health and Allied Sciences",
              "state": null,
              "state_code": null
             }
            ],
            "current_organization_id": "",
            "first_name": "Phares",
            "last_name": "Mujinja",
            "orcid": "",
            "researcher_id": ""
           },
           {
            "affiliations": [
             {
              "city": "Dar es Salaam",
              "city_id": 160263,
              "country": "Tanzania",
              "country_code": "TZ",
              "id": "grid.436289.2",
              "name": "Management and Development for Health",
              "state": null,
              "state_code": null
             }
            ],
            "current_organization_id": "",
            "first_name": "Ester",
            "last_name": "Mungure",
            "orcid": "",
            "researcher_id": ""
           },
           {
            "affiliations": [
             {
              "name": "Africa Academy for Public Health, Dar es Salaam, Tanzania"
             }
            ],
            "current_organization_id": "",
            "first_name": "Mary",
            "last_name": "Mwanyika-Sando",
            "orcid": "",
            "researcher_id": ""
           },
           {
            "affiliations": [
             {
              "city": "Dar es Salaam",
              "city_id": 160263,
              "country": "Tanzania",
              "country_code": "TZ",
              "id": "grid.25867.3e",
              "name": "Muhimbili University of Health and Allied Sciences",
              "state": null,
              "state_code": null
             }
            ],
            "current_organization_id": "",
            "first_name": "Helga",
            "last_name": "Naburi",
            "orcid": "",
            "researcher_id": ""
           },
           {
            "affiliations": [
             {
              "city": "Dar es Salaam",
              "city_id": 160263,
              "country": "Tanzania",
              "country_code": "TZ",
              "id": "grid.436289.2",
              "name": "Management and Development for Health",
              "state": null,
              "state_code": null
             }
            ],
            "current_organization_id": "",
            "first_name": "Hellen",
            "last_name": "Siril",
            "orcid": "",
            "researcher_id": ""
           },
           {
            "affiliations": [
             {
              "city": "Cambridge",
              "city_id": 4931972,
              "country": "United States",
              "country_code": "US",
              "id": "grid.38142.3c",
              "name": "Harvard University",
              "state": "Massachusetts",
              "state_code": "US-MA"
             },
             {
              "city": "New Haven",
              "city_id": 4839366,
              "country": "United States",
              "country_code": "US",
              "id": "grid.47100.32",
              "name": "Yale University",
              "state": "Connecticut",
              "state_code": "US-CT"
             }
            ],
            "current_organization_id": "",
            "first_name": "Donna",
            "last_name": "Spiegelman",
            "orcid": "",
            "researcher_id": ""
           },
           {
            "affiliations": [
             {
              "city": "Dar es Salaam",
              "city_id": 160263,
              "country": "Tanzania",
              "country_code": "TZ",
              "id": "grid.436289.2",
              "name": "Management and Development for Health",
              "state": null,
              "state_code": null
             }
            ],
            "current_organization_id": "",
            "first_name": "Nzovu",
            "last_name": "Ulenga",
            "orcid": "",
            "researcher_id": ""
           },
           {
            "affiliations": [
             {
              "city": "Heidelberg",
              "city_id": 2907911,
              "country": "Germany",
              "country_code": "DE",
              "id": "grid.7700.0",
              "name": "Heidelberg University",
              "state": null,
              "state_code": null
             }
            ],
            "current_organization_id": "",
            "first_name": "Till",
            "last_name": "Bärnighausen",
            "orcid": "",
            "researcher_id": ""
           }
          ]
         ],
         "id": "pub.1113063215",
         "issue": "1",
         "journal": {
          "id": "jour.1032052",
          "title": "Human Resources for Health"
         },
         "pages": "23",
         "title": "The effect of a community health worker intervention on public satisfaction: evidence from an unregistered outcome in a cluster-randomized controlled trial in Dar es Salaam, Tanzania",
         "type": "article",
         "volume": "17",
         "year": 2019
        },
        {
         "author_affiliations": [
          [
           {
            "affiliations": [
             {
              "city": "Mannheim",
              "city_id": 2873891,
              "country": "Germany",
              "country_code": "DE",
              "id": "grid.411778.c",
              "name": "University Medical Centre Mannheim",
              "state": null,
              "state_code": null
             }
            ],
            "current_organization_id": "",
            "first_name": "Katherine",
            "last_name": "Sattler",
            "orcid": "",
            "researcher_id": ""
           },
           {
            "affiliations": [
             {
              "city": "Mannheim",
              "city_id": 2873891,
              "country": "Germany",
              "country_code": "DE",
              "id": "grid.411778.c",
              "name": "University Medical Centre Mannheim",
              "state": null,
              "state_code": null
             },
             {
              "city": "Berlin",
              "city_id": 2950159,
              "country": "Germany",
              "country_code": "DE",
              "id": "grid.452396.f",
              "name": "German Centre for Cardiovascular Research",
              "state": null,
              "state_code": null
             }
            ],
            "current_organization_id": "",
            "first_name": "Ibrahim",
            "last_name": "El-Battrawy",
            "orcid": "",
            "researcher_id": ""
           },
           {
            "affiliations": [
             {
              "city": "Mannheim",
              "city_id": 2873891,
              "country": "Germany",
              "country_code": "DE",
              "id": "grid.411778.c",
              "name": "University Medical Centre Mannheim",
              "state": null,
              "state_code": null
             },
             {
              "city": "Berlin",
              "city_id": 2950159,
              "country": "Germany",
              "country_code": "DE",
              "id": "grid.452396.f",
              "name": "German Centre for Cardiovascular Research",
              "state": null,
              "state_code": null
             }
            ],
            "current_organization_id": "",
            "first_name": "Zhihan",
            "last_name": "Zhao",
            "orcid": "",
            "researcher_id": ""
           },
           {
            "affiliations": [
             {
              "city": "Mannheim",
              "city_id": 2873891,
              "country": "Germany",
              "country_code": "DE",
              "id": "grid.411778.c",
              "name": "University Medical Centre Mannheim",
              "state": null,
              "state_code": null
             }
            ],
            "current_organization_id": "",
            "first_name": "Christoph",
            "last_name": "Schrottenberg",
            "orcid": "",
            "researcher_id": ""
           },
           {
            "affiliations": [
             {
              "city": "Mannheim",
              "city_id": 2873891,
              "country": "Germany",
              "country_code": "DE",
              "id": "grid.411778.c",
              "name": "University Medical Centre Mannheim",
              "state": null,
              "state_code": null
             },
             {
              "city": "Berlin",
              "city_id": 2950159,
              "country": "Germany",
              "country_code": "DE",
              "id": "grid.452396.f",
              "name": "German Centre for Cardiovascular Research",
              "state": null,
              "state_code": null
             }
            ],
            "current_organization_id": "",
            "first_name": "Gökhan",
            "last_name": "Yücel",
            "orcid": "",
            "researcher_id": ""
           },
           {
            "affiliations": [
             {
              "city": "Mannheim",
              "city_id": 2873891,
              "country": "Germany",
              "country_code": "DE",
              "id": "grid.411778.c",
              "name": "University Medical Centre Mannheim",
              "state": null,
              "state_code": null
             },
             {
              "city": "Berlin",
              "city_id": 2950159,
              "country": "Germany",
              "country_code": "DE",
              "id": "grid.452396.f",
              "name": "German Centre for Cardiovascular Research",
              "state": null,
              "state_code": null
             }
            ],
            "current_organization_id": "",
            "first_name": "Huan",
            "last_name": "Lan",
            "orcid": "",
            "researcher_id": ""
           },
           {
            "affiliations": [
             {
              "city": "Mannheim",
              "city_id": 2873891,
              "country": "Germany",
              "country_code": "DE",
              "id": "grid.411778.c",
              "name": "University Medical Centre Mannheim",
              "state": null,
              "state_code": null
             }
            ],
            "current_organization_id": "",
            "first_name": "Xin",
            "last_name": "Li",
            "orcid": "",
            "researcher_id": ""
           },
           {
            "affiliations": [
             {
              "city": "Mannheim",
              "city_id": 2873891,
              "country": "Germany",
              "country_code": "DE",
              "id": "grid.411778.c",
              "name": "University Medical Centre Mannheim",
              "state": null,
              "state_code": null
             },
             {
              "city": "Berlin",
              "city_id": 2950159,
              "country": "Germany",
              "country_code": "DE",
              "id": "grid.452396.f",
              "name": "German Centre for Cardiovascular Research",
              "state": null,
              "state_code": null
             }
            ],
            "current_organization_id": "",
            "first_name": "Siegfried",
            "last_name": "Lang",
            "orcid": "",
            "researcher_id": ""
           },
           {
            "affiliations": [
             {
              "city": "Berlin",
              "city_id": 2950159,
              "country": "Germany",
              "country_code": "DE",
              "id": "grid.452396.f",
              "name": "German Centre for Cardiovascular Research",
              "state": null,
              "state_code": null
             },
             {
              "city": "Göttingen",
              "city_id": 2918632,
              "country": "Germany",
              "country_code": "DE",
              "id": "grid.7450.6",
              "name": "University of Göttingen",
              "state": null,
              "state_code": null
             }
            ],
            "current_organization_id": "",
            "first_name": "Wolfram-Hubertus",
            "last_name": "Zimmermann",
            "orcid": "",
            "researcher_id": ""
           },
           {
            "affiliations": [
             {
              "city": "Berlin",
              "city_id": 2950159,
              "country": "Germany",
              "country_code": "DE",
              "id": "grid.452396.f",
              "name": "German Centre for Cardiovascular Research",
              "state": null,
              "state_code": null
             },
             {
              "city": "Göttingen",
              "city_id": 2918632,
              "country": "Germany",
              "country_code": "DE",
              "id": "grid.411984.1",
              "name": "Universitätsmedizin Göttingen",
              "state": null,
              "state_code": null
             }
            ],
            "current_organization_id": "",
            "first_name": "Lukas",
            "last_name": "Cyganek",
            "orcid": "",
            "researcher_id": ""
           },
           {
            "affiliations": [
             {
              "city": "Mannheim",
              "city_id": 2873891,
              "country": "Germany",
              "country_code": "DE",
              "id": "grid.411778.c",
              "name": "University Medical Centre Mannheim",
              "state": null,
              "state_code": null
             }
            ],
            "current_organization_id": "",
            "first_name": "Jochen",
            "last_name": "Utikal",
            "orcid": "",
            "researcher_id": ""
           },
           {
            "affiliations": [
             {
              "city": "Berlin",
              "city_id": 2950159,
              "country": "Germany",
              "country_code": "DE",
              "id": "grid.452396.f",
              "name": "German Centre for Cardiovascular Research",
              "state": null,
              "state_code": null
             },
             {
              "city": "Heidelberg",
              "city_id": 2907911,
              "country": "Germany",
              "country_code": "DE",
              "id": "grid.7700.0",
              "name": "Heidelberg University",
              "state": null,
              "state_code": null
             }
            ],
            "current_organization_id": "",
            "first_name": "Thomas",
            "last_name": "Wieland",
            "orcid": "",
            "researcher_id": ""
           },
           {
            "affiliations": [
             {
              "city": "Bad Krozingen",
              "country": "Germany",
              "country_code": "DE",
              "id": "grid.418466.9",
              "name": "Universitäts-Herzzentrum Freiburg-Bad Krozingen",
              "state": null,
              "state_code": null
             }
            ],
            "current_organization_id": "",
            "first_name": "Ursula",
            "last_name": "Ravens",
            "orcid": "",
            "researcher_id": ""
           },
           {
            "affiliations": [
             {
              "name": "Institute for Transfusion Medicine and Immunology, Mannheim, Germany."
             }
            ],
            "current_organization_id": "",
            "first_name": "Karen",
            "last_name": "Bieback",
            "orcid": "",
            "researcher_id": ""
           },
           {
            "affiliations": [
             {
              "city": "Mannheim",
              "city_id": 2873891,
              "country": "Germany",
              "country_code": "DE",
              "id": "grid.411778.c",
              "name": "University Medical Centre Mannheim",
              "state": null,
              "state_code": null
             },
             {
              "city": "Berlin",
              "city_id": 2950159,
              "country": "Germany",
              "country_code": "DE",
              "id": "grid.452396.f",
              "name": "German Centre for Cardiovascular Research",
              "state": null,
              "state_code": null
             }
            ],
            "current_organization_id": "",
            "first_name": "Martin",
            "last_name": "Borggrefe",
            "orcid": "",
            "researcher_id": ""
           },
           {
            "affiliations": [
             {
              "city": "Mannheim",
              "city_id": 2873891,
              "country": "Germany",
              "country_code": "DE",
              "id": "grid.411778.c",
              "name": "University Medical Centre Mannheim",
              "state": null,
              "state_code": null
             },
             {
              "city": "Berlin",
              "city_id": 2950159,
              "country": "Germany",
              "country_code": "DE",
              "id": "grid.452396.f",
              "name": "German Centre for Cardiovascular Research",
              "state": null,
              "state_code": null
             },
             {
              "city": "Luzhou",
              "city_id": 1801640,
              "country": "China",
              "country_code": "CN",
              "id": "grid.410578.f",
              "name": "Luzhou Medical College",
              "state": null,
              "state_code": null
             }
            ],
            "current_organization_id": "",
            "first_name": "Xiaobo",
            "last_name": "Zhou",
            "orcid": "",
            "researcher_id": ""
           },
           {
            "affiliations": [
             {
              "city": "Mannheim",
              "city_id": 2873891,
              "country": "Germany",
              "country_code": "DE",
              "id": "grid.411778.c",
              "name": "University Medical Centre Mannheim",
              "state": null,
              "state_code": null
             },
             {
              "city": "Berlin",
              "city_id": 2950159,
              "country": "Germany",
              "country_code": "DE",
              "id": "grid.452396.f",
              "name": "German Centre for Cardiovascular Research",
              "state": null,
              "state_code": null
             }
            ],
            "current_organization_id": "",
            "first_name": "Ibrahim",
            "last_name": "Akin",
            "orcid": "",
            "researcher_id": ""
           }
          ]
         ],
         "id": "pub.1113185021",
         "issue": "1",
         "journal": {
          "id": "jour.1045337",
          "title": "Scientific Reports"
         },
         "pages": "5651",
         "title": "Serum of patients with acute myocardial infarction prevents inflammation in iPSC-cardiomyocytes",
         "type": "article",
         "volume": "9",
         "year": 2019
        },
        {
         "author_affiliations": [
          [
           {
            "affiliations": [
             {
              "city": "Oxford",
              "city_id": 2640729,
              "country": "United Kingdom",
              "country_code": "GB",
              "id": "grid.4991.5",
              "name": "University of Oxford",
              "state": null,
              "state_code": null
             },
             {
              "city": "London",
              "city_id": 2643743,
              "country": "United Kingdom",
              "country_code": "GB",
              "id": "grid.83440.3b",
              "name": "University College London",
              "state": null,
              "state_code": null
             },
             {
              "city": "Baltimore",
              "city_id": 4347778,
              "country": "United States",
              "country_code": "US",
              "id": "grid.21107.35",
              "name": "Johns Hopkins University",
              "state": "Maryland",
              "state_code": "US-MD"
             }
            ],
            "current_organization_id": "",
            "first_name": "Alexei M.",
            "last_name": "Bygrave",
            "orcid": "",
            "researcher_id": ""
           },
           {
            "affiliations": [
             {
              "city": "Oxford",
              "city_id": 2640729,
              "country": "United Kingdom",
              "country_code": "GB",
              "id": "grid.4991.5",
              "name": "University of Oxford",
              "state": null,
              "state_code": null
             }
            ],
            "current_organization_id": "",
            "first_name": "Thomas",
            "last_name": "Jahans-Price",
            "orcid": "",
            "researcher_id": ""
           },
           {
            "affiliations": [
             {
              "city": "Oxford",
              "city_id": 2640729,
              "country": "United Kingdom",
              "country_code": "GB",
              "id": "grid.4991.5",
              "name": "University of Oxford",
              "state": null,
              "state_code": null
             },
             {
              "city": "London",
              "city_id": 2643743,
              "country": "United Kingdom",
              "country_code": "GB",
              "id": "grid.83440.3b",
              "name": "University College London",
              "state": null,
              "state_code": null
             }
            ],
            "current_organization_id": "",
            "first_name": "Amy R.",
            "last_name": "Wolff",
            "orcid": "",
            "researcher_id": ""
           },
           {
            "affiliations": [
             {
              "city": "Heidelberg",
              "city_id": 2907911,
              "country": "Germany",
              "country_code": "DE",
              "id": "grid.414703.5",
              "name": "Max Planck Institute for Medical Research",
              "state": null,
              "state_code": null
             },
             {
              "city": "Heidelberg",
              "city_id": 2907911,
              "country": "Germany",
              "country_code": "DE",
              "id": "grid.7700.0",
              "name": "Heidelberg University",
              "state": null,
              "state_code": null
             }
            ],
            "current_organization_id": "",
            "first_name": "Rolf",
            "last_name": "Sprengel",
            "orcid": "",
            "researcher_id": ""
           },
           {
            "affiliations": [
             {
              "city": "London",
              "city_id": 2643743,
              "country": "United Kingdom",
              "country_code": "GB",
              "id": "grid.83440.3b",
              "name": "University College London",
              "state": null,
              "state_code": null
             }
            ],
            "current_organization_id": "",
            "first_name": "Dimitri M.",
            "last_name": "Kullmann",
            "orcid": "",
            "researcher_id": ""
           },
           {
            "affiliations": [
             {
              "city": "Oxford",
              "city_id": 2640729,
              "country": "United Kingdom",
              "country_code": "GB",
              "id": "grid.4991.5",
              "name": "University of Oxford",
              "state": null,
              "state_code": null
             }
            ],
            "current_organization_id": "",
            "first_name": "David M.",
            "last_name": "Bannerman",
            "orcid": "",
            "researcher_id": ""
           },
           {
            "affiliations": [
             {
              "city": "Oxford",
              "city_id": 2640729,
              "country": "United Kingdom",
              "country_code": "GB",
              "id": "grid.4991.5",
              "name": "University of Oxford",
              "state": null,
              "state_code": null
             },
             {
              "city": "London",
              "city_id": 2643743,
              "country": "United Kingdom",
              "country_code": "GB",
              "id": "grid.83440.3b",
              "name": "University College London",
              "state": null,
              "state_code": null
             },
             {
              "city": "Ulm",
              "city_id": 2820256,
              "country": "Germany",
              "country_code": "DE",
              "id": "grid.6582.9",
              "name": "University of Ulm",
              "state": null,
              "state_code": null
             }
            ],
            "current_organization_id": "",
            "first_name": "Dennis",
            "last_name": "Kätzel",
            "orcid": "",
            "researcher_id": ""
           }
          ]
         ],
         "id": "pub.1113529103",
         "issue": "1",
         "journal": {
          "id": "jour.1045271",
          "title": "Translational Psychiatry"
         },
         "pages": "142",
         "title": "Hippocampal–prefrontal coherence mediates working memory and selective attention at distinct frequency bands and provides a causal link between schizophrenia and its risk gene GRIA1",
         "type": "article",
         "volume": "9",
         "year": 2019
        },
        {
         "author_affiliations": [
          [
           {
            "affiliations": [
             {
              "name": "Institute for Transfusion Medicine and Immunohematology, German Red Cross Blood Service Baden-Württemberg – Hessen gGmbH, Frankfurt Am Main, Germany"
             }
            ],
            "current_organization_id": "",
            "first_name": "Richard",
            "last_name": "Schäfer",
            "orcid": "",
            "researcher_id": ""
           },
           {
            "affiliations": [
             {
              "name": "Department of Orthopedic Surgery, Stanford University School of Medicine, 450 Broadway, 94063, Redwood City, CA, USA"
             }
            ],
            "current_organization_id": "",
            "first_name": "Malcolm R.",
            "last_name": "DeBaun",
            "orcid": "",
            "researcher_id": ""
           },
           {
            "affiliations": [
             {
              "name": "Institute for Transfusion Medicine and Immunohematology, German Red Cross Blood Service Baden-Württemberg – Hessen gGmbH, Frankfurt Am Main, Germany"
             }
            ],
            "current_organization_id": "",
            "first_name": "Erika",
            "last_name": "Fleck",
            "orcid": "",
            "researcher_id": ""
           },
           {
            "affiliations": [
             {
              "city": "Broomfield",
              "city_id": 5415035,
              "country": "United States",
              "country_code": "US",
              "id": "grid.489971.a",
              "name": "Centeno-Schultz Clinic",
              "state": "Colorado",
              "state_code": "US-CO"
             }
            ],
            "current_organization_id": "",
            "first_name": "Christopher J.",
            "last_name": "Centeno",
            "orcid": "",
            "researcher_id": ""
           },
           {
            "affiliations": [
             {
              "name": "Institute for Transfusion Medicine and Immunohematology, German Red Cross Blood Service Baden-Württemberg – Hessen gGmbH, Frankfurt Am Main, Germany"
             }
            ],
            "current_organization_id": "",
            "first_name": "Daniela",
            "last_name": "Kraft",
            "orcid": "",
            "researcher_id": ""
           },
           {
            "affiliations": [
             {
              "name": "Institute for Transfusion Medicine and Immunohematology, German Red Cross Blood Service Baden-Württemberg – Hessen gGmbH, Frankfurt Am Main, Germany"
             }
            ],
            "current_organization_id": "",
            "first_name": "Johannes",
            "last_name": "Leibacher",
            "orcid": "",
            "researcher_id": ""
           },
           {
            "affiliations": [
             {
              "city": "Heidelberg",
              "city_id": 2907911,
              "country": "Germany",
              "country_code": "DE",
              "id": "grid.7700.0",
              "name": "Heidelberg University",
              "state": null,
              "state_code": null
             }
            ],
            "current_organization_id": "",
            "first_name": "Karen",
            "last_name": "Bieback",
            "orcid": "",
            "researcher_id": ""
           },
           {
            "affiliations": [
             {
              "name": "Institute for Transfusion Medicine and Immunohematology, German Red Cross Blood Service Baden-Württemberg – Hessen gGmbH, Frankfurt Am Main, Germany"
             }
            ],
            "current_organization_id": "",
            "first_name": "Erhard",
            "last_name": "Seifried",
            "orcid": "",
            "researcher_id": ""
           },
           {
            "affiliations": [
             {
              "name": "Department of Orthopedic Surgery, Stanford University School of Medicine, 450 Broadway, 94063, Redwood City, CA, USA"
             }
            ],
            "current_organization_id": "",
            "first_name": "Jason L.",
            "last_name": "Dragoo",
            "orcid": "",
            "researcher_id": ""
           }
          ]
         ],
         "id": "pub.1113300275",
         "issue": "1",
         "journal": {
          "id": "jour.1032886",
          "title": "Journal of Translational Medicine"
         },
         "pages": "115",
         "title": "Quantitation of progenitor cell populations and growth factors after bone marrow aspirate concentration",
         "type": "article",
         "volume": "17",
         "year": 2019
        },
        {
         "author_affiliations": [
          [
           {
            "affiliations": [
             {
              "city": "Strassen",
              "city_id": 2960054,
              "country": "Luxembourg",
              "country_code": "LU",
              "id": "grid.451012.3",
              "name": "Luxembourg Institute of Health",
              "state": null,
              "state_code": null
             },
             {
              "city": "Luxembourg",
              "city_id": 2960316,
              "country": "Luxembourg",
              "country_code": "LU",
              "id": "grid.16008.3f",
              "name": "University of Luxembourg",
              "state": null,
              "state_code": null
             }
            ],
            "current_organization_id": "",
            "first_name": "Anne",
            "last_name": "Dirkse",
            "orcid": "",
            "researcher_id": ""
           },
           {
            "affiliations": [
             {
              "city": "Strassen",
              "city_id": 2960054,
              "country": "Luxembourg",
              "country_code": "LU",
              "id": "grid.451012.3",
              "name": "Luxembourg Institute of Health",
              "state": null,
              "state_code": null
             }
            ],
            "current_organization_id": "",
            "first_name": "Anna",
            "last_name": "Golebiewska",
            "orcid": "",
            "researcher_id": ""
           },
           {
            "affiliations": [
             {
              "city": "Dresden",
              "city_id": 2935022,
              "country": "Germany",
              "country_code": "DE",
              "id": "grid.4488.0",
              "name": "TU Dresden",
              "state": null,
              "state_code": null
             },
             {
              "city": "Dresden",
              "city_id": 2935022,
              "country": "Germany",
              "country_code": "DE",
              "id": "grid.434947.9",
              "name": "Dresden University of Applied Sciences",
              "state": null,
              "state_code": null
             }
            ],
            "current_organization_id": "",
            "first_name": "Thomas",
            "last_name": "Buder",
            "orcid": "",
            "researcher_id": ""
           },
           {
            "affiliations": [
             {
              "city": "Strassen",
              "city_id": 2960054,
              "country": "Luxembourg",
              "country_code": "LU",
              "id": "grid.451012.3",
              "name": "Luxembourg Institute of Health",
              "state": null,
              "state_code": null
             }
            ],
            "current_organization_id": "",
            "first_name": "Petr V.",
            "last_name": "Nazarov",
            "orcid": "",
            "researcher_id": ""
           },
           {
            "affiliations": [
             {
              "city": "Strassen",
              "city_id": 2960054,
              "country": "Luxembourg",
              "country_code": "LU",
              "id": "grid.451012.3",
              "name": "Luxembourg Institute of Health",
              "state": null,
              "state_code": null
             }
            ],
            "current_organization_id": "",
            "first_name": "Arnaud",
            "last_name": "Muller",
            "orcid": "",
            "researcher_id": ""
           },
           {
            "affiliations": [
             {
              "city": "Luxembourg",
              "city_id": 2960316,
              "country": "Luxembourg",
              "country_code": "LU",
              "id": "grid.16008.3f",
              "name": "University of Luxembourg",
              "state": null,
              "state_code": null
             }
            ],
            "current_organization_id": "",
            "first_name": "Suresh",
            "last_name": "Poovathingal",
            "orcid": "",
            "researcher_id": ""
           },
           {
            "affiliations": [
             {
              "city": "Strassen",
              "city_id": 2960054,
              "country": "Luxembourg",
              "country_code": "LU",
              "id": "grid.451012.3",
              "name": "Luxembourg Institute of Health",
              "state": null,
              "state_code": null
             }
            ],
            "current_organization_id": "",
            "first_name": "Nicolaas H. C.",
            "last_name": "Brons",
            "orcid": "",
            "researcher_id": ""
           },
           {
            "affiliations": [
             {
              "city": "Strassen",
              "city_id": 2960054,
              "country": "Luxembourg",
              "country_code": "LU",
              "id": "grid.451012.3",
              "name": "Luxembourg Institute of Health",
              "state": null,
              "state_code": null
             }
            ],
            "current_organization_id": "",
            "first_name": "Sonia",
            "last_name": "Leite",
            "orcid": "",
            "researcher_id": ""
           },
           {
            "affiliations": [
             {
              "city": "Strassen",
              "city_id": 2960054,
              "country": "Luxembourg",
              "country_code": "LU",
              "id": "grid.451012.3",
              "name": "Luxembourg Institute of Health",
              "state": null,
              "state_code": null
             }
            ],
            "current_organization_id": "",
            "first_name": "Nicolas",
            "last_name": "Sauvageot",
            "orcid": "",
            "researcher_id": ""
           },
           {
            "affiliations": [
             {
              "city": "Strassen",
              "city_id": 2960054,
              "country": "Luxembourg",
              "country_code": "LU",
              "id": "grid.451012.3",
              "name": "Luxembourg Institute of Health",
              "state": null,
              "state_code": null
             }
            ],
            "current_organization_id": "",
            "first_name": "Dzjemma",
            "last_name": "Sarkisjan",
            "orcid": "",
            "researcher_id": ""
           },
           {
            "affiliations": [
             {
              "city": "Strassen",
              "city_id": 2960054,
              "country": "Luxembourg",
              "country_code": "LU",
              "id": "grid.451012.3",
              "name": "Luxembourg Institute of Health",
              "state": null,
              "state_code": null
             }
            ],
            "current_organization_id": "",
            "first_name": "Mathieu",
            "last_name": "Seyfrid",
            "orcid": "",
            "researcher_id": ""
           },
           {
            "affiliations": [
             {
              "city": "Strassen",
              "city_id": 2960054,
              "country": "Luxembourg",
              "country_code": "LU",
              "id": "grid.451012.3",
              "name": "Luxembourg Institute of Health",
              "state": null,
              "state_code": null
             }
            ],
            "current_organization_id": "",
            "first_name": "Sabrina",
            "last_name": "Fritah",
            "orcid": "",
            "researcher_id": ""
           },
           {
            "affiliations": [
             {
              "city": "Strassen",
              "city_id": 2960054,
              "country": "Luxembourg",
              "country_code": "LU",
              "id": "grid.451012.3",
              "name": "Luxembourg Institute of Health",
              "state": null,
              "state_code": null
             }
            ],
            "current_organization_id": "",
            "first_name": "Daniel",
            "last_name": "Stieber",
            "orcid": "",
            "researcher_id": ""
           },
           {
            "affiliations": [
             {
              "city": "Strassen",
              "city_id": 2960054,
              "country": "Luxembourg",
              "country_code": "LU",
              "id": "grid.451012.3",
              "name": "Luxembourg Institute of Health",
              "state": null,
              "state_code": null
             },
             {
              "city": "Luxembourg",
              "city_id": 2960316,
              "country": "Luxembourg",
              "country_code": "LU",
              "id": "grid.16008.3f",
              "name": "University of Luxembourg",
              "state": null,
              "state_code": null
             }
            ],
            "current_organization_id": "",
            "first_name": "Alessandro",
            "last_name": "Michelucci",
            "orcid": "",
            "researcher_id": ""
           },
           {
            "affiliations": [
             {
              "city": "Luxembourg",
              "city_id": 2960316,
              "country": "Luxembourg",
              "country_code": "LU",
              "id": "grid.418041.8",
              "name": "Centre Hospitalier de Luxembourg",
              "state": null,
              "state_code": null
             }
            ],
            "current_organization_id": "",
            "first_name": "Frank",
            "last_name": "Hertel",
            "orcid": "",
            "researcher_id": ""
           },
           {
            "affiliations": [
             {
              "city": "Heidelberg",
              "city_id": 2907911,
              "country": "Germany",
              "country_code": "DE",
              "id": "grid.7700.0",
              "name": "Heidelberg University",
              "state": null,
              "state_code": null
             }
            ],
            "current_organization_id": "",
            "first_name": "Christel",
            "last_name": "Herold-Mende",
            "orcid": "",
            "researcher_id": ""
           },
           {
            "affiliations": [
             {
              "city": "Strassen",
              "city_id": 2960054,
              "country": "Luxembourg",
              "country_code": "LU",
              "id": "grid.451012.3",
              "name": "Luxembourg Institute of Health",
              "state": null,
              "state_code": null
             }
            ],
            "current_organization_id": "",
            "first_name": "Francisco",
            "last_name": "Azuaje",
            "orcid": "",
            "researcher_id": ""
           },
           {
            "affiliations": [
             {
              "city": "Luxembourg",
              "city_id": 2960316,
              "country": "Luxembourg",
              "country_code": "LU",
              "id": "grid.16008.3f",
              "name": "University of Luxembourg",
              "state": null,
              "state_code": null
             }
            ],
            "current_organization_id": "",
            "first_name": "Alexander",
            "last_name": "Skupin",
            "orcid": "",
            "researcher_id": ""
           },
           {
            "affiliations": [
             {
              "city": "Strassen",
              "city_id": 2960054,
              "country": "Luxembourg",
              "country_code": "LU",
              "id": "grid.451012.3",
              "name": "Luxembourg Institute of Health",
              "state": null,
              "state_code": null
             },
             {
              "city": "Bergen",
              "city_id": 3161732,
              "country": "Norway",
              "country_code": "NO",
              "id": "grid.7914.b",
              "name": "University of Bergen",
              "state": null,
              "state_code": null
             }
            ],
            "current_organization_id": "",
            "first_name": "Rolf",
            "last_name": "Bjerkvig",
            "orcid": "",
            "researcher_id": ""
           },
           {
            "affiliations": [
             {
              "city": "Dresden",
              "city_id": 2935022,
              "country": "Germany",
              "country_code": "DE",
              "id": "grid.4488.0",
              "name": "TU Dresden",
              "state": null,
              "state_code": null
             }
            ],
            "current_organization_id": "",
            "first_name": "Andreas",
            "last_name": "Deutsch",
            "orcid": "",
            "researcher_id": ""
           },
           {
            "affiliations": [
             {
              "city": "Dresden",
              "city_id": 2935022,
              "country": "Germany",
              "country_code": "DE",
              "id": "grid.4488.0",
              "name": "TU Dresden",
              "state": null,
              "state_code": null
             },
             {
              "city": "Dresden",
              "city_id": 2935022,
              "country": "Germany",
              "country_code": "DE",
              "id": "grid.434947.9",
              "name": "Dresden University of Applied Sciences",
              "state": null,
              "state_code": null
             }
            ],
            "current_organization_id": "",
            "first_name": "Anja",
            "last_name": "Voss-Böhme",
            "orcid": "",
            "researcher_id": ""
           },
           {
            "affiliations": [
             {
              "city": "Strassen",
              "city_id": 2960054,
              "country": "Luxembourg",
              "country_code": "LU",
              "id": "grid.451012.3",
              "name": "Luxembourg Institute of Health",
              "state": null,
              "state_code": null
             }
            ],
            "current_organization_id": "",
            "first_name": "Simone P.",
            "last_name": "Niclou",
            "orcid": "",
            "researcher_id": ""
           }
          ]
         ],
         "id": "pub.1113475671",
         "issue": "1",
         "journal": {
          "id": "jour.1043282",
          "title": "Nature Communications"
         },
         "pages": "1787",
         "title": "Stem cell-associated heterogeneity in Glioblastoma results from intrinsic tumor plasticity shaped by the microenvironment",
         "type": "article",
         "volume": "10",
         "year": 2019
        },
        {
         "author_affiliations": [
          [
           {
            "affiliations": [
             {
              "city": "New York",
              "city_id": 5128581,
              "country": "United States",
              "country_code": "US",
              "id": "grid.137628.9",
              "name": "New York University",
              "state": "New York",
              "state_code": "US-NY"
             },
             {
              "city": "Heidelberg",
              "city_id": 2907911,
              "country": "Germany",
              "country_code": "DE",
              "id": "grid.7700.0",
              "name": "Heidelberg University",
              "state": null,
              "state_code": null
             }
            ],
            "current_organization_id": "grid.137628.9",
            "first_name": "Luis A.",
            "last_name": "Vale-Silva",
            "orcid": "",
            "researcher_id": "ur.01025450466.59"
           },
           {
            "affiliations": [
             {
              "city": "New York",
              "city_id": 5128581,
              "country": "United States",
              "country_code": "US",
              "id": "grid.137628.9",
              "name": "New York University",
              "state": "New York",
              "state_code": "US-NY"
             }
            ],
            "current_organization_id": "grid.137628.9",
            "first_name": "Tovah E.",
            "last_name": "Markowitz",
            "orcid": "",
            "researcher_id": "ur.0645054127.22"
           },
           {
            "affiliations": [
             {
              "city": "New York",
              "city_id": 5128581,
              "country": "United States",
              "country_code": "US",
              "id": "grid.137628.9",
              "name": "New York University",
              "state": "New York",
              "state_code": "US-NY"
             }
            ],
            "current_organization_id": "grid.137628.9",
            "first_name": "Andreas",
            "last_name": "Hochwagen",
            "orcid": "['0000-0002-6184-443X']",
            "researcher_id": "ur.0657054132.93"
           }
          ]
         ],
         "id": "pub.1111504325",
         "issue": "1",
         "journal": {
          "id": "jour.1023790",
          "title": "BMC Genomics"
         },
         "pages": "54",
         "title": "SNP-ChIP: a versatile and tag-free method to quantify changes in protein binding across the genome",
         "type": "article",
         "volume": "20",
         "year": 2019
        },
        {
         "author_affiliations": [
          [
           {
            "affiliations": [
             {
              "city": "Helsinki",
              "city_id": 658225,
              "country": "Finland",
              "country_code": "FI",
              "id": "grid.7737.4",
              "name": "University of Helsinki",
              "state": null,
              "state_code": null
             }
            ],
            "current_organization_id": "",
            "first_name": "Lea M.",
            "last_name": "Urpa",
            "orcid": "",
            "researcher_id": ""
           },
           {
            "affiliations": [
             {
              "city": "Helsinki",
              "city_id": 658225,
              "country": "Finland",
              "country_code": "FI",
              "id": "grid.7737.4",
              "name": "University of Helsinki",
              "state": null,
              "state_code": null
             },
             {
              "city": "Heidelberg",
              "city_id": 2907911,
              "country": "Germany",
              "country_code": "DE",
              "id": "grid.7700.0",
              "name": "Heidelberg University",
              "state": null,
              "state_code": null
             }
            ],
            "current_organization_id": "",
            "first_name": "Simon",
            "last_name": "Anders",
            "orcid": "",
            "researcher_id": ""
           }
          ]
         ],
         "id": "pub.1113874351",
         "issue": "1",
         "journal": {
          "id": "jour.1023786",
          "title": "BMC Bioinformatics"
         },
         "pages": "221",
         "title": "Focused multidimensional scaling: interactive visualization for exploration of high-dimensional data",
         "type": "article",
         "volume": "20",
         "year": 2019
        },
        {
         "author_affiliations": [
          [
           {
            "affiliations": [
             {
              "city": "Rotterdam",
              "city_id": 2747891,
              "country": "Netherlands",
              "country_code": "NL",
              "id": "grid.5645.2",
              "name": "Erasmus University Medical Center",
              "state": null,
              "state_code": null
             }
            ],
            "current_organization_id": "grid.5645.2",
            "first_name": "Adriana I.",
            "last_name": "Iglesias",
            "orcid": "['0000-0001-5532-764X']",
            "researcher_id": "ur.01245633762.99"
           },
           {
            "affiliations": [
             {
              "city": "Bordeaux",
              "city_id": 3031582,
              "country": "France",
              "country_code": "FR",
              "id": "grid.412041.2",
              "name": "University of Bordeaux",
              "state": null,
              "state_code": null
             }
            ],
            "current_organization_id": "grid.412041.2",
            "first_name": "Aniket",
            "last_name": "Mishra",
            "orcid": "",
            "researcher_id": "ur.014027347716.30"
           },
           {
            "affiliations": [
             {
              "city": "Edinburgh",
              "city_id": 2650225,
              "country": "United Kingdom",
              "country_code": "GB",
              "id": "grid.4305.2",
              "name": "University of Edinburgh",
              "state": null,
              "state_code": null
             }
            ],
            "current_organization_id": "grid.4305.2",
            "first_name": "Veronique",
            "last_name": "Vitart",
            "orcid": "",
            "researcher_id": "ur.016217671316.42"
           },
           {
            "affiliations": [
             {
              "city": "Los Angeles",
              "city_id": 5368361,
              "country": "United States",
              "country_code": "US",
              "id": "grid.50956.3f",
              "name": "Cedars-Sinai Medical Center",
              "state": "California",
              "state_code": "US-CA"
             },
             {
              "name": "Cornea Genetic Eye Institute, Los Angeles, CA 90048 USA"
             }
            ],
            "current_organization_id": "grid.50956.3f",
            "first_name": "Yelena",
            "last_name": "Bykhovskaya",
            "orcid": "",
            "researcher_id": "ur.01202167606.37"
           },
           {
            "affiliations": [
             {
              "city": "Mainz",
              "city_id": 2874225,
              "country": "Germany",
              "country_code": "DE",
              "id": "grid.410607.4",
              "name": "University Medical Center of the Johannes Gutenberg University Mainz",
              "state": null,
              "state_code": null
             },
             {
              "city": "Bern",
              "city_id": 2661552,
              "country": "Switzerland",
              "country_code": "CH",
              "id": "grid.5734.5",
              "name": "University of Bern",
              "state": null,
              "state_code": null
             }
            ],
            "current_organization_id": "grid.410607.4",
            "first_name": "René",
            "last_name": "Höhn",
            "orcid": "['0000-0003-2870-1469']",
            "researcher_id": "ur.0635433416.67"
           },
           {
            "affiliations": [
             {
              "city": "Rotterdam",
              "city_id": 2747891,
              "country": "Netherlands",
              "country_code": "NL",
              "id": "grid.5645.2",
              "name": "Erasmus University Medical Center",
              "state": null,
              "state_code": null
             }
            ],
            "current_organization_id": "grid.5645.2",
            "first_name": "Henriët",
            "last_name": "Springelkamp",
            "orcid": "",
            "researcher_id": "ur.0744525210.06"
           },
           {
            "affiliations": [
             {
              "city": "Brisbane",
              "city_id": 2174003,
              "country": "Australia",
              "country_code": "AU",
              "id": "grid.1049.c",
              "name": "QIMR Berghofer Medical Research Institute",
              "state": "Queensland",
              "state_code": "AU-QLD"
             }
            ],
            "current_organization_id": "grid.1049.c",
            "first_name": "Gabriel",
            "last_name": "Cuellar-Partida",
            "orcid": "['0000-0001-7648-4097']",
            "researcher_id": "ur.0607052757.43"
           },
           {
            "affiliations": [
             {
              "city": "Brisbane",
              "city_id": 2174003,
              "country": "Australia",
              "country_code": "AU",
              "id": "grid.1049.c",
              "name": "QIMR Berghofer Medical Research Institute",
              "state": "Queensland",
              "state_code": "AU-QLD"
             }
            ],
            "current_organization_id": "grid.1049.c",
            "first_name": "Puya",
            "last_name": "Gharahkhani",
            "orcid": "['0000-0002-4203-5952']",
            "researcher_id": "ur.0745107454.60"
           },
           {
            "affiliations": [
             {
              "city": "Cleveland",
              "city_id": 5150529,
              "country": "United States",
              "country_code": "US",
              "id": "grid.67105.35",
              "name": "Case Western Reserve University",
              "state": "Ohio",
              "state_code": "US-OH"
             }
            ],
            "current_organization_id": "grid.67105.35",
            "first_name": "Jessica N. Cooke",
            "last_name": "Bailey",
            "orcid": "['0000-0002-4001-8702']",
            "researcher_id": "ur.01174146202.33"
           },
           {
            "affiliations": [
             {
              "city": "Coleraine",
              "city_id": 2652586,
              "country": "United Kingdom",
              "country_code": "GB",
              "id": "grid.12641.30",
              "name": "University of Ulster",
              "state": null,
              "state_code": null
             },
             {
              "city": "Belfast",
              "city_id": 2655984,
              "country": "United Kingdom",
              "country_code": "GB",
              "id": "grid.416232.0",
              "name": "Royal Victoria Hospital",
              "state": null,
              "state_code": null
             }
            ],
            "current_organization_id": "grid.12641.30",
            "first_name": "Colin E.",
            "last_name": "Willoughby",
            "orcid": "['0000-0002-1246-4166']",
            "researcher_id": "ur.01302466442.17"
           },
           {
            "affiliations": [
             {
              "city": "Torrance",
              "city_id": 5403022,
              "country": "United States",
              "country_code": "US",
              "id": "grid.239844.0",
              "name": "Harbor–UCLA Medical Center",
              "state": "California",
              "state_code": "US-CA"
             }
            ],
            "current_organization_id": "grid.239844.0",
            "first_name": "Xiaohui",
            "last_name": "Li",
            "orcid": "",
            "researcher_id": "ur.01266162237.91"
           },
           {
            "affiliations": [
             {
              "city": "Edinburgh",
              "city_id": 2650225,
              "country": "United Kingdom",
              "country_code": "GB",
              "id": "grid.4305.2",
              "name": "University of Edinburgh",
              "state": null,
              "state_code": null
             },
             {
              "name": "Centre for Ophthalmology and Visual Science, University of Western Australia, Lions Eye Institute, Perth, WA WA 6009 Australia"
             }
            ],
            "current_organization_id": "grid.1012.2",
            "first_name": "Seyhan",
            "last_name": "Yazar",
            "orcid": "['0000-0003-0994-6196']",
            "researcher_id": "ur.0575622500.85"
           },
           {
            "affiliations": [
             {
              "city": "London",
              "city_id": 2643743,
              "country": "United Kingdom",
              "country_code": "GB",
              "id": "grid.13097.3c",
              "name": "King's College London",
              "state": null,
              "state_code": null
             }
            ],
            "current_organization_id": "",
            "first_name": "Abhishek",
            "last_name": "Nag",
            "orcid": "",
            "researcher_id": ""
           },
           {
            "affiliations": [
             {
              "city": "Cambridge",
              "city_id": 2653941,
              "country": "United Kingdom",
              "country_code": "GB",
              "id": "grid.5335.0",
              "name": "University of Cambridge",
              "state": null,
              "state_code": null
             },
             {
              "city": "London",
              "city_id": 2643743,
              "country": "United Kingdom",
              "country_code": "GB",
              "id": "grid.451056.3",
              "name": "National Institute for Health Research",
              "state": null,
              "state_code": null
             }
            ],
            "current_organization_id": "grid.5335.0",
            "first_name": "Anthony P.",
            "last_name": "Khawaja",
            "orcid": "['0000-0001-6802-8585']",
            "researcher_id": "ur.01036007374.30"
           },
           {
            "affiliations": [
             {
              "city": "Split",
              "city_id": 3190261,
              "country": "Croatia",
              "country_code": "HR",
              "id": "grid.38603.3e",
              "name": "University of Split",
              "state": null,
              "state_code": null
             }
            ],
            "current_organization_id": "grid.38603.3e",
            "first_name": "Ozren",
            "last_name": "Polašek",
            "orcid": "['0000-0002-5765-1862']",
            "researcher_id": "ur.01301232211.13"
           },
           {
            "affiliations": [
             {
              "city": "Seattle",
              "city_id": 5809844,
              "country": "United States",
              "country_code": "US",
              "id": "grid.34477.33",
              "name": "University of Washington",
              "state": "Washington",
              "state_code": "US-WA"
             },
             {
              "city": "New York",
              "city_id": 5128581,
              "country": "United States",
              "country_code": "US",
              "id": "grid.410402.3",
              "name": "New York Academy of Medicine",
              "state": "New York",
              "state_code": "US-NY"
             }
            ],
            "current_organization_id": "grid.410402.3",
            "first_name": "David",
            "last_name": "Siscovick",
            "orcid": "",
            "researcher_id": "ur.015250252017.39"
           },
           {
            "affiliations": [
             {
              "city": "Sydney",
              "city_id": 2147714,
              "country": "Australia",
              "country_code": "AU",
              "id": "grid.1013.3",
              "name": "University of Sydney",
              "state": "New South Wales",
              "state_code": "AU-NSW"
             }
            ],
            "current_organization_id": "grid.1013.3",
            "first_name": "Paul",
            "last_name": "Mitchell",
            "orcid": "",
            "researcher_id": "ur.01240411533.17"
           },
           {
            "affiliations": [
             {
              "city": "Singapore",
              "city_id": 1880252,
              "country": "Singapore",
              "country_code": "SG",
              "id": "grid.419272.b",
              "name": "Singapore National Eye Center",
              "state": null,
              "state_code": null
             }
            ],
            "current_organization_id": "grid.419272.b",
            "first_name": "Yih Chung",
            "last_name": "Tham",
            "orcid": "",
            "researcher_id": "ur.01036220474.55"
           },
           {
            "affiliations": [
             {
              "city": "Cleveland",
              "city_id": 5150529,
              "country": "United States",
              "country_code": "US",
              "id": "grid.67105.35",
              "name": "Case Western Reserve University",
              "state": "Ohio",
              "state_code": "US-OH"
             }
            ],
            "current_organization_id": "grid.67105.35",
            "first_name": "Jonathan L.",
            "last_name": "Haines",
            "orcid": "",
            "researcher_id": "ur.010452320737.68"
           },
           {
            "affiliations": [
             {
              "city": "East Melbourne",
              "city_id": 6952201,
              "country": "Australia",
              "country_code": "AU",
              "id": "grid.418002.f",
              "name": "Centre for Eye Research Australia",
              "state": "Victoria",
              "state_code": "AU-VIC"
             }
            ],
            "current_organization_id": "grid.418002.f",
            "first_name": "Lisa S.",
            "last_name": "Kearns",
            "orcid": "",
            "researcher_id": "ur.0705715643.77"
           },
           {
            "affiliations": [
             {
              "city": "Edinburgh",
              "city_id": 2650225,
              "country": "United Kingdom",
              "country_code": "GB",
              "id": "grid.4305.2",
              "name": "University of Edinburgh",
              "state": null,
              "state_code": null
             }
            ],
            "current_organization_id": "grid.4305.2",
            "first_name": "Caroline",
            "last_name": "Hayward",
            "orcid": "",
            "researcher_id": "ur.013462444316.55"
           },
           {
            "affiliations": [
             {
              "city": "Singapore",
              "city_id": 1880252,
              "country": "Singapore",
              "country_code": "SG",
              "id": "grid.419272.b",
              "name": "Singapore National Eye Center",
              "state": null,
              "state_code": null
             }
            ],
            "current_organization_id": "",
            "first_name": "Yuan",
            "last_name": "Shi",
            "orcid": "",
            "researcher_id": ""
           },
           {
            "affiliations": [
             {
              "city": "Rotterdam",
              "city_id": 2747891,
              "country": "Netherlands",
              "country_code": "NL",
              "id": "grid.5645.2",
              "name": "Erasmus University Medical Center",
              "state": null,
              "state_code": null
             }
            ],
            "current_organization_id": "grid.5645.2",
            "first_name": "Elisabeth M.",
            "last_name": "van Leeuwen",
            "orcid": "",
            "researcher_id": "ur.016354357071.35"
           },
           {
            "affiliations": [
             {
              "city": "Torrance",
              "city_id": 5403022,
              "country": "United States",
              "country_code": "US",
              "id": "grid.239844.0",
              "name": "Harbor–UCLA Medical Center",
              "state": "California",
              "state_code": "US-CA"
             }
            ],
            "current_organization_id": "",
            "first_name": "Kent D.",
            "last_name": "Taylor",
            "orcid": "",
            "researcher_id": ""
           },
           {
            "affiliations": [],
            "current_organization_id": "",
            "first_name": "",
            "last_name": "",
            "orcid": "",
            "researcher_id": ""
           },
           {
            "affiliations": [
             {
              "city": "Rotterdam",
              "city_id": 2747891,
              "country": "Netherlands",
              "country_code": "NL",
              "id": "grid.5645.2",
              "name": "Erasmus University Medical Center",
              "state": null,
              "state_code": null
             }
            ],
            "current_organization_id": "grid.5645.2",
            "first_name": "Pieter",
            "last_name": "Bonnemaijer",
            "orcid": "",
            "researcher_id": "ur.016072577405.60"
           },
           {
            "affiliations": [
             {
              "city": "Torrance",
              "city_id": 5403022,
              "country": "United States",
              "country_code": "US",
              "id": "grid.239844.0",
              "name": "Harbor–UCLA Medical Center",
              "state": "California",
              "state_code": "US-CA"
             }
            ],
            "current_organization_id": "",
            "first_name": "Jerome I.",
            "last_name": "Rotter",
            "orcid": "",
            "researcher_id": ""
           },
           {
            "affiliations": [
             {
              "city": "Brisbane",
              "city_id": 2174003,
              "country": "Australia",
              "country_code": "AU",
              "id": "grid.1049.c",
              "name": "QIMR Berghofer Medical Research Institute",
              "state": "Queensland",
              "state_code": "AU-QLD"
             }
            ],
            "current_organization_id": "grid.1049.c",
            "first_name": "Nicholas G.",
            "last_name": "Martin",
            "orcid": "['0000-0003-4069-8020']",
            "researcher_id": "ur.010700366647.17"
           },
           {
            "affiliations": [
             {
              "city": "Hamburg",
              "city_id": 2911298,
              "country": "Germany",
              "country_code": "DE",
              "id": "grid.13648.38",
              "name": "University Medical Center Hamburg-Eppendorf",
              "state": null,
              "state_code": null
             },
             {
              "city": "Berlin",
              "city_id": 2950159,
              "country": "Germany",
              "country_code": "DE",
              "id": "grid.452396.f",
              "name": "German Centre for Cardiovascular Research",
              "state": null,
              "state_code": null
             }
            ],
            "current_organization_id": "grid.13648.38",
            "first_name": "Tanja",
            "last_name": "Zeller",
            "orcid": "",
            "researcher_id": "ur.0765171035.15"
           },
           {
            "affiliations": [
             {
              "city": "Adelaide",
              "city_id": 2078025,
              "country": "Australia",
              "country_code": "AU",
              "id": "grid.1014.4",
              "name": "Flinders University",
              "state": "South Australia",
              "state_code": "AU-SA"
             }
            ],
            "current_organization_id": "",
            "first_name": "Richard A.",
            "last_name": "Mills",
            "orcid": "",
            "researcher_id": ""
           },
           {
            "affiliations": [
             {
              "city": "Adelaide",
              "city_id": 2078025,
              "country": "Australia",
              "country_code": "AU",
              "id": "grid.1014.4",
              "name": "Flinders University",
              "state": "South Australia",
              "state_code": "AU-SA"
             }
            ],
            "current_organization_id": "grid.1014.4",
            "first_name": "Emmanuelle",
            "last_name": "Souzeau",
            "orcid": "['0000-0002-2015-6577']",
            "researcher_id": "ur.01175501003.71"
           },
           {
            "affiliations": [
             {
              "city": "East Melbourne",
              "city_id": 6952201,
              "country": "Australia",
              "country_code": "AU",
              "id": "grid.418002.f",
              "name": "Centre for Eye Research Australia",
              "state": "Victoria",
              "state_code": "AU-VIC"
             }
            ],
            "current_organization_id": "grid.418002.f",
            "first_name": "Sandra E.",
            "last_name": "Staffieri",
            "orcid": "",
            "researcher_id": "ur.01363206543.55"
           },
           {
            "affiliations": [
             {
              "city": "Heidelberg",
              "city_id": 2907911,
              "country": "Germany",
              "country_code": "DE",
              "id": "grid.7700.0",
              "name": "Heidelberg University",
              "state": null,
              "state_code": null
             }
            ],
            "current_organization_id": "",
            "first_name": "Jost B.",
            "last_name": "Jonas",
            "orcid": "",
            "researcher_id": ""
           },
           {
            "affiliations": [
             {
              "city": "Mainz",
              "city_id": 2874225,
              "country": "Germany",
              "country_code": "DE",
              "id": "grid.410607.4",
              "name": "University Medical Center of the Johannes Gutenberg University Mainz",
              "state": null,
              "state_code": null
             }
            ],
            "current_organization_id": "grid.410607.4",
            "first_name": "Irene",
            "last_name": "Schmidtmann",
            "orcid": "['0000-0001-8743-6752']",
            "researcher_id": "ur.01230422011.84"
           },
           {
            "affiliations": [
             {
              "city": "Edinburgh",
              "city_id": 2650225,
              "country": "United Kingdom",
              "country_code": "GB",
              "id": "grid.4305.2",
              "name": "University of Edinburgh",
              "state": null,
              "state_code": null
             }
            ],
            "current_organization_id": "grid.4305.2",
            "first_name": "Thibaud",
            "last_name": "Boutin",
            "orcid": "['0000-0003-4754-1675']",
            "researcher_id": "ur.01322260243.91"
           },
           {
            "affiliations": [
             {
              "city": "Boston",
              "city_id": 4930956,
              "country": "United States",
              "country_code": "US",
              "id": "grid.62560.37",
              "name": "Brigham and Women's Hospital",
              "state": "Massachusetts",
              "state_code": "US-MA"
             }
            ],
            "current_organization_id": "",
            "first_name": "Jae H.",
            "last_name": "Kang",
            "orcid": "",
            "researcher_id": ""
           },
           {
            "affiliations": [
             {
              "city": "Hobart",
              "city_id": 2163355,
              "country": "Australia",
              "country_code": "AU",
              "id": "grid.1009.8",
              "name": "University of Tasmania",
              "state": "Tasmania",
              "state_code": "AU-TAS"
             }
            ],
            "current_organization_id": "grid.1009.8",
            "first_name": "Sionne E. M.",
            "last_name": "Lucas",
            "orcid": "['0000-0003-0104-5406']",
            "researcher_id": "ur.01342440777.70"
           },
           {
            "affiliations": [
             {
              "city": "Singapore",
              "city_id": 1880252,
              "country": "Singapore",
              "country_code": "SG",
              "id": "grid.419272.b",
              "name": "Singapore National Eye Center",
              "state": null,
              "state_code": null
             },
             {
              "name": "Ophthalmology & Visual Sciences Academic Clinical Program (Eye ACP), Duke-NUS Medical School, Singapore, 169857 Singapore"
             },
             {
              "city": "Singapore",
              "city_id": 1880252,
              "country": "Singapore",
              "country_code": "SG",
              "id": "grid.4280.e",
              "name": "National University of Singapore",
              "state": null,
              "state_code": null
             }
            ],
            "current_organization_id": "",
            "first_name": "Tien Yin",
            "last_name": "Wong",
            "orcid": "",
            "researcher_id": ""
           },
           {
            "affiliations": [
             {
              "city": "Mainz",
              "city_id": 2874225,
              "country": "Germany",
              "country_code": "DE",
              "id": "grid.410607.4",
              "name": "University Medical Center of the Johannes Gutenberg University Mainz",
              "state": null,
              "state_code": null
             }
            ],
            "current_organization_id": "grid.410607.4",
            "first_name": "Manfred E.",
            "last_name": "Beutel",
            "orcid": "",
            "researcher_id": "ur.0616236164.68"
           },
           {
            "affiliations": [
             {
              "city": "Edinburgh",
              "city_id": 2650225,
              "country": "United Kingdom",
              "country_code": "GB",
              "id": "grid.4305.2",
              "name": "University of Edinburgh",
              "state": null,
              "state_code": null
             }
            ],
            "current_organization_id": "grid.4305.2",
            "first_name": "James F.",
            "last_name": "Wilson",
            "orcid": "['0000-0001-5751-9178']",
            "researcher_id": "ur.01060172311.14"
           },
           {
            "affiliations": [],
            "current_organization_id": "",
            "first_name": "",
            "last_name": "",
            "orcid": "",
            "researcher_id": ""
           },
           {
            "affiliations": [],
            "current_organization_id": "",
            "first_name": "",
            "last_name": "",
            "orcid": "",
            "researcher_id": ""
           },
           {
            "affiliations": [
             {
              "city": "Rotterdam",
              "city_id": 2747891,
              "country": "Netherlands",
              "country_code": "NL",
              "id": "grid.5645.2",
              "name": "Erasmus University Medical Center",
              "state": null,
              "state_code": null
             },
             {
              "city": "Wageningen",
              "city_id": 2745088,
              "country": "Netherlands",
              "country_code": "NL",
              "id": "grid.4818.5",
              "name": "Wageningen University & Research",
              "state": null,
              "state_code": null
             }
            ],
            "current_organization_id": "grid.5645.2",
            "first_name": "André G.",
            "last_name": "Uitterlinden",
            "orcid": "",
            "researcher_id": "ur.01174076626.46"
           },
           {
            "affiliations": [
             {
              "city": "Singapore",
              "city_id": 1880252,
              "country": "Singapore",
              "country_code": "SG",
              "id": "grid.419272.b",
              "name": "Singapore National Eye Center",
              "state": null,
              "state_code": null
             }
            ],
            "current_organization_id": "grid.419272.b",
            "first_name": "Eranga N.",
            "last_name": "Vithana",
            "orcid": "",
            "researcher_id": "ur.01275220170.77"
           },
           {
            "affiliations": [
             {
              "city": "London",
              "city_id": 2643743,
              "country": "United Kingdom",
              "country_code": "GB",
              "id": "grid.451056.3",
              "name": "National Institute for Health Research",
              "state": null,
              "state_code": null
             }
            ],
            "current_organization_id": "grid.451056.3",
            "first_name": "Paul J.",
            "last_name": "Foster",
            "orcid": "['0000-0002-4755-177X']",
            "researcher_id": "ur.01036635453.10"
           },
           {
            "affiliations": [
             {
              "city": "London",
              "city_id": 2643743,
              "country": "United Kingdom",
              "country_code": "GB",
              "id": "grid.13097.3c",
              "name": "King's College London",
              "state": null,
              "state_code": null
             }
            ],
            "current_organization_id": "grid.13097.3c",
            "first_name": "Pirro G.",
            "last_name": "Hysi",
            "orcid": "",
            "researcher_id": "ur.01254523225.05"
           },
           {
            "affiliations": [
             {
              "city": "East Melbourne",
              "city_id": 6952201,
              "country": "Australia",
              "country_code": "AU",
              "id": "grid.418002.f",
              "name": "Centre for Eye Research Australia",
              "state": "Victoria",
              "state_code": "AU-VIC"
             },
             {
              "city": "Hobart",
              "city_id": 2163355,
              "country": "Australia",
              "country_code": "AU",
              "id": "grid.1009.8",
              "name": "University of Tasmania",
              "state": "Tasmania",
              "state_code": "AU-TAS"
             }
            ],
            "current_organization_id": "grid.1009.8",
            "first_name": "Alex W.",
            "last_name": "Hewitt",
            "orcid": "['0000-0002-5123-5999']",
            "researcher_id": "ur.01127542415.10"
           },
           {
            "affiliations": [
             {
              "city": "Singapore",
              "city_id": 1880252,
              "country": "Singapore",
              "country_code": "SG",
              "id": "grid.418377.e",
              "name": "Genome Institute of Singapore",
              "state": null,
              "state_code": null
             }
            ],
            "current_organization_id": "grid.418377.e",
            "first_name": "Chiea Chuen",
            "last_name": "Khor",
            "orcid": "['0000-0002-1128-4729']",
            "researcher_id": "ur.0723132542.33"
           },
           {
            "affiliations": [
             {
              "city": "Boston",
              "city_id": 4930956,
              "country": "United States",
              "country_code": "US",
              "id": "grid.62560.37",
              "name": "Brigham and Women's Hospital",
              "state": "Massachusetts",
              "state_code": "US-MA"
             },
             {
              "city": "Boston",
              "city_id": 4930956,
              "country": "United States",
              "country_code": "US",
              "id": "grid.39479.30",
              "name": "Massachusetts Eye and Ear Infirmary",
              "state": "Massachusetts",
              "state_code": "US-MA"
             }
            ],
            "current_organization_id": "grid.38142.3c",
            "first_name": "Louis R.",
            "last_name": "Pasquale",
            "orcid": "['0000-0002-5835-3496']",
            "researcher_id": "ur.01024046525.32"
           },
           {
            "affiliations": [
             {
              "city": "Brisbane",
              "city_id": 2174003,
              "country": "Australia",
              "country_code": "AU",
              "id": "grid.1049.c",
              "name": "QIMR Berghofer Medical Research Institute",
              "state": "Queensland",
              "state_code": "AU-QLD"
             },
             {
              "city": "Brisbane",
              "city_id": 2174003,
              "country": "Australia",
              "country_code": "AU",
              "id": "grid.1003.2",
              "name": "University of Queensland",
              "state": "Queensland",
              "state_code": "AU-QLD"
             }
            ],
            "current_organization_id": "grid.1003.2",
            "first_name": "Grant W.",
            "last_name": "Montgomery",
            "orcid": "['0000-0002-4140-8139']",
            "researcher_id": "ur.01117721120.30"
           },
           {
            "affiliations": [
             {
              "city": "Rotterdam",
              "city_id": 2747891,
              "country": "Netherlands",
              "country_code": "NL",
              "id": "grid.5645.2",
              "name": "Erasmus University Medical Center",
              "state": null,
              "state_code": null
             },
             {
              "city": "Nijmegen",
              "city_id": 2750053,
              "country": "Netherlands",
              "country_code": "NL",
              "id": "grid.10417.33",
              "name": "Radboud University Nijmegen Medical Centre",
              "state": null,
              "state_code": null
             }
            ],
            "current_organization_id": "grid.5645.2",
            "first_name": "Caroline C. W.",
            "last_name": "Klaver",
            "orcid": "['0000-0002-2355-5258']",
            "researcher_id": "ur.01166740146.62"
           },
           {
            "affiliations": [
             {
              "city": "Singapore",
              "city_id": 1880252,
              "country": "Singapore",
              "country_code": "SG",
              "id": "grid.419272.b",
              "name": "Singapore National Eye Center",
              "state": null,
              "state_code": null
             },
             {
              "name": "Ophthalmology & Visual Sciences Academic Clinical Program (Eye ACP), Duke-NUS Medical School, Singapore, 169857 Singapore"
             },
             {
              "city": "Singapore",
              "city_id": 1880252,
              "country": "Singapore",
              "country_code": "SG",
              "id": "grid.4280.e",
              "name": "National University of Singapore",
              "state": null,
              "state_code": null
             }
            ],
            "current_organization_id": "grid.4280.e",
            "first_name": "Tin",
            "last_name": "Aung",
            "orcid": "",
            "researcher_id": "ur.01146351622.95"
           },
           {
            "affiliations": [
             {
              "city": "Mainz",
              "city_id": 2874225,
              "country": "Germany",
              "country_code": "DE",
              "id": "grid.410607.4",
              "name": "University Medical Center of the Johannes Gutenberg University Mainz",
              "state": null,
              "state_code": null
             }
            ],
            "current_organization_id": "",
            "first_name": "Norbert",
            "last_name": "Pfeiffer",
            "orcid": "",
            "researcher_id": ""
           },
           {
            "affiliations": [
             {
              "name": "Centre for Ophthalmology and Visual Science, University of Western Australia, Lions Eye Institute, Perth, WA WA 6009 Australia"
             }
            ],
            "current_organization_id": "grid.1009.8",
            "first_name": "David A.",
            "last_name": "Mackey",
            "orcid": "['0000-0001-7914-4709']",
            "researcher_id": "ur.01230014411.44"
           },
           {
            "affiliations": [
             {
              "city": "London",
              "city_id": 2643743,
              "country": "United Kingdom",
              "country_code": "GB",
              "id": "grid.13097.3c",
              "name": "King's College London",
              "state": null,
              "state_code": null
             }
            ],
            "current_organization_id": "",
            "first_name": "Christopher J.",
            "last_name": "Hammond",
            "orcid": "",
            "researcher_id": ""
           },
           {
            "affiliations": [
             {
              "city": "Singapore",
              "city_id": 1880252,
              "country": "Singapore",
              "country_code": "SG",
              "id": "grid.419272.b",
              "name": "Singapore National Eye Center",
              "state": null,
              "state_code": null
             },
             {
              "name": "Ophthalmology & Visual Sciences Academic Clinical Program (Eye ACP), Duke-NUS Medical School, Singapore, 169857 Singapore"
             },
             {
              "city": "Singapore",
              "city_id": 1880252,
              "country": "Singapore",
              "country_code": "SG",
              "id": "grid.4280.e",
              "name": "National University of Singapore",
              "state": null,
              "state_code": null
             }
            ],
            "current_organization_id": "grid.4280.e",
            "first_name": "Ching-Yu",
            "last_name": "Cheng",
            "orcid": "['0000-0003-0655-885X']",
            "researcher_id": "ur.0772101217.51"
           },
           {
            "affiliations": [
             {
              "city": "Adelaide",
              "city_id": 2078025,
              "country": "Australia",
              "country_code": "AU",
              "id": "grid.1014.4",
              "name": "Flinders University",
              "state": "South Australia",
              "state_code": "AU-SA"
             }
            ],
            "current_organization_id": "",
            "first_name": "Jamie E.",
            "last_name": "Craig",
            "orcid": "",
            "researcher_id": ""
           },
           {
            "affiliations": [
             {
              "city": "Los Angeles",
              "city_id": 5368361,
              "country": "United States",
              "country_code": "US",
              "id": "grid.50956.3f",
              "name": "Cedars-Sinai Medical Center",
              "state": "California",
              "state_code": "US-CA"
             },
             {
              "name": "Cornea Genetic Eye Institute, Los Angeles, CA 90048 USA"
             }
            ],
            "current_organization_id": "grid.50956.3f",
            "first_name": "Yaron S.",
            "last_name": "Rabinowitz",
            "orcid": "",
            "researcher_id": "ur.0746764477.29"
           },
           {
            "affiliations": [
             {
              "city": "Boston",
              "city_id": 4930956,
              "country": "United States",
              "country_code": "US",
              "id": "grid.39479.30",
              "name": "Massachusetts Eye and Ear Infirmary",
              "state": "Massachusetts",
              "state_code": "US-MA"
             }
            ],
            "current_organization_id": "grid.39479.30",
            "first_name": "Janey L.",
            "last_name": "Wiggs",
            "orcid": "",
            "researcher_id": "ur.01102656013.12"
           },
           {
            "affiliations": [
             {
              "city": "Hobart",
              "city_id": 2163355,
              "country": "Australia",
              "country_code": "AU",
              "id": "grid.1009.8",
              "name": "University of Tasmania",
              "state": "Tasmania",
              "state_code": "AU-TAS"
             }
            ],
            "current_organization_id": "",
            "first_name": "Kathryn P.",
            "last_name": "Burdon",
            "orcid": "",
            "researcher_id": ""
           },
           {
            "affiliations": [
             {
              "city": "Rotterdam",
              "city_id": 2747891,
              "country": "Netherlands",
              "country_code": "NL",
              "id": "grid.5645.2",
              "name": "Erasmus University Medical Center",
              "state": null,
              "state_code": null
             }
            ],
            "current_organization_id": "grid.5645.2",
            "first_name": "Cornelia M.",
            "last_name": "van Duijn",
            "orcid": "",
            "researcher_id": "ur.011675454737.09"
           },
           {
            "affiliations": [
             {
              "city": "Brisbane",
              "city_id": 2174003,
              "country": "Australia",
              "country_code": "AU",
              "id": "grid.1049.c",
              "name": "QIMR Berghofer Medical Research Institute",
              "state": "Queensland",
              "state_code": "AU-QLD"
             }
            ],
            "current_organization_id": "",
            "first_name": "Stuart",
            "last_name": "MacGregor",
            "orcid": "",
            "researcher_id": ""
           }
          ]
         ],
         "id": "pub.1111265290",
         "issue": "1",
         "journal": {
          "id": "jour.1043282",
          "title": "Nature Communications"
         },
         "pages": "155",
         "title": "Author Correction: Cross-ancestry genome-wide association analysis of corneal thickness strengthens link between complex and Mendelian eye diseases",
         "type": "article",
         "volume": "10",
         "year": 2019
        }
       ]
      },
      "text/plain": [
       "<dimcli.Result object #4531103224: [('publications', 20), ('_stats', 1)]>"
      ]
     },
     "execution_count": 2,
     "metadata": {
      "application/json": {
       "expanded": false,
       "root": "root"
      }
     },
     "output_type": "execute_result"
    }
   ],
   "source": [
    "%%dsl_query\n",
    "search publications where research_orgs=\"grid.7700.0\" and count(research_org_countries) > 1 limit 1"
   ]
  },
  {
   "cell_type": "markdown",
   "metadata": {},
   "source": [
    "**31706** publications in total with international collaborators."
   ]
  },
  {
   "cell_type": "markdown",
   "metadata": {},
   "source": [
    "### Distribution over years"
   ]
  },
  {
   "cell_type": "code",
   "execution_count": 18,
   "metadata": {},
   "outputs": [
    {
     "name": "stdout",
     "output_type": "stream",
     "text": [
      "Tot Publications:  31715\n",
      "Returned Year: 20\n"
     ]
    },
    {
     "data": {
      "application/json": {
       "_stats": {
        "total_count": 31715
       },
       "year": [
        {
         "count": 2751,
         "id": 2018
        },
        {
         "count": 2349,
         "id": 2017
        },
        {
         "count": 2163,
         "id": 2016
        },
        {
         "count": 2018,
         "id": 2014
        },
        {
         "count": 2013,
         "id": 2015
        },
        {
         "count": 1944,
         "id": 2012
        },
        {
         "count": 1914,
         "id": 2013
        },
        {
         "count": 1528,
         "id": 2011
        },
        {
         "count": 1421,
         "id": 2010
        },
        {
         "count": 1291,
         "id": 2019
        },
        {
         "count": 1264,
         "id": 2009
        },
        {
         "count": 1112,
         "id": 2008
        },
        {
         "count": 1063,
         "id": 2007
        },
        {
         "count": 932,
         "id": 2006
        },
        {
         "count": 712,
         "id": 2005
        },
        {
         "count": 688,
         "id": 2004
        },
        {
         "count": 564,
         "id": 2002
        },
        {
         "count": 556,
         "id": 2003
        },
        {
         "count": 437,
         "id": 2001
        },
        {
         "count": 416,
         "id": 2000
        }
       ]
      },
      "text/plain": [
       "<dimcli.Result object #4777619352: [('year', 20), ('_stats', 1)]>"
      ]
     },
     "execution_count": 18,
     "metadata": {
      "application/json": {
       "expanded": false,
       "root": "root"
      }
     },
     "output_type": "execute_result"
    }
   ],
   "source": [
    "%%dsl_query\n",
    "search publications where research_orgs=\"grid.7700.0\" and count(research_org_countries) > 1 return year"
   ]
  },
  {
   "cell_type": "code",
   "execution_count": 19,
   "metadata": {},
   "outputs": [
    {
     "data": {
      "text/html": [
       "<div>\n",
       "<style scoped>\n",
       "    .dataframe tbody tr th:only-of-type {\n",
       "        vertical-align: middle;\n",
       "    }\n",
       "\n",
       "    .dataframe tbody tr th {\n",
       "        vertical-align: top;\n",
       "    }\n",
       "\n",
       "    .dataframe thead th {\n",
       "        text-align: right;\n",
       "    }\n",
       "</style>\n",
       "<table border=\"1\" class=\"dataframe\">\n",
       "  <thead>\n",
       "    <tr style=\"text-align: right;\">\n",
       "      <th></th>\n",
       "      <th>count</th>\n",
       "      <th>id</th>\n",
       "    </tr>\n",
       "  </thead>\n",
       "  <tbody>\n",
       "    <tr>\n",
       "      <th>0</th>\n",
       "      <td>2751</td>\n",
       "      <td>2018</td>\n",
       "    </tr>\n",
       "    <tr>\n",
       "      <th>1</th>\n",
       "      <td>2349</td>\n",
       "      <td>2017</td>\n",
       "    </tr>\n",
       "    <tr>\n",
       "      <th>2</th>\n",
       "      <td>2163</td>\n",
       "      <td>2016</td>\n",
       "    </tr>\n",
       "    <tr>\n",
       "      <th>3</th>\n",
       "      <td>2018</td>\n",
       "      <td>2014</td>\n",
       "    </tr>\n",
       "    <tr>\n",
       "      <th>4</th>\n",
       "      <td>2013</td>\n",
       "      <td>2015</td>\n",
       "    </tr>\n",
       "    <tr>\n",
       "      <th>5</th>\n",
       "      <td>1944</td>\n",
       "      <td>2012</td>\n",
       "    </tr>\n",
       "    <tr>\n",
       "      <th>6</th>\n",
       "      <td>1914</td>\n",
       "      <td>2013</td>\n",
       "    </tr>\n",
       "    <tr>\n",
       "      <th>7</th>\n",
       "      <td>1528</td>\n",
       "      <td>2011</td>\n",
       "    </tr>\n",
       "    <tr>\n",
       "      <th>8</th>\n",
       "      <td>1421</td>\n",
       "      <td>2010</td>\n",
       "    </tr>\n",
       "    <tr>\n",
       "      <th>9</th>\n",
       "      <td>1291</td>\n",
       "      <td>2019</td>\n",
       "    </tr>\n",
       "    <tr>\n",
       "      <th>10</th>\n",
       "      <td>1264</td>\n",
       "      <td>2009</td>\n",
       "    </tr>\n",
       "    <tr>\n",
       "      <th>11</th>\n",
       "      <td>1112</td>\n",
       "      <td>2008</td>\n",
       "    </tr>\n",
       "    <tr>\n",
       "      <th>12</th>\n",
       "      <td>1063</td>\n",
       "      <td>2007</td>\n",
       "    </tr>\n",
       "    <tr>\n",
       "      <th>13</th>\n",
       "      <td>932</td>\n",
       "      <td>2006</td>\n",
       "    </tr>\n",
       "    <tr>\n",
       "      <th>14</th>\n",
       "      <td>712</td>\n",
       "      <td>2005</td>\n",
       "    </tr>\n",
       "    <tr>\n",
       "      <th>15</th>\n",
       "      <td>688</td>\n",
       "      <td>2004</td>\n",
       "    </tr>\n",
       "    <tr>\n",
       "      <th>16</th>\n",
       "      <td>564</td>\n",
       "      <td>2002</td>\n",
       "    </tr>\n",
       "    <tr>\n",
       "      <th>17</th>\n",
       "      <td>556</td>\n",
       "      <td>2003</td>\n",
       "    </tr>\n",
       "    <tr>\n",
       "      <th>18</th>\n",
       "      <td>437</td>\n",
       "      <td>2001</td>\n",
       "    </tr>\n",
       "    <tr>\n",
       "      <th>19</th>\n",
       "      <td>416</td>\n",
       "      <td>2000</td>\n",
       "    </tr>\n",
       "  </tbody>\n",
       "</table>\n",
       "</div>"
      ],
      "text/plain": [
       "    count    id\n",
       "0    2751  2018\n",
       "1    2349  2017\n",
       "2    2163  2016\n",
       "3    2018  2014\n",
       "4    2013  2015\n",
       "5    1944  2012\n",
       "6    1914  2013\n",
       "7    1528  2011\n",
       "8    1421  2010\n",
       "9    1291  2019\n",
       "10   1264  2009\n",
       "11   1112  2008\n",
       "12   1063  2007\n",
       "13    932  2006\n",
       "14    712  2005\n",
       "15    688  2004\n",
       "16    564  2002\n",
       "17    556  2003\n",
       "18    437  2001\n",
       "19    416  2000"
      ]
     },
     "execution_count": 19,
     "metadata": {},
     "output_type": "execute_result"
    }
   ],
   "source": [
    "df = dsl_last_results.as_dataframe()\n",
    "df"
   ]
  },
  {
   "cell_type": "code",
   "execution_count": 20,
   "metadata": {},
   "outputs": [
    {
     "data": {
      "text/plain": [
       "'years_distribution.html'"
      ]
     },
     "execution_count": 20,
     "metadata": {},
     "output_type": "execute_result"
    }
   ],
   "source": [
    "data = [go.Bar(\n",
    "            x=[x for x in df['id']],\n",
    "            y=[x for x in df['count']]\n",
    "    )]\n",
    "plot(data, filename=\"years_distribution.html\")"
   ]
  },
  {
   "cell_type": "markdown",
   "metadata": {},
   "source": [
    "### List of collaborating institutions with count"
   ]
  },
  {
   "cell_type": "code",
   "execution_count": 32,
   "metadata": {},
   "outputs": [
    {
     "name": "stdout",
     "output_type": "stream",
     "text": [
      "Tot Publications:  31715\n",
      "Returned Research_orgs: 100\n"
     ]
    },
    {
     "data": {
      "application/json": {
       "_stats": {
        "total_count": 31715
       },
       "research_orgs": [
        {
         "count": 31715,
         "country_name": "Germany",
         "id": "grid.7700.0",
         "name": "Heidelberg University"
        },
        {
         "acronym": "CERN",
         "count": 2578,
         "country_name": "Switzerland",
         "id": "grid.9132.9",
         "name": "European Organization for Nuclear Research"
        },
        {
         "acronym": "RAL",
         "count": 2559,
         "country_name": "United Kingdom",
         "id": "grid.76978.37",
         "name": "Rutherford Appleton Laboratory"
        },
        {
         "count": 2521,
         "country_name": "United Kingdom",
         "id": "grid.5379.8",
         "name": "University of Manchester"
        },
        {
         "count": 2476,
         "country_name": "United Kingdom",
         "id": "grid.6572.6",
         "name": "University of Birmingham"
        },
        {
         "count": 2320,
         "country_name": "United Kingdom",
         "id": "grid.10025.36",
         "name": "University of Liverpool"
        },
        {
         "count": 2282,
         "country_name": "United Kingdom",
         "id": "grid.4305.2",
         "name": "University of Edinburgh"
        },
        {
         "count": 2252,
         "country_name": "United Kingdom",
         "id": "grid.5335.0",
         "name": "University of Cambridge"
        },
        {
         "acronym": "LNF",
         "count": 2215,
         "country_name": "Italy",
         "id": "grid.463190.9",
         "name": "National Laboratory of Frascati"
        },
        {
         "acronym": "LAL",
         "count": 2202,
         "country_name": "France",
         "id": "grid.462450.1",
         "name": "Laboratoire de l'Accélérateur Linéaire"
        },
        {
         "count": 2061,
         "country_name": "Germany",
         "id": "grid.5675.1",
         "name": "TU Dortmund University"
        },
        {
         "acronym": "BINP",
         "count": 1991,
         "country_name": "Russia",
         "id": "grid.418495.5",
         "name": "Budker Institute of Nuclear Physics"
        },
        {
         "acronym": "NIKHEF",
         "count": 1989,
         "country_name": "Netherlands",
         "id": "grid.420012.5",
         "name": "National Institute for Subatomic Physics"
        },
        {
         "acronym": "LPNHE",
         "count": 1973,
         "country_name": "France",
         "id": "grid.463935.e",
         "name": "Laboratoire Physique nucléaire et Hautes Energies"
        },
        {
         "count": 1946,
         "country_name": "United States",
         "id": "grid.38142.3c",
         "name": "Harvard University"
        },
        {
         "count": 1937,
         "country_name": "United Kingdom",
         "id": "grid.4991.5",
         "name": "University of Oxford"
        },
        {
         "acronym": "LAPP",
         "count": 1906,
         "country_name": "France",
         "id": "grid.450330.1",
         "name": "Annecy-le-Vieux Particle Physics Laboratory"
        },
        {
         "acronym": "ITEP",
         "count": 1899,
         "country_name": "Russia",
         "id": "grid.21626.31",
         "name": "Institute for Theoretical and Experimental Physics"
        },
        {
         "acronym": "OSU",
         "count": 1847,
         "country_name": "United States",
         "id": "grid.261331.4",
         "name": "The Ohio State University"
        },
        {
         "acronym": "UCL",
         "count": 1810,
         "country_name": "United Kingdom",
         "id": "grid.83440.3b",
         "name": "University College London"
        },
        {
         "count": 1787,
         "country_name": "Poland",
         "id": "grid.418860.3",
         "name": "Institute of Nuclear Physics Polish Academy of Sciences"
        },
        {
         "acronym": "LMU",
         "count": 1771,
         "country_name": "Germany",
         "id": "grid.5252.0",
         "name": "Ludwig Maximilian University of Munich"
        },
        {
         "count": 1769,
         "country_name": "United Kingdom",
         "id": "grid.8756.c",
         "name": "University of Glasgow"
        },
        {
         "count": 1742,
         "country_name": "Canada",
         "id": "grid.14848.31",
         "name": "University of Montreal"
        },
        {
         "count": 1739,
         "country_name": "Norway",
         "id": "grid.7914.b",
         "name": "University of Bergen"
        },
        {
         "count": 1729,
         "country_name": "Germany",
         "id": "grid.10388.32",
         "name": "University of Bonn"
        },
        {
         "count": 1720,
         "country_name": "United Kingdom",
         "id": "grid.7445.2",
         "name": "Imperial College London"
        },
        {
         "count": 1701,
         "country_name": "United States",
         "id": "grid.47100.32",
         "name": "Yale University"
        },
        {
         "acronym": "UBC",
         "count": 1690,
         "country_name": "Canada",
         "id": "grid.17091.3e",
         "name": "University of British Columbia"
        },
        {
         "count": 1687,
         "country_name": "United Kingdom",
         "id": "grid.7372.1",
         "name": "University of Warwick"
        },
        {
         "count": 1684,
         "country_name": "Italy",
         "id": "grid.7841.a",
         "name": "Sapienza University of Rome"
        },
        {
         "acronym": "UCPH",
         "count": 1667,
         "country_name": "Denmark",
         "id": "grid.5254.6",
         "name": "University of Copenhagen"
        },
        {
         "count": 1649,
         "country_name": "Germany",
         "id": "grid.5802.f",
         "name": "Johannes Gutenberg University of Mainz"
        },
        {
         "count": 1645,
         "country_name": "Sweden",
         "id": "grid.4514.4",
         "name": "Lund University"
        },
        {
         "acronym": "CPPM",
         "count": 1637,
         "country_name": "France",
         "id": "grid.470046.1",
         "name": "Center for Particle Physics of Marseilles"
        },
        {
         "acronym": "IFIN-HH",
         "count": 1598,
         "country_name": "Romania",
         "id": "grid.443874.8",
         "name": "Horia Hulubei National Institute for R and D in Physics and Nuclear Engineering"
        },
        {
         "acronym": "TUD",
         "count": 1598,
         "country_name": "Germany",
         "id": "grid.4488.0",
         "name": "TU Dresden"
        },
        {
         "acronym": "UCSC",
         "count": 1591,
         "country_name": "United States",
         "id": "grid.205975.c",
         "name": "University of California, Santa Cruz"
        },
        {
         "acronym": "UNIMI",
         "count": 1579,
         "country_name": "Italy",
         "id": "grid.4708.b",
         "name": "University of Milan"
        },
        {
         "count": 1576,
         "country_name": "Canada",
         "id": "grid.14709.3b",
         "name": "McGill University"
        },
        {
         "acronym": "MIT",
         "count": 1569,
         "country_name": "United States",
         "id": "grid.116068.8",
         "name": "Massachusetts Institute of Technology"
        },
        {
         "acronym": "DKFZ",
         "count": 1567,
         "country_name": "Germany",
         "id": "grid.7497.d",
         "name": "German Cancer Research Center"
        },
        {
         "count": 1548,
         "country_name": "Italy",
         "id": "grid.470193.8",
         "name": "INFN Sezione di Bologna"
        },
        {
         "acronym": "UniPi",
         "count": 1548,
         "country_name": "Italy",
         "id": "grid.5395.a",
         "name": "University of Pisa"
        },
        {
         "acronym": "PNPI",
         "count": 1544,
         "country_name": "Russia",
         "id": "grid.430219.d",
         "name": "Petersburg Nuclear Physics Institute"
        },
        {
         "acronym": "QMUL",
         "count": 1537,
         "country_name": "United Kingdom",
         "id": "grid.4868.2",
         "name": "Queen Mary University of London"
        },
        {
         "acronym": "LBL",
         "count": 1534,
         "country_name": "United States",
         "id": "grid.184769.5",
         "name": "Lawrence Berkeley National Laboratory"
        },
        {
         "acronym": "UT",
         "count": 1517,
         "country_name": "Japan",
         "id": "grid.26999.3d",
         "name": "University of Tokyo"
        },
        {
         "count": 1512,
         "country_name": "Canada",
         "id": "grid.143640.4",
         "name": "University of Victoria"
        },
        {
         "acronym": "IFIC",
         "count": 1511,
         "country_name": "Spain",
         "id": "grid.470047.0",
         "name": "Institute for Corpuscular Physics"
        },
        {
         "acronym": "UniGe",
         "count": 1495,
         "country_name": "Italy",
         "id": "grid.5606.5",
         "name": "University of Genoa"
        },
        {
         "count": 1494,
         "country_name": "Italy",
         "id": "grid.470205.4",
         "name": "INFN Sezione di Genova"
        },
        {
         "acronym": "UO",
         "count": 1492,
         "country_name": "United States",
         "id": "grid.170202.6",
         "name": "University of Oregon"
        },
        {
         "acronym": "UCI",
         "count": 1477,
         "country_name": "United States",
         "id": "grid.266093.8",
         "name": "University of California, Irvine"
        },
        {
         "count": 1471,
         "country_name": "United Kingdom",
         "id": "grid.4970.a",
         "name": "Royal Holloway University of London"
        },
        {
         "acronym": "TAU",
         "count": 1459,
         "country_name": "Israel",
         "id": "grid.12136.37",
         "name": "Tel Aviv University"
        },
        {
         "acronym": "UNIBO",
         "count": 1454,
         "country_name": "Italy",
         "id": "grid.6292.f",
         "name": "University of Bologna"
        },
        {
         "count": 1452,
         "country_name": "Italy",
         "id": "grid.470218.8",
         "name": "INFN Sezione di Roma I"
        },
        {
         "count": 1452,
         "country_name": "Italy",
         "id": "grid.470223.0",
         "name": "INFN Sezione di Trieste"
        },
        {
         "acronym": "MSU",
         "count": 1446,
         "country_name": "Russia",
         "id": "grid.14476.30",
         "name": "Moscow State University"
        },
        {
         "acronym": "UI",
         "count": 1446,
         "country_name": "United States",
         "id": "grid.214572.7",
         "name": "University of Iowa"
        },
        {
         "count": 1431,
         "country_name": "Germany",
         "id": "grid.5963.9",
         "name": "University of Freiburg"
        },
        {
         "count": 1418,
         "country_name": "United States",
         "id": "grid.28803.31",
         "name": "University of Wisconsin System"
        },
        {
         "count": 1415,
         "country_name": "Italy",
         "id": "grid.4691.a",
         "name": "University of Naples Federico II"
        },
        {
         "acronym": "IHEP",
         "count": 1396,
         "country_name": "Russia",
         "id": "grid.424823.b",
         "name": "Institute for High Energy Physics"
        },
        {
         "count": 1396,
         "country_name": "Italy",
         "id": "grid.470216.6",
         "name": "INFN Sezione di Pisa"
        },
        {
         "acronym": "SLAC",
         "count": 1374,
         "country_name": "United States",
         "id": "grid.445003.6",
         "name": "SLAC National Accelerator Laboratory"
        },
        {
         "acronym": "JINR",
         "count": 1353,
         "country_name": "Russia",
         "id": "grid.33762.33",
         "name": "Joint Institute for Nuclear Research"
        },
        {
         "acronym": "ISU",
         "count": 1346,
         "country_name": "United States",
         "id": "grid.34421.30",
         "name": "Iowa State University"
        },
        {
         "acronym": "DESY",
         "count": 1340,
         "country_name": "Germany",
         "id": "grid.7683.a",
         "name": "German Electron Synchrotron"
        },
        {
         "acronym": "HU",
         "count": 1333,
         "country_name": "Germany",
         "id": "grid.7468.d",
         "name": "Humboldt University of Berlin"
        },
        {
         "acronym": "UFRJ",
         "count": 1329,
         "country_name": "Brazil",
         "id": "grid.8536.8",
         "name": "Federal University of Rio de Janeiro"
        },
        {
         "count": 1321,
         "country_name": "Italy",
         "id": "grid.470206.7",
         "name": "INFN Sezione di Milano"
        },
        {
         "acronym": "AGH UST",
         "count": 1317,
         "country_name": "Poland",
         "id": "grid.9922.0",
         "name": "AGH University of Science and Technology"
        },
        {
         "acronym": "UTD",
         "count": 1295,
         "country_name": "United States",
         "id": "grid.267323.1",
         "name": "The University of Texas at Dallas"
        },
        {
         "acronym": "MPP",
         "count": 1294,
         "country_name": "Germany",
         "id": "grid.435824.c",
         "name": "Max Planck Institute for Physics"
        },
        {
         "count": 1285,
         "country_name": "United States",
         "id": "grid.25879.31",
         "name": "University of Pennsylvania"
        },
        {
         "count": 1281,
         "country_name": "United Kingdom",
         "id": "grid.9835.7",
         "name": "Lancaster University"
        },
        {
         "count": 1280,
         "country_name": "Israel",
         "id": "grid.13992.30",
         "name": "Weizmann Institute of Science"
        },
        {
         "count": 1261,
         "country_name": "Greece",
         "id": "grid.5216.0",
         "name": "National and Kapodistrian University of Athens"
        },
        {
         "count": 1255,
         "country_name": "Canada",
         "id": "grid.17063.33",
         "name": "University of Toronto"
        },
        {
         "acronym": "USP",
         "count": 1252,
         "country_name": "Brazil",
         "id": "grid.11899.38",
         "name": "University of Sao Paulo"
        },
        {
         "acronym": "AANL",
         "count": 1252,
         "country_name": "Armenia",
         "id": "grid.48507.3e",
         "name": "Alikhanyan National Laboratory"
        },
        {
         "acronym": "IHEP",
         "count": 1250,
         "country_name": "China",
         "id": "grid.418741.f",
         "name": "Institute of High Energy Physics"
        },
        {
         "count": 1241,
         "country_name": "Italy",
         "id": "grid.470219.9",
         "name": "INFN Sezione di Roma II"
        },
        {
         "acronym": "UB",
         "count": 1236,
         "country_name": "Switzerland",
         "id": "grid.5734.5",
         "name": "University of Bern"
        },
        {
         "acronym": "UMCP",
         "count": 1226,
         "country_name": "United States",
         "id": "grid.164295.d",
         "name": "University of Maryland, College Park"
        },
        {
         "count": 1212,
         "country_name": "Czechia",
         "id": "grid.4491.8",
         "name": "Charles University"
        },
        {
         "count": 1206,
         "country_name": "United States",
         "id": "grid.89336.37",
         "name": "The University of Texas at Austin"
        },
        {
         "count": 1204,
         "country_name": "Australia",
         "id": "grid.1008.9",
         "name": "University of Melbourne"
        },
        {
         "count": 1198,
         "country_name": "Germany",
         "id": "grid.8379.5",
         "name": "University of Würzburg"
        },
        {
         "acronym": "IEP SAS",
         "count": 1194,
         "country_name": "Slovakia",
         "id": "grid.435184.f",
         "name": "Institute of Experimental Physics"
        },
        {
         "acronym": "FZU",
         "count": 1193,
         "country_name": "Czechia",
         "id": "grid.424881.3",
         "name": "Institute of Physics"
        },
        {
         "count": 1186,
         "country_name": "Austria",
         "id": "grid.5771.4",
         "name": "University of Innsbruck"
        },
        {
         "count": 1182,
         "country_name": "United Kingdom",
         "id": "grid.11835.3e",
         "name": "University of Sheffield"
        },
        {
         "acronym": "UW",
         "count": 1173,
         "country_name": "United States",
         "id": "grid.34477.33",
         "name": "University of Washington"
        },
        {
         "acronym": "GAU",
         "count": 1158,
         "country_name": "Germany",
         "id": "grid.7450.6",
         "name": "University of Göttingen"
        },
        {
         "count": 1154,
         "country_name": "Italy",
         "id": "grid.470190.b",
         "name": "INFN Sezione di Bari"
        },
        {
         "acronym": "UiO",
         "count": 1147,
         "country_name": "Norway",
         "id": "grid.5510.1",
         "name": "University of Oslo"
        },
        {
         "count": 1140,
         "country_name": "Israel",
         "id": "grid.6451.6",
         "name": "Technion – Israel Institute of Technology"
        }
       ]
      },
      "text/plain": [
       "<dimcli.Result object #4808838616: [('research_orgs', 100), ('_stats', 1)]>"
      ]
     },
     "execution_count": 32,
     "metadata": {
      "application/json": {
       "expanded": false,
       "root": "root"
      }
     },
     "output_type": "execute_result"
    }
   ],
   "source": [
    "%%dsl_query\n",
    "search publications where research_orgs=\"grid.7700.0\" and count(research_org_countries) > 1 return research_orgs limit 100"
   ]
  },
  {
   "cell_type": "code",
   "execution_count": 37,
   "metadata": {},
   "outputs": [
    {
     "data": {
      "text/html": [
       "<div>\n",
       "<style scoped>\n",
       "    .dataframe tbody tr th:only-of-type {\n",
       "        vertical-align: middle;\n",
       "    }\n",
       "\n",
       "    .dataframe tbody tr th {\n",
       "        vertical-align: top;\n",
       "    }\n",
       "\n",
       "    .dataframe thead th {\n",
       "        text-align: right;\n",
       "    }\n",
       "</style>\n",
       "<table border=\"1\" class=\"dataframe\">\n",
       "  <thead>\n",
       "    <tr style=\"text-align: right;\">\n",
       "      <th></th>\n",
       "      <th>acronym</th>\n",
       "      <th>count</th>\n",
       "      <th>country_name</th>\n",
       "      <th>id</th>\n",
       "      <th>name</th>\n",
       "    </tr>\n",
       "  </thead>\n",
       "  <tbody>\n",
       "    <tr>\n",
       "      <th>0</th>\n",
       "      <td>NaN</td>\n",
       "      <td>31715</td>\n",
       "      <td>Germany</td>\n",
       "      <td>grid.7700.0</td>\n",
       "      <td>Heidelberg University</td>\n",
       "    </tr>\n",
       "    <tr>\n",
       "      <th>1</th>\n",
       "      <td>CERN</td>\n",
       "      <td>2578</td>\n",
       "      <td>Switzerland</td>\n",
       "      <td>grid.9132.9</td>\n",
       "      <td>European Organization for Nuclear Research</td>\n",
       "    </tr>\n",
       "    <tr>\n",
       "      <th>2</th>\n",
       "      <td>RAL</td>\n",
       "      <td>2559</td>\n",
       "      <td>United Kingdom</td>\n",
       "      <td>grid.76978.37</td>\n",
       "      <td>Rutherford Appleton Laboratory</td>\n",
       "    </tr>\n",
       "    <tr>\n",
       "      <th>3</th>\n",
       "      <td>NaN</td>\n",
       "      <td>2521</td>\n",
       "      <td>United Kingdom</td>\n",
       "      <td>grid.5379.8</td>\n",
       "      <td>University of Manchester</td>\n",
       "    </tr>\n",
       "    <tr>\n",
       "      <th>4</th>\n",
       "      <td>NaN</td>\n",
       "      <td>2476</td>\n",
       "      <td>United Kingdom</td>\n",
       "      <td>grid.6572.6</td>\n",
       "      <td>University of Birmingham</td>\n",
       "    </tr>\n",
       "    <tr>\n",
       "      <th>5</th>\n",
       "      <td>NaN</td>\n",
       "      <td>2320</td>\n",
       "      <td>United Kingdom</td>\n",
       "      <td>grid.10025.36</td>\n",
       "      <td>University of Liverpool</td>\n",
       "    </tr>\n",
       "    <tr>\n",
       "      <th>6</th>\n",
       "      <td>NaN</td>\n",
       "      <td>2282</td>\n",
       "      <td>United Kingdom</td>\n",
       "      <td>grid.4305.2</td>\n",
       "      <td>University of Edinburgh</td>\n",
       "    </tr>\n",
       "    <tr>\n",
       "      <th>7</th>\n",
       "      <td>NaN</td>\n",
       "      <td>2252</td>\n",
       "      <td>United Kingdom</td>\n",
       "      <td>grid.5335.0</td>\n",
       "      <td>University of Cambridge</td>\n",
       "    </tr>\n",
       "    <tr>\n",
       "      <th>8</th>\n",
       "      <td>LNF</td>\n",
       "      <td>2215</td>\n",
       "      <td>Italy</td>\n",
       "      <td>grid.463190.9</td>\n",
       "      <td>National Laboratory of Frascati</td>\n",
       "    </tr>\n",
       "    <tr>\n",
       "      <th>9</th>\n",
       "      <td>LAL</td>\n",
       "      <td>2202</td>\n",
       "      <td>France</td>\n",
       "      <td>grid.462450.1</td>\n",
       "      <td>Laboratoire de l'Accélérateur Linéaire</td>\n",
       "    </tr>\n",
       "    <tr>\n",
       "      <th>10</th>\n",
       "      <td>NaN</td>\n",
       "      <td>2061</td>\n",
       "      <td>Germany</td>\n",
       "      <td>grid.5675.1</td>\n",
       "      <td>TU Dortmund University</td>\n",
       "    </tr>\n",
       "    <tr>\n",
       "      <th>11</th>\n",
       "      <td>BINP</td>\n",
       "      <td>1991</td>\n",
       "      <td>Russia</td>\n",
       "      <td>grid.418495.5</td>\n",
       "      <td>Budker Institute of Nuclear Physics</td>\n",
       "    </tr>\n",
       "    <tr>\n",
       "      <th>12</th>\n",
       "      <td>NIKHEF</td>\n",
       "      <td>1989</td>\n",
       "      <td>Netherlands</td>\n",
       "      <td>grid.420012.5</td>\n",
       "      <td>National Institute for Subatomic Physics</td>\n",
       "    </tr>\n",
       "    <tr>\n",
       "      <th>13</th>\n",
       "      <td>LPNHE</td>\n",
       "      <td>1973</td>\n",
       "      <td>France</td>\n",
       "      <td>grid.463935.e</td>\n",
       "      <td>Laboratoire Physique nucléaire et Hautes Energies</td>\n",
       "    </tr>\n",
       "    <tr>\n",
       "      <th>14</th>\n",
       "      <td>NaN</td>\n",
       "      <td>1946</td>\n",
       "      <td>United States</td>\n",
       "      <td>grid.38142.3c</td>\n",
       "      <td>Harvard University</td>\n",
       "    </tr>\n",
       "    <tr>\n",
       "      <th>15</th>\n",
       "      <td>NaN</td>\n",
       "      <td>1937</td>\n",
       "      <td>United Kingdom</td>\n",
       "      <td>grid.4991.5</td>\n",
       "      <td>University of Oxford</td>\n",
       "    </tr>\n",
       "    <tr>\n",
       "      <th>16</th>\n",
       "      <td>LAPP</td>\n",
       "      <td>1906</td>\n",
       "      <td>France</td>\n",
       "      <td>grid.450330.1</td>\n",
       "      <td>Annecy-le-Vieux Particle Physics Laboratory</td>\n",
       "    </tr>\n",
       "    <tr>\n",
       "      <th>17</th>\n",
       "      <td>ITEP</td>\n",
       "      <td>1899</td>\n",
       "      <td>Russia</td>\n",
       "      <td>grid.21626.31</td>\n",
       "      <td>Institute for Theoretical and Experimental Phy...</td>\n",
       "    </tr>\n",
       "    <tr>\n",
       "      <th>18</th>\n",
       "      <td>OSU</td>\n",
       "      <td>1847</td>\n",
       "      <td>United States</td>\n",
       "      <td>grid.261331.4</td>\n",
       "      <td>The Ohio State University</td>\n",
       "    </tr>\n",
       "    <tr>\n",
       "      <th>19</th>\n",
       "      <td>UCL</td>\n",
       "      <td>1810</td>\n",
       "      <td>United Kingdom</td>\n",
       "      <td>grid.83440.3b</td>\n",
       "      <td>University College London</td>\n",
       "    </tr>\n",
       "    <tr>\n",
       "      <th>20</th>\n",
       "      <td>NaN</td>\n",
       "      <td>1787</td>\n",
       "      <td>Poland</td>\n",
       "      <td>grid.418860.3</td>\n",
       "      <td>Institute of Nuclear Physics Polish Academy of...</td>\n",
       "    </tr>\n",
       "    <tr>\n",
       "      <th>21</th>\n",
       "      <td>LMU</td>\n",
       "      <td>1771</td>\n",
       "      <td>Germany</td>\n",
       "      <td>grid.5252.0</td>\n",
       "      <td>Ludwig Maximilian University of Munich</td>\n",
       "    </tr>\n",
       "    <tr>\n",
       "      <th>22</th>\n",
       "      <td>NaN</td>\n",
       "      <td>1769</td>\n",
       "      <td>United Kingdom</td>\n",
       "      <td>grid.8756.c</td>\n",
       "      <td>University of Glasgow</td>\n",
       "    </tr>\n",
       "    <tr>\n",
       "      <th>23</th>\n",
       "      <td>NaN</td>\n",
       "      <td>1742</td>\n",
       "      <td>Canada</td>\n",
       "      <td>grid.14848.31</td>\n",
       "      <td>University of Montreal</td>\n",
       "    </tr>\n",
       "    <tr>\n",
       "      <th>24</th>\n",
       "      <td>NaN</td>\n",
       "      <td>1739</td>\n",
       "      <td>Norway</td>\n",
       "      <td>grid.7914.b</td>\n",
       "      <td>University of Bergen</td>\n",
       "    </tr>\n",
       "    <tr>\n",
       "      <th>25</th>\n",
       "      <td>NaN</td>\n",
       "      <td>1729</td>\n",
       "      <td>Germany</td>\n",
       "      <td>grid.10388.32</td>\n",
       "      <td>University of Bonn</td>\n",
       "    </tr>\n",
       "    <tr>\n",
       "      <th>26</th>\n",
       "      <td>NaN</td>\n",
       "      <td>1720</td>\n",
       "      <td>United Kingdom</td>\n",
       "      <td>grid.7445.2</td>\n",
       "      <td>Imperial College London</td>\n",
       "    </tr>\n",
       "    <tr>\n",
       "      <th>27</th>\n",
       "      <td>NaN</td>\n",
       "      <td>1701</td>\n",
       "      <td>United States</td>\n",
       "      <td>grid.47100.32</td>\n",
       "      <td>Yale University</td>\n",
       "    </tr>\n",
       "    <tr>\n",
       "      <th>28</th>\n",
       "      <td>UBC</td>\n",
       "      <td>1690</td>\n",
       "      <td>Canada</td>\n",
       "      <td>grid.17091.3e</td>\n",
       "      <td>University of British Columbia</td>\n",
       "    </tr>\n",
       "    <tr>\n",
       "      <th>29</th>\n",
       "      <td>NaN</td>\n",
       "      <td>1687</td>\n",
       "      <td>United Kingdom</td>\n",
       "      <td>grid.7372.1</td>\n",
       "      <td>University of Warwick</td>\n",
       "    </tr>\n",
       "    <tr>\n",
       "      <th>...</th>\n",
       "      <td>...</td>\n",
       "      <td>...</td>\n",
       "      <td>...</td>\n",
       "      <td>...</td>\n",
       "      <td>...</td>\n",
       "    </tr>\n",
       "    <tr>\n",
       "      <th>70</th>\n",
       "      <td>HU</td>\n",
       "      <td>1333</td>\n",
       "      <td>Germany</td>\n",
       "      <td>grid.7468.d</td>\n",
       "      <td>Humboldt University of Berlin</td>\n",
       "    </tr>\n",
       "    <tr>\n",
       "      <th>71</th>\n",
       "      <td>UFRJ</td>\n",
       "      <td>1329</td>\n",
       "      <td>Brazil</td>\n",
       "      <td>grid.8536.8</td>\n",
       "      <td>Federal University of Rio de Janeiro</td>\n",
       "    </tr>\n",
       "    <tr>\n",
       "      <th>72</th>\n",
       "      <td>NaN</td>\n",
       "      <td>1321</td>\n",
       "      <td>Italy</td>\n",
       "      <td>grid.470206.7</td>\n",
       "      <td>INFN Sezione di Milano</td>\n",
       "    </tr>\n",
       "    <tr>\n",
       "      <th>73</th>\n",
       "      <td>AGH UST</td>\n",
       "      <td>1317</td>\n",
       "      <td>Poland</td>\n",
       "      <td>grid.9922.0</td>\n",
       "      <td>AGH University of Science and Technology</td>\n",
       "    </tr>\n",
       "    <tr>\n",
       "      <th>74</th>\n",
       "      <td>UTD</td>\n",
       "      <td>1295</td>\n",
       "      <td>United States</td>\n",
       "      <td>grid.267323.1</td>\n",
       "      <td>The University of Texas at Dallas</td>\n",
       "    </tr>\n",
       "    <tr>\n",
       "      <th>75</th>\n",
       "      <td>MPP</td>\n",
       "      <td>1294</td>\n",
       "      <td>Germany</td>\n",
       "      <td>grid.435824.c</td>\n",
       "      <td>Max Planck Institute for Physics</td>\n",
       "    </tr>\n",
       "    <tr>\n",
       "      <th>76</th>\n",
       "      <td>NaN</td>\n",
       "      <td>1285</td>\n",
       "      <td>United States</td>\n",
       "      <td>grid.25879.31</td>\n",
       "      <td>University of Pennsylvania</td>\n",
       "    </tr>\n",
       "    <tr>\n",
       "      <th>77</th>\n",
       "      <td>NaN</td>\n",
       "      <td>1281</td>\n",
       "      <td>United Kingdom</td>\n",
       "      <td>grid.9835.7</td>\n",
       "      <td>Lancaster University</td>\n",
       "    </tr>\n",
       "    <tr>\n",
       "      <th>78</th>\n",
       "      <td>NaN</td>\n",
       "      <td>1280</td>\n",
       "      <td>Israel</td>\n",
       "      <td>grid.13992.30</td>\n",
       "      <td>Weizmann Institute of Science</td>\n",
       "    </tr>\n",
       "    <tr>\n",
       "      <th>79</th>\n",
       "      <td>NaN</td>\n",
       "      <td>1261</td>\n",
       "      <td>Greece</td>\n",
       "      <td>grid.5216.0</td>\n",
       "      <td>National and Kapodistrian University of Athens</td>\n",
       "    </tr>\n",
       "    <tr>\n",
       "      <th>80</th>\n",
       "      <td>NaN</td>\n",
       "      <td>1255</td>\n",
       "      <td>Canada</td>\n",
       "      <td>grid.17063.33</td>\n",
       "      <td>University of Toronto</td>\n",
       "    </tr>\n",
       "    <tr>\n",
       "      <th>81</th>\n",
       "      <td>USP</td>\n",
       "      <td>1252</td>\n",
       "      <td>Brazil</td>\n",
       "      <td>grid.11899.38</td>\n",
       "      <td>University of Sao Paulo</td>\n",
       "    </tr>\n",
       "    <tr>\n",
       "      <th>82</th>\n",
       "      <td>AANL</td>\n",
       "      <td>1252</td>\n",
       "      <td>Armenia</td>\n",
       "      <td>grid.48507.3e</td>\n",
       "      <td>Alikhanyan National Laboratory</td>\n",
       "    </tr>\n",
       "    <tr>\n",
       "      <th>83</th>\n",
       "      <td>IHEP</td>\n",
       "      <td>1250</td>\n",
       "      <td>China</td>\n",
       "      <td>grid.418741.f</td>\n",
       "      <td>Institute of High Energy Physics</td>\n",
       "    </tr>\n",
       "    <tr>\n",
       "      <th>84</th>\n",
       "      <td>NaN</td>\n",
       "      <td>1241</td>\n",
       "      <td>Italy</td>\n",
       "      <td>grid.470219.9</td>\n",
       "      <td>INFN Sezione di Roma II</td>\n",
       "    </tr>\n",
       "    <tr>\n",
       "      <th>85</th>\n",
       "      <td>UB</td>\n",
       "      <td>1236</td>\n",
       "      <td>Switzerland</td>\n",
       "      <td>grid.5734.5</td>\n",
       "      <td>University of Bern</td>\n",
       "    </tr>\n",
       "    <tr>\n",
       "      <th>86</th>\n",
       "      <td>UMCP</td>\n",
       "      <td>1226</td>\n",
       "      <td>United States</td>\n",
       "      <td>grid.164295.d</td>\n",
       "      <td>University of Maryland, College Park</td>\n",
       "    </tr>\n",
       "    <tr>\n",
       "      <th>87</th>\n",
       "      <td>NaN</td>\n",
       "      <td>1212</td>\n",
       "      <td>Czechia</td>\n",
       "      <td>grid.4491.8</td>\n",
       "      <td>Charles University</td>\n",
       "    </tr>\n",
       "    <tr>\n",
       "      <th>88</th>\n",
       "      <td>NaN</td>\n",
       "      <td>1206</td>\n",
       "      <td>United States</td>\n",
       "      <td>grid.89336.37</td>\n",
       "      <td>The University of Texas at Austin</td>\n",
       "    </tr>\n",
       "    <tr>\n",
       "      <th>89</th>\n",
       "      <td>NaN</td>\n",
       "      <td>1204</td>\n",
       "      <td>Australia</td>\n",
       "      <td>grid.1008.9</td>\n",
       "      <td>University of Melbourne</td>\n",
       "    </tr>\n",
       "    <tr>\n",
       "      <th>90</th>\n",
       "      <td>NaN</td>\n",
       "      <td>1198</td>\n",
       "      <td>Germany</td>\n",
       "      <td>grid.8379.5</td>\n",
       "      <td>University of Würzburg</td>\n",
       "    </tr>\n",
       "    <tr>\n",
       "      <th>91</th>\n",
       "      <td>IEP SAS</td>\n",
       "      <td>1194</td>\n",
       "      <td>Slovakia</td>\n",
       "      <td>grid.435184.f</td>\n",
       "      <td>Institute of Experimental Physics</td>\n",
       "    </tr>\n",
       "    <tr>\n",
       "      <th>92</th>\n",
       "      <td>FZU</td>\n",
       "      <td>1193</td>\n",
       "      <td>Czechia</td>\n",
       "      <td>grid.424881.3</td>\n",
       "      <td>Institute of Physics</td>\n",
       "    </tr>\n",
       "    <tr>\n",
       "      <th>93</th>\n",
       "      <td>NaN</td>\n",
       "      <td>1186</td>\n",
       "      <td>Austria</td>\n",
       "      <td>grid.5771.4</td>\n",
       "      <td>University of Innsbruck</td>\n",
       "    </tr>\n",
       "    <tr>\n",
       "      <th>94</th>\n",
       "      <td>NaN</td>\n",
       "      <td>1182</td>\n",
       "      <td>United Kingdom</td>\n",
       "      <td>grid.11835.3e</td>\n",
       "      <td>University of Sheffield</td>\n",
       "    </tr>\n",
       "    <tr>\n",
       "      <th>95</th>\n",
       "      <td>UW</td>\n",
       "      <td>1173</td>\n",
       "      <td>United States</td>\n",
       "      <td>grid.34477.33</td>\n",
       "      <td>University of Washington</td>\n",
       "    </tr>\n",
       "    <tr>\n",
       "      <th>96</th>\n",
       "      <td>GAU</td>\n",
       "      <td>1158</td>\n",
       "      <td>Germany</td>\n",
       "      <td>grid.7450.6</td>\n",
       "      <td>University of Göttingen</td>\n",
       "    </tr>\n",
       "    <tr>\n",
       "      <th>97</th>\n",
       "      <td>NaN</td>\n",
       "      <td>1154</td>\n",
       "      <td>Italy</td>\n",
       "      <td>grid.470190.b</td>\n",
       "      <td>INFN Sezione di Bari</td>\n",
       "    </tr>\n",
       "    <tr>\n",
       "      <th>98</th>\n",
       "      <td>UiO</td>\n",
       "      <td>1147</td>\n",
       "      <td>Norway</td>\n",
       "      <td>grid.5510.1</td>\n",
       "      <td>University of Oslo</td>\n",
       "    </tr>\n",
       "    <tr>\n",
       "      <th>99</th>\n",
       "      <td>NaN</td>\n",
       "      <td>1140</td>\n",
       "      <td>Israel</td>\n",
       "      <td>grid.6451.6</td>\n",
       "      <td>Technion – Israel Institute of Technology</td>\n",
       "    </tr>\n",
       "  </tbody>\n",
       "</table>\n",
       "<p>100 rows × 5 columns</p>\n",
       "</div>"
      ],
      "text/plain": [
       "    acronym  count    country_name             id  \\\n",
       "0       NaN  31715         Germany    grid.7700.0   \n",
       "1      CERN   2578     Switzerland    grid.9132.9   \n",
       "2       RAL   2559  United Kingdom  grid.76978.37   \n",
       "3       NaN   2521  United Kingdom    grid.5379.8   \n",
       "4       NaN   2476  United Kingdom    grid.6572.6   \n",
       "5       NaN   2320  United Kingdom  grid.10025.36   \n",
       "6       NaN   2282  United Kingdom    grid.4305.2   \n",
       "7       NaN   2252  United Kingdom    grid.5335.0   \n",
       "8       LNF   2215           Italy  grid.463190.9   \n",
       "9       LAL   2202          France  grid.462450.1   \n",
       "10      NaN   2061         Germany    grid.5675.1   \n",
       "11     BINP   1991          Russia  grid.418495.5   \n",
       "12   NIKHEF   1989     Netherlands  grid.420012.5   \n",
       "13    LPNHE   1973          France  grid.463935.e   \n",
       "14      NaN   1946   United States  grid.38142.3c   \n",
       "15      NaN   1937  United Kingdom    grid.4991.5   \n",
       "16     LAPP   1906          France  grid.450330.1   \n",
       "17     ITEP   1899          Russia  grid.21626.31   \n",
       "18      OSU   1847   United States  grid.261331.4   \n",
       "19      UCL   1810  United Kingdom  grid.83440.3b   \n",
       "20      NaN   1787          Poland  grid.418860.3   \n",
       "21      LMU   1771         Germany    grid.5252.0   \n",
       "22      NaN   1769  United Kingdom    grid.8756.c   \n",
       "23      NaN   1742          Canada  grid.14848.31   \n",
       "24      NaN   1739          Norway    grid.7914.b   \n",
       "25      NaN   1729         Germany  grid.10388.32   \n",
       "26      NaN   1720  United Kingdom    grid.7445.2   \n",
       "27      NaN   1701   United States  grid.47100.32   \n",
       "28      UBC   1690          Canada  grid.17091.3e   \n",
       "29      NaN   1687  United Kingdom    grid.7372.1   \n",
       "..      ...    ...             ...            ...   \n",
       "70       HU   1333         Germany    grid.7468.d   \n",
       "71     UFRJ   1329          Brazil    grid.8536.8   \n",
       "72      NaN   1321           Italy  grid.470206.7   \n",
       "73  AGH UST   1317          Poland    grid.9922.0   \n",
       "74      UTD   1295   United States  grid.267323.1   \n",
       "75      MPP   1294         Germany  grid.435824.c   \n",
       "76      NaN   1285   United States  grid.25879.31   \n",
       "77      NaN   1281  United Kingdom    grid.9835.7   \n",
       "78      NaN   1280          Israel  grid.13992.30   \n",
       "79      NaN   1261          Greece    grid.5216.0   \n",
       "80      NaN   1255          Canada  grid.17063.33   \n",
       "81      USP   1252          Brazil  grid.11899.38   \n",
       "82     AANL   1252         Armenia  grid.48507.3e   \n",
       "83     IHEP   1250           China  grid.418741.f   \n",
       "84      NaN   1241           Italy  grid.470219.9   \n",
       "85       UB   1236     Switzerland    grid.5734.5   \n",
       "86     UMCP   1226   United States  grid.164295.d   \n",
       "87      NaN   1212         Czechia    grid.4491.8   \n",
       "88      NaN   1206   United States  grid.89336.37   \n",
       "89      NaN   1204       Australia    grid.1008.9   \n",
       "90      NaN   1198         Germany    grid.8379.5   \n",
       "91  IEP SAS   1194        Slovakia  grid.435184.f   \n",
       "92      FZU   1193         Czechia  grid.424881.3   \n",
       "93      NaN   1186         Austria    grid.5771.4   \n",
       "94      NaN   1182  United Kingdom  grid.11835.3e   \n",
       "95       UW   1173   United States  grid.34477.33   \n",
       "96      GAU   1158         Germany    grid.7450.6   \n",
       "97      NaN   1154           Italy  grid.470190.b   \n",
       "98      UiO   1147          Norway    grid.5510.1   \n",
       "99      NaN   1140          Israel    grid.6451.6   \n",
       "\n",
       "                                                 name  \n",
       "0                               Heidelberg University  \n",
       "1          European Organization for Nuclear Research  \n",
       "2                      Rutherford Appleton Laboratory  \n",
       "3                            University of Manchester  \n",
       "4                            University of Birmingham  \n",
       "5                             University of Liverpool  \n",
       "6                             University of Edinburgh  \n",
       "7                             University of Cambridge  \n",
       "8                     National Laboratory of Frascati  \n",
       "9              Laboratoire de l'Accélérateur Linéaire  \n",
       "10                             TU Dortmund University  \n",
       "11                Budker Institute of Nuclear Physics  \n",
       "12           National Institute for Subatomic Physics  \n",
       "13  Laboratoire Physique nucléaire et Hautes Energies  \n",
       "14                                 Harvard University  \n",
       "15                               University of Oxford  \n",
       "16        Annecy-le-Vieux Particle Physics Laboratory  \n",
       "17  Institute for Theoretical and Experimental Phy...  \n",
       "18                          The Ohio State University  \n",
       "19                          University College London  \n",
       "20  Institute of Nuclear Physics Polish Academy of...  \n",
       "21             Ludwig Maximilian University of Munich  \n",
       "22                              University of Glasgow  \n",
       "23                             University of Montreal  \n",
       "24                               University of Bergen  \n",
       "25                                 University of Bonn  \n",
       "26                            Imperial College London  \n",
       "27                                    Yale University  \n",
       "28                     University of British Columbia  \n",
       "29                              University of Warwick  \n",
       "..                                                ...  \n",
       "70                      Humboldt University of Berlin  \n",
       "71               Federal University of Rio de Janeiro  \n",
       "72                             INFN Sezione di Milano  \n",
       "73           AGH University of Science and Technology  \n",
       "74                  The University of Texas at Dallas  \n",
       "75                   Max Planck Institute for Physics  \n",
       "76                         University of Pennsylvania  \n",
       "77                               Lancaster University  \n",
       "78                      Weizmann Institute of Science  \n",
       "79     National and Kapodistrian University of Athens  \n",
       "80                              University of Toronto  \n",
       "81                            University of Sao Paulo  \n",
       "82                     Alikhanyan National Laboratory  \n",
       "83                   Institute of High Energy Physics  \n",
       "84                            INFN Sezione di Roma II  \n",
       "85                                 University of Bern  \n",
       "86               University of Maryland, College Park  \n",
       "87                                 Charles University  \n",
       "88                  The University of Texas at Austin  \n",
       "89                            University of Melbourne  \n",
       "90                             University of Würzburg  \n",
       "91                  Institute of Experimental Physics  \n",
       "92                               Institute of Physics  \n",
       "93                            University of Innsbruck  \n",
       "94                            University of Sheffield  \n",
       "95                           University of Washington  \n",
       "96                            University of Göttingen  \n",
       "97                               INFN Sezione di Bari  \n",
       "98                                 University of Oslo  \n",
       "99          Technion – Israel Institute of Technology  \n",
       "\n",
       "[100 rows x 5 columns]"
      ]
     },
     "execution_count": 37,
     "metadata": {},
     "output_type": "execute_result"
    }
   ],
   "source": [
    "df = dsl_last_results.as_dataframe()\n",
    "df"
   ]
  },
  {
   "cell_type": "code",
   "execution_count": 38,
   "metadata": {},
   "outputs": [],
   "source": [
    "df = df.iloc[1:] # remove first row (= Heidelberg)"
   ]
  },
  {
   "cell_type": "code",
   "execution_count": 39,
   "metadata": {},
   "outputs": [
    {
     "data": {
      "text/plain": [
       "'org_distribution.html'"
      ]
     },
     "execution_count": 39,
     "metadata": {},
     "output_type": "execute_result"
    }
   ],
   "source": [
    "data = [go.Bar(\n",
    "            x=[x for x in df['name']],\n",
    "            y=[x for x in df['count']]\n",
    "    )]\n",
    "plot(data, filename=\"org_distribution.html\")"
   ]
  },
  {
   "cell_type": "markdown",
   "metadata": {},
   "source": [
    "### List of collaborating countries with count"
   ]
  },
  {
   "cell_type": "code",
   "execution_count": 40,
   "metadata": {},
   "outputs": [
    {
     "name": "stdout",
     "output_type": "stream",
     "text": [
      "Tot Publications:  31715\n",
      "Returned Research_org_countries: 100\n"
     ]
    },
    {
     "data": {
      "application/json": {
       "_stats": {
        "total_count": 31715
       },
       "research_org_countries": [
        {
         "count": 31715,
         "id": "DE",
         "name": "Germany"
        },
        {
         "count": 12793,
         "id": "US",
         "name": "United States"
        },
        {
         "count": 8716,
         "id": "GB",
         "name": "United Kingdom"
        },
        {
         "count": 6914,
         "id": "FR",
         "name": "France"
        },
        {
         "count": 6585,
         "id": "CH",
         "name": "Switzerland"
        },
        {
         "count": 5982,
         "id": "IT",
         "name": "Italy"
        },
        {
         "count": 5014,
         "id": "NL",
         "name": "Netherlands"
        },
        {
         "count": 4195,
         "id": "ES",
         "name": "Spain"
        },
        {
         "count": 3880,
         "id": "CN",
         "name": "China"
        },
        {
         "count": 3717,
         "id": "CA",
         "name": "Canada"
        },
        {
         "count": 3644,
         "id": "AT",
         "name": "Austria"
        },
        {
         "count": 3547,
         "id": "RU",
         "name": "Russia"
        },
        {
         "count": 3350,
         "id": "SE",
         "name": "Sweden"
        },
        {
         "count": 3037,
         "id": "JP",
         "name": "Japan"
        },
        {
         "count": 2923,
         "id": "PL",
         "name": "Poland"
        },
        {
         "count": 2741,
         "id": "AU",
         "name": "Australia"
        },
        {
         "count": 2405,
         "id": "NO",
         "name": "Norway"
        },
        {
         "count": 2337,
         "id": "DK",
         "name": "Denmark"
        },
        {
         "count": 2245,
         "id": "BR",
         "name": "Brazil"
        },
        {
         "count": 2161,
         "id": "IL",
         "name": "Israel"
        },
        {
         "count": 1896,
         "id": "CZ",
         "name": "Czechia"
        },
        {
         "count": 1892,
         "id": "GR",
         "name": "Greece"
        },
        {
         "count": 1882,
         "id": "RO",
         "name": "Romania"
        },
        {
         "count": 1650,
         "id": "BE",
         "name": "Belgium"
        },
        {
         "count": 1597,
         "id": "ZA",
         "name": "South Africa"
        },
        {
         "count": 1483,
         "id": "TR",
         "name": "Turkey"
        },
        {
         "count": 1383,
         "id": "PT",
         "name": "Portugal"
        },
        {
         "count": 1342,
         "id": "SK",
         "name": "Slovakia"
        },
        {
         "count": 1274,
         "id": "AM",
         "name": "Armenia"
        },
        {
         "count": 1268,
         "id": "HU",
         "name": "Hungary"
        },
        {
         "count": 1251,
         "id": "CL",
         "name": "Chile"
        },
        {
         "count": 1141,
         "id": "CO",
         "name": "Colombia"
        },
        {
         "count": 1120,
         "id": "TW",
         "name": "Taiwan"
        },
        {
         "count": 1119,
         "id": "FI",
         "name": "Finland"
        },
        {
         "count": 1113,
         "id": "SI",
         "name": "Slovenia"
        },
        {
         "count": 1071,
         "id": "IE",
         "name": "Ireland"
        },
        {
         "count": 1046,
         "id": "IN",
         "name": "India"
        },
        {
         "count": 1022,
         "id": "RS",
         "name": "Serbia"
        },
        {
         "count": 991,
         "id": "AR",
         "name": "Argentina"
        },
        {
         "count": 924,
         "id": "UA",
         "name": "Ukraine"
        },
        {
         "count": 870,
         "id": "AZ",
         "name": "Azerbaijan"
        },
        {
         "count": 865,
         "id": "GE",
         "name": "Georgia"
        },
        {
         "count": 857,
         "id": "BY",
         "name": "Belarus"
        },
        {
         "count": 832,
         "id": "MA",
         "name": "Morocco"
        },
        {
         "count": 755,
         "id": "KR",
         "name": "South Korea"
        },
        {
         "count": 636,
         "id": "MX",
         "name": "Mexico"
        },
        {
         "count": 520,
         "id": "HR",
         "name": "Croatia"
        },
        {
         "count": 388,
         "id": "SG",
         "name": "Singapore"
        },
        {
         "count": 330,
         "id": "NZ",
         "name": "New Zealand"
        },
        {
         "count": 323,
         "id": "PK",
         "name": "Pakistan"
        },
        {
         "count": 312,
         "id": "SA",
         "name": "Saudi Arabia"
        },
        {
         "count": 299,
         "id": "TH",
         "name": "Thailand"
        },
        {
         "count": 290,
         "id": "EG",
         "name": "Egypt"
        },
        {
         "count": 270,
         "id": "PE",
         "name": "Peru"
        },
        {
         "count": 269,
         "id": "BG",
         "name": "Bulgaria"
        },
        {
         "count": 255,
         "id": "CU",
         "name": "Cuba"
        },
        {
         "count": 237,
         "id": "MY",
         "name": "Malaysia"
        },
        {
         "count": 235,
         "id": "IR",
         "name": "Iran"
        },
        {
         "count": 230,
         "id": "VN",
         "name": "Vietnam"
        },
        {
         "count": 188,
         "id": "BF",
         "name": "Burkina Faso"
        },
        {
         "count": 146,
         "id": "EE",
         "name": "Estonia"
        },
        {
         "count": 146,
         "id": "ET",
         "name": "Ethiopia"
        },
        {
         "count": 139,
         "id": "IS",
         "name": "Iceland"
        },
        {
         "count": 129,
         "id": "LT",
         "name": "Lithuania"
        },
        {
         "count": 125,
         "id": "ID",
         "name": "Indonesia"
        },
        {
         "count": 120,
         "id": "PH",
         "name": "Philippines"
        },
        {
         "count": 112,
         "id": "LU",
         "name": "Luxembourg"
        },
        {
         "count": 99,
         "id": "QA",
         "name": "Qatar"
        },
        {
         "count": 94,
         "id": "ME",
         "name": "Montenegro"
        },
        {
         "count": 94,
         "id": "NI",
         "name": "Nicaragua"
        },
        {
         "count": 92,
         "id": "GH",
         "name": "Ghana"
        },
        {
         "count": 92,
         "id": "TZ",
         "name": "Tanzania"
        },
        {
         "count": 85,
         "id": "NA",
         "name": "Namibia"
        },
        {
         "count": 83,
         "id": "MN",
         "name": "Mongolia"
        },
        {
         "count": 82,
         "id": "KE",
         "name": "Kenya"
        },
        {
         "count": 79,
         "id": "CY",
         "name": "Cyprus"
        },
        {
         "count": 74,
         "id": "AE",
         "name": "United Arab Emirates"
        },
        {
         "count": 67,
         "id": "BD",
         "name": "Bangladesh"
        },
        {
         "count": 60,
         "id": "LV",
         "name": "Latvia"
        },
        {
         "count": 58,
         "id": "NG",
         "name": "Nigeria"
        },
        {
         "count": 58,
         "id": "PS",
         "name": "State of Palestine"
        },
        {
         "count": 53,
         "id": "LB",
         "name": "Lebanon"
        },
        {
         "count": 45,
         "id": "UY",
         "name": "Uruguay"
        },
        {
         "count": 43,
         "id": "MK",
         "name": "Macedonia"
        },
        {
         "count": 38,
         "id": "UG",
         "name": "Uganda"
        },
        {
         "count": 37,
         "id": "EC",
         "name": "Ecuador"
        },
        {
         "count": 37,
         "id": "KZ",
         "name": "Kazakhstan"
        },
        {
         "count": 37,
         "id": "MW",
         "name": "Malawi"
        },
        {
         "count": 36,
         "id": "JO",
         "name": "Jordan"
        },
        {
         "count": 34,
         "id": "DZ",
         "name": "Algeria"
        },
        {
         "count": 34,
         "id": "JM",
         "name": "Jamaica"
        },
        {
         "count": 33,
         "id": "LK",
         "name": "Sri Lanka"
        },
        {
         "count": 30,
         "id": "CR",
         "name": "Costa Rica"
        },
        {
         "count": 27,
         "id": "VE",
         "name": "Venezuela"
        },
        {
         "count": 26,
         "id": "HN",
         "name": "Honduras"
        },
        {
         "count": 26,
         "id": "ZM",
         "name": "Zambia"
        },
        {
         "count": 25,
         "id": "MT",
         "name": "Malta"
        },
        {
         "count": 23,
         "id": "CM",
         "name": "Cameroon"
        },
        {
         "count": 22,
         "id": "KW",
         "name": "Kuwait"
        },
        {
         "count": 22,
         "id": "TN",
         "name": "Tunisia"
        }
       ]
      },
      "text/plain": [
       "<dimcli.Result object #4823003992: [('research_org_countries', 100), ('_stats', 1)]>"
      ]
     },
     "execution_count": 40,
     "metadata": {
      "application/json": {
       "expanded": false,
       "root": "root"
      }
     },
     "output_type": "execute_result"
    }
   ],
   "source": [
    "%%dsl_query\n",
    "search publications where research_orgs=\"grid.7700.0\" and count(research_org_countries) > 1 return research_org_countries limit 100"
   ]
  },
  {
   "cell_type": "code",
   "execution_count": 41,
   "metadata": {},
   "outputs": [
    {
     "data": {
      "text/html": [
       "<div>\n",
       "<style scoped>\n",
       "    .dataframe tbody tr th:only-of-type {\n",
       "        vertical-align: middle;\n",
       "    }\n",
       "\n",
       "    .dataframe tbody tr th {\n",
       "        vertical-align: top;\n",
       "    }\n",
       "\n",
       "    .dataframe thead th {\n",
       "        text-align: right;\n",
       "    }\n",
       "</style>\n",
       "<table border=\"1\" class=\"dataframe\">\n",
       "  <thead>\n",
       "    <tr style=\"text-align: right;\">\n",
       "      <th></th>\n",
       "      <th>count</th>\n",
       "      <th>id</th>\n",
       "      <th>name</th>\n",
       "    </tr>\n",
       "  </thead>\n",
       "  <tbody>\n",
       "    <tr>\n",
       "      <th>0</th>\n",
       "      <td>31715</td>\n",
       "      <td>DE</td>\n",
       "      <td>Germany</td>\n",
       "    </tr>\n",
       "    <tr>\n",
       "      <th>1</th>\n",
       "      <td>12793</td>\n",
       "      <td>US</td>\n",
       "      <td>United States</td>\n",
       "    </tr>\n",
       "    <tr>\n",
       "      <th>2</th>\n",
       "      <td>8716</td>\n",
       "      <td>GB</td>\n",
       "      <td>United Kingdom</td>\n",
       "    </tr>\n",
       "    <tr>\n",
       "      <th>3</th>\n",
       "      <td>6914</td>\n",
       "      <td>FR</td>\n",
       "      <td>France</td>\n",
       "    </tr>\n",
       "    <tr>\n",
       "      <th>4</th>\n",
       "      <td>6585</td>\n",
       "      <td>CH</td>\n",
       "      <td>Switzerland</td>\n",
       "    </tr>\n",
       "    <tr>\n",
       "      <th>5</th>\n",
       "      <td>5982</td>\n",
       "      <td>IT</td>\n",
       "      <td>Italy</td>\n",
       "    </tr>\n",
       "    <tr>\n",
       "      <th>6</th>\n",
       "      <td>5014</td>\n",
       "      <td>NL</td>\n",
       "      <td>Netherlands</td>\n",
       "    </tr>\n",
       "    <tr>\n",
       "      <th>7</th>\n",
       "      <td>4195</td>\n",
       "      <td>ES</td>\n",
       "      <td>Spain</td>\n",
       "    </tr>\n",
       "    <tr>\n",
       "      <th>8</th>\n",
       "      <td>3880</td>\n",
       "      <td>CN</td>\n",
       "      <td>China</td>\n",
       "    </tr>\n",
       "    <tr>\n",
       "      <th>9</th>\n",
       "      <td>3717</td>\n",
       "      <td>CA</td>\n",
       "      <td>Canada</td>\n",
       "    </tr>\n",
       "    <tr>\n",
       "      <th>10</th>\n",
       "      <td>3644</td>\n",
       "      <td>AT</td>\n",
       "      <td>Austria</td>\n",
       "    </tr>\n",
       "    <tr>\n",
       "      <th>11</th>\n",
       "      <td>3547</td>\n",
       "      <td>RU</td>\n",
       "      <td>Russia</td>\n",
       "    </tr>\n",
       "    <tr>\n",
       "      <th>12</th>\n",
       "      <td>3350</td>\n",
       "      <td>SE</td>\n",
       "      <td>Sweden</td>\n",
       "    </tr>\n",
       "    <tr>\n",
       "      <th>13</th>\n",
       "      <td>3037</td>\n",
       "      <td>JP</td>\n",
       "      <td>Japan</td>\n",
       "    </tr>\n",
       "    <tr>\n",
       "      <th>14</th>\n",
       "      <td>2923</td>\n",
       "      <td>PL</td>\n",
       "      <td>Poland</td>\n",
       "    </tr>\n",
       "    <tr>\n",
       "      <th>15</th>\n",
       "      <td>2741</td>\n",
       "      <td>AU</td>\n",
       "      <td>Australia</td>\n",
       "    </tr>\n",
       "    <tr>\n",
       "      <th>16</th>\n",
       "      <td>2405</td>\n",
       "      <td>NO</td>\n",
       "      <td>Norway</td>\n",
       "    </tr>\n",
       "    <tr>\n",
       "      <th>17</th>\n",
       "      <td>2337</td>\n",
       "      <td>DK</td>\n",
       "      <td>Denmark</td>\n",
       "    </tr>\n",
       "    <tr>\n",
       "      <th>18</th>\n",
       "      <td>2245</td>\n",
       "      <td>BR</td>\n",
       "      <td>Brazil</td>\n",
       "    </tr>\n",
       "    <tr>\n",
       "      <th>19</th>\n",
       "      <td>2161</td>\n",
       "      <td>IL</td>\n",
       "      <td>Israel</td>\n",
       "    </tr>\n",
       "    <tr>\n",
       "      <th>20</th>\n",
       "      <td>1896</td>\n",
       "      <td>CZ</td>\n",
       "      <td>Czechia</td>\n",
       "    </tr>\n",
       "    <tr>\n",
       "      <th>21</th>\n",
       "      <td>1892</td>\n",
       "      <td>GR</td>\n",
       "      <td>Greece</td>\n",
       "    </tr>\n",
       "    <tr>\n",
       "      <th>22</th>\n",
       "      <td>1882</td>\n",
       "      <td>RO</td>\n",
       "      <td>Romania</td>\n",
       "    </tr>\n",
       "    <tr>\n",
       "      <th>23</th>\n",
       "      <td>1650</td>\n",
       "      <td>BE</td>\n",
       "      <td>Belgium</td>\n",
       "    </tr>\n",
       "    <tr>\n",
       "      <th>24</th>\n",
       "      <td>1597</td>\n",
       "      <td>ZA</td>\n",
       "      <td>South Africa</td>\n",
       "    </tr>\n",
       "    <tr>\n",
       "      <th>25</th>\n",
       "      <td>1483</td>\n",
       "      <td>TR</td>\n",
       "      <td>Turkey</td>\n",
       "    </tr>\n",
       "    <tr>\n",
       "      <th>26</th>\n",
       "      <td>1383</td>\n",
       "      <td>PT</td>\n",
       "      <td>Portugal</td>\n",
       "    </tr>\n",
       "    <tr>\n",
       "      <th>27</th>\n",
       "      <td>1342</td>\n",
       "      <td>SK</td>\n",
       "      <td>Slovakia</td>\n",
       "    </tr>\n",
       "    <tr>\n",
       "      <th>28</th>\n",
       "      <td>1274</td>\n",
       "      <td>AM</td>\n",
       "      <td>Armenia</td>\n",
       "    </tr>\n",
       "    <tr>\n",
       "      <th>29</th>\n",
       "      <td>1268</td>\n",
       "      <td>HU</td>\n",
       "      <td>Hungary</td>\n",
       "    </tr>\n",
       "    <tr>\n",
       "      <th>...</th>\n",
       "      <td>...</td>\n",
       "      <td>...</td>\n",
       "      <td>...</td>\n",
       "    </tr>\n",
       "    <tr>\n",
       "      <th>70</th>\n",
       "      <td>92</td>\n",
       "      <td>GH</td>\n",
       "      <td>Ghana</td>\n",
       "    </tr>\n",
       "    <tr>\n",
       "      <th>71</th>\n",
       "      <td>92</td>\n",
       "      <td>TZ</td>\n",
       "      <td>Tanzania</td>\n",
       "    </tr>\n",
       "    <tr>\n",
       "      <th>72</th>\n",
       "      <td>85</td>\n",
       "      <td>NA</td>\n",
       "      <td>Namibia</td>\n",
       "    </tr>\n",
       "    <tr>\n",
       "      <th>73</th>\n",
       "      <td>83</td>\n",
       "      <td>MN</td>\n",
       "      <td>Mongolia</td>\n",
       "    </tr>\n",
       "    <tr>\n",
       "      <th>74</th>\n",
       "      <td>82</td>\n",
       "      <td>KE</td>\n",
       "      <td>Kenya</td>\n",
       "    </tr>\n",
       "    <tr>\n",
       "      <th>75</th>\n",
       "      <td>79</td>\n",
       "      <td>CY</td>\n",
       "      <td>Cyprus</td>\n",
       "    </tr>\n",
       "    <tr>\n",
       "      <th>76</th>\n",
       "      <td>74</td>\n",
       "      <td>AE</td>\n",
       "      <td>United Arab Emirates</td>\n",
       "    </tr>\n",
       "    <tr>\n",
       "      <th>77</th>\n",
       "      <td>67</td>\n",
       "      <td>BD</td>\n",
       "      <td>Bangladesh</td>\n",
       "    </tr>\n",
       "    <tr>\n",
       "      <th>78</th>\n",
       "      <td>60</td>\n",
       "      <td>LV</td>\n",
       "      <td>Latvia</td>\n",
       "    </tr>\n",
       "    <tr>\n",
       "      <th>79</th>\n",
       "      <td>58</td>\n",
       "      <td>NG</td>\n",
       "      <td>Nigeria</td>\n",
       "    </tr>\n",
       "    <tr>\n",
       "      <th>80</th>\n",
       "      <td>58</td>\n",
       "      <td>PS</td>\n",
       "      <td>State of Palestine</td>\n",
       "    </tr>\n",
       "    <tr>\n",
       "      <th>81</th>\n",
       "      <td>53</td>\n",
       "      <td>LB</td>\n",
       "      <td>Lebanon</td>\n",
       "    </tr>\n",
       "    <tr>\n",
       "      <th>82</th>\n",
       "      <td>45</td>\n",
       "      <td>UY</td>\n",
       "      <td>Uruguay</td>\n",
       "    </tr>\n",
       "    <tr>\n",
       "      <th>83</th>\n",
       "      <td>43</td>\n",
       "      <td>MK</td>\n",
       "      <td>Macedonia</td>\n",
       "    </tr>\n",
       "    <tr>\n",
       "      <th>84</th>\n",
       "      <td>38</td>\n",
       "      <td>UG</td>\n",
       "      <td>Uganda</td>\n",
       "    </tr>\n",
       "    <tr>\n",
       "      <th>85</th>\n",
       "      <td>37</td>\n",
       "      <td>EC</td>\n",
       "      <td>Ecuador</td>\n",
       "    </tr>\n",
       "    <tr>\n",
       "      <th>86</th>\n",
       "      <td>37</td>\n",
       "      <td>KZ</td>\n",
       "      <td>Kazakhstan</td>\n",
       "    </tr>\n",
       "    <tr>\n",
       "      <th>87</th>\n",
       "      <td>37</td>\n",
       "      <td>MW</td>\n",
       "      <td>Malawi</td>\n",
       "    </tr>\n",
       "    <tr>\n",
       "      <th>88</th>\n",
       "      <td>36</td>\n",
       "      <td>JO</td>\n",
       "      <td>Jordan</td>\n",
       "    </tr>\n",
       "    <tr>\n",
       "      <th>89</th>\n",
       "      <td>34</td>\n",
       "      <td>DZ</td>\n",
       "      <td>Algeria</td>\n",
       "    </tr>\n",
       "    <tr>\n",
       "      <th>90</th>\n",
       "      <td>34</td>\n",
       "      <td>JM</td>\n",
       "      <td>Jamaica</td>\n",
       "    </tr>\n",
       "    <tr>\n",
       "      <th>91</th>\n",
       "      <td>33</td>\n",
       "      <td>LK</td>\n",
       "      <td>Sri Lanka</td>\n",
       "    </tr>\n",
       "    <tr>\n",
       "      <th>92</th>\n",
       "      <td>30</td>\n",
       "      <td>CR</td>\n",
       "      <td>Costa Rica</td>\n",
       "    </tr>\n",
       "    <tr>\n",
       "      <th>93</th>\n",
       "      <td>27</td>\n",
       "      <td>VE</td>\n",
       "      <td>Venezuela</td>\n",
       "    </tr>\n",
       "    <tr>\n",
       "      <th>94</th>\n",
       "      <td>26</td>\n",
       "      <td>HN</td>\n",
       "      <td>Honduras</td>\n",
       "    </tr>\n",
       "    <tr>\n",
       "      <th>95</th>\n",
       "      <td>26</td>\n",
       "      <td>ZM</td>\n",
       "      <td>Zambia</td>\n",
       "    </tr>\n",
       "    <tr>\n",
       "      <th>96</th>\n",
       "      <td>25</td>\n",
       "      <td>MT</td>\n",
       "      <td>Malta</td>\n",
       "    </tr>\n",
       "    <tr>\n",
       "      <th>97</th>\n",
       "      <td>23</td>\n",
       "      <td>CM</td>\n",
       "      <td>Cameroon</td>\n",
       "    </tr>\n",
       "    <tr>\n",
       "      <th>98</th>\n",
       "      <td>22</td>\n",
       "      <td>KW</td>\n",
       "      <td>Kuwait</td>\n",
       "    </tr>\n",
       "    <tr>\n",
       "      <th>99</th>\n",
       "      <td>22</td>\n",
       "      <td>TN</td>\n",
       "      <td>Tunisia</td>\n",
       "    </tr>\n",
       "  </tbody>\n",
       "</table>\n",
       "<p>100 rows × 3 columns</p>\n",
       "</div>"
      ],
      "text/plain": [
       "    count  id                  name\n",
       "0   31715  DE               Germany\n",
       "1   12793  US         United States\n",
       "2    8716  GB        United Kingdom\n",
       "3    6914  FR                France\n",
       "4    6585  CH           Switzerland\n",
       "5    5982  IT                 Italy\n",
       "6    5014  NL           Netherlands\n",
       "7    4195  ES                 Spain\n",
       "8    3880  CN                 China\n",
       "9    3717  CA                Canada\n",
       "10   3644  AT               Austria\n",
       "11   3547  RU                Russia\n",
       "12   3350  SE                Sweden\n",
       "13   3037  JP                 Japan\n",
       "14   2923  PL                Poland\n",
       "15   2741  AU             Australia\n",
       "16   2405  NO                Norway\n",
       "17   2337  DK               Denmark\n",
       "18   2245  BR                Brazil\n",
       "19   2161  IL                Israel\n",
       "20   1896  CZ               Czechia\n",
       "21   1892  GR                Greece\n",
       "22   1882  RO               Romania\n",
       "23   1650  BE               Belgium\n",
       "24   1597  ZA          South Africa\n",
       "25   1483  TR                Turkey\n",
       "26   1383  PT              Portugal\n",
       "27   1342  SK              Slovakia\n",
       "28   1274  AM               Armenia\n",
       "29   1268  HU               Hungary\n",
       "..    ...  ..                   ...\n",
       "70     92  GH                 Ghana\n",
       "71     92  TZ              Tanzania\n",
       "72     85  NA               Namibia\n",
       "73     83  MN              Mongolia\n",
       "74     82  KE                 Kenya\n",
       "75     79  CY                Cyprus\n",
       "76     74  AE  United Arab Emirates\n",
       "77     67  BD            Bangladesh\n",
       "78     60  LV                Latvia\n",
       "79     58  NG               Nigeria\n",
       "80     58  PS    State of Palestine\n",
       "81     53  LB               Lebanon\n",
       "82     45  UY               Uruguay\n",
       "83     43  MK             Macedonia\n",
       "84     38  UG                Uganda\n",
       "85     37  EC               Ecuador\n",
       "86     37  KZ            Kazakhstan\n",
       "87     37  MW                Malawi\n",
       "88     36  JO                Jordan\n",
       "89     34  DZ               Algeria\n",
       "90     34  JM               Jamaica\n",
       "91     33  LK             Sri Lanka\n",
       "92     30  CR            Costa Rica\n",
       "93     27  VE             Venezuela\n",
       "94     26  HN              Honduras\n",
       "95     26  ZM                Zambia\n",
       "96     25  MT                 Malta\n",
       "97     23  CM              Cameroon\n",
       "98     22  KW                Kuwait\n",
       "99     22  TN               Tunisia\n",
       "\n",
       "[100 rows x 3 columns]"
      ]
     },
     "execution_count": 41,
     "metadata": {},
     "output_type": "execute_result"
    }
   ],
   "source": [
    "df = dsl_last_results.as_dataframe()\n",
    "df"
   ]
  },
  {
   "cell_type": "code",
   "execution_count": 43,
   "metadata": {},
   "outputs": [],
   "source": [
    "df = df.iloc[1:] # remove first row (= Germany)"
   ]
  },
  {
   "cell_type": "code",
   "execution_count": 45,
   "metadata": {},
   "outputs": [
    {
     "data": {
      "text/plain": [
       "'country_distribution.html'"
      ]
     },
     "execution_count": 45,
     "metadata": {},
     "output_type": "execute_result"
    }
   ],
   "source": [
    "data = [go.Bar(\n",
    "            x=[x for x in df['name']],\n",
    "            y=[x for x in df['count']]\n",
    "    )]\n",
    "plot(data, filename=\"country_distribution.html\")"
   ]
  },
  {
   "cell_type": "markdown",
   "metadata": {},
   "source": [
    "### Distribution over FOR codes"
   ]
  },
  {
   "cell_type": "code",
   "execution_count": 46,
   "metadata": {},
   "outputs": [
    {
     "name": "stdout",
     "output_type": "stream",
     "text": [
      "Tot Publications:  31715\n",
      "Returned For: 50\n"
     ]
    },
    {
     "data": {
      "application/json": {
       "FOR": [
        {
         "count": 3100,
         "id": "3053",
         "name": "1103 Clinical Sciences"
        },
        {
         "count": 3029,
         "id": "2581",
         "name": "0601 Biochemistry and Cell Biology"
        },
        {
         "count": 2075,
         "id": "2421",
         "name": "0299 Other Physical Sciences"
        },
        {
         "count": 2037,
         "id": "3177",
         "name": "1117 Public Health and Health Services"
        },
        {
         "count": 1980,
         "id": "2389",
         "name": "0202 Atomic, Molecular, Nuclear, Particle and Plasma Physics"
        },
        {
         "count": 1790,
         "id": "2620",
         "name": "0604 Genetics"
        },
        {
         "count": 1684,
         "id": "3120",
         "name": "1109 Neurosciences"
        },
        {
         "count": 1512,
         "id": "3142",
         "name": "1112 Oncology and Carcinogenesis"
        },
        {
         "count": 1150,
         "id": "2471",
         "name": "0306 Physical Chemistry (incl. Structural)"
        },
        {
         "count": 1115,
         "id": "3048",
         "name": "1102 Cardiorespiratory Medicine and Haematology"
        },
        {
         "count": 1051,
         "id": "2377",
         "name": "0201 Astronomical and Space Sciences"
        },
        {
         "count": 796,
         "id": "3468",
         "name": "1701 Psychology"
        },
        {
         "count": 775,
         "id": "2746",
         "name": "0801 Artificial Intelligence and Image Processing"
        },
        {
         "count": 659,
         "id": "3103",
         "name": "1107 Immunology"
        },
        {
         "count": 628,
         "id": "2358",
         "name": "0104 Statistics"
        },
        {
         "count": 573,
         "id": "2509",
         "name": "0403 Geology"
        },
        {
         "count": 528,
         "id": "3114",
         "name": "1108 Medical Microbiology"
        },
        {
         "count": 452,
         "id": "2330",
         "name": "0101 Pure Mathematics"
        },
        {
         "count": 398,
         "id": "3153",
         "name": "1113 Ophthalmology and Optometry"
        },
        {
         "count": 338,
         "id": "2921",
         "name": "0912 Materials Engineering"
        },
        {
         "count": 300,
         "id": "2953",
         "name": "0915 Interdisciplinary Engineering"
        },
        {
         "count": 289,
         "id": "3292",
         "name": "1402 Applied Economics"
        },
        {
         "count": 253,
         "id": "2539",
         "name": "0406 Physical Geography and Environmental Geoscience"
        },
        {
         "count": 232,
         "id": "2790",
         "name": "0806 Information Systems"
        },
        {
         "count": 227,
         "id": "2438",
         "name": "0302 Inorganic Chemistry"
        },
        {
         "count": 224,
         "id": "2648",
         "name": "0607 Plant Biology"
        },
        {
         "count": 204,
         "id": "2503",
         "name": "0402 Geochemistry"
        },
        {
         "count": 188,
         "id": "3158",
         "name": "1114 Paediatrics and Reproductive Medicine"
        },
        {
         "count": 180,
         "id": "2486",
         "name": "0399 Other Chemical Sciences"
        },
        {
         "count": 169,
         "id": "2344",
         "name": "0102 Applied Mathematics"
        },
        {
         "count": 157,
         "id": "3164",
         "name": "1115 Pharmacology and Pharmaceutical Sciences"
        },
        {
         "count": 154,
         "id": "2480",
         "name": "0307 Theoretical and Computational Chemistry"
        },
        {
         "count": 142,
         "id": "2597",
         "name": "0602 Ecology"
        },
        {
         "count": 132,
         "id": "2447",
         "name": "0303 Macromolecular and Materials Chemistry"
        },
        {
         "count": 126,
         "id": "2464",
         "name": "0305 Organic Chemistry"
        },
        {
         "count": 124,
         "id": "2415",
         "name": "0206 Quantum Physics"
        },
        {
         "count": 124,
         "id": "2837",
         "name": "0903 Biomedical Engineering"
        },
        {
         "count": 123,
         "id": "2878",
         "name": "0907 Environmental Engineering"
        },
        {
         "count": 123,
         "id": "3172",
         "name": "1116 Medical Physiology"
        },
        {
         "count": 119,
         "id": "2428",
         "name": "0301 Analytical Chemistry"
        },
        {
         "count": 118,
         "id": "2558",
         "name": "0502 Environmental Science and Management"
        },
        {
         "count": 110,
         "id": "2353",
         "name": "0103 Numerical and Computational Mathematics"
        },
        {
         "count": 105,
         "id": "2534",
         "name": "0405 Oceanography"
        },
        {
         "count": 100,
         "id": "2867",
         "name": "0906 Electrical and Electronic Engineering"
        },
        {
         "count": 94,
         "id": "2409",
         "name": "0205 Optical Physics"
        },
        {
         "count": 88,
         "id": "3432",
         "name": "1606 Political Science"
        },
        {
         "count": 81,
         "id": "2891",
         "name": "0909 Geomatic Engineering"
        },
        {
         "count": 80,
         "id": "3675",
         "name": "2103 Historical Studies"
        },
        {
         "count": 78,
         "id": "2766",
         "name": "0803 Computer Software"
        },
        {
         "count": 65,
         "id": "2634",
         "name": "0605 Microbiology"
        }
       ],
       "_stats": {
        "total_count": 31715
       }
      },
      "text/plain": [
       "<dimcli.Result object #4815462976: [('FOR', 50), ('_stats', 1)]>"
      ]
     },
     "execution_count": 46,
     "metadata": {
      "application/json": {
       "expanded": false,
       "root": "root"
      }
     },
     "output_type": "execute_result"
    }
   ],
   "source": [
    "%%dsl_query\n",
    "search publications where research_orgs=\"grid.7700.0\" and count(research_org_countries) > 1 return FOR limit 50"
   ]
  },
  {
   "cell_type": "code",
   "execution_count": 47,
   "metadata": {},
   "outputs": [
    {
     "data": {
      "text/html": [
       "<div>\n",
       "<style scoped>\n",
       "    .dataframe tbody tr th:only-of-type {\n",
       "        vertical-align: middle;\n",
       "    }\n",
       "\n",
       "    .dataframe tbody tr th {\n",
       "        vertical-align: top;\n",
       "    }\n",
       "\n",
       "    .dataframe thead th {\n",
       "        text-align: right;\n",
       "    }\n",
       "</style>\n",
       "<table border=\"1\" class=\"dataframe\">\n",
       "  <thead>\n",
       "    <tr style=\"text-align: right;\">\n",
       "      <th></th>\n",
       "      <th>count</th>\n",
       "      <th>id</th>\n",
       "      <th>name</th>\n",
       "    </tr>\n",
       "  </thead>\n",
       "  <tbody>\n",
       "    <tr>\n",
       "      <th>0</th>\n",
       "      <td>3100</td>\n",
       "      <td>3053</td>\n",
       "      <td>1103 Clinical Sciences</td>\n",
       "    </tr>\n",
       "    <tr>\n",
       "      <th>1</th>\n",
       "      <td>3029</td>\n",
       "      <td>2581</td>\n",
       "      <td>0601 Biochemistry and Cell Biology</td>\n",
       "    </tr>\n",
       "    <tr>\n",
       "      <th>2</th>\n",
       "      <td>2075</td>\n",
       "      <td>2421</td>\n",
       "      <td>0299 Other Physical Sciences</td>\n",
       "    </tr>\n",
       "    <tr>\n",
       "      <th>3</th>\n",
       "      <td>2037</td>\n",
       "      <td>3177</td>\n",
       "      <td>1117 Public Health and Health Services</td>\n",
       "    </tr>\n",
       "    <tr>\n",
       "      <th>4</th>\n",
       "      <td>1980</td>\n",
       "      <td>2389</td>\n",
       "      <td>0202 Atomic, Molecular, Nuclear, Particle and ...</td>\n",
       "    </tr>\n",
       "    <tr>\n",
       "      <th>5</th>\n",
       "      <td>1790</td>\n",
       "      <td>2620</td>\n",
       "      <td>0604 Genetics</td>\n",
       "    </tr>\n",
       "    <tr>\n",
       "      <th>6</th>\n",
       "      <td>1684</td>\n",
       "      <td>3120</td>\n",
       "      <td>1109 Neurosciences</td>\n",
       "    </tr>\n",
       "    <tr>\n",
       "      <th>7</th>\n",
       "      <td>1512</td>\n",
       "      <td>3142</td>\n",
       "      <td>1112 Oncology and Carcinogenesis</td>\n",
       "    </tr>\n",
       "    <tr>\n",
       "      <th>8</th>\n",
       "      <td>1150</td>\n",
       "      <td>2471</td>\n",
       "      <td>0306 Physical Chemistry (incl. Structural)</td>\n",
       "    </tr>\n",
       "    <tr>\n",
       "      <th>9</th>\n",
       "      <td>1115</td>\n",
       "      <td>3048</td>\n",
       "      <td>1102 Cardiorespiratory Medicine and Haematology</td>\n",
       "    </tr>\n",
       "    <tr>\n",
       "      <th>10</th>\n",
       "      <td>1051</td>\n",
       "      <td>2377</td>\n",
       "      <td>0201 Astronomical and Space Sciences</td>\n",
       "    </tr>\n",
       "    <tr>\n",
       "      <th>11</th>\n",
       "      <td>796</td>\n",
       "      <td>3468</td>\n",
       "      <td>1701 Psychology</td>\n",
       "    </tr>\n",
       "    <tr>\n",
       "      <th>12</th>\n",
       "      <td>775</td>\n",
       "      <td>2746</td>\n",
       "      <td>0801 Artificial Intelligence and Image Processing</td>\n",
       "    </tr>\n",
       "    <tr>\n",
       "      <th>13</th>\n",
       "      <td>659</td>\n",
       "      <td>3103</td>\n",
       "      <td>1107 Immunology</td>\n",
       "    </tr>\n",
       "    <tr>\n",
       "      <th>14</th>\n",
       "      <td>628</td>\n",
       "      <td>2358</td>\n",
       "      <td>0104 Statistics</td>\n",
       "    </tr>\n",
       "    <tr>\n",
       "      <th>15</th>\n",
       "      <td>573</td>\n",
       "      <td>2509</td>\n",
       "      <td>0403 Geology</td>\n",
       "    </tr>\n",
       "    <tr>\n",
       "      <th>16</th>\n",
       "      <td>528</td>\n",
       "      <td>3114</td>\n",
       "      <td>1108 Medical Microbiology</td>\n",
       "    </tr>\n",
       "    <tr>\n",
       "      <th>17</th>\n",
       "      <td>452</td>\n",
       "      <td>2330</td>\n",
       "      <td>0101 Pure Mathematics</td>\n",
       "    </tr>\n",
       "    <tr>\n",
       "      <th>18</th>\n",
       "      <td>398</td>\n",
       "      <td>3153</td>\n",
       "      <td>1113 Ophthalmology and Optometry</td>\n",
       "    </tr>\n",
       "    <tr>\n",
       "      <th>19</th>\n",
       "      <td>338</td>\n",
       "      <td>2921</td>\n",
       "      <td>0912 Materials Engineering</td>\n",
       "    </tr>\n",
       "    <tr>\n",
       "      <th>20</th>\n",
       "      <td>300</td>\n",
       "      <td>2953</td>\n",
       "      <td>0915 Interdisciplinary Engineering</td>\n",
       "    </tr>\n",
       "    <tr>\n",
       "      <th>21</th>\n",
       "      <td>289</td>\n",
       "      <td>3292</td>\n",
       "      <td>1402 Applied Economics</td>\n",
       "    </tr>\n",
       "    <tr>\n",
       "      <th>22</th>\n",
       "      <td>253</td>\n",
       "      <td>2539</td>\n",
       "      <td>0406 Physical Geography and Environmental Geos...</td>\n",
       "    </tr>\n",
       "    <tr>\n",
       "      <th>23</th>\n",
       "      <td>232</td>\n",
       "      <td>2790</td>\n",
       "      <td>0806 Information Systems</td>\n",
       "    </tr>\n",
       "    <tr>\n",
       "      <th>24</th>\n",
       "      <td>227</td>\n",
       "      <td>2438</td>\n",
       "      <td>0302 Inorganic Chemistry</td>\n",
       "    </tr>\n",
       "    <tr>\n",
       "      <th>25</th>\n",
       "      <td>224</td>\n",
       "      <td>2648</td>\n",
       "      <td>0607 Plant Biology</td>\n",
       "    </tr>\n",
       "    <tr>\n",
       "      <th>26</th>\n",
       "      <td>204</td>\n",
       "      <td>2503</td>\n",
       "      <td>0402 Geochemistry</td>\n",
       "    </tr>\n",
       "    <tr>\n",
       "      <th>27</th>\n",
       "      <td>188</td>\n",
       "      <td>3158</td>\n",
       "      <td>1114 Paediatrics and Reproductive Medicine</td>\n",
       "    </tr>\n",
       "    <tr>\n",
       "      <th>28</th>\n",
       "      <td>180</td>\n",
       "      <td>2486</td>\n",
       "      <td>0399 Other Chemical Sciences</td>\n",
       "    </tr>\n",
       "    <tr>\n",
       "      <th>29</th>\n",
       "      <td>169</td>\n",
       "      <td>2344</td>\n",
       "      <td>0102 Applied Mathematics</td>\n",
       "    </tr>\n",
       "    <tr>\n",
       "      <th>30</th>\n",
       "      <td>157</td>\n",
       "      <td>3164</td>\n",
       "      <td>1115 Pharmacology and Pharmaceutical Sciences</td>\n",
       "    </tr>\n",
       "    <tr>\n",
       "      <th>31</th>\n",
       "      <td>154</td>\n",
       "      <td>2480</td>\n",
       "      <td>0307 Theoretical and Computational Chemistry</td>\n",
       "    </tr>\n",
       "    <tr>\n",
       "      <th>32</th>\n",
       "      <td>142</td>\n",
       "      <td>2597</td>\n",
       "      <td>0602 Ecology</td>\n",
       "    </tr>\n",
       "    <tr>\n",
       "      <th>33</th>\n",
       "      <td>132</td>\n",
       "      <td>2447</td>\n",
       "      <td>0303 Macromolecular and Materials Chemistry</td>\n",
       "    </tr>\n",
       "    <tr>\n",
       "      <th>34</th>\n",
       "      <td>126</td>\n",
       "      <td>2464</td>\n",
       "      <td>0305 Organic Chemistry</td>\n",
       "    </tr>\n",
       "    <tr>\n",
       "      <th>35</th>\n",
       "      <td>124</td>\n",
       "      <td>2415</td>\n",
       "      <td>0206 Quantum Physics</td>\n",
       "    </tr>\n",
       "    <tr>\n",
       "      <th>36</th>\n",
       "      <td>124</td>\n",
       "      <td>2837</td>\n",
       "      <td>0903 Biomedical Engineering</td>\n",
       "    </tr>\n",
       "    <tr>\n",
       "      <th>37</th>\n",
       "      <td>123</td>\n",
       "      <td>2878</td>\n",
       "      <td>0907 Environmental Engineering</td>\n",
       "    </tr>\n",
       "    <tr>\n",
       "      <th>38</th>\n",
       "      <td>123</td>\n",
       "      <td>3172</td>\n",
       "      <td>1116 Medical Physiology</td>\n",
       "    </tr>\n",
       "    <tr>\n",
       "      <th>39</th>\n",
       "      <td>119</td>\n",
       "      <td>2428</td>\n",
       "      <td>0301 Analytical Chemistry</td>\n",
       "    </tr>\n",
       "    <tr>\n",
       "      <th>40</th>\n",
       "      <td>118</td>\n",
       "      <td>2558</td>\n",
       "      <td>0502 Environmental Science and Management</td>\n",
       "    </tr>\n",
       "    <tr>\n",
       "      <th>41</th>\n",
       "      <td>110</td>\n",
       "      <td>2353</td>\n",
       "      <td>0103 Numerical and Computational Mathematics</td>\n",
       "    </tr>\n",
       "    <tr>\n",
       "      <th>42</th>\n",
       "      <td>105</td>\n",
       "      <td>2534</td>\n",
       "      <td>0405 Oceanography</td>\n",
       "    </tr>\n",
       "    <tr>\n",
       "      <th>43</th>\n",
       "      <td>100</td>\n",
       "      <td>2867</td>\n",
       "      <td>0906 Electrical and Electronic Engineering</td>\n",
       "    </tr>\n",
       "    <tr>\n",
       "      <th>44</th>\n",
       "      <td>94</td>\n",
       "      <td>2409</td>\n",
       "      <td>0205 Optical Physics</td>\n",
       "    </tr>\n",
       "    <tr>\n",
       "      <th>45</th>\n",
       "      <td>88</td>\n",
       "      <td>3432</td>\n",
       "      <td>1606 Political Science</td>\n",
       "    </tr>\n",
       "    <tr>\n",
       "      <th>46</th>\n",
       "      <td>81</td>\n",
       "      <td>2891</td>\n",
       "      <td>0909 Geomatic Engineering</td>\n",
       "    </tr>\n",
       "    <tr>\n",
       "      <th>47</th>\n",
       "      <td>80</td>\n",
       "      <td>3675</td>\n",
       "      <td>2103 Historical Studies</td>\n",
       "    </tr>\n",
       "    <tr>\n",
       "      <th>48</th>\n",
       "      <td>78</td>\n",
       "      <td>2766</td>\n",
       "      <td>0803 Computer Software</td>\n",
       "    </tr>\n",
       "    <tr>\n",
       "      <th>49</th>\n",
       "      <td>65</td>\n",
       "      <td>2634</td>\n",
       "      <td>0605 Microbiology</td>\n",
       "    </tr>\n",
       "  </tbody>\n",
       "</table>\n",
       "</div>"
      ],
      "text/plain": [
       "    count    id                                               name\n",
       "0    3100  3053                             1103 Clinical Sciences\n",
       "1    3029  2581                 0601 Biochemistry and Cell Biology\n",
       "2    2075  2421                       0299 Other Physical Sciences\n",
       "3    2037  3177             1117 Public Health and Health Services\n",
       "4    1980  2389  0202 Atomic, Molecular, Nuclear, Particle and ...\n",
       "5    1790  2620                                      0604 Genetics\n",
       "6    1684  3120                                 1109 Neurosciences\n",
       "7    1512  3142                   1112 Oncology and Carcinogenesis\n",
       "8    1150  2471         0306 Physical Chemistry (incl. Structural)\n",
       "9    1115  3048    1102 Cardiorespiratory Medicine and Haematology\n",
       "10   1051  2377               0201 Astronomical and Space Sciences\n",
       "11    796  3468                                    1701 Psychology\n",
       "12    775  2746  0801 Artificial Intelligence and Image Processing\n",
       "13    659  3103                                    1107 Immunology\n",
       "14    628  2358                                    0104 Statistics\n",
       "15    573  2509                                       0403 Geology\n",
       "16    528  3114                          1108 Medical Microbiology\n",
       "17    452  2330                              0101 Pure Mathematics\n",
       "18    398  3153                   1113 Ophthalmology and Optometry\n",
       "19    338  2921                         0912 Materials Engineering\n",
       "20    300  2953                 0915 Interdisciplinary Engineering\n",
       "21    289  3292                             1402 Applied Economics\n",
       "22    253  2539  0406 Physical Geography and Environmental Geos...\n",
       "23    232  2790                           0806 Information Systems\n",
       "24    227  2438                           0302 Inorganic Chemistry\n",
       "25    224  2648                                 0607 Plant Biology\n",
       "26    204  2503                                  0402 Geochemistry\n",
       "27    188  3158         1114 Paediatrics and Reproductive Medicine\n",
       "28    180  2486                       0399 Other Chemical Sciences\n",
       "29    169  2344                           0102 Applied Mathematics\n",
       "30    157  3164      1115 Pharmacology and Pharmaceutical Sciences\n",
       "31    154  2480       0307 Theoretical and Computational Chemistry\n",
       "32    142  2597                                       0602 Ecology\n",
       "33    132  2447        0303 Macromolecular and Materials Chemistry\n",
       "34    126  2464                             0305 Organic Chemistry\n",
       "35    124  2415                               0206 Quantum Physics\n",
       "36    124  2837                        0903 Biomedical Engineering\n",
       "37    123  2878                     0907 Environmental Engineering\n",
       "38    123  3172                            1116 Medical Physiology\n",
       "39    119  2428                          0301 Analytical Chemistry\n",
       "40    118  2558          0502 Environmental Science and Management\n",
       "41    110  2353       0103 Numerical and Computational Mathematics\n",
       "42    105  2534                                  0405 Oceanography\n",
       "43    100  2867         0906 Electrical and Electronic Engineering\n",
       "44     94  2409                               0205 Optical Physics\n",
       "45     88  3432                             1606 Political Science\n",
       "46     81  2891                          0909 Geomatic Engineering\n",
       "47     80  3675                            2103 Historical Studies\n",
       "48     78  2766                             0803 Computer Software\n",
       "49     65  2634                                  0605 Microbiology"
      ]
     },
     "execution_count": 47,
     "metadata": {},
     "output_type": "execute_result"
    }
   ],
   "source": [
    "df = dsl_last_results.as_dataframe()\n",
    "df"
   ]
  },
  {
   "cell_type": "code",
   "execution_count": 48,
   "metadata": {},
   "outputs": [
    {
     "data": {
      "text/plain": [
       "'for_distribution.html'"
      ]
     },
     "execution_count": 48,
     "metadata": {},
     "output_type": "execute_result"
    }
   ],
   "source": [
    "data = [go.Pie(\n",
    "            labels=[x for x in df['name']],\n",
    "            values=[x for x in df['count']]\n",
    "    )]\n",
    "plot(data, filename=\"for_distribution.html\")"
   ]
  }
 ],
 "metadata": {
  "kernelspec": {
   "display_name": "Python 3",
   "language": "python",
   "name": "python3"
  },
  "language_info": {
   "codemirror_mode": {
    "name": "ipython",
    "version": 3
   },
   "file_extension": ".py",
   "mimetype": "text/x-python",
   "name": "python",
   "nbconvert_exporter": "python",
   "pygments_lexer": "ipython3",
   "version": "3.7.3"
  }
 },
 "nbformat": 4,
 "nbformat_minor": 2
}
