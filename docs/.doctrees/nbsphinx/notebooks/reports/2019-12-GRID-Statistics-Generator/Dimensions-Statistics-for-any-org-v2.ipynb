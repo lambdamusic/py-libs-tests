{
 "cells": [
  {
   "cell_type": "markdown",
   "metadata": {
    "Collapsed": "false",
    "colab_type": "text",
    "id": "xjqXbj55dkH0"
   },
   "source": [
    "# Dimensions Statistics Report, for one or more Organizations\n",
    "\n",
    "This notebook allows to produce up-to-date statistics on the number of documents associated to one of more GRID organizations. These numbers can be used to then generate visual summaries like the following:"
   ]
  },
  {
   "cell_type": "code",
   "execution_count": 1,
   "metadata": {
    "colab": {
     "base_uri": "https://localhost:8080/",
     "height": 301
    },
    "colab_type": "code",
    "executionInfo": {
     "elapsed": 1083,
     "status": "ok",
     "timestamp": 1576691376606,
     "user": {
      "displayName": "Michele Pasin",
      "photoUrl": "https://lh3.googleusercontent.com/a-/AAuE7mBu8LVjIGgontF2Wax51BoL5KFx8esezX3bUmaa0g=s64",
      "userId": "10309320684375994511"
     },
     "user_tz": 0
    },
    "id": "RthnvlgabJy5",
    "outputId": "14a7a8f3-6487-4994-fa55-cfd3f7469af9"
   },
   "outputs": [
    {
     "data": {
      "text/html": [
       "<img src=\"http://api-sample-data.dimensions.ai/stats-notebook/chart-example-1.jpg\" width=\"800\"/>"
      ],
      "text/plain": [
       "<IPython.core.display.Image object>"
      ]
     },
     "execution_count": 1,
     "metadata": {
      "tags": []
     },
     "output_type": "execute_result"
    }
   ],
   "source": [
    "from IPython.display import Image\n",
    "Image(url= \"http://api-sample-data.dimensions.ai/stats-notebook/chart-example-1.jpg\", width=800)"
   ]
  },
  {
   "cell_type": "code",
   "execution_count": 2,
   "metadata": {
    "colab": {
     "base_uri": "https://localhost:8080/",
     "height": 470
    },
    "colab_type": "code",
    "executionInfo": {
     "elapsed": 1424,
     "status": "ok",
     "timestamp": 1576691376963,
     "user": {
      "displayName": "Michele Pasin",
      "photoUrl": "https://lh3.googleusercontent.com/a-/AAuE7mBu8LVjIGgontF2Wax51BoL5KFx8esezX3bUmaa0g=s64",
      "userId": "10309320684375994511"
     },
     "user_tz": 0
    },
    "id": "_4oKiYqbb0g-",
    "outputId": "ba0f7b52-0085-4cea-f5b9-b2722df6bc7e"
   },
   "outputs": [
    {
     "data": {
      "text/html": [
       "<img src=\"http://api-sample-data.dimensions.ai/stats-notebook/chart-example-2.jpg\" width=\"500\"/>"
      ],
      "text/plain": [
       "<IPython.core.display.Image object>"
      ]
     },
     "execution_count": 2,
     "metadata": {
      "tags": []
     },
     "output_type": "execute_result"
    }
   ],
   "source": [
    "from IPython.display import Image\n",
    "Image(url= \"http://api-sample-data.dimensions.ai/stats-notebook/chart-example-2.jpg\", width=500)"
   ]
  },
  {
   "cell_type": "markdown",
   "metadata": {
    "colab_type": "text",
    "id": "nqHEbQcDbIlt"
   },
   "source": [
    "## Statistics Description\n",
    "\n",
    "The statistics are divided into two groups and two corresponding CSV files:\n",
    "\n",
    "**1) Number of Documents Overview** - saved to `overview_objects.csv`\n",
    "\n",
    "- Publications number from the GRID IDs.\n",
    "  - Query template: `search publications where research_orgs = []..`\n",
    "- Grant number and funding given to the GRID IDs (funding aggregated in US dollars).\n",
    "  - Query template: `search grants where research_orgs = []..`\n",
    "- Patents with GRID IDs as assignees. \n",
    "  - Query template: `search patents where assignees = []..`\n",
    "- Clinical Trials with associated GRID IDs.\n",
    "  - Query template: `search clinical_trials where organizations = []..`\n",
    "- Policy papers published by GRID IDs (**NOTE** policy papers will always need to adjusted manually since it is tricky)\n",
    "  - Query template: `search policy_documents where publisher_org = []..`\n",
    "\n",
    "\n",
    "**2) Incoming Links Overview (= publication citations)** - saved to `overview_links.csv`\n",
    "\n",
    "- Publication count citing the GRID ID publications. \n",
    "  - Query template: `search publications where research_orgs=[] return year aggregate citations_total` (then the yearly citations are summed up).\n",
    "- Clinical trials referencing the publications of the GRID ID.\n",
    "  - Query template: `search clinical_trials where publication_ids = [..]`\n",
    "- Grants linked to publications of GRID ID.\n",
    "  - Query template: `search grants where resulting_publications_ids ..`\n",
    "- Patents referencing the GRID ID publications. \n",
    "  - Query template: `search patents where publication_ids in`\n",
    "- Policy documents referencing the GRID ID publications.\n",
    "  - Query template: `search policy_document where publication_ids in`\n",
    "\n",
    "\n",
    "**NOTE** \n",
    "\n",
    "If the starting GRID IDs generate a dataset of more than 50k publications, only the __most recent 50k publications__  will be extracted. \n",
    "\n",
    "This means that in such cases the group 2 statistics should then be read as the *number of patents citing the most recent 50k publications* etc...\n"
   ]
  },
  {
   "cell_type": "markdown",
   "metadata": {
    "Collapsed": "false",
    "colab_type": "text",
    "id": "JmIHSwq46aK0"
   },
   "source": [
    "## 1. Install Libraries and Log into Dimensions API\n"
   ]
  },
  {
   "cell_type": "code",
   "execution_count": 4,
   "metadata": {
    "Collapsed": "false",
    "cellView": "both",
    "colab": {
     "base_uri": "https://localhost:8080/",
     "height": 102
    },
    "colab_type": "code",
    "executionInfo": {
     "elapsed": 5902,
     "status": "ok",
     "timestamp": 1576691407053,
     "user": {
      "displayName": "Michele Pasin",
      "photoUrl": "https://lh3.googleusercontent.com/a-/AAuE7mBu8LVjIGgontF2Wax51BoL5KFx8esezX3bUmaa0g=s64",
      "userId": "10309320684375994511"
     },
     "user_tz": 0
    },
    "id": "5cbCB86W0EHw",
    "outputId": "61c5658b-ce9b-48a9-d579-55a07f02cfad"
   },
   "outputs": [
    {
     "name": "stdout",
     "output_type": "stream",
     "text": [
      "==\n",
      "Installing libraries..\n",
      "==\n",
      "Logging in..\n",
      "DimCli v0.6.2.2 - Succesfully connected to <https://app.dimensions.ai> (method: manual login)\n"
     ]
    }
   ],
   "source": [
    "# @markdown # Get the API library and login \n",
    "# @markdown **Privacy tip**: leave the password blank and you'll be asked for it later. This can be handy on shared computers.\n",
    "username = \"dsl.demo.1@dimensions.ai\"  #@param {type: \"string\"}\n",
    "password = \"1.Demo.Dsl\"  #@param {type: \"string\"}\n",
    "endpoint = \"https://app.dimensions.ai\"  #@param {type: \"string\"}\n",
    "\n",
    "\n",
    "# INSTALL/LOAD LIBRARIES \n",
    "# ps optimized for Google Colab /modify installation as needed based on your environment\n",
    "# \n",
    "print(\"==\\nInstalling libraries..\")\n",
    "!pip install dimcli networkx pyvis -U --quiet \n",
    "\n",
    "import os\n",
    "import sys\n",
    "import time\n",
    "import json\n",
    "import pandas as pd\n",
    "from pandas.io.json import json_normalize\n",
    "from tqdm import tqdm_notebook as progressbar\n",
    "import dimcli \n",
    "from dimcli.shortcuts import *\n",
    "\n",
    "# AUTHENTICATION \n",
    "# https://github.com/digital-science/dimcli#authentication\n",
    "#\n",
    "# == Google Colab users ==\n",
    "# If username/password not provided, the interactive setup assistant `dimcli --init` is invoked\n",
    "#\n",
    "# == Jupyter Notebook users == \n",
    "# If username/password not provided, try to use the global API credentials file.\n",
    "# To create one, open a terminal (File/New/Terminal) and run `dimcli --init` from there\n",
    "#  \n",
    "#\n",
    "print(\"==\\nLogging in..\")\n",
    "if username and password:\n",
    "  dimcli.login(username, password, endpoint)\n",
    "else:\n",
    "  if 'google.colab' in sys.modules:\n",
    "    print(\"Environment: Google Colab\")\n",
    "    if username and not password:\n",
    "      import getpass\n",
    "      password = getpass.getpass(prompt='Password: ')     \n",
    "      dimcli.login(username, password, endpoint)\n",
    "    else:\n",
    "      print(\"... launching interactive setup assistant\")\n",
    "      !dimcli --init    \n",
    "      dimcli.login()\n",
    "  else:\n",
    "    print(\"Environment: Jupyter Notebook\\n... looking for API credentials file\")\n",
    "    dimcli.login()\n",
    "\n",
    "dsl = dimcli.Dsl()\n",
    "\n",
    "   "
   ]
  },
  {
   "cell_type": "markdown",
   "metadata": {
    "Collapsed": "false",
    "colab_type": "text",
    "id": "cVhIN498fi9b"
   },
   "source": [
    "## 2. GRIDs selection and data extraction\n",
    "\n",
    "Tip: pick one from https://grid.ac/institutes. "
   ]
  },
  {
   "cell_type": "code",
   "execution_count": 11,
   "metadata": {
    "Collapsed": "false",
    "cellView": "both",
    "colab": {
     "base_uri": "https://localhost:8080/",
     "height": 119
    },
    "colab_type": "code",
    "executionInfo": {
     "elapsed": 2761,
     "status": "ok",
     "timestamp": 1576691759560,
     "user": {
      "displayName": "Michele Pasin",
      "photoUrl": "https://lh3.googleusercontent.com/a-/AAuE7mBu8LVjIGgontF2Wax51BoL5KFx8esezX3bUmaa0g=s64",
      "userId": "10309320684375994511"
     },
     "user_tz": 0
    },
    "id": "Zvvob8TtHANv",
    "outputId": "aba19894-7f0b-43b8-8b24-6bacd1899d72"
   },
   "outputs": [
    {
     "name": "stdout",
     "output_type": "stream",
     "text": [
      "GRIDs entered (unique):  1 \n",
      " => ['grid.473100.1']\n"
     ]
    },
    {
     "data": {
      "text/html": [
       "---<br /><a href=\"https://app.dimensions.ai/discover/publication?or_facet_research_org=grid.473100.1\">View selected organizations in Dimensions &#x29c9;</a>"
      ],
      "text/plain": [
       "<IPython.core.display.HTML object>"
      ]
     },
     "metadata": {
      "tags": []
     },
     "output_type": "display_data"
    },
    {
     "name": "stdout",
     "output_type": "stream",
     "text": [
      "==\n",
      "Created data folder: stats_data_grid.473100.1/\n"
     ]
    }
   ],
   "source": [
    "#@markdown Please enter up to 30 GRID IDs, comma separated.\n",
    "\n",
    "organizations = \"grid.473100.1\" #@param {type: \"string\"}\n",
    "gridids = [x.strip() for x in organizations.split(\",\")]\n",
    "gridids = list(set(gridids))\n",
    "\n",
    "MAX_GRIDS = 30\n",
    "\n",
    "from IPython.core.display import display, HTML\n",
    "def dimensions_url(grids):\n",
    "    root = \"https://app.dimensions.ai/discover/publication?or_facet_research_org=\"\n",
    "    return root + \"&or_facet_research_org=\".join([x for x in grids])\n",
    "\n",
    "\n",
    "if len(gridids) > MAX_GRIDS:\n",
    "  print(\"You entered too many GRID IDs. Max is \", MAX_GRIDS)\n",
    "  raise\n",
    "else:\n",
    "  print(\"GRIDs entered (unique): \", len(gridids), \"\\n =>\", gridids)\n",
    "  # gen link to Dimensions\n",
    "  display(HTML('---<br /><a href=\"{}\">View selected organizations in Dimensions &#x29c9;</a>'.format(dimensions_url(gridids))))\n",
    "\n",
    "\n",
    "\n",
    "#\n",
    "# data-saving utils \n",
    "#\n",
    "DATAFOLDER = \"stats_data_\" + str(gridids[0])\n",
    "if not os.path.exists(DATAFOLDER):\n",
    "  !mkdir $DATAFOLDER\n",
    "  print(f\"==\\nCreated data folder:\", DATAFOLDER + \"/\")\n",
    "#\n",
    "#\n",
    "def save_as_csv(df, save_name_without_extension):\n",
    "    \"usage: `save_as_csv(dataframe, 'filename')`\"\n",
    "    df.to_csv(f\"{DATAFOLDER}/{save_name_without_extension}.csv\", index=False)\n",
    "    print(\"===\\nSaved: \", f\"{DATAFOLDER}/{save_name_without_extension}.csv\")\n"
   ]
  },
  {
   "cell_type": "markdown",
   "metadata": {
    "Collapsed": "false",
    "colab_type": "text",
    "id": "eb_TlbMii-zr"
   },
   "source": [
    "## 3.Basic stats: Publications, Grants, Patents, Clinical Trials etc..\n",
    "\n",
    "In this step we count how many documents direcly associated to the GRID IDs exist - for each of the main Dimensions document types. \n"
   ]
  },
  {
   "cell_type": "code",
   "execution_count": 12,
   "metadata": {
    "Collapsed": "false",
    "colab": {
     "base_uri": "https://localhost:8080/",
     "height": 429,
     "referenced_widgets": [
      "c7ae99f5db894f6bbe7d30b4087979b8",
      "d393e5bd122d403fabea33ed41d1b2ec",
      "4e70572f69c141b89ac29693fbea7868",
      "93c799498bc54a93ac891b7595cfc6c0",
      "06646f04e1ab4924a4936135c34fabc1",
      "c91875c5e2f240089e7b12e943eed6e8",
      "43fd8ccb68f0476eb06142dfda67e440",
      "9c25bd74714e4a1aa8d1a881da39cff4"
     ]
    },
    "colab_type": "code",
    "executionInfo": {
     "elapsed": 13651,
     "status": "ok",
     "timestamp": 1576691770460,
     "user": {
      "displayName": "Michele Pasin",
      "photoUrl": "https://lh3.googleusercontent.com/a-/AAuE7mBu8LVjIGgontF2Wax51BoL5KFx8esezX3bUmaa0g=s64",
      "userId": "10309320684375994511"
     },
     "user_tz": 0
    },
    "id": "56K4SxtG2xnB",
    "outputId": "0d710e44-b3b8-4a0a-b824-42d798247497"
   },
   "outputs": [
    {
     "name": "stdout",
     "output_type": "stream",
     "text": [
      "\n",
      "\n",
      "===\n",
      "Starting data extraction part [1]....\n"
     ]
    },
    {
     "data": {
      "application/vnd.jupyter.widget-view+json": {
       "model_id": "c7ae99f5db894f6bbe7d30b4087979b8",
       "version_major": 2,
       "version_minor": 0
      },
      "text/plain": [
       "HBox(children=(IntProgress(value=0, max=5), HTML(value='')))"
      ]
     },
     "metadata": {
      "tags": []
     },
     "output_type": "display_data"
    },
    {
     "name": "stdout",
     "output_type": "stream",
     "text": [
      "Returned Publications: 1 (total = 98)\n",
      "Returned Grants: 0\n",
      "Grants total Funding:  0\n",
      "Returned Patents: 1 (total = 37)\n",
      "Returned Clinical_trials: 0\n",
      "Returned Policy_documents: 0\n",
      "===\n",
      "Saved:  stats_data_grid.473100.1/overview_objects.csv\n"
     ]
    },
    {
     "data": {
      "application/vnd.google.colaboratory.module+javascript": "\n      import \"https://ssl.gstatic.com/colaboratory/data_table/9e554b27bdd509f3/data_table.js\";\n\n      window.createDataTable({\n        data: [[{\n            'v': 0,\n            'f': \"0\",\n        },\n\"publications\",\n{\n            'v': 98,\n            'f': \"98\",\n        },\n{\n            'v': 0,\n            'f': \"0\",\n        }],\n [{\n            'v': 1,\n            'f': \"1\",\n        },\n\"grants\",\n{\n            'v': 0,\n            'f': \"0\",\n        },\n{\n            'v': 0,\n            'f': \"0\",\n        }],\n [{\n            'v': 2,\n            'f': \"2\",\n        },\n\"patents\",\n{\n            'v': 37,\n            'f': \"37\",\n        },\n{\n            'v': 0,\n            'f': \"0\",\n        }],\n [{\n            'v': 3,\n            'f': \"3\",\n        },\n\"clinical_trials\",\n{\n            'v': 0,\n            'f': \"0\",\n        },\n{\n            'v': 0,\n            'f': \"0\",\n        }],\n [{\n            'v': 4,\n            'f': \"4\",\n        },\n\"policy_documents\",\n{\n            'v': 0,\n            'f': \"0\",\n        },\n{\n            'v': 0,\n            'f': \"0\",\n        }]],\n        columns: [[\"number\", \"index\"], [\"string\", \"source\"], [\"number\", \"documents\"], [\"number\", \"funding\"]],\n        columnOptions: [{\"width\": \"1px\", \"className\": \"index_column\"}],\n        rowsPerPage: 25,\n        helpUrl: \"https://colab.research.google.com/notebooks/data_table.ipynb\",\n      });\n    ",
      "text/html": [
       "<div>\n",
       "<style scoped>\n",
       "    .dataframe tbody tr th:only-of-type {\n",
       "        vertical-align: middle;\n",
       "    }\n",
       "\n",
       "    .dataframe tbody tr th {\n",
       "        vertical-align: top;\n",
       "    }\n",
       "\n",
       "    .dataframe thead th {\n",
       "        text-align: right;\n",
       "    }\n",
       "</style>\n",
       "<table border=\"1\" class=\"dataframe\">\n",
       "  <thead>\n",
       "    <tr style=\"text-align: right;\">\n",
       "      <th></th>\n",
       "      <th>source</th>\n",
       "      <th>documents</th>\n",
       "      <th>funding</th>\n",
       "    </tr>\n",
       "  </thead>\n",
       "  <tbody>\n",
       "    <tr>\n",
       "      <th>0</th>\n",
       "      <td>publications</td>\n",
       "      <td>98</td>\n",
       "      <td>0</td>\n",
       "    </tr>\n",
       "    <tr>\n",
       "      <th>1</th>\n",
       "      <td>grants</td>\n",
       "      <td>0</td>\n",
       "      <td>0</td>\n",
       "    </tr>\n",
       "    <tr>\n",
       "      <th>2</th>\n",
       "      <td>patents</td>\n",
       "      <td>37</td>\n",
       "      <td>0</td>\n",
       "    </tr>\n",
       "    <tr>\n",
       "      <th>3</th>\n",
       "      <td>clinical_trials</td>\n",
       "      <td>0</td>\n",
       "      <td>0</td>\n",
       "    </tr>\n",
       "    <tr>\n",
       "      <th>4</th>\n",
       "      <td>policy_documents</td>\n",
       "      <td>0</td>\n",
       "      <td>0</td>\n",
       "    </tr>\n",
       "  </tbody>\n",
       "</table>\n",
       "</div>"
      ],
      "text/plain": [
       "             source  documents  funding\n",
       "0      publications         98        0\n",
       "1            grants          0        0\n",
       "2           patents         37        0\n",
       "3   clinical_trials          0        0\n",
       "4  policy_documents          0        0"
      ]
     },
     "execution_count": 12,
     "metadata": {
      "tags": []
     },
     "output_type": "execute_result"
    }
   ],
   "source": [
    "print(\"\\n\\n===\\nStarting data extraction part [1]....\")\n",
    "\n",
    "from tqdm import tqdm_notebook as pbar\n",
    "\n",
    "query_templates = {\n",
    "    \"publications\" : \"\"\"search publications where research_orgs in {} return publications[id] {}\"\"\" ,\n",
    "    \"grants\" : \"\"\"search grants where research_orgs in {} return grants[id] {}\"\"\" ,\n",
    "    \"patents\" : \"\"\"search patents where assignees in {} return patents[id] {}\"\"\" ,\n",
    "    \"clinical_trials\" : \"\"\"search clinical_trials where organizations in {} return clinical_trials[id] {}\"\"\" ,\n",
    "    \"policy_documents\" : \"\"\"search policy_documents where publisher_org in {} return policy_documents[id] {}\"\"\" ,\n",
    "}\n",
    "\n",
    "VERBOSE = True\n",
    "# CHUNKS_SIZE = 30 # how many grids to process at a time\n",
    "results = []\n",
    "\n",
    "\n",
    "def get_funding():\n",
    "  \"\"\"Extra query to get funding\n",
    "  We're using `title_language` to facet + aggregate as that seems to be field which is a)single and unique per grant and b) always present; \n",
    "  Tried using also `start_year` but often grants were missing cause they didn't have one.\n",
    "  \"\"\"\n",
    "  q = \"\"\"search grants where research_orgs in {} return title_language aggregate funding limit 500\"\"\".format(json.dumps(gridids))\n",
    "  d = dsl.query(q, verbose=False)  \n",
    "  funding_total = 0\n",
    "  if d.count_total and \"title_language\" in d.json:\n",
    "    for x in d.title_language:\n",
    "      funding_total += x['funding']\n",
    "  print(\"Grants total Funding: \", funding_total)\n",
    "  return funding_total\n",
    "\n",
    "\n",
    "loop1 = pbar(list(query_templates))\n",
    "for doctype in loop1:\n",
    "  loop1.set_description(\"Extracting Total Count of %s\" % doctype.capitalize())\n",
    "  # dsl query\n",
    "  q = query_templates[doctype].format(json.dumps(gridids), \"limit 1\")\n",
    "  data = dsl.query(q, verbose=VERBOSE)\n",
    "  if doctype == \"grants\":\n",
    "    money = get_funding()\n",
    "    results.append({\"source\" : doctype, \"documents\" : data.count_total, \"funding\" : money})\n",
    "  else:\n",
    "    results.append({\"source\" : doctype, \"documents\" : data.count_total, \"funding\" : 0})\n",
    "  time.sleep(1)\n",
    "\n",
    "# print(results)\n",
    "\n",
    "# save to a dataframe\n",
    "summary = pd.DataFrame().from_dict(results)\n",
    "save_as_csv(summary, \"overview_objects\")\n",
    "summary"
   ]
  },
  {
   "cell_type": "markdown",
   "metadata": {
    "Collapsed": "false",
    "colab_type": "text",
    "id": "ppt22hsY8h4L"
   },
   "source": [
    "## 4. References: **from** Grants, Clinical Trials, Patents etc... **to** Publications\n",
    "\n",
    "In this section we extract existing links from the various document types to the **publications** from the selected GRID IDs.\n",
    "\n",
    "- Publication count citing the GRID ID publications (straight forward citation count, if difficult, can be taken from web app)\n",
    "  `search publications where research_orgs=[] return year aggregate citations_total`\n",
    "- Grants linked to publications of GRID ID\n",
    "  `search grants where resulting_publications_ids ..`\n",
    "- Patents referencing GID ID publications \n",
    "  `search patents where publication_ids in`\n",
    "- Clinical trials referencing the publications of the GRID ID\n",
    "  `search clinical_trials where publication_ids = [..]`\n",
    "- Policy documents referencing the GRID ID publications\n",
    "  `search policy_document where publication_ids in`"
   ]
  },
  {
   "cell_type": "code",
   "execution_count": 13,
   "metadata": {
    "Collapsed": "false",
    "colab": {
     "base_uri": "https://localhost:8080/",
     "height": 136
    },
    "colab_type": "code",
    "executionInfo": {
     "elapsed": 15887,
     "status": "ok",
     "timestamp": 1576691772702,
     "user": {
      "displayName": "Michele Pasin",
      "photoUrl": "https://lh3.googleusercontent.com/a-/AAuE7mBu8LVjIGgontF2Wax51BoL5KFx8esezX3bUmaa0g=s64",
      "userId": "10309320684375994511"
     },
     "user_tz": 0
    },
    "id": "Joff3d_fezbL",
    "outputId": "c78c9b57-ab30-4ad8-e27b-e18f68b9830e"
   },
   "outputs": [
    {
     "name": "stdout",
     "output_type": "stream",
     "text": [
      "\n",
      "\n",
      "===\n",
      "Starting data extraction part [2]....\n",
      "===\n",
      "Extracting all publications for GRIDs (max 50k, sorted by date)\n",
      "98 / 98\n"
     ]
    }
   ],
   "source": [
    "print(\"\\n\\n===\\nStarting data extraction part [2]....\")\n",
    "\n",
    "#\n",
    "# prerequisite: pubs baseset\n",
    "#\n",
    "\n",
    "print(\"===\\nExtracting all publications for GRIDs (max 50k, sorted by date)\")\n",
    "\n",
    "q = \"\"\"search publications where research_orgs in {} return publications[id] sort by date\"\"\"\n",
    "pubs = dsl.query_iterative(q.format(json.dumps(gridids)))\n",
    "pubs = pubs.as_dataframe()\n",
    "pubsids = list(pubs['id'])\n",
    "\n",
    "# dict to store final results\n",
    "overview_links = { 'publications' : 0, 'grants' : 0, 'patents' : 0, 'clinical_trials' : 0, 'policy_documents' : 0 }\n"
   ]
  },
  {
   "cell_type": "code",
   "execution_count": 14,
   "metadata": {
    "Collapsed": "false",
    "colab": {
     "base_uri": "https://localhost:8080/",
     "height": 102
    },
    "colab_type": "code",
    "executionInfo": {
     "elapsed": 16970,
     "status": "ok",
     "timestamp": 1576691773791,
     "user": {
      "displayName": "Michele Pasin",
      "photoUrl": "https://lh3.googleusercontent.com/a-/AAuE7mBu8LVjIGgontF2Wax51BoL5KFx8esezX3bUmaa0g=s64",
      "userId": "10309320684375994511"
     },
     "user_tz": 0
    },
    "id": "pbU3CmBoMPb7",
    "outputId": "05b0ff99-7ba8-4aab-c546-3f5a144e5582"
   },
   "outputs": [
    {
     "name": "stdout",
     "output_type": "stream",
     "text": [
      "===\n",
      "Extracting publications citations\n",
      "Returned Year: 20\n",
      "===\n",
      "Total Citations:  530.0\n"
     ]
    }
   ],
   "source": [
    "#\n",
    "# pubs references\n",
    "#\n",
    "print(\"===\\nExtracting publications citations\")\n",
    "\n",
    "q = \"\"\"search publications where research_orgs in {} return year aggregate citations_total limit 1000 \"\"\"\n",
    "d = dsl.query(q.format(json.dumps(gridids)))\n",
    "citations_total = 0\n",
    "if d.count_total and \"year\" in d.json:\n",
    "  for x in d.year:\n",
    "    citations_total += x['citations_total']\n",
    "print(\"===\\nTotal Citations: \", citations_total)\n",
    "overview_links['publications'] = citations_total"
   ]
  },
  {
   "cell_type": "code",
   "execution_count": 15,
   "metadata": {
    "colab": {
     "base_uri": "https://localhost:8080/",
     "height": 117,
     "referenced_widgets": [
      "f5ff2f63b169474bbffa3a47068cbf97",
      "4db1e418a8a54d42befb9136fd5ffb79",
      "9669da1e0ea14fb2b51579bd9ecf984b",
      "6901ed08a73c40c78b652c933e4a831e",
      "8c8a431f9d5e4e76a37fc256b35cb717",
      "c85fa2f8662243269cf6182a57bb4992",
      "43fe435e46b540f3bd0f867bdbe472ae",
      "43c9f73f11a6455fba180522356db7fb"
     ]
    },
    "colab_type": "code",
    "executionInfo": {
     "elapsed": 20021,
     "status": "ok",
     "timestamp": 1576691776848,
     "user": {
      "displayName": "Michele Pasin",
      "photoUrl": "https://lh3.googleusercontent.com/a-/AAuE7mBu8LVjIGgontF2Wax51BoL5KFx8esezX3bUmaa0g=s64",
      "userId": "10309320684375994511"
     },
     "user_tz": 0
    },
    "id": "XR1-z6LLqt7r",
    "outputId": "1d40d027-8001-4f49-b0d0-18677f1f4c55"
   },
   "outputs": [
    {
     "name": "stdout",
     "output_type": "stream",
     "text": [
      "===\n",
      "Extracting grants citations\n"
     ]
    },
    {
     "data": {
      "application/vnd.jupyter.widget-view+json": {
       "model_id": "f5ff2f63b169474bbffa3a47068cbf97",
       "version_major": 2,
       "version_minor": 0
      },
      "text/plain": [
       "HBox(children=(IntProgress(value=0, max=1), HTML(value='')))"
      ]
     },
     "metadata": {
      "tags": []
     },
     "output_type": "display_data"
    },
    {
     "name": "stdout",
     "output_type": "stream",
     "text": [
      "17 / 17\n",
      "Total related grants found:  17\n"
     ]
    }
   ],
   "source": [
    "#\n",
    "# grants references \n",
    "#\n",
    "\n",
    "print(\"===\\nExtracting grants citations\")\n",
    "\n",
    "q = \"\"\"search grants where resulting_publication_ids in {} return grants[id]\"\"\"\n",
    "\n",
    "# iterate pubids using chunks \n",
    "VERBOSE = True\n",
    "CHUNKS_SIZE = 300 \n",
    "results = []\n",
    "\n",
    "for chunk in pbar(list(chunks_of(pubsids, CHUNKS_SIZE))):\n",
    "  query = q.format(json.dumps(chunk))\n",
    "  data = dsl.query_iterative(query, verbose=VERBOSE)\n",
    "  results += data.grants\n",
    "  time.sleep(0.5)\n",
    "\n",
    "#\n",
    "# put the citing grants data into a dataframe, remove duplicates and save\n",
    "grants = pd.DataFrame().from_dict(results)\n",
    "# print(\"===\\nRelated grants found: \", len(grants))\n",
    "grants.drop_duplicates(subset='id', inplace=True)\n",
    "print(\"Total related grants found: \", len(grants))\n",
    "overview_links['grants'] = len(grants)\n",
    "\n"
   ]
  },
  {
   "cell_type": "code",
   "execution_count": 16,
   "metadata": {
    "colab": {
     "base_uri": "https://localhost:8080/",
     "height": 117,
     "referenced_widgets": [
      "571214f11ba74614889b8e5f2a620c7e",
      "abac0d4c0fc5458b93c388be52e5194b",
      "9fef66dac41d4877b6f5aced0f9d5158",
      "05fefba74b2d4d2698a97d089002577f",
      "6011922a0185423d90008d3216a3f47a",
      "a157eed16f2f4910a3b5e495b22097f4",
      "653e21fb48fe480083dcd097b3e8931d",
      "96a4c6f080814740bb5dacc29239fe86"
     ]
    },
    "colab_type": "code",
    "executionInfo": {
     "elapsed": 22968,
     "status": "ok",
     "timestamp": 1576691779800,
     "user": {
      "displayName": "Michele Pasin",
      "photoUrl": "https://lh3.googleusercontent.com/a-/AAuE7mBu8LVjIGgontF2Wax51BoL5KFx8esezX3bUmaa0g=s64",
      "userId": "10309320684375994511"
     },
     "user_tz": 0
    },
    "id": "yvM6fu9TqY3J",
    "outputId": "c7c6e168-8399-4879-b2b5-d09e68a038fb"
   },
   "outputs": [
    {
     "name": "stdout",
     "output_type": "stream",
     "text": [
      "===\n",
      "Extracting patents citations\n"
     ]
    },
    {
     "data": {
      "application/vnd.jupyter.widget-view+json": {
       "model_id": "571214f11ba74614889b8e5f2a620c7e",
       "version_major": 2,
       "version_minor": 0
      },
      "text/plain": [
       "HBox(children=(IntProgress(value=0, max=1), HTML(value='')))"
      ]
     },
     "metadata": {
      "tags": []
     },
     "output_type": "display_data"
    },
    {
     "name": "stdout",
     "output_type": "stream",
     "text": [
      "7 / 7\n",
      "Total related patents found:  7\n"
     ]
    }
   ],
   "source": [
    "#\n",
    "# patents references \n",
    "#\n",
    "\n",
    "print(\"===\\nExtracting patents citations\")\n",
    "\n",
    "q = \"\"\"search patents where publication_ids in {} return patents[id]\"\"\"\n",
    "\n",
    "# iterate pubids using chunks \n",
    "VERBOSE = True\n",
    "CHUNKS_SIZE = 300 \n",
    "results = []\n",
    "\n",
    "for chunk in pbar(list(chunks_of(pubsids, CHUNKS_SIZE))):\n",
    "  query = q.format(json.dumps(chunk))\n",
    "  data = dsl.query_iterative(query, verbose=VERBOSE)\n",
    "  results += data.patents\n",
    "  time.sleep(0.5)\n",
    "\n",
    "#\n",
    "# put the citing grants data into a dataframe, remove duplicates and save\n",
    "patents = pd.DataFrame().from_dict(results)\n",
    "# print(\"===\\nRelated grants found: \", len(grants))\n",
    "patents.drop_duplicates(subset='id', inplace=True)\n",
    "print(\"Total related patents found: \", len(patents))\n",
    "overview_links['patents'] = len(patents)\n",
    "\n"
   ]
  },
  {
   "cell_type": "code",
   "execution_count": 17,
   "metadata": {
    "colab": {
     "base_uri": "https://localhost:8080/",
     "height": 117,
     "referenced_widgets": [
      "50d17baadd4f435eb6ded77b23d268f5",
      "bcd5ab6a589b4317acd1a7b5813c4f1f",
      "208b5812a2194aab8a9b23d8c4a48909",
      "8886d298f597460e8d3d13267b803acd",
      "9f876efc59974defb2c72e2337f56f39",
      "112f7b87291844b1a19b001fe9be774e",
      "0c82aa08f55c4352acb67a15a0d1c41c",
      "62a975103d2244ca8ca9bc1f519fe8e6"
     ]
    },
    "colab_type": "code",
    "executionInfo": {
     "elapsed": 26240,
     "status": "ok",
     "timestamp": 1576691783077,
     "user": {
      "displayName": "Michele Pasin",
      "photoUrl": "https://lh3.googleusercontent.com/a-/AAuE7mBu8LVjIGgontF2Wax51BoL5KFx8esezX3bUmaa0g=s64",
      "userId": "10309320684375994511"
     },
     "user_tz": 0
    },
    "id": "sSwkcWQCuqK7",
    "outputId": "5cc8f152-e9b0-420b-9c1f-455d88805579"
   },
   "outputs": [
    {
     "name": "stdout",
     "output_type": "stream",
     "text": [
      "===\n",
      "Extracting clinical_trials citations\n"
     ]
    },
    {
     "data": {
      "application/vnd.jupyter.widget-view+json": {
       "model_id": "50d17baadd4f435eb6ded77b23d268f5",
       "version_major": 2,
       "version_minor": 0
      },
      "text/plain": [
       "HBox(children=(IntProgress(value=0, max=1), HTML(value='')))"
      ]
     },
     "metadata": {
      "tags": []
     },
     "output_type": "display_data"
    },
    {
     "name": "stdout",
     "output_type": "stream",
     "text": [
      "0 / 0\n",
      "Total related clinical_trials found:  0\n"
     ]
    }
   ],
   "source": [
    "#\n",
    "# clinical trials references \n",
    "#\n",
    "\n",
    "print(\"===\\nExtracting clinical_trials citations\")\n",
    "\n",
    "q = \"\"\"search clinical_trials where publication_ids in {} return clinical_trials[id]\"\"\"\n",
    "\n",
    "# iterate pubids using chunks \n",
    "VERBOSE = True\n",
    "CHUNKS_SIZE = 300 \n",
    "results = []\n",
    "\n",
    "for chunk in pbar(list(chunks_of(pubsids, CHUNKS_SIZE))):\n",
    "  query = q.format(json.dumps(chunk))\n",
    "  data = dsl.query_iterative(query, verbose=VERBOSE)\n",
    "  results += data.clinical_trials\n",
    "  time.sleep(0.5)\n",
    "\n",
    "#\n",
    "# put the citing grants data into a dataframe, remove duplicates and save\n",
    "clinical_trials = pd.DataFrame().from_dict(results)\n",
    "# print(\"===\\nRelated grants found: \", len(grants))\n",
    "clinical_trials.drop_duplicates(subset='id', inplace=True)\n",
    "print(\"Total related clinical_trials found: \", len(clinical_trials))\n",
    "overview_links['clinical_trials'] = len(clinical_trials)\n",
    "\n"
   ]
  },
  {
   "cell_type": "code",
   "execution_count": 18,
   "metadata": {
    "colab": {
     "base_uri": "https://localhost:8080/",
     "height": 117,
     "referenced_widgets": [
      "dde11ae759734920aff09adc9da1c6af",
      "24f1a9980f3b4d759ac6948b79452055",
      "a4f2ba2a18d9446cbb361480d0d79f20",
      "cfbab292150743ddaa695bf566ffd182",
      "9108ba812c3c41f19b471f49b1317b0c",
      "c92e492d3ee84f18a60ec3e85f234f7d",
      "959a2bfdda2a49b481a034b7dae8c519",
      "dd642898d52b4883b93ccc674ad3b502"
     ]
    },
    "colab_type": "code",
    "executionInfo": {
     "elapsed": 28964,
     "status": "ok",
     "timestamp": 1576691785807,
     "user": {
      "displayName": "Michele Pasin",
      "photoUrl": "https://lh3.googleusercontent.com/a-/AAuE7mBu8LVjIGgontF2Wax51BoL5KFx8esezX3bUmaa0g=s64",
      "userId": "10309320684375994511"
     },
     "user_tz": 0
    },
    "id": "lTAtjQiqu6qs",
    "outputId": "7ee8ff2e-9398-42d7-f091-963ea04522ad"
   },
   "outputs": [
    {
     "name": "stdout",
     "output_type": "stream",
     "text": [
      "===\n",
      "Extracting policy_documents citations\n"
     ]
    },
    {
     "data": {
      "application/vnd.jupyter.widget-view+json": {
       "model_id": "dde11ae759734920aff09adc9da1c6af",
       "version_major": 2,
       "version_minor": 0
      },
      "text/plain": [
       "HBox(children=(IntProgress(value=0, max=1), HTML(value='')))"
      ]
     },
     "metadata": {
      "tags": []
     },
     "output_type": "display_data"
    },
    {
     "name": "stdout",
     "output_type": "stream",
     "text": [
      "0 / 0\n",
      "Total related policy_documents found:  0\n"
     ]
    }
   ],
   "source": [
    "#\n",
    "# policy documents references \n",
    "#\n",
    "\n",
    "print(\"===\\nExtracting policy_documents citations\")\n",
    "\n",
    "q = \"\"\"search policy_documents where publication_ids in {} return policy_documents[id]\"\"\"\n",
    "\n",
    "# iterate pubids using chunks \n",
    "VERBOSE = True\n",
    "CHUNKS_SIZE = 300 \n",
    "results = []\n",
    "\n",
    "for chunk in pbar(list(chunks_of(pubsids, CHUNKS_SIZE))):\n",
    "  query = q.format(json.dumps(chunk))\n",
    "  data = dsl.query_iterative(query, verbose=VERBOSE)\n",
    "  results += data.policy_documents\n",
    "  time.sleep(0.5)\n",
    "\n",
    "#\n",
    "# put the citing grants data into a dataframe, remove duplicates and save\n",
    "policy_documents = pd.DataFrame().from_dict(results)\n",
    "# print(\"===\\nRelated grants found: \", len(grants))\n",
    "policy_documents.drop_duplicates(subset='id', inplace=True)\n",
    "print(\"Total related policy_documents found: \", len(policy_documents))\n",
    "overview_links['policy_documents'] = len(policy_documents)\n",
    "\n"
   ]
  },
  {
   "cell_type": "code",
   "execution_count": 19,
   "metadata": {
    "colab": {
     "base_uri": "https://localhost:8080/",
     "height": 227
    },
    "colab_type": "code",
    "executionInfo": {
     "elapsed": 28961,
     "status": "ok",
     "timestamp": 1576691785808,
     "user": {
      "displayName": "Michele Pasin",
      "photoUrl": "https://lh3.googleusercontent.com/a-/AAuE7mBu8LVjIGgontF2Wax51BoL5KFx8esezX3bUmaa0g=s64",
      "userId": "10309320684375994511"
     },
     "user_tz": 0
    },
    "id": "ftYx6E0ouP4C",
    "outputId": "d02f6863-d60f-49fc-c484-323830e230d9"
   },
   "outputs": [
    {
     "name": "stdout",
     "output_type": "stream",
     "text": [
      "===\n",
      "Saved:  stats_data_grid.473100.1/overview_links.csv\n"
     ]
    },
    {
     "data": {
      "application/vnd.google.colaboratory.module+javascript": "\n      import \"https://ssl.gstatic.com/colaboratory/data_table/9e554b27bdd509f3/data_table.js\";\n\n      window.createDataTable({\n        data: [[{\n            'v': 0,\n            'f': \"0\",\n        },\n\"publications\",\n\"publications\",\n{\n            'v': 530.0,\n            'f': \"530.0\",\n        }],\n [{\n            'v': 1,\n            'f': \"1\",\n        },\n\"grants\",\n\"publications\",\n{\n            'v': 17.0,\n            'f': \"17.0\",\n        }],\n [{\n            'v': 2,\n            'f': \"2\",\n        },\n\"patents\",\n\"publications\",\n{\n            'v': 7.0,\n            'f': \"7.0\",\n        }],\n [{\n            'v': 3,\n            'f': \"3\",\n        },\n\"clinical_trials\",\n\"publications\",\n{\n            'v': 0.0,\n            'f': \"0.0\",\n        }],\n [{\n            'v': 4,\n            'f': \"4\",\n        },\n\"policy_documents\",\n\"publications\",\n{\n            'v': 0.0,\n            'f': \"0.0\",\n        }]],\n        columns: [[\"number\", \"index\"], [\"string\", \"from_source\"], [\"string\", \"to_source\"], [\"number\", \"links\"]],\n        columnOptions: [{\"width\": \"1px\", \"className\": \"index_column\"}],\n        rowsPerPage: 25,\n        helpUrl: \"https://colab.research.google.com/notebooks/data_table.ipynb\",\n      });\n    ",
      "text/html": [
       "<div>\n",
       "<style scoped>\n",
       "    .dataframe tbody tr th:only-of-type {\n",
       "        vertical-align: middle;\n",
       "    }\n",
       "\n",
       "    .dataframe tbody tr th {\n",
       "        vertical-align: top;\n",
       "    }\n",
       "\n",
       "    .dataframe thead th {\n",
       "        text-align: right;\n",
       "    }\n",
       "</style>\n",
       "<table border=\"1\" class=\"dataframe\">\n",
       "  <thead>\n",
       "    <tr style=\"text-align: right;\">\n",
       "      <th></th>\n",
       "      <th>from_source</th>\n",
       "      <th>to_source</th>\n",
       "      <th>links</th>\n",
       "    </tr>\n",
       "  </thead>\n",
       "  <tbody>\n",
       "    <tr>\n",
       "      <th>0</th>\n",
       "      <td>publications</td>\n",
       "      <td>publications</td>\n",
       "      <td>530.0</td>\n",
       "    </tr>\n",
       "    <tr>\n",
       "      <th>1</th>\n",
       "      <td>grants</td>\n",
       "      <td>publications</td>\n",
       "      <td>17.0</td>\n",
       "    </tr>\n",
       "    <tr>\n",
       "      <th>2</th>\n",
       "      <td>patents</td>\n",
       "      <td>publications</td>\n",
       "      <td>7.0</td>\n",
       "    </tr>\n",
       "    <tr>\n",
       "      <th>3</th>\n",
       "      <td>clinical_trials</td>\n",
       "      <td>publications</td>\n",
       "      <td>0.0</td>\n",
       "    </tr>\n",
       "    <tr>\n",
       "      <th>4</th>\n",
       "      <td>policy_documents</td>\n",
       "      <td>publications</td>\n",
       "      <td>0.0</td>\n",
       "    </tr>\n",
       "  </tbody>\n",
       "</table>\n",
       "</div>"
      ],
      "text/plain": [
       "        from_source     to_source  links\n",
       "0      publications  publications  530.0\n",
       "1            grants  publications   17.0\n",
       "2           patents  publications    7.0\n",
       "3   clinical_trials  publications    0.0\n",
       "4  policy_documents  publications    0.0"
      ]
     },
     "execution_count": 19,
     "metadata": {
      "tags": []
     },
     "output_type": "execute_result"
    }
   ],
   "source": [
    "# produce a dict list this \n",
    "# overview_links = [\n",
    "#                   {'from_source' : 'publications',     'to_source' : 'publications', 'links' : 0 },\n",
    "#                   {'from_source' : 'grants',           'to_source' : 'publications', 'links' : 0 },\n",
    "#                   {'from_source' : 'patents',          'to_source' : 'publications', 'links' : 0 },\n",
    "#                   {'from_source' : 'clinical_trials',  'to_source' : 'publications', 'links' : 0 },\n",
    "#                   {'from_source' : 'policy_documents', 'to_source' : 'publications', 'links' : 0 },\n",
    "#                 ]\n",
    "\n",
    "nice_links = []\n",
    "for x in overview_links:\n",
    "  nice_links.append({'from_source' : x, 'to_source' : 'publications', 'links' : overview_links[x] })\n",
    "\n",
    "#\n",
    "# finally, save to a dataframe\n",
    "df2 = pd.DataFrame().from_dict(nice_links)\n",
    "#\n",
    "save_as_csv(df2, f\"overview_links\")\n",
    "#\n",
    "df2\n"
   ]
  },
  {
   "cell_type": "markdown",
   "metadata": {
    "Collapsed": "false",
    "colab_type": "text",
    "id": "KhU7_tdnsHbI"
   },
   "source": [
    "## 6. Downloading all results \n",
    "\n",
    "If you are viewing this notebook in **Google Colab**, run the following cell to download all data as a zip file. "
   ]
  },
  {
   "cell_type": "code",
   "execution_count": 0,
   "metadata": {
    "Collapsed": "false",
    "colab": {},
    "colab_type": "code",
    "id": "wJ6NGITtsJAA"
   },
   "outputs": [],
   "source": [
    "\n",
    "# zip up all files to make download easier\n",
    "import zipfile\n",
    "import os \n",
    "\n",
    "def zipdir(path, ziph):\n",
    "    # ziph is zipfile handle\n",
    "    for root, dirs, files in os.walk(path):\n",
    "        for file in files:\n",
    "            ziph.write(os.path.join(root, file))\n",
    "\n",
    "zip_name = DATAFOLDER + '.zip'\n",
    "zipf = zipfile.ZipFile(zip_name, 'w', zipfile.ZIP_DEFLATED)\n",
    "zipdir(DATAFOLDER + '/', zipf)\n",
    "zipf.close()\n",
    "\n",
    "try:\n",
    "  # try to download from colab: sometimes it fails hence print a message\n",
    "  from google.colab import files\n",
    "  time.sleep(5)\n",
    "  files.download(zip_name) \n",
    "except:\n",
    "  print(\"Google Colab failed to download - please try again.\")\n"
   ]
  },
  {
   "cell_type": "markdown",
   "metadata": {
    "colab_type": "text",
    "id": "RWDDC5E0x8ob"
   },
   "source": [
    "## Visualization"
   ]
  },
  {
   "cell_type": "code",
   "execution_count": 0,
   "metadata": {
    "colab": {},
    "colab_type": "code",
    "id": "0BrbbUR7KAlH"
   },
   "outputs": [],
   "source": [
    "from dimcli.core.extras import NetworkViz\n",
    "import json\n",
    "json_summary = json.loads(summary.to_json(orient=\"records\"))\n",
    "json_links = json.loads(df2.to_json(orient=\"records\"))"
   ]
  },
  {
   "cell_type": "code",
   "execution_count": 0,
   "metadata": {
    "colab": {},
    "colab_type": "code",
    "id": "EJZVZ5tQOjp0"
   },
   "outputs": [],
   "source": [
    "labels = [x['source'] + \" ({})\".format(x['documents']) for x in json_summary]\n",
    "titles = [str(x['documents']) + \" \" + x['source'] + \" from {}\".format(str(gridids)) for x in json_summary]"
   ]
  },
  {
   "cell_type": "code",
   "execution_count": 80,
   "metadata": {
    "colab": {
     "base_uri": "https://localhost:8080/",
     "height": 519
    },
    "colab_type": "code",
    "executionInfo": {
     "elapsed": 1018,
     "status": "ok",
     "timestamp": 1576695192181,
     "user": {
      "displayName": "Michele Pasin",
      "photoUrl": "https://lh3.googleusercontent.com/a-/AAuE7mBu8LVjIGgontF2Wax51BoL5KFx8esezX3bUmaa0g=s64",
      "userId": "10309320684375994511"
     },
     "user_tz": 0
    },
    "id": "iUThi-aRLVMc",
    "outputId": "9f396b21-a8c3-463b-c54e-255e64191bdc"
   },
   "outputs": [
    {
     "data": {
      "text/html": [
       "<html>\n",
       "<head>\n",
       "<link rel=\"stylesheet\" href=\"https://cdnjs.cloudflare.com/ajax/libs/vis/4.16.1/vis.css\" type=\"text/css\" />\n",
       "<script type=\"text/javascript\" src=\"https://cdnjs.cloudflare.com/ajax/libs/vis/4.16.1/vis-network.min.js\"> </script>\n",
       "\n",
       "<!-- <link rel=\"stylesheet\" href=\"../node_modules/vis/dist/vis.min.css\" type=\"text/css\" />\n",
       "<script type=\"text/javascript\" src=\"../node_modules/vis/dist/vis.js\"> </script>-->\n",
       "\n",
       "<style type=\"text/css\">\n",
       "\n",
       "        #mynetwork {\n",
       "            width: 600px;\n",
       "            height: 500px;\n",
       "            background-color: #ffffff;\n",
       "            border: 1px solid lightgray;\n",
       "            position: relative;\n",
       "            float: left;\n",
       "        }\n",
       "\n",
       "        \n",
       "\n",
       "        \n",
       "\n",
       "        \n",
       "</style>\n",
       "\n",
       "</head>\n",
       "\n",
       "<body>\n",
       "<div id = \"mynetwork\"></div>\n",
       "\n",
       "\n",
       "<script type=\"text/javascript\">\n",
       "\n",
       "    // initialize global variables.\n",
       "    var edges;\n",
       "    var nodes;\n",
       "    var network; \n",
       "    var container;\n",
       "    var options, data;\n",
       "\n",
       "    \n",
       "    // This method is responsible for drawing the graph, returns the drawn network\n",
       "    function drawGraph() {\n",
       "        var container = document.getElementById('mynetwork');\n",
       "        \n",
       "        \n",
       "\n",
       "        // parsing and collecting nodes and edges from the python\n",
       "        nodes = new vis.DataSet([{\"color\": \"#00ff1e\", \"id\": \"publications\", \"label\": \"publications (98)\", \"shape\": \"dot\", \"title\": \"98 publications from [\\u0027grid.473100.1\\u0027]\", \"value\": 98}, {\"color\": \"#162347\", \"id\": \"grants\", \"label\": \"grants (0)\", \"shape\": \"dot\", \"title\": \"0 grants from [\\u0027grid.473100.1\\u0027]\", \"value\": 0}, {\"color\": \"#dd4b39\", \"id\": \"patents\", \"label\": \"patents (37)\", \"shape\": \"dot\", \"title\": \"37 patents from [\\u0027grid.473100.1\\u0027]\", \"value\": 37}, {\"color\": \"#00bfff\", \"id\": \"clinical_trials\", \"label\": \"clinical_trials (0)\", \"shape\": \"dot\", \"title\": \"0 clinical_trials from [\\u0027grid.473100.1\\u0027]\", \"value\": 0}, {\"color\": \"#ffbf00\", \"id\": \"policy_documents\", \"label\": \"policy_documents (0)\", \"shape\": \"dot\", \"title\": \"0 policy_documents from [\\u0027grid.473100.1\\u0027]\", \"value\": 0}]);\n",
       "        edges = new vis.DataSet([{\"arrows\": \"to\", \"from\": \"publications\", \"label\": 530, \"title\": \"530 publications link to [\\u0027grid.473100.1\\u0027] publications \", \"to\": \"publications\", \"value\": 530}, {\"arrows\": \"to\", \"from\": \"grants\", \"label\": 17, \"title\": \"17 grants link to [\\u0027grid.473100.1\\u0027] publications \", \"to\": \"publications\", \"value\": 17}, {\"arrows\": \"to\", \"from\": \"patents\", \"label\": 7, \"title\": \"7 patents link to [\\u0027grid.473100.1\\u0027] publications \", \"to\": \"publications\", \"value\": 7}, {\"arrows\": \"to\", \"from\": \"clinical_trials\", \"label\": 0, \"title\": \"0 clinical_trials link to [\\u0027grid.473100.1\\u0027] publications \", \"to\": \"publications\", \"value\": 0}, {\"arrows\": \"to\", \"from\": \"policy_documents\", \"label\": 0, \"title\": \"0 policy_documents link to [\\u0027grid.473100.1\\u0027] publications \", \"to\": \"publications\", \"value\": 0}]);\n",
       "\n",
       "        // adding nodes and edges to the graph\n",
       "        data = {nodes: nodes, edges: edges};\n",
       "\n",
       "        var options = {\n",
       "    \"configure\": {\n",
       "        \"enabled\": false\n",
       "    },\n",
       "    \"edges\": {\n",
       "        \"color\": {\n",
       "            \"inherit\": true\n",
       "        },\n",
       "        \"smooth\": {\n",
       "            \"enabled\": false,\n",
       "            \"type\": \"continuous\"\n",
       "        }\n",
       "    },\n",
       "    \"interaction\": {\n",
       "        \"dragNodes\": true,\n",
       "        \"hideEdgesOnDrag\": false,\n",
       "        \"hideNodesOnDrag\": false\n",
       "    },\n",
       "    \"physics\": {\n",
       "        \"enabled\": true,\n",
       "        \"stabilization\": {\n",
       "            \"enabled\": true,\n",
       "            \"fit\": true,\n",
       "            \"iterations\": 1000,\n",
       "            \"onlyDynamicEdges\": false,\n",
       "            \"updateInterval\": 50\n",
       "        }\n",
       "    }\n",
       "};\n",
       "        \n",
       "        \n",
       "\n",
       "        \n",
       "\n",
       "        network = new vis.Network(container, data, options);\n",
       "\n",
       "        \n",
       "\n",
       "\n",
       "        \n",
       "\n",
       "        return network;\n",
       "\n",
       "    }\n",
       "\n",
       "    drawGraph();\n",
       "\n",
       "</script>\n",
       "</body>\n",
       "</html>"
      ],
      "text/plain": [
       "<IPython.core.display.HTML object>"
      ]
     },
     "execution_count": 80,
     "metadata": {
      "tags": []
     },
     "output_type": "execute_result"
    }
   ],
   "source": [
    "g = NetworkViz(notebook=True, width=\"600px\")\n",
    "g.add_nodes(list(summary.source),\n",
    "            value=[x for x in summary.documents], # never 0, default 1\n",
    "            title=titles,\n",
    "            label=labels,\n",
    "            color=[\"#00ff1e\", \"#162347\", \"#dd4b39\", \"#00bfff\", \"#ffbf00\"])\n",
    "\n",
    "for x in json_links:\n",
    "  g.add_edge(x['from_source'], x['to_source'], \n",
    "             value=int(x['links']), \n",
    "             label=int(x['links']), \n",
    "             arrows=\"to\",\n",
    "             title=\"{} {} link to {} publications \".format(int(x['links']), x['from_source'], str(gridids)))\n",
    "\n",
    "g.show(\"example.html\")"
   ]
  },
  {
   "cell_type": "code",
   "execution_count": 0,
   "metadata": {
    "colab": {},
    "colab_type": "code",
    "id": "nq5ybuoHWwiL"
   },
   "outputs": [],
   "source": []
  }
 ],
 "metadata": {
  "colab": {
   "collapsed_sections": [],
   "name": "Dimensions-Statistics-for-any-org-v2.ipynb",
   "provenance": []
  },
  "kernelspec": {
   "display_name": "Python 3",
   "language": "python",
   "name": "python3"
  },
  "language_info": {
   "codemirror_mode": {
    "name": "ipython",
    "version": 3
   },
   "file_extension": ".py",
   "mimetype": "text/x-python",
   "name": "python",
   "nbconvert_exporter": "python",
   "pygments_lexer": "ipython3",
   "version": "3.7.4"
  },
  "widgets": {
   "application/vnd.jupyter.widget-state+json": {
    "05fefba74b2d4d2698a97d089002577f": {
     "model_module": "@jupyter-widgets/controls",
     "model_name": "HTMLModel",
     "state": {
      "_dom_classes": [],
      "_model_module": "@jupyter-widgets/controls",
      "_model_module_version": "1.5.0",
      "_model_name": "HTMLModel",
      "_view_count": null,
      "_view_module": "@jupyter-widgets/controls",
      "_view_module_version": "1.5.0",
      "_view_name": "HTMLView",
      "description": "",
      "description_tooltip": null,
      "layout": "IPY_MODEL_96a4c6f080814740bb5dacc29239fe86",
      "placeholder": "​",
      "style": "IPY_MODEL_653e21fb48fe480083dcd097b3e8931d",
      "value": "100% 1/1 [00:02&lt;00:00,  2.93s/it]"
     }
    },
    "06646f04e1ab4924a4936135c34fabc1": {
     "model_module": "@jupyter-widgets/controls",
     "model_name": "ProgressStyleModel",
     "state": {
      "_model_module": "@jupyter-widgets/controls",
      "_model_module_version": "1.5.0",
      "_model_name": "ProgressStyleModel",
      "_view_count": null,
      "_view_module": "@jupyter-widgets/base",
      "_view_module_version": "1.2.0",
      "_view_name": "StyleView",
      "bar_color": null,
      "description_width": "initial"
     }
    },
    "0c82aa08f55c4352acb67a15a0d1c41c": {
     "model_module": "@jupyter-widgets/controls",
     "model_name": "DescriptionStyleModel",
     "state": {
      "_model_module": "@jupyter-widgets/controls",
      "_model_module_version": "1.5.0",
      "_model_name": "DescriptionStyleModel",
      "_view_count": null,
      "_view_module": "@jupyter-widgets/base",
      "_view_module_version": "1.2.0",
      "_view_name": "StyleView",
      "description_width": ""
     }
    },
    "112f7b87291844b1a19b001fe9be774e": {
     "model_module": "@jupyter-widgets/base",
     "model_name": "LayoutModel",
     "state": {
      "_model_module": "@jupyter-widgets/base",
      "_model_module_version": "1.2.0",
      "_model_name": "LayoutModel",
      "_view_count": null,
      "_view_module": "@jupyter-widgets/base",
      "_view_module_version": "1.2.0",
      "_view_name": "LayoutView",
      "align_content": null,
      "align_items": null,
      "align_self": null,
      "border": null,
      "bottom": null,
      "display": null,
      "flex": null,
      "flex_flow": null,
      "grid_area": null,
      "grid_auto_columns": null,
      "grid_auto_flow": null,
      "grid_auto_rows": null,
      "grid_column": null,
      "grid_gap": null,
      "grid_row": null,
      "grid_template_areas": null,
      "grid_template_columns": null,
      "grid_template_rows": null,
      "height": null,
      "justify_content": null,
      "justify_items": null,
      "left": null,
      "margin": null,
      "max_height": null,
      "max_width": null,
      "min_height": null,
      "min_width": null,
      "object_fit": null,
      "object_position": null,
      "order": null,
      "overflow": null,
      "overflow_x": null,
      "overflow_y": null,
      "padding": null,
      "right": null,
      "top": null,
      "visibility": null,
      "width": null
     }
    },
    "208b5812a2194aab8a9b23d8c4a48909": {
     "model_module": "@jupyter-widgets/controls",
     "model_name": "IntProgressModel",
     "state": {
      "_dom_classes": [],
      "_model_module": "@jupyter-widgets/controls",
      "_model_module_version": "1.5.0",
      "_model_name": "IntProgressModel",
      "_view_count": null,
      "_view_module": "@jupyter-widgets/controls",
      "_view_module_version": "1.5.0",
      "_view_name": "ProgressView",
      "bar_style": "success",
      "description": "",
      "description_tooltip": null,
      "layout": "IPY_MODEL_112f7b87291844b1a19b001fe9be774e",
      "max": 1,
      "min": 0,
      "orientation": "horizontal",
      "style": "IPY_MODEL_9f876efc59974defb2c72e2337f56f39",
      "value": 1
     }
    },
    "24f1a9980f3b4d759ac6948b79452055": {
     "model_module": "@jupyter-widgets/base",
     "model_name": "LayoutModel",
     "state": {
      "_model_module": "@jupyter-widgets/base",
      "_model_module_version": "1.2.0",
      "_model_name": "LayoutModel",
      "_view_count": null,
      "_view_module": "@jupyter-widgets/base",
      "_view_module_version": "1.2.0",
      "_view_name": "LayoutView",
      "align_content": null,
      "align_items": null,
      "align_self": null,
      "border": null,
      "bottom": null,
      "display": null,
      "flex": null,
      "flex_flow": null,
      "grid_area": null,
      "grid_auto_columns": null,
      "grid_auto_flow": null,
      "grid_auto_rows": null,
      "grid_column": null,
      "grid_gap": null,
      "grid_row": null,
      "grid_template_areas": null,
      "grid_template_columns": null,
      "grid_template_rows": null,
      "height": null,
      "justify_content": null,
      "justify_items": null,
      "left": null,
      "margin": null,
      "max_height": null,
      "max_width": null,
      "min_height": null,
      "min_width": null,
      "object_fit": null,
      "object_position": null,
      "order": null,
      "overflow": null,
      "overflow_x": null,
      "overflow_y": null,
      "padding": null,
      "right": null,
      "top": null,
      "visibility": null,
      "width": null
     }
    },
    "43c9f73f11a6455fba180522356db7fb": {
     "model_module": "@jupyter-widgets/base",
     "model_name": "LayoutModel",
     "state": {
      "_model_module": "@jupyter-widgets/base",
      "_model_module_version": "1.2.0",
      "_model_name": "LayoutModel",
      "_view_count": null,
      "_view_module": "@jupyter-widgets/base",
      "_view_module_version": "1.2.0",
      "_view_name": "LayoutView",
      "align_content": null,
      "align_items": null,
      "align_self": null,
      "border": null,
      "bottom": null,
      "display": null,
      "flex": null,
      "flex_flow": null,
      "grid_area": null,
      "grid_auto_columns": null,
      "grid_auto_flow": null,
      "grid_auto_rows": null,
      "grid_column": null,
      "grid_gap": null,
      "grid_row": null,
      "grid_template_areas": null,
      "grid_template_columns": null,
      "grid_template_rows": null,
      "height": null,
      "justify_content": null,
      "justify_items": null,
      "left": null,
      "margin": null,
      "max_height": null,
      "max_width": null,
      "min_height": null,
      "min_width": null,
      "object_fit": null,
      "object_position": null,
      "order": null,
      "overflow": null,
      "overflow_x": null,
      "overflow_y": null,
      "padding": null,
      "right": null,
      "top": null,
      "visibility": null,
      "width": null
     }
    },
    "43fd8ccb68f0476eb06142dfda67e440": {
     "model_module": "@jupyter-widgets/controls",
     "model_name": "DescriptionStyleModel",
     "state": {
      "_model_module": "@jupyter-widgets/controls",
      "_model_module_version": "1.5.0",
      "_model_name": "DescriptionStyleModel",
      "_view_count": null,
      "_view_module": "@jupyter-widgets/base",
      "_view_module_version": "1.2.0",
      "_view_name": "StyleView",
      "description_width": ""
     }
    },
    "43fe435e46b540f3bd0f867bdbe472ae": {
     "model_module": "@jupyter-widgets/controls",
     "model_name": "DescriptionStyleModel",
     "state": {
      "_model_module": "@jupyter-widgets/controls",
      "_model_module_version": "1.5.0",
      "_model_name": "DescriptionStyleModel",
      "_view_count": null,
      "_view_module": "@jupyter-widgets/base",
      "_view_module_version": "1.2.0",
      "_view_name": "StyleView",
      "description_width": ""
     }
    },
    "4db1e418a8a54d42befb9136fd5ffb79": {
     "model_module": "@jupyter-widgets/base",
     "model_name": "LayoutModel",
     "state": {
      "_model_module": "@jupyter-widgets/base",
      "_model_module_version": "1.2.0",
      "_model_name": "LayoutModel",
      "_view_count": null,
      "_view_module": "@jupyter-widgets/base",
      "_view_module_version": "1.2.0",
      "_view_name": "LayoutView",
      "align_content": null,
      "align_items": null,
      "align_self": null,
      "border": null,
      "bottom": null,
      "display": null,
      "flex": null,
      "flex_flow": null,
      "grid_area": null,
      "grid_auto_columns": null,
      "grid_auto_flow": null,
      "grid_auto_rows": null,
      "grid_column": null,
      "grid_gap": null,
      "grid_row": null,
      "grid_template_areas": null,
      "grid_template_columns": null,
      "grid_template_rows": null,
      "height": null,
      "justify_content": null,
      "justify_items": null,
      "left": null,
      "margin": null,
      "max_height": null,
      "max_width": null,
      "min_height": null,
      "min_width": null,
      "object_fit": null,
      "object_position": null,
      "order": null,
      "overflow": null,
      "overflow_x": null,
      "overflow_y": null,
      "padding": null,
      "right": null,
      "top": null,
      "visibility": null,
      "width": null
     }
    },
    "4e70572f69c141b89ac29693fbea7868": {
     "model_module": "@jupyter-widgets/controls",
     "model_name": "IntProgressModel",
     "state": {
      "_dom_classes": [],
      "_model_module": "@jupyter-widgets/controls",
      "_model_module_version": "1.5.0",
      "_model_name": "IntProgressModel",
      "_view_count": null,
      "_view_module": "@jupyter-widgets/controls",
      "_view_module_version": "1.5.0",
      "_view_name": "ProgressView",
      "bar_style": "success",
      "description": "Extracting Total Count of Policy_documents",
      "description_tooltip": null,
      "layout": "IPY_MODEL_c91875c5e2f240089e7b12e943eed6e8",
      "max": 5,
      "min": 0,
      "orientation": "horizontal",
      "style": "IPY_MODEL_06646f04e1ab4924a4936135c34fabc1",
      "value": 5
     }
    },
    "50d17baadd4f435eb6ded77b23d268f5": {
     "model_module": "@jupyter-widgets/controls",
     "model_name": "HBoxModel",
     "state": {
      "_dom_classes": [],
      "_model_module": "@jupyter-widgets/controls",
      "_model_module_version": "1.5.0",
      "_model_name": "HBoxModel",
      "_view_count": null,
      "_view_module": "@jupyter-widgets/controls",
      "_view_module_version": "1.5.0",
      "_view_name": "HBoxView",
      "box_style": "",
      "children": [
       "IPY_MODEL_208b5812a2194aab8a9b23d8c4a48909",
       "IPY_MODEL_8886d298f597460e8d3d13267b803acd"
      ],
      "layout": "IPY_MODEL_bcd5ab6a589b4317acd1a7b5813c4f1f"
     }
    },
    "571214f11ba74614889b8e5f2a620c7e": {
     "model_module": "@jupyter-widgets/controls",
     "model_name": "HBoxModel",
     "state": {
      "_dom_classes": [],
      "_model_module": "@jupyter-widgets/controls",
      "_model_module_version": "1.5.0",
      "_model_name": "HBoxModel",
      "_view_count": null,
      "_view_module": "@jupyter-widgets/controls",
      "_view_module_version": "1.5.0",
      "_view_name": "HBoxView",
      "box_style": "",
      "children": [
       "IPY_MODEL_9fef66dac41d4877b6f5aced0f9d5158",
       "IPY_MODEL_05fefba74b2d4d2698a97d089002577f"
      ],
      "layout": "IPY_MODEL_abac0d4c0fc5458b93c388be52e5194b"
     }
    },
    "6011922a0185423d90008d3216a3f47a": {
     "model_module": "@jupyter-widgets/controls",
     "model_name": "ProgressStyleModel",
     "state": {
      "_model_module": "@jupyter-widgets/controls",
      "_model_module_version": "1.5.0",
      "_model_name": "ProgressStyleModel",
      "_view_count": null,
      "_view_module": "@jupyter-widgets/base",
      "_view_module_version": "1.2.0",
      "_view_name": "StyleView",
      "bar_color": null,
      "description_width": ""
     }
    },
    "62a975103d2244ca8ca9bc1f519fe8e6": {
     "model_module": "@jupyter-widgets/base",
     "model_name": "LayoutModel",
     "state": {
      "_model_module": "@jupyter-widgets/base",
      "_model_module_version": "1.2.0",
      "_model_name": "LayoutModel",
      "_view_count": null,
      "_view_module": "@jupyter-widgets/base",
      "_view_module_version": "1.2.0",
      "_view_name": "LayoutView",
      "align_content": null,
      "align_items": null,
      "align_self": null,
      "border": null,
      "bottom": null,
      "display": null,
      "flex": null,
      "flex_flow": null,
      "grid_area": null,
      "grid_auto_columns": null,
      "grid_auto_flow": null,
      "grid_auto_rows": null,
      "grid_column": null,
      "grid_gap": null,
      "grid_row": null,
      "grid_template_areas": null,
      "grid_template_columns": null,
      "grid_template_rows": null,
      "height": null,
      "justify_content": null,
      "justify_items": null,
      "left": null,
      "margin": null,
      "max_height": null,
      "max_width": null,
      "min_height": null,
      "min_width": null,
      "object_fit": null,
      "object_position": null,
      "order": null,
      "overflow": null,
      "overflow_x": null,
      "overflow_y": null,
      "padding": null,
      "right": null,
      "top": null,
      "visibility": null,
      "width": null
     }
    },
    "653e21fb48fe480083dcd097b3e8931d": {
     "model_module": "@jupyter-widgets/controls",
     "model_name": "DescriptionStyleModel",
     "state": {
      "_model_module": "@jupyter-widgets/controls",
      "_model_module_version": "1.5.0",
      "_model_name": "DescriptionStyleModel",
      "_view_count": null,
      "_view_module": "@jupyter-widgets/base",
      "_view_module_version": "1.2.0",
      "_view_name": "StyleView",
      "description_width": ""
     }
    },
    "6901ed08a73c40c78b652c933e4a831e": {
     "model_module": "@jupyter-widgets/controls",
     "model_name": "HTMLModel",
     "state": {
      "_dom_classes": [],
      "_model_module": "@jupyter-widgets/controls",
      "_model_module_version": "1.5.0",
      "_model_name": "HTMLModel",
      "_view_count": null,
      "_view_module": "@jupyter-widgets/controls",
      "_view_module_version": "1.5.0",
      "_view_name": "HTMLView",
      "description": "",
      "description_tooltip": null,
      "layout": "IPY_MODEL_43c9f73f11a6455fba180522356db7fb",
      "placeholder": "​",
      "style": "IPY_MODEL_43fe435e46b540f3bd0f867bdbe472ae",
      "value": "100% 1/1 [00:02&lt;00:00,  2.98s/it]"
     }
    },
    "8886d298f597460e8d3d13267b803acd": {
     "model_module": "@jupyter-widgets/controls",
     "model_name": "HTMLModel",
     "state": {
      "_dom_classes": [],
      "_model_module": "@jupyter-widgets/controls",
      "_model_module_version": "1.5.0",
      "_model_name": "HTMLModel",
      "_view_count": null,
      "_view_module": "@jupyter-widgets/controls",
      "_view_module_version": "1.5.0",
      "_view_name": "HTMLView",
      "description": "",
      "description_tooltip": null,
      "layout": "IPY_MODEL_62a975103d2244ca8ca9bc1f519fe8e6",
      "placeholder": "​",
      "style": "IPY_MODEL_0c82aa08f55c4352acb67a15a0d1c41c",
      "value": "100% 1/1 [00:03&lt;00:00,  3.00s/it]"
     }
    },
    "8c8a431f9d5e4e76a37fc256b35cb717": {
     "model_module": "@jupyter-widgets/controls",
     "model_name": "ProgressStyleModel",
     "state": {
      "_model_module": "@jupyter-widgets/controls",
      "_model_module_version": "1.5.0",
      "_model_name": "ProgressStyleModel",
      "_view_count": null,
      "_view_module": "@jupyter-widgets/base",
      "_view_module_version": "1.2.0",
      "_view_name": "StyleView",
      "bar_color": null,
      "description_width": ""
     }
    },
    "9108ba812c3c41f19b471f49b1317b0c": {
     "model_module": "@jupyter-widgets/controls",
     "model_name": "ProgressStyleModel",
     "state": {
      "_model_module": "@jupyter-widgets/controls",
      "_model_module_version": "1.5.0",
      "_model_name": "ProgressStyleModel",
      "_view_count": null,
      "_view_module": "@jupyter-widgets/base",
      "_view_module_version": "1.2.0",
      "_view_name": "StyleView",
      "bar_color": null,
      "description_width": ""
     }
    },
    "93c799498bc54a93ac891b7595cfc6c0": {
     "model_module": "@jupyter-widgets/controls",
     "model_name": "HTMLModel",
     "state": {
      "_dom_classes": [],
      "_model_module": "@jupyter-widgets/controls",
      "_model_module_version": "1.5.0",
      "_model_name": "HTMLModel",
      "_view_count": null,
      "_view_module": "@jupyter-widgets/controls",
      "_view_module_version": "1.5.0",
      "_view_name": "HTMLView",
      "description": "",
      "description_tooltip": null,
      "layout": "IPY_MODEL_9c25bd74714e4a1aa8d1a881da39cff4",
      "placeholder": "​",
      "style": "IPY_MODEL_43fd8ccb68f0476eb06142dfda67e440",
      "value": "100% 5/5 [00:10&lt;00:00,  2.03s/it]"
     }
    },
    "959a2bfdda2a49b481a034b7dae8c519": {
     "model_module": "@jupyter-widgets/controls",
     "model_name": "DescriptionStyleModel",
     "state": {
      "_model_module": "@jupyter-widgets/controls",
      "_model_module_version": "1.5.0",
      "_model_name": "DescriptionStyleModel",
      "_view_count": null,
      "_view_module": "@jupyter-widgets/base",
      "_view_module_version": "1.2.0",
      "_view_name": "StyleView",
      "description_width": ""
     }
    },
    "9669da1e0ea14fb2b51579bd9ecf984b": {
     "model_module": "@jupyter-widgets/controls",
     "model_name": "IntProgressModel",
     "state": {
      "_dom_classes": [],
      "_model_module": "@jupyter-widgets/controls",
      "_model_module_version": "1.5.0",
      "_model_name": "IntProgressModel",
      "_view_count": null,
      "_view_module": "@jupyter-widgets/controls",
      "_view_module_version": "1.5.0",
      "_view_name": "ProgressView",
      "bar_style": "success",
      "description": "",
      "description_tooltip": null,
      "layout": "IPY_MODEL_c85fa2f8662243269cf6182a57bb4992",
      "max": 1,
      "min": 0,
      "orientation": "horizontal",
      "style": "IPY_MODEL_8c8a431f9d5e4e76a37fc256b35cb717",
      "value": 1
     }
    },
    "96a4c6f080814740bb5dacc29239fe86": {
     "model_module": "@jupyter-widgets/base",
     "model_name": "LayoutModel",
     "state": {
      "_model_module": "@jupyter-widgets/base",
      "_model_module_version": "1.2.0",
      "_model_name": "LayoutModel",
      "_view_count": null,
      "_view_module": "@jupyter-widgets/base",
      "_view_module_version": "1.2.0",
      "_view_name": "LayoutView",
      "align_content": null,
      "align_items": null,
      "align_self": null,
      "border": null,
      "bottom": null,
      "display": null,
      "flex": null,
      "flex_flow": null,
      "grid_area": null,
      "grid_auto_columns": null,
      "grid_auto_flow": null,
      "grid_auto_rows": null,
      "grid_column": null,
      "grid_gap": null,
      "grid_row": null,
      "grid_template_areas": null,
      "grid_template_columns": null,
      "grid_template_rows": null,
      "height": null,
      "justify_content": null,
      "justify_items": null,
      "left": null,
      "margin": null,
      "max_height": null,
      "max_width": null,
      "min_height": null,
      "min_width": null,
      "object_fit": null,
      "object_position": null,
      "order": null,
      "overflow": null,
      "overflow_x": null,
      "overflow_y": null,
      "padding": null,
      "right": null,
      "top": null,
      "visibility": null,
      "width": null
     }
    },
    "9c25bd74714e4a1aa8d1a881da39cff4": {
     "model_module": "@jupyter-widgets/base",
     "model_name": "LayoutModel",
     "state": {
      "_model_module": "@jupyter-widgets/base",
      "_model_module_version": "1.2.0",
      "_model_name": "LayoutModel",
      "_view_count": null,
      "_view_module": "@jupyter-widgets/base",
      "_view_module_version": "1.2.0",
      "_view_name": "LayoutView",
      "align_content": null,
      "align_items": null,
      "align_self": null,
      "border": null,
      "bottom": null,
      "display": null,
      "flex": null,
      "flex_flow": null,
      "grid_area": null,
      "grid_auto_columns": null,
      "grid_auto_flow": null,
      "grid_auto_rows": null,
      "grid_column": null,
      "grid_gap": null,
      "grid_row": null,
      "grid_template_areas": null,
      "grid_template_columns": null,
      "grid_template_rows": null,
      "height": null,
      "justify_content": null,
      "justify_items": null,
      "left": null,
      "margin": null,
      "max_height": null,
      "max_width": null,
      "min_height": null,
      "min_width": null,
      "object_fit": null,
      "object_position": null,
      "order": null,
      "overflow": null,
      "overflow_x": null,
      "overflow_y": null,
      "padding": null,
      "right": null,
      "top": null,
      "visibility": null,
      "width": null
     }
    },
    "9f876efc59974defb2c72e2337f56f39": {
     "model_module": "@jupyter-widgets/controls",
     "model_name": "ProgressStyleModel",
     "state": {
      "_model_module": "@jupyter-widgets/controls",
      "_model_module_version": "1.5.0",
      "_model_name": "ProgressStyleModel",
      "_view_count": null,
      "_view_module": "@jupyter-widgets/base",
      "_view_module_version": "1.2.0",
      "_view_name": "StyleView",
      "bar_color": null,
      "description_width": ""
     }
    },
    "9fef66dac41d4877b6f5aced0f9d5158": {
     "model_module": "@jupyter-widgets/controls",
     "model_name": "IntProgressModel",
     "state": {
      "_dom_classes": [],
      "_model_module": "@jupyter-widgets/controls",
      "_model_module_version": "1.5.0",
      "_model_name": "IntProgressModel",
      "_view_count": null,
      "_view_module": "@jupyter-widgets/controls",
      "_view_module_version": "1.5.0",
      "_view_name": "ProgressView",
      "bar_style": "success",
      "description": "",
      "description_tooltip": null,
      "layout": "IPY_MODEL_a157eed16f2f4910a3b5e495b22097f4",
      "max": 1,
      "min": 0,
      "orientation": "horizontal",
      "style": "IPY_MODEL_6011922a0185423d90008d3216a3f47a",
      "value": 1
     }
    },
    "a157eed16f2f4910a3b5e495b22097f4": {
     "model_module": "@jupyter-widgets/base",
     "model_name": "LayoutModel",
     "state": {
      "_model_module": "@jupyter-widgets/base",
      "_model_module_version": "1.2.0",
      "_model_name": "LayoutModel",
      "_view_count": null,
      "_view_module": "@jupyter-widgets/base",
      "_view_module_version": "1.2.0",
      "_view_name": "LayoutView",
      "align_content": null,
      "align_items": null,
      "align_self": null,
      "border": null,
      "bottom": null,
      "display": null,
      "flex": null,
      "flex_flow": null,
      "grid_area": null,
      "grid_auto_columns": null,
      "grid_auto_flow": null,
      "grid_auto_rows": null,
      "grid_column": null,
      "grid_gap": null,
      "grid_row": null,
      "grid_template_areas": null,
      "grid_template_columns": null,
      "grid_template_rows": null,
      "height": null,
      "justify_content": null,
      "justify_items": null,
      "left": null,
      "margin": null,
      "max_height": null,
      "max_width": null,
      "min_height": null,
      "min_width": null,
      "object_fit": null,
      "object_position": null,
      "order": null,
      "overflow": null,
      "overflow_x": null,
      "overflow_y": null,
      "padding": null,
      "right": null,
      "top": null,
      "visibility": null,
      "width": null
     }
    },
    "a4f2ba2a18d9446cbb361480d0d79f20": {
     "model_module": "@jupyter-widgets/controls",
     "model_name": "IntProgressModel",
     "state": {
      "_dom_classes": [],
      "_model_module": "@jupyter-widgets/controls",
      "_model_module_version": "1.5.0",
      "_model_name": "IntProgressModel",
      "_view_count": null,
      "_view_module": "@jupyter-widgets/controls",
      "_view_module_version": "1.5.0",
      "_view_name": "ProgressView",
      "bar_style": "success",
      "description": "",
      "description_tooltip": null,
      "layout": "IPY_MODEL_c92e492d3ee84f18a60ec3e85f234f7d",
      "max": 1,
      "min": 0,
      "orientation": "horizontal",
      "style": "IPY_MODEL_9108ba812c3c41f19b471f49b1317b0c",
      "value": 1
     }
    },
    "abac0d4c0fc5458b93c388be52e5194b": {
     "model_module": "@jupyter-widgets/base",
     "model_name": "LayoutModel",
     "state": {
      "_model_module": "@jupyter-widgets/base",
      "_model_module_version": "1.2.0",
      "_model_name": "LayoutModel",
      "_view_count": null,
      "_view_module": "@jupyter-widgets/base",
      "_view_module_version": "1.2.0",
      "_view_name": "LayoutView",
      "align_content": null,
      "align_items": null,
      "align_self": null,
      "border": null,
      "bottom": null,
      "display": null,
      "flex": null,
      "flex_flow": null,
      "grid_area": null,
      "grid_auto_columns": null,
      "grid_auto_flow": null,
      "grid_auto_rows": null,
      "grid_column": null,
      "grid_gap": null,
      "grid_row": null,
      "grid_template_areas": null,
      "grid_template_columns": null,
      "grid_template_rows": null,
      "height": null,
      "justify_content": null,
      "justify_items": null,
      "left": null,
      "margin": null,
      "max_height": null,
      "max_width": null,
      "min_height": null,
      "min_width": null,
      "object_fit": null,
      "object_position": null,
      "order": null,
      "overflow": null,
      "overflow_x": null,
      "overflow_y": null,
      "padding": null,
      "right": null,
      "top": null,
      "visibility": null,
      "width": null
     }
    },
    "bcd5ab6a589b4317acd1a7b5813c4f1f": {
     "model_module": "@jupyter-widgets/base",
     "model_name": "LayoutModel",
     "state": {
      "_model_module": "@jupyter-widgets/base",
      "_model_module_version": "1.2.0",
      "_model_name": "LayoutModel",
      "_view_count": null,
      "_view_module": "@jupyter-widgets/base",
      "_view_module_version": "1.2.0",
      "_view_name": "LayoutView",
      "align_content": null,
      "align_items": null,
      "align_self": null,
      "border": null,
      "bottom": null,
      "display": null,
      "flex": null,
      "flex_flow": null,
      "grid_area": null,
      "grid_auto_columns": null,
      "grid_auto_flow": null,
      "grid_auto_rows": null,
      "grid_column": null,
      "grid_gap": null,
      "grid_row": null,
      "grid_template_areas": null,
      "grid_template_columns": null,
      "grid_template_rows": null,
      "height": null,
      "justify_content": null,
      "justify_items": null,
      "left": null,
      "margin": null,
      "max_height": null,
      "max_width": null,
      "min_height": null,
      "min_width": null,
      "object_fit": null,
      "object_position": null,
      "order": null,
      "overflow": null,
      "overflow_x": null,
      "overflow_y": null,
      "padding": null,
      "right": null,
      "top": null,
      "visibility": null,
      "width": null
     }
    },
    "c7ae99f5db894f6bbe7d30b4087979b8": {
     "model_module": "@jupyter-widgets/controls",
     "model_name": "HBoxModel",
     "state": {
      "_dom_classes": [],
      "_model_module": "@jupyter-widgets/controls",
      "_model_module_version": "1.5.0",
      "_model_name": "HBoxModel",
      "_view_count": null,
      "_view_module": "@jupyter-widgets/controls",
      "_view_module_version": "1.5.0",
      "_view_name": "HBoxView",
      "box_style": "",
      "children": [
       "IPY_MODEL_4e70572f69c141b89ac29693fbea7868",
       "IPY_MODEL_93c799498bc54a93ac891b7595cfc6c0"
      ],
      "layout": "IPY_MODEL_d393e5bd122d403fabea33ed41d1b2ec"
     }
    },
    "c85fa2f8662243269cf6182a57bb4992": {
     "model_module": "@jupyter-widgets/base",
     "model_name": "LayoutModel",
     "state": {
      "_model_module": "@jupyter-widgets/base",
      "_model_module_version": "1.2.0",
      "_model_name": "LayoutModel",
      "_view_count": null,
      "_view_module": "@jupyter-widgets/base",
      "_view_module_version": "1.2.0",
      "_view_name": "LayoutView",
      "align_content": null,
      "align_items": null,
      "align_self": null,
      "border": null,
      "bottom": null,
      "display": null,
      "flex": null,
      "flex_flow": null,
      "grid_area": null,
      "grid_auto_columns": null,
      "grid_auto_flow": null,
      "grid_auto_rows": null,
      "grid_column": null,
      "grid_gap": null,
      "grid_row": null,
      "grid_template_areas": null,
      "grid_template_columns": null,
      "grid_template_rows": null,
      "height": null,
      "justify_content": null,
      "justify_items": null,
      "left": null,
      "margin": null,
      "max_height": null,
      "max_width": null,
      "min_height": null,
      "min_width": null,
      "object_fit": null,
      "object_position": null,
      "order": null,
      "overflow": null,
      "overflow_x": null,
      "overflow_y": null,
      "padding": null,
      "right": null,
      "top": null,
      "visibility": null,
      "width": null
     }
    },
    "c91875c5e2f240089e7b12e943eed6e8": {
     "model_module": "@jupyter-widgets/base",
     "model_name": "LayoutModel",
     "state": {
      "_model_module": "@jupyter-widgets/base",
      "_model_module_version": "1.2.0",
      "_model_name": "LayoutModel",
      "_view_count": null,
      "_view_module": "@jupyter-widgets/base",
      "_view_module_version": "1.2.0",
      "_view_name": "LayoutView",
      "align_content": null,
      "align_items": null,
      "align_self": null,
      "border": null,
      "bottom": null,
      "display": null,
      "flex": null,
      "flex_flow": null,
      "grid_area": null,
      "grid_auto_columns": null,
      "grid_auto_flow": null,
      "grid_auto_rows": null,
      "grid_column": null,
      "grid_gap": null,
      "grid_row": null,
      "grid_template_areas": null,
      "grid_template_columns": null,
      "grid_template_rows": null,
      "height": null,
      "justify_content": null,
      "justify_items": null,
      "left": null,
      "margin": null,
      "max_height": null,
      "max_width": null,
      "min_height": null,
      "min_width": null,
      "object_fit": null,
      "object_position": null,
      "order": null,
      "overflow": null,
      "overflow_x": null,
      "overflow_y": null,
      "padding": null,
      "right": null,
      "top": null,
      "visibility": null,
      "width": null
     }
    },
    "c92e492d3ee84f18a60ec3e85f234f7d": {
     "model_module": "@jupyter-widgets/base",
     "model_name": "LayoutModel",
     "state": {
      "_model_module": "@jupyter-widgets/base",
      "_model_module_version": "1.2.0",
      "_model_name": "LayoutModel",
      "_view_count": null,
      "_view_module": "@jupyter-widgets/base",
      "_view_module_version": "1.2.0",
      "_view_name": "LayoutView",
      "align_content": null,
      "align_items": null,
      "align_self": null,
      "border": null,
      "bottom": null,
      "display": null,
      "flex": null,
      "flex_flow": null,
      "grid_area": null,
      "grid_auto_columns": null,
      "grid_auto_flow": null,
      "grid_auto_rows": null,
      "grid_column": null,
      "grid_gap": null,
      "grid_row": null,
      "grid_template_areas": null,
      "grid_template_columns": null,
      "grid_template_rows": null,
      "height": null,
      "justify_content": null,
      "justify_items": null,
      "left": null,
      "margin": null,
      "max_height": null,
      "max_width": null,
      "min_height": null,
      "min_width": null,
      "object_fit": null,
      "object_position": null,
      "order": null,
      "overflow": null,
      "overflow_x": null,
      "overflow_y": null,
      "padding": null,
      "right": null,
      "top": null,
      "visibility": null,
      "width": null
     }
    },
    "cfbab292150743ddaa695bf566ffd182": {
     "model_module": "@jupyter-widgets/controls",
     "model_name": "HTMLModel",
     "state": {
      "_dom_classes": [],
      "_model_module": "@jupyter-widgets/controls",
      "_model_module_version": "1.5.0",
      "_model_name": "HTMLModel",
      "_view_count": null,
      "_view_module": "@jupyter-widgets/controls",
      "_view_module_version": "1.5.0",
      "_view_name": "HTMLView",
      "description": "",
      "description_tooltip": null,
      "layout": "IPY_MODEL_dd642898d52b4883b93ccc674ad3b502",
      "placeholder": "​",
      "style": "IPY_MODEL_959a2bfdda2a49b481a034b7dae8c519",
      "value": "100% 1/1 [00:02&lt;00:00,  2.93s/it]"
     }
    },
    "d393e5bd122d403fabea33ed41d1b2ec": {
     "model_module": "@jupyter-widgets/base",
     "model_name": "LayoutModel",
     "state": {
      "_model_module": "@jupyter-widgets/base",
      "_model_module_version": "1.2.0",
      "_model_name": "LayoutModel",
      "_view_count": null,
      "_view_module": "@jupyter-widgets/base",
      "_view_module_version": "1.2.0",
      "_view_name": "LayoutView",
      "align_content": null,
      "align_items": null,
      "align_self": null,
      "border": null,
      "bottom": null,
      "display": null,
      "flex": null,
      "flex_flow": null,
      "grid_area": null,
      "grid_auto_columns": null,
      "grid_auto_flow": null,
      "grid_auto_rows": null,
      "grid_column": null,
      "grid_gap": null,
      "grid_row": null,
      "grid_template_areas": null,
      "grid_template_columns": null,
      "grid_template_rows": null,
      "height": null,
      "justify_content": null,
      "justify_items": null,
      "left": null,
      "margin": null,
      "max_height": null,
      "max_width": null,
      "min_height": null,
      "min_width": null,
      "object_fit": null,
      "object_position": null,
      "order": null,
      "overflow": null,
      "overflow_x": null,
      "overflow_y": null,
      "padding": null,
      "right": null,
      "top": null,
      "visibility": null,
      "width": null
     }
    },
    "dd642898d52b4883b93ccc674ad3b502": {
     "model_module": "@jupyter-widgets/base",
     "model_name": "LayoutModel",
     "state": {
      "_model_module": "@jupyter-widgets/base",
      "_model_module_version": "1.2.0",
      "_model_name": "LayoutModel",
      "_view_count": null,
      "_view_module": "@jupyter-widgets/base",
      "_view_module_version": "1.2.0",
      "_view_name": "LayoutView",
      "align_content": null,
      "align_items": null,
      "align_self": null,
      "border": null,
      "bottom": null,
      "display": null,
      "flex": null,
      "flex_flow": null,
      "grid_area": null,
      "grid_auto_columns": null,
      "grid_auto_flow": null,
      "grid_auto_rows": null,
      "grid_column": null,
      "grid_gap": null,
      "grid_row": null,
      "grid_template_areas": null,
      "grid_template_columns": null,
      "grid_template_rows": null,
      "height": null,
      "justify_content": null,
      "justify_items": null,
      "left": null,
      "margin": null,
      "max_height": null,
      "max_width": null,
      "min_height": null,
      "min_width": null,
      "object_fit": null,
      "object_position": null,
      "order": null,
      "overflow": null,
      "overflow_x": null,
      "overflow_y": null,
      "padding": null,
      "right": null,
      "top": null,
      "visibility": null,
      "width": null
     }
    },
    "dde11ae759734920aff09adc9da1c6af": {
     "model_module": "@jupyter-widgets/controls",
     "model_name": "HBoxModel",
     "state": {
      "_dom_classes": [],
      "_model_module": "@jupyter-widgets/controls",
      "_model_module_version": "1.5.0",
      "_model_name": "HBoxModel",
      "_view_count": null,
      "_view_module": "@jupyter-widgets/controls",
      "_view_module_version": "1.5.0",
      "_view_name": "HBoxView",
      "box_style": "",
      "children": [
       "IPY_MODEL_a4f2ba2a18d9446cbb361480d0d79f20",
       "IPY_MODEL_cfbab292150743ddaa695bf566ffd182"
      ],
      "layout": "IPY_MODEL_24f1a9980f3b4d759ac6948b79452055"
     }
    },
    "f5ff2f63b169474bbffa3a47068cbf97": {
     "model_module": "@jupyter-widgets/controls",
     "model_name": "HBoxModel",
     "state": {
      "_dom_classes": [],
      "_model_module": "@jupyter-widgets/controls",
      "_model_module_version": "1.5.0",
      "_model_name": "HBoxModel",
      "_view_count": null,
      "_view_module": "@jupyter-widgets/controls",
      "_view_module_version": "1.5.0",
      "_view_name": "HBoxView",
      "box_style": "",
      "children": [
       "IPY_MODEL_9669da1e0ea14fb2b51579bd9ecf984b",
       "IPY_MODEL_6901ed08a73c40c78b652c933e4a831e"
      ],
      "layout": "IPY_MODEL_4db1e418a8a54d42befb9136fd5ffb79"
     }
    }
   }
  }
 },
 "nbformat": 4,
 "nbformat_minor": 0
}
