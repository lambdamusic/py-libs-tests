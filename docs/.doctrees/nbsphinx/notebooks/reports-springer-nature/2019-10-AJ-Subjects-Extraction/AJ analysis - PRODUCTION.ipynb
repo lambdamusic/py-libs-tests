{
 "cells": [
  {
   "cell_type": "markdown",
   "metadata": {
    "colab_type": "text",
    "id": "Ncq2KiwUygYF"
   },
   "source": [
    "# Subject Mapping Extractions for Springer Nature\n",
    "\n",
    "This notebook allows to select an FOR code (subject area) and a time span to produce CSV reports for the following areas: Data Competitors, Data Growth, Data Top Target Institutions and Data Top Countries. The reports are based on the [spreadsheet](https://drive.google.com/open?id=1La_GWhzw1ReFL3biYLIL_K7qMUWxXX_B) used by the SN team programmatically, as documented in the [Data Request Specs](https://docs.google.com/document/d/1haAj3SpraxzNLLOcF7_TBfrQ7chFWyRp70SueFeCPDg/edit). \n",
    "\n"
   ]
  },
  {
   "cell_type": "markdown",
   "metadata": {
    "colab_type": "text",
    "id": "GGq-3TddKt3F"
   },
   "source": [
    "## 1. Log into the Dimensions API\n",
    "\n",
    "This step needs to be run each time the notebooks gets re-loaded, as it sets up the API connection with the Dimensions back end. "
   ]
  },
  {
   "cell_type": "code",
   "execution_count": 1,
   "metadata": {
    "cellView": "form",
    "colab": {},
    "colab_type": "code",
    "id": "xoMtveUE6eIH"
   },
   "outputs": [
    {
     "name": "stdout",
     "output_type": "stream",
     "text": [
      "\u001b[33mWARNING: You are using pip version 20.1.1; however, version 20.2.2 is available.\r\n",
      "You should consider upgrading via the '/Users/michele.pasin/Envs/dslqa/bin/python -m pip install --upgrade pip' command.\u001b[0m\r\n"
     ]
    },
    {
     "name": "stdout",
     "output_type": "stream",
     "text": [
      "\u001b[2mDimcli - Dimensions API Client (v0.7.3)\u001b[0m\n"
     ]
    },
    {
     "name": "stdout",
     "output_type": "stream",
     "text": [
      "\u001b[2mConnected to: https://app.dimensions.ai - DSL v1.26\u001b[0m\n"
     ]
    },
    {
     "name": "stdout",
     "output_type": "stream",
     "text": [
      "\u001b[2mMethod: dsl.ini file\u001b[0m\n"
     ]
    }
   ],
   "source": [
    "username = \"\"  #@param {type: \"string\"}\n",
    "password = \"\"  #@param {type: \"string\"}\n",
    "endpoint = \"https://sn-insights.dimensions.ai\"  #@param {type: \"string\"}\n",
    "\n",
    "#\n",
    "#\n",
    "#\n",
    "!pip install dimcli -U --quiet \n",
    "import dimcli\n",
    "import pandas as pd\n",
    "import time\n",
    "import os\n",
    "from datetime import datetime\n",
    "dimcli.login(username, password, endpoint)\n",
    "dsl = dimcli.Dsl()\n",
    "#\n",
    "#\n",
    "#"
   ]
  },
  {
   "cell_type": "markdown",
   "metadata": {
    "colab_type": "text",
    "id": "WtFMuxXpJkcy"
   },
   "source": [
    "## 2. Select Subjects and Extract Data \n",
    "\n",
    "Pick a year range and one or more subjects from the [FOR categories](https://sn-insights.dimensions.ai/browse/publication/for?and_facet_open_access_status_analytics). \n",
    "\n",
    "If you want only one subject, leave the second one to 'None'. \n",
    "\n",
    "If two subjects are selected, the value in the 'connector' field determine the query semantics: OR = any of the two subjects should match results; AND = both of the subjects should match the results. "
   ]
  },
  {
   "cell_type": "code",
   "execution_count": 2,
   "metadata": {
    "cellView": "form",
    "colab": {},
    "colab_type": "code",
    "id": "d3Rjr2r6Jw2W"
   },
   "outputs": [
    {
     "name": "stdout",
     "output_type": "stream",
     "text": [
      "*****\n",
      "*****\n",
      "Selection:\n",
      "subject1: 0911 Maritime Engineering\n",
      "subject2: None       \n",
      "connector: or\n",
      "years: 2015 - 2019\n",
      "*****\n",
      "*****\n",
      "\n",
      "\n",
      "===\n",
      "Data Competitors\n",
      "===\n",
      "...extracting data..\n",
      "\n"
     ]
    },
    {
     "name": "stdout",
     "output_type": "stream",
     "text": [
      "Returned Publisher: 363\n",
      "\u001b[2mTime: 0.5762450695037842s\u001b[0m\n"
     ]
    },
    {
     "name": "stdout",
     "output_type": "stream",
     "text": [
      "\n",
      "..saved file 'DataCompetitor_0911_Maritime_Engineering_2015_2019.csv\n",
      "\n",
      "===\n",
      "Data Growth\n",
      "===\n",
      "...extracting data..\n",
      "\n"
     ]
    },
    {
     "name": "stdout",
     "output_type": "stream",
     "text": [
      "Returned Open_access_categories: 8\n",
      "\u001b[2mTime: 0.4623579978942871s\u001b[0m\n"
     ]
    },
    {
     "name": "stdout",
     "output_type": "stream",
     "text": [
      "Returned Open_access_categories: 8\n",
      "\u001b[2mTime: 0.4586679935455322s\u001b[0m\n"
     ]
    },
    {
     "name": "stdout",
     "output_type": "stream",
     "text": [
      "Returned Open_access_categories: 8\n",
      "\u001b[2mTime: 0.5330080986022949s\u001b[0m\n"
     ]
    },
    {
     "name": "stdout",
     "output_type": "stream",
     "text": [
      "Returned Open_access_categories: 8\n",
      "\u001b[2mTime: 0.459669828414917s\u001b[0m\n"
     ]
    },
    {
     "name": "stdout",
     "output_type": "stream",
     "text": [
      "Returned Open_access_categories: 8\n",
      "\u001b[2mTime: 0.4826529026031494s\u001b[0m\n"
     ]
    },
    {
     "name": "stdout",
     "output_type": "stream",
     "text": [
      "\n",
      "..saved file 'DataGrowth_0911_Maritime_Engineering_2015_2019.csv\n",
      "\n",
      "===\n",
      "Data Top Target Institutions\n",
      "===\n",
      "...extracting data..\n",
      "\n"
     ]
    },
    {
     "name": "stdout",
     "output_type": "stream",
     "text": [
      "Returned Funders: 630\n",
      "\u001b[2mTime: 5.140094041824341s\u001b[0m\n"
     ]
    },
    {
     "name": "stdout",
     "output_type": "stream",
     "text": [
      "Returned Research_orgs: 1000\n",
      "\u001b[2mTime: 5.861432075500488s\u001b[0m\n"
     ]
    },
    {
     "name": "stdout",
     "output_type": "stream",
     "text": [
      "Returned Research_orgs: 1000\n",
      "\u001b[2mTime: 0.7586140632629395s\u001b[0m\n"
     ]
    },
    {
     "name": "stdout",
     "output_type": "stream",
     "text": [
      "\n",
      "..saved file 'DataTopTargetInstitutions_0911_Maritime_Engineering_2015_2019.csv\n",
      "\n",
      "===\n",
      "Data Top Countries\n",
      "===\n",
      "...extracting data..\n",
      "\n"
     ]
    },
    {
     "name": "stdout",
     "output_type": "stream",
     "text": [
      "Returned Research_org_countries: 140\n",
      "\u001b[2mTime: 0.618520975112915s\u001b[0m\n"
     ]
    },
    {
     "name": "stdout",
     "output_type": "stream",
     "text": [
      "Returned Research_org_countries: 52\n",
      "\u001b[2mTime: 0.4871039390563965s\u001b[0m\n"
     ]
    },
    {
     "name": "stdout",
     "output_type": "stream",
     "text": [
      "WARNINGS [1]\n",
      "Field 'FOR' is deprecated in favor of category_for. Please refer to https://docs.dimensions.ai/dsl/releasenotes.html for more details\n",
      "\n",
      "..saved file 'DataTopCountries_0911_Maritime_Engineering_2015_2019.csv\n",
      "\n",
      "===\n",
      "Zipping up and downloading...\n",
      "\n"
     ]
    },
    {
     "ename": "ModuleNotFoundError",
     "evalue": "No module named 'google'",
     "output_type": "error",
     "traceback": [
      "\u001b[0;31m---------------------------------------------------------------------------\u001b[0m",
      "\u001b[0;31mModuleNotFoundError\u001b[0m                       Traceback (most recent call last)",
      "\u001b[0;32m<ipython-input-2-6e3ddddf6acd>\u001b[0m in \u001b[0;36m<module>\u001b[0;34m\u001b[0m\n\u001b[1;32m    242\u001b[0m \u001b[0;34m\u001b[0m\u001b[0m\n\u001b[1;32m    243\u001b[0m \u001b[0;32mimport\u001b[0m \u001b[0mzipfile\u001b[0m\u001b[0;34m\u001b[0m\u001b[0;34m\u001b[0m\u001b[0m\n\u001b[0;32m--> 244\u001b[0;31m \u001b[0;32mfrom\u001b[0m \u001b[0mgoogle\u001b[0m\u001b[0;34m.\u001b[0m\u001b[0mcolab\u001b[0m \u001b[0;32mimport\u001b[0m \u001b[0mfiles\u001b[0m\u001b[0;34m\u001b[0m\u001b[0;34m\u001b[0m\u001b[0m\n\u001b[0m\u001b[1;32m    245\u001b[0m \u001b[0;34m\u001b[0m\u001b[0m\n\u001b[1;32m    246\u001b[0m \u001b[0;32mdef\u001b[0m \u001b[0mzipdir\u001b[0m\u001b[0;34m(\u001b[0m\u001b[0mpath\u001b[0m\u001b[0;34m,\u001b[0m \u001b[0mziph\u001b[0m\u001b[0;34m)\u001b[0m\u001b[0;34m:\u001b[0m\u001b[0;34m\u001b[0m\u001b[0;34m\u001b[0m\u001b[0m\n",
      "\u001b[0;31mModuleNotFoundError\u001b[0m: No module named 'google'"
     ]
    }
   ],
   "source": [
    "\n",
    "###################\n",
    "#\n",
    "# 1. SUBJECTS SELECTIONS AND SETTINGS \n",
    "#\n",
    "###################\n",
    "\n",
    "\n",
    "\n",
    "# tip \n",
    "# the subjects dropdown can be generated via \n",
    "# `str([\"%s\" % s for s in  sorted(dimcli.G.categories('category_for')) if len(s.split()[0]) > 2])`\n",
    "#\n",
    "\n",
    "start_year = 2015  #@param {type: \"slider\", min: 1980, max: 2020}\n",
    "end_year = 2019  #@param {type: \"slider\", min: 1980, max: 2020}\n",
    "subject1 = \"0911 Maritime Engineering\"  #@param ['0101 Pure Mathematics', '0102 Applied Mathematics', '0103 Numerical and Computational Mathematics', '0104 Statistics', '0105 Mathematical Physics', '0201 Astronomical and Space Sciences', '0202 Atomic, Molecular, Nuclear, Particle and Plasma Physics', '0203 Classical Physics', '0204 Condensed Matter Physics', '0205 Optical Physics', '0206 Quantum Physics', '0299 Other Physical Sciences', '0301 Analytical Chemistry', '0302 Inorganic Chemistry', '0303 Macromolecular and Materials Chemistry', '0304 Medicinal and Biomolecular Chemistry', '0305 Organic Chemistry', '0306 Physical Chemistry (incl. Structural)', '0307 Theoretical and Computational Chemistry', '0399 Other Chemical Sciences', '0401 Atmospheric Sciences', '0402 Geochemistry', '0403 Geology', '0404 Geophysics', '0405 Oceanography', '0406 Physical Geography and Environmental Geoscience', '0499 Other Earth Sciences', '0501 Ecological Applications', '0502 Environmental Science and Management', '0503 Soil Sciences', '0599 Other Environmental Sciences', '0601 Biochemistry and Cell Biology', '0602 Ecology', '0603 Evolutionary Biology', '0604 Genetics', '0605 Microbiology', '0606 Physiology', '0607 Plant Biology', '0608 Zoology', '0699 Other Biological Sciences', '0701 Agriculture, Land and Farm Management', '0702 Animal Production', '0703 Crop and Pasture Production', '0704 Fisheries Sciences', '0705 Forestry Sciences', '0706 Horticultural Production', '0707 Veterinary Sciences', '0799 Other Agricultural and Veterinary Sciences', '0801 Artificial Intelligence and Image Processing', '0802 Computation Theory and Mathematics', '0803 Computer Software', '0804 Data Format', '0805 Distributed Computing', '0806 Information Systems', '0807 Library and Information Studies', '0899 Other Information and Computing Sciences', '0901 Aerospace Engineering', '0902 Automotive Engineering', '0903 Biomedical Engineering', '0904 Chemical Engineering', '0905 Civil Engineering', '0906 Electrical and Electronic Engineering', '0907 Environmental Engineering', '0908 Food Sciences', '0909 Geomatic Engineering', '0910 Manufacturing Engineering', '0911 Maritime Engineering', '0912 Materials Engineering', '0913 Mechanical Engineering', '0914 Resources Engineering and Extractive Metallurgy', '0915 Interdisciplinary Engineering', '0999 Other Engineering', '1001 Agricultural Biotechnology', '1002 Environmental Biotechnology', '1003 Industrial Biotechnology', '1004 Medical Biotechnology', '1005 Communications Technologies', '1006 Computer Hardware', '1007 Nanotechnology', '1099 Other Technology', '1101 Medical Biochemistry and Metabolomics', '1102 Cardiorespiratory Medicine and Haematology', '1103 Clinical Sciences', '1104 Complementary and Alternative Medicine', '1105 Dentistry', '1106 Human Movement and Sports Science', '1107 Immunology', '1108 Medical Microbiology', '1109 Neurosciences', '1110 Nursing', '1111 Nutrition and Dietetics', '1112 Oncology and Carcinogenesis', '1113 Ophthalmology and Optometry', '1114 Paediatrics and Reproductive Medicine', '1115 Pharmacology and Pharmaceutical Sciences', '1116 Medical Physiology', '1117 Public Health and Health Services', '1199 Other Medical and Health Sciences', '1201 Architecture', '1202 Building', '1203 Design Practice and Management', '1205 Urban and Regional Planning', '1299 Other Built Environment and Design', '1301 Education Systems', '1302 Curriculum and Pedagogy', '1303 Specialist Studies In Education', '1399 Other Education', '1401 Economic Theory', '1402 Applied Economics', '1403 Econometrics', '1499 Other Economics', '1501 Accounting, Auditing and Accountability', '1502 Banking, Finance and Investment', '1503 Business and Management', '1504 Commercial Services', '1505 Marketing', '1506 Tourism', '1507 Transportation and Freight Services', '1601 Anthropology', '1602 Criminology', '1603 Demography', '1604 Human Geography', '1605 Policy and Administration', '1606 Political Science', '1607 Social Work', '1608 Sociology', '1699 Other Studies In Human Society', '1701 Psychology', '1702 Cognitive Sciences', '1799 Other Psychology and Cognitive Sciences', '1801 Law', '1899 Other Law and Legal Studies', '1901 Art Theory and Criticism', '1902 Film, Television and Digital Media', '1903 Journalism and Professional Writing', '1904 Performing Arts and Creative Writing', '1905 Visual Arts and Crafts', '1999 Other Studies In Creative Arts and Writing', '2001 Communication and Media Studies', '2002 Cultural Studies', '2003 Language Studies', '2004 Linguistics', '2005 Literary Studies', '2099 Other Language, Communication and Culture', '2101 Archaeology', '2102 Curatorial and Related Studies', '2103 Historical Studies', '2199 Other History and Archaeology', '2201 Applied Ethics', '2202 History and Philosophy of Specific Fields', '2203 Philosophy', '2204 Religion and Religious Studies', '2299 Other Philosophy and Religious Studies']\n",
    "subject2 = \"None\"  #@param ['None', '0101 Pure Mathematics', '0102 Applied Mathematics', '0103 Numerical and Computational Mathematics', '0104 Statistics', '0105 Mathematical Physics', '0201 Astronomical and Space Sciences', '0202 Atomic, Molecular, Nuclear, Particle and Plasma Physics', '0203 Classical Physics', '0204 Condensed Matter Physics', '0205 Optical Physics', '0206 Quantum Physics', '0299 Other Physical Sciences', '0301 Analytical Chemistry', '0302 Inorganic Chemistry', '0303 Macromolecular and Materials Chemistry', '0304 Medicinal and Biomolecular Chemistry', '0305 Organic Chemistry', '0306 Physical Chemistry (incl. Structural)', '0307 Theoretical and Computational Chemistry', '0399 Other Chemical Sciences', '0401 Atmospheric Sciences', '0402 Geochemistry', '0403 Geology', '0404 Geophysics', '0405 Oceanography', '0406 Physical Geography and Environmental Geoscience', '0499 Other Earth Sciences', '0501 Ecological Applications', '0502 Environmental Science and Management', '0503 Soil Sciences', '0599 Other Environmental Sciences', '0601 Biochemistry and Cell Biology', '0602 Ecology', '0603 Evolutionary Biology', '0604 Genetics', '0605 Microbiology', '0606 Physiology', '0607 Plant Biology', '0608 Zoology', '0699 Other Biological Sciences', '0701 Agriculture, Land and Farm Management', '0702 Animal Production', '0703 Crop and Pasture Production', '0704 Fisheries Sciences', '0705 Forestry Sciences', '0706 Horticultural Production', '0707 Veterinary Sciences', '0799 Other Agricultural and Veterinary Sciences', '0801 Artificial Intelligence and Image Processing', '0802 Computation Theory and Mathematics', '0803 Computer Software', '0804 Data Format', '0805 Distributed Computing', '0806 Information Systems', '0807 Library and Information Studies', '0899 Other Information and Computing Sciences', '0901 Aerospace Engineering', '0902 Automotive Engineering', '0903 Biomedical Engineering', '0904 Chemical Engineering', '0905 Civil Engineering', '0906 Electrical and Electronic Engineering', '0907 Environmental Engineering', '0908 Food Sciences', '0909 Geomatic Engineering', '0910 Manufacturing Engineering', '0911 Maritime Engineering', '0912 Materials Engineering', '0913 Mechanical Engineering', '0914 Resources Engineering and Extractive Metallurgy', '0915 Interdisciplinary Engineering', '0999 Other Engineering', '1001 Agricultural Biotechnology', '1002 Environmental Biotechnology', '1003 Industrial Biotechnology', '1004 Medical Biotechnology', '1005 Communications Technologies', '1006 Computer Hardware', '1007 Nanotechnology', '1099 Other Technology', '1101 Medical Biochemistry and Metabolomics', '1102 Cardiorespiratory Medicine and Haematology', '1103 Clinical Sciences', '1104 Complementary and Alternative Medicine', '1105 Dentistry', '1106 Human Movement and Sports Science', '1107 Immunology', '1108 Medical Microbiology', '1109 Neurosciences', '1110 Nursing', '1111 Nutrition and Dietetics', '1112 Oncology and Carcinogenesis', '1113 Ophthalmology and Optometry', '1114 Paediatrics and Reproductive Medicine', '1115 Pharmacology and Pharmaceutical Sciences', '1116 Medical Physiology', '1117 Public Health and Health Services', '1199 Other Medical and Health Sciences', '1201 Architecture', '1202 Building', '1203 Design Practice and Management', '1205 Urban and Regional Planning', '1299 Other Built Environment and Design', '1301 Education Systems', '1302 Curriculum and Pedagogy', '1303 Specialist Studies In Education', '1399 Other Education', '1401 Economic Theory', '1402 Applied Economics', '1403 Econometrics', '1499 Other Economics', '1501 Accounting, Auditing and Accountability', '1502 Banking, Finance and Investment', '1503 Business and Management', '1504 Commercial Services', '1505 Marketing', '1506 Tourism', '1507 Transportation and Freight Services', '1601 Anthropology', '1602 Criminology', '1603 Demography', '1604 Human Geography', '1605 Policy and Administration', '1606 Political Science', '1607 Social Work', '1608 Sociology', '1699 Other Studies In Human Society', '1701 Psychology', '1702 Cognitive Sciences', '1799 Other Psychology and Cognitive Sciences', '1801 Law', '1899 Other Law and Legal Studies', '1901 Art Theory and Criticism', '1902 Film, Television and Digital Media', '1903 Journalism and Professional Writing', '1904 Performing Arts and Creative Writing', '1905 Visual Arts and Crafts', '1999 Other Studies In Creative Arts and Writing', '2001 Communication and Media Studies', '2002 Cultural Studies', '2003 Language Studies', '2004 Linguistics', '2005 Literary Studies', '2099 Other Language, Communication and Culture', '2101 Archaeology', '2102 Curatorial and Related Studies', '2103 Historical Studies', '2199 Other History and Archaeology', '2201 Applied Ethics', '2202 History and Philosophy of Specific Fields', '2203 Philosophy', '2204 Religion and Religious Studies', '2299 Other Philosophy and Religious Studies']\n",
    "connector = \"or\"  #@param ['or', 'and']\n",
    "#\n",
    "#\n",
    "#\n",
    "#\n",
    "nowfolder = datetime.now().strftime(\"%Y-%m-%d %H.%M.%S\")\n",
    "output_folder_name = nowfolder + \"-\" + subject1.replace(\" \", \"_\")\n",
    "\n",
    "def save_locally(header, dfdata):\n",
    "  \"save dataframe in local folder\"\n",
    "  global subject1, subject2, start_year, end_year, output_folder_name\n",
    "  if not os.path.exists(output_folder_name):\n",
    "    os.mkdir(output_folder_name)\n",
    "  if subject2:\n",
    "    subject2 = \"_\" + subject2.replace(\" \", \"_\")\n",
    "  else:\n",
    "    subject2 = \"\"\n",
    "  export = header + \"_\" + subject1.replace(\" \", \"_\") + subject2 + \"_\" + str(start_year) + \"_\" + str(end_year) + \".csv\"\n",
    "  dfdata.to_csv(output_folder_name + \"/\" + export)\n",
    "  print(\"\\n..saved file '\" + export)\n",
    "\n",
    "#\n",
    "#\n",
    "\n",
    "if end_year < start_year :\n",
    "  end_year = start_year\n",
    "\n",
    "#\n",
    "#\n",
    "\n",
    "if subject1 == subject2:\n",
    "  subject2 = None\n",
    "if subject2 == \"None\":\n",
    "  subject2 = None\n",
    "if subject2: \n",
    "  cat_query = f\"\"\"(category_for.name=\"{subject1}\" {connector} category_for.name=\"{subject2}\" )\"\"\"\n",
    "  cat_query_grants = f\"\"\"(FOR.name=\"{subject1}\" {connector} FOR.name=\"{subject2}\" )\"\"\"\n",
    "else:\n",
    "  cat_query = f\"\"\"category_for.name=\"{subject1}\" \"\"\"\n",
    "  cat_query_grants = f\"\"\"FOR.name=\"{subject1}\" \"\"\"\n",
    "\n",
    "print(f\"\"\"*****\\n*****\\nSelection:\\nsubject1: {subject1}\\nsubject2: {subject2} \\\n",
    "      \\nconnector: {connector}\\nyears: {start_year} - {end_year}\\n*****\\n*****\\n\"\"\")\n",
    "\n",
    "\n",
    "\n",
    "###################\n",
    "#\n",
    "# 2. DATA COMPETITORS \n",
    "#\n",
    "###################\n",
    "\n",
    "\n",
    "print(\"\\n===\\nData Competitors\\n===\\n...extracting data..\\n\")\n",
    "#\n",
    "#\n",
    "#\n",
    "#\n",
    "q1 = \"\"\"search publications where year in [{}:{}] and {} return publisher aggregate count, rcr_avg, fcr_gavg, altmetric_median limit 1000\"\"\"\n",
    "df = dsl.query(q1.format(start_year, end_year, cat_query)).as_dataframe()\n",
    "df.rename(columns={\"id\": \"name\", \"count\": \"pubs\"}, inplace=True)\n",
    "#df\n",
    "q2 = \"\"\"search publications where altmetric > 0 and year in [{}:{}] and {} return publisher aggregate count limit 1000\"\"\"\n",
    "df2 = dsl.query(q2.format(start_year, end_year, cat_query), verbose=False).as_dataframe()\n",
    "df2.rename(columns={\"id\": \"name\", \"count\": \"pubs_altmetric\"}, inplace=True)\n",
    "#df2\n",
    "df3 = pd.merge(df, df2, how='left', on=\"name\")\n",
    "df3 = df3[['name', 'pubs', 'fcr_gavg', 'rcr_avg', 'altmetric_median', 'pubs_altmetric']]\n",
    "df3 = df3.fillna(0) # fill empty values\n",
    "df3['pubs_altmetric'] = df3['pubs_altmetric'].astype('int') # make col int (from float)\n",
    "df3['pubs_altmetric_prc'] = ((df3['pubs_altmetric'] * 100) / df3['pubs']).round(2) # add % representation\n",
    "#\n",
    "\n",
    "save_locally(\"DataCompetitor\", df3)\n",
    "#\n",
    "# df3\n",
    "\n",
    "\n",
    "\n",
    "###################\n",
    "#\n",
    "# 2. DATA GROWTH \n",
    "#\n",
    "###################\n",
    "\n",
    "print(\"\\n===\\nData Growth\\n===\\n...extracting data..\\n\")\n",
    "#\n",
    "#\n",
    "#\n",
    "#\n",
    "years = [x for x in range(start_year, end_year+1)]\n",
    "row_labels = ['Total Publications', 'Closed', 'All OA', 'Green, Submitted','Pure Gold',  'Bronze', 'Hybrid', 'Green, Published', 'Green, Accepted' ]\n",
    "df = pd.DataFrame(columns=years, index=row_labels)\n",
    "#\n",
    "#\n",
    "#\n",
    "# TIP query payload has this shape\n",
    "# {'_stats': {'total_count': 13920},\n",
    "#  'open_access_categories': [{'count': 8075, 'id': 'closed', 'name': 'Closed'},\n",
    "#   {'count': 5845, 'id': 'oa_all', 'name': 'All OA'},\n",
    "#   {'count': 2060, 'id': 'gold_bronze', 'name': 'Bronze'},\n",
    "#   {'count': 2046, 'id': 'gold_pure', 'name': 'Pure Gold'},\n",
    "#   {'count': 680, 'id': 'gold_hybrid', 'name': 'Hybrid'},\n",
    "#   {'count': 467, 'id': 'green_acc', 'name': 'Green, Accepted'},\n",
    "#   {'count': 448, 'id': 'green_pub', 'name': 'Green, Published'},\n",
    "#   {'count': 144, 'id': 'green_sub', 'name': 'Green, Submitted'}]}\n",
    "#\n",
    "#\n",
    "#\n",
    "for y in years:\n",
    "  q1 = \"\"\"search publications where year = {} and {} return open_access_categories[name]\"\"\"\n",
    "  data = dsl.query(q1.format(y, cat_query))\n",
    "  df.at['Total Publications', y] = data.count_total\n",
    "  #\n",
    "  for l in row_labels:\n",
    "    for cat in data.open_access_categories:\n",
    "      if cat['name'] == l:\n",
    "        df.at[l, y] = cat['count']\n",
    "\n",
    "  time.sleep(1)\n",
    "df = df.fillna(0) # fill empty values\n",
    "\n",
    "#\n",
    "save_locally(\"DataGrowth\", df)\n",
    "\n",
    "\n",
    "\n",
    "###################\n",
    "#\n",
    "# 3. DATA TOP TARGET INSTITUTIONS \n",
    "#\n",
    "###################\n",
    "\n",
    "\n",
    "print(\"\\n===\\nData Top Target Institutions\\n===\\n...extracting data..\\n\")\n",
    "#\n",
    "#\n",
    "#\n",
    "#\n",
    "q1 = \"\"\"search publications where year in [{}:{}] and {} return funders aggregate count, rcr_avg, fcr_gavg, altmetric_median limit 1000\"\"\"\n",
    "df = dsl.query(q1.format(start_year, end_year, cat_query)).as_dataframe()\n",
    "df.rename(columns={\"country_name\": \"country\", \"count\": \"pubs\"}, inplace=True)\n",
    "df = df[['name', 'country', 'pubs', 'rcr_avg', 'fcr_gavg', 'altmetric_median', ]]\n",
    "df['type'] = \"funders\"\n",
    "# df\n",
    "#\n",
    "#\n",
    "q2 = \"\"\"search publications where year in [{}:{}] and {} return research_orgs aggregate count, rcr_avg, fcr_gavg, altmetric_median limit 1000\"\"\"\n",
    "df2 = dsl.query(q2.format(start_year, end_year, cat_query)).as_dataframe()\n",
    "df2.rename(columns={\"country_name\": \"country\", \"count\": \"pubs\"}, inplace=True)\n",
    "df2 = df2[['name', 'country', 'pubs', 'rcr_avg', 'fcr_gavg', 'altmetric_median', ]]\n",
    "df2['type'] = \"research_organizations\"\n",
    "df2\n",
    "#\n",
    "# append second query to first\n",
    "#\n",
    "df = df.append(df2, ignore_index=True)\n",
    "#\n",
    "#\n",
    "#\n",
    "q3 = \"\"\"search publications where open_access_categories.id=\"oa_all\" and year in [{}:{}] and {} return research_orgs aggregate count, rcr_avg, fcr_gavg, altmetric_median limit 1000\"\"\"\n",
    "df3 = dsl.query(q3.format(start_year, end_year, cat_query)).as_dataframe()\n",
    "df3.rename(columns={\"country_name\": \"country\", \"count\": \"pubs\"}, inplace=True)\n",
    "df3 = df3[['name', 'country', 'pubs', 'rcr_avg', 'fcr_gavg', 'altmetric_median', ]]\n",
    "df3['type'] = \"research_organizations_all_oa\"\n",
    "#df3\n",
    "#\n",
    "# append second query to first\n",
    "#\n",
    "df = df.append(df3, ignore_index=True)\n",
    "# #\n",
    "\n",
    "#\n",
    "save_locally(\"DataTopTargetInstitutions\", df)\n",
    "#\n",
    "\n",
    "\n",
    "\n",
    "\n",
    "###################\n",
    "#\n",
    "# 4. DATA TOP COUNTRIES \n",
    "#\n",
    "###################\n",
    "\n",
    "\n",
    "print(\"\\n===\\nData Top Countries\\n===\\n...extracting data..\\n\")\n",
    "#\n",
    "#\n",
    "#\n",
    "#\n",
    "q1 = \"\"\"search publications where year in [{}:{}] and {} return research_org_countries aggregate citations_total limit 1000\"\"\"\n",
    "df = dsl.query(q1.format(start_year, end_year, cat_query)).as_dataframe()\n",
    "df.rename(columns={\"count\": \"pubs\", \"citations_total\": \"citations\"}, inplace=True)\n",
    "df = df[['name', 'pubs', 'citations', ]]\n",
    "#df\n",
    "#\n",
    "#\n",
    "# search grants now\n",
    "#\n",
    "q2 = \"\"\"search grants where start_year in [{}:{}] and {} return research_org_countries aggregate funding limit 1000\"\"\"\n",
    "df2 = dsl.query(q2.format(start_year, end_year, cat_query_grants), verbose=True).as_dataframe()\n",
    "df2.rename(columns={\"count\": \"grants\"}, inplace=True)\n",
    "#df2\n",
    "if not df2.empty:\n",
    "  df3 = pd.merge(df, df2[['name', 'grants', 'funding']], how='left', on=\"name\")\n",
    "else:\n",
    "  df3 = df2\n",
    "df3 = df3.fillna(0) # fill empty values\n",
    "#\n",
    "#\n",
    "save_locally(\"DataTopCountries\", df3)\n",
    "#\n",
    "#\n",
    "\n",
    "\n",
    "\n",
    "###################\n",
    "#\n",
    "# 5. SAVING DATA\n",
    "#\n",
    "###################\n",
    "\n",
    "print(\"\\n===\\nZipping up and downloading...\\n\")\n",
    "\n",
    "import zipfile\n",
    "from google.colab import files\n",
    "\n",
    "def zipdir(path, ziph):\n",
    "    # ziph is zipfile handle\n",
    "    for root, dirs, files in os.walk(path):\n",
    "        for file in files:\n",
    "            ziph.write(os.path.join(root, file))\n",
    "\n",
    "zipf = zipfile.ZipFile(output_folder_name + '.zip', 'w', zipfile.ZIP_DEFLATED)\n",
    "zipdir(output_folder_name + '/', zipf)\n",
    "zipf.close()\n",
    "\n",
    "\n",
    "files.download(output_folder_name + '.zip')\n",
    "\n",
    "print(\"\\n===\\nDone.\")\n"
   ]
  },
  {
   "cell_type": "markdown",
   "metadata": {
    "colab_type": "text",
    "id": "4XWopF8elGKt"
   },
   "source": [
    "# Downloading "
   ]
  },
  {
   "cell_type": "markdown",
   "metadata": {
    "colab_type": "text",
    "id": "7WjK2RZRQc9Y"
   },
   "source": [
    "The exports should download automatically. \n",
    "However if there's an error with downloading the file, just run the cell below."
   ]
  },
  {
   "cell_type": "code",
   "execution_count": 3,
   "metadata": {
    "colab": {},
    "colab_type": "code",
    "id": "fceJrycWQbVs"
   },
   "outputs": [
    {
     "ename": "NameError",
     "evalue": "name 'files' is not defined",
     "output_type": "error",
     "traceback": [
      "\u001b[0;31m---------------------------------------------------------------------------\u001b[0m",
      "\u001b[0;31mNameError\u001b[0m                                 Traceback (most recent call last)",
      "\u001b[0;32m<ipython-input-3-c97cabc2ff6d>\u001b[0m in \u001b[0;36m<module>\u001b[0;34m\u001b[0m\n\u001b[0;32m----> 1\u001b[0;31m \u001b[0mfiles\u001b[0m\u001b[0;34m.\u001b[0m\u001b[0mdownload\u001b[0m\u001b[0;34m(\u001b[0m\u001b[0moutput_folder_name\u001b[0m \u001b[0;34m+\u001b[0m \u001b[0;34m'.zip'\u001b[0m\u001b[0;34m)\u001b[0m\u001b[0;34m\u001b[0m\u001b[0;34m\u001b[0m\u001b[0m\n\u001b[0m",
      "\u001b[0;31mNameError\u001b[0m: name 'files' is not defined"
     ]
    }
   ],
   "source": [
    "files.download(output_folder_name + '.zip')"
   ]
  }
 ],
 "metadata": {
  "colab": {
   "collapsed_sections": [],
   "name": "AJ analysis - PRODUCTION.ipynb",
   "provenance": [
    {
     "file_id": "1Md5awnBqy1ZHY3nN8_xDhGkwkibfwhQf",
     "timestamp": 1572961336154
    }
   ]
  },
  "kernelspec": {
   "display_name": "Python 3",
   "name": "python3"
  },
  "language_info": {
   "codemirror_mode": {
    "name": "ipython",
    "version": 3
   },
   "file_extension": ".py",
   "mimetype": "text/x-python",
   "name": "python",
   "nbconvert_exporter": "python",
   "pygments_lexer": "ipython3",
   "version": "3.8.5"
  }
 },
 "nbformat": 4,
 "nbformat_minor": 0
}
