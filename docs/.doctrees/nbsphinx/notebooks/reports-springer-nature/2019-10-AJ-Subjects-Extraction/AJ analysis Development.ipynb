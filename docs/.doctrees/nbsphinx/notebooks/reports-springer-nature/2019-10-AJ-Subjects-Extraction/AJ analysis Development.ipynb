{
 "cells": [
  {
   "cell_type": "markdown",
   "metadata": {
    "colab_type": "text",
    "id": "Ncq2KiwUygYF"
   },
   "source": [
    "# Subject Mapping Extractions for Springer Nature\n",
    "\n",
    "This notebook allows to select an FOR code (subject area) and a time span to produce CSV reports for the following areas: Data Competitors, Data Growth, Data Top Target Institutions and Data Top Countries. The reports are based on the [spreadsheet](https://drive.google.com/open?id=1La_GWhzw1ReFL3biYLIL_K7qMUWxXX_B) used by the SN team programmatically, as documented in the [Data Request Specs](https://docs.google.com/document/d/1haAj3SpraxzNLLOcF7_TBfrQ7chFWyRp70SueFeCPDg/edit). \n",
    "\n",
    "## Left To Do\n",
    "\n",
    "* check that second year is always > than first year\n",
    "* ~~rerun from top~~\n",
    "* ~~merge all into single cell~~\n",
    "* ~~clarify and/or for multiple subjects and do more testing~~\n",
    "* ~~see if we need to download data programmatically, or AJ can do it himself after I provide more info about the left hand Files menu~~\n",
    "* ~~remove indexes from CSV exports~~\n",
    "* ~~consider adding subject name first in file name (easier to sort)~~\n"
   ]
  },
  {
   "cell_type": "markdown",
   "metadata": {
    "colab_type": "text",
    "id": "GGq-3TddKt3F"
   },
   "source": [
    "## 1. Log into the Dimensions API\n",
    "\n",
    "This step needs to be run each time the notebooks gets re-loaded, as it sets up the API connection with the Dimensions back end. "
   ]
  },
  {
   "cell_type": "code",
   "execution_count": 1,
   "metadata": {
    "colab": {
     "base_uri": "https://localhost:8080/",
     "height": 51
    },
    "colab_type": "code",
    "executionInfo": {
     "elapsed": 7161,
     "status": "ok",
     "timestamp": 1575287472860,
     "user": {
      "displayName": "Michele Pasin",
      "photoUrl": "https://lh3.googleusercontent.com/a-/AAuE7mBu8LVjIGgontF2Wax51BoL5KFx8esezX3bUmaa0g=s64",
      "userId": "10309320684375994511"
     },
     "user_tz": 0
    },
    "id": "xoMtveUE6eIH",
    "outputId": "f9b99a4e-b5b0-40bd-acb6-6508623b9988"
   },
   "outputs": [
    {
     "name": "stdout",
     "output_type": "stream",
     "text": [
      "\u001b[?25l\r",
      "\u001b[K     |██▉                             | 10kB 19.7MB/s eta 0:00:01\r",
      "\u001b[K     |█████▊                          | 20kB 5.8MB/s eta 0:00:01\r",
      "\u001b[K     |████████▌                       | 30kB 8.0MB/s eta 0:00:01\r",
      "\u001b[K     |███████████▍                    | 40kB 5.5MB/s eta 0:00:01\r",
      "\u001b[K     |██████████████▏                 | 51kB 6.6MB/s eta 0:00:01\r",
      "\u001b[K     |█████████████████               | 61kB 7.8MB/s eta 0:00:01\r",
      "\u001b[K     |███████████████████▉            | 71kB 8.9MB/s eta 0:00:01\r",
      "\u001b[K     |██████████████████████▊         | 81kB 9.9MB/s eta 0:00:01\r",
      "\u001b[K     |█████████████████████████▌      | 92kB 11.0MB/s eta 0:00:01\r",
      "\u001b[K     |████████████████████████████▍   | 102kB 9.1MB/s eta 0:00:01\r",
      "\u001b[K     |███████████████████████████████▏| 112kB 9.1MB/s eta 0:00:01\r",
      "\u001b[K     |████████████████████████████████| 122kB 9.1MB/s \n",
      "\u001b[?25hDimCli v0.6.1.2 - Succesfully connected to <https://app.dimensions.ai> (method: manual login)\n"
     ]
    }
   ],
   "source": [
    "username = \"dsl.demo.1@dimensions.ai\"  #@param {type: \"string\"}\n",
    "password = \"1.Demo.Dsl\"  #@param {type: \"string\"}\n",
    "endpoint = \"https://app.dimensions.ai\"  #@param {type: \"string\"}\n",
    "\n",
    "#\n",
    "#\n",
    "#\n",
    "!pip install dimcli -U --quiet \n",
    "import dimcli\n",
    "import pandas as pd\n",
    "import time\n",
    "import os\n",
    "from datetime import datetime\n",
    "dimcli.login(username, password, endpoint)\n",
    "dsl = dimcli.Dsl()\n",
    "#\n",
    "#\n",
    "#"
   ]
  },
  {
   "cell_type": "markdown",
   "metadata": {
    "colab_type": "text",
    "id": "WtFMuxXpJkcy"
   },
   "source": [
    "## Select Parameters \n",
    "\n",
    "Pick a year range and one or more subjects from the [FOR categories](https://sn-insights.dimensions.ai/browse/publication/for?and_facet_open_access_status_analytics). NOTE the value in the 'connector' field determines if both subjects must be present in the results (default = no)."
   ]
  },
  {
   "cell_type": "code",
   "execution_count": 13,
   "metadata": {
    "cellView": "both",
    "colab": {
     "base_uri": "https://localhost:8080/",
     "height": 221
    },
    "colab_type": "code",
    "executionInfo": {
     "elapsed": 1017,
     "status": "ok",
     "timestamp": 1575288859450,
     "user": {
      "displayName": "Michele Pasin",
      "photoUrl": "https://lh3.googleusercontent.com/a-/AAuE7mBu8LVjIGgontF2Wax51BoL5KFx8esezX3bUmaa0g=s64",
      "userId": "10309320684375994511"
     },
     "user_tz": 0
    },
    "id": "d3Rjr2r6Jw2W",
    "outputId": "b8ad8633-54cd-43c1-8d0e-e6c160970ee4"
   },
   "outputs": [
    {
     "name": "stdout",
     "output_type": "stream",
     "text": [
      "*****\n",
      "*****\n",
      "Selection:\n",
      "Subject1  : 1006 Computer Hardware\n",
      "Subject2  : 0604 Genetics       \n",
      "Subject3  : 0202 Atomic, Molecular, Nuclear, Particle and Plasma Physics\n",
      "Subject4  : 0304 Medicinal and Biomolecular Chemistry       \n",
      "Connector : or\n",
      "Years     : 2015 - 2020\n",
      "*****\n",
      "*****\n",
      "\n"
     ]
    }
   ],
   "source": [
    "\n",
    "###################\n",
    "#\n",
    "# 1. SUBJECTS SELECTIONS AND SETTINGS \n",
    "#\n",
    "###################\n",
    "\n",
    "\n",
    "\n",
    "# tip \n",
    "# the subjects dropdown can be generated via \n",
    "# `str([\"%s\" % s for s in  sorted(dimcli.G.categories('category_for')) if len(s.split()[0]) > 2])`\n",
    "#\n",
    "\n",
    "#@markdown Time frame\n",
    "start_year = 2015  #@param {type: \"slider\", min: 1980, max: 2020}\n",
    "end_year = 2020  #@param {type: \"slider\", min: 1980, max: 2020}\n",
    "start_year_growth = 2010 #@param {type: \"integer\" }\n",
    "#@markdown ---\n",
    "#@markdown Subjects\n",
    "subject1 = \"1006 Computer Hardware\"  #@param ['0101 Pure Mathematics', '0102 Applied Mathematics', '0103 Numerical and Computational Mathematics', '0104 Statistics', '0105 Mathematical Physics', '0201 Astronomical and Space Sciences', '0202 Atomic, Molecular, Nuclear, Particle and Plasma Physics', '0203 Classical Physics', '0204 Condensed Matter Physics', '0205 Optical Physics', '0206 Quantum Physics', '0299 Other Physical Sciences', '0301 Analytical Chemistry', '0302 Inorganic Chemistry', '0303 Macromolecular and Materials Chemistry', '0304 Medicinal and Biomolecular Chemistry', '0305 Organic Chemistry', '0306 Physical Chemistry (incl. Structural)', '0307 Theoretical and Computational Chemistry', '0399 Other Chemical Sciences', '0401 Atmospheric Sciences', '0402 Geochemistry', '0403 Geology', '0404 Geophysics', '0405 Oceanography', '0406 Physical Geography and Environmental Geoscience', '0499 Other Earth Sciences', '0501 Ecological Applications', '0502 Environmental Science and Management', '0503 Soil Sciences', '0599 Other Environmental Sciences', '0601 Biochemistry and Cell Biology', '0602 Ecology', '0603 Evolutionary Biology', '0604 Genetics', '0605 Microbiology', '0606 Physiology', '0607 Plant Biology', '0608 Zoology', '0699 Other Biological Sciences', '0701 Agriculture, Land and Farm Management', '0702 Animal Production', '0703 Crop and Pasture Production', '0704 Fisheries Sciences', '0705 Forestry Sciences', '0706 Horticultural Production', '0707 Veterinary Sciences', '0799 Other Agricultural and Veterinary Sciences', '0801 Artificial Intelligence and Image Processing', '0802 Computation Theory and Mathematics', '0803 Computer Software', '0804 Data Format', '0805 Distributed Computing', '0806 Information Systems', '0807 Library and Information Studies', '0899 Other Information and Computing Sciences', '0901 Aerospace Engineering', '0902 Automotive Engineering', '0903 Biomedical Engineering', '0904 Chemical Engineering', '0905 Civil Engineering', '0906 Electrical and Electronic Engineering', '0907 Environmental Engineering', '0908 Food Sciences', '0909 Geomatic Engineering', '0910 Manufacturing Engineering', '0911 Maritime Engineering', '0912 Materials Engineering', '0913 Mechanical Engineering', '0914 Resources Engineering and Extractive Metallurgy', '0915 Interdisciplinary Engineering', '0999 Other Engineering', '1001 Agricultural Biotechnology', '1002 Environmental Biotechnology', '1003 Industrial Biotechnology', '1004 Medical Biotechnology', '1005 Communications Technologies', '1006 Computer Hardware', '1007 Nanotechnology', '1099 Other Technology', '1101 Medical Biochemistry and Metabolomics', '1102 Cardiorespiratory Medicine and Haematology', '1103 Clinical Sciences', '1104 Complementary and Alternative Medicine', '1105 Dentistry', '1106 Human Movement and Sports Science', '1107 Immunology', '1108 Medical Microbiology', '1109 Neurosciences', '1110 Nursing', '1111 Nutrition and Dietetics', '1112 Oncology and Carcinogenesis', '1113 Ophthalmology and Optometry', '1114 Paediatrics and Reproductive Medicine', '1115 Pharmacology and Pharmaceutical Sciences', '1116 Medical Physiology', '1117 Public Health and Health Services', '1199 Other Medical and Health Sciences', '1201 Architecture', '1202 Building', '1203 Design Practice and Management', '1205 Urban and Regional Planning', '1299 Other Built Environment and Design', '1301 Education Systems', '1302 Curriculum and Pedagogy', '1303 Specialist Studies In Education', '1399 Other Education', '1401 Economic Theory', '1402 Applied Economics', '1403 Econometrics', '1499 Other Economics', '1501 Accounting, Auditing and Accountability', '1502 Banking, Finance and Investment', '1503 Business and Management', '1504 Commercial Services', '1505 Marketing', '1506 Tourism', '1507 Transportation and Freight Services', '1601 Anthropology', '1602 Criminology', '1603 Demography', '1604 Human Geography', '1605 Policy and Administration', '1606 Political Science', '1607 Social Work', '1608 Sociology', '1699 Other Studies In Human Society', '1701 Psychology', '1702 Cognitive Sciences', '1799 Other Psychology and Cognitive Sciences', '1801 Law', '1899 Other Law and Legal Studies', '1901 Art Theory and Criticism', '1902 Film, Television and Digital Media', '1903 Journalism and Professional Writing', '1904 Performing Arts and Creative Writing', '1905 Visual Arts and Crafts', '1999 Other Studies In Creative Arts and Writing', '2001 Communication and Media Studies', '2002 Cultural Studies', '2003 Language Studies', '2004 Linguistics', '2005 Literary Studies', '2099 Other Language, Communication and Culture', '2101 Archaeology', '2102 Curatorial and Related Studies', '2103 Historical Studies', '2199 Other History and Archaeology', '2201 Applied Ethics', '2202 History and Philosophy of Specific Fields', '2203 Philosophy', '2204 Religion and Religious Studies', '2299 Other Philosophy and Religious Studies']\n",
    "subject2 = \"0604 Genetics\"  #@param ['None', '0101 Pure Mathematics', '0102 Applied Mathematics', '0103 Numerical and Computational Mathematics', '0104 Statistics', '0105 Mathematical Physics', '0201 Astronomical and Space Sciences', '0202 Atomic, Molecular, Nuclear, Particle and Plasma Physics', '0203 Classical Physics', '0204 Condensed Matter Physics', '0205 Optical Physics', '0206 Quantum Physics', '0299 Other Physical Sciences', '0301 Analytical Chemistry', '0302 Inorganic Chemistry', '0303 Macromolecular and Materials Chemistry', '0304 Medicinal and Biomolecular Chemistry', '0305 Organic Chemistry', '0306 Physical Chemistry (incl. Structural)', '0307 Theoretical and Computational Chemistry', '0399 Other Chemical Sciences', '0401 Atmospheric Sciences', '0402 Geochemistry', '0403 Geology', '0404 Geophysics', '0405 Oceanography', '0406 Physical Geography and Environmental Geoscience', '0499 Other Earth Sciences', '0501 Ecological Applications', '0502 Environmental Science and Management', '0503 Soil Sciences', '0599 Other Environmental Sciences', '0601 Biochemistry and Cell Biology', '0602 Ecology', '0603 Evolutionary Biology', '0604 Genetics', '0605 Microbiology', '0606 Physiology', '0607 Plant Biology', '0608 Zoology', '0699 Other Biological Sciences', '0701 Agriculture, Land and Farm Management', '0702 Animal Production', '0703 Crop and Pasture Production', '0704 Fisheries Sciences', '0705 Forestry Sciences', '0706 Horticultural Production', '0707 Veterinary Sciences', '0799 Other Agricultural and Veterinary Sciences', '0801 Artificial Intelligence and Image Processing', '0802 Computation Theory and Mathematics', '0803 Computer Software', '0804 Data Format', '0805 Distributed Computing', '0806 Information Systems', '0807 Library and Information Studies', '0899 Other Information and Computing Sciences', '0901 Aerospace Engineering', '0902 Automotive Engineering', '0903 Biomedical Engineering', '0904 Chemical Engineering', '0905 Civil Engineering', '0906 Electrical and Electronic Engineering', '0907 Environmental Engineering', '0908 Food Sciences', '0909 Geomatic Engineering', '0910 Manufacturing Engineering', '0911 Maritime Engineering', '0912 Materials Engineering', '0913 Mechanical Engineering', '0914 Resources Engineering and Extractive Metallurgy', '0915 Interdisciplinary Engineering', '0999 Other Engineering', '1001 Agricultural Biotechnology', '1002 Environmental Biotechnology', '1003 Industrial Biotechnology', '1004 Medical Biotechnology', '1005 Communications Technologies', '1006 Computer Hardware', '1007 Nanotechnology', '1099 Other Technology', '1101 Medical Biochemistry and Metabolomics', '1102 Cardiorespiratory Medicine and Haematology', '1103 Clinical Sciences', '1104 Complementary and Alternative Medicine', '1105 Dentistry', '1106 Human Movement and Sports Science', '1107 Immunology', '1108 Medical Microbiology', '1109 Neurosciences', '1110 Nursing', '1111 Nutrition and Dietetics', '1112 Oncology and Carcinogenesis', '1113 Ophthalmology and Optometry', '1114 Paediatrics and Reproductive Medicine', '1115 Pharmacology and Pharmaceutical Sciences', '1116 Medical Physiology', '1117 Public Health and Health Services', '1199 Other Medical and Health Sciences', '1201 Architecture', '1202 Building', '1203 Design Practice and Management', '1205 Urban and Regional Planning', '1299 Other Built Environment and Design', '1301 Education Systems', '1302 Curriculum and Pedagogy', '1303 Specialist Studies In Education', '1399 Other Education', '1401 Economic Theory', '1402 Applied Economics', '1403 Econometrics', '1499 Other Economics', '1501 Accounting, Auditing and Accountability', '1502 Banking, Finance and Investment', '1503 Business and Management', '1504 Commercial Services', '1505 Marketing', '1506 Tourism', '1507 Transportation and Freight Services', '1601 Anthropology', '1602 Criminology', '1603 Demography', '1604 Human Geography', '1605 Policy and Administration', '1606 Political Science', '1607 Social Work', '1608 Sociology', '1699 Other Studies In Human Society', '1701 Psychology', '1702 Cognitive Sciences', '1799 Other Psychology and Cognitive Sciences', '1801 Law', '1899 Other Law and Legal Studies', '1901 Art Theory and Criticism', '1902 Film, Television and Digital Media', '1903 Journalism and Professional Writing', '1904 Performing Arts and Creative Writing', '1905 Visual Arts and Crafts', '1999 Other Studies In Creative Arts and Writing', '2001 Communication and Media Studies', '2002 Cultural Studies', '2003 Language Studies', '2004 Linguistics', '2005 Literary Studies', '2099 Other Language, Communication and Culture', '2101 Archaeology', '2102 Curatorial and Related Studies', '2103 Historical Studies', '2199 Other History and Archaeology', '2201 Applied Ethics', '2202 History and Philosophy of Specific Fields', '2203 Philosophy', '2204 Religion and Religious Studies', '2299 Other Philosophy and Religious Studies']\n",
    "subject3 = \"0202 Atomic, Molecular, Nuclear, Particle and Plasma Physics\"  #@param ['None', '0101 Pure Mathematics', '0102 Applied Mathematics', '0103 Numerical and Computational Mathematics', '0104 Statistics', '0105 Mathematical Physics', '0201 Astronomical and Space Sciences', '0202 Atomic, Molecular, Nuclear, Particle and Plasma Physics', '0203 Classical Physics', '0204 Condensed Matter Physics', '0205 Optical Physics', '0206 Quantum Physics', '0299 Other Physical Sciences', '0301 Analytical Chemistry', '0302 Inorganic Chemistry', '0303 Macromolecular and Materials Chemistry', '0304 Medicinal and Biomolecular Chemistry', '0305 Organic Chemistry', '0306 Physical Chemistry (incl. Structural)', '0307 Theoretical and Computational Chemistry', '0399 Other Chemical Sciences', '0401 Atmospheric Sciences', '0402 Geochemistry', '0403 Geology', '0404 Geophysics', '0405 Oceanography', '0406 Physical Geography and Environmental Geoscience', '0499 Other Earth Sciences', '0501 Ecological Applications', '0502 Environmental Science and Management', '0503 Soil Sciences', '0599 Other Environmental Sciences', '0601 Biochemistry and Cell Biology', '0602 Ecology', '0603 Evolutionary Biology', '0604 Genetics', '0605 Microbiology', '0606 Physiology', '0607 Plant Biology', '0608 Zoology', '0699 Other Biological Sciences', '0701 Agriculture, Land and Farm Management', '0702 Animal Production', '0703 Crop and Pasture Production', '0704 Fisheries Sciences', '0705 Forestry Sciences', '0706 Horticultural Production', '0707 Veterinary Sciences', '0799 Other Agricultural and Veterinary Sciences', '0801 Artificial Intelligence and Image Processing', '0802 Computation Theory and Mathematics', '0803 Computer Software', '0804 Data Format', '0805 Distributed Computing', '0806 Information Systems', '0807 Library and Information Studies', '0899 Other Information and Computing Sciences', '0901 Aerospace Engineering', '0902 Automotive Engineering', '0903 Biomedical Engineering', '0904 Chemical Engineering', '0905 Civil Engineering', '0906 Electrical and Electronic Engineering', '0907 Environmental Engineering', '0908 Food Sciences', '0909 Geomatic Engineering', '0910 Manufacturing Engineering', '0911 Maritime Engineering', '0912 Materials Engineering', '0913 Mechanical Engineering', '0914 Resources Engineering and Extractive Metallurgy', '0915 Interdisciplinary Engineering', '0999 Other Engineering', '1001 Agricultural Biotechnology', '1002 Environmental Biotechnology', '1003 Industrial Biotechnology', '1004 Medical Biotechnology', '1005 Communications Technologies', '1006 Computer Hardware', '1007 Nanotechnology', '1099 Other Technology', '1101 Medical Biochemistry and Metabolomics', '1102 Cardiorespiratory Medicine and Haematology', '1103 Clinical Sciences', '1104 Complementary and Alternative Medicine', '1105 Dentistry', '1106 Human Movement and Sports Science', '1107 Immunology', '1108 Medical Microbiology', '1109 Neurosciences', '1110 Nursing', '1111 Nutrition and Dietetics', '1112 Oncology and Carcinogenesis', '1113 Ophthalmology and Optometry', '1114 Paediatrics and Reproductive Medicine', '1115 Pharmacology and Pharmaceutical Sciences', '1116 Medical Physiology', '1117 Public Health and Health Services', '1199 Other Medical and Health Sciences', '1201 Architecture', '1202 Building', '1203 Design Practice and Management', '1205 Urban and Regional Planning', '1299 Other Built Environment and Design', '1301 Education Systems', '1302 Curriculum and Pedagogy', '1303 Specialist Studies In Education', '1399 Other Education', '1401 Economic Theory', '1402 Applied Economics', '1403 Econometrics', '1499 Other Economics', '1501 Accounting, Auditing and Accountability', '1502 Banking, Finance and Investment', '1503 Business and Management', '1504 Commercial Services', '1505 Marketing', '1506 Tourism', '1507 Transportation and Freight Services', '1601 Anthropology', '1602 Criminology', '1603 Demography', '1604 Human Geography', '1605 Policy and Administration', '1606 Political Science', '1607 Social Work', '1608 Sociology', '1699 Other Studies In Human Society', '1701 Psychology', '1702 Cognitive Sciences', '1799 Other Psychology and Cognitive Sciences', '1801 Law', '1899 Other Law and Legal Studies', '1901 Art Theory and Criticism', '1902 Film, Television and Digital Media', '1903 Journalism and Professional Writing', '1904 Performing Arts and Creative Writing', '1905 Visual Arts and Crafts', '1999 Other Studies In Creative Arts and Writing', '2001 Communication and Media Studies', '2002 Cultural Studies', '2003 Language Studies', '2004 Linguistics', '2005 Literary Studies', '2099 Other Language, Communication and Culture', '2101 Archaeology', '2102 Curatorial and Related Studies', '2103 Historical Studies', '2199 Other History and Archaeology', '2201 Applied Ethics', '2202 History and Philosophy of Specific Fields', '2203 Philosophy', '2204 Religion and Religious Studies', '2299 Other Philosophy and Religious Studies']\n",
    "subject4 = \"0304 Medicinal and Biomolecular Chemistry\"  #@param ['None', '0101 Pure Mathematics', '0102 Applied Mathematics', '0103 Numerical and Computational Mathematics', '0104 Statistics', '0105 Mathematical Physics', '0201 Astronomical and Space Sciences', '0202 Atomic, Molecular, Nuclear, Particle and Plasma Physics', '0203 Classical Physics', '0204 Condensed Matter Physics', '0205 Optical Physics', '0206 Quantum Physics', '0299 Other Physical Sciences', '0301 Analytical Chemistry', '0302 Inorganic Chemistry', '0303 Macromolecular and Materials Chemistry', '0304 Medicinal and Biomolecular Chemistry', '0305 Organic Chemistry', '0306 Physical Chemistry (incl. Structural)', '0307 Theoretical and Computational Chemistry', '0399 Other Chemical Sciences', '0401 Atmospheric Sciences', '0402 Geochemistry', '0403 Geology', '0404 Geophysics', '0405 Oceanography', '0406 Physical Geography and Environmental Geoscience', '0499 Other Earth Sciences', '0501 Ecological Applications', '0502 Environmental Science and Management', '0503 Soil Sciences', '0599 Other Environmental Sciences', '0601 Biochemistry and Cell Biology', '0602 Ecology', '0603 Evolutionary Biology', '0604 Genetics', '0605 Microbiology', '0606 Physiology', '0607 Plant Biology', '0608 Zoology', '0699 Other Biological Sciences', '0701 Agriculture, Land and Farm Management', '0702 Animal Production', '0703 Crop and Pasture Production', '0704 Fisheries Sciences', '0705 Forestry Sciences', '0706 Horticultural Production', '0707 Veterinary Sciences', '0799 Other Agricultural and Veterinary Sciences', '0801 Artificial Intelligence and Image Processing', '0802 Computation Theory and Mathematics', '0803 Computer Software', '0804 Data Format', '0805 Distributed Computing', '0806 Information Systems', '0807 Library and Information Studies', '0899 Other Information and Computing Sciences', '0901 Aerospace Engineering', '0902 Automotive Engineering', '0903 Biomedical Engineering', '0904 Chemical Engineering', '0905 Civil Engineering', '0906 Electrical and Electronic Engineering', '0907 Environmental Engineering', '0908 Food Sciences', '0909 Geomatic Engineering', '0910 Manufacturing Engineering', '0911 Maritime Engineering', '0912 Materials Engineering', '0913 Mechanical Engineering', '0914 Resources Engineering and Extractive Metallurgy', '0915 Interdisciplinary Engineering', '0999 Other Engineering', '1001 Agricultural Biotechnology', '1002 Environmental Biotechnology', '1003 Industrial Biotechnology', '1004 Medical Biotechnology', '1005 Communications Technologies', '1006 Computer Hardware', '1007 Nanotechnology', '1099 Other Technology', '1101 Medical Biochemistry and Metabolomics', '1102 Cardiorespiratory Medicine and Haematology', '1103 Clinical Sciences', '1104 Complementary and Alternative Medicine', '1105 Dentistry', '1106 Human Movement and Sports Science', '1107 Immunology', '1108 Medical Microbiology', '1109 Neurosciences', '1110 Nursing', '1111 Nutrition and Dietetics', '1112 Oncology and Carcinogenesis', '1113 Ophthalmology and Optometry', '1114 Paediatrics and Reproductive Medicine', '1115 Pharmacology and Pharmaceutical Sciences', '1116 Medical Physiology', '1117 Public Health and Health Services', '1199 Other Medical and Health Sciences', '1201 Architecture', '1202 Building', '1203 Design Practice and Management', '1205 Urban and Regional Planning', '1299 Other Built Environment and Design', '1301 Education Systems', '1302 Curriculum and Pedagogy', '1303 Specialist Studies In Education', '1399 Other Education', '1401 Economic Theory', '1402 Applied Economics', '1403 Econometrics', '1499 Other Economics', '1501 Accounting, Auditing and Accountability', '1502 Banking, Finance and Investment', '1503 Business and Management', '1504 Commercial Services', '1505 Marketing', '1506 Tourism', '1507 Transportation and Freight Services', '1601 Anthropology', '1602 Criminology', '1603 Demography', '1604 Human Geography', '1605 Policy and Administration', '1606 Political Science', '1607 Social Work', '1608 Sociology', '1699 Other Studies In Human Society', '1701 Psychology', '1702 Cognitive Sciences', '1799 Other Psychology and Cognitive Sciences', '1801 Law', '1899 Other Law and Legal Studies', '1901 Art Theory and Criticism', '1902 Film, Television and Digital Media', '1903 Journalism and Professional Writing', '1904 Performing Arts and Creative Writing', '1905 Visual Arts and Crafts', '1999 Other Studies In Creative Arts and Writing', '2001 Communication and Media Studies', '2002 Cultural Studies', '2003 Language Studies', '2004 Linguistics', '2005 Literary Studies', '2099 Other Language, Communication and Culture', '2101 Archaeology', '2102 Curatorial and Related Studies', '2103 Historical Studies', '2199 Other History and Archaeology', '2201 Applied Ethics', '2202 History and Philosophy of Specific Fields', '2203 Philosophy', '2204 Religion and Religious Studies', '2299 Other Philosophy and Religious Studies']\n",
    "connector = \"or\"  #@param ['or', 'and']\n",
    "#\n",
    "#\n",
    "#\n",
    "#\n",
    "nowfolder = datetime.now().strftime(\"%Y-%m-%d %H.%M.%S\")\n",
    "output_folder_name = nowfolder + \"-\" + subject1.replace(\" \", \"_\")\n",
    "\n",
    "def save_locally(header, dfdata, startyear_override=None):\n",
    "  \"save dataframe in local folder\"\n",
    "  global subject1, subject2, start_year, end_year, output_folder_name\n",
    "  if startyear_override:\n",
    "    syear = startyear_override\n",
    "  else:\n",
    "    syear = start_year\n",
    "  if not os.path.exists(output_folder_name):\n",
    "    os.mkdir(output_folder_name)\n",
    "  if subject2:\n",
    "    subject2 = \"_\" + subject2.replace(\" \", \"_\")\n",
    "  else:\n",
    "    subject2 = \"\"\n",
    "  export = header + \"_\" + subject1.replace(\" \", \"_\") + subject2 + \"_\" + str(syear) + \"_\" + str(end_year) + \".csv\"\n",
    "  dfdata.to_csv(output_folder_name + \"/\" + export)\n",
    "  print(\"\\n..saved file '\" + export)\n",
    "\n",
    "#\n",
    "#\n",
    "\n",
    "if end_year < start_year :\n",
    "  end_year = start_year\n",
    "\n",
    "#\n",
    "#\n",
    "subjects = [s for s in [subject1, subject2, subject3, subject4] if s!= \"None\"]\n",
    "\n",
    "cat_query = connector.join(f\"\"\" category_for.name=\"{x}\" \"\"\" for x in subjects)\n",
    "cat_query_grants = connector.join(f\"\"\" FOR.name=\"{x}\" \"\"\" for x in subjects)\n",
    "\n",
    "\n",
    "# print/save parameters summary\n",
    "README = f\"\"\"*****\\n*****\\nSelection:\\nSubject1  : {subject1}\\nSubject2  : {subject2} \\\n",
    "      \\nSubject3  : {subject3}\\nSubject4  : {subject4} \\\n",
    "      \\nConnector : {connector}\\nYears     : {start_year} - {end_year}\\n*****\\n*****\\n\"\"\"\n",
    "\n",
    "if not os.path.exists(output_folder_name):\n",
    "  os.mkdir(output_folder_name)\n",
    "with open(output_folder_name + \"/README.txt\", \"w\") as f:\n",
    "  f.write(README)\n",
    "\n",
    "print(README)"
   ]
  },
  {
   "cell_type": "markdown",
   "metadata": {
    "colab_type": "text",
    "id": "DN9505j6LPg4"
   },
   "source": [
    "## 1. Data Competitors: Run extraction\n"
   ]
  },
  {
   "cell_type": "code",
   "execution_count": 14,
   "metadata": {
    "cellView": "both",
    "colab": {
     "base_uri": "https://localhost:8080/",
     "height": 136
    },
    "colab_type": "code",
    "executionInfo": {
     "elapsed": 5208,
     "status": "ok",
     "timestamp": 1575288863648,
     "user": {
      "displayName": "Michele Pasin",
      "photoUrl": "https://lh3.googleusercontent.com/a-/AAuE7mBu8LVjIGgontF2Wax51BoL5KFx8esezX3bUmaa0g=s64",
      "userId": "10309320684375994511"
     },
     "user_tz": 0
    },
    "id": "MTz5TbCRLFXe",
    "outputId": "e4062308-85f1-4df2-b635-5f801edad86b"
   },
   "outputs": [
    {
     "name": "stdout",
     "output_type": "stream",
     "text": [
      "\n",
      "Data Competitors\n",
      "...extracting data..\n",
      "\n",
      "Returned Publisher: 1000\n",
      "\n",
      "..saved file 'DataCompetitor_1006_Computer_Hardware_0604_Genetics_2015_2020.csv\n"
     ]
    }
   ],
   "source": [
    "#@title\n",
    "print(\"\\nData Competitors\\n...extracting data..\\n\")\n",
    "#\n",
    "#\n",
    "#\n",
    "#\n",
    "q1 = \"\"\"search publications where year in [{}:{}] and {} return publisher aggregate count, rcr_avg, fcr_gavg, altmetric_median limit 1000\"\"\"\n",
    "df = dsl.query(q1.format(start_year, end_year, cat_query)).as_dataframe()\n",
    "if len(df) == 0:\n",
    "  print(\"WARNING: no data found for the parameters selected!\")\n",
    "else:\n",
    "  # print(q1.format(start_year, end_year, cat_query))\n",
    "  df.rename(columns={\"id\": \"name\", \"count\": \"pubs\"}, inplace=True)\n",
    "  #df\n",
    "  q2 = \"\"\"search publications where altmetric > 0 and year in [{}:{}] and {} return publisher aggregate count limit 1000\"\"\"\n",
    "  df2 = dsl.query(q2.format(start_year, end_year, cat_query), verbose=False).as_dataframe()\n",
    "  df2.rename(columns={\"id\": \"name\", \"count\": \"pubs_altmetric\"}, inplace=True)\n",
    "  #df2\n",
    "  df3 = pd.merge(df, df2, how='left', on=\"name\")\n",
    "  df3 = df3[['name', 'pubs', 'fcr_gavg', 'rcr_avg', 'altmetric_median', 'pubs_altmetric']]\n",
    "  df3 = df3.fillna(0) # fill empty values\n",
    "  df3['pubs_altmetric'] = df3['pubs_altmetric'].astype('int') # make col int (from float)\n",
    "  df3['pubs_altmetric_prc'] = ((df3['pubs_altmetric'] * 100) / df3['pubs']).round(2) # add % representation\n",
    "  #\n",
    "\n",
    "  save_locally(\"DataCompetitor\", df3)\n",
    "  df3"
   ]
  },
  {
   "cell_type": "markdown",
   "metadata": {
    "colab_type": "text",
    "id": "cVmS_60e9Yu8"
   },
   "source": [
    "## 2. Data Growth"
   ]
  },
  {
   "cell_type": "code",
   "execution_count": 15,
   "metadata": {
    "cellView": "both",
    "colab": {
     "base_uri": "https://localhost:8080/",
     "height": 566
    },
    "colab_type": "code",
    "executionInfo": {
     "elapsed": 26812,
     "status": "ok",
     "timestamp": 1575288885258,
     "user": {
      "displayName": "Michele Pasin",
      "photoUrl": "https://lh3.googleusercontent.com/a-/AAuE7mBu8LVjIGgontF2Wax51BoL5KFx8esezX3bUmaa0g=s64",
      "userId": "10309320684375994511"
     },
     "user_tz": 0
    },
    "id": "VnKmXbqY9a4z",
    "outputId": "c32cf4f7-a21c-4917-9dce-ee8df69437a3"
   },
   "outputs": [
    {
     "name": "stdout",
     "output_type": "stream",
     "text": [
      "\n",
      "Data Growth\n",
      "...extracting data..\n",
      "\n",
      "Returned Open_access_categories: 8\n",
      "Returned Open_access_categories: 8\n",
      "Returned Open_access_categories: 8\n",
      "Returned Open_access_categories: 8\n",
      "Returned Open_access_categories: 8\n",
      "Returned Open_access_categories: 8\n",
      "Returned Open_access_categories: 8\n",
      "Returned Open_access_categories: 8\n",
      "Returned Open_access_categories: 8\n",
      "Returned Open_access_categories: 8\n",
      "Returned Open_access_categories: 8\n",
      "\n",
      "..saved file 'DataGrowth_1006_Computer_Hardware__0604_Genetics_2010_2020.csv\n"
     ]
    },
    {
     "data": {
      "application/vnd.google.colaboratory.module+javascript": "\n      import \"https://ssl.gstatic.com/colaboratory/data_table/9e554b27bdd509f3/data_table.js\";\n\n      window.createDataTable({\n        data: [[\"Total Publications\",\n{\n            'v': 3506551,\n            'f': \"3506551\",\n        },\n{\n            'v': 3506565,\n            'f': \"3506565\",\n        },\n{\n            'v': 3506581,\n            'f': \"3506581\",\n        },\n{\n            'v': 3506708,\n            'f': \"3506708\",\n        },\n{\n            'v': 3506640,\n            'f': \"3506640\",\n        },\n{\n            'v': 3506692,\n            'f': \"3506692\",\n        },\n{\n            'v': 3506690,\n            'f': \"3506690\",\n        },\n{\n            'v': 3506725,\n            'f': \"3506725\",\n        },\n{\n            'v': 3506663,\n            'f': \"3506663\",\n        },\n{\n            'v': 3506762,\n            'f': \"3506762\",\n        },\n{\n            'v': 3505532,\n            'f': \"3505532\",\n        }],\n [\"Closed\",\n{\n            'v': 2023271,\n            'f': \"2023271\",\n        },\n{\n            'v': 2023289,\n            'f': \"2023289\",\n        },\n{\n            'v': 2023293,\n            'f': \"2023293\",\n        },\n{\n            'v': 2023424,\n            'f': \"2023424\",\n        },\n{\n            'v': 2023384,\n            'f': \"2023384\",\n        },\n{\n            'v': 2023389,\n            'f': \"2023389\",\n        },\n{\n            'v': 2023407,\n            'f': \"2023407\",\n        },\n{\n            'v': 2023410,\n            'f': \"2023410\",\n        },\n{\n            'v': 2023378,\n            'f': \"2023378\",\n        },\n{\n            'v': 2023570,\n            'f': \"2023570\",\n        },\n{\n            'v': 2022453,\n            'f': \"2022453\",\n        }],\n [\"All OA\",\n{\n            'v': 1483280,\n            'f': \"1483280\",\n        },\n{\n            'v': 1483276,\n            'f': \"1483276\",\n        },\n{\n            'v': 1483288,\n            'f': \"1483288\",\n        },\n{\n            'v': 1483284,\n            'f': \"1483284\",\n        },\n{\n            'v': 1483256,\n            'f': \"1483256\",\n        },\n{\n            'v': 1483303,\n            'f': \"1483303\",\n        },\n{\n            'v': 1483283,\n            'f': \"1483283\",\n        },\n{\n            'v': 1483315,\n            'f': \"1483315\",\n        },\n{\n            'v': 1483285,\n            'f': \"1483285\",\n        },\n{\n            'v': 1483192,\n            'f': \"1483192\",\n        },\n{\n            'v': 1483079,\n            'f': \"1483079\",\n        }],\n [\"Green, Submitted\",\n{\n            'v': 402965,\n            'f': \"402965\",\n        },\n{\n            'v': 402962,\n            'f': \"402962\",\n        },\n{\n            'v': 402961,\n            'f': \"402961\",\n        },\n{\n            'v': 402959,\n            'f': \"402959\",\n        },\n{\n            'v': 402961,\n            'f': \"402961\",\n        },\n{\n            'v': 402952,\n            'f': \"402952\",\n        },\n{\n            'v': 402941,\n            'f': \"402941\",\n        },\n{\n            'v': 402932,\n            'f': \"402932\",\n        },\n{\n            'v': 402935,\n            'f': \"402935\",\n        },\n{\n            'v': 402923,\n            'f': \"402923\",\n        },\n{\n            'v': 402872,\n            'f': \"402872\",\n        }],\n [\"Pure Gold\",\n{\n            'v': 259386,\n            'f': \"259386\",\n        },\n{\n            'v': 259384,\n            'f': \"259384\",\n        },\n{\n            'v': 259411,\n            'f': \"259411\",\n        },\n{\n            'v': 259391,\n            'f': \"259391\",\n        },\n{\n            'v': 259382,\n            'f': \"259382\",\n        },\n{\n            'v': 259400,\n            'f': \"259400\",\n        },\n{\n            'v': 259390,\n            'f': \"259390\",\n        },\n{\n            'v': 259403,\n            'f': \"259403\",\n        },\n{\n            'v': 259413,\n            'f': \"259413\",\n        },\n{\n            'v': 259397,\n            'f': \"259397\",\n        },\n{\n            'v': 259367,\n            'f': \"259367\",\n        }],\n [\"Bronze\",\n{\n            'v': 583732,\n            'f': \"583732\",\n        },\n{\n            'v': 583749,\n            'f': \"583749\",\n        },\n{\n            'v': 583728,\n            'f': \"583728\",\n        },\n{\n            'v': 583740,\n            'f': \"583740\",\n        },\n{\n            'v': 583715,\n            'f': \"583715\",\n        },\n{\n            'v': 583735,\n            'f': \"583735\",\n        },\n{\n            'v': 583737,\n            'f': \"583737\",\n        },\n{\n            'v': 583738,\n            'f': \"583738\",\n        },\n{\n            'v': 583695,\n            'f': \"583695\",\n        },\n{\n            'v': 583698,\n            'f': \"583698\",\n        },\n{\n            'v': 583678,\n            'f': \"583678\",\n        }],\n [\"Hybrid\",\n{\n            'v': 109577,\n            'f': \"109577\",\n        },\n{\n            'v': 109573,\n            'f': \"109573\",\n        },\n{\n            'v': 109578,\n            'f': \"109578\",\n        },\n{\n            'v': 109581,\n            'f': \"109581\",\n        },\n{\n            'v': 109578,\n            'f': \"109578\",\n        },\n{\n            'v': 109589,\n            'f': \"109589\",\n        },\n{\n            'v': 109590,\n            'f': \"109590\",\n        },\n{\n            'v': 109609,\n            'f': \"109609\",\n        },\n{\n            'v': 109617,\n            'f': \"109617\",\n        },\n{\n            'v': 109575,\n            'f': \"109575\",\n        },\n{\n            'v': 109570,\n            'f': \"109570\",\n        }],\n [\"Green, Published\",\n{\n            'v': 83262,\n            'f': \"83262\",\n        },\n{\n            'v': 83252,\n            'f': \"83252\",\n        },\n{\n            'v': 83255,\n            'f': \"83255\",\n        },\n{\n            'v': 83255,\n            'f': \"83255\",\n        },\n{\n            'v': 83257,\n            'f': \"83257\",\n        },\n{\n            'v': 83268,\n            'f': \"83268\",\n        },\n{\n            'v': 83260,\n            'f': \"83260\",\n        },\n{\n            'v': 83266,\n            'f': \"83266\",\n        },\n{\n            'v': 83262,\n            'f': \"83262\",\n        },\n{\n            'v': 83243,\n            'f': \"83243\",\n        },\n{\n            'v': 83240,\n            'f': \"83240\",\n        }],\n [\"Green, Accepted\",\n{\n            'v': 44358,\n            'f': \"44358\",\n        },\n{\n            'v': 44356,\n            'f': \"44356\",\n        },\n{\n            'v': 44355,\n            'f': \"44355\",\n        },\n{\n            'v': 44358,\n            'f': \"44358\",\n        },\n{\n            'v': 44363,\n            'f': \"44363\",\n        },\n{\n            'v': 44359,\n            'f': \"44359\",\n        },\n{\n            'v': 44365,\n            'f': \"44365\",\n        },\n{\n            'v': 44367,\n            'f': \"44367\",\n        },\n{\n            'v': 44363,\n            'f': \"44363\",\n        },\n{\n            'v': 44356,\n            'f': \"44356\",\n        },\n{\n            'v': 44352,\n            'f': \"44352\",\n        }]],\n        columns: [[\"string\", \"index\"], [\"number\", \"2010\"], [\"number\", \"2011\"], [\"number\", \"2012\"], [\"number\", \"2013\"], [\"number\", \"2014\"], [\"number\", \"2015\"], [\"number\", \"2016\"], [\"number\", \"2017\"], [\"number\", \"2018\"], [\"number\", \"2019\"], [\"number\", \"2020\"]],\n        columnOptions: [{\"width\": \"1px\", \"className\": \"index_column\"}],\n        rowsPerPage: 25,\n        helpUrl: \"https://colab.research.google.com/notebooks/data_table.ipynb\",\n      });\n    ",
      "text/html": [
       "<div>\n",
       "<style scoped>\n",
       "    .dataframe tbody tr th:only-of-type {\n",
       "        vertical-align: middle;\n",
       "    }\n",
       "\n",
       "    .dataframe tbody tr th {\n",
       "        vertical-align: top;\n",
       "    }\n",
       "\n",
       "    .dataframe thead th {\n",
       "        text-align: right;\n",
       "    }\n",
       "</style>\n",
       "<table border=\"1\" class=\"dataframe\">\n",
       "  <thead>\n",
       "    <tr style=\"text-align: right;\">\n",
       "      <th></th>\n",
       "      <th>2010</th>\n",
       "      <th>2011</th>\n",
       "      <th>2012</th>\n",
       "      <th>2013</th>\n",
       "      <th>2014</th>\n",
       "      <th>2015</th>\n",
       "      <th>2016</th>\n",
       "      <th>2017</th>\n",
       "      <th>2018</th>\n",
       "      <th>2019</th>\n",
       "      <th>2020</th>\n",
       "    </tr>\n",
       "  </thead>\n",
       "  <tbody>\n",
       "    <tr>\n",
       "      <th>Total Publications</th>\n",
       "      <td>3506551</td>\n",
       "      <td>3506565</td>\n",
       "      <td>3506581</td>\n",
       "      <td>3506708</td>\n",
       "      <td>3506640</td>\n",
       "      <td>3506692</td>\n",
       "      <td>3506690</td>\n",
       "      <td>3506725</td>\n",
       "      <td>3506663</td>\n",
       "      <td>3506762</td>\n",
       "      <td>3505532</td>\n",
       "    </tr>\n",
       "    <tr>\n",
       "      <th>Closed</th>\n",
       "      <td>2023271</td>\n",
       "      <td>2023289</td>\n",
       "      <td>2023293</td>\n",
       "      <td>2023424</td>\n",
       "      <td>2023384</td>\n",
       "      <td>2023389</td>\n",
       "      <td>2023407</td>\n",
       "      <td>2023410</td>\n",
       "      <td>2023378</td>\n",
       "      <td>2023570</td>\n",
       "      <td>2022453</td>\n",
       "    </tr>\n",
       "    <tr>\n",
       "      <th>All OA</th>\n",
       "      <td>1483280</td>\n",
       "      <td>1483276</td>\n",
       "      <td>1483288</td>\n",
       "      <td>1483284</td>\n",
       "      <td>1483256</td>\n",
       "      <td>1483303</td>\n",
       "      <td>1483283</td>\n",
       "      <td>1483315</td>\n",
       "      <td>1483285</td>\n",
       "      <td>1483192</td>\n",
       "      <td>1483079</td>\n",
       "    </tr>\n",
       "    <tr>\n",
       "      <th>Green, Submitted</th>\n",
       "      <td>402965</td>\n",
       "      <td>402962</td>\n",
       "      <td>402961</td>\n",
       "      <td>402959</td>\n",
       "      <td>402961</td>\n",
       "      <td>402952</td>\n",
       "      <td>402941</td>\n",
       "      <td>402932</td>\n",
       "      <td>402935</td>\n",
       "      <td>402923</td>\n",
       "      <td>402872</td>\n",
       "    </tr>\n",
       "    <tr>\n",
       "      <th>Pure Gold</th>\n",
       "      <td>259386</td>\n",
       "      <td>259384</td>\n",
       "      <td>259411</td>\n",
       "      <td>259391</td>\n",
       "      <td>259382</td>\n",
       "      <td>259400</td>\n",
       "      <td>259390</td>\n",
       "      <td>259403</td>\n",
       "      <td>259413</td>\n",
       "      <td>259397</td>\n",
       "      <td>259367</td>\n",
       "    </tr>\n",
       "    <tr>\n",
       "      <th>Bronze</th>\n",
       "      <td>583732</td>\n",
       "      <td>583749</td>\n",
       "      <td>583728</td>\n",
       "      <td>583740</td>\n",
       "      <td>583715</td>\n",
       "      <td>583735</td>\n",
       "      <td>583737</td>\n",
       "      <td>583738</td>\n",
       "      <td>583695</td>\n",
       "      <td>583698</td>\n",
       "      <td>583678</td>\n",
       "    </tr>\n",
       "    <tr>\n",
       "      <th>Hybrid</th>\n",
       "      <td>109577</td>\n",
       "      <td>109573</td>\n",
       "      <td>109578</td>\n",
       "      <td>109581</td>\n",
       "      <td>109578</td>\n",
       "      <td>109589</td>\n",
       "      <td>109590</td>\n",
       "      <td>109609</td>\n",
       "      <td>109617</td>\n",
       "      <td>109575</td>\n",
       "      <td>109570</td>\n",
       "    </tr>\n",
       "    <tr>\n",
       "      <th>Green, Published</th>\n",
       "      <td>83262</td>\n",
       "      <td>83252</td>\n",
       "      <td>83255</td>\n",
       "      <td>83255</td>\n",
       "      <td>83257</td>\n",
       "      <td>83268</td>\n",
       "      <td>83260</td>\n",
       "      <td>83266</td>\n",
       "      <td>83262</td>\n",
       "      <td>83243</td>\n",
       "      <td>83240</td>\n",
       "    </tr>\n",
       "    <tr>\n",
       "      <th>Green, Accepted</th>\n",
       "      <td>44358</td>\n",
       "      <td>44356</td>\n",
       "      <td>44355</td>\n",
       "      <td>44358</td>\n",
       "      <td>44363</td>\n",
       "      <td>44359</td>\n",
       "      <td>44365</td>\n",
       "      <td>44367</td>\n",
       "      <td>44363</td>\n",
       "      <td>44356</td>\n",
       "      <td>44352</td>\n",
       "    </tr>\n",
       "  </tbody>\n",
       "</table>\n",
       "</div>"
      ],
      "text/plain": [
       "                       2010     2011     2012  ...     2018     2019     2020\n",
       "Total Publications  3506551  3506565  3506581  ...  3506663  3506762  3505532\n",
       "Closed              2023271  2023289  2023293  ...  2023378  2023570  2022453\n",
       "All OA              1483280  1483276  1483288  ...  1483285  1483192  1483079\n",
       "Green, Submitted     402965   402962   402961  ...   402935   402923   402872\n",
       "Pure Gold            259386   259384   259411  ...   259413   259397   259367\n",
       "Bronze               583732   583749   583728  ...   583695   583698   583678\n",
       "Hybrid               109577   109573   109578  ...   109617   109575   109570\n",
       "Green, Published      83262    83252    83255  ...    83262    83243    83240\n",
       "Green, Accepted       44358    44356    44355  ...    44363    44356    44352\n",
       "\n",
       "[9 rows x 11 columns]"
      ]
     },
     "execution_count": 15,
     "metadata": {
      "tags": []
     },
     "output_type": "execute_result"
    }
   ],
   "source": [
    "#@title\n",
    "print(\"\\nData Growth\\n...extracting data..\\n\")\n",
    "#\n",
    "#\n",
    "#\n",
    "#\n",
    "years = [x for x in range(start_year_growth, end_year+1)]\n",
    "row_labels = ['Total Publications', 'Closed', 'All OA', 'Green, Submitted','Pure Gold',  'Bronze', 'Hybrid', 'Green, Published', 'Green, Accepted' ]\n",
    "df = pd.DataFrame(columns=years, index=row_labels)\n",
    "#\n",
    "#\n",
    "#\n",
    "# TIP query payload has this shape\n",
    "# {'_stats': {'total_count': 13920},\n",
    "#  'open_access_categories': [{'count': 8075, 'id': 'closed', 'name': 'Closed'},\n",
    "#   {'count': 5845, 'id': 'oa_all', 'name': 'All OA'},\n",
    "#   {'count': 2060, 'id': 'gold_bronze', 'name': 'Bronze'},\n",
    "#   {'count': 2046, 'id': 'gold_pure', 'name': 'Pure Gold'},\n",
    "#   {'count': 680, 'id': 'gold_hybrid', 'name': 'Hybrid'},\n",
    "#   {'count': 467, 'id': 'green_acc', 'name': 'Green, Accepted'},\n",
    "#   {'count': 448, 'id': 'green_pub', 'name': 'Green, Published'},\n",
    "#   {'count': 144, 'id': 'green_sub', 'name': 'Green, Submitted'}]}\n",
    "#\n",
    "#\n",
    "#\n",
    "for y in years:\n",
    "  q1 = \"\"\"search publications where year = {} and {} return open_access_categories[name]\"\"\"\n",
    "  data = dsl.query(q1.format(y, cat_query))\n",
    "  if data.count_total == 0:\n",
    "    print(\"WARNING: no data found for the parameters selected!\")\n",
    "    break\n",
    "  df.at['Total Publications', y] = data.count_total\n",
    "  #\n",
    "  for l in row_labels:\n",
    "    for cat in data.open_access_categories:\n",
    "      if cat['name'] == l:\n",
    "        df.at[l, y] = cat['count']\n",
    "\n",
    "  time.sleep(1)\n",
    "df = df.fillna(0) # fill empty values\n",
    "\n",
    "#\n",
    "save_locally(\"DataGrowth\", df, start_year_growth)\n",
    "#\n",
    "df\n"
   ]
  },
  {
   "cell_type": "markdown",
   "metadata": {
    "colab_type": "text",
    "id": "GO4GCnH9X0sX"
   },
   "source": [
    "## 3. Data Top Target Institutions"
   ]
  },
  {
   "cell_type": "code",
   "execution_count": 16,
   "metadata": {
    "cellView": "code",
    "colab": {
     "base_uri": "https://localhost:8080/",
     "height": 221
    },
    "colab_type": "code",
    "executionInfo": {
     "elapsed": 49838,
     "status": "ok",
     "timestamp": 1575288908290,
     "user": {
      "displayName": "Michele Pasin",
      "photoUrl": "https://lh3.googleusercontent.com/a-/AAuE7mBu8LVjIGgontF2Wax51BoL5KFx8esezX3bUmaa0g=s64",
      "userId": "10309320684375994511"
     },
     "user_tz": 0
    },
    "id": "1CJjjUqRX32p",
    "outputId": "e22c4203-bfd9-44f6-cf17-eea7ab19b3d8"
   },
   "outputs": [
    {
     "name": "stdout",
     "output_type": "stream",
     "text": [
      "\n",
      "Data Top Target Institutions\n",
      "...extracting data..\n",
      "\n",
      "Returned Funders: 1000\n",
      "Returned Funders: 1000\n",
      "Returned Research_orgs: 1000\n",
      "Returned Research_orgs: 1000\n",
      "Returned Research_orgs: 1000\n",
      "Returned Research_orgs: 1000\n",
      "\n",
      "..saved file 'DataTopTargetInstitutions_1006_Computer_Hardware___0604_Genetics_2015_2020.csv\n"
     ]
    }
   ],
   "source": [
    "# PS version updated on 2019-11-29 so to include pubs with altmetric too\n",
    "# this means adding another extraction query specifically for pubs altmetric > 0\n",
    "\n",
    "#@title\n",
    "print(\"\\nData Top Target Institutions\\n...extracting data..\\n\")\n",
    "#\n",
    "#\n",
    "#\n",
    "# two queries, an extra one only for altmetric publications count\n",
    "q1 = \"\"\"search publications where year in [{}:{}] and {} return funders aggregate count, citations_total, rcr_avg, fcr_gavg, altmetric_median limit 1000\"\"\"\n",
    "q1B = \"\"\"search publications where altmetric > 0 and year in [{}:{}] and {} return funders[name] aggregate count limit 1000\"\"\"\n",
    "# calc df\n",
    "df = dsl.query(q1.format(start_year, end_year, cat_query)).as_dataframe()\n",
    "if len(df) == 0:\n",
    "  print(\"WARNING: no data found for the parameters selected!\")\n",
    "else:\n",
    "  # continue\n",
    "  dfB = dsl.query(q1B.format(start_year, end_year, cat_query)).as_dataframe()\n",
    "  # rename\n",
    "  df.rename(columns={\"country_name\": \"country\", \"count\": \"pubs\"}, inplace=True)\n",
    "  dfB.rename(columns={\"count\": \"pubs_altmetric\"}, inplace=True)\n",
    "  # merge using 'id' \n",
    "  dfmerged = pd.merge(df, dfB[['id', 'pubs_altmetric']], how='left', on=\"id\")\n",
    "  # rename, sort and calc altmetric percentage\n",
    "  dfmerged = dfmerged.fillna(0) # fill empty values\n",
    "  dfmerged['pubs_altmetric'] = dfmerged['pubs_altmetric'].astype('int') # make col int (from float)\n",
    "  dfmerged['pubs_altmetric_prc'] = ((dfmerged['pubs_altmetric'] * 100) / dfmerged['pubs']).round(2) # add % representation\n",
    "  dfmerged = dfmerged[['id', 'name', 'country', 'pubs', 'pubs_altmetric', 'pubs_altmetric_prc', 'citations_total', 'rcr_avg', 'fcr_gavg', 'altmetric_median', ]].copy()\n",
    "  dfmerged['type'] = \"funders\"\n",
    "  dfmerged\n",
    "\n",
    "\n",
    "  #\n",
    "  #\n",
    "  q2 = \"\"\"search publications where year in [{}:{}] and {} return research_orgs aggregate count, citations_total, rcr_avg, fcr_gavg, altmetric_median limit 1000\"\"\"\n",
    "  q2B = \"\"\"search publications where altmetric > 0 and year in [{}:{}] and {} return research_orgs[name] aggregate count limit 1000\"\"\"\n",
    "  df2 = dsl.query(q2.format(start_year, end_year, cat_query)).as_dataframe()\n",
    "  df2B = dsl.query(q2B.format(start_year, end_year, cat_query)).as_dataframe()\n",
    "  df2.rename(columns={\"country_name\": \"country\", \"count\": \"pubs\"}, inplace=True)\n",
    "  df2B.rename(columns={\"count\": \"pubs_altmetric\"}, inplace=True)\n",
    "  # merge using 'name' \n",
    "  df2merged = pd.merge(df2, df2B[['id', 'pubs_altmetric']], how='left', on=\"id\")\n",
    "  # rename, sort and calc altmetric percentage\n",
    "  df2merged = df2merged.fillna(0) # fill empty values\n",
    "  df2merged['pubs_altmetric'] = df2merged['pubs_altmetric'].astype('int') # make col int (from float)\n",
    "  df2merged['pubs_altmetric_prc'] = ((df2merged['pubs_altmetric'] * 100) / df2merged['pubs']).round(2) # add % representation\n",
    "  df2merged = df2merged[['id', 'name', 'country', 'pubs', 'pubs_altmetric', 'pubs_altmetric_prc', 'citations_total', 'rcr_avg', 'fcr_gavg', 'altmetric_median', ]].copy()\n",
    "  df2merged['type'] = \"research_organizations\"\n",
    "  df2merged\n",
    "\n",
    "  #\n",
    "  # append second query to first\n",
    "  #\n",
    "  dfmerged = dfmerged.append(df2merged, ignore_index=True)\n",
    "  #\n",
    "  #\n",
    "  #\n",
    "  q3 = \"\"\"search publications where open_access_categories.id=\"oa_all\" and year in [{}:{}] and {} return research_orgs aggregate count, citations_total, rcr_avg, fcr_gavg, altmetric_median limit 1000\"\"\"\n",
    "  q3B = \"\"\"search publications where altmetric > 0 and open_access_categories.id=\"oa_all\" and year in [{}:{}] and {} return research_orgs[name] aggregate count limit 1000\"\"\"\n",
    "  df3 = dsl.query(q3.format(start_year, end_year, cat_query)).as_dataframe()\n",
    "  df3B = dsl.query(q3B.format(start_year, end_year, cat_query)).as_dataframe()\n",
    "  df3.rename(columns={\"country_name\": \"country\", \"count\": \"pubs\"}, inplace=True)\n",
    "  df3B.rename(columns={\"count\": \"pubs_altmetric\"}, inplace=True)\n",
    "  # merge using 'name' \n",
    "  df3merged = pd.merge(df3, df3B[['id', 'pubs_altmetric']], how='left', on=\"id\")\n",
    "  # rename, sort and calc altmetric percentage\n",
    "  df3merged = df3merged.fillna(0) # fill empty values\n",
    "  df3merged['pubs_altmetric'] = df3merged['pubs_altmetric'].astype('int') # make col int (from float)\n",
    "  df3merged['pubs_altmetric_prc'] = ((df3merged['pubs_altmetric'] * 100) / df3merged['pubs']).round(2) # add % representation\n",
    "  df3merged = df3merged[['id', 'name', 'country', 'pubs', 'pubs_altmetric', 'pubs_altmetric_prc', 'citations_total', 'rcr_avg', 'fcr_gavg', 'altmetric_median', ]].copy()\n",
    "  df3merged['type'] = \"research_organizations_all_oa\"\n",
    "  df3merged\n",
    "\n",
    "  #\n",
    "  # append thid query to first\n",
    "  #\n",
    "  dfmerged = dfmerged.append(df3merged, ignore_index=True)\n",
    "  # #\n",
    "\n",
    "  #\n",
    "  save_locally(\"DataTopTargetInstitutions\", dfmerged)\n",
    "  #\n",
    "  dfmerged"
   ]
  },
  {
   "cell_type": "markdown",
   "metadata": {
    "colab_type": "text",
    "id": "gha0dKpEkzP_"
   },
   "source": [
    "## 4. Data Top Countries "
   ]
  },
  {
   "cell_type": "code",
   "execution_count": 17,
   "metadata": {
    "cellView": "both",
    "colab": {
     "base_uri": "https://localhost:8080/",
     "height": 187
    },
    "colab_type": "code",
    "executionInfo": {
     "elapsed": 52088,
     "status": "ok",
     "timestamp": 1575288910547,
     "user": {
      "displayName": "Michele Pasin",
      "photoUrl": "https://lh3.googleusercontent.com/a-/AAuE7mBu8LVjIGgontF2Wax51BoL5KFx8esezX3bUmaa0g=s64",
      "userId": "10309320684375994511"
     },
     "user_tz": 0
    },
    "id": "VbIpdHYVk2Xa",
    "outputId": "fbf97bc6-cdee-4478-ada6-b2fcbe9fd366"
   },
   "outputs": [
    {
     "name": "stdout",
     "output_type": "stream",
     "text": [
      "\n",
      "Data Top Countries\n",
      "...extracting data..\n",
      "\n",
      "Returned Research_org_countries: 242\n",
      "Returned Research_org_countries: 140\n",
      "WARNINGS [1]\n",
      "Field 'FOR' is deprecated in favor of category_for. Please refer to https://docs.dimensions.ai/dsl/releasenotes.html for more details\n",
      "\n",
      "..saved file 'DataTopCountries_1006_Computer_Hardware____0604_Genetics_2015_2020.csv\n"
     ]
    }
   ],
   "source": [
    "#@title\n",
    "print(\"\\nData Top Countries\\n...extracting data..\\n\")\n",
    "#\n",
    "#\n",
    "#\n",
    "#\n",
    "q1 = \"\"\"search publications where year in [{}:{}] and {} return research_org_countries aggregate citations_total limit 1000\"\"\"\n",
    "df = dsl.query(q1.format(start_year, end_year, cat_query)).as_dataframe()\n",
    "if len(df) == 0:\n",
    "  print(\"WARNING: no data found for the parameters selected!\")\n",
    "else:\n",
    "  df.rename(columns={\"count\": \"pubs\", \"citations_total\": \"citations\"}, inplace=True)\n",
    "  df = df[['name', 'pubs', 'citations', ]]\n",
    "  #df\n",
    "  #\n",
    "  #\n",
    "  # search grants now\n",
    "  #\n",
    "  q2 = \"\"\"search grants where start_year in [{}:{}] and {} return research_org_countries aggregate funding limit 1000\"\"\"\n",
    "  df2 = dsl.query(q2.format(start_year, end_year, cat_query_grants), verbose=True).as_dataframe()\n",
    "  df2.rename(columns={\"count\": \"grants\"}, inplace=True)\n",
    "  #df2\n",
    "  if not df2.empty:\n",
    "    df3 = pd.merge(df, df2[['name', 'grants', 'funding']], how='left', on=\"name\")\n",
    "  else:\n",
    "    df3 = df2\n",
    "  df3 = df3.fillna(0) # fill empty values\n",
    "  #\n",
    "  #\n",
    "  save_locally(\"DataTopCountries\", df3)\n",
    "  #\n",
    "  #\n",
    "  df3"
   ]
  },
  {
   "cell_type": "markdown",
   "metadata": {
    "colab_type": "text",
    "id": "L6EJwgwzIhmA"
   },
   "source": [
    "## Downloading the data"
   ]
  },
  {
   "cell_type": "code",
   "execution_count": 19,
   "metadata": {
    "colab": {
     "base_uri": "https://localhost:8080/",
     "height": 68
    },
    "colab_type": "code",
    "executionInfo": {
     "elapsed": 2281,
     "status": "ok",
     "timestamp": 1575288935632,
     "user": {
      "displayName": "Michele Pasin",
      "photoUrl": "https://lh3.googleusercontent.com/a-/AAuE7mBu8LVjIGgontF2Wax51BoL5KFx8esezX3bUmaa0g=s64",
      "userId": "10309320684375994511"
     },
     "user_tz": 0
    },
    "id": "iatvdaW6i0yu",
    "outputId": "a2b0c063-ce95-417d-af92-841f8d89d865"
   },
   "outputs": [
    {
     "name": "stdout",
     "output_type": "stream",
     "text": [
      "\n",
      "===\n",
      "Done.\n"
     ]
    }
   ],
   "source": [
    "import zipfile\n",
    "import os \n",
    "from google.colab import files\n",
    "\n",
    "def zipdir(path, ziph):\n",
    "    # ziph is zipfile handle\n",
    "    for root, dirs, files in os.walk(path):\n",
    "        for file in files:\n",
    "            ziph.write(os.path.join(root, file))\n",
    "\n",
    "zipf = zipfile.ZipFile(output_folder_name + '.zip', 'w', zipfile.ZIP_DEFLATED)\n",
    "zipdir(output_folder_name + '/', zipf)\n",
    "zipf.close()\n",
    "\n",
    "try:\n",
    "  files.download(output_folder_name + '.zip')\n",
    "  print(\"\\n===\\nDone.\")\n",
    "except:\n",
    "  print(\"ERROR - Google Colab couldn't download - please try again...\")"
   ]
  }
 ],
 "metadata": {
  "colab": {
   "collapsed_sections": [],
   "name": "AJ analysis Development.ipynb",
   "provenance": [],
   "toc_visible": true
  },
  "kernelspec": {
   "display_name": "Python 3",
   "name": "python3"
  }
 },
 "nbformat": 4,
 "nbformat_minor": 0
}
