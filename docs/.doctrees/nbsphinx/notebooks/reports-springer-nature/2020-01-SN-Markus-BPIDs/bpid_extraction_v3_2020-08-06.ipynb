{
 "cells": [
  {
   "cell_type": "markdown",
   "metadata": {
    "Collapsed": "false",
    "toc-hr-collapsed": false
   },
   "source": [
    "# Holding Analysis Tool - data extraction for BPIDs - 2020-08-06\n",
    "\n",
    "Final report\n",
    "* https://docs.google.com/document/d/1yQJZIf8X7kJrUTOvl3XlIjl74VNnMeKNIPf1CQqAT8E/edit"
   ]
  },
  {
   "cell_type": "markdown",
   "metadata": {
    "Collapsed": "false",
    "toc-hr-collapsed": false
   },
   "source": [
    "## Data Sources Information"
   ]
  },
  {
   "cell_type": "markdown",
   "metadata": {
    "Collapsed": "false",
    "toc-hr-collapsed": false
   },
   "source": [
    "### Customers IDs \n",
    "\n",
    "* BPIDs for prototype from Markus https://docs.google.com/spreadsheets/d/1bIRQxULsSkGrtVRd63-GcgM67NSFsScPa6VC0z5xYf0/edit#gid=0\n",
    "* Site to BP ID mapping table https://hive.springernature.com/docs/DOC-185186\n",
    "    * `ZSite 07-29-2020.XLSX`, then export to CSV\n",
    "\n",
    "### APIs: BPIDs hierarchy\n",
    "\n",
    "* api_parents = \"http://institution-service.live.cf.private.springer.com/v1/hierarchy/{}\"\n",
    "* api_children = \"http://institution-service.live.cf.private.springer.com/v1/children/{}\"\n",
    "\n",
    "### APIs: KBARTS\n",
    "\n",
    "* url_books = \"http://ml-read-online.live.sl.i.springer.com:7655/admin-portal/201802052054-134/kbart/book-report.xqy?bp={}\"\n",
    "* url_journals = \"http://ml-read-online.live.sl.i.springer.com:7655/admin-portal/201802052054-134/kbart/journal-report.xqy?bp={}\"\n",
    "* url_nature = \"http://entitlements-api.live.private.springernature.io/entitlements/v1/journals/kbart?bpid={}\"\n",
    "\n",
    "### APIs: Usage on GBQ\n",
    "\n",
    "* online console https://console.cloud.google.com/bigquery?project=usage-data-reporting&organizationId=271269911051\n",
    "* hive docs https://hive.springernature.com/groups/sap-business-intelligence/pages/google-bigquery-support\n",
    "* query for Springer usage (using BPIDs) is:\n",
    "\n",
    "```\n",
    "Select DOI, Usage_2016, Usage_2017, Usage_2018, Denials_2016, Denials_2017, Denials_2018 FROM (\n",
    "    SELECT \n",
    "    BP_ID, Item_DOI as DOI,  sum(clicks),\n",
    "    sum(Case when Calendar_Year = 2016 and Access_YN = 'Y' Then Clicks Else 0 END) as Usage_2016,\n",
    "    sum(Case when Calendar_Year = 2017 and Access_YN = 'Y' Then Clicks Else 0 END) as Usage_2017,\n",
    "    sum(Case when Calendar_Year = 2018 and Access_YN = 'Y' Then Clicks Else 0 END) as Usage_2018,\n",
    "    sum(Case when Calendar_Year = 2016 and Access_YN = 'N' Then Clicks Else 0 END) as Denials_2016,\n",
    "    sum(Case when Calendar_Year = 2017 and Access_YN = 'N' Then Clicks Else 0 END) as Denials_2017,\n",
    "    sum(Case when Calendar_Year = 2018 and Access_YN = 'N' Then Clicks Else 0 END) as Denials_2018,\n",
    "\n",
    "    FROM `usage-data-reporting.PROD_IFM_Usage.mv_usage_bp_monthly_spl` \n",
    "    Where \n",
    "    Document_Type = 'ARTICLE'\n",
    "    and Item_DOI is not null\n",
    "    and DOI is not null\n",
    "    and clicks is not null\n",
    "    and Calendar_Year in (2016, 2017, 2018)\n",
    "    Group by 1, 2\n",
    "    Order by 1, 2)\n",
    "Where BP_ID = '2000277680' \n",
    "```\n",
    "* query for Nature usage, using Site IDs, is:\n",
    "\n",
    "```\n",
    "Select DOI, Usage_2016, Usage_2017, Usage_2018, Denials_2016, Denials_2017, Denials_2018 FROM (\n",
    " \n",
    "SELECT\n",
    "Site_ID, Item_DOI as DOI,  sum(clicks),\n",
    " \n",
    "sum(Case when Calendar_Year = 2016 and Access_YN = 'Y' Then Clicks Else 0 END) as Usage_2016,\n",
    "sum(Case when Calendar_Year = 2017 and Access_YN = 'Y' Then Clicks Else 0 END) as Usage_2017,\n",
    "sum(Case when Calendar_Year = 2018 and Access_YN = 'Y' Then Clicks Else 0 END) as Usage_2018,\n",
    "sum(Case when Calendar_Year = 2016 and Access_YN = 'N' Then Clicks Else 0 END) as Denials_2016,\n",
    "sum(Case when Calendar_Year = 2017 and Access_YN = 'N' Then Clicks Else 0 END) as Denials_2017,\n",
    "sum(Case when Calendar_Year = 2018 and Access_YN = 'N' Then Clicks Else 0 END) as Denials_2018,\n",
    " \n",
    "FROM `usage-data-reporting.PROD_IFM_Usage.mv_usage_bp_monthly_nat`\n",
    "Where\n",
    "Item_DOI is not null\n",
    "and DOI is not null\n",
    "and clicks is not null\n",
    "and Calendar_Year in (2016, 2017, 2018)\n",
    "Group by 1, 2\n",
    "Order by 1, 2)\n",
    " \n",
    "Where Site_ID = '2000323035'\n",
    "```"
   ]
  },
  {
   "cell_type": "markdown",
   "metadata": {
    "Collapsed": "true"
   },
   "source": [
    "## Prerequisites"
   ]
  },
  {
   "cell_type": "code",
   "execution_count": null,
   "metadata": {
    "Collapsed": "false"
   },
   "outputs": [],
   "source": [
    "import requests\n",
    "import pandas as pd\n",
    "import json\n",
    "import os\n",
    "from tqdm.notebook import tqdm as progress\n",
    "from google.cloud import bigquery\n",
    "\n",
    "from IPython.display import display\n",
    "\n",
    "# save to an external HD\n",
    "OUTPUT_FOLDER = \"/Volumes/Albano/2020-08-06-holding-analysis-extraction\""
   ]
  },
  {
   "cell_type": "markdown",
   "metadata": {
    "Collapsed": "true"
   },
   "source": [
    "## 1. Load Customer BPIDs and SITEids from CSV"
   ]
  },
  {
   "cell_type": "code",
   "execution_count": 39,
   "metadata": {
    "Collapsed": "false"
   },
   "outputs": [
    {
     "data": {
      "text/html": [
       "<div>\n",
       "<style scoped>\n",
       "    .dataframe tbody tr th:only-of-type {\n",
       "        vertical-align: middle;\n",
       "    }\n",
       "\n",
       "    .dataframe tbody tr th {\n",
       "        vertical-align: top;\n",
       "    }\n",
       "\n",
       "    .dataframe thead th {\n",
       "        text-align: right;\n",
       "    }\n",
       "</style>\n",
       "<table border=\"1\" class=\"dataframe\">\n",
       "  <thead>\n",
       "    <tr style=\"text-align: right;\">\n",
       "      <th></th>\n",
       "      <th>BPID</th>\n",
       "      <th>Account</th>\n",
       "      <th>Contact</th>\n",
       "    </tr>\n",
       "  </thead>\n",
       "  <tbody>\n",
       "    <tr>\n",
       "      <th>0</th>\n",
       "      <td>3000612920</td>\n",
       "      <td>Research Organization of Information</td>\n",
       "      <td>Martijn Timman</td>\n",
       "    </tr>\n",
       "    <tr>\n",
       "      <th>1</th>\n",
       "      <td>2000703964</td>\n",
       "      <td>INSERM DISC-IST</td>\n",
       "      <td>Martijn Timman</td>\n",
       "    </tr>\n",
       "    <tr>\n",
       "      <th>2</th>\n",
       "      <td>2000478521</td>\n",
       "      <td>The University of Tokyo</td>\n",
       "      <td>Martijn Timman</td>\n",
       "    </tr>\n",
       "    <tr>\n",
       "      <th>3</th>\n",
       "      <td>2000277680</td>\n",
       "      <td>Shanghai Library / Institute of</td>\n",
       "      <td>Martijn Timman</td>\n",
       "    </tr>\n",
       "    <tr>\n",
       "      <th>4</th>\n",
       "      <td>2000342845</td>\n",
       "      <td>National Library of China NLC</td>\n",
       "      <td>Martijn Timman</td>\n",
       "    </tr>\n",
       "  </tbody>\n",
       "</table>\n",
       "</div>"
      ],
      "text/plain": [
       "         BPID                               Account         Contact\n",
       "0  3000612920  Research Organization of Information  Martijn Timman\n",
       "1  2000703964                       INSERM DISC-IST  Martijn Timman\n",
       "2  2000478521               The University of Tokyo  Martijn Timman\n",
       "3  2000277680       Shanghai Library / Institute of  Martijn Timman\n",
       "4  2000342845         National Library of China NLC  Martijn Timman"
      ]
     },
     "metadata": {},
     "output_type": "display_data"
    },
    {
     "data": {
      "text/html": [
       "<div>\n",
       "<style scoped>\n",
       "    .dataframe tbody tr th:only-of-type {\n",
       "        vertical-align: middle;\n",
       "    }\n",
       "\n",
       "    .dataframe tbody tr th {\n",
       "        vertical-align: top;\n",
       "    }\n",
       "\n",
       "    .dataframe thead th {\n",
       "        text-align: right;\n",
       "    }\n",
       "</style>\n",
       "<table border=\"1\" class=\"dataframe\">\n",
       "  <thead>\n",
       "    <tr style=\"text-align: right;\">\n",
       "      <th></th>\n",
       "      <th>Business Partner</th>\n",
       "      <th>Identification Type</th>\n",
       "      <th>Identification number</th>\n",
       "      <th>BP Type</th>\n",
       "      <th>Combined</th>\n",
       "      <th>New Entry?</th>\n",
       "    </tr>\n",
       "  </thead>\n",
       "  <tbody>\n",
       "    <tr>\n",
       "      <th>0</th>\n",
       "      <td>3000142312</td>\n",
       "      <td>ZSITE</td>\n",
       "      <td>15760</td>\n",
       "      <td>5</td>\n",
       "      <td>3000142312 15760</td>\n",
       "      <td>No</td>\n",
       "    </tr>\n",
       "    <tr>\n",
       "      <th>1</th>\n",
       "      <td>3000181182</td>\n",
       "      <td>ZSITE</td>\n",
       "      <td>6763</td>\n",
       "      <td>5</td>\n",
       "      <td>3000181182 6763</td>\n",
       "      <td>No</td>\n",
       "    </tr>\n",
       "    <tr>\n",
       "      <th>2</th>\n",
       "      <td>3000182792</td>\n",
       "      <td>ZSITE</td>\n",
       "      <td>2772</td>\n",
       "      <td>5</td>\n",
       "      <td>3000182792 2772</td>\n",
       "      <td>No</td>\n",
       "    </tr>\n",
       "    <tr>\n",
       "      <th>3</th>\n",
       "      <td>3000241247</td>\n",
       "      <td>ZSITE</td>\n",
       "      <td>7573</td>\n",
       "      <td>5</td>\n",
       "      <td>3000241247 7573</td>\n",
       "      <td>No</td>\n",
       "    </tr>\n",
       "    <tr>\n",
       "      <th>4</th>\n",
       "      <td>3000262079</td>\n",
       "      <td>ZSITE</td>\n",
       "      <td>21218</td>\n",
       "      <td>5</td>\n",
       "      <td>3000262079 21218</td>\n",
       "      <td>No</td>\n",
       "    </tr>\n",
       "  </tbody>\n",
       "</table>\n",
       "</div>"
      ],
      "text/plain": [
       "   Business Partner Identification Type  Identification number  BP Type  \\\n",
       "0        3000142312               ZSITE                  15760        5   \n",
       "1        3000181182               ZSITE                   6763        5   \n",
       "2        3000182792               ZSITE                   2772        5   \n",
       "3        3000241247               ZSITE                   7573        5   \n",
       "4        3000262079               ZSITE                  21218        5   \n",
       "\n",
       "           Combined New Entry?  \n",
       "0  3000142312 15760         No  \n",
       "1   3000181182 6763         No  \n",
       "2   3000182792 2772         No  \n",
       "3   3000241247 7573         No  \n",
       "4  3000262079 21218         No  "
      ]
     },
     "metadata": {},
     "output_type": "display_data"
    },
    {
     "name": "stdout",
     "output_type": "stream",
     "text": [
      "BPIDs:  192\n",
      "BPIDs unique:  189\n",
      "SiteIDs:  9699\n",
      "BPIDs (unique) mapped to SiteIDs:  151\n"
     ]
    }
   ],
   "source": [
    "\n",
    "#\n",
    "# bpids\n",
    "#\n",
    "bpids = pd.read_csv(\"data_input/Markus - HA BPIDs for MVP - Sheet1.csv\")\n",
    "BPIDS_LIST = bpids[\"BPID\"].to_list()\n",
    "display(bpids.head())\n",
    "BPIDS_LIST_UNIQUE = list(set(BPIDS_LIST))\n",
    "\n",
    "\n",
    "#\n",
    "# siteids\n",
    "#\n",
    "\n",
    "siteids = pd.read_csv(\"data_input/Site to BP ID mapping table_07-29-2020.csv\")\n",
    "display(siteids.head())\n",
    "\n",
    "#\n",
    "# functions\n",
    "#\n",
    "\n",
    "def gen_bpid_folder(folder, top_level_folder=OUTPUT_FOLDER, docreate=True):\n",
    "    \"util to create output folders for each bpid\"\n",
    "    if not os.path.exists(top_level_folder):\n",
    "        if docreate: os.makedirs(top_level_folder)\n",
    "    if not os.path.exists(top_level_folder + \"/\" + folder):\n",
    "        if docreate: os.makedirs(top_level_folder + \"/\" + folder)\n",
    "    return top_level_folder + \"/\" + folder + \"/\"\n",
    "\n",
    "def bpid_to_siteid(bpid):\n",
    "    \"return a siteid from a bpid, if found\"\n",
    "    try:\n",
    "        return siteids[siteids['Business Partner'] == bpid]['Identification number'].values[0]\n",
    "    except:\n",
    "        return None\n",
    "    \n",
    "def test():\n",
    "    for x in sorted(BPIDS_LIST):\n",
    "        print(bpid_to_siteid(x))\n",
    "        \n",
    "def count_bpid_mapped():\n",
    "    \"util for qa - count how many bpids have mappings to site IDs\"\n",
    "    return len([x for x in BPIDS_LIST_UNIQUE if bpid_to_siteid(x)])\n",
    "    # => 154 with mappings to site IDs\n",
    "\n",
    "\n",
    "print(\"BPIDs: \", len(BPIDS_LIST)) \n",
    "print(\"BPIDs unique: \", len(BPIDS_LIST_UNIQUE)) \n",
    "print(\"SiteIDs: \", len(siteids)) \n",
    "print(\"BPIDs (unique) mapped to SiteIDs: \", count_bpid_mapped())     "
   ]
  },
  {
   "cell_type": "markdown",
   "metadata": {
    "Collapsed": "false"
   },
   "source": [
    "## 2. Extracting bpids parents/children info and kbarts (entitlements) "
   ]
  },
  {
   "cell_type": "markdown",
   "metadata": {
    "Collapsed": "true"
   },
   "source": [
    "### 2.1 API for parents and children\n",
    "\n",
    "* from a single BPID, pull out all parents and children as JSON\n",
    "* save JSON to folder, if needed\n",
    "* return simple list of BPIDs, including original one\n",
    "\n",
    "PS\n",
    "* `extract_related_bpids_from_local_file` is a modified version that uses previously saved local data"
   ]
  },
  {
   "cell_type": "code",
   "execution_count": 29,
   "metadata": {
    "Collapsed": "false"
   },
   "outputs": [],
   "source": [
    "api_parents = \"http://institution-service.live.cf.private.springer.com/v1/hierarchy/{}\"\n",
    "api_children = \"http://institution-service.live.cf.private.springer.com/v1/children/{}\"\n",
    "\n",
    "        \n",
    "def api_extract_related_bpids(BPID):\n",
    "    BPID = str(BPID)\n",
    "    print(\"======\\nChecking Hierarchy for BPID: \", BPID, \"\\n======\")\n",
    "    path = gen_bpid_folder(BPID)\n",
    "    # call API\n",
    "    parents = requests.get(api_parents.format(BPID)).json()\n",
    "    children = requests.get(api_children.format(BPID)).json()\n",
    "    # save\n",
    "    with open(path + 'parents.json', 'w') as outfile:\n",
    "        json.dump(parents, outfile)\n",
    "    with open(path + 'children.json', 'w') as outfile:\n",
    "        json.dump(children, outfile)\n",
    "    print(\"..data saved in\", path)\n",
    "    # extract BPIDs as list\n",
    "    bpid_list = [BPID] # seed with main bpid\n",
    "    for x in parents[\"parents\"]: \n",
    "        bpid_list.append(x['institution']['id'])\n",
    "        if x['parents']:  # just go one level up\n",
    "            for z in x[\"parents\"]: \n",
    "                bpid_list.append(z['institution']['id'])            \n",
    "    for x in children:\n",
    "        bpid_list.append(x['id'])\n",
    "    print(\"Related BPIDs found: \", len(bpid_list), \"=\", str(bpid_list))\n",
    "    return bpid_list\n",
    "\n",
    "\n",
    "def extract_related_bpids_from_local_file(BPID):\n",
    "    \"\"\"use the previously saved json data (from extract_related_bpids) instead of calling SN API\"\"\"\n",
    "    BPID = str(BPID)\n",
    "    print(\"======\\nChecking Pre-saved Hierarchy for BPID: \", BPID, \"\\n======\")\n",
    "    path = gen_bpid_folder(BPID, docreate=False)\n",
    "    # get json data\n",
    "    with open(path + 'parents.json', \"r\") as read_file:\n",
    "        parents = json.load(read_file)\n",
    "    with open(path + 'children.json', \"r\") as read_file:\n",
    "        children = json.load(read_file)\n",
    "    bpid_list = []\n",
    "    # extract BPIDs as list\n",
    "    bpid_list = [BPID] # seed with main bpid\n",
    "    for x in parents[\"parents\"]: \n",
    "        bpid_list.append(x['institution']['id'])\n",
    "        if x['parents']:  # just go one level up\n",
    "            for z in x[\"parents\"]: \n",
    "                bpid_list.append(z['institution']['id'])            \n",
    "    for x in children:\n",
    "        bpid_list.append(x['id'])\n",
    "    print(\"Related BPIDs found: \", len(bpid_list), \"=\", str(bpid_list))\n",
    "    return bpid_list\n",
    "\n",
    "\n",
    "\n",
    "# eg\n",
    "if False:\n",
    "    for x in progress(BPIDS_LIST[:10]):\n",
    "        api_extract_related_bpids(x)\n",
    "        \n",
    "# eg\n",
    "if False:\n",
    "    for x in progress(BPIDS_LIST[:10]):\n",
    "        api_extract_related_bpids_from_local_file(x)"
   ]
  },
  {
   "cell_type": "markdown",
   "metadata": {
    "Collapsed": "false"
   },
   "source": [
    "### 2.2 API: Extracting KBARTs\n",
    "\n",
    "* for a single BPID, get nature/springer kbarts (books is postponed)\n",
    "* save all in the main BPID folder (= customer the analysis focuses on)"
   ]
  },
  {
   "cell_type": "code",
   "execution_count": 21,
   "metadata": {
    "Collapsed": "false"
   },
   "outputs": [],
   "source": [
    "url_books = \"http://ml-read-online.live.sl.i.springer.com:7655/admin-portal/201802052054-134/kbart/book-report.xqy?bp={}\"\n",
    "url_journals = \"http://ml-read-online.live.sl.i.springer.com:7655/admin-portal/201802052054-134/kbart/journal-report.xqy?bp={}\"\n",
    "url_nature = \"http://entitlements-api.live.private.springernature.io/entitlements/v1/journals/kbart?bpid={}\"\n",
    "\n",
    "\n",
    "def api_extract_kbarts(BPID, BPID_TOP=None):\n",
    "    if not BPID_TOP:\n",
    "        BPID_TOP = BPID\n",
    "    BPID, BPID_TOP = str(BPID), str(BPID_TOP)\n",
    "    path = gen_bpid_folder(BPID_TOP)\n",
    "    print(\"===\\nExtracting KBARTs for\", BPID, \" -- top level=\", BPID_TOP)\n",
    "    if False:\n",
    "        # not needed yet\n",
    "        print(\"..books...\")\n",
    "        d = requests.get(url_books.format(BPID), auth=('casper-db-user', 'casper'))\n",
    "        with open(path + BPID + \"_books.kbart\", 'wb') as outfile:\n",
    "            outfile.write(d.text.encode('utf8'))\n",
    "    #\n",
    "    print(\"..journals/springer...\")\n",
    "    d = requests.get(url_journals.format(BPID), auth=('casper-db-user', 'casper'))\n",
    "    with open(path + BPID + \"_journals_springer.kbart\", 'wb') as outfile:\n",
    "        outfile.write(d.text.encode('utf8'))\n",
    "    #\n",
    "    print(\"..journals/nature...\")\n",
    "    d = requests.get(url_nature.format(BPID), auth=('casper-db-user', 'casper'))\n",
    "    with open(path + BPID + \"_journals_nature.kbart\", 'wb') as outfile:\n",
    "        outfile.write(d.text.encode('utf8'))\n",
    "\n",
    "        \n",
    "# eg\n",
    "if False:\n",
    "    for x in progress(BPIDS_LIST[:10]):\n",
    "        api_extract_kbarts(x)\n"
   ]
  },
  {
   "cell_type": "markdown",
   "metadata": {
    "Collapsed": "false"
   },
   "source": [
    "### 2.3 Finally - Running the Extraction"
   ]
  },
  {
   "cell_type": "code",
   "execution_count": 23,
   "metadata": {
    "Collapsed": "false"
   },
   "outputs": [
    {
     "data": {
      "application/vnd.jupyter.widget-view+json": {
       "model_id": "87518ab508574446a2fa99791a157342",
       "version_major": 2,
       "version_minor": 0
      },
      "text/plain": [
       "HBox(children=(FloatProgress(value=0.0, max=189.0), HTML(value='')))"
      ]
     },
     "metadata": {},
     "output_type": "display_data"
    },
    {
     "name": "stdout",
     "output_type": "stream",
     "text": [
      "======\n",
      "Checking Hierarchy for BPID:  3001049600 \n",
      "======\n",
      "..data saved in /Volumes/Albano/2020-08-06-holding-analysis-extraction/3001049600/\n",
      "Related BPIDs found:  1 = ['3001049600']\n"
     ]
    },
    {
     "data": {
      "application/vnd.jupyter.widget-view+json": {
       "model_id": "86f9d84b08234234a27418dbe423700e",
       "version_major": 2,
       "version_minor": 0
      },
      "text/plain": [
       "HBox(children=(FloatProgress(value=0.0, max=1.0), HTML(value='')))"
      ]
     },
     "metadata": {},
     "output_type": "display_data"
    },
    {
     "name": "stdout",
     "output_type": "stream",
     "text": [
      "===\n",
      "Extracting KBARTs for 3001049600  -- top level= 3001049600\n",
      "..journals/springer...\n",
      "..journals/nature...\n",
      "\n",
      "======\n",
      "Checking Hierarchy for BPID:  2000022016 \n",
      "======\n",
      "..data saved in /Volumes/Albano/2020-08-06-holding-analysis-extraction/2000022016/\n",
      "Related BPIDs found:  8 = ['2000022016', '3000130459', '3000179129', '3000198352', '3000251517', '3991330314', '3001139967', '3002011430']\n"
     ]
    },
    {
     "data": {
      "application/vnd.jupyter.widget-view+json": {
       "model_id": "7feba3e95b494a9db4f9644291428d7a",
       "version_major": 2,
       "version_minor": 0
      },
      "text/plain": [
       "HBox(children=(FloatProgress(value=0.0, max=8.0), HTML(value='')))"
      ]
     },
     "metadata": {},
     "output_type": "display_data"
    },
    {
     "name": "stdout",
     "output_type": "stream",
     "text": [
      "===\n",
      "Extracting KBARTs for 2000022016  -- top level= 2000022016\n",
      "..journals/springer...\n",
      "..journals/nature...\n",
      "===\n",
      "Extracting KBARTs for 3000130459  -- top level= 2000022016\n",
      "..journals/springer...\n",
      "..journals/nature...\n",
      "===\n",
      "Extracting KBARTs for 3000179129  -- top level= 2000022016\n",
      "..journals/springer...\n",
      "..journals/nature...\n",
      "===\n",
      "Extracting KBARTs for 3000198352  -- top level= 2000022016\n",
      "..journals/springer...\n",
      "..journals/nature...\n",
      "===\n",
      "Extracting KBARTs for 3000251517  -- top level= 2000022016\n",
      "..journals/springer...\n",
      "..journals/nature...\n",
      "===\n",
      "Extracting KBARTs for 3991330314  -- top level= 2000022016\n",
      "..journals/springer...\n",
      "..journals/nature...\n",
      "===\n",
      "Extracting KBARTs for 3001139967  -- top level= 2000022016\n",
      "..journals/springer...\n",
      "..journals/nature...\n",
      "===\n",
      "Extracting KBARTs for 3002011430  -- top level= 2000022016\n",
      "..journals/springer...\n",
      "..journals/nature...\n",
      "\n",
      "======\n",
      "Checking Hierarchy for BPID:  3000201735 \n",
      "======\n",
      "..data saved in /Volumes/Albano/2020-08-06-holding-analysis-extraction/3000201735/\n",
      "Related BPIDs found:  43 = ['3000201735', '3000175179', '1000255885', '1600001227', '2000617610', '3000116918', '3000116931', '3000116934', '3000175175', '3000204988', '3000205002', '3000205076', '3000205082', '8200982076', '3004223722', '3004223724', '3001088854', '3001157578', '3001201143', '3004221684', '3004221752', '3004221761', '3004221783', '3004221787', '3004221802', '3004221830', '3004221837', '3004221925', '3004221927', '3004221930', '3004221938', '3004221942', '3004191508', '3004191511', '3004191512', '2000115039', '3000238655', '3000608689', '2000398568', '3000929851', '3002830455', '3991363251', '3991363253']\n"
     ]
    },
    {
     "data": {
      "application/vnd.jupyter.widget-view+json": {
       "model_id": "31e47178fbe14e38917d499044231f0f",
       "version_major": 2,
       "version_minor": 0
      },
      "text/plain": [
       "HBox(children=(FloatProgress(value=0.0, max=43.0), HTML(value='')))"
      ]
     },
     "metadata": {},
     "output_type": "display_data"
    },
    {
     "name": "stdout",
     "output_type": "stream",
     "text": [
      "===\n",
      "Extracting KBARTs for 3000201735  -- top level= 3000201735\n",
      "..journals/springer...\n",
      "..journals/nature...\n",
      "===\n",
      "Extracting KBARTs for 3000175179  -- top level= 3000201735\n",
      "..journals/springer...\n",
      "..journals/nature...\n",
      "===\n",
      "Extracting KBARTs for 1000255885  -- top level= 3000201735\n",
      "..journals/springer...\n",
      "..journals/nature...\n",
      "===\n",
      "Extracting KBARTs for 1600001227  -- top level= 3000201735\n",
      "..journals/springer...\n",
      "..journals/nature...\n",
      "===\n",
      "Extracting KBARTs for 2000617610  -- top level= 3000201735\n",
      "..journals/springer...\n",
      "..journals/nature...\n",
      "===\n",
      "Extracting KBARTs for 3000116918  -- top level= 3000201735\n",
      "..journals/springer...\n",
      "..journals/nature...\n",
      "===\n",
      "Extracting KBARTs for 3000116931  -- top level= 3000201735\n",
      "..journals/springer...\n",
      "..journals/nature...\n",
      "===\n",
      "Extracting KBARTs for 3000116934  -- top level= 3000201735\n",
      "..journals/springer...\n",
      "..journals/nature...\n",
      "===\n",
      "Extracting KBARTs for 3000175175  -- top level= 3000201735\n",
      "..journals/springer...\n",
      "..journals/nature...\n",
      "===\n",
      "Extracting KBARTs for 3000204988  -- top level= 3000201735\n",
      "..journals/springer...\n",
      "..journals/nature...\n",
      "===\n",
      "Extracting KBARTs for 3000205002  -- top level= 3000201735\n",
      "..journals/springer...\n",
      "..journals/nature...\n",
      "===\n",
      "Extracting KBARTs for 3000205076  -- top level= 3000201735\n",
      "..journals/springer...\n",
      "..journals/nature...\n",
      "===\n",
      "Extracting KBARTs for 3000205082  -- top level= 3000201735\n",
      "..journals/springer...\n",
      "..journals/nature...\n",
      "===\n",
      "Extracting KBARTs for 8200982076  -- top level= 3000201735\n",
      "..journals/springer...\n",
      "..journals/nature...\n",
      "===\n",
      "Extracting KBARTs for 3004223722  -- top level= 3000201735\n",
      "..journals/springer...\n",
      "..journals/nature...\n",
      "===\n",
      "Extracting KBARTs for 3004223724  -- top level= 3000201735\n",
      "..journals/springer...\n",
      "..journals/nature...\n",
      "===\n",
      "Extracting KBARTs for 3001088854  -- top level= 3000201735\n",
      "..journals/springer...\n",
      "..journals/nature...\n",
      "===\n",
      "Extracting KBARTs for 3001157578  -- top level= 3000201735\n",
      "..journals/springer...\n",
      "..journals/nature...\n",
      "===\n",
      "Extracting KBARTs for 3001201143  -- top level= 3000201735\n",
      "..journals/springer...\n",
      "..journals/nature...\n",
      "===\n",
      "Extracting KBARTs for 3004221684  -- top level= 3000201735\n",
      "..journals/springer...\n",
      "..journals/nature...\n",
      "===\n",
      "Extracting KBARTs for 3004221752  -- top level= 3000201735\n",
      "..journals/springer...\n",
      "..journals/nature...\n",
      "===\n",
      "Extracting KBARTs for 3004221761  -- top level= 3000201735\n",
      "..journals/springer...\n",
      "..journals/nature...\n",
      "===\n",
      "Extracting KBARTs for 3004221783  -- top level= 3000201735\n",
      "..journals/springer...\n",
      "..journals/nature...\n",
      "===\n",
      "Extracting KBARTs for 3004221787  -- top level= 3000201735\n",
      "..journals/springer...\n",
      "..journals/nature...\n",
      "===\n",
      "Extracting KBARTs for 3004221802  -- top level= 3000201735\n",
      "..journals/springer...\n",
      "..journals/nature...\n",
      "===\n",
      "Extracting KBARTs for 3004221830  -- top level= 3000201735\n",
      "..journals/springer...\n",
      "..journals/nature...\n",
      "===\n",
      "Extracting KBARTs for 3004221837  -- top level= 3000201735\n",
      "..journals/springer...\n",
      "..journals/nature...\n",
      "===\n",
      "Extracting KBARTs for 3004221925  -- top level= 3000201735\n",
      "..journals/springer...\n",
      "..journals/nature...\n",
      "===\n",
      "Extracting KBARTs for 3004221927  -- top level= 3000201735\n",
      "..journals/springer...\n",
      "..journals/nature...\n",
      "===\n",
      "Extracting KBARTs for 3004221930  -- top level= 3000201735\n",
      "..journals/springer...\n",
      "..journals/nature...\n",
      "===\n",
      "Extracting KBARTs for 3004221938  -- top level= 3000201735\n",
      "..journals/springer...\n",
      "..journals/nature...\n",
      "===\n",
      "Extracting KBARTs for 3004221942  -- top level= 3000201735\n",
      "..journals/springer...\n",
      "..journals/nature...\n",
      "===\n",
      "Extracting KBARTs for 3004191508  -- top level= 3000201735\n",
      "..journals/springer...\n",
      "..journals/nature...\n",
      "===\n",
      "Extracting KBARTs for 3004191511  -- top level= 3000201735\n",
      "..journals/springer...\n",
      "..journals/nature...\n",
      "===\n",
      "Extracting KBARTs for 3004191512  -- top level= 3000201735\n",
      "..journals/springer...\n",
      "..journals/nature...\n",
      "===\n",
      "Extracting KBARTs for 2000115039  -- top level= 3000201735\n",
      "..journals/springer...\n",
      "..journals/nature...\n",
      "===\n",
      "Extracting KBARTs for 3000238655  -- top level= 3000201735\n",
      "..journals/springer...\n",
      "..journals/nature...\n",
      "===\n",
      "Extracting KBARTs for 3000608689  -- top level= 3000201735\n",
      "..journals/springer...\n",
      "..journals/nature...\n",
      "===\n",
      "Extracting KBARTs for 2000398568  -- top level= 3000201735\n",
      "..journals/springer...\n",
      "..journals/nature...\n",
      "===\n",
      "Extracting KBARTs for 3000929851  -- top level= 3000201735\n",
      "..journals/springer...\n",
      "..journals/nature...\n",
      "===\n",
      "Extracting KBARTs for 3002830455  -- top level= 3000201735\n",
      "..journals/springer...\n",
      "..journals/nature...\n",
      "===\n",
      "Extracting KBARTs for 3991363251  -- top level= 3000201735\n",
      "..journals/springer...\n",
      "..journals/nature...\n",
      "===\n",
      "Extracting KBARTs for 3991363253  -- top level= 3000201735\n",
      "..journals/springer...\n",
      "..journals/nature...\n",
      "\n",
      "======\n",
      "Checking Hierarchy for BPID:  3000161288 \n",
      "======\n",
      "..data saved in /Volumes/Albano/2020-08-06-holding-analysis-extraction/3000161288/\n",
      "Related BPIDs found:  2 = ['3000161288', '3000675571']\n"
     ]
    },
    {
     "data": {
      "application/vnd.jupyter.widget-view+json": {
       "model_id": "cd7dc3e572c548179a10e2e44e1c6257",
       "version_major": 2,
       "version_minor": 0
      },
      "text/plain": [
       "HBox(children=(FloatProgress(value=0.0, max=2.0), HTML(value='')))"
      ]
     },
     "metadata": {},
     "output_type": "display_data"
    },
    {
     "name": "stdout",
     "output_type": "stream",
     "text": [
      "===\n",
      "Extracting KBARTs for 3000161288  -- top level= 3000161288\n",
      "..journals/springer...\n",
      "..journals/nature...\n",
      "===\n",
      "Extracting KBARTs for 3000675571  -- top level= 3000161288\n",
      "..journals/springer...\n",
      "..journals/nature...\n",
      "\n",
      "======\n",
      "Checking Hierarchy for BPID:  2000185358 \n",
      "======\n",
      "..data saved in /Volumes/Albano/2020-08-06-holding-analysis-extraction/2000185358/\n",
      "Related BPIDs found:  9 = ['2000185358', '3000130459', '3000251517', '3001070824', '3991330314', '3000092011', '3001139967', '3002011430', '3002114477']\n"
     ]
    },
    {
     "data": {
      "application/vnd.jupyter.widget-view+json": {
       "model_id": "c8c85186cdb349ee93b13a803754694e",
       "version_major": 2,
       "version_minor": 0
      },
      "text/plain": [
       "HBox(children=(FloatProgress(value=0.0, max=9.0), HTML(value='')))"
      ]
     },
     "metadata": {},
     "output_type": "display_data"
    },
    {
     "name": "stdout",
     "output_type": "stream",
     "text": [
      "===\n",
      "Extracting KBARTs for 2000185358  -- top level= 2000185358\n",
      "..journals/springer...\n",
      "..journals/nature...\n",
      "===\n",
      "Extracting KBARTs for 3000130459  -- top level= 2000185358\n",
      "..journals/springer...\n",
      "..journals/nature...\n",
      "===\n",
      "Extracting KBARTs for 3000251517  -- top level= 2000185358\n",
      "..journals/springer...\n",
      "..journals/nature...\n",
      "===\n",
      "Extracting KBARTs for 3001070824  -- top level= 2000185358\n",
      "..journals/springer...\n",
      "..journals/nature...\n",
      "===\n",
      "Extracting KBARTs for 3991330314  -- top level= 2000185358\n",
      "..journals/springer...\n",
      "..journals/nature...\n",
      "===\n",
      "Extracting KBARTs for 3000092011  -- top level= 2000185358\n",
      "..journals/springer...\n",
      "..journals/nature...\n",
      "===\n",
      "Extracting KBARTs for 3001139967  -- top level= 2000185358\n",
      "..journals/springer...\n",
      "..journals/nature...\n",
      "===\n",
      "Extracting KBARTs for 3002011430  -- top level= 2000185358\n",
      "..journals/springer...\n",
      "..journals/nature...\n",
      "===\n",
      "Extracting KBARTs for 3002114477  -- top level= 2000185358\n",
      "..journals/springer...\n",
      "..journals/nature...\n",
      "\n",
      "======\n",
      "Checking Hierarchy for BPID:  2000263694 \n",
      "======\n",
      "..data saved in /Volumes/Albano/2020-08-06-holding-analysis-extraction/2000263694/\n",
      "Related BPIDs found:  9 = ['2000263694', '3000130459', '3000179129', '3000198352', '3000251517', '3991330314', '3001139967', '3002011430', '3002114477']\n"
     ]
    },
    {
     "data": {
      "application/vnd.jupyter.widget-view+json": {
       "model_id": "a5d6a751c5be41bc8227e0c8b15b2066",
       "version_major": 2,
       "version_minor": 0
      },
      "text/plain": [
       "HBox(children=(FloatProgress(value=0.0, max=9.0), HTML(value='')))"
      ]
     },
     "metadata": {},
     "output_type": "display_data"
    },
    {
     "name": "stdout",
     "output_type": "stream",
     "text": [
      "===\n",
      "Extracting KBARTs for 2000263694  -- top level= 2000263694\n",
      "..journals/springer...\n",
      "..journals/nature...\n",
      "===\n",
      "Extracting KBARTs for 3000130459  -- top level= 2000263694\n",
      "..journals/springer...\n",
      "..journals/nature...\n",
      "===\n",
      "Extracting KBARTs for 3000179129  -- top level= 2000263694\n",
      "..journals/springer...\n",
      "..journals/nature...\n",
      "===\n",
      "Extracting KBARTs for 3000198352  -- top level= 2000263694\n",
      "..journals/springer...\n",
      "..journals/nature...\n",
      "===\n",
      "Extracting KBARTs for 3000251517  -- top level= 2000263694\n",
      "..journals/springer...\n",
      "..journals/nature...\n",
      "===\n",
      "Extracting KBARTs for 3991330314  -- top level= 2000263694\n",
      "..journals/springer...\n",
      "..journals/nature...\n",
      "===\n",
      "Extracting KBARTs for 3001139967  -- top level= 2000263694\n",
      "..journals/springer...\n",
      "..journals/nature...\n",
      "===\n",
      "Extracting KBARTs for 3002011430  -- top level= 2000263694\n",
      "..journals/springer...\n",
      "..journals/nature...\n",
      "===\n",
      "Extracting KBARTs for 3002114477  -- top level= 2000263694\n",
      "..journals/springer...\n",
      "..journals/nature...\n",
      "\n",
      "======\n",
      "Checking Hierarchy for BPID:  3000141328 \n",
      "======\n",
      "..data saved in /Volumes/Albano/2020-08-06-holding-analysis-extraction/3000141328/\n",
      "Related BPIDs found:  1 = ['3000141328']\n"
     ]
    },
    {
     "data": {
      "application/vnd.jupyter.widget-view+json": {
       "model_id": "0fea70fc30044495b810547ff2f826a4",
       "version_major": 2,
       "version_minor": 0
      },
      "text/plain": [
       "HBox(children=(FloatProgress(value=0.0, max=1.0), HTML(value='')))"
      ]
     },
     "metadata": {},
     "output_type": "display_data"
    },
    {
     "name": "stdout",
     "output_type": "stream",
     "text": [
      "===\n",
      "Extracting KBARTs for 3000141328  -- top level= 3000141328\n",
      "..journals/springer...\n",
      "..journals/nature...\n",
      "\n",
      "======\n",
      "Checking Hierarchy for BPID:  3003695120 \n",
      "======\n",
      "++++ ERROR ++++\n",
      "Errors index = [3003695120]\n"
     ]
    },
    {
     "data": {
      "application/vnd.jupyter.widget-view+json": {
       "model_id": "640defac833b4c82940b235d6d0a7173",
       "version_major": 2,
       "version_minor": 0
      },
      "text/plain": [
       "HBox(children=(FloatProgress(value=0.0, max=1.0), HTML(value='')))"
      ]
     },
     "metadata": {},
     "output_type": "display_data"
    },
    {
     "name": "stdout",
     "output_type": "stream",
     "text": [
      "===\n",
      "Extracting KBARTs for 3000141328  -- top level= 3003695120\n",
      "..journals/springer...\n",
      "..journals/nature...\n",
      "\n",
      "======\n",
      "Checking Hierarchy for BPID:  8200595982 \n",
      "======\n",
      "..data saved in /Volumes/Albano/2020-08-06-holding-analysis-extraction/8200595982/\n",
      "Related BPIDs found:  2 = ['8200595982', '8200828607']\n"
     ]
    },
    {
     "data": {
      "application/vnd.jupyter.widget-view+json": {
       "model_id": "cc06c1e2017340deaa3b712cc7b483a4",
       "version_major": 2,
       "version_minor": 0
      },
      "text/plain": [
       "HBox(children=(FloatProgress(value=0.0, max=2.0), HTML(value='')))"
      ]
     },
     "metadata": {},
     "output_type": "display_data"
    },
    {
     "name": "stdout",
     "output_type": "stream",
     "text": [
      "===\n",
      "Extracting KBARTs for 8200595982  -- top level= 8200595982\n",
      "..journals/springer...\n",
      "..journals/nature...\n",
      "===\n",
      "Extracting KBARTs for 8200828607  -- top level= 8200595982\n",
      "..journals/springer...\n",
      "..journals/nature...\n",
      "\n",
      "======\n",
      "Checking Hierarchy for BPID:  8200832017 \n",
      "======\n",
      "..data saved in /Volumes/Albano/2020-08-06-holding-analysis-extraction/8200832017/\n",
      "Related BPIDs found:  2 = ['8200832017', '8200828607']\n"
     ]
    },
    {
     "data": {
      "application/vnd.jupyter.widget-view+json": {
       "model_id": "3ad0182eab7a4e0cb745a58c22fdda8c",
       "version_major": 2,
       "version_minor": 0
      },
      "text/plain": [
       "HBox(children=(FloatProgress(value=0.0, max=2.0), HTML(value='')))"
      ]
     },
     "metadata": {},
     "output_type": "display_data"
    },
    {
     "name": "stdout",
     "output_type": "stream",
     "text": [
      "===\n",
      "Extracting KBARTs for 8200832017  -- top level= 8200832017\n",
      "..journals/springer...\n",
      "..journals/nature...\n",
      "===\n",
      "Extracting KBARTs for 8200828607  -- top level= 8200832017\n",
      "..journals/springer...\n",
      "..journals/nature...\n",
      "\n",
      "======\n",
      "Checking Hierarchy for BPID:  3000102420 \n",
      "======\n",
      "..data saved in /Volumes/Albano/2020-08-06-holding-analysis-extraction/3000102420/\n",
      "Related BPIDs found:  1 = ['3000102420']\n"
     ]
    },
    {
     "data": {
      "application/vnd.jupyter.widget-view+json": {
       "model_id": "f4cc68412a5d4a94a093bc604b5bc665",
       "version_major": 2,
       "version_minor": 0
      },
      "text/plain": [
       "HBox(children=(FloatProgress(value=0.0, max=1.0), HTML(value='')))"
      ]
     },
     "metadata": {},
     "output_type": "display_data"
    },
    {
     "name": "stdout",
     "output_type": "stream",
     "text": [
      "===\n",
      "Extracting KBARTs for 3000102420  -- top level= 3000102420\n",
      "..journals/springer...\n",
      "..journals/nature...\n",
      "\n",
      "======\n",
      "Checking Hierarchy for BPID:  3000671765 \n",
      "======\n",
      "..data saved in /Volumes/Albano/2020-08-06-holding-analysis-extraction/3000671765/\n",
      "Related BPIDs found:  2 = ['3000671765', '3002121962']\n"
     ]
    },
    {
     "data": {
      "application/vnd.jupyter.widget-view+json": {
       "model_id": "f301aa55c8784dd7b4846340eb992946",
       "version_major": 2,
       "version_minor": 0
      },
      "text/plain": [
       "HBox(children=(FloatProgress(value=0.0, max=2.0), HTML(value='')))"
      ]
     },
     "metadata": {},
     "output_type": "display_data"
    },
    {
     "name": "stdout",
     "output_type": "stream",
     "text": [
      "===\n",
      "Extracting KBARTs for 3000671765  -- top level= 3000671765\n",
      "..journals/springer...\n",
      "..journals/nature...\n",
      "===\n",
      "Extracting KBARTs for 3002121962  -- top level= 3000671765\n",
      "..journals/springer...\n",
      "..journals/nature...\n",
      "\n",
      "======\n",
      "Checking Hierarchy for BPID:  3000756244 \n",
      "======\n",
      "..data saved in /Volumes/Albano/2020-08-06-holding-analysis-extraction/3000756244/\n",
      "Related BPIDs found:  1 = ['3000756244']\n"
     ]
    },
    {
     "data": {
      "application/vnd.jupyter.widget-view+json": {
       "model_id": "7b5fad7c22004cadab2d7a8592929fe3",
       "version_major": 2,
       "version_minor": 0
      },
      "text/plain": [
       "HBox(children=(FloatProgress(value=0.0, max=1.0), HTML(value='')))"
      ]
     },
     "metadata": {},
     "output_type": "display_data"
    },
    {
     "name": "stdout",
     "output_type": "stream",
     "text": [
      "===\n",
      "Extracting KBARTs for 3000756244  -- top level= 3000756244\n",
      "..journals/springer...\n",
      "..journals/nature...\n",
      "\n",
      "======\n",
      "Checking Hierarchy for BPID:  8200696853 \n",
      "======\n",
      "..data saved in /Volumes/Albano/2020-08-06-holding-analysis-extraction/8200696853/\n",
      "Related BPIDs found:  2 = ['8200696853', '8200828607']\n"
     ]
    },
    {
     "data": {
      "application/vnd.jupyter.widget-view+json": {
       "model_id": "db3de341bd22493d852cec2cebbe605a",
       "version_major": 2,
       "version_minor": 0
      },
      "text/plain": [
       "HBox(children=(FloatProgress(value=0.0, max=2.0), HTML(value='')))"
      ]
     },
     "metadata": {},
     "output_type": "display_data"
    },
    {
     "name": "stdout",
     "output_type": "stream",
     "text": [
      "===\n",
      "Extracting KBARTs for 8200696853  -- top level= 8200696853\n",
      "..journals/springer...\n",
      "..journals/nature...\n",
      "===\n",
      "Extracting KBARTs for 8200828607  -- top level= 8200696853\n",
      "..journals/springer...\n",
      "..journals/nature...\n",
      "\n",
      "======\n",
      "Checking Hierarchy for BPID:  8200881174 \n",
      "======\n",
      "..data saved in /Volumes/Albano/2020-08-06-holding-analysis-extraction/8200881174/\n",
      "Related BPIDs found:  2 = ['8200881174', '8200828607']\n"
     ]
    },
    {
     "data": {
      "application/vnd.jupyter.widget-view+json": {
       "model_id": "001f7f8378954b24b8697625ac5cec80",
       "version_major": 2,
       "version_minor": 0
      },
      "text/plain": [
       "HBox(children=(FloatProgress(value=0.0, max=2.0), HTML(value='')))"
      ]
     },
     "metadata": {},
     "output_type": "display_data"
    },
    {
     "name": "stdout",
     "output_type": "stream",
     "text": [
      "===\n",
      "Extracting KBARTs for 8200881174  -- top level= 8200881174\n",
      "..journals/springer...\n",
      "..journals/nature...\n",
      "===\n",
      "Extracting KBARTs for 8200828607  -- top level= 8200881174\n",
      "..journals/springer...\n",
      "..journals/nature...\n",
      "\n",
      "======\n",
      "Checking Hierarchy for BPID:  3000094233 \n",
      "======\n",
      "..data saved in /Volumes/Albano/2020-08-06-holding-analysis-extraction/3000094233/\n",
      "Related BPIDs found:  1 = ['3000094233']\n"
     ]
    },
    {
     "data": {
      "application/vnd.jupyter.widget-view+json": {
       "model_id": "889c98c16e7f44939b6ab49c58110c36",
       "version_major": 2,
       "version_minor": 0
      },
      "text/plain": [
       "HBox(children=(FloatProgress(value=0.0, max=1.0), HTML(value='')))"
      ]
     },
     "metadata": {},
     "output_type": "display_data"
    },
    {
     "name": "stdout",
     "output_type": "stream",
     "text": [
      "===\n",
      "Extracting KBARTs for 3000094233  -- top level= 3000094233\n",
      "..journals/springer...\n",
      "..journals/nature...\n",
      "\n",
      "======\n",
      "Checking Hierarchy for BPID:  2000578073 \n",
      "======\n",
      "..data saved in /Volumes/Albano/2020-08-06-holding-analysis-extraction/2000578073/\n",
      "Related BPIDs found:  1 = ['2000578073']\n"
     ]
    },
    {
     "data": {
      "application/vnd.jupyter.widget-view+json": {
       "model_id": "d63c1c5b05314b1d919190b8e2e8cd28",
       "version_major": 2,
       "version_minor": 0
      },
      "text/plain": [
       "HBox(children=(FloatProgress(value=0.0, max=1.0), HTML(value='')))"
      ]
     },
     "metadata": {},
     "output_type": "display_data"
    },
    {
     "name": "stdout",
     "output_type": "stream",
     "text": [
      "===\n",
      "Extracting KBARTs for 2000578073  -- top level= 2000578073\n",
      "..journals/springer...\n",
      "..journals/nature...\n",
      "\n",
      "======\n",
      "Checking Hierarchy for BPID:  8200178197 \n",
      "======\n",
      "..data saved in /Volumes/Albano/2020-08-06-holding-analysis-extraction/8200178197/\n",
      "Related BPIDs found:  2 = ['8200178197', '8200828607']\n"
     ]
    },
    {
     "data": {
      "application/vnd.jupyter.widget-view+json": {
       "model_id": "9d9c00a7825e4c158dede638e05dcea5",
       "version_major": 2,
       "version_minor": 0
      },
      "text/plain": [
       "HBox(children=(FloatProgress(value=0.0, max=2.0), HTML(value='')))"
      ]
     },
     "metadata": {},
     "output_type": "display_data"
    },
    {
     "name": "stdout",
     "output_type": "stream",
     "text": [
      "===\n",
      "Extracting KBARTs for 8200178197  -- top level= 8200178197\n",
      "..journals/springer...\n",
      "..journals/nature...\n",
      "===\n",
      "Extracting KBARTs for 8200828607  -- top level= 8200178197\n",
      "..journals/springer...\n",
      "..journals/nature...\n",
      "\n",
      "======\n",
      "Checking Hierarchy for BPID:  3001073183 \n",
      "======\n",
      "..data saved in /Volumes/Albano/2020-08-06-holding-analysis-extraction/3001073183/\n",
      "Related BPIDs found:  1 = ['3001073183']\n"
     ]
    },
    {
     "data": {
      "application/vnd.jupyter.widget-view+json": {
       "model_id": "53d1db4543b4454c87659cb6ae9a1206",
       "version_major": 2,
       "version_minor": 0
      },
      "text/plain": [
       "HBox(children=(FloatProgress(value=0.0, max=1.0), HTML(value='')))"
      ]
     },
     "metadata": {},
     "output_type": "display_data"
    },
    {
     "name": "stdout",
     "output_type": "stream",
     "text": [
      "===\n",
      "Extracting KBARTs for 3001073183  -- top level= 3001073183\n",
      "..journals/springer...\n",
      "..journals/nature...\n",
      "\n",
      "======\n",
      "Checking Hierarchy for BPID:  3000604705 \n",
      "======\n",
      "..data saved in /Volumes/Albano/2020-08-06-holding-analysis-extraction/3000604705/\n",
      "Related BPIDs found:  1 = ['3000604705']\n"
     ]
    },
    {
     "data": {
      "application/vnd.jupyter.widget-view+json": {
       "model_id": "4ca3ea4467364467ae6dd3342e2f9528",
       "version_major": 2,
       "version_minor": 0
      },
      "text/plain": [
       "HBox(children=(FloatProgress(value=0.0, max=1.0), HTML(value='')))"
      ]
     },
     "metadata": {},
     "output_type": "display_data"
    },
    {
     "name": "stdout",
     "output_type": "stream",
     "text": [
      "===\n",
      "Extracting KBARTs for 3000604705  -- top level= 3000604705\n",
      "..journals/springer...\n",
      "..journals/nature...\n",
      "\n",
      "======\n",
      "Checking Hierarchy for BPID:  2000354351 \n",
      "======\n",
      "..data saved in /Volumes/Albano/2020-08-06-holding-analysis-extraction/2000354351/\n",
      "Related BPIDs found:  3 = ['2000354351', '3000241936', '3991436001']\n"
     ]
    },
    {
     "data": {
      "application/vnd.jupyter.widget-view+json": {
       "model_id": "313707690aa24e5b80888970715d6c48",
       "version_major": 2,
       "version_minor": 0
      },
      "text/plain": [
       "HBox(children=(FloatProgress(value=0.0, max=3.0), HTML(value='')))"
      ]
     },
     "metadata": {},
     "output_type": "display_data"
    },
    {
     "name": "stdout",
     "output_type": "stream",
     "text": [
      "===\n",
      "Extracting KBARTs for 2000354351  -- top level= 2000354351\n",
      "..journals/springer...\n",
      "..journals/nature...\n",
      "===\n",
      "Extracting KBARTs for 3000241936  -- top level= 2000354351\n",
      "..journals/springer...\n",
      "..journals/nature...\n",
      "===\n",
      "Extracting KBARTs for 3991436001  -- top level= 2000354351\n",
      "..journals/springer...\n",
      "..journals/nature...\n",
      "\n",
      "======\n",
      "Checking Hierarchy for BPID:  8200724015 \n",
      "======\n",
      "..data saved in /Volumes/Albano/2020-08-06-holding-analysis-extraction/8200724015/\n",
      "Related BPIDs found:  2 = ['8200724015', '8200828607']\n"
     ]
    },
    {
     "data": {
      "application/vnd.jupyter.widget-view+json": {
       "model_id": "0401abc463d04cc990e96f1ab1c58d9c",
       "version_major": 2,
       "version_minor": 0
      },
      "text/plain": [
       "HBox(children=(FloatProgress(value=0.0, max=2.0), HTML(value='')))"
      ]
     },
     "metadata": {},
     "output_type": "display_data"
    },
    {
     "name": "stdout",
     "output_type": "stream",
     "text": [
      "===\n",
      "Extracting KBARTs for 8200724015  -- top level= 8200724015\n",
      "..journals/springer...\n",
      "..journals/nature...\n",
      "===\n",
      "Extracting KBARTs for 8200828607  -- top level= 8200724015\n",
      "..journals/springer...\n",
      "..journals/nature...\n",
      "\n",
      "======\n",
      "Checking Hierarchy for BPID:  3000184373 \n",
      "======\n",
      "..data saved in /Volumes/Albano/2020-08-06-holding-analysis-extraction/3000184373/\n",
      "Related BPIDs found:  2 = ['3000184373', '8200828607']\n"
     ]
    },
    {
     "data": {
      "application/vnd.jupyter.widget-view+json": {
       "model_id": "d2ea8a4244f6485fa1ab6c9ee164fd05",
       "version_major": 2,
       "version_minor": 0
      },
      "text/plain": [
       "HBox(children=(FloatProgress(value=0.0, max=2.0), HTML(value='')))"
      ]
     },
     "metadata": {},
     "output_type": "display_data"
    },
    {
     "name": "stdout",
     "output_type": "stream",
     "text": [
      "===\n",
      "Extracting KBARTs for 3000184373  -- top level= 3000184373\n",
      "..journals/springer...\n",
      "..journals/nature...\n",
      "===\n",
      "Extracting KBARTs for 8200828607  -- top level= 3000184373\n",
      "..journals/springer...\n",
      "..journals/nature...\n",
      "\n",
      "======\n",
      "Checking Hierarchy for BPID:  2000204854 \n",
      "======\n",
      "..data saved in /Volumes/Albano/2020-08-06-holding-analysis-extraction/2000204854/\n",
      "Related BPIDs found:  11 = ['2000204854', '3000137278', '3000137282', '3000192397', '3000262825', '3000262839', '3000599536', '3000824714', '3994313832', '3003169293', '3902044458']\n"
     ]
    },
    {
     "data": {
      "application/vnd.jupyter.widget-view+json": {
       "model_id": "51b6b1811f5043cdb23d2f1301ee41c3",
       "version_major": 2,
       "version_minor": 0
      },
      "text/plain": [
       "HBox(children=(FloatProgress(value=0.0, max=11.0), HTML(value='')))"
      ]
     },
     "metadata": {},
     "output_type": "display_data"
    },
    {
     "name": "stdout",
     "output_type": "stream",
     "text": [
      "===\n",
      "Extracting KBARTs for 2000204854  -- top level= 2000204854\n",
      "..journals/springer...\n",
      "..journals/nature...\n",
      "===\n",
      "Extracting KBARTs for 3000137278  -- top level= 2000204854\n",
      "..journals/springer...\n",
      "..journals/nature...\n",
      "===\n",
      "Extracting KBARTs for 3000137282  -- top level= 2000204854\n",
      "..journals/springer...\n",
      "..journals/nature...\n",
      "===\n",
      "Extracting KBARTs for 3000192397  -- top level= 2000204854\n",
      "..journals/springer...\n",
      "..journals/nature...\n",
      "===\n",
      "Extracting KBARTs for 3000262825  -- top level= 2000204854\n",
      "..journals/springer...\n",
      "..journals/nature...\n",
      "===\n",
      "Extracting KBARTs for 3000262839  -- top level= 2000204854\n",
      "..journals/springer...\n",
      "..journals/nature...\n",
      "===\n",
      "Extracting KBARTs for 3000599536  -- top level= 2000204854\n",
      "..journals/springer...\n",
      "..journals/nature...\n",
      "===\n",
      "Extracting KBARTs for 3000824714  -- top level= 2000204854\n",
      "..journals/springer...\n",
      "..journals/nature...\n",
      "===\n",
      "Extracting KBARTs for 3994313832  -- top level= 2000204854\n",
      "..journals/springer...\n",
      "..journals/nature...\n",
      "===\n",
      "Extracting KBARTs for 3003169293  -- top level= 2000204854\n",
      "..journals/springer...\n",
      "..journals/nature...\n",
      "===\n",
      "Extracting KBARTs for 3902044458  -- top level= 2000204854\n",
      "..journals/springer...\n",
      "..journals/nature...\n",
      "\n",
      "======\n",
      "Checking Hierarchy for BPID:  2000553014 \n",
      "======\n",
      "..data saved in /Volumes/Albano/2020-08-06-holding-analysis-extraction/2000553014/\n",
      "Related BPIDs found:  1 = ['2000553014']\n"
     ]
    },
    {
     "data": {
      "application/vnd.jupyter.widget-view+json": {
       "model_id": "fe7971b9ae294ac299fd809bb33f280a",
       "version_major": 2,
       "version_minor": 0
      },
      "text/plain": [
       "HBox(children=(FloatProgress(value=0.0, max=1.0), HTML(value='')))"
      ]
     },
     "metadata": {},
     "output_type": "display_data"
    },
    {
     "name": "stdout",
     "output_type": "stream",
     "text": [
      "===\n",
      "Extracting KBARTs for 2000553014  -- top level= 2000553014\n",
      "..journals/springer...\n",
      "..journals/nature...\n",
      "\n",
      "======\n",
      "Checking Hierarchy for BPID:  3000612920 \n",
      "======\n",
      "..data saved in /Volumes/Albano/2020-08-06-holding-analysis-extraction/3000612920/\n",
      "Related BPIDs found:  2 = ['3000612920', '3003777848']\n"
     ]
    },
    {
     "data": {
      "application/vnd.jupyter.widget-view+json": {
       "model_id": "3cd67c33c34d48d1a9fea7fe1f54ef80",
       "version_major": 2,
       "version_minor": 0
      },
      "text/plain": [
       "HBox(children=(FloatProgress(value=0.0, max=2.0), HTML(value='')))"
      ]
     },
     "metadata": {},
     "output_type": "display_data"
    },
    {
     "name": "stdout",
     "output_type": "stream",
     "text": [
      "===\n",
      "Extracting KBARTs for 3000612920  -- top level= 3000612920\n",
      "..journals/springer...\n",
      "..journals/nature...\n",
      "===\n",
      "Extracting KBARTs for 3003777848  -- top level= 3000612920\n",
      "..journals/springer...\n",
      "..journals/nature...\n",
      "\n",
      "======\n",
      "Checking Hierarchy for BPID:  2000532537 \n",
      "======\n",
      "..data saved in /Volumes/Albano/2020-08-06-holding-analysis-extraction/2000532537/\n",
      "Related BPIDs found:  4 = ['2000532537', '3000180695', '3000174968', '3994475188']\n"
     ]
    },
    {
     "data": {
      "application/vnd.jupyter.widget-view+json": {
       "model_id": "4fe340d5a20142d9ae3cfec997ec96d4",
       "version_major": 2,
       "version_minor": 0
      },
      "text/plain": [
       "HBox(children=(FloatProgress(value=0.0, max=4.0), HTML(value='')))"
      ]
     },
     "metadata": {},
     "output_type": "display_data"
    },
    {
     "name": "stdout",
     "output_type": "stream",
     "text": [
      "===\n",
      "Extracting KBARTs for 2000532537  -- top level= 2000532537\n",
      "..journals/springer...\n",
      "..journals/nature...\n",
      "===\n",
      "Extracting KBARTs for 3000180695  -- top level= 2000532537\n",
      "..journals/springer...\n",
      "..journals/nature...\n",
      "===\n",
      "Extracting KBARTs for 3000174968  -- top level= 2000532537\n",
      "..journals/springer...\n",
      "..journals/nature...\n",
      "===\n",
      "Extracting KBARTs for 3994475188  -- top level= 2000532537\n",
      "..journals/springer...\n",
      "..journals/nature...\n",
      "\n",
      "======\n",
      "Checking Hierarchy for BPID:  3991332406 \n",
      "======\n",
      "..data saved in /Volumes/Albano/2020-08-06-holding-analysis-extraction/3991332406/\n",
      "Related BPIDs found:  2 = ['3991332406', '3000142563']\n"
     ]
    },
    {
     "data": {
      "application/vnd.jupyter.widget-view+json": {
       "model_id": "5a4a500a0bf845baa08ad80e920d8855",
       "version_major": 2,
       "version_minor": 0
      },
      "text/plain": [
       "HBox(children=(FloatProgress(value=0.0, max=2.0), HTML(value='')))"
      ]
     },
     "metadata": {},
     "output_type": "display_data"
    },
    {
     "name": "stdout",
     "output_type": "stream",
     "text": [
      "===\n",
      "Extracting KBARTs for 3991332406  -- top level= 3991332406\n",
      "..journals/springer...\n",
      "..journals/nature...\n",
      "===\n",
      "Extracting KBARTs for 3000142563  -- top level= 3991332406\n",
      "..journals/springer...\n",
      "..journals/nature...\n",
      "\n",
      "======\n",
      "Checking Hierarchy for BPID:  3000133174 \n",
      "======\n",
      "..data saved in /Volumes/Albano/2020-08-06-holding-analysis-extraction/3000133174/\n",
      "Related BPIDs found:  3 = ['3000133174', '8200828607', '3000176756']\n"
     ]
    },
    {
     "data": {
      "application/vnd.jupyter.widget-view+json": {
       "model_id": "fe3cee63158540dc84c2c6f2ba495a85",
       "version_major": 2,
       "version_minor": 0
      },
      "text/plain": [
       "HBox(children=(FloatProgress(value=0.0, max=3.0), HTML(value='')))"
      ]
     },
     "metadata": {},
     "output_type": "display_data"
    },
    {
     "name": "stdout",
     "output_type": "stream",
     "text": [
      "===\n",
      "Extracting KBARTs for 3000133174  -- top level= 3000133174\n",
      "..journals/springer...\n",
      "..journals/nature...\n",
      "===\n",
      "Extracting KBARTs for 8200828607  -- top level= 3000133174\n",
      "..journals/springer...\n",
      "..journals/nature...\n",
      "===\n",
      "Extracting KBARTs for 3000176756  -- top level= 3000133174\n",
      "..journals/springer...\n",
      "..journals/nature...\n",
      "\n",
      "======\n",
      "Checking Hierarchy for BPID:  8200708154 \n",
      "======\n",
      "..data saved in /Volumes/Albano/2020-08-06-holding-analysis-extraction/8200708154/\n",
      "Related BPIDs found:  2 = ['8200708154', '8200828607']\n"
     ]
    },
    {
     "data": {
      "application/vnd.jupyter.widget-view+json": {
       "model_id": "7653a9e466314f01986de46dc7de14c4",
       "version_major": 2,
       "version_minor": 0
      },
      "text/plain": [
       "HBox(children=(FloatProgress(value=0.0, max=2.0), HTML(value='')))"
      ]
     },
     "metadata": {},
     "output_type": "display_data"
    },
    {
     "name": "stdout",
     "output_type": "stream",
     "text": [
      "===\n",
      "Extracting KBARTs for 8200708154  -- top level= 8200708154\n",
      "..journals/springer...\n",
      "..journals/nature...\n",
      "===\n",
      "Extracting KBARTs for 8200828607  -- top level= 8200708154\n",
      "..journals/springer...\n",
      "..journals/nature...\n",
      "\n",
      "======\n",
      "Checking Hierarchy for BPID:  3000163392 \n",
      "======\n",
      "..data saved in /Volumes/Albano/2020-08-06-holding-analysis-extraction/3000163392/\n",
      "Related BPIDs found:  5 = ['3000163392', '3991330314', '3001139967', '3002011430', '3002114477']\n"
     ]
    },
    {
     "data": {
      "application/vnd.jupyter.widget-view+json": {
       "model_id": "821dc6e63fa046679eb6d30a64be9a9f",
       "version_major": 2,
       "version_minor": 0
      },
      "text/plain": [
       "HBox(children=(FloatProgress(value=0.0, max=5.0), HTML(value='')))"
      ]
     },
     "metadata": {},
     "output_type": "display_data"
    },
    {
     "name": "stdout",
     "output_type": "stream",
     "text": [
      "===\n",
      "Extracting KBARTs for 3000163392  -- top level= 3000163392\n",
      "..journals/springer...\n",
      "..journals/nature...\n",
      "===\n",
      "Extracting KBARTs for 3991330314  -- top level= 3000163392\n",
      "..journals/springer...\n",
      "..journals/nature...\n",
      "===\n",
      "Extracting KBARTs for 3001139967  -- top level= 3000163392\n",
      "..journals/springer...\n",
      "..journals/nature...\n",
      "===\n",
      "Extracting KBARTs for 3002011430  -- top level= 3000163392\n",
      "..journals/springer...\n",
      "..journals/nature...\n",
      "===\n",
      "Extracting KBARTs for 3002114477  -- top level= 3000163392\n",
      "..journals/springer...\n",
      "..journals/nature...\n",
      "\n",
      "======\n",
      "Checking Hierarchy for BPID:  8201005121 \n",
      "======\n",
      "..data saved in /Volumes/Albano/2020-08-06-holding-analysis-extraction/8201005121/\n",
      "Related BPIDs found:  2 = ['8201005121', '8200828607']\n"
     ]
    },
    {
     "data": {
      "application/vnd.jupyter.widget-view+json": {
       "model_id": "ae06e38509bd40f793428d3b3ffd148a",
       "version_major": 2,
       "version_minor": 0
      },
      "text/plain": [
       "HBox(children=(FloatProgress(value=0.0, max=2.0), HTML(value='')))"
      ]
     },
     "metadata": {},
     "output_type": "display_data"
    },
    {
     "name": "stdout",
     "output_type": "stream",
     "text": [
      "===\n",
      "Extracting KBARTs for 8201005121  -- top level= 8201005121\n",
      "..journals/springer...\n",
      "..journals/nature...\n",
      "===\n",
      "Extracting KBARTs for 8200828607  -- top level= 8201005121\n",
      "..journals/springer...\n",
      "..journals/nature...\n",
      "\n",
      "======\n",
      "Checking Hierarchy for BPID:  3002013254 \n",
      "======\n",
      "..data saved in /Volumes/Albano/2020-08-06-holding-analysis-extraction/3002013254/\n",
      "Related BPIDs found:  1 = ['3002013254']\n"
     ]
    },
    {
     "data": {
      "application/vnd.jupyter.widget-view+json": {
       "model_id": "cbc41e90c9e346c9acb1b4db38f6dd3f",
       "version_major": 2,
       "version_minor": 0
      },
      "text/plain": [
       "HBox(children=(FloatProgress(value=0.0, max=1.0), HTML(value='')))"
      ]
     },
     "metadata": {},
     "output_type": "display_data"
    },
    {
     "name": "stdout",
     "output_type": "stream",
     "text": [
      "===\n",
      "Extracting KBARTs for 3002013254  -- top level= 3002013254\n",
      "..journals/springer...\n",
      "..journals/nature...\n",
      "\n",
      "======\n",
      "Checking Hierarchy for BPID:  8200400967 \n",
      "======\n",
      "..data saved in /Volumes/Albano/2020-08-06-holding-analysis-extraction/8200400967/\n",
      "Related BPIDs found:  4 = ['8200400967', '3000176734', '8200828607', '3902328142']\n"
     ]
    },
    {
     "data": {
      "application/vnd.jupyter.widget-view+json": {
       "model_id": "015e582413954f36a9080ee89a4b5220",
       "version_major": 2,
       "version_minor": 0
      },
      "text/plain": [
       "HBox(children=(FloatProgress(value=0.0, max=4.0), HTML(value='')))"
      ]
     },
     "metadata": {},
     "output_type": "display_data"
    },
    {
     "name": "stdout",
     "output_type": "stream",
     "text": [
      "===\n",
      "Extracting KBARTs for 8200400967  -- top level= 8200400967\n",
      "..journals/springer...\n",
      "..journals/nature...\n",
      "===\n",
      "Extracting KBARTs for 3000176734  -- top level= 8200400967\n",
      "..journals/springer...\n",
      "..journals/nature...\n",
      "===\n",
      "Extracting KBARTs for 8200828607  -- top level= 8200400967\n",
      "..journals/springer...\n",
      "..journals/nature...\n",
      "===\n",
      "Extracting KBARTs for 3902328142  -- top level= 8200400967\n",
      "..journals/springer...\n",
      "..journals/nature...\n",
      "\n",
      "======\n",
      "Checking Hierarchy for BPID:  3000212040 \n",
      "======\n",
      "..data saved in /Volumes/Albano/2020-08-06-holding-analysis-extraction/3000212040/\n",
      "Related BPIDs found:  3 = ['3000212040', '3000155420', '3003532199']\n"
     ]
    },
    {
     "data": {
      "application/vnd.jupyter.widget-view+json": {
       "model_id": "fdaa34da5218459789deaa7ebb0c2a29",
       "version_major": 2,
       "version_minor": 0
      },
      "text/plain": [
       "HBox(children=(FloatProgress(value=0.0, max=3.0), HTML(value='')))"
      ]
     },
     "metadata": {},
     "output_type": "display_data"
    },
    {
     "name": "stdout",
     "output_type": "stream",
     "text": [
      "===\n",
      "Extracting KBARTs for 3000212040  -- top level= 3000212040\n",
      "..journals/springer...\n",
      "..journals/nature...\n",
      "===\n",
      "Extracting KBARTs for 3000155420  -- top level= 3000212040\n",
      "..journals/springer...\n",
      "..journals/nature...\n",
      "===\n",
      "Extracting KBARTs for 3003532199  -- top level= 3000212040\n",
      "..journals/springer...\n",
      "..journals/nature...\n",
      "\n",
      "======\n",
      "Checking Hierarchy for BPID:  3000210508 \n",
      "======\n",
      "..data saved in /Volumes/Albano/2020-08-06-holding-analysis-extraction/3000210508/\n",
      "Related BPIDs found:  1 = ['3000210508']\n"
     ]
    },
    {
     "data": {
      "application/vnd.jupyter.widget-view+json": {
       "model_id": "800677b5fb8b4374a92ab92e54147c04",
       "version_major": 2,
       "version_minor": 0
      },
      "text/plain": [
       "HBox(children=(FloatProgress(value=0.0, max=1.0), HTML(value='')))"
      ]
     },
     "metadata": {},
     "output_type": "display_data"
    },
    {
     "name": "stdout",
     "output_type": "stream",
     "text": [
      "===\n",
      "Extracting KBARTs for 3000210508  -- top level= 3000210508\n",
      "..journals/springer...\n",
      "..journals/nature...\n",
      "\n",
      "======\n",
      "Checking Hierarchy for BPID:  8200832077 \n",
      "======\n",
      "..data saved in /Volumes/Albano/2020-08-06-holding-analysis-extraction/8200832077/\n",
      "Related BPIDs found:  2 = ['8200832077', '8200828607']\n"
     ]
    },
    {
     "data": {
      "application/vnd.jupyter.widget-view+json": {
       "model_id": "1ae0a5d079e44ec68542cfec43fe9da6",
       "version_major": 2,
       "version_minor": 0
      },
      "text/plain": [
       "HBox(children=(FloatProgress(value=0.0, max=2.0), HTML(value='')))"
      ]
     },
     "metadata": {},
     "output_type": "display_data"
    },
    {
     "name": "stdout",
     "output_type": "stream",
     "text": [
      "===\n",
      "Extracting KBARTs for 8200832077  -- top level= 8200832077\n",
      "..journals/springer...\n",
      "..journals/nature...\n",
      "===\n",
      "Extracting KBARTs for 8200828607  -- top level= 8200832077\n",
      "..journals/springer...\n",
      "..journals/nature...\n",
      "\n",
      "======\n",
      "Checking Hierarchy for BPID:  3000144974 \n",
      "======\n",
      "..data saved in /Volumes/Albano/2020-08-06-holding-analysis-extraction/3000144974/\n",
      "Related BPIDs found:  4 = ['3000144974', '3000180852', '3003532199', '3000155420']\n"
     ]
    },
    {
     "data": {
      "application/vnd.jupyter.widget-view+json": {
       "model_id": "93ccc22899104b19848f167a8d84b2ba",
       "version_major": 2,
       "version_minor": 0
      },
      "text/plain": [
       "HBox(children=(FloatProgress(value=0.0, max=4.0), HTML(value='')))"
      ]
     },
     "metadata": {},
     "output_type": "display_data"
    },
    {
     "name": "stdout",
     "output_type": "stream",
     "text": [
      "===\n",
      "Extracting KBARTs for 3000144974  -- top level= 3000144974\n",
      "..journals/springer...\n",
      "..journals/nature...\n",
      "===\n",
      "Extracting KBARTs for 3000180852  -- top level= 3000144974\n",
      "..journals/springer...\n",
      "..journals/nature...\n",
      "===\n",
      "Extracting KBARTs for 3003532199  -- top level= 3000144974\n",
      "..journals/springer...\n",
      "..journals/nature...\n",
      "===\n",
      "Extracting KBARTs for 3000155420  -- top level= 3000144974\n",
      "..journals/springer...\n",
      "..journals/nature...\n",
      "\n",
      "======\n",
      "Checking Hierarchy for BPID:  3000146511 \n",
      "======\n",
      "..data saved in /Volumes/Albano/2020-08-06-holding-analysis-extraction/3000146511/\n",
      "Related BPIDs found:  2 = ['3000146511', '3000675571']\n"
     ]
    },
    {
     "data": {
      "application/vnd.jupyter.widget-view+json": {
       "model_id": "b3f1750e20f84bdeb37cbef99aa81004",
       "version_major": 2,
       "version_minor": 0
      },
      "text/plain": [
       "HBox(children=(FloatProgress(value=0.0, max=2.0), HTML(value='')))"
      ]
     },
     "metadata": {},
     "output_type": "display_data"
    },
    {
     "name": "stdout",
     "output_type": "stream",
     "text": [
      "===\n",
      "Extracting KBARTs for 3000146511  -- top level= 3000146511\n",
      "..journals/springer...\n",
      "..journals/nature...\n",
      "===\n",
      "Extracting KBARTs for 3000675571  -- top level= 3000146511\n",
      "..journals/springer...\n",
      "..journals/nature...\n",
      "\n",
      "======\n",
      "Checking Hierarchy for BPID:  8200699471 \n",
      "======\n",
      "..data saved in /Volumes/Albano/2020-08-06-holding-analysis-extraction/8200699471/\n",
      "Related BPIDs found:  2 = ['8200699471', '8200828607']\n"
     ]
    },
    {
     "data": {
      "application/vnd.jupyter.widget-view+json": {
       "model_id": "6c53dd0f41ef41ada5486bb4e2161a49",
       "version_major": 2,
       "version_minor": 0
      },
      "text/plain": [
       "HBox(children=(FloatProgress(value=0.0, max=2.0), HTML(value='')))"
      ]
     },
     "metadata": {},
     "output_type": "display_data"
    },
    {
     "name": "stdout",
     "output_type": "stream",
     "text": [
      "===\n",
      "Extracting KBARTs for 8200699471  -- top level= 8200699471\n",
      "..journals/springer...\n",
      "..journals/nature...\n",
      "===\n",
      "Extracting KBARTs for 8200828607  -- top level= 8200699471\n",
      "..journals/springer...\n",
      "..journals/nature...\n",
      "\n",
      "======\n",
      "Checking Hierarchy for BPID:  2000341081 \n",
      "======\n",
      "..data saved in /Volumes/Albano/2020-08-06-holding-analysis-extraction/2000341081/\n",
      "Related BPIDs found:  1 = ['2000341081']\n"
     ]
    },
    {
     "data": {
      "application/vnd.jupyter.widget-view+json": {
       "model_id": "15448b64c3c34a22a0a76f52a1b94e0c",
       "version_major": 2,
       "version_minor": 0
      },
      "text/plain": [
       "HBox(children=(FloatProgress(value=0.0, max=1.0), HTML(value='')))"
      ]
     },
     "metadata": {},
     "output_type": "display_data"
    },
    {
     "name": "stdout",
     "output_type": "stream",
     "text": [
      "===\n",
      "Extracting KBARTs for 2000341081  -- top level= 2000341081\n",
      "..journals/springer...\n",
      "..journals/nature...\n",
      "\n",
      "======\n",
      "Checking Hierarchy for BPID:  2000494169 \n",
      "======\n",
      "..data saved in /Volumes/Albano/2020-08-06-holding-analysis-extraction/2000494169/\n",
      "Related BPIDs found:  4 = ['2000494169', '3000251368', '3000593105', '3000130631']\n"
     ]
    },
    {
     "data": {
      "application/vnd.jupyter.widget-view+json": {
       "model_id": "9b4bff6656e7471aa2af4601e4eac7c4",
       "version_major": 2,
       "version_minor": 0
      },
      "text/plain": [
       "HBox(children=(FloatProgress(value=0.0, max=4.0), HTML(value='')))"
      ]
     },
     "metadata": {},
     "output_type": "display_data"
    },
    {
     "name": "stdout",
     "output_type": "stream",
     "text": [
      "===\n",
      "Extracting KBARTs for 2000494169  -- top level= 2000494169\n",
      "..journals/springer...\n",
      "..journals/nature...\n",
      "===\n",
      "Extracting KBARTs for 3000251368  -- top level= 2000494169\n",
      "..journals/springer...\n",
      "..journals/nature...\n",
      "===\n",
      "Extracting KBARTs for 3000593105  -- top level= 2000494169\n",
      "..journals/springer...\n",
      "..journals/nature...\n",
      "===\n",
      "Extracting KBARTs for 3000130631  -- top level= 2000494169\n",
      "..journals/springer...\n",
      "..journals/nature...\n",
      "\n",
      "======\n",
      "Checking Hierarchy for BPID:  3002174042 \n",
      "======\n",
      "..data saved in /Volumes/Albano/2020-08-06-holding-analysis-extraction/3002174042/\n",
      "Related BPIDs found:  1 = ['3002174042']\n"
     ]
    },
    {
     "data": {
      "application/vnd.jupyter.widget-view+json": {
       "model_id": "3af195046d094ed9b2b7802c4fd8972c",
       "version_major": 2,
       "version_minor": 0
      },
      "text/plain": [
       "HBox(children=(FloatProgress(value=0.0, max=1.0), HTML(value='')))"
      ]
     },
     "metadata": {},
     "output_type": "display_data"
    },
    {
     "name": "stdout",
     "output_type": "stream",
     "text": [
      "===\n",
      "Extracting KBARTs for 3002174042  -- top level= 3002174042\n",
      "..journals/springer...\n",
      "..journals/nature...\n",
      "\n",
      "======\n",
      "Checking Hierarchy for BPID:  3000212068 \n",
      "======\n",
      "..data saved in /Volumes/Albano/2020-08-06-holding-analysis-extraction/3000212068/\n",
      "Related BPIDs found:  3 = ['3000212068', '3000155420', '3003532199']\n"
     ]
    },
    {
     "data": {
      "application/vnd.jupyter.widget-view+json": {
       "model_id": "42d66af5f8fd474fae9d932158a4b541",
       "version_major": 2,
       "version_minor": 0
      },
      "text/plain": [
       "HBox(children=(FloatProgress(value=0.0, max=3.0), HTML(value='')))"
      ]
     },
     "metadata": {},
     "output_type": "display_data"
    },
    {
     "name": "stdout",
     "output_type": "stream",
     "text": [
      "===\n",
      "Extracting KBARTs for 3000212068  -- top level= 3000212068\n",
      "..journals/springer...\n",
      "..journals/nature...\n",
      "===\n",
      "Extracting KBARTs for 3000155420  -- top level= 3000212068\n",
      "..journals/springer...\n",
      "..journals/nature...\n",
      "===\n",
      "Extracting KBARTs for 3003532199  -- top level= 3000212068\n",
      "..journals/springer...\n",
      "..journals/nature...\n",
      "\n",
      "======\n",
      "Checking Hierarchy for BPID:  3000482404 \n",
      "======\n",
      "..data saved in /Volumes/Albano/2020-08-06-holding-analysis-extraction/3000482404/\n",
      "Related BPIDs found:  1 = ['3000482404']\n"
     ]
    },
    {
     "data": {
      "application/vnd.jupyter.widget-view+json": {
       "model_id": "11e0a8e1f76940fe849e33972670c889",
       "version_major": 2,
       "version_minor": 0
      },
      "text/plain": [
       "HBox(children=(FloatProgress(value=0.0, max=1.0), HTML(value='')))"
      ]
     },
     "metadata": {},
     "output_type": "display_data"
    },
    {
     "name": "stdout",
     "output_type": "stream",
     "text": [
      "===\n",
      "Extracting KBARTs for 3000482404  -- top level= 3000482404\n",
      "..journals/springer...\n",
      "..journals/nature...\n",
      "\n",
      "======\n",
      "Checking Hierarchy for BPID:  30036927080 \n",
      "======\n",
      "++++ ERROR ++++\n",
      "Errors index = [3003695120, 30036927080]\n"
     ]
    },
    {
     "data": {
      "application/vnd.jupyter.widget-view+json": {
       "model_id": "a4e2685ce5514c0ca908df6fb169bae0",
       "version_major": 2,
       "version_minor": 0
      },
      "text/plain": [
       "HBox(children=(FloatProgress(value=0.0, max=1.0), HTML(value='')))"
      ]
     },
     "metadata": {},
     "output_type": "display_data"
    },
    {
     "name": "stdout",
     "output_type": "stream",
     "text": [
      "===\n",
      "Extracting KBARTs for 3000482404  -- top level= 30036927080\n",
      "..journals/springer...\n",
      "..journals/nature...\n",
      "\n",
      "======\n",
      "Checking Hierarchy for BPID:  2000125546 \n",
      "======\n",
      "..data saved in /Volumes/Albano/2020-08-06-holding-analysis-extraction/2000125546/\n",
      "Related BPIDs found:  1 = ['2000125546']\n"
     ]
    },
    {
     "data": {
      "application/vnd.jupyter.widget-view+json": {
       "model_id": "32c7d1ad24454fdbb3ff5f6b3bf5dae9",
       "version_major": 2,
       "version_minor": 0
      },
      "text/plain": [
       "HBox(children=(FloatProgress(value=0.0, max=1.0), HTML(value='')))"
      ]
     },
     "metadata": {},
     "output_type": "display_data"
    },
    {
     "name": "stdout",
     "output_type": "stream",
     "text": [
      "===\n",
      "Extracting KBARTs for 2000125546  -- top level= 2000125546\n",
      "..journals/springer...\n",
      "..journals/nature...\n",
      "\n",
      "======\n",
      "Checking Hierarchy for BPID:  3003526252 \n",
      "======\n",
      "..data saved in /Volumes/Albano/2020-08-06-holding-analysis-extraction/3003526252/\n",
      "Related BPIDs found:  1 = ['3003526252']\n"
     ]
    },
    {
     "data": {
      "application/vnd.jupyter.widget-view+json": {
       "model_id": "69915f7d2d7543d3a12285baca29879c",
       "version_major": 2,
       "version_minor": 0
      },
      "text/plain": [
       "HBox(children=(FloatProgress(value=0.0, max=1.0), HTML(value='')))"
      ]
     },
     "metadata": {},
     "output_type": "display_data"
    },
    {
     "name": "stdout",
     "output_type": "stream",
     "text": [
      "===\n",
      "Extracting KBARTs for 3003526252  -- top level= 3003526252\n",
      "..journals/springer...\n",
      "..journals/nature...\n",
      "\n",
      "======\n",
      "Checking Hierarchy for BPID:  8200177774 \n",
      "======\n",
      "..data saved in /Volumes/Albano/2020-08-06-holding-analysis-extraction/8200177774/\n",
      "Related BPIDs found:  2 = ['8200177774', '8200828607']\n"
     ]
    },
    {
     "data": {
      "application/vnd.jupyter.widget-view+json": {
       "model_id": "a959f7e9712f46eda41c557a63413305",
       "version_major": 2,
       "version_minor": 0
      },
      "text/plain": [
       "HBox(children=(FloatProgress(value=0.0, max=2.0), HTML(value='')))"
      ]
     },
     "metadata": {},
     "output_type": "display_data"
    },
    {
     "name": "stdout",
     "output_type": "stream",
     "text": [
      "===\n",
      "Extracting KBARTs for 8200177774  -- top level= 8200177774\n",
      "..journals/springer...\n",
      "..journals/nature...\n",
      "===\n",
      "Extracting KBARTs for 8200828607  -- top level= 8200177774\n",
      "..journals/springer...\n",
      "..journals/nature...\n",
      "\n",
      "======\n",
      "Checking Hierarchy for BPID:  2000516724 \n",
      "======\n",
      "..data saved in /Volumes/Albano/2020-08-06-holding-analysis-extraction/2000516724/\n",
      "Related BPIDs found:  12 = ['2000516724', '3000137278', '3000137282', '3000192397', '3000196714', '3000262825', '3000262839', '3000599536', '3000824714', '3994313832', '3003169293', '3902044458']\n"
     ]
    },
    {
     "data": {
      "application/vnd.jupyter.widget-view+json": {
       "model_id": "6a3856b01830446090a20ff1be457e62",
       "version_major": 2,
       "version_minor": 0
      },
      "text/plain": [
       "HBox(children=(FloatProgress(value=0.0, max=12.0), HTML(value='')))"
      ]
     },
     "metadata": {},
     "output_type": "display_data"
    },
    {
     "name": "stdout",
     "output_type": "stream",
     "text": [
      "===\n",
      "Extracting KBARTs for 2000516724  -- top level= 2000516724\n",
      "..journals/springer...\n",
      "..journals/nature...\n",
      "===\n",
      "Extracting KBARTs for 3000137278  -- top level= 2000516724\n",
      "..journals/springer...\n",
      "..journals/nature...\n",
      "===\n",
      "Extracting KBARTs for 3000137282  -- top level= 2000516724\n",
      "..journals/springer...\n",
      "..journals/nature...\n",
      "===\n",
      "Extracting KBARTs for 3000192397  -- top level= 2000516724\n",
      "..journals/springer...\n",
      "..journals/nature...\n",
      "===\n",
      "Extracting KBARTs for 3000196714  -- top level= 2000516724\n",
      "..journals/springer...\n",
      "..journals/nature...\n",
      "===\n",
      "Extracting KBARTs for 3000262825  -- top level= 2000516724\n",
      "..journals/springer...\n",
      "..journals/nature...\n",
      "===\n",
      "Extracting KBARTs for 3000262839  -- top level= 2000516724\n",
      "..journals/springer...\n",
      "..journals/nature...\n",
      "===\n",
      "Extracting KBARTs for 3000599536  -- top level= 2000516724\n",
      "..journals/springer...\n",
      "..journals/nature...\n",
      "===\n",
      "Extracting KBARTs for 3000824714  -- top level= 2000516724\n",
      "..journals/springer...\n",
      "..journals/nature...\n",
      "===\n",
      "Extracting KBARTs for 3994313832  -- top level= 2000516724\n",
      "..journals/springer...\n",
      "..journals/nature...\n",
      "===\n",
      "Extracting KBARTs for 3003169293  -- top level= 2000516724\n",
      "..journals/springer...\n",
      "..journals/nature...\n",
      "===\n",
      "Extracting KBARTs for 3902044458  -- top level= 2000516724\n",
      "..journals/springer...\n",
      "..journals/nature...\n",
      "\n",
      "======\n",
      "Checking Hierarchy for BPID:  2000578695 \n",
      "======\n",
      "..data saved in /Volumes/Albano/2020-08-06-holding-analysis-extraction/2000578695/\n",
      "Related BPIDs found:  5 = ['2000578695', '3001139967', '3991330314', '3002011430', '3002114477']\n"
     ]
    },
    {
     "data": {
      "application/vnd.jupyter.widget-view+json": {
       "model_id": "99b44b2f44cf450cb3a3f5335bbeb1d6",
       "version_major": 2,
       "version_minor": 0
      },
      "text/plain": [
       "HBox(children=(FloatProgress(value=0.0, max=5.0), HTML(value='')))"
      ]
     },
     "metadata": {},
     "output_type": "display_data"
    },
    {
     "name": "stdout",
     "output_type": "stream",
     "text": [
      "===\n",
      "Extracting KBARTs for 2000578695  -- top level= 2000578695\n",
      "..journals/springer...\n",
      "..journals/nature...\n",
      "===\n",
      "Extracting KBARTs for 3001139967  -- top level= 2000578695\n",
      "..journals/springer...\n",
      "..journals/nature...\n",
      "===\n",
      "Extracting KBARTs for 3991330314  -- top level= 2000578695\n",
      "..journals/springer...\n",
      "..journals/nature...\n",
      "===\n",
      "Extracting KBARTs for 3002011430  -- top level= 2000578695\n",
      "..journals/springer...\n",
      "..journals/nature...\n",
      "===\n",
      "Extracting KBARTs for 3002114477  -- top level= 2000578695\n",
      "..journals/springer...\n",
      "..journals/nature...\n",
      "\n",
      "======\n",
      "Checking Hierarchy for BPID:  2000262282 \n",
      "======\n",
      "..data saved in /Volumes/Albano/2020-08-06-holding-analysis-extraction/2000262282/\n",
      "Related BPIDs found:  6 = ['2000262282', '3000130459', '3000251517', '3001139967', '3002011430', '3002114477']\n"
     ]
    },
    {
     "data": {
      "application/vnd.jupyter.widget-view+json": {
       "model_id": "e2087b6aa0ad446888511228d0b82ad1",
       "version_major": 2,
       "version_minor": 0
      },
      "text/plain": [
       "HBox(children=(FloatProgress(value=0.0, max=6.0), HTML(value='')))"
      ]
     },
     "metadata": {},
     "output_type": "display_data"
    },
    {
     "name": "stdout",
     "output_type": "stream",
     "text": [
      "===\n",
      "Extracting KBARTs for 2000262282  -- top level= 2000262282\n",
      "..journals/springer...\n",
      "..journals/nature...\n",
      "===\n",
      "Extracting KBARTs for 3000130459  -- top level= 2000262282\n",
      "..journals/springer...\n",
      "..journals/nature...\n",
      "===\n",
      "Extracting KBARTs for 3000251517  -- top level= 2000262282\n",
      "..journals/springer...\n",
      "..journals/nature...\n",
      "===\n",
      "Extracting KBARTs for 3001139967  -- top level= 2000262282\n",
      "..journals/springer...\n",
      "..journals/nature...\n",
      "===\n",
      "Extracting KBARTs for 3002011430  -- top level= 2000262282\n",
      "..journals/springer...\n",
      "..journals/nature...\n",
      "===\n",
      "Extracting KBARTs for 3002114477  -- top level= 2000262282\n",
      "..journals/springer...\n",
      "..journals/nature...\n",
      "\n",
      "======\n",
      "Checking Hierarchy for BPID:  3000146572 \n",
      "======\n",
      "..data saved in /Volumes/Albano/2020-08-06-holding-analysis-extraction/3000146572/\n",
      "Related BPIDs found:  2 = ['3000146572', '3000675571']\n"
     ]
    },
    {
     "data": {
      "application/vnd.jupyter.widget-view+json": {
       "model_id": "79c0a0ecc3a64a969b1b7c334c638e04",
       "version_major": 2,
       "version_minor": 0
      },
      "text/plain": [
       "HBox(children=(FloatProgress(value=0.0, max=2.0), HTML(value='')))"
      ]
     },
     "metadata": {},
     "output_type": "display_data"
    },
    {
     "name": "stdout",
     "output_type": "stream",
     "text": [
      "===\n",
      "Extracting KBARTs for 3000146572  -- top level= 3000146572\n",
      "..journals/springer...\n",
      "..journals/nature...\n",
      "===\n",
      "Extracting KBARTs for 3000675571  -- top level= 3000146572\n",
      "..journals/springer...\n",
      "..journals/nature...\n",
      "\n",
      "======\n",
      "Checking Hierarchy for BPID:  3000136338 \n",
      "======\n",
      "..data saved in /Volumes/Albano/2020-08-06-holding-analysis-extraction/3000136338/\n",
      "Related BPIDs found:  8 = ['3000136338', '3000137278', '3000137282', '3000262825', '3000262839', '3000205744', '3003169293', '3902044458']\n"
     ]
    },
    {
     "data": {
      "application/vnd.jupyter.widget-view+json": {
       "model_id": "2fdd4058c6fa48878c96a6547f7ac137",
       "version_major": 2,
       "version_minor": 0
      },
      "text/plain": [
       "HBox(children=(FloatProgress(value=0.0, max=8.0), HTML(value='')))"
      ]
     },
     "metadata": {},
     "output_type": "display_data"
    },
    {
     "name": "stdout",
     "output_type": "stream",
     "text": [
      "===\n",
      "Extracting KBARTs for 3000136338  -- top level= 3000136338\n",
      "..journals/springer...\n",
      "..journals/nature...\n",
      "===\n",
      "Extracting KBARTs for 3000137278  -- top level= 3000136338\n",
      "..journals/springer...\n",
      "..journals/nature...\n",
      "===\n",
      "Extracting KBARTs for 3000137282  -- top level= 3000136338\n",
      "..journals/springer...\n",
      "..journals/nature...\n",
      "===\n",
      "Extracting KBARTs for 3000262825  -- top level= 3000136338\n",
      "..journals/springer...\n",
      "..journals/nature...\n",
      "===\n",
      "Extracting KBARTs for 3000262839  -- top level= 3000136338\n",
      "..journals/springer...\n",
      "..journals/nature...\n",
      "===\n",
      "Extracting KBARTs for 3000205744  -- top level= 3000136338\n",
      "..journals/springer...\n",
      "..journals/nature...\n",
      "===\n",
      "Extracting KBARTs for 3003169293  -- top level= 3000136338\n",
      "..journals/springer...\n",
      "..journals/nature...\n",
      "===\n",
      "Extracting KBARTs for 3902044458  -- top level= 3000136338\n",
      "..journals/springer...\n",
      "..journals/nature...\n",
      "\n",
      "======\n",
      "Checking Hierarchy for BPID:  3000070293 \n",
      "======\n",
      "..data saved in /Volumes/Albano/2020-08-06-holding-analysis-extraction/3000070293/\n",
      "Related BPIDs found:  4 = ['3000070293', '3001139967', '3002011430', '3002114477']\n"
     ]
    },
    {
     "data": {
      "application/vnd.jupyter.widget-view+json": {
       "model_id": "274768faa4f4403e9753ec0c874ecfdf",
       "version_major": 2,
       "version_minor": 0
      },
      "text/plain": [
       "HBox(children=(FloatProgress(value=0.0, max=4.0), HTML(value='')))"
      ]
     },
     "metadata": {},
     "output_type": "display_data"
    },
    {
     "name": "stdout",
     "output_type": "stream",
     "text": [
      "===\n",
      "Extracting KBARTs for 3000070293  -- top level= 3000070293\n",
      "..journals/springer...\n",
      "..journals/nature...\n",
      "===\n",
      "Extracting KBARTs for 3001139967  -- top level= 3000070293\n",
      "..journals/springer...\n",
      "..journals/nature...\n",
      "===\n",
      "Extracting KBARTs for 3002011430  -- top level= 3000070293\n",
      "..journals/springer...\n",
      "..journals/nature...\n",
      "===\n",
      "Extracting KBARTs for 3002114477  -- top level= 3000070293\n",
      "..journals/springer...\n",
      "..journals/nature...\n",
      "\n",
      "======\n",
      "Checking Hierarchy for BPID:  8200831638 \n",
      "======\n",
      "..data saved in /Volumes/Albano/2020-08-06-holding-analysis-extraction/8200831638/\n",
      "Related BPIDs found:  3 = ['8200831638', '3000176756', '8200828607']\n"
     ]
    },
    {
     "data": {
      "application/vnd.jupyter.widget-view+json": {
       "model_id": "e19ddeab075a42a2bf714da325bc5d55",
       "version_major": 2,
       "version_minor": 0
      },
      "text/plain": [
       "HBox(children=(FloatProgress(value=0.0, max=3.0), HTML(value='')))"
      ]
     },
     "metadata": {},
     "output_type": "display_data"
    },
    {
     "name": "stdout",
     "output_type": "stream",
     "text": [
      "===\n",
      "Extracting KBARTs for 8200831638  -- top level= 8200831638\n",
      "..journals/springer...\n",
      "..journals/nature...\n",
      "===\n",
      "Extracting KBARTs for 3000176756  -- top level= 8200831638\n",
      "..journals/springer...\n",
      "..journals/nature...\n",
      "===\n",
      "Extracting KBARTs for 8200828607  -- top level= 8200831638\n",
      "..journals/springer...\n",
      "..journals/nature...\n",
      "\n",
      "======\n",
      "Checking Hierarchy for BPID:  3000167069 \n",
      "======\n",
      "..data saved in /Volumes/Albano/2020-08-06-holding-analysis-extraction/3000167069/\n",
      "Related BPIDs found:  2 = ['3000167069', '8200828607']\n"
     ]
    },
    {
     "data": {
      "application/vnd.jupyter.widget-view+json": {
       "model_id": "034496124f2f49c2987f515e0b713fe8",
       "version_major": 2,
       "version_minor": 0
      },
      "text/plain": [
       "HBox(children=(FloatProgress(value=0.0, max=2.0), HTML(value='')))"
      ]
     },
     "metadata": {},
     "output_type": "display_data"
    },
    {
     "name": "stdout",
     "output_type": "stream",
     "text": [
      "===\n",
      "Extracting KBARTs for 3000167069  -- top level= 3000167069\n",
      "..journals/springer...\n",
      "..journals/nature...\n",
      "===\n",
      "Extracting KBARTs for 8200828607  -- top level= 3000167069\n",
      "..journals/springer...\n",
      "..journals/nature...\n",
      "\n",
      "======\n",
      "Checking Hierarchy for BPID:  8200692383 \n",
      "======\n",
      "..data saved in /Volumes/Albano/2020-08-06-holding-analysis-extraction/8200692383/\n",
      "Related BPIDs found:  3 = ['8200692383', '3000176756', '8200828607']\n"
     ]
    },
    {
     "data": {
      "application/vnd.jupyter.widget-view+json": {
       "model_id": "4edc34d64a7f46b4af8513eb326c2fbf",
       "version_major": 2,
       "version_minor": 0
      },
      "text/plain": [
       "HBox(children=(FloatProgress(value=0.0, max=3.0), HTML(value='')))"
      ]
     },
     "metadata": {},
     "output_type": "display_data"
    },
    {
     "name": "stdout",
     "output_type": "stream",
     "text": [
      "===\n",
      "Extracting KBARTs for 8200692383  -- top level= 8200692383\n",
      "..journals/springer...\n",
      "..journals/nature...\n",
      "===\n",
      "Extracting KBARTs for 3000176756  -- top level= 8200692383\n",
      "..journals/springer...\n",
      "..journals/nature...\n",
      "===\n",
      "Extracting KBARTs for 8200828607  -- top level= 8200692383\n",
      "..journals/springer...\n",
      "..journals/nature...\n",
      "\n",
      "======\n",
      "Checking Hierarchy for BPID:  3000162976 \n",
      "======\n",
      "..data saved in /Volumes/Albano/2020-08-06-holding-analysis-extraction/3000162976/\n",
      "Related BPIDs found:  1 = ['3000162976']\n"
     ]
    },
    {
     "data": {
      "application/vnd.jupyter.widget-view+json": {
       "model_id": "6f4c780e84794c138dd9b4fbaaa3b1d5",
       "version_major": 2,
       "version_minor": 0
      },
      "text/plain": [
       "HBox(children=(FloatProgress(value=0.0, max=1.0), HTML(value='')))"
      ]
     },
     "metadata": {},
     "output_type": "display_data"
    },
    {
     "name": "stdout",
     "output_type": "stream",
     "text": [
      "===\n",
      "Extracting KBARTs for 3000162976  -- top level= 3000162976\n",
      "..journals/springer...\n",
      "..journals/nature...\n",
      "\n",
      "======\n",
      "Checking Hierarchy for BPID:  3003343017 \n",
      "======\n",
      "++++ ERROR ++++\n",
      "Errors index = [3003695120, 30036927080, 3003343017]\n"
     ]
    },
    {
     "data": {
      "application/vnd.jupyter.widget-view+json": {
       "model_id": "78608c0eea3c45f49c07bf2cd6a1fa9d",
       "version_major": 2,
       "version_minor": 0
      },
      "text/plain": [
       "HBox(children=(FloatProgress(value=0.0, max=1.0), HTML(value='')))"
      ]
     },
     "metadata": {},
     "output_type": "display_data"
    },
    {
     "name": "stdout",
     "output_type": "stream",
     "text": [
      "===\n",
      "Extracting KBARTs for 3000162976  -- top level= 3003343017\n",
      "..journals/springer...\n",
      "..journals/nature...\n",
      "\n",
      "======\n",
      "Checking Hierarchy for BPID:  8200470187 \n",
      "======\n",
      "..data saved in /Volumes/Albano/2020-08-06-holding-analysis-extraction/8200470187/\n",
      "Related BPIDs found:  1 = ['8200470187']\n"
     ]
    },
    {
     "data": {
      "application/vnd.jupyter.widget-view+json": {
       "model_id": "8078db169813425a9b73747b131d893e",
       "version_major": 2,
       "version_minor": 0
      },
      "text/plain": [
       "HBox(children=(FloatProgress(value=0.0, max=1.0), HTML(value='')))"
      ]
     },
     "metadata": {},
     "output_type": "display_data"
    },
    {
     "name": "stdout",
     "output_type": "stream",
     "text": [
      "===\n",
      "Extracting KBARTs for 8200470187  -- top level= 8200470187\n",
      "..journals/springer...\n",
      "..journals/nature...\n",
      "\n",
      "======\n",
      "Checking Hierarchy for BPID:  3002859181 \n",
      "======\n",
      "..data saved in /Volumes/Albano/2020-08-06-holding-analysis-extraction/3002859181/\n",
      "Related BPIDs found:  1 = ['3002859181']\n"
     ]
    },
    {
     "data": {
      "application/vnd.jupyter.widget-view+json": {
       "model_id": "c2fc1362fd0b4fdea7baa02707171769",
       "version_major": 2,
       "version_minor": 0
      },
      "text/plain": [
       "HBox(children=(FloatProgress(value=0.0, max=1.0), HTML(value='')))"
      ]
     },
     "metadata": {},
     "output_type": "display_data"
    },
    {
     "name": "stdout",
     "output_type": "stream",
     "text": [
      "===\n",
      "Extracting KBARTs for 3002859181  -- top level= 3002859181\n",
      "..journals/springer...\n",
      "..journals/nature...\n",
      "\n",
      "======\n",
      "Checking Hierarchy for BPID:  2000425646 \n",
      "======\n",
      "..data saved in /Volumes/Albano/2020-08-06-holding-analysis-extraction/2000425646/\n",
      "Related BPIDs found:  2 = ['2000425646', '3000675571']\n"
     ]
    },
    {
     "data": {
      "application/vnd.jupyter.widget-view+json": {
       "model_id": "61396ec970894b6a84b100209f3d1583",
       "version_major": 2,
       "version_minor": 0
      },
      "text/plain": [
       "HBox(children=(FloatProgress(value=0.0, max=2.0), HTML(value='')))"
      ]
     },
     "metadata": {},
     "output_type": "display_data"
    },
    {
     "name": "stdout",
     "output_type": "stream",
     "text": [
      "===\n",
      "Extracting KBARTs for 2000425646  -- top level= 2000425646\n",
      "..journals/springer...\n",
      "..journals/nature...\n",
      "===\n",
      "Extracting KBARTs for 3000675571  -- top level= 2000425646\n",
      "..journals/springer...\n",
      "..journals/nature...\n",
      "\n",
      "======\n",
      "Checking Hierarchy for BPID:  2000699054 \n",
      "======\n",
      "..data saved in /Volumes/Albano/2020-08-06-holding-analysis-extraction/2000699054/\n",
      "Related BPIDs found:  3 = ['2000699054', '3003532199', '3000155420']\n"
     ]
    },
    {
     "data": {
      "application/vnd.jupyter.widget-view+json": {
       "model_id": "9e7462a567bf41cab4dfc6dfcf425d35",
       "version_major": 2,
       "version_minor": 0
      },
      "text/plain": [
       "HBox(children=(FloatProgress(value=0.0, max=3.0), HTML(value='')))"
      ]
     },
     "metadata": {},
     "output_type": "display_data"
    },
    {
     "name": "stdout",
     "output_type": "stream",
     "text": [
      "===\n",
      "Extracting KBARTs for 2000699054  -- top level= 2000699054\n",
      "..journals/springer...\n",
      "..journals/nature...\n",
      "===\n",
      "Extracting KBARTs for 3003532199  -- top level= 2000699054\n",
      "..journals/springer...\n",
      "..journals/nature...\n",
      "===\n",
      "Extracting KBARTs for 3000155420  -- top level= 2000699054\n",
      "..journals/springer...\n",
      "..journals/nature...\n",
      "\n",
      "======\n",
      "Checking Hierarchy for BPID:  2000277680 \n",
      "======\n",
      "..data saved in /Volumes/Albano/2020-08-06-holding-analysis-extraction/2000277680/\n",
      "Related BPIDs found:  8 = ['2000277680', '3000160641', '3000507429', '3991438065', '3001358220', '3002205109', '3002600051', '3002642964']\n"
     ]
    },
    {
     "data": {
      "application/vnd.jupyter.widget-view+json": {
       "model_id": "3dbe4e3021554dc692696591f1f22018",
       "version_major": 2,
       "version_minor": 0
      },
      "text/plain": [
       "HBox(children=(FloatProgress(value=0.0, max=8.0), HTML(value='')))"
      ]
     },
     "metadata": {},
     "output_type": "display_data"
    },
    {
     "name": "stdout",
     "output_type": "stream",
     "text": [
      "===\n",
      "Extracting KBARTs for 2000277680  -- top level= 2000277680\n",
      "..journals/springer...\n",
      "..journals/nature...\n",
      "===\n",
      "Extracting KBARTs for 3000160641  -- top level= 2000277680\n",
      "..journals/springer...\n",
      "..journals/nature...\n",
      "===\n",
      "Extracting KBARTs for 3000507429  -- top level= 2000277680\n",
      "..journals/springer...\n",
      "..journals/nature...\n",
      "===\n",
      "Extracting KBARTs for 3991438065  -- top level= 2000277680\n",
      "..journals/springer...\n",
      "..journals/nature...\n",
      "===\n",
      "Extracting KBARTs for 3001358220  -- top level= 2000277680\n",
      "..journals/springer...\n",
      "..journals/nature...\n",
      "===\n",
      "Extracting KBARTs for 3002205109  -- top level= 2000277680\n",
      "..journals/springer...\n",
      "..journals/nature...\n",
      "===\n",
      "Extracting KBARTs for 3002600051  -- top level= 2000277680\n",
      "..journals/springer...\n",
      "..journals/nature...\n",
      "===\n",
      "Extracting KBARTs for 3002642964  -- top level= 2000277680\n",
      "..journals/springer...\n",
      "..journals/nature...\n",
      "\n",
      "======\n",
      "Checking Hierarchy for BPID:  8200930480 \n",
      "======\n",
      "..data saved in /Volumes/Albano/2020-08-06-holding-analysis-extraction/8200930480/\n",
      "Related BPIDs found:  2 = ['8200930480', '8200828607']\n"
     ]
    },
    {
     "data": {
      "application/vnd.jupyter.widget-view+json": {
       "model_id": "afd38ffecc3a4f85bf7e2ca59d22ece0",
       "version_major": 2,
       "version_minor": 0
      },
      "text/plain": [
       "HBox(children=(FloatProgress(value=0.0, max=2.0), HTML(value='')))"
      ]
     },
     "metadata": {},
     "output_type": "display_data"
    },
    {
     "name": "stdout",
     "output_type": "stream",
     "text": [
      "===\n",
      "Extracting KBARTs for 8200930480  -- top level= 8200930480\n",
      "..journals/springer...\n",
      "..journals/nature...\n",
      "===\n",
      "Extracting KBARTs for 8200828607  -- top level= 8200930480\n",
      "..journals/springer...\n",
      "..journals/nature...\n",
      "\n",
      "======\n",
      "Checking Hierarchy for BPID:  8200706739 \n",
      "======\n",
      "..data saved in /Volumes/Albano/2020-08-06-holding-analysis-extraction/8200706739/\n",
      "Related BPIDs found:  2 = ['8200706739', '8200828607']\n"
     ]
    },
    {
     "data": {
      "application/vnd.jupyter.widget-view+json": {
       "model_id": "cb4eaa4489034896a8b20212a71293c4",
       "version_major": 2,
       "version_minor": 0
      },
      "text/plain": [
       "HBox(children=(FloatProgress(value=0.0, max=2.0), HTML(value='')))"
      ]
     },
     "metadata": {},
     "output_type": "display_data"
    },
    {
     "name": "stdout",
     "output_type": "stream",
     "text": [
      "===\n",
      "Extracting KBARTs for 8200706739  -- top level= 8200706739\n",
      "..journals/springer...\n",
      "..journals/nature...\n",
      "===\n",
      "Extracting KBARTs for 8200828607  -- top level= 8200706739\n",
      "..journals/springer...\n",
      "..journals/nature...\n",
      "\n",
      "======\n",
      "Checking Hierarchy for BPID:  8200406196 \n",
      "======\n",
      "..data saved in /Volumes/Albano/2020-08-06-holding-analysis-extraction/8200406196/\n",
      "Related BPIDs found:  4 = ['8200406196', '3000176734', '8200828607', '3902328142']\n"
     ]
    },
    {
     "data": {
      "application/vnd.jupyter.widget-view+json": {
       "model_id": "e606a5a8fc4141dc922780f5b86df89b",
       "version_major": 2,
       "version_minor": 0
      },
      "text/plain": [
       "HBox(children=(FloatProgress(value=0.0, max=4.0), HTML(value='')))"
      ]
     },
     "metadata": {},
     "output_type": "display_data"
    },
    {
     "name": "stdout",
     "output_type": "stream",
     "text": [
      "===\n",
      "Extracting KBARTs for 8200406196  -- top level= 8200406196\n",
      "..journals/springer...\n",
      "..journals/nature...\n",
      "===\n",
      "Extracting KBARTs for 3000176734  -- top level= 8200406196\n",
      "..journals/springer...\n",
      "..journals/nature...\n",
      "===\n",
      "Extracting KBARTs for 8200828607  -- top level= 8200406196\n",
      "..journals/springer...\n",
      "..journals/nature...\n",
      "===\n",
      "Extracting KBARTs for 3902328142  -- top level= 8200406196\n",
      "..journals/springer...\n",
      "..journals/nature...\n",
      "\n",
      "======\n",
      "Checking Hierarchy for BPID:  8201000118 \n",
      "======\n",
      "..data saved in /Volumes/Albano/2020-08-06-holding-analysis-extraction/8201000118/\n",
      "Related BPIDs found:  3 = ['8201000118', '3000144849', '3000161202']\n"
     ]
    },
    {
     "data": {
      "application/vnd.jupyter.widget-view+json": {
       "model_id": "7e4348e99bb148fc949359466b58b50c",
       "version_major": 2,
       "version_minor": 0
      },
      "text/plain": [
       "HBox(children=(FloatProgress(value=0.0, max=3.0), HTML(value='')))"
      ]
     },
     "metadata": {},
     "output_type": "display_data"
    },
    {
     "name": "stdout",
     "output_type": "stream",
     "text": [
      "===\n",
      "Extracting KBARTs for 8201000118  -- top level= 8201000118\n",
      "..journals/springer...\n",
      "..journals/nature...\n",
      "===\n",
      "Extracting KBARTs for 3000144849  -- top level= 8201000118\n",
      "..journals/springer...\n",
      "..journals/nature...\n",
      "===\n",
      "Extracting KBARTs for 3000161202  -- top level= 8201000118\n",
      "..journals/springer...\n",
      "..journals/nature...\n",
      "\n",
      "======\n",
      "Checking Hierarchy for BPID:  8200924855 \n",
      "======\n",
      "..data saved in /Volumes/Albano/2020-08-06-holding-analysis-extraction/8200924855/\n",
      "Related BPIDs found:  2 = ['8200924855', '8200828607']\n"
     ]
    },
    {
     "data": {
      "application/vnd.jupyter.widget-view+json": {
       "model_id": "f1b41b95432547c6968a702f529f09bb",
       "version_major": 2,
       "version_minor": 0
      },
      "text/plain": [
       "HBox(children=(FloatProgress(value=0.0, max=2.0), HTML(value='')))"
      ]
     },
     "metadata": {},
     "output_type": "display_data"
    },
    {
     "name": "stdout",
     "output_type": "stream",
     "text": [
      "===\n",
      "Extracting KBARTs for 8200924855  -- top level= 8200924855\n",
      "..journals/springer...\n",
      "..journals/nature...\n",
      "===\n",
      "Extracting KBARTs for 8200828607  -- top level= 8200924855\n",
      "..journals/springer...\n",
      "..journals/nature...\n",
      "\n",
      "======\n",
      "Checking Hierarchy for BPID:  2000374973 \n",
      "======\n",
      "..data saved in /Volumes/Albano/2020-08-06-holding-analysis-extraction/2000374973/\n",
      "Related BPIDs found:  11 = ['2000374973', '3000137278', '3000137282', '3000192397', '3000262825', '3000262839', '3000599536', '3000824714', '3994313832', '3003169293', '3902044458']\n"
     ]
    },
    {
     "data": {
      "application/vnd.jupyter.widget-view+json": {
       "model_id": "dea0630b857b488696b58d16b03f8876",
       "version_major": 2,
       "version_minor": 0
      },
      "text/plain": [
       "HBox(children=(FloatProgress(value=0.0, max=11.0), HTML(value='')))"
      ]
     },
     "metadata": {},
     "output_type": "display_data"
    },
    {
     "name": "stdout",
     "output_type": "stream",
     "text": [
      "===\n",
      "Extracting KBARTs for 2000374973  -- top level= 2000374973\n",
      "..journals/springer...\n",
      "..journals/nature...\n",
      "===\n",
      "Extracting KBARTs for 3000137278  -- top level= 2000374973\n",
      "..journals/springer...\n",
      "..journals/nature...\n",
      "===\n",
      "Extracting KBARTs for 3000137282  -- top level= 2000374973\n",
      "..journals/springer...\n",
      "..journals/nature...\n",
      "===\n",
      "Extracting KBARTs for 3000192397  -- top level= 2000374973\n",
      "..journals/springer...\n",
      "..journals/nature...\n",
      "===\n",
      "Extracting KBARTs for 3000262825  -- top level= 2000374973\n",
      "..journals/springer...\n",
      "..journals/nature...\n",
      "===\n",
      "Extracting KBARTs for 3000262839  -- top level= 2000374973\n",
      "..journals/springer...\n",
      "..journals/nature...\n",
      "===\n",
      "Extracting KBARTs for 3000599536  -- top level= 2000374973\n",
      "..journals/springer...\n",
      "..journals/nature...\n",
      "===\n",
      "Extracting KBARTs for 3000824714  -- top level= 2000374973\n",
      "..journals/springer...\n",
      "..journals/nature...\n",
      "===\n",
      "Extracting KBARTs for 3994313832  -- top level= 2000374973\n",
      "..journals/springer...\n",
      "..journals/nature...\n",
      "===\n",
      "Extracting KBARTs for 3003169293  -- top level= 2000374973\n",
      "..journals/springer...\n",
      "..journals/nature...\n",
      "===\n",
      "Extracting KBARTs for 3902044458  -- top level= 2000374973\n",
      "..journals/springer...\n",
      "..journals/nature...\n",
      "\n",
      "======\n",
      "Checking Hierarchy for BPID:  3000101569 \n",
      "======\n",
      "..data saved in /Volumes/Albano/2020-08-06-holding-analysis-extraction/3000101569/\n",
      "Related BPIDs found:  1 = ['3000101569']\n"
     ]
    },
    {
     "data": {
      "application/vnd.jupyter.widget-view+json": {
       "model_id": "8632f351fdda49d69b48fcad99df3726",
       "version_major": 2,
       "version_minor": 0
      },
      "text/plain": [
       "HBox(children=(FloatProgress(value=0.0, max=1.0), HTML(value='')))"
      ]
     },
     "metadata": {},
     "output_type": "display_data"
    },
    {
     "name": "stdout",
     "output_type": "stream",
     "text": [
      "===\n",
      "Extracting KBARTs for 3000101569  -- top level= 3000101569\n",
      "..journals/springer...\n",
      "..journals/nature...\n",
      "\n",
      "======\n",
      "Checking Hierarchy for BPID:  8200763073 \n",
      "======\n",
      "..data saved in /Volumes/Albano/2020-08-06-holding-analysis-extraction/8200763073/\n",
      "Related BPIDs found:  2 = ['8200763073', '8200828607']\n"
     ]
    },
    {
     "data": {
      "application/vnd.jupyter.widget-view+json": {
       "model_id": "270d702a65ec42f48d136ab835531574",
       "version_major": 2,
       "version_minor": 0
      },
      "text/plain": [
       "HBox(children=(FloatProgress(value=0.0, max=2.0), HTML(value='')))"
      ]
     },
     "metadata": {},
     "output_type": "display_data"
    },
    {
     "name": "stdout",
     "output_type": "stream",
     "text": [
      "===\n",
      "Extracting KBARTs for 8200763073  -- top level= 8200763073\n",
      "..journals/springer...\n",
      "..journals/nature...\n",
      "===\n",
      "Extracting KBARTs for 8200828607  -- top level= 8200763073\n",
      "..journals/springer...\n",
      "..journals/nature...\n",
      "\n",
      "======\n",
      "Checking Hierarchy for BPID:  2000051397 \n",
      "======\n",
      "..data saved in /Volumes/Albano/2020-08-06-holding-analysis-extraction/2000051397/\n",
      "Related BPIDs found:  7 = ['2000051397', '3000130459', '3000251517', '3001139967', '3991330314', '3002011430', '3002114477']\n"
     ]
    },
    {
     "data": {
      "application/vnd.jupyter.widget-view+json": {
       "model_id": "5335a0a9b4ab4212a0194d8260a21689",
       "version_major": 2,
       "version_minor": 0
      },
      "text/plain": [
       "HBox(children=(FloatProgress(value=0.0, max=7.0), HTML(value='')))"
      ]
     },
     "metadata": {},
     "output_type": "display_data"
    },
    {
     "name": "stdout",
     "output_type": "stream",
     "text": [
      "===\n",
      "Extracting KBARTs for 2000051397  -- top level= 2000051397\n",
      "..journals/springer...\n",
      "..journals/nature...\n",
      "===\n",
      "Extracting KBARTs for 3000130459  -- top level= 2000051397\n",
      "..journals/springer...\n",
      "..journals/nature...\n",
      "===\n",
      "Extracting KBARTs for 3000251517  -- top level= 2000051397\n",
      "..journals/springer...\n",
      "..journals/nature...\n",
      "===\n",
      "Extracting KBARTs for 3001139967  -- top level= 2000051397\n",
      "..journals/springer...\n",
      "..journals/nature...\n",
      "===\n",
      "Extracting KBARTs for 3991330314  -- top level= 2000051397\n",
      "..journals/springer...\n",
      "..journals/nature...\n",
      "===\n",
      "Extracting KBARTs for 3002011430  -- top level= 2000051397\n",
      "..journals/springer...\n",
      "..journals/nature...\n",
      "===\n",
      "Extracting KBARTs for 3002114477  -- top level= 2000051397\n",
      "..journals/springer...\n",
      "..journals/nature...\n",
      "\n",
      "======\n",
      "Checking Hierarchy for BPID:  2000376520 \n",
      "======\n",
      "..data saved in /Volumes/Albano/2020-08-06-holding-analysis-extraction/2000376520/\n",
      "Related BPIDs found:  1 = ['2000376520']\n"
     ]
    },
    {
     "data": {
      "application/vnd.jupyter.widget-view+json": {
       "model_id": "c700ae10aefe45f1b273676d6f88bd6d",
       "version_major": 2,
       "version_minor": 0
      },
      "text/plain": [
       "HBox(children=(FloatProgress(value=0.0, max=1.0), HTML(value='')))"
      ]
     },
     "metadata": {},
     "output_type": "display_data"
    },
    {
     "name": "stdout",
     "output_type": "stream",
     "text": [
      "===\n",
      "Extracting KBARTs for 2000376520  -- top level= 2000376520\n",
      "..journals/springer...\n",
      "..journals/nature...\n",
      "\n",
      "======\n",
      "Checking Hierarchy for BPID:  3000163017 \n",
      "======\n",
      "..data saved in /Volumes/Albano/2020-08-06-holding-analysis-extraction/3000163017/\n",
      "Related BPIDs found:  3 = ['3000163017', '3000141917', '8200828607']\n"
     ]
    },
    {
     "data": {
      "application/vnd.jupyter.widget-view+json": {
       "model_id": "00013728e5334454aa26a896239750e8",
       "version_major": 2,
       "version_minor": 0
      },
      "text/plain": [
       "HBox(children=(FloatProgress(value=0.0, max=3.0), HTML(value='')))"
      ]
     },
     "metadata": {},
     "output_type": "display_data"
    },
    {
     "name": "stdout",
     "output_type": "stream",
     "text": [
      "===\n",
      "Extracting KBARTs for 3000163017  -- top level= 3000163017\n",
      "..journals/springer...\n",
      "..journals/nature...\n",
      "===\n",
      "Extracting KBARTs for 3000141917  -- top level= 3000163017\n",
      "..journals/springer...\n",
      "..journals/nature...\n",
      "===\n",
      "Extracting KBARTs for 8200828607  -- top level= 3000163017\n",
      "..journals/springer...\n",
      "..journals/nature...\n",
      "\n",
      "======\n",
      "Checking Hierarchy for BPID:  3001125066 \n",
      "======\n",
      "..data saved in /Volumes/Albano/2020-08-06-holding-analysis-extraction/3001125066/\n",
      "Related BPIDs found:  1 = ['3001125066']\n"
     ]
    },
    {
     "data": {
      "application/vnd.jupyter.widget-view+json": {
       "model_id": "9b5d399acd064891a12950050e532653",
       "version_major": 2,
       "version_minor": 0
      },
      "text/plain": [
       "HBox(children=(FloatProgress(value=0.0, max=1.0), HTML(value='')))"
      ]
     },
     "metadata": {},
     "output_type": "display_data"
    },
    {
     "name": "stdout",
     "output_type": "stream",
     "text": [
      "===\n",
      "Extracting KBARTs for 3001125066  -- top level= 3001125066\n",
      "..journals/springer...\n",
      "..journals/nature...\n",
      "\n",
      "======\n",
      "Checking Hierarchy for BPID:  3000145097 \n",
      "======\n",
      "..data saved in /Volumes/Albano/2020-08-06-holding-analysis-extraction/3000145097/\n",
      "Related BPIDs found:  2 = ['3000145097', '8200828607']\n"
     ]
    },
    {
     "data": {
      "application/vnd.jupyter.widget-view+json": {
       "model_id": "574210ed2a06407db0ff9ba43a4b99f8",
       "version_major": 2,
       "version_minor": 0
      },
      "text/plain": [
       "HBox(children=(FloatProgress(value=0.0, max=2.0), HTML(value='')))"
      ]
     },
     "metadata": {},
     "output_type": "display_data"
    },
    {
     "name": "stdout",
     "output_type": "stream",
     "text": [
      "===\n",
      "Extracting KBARTs for 3000145097  -- top level= 3000145097\n",
      "..journals/springer...\n",
      "..journals/nature...\n",
      "===\n",
      "Extracting KBARTs for 8200828607  -- top level= 3000145097\n",
      "..journals/springer...\n",
      "..journals/nature...\n",
      "\n",
      "======\n",
      "Checking Hierarchy for BPID:  2000329424 \n",
      "======\n",
      "..data saved in /Volumes/Albano/2020-08-06-holding-analysis-extraction/2000329424/\n",
      "Related BPIDs found:  5 = ['2000329424', '3001139967', '3991330314', '3002011430', '3002114477']\n"
     ]
    },
    {
     "data": {
      "application/vnd.jupyter.widget-view+json": {
       "model_id": "3cf3cfe21b5d4213a4d93ea9c4aa57b0",
       "version_major": 2,
       "version_minor": 0
      },
      "text/plain": [
       "HBox(children=(FloatProgress(value=0.0, max=5.0), HTML(value='')))"
      ]
     },
     "metadata": {},
     "output_type": "display_data"
    },
    {
     "name": "stdout",
     "output_type": "stream",
     "text": [
      "===\n",
      "Extracting KBARTs for 2000329424  -- top level= 2000329424\n",
      "..journals/springer...\n",
      "..journals/nature...\n",
      "===\n",
      "Extracting KBARTs for 3001139967  -- top level= 2000329424\n",
      "..journals/springer...\n",
      "..journals/nature...\n",
      "===\n",
      "Extracting KBARTs for 3991330314  -- top level= 2000329424\n",
      "..journals/springer...\n",
      "..journals/nature...\n",
      "===\n",
      "Extracting KBARTs for 3002011430  -- top level= 2000329424\n",
      "..journals/springer...\n",
      "..journals/nature...\n",
      "===\n",
      "Extracting KBARTs for 3002114477  -- top level= 2000329424\n",
      "..journals/springer...\n",
      "..journals/nature...\n",
      "\n",
      "======\n",
      "Checking Hierarchy for BPID:  2000341714 \n",
      "======\n",
      "++++ ERROR ++++\n",
      "Errors index = [3003695120, 30036927080, 3003343017, 2000341714]\n"
     ]
    },
    {
     "data": {
      "application/vnd.jupyter.widget-view+json": {
       "model_id": "b297ffaaee5c475088e7f61db0e3e8d9",
       "version_major": 2,
       "version_minor": 0
      },
      "text/plain": [
       "HBox(children=(FloatProgress(value=0.0, max=5.0), HTML(value='')))"
      ]
     },
     "metadata": {},
     "output_type": "display_data"
    },
    {
     "name": "stdout",
     "output_type": "stream",
     "text": [
      "===\n",
      "Extracting KBARTs for 2000329424  -- top level= 2000341714\n",
      "..journals/springer...\n",
      "..journals/nature...\n",
      "===\n",
      "Extracting KBARTs for 3001139967  -- top level= 2000341714\n",
      "..journals/springer...\n",
      "..journals/nature...\n",
      "===\n",
      "Extracting KBARTs for 3991330314  -- top level= 2000341714\n",
      "..journals/springer...\n",
      "..journals/nature...\n",
      "===\n",
      "Extracting KBARTs for 3002011430  -- top level= 2000341714\n",
      "..journals/springer...\n",
      "..journals/nature...\n",
      "===\n",
      "Extracting KBARTs for 3002114477  -- top level= 2000341714\n",
      "..journals/springer...\n",
      "..journals/nature...\n",
      "\n",
      "======\n",
      "Checking Hierarchy for BPID:  3000118482 \n",
      "======\n",
      "..data saved in /Volumes/Albano/2020-08-06-holding-analysis-extraction/3000118482/\n",
      "Related BPIDs found:  2 = ['3000118482', '8200828607']\n"
     ]
    },
    {
     "data": {
      "application/vnd.jupyter.widget-view+json": {
       "model_id": "6f3a736186ce4a46ab51c64a4c0f4583",
       "version_major": 2,
       "version_minor": 0
      },
      "text/plain": [
       "HBox(children=(FloatProgress(value=0.0, max=2.0), HTML(value='')))"
      ]
     },
     "metadata": {},
     "output_type": "display_data"
    },
    {
     "name": "stdout",
     "output_type": "stream",
     "text": [
      "===\n",
      "Extracting KBARTs for 3000118482  -- top level= 3000118482\n",
      "..journals/springer...\n",
      "..journals/nature...\n",
      "===\n",
      "Extracting KBARTs for 8200828607  -- top level= 3000118482\n",
      "..journals/springer...\n",
      "..journals/nature...\n",
      "\n",
      "======\n",
      "Checking Hierarchy for BPID:  3001704148 \n",
      "======\n",
      "..data saved in /Volumes/Albano/2020-08-06-holding-analysis-extraction/3001704148/\n",
      "Related BPIDs found:  1 = ['3001704148']\n"
     ]
    },
    {
     "data": {
      "application/vnd.jupyter.widget-view+json": {
       "model_id": "d1581ada953b4c1798fa72e3f9600f51",
       "version_major": 2,
       "version_minor": 0
      },
      "text/plain": [
       "HBox(children=(FloatProgress(value=0.0, max=1.0), HTML(value='')))"
      ]
     },
     "metadata": {},
     "output_type": "display_data"
    },
    {
     "name": "stdout",
     "output_type": "stream",
     "text": [
      "===\n",
      "Extracting KBARTs for 3001704148  -- top level= 3001704148\n",
      "..journals/springer...\n",
      "..journals/nature...\n",
      "\n",
      "======\n",
      "Checking Hierarchy for BPID:  3000146645 \n",
      "======\n",
      "..data saved in /Volumes/Albano/2020-08-06-holding-analysis-extraction/3000146645/\n",
      "Related BPIDs found:  2 = ['3000146645', '3000675571']\n"
     ]
    },
    {
     "data": {
      "application/vnd.jupyter.widget-view+json": {
       "model_id": "faeb409336c14c6db82a764f4ef67e48",
       "version_major": 2,
       "version_minor": 0
      },
      "text/plain": [
       "HBox(children=(FloatProgress(value=0.0, max=2.0), HTML(value='')))"
      ]
     },
     "metadata": {},
     "output_type": "display_data"
    },
    {
     "name": "stdout",
     "output_type": "stream",
     "text": [
      "===\n",
      "Extracting KBARTs for 3000146645  -- top level= 3000146645\n",
      "..journals/springer...\n",
      "..journals/nature...\n",
      "===\n",
      "Extracting KBARTs for 3000675571  -- top level= 3000146645\n",
      "..journals/springer...\n",
      "..journals/nature...\n",
      "\n",
      "======\n",
      "Checking Hierarchy for BPID:  3000145110 \n",
      "======\n",
      "..data saved in /Volumes/Albano/2020-08-06-holding-analysis-extraction/3000145110/\n",
      "Related BPIDs found:  3 = ['3000145110', '3000155420', '3003532199']\n"
     ]
    },
    {
     "data": {
      "application/vnd.jupyter.widget-view+json": {
       "model_id": "8a244162a82543f2abf2486e4b44e8b6",
       "version_major": 2,
       "version_minor": 0
      },
      "text/plain": [
       "HBox(children=(FloatProgress(value=0.0, max=3.0), HTML(value='')))"
      ]
     },
     "metadata": {},
     "output_type": "display_data"
    },
    {
     "name": "stdout",
     "output_type": "stream",
     "text": [
      "===\n",
      "Extracting KBARTs for 3000145110  -- top level= 3000145110\n",
      "..journals/springer...\n",
      "..journals/nature...\n",
      "===\n",
      "Extracting KBARTs for 3000155420  -- top level= 3000145110\n",
      "..journals/springer...\n",
      "..journals/nature...\n",
      "===\n",
      "Extracting KBARTs for 3003532199  -- top level= 3000145110\n",
      "..journals/springer...\n",
      "..journals/nature...\n",
      "\n",
      "======\n",
      "Checking Hierarchy for BPID:  2000051414 \n",
      "======\n",
      "..data saved in /Volumes/Albano/2020-08-06-holding-analysis-extraction/2000051414/\n",
      "Related BPIDs found:  6 = ['2000051414', '3000122820', '3991330314', '3001139967', '3002011430', '3002114477']\n"
     ]
    },
    {
     "data": {
      "application/vnd.jupyter.widget-view+json": {
       "model_id": "eaca3b4be2a54e2395b6e021240e8d84",
       "version_major": 2,
       "version_minor": 0
      },
      "text/plain": [
       "HBox(children=(FloatProgress(value=0.0, max=6.0), HTML(value='')))"
      ]
     },
     "metadata": {},
     "output_type": "display_data"
    },
    {
     "name": "stdout",
     "output_type": "stream",
     "text": [
      "===\n",
      "Extracting KBARTs for 2000051414  -- top level= 2000051414\n",
      "..journals/springer...\n",
      "..journals/nature...\n",
      "===\n",
      "Extracting KBARTs for 3000122820  -- top level= 2000051414\n",
      "..journals/springer...\n",
      "..journals/nature...\n",
      "===\n",
      "Extracting KBARTs for 3991330314  -- top level= 2000051414\n",
      "..journals/springer...\n",
      "..journals/nature...\n",
      "===\n",
      "Extracting KBARTs for 3001139967  -- top level= 2000051414\n",
      "..journals/springer...\n",
      "..journals/nature...\n",
      "===\n",
      "Extracting KBARTs for 3002011430  -- top level= 2000051414\n",
      "..journals/springer...\n",
      "..journals/nature...\n",
      "===\n",
      "Extracting KBARTs for 3002114477  -- top level= 2000051414\n",
      "..journals/springer...\n",
      "..journals/nature...\n",
      "\n",
      "======\n",
      "Checking Hierarchy for BPID:  8201037522 \n",
      "======\n",
      "..data saved in /Volumes/Albano/2020-08-06-holding-analysis-extraction/8201037522/\n",
      "Related BPIDs found:  2 = ['8201037522', '8200828607']\n"
     ]
    },
    {
     "data": {
      "application/vnd.jupyter.widget-view+json": {
       "model_id": "792d8850d2ca46478f99c54d189fc3b0",
       "version_major": 2,
       "version_minor": 0
      },
      "text/plain": [
       "HBox(children=(FloatProgress(value=0.0, max=2.0), HTML(value='')))"
      ]
     },
     "metadata": {},
     "output_type": "display_data"
    },
    {
     "name": "stdout",
     "output_type": "stream",
     "text": [
      "===\n",
      "Extracting KBARTs for 8201037522  -- top level= 8201037522\n",
      "..journals/springer...\n",
      "..journals/nature...\n",
      "===\n",
      "Extracting KBARTs for 8200828607  -- top level= 8201037522\n",
      "..journals/springer...\n",
      "..journals/nature...\n",
      "\n",
      "======\n",
      "Checking Hierarchy for BPID:  8200711893 \n",
      "======\n",
      "..data saved in /Volumes/Albano/2020-08-06-holding-analysis-extraction/8200711893/\n",
      "Related BPIDs found:  2 = ['8200711893', '8200828607']\n"
     ]
    },
    {
     "data": {
      "application/vnd.jupyter.widget-view+json": {
       "model_id": "217fcaaddf274236a8e15a0962a9e422",
       "version_major": 2,
       "version_minor": 0
      },
      "text/plain": [
       "HBox(children=(FloatProgress(value=0.0, max=2.0), HTML(value='')))"
      ]
     },
     "metadata": {},
     "output_type": "display_data"
    },
    {
     "name": "stdout",
     "output_type": "stream",
     "text": [
      "===\n",
      "Extracting KBARTs for 8200711893  -- top level= 8200711893\n",
      "..journals/springer...\n",
      "..journals/nature...\n",
      "===\n",
      "Extracting KBARTs for 8200828607  -- top level= 8200711893\n",
      "..journals/springer...\n",
      "..journals/nature...\n",
      "\n",
      "======\n",
      "Checking Hierarchy for BPID:  2000144603 \n",
      "======\n",
      "..data saved in /Volumes/Albano/2020-08-06-holding-analysis-extraction/2000144603/\n",
      "Related BPIDs found:  7 = ['2000144603', '3000130459', '3000251517', '3991330314', '3001139967', '3002011430', '3002114477']\n"
     ]
    },
    {
     "data": {
      "application/vnd.jupyter.widget-view+json": {
       "model_id": "c3b0b850b00940d189f2fe009c87534b",
       "version_major": 2,
       "version_minor": 0
      },
      "text/plain": [
       "HBox(children=(FloatProgress(value=0.0, max=7.0), HTML(value='')))"
      ]
     },
     "metadata": {},
     "output_type": "display_data"
    },
    {
     "name": "stdout",
     "output_type": "stream",
     "text": [
      "===\n",
      "Extracting KBARTs for 2000144603  -- top level= 2000144603\n",
      "..journals/springer...\n",
      "..journals/nature...\n",
      "===\n",
      "Extracting KBARTs for 3000130459  -- top level= 2000144603\n",
      "..journals/springer...\n",
      "..journals/nature...\n",
      "===\n",
      "Extracting KBARTs for 3000251517  -- top level= 2000144603\n",
      "..journals/springer...\n",
      "..journals/nature...\n",
      "===\n",
      "Extracting KBARTs for 3991330314  -- top level= 2000144603\n",
      "..journals/springer...\n",
      "..journals/nature...\n",
      "===\n",
      "Extracting KBARTs for 3001139967  -- top level= 2000144603\n",
      "..journals/springer...\n",
      "..journals/nature...\n",
      "===\n",
      "Extracting KBARTs for 3002011430  -- top level= 2000144603\n",
      "..journals/springer...\n",
      "..journals/nature...\n",
      "===\n",
      "Extracting KBARTs for 3002114477  -- top level= 2000144603\n",
      "..journals/springer...\n",
      "..journals/nature...\n",
      "\n",
      "======\n",
      "Checking Hierarchy for BPID:  8200706780 \n",
      "======\n",
      "..data saved in /Volumes/Albano/2020-08-06-holding-analysis-extraction/8200706780/\n",
      "Related BPIDs found:  2 = ['8200706780', '8200828607']\n"
     ]
    },
    {
     "data": {
      "application/vnd.jupyter.widget-view+json": {
       "model_id": "4056e8701eb34c65a75384bf2cbe0b9d",
       "version_major": 2,
       "version_minor": 0
      },
      "text/plain": [
       "HBox(children=(FloatProgress(value=0.0, max=2.0), HTML(value='')))"
      ]
     },
     "metadata": {},
     "output_type": "display_data"
    },
    {
     "name": "stdout",
     "output_type": "stream",
     "text": [
      "===\n",
      "Extracting KBARTs for 8200706780  -- top level= 8200706780\n",
      "..journals/springer...\n",
      "..journals/nature...\n",
      "===\n",
      "Extracting KBARTs for 8200828607  -- top level= 8200706780\n",
      "..journals/springer...\n",
      "..journals/nature...\n",
      "\n",
      "======\n",
      "Checking Hierarchy for BPID:  2000422113 \n",
      "======\n",
      "..data saved in /Volumes/Albano/2020-08-06-holding-analysis-extraction/2000422113/\n",
      "Related BPIDs found:  1 = ['2000422113']\n"
     ]
    },
    {
     "data": {
      "application/vnd.jupyter.widget-view+json": {
       "model_id": "218db4db5df642b589958a92097eabe4",
       "version_major": 2,
       "version_minor": 0
      },
      "text/plain": [
       "HBox(children=(FloatProgress(value=0.0, max=1.0), HTML(value='')))"
      ]
     },
     "metadata": {},
     "output_type": "display_data"
    },
    {
     "name": "stdout",
     "output_type": "stream",
     "text": [
      "===\n",
      "Extracting KBARTs for 2000422113  -- top level= 2000422113\n",
      "..journals/springer...\n",
      "..journals/nature...\n",
      "\n",
      "======\n",
      "Checking Hierarchy for BPID:  3000142563 \n",
      "======\n",
      "..data saved in /Volumes/Albano/2020-08-06-holding-analysis-extraction/3000142563/\n",
      "Related BPIDs found:  4 = ['3000142563', '3991332406', '3002060351', '3000123642']\n"
     ]
    },
    {
     "data": {
      "application/vnd.jupyter.widget-view+json": {
       "model_id": "4b9f4d9fe37441289670ccd73ddce088",
       "version_major": 2,
       "version_minor": 0
      },
      "text/plain": [
       "HBox(children=(FloatProgress(value=0.0, max=4.0), HTML(value='')))"
      ]
     },
     "metadata": {},
     "output_type": "display_data"
    },
    {
     "name": "stdout",
     "output_type": "stream",
     "text": [
      "===\n",
      "Extracting KBARTs for 3000142563  -- top level= 3000142563\n",
      "..journals/springer...\n",
      "..journals/nature...\n",
      "===\n",
      "Extracting KBARTs for 3991332406  -- top level= 3000142563\n",
      "..journals/springer...\n",
      "..journals/nature...\n",
      "===\n",
      "Extracting KBARTs for 3002060351  -- top level= 3000142563\n",
      "..journals/springer...\n",
      "..journals/nature...\n",
      "===\n",
      "Extracting KBARTs for 3000123642  -- top level= 3000142563\n",
      "..journals/springer...\n",
      "..journals/nature...\n",
      "\n",
      "======\n",
      "Checking Hierarchy for BPID:  3000146148 \n",
      "======\n",
      "..data saved in /Volumes/Albano/2020-08-06-holding-analysis-extraction/3000146148/\n",
      "Related BPIDs found:  2 = ['3000146148', '3000675571']\n"
     ]
    },
    {
     "data": {
      "application/vnd.jupyter.widget-view+json": {
       "model_id": "4ea3f324991f4f2789d5356d7b42c108",
       "version_major": 2,
       "version_minor": 0
      },
      "text/plain": [
       "HBox(children=(FloatProgress(value=0.0, max=2.0), HTML(value='')))"
      ]
     },
     "metadata": {},
     "output_type": "display_data"
    },
    {
     "name": "stdout",
     "output_type": "stream",
     "text": [
      "===\n",
      "Extracting KBARTs for 3000146148  -- top level= 3000146148\n",
      "..journals/springer...\n",
      "..journals/nature...\n",
      "===\n",
      "Extracting KBARTs for 3000675571  -- top level= 3000146148\n",
      "..journals/springer...\n",
      "..journals/nature...\n",
      "\n",
      "======\n",
      "Checking Hierarchy for BPID:  2000332004 \n",
      "======\n",
      "..data saved in /Volumes/Albano/2020-08-06-holding-analysis-extraction/2000332004/\n",
      "Related BPIDs found:  7 = ['2000332004', '3000130459', '3000251517', '3991330314', '3001139967', '3002011430', '3002114477']\n"
     ]
    },
    {
     "data": {
      "application/vnd.jupyter.widget-view+json": {
       "model_id": "b6cdb10ed5d24829b92cd6fcfdc64b61",
       "version_major": 2,
       "version_minor": 0
      },
      "text/plain": [
       "HBox(children=(FloatProgress(value=0.0, max=7.0), HTML(value='')))"
      ]
     },
     "metadata": {},
     "output_type": "display_data"
    },
    {
     "name": "stdout",
     "output_type": "stream",
     "text": [
      "===\n",
      "Extracting KBARTs for 2000332004  -- top level= 2000332004\n",
      "..journals/springer...\n",
      "..journals/nature...\n",
      "===\n",
      "Extracting KBARTs for 3000130459  -- top level= 2000332004\n",
      "..journals/springer...\n",
      "..journals/nature...\n",
      "===\n",
      "Extracting KBARTs for 3000251517  -- top level= 2000332004\n",
      "..journals/springer...\n",
      "..journals/nature...\n",
      "===\n",
      "Extracting KBARTs for 3991330314  -- top level= 2000332004\n",
      "..journals/springer...\n",
      "..journals/nature...\n",
      "===\n",
      "Extracting KBARTs for 3001139967  -- top level= 2000332004\n",
      "..journals/springer...\n",
      "..journals/nature...\n",
      "===\n",
      "Extracting KBARTs for 3002011430  -- top level= 2000332004\n",
      "..journals/springer...\n",
      "..journals/nature...\n",
      "===\n",
      "Extracting KBARTs for 3002114477  -- top level= 2000332004\n",
      "..journals/springer...\n",
      "..journals/nature...\n",
      "\n",
      "======\n",
      "Checking Hierarchy for BPID:  3000142567 \n",
      "======\n",
      "..data saved in /Volumes/Albano/2020-08-06-holding-analysis-extraction/3000142567/\n",
      "Related BPIDs found:  2 = ['3000142567', '8200828607']\n"
     ]
    },
    {
     "data": {
      "application/vnd.jupyter.widget-view+json": {
       "model_id": "cb5d791c78c440fab855d6efc816dd2e",
       "version_major": 2,
       "version_minor": 0
      },
      "text/plain": [
       "HBox(children=(FloatProgress(value=0.0, max=2.0), HTML(value='')))"
      ]
     },
     "metadata": {},
     "output_type": "display_data"
    },
    {
     "name": "stdout",
     "output_type": "stream",
     "text": [
      "===\n",
      "Extracting KBARTs for 3000142567  -- top level= 3000142567\n",
      "..journals/springer...\n",
      "..journals/nature...\n",
      "===\n",
      "Extracting KBARTs for 8200828607  -- top level= 3000142567\n",
      "..journals/springer...\n",
      "..journals/nature...\n",
      "\n",
      "======\n",
      "Checking Hierarchy for BPID:  2000051435 \n",
      "======\n",
      "..data saved in /Volumes/Albano/2020-08-06-holding-analysis-extraction/2000051435/\n",
      "Related BPIDs found:  7 = ['2000051435', '3000130459', '3000251517', '3991330314', '3001139967', '3002011430', '3002114477']\n"
     ]
    },
    {
     "data": {
      "application/vnd.jupyter.widget-view+json": {
       "model_id": "cb3d94819a784ac9bd6a83c3dda80c30",
       "version_major": 2,
       "version_minor": 0
      },
      "text/plain": [
       "HBox(children=(FloatProgress(value=0.0, max=7.0), HTML(value='')))"
      ]
     },
     "metadata": {},
     "output_type": "display_data"
    },
    {
     "name": "stdout",
     "output_type": "stream",
     "text": [
      "===\n",
      "Extracting KBARTs for 2000051435  -- top level= 2000051435\n",
      "..journals/springer...\n",
      "..journals/nature...\n",
      "===\n",
      "Extracting KBARTs for 3000130459  -- top level= 2000051435\n",
      "..journals/springer...\n",
      "..journals/nature...\n",
      "===\n",
      "Extracting KBARTs for 3000251517  -- top level= 2000051435\n",
      "..journals/springer...\n",
      "..journals/nature...\n",
      "===\n",
      "Extracting KBARTs for 3991330314  -- top level= 2000051435\n",
      "..journals/springer...\n",
      "..journals/nature...\n",
      "===\n",
      "Extracting KBARTs for 3001139967  -- top level= 2000051435\n",
      "..journals/springer...\n",
      "..journals/nature...\n",
      "===\n",
      "Extracting KBARTs for 3002011430  -- top level= 2000051435\n",
      "..journals/springer...\n",
      "..journals/nature...\n",
      "===\n",
      "Extracting KBARTs for 3002114477  -- top level= 2000051435\n",
      "..journals/springer...\n",
      "..journals/nature...\n",
      "\n",
      "======\n",
      "Checking Hierarchy for BPID:  8200836846 \n",
      "======\n",
      "..data saved in /Volumes/Albano/2020-08-06-holding-analysis-extraction/8200836846/\n",
      "Related BPIDs found:  5 = ['8200836846', '3000176734', '8200828607', '3000176756', '3902328142']\n"
     ]
    },
    {
     "data": {
      "application/vnd.jupyter.widget-view+json": {
       "model_id": "b5e779df70ac48b3960b1e07ad362946",
       "version_major": 2,
       "version_minor": 0
      },
      "text/plain": [
       "HBox(children=(FloatProgress(value=0.0, max=5.0), HTML(value='')))"
      ]
     },
     "metadata": {},
     "output_type": "display_data"
    },
    {
     "name": "stdout",
     "output_type": "stream",
     "text": [
      "===\n",
      "Extracting KBARTs for 8200836846  -- top level= 8200836846\n",
      "..journals/springer...\n",
      "..journals/nature...\n",
      "===\n",
      "Extracting KBARTs for 3000176734  -- top level= 8200836846\n",
      "..journals/springer...\n",
      "..journals/nature...\n",
      "===\n",
      "Extracting KBARTs for 8200828607  -- top level= 8200836846\n",
      "..journals/springer...\n",
      "..journals/nature...\n",
      "===\n",
      "Extracting KBARTs for 3000176756  -- top level= 8200836846\n",
      "..journals/springer...\n",
      "..journals/nature...\n",
      "===\n",
      "Extracting KBARTs for 3902328142  -- top level= 8200836846\n",
      "..journals/springer...\n",
      "..journals/nature...\n",
      "\n",
      "======\n",
      "Checking Hierarchy for BPID:  8200724720 \n",
      "======\n",
      "..data saved in /Volumes/Albano/2020-08-06-holding-analysis-extraction/8200724720/\n",
      "Related BPIDs found:  3 = ['8200724720', '3000122248', '8200828607']\n"
     ]
    },
    {
     "data": {
      "application/vnd.jupyter.widget-view+json": {
       "model_id": "080962b388c84b63a1c2c51a549b8c11",
       "version_major": 2,
       "version_minor": 0
      },
      "text/plain": [
       "HBox(children=(FloatProgress(value=0.0, max=3.0), HTML(value='')))"
      ]
     },
     "metadata": {},
     "output_type": "display_data"
    },
    {
     "name": "stdout",
     "output_type": "stream",
     "text": [
      "===\n",
      "Extracting KBARTs for 8200724720  -- top level= 8200724720\n",
      "..journals/springer...\n",
      "..journals/nature...\n",
      "===\n",
      "Extracting KBARTs for 3000122248  -- top level= 8200724720\n",
      "..journals/springer...\n",
      "..journals/nature...\n",
      "===\n",
      "Extracting KBARTs for 8200828607  -- top level= 8200724720\n",
      "..journals/springer...\n",
      "..journals/nature...\n",
      "\n",
      "======\n",
      "Checking Hierarchy for BPID:  3000155377 \n",
      "======\n",
      "..data saved in /Volumes/Albano/2020-08-06-holding-analysis-extraction/3000155377/\n",
      "Related BPIDs found:  1 = ['3000155377']\n"
     ]
    },
    {
     "data": {
      "application/vnd.jupyter.widget-view+json": {
       "model_id": "c05a0601449343eb8491d6b5bb0798f0",
       "version_major": 2,
       "version_minor": 0
      },
      "text/plain": [
       "HBox(children=(FloatProgress(value=0.0, max=1.0), HTML(value='')))"
      ]
     },
     "metadata": {},
     "output_type": "display_data"
    },
    {
     "name": "stdout",
     "output_type": "stream",
     "text": [
      "===\n",
      "Extracting KBARTs for 3000155377  -- top level= 3000155377\n",
      "..journals/springer...\n",
      "..journals/nature...\n",
      "\n",
      "======\n",
      "Checking Hierarchy for BPID:  3000172792 \n",
      "======\n",
      "..data saved in /Volumes/Albano/2020-08-06-holding-analysis-extraction/3000172792/\n",
      "Related BPIDs found:  1 = ['3000172792']\n"
     ]
    },
    {
     "data": {
      "application/vnd.jupyter.widget-view+json": {
       "model_id": "067439c594ea4c318a50a2a15d8da3d7",
       "version_major": 2,
       "version_minor": 0
      },
      "text/plain": [
       "HBox(children=(FloatProgress(value=0.0, max=1.0), HTML(value='')))"
      ]
     },
     "metadata": {},
     "output_type": "display_data"
    },
    {
     "name": "stdout",
     "output_type": "stream",
     "text": [
      "===\n",
      "Extracting KBARTs for 3000172792  -- top level= 3000172792\n",
      "..journals/springer...\n",
      "..journals/nature...\n",
      "\n",
      "======\n",
      "Checking Hierarchy for BPID:  8200868601 \n",
      "======\n",
      "..data saved in /Volumes/Albano/2020-08-06-holding-analysis-extraction/8200868601/\n",
      "Related BPIDs found:  3 = ['8200868601', '8200828607', '3000133814']\n"
     ]
    },
    {
     "data": {
      "application/vnd.jupyter.widget-view+json": {
       "model_id": "ae8d8c4afca84d2ab6e3ba08f8d57d20",
       "version_major": 2,
       "version_minor": 0
      },
      "text/plain": [
       "HBox(children=(FloatProgress(value=0.0, max=3.0), HTML(value='')))"
      ]
     },
     "metadata": {},
     "output_type": "display_data"
    },
    {
     "name": "stdout",
     "output_type": "stream",
     "text": [
      "===\n",
      "Extracting KBARTs for 8200868601  -- top level= 8200868601\n",
      "..journals/springer...\n",
      "..journals/nature...\n",
      "===\n",
      "Extracting KBARTs for 8200828607  -- top level= 8200868601\n",
      "..journals/springer...\n",
      "..journals/nature...\n",
      "===\n",
      "Extracting KBARTs for 3000133814  -- top level= 8200868601\n",
      "..journals/springer...\n",
      "..journals/nature...\n",
      "\n",
      "======\n",
      "Checking Hierarchy for BPID:  8200972026 \n",
      "======\n",
      "..data saved in /Volumes/Albano/2020-08-06-holding-analysis-extraction/8200972026/\n",
      "Related BPIDs found:  5 = ['8200972026', '3000176734', '8200828607', '3000176756', '3902328142']\n"
     ]
    },
    {
     "data": {
      "application/vnd.jupyter.widget-view+json": {
       "model_id": "ccc1a9fbb4a7443fb11f6347dd2ee5ac",
       "version_major": 2,
       "version_minor": 0
      },
      "text/plain": [
       "HBox(children=(FloatProgress(value=0.0, max=5.0), HTML(value='')))"
      ]
     },
     "metadata": {},
     "output_type": "display_data"
    },
    {
     "name": "stdout",
     "output_type": "stream",
     "text": [
      "===\n",
      "Extracting KBARTs for 8200972026  -- top level= 8200972026\n",
      "..journals/springer...\n",
      "..journals/nature...\n",
      "===\n",
      "Extracting KBARTs for 3000176734  -- top level= 8200972026\n",
      "..journals/springer...\n",
      "..journals/nature...\n",
      "===\n",
      "Extracting KBARTs for 8200828607  -- top level= 8200972026\n",
      "..journals/springer...\n",
      "..journals/nature...\n",
      "===\n",
      "Extracting KBARTs for 3000176756  -- top level= 8200972026\n",
      "..journals/springer...\n",
      "..journals/nature...\n",
      "===\n",
      "Extracting KBARTs for 3902328142  -- top level= 8200972026\n",
      "..journals/springer...\n",
      "..journals/nature...\n",
      "\n",
      "======\n",
      "Checking Hierarchy for BPID:  3000204546 \n",
      "======\n",
      "..data saved in /Volumes/Albano/2020-08-06-holding-analysis-extraction/3000204546/\n",
      "Related BPIDs found:  3 = ['3000204546', '3000197460', '3901169726']\n"
     ]
    },
    {
     "data": {
      "application/vnd.jupyter.widget-view+json": {
       "model_id": "161e5478054f47728d31a49a1282bc1f",
       "version_major": 2,
       "version_minor": 0
      },
      "text/plain": [
       "HBox(children=(FloatProgress(value=0.0, max=3.0), HTML(value='')))"
      ]
     },
     "metadata": {},
     "output_type": "display_data"
    },
    {
     "name": "stdout",
     "output_type": "stream",
     "text": [
      "===\n",
      "Extracting KBARTs for 3000204546  -- top level= 3000204546\n",
      "..journals/springer...\n",
      "..journals/nature...\n",
      "===\n",
      "Extracting KBARTs for 3000197460  -- top level= 3000204546\n",
      "..journals/springer...\n",
      "..journals/nature...\n",
      "===\n",
      "Extracting KBARTs for 3901169726  -- top level= 3000204546\n",
      "..journals/springer...\n",
      "..journals/nature...\n",
      "\n",
      "======\n",
      "Checking Hierarchy for BPID:  8200919299 \n",
      "======\n",
      "..data saved in /Volumes/Albano/2020-08-06-holding-analysis-extraction/8200919299/\n",
      "Related BPIDs found:  2 = ['8200919299', '3000216639']\n"
     ]
    },
    {
     "data": {
      "application/vnd.jupyter.widget-view+json": {
       "model_id": "32bd633fc0824e19992bd6fb96943f72",
       "version_major": 2,
       "version_minor": 0
      },
      "text/plain": [
       "HBox(children=(FloatProgress(value=0.0, max=2.0), HTML(value='')))"
      ]
     },
     "metadata": {},
     "output_type": "display_data"
    },
    {
     "name": "stdout",
     "output_type": "stream",
     "text": [
      "===\n",
      "Extracting KBARTs for 8200919299  -- top level= 8200919299\n",
      "..journals/springer...\n",
      "..journals/nature...\n",
      "===\n",
      "Extracting KBARTs for 3000216639  -- top level= 8200919299\n",
      "..journals/springer...\n",
      "..journals/nature...\n",
      "\n",
      "======\n",
      "Checking Hierarchy for BPID:  3000123139 \n",
      "======\n",
      "..data saved in /Volumes/Albano/2020-08-06-holding-analysis-extraction/3000123139/\n",
      "Related BPIDs found:  2 = ['3000123139', '8200828607']\n"
     ]
    },
    {
     "data": {
      "application/vnd.jupyter.widget-view+json": {
       "model_id": "8bb38634f9234631bcc03d880749d358",
       "version_major": 2,
       "version_minor": 0
      },
      "text/plain": [
       "HBox(children=(FloatProgress(value=0.0, max=2.0), HTML(value='')))"
      ]
     },
     "metadata": {},
     "output_type": "display_data"
    },
    {
     "name": "stdout",
     "output_type": "stream",
     "text": [
      "===\n",
      "Extracting KBARTs for 3000123139  -- top level= 3000123139\n",
      "..journals/springer...\n",
      "..journals/nature...\n",
      "===\n",
      "Extracting KBARTs for 8200828607  -- top level= 3000123139\n",
      "..journals/springer...\n",
      "..journals/nature...\n",
      "\n",
      "======\n",
      "Checking Hierarchy for BPID:  2000189191 \n",
      "======\n",
      "..data saved in /Volumes/Albano/2020-08-06-holding-analysis-extraction/2000189191/\n",
      "Related BPIDs found:  2 = ['2000189191', '8200828607']\n"
     ]
    },
    {
     "data": {
      "application/vnd.jupyter.widget-view+json": {
       "model_id": "cf9be9699ef046f38f0b2cfb1189d279",
       "version_major": 2,
       "version_minor": 0
      },
      "text/plain": [
       "HBox(children=(FloatProgress(value=0.0, max=2.0), HTML(value='')))"
      ]
     },
     "metadata": {},
     "output_type": "display_data"
    },
    {
     "name": "stdout",
     "output_type": "stream",
     "text": [
      "===\n",
      "Extracting KBARTs for 2000189191  -- top level= 2000189191\n",
      "..journals/springer...\n",
      "..journals/nature...\n",
      "===\n",
      "Extracting KBARTs for 8200828607  -- top level= 2000189191\n",
      "..journals/springer...\n",
      "..journals/nature...\n",
      "\n",
      "======\n",
      "Checking Hierarchy for BPID:  2000642829 \n",
      "======\n",
      "..data saved in /Volumes/Albano/2020-08-06-holding-analysis-extraction/2000642829/\n",
      "Related BPIDs found:  5 = ['2000642829', '3000568527', '3000714840', '3001038963', '3001337747']\n"
     ]
    },
    {
     "data": {
      "application/vnd.jupyter.widget-view+json": {
       "model_id": "2aa67bd44436483aac3d0f14fa777e94",
       "version_major": 2,
       "version_minor": 0
      },
      "text/plain": [
       "HBox(children=(FloatProgress(value=0.0, max=5.0), HTML(value='')))"
      ]
     },
     "metadata": {},
     "output_type": "display_data"
    },
    {
     "name": "stdout",
     "output_type": "stream",
     "text": [
      "===\n",
      "Extracting KBARTs for 2000642829  -- top level= 2000642829\n",
      "..journals/springer...\n",
      "..journals/nature...\n",
      "===\n",
      "Extracting KBARTs for 3000568527  -- top level= 2000642829\n",
      "..journals/springer...\n",
      "..journals/nature...\n",
      "===\n",
      "Extracting KBARTs for 3000714840  -- top level= 2000642829\n",
      "..journals/springer...\n",
      "..journals/nature...\n",
      "===\n",
      "Extracting KBARTs for 3001038963  -- top level= 2000642829\n",
      "..journals/springer...\n",
      "..journals/nature...\n",
      "===\n",
      "Extracting KBARTs for 3001337747  -- top level= 2000642829\n",
      "..journals/springer...\n",
      "..journals/nature...\n",
      "\n",
      "======\n",
      "Checking Hierarchy for BPID:  2000481557 \n",
      "======\n",
      "..data saved in /Volumes/Albano/2020-08-06-holding-analysis-extraction/2000481557/\n",
      "Related BPIDs found:  2 = ['2000481557', '8200828607']\n"
     ]
    },
    {
     "data": {
      "application/vnd.jupyter.widget-view+json": {
       "model_id": "161a26c160e4473e913eae799a124f56",
       "version_major": 2,
       "version_minor": 0
      },
      "text/plain": [
       "HBox(children=(FloatProgress(value=0.0, max=2.0), HTML(value='')))"
      ]
     },
     "metadata": {},
     "output_type": "display_data"
    },
    {
     "name": "stdout",
     "output_type": "stream",
     "text": [
      "===\n",
      "Extracting KBARTs for 2000481557  -- top level= 2000481557\n",
      "..journals/springer...\n",
      "..journals/nature...\n",
      "===\n",
      "Extracting KBARTs for 8200828607  -- top level= 2000481557\n",
      "..journals/springer...\n",
      "..journals/nature...\n",
      "\n",
      "======\n",
      "Checking Hierarchy for BPID:  8200724245 \n",
      "======\n",
      "..data saved in /Volumes/Albano/2020-08-06-holding-analysis-extraction/8200724245/\n",
      "Related BPIDs found:  2 = ['8200724245', '8200828607']\n"
     ]
    },
    {
     "data": {
      "application/vnd.jupyter.widget-view+json": {
       "model_id": "e82c0cd7bf394bf29018372700014d93",
       "version_major": 2,
       "version_minor": 0
      },
      "text/plain": [
       "HBox(children=(FloatProgress(value=0.0, max=2.0), HTML(value='')))"
      ]
     },
     "metadata": {},
     "output_type": "display_data"
    },
    {
     "name": "stdout",
     "output_type": "stream",
     "text": [
      "===\n",
      "Extracting KBARTs for 8200724245  -- top level= 8200724245\n",
      "..journals/springer...\n",
      "..journals/nature...\n",
      "===\n",
      "Extracting KBARTs for 8200828607  -- top level= 8200724245\n",
      "..journals/springer...\n",
      "..journals/nature...\n",
      "\n",
      "======\n",
      "Checking Hierarchy for BPID:  1000857884 \n",
      "======\n",
      "..data saved in /Volumes/Albano/2020-08-06-holding-analysis-extraction/1000857884/\n",
      "Related BPIDs found:  8 = ['1000857884', '3000130459', '3000179129', '3000198352', '3991330314', '3001139967', '3002011430', '3002114477']\n"
     ]
    },
    {
     "data": {
      "application/vnd.jupyter.widget-view+json": {
       "model_id": "496f100398644b2b94ab24c8a42d2250",
       "version_major": 2,
       "version_minor": 0
      },
      "text/plain": [
       "HBox(children=(FloatProgress(value=0.0, max=8.0), HTML(value='')))"
      ]
     },
     "metadata": {},
     "output_type": "display_data"
    },
    {
     "name": "stdout",
     "output_type": "stream",
     "text": [
      "===\n",
      "Extracting KBARTs for 1000857884  -- top level= 1000857884\n",
      "..journals/springer...\n",
      "..journals/nature...\n",
      "===\n",
      "Extracting KBARTs for 3000130459  -- top level= 1000857884\n",
      "..journals/springer...\n",
      "..journals/nature...\n",
      "===\n",
      "Extracting KBARTs for 3000179129  -- top level= 1000857884\n",
      "..journals/springer...\n",
      "..journals/nature...\n",
      "===\n",
      "Extracting KBARTs for 3000198352  -- top level= 1000857884\n",
      "..journals/springer...\n",
      "..journals/nature...\n",
      "===\n",
      "Extracting KBARTs for 3991330314  -- top level= 1000857884\n",
      "..journals/springer...\n",
      "..journals/nature...\n",
      "===\n",
      "Extracting KBARTs for 3001139967  -- top level= 1000857884\n",
      "..journals/springer...\n",
      "..journals/nature...\n",
      "===\n",
      "Extracting KBARTs for 3002011430  -- top level= 1000857884\n",
      "..journals/springer...\n",
      "..journals/nature...\n",
      "===\n",
      "Extracting KBARTs for 3002114477  -- top level= 1000857884\n",
      "..journals/springer...\n",
      "..journals/nature...\n",
      "\n",
      "======\n",
      "Checking Hierarchy for BPID:  3000147746 \n",
      "======\n",
      "..data saved in /Volumes/Albano/2020-08-06-holding-analysis-extraction/3000147746/\n",
      "Related BPIDs found:  2 = ['3000147746', '3000675571']\n"
     ]
    },
    {
     "data": {
      "application/vnd.jupyter.widget-view+json": {
       "model_id": "fcce44faf9904315b7e8d438099d6bd2",
       "version_major": 2,
       "version_minor": 0
      },
      "text/plain": [
       "HBox(children=(FloatProgress(value=0.0, max=2.0), HTML(value='')))"
      ]
     },
     "metadata": {},
     "output_type": "display_data"
    },
    {
     "name": "stdout",
     "output_type": "stream",
     "text": [
      "===\n",
      "Extracting KBARTs for 3000147746  -- top level= 3000147746\n",
      "..journals/springer...\n",
      "..journals/nature...\n",
      "===\n",
      "Extracting KBARTs for 3000675571  -- top level= 3000147746\n",
      "..journals/springer...\n",
      "..journals/nature...\n",
      "\n",
      "======\n",
      "Checking Hierarchy for BPID:  8200831269 \n",
      "======\n",
      "..data saved in /Volumes/Albano/2020-08-06-holding-analysis-extraction/8200831269/\n",
      "Related BPIDs found:  2 = ['8200831269', '8200828607']\n"
     ]
    },
    {
     "data": {
      "application/vnd.jupyter.widget-view+json": {
       "model_id": "b49d411957c947fea116cdeb9f62a327",
       "version_major": 2,
       "version_minor": 0
      },
      "text/plain": [
       "HBox(children=(FloatProgress(value=0.0, max=2.0), HTML(value='')))"
      ]
     },
     "metadata": {},
     "output_type": "display_data"
    },
    {
     "name": "stdout",
     "output_type": "stream",
     "text": [
      "===\n",
      "Extracting KBARTs for 8200831269  -- top level= 8200831269\n",
      "..journals/springer...\n",
      "..journals/nature...\n",
      "===\n",
      "Extracting KBARTs for 8200828607  -- top level= 8200831269\n",
      "..journals/springer...\n",
      "..journals/nature...\n",
      "\n",
      "======\n",
      "Checking Hierarchy for BPID:  8200911654 \n",
      "======\n",
      "..data saved in /Volumes/Albano/2020-08-06-holding-analysis-extraction/8200911654/\n",
      "Related BPIDs found:  2 = ['8200911654', '8200828607']\n"
     ]
    },
    {
     "data": {
      "application/vnd.jupyter.widget-view+json": {
       "model_id": "4c15caf89f6e4a16b57b9a5cfd7d9194",
       "version_major": 2,
       "version_minor": 0
      },
      "text/plain": [
       "HBox(children=(FloatProgress(value=0.0, max=2.0), HTML(value='')))"
      ]
     },
     "metadata": {},
     "output_type": "display_data"
    },
    {
     "name": "stdout",
     "output_type": "stream",
     "text": [
      "===\n",
      "Extracting KBARTs for 8200911654  -- top level= 8200911654\n",
      "..journals/springer...\n",
      "..journals/nature...\n",
      "===\n",
      "Extracting KBARTs for 8200828607  -- top level= 8200911654\n",
      "..journals/springer...\n",
      "..journals/nature...\n",
      "\n",
      "======\n",
      "Checking Hierarchy for BPID:  8200408873 \n",
      "======\n",
      "..data saved in /Volumes/Albano/2020-08-06-holding-analysis-extraction/8200408873/\n",
      "Related BPIDs found:  2 = ['8200408873', '8200828607']\n"
     ]
    },
    {
     "data": {
      "application/vnd.jupyter.widget-view+json": {
       "model_id": "f9be845eb78842beb68ed2a1ad178d03",
       "version_major": 2,
       "version_minor": 0
      },
      "text/plain": [
       "HBox(children=(FloatProgress(value=0.0, max=2.0), HTML(value='')))"
      ]
     },
     "metadata": {},
     "output_type": "display_data"
    },
    {
     "name": "stdout",
     "output_type": "stream",
     "text": [
      "===\n",
      "Extracting KBARTs for 8200408873  -- top level= 8200408873\n",
      "..journals/springer...\n",
      "..journals/nature...\n",
      "===\n",
      "Extracting KBARTs for 8200828607  -- top level= 8200408873\n",
      "..journals/springer...\n",
      "..journals/nature...\n",
      "\n",
      "======\n",
      "Checking Hierarchy for BPID:  3991369002 \n",
      "======\n",
      "..data saved in /Volumes/Albano/2020-08-06-holding-analysis-extraction/3991369002/\n",
      "Related BPIDs found:  1 = ['3991369002']\n"
     ]
    },
    {
     "data": {
      "application/vnd.jupyter.widget-view+json": {
       "model_id": "ebd12c49f8d042c2a2cc38d39a7631db",
       "version_major": 2,
       "version_minor": 0
      },
      "text/plain": [
       "HBox(children=(FloatProgress(value=0.0, max=1.0), HTML(value='')))"
      ]
     },
     "metadata": {},
     "output_type": "display_data"
    },
    {
     "name": "stdout",
     "output_type": "stream",
     "text": [
      "===\n",
      "Extracting KBARTs for 3991369002  -- top level= 3991369002\n",
      "..journals/springer...\n",
      "..journals/nature...\n",
      "\n",
      "======\n",
      "Checking Hierarchy for BPID:  2000545279 \n",
      "======\n",
      "..data saved in /Volumes/Albano/2020-08-06-holding-analysis-extraction/2000545279/\n",
      "Related BPIDs found:  1 = ['2000545279']\n"
     ]
    },
    {
     "data": {
      "application/vnd.jupyter.widget-view+json": {
       "model_id": "831139906b384a749814fdc3ddcc88ac",
       "version_major": 2,
       "version_minor": 0
      },
      "text/plain": [
       "HBox(children=(FloatProgress(value=0.0, max=1.0), HTML(value='')))"
      ]
     },
     "metadata": {},
     "output_type": "display_data"
    },
    {
     "name": "stdout",
     "output_type": "stream",
     "text": [
      "===\n",
      "Extracting KBARTs for 2000545279  -- top level= 2000545279\n",
      "..journals/springer...\n",
      "..journals/nature...\n",
      "\n",
      "======\n",
      "Checking Hierarchy for BPID:  2000397100 \n",
      "======\n",
      "..data saved in /Volumes/Albano/2020-08-06-holding-analysis-extraction/2000397100/\n",
      "Related BPIDs found:  1 = ['2000397100']\n"
     ]
    },
    {
     "data": {
      "application/vnd.jupyter.widget-view+json": {
       "model_id": "b1e3849b0490468ebc3121894cdc1bed",
       "version_major": 2,
       "version_minor": 0
      },
      "text/plain": [
       "HBox(children=(FloatProgress(value=0.0, max=1.0), HTML(value='')))"
      ]
     },
     "metadata": {},
     "output_type": "display_data"
    },
    {
     "name": "stdout",
     "output_type": "stream",
     "text": [
      "===\n",
      "Extracting KBARTs for 2000397100  -- top level= 2000397100\n",
      "..journals/springer...\n",
      "..journals/nature...\n",
      "\n",
      "======\n",
      "Checking Hierarchy for BPID:  3991467823 \n",
      "======\n",
      "..data saved in /Volumes/Albano/2020-08-06-holding-analysis-extraction/3991467823/\n",
      "Related BPIDs found:  1 = ['3991467823']\n"
     ]
    },
    {
     "data": {
      "application/vnd.jupyter.widget-view+json": {
       "model_id": "96eb246e37bd40598702b915db8cccad",
       "version_major": 2,
       "version_minor": 0
      },
      "text/plain": [
       "HBox(children=(FloatProgress(value=0.0, max=1.0), HTML(value='')))"
      ]
     },
     "metadata": {},
     "output_type": "display_data"
    },
    {
     "name": "stdout",
     "output_type": "stream",
     "text": [
      "===\n",
      "Extracting KBARTs for 3991467823  -- top level= 3991467823\n",
      "..journals/springer...\n",
      "..journals/nature...\n",
      "\n",
      "======\n",
      "Checking Hierarchy for BPID:  8200177967 \n",
      "======\n",
      "..data saved in /Volumes/Albano/2020-08-06-holding-analysis-extraction/8200177967/\n",
      "Related BPIDs found:  2 = ['8200177967', '8200828607']\n"
     ]
    },
    {
     "data": {
      "application/vnd.jupyter.widget-view+json": {
       "model_id": "65f9f5290ded49048867ea057c98f406",
       "version_major": 2,
       "version_minor": 0
      },
      "text/plain": [
       "HBox(children=(FloatProgress(value=0.0, max=2.0), HTML(value='')))"
      ]
     },
     "metadata": {},
     "output_type": "display_data"
    },
    {
     "name": "stdout",
     "output_type": "stream",
     "text": [
      "===\n",
      "Extracting KBARTs for 8200177967  -- top level= 8200177967\n",
      "..journals/springer...\n",
      "..journals/nature...\n",
      "===\n",
      "Extracting KBARTs for 8200828607  -- top level= 8200177967\n",
      "..journals/springer...\n",
      "..journals/nature...\n",
      "\n",
      "======\n",
      "Checking Hierarchy for BPID:  8201031477 \n",
      "======\n",
      "..data saved in /Volumes/Albano/2020-08-06-holding-analysis-extraction/8201031477/\n",
      "Related BPIDs found:  1 = ['8201031477']\n"
     ]
    },
    {
     "data": {
      "application/vnd.jupyter.widget-view+json": {
       "model_id": "c319b47b304940cfbec2ba7524b0ec77",
       "version_major": 2,
       "version_minor": 0
      },
      "text/plain": [
       "HBox(children=(FloatProgress(value=0.0, max=1.0), HTML(value='')))"
      ]
     },
     "metadata": {},
     "output_type": "display_data"
    },
    {
     "name": "stdout",
     "output_type": "stream",
     "text": [
      "===\n",
      "Extracting KBARTs for 8201031477  -- top level= 8201031477\n",
      "..journals/springer...\n",
      "..journals/nature...\n",
      "\n",
      "======\n",
      "Checking Hierarchy for BPID:  2000463160 \n",
      "======\n",
      "..data saved in /Volumes/Albano/2020-08-06-holding-analysis-extraction/2000463160/\n",
      "Related BPIDs found:  11 = ['2000463160', '3000130811', '3000481104', '3000730835', '3000824225', '3000208665', '3001039277', '3991464068', '3001231873', '3003089239', '3991447120']\n"
     ]
    },
    {
     "data": {
      "application/vnd.jupyter.widget-view+json": {
       "model_id": "2978d372d0154e00af571be3ae86d71b",
       "version_major": 2,
       "version_minor": 0
      },
      "text/plain": [
       "HBox(children=(FloatProgress(value=0.0, max=11.0), HTML(value='')))"
      ]
     },
     "metadata": {},
     "output_type": "display_data"
    },
    {
     "name": "stdout",
     "output_type": "stream",
     "text": [
      "===\n",
      "Extracting KBARTs for 2000463160  -- top level= 2000463160\n",
      "..journals/springer...\n",
      "..journals/nature...\n",
      "===\n",
      "Extracting KBARTs for 3000130811  -- top level= 2000463160\n",
      "..journals/springer...\n",
      "..journals/nature...\n",
      "===\n",
      "Extracting KBARTs for 3000481104  -- top level= 2000463160\n",
      "..journals/springer...\n",
      "..journals/nature...\n",
      "===\n",
      "Extracting KBARTs for 3000730835  -- top level= 2000463160\n",
      "..journals/springer...\n",
      "..journals/nature...\n",
      "===\n",
      "Extracting KBARTs for 3000824225  -- top level= 2000463160\n",
      "..journals/springer...\n",
      "..journals/nature...\n",
      "===\n",
      "Extracting KBARTs for 3000208665  -- top level= 2000463160\n",
      "..journals/springer...\n",
      "..journals/nature...\n",
      "===\n",
      "Extracting KBARTs for 3001039277  -- top level= 2000463160\n",
      "..journals/springer...\n",
      "..journals/nature...\n",
      "===\n",
      "Extracting KBARTs for 3991464068  -- top level= 2000463160\n",
      "..journals/springer...\n",
      "..journals/nature...\n",
      "===\n",
      "Extracting KBARTs for 3001231873  -- top level= 2000463160\n",
      "..journals/springer...\n",
      "..journals/nature...\n",
      "===\n",
      "Extracting KBARTs for 3003089239  -- top level= 2000463160\n",
      "..journals/springer...\n",
      "..journals/nature...\n",
      "===\n",
      "Extracting KBARTs for 3991447120  -- top level= 2000463160\n",
      "..journals/springer...\n",
      "..journals/nature...\n",
      "\n",
      "======\n",
      "Checking Hierarchy for BPID:  2000478521 \n",
      "======\n",
      "..data saved in /Volumes/Albano/2020-08-06-holding-analysis-extraction/2000478521/\n",
      "Related BPIDs found:  2 = ['2000478521', '3000675571']\n"
     ]
    },
    {
     "data": {
      "application/vnd.jupyter.widget-view+json": {
       "model_id": "24c8279a559f4cfba6716cc93c5d688e",
       "version_major": 2,
       "version_minor": 0
      },
      "text/plain": [
       "HBox(children=(FloatProgress(value=0.0, max=2.0), HTML(value='')))"
      ]
     },
     "metadata": {},
     "output_type": "display_data"
    },
    {
     "name": "stdout",
     "output_type": "stream",
     "text": [
      "===\n",
      "Extracting KBARTs for 2000478521  -- top level= 2000478521\n",
      "..journals/springer...\n",
      "..journals/nature...\n",
      "===\n",
      "Extracting KBARTs for 3000675571  -- top level= 2000478521\n",
      "..journals/springer...\n",
      "..journals/nature...\n",
      "\n",
      "======\n",
      "Checking Hierarchy for BPID:  3000162104 \n",
      "======\n",
      "..data saved in /Volumes/Albano/2020-08-06-holding-analysis-extraction/3000162104/\n",
      "Related BPIDs found:  4 = ['3000162104', '3000130631', '3000593105', '3003349446']\n"
     ]
    },
    {
     "data": {
      "application/vnd.jupyter.widget-view+json": {
       "model_id": "39401234a1bf460d843b5d66c36dcb21",
       "version_major": 2,
       "version_minor": 0
      },
      "text/plain": [
       "HBox(children=(FloatProgress(value=0.0, max=4.0), HTML(value='')))"
      ]
     },
     "metadata": {},
     "output_type": "display_data"
    },
    {
     "name": "stdout",
     "output_type": "stream",
     "text": [
      "===\n",
      "Extracting KBARTs for 3000162104  -- top level= 3000162104\n",
      "..journals/springer...\n",
      "..journals/nature...\n",
      "===\n",
      "Extracting KBARTs for 3000130631  -- top level= 3000162104\n",
      "..journals/springer...\n",
      "..journals/nature...\n",
      "===\n",
      "Extracting KBARTs for 3000593105  -- top level= 3000162104\n",
      "..journals/springer...\n",
      "..journals/nature...\n",
      "===\n",
      "Extracting KBARTs for 3003349446  -- top level= 3000162104\n",
      "..journals/springer...\n",
      "..journals/nature...\n",
      "\n",
      "======\n",
      "Checking Hierarchy for BPID:  2000342845 \n",
      "======\n",
      "..data saved in /Volumes/Albano/2020-08-06-holding-analysis-extraction/2000342845/\n",
      "Related BPIDs found:  5 = ['2000342845', '3000202650', '3000508393', '3000595123', '3000701760']\n"
     ]
    },
    {
     "data": {
      "application/vnd.jupyter.widget-view+json": {
       "model_id": "7a236b5f6c3746e6aaaa1f742ae43b88",
       "version_major": 2,
       "version_minor": 0
      },
      "text/plain": [
       "HBox(children=(FloatProgress(value=0.0, max=5.0), HTML(value='')))"
      ]
     },
     "metadata": {},
     "output_type": "display_data"
    },
    {
     "name": "stdout",
     "output_type": "stream",
     "text": [
      "===\n",
      "Extracting KBARTs for 2000342845  -- top level= 2000342845\n",
      "..journals/springer...\n",
      "..journals/nature...\n",
      "===\n",
      "Extracting KBARTs for 3000202650  -- top level= 2000342845\n",
      "..journals/springer...\n",
      "..journals/nature...\n",
      "===\n",
      "Extracting KBARTs for 3000508393  -- top level= 2000342845\n",
      "..journals/springer...\n",
      "..journals/nature...\n",
      "===\n",
      "Extracting KBARTs for 3000595123  -- top level= 2000342845\n",
      "..journals/springer...\n",
      "..journals/nature...\n",
      "===\n",
      "Extracting KBARTs for 3000701760  -- top level= 2000342845\n",
      "..journals/springer...\n",
      "..journals/nature...\n",
      "\n",
      "======\n",
      "Checking Hierarchy for BPID:  1000864062 \n",
      "======\n",
      "..data saved in /Volumes/Albano/2020-08-06-holding-analysis-extraction/1000864062/\n",
      "Related BPIDs found:  8 = ['1000864062', '3000130459', '3000251517', '3991330314', '3001139967', '3000179129', '3002011430', '3002114477']\n"
     ]
    },
    {
     "data": {
      "application/vnd.jupyter.widget-view+json": {
       "model_id": "392146c23a3d425d80b4a3afc619424e",
       "version_major": 2,
       "version_minor": 0
      },
      "text/plain": [
       "HBox(children=(FloatProgress(value=0.0, max=8.0), HTML(value='')))"
      ]
     },
     "metadata": {},
     "output_type": "display_data"
    },
    {
     "name": "stdout",
     "output_type": "stream",
     "text": [
      "===\n",
      "Extracting KBARTs for 1000864062  -- top level= 1000864062\n",
      "..journals/springer...\n",
      "..journals/nature...\n",
      "===\n",
      "Extracting KBARTs for 3000130459  -- top level= 1000864062\n",
      "..journals/springer...\n",
      "..journals/nature...\n",
      "===\n",
      "Extracting KBARTs for 3000251517  -- top level= 1000864062\n",
      "..journals/springer...\n",
      "..journals/nature...\n",
      "===\n",
      "Extracting KBARTs for 3991330314  -- top level= 1000864062\n",
      "..journals/springer...\n",
      "..journals/nature...\n",
      "===\n",
      "Extracting KBARTs for 3001139967  -- top level= 1000864062\n",
      "..journals/springer...\n",
      "..journals/nature...\n",
      "===\n",
      "Extracting KBARTs for 3000179129  -- top level= 1000864062\n",
      "..journals/springer...\n",
      "..journals/nature...\n",
      "===\n",
      "Extracting KBARTs for 3002011430  -- top level= 1000864062\n",
      "..journals/springer...\n",
      "..journals/nature...\n",
      "===\n",
      "Extracting KBARTs for 3002114477  -- top level= 1000864062\n",
      "..journals/springer...\n",
      "..journals/nature...\n",
      "\n",
      "======\n",
      "Checking Hierarchy for BPID:  8200730943 \n",
      "======\n",
      "..data saved in /Volumes/Albano/2020-08-06-holding-analysis-extraction/8200730943/\n",
      "Related BPIDs found:  2 = ['8200730943', '8200828607']\n"
     ]
    },
    {
     "data": {
      "application/vnd.jupyter.widget-view+json": {
       "model_id": "92b69aea7d8547b3a6531a4cba67803d",
       "version_major": 2,
       "version_minor": 0
      },
      "text/plain": [
       "HBox(children=(FloatProgress(value=0.0, max=2.0), HTML(value='')))"
      ]
     },
     "metadata": {},
     "output_type": "display_data"
    },
    {
     "name": "stdout",
     "output_type": "stream",
     "text": [
      "===\n",
      "Extracting KBARTs for 8200730943  -- top level= 8200730943\n",
      "..journals/springer...\n",
      "..journals/nature...\n",
      "===\n",
      "Extracting KBARTs for 8200828607  -- top level= 8200730943\n",
      "..journals/springer...\n",
      "..journals/nature...\n",
      "\n",
      "======\n",
      "Checking Hierarchy for BPID:  3000187712 \n",
      "======\n",
      "..data saved in /Volumes/Albano/2020-08-06-holding-analysis-extraction/3000187712/\n",
      "Related BPIDs found:  7 = ['3000187712', '3000130459', '3000251517', '3991330314', '3001139967', '3002011430', '3002114477']\n"
     ]
    },
    {
     "data": {
      "application/vnd.jupyter.widget-view+json": {
       "model_id": "0695f2386aed42b9bb9c593f9e52d96b",
       "version_major": 2,
       "version_minor": 0
      },
      "text/plain": [
       "HBox(children=(FloatProgress(value=0.0, max=7.0), HTML(value='')))"
      ]
     },
     "metadata": {},
     "output_type": "display_data"
    },
    {
     "name": "stdout",
     "output_type": "stream",
     "text": [
      "===\n",
      "Extracting KBARTs for 3000187712  -- top level= 3000187712\n",
      "..journals/springer...\n",
      "..journals/nature...\n",
      "===\n",
      "Extracting KBARTs for 3000130459  -- top level= 3000187712\n",
      "..journals/springer...\n",
      "..journals/nature...\n",
      "===\n",
      "Extracting KBARTs for 3000251517  -- top level= 3000187712\n",
      "..journals/springer...\n",
      "..journals/nature...\n",
      "===\n",
      "Extracting KBARTs for 3991330314  -- top level= 3000187712\n",
      "..journals/springer...\n",
      "..journals/nature...\n",
      "===\n",
      "Extracting KBARTs for 3001139967  -- top level= 3000187712\n",
      "..journals/springer...\n",
      "..journals/nature...\n",
      "===\n",
      "Extracting KBARTs for 3002011430  -- top level= 3000187712\n",
      "..journals/springer...\n",
      "..journals/nature...\n",
      "===\n",
      "Extracting KBARTs for 3002114477  -- top level= 3000187712\n",
      "..journals/springer...\n",
      "..journals/nature...\n",
      "\n",
      "======\n",
      "Checking Hierarchy for BPID:  3000133957 \n",
      "======\n",
      "..data saved in /Volumes/Albano/2020-08-06-holding-analysis-extraction/3000133957/\n",
      "Related BPIDs found:  5 = ['3000133957', '3000520733', '3000155420', '3003532199', '3004220731']\n"
     ]
    },
    {
     "data": {
      "application/vnd.jupyter.widget-view+json": {
       "model_id": "07aa77b72c7047f7bff67e60d98ee88f",
       "version_major": 2,
       "version_minor": 0
      },
      "text/plain": [
       "HBox(children=(FloatProgress(value=0.0, max=5.0), HTML(value='')))"
      ]
     },
     "metadata": {},
     "output_type": "display_data"
    },
    {
     "name": "stdout",
     "output_type": "stream",
     "text": [
      "===\n",
      "Extracting KBARTs for 3000133957  -- top level= 3000133957\n",
      "..journals/springer...\n",
      "..journals/nature...\n",
      "===\n",
      "Extracting KBARTs for 3000520733  -- top level= 3000133957\n",
      "..journals/springer...\n",
      "..journals/nature...\n",
      "===\n",
      "Extracting KBARTs for 3000155420  -- top level= 3000133957\n",
      "..journals/springer...\n",
      "..journals/nature...\n",
      "===\n",
      "Extracting KBARTs for 3003532199  -- top level= 3000133957\n",
      "..journals/springer...\n",
      "..journals/nature...\n",
      "===\n",
      "Extracting KBARTs for 3004220731  -- top level= 3000133957\n",
      "..journals/springer...\n",
      "..journals/nature...\n",
      "\n",
      "======\n",
      "Checking Hierarchy for BPID:  2000126278 \n",
      "======\n",
      "..data saved in /Volumes/Albano/2020-08-06-holding-analysis-extraction/2000126278/\n",
      "Related BPIDs found:  3 = ['2000126278', '3000155420', '3004220731']\n"
     ]
    },
    {
     "data": {
      "application/vnd.jupyter.widget-view+json": {
       "model_id": "767e5efb9eb64df0a128d0868fc1d543",
       "version_major": 2,
       "version_minor": 0
      },
      "text/plain": [
       "HBox(children=(FloatProgress(value=0.0, max=3.0), HTML(value='')))"
      ]
     },
     "metadata": {},
     "output_type": "display_data"
    },
    {
     "name": "stdout",
     "output_type": "stream",
     "text": [
      "===\n",
      "Extracting KBARTs for 2000126278  -- top level= 2000126278\n",
      "..journals/springer...\n",
      "..journals/nature...\n",
      "===\n",
      "Extracting KBARTs for 3000155420  -- top level= 2000126278\n",
      "..journals/springer...\n",
      "..journals/nature...\n",
      "===\n",
      "Extracting KBARTs for 3004220731  -- top level= 2000126278\n",
      "..journals/springer...\n",
      "..journals/nature...\n",
      "\n",
      "======\n",
      "Checking Hierarchy for BPID:  8200769361 \n",
      "======\n",
      "++++ ERROR ++++\n",
      "Errors index = [3003695120, 30036927080, 3003343017, 2000341714, 8200769361]\n"
     ]
    },
    {
     "data": {
      "application/vnd.jupyter.widget-view+json": {
       "model_id": "54cde6f8de434518a1504cc0a299a202",
       "version_major": 2,
       "version_minor": 0
      },
      "text/plain": [
       "HBox(children=(FloatProgress(value=0.0, max=3.0), HTML(value='')))"
      ]
     },
     "metadata": {},
     "output_type": "display_data"
    },
    {
     "name": "stdout",
     "output_type": "stream",
     "text": [
      "===\n",
      "Extracting KBARTs for 2000126278  -- top level= 8200769361\n",
      "..journals/springer...\n",
      "..journals/nature...\n",
      "===\n",
      "Extracting KBARTs for 3000155420  -- top level= 8200769361\n",
      "..journals/springer...\n",
      "..journals/nature...\n",
      "===\n",
      "Extracting KBARTs for 3004220731  -- top level= 8200769361\n",
      "..journals/springer...\n",
      "..journals/nature...\n",
      "\n",
      "======\n",
      "Checking Hierarchy for BPID:  8200831826 \n",
      "======\n",
      "..data saved in /Volumes/Albano/2020-08-06-holding-analysis-extraction/8200831826/\n",
      "Related BPIDs found:  2 = ['8200831826', '8200828607']\n"
     ]
    },
    {
     "data": {
      "application/vnd.jupyter.widget-view+json": {
       "model_id": "1d277dc3dddc4906bb4e1d6c167c13c8",
       "version_major": 2,
       "version_minor": 0
      },
      "text/plain": [
       "HBox(children=(FloatProgress(value=0.0, max=2.0), HTML(value='')))"
      ]
     },
     "metadata": {},
     "output_type": "display_data"
    },
    {
     "name": "stdout",
     "output_type": "stream",
     "text": [
      "===\n",
      "Extracting KBARTs for 8200831826  -- top level= 8200831826\n",
      "..journals/springer...\n",
      "..journals/nature...\n",
      "===\n",
      "Extracting KBARTs for 8200828607  -- top level= 8200831826\n",
      "..journals/springer...\n",
      "..journals/nature...\n",
      "\n",
      "======\n",
      "Checking Hierarchy for BPID:  3000132435 \n",
      "======\n",
      "..data saved in /Volumes/Albano/2020-08-06-holding-analysis-extraction/3000132435/\n",
      "Related BPIDs found:  4 = ['3000132435', '3000180695', '3000174968', '3994475188']\n"
     ]
    },
    {
     "data": {
      "application/vnd.jupyter.widget-view+json": {
       "model_id": "5a6e52ebd2d146838d39cae5cb4db040",
       "version_major": 2,
       "version_minor": 0
      },
      "text/plain": [
       "HBox(children=(FloatProgress(value=0.0, max=4.0), HTML(value='')))"
      ]
     },
     "metadata": {},
     "output_type": "display_data"
    },
    {
     "name": "stdout",
     "output_type": "stream",
     "text": [
      "===\n",
      "Extracting KBARTs for 3000132435  -- top level= 3000132435\n",
      "..journals/springer...\n",
      "..journals/nature...\n",
      "===\n",
      "Extracting KBARTs for 3000180695  -- top level= 3000132435\n",
      "..journals/springer...\n",
      "..journals/nature...\n",
      "===\n",
      "Extracting KBARTs for 3000174968  -- top level= 3000132435\n",
      "..journals/springer...\n",
      "..journals/nature...\n",
      "===\n",
      "Extracting KBARTs for 3994475188  -- top level= 3000132435\n",
      "..journals/springer...\n",
      "..journals/nature...\n",
      "\n",
      "======\n",
      "Checking Hierarchy for BPID:  8200707409 \n",
      "======\n",
      "..data saved in /Volumes/Albano/2020-08-06-holding-analysis-extraction/8200707409/\n",
      "Related BPIDs found:  2 = ['8200707409', '8200828607']\n"
     ]
    },
    {
     "data": {
      "application/vnd.jupyter.widget-view+json": {
       "model_id": "7a075eb8b08c463e9850857d753cadea",
       "version_major": 2,
       "version_minor": 0
      },
      "text/plain": [
       "HBox(children=(FloatProgress(value=0.0, max=2.0), HTML(value='')))"
      ]
     },
     "metadata": {},
     "output_type": "display_data"
    },
    {
     "name": "stdout",
     "output_type": "stream",
     "text": [
      "===\n",
      "Extracting KBARTs for 8200707409  -- top level= 8200707409\n",
      "..journals/springer...\n",
      "..journals/nature...\n",
      "===\n",
      "Extracting KBARTs for 8200828607  -- top level= 8200707409\n",
      "..journals/springer...\n",
      "..journals/nature...\n",
      "\n",
      "======\n",
      "Checking Hierarchy for BPID:  3000191317 \n",
      "======\n",
      "..data saved in /Volumes/Albano/2020-08-06-holding-analysis-extraction/3000191317/\n",
      "Related BPIDs found:  2 = ['3000191317', '3991433361']\n"
     ]
    },
    {
     "data": {
      "application/vnd.jupyter.widget-view+json": {
       "model_id": "6c3eb909c64d44e9b8e52d8bfcc0056e",
       "version_major": 2,
       "version_minor": 0
      },
      "text/plain": [
       "HBox(children=(FloatProgress(value=0.0, max=2.0), HTML(value='')))"
      ]
     },
     "metadata": {},
     "output_type": "display_data"
    },
    {
     "name": "stdout",
     "output_type": "stream",
     "text": [
      "===\n",
      "Extracting KBARTs for 3000191317  -- top level= 3000191317\n",
      "..journals/springer...\n",
      "..journals/nature...\n",
      "===\n",
      "Extracting KBARTs for 3991433361  -- top level= 3000191317\n",
      "..journals/springer...\n",
      "..journals/nature...\n",
      "\n",
      "======\n",
      "Checking Hierarchy for BPID:  2000324950 \n",
      "======\n",
      "..data saved in /Volumes/Albano/2020-08-06-holding-analysis-extraction/2000324950/\n",
      "Related BPIDs found:  7 = ['2000324950', '3000130459', '3000179129', '3000251517', '3001139967', '3002011430', '3002114477']\n"
     ]
    },
    {
     "data": {
      "application/vnd.jupyter.widget-view+json": {
       "model_id": "3ad8e7a21e3d44d495cb2d40d8b80b96",
       "version_major": 2,
       "version_minor": 0
      },
      "text/plain": [
       "HBox(children=(FloatProgress(value=0.0, max=7.0), HTML(value='')))"
      ]
     },
     "metadata": {},
     "output_type": "display_data"
    },
    {
     "name": "stdout",
     "output_type": "stream",
     "text": [
      "===\n",
      "Extracting KBARTs for 2000324950  -- top level= 2000324950\n",
      "..journals/springer...\n",
      "..journals/nature...\n",
      "===\n",
      "Extracting KBARTs for 3000130459  -- top level= 2000324950\n",
      "..journals/springer...\n",
      "..journals/nature...\n",
      "===\n",
      "Extracting KBARTs for 3000179129  -- top level= 2000324950\n",
      "..journals/springer...\n",
      "..journals/nature...\n",
      "===\n",
      "Extracting KBARTs for 3000251517  -- top level= 2000324950\n",
      "..journals/springer...\n",
      "..journals/nature...\n",
      "===\n",
      "Extracting KBARTs for 3001139967  -- top level= 2000324950\n",
      "..journals/springer...\n",
      "..journals/nature...\n",
      "===\n",
      "Extracting KBARTs for 3002011430  -- top level= 2000324950\n",
      "..journals/springer...\n",
      "..journals/nature...\n",
      "===\n",
      "Extracting KBARTs for 3002114477  -- top level= 2000324950\n",
      "..journals/springer...\n",
      "..journals/nature...\n",
      "\n",
      "======\n",
      "Checking Hierarchy for BPID:  8200922455 \n",
      "======\n",
      "..data saved in /Volumes/Albano/2020-08-06-holding-analysis-extraction/8200922455/\n",
      "Related BPIDs found:  2 = ['8200922455', '8200828607']\n"
     ]
    },
    {
     "data": {
      "application/vnd.jupyter.widget-view+json": {
       "model_id": "f1f9a1ba694c43c1a6f255eaecd74b22",
       "version_major": 2,
       "version_minor": 0
      },
      "text/plain": [
       "HBox(children=(FloatProgress(value=0.0, max=2.0), HTML(value='')))"
      ]
     },
     "metadata": {},
     "output_type": "display_data"
    },
    {
     "name": "stdout",
     "output_type": "stream",
     "text": [
      "===\n",
      "Extracting KBARTs for 8200922455  -- top level= 8200922455\n",
      "..journals/springer...\n",
      "..journals/nature...\n",
      "===\n",
      "Extracting KBARTs for 8200828607  -- top level= 8200922455\n",
      "..journals/springer...\n",
      "..journals/nature...\n",
      "\n",
      "======\n",
      "Checking Hierarchy for BPID:  3003635546 \n",
      "======\n",
      "..data saved in /Volumes/Albano/2020-08-06-holding-analysis-extraction/3003635546/\n",
      "Related BPIDs found:  1 = ['3003635546']\n"
     ]
    },
    {
     "data": {
      "application/vnd.jupyter.widget-view+json": {
       "model_id": "8fcbb84581b44ce5b12b6b412f62ce7c",
       "version_major": 2,
       "version_minor": 0
      },
      "text/plain": [
       "HBox(children=(FloatProgress(value=0.0, max=1.0), HTML(value='')))"
      ]
     },
     "metadata": {},
     "output_type": "display_data"
    },
    {
     "name": "stdout",
     "output_type": "stream",
     "text": [
      "===\n",
      "Extracting KBARTs for 3003635546  -- top level= 3003635546\n",
      "..journals/springer...\n",
      "..journals/nature...\n",
      "\n",
      "======\n",
      "Checking Hierarchy for BPID:  8200178020 \n",
      "======\n",
      "..data saved in /Volumes/Albano/2020-08-06-holding-analysis-extraction/8200178020/\n",
      "Related BPIDs found:  3 = ['8200178020', '3000122896', '3000171036']\n"
     ]
    },
    {
     "data": {
      "application/vnd.jupyter.widget-view+json": {
       "model_id": "ed9babe8b5e648828cd0024a7fb02c21",
       "version_major": 2,
       "version_minor": 0
      },
      "text/plain": [
       "HBox(children=(FloatProgress(value=0.0, max=3.0), HTML(value='')))"
      ]
     },
     "metadata": {},
     "output_type": "display_data"
    },
    {
     "name": "stdout",
     "output_type": "stream",
     "text": [
      "===\n",
      "Extracting KBARTs for 8200178020  -- top level= 8200178020\n",
      "..journals/springer...\n",
      "..journals/nature...\n",
      "===\n",
      "Extracting KBARTs for 3000122896  -- top level= 8200178020\n",
      "..journals/springer...\n",
      "..journals/nature...\n",
      "===\n",
      "Extracting KBARTs for 3000171036  -- top level= 8200178020\n",
      "..journals/springer...\n",
      "..journals/nature...\n",
      "\n",
      "======\n",
      "Checking Hierarchy for BPID:  2000585575 \n",
      "======\n",
      "..data saved in /Volumes/Albano/2020-08-06-holding-analysis-extraction/2000585575/\n",
      "Related BPIDs found:  2 = ['2000585575', '3000183200']\n"
     ]
    },
    {
     "data": {
      "application/vnd.jupyter.widget-view+json": {
       "model_id": "27bdd6b9168c4ec899a555a43e670427",
       "version_major": 2,
       "version_minor": 0
      },
      "text/plain": [
       "HBox(children=(FloatProgress(value=0.0, max=2.0), HTML(value='')))"
      ]
     },
     "metadata": {},
     "output_type": "display_data"
    },
    {
     "name": "stdout",
     "output_type": "stream",
     "text": [
      "===\n",
      "Extracting KBARTs for 2000585575  -- top level= 2000585575\n",
      "..journals/springer...\n",
      "..journals/nature...\n",
      "===\n",
      "Extracting KBARTs for 3000183200  -- top level= 2000585575\n",
      "..journals/springer...\n",
      "..journals/nature...\n",
      "\n",
      "======\n",
      "Checking Hierarchy for BPID:  2000078190 \n",
      "======\n",
      "..data saved in /Volumes/Albano/2020-08-06-holding-analysis-extraction/2000078190/\n",
      "Related BPIDs found:  3 = ['2000078190', '3001139967', '3991330314']\n"
     ]
    },
    {
     "data": {
      "application/vnd.jupyter.widget-view+json": {
       "model_id": "88d05193cb6e44fcb768ecd66ec41ae6",
       "version_major": 2,
       "version_minor": 0
      },
      "text/plain": [
       "HBox(children=(FloatProgress(value=0.0, max=3.0), HTML(value='')))"
      ]
     },
     "metadata": {},
     "output_type": "display_data"
    },
    {
     "name": "stdout",
     "output_type": "stream",
     "text": [
      "===\n",
      "Extracting KBARTs for 2000078190  -- top level= 2000078190\n",
      "..journals/springer...\n",
      "..journals/nature...\n",
      "===\n",
      "Extracting KBARTs for 3001139967  -- top level= 2000078190\n",
      "..journals/springer...\n",
      "..journals/nature...\n",
      "===\n",
      "Extracting KBARTs for 3991330314  -- top level= 2000078190\n",
      "..journals/springer...\n",
      "..journals/nature...\n",
      "\n",
      "======\n",
      "Checking Hierarchy for BPID:  3001054575 \n",
      "======\n",
      "..data saved in /Volumes/Albano/2020-08-06-holding-analysis-extraction/3001054575/\n",
      "Related BPIDs found:  1 = ['3001054575']\n"
     ]
    },
    {
     "data": {
      "application/vnd.jupyter.widget-view+json": {
       "model_id": "7748df7081cf426bb904dce4b2f06466",
       "version_major": 2,
       "version_minor": 0
      },
      "text/plain": [
       "HBox(children=(FloatProgress(value=0.0, max=1.0), HTML(value='')))"
      ]
     },
     "metadata": {},
     "output_type": "display_data"
    },
    {
     "name": "stdout",
     "output_type": "stream",
     "text": [
      "===\n",
      "Extracting KBARTs for 3001054575  -- top level= 3001054575\n",
      "..journals/springer...\n",
      "..journals/nature...\n",
      "\n",
      "======\n",
      "Checking Hierarchy for BPID:  3000263536 \n",
      "======\n",
      "..data saved in /Volumes/Albano/2020-08-06-holding-analysis-extraction/3000263536/\n",
      "Related BPIDs found:  31 = ['3000263536', '3000263537', '3991460049', '3991460050', '3000263519', '3000263538', '3000263547', '3000263562', '3000263564', '3000762511', '3001070335', '3001070367', '3001070371', '3001070379', '3991463089', '8200899681', '3002252090', '3002252092', '3002252093', '3002323856', '3002974673', '3002974675', '3002974712', '3002974679', '3002974713', '3000640955', '3991363236', '3001369731', '3901387337', '3901387339', '8200979608']\n"
     ]
    },
    {
     "data": {
      "application/vnd.jupyter.widget-view+json": {
       "model_id": "fb7dce03fc9742c9a22492ffbd14c749",
       "version_major": 2,
       "version_minor": 0
      },
      "text/plain": [
       "HBox(children=(FloatProgress(value=0.0, max=31.0), HTML(value='')))"
      ]
     },
     "metadata": {},
     "output_type": "display_data"
    },
    {
     "name": "stdout",
     "output_type": "stream",
     "text": [
      "===\n",
      "Extracting KBARTs for 3000263536  -- top level= 3000263536\n",
      "..journals/springer...\n",
      "..journals/nature...\n",
      "===\n",
      "Extracting KBARTs for 3000263537  -- top level= 3000263536\n",
      "..journals/springer...\n",
      "..journals/nature...\n",
      "===\n",
      "Extracting KBARTs for 3991460049  -- top level= 3000263536\n",
      "..journals/springer...\n",
      "..journals/nature...\n",
      "===\n",
      "Extracting KBARTs for 3991460050  -- top level= 3000263536\n",
      "..journals/springer...\n",
      "..journals/nature...\n",
      "===\n",
      "Extracting KBARTs for 3000263519  -- top level= 3000263536\n",
      "..journals/springer...\n",
      "..journals/nature...\n",
      "===\n",
      "Extracting KBARTs for 3000263538  -- top level= 3000263536\n",
      "..journals/springer...\n",
      "..journals/nature...\n",
      "===\n",
      "Extracting KBARTs for 3000263547  -- top level= 3000263536\n",
      "..journals/springer...\n",
      "..journals/nature...\n",
      "===\n",
      "Extracting KBARTs for 3000263562  -- top level= 3000263536\n",
      "..journals/springer...\n",
      "..journals/nature...\n",
      "===\n",
      "Extracting KBARTs for 3000263564  -- top level= 3000263536\n",
      "..journals/springer...\n",
      "..journals/nature...\n",
      "===\n",
      "Extracting KBARTs for 3000762511  -- top level= 3000263536\n",
      "..journals/springer...\n",
      "..journals/nature...\n",
      "===\n",
      "Extracting KBARTs for 3001070335  -- top level= 3000263536\n",
      "..journals/springer...\n",
      "..journals/nature...\n",
      "===\n",
      "Extracting KBARTs for 3001070367  -- top level= 3000263536\n",
      "..journals/springer...\n",
      "..journals/nature...\n",
      "===\n",
      "Extracting KBARTs for 3001070371  -- top level= 3000263536\n",
      "..journals/springer...\n",
      "..journals/nature...\n",
      "===\n",
      "Extracting KBARTs for 3001070379  -- top level= 3000263536\n",
      "..journals/springer...\n",
      "..journals/nature...\n",
      "===\n",
      "Extracting KBARTs for 3991463089  -- top level= 3000263536\n",
      "..journals/springer...\n",
      "..journals/nature...\n",
      "===\n",
      "Extracting KBARTs for 8200899681  -- top level= 3000263536\n",
      "..journals/springer...\n",
      "..journals/nature...\n",
      "===\n",
      "Extracting KBARTs for 3002252090  -- top level= 3000263536\n",
      "..journals/springer...\n",
      "..journals/nature...\n",
      "===\n",
      "Extracting KBARTs for 3002252092  -- top level= 3000263536\n",
      "..journals/springer...\n",
      "..journals/nature...\n",
      "===\n",
      "Extracting KBARTs for 3002252093  -- top level= 3000263536\n",
      "..journals/springer...\n",
      "..journals/nature...\n",
      "===\n",
      "Extracting KBARTs for 3002323856  -- top level= 3000263536\n",
      "..journals/springer...\n",
      "..journals/nature...\n",
      "===\n",
      "Extracting KBARTs for 3002974673  -- top level= 3000263536\n",
      "..journals/springer...\n",
      "..journals/nature...\n",
      "===\n",
      "Extracting KBARTs for 3002974675  -- top level= 3000263536\n",
      "..journals/springer...\n",
      "..journals/nature...\n",
      "===\n",
      "Extracting KBARTs for 3002974712  -- top level= 3000263536\n",
      "..journals/springer...\n",
      "..journals/nature...\n",
      "===\n",
      "Extracting KBARTs for 3002974679  -- top level= 3000263536\n",
      "..journals/springer...\n",
      "..journals/nature...\n",
      "===\n",
      "Extracting KBARTs for 3002974713  -- top level= 3000263536\n",
      "..journals/springer...\n",
      "..journals/nature...\n",
      "===\n",
      "Extracting KBARTs for 3000640955  -- top level= 3000263536\n",
      "..journals/springer...\n",
      "..journals/nature...\n",
      "===\n",
      "Extracting KBARTs for 3991363236  -- top level= 3000263536\n",
      "..journals/springer...\n",
      "..journals/nature...\n",
      "===\n",
      "Extracting KBARTs for 3001369731  -- top level= 3000263536\n",
      "..journals/springer...\n",
      "..journals/nature...\n",
      "===\n",
      "Extracting KBARTs for 3901387337  -- top level= 3000263536\n",
      "..journals/springer...\n",
      "..journals/nature...\n",
      "===\n",
      "Extracting KBARTs for 3901387339  -- top level= 3000263536\n",
      "..journals/springer...\n",
      "..journals/nature...\n",
      "===\n",
      "Extracting KBARTs for 8200979608  -- top level= 3000263536\n",
      "..journals/springer...\n",
      "..journals/nature...\n",
      "\n",
      "======\n",
      "Checking Hierarchy for BPID:  8200844657 \n",
      "======\n",
      "..data saved in /Volumes/Albano/2020-08-06-holding-analysis-extraction/8200844657/\n",
      "Related BPIDs found:  1 = ['8200844657']\n"
     ]
    },
    {
     "data": {
      "application/vnd.jupyter.widget-view+json": {
       "model_id": "8c2b58a9651842fbb65d02316616bb2e",
       "version_major": 2,
       "version_minor": 0
      },
      "text/plain": [
       "HBox(children=(FloatProgress(value=0.0, max=1.0), HTML(value='')))"
      ]
     },
     "metadata": {},
     "output_type": "display_data"
    },
    {
     "name": "stdout",
     "output_type": "stream",
     "text": [
      "===\n",
      "Extracting KBARTs for 8200844657  -- top level= 8200844657\n",
      "..journals/springer...\n",
      "..journals/nature...\n",
      "\n",
      "======\n",
      "Checking Hierarchy for BPID:  3000788339 \n",
      "======\n",
      "..data saved in /Volumes/Albano/2020-08-06-holding-analysis-extraction/3000788339/\n",
      "Related BPIDs found:  1 = ['3000788339']\n"
     ]
    },
    {
     "data": {
      "application/vnd.jupyter.widget-view+json": {
       "model_id": "b4a7716681ec4c99be1d200f8b527402",
       "version_major": 2,
       "version_minor": 0
      },
      "text/plain": [
       "HBox(children=(FloatProgress(value=0.0, max=1.0), HTML(value='')))"
      ]
     },
     "metadata": {},
     "output_type": "display_data"
    },
    {
     "name": "stdout",
     "output_type": "stream",
     "text": [
      "===\n",
      "Extracting KBARTs for 3000788339  -- top level= 3000788339\n",
      "..journals/springer...\n",
      "..journals/nature...\n",
      "\n",
      "======\n",
      "Checking Hierarchy for BPID:  2000142196 \n",
      "======\n",
      "..data saved in /Volumes/Albano/2020-08-06-holding-analysis-extraction/2000142196/\n",
      "Related BPIDs found:  5 = ['2000142196', '3000178263', '3000179127', '3000179124', '3004017903']\n"
     ]
    },
    {
     "data": {
      "application/vnd.jupyter.widget-view+json": {
       "model_id": "07ab4a46302740068185c5ea5f83d320",
       "version_major": 2,
       "version_minor": 0
      },
      "text/plain": [
       "HBox(children=(FloatProgress(value=0.0, max=5.0), HTML(value='')))"
      ]
     },
     "metadata": {},
     "output_type": "display_data"
    },
    {
     "name": "stdout",
     "output_type": "stream",
     "text": [
      "===\n",
      "Extracting KBARTs for 2000142196  -- top level= 2000142196\n",
      "..journals/springer...\n",
      "..journals/nature...\n",
      "===\n",
      "Extracting KBARTs for 3000178263  -- top level= 2000142196\n",
      "..journals/springer...\n",
      "..journals/nature...\n",
      "===\n",
      "Extracting KBARTs for 3000179127  -- top level= 2000142196\n",
      "..journals/springer...\n",
      "..journals/nature...\n",
      "===\n",
      "Extracting KBARTs for 3000179124  -- top level= 2000142196\n",
      "..journals/springer...\n",
      "..journals/nature...\n",
      "===\n",
      "Extracting KBARTs for 3004017903  -- top level= 2000142196\n",
      "..journals/springer...\n",
      "..journals/nature...\n",
      "\n",
      "======\n",
      "Checking Hierarchy for BPID:  8200898933 \n",
      "======\n",
      "..data saved in /Volumes/Albano/2020-08-06-holding-analysis-extraction/8200898933/\n",
      "Related BPIDs found:  1 = ['8200898933']\n"
     ]
    },
    {
     "data": {
      "application/vnd.jupyter.widget-view+json": {
       "model_id": "112283b2fd7347e7b13a71aed0f4a2b7",
       "version_major": 2,
       "version_minor": 0
      },
      "text/plain": [
       "HBox(children=(FloatProgress(value=0.0, max=1.0), HTML(value='')))"
      ]
     },
     "metadata": {},
     "output_type": "display_data"
    },
    {
     "name": "stdout",
     "output_type": "stream",
     "text": [
      "===\n",
      "Extracting KBARTs for 8200898933  -- top level= 8200898933\n",
      "..journals/springer...\n",
      "..journals/nature...\n",
      "\n",
      "======\n",
      "Checking Hierarchy for BPID:  1000680836 \n",
      "======\n",
      "..data saved in /Volumes/Albano/2020-08-06-holding-analysis-extraction/1000680836/\n",
      "Related BPIDs found:  4 = ['1000680836', '3000529219', '3000096123', '3991436001']\n"
     ]
    },
    {
     "data": {
      "application/vnd.jupyter.widget-view+json": {
       "model_id": "47d8039391f4470eabf385203be7cbd7",
       "version_major": 2,
       "version_minor": 0
      },
      "text/plain": [
       "HBox(children=(FloatProgress(value=0.0, max=4.0), HTML(value='')))"
      ]
     },
     "metadata": {},
     "output_type": "display_data"
    },
    {
     "name": "stdout",
     "output_type": "stream",
     "text": [
      "===\n",
      "Extracting KBARTs for 1000680836  -- top level= 1000680836\n",
      "..journals/springer...\n",
      "..journals/nature...\n",
      "===\n",
      "Extracting KBARTs for 3000529219  -- top level= 1000680836\n",
      "..journals/springer...\n",
      "..journals/nature...\n",
      "===\n",
      "Extracting KBARTs for 3000096123  -- top level= 1000680836\n",
      "..journals/springer...\n",
      "..journals/nature...\n",
      "===\n",
      "Extracting KBARTs for 3991436001  -- top level= 1000680836\n",
      "..journals/springer...\n",
      "..journals/nature...\n",
      "\n",
      "======\n",
      "Checking Hierarchy for BPID:  3003718535 \n",
      "======\n",
      "..data saved in /Volumes/Albano/2020-08-06-holding-analysis-extraction/3003718535/\n",
      "Related BPIDs found:  1 = ['3003718535']\n"
     ]
    },
    {
     "data": {
      "application/vnd.jupyter.widget-view+json": {
       "model_id": "f4fa61f86b574ddeb79d5b38edabb65d",
       "version_major": 2,
       "version_minor": 0
      },
      "text/plain": [
       "HBox(children=(FloatProgress(value=0.0, max=1.0), HTML(value='')))"
      ]
     },
     "metadata": {},
     "output_type": "display_data"
    },
    {
     "name": "stdout",
     "output_type": "stream",
     "text": [
      "===\n",
      "Extracting KBARTs for 3003718535  -- top level= 3003718535\n",
      "..journals/springer...\n",
      "..journals/nature...\n",
      "\n",
      "======\n",
      "Checking Hierarchy for BPID:  8200177545 \n",
      "======\n",
      "..data saved in /Volumes/Albano/2020-08-06-holding-analysis-extraction/8200177545/\n",
      "Related BPIDs found:  2 = ['8200177545', '8200828607']\n"
     ]
    },
    {
     "data": {
      "application/vnd.jupyter.widget-view+json": {
       "model_id": "3c323bbeaba44af8a41a82cce38c494b",
       "version_major": 2,
       "version_minor": 0
      },
      "text/plain": [
       "HBox(children=(FloatProgress(value=0.0, max=2.0), HTML(value='')))"
      ]
     },
     "metadata": {},
     "output_type": "display_data"
    },
    {
     "name": "stdout",
     "output_type": "stream",
     "text": [
      "===\n",
      "Extracting KBARTs for 8200177545  -- top level= 8200177545\n",
      "..journals/springer...\n",
      "..journals/nature...\n",
      "===\n",
      "Extracting KBARTs for 8200828607  -- top level= 8200177545\n",
      "..journals/springer...\n",
      "..journals/nature...\n",
      "\n",
      "======\n",
      "Checking Hierarchy for BPID:  8200711562 \n",
      "======\n",
      "..data saved in /Volumes/Albano/2020-08-06-holding-analysis-extraction/8200711562/\n",
      "Related BPIDs found:  1 = ['8200711562']\n"
     ]
    },
    {
     "data": {
      "application/vnd.jupyter.widget-view+json": {
       "model_id": "935c47914b99413a976198ecf4cdd6e9",
       "version_major": 2,
       "version_minor": 0
      },
      "text/plain": [
       "HBox(children=(FloatProgress(value=0.0, max=1.0), HTML(value='')))"
      ]
     },
     "metadata": {},
     "output_type": "display_data"
    },
    {
     "name": "stdout",
     "output_type": "stream",
     "text": [
      "===\n",
      "Extracting KBARTs for 8200711562  -- top level= 8200711562\n",
      "..journals/springer...\n",
      "..journals/nature...\n",
      "\n",
      "======\n",
      "Checking Hierarchy for BPID:  8200736652 \n",
      "======\n",
      "..data saved in /Volumes/Albano/2020-08-06-holding-analysis-extraction/8200736652/\n",
      "Related BPIDs found:  1 = ['8200736652']\n"
     ]
    },
    {
     "data": {
      "application/vnd.jupyter.widget-view+json": {
       "model_id": "2e14b5bfdb064b5daca6dba693396613",
       "version_major": 2,
       "version_minor": 0
      },
      "text/plain": [
       "HBox(children=(FloatProgress(value=0.0, max=1.0), HTML(value='')))"
      ]
     },
     "metadata": {},
     "output_type": "display_data"
    },
    {
     "name": "stdout",
     "output_type": "stream",
     "text": [
      "===\n",
      "Extracting KBARTs for 8200736652  -- top level= 8200736652\n",
      "..journals/springer...\n",
      "..journals/nature...\n",
      "\n",
      "======\n",
      "Checking Hierarchy for BPID:  8200707989 \n",
      "======\n",
      "..data saved in /Volumes/Albano/2020-08-06-holding-analysis-extraction/8200707989/\n",
      "Related BPIDs found:  2 = ['8200707989', '8200828607']\n"
     ]
    },
    {
     "data": {
      "application/vnd.jupyter.widget-view+json": {
       "model_id": "ac89694ef19a42fba1e974c710a2ef9c",
       "version_major": 2,
       "version_minor": 0
      },
      "text/plain": [
       "HBox(children=(FloatProgress(value=0.0, max=2.0), HTML(value='')))"
      ]
     },
     "metadata": {},
     "output_type": "display_data"
    },
    {
     "name": "stdout",
     "output_type": "stream",
     "text": [
      "===\n",
      "Extracting KBARTs for 8200707989  -- top level= 8200707989\n",
      "..journals/springer...\n",
      "..journals/nature...\n",
      "===\n",
      "Extracting KBARTs for 8200828607  -- top level= 8200707989\n",
      "..journals/springer...\n",
      "..journals/nature...\n",
      "\n",
      "======\n",
      "Checking Hierarchy for BPID:  8200705430 \n",
      "======\n",
      "..data saved in /Volumes/Albano/2020-08-06-holding-analysis-extraction/8200705430/\n",
      "Related BPIDs found:  2 = ['8200705430', '8200828607']\n"
     ]
    },
    {
     "data": {
      "application/vnd.jupyter.widget-view+json": {
       "model_id": "7e7efef5dd2a4ff7920bbad0e79613fc",
       "version_major": 2,
       "version_minor": 0
      },
      "text/plain": [
       "HBox(children=(FloatProgress(value=0.0, max=2.0), HTML(value='')))"
      ]
     },
     "metadata": {},
     "output_type": "display_data"
    },
    {
     "name": "stdout",
     "output_type": "stream",
     "text": [
      "===\n",
      "Extracting KBARTs for 8200705430  -- top level= 8200705430\n",
      "..journals/springer...\n",
      "..journals/nature...\n",
      "===\n",
      "Extracting KBARTs for 8200828607  -- top level= 8200705430\n",
      "..journals/springer...\n",
      "..journals/nature...\n",
      "\n",
      "======\n",
      "Checking Hierarchy for BPID:  2000335256 \n",
      "======\n",
      "..data saved in /Volumes/Albano/2020-08-06-holding-analysis-extraction/2000335256/\n",
      "Related BPIDs found:  7 = ['2000335256', '3000130459', '3000251517', '3991330314', '3001139967', '3002011430', '3002114477']\n"
     ]
    },
    {
     "data": {
      "application/vnd.jupyter.widget-view+json": {
       "model_id": "e30ecf7aef9442b09c1df6ef7abd8c05",
       "version_major": 2,
       "version_minor": 0
      },
      "text/plain": [
       "HBox(children=(FloatProgress(value=0.0, max=7.0), HTML(value='')))"
      ]
     },
     "metadata": {},
     "output_type": "display_data"
    },
    {
     "name": "stdout",
     "output_type": "stream",
     "text": [
      "===\n",
      "Extracting KBARTs for 2000335256  -- top level= 2000335256\n",
      "..journals/springer...\n",
      "..journals/nature...\n",
      "===\n",
      "Extracting KBARTs for 3000130459  -- top level= 2000335256\n",
      "..journals/springer...\n",
      "..journals/nature...\n",
      "===\n",
      "Extracting KBARTs for 3000251517  -- top level= 2000335256\n",
      "..journals/springer...\n",
      "..journals/nature...\n",
      "===\n",
      "Extracting KBARTs for 3991330314  -- top level= 2000335256\n",
      "..journals/springer...\n",
      "..journals/nature...\n",
      "===\n",
      "Extracting KBARTs for 3001139967  -- top level= 2000335256\n",
      "..journals/springer...\n",
      "..journals/nature...\n",
      "===\n",
      "Extracting KBARTs for 3002011430  -- top level= 2000335256\n",
      "..journals/springer...\n",
      "..journals/nature...\n",
      "===\n",
      "Extracting KBARTs for 3002114477  -- top level= 2000335256\n",
      "..journals/springer...\n",
      "..journals/nature...\n",
      "\n",
      "======\n",
      "Checking Hierarchy for BPID:  8200831900 \n",
      "======\n",
      "..data saved in /Volumes/Albano/2020-08-06-holding-analysis-extraction/8200831900/\n",
      "Related BPIDs found:  2 = ['8200831900', '8200828607']\n"
     ]
    },
    {
     "data": {
      "application/vnd.jupyter.widget-view+json": {
       "model_id": "67109156728642908ec3793b57a36014",
       "version_major": 2,
       "version_minor": 0
      },
      "text/plain": [
       "HBox(children=(FloatProgress(value=0.0, max=2.0), HTML(value='')))"
      ]
     },
     "metadata": {},
     "output_type": "display_data"
    },
    {
     "name": "stdout",
     "output_type": "stream",
     "text": [
      "===\n",
      "Extracting KBARTs for 8200831900  -- top level= 8200831900\n",
      "..journals/springer...\n",
      "..journals/nature...\n",
      "===\n",
      "Extracting KBARTs for 8200828607  -- top level= 8200831900\n",
      "..journals/springer...\n",
      "..journals/nature...\n",
      "\n",
      "======\n",
      "Checking Hierarchy for BPID:  8200706463 \n",
      "======\n",
      "..data saved in /Volumes/Albano/2020-08-06-holding-analysis-extraction/8200706463/\n",
      "Related BPIDs found:  2 = ['8200706463', '8200828607']\n"
     ]
    },
    {
     "data": {
      "application/vnd.jupyter.widget-view+json": {
       "model_id": "545ab121f3b243a586573927008e97b9",
       "version_major": 2,
       "version_minor": 0
      },
      "text/plain": [
       "HBox(children=(FloatProgress(value=0.0, max=2.0), HTML(value='')))"
      ]
     },
     "metadata": {},
     "output_type": "display_data"
    },
    {
     "name": "stdout",
     "output_type": "stream",
     "text": [
      "===\n",
      "Extracting KBARTs for 8200706463  -- top level= 8200706463\n",
      "..journals/springer...\n",
      "..journals/nature...\n",
      "===\n",
      "Extracting KBARTs for 8200828607  -- top level= 8200706463\n",
      "..journals/springer...\n",
      "..journals/nature...\n",
      "\n",
      "======\n",
      "Checking Hierarchy for BPID:  3000214444 \n",
      "======\n",
      "..data saved in /Volumes/Albano/2020-08-06-holding-analysis-extraction/3000214444/\n",
      "Related BPIDs found:  3 = ['3000214444', '3000096123', '3991436001']\n"
     ]
    },
    {
     "data": {
      "application/vnd.jupyter.widget-view+json": {
       "model_id": "d8a5948fabd1449bbb045992038ebd74",
       "version_major": 2,
       "version_minor": 0
      },
      "text/plain": [
       "HBox(children=(FloatProgress(value=0.0, max=3.0), HTML(value='')))"
      ]
     },
     "metadata": {},
     "output_type": "display_data"
    },
    {
     "name": "stdout",
     "output_type": "stream",
     "text": [
      "===\n",
      "Extracting KBARTs for 3000214444  -- top level= 3000214444\n",
      "..journals/springer...\n",
      "..journals/nature...\n",
      "===\n",
      "Extracting KBARTs for 3000096123  -- top level= 3000214444\n",
      "..journals/springer...\n",
      "..journals/nature...\n",
      "===\n",
      "Extracting KBARTs for 3991436001  -- top level= 3000214444\n",
      "..journals/springer...\n",
      "..journals/nature...\n",
      "\n",
      "======\n",
      "Checking Hierarchy for BPID:  2000456622 \n",
      "======\n",
      "..data saved in /Volumes/Albano/2020-08-06-holding-analysis-extraction/2000456622/\n",
      "Related BPIDs found:  1 = ['2000456622']\n"
     ]
    },
    {
     "data": {
      "application/vnd.jupyter.widget-view+json": {
       "model_id": "d2d6097aa4074cda9c939e5eca055879",
       "version_major": 2,
       "version_minor": 0
      },
      "text/plain": [
       "HBox(children=(FloatProgress(value=0.0, max=1.0), HTML(value='')))"
      ]
     },
     "metadata": {},
     "output_type": "display_data"
    },
    {
     "name": "stdout",
     "output_type": "stream",
     "text": [
      "===\n",
      "Extracting KBARTs for 2000456622  -- top level= 2000456622\n",
      "..journals/springer...\n",
      "..journals/nature...\n",
      "\n",
      "======\n",
      "Checking Hierarchy for BPID:  8200972206 \n",
      "======\n",
      "..data saved in /Volumes/Albano/2020-08-06-holding-analysis-extraction/8200972206/\n",
      "Related BPIDs found:  2 = ['8200972206', '8200828607']\n"
     ]
    },
    {
     "data": {
      "application/vnd.jupyter.widget-view+json": {
       "model_id": "4b20ec1567be48658b51f8a4d6c5622c",
       "version_major": 2,
       "version_minor": 0
      },
      "text/plain": [
       "HBox(children=(FloatProgress(value=0.0, max=2.0), HTML(value='')))"
      ]
     },
     "metadata": {},
     "output_type": "display_data"
    },
    {
     "name": "stdout",
     "output_type": "stream",
     "text": [
      "===\n",
      "Extracting KBARTs for 8200972206  -- top level= 8200972206\n",
      "..journals/springer...\n",
      "..journals/nature...\n",
      "===\n",
      "Extracting KBARTs for 8200828607  -- top level= 8200972206\n",
      "..journals/springer...\n",
      "..journals/nature...\n",
      "\n",
      "======\n",
      "Checking Hierarchy for BPID:  3000132530 \n",
      "======\n",
      "..data saved in /Volumes/Albano/2020-08-06-holding-analysis-extraction/3000132530/\n",
      "Related BPIDs found:  1 = ['3000132530']\n"
     ]
    },
    {
     "data": {
      "application/vnd.jupyter.widget-view+json": {
       "model_id": "2e3b1d2ec36a4d3d90dea5f4b316f2bf",
       "version_major": 2,
       "version_minor": 0
      },
      "text/plain": [
       "HBox(children=(FloatProgress(value=0.0, max=1.0), HTML(value='')))"
      ]
     },
     "metadata": {},
     "output_type": "display_data"
    },
    {
     "name": "stdout",
     "output_type": "stream",
     "text": [
      "===\n",
      "Extracting KBARTs for 3000132530  -- top level= 3000132530\n",
      "..journals/springer...\n",
      "..journals/nature...\n",
      "\n",
      "======\n",
      "Checking Hierarchy for BPID:  3000147891 \n",
      "======\n",
      "..data saved in /Volumes/Albano/2020-08-06-holding-analysis-extraction/3000147891/\n",
      "Related BPIDs found:  1 = ['3000147891']\n"
     ]
    },
    {
     "data": {
      "application/vnd.jupyter.widget-view+json": {
       "model_id": "4f87ac4de8e54b219fe51b816fe52b78",
       "version_major": 2,
       "version_minor": 0
      },
      "text/plain": [
       "HBox(children=(FloatProgress(value=0.0, max=1.0), HTML(value='')))"
      ]
     },
     "metadata": {},
     "output_type": "display_data"
    },
    {
     "name": "stdout",
     "output_type": "stream",
     "text": [
      "===\n",
      "Extracting KBARTs for 3000147891  -- top level= 3000147891\n",
      "..journals/springer...\n",
      "..journals/nature...\n",
      "\n",
      "======\n",
      "Checking Hierarchy for BPID:  2000025012 \n",
      "======\n",
      "..data saved in /Volumes/Albano/2020-08-06-holding-analysis-extraction/2000025012/\n",
      "Related BPIDs found:  1 = ['2000025012']\n"
     ]
    },
    {
     "data": {
      "application/vnd.jupyter.widget-view+json": {
       "model_id": "d46698adb1514221abbc14fef6be30c6",
       "version_major": 2,
       "version_minor": 0
      },
      "text/plain": [
       "HBox(children=(FloatProgress(value=0.0, max=1.0), HTML(value='')))"
      ]
     },
     "metadata": {},
     "output_type": "display_data"
    },
    {
     "name": "stdout",
     "output_type": "stream",
     "text": [
      "===\n",
      "Extracting KBARTs for 2000025012  -- top level= 2000025012\n",
      "..journals/springer...\n",
      "..journals/nature...\n",
      "\n",
      "======\n",
      "Checking Hierarchy for BPID:  8200408502 \n",
      "======\n",
      "..data saved in /Volumes/Albano/2020-08-06-holding-analysis-extraction/8200408502/\n",
      "Related BPIDs found:  2 = ['8200408502', '3003089239']\n"
     ]
    },
    {
     "data": {
      "application/vnd.jupyter.widget-view+json": {
       "model_id": "f6b618ed41b04494b2e10a36097f731a",
       "version_major": 2,
       "version_minor": 0
      },
      "text/plain": [
       "HBox(children=(FloatProgress(value=0.0, max=2.0), HTML(value='')))"
      ]
     },
     "metadata": {},
     "output_type": "display_data"
    },
    {
     "name": "stdout",
     "output_type": "stream",
     "text": [
      "===\n",
      "Extracting KBARTs for 8200408502  -- top level= 8200408502\n",
      "..journals/springer...\n",
      "..journals/nature...\n",
      "===\n",
      "Extracting KBARTs for 3003089239  -- top level= 8200408502\n",
      "..journals/springer...\n",
      "..journals/nature...\n",
      "\n",
      "======\n",
      "Checking Hierarchy for BPID:  2000274885 \n",
      "======\n",
      "..data saved in /Volumes/Albano/2020-08-06-holding-analysis-extraction/2000274885/\n",
      "Related BPIDs found:  2 = ['2000274885', '3001139967']\n"
     ]
    },
    {
     "data": {
      "application/vnd.jupyter.widget-view+json": {
       "model_id": "9ecad33cf0fe441e806382ae25a3f6f4",
       "version_major": 2,
       "version_minor": 0
      },
      "text/plain": [
       "HBox(children=(FloatProgress(value=0.0, max=2.0), HTML(value='')))"
      ]
     },
     "metadata": {},
     "output_type": "display_data"
    },
    {
     "name": "stdout",
     "output_type": "stream",
     "text": [
      "===\n",
      "Extracting KBARTs for 2000274885  -- top level= 2000274885\n",
      "..journals/springer...\n",
      "..journals/nature...\n",
      "===\n",
      "Extracting KBARTs for 3001139967  -- top level= 2000274885\n",
      "..journals/springer...\n",
      "..journals/nature...\n",
      "\n",
      "======\n",
      "Checking Hierarchy for BPID:  3000135110 \n",
      "======\n",
      "..data saved in /Volumes/Albano/2020-08-06-holding-analysis-extraction/3000135110/\n",
      "Related BPIDs found:  8 = ['3000135110', '3000137278', '3000137282', '3000205744', '3000262825', '3000262839', '3003169293', '3902044458']\n"
     ]
    },
    {
     "data": {
      "application/vnd.jupyter.widget-view+json": {
       "model_id": "fe6c713b91e54b78b76fa212a94d8d5f",
       "version_major": 2,
       "version_minor": 0
      },
      "text/plain": [
       "HBox(children=(FloatProgress(value=0.0, max=8.0), HTML(value='')))"
      ]
     },
     "metadata": {},
     "output_type": "display_data"
    },
    {
     "name": "stdout",
     "output_type": "stream",
     "text": [
      "===\n",
      "Extracting KBARTs for 3000135110  -- top level= 3000135110\n",
      "..journals/springer...\n",
      "..journals/nature...\n",
      "===\n",
      "Extracting KBARTs for 3000137278  -- top level= 3000135110\n",
      "..journals/springer...\n",
      "..journals/nature...\n",
      "===\n",
      "Extracting KBARTs for 3000137282  -- top level= 3000135110\n",
      "..journals/springer...\n",
      "..journals/nature...\n",
      "===\n",
      "Extracting KBARTs for 3000205744  -- top level= 3000135110\n",
      "..journals/springer...\n",
      "..journals/nature...\n",
      "===\n",
      "Extracting KBARTs for 3000262825  -- top level= 3000135110\n",
      "..journals/springer...\n",
      "..journals/nature...\n",
      "===\n",
      "Extracting KBARTs for 3000262839  -- top level= 3000135110\n",
      "..journals/springer...\n",
      "..journals/nature...\n",
      "===\n",
      "Extracting KBARTs for 3003169293  -- top level= 3000135110\n",
      "..journals/springer...\n",
      "..journals/nature...\n",
      "===\n",
      "Extracting KBARTs for 3902044458  -- top level= 3000135110\n",
      "..journals/springer...\n",
      "..journals/nature...\n",
      "\n",
      "======\n",
      "Checking Hierarchy for BPID:  3000267209 \n",
      "======\n",
      "..data saved in /Volumes/Albano/2020-08-06-holding-analysis-extraction/3000267209/\n",
      "Related BPIDs found:  1 = ['3000267209']\n"
     ]
    },
    {
     "data": {
      "application/vnd.jupyter.widget-view+json": {
       "model_id": "0a8a3e3904804f15bed1a2353b77a132",
       "version_major": 2,
       "version_minor": 0
      },
      "text/plain": [
       "HBox(children=(FloatProgress(value=0.0, max=1.0), HTML(value='')))"
      ]
     },
     "metadata": {},
     "output_type": "display_data"
    },
    {
     "name": "stdout",
     "output_type": "stream",
     "text": [
      "===\n",
      "Extracting KBARTs for 3000267209  -- top level= 3000267209\n",
      "..journals/springer...\n",
      "..journals/nature...\n",
      "\n",
      "======\n",
      "Checking Hierarchy for BPID:  8200856009 \n",
      "======\n",
      "..data saved in /Volumes/Albano/2020-08-06-holding-analysis-extraction/8200856009/\n",
      "Related BPIDs found:  2 = ['8200856009', '8200828607']\n"
     ]
    },
    {
     "data": {
      "application/vnd.jupyter.widget-view+json": {
       "model_id": "fa3b48bc3813470aa06f9c2c9fdeccb4",
       "version_major": 2,
       "version_minor": 0
      },
      "text/plain": [
       "HBox(children=(FloatProgress(value=0.0, max=2.0), HTML(value='')))"
      ]
     },
     "metadata": {},
     "output_type": "display_data"
    },
    {
     "name": "stdout",
     "output_type": "stream",
     "text": [
      "===\n",
      "Extracting KBARTs for 8200856009  -- top level= 8200856009\n",
      "..journals/springer...\n",
      "..journals/nature...\n",
      "===\n",
      "Extracting KBARTs for 8200828607  -- top level= 8200856009\n",
      "..journals/springer...\n",
      "..journals/nature...\n",
      "\n",
      "======\n",
      "Checking Hierarchy for BPID:  8200979403 \n",
      "======\n",
      "..data saved in /Volumes/Albano/2020-08-06-holding-analysis-extraction/8200979403/\n",
      "Related BPIDs found:  3 = ['8200979403', '8200828607', '3002901800']\n"
     ]
    },
    {
     "data": {
      "application/vnd.jupyter.widget-view+json": {
       "model_id": "3e350f7889a64a72876bc4cdcc964d2d",
       "version_major": 2,
       "version_minor": 0
      },
      "text/plain": [
       "HBox(children=(FloatProgress(value=0.0, max=3.0), HTML(value='')))"
      ]
     },
     "metadata": {},
     "output_type": "display_data"
    },
    {
     "name": "stdout",
     "output_type": "stream",
     "text": [
      "===\n",
      "Extracting KBARTs for 8200979403  -- top level= 8200979403\n",
      "..journals/springer...\n",
      "..journals/nature...\n",
      "===\n",
      "Extracting KBARTs for 8200828607  -- top level= 8200979403\n",
      "..journals/springer...\n",
      "..journals/nature...\n",
      "===\n",
      "Extracting KBARTs for 3002901800  -- top level= 8200979403\n",
      "..journals/springer...\n",
      "..journals/nature...\n",
      "\n",
      "======\n",
      "Checking Hierarchy for BPID:  3000147920 \n",
      "======\n",
      "..data saved in /Volumes/Albano/2020-08-06-holding-analysis-extraction/3000147920/\n",
      "Related BPIDs found:  2 = ['3000147920', '3000675571']\n"
     ]
    },
    {
     "data": {
      "application/vnd.jupyter.widget-view+json": {
       "model_id": "649d9c903b8f40909d6c52db4b24cd5e",
       "version_major": 2,
       "version_minor": 0
      },
      "text/plain": [
       "HBox(children=(FloatProgress(value=0.0, max=2.0), HTML(value='')))"
      ]
     },
     "metadata": {},
     "output_type": "display_data"
    },
    {
     "name": "stdout",
     "output_type": "stream",
     "text": [
      "===\n",
      "Extracting KBARTs for 3000147920  -- top level= 3000147920\n",
      "..journals/springer...\n",
      "..journals/nature...\n",
      "===\n",
      "Extracting KBARTs for 3000675571  -- top level= 3000147920\n",
      "..journals/springer...\n",
      "..journals/nature...\n",
      "\n",
      "======\n",
      "Checking Hierarchy for BPID:  2000053714 \n",
      "======\n",
      "..data saved in /Volumes/Albano/2020-08-06-holding-analysis-extraction/2000053714/\n",
      "Related BPIDs found:  6 = ['2000053714', '3000137278', '3000137282', '3000205744', '3003169293', '3902044458']\n"
     ]
    },
    {
     "data": {
      "application/vnd.jupyter.widget-view+json": {
       "model_id": "58695c73cd3a40eea9f531002bf3ae8d",
       "version_major": 2,
       "version_minor": 0
      },
      "text/plain": [
       "HBox(children=(FloatProgress(value=0.0, max=6.0), HTML(value='')))"
      ]
     },
     "metadata": {},
     "output_type": "display_data"
    },
    {
     "name": "stdout",
     "output_type": "stream",
     "text": [
      "===\n",
      "Extracting KBARTs for 2000053714  -- top level= 2000053714\n",
      "..journals/springer...\n",
      "..journals/nature...\n",
      "===\n",
      "Extracting KBARTs for 3000137278  -- top level= 2000053714\n",
      "..journals/springer...\n",
      "..journals/nature...\n",
      "===\n",
      "Extracting KBARTs for 3000137282  -- top level= 2000053714\n",
      "..journals/springer...\n",
      "..journals/nature...\n",
      "===\n",
      "Extracting KBARTs for 3000205744  -- top level= 2000053714\n",
      "..journals/springer...\n",
      "..journals/nature...\n",
      "===\n",
      "Extracting KBARTs for 3003169293  -- top level= 2000053714\n",
      "..journals/springer...\n",
      "..journals/nature...\n",
      "===\n",
      "Extracting KBARTs for 3902044458  -- top level= 2000053714\n",
      "..journals/springer...\n",
      "..journals/nature...\n",
      "\n",
      "======\n",
      "Checking Hierarchy for BPID:  8200707539 \n",
      "======\n",
      "..data saved in /Volumes/Albano/2020-08-06-holding-analysis-extraction/8200707539/\n",
      "Related BPIDs found:  2 = ['8200707539', '8200828607']\n"
     ]
    },
    {
     "data": {
      "application/vnd.jupyter.widget-view+json": {
       "model_id": "4eb5a96c4b334b2cabd29660cc78bba3",
       "version_major": 2,
       "version_minor": 0
      },
      "text/plain": [
       "HBox(children=(FloatProgress(value=0.0, max=2.0), HTML(value='')))"
      ]
     },
     "metadata": {},
     "output_type": "display_data"
    },
    {
     "name": "stdout",
     "output_type": "stream",
     "text": [
      "===\n",
      "Extracting KBARTs for 8200707539  -- top level= 8200707539\n",
      "..journals/springer...\n",
      "..journals/nature...\n",
      "===\n",
      "Extracting KBARTs for 8200828607  -- top level= 8200707539\n",
      "..journals/springer...\n",
      "..journals/nature...\n",
      "\n",
      "======\n",
      "Checking Hierarchy for BPID:  2000668629 \n",
      "======\n",
      "..data saved in /Volumes/Albano/2020-08-06-holding-analysis-extraction/2000668629/\n",
      "Related BPIDs found:  2 = ['2000668629', '8200828607']\n"
     ]
    },
    {
     "data": {
      "application/vnd.jupyter.widget-view+json": {
       "model_id": "bc3ffa05797c4e939a85d35ffeb162b9",
       "version_major": 2,
       "version_minor": 0
      },
      "text/plain": [
       "HBox(children=(FloatProgress(value=0.0, max=2.0), HTML(value='')))"
      ]
     },
     "metadata": {},
     "output_type": "display_data"
    },
    {
     "name": "stdout",
     "output_type": "stream",
     "text": [
      "===\n",
      "Extracting KBARTs for 2000668629  -- top level= 2000668629\n",
      "..journals/springer...\n",
      "..journals/nature...\n",
      "===\n",
      "Extracting KBARTs for 8200828607  -- top level= 2000668629\n",
      "..journals/springer...\n",
      "..journals/nature...\n",
      "\n",
      "======\n",
      "Checking Hierarchy for BPID:  3000171993 \n",
      "======\n",
      "..data saved in /Volumes/Albano/2020-08-06-holding-analysis-extraction/3000171993/\n",
      "Related BPIDs found:  5 = ['3000171993', '3000180852', '3000155420', '3003532199', '3004220731']\n"
     ]
    },
    {
     "data": {
      "application/vnd.jupyter.widget-view+json": {
       "model_id": "b39ea5464062456499ed05aa7b9ccc28",
       "version_major": 2,
       "version_minor": 0
      },
      "text/plain": [
       "HBox(children=(FloatProgress(value=0.0, max=5.0), HTML(value='')))"
      ]
     },
     "metadata": {},
     "output_type": "display_data"
    },
    {
     "name": "stdout",
     "output_type": "stream",
     "text": [
      "===\n",
      "Extracting KBARTs for 3000171993  -- top level= 3000171993\n",
      "..journals/springer...\n",
      "..journals/nature...\n",
      "===\n",
      "Extracting KBARTs for 3000180852  -- top level= 3000171993\n",
      "..journals/springer...\n",
      "..journals/nature...\n",
      "===\n",
      "Extracting KBARTs for 3000155420  -- top level= 3000171993\n",
      "..journals/springer...\n",
      "..journals/nature...\n",
      "===\n",
      "Extracting KBARTs for 3003532199  -- top level= 3000171993\n",
      "..journals/springer...\n",
      "..journals/nature...\n",
      "===\n",
      "Extracting KBARTs for 3004220731  -- top level= 3000171993\n",
      "..journals/springer...\n",
      "..journals/nature...\n",
      "\n",
      "======\n",
      "Checking Hierarchy for BPID:  1000792026 \n",
      "======\n",
      "..data saved in /Volumes/Albano/2020-08-06-holding-analysis-extraction/1000792026/\n",
      "Related BPIDs found:  9 = ['1000792026', '3000122820', '3000179129', '3000198352', '3000219314', '3991330314', '3001139967', '3002011430', '3002114477']\n"
     ]
    },
    {
     "data": {
      "application/vnd.jupyter.widget-view+json": {
       "model_id": "4a9623df10d541c58f2486d37fdc8e8d",
       "version_major": 2,
       "version_minor": 0
      },
      "text/plain": [
       "HBox(children=(FloatProgress(value=0.0, max=9.0), HTML(value='')))"
      ]
     },
     "metadata": {},
     "output_type": "display_data"
    },
    {
     "name": "stdout",
     "output_type": "stream",
     "text": [
      "===\n",
      "Extracting KBARTs for 1000792026  -- top level= 1000792026\n",
      "..journals/springer...\n",
      "..journals/nature...\n",
      "===\n",
      "Extracting KBARTs for 3000122820  -- top level= 1000792026\n",
      "..journals/springer...\n",
      "..journals/nature...\n",
      "===\n",
      "Extracting KBARTs for 3000179129  -- top level= 1000792026\n",
      "..journals/springer...\n",
      "..journals/nature...\n",
      "===\n",
      "Extracting KBARTs for 3000198352  -- top level= 1000792026\n",
      "..journals/springer...\n",
      "..journals/nature...\n",
      "===\n",
      "Extracting KBARTs for 3000219314  -- top level= 1000792026\n",
      "..journals/springer...\n",
      "..journals/nature...\n",
      "===\n",
      "Extracting KBARTs for 3991330314  -- top level= 1000792026\n",
      "..journals/springer...\n",
      "..journals/nature...\n",
      "===\n",
      "Extracting KBARTs for 3001139967  -- top level= 1000792026\n",
      "..journals/springer...\n",
      "..journals/nature...\n",
      "===\n",
      "Extracting KBARTs for 3002011430  -- top level= 1000792026\n",
      "..journals/springer...\n",
      "..journals/nature...\n",
      "===\n",
      "Extracting KBARTs for 3002114477  -- top level= 1000792026\n",
      "..journals/springer...\n",
      "..journals/nature...\n",
      "\n",
      "======\n",
      "Checking Hierarchy for BPID:  2000703964 \n",
      "======\n",
      "..data saved in /Volumes/Albano/2020-08-06-holding-analysis-extraction/2000703964/\n",
      "Related BPIDs found:  1 = ['2000703964']\n"
     ]
    },
    {
     "data": {
      "application/vnd.jupyter.widget-view+json": {
       "model_id": "e6abce29cfc742caade93a26a3f478b9",
       "version_major": 2,
       "version_minor": 0
      },
      "text/plain": [
       "HBox(children=(FloatProgress(value=0.0, max=1.0), HTML(value='')))"
      ]
     },
     "metadata": {},
     "output_type": "display_data"
    },
    {
     "name": "stdout",
     "output_type": "stream",
     "text": [
      "===\n",
      "Extracting KBARTs for 2000703964  -- top level= 2000703964\n",
      "..journals/springer...\n",
      "..journals/nature...\n",
      "\n",
      "======\n",
      "Checking Hierarchy for BPID:  2000175069 \n",
      "======\n",
      "..data saved in /Volumes/Albano/2020-08-06-holding-analysis-extraction/2000175069/\n",
      "Related BPIDs found:  4 = ['2000175069', '3000132959', '3000178880', '3994475188']\n"
     ]
    },
    {
     "data": {
      "application/vnd.jupyter.widget-view+json": {
       "model_id": "fd05a211bbee4df19123ff45aa941774",
       "version_major": 2,
       "version_minor": 0
      },
      "text/plain": [
       "HBox(children=(FloatProgress(value=0.0, max=4.0), HTML(value='')))"
      ]
     },
     "metadata": {},
     "output_type": "display_data"
    },
    {
     "name": "stdout",
     "output_type": "stream",
     "text": [
      "===\n",
      "Extracting KBARTs for 2000175069  -- top level= 2000175069\n",
      "..journals/springer...\n",
      "..journals/nature...\n",
      "===\n",
      "Extracting KBARTs for 3000132959  -- top level= 2000175069\n",
      "..journals/springer...\n",
      "..journals/nature...\n",
      "===\n",
      "Extracting KBARTs for 3000178880  -- top level= 2000175069\n",
      "..journals/springer...\n",
      "..journals/nature...\n",
      "===\n",
      "Extracting KBARTs for 3994475188  -- top level= 2000175069\n",
      "..journals/springer...\n",
      "..journals/nature...\n",
      "\n",
      "======\n",
      "Checking Hierarchy for BPID:  3000148958 \n",
      "======\n",
      "..data saved in /Volumes/Albano/2020-08-06-holding-analysis-extraction/3000148958/\n",
      "Related BPIDs found:  2 = ['3000148958', '3000675571']\n"
     ]
    },
    {
     "data": {
      "application/vnd.jupyter.widget-view+json": {
       "model_id": "52cde75a844d4380b8f766b40a533680",
       "version_major": 2,
       "version_minor": 0
      },
      "text/plain": [
       "HBox(children=(FloatProgress(value=0.0, max=2.0), HTML(value='')))"
      ]
     },
     "metadata": {},
     "output_type": "display_data"
    },
    {
     "name": "stdout",
     "output_type": "stream",
     "text": [
      "===\n",
      "Extracting KBARTs for 3000148958  -- top level= 3000148958\n",
      "..journals/springer...\n",
      "..journals/nature...\n",
      "===\n",
      "Extracting KBARTs for 3000675571  -- top level= 3000148958\n",
      "..journals/springer...\n",
      "..journals/nature...\n",
      "\n",
      "======\n",
      "Checking Hierarchy for BPID:  3000121820 \n",
      "======\n",
      "..data saved in /Volumes/Albano/2020-08-06-holding-analysis-extraction/3000121820/\n",
      "Related BPIDs found:  10 = ['3000121820', '3000122058', '3000256744', '3000504908', '3000506431', '3000122086', '3000133272', '3000740042', '3000955687', '3001044270']\n"
     ]
    },
    {
     "data": {
      "application/vnd.jupyter.widget-view+json": {
       "model_id": "ccd7b42c1e1c4687b5732403d85c95d6",
       "version_major": 2,
       "version_minor": 0
      },
      "text/plain": [
       "HBox(children=(FloatProgress(value=0.0, max=10.0), HTML(value='')))"
      ]
     },
     "metadata": {},
     "output_type": "display_data"
    },
    {
     "name": "stdout",
     "output_type": "stream",
     "text": [
      "===\n",
      "Extracting KBARTs for 3000121820  -- top level= 3000121820\n",
      "..journals/springer...\n",
      "..journals/nature...\n",
      "===\n",
      "Extracting KBARTs for 3000122058  -- top level= 3000121820\n",
      "..journals/springer...\n",
      "..journals/nature...\n",
      "===\n",
      "Extracting KBARTs for 3000256744  -- top level= 3000121820\n",
      "..journals/springer...\n",
      "..journals/nature...\n",
      "===\n",
      "Extracting KBARTs for 3000504908  -- top level= 3000121820\n",
      "..journals/springer...\n",
      "..journals/nature...\n",
      "===\n",
      "Extracting KBARTs for 3000506431  -- top level= 3000121820\n",
      "..journals/springer...\n",
      "..journals/nature...\n",
      "===\n",
      "Extracting KBARTs for 3000122086  -- top level= 3000121820\n",
      "..journals/springer...\n",
      "..journals/nature...\n",
      "===\n",
      "Extracting KBARTs for 3000133272  -- top level= 3000121820\n",
      "..journals/springer...\n",
      "..journals/nature...\n",
      "===\n",
      "Extracting KBARTs for 3000740042  -- top level= 3000121820\n",
      "..journals/springer...\n",
      "..journals/nature...\n",
      "===\n",
      "Extracting KBARTs for 3000955687  -- top level= 3000121820\n",
      "..journals/springer...\n",
      "..journals/nature...\n",
      "===\n",
      "Extracting KBARTs for 3001044270  -- top level= 3000121820\n",
      "..journals/springer...\n",
      "..journals/nature...\n",
      "\n",
      "======\n",
      "Checking Hierarchy for BPID:  2000330216 \n",
      "======\n",
      "..data saved in /Volumes/Albano/2020-08-06-holding-analysis-extraction/2000330216/\n",
      "Related BPIDs found:  10 = ['2000330216', '3000122820', '3000198352', '3000219314', '3991330314', '3001139967', '3002011430', '3002076494', '3002114477', '3002901800']\n"
     ]
    },
    {
     "data": {
      "application/vnd.jupyter.widget-view+json": {
       "model_id": "aba1183b5274405a866f3b78b5d9b984",
       "version_major": 2,
       "version_minor": 0
      },
      "text/plain": [
       "HBox(children=(FloatProgress(value=0.0, max=10.0), HTML(value='')))"
      ]
     },
     "metadata": {},
     "output_type": "display_data"
    },
    {
     "name": "stdout",
     "output_type": "stream",
     "text": [
      "===\n",
      "Extracting KBARTs for 2000330216  -- top level= 2000330216\n",
      "..journals/springer...\n",
      "..journals/nature...\n",
      "===\n",
      "Extracting KBARTs for 3000122820  -- top level= 2000330216\n",
      "..journals/springer...\n",
      "..journals/nature...\n",
      "===\n",
      "Extracting KBARTs for 3000198352  -- top level= 2000330216\n",
      "..journals/springer...\n",
      "..journals/nature...\n",
      "===\n",
      "Extracting KBARTs for 3000219314  -- top level= 2000330216\n",
      "..journals/springer...\n",
      "..journals/nature...\n",
      "===\n",
      "Extracting KBARTs for 3991330314  -- top level= 2000330216\n",
      "..journals/springer...\n",
      "..journals/nature...\n",
      "===\n",
      "Extracting KBARTs for 3001139967  -- top level= 2000330216\n",
      "..journals/springer...\n",
      "..journals/nature...\n",
      "===\n",
      "Extracting KBARTs for 3002011430  -- top level= 2000330216\n",
      "..journals/springer...\n",
      "..journals/nature...\n",
      "===\n",
      "Extracting KBARTs for 3002076494  -- top level= 2000330216\n",
      "..journals/springer...\n",
      "..journals/nature...\n",
      "===\n",
      "Extracting KBARTs for 3002114477  -- top level= 2000330216\n",
      "..journals/springer...\n",
      "..journals/nature...\n",
      "===\n",
      "Extracting KBARTs for 3002901800  -- top level= 2000330216\n",
      "..journals/springer...\n",
      "..journals/nature...\n",
      "\n",
      "======\n",
      "Checking Hierarchy for BPID:  3000633321 \n",
      "======\n",
      "++++ ERROR ++++\n",
      "Errors index = [3003695120, 30036927080, 3003343017, 2000341714, 8200769361, 3000633321]\n"
     ]
    },
    {
     "data": {
      "application/vnd.jupyter.widget-view+json": {
       "model_id": "f7cc564603f7446a9e8ff4dc614c8b76",
       "version_major": 2,
       "version_minor": 0
      },
      "text/plain": [
       "HBox(children=(FloatProgress(value=0.0, max=10.0), HTML(value='')))"
      ]
     },
     "metadata": {},
     "output_type": "display_data"
    },
    {
     "name": "stdout",
     "output_type": "stream",
     "text": [
      "===\n",
      "Extracting KBARTs for 2000330216  -- top level= 3000633321\n",
      "..journals/springer...\n",
      "..journals/nature...\n",
      "===\n",
      "Extracting KBARTs for 3000122820  -- top level= 3000633321\n",
      "..journals/springer...\n",
      "..journals/nature...\n",
      "===\n",
      "Extracting KBARTs for 3000198352  -- top level= 3000633321\n",
      "..journals/springer...\n",
      "..journals/nature...\n",
      "===\n",
      "Extracting KBARTs for 3000219314  -- top level= 3000633321\n",
      "..journals/springer...\n",
      "..journals/nature...\n",
      "===\n",
      "Extracting KBARTs for 3991330314  -- top level= 3000633321\n",
      "..journals/springer...\n",
      "..journals/nature...\n",
      "===\n",
      "Extracting KBARTs for 3001139967  -- top level= 3000633321\n",
      "..journals/springer...\n",
      "..journals/nature...\n",
      "===\n",
      "Extracting KBARTs for 3002011430  -- top level= 3000633321\n",
      "..journals/springer...\n",
      "..journals/nature...\n",
      "===\n",
      "Extracting KBARTs for 3002076494  -- top level= 3000633321\n",
      "..journals/springer...\n",
      "..journals/nature...\n",
      "===\n",
      "Extracting KBARTs for 3002114477  -- top level= 3000633321\n",
      "..journals/springer...\n",
      "..journals/nature...\n",
      "===\n",
      "Extracting KBARTs for 3002901800  -- top level= 3000633321\n",
      "..journals/springer...\n",
      "..journals/nature...\n",
      "\n",
      "======\n",
      "Checking Hierarchy for BPID:  2000659946 \n",
      "======\n",
      "..data saved in /Volumes/Albano/2020-08-06-holding-analysis-extraction/2000659946/\n",
      "Related BPIDs found:  2 = ['2000659946', '3000229245']\n"
     ]
    },
    {
     "data": {
      "application/vnd.jupyter.widget-view+json": {
       "model_id": "9d935c088e874e8cb079685c0951ae87",
       "version_major": 2,
       "version_minor": 0
      },
      "text/plain": [
       "HBox(children=(FloatProgress(value=0.0, max=2.0), HTML(value='')))"
      ]
     },
     "metadata": {},
     "output_type": "display_data"
    },
    {
     "name": "stdout",
     "output_type": "stream",
     "text": [
      "===\n",
      "Extracting KBARTs for 2000659946  -- top level= 2000659946\n",
      "..journals/springer...\n",
      "..journals/nature...\n",
      "===\n",
      "Extracting KBARTs for 3000229245  -- top level= 2000659946\n",
      "..journals/springer...\n",
      "..journals/nature...\n",
      "\n",
      "======\n",
      "Checking Hierarchy for BPID:  3991329770 \n",
      "======\n",
      "..data saved in /Volumes/Albano/2020-08-06-holding-analysis-extraction/3991329770/\n",
      "Related BPIDs found:  1 = ['3991329770']\n"
     ]
    },
    {
     "data": {
      "application/vnd.jupyter.widget-view+json": {
       "model_id": "0310a4883ed3403f9a9a5b9c29a5db07",
       "version_major": 2,
       "version_minor": 0
      },
      "text/plain": [
       "HBox(children=(FloatProgress(value=0.0, max=1.0), HTML(value='')))"
      ]
     },
     "metadata": {},
     "output_type": "display_data"
    },
    {
     "name": "stdout",
     "output_type": "stream",
     "text": [
      "===\n",
      "Extracting KBARTs for 3991329770  -- top level= 3991329770\n",
      "..journals/springer...\n",
      "..journals/nature...\n",
      "\n",
      "======\n",
      "Checking Hierarchy for BPID:  3000121833 \n",
      "======\n",
      "..data saved in /Volumes/Albano/2020-08-06-holding-analysis-extraction/3000121833/\n",
      "Related BPIDs found:  3 = ['3000121833', '8200828607', '3000176756']\n"
     ]
    },
    {
     "data": {
      "application/vnd.jupyter.widget-view+json": {
       "model_id": "31a66323002f4d47ac8396789d98e755",
       "version_major": 2,
       "version_minor": 0
      },
      "text/plain": [
       "HBox(children=(FloatProgress(value=0.0, max=3.0), HTML(value='')))"
      ]
     },
     "metadata": {},
     "output_type": "display_data"
    },
    {
     "name": "stdout",
     "output_type": "stream",
     "text": [
      "===\n",
      "Extracting KBARTs for 3000121833  -- top level= 3000121833\n",
      "..journals/springer...\n",
      "..journals/nature...\n",
      "===\n",
      "Extracting KBARTs for 8200828607  -- top level= 3000121833\n",
      "..journals/springer...\n",
      "..journals/nature...\n",
      "===\n",
      "Extracting KBARTs for 3000176756  -- top level= 3000121833\n",
      "..journals/springer...\n",
      "..journals/nature...\n",
      "\n",
      "======\n",
      "Checking Hierarchy for BPID:  2000340463 \n",
      "======\n",
      "..data saved in /Volumes/Albano/2020-08-06-holding-analysis-extraction/2000340463/\n",
      "Related BPIDs found:  1 = ['2000340463']\n"
     ]
    },
    {
     "data": {
      "application/vnd.jupyter.widget-view+json": {
       "model_id": "83b54ab42c024492887c66c619a0f124",
       "version_major": 2,
       "version_minor": 0
      },
      "text/plain": [
       "HBox(children=(FloatProgress(value=0.0, max=1.0), HTML(value='')))"
      ]
     },
     "metadata": {},
     "output_type": "display_data"
    },
    {
     "name": "stdout",
     "output_type": "stream",
     "text": [
      "===\n",
      "Extracting KBARTs for 2000340463  -- top level= 2000340463\n",
      "..journals/springer...\n",
      "..journals/nature...\n",
      "\n",
      "======\n",
      "Checking Hierarchy for BPID:  8200969199 \n",
      "======\n",
      "..data saved in /Volumes/Albano/2020-08-06-holding-analysis-extraction/8200969199/\n",
      "Related BPIDs found:  3 = ['8200969199', '8200828607', '3003089239']\n"
     ]
    },
    {
     "data": {
      "application/vnd.jupyter.widget-view+json": {
       "model_id": "c6e0ec37e0c44637a325a9213a1445ef",
       "version_major": 2,
       "version_minor": 0
      },
      "text/plain": [
       "HBox(children=(FloatProgress(value=0.0, max=3.0), HTML(value='')))"
      ]
     },
     "metadata": {},
     "output_type": "display_data"
    },
    {
     "name": "stdout",
     "output_type": "stream",
     "text": [
      "===\n",
      "Extracting KBARTs for 8200969199  -- top level= 8200969199\n",
      "..journals/springer...\n",
      "..journals/nature...\n",
      "===\n",
      "Extracting KBARTs for 8200828607  -- top level= 8200969199\n",
      "..journals/springer...\n",
      "..journals/nature...\n",
      "===\n",
      "Extracting KBARTs for 3003089239  -- top level= 8200969199\n",
      "..journals/springer...\n",
      "..journals/nature...\n",
      "\n",
      "======\n",
      "Checking Hierarchy for BPID:  8200696305 \n",
      "======\n",
      "..data saved in /Volumes/Albano/2020-08-06-holding-analysis-extraction/8200696305/\n",
      "Related BPIDs found:  2 = ['8200696305', '8200828607']\n"
     ]
    },
    {
     "data": {
      "application/vnd.jupyter.widget-view+json": {
       "model_id": "0cd8920d8a654a29b4d9568b36f2b2ee",
       "version_major": 2,
       "version_minor": 0
      },
      "text/plain": [
       "HBox(children=(FloatProgress(value=0.0, max=2.0), HTML(value='')))"
      ]
     },
     "metadata": {},
     "output_type": "display_data"
    },
    {
     "name": "stdout",
     "output_type": "stream",
     "text": [
      "===\n",
      "Extracting KBARTs for 8200696305  -- top level= 8200696305\n",
      "..journals/springer...\n",
      "..journals/nature...\n",
      "===\n",
      "Extracting KBARTs for 8200828607  -- top level= 8200696305\n",
      "..journals/springer...\n",
      "..journals/nature...\n",
      "\n",
      "======\n",
      "Checking Hierarchy for BPID:  8200150001 \n",
      "======\n",
      "..data saved in /Volumes/Albano/2020-08-06-holding-analysis-extraction/8200150001/\n",
      "Related BPIDs found:  2 = ['8200150001', '8200828607']\n"
     ]
    },
    {
     "data": {
      "application/vnd.jupyter.widget-view+json": {
       "model_id": "a3eff027a4b241ca9814fb44893aedf3",
       "version_major": 2,
       "version_minor": 0
      },
      "text/plain": [
       "HBox(children=(FloatProgress(value=0.0, max=2.0), HTML(value='')))"
      ]
     },
     "metadata": {},
     "output_type": "display_data"
    },
    {
     "name": "stdout",
     "output_type": "stream",
     "text": [
      "===\n",
      "Extracting KBARTs for 8200150001  -- top level= 8200150001\n",
      "..journals/springer...\n",
      "..journals/nature...\n",
      "===\n",
      "Extracting KBARTs for 8200828607  -- top level= 8200150001\n",
      "..journals/springer...\n",
      "..journals/nature...\n",
      "\n",
      "======\n",
      "Checking Hierarchy for BPID:  3000121840 \n",
      "======\n",
      "..data saved in /Volumes/Albano/2020-08-06-holding-analysis-extraction/3000121840/\n",
      "Related BPIDs found:  2 = ['3000121840', '8200828607']\n"
     ]
    },
    {
     "data": {
      "application/vnd.jupyter.widget-view+json": {
       "model_id": "069471defb5c40bf8c69787f91c635a4",
       "version_major": 2,
       "version_minor": 0
      },
      "text/plain": [
       "HBox(children=(FloatProgress(value=0.0, max=2.0), HTML(value='')))"
      ]
     },
     "metadata": {},
     "output_type": "display_data"
    },
    {
     "name": "stdout",
     "output_type": "stream",
     "text": [
      "===\n",
      "Extracting KBARTs for 3000121840  -- top level= 3000121840\n",
      "..journals/springer...\n",
      "..journals/nature...\n",
      "===\n",
      "Extracting KBARTs for 8200828607  -- top level= 3000121840\n",
      "..journals/springer...\n",
      "..journals/nature...\n",
      "\n",
      "======\n",
      "Checking Hierarchy for BPID:  2000349174 \n",
      "======\n",
      "..data saved in /Volumes/Albano/2020-08-06-holding-analysis-extraction/2000349174/\n",
      "Related BPIDs found:  1 = ['2000349174']\n"
     ]
    },
    {
     "data": {
      "application/vnd.jupyter.widget-view+json": {
       "model_id": "797e4c78bcb94c6c83d265ead7926c74",
       "version_major": 2,
       "version_minor": 0
      },
      "text/plain": [
       "HBox(children=(FloatProgress(value=0.0, max=1.0), HTML(value='')))"
      ]
     },
     "metadata": {},
     "output_type": "display_data"
    },
    {
     "name": "stdout",
     "output_type": "stream",
     "text": [
      "===\n",
      "Extracting KBARTs for 2000349174  -- top level= 2000349174\n",
      "..journals/springer...\n",
      "..journals/nature...\n",
      "\n",
      "======\n",
      "Checking Hierarchy for BPID:  2000429567 \n",
      "======\n",
      "..data saved in /Volumes/Albano/2020-08-06-holding-analysis-extraction/2000429567/\n",
      "Related BPIDs found:  1 = ['2000429567']\n"
     ]
    },
    {
     "data": {
      "application/vnd.jupyter.widget-view+json": {
       "model_id": "5739f5034a514b55a2de5908ccd7193c",
       "version_major": 2,
       "version_minor": 0
      },
      "text/plain": [
       "HBox(children=(FloatProgress(value=0.0, max=1.0), HTML(value='')))"
      ]
     },
     "metadata": {},
     "output_type": "display_data"
    },
    {
     "name": "stdout",
     "output_type": "stream",
     "text": [
      "===\n",
      "Extracting KBARTs for 2000429567  -- top level= 2000429567\n",
      "..journals/springer...\n",
      "..journals/nature...\n",
      "\n",
      "\n",
      "**** completed ****\n",
      "Errors index = [3003695120, 30036927080, 3003343017, 2000341714, 8200769361, 3000633321]\n"
     ]
    }
   ],
   "source": [
    "errors = []\n",
    "\n",
    "for bpid in progress(BPIDS_LIST_UNIQUE):\n",
    "    try:\n",
    "        related_bpids = api_extract_related_bpids(bpid)\n",
    "    except:\n",
    "        related = []\n",
    "        errors.append(bpid)\n",
    "        print(\"++++ ERROR ++++\")\n",
    "        print(\"Errors index =\", errors)\n",
    "    for child in progress(related_bpids):\n",
    "        api_extract_kbarts(child, bpid)\n",
    "\n",
    "print(\"**** completed ****\")\n",
    "print(\"Errors index =\", errors)"
   ]
  },
  {
   "cell_type": "markdown",
   "metadata": {
    "Collapsed": "true"
   },
   "source": [
    "## 3. Extracting Usage: Springer & Nature from GBQ\n",
    "\n",
    "* requires a GBQ service account credentials (JSON file)"
   ]
  },
  {
   "cell_type": "code",
   "execution_count": 43,
   "metadata": {
    "Collapsed": "false"
   },
   "outputs": [],
   "source": [
    "from google.cloud import bigquery\n",
    "\n",
    "credentials_file = 'data_input/usage-data-reporting-523fb677bd0a.json'\n",
    "project_id = 'usage-data-reporting'\n",
    "# Explicitly use service account credentials by specifying the private key file\n",
    "client_ref = bigquery.Client.from_service_account_json(credentials_file)"
   ]
  },
  {
   "cell_type": "markdown",
   "metadata": {
    "Collapsed": "false"
   },
   "source": [
    "### 3.1 GBQ: Springer usage data \n",
    "\n",
    "* for a BPID, pull all usage data - Springer only for the moment\n",
    "* if a BPID is not found or not valid, it simply outputs a zero-lines CSV"
   ]
  },
  {
   "cell_type": "code",
   "execution_count": 41,
   "metadata": {
    "Collapsed": "false"
   },
   "outputs": [
    {
     "data": {
      "application/vnd.jupyter.widget-view+json": {
       "model_id": "ec44c40de4014bd4a1fb4051d56ecb89",
       "version_major": 2,
       "version_minor": 0
      },
      "text/plain": [
       "HBox(children=(FloatProgress(value=0.0, max=189.0), HTML(value='')))"
      ]
     },
     "metadata": {},
     "output_type": "display_data"
    },
    {
     "name": "stdout",
     "output_type": "stream",
     "text": [
      "======\n",
      "Checking Pre-saved Hierarchy for BPID:  3001049600 \n",
      "======\n",
      "Related BPIDs found:  1 = ['3001049600']\n"
     ]
    },
    {
     "data": {
      "application/vnd.jupyter.widget-view+json": {
       "model_id": "9ea801b5faa24e1e8ce289b7719d6b62",
       "version_major": 2,
       "version_minor": 0
      },
      "text/plain": [
       "HBox(children=(FloatProgress(value=0.0, max=1.0), HTML(value='')))"
      ]
     },
     "metadata": {},
     "output_type": "display_data"
    },
    {
     "name": "stdout",
     "output_type": "stream",
     "text": [
      "===\n",
      "Extracting Springer Usage for 3001049600  -- top level= 3001049600\n",
      "..skipping.. file exists: /Volumes/Albano/2020-08-06-holding-analysis-extraction/3001049600/3001049600_usage_springer.csv\n",
      "\n",
      "======\n",
      "Checking Pre-saved Hierarchy for BPID:  2000022016 \n",
      "======\n",
      "Related BPIDs found:  8 = ['2000022016', '3000130459', '3000179129', '3000198352', '3000251517', '3991330314', '3001139967', '3002011430']\n"
     ]
    },
    {
     "data": {
      "application/vnd.jupyter.widget-view+json": {
       "model_id": "494f8b6b772d4d28aa2b756551238ff7",
       "version_major": 2,
       "version_minor": 0
      },
      "text/plain": [
       "HBox(children=(FloatProgress(value=0.0, max=8.0), HTML(value='')))"
      ]
     },
     "metadata": {},
     "output_type": "display_data"
    },
    {
     "name": "stdout",
     "output_type": "stream",
     "text": [
      "===\n",
      "Extracting Springer Usage for 2000022016  -- top level= 2000022016\n",
      "..skipping.. file exists: /Volumes/Albano/2020-08-06-holding-analysis-extraction/2000022016/2000022016_usage_springer.csv\n",
      "===\n",
      "Extracting Springer Usage for 3000130459  -- top level= 2000022016\n",
      "..skipping.. file exists: /Volumes/Albano/2020-08-06-holding-analysis-extraction/2000022016/3000130459_usage_springer.csv\n",
      "===\n",
      "Extracting Springer Usage for 3000179129  -- top level= 2000022016\n",
      "..skipping.. file exists: /Volumes/Albano/2020-08-06-holding-analysis-extraction/2000022016/3000179129_usage_springer.csv\n",
      "===\n",
      "Extracting Springer Usage for 3000198352  -- top level= 2000022016\n",
      "..skipping.. file exists: /Volumes/Albano/2020-08-06-holding-analysis-extraction/2000022016/3000198352_usage_springer.csv\n",
      "===\n",
      "Extracting Springer Usage for 3000251517  -- top level= 2000022016\n",
      "..skipping.. file exists: /Volumes/Albano/2020-08-06-holding-analysis-extraction/2000022016/3000251517_usage_springer.csv\n",
      "===\n",
      "Extracting Springer Usage for 3991330314  -- top level= 2000022016\n",
      "..skipping.. file exists: /Volumes/Albano/2020-08-06-holding-analysis-extraction/2000022016/3991330314_usage_springer.csv\n",
      "===\n",
      "Extracting Springer Usage for 3001139967  -- top level= 2000022016\n",
      "..skipping.. file exists: /Volumes/Albano/2020-08-06-holding-analysis-extraction/2000022016/3001139967_usage_springer.csv\n",
      "===\n",
      "Extracting Springer Usage for 3002011430  -- top level= 2000022016\n",
      "..skipping.. file exists: /Volumes/Albano/2020-08-06-holding-analysis-extraction/2000022016/3002011430_usage_springer.csv\n",
      "\n",
      "======\n",
      "Checking Pre-saved Hierarchy for BPID:  3000201735 \n",
      "======\n",
      "Related BPIDs found:  43 = ['3000201735', '3000175179', '1000255885', '1600001227', '2000617610', '3000116918', '3000116931', '3000116934', '3000175175', '3000204988', '3000205002', '3000205076', '3000205082', '8200982076', '3004223722', '3004223724', '3001088854', '3001157578', '3001201143', '3004221684', '3004221752', '3004221761', '3004221783', '3004221787', '3004221802', '3004221830', '3004221837', '3004221925', '3004221927', '3004221930', '3004221938', '3004221942', '3004191508', '3004191511', '3004191512', '2000115039', '3000238655', '3000608689', '2000398568', '3000929851', '3002830455', '3991363251', '3991363253']\n"
     ]
    },
    {
     "data": {
      "application/vnd.jupyter.widget-view+json": {
       "model_id": "6dd42015a7044a7488728239026489ce",
       "version_major": 2,
       "version_minor": 0
      },
      "text/plain": [
       "HBox(children=(FloatProgress(value=0.0, max=43.0), HTML(value='')))"
      ]
     },
     "metadata": {},
     "output_type": "display_data"
    },
    {
     "name": "stdout",
     "output_type": "stream",
     "text": [
      "===\n",
      "Extracting Springer Usage for 3000201735  -- top level= 3000201735\n",
      "..skipping.. file exists: /Volumes/Albano/2020-08-06-holding-analysis-extraction/3000201735/3000201735_usage_springer.csv\n",
      "===\n",
      "Extracting Springer Usage for 3000175179  -- top level= 3000201735\n",
      "..skipping.. file exists: /Volumes/Albano/2020-08-06-holding-analysis-extraction/3000201735/3000175179_usage_springer.csv\n",
      "===\n",
      "Extracting Springer Usage for 1000255885  -- top level= 3000201735\n",
      "..skipping.. file exists: /Volumes/Albano/2020-08-06-holding-analysis-extraction/3000201735/1000255885_usage_springer.csv\n",
      "===\n",
      "Extracting Springer Usage for 1600001227  -- top level= 3000201735\n",
      "..skipping.. file exists: /Volumes/Albano/2020-08-06-holding-analysis-extraction/3000201735/1600001227_usage_springer.csv\n",
      "===\n",
      "Extracting Springer Usage for 2000617610  -- top level= 3000201735\n",
      "..skipping.. file exists: /Volumes/Albano/2020-08-06-holding-analysis-extraction/3000201735/2000617610_usage_springer.csv\n",
      "===\n",
      "Extracting Springer Usage for 3000116918  -- top level= 3000201735\n",
      "..skipping.. file exists: /Volumes/Albano/2020-08-06-holding-analysis-extraction/3000201735/3000116918_usage_springer.csv\n",
      "===\n",
      "Extracting Springer Usage for 3000116931  -- top level= 3000201735\n",
      "..skipping.. file exists: /Volumes/Albano/2020-08-06-holding-analysis-extraction/3000201735/3000116931_usage_springer.csv\n",
      "===\n",
      "Extracting Springer Usage for 3000116934  -- top level= 3000201735\n",
      "..skipping.. file exists: /Volumes/Albano/2020-08-06-holding-analysis-extraction/3000201735/3000116934_usage_springer.csv\n",
      "===\n",
      "Extracting Springer Usage for 3000175175  -- top level= 3000201735\n",
      "..skipping.. file exists: /Volumes/Albano/2020-08-06-holding-analysis-extraction/3000201735/3000175175_usage_springer.csv\n",
      "===\n",
      "Extracting Springer Usage for 3000204988  -- top level= 3000201735\n",
      "..skipping.. file exists: /Volumes/Albano/2020-08-06-holding-analysis-extraction/3000201735/3000204988_usage_springer.csv\n",
      "===\n",
      "Extracting Springer Usage for 3000205002  -- top level= 3000201735\n",
      "..skipping.. file exists: /Volumes/Albano/2020-08-06-holding-analysis-extraction/3000201735/3000205002_usage_springer.csv\n",
      "===\n",
      "Extracting Springer Usage for 3000205076  -- top level= 3000201735\n",
      "..skipping.. file exists: /Volumes/Albano/2020-08-06-holding-analysis-extraction/3000201735/3000205076_usage_springer.csv\n",
      "===\n",
      "Extracting Springer Usage for 3000205082  -- top level= 3000201735\n",
      "..skipping.. file exists: /Volumes/Albano/2020-08-06-holding-analysis-extraction/3000201735/3000205082_usage_springer.csv\n",
      "===\n",
      "Extracting Springer Usage for 8200982076  -- top level= 3000201735\n",
      "..skipping.. file exists: /Volumes/Albano/2020-08-06-holding-analysis-extraction/3000201735/8200982076_usage_springer.csv\n",
      "===\n",
      "Extracting Springer Usage for 3004223722  -- top level= 3000201735\n",
      "..skipping.. file exists: /Volumes/Albano/2020-08-06-holding-analysis-extraction/3000201735/3004223722_usage_springer.csv\n",
      "===\n",
      "Extracting Springer Usage for 3004223724  -- top level= 3000201735\n",
      "..skipping.. file exists: /Volumes/Albano/2020-08-06-holding-analysis-extraction/3000201735/3004223724_usage_springer.csv\n",
      "===\n",
      "Extracting Springer Usage for 3001088854  -- top level= 3000201735\n",
      "..skipping.. file exists: /Volumes/Albano/2020-08-06-holding-analysis-extraction/3000201735/3001088854_usage_springer.csv\n",
      "===\n",
      "Extracting Springer Usage for 3001157578  -- top level= 3000201735\n",
      "..skipping.. file exists: /Volumes/Albano/2020-08-06-holding-analysis-extraction/3000201735/3001157578_usage_springer.csv\n",
      "===\n",
      "Extracting Springer Usage for 3001201143  -- top level= 3000201735\n",
      "..skipping.. file exists: /Volumes/Albano/2020-08-06-holding-analysis-extraction/3000201735/3001201143_usage_springer.csv\n",
      "===\n",
      "Extracting Springer Usage for 3004221684  -- top level= 3000201735\n",
      "..skipping.. file exists: /Volumes/Albano/2020-08-06-holding-analysis-extraction/3000201735/3004221684_usage_springer.csv\n",
      "===\n",
      "Extracting Springer Usage for 3004221752  -- top level= 3000201735\n",
      "..skipping.. file exists: /Volumes/Albano/2020-08-06-holding-analysis-extraction/3000201735/3004221752_usage_springer.csv\n",
      "===\n",
      "Extracting Springer Usage for 3004221761  -- top level= 3000201735\n",
      "..skipping.. file exists: /Volumes/Albano/2020-08-06-holding-analysis-extraction/3000201735/3004221761_usage_springer.csv\n",
      "===\n",
      "Extracting Springer Usage for 3004221783  -- top level= 3000201735\n",
      "..skipping.. file exists: /Volumes/Albano/2020-08-06-holding-analysis-extraction/3000201735/3004221783_usage_springer.csv\n",
      "===\n",
      "Extracting Springer Usage for 3004221787  -- top level= 3000201735\n",
      "..skipping.. file exists: /Volumes/Albano/2020-08-06-holding-analysis-extraction/3000201735/3004221787_usage_springer.csv\n",
      "===\n",
      "Extracting Springer Usage for 3004221802  -- top level= 3000201735\n",
      "..skipping.. file exists: /Volumes/Albano/2020-08-06-holding-analysis-extraction/3000201735/3004221802_usage_springer.csv\n",
      "===\n",
      "Extracting Springer Usage for 3004221830  -- top level= 3000201735\n",
      "..skipping.. file exists: /Volumes/Albano/2020-08-06-holding-analysis-extraction/3000201735/3004221830_usage_springer.csv\n",
      "===\n",
      "Extracting Springer Usage for 3004221837  -- top level= 3000201735\n",
      "..skipping.. file exists: /Volumes/Albano/2020-08-06-holding-analysis-extraction/3000201735/3004221837_usage_springer.csv\n",
      "===\n",
      "Extracting Springer Usage for 3004221925  -- top level= 3000201735\n",
      "..skipping.. file exists: /Volumes/Albano/2020-08-06-holding-analysis-extraction/3000201735/3004221925_usage_springer.csv\n",
      "===\n",
      "Extracting Springer Usage for 3004221927  -- top level= 3000201735\n",
      "..skipping.. file exists: /Volumes/Albano/2020-08-06-holding-analysis-extraction/3000201735/3004221927_usage_springer.csv\n",
      "===\n",
      "Extracting Springer Usage for 3004221930  -- top level= 3000201735\n",
      "..skipping.. file exists: /Volumes/Albano/2020-08-06-holding-analysis-extraction/3000201735/3004221930_usage_springer.csv\n",
      "===\n",
      "Extracting Springer Usage for 3004221938  -- top level= 3000201735\n",
      "..skipping.. file exists: /Volumes/Albano/2020-08-06-holding-analysis-extraction/3000201735/3004221938_usage_springer.csv\n",
      "===\n",
      "Extracting Springer Usage for 3004221942  -- top level= 3000201735\n",
      "..skipping.. file exists: /Volumes/Albano/2020-08-06-holding-analysis-extraction/3000201735/3004221942_usage_springer.csv\n",
      "===\n",
      "Extracting Springer Usage for 3004191508  -- top level= 3000201735\n",
      "..skipping.. file exists: /Volumes/Albano/2020-08-06-holding-analysis-extraction/3000201735/3004191508_usage_springer.csv\n",
      "===\n",
      "Extracting Springer Usage for 3004191511  -- top level= 3000201735\n",
      "..skipping.. file exists: /Volumes/Albano/2020-08-06-holding-analysis-extraction/3000201735/3004191511_usage_springer.csv\n",
      "===\n",
      "Extracting Springer Usage for 3004191512  -- top level= 3000201735\n",
      "..skipping.. file exists: /Volumes/Albano/2020-08-06-holding-analysis-extraction/3000201735/3004191512_usage_springer.csv\n",
      "===\n",
      "Extracting Springer Usage for 2000115039  -- top level= 3000201735\n",
      "..skipping.. file exists: /Volumes/Albano/2020-08-06-holding-analysis-extraction/3000201735/2000115039_usage_springer.csv\n",
      "===\n",
      "Extracting Springer Usage for 3000238655  -- top level= 3000201735\n",
      "..skipping.. file exists: /Volumes/Albano/2020-08-06-holding-analysis-extraction/3000201735/3000238655_usage_springer.csv\n",
      "===\n",
      "Extracting Springer Usage for 3000608689  -- top level= 3000201735\n",
      "..skipping.. file exists: /Volumes/Albano/2020-08-06-holding-analysis-extraction/3000201735/3000608689_usage_springer.csv\n",
      "===\n",
      "Extracting Springer Usage for 2000398568  -- top level= 3000201735\n",
      "..skipping.. file exists: /Volumes/Albano/2020-08-06-holding-analysis-extraction/3000201735/2000398568_usage_springer.csv\n",
      "===\n",
      "Extracting Springer Usage for 3000929851  -- top level= 3000201735\n",
      "..skipping.. file exists: /Volumes/Albano/2020-08-06-holding-analysis-extraction/3000201735/3000929851_usage_springer.csv\n",
      "===\n",
      "Extracting Springer Usage for 3002830455  -- top level= 3000201735\n",
      "..skipping.. file exists: /Volumes/Albano/2020-08-06-holding-analysis-extraction/3000201735/3002830455_usage_springer.csv\n",
      "===\n",
      "Extracting Springer Usage for 3991363251  -- top level= 3000201735\n",
      "..skipping.. file exists: /Volumes/Albano/2020-08-06-holding-analysis-extraction/3000201735/3991363251_usage_springer.csv\n",
      "===\n",
      "Extracting Springer Usage for 3991363253  -- top level= 3000201735\n",
      "..skipping.. file exists: /Volumes/Albano/2020-08-06-holding-analysis-extraction/3000201735/3991363253_usage_springer.csv\n",
      "\n",
      "======\n",
      "Checking Pre-saved Hierarchy for BPID:  3000161288 \n",
      "======\n",
      "Related BPIDs found:  2 = ['3000161288', '3000675571']\n"
     ]
    },
    {
     "data": {
      "application/vnd.jupyter.widget-view+json": {
       "model_id": "ce0da97a47b64b6a93f8ce2ec8142112",
       "version_major": 2,
       "version_minor": 0
      },
      "text/plain": [
       "HBox(children=(FloatProgress(value=0.0, max=2.0), HTML(value='')))"
      ]
     },
     "metadata": {},
     "output_type": "display_data"
    },
    {
     "name": "stdout",
     "output_type": "stream",
     "text": [
      "===\n",
      "Extracting Springer Usage for 3000161288  -- top level= 3000161288\n",
      "..skipping.. file exists: /Volumes/Albano/2020-08-06-holding-analysis-extraction/3000161288/3000161288_usage_springer.csv\n",
      "===\n",
      "Extracting Springer Usage for 3000675571  -- top level= 3000161288\n",
      "..skipping.. file exists: /Volumes/Albano/2020-08-06-holding-analysis-extraction/3000161288/3000675571_usage_springer.csv\n",
      "\n",
      "======\n",
      "Checking Pre-saved Hierarchy for BPID:  2000185358 \n",
      "======\n",
      "Related BPIDs found:  9 = ['2000185358', '3000130459', '3000251517', '3001070824', '3991330314', '3000092011', '3001139967', '3002011430', '3002114477']\n"
     ]
    },
    {
     "data": {
      "application/vnd.jupyter.widget-view+json": {
       "model_id": "8568af14671a40a28853ff5c63b13714",
       "version_major": 2,
       "version_minor": 0
      },
      "text/plain": [
       "HBox(children=(FloatProgress(value=0.0, max=9.0), HTML(value='')))"
      ]
     },
     "metadata": {},
     "output_type": "display_data"
    },
    {
     "name": "stdout",
     "output_type": "stream",
     "text": [
      "===\n",
      "Extracting Springer Usage for 2000185358  -- top level= 2000185358\n",
      "..skipping.. file exists: /Volumes/Albano/2020-08-06-holding-analysis-extraction/2000185358/2000185358_usage_springer.csv\n",
      "===\n",
      "Extracting Springer Usage for 3000130459  -- top level= 2000185358\n",
      "..skipping.. file exists: /Volumes/Albano/2020-08-06-holding-analysis-extraction/2000185358/3000130459_usage_springer.csv\n",
      "===\n",
      "Extracting Springer Usage for 3000251517  -- top level= 2000185358\n",
      "..skipping.. file exists: /Volumes/Albano/2020-08-06-holding-analysis-extraction/2000185358/3000251517_usage_springer.csv\n",
      "===\n",
      "Extracting Springer Usage for 3001070824  -- top level= 2000185358\n",
      "..skipping.. file exists: /Volumes/Albano/2020-08-06-holding-analysis-extraction/2000185358/3001070824_usage_springer.csv\n",
      "===\n",
      "Extracting Springer Usage for 3991330314  -- top level= 2000185358\n",
      "..skipping.. file exists: /Volumes/Albano/2020-08-06-holding-analysis-extraction/2000185358/3991330314_usage_springer.csv\n",
      "===\n",
      "Extracting Springer Usage for 3000092011  -- top level= 2000185358\n",
      "..skipping.. file exists: /Volumes/Albano/2020-08-06-holding-analysis-extraction/2000185358/3000092011_usage_springer.csv\n",
      "===\n",
      "Extracting Springer Usage for 3001139967  -- top level= 2000185358\n",
      "..skipping.. file exists: /Volumes/Albano/2020-08-06-holding-analysis-extraction/2000185358/3001139967_usage_springer.csv\n",
      "===\n",
      "Extracting Springer Usage for 3002011430  -- top level= 2000185358\n",
      "..skipping.. file exists: /Volumes/Albano/2020-08-06-holding-analysis-extraction/2000185358/3002011430_usage_springer.csv\n",
      "===\n",
      "Extracting Springer Usage for 3002114477  -- top level= 2000185358\n",
      "..skipping.. file exists: /Volumes/Albano/2020-08-06-holding-analysis-extraction/2000185358/3002114477_usage_springer.csv\n",
      "\n",
      "======\n",
      "Checking Pre-saved Hierarchy for BPID:  2000263694 \n",
      "======\n",
      "Related BPIDs found:  9 = ['2000263694', '3000130459', '3000179129', '3000198352', '3000251517', '3991330314', '3001139967', '3002011430', '3002114477']\n"
     ]
    },
    {
     "data": {
      "application/vnd.jupyter.widget-view+json": {
       "model_id": "f47910e634844ca4986f104dca536c95",
       "version_major": 2,
       "version_minor": 0
      },
      "text/plain": [
       "HBox(children=(FloatProgress(value=0.0, max=9.0), HTML(value='')))"
      ]
     },
     "metadata": {},
     "output_type": "display_data"
    },
    {
     "name": "stdout",
     "output_type": "stream",
     "text": [
      "===\n",
      "Extracting Springer Usage for 2000263694  -- top level= 2000263694\n",
      "..skipping.. file exists: /Volumes/Albano/2020-08-06-holding-analysis-extraction/2000263694/2000263694_usage_springer.csv\n",
      "===\n",
      "Extracting Springer Usage for 3000130459  -- top level= 2000263694\n",
      "..skipping.. file exists: /Volumes/Albano/2020-08-06-holding-analysis-extraction/2000263694/3000130459_usage_springer.csv\n",
      "===\n",
      "Extracting Springer Usage for 3000179129  -- top level= 2000263694\n",
      "..skipping.. file exists: /Volumes/Albano/2020-08-06-holding-analysis-extraction/2000263694/3000179129_usage_springer.csv\n",
      "===\n",
      "Extracting Springer Usage for 3000198352  -- top level= 2000263694\n",
      "..skipping.. file exists: /Volumes/Albano/2020-08-06-holding-analysis-extraction/2000263694/3000198352_usage_springer.csv\n",
      "===\n",
      "Extracting Springer Usage for 3000251517  -- top level= 2000263694\n",
      "..skipping.. file exists: /Volumes/Albano/2020-08-06-holding-analysis-extraction/2000263694/3000251517_usage_springer.csv\n",
      "===\n",
      "Extracting Springer Usage for 3991330314  -- top level= 2000263694\n",
      "..skipping.. file exists: /Volumes/Albano/2020-08-06-holding-analysis-extraction/2000263694/3991330314_usage_springer.csv\n",
      "===\n",
      "Extracting Springer Usage for 3001139967  -- top level= 2000263694\n",
      "..skipping.. file exists: /Volumes/Albano/2020-08-06-holding-analysis-extraction/2000263694/3001139967_usage_springer.csv\n",
      "===\n",
      "Extracting Springer Usage for 3002011430  -- top level= 2000263694\n",
      "..skipping.. file exists: /Volumes/Albano/2020-08-06-holding-analysis-extraction/2000263694/3002011430_usage_springer.csv\n",
      "===\n",
      "Extracting Springer Usage for 3002114477  -- top level= 2000263694\n",
      "..skipping.. file exists: /Volumes/Albano/2020-08-06-holding-analysis-extraction/2000263694/3002114477_usage_springer.csv\n",
      "\n",
      "======\n",
      "Checking Pre-saved Hierarchy for BPID:  3000141328 \n",
      "======\n",
      "Related BPIDs found:  1 = ['3000141328']\n"
     ]
    },
    {
     "data": {
      "application/vnd.jupyter.widget-view+json": {
       "model_id": "db5b5688c08d4c74a8244a78d1e956dd",
       "version_major": 2,
       "version_minor": 0
      },
      "text/plain": [
       "HBox(children=(FloatProgress(value=0.0, max=1.0), HTML(value='')))"
      ]
     },
     "metadata": {},
     "output_type": "display_data"
    },
    {
     "name": "stdout",
     "output_type": "stream",
     "text": [
      "===\n",
      "Extracting Springer Usage for 3000141328  -- top level= 3000141328\n",
      "..skipping.. file exists: /Volumes/Albano/2020-08-06-holding-analysis-extraction/3000141328/3000141328_usage_springer.csv\n",
      "\n",
      "======\n",
      "Checking Pre-saved Hierarchy for BPID:  3003695120 \n",
      "======\n",
      "++++ ERROR ++++\n",
      "Errors index = [3003695120]\n"
     ]
    },
    {
     "data": {
      "application/vnd.jupyter.widget-view+json": {
       "model_id": "b7f277ee897b41159ebd384eb48e0489",
       "version_major": 2,
       "version_minor": 0
      },
      "text/plain": [
       "HBox(children=(FloatProgress(value=1.0, bar_style='info', max=1.0), HTML(value='')))"
      ]
     },
     "metadata": {},
     "output_type": "display_data"
    },
    {
     "name": "stdout",
     "output_type": "stream",
     "text": [
      "\n",
      "======\n",
      "Checking Pre-saved Hierarchy for BPID:  8200595982 \n",
      "======\n",
      "Related BPIDs found:  2 = ['8200595982', '8200828607']\n"
     ]
    },
    {
     "data": {
      "application/vnd.jupyter.widget-view+json": {
       "model_id": "0230282104bc4a86b87d20f2b03832b2",
       "version_major": 2,
       "version_minor": 0
      },
      "text/plain": [
       "HBox(children=(FloatProgress(value=0.0, max=2.0), HTML(value='')))"
      ]
     },
     "metadata": {},
     "output_type": "display_data"
    },
    {
     "name": "stdout",
     "output_type": "stream",
     "text": [
      "===\n",
      "Extracting Springer Usage for 8200595982  -- top level= 8200595982\n",
      "..skipping.. file exists: /Volumes/Albano/2020-08-06-holding-analysis-extraction/8200595982/8200595982_usage_springer.csv\n",
      "===\n",
      "Extracting Springer Usage for 8200828607  -- top level= 8200595982\n",
      "..skipping.. file exists: /Volumes/Albano/2020-08-06-holding-analysis-extraction/8200595982/8200828607_usage_springer.csv\n",
      "\n",
      "======\n",
      "Checking Pre-saved Hierarchy for BPID:  8200832017 \n",
      "======\n",
      "Related BPIDs found:  2 = ['8200832017', '8200828607']\n"
     ]
    },
    {
     "data": {
      "application/vnd.jupyter.widget-view+json": {
       "model_id": "cec15e73bee24708903ba642b20cd520",
       "version_major": 2,
       "version_minor": 0
      },
      "text/plain": [
       "HBox(children=(FloatProgress(value=0.0, max=2.0), HTML(value='')))"
      ]
     },
     "metadata": {},
     "output_type": "display_data"
    },
    {
     "name": "stdout",
     "output_type": "stream",
     "text": [
      "===\n",
      "Extracting Springer Usage for 8200832017  -- top level= 8200832017\n",
      "..skipping.. file exists: /Volumes/Albano/2020-08-06-holding-analysis-extraction/8200832017/8200832017_usage_springer.csv\n",
      "===\n",
      "Extracting Springer Usage for 8200828607  -- top level= 8200832017\n",
      "..skipping.. file exists: /Volumes/Albano/2020-08-06-holding-analysis-extraction/8200832017/8200828607_usage_springer.csv\n",
      "\n",
      "======\n",
      "Checking Pre-saved Hierarchy for BPID:  3000102420 \n",
      "======\n",
      "Related BPIDs found:  1 = ['3000102420']\n"
     ]
    },
    {
     "data": {
      "application/vnd.jupyter.widget-view+json": {
       "model_id": "536c05926d4b43558f5919c3ca5716dc",
       "version_major": 2,
       "version_minor": 0
      },
      "text/plain": [
       "HBox(children=(FloatProgress(value=0.0, max=1.0), HTML(value='')))"
      ]
     },
     "metadata": {},
     "output_type": "display_data"
    },
    {
     "name": "stdout",
     "output_type": "stream",
     "text": [
      "===\n",
      "Extracting Springer Usage for 3000102420  -- top level= 3000102420\n",
      "..skipping.. file exists: /Volumes/Albano/2020-08-06-holding-analysis-extraction/3000102420/3000102420_usage_springer.csv\n",
      "\n",
      "======\n",
      "Checking Pre-saved Hierarchy for BPID:  3000671765 \n",
      "======\n",
      "Related BPIDs found:  2 = ['3000671765', '3002121962']\n"
     ]
    },
    {
     "data": {
      "application/vnd.jupyter.widget-view+json": {
       "model_id": "5abc85161b8849368d332f62f9ad2fe3",
       "version_major": 2,
       "version_minor": 0
      },
      "text/plain": [
       "HBox(children=(FloatProgress(value=0.0, max=2.0), HTML(value='')))"
      ]
     },
     "metadata": {},
     "output_type": "display_data"
    },
    {
     "name": "stdout",
     "output_type": "stream",
     "text": [
      "===\n",
      "Extracting Springer Usage for 3000671765  -- top level= 3000671765\n",
      "..skipping.. file exists: /Volumes/Albano/2020-08-06-holding-analysis-extraction/3000671765/3000671765_usage_springer.csv\n",
      "===\n",
      "Extracting Springer Usage for 3002121962  -- top level= 3000671765\n",
      "..skipping.. file exists: /Volumes/Albano/2020-08-06-holding-analysis-extraction/3000671765/3002121962_usage_springer.csv\n",
      "\n",
      "======\n",
      "Checking Pre-saved Hierarchy for BPID:  3000756244 \n",
      "======\n",
      "Related BPIDs found:  1 = ['3000756244']\n"
     ]
    },
    {
     "data": {
      "application/vnd.jupyter.widget-view+json": {
       "model_id": "83abc038d1eb46cabbd6224222724d58",
       "version_major": 2,
       "version_minor": 0
      },
      "text/plain": [
       "HBox(children=(FloatProgress(value=0.0, max=1.0), HTML(value='')))"
      ]
     },
     "metadata": {},
     "output_type": "display_data"
    },
    {
     "name": "stdout",
     "output_type": "stream",
     "text": [
      "===\n",
      "Extracting Springer Usage for 3000756244  -- top level= 3000756244\n",
      "..skipping.. file exists: /Volumes/Albano/2020-08-06-holding-analysis-extraction/3000756244/3000756244_usage_springer.csv\n",
      "\n",
      "======\n",
      "Checking Pre-saved Hierarchy for BPID:  8200696853 \n",
      "======\n",
      "Related BPIDs found:  2 = ['8200696853', '8200828607']\n"
     ]
    },
    {
     "data": {
      "application/vnd.jupyter.widget-view+json": {
       "model_id": "68be5051a42f4ae1b8d9dfeb3f61544c",
       "version_major": 2,
       "version_minor": 0
      },
      "text/plain": [
       "HBox(children=(FloatProgress(value=0.0, max=2.0), HTML(value='')))"
      ]
     },
     "metadata": {},
     "output_type": "display_data"
    },
    {
     "name": "stdout",
     "output_type": "stream",
     "text": [
      "===\n",
      "Extracting Springer Usage for 8200696853  -- top level= 8200696853\n",
      "..skipping.. file exists: /Volumes/Albano/2020-08-06-holding-analysis-extraction/8200696853/8200696853_usage_springer.csv\n",
      "===\n",
      "Extracting Springer Usage for 8200828607  -- top level= 8200696853\n",
      "..skipping.. file exists: /Volumes/Albano/2020-08-06-holding-analysis-extraction/8200696853/8200828607_usage_springer.csv\n",
      "\n",
      "======\n",
      "Checking Pre-saved Hierarchy for BPID:  8200881174 \n",
      "======\n",
      "Related BPIDs found:  2 = ['8200881174', '8200828607']\n"
     ]
    },
    {
     "data": {
      "application/vnd.jupyter.widget-view+json": {
       "model_id": "5fa1bce0e50d46288663ddf4357da87b",
       "version_major": 2,
       "version_minor": 0
      },
      "text/plain": [
       "HBox(children=(FloatProgress(value=0.0, max=2.0), HTML(value='')))"
      ]
     },
     "metadata": {},
     "output_type": "display_data"
    },
    {
     "name": "stdout",
     "output_type": "stream",
     "text": [
      "===\n",
      "Extracting Springer Usage for 8200881174  -- top level= 8200881174\n",
      "..skipping.. file exists: /Volumes/Albano/2020-08-06-holding-analysis-extraction/8200881174/8200881174_usage_springer.csv\n",
      "===\n",
      "Extracting Springer Usage for 8200828607  -- top level= 8200881174\n",
      "..skipping.. file exists: /Volumes/Albano/2020-08-06-holding-analysis-extraction/8200881174/8200828607_usage_springer.csv\n",
      "\n",
      "======\n",
      "Checking Pre-saved Hierarchy for BPID:  3000094233 \n",
      "======\n",
      "Related BPIDs found:  1 = ['3000094233']\n"
     ]
    },
    {
     "data": {
      "application/vnd.jupyter.widget-view+json": {
       "model_id": "c3ca201ae63546e69d274e1c2fad7229",
       "version_major": 2,
       "version_minor": 0
      },
      "text/plain": [
       "HBox(children=(FloatProgress(value=0.0, max=1.0), HTML(value='')))"
      ]
     },
     "metadata": {},
     "output_type": "display_data"
    },
    {
     "name": "stdout",
     "output_type": "stream",
     "text": [
      "===\n",
      "Extracting Springer Usage for 3000094233  -- top level= 3000094233\n",
      "..skipping.. file exists: /Volumes/Albano/2020-08-06-holding-analysis-extraction/3000094233/3000094233_usage_springer.csv\n",
      "\n",
      "======\n",
      "Checking Pre-saved Hierarchy for BPID:  2000578073 \n",
      "======\n",
      "Related BPIDs found:  1 = ['2000578073']\n"
     ]
    },
    {
     "data": {
      "application/vnd.jupyter.widget-view+json": {
       "model_id": "98efef3ecb87465aa10a9f2d9640e940",
       "version_major": 2,
       "version_minor": 0
      },
      "text/plain": [
       "HBox(children=(FloatProgress(value=0.0, max=1.0), HTML(value='')))"
      ]
     },
     "metadata": {},
     "output_type": "display_data"
    },
    {
     "name": "stdout",
     "output_type": "stream",
     "text": [
      "===\n",
      "Extracting Springer Usage for 2000578073  -- top level= 2000578073\n",
      "..skipping.. file exists: /Volumes/Albano/2020-08-06-holding-analysis-extraction/2000578073/2000578073_usage_springer.csv\n",
      "\n",
      "======\n",
      "Checking Pre-saved Hierarchy for BPID:  8200178197 \n",
      "======\n",
      "Related BPIDs found:  2 = ['8200178197', '8200828607']\n"
     ]
    },
    {
     "data": {
      "application/vnd.jupyter.widget-view+json": {
       "model_id": "54ed52017fa747ec9467453d226331d5",
       "version_major": 2,
       "version_minor": 0
      },
      "text/plain": [
       "HBox(children=(FloatProgress(value=0.0, max=2.0), HTML(value='')))"
      ]
     },
     "metadata": {},
     "output_type": "display_data"
    },
    {
     "name": "stdout",
     "output_type": "stream",
     "text": [
      "===\n",
      "Extracting Springer Usage for 8200178197  -- top level= 8200178197\n",
      "..skipping.. file exists: /Volumes/Albano/2020-08-06-holding-analysis-extraction/8200178197/8200178197_usage_springer.csv\n",
      "===\n",
      "Extracting Springer Usage for 8200828607  -- top level= 8200178197\n",
      "..skipping.. file exists: /Volumes/Albano/2020-08-06-holding-analysis-extraction/8200178197/8200828607_usage_springer.csv\n",
      "\n",
      "======\n",
      "Checking Pre-saved Hierarchy for BPID:  3001073183 \n",
      "======\n",
      "Related BPIDs found:  1 = ['3001073183']\n"
     ]
    },
    {
     "data": {
      "application/vnd.jupyter.widget-view+json": {
       "model_id": "d6fc0bd512f743f9a87f18ffeefc7b42",
       "version_major": 2,
       "version_minor": 0
      },
      "text/plain": [
       "HBox(children=(FloatProgress(value=0.0, max=1.0), HTML(value='')))"
      ]
     },
     "metadata": {},
     "output_type": "display_data"
    },
    {
     "name": "stdout",
     "output_type": "stream",
     "text": [
      "===\n",
      "Extracting Springer Usage for 3001073183  -- top level= 3001073183\n",
      "..skipping.. file exists: /Volumes/Albano/2020-08-06-holding-analysis-extraction/3001073183/3001073183_usage_springer.csv\n",
      "\n",
      "======\n",
      "Checking Pre-saved Hierarchy for BPID:  3000604705 \n",
      "======\n",
      "Related BPIDs found:  1 = ['3000604705']\n"
     ]
    },
    {
     "data": {
      "application/vnd.jupyter.widget-view+json": {
       "model_id": "fe82b43c8e094deba1a6751481f1f8ad",
       "version_major": 2,
       "version_minor": 0
      },
      "text/plain": [
       "HBox(children=(FloatProgress(value=0.0, max=1.0), HTML(value='')))"
      ]
     },
     "metadata": {},
     "output_type": "display_data"
    },
    {
     "name": "stdout",
     "output_type": "stream",
     "text": [
      "===\n",
      "Extracting Springer Usage for 3000604705  -- top level= 3000604705\n",
      "..skipping.. file exists: /Volumes/Albano/2020-08-06-holding-analysis-extraction/3000604705/3000604705_usage_springer.csv\n",
      "\n",
      "======\n",
      "Checking Pre-saved Hierarchy for BPID:  2000354351 \n",
      "======\n",
      "Related BPIDs found:  3 = ['2000354351', '3000241936', '3991436001']\n"
     ]
    },
    {
     "data": {
      "application/vnd.jupyter.widget-view+json": {
       "model_id": "fa8750b343714ab1a427830c1e1a8a4a",
       "version_major": 2,
       "version_minor": 0
      },
      "text/plain": [
       "HBox(children=(FloatProgress(value=0.0, max=3.0), HTML(value='')))"
      ]
     },
     "metadata": {},
     "output_type": "display_data"
    },
    {
     "name": "stdout",
     "output_type": "stream",
     "text": [
      "===\n",
      "Extracting Springer Usage for 2000354351  -- top level= 2000354351\n",
      "..skipping.. file exists: /Volumes/Albano/2020-08-06-holding-analysis-extraction/2000354351/2000354351_usage_springer.csv\n",
      "===\n",
      "Extracting Springer Usage for 3000241936  -- top level= 2000354351\n",
      "..skipping.. file exists: /Volumes/Albano/2020-08-06-holding-analysis-extraction/2000354351/3000241936_usage_springer.csv\n",
      "===\n",
      "Extracting Springer Usage for 3991436001  -- top level= 2000354351\n",
      "..skipping.. file exists: /Volumes/Albano/2020-08-06-holding-analysis-extraction/2000354351/3991436001_usage_springer.csv\n",
      "\n",
      "======\n",
      "Checking Pre-saved Hierarchy for BPID:  8200724015 \n",
      "======\n",
      "Related BPIDs found:  2 = ['8200724015', '8200828607']\n"
     ]
    },
    {
     "data": {
      "application/vnd.jupyter.widget-view+json": {
       "model_id": "3bcb79fa25384f49866194b7c9ce0c7a",
       "version_major": 2,
       "version_minor": 0
      },
      "text/plain": [
       "HBox(children=(FloatProgress(value=0.0, max=2.0), HTML(value='')))"
      ]
     },
     "metadata": {},
     "output_type": "display_data"
    },
    {
     "name": "stdout",
     "output_type": "stream",
     "text": [
      "===\n",
      "Extracting Springer Usage for 8200724015  -- top level= 8200724015\n",
      "..skipping.. file exists: /Volumes/Albano/2020-08-06-holding-analysis-extraction/8200724015/8200724015_usage_springer.csv\n",
      "===\n",
      "Extracting Springer Usage for 8200828607  -- top level= 8200724015\n",
      "..skipping.. file exists: /Volumes/Albano/2020-08-06-holding-analysis-extraction/8200724015/8200828607_usage_springer.csv\n",
      "\n",
      "======\n",
      "Checking Pre-saved Hierarchy for BPID:  3000184373 \n",
      "======\n",
      "Related BPIDs found:  2 = ['3000184373', '8200828607']\n"
     ]
    },
    {
     "data": {
      "application/vnd.jupyter.widget-view+json": {
       "model_id": "d12a5f5911ef4e18b4ba17a5c9a6d24d",
       "version_major": 2,
       "version_minor": 0
      },
      "text/plain": [
       "HBox(children=(FloatProgress(value=0.0, max=2.0), HTML(value='')))"
      ]
     },
     "metadata": {},
     "output_type": "display_data"
    },
    {
     "name": "stdout",
     "output_type": "stream",
     "text": [
      "===\n",
      "Extracting Springer Usage for 3000184373  -- top level= 3000184373\n",
      "..skipping.. file exists: /Volumes/Albano/2020-08-06-holding-analysis-extraction/3000184373/3000184373_usage_springer.csv\n",
      "===\n",
      "Extracting Springer Usage for 8200828607  -- top level= 3000184373\n",
      "..skipping.. file exists: /Volumes/Albano/2020-08-06-holding-analysis-extraction/3000184373/8200828607_usage_springer.csv\n",
      "\n",
      "======\n",
      "Checking Pre-saved Hierarchy for BPID:  2000204854 \n",
      "======\n",
      "Related BPIDs found:  11 = ['2000204854', '3000137278', '3000137282', '3000192397', '3000262825', '3000262839', '3000599536', '3000824714', '3994313832', '3003169293', '3902044458']\n"
     ]
    },
    {
     "data": {
      "application/vnd.jupyter.widget-view+json": {
       "model_id": "9c66fabe49b94766803a516f1b944284",
       "version_major": 2,
       "version_minor": 0
      },
      "text/plain": [
       "HBox(children=(FloatProgress(value=0.0, max=11.0), HTML(value='')))"
      ]
     },
     "metadata": {},
     "output_type": "display_data"
    },
    {
     "name": "stdout",
     "output_type": "stream",
     "text": [
      "===\n",
      "Extracting Springer Usage for 2000204854  -- top level= 2000204854\n",
      "..skipping.. file exists: /Volumes/Albano/2020-08-06-holding-analysis-extraction/2000204854/2000204854_usage_springer.csv\n",
      "===\n",
      "Extracting Springer Usage for 3000137278  -- top level= 2000204854\n",
      "..skipping.. file exists: /Volumes/Albano/2020-08-06-holding-analysis-extraction/2000204854/3000137278_usage_springer.csv\n",
      "===\n",
      "Extracting Springer Usage for 3000137282  -- top level= 2000204854\n",
      "..skipping.. file exists: /Volumes/Albano/2020-08-06-holding-analysis-extraction/2000204854/3000137282_usage_springer.csv\n",
      "===\n",
      "Extracting Springer Usage for 3000192397  -- top level= 2000204854\n",
      "..skipping.. file exists: /Volumes/Albano/2020-08-06-holding-analysis-extraction/2000204854/3000192397_usage_springer.csv\n",
      "===\n",
      "Extracting Springer Usage for 3000262825  -- top level= 2000204854\n",
      "..skipping.. file exists: /Volumes/Albano/2020-08-06-holding-analysis-extraction/2000204854/3000262825_usage_springer.csv\n",
      "===\n",
      "Extracting Springer Usage for 3000262839  -- top level= 2000204854\n",
      "..skipping.. file exists: /Volumes/Albano/2020-08-06-holding-analysis-extraction/2000204854/3000262839_usage_springer.csv\n",
      "===\n",
      "Extracting Springer Usage for 3000599536  -- top level= 2000204854\n",
      "..skipping.. file exists: /Volumes/Albano/2020-08-06-holding-analysis-extraction/2000204854/3000599536_usage_springer.csv\n",
      "===\n",
      "Extracting Springer Usage for 3000824714  -- top level= 2000204854\n",
      "..skipping.. file exists: /Volumes/Albano/2020-08-06-holding-analysis-extraction/2000204854/3000824714_usage_springer.csv\n",
      "===\n",
      "Extracting Springer Usage for 3994313832  -- top level= 2000204854\n",
      "..skipping.. file exists: /Volumes/Albano/2020-08-06-holding-analysis-extraction/2000204854/3994313832_usage_springer.csv\n",
      "===\n",
      "Extracting Springer Usage for 3003169293  -- top level= 2000204854\n",
      "..skipping.. file exists: /Volumes/Albano/2020-08-06-holding-analysis-extraction/2000204854/3003169293_usage_springer.csv\n",
      "===\n",
      "Extracting Springer Usage for 3902044458  -- top level= 2000204854\n",
      "..skipping.. file exists: /Volumes/Albano/2020-08-06-holding-analysis-extraction/2000204854/3902044458_usage_springer.csv\n",
      "\n",
      "======\n",
      "Checking Pre-saved Hierarchy for BPID:  2000553014 \n",
      "======\n",
      "Related BPIDs found:  1 = ['2000553014']\n"
     ]
    },
    {
     "data": {
      "application/vnd.jupyter.widget-view+json": {
       "model_id": "d01cd0aa09d04ab1b3df9b9503485fc4",
       "version_major": 2,
       "version_minor": 0
      },
      "text/plain": [
       "HBox(children=(FloatProgress(value=0.0, max=1.0), HTML(value='')))"
      ]
     },
     "metadata": {},
     "output_type": "display_data"
    },
    {
     "name": "stdout",
     "output_type": "stream",
     "text": [
      "===\n",
      "Extracting Springer Usage for 2000553014  -- top level= 2000553014\n",
      "..skipping.. file exists: /Volumes/Albano/2020-08-06-holding-analysis-extraction/2000553014/2000553014_usage_springer.csv\n",
      "\n",
      "======\n",
      "Checking Pre-saved Hierarchy for BPID:  3000612920 \n",
      "======\n",
      "Related BPIDs found:  2 = ['3000612920', '3003777848']\n"
     ]
    },
    {
     "data": {
      "application/vnd.jupyter.widget-view+json": {
       "model_id": "a6cef1ae82394178bc456a4c02bf14c5",
       "version_major": 2,
       "version_minor": 0
      },
      "text/plain": [
       "HBox(children=(FloatProgress(value=0.0, max=2.0), HTML(value='')))"
      ]
     },
     "metadata": {},
     "output_type": "display_data"
    },
    {
     "name": "stdout",
     "output_type": "stream",
     "text": [
      "===\n",
      "Extracting Springer Usage for 3000612920  -- top level= 3000612920\n",
      "..skipping.. file exists: /Volumes/Albano/2020-08-06-holding-analysis-extraction/3000612920/3000612920_usage_springer.csv\n",
      "===\n",
      "Extracting Springer Usage for 3003777848  -- top level= 3000612920\n",
      "..skipping.. file exists: /Volumes/Albano/2020-08-06-holding-analysis-extraction/3000612920/3003777848_usage_springer.csv\n",
      "\n",
      "======\n",
      "Checking Pre-saved Hierarchy for BPID:  2000532537 \n",
      "======\n",
      "Related BPIDs found:  4 = ['2000532537', '3000180695', '3000174968', '3994475188']\n"
     ]
    },
    {
     "data": {
      "application/vnd.jupyter.widget-view+json": {
       "model_id": "4e7aa90721ae4f5a873df3e8ec680ea7",
       "version_major": 2,
       "version_minor": 0
      },
      "text/plain": [
       "HBox(children=(FloatProgress(value=0.0, max=4.0), HTML(value='')))"
      ]
     },
     "metadata": {},
     "output_type": "display_data"
    },
    {
     "name": "stdout",
     "output_type": "stream",
     "text": [
      "===\n",
      "Extracting Springer Usage for 2000532537  -- top level= 2000532537\n",
      "..skipping.. file exists: /Volumes/Albano/2020-08-06-holding-analysis-extraction/2000532537/2000532537_usage_springer.csv\n",
      "===\n",
      "Extracting Springer Usage for 3000180695  -- top level= 2000532537\n",
      "..skipping.. file exists: /Volumes/Albano/2020-08-06-holding-analysis-extraction/2000532537/3000180695_usage_springer.csv\n",
      "===\n",
      "Extracting Springer Usage for 3000174968  -- top level= 2000532537\n",
      "..skipping.. file exists: /Volumes/Albano/2020-08-06-holding-analysis-extraction/2000532537/3000174968_usage_springer.csv\n",
      "===\n",
      "Extracting Springer Usage for 3994475188  -- top level= 2000532537\n",
      "..skipping.. file exists: /Volumes/Albano/2020-08-06-holding-analysis-extraction/2000532537/3994475188_usage_springer.csv\n",
      "\n",
      "======\n",
      "Checking Pre-saved Hierarchy for BPID:  3991332406 \n",
      "======\n",
      "Related BPIDs found:  2 = ['3991332406', '3000142563']\n"
     ]
    },
    {
     "data": {
      "application/vnd.jupyter.widget-view+json": {
       "model_id": "db39f124592647c497ecb8f68aec8281",
       "version_major": 2,
       "version_minor": 0
      },
      "text/plain": [
       "HBox(children=(FloatProgress(value=0.0, max=2.0), HTML(value='')))"
      ]
     },
     "metadata": {},
     "output_type": "display_data"
    },
    {
     "name": "stdout",
     "output_type": "stream",
     "text": [
      "===\n",
      "Extracting Springer Usage for 3991332406  -- top level= 3991332406\n",
      "..skipping.. file exists: /Volumes/Albano/2020-08-06-holding-analysis-extraction/3991332406/3991332406_usage_springer.csv\n",
      "===\n",
      "Extracting Springer Usage for 3000142563  -- top level= 3991332406\n",
      "..skipping.. file exists: /Volumes/Albano/2020-08-06-holding-analysis-extraction/3991332406/3000142563_usage_springer.csv\n",
      "\n",
      "======\n",
      "Checking Pre-saved Hierarchy for BPID:  3000133174 \n",
      "======\n",
      "Related BPIDs found:  3 = ['3000133174', '8200828607', '3000176756']\n"
     ]
    },
    {
     "data": {
      "application/vnd.jupyter.widget-view+json": {
       "model_id": "4810b3abe54643b0b67f990a201b6df5",
       "version_major": 2,
       "version_minor": 0
      },
      "text/plain": [
       "HBox(children=(FloatProgress(value=0.0, max=3.0), HTML(value='')))"
      ]
     },
     "metadata": {},
     "output_type": "display_data"
    },
    {
     "name": "stdout",
     "output_type": "stream",
     "text": [
      "===\n",
      "Extracting Springer Usage for 3000133174  -- top level= 3000133174\n",
      "..skipping.. file exists: /Volumes/Albano/2020-08-06-holding-analysis-extraction/3000133174/3000133174_usage_springer.csv\n",
      "===\n",
      "Extracting Springer Usage for 8200828607  -- top level= 3000133174\n",
      "..skipping.. file exists: /Volumes/Albano/2020-08-06-holding-analysis-extraction/3000133174/8200828607_usage_springer.csv\n",
      "===\n",
      "Extracting Springer Usage for 3000176756  -- top level= 3000133174\n",
      "..skipping.. file exists: /Volumes/Albano/2020-08-06-holding-analysis-extraction/3000133174/3000176756_usage_springer.csv\n",
      "\n",
      "======\n",
      "Checking Pre-saved Hierarchy for BPID:  8200708154 \n",
      "======\n",
      "Related BPIDs found:  2 = ['8200708154', '8200828607']\n"
     ]
    },
    {
     "data": {
      "application/vnd.jupyter.widget-view+json": {
       "model_id": "ae48cc024c774f73b1bc57ddab2339e8",
       "version_major": 2,
       "version_minor": 0
      },
      "text/plain": [
       "HBox(children=(FloatProgress(value=0.0, max=2.0), HTML(value='')))"
      ]
     },
     "metadata": {},
     "output_type": "display_data"
    },
    {
     "name": "stdout",
     "output_type": "stream",
     "text": [
      "===\n",
      "Extracting Springer Usage for 8200708154  -- top level= 8200708154\n",
      "..skipping.. file exists: /Volumes/Albano/2020-08-06-holding-analysis-extraction/8200708154/8200708154_usage_springer.csv\n",
      "===\n",
      "Extracting Springer Usage for 8200828607  -- top level= 8200708154\n",
      "..skipping.. file exists: /Volumes/Albano/2020-08-06-holding-analysis-extraction/8200708154/8200828607_usage_springer.csv\n",
      "\n",
      "======\n",
      "Checking Pre-saved Hierarchy for BPID:  3000163392 \n",
      "======\n",
      "Related BPIDs found:  5 = ['3000163392', '3991330314', '3001139967', '3002011430', '3002114477']\n"
     ]
    },
    {
     "data": {
      "application/vnd.jupyter.widget-view+json": {
       "model_id": "744a8c66d5da4a83aa8d6e88e454e9a5",
       "version_major": 2,
       "version_minor": 0
      },
      "text/plain": [
       "HBox(children=(FloatProgress(value=0.0, max=5.0), HTML(value='')))"
      ]
     },
     "metadata": {},
     "output_type": "display_data"
    },
    {
     "name": "stdout",
     "output_type": "stream",
     "text": [
      "===\n",
      "Extracting Springer Usage for 3000163392  -- top level= 3000163392\n",
      "..skipping.. file exists: /Volumes/Albano/2020-08-06-holding-analysis-extraction/3000163392/3000163392_usage_springer.csv\n",
      "===\n",
      "Extracting Springer Usage for 3991330314  -- top level= 3000163392\n",
      "..skipping.. file exists: /Volumes/Albano/2020-08-06-holding-analysis-extraction/3000163392/3991330314_usage_springer.csv\n",
      "===\n",
      "Extracting Springer Usage for 3001139967  -- top level= 3000163392\n",
      "..skipping.. file exists: /Volumes/Albano/2020-08-06-holding-analysis-extraction/3000163392/3001139967_usage_springer.csv\n",
      "===\n",
      "Extracting Springer Usage for 3002011430  -- top level= 3000163392\n",
      "..skipping.. file exists: /Volumes/Albano/2020-08-06-holding-analysis-extraction/3000163392/3002011430_usage_springer.csv\n",
      "===\n",
      "Extracting Springer Usage for 3002114477  -- top level= 3000163392\n",
      "..skipping.. file exists: /Volumes/Albano/2020-08-06-holding-analysis-extraction/3000163392/3002114477_usage_springer.csv\n",
      "\n",
      "======\n",
      "Checking Pre-saved Hierarchy for BPID:  8201005121 \n",
      "======\n",
      "Related BPIDs found:  2 = ['8201005121', '8200828607']\n"
     ]
    },
    {
     "data": {
      "application/vnd.jupyter.widget-view+json": {
       "model_id": "eb248d11dc294ff8a6ad34d4326a454d",
       "version_major": 2,
       "version_minor": 0
      },
      "text/plain": [
       "HBox(children=(FloatProgress(value=0.0, max=2.0), HTML(value='')))"
      ]
     },
     "metadata": {},
     "output_type": "display_data"
    },
    {
     "name": "stdout",
     "output_type": "stream",
     "text": [
      "===\n",
      "Extracting Springer Usage for 8201005121  -- top level= 8201005121\n",
      "..skipping.. file exists: /Volumes/Albano/2020-08-06-holding-analysis-extraction/8201005121/8201005121_usage_springer.csv\n",
      "===\n",
      "Extracting Springer Usage for 8200828607  -- top level= 8201005121\n",
      "..skipping.. file exists: /Volumes/Albano/2020-08-06-holding-analysis-extraction/8201005121/8200828607_usage_springer.csv\n",
      "\n",
      "======\n",
      "Checking Pre-saved Hierarchy for BPID:  3002013254 \n",
      "======\n",
      "Related BPIDs found:  1 = ['3002013254']\n"
     ]
    },
    {
     "data": {
      "application/vnd.jupyter.widget-view+json": {
       "model_id": "5ad49100f9c641d58f0784c43a4fe512",
       "version_major": 2,
       "version_minor": 0
      },
      "text/plain": [
       "HBox(children=(FloatProgress(value=0.0, max=1.0), HTML(value='')))"
      ]
     },
     "metadata": {},
     "output_type": "display_data"
    },
    {
     "name": "stdout",
     "output_type": "stream",
     "text": [
      "===\n",
      "Extracting Springer Usage for 3002013254  -- top level= 3002013254\n",
      "..skipping.. file exists: /Volumes/Albano/2020-08-06-holding-analysis-extraction/3002013254/3002013254_usage_springer.csv\n",
      "\n",
      "======\n",
      "Checking Pre-saved Hierarchy for BPID:  8200400967 \n",
      "======\n",
      "Related BPIDs found:  4 = ['8200400967', '3000176734', '8200828607', '3902328142']\n"
     ]
    },
    {
     "data": {
      "application/vnd.jupyter.widget-view+json": {
       "model_id": "67f094c8abe7424caaa0e9cd52a68572",
       "version_major": 2,
       "version_minor": 0
      },
      "text/plain": [
       "HBox(children=(FloatProgress(value=0.0, max=4.0), HTML(value='')))"
      ]
     },
     "metadata": {},
     "output_type": "display_data"
    },
    {
     "name": "stdout",
     "output_type": "stream",
     "text": [
      "===\n",
      "Extracting Springer Usage for 8200400967  -- top level= 8200400967\n",
      "..skipping.. file exists: /Volumes/Albano/2020-08-06-holding-analysis-extraction/8200400967/8200400967_usage_springer.csv\n",
      "===\n",
      "Extracting Springer Usage for 3000176734  -- top level= 8200400967\n",
      "..skipping.. file exists: /Volumes/Albano/2020-08-06-holding-analysis-extraction/8200400967/3000176734_usage_springer.csv\n",
      "===\n",
      "Extracting Springer Usage for 8200828607  -- top level= 8200400967\n",
      "..skipping.. file exists: /Volumes/Albano/2020-08-06-holding-analysis-extraction/8200400967/8200828607_usage_springer.csv\n",
      "===\n",
      "Extracting Springer Usage for 3902328142  -- top level= 8200400967\n",
      "..skipping.. file exists: /Volumes/Albano/2020-08-06-holding-analysis-extraction/8200400967/3902328142_usage_springer.csv\n",
      "\n",
      "======\n",
      "Checking Pre-saved Hierarchy for BPID:  3000212040 \n",
      "======\n",
      "Related BPIDs found:  3 = ['3000212040', '3000155420', '3003532199']\n"
     ]
    },
    {
     "data": {
      "application/vnd.jupyter.widget-view+json": {
       "model_id": "7c2a1ea4e7c34b1d84aa0f4548034133",
       "version_major": 2,
       "version_minor": 0
      },
      "text/plain": [
       "HBox(children=(FloatProgress(value=0.0, max=3.0), HTML(value='')))"
      ]
     },
     "metadata": {},
     "output_type": "display_data"
    },
    {
     "name": "stdout",
     "output_type": "stream",
     "text": [
      "===\n",
      "Extracting Springer Usage for 3000212040  -- top level= 3000212040\n",
      "..skipping.. file exists: /Volumes/Albano/2020-08-06-holding-analysis-extraction/3000212040/3000212040_usage_springer.csv\n",
      "===\n",
      "Extracting Springer Usage for 3000155420  -- top level= 3000212040\n",
      "..skipping.. file exists: /Volumes/Albano/2020-08-06-holding-analysis-extraction/3000212040/3000155420_usage_springer.csv\n",
      "===\n",
      "Extracting Springer Usage for 3003532199  -- top level= 3000212040\n",
      "..skipping.. file exists: /Volumes/Albano/2020-08-06-holding-analysis-extraction/3000212040/3003532199_usage_springer.csv\n",
      "\n",
      "======\n",
      "Checking Pre-saved Hierarchy for BPID:  3000210508 \n",
      "======\n",
      "Related BPIDs found:  1 = ['3000210508']\n"
     ]
    },
    {
     "data": {
      "application/vnd.jupyter.widget-view+json": {
       "model_id": "b552b807dc484fa0b8d817bf4c95cbc0",
       "version_major": 2,
       "version_minor": 0
      },
      "text/plain": [
       "HBox(children=(FloatProgress(value=0.0, max=1.0), HTML(value='')))"
      ]
     },
     "metadata": {},
     "output_type": "display_data"
    },
    {
     "name": "stdout",
     "output_type": "stream",
     "text": [
      "===\n",
      "Extracting Springer Usage for 3000210508  -- top level= 3000210508\n",
      "..skipping.. file exists: /Volumes/Albano/2020-08-06-holding-analysis-extraction/3000210508/3000210508_usage_springer.csv\n",
      "\n",
      "======\n",
      "Checking Pre-saved Hierarchy for BPID:  8200832077 \n",
      "======\n",
      "Related BPIDs found:  2 = ['8200832077', '8200828607']\n"
     ]
    },
    {
     "data": {
      "application/vnd.jupyter.widget-view+json": {
       "model_id": "a3c06e48e19e4ad19c9aa7a808c7ec4a",
       "version_major": 2,
       "version_minor": 0
      },
      "text/plain": [
       "HBox(children=(FloatProgress(value=0.0, max=2.0), HTML(value='')))"
      ]
     },
     "metadata": {},
     "output_type": "display_data"
    },
    {
     "name": "stdout",
     "output_type": "stream",
     "text": [
      "===\n",
      "Extracting Springer Usage for 8200832077  -- top level= 8200832077\n",
      "..skipping.. file exists: /Volumes/Albano/2020-08-06-holding-analysis-extraction/8200832077/8200832077_usage_springer.csv\n",
      "===\n",
      "Extracting Springer Usage for 8200828607  -- top level= 8200832077\n",
      "..skipping.. file exists: /Volumes/Albano/2020-08-06-holding-analysis-extraction/8200832077/8200828607_usage_springer.csv\n",
      "\n",
      "======\n",
      "Checking Pre-saved Hierarchy for BPID:  3000144974 \n",
      "======\n",
      "Related BPIDs found:  4 = ['3000144974', '3000180852', '3003532199', '3000155420']\n"
     ]
    },
    {
     "data": {
      "application/vnd.jupyter.widget-view+json": {
       "model_id": "72454316aa8249e3a73ea0ed182e4587",
       "version_major": 2,
       "version_minor": 0
      },
      "text/plain": [
       "HBox(children=(FloatProgress(value=0.0, max=4.0), HTML(value='')))"
      ]
     },
     "metadata": {},
     "output_type": "display_data"
    },
    {
     "name": "stdout",
     "output_type": "stream",
     "text": [
      "===\n",
      "Extracting Springer Usage for 3000144974  -- top level= 3000144974\n",
      "..skipping.. file exists: /Volumes/Albano/2020-08-06-holding-analysis-extraction/3000144974/3000144974_usage_springer.csv\n",
      "===\n",
      "Extracting Springer Usage for 3000180852  -- top level= 3000144974\n",
      "..skipping.. file exists: /Volumes/Albano/2020-08-06-holding-analysis-extraction/3000144974/3000180852_usage_springer.csv\n",
      "===\n",
      "Extracting Springer Usage for 3003532199  -- top level= 3000144974\n",
      "..skipping.. file exists: /Volumes/Albano/2020-08-06-holding-analysis-extraction/3000144974/3003532199_usage_springer.csv\n",
      "===\n",
      "Extracting Springer Usage for 3000155420  -- top level= 3000144974\n",
      "..skipping.. file exists: /Volumes/Albano/2020-08-06-holding-analysis-extraction/3000144974/3000155420_usage_springer.csv\n",
      "\n",
      "======\n",
      "Checking Pre-saved Hierarchy for BPID:  3000146511 \n",
      "======\n",
      "Related BPIDs found:  2 = ['3000146511', '3000675571']\n"
     ]
    },
    {
     "data": {
      "application/vnd.jupyter.widget-view+json": {
       "model_id": "3077723d9eab468a9b566c1f52030069",
       "version_major": 2,
       "version_minor": 0
      },
      "text/plain": [
       "HBox(children=(FloatProgress(value=0.0, max=2.0), HTML(value='')))"
      ]
     },
     "metadata": {},
     "output_type": "display_data"
    },
    {
     "name": "stdout",
     "output_type": "stream",
     "text": [
      "===\n",
      "Extracting Springer Usage for 3000146511  -- top level= 3000146511\n",
      "..skipping.. file exists: /Volumes/Albano/2020-08-06-holding-analysis-extraction/3000146511/3000146511_usage_springer.csv\n",
      "===\n",
      "Extracting Springer Usage for 3000675571  -- top level= 3000146511\n",
      "..skipping.. file exists: /Volumes/Albano/2020-08-06-holding-analysis-extraction/3000146511/3000675571_usage_springer.csv\n",
      "\n",
      "======\n",
      "Checking Pre-saved Hierarchy for BPID:  8200699471 \n",
      "======\n",
      "Related BPIDs found:  2 = ['8200699471', '8200828607']\n"
     ]
    },
    {
     "data": {
      "application/vnd.jupyter.widget-view+json": {
       "model_id": "6c160c6014af4295a9d10c7dd1982de5",
       "version_major": 2,
       "version_minor": 0
      },
      "text/plain": [
       "HBox(children=(FloatProgress(value=0.0, max=2.0), HTML(value='')))"
      ]
     },
     "metadata": {},
     "output_type": "display_data"
    },
    {
     "name": "stdout",
     "output_type": "stream",
     "text": [
      "===\n",
      "Extracting Springer Usage for 8200699471  -- top level= 8200699471\n",
      "..skipping.. file exists: /Volumes/Albano/2020-08-06-holding-analysis-extraction/8200699471/8200699471_usage_springer.csv\n",
      "===\n",
      "Extracting Springer Usage for 8200828607  -- top level= 8200699471\n",
      "..skipping.. file exists: /Volumes/Albano/2020-08-06-holding-analysis-extraction/8200699471/8200828607_usage_springer.csv\n",
      "\n",
      "======\n",
      "Checking Pre-saved Hierarchy for BPID:  2000341081 \n",
      "======\n",
      "Related BPIDs found:  1 = ['2000341081']\n"
     ]
    },
    {
     "data": {
      "application/vnd.jupyter.widget-view+json": {
       "model_id": "ff81ef40080b415583e426bbfd072edc",
       "version_major": 2,
       "version_minor": 0
      },
      "text/plain": [
       "HBox(children=(FloatProgress(value=0.0, max=1.0), HTML(value='')))"
      ]
     },
     "metadata": {},
     "output_type": "display_data"
    },
    {
     "name": "stdout",
     "output_type": "stream",
     "text": [
      "===\n",
      "Extracting Springer Usage for 2000341081  -- top level= 2000341081\n",
      "..skipping.. file exists: /Volumes/Albano/2020-08-06-holding-analysis-extraction/2000341081/2000341081_usage_springer.csv\n",
      "\n",
      "======\n",
      "Checking Pre-saved Hierarchy for BPID:  2000494169 \n",
      "======\n",
      "Related BPIDs found:  4 = ['2000494169', '3000251368', '3000593105', '3000130631']\n"
     ]
    },
    {
     "data": {
      "application/vnd.jupyter.widget-view+json": {
       "model_id": "d25563c090d4463c91640a88d3962696",
       "version_major": 2,
       "version_minor": 0
      },
      "text/plain": [
       "HBox(children=(FloatProgress(value=0.0, max=4.0), HTML(value='')))"
      ]
     },
     "metadata": {},
     "output_type": "display_data"
    },
    {
     "name": "stdout",
     "output_type": "stream",
     "text": [
      "===\n",
      "Extracting Springer Usage for 2000494169  -- top level= 2000494169\n",
      "..skipping.. file exists: /Volumes/Albano/2020-08-06-holding-analysis-extraction/2000494169/2000494169_usage_springer.csv\n",
      "===\n",
      "Extracting Springer Usage for 3000251368  -- top level= 2000494169\n",
      "..skipping.. file exists: /Volumes/Albano/2020-08-06-holding-analysis-extraction/2000494169/3000251368_usage_springer.csv\n",
      "===\n",
      "Extracting Springer Usage for 3000593105  -- top level= 2000494169\n",
      "..skipping.. file exists: /Volumes/Albano/2020-08-06-holding-analysis-extraction/2000494169/3000593105_usage_springer.csv\n",
      "===\n",
      "Extracting Springer Usage for 3000130631  -- top level= 2000494169\n",
      "..skipping.. file exists: /Volumes/Albano/2020-08-06-holding-analysis-extraction/2000494169/3000130631_usage_springer.csv\n",
      "\n",
      "======\n",
      "Checking Pre-saved Hierarchy for BPID:  3002174042 \n",
      "======\n",
      "Related BPIDs found:  1 = ['3002174042']\n"
     ]
    },
    {
     "data": {
      "application/vnd.jupyter.widget-view+json": {
       "model_id": "4de23d6c120e48c3bec9c26f7584fa8c",
       "version_major": 2,
       "version_minor": 0
      },
      "text/plain": [
       "HBox(children=(FloatProgress(value=0.0, max=1.0), HTML(value='')))"
      ]
     },
     "metadata": {},
     "output_type": "display_data"
    },
    {
     "name": "stdout",
     "output_type": "stream",
     "text": [
      "===\n",
      "Extracting Springer Usage for 3002174042  -- top level= 3002174042\n",
      "..skipping.. file exists: /Volumes/Albano/2020-08-06-holding-analysis-extraction/3002174042/3002174042_usage_springer.csv\n",
      "\n",
      "======\n",
      "Checking Pre-saved Hierarchy for BPID:  3000212068 \n",
      "======\n",
      "Related BPIDs found:  3 = ['3000212068', '3000155420', '3003532199']\n"
     ]
    },
    {
     "data": {
      "application/vnd.jupyter.widget-view+json": {
       "model_id": "f00fefd94e894d95acc87ed9a49d6678",
       "version_major": 2,
       "version_minor": 0
      },
      "text/plain": [
       "HBox(children=(FloatProgress(value=0.0, max=3.0), HTML(value='')))"
      ]
     },
     "metadata": {},
     "output_type": "display_data"
    },
    {
     "name": "stdout",
     "output_type": "stream",
     "text": [
      "===\n",
      "Extracting Springer Usage for 3000212068  -- top level= 3000212068\n",
      "..skipping.. file exists: /Volumes/Albano/2020-08-06-holding-analysis-extraction/3000212068/3000212068_usage_springer.csv\n",
      "===\n",
      "Extracting Springer Usage for 3000155420  -- top level= 3000212068\n",
      "..skipping.. file exists: /Volumes/Albano/2020-08-06-holding-analysis-extraction/3000212068/3000155420_usage_springer.csv\n",
      "===\n",
      "Extracting Springer Usage for 3003532199  -- top level= 3000212068\n",
      "..skipping.. file exists: /Volumes/Albano/2020-08-06-holding-analysis-extraction/3000212068/3003532199_usage_springer.csv\n",
      "\n",
      "======\n",
      "Checking Pre-saved Hierarchy for BPID:  3000482404 \n",
      "======\n",
      "Related BPIDs found:  1 = ['3000482404']\n"
     ]
    },
    {
     "data": {
      "application/vnd.jupyter.widget-view+json": {
       "model_id": "0fa5149df31a467a97560a07d3e4c710",
       "version_major": 2,
       "version_minor": 0
      },
      "text/plain": [
       "HBox(children=(FloatProgress(value=0.0, max=1.0), HTML(value='')))"
      ]
     },
     "metadata": {},
     "output_type": "display_data"
    },
    {
     "name": "stdout",
     "output_type": "stream",
     "text": [
      "===\n",
      "Extracting Springer Usage for 3000482404  -- top level= 3000482404\n",
      "..skipping.. file exists: /Volumes/Albano/2020-08-06-holding-analysis-extraction/3000482404/3000482404_usage_springer.csv\n",
      "\n",
      "======\n",
      "Checking Pre-saved Hierarchy for BPID:  30036927080 \n",
      "======\n",
      "++++ ERROR ++++\n",
      "Errors index = [3003695120, 30036927080]\n"
     ]
    },
    {
     "data": {
      "application/vnd.jupyter.widget-view+json": {
       "model_id": "09b5d30ab901491c96c93caa16a6002d",
       "version_major": 2,
       "version_minor": 0
      },
      "text/plain": [
       "HBox(children=(FloatProgress(value=1.0, bar_style='info', max=1.0), HTML(value='')))"
      ]
     },
     "metadata": {},
     "output_type": "display_data"
    },
    {
     "name": "stdout",
     "output_type": "stream",
     "text": [
      "\n",
      "======\n",
      "Checking Pre-saved Hierarchy for BPID:  2000125546 \n",
      "======\n",
      "Related BPIDs found:  1 = ['2000125546']\n"
     ]
    },
    {
     "data": {
      "application/vnd.jupyter.widget-view+json": {
       "model_id": "9b69d349229341029a19cdbd2499f643",
       "version_major": 2,
       "version_minor": 0
      },
      "text/plain": [
       "HBox(children=(FloatProgress(value=0.0, max=1.0), HTML(value='')))"
      ]
     },
     "metadata": {},
     "output_type": "display_data"
    },
    {
     "name": "stdout",
     "output_type": "stream",
     "text": [
      "===\n",
      "Extracting Springer Usage for 2000125546  -- top level= 2000125546\n",
      "..skipping.. file exists: /Volumes/Albano/2020-08-06-holding-analysis-extraction/2000125546/2000125546_usage_springer.csv\n",
      "\n",
      "======\n",
      "Checking Pre-saved Hierarchy for BPID:  3003526252 \n",
      "======\n",
      "Related BPIDs found:  1 = ['3003526252']\n"
     ]
    },
    {
     "data": {
      "application/vnd.jupyter.widget-view+json": {
       "model_id": "ca5916b0a7bc4c1ead68365dd64079e3",
       "version_major": 2,
       "version_minor": 0
      },
      "text/plain": [
       "HBox(children=(FloatProgress(value=0.0, max=1.0), HTML(value='')))"
      ]
     },
     "metadata": {},
     "output_type": "display_data"
    },
    {
     "name": "stdout",
     "output_type": "stream",
     "text": [
      "===\n",
      "Extracting Springer Usage for 3003526252  -- top level= 3003526252\n",
      "..skipping.. file exists: /Volumes/Albano/2020-08-06-holding-analysis-extraction/3003526252/3003526252_usage_springer.csv\n",
      "\n",
      "======\n",
      "Checking Pre-saved Hierarchy for BPID:  8200177774 \n",
      "======\n",
      "Related BPIDs found:  2 = ['8200177774', '8200828607']\n"
     ]
    },
    {
     "data": {
      "application/vnd.jupyter.widget-view+json": {
       "model_id": "1426445b186a48a9bc416ef390e32683",
       "version_major": 2,
       "version_minor": 0
      },
      "text/plain": [
       "HBox(children=(FloatProgress(value=0.0, max=2.0), HTML(value='')))"
      ]
     },
     "metadata": {},
     "output_type": "display_data"
    },
    {
     "name": "stdout",
     "output_type": "stream",
     "text": [
      "===\n",
      "Extracting Springer Usage for 8200177774  -- top level= 8200177774\n",
      "..skipping.. file exists: /Volumes/Albano/2020-08-06-holding-analysis-extraction/8200177774/8200177774_usage_springer.csv\n",
      "===\n",
      "Extracting Springer Usage for 8200828607  -- top level= 8200177774\n",
      "..skipping.. file exists: /Volumes/Albano/2020-08-06-holding-analysis-extraction/8200177774/8200828607_usage_springer.csv\n",
      "\n",
      "======\n",
      "Checking Pre-saved Hierarchy for BPID:  2000516724 \n",
      "======\n",
      "Related BPIDs found:  12 = ['2000516724', '3000137278', '3000137282', '3000192397', '3000196714', '3000262825', '3000262839', '3000599536', '3000824714', '3994313832', '3003169293', '3902044458']\n"
     ]
    },
    {
     "data": {
      "application/vnd.jupyter.widget-view+json": {
       "model_id": "1fed14b3e8014b72b9971af01167d49a",
       "version_major": 2,
       "version_minor": 0
      },
      "text/plain": [
       "HBox(children=(FloatProgress(value=0.0, max=12.0), HTML(value='')))"
      ]
     },
     "metadata": {},
     "output_type": "display_data"
    },
    {
     "name": "stdout",
     "output_type": "stream",
     "text": [
      "===\n",
      "Extracting Springer Usage for 2000516724  -- top level= 2000516724\n",
      "..skipping.. file exists: /Volumes/Albano/2020-08-06-holding-analysis-extraction/2000516724/2000516724_usage_springer.csv\n",
      "===\n",
      "Extracting Springer Usage for 3000137278  -- top level= 2000516724\n",
      "..skipping.. file exists: /Volumes/Albano/2020-08-06-holding-analysis-extraction/2000516724/3000137278_usage_springer.csv\n",
      "===\n",
      "Extracting Springer Usage for 3000137282  -- top level= 2000516724\n",
      "..saving.. /Volumes/Albano/2020-08-06-holding-analysis-extraction/2000516724/3000137282_usage_springer.csv\n",
      "===\n",
      "Extracting Springer Usage for 3000192397  -- top level= 2000516724\n",
      "..saving.. /Volumes/Albano/2020-08-06-holding-analysis-extraction/2000516724/3000192397_usage_springer.csv\n",
      "===\n",
      "Extracting Springer Usage for 3000196714  -- top level= 2000516724\n",
      "..saving.. /Volumes/Albano/2020-08-06-holding-analysis-extraction/2000516724/3000196714_usage_springer.csv\n",
      "===\n",
      "Extracting Springer Usage for 3000262825  -- top level= 2000516724\n",
      "..saving.. /Volumes/Albano/2020-08-06-holding-analysis-extraction/2000516724/3000262825_usage_springer.csv\n",
      "===\n",
      "Extracting Springer Usage for 3000262839  -- top level= 2000516724\n",
      "..saving.. /Volumes/Albano/2020-08-06-holding-analysis-extraction/2000516724/3000262839_usage_springer.csv\n",
      "===\n",
      "Extracting Springer Usage for 3000599536  -- top level= 2000516724\n",
      "..saving.. /Volumes/Albano/2020-08-06-holding-analysis-extraction/2000516724/3000599536_usage_springer.csv\n",
      "===\n",
      "Extracting Springer Usage for 3000824714  -- top level= 2000516724\n",
      "..saving.. /Volumes/Albano/2020-08-06-holding-analysis-extraction/2000516724/3000824714_usage_springer.csv\n",
      "===\n",
      "Extracting Springer Usage for 3994313832  -- top level= 2000516724\n",
      "..saving.. /Volumes/Albano/2020-08-06-holding-analysis-extraction/2000516724/3994313832_usage_springer.csv\n",
      "===\n",
      "Extracting Springer Usage for 3003169293  -- top level= 2000516724\n",
      "..saving.. /Volumes/Albano/2020-08-06-holding-analysis-extraction/2000516724/3003169293_usage_springer.csv\n",
      "===\n",
      "Extracting Springer Usage for 3902044458  -- top level= 2000516724\n",
      "..saving.. /Volumes/Albano/2020-08-06-holding-analysis-extraction/2000516724/3902044458_usage_springer.csv\n",
      "\n",
      "======\n",
      "Checking Pre-saved Hierarchy for BPID:  2000578695 \n",
      "======\n",
      "Related BPIDs found:  5 = ['2000578695', '3001139967', '3991330314', '3002011430', '3002114477']\n"
     ]
    },
    {
     "data": {
      "application/vnd.jupyter.widget-view+json": {
       "model_id": "1c3e0ee1f14744689eba7e2b60c2b852",
       "version_major": 2,
       "version_minor": 0
      },
      "text/plain": [
       "HBox(children=(FloatProgress(value=0.0, max=5.0), HTML(value='')))"
      ]
     },
     "metadata": {},
     "output_type": "display_data"
    },
    {
     "name": "stdout",
     "output_type": "stream",
     "text": [
      "===\n",
      "Extracting Springer Usage for 2000578695  -- top level= 2000578695\n",
      "..saving.. /Volumes/Albano/2020-08-06-holding-analysis-extraction/2000578695/2000578695_usage_springer.csv\n",
      "===\n",
      "Extracting Springer Usage for 3001139967  -- top level= 2000578695\n",
      "..saving.. /Volumes/Albano/2020-08-06-holding-analysis-extraction/2000578695/3001139967_usage_springer.csv\n",
      "===\n",
      "Extracting Springer Usage for 3991330314  -- top level= 2000578695\n",
      "..saving.. /Volumes/Albano/2020-08-06-holding-analysis-extraction/2000578695/3991330314_usage_springer.csv\n",
      "===\n",
      "Extracting Springer Usage for 3002011430  -- top level= 2000578695\n",
      "..saving.. /Volumes/Albano/2020-08-06-holding-analysis-extraction/2000578695/3002011430_usage_springer.csv\n",
      "===\n",
      "Extracting Springer Usage for 3002114477  -- top level= 2000578695\n",
      "..saving.. /Volumes/Albano/2020-08-06-holding-analysis-extraction/2000578695/3002114477_usage_springer.csv\n",
      "\n",
      "======\n",
      "Checking Pre-saved Hierarchy for BPID:  2000262282 \n",
      "======\n",
      "Related BPIDs found:  6 = ['2000262282', '3000130459', '3000251517', '3001139967', '3002011430', '3002114477']\n"
     ]
    },
    {
     "data": {
      "application/vnd.jupyter.widget-view+json": {
       "model_id": "59364108bf5546449ecb06ad99eff354",
       "version_major": 2,
       "version_minor": 0
      },
      "text/plain": [
       "HBox(children=(FloatProgress(value=0.0, max=6.0), HTML(value='')))"
      ]
     },
     "metadata": {},
     "output_type": "display_data"
    },
    {
     "name": "stdout",
     "output_type": "stream",
     "text": [
      "===\n",
      "Extracting Springer Usage for 2000262282  -- top level= 2000262282\n",
      "..saving.. /Volumes/Albano/2020-08-06-holding-analysis-extraction/2000262282/2000262282_usage_springer.csv\n",
      "===\n",
      "Extracting Springer Usage for 3000130459  -- top level= 2000262282\n",
      "..saving.. /Volumes/Albano/2020-08-06-holding-analysis-extraction/2000262282/3000130459_usage_springer.csv\n",
      "===\n",
      "Extracting Springer Usage for 3000251517  -- top level= 2000262282\n",
      "..saving.. /Volumes/Albano/2020-08-06-holding-analysis-extraction/2000262282/3000251517_usage_springer.csv\n",
      "===\n",
      "Extracting Springer Usage for 3001139967  -- top level= 2000262282\n",
      "..saving.. /Volumes/Albano/2020-08-06-holding-analysis-extraction/2000262282/3001139967_usage_springer.csv\n",
      "===\n",
      "Extracting Springer Usage for 3002011430  -- top level= 2000262282\n",
      "..saving.. /Volumes/Albano/2020-08-06-holding-analysis-extraction/2000262282/3002011430_usage_springer.csv\n",
      "===\n",
      "Extracting Springer Usage for 3002114477  -- top level= 2000262282\n",
      "..saving.. /Volumes/Albano/2020-08-06-holding-analysis-extraction/2000262282/3002114477_usage_springer.csv\n",
      "\n",
      "======\n",
      "Checking Pre-saved Hierarchy for BPID:  3000146572 \n",
      "======\n",
      "Related BPIDs found:  2 = ['3000146572', '3000675571']\n"
     ]
    },
    {
     "data": {
      "application/vnd.jupyter.widget-view+json": {
       "model_id": "a1770d30f0cf4367b835b58c8301d421",
       "version_major": 2,
       "version_minor": 0
      },
      "text/plain": [
       "HBox(children=(FloatProgress(value=0.0, max=2.0), HTML(value='')))"
      ]
     },
     "metadata": {},
     "output_type": "display_data"
    },
    {
     "name": "stdout",
     "output_type": "stream",
     "text": [
      "===\n",
      "Extracting Springer Usage for 3000146572  -- top level= 3000146572\n",
      "..saving.. /Volumes/Albano/2020-08-06-holding-analysis-extraction/3000146572/3000146572_usage_springer.csv\n",
      "===\n",
      "Extracting Springer Usage for 3000675571  -- top level= 3000146572\n",
      "..saving.. /Volumes/Albano/2020-08-06-holding-analysis-extraction/3000146572/3000675571_usage_springer.csv\n",
      "\n",
      "======\n",
      "Checking Pre-saved Hierarchy for BPID:  3000136338 \n",
      "======\n",
      "Related BPIDs found:  8 = ['3000136338', '3000137278', '3000137282', '3000262825', '3000262839', '3000205744', '3003169293', '3902044458']\n"
     ]
    },
    {
     "data": {
      "application/vnd.jupyter.widget-view+json": {
       "model_id": "19334a71772d422daf8ca966a366b6f1",
       "version_major": 2,
       "version_minor": 0
      },
      "text/plain": [
       "HBox(children=(FloatProgress(value=0.0, max=8.0), HTML(value='')))"
      ]
     },
     "metadata": {},
     "output_type": "display_data"
    },
    {
     "name": "stdout",
     "output_type": "stream",
     "text": [
      "===\n",
      "Extracting Springer Usage for 3000136338  -- top level= 3000136338\n",
      "..saving.. /Volumes/Albano/2020-08-06-holding-analysis-extraction/3000136338/3000136338_usage_springer.csv\n",
      "===\n",
      "Extracting Springer Usage for 3000137278  -- top level= 3000136338\n",
      "..saving.. /Volumes/Albano/2020-08-06-holding-analysis-extraction/3000136338/3000137278_usage_springer.csv\n",
      "===\n",
      "Extracting Springer Usage for 3000137282  -- top level= 3000136338\n",
      "..saving.. /Volumes/Albano/2020-08-06-holding-analysis-extraction/3000136338/3000137282_usage_springer.csv\n",
      "===\n",
      "Extracting Springer Usage for 3000262825  -- top level= 3000136338\n",
      "..saving.. /Volumes/Albano/2020-08-06-holding-analysis-extraction/3000136338/3000262825_usage_springer.csv\n",
      "===\n",
      "Extracting Springer Usage for 3000262839  -- top level= 3000136338\n",
      "..saving.. /Volumes/Albano/2020-08-06-holding-analysis-extraction/3000136338/3000262839_usage_springer.csv\n",
      "===\n",
      "Extracting Springer Usage for 3000205744  -- top level= 3000136338\n",
      "..saving.. /Volumes/Albano/2020-08-06-holding-analysis-extraction/3000136338/3000205744_usage_springer.csv\n",
      "===\n",
      "Extracting Springer Usage for 3003169293  -- top level= 3000136338\n",
      "..saving.. /Volumes/Albano/2020-08-06-holding-analysis-extraction/3000136338/3003169293_usage_springer.csv\n",
      "===\n",
      "Extracting Springer Usage for 3902044458  -- top level= 3000136338\n",
      "..saving.. /Volumes/Albano/2020-08-06-holding-analysis-extraction/3000136338/3902044458_usage_springer.csv\n",
      "\n",
      "======\n",
      "Checking Pre-saved Hierarchy for BPID:  3000070293 \n",
      "======\n",
      "Related BPIDs found:  4 = ['3000070293', '3001139967', '3002011430', '3002114477']\n"
     ]
    },
    {
     "data": {
      "application/vnd.jupyter.widget-view+json": {
       "model_id": "6e5c6d087dd343238dba26752f2c68ed",
       "version_major": 2,
       "version_minor": 0
      },
      "text/plain": [
       "HBox(children=(FloatProgress(value=0.0, max=4.0), HTML(value='')))"
      ]
     },
     "metadata": {},
     "output_type": "display_data"
    },
    {
     "name": "stdout",
     "output_type": "stream",
     "text": [
      "===\n",
      "Extracting Springer Usage for 3000070293  -- top level= 3000070293\n",
      "..saving.. /Volumes/Albano/2020-08-06-holding-analysis-extraction/3000070293/3000070293_usage_springer.csv\n",
      "===\n",
      "Extracting Springer Usage for 3001139967  -- top level= 3000070293\n",
      "..saving.. /Volumes/Albano/2020-08-06-holding-analysis-extraction/3000070293/3001139967_usage_springer.csv\n",
      "===\n",
      "Extracting Springer Usage for 3002011430  -- top level= 3000070293\n",
      "..saving.. /Volumes/Albano/2020-08-06-holding-analysis-extraction/3000070293/3002011430_usage_springer.csv\n",
      "===\n",
      "Extracting Springer Usage for 3002114477  -- top level= 3000070293\n",
      "..saving.. /Volumes/Albano/2020-08-06-holding-analysis-extraction/3000070293/3002114477_usage_springer.csv\n",
      "\n",
      "======\n",
      "Checking Pre-saved Hierarchy for BPID:  8200831638 \n",
      "======\n",
      "Related BPIDs found:  3 = ['8200831638', '3000176756', '8200828607']\n"
     ]
    },
    {
     "data": {
      "application/vnd.jupyter.widget-view+json": {
       "model_id": "bd84545948104963b657b8f858680eea",
       "version_major": 2,
       "version_minor": 0
      },
      "text/plain": [
       "HBox(children=(FloatProgress(value=0.0, max=3.0), HTML(value='')))"
      ]
     },
     "metadata": {},
     "output_type": "display_data"
    },
    {
     "name": "stdout",
     "output_type": "stream",
     "text": [
      "===\n",
      "Extracting Springer Usage for 8200831638  -- top level= 8200831638\n",
      "..saving.. /Volumes/Albano/2020-08-06-holding-analysis-extraction/8200831638/8200831638_usage_springer.csv\n",
      "===\n",
      "Extracting Springer Usage for 3000176756  -- top level= 8200831638\n",
      "..saving.. /Volumes/Albano/2020-08-06-holding-analysis-extraction/8200831638/3000176756_usage_springer.csv\n",
      "===\n",
      "Extracting Springer Usage for 8200828607  -- top level= 8200831638\n",
      "..saving.. /Volumes/Albano/2020-08-06-holding-analysis-extraction/8200831638/8200828607_usage_springer.csv\n",
      "\n",
      "======\n",
      "Checking Pre-saved Hierarchy for BPID:  3000167069 \n",
      "======\n",
      "Related BPIDs found:  2 = ['3000167069', '8200828607']\n"
     ]
    },
    {
     "data": {
      "application/vnd.jupyter.widget-view+json": {
       "model_id": "1c83bc29c38b49539d424ee2580c5776",
       "version_major": 2,
       "version_minor": 0
      },
      "text/plain": [
       "HBox(children=(FloatProgress(value=0.0, max=2.0), HTML(value='')))"
      ]
     },
     "metadata": {},
     "output_type": "display_data"
    },
    {
     "name": "stdout",
     "output_type": "stream",
     "text": [
      "===\n",
      "Extracting Springer Usage for 3000167069  -- top level= 3000167069\n",
      "..saving.. /Volumes/Albano/2020-08-06-holding-analysis-extraction/3000167069/3000167069_usage_springer.csv\n",
      "===\n",
      "Extracting Springer Usage for 8200828607  -- top level= 3000167069\n",
      "..saving.. /Volumes/Albano/2020-08-06-holding-analysis-extraction/3000167069/8200828607_usage_springer.csv\n",
      "\n",
      "======\n",
      "Checking Pre-saved Hierarchy for BPID:  8200692383 \n",
      "======\n",
      "Related BPIDs found:  3 = ['8200692383', '3000176756', '8200828607']\n"
     ]
    },
    {
     "data": {
      "application/vnd.jupyter.widget-view+json": {
       "model_id": "381435e1089d44edaefa17c25cf41766",
       "version_major": 2,
       "version_minor": 0
      },
      "text/plain": [
       "HBox(children=(FloatProgress(value=0.0, max=3.0), HTML(value='')))"
      ]
     },
     "metadata": {},
     "output_type": "display_data"
    },
    {
     "name": "stdout",
     "output_type": "stream",
     "text": [
      "===\n",
      "Extracting Springer Usage for 8200692383  -- top level= 8200692383\n",
      "..saving.. /Volumes/Albano/2020-08-06-holding-analysis-extraction/8200692383/8200692383_usage_springer.csv\n",
      "===\n",
      "Extracting Springer Usage for 3000176756  -- top level= 8200692383\n",
      "..saving.. /Volumes/Albano/2020-08-06-holding-analysis-extraction/8200692383/3000176756_usage_springer.csv\n",
      "===\n",
      "Extracting Springer Usage for 8200828607  -- top level= 8200692383\n",
      "..saving.. /Volumes/Albano/2020-08-06-holding-analysis-extraction/8200692383/8200828607_usage_springer.csv\n",
      "\n",
      "======\n",
      "Checking Pre-saved Hierarchy for BPID:  3000162976 \n",
      "======\n",
      "Related BPIDs found:  1 = ['3000162976']\n"
     ]
    },
    {
     "data": {
      "application/vnd.jupyter.widget-view+json": {
       "model_id": "05eb3bd310704f339fe6fcdd7ef66afc",
       "version_major": 2,
       "version_minor": 0
      },
      "text/plain": [
       "HBox(children=(FloatProgress(value=0.0, max=1.0), HTML(value='')))"
      ]
     },
     "metadata": {},
     "output_type": "display_data"
    },
    {
     "name": "stdout",
     "output_type": "stream",
     "text": [
      "===\n",
      "Extracting Springer Usage for 3000162976  -- top level= 3000162976\n",
      "..saving.. /Volumes/Albano/2020-08-06-holding-analysis-extraction/3000162976/3000162976_usage_springer.csv\n",
      "\n",
      "======\n",
      "Checking Pre-saved Hierarchy for BPID:  3003343017 \n",
      "======\n",
      "++++ ERROR ++++\n",
      "Errors index = [3003695120, 30036927080, 3003343017]\n"
     ]
    },
    {
     "data": {
      "application/vnd.jupyter.widget-view+json": {
       "model_id": "507089b54fba423f8f5fb496d44f7e82",
       "version_major": 2,
       "version_minor": 0
      },
      "text/plain": [
       "HBox(children=(FloatProgress(value=1.0, bar_style='info', max=1.0), HTML(value='')))"
      ]
     },
     "metadata": {},
     "output_type": "display_data"
    },
    {
     "name": "stdout",
     "output_type": "stream",
     "text": [
      "\n",
      "======\n",
      "Checking Pre-saved Hierarchy for BPID:  8200470187 \n",
      "======\n",
      "Related BPIDs found:  1 = ['8200470187']\n"
     ]
    },
    {
     "data": {
      "application/vnd.jupyter.widget-view+json": {
       "model_id": "77581bf781944150bf9378de06af01c0",
       "version_major": 2,
       "version_minor": 0
      },
      "text/plain": [
       "HBox(children=(FloatProgress(value=0.0, max=1.0), HTML(value='')))"
      ]
     },
     "metadata": {},
     "output_type": "display_data"
    },
    {
     "name": "stdout",
     "output_type": "stream",
     "text": [
      "===\n",
      "Extracting Springer Usage for 8200470187  -- top level= 8200470187\n",
      "..saving.. /Volumes/Albano/2020-08-06-holding-analysis-extraction/8200470187/8200470187_usage_springer.csv\n",
      "\n",
      "======\n",
      "Checking Pre-saved Hierarchy for BPID:  3002859181 \n",
      "======\n",
      "Related BPIDs found:  1 = ['3002859181']\n"
     ]
    },
    {
     "data": {
      "application/vnd.jupyter.widget-view+json": {
       "model_id": "52354fd15a38455b8c23d0037d6c39eb",
       "version_major": 2,
       "version_minor": 0
      },
      "text/plain": [
       "HBox(children=(FloatProgress(value=0.0, max=1.0), HTML(value='')))"
      ]
     },
     "metadata": {},
     "output_type": "display_data"
    },
    {
     "name": "stdout",
     "output_type": "stream",
     "text": [
      "===\n",
      "Extracting Springer Usage for 3002859181  -- top level= 3002859181\n",
      "..saving.. /Volumes/Albano/2020-08-06-holding-analysis-extraction/3002859181/3002859181_usage_springer.csv\n",
      "\n",
      "======\n",
      "Checking Pre-saved Hierarchy for BPID:  2000425646 \n",
      "======\n",
      "Related BPIDs found:  2 = ['2000425646', '3000675571']\n"
     ]
    },
    {
     "data": {
      "application/vnd.jupyter.widget-view+json": {
       "model_id": "6d44dc4a60f4464b8458ca5f4d460d27",
       "version_major": 2,
       "version_minor": 0
      },
      "text/plain": [
       "HBox(children=(FloatProgress(value=0.0, max=2.0), HTML(value='')))"
      ]
     },
     "metadata": {},
     "output_type": "display_data"
    },
    {
     "name": "stdout",
     "output_type": "stream",
     "text": [
      "===\n",
      "Extracting Springer Usage for 2000425646  -- top level= 2000425646\n",
      "..saving.. /Volumes/Albano/2020-08-06-holding-analysis-extraction/2000425646/2000425646_usage_springer.csv\n",
      "===\n",
      "Extracting Springer Usage for 3000675571  -- top level= 2000425646\n",
      "..saving.. /Volumes/Albano/2020-08-06-holding-analysis-extraction/2000425646/3000675571_usage_springer.csv\n",
      "\n",
      "======\n",
      "Checking Pre-saved Hierarchy for BPID:  2000699054 \n",
      "======\n",
      "Related BPIDs found:  3 = ['2000699054', '3003532199', '3000155420']\n"
     ]
    },
    {
     "data": {
      "application/vnd.jupyter.widget-view+json": {
       "model_id": "c800a78a5fd44ff3b55cbd9f045a59eb",
       "version_major": 2,
       "version_minor": 0
      },
      "text/plain": [
       "HBox(children=(FloatProgress(value=0.0, max=3.0), HTML(value='')))"
      ]
     },
     "metadata": {},
     "output_type": "display_data"
    },
    {
     "name": "stdout",
     "output_type": "stream",
     "text": [
      "===\n",
      "Extracting Springer Usage for 2000699054  -- top level= 2000699054\n",
      "..saving.. /Volumes/Albano/2020-08-06-holding-analysis-extraction/2000699054/2000699054_usage_springer.csv\n",
      "===\n",
      "Extracting Springer Usage for 3003532199  -- top level= 2000699054\n",
      "..saving.. /Volumes/Albano/2020-08-06-holding-analysis-extraction/2000699054/3003532199_usage_springer.csv\n",
      "===\n",
      "Extracting Springer Usage for 3000155420  -- top level= 2000699054\n",
      "..saving.. /Volumes/Albano/2020-08-06-holding-analysis-extraction/2000699054/3000155420_usage_springer.csv\n",
      "\n",
      "======\n",
      "Checking Pre-saved Hierarchy for BPID:  2000277680 \n",
      "======\n",
      "Related BPIDs found:  8 = ['2000277680', '3000160641', '3000507429', '3991438065', '3001358220', '3002205109', '3002600051', '3002642964']\n"
     ]
    },
    {
     "data": {
      "application/vnd.jupyter.widget-view+json": {
       "model_id": "c48547f0a64b4b2fb65e3b1dbb9b52a6",
       "version_major": 2,
       "version_minor": 0
      },
      "text/plain": [
       "HBox(children=(FloatProgress(value=0.0, max=8.0), HTML(value='')))"
      ]
     },
     "metadata": {},
     "output_type": "display_data"
    },
    {
     "name": "stdout",
     "output_type": "stream",
     "text": [
      "===\n",
      "Extracting Springer Usage for 2000277680  -- top level= 2000277680\n",
      "..saving.. /Volumes/Albano/2020-08-06-holding-analysis-extraction/2000277680/2000277680_usage_springer.csv\n",
      "===\n",
      "Extracting Springer Usage for 3000160641  -- top level= 2000277680\n",
      "..saving.. /Volumes/Albano/2020-08-06-holding-analysis-extraction/2000277680/3000160641_usage_springer.csv\n",
      "===\n",
      "Extracting Springer Usage for 3000507429  -- top level= 2000277680\n",
      "..saving.. /Volumes/Albano/2020-08-06-holding-analysis-extraction/2000277680/3000507429_usage_springer.csv\n",
      "===\n",
      "Extracting Springer Usage for 3991438065  -- top level= 2000277680\n",
      "..saving.. /Volumes/Albano/2020-08-06-holding-analysis-extraction/2000277680/3991438065_usage_springer.csv\n",
      "===\n",
      "Extracting Springer Usage for 3001358220  -- top level= 2000277680\n",
      "..saving.. /Volumes/Albano/2020-08-06-holding-analysis-extraction/2000277680/3001358220_usage_springer.csv\n",
      "===\n",
      "Extracting Springer Usage for 3002205109  -- top level= 2000277680\n",
      "..saving.. /Volumes/Albano/2020-08-06-holding-analysis-extraction/2000277680/3002205109_usage_springer.csv\n",
      "===\n",
      "Extracting Springer Usage for 3002600051  -- top level= 2000277680\n",
      "..saving.. /Volumes/Albano/2020-08-06-holding-analysis-extraction/2000277680/3002600051_usage_springer.csv\n",
      "===\n",
      "Extracting Springer Usage for 3002642964  -- top level= 2000277680\n",
      "..saving.. /Volumes/Albano/2020-08-06-holding-analysis-extraction/2000277680/3002642964_usage_springer.csv\n",
      "\n",
      "======\n",
      "Checking Pre-saved Hierarchy for BPID:  8200930480 \n",
      "======\n",
      "Related BPIDs found:  2 = ['8200930480', '8200828607']\n"
     ]
    },
    {
     "data": {
      "application/vnd.jupyter.widget-view+json": {
       "model_id": "05b572e4ac964fafb5ab22411ee9ebd4",
       "version_major": 2,
       "version_minor": 0
      },
      "text/plain": [
       "HBox(children=(FloatProgress(value=0.0, max=2.0), HTML(value='')))"
      ]
     },
     "metadata": {},
     "output_type": "display_data"
    },
    {
     "name": "stdout",
     "output_type": "stream",
     "text": [
      "===\n",
      "Extracting Springer Usage for 8200930480  -- top level= 8200930480\n",
      "..saving.. /Volumes/Albano/2020-08-06-holding-analysis-extraction/8200930480/8200930480_usage_springer.csv\n",
      "===\n",
      "Extracting Springer Usage for 8200828607  -- top level= 8200930480\n",
      "..saving.. /Volumes/Albano/2020-08-06-holding-analysis-extraction/8200930480/8200828607_usage_springer.csv\n",
      "\n",
      "======\n",
      "Checking Pre-saved Hierarchy for BPID:  8200706739 \n",
      "======\n",
      "Related BPIDs found:  2 = ['8200706739', '8200828607']\n"
     ]
    },
    {
     "data": {
      "application/vnd.jupyter.widget-view+json": {
       "model_id": "3a323605b0224e9ca39f60d437278480",
       "version_major": 2,
       "version_minor": 0
      },
      "text/plain": [
       "HBox(children=(FloatProgress(value=0.0, max=2.0), HTML(value='')))"
      ]
     },
     "metadata": {},
     "output_type": "display_data"
    },
    {
     "name": "stdout",
     "output_type": "stream",
     "text": [
      "===\n",
      "Extracting Springer Usage for 8200706739  -- top level= 8200706739\n",
      "..saving.. /Volumes/Albano/2020-08-06-holding-analysis-extraction/8200706739/8200706739_usage_springer.csv\n",
      "===\n",
      "Extracting Springer Usage for 8200828607  -- top level= 8200706739\n",
      "..saving.. /Volumes/Albano/2020-08-06-holding-analysis-extraction/8200706739/8200828607_usage_springer.csv\n",
      "\n",
      "======\n",
      "Checking Pre-saved Hierarchy for BPID:  8200406196 \n",
      "======\n",
      "Related BPIDs found:  4 = ['8200406196', '3000176734', '8200828607', '3902328142']\n"
     ]
    },
    {
     "data": {
      "application/vnd.jupyter.widget-view+json": {
       "model_id": "8eb3d3e1acac48eca7efaa0a864cb489",
       "version_major": 2,
       "version_minor": 0
      },
      "text/plain": [
       "HBox(children=(FloatProgress(value=0.0, max=4.0), HTML(value='')))"
      ]
     },
     "metadata": {},
     "output_type": "display_data"
    },
    {
     "name": "stdout",
     "output_type": "stream",
     "text": [
      "===\n",
      "Extracting Springer Usage for 8200406196  -- top level= 8200406196\n",
      "..saving.. /Volumes/Albano/2020-08-06-holding-analysis-extraction/8200406196/8200406196_usage_springer.csv\n",
      "===\n",
      "Extracting Springer Usage for 3000176734  -- top level= 8200406196\n",
      "..saving.. /Volumes/Albano/2020-08-06-holding-analysis-extraction/8200406196/3000176734_usage_springer.csv\n",
      "===\n",
      "Extracting Springer Usage for 8200828607  -- top level= 8200406196\n",
      "..saving.. /Volumes/Albano/2020-08-06-holding-analysis-extraction/8200406196/8200828607_usage_springer.csv\n",
      "===\n",
      "Extracting Springer Usage for 3902328142  -- top level= 8200406196\n",
      "..saving.. /Volumes/Albano/2020-08-06-holding-analysis-extraction/8200406196/3902328142_usage_springer.csv\n",
      "\n",
      "======\n",
      "Checking Pre-saved Hierarchy for BPID:  8201000118 \n",
      "======\n",
      "Related BPIDs found:  3 = ['8201000118', '3000144849', '3000161202']\n"
     ]
    },
    {
     "data": {
      "application/vnd.jupyter.widget-view+json": {
       "model_id": "df8543379b564b7782f07d082cac74bc",
       "version_major": 2,
       "version_minor": 0
      },
      "text/plain": [
       "HBox(children=(FloatProgress(value=0.0, max=3.0), HTML(value='')))"
      ]
     },
     "metadata": {},
     "output_type": "display_data"
    },
    {
     "name": "stdout",
     "output_type": "stream",
     "text": [
      "===\n",
      "Extracting Springer Usage for 8201000118  -- top level= 8201000118\n",
      "..saving.. /Volumes/Albano/2020-08-06-holding-analysis-extraction/8201000118/8201000118_usage_springer.csv\n",
      "===\n",
      "Extracting Springer Usage for 3000144849  -- top level= 8201000118\n",
      "..saving.. /Volumes/Albano/2020-08-06-holding-analysis-extraction/8201000118/3000144849_usage_springer.csv\n",
      "===\n",
      "Extracting Springer Usage for 3000161202  -- top level= 8201000118\n",
      "..saving.. /Volumes/Albano/2020-08-06-holding-analysis-extraction/8201000118/3000161202_usage_springer.csv\n",
      "\n",
      "======\n",
      "Checking Pre-saved Hierarchy for BPID:  8200924855 \n",
      "======\n",
      "Related BPIDs found:  2 = ['8200924855', '8200828607']\n"
     ]
    },
    {
     "data": {
      "application/vnd.jupyter.widget-view+json": {
       "model_id": "6cad4c06aafd4b8492fecf5159c3cf62",
       "version_major": 2,
       "version_minor": 0
      },
      "text/plain": [
       "HBox(children=(FloatProgress(value=0.0, max=2.0), HTML(value='')))"
      ]
     },
     "metadata": {},
     "output_type": "display_data"
    },
    {
     "name": "stdout",
     "output_type": "stream",
     "text": [
      "===\n",
      "Extracting Springer Usage for 8200924855  -- top level= 8200924855\n",
      "..saving.. /Volumes/Albano/2020-08-06-holding-analysis-extraction/8200924855/8200924855_usage_springer.csv\n",
      "===\n",
      "Extracting Springer Usage for 8200828607  -- top level= 8200924855\n",
      "..saving.. /Volumes/Albano/2020-08-06-holding-analysis-extraction/8200924855/8200828607_usage_springer.csv\n",
      "\n",
      "======\n",
      "Checking Pre-saved Hierarchy for BPID:  2000374973 \n",
      "======\n",
      "Related BPIDs found:  11 = ['2000374973', '3000137278', '3000137282', '3000192397', '3000262825', '3000262839', '3000599536', '3000824714', '3994313832', '3003169293', '3902044458']\n"
     ]
    },
    {
     "data": {
      "application/vnd.jupyter.widget-view+json": {
       "model_id": "cf8b854db44a4e288540e780e40d0622",
       "version_major": 2,
       "version_minor": 0
      },
      "text/plain": [
       "HBox(children=(FloatProgress(value=0.0, max=11.0), HTML(value='')))"
      ]
     },
     "metadata": {},
     "output_type": "display_data"
    },
    {
     "name": "stdout",
     "output_type": "stream",
     "text": [
      "===\n",
      "Extracting Springer Usage for 2000374973  -- top level= 2000374973\n",
      "..saving.. /Volumes/Albano/2020-08-06-holding-analysis-extraction/2000374973/2000374973_usage_springer.csv\n",
      "===\n",
      "Extracting Springer Usage for 3000137278  -- top level= 2000374973\n",
      "..saving.. /Volumes/Albano/2020-08-06-holding-analysis-extraction/2000374973/3000137278_usage_springer.csv\n",
      "===\n",
      "Extracting Springer Usage for 3000137282  -- top level= 2000374973\n",
      "..saving.. /Volumes/Albano/2020-08-06-holding-analysis-extraction/2000374973/3000137282_usage_springer.csv\n",
      "===\n",
      "Extracting Springer Usage for 3000192397  -- top level= 2000374973\n",
      "..saving.. /Volumes/Albano/2020-08-06-holding-analysis-extraction/2000374973/3000192397_usage_springer.csv\n",
      "===\n",
      "Extracting Springer Usage for 3000262825  -- top level= 2000374973\n",
      "..saving.. /Volumes/Albano/2020-08-06-holding-analysis-extraction/2000374973/3000262825_usage_springer.csv\n",
      "===\n",
      "Extracting Springer Usage for 3000262839  -- top level= 2000374973\n",
      "..saving.. /Volumes/Albano/2020-08-06-holding-analysis-extraction/2000374973/3000262839_usage_springer.csv\n",
      "===\n",
      "Extracting Springer Usage for 3000599536  -- top level= 2000374973\n",
      "..saving.. /Volumes/Albano/2020-08-06-holding-analysis-extraction/2000374973/3000599536_usage_springer.csv\n",
      "===\n",
      "Extracting Springer Usage for 3000824714  -- top level= 2000374973\n",
      "..saving.. /Volumes/Albano/2020-08-06-holding-analysis-extraction/2000374973/3000824714_usage_springer.csv\n",
      "===\n",
      "Extracting Springer Usage for 3994313832  -- top level= 2000374973\n",
      "..saving.. /Volumes/Albano/2020-08-06-holding-analysis-extraction/2000374973/3994313832_usage_springer.csv\n",
      "===\n",
      "Extracting Springer Usage for 3003169293  -- top level= 2000374973\n",
      "..saving.. /Volumes/Albano/2020-08-06-holding-analysis-extraction/2000374973/3003169293_usage_springer.csv\n",
      "===\n",
      "Extracting Springer Usage for 3902044458  -- top level= 2000374973\n",
      "..saving.. /Volumes/Albano/2020-08-06-holding-analysis-extraction/2000374973/3902044458_usage_springer.csv\n",
      "\n",
      "======\n",
      "Checking Pre-saved Hierarchy for BPID:  3000101569 \n",
      "======\n",
      "Related BPIDs found:  1 = ['3000101569']\n"
     ]
    },
    {
     "data": {
      "application/vnd.jupyter.widget-view+json": {
       "model_id": "7796dc0db7e84a94afad16fb9d7e34a5",
       "version_major": 2,
       "version_minor": 0
      },
      "text/plain": [
       "HBox(children=(FloatProgress(value=0.0, max=1.0), HTML(value='')))"
      ]
     },
     "metadata": {},
     "output_type": "display_data"
    },
    {
     "name": "stdout",
     "output_type": "stream",
     "text": [
      "===\n",
      "Extracting Springer Usage for 3000101569  -- top level= 3000101569\n",
      "..saving.. /Volumes/Albano/2020-08-06-holding-analysis-extraction/3000101569/3000101569_usage_springer.csv\n",
      "\n",
      "======\n",
      "Checking Pre-saved Hierarchy for BPID:  8200763073 \n",
      "======\n",
      "Related BPIDs found:  2 = ['8200763073', '8200828607']\n"
     ]
    },
    {
     "data": {
      "application/vnd.jupyter.widget-view+json": {
       "model_id": "d2a4045fefbb470c91f68c962c74aebb",
       "version_major": 2,
       "version_minor": 0
      },
      "text/plain": [
       "HBox(children=(FloatProgress(value=0.0, max=2.0), HTML(value='')))"
      ]
     },
     "metadata": {},
     "output_type": "display_data"
    },
    {
     "name": "stdout",
     "output_type": "stream",
     "text": [
      "===\n",
      "Extracting Springer Usage for 8200763073  -- top level= 8200763073\n",
      "..saving.. /Volumes/Albano/2020-08-06-holding-analysis-extraction/8200763073/8200763073_usage_springer.csv\n",
      "===\n",
      "Extracting Springer Usage for 8200828607  -- top level= 8200763073\n",
      "..saving.. /Volumes/Albano/2020-08-06-holding-analysis-extraction/8200763073/8200828607_usage_springer.csv\n",
      "\n",
      "======\n",
      "Checking Pre-saved Hierarchy for BPID:  2000051397 \n",
      "======\n",
      "Related BPIDs found:  7 = ['2000051397', '3000130459', '3000251517', '3001139967', '3991330314', '3002011430', '3002114477']\n"
     ]
    },
    {
     "data": {
      "application/vnd.jupyter.widget-view+json": {
       "model_id": "a99474f1328f4035ab31d9c70842ff6b",
       "version_major": 2,
       "version_minor": 0
      },
      "text/plain": [
       "HBox(children=(FloatProgress(value=0.0, max=7.0), HTML(value='')))"
      ]
     },
     "metadata": {},
     "output_type": "display_data"
    },
    {
     "name": "stdout",
     "output_type": "stream",
     "text": [
      "===\n",
      "Extracting Springer Usage for 2000051397  -- top level= 2000051397\n",
      "..saving.. /Volumes/Albano/2020-08-06-holding-analysis-extraction/2000051397/2000051397_usage_springer.csv\n",
      "===\n",
      "Extracting Springer Usage for 3000130459  -- top level= 2000051397\n",
      "..saving.. /Volumes/Albano/2020-08-06-holding-analysis-extraction/2000051397/3000130459_usage_springer.csv\n",
      "===\n",
      "Extracting Springer Usage for 3000251517  -- top level= 2000051397\n",
      "..saving.. /Volumes/Albano/2020-08-06-holding-analysis-extraction/2000051397/3000251517_usage_springer.csv\n",
      "===\n",
      "Extracting Springer Usage for 3001139967  -- top level= 2000051397\n",
      "..saving.. /Volumes/Albano/2020-08-06-holding-analysis-extraction/2000051397/3001139967_usage_springer.csv\n",
      "===\n",
      "Extracting Springer Usage for 3991330314  -- top level= 2000051397\n",
      "..saving.. /Volumes/Albano/2020-08-06-holding-analysis-extraction/2000051397/3991330314_usage_springer.csv\n",
      "===\n",
      "Extracting Springer Usage for 3002011430  -- top level= 2000051397\n",
      "..saving.. /Volumes/Albano/2020-08-06-holding-analysis-extraction/2000051397/3002011430_usage_springer.csv\n",
      "===\n",
      "Extracting Springer Usage for 3002114477  -- top level= 2000051397\n",
      "..saving.. /Volumes/Albano/2020-08-06-holding-analysis-extraction/2000051397/3002114477_usage_springer.csv\n",
      "\n",
      "======\n",
      "Checking Pre-saved Hierarchy for BPID:  2000376520 \n",
      "======\n",
      "Related BPIDs found:  1 = ['2000376520']\n"
     ]
    },
    {
     "data": {
      "application/vnd.jupyter.widget-view+json": {
       "model_id": "b0f787543c784aa6910c353590935664",
       "version_major": 2,
       "version_minor": 0
      },
      "text/plain": [
       "HBox(children=(FloatProgress(value=0.0, max=1.0), HTML(value='')))"
      ]
     },
     "metadata": {},
     "output_type": "display_data"
    },
    {
     "name": "stdout",
     "output_type": "stream",
     "text": [
      "===\n",
      "Extracting Springer Usage for 2000376520  -- top level= 2000376520\n",
      "..saving.. /Volumes/Albano/2020-08-06-holding-analysis-extraction/2000376520/2000376520_usage_springer.csv\n",
      "\n",
      "======\n",
      "Checking Pre-saved Hierarchy for BPID:  3000163017 \n",
      "======\n",
      "Related BPIDs found:  3 = ['3000163017', '3000141917', '8200828607']\n"
     ]
    },
    {
     "data": {
      "application/vnd.jupyter.widget-view+json": {
       "model_id": "74d7230a7cca499f885b163ec12813d8",
       "version_major": 2,
       "version_minor": 0
      },
      "text/plain": [
       "HBox(children=(FloatProgress(value=0.0, max=3.0), HTML(value='')))"
      ]
     },
     "metadata": {},
     "output_type": "display_data"
    },
    {
     "name": "stdout",
     "output_type": "stream",
     "text": [
      "===\n",
      "Extracting Springer Usage for 3000163017  -- top level= 3000163017\n",
      "..saving.. /Volumes/Albano/2020-08-06-holding-analysis-extraction/3000163017/3000163017_usage_springer.csv\n",
      "===\n",
      "Extracting Springer Usage for 3000141917  -- top level= 3000163017\n",
      "..saving.. /Volumes/Albano/2020-08-06-holding-analysis-extraction/3000163017/3000141917_usage_springer.csv\n",
      "===\n",
      "Extracting Springer Usage for 8200828607  -- top level= 3000163017\n",
      "..saving.. /Volumes/Albano/2020-08-06-holding-analysis-extraction/3000163017/8200828607_usage_springer.csv\n",
      "\n",
      "======\n",
      "Checking Pre-saved Hierarchy for BPID:  3001125066 \n",
      "======\n",
      "Related BPIDs found:  1 = ['3001125066']\n"
     ]
    },
    {
     "data": {
      "application/vnd.jupyter.widget-view+json": {
       "model_id": "3c777a53895548d2a69c70b93054b74b",
       "version_major": 2,
       "version_minor": 0
      },
      "text/plain": [
       "HBox(children=(FloatProgress(value=0.0, max=1.0), HTML(value='')))"
      ]
     },
     "metadata": {},
     "output_type": "display_data"
    },
    {
     "name": "stdout",
     "output_type": "stream",
     "text": [
      "===\n",
      "Extracting Springer Usage for 3001125066  -- top level= 3001125066\n",
      "..saving.. /Volumes/Albano/2020-08-06-holding-analysis-extraction/3001125066/3001125066_usage_springer.csv\n",
      "\n",
      "======\n",
      "Checking Pre-saved Hierarchy for BPID:  3000145097 \n",
      "======\n",
      "Related BPIDs found:  2 = ['3000145097', '8200828607']\n"
     ]
    },
    {
     "data": {
      "application/vnd.jupyter.widget-view+json": {
       "model_id": "a41fd61325fb4100b2f012314c853038",
       "version_major": 2,
       "version_minor": 0
      },
      "text/plain": [
       "HBox(children=(FloatProgress(value=0.0, max=2.0), HTML(value='')))"
      ]
     },
     "metadata": {},
     "output_type": "display_data"
    },
    {
     "name": "stdout",
     "output_type": "stream",
     "text": [
      "===\n",
      "Extracting Springer Usage for 3000145097  -- top level= 3000145097\n",
      "..saving.. /Volumes/Albano/2020-08-06-holding-analysis-extraction/3000145097/3000145097_usage_springer.csv\n",
      "===\n",
      "Extracting Springer Usage for 8200828607  -- top level= 3000145097\n",
      "..saving.. /Volumes/Albano/2020-08-06-holding-analysis-extraction/3000145097/8200828607_usage_springer.csv\n",
      "\n",
      "======\n",
      "Checking Pre-saved Hierarchy for BPID:  2000329424 \n",
      "======\n",
      "Related BPIDs found:  5 = ['2000329424', '3001139967', '3991330314', '3002011430', '3002114477']\n"
     ]
    },
    {
     "data": {
      "application/vnd.jupyter.widget-view+json": {
       "model_id": "3ba932804f474dd6bf349afe0e88d682",
       "version_major": 2,
       "version_minor": 0
      },
      "text/plain": [
       "HBox(children=(FloatProgress(value=0.0, max=5.0), HTML(value='')))"
      ]
     },
     "metadata": {},
     "output_type": "display_data"
    },
    {
     "name": "stdout",
     "output_type": "stream",
     "text": [
      "===\n",
      "Extracting Springer Usage for 2000329424  -- top level= 2000329424\n",
      "..saving.. /Volumes/Albano/2020-08-06-holding-analysis-extraction/2000329424/2000329424_usage_springer.csv\n",
      "===\n",
      "Extracting Springer Usage for 3001139967  -- top level= 2000329424\n",
      "..saving.. /Volumes/Albano/2020-08-06-holding-analysis-extraction/2000329424/3001139967_usage_springer.csv\n",
      "===\n",
      "Extracting Springer Usage for 3991330314  -- top level= 2000329424\n",
      "..saving.. /Volumes/Albano/2020-08-06-holding-analysis-extraction/2000329424/3991330314_usage_springer.csv\n",
      "===\n",
      "Extracting Springer Usage for 3002011430  -- top level= 2000329424\n",
      "..saving.. /Volumes/Albano/2020-08-06-holding-analysis-extraction/2000329424/3002011430_usage_springer.csv\n",
      "===\n",
      "Extracting Springer Usage for 3002114477  -- top level= 2000329424\n",
      "..saving.. /Volumes/Albano/2020-08-06-holding-analysis-extraction/2000329424/3002114477_usage_springer.csv\n",
      "\n",
      "======\n",
      "Checking Pre-saved Hierarchy for BPID:  2000341714 \n",
      "======\n",
      "++++ ERROR ++++\n",
      "Errors index = [3003695120, 30036927080, 3003343017, 2000341714]\n"
     ]
    },
    {
     "data": {
      "application/vnd.jupyter.widget-view+json": {
       "model_id": "de4253291b57480c98700810ef6a9ae4",
       "version_major": 2,
       "version_minor": 0
      },
      "text/plain": [
       "HBox(children=(FloatProgress(value=1.0, bar_style='info', max=1.0), HTML(value='')))"
      ]
     },
     "metadata": {},
     "output_type": "display_data"
    },
    {
     "name": "stdout",
     "output_type": "stream",
     "text": [
      "\n",
      "======\n",
      "Checking Pre-saved Hierarchy for BPID:  3000118482 \n",
      "======\n",
      "Related BPIDs found:  2 = ['3000118482', '8200828607']\n"
     ]
    },
    {
     "data": {
      "application/vnd.jupyter.widget-view+json": {
       "model_id": "2a85539b8ee14b7887eaed5faca614d9",
       "version_major": 2,
       "version_minor": 0
      },
      "text/plain": [
       "HBox(children=(FloatProgress(value=0.0, max=2.0), HTML(value='')))"
      ]
     },
     "metadata": {},
     "output_type": "display_data"
    },
    {
     "name": "stdout",
     "output_type": "stream",
     "text": [
      "===\n",
      "Extracting Springer Usage for 3000118482  -- top level= 3000118482\n",
      "..saving.. /Volumes/Albano/2020-08-06-holding-analysis-extraction/3000118482/3000118482_usage_springer.csv\n",
      "===\n",
      "Extracting Springer Usage for 8200828607  -- top level= 3000118482\n",
      "..saving.. /Volumes/Albano/2020-08-06-holding-analysis-extraction/3000118482/8200828607_usage_springer.csv\n",
      "\n",
      "======\n",
      "Checking Pre-saved Hierarchy for BPID:  3001704148 \n",
      "======\n",
      "Related BPIDs found:  1 = ['3001704148']\n"
     ]
    },
    {
     "data": {
      "application/vnd.jupyter.widget-view+json": {
       "model_id": "a9bafdb4557545379197f43be09ee5c5",
       "version_major": 2,
       "version_minor": 0
      },
      "text/plain": [
       "HBox(children=(FloatProgress(value=0.0, max=1.0), HTML(value='')))"
      ]
     },
     "metadata": {},
     "output_type": "display_data"
    },
    {
     "name": "stdout",
     "output_type": "stream",
     "text": [
      "===\n",
      "Extracting Springer Usage for 3001704148  -- top level= 3001704148\n",
      "..saving.. /Volumes/Albano/2020-08-06-holding-analysis-extraction/3001704148/3001704148_usage_springer.csv\n",
      "\n",
      "======\n",
      "Checking Pre-saved Hierarchy for BPID:  3000146645 \n",
      "======\n",
      "Related BPIDs found:  2 = ['3000146645', '3000675571']\n"
     ]
    },
    {
     "data": {
      "application/vnd.jupyter.widget-view+json": {
       "model_id": "98566384b84343c7aa90c5578d249f1e",
       "version_major": 2,
       "version_minor": 0
      },
      "text/plain": [
       "HBox(children=(FloatProgress(value=0.0, max=2.0), HTML(value='')))"
      ]
     },
     "metadata": {},
     "output_type": "display_data"
    },
    {
     "name": "stdout",
     "output_type": "stream",
     "text": [
      "===\n",
      "Extracting Springer Usage for 3000146645  -- top level= 3000146645\n",
      "..saving.. /Volumes/Albano/2020-08-06-holding-analysis-extraction/3000146645/3000146645_usage_springer.csv\n",
      "===\n",
      "Extracting Springer Usage for 3000675571  -- top level= 3000146645\n",
      "..saving.. /Volumes/Albano/2020-08-06-holding-analysis-extraction/3000146645/3000675571_usage_springer.csv\n",
      "\n",
      "======\n",
      "Checking Pre-saved Hierarchy for BPID:  3000145110 \n",
      "======\n",
      "Related BPIDs found:  3 = ['3000145110', '3000155420', '3003532199']\n"
     ]
    },
    {
     "data": {
      "application/vnd.jupyter.widget-view+json": {
       "model_id": "36b8a2fe606f4f06ac24bb65ebebe259",
       "version_major": 2,
       "version_minor": 0
      },
      "text/plain": [
       "HBox(children=(FloatProgress(value=0.0, max=3.0), HTML(value='')))"
      ]
     },
     "metadata": {},
     "output_type": "display_data"
    },
    {
     "name": "stdout",
     "output_type": "stream",
     "text": [
      "===\n",
      "Extracting Springer Usage for 3000145110  -- top level= 3000145110\n",
      "..saving.. /Volumes/Albano/2020-08-06-holding-analysis-extraction/3000145110/3000145110_usage_springer.csv\n",
      "===\n",
      "Extracting Springer Usage for 3000155420  -- top level= 3000145110\n",
      "..saving.. /Volumes/Albano/2020-08-06-holding-analysis-extraction/3000145110/3000155420_usage_springer.csv\n",
      "===\n",
      "Extracting Springer Usage for 3003532199  -- top level= 3000145110\n",
      "..saving.. /Volumes/Albano/2020-08-06-holding-analysis-extraction/3000145110/3003532199_usage_springer.csv\n",
      "\n",
      "======\n",
      "Checking Pre-saved Hierarchy for BPID:  2000051414 \n",
      "======\n",
      "Related BPIDs found:  6 = ['2000051414', '3000122820', '3991330314', '3001139967', '3002011430', '3002114477']\n"
     ]
    },
    {
     "data": {
      "application/vnd.jupyter.widget-view+json": {
       "model_id": "0b9e82da7d69458795bff7b7b7d5e714",
       "version_major": 2,
       "version_minor": 0
      },
      "text/plain": [
       "HBox(children=(FloatProgress(value=0.0, max=6.0), HTML(value='')))"
      ]
     },
     "metadata": {},
     "output_type": "display_data"
    },
    {
     "name": "stdout",
     "output_type": "stream",
     "text": [
      "===\n",
      "Extracting Springer Usage for 2000051414  -- top level= 2000051414\n",
      "..saving.. /Volumes/Albano/2020-08-06-holding-analysis-extraction/2000051414/2000051414_usage_springer.csv\n",
      "===\n",
      "Extracting Springer Usage for 3000122820  -- top level= 2000051414\n",
      "..saving.. /Volumes/Albano/2020-08-06-holding-analysis-extraction/2000051414/3000122820_usage_springer.csv\n",
      "===\n",
      "Extracting Springer Usage for 3991330314  -- top level= 2000051414\n",
      "..saving.. /Volumes/Albano/2020-08-06-holding-analysis-extraction/2000051414/3991330314_usage_springer.csv\n",
      "===\n",
      "Extracting Springer Usage for 3001139967  -- top level= 2000051414\n",
      "..saving.. /Volumes/Albano/2020-08-06-holding-analysis-extraction/2000051414/3001139967_usage_springer.csv\n",
      "===\n",
      "Extracting Springer Usage for 3002011430  -- top level= 2000051414\n",
      "..saving.. /Volumes/Albano/2020-08-06-holding-analysis-extraction/2000051414/3002011430_usage_springer.csv\n",
      "===\n",
      "Extracting Springer Usage for 3002114477  -- top level= 2000051414\n",
      "..saving.. /Volumes/Albano/2020-08-06-holding-analysis-extraction/2000051414/3002114477_usage_springer.csv\n",
      "\n",
      "======\n",
      "Checking Pre-saved Hierarchy for BPID:  8201037522 \n",
      "======\n",
      "Related BPIDs found:  2 = ['8201037522', '8200828607']\n"
     ]
    },
    {
     "data": {
      "application/vnd.jupyter.widget-view+json": {
       "model_id": "c7c95e23252742a7a16f0f8098c2f6e5",
       "version_major": 2,
       "version_minor": 0
      },
      "text/plain": [
       "HBox(children=(FloatProgress(value=0.0, max=2.0), HTML(value='')))"
      ]
     },
     "metadata": {},
     "output_type": "display_data"
    },
    {
     "name": "stdout",
     "output_type": "stream",
     "text": [
      "===\n",
      "Extracting Springer Usage for 8201037522  -- top level= 8201037522\n",
      "..saving.. /Volumes/Albano/2020-08-06-holding-analysis-extraction/8201037522/8201037522_usage_springer.csv\n",
      "===\n",
      "Extracting Springer Usage for 8200828607  -- top level= 8201037522\n",
      "..saving.. /Volumes/Albano/2020-08-06-holding-analysis-extraction/8201037522/8200828607_usage_springer.csv\n",
      "\n",
      "======\n",
      "Checking Pre-saved Hierarchy for BPID:  8200711893 \n",
      "======\n",
      "Related BPIDs found:  2 = ['8200711893', '8200828607']\n"
     ]
    },
    {
     "data": {
      "application/vnd.jupyter.widget-view+json": {
       "model_id": "6b4b7796461f4282a67fadd7b4c43ac7",
       "version_major": 2,
       "version_minor": 0
      },
      "text/plain": [
       "HBox(children=(FloatProgress(value=0.0, max=2.0), HTML(value='')))"
      ]
     },
     "metadata": {},
     "output_type": "display_data"
    },
    {
     "name": "stdout",
     "output_type": "stream",
     "text": [
      "===\n",
      "Extracting Springer Usage for 8200711893  -- top level= 8200711893\n",
      "..saving.. /Volumes/Albano/2020-08-06-holding-analysis-extraction/8200711893/8200711893_usage_springer.csv\n",
      "===\n",
      "Extracting Springer Usage for 8200828607  -- top level= 8200711893\n",
      "..saving.. /Volumes/Albano/2020-08-06-holding-analysis-extraction/8200711893/8200828607_usage_springer.csv\n",
      "\n",
      "======\n",
      "Checking Pre-saved Hierarchy for BPID:  2000144603 \n",
      "======\n",
      "Related BPIDs found:  7 = ['2000144603', '3000130459', '3000251517', '3991330314', '3001139967', '3002011430', '3002114477']\n"
     ]
    },
    {
     "data": {
      "application/vnd.jupyter.widget-view+json": {
       "model_id": "2ec2ad86173047eda9e8ad1c4e229486",
       "version_major": 2,
       "version_minor": 0
      },
      "text/plain": [
       "HBox(children=(FloatProgress(value=0.0, max=7.0), HTML(value='')))"
      ]
     },
     "metadata": {},
     "output_type": "display_data"
    },
    {
     "name": "stdout",
     "output_type": "stream",
     "text": [
      "===\n",
      "Extracting Springer Usage for 2000144603  -- top level= 2000144603\n",
      "..saving.. /Volumes/Albano/2020-08-06-holding-analysis-extraction/2000144603/2000144603_usage_springer.csv\n",
      "===\n",
      "Extracting Springer Usage for 3000130459  -- top level= 2000144603\n",
      "..saving.. /Volumes/Albano/2020-08-06-holding-analysis-extraction/2000144603/3000130459_usage_springer.csv\n",
      "===\n",
      "Extracting Springer Usage for 3000251517  -- top level= 2000144603\n",
      "..saving.. /Volumes/Albano/2020-08-06-holding-analysis-extraction/2000144603/3000251517_usage_springer.csv\n",
      "===\n",
      "Extracting Springer Usage for 3991330314  -- top level= 2000144603\n",
      "..saving.. /Volumes/Albano/2020-08-06-holding-analysis-extraction/2000144603/3991330314_usage_springer.csv\n",
      "===\n",
      "Extracting Springer Usage for 3001139967  -- top level= 2000144603\n",
      "..saving.. /Volumes/Albano/2020-08-06-holding-analysis-extraction/2000144603/3001139967_usage_springer.csv\n",
      "===\n",
      "Extracting Springer Usage for 3002011430  -- top level= 2000144603\n",
      "..saving.. /Volumes/Albano/2020-08-06-holding-analysis-extraction/2000144603/3002011430_usage_springer.csv\n",
      "===\n",
      "Extracting Springer Usage for 3002114477  -- top level= 2000144603\n",
      "..saving.. /Volumes/Albano/2020-08-06-holding-analysis-extraction/2000144603/3002114477_usage_springer.csv\n",
      "\n",
      "======\n",
      "Checking Pre-saved Hierarchy for BPID:  8200706780 \n",
      "======\n",
      "Related BPIDs found:  2 = ['8200706780', '8200828607']\n"
     ]
    },
    {
     "data": {
      "application/vnd.jupyter.widget-view+json": {
       "model_id": "aaacc70c67a14e2ca08d7956a8dbd148",
       "version_major": 2,
       "version_minor": 0
      },
      "text/plain": [
       "HBox(children=(FloatProgress(value=0.0, max=2.0), HTML(value='')))"
      ]
     },
     "metadata": {},
     "output_type": "display_data"
    },
    {
     "name": "stdout",
     "output_type": "stream",
     "text": [
      "===\n",
      "Extracting Springer Usage for 8200706780  -- top level= 8200706780\n",
      "..saving.. /Volumes/Albano/2020-08-06-holding-analysis-extraction/8200706780/8200706780_usage_springer.csv\n",
      "===\n",
      "Extracting Springer Usage for 8200828607  -- top level= 8200706780\n",
      "..saving.. /Volumes/Albano/2020-08-06-holding-analysis-extraction/8200706780/8200828607_usage_springer.csv\n",
      "\n",
      "======\n",
      "Checking Pre-saved Hierarchy for BPID:  2000422113 \n",
      "======\n",
      "Related BPIDs found:  1 = ['2000422113']\n"
     ]
    },
    {
     "data": {
      "application/vnd.jupyter.widget-view+json": {
       "model_id": "f172202765eb4245aefa207d30ce044f",
       "version_major": 2,
       "version_minor": 0
      },
      "text/plain": [
       "HBox(children=(FloatProgress(value=0.0, max=1.0), HTML(value='')))"
      ]
     },
     "metadata": {},
     "output_type": "display_data"
    },
    {
     "name": "stdout",
     "output_type": "stream",
     "text": [
      "===\n",
      "Extracting Springer Usage for 2000422113  -- top level= 2000422113\n",
      "..saving.. /Volumes/Albano/2020-08-06-holding-analysis-extraction/2000422113/2000422113_usage_springer.csv\n",
      "\n",
      "======\n",
      "Checking Pre-saved Hierarchy for BPID:  3000142563 \n",
      "======\n",
      "Related BPIDs found:  4 = ['3000142563', '3991332406', '3002060351', '3000123642']\n"
     ]
    },
    {
     "data": {
      "application/vnd.jupyter.widget-view+json": {
       "model_id": "81fb22cc6d3d48cd95e6ad7a5467f847",
       "version_major": 2,
       "version_minor": 0
      },
      "text/plain": [
       "HBox(children=(FloatProgress(value=0.0, max=4.0), HTML(value='')))"
      ]
     },
     "metadata": {},
     "output_type": "display_data"
    },
    {
     "name": "stdout",
     "output_type": "stream",
     "text": [
      "===\n",
      "Extracting Springer Usage for 3000142563  -- top level= 3000142563\n",
      "..saving.. /Volumes/Albano/2020-08-06-holding-analysis-extraction/3000142563/3000142563_usage_springer.csv\n",
      "===\n",
      "Extracting Springer Usage for 3991332406  -- top level= 3000142563\n",
      "..saving.. /Volumes/Albano/2020-08-06-holding-analysis-extraction/3000142563/3991332406_usage_springer.csv\n",
      "===\n",
      "Extracting Springer Usage for 3002060351  -- top level= 3000142563\n",
      "..saving.. /Volumes/Albano/2020-08-06-holding-analysis-extraction/3000142563/3002060351_usage_springer.csv\n",
      "===\n",
      "Extracting Springer Usage for 3000123642  -- top level= 3000142563\n",
      "..saving.. /Volumes/Albano/2020-08-06-holding-analysis-extraction/3000142563/3000123642_usage_springer.csv\n",
      "\n",
      "======\n",
      "Checking Pre-saved Hierarchy for BPID:  3000146148 \n",
      "======\n",
      "Related BPIDs found:  2 = ['3000146148', '3000675571']\n"
     ]
    },
    {
     "data": {
      "application/vnd.jupyter.widget-view+json": {
       "model_id": "c8edff83c4794a5094a9cefd3b7d0b6c",
       "version_major": 2,
       "version_minor": 0
      },
      "text/plain": [
       "HBox(children=(FloatProgress(value=0.0, max=2.0), HTML(value='')))"
      ]
     },
     "metadata": {},
     "output_type": "display_data"
    },
    {
     "name": "stdout",
     "output_type": "stream",
     "text": [
      "===\n",
      "Extracting Springer Usage for 3000146148  -- top level= 3000146148\n",
      "..saving.. /Volumes/Albano/2020-08-06-holding-analysis-extraction/3000146148/3000146148_usage_springer.csv\n",
      "===\n",
      "Extracting Springer Usage for 3000675571  -- top level= 3000146148\n",
      "..saving.. /Volumes/Albano/2020-08-06-holding-analysis-extraction/3000146148/3000675571_usage_springer.csv\n",
      "\n",
      "======\n",
      "Checking Pre-saved Hierarchy for BPID:  2000332004 \n",
      "======\n",
      "Related BPIDs found:  7 = ['2000332004', '3000130459', '3000251517', '3991330314', '3001139967', '3002011430', '3002114477']\n"
     ]
    },
    {
     "data": {
      "application/vnd.jupyter.widget-view+json": {
       "model_id": "c7efd2e3a007465fb096360a69bdf73a",
       "version_major": 2,
       "version_minor": 0
      },
      "text/plain": [
       "HBox(children=(FloatProgress(value=0.0, max=7.0), HTML(value='')))"
      ]
     },
     "metadata": {},
     "output_type": "display_data"
    },
    {
     "name": "stdout",
     "output_type": "stream",
     "text": [
      "===\n",
      "Extracting Springer Usage for 2000332004  -- top level= 2000332004\n",
      "..saving.. /Volumes/Albano/2020-08-06-holding-analysis-extraction/2000332004/2000332004_usage_springer.csv\n",
      "===\n",
      "Extracting Springer Usage for 3000130459  -- top level= 2000332004\n",
      "..saving.. /Volumes/Albano/2020-08-06-holding-analysis-extraction/2000332004/3000130459_usage_springer.csv\n",
      "===\n",
      "Extracting Springer Usage for 3000251517  -- top level= 2000332004\n",
      "..saving.. /Volumes/Albano/2020-08-06-holding-analysis-extraction/2000332004/3000251517_usage_springer.csv\n",
      "===\n",
      "Extracting Springer Usage for 3991330314  -- top level= 2000332004\n",
      "..saving.. /Volumes/Albano/2020-08-06-holding-analysis-extraction/2000332004/3991330314_usage_springer.csv\n",
      "===\n",
      "Extracting Springer Usage for 3001139967  -- top level= 2000332004\n",
      "..saving.. /Volumes/Albano/2020-08-06-holding-analysis-extraction/2000332004/3001139967_usage_springer.csv\n",
      "===\n",
      "Extracting Springer Usage for 3002011430  -- top level= 2000332004\n",
      "..saving.. /Volumes/Albano/2020-08-06-holding-analysis-extraction/2000332004/3002011430_usage_springer.csv\n",
      "===\n",
      "Extracting Springer Usage for 3002114477  -- top level= 2000332004\n",
      "..saving.. /Volumes/Albano/2020-08-06-holding-analysis-extraction/2000332004/3002114477_usage_springer.csv\n",
      "\n",
      "======\n",
      "Checking Pre-saved Hierarchy for BPID:  3000142567 \n",
      "======\n",
      "Related BPIDs found:  2 = ['3000142567', '8200828607']\n"
     ]
    },
    {
     "data": {
      "application/vnd.jupyter.widget-view+json": {
       "model_id": "4ae23d04ec154d04a8393fa1dd332d0a",
       "version_major": 2,
       "version_minor": 0
      },
      "text/plain": [
       "HBox(children=(FloatProgress(value=0.0, max=2.0), HTML(value='')))"
      ]
     },
     "metadata": {},
     "output_type": "display_data"
    },
    {
     "name": "stdout",
     "output_type": "stream",
     "text": [
      "===\n",
      "Extracting Springer Usage for 3000142567  -- top level= 3000142567\n",
      "..saving.. /Volumes/Albano/2020-08-06-holding-analysis-extraction/3000142567/3000142567_usage_springer.csv\n",
      "===\n",
      "Extracting Springer Usage for 8200828607  -- top level= 3000142567\n",
      "..saving.. /Volumes/Albano/2020-08-06-holding-analysis-extraction/3000142567/8200828607_usage_springer.csv\n",
      "\n",
      "======\n",
      "Checking Pre-saved Hierarchy for BPID:  2000051435 \n",
      "======\n",
      "Related BPIDs found:  7 = ['2000051435', '3000130459', '3000251517', '3991330314', '3001139967', '3002011430', '3002114477']\n"
     ]
    },
    {
     "data": {
      "application/vnd.jupyter.widget-view+json": {
       "model_id": "b1c903c7d2d24efdb68b3d12b21f8d4e",
       "version_major": 2,
       "version_minor": 0
      },
      "text/plain": [
       "HBox(children=(FloatProgress(value=0.0, max=7.0), HTML(value='')))"
      ]
     },
     "metadata": {},
     "output_type": "display_data"
    },
    {
     "name": "stdout",
     "output_type": "stream",
     "text": [
      "===\n",
      "Extracting Springer Usage for 2000051435  -- top level= 2000051435\n",
      "..saving.. /Volumes/Albano/2020-08-06-holding-analysis-extraction/2000051435/2000051435_usage_springer.csv\n",
      "===\n",
      "Extracting Springer Usage for 3000130459  -- top level= 2000051435\n",
      "..saving.. /Volumes/Albano/2020-08-06-holding-analysis-extraction/2000051435/3000130459_usage_springer.csv\n",
      "===\n",
      "Extracting Springer Usage for 3000251517  -- top level= 2000051435\n",
      "..saving.. /Volumes/Albano/2020-08-06-holding-analysis-extraction/2000051435/3000251517_usage_springer.csv\n",
      "===\n",
      "Extracting Springer Usage for 3991330314  -- top level= 2000051435\n",
      "..saving.. /Volumes/Albano/2020-08-06-holding-analysis-extraction/2000051435/3991330314_usage_springer.csv\n",
      "===\n",
      "Extracting Springer Usage for 3001139967  -- top level= 2000051435\n",
      "..saving.. /Volumes/Albano/2020-08-06-holding-analysis-extraction/2000051435/3001139967_usage_springer.csv\n",
      "===\n",
      "Extracting Springer Usage for 3002011430  -- top level= 2000051435\n",
      "..saving.. /Volumes/Albano/2020-08-06-holding-analysis-extraction/2000051435/3002011430_usage_springer.csv\n",
      "===\n",
      "Extracting Springer Usage for 3002114477  -- top level= 2000051435\n",
      "..saving.. /Volumes/Albano/2020-08-06-holding-analysis-extraction/2000051435/3002114477_usage_springer.csv\n",
      "\n",
      "======\n",
      "Checking Pre-saved Hierarchy for BPID:  8200836846 \n",
      "======\n",
      "Related BPIDs found:  5 = ['8200836846', '3000176734', '8200828607', '3000176756', '3902328142']\n"
     ]
    },
    {
     "data": {
      "application/vnd.jupyter.widget-view+json": {
       "model_id": "d26cc6b872dc4430a7be8c51696fdf8d",
       "version_major": 2,
       "version_minor": 0
      },
      "text/plain": [
       "HBox(children=(FloatProgress(value=0.0, max=5.0), HTML(value='')))"
      ]
     },
     "metadata": {},
     "output_type": "display_data"
    },
    {
     "name": "stdout",
     "output_type": "stream",
     "text": [
      "===\n",
      "Extracting Springer Usage for 8200836846  -- top level= 8200836846\n",
      "..saving.. /Volumes/Albano/2020-08-06-holding-analysis-extraction/8200836846/8200836846_usage_springer.csv\n",
      "===\n",
      "Extracting Springer Usage for 3000176734  -- top level= 8200836846\n",
      "..saving.. /Volumes/Albano/2020-08-06-holding-analysis-extraction/8200836846/3000176734_usage_springer.csv\n",
      "===\n",
      "Extracting Springer Usage for 8200828607  -- top level= 8200836846\n",
      "..saving.. /Volumes/Albano/2020-08-06-holding-analysis-extraction/8200836846/8200828607_usage_springer.csv\n",
      "===\n",
      "Extracting Springer Usage for 3000176756  -- top level= 8200836846\n",
      "..saving.. /Volumes/Albano/2020-08-06-holding-analysis-extraction/8200836846/3000176756_usage_springer.csv\n",
      "===\n",
      "Extracting Springer Usage for 3902328142  -- top level= 8200836846\n",
      "..saving.. /Volumes/Albano/2020-08-06-holding-analysis-extraction/8200836846/3902328142_usage_springer.csv\n",
      "\n",
      "======\n",
      "Checking Pre-saved Hierarchy for BPID:  8200724720 \n",
      "======\n",
      "Related BPIDs found:  3 = ['8200724720', '3000122248', '8200828607']\n"
     ]
    },
    {
     "data": {
      "application/vnd.jupyter.widget-view+json": {
       "model_id": "60f3a4c423e342848be33ab2057f8061",
       "version_major": 2,
       "version_minor": 0
      },
      "text/plain": [
       "HBox(children=(FloatProgress(value=0.0, max=3.0), HTML(value='')))"
      ]
     },
     "metadata": {},
     "output_type": "display_data"
    },
    {
     "name": "stdout",
     "output_type": "stream",
     "text": [
      "===\n",
      "Extracting Springer Usage for 8200724720  -- top level= 8200724720\n",
      "..saving.. /Volumes/Albano/2020-08-06-holding-analysis-extraction/8200724720/8200724720_usage_springer.csv\n",
      "===\n",
      "Extracting Springer Usage for 3000122248  -- top level= 8200724720\n",
      "..saving.. /Volumes/Albano/2020-08-06-holding-analysis-extraction/8200724720/3000122248_usage_springer.csv\n",
      "===\n",
      "Extracting Springer Usage for 8200828607  -- top level= 8200724720\n",
      "..saving.. /Volumes/Albano/2020-08-06-holding-analysis-extraction/8200724720/8200828607_usage_springer.csv\n",
      "\n",
      "======\n",
      "Checking Pre-saved Hierarchy for BPID:  3000155377 \n",
      "======\n",
      "Related BPIDs found:  1 = ['3000155377']\n"
     ]
    },
    {
     "data": {
      "application/vnd.jupyter.widget-view+json": {
       "model_id": "3a4271e0f9534bdebf633349c440fb83",
       "version_major": 2,
       "version_minor": 0
      },
      "text/plain": [
       "HBox(children=(FloatProgress(value=0.0, max=1.0), HTML(value='')))"
      ]
     },
     "metadata": {},
     "output_type": "display_data"
    },
    {
     "name": "stdout",
     "output_type": "stream",
     "text": [
      "===\n",
      "Extracting Springer Usage for 3000155377  -- top level= 3000155377\n",
      "..saving.. /Volumes/Albano/2020-08-06-holding-analysis-extraction/3000155377/3000155377_usage_springer.csv\n",
      "\n",
      "======\n",
      "Checking Pre-saved Hierarchy for BPID:  3000172792 \n",
      "======\n",
      "Related BPIDs found:  1 = ['3000172792']\n"
     ]
    },
    {
     "data": {
      "application/vnd.jupyter.widget-view+json": {
       "model_id": "d5c7e9853b9a4f1c89329215997cc56f",
       "version_major": 2,
       "version_minor": 0
      },
      "text/plain": [
       "HBox(children=(FloatProgress(value=0.0, max=1.0), HTML(value='')))"
      ]
     },
     "metadata": {},
     "output_type": "display_data"
    },
    {
     "name": "stdout",
     "output_type": "stream",
     "text": [
      "===\n",
      "Extracting Springer Usage for 3000172792  -- top level= 3000172792\n",
      "..saving.. /Volumes/Albano/2020-08-06-holding-analysis-extraction/3000172792/3000172792_usage_springer.csv\n",
      "\n",
      "======\n",
      "Checking Pre-saved Hierarchy for BPID:  8200868601 \n",
      "======\n",
      "Related BPIDs found:  3 = ['8200868601', '8200828607', '3000133814']\n"
     ]
    },
    {
     "data": {
      "application/vnd.jupyter.widget-view+json": {
       "model_id": "9fa9349c5531427497e447f20478a313",
       "version_major": 2,
       "version_minor": 0
      },
      "text/plain": [
       "HBox(children=(FloatProgress(value=0.0, max=3.0), HTML(value='')))"
      ]
     },
     "metadata": {},
     "output_type": "display_data"
    },
    {
     "name": "stdout",
     "output_type": "stream",
     "text": [
      "===\n",
      "Extracting Springer Usage for 8200868601  -- top level= 8200868601\n",
      "..saving.. /Volumes/Albano/2020-08-06-holding-analysis-extraction/8200868601/8200868601_usage_springer.csv\n",
      "===\n",
      "Extracting Springer Usage for 8200828607  -- top level= 8200868601\n",
      "..saving.. /Volumes/Albano/2020-08-06-holding-analysis-extraction/8200868601/8200828607_usage_springer.csv\n",
      "===\n",
      "Extracting Springer Usage for 3000133814  -- top level= 8200868601\n",
      "..saving.. /Volumes/Albano/2020-08-06-holding-analysis-extraction/8200868601/3000133814_usage_springer.csv\n",
      "\n",
      "======\n",
      "Checking Pre-saved Hierarchy for BPID:  8200972026 \n",
      "======\n",
      "Related BPIDs found:  5 = ['8200972026', '3000176734', '8200828607', '3000176756', '3902328142']\n"
     ]
    },
    {
     "data": {
      "application/vnd.jupyter.widget-view+json": {
       "model_id": "365c1d3e96b049a091f280acc91322b8",
       "version_major": 2,
       "version_minor": 0
      },
      "text/plain": [
       "HBox(children=(FloatProgress(value=0.0, max=5.0), HTML(value='')))"
      ]
     },
     "metadata": {},
     "output_type": "display_data"
    },
    {
     "name": "stdout",
     "output_type": "stream",
     "text": [
      "===\n",
      "Extracting Springer Usage for 8200972026  -- top level= 8200972026\n",
      "..saving.. /Volumes/Albano/2020-08-06-holding-analysis-extraction/8200972026/8200972026_usage_springer.csv\n",
      "===\n",
      "Extracting Springer Usage for 3000176734  -- top level= 8200972026\n",
      "..saving.. /Volumes/Albano/2020-08-06-holding-analysis-extraction/8200972026/3000176734_usage_springer.csv\n",
      "===\n",
      "Extracting Springer Usage for 8200828607  -- top level= 8200972026\n",
      "..saving.. /Volumes/Albano/2020-08-06-holding-analysis-extraction/8200972026/8200828607_usage_springer.csv\n",
      "===\n",
      "Extracting Springer Usage for 3000176756  -- top level= 8200972026\n",
      "..saving.. /Volumes/Albano/2020-08-06-holding-analysis-extraction/8200972026/3000176756_usage_springer.csv\n",
      "===\n",
      "Extracting Springer Usage for 3902328142  -- top level= 8200972026\n",
      "..saving.. /Volumes/Albano/2020-08-06-holding-analysis-extraction/8200972026/3902328142_usage_springer.csv\n",
      "\n",
      "======\n",
      "Checking Pre-saved Hierarchy for BPID:  3000204546 \n",
      "======\n",
      "Related BPIDs found:  3 = ['3000204546', '3000197460', '3901169726']\n"
     ]
    },
    {
     "data": {
      "application/vnd.jupyter.widget-view+json": {
       "model_id": "4a76df0c642e41119bb55aa4836d8a7f",
       "version_major": 2,
       "version_minor": 0
      },
      "text/plain": [
       "HBox(children=(FloatProgress(value=0.0, max=3.0), HTML(value='')))"
      ]
     },
     "metadata": {},
     "output_type": "display_data"
    },
    {
     "name": "stdout",
     "output_type": "stream",
     "text": [
      "===\n",
      "Extracting Springer Usage for 3000204546  -- top level= 3000204546\n",
      "..saving.. /Volumes/Albano/2020-08-06-holding-analysis-extraction/3000204546/3000204546_usage_springer.csv\n",
      "===\n",
      "Extracting Springer Usage for 3000197460  -- top level= 3000204546\n",
      "..saving.. /Volumes/Albano/2020-08-06-holding-analysis-extraction/3000204546/3000197460_usage_springer.csv\n",
      "===\n",
      "Extracting Springer Usage for 3901169726  -- top level= 3000204546\n",
      "..saving.. /Volumes/Albano/2020-08-06-holding-analysis-extraction/3000204546/3901169726_usage_springer.csv\n",
      "\n",
      "======\n",
      "Checking Pre-saved Hierarchy for BPID:  8200919299 \n",
      "======\n",
      "Related BPIDs found:  2 = ['8200919299', '3000216639']\n"
     ]
    },
    {
     "data": {
      "application/vnd.jupyter.widget-view+json": {
       "model_id": "6acaa82454a14196b20f1449f027bfae",
       "version_major": 2,
       "version_minor": 0
      },
      "text/plain": [
       "HBox(children=(FloatProgress(value=0.0, max=2.0), HTML(value='')))"
      ]
     },
     "metadata": {},
     "output_type": "display_data"
    },
    {
     "name": "stdout",
     "output_type": "stream",
     "text": [
      "===\n",
      "Extracting Springer Usage for 8200919299  -- top level= 8200919299\n",
      "..saving.. /Volumes/Albano/2020-08-06-holding-analysis-extraction/8200919299/8200919299_usage_springer.csv\n",
      "===\n",
      "Extracting Springer Usage for 3000216639  -- top level= 8200919299\n",
      "..saving.. /Volumes/Albano/2020-08-06-holding-analysis-extraction/8200919299/3000216639_usage_springer.csv\n",
      "\n",
      "======\n",
      "Checking Pre-saved Hierarchy for BPID:  3000123139 \n",
      "======\n",
      "Related BPIDs found:  2 = ['3000123139', '8200828607']\n"
     ]
    },
    {
     "data": {
      "application/vnd.jupyter.widget-view+json": {
       "model_id": "71cf0a6fc6984140838922605daa9087",
       "version_major": 2,
       "version_minor": 0
      },
      "text/plain": [
       "HBox(children=(FloatProgress(value=0.0, max=2.0), HTML(value='')))"
      ]
     },
     "metadata": {},
     "output_type": "display_data"
    },
    {
     "name": "stdout",
     "output_type": "stream",
     "text": [
      "===\n",
      "Extracting Springer Usage for 3000123139  -- top level= 3000123139\n",
      "..saving.. /Volumes/Albano/2020-08-06-holding-analysis-extraction/3000123139/3000123139_usage_springer.csv\n",
      "===\n",
      "Extracting Springer Usage for 8200828607  -- top level= 3000123139\n",
      "..saving.. /Volumes/Albano/2020-08-06-holding-analysis-extraction/3000123139/8200828607_usage_springer.csv\n",
      "\n",
      "======\n",
      "Checking Pre-saved Hierarchy for BPID:  2000189191 \n",
      "======\n",
      "Related BPIDs found:  2 = ['2000189191', '8200828607']\n"
     ]
    },
    {
     "data": {
      "application/vnd.jupyter.widget-view+json": {
       "model_id": "0442fc0b13a24175934092067e48e4c7",
       "version_major": 2,
       "version_minor": 0
      },
      "text/plain": [
       "HBox(children=(FloatProgress(value=0.0, max=2.0), HTML(value='')))"
      ]
     },
     "metadata": {},
     "output_type": "display_data"
    },
    {
     "name": "stdout",
     "output_type": "stream",
     "text": [
      "===\n",
      "Extracting Springer Usage for 2000189191  -- top level= 2000189191\n",
      "..saving.. /Volumes/Albano/2020-08-06-holding-analysis-extraction/2000189191/2000189191_usage_springer.csv\n",
      "===\n",
      "Extracting Springer Usage for 8200828607  -- top level= 2000189191\n",
      "..saving.. /Volumes/Albano/2020-08-06-holding-analysis-extraction/2000189191/8200828607_usage_springer.csv\n",
      "\n",
      "======\n",
      "Checking Pre-saved Hierarchy for BPID:  2000642829 \n",
      "======\n",
      "Related BPIDs found:  5 = ['2000642829', '3000568527', '3000714840', '3001038963', '3001337747']\n"
     ]
    },
    {
     "data": {
      "application/vnd.jupyter.widget-view+json": {
       "model_id": "c8c0e85066b2488ca3f6488627940e6f",
       "version_major": 2,
       "version_minor": 0
      },
      "text/plain": [
       "HBox(children=(FloatProgress(value=0.0, max=5.0), HTML(value='')))"
      ]
     },
     "metadata": {},
     "output_type": "display_data"
    },
    {
     "name": "stdout",
     "output_type": "stream",
     "text": [
      "===\n",
      "Extracting Springer Usage for 2000642829  -- top level= 2000642829\n",
      "..saving.. /Volumes/Albano/2020-08-06-holding-analysis-extraction/2000642829/2000642829_usage_springer.csv\n",
      "===\n",
      "Extracting Springer Usage for 3000568527  -- top level= 2000642829\n",
      "..saving.. /Volumes/Albano/2020-08-06-holding-analysis-extraction/2000642829/3000568527_usage_springer.csv\n",
      "===\n",
      "Extracting Springer Usage for 3000714840  -- top level= 2000642829\n",
      "..saving.. /Volumes/Albano/2020-08-06-holding-analysis-extraction/2000642829/3000714840_usage_springer.csv\n",
      "===\n",
      "Extracting Springer Usage for 3001038963  -- top level= 2000642829\n",
      "..saving.. /Volumes/Albano/2020-08-06-holding-analysis-extraction/2000642829/3001038963_usage_springer.csv\n",
      "===\n",
      "Extracting Springer Usage for 3001337747  -- top level= 2000642829\n",
      "..saving.. /Volumes/Albano/2020-08-06-holding-analysis-extraction/2000642829/3001337747_usage_springer.csv\n",
      "\n",
      "======\n",
      "Checking Pre-saved Hierarchy for BPID:  2000481557 \n",
      "======\n",
      "Related BPIDs found:  2 = ['2000481557', '8200828607']\n"
     ]
    },
    {
     "data": {
      "application/vnd.jupyter.widget-view+json": {
       "model_id": "69e7d9b5c29e44f6bf03aee738660f20",
       "version_major": 2,
       "version_minor": 0
      },
      "text/plain": [
       "HBox(children=(FloatProgress(value=0.0, max=2.0), HTML(value='')))"
      ]
     },
     "metadata": {},
     "output_type": "display_data"
    },
    {
     "name": "stdout",
     "output_type": "stream",
     "text": [
      "===\n",
      "Extracting Springer Usage for 2000481557  -- top level= 2000481557\n",
      "..saving.. /Volumes/Albano/2020-08-06-holding-analysis-extraction/2000481557/2000481557_usage_springer.csv\n",
      "===\n",
      "Extracting Springer Usage for 8200828607  -- top level= 2000481557\n",
      "..saving.. /Volumes/Albano/2020-08-06-holding-analysis-extraction/2000481557/8200828607_usage_springer.csv\n",
      "\n",
      "======\n",
      "Checking Pre-saved Hierarchy for BPID:  8200724245 \n",
      "======\n",
      "Related BPIDs found:  2 = ['8200724245', '8200828607']\n"
     ]
    },
    {
     "data": {
      "application/vnd.jupyter.widget-view+json": {
       "model_id": "9258f52b4625475f873a8fa651977386",
       "version_major": 2,
       "version_minor": 0
      },
      "text/plain": [
       "HBox(children=(FloatProgress(value=0.0, max=2.0), HTML(value='')))"
      ]
     },
     "metadata": {},
     "output_type": "display_data"
    },
    {
     "name": "stdout",
     "output_type": "stream",
     "text": [
      "===\n",
      "Extracting Springer Usage for 8200724245  -- top level= 8200724245\n",
      "..saving.. /Volumes/Albano/2020-08-06-holding-analysis-extraction/8200724245/8200724245_usage_springer.csv\n",
      "===\n",
      "Extracting Springer Usage for 8200828607  -- top level= 8200724245\n",
      "..saving.. /Volumes/Albano/2020-08-06-holding-analysis-extraction/8200724245/8200828607_usage_springer.csv\n",
      "\n",
      "======\n",
      "Checking Pre-saved Hierarchy for BPID:  1000857884 \n",
      "======\n",
      "Related BPIDs found:  8 = ['1000857884', '3000130459', '3000179129', '3000198352', '3991330314', '3001139967', '3002011430', '3002114477']\n"
     ]
    },
    {
     "data": {
      "application/vnd.jupyter.widget-view+json": {
       "model_id": "392939e95d6d471599c111d3fc6a64fb",
       "version_major": 2,
       "version_minor": 0
      },
      "text/plain": [
       "HBox(children=(FloatProgress(value=0.0, max=8.0), HTML(value='')))"
      ]
     },
     "metadata": {},
     "output_type": "display_data"
    },
    {
     "name": "stdout",
     "output_type": "stream",
     "text": [
      "===\n",
      "Extracting Springer Usage for 1000857884  -- top level= 1000857884\n",
      "..saving.. /Volumes/Albano/2020-08-06-holding-analysis-extraction/1000857884/1000857884_usage_springer.csv\n",
      "===\n",
      "Extracting Springer Usage for 3000130459  -- top level= 1000857884\n",
      "..saving.. /Volumes/Albano/2020-08-06-holding-analysis-extraction/1000857884/3000130459_usage_springer.csv\n",
      "===\n",
      "Extracting Springer Usage for 3000179129  -- top level= 1000857884\n",
      "..saving.. /Volumes/Albano/2020-08-06-holding-analysis-extraction/1000857884/3000179129_usage_springer.csv\n",
      "===\n",
      "Extracting Springer Usage for 3000198352  -- top level= 1000857884\n",
      "..saving.. /Volumes/Albano/2020-08-06-holding-analysis-extraction/1000857884/3000198352_usage_springer.csv\n",
      "===\n",
      "Extracting Springer Usage for 3991330314  -- top level= 1000857884\n",
      "..saving.. /Volumes/Albano/2020-08-06-holding-analysis-extraction/1000857884/3991330314_usage_springer.csv\n",
      "===\n",
      "Extracting Springer Usage for 3001139967  -- top level= 1000857884\n",
      "..saving.. /Volumes/Albano/2020-08-06-holding-analysis-extraction/1000857884/3001139967_usage_springer.csv\n",
      "===\n",
      "Extracting Springer Usage for 3002011430  -- top level= 1000857884\n",
      "..saving.. /Volumes/Albano/2020-08-06-holding-analysis-extraction/1000857884/3002011430_usage_springer.csv\n",
      "===\n",
      "Extracting Springer Usage for 3002114477  -- top level= 1000857884\n",
      "..saving.. /Volumes/Albano/2020-08-06-holding-analysis-extraction/1000857884/3002114477_usage_springer.csv\n",
      "\n",
      "======\n",
      "Checking Pre-saved Hierarchy for BPID:  3000147746 \n",
      "======\n",
      "Related BPIDs found:  2 = ['3000147746', '3000675571']\n"
     ]
    },
    {
     "data": {
      "application/vnd.jupyter.widget-view+json": {
       "model_id": "c88ae51fac5b41e1b1294f5fa2a8b774",
       "version_major": 2,
       "version_minor": 0
      },
      "text/plain": [
       "HBox(children=(FloatProgress(value=0.0, max=2.0), HTML(value='')))"
      ]
     },
     "metadata": {},
     "output_type": "display_data"
    },
    {
     "name": "stdout",
     "output_type": "stream",
     "text": [
      "===\n",
      "Extracting Springer Usage for 3000147746  -- top level= 3000147746\n",
      "..saving.. /Volumes/Albano/2020-08-06-holding-analysis-extraction/3000147746/3000147746_usage_springer.csv\n",
      "===\n",
      "Extracting Springer Usage for 3000675571  -- top level= 3000147746\n",
      "..saving.. /Volumes/Albano/2020-08-06-holding-analysis-extraction/3000147746/3000675571_usage_springer.csv\n",
      "\n",
      "======\n",
      "Checking Pre-saved Hierarchy for BPID:  8200831269 \n",
      "======\n",
      "Related BPIDs found:  2 = ['8200831269', '8200828607']\n"
     ]
    },
    {
     "data": {
      "application/vnd.jupyter.widget-view+json": {
       "model_id": "0f1a3cf8e84d4cfab5a7b3163dd9c5ba",
       "version_major": 2,
       "version_minor": 0
      },
      "text/plain": [
       "HBox(children=(FloatProgress(value=0.0, max=2.0), HTML(value='')))"
      ]
     },
     "metadata": {},
     "output_type": "display_data"
    },
    {
     "name": "stdout",
     "output_type": "stream",
     "text": [
      "===\n",
      "Extracting Springer Usage for 8200831269  -- top level= 8200831269\n",
      "..saving.. /Volumes/Albano/2020-08-06-holding-analysis-extraction/8200831269/8200831269_usage_springer.csv\n",
      "===\n",
      "Extracting Springer Usage for 8200828607  -- top level= 8200831269\n",
      "..saving.. /Volumes/Albano/2020-08-06-holding-analysis-extraction/8200831269/8200828607_usage_springer.csv\n",
      "\n",
      "======\n",
      "Checking Pre-saved Hierarchy for BPID:  8200911654 \n",
      "======\n",
      "Related BPIDs found:  2 = ['8200911654', '8200828607']\n"
     ]
    },
    {
     "data": {
      "application/vnd.jupyter.widget-view+json": {
       "model_id": "7ab90a1856b44951bb65b0f55f25494f",
       "version_major": 2,
       "version_minor": 0
      },
      "text/plain": [
       "HBox(children=(FloatProgress(value=0.0, max=2.0), HTML(value='')))"
      ]
     },
     "metadata": {},
     "output_type": "display_data"
    },
    {
     "name": "stdout",
     "output_type": "stream",
     "text": [
      "===\n",
      "Extracting Springer Usage for 8200911654  -- top level= 8200911654\n",
      "..saving.. /Volumes/Albano/2020-08-06-holding-analysis-extraction/8200911654/8200911654_usage_springer.csv\n",
      "===\n",
      "Extracting Springer Usage for 8200828607  -- top level= 8200911654\n",
      "..saving.. /Volumes/Albano/2020-08-06-holding-analysis-extraction/8200911654/8200828607_usage_springer.csv\n",
      "\n",
      "======\n",
      "Checking Pre-saved Hierarchy for BPID:  8200408873 \n",
      "======\n",
      "Related BPIDs found:  2 = ['8200408873', '8200828607']\n"
     ]
    },
    {
     "data": {
      "application/vnd.jupyter.widget-view+json": {
       "model_id": "0511dbb0830d4f2b939ada5b2fa98591",
       "version_major": 2,
       "version_minor": 0
      },
      "text/plain": [
       "HBox(children=(FloatProgress(value=0.0, max=2.0), HTML(value='')))"
      ]
     },
     "metadata": {},
     "output_type": "display_data"
    },
    {
     "name": "stdout",
     "output_type": "stream",
     "text": [
      "===\n",
      "Extracting Springer Usage for 8200408873  -- top level= 8200408873\n",
      "..saving.. /Volumes/Albano/2020-08-06-holding-analysis-extraction/8200408873/8200408873_usage_springer.csv\n",
      "===\n",
      "Extracting Springer Usage for 8200828607  -- top level= 8200408873\n",
      "..saving.. /Volumes/Albano/2020-08-06-holding-analysis-extraction/8200408873/8200828607_usage_springer.csv\n",
      "\n",
      "======\n",
      "Checking Pre-saved Hierarchy for BPID:  3991369002 \n",
      "======\n",
      "Related BPIDs found:  1 = ['3991369002']\n"
     ]
    },
    {
     "data": {
      "application/vnd.jupyter.widget-view+json": {
       "model_id": "ed865063a9cd4f89bcbaf34280698328",
       "version_major": 2,
       "version_minor": 0
      },
      "text/plain": [
       "HBox(children=(FloatProgress(value=0.0, max=1.0), HTML(value='')))"
      ]
     },
     "metadata": {},
     "output_type": "display_data"
    },
    {
     "name": "stdout",
     "output_type": "stream",
     "text": [
      "===\n",
      "Extracting Springer Usage for 3991369002  -- top level= 3991369002\n",
      "..saving.. /Volumes/Albano/2020-08-06-holding-analysis-extraction/3991369002/3991369002_usage_springer.csv\n",
      "\n",
      "======\n",
      "Checking Pre-saved Hierarchy for BPID:  2000545279 \n",
      "======\n",
      "Related BPIDs found:  1 = ['2000545279']\n"
     ]
    },
    {
     "data": {
      "application/vnd.jupyter.widget-view+json": {
       "model_id": "53ac4ef560584f18a25970fa0967e1cd",
       "version_major": 2,
       "version_minor": 0
      },
      "text/plain": [
       "HBox(children=(FloatProgress(value=0.0, max=1.0), HTML(value='')))"
      ]
     },
     "metadata": {},
     "output_type": "display_data"
    },
    {
     "name": "stdout",
     "output_type": "stream",
     "text": [
      "===\n",
      "Extracting Springer Usage for 2000545279  -- top level= 2000545279\n",
      "..saving.. /Volumes/Albano/2020-08-06-holding-analysis-extraction/2000545279/2000545279_usage_springer.csv\n",
      "\n",
      "======\n",
      "Checking Pre-saved Hierarchy for BPID:  2000397100 \n",
      "======\n",
      "Related BPIDs found:  1 = ['2000397100']\n"
     ]
    },
    {
     "data": {
      "application/vnd.jupyter.widget-view+json": {
       "model_id": "23a067e34f1e491b98805e43eb6296d6",
       "version_major": 2,
       "version_minor": 0
      },
      "text/plain": [
       "HBox(children=(FloatProgress(value=0.0, max=1.0), HTML(value='')))"
      ]
     },
     "metadata": {},
     "output_type": "display_data"
    },
    {
     "name": "stdout",
     "output_type": "stream",
     "text": [
      "===\n",
      "Extracting Springer Usage for 2000397100  -- top level= 2000397100\n",
      "..saving.. /Volumes/Albano/2020-08-06-holding-analysis-extraction/2000397100/2000397100_usage_springer.csv\n",
      "\n",
      "======\n",
      "Checking Pre-saved Hierarchy for BPID:  3991467823 \n",
      "======\n",
      "Related BPIDs found:  1 = ['3991467823']\n"
     ]
    },
    {
     "data": {
      "application/vnd.jupyter.widget-view+json": {
       "model_id": "dc8183daabd14359b5082f4c95007acf",
       "version_major": 2,
       "version_minor": 0
      },
      "text/plain": [
       "HBox(children=(FloatProgress(value=0.0, max=1.0), HTML(value='')))"
      ]
     },
     "metadata": {},
     "output_type": "display_data"
    },
    {
     "name": "stdout",
     "output_type": "stream",
     "text": [
      "===\n",
      "Extracting Springer Usage for 3991467823  -- top level= 3991467823\n",
      "..saving.. /Volumes/Albano/2020-08-06-holding-analysis-extraction/3991467823/3991467823_usage_springer.csv\n",
      "\n",
      "======\n",
      "Checking Pre-saved Hierarchy for BPID:  8200177967 \n",
      "======\n",
      "Related BPIDs found:  2 = ['8200177967', '8200828607']\n"
     ]
    },
    {
     "data": {
      "application/vnd.jupyter.widget-view+json": {
       "model_id": "3a3247a2080f40368ceb4c895e4757fa",
       "version_major": 2,
       "version_minor": 0
      },
      "text/plain": [
       "HBox(children=(FloatProgress(value=0.0, max=2.0), HTML(value='')))"
      ]
     },
     "metadata": {},
     "output_type": "display_data"
    },
    {
     "name": "stdout",
     "output_type": "stream",
     "text": [
      "===\n",
      "Extracting Springer Usage for 8200177967  -- top level= 8200177967\n",
      "..saving.. /Volumes/Albano/2020-08-06-holding-analysis-extraction/8200177967/8200177967_usage_springer.csv\n",
      "===\n",
      "Extracting Springer Usage for 8200828607  -- top level= 8200177967\n",
      "..saving.. /Volumes/Albano/2020-08-06-holding-analysis-extraction/8200177967/8200828607_usage_springer.csv\n",
      "\n",
      "======\n",
      "Checking Pre-saved Hierarchy for BPID:  8201031477 \n",
      "======\n",
      "Related BPIDs found:  1 = ['8201031477']\n"
     ]
    },
    {
     "data": {
      "application/vnd.jupyter.widget-view+json": {
       "model_id": "f0a153d97f244c4eb4941d972742ea50",
       "version_major": 2,
       "version_minor": 0
      },
      "text/plain": [
       "HBox(children=(FloatProgress(value=0.0, max=1.0), HTML(value='')))"
      ]
     },
     "metadata": {},
     "output_type": "display_data"
    },
    {
     "name": "stdout",
     "output_type": "stream",
     "text": [
      "===\n",
      "Extracting Springer Usage for 8201031477  -- top level= 8201031477\n",
      "..saving.. /Volumes/Albano/2020-08-06-holding-analysis-extraction/8201031477/8201031477_usage_springer.csv\n",
      "\n",
      "======\n",
      "Checking Pre-saved Hierarchy for BPID:  2000463160 \n",
      "======\n",
      "Related BPIDs found:  11 = ['2000463160', '3000130811', '3000481104', '3000730835', '3000824225', '3000208665', '3001039277', '3991464068', '3001231873', '3003089239', '3991447120']\n"
     ]
    },
    {
     "data": {
      "application/vnd.jupyter.widget-view+json": {
       "model_id": "e05a15b1165a464988bf305f8d35e598",
       "version_major": 2,
       "version_minor": 0
      },
      "text/plain": [
       "HBox(children=(FloatProgress(value=0.0, max=11.0), HTML(value='')))"
      ]
     },
     "metadata": {},
     "output_type": "display_data"
    },
    {
     "name": "stdout",
     "output_type": "stream",
     "text": [
      "===\n",
      "Extracting Springer Usage for 2000463160  -- top level= 2000463160\n",
      "..saving.. /Volumes/Albano/2020-08-06-holding-analysis-extraction/2000463160/2000463160_usage_springer.csv\n",
      "===\n",
      "Extracting Springer Usage for 3000130811  -- top level= 2000463160\n",
      "..saving.. /Volumes/Albano/2020-08-06-holding-analysis-extraction/2000463160/3000130811_usage_springer.csv\n",
      "===\n",
      "Extracting Springer Usage for 3000481104  -- top level= 2000463160\n",
      "..saving.. /Volumes/Albano/2020-08-06-holding-analysis-extraction/2000463160/3000481104_usage_springer.csv\n",
      "===\n",
      "Extracting Springer Usage for 3000730835  -- top level= 2000463160\n",
      "..saving.. /Volumes/Albano/2020-08-06-holding-analysis-extraction/2000463160/3000730835_usage_springer.csv\n",
      "===\n",
      "Extracting Springer Usage for 3000824225  -- top level= 2000463160\n",
      "..saving.. /Volumes/Albano/2020-08-06-holding-analysis-extraction/2000463160/3000824225_usage_springer.csv\n",
      "===\n",
      "Extracting Springer Usage for 3000208665  -- top level= 2000463160\n",
      "..saving.. /Volumes/Albano/2020-08-06-holding-analysis-extraction/2000463160/3000208665_usage_springer.csv\n",
      "===\n",
      "Extracting Springer Usage for 3001039277  -- top level= 2000463160\n",
      "..saving.. /Volumes/Albano/2020-08-06-holding-analysis-extraction/2000463160/3001039277_usage_springer.csv\n",
      "===\n",
      "Extracting Springer Usage for 3991464068  -- top level= 2000463160\n",
      "..saving.. /Volumes/Albano/2020-08-06-holding-analysis-extraction/2000463160/3991464068_usage_springer.csv\n",
      "===\n",
      "Extracting Springer Usage for 3001231873  -- top level= 2000463160\n",
      "..saving.. /Volumes/Albano/2020-08-06-holding-analysis-extraction/2000463160/3001231873_usage_springer.csv\n",
      "===\n",
      "Extracting Springer Usage for 3003089239  -- top level= 2000463160\n",
      "..saving.. /Volumes/Albano/2020-08-06-holding-analysis-extraction/2000463160/3003089239_usage_springer.csv\n",
      "===\n",
      "Extracting Springer Usage for 3991447120  -- top level= 2000463160\n",
      "..saving.. /Volumes/Albano/2020-08-06-holding-analysis-extraction/2000463160/3991447120_usage_springer.csv\n",
      "\n",
      "======\n",
      "Checking Pre-saved Hierarchy for BPID:  2000478521 \n",
      "======\n",
      "Related BPIDs found:  2 = ['2000478521', '3000675571']\n"
     ]
    },
    {
     "data": {
      "application/vnd.jupyter.widget-view+json": {
       "model_id": "3b7a2fcf56634515ba463d7225bb926a",
       "version_major": 2,
       "version_minor": 0
      },
      "text/plain": [
       "HBox(children=(FloatProgress(value=0.0, max=2.0), HTML(value='')))"
      ]
     },
     "metadata": {},
     "output_type": "display_data"
    },
    {
     "name": "stdout",
     "output_type": "stream",
     "text": [
      "===\n",
      "Extracting Springer Usage for 2000478521  -- top level= 2000478521\n",
      "..saving.. /Volumes/Albano/2020-08-06-holding-analysis-extraction/2000478521/2000478521_usage_springer.csv\n",
      "===\n",
      "Extracting Springer Usage for 3000675571  -- top level= 2000478521\n",
      "..saving.. /Volumes/Albano/2020-08-06-holding-analysis-extraction/2000478521/3000675571_usage_springer.csv\n",
      "\n",
      "======\n",
      "Checking Pre-saved Hierarchy for BPID:  3000162104 \n",
      "======\n",
      "Related BPIDs found:  4 = ['3000162104', '3000130631', '3000593105', '3003349446']\n"
     ]
    },
    {
     "data": {
      "application/vnd.jupyter.widget-view+json": {
       "model_id": "943cd70106474811acca79bf94076c78",
       "version_major": 2,
       "version_minor": 0
      },
      "text/plain": [
       "HBox(children=(FloatProgress(value=0.0, max=4.0), HTML(value='')))"
      ]
     },
     "metadata": {},
     "output_type": "display_data"
    },
    {
     "name": "stdout",
     "output_type": "stream",
     "text": [
      "===\n",
      "Extracting Springer Usage for 3000162104  -- top level= 3000162104\n",
      "..saving.. /Volumes/Albano/2020-08-06-holding-analysis-extraction/3000162104/3000162104_usage_springer.csv\n",
      "===\n",
      "Extracting Springer Usage for 3000130631  -- top level= 3000162104\n",
      "..saving.. /Volumes/Albano/2020-08-06-holding-analysis-extraction/3000162104/3000130631_usage_springer.csv\n",
      "===\n",
      "Extracting Springer Usage for 3000593105  -- top level= 3000162104\n",
      "..saving.. /Volumes/Albano/2020-08-06-holding-analysis-extraction/3000162104/3000593105_usage_springer.csv\n",
      "===\n",
      "Extracting Springer Usage for 3003349446  -- top level= 3000162104\n",
      "..saving.. /Volumes/Albano/2020-08-06-holding-analysis-extraction/3000162104/3003349446_usage_springer.csv\n",
      "\n",
      "======\n",
      "Checking Pre-saved Hierarchy for BPID:  2000342845 \n",
      "======\n",
      "Related BPIDs found:  5 = ['2000342845', '3000202650', '3000508393', '3000595123', '3000701760']\n"
     ]
    },
    {
     "data": {
      "application/vnd.jupyter.widget-view+json": {
       "model_id": "680ede340e1f44eba3f63aa5556ab5a6",
       "version_major": 2,
       "version_minor": 0
      },
      "text/plain": [
       "HBox(children=(FloatProgress(value=0.0, max=5.0), HTML(value='')))"
      ]
     },
     "metadata": {},
     "output_type": "display_data"
    },
    {
     "name": "stdout",
     "output_type": "stream",
     "text": [
      "===\n",
      "Extracting Springer Usage for 2000342845  -- top level= 2000342845\n",
      "..saving.. /Volumes/Albano/2020-08-06-holding-analysis-extraction/2000342845/2000342845_usage_springer.csv\n",
      "===\n",
      "Extracting Springer Usage for 3000202650  -- top level= 2000342845\n",
      "..saving.. /Volumes/Albano/2020-08-06-holding-analysis-extraction/2000342845/3000202650_usage_springer.csv\n",
      "===\n",
      "Extracting Springer Usage for 3000508393  -- top level= 2000342845\n",
      "..saving.. /Volumes/Albano/2020-08-06-holding-analysis-extraction/2000342845/3000508393_usage_springer.csv\n",
      "===\n",
      "Extracting Springer Usage for 3000595123  -- top level= 2000342845\n",
      "..saving.. /Volumes/Albano/2020-08-06-holding-analysis-extraction/2000342845/3000595123_usage_springer.csv\n",
      "===\n",
      "Extracting Springer Usage for 3000701760  -- top level= 2000342845\n",
      "..saving.. /Volumes/Albano/2020-08-06-holding-analysis-extraction/2000342845/3000701760_usage_springer.csv\n",
      "\n",
      "======\n",
      "Checking Pre-saved Hierarchy for BPID:  1000864062 \n",
      "======\n",
      "Related BPIDs found:  8 = ['1000864062', '3000130459', '3000251517', '3991330314', '3001139967', '3000179129', '3002011430', '3002114477']\n"
     ]
    },
    {
     "data": {
      "application/vnd.jupyter.widget-view+json": {
       "model_id": "ab62a149d8ef41bfa2000794323cce75",
       "version_major": 2,
       "version_minor": 0
      },
      "text/plain": [
       "HBox(children=(FloatProgress(value=0.0, max=8.0), HTML(value='')))"
      ]
     },
     "metadata": {},
     "output_type": "display_data"
    },
    {
     "name": "stdout",
     "output_type": "stream",
     "text": [
      "===\n",
      "Extracting Springer Usage for 1000864062  -- top level= 1000864062\n",
      "..saving.. /Volumes/Albano/2020-08-06-holding-analysis-extraction/1000864062/1000864062_usage_springer.csv\n",
      "===\n",
      "Extracting Springer Usage for 3000130459  -- top level= 1000864062\n",
      "..saving.. /Volumes/Albano/2020-08-06-holding-analysis-extraction/1000864062/3000130459_usage_springer.csv\n",
      "===\n",
      "Extracting Springer Usage for 3000251517  -- top level= 1000864062\n",
      "..saving.. /Volumes/Albano/2020-08-06-holding-analysis-extraction/1000864062/3000251517_usage_springer.csv\n",
      "===\n",
      "Extracting Springer Usage for 3991330314  -- top level= 1000864062\n",
      "..saving.. /Volumes/Albano/2020-08-06-holding-analysis-extraction/1000864062/3991330314_usage_springer.csv\n",
      "===\n",
      "Extracting Springer Usage for 3001139967  -- top level= 1000864062\n",
      "..saving.. /Volumes/Albano/2020-08-06-holding-analysis-extraction/1000864062/3001139967_usage_springer.csv\n",
      "===\n",
      "Extracting Springer Usage for 3000179129  -- top level= 1000864062\n",
      "..saving.. /Volumes/Albano/2020-08-06-holding-analysis-extraction/1000864062/3000179129_usage_springer.csv\n",
      "===\n",
      "Extracting Springer Usage for 3002011430  -- top level= 1000864062\n",
      "..saving.. /Volumes/Albano/2020-08-06-holding-analysis-extraction/1000864062/3002011430_usage_springer.csv\n",
      "===\n",
      "Extracting Springer Usage for 3002114477  -- top level= 1000864062\n",
      "..saving.. /Volumes/Albano/2020-08-06-holding-analysis-extraction/1000864062/3002114477_usage_springer.csv\n",
      "\n",
      "======\n",
      "Checking Pre-saved Hierarchy for BPID:  8200730943 \n",
      "======\n",
      "Related BPIDs found:  2 = ['8200730943', '8200828607']\n"
     ]
    },
    {
     "data": {
      "application/vnd.jupyter.widget-view+json": {
       "model_id": "ad3dac753d3243aa8782b4674082712a",
       "version_major": 2,
       "version_minor": 0
      },
      "text/plain": [
       "HBox(children=(FloatProgress(value=0.0, max=2.0), HTML(value='')))"
      ]
     },
     "metadata": {},
     "output_type": "display_data"
    },
    {
     "name": "stdout",
     "output_type": "stream",
     "text": [
      "===\n",
      "Extracting Springer Usage for 8200730943  -- top level= 8200730943\n",
      "..saving.. /Volumes/Albano/2020-08-06-holding-analysis-extraction/8200730943/8200730943_usage_springer.csv\n",
      "===\n",
      "Extracting Springer Usage for 8200828607  -- top level= 8200730943\n",
      "..saving.. /Volumes/Albano/2020-08-06-holding-analysis-extraction/8200730943/8200828607_usage_springer.csv\n",
      "\n",
      "======\n",
      "Checking Pre-saved Hierarchy for BPID:  3000187712 \n",
      "======\n",
      "Related BPIDs found:  7 = ['3000187712', '3000130459', '3000251517', '3991330314', '3001139967', '3002011430', '3002114477']\n"
     ]
    },
    {
     "data": {
      "application/vnd.jupyter.widget-view+json": {
       "model_id": "f030b0f12a93455db200626e5d38a231",
       "version_major": 2,
       "version_minor": 0
      },
      "text/plain": [
       "HBox(children=(FloatProgress(value=0.0, max=7.0), HTML(value='')))"
      ]
     },
     "metadata": {},
     "output_type": "display_data"
    },
    {
     "name": "stdout",
     "output_type": "stream",
     "text": [
      "===\n",
      "Extracting Springer Usage for 3000187712  -- top level= 3000187712\n",
      "..saving.. /Volumes/Albano/2020-08-06-holding-analysis-extraction/3000187712/3000187712_usage_springer.csv\n",
      "===\n",
      "Extracting Springer Usage for 3000130459  -- top level= 3000187712\n",
      "..saving.. /Volumes/Albano/2020-08-06-holding-analysis-extraction/3000187712/3000130459_usage_springer.csv\n",
      "===\n",
      "Extracting Springer Usage for 3000251517  -- top level= 3000187712\n",
      "..saving.. /Volumes/Albano/2020-08-06-holding-analysis-extraction/3000187712/3000251517_usage_springer.csv\n",
      "===\n",
      "Extracting Springer Usage for 3991330314  -- top level= 3000187712\n",
      "..saving.. /Volumes/Albano/2020-08-06-holding-analysis-extraction/3000187712/3991330314_usage_springer.csv\n",
      "===\n",
      "Extracting Springer Usage for 3001139967  -- top level= 3000187712\n",
      "..saving.. /Volumes/Albano/2020-08-06-holding-analysis-extraction/3000187712/3001139967_usage_springer.csv\n",
      "===\n",
      "Extracting Springer Usage for 3002011430  -- top level= 3000187712\n",
      "..saving.. /Volumes/Albano/2020-08-06-holding-analysis-extraction/3000187712/3002011430_usage_springer.csv\n",
      "===\n",
      "Extracting Springer Usage for 3002114477  -- top level= 3000187712\n",
      "..saving.. /Volumes/Albano/2020-08-06-holding-analysis-extraction/3000187712/3002114477_usage_springer.csv\n",
      "\n",
      "======\n",
      "Checking Pre-saved Hierarchy for BPID:  3000133957 \n",
      "======\n",
      "Related BPIDs found:  5 = ['3000133957', '3000520733', '3000155420', '3003532199', '3004220731']\n"
     ]
    },
    {
     "data": {
      "application/vnd.jupyter.widget-view+json": {
       "model_id": "38b8ac52b91d417083d42f72e2ad9bc5",
       "version_major": 2,
       "version_minor": 0
      },
      "text/plain": [
       "HBox(children=(FloatProgress(value=0.0, max=5.0), HTML(value='')))"
      ]
     },
     "metadata": {},
     "output_type": "display_data"
    },
    {
     "name": "stdout",
     "output_type": "stream",
     "text": [
      "===\n",
      "Extracting Springer Usage for 3000133957  -- top level= 3000133957\n",
      "..saving.. /Volumes/Albano/2020-08-06-holding-analysis-extraction/3000133957/3000133957_usage_springer.csv\n",
      "===\n",
      "Extracting Springer Usage for 3000520733  -- top level= 3000133957\n",
      "..saving.. /Volumes/Albano/2020-08-06-holding-analysis-extraction/3000133957/3000520733_usage_springer.csv\n",
      "===\n",
      "Extracting Springer Usage for 3000155420  -- top level= 3000133957\n",
      "..saving.. /Volumes/Albano/2020-08-06-holding-analysis-extraction/3000133957/3000155420_usage_springer.csv\n",
      "===\n",
      "Extracting Springer Usage for 3003532199  -- top level= 3000133957\n",
      "..saving.. /Volumes/Albano/2020-08-06-holding-analysis-extraction/3000133957/3003532199_usage_springer.csv\n",
      "===\n",
      "Extracting Springer Usage for 3004220731  -- top level= 3000133957\n",
      "..saving.. /Volumes/Albano/2020-08-06-holding-analysis-extraction/3000133957/3004220731_usage_springer.csv\n",
      "\n",
      "======\n",
      "Checking Pre-saved Hierarchy for BPID:  2000126278 \n",
      "======\n",
      "Related BPIDs found:  3 = ['2000126278', '3000155420', '3004220731']\n"
     ]
    },
    {
     "data": {
      "application/vnd.jupyter.widget-view+json": {
       "model_id": "f6182c620e8e472793c7282041d5e5fd",
       "version_major": 2,
       "version_minor": 0
      },
      "text/plain": [
       "HBox(children=(FloatProgress(value=0.0, max=3.0), HTML(value='')))"
      ]
     },
     "metadata": {},
     "output_type": "display_data"
    },
    {
     "name": "stdout",
     "output_type": "stream",
     "text": [
      "===\n",
      "Extracting Springer Usage for 2000126278  -- top level= 2000126278\n",
      "..saving.. /Volumes/Albano/2020-08-06-holding-analysis-extraction/2000126278/2000126278_usage_springer.csv\n",
      "===\n",
      "Extracting Springer Usage for 3000155420  -- top level= 2000126278\n",
      "..saving.. /Volumes/Albano/2020-08-06-holding-analysis-extraction/2000126278/3000155420_usage_springer.csv\n",
      "===\n",
      "Extracting Springer Usage for 3004220731  -- top level= 2000126278\n",
      "..saving.. /Volumes/Albano/2020-08-06-holding-analysis-extraction/2000126278/3004220731_usage_springer.csv\n",
      "\n",
      "======\n",
      "Checking Pre-saved Hierarchy for BPID:  8200769361 \n",
      "======\n",
      "++++ ERROR ++++\n",
      "Errors index = [3003695120, 30036927080, 3003343017, 2000341714, 8200769361]\n"
     ]
    },
    {
     "data": {
      "application/vnd.jupyter.widget-view+json": {
       "model_id": "1428f48d663e41ff8adfd5fd7218cb1d",
       "version_major": 2,
       "version_minor": 0
      },
      "text/plain": [
       "HBox(children=(FloatProgress(value=1.0, bar_style='info', max=1.0), HTML(value='')))"
      ]
     },
     "metadata": {},
     "output_type": "display_data"
    },
    {
     "name": "stdout",
     "output_type": "stream",
     "text": [
      "\n",
      "======\n",
      "Checking Pre-saved Hierarchy for BPID:  8200831826 \n",
      "======\n",
      "Related BPIDs found:  2 = ['8200831826', '8200828607']\n"
     ]
    },
    {
     "data": {
      "application/vnd.jupyter.widget-view+json": {
       "model_id": "a2d7878302d243c189e75f50c9445fd6",
       "version_major": 2,
       "version_minor": 0
      },
      "text/plain": [
       "HBox(children=(FloatProgress(value=0.0, max=2.0), HTML(value='')))"
      ]
     },
     "metadata": {},
     "output_type": "display_data"
    },
    {
     "name": "stdout",
     "output_type": "stream",
     "text": [
      "===\n",
      "Extracting Springer Usage for 8200831826  -- top level= 8200831826\n",
      "..saving.. /Volumes/Albano/2020-08-06-holding-analysis-extraction/8200831826/8200831826_usage_springer.csv\n",
      "===\n",
      "Extracting Springer Usage for 8200828607  -- top level= 8200831826\n",
      "..saving.. /Volumes/Albano/2020-08-06-holding-analysis-extraction/8200831826/8200828607_usage_springer.csv\n",
      "\n",
      "======\n",
      "Checking Pre-saved Hierarchy for BPID:  3000132435 \n",
      "======\n",
      "Related BPIDs found:  4 = ['3000132435', '3000180695', '3000174968', '3994475188']\n"
     ]
    },
    {
     "data": {
      "application/vnd.jupyter.widget-view+json": {
       "model_id": "4b3363c3252345ab87b5c26edaf56d41",
       "version_major": 2,
       "version_minor": 0
      },
      "text/plain": [
       "HBox(children=(FloatProgress(value=0.0, max=4.0), HTML(value='')))"
      ]
     },
     "metadata": {},
     "output_type": "display_data"
    },
    {
     "name": "stdout",
     "output_type": "stream",
     "text": [
      "===\n",
      "Extracting Springer Usage for 3000132435  -- top level= 3000132435\n",
      "..saving.. /Volumes/Albano/2020-08-06-holding-analysis-extraction/3000132435/3000132435_usage_springer.csv\n",
      "===\n",
      "Extracting Springer Usage for 3000180695  -- top level= 3000132435\n",
      "..saving.. /Volumes/Albano/2020-08-06-holding-analysis-extraction/3000132435/3000180695_usage_springer.csv\n",
      "===\n",
      "Extracting Springer Usage for 3000174968  -- top level= 3000132435\n",
      "..saving.. /Volumes/Albano/2020-08-06-holding-analysis-extraction/3000132435/3000174968_usage_springer.csv\n",
      "===\n",
      "Extracting Springer Usage for 3994475188  -- top level= 3000132435\n",
      "..saving.. /Volumes/Albano/2020-08-06-holding-analysis-extraction/3000132435/3994475188_usage_springer.csv\n",
      "\n",
      "======\n",
      "Checking Pre-saved Hierarchy for BPID:  8200707409 \n",
      "======\n",
      "Related BPIDs found:  2 = ['8200707409', '8200828607']\n"
     ]
    },
    {
     "data": {
      "application/vnd.jupyter.widget-view+json": {
       "model_id": "036345c8005a4ad4bbe3c656e13930ce",
       "version_major": 2,
       "version_minor": 0
      },
      "text/plain": [
       "HBox(children=(FloatProgress(value=0.0, max=2.0), HTML(value='')))"
      ]
     },
     "metadata": {},
     "output_type": "display_data"
    },
    {
     "name": "stdout",
     "output_type": "stream",
     "text": [
      "===\n",
      "Extracting Springer Usage for 8200707409  -- top level= 8200707409\n",
      "..saving.. /Volumes/Albano/2020-08-06-holding-analysis-extraction/8200707409/8200707409_usage_springer.csv\n",
      "===\n",
      "Extracting Springer Usage for 8200828607  -- top level= 8200707409\n",
      "..saving.. /Volumes/Albano/2020-08-06-holding-analysis-extraction/8200707409/8200828607_usage_springer.csv\n",
      "\n",
      "======\n",
      "Checking Pre-saved Hierarchy for BPID:  3000191317 \n",
      "======\n",
      "Related BPIDs found:  2 = ['3000191317', '3991433361']\n"
     ]
    },
    {
     "data": {
      "application/vnd.jupyter.widget-view+json": {
       "model_id": "4dc4557bddd344bc918b833bb093eeed",
       "version_major": 2,
       "version_minor": 0
      },
      "text/plain": [
       "HBox(children=(FloatProgress(value=0.0, max=2.0), HTML(value='')))"
      ]
     },
     "metadata": {},
     "output_type": "display_data"
    },
    {
     "name": "stdout",
     "output_type": "stream",
     "text": [
      "===\n",
      "Extracting Springer Usage for 3000191317  -- top level= 3000191317\n",
      "..saving.. /Volumes/Albano/2020-08-06-holding-analysis-extraction/3000191317/3000191317_usage_springer.csv\n",
      "===\n",
      "Extracting Springer Usage for 3991433361  -- top level= 3000191317\n",
      "..saving.. /Volumes/Albano/2020-08-06-holding-analysis-extraction/3000191317/3991433361_usage_springer.csv\n",
      "\n",
      "======\n",
      "Checking Pre-saved Hierarchy for BPID:  2000324950 \n",
      "======\n",
      "Related BPIDs found:  7 = ['2000324950', '3000130459', '3000179129', '3000251517', '3001139967', '3002011430', '3002114477']\n"
     ]
    },
    {
     "data": {
      "application/vnd.jupyter.widget-view+json": {
       "model_id": "1b6dfac58077487fb90141537d2ee410",
       "version_major": 2,
       "version_minor": 0
      },
      "text/plain": [
       "HBox(children=(FloatProgress(value=0.0, max=7.0), HTML(value='')))"
      ]
     },
     "metadata": {},
     "output_type": "display_data"
    },
    {
     "name": "stdout",
     "output_type": "stream",
     "text": [
      "===\n",
      "Extracting Springer Usage for 2000324950  -- top level= 2000324950\n",
      "..saving.. /Volumes/Albano/2020-08-06-holding-analysis-extraction/2000324950/2000324950_usage_springer.csv\n",
      "===\n",
      "Extracting Springer Usage for 3000130459  -- top level= 2000324950\n",
      "..saving.. /Volumes/Albano/2020-08-06-holding-analysis-extraction/2000324950/3000130459_usage_springer.csv\n",
      "===\n",
      "Extracting Springer Usage for 3000179129  -- top level= 2000324950\n",
      "..saving.. /Volumes/Albano/2020-08-06-holding-analysis-extraction/2000324950/3000179129_usage_springer.csv\n",
      "===\n",
      "Extracting Springer Usage for 3000251517  -- top level= 2000324950\n",
      "..saving.. /Volumes/Albano/2020-08-06-holding-analysis-extraction/2000324950/3000251517_usage_springer.csv\n",
      "===\n",
      "Extracting Springer Usage for 3001139967  -- top level= 2000324950\n",
      "..saving.. /Volumes/Albano/2020-08-06-holding-analysis-extraction/2000324950/3001139967_usage_springer.csv\n",
      "===\n",
      "Extracting Springer Usage for 3002011430  -- top level= 2000324950\n",
      "..saving.. /Volumes/Albano/2020-08-06-holding-analysis-extraction/2000324950/3002011430_usage_springer.csv\n",
      "===\n",
      "Extracting Springer Usage for 3002114477  -- top level= 2000324950\n",
      "..saving.. /Volumes/Albano/2020-08-06-holding-analysis-extraction/2000324950/3002114477_usage_springer.csv\n",
      "\n",
      "======\n",
      "Checking Pre-saved Hierarchy for BPID:  8200922455 \n",
      "======\n",
      "Related BPIDs found:  2 = ['8200922455', '8200828607']\n"
     ]
    },
    {
     "data": {
      "application/vnd.jupyter.widget-view+json": {
       "model_id": "56f5a0db4b1f4ecba70b0c19959eccb2",
       "version_major": 2,
       "version_minor": 0
      },
      "text/plain": [
       "HBox(children=(FloatProgress(value=0.0, max=2.0), HTML(value='')))"
      ]
     },
     "metadata": {},
     "output_type": "display_data"
    },
    {
     "name": "stdout",
     "output_type": "stream",
     "text": [
      "===\n",
      "Extracting Springer Usage for 8200922455  -- top level= 8200922455\n",
      "..saving.. /Volumes/Albano/2020-08-06-holding-analysis-extraction/8200922455/8200922455_usage_springer.csv\n",
      "===\n",
      "Extracting Springer Usage for 8200828607  -- top level= 8200922455\n",
      "..saving.. /Volumes/Albano/2020-08-06-holding-analysis-extraction/8200922455/8200828607_usage_springer.csv\n",
      "\n",
      "======\n",
      "Checking Pre-saved Hierarchy for BPID:  3003635546 \n",
      "======\n",
      "Related BPIDs found:  1 = ['3003635546']\n"
     ]
    },
    {
     "data": {
      "application/vnd.jupyter.widget-view+json": {
       "model_id": "642e860ab9494d1f83d9b86dfd7f0a5a",
       "version_major": 2,
       "version_minor": 0
      },
      "text/plain": [
       "HBox(children=(FloatProgress(value=0.0, max=1.0), HTML(value='')))"
      ]
     },
     "metadata": {},
     "output_type": "display_data"
    },
    {
     "name": "stdout",
     "output_type": "stream",
     "text": [
      "===\n",
      "Extracting Springer Usage for 3003635546  -- top level= 3003635546\n",
      "..saving.. /Volumes/Albano/2020-08-06-holding-analysis-extraction/3003635546/3003635546_usage_springer.csv\n",
      "\n",
      "======\n",
      "Checking Pre-saved Hierarchy for BPID:  8200178020 \n",
      "======\n",
      "Related BPIDs found:  3 = ['8200178020', '3000122896', '3000171036']\n"
     ]
    },
    {
     "data": {
      "application/vnd.jupyter.widget-view+json": {
       "model_id": "557148032ed84683841f9b2e2d76ac02",
       "version_major": 2,
       "version_minor": 0
      },
      "text/plain": [
       "HBox(children=(FloatProgress(value=0.0, max=3.0), HTML(value='')))"
      ]
     },
     "metadata": {},
     "output_type": "display_data"
    },
    {
     "name": "stdout",
     "output_type": "stream",
     "text": [
      "===\n",
      "Extracting Springer Usage for 8200178020  -- top level= 8200178020\n",
      "..saving.. /Volumes/Albano/2020-08-06-holding-analysis-extraction/8200178020/8200178020_usage_springer.csv\n",
      "===\n",
      "Extracting Springer Usage for 3000122896  -- top level= 8200178020\n",
      "..saving.. /Volumes/Albano/2020-08-06-holding-analysis-extraction/8200178020/3000122896_usage_springer.csv\n",
      "===\n",
      "Extracting Springer Usage for 3000171036  -- top level= 8200178020\n",
      "..saving.. /Volumes/Albano/2020-08-06-holding-analysis-extraction/8200178020/3000171036_usage_springer.csv\n",
      "\n",
      "======\n",
      "Checking Pre-saved Hierarchy for BPID:  2000585575 \n",
      "======\n",
      "Related BPIDs found:  2 = ['2000585575', '3000183200']\n"
     ]
    },
    {
     "data": {
      "application/vnd.jupyter.widget-view+json": {
       "model_id": "c913e2f871b64fe3aa4d9794a76ee92a",
       "version_major": 2,
       "version_minor": 0
      },
      "text/plain": [
       "HBox(children=(FloatProgress(value=0.0, max=2.0), HTML(value='')))"
      ]
     },
     "metadata": {},
     "output_type": "display_data"
    },
    {
     "name": "stdout",
     "output_type": "stream",
     "text": [
      "===\n",
      "Extracting Springer Usage for 2000585575  -- top level= 2000585575\n",
      "..saving.. /Volumes/Albano/2020-08-06-holding-analysis-extraction/2000585575/2000585575_usage_springer.csv\n",
      "===\n",
      "Extracting Springer Usage for 3000183200  -- top level= 2000585575\n",
      "..saving.. /Volumes/Albano/2020-08-06-holding-analysis-extraction/2000585575/3000183200_usage_springer.csv\n",
      "\n",
      "======\n",
      "Checking Pre-saved Hierarchy for BPID:  2000078190 \n",
      "======\n",
      "Related BPIDs found:  3 = ['2000078190', '3001139967', '3991330314']\n"
     ]
    },
    {
     "data": {
      "application/vnd.jupyter.widget-view+json": {
       "model_id": "d8889a18eec64de293a487b17717c54a",
       "version_major": 2,
       "version_minor": 0
      },
      "text/plain": [
       "HBox(children=(FloatProgress(value=0.0, max=3.0), HTML(value='')))"
      ]
     },
     "metadata": {},
     "output_type": "display_data"
    },
    {
     "name": "stdout",
     "output_type": "stream",
     "text": [
      "===\n",
      "Extracting Springer Usage for 2000078190  -- top level= 2000078190\n",
      "..saving.. /Volumes/Albano/2020-08-06-holding-analysis-extraction/2000078190/2000078190_usage_springer.csv\n",
      "===\n",
      "Extracting Springer Usage for 3001139967  -- top level= 2000078190\n",
      "..saving.. /Volumes/Albano/2020-08-06-holding-analysis-extraction/2000078190/3001139967_usage_springer.csv\n",
      "===\n",
      "Extracting Springer Usage for 3991330314  -- top level= 2000078190\n",
      "..saving.. /Volumes/Albano/2020-08-06-holding-analysis-extraction/2000078190/3991330314_usage_springer.csv\n",
      "\n",
      "======\n",
      "Checking Pre-saved Hierarchy for BPID:  3001054575 \n",
      "======\n",
      "Related BPIDs found:  1 = ['3001054575']\n"
     ]
    },
    {
     "data": {
      "application/vnd.jupyter.widget-view+json": {
       "model_id": "d709910f48154e3c917c52f37f0a3d0d",
       "version_major": 2,
       "version_minor": 0
      },
      "text/plain": [
       "HBox(children=(FloatProgress(value=0.0, max=1.0), HTML(value='')))"
      ]
     },
     "metadata": {},
     "output_type": "display_data"
    },
    {
     "name": "stdout",
     "output_type": "stream",
     "text": [
      "===\n",
      "Extracting Springer Usage for 3001054575  -- top level= 3001054575\n",
      "..saving.. /Volumes/Albano/2020-08-06-holding-analysis-extraction/3001054575/3001054575_usage_springer.csv\n",
      "\n",
      "======\n",
      "Checking Pre-saved Hierarchy for BPID:  3000263536 \n",
      "======\n",
      "Related BPIDs found:  31 = ['3000263536', '3000263537', '3991460049', '3991460050', '3000263519', '3000263538', '3000263547', '3000263562', '3000263564', '3000762511', '3001070335', '3001070367', '3001070371', '3001070379', '3991463089', '8200899681', '3002252090', '3002252092', '3002252093', '3002323856', '3002974673', '3002974675', '3002974712', '3002974679', '3002974713', '3000640955', '3991363236', '3001369731', '3901387337', '3901387339', '8200979608']\n"
     ]
    },
    {
     "data": {
      "application/vnd.jupyter.widget-view+json": {
       "model_id": "4eae8a7695954637b65a7dc7ec3d39d2",
       "version_major": 2,
       "version_minor": 0
      },
      "text/plain": [
       "HBox(children=(FloatProgress(value=0.0, max=31.0), HTML(value='')))"
      ]
     },
     "metadata": {},
     "output_type": "display_data"
    },
    {
     "name": "stdout",
     "output_type": "stream",
     "text": [
      "===\n",
      "Extracting Springer Usage for 3000263536  -- top level= 3000263536\n",
      "..saving.. /Volumes/Albano/2020-08-06-holding-analysis-extraction/3000263536/3000263536_usage_springer.csv\n",
      "===\n",
      "Extracting Springer Usage for 3000263537  -- top level= 3000263536\n",
      "..saving.. /Volumes/Albano/2020-08-06-holding-analysis-extraction/3000263536/3000263537_usage_springer.csv\n",
      "===\n",
      "Extracting Springer Usage for 3991460049  -- top level= 3000263536\n",
      "..saving.. /Volumes/Albano/2020-08-06-holding-analysis-extraction/3000263536/3991460049_usage_springer.csv\n",
      "===\n",
      "Extracting Springer Usage for 3991460050  -- top level= 3000263536\n",
      "..saving.. /Volumes/Albano/2020-08-06-holding-analysis-extraction/3000263536/3991460050_usage_springer.csv\n",
      "===\n",
      "Extracting Springer Usage for 3000263519  -- top level= 3000263536\n",
      "..saving.. /Volumes/Albano/2020-08-06-holding-analysis-extraction/3000263536/3000263519_usage_springer.csv\n",
      "===\n",
      "Extracting Springer Usage for 3000263538  -- top level= 3000263536\n",
      "..saving.. /Volumes/Albano/2020-08-06-holding-analysis-extraction/3000263536/3000263538_usage_springer.csv\n",
      "===\n",
      "Extracting Springer Usage for 3000263547  -- top level= 3000263536\n",
      "..saving.. /Volumes/Albano/2020-08-06-holding-analysis-extraction/3000263536/3000263547_usage_springer.csv\n",
      "===\n",
      "Extracting Springer Usage for 3000263562  -- top level= 3000263536\n",
      "..saving.. /Volumes/Albano/2020-08-06-holding-analysis-extraction/3000263536/3000263562_usage_springer.csv\n",
      "===\n",
      "Extracting Springer Usage for 3000263564  -- top level= 3000263536\n",
      "..saving.. /Volumes/Albano/2020-08-06-holding-analysis-extraction/3000263536/3000263564_usage_springer.csv\n",
      "===\n",
      "Extracting Springer Usage for 3000762511  -- top level= 3000263536\n",
      "..saving.. /Volumes/Albano/2020-08-06-holding-analysis-extraction/3000263536/3000762511_usage_springer.csv\n",
      "===\n",
      "Extracting Springer Usage for 3001070335  -- top level= 3000263536\n",
      "..saving.. /Volumes/Albano/2020-08-06-holding-analysis-extraction/3000263536/3001070335_usage_springer.csv\n",
      "===\n",
      "Extracting Springer Usage for 3001070367  -- top level= 3000263536\n",
      "..saving.. /Volumes/Albano/2020-08-06-holding-analysis-extraction/3000263536/3001070367_usage_springer.csv\n",
      "===\n",
      "Extracting Springer Usage for 3001070371  -- top level= 3000263536\n",
      "..saving.. /Volumes/Albano/2020-08-06-holding-analysis-extraction/3000263536/3001070371_usage_springer.csv\n",
      "===\n",
      "Extracting Springer Usage for 3001070379  -- top level= 3000263536\n",
      "..saving.. /Volumes/Albano/2020-08-06-holding-analysis-extraction/3000263536/3001070379_usage_springer.csv\n",
      "===\n",
      "Extracting Springer Usage for 3991463089  -- top level= 3000263536\n",
      "..saving.. /Volumes/Albano/2020-08-06-holding-analysis-extraction/3000263536/3991463089_usage_springer.csv\n",
      "===\n",
      "Extracting Springer Usage for 8200899681  -- top level= 3000263536\n",
      "..saving.. /Volumes/Albano/2020-08-06-holding-analysis-extraction/3000263536/8200899681_usage_springer.csv\n",
      "===\n",
      "Extracting Springer Usage for 3002252090  -- top level= 3000263536\n",
      "..saving.. /Volumes/Albano/2020-08-06-holding-analysis-extraction/3000263536/3002252090_usage_springer.csv\n",
      "===\n",
      "Extracting Springer Usage for 3002252092  -- top level= 3000263536\n",
      "..saving.. /Volumes/Albano/2020-08-06-holding-analysis-extraction/3000263536/3002252092_usage_springer.csv\n",
      "===\n",
      "Extracting Springer Usage for 3002252093  -- top level= 3000263536\n",
      "..saving.. /Volumes/Albano/2020-08-06-holding-analysis-extraction/3000263536/3002252093_usage_springer.csv\n",
      "===\n",
      "Extracting Springer Usage for 3002323856  -- top level= 3000263536\n",
      "..saving.. /Volumes/Albano/2020-08-06-holding-analysis-extraction/3000263536/3002323856_usage_springer.csv\n",
      "===\n",
      "Extracting Springer Usage for 3002974673  -- top level= 3000263536\n",
      "..saving.. /Volumes/Albano/2020-08-06-holding-analysis-extraction/3000263536/3002974673_usage_springer.csv\n",
      "===\n",
      "Extracting Springer Usage for 3002974675  -- top level= 3000263536\n",
      "..saving.. /Volumes/Albano/2020-08-06-holding-analysis-extraction/3000263536/3002974675_usage_springer.csv\n",
      "===\n",
      "Extracting Springer Usage for 3002974712  -- top level= 3000263536\n",
      "..saving.. /Volumes/Albano/2020-08-06-holding-analysis-extraction/3000263536/3002974712_usage_springer.csv\n",
      "===\n",
      "Extracting Springer Usage for 3002974679  -- top level= 3000263536\n",
      "..saving.. /Volumes/Albano/2020-08-06-holding-analysis-extraction/3000263536/3002974679_usage_springer.csv\n",
      "===\n",
      "Extracting Springer Usage for 3002974713  -- top level= 3000263536\n",
      "..saving.. /Volumes/Albano/2020-08-06-holding-analysis-extraction/3000263536/3002974713_usage_springer.csv\n",
      "===\n",
      "Extracting Springer Usage for 3000640955  -- top level= 3000263536\n",
      "..saving.. /Volumes/Albano/2020-08-06-holding-analysis-extraction/3000263536/3000640955_usage_springer.csv\n",
      "===\n",
      "Extracting Springer Usage for 3991363236  -- top level= 3000263536\n",
      "..saving.. /Volumes/Albano/2020-08-06-holding-analysis-extraction/3000263536/3991363236_usage_springer.csv\n",
      "===\n",
      "Extracting Springer Usage for 3001369731  -- top level= 3000263536\n",
      "..saving.. /Volumes/Albano/2020-08-06-holding-analysis-extraction/3000263536/3001369731_usage_springer.csv\n",
      "===\n",
      "Extracting Springer Usage for 3901387337  -- top level= 3000263536\n",
      "..saving.. /Volumes/Albano/2020-08-06-holding-analysis-extraction/3000263536/3901387337_usage_springer.csv\n",
      "===\n",
      "Extracting Springer Usage for 3901387339  -- top level= 3000263536\n",
      "..saving.. /Volumes/Albano/2020-08-06-holding-analysis-extraction/3000263536/3901387339_usage_springer.csv\n",
      "===\n",
      "Extracting Springer Usage for 8200979608  -- top level= 3000263536\n",
      "..saving.. /Volumes/Albano/2020-08-06-holding-analysis-extraction/3000263536/8200979608_usage_springer.csv\n",
      "\n",
      "======\n",
      "Checking Pre-saved Hierarchy for BPID:  8200844657 \n",
      "======\n",
      "Related BPIDs found:  1 = ['8200844657']\n"
     ]
    },
    {
     "data": {
      "application/vnd.jupyter.widget-view+json": {
       "model_id": "57a69301f5b34828917aa5c94553542b",
       "version_major": 2,
       "version_minor": 0
      },
      "text/plain": [
       "HBox(children=(FloatProgress(value=0.0, max=1.0), HTML(value='')))"
      ]
     },
     "metadata": {},
     "output_type": "display_data"
    },
    {
     "name": "stdout",
     "output_type": "stream",
     "text": [
      "===\n",
      "Extracting Springer Usage for 8200844657  -- top level= 8200844657\n",
      "..saving.. /Volumes/Albano/2020-08-06-holding-analysis-extraction/8200844657/8200844657_usage_springer.csv\n",
      "\n",
      "======\n",
      "Checking Pre-saved Hierarchy for BPID:  3000788339 \n",
      "======\n",
      "Related BPIDs found:  1 = ['3000788339']\n"
     ]
    },
    {
     "data": {
      "application/vnd.jupyter.widget-view+json": {
       "model_id": "e735e070cc0945de8499806304760e0f",
       "version_major": 2,
       "version_minor": 0
      },
      "text/plain": [
       "HBox(children=(FloatProgress(value=0.0, max=1.0), HTML(value='')))"
      ]
     },
     "metadata": {},
     "output_type": "display_data"
    },
    {
     "name": "stdout",
     "output_type": "stream",
     "text": [
      "===\n",
      "Extracting Springer Usage for 3000788339  -- top level= 3000788339\n",
      "..saving.. /Volumes/Albano/2020-08-06-holding-analysis-extraction/3000788339/3000788339_usage_springer.csv\n",
      "\n",
      "======\n",
      "Checking Pre-saved Hierarchy for BPID:  2000142196 \n",
      "======\n",
      "Related BPIDs found:  5 = ['2000142196', '3000178263', '3000179127', '3000179124', '3004017903']\n"
     ]
    },
    {
     "data": {
      "application/vnd.jupyter.widget-view+json": {
       "model_id": "1304c1a0a88b423f8de08f9dc74db672",
       "version_major": 2,
       "version_minor": 0
      },
      "text/plain": [
       "HBox(children=(FloatProgress(value=0.0, max=5.0), HTML(value='')))"
      ]
     },
     "metadata": {},
     "output_type": "display_data"
    },
    {
     "name": "stdout",
     "output_type": "stream",
     "text": [
      "===\n",
      "Extracting Springer Usage for 2000142196  -- top level= 2000142196\n",
      "..saving.. /Volumes/Albano/2020-08-06-holding-analysis-extraction/2000142196/2000142196_usage_springer.csv\n",
      "===\n",
      "Extracting Springer Usage for 3000178263  -- top level= 2000142196\n",
      "..saving.. /Volumes/Albano/2020-08-06-holding-analysis-extraction/2000142196/3000178263_usage_springer.csv\n",
      "===\n",
      "Extracting Springer Usage for 3000179127  -- top level= 2000142196\n",
      "..saving.. /Volumes/Albano/2020-08-06-holding-analysis-extraction/2000142196/3000179127_usage_springer.csv\n",
      "===\n",
      "Extracting Springer Usage for 3000179124  -- top level= 2000142196\n",
      "..saving.. /Volumes/Albano/2020-08-06-holding-analysis-extraction/2000142196/3000179124_usage_springer.csv\n",
      "===\n",
      "Extracting Springer Usage for 3004017903  -- top level= 2000142196\n",
      "..saving.. /Volumes/Albano/2020-08-06-holding-analysis-extraction/2000142196/3004017903_usage_springer.csv\n",
      "\n",
      "======\n",
      "Checking Pre-saved Hierarchy for BPID:  8200898933 \n",
      "======\n",
      "Related BPIDs found:  1 = ['8200898933']\n"
     ]
    },
    {
     "data": {
      "application/vnd.jupyter.widget-view+json": {
       "model_id": "f6a15bb54d3945d891383299ddf480c6",
       "version_major": 2,
       "version_minor": 0
      },
      "text/plain": [
       "HBox(children=(FloatProgress(value=0.0, max=1.0), HTML(value='')))"
      ]
     },
     "metadata": {},
     "output_type": "display_data"
    },
    {
     "name": "stdout",
     "output_type": "stream",
     "text": [
      "===\n",
      "Extracting Springer Usage for 8200898933  -- top level= 8200898933\n",
      "..saving.. /Volumes/Albano/2020-08-06-holding-analysis-extraction/8200898933/8200898933_usage_springer.csv\n",
      "\n",
      "======\n",
      "Checking Pre-saved Hierarchy for BPID:  1000680836 \n",
      "======\n",
      "Related BPIDs found:  4 = ['1000680836', '3000529219', '3000096123', '3991436001']\n"
     ]
    },
    {
     "data": {
      "application/vnd.jupyter.widget-view+json": {
       "model_id": "d072a0cfb2df4d02be412f92ae87048c",
       "version_major": 2,
       "version_minor": 0
      },
      "text/plain": [
       "HBox(children=(FloatProgress(value=0.0, max=4.0), HTML(value='')))"
      ]
     },
     "metadata": {},
     "output_type": "display_data"
    },
    {
     "name": "stdout",
     "output_type": "stream",
     "text": [
      "===\n",
      "Extracting Springer Usage for 1000680836  -- top level= 1000680836\n",
      "..saving.. /Volumes/Albano/2020-08-06-holding-analysis-extraction/1000680836/1000680836_usage_springer.csv\n",
      "===\n",
      "Extracting Springer Usage for 3000529219  -- top level= 1000680836\n",
      "..saving.. /Volumes/Albano/2020-08-06-holding-analysis-extraction/1000680836/3000529219_usage_springer.csv\n",
      "===\n",
      "Extracting Springer Usage for 3000096123  -- top level= 1000680836\n",
      "..saving.. /Volumes/Albano/2020-08-06-holding-analysis-extraction/1000680836/3000096123_usage_springer.csv\n",
      "===\n",
      "Extracting Springer Usage for 3991436001  -- top level= 1000680836\n",
      "..saving.. /Volumes/Albano/2020-08-06-holding-analysis-extraction/1000680836/3991436001_usage_springer.csv\n",
      "\n",
      "======\n",
      "Checking Pre-saved Hierarchy for BPID:  3003718535 \n",
      "======\n",
      "Related BPIDs found:  1 = ['3003718535']\n"
     ]
    },
    {
     "data": {
      "application/vnd.jupyter.widget-view+json": {
       "model_id": "f628b32096214bdba0bb6ff9eb4e7779",
       "version_major": 2,
       "version_minor": 0
      },
      "text/plain": [
       "HBox(children=(FloatProgress(value=0.0, max=1.0), HTML(value='')))"
      ]
     },
     "metadata": {},
     "output_type": "display_data"
    },
    {
     "name": "stdout",
     "output_type": "stream",
     "text": [
      "===\n",
      "Extracting Springer Usage for 3003718535  -- top level= 3003718535\n",
      "..saving.. /Volumes/Albano/2020-08-06-holding-analysis-extraction/3003718535/3003718535_usage_springer.csv\n",
      "\n",
      "======\n",
      "Checking Pre-saved Hierarchy for BPID:  8200177545 \n",
      "======\n",
      "Related BPIDs found:  2 = ['8200177545', '8200828607']\n"
     ]
    },
    {
     "data": {
      "application/vnd.jupyter.widget-view+json": {
       "model_id": "4ce97cd9711041359ba996aa50dbe030",
       "version_major": 2,
       "version_minor": 0
      },
      "text/plain": [
       "HBox(children=(FloatProgress(value=0.0, max=2.0), HTML(value='')))"
      ]
     },
     "metadata": {},
     "output_type": "display_data"
    },
    {
     "name": "stdout",
     "output_type": "stream",
     "text": [
      "===\n",
      "Extracting Springer Usage for 8200177545  -- top level= 8200177545\n",
      "..saving.. /Volumes/Albano/2020-08-06-holding-analysis-extraction/8200177545/8200177545_usage_springer.csv\n",
      "===\n",
      "Extracting Springer Usage for 8200828607  -- top level= 8200177545\n",
      "..saving.. /Volumes/Albano/2020-08-06-holding-analysis-extraction/8200177545/8200828607_usage_springer.csv\n",
      "\n",
      "======\n",
      "Checking Pre-saved Hierarchy for BPID:  8200711562 \n",
      "======\n",
      "Related BPIDs found:  1 = ['8200711562']\n"
     ]
    },
    {
     "data": {
      "application/vnd.jupyter.widget-view+json": {
       "model_id": "cbdd697921e643c191820da30f462345",
       "version_major": 2,
       "version_minor": 0
      },
      "text/plain": [
       "HBox(children=(FloatProgress(value=0.0, max=1.0), HTML(value='')))"
      ]
     },
     "metadata": {},
     "output_type": "display_data"
    },
    {
     "name": "stdout",
     "output_type": "stream",
     "text": [
      "===\n",
      "Extracting Springer Usage for 8200711562  -- top level= 8200711562\n",
      "..saving.. /Volumes/Albano/2020-08-06-holding-analysis-extraction/8200711562/8200711562_usage_springer.csv\n",
      "\n",
      "======\n",
      "Checking Pre-saved Hierarchy for BPID:  8200736652 \n",
      "======\n",
      "Related BPIDs found:  1 = ['8200736652']\n"
     ]
    },
    {
     "data": {
      "application/vnd.jupyter.widget-view+json": {
       "model_id": "cbc2dc4f96fa42ad84bb66dcc6f25189",
       "version_major": 2,
       "version_minor": 0
      },
      "text/plain": [
       "HBox(children=(FloatProgress(value=0.0, max=1.0), HTML(value='')))"
      ]
     },
     "metadata": {},
     "output_type": "display_data"
    },
    {
     "name": "stdout",
     "output_type": "stream",
     "text": [
      "===\n",
      "Extracting Springer Usage for 8200736652  -- top level= 8200736652\n",
      "..saving.. /Volumes/Albano/2020-08-06-holding-analysis-extraction/8200736652/8200736652_usage_springer.csv\n",
      "\n",
      "======\n",
      "Checking Pre-saved Hierarchy for BPID:  8200707989 \n",
      "======\n",
      "Related BPIDs found:  2 = ['8200707989', '8200828607']\n"
     ]
    },
    {
     "data": {
      "application/vnd.jupyter.widget-view+json": {
       "model_id": "91de37af0694484690a1a6c463f0f386",
       "version_major": 2,
       "version_minor": 0
      },
      "text/plain": [
       "HBox(children=(FloatProgress(value=0.0, max=2.0), HTML(value='')))"
      ]
     },
     "metadata": {},
     "output_type": "display_data"
    },
    {
     "name": "stdout",
     "output_type": "stream",
     "text": [
      "===\n",
      "Extracting Springer Usage for 8200707989  -- top level= 8200707989\n",
      "..saving.. /Volumes/Albano/2020-08-06-holding-analysis-extraction/8200707989/8200707989_usage_springer.csv\n",
      "===\n",
      "Extracting Springer Usage for 8200828607  -- top level= 8200707989\n",
      "..saving.. /Volumes/Albano/2020-08-06-holding-analysis-extraction/8200707989/8200828607_usage_springer.csv\n",
      "\n",
      "======\n",
      "Checking Pre-saved Hierarchy for BPID:  8200705430 \n",
      "======\n",
      "Related BPIDs found:  2 = ['8200705430', '8200828607']\n"
     ]
    },
    {
     "data": {
      "application/vnd.jupyter.widget-view+json": {
       "model_id": "d7756947aeb844bc927a40e4fac2c004",
       "version_major": 2,
       "version_minor": 0
      },
      "text/plain": [
       "HBox(children=(FloatProgress(value=0.0, max=2.0), HTML(value='')))"
      ]
     },
     "metadata": {},
     "output_type": "display_data"
    },
    {
     "name": "stdout",
     "output_type": "stream",
     "text": [
      "===\n",
      "Extracting Springer Usage for 8200705430  -- top level= 8200705430\n",
      "..saving.. /Volumes/Albano/2020-08-06-holding-analysis-extraction/8200705430/8200705430_usage_springer.csv\n",
      "===\n",
      "Extracting Springer Usage for 8200828607  -- top level= 8200705430\n",
      "..saving.. /Volumes/Albano/2020-08-06-holding-analysis-extraction/8200705430/8200828607_usage_springer.csv\n",
      "\n",
      "======\n",
      "Checking Pre-saved Hierarchy for BPID:  2000335256 \n",
      "======\n",
      "Related BPIDs found:  7 = ['2000335256', '3000130459', '3000251517', '3991330314', '3001139967', '3002011430', '3002114477']\n"
     ]
    },
    {
     "data": {
      "application/vnd.jupyter.widget-view+json": {
       "model_id": "6eee2f5105f748eda192764f00de4d35",
       "version_major": 2,
       "version_minor": 0
      },
      "text/plain": [
       "HBox(children=(FloatProgress(value=0.0, max=7.0), HTML(value='')))"
      ]
     },
     "metadata": {},
     "output_type": "display_data"
    },
    {
     "name": "stdout",
     "output_type": "stream",
     "text": [
      "===\n",
      "Extracting Springer Usage for 2000335256  -- top level= 2000335256\n",
      "..saving.. /Volumes/Albano/2020-08-06-holding-analysis-extraction/2000335256/2000335256_usage_springer.csv\n",
      "===\n",
      "Extracting Springer Usage for 3000130459  -- top level= 2000335256\n",
      "..saving.. /Volumes/Albano/2020-08-06-holding-analysis-extraction/2000335256/3000130459_usage_springer.csv\n",
      "===\n",
      "Extracting Springer Usage for 3000251517  -- top level= 2000335256\n",
      "..saving.. /Volumes/Albano/2020-08-06-holding-analysis-extraction/2000335256/3000251517_usage_springer.csv\n",
      "===\n",
      "Extracting Springer Usage for 3991330314  -- top level= 2000335256\n",
      "..saving.. /Volumes/Albano/2020-08-06-holding-analysis-extraction/2000335256/3991330314_usage_springer.csv\n",
      "===\n",
      "Extracting Springer Usage for 3001139967  -- top level= 2000335256\n",
      "..saving.. /Volumes/Albano/2020-08-06-holding-analysis-extraction/2000335256/3001139967_usage_springer.csv\n",
      "===\n",
      "Extracting Springer Usage for 3002011430  -- top level= 2000335256\n",
      "..saving.. /Volumes/Albano/2020-08-06-holding-analysis-extraction/2000335256/3002011430_usage_springer.csv\n",
      "===\n",
      "Extracting Springer Usage for 3002114477  -- top level= 2000335256\n",
      "..saving.. /Volumes/Albano/2020-08-06-holding-analysis-extraction/2000335256/3002114477_usage_springer.csv\n",
      "\n",
      "======\n",
      "Checking Pre-saved Hierarchy for BPID:  8200831900 \n",
      "======\n",
      "Related BPIDs found:  2 = ['8200831900', '8200828607']\n"
     ]
    },
    {
     "data": {
      "application/vnd.jupyter.widget-view+json": {
       "model_id": "d9046c50e59b4b0f902d53e906cd3ee4",
       "version_major": 2,
       "version_minor": 0
      },
      "text/plain": [
       "HBox(children=(FloatProgress(value=0.0, max=2.0), HTML(value='')))"
      ]
     },
     "metadata": {},
     "output_type": "display_data"
    },
    {
     "name": "stdout",
     "output_type": "stream",
     "text": [
      "===\n",
      "Extracting Springer Usage for 8200831900  -- top level= 8200831900\n",
      "..saving.. /Volumes/Albano/2020-08-06-holding-analysis-extraction/8200831900/8200831900_usage_springer.csv\n",
      "===\n",
      "Extracting Springer Usage for 8200828607  -- top level= 8200831900\n",
      "..saving.. /Volumes/Albano/2020-08-06-holding-analysis-extraction/8200831900/8200828607_usage_springer.csv\n",
      "\n",
      "======\n",
      "Checking Pre-saved Hierarchy for BPID:  8200706463 \n",
      "======\n",
      "Related BPIDs found:  2 = ['8200706463', '8200828607']\n"
     ]
    },
    {
     "data": {
      "application/vnd.jupyter.widget-view+json": {
       "model_id": "b8c0ae4e8c314392bb969355fbde1665",
       "version_major": 2,
       "version_minor": 0
      },
      "text/plain": [
       "HBox(children=(FloatProgress(value=0.0, max=2.0), HTML(value='')))"
      ]
     },
     "metadata": {},
     "output_type": "display_data"
    },
    {
     "name": "stdout",
     "output_type": "stream",
     "text": [
      "===\n",
      "Extracting Springer Usage for 8200706463  -- top level= 8200706463\n",
      "..saving.. /Volumes/Albano/2020-08-06-holding-analysis-extraction/8200706463/8200706463_usage_springer.csv\n",
      "===\n",
      "Extracting Springer Usage for 8200828607  -- top level= 8200706463\n",
      "..saving.. /Volumes/Albano/2020-08-06-holding-analysis-extraction/8200706463/8200828607_usage_springer.csv\n",
      "\n",
      "======\n",
      "Checking Pre-saved Hierarchy for BPID:  3000214444 \n",
      "======\n",
      "Related BPIDs found:  3 = ['3000214444', '3000096123', '3991436001']\n"
     ]
    },
    {
     "data": {
      "application/vnd.jupyter.widget-view+json": {
       "model_id": "78a24efa06fa4942bb0f2ccd4ce699cb",
       "version_major": 2,
       "version_minor": 0
      },
      "text/plain": [
       "HBox(children=(FloatProgress(value=0.0, max=3.0), HTML(value='')))"
      ]
     },
     "metadata": {},
     "output_type": "display_data"
    },
    {
     "name": "stdout",
     "output_type": "stream",
     "text": [
      "===\n",
      "Extracting Springer Usage for 3000214444  -- top level= 3000214444\n",
      "..saving.. /Volumes/Albano/2020-08-06-holding-analysis-extraction/3000214444/3000214444_usage_springer.csv\n",
      "===\n",
      "Extracting Springer Usage for 3000096123  -- top level= 3000214444\n",
      "..saving.. /Volumes/Albano/2020-08-06-holding-analysis-extraction/3000214444/3000096123_usage_springer.csv\n",
      "===\n",
      "Extracting Springer Usage for 3991436001  -- top level= 3000214444\n",
      "..saving.. /Volumes/Albano/2020-08-06-holding-analysis-extraction/3000214444/3991436001_usage_springer.csv\n",
      "\n",
      "======\n",
      "Checking Pre-saved Hierarchy for BPID:  2000456622 \n",
      "======\n",
      "Related BPIDs found:  1 = ['2000456622']\n"
     ]
    },
    {
     "data": {
      "application/vnd.jupyter.widget-view+json": {
       "model_id": "a421ff0810ec411699acccd0ef8aa02b",
       "version_major": 2,
       "version_minor": 0
      },
      "text/plain": [
       "HBox(children=(FloatProgress(value=0.0, max=1.0), HTML(value='')))"
      ]
     },
     "metadata": {},
     "output_type": "display_data"
    },
    {
     "name": "stdout",
     "output_type": "stream",
     "text": [
      "===\n",
      "Extracting Springer Usage for 2000456622  -- top level= 2000456622\n",
      "..saving.. /Volumes/Albano/2020-08-06-holding-analysis-extraction/2000456622/2000456622_usage_springer.csv\n",
      "\n",
      "======\n",
      "Checking Pre-saved Hierarchy for BPID:  8200972206 \n",
      "======\n",
      "Related BPIDs found:  2 = ['8200972206', '8200828607']\n"
     ]
    },
    {
     "data": {
      "application/vnd.jupyter.widget-view+json": {
       "model_id": "3d2d52a3258244e896f4c85f4903210e",
       "version_major": 2,
       "version_minor": 0
      },
      "text/plain": [
       "HBox(children=(FloatProgress(value=0.0, max=2.0), HTML(value='')))"
      ]
     },
     "metadata": {},
     "output_type": "display_data"
    },
    {
     "name": "stdout",
     "output_type": "stream",
     "text": [
      "===\n",
      "Extracting Springer Usage for 8200972206  -- top level= 8200972206\n",
      "..saving.. /Volumes/Albano/2020-08-06-holding-analysis-extraction/8200972206/8200972206_usage_springer.csv\n",
      "===\n",
      "Extracting Springer Usage for 8200828607  -- top level= 8200972206\n",
      "..saving.. /Volumes/Albano/2020-08-06-holding-analysis-extraction/8200972206/8200828607_usage_springer.csv\n",
      "\n",
      "======\n",
      "Checking Pre-saved Hierarchy for BPID:  3000132530 \n",
      "======\n",
      "Related BPIDs found:  1 = ['3000132530']\n"
     ]
    },
    {
     "data": {
      "application/vnd.jupyter.widget-view+json": {
       "model_id": "27fd8492471e4b0ca354619652f03034",
       "version_major": 2,
       "version_minor": 0
      },
      "text/plain": [
       "HBox(children=(FloatProgress(value=0.0, max=1.0), HTML(value='')))"
      ]
     },
     "metadata": {},
     "output_type": "display_data"
    },
    {
     "name": "stdout",
     "output_type": "stream",
     "text": [
      "===\n",
      "Extracting Springer Usage for 3000132530  -- top level= 3000132530\n",
      "..saving.. /Volumes/Albano/2020-08-06-holding-analysis-extraction/3000132530/3000132530_usage_springer.csv\n",
      "\n",
      "======\n",
      "Checking Pre-saved Hierarchy for BPID:  3000147891 \n",
      "======\n",
      "Related BPIDs found:  1 = ['3000147891']\n"
     ]
    },
    {
     "data": {
      "application/vnd.jupyter.widget-view+json": {
       "model_id": "8e89192c22a5478c92cf222c6e1db826",
       "version_major": 2,
       "version_minor": 0
      },
      "text/plain": [
       "HBox(children=(FloatProgress(value=0.0, max=1.0), HTML(value='')))"
      ]
     },
     "metadata": {},
     "output_type": "display_data"
    },
    {
     "name": "stdout",
     "output_type": "stream",
     "text": [
      "===\n",
      "Extracting Springer Usage for 3000147891  -- top level= 3000147891\n",
      "..saving.. /Volumes/Albano/2020-08-06-holding-analysis-extraction/3000147891/3000147891_usage_springer.csv\n",
      "\n",
      "======\n",
      "Checking Pre-saved Hierarchy for BPID:  2000025012 \n",
      "======\n",
      "Related BPIDs found:  1 = ['2000025012']\n"
     ]
    },
    {
     "data": {
      "application/vnd.jupyter.widget-view+json": {
       "model_id": "f27461c43c4f4f338ebfe74992107784",
       "version_major": 2,
       "version_minor": 0
      },
      "text/plain": [
       "HBox(children=(FloatProgress(value=0.0, max=1.0), HTML(value='')))"
      ]
     },
     "metadata": {},
     "output_type": "display_data"
    },
    {
     "name": "stdout",
     "output_type": "stream",
     "text": [
      "===\n",
      "Extracting Springer Usage for 2000025012  -- top level= 2000025012\n",
      "..saving.. /Volumes/Albano/2020-08-06-holding-analysis-extraction/2000025012/2000025012_usage_springer.csv\n",
      "\n",
      "======\n",
      "Checking Pre-saved Hierarchy for BPID:  8200408502 \n",
      "======\n",
      "Related BPIDs found:  2 = ['8200408502', '3003089239']\n"
     ]
    },
    {
     "data": {
      "application/vnd.jupyter.widget-view+json": {
       "model_id": "9537727e51024a58ba581b950a4a4b15",
       "version_major": 2,
       "version_minor": 0
      },
      "text/plain": [
       "HBox(children=(FloatProgress(value=0.0, max=2.0), HTML(value='')))"
      ]
     },
     "metadata": {},
     "output_type": "display_data"
    },
    {
     "name": "stdout",
     "output_type": "stream",
     "text": [
      "===\n",
      "Extracting Springer Usage for 8200408502  -- top level= 8200408502\n",
      "..saving.. /Volumes/Albano/2020-08-06-holding-analysis-extraction/8200408502/8200408502_usage_springer.csv\n",
      "===\n",
      "Extracting Springer Usage for 3003089239  -- top level= 8200408502\n",
      "..saving.. /Volumes/Albano/2020-08-06-holding-analysis-extraction/8200408502/3003089239_usage_springer.csv\n",
      "\n",
      "======\n",
      "Checking Pre-saved Hierarchy for BPID:  2000274885 \n",
      "======\n",
      "Related BPIDs found:  2 = ['2000274885', '3001139967']\n"
     ]
    },
    {
     "data": {
      "application/vnd.jupyter.widget-view+json": {
       "model_id": "c3f00cc78e3945b494bc0f15c7fdd85c",
       "version_major": 2,
       "version_minor": 0
      },
      "text/plain": [
       "HBox(children=(FloatProgress(value=0.0, max=2.0), HTML(value='')))"
      ]
     },
     "metadata": {},
     "output_type": "display_data"
    },
    {
     "name": "stdout",
     "output_type": "stream",
     "text": [
      "===\n",
      "Extracting Springer Usage for 2000274885  -- top level= 2000274885\n",
      "..saving.. /Volumes/Albano/2020-08-06-holding-analysis-extraction/2000274885/2000274885_usage_springer.csv\n",
      "===\n",
      "Extracting Springer Usage for 3001139967  -- top level= 2000274885\n",
      "..saving.. /Volumes/Albano/2020-08-06-holding-analysis-extraction/2000274885/3001139967_usage_springer.csv\n",
      "\n",
      "======\n",
      "Checking Pre-saved Hierarchy for BPID:  3000135110 \n",
      "======\n",
      "Related BPIDs found:  8 = ['3000135110', '3000137278', '3000137282', '3000205744', '3000262825', '3000262839', '3003169293', '3902044458']\n"
     ]
    },
    {
     "data": {
      "application/vnd.jupyter.widget-view+json": {
       "model_id": "fae563d00d1a4dd2a7bb312ef6c51dcc",
       "version_major": 2,
       "version_minor": 0
      },
      "text/plain": [
       "HBox(children=(FloatProgress(value=0.0, max=8.0), HTML(value='')))"
      ]
     },
     "metadata": {},
     "output_type": "display_data"
    },
    {
     "name": "stdout",
     "output_type": "stream",
     "text": [
      "===\n",
      "Extracting Springer Usage for 3000135110  -- top level= 3000135110\n",
      "..saving.. /Volumes/Albano/2020-08-06-holding-analysis-extraction/3000135110/3000135110_usage_springer.csv\n",
      "===\n",
      "Extracting Springer Usage for 3000137278  -- top level= 3000135110\n",
      "..saving.. /Volumes/Albano/2020-08-06-holding-analysis-extraction/3000135110/3000137278_usage_springer.csv\n",
      "===\n",
      "Extracting Springer Usage for 3000137282  -- top level= 3000135110\n",
      "..saving.. /Volumes/Albano/2020-08-06-holding-analysis-extraction/3000135110/3000137282_usage_springer.csv\n",
      "===\n",
      "Extracting Springer Usage for 3000205744  -- top level= 3000135110\n",
      "..saving.. /Volumes/Albano/2020-08-06-holding-analysis-extraction/3000135110/3000205744_usage_springer.csv\n",
      "===\n",
      "Extracting Springer Usage for 3000262825  -- top level= 3000135110\n",
      "..saving.. /Volumes/Albano/2020-08-06-holding-analysis-extraction/3000135110/3000262825_usage_springer.csv\n",
      "===\n",
      "Extracting Springer Usage for 3000262839  -- top level= 3000135110\n",
      "..saving.. /Volumes/Albano/2020-08-06-holding-analysis-extraction/3000135110/3000262839_usage_springer.csv\n",
      "===\n",
      "Extracting Springer Usage for 3003169293  -- top level= 3000135110\n",
      "..saving.. /Volumes/Albano/2020-08-06-holding-analysis-extraction/3000135110/3003169293_usage_springer.csv\n",
      "===\n",
      "Extracting Springer Usage for 3902044458  -- top level= 3000135110\n",
      "..saving.. /Volumes/Albano/2020-08-06-holding-analysis-extraction/3000135110/3902044458_usage_springer.csv\n",
      "\n",
      "======\n",
      "Checking Pre-saved Hierarchy for BPID:  3000267209 \n",
      "======\n",
      "Related BPIDs found:  1 = ['3000267209']\n"
     ]
    },
    {
     "data": {
      "application/vnd.jupyter.widget-view+json": {
       "model_id": "e8e9fa46563446a0be54d28d68793d73",
       "version_major": 2,
       "version_minor": 0
      },
      "text/plain": [
       "HBox(children=(FloatProgress(value=0.0, max=1.0), HTML(value='')))"
      ]
     },
     "metadata": {},
     "output_type": "display_data"
    },
    {
     "name": "stdout",
     "output_type": "stream",
     "text": [
      "===\n",
      "Extracting Springer Usage for 3000267209  -- top level= 3000267209\n",
      "..saving.. /Volumes/Albano/2020-08-06-holding-analysis-extraction/3000267209/3000267209_usage_springer.csv\n",
      "\n",
      "======\n",
      "Checking Pre-saved Hierarchy for BPID:  8200856009 \n",
      "======\n",
      "Related BPIDs found:  2 = ['8200856009', '8200828607']\n"
     ]
    },
    {
     "data": {
      "application/vnd.jupyter.widget-view+json": {
       "model_id": "9dfaa3d12a8c4525afa87a65bcf0f930",
       "version_major": 2,
       "version_minor": 0
      },
      "text/plain": [
       "HBox(children=(FloatProgress(value=0.0, max=2.0), HTML(value='')))"
      ]
     },
     "metadata": {},
     "output_type": "display_data"
    },
    {
     "name": "stdout",
     "output_type": "stream",
     "text": [
      "===\n",
      "Extracting Springer Usage for 8200856009  -- top level= 8200856009\n",
      "..saving.. /Volumes/Albano/2020-08-06-holding-analysis-extraction/8200856009/8200856009_usage_springer.csv\n",
      "===\n",
      "Extracting Springer Usage for 8200828607  -- top level= 8200856009\n",
      "..saving.. /Volumes/Albano/2020-08-06-holding-analysis-extraction/8200856009/8200828607_usage_springer.csv\n",
      "\n",
      "======\n",
      "Checking Pre-saved Hierarchy for BPID:  8200979403 \n",
      "======\n",
      "Related BPIDs found:  3 = ['8200979403', '8200828607', '3002901800']\n"
     ]
    },
    {
     "data": {
      "application/vnd.jupyter.widget-view+json": {
       "model_id": "b20c6d4e510b49cda35af78d4d9df223",
       "version_major": 2,
       "version_minor": 0
      },
      "text/plain": [
       "HBox(children=(FloatProgress(value=0.0, max=3.0), HTML(value='')))"
      ]
     },
     "metadata": {},
     "output_type": "display_data"
    },
    {
     "name": "stdout",
     "output_type": "stream",
     "text": [
      "===\n",
      "Extracting Springer Usage for 8200979403  -- top level= 8200979403\n",
      "..saving.. /Volumes/Albano/2020-08-06-holding-analysis-extraction/8200979403/8200979403_usage_springer.csv\n",
      "===\n",
      "Extracting Springer Usage for 8200828607  -- top level= 8200979403\n",
      "..saving.. /Volumes/Albano/2020-08-06-holding-analysis-extraction/8200979403/8200828607_usage_springer.csv\n",
      "===\n",
      "Extracting Springer Usage for 3002901800  -- top level= 8200979403\n",
      "..saving.. /Volumes/Albano/2020-08-06-holding-analysis-extraction/8200979403/3002901800_usage_springer.csv\n",
      "\n",
      "======\n",
      "Checking Pre-saved Hierarchy for BPID:  3000147920 \n",
      "======\n",
      "Related BPIDs found:  2 = ['3000147920', '3000675571']\n"
     ]
    },
    {
     "data": {
      "application/vnd.jupyter.widget-view+json": {
       "model_id": "114510127e274b3a846521e21d238e80",
       "version_major": 2,
       "version_minor": 0
      },
      "text/plain": [
       "HBox(children=(FloatProgress(value=0.0, max=2.0), HTML(value='')))"
      ]
     },
     "metadata": {},
     "output_type": "display_data"
    },
    {
     "name": "stdout",
     "output_type": "stream",
     "text": [
      "===\n",
      "Extracting Springer Usage for 3000147920  -- top level= 3000147920\n",
      "..saving.. /Volumes/Albano/2020-08-06-holding-analysis-extraction/3000147920/3000147920_usage_springer.csv\n",
      "===\n",
      "Extracting Springer Usage for 3000675571  -- top level= 3000147920\n",
      "..saving.. /Volumes/Albano/2020-08-06-holding-analysis-extraction/3000147920/3000675571_usage_springer.csv\n",
      "\n",
      "======\n",
      "Checking Pre-saved Hierarchy for BPID:  2000053714 \n",
      "======\n",
      "Related BPIDs found:  6 = ['2000053714', '3000137278', '3000137282', '3000205744', '3003169293', '3902044458']\n"
     ]
    },
    {
     "data": {
      "application/vnd.jupyter.widget-view+json": {
       "model_id": "9102998bc5184a64a4da627e68c60d92",
       "version_major": 2,
       "version_minor": 0
      },
      "text/plain": [
       "HBox(children=(FloatProgress(value=0.0, max=6.0), HTML(value='')))"
      ]
     },
     "metadata": {},
     "output_type": "display_data"
    },
    {
     "name": "stdout",
     "output_type": "stream",
     "text": [
      "===\n",
      "Extracting Springer Usage for 2000053714  -- top level= 2000053714\n",
      "..saving.. /Volumes/Albano/2020-08-06-holding-analysis-extraction/2000053714/2000053714_usage_springer.csv\n",
      "===\n",
      "Extracting Springer Usage for 3000137278  -- top level= 2000053714\n",
      "..saving.. /Volumes/Albano/2020-08-06-holding-analysis-extraction/2000053714/3000137278_usage_springer.csv\n",
      "===\n",
      "Extracting Springer Usage for 3000137282  -- top level= 2000053714\n",
      "..saving.. /Volumes/Albano/2020-08-06-holding-analysis-extraction/2000053714/3000137282_usage_springer.csv\n",
      "===\n",
      "Extracting Springer Usage for 3000205744  -- top level= 2000053714\n",
      "..saving.. /Volumes/Albano/2020-08-06-holding-analysis-extraction/2000053714/3000205744_usage_springer.csv\n",
      "===\n",
      "Extracting Springer Usage for 3003169293  -- top level= 2000053714\n",
      "..saving.. /Volumes/Albano/2020-08-06-holding-analysis-extraction/2000053714/3003169293_usage_springer.csv\n",
      "===\n",
      "Extracting Springer Usage for 3902044458  -- top level= 2000053714\n",
      "..saving.. /Volumes/Albano/2020-08-06-holding-analysis-extraction/2000053714/3902044458_usage_springer.csv\n",
      "\n",
      "======\n",
      "Checking Pre-saved Hierarchy for BPID:  8200707539 \n",
      "======\n",
      "Related BPIDs found:  2 = ['8200707539', '8200828607']\n"
     ]
    },
    {
     "data": {
      "application/vnd.jupyter.widget-view+json": {
       "model_id": "ae1a2c1dab8a47b98a0e3a0d8b1b9942",
       "version_major": 2,
       "version_minor": 0
      },
      "text/plain": [
       "HBox(children=(FloatProgress(value=0.0, max=2.0), HTML(value='')))"
      ]
     },
     "metadata": {},
     "output_type": "display_data"
    },
    {
     "name": "stdout",
     "output_type": "stream",
     "text": [
      "===\n",
      "Extracting Springer Usage for 8200707539  -- top level= 8200707539\n",
      "..saving.. /Volumes/Albano/2020-08-06-holding-analysis-extraction/8200707539/8200707539_usage_springer.csv\n",
      "===\n",
      "Extracting Springer Usage for 8200828607  -- top level= 8200707539\n",
      "..saving.. /Volumes/Albano/2020-08-06-holding-analysis-extraction/8200707539/8200828607_usage_springer.csv\n",
      "\n",
      "======\n",
      "Checking Pre-saved Hierarchy for BPID:  2000668629 \n",
      "======\n",
      "Related BPIDs found:  2 = ['2000668629', '8200828607']\n"
     ]
    },
    {
     "data": {
      "application/vnd.jupyter.widget-view+json": {
       "model_id": "ec935ed663c542b8958caff9ee868f04",
       "version_major": 2,
       "version_minor": 0
      },
      "text/plain": [
       "HBox(children=(FloatProgress(value=0.0, max=2.0), HTML(value='')))"
      ]
     },
     "metadata": {},
     "output_type": "display_data"
    },
    {
     "name": "stdout",
     "output_type": "stream",
     "text": [
      "===\n",
      "Extracting Springer Usage for 2000668629  -- top level= 2000668629\n",
      "..saving.. /Volumes/Albano/2020-08-06-holding-analysis-extraction/2000668629/2000668629_usage_springer.csv\n",
      "===\n",
      "Extracting Springer Usage for 8200828607  -- top level= 2000668629\n",
      "..saving.. /Volumes/Albano/2020-08-06-holding-analysis-extraction/2000668629/8200828607_usage_springer.csv\n",
      "\n",
      "======\n",
      "Checking Pre-saved Hierarchy for BPID:  3000171993 \n",
      "======\n",
      "Related BPIDs found:  5 = ['3000171993', '3000180852', '3000155420', '3003532199', '3004220731']\n"
     ]
    },
    {
     "data": {
      "application/vnd.jupyter.widget-view+json": {
       "model_id": "eea4d4720c314ea48fb2168d5b0fa214",
       "version_major": 2,
       "version_minor": 0
      },
      "text/plain": [
       "HBox(children=(FloatProgress(value=0.0, max=5.0), HTML(value='')))"
      ]
     },
     "metadata": {},
     "output_type": "display_data"
    },
    {
     "name": "stdout",
     "output_type": "stream",
     "text": [
      "===\n",
      "Extracting Springer Usage for 3000171993  -- top level= 3000171993\n",
      "..saving.. /Volumes/Albano/2020-08-06-holding-analysis-extraction/3000171993/3000171993_usage_springer.csv\n",
      "===\n",
      "Extracting Springer Usage for 3000180852  -- top level= 3000171993\n",
      "..saving.. /Volumes/Albano/2020-08-06-holding-analysis-extraction/3000171993/3000180852_usage_springer.csv\n",
      "===\n",
      "Extracting Springer Usage for 3000155420  -- top level= 3000171993\n",
      "..saving.. /Volumes/Albano/2020-08-06-holding-analysis-extraction/3000171993/3000155420_usage_springer.csv\n",
      "===\n",
      "Extracting Springer Usage for 3003532199  -- top level= 3000171993\n",
      "..saving.. /Volumes/Albano/2020-08-06-holding-analysis-extraction/3000171993/3003532199_usage_springer.csv\n",
      "===\n",
      "Extracting Springer Usage for 3004220731  -- top level= 3000171993\n",
      "..saving.. /Volumes/Albano/2020-08-06-holding-analysis-extraction/3000171993/3004220731_usage_springer.csv\n",
      "\n",
      "======\n",
      "Checking Pre-saved Hierarchy for BPID:  1000792026 \n",
      "======\n",
      "Related BPIDs found:  9 = ['1000792026', '3000122820', '3000179129', '3000198352', '3000219314', '3991330314', '3001139967', '3002011430', '3002114477']\n"
     ]
    },
    {
     "data": {
      "application/vnd.jupyter.widget-view+json": {
       "model_id": "c5f0030f742544898a35ae2fd3d8b658",
       "version_major": 2,
       "version_minor": 0
      },
      "text/plain": [
       "HBox(children=(FloatProgress(value=0.0, max=9.0), HTML(value='')))"
      ]
     },
     "metadata": {},
     "output_type": "display_data"
    },
    {
     "name": "stdout",
     "output_type": "stream",
     "text": [
      "===\n",
      "Extracting Springer Usage for 1000792026  -- top level= 1000792026\n",
      "..saving.. /Volumes/Albano/2020-08-06-holding-analysis-extraction/1000792026/1000792026_usage_springer.csv\n",
      "===\n",
      "Extracting Springer Usage for 3000122820  -- top level= 1000792026\n",
      "..saving.. /Volumes/Albano/2020-08-06-holding-analysis-extraction/1000792026/3000122820_usage_springer.csv\n",
      "===\n",
      "Extracting Springer Usage for 3000179129  -- top level= 1000792026\n",
      "..saving.. /Volumes/Albano/2020-08-06-holding-analysis-extraction/1000792026/3000179129_usage_springer.csv\n",
      "===\n",
      "Extracting Springer Usage for 3000198352  -- top level= 1000792026\n",
      "..saving.. /Volumes/Albano/2020-08-06-holding-analysis-extraction/1000792026/3000198352_usage_springer.csv\n",
      "===\n",
      "Extracting Springer Usage for 3000219314  -- top level= 1000792026\n",
      "..saving.. /Volumes/Albano/2020-08-06-holding-analysis-extraction/1000792026/3000219314_usage_springer.csv\n",
      "===\n",
      "Extracting Springer Usage for 3991330314  -- top level= 1000792026\n",
      "..saving.. /Volumes/Albano/2020-08-06-holding-analysis-extraction/1000792026/3991330314_usage_springer.csv\n",
      "===\n",
      "Extracting Springer Usage for 3001139967  -- top level= 1000792026\n",
      "..saving.. /Volumes/Albano/2020-08-06-holding-analysis-extraction/1000792026/3001139967_usage_springer.csv\n",
      "===\n",
      "Extracting Springer Usage for 3002011430  -- top level= 1000792026\n",
      "..saving.. /Volumes/Albano/2020-08-06-holding-analysis-extraction/1000792026/3002011430_usage_springer.csv\n",
      "===\n",
      "Extracting Springer Usage for 3002114477  -- top level= 1000792026\n",
      "..saving.. /Volumes/Albano/2020-08-06-holding-analysis-extraction/1000792026/3002114477_usage_springer.csv\n",
      "\n",
      "======\n",
      "Checking Pre-saved Hierarchy for BPID:  2000703964 \n",
      "======\n",
      "Related BPIDs found:  1 = ['2000703964']\n"
     ]
    },
    {
     "data": {
      "application/vnd.jupyter.widget-view+json": {
       "model_id": "6f547e6f59b24fe2b431be023698734f",
       "version_major": 2,
       "version_minor": 0
      },
      "text/plain": [
       "HBox(children=(FloatProgress(value=0.0, max=1.0), HTML(value='')))"
      ]
     },
     "metadata": {},
     "output_type": "display_data"
    },
    {
     "name": "stdout",
     "output_type": "stream",
     "text": [
      "===\n",
      "Extracting Springer Usage for 2000703964  -- top level= 2000703964\n",
      "..saving.. /Volumes/Albano/2020-08-06-holding-analysis-extraction/2000703964/2000703964_usage_springer.csv\n",
      "\n",
      "======\n",
      "Checking Pre-saved Hierarchy for BPID:  2000175069 \n",
      "======\n",
      "Related BPIDs found:  4 = ['2000175069', '3000132959', '3000178880', '3994475188']\n"
     ]
    },
    {
     "data": {
      "application/vnd.jupyter.widget-view+json": {
       "model_id": "45b7ce6cf86745149f2d4cfff466aa1e",
       "version_major": 2,
       "version_minor": 0
      },
      "text/plain": [
       "HBox(children=(FloatProgress(value=0.0, max=4.0), HTML(value='')))"
      ]
     },
     "metadata": {},
     "output_type": "display_data"
    },
    {
     "name": "stdout",
     "output_type": "stream",
     "text": [
      "===\n",
      "Extracting Springer Usage for 2000175069  -- top level= 2000175069\n",
      "..saving.. /Volumes/Albano/2020-08-06-holding-analysis-extraction/2000175069/2000175069_usage_springer.csv\n",
      "===\n",
      "Extracting Springer Usage for 3000132959  -- top level= 2000175069\n",
      "..saving.. /Volumes/Albano/2020-08-06-holding-analysis-extraction/2000175069/3000132959_usage_springer.csv\n",
      "===\n",
      "Extracting Springer Usage for 3000178880  -- top level= 2000175069\n",
      "..saving.. /Volumes/Albano/2020-08-06-holding-analysis-extraction/2000175069/3000178880_usage_springer.csv\n",
      "===\n",
      "Extracting Springer Usage for 3994475188  -- top level= 2000175069\n",
      "..saving.. /Volumes/Albano/2020-08-06-holding-analysis-extraction/2000175069/3994475188_usage_springer.csv\n",
      "\n",
      "======\n",
      "Checking Pre-saved Hierarchy for BPID:  3000148958 \n",
      "======\n",
      "Related BPIDs found:  2 = ['3000148958', '3000675571']\n"
     ]
    },
    {
     "data": {
      "application/vnd.jupyter.widget-view+json": {
       "model_id": "a3f5b7b9d8394dcda568876adaf91c12",
       "version_major": 2,
       "version_minor": 0
      },
      "text/plain": [
       "HBox(children=(FloatProgress(value=0.0, max=2.0), HTML(value='')))"
      ]
     },
     "metadata": {},
     "output_type": "display_data"
    },
    {
     "name": "stdout",
     "output_type": "stream",
     "text": [
      "===\n",
      "Extracting Springer Usage for 3000148958  -- top level= 3000148958\n",
      "..saving.. /Volumes/Albano/2020-08-06-holding-analysis-extraction/3000148958/3000148958_usage_springer.csv\n",
      "===\n",
      "Extracting Springer Usage for 3000675571  -- top level= 3000148958\n",
      "..saving.. /Volumes/Albano/2020-08-06-holding-analysis-extraction/3000148958/3000675571_usage_springer.csv\n",
      "\n",
      "======\n",
      "Checking Pre-saved Hierarchy for BPID:  3000121820 \n",
      "======\n",
      "Related BPIDs found:  10 = ['3000121820', '3000122058', '3000256744', '3000504908', '3000506431', '3000122086', '3000133272', '3000740042', '3000955687', '3001044270']\n"
     ]
    },
    {
     "data": {
      "application/vnd.jupyter.widget-view+json": {
       "model_id": "d27d2be33b5a4b5f89dcc5592898f6b6",
       "version_major": 2,
       "version_minor": 0
      },
      "text/plain": [
       "HBox(children=(FloatProgress(value=0.0, max=10.0), HTML(value='')))"
      ]
     },
     "metadata": {},
     "output_type": "display_data"
    },
    {
     "name": "stdout",
     "output_type": "stream",
     "text": [
      "===\n",
      "Extracting Springer Usage for 3000121820  -- top level= 3000121820\n",
      "..saving.. /Volumes/Albano/2020-08-06-holding-analysis-extraction/3000121820/3000121820_usage_springer.csv\n",
      "===\n",
      "Extracting Springer Usage for 3000122058  -- top level= 3000121820\n",
      "..saving.. /Volumes/Albano/2020-08-06-holding-analysis-extraction/3000121820/3000122058_usage_springer.csv\n",
      "===\n",
      "Extracting Springer Usage for 3000256744  -- top level= 3000121820\n",
      "..saving.. /Volumes/Albano/2020-08-06-holding-analysis-extraction/3000121820/3000256744_usage_springer.csv\n",
      "===\n",
      "Extracting Springer Usage for 3000504908  -- top level= 3000121820\n",
      "..saving.. /Volumes/Albano/2020-08-06-holding-analysis-extraction/3000121820/3000504908_usage_springer.csv\n",
      "===\n",
      "Extracting Springer Usage for 3000506431  -- top level= 3000121820\n",
      "..saving.. /Volumes/Albano/2020-08-06-holding-analysis-extraction/3000121820/3000506431_usage_springer.csv\n",
      "===\n",
      "Extracting Springer Usage for 3000122086  -- top level= 3000121820\n",
      "..saving.. /Volumes/Albano/2020-08-06-holding-analysis-extraction/3000121820/3000122086_usage_springer.csv\n",
      "===\n",
      "Extracting Springer Usage for 3000133272  -- top level= 3000121820\n",
      "..saving.. /Volumes/Albano/2020-08-06-holding-analysis-extraction/3000121820/3000133272_usage_springer.csv\n",
      "===\n",
      "Extracting Springer Usage for 3000740042  -- top level= 3000121820\n",
      "..saving.. /Volumes/Albano/2020-08-06-holding-analysis-extraction/3000121820/3000740042_usage_springer.csv\n",
      "===\n",
      "Extracting Springer Usage for 3000955687  -- top level= 3000121820\n",
      "..saving.. /Volumes/Albano/2020-08-06-holding-analysis-extraction/3000121820/3000955687_usage_springer.csv\n",
      "===\n",
      "Extracting Springer Usage for 3001044270  -- top level= 3000121820\n",
      "..saving.. /Volumes/Albano/2020-08-06-holding-analysis-extraction/3000121820/3001044270_usage_springer.csv\n",
      "\n",
      "======\n",
      "Checking Pre-saved Hierarchy for BPID:  2000330216 \n",
      "======\n",
      "Related BPIDs found:  10 = ['2000330216', '3000122820', '3000198352', '3000219314', '3991330314', '3001139967', '3002011430', '3002076494', '3002114477', '3002901800']\n"
     ]
    },
    {
     "data": {
      "application/vnd.jupyter.widget-view+json": {
       "model_id": "30515527334249c2b1abf70967478df0",
       "version_major": 2,
       "version_minor": 0
      },
      "text/plain": [
       "HBox(children=(FloatProgress(value=0.0, max=10.0), HTML(value='')))"
      ]
     },
     "metadata": {},
     "output_type": "display_data"
    },
    {
     "name": "stdout",
     "output_type": "stream",
     "text": [
      "===\n",
      "Extracting Springer Usage for 2000330216  -- top level= 2000330216\n",
      "..saving.. /Volumes/Albano/2020-08-06-holding-analysis-extraction/2000330216/2000330216_usage_springer.csv\n",
      "===\n",
      "Extracting Springer Usage for 3000122820  -- top level= 2000330216\n",
      "..saving.. /Volumes/Albano/2020-08-06-holding-analysis-extraction/2000330216/3000122820_usage_springer.csv\n",
      "===\n",
      "Extracting Springer Usage for 3000198352  -- top level= 2000330216\n",
      "..saving.. /Volumes/Albano/2020-08-06-holding-analysis-extraction/2000330216/3000198352_usage_springer.csv\n",
      "===\n",
      "Extracting Springer Usage for 3000219314  -- top level= 2000330216\n",
      "..saving.. /Volumes/Albano/2020-08-06-holding-analysis-extraction/2000330216/3000219314_usage_springer.csv\n",
      "===\n",
      "Extracting Springer Usage for 3991330314  -- top level= 2000330216\n",
      "..saving.. /Volumes/Albano/2020-08-06-holding-analysis-extraction/2000330216/3991330314_usage_springer.csv\n",
      "===\n",
      "Extracting Springer Usage for 3001139967  -- top level= 2000330216\n",
      "..saving.. /Volumes/Albano/2020-08-06-holding-analysis-extraction/2000330216/3001139967_usage_springer.csv\n",
      "===\n",
      "Extracting Springer Usage for 3002011430  -- top level= 2000330216\n",
      "..saving.. /Volumes/Albano/2020-08-06-holding-analysis-extraction/2000330216/3002011430_usage_springer.csv\n",
      "===\n",
      "Extracting Springer Usage for 3002076494  -- top level= 2000330216\n",
      "..saving.. /Volumes/Albano/2020-08-06-holding-analysis-extraction/2000330216/3002076494_usage_springer.csv\n",
      "===\n",
      "Extracting Springer Usage for 3002114477  -- top level= 2000330216\n",
      "..saving.. /Volumes/Albano/2020-08-06-holding-analysis-extraction/2000330216/3002114477_usage_springer.csv\n",
      "===\n",
      "Extracting Springer Usage for 3002901800  -- top level= 2000330216\n",
      "..saving.. /Volumes/Albano/2020-08-06-holding-analysis-extraction/2000330216/3002901800_usage_springer.csv\n",
      "\n",
      "======\n",
      "Checking Pre-saved Hierarchy for BPID:  3000633321 \n",
      "======\n",
      "++++ ERROR ++++\n",
      "Errors index = [3003695120, 30036927080, 3003343017, 2000341714, 8200769361, 3000633321]\n"
     ]
    },
    {
     "data": {
      "application/vnd.jupyter.widget-view+json": {
       "model_id": "e27a7e06a7b04ae1aa9ea56a3a68c676",
       "version_major": 2,
       "version_minor": 0
      },
      "text/plain": [
       "HBox(children=(FloatProgress(value=1.0, bar_style='info', max=1.0), HTML(value='')))"
      ]
     },
     "metadata": {},
     "output_type": "display_data"
    },
    {
     "name": "stdout",
     "output_type": "stream",
     "text": [
      "\n",
      "======\n",
      "Checking Pre-saved Hierarchy for BPID:  2000659946 \n",
      "======\n",
      "Related BPIDs found:  2 = ['2000659946', '3000229245']\n"
     ]
    },
    {
     "data": {
      "application/vnd.jupyter.widget-view+json": {
       "model_id": "12ff761389704d3e8622df4d215ac9ac",
       "version_major": 2,
       "version_minor": 0
      },
      "text/plain": [
       "HBox(children=(FloatProgress(value=0.0, max=2.0), HTML(value='')))"
      ]
     },
     "metadata": {},
     "output_type": "display_data"
    },
    {
     "name": "stdout",
     "output_type": "stream",
     "text": [
      "===\n",
      "Extracting Springer Usage for 2000659946  -- top level= 2000659946\n",
      "..saving.. /Volumes/Albano/2020-08-06-holding-analysis-extraction/2000659946/2000659946_usage_springer.csv\n",
      "===\n",
      "Extracting Springer Usage for 3000229245  -- top level= 2000659946\n",
      "..saving.. /Volumes/Albano/2020-08-06-holding-analysis-extraction/2000659946/3000229245_usage_springer.csv\n",
      "\n",
      "======\n",
      "Checking Pre-saved Hierarchy for BPID:  3991329770 \n",
      "======\n",
      "Related BPIDs found:  1 = ['3991329770']\n"
     ]
    },
    {
     "data": {
      "application/vnd.jupyter.widget-view+json": {
       "model_id": "f200cc2bbcfd4c49af950898b4ce5773",
       "version_major": 2,
       "version_minor": 0
      },
      "text/plain": [
       "HBox(children=(FloatProgress(value=0.0, max=1.0), HTML(value='')))"
      ]
     },
     "metadata": {},
     "output_type": "display_data"
    },
    {
     "name": "stdout",
     "output_type": "stream",
     "text": [
      "===\n",
      "Extracting Springer Usage for 3991329770  -- top level= 3991329770\n",
      "..saving.. /Volumes/Albano/2020-08-06-holding-analysis-extraction/3991329770/3991329770_usage_springer.csv\n",
      "\n",
      "======\n",
      "Checking Pre-saved Hierarchy for BPID:  3000121833 \n",
      "======\n",
      "Related BPIDs found:  3 = ['3000121833', '8200828607', '3000176756']\n"
     ]
    },
    {
     "data": {
      "application/vnd.jupyter.widget-view+json": {
       "model_id": "2ebfdbff6c3d4258825f2c50da20e20a",
       "version_major": 2,
       "version_minor": 0
      },
      "text/plain": [
       "HBox(children=(FloatProgress(value=0.0, max=3.0), HTML(value='')))"
      ]
     },
     "metadata": {},
     "output_type": "display_data"
    },
    {
     "name": "stdout",
     "output_type": "stream",
     "text": [
      "===\n",
      "Extracting Springer Usage for 3000121833  -- top level= 3000121833\n",
      "..saving.. /Volumes/Albano/2020-08-06-holding-analysis-extraction/3000121833/3000121833_usage_springer.csv\n",
      "===\n",
      "Extracting Springer Usage for 8200828607  -- top level= 3000121833\n",
      "..saving.. /Volumes/Albano/2020-08-06-holding-analysis-extraction/3000121833/8200828607_usage_springer.csv\n",
      "===\n",
      "Extracting Springer Usage for 3000176756  -- top level= 3000121833\n",
      "..saving.. /Volumes/Albano/2020-08-06-holding-analysis-extraction/3000121833/3000176756_usage_springer.csv\n",
      "\n",
      "======\n",
      "Checking Pre-saved Hierarchy for BPID:  2000340463 \n",
      "======\n",
      "Related BPIDs found:  1 = ['2000340463']\n"
     ]
    },
    {
     "data": {
      "application/vnd.jupyter.widget-view+json": {
       "model_id": "17a6e3d0954449958340c3f4f546a995",
       "version_major": 2,
       "version_minor": 0
      },
      "text/plain": [
       "HBox(children=(FloatProgress(value=0.0, max=1.0), HTML(value='')))"
      ]
     },
     "metadata": {},
     "output_type": "display_data"
    },
    {
     "name": "stdout",
     "output_type": "stream",
     "text": [
      "===\n",
      "Extracting Springer Usage for 2000340463  -- top level= 2000340463\n",
      "..saving.. /Volumes/Albano/2020-08-06-holding-analysis-extraction/2000340463/2000340463_usage_springer.csv\n",
      "\n",
      "======\n",
      "Checking Pre-saved Hierarchy for BPID:  8200969199 \n",
      "======\n",
      "Related BPIDs found:  3 = ['8200969199', '8200828607', '3003089239']\n"
     ]
    },
    {
     "data": {
      "application/vnd.jupyter.widget-view+json": {
       "model_id": "e2db723c0e53486a9f363d47dc94a4c4",
       "version_major": 2,
       "version_minor": 0
      },
      "text/plain": [
       "HBox(children=(FloatProgress(value=0.0, max=3.0), HTML(value='')))"
      ]
     },
     "metadata": {},
     "output_type": "display_data"
    },
    {
     "name": "stdout",
     "output_type": "stream",
     "text": [
      "===\n",
      "Extracting Springer Usage for 8200969199  -- top level= 8200969199\n",
      "..saving.. /Volumes/Albano/2020-08-06-holding-analysis-extraction/8200969199/8200969199_usage_springer.csv\n",
      "===\n",
      "Extracting Springer Usage for 8200828607  -- top level= 8200969199\n",
      "..saving.. /Volumes/Albano/2020-08-06-holding-analysis-extraction/8200969199/8200828607_usage_springer.csv\n",
      "===\n",
      "Extracting Springer Usage for 3003089239  -- top level= 8200969199\n",
      "..saving.. /Volumes/Albano/2020-08-06-holding-analysis-extraction/8200969199/3003089239_usage_springer.csv\n",
      "\n",
      "======\n",
      "Checking Pre-saved Hierarchy for BPID:  8200696305 \n",
      "======\n",
      "Related BPIDs found:  2 = ['8200696305', '8200828607']\n"
     ]
    },
    {
     "data": {
      "application/vnd.jupyter.widget-view+json": {
       "model_id": "e61896daea3f414a96fc5cffcb1d8d6d",
       "version_major": 2,
       "version_minor": 0
      },
      "text/plain": [
       "HBox(children=(FloatProgress(value=0.0, max=2.0), HTML(value='')))"
      ]
     },
     "metadata": {},
     "output_type": "display_data"
    },
    {
     "name": "stdout",
     "output_type": "stream",
     "text": [
      "===\n",
      "Extracting Springer Usage for 8200696305  -- top level= 8200696305\n",
      "..saving.. /Volumes/Albano/2020-08-06-holding-analysis-extraction/8200696305/8200696305_usage_springer.csv\n",
      "===\n",
      "Extracting Springer Usage for 8200828607  -- top level= 8200696305\n",
      "..saving.. /Volumes/Albano/2020-08-06-holding-analysis-extraction/8200696305/8200828607_usage_springer.csv\n",
      "\n",
      "======\n",
      "Checking Pre-saved Hierarchy for BPID:  8200150001 \n",
      "======\n",
      "Related BPIDs found:  2 = ['8200150001', '8200828607']\n"
     ]
    },
    {
     "data": {
      "application/vnd.jupyter.widget-view+json": {
       "model_id": "2bb8f72c39fa49f4a586fbd1ea8eabc0",
       "version_major": 2,
       "version_minor": 0
      },
      "text/plain": [
       "HBox(children=(FloatProgress(value=0.0, max=2.0), HTML(value='')))"
      ]
     },
     "metadata": {},
     "output_type": "display_data"
    },
    {
     "name": "stdout",
     "output_type": "stream",
     "text": [
      "===\n",
      "Extracting Springer Usage for 8200150001  -- top level= 8200150001\n",
      "..saving.. /Volumes/Albano/2020-08-06-holding-analysis-extraction/8200150001/8200150001_usage_springer.csv\n",
      "===\n",
      "Extracting Springer Usage for 8200828607  -- top level= 8200150001\n",
      "..saving.. /Volumes/Albano/2020-08-06-holding-analysis-extraction/8200150001/8200828607_usage_springer.csv\n",
      "\n",
      "======\n",
      "Checking Pre-saved Hierarchy for BPID:  3000121840 \n",
      "======\n",
      "Related BPIDs found:  2 = ['3000121840', '8200828607']\n"
     ]
    },
    {
     "data": {
      "application/vnd.jupyter.widget-view+json": {
       "model_id": "7c67478549534857831489e01ac0cd77",
       "version_major": 2,
       "version_minor": 0
      },
      "text/plain": [
       "HBox(children=(FloatProgress(value=0.0, max=2.0), HTML(value='')))"
      ]
     },
     "metadata": {},
     "output_type": "display_data"
    },
    {
     "name": "stdout",
     "output_type": "stream",
     "text": [
      "===\n",
      "Extracting Springer Usage for 3000121840  -- top level= 3000121840\n",
      "..saving.. /Volumes/Albano/2020-08-06-holding-analysis-extraction/3000121840/3000121840_usage_springer.csv\n",
      "===\n",
      "Extracting Springer Usage for 8200828607  -- top level= 3000121840\n",
      "..saving.. /Volumes/Albano/2020-08-06-holding-analysis-extraction/3000121840/8200828607_usage_springer.csv\n",
      "\n",
      "======\n",
      "Checking Pre-saved Hierarchy for BPID:  2000349174 \n",
      "======\n",
      "Related BPIDs found:  1 = ['2000349174']\n"
     ]
    },
    {
     "data": {
      "application/vnd.jupyter.widget-view+json": {
       "model_id": "7feb7761762a411b87dce50b6514e39d",
       "version_major": 2,
       "version_minor": 0
      },
      "text/plain": [
       "HBox(children=(FloatProgress(value=0.0, max=1.0), HTML(value='')))"
      ]
     },
     "metadata": {},
     "output_type": "display_data"
    },
    {
     "name": "stdout",
     "output_type": "stream",
     "text": [
      "===\n",
      "Extracting Springer Usage for 2000349174  -- top level= 2000349174\n",
      "..saving.. /Volumes/Albano/2020-08-06-holding-analysis-extraction/2000349174/2000349174_usage_springer.csv\n",
      "\n",
      "======\n",
      "Checking Pre-saved Hierarchy for BPID:  2000429567 \n",
      "======\n",
      "Related BPIDs found:  1 = ['2000429567']\n"
     ]
    },
    {
     "data": {
      "application/vnd.jupyter.widget-view+json": {
       "model_id": "2bed882280d94e10b433cd375f3ae419",
       "version_major": 2,
       "version_minor": 0
      },
      "text/plain": [
       "HBox(children=(FloatProgress(value=0.0, max=1.0), HTML(value='')))"
      ]
     },
     "metadata": {},
     "output_type": "display_data"
    },
    {
     "name": "stdout",
     "output_type": "stream",
     "text": [
      "===\n",
      "Extracting Springer Usage for 2000429567  -- top level= 2000429567\n",
      "..saving.. /Volumes/Albano/2020-08-06-holding-analysis-extraction/2000429567/2000429567_usage_springer.csv\n",
      "\n",
      "\n",
      "**** completed ****\n",
      "Errors index = [3003695120, 30036927080, 3003343017, 2000341714, 8200769361, 3000633321]\n"
     ]
    }
   ],
   "source": [
    "\n",
    "gbq_query = '''\n",
    "Select DOI, Usage_2016, Usage_2017, Usage_2018, Denials_2016, Denials_2017, Denials_2018 FROM (\n",
    "    SELECT \n",
    "    BP_ID, Item_DOI as DOI,  sum(clicks),\n",
    "    sum(Case when Calendar_Year = 2016 and Access_YN = 'Y' Then Clicks Else 0 END) as Usage_2016,\n",
    "    sum(Case when Calendar_Year = 2017 and Access_YN = 'Y' Then Clicks Else 0 END) as Usage_2017,\n",
    "    sum(Case when Calendar_Year = 2018 and Access_YN = 'Y' Then Clicks Else 0 END) as Usage_2018,\n",
    "    sum(Case when Calendar_Year = 2016 and Access_YN = 'N' Then Clicks Else 0 END) as Denials_2016,\n",
    "    sum(Case when Calendar_Year = 2017 and Access_YN = 'N' Then Clicks Else 0 END) as Denials_2017,\n",
    "    sum(Case when Calendar_Year = 2018 and Access_YN = 'N' Then Clicks Else 0 END) as Denials_2018,\n",
    "\n",
    "    FROM `usage-data-reporting.PROD_IFM_Usage.mv_usage_bp_monthly_spl` \n",
    "    Where \n",
    "    Document_Type = 'ARTICLE'\n",
    "    and Item_DOI is not null\n",
    "    and DOI is not null\n",
    "    and clicks is not null\n",
    "    and Calendar_Year in (2016, 2017, 2018)\n",
    "    Group by 1, 2\n",
    "    Order by 1, 2)\n",
    "Where BP_ID = '{}' \n",
    "# limit 100\n",
    "'''\n",
    "\n",
    "\n",
    "def gbq_extract_usage_springer(BPID, BPID_TOP=None, skip_if_exists=True):\n",
    "    \"Extract springer usage via bpid-siteid mappings. Default: skip extraction if file already exists in destination\"\n",
    "    if not BPID_TOP:\n",
    "        BPID_TOP = BPID\n",
    "    BPID, BPID_TOP = str(BPID), str(BPID_TOP)\n",
    "    path = gen_bpid_folder(BPID_TOP)\n",
    "    print(\"===\\nExtracting Springer Usage for\", BPID, \" -- top level=\", BPID_TOP)\n",
    "    #\n",
    "    filename = path + BPID + \"_usage_springer.csv\"\n",
    "    if os.path.exists(filename) and skip_if_exists:\n",
    "        print(\"..skipping.. file exists:\", filename)\n",
    "    else:\n",
    "        query_job = client_ref.query(gbq_query.format(BPID)).to_dataframe()\n",
    "        print(\"..saving..\", filename)\n",
    "        query_job.to_csv(filename, index=False)\n",
    "\n",
    "\n",
    "    \n",
    "\n",
    "if False:\n",
    "    for x in progress(BPIDS_LIST_UNIQUE[:1]):\n",
    "        gbq_extract_usage_springer(x)        \n",
    "\n",
    "\n",
    "errors = []\n",
    "\n",
    "for b1 in progress(BPIDS_LIST_UNIQUE):\n",
    "    try:\n",
    "        related = extract_related_bpids_from_local_file(b1)\n",
    "    except:\n",
    "        related = []\n",
    "        errors.append(b1)\n",
    "        print(\"++++ ERROR ++++\")\n",
    "        print(\"Errors index =\", errors)\n",
    "    for b2 in progress(related):\n",
    "        gbq_extract_usage_springer(b2, b1)\n",
    "\n",
    "print(\"**** completed ****\")\n",
    "print(\"Errors index =\", errors)\n"
   ]
  },
  {
   "cell_type": "markdown",
   "metadata": {
    "Collapsed": "false"
   },
   "source": [
    "### GBQ: 3.2 Nature usage data\n",
    "\n",
    "* requires a GBQ service account credentials (JSON file)\n",
    "* for each BPID, find the corresponding SITE_ID\n",
    "* for a SITE_ID, pull all usage data - using Nature table\n"
   ]
  },
  {
   "cell_type": "code",
   "execution_count": 42,
   "metadata": {
    "Collapsed": "false"
   },
   "outputs": [
    {
     "data": {
      "application/vnd.jupyter.widget-view+json": {
       "model_id": "f42e102199484143b3e51a4aa8248aed",
       "version_major": 2,
       "version_minor": 0
      },
      "text/plain": [
       "HBox(children=(FloatProgress(value=0.0, max=189.0), HTML(value='')))"
      ]
     },
     "metadata": {},
     "output_type": "display_data"
    },
    {
     "name": "stdout",
     "output_type": "stream",
     "text": [
      "======\n",
      "Checking Pre-saved Hierarchy for BPID:  3001049600 \n",
      "======\n",
      "Related BPIDs found:  1 = ['3001049600']\n"
     ]
    },
    {
     "data": {
      "application/vnd.jupyter.widget-view+json": {
       "model_id": "1a52b500e3fd444c8103972f09927596",
       "version_major": 2,
       "version_minor": 0
      },
      "text/plain": [
       "HBox(children=(FloatProgress(value=0.0, max=1.0), HTML(value='')))"
      ]
     },
     "metadata": {},
     "output_type": "display_data"
    },
    {
     "name": "stdout",
     "output_type": "stream",
     "text": [
      "...mapping from 3001049600  to Site_id not found: skipping\n",
      "\n",
      "======\n",
      "Checking Pre-saved Hierarchy for BPID:  2000022016 \n",
      "======\n",
      "Related BPIDs found:  8 = ['2000022016', '3000130459', '3000179129', '3000198352', '3000251517', '3991330314', '3001139967', '3002011430']\n"
     ]
    },
    {
     "data": {
      "application/vnd.jupyter.widget-view+json": {
       "model_id": "98013f269c9649deb69810767d227938",
       "version_major": 2,
       "version_minor": 0
      },
      "text/plain": [
       "HBox(children=(FloatProgress(value=0.0, max=8.0), HTML(value='')))"
      ]
     },
     "metadata": {},
     "output_type": "display_data"
    },
    {
     "name": "stdout",
     "output_type": "stream",
     "text": [
      "===\n",
      "Extracting Nature Usage for 2000022016  -- top level= 2000022016 Site_id= 1950\n",
      "..skipping.. file exists: /Volumes/Albano/2020-08-06-holding-analysis-extraction/2000022016/2000022016_usage_nature.csv\n",
      "...mapping from 3000130459  to Site_id not found: skipping\n",
      "...mapping from 3000179129  to Site_id not found: skipping\n",
      "...mapping from 3000198352  to Site_id not found: skipping\n",
      "...mapping from 3000251517  to Site_id not found: skipping\n",
      "...mapping from 3991330314  to Site_id not found: skipping\n",
      "...mapping from 3001139967  to Site_id not found: skipping\n",
      "...mapping from 3002011430  to Site_id not found: skipping\n",
      "\n",
      "======\n",
      "Checking Pre-saved Hierarchy for BPID:  3000201735 \n",
      "======\n",
      "Related BPIDs found:  43 = ['3000201735', '3000175179', '1000255885', '1600001227', '2000617610', '3000116918', '3000116931', '3000116934', '3000175175', '3000204988', '3000205002', '3000205076', '3000205082', '8200982076', '3004223722', '3004223724', '3001088854', '3001157578', '3001201143', '3004221684', '3004221752', '3004221761', '3004221783', '3004221787', '3004221802', '3004221830', '3004221837', '3004221925', '3004221927', '3004221930', '3004221938', '3004221942', '3004191508', '3004191511', '3004191512', '2000115039', '3000238655', '3000608689', '2000398568', '3000929851', '3002830455', '3991363251', '3991363253']\n"
     ]
    },
    {
     "data": {
      "application/vnd.jupyter.widget-view+json": {
       "model_id": "c9492cff430a4349b04bbcec8938c1b1",
       "version_major": 2,
       "version_minor": 0
      },
      "text/plain": [
       "HBox(children=(FloatProgress(value=0.0, max=43.0), HTML(value='')))"
      ]
     },
     "metadata": {},
     "output_type": "display_data"
    },
    {
     "name": "stdout",
     "output_type": "stream",
     "text": [
      "...mapping from 3000201735  to Site_id not found: skipping\n",
      "===\n",
      "Extracting Nature Usage for 3000175179  -- top level= 3000201735 Site_id= 4559\n",
      "..skipping.. file exists: /Volumes/Albano/2020-08-06-holding-analysis-extraction/3000201735/3000175179_usage_nature.csv\n",
      "...mapping from 1000255885  to Site_id not found: skipping\n",
      "...mapping from 1600001227  to Site_id not found: skipping\n",
      "...mapping from 2000617610  to Site_id not found: skipping\n",
      "...mapping from 3000116918  to Site_id not found: skipping\n",
      "...mapping from 3000116931  to Site_id not found: skipping\n",
      "...mapping from 3000116934  to Site_id not found: skipping\n",
      "...mapping from 3000175175  to Site_id not found: skipping\n",
      "...mapping from 3000204988  to Site_id not found: skipping\n",
      "...mapping from 3000205002  to Site_id not found: skipping\n",
      "...mapping from 3000205076  to Site_id not found: skipping\n",
      "...mapping from 3000205082  to Site_id not found: skipping\n",
      "===\n",
      "Extracting Nature Usage for 8200982076  -- top level= 3000201735 Site_id= 4665\n",
      "..skipping.. file exists: /Volumes/Albano/2020-08-06-holding-analysis-extraction/3000201735/8200982076_usage_nature.csv\n",
      "...mapping from 3004223722  to Site_id not found: skipping\n",
      "...mapping from 3004223724  to Site_id not found: skipping\n",
      "...mapping from 3001088854  to Site_id not found: skipping\n",
      "...mapping from 3001157578  to Site_id not found: skipping\n",
      "...mapping from 3001201143  to Site_id not found: skipping\n",
      "...mapping from 3004221684  to Site_id not found: skipping\n",
      "...mapping from 3004221752  to Site_id not found: skipping\n",
      "...mapping from 3004221761  to Site_id not found: skipping\n",
      "...mapping from 3004221783  to Site_id not found: skipping\n",
      "...mapping from 3004221787  to Site_id not found: skipping\n",
      "...mapping from 3004221802  to Site_id not found: skipping\n",
      "...mapping from 3004221830  to Site_id not found: skipping\n",
      "...mapping from 3004221837  to Site_id not found: skipping\n",
      "...mapping from 3004221925  to Site_id not found: skipping\n",
      "...mapping from 3004221927  to Site_id not found: skipping\n",
      "...mapping from 3004221930  to Site_id not found: skipping\n",
      "...mapping from 3004221938  to Site_id not found: skipping\n",
      "...mapping from 3004221942  to Site_id not found: skipping\n",
      "...mapping from 3004191508  to Site_id not found: skipping\n",
      "...mapping from 3004191511  to Site_id not found: skipping\n",
      "...mapping from 3004191512  to Site_id not found: skipping\n",
      "...mapping from 2000115039  to Site_id not found: skipping\n",
      "...mapping from 3000238655  to Site_id not found: skipping\n",
      "...mapping from 3000608689  to Site_id not found: skipping\n",
      "...mapping from 2000398568  to Site_id not found: skipping\n",
      "...mapping from 3000929851  to Site_id not found: skipping\n",
      "...mapping from 3002830455  to Site_id not found: skipping\n",
      "...mapping from 3991363251  to Site_id not found: skipping\n",
      "...mapping from 3991363253  to Site_id not found: skipping\n",
      "\n",
      "======\n",
      "Checking Pre-saved Hierarchy for BPID:  3000161288 \n",
      "======\n",
      "Related BPIDs found:  2 = ['3000161288', '3000675571']\n"
     ]
    },
    {
     "data": {
      "application/vnd.jupyter.widget-view+json": {
       "model_id": "30d9f7563b4243b294e5d233e91b3cfd",
       "version_major": 2,
       "version_minor": 0
      },
      "text/plain": [
       "HBox(children=(FloatProgress(value=0.0, max=2.0), HTML(value='')))"
      ]
     },
     "metadata": {},
     "output_type": "display_data"
    },
    {
     "name": "stdout",
     "output_type": "stream",
     "text": [
      "===\n",
      "Extracting Nature Usage for 3000161288  -- top level= 3000161288 Site_id= 4777\n",
      "..skipping.. file exists: /Volumes/Albano/2020-08-06-holding-analysis-extraction/3000161288/3000161288_usage_nature.csv\n",
      "...mapping from 3000675571  to Site_id not found: skipping\n",
      "\n",
      "======\n",
      "Checking Pre-saved Hierarchy for BPID:  2000185358 \n",
      "======\n",
      "Related BPIDs found:  9 = ['2000185358', '3000130459', '3000251517', '3001070824', '3991330314', '3000092011', '3001139967', '3002011430', '3002114477']\n"
     ]
    },
    {
     "data": {
      "application/vnd.jupyter.widget-view+json": {
       "model_id": "7d447ffae6f14a13b0072f4819397b2e",
       "version_major": 2,
       "version_minor": 0
      },
      "text/plain": [
       "HBox(children=(FloatProgress(value=0.0, max=9.0), HTML(value='')))"
      ]
     },
     "metadata": {},
     "output_type": "display_data"
    },
    {
     "name": "stdout",
     "output_type": "stream",
     "text": [
      "===\n",
      "Extracting Nature Usage for 2000185358  -- top level= 2000185358 Site_id= 4708\n",
      "..saving.. /Volumes/Albano/2020-08-06-holding-analysis-extraction/2000185358/2000185358_usage_nature.csv\n",
      "...mapping from 3000130459  to Site_id not found: skipping\n",
      "...mapping from 3000251517  to Site_id not found: skipping\n",
      "...mapping from 3001070824  to Site_id not found: skipping\n",
      "...mapping from 3991330314  to Site_id not found: skipping\n",
      "...mapping from 3000092011  to Site_id not found: skipping\n",
      "...mapping from 3001139967  to Site_id not found: skipping\n",
      "...mapping from 3002011430  to Site_id not found: skipping\n",
      "...mapping from 3002114477  to Site_id not found: skipping\n",
      "\n",
      "======\n",
      "Checking Pre-saved Hierarchy for BPID:  2000263694 \n",
      "======\n",
      "Related BPIDs found:  9 = ['2000263694', '3000130459', '3000179129', '3000198352', '3000251517', '3991330314', '3001139967', '3002011430', '3002114477']\n"
     ]
    },
    {
     "data": {
      "application/vnd.jupyter.widget-view+json": {
       "model_id": "2ed68fa61da94ae9a1608c078ae0336c",
       "version_major": 2,
       "version_minor": 0
      },
      "text/plain": [
       "HBox(children=(FloatProgress(value=0.0, max=9.0), HTML(value='')))"
      ]
     },
     "metadata": {},
     "output_type": "display_data"
    },
    {
     "name": "stdout",
     "output_type": "stream",
     "text": [
      "===\n",
      "Extracting Nature Usage for 2000263694  -- top level= 2000263694 Site_id= 10871\n",
      "..saving.. /Volumes/Albano/2020-08-06-holding-analysis-extraction/2000263694/2000263694_usage_nature.csv\n",
      "...mapping from 3000130459  to Site_id not found: skipping\n",
      "...mapping from 3000179129  to Site_id not found: skipping\n",
      "...mapping from 3000198352  to Site_id not found: skipping\n",
      "...mapping from 3000251517  to Site_id not found: skipping\n",
      "...mapping from 3991330314  to Site_id not found: skipping\n",
      "...mapping from 3001139967  to Site_id not found: skipping\n",
      "...mapping from 3002011430  to Site_id not found: skipping\n",
      "...mapping from 3002114477  to Site_id not found: skipping\n",
      "\n",
      "======\n",
      "Checking Pre-saved Hierarchy for BPID:  3000141328 \n",
      "======\n",
      "Related BPIDs found:  1 = ['3000141328']\n"
     ]
    },
    {
     "data": {
      "application/vnd.jupyter.widget-view+json": {
       "model_id": "38f9db657d644e9d8897954ec3cefead",
       "version_major": 2,
       "version_minor": 0
      },
      "text/plain": [
       "HBox(children=(FloatProgress(value=0.0, max=1.0), HTML(value='')))"
      ]
     },
     "metadata": {},
     "output_type": "display_data"
    },
    {
     "name": "stdout",
     "output_type": "stream",
     "text": [
      "...mapping from 3000141328  to Site_id not found: skipping\n",
      "\n",
      "======\n",
      "Checking Pre-saved Hierarchy for BPID:  3003695120 \n",
      "======\n",
      "++++ ERROR ++++\n",
      "Errors index = [3003695120]\n"
     ]
    },
    {
     "data": {
      "application/vnd.jupyter.widget-view+json": {
       "model_id": "8daf494358f14894af7ed14fc32f602a",
       "version_major": 2,
       "version_minor": 0
      },
      "text/plain": [
       "HBox(children=(FloatProgress(value=1.0, bar_style='info', max=1.0), HTML(value='')))"
      ]
     },
     "metadata": {},
     "output_type": "display_data"
    },
    {
     "name": "stdout",
     "output_type": "stream",
     "text": [
      "\n",
      "======\n",
      "Checking Pre-saved Hierarchy for BPID:  8200595982 \n",
      "======\n",
      "Related BPIDs found:  2 = ['8200595982', '8200828607']\n"
     ]
    },
    {
     "data": {
      "application/vnd.jupyter.widget-view+json": {
       "model_id": "0656586554254c8f808e7f53dc1110bc",
       "version_major": 2,
       "version_minor": 0
      },
      "text/plain": [
       "HBox(children=(FloatProgress(value=0.0, max=2.0), HTML(value='')))"
      ]
     },
     "metadata": {},
     "output_type": "display_data"
    },
    {
     "name": "stdout",
     "output_type": "stream",
     "text": [
      "===\n",
      "Extracting Nature Usage for 8200595982  -- top level= 8200595982 Site_id= 1313\n",
      "..saving.. /Volumes/Albano/2020-08-06-holding-analysis-extraction/8200595982/8200595982_usage_nature.csv\n",
      "...mapping from 8200828607  to Site_id not found: skipping\n",
      "\n",
      "======\n",
      "Checking Pre-saved Hierarchy for BPID:  8200832017 \n",
      "======\n",
      "Related BPIDs found:  2 = ['8200832017', '8200828607']\n"
     ]
    },
    {
     "data": {
      "application/vnd.jupyter.widget-view+json": {
       "model_id": "ff9a2018b34c4eb5b07c7abaedd08fb0",
       "version_major": 2,
       "version_minor": 0
      },
      "text/plain": [
       "HBox(children=(FloatProgress(value=0.0, max=2.0), HTML(value='')))"
      ]
     },
     "metadata": {},
     "output_type": "display_data"
    },
    {
     "name": "stdout",
     "output_type": "stream",
     "text": [
      "===\n",
      "Extracting Nature Usage for 8200832017  -- top level= 8200832017 Site_id= 1335\n",
      "..saving.. /Volumes/Albano/2020-08-06-holding-analysis-extraction/8200832017/8200832017_usage_nature.csv\n",
      "...mapping from 8200828607  to Site_id not found: skipping\n",
      "\n",
      "======\n",
      "Checking Pre-saved Hierarchy for BPID:  3000102420 \n",
      "======\n",
      "Related BPIDs found:  1 = ['3000102420']\n"
     ]
    },
    {
     "data": {
      "application/vnd.jupyter.widget-view+json": {
       "model_id": "805186d2d3e0477ab2b831e6f3e65dfe",
       "version_major": 2,
       "version_minor": 0
      },
      "text/plain": [
       "HBox(children=(FloatProgress(value=0.0, max=1.0), HTML(value='')))"
      ]
     },
     "metadata": {},
     "output_type": "display_data"
    },
    {
     "name": "stdout",
     "output_type": "stream",
     "text": [
      "===\n",
      "Extracting Nature Usage for 3000102420  -- top level= 3000102420 Site_id= 10318\n",
      "..saving.. /Volumes/Albano/2020-08-06-holding-analysis-extraction/3000102420/3000102420_usage_nature.csv\n",
      "\n",
      "======\n",
      "Checking Pre-saved Hierarchy for BPID:  3000671765 \n",
      "======\n",
      "Related BPIDs found:  2 = ['3000671765', '3002121962']\n"
     ]
    },
    {
     "data": {
      "application/vnd.jupyter.widget-view+json": {
       "model_id": "ebd592f86dba486780733f1c73400e8e",
       "version_major": 2,
       "version_minor": 0
      },
      "text/plain": [
       "HBox(children=(FloatProgress(value=0.0, max=2.0), HTML(value='')))"
      ]
     },
     "metadata": {},
     "output_type": "display_data"
    },
    {
     "name": "stdout",
     "output_type": "stream",
     "text": [
      "...mapping from 3000671765  to Site_id not found: skipping\n",
      "...mapping from 3002121962  to Site_id not found: skipping\n",
      "\n",
      "======\n",
      "Checking Pre-saved Hierarchy for BPID:  3000756244 \n",
      "======\n",
      "Related BPIDs found:  1 = ['3000756244']\n"
     ]
    },
    {
     "data": {
      "application/vnd.jupyter.widget-view+json": {
       "model_id": "4ce933b9526f4d759b7925d1cb42ecef",
       "version_major": 2,
       "version_minor": 0
      },
      "text/plain": [
       "HBox(children=(FloatProgress(value=0.0, max=1.0), HTML(value='')))"
      ]
     },
     "metadata": {},
     "output_type": "display_data"
    },
    {
     "name": "stdout",
     "output_type": "stream",
     "text": [
      "...mapping from 3000756244  to Site_id not found: skipping\n",
      "\n",
      "======\n",
      "Checking Pre-saved Hierarchy for BPID:  8200696853 \n",
      "======\n",
      "Related BPIDs found:  2 = ['8200696853', '8200828607']\n"
     ]
    },
    {
     "data": {
      "application/vnd.jupyter.widget-view+json": {
       "model_id": "8a1dd92ade574d0eb18a1385dd3603bb",
       "version_major": 2,
       "version_minor": 0
      },
      "text/plain": [
       "HBox(children=(FloatProgress(value=0.0, max=2.0), HTML(value='')))"
      ]
     },
     "metadata": {},
     "output_type": "display_data"
    },
    {
     "name": "stdout",
     "output_type": "stream",
     "text": [
      "===\n",
      "Extracting Nature Usage for 8200696853  -- top level= 8200696853 Site_id= 7306\n",
      "..saving.. /Volumes/Albano/2020-08-06-holding-analysis-extraction/8200696853/8200696853_usage_nature.csv\n",
      "...mapping from 8200828607  to Site_id not found: skipping\n",
      "\n",
      "======\n",
      "Checking Pre-saved Hierarchy for BPID:  8200881174 \n",
      "======\n",
      "Related BPIDs found:  2 = ['8200881174', '8200828607']\n"
     ]
    },
    {
     "data": {
      "application/vnd.jupyter.widget-view+json": {
       "model_id": "3378b8a83d9b453396d78bdafc79aa84",
       "version_major": 2,
       "version_minor": 0
      },
      "text/plain": [
       "HBox(children=(FloatProgress(value=0.0, max=2.0), HTML(value='')))"
      ]
     },
     "metadata": {},
     "output_type": "display_data"
    },
    {
     "name": "stdout",
     "output_type": "stream",
     "text": [
      "===\n",
      "Extracting Nature Usage for 8200881174  -- top level= 8200881174 Site_id= 2601\n",
      "..saving.. /Volumes/Albano/2020-08-06-holding-analysis-extraction/8200881174/8200881174_usage_nature.csv\n",
      "...mapping from 8200828607  to Site_id not found: skipping\n",
      "\n",
      "======\n",
      "Checking Pre-saved Hierarchy for BPID:  3000094233 \n",
      "======\n",
      "Related BPIDs found:  1 = ['3000094233']\n"
     ]
    },
    {
     "data": {
      "application/vnd.jupyter.widget-view+json": {
       "model_id": "1ca68605bc694f4eb5a2c6c232ea12ac",
       "version_major": 2,
       "version_minor": 0
      },
      "text/plain": [
       "HBox(children=(FloatProgress(value=0.0, max=1.0), HTML(value='')))"
      ]
     },
     "metadata": {},
     "output_type": "display_data"
    },
    {
     "name": "stdout",
     "output_type": "stream",
     "text": [
      "===\n",
      "Extracting Nature Usage for 3000094233  -- top level= 3000094233 Site_id= 10442\n",
      "..saving.. /Volumes/Albano/2020-08-06-holding-analysis-extraction/3000094233/3000094233_usage_nature.csv\n",
      "\n",
      "======\n",
      "Checking Pre-saved Hierarchy for BPID:  2000578073 \n",
      "======\n",
      "Related BPIDs found:  1 = ['2000578073']\n"
     ]
    },
    {
     "data": {
      "application/vnd.jupyter.widget-view+json": {
       "model_id": "0ee5c60268a7454fb32f9824459249fd",
       "version_major": 2,
       "version_minor": 0
      },
      "text/plain": [
       "HBox(children=(FloatProgress(value=0.0, max=1.0), HTML(value='')))"
      ]
     },
     "metadata": {},
     "output_type": "display_data"
    },
    {
     "name": "stdout",
     "output_type": "stream",
     "text": [
      "===\n",
      "Extracting Nature Usage for 2000578073  -- top level= 2000578073 Site_id= 15431\n",
      "..saving.. /Volumes/Albano/2020-08-06-holding-analysis-extraction/2000578073/2000578073_usage_nature.csv\n",
      "\n",
      "======\n",
      "Checking Pre-saved Hierarchy for BPID:  8200178197 \n",
      "======\n",
      "Related BPIDs found:  2 = ['8200178197', '8200828607']\n"
     ]
    },
    {
     "data": {
      "application/vnd.jupyter.widget-view+json": {
       "model_id": "931b520215674102952d8d203a3997dc",
       "version_major": 2,
       "version_minor": 0
      },
      "text/plain": [
       "HBox(children=(FloatProgress(value=0.0, max=2.0), HTML(value='')))"
      ]
     },
     "metadata": {},
     "output_type": "display_data"
    },
    {
     "name": "stdout",
     "output_type": "stream",
     "text": [
      "===\n",
      "Extracting Nature Usage for 8200178197  -- top level= 8200178197 Site_id= 9660\n",
      "..saving.. /Volumes/Albano/2020-08-06-holding-analysis-extraction/8200178197/8200178197_usage_nature.csv\n",
      "...mapping from 8200828607  to Site_id not found: skipping\n",
      "\n",
      "======\n",
      "Checking Pre-saved Hierarchy for BPID:  3001073183 \n",
      "======\n",
      "Related BPIDs found:  1 = ['3001073183']\n"
     ]
    },
    {
     "data": {
      "application/vnd.jupyter.widget-view+json": {
       "model_id": "d3fbc3ab175e4cc29e3d237272988217",
       "version_major": 2,
       "version_minor": 0
      },
      "text/plain": [
       "HBox(children=(FloatProgress(value=0.0, max=1.0), HTML(value='')))"
      ]
     },
     "metadata": {},
     "output_type": "display_data"
    },
    {
     "name": "stdout",
     "output_type": "stream",
     "text": [
      "...mapping from 3001073183  to Site_id not found: skipping\n",
      "\n",
      "======\n",
      "Checking Pre-saved Hierarchy for BPID:  3000604705 \n",
      "======\n",
      "Related BPIDs found:  1 = ['3000604705']\n"
     ]
    },
    {
     "data": {
      "application/vnd.jupyter.widget-view+json": {
       "model_id": "417e1970e53246dfa73aaea08d0d94e9",
       "version_major": 2,
       "version_minor": 0
      },
      "text/plain": [
       "HBox(children=(FloatProgress(value=0.0, max=1.0), HTML(value='')))"
      ]
     },
     "metadata": {},
     "output_type": "display_data"
    },
    {
     "name": "stdout",
     "output_type": "stream",
     "text": [
      "...mapping from 3000604705  to Site_id not found: skipping\n",
      "\n",
      "======\n",
      "Checking Pre-saved Hierarchy for BPID:  2000354351 \n",
      "======\n",
      "Related BPIDs found:  3 = ['2000354351', '3000241936', '3991436001']\n"
     ]
    },
    {
     "data": {
      "application/vnd.jupyter.widget-view+json": {
       "model_id": "232028dd02734ae5875aeee6652b91b6",
       "version_major": 2,
       "version_minor": 0
      },
      "text/plain": [
       "HBox(children=(FloatProgress(value=0.0, max=3.0), HTML(value='')))"
      ]
     },
     "metadata": {},
     "output_type": "display_data"
    },
    {
     "name": "stdout",
     "output_type": "stream",
     "text": [
      "===\n",
      "Extracting Nature Usage for 2000354351  -- top level= 2000354351 Site_id= 2810\n",
      "..saving.. /Volumes/Albano/2020-08-06-holding-analysis-extraction/2000354351/2000354351_usage_nature.csv\n",
      "...mapping from 3000241936  to Site_id not found: skipping\n",
      "...mapping from 3991436001  to Site_id not found: skipping\n",
      "\n",
      "======\n",
      "Checking Pre-saved Hierarchy for BPID:  8200724015 \n",
      "======\n",
      "Related BPIDs found:  2 = ['8200724015', '8200828607']\n"
     ]
    },
    {
     "data": {
      "application/vnd.jupyter.widget-view+json": {
       "model_id": "eb6752437c9845ec9748c49a9d0a4a44",
       "version_major": 2,
       "version_minor": 0
      },
      "text/plain": [
       "HBox(children=(FloatProgress(value=0.0, max=2.0), HTML(value='')))"
      ]
     },
     "metadata": {},
     "output_type": "display_data"
    },
    {
     "name": "stdout",
     "output_type": "stream",
     "text": [
      "===\n",
      "Extracting Nature Usage for 8200724015  -- top level= 8200724015 Site_id= 485\n",
      "..saving.. /Volumes/Albano/2020-08-06-holding-analysis-extraction/8200724015/8200724015_usage_nature.csv\n",
      "...mapping from 8200828607  to Site_id not found: skipping\n",
      "\n",
      "======\n",
      "Checking Pre-saved Hierarchy for BPID:  3000184373 \n",
      "======\n",
      "Related BPIDs found:  2 = ['3000184373', '8200828607']\n"
     ]
    },
    {
     "data": {
      "application/vnd.jupyter.widget-view+json": {
       "model_id": "ad3ff83266d2403c8c08c6ccdb423bac",
       "version_major": 2,
       "version_minor": 0
      },
      "text/plain": [
       "HBox(children=(FloatProgress(value=0.0, max=2.0), HTML(value='')))"
      ]
     },
     "metadata": {},
     "output_type": "display_data"
    },
    {
     "name": "stdout",
     "output_type": "stream",
     "text": [
      "===\n",
      "Extracting Nature Usage for 3000184373  -- top level= 3000184373 Site_id= 1329\n",
      "..saving.. /Volumes/Albano/2020-08-06-holding-analysis-extraction/3000184373/3000184373_usage_nature.csv\n",
      "...mapping from 8200828607  to Site_id not found: skipping\n",
      "\n",
      "======\n",
      "Checking Pre-saved Hierarchy for BPID:  2000204854 \n",
      "======\n",
      "Related BPIDs found:  11 = ['2000204854', '3000137278', '3000137282', '3000192397', '3000262825', '3000262839', '3000599536', '3000824714', '3994313832', '3003169293', '3902044458']\n"
     ]
    },
    {
     "data": {
      "application/vnd.jupyter.widget-view+json": {
       "model_id": "f938971f80254a97bfdfcdf0c55878c2",
       "version_major": 2,
       "version_minor": 0
      },
      "text/plain": [
       "HBox(children=(FloatProgress(value=0.0, max=11.0), HTML(value='')))"
      ]
     },
     "metadata": {},
     "output_type": "display_data"
    },
    {
     "name": "stdout",
     "output_type": "stream",
     "text": [
      "===\n",
      "Extracting Nature Usage for 2000204854  -- top level= 2000204854 Site_id= 7038\n",
      "..saving.. /Volumes/Albano/2020-08-06-holding-analysis-extraction/2000204854/2000204854_usage_nature.csv\n",
      "...mapping from 3000137278  to Site_id not found: skipping\n",
      "...mapping from 3000137282  to Site_id not found: skipping\n",
      "...mapping from 3000192397  to Site_id not found: skipping\n",
      "...mapping from 3000262825  to Site_id not found: skipping\n",
      "...mapping from 3000262839  to Site_id not found: skipping\n",
      "...mapping from 3000599536  to Site_id not found: skipping\n",
      "...mapping from 3000824714  to Site_id not found: skipping\n",
      "...mapping from 3994313832  to Site_id not found: skipping\n",
      "...mapping from 3003169293  to Site_id not found: skipping\n",
      "...mapping from 3902044458  to Site_id not found: skipping\n",
      "\n",
      "======\n",
      "Checking Pre-saved Hierarchy for BPID:  2000553014 \n",
      "======\n",
      "Related BPIDs found:  1 = ['2000553014']\n"
     ]
    },
    {
     "data": {
      "application/vnd.jupyter.widget-view+json": {
       "model_id": "6ed49d0c31e24581bb0730dfd76983d3",
       "version_major": 2,
       "version_minor": 0
      },
      "text/plain": [
       "HBox(children=(FloatProgress(value=0.0, max=1.0), HTML(value='')))"
      ]
     },
     "metadata": {},
     "output_type": "display_data"
    },
    {
     "name": "stdout",
     "output_type": "stream",
     "text": [
      "...mapping from 2000553014  to Site_id not found: skipping\n",
      "\n",
      "======\n",
      "Checking Pre-saved Hierarchy for BPID:  3000612920 \n",
      "======\n",
      "Related BPIDs found:  2 = ['3000612920', '3003777848']\n"
     ]
    },
    {
     "data": {
      "application/vnd.jupyter.widget-view+json": {
       "model_id": "ebef094906a44781950e796a4ca001b8",
       "version_major": 2,
       "version_minor": 0
      },
      "text/plain": [
       "HBox(children=(FloatProgress(value=0.0, max=2.0), HTML(value='')))"
      ]
     },
     "metadata": {},
     "output_type": "display_data"
    },
    {
     "name": "stdout",
     "output_type": "stream",
     "text": [
      "...mapping from 3000612920  to Site_id not found: skipping\n",
      "===\n",
      "Extracting Nature Usage for 3003777848  -- top level= 3000612920 Site_id= 13251\n",
      "..saving.. /Volumes/Albano/2020-08-06-holding-analysis-extraction/3000612920/3003777848_usage_nature.csv\n",
      "\n",
      "======\n",
      "Checking Pre-saved Hierarchy for BPID:  2000532537 \n",
      "======\n",
      "Related BPIDs found:  4 = ['2000532537', '3000180695', '3000174968', '3994475188']\n"
     ]
    },
    {
     "data": {
      "application/vnd.jupyter.widget-view+json": {
       "model_id": "28e76d3f247645acac1e5bc48443eea9",
       "version_major": 2,
       "version_minor": 0
      },
      "text/plain": [
       "HBox(children=(FloatProgress(value=0.0, max=4.0), HTML(value='')))"
      ]
     },
     "metadata": {},
     "output_type": "display_data"
    },
    {
     "name": "stdout",
     "output_type": "stream",
     "text": [
      "===\n",
      "Extracting Nature Usage for 2000532537  -- top level= 2000532537 Site_id= 12451\n",
      "..saving.. /Volumes/Albano/2020-08-06-holding-analysis-extraction/2000532537/2000532537_usage_nature.csv\n",
      "...mapping from 3000180695  to Site_id not found: skipping\n",
      "...mapping from 3000174968  to Site_id not found: skipping\n",
      "...mapping from 3994475188  to Site_id not found: skipping\n",
      "\n",
      "======\n",
      "Checking Pre-saved Hierarchy for BPID:  3991332406 \n",
      "======\n",
      "Related BPIDs found:  2 = ['3991332406', '3000142563']\n"
     ]
    },
    {
     "data": {
      "application/vnd.jupyter.widget-view+json": {
       "model_id": "f2d09c3b60fe4f5eb68638e29e36e472",
       "version_major": 2,
       "version_minor": 0
      },
      "text/plain": [
       "HBox(children=(FloatProgress(value=0.0, max=2.0), HTML(value='')))"
      ]
     },
     "metadata": {},
     "output_type": "display_data"
    },
    {
     "name": "stdout",
     "output_type": "stream",
     "text": [
      "===\n",
      "Extracting Nature Usage for 3991332406  -- top level= 3991332406 Site_id= 2028\n",
      "..saving.. /Volumes/Albano/2020-08-06-holding-analysis-extraction/3991332406/3991332406_usage_nature.csv\n",
      "...mapping from 3000142563  to Site_id not found: skipping\n",
      "\n",
      "======\n",
      "Checking Pre-saved Hierarchy for BPID:  3000133174 \n",
      "======\n",
      "Related BPIDs found:  3 = ['3000133174', '8200828607', '3000176756']\n"
     ]
    },
    {
     "data": {
      "application/vnd.jupyter.widget-view+json": {
       "model_id": "827f4a1a5c014af9badd5921abb108d5",
       "version_major": 2,
       "version_minor": 0
      },
      "text/plain": [
       "HBox(children=(FloatProgress(value=0.0, max=3.0), HTML(value='')))"
      ]
     },
     "metadata": {},
     "output_type": "display_data"
    },
    {
     "name": "stdout",
     "output_type": "stream",
     "text": [
      "===\n",
      "Extracting Nature Usage for 3000133174  -- top level= 3000133174 Site_id= 7805\n",
      "..saving.. /Volumes/Albano/2020-08-06-holding-analysis-extraction/3000133174/3000133174_usage_nature.csv\n",
      "...mapping from 8200828607  to Site_id not found: skipping\n",
      "...mapping from 3000176756  to Site_id not found: skipping\n",
      "\n",
      "======\n",
      "Checking Pre-saved Hierarchy for BPID:  8200708154 \n",
      "======\n",
      "Related BPIDs found:  2 = ['8200708154', '8200828607']\n"
     ]
    },
    {
     "data": {
      "application/vnd.jupyter.widget-view+json": {
       "model_id": "157e9cb7437243aabcafb0af500e6891",
       "version_major": 2,
       "version_minor": 0
      },
      "text/plain": [
       "HBox(children=(FloatProgress(value=0.0, max=2.0), HTML(value='')))"
      ]
     },
     "metadata": {},
     "output_type": "display_data"
    },
    {
     "name": "stdout",
     "output_type": "stream",
     "text": [
      "===\n",
      "Extracting Nature Usage for 8200708154  -- top level= 8200708154 Site_id= 8937\n",
      "..saving.. /Volumes/Albano/2020-08-06-holding-analysis-extraction/8200708154/8200708154_usage_nature.csv\n",
      "...mapping from 8200828607  to Site_id not found: skipping\n",
      "\n",
      "======\n",
      "Checking Pre-saved Hierarchy for BPID:  3000163392 \n",
      "======\n",
      "Related BPIDs found:  5 = ['3000163392', '3991330314', '3001139967', '3002011430', '3002114477']\n"
     ]
    },
    {
     "data": {
      "application/vnd.jupyter.widget-view+json": {
       "model_id": "b7f3c6c0578b4fdab437e8dd55480a1c",
       "version_major": 2,
       "version_minor": 0
      },
      "text/plain": [
       "HBox(children=(FloatProgress(value=0.0, max=5.0), HTML(value='')))"
      ]
     },
     "metadata": {},
     "output_type": "display_data"
    },
    {
     "name": "stdout",
     "output_type": "stream",
     "text": [
      "===\n",
      "Extracting Nature Usage for 3000163392  -- top level= 3000163392 Site_id= 7587\n",
      "..saving.. /Volumes/Albano/2020-08-06-holding-analysis-extraction/3000163392/3000163392_usage_nature.csv\n",
      "...mapping from 3991330314  to Site_id not found: skipping\n",
      "...mapping from 3001139967  to Site_id not found: skipping\n",
      "...mapping from 3002011430  to Site_id not found: skipping\n",
      "...mapping from 3002114477  to Site_id not found: skipping\n",
      "\n",
      "======\n",
      "Checking Pre-saved Hierarchy for BPID:  8201005121 \n",
      "======\n",
      "Related BPIDs found:  2 = ['8201005121', '8200828607']\n"
     ]
    },
    {
     "data": {
      "application/vnd.jupyter.widget-view+json": {
       "model_id": "009d353263e64216ab9f8edbd788986d",
       "version_major": 2,
       "version_minor": 0
      },
      "text/plain": [
       "HBox(children=(FloatProgress(value=0.0, max=2.0), HTML(value='')))"
      ]
     },
     "metadata": {},
     "output_type": "display_data"
    },
    {
     "name": "stdout",
     "output_type": "stream",
     "text": [
      "===\n",
      "Extracting Nature Usage for 8201005121  -- top level= 8201005121 Site_id= 1098\n",
      "..saving.. /Volumes/Albano/2020-08-06-holding-analysis-extraction/8201005121/8201005121_usage_nature.csv\n",
      "...mapping from 8200828607  to Site_id not found: skipping\n",
      "\n",
      "======\n",
      "Checking Pre-saved Hierarchy for BPID:  3002013254 \n",
      "======\n",
      "Related BPIDs found:  1 = ['3002013254']\n"
     ]
    },
    {
     "data": {
      "application/vnd.jupyter.widget-view+json": {
       "model_id": "d2f85816adcf4187bab9516dca37e9b0",
       "version_major": 2,
       "version_minor": 0
      },
      "text/plain": [
       "HBox(children=(FloatProgress(value=0.0, max=1.0), HTML(value='')))"
      ]
     },
     "metadata": {},
     "output_type": "display_data"
    },
    {
     "name": "stdout",
     "output_type": "stream",
     "text": [
      "===\n",
      "Extracting Nature Usage for 3002013254  -- top level= 3002013254 Site_id= 2407\n",
      "..saving.. /Volumes/Albano/2020-08-06-holding-analysis-extraction/3002013254/3002013254_usage_nature.csv\n",
      "\n",
      "======\n",
      "Checking Pre-saved Hierarchy for BPID:  8200400967 \n",
      "======\n",
      "Related BPIDs found:  4 = ['8200400967', '3000176734', '8200828607', '3902328142']\n"
     ]
    },
    {
     "data": {
      "application/vnd.jupyter.widget-view+json": {
       "model_id": "247efc74f2aa4273bf36af56658eb3fc",
       "version_major": 2,
       "version_minor": 0
      },
      "text/plain": [
       "HBox(children=(FloatProgress(value=0.0, max=4.0), HTML(value='')))"
      ]
     },
     "metadata": {},
     "output_type": "display_data"
    },
    {
     "name": "stdout",
     "output_type": "stream",
     "text": [
      "===\n",
      "Extracting Nature Usage for 8200400967  -- top level= 8200400967 Site_id= 9907\n",
      "..saving.. /Volumes/Albano/2020-08-06-holding-analysis-extraction/8200400967/8200400967_usage_nature.csv\n",
      "...mapping from 3000176734  to Site_id not found: skipping\n",
      "...mapping from 8200828607  to Site_id not found: skipping\n",
      "...mapping from 3902328142  to Site_id not found: skipping\n",
      "\n",
      "======\n",
      "Checking Pre-saved Hierarchy for BPID:  3000212040 \n",
      "======\n",
      "Related BPIDs found:  3 = ['3000212040', '3000155420', '3003532199']\n"
     ]
    },
    {
     "data": {
      "application/vnd.jupyter.widget-view+json": {
       "model_id": "95172839f3d24d90b6cac766fbb2e5e2",
       "version_major": 2,
       "version_minor": 0
      },
      "text/plain": [
       "HBox(children=(FloatProgress(value=0.0, max=3.0), HTML(value='')))"
      ]
     },
     "metadata": {},
     "output_type": "display_data"
    },
    {
     "name": "stdout",
     "output_type": "stream",
     "text": [
      "===\n",
      "Extracting Nature Usage for 3000212040  -- top level= 3000212040 Site_id= 12076\n",
      "..saving.. /Volumes/Albano/2020-08-06-holding-analysis-extraction/3000212040/3000212040_usage_nature.csv\n",
      "...mapping from 3000155420  to Site_id not found: skipping\n",
      "...mapping from 3003532199  to Site_id not found: skipping\n",
      "\n",
      "======\n",
      "Checking Pre-saved Hierarchy for BPID:  3000210508 \n",
      "======\n",
      "Related BPIDs found:  1 = ['3000210508']\n"
     ]
    },
    {
     "data": {
      "application/vnd.jupyter.widget-view+json": {
       "model_id": "6262edb815dd4737813f50ca6b6aa5c1",
       "version_major": 2,
       "version_minor": 0
      },
      "text/plain": [
       "HBox(children=(FloatProgress(value=0.0, max=1.0), HTML(value='')))"
      ]
     },
     "metadata": {},
     "output_type": "display_data"
    },
    {
     "name": "stdout",
     "output_type": "stream",
     "text": [
      "...mapping from 3000210508  to Site_id not found: skipping\n",
      "\n",
      "======\n",
      "Checking Pre-saved Hierarchy for BPID:  8200832077 \n",
      "======\n",
      "Related BPIDs found:  2 = ['8200832077', '8200828607']\n"
     ]
    },
    {
     "data": {
      "application/vnd.jupyter.widget-view+json": {
       "model_id": "eddcb23d13cf4327aaaea1106cd23060",
       "version_major": 2,
       "version_minor": 0
      },
      "text/plain": [
       "HBox(children=(FloatProgress(value=0.0, max=2.0), HTML(value='')))"
      ]
     },
     "metadata": {},
     "output_type": "display_data"
    },
    {
     "name": "stdout",
     "output_type": "stream",
     "text": [
      "===\n",
      "Extracting Nature Usage for 8200832077  -- top level= 8200832077 Site_id= 6855\n",
      "..saving.. /Volumes/Albano/2020-08-06-holding-analysis-extraction/8200832077/8200832077_usage_nature.csv\n",
      "...mapping from 8200828607  to Site_id not found: skipping\n",
      "\n",
      "======\n",
      "Checking Pre-saved Hierarchy for BPID:  3000144974 \n",
      "======\n",
      "Related BPIDs found:  4 = ['3000144974', '3000180852', '3003532199', '3000155420']\n"
     ]
    },
    {
     "data": {
      "application/vnd.jupyter.widget-view+json": {
       "model_id": "c3e1b1d5f60b4162b329cb1d28a990d8",
       "version_major": 2,
       "version_minor": 0
      },
      "text/plain": [
       "HBox(children=(FloatProgress(value=0.0, max=4.0), HTML(value='')))"
      ]
     },
     "metadata": {},
     "output_type": "display_data"
    },
    {
     "name": "stdout",
     "output_type": "stream",
     "text": [
      "===\n",
      "Extracting Nature Usage for 3000144974  -- top level= 3000144974 Site_id= 2670\n",
      "..saving.. /Volumes/Albano/2020-08-06-holding-analysis-extraction/3000144974/3000144974_usage_nature.csv\n",
      "...mapping from 3000180852  to Site_id not found: skipping\n",
      "...mapping from 3003532199  to Site_id not found: skipping\n",
      "...mapping from 3000155420  to Site_id not found: skipping\n",
      "\n",
      "======\n",
      "Checking Pre-saved Hierarchy for BPID:  3000146511 \n",
      "======\n",
      "Related BPIDs found:  2 = ['3000146511', '3000675571']\n"
     ]
    },
    {
     "data": {
      "application/vnd.jupyter.widget-view+json": {
       "model_id": "7a805f692d094cd6879aa8cb1a3f2d4d",
       "version_major": 2,
       "version_minor": 0
      },
      "text/plain": [
       "HBox(children=(FloatProgress(value=0.0, max=2.0), HTML(value='')))"
      ]
     },
     "metadata": {},
     "output_type": "display_data"
    },
    {
     "name": "stdout",
     "output_type": "stream",
     "text": [
      "===\n",
      "Extracting Nature Usage for 3000146511  -- top level= 3000146511 Site_id= 2593\n",
      "..saving.. /Volumes/Albano/2020-08-06-holding-analysis-extraction/3000146511/3000146511_usage_nature.csv\n",
      "...mapping from 3000675571  to Site_id not found: skipping\n",
      "\n",
      "======\n",
      "Checking Pre-saved Hierarchy for BPID:  8200699471 \n",
      "======\n",
      "Related BPIDs found:  2 = ['8200699471', '8200828607']\n"
     ]
    },
    {
     "data": {
      "application/vnd.jupyter.widget-view+json": {
       "model_id": "148fa57edc5b48b699e0c690505cfb9d",
       "version_major": 2,
       "version_minor": 0
      },
      "text/plain": [
       "HBox(children=(FloatProgress(value=0.0, max=2.0), HTML(value='')))"
      ]
     },
     "metadata": {},
     "output_type": "display_data"
    },
    {
     "name": "stdout",
     "output_type": "stream",
     "text": [
      "===\n",
      "Extracting Nature Usage for 8200699471  -- top level= 8200699471 Site_id= 4474\n",
      "..saving.. /Volumes/Albano/2020-08-06-holding-analysis-extraction/8200699471/8200699471_usage_nature.csv\n",
      "...mapping from 8200828607  to Site_id not found: skipping\n",
      "\n",
      "======\n",
      "Checking Pre-saved Hierarchy for BPID:  2000341081 \n",
      "======\n",
      "Related BPIDs found:  1 = ['2000341081']\n"
     ]
    },
    {
     "data": {
      "application/vnd.jupyter.widget-view+json": {
       "model_id": "11e2eea333584fd7baa19d342ec90728",
       "version_major": 2,
       "version_minor": 0
      },
      "text/plain": [
       "HBox(children=(FloatProgress(value=0.0, max=1.0), HTML(value='')))"
      ]
     },
     "metadata": {},
     "output_type": "display_data"
    },
    {
     "name": "stdout",
     "output_type": "stream",
     "text": [
      "===\n",
      "Extracting Nature Usage for 2000341081  -- top level= 2000341081 Site_id= 8281\n",
      "..saving.. /Volumes/Albano/2020-08-06-holding-analysis-extraction/2000341081/2000341081_usage_nature.csv\n",
      "\n",
      "======\n",
      "Checking Pre-saved Hierarchy for BPID:  2000494169 \n",
      "======\n",
      "Related BPIDs found:  4 = ['2000494169', '3000251368', '3000593105', '3000130631']\n"
     ]
    },
    {
     "data": {
      "application/vnd.jupyter.widget-view+json": {
       "model_id": "90f3928061b645a6b89c9d5c0aaca3a9",
       "version_major": 2,
       "version_minor": 0
      },
      "text/plain": [
       "HBox(children=(FloatProgress(value=0.0, max=4.0), HTML(value='')))"
      ]
     },
     "metadata": {},
     "output_type": "display_data"
    },
    {
     "name": "stdout",
     "output_type": "stream",
     "text": [
      "===\n",
      "Extracting Nature Usage for 2000494169  -- top level= 2000494169 Site_id= 4624\n",
      "..saving.. /Volumes/Albano/2020-08-06-holding-analysis-extraction/2000494169/2000494169_usage_nature.csv\n",
      "...mapping from 3000251368  to Site_id not found: skipping\n",
      "...mapping from 3000593105  to Site_id not found: skipping\n",
      "...mapping from 3000130631  to Site_id not found: skipping\n",
      "\n",
      "======\n",
      "Checking Pre-saved Hierarchy for BPID:  3002174042 \n",
      "======\n",
      "Related BPIDs found:  1 = ['3002174042']\n"
     ]
    },
    {
     "data": {
      "application/vnd.jupyter.widget-view+json": {
       "model_id": "4ae1146d4a0341b7b9f055d35d8007ca",
       "version_major": 2,
       "version_minor": 0
      },
      "text/plain": [
       "HBox(children=(FloatProgress(value=0.0, max=1.0), HTML(value='')))"
      ]
     },
     "metadata": {},
     "output_type": "display_data"
    },
    {
     "name": "stdout",
     "output_type": "stream",
     "text": [
      "...mapping from 3002174042  to Site_id not found: skipping\n",
      "\n",
      "======\n",
      "Checking Pre-saved Hierarchy for BPID:  3000212068 \n",
      "======\n",
      "Related BPIDs found:  3 = ['3000212068', '3000155420', '3003532199']\n"
     ]
    },
    {
     "data": {
      "application/vnd.jupyter.widget-view+json": {
       "model_id": "6009bbfdf07141ce961f4edac4dd5346",
       "version_major": 2,
       "version_minor": 0
      },
      "text/plain": [
       "HBox(children=(FloatProgress(value=0.0, max=3.0), HTML(value='')))"
      ]
     },
     "metadata": {},
     "output_type": "display_data"
    },
    {
     "name": "stdout",
     "output_type": "stream",
     "text": [
      "===\n",
      "Extracting Nature Usage for 3000212068  -- top level= 3000212068 Site_id= 5788\n",
      "..saving.. /Volumes/Albano/2020-08-06-holding-analysis-extraction/3000212068/3000212068_usage_nature.csv\n",
      "...mapping from 3000155420  to Site_id not found: skipping\n",
      "...mapping from 3003532199  to Site_id not found: skipping\n",
      "\n",
      "======\n",
      "Checking Pre-saved Hierarchy for BPID:  3000482404 \n",
      "======\n",
      "Related BPIDs found:  1 = ['3000482404']\n"
     ]
    },
    {
     "data": {
      "application/vnd.jupyter.widget-view+json": {
       "model_id": "ed08033798a0452b845122bff93ccae0",
       "version_major": 2,
       "version_minor": 0
      },
      "text/plain": [
       "HBox(children=(FloatProgress(value=0.0, max=1.0), HTML(value='')))"
      ]
     },
     "metadata": {},
     "output_type": "display_data"
    },
    {
     "name": "stdout",
     "output_type": "stream",
     "text": [
      "===\n",
      "Extracting Nature Usage for 3000482404  -- top level= 3000482404 Site_id= 20410\n",
      "..saving.. /Volumes/Albano/2020-08-06-holding-analysis-extraction/3000482404/3000482404_usage_nature.csv\n",
      "\n",
      "======\n",
      "Checking Pre-saved Hierarchy for BPID:  30036927080 \n",
      "======\n",
      "++++ ERROR ++++\n",
      "Errors index = [3003695120, 30036927080]\n"
     ]
    },
    {
     "data": {
      "application/vnd.jupyter.widget-view+json": {
       "model_id": "eb06097c9f3f4f9d92093df3d92f2bdd",
       "version_major": 2,
       "version_minor": 0
      },
      "text/plain": [
       "HBox(children=(FloatProgress(value=1.0, bar_style='info', max=1.0), HTML(value='')))"
      ]
     },
     "metadata": {},
     "output_type": "display_data"
    },
    {
     "name": "stdout",
     "output_type": "stream",
     "text": [
      "\n",
      "======\n",
      "Checking Pre-saved Hierarchy for BPID:  2000125546 \n",
      "======\n",
      "Related BPIDs found:  1 = ['2000125546']\n"
     ]
    },
    {
     "data": {
      "application/vnd.jupyter.widget-view+json": {
       "model_id": "42aee0d83c6d437288c27bb67d8dbdd3",
       "version_major": 2,
       "version_minor": 0
      },
      "text/plain": [
       "HBox(children=(FloatProgress(value=0.0, max=1.0), HTML(value='')))"
      ]
     },
     "metadata": {},
     "output_type": "display_data"
    },
    {
     "name": "stdout",
     "output_type": "stream",
     "text": [
      "===\n",
      "Extracting Nature Usage for 2000125546  -- top level= 2000125546 Site_id= 11755\n",
      "..saving.. /Volumes/Albano/2020-08-06-holding-analysis-extraction/2000125546/2000125546_usage_nature.csv\n",
      "\n",
      "======\n",
      "Checking Pre-saved Hierarchy for BPID:  3003526252 \n",
      "======\n",
      "Related BPIDs found:  1 = ['3003526252']\n"
     ]
    },
    {
     "data": {
      "application/vnd.jupyter.widget-view+json": {
       "model_id": "5ec243fbd34a4b7eb67ef1f3a0d71429",
       "version_major": 2,
       "version_minor": 0
      },
      "text/plain": [
       "HBox(children=(FloatProgress(value=0.0, max=1.0), HTML(value='')))"
      ]
     },
     "metadata": {},
     "output_type": "display_data"
    },
    {
     "name": "stdout",
     "output_type": "stream",
     "text": [
      "...mapping from 3003526252  to Site_id not found: skipping\n",
      "\n",
      "======\n",
      "Checking Pre-saved Hierarchy for BPID:  8200177774 \n",
      "======\n",
      "Related BPIDs found:  2 = ['8200177774', '8200828607']\n"
     ]
    },
    {
     "data": {
      "application/vnd.jupyter.widget-view+json": {
       "model_id": "7ebac09730f84d3d97df8bbf0d025a2d",
       "version_major": 2,
       "version_minor": 0
      },
      "text/plain": [
       "HBox(children=(FloatProgress(value=0.0, max=2.0), HTML(value='')))"
      ]
     },
     "metadata": {},
     "output_type": "display_data"
    },
    {
     "name": "stdout",
     "output_type": "stream",
     "text": [
      "===\n",
      "Extracting Nature Usage for 8200177774  -- top level= 8200177774 Site_id= 1331\n",
      "..saving.. /Volumes/Albano/2020-08-06-holding-analysis-extraction/8200177774/8200177774_usage_nature.csv\n",
      "...mapping from 8200828607  to Site_id not found: skipping\n",
      "\n",
      "======\n",
      "Checking Pre-saved Hierarchy for BPID:  2000516724 \n",
      "======\n",
      "Related BPIDs found:  12 = ['2000516724', '3000137278', '3000137282', '3000192397', '3000196714', '3000262825', '3000262839', '3000599536', '3000824714', '3994313832', '3003169293', '3902044458']\n"
     ]
    },
    {
     "data": {
      "application/vnd.jupyter.widget-view+json": {
       "model_id": "6bbfe0519d3447fa8339bec255a203a1",
       "version_major": 2,
       "version_minor": 0
      },
      "text/plain": [
       "HBox(children=(FloatProgress(value=0.0, max=12.0), HTML(value='')))"
      ]
     },
     "metadata": {},
     "output_type": "display_data"
    },
    {
     "name": "stdout",
     "output_type": "stream",
     "text": [
      "===\n",
      "Extracting Nature Usage for 2000516724  -- top level= 2000516724 Site_id= 1095\n",
      "..saving.. /Volumes/Albano/2020-08-06-holding-analysis-extraction/2000516724/2000516724_usage_nature.csv\n",
      "...mapping from 3000137278  to Site_id not found: skipping\n",
      "...mapping from 3000137282  to Site_id not found: skipping\n",
      "...mapping from 3000192397  to Site_id not found: skipping\n",
      "...mapping from 3000196714  to Site_id not found: skipping\n",
      "...mapping from 3000262825  to Site_id not found: skipping\n",
      "...mapping from 3000262839  to Site_id not found: skipping\n",
      "...mapping from 3000599536  to Site_id not found: skipping\n",
      "...mapping from 3000824714  to Site_id not found: skipping\n",
      "...mapping from 3994313832  to Site_id not found: skipping\n",
      "...mapping from 3003169293  to Site_id not found: skipping\n",
      "...mapping from 3902044458  to Site_id not found: skipping\n",
      "\n",
      "======\n",
      "Checking Pre-saved Hierarchy for BPID:  2000578695 \n",
      "======\n",
      "Related BPIDs found:  5 = ['2000578695', '3001139967', '3991330314', '3002011430', '3002114477']\n"
     ]
    },
    {
     "data": {
      "application/vnd.jupyter.widget-view+json": {
       "model_id": "a3b5c12304b24da3bbbdddbc3e972c92",
       "version_major": 2,
       "version_minor": 0
      },
      "text/plain": [
       "HBox(children=(FloatProgress(value=0.0, max=5.0), HTML(value='')))"
      ]
     },
     "metadata": {},
     "output_type": "display_data"
    },
    {
     "name": "stdout",
     "output_type": "stream",
     "text": [
      "===\n",
      "Extracting Nature Usage for 2000578695  -- top level= 2000578695 Site_id= 19021\n",
      "..saving.. /Volumes/Albano/2020-08-06-holding-analysis-extraction/2000578695/2000578695_usage_nature.csv\n",
      "...mapping from 3001139967  to Site_id not found: skipping\n",
      "...mapping from 3991330314  to Site_id not found: skipping\n",
      "...mapping from 3002011430  to Site_id not found: skipping\n",
      "...mapping from 3002114477  to Site_id not found: skipping\n",
      "\n",
      "======\n",
      "Checking Pre-saved Hierarchy for BPID:  2000262282 \n",
      "======\n",
      "Related BPIDs found:  6 = ['2000262282', '3000130459', '3000251517', '3001139967', '3002011430', '3002114477']\n"
     ]
    },
    {
     "data": {
      "application/vnd.jupyter.widget-view+json": {
       "model_id": "4b64b789f6344a7d852181d0359b035a",
       "version_major": 2,
       "version_minor": 0
      },
      "text/plain": [
       "HBox(children=(FloatProgress(value=0.0, max=6.0), HTML(value='')))"
      ]
     },
     "metadata": {},
     "output_type": "display_data"
    },
    {
     "name": "stdout",
     "output_type": "stream",
     "text": [
      "===\n",
      "Extracting Nature Usage for 2000262282  -- top level= 2000262282 Site_id= 503\n",
      "..saving.. /Volumes/Albano/2020-08-06-holding-analysis-extraction/2000262282/2000262282_usage_nature.csv\n",
      "...mapping from 3000130459  to Site_id not found: skipping\n",
      "...mapping from 3000251517  to Site_id not found: skipping\n",
      "...mapping from 3001139967  to Site_id not found: skipping\n",
      "...mapping from 3002011430  to Site_id not found: skipping\n",
      "...mapping from 3002114477  to Site_id not found: skipping\n",
      "\n",
      "======\n",
      "Checking Pre-saved Hierarchy for BPID:  3000146572 \n",
      "======\n",
      "Related BPIDs found:  2 = ['3000146572', '3000675571']\n"
     ]
    },
    {
     "data": {
      "application/vnd.jupyter.widget-view+json": {
       "model_id": "cd52e523d8494a118dd5719e232c8b0b",
       "version_major": 2,
       "version_minor": 0
      },
      "text/plain": [
       "HBox(children=(FloatProgress(value=0.0, max=2.0), HTML(value='')))"
      ]
     },
     "metadata": {},
     "output_type": "display_data"
    },
    {
     "name": "stdout",
     "output_type": "stream",
     "text": [
      "===\n",
      "Extracting Nature Usage for 3000146572  -- top level= 3000146572 Site_id= 1845\n",
      "..saving.. /Volumes/Albano/2020-08-06-holding-analysis-extraction/3000146572/3000146572_usage_nature.csv\n",
      "...mapping from 3000675571  to Site_id not found: skipping\n",
      "\n",
      "======\n",
      "Checking Pre-saved Hierarchy for BPID:  3000136338 \n",
      "======\n",
      "Related BPIDs found:  8 = ['3000136338', '3000137278', '3000137282', '3000262825', '3000262839', '3000205744', '3003169293', '3902044458']\n"
     ]
    },
    {
     "data": {
      "application/vnd.jupyter.widget-view+json": {
       "model_id": "be8ffce1ea2549cfa0f053482907f089",
       "version_major": 2,
       "version_minor": 0
      },
      "text/plain": [
       "HBox(children=(FloatProgress(value=0.0, max=8.0), HTML(value='')))"
      ]
     },
     "metadata": {},
     "output_type": "display_data"
    },
    {
     "name": "stdout",
     "output_type": "stream",
     "text": [
      "===\n",
      "Extracting Nature Usage for 3000136338  -- top level= 3000136338 Site_id= 11783\n",
      "..saving.. /Volumes/Albano/2020-08-06-holding-analysis-extraction/3000136338/3000136338_usage_nature.csv\n",
      "...mapping from 3000137278  to Site_id not found: skipping\n",
      "...mapping from 3000137282  to Site_id not found: skipping\n",
      "...mapping from 3000262825  to Site_id not found: skipping\n",
      "...mapping from 3000262839  to Site_id not found: skipping\n",
      "...mapping from 3000205744  to Site_id not found: skipping\n",
      "...mapping from 3003169293  to Site_id not found: skipping\n",
      "...mapping from 3902044458  to Site_id not found: skipping\n",
      "\n",
      "======\n",
      "Checking Pre-saved Hierarchy for BPID:  3000070293 \n",
      "======\n",
      "Related BPIDs found:  4 = ['3000070293', '3001139967', '3002011430', '3002114477']\n"
     ]
    },
    {
     "data": {
      "application/vnd.jupyter.widget-view+json": {
       "model_id": "5a7485d2686e4cc5916ec49bff026d3a",
       "version_major": 2,
       "version_minor": 0
      },
      "text/plain": [
       "HBox(children=(FloatProgress(value=0.0, max=4.0), HTML(value='')))"
      ]
     },
     "metadata": {},
     "output_type": "display_data"
    },
    {
     "name": "stdout",
     "output_type": "stream",
     "text": [
      "===\n",
      "Extracting Nature Usage for 3000070293  -- top level= 3000070293 Site_id= 2383\n",
      "..saving.. /Volumes/Albano/2020-08-06-holding-analysis-extraction/3000070293/3000070293_usage_nature.csv\n",
      "...mapping from 3001139967  to Site_id not found: skipping\n",
      "...mapping from 3002011430  to Site_id not found: skipping\n",
      "...mapping from 3002114477  to Site_id not found: skipping\n",
      "\n",
      "======\n",
      "Checking Pre-saved Hierarchy for BPID:  8200831638 \n",
      "======\n",
      "Related BPIDs found:  3 = ['8200831638', '3000176756', '8200828607']\n"
     ]
    },
    {
     "data": {
      "application/vnd.jupyter.widget-view+json": {
       "model_id": "4de1c07f5606441ca96db26e2385e167",
       "version_major": 2,
       "version_minor": 0
      },
      "text/plain": [
       "HBox(children=(FloatProgress(value=0.0, max=3.0), HTML(value='')))"
      ]
     },
     "metadata": {},
     "output_type": "display_data"
    },
    {
     "name": "stdout",
     "output_type": "stream",
     "text": [
      "===\n",
      "Extracting Nature Usage for 8200831638  -- top level= 8200831638 Site_id= 2587\n",
      "..saving.. /Volumes/Albano/2020-08-06-holding-analysis-extraction/8200831638/8200831638_usage_nature.csv\n",
      "...mapping from 3000176756  to Site_id not found: skipping\n",
      "...mapping from 8200828607  to Site_id not found: skipping\n",
      "\n",
      "======\n",
      "Checking Pre-saved Hierarchy for BPID:  3000167069 \n",
      "======\n",
      "Related BPIDs found:  2 = ['3000167069', '8200828607']\n"
     ]
    },
    {
     "data": {
      "application/vnd.jupyter.widget-view+json": {
       "model_id": "0938107583f345189e4739ae403059ca",
       "version_major": 2,
       "version_minor": 0
      },
      "text/plain": [
       "HBox(children=(FloatProgress(value=0.0, max=2.0), HTML(value='')))"
      ]
     },
     "metadata": {},
     "output_type": "display_data"
    },
    {
     "name": "stdout",
     "output_type": "stream",
     "text": [
      "===\n",
      "Extracting Nature Usage for 3000167069  -- top level= 3000167069 Site_id= 2897\n",
      "..saving.. /Volumes/Albano/2020-08-06-holding-analysis-extraction/3000167069/3000167069_usage_nature.csv\n",
      "...mapping from 8200828607  to Site_id not found: skipping\n",
      "\n",
      "======\n",
      "Checking Pre-saved Hierarchy for BPID:  8200692383 \n",
      "======\n",
      "Related BPIDs found:  3 = ['8200692383', '3000176756', '8200828607']\n"
     ]
    },
    {
     "data": {
      "application/vnd.jupyter.widget-view+json": {
       "model_id": "a59486baf7304958918d802a78fc2a10",
       "version_major": 2,
       "version_minor": 0
      },
      "text/plain": [
       "HBox(children=(FloatProgress(value=0.0, max=3.0), HTML(value='')))"
      ]
     },
     "metadata": {},
     "output_type": "display_data"
    },
    {
     "name": "stdout",
     "output_type": "stream",
     "text": [
      "===\n",
      "Extracting Nature Usage for 8200692383  -- top level= 8200692383 Site_id= 416\n",
      "..saving.. /Volumes/Albano/2020-08-06-holding-analysis-extraction/8200692383/8200692383_usage_nature.csv\n",
      "...mapping from 3000176756  to Site_id not found: skipping\n",
      "...mapping from 8200828607  to Site_id not found: skipping\n",
      "\n",
      "======\n",
      "Checking Pre-saved Hierarchy for BPID:  3000162976 \n",
      "======\n",
      "Related BPIDs found:  1 = ['3000162976']\n"
     ]
    },
    {
     "data": {
      "application/vnd.jupyter.widget-view+json": {
       "model_id": "ff1010c8b08f4e5a8c3559a476d5ef43",
       "version_major": 2,
       "version_minor": 0
      },
      "text/plain": [
       "HBox(children=(FloatProgress(value=0.0, max=1.0), HTML(value='')))"
      ]
     },
     "metadata": {},
     "output_type": "display_data"
    },
    {
     "name": "stdout",
     "output_type": "stream",
     "text": [
      "...mapping from 3000162976  to Site_id not found: skipping\n",
      "\n",
      "======\n",
      "Checking Pre-saved Hierarchy for BPID:  3003343017 \n",
      "======\n",
      "++++ ERROR ++++\n",
      "Errors index = [3003695120, 30036927080, 3003343017]\n"
     ]
    },
    {
     "data": {
      "application/vnd.jupyter.widget-view+json": {
       "model_id": "db99851c263049218b347cb8faab21f0",
       "version_major": 2,
       "version_minor": 0
      },
      "text/plain": [
       "HBox(children=(FloatProgress(value=1.0, bar_style='info', max=1.0), HTML(value='')))"
      ]
     },
     "metadata": {},
     "output_type": "display_data"
    },
    {
     "name": "stdout",
     "output_type": "stream",
     "text": [
      "\n",
      "======\n",
      "Checking Pre-saved Hierarchy for BPID:  8200470187 \n",
      "======\n",
      "Related BPIDs found:  1 = ['8200470187']\n"
     ]
    },
    {
     "data": {
      "application/vnd.jupyter.widget-view+json": {
       "model_id": "67343f62677044b4998cc9c0b8a38524",
       "version_major": 2,
       "version_minor": 0
      },
      "text/plain": [
       "HBox(children=(FloatProgress(value=0.0, max=1.0), HTML(value='')))"
      ]
     },
     "metadata": {},
     "output_type": "display_data"
    },
    {
     "name": "stdout",
     "output_type": "stream",
     "text": [
      "===\n",
      "Extracting Nature Usage for 8200470187  -- top level= 8200470187 Site_id= 521\n",
      "..saving.. /Volumes/Albano/2020-08-06-holding-analysis-extraction/8200470187/8200470187_usage_nature.csv\n",
      "\n",
      "======\n",
      "Checking Pre-saved Hierarchy for BPID:  3002859181 \n",
      "======\n",
      "Related BPIDs found:  1 = ['3002859181']\n"
     ]
    },
    {
     "data": {
      "application/vnd.jupyter.widget-view+json": {
       "model_id": "7c34451c6de640b5afc045f681417f01",
       "version_major": 2,
       "version_minor": 0
      },
      "text/plain": [
       "HBox(children=(FloatProgress(value=0.0, max=1.0), HTML(value='')))"
      ]
     },
     "metadata": {},
     "output_type": "display_data"
    },
    {
     "name": "stdout",
     "output_type": "stream",
     "text": [
      "===\n",
      "Extracting Nature Usage for 3002859181  -- top level= 3002859181 Site_id= 21410\n",
      "..saving.. /Volumes/Albano/2020-08-06-holding-analysis-extraction/3002859181/3002859181_usage_nature.csv\n",
      "\n",
      "======\n",
      "Checking Pre-saved Hierarchy for BPID:  2000425646 \n",
      "======\n",
      "Related BPIDs found:  2 = ['2000425646', '3000675571']\n"
     ]
    },
    {
     "data": {
      "application/vnd.jupyter.widget-view+json": {
       "model_id": "0a972b64c2144f509a22325acca8a95c",
       "version_major": 2,
       "version_minor": 0
      },
      "text/plain": [
       "HBox(children=(FloatProgress(value=0.0, max=2.0), HTML(value='')))"
      ]
     },
     "metadata": {},
     "output_type": "display_data"
    },
    {
     "name": "stdout",
     "output_type": "stream",
     "text": [
      "===\n",
      "Extracting Nature Usage for 2000425646  -- top level= 2000425646 Site_id= 4576\n",
      "..saving.. /Volumes/Albano/2020-08-06-holding-analysis-extraction/2000425646/2000425646_usage_nature.csv\n",
      "...mapping from 3000675571  to Site_id not found: skipping\n",
      "\n",
      "======\n",
      "Checking Pre-saved Hierarchy for BPID:  2000699054 \n",
      "======\n",
      "Related BPIDs found:  3 = ['2000699054', '3003532199', '3000155420']\n"
     ]
    },
    {
     "data": {
      "application/vnd.jupyter.widget-view+json": {
       "model_id": "853fb2d37fe54e2a9ce8cd4c6abe5cac",
       "version_major": 2,
       "version_minor": 0
      },
      "text/plain": [
       "HBox(children=(FloatProgress(value=0.0, max=3.0), HTML(value='')))"
      ]
     },
     "metadata": {},
     "output_type": "display_data"
    },
    {
     "name": "stdout",
     "output_type": "stream",
     "text": [
      "===\n",
      "Extracting Nature Usage for 2000699054  -- top level= 2000699054 Site_id= 4813\n",
      "..saving.. /Volumes/Albano/2020-08-06-holding-analysis-extraction/2000699054/2000699054_usage_nature.csv\n",
      "...mapping from 3003532199  to Site_id not found: skipping\n",
      "...mapping from 3000155420  to Site_id not found: skipping\n",
      "\n",
      "======\n",
      "Checking Pre-saved Hierarchy for BPID:  2000277680 \n",
      "======\n",
      "Related BPIDs found:  8 = ['2000277680', '3000160641', '3000507429', '3991438065', '3001358220', '3002205109', '3002600051', '3002642964']\n"
     ]
    },
    {
     "data": {
      "application/vnd.jupyter.widget-view+json": {
       "model_id": "341ea7d9e4524075bc69d1612732a6ed",
       "version_major": 2,
       "version_minor": 0
      },
      "text/plain": [
       "HBox(children=(FloatProgress(value=0.0, max=8.0), HTML(value='')))"
      ]
     },
     "metadata": {},
     "output_type": "display_data"
    },
    {
     "name": "stdout",
     "output_type": "stream",
     "text": [
      "===\n",
      "Extracting Nature Usage for 2000277680  -- top level= 2000277680 Site_id= 14945\n",
      "..saving.. /Volumes/Albano/2020-08-06-holding-analysis-extraction/2000277680/2000277680_usage_nature.csv\n",
      "...mapping from 3000160641  to Site_id not found: skipping\n",
      "...mapping from 3000507429  to Site_id not found: skipping\n",
      "...mapping from 3991438065  to Site_id not found: skipping\n",
      "...mapping from 3001358220  to Site_id not found: skipping\n",
      "...mapping from 3002205109  to Site_id not found: skipping\n",
      "...mapping from 3002600051  to Site_id not found: skipping\n",
      "...mapping from 3002642964  to Site_id not found: skipping\n",
      "\n",
      "======\n",
      "Checking Pre-saved Hierarchy for BPID:  8200930480 \n",
      "======\n",
      "Related BPIDs found:  2 = ['8200930480', '8200828607']\n"
     ]
    },
    {
     "data": {
      "application/vnd.jupyter.widget-view+json": {
       "model_id": "3be89a1775a147e29c8febed9ae7d857",
       "version_major": 2,
       "version_minor": 0
      },
      "text/plain": [
       "HBox(children=(FloatProgress(value=0.0, max=2.0), HTML(value='')))"
      ]
     },
     "metadata": {},
     "output_type": "display_data"
    },
    {
     "name": "stdout",
     "output_type": "stream",
     "text": [
      "===\n",
      "Extracting Nature Usage for 8200930480  -- top level= 8200930480 Site_id= 1282\n",
      "..saving.. /Volumes/Albano/2020-08-06-holding-analysis-extraction/8200930480/8200930480_usage_nature.csv\n",
      "...mapping from 8200828607  to Site_id not found: skipping\n",
      "\n",
      "======\n",
      "Checking Pre-saved Hierarchy for BPID:  8200706739 \n",
      "======\n",
      "Related BPIDs found:  2 = ['8200706739', '8200828607']\n"
     ]
    },
    {
     "data": {
      "application/vnd.jupyter.widget-view+json": {
       "model_id": "032c1bc6e66e442e8b81d45aaf32e1ee",
       "version_major": 2,
       "version_minor": 0
      },
      "text/plain": [
       "HBox(children=(FloatProgress(value=0.0, max=2.0), HTML(value='')))"
      ]
     },
     "metadata": {},
     "output_type": "display_data"
    },
    {
     "name": "stdout",
     "output_type": "stream",
     "text": [
      "===\n",
      "Extracting Nature Usage for 8200706739  -- top level= 8200706739 Site_id= 14012\n",
      "..saving.. /Volumes/Albano/2020-08-06-holding-analysis-extraction/8200706739/8200706739_usage_nature.csv\n",
      "...mapping from 8200828607  to Site_id not found: skipping\n",
      "\n",
      "======\n",
      "Checking Pre-saved Hierarchy for BPID:  8200406196 \n",
      "======\n",
      "Related BPIDs found:  4 = ['8200406196', '3000176734', '8200828607', '3902328142']\n"
     ]
    },
    {
     "data": {
      "application/vnd.jupyter.widget-view+json": {
       "model_id": "ae38be3069cd401f9984a1ece17052fa",
       "version_major": 2,
       "version_minor": 0
      },
      "text/plain": [
       "HBox(children=(FloatProgress(value=0.0, max=4.0), HTML(value='')))"
      ]
     },
     "metadata": {},
     "output_type": "display_data"
    },
    {
     "name": "stdout",
     "output_type": "stream",
     "text": [
      "===\n",
      "Extracting Nature Usage for 8200406196  -- top level= 8200406196 Site_id= 4662\n",
      "..saving.. /Volumes/Albano/2020-08-06-holding-analysis-extraction/8200406196/8200406196_usage_nature.csv\n",
      "...mapping from 3000176734  to Site_id not found: skipping\n",
      "...mapping from 8200828607  to Site_id not found: skipping\n",
      "...mapping from 3902328142  to Site_id not found: skipping\n",
      "\n",
      "======\n",
      "Checking Pre-saved Hierarchy for BPID:  8201000118 \n",
      "======\n",
      "Related BPIDs found:  3 = ['8201000118', '3000144849', '3000161202']\n"
     ]
    },
    {
     "data": {
      "application/vnd.jupyter.widget-view+json": {
       "model_id": "39a28715cc844918b2bf880201e2859d",
       "version_major": 2,
       "version_minor": 0
      },
      "text/plain": [
       "HBox(children=(FloatProgress(value=0.0, max=3.0), HTML(value='')))"
      ]
     },
     "metadata": {},
     "output_type": "display_data"
    },
    {
     "name": "stdout",
     "output_type": "stream",
     "text": [
      "===\n",
      "Extracting Nature Usage for 8201000118  -- top level= 8201000118 Site_id= 2551\n",
      "..saving.. /Volumes/Albano/2020-08-06-holding-analysis-extraction/8201000118/8201000118_usage_nature.csv\n",
      "...mapping from 3000144849  to Site_id not found: skipping\n",
      "...mapping from 3000161202  to Site_id not found: skipping\n",
      "\n",
      "======\n",
      "Checking Pre-saved Hierarchy for BPID:  8200924855 \n",
      "======\n",
      "Related BPIDs found:  2 = ['8200924855', '8200828607']\n"
     ]
    },
    {
     "data": {
      "application/vnd.jupyter.widget-view+json": {
       "model_id": "5bccd40823c94faeb0fd51b903230548",
       "version_major": 2,
       "version_minor": 0
      },
      "text/plain": [
       "HBox(children=(FloatProgress(value=0.0, max=2.0), HTML(value='')))"
      ]
     },
     "metadata": {},
     "output_type": "display_data"
    },
    {
     "name": "stdout",
     "output_type": "stream",
     "text": [
      "===\n",
      "Extracting Nature Usage for 8200924855  -- top level= 8200924855 Site_id= 692\n",
      "..saving.. /Volumes/Albano/2020-08-06-holding-analysis-extraction/8200924855/8200924855_usage_nature.csv\n",
      "...mapping from 8200828607  to Site_id not found: skipping\n",
      "\n",
      "======\n",
      "Checking Pre-saved Hierarchy for BPID:  2000374973 \n",
      "======\n",
      "Related BPIDs found:  11 = ['2000374973', '3000137278', '3000137282', '3000192397', '3000262825', '3000262839', '3000599536', '3000824714', '3994313832', '3003169293', '3902044458']\n"
     ]
    },
    {
     "data": {
      "application/vnd.jupyter.widget-view+json": {
       "model_id": "914d0301d5024fdf9147e2875323f16b",
       "version_major": 2,
       "version_minor": 0
      },
      "text/plain": [
       "HBox(children=(FloatProgress(value=0.0, max=11.0), HTML(value='')))"
      ]
     },
     "metadata": {},
     "output_type": "display_data"
    },
    {
     "name": "stdout",
     "output_type": "stream",
     "text": [
      "===\n",
      "Extracting Nature Usage for 2000374973  -- top level= 2000374973 Site_id= 8129\n",
      "..saving.. /Volumes/Albano/2020-08-06-holding-analysis-extraction/2000374973/2000374973_usage_nature.csv\n",
      "...mapping from 3000137278  to Site_id not found: skipping\n",
      "...mapping from 3000137282  to Site_id not found: skipping\n",
      "...mapping from 3000192397  to Site_id not found: skipping\n",
      "...mapping from 3000262825  to Site_id not found: skipping\n",
      "...mapping from 3000262839  to Site_id not found: skipping\n",
      "...mapping from 3000599536  to Site_id not found: skipping\n",
      "...mapping from 3000824714  to Site_id not found: skipping\n",
      "...mapping from 3994313832  to Site_id not found: skipping\n",
      "...mapping from 3003169293  to Site_id not found: skipping\n",
      "...mapping from 3902044458  to Site_id not found: skipping\n",
      "\n",
      "======\n",
      "Checking Pre-saved Hierarchy for BPID:  3000101569 \n",
      "======\n",
      "Related BPIDs found:  1 = ['3000101569']\n"
     ]
    },
    {
     "data": {
      "application/vnd.jupyter.widget-view+json": {
       "model_id": "d34abac7e9324381b7cbbd7907084a3e",
       "version_major": 2,
       "version_minor": 0
      },
      "text/plain": [
       "HBox(children=(FloatProgress(value=0.0, max=1.0), HTML(value='')))"
      ]
     },
     "metadata": {},
     "output_type": "display_data"
    },
    {
     "name": "stdout",
     "output_type": "stream",
     "text": [
      "...mapping from 3000101569  to Site_id not found: skipping\n",
      "\n",
      "======\n",
      "Checking Pre-saved Hierarchy for BPID:  8200763073 \n",
      "======\n",
      "Related BPIDs found:  2 = ['8200763073', '8200828607']\n"
     ]
    },
    {
     "data": {
      "application/vnd.jupyter.widget-view+json": {
       "model_id": "a541e8cd47a848f8b927a796d3cbe68f",
       "version_major": 2,
       "version_minor": 0
      },
      "text/plain": [
       "HBox(children=(FloatProgress(value=0.0, max=2.0), HTML(value='')))"
      ]
     },
     "metadata": {},
     "output_type": "display_data"
    },
    {
     "name": "stdout",
     "output_type": "stream",
     "text": [
      "===\n",
      "Extracting Nature Usage for 8200763073  -- top level= 8200763073 Site_id= 2438\n",
      "..saving.. /Volumes/Albano/2020-08-06-holding-analysis-extraction/8200763073/8200763073_usage_nature.csv\n",
      "...mapping from 8200828607  to Site_id not found: skipping\n",
      "\n",
      "======\n",
      "Checking Pre-saved Hierarchy for BPID:  2000051397 \n",
      "======\n",
      "Related BPIDs found:  7 = ['2000051397', '3000130459', '3000251517', '3001139967', '3991330314', '3002011430', '3002114477']\n"
     ]
    },
    {
     "data": {
      "application/vnd.jupyter.widget-view+json": {
       "model_id": "632d508470494be5a855611540749fcc",
       "version_major": 2,
       "version_minor": 0
      },
      "text/plain": [
       "HBox(children=(FloatProgress(value=0.0, max=7.0), HTML(value='')))"
      ]
     },
     "metadata": {},
     "output_type": "display_data"
    },
    {
     "name": "stdout",
     "output_type": "stream",
     "text": [
      "===\n",
      "Extracting Nature Usage for 2000051397  -- top level= 2000051397 Site_id= 1382\n",
      "..saving.. /Volumes/Albano/2020-08-06-holding-analysis-extraction/2000051397/2000051397_usage_nature.csv\n",
      "...mapping from 3000130459  to Site_id not found: skipping\n",
      "...mapping from 3000251517  to Site_id not found: skipping\n",
      "...mapping from 3001139967  to Site_id not found: skipping\n",
      "...mapping from 3991330314  to Site_id not found: skipping\n",
      "...mapping from 3002011430  to Site_id not found: skipping\n",
      "...mapping from 3002114477  to Site_id not found: skipping\n",
      "\n",
      "======\n",
      "Checking Pre-saved Hierarchy for BPID:  2000376520 \n",
      "======\n",
      "Related BPIDs found:  1 = ['2000376520']\n"
     ]
    },
    {
     "data": {
      "application/vnd.jupyter.widget-view+json": {
       "model_id": "5aa64babcaa84f50a2d644dc21456040",
       "version_major": 2,
       "version_minor": 0
      },
      "text/plain": [
       "HBox(children=(FloatProgress(value=0.0, max=1.0), HTML(value='')))"
      ]
     },
     "metadata": {},
     "output_type": "display_data"
    },
    {
     "name": "stdout",
     "output_type": "stream",
     "text": [
      "...mapping from 2000376520  to Site_id not found: skipping\n",
      "\n",
      "======\n",
      "Checking Pre-saved Hierarchy for BPID:  3000163017 \n",
      "======\n",
      "Related BPIDs found:  3 = ['3000163017', '3000141917', '8200828607']\n"
     ]
    },
    {
     "data": {
      "application/vnd.jupyter.widget-view+json": {
       "model_id": "82172c7a3bc14319ad1cbdeae9499625",
       "version_major": 2,
       "version_minor": 0
      },
      "text/plain": [
       "HBox(children=(FloatProgress(value=0.0, max=3.0), HTML(value='')))"
      ]
     },
     "metadata": {},
     "output_type": "display_data"
    },
    {
     "name": "stdout",
     "output_type": "stream",
     "text": [
      "===\n",
      "Extracting Nature Usage for 3000163017  -- top level= 3000163017 Site_id= 3835\n",
      "..saving.. /Volumes/Albano/2020-08-06-holding-analysis-extraction/3000163017/3000163017_usage_nature.csv\n",
      "...mapping from 3000141917  to Site_id not found: skipping\n",
      "...mapping from 8200828607  to Site_id not found: skipping\n",
      "\n",
      "======\n",
      "Checking Pre-saved Hierarchy for BPID:  3001125066 \n",
      "======\n",
      "Related BPIDs found:  1 = ['3001125066']\n"
     ]
    },
    {
     "data": {
      "application/vnd.jupyter.widget-view+json": {
       "model_id": "99e1ca53b17347a1b2e4ff8c32658d2d",
       "version_major": 2,
       "version_minor": 0
      },
      "text/plain": [
       "HBox(children=(FloatProgress(value=0.0, max=1.0), HTML(value='')))"
      ]
     },
     "metadata": {},
     "output_type": "display_data"
    },
    {
     "name": "stdout",
     "output_type": "stream",
     "text": [
      "===\n",
      "Extracting Nature Usage for 3001125066  -- top level= 3001125066 Site_id= 4598\n",
      "..saving.. /Volumes/Albano/2020-08-06-holding-analysis-extraction/3001125066/3001125066_usage_nature.csv\n",
      "\n",
      "======\n",
      "Checking Pre-saved Hierarchy for BPID:  3000145097 \n",
      "======\n",
      "Related BPIDs found:  2 = ['3000145097', '8200828607']\n"
     ]
    },
    {
     "data": {
      "application/vnd.jupyter.widget-view+json": {
       "model_id": "75b7f18a959a412ba141b0bcf4a3a018",
       "version_major": 2,
       "version_minor": 0
      },
      "text/plain": [
       "HBox(children=(FloatProgress(value=0.0, max=2.0), HTML(value='')))"
      ]
     },
     "metadata": {},
     "output_type": "display_data"
    },
    {
     "name": "stdout",
     "output_type": "stream",
     "text": [
      "===\n",
      "Extracting Nature Usage for 3000145097  -- top level= 3000145097 Site_id= 1507\n",
      "..saving.. /Volumes/Albano/2020-08-06-holding-analysis-extraction/3000145097/3000145097_usage_nature.csv\n",
      "...mapping from 8200828607  to Site_id not found: skipping\n",
      "\n",
      "======\n",
      "Checking Pre-saved Hierarchy for BPID:  2000329424 \n",
      "======\n",
      "Related BPIDs found:  5 = ['2000329424', '3001139967', '3991330314', '3002011430', '3002114477']\n"
     ]
    },
    {
     "data": {
      "application/vnd.jupyter.widget-view+json": {
       "model_id": "43f4951f528540e1b4c4ddf2f4b267a1",
       "version_major": 2,
       "version_minor": 0
      },
      "text/plain": [
       "HBox(children=(FloatProgress(value=0.0, max=5.0), HTML(value='')))"
      ]
     },
     "metadata": {},
     "output_type": "display_data"
    },
    {
     "name": "stdout",
     "output_type": "stream",
     "text": [
      "===\n",
      "Extracting Nature Usage for 2000329424  -- top level= 2000329424 Site_id= 6862\n",
      "..saving.. /Volumes/Albano/2020-08-06-holding-analysis-extraction/2000329424/2000329424_usage_nature.csv\n",
      "...mapping from 3001139967  to Site_id not found: skipping\n",
      "...mapping from 3991330314  to Site_id not found: skipping\n",
      "...mapping from 3002011430  to Site_id not found: skipping\n",
      "...mapping from 3002114477  to Site_id not found: skipping\n",
      "\n",
      "======\n",
      "Checking Pre-saved Hierarchy for BPID:  2000341714 \n",
      "======\n",
      "++++ ERROR ++++\n",
      "Errors index = [3003695120, 30036927080, 3003343017, 2000341714]\n"
     ]
    },
    {
     "data": {
      "application/vnd.jupyter.widget-view+json": {
       "model_id": "f744a579fbd44c43806bc481ff960dd6",
       "version_major": 2,
       "version_minor": 0
      },
      "text/plain": [
       "HBox(children=(FloatProgress(value=1.0, bar_style='info', max=1.0), HTML(value='')))"
      ]
     },
     "metadata": {},
     "output_type": "display_data"
    },
    {
     "name": "stdout",
     "output_type": "stream",
     "text": [
      "\n",
      "======\n",
      "Checking Pre-saved Hierarchy for BPID:  3000118482 \n",
      "======\n",
      "Related BPIDs found:  2 = ['3000118482', '8200828607']\n"
     ]
    },
    {
     "data": {
      "application/vnd.jupyter.widget-view+json": {
       "model_id": "f1e5e7be18874028b391a61decfd33e1",
       "version_major": 2,
       "version_minor": 0
      },
      "text/plain": [
       "HBox(children=(FloatProgress(value=0.0, max=2.0), HTML(value='')))"
      ]
     },
     "metadata": {},
     "output_type": "display_data"
    },
    {
     "name": "stdout",
     "output_type": "stream",
     "text": [
      "===\n",
      "Extracting Nature Usage for 3000118482  -- top level= 3000118482 Site_id= 9153\n",
      "..saving.. /Volumes/Albano/2020-08-06-holding-analysis-extraction/3000118482/3000118482_usage_nature.csv\n",
      "...mapping from 8200828607  to Site_id not found: skipping\n",
      "\n",
      "======\n",
      "Checking Pre-saved Hierarchy for BPID:  3001704148 \n",
      "======\n",
      "Related BPIDs found:  1 = ['3001704148']\n"
     ]
    },
    {
     "data": {
      "application/vnd.jupyter.widget-view+json": {
       "model_id": "b4cdca0015d6464ca0ce54b84b25dcc9",
       "version_major": 2,
       "version_minor": 0
      },
      "text/plain": [
       "HBox(children=(FloatProgress(value=0.0, max=1.0), HTML(value='')))"
      ]
     },
     "metadata": {},
     "output_type": "display_data"
    },
    {
     "name": "stdout",
     "output_type": "stream",
     "text": [
      "===\n",
      "Extracting Nature Usage for 3001704148  -- top level= 3001704148 Site_id= 22404\n",
      "..saving.. /Volumes/Albano/2020-08-06-holding-analysis-extraction/3001704148/3001704148_usage_nature.csv\n",
      "\n",
      "======\n",
      "Checking Pre-saved Hierarchy for BPID:  3000146645 \n",
      "======\n",
      "Related BPIDs found:  2 = ['3000146645', '3000675571']\n"
     ]
    },
    {
     "data": {
      "application/vnd.jupyter.widget-view+json": {
       "model_id": "495567307cf74d46b161caee3d2298df",
       "version_major": 2,
       "version_minor": 0
      },
      "text/plain": [
       "HBox(children=(FloatProgress(value=0.0, max=2.0), HTML(value='')))"
      ]
     },
     "metadata": {},
     "output_type": "display_data"
    },
    {
     "name": "stdout",
     "output_type": "stream",
     "text": [
      "===\n",
      "Extracting Nature Usage for 3000146645  -- top level= 3000146645 Site_id= 1837\n",
      "..saving.. /Volumes/Albano/2020-08-06-holding-analysis-extraction/3000146645/3000146645_usage_nature.csv\n",
      "...mapping from 3000675571  to Site_id not found: skipping\n",
      "\n",
      "======\n",
      "Checking Pre-saved Hierarchy for BPID:  3000145110 \n",
      "======\n",
      "Related BPIDs found:  3 = ['3000145110', '3000155420', '3003532199']\n"
     ]
    },
    {
     "data": {
      "application/vnd.jupyter.widget-view+json": {
       "model_id": "f25468308ea84dc6bb579acc30153b3b",
       "version_major": 2,
       "version_minor": 0
      },
      "text/plain": [
       "HBox(children=(FloatProgress(value=0.0, max=3.0), HTML(value='')))"
      ]
     },
     "metadata": {},
     "output_type": "display_data"
    },
    {
     "name": "stdout",
     "output_type": "stream",
     "text": [
      "===\n",
      "Extracting Nature Usage for 3000145110  -- top level= 3000145110 Site_id= 9933\n",
      "..saving.. /Volumes/Albano/2020-08-06-holding-analysis-extraction/3000145110/3000145110_usage_nature.csv\n",
      "...mapping from 3000155420  to Site_id not found: skipping\n",
      "...mapping from 3003532199  to Site_id not found: skipping\n",
      "\n",
      "======\n",
      "Checking Pre-saved Hierarchy for BPID:  2000051414 \n",
      "======\n",
      "Related BPIDs found:  6 = ['2000051414', '3000122820', '3991330314', '3001139967', '3002011430', '3002114477']\n"
     ]
    },
    {
     "data": {
      "application/vnd.jupyter.widget-view+json": {
       "model_id": "3ad7ca0fcc6a4aa2846407dce40c1413",
       "version_major": 2,
       "version_minor": 0
      },
      "text/plain": [
       "HBox(children=(FloatProgress(value=0.0, max=6.0), HTML(value='')))"
      ]
     },
     "metadata": {},
     "output_type": "display_data"
    },
    {
     "name": "stdout",
     "output_type": "stream",
     "text": [
      "===\n",
      "Extracting Nature Usage for 2000051414  -- top level= 2000051414 Site_id= 2664\n",
      "..saving.. /Volumes/Albano/2020-08-06-holding-analysis-extraction/2000051414/2000051414_usage_nature.csv\n",
      "...mapping from 3000122820  to Site_id not found: skipping\n",
      "...mapping from 3991330314  to Site_id not found: skipping\n",
      "...mapping from 3001139967  to Site_id not found: skipping\n",
      "...mapping from 3002011430  to Site_id not found: skipping\n",
      "...mapping from 3002114477  to Site_id not found: skipping\n",
      "\n",
      "======\n",
      "Checking Pre-saved Hierarchy for BPID:  8201037522 \n",
      "======\n",
      "Related BPIDs found:  2 = ['8201037522', '8200828607']\n"
     ]
    },
    {
     "data": {
      "application/vnd.jupyter.widget-view+json": {
       "model_id": "fcedc5a05901456498065f52d7f904a9",
       "version_major": 2,
       "version_minor": 0
      },
      "text/plain": [
       "HBox(children=(FloatProgress(value=0.0, max=2.0), HTML(value='')))"
      ]
     },
     "metadata": {},
     "output_type": "display_data"
    },
    {
     "name": "stdout",
     "output_type": "stream",
     "text": [
      "===\n",
      "Extracting Nature Usage for 8201037522  -- top level= 8201037522 Site_id= 10339\n",
      "..saving.. /Volumes/Albano/2020-08-06-holding-analysis-extraction/8201037522/8201037522_usage_nature.csv\n",
      "...mapping from 8200828607  to Site_id not found: skipping\n",
      "\n",
      "======\n",
      "Checking Pre-saved Hierarchy for BPID:  8200711893 \n",
      "======\n",
      "Related BPIDs found:  2 = ['8200711893', '8200828607']\n"
     ]
    },
    {
     "data": {
      "application/vnd.jupyter.widget-view+json": {
       "model_id": "6380e3a68a7e466ab0b46622fd4662fc",
       "version_major": 2,
       "version_minor": 0
      },
      "text/plain": [
       "HBox(children=(FloatProgress(value=0.0, max=2.0), HTML(value='')))"
      ]
     },
     "metadata": {},
     "output_type": "display_data"
    },
    {
     "name": "stdout",
     "output_type": "stream",
     "text": [
      "===\n",
      "Extracting Nature Usage for 8200711893  -- top level= 8200711893 Site_id= 1566\n",
      "..saving.. /Volumes/Albano/2020-08-06-holding-analysis-extraction/8200711893/8200711893_usage_nature.csv\n",
      "...mapping from 8200828607  to Site_id not found: skipping\n",
      "\n",
      "======\n",
      "Checking Pre-saved Hierarchy for BPID:  2000144603 \n",
      "======\n",
      "Related BPIDs found:  7 = ['2000144603', '3000130459', '3000251517', '3991330314', '3001139967', '3002011430', '3002114477']\n"
     ]
    },
    {
     "data": {
      "application/vnd.jupyter.widget-view+json": {
       "model_id": "c913e82cff724acfa42e6e8fb2763f70",
       "version_major": 2,
       "version_minor": 0
      },
      "text/plain": [
       "HBox(children=(FloatProgress(value=0.0, max=7.0), HTML(value='')))"
      ]
     },
     "metadata": {},
     "output_type": "display_data"
    },
    {
     "name": "stdout",
     "output_type": "stream",
     "text": [
      "===\n",
      "Extracting Nature Usage for 2000144603  -- top level= 2000144603 Site_id= 1599\n",
      "..saving.. /Volumes/Albano/2020-08-06-holding-analysis-extraction/2000144603/2000144603_usage_nature.csv\n",
      "...mapping from 3000130459  to Site_id not found: skipping\n",
      "...mapping from 3000251517  to Site_id not found: skipping\n",
      "...mapping from 3991330314  to Site_id not found: skipping\n",
      "...mapping from 3001139967  to Site_id not found: skipping\n",
      "...mapping from 3002011430  to Site_id not found: skipping\n",
      "...mapping from 3002114477  to Site_id not found: skipping\n",
      "\n",
      "======\n",
      "Checking Pre-saved Hierarchy for BPID:  8200706780 \n",
      "======\n",
      "Related BPIDs found:  2 = ['8200706780', '8200828607']\n"
     ]
    },
    {
     "data": {
      "application/vnd.jupyter.widget-view+json": {
       "model_id": "283bc09936e7491e9c3d63b5d2a17be7",
       "version_major": 2,
       "version_minor": 0
      },
      "text/plain": [
       "HBox(children=(FloatProgress(value=0.0, max=2.0), HTML(value='')))"
      ]
     },
     "metadata": {},
     "output_type": "display_data"
    },
    {
     "name": "stdout",
     "output_type": "stream",
     "text": [
      "===\n",
      "Extracting Nature Usage for 8200706780  -- top level= 8200706780 Site_id= 13623\n",
      "..saving.. /Volumes/Albano/2020-08-06-holding-analysis-extraction/8200706780/8200706780_usage_nature.csv\n",
      "...mapping from 8200828607  to Site_id not found: skipping\n",
      "\n",
      "======\n",
      "Checking Pre-saved Hierarchy for BPID:  2000422113 \n",
      "======\n",
      "Related BPIDs found:  1 = ['2000422113']\n"
     ]
    },
    {
     "data": {
      "application/vnd.jupyter.widget-view+json": {
       "model_id": "3e25658f9e2d4cd3912f2bafd013a2c4",
       "version_major": 2,
       "version_minor": 0
      },
      "text/plain": [
       "HBox(children=(FloatProgress(value=0.0, max=1.0), HTML(value='')))"
      ]
     },
     "metadata": {},
     "output_type": "display_data"
    },
    {
     "name": "stdout",
     "output_type": "stream",
     "text": [
      "===\n",
      "Extracting Nature Usage for 2000422113  -- top level= 2000422113 Site_id= 8483\n",
      "..saving.. /Volumes/Albano/2020-08-06-holding-analysis-extraction/2000422113/2000422113_usage_nature.csv\n",
      "\n",
      "======\n",
      "Checking Pre-saved Hierarchy for BPID:  3000142563 \n",
      "======\n",
      "Related BPIDs found:  4 = ['3000142563', '3991332406', '3002060351', '3000123642']\n"
     ]
    },
    {
     "data": {
      "application/vnd.jupyter.widget-view+json": {
       "model_id": "b61a4fc8456c429291a72aa48af89b1f",
       "version_major": 2,
       "version_minor": 0
      },
      "text/plain": [
       "HBox(children=(FloatProgress(value=0.0, max=4.0), HTML(value='')))"
      ]
     },
     "metadata": {},
     "output_type": "display_data"
    },
    {
     "name": "stdout",
     "output_type": "stream",
     "text": [
      "...mapping from 3000142563  to Site_id not found: skipping\n",
      "===\n",
      "Extracting Nature Usage for 3991332406  -- top level= 3000142563 Site_id= 2028\n",
      "..saving.. /Volumes/Albano/2020-08-06-holding-analysis-extraction/3000142563/3991332406_usage_nature.csv\n",
      "...mapping from 3002060351  to Site_id not found: skipping\n",
      "===\n",
      "Extracting Nature Usage for 3000123642  -- top level= 3000142563 Site_id= 13369\n",
      "..saving.. /Volumes/Albano/2020-08-06-holding-analysis-extraction/3000142563/3000123642_usage_nature.csv\n",
      "\n",
      "======\n",
      "Checking Pre-saved Hierarchy for BPID:  3000146148 \n",
      "======\n",
      "Related BPIDs found:  2 = ['3000146148', '3000675571']\n"
     ]
    },
    {
     "data": {
      "application/vnd.jupyter.widget-view+json": {
       "model_id": "4abb0cba0f7a4ecaa97f213a9ae8db29",
       "version_major": 2,
       "version_minor": 0
      },
      "text/plain": [
       "HBox(children=(FloatProgress(value=0.0, max=2.0), HTML(value='')))"
      ]
     },
     "metadata": {},
     "output_type": "display_data"
    },
    {
     "name": "stdout",
     "output_type": "stream",
     "text": [
      "===\n",
      "Extracting Nature Usage for 3000146148  -- top level= 3000146148 Site_id= 6879\n",
      "..saving.. /Volumes/Albano/2020-08-06-holding-analysis-extraction/3000146148/3000146148_usage_nature.csv\n",
      "...mapping from 3000675571  to Site_id not found: skipping\n",
      "\n",
      "======\n",
      "Checking Pre-saved Hierarchy for BPID:  2000332004 \n",
      "======\n",
      "Related BPIDs found:  7 = ['2000332004', '3000130459', '3000251517', '3991330314', '3001139967', '3002011430', '3002114477']\n"
     ]
    },
    {
     "data": {
      "application/vnd.jupyter.widget-view+json": {
       "model_id": "eb623a080cce4a8586c1b45741f24725",
       "version_major": 2,
       "version_minor": 0
      },
      "text/plain": [
       "HBox(children=(FloatProgress(value=0.0, max=7.0), HTML(value='')))"
      ]
     },
     "metadata": {},
     "output_type": "display_data"
    },
    {
     "name": "stdout",
     "output_type": "stream",
     "text": [
      "===\n",
      "Extracting Nature Usage for 2000332004  -- top level= 2000332004 Site_id= 7313\n",
      "..saving.. /Volumes/Albano/2020-08-06-holding-analysis-extraction/2000332004/2000332004_usage_nature.csv\n",
      "...mapping from 3000130459  to Site_id not found: skipping\n",
      "...mapping from 3000251517  to Site_id not found: skipping\n",
      "...mapping from 3991330314  to Site_id not found: skipping\n",
      "...mapping from 3001139967  to Site_id not found: skipping\n",
      "...mapping from 3002011430  to Site_id not found: skipping\n",
      "...mapping from 3002114477  to Site_id not found: skipping\n",
      "\n",
      "======\n",
      "Checking Pre-saved Hierarchy for BPID:  3000142567 \n",
      "======\n",
      "Related BPIDs found:  2 = ['3000142567', '8200828607']\n"
     ]
    },
    {
     "data": {
      "application/vnd.jupyter.widget-view+json": {
       "model_id": "96f36e162ca94bf5a7e1be60d3ad9c8a",
       "version_major": 2,
       "version_minor": 0
      },
      "text/plain": [
       "HBox(children=(FloatProgress(value=0.0, max=2.0), HTML(value='')))"
      ]
     },
     "metadata": {},
     "output_type": "display_data"
    },
    {
     "name": "stdout",
     "output_type": "stream",
     "text": [
      "===\n",
      "Extracting Nature Usage for 3000142567  -- top level= 3000142567 Site_id= 1558\n",
      "..saving.. /Volumes/Albano/2020-08-06-holding-analysis-extraction/3000142567/3000142567_usage_nature.csv\n",
      "...mapping from 8200828607  to Site_id not found: skipping\n",
      "\n",
      "======\n",
      "Checking Pre-saved Hierarchy for BPID:  2000051435 \n",
      "======\n",
      "Related BPIDs found:  7 = ['2000051435', '3000130459', '3000251517', '3991330314', '3001139967', '3002011430', '3002114477']\n"
     ]
    },
    {
     "data": {
      "application/vnd.jupyter.widget-view+json": {
       "model_id": "29c86456cf7745518f2142b9853b6f99",
       "version_major": 2,
       "version_minor": 0
      },
      "text/plain": [
       "HBox(children=(FloatProgress(value=0.0, max=7.0), HTML(value='')))"
      ]
     },
     "metadata": {},
     "output_type": "display_data"
    },
    {
     "name": "stdout",
     "output_type": "stream",
     "text": [
      "===\n",
      "Extracting Nature Usage for 2000051435  -- top level= 2000051435 Site_id= 10585\n",
      "..saving.. /Volumes/Albano/2020-08-06-holding-analysis-extraction/2000051435/2000051435_usage_nature.csv\n",
      "...mapping from 3000130459  to Site_id not found: skipping\n",
      "...mapping from 3000251517  to Site_id not found: skipping\n",
      "...mapping from 3991330314  to Site_id not found: skipping\n",
      "...mapping from 3001139967  to Site_id not found: skipping\n",
      "...mapping from 3002011430  to Site_id not found: skipping\n",
      "...mapping from 3002114477  to Site_id not found: skipping\n",
      "\n",
      "======\n",
      "Checking Pre-saved Hierarchy for BPID:  8200836846 \n",
      "======\n",
      "Related BPIDs found:  5 = ['8200836846', '3000176734', '8200828607', '3000176756', '3902328142']\n"
     ]
    },
    {
     "data": {
      "application/vnd.jupyter.widget-view+json": {
       "model_id": "ce282cba7f92456d9f05ed629f46f11f",
       "version_major": 2,
       "version_minor": 0
      },
      "text/plain": [
       "HBox(children=(FloatProgress(value=0.0, max=5.0), HTML(value='')))"
      ]
     },
     "metadata": {},
     "output_type": "display_data"
    },
    {
     "name": "stdout",
     "output_type": "stream",
     "text": [
      "===\n",
      "Extracting Nature Usage for 8200836846  -- top level= 8200836846 Site_id= 2556\n",
      "..saving.. /Volumes/Albano/2020-08-06-holding-analysis-extraction/8200836846/8200836846_usage_nature.csv\n",
      "...mapping from 3000176734  to Site_id not found: skipping\n",
      "...mapping from 8200828607  to Site_id not found: skipping\n",
      "...mapping from 3000176756  to Site_id not found: skipping\n",
      "...mapping from 3902328142  to Site_id not found: skipping\n",
      "\n",
      "======\n",
      "Checking Pre-saved Hierarchy for BPID:  8200724720 \n",
      "======\n",
      "Related BPIDs found:  3 = ['8200724720', '3000122248', '8200828607']\n"
     ]
    },
    {
     "data": {
      "application/vnd.jupyter.widget-view+json": {
       "model_id": "b01091f2b7d049aa9fb0215d85162d9b",
       "version_major": 2,
       "version_minor": 0
      },
      "text/plain": [
       "HBox(children=(FloatProgress(value=0.0, max=3.0), HTML(value='')))"
      ]
     },
     "metadata": {},
     "output_type": "display_data"
    },
    {
     "name": "stdout",
     "output_type": "stream",
     "text": [
      "===\n",
      "Extracting Nature Usage for 8200724720  -- top level= 8200724720 Site_id= 417\n",
      "..saving.. /Volumes/Albano/2020-08-06-holding-analysis-extraction/8200724720/8200724720_usage_nature.csv\n",
      "...mapping from 3000122248  to Site_id not found: skipping\n",
      "...mapping from 8200828607  to Site_id not found: skipping\n",
      "\n",
      "======\n",
      "Checking Pre-saved Hierarchy for BPID:  3000155377 \n",
      "======\n",
      "Related BPIDs found:  1 = ['3000155377']\n"
     ]
    },
    {
     "data": {
      "application/vnd.jupyter.widget-view+json": {
       "model_id": "5b449bff84f1411386f858218c275eae",
       "version_major": 2,
       "version_minor": 0
      },
      "text/plain": [
       "HBox(children=(FloatProgress(value=0.0, max=1.0), HTML(value='')))"
      ]
     },
     "metadata": {},
     "output_type": "display_data"
    },
    {
     "name": "stdout",
     "output_type": "stream",
     "text": [
      "===\n",
      "Extracting Nature Usage for 3000155377  -- top level= 3000155377 Site_id= 22410\n",
      "..saving.. /Volumes/Albano/2020-08-06-holding-analysis-extraction/3000155377/3000155377_usage_nature.csv\n",
      "\n",
      "======\n",
      "Checking Pre-saved Hierarchy for BPID:  3000172792 \n",
      "======\n",
      "Related BPIDs found:  1 = ['3000172792']\n"
     ]
    },
    {
     "data": {
      "application/vnd.jupyter.widget-view+json": {
       "model_id": "51b986ba7d5c4249bfe5bdf3a59a9ad8",
       "version_major": 2,
       "version_minor": 0
      },
      "text/plain": [
       "HBox(children=(FloatProgress(value=0.0, max=1.0), HTML(value='')))"
      ]
     },
     "metadata": {},
     "output_type": "display_data"
    },
    {
     "name": "stdout",
     "output_type": "stream",
     "text": [
      "...mapping from 3000172792  to Site_id not found: skipping\n",
      "\n",
      "======\n",
      "Checking Pre-saved Hierarchy for BPID:  8200868601 \n",
      "======\n",
      "Related BPIDs found:  3 = ['8200868601', '8200828607', '3000133814']\n"
     ]
    },
    {
     "data": {
      "application/vnd.jupyter.widget-view+json": {
       "model_id": "5eb7173402884b60943e829b7d20cbc8",
       "version_major": 2,
       "version_minor": 0
      },
      "text/plain": [
       "HBox(children=(FloatProgress(value=0.0, max=3.0), HTML(value='')))"
      ]
     },
     "metadata": {},
     "output_type": "display_data"
    },
    {
     "name": "stdout",
     "output_type": "stream",
     "text": [
      "===\n",
      "Extracting Nature Usage for 8200868601  -- top level= 8200868601 Site_id= 984\n",
      "..saving.. /Volumes/Albano/2020-08-06-holding-analysis-extraction/8200868601/8200868601_usage_nature.csv\n",
      "...mapping from 8200828607  to Site_id not found: skipping\n",
      "...mapping from 3000133814  to Site_id not found: skipping\n",
      "\n",
      "======\n",
      "Checking Pre-saved Hierarchy for BPID:  8200972026 \n",
      "======\n",
      "Related BPIDs found:  5 = ['8200972026', '3000176734', '8200828607', '3000176756', '3902328142']\n"
     ]
    },
    {
     "data": {
      "application/vnd.jupyter.widget-view+json": {
       "model_id": "9bee54a4d7c24220af977ff39e2071af",
       "version_major": 2,
       "version_minor": 0
      },
      "text/plain": [
       "HBox(children=(FloatProgress(value=0.0, max=5.0), HTML(value='')))"
      ]
     },
     "metadata": {},
     "output_type": "display_data"
    },
    {
     "name": "stdout",
     "output_type": "stream",
     "text": [
      "===\n",
      "Extracting Nature Usage for 8200972026  -- top level= 8200972026 Site_id= 7355\n",
      "..saving.. /Volumes/Albano/2020-08-06-holding-analysis-extraction/8200972026/8200972026_usage_nature.csv\n",
      "...mapping from 3000176734  to Site_id not found: skipping\n",
      "...mapping from 8200828607  to Site_id not found: skipping\n",
      "...mapping from 3000176756  to Site_id not found: skipping\n",
      "...mapping from 3902328142  to Site_id not found: skipping\n",
      "\n",
      "======\n",
      "Checking Pre-saved Hierarchy for BPID:  3000204546 \n",
      "======\n",
      "Related BPIDs found:  3 = ['3000204546', '3000197460', '3901169726']\n"
     ]
    },
    {
     "data": {
      "application/vnd.jupyter.widget-view+json": {
       "model_id": "e1cdd969733a4e069843b34e7bf9121a",
       "version_major": 2,
       "version_minor": 0
      },
      "text/plain": [
       "HBox(children=(FloatProgress(value=0.0, max=3.0), HTML(value='')))"
      ]
     },
     "metadata": {},
     "output_type": "display_data"
    },
    {
     "name": "stdout",
     "output_type": "stream",
     "text": [
      "===\n",
      "Extracting Nature Usage for 3000204546  -- top level= 3000204546 Site_id= 10196\n",
      "..saving.. /Volumes/Albano/2020-08-06-holding-analysis-extraction/3000204546/3000204546_usage_nature.csv\n",
      "...mapping from 3000197460  to Site_id not found: skipping\n",
      "...mapping from 3901169726  to Site_id not found: skipping\n",
      "\n",
      "======\n",
      "Checking Pre-saved Hierarchy for BPID:  8200919299 \n",
      "======\n",
      "Related BPIDs found:  2 = ['8200919299', '3000216639']\n"
     ]
    },
    {
     "data": {
      "application/vnd.jupyter.widget-view+json": {
       "model_id": "fee9c21e992742c9bd54c643c26f1b92",
       "version_major": 2,
       "version_minor": 0
      },
      "text/plain": [
       "HBox(children=(FloatProgress(value=0.0, max=2.0), HTML(value='')))"
      ]
     },
     "metadata": {},
     "output_type": "display_data"
    },
    {
     "name": "stdout",
     "output_type": "stream",
     "text": [
      "===\n",
      "Extracting Nature Usage for 8200919299  -- top level= 8200919299 Site_id= 15349\n",
      "..saving.. /Volumes/Albano/2020-08-06-holding-analysis-extraction/8200919299/8200919299_usage_nature.csv\n",
      "...mapping from 3000216639  to Site_id not found: skipping\n",
      "\n",
      "======\n",
      "Checking Pre-saved Hierarchy for BPID:  3000123139 \n",
      "======\n",
      "Related BPIDs found:  2 = ['3000123139', '8200828607']\n"
     ]
    },
    {
     "data": {
      "application/vnd.jupyter.widget-view+json": {
       "model_id": "44a6bc658deb4196a11265ee231f2a04",
       "version_major": 2,
       "version_minor": 0
      },
      "text/plain": [
       "HBox(children=(FloatProgress(value=0.0, max=2.0), HTML(value='')))"
      ]
     },
     "metadata": {},
     "output_type": "display_data"
    },
    {
     "name": "stdout",
     "output_type": "stream",
     "text": [
      "===\n",
      "Extracting Nature Usage for 3000123139  -- top level= 3000123139 Site_id= 585\n",
      "..saving.. /Volumes/Albano/2020-08-06-holding-analysis-extraction/3000123139/3000123139_usage_nature.csv\n",
      "...mapping from 8200828607  to Site_id not found: skipping\n",
      "\n",
      "======\n",
      "Checking Pre-saved Hierarchy for BPID:  2000189191 \n",
      "======\n",
      "Related BPIDs found:  2 = ['2000189191', '8200828607']\n"
     ]
    },
    {
     "data": {
      "application/vnd.jupyter.widget-view+json": {
       "model_id": "3885bf91307247d4acfc72b9d48ee173",
       "version_major": 2,
       "version_minor": 0
      },
      "text/plain": [
       "HBox(children=(FloatProgress(value=0.0, max=2.0), HTML(value='')))"
      ]
     },
     "metadata": {},
     "output_type": "display_data"
    },
    {
     "name": "stdout",
     "output_type": "stream",
     "text": [
      "===\n",
      "Extracting Nature Usage for 2000189191  -- top level= 2000189191 Site_id= 1307\n",
      "..saving.. /Volumes/Albano/2020-08-06-holding-analysis-extraction/2000189191/2000189191_usage_nature.csv\n",
      "...mapping from 8200828607  to Site_id not found: skipping\n",
      "\n",
      "======\n",
      "Checking Pre-saved Hierarchy for BPID:  2000642829 \n",
      "======\n",
      "Related BPIDs found:  5 = ['2000642829', '3000568527', '3000714840', '3001038963', '3001337747']\n"
     ]
    },
    {
     "data": {
      "application/vnd.jupyter.widget-view+json": {
       "model_id": "651ba3dd846f42a48988b463c10e96fc",
       "version_major": 2,
       "version_minor": 0
      },
      "text/plain": [
       "HBox(children=(FloatProgress(value=0.0, max=5.0), HTML(value='')))"
      ]
     },
     "metadata": {},
     "output_type": "display_data"
    },
    {
     "name": "stdout",
     "output_type": "stream",
     "text": [
      "...mapping from 2000642829  to Site_id not found: skipping\n",
      "...mapping from 3000568527  to Site_id not found: skipping\n",
      "...mapping from 3000714840  to Site_id not found: skipping\n",
      "...mapping from 3001038963  to Site_id not found: skipping\n",
      "...mapping from 3001337747  to Site_id not found: skipping\n",
      "\n",
      "======\n",
      "Checking Pre-saved Hierarchy for BPID:  2000481557 \n",
      "======\n",
      "Related BPIDs found:  2 = ['2000481557', '8200828607']\n"
     ]
    },
    {
     "data": {
      "application/vnd.jupyter.widget-view+json": {
       "model_id": "243fbe80750e4dec8574a437602e5658",
       "version_major": 2,
       "version_minor": 0
      },
      "text/plain": [
       "HBox(children=(FloatProgress(value=0.0, max=2.0), HTML(value='')))"
      ]
     },
     "metadata": {},
     "output_type": "display_data"
    },
    {
     "name": "stdout",
     "output_type": "stream",
     "text": [
      "===\n",
      "Extracting Nature Usage for 2000481557  -- top level= 2000481557 Site_id= 1302\n",
      "..saving.. /Volumes/Albano/2020-08-06-holding-analysis-extraction/2000481557/2000481557_usage_nature.csv\n",
      "...mapping from 8200828607  to Site_id not found: skipping\n",
      "\n",
      "======\n",
      "Checking Pre-saved Hierarchy for BPID:  8200724245 \n",
      "======\n",
      "Related BPIDs found:  2 = ['8200724245', '8200828607']\n"
     ]
    },
    {
     "data": {
      "application/vnd.jupyter.widget-view+json": {
       "model_id": "5b0cbe9b9df545e28054ef9ffe882157",
       "version_major": 2,
       "version_minor": 0
      },
      "text/plain": [
       "HBox(children=(FloatProgress(value=0.0, max=2.0), HTML(value='')))"
      ]
     },
     "metadata": {},
     "output_type": "display_data"
    },
    {
     "name": "stdout",
     "output_type": "stream",
     "text": [
      "===\n",
      "Extracting Nature Usage for 8200724245  -- top level= 8200724245 Site_id= 6371\n",
      "..saving.. /Volumes/Albano/2020-08-06-holding-analysis-extraction/8200724245/8200724245_usage_nature.csv\n",
      "...mapping from 8200828607  to Site_id not found: skipping\n",
      "\n",
      "======\n",
      "Checking Pre-saved Hierarchy for BPID:  1000857884 \n",
      "======\n",
      "Related BPIDs found:  8 = ['1000857884', '3000130459', '3000179129', '3000198352', '3991330314', '3001139967', '3002011430', '3002114477']\n"
     ]
    },
    {
     "data": {
      "application/vnd.jupyter.widget-view+json": {
       "model_id": "50bc1e380504468e9ab10df4f7e31599",
       "version_major": 2,
       "version_minor": 0
      },
      "text/plain": [
       "HBox(children=(FloatProgress(value=0.0, max=8.0), HTML(value='')))"
      ]
     },
     "metadata": {},
     "output_type": "display_data"
    },
    {
     "name": "stdout",
     "output_type": "stream",
     "text": [
      "===\n",
      "Extracting Nature Usage for 1000857884  -- top level= 1000857884 Site_id= 9013\n",
      "..saving.. /Volumes/Albano/2020-08-06-holding-analysis-extraction/1000857884/1000857884_usage_nature.csv\n",
      "...mapping from 3000130459  to Site_id not found: skipping\n",
      "...mapping from 3000179129  to Site_id not found: skipping\n",
      "...mapping from 3000198352  to Site_id not found: skipping\n",
      "...mapping from 3991330314  to Site_id not found: skipping\n",
      "...mapping from 3001139967  to Site_id not found: skipping\n",
      "...mapping from 3002011430  to Site_id not found: skipping\n",
      "...mapping from 3002114477  to Site_id not found: skipping\n",
      "\n",
      "======\n",
      "Checking Pre-saved Hierarchy for BPID:  3000147746 \n",
      "======\n",
      "Related BPIDs found:  2 = ['3000147746', '3000675571']\n"
     ]
    },
    {
     "data": {
      "application/vnd.jupyter.widget-view+json": {
       "model_id": "fd52731d83d64f819b5620370d7773f3",
       "version_major": 2,
       "version_minor": 0
      },
      "text/plain": [
       "HBox(children=(FloatProgress(value=0.0, max=2.0), HTML(value='')))"
      ]
     },
     "metadata": {},
     "output_type": "display_data"
    },
    {
     "name": "stdout",
     "output_type": "stream",
     "text": [
      "===\n",
      "Extracting Nature Usage for 3000147746  -- top level= 3000147746 Site_id= 4612\n",
      "..saving.. /Volumes/Albano/2020-08-06-holding-analysis-extraction/3000147746/3000147746_usage_nature.csv\n",
      "...mapping from 3000675571  to Site_id not found: skipping\n",
      "\n",
      "======\n",
      "Checking Pre-saved Hierarchy for BPID:  8200831269 \n",
      "======\n",
      "Related BPIDs found:  2 = ['8200831269', '8200828607']\n"
     ]
    },
    {
     "data": {
      "application/vnd.jupyter.widget-view+json": {
       "model_id": "1c82f884ef1a42df8a657574db165aad",
       "version_major": 2,
       "version_minor": 0
      },
      "text/plain": [
       "HBox(children=(FloatProgress(value=0.0, max=2.0), HTML(value='')))"
      ]
     },
     "metadata": {},
     "output_type": "display_data"
    },
    {
     "name": "stdout",
     "output_type": "stream",
     "text": [
      "===\n",
      "Extracting Nature Usage for 8200831269  -- top level= 8200831269 Site_id= 520\n",
      "..saving.. /Volumes/Albano/2020-08-06-holding-analysis-extraction/8200831269/8200831269_usage_nature.csv\n",
      "...mapping from 8200828607  to Site_id not found: skipping\n",
      "\n",
      "======\n",
      "Checking Pre-saved Hierarchy for BPID:  8200911654 \n",
      "======\n",
      "Related BPIDs found:  2 = ['8200911654', '8200828607']\n"
     ]
    },
    {
     "data": {
      "application/vnd.jupyter.widget-view+json": {
       "model_id": "4a7d5e79bbeb4afabd02e52926d68f84",
       "version_major": 2,
       "version_minor": 0
      },
      "text/plain": [
       "HBox(children=(FloatProgress(value=0.0, max=2.0), HTML(value='')))"
      ]
     },
     "metadata": {},
     "output_type": "display_data"
    },
    {
     "name": "stdout",
     "output_type": "stream",
     "text": [
      "===\n",
      "Extracting Nature Usage for 8200911654  -- top level= 8200911654 Site_id= 8810\n",
      "..saving.. /Volumes/Albano/2020-08-06-holding-analysis-extraction/8200911654/8200911654_usage_nature.csv\n",
      "...mapping from 8200828607  to Site_id not found: skipping\n",
      "\n",
      "======\n",
      "Checking Pre-saved Hierarchy for BPID:  8200408873 \n",
      "======\n",
      "Related BPIDs found:  2 = ['8200408873', '8200828607']\n"
     ]
    },
    {
     "data": {
      "application/vnd.jupyter.widget-view+json": {
       "model_id": "c1e4935405744df0927acd0227c36228",
       "version_major": 2,
       "version_minor": 0
      },
      "text/plain": [
       "HBox(children=(FloatProgress(value=0.0, max=2.0), HTML(value='')))"
      ]
     },
     "metadata": {},
     "output_type": "display_data"
    },
    {
     "name": "stdout",
     "output_type": "stream",
     "text": [
      "===\n",
      "Extracting Nature Usage for 8200408873  -- top level= 8200408873 Site_id= 5060\n",
      "..saving.. /Volumes/Albano/2020-08-06-holding-analysis-extraction/8200408873/8200408873_usage_nature.csv\n",
      "...mapping from 8200828607  to Site_id not found: skipping\n",
      "\n",
      "======\n",
      "Checking Pre-saved Hierarchy for BPID:  3991369002 \n",
      "======\n",
      "Related BPIDs found:  1 = ['3991369002']\n"
     ]
    },
    {
     "data": {
      "application/vnd.jupyter.widget-view+json": {
       "model_id": "cbaa67595bb0465e970ae6f5af669c7e",
       "version_major": 2,
       "version_minor": 0
      },
      "text/plain": [
       "HBox(children=(FloatProgress(value=0.0, max=1.0), HTML(value='')))"
      ]
     },
     "metadata": {},
     "output_type": "display_data"
    },
    {
     "name": "stdout",
     "output_type": "stream",
     "text": [
      "===\n",
      "Extracting Nature Usage for 3991369002  -- top level= 3991369002 Site_id= 21564\n",
      "..saving.. /Volumes/Albano/2020-08-06-holding-analysis-extraction/3991369002/3991369002_usage_nature.csv\n",
      "\n",
      "======\n",
      "Checking Pre-saved Hierarchy for BPID:  2000545279 \n",
      "======\n",
      "Related BPIDs found:  1 = ['2000545279']\n"
     ]
    },
    {
     "data": {
      "application/vnd.jupyter.widget-view+json": {
       "model_id": "b4ea2d4f26c44405836649b3185ae4dd",
       "version_major": 2,
       "version_minor": 0
      },
      "text/plain": [
       "HBox(children=(FloatProgress(value=0.0, max=1.0), HTML(value='')))"
      ]
     },
     "metadata": {},
     "output_type": "display_data"
    },
    {
     "name": "stdout",
     "output_type": "stream",
     "text": [
      "===\n",
      "Extracting Nature Usage for 2000545279  -- top level= 2000545279 Site_id= 5672\n",
      "..saving.. /Volumes/Albano/2020-08-06-holding-analysis-extraction/2000545279/2000545279_usage_nature.csv\n",
      "\n",
      "======\n",
      "Checking Pre-saved Hierarchy for BPID:  2000397100 \n",
      "======\n",
      "Related BPIDs found:  1 = ['2000397100']\n"
     ]
    },
    {
     "data": {
      "application/vnd.jupyter.widget-view+json": {
       "model_id": "3d769958745842308b71abcd80ba162b",
       "version_major": 2,
       "version_minor": 0
      },
      "text/plain": [
       "HBox(children=(FloatProgress(value=0.0, max=1.0), HTML(value='')))"
      ]
     },
     "metadata": {},
     "output_type": "display_data"
    },
    {
     "name": "stdout",
     "output_type": "stream",
     "text": [
      "...mapping from 2000397100  to Site_id not found: skipping\n",
      "\n",
      "======\n",
      "Checking Pre-saved Hierarchy for BPID:  3991467823 \n",
      "======\n",
      "Related BPIDs found:  1 = ['3991467823']\n"
     ]
    },
    {
     "data": {
      "application/vnd.jupyter.widget-view+json": {
       "model_id": "1c74b2543bd54e40bfc42e73cc7ada20",
       "version_major": 2,
       "version_minor": 0
      },
      "text/plain": [
       "HBox(children=(FloatProgress(value=0.0, max=1.0), HTML(value='')))"
      ]
     },
     "metadata": {},
     "output_type": "display_data"
    },
    {
     "name": "stdout",
     "output_type": "stream",
     "text": [
      "...mapping from 3991467823  to Site_id not found: skipping\n",
      "\n",
      "======\n",
      "Checking Pre-saved Hierarchy for BPID:  8200177967 \n",
      "======\n",
      "Related BPIDs found:  2 = ['8200177967', '8200828607']\n"
     ]
    },
    {
     "data": {
      "application/vnd.jupyter.widget-view+json": {
       "model_id": "70fa8672d405453ca3e82ef478e9766d",
       "version_major": 2,
       "version_minor": 0
      },
      "text/plain": [
       "HBox(children=(FloatProgress(value=0.0, max=2.0), HTML(value='')))"
      ]
     },
     "metadata": {},
     "output_type": "display_data"
    },
    {
     "name": "stdout",
     "output_type": "stream",
     "text": [
      "===\n",
      "Extracting Nature Usage for 8200177967  -- top level= 8200177967 Site_id= 1303\n",
      "..saving.. /Volumes/Albano/2020-08-06-holding-analysis-extraction/8200177967/8200177967_usage_nature.csv\n",
      "...mapping from 8200828607  to Site_id not found: skipping\n",
      "\n",
      "======\n",
      "Checking Pre-saved Hierarchy for BPID:  8201031477 \n",
      "======\n",
      "Related BPIDs found:  1 = ['8201031477']\n"
     ]
    },
    {
     "data": {
      "application/vnd.jupyter.widget-view+json": {
       "model_id": "42db2404a1d14b85a23e3fc86f660473",
       "version_major": 2,
       "version_minor": 0
      },
      "text/plain": [
       "HBox(children=(FloatProgress(value=0.0, max=1.0), HTML(value='')))"
      ]
     },
     "metadata": {},
     "output_type": "display_data"
    },
    {
     "name": "stdout",
     "output_type": "stream",
     "text": [
      "===\n",
      "Extracting Nature Usage for 8201031477  -- top level= 8201031477 Site_id= 394\n",
      "..saving.. /Volumes/Albano/2020-08-06-holding-analysis-extraction/8201031477/8201031477_usage_nature.csv\n",
      "\n",
      "======\n",
      "Checking Pre-saved Hierarchy for BPID:  2000463160 \n",
      "======\n",
      "Related BPIDs found:  11 = ['2000463160', '3000130811', '3000481104', '3000730835', '3000824225', '3000208665', '3001039277', '3991464068', '3001231873', '3003089239', '3991447120']\n"
     ]
    },
    {
     "data": {
      "application/vnd.jupyter.widget-view+json": {
       "model_id": "51711e620d544503ba1325e510ccd7f9",
       "version_major": 2,
       "version_minor": 0
      },
      "text/plain": [
       "HBox(children=(FloatProgress(value=0.0, max=11.0), HTML(value='')))"
      ]
     },
     "metadata": {},
     "output_type": "display_data"
    },
    {
     "name": "stdout",
     "output_type": "stream",
     "text": [
      "===\n",
      "Extracting Nature Usage for 2000463160  -- top level= 2000463160 Site_id= 8885\n",
      "..saving.. /Volumes/Albano/2020-08-06-holding-analysis-extraction/2000463160/2000463160_usage_nature.csv\n",
      "...mapping from 3000130811  to Site_id not found: skipping\n",
      "...mapping from 3000481104  to Site_id not found: skipping\n",
      "...mapping from 3000730835  to Site_id not found: skipping\n",
      "...mapping from 3000824225  to Site_id not found: skipping\n",
      "...mapping from 3000208665  to Site_id not found: skipping\n",
      "...mapping from 3001039277  to Site_id not found: skipping\n",
      "...mapping from 3991464068  to Site_id not found: skipping\n",
      "...mapping from 3001231873  to Site_id not found: skipping\n",
      "...mapping from 3003089239  to Site_id not found: skipping\n",
      "...mapping from 3991447120  to Site_id not found: skipping\n",
      "\n",
      "======\n",
      "Checking Pre-saved Hierarchy for BPID:  2000478521 \n",
      "======\n",
      "Related BPIDs found:  2 = ['2000478521', '3000675571']\n"
     ]
    },
    {
     "data": {
      "application/vnd.jupyter.widget-view+json": {
       "model_id": "bfdd94a8af89473aba9bbbfc51af3c84",
       "version_major": 2,
       "version_minor": 0
      },
      "text/plain": [
       "HBox(children=(FloatProgress(value=0.0, max=2.0), HTML(value='')))"
      ]
     },
     "metadata": {},
     "output_type": "display_data"
    },
    {
     "name": "stdout",
     "output_type": "stream",
     "text": [
      "===\n",
      "Extracting Nature Usage for 2000478521  -- top level= 2000478521 Site_id= 4604\n",
      "..saving.. /Volumes/Albano/2020-08-06-holding-analysis-extraction/2000478521/2000478521_usage_nature.csv\n",
      "...mapping from 3000675571  to Site_id not found: skipping\n",
      "\n",
      "======\n",
      "Checking Pre-saved Hierarchy for BPID:  3000162104 \n",
      "======\n",
      "Related BPIDs found:  4 = ['3000162104', '3000130631', '3000593105', '3003349446']\n"
     ]
    },
    {
     "data": {
      "application/vnd.jupyter.widget-view+json": {
       "model_id": "306ff4b155f84366b9b59dfa6e1e4242",
       "version_major": 2,
       "version_minor": 0
      },
      "text/plain": [
       "HBox(children=(FloatProgress(value=0.0, max=4.0), HTML(value='')))"
      ]
     },
     "metadata": {},
     "output_type": "display_data"
    },
    {
     "name": "stdout",
     "output_type": "stream",
     "text": [
      "===\n",
      "Extracting Nature Usage for 3000162104  -- top level= 3000162104 Site_id= 4614\n",
      "..saving.. /Volumes/Albano/2020-08-06-holding-analysis-extraction/3000162104/3000162104_usage_nature.csv\n",
      "...mapping from 3000130631  to Site_id not found: skipping\n",
      "...mapping from 3000593105  to Site_id not found: skipping\n",
      "...mapping from 3003349446  to Site_id not found: skipping\n",
      "\n",
      "======\n",
      "Checking Pre-saved Hierarchy for BPID:  2000342845 \n",
      "======\n",
      "Related BPIDs found:  5 = ['2000342845', '3000202650', '3000508393', '3000595123', '3000701760']\n"
     ]
    },
    {
     "data": {
      "application/vnd.jupyter.widget-view+json": {
       "model_id": "09e2c4ad3ed445aabcdeed317f4bac8f",
       "version_major": 2,
       "version_minor": 0
      },
      "text/plain": [
       "HBox(children=(FloatProgress(value=0.0, max=5.0), HTML(value='')))"
      ]
     },
     "metadata": {},
     "output_type": "display_data"
    },
    {
     "name": "stdout",
     "output_type": "stream",
     "text": [
      "===\n",
      "Extracting Nature Usage for 2000342845  -- top level= 2000342845 Site_id= 12245\n",
      "..saving.. /Volumes/Albano/2020-08-06-holding-analysis-extraction/2000342845/2000342845_usage_nature.csv\n",
      "...mapping from 3000202650  to Site_id not found: skipping\n",
      "...mapping from 3000508393  to Site_id not found: skipping\n",
      "...mapping from 3000595123  to Site_id not found: skipping\n",
      "...mapping from 3000701760  to Site_id not found: skipping\n",
      "\n",
      "======\n",
      "Checking Pre-saved Hierarchy for BPID:  1000864062 \n",
      "======\n",
      "Related BPIDs found:  8 = ['1000864062', '3000130459', '3000251517', '3991330314', '3001139967', '3000179129', '3002011430', '3002114477']\n"
     ]
    },
    {
     "data": {
      "application/vnd.jupyter.widget-view+json": {
       "model_id": "e1c65960a8574c99bd5bdc109373d0c2",
       "version_major": 2,
       "version_minor": 0
      },
      "text/plain": [
       "HBox(children=(FloatProgress(value=0.0, max=8.0), HTML(value='')))"
      ]
     },
     "metadata": {},
     "output_type": "display_data"
    },
    {
     "name": "stdout",
     "output_type": "stream",
     "text": [
      "===\n",
      "Extracting Nature Usage for 1000864062  -- top level= 1000864062 Site_id= 4568\n",
      "..saving.. /Volumes/Albano/2020-08-06-holding-analysis-extraction/1000864062/1000864062_usage_nature.csv\n",
      "...mapping from 3000130459  to Site_id not found: skipping\n",
      "...mapping from 3000251517  to Site_id not found: skipping\n",
      "...mapping from 3991330314  to Site_id not found: skipping\n",
      "...mapping from 3001139967  to Site_id not found: skipping\n",
      "...mapping from 3000179129  to Site_id not found: skipping\n",
      "...mapping from 3002011430  to Site_id not found: skipping\n",
      "...mapping from 3002114477  to Site_id not found: skipping\n",
      "\n",
      "======\n",
      "Checking Pre-saved Hierarchy for BPID:  8200730943 \n",
      "======\n",
      "Related BPIDs found:  2 = ['8200730943', '8200828607']\n"
     ]
    },
    {
     "data": {
      "application/vnd.jupyter.widget-view+json": {
       "model_id": "4d4c806acede484096d0875c83d1112a",
       "version_major": 2,
       "version_minor": 0
      },
      "text/plain": [
       "HBox(children=(FloatProgress(value=0.0, max=2.0), HTML(value='')))"
      ]
     },
     "metadata": {},
     "output_type": "display_data"
    },
    {
     "name": "stdout",
     "output_type": "stream",
     "text": [
      "===\n",
      "Extracting Nature Usage for 8200730943  -- top level= 8200730943 Site_id= 1381\n",
      "..saving.. /Volumes/Albano/2020-08-06-holding-analysis-extraction/8200730943/8200730943_usage_nature.csv\n",
      "...mapping from 8200828607  to Site_id not found: skipping\n",
      "\n",
      "======\n",
      "Checking Pre-saved Hierarchy for BPID:  3000187712 \n",
      "======\n",
      "Related BPIDs found:  7 = ['3000187712', '3000130459', '3000251517', '3991330314', '3001139967', '3002011430', '3002114477']\n"
     ]
    },
    {
     "data": {
      "application/vnd.jupyter.widget-view+json": {
       "model_id": "be34b650a8694b0988a62ddcf3270c1e",
       "version_major": 2,
       "version_minor": 0
      },
      "text/plain": [
       "HBox(children=(FloatProgress(value=0.0, max=7.0), HTML(value='')))"
      ]
     },
     "metadata": {},
     "output_type": "display_data"
    },
    {
     "name": "stdout",
     "output_type": "stream",
     "text": [
      "===\n",
      "Extracting Nature Usage for 3000187712  -- top level= 3000187712 Site_id= 10661\n",
      "..saving.. /Volumes/Albano/2020-08-06-holding-analysis-extraction/3000187712/3000187712_usage_nature.csv\n",
      "...mapping from 3000130459  to Site_id not found: skipping\n",
      "...mapping from 3000251517  to Site_id not found: skipping\n",
      "...mapping from 3991330314  to Site_id not found: skipping\n",
      "...mapping from 3001139967  to Site_id not found: skipping\n",
      "...mapping from 3002011430  to Site_id not found: skipping\n",
      "...mapping from 3002114477  to Site_id not found: skipping\n",
      "\n",
      "======\n",
      "Checking Pre-saved Hierarchy for BPID:  3000133957 \n",
      "======\n",
      "Related BPIDs found:  5 = ['3000133957', '3000520733', '3000155420', '3003532199', '3004220731']\n"
     ]
    },
    {
     "data": {
      "application/vnd.jupyter.widget-view+json": {
       "model_id": "cd3463936d794f55b7ef51902e92cc91",
       "version_major": 2,
       "version_minor": 0
      },
      "text/plain": [
       "HBox(children=(FloatProgress(value=0.0, max=5.0), HTML(value='')))"
      ]
     },
     "metadata": {},
     "output_type": "display_data"
    },
    {
     "name": "stdout",
     "output_type": "stream",
     "text": [
      "===\n",
      "Extracting Nature Usage for 3000133957  -- top level= 3000133957 Site_id= 1063\n",
      "..saving.. /Volumes/Albano/2020-08-06-holding-analysis-extraction/3000133957/3000133957_usage_nature.csv\n",
      "...mapping from 3000520733  to Site_id not found: skipping\n",
      "...mapping from 3000155420  to Site_id not found: skipping\n",
      "...mapping from 3003532199  to Site_id not found: skipping\n",
      "...mapping from 3004220731  to Site_id not found: skipping\n",
      "\n",
      "======\n",
      "Checking Pre-saved Hierarchy for BPID:  2000126278 \n",
      "======\n",
      "Related BPIDs found:  3 = ['2000126278', '3000155420', '3004220731']\n"
     ]
    },
    {
     "data": {
      "application/vnd.jupyter.widget-view+json": {
       "model_id": "3906cafe5d64450da52e1784f33b73a2",
       "version_major": 2,
       "version_minor": 0
      },
      "text/plain": [
       "HBox(children=(FloatProgress(value=0.0, max=3.0), HTML(value='')))"
      ]
     },
     "metadata": {},
     "output_type": "display_data"
    },
    {
     "name": "stdout",
     "output_type": "stream",
     "text": [
      "===\n",
      "Extracting Nature Usage for 2000126278  -- top level= 2000126278 Site_id= 4791\n",
      "..saving.. /Volumes/Albano/2020-08-06-holding-analysis-extraction/2000126278/2000126278_usage_nature.csv\n",
      "...mapping from 3000155420  to Site_id not found: skipping\n",
      "...mapping from 3004220731  to Site_id not found: skipping\n",
      "\n",
      "======\n",
      "Checking Pre-saved Hierarchy for BPID:  8200769361 \n",
      "======\n",
      "++++ ERROR ++++\n",
      "Errors index = [3003695120, 30036927080, 3003343017, 2000341714, 8200769361]\n"
     ]
    },
    {
     "data": {
      "application/vnd.jupyter.widget-view+json": {
       "model_id": "e6d2fa2291b444caadf93cb837360899",
       "version_major": 2,
       "version_minor": 0
      },
      "text/plain": [
       "HBox(children=(FloatProgress(value=1.0, bar_style='info', max=1.0), HTML(value='')))"
      ]
     },
     "metadata": {},
     "output_type": "display_data"
    },
    {
     "name": "stdout",
     "output_type": "stream",
     "text": [
      "\n",
      "======\n",
      "Checking Pre-saved Hierarchy for BPID:  8200831826 \n",
      "======\n",
      "Related BPIDs found:  2 = ['8200831826', '8200828607']\n"
     ]
    },
    {
     "data": {
      "application/vnd.jupyter.widget-view+json": {
       "model_id": "fad6f2de40114383b71121ff41b25ada",
       "version_major": 2,
       "version_minor": 0
      },
      "text/plain": [
       "HBox(children=(FloatProgress(value=0.0, max=2.0), HTML(value='')))"
      ]
     },
     "metadata": {},
     "output_type": "display_data"
    },
    {
     "name": "stdout",
     "output_type": "stream",
     "text": [
      "===\n",
      "Extracting Nature Usage for 8200831826  -- top level= 8200831826 Site_id= 9666\n",
      "..saving.. /Volumes/Albano/2020-08-06-holding-analysis-extraction/8200831826/8200831826_usage_nature.csv\n",
      "...mapping from 8200828607  to Site_id not found: skipping\n",
      "\n",
      "======\n",
      "Checking Pre-saved Hierarchy for BPID:  3000132435 \n",
      "======\n",
      "Related BPIDs found:  4 = ['3000132435', '3000180695', '3000174968', '3994475188']\n"
     ]
    },
    {
     "data": {
      "application/vnd.jupyter.widget-view+json": {
       "model_id": "ff42247e09474273a9f888a55caeefa4",
       "version_major": 2,
       "version_minor": 0
      },
      "text/plain": [
       "HBox(children=(FloatProgress(value=0.0, max=4.0), HTML(value='')))"
      ]
     },
     "metadata": {},
     "output_type": "display_data"
    },
    {
     "name": "stdout",
     "output_type": "stream",
     "text": [
      "===\n",
      "Extracting Nature Usage for 3000132435  -- top level= 3000132435 Site_id= 15492\n",
      "..saving.. /Volumes/Albano/2020-08-06-holding-analysis-extraction/3000132435/3000132435_usage_nature.csv\n",
      "...mapping from 3000180695  to Site_id not found: skipping\n",
      "...mapping from 3000174968  to Site_id not found: skipping\n",
      "...mapping from 3994475188  to Site_id not found: skipping\n",
      "\n",
      "======\n",
      "Checking Pre-saved Hierarchy for BPID:  8200707409 \n",
      "======\n",
      "Related BPIDs found:  2 = ['8200707409', '8200828607']\n"
     ]
    },
    {
     "data": {
      "application/vnd.jupyter.widget-view+json": {
       "model_id": "f8e42a6cea684af2bfdb16f95ab8890d",
       "version_major": 2,
       "version_minor": 0
      },
      "text/plain": [
       "HBox(children=(FloatProgress(value=0.0, max=2.0), HTML(value='')))"
      ]
     },
     "metadata": {},
     "output_type": "display_data"
    },
    {
     "name": "stdout",
     "output_type": "stream",
     "text": [
      "===\n",
      "Extracting Nature Usage for 8200707409  -- top level= 8200707409 Site_id= 1598\n",
      "..saving.. /Volumes/Albano/2020-08-06-holding-analysis-extraction/8200707409/8200707409_usage_nature.csv\n",
      "...mapping from 8200828607  to Site_id not found: skipping\n",
      "\n",
      "======\n",
      "Checking Pre-saved Hierarchy for BPID:  3000191317 \n",
      "======\n",
      "Related BPIDs found:  2 = ['3000191317', '3991433361']\n"
     ]
    },
    {
     "data": {
      "application/vnd.jupyter.widget-view+json": {
       "model_id": "a847107556264c07bb8c5aaee5ef873a",
       "version_major": 2,
       "version_minor": 0
      },
      "text/plain": [
       "HBox(children=(FloatProgress(value=0.0, max=2.0), HTML(value='')))"
      ]
     },
     "metadata": {},
     "output_type": "display_data"
    },
    {
     "name": "stdout",
     "output_type": "stream",
     "text": [
      "===\n",
      "Extracting Nature Usage for 3000191317  -- top level= 3000191317 Site_id= 18563\n",
      "..saving.. /Volumes/Albano/2020-08-06-holding-analysis-extraction/3000191317/3000191317_usage_nature.csv\n",
      "...mapping from 3991433361  to Site_id not found: skipping\n",
      "\n",
      "======\n",
      "Checking Pre-saved Hierarchy for BPID:  2000324950 \n",
      "======\n",
      "Related BPIDs found:  7 = ['2000324950', '3000130459', '3000179129', '3000251517', '3001139967', '3002011430', '3002114477']\n"
     ]
    },
    {
     "data": {
      "application/vnd.jupyter.widget-view+json": {
       "model_id": "7b6b9132a11c44898136dc1295468552",
       "version_major": 2,
       "version_minor": 0
      },
      "text/plain": [
       "HBox(children=(FloatProgress(value=0.0, max=7.0), HTML(value='')))"
      ]
     },
     "metadata": {},
     "output_type": "display_data"
    },
    {
     "name": "stdout",
     "output_type": "stream",
     "text": [
      "===\n",
      "Extracting Nature Usage for 2000324950  -- top level= 2000324950 Site_id= 6611\n",
      "..saving.. /Volumes/Albano/2020-08-06-holding-analysis-extraction/2000324950/2000324950_usage_nature.csv\n",
      "...mapping from 3000130459  to Site_id not found: skipping\n",
      "...mapping from 3000179129  to Site_id not found: skipping\n",
      "...mapping from 3000251517  to Site_id not found: skipping\n",
      "...mapping from 3001139967  to Site_id not found: skipping\n",
      "...mapping from 3002011430  to Site_id not found: skipping\n",
      "...mapping from 3002114477  to Site_id not found: skipping\n",
      "\n",
      "======\n",
      "Checking Pre-saved Hierarchy for BPID:  8200922455 \n",
      "======\n",
      "Related BPIDs found:  2 = ['8200922455', '8200828607']\n"
     ]
    },
    {
     "data": {
      "application/vnd.jupyter.widget-view+json": {
       "model_id": "9f9f50171e2243e1b20e40a09914c908",
       "version_major": 2,
       "version_minor": 0
      },
      "text/plain": [
       "HBox(children=(FloatProgress(value=0.0, max=2.0), HTML(value='')))"
      ]
     },
     "metadata": {},
     "output_type": "display_data"
    },
    {
     "name": "stdout",
     "output_type": "stream",
     "text": [
      "===\n",
      "Extracting Nature Usage for 8200922455  -- top level= 8200922455 Site_id= 6389\n",
      "..saving.. /Volumes/Albano/2020-08-06-holding-analysis-extraction/8200922455/8200922455_usage_nature.csv\n",
      "...mapping from 8200828607  to Site_id not found: skipping\n",
      "\n",
      "======\n",
      "Checking Pre-saved Hierarchy for BPID:  3003635546 \n",
      "======\n",
      "Related BPIDs found:  1 = ['3003635546']\n"
     ]
    },
    {
     "data": {
      "application/vnd.jupyter.widget-view+json": {
       "model_id": "70a3e1dd812843cbbfd4d9b2c7a80c62",
       "version_major": 2,
       "version_minor": 0
      },
      "text/plain": [
       "HBox(children=(FloatProgress(value=0.0, max=1.0), HTML(value='')))"
      ]
     },
     "metadata": {},
     "output_type": "display_data"
    },
    {
     "name": "stdout",
     "output_type": "stream",
     "text": [
      "===\n",
      "Extracting Nature Usage for 3003635546  -- top level= 3003635546 Site_id= 31478\n",
      "..saving.. /Volumes/Albano/2020-08-06-holding-analysis-extraction/3003635546/3003635546_usage_nature.csv\n",
      "\n",
      "======\n",
      "Checking Pre-saved Hierarchy for BPID:  8200178020 \n",
      "======\n",
      "Related BPIDs found:  3 = ['8200178020', '3000122896', '3000171036']\n"
     ]
    },
    {
     "data": {
      "application/vnd.jupyter.widget-view+json": {
       "model_id": "80514c21561244318db51f883a1c4fad",
       "version_major": 2,
       "version_minor": 0
      },
      "text/plain": [
       "HBox(children=(FloatProgress(value=0.0, max=3.0), HTML(value='')))"
      ]
     },
     "metadata": {},
     "output_type": "display_data"
    },
    {
     "name": "stdout",
     "output_type": "stream",
     "text": [
      "===\n",
      "Extracting Nature Usage for 8200178020  -- top level= 8200178020 Site_id= 4558\n",
      "..saving.. /Volumes/Albano/2020-08-06-holding-analysis-extraction/8200178020/8200178020_usage_nature.csv\n",
      "...mapping from 3000122896  to Site_id not found: skipping\n",
      "...mapping from 3000171036  to Site_id not found: skipping\n",
      "\n",
      "======\n",
      "Checking Pre-saved Hierarchy for BPID:  2000585575 \n",
      "======\n",
      "Related BPIDs found:  2 = ['2000585575', '3000183200']\n"
     ]
    },
    {
     "data": {
      "application/vnd.jupyter.widget-view+json": {
       "model_id": "c44edfcbfdf342bfa3a0ff55e2fef407",
       "version_major": 2,
       "version_minor": 0
      },
      "text/plain": [
       "HBox(children=(FloatProgress(value=0.0, max=2.0), HTML(value='')))"
      ]
     },
     "metadata": {},
     "output_type": "display_data"
    },
    {
     "name": "stdout",
     "output_type": "stream",
     "text": [
      "...mapping from 2000585575  to Site_id not found: skipping\n",
      "...mapping from 3000183200  to Site_id not found: skipping\n",
      "\n",
      "======\n",
      "Checking Pre-saved Hierarchy for BPID:  2000078190 \n",
      "======\n",
      "Related BPIDs found:  3 = ['2000078190', '3001139967', '3991330314']\n"
     ]
    },
    {
     "data": {
      "application/vnd.jupyter.widget-view+json": {
       "model_id": "e15e0b1e68eb41f5ae56b876c3af9529",
       "version_major": 2,
       "version_minor": 0
      },
      "text/plain": [
       "HBox(children=(FloatProgress(value=0.0, max=3.0), HTML(value='')))"
      ]
     },
     "metadata": {},
     "output_type": "display_data"
    },
    {
     "name": "stdout",
     "output_type": "stream",
     "text": [
      "===\n",
      "Extracting Nature Usage for 2000078190  -- top level= 2000078190 Site_id= 8238\n",
      "..saving.. /Volumes/Albano/2020-08-06-holding-analysis-extraction/2000078190/2000078190_usage_nature.csv\n",
      "...mapping from 3001139967  to Site_id not found: skipping\n",
      "...mapping from 3991330314  to Site_id not found: skipping\n",
      "\n",
      "======\n",
      "Checking Pre-saved Hierarchy for BPID:  3001054575 \n",
      "======\n",
      "Related BPIDs found:  1 = ['3001054575']\n"
     ]
    },
    {
     "data": {
      "application/vnd.jupyter.widget-view+json": {
       "model_id": "5bb505bcbe9e4e168fa1b27cb9c4b371",
       "version_major": 2,
       "version_minor": 0
      },
      "text/plain": [
       "HBox(children=(FloatProgress(value=0.0, max=1.0), HTML(value='')))"
      ]
     },
     "metadata": {},
     "output_type": "display_data"
    },
    {
     "name": "stdout",
     "output_type": "stream",
     "text": [
      "===\n",
      "Extracting Nature Usage for 3001054575  -- top level= 3001054575 Site_id= 29789\n",
      "..saving.. /Volumes/Albano/2020-08-06-holding-analysis-extraction/3001054575/3001054575_usage_nature.csv\n",
      "\n",
      "======\n",
      "Checking Pre-saved Hierarchy for BPID:  3000263536 \n",
      "======\n",
      "Related BPIDs found:  31 = ['3000263536', '3000263537', '3991460049', '3991460050', '3000263519', '3000263538', '3000263547', '3000263562', '3000263564', '3000762511', '3001070335', '3001070367', '3001070371', '3001070379', '3991463089', '8200899681', '3002252090', '3002252092', '3002252093', '3002323856', '3002974673', '3002974675', '3002974712', '3002974679', '3002974713', '3000640955', '3991363236', '3001369731', '3901387337', '3901387339', '8200979608']\n"
     ]
    },
    {
     "data": {
      "application/vnd.jupyter.widget-view+json": {
       "model_id": "e06f7155bf26482bbab493de6c6ee46d",
       "version_major": 2,
       "version_minor": 0
      },
      "text/plain": [
       "HBox(children=(FloatProgress(value=0.0, max=31.0), HTML(value='')))"
      ]
     },
     "metadata": {},
     "output_type": "display_data"
    },
    {
     "name": "stdout",
     "output_type": "stream",
     "text": [
      "...mapping from 3000263536  to Site_id not found: skipping\n",
      "...mapping from 3000263537  to Site_id not found: skipping\n",
      "...mapping from 3991460049  to Site_id not found: skipping\n",
      "...mapping from 3991460050  to Site_id not found: skipping\n",
      "...mapping from 3000263519  to Site_id not found: skipping\n",
      "...mapping from 3000263538  to Site_id not found: skipping\n",
      "...mapping from 3000263547  to Site_id not found: skipping\n",
      "...mapping from 3000263562  to Site_id not found: skipping\n",
      "...mapping from 3000263564  to Site_id not found: skipping\n",
      "...mapping from 3000762511  to Site_id not found: skipping\n",
      "...mapping from 3001070335  to Site_id not found: skipping\n",
      "...mapping from 3001070367  to Site_id not found: skipping\n",
      "...mapping from 3001070371  to Site_id not found: skipping\n",
      "...mapping from 3001070379  to Site_id not found: skipping\n",
      "...mapping from 3991463089  to Site_id not found: skipping\n",
      "...mapping from 8200899681  to Site_id not found: skipping\n",
      "...mapping from 3002252090  to Site_id not found: skipping\n",
      "...mapping from 3002252092  to Site_id not found: skipping\n",
      "...mapping from 3002252093  to Site_id not found: skipping\n",
      "...mapping from 3002323856  to Site_id not found: skipping\n",
      "...mapping from 3002974673  to Site_id not found: skipping\n",
      "...mapping from 3002974675  to Site_id not found: skipping\n",
      "...mapping from 3002974712  to Site_id not found: skipping\n",
      "...mapping from 3002974679  to Site_id not found: skipping\n",
      "...mapping from 3002974713  to Site_id not found: skipping\n",
      "...mapping from 3000640955  to Site_id not found: skipping\n",
      "...mapping from 3991363236  to Site_id not found: skipping\n",
      "...mapping from 3001369731  to Site_id not found: skipping\n",
      "...mapping from 3901387337  to Site_id not found: skipping\n",
      "...mapping from 3901387339  to Site_id not found: skipping\n",
      "...mapping from 8200979608  to Site_id not found: skipping\n",
      "\n",
      "======\n",
      "Checking Pre-saved Hierarchy for BPID:  8200844657 \n",
      "======\n",
      "Related BPIDs found:  1 = ['8200844657']\n"
     ]
    },
    {
     "data": {
      "application/vnd.jupyter.widget-view+json": {
       "model_id": "50cf3531cd214e66b64bae3b35c3621f",
       "version_major": 2,
       "version_minor": 0
      },
      "text/plain": [
       "HBox(children=(FloatProgress(value=0.0, max=1.0), HTML(value='')))"
      ]
     },
     "metadata": {},
     "output_type": "display_data"
    },
    {
     "name": "stdout",
     "output_type": "stream",
     "text": [
      "===\n",
      "Extracting Nature Usage for 8200844657  -- top level= 8200844657 Site_id= 8108\n",
      "..saving.. /Volumes/Albano/2020-08-06-holding-analysis-extraction/8200844657/8200844657_usage_nature.csv\n",
      "\n",
      "======\n",
      "Checking Pre-saved Hierarchy for BPID:  3000788339 \n",
      "======\n",
      "Related BPIDs found:  1 = ['3000788339']\n"
     ]
    },
    {
     "data": {
      "application/vnd.jupyter.widget-view+json": {
       "model_id": "4f66bef2235b41968b24ebf84de05568",
       "version_major": 2,
       "version_minor": 0
      },
      "text/plain": [
       "HBox(children=(FloatProgress(value=0.0, max=1.0), HTML(value='')))"
      ]
     },
     "metadata": {},
     "output_type": "display_data"
    },
    {
     "name": "stdout",
     "output_type": "stream",
     "text": [
      "...mapping from 3000788339  to Site_id not found: skipping\n",
      "\n",
      "======\n",
      "Checking Pre-saved Hierarchy for BPID:  2000142196 \n",
      "======\n",
      "Related BPIDs found:  5 = ['2000142196', '3000178263', '3000179127', '3000179124', '3004017903']\n"
     ]
    },
    {
     "data": {
      "application/vnd.jupyter.widget-view+json": {
       "model_id": "1d7057cbe0bf4db3a6b99052bf6afce9",
       "version_major": 2,
       "version_minor": 0
      },
      "text/plain": [
       "HBox(children=(FloatProgress(value=0.0, max=5.0), HTML(value='')))"
      ]
     },
     "metadata": {},
     "output_type": "display_data"
    },
    {
     "name": "stdout",
     "output_type": "stream",
     "text": [
      "===\n",
      "Extracting Nature Usage for 2000142196  -- top level= 2000142196 Site_id= 963\n",
      "..saving.. /Volumes/Albano/2020-08-06-holding-analysis-extraction/2000142196/2000142196_usage_nature.csv\n",
      "...mapping from 3000178263  to Site_id not found: skipping\n",
      "...mapping from 3000179127  to Site_id not found: skipping\n",
      "...mapping from 3000179124  to Site_id not found: skipping\n",
      "...mapping from 3004017903  to Site_id not found: skipping\n",
      "\n",
      "======\n",
      "Checking Pre-saved Hierarchy for BPID:  8200898933 \n",
      "======\n",
      "Related BPIDs found:  1 = ['8200898933']\n"
     ]
    },
    {
     "data": {
      "application/vnd.jupyter.widget-view+json": {
       "model_id": "7b865a9027524af6be1592525ffeba74",
       "version_major": 2,
       "version_minor": 0
      },
      "text/plain": [
       "HBox(children=(FloatProgress(value=0.0, max=1.0), HTML(value='')))"
      ]
     },
     "metadata": {},
     "output_type": "display_data"
    },
    {
     "name": "stdout",
     "output_type": "stream",
     "text": [
      "===\n",
      "Extracting Nature Usage for 8200898933  -- top level= 8200898933 Site_id= 2156\n",
      "..saving.. /Volumes/Albano/2020-08-06-holding-analysis-extraction/8200898933/8200898933_usage_nature.csv\n",
      "\n",
      "======\n",
      "Checking Pre-saved Hierarchy for BPID:  1000680836 \n",
      "======\n",
      "Related BPIDs found:  4 = ['1000680836', '3000529219', '3000096123', '3991436001']\n"
     ]
    },
    {
     "data": {
      "application/vnd.jupyter.widget-view+json": {
       "model_id": "9fda08a20d494b529c9311281a3e7049",
       "version_major": 2,
       "version_minor": 0
      },
      "text/plain": [
       "HBox(children=(FloatProgress(value=0.0, max=4.0), HTML(value='')))"
      ]
     },
     "metadata": {},
     "output_type": "display_data"
    },
    {
     "name": "stdout",
     "output_type": "stream",
     "text": [
      "===\n",
      "Extracting Nature Usage for 1000680836  -- top level= 1000680836 Site_id= 6864\n",
      "..saving.. /Volumes/Albano/2020-08-06-holding-analysis-extraction/1000680836/1000680836_usage_nature.csv\n",
      "...mapping from 3000529219  to Site_id not found: skipping\n",
      "...mapping from 3000096123  to Site_id not found: skipping\n",
      "...mapping from 3991436001  to Site_id not found: skipping\n",
      "\n",
      "======\n",
      "Checking Pre-saved Hierarchy for BPID:  3003718535 \n",
      "======\n",
      "Related BPIDs found:  1 = ['3003718535']\n"
     ]
    },
    {
     "data": {
      "application/vnd.jupyter.widget-view+json": {
       "model_id": "d9e964488e23466dba565db1248f97f3",
       "version_major": 2,
       "version_minor": 0
      },
      "text/plain": [
       "HBox(children=(FloatProgress(value=0.0, max=1.0), HTML(value='')))"
      ]
     },
     "metadata": {},
     "output_type": "display_data"
    },
    {
     "name": "stdout",
     "output_type": "stream",
     "text": [
      "...mapping from 3003718535  to Site_id not found: skipping\n",
      "\n",
      "======\n",
      "Checking Pre-saved Hierarchy for BPID:  8200177545 \n",
      "======\n",
      "Related BPIDs found:  2 = ['8200177545', '8200828607']\n"
     ]
    },
    {
     "data": {
      "application/vnd.jupyter.widget-view+json": {
       "model_id": "8de0ef393dd34edba41f7c1692aee0a6",
       "version_major": 2,
       "version_minor": 0
      },
      "text/plain": [
       "HBox(children=(FloatProgress(value=0.0, max=2.0), HTML(value='')))"
      ]
     },
     "metadata": {},
     "output_type": "display_data"
    },
    {
     "name": "stdout",
     "output_type": "stream",
     "text": [
      "===\n",
      "Extracting Nature Usage for 8200177545  -- top level= 8200177545 Site_id= 1097\n",
      "..saving.. /Volumes/Albano/2020-08-06-holding-analysis-extraction/8200177545/8200177545_usage_nature.csv\n",
      "...mapping from 8200828607  to Site_id not found: skipping\n",
      "\n",
      "======\n",
      "Checking Pre-saved Hierarchy for BPID:  8200711562 \n",
      "======\n",
      "Related BPIDs found:  1 = ['8200711562']\n"
     ]
    },
    {
     "data": {
      "application/vnd.jupyter.widget-view+json": {
       "model_id": "d7115bf76e8143c8b2cd2fece10af9a1",
       "version_major": 2,
       "version_minor": 0
      },
      "text/plain": [
       "HBox(children=(FloatProgress(value=0.0, max=1.0), HTML(value='')))"
      ]
     },
     "metadata": {},
     "output_type": "display_data"
    },
    {
     "name": "stdout",
     "output_type": "stream",
     "text": [
      "...mapping from 8200711562  to Site_id not found: skipping\n",
      "\n",
      "======\n",
      "Checking Pre-saved Hierarchy for BPID:  8200736652 \n",
      "======\n",
      "Related BPIDs found:  1 = ['8200736652']\n"
     ]
    },
    {
     "data": {
      "application/vnd.jupyter.widget-view+json": {
       "model_id": "7287a23762764b159855adb57c9a01b4",
       "version_major": 2,
       "version_minor": 0
      },
      "text/plain": [
       "HBox(children=(FloatProgress(value=0.0, max=1.0), HTML(value='')))"
      ]
     },
     "metadata": {},
     "output_type": "display_data"
    },
    {
     "name": "stdout",
     "output_type": "stream",
     "text": [
      "===\n",
      "Extracting Nature Usage for 8200736652  -- top level= 8200736652 Site_id= 869\n",
      "..saving.. /Volumes/Albano/2020-08-06-holding-analysis-extraction/8200736652/8200736652_usage_nature.csv\n",
      "\n",
      "======\n",
      "Checking Pre-saved Hierarchy for BPID:  8200707989 \n",
      "======\n",
      "Related BPIDs found:  2 = ['8200707989', '8200828607']\n"
     ]
    },
    {
     "data": {
      "application/vnd.jupyter.widget-view+json": {
       "model_id": "7987b1e7b3d44bfea68e9208a879b259",
       "version_major": 2,
       "version_minor": 0
      },
      "text/plain": [
       "HBox(children=(FloatProgress(value=0.0, max=2.0), HTML(value='')))"
      ]
     },
     "metadata": {},
     "output_type": "display_data"
    },
    {
     "name": "stdout",
     "output_type": "stream",
     "text": [
      "...mapping from 8200707989  to Site_id not found: skipping\n",
      "...mapping from 8200828607  to Site_id not found: skipping\n",
      "\n",
      "======\n",
      "Checking Pre-saved Hierarchy for BPID:  8200705430 \n",
      "======\n",
      "Related BPIDs found:  2 = ['8200705430', '8200828607']\n"
     ]
    },
    {
     "data": {
      "application/vnd.jupyter.widget-view+json": {
       "model_id": "5953520c7db24e60b8eb357992da37db",
       "version_major": 2,
       "version_minor": 0
      },
      "text/plain": [
       "HBox(children=(FloatProgress(value=0.0, max=2.0), HTML(value='')))"
      ]
     },
     "metadata": {},
     "output_type": "display_data"
    },
    {
     "name": "stdout",
     "output_type": "stream",
     "text": [
      "===\n",
      "Extracting Nature Usage for 8200705430  -- top level= 8200705430 Site_id= 757\n",
      "..saving.. /Volumes/Albano/2020-08-06-holding-analysis-extraction/8200705430/8200705430_usage_nature.csv\n",
      "...mapping from 8200828607  to Site_id not found: skipping\n",
      "\n",
      "======\n",
      "Checking Pre-saved Hierarchy for BPID:  2000335256 \n",
      "======\n",
      "Related BPIDs found:  7 = ['2000335256', '3000130459', '3000251517', '3991330314', '3001139967', '3002011430', '3002114477']\n"
     ]
    },
    {
     "data": {
      "application/vnd.jupyter.widget-view+json": {
       "model_id": "368eea09ef7e40b08976801d0c025b61",
       "version_major": 2,
       "version_minor": 0
      },
      "text/plain": [
       "HBox(children=(FloatProgress(value=0.0, max=7.0), HTML(value='')))"
      ]
     },
     "metadata": {},
     "output_type": "display_data"
    },
    {
     "name": "stdout",
     "output_type": "stream",
     "text": [
      "===\n",
      "Extracting Nature Usage for 2000335256  -- top level= 2000335256 Site_id= 801\n",
      "..saving.. /Volumes/Albano/2020-08-06-holding-analysis-extraction/2000335256/2000335256_usage_nature.csv\n",
      "...mapping from 3000130459  to Site_id not found: skipping\n",
      "...mapping from 3000251517  to Site_id not found: skipping\n",
      "...mapping from 3991330314  to Site_id not found: skipping\n",
      "...mapping from 3001139967  to Site_id not found: skipping\n",
      "...mapping from 3002011430  to Site_id not found: skipping\n",
      "...mapping from 3002114477  to Site_id not found: skipping\n",
      "\n",
      "======\n",
      "Checking Pre-saved Hierarchy for BPID:  8200831900 \n",
      "======\n",
      "Related BPIDs found:  2 = ['8200831900', '8200828607']\n"
     ]
    },
    {
     "data": {
      "application/vnd.jupyter.widget-view+json": {
       "model_id": "674e287b6ddd4aa6969d8bb584eb0a30",
       "version_major": 2,
       "version_minor": 0
      },
      "text/plain": [
       "HBox(children=(FloatProgress(value=0.0, max=2.0), HTML(value='')))"
      ]
     },
     "metadata": {},
     "output_type": "display_data"
    },
    {
     "name": "stdout",
     "output_type": "stream",
     "text": [
      "===\n",
      "Extracting Nature Usage for 8200831900  -- top level= 8200831900 Site_id= 1290\n",
      "..saving.. /Volumes/Albano/2020-08-06-holding-analysis-extraction/8200831900/8200831900_usage_nature.csv\n",
      "...mapping from 8200828607  to Site_id not found: skipping\n",
      "\n",
      "======\n",
      "Checking Pre-saved Hierarchy for BPID:  8200706463 \n",
      "======\n",
      "Related BPIDs found:  2 = ['8200706463', '8200828607']\n"
     ]
    },
    {
     "data": {
      "application/vnd.jupyter.widget-view+json": {
       "model_id": "15a237297e9744319120e86f5beda451",
       "version_major": 2,
       "version_minor": 0
      },
      "text/plain": [
       "HBox(children=(FloatProgress(value=0.0, max=2.0), HTML(value='')))"
      ]
     },
     "metadata": {},
     "output_type": "display_data"
    },
    {
     "name": "stdout",
     "output_type": "stream",
     "text": [
      "===\n",
      "Extracting Nature Usage for 8200706463  -- top level= 8200706463 Site_id= 6174\n",
      "..saving.. /Volumes/Albano/2020-08-06-holding-analysis-extraction/8200706463/8200706463_usage_nature.csv\n",
      "...mapping from 8200828607  to Site_id not found: skipping\n",
      "\n",
      "======\n",
      "Checking Pre-saved Hierarchy for BPID:  3000214444 \n",
      "======\n",
      "Related BPIDs found:  3 = ['3000214444', '3000096123', '3991436001']\n"
     ]
    },
    {
     "data": {
      "application/vnd.jupyter.widget-view+json": {
       "model_id": "4e27b583925a4518a6be6de27d7c2318",
       "version_major": 2,
       "version_minor": 0
      },
      "text/plain": [
       "HBox(children=(FloatProgress(value=0.0, max=3.0), HTML(value='')))"
      ]
     },
     "metadata": {},
     "output_type": "display_data"
    },
    {
     "name": "stdout",
     "output_type": "stream",
     "text": [
      "===\n",
      "Extracting Nature Usage for 3000214444  -- top level= 3000214444 Site_id= 6735\n",
      "..saving.. /Volumes/Albano/2020-08-06-holding-analysis-extraction/3000214444/3000214444_usage_nature.csv\n",
      "...mapping from 3000096123  to Site_id not found: skipping\n",
      "...mapping from 3991436001  to Site_id not found: skipping\n",
      "\n",
      "======\n",
      "Checking Pre-saved Hierarchy for BPID:  2000456622 \n",
      "======\n",
      "Related BPIDs found:  1 = ['2000456622']\n"
     ]
    },
    {
     "data": {
      "application/vnd.jupyter.widget-view+json": {
       "model_id": "3b73cb389be94572ba6d3b89f042ce4f",
       "version_major": 2,
       "version_minor": 0
      },
      "text/plain": [
       "HBox(children=(FloatProgress(value=0.0, max=1.0), HTML(value='')))"
      ]
     },
     "metadata": {},
     "output_type": "display_data"
    },
    {
     "name": "stdout",
     "output_type": "stream",
     "text": [
      "...mapping from 2000456622  to Site_id not found: skipping\n",
      "\n",
      "======\n",
      "Checking Pre-saved Hierarchy for BPID:  8200972206 \n",
      "======\n",
      "Related BPIDs found:  2 = ['8200972206', '8200828607']\n"
     ]
    },
    {
     "data": {
      "application/vnd.jupyter.widget-view+json": {
       "model_id": "9f884ae507ba440e90101f3ee6c460f3",
       "version_major": 2,
       "version_minor": 0
      },
      "text/plain": [
       "HBox(children=(FloatProgress(value=0.0, max=2.0), HTML(value='')))"
      ]
     },
     "metadata": {},
     "output_type": "display_data"
    },
    {
     "name": "stdout",
     "output_type": "stream",
     "text": [
      "===\n",
      "Extracting Nature Usage for 8200972206  -- top level= 8200972206 Site_id= 1883\n",
      "..saving.. /Volumes/Albano/2020-08-06-holding-analysis-extraction/8200972206/8200972206_usage_nature.csv\n",
      "...mapping from 8200828607  to Site_id not found: skipping\n",
      "\n",
      "======\n",
      "Checking Pre-saved Hierarchy for BPID:  3000132530 \n",
      "======\n",
      "Related BPIDs found:  1 = ['3000132530']\n"
     ]
    },
    {
     "data": {
      "application/vnd.jupyter.widget-view+json": {
       "model_id": "80762e22a7e8410fbed20689671d0319",
       "version_major": 2,
       "version_minor": 0
      },
      "text/plain": [
       "HBox(children=(FloatProgress(value=0.0, max=1.0), HTML(value='')))"
      ]
     },
     "metadata": {},
     "output_type": "display_data"
    },
    {
     "name": "stdout",
     "output_type": "stream",
     "text": [
      "===\n",
      "Extracting Nature Usage for 3000132530  -- top level= 3000132530 Site_id= 6429\n",
      "..saving.. /Volumes/Albano/2020-08-06-holding-analysis-extraction/3000132530/3000132530_usage_nature.csv\n",
      "\n",
      "======\n",
      "Checking Pre-saved Hierarchy for BPID:  3000147891 \n",
      "======\n",
      "Related BPIDs found:  1 = ['3000147891']\n"
     ]
    },
    {
     "data": {
      "application/vnd.jupyter.widget-view+json": {
       "model_id": "17e01689ee154558a0bbd3f6813573aa",
       "version_major": 2,
       "version_minor": 0
      },
      "text/plain": [
       "HBox(children=(FloatProgress(value=0.0, max=1.0), HTML(value='')))"
      ]
     },
     "metadata": {},
     "output_type": "display_data"
    },
    {
     "name": "stdout",
     "output_type": "stream",
     "text": [
      "===\n",
      "Extracting Nature Usage for 3000147891  -- top level= 3000147891 Site_id= 3573\n",
      "..saving.. /Volumes/Albano/2020-08-06-holding-analysis-extraction/3000147891/3000147891_usage_nature.csv\n",
      "\n",
      "======\n",
      "Checking Pre-saved Hierarchy for BPID:  2000025012 \n",
      "======\n",
      "Related BPIDs found:  1 = ['2000025012']\n"
     ]
    },
    {
     "data": {
      "application/vnd.jupyter.widget-view+json": {
       "model_id": "d3c2ee9767a1459996085b85cdab4666",
       "version_major": 2,
       "version_minor": 0
      },
      "text/plain": [
       "HBox(children=(FloatProgress(value=0.0, max=1.0), HTML(value='')))"
      ]
     },
     "metadata": {},
     "output_type": "display_data"
    },
    {
     "name": "stdout",
     "output_type": "stream",
     "text": [
      "===\n",
      "Extracting Nature Usage for 2000025012  -- top level= 2000025012 Site_id= 7077\n",
      "..saving.. /Volumes/Albano/2020-08-06-holding-analysis-extraction/2000025012/2000025012_usage_nature.csv\n",
      "\n",
      "======\n",
      "Checking Pre-saved Hierarchy for BPID:  8200408502 \n",
      "======\n",
      "Related BPIDs found:  2 = ['8200408502', '3003089239']\n"
     ]
    },
    {
     "data": {
      "application/vnd.jupyter.widget-view+json": {
       "model_id": "091f77913fe348f4a89439cefe10cd00",
       "version_major": 2,
       "version_minor": 0
      },
      "text/plain": [
       "HBox(children=(FloatProgress(value=0.0, max=2.0), HTML(value='')))"
      ]
     },
     "metadata": {},
     "output_type": "display_data"
    },
    {
     "name": "stdout",
     "output_type": "stream",
     "text": [
      "...mapping from 8200408502  to Site_id not found: skipping\n",
      "...mapping from 3003089239  to Site_id not found: skipping\n",
      "\n",
      "======\n",
      "Checking Pre-saved Hierarchy for BPID:  2000274885 \n",
      "======\n",
      "Related BPIDs found:  2 = ['2000274885', '3001139967']\n"
     ]
    },
    {
     "data": {
      "application/vnd.jupyter.widget-view+json": {
       "model_id": "ef242fed4d9a4cd58922cf1463d3e69d",
       "version_major": 2,
       "version_minor": 0
      },
      "text/plain": [
       "HBox(children=(FloatProgress(value=0.0, max=2.0), HTML(value='')))"
      ]
     },
     "metadata": {},
     "output_type": "display_data"
    },
    {
     "name": "stdout",
     "output_type": "stream",
     "text": [
      "...mapping from 2000274885  to Site_id not found: skipping\n",
      "...mapping from 3001139967  to Site_id not found: skipping\n",
      "\n",
      "======\n",
      "Checking Pre-saved Hierarchy for BPID:  3000135110 \n",
      "======\n",
      "Related BPIDs found:  8 = ['3000135110', '3000137278', '3000137282', '3000205744', '3000262825', '3000262839', '3003169293', '3902044458']\n"
     ]
    },
    {
     "data": {
      "application/vnd.jupyter.widget-view+json": {
       "model_id": "a7905c9aaf5d40a184c142647f7cce68",
       "version_major": 2,
       "version_minor": 0
      },
      "text/plain": [
       "HBox(children=(FloatProgress(value=0.0, max=8.0), HTML(value='')))"
      ]
     },
     "metadata": {},
     "output_type": "display_data"
    },
    {
     "name": "stdout",
     "output_type": "stream",
     "text": [
      "===\n",
      "Extracting Nature Usage for 3000135110  -- top level= 3000135110 Site_id= 13913\n",
      "..saving.. /Volumes/Albano/2020-08-06-holding-analysis-extraction/3000135110/3000135110_usage_nature.csv\n",
      "...mapping from 3000137278  to Site_id not found: skipping\n",
      "...mapping from 3000137282  to Site_id not found: skipping\n",
      "...mapping from 3000205744  to Site_id not found: skipping\n",
      "...mapping from 3000262825  to Site_id not found: skipping\n",
      "...mapping from 3000262839  to Site_id not found: skipping\n",
      "...mapping from 3003169293  to Site_id not found: skipping\n",
      "...mapping from 3902044458  to Site_id not found: skipping\n",
      "\n",
      "======\n",
      "Checking Pre-saved Hierarchy for BPID:  3000267209 \n",
      "======\n",
      "Related BPIDs found:  1 = ['3000267209']\n"
     ]
    },
    {
     "data": {
      "application/vnd.jupyter.widget-view+json": {
       "model_id": "2a3f374286f14077b91cd260ffb7ae53",
       "version_major": 2,
       "version_minor": 0
      },
      "text/plain": [
       "HBox(children=(FloatProgress(value=0.0, max=1.0), HTML(value='')))"
      ]
     },
     "metadata": {},
     "output_type": "display_data"
    },
    {
     "name": "stdout",
     "output_type": "stream",
     "text": [
      "...mapping from 3000267209  to Site_id not found: skipping\n",
      "\n",
      "======\n",
      "Checking Pre-saved Hierarchy for BPID:  8200856009 \n",
      "======\n",
      "Related BPIDs found:  2 = ['8200856009', '8200828607']\n"
     ]
    },
    {
     "data": {
      "application/vnd.jupyter.widget-view+json": {
       "model_id": "31a2328bab10403ba2da8b91e4952180",
       "version_major": 2,
       "version_minor": 0
      },
      "text/plain": [
       "HBox(children=(FloatProgress(value=0.0, max=2.0), HTML(value='')))"
      ]
     },
     "metadata": {},
     "output_type": "display_data"
    },
    {
     "name": "stdout",
     "output_type": "stream",
     "text": [
      "===\n",
      "Extracting Nature Usage for 8200856009  -- top level= 8200856009 Site_id= 1283\n",
      "..saving.. /Volumes/Albano/2020-08-06-holding-analysis-extraction/8200856009/8200856009_usage_nature.csv\n",
      "...mapping from 8200828607  to Site_id not found: skipping\n",
      "\n",
      "======\n",
      "Checking Pre-saved Hierarchy for BPID:  8200979403 \n",
      "======\n",
      "Related BPIDs found:  3 = ['8200979403', '8200828607', '3002901800']\n"
     ]
    },
    {
     "data": {
      "application/vnd.jupyter.widget-view+json": {
       "model_id": "9222fca0a8274a02aeca468be1302a6d",
       "version_major": 2,
       "version_minor": 0
      },
      "text/plain": [
       "HBox(children=(FloatProgress(value=0.0, max=3.0), HTML(value='')))"
      ]
     },
     "metadata": {},
     "output_type": "display_data"
    },
    {
     "name": "stdout",
     "output_type": "stream",
     "text": [
      "===\n",
      "Extracting Nature Usage for 8200979403  -- top level= 8200979403 Site_id= 7676\n",
      "..saving.. /Volumes/Albano/2020-08-06-holding-analysis-extraction/8200979403/8200979403_usage_nature.csv\n",
      "...mapping from 8200828607  to Site_id not found: skipping\n",
      "...mapping from 3002901800  to Site_id not found: skipping\n",
      "\n",
      "======\n",
      "Checking Pre-saved Hierarchy for BPID:  3000147920 \n",
      "======\n",
      "Related BPIDs found:  2 = ['3000147920', '3000675571']\n"
     ]
    },
    {
     "data": {
      "application/vnd.jupyter.widget-view+json": {
       "model_id": "37487346709f4e65ad91b3e1afa426f3",
       "version_major": 2,
       "version_minor": 0
      },
      "text/plain": [
       "HBox(children=(FloatProgress(value=0.0, max=2.0), HTML(value='')))"
      ]
     },
     "metadata": {},
     "output_type": "display_data"
    },
    {
     "name": "stdout",
     "output_type": "stream",
     "text": [
      "===\n",
      "Extracting Nature Usage for 3000147920  -- top level= 3000147920 Site_id= 4570\n",
      "..saving.. /Volumes/Albano/2020-08-06-holding-analysis-extraction/3000147920/3000147920_usage_nature.csv\n",
      "...mapping from 3000675571  to Site_id not found: skipping\n",
      "\n",
      "======\n",
      "Checking Pre-saved Hierarchy for BPID:  2000053714 \n",
      "======\n",
      "Related BPIDs found:  6 = ['2000053714', '3000137278', '3000137282', '3000205744', '3003169293', '3902044458']\n"
     ]
    },
    {
     "data": {
      "application/vnd.jupyter.widget-view+json": {
       "model_id": "3b5e382d064a4008a5109712515c1762",
       "version_major": 2,
       "version_minor": 0
      },
      "text/plain": [
       "HBox(children=(FloatProgress(value=0.0, max=6.0), HTML(value='')))"
      ]
     },
     "metadata": {},
     "output_type": "display_data"
    },
    {
     "name": "stdout",
     "output_type": "stream",
     "text": [
      "===\n",
      "Extracting Nature Usage for 2000053714  -- top level= 2000053714 Site_id= 20026\n",
      "..saving.. /Volumes/Albano/2020-08-06-holding-analysis-extraction/2000053714/2000053714_usage_nature.csv\n",
      "...mapping from 3000137278  to Site_id not found: skipping\n",
      "...mapping from 3000137282  to Site_id not found: skipping\n",
      "...mapping from 3000205744  to Site_id not found: skipping\n",
      "...mapping from 3003169293  to Site_id not found: skipping\n",
      "...mapping from 3902044458  to Site_id not found: skipping\n",
      "\n",
      "======\n",
      "Checking Pre-saved Hierarchy for BPID:  8200707539 \n",
      "======\n",
      "Related BPIDs found:  2 = ['8200707539', '8200828607']\n"
     ]
    },
    {
     "data": {
      "application/vnd.jupyter.widget-view+json": {
       "model_id": "0618e48817284025a63e2cf726924d9f",
       "version_major": 2,
       "version_minor": 0
      },
      "text/plain": [
       "HBox(children=(FloatProgress(value=0.0, max=2.0), HTML(value='')))"
      ]
     },
     "metadata": {},
     "output_type": "display_data"
    },
    {
     "name": "stdout",
     "output_type": "stream",
     "text": [
      "===\n",
      "Extracting Nature Usage for 8200707539  -- top level= 8200707539 Site_id= 7143\n",
      "..saving.. /Volumes/Albano/2020-08-06-holding-analysis-extraction/8200707539/8200707539_usage_nature.csv\n",
      "...mapping from 8200828607  to Site_id not found: skipping\n",
      "\n",
      "======\n",
      "Checking Pre-saved Hierarchy for BPID:  2000668629 \n",
      "======\n",
      "Related BPIDs found:  2 = ['2000668629', '8200828607']\n"
     ]
    },
    {
     "data": {
      "application/vnd.jupyter.widget-view+json": {
       "model_id": "563c9ff10e8448d0887eac52b00c03df",
       "version_major": 2,
       "version_minor": 0
      },
      "text/plain": [
       "HBox(children=(FloatProgress(value=0.0, max=2.0), HTML(value='')))"
      ]
     },
     "metadata": {},
     "output_type": "display_data"
    },
    {
     "name": "stdout",
     "output_type": "stream",
     "text": [
      "===\n",
      "Extracting Nature Usage for 2000668629  -- top level= 2000668629 Site_id= 996\n",
      "..saving.. /Volumes/Albano/2020-08-06-holding-analysis-extraction/2000668629/2000668629_usage_nature.csv\n",
      "...mapping from 8200828607  to Site_id not found: skipping\n",
      "\n",
      "======\n",
      "Checking Pre-saved Hierarchy for BPID:  3000171993 \n",
      "======\n",
      "Related BPIDs found:  5 = ['3000171993', '3000180852', '3000155420', '3003532199', '3004220731']\n"
     ]
    },
    {
     "data": {
      "application/vnd.jupyter.widget-view+json": {
       "model_id": "c69e1a83e0c04ab19cc659fc2532ac08",
       "version_major": 2,
       "version_minor": 0
      },
      "text/plain": [
       "HBox(children=(FloatProgress(value=0.0, max=5.0), HTML(value='')))"
      ]
     },
     "metadata": {},
     "output_type": "display_data"
    },
    {
     "name": "stdout",
     "output_type": "stream",
     "text": [
      "===\n",
      "Extracting Nature Usage for 3000171993  -- top level= 3000171993 Site_id= 11976\n",
      "..saving.. /Volumes/Albano/2020-08-06-holding-analysis-extraction/3000171993/3000171993_usage_nature.csv\n",
      "...mapping from 3000180852  to Site_id not found: skipping\n",
      "...mapping from 3000155420  to Site_id not found: skipping\n",
      "...mapping from 3003532199  to Site_id not found: skipping\n",
      "...mapping from 3004220731  to Site_id not found: skipping\n",
      "\n",
      "======\n",
      "Checking Pre-saved Hierarchy for BPID:  1000792026 \n",
      "======\n",
      "Related BPIDs found:  9 = ['1000792026', '3000122820', '3000179129', '3000198352', '3000219314', '3991330314', '3001139967', '3002011430', '3002114477']\n"
     ]
    },
    {
     "data": {
      "application/vnd.jupyter.widget-view+json": {
       "model_id": "3eef098f5c30484c83a65c6f784e3cd6",
       "version_major": 2,
       "version_minor": 0
      },
      "text/plain": [
       "HBox(children=(FloatProgress(value=0.0, max=9.0), HTML(value='')))"
      ]
     },
     "metadata": {},
     "output_type": "display_data"
    },
    {
     "name": "stdout",
     "output_type": "stream",
     "text": [
      "===\n",
      "Extracting Nature Usage for 1000792026  -- top level= 1000792026 Site_id= 6434\n",
      "..saving.. /Volumes/Albano/2020-08-06-holding-analysis-extraction/1000792026/1000792026_usage_nature.csv\n",
      "...mapping from 3000122820  to Site_id not found: skipping\n",
      "...mapping from 3000179129  to Site_id not found: skipping\n",
      "...mapping from 3000198352  to Site_id not found: skipping\n",
      "...mapping from 3000219314  to Site_id not found: skipping\n",
      "...mapping from 3991330314  to Site_id not found: skipping\n",
      "...mapping from 3001139967  to Site_id not found: skipping\n",
      "...mapping from 3002011430  to Site_id not found: skipping\n",
      "...mapping from 3002114477  to Site_id not found: skipping\n",
      "\n",
      "======\n",
      "Checking Pre-saved Hierarchy for BPID:  2000703964 \n",
      "======\n",
      "Related BPIDs found:  1 = ['2000703964']\n"
     ]
    },
    {
     "data": {
      "application/vnd.jupyter.widget-view+json": {
       "model_id": "a7350a9593694d4496d4ecbffecb168f",
       "version_major": 2,
       "version_minor": 0
      },
      "text/plain": [
       "HBox(children=(FloatProgress(value=0.0, max=1.0), HTML(value='')))"
      ]
     },
     "metadata": {},
     "output_type": "display_data"
    },
    {
     "name": "stdout",
     "output_type": "stream",
     "text": [
      "...mapping from 2000703964  to Site_id not found: skipping\n",
      "\n",
      "======\n",
      "Checking Pre-saved Hierarchy for BPID:  2000175069 \n",
      "======\n",
      "Related BPIDs found:  4 = ['2000175069', '3000132959', '3000178880', '3994475188']\n"
     ]
    },
    {
     "data": {
      "application/vnd.jupyter.widget-view+json": {
       "model_id": "bd72ce1de1a34b7ca7389732bce5cf08",
       "version_major": 2,
       "version_minor": 0
      },
      "text/plain": [
       "HBox(children=(FloatProgress(value=0.0, max=4.0), HTML(value='')))"
      ]
     },
     "metadata": {},
     "output_type": "display_data"
    },
    {
     "name": "stdout",
     "output_type": "stream",
     "text": [
      "===\n",
      "Extracting Nature Usage for 2000175069  -- top level= 2000175069 Site_id= 8717\n",
      "..saving.. /Volumes/Albano/2020-08-06-holding-analysis-extraction/2000175069/2000175069_usage_nature.csv\n",
      "...mapping from 3000132959  to Site_id not found: skipping\n",
      "...mapping from 3000178880  to Site_id not found: skipping\n",
      "...mapping from 3994475188  to Site_id not found: skipping\n",
      "\n",
      "======\n",
      "Checking Pre-saved Hierarchy for BPID:  3000148958 \n",
      "======\n",
      "Related BPIDs found:  2 = ['3000148958', '3000675571']\n"
     ]
    },
    {
     "data": {
      "application/vnd.jupyter.widget-view+json": {
       "model_id": "8525da4498ff40e5a83acda00265200b",
       "version_major": 2,
       "version_minor": 0
      },
      "text/plain": [
       "HBox(children=(FloatProgress(value=0.0, max=2.0), HTML(value='')))"
      ]
     },
     "metadata": {},
     "output_type": "display_data"
    },
    {
     "name": "stdout",
     "output_type": "stream",
     "text": [
      "===\n",
      "Extracting Nature Usage for 3000148958  -- top level= 3000148958 Site_id= 9508\n",
      "..saving.. /Volumes/Albano/2020-08-06-holding-analysis-extraction/3000148958/3000148958_usage_nature.csv\n",
      "...mapping from 3000675571  to Site_id not found: skipping\n",
      "\n",
      "======\n",
      "Checking Pre-saved Hierarchy for BPID:  3000121820 \n",
      "======\n",
      "Related BPIDs found:  10 = ['3000121820', '3000122058', '3000256744', '3000504908', '3000506431', '3000122086', '3000133272', '3000740042', '3000955687', '3001044270']\n"
     ]
    },
    {
     "data": {
      "application/vnd.jupyter.widget-view+json": {
       "model_id": "d535ac6612c14a9d8e2f418b697c2709",
       "version_major": 2,
       "version_minor": 0
      },
      "text/plain": [
       "HBox(children=(FloatProgress(value=0.0, max=10.0), HTML(value='')))"
      ]
     },
     "metadata": {},
     "output_type": "display_data"
    },
    {
     "name": "stdout",
     "output_type": "stream",
     "text": [
      "===\n",
      "Extracting Nature Usage for 3000121820  -- top level= 3000121820 Site_id= 12033\n",
      "..saving.. /Volumes/Albano/2020-08-06-holding-analysis-extraction/3000121820/3000121820_usage_nature.csv\n",
      "...mapping from 3000122058  to Site_id not found: skipping\n",
      "...mapping from 3000256744  to Site_id not found: skipping\n",
      "...mapping from 3000504908  to Site_id not found: skipping\n",
      "...mapping from 3000506431  to Site_id not found: skipping\n",
      "...mapping from 3000122086  to Site_id not found: skipping\n",
      "...mapping from 3000133272  to Site_id not found: skipping\n",
      "...mapping from 3000740042  to Site_id not found: skipping\n",
      "...mapping from 3000955687  to Site_id not found: skipping\n",
      "...mapping from 3001044270  to Site_id not found: skipping\n",
      "\n",
      "======\n",
      "Checking Pre-saved Hierarchy for BPID:  2000330216 \n",
      "======\n",
      "Related BPIDs found:  10 = ['2000330216', '3000122820', '3000198352', '3000219314', '3991330314', '3001139967', '3002011430', '3002076494', '3002114477', '3002901800']\n"
     ]
    },
    {
     "data": {
      "application/vnd.jupyter.widget-view+json": {
       "model_id": "2f7b70f3b63045d2a7b3ec8c26ea9cde",
       "version_major": 2,
       "version_minor": 0
      },
      "text/plain": [
       "HBox(children=(FloatProgress(value=0.0, max=10.0), HTML(value='')))"
      ]
     },
     "metadata": {},
     "output_type": "display_data"
    },
    {
     "name": "stdout",
     "output_type": "stream",
     "text": [
      "===\n",
      "Extracting Nature Usage for 2000330216  -- top level= 2000330216 Site_id= 1140\n",
      "..saving.. /Volumes/Albano/2020-08-06-holding-analysis-extraction/2000330216/2000330216_usage_nature.csv\n",
      "...mapping from 3000122820  to Site_id not found: skipping\n",
      "...mapping from 3000198352  to Site_id not found: skipping\n",
      "...mapping from 3000219314  to Site_id not found: skipping\n",
      "...mapping from 3991330314  to Site_id not found: skipping\n",
      "...mapping from 3001139967  to Site_id not found: skipping\n",
      "...mapping from 3002011430  to Site_id not found: skipping\n",
      "...mapping from 3002076494  to Site_id not found: skipping\n",
      "...mapping from 3002114477  to Site_id not found: skipping\n",
      "...mapping from 3002901800  to Site_id not found: skipping\n",
      "\n",
      "======\n",
      "Checking Pre-saved Hierarchy for BPID:  3000633321 \n",
      "======\n",
      "++++ ERROR ++++\n",
      "Errors index = [3003695120, 30036927080, 3003343017, 2000341714, 8200769361, 3000633321]\n"
     ]
    },
    {
     "data": {
      "application/vnd.jupyter.widget-view+json": {
       "model_id": "d746ef3868054537adae00f4ddee4bff",
       "version_major": 2,
       "version_minor": 0
      },
      "text/plain": [
       "HBox(children=(FloatProgress(value=1.0, bar_style='info', max=1.0), HTML(value='')))"
      ]
     },
     "metadata": {},
     "output_type": "display_data"
    },
    {
     "name": "stdout",
     "output_type": "stream",
     "text": [
      "\n",
      "======\n",
      "Checking Pre-saved Hierarchy for BPID:  2000659946 \n",
      "======\n",
      "Related BPIDs found:  2 = ['2000659946', '3000229245']\n"
     ]
    },
    {
     "data": {
      "application/vnd.jupyter.widget-view+json": {
       "model_id": "9a0ae4676caf4bf6942959ff2f41e037",
       "version_major": 2,
       "version_minor": 0
      },
      "text/plain": [
       "HBox(children=(FloatProgress(value=0.0, max=2.0), HTML(value='')))"
      ]
     },
     "metadata": {},
     "output_type": "display_data"
    },
    {
     "name": "stdout",
     "output_type": "stream",
     "text": [
      "===\n",
      "Extracting Nature Usage for 2000659946  -- top level= 2000659946 Site_id= 25058\n",
      "..saving.. /Volumes/Albano/2020-08-06-holding-analysis-extraction/2000659946/2000659946_usage_nature.csv\n",
      "...mapping from 3000229245  to Site_id not found: skipping\n",
      "\n",
      "======\n",
      "Checking Pre-saved Hierarchy for BPID:  3991329770 \n",
      "======\n",
      "Related BPIDs found:  1 = ['3991329770']\n"
     ]
    },
    {
     "data": {
      "application/vnd.jupyter.widget-view+json": {
       "model_id": "a852cbea6c5347a1beb9a6f78b176c08",
       "version_major": 2,
       "version_minor": 0
      },
      "text/plain": [
       "HBox(children=(FloatProgress(value=0.0, max=1.0), HTML(value='')))"
      ]
     },
     "metadata": {},
     "output_type": "display_data"
    },
    {
     "name": "stdout",
     "output_type": "stream",
     "text": [
      "...mapping from 3991329770  to Site_id not found: skipping\n",
      "\n",
      "======\n",
      "Checking Pre-saved Hierarchy for BPID:  3000121833 \n",
      "======\n",
      "Related BPIDs found:  3 = ['3000121833', '8200828607', '3000176756']\n"
     ]
    },
    {
     "data": {
      "application/vnd.jupyter.widget-view+json": {
       "model_id": "2177ba4eb34c4dddae60faf0f0355961",
       "version_major": 2,
       "version_minor": 0
      },
      "text/plain": [
       "HBox(children=(FloatProgress(value=0.0, max=3.0), HTML(value='')))"
      ]
     },
     "metadata": {},
     "output_type": "display_data"
    },
    {
     "name": "stdout",
     "output_type": "stream",
     "text": [
      "===\n",
      "Extracting Nature Usage for 3000121833  -- top level= 3000121833 Site_id= 7919\n",
      "..saving.. /Volumes/Albano/2020-08-06-holding-analysis-extraction/3000121833/3000121833_usage_nature.csv\n",
      "...mapping from 8200828607  to Site_id not found: skipping\n",
      "...mapping from 3000176756  to Site_id not found: skipping\n",
      "\n",
      "======\n",
      "Checking Pre-saved Hierarchy for BPID:  2000340463 \n",
      "======\n",
      "Related BPIDs found:  1 = ['2000340463']\n"
     ]
    },
    {
     "data": {
      "application/vnd.jupyter.widget-view+json": {
       "model_id": "7e9a6b276cf3488dab97c19bf443379b",
       "version_major": 2,
       "version_minor": 0
      },
      "text/plain": [
       "HBox(children=(FloatProgress(value=0.0, max=1.0), HTML(value='')))"
      ]
     },
     "metadata": {},
     "output_type": "display_data"
    },
    {
     "name": "stdout",
     "output_type": "stream",
     "text": [
      "===\n",
      "Extracting Nature Usage for 2000340463  -- top level= 2000340463 Site_id= 7411\n",
      "..saving.. /Volumes/Albano/2020-08-06-holding-analysis-extraction/2000340463/2000340463_usage_nature.csv\n",
      "\n",
      "======\n",
      "Checking Pre-saved Hierarchy for BPID:  8200969199 \n",
      "======\n",
      "Related BPIDs found:  3 = ['8200969199', '8200828607', '3003089239']\n"
     ]
    },
    {
     "data": {
      "application/vnd.jupyter.widget-view+json": {
       "model_id": "0b89dd25cb694cac92d375a894bd160b",
       "version_major": 2,
       "version_minor": 0
      },
      "text/plain": [
       "HBox(children=(FloatProgress(value=0.0, max=3.0), HTML(value='')))"
      ]
     },
     "metadata": {},
     "output_type": "display_data"
    },
    {
     "name": "stdout",
     "output_type": "stream",
     "text": [
      "===\n",
      "Extracting Nature Usage for 8200969199  -- top level= 8200969199 Site_id= 1280\n",
      "..saving.. /Volumes/Albano/2020-08-06-holding-analysis-extraction/8200969199/8200969199_usage_nature.csv\n",
      "...mapping from 8200828607  to Site_id not found: skipping\n",
      "...mapping from 3003089239  to Site_id not found: skipping\n",
      "\n",
      "======\n",
      "Checking Pre-saved Hierarchy for BPID:  8200696305 \n",
      "======\n",
      "Related BPIDs found:  2 = ['8200696305', '8200828607']\n"
     ]
    },
    {
     "data": {
      "application/vnd.jupyter.widget-view+json": {
       "model_id": "a7e71f9be6c14ff5b0e53fdd42eaeda5",
       "version_major": 2,
       "version_minor": 0
      },
      "text/plain": [
       "HBox(children=(FloatProgress(value=0.0, max=2.0), HTML(value='')))"
      ]
     },
     "metadata": {},
     "output_type": "display_data"
    },
    {
     "name": "stdout",
     "output_type": "stream",
     "text": [
      "===\n",
      "Extracting Nature Usage for 8200696305  -- top level= 8200696305 Site_id= 1661\n",
      "..saving.. /Volumes/Albano/2020-08-06-holding-analysis-extraction/8200696305/8200696305_usage_nature.csv\n",
      "...mapping from 8200828607  to Site_id not found: skipping\n",
      "\n",
      "======\n",
      "Checking Pre-saved Hierarchy for BPID:  8200150001 \n",
      "======\n",
      "Related BPIDs found:  2 = ['8200150001', '8200828607']\n"
     ]
    },
    {
     "data": {
      "application/vnd.jupyter.widget-view+json": {
       "model_id": "0010928fea414166bb4af973e6a138a4",
       "version_major": 2,
       "version_minor": 0
      },
      "text/plain": [
       "HBox(children=(FloatProgress(value=0.0, max=2.0), HTML(value='')))"
      ]
     },
     "metadata": {},
     "output_type": "display_data"
    },
    {
     "name": "stdout",
     "output_type": "stream",
     "text": [
      "===\n",
      "Extracting Nature Usage for 8200150001  -- top level= 8200150001 Site_id= 4984\n",
      "..saving.. /Volumes/Albano/2020-08-06-holding-analysis-extraction/8200150001/8200150001_usage_nature.csv\n",
      "...mapping from 8200828607  to Site_id not found: skipping\n",
      "\n",
      "======\n",
      "Checking Pre-saved Hierarchy for BPID:  3000121840 \n",
      "======\n",
      "Related BPIDs found:  2 = ['3000121840', '8200828607']\n"
     ]
    },
    {
     "data": {
      "application/vnd.jupyter.widget-view+json": {
       "model_id": "d5494dbdee0d44d3961db9207606212d",
       "version_major": 2,
       "version_minor": 0
      },
      "text/plain": [
       "HBox(children=(FloatProgress(value=0.0, max=2.0), HTML(value='')))"
      ]
     },
     "metadata": {},
     "output_type": "display_data"
    },
    {
     "name": "stdout",
     "output_type": "stream",
     "text": [
      "===\n",
      "Extracting Nature Usage for 3000121840  -- top level= 3000121840 Site_id= 994\n",
      "..saving.. /Volumes/Albano/2020-08-06-holding-analysis-extraction/3000121840/3000121840_usage_nature.csv\n",
      "...mapping from 8200828607  to Site_id not found: skipping\n",
      "\n",
      "======\n",
      "Checking Pre-saved Hierarchy for BPID:  2000349174 \n",
      "======\n",
      "Related BPIDs found:  1 = ['2000349174']\n"
     ]
    },
    {
     "data": {
      "application/vnd.jupyter.widget-view+json": {
       "model_id": "305127e150ac4452bb2a55a0acb03f1d",
       "version_major": 2,
       "version_minor": 0
      },
      "text/plain": [
       "HBox(children=(FloatProgress(value=0.0, max=1.0), HTML(value='')))"
      ]
     },
     "metadata": {},
     "output_type": "display_data"
    },
    {
     "name": "stdout",
     "output_type": "stream",
     "text": [
      "===\n",
      "Extracting Nature Usage for 2000349174  -- top level= 2000349174 Site_id= 22319\n",
      "..saving.. /Volumes/Albano/2020-08-06-holding-analysis-extraction/2000349174/2000349174_usage_nature.csv\n",
      "\n",
      "======\n",
      "Checking Pre-saved Hierarchy for BPID:  2000429567 \n",
      "======\n",
      "Related BPIDs found:  1 = ['2000429567']\n"
     ]
    },
    {
     "data": {
      "application/vnd.jupyter.widget-view+json": {
       "model_id": "09ddf18ed8e9426d9831627b1beea454",
       "version_major": 2,
       "version_minor": 0
      },
      "text/plain": [
       "HBox(children=(FloatProgress(value=0.0, max=1.0), HTML(value='')))"
      ]
     },
     "metadata": {},
     "output_type": "display_data"
    },
    {
     "name": "stdout",
     "output_type": "stream",
     "text": [
      "===\n",
      "Extracting Nature Usage for 2000429567  -- top level= 2000429567 Site_id= 12883\n",
      "..saving.. /Volumes/Albano/2020-08-06-holding-analysis-extraction/2000429567/2000429567_usage_nature.csv\n",
      "\n",
      "\n",
      "**** completed ****\n",
      "Errors index = [3003695120, 30036927080, 3003343017, 2000341714, 8200769361, 3000633321]\n"
     ]
    }
   ],
   "source": [
    "gbq_query = '''\n",
    "Select DOI, Usage_2016, Usage_2017, Usage_2018, Denials_2016, Denials_2017, Denials_2018 FROM (\n",
    "\n",
    "SELECT\n",
    "Site_ID, Item_DOI as DOI,  sum(clicks),\n",
    "\n",
    "sum(Case when Calendar_Year = 2016 and Access_YN = 'Y' Then Clicks Else 0 END) as Usage_2016,\n",
    "sum(Case when Calendar_Year = 2017 and Access_YN = 'Y' Then Clicks Else 0 END) as Usage_2017,\n",
    "sum(Case when Calendar_Year = 2018 and Access_YN = 'Y' Then Clicks Else 0 END) as Usage_2018,\n",
    "sum(Case when Calendar_Year = 2016 and Access_YN = 'N' Then Clicks Else 0 END) as Denials_2016,\n",
    "sum(Case when Calendar_Year = 2017 and Access_YN = 'N' Then Clicks Else 0 END) as Denials_2017,\n",
    "sum(Case when Calendar_Year = 2018 and Access_YN = 'N' Then Clicks Else 0 END) as Denials_2018,\n",
    "\n",
    "FROM `usage-data-reporting.PROD_IFM_Usage.mv_usage_bp_monthly_nat`\n",
    "Where\n",
    "Item_DOI is not null\n",
    "and DOI is not null\n",
    "and clicks is not null\n",
    "and Calendar_Year in (2016, 2017, 2018)\n",
    "Group by 1, 2\n",
    "Order by 1, 2)\n",
    "\n",
    "Where Site_ID = '{}'\n",
    "'''\n",
    "\n",
    "\n",
    "def extract_usage_nature(BPID, BPID_TOP=None, skip_if_exists=True):\n",
    "    \"Extract nature usage via bpid-siteid mappings. Default: skip extraction if file already exists in destination\"\n",
    "    if not BPID_TOP:\n",
    "        BPID_TOP = BPID\n",
    "    SITE_ID = bpid_to_siteid(int(BPID))\n",
    "    BPID, BPID_TOP = str(BPID), str(BPID_TOP)\n",
    "    path = gen_bpid_folder(BPID_TOP)\n",
    "    if SITE_ID:\n",
    "        print(\"===\\nExtracting Nature Usage for\", BPID, \" -- top level=\", BPID_TOP, \"Site_id=\", SITE_ID)\n",
    "        #\n",
    "        filename = path + BPID + \"_usage_nature.csv\"\n",
    "        if os.path.exists(filename) and skip_if_exists:\n",
    "            print(\"..skipping.. file exists:\", filename)\n",
    "        else:\n",
    "            query_job = client_ref.query(gbq_query.format(str(SITE_ID))).to_dataframe()\n",
    "            print(\"..saving..\", filename)\n",
    "            query_job.to_csv(path + BPID + \"_usage_nature.csv\", index=False)\n",
    "    else:\n",
    "        print(\"...mapping from\", BPID, \" to Site_id not found: skipping\")\n",
    " \n",
    "        \n",
    "# eg\n",
    "if False:\n",
    "    for x in progress(BPIDS_LIST_UNIQUE[:10]):\n",
    "        extract_usage_nature(x)\n",
    "\n",
    "\n",
    "errors = []\n",
    "\n",
    "for b1 in progress(BPIDS_LIST_UNIQUE):\n",
    "    try:\n",
    "        related = extract_related_bpids_from_local_file(b1)\n",
    "    except:\n",
    "        related = []\n",
    "        errors.append(b1)\n",
    "        print(\"++++ ERROR ++++\")\n",
    "        print(\"Errors index =\", errors)\n",
    "    # if BPIDs are found\n",
    "    for b2 in progress(related):\n",
    "        extract_usage_nature(b2, b1)\n",
    "\n",
    "print(\"**** completed ****\")\n",
    "print(\"Errors index =\", errors)"
   ]
  },
  {
   "cell_type": "markdown",
   "metadata": {
    "Collapsed": "false"
   },
   "source": [
    "## 4. QAing the data\n",
    "\n",
    "### identifiers info"
   ]
  },
  {
   "cell_type": "code",
   "execution_count": 51,
   "metadata": {
    "Collapsed": "false"
   },
   "outputs": [
    {
     "name": "stdout",
     "output_type": "stream",
     "text": [
      "BPIDs:  192\n",
      "BPIDs unique:  189\n",
      "SiteIDs:  9699\n",
      "BPIDs (unique) mapped to SiteIDs:  151\n"
     ]
    }
   ],
   "source": [
    "print(\"BPIDs: \", len(BPIDS_LIST)) \n",
    "print(\"BPIDs unique: \", len(BPIDS_LIST_UNIQUE)) \n",
    "print(\"SiteIDs: \", len(siteids)) \n",
    "print(\"BPIDs (unique) mapped to SiteIDs: \", count_bpid_mapped())   "
   ]
  },
  {
   "cell_type": "markdown",
   "metadata": {
    "Collapsed": "false"
   },
   "source": [
    "### combined table BPIDs + SiteIDs"
   ]
  },
  {
   "cell_type": "code",
   "execution_count": 92,
   "metadata": {
    "Collapsed": "false"
   },
   "outputs": [
    {
     "data": {
      "text/html": [
       "<div>\n",
       "<style scoped>\n",
       "    .dataframe tbody tr th:only-of-type {\n",
       "        vertical-align: middle;\n",
       "    }\n",
       "\n",
       "    .dataframe tbody tr th {\n",
       "        vertical-align: top;\n",
       "    }\n",
       "\n",
       "    .dataframe thead th {\n",
       "        text-align: right;\n",
       "    }\n",
       "</style>\n",
       "<table border=\"1\" class=\"dataframe\">\n",
       "  <thead>\n",
       "    <tr style=\"text-align: right;\">\n",
       "      <th></th>\n",
       "      <th>BPID</th>\n",
       "      <th>Account</th>\n",
       "      <th>Contact</th>\n",
       "      <th>SITEID</th>\n",
       "    </tr>\n",
       "  </thead>\n",
       "  <tbody>\n",
       "    <tr>\n",
       "      <th>0</th>\n",
       "      <td>3000612920</td>\n",
       "      <td>Research Organization of Information</td>\n",
       "      <td>Martijn Timman</td>\n",
       "      <td>None</td>\n",
       "    </tr>\n",
       "    <tr>\n",
       "      <th>1</th>\n",
       "      <td>2000703964</td>\n",
       "      <td>INSERM DISC-IST</td>\n",
       "      <td>Martijn Timman</td>\n",
       "      <td>None</td>\n",
       "    </tr>\n",
       "    <tr>\n",
       "      <th>2</th>\n",
       "      <td>2000478521</td>\n",
       "      <td>The University of Tokyo</td>\n",
       "      <td>Martijn Timman</td>\n",
       "      <td>4604</td>\n",
       "    </tr>\n",
       "    <tr>\n",
       "      <th>3</th>\n",
       "      <td>2000277680</td>\n",
       "      <td>Shanghai Library / Institute of</td>\n",
       "      <td>Martijn Timman</td>\n",
       "      <td>14945</td>\n",
       "    </tr>\n",
       "    <tr>\n",
       "      <th>4</th>\n",
       "      <td>2000342845</td>\n",
       "      <td>National Library of China NLC</td>\n",
       "      <td>Martijn Timman</td>\n",
       "      <td>12245</td>\n",
       "    </tr>\n",
       "    <tr>\n",
       "      <th>...</th>\n",
       "      <td>...</td>\n",
       "      <td>...</td>\n",
       "      <td>...</td>\n",
       "      <td>...</td>\n",
       "    </tr>\n",
       "    <tr>\n",
       "      <th>187</th>\n",
       "      <td>3000142567</td>\n",
       "      <td>Wesleyan University</td>\n",
       "      <td>Dylan Moulton</td>\n",
       "      <td>1558</td>\n",
       "    </tr>\n",
       "    <tr>\n",
       "      <th>188</th>\n",
       "      <td>8200178197</td>\n",
       "      <td>Wheaton College</td>\n",
       "      <td>Dylan Moulton</td>\n",
       "      <td>9660</td>\n",
       "    </tr>\n",
       "    <tr>\n",
       "      <th>189</th>\n",
       "      <td>8200699471</td>\n",
       "      <td>Williams College</td>\n",
       "      <td>Dylan Moulton</td>\n",
       "      <td>4474</td>\n",
       "    </tr>\n",
       "    <tr>\n",
       "      <th>190</th>\n",
       "      <td>8200711893</td>\n",
       "      <td>Worcester Polytechnic Institute</td>\n",
       "      <td>Dylan Moulton</td>\n",
       "      <td>1566</td>\n",
       "    </tr>\n",
       "    <tr>\n",
       "      <th>191</th>\n",
       "      <td>8200930480</td>\n",
       "      <td>Yale University &amp; Yale University Medical School</td>\n",
       "      <td>Dylan Moulton</td>\n",
       "      <td>1282</td>\n",
       "    </tr>\n",
       "  </tbody>\n",
       "</table>\n",
       "<p>192 rows × 4 columns</p>\n",
       "</div>"
      ],
      "text/plain": [
       "           BPID                                           Account  \\\n",
       "0    3000612920              Research Organization of Information   \n",
       "1    2000703964                                   INSERM DISC-IST   \n",
       "2    2000478521                           The University of Tokyo   \n",
       "3    2000277680                   Shanghai Library / Institute of   \n",
       "4    2000342845                     National Library of China NLC   \n",
       "..          ...                                               ...   \n",
       "187  3000142567                               Wesleyan University   \n",
       "188  8200178197                                   Wheaton College   \n",
       "189  8200699471                                  Williams College   \n",
       "190  8200711893                   Worcester Polytechnic Institute   \n",
       "191  8200930480  Yale University & Yale University Medical School   \n",
       "\n",
       "            Contact SITEID  \n",
       "0    Martijn Timman   None  \n",
       "1    Martijn Timman   None  \n",
       "2    Martijn Timman   4604  \n",
       "3    Martijn Timman  14945  \n",
       "4    Martijn Timman  12245  \n",
       "..              ...    ...  \n",
       "187   Dylan Moulton   1558  \n",
       "188   Dylan Moulton   9660  \n",
       "189   Dylan Moulton   4474  \n",
       "190   Dylan Moulton   1566  \n",
       "191   Dylan Moulton   1282  \n",
       "\n",
       "[192 rows x 4 columns]"
      ]
     },
     "execution_count": 92,
     "metadata": {},
     "output_type": "execute_result"
    }
   ],
   "source": [
    "bpids['SITEID'] = bpids.apply(lambda x: str(bpid_to_siteid(x['BPID'])), axis=1)\n",
    "bpids.to_csv(\"data_output/bpids_siteids_combined.csv\", index=False)\n",
    "bpids"
   ]
  },
  {
   "cell_type": "markdown",
   "metadata": {
    "Collapsed": "false"
   },
   "source": [
    "### folders created (from IDs) "
   ]
  },
  {
   "cell_type": "code",
   "execution_count": 46,
   "metadata": {
    "Collapsed": "false"
   },
   "outputs": [],
   "source": [
    "path = \"/Volumes/Albano/2020-08-06-holding-analysis-extraction\""
   ]
  },
  {
   "cell_type": "code",
   "execution_count": 54,
   "metadata": {
    "Collapsed": "false"
   },
   "outputs": [
    {
     "name": "stdout",
     "output_type": "stream",
     "text": [
      "Folders in output:  189\n",
      "BPIDs missing from folders output: []\n"
     ]
    }
   ],
   "source": [
    "folders = [f for f in os.listdir(path) if not f.startswith('.')]\n",
    "print(\"Folders in output: \", len(folders))\n",
    "difference = [x for x in BPIDS_LIST_UNIQUE if str(x)  not in folders]\n",
    "print(\"BPIDs missing from folders output:\", difference)"
   ]
  },
  {
   "cell_type": "markdown",
   "metadata": {
    "Collapsed": "false"
   },
   "source": [
    "### folders that don't contain any BPIDs hierarchy info \n",
    "\n",
    "that's because the API calls above failed (section 1)"
   ]
  },
  {
   "cell_type": "code",
   "execution_count": 93,
   "metadata": {
    "Collapsed": "false"
   },
   "outputs": [
    {
     "name": "stdout",
     "output_type": "stream",
     "text": [
      "['2000341714', '3000633321', '3003343017', '30036927080', '3003695120', '8200769361']\n"
     ]
    }
   ],
   "source": [
    "path = \"/Volumes/Albano/2020-08-06-holding-analysis-extraction\"\n",
    "folders = [f for f in os.listdir(path) if not f.startswith('.')]\n",
    "errors = []\n",
    "for f in folders:\n",
    "    if not os.path.exists(path+\"/\"+f+\"/children.json\") and not os.path.exists(path+\"/\"+f+\"/parents.json\"):\n",
    "        errors.append(f)\n",
    "        \n",
    "print(errors)"
   ]
  },
  {
   "cell_type": "markdown",
   "metadata": {
    "Collapsed": "false"
   },
   "source": [
    "memo: compress results at the end with \n",
    "\n",
    "```\n",
    "tar -zcvf 2020-08-06-holding-analysis-extraction.tar.qz 2020-08-06-holding-analysis-extraction\n",
    "```"
   ]
  }
 ],
 "metadata": {
  "kernelspec": {
   "display_name": "Python 3",
   "language": "python",
   "name": "python3"
  },
  "language_info": {
   "codemirror_mode": {
    "name": "ipython",
    "version": 3
   },
   "file_extension": ".py",
   "mimetype": "text/x-python",
   "name": "python",
   "nbconvert_exporter": "python",
   "pygments_lexer": "ipython3",
   "version": "3.8.5"
  }
 },
 "nbformat": 4,
 "nbformat_minor": 4
}
