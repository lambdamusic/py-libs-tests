{
 "cells": [
  {
   "cell_type": "markdown",
   "metadata": {
    "Collapsed": "false"
   },
   "source": [
    "# Connnecting to BigQuery\n",
    "\n",
    "## <center> <font color=#DB1830>This document shows the recommended way to authenticate to a Cloud API</center> </font>  \n",
    "\n",
    "\n",
    "#### Doc:  \n",
    "#### https://cloud.google.com/docs/authentication/  \n",
    "#### https://github.com/GoogleCloudPlatform/google-cloud-python/tree/master/bigquery\n",
    "#### https://googlecloudplatform.github.io/google-cloud-python/latest/bigquery/reference.html  \n",
    "\n",
    "\n",
    "\n"
   ]
  },
  {
   "cell_type": "markdown",
   "metadata": {
    "Collapsed": "false"
   },
   "source": [
    "\n",
    "#### GCP client libraries use a strategy called Application Default Credentials (ADC) to find your application's credentials. When your code uses a client library, the strategy checks for your credentials in the following order:\n",
    "\n",
    "1. First, ADC checks to see if the environment variable **GOOGLE_APPLICATION_CREDENTIALS** is set. If the variable is set, ADC uses the service account file that the variable points to. The next section describes how to set the environment variable.\n",
    "\n",
    "2. If the environment variable isn't set, ADC uses the default service account that Compute Engine, Kubernetes Engine, Cloud Run, App Engine, and Cloud Functions provide, for applications that run on those services.\n",
    "\n",
    "3. If ADC can't use either of the above credentials, an error occurs.\n"
   ]
  },
  {
   "cell_type": "markdown",
   "metadata": {
    "Collapsed": "false"
   },
   "source": [
    "#### How setting a Service Account and an Environment Variable\n",
    "#### Doc: https://cloud.google.com/docs/authentication/getting-started/ \n",
    "\n",
    "##### Create a Service Account (GCP Project owners)\n",
    "1. From Google Cloud Console select your project\n",
    "2. Go to the Create service account key [page](https://console.cloud.google.com/iam-admin/serviceaccounts)\n",
    "3. select New service account\n",
    "4. Enter a name an a description: who the Service Account is related to (user, dept, project or application)\n",
    "5. Create a Key, download the .json file with the Credentials and save the file on your laptop\n",
    "6. From the Cloud Console select [IAM](https://console.cloud.google.com/iam-admin/) and assign a role to the Service Account\n",
    "\n",
    "##### Create an Environment Variable (Windows users)\n",
    "1. From Control Panel\\System and Security\\System select Advanced system settings\n",
    "2. Select Environment Varibales\n",
    "3. In the System variables section, create a New variable named **GOOGLE_APPLICATION_CREDENTIALS** and set the path to the .json file with the credentials\n"
   ]
  },
  {
   "cell_type": "markdown",
   "metadata": {
    "Collapsed": "false"
   },
   "source": [
    "##### Verifying authentication\n",
    "By default the credentials stored in the system variable GOOGLE_APPLICATION_CREDENTIALS are used:"
   ]
  },
  {
   "cell_type": "code",
   "execution_count": 5,
   "metadata": {
    "Collapsed": "false"
   },
   "outputs": [
    {
     "name": "stdout",
     "output_type": "stream",
     "text": [
      "Row(('py-account@bi-team-189611.iam.gserviceaccount.com',), {'USER': 0})\n"
     ]
    }
   ],
   "source": [
    "from google.cloud import bigquery\n",
    "\n",
    "project_id = 'bi-team-189611'\n",
    "client_ref = bigquery.Client(project=project_id)\n",
    "\n",
    "query_1 = '''\n",
    "SELECT SESSION_USER() AS USER\n",
    "'''\n",
    "\n",
    "query_job = client_ref.query(query_1)\n",
    "results = query_job.result()\n",
    "for row in results:\n",
    "    print(row)\n"
   ]
  },
  {
   "cell_type": "markdown",
   "metadata": {
    "Collapsed": "false"
   },
   "source": [
    "#### The credentials file can also be called explicitly:\n"
   ]
  },
  {
   "cell_type": "code",
   "execution_count": 7,
   "metadata": {
    "Collapsed": "false"
   },
   "outputs": [
    {
     "name": "stdout",
     "output_type": "stream",
     "text": [
      "Row(('py-account-ag@usage-data-reporting.iam.gserviceaccount.com',), {'USER': 0})\n"
     ]
    }
   ],
   "source": [
    "from google.cloud import bigquery\n",
    "\n",
    "credentials_file = 'C:/Dev/bq/Usage_Reporting_key/usage-data-reporting-0192446b1bb9.json'\n",
    "\n",
    "project_id = 'usage-data-reporting'\n",
    "\n",
    "# Explicitly use service account credentials by specifying the private key file\n",
    "client_ref = bigquery.Client.from_service_account_json(credentials_file)\n",
    "\n",
    "query_1 = '''\n",
    "SELECT SESSION_USER() AS USER\n",
    "'''\n",
    "\n",
    "query_job = client_ref.query(query_1)\n",
    "results = query_job.result()\n",
    "for row in results:\n",
    "    print(row)\n"
   ]
  },
  {
   "cell_type": "markdown",
   "metadata": {
    "Collapsed": "false"
   },
   "source": [
    "#### Example: creating a table in a GBQ dataset using a Pyhton script"
   ]
  },
  {
   "cell_type": "code",
   "execution_count": 9,
   "metadata": {
    "Collapsed": "false"
   },
   "outputs": [
    {
     "name": "stdout",
     "output_type": "stream",
     "text": [
      "2020-01-27 11:43:39.082649  - Table created:  Table(TableReference(DatasetReference('bi-team-189611', 'TR_freshdesk_LDZ'), 'groups3'))\n"
     ]
    }
   ],
   "source": [
    "#################################################################################################\n",
    "# BigQuery: this script creates a table in a GBQ dataset\n",
    "# ###############################################################################################\n",
    "from google.cloud import bigquery\n",
    "import datetime\n",
    "\n",
    "# Define variables\n",
    "project_id = 'bi-team-189611'\n",
    "dataset_id = 'TR_freshdesk_LDZ'\n",
    "table_id = 'groups3'\n",
    "\n",
    "# Set GCP Credentials\n",
    "key_path = 'C:/Dev/fd/bi-team-189611-c78f094e47ef.json'\n",
    "credentials = service_account.Credentials.from_service_account_file(\n",
    "    key_path,\n",
    "    scopes=[\"https://www.googleapis.com/auth/cloud-platform\"],\n",
    ")\n",
    "\n",
    "# Set a client\n",
    "client_ref = bigquery.Client(\n",
    "    credentials=credentials,\n",
    "    project=credentials.project_id,\n",
    ")\n",
    "\n",
    "dataset_ref = client_ref.dataset(dataset_id)\n",
    "table_ref = dataset_ref.table(table_id)\n",
    "\n",
    "#Table Schema\n",
    "table_schema = [\n",
    "        bigquery.SchemaField('id', 'INTEGER', description='Group Id'),\n",
    "        bigquery.SchemaField('created_at', 'TIMESTAMP', description='Group creation date'),\n",
    "        bigquery.SchemaField('updated_at', 'TIMESTAMP', description='Group updated date'),\n",
    "        bigquery.SchemaField('name', 'STRING', description='Group name'),\n",
    "        bigquery.SchemaField('description', 'STRING', description='Group desc'),\n",
    "        bigquery.SchemaField('escalate_to', 'INTEGER', description='Escalate to Group'),\n",
    "        bigquery.SchemaField('group_type', 'STRING', description='Time Zone'),\n",
    "        bigquery.SchemaField('auto_ticket_assign', 'BOOL', description='Auto assign'),\n",
    "        bigquery.SchemaField('business_hour_id', 'INTEGER', description='Auto assign')\n",
    "]\n",
    "\n",
    "gbq_table = bigquery.Table(table_ref, schema=table_schema)\n",
    "x = datetime.datetime.now()\n",
    "mytable = client_ref.create_table(gbq_table) #API request\n",
    "print(x, ' - Table created: ', mytable)"
   ]
  },
  {
   "cell_type": "code",
   "execution_count": null,
   "metadata": {
    "Collapsed": "false"
   },
   "outputs": [],
   "source": []
  }
 ],
 "metadata": {
  "kernel_info": {
   "name": "python3"
  },
  "kernelspec": {
   "display_name": "Python 3",
   "language": "python",
   "name": "python3"
  },
  "language_info": {
   "codemirror_mode": {
    "name": "ipython",
    "version": 3
   },
   "file_extension": ".py",
   "mimetype": "text/x-python",
   "name": "python",
   "nbconvert_exporter": "python",
   "pygments_lexer": "ipython3",
   "version": "3.8.5"
  },
  "nteract": {
   "version": "0.21.0"
  }
 },
 "nbformat": 4,
 "nbformat_minor": 4
}
