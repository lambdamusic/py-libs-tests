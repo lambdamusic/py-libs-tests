{
 "cells": [
  {
   "cell_type": "code",
   "execution_count": 9,
   "metadata": {
    "Collapsed": "false"
   },
   "outputs": [],
   "source": [
    "import requests\n",
    "import pandas as pd\n",
    "import json\n",
    "import os"
   ]
  },
  {
   "cell_type": "markdown",
   "metadata": {
    "Collapsed": "false"
   },
   "source": [
    "# Enter BPIDs"
   ]
  },
  {
   "cell_type": "code",
   "execution_count": 10,
   "metadata": {
    "Collapsed": "false"
   },
   "outputs": [],
   "source": [
    "BPIDS = [\"2000323035\", \"3000201735\", \"3000123021\"] # Utrecht  "
   ]
  },
  {
   "cell_type": "markdown",
   "metadata": {
    "Collapsed": "false"
   },
   "source": [
    "# Prerequisites \n",
    "\n",
    "### 1. Functions for Extracting all parents and children\n",
    "\n",
    "Parents look like this\n",
    "\n",
    "```\n",
    "// http://institution-service.live.cf.private.springer.com/v1/children/2000323035\n",
    "{'institution': {'id': '2000323035',\n",
    "  'name': 'Utrecht University',\n",
    "  'type': 'Institution'},\n",
    " 'parents': [{'institution': {'id': '3000174899',\n",
    "    'name': 'UKB Consortium p/a SURFmarket B.V.',\n",
    "    'type': 'Consortium'},\n",
    "   'parents': []},\n",
    "  {'institution': {'id': '3001974408',\n",
    "    'name': 'UKB Consortium p/a SURFmarket B.V. Springer Compact',\n",
    "    'type': 'Consortium'},\n",
    "   'parents': []}]}\n",
    "```\n",
    "\n",
    "Children look like this\n",
    "\n",
    "```\n",
    "// http://institution-service.live.cf.private.springer.com/v1/children/3000201735\n",
    "\n",
    "[\n",
    "  {\n",
    "    \"id\": \"3000175179\",\n",
    "    \"name\": \"Bayer Business Services GMBH\",\n",
    "    \"type\": \"INSTITUTION\",\n",
    "    \"validFrom\": \"1990-01-01T00:00:00\",\n",
    "    \"validTo\": \"9999-12-31T00:00:00\",\n",
    "    \"legacyId\": \"4559\"\n",
    "  },\n",
    "  {\n",
    "    \"id\": \"3000171692\",\n",
    "    \"name\": \"Bayer Pharma AG\",\n",
    "    \"type\": \"INSTITUTION\",\n",
    "    \"validFrom\": \"1990-01-01T00:00:00\",\n",
    "    \"validTo\": \"9999-12-31T00:00:00\",\n",
    "    \"legacyId\": null\n",
    "  },\n",
    "etc...\n",
    "]\n",
    "```"
   ]
  },
  {
   "cell_type": "code",
   "execution_count": 13,
   "metadata": {
    "Collapsed": "false"
   },
   "outputs": [],
   "source": [
    "api_parents = \"http://institution-service.live.cf.private.springer.com/v1/hierarchy/{}\"\n",
    "api_children = \"http://institution-service.live.cf.private.springer.com/v1/children/{}\"\n",
    "\n",
    "def gen_folder(name):\n",
    "    if not os.path.exists(name):\n",
    "        os.makedirs(name)\n",
    "       \n",
    "        \n",
    "def get_related_bpids(BPID):\n",
    "    print(\"======\\n===\\nChecking Top Level BPID: \", BPID, \"\\n===\\n======\")\n",
    "    gen_folder(BPID)\n",
    "    parents = requests.get(api_parents.format(BPID)).json()\n",
    "    children = requests.get(api_children.format(BPID)).json()\n",
    "    with open(BPID + '/parents.json', 'w') as outfile:\n",
    "        json.dump(parents, outfile)\n",
    "    with open(BPID + '/children.json', 'w') as outfile:\n",
    "        json.dump(children, outfile)\n",
    "    \n",
    "    out = [BPID] # seed with main bpid\n",
    "    for x in parents[\"parents\"]: \n",
    "        out.append(x['institution']['id'])\n",
    "        if x['parents']:  # just go one level up\n",
    "            for z in x[\"parents\"]: \n",
    "                out.append(z['institution']['id'])            \n",
    "    for x in children:\n",
    "        out.append(x['id'])\n",
    "    print(\"...\\nRelated BPIDs found: \", len(out), str(out))\n",
    "    return out"
   ]
  },
  {
   "cell_type": "markdown",
   "metadata": {
    "Collapsed": "false"
   },
   "source": [
    "### 2. Functions for Extracting KBARTs"
   ]
  },
  {
   "cell_type": "code",
   "execution_count": 18,
   "metadata": {
    "Collapsed": "false"
   },
   "outputs": [],
   "source": [
    "url_books = \"http://ml-read-online.live.sl.i.springer.com:7655/admin-portal/201802052054-134/kbart/book-report.xqy?bp={}\"\n",
    "url_journals = \"http://ml-read-online.live.sl.i.springer.com:7655/admin-portal/201802052054-134/kbart/journal-report.xqy?bp={}\"\n",
    "url_nature = \"http://entitlements-api.live.private.springernature.io/entitlements/v1/journals/kbart?bpid={}\"\n",
    "\n",
    "\n",
    "def get_kbarts(BPID_LIST, toplevel):\n",
    "    print(\"===\\nExtracting KBARTs...\")\n",
    "    for BPID in BPID_LIST:\n",
    "        print(\"Item: \", BPID)\n",
    "        print(\"..books...\")\n",
    "        d = requests.get(url_books.format(BPID), auth=('casper-db-user', 'casper'))\n",
    "        with open(\"{}/{}_books.kbart\".format(toplevel, BPID), 'wb') as outfile:\n",
    "            outfile.write(d.text.encode(\"utf-8\"))\n",
    "        print(\"done\")\n",
    "        #\n",
    "        print(\"..journals...\")\n",
    "        d = requests.get(url_journals.format(BPID), auth=('casper-db-user', 'casper'))\n",
    "        with open(\"{}/{}_journals.kbart\".format(toplevel, BPID), 'wb') as outfile:\n",
    "            outfile.write(d.text.encode(\"utf-8\"))\n",
    "        print(\"done\")\n",
    "        #\n",
    "        print(\"..nature...\")\n",
    "        d = requests.get(url_nature.format(BPID), auth=('casper-db-user', 'casper'))\n",
    "        with open(\"{}/{}_journals_nature.kbart\".format(toplevel, BPID), 'wb') as outfile:\n",
    "            outfile.write(d.text.encode(\"utf-8\"))\n",
    "        print(\"done\")\n"
   ]
  },
  {
   "cell_type": "markdown",
   "metadata": {
    "Collapsed": "false"
   },
   "source": [
    "### 3. Functions for Extracting Usage\n",
    "\n",
    "> TODO "
   ]
  },
  {
   "cell_type": "markdown",
   "metadata": {
    "Collapsed": "false"
   },
   "source": [
    "# Running the Extraction\n",
    "\n",
    "Note the results of the extraction are saves in the same folder where this notebook is located. \n",
    "Each top level BPIDs generates a separate folder, containing parents/children info as well as KBARTs for all of them (including the top level BPID)."
   ]
  },
  {
   "cell_type": "code",
   "execution_count": null,
   "metadata": {
    "Collapsed": "false"
   },
   "outputs": [
    {
     "name": "stdout",
     "output_type": "stream",
     "text": [
      "======\n",
      "===\n",
      "Checking Top Level BPID:  2000323035 \n",
      "===\n",
      "======\n",
      "...\n",
      "Related BPIDs found:  3 ['2000323035', '3000174899', '3001974408']\n",
      "===\n",
      "Extracting KBARTs...\n",
      "Item:  2000323035\n",
      "..books...\n",
      "done\n",
      "..journals...\n",
      "done\n",
      "..nature...\n",
      "done\n",
      "Item:  3000174899\n",
      "..books...\n",
      "done\n",
      "..journals...\n",
      "done\n",
      "..nature...\n",
      "done\n",
      "Item:  3001974408\n",
      "..books...\n",
      "done\n",
      "..journals...\n",
      "done\n",
      "..nature...\n",
      "done\n",
      "**** completed ****\n",
      "======\n",
      "===\n",
      "Checking Top Level BPID:  3000201735 \n",
      "===\n",
      "======\n",
      "...\n",
      "Related BPIDs found:  5 ['3000201735', '3000175179', '3000171692', '1600001227', '8200982076']\n",
      "===\n",
      "Extracting KBARTs...\n",
      "Item:  3000201735\n",
      "..books...\n",
      "done\n",
      "..journals...\n",
      "done\n",
      "..nature...\n",
      "done\n",
      "Item:  3000175179\n",
      "..books...\n",
      "done\n",
      "..journals...\n",
      "done\n",
      "..nature...\n",
      "done\n",
      "Item:  3000171692\n",
      "..books...\n",
      "done\n",
      "..journals...\n",
      "done\n",
      "..nature...\n",
      "done\n",
      "Item:  1600001227\n",
      "..books...\n",
      "done\n",
      "..journals...\n",
      "done\n",
      "..nature...\n",
      "done\n",
      "Item:  8200982076\n",
      "..books...\n",
      "done\n",
      "..journals...\n",
      "done\n",
      "..nature...\n",
      "done\n",
      "**** completed ****\n",
      "======\n",
      "===\n",
      "Checking Top Level BPID:  3000123021 \n",
      "===\n",
      "======\n",
      "...\n",
      "Related BPIDs found:  9 ['3000123021', '3000137278', '3000137282', '3000194567', '3000262825', '3000262839', '3994313832', '3003169293', '3902044458']\n",
      "===\n",
      "Extracting KBARTs...\n",
      "Item:  3000123021\n",
      "..books...\n",
      "done\n",
      "..journals...\n",
      "done\n",
      "..nature...\n",
      "done\n",
      "Item:  3000137278\n",
      "..books...\n",
      "done\n",
      "..journals...\n"
     ]
    }
   ],
   "source": [
    "for b in BPIDS:\n",
    "    related = get_related_bpids(b)\n",
    "    get_kbarts(related, b)\n",
    "    print(\"**** completed ****\")"
   ]
  },
  {
   "cell_type": "code",
   "execution_count": null,
   "metadata": {
    "Collapsed": "false"
   },
   "outputs": [],
   "source": []
  }
 ],
 "metadata": {
  "kernelspec": {
   "display_name": "Python 3",
   "language": "python",
   "name": "python3"
  },
  "language_info": {
   "codemirror_mode": {
    "name": "ipython",
    "version": 3
   },
   "file_extension": ".py",
   "mimetype": "text/x-python",
   "name": "python",
   "nbconvert_exporter": "python",
   "pygments_lexer": "ipython3",
   "version": "3.7.4"
  }
 },
 "nbformat": 4,
 "nbformat_minor": 4
}
