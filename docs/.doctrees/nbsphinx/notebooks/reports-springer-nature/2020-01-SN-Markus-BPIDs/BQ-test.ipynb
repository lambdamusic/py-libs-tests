{
 "cells": [
  {
   "cell_type": "markdown",
   "metadata": {
    "Collapsed": "false"
   },
   "source": [
    "# Bigquery test \n",
    "\n",
    "* https://googleapis.dev/python/bigquery/latest/index.html\n",
    "* https://googleapis.dev/python/bigquery/latest/usage/pandas.html"
   ]
  },
  {
   "cell_type": "code",
   "execution_count": null,
   "metadata": {
    "Collapsed": "false"
   },
   "outputs": [],
   "source": [
    "!pip install google-cloud-bigquery -U --quiet"
   ]
  },
  {
   "cell_type": "code",
   "execution_count": 8,
   "metadata": {
    "Collapsed": "false"
   },
   "outputs": [],
   "source": [
    "from google.cloud import bigquery"
   ]
  },
  {
   "cell_type": "code",
   "execution_count": 9,
   "metadata": {
    "Collapsed": "false"
   },
   "outputs": [],
   "source": [
    "credentials_file = '/Users/michele.pasin/Google Drive/Colab Notebooks/Reports/SpringerNature/2020-01-SN-Markus-BPIDs/data_input/usage-data-reporting-523fb677bd0a.json'\n",
    "\n",
    "project_id = 'usage-data-reporting'\n",
    "\n",
    "# Explicitly use service account credentials by specifying the private key file\n",
    "client_ref = bigquery.Client.from_service_account_json(credentials_file)\n",
    "\n",
    "query_1 = '''\n",
    "SELECT SESSION_USER() AS USER\n",
    "'''\n",
    "\n",
    "query_2 = '''\n",
    "Select DOI, Usage_2016, Usage_2017, Usage_2018, Denials_2016, Denials_2017, Denials_2018 FROM (\n",
    "    SELECT \n",
    "    BP_ID, Item_DOI as DOI,  sum(clicks),\n",
    "    sum(Case when Calendar_Year = 2016 and Access_YN = 'Y' Then Clicks Else 0 END) as Usage_2016,\n",
    "    sum(Case when Calendar_Year = 2017 and Access_YN = 'Y' Then Clicks Else 0 END) as Usage_2017,\n",
    "    sum(Case when Calendar_Year = 2018 and Access_YN = 'Y' Then Clicks Else 0 END) as Usage_2018,\n",
    "    sum(Case when Calendar_Year = 2016 and Access_YN = 'N' Then Clicks Else 0 END) as Denials_2016,\n",
    "    sum(Case when Calendar_Year = 2017 and Access_YN = 'N' Then Clicks Else 0 END) as Denials_2017,\n",
    "    sum(Case when Calendar_Year = 2018 and Access_YN = 'N' Then Clicks Else 0 END) as Denials_2018,\n",
    "\n",
    "    FROM `usage-data-reporting.PROD_IFM_Usage.mv_usage_bp_monthly_spl` \n",
    "    Where \n",
    "    Document_Type = 'ARTICLE'\n",
    "    and Item_DOI is not null\n",
    "    and DOI is not null\n",
    "    and clicks is not null\n",
    "    and Calendar_Year in (2016, 2017, 2018)\n",
    "    Group by 1, 2\n",
    "    Order by 1, 2)\n",
    "Where BP_ID = '2000323035' \n",
    "# limit 100\n",
    "'''\n",
    "\n",
    "# 1 \n",
    "if False:\n",
    "    query_job = client_ref.query(query_2)\n",
    "    results = query_job.result()\n",
    "    for row in results:\n",
    "        print(row)   \n",
    "\n",
    "# 2\n",
    "if False:\n",
    "    query_job = client_ref.query(query_2)\n",
    "    for row in query_job:\n",
    "        print(row) \n",
    "    \n",
    "# 3\n",
    "if True:\n",
    "    query_job = client_ref.query(query_2).to_dataframe()"
   ]
  },
  {
   "cell_type": "code",
   "execution_count": 11,
   "metadata": {
    "Collapsed": "false"
   },
   "outputs": [],
   "source": [
    "query_job.to_csv(\"~/Desktop/data.csv\", index=False)"
   ]
  },
  {
   "cell_type": "code",
   "execution_count": null,
   "metadata": {
    "Collapsed": "false"
   },
   "outputs": [],
   "source": []
  }
 ],
 "metadata": {
  "kernelspec": {
   "display_name": "Python 3",
   "language": "python",
   "name": "python3"
  },
  "language_info": {
   "codemirror_mode": {
    "name": "ipython",
    "version": 3
   },
   "file_extension": ".py",
   "mimetype": "text/x-python",
   "name": "python",
   "nbconvert_exporter": "python",
   "pygments_lexer": "ipython3",
   "version": "3.8.5"
  }
 },
 "nbformat": 4,
 "nbformat_minor": 4
}
