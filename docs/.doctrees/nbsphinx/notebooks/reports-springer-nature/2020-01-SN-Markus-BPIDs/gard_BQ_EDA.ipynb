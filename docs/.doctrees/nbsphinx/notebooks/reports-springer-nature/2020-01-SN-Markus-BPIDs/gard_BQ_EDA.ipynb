{
 "cells": [
  {
   "cell_type": "markdown",
   "metadata": {
    "colab_type": "text",
    "id": "IxvKOcw8-eJ3"
   },
   "source": [
    "## 0. Authentication and project ID\n",
    "\n",
    "> Indented block\n",
    "\n"
   ]
  },
  {
   "cell_type": "code",
   "execution_count": 1,
   "metadata": {
    "colab": {
     "base_uri": "https://localhost:8080/",
     "height": 34
    },
    "colab_type": "code",
    "id": "ch2nxbL3-V5t",
    "outputId": "3841d1e4-ab55-4076-fbef-418217019dc0"
   },
   "outputs": [
    {
     "ename": "ModuleNotFoundError",
     "evalue": "No module named 'google'",
     "output_type": "error",
     "traceback": [
      "\u001b[0;31m---------------------------------------------------------------------------\u001b[0m",
      "\u001b[0;31mModuleNotFoundError\u001b[0m                       Traceback (most recent call last)",
      "\u001b[0;32m<ipython-input-1-23f269ac3ca0>\u001b[0m in \u001b[0;36m<module>\u001b[0;34m\u001b[0m\n\u001b[0;32m----> 1\u001b[0;31m \u001b[0;32mfrom\u001b[0m \u001b[0mgoogle\u001b[0m\u001b[0;34m.\u001b[0m\u001b[0mcolab\u001b[0m \u001b[0;32mimport\u001b[0m \u001b[0mauth\u001b[0m\u001b[0;34m\u001b[0m\u001b[0;34m\u001b[0m\u001b[0m\n\u001b[0m\u001b[1;32m      2\u001b[0m \u001b[0mauth\u001b[0m\u001b[0;34m.\u001b[0m\u001b[0mauthenticate_user\u001b[0m\u001b[0;34m(\u001b[0m\u001b[0;34m)\u001b[0m\u001b[0;34m\u001b[0m\u001b[0;34m\u001b[0m\u001b[0m\n\u001b[1;32m      3\u001b[0m \u001b[0mprint\u001b[0m\u001b[0;34m(\u001b[0m\u001b[0;34m\"Authenticated!\"\u001b[0m\u001b[0;34m)\u001b[0m\u001b[0;34m\u001b[0m\u001b[0;34m\u001b[0m\u001b[0m\n\u001b[1;32m      4\u001b[0m \u001b[0;31m# project id\u001b[0m\u001b[0;34m\u001b[0m\u001b[0;34m\u001b[0m\u001b[0;34m\u001b[0m\u001b[0m\n\u001b[1;32m      5\u001b[0m \u001b[0mpid\u001b[0m \u001b[0;34m=\u001b[0m \u001b[0;34m\"springer-nature-analytics\"\u001b[0m\u001b[0;34m\u001b[0m\u001b[0;34m\u001b[0m\u001b[0m\n",
      "\u001b[0;31mModuleNotFoundError\u001b[0m: No module named 'google'"
     ]
    }
   ],
   "source": [
    "from google.colab import auth\n",
    "auth.authenticate_user()\n",
    "print(\"Authenticated!\")\n",
    "# project id\n",
    "pid = \"springer-nature-analytics\""
   ]
  },
  {
   "cell_type": "markdown",
   "metadata": {
    "colab_type": "text",
    "id": "IRZuqxVr-z35"
   },
   "source": [
    "## 1. Running BQ queries in Colab\n",
    "\n",
    "### Option 1: display result directly in Colab"
   ]
  },
  {
   "cell_type": "code",
   "execution_count": 0,
   "metadata": {
    "colab": {},
    "colab_type": "code",
    "id": "qjsa_Xp4-489"
   },
   "outputs": [],
   "source": [
    "%%bigquery --project $pid \n",
    "\n",
    "SELECT COUNT(doi) FROM `springer-nature-analytics.DS_dimensions.publications_full_refresh` LIMIT 1000"
   ]
  },
  {
   "cell_type": "markdown",
   "metadata": {
    "colab_type": "text",
    "id": "lz0gjNz3E_5Q"
   },
   "source": [
    "### Option 2: save results in a Pandas data frame"
   ]
  },
  {
   "cell_type": "code",
   "execution_count": 0,
   "metadata": {
    "colab": {},
    "colab_type": "code",
    "id": "bU5TEC5B_AkQ"
   },
   "outputs": [],
   "source": [
    "%%bigquery --project $pid df\n",
    "\n",
    "SELECT doi, year, T.title AS art_title, j.title FROM `springer-nature-analytics.DS_dimensions.publications_full_refresh` AS T, \n",
    "UNNEST(journal) AS j \n",
    "WHERE j.title LIKE \"Scientific Reports\"\n",
    " LIMIT 1000"
   ]
  },
  {
   "cell_type": "code",
   "execution_count": 0,
   "metadata": {
    "colab": {},
    "colab_type": "code",
    "id": "0Oboad6Ha4FW"
   },
   "outputs": [],
   "source": []
  },
  {
   "cell_type": "markdown",
   "metadata": {
    "colab_type": "text",
    "id": "L_BD3OFXDOqj"
   },
   "source": [
    "#### Exercises\n",
    "\n",
    "Use Colab to write and execute one or more queries that show (in the Colab interface):\n",
    "\n",
    "1. How many articles were published in Scientific Reports in 2018.\n",
    "1. How many articles were published in PLoS ONE in 2018.\n",
    "\n",
    "Make sure you save the Colab notebook and add comments in the text cells."
   ]
  },
  {
   "cell_type": "markdown",
   "metadata": {
    "colab_type": "text",
    "id": "JrE2zBTg_ax6"
   },
   "source": [
    "## 2. Exploratory data analysis\n",
    "\n",
    "### Descriptive statistics\n",
    "\n",
    "Basic descriptive statistics using SQL:\n"
   ]
  },
  {
   "cell_type": "code",
   "execution_count": 0,
   "metadata": {
    "colab": {},
    "colab_type": "code",
    "id": "V3qJbPvX_dqz"
   },
   "outputs": [],
   "source": [
    "%%bigquery --project $pid \n",
    "\n",
    "SELECT AVG(n_doi) FROM (\n",
    "SELECT year, COUNT(DISTINCT(doi)) AS n_doi FROM `springer-nature-analytics.DS_dimensions.publications_full_refresh`, unnest(journal) as j\n",
    "where j.title LIKE \"Scientific Reports\"\n",
    "GROUP BY year\n",
    ")"
   ]
  },
  {
   "cell_type": "code",
   "execution_count": 0,
   "metadata": {
    "colab": {},
    "colab_type": "code",
    "id": "PERBJiTK_iE7"
   },
   "outputs": [],
   "source": [
    "%%bigquery --project $pid df\n",
    "\n",
    "SELECT STDDEV(n_doi) FROM (\n",
    "SELECT year, COUNT(DISTINCT(doi)) AS n_doi FROM `springer-nature-analytics.DS_dimensions.publications_full_refresh`, unnest(journal) as j\n",
    "where j.title LIKE \"Scientific Reports\"\n",
    "GROUP BY year\n",
    ")"
   ]
  },
  {
   "cell_type": "markdown",
   "metadata": {
    "colab_type": "text",
    "id": "875Sqt1ejl6z"
   },
   "source": [
    "A better way: using the Pandas library for handling data frames in Python.\n",
    "\n",
    "Pandas examples:\n",
    "\n",
    "https://www.tutorialspoint.com/python_pandas/python_pandas_descriptive_statistics.htm"
   ]
  },
  {
   "cell_type": "code",
   "execution_count": 0,
   "metadata": {
    "colab": {},
    "colab_type": "code",
    "id": "JRRroEz5_uRD"
   },
   "outputs": [],
   "source": [
    "import pandas as pd"
   ]
  },
  {
   "cell_type": "markdown",
   "metadata": {
    "colab_type": "text",
    "id": "RvQGModo_xDn"
   },
   "source": [
    "Example summary functions using a toy data frame example:"
   ]
  },
  {
   "cell_type": "code",
   "execution_count": 0,
   "metadata": {
    "colab": {},
    "colab_type": "code",
    "id": "42ycDfHYLqoU"
   },
   "outputs": [],
   "source": [
    "dummy_df = pd.DataFrame({\"Fruit\": [\"Apple\", \"Banana\", \"Pear\", \"Orange\"],\n",
    "                         \"Weight\": [185, 183, 159, 310],  # in grams\n",
    "                         \"Diameter\": [8.3, 6.6, 5, 10],  # in cm\n",
    "                         \"Fruitbearing\": [(6 * 12), 9, (3 * 12) , (15 * 12)]})  # average months before bearing fruit"
   ]
  },
  {
   "cell_type": "markdown",
   "metadata": {
    "colab_type": "text",
    "id": "Wg1lZ5yUVWXM"
   },
   "source": [
    "Basic data inspection, to look at the start (head) and end (tail) of the dataframe:"
   ]
  },
  {
   "cell_type": "code",
   "execution_count": 0,
   "metadata": {
    "colab": {},
    "colab_type": "code",
    "id": "g7ldDEy2Vdyg"
   },
   "outputs": [],
   "source": [
    "print(dummy_df.head())  # print the first 6 rows\n",
    "print(\"---------------------------------------------------\")\n",
    "print(dummy_df.tail())  # print the last 6 rows\n",
    "print(\"---------------------------------------------------\")\n",
    "print(\"N rows:\", len(dummy_df))  # print the number of rows\n",
    "print(\"N columns:\", len(dummy_df.columns))  # print the number of columns"
   ]
  },
  {
   "cell_type": "markdown",
   "metadata": {
    "colab_type": "text",
    "id": "Y_QCBZxp_N_u"
   },
   "source": [
    "It's sometimes a good idea to set up a simple test to check that the actual length of the data frame corresponds to what we expect. In this case it's trivial, since we created the dataframe by hand. But when doing multiple joins and/or transformations, it can be good way to set up these tests so that the execution of the notebook stops if something has gone wrong:"
   ]
  },
  {
   "cell_type": "code",
   "execution_count": 0,
   "metadata": {
    "colab": {},
    "colab_type": "code",
    "id": "WCpVnT94_NIt"
   },
   "outputs": [],
   "source": [
    "assert len(dummy_df) == 4"
   ]
  },
  {
   "cell_type": "markdown",
   "metadata": {
    "colab_type": "text",
    "id": "14KUhFLQ_4ar"
   },
   "source": [
    "We can quickly get lots of summary statistics with the Pandas `describe` method:"
   ]
  },
  {
   "cell_type": "code",
   "execution_count": 0,
   "metadata": {
    "colab": {},
    "colab_type": "code",
    "id": "LV6r0DqAVH22"
   },
   "outputs": [],
   "source": [
    "# Get basic summary statistics for the data frame:\n",
    "\n",
    "dummy_df.describe()"
   ]
  },
  {
   "cell_type": "code",
   "execution_count": 0,
   "metadata": {
    "colab": {},
    "colab_type": "code",
    "id": "Mxl6YXFWWJaT"
   },
   "outputs": [],
   "source": [
    "# mean for a single column:\n",
    "\n",
    "dummy_df[\"Weight\"].mean()"
   ]
  },
  {
   "cell_type": "code",
   "execution_count": 0,
   "metadata": {
    "colab": {},
    "colab_type": "code",
    "id": "1-CNk0KAWXzW"
   },
   "outputs": [],
   "source": [
    "# Correlation (Pearson) between two columns:\n",
    "\n",
    "dummy_df[[\"Weight\", \"Diameter\"]].corr()"
   ]
  },
  {
   "cell_type": "markdown",
   "metadata": {
    "colab_type": "text",
    "id": "owsUJVVH_6XV"
   },
   "source": [
    "### Plotting\n",
    "\n",
    "The recommended Python library for quick data exploration in Colab is *plotly express*:\n",
    "\n",
    "https://plot.ly/python/plotly-express/\n"
   ]
  },
  {
   "cell_type": "code",
   "execution_count": 0,
   "metadata": {
    "colab": {},
    "colab_type": "code",
    "id": "2YfsAfj_AIVN"
   },
   "outputs": [],
   "source": [
    "import plotly.express as px"
   ]
  },
  {
   "cell_type": "markdown",
   "metadata": {
    "colab_type": "text",
    "id": "E34pqFKdCGat"
   },
   "source": [
    "Scatter plot:"
   ]
  },
  {
   "cell_type": "code",
   "execution_count": 0,
   "metadata": {
    "colab": {},
    "colab_type": "code",
    "id": "FO_bewGUCISI"
   },
   "outputs": [],
   "source": [
    "px.scatter(dummy_df, x=\"Weight\", y=\"Diameter\", trendline=\"ols\").show()"
   ]
  },
  {
   "cell_type": "markdown",
   "metadata": {
    "colab_type": "text",
    "id": "7hUlhVWQCJAE"
   },
   "source": [
    "Barplot:"
   ]
  },
  {
   "cell_type": "code",
   "execution_count": 0,
   "metadata": {
    "colab": {},
    "colab_type": "code",
    "id": "8gX_B4UaCMEj"
   },
   "outputs": [],
   "source": [
    "# WRONG: px.bar(dummy_df, x=\"Fruit\", y=\"Average weight (g)\").show()\n",
    "px.bar(dummy_df, x=\"Fruit\", y=\"Weight (g)\").show()"
   ]
  },
  {
   "cell_type": "markdown",
   "metadata": {
    "colab_type": "text",
    "id": "T2aBxvQzCMpd"
   },
   "source": [
    "Multi-variable scatter for multiple correlations:"
   ]
  },
  {
   "cell_type": "code",
   "execution_count": 0,
   "metadata": {
    "colab": {},
    "colab_type": "code",
    "id": "cvCDJ14ICTS1"
   },
   "outputs": [],
   "source": [
    "px.scatter_matrix(dummy_df, dimensions=[\"Weight\", \"Diameter\", \"Fruitbearing\"]).show()"
   ]
  },
  {
   "cell_type": "markdown",
   "metadata": {
    "colab_type": "text",
    "id": "HVsoHTpLDLZO"
   },
   "source": [
    "#### Exercises\n",
    "\n",
    "1. Use the query below to obtain a subset of SciReps data.\n",
    "1. Load the data into a Pandas data frame in Colab.\n",
    "1. Use Pandas and Plotly express to explore the data.\n",
    "1. Compare summary statistics from Pandas and from BQ SQL - are they the same?"
   ]
  },
  {
   "cell_type": "code",
   "execution_count": 0,
   "metadata": {
    "colab": {},
    "colab_type": "code",
    "id": "HUpBsYM2DZEF"
   },
   "outputs": [],
   "source": [
    "%%bigquery --project $pid\n",
    "\n",
    "SELECT doi, f.first_level.name AS for_1, IFNULL(ARRAY_LENGTH(references), 0) AS n_refs, \n",
    "IFNULL(ARRAY_LENGTH(author_affiliations), 0) AS n_authors,\n",
    "IFNULL(ARRAY_LENGTH(concepts), 0) AS n_kw FROM `springer-nature-analytics.DS_dimensions.publications_full_refresh`, UNNEST(journal) AS j,\n",
    "UNNEST(`for`) AS f\n",
    "WHERE j.title LIKE \"Scientific Reports\" AND year = 2018\n",
    "LIMIT 1000"
   ]
  }
 ],
 "metadata": {
  "colab": {
   "collapsed_sections": [],
   "name": "BQ_EDA.ipynb",
   "provenance": []
  },
  "kernel_info": {
   "name": "python3"
  },
  "kernelspec": {
   "display_name": "Python 3",
   "language": "python",
   "name": "python3"
  },
  "language_info": {
   "codemirror_mode": {
    "name": "ipython",
    "version": 3
   },
   "file_extension": ".py",
   "mimetype": "text/x-python",
   "name": "python",
   "nbconvert_exporter": "python",
   "pygments_lexer": "ipython3",
   "version": "3.7.4"
  },
  "nteract": {
   "version": "0.15.0"
  }
 },
 "nbformat": 4,
 "nbformat_minor": 0
}
