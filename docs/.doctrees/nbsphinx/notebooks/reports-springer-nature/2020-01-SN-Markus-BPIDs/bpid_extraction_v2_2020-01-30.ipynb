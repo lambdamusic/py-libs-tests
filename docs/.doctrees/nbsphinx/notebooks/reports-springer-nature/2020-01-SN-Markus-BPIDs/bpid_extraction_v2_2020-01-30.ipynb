{
 "cells": [
  {
   "cell_type": "markdown",
   "metadata": {
    "Collapsed": "false",
    "toc-hr-collapsed": false
   },
   "source": [
    "# Holding Analysis Tool - data extraction for 100+ BPIDs - 2020-01-30\n",
    "\n",
    "Final report: https://docs.google.com/document/d/1-HARyTVdBEioB72c22oVXzr_-tbw12EDQvaEFiQZVKE/edit#heading=h.b8ff86bcbbxs\n",
    "\n",
    "## Customers IDs \n",
    "\n",
    "* BPIDs for prototype from Markus https://docs.google.com/spreadsheets/d/1bIRQxULsSkGrtVRd63-GcgM67NSFsScPa6VC0z5xYf0/edit#gid=0\n",
    "* Site to BP ID mapping table https://hive.springernature.com/docs/DOC-185186\n",
    "\n",
    "## APIs: BPIDs hierarchy\n",
    "\n",
    "* api_parents = \"http://institution-service.live.cf.private.springer.com/v1/hierarchy/{}\"\n",
    "* api_children = \"http://institution-service.live.cf.private.springer.com/v1/children/{}\"\n",
    "\n",
    "## APIs: KBARTS\n",
    "\n",
    "* url_books = \"http://ml-read-online.live.sl.i.springer.com:7655/admin-portal/201802052054-134/kbart/book-report.xqy?bp={}\"\n",
    "* url_journals = \"http://ml-read-online.live.sl.i.springer.com:7655/admin-portal/201802052054-134/kbart/journal-report.xqy?bp={}\"\n",
    "* url_nature = \"http://entitlements-api.live.private.springernature.io/entitlements/v1/journals/kbart?bpid={}\"\n",
    "\n",
    "## APIs: Usage on GBQ\n",
    "\n",
    "* online console https://console.cloud.google.com/bigquery?project=usage-data-reporting&organizationId=271269911051\n",
    "* hive docs https://hive.springernature.com/groups/sap-business-intelligence/pages/google-bigquery-support\n",
    "* query for Springer usage (using BPIDs) is:\n",
    "\n",
    "```\n",
    "Select DOI, Usage_2016, Usage_2017, Usage_2018, Denials_2016, Denials_2017, Denials_2018 FROM (\n",
    "    SELECT \n",
    "    BP_ID, Item_DOI as DOI,  sum(clicks),\n",
    "    sum(Case when Calendar_Year = 2016 and Access_YN = 'Y' Then Clicks Else 0 END) as Usage_2016,\n",
    "    sum(Case when Calendar_Year = 2017 and Access_YN = 'Y' Then Clicks Else 0 END) as Usage_2017,\n",
    "    sum(Case when Calendar_Year = 2018 and Access_YN = 'Y' Then Clicks Else 0 END) as Usage_2018,\n",
    "    sum(Case when Calendar_Year = 2016 and Access_YN = 'N' Then Clicks Else 0 END) as Denials_2016,\n",
    "    sum(Case when Calendar_Year = 2017 and Access_YN = 'N' Then Clicks Else 0 END) as Denials_2017,\n",
    "    sum(Case when Calendar_Year = 2018 and Access_YN = 'N' Then Clicks Else 0 END) as Denials_2018,\n",
    "\n",
    "    FROM `usage-data-reporting.PROD_IFM_Usage.mv_usage_bp_monthly_spl` \n",
    "    Where \n",
    "    Document_Type = 'ARTICLE'\n",
    "    and Item_DOI is not null\n",
    "    and DOI is not null\n",
    "    and clicks is not null\n",
    "    and Calendar_Year in (2016, 2017, 2018)\n",
    "    Group by 1, 2\n",
    "    Order by 1, 2)\n",
    "Where BP_ID = '{}' \n",
    "```\n",
    "* query for Nature usage, using Site IDs, is:\n",
    "\n",
    "```\n",
    "Select DOI, Usage_2016, Usage_2017, Usage_2018, Denials_2016, Denials_2017, Denials_2018 FROM (\n",
    " \n",
    "SELECT\n",
    "Site_ID, Item_DOI as DOI,  sum(clicks),\n",
    " \n",
    "sum(Case when Calendar_Year = 2016 and Access_YN = 'Y' Then Clicks Else 0 END) as Usage_2016,\n",
    "sum(Case when Calendar_Year = 2017 and Access_YN = 'Y' Then Clicks Else 0 END) as Usage_2017,\n",
    "sum(Case when Calendar_Year = 2018 and Access_YN = 'Y' Then Clicks Else 0 END) as Usage_2018,\n",
    "sum(Case when Calendar_Year = 2016 and Access_YN = 'N' Then Clicks Else 0 END) as Denials_2016,\n",
    "sum(Case when Calendar_Year = 2017 and Access_YN = 'N' Then Clicks Else 0 END) as Denials_2017,\n",
    "sum(Case when Calendar_Year = 2018 and Access_YN = 'N' Then Clicks Else 0 END) as Denials_2018,\n",
    " \n",
    "FROM `usage-data-reporting.PROD_IFM_Usage.mv_usage_bp_monthly_nat`\n",
    "Where\n",
    "Item_DOI is not null\n",
    "and DOI is not null\n",
    "and clicks is not null\n",
    "and Calendar_Year in (2016, 2017, 2018)\n",
    "Group by 1, 2\n",
    "Order by 1, 2)\n",
    " \n",
    "Where Site_ID = '2000323035'\n",
    "```"
   ]
  },
  {
   "cell_type": "markdown",
   "metadata": {
    "Collapsed": "false"
   },
   "source": [
    "## 1. Load Customer IDs "
   ]
  },
  {
   "cell_type": "code",
   "execution_count": 2,
   "metadata": {
    "Collapsed": "false"
   },
   "outputs": [],
   "source": [
    "import requests\n",
    "import pandas as pd\n",
    "import json\n",
    "import os\n",
    "from tqdm.notebook import tqdm as progress\n",
    "from google.cloud import bigquery"
   ]
  },
  {
   "cell_type": "code",
   "execution_count": 3,
   "metadata": {
    "Collapsed": "false"
   },
   "outputs": [
    {
     "data": {
      "text/html": [
       "<div>\n",
       "<style scoped>\n",
       "    .dataframe tbody tr th:only-of-type {\n",
       "        vertical-align: middle;\n",
       "    }\n",
       "\n",
       "    .dataframe tbody tr th {\n",
       "        vertical-align: top;\n",
       "    }\n",
       "\n",
       "    .dataframe thead th {\n",
       "        text-align: right;\n",
       "    }\n",
       "</style>\n",
       "<table border=\"1\" class=\"dataframe\">\n",
       "  <thead>\n",
       "    <tr style=\"text-align: right;\">\n",
       "      <th></th>\n",
       "      <th>BPID</th>\n",
       "      <th>Account</th>\n",
       "      <th>Contact</th>\n",
       "    </tr>\n",
       "  </thead>\n",
       "  <tbody>\n",
       "    <tr>\n",
       "      <th>0</th>\n",
       "      <td>3000612920</td>\n",
       "      <td>Research Organization of Information</td>\n",
       "      <td>Martijn Timman</td>\n",
       "    </tr>\n",
       "    <tr>\n",
       "      <th>1</th>\n",
       "      <td>2000703964</td>\n",
       "      <td>INSERM DISC-IST</td>\n",
       "      <td>Martijn Timman</td>\n",
       "    </tr>\n",
       "    <tr>\n",
       "      <th>2</th>\n",
       "      <td>2000478521</td>\n",
       "      <td>The University of Tokyo</td>\n",
       "      <td>Martijn Timman</td>\n",
       "    </tr>\n",
       "    <tr>\n",
       "      <th>3</th>\n",
       "      <td>2000277680</td>\n",
       "      <td>Shanghai Library / Institute of</td>\n",
       "      <td>Martijn Timman</td>\n",
       "    </tr>\n",
       "    <tr>\n",
       "      <th>4</th>\n",
       "      <td>2000342845</td>\n",
       "      <td>National Library of China NLC</td>\n",
       "      <td>Martijn Timman</td>\n",
       "    </tr>\n",
       "  </tbody>\n",
       "</table>\n",
       "</div>"
      ],
      "text/plain": [
       "         BPID                               Account         Contact\n",
       "0  3000612920  Research Organization of Information  Martijn Timman\n",
       "1  2000703964                       INSERM DISC-IST  Martijn Timman\n",
       "2  2000478521               The University of Tokyo  Martijn Timman\n",
       "3  2000277680       Shanghai Library / Institute of  Martijn Timman\n",
       "4  2000342845         National Library of China NLC  Martijn Timman"
      ]
     },
     "execution_count": 3,
     "metadata": {},
     "output_type": "execute_result"
    }
   ],
   "source": [
    "bpids = pd.read_csv(\"data_input/Markus - HA BPIDs for MVP - Sheet1.csv\")\n",
    "BPIDS_LIST = bpids[\"BPID\"].to_list()\n",
    "bpids.head()"
   ]
  },
  {
   "cell_type": "code",
   "execution_count": 4,
   "metadata": {
    "Collapsed": "false"
   },
   "outputs": [
    {
     "data": {
      "text/html": [
       "<div>\n",
       "<style scoped>\n",
       "    .dataframe tbody tr th:only-of-type {\n",
       "        vertical-align: middle;\n",
       "    }\n",
       "\n",
       "    .dataframe tbody tr th {\n",
       "        vertical-align: top;\n",
       "    }\n",
       "\n",
       "    .dataframe thead th {\n",
       "        text-align: right;\n",
       "    }\n",
       "</style>\n",
       "<table border=\"1\" class=\"dataframe\">\n",
       "  <thead>\n",
       "    <tr style=\"text-align: right;\">\n",
       "      <th></th>\n",
       "      <th>Business Partner</th>\n",
       "      <th>Identification Type</th>\n",
       "      <th>Identification number (= Site ID)</th>\n",
       "      <th>BP Type</th>\n",
       "    </tr>\n",
       "  </thead>\n",
       "  <tbody>\n",
       "    <tr>\n",
       "      <th>0</th>\n",
       "      <td>1000057105</td>\n",
       "      <td>ZSITE</td>\n",
       "      <td>5054</td>\n",
       "      <td>4</td>\n",
       "    </tr>\n",
       "    <tr>\n",
       "      <th>1</th>\n",
       "      <td>1000194767</td>\n",
       "      <td>ZSITE</td>\n",
       "      <td>7564</td>\n",
       "      <td>4</td>\n",
       "    </tr>\n",
       "    <tr>\n",
       "      <th>2</th>\n",
       "      <td>1000207511</td>\n",
       "      <td>ZSITE</td>\n",
       "      <td>17293</td>\n",
       "      <td>4</td>\n",
       "    </tr>\n",
       "    <tr>\n",
       "      <th>3</th>\n",
       "      <td>1000213645</td>\n",
       "      <td>ZSITE</td>\n",
       "      <td>251</td>\n",
       "      <td>4</td>\n",
       "    </tr>\n",
       "    <tr>\n",
       "      <th>4</th>\n",
       "      <td>1000213969</td>\n",
       "      <td>ZSITE</td>\n",
       "      <td>14052</td>\n",
       "      <td>4</td>\n",
       "    </tr>\n",
       "  </tbody>\n",
       "</table>\n",
       "</div>"
      ],
      "text/plain": [
       "   Business Partner Identification Type  Identification number (= Site ID)  \\\n",
       "0        1000057105               ZSITE                               5054   \n",
       "1        1000194767               ZSITE                               7564   \n",
       "2        1000207511               ZSITE                              17293   \n",
       "3        1000213645               ZSITE                                251   \n",
       "4        1000213969               ZSITE                              14052   \n",
       "\n",
       "   BP Type  \n",
       "0        4  \n",
       "1        4  \n",
       "2        4  \n",
       "3        4  \n",
       "4        4  "
      ]
     },
     "execution_count": 4,
     "metadata": {},
     "output_type": "execute_result"
    }
   ],
   "source": [
    "siteids = pd.read_csv(\"data_input/Site to BP ID mapping table_7 Jan 20.csv\")\n",
    "\n",
    "def bpid_to_siteid(bpid):\n",
    "    try:\n",
    "        return siteids[siteids['Business Partner'] == bpid]['Identification number (= Site ID)'].values[0]\n",
    "    except:\n",
    "        return None\n",
    "    \n",
    "if False:\n",
    "    for x in sorted(BPIDS_LIST):\n",
    "        print(bpid_to_siteid(x))\n",
    "        \n",
    "# len([x for x in BPIDS_LIST if bpid_to_siteid(x)])\n",
    "# => 154 with mappings to site IDs\n",
    "siteids.head()"
   ]
  },
  {
   "cell_type": "code",
   "execution_count": 5,
   "metadata": {
    "Collapsed": "false"
   },
   "outputs": [],
   "source": [
    "OUTPUT_FOLDER = \"/Users/michele.pasin/Desktop/data_output\"\n",
    "\n",
    "OUTPUT_FOLDER = \"/Volumes/Albano/2020-01-31-holding-analysis-extraction\"\n",
    "\n",
    "def gen_bpid_folder(folder, top_level_folder=OUTPUT_FOLDER, docreate=True):\n",
    "    if not os.path.exists(top_level_folder):\n",
    "        if docreate: os.makedirs(top_level_folder)\n",
    "    if not os.path.exists(top_level_folder + \"/\" + folder):\n",
    "        if docreate: os.makedirs(top_level_folder + \"/\" + folder)\n",
    "    return top_level_folder + \"/\" + folder + \"/\"\n"
   ]
  },
  {
   "cell_type": "markdown",
   "metadata": {
    "Collapsed": "false"
   },
   "source": [
    "\n",
    "## 2. Extracting all parents and children\n",
    "\n",
    "* from a single BPID, pull out all parents and children as JSON\n",
    "* save JSON to folder, if needed\n",
    "* return simple list of BPIDs, including original one\n",
    "\n",
    "PS\n",
    "* `extract_related_bpids_from_local_file` is a modified version that uses previously saved local data"
   ]
  },
  {
   "cell_type": "code",
   "execution_count": 10,
   "metadata": {
    "Collapsed": "false"
   },
   "outputs": [],
   "source": [
    "api_parents = \"http://institution-service.live.cf.private.springer.com/v1/hierarchy/{}\"\n",
    "api_children = \"http://institution-service.live.cf.private.springer.com/v1/children/{}\"\n",
    "\n",
    "        \n",
    "def extract_related_bpids(BPID):\n",
    "    BPID = str(BPID)\n",
    "    print(\"======\\nChecking Hierarchy for BPID: \", BPID, \"\\n======\")\n",
    "    path = gen_bpid_folder(BPID)\n",
    "    # call API\n",
    "    parents = requests.get(api_parents.format(BPID)).json()\n",
    "    children = requests.get(api_children.format(BPID)).json()\n",
    "    # save\n",
    "    with open(path + 'parents.json', 'w') as outfile:\n",
    "        json.dump(parents, outfile)\n",
    "    with open(path + 'children.json', 'w') as outfile:\n",
    "        json.dump(children, outfile)\n",
    "    print(\"..data saved in\", path)\n",
    "    # extract BPIDs as list\n",
    "    bpid_list = [BPID] # seed with main bpid\n",
    "    for x in parents[\"parents\"]: \n",
    "        bpid_list.append(x['institution']['id'])\n",
    "        if x['parents']:  # just go one level up\n",
    "            for z in x[\"parents\"]: \n",
    "                bpid_list.append(z['institution']['id'])            \n",
    "    for x in children:\n",
    "        bpid_list.append(x['id'])\n",
    "    print(\"Related BPIDs found: \", len(bpid_list), \"=\", str(bpid_list))\n",
    "    return bpid_list\n",
    "\n",
    "\n",
    "def extract_related_bpids_from_local_file(BPID):\n",
    "    \"\"\"use the previously saved json data (from extract_related_bpids) instead of calling SN API\"\"\"\n",
    "    BPID = str(BPID)\n",
    "    print(\"======\\nChecking Pre-saved Hierarchy for BPID: \", BPID, \"\\n======\")\n",
    "    path = gen_bpid_folder(BPID, docreate=False)\n",
    "    # get json data\n",
    "    with open(path + 'parents.json', \"r\") as read_file:\n",
    "        parents = json.load(read_file)\n",
    "    with open(path + 'children.json', \"r\") as read_file:\n",
    "        children = json.load(read_file)\n",
    "    bpid_list = []\n",
    "    # extract BPIDs as list\n",
    "    bpid_list = [BPID] # seed with main bpid\n",
    "    for x in parents[\"parents\"]: \n",
    "        bpid_list.append(x['institution']['id'])\n",
    "        if x['parents']:  # just go one level up\n",
    "            for z in x[\"parents\"]: \n",
    "                bpid_list.append(z['institution']['id'])            \n",
    "    for x in children:\n",
    "        bpid_list.append(x['id'])\n",
    "    print(\"Related BPIDs found: \", len(bpid_list), \"=\", str(bpid_list))\n",
    "    return bpid_list\n",
    "\n",
    "\n",
    "\n",
    "# eg\n",
    "if False:\n",
    "    for x in progress(BPIDS_LIST[:10]):\n",
    "        extract_related_bpids(x)\n",
    "        \n",
    "# eg\n",
    "if False:\n",
    "    for x in progress(BPIDS_LIST[:10]):\n",
    "        extract_related_bpids_from_local_file(x)"
   ]
  },
  {
   "cell_type": "markdown",
   "metadata": {
    "Collapsed": "false"
   },
   "source": [
    "## 3. Extracting KBARTs\n",
    "\n",
    "* for a single BPID, get nature/springer kbarts (books is postponed)\n",
    "* save all in the main BPID folder (= customer the analysis focuses on)"
   ]
  },
  {
   "cell_type": "code",
   "execution_count": 76,
   "metadata": {
    "Collapsed": "false"
   },
   "outputs": [],
   "source": [
    "url_books = \"http://ml-read-online.live.sl.i.springer.com:7655/admin-portal/201802052054-134/kbart/book-report.xqy?bp={}\"\n",
    "url_journals = \"http://ml-read-online.live.sl.i.springer.com:7655/admin-portal/201802052054-134/kbart/journal-report.xqy?bp={}\"\n",
    "url_nature = \"http://entitlements-api.live.private.springernature.io/entitlements/v1/journals/kbart?bpid={}\"\n",
    "\n",
    "\n",
    "def extract_kbarts(BPID, BPID_TOP=None):\n",
    "    if not BPID_TOP:\n",
    "        BPID_TOP = BPID\n",
    "    BPID, BPID_TOP = str(BPID), str(BPID_TOP)\n",
    "    path = gen_bpid_folder(BPID_TOP)\n",
    "    print(\"===\\nExtracting KBARTs for\", BPID, \" -- top level=\", BPID_TOP)\n",
    "    if False:\n",
    "        # not needed yet\n",
    "        print(\"..books...\")\n",
    "        d = requests.get(url_books.format(BPID), auth=('casper-db-user', 'casper'))\n",
    "        with open(path + BPID + \"_books.kbart\", 'wb') as outfile:\n",
    "            outfile.write(d.text.encode('utf8'))\n",
    "    #\n",
    "    print(\"..journals/springer...\")\n",
    "    d = requests.get(url_journals.format(BPID), auth=('casper-db-user', 'casper'))\n",
    "    with open(path + BPID + \"_journals_springer.kbart\", 'wb') as outfile:\n",
    "        outfile.write(d.text.encode('utf8'))\n",
    "    #\n",
    "    print(\"..journals/nature...\")\n",
    "    d = requests.get(url_nature.format(BPID), auth=('casper-db-user', 'casper'))\n",
    "    with open(path + BPID + \"_journals_nature.kbart\", 'wb') as outfile:\n",
    "        outfile.write(d.text.encode('utf8'))\n",
    "\n",
    "        \n",
    "# eg\n",
    "if False:\n",
    "    for x in progress(BPIDS_LIST[:10]):\n",
    "        extract_kbarts(x)\n"
   ]
  },
  {
   "cell_type": "markdown",
   "metadata": {
    "Collapsed": "false"
   },
   "source": [
    "## 4. Running the Extraction: kbarts and bpids parents/children\n"
   ]
  },
  {
   "cell_type": "code",
   "execution_count": null,
   "metadata": {
    "Collapsed": "false"
   },
   "outputs": [],
   "source": [
    "source_data = BPIDS_LIST\n",
    "\n",
    "errors = []\n",
    "for b1 in progress(source_data):\n",
    "    try:\n",
    "        related = extract_related_bpids(b1)\n",
    "    except:\n",
    "        related = []\n",
    "        errors.append(b1)\n",
    "        print(\"++++ ERROR ++++\")\n",
    "        print(\"Errors index =\", errors)\n",
    "    for b2 in progress(related):\n",
    "        extract_kbarts(b2, b1)\n",
    "\n",
    "print(\"**** completed ****\")\n",
    "print(\"Errors index =\", errors)"
   ]
  },
  {
   "cell_type": "markdown",
   "metadata": {
    "Collapsed": "false"
   },
   "source": [
    "## 5. Extracting Usage: Springer\n",
    "\n",
    "* requires a GBQ service account credentials (JSON file)\n",
    "* for a BPID, pull all usage data - Springer only for the moment\n",
    "* if a BPID is not found or not valid, it simply outputs a zero-lines CSV\n"
   ]
  },
  {
   "cell_type": "code",
   "execution_count": 9,
   "metadata": {
    "Collapsed": "false"
   },
   "outputs": [],
   "source": [
    "from google.cloud import bigquery\n",
    "\n",
    "credentials_file = '/Users/michele.pasin/Google Drive/Colab Notebooks/Reports/SpringerNature/2020-01-SN-Markus-BPIDs/data_input/usage-data-reporting-523fb677bd0a.json'\n",
    "project_id = 'usage-data-reporting'\n",
    "# Explicitly use service account credentials by specifying the private key file\n",
    "client_ref = bigquery.Client.from_service_account_json(credentials_file)\n",
    "\n",
    "gbq_query = '''\n",
    "Select DOI, Usage_2016, Usage_2017, Usage_2018, Denials_2016, Denials_2017, Denials_2018 FROM (\n",
    "    SELECT \n",
    "    BP_ID, Item_DOI as DOI,  sum(clicks),\n",
    "    sum(Case when Calendar_Year = 2016 and Access_YN = 'Y' Then Clicks Else 0 END) as Usage_2016,\n",
    "    sum(Case when Calendar_Year = 2017 and Access_YN = 'Y' Then Clicks Else 0 END) as Usage_2017,\n",
    "    sum(Case when Calendar_Year = 2018 and Access_YN = 'Y' Then Clicks Else 0 END) as Usage_2018,\n",
    "    sum(Case when Calendar_Year = 2016 and Access_YN = 'N' Then Clicks Else 0 END) as Denials_2016,\n",
    "    sum(Case when Calendar_Year = 2017 and Access_YN = 'N' Then Clicks Else 0 END) as Denials_2017,\n",
    "    sum(Case when Calendar_Year = 2018 and Access_YN = 'N' Then Clicks Else 0 END) as Denials_2018,\n",
    "\n",
    "    FROM `usage-data-reporting.PROD_IFM_Usage.mv_usage_bp_monthly_spl` \n",
    "    Where \n",
    "    Document_Type = 'ARTICLE'\n",
    "    and Item_DOI is not null\n",
    "    and DOI is not null\n",
    "    and clicks is not null\n",
    "    and Calendar_Year in (2016, 2017, 2018)\n",
    "    Group by 1, 2\n",
    "    Order by 1, 2)\n",
    "Where BP_ID = '{}' \n",
    "# limit 100\n",
    "'''\n",
    "\n",
    "\n",
    "def extract_usage_springer(BPID, BPID_TOP=None):\n",
    "    if not BPID_TOP:\n",
    "        BPID_TOP = BPID\n",
    "    BPID, BPID_TOP = str(BPID), str(BPID_TOP)\n",
    "    path = gen_bpid_folder(BPID_TOP)\n",
    "    print(\"===\\nExtracting Springer Usage for\", BPID, \" -- top level=\", BPID_TOP)\n",
    "    #\n",
    "    query_job = client_ref.query(gbq_query.format(BPID)).to_dataframe()\n",
    "    print(\"..saving..\")\n",
    "    query_job.to_csv(path + BPID + \"_usage_springer.csv\", index=False)\n",
    "\n",
    "\n",
    "        \n",
    "# eg\n",
    "if False:\n",
    "    for x in progress(BPIDS_LIST[:1]):\n",
    "        extract_usage_springer(x)\n",
    "\n",
    "        "
   ]
  },
  {
   "cell_type": "markdown",
   "metadata": {
    "Collapsed": "false",
    "toc-hr-collapsed": true,
    "toc-nb-collapsed": true
   },
   "source": [
    "## 6. Running the Extraction: Usage Springer\n",
    "\n",
    "* first, an extra function to reuse the BPIDs file structure from before to know which BPIDs to use\n"
   ]
  },
  {
   "cell_type": "code",
   "execution_count": null,
   "metadata": {
    "Collapsed": "false"
   },
   "outputs": [],
   "source": [
    "source_data = BPIDS_LIST\n",
    "errors = []\n",
    "\n",
    "for b1 in progress(source_data):\n",
    "    try:\n",
    "        related = extract_related_bpids_from_local_file(b1)\n",
    "    except:\n",
    "        related = []\n",
    "        errors.append(b1)\n",
    "        print(\"++++ ERROR ++++\")\n",
    "        print(\"Errors index =\", errors)\n",
    "    for b2 in progress(related):\n",
    "        extract_usage_springer(b2, b1)\n",
    "\n",
    "print(\"**** completed ****\")\n",
    "print(\"Errors index =\", errors)"
   ]
  },
  {
   "cell_type": "markdown",
   "metadata": {
    "Collapsed": "false"
   },
   "source": [
    "####  QAing the data: Springer Extraction\n",
    "\n",
    "* folders created VS BPIDs in Markus list (192)"
   ]
  },
  {
   "cell_type": "code",
   "execution_count": 6,
   "metadata": {
    "Collapsed": "false"
   },
   "outputs": [
    {
     "data": {
      "text/plain": [
       "192"
      ]
     },
     "execution_count": 6,
     "metadata": {},
     "output_type": "execute_result"
    }
   ],
   "source": [
    "len(BPIDS_LIST)"
   ]
  },
  {
   "cell_type": "code",
   "execution_count": 12,
   "metadata": {
    "Collapsed": "false"
   },
   "outputs": [
    {
     "data": {
      "text/plain": [
       "189"
      ]
     },
     "execution_count": 12,
     "metadata": {},
     "output_type": "execute_result"
    }
   ],
   "source": [
    "path = \"/Users/michele.pasin/Desktop/data_output\"\n",
    "folders = [f for f in os.listdir(path) if not f.startswith('.')]\n",
    "len(folders)"
   ]
  },
  {
   "cell_type": "code",
   "execution_count": 21,
   "metadata": {
    "Collapsed": "false"
   },
   "outputs": [
    {
     "data": {
      "text/plain": [
       "192"
      ]
     },
     "execution_count": 21,
     "metadata": {},
     "output_type": "execute_result"
    }
   ],
   "source": [
    "len([x for x in BPIDS_LIST if str(x)  in folders])"
   ]
  },
  {
   "cell_type": "code",
   "execution_count": 22,
   "metadata": {
    "Collapsed": "false"
   },
   "outputs": [
    {
     "data": {
      "text/plain": [
       "189"
      ]
     },
     "execution_count": 22,
     "metadata": {},
     "output_type": "execute_result"
    }
   ],
   "source": [
    "len(set(BPIDS_LIST))"
   ]
  },
  {
   "cell_type": "markdown",
   "metadata": {
    "Collapsed": "false"
   },
   "source": [
    "Turns out the original list contained 3 sets of duplicates."
   ]
  },
  {
   "cell_type": "markdown",
   "metadata": {
    "Collapsed": "false"
   },
   "source": [
    "## 7. Extracting Usage: Nature\n",
    "\n",
    "* requires a GBQ service account credentials (JSON file)\n",
    "* for each BPID, find the corresponding SITE_ID\n",
    "* for a SITE_ID, pull all usage data - using Nature table\n"
   ]
  },
  {
   "cell_type": "code",
   "execution_count": 1,
   "metadata": {
    "Collapsed": "false"
   },
   "outputs": [],
   "source": [
    "from google.cloud import bigquery\n",
    "\n",
    "credentials_file = '/Users/michele.pasin/Google Drive/Colab Notebooks/Reports/SpringerNature/2020-01-SN-Markus-BPIDs/data_input/usage-data-reporting-523fb677bd0a.json'\n",
    "project_id = 'usage-data-reporting'\n",
    "# Explicitly use service account credentials by specifying the private key file\n",
    "client_ref = bigquery.Client.from_service_account_json(credentials_file)\n",
    "\n",
    "gbq_query = '''\n",
    "Select DOI, Usage_2016, Usage_2017, Usage_2018, Denials_2016, Denials_2017, Denials_2018 FROM (\n",
    "\n",
    "SELECT\n",
    "Site_ID, Item_DOI as DOI,  sum(clicks),\n",
    "\n",
    "sum(Case when Calendar_Year = 2016 and Access_YN = 'Y' Then Clicks Else 0 END) as Usage_2016,\n",
    "sum(Case when Calendar_Year = 2017 and Access_YN = 'Y' Then Clicks Else 0 END) as Usage_2017,\n",
    "sum(Case when Calendar_Year = 2018 and Access_YN = 'Y' Then Clicks Else 0 END) as Usage_2018,\n",
    "sum(Case when Calendar_Year = 2016 and Access_YN = 'N' Then Clicks Else 0 END) as Denials_2016,\n",
    "sum(Case when Calendar_Year = 2017 and Access_YN = 'N' Then Clicks Else 0 END) as Denials_2017,\n",
    "sum(Case when Calendar_Year = 2018 and Access_YN = 'N' Then Clicks Else 0 END) as Denials_2018,\n",
    "\n",
    "FROM `usage-data-reporting.PROD_IFM_Usage.mv_usage_bp_monthly_nat`\n",
    "Where\n",
    "Item_DOI is not null\n",
    "and DOI is not null\n",
    "and clicks is not null\n",
    "and Calendar_Year in (2016, 2017, 2018)\n",
    "Group by 1, 2\n",
    "Order by 1, 2)\n",
    "\n",
    "Where Site_ID = '{}'\n",
    "'''\n",
    "\n",
    "\n",
    "def extract_usage_nature(BPID, BPID_TOP=None):\n",
    "    if not BPID_TOP:\n",
    "        BPID_TOP = BPID\n",
    "    SITE_ID = bpid_to_siteid(int(BPID))\n",
    "    BPID, BPID_TOP = str(BPID), str(BPID_TOP)\n",
    "    path = gen_bpid_folder(BPID_TOP)\n",
    "    if SITE_ID:\n",
    "        print(\"===\\nExtracting Nature Usage for\", BPID, \" -- top level=\", BPID_TOP, \"Site_id=\", SITE_ID)\n",
    "        #\n",
    "        query_job = client_ref.query(gbq_query.format(str(SITE_ID))).to_dataframe()\n",
    "        print(\"..saving..\")\n",
    "        query_job.to_csv(path + BPID + \"_usage_nature.csv\", index=False)\n",
    "    else:\n",
    "        print(\"...mapping from\", BPID, \" to Site_id not found: skipping\")\n",
    "\n",
    "        \n",
    "# eg\n",
    "if False:\n",
    "    for x in progress(BPIDS_LIST[:10]):\n",
    "        extract_usage_nature(x)\n",
    "\n",
    "        "
   ]
  },
  {
   "cell_type": "markdown",
   "metadata": {
    "Collapsed": "false"
   },
   "source": [
    "## 8. Running the Extraction: Usage Nature\n"
   ]
  },
  {
   "cell_type": "code",
   "execution_count": 11,
   "metadata": {
    "Collapsed": "false"
   },
   "outputs": [
    {
     "data": {
      "application/vnd.jupyter.widget-view+json": {
       "model_id": "86f7ea61b8fb4ea3b414ccbc36b697ce",
       "version_major": 2,
       "version_minor": 0
      },
      "text/plain": [
       "HBox(children=(FloatProgress(value=0.0, max=192.0), HTML(value='')))"
      ]
     },
     "metadata": {},
     "output_type": "display_data"
    },
    {
     "name": "stdout",
     "output_type": "stream",
     "text": [
      "======\n",
      "Checking Pre-saved Hierarchy for BPID:  3000612920 \n",
      "======\n",
      "Related BPIDs found:  2 = ['3000612920', '3003777848']\n"
     ]
    },
    {
     "data": {
      "application/vnd.jupyter.widget-view+json": {
       "model_id": "042b9f0cb4f946d4a77a15b440263b86",
       "version_major": 2,
       "version_minor": 0
      },
      "text/plain": [
       "HBox(children=(FloatProgress(value=0.0, max=2.0), HTML(value='')))"
      ]
     },
     "metadata": {},
     "output_type": "display_data"
    },
    {
     "name": "stdout",
     "output_type": "stream",
     "text": [
      "...mapping from 3000612920  to Site_id not found: skipping\n",
      "===\n",
      "Extracting Nature Usage for 3003777848  -- top level= 3000612920 Site_id= 13251\n",
      "..saving..\n",
      "\n",
      "======\n",
      "Checking Pre-saved Hierarchy for BPID:  2000703964 \n",
      "======\n",
      "Related BPIDs found:  1 = ['2000703964']\n"
     ]
    },
    {
     "data": {
      "application/vnd.jupyter.widget-view+json": {
       "model_id": "07aa00ae5f7843a1ae9f0a0c497d45e5",
       "version_major": 2,
       "version_minor": 0
      },
      "text/plain": [
       "HBox(children=(FloatProgress(value=0.0, max=1.0), HTML(value='')))"
      ]
     },
     "metadata": {},
     "output_type": "display_data"
    },
    {
     "name": "stdout",
     "output_type": "stream",
     "text": [
      "...mapping from 2000703964  to Site_id not found: skipping\n",
      "\n",
      "======\n",
      "Checking Pre-saved Hierarchy for BPID:  2000478521 \n",
      "======\n",
      "Related BPIDs found:  2 = ['2000478521', '3000675571']\n"
     ]
    },
    {
     "data": {
      "application/vnd.jupyter.widget-view+json": {
       "model_id": "7ba7b4cba3c64f0fbdb66d95c1683af7",
       "version_major": 2,
       "version_minor": 0
      },
      "text/plain": [
       "HBox(children=(FloatProgress(value=0.0, max=2.0), HTML(value='')))"
      ]
     },
     "metadata": {},
     "output_type": "display_data"
    },
    {
     "name": "stdout",
     "output_type": "stream",
     "text": [
      "===\n",
      "Extracting Nature Usage for 2000478521  -- top level= 2000478521 Site_id= 4604\n",
      "..saving..\n",
      "...mapping from 3000675571  to Site_id not found: skipping\n",
      "\n",
      "======\n",
      "Checking Pre-saved Hierarchy for BPID:  2000277680 \n",
      "======\n",
      "Related BPIDs found:  8 = ['2000277680', '3000160641', '3000507429', '3991438065', '3001358220', '3002205109', '3002600051', '3002642964']\n"
     ]
    },
    {
     "data": {
      "application/vnd.jupyter.widget-view+json": {
       "model_id": "7f320cbac6ac45ef931e4c7cdfb376cd",
       "version_major": 2,
       "version_minor": 0
      },
      "text/plain": [
       "HBox(children=(FloatProgress(value=0.0, max=8.0), HTML(value='')))"
      ]
     },
     "metadata": {},
     "output_type": "display_data"
    },
    {
     "name": "stdout",
     "output_type": "stream",
     "text": [
      "===\n",
      "Extracting Nature Usage for 2000277680  -- top level= 2000277680 Site_id= 14945\n",
      "..saving..\n",
      "...mapping from 3000160641  to Site_id not found: skipping\n",
      "...mapping from 3000507429  to Site_id not found: skipping\n",
      "...mapping from 3991438065  to Site_id not found: skipping\n",
      "...mapping from 3001358220  to Site_id not found: skipping\n",
      "...mapping from 3002205109  to Site_id not found: skipping\n",
      "...mapping from 3002600051  to Site_id not found: skipping\n",
      "...mapping from 3002642964  to Site_id not found: skipping\n",
      "\n",
      "======\n",
      "Checking Pre-saved Hierarchy for BPID:  2000342845 \n",
      "======\n",
      "Related BPIDs found:  5 = ['2000342845', '3000202650', '3000508393', '3000595123', '3000701760']\n"
     ]
    },
    {
     "data": {
      "application/vnd.jupyter.widget-view+json": {
       "model_id": "95553dab97e541b6a090afa0b53201ed",
       "version_major": 2,
       "version_minor": 0
      },
      "text/plain": [
       "HBox(children=(FloatProgress(value=0.0, max=5.0), HTML(value='')))"
      ]
     },
     "metadata": {},
     "output_type": "display_data"
    },
    {
     "name": "stdout",
     "output_type": "stream",
     "text": [
      "===\n",
      "Extracting Nature Usage for 2000342845  -- top level= 2000342845 Site_id= 12245\n",
      "..saving..\n",
      "...mapping from 3000202650  to Site_id not found: skipping\n",
      "...mapping from 3000508393  to Site_id not found: skipping\n",
      "...mapping from 3000595123  to Site_id not found: skipping\n",
      "...mapping from 3000701760  to Site_id not found: skipping\n",
      "\n",
      "======\n",
      "Checking Pre-saved Hierarchy for BPID:  3000146645 \n",
      "======\n",
      "Related BPIDs found:  2 = ['3000146645', '3000675571']\n"
     ]
    },
    {
     "data": {
      "application/vnd.jupyter.widget-view+json": {
       "model_id": "4cfbf34336ad4d7db14de18d607656d6",
       "version_major": 2,
       "version_minor": 0
      },
      "text/plain": [
       "HBox(children=(FloatProgress(value=0.0, max=2.0), HTML(value='')))"
      ]
     },
     "metadata": {},
     "output_type": "display_data"
    },
    {
     "name": "stdout",
     "output_type": "stream",
     "text": [
      "===\n",
      "Extracting Nature Usage for 3000146645  -- top level= 3000146645 Site_id= 1837\n",
      "..saving..\n",
      "...mapping from 3000675571  to Site_id not found: skipping\n",
      "\n",
      "======\n",
      "Checking Pre-saved Hierarchy for BPID:  3000146572 \n",
      "======\n",
      "Related BPIDs found:  2 = ['3000146572', '3000675571']\n"
     ]
    },
    {
     "data": {
      "application/vnd.jupyter.widget-view+json": {
       "model_id": "83692d8a74cc47778dac7acfd8f5cc76",
       "version_major": 2,
       "version_minor": 0
      },
      "text/plain": [
       "HBox(children=(FloatProgress(value=0.0, max=2.0), HTML(value='')))"
      ]
     },
     "metadata": {},
     "output_type": "display_data"
    },
    {
     "name": "stdout",
     "output_type": "stream",
     "text": [
      "===\n",
      "Extracting Nature Usage for 3000146572  -- top level= 3000146572 Site_id= 1845\n",
      "..saving..\n",
      "...mapping from 3000675571  to Site_id not found: skipping\n",
      "\n",
      "======\n",
      "Checking Pre-saved Hierarchy for BPID:  3000146511 \n",
      "======\n",
      "Related BPIDs found:  2 = ['3000146511', '3000675571']\n"
     ]
    },
    {
     "data": {
      "application/vnd.jupyter.widget-view+json": {
       "model_id": "d8df4ab08a324e9facff28a67dd22674",
       "version_major": 2,
       "version_minor": 0
      },
      "text/plain": [
       "HBox(children=(FloatProgress(value=0.0, max=2.0), HTML(value='')))"
      ]
     },
     "metadata": {},
     "output_type": "display_data"
    },
    {
     "name": "stdout",
     "output_type": "stream",
     "text": [
      "===\n",
      "Extracting Nature Usage for 3000146511  -- top level= 3000146511 Site_id= 2593\n",
      "..saving..\n",
      "...mapping from 3000675571  to Site_id not found: skipping\n",
      "\n",
      "======\n",
      "Checking Pre-saved Hierarchy for BPID:  3000102420 \n",
      "======\n",
      "Related BPIDs found:  1 = ['3000102420']\n"
     ]
    },
    {
     "data": {
      "application/vnd.jupyter.widget-view+json": {
       "model_id": "fdc24c0de6534f369378b73c1b3f6acc",
       "version_major": 2,
       "version_minor": 0
      },
      "text/plain": [
       "HBox(children=(FloatProgress(value=0.0, max=1.0), HTML(value='')))"
      ]
     },
     "metadata": {},
     "output_type": "display_data"
    },
    {
     "name": "stdout",
     "output_type": "stream",
     "text": [
      "===\n",
      "Extracting Nature Usage for 3000102420  -- top level= 3000102420 Site_id= 10318\n",
      "..saving..\n",
      "\n",
      "======\n",
      "Checking Pre-saved Hierarchy for BPID:  2000425646 \n",
      "======\n",
      "Related BPIDs found:  2 = ['2000425646', '3000675571']\n"
     ]
    },
    {
     "data": {
      "application/vnd.jupyter.widget-view+json": {
       "model_id": "bb1a963ff54e4fcfbf562065ae130c11",
       "version_major": 2,
       "version_minor": 0
      },
      "text/plain": [
       "HBox(children=(FloatProgress(value=0.0, max=2.0), HTML(value='')))"
      ]
     },
     "metadata": {},
     "output_type": "display_data"
    },
    {
     "name": "stdout",
     "output_type": "stream",
     "text": [
      "===\n",
      "Extracting Nature Usage for 2000425646  -- top level= 2000425646 Site_id= 4576\n",
      "..saving..\n",
      "...mapping from 3000675571  to Site_id not found: skipping\n",
      "\n",
      "======\n",
      "Checking Pre-saved Hierarchy for BPID:  3000147746 \n",
      "======\n",
      "Related BPIDs found:  2 = ['3000147746', '3000675571']\n"
     ]
    },
    {
     "data": {
      "application/vnd.jupyter.widget-view+json": {
       "model_id": "7a336c021472454387120a0be54ce018",
       "version_major": 2,
       "version_minor": 0
      },
      "text/plain": [
       "HBox(children=(FloatProgress(value=0.0, max=2.0), HTML(value='')))"
      ]
     },
     "metadata": {},
     "output_type": "display_data"
    },
    {
     "name": "stdout",
     "output_type": "stream",
     "text": [
      "===\n",
      "Extracting Nature Usage for 3000147746  -- top level= 3000147746 Site_id= 4612\n",
      "..saving..\n",
      "...mapping from 3000675571  to Site_id not found: skipping\n",
      "\n",
      "======\n",
      "Checking Pre-saved Hierarchy for BPID:  3000146148 \n",
      "======\n",
      "Related BPIDs found:  2 = ['3000146148', '3000675571']\n"
     ]
    },
    {
     "data": {
      "application/vnd.jupyter.widget-view+json": {
       "model_id": "4563362b37074b44b027d511c35e8f57",
       "version_major": 2,
       "version_minor": 0
      },
      "text/plain": [
       "HBox(children=(FloatProgress(value=0.0, max=2.0), HTML(value='')))"
      ]
     },
     "metadata": {},
     "output_type": "display_data"
    },
    {
     "name": "stdout",
     "output_type": "stream",
     "text": [
      "===\n",
      "Extracting Nature Usage for 3000146148  -- top level= 3000146148 Site_id= 6879\n",
      "..saving..\n",
      "...mapping from 3000675571  to Site_id not found: skipping\n",
      "\n",
      "======\n",
      "Checking Pre-saved Hierarchy for BPID:  2000494169 \n",
      "======\n",
      "Related BPIDs found:  4 = ['2000494169', '3000251368', '3000593105', '3000130631']\n"
     ]
    },
    {
     "data": {
      "application/vnd.jupyter.widget-view+json": {
       "model_id": "83e0bf35095749ac9fd5c3659b31ee1f",
       "version_major": 2,
       "version_minor": 0
      },
      "text/plain": [
       "HBox(children=(FloatProgress(value=0.0, max=4.0), HTML(value='')))"
      ]
     },
     "metadata": {},
     "output_type": "display_data"
    },
    {
     "name": "stdout",
     "output_type": "stream",
     "text": [
      "===\n",
      "Extracting Nature Usage for 2000494169  -- top level= 2000494169 Site_id= 4624\n",
      "..saving..\n",
      "...mapping from 3000251368  to Site_id not found: skipping\n",
      "...mapping from 3000593105  to Site_id not found: skipping\n",
      "...mapping from 3000130631  to Site_id not found: skipping\n",
      "\n",
      "======\n",
      "Checking Pre-saved Hierarchy for BPID:  3001704148 \n",
      "======\n",
      "Related BPIDs found:  1 = ['3001704148']\n"
     ]
    },
    {
     "data": {
      "application/vnd.jupyter.widget-view+json": {
       "model_id": "d78cafbc2fb4471ba4ec5c55a4be0bca",
       "version_major": 2,
       "version_minor": 0
      },
      "text/plain": [
       "HBox(children=(FloatProgress(value=0.0, max=1.0), HTML(value='')))"
      ]
     },
     "metadata": {},
     "output_type": "display_data"
    },
    {
     "name": "stdout",
     "output_type": "stream",
     "text": [
      "===\n",
      "Extracting Nature Usage for 3001704148  -- top level= 3001704148 Site_id= 22404\n",
      "..saving..\n",
      "\n",
      "======\n",
      "Checking Pre-saved Hierarchy for BPID:  8200178020 \n",
      "======\n",
      "Related BPIDs found:  3 = ['8200178020', '3000122896', '3000171036']\n"
     ]
    },
    {
     "data": {
      "application/vnd.jupyter.widget-view+json": {
       "model_id": "8c431a2c36d3406aa6b5bcd419e58ed5",
       "version_major": 2,
       "version_minor": 0
      },
      "text/plain": [
       "HBox(children=(FloatProgress(value=0.0, max=3.0), HTML(value='')))"
      ]
     },
     "metadata": {},
     "output_type": "display_data"
    },
    {
     "name": "stdout",
     "output_type": "stream",
     "text": [
      "===\n",
      "Extracting Nature Usage for 8200178020  -- top level= 8200178020 Site_id= 4558\n",
      "..saving..\n",
      "...mapping from 3000122896  to Site_id not found: skipping\n",
      "...mapping from 3000171036  to Site_id not found: skipping\n",
      "\n",
      "======\n",
      "Checking Pre-saved Hierarchy for BPID:  2000341081 \n",
      "======\n",
      "Related BPIDs found:  1 = ['2000341081']\n"
     ]
    },
    {
     "data": {
      "application/vnd.jupyter.widget-view+json": {
       "model_id": "996228c67d66425c9e7bc9b9799d49ac",
       "version_major": 2,
       "version_minor": 0
      },
      "text/plain": [
       "HBox(children=(FloatProgress(value=0.0, max=1.0), HTML(value='')))"
      ]
     },
     "metadata": {},
     "output_type": "display_data"
    },
    {
     "name": "stdout",
     "output_type": "stream",
     "text": [
      "===\n",
      "Extracting Nature Usage for 2000341081  -- top level= 2000341081 Site_id= 8281\n",
      "..saving..\n",
      "\n",
      "======\n",
      "Checking Pre-saved Hierarchy for BPID:  3001125066 \n",
      "======\n",
      "Related BPIDs found:  1 = ['3001125066']\n"
     ]
    },
    {
     "data": {
      "application/vnd.jupyter.widget-view+json": {
       "model_id": "e03aa9dca0e142b796a6a185650d86e5",
       "version_major": 2,
       "version_minor": 0
      },
      "text/plain": [
       "HBox(children=(FloatProgress(value=0.0, max=1.0), HTML(value='')))"
      ]
     },
     "metadata": {},
     "output_type": "display_data"
    },
    {
     "name": "stdout",
     "output_type": "stream",
     "text": [
      "===\n",
      "Extracting Nature Usage for 3001125066  -- top level= 3001125066 Site_id= 4598\n",
      "..saving..\n",
      "\n",
      "======\n",
      "Checking Pre-saved Hierarchy for BPID:  1000680836 \n",
      "======\n",
      "Related BPIDs found:  4 = ['1000680836', '3000529219', '3000096123', '3991436001']\n"
     ]
    },
    {
     "data": {
      "application/vnd.jupyter.widget-view+json": {
       "model_id": "e0a67574a82248fb8f674cc38561c4e8",
       "version_major": 2,
       "version_minor": 0
      },
      "text/plain": [
       "HBox(children=(FloatProgress(value=0.0, max=4.0), HTML(value='')))"
      ]
     },
     "metadata": {},
     "output_type": "display_data"
    },
    {
     "name": "stdout",
     "output_type": "stream",
     "text": [
      "===\n",
      "Extracting Nature Usage for 1000680836  -- top level= 1000680836 Site_id= 6864\n",
      "..saving..\n",
      "...mapping from 3000529219  to Site_id not found: skipping\n",
      "...mapping from 3000096123  to Site_id not found: skipping\n",
      "...mapping from 3991436001  to Site_id not found: skipping\n",
      "\n",
      "======\n",
      "Checking Pre-saved Hierarchy for BPID:  8200898933 \n",
      "======\n",
      "Related BPIDs found:  1 = ['8200898933']\n"
     ]
    },
    {
     "data": {
      "application/vnd.jupyter.widget-view+json": {
       "model_id": "d49ebf0cbe944bbda34c82e100527897",
       "version_major": 2,
       "version_minor": 0
      },
      "text/plain": [
       "HBox(children=(FloatProgress(value=0.0, max=1.0), HTML(value='')))"
      ]
     },
     "metadata": {},
     "output_type": "display_data"
    },
    {
     "name": "stdout",
     "output_type": "stream",
     "text": [
      "===\n",
      "Extracting Nature Usage for 8200898933  -- top level= 8200898933 Site_id= 2156\n",
      "..saving..\n",
      "\n",
      "======\n",
      "Checking Pre-saved Hierarchy for BPID:  2000545279 \n",
      "======\n",
      "Related BPIDs found:  1 = ['2000545279']\n"
     ]
    },
    {
     "data": {
      "application/vnd.jupyter.widget-view+json": {
       "model_id": "7cdbbced4ac94a629c34a4efe70e95e9",
       "version_major": 2,
       "version_minor": 0
      },
      "text/plain": [
       "HBox(children=(FloatProgress(value=0.0, max=1.0), HTML(value='')))"
      ]
     },
     "metadata": {},
     "output_type": "display_data"
    },
    {
     "name": "stdout",
     "output_type": "stream",
     "text": [
      "===\n",
      "Extracting Nature Usage for 2000545279  -- top level= 2000545279 Site_id= 5672\n",
      "..saving..\n",
      "\n",
      "======\n",
      "Checking Pre-saved Hierarchy for BPID:  2000354351 \n",
      "======\n",
      "Related BPIDs found:  3 = ['2000354351', '3000241936', '3991436001']\n"
     ]
    },
    {
     "data": {
      "application/vnd.jupyter.widget-view+json": {
       "model_id": "0ef9b83dd5e140c2a77ec4b06e3507c6",
       "version_major": 2,
       "version_minor": 0
      },
      "text/plain": [
       "HBox(children=(FloatProgress(value=0.0, max=3.0), HTML(value='')))"
      ]
     },
     "metadata": {},
     "output_type": "display_data"
    },
    {
     "name": "stdout",
     "output_type": "stream",
     "text": [
      "===\n",
      "Extracting Nature Usage for 2000354351  -- top level= 2000354351 Site_id= 2810\n",
      "..saving..\n",
      "...mapping from 3000241936  to Site_id not found: skipping\n",
      "...mapping from 3991436001  to Site_id not found: skipping\n",
      "\n",
      "======\n",
      "Checking Pre-saved Hierarchy for BPID:  2000659946 \n",
      "======\n",
      "Related BPIDs found:  2 = ['2000659946', '3000229245']\n"
     ]
    },
    {
     "data": {
      "application/vnd.jupyter.widget-view+json": {
       "model_id": "27673c6c7930475190e1fa7dc9532395",
       "version_major": 2,
       "version_minor": 0
      },
      "text/plain": [
       "HBox(children=(FloatProgress(value=0.0, max=2.0), HTML(value='')))"
      ]
     },
     "metadata": {},
     "output_type": "display_data"
    },
    {
     "name": "stdout",
     "output_type": "stream",
     "text": [
      "===\n",
      "Extracting Nature Usage for 2000659946  -- top level= 2000659946 Site_id= 25058\n",
      "..saving..\n",
      "...mapping from 3000229245  to Site_id not found: skipping\n",
      "\n",
      "======\n",
      "Checking Pre-saved Hierarchy for BPID:  3003526252 \n",
      "======\n",
      "Related BPIDs found:  1 = ['3003526252']\n"
     ]
    },
    {
     "data": {
      "application/vnd.jupyter.widget-view+json": {
       "model_id": "93df21a02bee456eb2328a0665dd10f4",
       "version_major": 2,
       "version_minor": 0
      },
      "text/plain": [
       "HBox(children=(FloatProgress(value=0.0, max=1.0), HTML(value='')))"
      ]
     },
     "metadata": {},
     "output_type": "display_data"
    },
    {
     "name": "stdout",
     "output_type": "stream",
     "text": [
      "...mapping from 3003526252  to Site_id not found: skipping\n",
      "\n",
      "======\n",
      "Checking Pre-saved Hierarchy for BPID:  2000429567 \n",
      "======\n",
      "Related BPIDs found:  1 = ['2000429567']\n"
     ]
    },
    {
     "data": {
      "application/vnd.jupyter.widget-view+json": {
       "model_id": "d3bc662ff0014a55b6f4627b93be0ace",
       "version_major": 2,
       "version_minor": 0
      },
      "text/plain": [
       "HBox(children=(FloatProgress(value=0.0, max=1.0), HTML(value='')))"
      ]
     },
     "metadata": {},
     "output_type": "display_data"
    },
    {
     "name": "stdout",
     "output_type": "stream",
     "text": [
      "===\n",
      "Extracting Nature Usage for 2000429567  -- top level= 2000429567 Site_id= 12883\n",
      "..saving..\n",
      "\n",
      "======\n",
      "Checking Pre-saved Hierarchy for BPID:  2000642829 \n",
      "======\n",
      "Related BPIDs found:  5 = ['2000642829', '3000568527', '3000714840', '3001038963', '3001337747']\n"
     ]
    },
    {
     "data": {
      "application/vnd.jupyter.widget-view+json": {
       "model_id": "7f560bcf697c45eea24de16ea464ce6e",
       "version_major": 2,
       "version_minor": 0
      },
      "text/plain": [
       "HBox(children=(FloatProgress(value=0.0, max=5.0), HTML(value='')))"
      ]
     },
     "metadata": {},
     "output_type": "display_data"
    },
    {
     "name": "stdout",
     "output_type": "stream",
     "text": [
      "...mapping from 2000642829  to Site_id not found: skipping\n",
      "...mapping from 3000568527  to Site_id not found: skipping\n",
      "...mapping from 3000714840  to Site_id not found: skipping\n",
      "...mapping from 3001038963  to Site_id not found: skipping\n",
      "...mapping from 3001337747  to Site_id not found: skipping\n",
      "\n",
      "======\n",
      "Checking Pre-saved Hierarchy for BPID:  3000214444 \n",
      "======\n",
      "Related BPIDs found:  3 = ['3000214444', '3000096123', '3991436001']\n"
     ]
    },
    {
     "data": {
      "application/vnd.jupyter.widget-view+json": {
       "model_id": "d96e4be7280f4a009c2a9ee0df14eea0",
       "version_major": 2,
       "version_minor": 0
      },
      "text/plain": [
       "HBox(children=(FloatProgress(value=0.0, max=3.0), HTML(value='')))"
      ]
     },
     "metadata": {},
     "output_type": "display_data"
    },
    {
     "name": "stdout",
     "output_type": "stream",
     "text": [
      "===\n",
      "Extracting Nature Usage for 3000214444  -- top level= 3000214444 Site_id= 6735\n",
      "..saving..\n",
      "...mapping from 3000096123  to Site_id not found: skipping\n",
      "...mapping from 3991436001  to Site_id not found: skipping\n",
      "\n",
      "======\n",
      "Checking Pre-saved Hierarchy for BPID:  2000463160 \n",
      "======\n",
      "Related BPIDs found:  10 = ['2000463160', '3000130811', '3000481104', '3000730835', '3000824225', '3000208665', '3001039277', '3991464068', '3001231873', '3991447120']\n"
     ]
    },
    {
     "data": {
      "application/vnd.jupyter.widget-view+json": {
       "model_id": "96b5e1f4ade243c3a7b1c12462a8706d",
       "version_major": 2,
       "version_minor": 0
      },
      "text/plain": [
       "HBox(children=(FloatProgress(value=0.0, max=10.0), HTML(value='')))"
      ]
     },
     "metadata": {},
     "output_type": "display_data"
    },
    {
     "name": "stdout",
     "output_type": "stream",
     "text": [
      "===\n",
      "Extracting Nature Usage for 2000463160  -- top level= 2000463160 Site_id= 8885\n",
      "..saving..\n",
      "...mapping from 3000130811  to Site_id not found: skipping\n",
      "...mapping from 3000481104  to Site_id not found: skipping\n",
      "...mapping from 3000730835  to Site_id not found: skipping\n",
      "...mapping from 3000824225  to Site_id not found: skipping\n",
      "...mapping from 3000208665  to Site_id not found: skipping\n",
      "...mapping from 3001039277  to Site_id not found: skipping\n",
      "...mapping from 3991464068  to Site_id not found: skipping\n",
      "...mapping from 3001231873  to Site_id not found: skipping\n",
      "...mapping from 3991447120  to Site_id not found: skipping\n",
      "\n",
      "======\n",
      "Checking Pre-saved Hierarchy for BPID:  3000147891 \n",
      "======\n",
      "Related BPIDs found:  1 = ['3000147891']\n"
     ]
    },
    {
     "data": {
      "application/vnd.jupyter.widget-view+json": {
       "model_id": "08259d22294a411baae2b5dd1f72f965",
       "version_major": 2,
       "version_minor": 0
      },
      "text/plain": [
       "HBox(children=(FloatProgress(value=0.0, max=1.0), HTML(value='')))"
      ]
     },
     "metadata": {},
     "output_type": "display_data"
    },
    {
     "name": "stdout",
     "output_type": "stream",
     "text": [
      "===\n",
      "Extracting Nature Usage for 3000147891  -- top level= 3000147891 Site_id= 3573\n",
      "..saving..\n",
      "\n",
      "======\n",
      "Checking Pre-saved Hierarchy for BPID:  2000422113 \n",
      "======\n",
      "Related BPIDs found:  1 = ['2000422113']\n"
     ]
    },
    {
     "data": {
      "application/vnd.jupyter.widget-view+json": {
       "model_id": "aaabc1f445ff46f9b06ee73eb166dfca",
       "version_major": 2,
       "version_minor": 0
      },
      "text/plain": [
       "HBox(children=(FloatProgress(value=0.0, max=1.0), HTML(value='')))"
      ]
     },
     "metadata": {},
     "output_type": "display_data"
    },
    {
     "name": "stdout",
     "output_type": "stream",
     "text": [
      "===\n",
      "Extracting Nature Usage for 2000422113  -- top level= 2000422113 Site_id= 8483\n",
      "..saving..\n",
      "\n",
      "======\n",
      "Checking Pre-saved Hierarchy for BPID:  3000148958 \n",
      "======\n",
      "Related BPIDs found:  2 = ['3000148958', '3000675571']\n"
     ]
    },
    {
     "data": {
      "application/vnd.jupyter.widget-view+json": {
       "model_id": "1fa1f4572b3f4e4eb0e5790408e44161",
       "version_major": 2,
       "version_minor": 0
      },
      "text/plain": [
       "HBox(children=(FloatProgress(value=0.0, max=2.0), HTML(value='')))"
      ]
     },
     "metadata": {},
     "output_type": "display_data"
    },
    {
     "name": "stdout",
     "output_type": "stream",
     "text": [
      "===\n",
      "Extracting Nature Usage for 3000148958  -- top level= 3000148958 Site_id= 9508\n",
      "..saving..\n",
      "...mapping from 3000675571  to Site_id not found: skipping\n",
      "\n",
      "======\n",
      "Checking Pre-saved Hierarchy for BPID:  3000144974 \n",
      "======\n",
      "Related BPIDs found:  4 = ['3000144974', '3000180852', '3003532199', '3000155420']\n"
     ]
    },
    {
     "data": {
      "application/vnd.jupyter.widget-view+json": {
       "model_id": "3e02368968984ce6aef162752c59f69b",
       "version_major": 2,
       "version_minor": 0
      },
      "text/plain": [
       "HBox(children=(FloatProgress(value=0.0, max=4.0), HTML(value='')))"
      ]
     },
     "metadata": {},
     "output_type": "display_data"
    },
    {
     "name": "stdout",
     "output_type": "stream",
     "text": [
      "===\n",
      "Extracting Nature Usage for 3000144974  -- top level= 3000144974 Site_id= 2670\n",
      "..saving..\n",
      "...mapping from 3000180852  to Site_id not found: skipping\n",
      "...mapping from 3003532199  to Site_id not found: skipping\n",
      "...mapping from 3000155420  to Site_id not found: skipping\n",
      "\n",
      "======\n",
      "Checking Pre-saved Hierarchy for BPID:  8200919299 \n",
      "======\n",
      "Related BPIDs found:  2 = ['8200919299', '3000216639']\n"
     ]
    },
    {
     "data": {
      "application/vnd.jupyter.widget-view+json": {
       "model_id": "6166b8c329ef44a58325ad12989afd74",
       "version_major": 2,
       "version_minor": 0
      },
      "text/plain": [
       "HBox(children=(FloatProgress(value=0.0, max=2.0), HTML(value='')))"
      ]
     },
     "metadata": {},
     "output_type": "display_data"
    },
    {
     "name": "stdout",
     "output_type": "stream",
     "text": [
      "===\n",
      "Extracting Nature Usage for 8200919299  -- top level= 8200919299 Site_id= 15349\n",
      "..saving..\n",
      "...mapping from 3000216639  to Site_id not found: skipping\n",
      "\n",
      "======\n",
      "Checking Pre-saved Hierarchy for BPID:  2000175069 \n",
      "======\n",
      "Related BPIDs found:  4 = ['2000175069', '3000132959', '3000178880', '3994475188']\n"
     ]
    },
    {
     "data": {
      "application/vnd.jupyter.widget-view+json": {
       "model_id": "a574e989ced8471f89a31305753ffa9c",
       "version_major": 2,
       "version_minor": 0
      },
      "text/plain": [
       "HBox(children=(FloatProgress(value=0.0, max=4.0), HTML(value='')))"
      ]
     },
     "metadata": {},
     "output_type": "display_data"
    },
    {
     "name": "stdout",
     "output_type": "stream",
     "text": [
      "===\n",
      "Extracting Nature Usage for 2000175069  -- top level= 2000175069 Site_id= 8717\n",
      "..saving..\n",
      "...mapping from 3000132959  to Site_id not found: skipping\n",
      "...mapping from 3000178880  to Site_id not found: skipping\n",
      "...mapping from 3994475188  to Site_id not found: skipping\n",
      "\n",
      "======\n",
      "Checking Pre-saved Hierarchy for BPID:  3000162104 \n",
      "======\n",
      "Related BPIDs found:  4 = ['3000162104', '3000130631', '3000593105', '3003349446']\n"
     ]
    },
    {
     "data": {
      "application/vnd.jupyter.widget-view+json": {
       "model_id": "11b777d2eea447d7bfe0c1ba518abf7d",
       "version_major": 2,
       "version_minor": 0
      },
      "text/plain": [
       "HBox(children=(FloatProgress(value=0.0, max=4.0), HTML(value='')))"
      ]
     },
     "metadata": {},
     "output_type": "display_data"
    },
    {
     "name": "stdout",
     "output_type": "stream",
     "text": [
      "===\n",
      "Extracting Nature Usage for 3000162104  -- top level= 3000162104 Site_id= 4614\n",
      "..saving..\n",
      "...mapping from 3000130631  to Site_id not found: skipping\n",
      "...mapping from 3000593105  to Site_id not found: skipping\n",
      "...mapping from 3003349446  to Site_id not found: skipping\n",
      "\n",
      "======\n",
      "Checking Pre-saved Hierarchy for BPID:  2000125546 \n",
      "======\n",
      "Related BPIDs found:  1 = ['2000125546']\n"
     ]
    },
    {
     "data": {
      "application/vnd.jupyter.widget-view+json": {
       "model_id": "fe1d25ba70e64ab39c8ee3061b56d2af",
       "version_major": 2,
       "version_minor": 0
      },
      "text/plain": [
       "HBox(children=(FloatProgress(value=0.0, max=1.0), HTML(value='')))"
      ]
     },
     "metadata": {},
     "output_type": "display_data"
    },
    {
     "name": "stdout",
     "output_type": "stream",
     "text": [
      "===\n",
      "Extracting Nature Usage for 2000125546  -- top level= 2000125546 Site_id= 11755\n",
      "..saving..\n",
      "\n",
      "======\n",
      "Checking Pre-saved Hierarchy for BPID:  3000204546 \n",
      "======\n",
      "Related BPIDs found:  3 = ['3000204546', '3000197460', '3901169726']\n"
     ]
    },
    {
     "data": {
      "application/vnd.jupyter.widget-view+json": {
       "model_id": "8e69bd3609db4009adf2a9aac744fb9c",
       "version_major": 2,
       "version_minor": 0
      },
      "text/plain": [
       "HBox(children=(FloatProgress(value=0.0, max=3.0), HTML(value='')))"
      ]
     },
     "metadata": {},
     "output_type": "display_data"
    },
    {
     "name": "stdout",
     "output_type": "stream",
     "text": [
      "===\n",
      "Extracting Nature Usage for 3000204546  -- top level= 3000204546 Site_id= 10196\n",
      "..saving..\n",
      "...mapping from 3000197460  to Site_id not found: skipping\n",
      "...mapping from 3901169726  to Site_id not found: skipping\n",
      "\n",
      "======\n",
      "Checking Pre-saved Hierarchy for BPID:  3000121820 \n",
      "======\n",
      "Related BPIDs found:  10 = ['3000121820', '3000122058', '3000256744', '3000504908', '3000506431', '3000122086', '3000133272', '3000740042', '3000955687', '3001044270']\n"
     ]
    },
    {
     "data": {
      "application/vnd.jupyter.widget-view+json": {
       "model_id": "e375ce10ac3a4fcc9834161703680977",
       "version_major": 2,
       "version_minor": 0
      },
      "text/plain": [
       "HBox(children=(FloatProgress(value=0.0, max=10.0), HTML(value='')))"
      ]
     },
     "metadata": {},
     "output_type": "display_data"
    },
    {
     "name": "stdout",
     "output_type": "stream",
     "text": [
      "===\n",
      "Extracting Nature Usage for 3000121820  -- top level= 3000121820 Site_id= 12033\n",
      "..saving..\n",
      "...mapping from 3000122058  to Site_id not found: skipping\n",
      "...mapping from 3000256744  to Site_id not found: skipping\n",
      "...mapping from 3000504908  to Site_id not found: skipping\n",
      "...mapping from 3000506431  to Site_id not found: skipping\n",
      "...mapping from 3000122086  to Site_id not found: skipping\n",
      "...mapping from 3000133272  to Site_id not found: skipping\n",
      "...mapping from 3000740042  to Site_id not found: skipping\n",
      "...mapping from 3000955687  to Site_id not found: skipping\n",
      "...mapping from 3001044270  to Site_id not found: skipping\n",
      "\n",
      "======\n",
      "Checking Pre-saved Hierarchy for BPID:  3000161288 \n",
      "======\n",
      "Related BPIDs found:  2 = ['3000161288', '3000675571']\n"
     ]
    },
    {
     "data": {
      "application/vnd.jupyter.widget-view+json": {
       "model_id": "60725aad4c10406ca7a578eefd5ef096",
       "version_major": 2,
       "version_minor": 0
      },
      "text/plain": [
       "HBox(children=(FloatProgress(value=0.0, max=2.0), HTML(value='')))"
      ]
     },
     "metadata": {},
     "output_type": "display_data"
    },
    {
     "name": "stdout",
     "output_type": "stream",
     "text": [
      "===\n",
      "Extracting Nature Usage for 3000161288  -- top level= 3000161288 Site_id= 4777\n",
      "..saving..\n",
      "...mapping from 3000675571  to Site_id not found: skipping\n",
      "\n",
      "======\n",
      "Checking Pre-saved Hierarchy for BPID:  8200711562 \n",
      "======\n",
      "Related BPIDs found:  1 = ['8200711562']\n"
     ]
    },
    {
     "data": {
      "application/vnd.jupyter.widget-view+json": {
       "model_id": "77b4e29b71e14a4887cae9bf837705fb",
       "version_major": 2,
       "version_minor": 0
      },
      "text/plain": [
       "HBox(children=(FloatProgress(value=0.0, max=1.0), HTML(value='')))"
      ]
     },
     "metadata": {},
     "output_type": "display_data"
    },
    {
     "name": "stdout",
     "output_type": "stream",
     "text": [
      "...mapping from 8200711562  to Site_id not found: skipping\n",
      "\n",
      "======\n",
      "Checking Pre-saved Hierarchy for BPID:  3000132435 \n",
      "======\n",
      "Related BPIDs found:  4 = ['3000132435', '3000180695', '3000174968', '3994475188']\n"
     ]
    },
    {
     "data": {
      "application/vnd.jupyter.widget-view+json": {
       "model_id": "bfc857b39c7442c99d2fd25fb3cda27d",
       "version_major": 2,
       "version_minor": 0
      },
      "text/plain": [
       "HBox(children=(FloatProgress(value=0.0, max=4.0), HTML(value='')))"
      ]
     },
     "metadata": {},
     "output_type": "display_data"
    },
    {
     "name": "stdout",
     "output_type": "stream",
     "text": [
      "===\n",
      "Extracting Nature Usage for 3000132435  -- top level= 3000132435 Site_id= 15492\n",
      "..saving..\n",
      "...mapping from 3000180695  to Site_id not found: skipping\n",
      "...mapping from 3000174968  to Site_id not found: skipping\n",
      "...mapping from 3994475188  to Site_id not found: skipping\n",
      "\n",
      "======\n",
      "Checking Pre-saved Hierarchy for BPID:  3000147920 \n",
      "======\n",
      "Related BPIDs found:  2 = ['3000147920', '3000675571']\n"
     ]
    },
    {
     "data": {
      "application/vnd.jupyter.widget-view+json": {
       "model_id": "bb5b266cb1e64636b6468cf662a41b1b",
       "version_major": 2,
       "version_minor": 0
      },
      "text/plain": [
       "HBox(children=(FloatProgress(value=0.0, max=2.0), HTML(value='')))"
      ]
     },
     "metadata": {},
     "output_type": "display_data"
    },
    {
     "name": "stdout",
     "output_type": "stream",
     "text": [
      "===\n",
      "Extracting Nature Usage for 3000147920  -- top level= 3000147920 Site_id= 4570\n",
      "..saving..\n",
      "...mapping from 3000675571  to Site_id not found: skipping\n",
      "\n",
      "======\n",
      "Checking Pre-saved Hierarchy for BPID:  2000025012 \n",
      "======\n",
      "Related BPIDs found:  1 = ['2000025012']\n"
     ]
    },
    {
     "data": {
      "application/vnd.jupyter.widget-view+json": {
       "model_id": "0fa3befc72284506a293042409854a67",
       "version_major": 2,
       "version_minor": 0
      },
      "text/plain": [
       "HBox(children=(FloatProgress(value=0.0, max=1.0), HTML(value='')))"
      ]
     },
     "metadata": {},
     "output_type": "display_data"
    },
    {
     "name": "stdout",
     "output_type": "stream",
     "text": [
      "===\n",
      "Extracting Nature Usage for 2000025012  -- top level= 2000025012 Site_id= 7077\n",
      "..saving..\n",
      "\n",
      "======\n",
      "Checking Pre-saved Hierarchy for BPID:  3991369002 \n",
      "======\n",
      "Related BPIDs found:  1 = ['3991369002']\n"
     ]
    },
    {
     "data": {
      "application/vnd.jupyter.widget-view+json": {
       "model_id": "00e0e65696b34e869e6d059a7f4a8640",
       "version_major": 2,
       "version_minor": 0
      },
      "text/plain": [
       "HBox(children=(FloatProgress(value=0.0, max=1.0), HTML(value='')))"
      ]
     },
     "metadata": {},
     "output_type": "display_data"
    },
    {
     "name": "stdout",
     "output_type": "stream",
     "text": [
      "===\n",
      "Extracting Nature Usage for 3991369002  -- top level= 3991369002 Site_id= 21564\n",
      "..saving..\n",
      "\n",
      "======\n",
      "Checking Pre-saved Hierarchy for BPID:  3000263536 \n",
      "======\n",
      "Related BPIDs found:  31 = ['3000263536', '3000263537', '3991460049', '3991460050', '3000263519', '3000263538', '3000263547', '3000263562', '3000263564', '3000762511', '3001070335', '3001070367', '3001070371', '3001070379', '3991463089', '8200899681', '3002252090', '3002252092', '3002252093', '3002323856', '3002974673', '3002974675', '3002974712', '3002974679', '3002974713', '3000640955', '3991363236', '3001369731', '3901387337', '3901387339', '8200979608']\n"
     ]
    },
    {
     "data": {
      "application/vnd.jupyter.widget-view+json": {
       "model_id": "23f67d6234cd4b8abbc850d9fcd51c3b",
       "version_major": 2,
       "version_minor": 0
      },
      "text/plain": [
       "HBox(children=(FloatProgress(value=0.0, max=31.0), HTML(value='')))"
      ]
     },
     "metadata": {},
     "output_type": "display_data"
    },
    {
     "name": "stdout",
     "output_type": "stream",
     "text": [
      "...mapping from 3000263536  to Site_id not found: skipping\n",
      "...mapping from 3000263537  to Site_id not found: skipping\n",
      "...mapping from 3991460049  to Site_id not found: skipping\n",
      "...mapping from 3991460050  to Site_id not found: skipping\n",
      "...mapping from 3000263519  to Site_id not found: skipping\n",
      "...mapping from 3000263538  to Site_id not found: skipping\n",
      "...mapping from 3000263547  to Site_id not found: skipping\n",
      "...mapping from 3000263562  to Site_id not found: skipping\n",
      "...mapping from 3000263564  to Site_id not found: skipping\n",
      "...mapping from 3000762511  to Site_id not found: skipping\n",
      "...mapping from 3001070335  to Site_id not found: skipping\n",
      "...mapping from 3001070367  to Site_id not found: skipping\n",
      "...mapping from 3001070371  to Site_id not found: skipping\n",
      "...mapping from 3001070379  to Site_id not found: skipping\n",
      "...mapping from 3991463089  to Site_id not found: skipping\n",
      "...mapping from 8200899681  to Site_id not found: skipping\n",
      "...mapping from 3002252090  to Site_id not found: skipping\n",
      "...mapping from 3002252092  to Site_id not found: skipping\n",
      "...mapping from 3002252093  to Site_id not found: skipping\n",
      "...mapping from 3002323856  to Site_id not found: skipping\n",
      "...mapping from 3002974673  to Site_id not found: skipping\n",
      "...mapping from 3002974675  to Site_id not found: skipping\n",
      "...mapping from 3002974712  to Site_id not found: skipping\n",
      "...mapping from 3002974679  to Site_id not found: skipping\n",
      "...mapping from 3002974713  to Site_id not found: skipping\n",
      "...mapping from 3000640955  to Site_id not found: skipping\n",
      "...mapping from 3991363236  to Site_id not found: skipping\n",
      "...mapping from 3001369731  to Site_id not found: skipping\n",
      "...mapping from 3901387337  to Site_id not found: skipping\n",
      "...mapping from 3901387339  to Site_id not found: skipping\n",
      "...mapping from 8200979608  to Site_id not found: skipping\n",
      "\n",
      "======\n",
      "Checking Pre-saved Hierarchy for BPID:  2000532537 \n",
      "======\n",
      "Related BPIDs found:  4 = ['2000532537', '3000180695', '3000174968', '3994475188']\n"
     ]
    },
    {
     "data": {
      "application/vnd.jupyter.widget-view+json": {
       "model_id": "63e6842025444b1fbd0aed5b9c9fb558",
       "version_major": 2,
       "version_minor": 0
      },
      "text/plain": [
       "HBox(children=(FloatProgress(value=0.0, max=4.0), HTML(value='')))"
      ]
     },
     "metadata": {},
     "output_type": "display_data"
    },
    {
     "name": "stdout",
     "output_type": "stream",
     "text": [
      "===\n",
      "Extracting Nature Usage for 2000532537  -- top level= 2000532537 Site_id= 12451\n",
      "..saving..\n",
      "...mapping from 3000180695  to Site_id not found: skipping\n",
      "...mapping from 3000174968  to Site_id not found: skipping\n",
      "...mapping from 3994475188  to Site_id not found: skipping\n",
      "\n",
      "======\n",
      "Checking Pre-saved Hierarchy for BPID:  3000201735 \n",
      "======\n",
      "Related BPIDs found:  5 = ['3000201735', '3000175179', '3000171692', '1600001227', '8200982076']\n"
     ]
    },
    {
     "data": {
      "application/vnd.jupyter.widget-view+json": {
       "model_id": "64bd10cdbf7b400998f4a5ae87fe2316",
       "version_major": 2,
       "version_minor": 0
      },
      "text/plain": [
       "HBox(children=(FloatProgress(value=0.0, max=5.0), HTML(value='')))"
      ]
     },
     "metadata": {},
     "output_type": "display_data"
    },
    {
     "name": "stdout",
     "output_type": "stream",
     "text": [
      "...mapping from 3000201735  to Site_id not found: skipping\n",
      "===\n",
      "Extracting Nature Usage for 3000175179  -- top level= 3000201735 Site_id= 4559\n",
      "..saving..\n",
      "...mapping from 3000171692  to Site_id not found: skipping\n",
      "...mapping from 1600001227  to Site_id not found: skipping\n",
      "===\n",
      "Extracting Nature Usage for 8200982076  -- top level= 3000201735 Site_id= 4665\n",
      "..saving..\n",
      "\n",
      "======\n",
      "Checking Pre-saved Hierarchy for BPID:  3002859181 \n",
      "======\n",
      "Related BPIDs found:  1 = ['3002859181']\n"
     ]
    },
    {
     "data": {
      "application/vnd.jupyter.widget-view+json": {
       "model_id": "b6ec8008961e4068a169743a8122881b",
       "version_major": 2,
       "version_minor": 0
      },
      "text/plain": [
       "HBox(children=(FloatProgress(value=0.0, max=1.0), HTML(value='')))"
      ]
     },
     "metadata": {},
     "output_type": "display_data"
    },
    {
     "name": "stdout",
     "output_type": "stream",
     "text": [
      "===\n",
      "Extracting Nature Usage for 3002859181  -- top level= 3002859181 Site_id= 21410\n",
      "..saving..\n",
      "\n",
      "======\n",
      "Checking Pre-saved Hierarchy for BPID:  2000516724 \n",
      "======\n",
      "Related BPIDs found:  12 = ['2000516724', '3000137278', '3000137282', '3000192397', '3000196714', '3000262825', '3000262839', '3000599536', '3000824714', '3994313832', '3003169293', '3902044458']\n"
     ]
    },
    {
     "data": {
      "application/vnd.jupyter.widget-view+json": {
       "model_id": "d62f33f35e5840c79e7e5136250a6a25",
       "version_major": 2,
       "version_minor": 0
      },
      "text/plain": [
       "HBox(children=(FloatProgress(value=0.0, max=12.0), HTML(value='')))"
      ]
     },
     "metadata": {},
     "output_type": "display_data"
    },
    {
     "name": "stdout",
     "output_type": "stream",
     "text": [
      "===\n",
      "Extracting Nature Usage for 2000516724  -- top level= 2000516724 Site_id= 1095\n",
      "..saving..\n",
      "...mapping from 3000137278  to Site_id not found: skipping\n",
      "...mapping from 3000137282  to Site_id not found: skipping\n",
      "...mapping from 3000192397  to Site_id not found: skipping\n",
      "...mapping from 3000196714  to Site_id not found: skipping\n",
      "...mapping from 3000262825  to Site_id not found: skipping\n",
      "...mapping from 3000262839  to Site_id not found: skipping\n",
      "...mapping from 3000599536  to Site_id not found: skipping\n",
      "...mapping from 3000824714  to Site_id not found: skipping\n",
      "...mapping from 3994313832  to Site_id not found: skipping\n",
      "...mapping from 3003169293  to Site_id not found: skipping\n",
      "...mapping from 3902044458  to Site_id not found: skipping\n",
      "\n",
      "======\n",
      "Checking Pre-saved Hierarchy for BPID:  2000374973 \n",
      "======\n",
      "Related BPIDs found:  11 = ['2000374973', '3000137278', '3000137282', '3000192397', '3000262825', '3000262839', '3000599536', '3000824714', '3994313832', '3003169293', '3902044458']\n"
     ]
    },
    {
     "data": {
      "application/vnd.jupyter.widget-view+json": {
       "model_id": "7b9edc79c8264759aa3615b4b6e60c97",
       "version_major": 2,
       "version_minor": 0
      },
      "text/plain": [
       "HBox(children=(FloatProgress(value=0.0, max=11.0), HTML(value='')))"
      ]
     },
     "metadata": {},
     "output_type": "display_data"
    },
    {
     "name": "stdout",
     "output_type": "stream",
     "text": [
      "===\n",
      "Extracting Nature Usage for 2000374973  -- top level= 2000374973 Site_id= 8129\n",
      "..saving..\n",
      "...mapping from 3000137278  to Site_id not found: skipping\n",
      "...mapping from 3000137282  to Site_id not found: skipping\n",
      "...mapping from 3000192397  to Site_id not found: skipping\n",
      "...mapping from 3000262825  to Site_id not found: skipping\n",
      "...mapping from 3000262839  to Site_id not found: skipping\n",
      "...mapping from 3000599536  to Site_id not found: skipping\n",
      "...mapping from 3000824714  to Site_id not found: skipping\n",
      "...mapping from 3994313832  to Site_id not found: skipping\n",
      "...mapping from 3003169293  to Site_id not found: skipping\n",
      "...mapping from 3902044458  to Site_id not found: skipping\n",
      "\n",
      "======\n",
      "Checking Pre-saved Hierarchy for BPID:  2000204854 \n",
      "======\n",
      "Related BPIDs found:  11 = ['2000204854', '3000137278', '3000137282', '3000192397', '3000262825', '3000262839', '3000599536', '3000824714', '3994313832', '3003169293', '3902044458']\n"
     ]
    },
    {
     "data": {
      "application/vnd.jupyter.widget-view+json": {
       "model_id": "dc5dcac6ae4a4ca1ba8d62576c7687c7",
       "version_major": 2,
       "version_minor": 0
      },
      "text/plain": [
       "HBox(children=(FloatProgress(value=0.0, max=11.0), HTML(value='')))"
      ]
     },
     "metadata": {},
     "output_type": "display_data"
    },
    {
     "name": "stdout",
     "output_type": "stream",
     "text": [
      "===\n",
      "Extracting Nature Usage for 2000204854  -- top level= 2000204854 Site_id= 7038\n",
      "..saving..\n",
      "...mapping from 3000137278  to Site_id not found: skipping\n",
      "...mapping from 3000137282  to Site_id not found: skipping\n",
      "...mapping from 3000192397  to Site_id not found: skipping\n",
      "...mapping from 3000262825  to Site_id not found: skipping\n",
      "...mapping from 3000262839  to Site_id not found: skipping\n",
      "...mapping from 3000599536  to Site_id not found: skipping\n",
      "...mapping from 3000824714  to Site_id not found: skipping\n",
      "...mapping from 3994313832  to Site_id not found: skipping\n",
      "...mapping from 3003169293  to Site_id not found: skipping\n",
      "...mapping from 3902044458  to Site_id not found: skipping\n",
      "\n",
      "======\n",
      "Checking Pre-saved Hierarchy for BPID:  2000053714 \n",
      "======\n",
      "Related BPIDs found:  6 = ['2000053714', '3000137278', '3000137282', '3000205744', '3003169293', '3902044458']\n"
     ]
    },
    {
     "data": {
      "application/vnd.jupyter.widget-view+json": {
       "model_id": "69b4aadb6d94446a929a1354a9fd724a",
       "version_major": 2,
       "version_minor": 0
      },
      "text/plain": [
       "HBox(children=(FloatProgress(value=0.0, max=6.0), HTML(value='')))"
      ]
     },
     "metadata": {},
     "output_type": "display_data"
    },
    {
     "name": "stdout",
     "output_type": "stream",
     "text": [
      "===\n",
      "Extracting Nature Usage for 2000053714  -- top level= 2000053714 Site_id= 20026\n",
      "..saving..\n",
      "...mapping from 3000137278  to Site_id not found: skipping\n",
      "...mapping from 3000137282  to Site_id not found: skipping\n",
      "...mapping from 3000205744  to Site_id not found: skipping\n",
      "...mapping from 3003169293  to Site_id not found: skipping\n",
      "...mapping from 3902044458  to Site_id not found: skipping\n",
      "\n",
      "======\n",
      "Checking Pre-saved Hierarchy for BPID:  3000136338 \n",
      "======\n",
      "Related BPIDs found:  8 = ['3000136338', '3000137278', '3000137282', '3000262825', '3000262839', '3000205744', '3003169293', '3902044458']\n"
     ]
    },
    {
     "data": {
      "application/vnd.jupyter.widget-view+json": {
       "model_id": "01c5c51f5b7048f6b81eae3610b58abb",
       "version_major": 2,
       "version_minor": 0
      },
      "text/plain": [
       "HBox(children=(FloatProgress(value=0.0, max=8.0), HTML(value='')))"
      ]
     },
     "metadata": {},
     "output_type": "display_data"
    },
    {
     "name": "stdout",
     "output_type": "stream",
     "text": [
      "===\n",
      "Extracting Nature Usage for 3000136338  -- top level= 3000136338 Site_id= 11783\n",
      "..saving..\n",
      "...mapping from 3000137278  to Site_id not found: skipping\n",
      "...mapping from 3000137282  to Site_id not found: skipping\n",
      "...mapping from 3000262825  to Site_id not found: skipping\n",
      "...mapping from 3000262839  to Site_id not found: skipping\n",
      "...mapping from 3000205744  to Site_id not found: skipping\n",
      "...mapping from 3003169293  to Site_id not found: skipping\n",
      "...mapping from 3902044458  to Site_id not found: skipping\n",
      "\n",
      "======\n",
      "Checking Pre-saved Hierarchy for BPID:  3000135110 \n",
      "======\n",
      "Related BPIDs found:  8 = ['3000135110', '3000137278', '3000137282', '3000205744', '3000262825', '3000262839', '3003169293', '3902044458']\n"
     ]
    },
    {
     "data": {
      "application/vnd.jupyter.widget-view+json": {
       "model_id": "431e67511fdb4a44b4ebd117932d5af5",
       "version_major": 2,
       "version_minor": 0
      },
      "text/plain": [
       "HBox(children=(FloatProgress(value=0.0, max=8.0), HTML(value='')))"
      ]
     },
     "metadata": {},
     "output_type": "display_data"
    },
    {
     "name": "stdout",
     "output_type": "stream",
     "text": [
      "===\n",
      "Extracting Nature Usage for 3000135110  -- top level= 3000135110 Site_id= 13913\n",
      "..saving..\n",
      "...mapping from 3000137278  to Site_id not found: skipping\n",
      "...mapping from 3000137282  to Site_id not found: skipping\n",
      "...mapping from 3000205744  to Site_id not found: skipping\n",
      "...mapping from 3000262825  to Site_id not found: skipping\n",
      "...mapping from 3000262839  to Site_id not found: skipping\n",
      "...mapping from 3003169293  to Site_id not found: skipping\n",
      "...mapping from 3902044458  to Site_id not found: skipping\n",
      "\n",
      "======\n",
      "Checking Pre-saved Hierarchy for BPID:  2000142196 \n",
      "======\n",
      "Related BPIDs found:  5 = ['2000142196', '3000178263', '3000179127', '3000179124', '3004017903']\n"
     ]
    },
    {
     "data": {
      "application/vnd.jupyter.widget-view+json": {
       "model_id": "e61e66c2688443e69112d1c1d6011c97",
       "version_major": 2,
       "version_minor": 0
      },
      "text/plain": [
       "HBox(children=(FloatProgress(value=0.0, max=5.0), HTML(value='')))"
      ]
     },
     "metadata": {},
     "output_type": "display_data"
    },
    {
     "name": "stdout",
     "output_type": "stream",
     "text": [
      "===\n",
      "Extracting Nature Usage for 2000142196  -- top level= 2000142196 Site_id= 963\n",
      "..saving..\n",
      "...mapping from 3000178263  to Site_id not found: skipping\n",
      "...mapping from 3000179127  to Site_id not found: skipping\n",
      "...mapping from 3000179124  to Site_id not found: skipping\n",
      "...mapping from 3004017903  to Site_id not found: skipping\n",
      "\n",
      "======\n",
      "Checking Pre-saved Hierarchy for BPID:  2000553014 \n",
      "======\n",
      "Related BPIDs found:  1 = ['2000553014']\n"
     ]
    },
    {
     "data": {
      "application/vnd.jupyter.widget-view+json": {
       "model_id": "9460ae0455d84eabb4f334858b641d8f",
       "version_major": 2,
       "version_minor": 0
      },
      "text/plain": [
       "HBox(children=(FloatProgress(value=0.0, max=1.0), HTML(value='')))"
      ]
     },
     "metadata": {},
     "output_type": "display_data"
    },
    {
     "name": "stdout",
     "output_type": "stream",
     "text": [
      "...mapping from 2000553014  to Site_id not found: skipping\n",
      "\n",
      "======\n",
      "Checking Pre-saved Hierarchy for BPID:  2000274885 \n",
      "======\n",
      "Related BPIDs found:  2 = ['2000274885', '3001139967']\n"
     ]
    },
    {
     "data": {
      "application/vnd.jupyter.widget-view+json": {
       "model_id": "bdbb6249caf54a21b3040f857baf3157",
       "version_major": 2,
       "version_minor": 0
      },
      "text/plain": [
       "HBox(children=(FloatProgress(value=0.0, max=2.0), HTML(value='')))"
      ]
     },
     "metadata": {},
     "output_type": "display_data"
    },
    {
     "name": "stdout",
     "output_type": "stream",
     "text": [
      "...mapping from 2000274885  to Site_id not found: skipping\n",
      "...mapping from 3001139967  to Site_id not found: skipping\n",
      "\n",
      "======\n",
      "Checking Pre-saved Hierarchy for BPID:  2000078190 \n",
      "======\n",
      "Related BPIDs found:  3 = ['2000078190', '3001139967', '3991330314']\n"
     ]
    },
    {
     "data": {
      "application/vnd.jupyter.widget-view+json": {
       "model_id": "8c0c660ddb8345f6a10c7123ac7fe205",
       "version_major": 2,
       "version_minor": 0
      },
      "text/plain": [
       "HBox(children=(FloatProgress(value=0.0, max=3.0), HTML(value='')))"
      ]
     },
     "metadata": {},
     "output_type": "display_data"
    },
    {
     "name": "stdout",
     "output_type": "stream",
     "text": [
      "===\n",
      "Extracting Nature Usage for 2000078190  -- top level= 2000078190 Site_id= 8238\n",
      "..saving..\n",
      "...mapping from 3001139967  to Site_id not found: skipping\n",
      "...mapping from 3991330314  to Site_id not found: skipping\n",
      "\n",
      "======\n",
      "Checking Pre-saved Hierarchy for BPID:  2000126278 \n",
      "======\n",
      "Related BPIDs found:  2 = ['2000126278', '3000155420']\n"
     ]
    },
    {
     "data": {
      "application/vnd.jupyter.widget-view+json": {
       "model_id": "3e37662ecb5a43b39bfff37216bc8971",
       "version_major": 2,
       "version_minor": 0
      },
      "text/plain": [
       "HBox(children=(FloatProgress(value=0.0, max=2.0), HTML(value='')))"
      ]
     },
     "metadata": {},
     "output_type": "display_data"
    },
    {
     "name": "stdout",
     "output_type": "stream",
     "text": [
      "===\n",
      "Extracting Nature Usage for 2000126278  -- top level= 2000126278 Site_id= 4791\n",
      "..saving..\n",
      "...mapping from 3000155420  to Site_id not found: skipping\n",
      "\n",
      "======\n",
      "Checking Pre-saved Hierarchy for BPID:  3000171993 \n",
      "======\n",
      "Related BPIDs found:  4 = ['3000171993', '3000180852', '3000155420', '3003532199']\n"
     ]
    },
    {
     "data": {
      "application/vnd.jupyter.widget-view+json": {
       "model_id": "42684bd14b41454097cddcd27292f89a",
       "version_major": 2,
       "version_minor": 0
      },
      "text/plain": [
       "HBox(children=(FloatProgress(value=0.0, max=4.0), HTML(value='')))"
      ]
     },
     "metadata": {},
     "output_type": "display_data"
    },
    {
     "name": "stdout",
     "output_type": "stream",
     "text": [
      "===\n",
      "Extracting Nature Usage for 3000171993  -- top level= 3000171993 Site_id= 11976\n",
      "..saving..\n",
      "...mapping from 3000180852  to Site_id not found: skipping\n",
      "...mapping from 3000155420  to Site_id not found: skipping\n",
      "...mapping from 3003532199  to Site_id not found: skipping\n",
      "\n",
      "======\n",
      "Checking Pre-saved Hierarchy for BPID:  3000133957 \n",
      "======\n",
      "Related BPIDs found:  4 = ['3000133957', '3000520733', '3000155420', '3003532199']\n"
     ]
    },
    {
     "data": {
      "application/vnd.jupyter.widget-view+json": {
       "model_id": "b21de256a7a84ce5a44435431b2b7ca0",
       "version_major": 2,
       "version_minor": 0
      },
      "text/plain": [
       "HBox(children=(FloatProgress(value=0.0, max=4.0), HTML(value='')))"
      ]
     },
     "metadata": {},
     "output_type": "display_data"
    },
    {
     "name": "stdout",
     "output_type": "stream",
     "text": [
      "===\n",
      "Extracting Nature Usage for 3000133957  -- top level= 3000133957 Site_id= 1063\n",
      "..saving..\n",
      "...mapping from 3000520733  to Site_id not found: skipping\n",
      "...mapping from 3000155420  to Site_id not found: skipping\n",
      "...mapping from 3003532199  to Site_id not found: skipping\n",
      "\n",
      "======\n",
      "Checking Pre-saved Hierarchy for BPID:  2000456622 \n",
      "======\n",
      "Related BPIDs found:  1 = ['2000456622']\n"
     ]
    },
    {
     "data": {
      "application/vnd.jupyter.widget-view+json": {
       "model_id": "898d631f2c944606ac8e9723e72aaf36",
       "version_major": 2,
       "version_minor": 0
      },
      "text/plain": [
       "HBox(children=(FloatProgress(value=0.0, max=1.0), HTML(value='')))"
      ]
     },
     "metadata": {},
     "output_type": "display_data"
    },
    {
     "name": "stdout",
     "output_type": "stream",
     "text": [
      "...mapping from 2000456622  to Site_id not found: skipping\n",
      "\n",
      "======\n",
      "Checking Pre-saved Hierarchy for BPID:  3000145110 \n",
      "======\n",
      "Related BPIDs found:  3 = ['3000145110', '3000155420', '3003532199']\n"
     ]
    },
    {
     "data": {
      "application/vnd.jupyter.widget-view+json": {
       "model_id": "5b01771f88bc4ed78c5a0a0a969d5d15",
       "version_major": 2,
       "version_minor": 0
      },
      "text/plain": [
       "HBox(children=(FloatProgress(value=0.0, max=3.0), HTML(value='')))"
      ]
     },
     "metadata": {},
     "output_type": "display_data"
    },
    {
     "name": "stdout",
     "output_type": "stream",
     "text": [
      "===\n",
      "Extracting Nature Usage for 3000145110  -- top level= 3000145110 Site_id= 9933\n",
      "..saving..\n",
      "...mapping from 3000155420  to Site_id not found: skipping\n",
      "...mapping from 3003532199  to Site_id not found: skipping\n",
      "\n",
      "======\n",
      "Checking Pre-saved Hierarchy for BPID:  2000699054 \n",
      "======\n",
      "Related BPIDs found:  3 = ['2000699054', '3003532199', '3000155420']\n"
     ]
    },
    {
     "data": {
      "application/vnd.jupyter.widget-view+json": {
       "model_id": "c0f7f1ad06914a43ae7a77870fb244c4",
       "version_major": 2,
       "version_minor": 0
      },
      "text/plain": [
       "HBox(children=(FloatProgress(value=0.0, max=3.0), HTML(value='')))"
      ]
     },
     "metadata": {},
     "output_type": "display_data"
    },
    {
     "name": "stdout",
     "output_type": "stream",
     "text": [
      "===\n",
      "Extracting Nature Usage for 2000699054  -- top level= 2000699054 Site_id= 4813\n",
      "..saving..\n",
      "...mapping from 3003532199  to Site_id not found: skipping\n",
      "...mapping from 3000155420  to Site_id not found: skipping\n",
      "\n",
      "======\n",
      "Checking Pre-saved Hierarchy for BPID:  3000141328 \n",
      "======\n",
      "Related BPIDs found:  1 = ['3000141328']\n"
     ]
    },
    {
     "data": {
      "application/vnd.jupyter.widget-view+json": {
       "model_id": "8ce31c8beb9f4027b53f5c1434223701",
       "version_major": 2,
       "version_minor": 0
      },
      "text/plain": [
       "HBox(children=(FloatProgress(value=0.0, max=1.0), HTML(value='')))"
      ]
     },
     "metadata": {},
     "output_type": "display_data"
    },
    {
     "name": "stdout",
     "output_type": "stream",
     "text": [
      "...mapping from 3000141328  to Site_id not found: skipping\n",
      "\n",
      "======\n",
      "Checking Pre-saved Hierarchy for BPID:  3000788339 \n",
      "======\n",
      "Related BPIDs found:  1 = ['3000788339']\n"
     ]
    },
    {
     "data": {
      "application/vnd.jupyter.widget-view+json": {
       "model_id": "d7dc38cbc7e14f18a5cb4d705a3c13d1",
       "version_major": 2,
       "version_minor": 0
      },
      "text/plain": [
       "HBox(children=(FloatProgress(value=0.0, max=1.0), HTML(value='')))"
      ]
     },
     "metadata": {},
     "output_type": "display_data"
    },
    {
     "name": "stdout",
     "output_type": "stream",
     "text": [
      "...mapping from 3000788339  to Site_id not found: skipping\n",
      "\n",
      "======\n",
      "Checking Pre-saved Hierarchy for BPID:  2000397100 \n",
      "======\n",
      "Related BPIDs found:  1 = ['2000397100']\n"
     ]
    },
    {
     "data": {
      "application/vnd.jupyter.widget-view+json": {
       "model_id": "5ee4f5e1eb4c4dd1993a7882f7d98cce",
       "version_major": 2,
       "version_minor": 0
      },
      "text/plain": [
       "HBox(children=(FloatProgress(value=0.0, max=1.0), HTML(value='')))"
      ]
     },
     "metadata": {},
     "output_type": "display_data"
    },
    {
     "name": "stdout",
     "output_type": "stream",
     "text": [
      "...mapping from 2000397100  to Site_id not found: skipping\n",
      "\n",
      "======\n",
      "Checking Pre-saved Hierarchy for BPID:  3000212040 \n",
      "======\n",
      "Related BPIDs found:  3 = ['3000212040', '3000155420', '3003532199']\n"
     ]
    },
    {
     "data": {
      "application/vnd.jupyter.widget-view+json": {
       "model_id": "25622dfe76ab44a48a68696cb3a31a3f",
       "version_major": 2,
       "version_minor": 0
      },
      "text/plain": [
       "HBox(children=(FloatProgress(value=0.0, max=3.0), HTML(value='')))"
      ]
     },
     "metadata": {},
     "output_type": "display_data"
    },
    {
     "name": "stdout",
     "output_type": "stream",
     "text": [
      "===\n",
      "Extracting Nature Usage for 3000212040  -- top level= 3000212040 Site_id= 12076\n",
      "..saving..\n",
      "...mapping from 3000155420  to Site_id not found: skipping\n",
      "...mapping from 3003532199  to Site_id not found: skipping\n",
      "\n",
      "======\n",
      "Checking Pre-saved Hierarchy for BPID:  3000212068 \n",
      "======\n",
      "Related BPIDs found:  3 = ['3000212068', '3000155420', '3003532199']\n"
     ]
    },
    {
     "data": {
      "application/vnd.jupyter.widget-view+json": {
       "model_id": "8960ff17ddba46deb8654e1f9537aad4",
       "version_major": 2,
       "version_minor": 0
      },
      "text/plain": [
       "HBox(children=(FloatProgress(value=0.0, max=3.0), HTML(value='')))"
      ]
     },
     "metadata": {},
     "output_type": "display_data"
    },
    {
     "name": "stdout",
     "output_type": "stream",
     "text": [
      "===\n",
      "Extracting Nature Usage for 3000212068  -- top level= 3000212068 Site_id= 5788\n",
      "..saving..\n",
      "...mapping from 3000155420  to Site_id not found: skipping\n",
      "...mapping from 3003532199  to Site_id not found: skipping\n",
      "\n",
      "======\n",
      "Checking Pre-saved Hierarchy for BPID:  3001049600 \n",
      "======\n",
      "Related BPIDs found:  1 = ['3001049600']\n"
     ]
    },
    {
     "data": {
      "application/vnd.jupyter.widget-view+json": {
       "model_id": "d721ed77817b4b9ba4a006916e295867",
       "version_major": 2,
       "version_minor": 0
      },
      "text/plain": [
       "HBox(children=(FloatProgress(value=0.0, max=1.0), HTML(value='')))"
      ]
     },
     "metadata": {},
     "output_type": "display_data"
    },
    {
     "name": "stdout",
     "output_type": "stream",
     "text": [
      "...mapping from 3001049600  to Site_id not found: skipping\n",
      "\n",
      "======\n",
      "Checking Pre-saved Hierarchy for BPID:  8200408502 \n",
      "======\n",
      "Related BPIDs found:  1 = ['8200408502']\n"
     ]
    },
    {
     "data": {
      "application/vnd.jupyter.widget-view+json": {
       "model_id": "aff9dfa94d9c4cbca1de4108824fe172",
       "version_major": 2,
       "version_minor": 0
      },
      "text/plain": [
       "HBox(children=(FloatProgress(value=0.0, max=1.0), HTML(value='')))"
      ]
     },
     "metadata": {},
     "output_type": "display_data"
    },
    {
     "name": "stdout",
     "output_type": "stream",
     "text": [
      "...mapping from 8200408502  to Site_id not found: skipping\n",
      "\n",
      "======\n",
      "Checking Pre-saved Hierarchy for BPID:  3003635546 \n",
      "======\n",
      "Related BPIDs found:  1 = ['3003635546']\n"
     ]
    },
    {
     "data": {
      "application/vnd.jupyter.widget-view+json": {
       "model_id": "c6e436ae215349c7ac4fa8d72b639599",
       "version_major": 2,
       "version_minor": 0
      },
      "text/plain": [
       "HBox(children=(FloatProgress(value=0.0, max=1.0), HTML(value='')))"
      ]
     },
     "metadata": {},
     "output_type": "display_data"
    },
    {
     "name": "stdout",
     "output_type": "stream",
     "text": [
      "===\n",
      "Extracting Nature Usage for 3003635546  -- top level= 3003635546 Site_id= 31478\n",
      "..saving..\n",
      "\n",
      "======\n",
      "Checking Pre-saved Hierarchy for BPID:  3000482404 \n",
      "======\n",
      "Related BPIDs found:  1 = ['3000482404']\n"
     ]
    },
    {
     "data": {
      "application/vnd.jupyter.widget-view+json": {
       "model_id": "f4ea1ceba99b461c853466106c839c77",
       "version_major": 2,
       "version_minor": 0
      },
      "text/plain": [
       "HBox(children=(FloatProgress(value=0.0, max=1.0), HTML(value='')))"
      ]
     },
     "metadata": {},
     "output_type": "display_data"
    },
    {
     "name": "stdout",
     "output_type": "stream",
     "text": [
      "===\n",
      "Extracting Nature Usage for 3000482404  -- top level= 3000482404 Site_id= 20410\n",
      "..saving..\n",
      "\n",
      "======\n",
      "Checking Pre-saved Hierarchy for BPID:  30036927080 \n",
      "======\n",
      "++++ ERROR ++++\n",
      "Errors index = [30036927080]\n"
     ]
    },
    {
     "data": {
      "application/vnd.jupyter.widget-view+json": {
       "model_id": "13065c496ed64d3bb234939bc0218433",
       "version_major": 2,
       "version_minor": 0
      },
      "text/plain": [
       "HBox(children=(FloatProgress(value=1.0, bar_style='info', max=1.0), HTML(value='')))"
      ]
     },
     "metadata": {},
     "output_type": "display_data"
    },
    {
     "name": "stdout",
     "output_type": "stream",
     "text": [
      "\n",
      "======\n",
      "Checking Pre-saved Hierarchy for BPID:  3001054575 \n",
      "======\n",
      "Related BPIDs found:  1 = ['3001054575']\n"
     ]
    },
    {
     "data": {
      "application/vnd.jupyter.widget-view+json": {
       "model_id": "1bf9d6cf33a24aba9cf71205847f7654",
       "version_major": 2,
       "version_minor": 0
      },
      "text/plain": [
       "HBox(children=(FloatProgress(value=0.0, max=1.0), HTML(value='')))"
      ]
     },
     "metadata": {},
     "output_type": "display_data"
    },
    {
     "name": "stdout",
     "output_type": "stream",
     "text": [
      "===\n",
      "Extracting Nature Usage for 3001054575  -- top level= 3001054575 Site_id= 29789\n",
      "..saving..\n",
      "\n",
      "======\n",
      "Checking Pre-saved Hierarchy for BPID:  2000585575 \n",
      "======\n",
      "Related BPIDs found:  2 = ['2000585575', '3000183200']\n"
     ]
    },
    {
     "data": {
      "application/vnd.jupyter.widget-view+json": {
       "model_id": "27ed4a713ae8499dbeb48cf680a20f8c",
       "version_major": 2,
       "version_minor": 0
      },
      "text/plain": [
       "HBox(children=(FloatProgress(value=0.0, max=2.0), HTML(value='')))"
      ]
     },
     "metadata": {},
     "output_type": "display_data"
    },
    {
     "name": "stdout",
     "output_type": "stream",
     "text": [
      "...mapping from 2000585575  to Site_id not found: skipping\n",
      "...mapping from 3000183200  to Site_id not found: skipping\n",
      "\n",
      "======\n",
      "Checking Pre-saved Hierarchy for BPID:  3000671765 \n",
      "======\n",
      "Related BPIDs found:  2 = ['3000671765', '3002121962']\n"
     ]
    },
    {
     "data": {
      "application/vnd.jupyter.widget-view+json": {
       "model_id": "c3b28bf5cf644a7f9783cf55d8525fbe",
       "version_major": 2,
       "version_minor": 0
      },
      "text/plain": [
       "HBox(children=(FloatProgress(value=0.0, max=2.0), HTML(value='')))"
      ]
     },
     "metadata": {},
     "output_type": "display_data"
    },
    {
     "name": "stdout",
     "output_type": "stream",
     "text": [
      "...mapping from 3000671765  to Site_id not found: skipping\n",
      "...mapping from 3002121962  to Site_id not found: skipping\n",
      "\n",
      "======\n",
      "Checking Pre-saved Hierarchy for BPID:  8200844657 \n",
      "======\n",
      "Related BPIDs found:  1 = ['8200844657']\n"
     ]
    },
    {
     "data": {
      "application/vnd.jupyter.widget-view+json": {
       "model_id": "72093c32f13f4a7aa283edd9f8c159dc",
       "version_major": 2,
       "version_minor": 0
      },
      "text/plain": [
       "HBox(children=(FloatProgress(value=0.0, max=1.0), HTML(value='')))"
      ]
     },
     "metadata": {},
     "output_type": "display_data"
    },
    {
     "name": "stdout",
     "output_type": "stream",
     "text": [
      "===\n",
      "Extracting Nature Usage for 8200844657  -- top level= 8200844657 Site_id= 8108\n",
      "..saving..\n",
      "\n",
      "======\n",
      "Checking Pre-saved Hierarchy for BPID:  3003695120 \n",
      "======\n",
      "++++ ERROR ++++\n",
      "Errors index = [30036927080, 3003695120]\n"
     ]
    },
    {
     "data": {
      "application/vnd.jupyter.widget-view+json": {
       "model_id": "9cd7c1f947e14f8bb16dba0e5b1564d2",
       "version_major": 2,
       "version_minor": 0
      },
      "text/plain": [
       "HBox(children=(FloatProgress(value=1.0, bar_style='info', max=1.0), HTML(value='')))"
      ]
     },
     "metadata": {},
     "output_type": "display_data"
    },
    {
     "name": "stdout",
     "output_type": "stream",
     "text": [
      "\n",
      "======\n",
      "Checking Pre-saved Hierarchy for BPID:  3002013254 \n",
      "======\n",
      "Related BPIDs found:  1 = ['3002013254']\n"
     ]
    },
    {
     "data": {
      "application/vnd.jupyter.widget-view+json": {
       "model_id": "e5c4110e9aec445db96b46a49b41ecac",
       "version_major": 2,
       "version_minor": 0
      },
      "text/plain": [
       "HBox(children=(FloatProgress(value=0.0, max=1.0), HTML(value='')))"
      ]
     },
     "metadata": {},
     "output_type": "display_data"
    },
    {
     "name": "stdout",
     "output_type": "stream",
     "text": [
      "===\n",
      "Extracting Nature Usage for 3002013254  -- top level= 3002013254 Site_id= 2407\n",
      "..saving..\n",
      "\n",
      "======\n",
      "Checking Pre-saved Hierarchy for BPID:  3003343017 \n",
      "======\n",
      "++++ ERROR ++++\n",
      "Errors index = [30036927080, 3003695120, 3003343017]\n"
     ]
    },
    {
     "data": {
      "application/vnd.jupyter.widget-view+json": {
       "model_id": "e7f0a32ed5544831a19847150daa6142",
       "version_major": 2,
       "version_minor": 0
      },
      "text/plain": [
       "HBox(children=(FloatProgress(value=1.0, bar_style='info', max=1.0), HTML(value='')))"
      ]
     },
     "metadata": {},
     "output_type": "display_data"
    },
    {
     "name": "stdout",
     "output_type": "stream",
     "text": [
      "\n",
      "======\n",
      "Checking Pre-saved Hierarchy for BPID:  3000756244 \n",
      "======\n",
      "Related BPIDs found:  1 = ['3000756244']\n"
     ]
    },
    {
     "data": {
      "application/vnd.jupyter.widget-view+json": {
       "model_id": "07947106f6404556b564ad94264ed142",
       "version_major": 2,
       "version_minor": 0
      },
      "text/plain": [
       "HBox(children=(FloatProgress(value=0.0, max=1.0), HTML(value='')))"
      ]
     },
     "metadata": {},
     "output_type": "display_data"
    },
    {
     "name": "stdout",
     "output_type": "stream",
     "text": [
      "...mapping from 3000756244  to Site_id not found: skipping\n",
      "\n",
      "======\n",
      "Checking Pre-saved Hierarchy for BPID:  3991467823 \n",
      "======\n",
      "Related BPIDs found:  1 = ['3991467823']\n"
     ]
    },
    {
     "data": {
      "application/vnd.jupyter.widget-view+json": {
       "model_id": "92c7b5ee6cb24562a893b59fb6c21f77",
       "version_major": 2,
       "version_minor": 0
      },
      "text/plain": [
       "HBox(children=(FloatProgress(value=0.0, max=1.0), HTML(value='')))"
      ]
     },
     "metadata": {},
     "output_type": "display_data"
    },
    {
     "name": "stdout",
     "output_type": "stream",
     "text": [
      "...mapping from 3991467823  to Site_id not found: skipping\n",
      "\n",
      "======\n",
      "Checking Pre-saved Hierarchy for BPID:  3000604705 \n",
      "======\n",
      "Related BPIDs found:  1 = ['3000604705']\n"
     ]
    },
    {
     "data": {
      "application/vnd.jupyter.widget-view+json": {
       "model_id": "a14b607e817348d693dbe91789bd4c1a",
       "version_major": 2,
       "version_minor": 0
      },
      "text/plain": [
       "HBox(children=(FloatProgress(value=0.0, max=1.0), HTML(value='')))"
      ]
     },
     "metadata": {},
     "output_type": "display_data"
    },
    {
     "name": "stdout",
     "output_type": "stream",
     "text": [
      "...mapping from 3000604705  to Site_id not found: skipping\n",
      "\n",
      "======\n",
      "Checking Pre-saved Hierarchy for BPID:  8200470187 \n",
      "======\n",
      "Related BPIDs found:  1 = ['8200470187']\n"
     ]
    },
    {
     "data": {
      "application/vnd.jupyter.widget-view+json": {
       "model_id": "9c842a262912425d8da5893b977fbf5d",
       "version_major": 2,
       "version_minor": 0
      },
      "text/plain": [
       "HBox(children=(FloatProgress(value=0.0, max=1.0), HTML(value='')))"
      ]
     },
     "metadata": {},
     "output_type": "display_data"
    },
    {
     "name": "stdout",
     "output_type": "stream",
     "text": [
      "===\n",
      "Extracting Nature Usage for 8200470187  -- top level= 8200470187 Site_id= 521\n",
      "..saving..\n",
      "\n",
      "======\n",
      "Checking Pre-saved Hierarchy for BPID:  3001073183 \n",
      "======\n",
      "Related BPIDs found:  1 = ['3001073183']\n"
     ]
    },
    {
     "data": {
      "application/vnd.jupyter.widget-view+json": {
       "model_id": "1a11c27e03de4c9fba121f075c19c686",
       "version_major": 2,
       "version_minor": 0
      },
      "text/plain": [
       "HBox(children=(FloatProgress(value=0.0, max=1.0), HTML(value='')))"
      ]
     },
     "metadata": {},
     "output_type": "display_data"
    },
    {
     "name": "stdout",
     "output_type": "stream",
     "text": [
      "...mapping from 3001073183  to Site_id not found: skipping\n",
      "\n",
      "======\n",
      "Checking Pre-saved Hierarchy for BPID:  3002174042 \n",
      "======\n",
      "Related BPIDs found:  1 = ['3002174042']\n"
     ]
    },
    {
     "data": {
      "application/vnd.jupyter.widget-view+json": {
       "model_id": "9e80c927012045fc86c07e751036ba60",
       "version_major": 2,
       "version_minor": 0
      },
      "text/plain": [
       "HBox(children=(FloatProgress(value=0.0, max=1.0), HTML(value='')))"
      ]
     },
     "metadata": {},
     "output_type": "display_data"
    },
    {
     "name": "stdout",
     "output_type": "stream",
     "text": [
      "...mapping from 3002174042  to Site_id not found: skipping\n",
      "\n",
      "======\n",
      "Checking Pre-saved Hierarchy for BPID:  3991329770 \n",
      "======\n",
      "Related BPIDs found:  1 = ['3991329770']\n"
     ]
    },
    {
     "data": {
      "application/vnd.jupyter.widget-view+json": {
       "model_id": "31684cd0c65f40fe9355a0b396aaa9ea",
       "version_major": 2,
       "version_minor": 0
      },
      "text/plain": [
       "HBox(children=(FloatProgress(value=0.0, max=1.0), HTML(value='')))"
      ]
     },
     "metadata": {},
     "output_type": "display_data"
    },
    {
     "name": "stdout",
     "output_type": "stream",
     "text": [
      "...mapping from 3991329770  to Site_id not found: skipping\n",
      "\n",
      "======\n",
      "Checking Pre-saved Hierarchy for BPID:  8200736652 \n",
      "======\n",
      "Related BPIDs found:  1 = ['8200736652']\n"
     ]
    },
    {
     "data": {
      "application/vnd.jupyter.widget-view+json": {
       "model_id": "e01dd905c7584caf96cf4e1e32db6680",
       "version_major": 2,
       "version_minor": 0
      },
      "text/plain": [
       "HBox(children=(FloatProgress(value=0.0, max=1.0), HTML(value='')))"
      ]
     },
     "metadata": {},
     "output_type": "display_data"
    },
    {
     "name": "stdout",
     "output_type": "stream",
     "text": [
      "===\n",
      "Extracting Nature Usage for 8200736652  -- top level= 8200736652 Site_id= 869\n",
      "..saving..\n",
      "\n",
      "======\n",
      "Checking Pre-saved Hierarchy for BPID:  3000142563 \n",
      "======\n",
      "Related BPIDs found:  4 = ['3000142563', '3991332406', '3002060351', '3000123642']\n"
     ]
    },
    {
     "data": {
      "application/vnd.jupyter.widget-view+json": {
       "model_id": "92133e13c2534ad39567cb763c2b1772",
       "version_major": 2,
       "version_minor": 0
      },
      "text/plain": [
       "HBox(children=(FloatProgress(value=0.0, max=4.0), HTML(value='')))"
      ]
     },
     "metadata": {},
     "output_type": "display_data"
    },
    {
     "name": "stdout",
     "output_type": "stream",
     "text": [
      "...mapping from 3000142563  to Site_id not found: skipping\n",
      "===\n",
      "Extracting Nature Usage for 3991332406  -- top level= 3000142563 Site_id= 2028\n",
      "..saving..\n",
      "...mapping from 3002060351  to Site_id not found: skipping\n",
      "===\n",
      "Extracting Nature Usage for 3000123642  -- top level= 3000142563 Site_id= 13369\n",
      "..saving..\n",
      "\n",
      "======\n",
      "Checking Pre-saved Hierarchy for BPID:  3000633321 \n",
      "======\n",
      "++++ ERROR ++++\n",
      "Errors index = [30036927080, 3003695120, 3003343017, 3000633321]\n"
     ]
    },
    {
     "data": {
      "application/vnd.jupyter.widget-view+json": {
       "model_id": "d007c626f4da4eca85f3a60b5bd1c3ff",
       "version_major": 2,
       "version_minor": 0
      },
      "text/plain": [
       "HBox(children=(FloatProgress(value=1.0, bar_style='info', max=1.0), HTML(value='')))"
      ]
     },
     "metadata": {},
     "output_type": "display_data"
    },
    {
     "name": "stdout",
     "output_type": "stream",
     "text": [
      "\n",
      "======\n",
      "Checking Pre-saved Hierarchy for BPID:  3991332406 \n",
      "======\n",
      "Related BPIDs found:  2 = ['3991332406', '3000142563']\n"
     ]
    },
    {
     "data": {
      "application/vnd.jupyter.widget-view+json": {
       "model_id": "07f2c411b2e64e9d8e65047d56c4cca3",
       "version_major": 2,
       "version_minor": 0
      },
      "text/plain": [
       "HBox(children=(FloatProgress(value=0.0, max=2.0), HTML(value='')))"
      ]
     },
     "metadata": {},
     "output_type": "display_data"
    },
    {
     "name": "stdout",
     "output_type": "stream",
     "text": [
      "===\n",
      "Extracting Nature Usage for 3991332406  -- top level= 3991332406 Site_id= 2028\n",
      "..saving..\n",
      "...mapping from 3000142563  to Site_id not found: skipping\n",
      "\n",
      "======\n",
      "Checking Pre-saved Hierarchy for BPID:  3000191317 \n",
      "======\n",
      "Related BPIDs found:  2 = ['3000191317', '3991433361']\n"
     ]
    },
    {
     "data": {
      "application/vnd.jupyter.widget-view+json": {
       "model_id": "2440fd5080a04e4b97c8c8c329f20e94",
       "version_major": 2,
       "version_minor": 0
      },
      "text/plain": [
       "HBox(children=(FloatProgress(value=0.0, max=2.0), HTML(value='')))"
      ]
     },
     "metadata": {},
     "output_type": "display_data"
    },
    {
     "name": "stdout",
     "output_type": "stream",
     "text": [
      "===\n",
      "Extracting Nature Usage for 3000191317  -- top level= 3000191317 Site_id= 18563\n",
      "..saving..\n",
      "...mapping from 3991433361  to Site_id not found: skipping\n",
      "\n",
      "======\n",
      "Checking Pre-saved Hierarchy for BPID:  8201031477 \n",
      "======\n",
      "Related BPIDs found:  1 = ['8201031477']\n"
     ]
    },
    {
     "data": {
      "application/vnd.jupyter.widget-view+json": {
       "model_id": "a04b2f1e6a1040c3bc3a07df269811ca",
       "version_major": 2,
       "version_minor": 0
      },
      "text/plain": [
       "HBox(children=(FloatProgress(value=0.0, max=1.0), HTML(value='')))"
      ]
     },
     "metadata": {},
     "output_type": "display_data"
    },
    {
     "name": "stdout",
     "output_type": "stream",
     "text": [
      "===\n",
      "Extracting Nature Usage for 8201031477  -- top level= 8201031477 Site_id= 394\n",
      "..saving..\n",
      "\n",
      "======\n",
      "Checking Pre-saved Hierarchy for BPID:  3003718535 \n",
      "======\n",
      "Related BPIDs found:  1 = ['3003718535']\n"
     ]
    },
    {
     "data": {
      "application/vnd.jupyter.widget-view+json": {
       "model_id": "350db1b24e9648a98f0235def2248b53",
       "version_major": 2,
       "version_minor": 0
      },
      "text/plain": [
       "HBox(children=(FloatProgress(value=0.0, max=1.0), HTML(value='')))"
      ]
     },
     "metadata": {},
     "output_type": "display_data"
    },
    {
     "name": "stdout",
     "output_type": "stream",
     "text": [
      "...mapping from 3003718535  to Site_id not found: skipping\n",
      "\n",
      "======\n",
      "Checking Pre-saved Hierarchy for BPID:  8201000118 \n",
      "======\n",
      "Related BPIDs found:  3 = ['8201000118', '3000144849', '3000161202']\n"
     ]
    },
    {
     "data": {
      "application/vnd.jupyter.widget-view+json": {
       "model_id": "a729295abec14ce8a0c3213205ab685d",
       "version_major": 2,
       "version_minor": 0
      },
      "text/plain": [
       "HBox(children=(FloatProgress(value=0.0, max=3.0), HTML(value='')))"
      ]
     },
     "metadata": {},
     "output_type": "display_data"
    },
    {
     "name": "stdout",
     "output_type": "stream",
     "text": [
      "===\n",
      "Extracting Nature Usage for 8201000118  -- top level= 8201000118 Site_id= 2551\n",
      "..saving..\n",
      "...mapping from 3000144849  to Site_id not found: skipping\n",
      "...mapping from 3000161202  to Site_id not found: skipping\n",
      "\n",
      "======\n",
      "Checking Pre-saved Hierarchy for BPID:  2000185358 \n",
      "======\n",
      "Related BPIDs found:  9 = ['2000185358', '3000130459', '3000251517', '3001070824', '3991330314', '3000092011', '3001139967', '3002011430', '3002114477']\n"
     ]
    },
    {
     "data": {
      "application/vnd.jupyter.widget-view+json": {
       "model_id": "59d9f26fa781490e9c7e0df43b00f1e8",
       "version_major": 2,
       "version_minor": 0
      },
      "text/plain": [
       "HBox(children=(FloatProgress(value=0.0, max=9.0), HTML(value='')))"
      ]
     },
     "metadata": {},
     "output_type": "display_data"
    },
    {
     "name": "stdout",
     "output_type": "stream",
     "text": [
      "===\n",
      "Extracting Nature Usage for 2000185358  -- top level= 2000185358 Site_id= 4708\n",
      "..saving..\n",
      "...mapping from 3000130459  to Site_id not found: skipping\n",
      "...mapping from 3000251517  to Site_id not found: skipping\n",
      "...mapping from 3001070824  to Site_id not found: skipping\n",
      "...mapping from 3991330314  to Site_id not found: skipping\n",
      "...mapping from 3000092011  to Site_id not found: skipping\n",
      "...mapping from 3001139967  to Site_id not found: skipping\n",
      "...mapping from 3002011430  to Site_id not found: skipping\n",
      "...mapping from 3002114477  to Site_id not found: skipping\n",
      "\n",
      "======\n",
      "Checking Pre-saved Hierarchy for BPID:  2000330216 \n",
      "======\n",
      "Related BPIDs found:  9 = ['2000330216', '3000122820', '3000198352', '3000219314', '3991330314', '3001139967', '3002011430', '3002076494', '3002114477']\n"
     ]
    },
    {
     "data": {
      "application/vnd.jupyter.widget-view+json": {
       "model_id": "b256cddb811343cfa9b009aa633e97e4",
       "version_major": 2,
       "version_minor": 0
      },
      "text/plain": [
       "HBox(children=(FloatProgress(value=0.0, max=9.0), HTML(value='')))"
      ]
     },
     "metadata": {},
     "output_type": "display_data"
    },
    {
     "name": "stdout",
     "output_type": "stream",
     "text": [
      "===\n",
      "Extracting Nature Usage for 2000330216  -- top level= 2000330216 Site_id= 1140\n",
      "..saving..\n",
      "...mapping from 3000122820  to Site_id not found: skipping\n",
      "...mapping from 3000198352  to Site_id not found: skipping\n",
      "...mapping from 3000219314  to Site_id not found: skipping\n",
      "...mapping from 3991330314  to Site_id not found: skipping\n",
      "...mapping from 3001139967  to Site_id not found: skipping\n",
      "...mapping from 3002011430  to Site_id not found: skipping\n",
      "...mapping from 3002076494  to Site_id not found: skipping\n",
      "...mapping from 3002114477  to Site_id not found: skipping\n",
      "\n",
      "======\n",
      "Checking Pre-saved Hierarchy for BPID:  2000022016 \n",
      "======\n",
      "Related BPIDs found:  8 = ['2000022016', '3000130459', '3000179129', '3000198352', '3000251517', '3991330314', '3001139967', '3002011430']\n"
     ]
    },
    {
     "data": {
      "application/vnd.jupyter.widget-view+json": {
       "model_id": "878d70738d2642db9b332bba840fee2e",
       "version_major": 2,
       "version_minor": 0
      },
      "text/plain": [
       "HBox(children=(FloatProgress(value=0.0, max=8.0), HTML(value='')))"
      ]
     },
     "metadata": {},
     "output_type": "display_data"
    },
    {
     "name": "stdout",
     "output_type": "stream",
     "text": [
      "===\n",
      "Extracting Nature Usage for 2000022016  -- top level= 2000022016 Site_id= 1950\n",
      "..saving..\n",
      "...mapping from 3000130459  to Site_id not found: skipping\n",
      "...mapping from 3000179129  to Site_id not found: skipping\n",
      "...mapping from 3000198352  to Site_id not found: skipping\n",
      "...mapping from 3000251517  to Site_id not found: skipping\n",
      "...mapping from 3991330314  to Site_id not found: skipping\n",
      "...mapping from 3001139967  to Site_id not found: skipping\n",
      "...mapping from 3002011430  to Site_id not found: skipping\n",
      "\n",
      "======\n",
      "Checking Pre-saved Hierarchy for BPID:  2000335256 \n",
      "======\n",
      "Related BPIDs found:  7 = ['2000335256', '3000130459', '3000251517', '3991330314', '3001139967', '3002011430', '3002114477']\n"
     ]
    },
    {
     "data": {
      "application/vnd.jupyter.widget-view+json": {
       "model_id": "e6a7f9136d5b415db5f1ee4ca2f0f31a",
       "version_major": 2,
       "version_minor": 0
      },
      "text/plain": [
       "HBox(children=(FloatProgress(value=0.0, max=7.0), HTML(value='')))"
      ]
     },
     "metadata": {},
     "output_type": "display_data"
    },
    {
     "name": "stdout",
     "output_type": "stream",
     "text": [
      "===\n",
      "Extracting Nature Usage for 2000335256  -- top level= 2000335256 Site_id= 801\n",
      "..saving..\n",
      "...mapping from 3000130459  to Site_id not found: skipping\n",
      "...mapping from 3000251517  to Site_id not found: skipping\n",
      "...mapping from 3991330314  to Site_id not found: skipping\n",
      "...mapping from 3001139967  to Site_id not found: skipping\n",
      "...mapping from 3002011430  to Site_id not found: skipping\n",
      "...mapping from 3002114477  to Site_id not found: skipping\n",
      "\n",
      "======\n",
      "Checking Pre-saved Hierarchy for BPID:  1000792026 \n",
      "======\n",
      "Related BPIDs found:  9 = ['1000792026', '3000122820', '3000179129', '3000198352', '3000219314', '3991330314', '3001139967', '3002011430', '3002114477']\n"
     ]
    },
    {
     "data": {
      "application/vnd.jupyter.widget-view+json": {
       "model_id": "e8beb6cea35b429daf7f7fe77c197a5e",
       "version_major": 2,
       "version_minor": 0
      },
      "text/plain": [
       "HBox(children=(FloatProgress(value=0.0, max=9.0), HTML(value='')))"
      ]
     },
     "metadata": {},
     "output_type": "display_data"
    },
    {
     "name": "stdout",
     "output_type": "stream",
     "text": [
      "===\n",
      "Extracting Nature Usage for 1000792026  -- top level= 1000792026 Site_id= 6434\n",
      "..saving..\n",
      "...mapping from 3000122820  to Site_id not found: skipping\n",
      "...mapping from 3000179129  to Site_id not found: skipping\n",
      "...mapping from 3000198352  to Site_id not found: skipping\n",
      "...mapping from 3000219314  to Site_id not found: skipping\n",
      "...mapping from 3991330314  to Site_id not found: skipping\n",
      "...mapping from 3001139967  to Site_id not found: skipping\n",
      "...mapping from 3002011430  to Site_id not found: skipping\n",
      "...mapping from 3002114477  to Site_id not found: skipping\n",
      "\n",
      "======\n",
      "Checking Pre-saved Hierarchy for BPID:  2000263694 \n",
      "======\n",
      "Related BPIDs found:  9 = ['2000263694', '3000130459', '3000179129', '3000198352', '3000251517', '3991330314', '3001139967', '3002011430', '3002114477']\n"
     ]
    },
    {
     "data": {
      "application/vnd.jupyter.widget-view+json": {
       "model_id": "5d8b0adaf6a74e9388c12fb9144d9d5c",
       "version_major": 2,
       "version_minor": 0
      },
      "text/plain": [
       "HBox(children=(FloatProgress(value=0.0, max=9.0), HTML(value='')))"
      ]
     },
     "metadata": {},
     "output_type": "display_data"
    },
    {
     "name": "stdout",
     "output_type": "stream",
     "text": [
      "===\n",
      "Extracting Nature Usage for 2000263694  -- top level= 2000263694 Site_id= 10871\n",
      "..saving..\n",
      "...mapping from 3000130459  to Site_id not found: skipping\n",
      "...mapping from 3000179129  to Site_id not found: skipping\n",
      "...mapping from 3000198352  to Site_id not found: skipping\n",
      "...mapping from 3000251517  to Site_id not found: skipping\n",
      "...mapping from 3991330314  to Site_id not found: skipping\n",
      "...mapping from 3001139967  to Site_id not found: skipping\n",
      "...mapping from 3002011430  to Site_id not found: skipping\n",
      "...mapping from 3002114477  to Site_id not found: skipping\n",
      "\n",
      "======\n",
      "Checking Pre-saved Hierarchy for BPID:  1000857884 \n",
      "======\n",
      "Related BPIDs found:  8 = ['1000857884', '3000130459', '3000179129', '3000198352', '3991330314', '3001139967', '3002011430', '3002114477']\n"
     ]
    },
    {
     "data": {
      "application/vnd.jupyter.widget-view+json": {
       "model_id": "e144619e051a4a0c9a02e5fbf0269c3b",
       "version_major": 2,
       "version_minor": 0
      },
      "text/plain": [
       "HBox(children=(FloatProgress(value=0.0, max=8.0), HTML(value='')))"
      ]
     },
     "metadata": {},
     "output_type": "display_data"
    },
    {
     "name": "stdout",
     "output_type": "stream",
     "text": [
      "===\n",
      "Extracting Nature Usage for 1000857884  -- top level= 1000857884 Site_id= 9013\n",
      "..saving..\n",
      "...mapping from 3000130459  to Site_id not found: skipping\n",
      "...mapping from 3000179129  to Site_id not found: skipping\n",
      "...mapping from 3000198352  to Site_id not found: skipping\n",
      "...mapping from 3991330314  to Site_id not found: skipping\n",
      "...mapping from 3001139967  to Site_id not found: skipping\n",
      "...mapping from 3002011430  to Site_id not found: skipping\n",
      "...mapping from 3002114477  to Site_id not found: skipping\n",
      "\n",
      "======\n",
      "Checking Pre-saved Hierarchy for BPID:  2000262282 \n",
      "======\n",
      "Related BPIDs found:  6 = ['2000262282', '3000130459', '3000251517', '3001139967', '3002011430', '3002114477']\n"
     ]
    },
    {
     "data": {
      "application/vnd.jupyter.widget-view+json": {
       "model_id": "622ff85ac7d14372bdcee5725c1f8d77",
       "version_major": 2,
       "version_minor": 0
      },
      "text/plain": [
       "HBox(children=(FloatProgress(value=0.0, max=6.0), HTML(value='')))"
      ]
     },
     "metadata": {},
     "output_type": "display_data"
    },
    {
     "name": "stdout",
     "output_type": "stream",
     "text": [
      "===\n",
      "Extracting Nature Usage for 2000262282  -- top level= 2000262282 Site_id= 503\n",
      "..saving..\n",
      "...mapping from 3000130459  to Site_id not found: skipping\n",
      "...mapping from 3000251517  to Site_id not found: skipping\n",
      "...mapping from 3001139967  to Site_id not found: skipping\n",
      "...mapping from 3002011430  to Site_id not found: skipping\n",
      "...mapping from 3002114477  to Site_id not found: skipping\n",
      "\n",
      "======\n",
      "Checking Pre-saved Hierarchy for BPID:  1000864062 \n",
      "======\n",
      "Related BPIDs found:  8 = ['1000864062', '3000130459', '3000251517', '3991330314', '3001139967', '3000179129', '3002011430', '3002114477']\n"
     ]
    },
    {
     "data": {
      "application/vnd.jupyter.widget-view+json": {
       "model_id": "056cad6056b9484db9ccc34df91fe60c",
       "version_major": 2,
       "version_minor": 0
      },
      "text/plain": [
       "HBox(children=(FloatProgress(value=0.0, max=8.0), HTML(value='')))"
      ]
     },
     "metadata": {},
     "output_type": "display_data"
    },
    {
     "name": "stdout",
     "output_type": "stream",
     "text": [
      "===\n",
      "Extracting Nature Usage for 1000864062  -- top level= 1000864062 Site_id= 4568\n",
      "..saving..\n",
      "...mapping from 3000130459  to Site_id not found: skipping\n",
      "...mapping from 3000251517  to Site_id not found: skipping\n",
      "...mapping from 3991330314  to Site_id not found: skipping\n",
      "...mapping from 3001139967  to Site_id not found: skipping\n",
      "...mapping from 3000179129  to Site_id not found: skipping\n",
      "...mapping from 3002011430  to Site_id not found: skipping\n",
      "...mapping from 3002114477  to Site_id not found: skipping\n",
      "\n",
      "======\n",
      "Checking Pre-saved Hierarchy for BPID:  2000332004 \n",
      "======\n",
      "Related BPIDs found:  7 = ['2000332004', '3000130459', '3000251517', '3991330314', '3001139967', '3002011430', '3002114477']\n"
     ]
    },
    {
     "data": {
      "application/vnd.jupyter.widget-view+json": {
       "model_id": "78b800c8573b4f33b8f421dc849e2b29",
       "version_major": 2,
       "version_minor": 0
      },
      "text/plain": [
       "HBox(children=(FloatProgress(value=0.0, max=7.0), HTML(value='')))"
      ]
     },
     "metadata": {},
     "output_type": "display_data"
    },
    {
     "name": "stdout",
     "output_type": "stream",
     "text": [
      "===\n",
      "Extracting Nature Usage for 2000332004  -- top level= 2000332004 Site_id= 7313\n",
      "..saving..\n",
      "...mapping from 3000130459  to Site_id not found: skipping\n",
      "...mapping from 3000251517  to Site_id not found: skipping\n",
      "...mapping from 3991330314  to Site_id not found: skipping\n",
      "...mapping from 3001139967  to Site_id not found: skipping\n",
      "...mapping from 3002011430  to Site_id not found: skipping\n",
      "...mapping from 3002114477  to Site_id not found: skipping\n",
      "\n",
      "======\n",
      "Checking Pre-saved Hierarchy for BPID:  2000051397 \n",
      "======\n",
      "Related BPIDs found:  7 = ['2000051397', '3000130459', '3000251517', '3001139967', '3991330314', '3002011430', '3002114477']\n"
     ]
    },
    {
     "data": {
      "application/vnd.jupyter.widget-view+json": {
       "model_id": "74bbe05206c7478babeca315d6fce598",
       "version_major": 2,
       "version_minor": 0
      },
      "text/plain": [
       "HBox(children=(FloatProgress(value=0.0, max=7.0), HTML(value='')))"
      ]
     },
     "metadata": {},
     "output_type": "display_data"
    },
    {
     "name": "stdout",
     "output_type": "stream",
     "text": [
      "===\n",
      "Extracting Nature Usage for 2000051397  -- top level= 2000051397 Site_id= 1382\n",
      "..saving..\n",
      "...mapping from 3000130459  to Site_id not found: skipping\n",
      "...mapping from 3000251517  to Site_id not found: skipping\n",
      "...mapping from 3001139967  to Site_id not found: skipping\n",
      "...mapping from 3991330314  to Site_id not found: skipping\n",
      "...mapping from 3002011430  to Site_id not found: skipping\n",
      "...mapping from 3002114477  to Site_id not found: skipping\n",
      "\n",
      "======\n",
      "Checking Pre-saved Hierarchy for BPID:  2000051414 \n",
      "======\n",
      "Related BPIDs found:  6 = ['2000051414', '3000122820', '3991330314', '3001139967', '3002011430', '3002114477']\n"
     ]
    },
    {
     "data": {
      "application/vnd.jupyter.widget-view+json": {
       "model_id": "5395d85d2ef94da4b4cc40c825fa3902",
       "version_major": 2,
       "version_minor": 0
      },
      "text/plain": [
       "HBox(children=(FloatProgress(value=0.0, max=6.0), HTML(value='')))"
      ]
     },
     "metadata": {},
     "output_type": "display_data"
    },
    {
     "name": "stdout",
     "output_type": "stream",
     "text": [
      "===\n",
      "Extracting Nature Usage for 2000051414  -- top level= 2000051414 Site_id= 2664\n",
      "..saving..\n",
      "...mapping from 3000122820  to Site_id not found: skipping\n",
      "...mapping from 3991330314  to Site_id not found: skipping\n",
      "...mapping from 3001139967  to Site_id not found: skipping\n",
      "...mapping from 3002011430  to Site_id not found: skipping\n",
      "...mapping from 3002114477  to Site_id not found: skipping\n",
      "\n",
      "======\n",
      "Checking Pre-saved Hierarchy for BPID:  2000144603 \n",
      "======\n",
      "Related BPIDs found:  7 = ['2000144603', '3000130459', '3000251517', '3991330314', '3001139967', '3002011430', '3002114477']\n"
     ]
    },
    {
     "data": {
      "application/vnd.jupyter.widget-view+json": {
       "model_id": "37c27e07e0374bcca7297489f411ff7f",
       "version_major": 2,
       "version_minor": 0
      },
      "text/plain": [
       "HBox(children=(FloatProgress(value=0.0, max=7.0), HTML(value='')))"
      ]
     },
     "metadata": {},
     "output_type": "display_data"
    },
    {
     "name": "stdout",
     "output_type": "stream",
     "text": [
      "===\n",
      "Extracting Nature Usage for 2000144603  -- top level= 2000144603 Site_id= 1599\n",
      "..saving..\n",
      "...mapping from 3000130459  to Site_id not found: skipping\n",
      "...mapping from 3000251517  to Site_id not found: skipping\n",
      "...mapping from 3991330314  to Site_id not found: skipping\n",
      "...mapping from 3001139967  to Site_id not found: skipping\n",
      "...mapping from 3002011430  to Site_id not found: skipping\n",
      "...mapping from 3002114477  to Site_id not found: skipping\n",
      "\n",
      "======\n",
      "Checking Pre-saved Hierarchy for BPID:  2000324950 \n",
      "======\n",
      "Related BPIDs found:  7 = ['2000324950', '3000130459', '3000179129', '3000251517', '3001139967', '3002011430', '3002114477']\n"
     ]
    },
    {
     "data": {
      "application/vnd.jupyter.widget-view+json": {
       "model_id": "cef98c7edf874b7384a7a5bc07c18a1c",
       "version_major": 2,
       "version_minor": 0
      },
      "text/plain": [
       "HBox(children=(FloatProgress(value=0.0, max=7.0), HTML(value='')))"
      ]
     },
     "metadata": {},
     "output_type": "display_data"
    },
    {
     "name": "stdout",
     "output_type": "stream",
     "text": [
      "===\n",
      "Extracting Nature Usage for 2000324950  -- top level= 2000324950 Site_id= 6611\n",
      "..saving..\n",
      "...mapping from 3000130459  to Site_id not found: skipping\n",
      "...mapping from 3000179129  to Site_id not found: skipping\n",
      "...mapping from 3000251517  to Site_id not found: skipping\n",
      "...mapping from 3001139967  to Site_id not found: skipping\n",
      "...mapping from 3002011430  to Site_id not found: skipping\n",
      "...mapping from 3002114477  to Site_id not found: skipping\n",
      "\n",
      "======\n",
      "Checking Pre-saved Hierarchy for BPID:  2000051435 \n",
      "======\n",
      "Related BPIDs found:  7 = ['2000051435', '3000130459', '3000251517', '3991330314', '3001139967', '3002011430', '3002114477']\n"
     ]
    },
    {
     "data": {
      "application/vnd.jupyter.widget-view+json": {
       "model_id": "71c2f16cae7f4242a3e73d7c9b93b5dd",
       "version_major": 2,
       "version_minor": 0
      },
      "text/plain": [
       "HBox(children=(FloatProgress(value=0.0, max=7.0), HTML(value='')))"
      ]
     },
     "metadata": {},
     "output_type": "display_data"
    },
    {
     "name": "stdout",
     "output_type": "stream",
     "text": [
      "===\n",
      "Extracting Nature Usage for 2000051435  -- top level= 2000051435 Site_id= 10585\n",
      "..saving..\n",
      "...mapping from 3000130459  to Site_id not found: skipping\n",
      "...mapping from 3000251517  to Site_id not found: skipping\n",
      "...mapping from 3991330314  to Site_id not found: skipping\n",
      "...mapping from 3001139967  to Site_id not found: skipping\n",
      "...mapping from 3002011430  to Site_id not found: skipping\n",
      "...mapping from 3002114477  to Site_id not found: skipping\n",
      "\n",
      "======\n",
      "Checking Pre-saved Hierarchy for BPID:  3000070293 \n",
      "======\n",
      "Related BPIDs found:  4 = ['3000070293', '3001139967', '3002011430', '3002114477']\n"
     ]
    },
    {
     "data": {
      "application/vnd.jupyter.widget-view+json": {
       "model_id": "7e82bff134fb45d88dd4a2f4314fbfa8",
       "version_major": 2,
       "version_minor": 0
      },
      "text/plain": [
       "HBox(children=(FloatProgress(value=0.0, max=4.0), HTML(value='')))"
      ]
     },
     "metadata": {},
     "output_type": "display_data"
    },
    {
     "name": "stdout",
     "output_type": "stream",
     "text": [
      "===\n",
      "Extracting Nature Usage for 3000070293  -- top level= 3000070293 Site_id= 2383\n",
      "..saving..\n",
      "...mapping from 3001139967  to Site_id not found: skipping\n",
      "...mapping from 3002011430  to Site_id not found: skipping\n",
      "...mapping from 3002114477  to Site_id not found: skipping\n",
      "\n",
      "======\n",
      "Checking Pre-saved Hierarchy for BPID:  3000163392 \n",
      "======\n",
      "Related BPIDs found:  5 = ['3000163392', '3991330314', '3001139967', '3002011430', '3002114477']\n"
     ]
    },
    {
     "data": {
      "application/vnd.jupyter.widget-view+json": {
       "model_id": "86fa93d0aa604ade9ae5bf4f6d5be65a",
       "version_major": 2,
       "version_minor": 0
      },
      "text/plain": [
       "HBox(children=(FloatProgress(value=0.0, max=5.0), HTML(value='')))"
      ]
     },
     "metadata": {},
     "output_type": "display_data"
    },
    {
     "name": "stdout",
     "output_type": "stream",
     "text": [
      "===\n",
      "Extracting Nature Usage for 3000163392  -- top level= 3000163392 Site_id= 7587\n",
      "..saving..\n",
      "...mapping from 3991330314  to Site_id not found: skipping\n",
      "...mapping from 3001139967  to Site_id not found: skipping\n",
      "...mapping from 3002011430  to Site_id not found: skipping\n",
      "...mapping from 3002114477  to Site_id not found: skipping\n",
      "\n",
      "======\n",
      "Checking Pre-saved Hierarchy for BPID:  3000187712 \n",
      "======\n",
      "Related BPIDs found:  7 = ['3000187712', '3000130459', '3000251517', '3991330314', '3001139967', '3002011430', '3002114477']\n"
     ]
    },
    {
     "data": {
      "application/vnd.jupyter.widget-view+json": {
       "model_id": "a0e66b2f0c7e4749b894255c1c65e7a9",
       "version_major": 2,
       "version_minor": 0
      },
      "text/plain": [
       "HBox(children=(FloatProgress(value=0.0, max=7.0), HTML(value='')))"
      ]
     },
     "metadata": {},
     "output_type": "display_data"
    },
    {
     "name": "stdout",
     "output_type": "stream",
     "text": [
      "===\n",
      "Extracting Nature Usage for 3000187712  -- top level= 3000187712 Site_id= 10661\n",
      "..saving..\n",
      "...mapping from 3000130459  to Site_id not found: skipping\n",
      "...mapping from 3000251517  to Site_id not found: skipping\n",
      "...mapping from 3991330314  to Site_id not found: skipping\n",
      "...mapping from 3001139967  to Site_id not found: skipping\n",
      "...mapping from 3002011430  to Site_id not found: skipping\n",
      "...mapping from 3002114477  to Site_id not found: skipping\n",
      "\n",
      "======\n",
      "Checking Pre-saved Hierarchy for BPID:  2000329424 \n",
      "======\n",
      "Related BPIDs found:  5 = ['2000329424', '3001139967', '3991330314', '3002011430', '3002114477']\n"
     ]
    },
    {
     "data": {
      "application/vnd.jupyter.widget-view+json": {
       "model_id": "a73162e17d8d4c0492acbc2d2d11e541",
       "version_major": 2,
       "version_minor": 0
      },
      "text/plain": [
       "HBox(children=(FloatProgress(value=0.0, max=5.0), HTML(value='')))"
      ]
     },
     "metadata": {},
     "output_type": "display_data"
    },
    {
     "name": "stdout",
     "output_type": "stream",
     "text": [
      "===\n",
      "Extracting Nature Usage for 2000329424  -- top level= 2000329424 Site_id= 6862\n",
      "..saving..\n",
      "...mapping from 3001139967  to Site_id not found: skipping\n",
      "...mapping from 3991330314  to Site_id not found: skipping\n",
      "...mapping from 3002011430  to Site_id not found: skipping\n",
      "...mapping from 3002114477  to Site_id not found: skipping\n",
      "\n",
      "======\n",
      "Checking Pre-saved Hierarchy for BPID:  2000578695 \n",
      "======\n",
      "Related BPIDs found:  5 = ['2000578695', '3001139967', '3991330314', '3002011430', '3002114477']\n"
     ]
    },
    {
     "data": {
      "application/vnd.jupyter.widget-view+json": {
       "model_id": "c3cd60bb4be74392937f46e379d72af1",
       "version_major": 2,
       "version_minor": 0
      },
      "text/plain": [
       "HBox(children=(FloatProgress(value=0.0, max=5.0), HTML(value='')))"
      ]
     },
     "metadata": {},
     "output_type": "display_data"
    },
    {
     "name": "stdout",
     "output_type": "stream",
     "text": [
      "===\n",
      "Extracting Nature Usage for 2000578695  -- top level= 2000578695 Site_id= 19021\n",
      "..saving..\n",
      "...mapping from 3001139967  to Site_id not found: skipping\n",
      "...mapping from 3991330314  to Site_id not found: skipping\n",
      "...mapping from 3002011430  to Site_id not found: skipping\n",
      "...mapping from 3002114477  to Site_id not found: skipping\n",
      "\n",
      "======\n",
      "Checking Pre-saved Hierarchy for BPID:  2000376520 \n",
      "======\n",
      "Related BPIDs found:  1 = ['2000376520']\n"
     ]
    },
    {
     "data": {
      "application/vnd.jupyter.widget-view+json": {
       "model_id": "91072d556a354c23b84842b651b5b49c",
       "version_major": 2,
       "version_minor": 0
      },
      "text/plain": [
       "HBox(children=(FloatProgress(value=0.0, max=1.0), HTML(value='')))"
      ]
     },
     "metadata": {},
     "output_type": "display_data"
    },
    {
     "name": "stdout",
     "output_type": "stream",
     "text": [
      "...mapping from 2000376520  to Site_id not found: skipping\n",
      "\n",
      "======\n",
      "Checking Pre-saved Hierarchy for BPID:  2000349174 \n",
      "======\n",
      "Related BPIDs found:  1 = ['2000349174']\n"
     ]
    },
    {
     "data": {
      "application/vnd.jupyter.widget-view+json": {
       "model_id": "306576e0d0cb4461a4ab37f8782bd56e",
       "version_major": 2,
       "version_minor": 0
      },
      "text/plain": [
       "HBox(children=(FloatProgress(value=0.0, max=1.0), HTML(value='')))"
      ]
     },
     "metadata": {},
     "output_type": "display_data"
    },
    {
     "name": "stdout",
     "output_type": "stream",
     "text": [
      "===\n",
      "Extracting Nature Usage for 2000349174  -- top level= 2000349174 Site_id= 22319\n",
      "..saving..\n",
      "\n",
      "======\n",
      "Checking Pre-saved Hierarchy for BPID:  3000155377 \n",
      "======\n",
      "Related BPIDs found:  1 = ['3000155377']\n"
     ]
    },
    {
     "data": {
      "application/vnd.jupyter.widget-view+json": {
       "model_id": "d38c6cdbd1404d849f40d30bbe949579",
       "version_major": 2,
       "version_minor": 0
      },
      "text/plain": [
       "HBox(children=(FloatProgress(value=0.0, max=1.0), HTML(value='')))"
      ]
     },
     "metadata": {},
     "output_type": "display_data"
    },
    {
     "name": "stdout",
     "output_type": "stream",
     "text": [
      "===\n",
      "Extracting Nature Usage for 3000155377  -- top level= 3000155377 Site_id= 22410\n",
      "..saving..\n",
      "\n",
      "======\n",
      "Checking Pre-saved Hierarchy for BPID:  3000094233 \n",
      "======\n",
      "Related BPIDs found:  1 = ['3000094233']\n"
     ]
    },
    {
     "data": {
      "application/vnd.jupyter.widget-view+json": {
       "model_id": "1aa5afcc489c4b10957d384b55464ba5",
       "version_major": 2,
       "version_minor": 0
      },
      "text/plain": [
       "HBox(children=(FloatProgress(value=0.0, max=1.0), HTML(value='')))"
      ]
     },
     "metadata": {},
     "output_type": "display_data"
    },
    {
     "name": "stdout",
     "output_type": "stream",
     "text": [
      "===\n",
      "Extracting Nature Usage for 3000094233  -- top level= 3000094233 Site_id= 10442\n",
      "..saving..\n",
      "\n",
      "======\n",
      "Checking Pre-saved Hierarchy for BPID:  2000341714 \n",
      "======\n",
      "++++ ERROR ++++\n",
      "Errors index = [30036927080, 3003695120, 3003343017, 3000633321, 2000341714]\n"
     ]
    },
    {
     "data": {
      "application/vnd.jupyter.widget-view+json": {
       "model_id": "897113fcb3f74440862b5323577e458a",
       "version_major": 2,
       "version_minor": 0
      },
      "text/plain": [
       "HBox(children=(FloatProgress(value=1.0, bar_style='info', max=1.0), HTML(value='')))"
      ]
     },
     "metadata": {},
     "output_type": "display_data"
    },
    {
     "name": "stdout",
     "output_type": "stream",
     "text": [
      "\n",
      "======\n",
      "Checking Pre-saved Hierarchy for BPID:  3000267209 \n",
      "======\n",
      "Related BPIDs found:  1 = ['3000267209']\n"
     ]
    },
    {
     "data": {
      "application/vnd.jupyter.widget-view+json": {
       "model_id": "4b92a4c7bc854dde9bc18d35b7fb8609",
       "version_major": 2,
       "version_minor": 0
      },
      "text/plain": [
       "HBox(children=(FloatProgress(value=0.0, max=1.0), HTML(value='')))"
      ]
     },
     "metadata": {},
     "output_type": "display_data"
    },
    {
     "name": "stdout",
     "output_type": "stream",
     "text": [
      "...mapping from 3000267209  to Site_id not found: skipping\n",
      "\n",
      "======\n",
      "Checking Pre-saved Hierarchy for BPID:  2000578073 \n",
      "======\n",
      "Related BPIDs found:  1 = ['2000578073']\n"
     ]
    },
    {
     "data": {
      "application/vnd.jupyter.widget-view+json": {
       "model_id": "e84835a1fd924890afbae97f04b333f4",
       "version_major": 2,
       "version_minor": 0
      },
      "text/plain": [
       "HBox(children=(FloatProgress(value=0.0, max=1.0), HTML(value='')))"
      ]
     },
     "metadata": {},
     "output_type": "display_data"
    },
    {
     "name": "stdout",
     "output_type": "stream",
     "text": [
      "===\n",
      "Extracting Nature Usage for 2000578073  -- top level= 2000578073 Site_id= 15431\n",
      "..saving..\n",
      "\n",
      "======\n",
      "Checking Pre-saved Hierarchy for BPID:  2000340463 \n",
      "======\n",
      "Related BPIDs found:  1 = ['2000340463']\n"
     ]
    },
    {
     "data": {
      "application/vnd.jupyter.widget-view+json": {
       "model_id": "8820a58a2afe4e87a3d3613c4e4bca28",
       "version_major": 2,
       "version_minor": 0
      },
      "text/plain": [
       "HBox(children=(FloatProgress(value=0.0, max=1.0), HTML(value='')))"
      ]
     },
     "metadata": {},
     "output_type": "display_data"
    },
    {
     "name": "stdout",
     "output_type": "stream",
     "text": [
      "===\n",
      "Extracting Nature Usage for 2000340463  -- top level= 2000340463 Site_id= 7411\n",
      "..saving..\n",
      "\n",
      "======\n",
      "Checking Pre-saved Hierarchy for BPID:  3000132530 \n",
      "======\n",
      "Related BPIDs found:  1 = ['3000132530']\n"
     ]
    },
    {
     "data": {
      "application/vnd.jupyter.widget-view+json": {
       "model_id": "faa97e56c7b2424094de8e19acda51e6",
       "version_major": 2,
       "version_minor": 0
      },
      "text/plain": [
       "HBox(children=(FloatProgress(value=0.0, max=1.0), HTML(value='')))"
      ]
     },
     "metadata": {},
     "output_type": "display_data"
    },
    {
     "name": "stdout",
     "output_type": "stream",
     "text": [
      "===\n",
      "Extracting Nature Usage for 3000132530  -- top level= 3000132530 Site_id= 6429\n",
      "..saving..\n",
      "\n",
      "======\n",
      "Checking Pre-saved Hierarchy for BPID:  3000172792 \n",
      "======\n",
      "Related BPIDs found:  1 = ['3000172792']\n"
     ]
    },
    {
     "data": {
      "application/vnd.jupyter.widget-view+json": {
       "model_id": "ff9576e5f54d4e3fbdacf33c72b6072a",
       "version_major": 2,
       "version_minor": 0
      },
      "text/plain": [
       "HBox(children=(FloatProgress(value=0.0, max=1.0), HTML(value='')))"
      ]
     },
     "metadata": {},
     "output_type": "display_data"
    },
    {
     "name": "stdout",
     "output_type": "stream",
     "text": [
      "...mapping from 3000172792  to Site_id not found: skipping\n",
      "\n",
      "======\n",
      "Checking Pre-saved Hierarchy for BPID:  3000101569 \n",
      "======\n",
      "Related BPIDs found:  1 = ['3000101569']\n"
     ]
    },
    {
     "data": {
      "application/vnd.jupyter.widget-view+json": {
       "model_id": "75f64b9121f54b918df1f747069b3141",
       "version_major": 2,
       "version_minor": 0
      },
      "text/plain": [
       "HBox(children=(FloatProgress(value=0.0, max=1.0), HTML(value='')))"
      ]
     },
     "metadata": {},
     "output_type": "display_data"
    },
    {
     "name": "stdout",
     "output_type": "stream",
     "text": [
      "...mapping from 3000101569  to Site_id not found: skipping\n",
      "\n",
      "======\n",
      "Checking Pre-saved Hierarchy for BPID:  3000162976 \n",
      "======\n",
      "Related BPIDs found:  1 = ['3000162976']\n"
     ]
    },
    {
     "data": {
      "application/vnd.jupyter.widget-view+json": {
       "model_id": "f770e166a49548fb8203c42a06f4a1d0",
       "version_major": 2,
       "version_minor": 0
      },
      "text/plain": [
       "HBox(children=(FloatProgress(value=0.0, max=1.0), HTML(value='')))"
      ]
     },
     "metadata": {},
     "output_type": "display_data"
    },
    {
     "name": "stdout",
     "output_type": "stream",
     "text": [
      "...mapping from 3000162976  to Site_id not found: skipping\n",
      "\n",
      "======\n",
      "Checking Pre-saved Hierarchy for BPID:  8200696305 \n",
      "======\n",
      "Related BPIDs found:  2 = ['8200696305', '8200828607']\n"
     ]
    },
    {
     "data": {
      "application/vnd.jupyter.widget-view+json": {
       "model_id": "0830e56cdc0c42e9a4952ec5ba4fd746",
       "version_major": 2,
       "version_minor": 0
      },
      "text/plain": [
       "HBox(children=(FloatProgress(value=0.0, max=2.0), HTML(value='')))"
      ]
     },
     "metadata": {},
     "output_type": "display_data"
    },
    {
     "name": "stdout",
     "output_type": "stream",
     "text": [
      "===\n",
      "Extracting Nature Usage for 8200696305  -- top level= 8200696305 Site_id= 1661\n",
      "..saving..\n",
      "...mapping from 8200828607  to Site_id not found: skipping\n",
      "\n",
      "======\n",
      "Checking Pre-saved Hierarchy for BPID:  8200705430 \n",
      "======\n",
      "Related BPIDs found:  2 = ['8200705430', '8200828607']\n"
     ]
    },
    {
     "data": {
      "application/vnd.jupyter.widget-view+json": {
       "model_id": "7a48ad86e5954f92ba39d78b1756039d",
       "version_major": 2,
       "version_minor": 0
      },
      "text/plain": [
       "HBox(children=(FloatProgress(value=0.0, max=2.0), HTML(value='')))"
      ]
     },
     "metadata": {},
     "output_type": "display_data"
    },
    {
     "name": "stdout",
     "output_type": "stream",
     "text": [
      "===\n",
      "Extracting Nature Usage for 8200705430  -- top level= 8200705430 Site_id= 757\n",
      "..saving..\n",
      "...mapping from 8200828607  to Site_id not found: skipping\n",
      "\n",
      "======\n",
      "Checking Pre-saved Hierarchy for BPID:  8200856009 \n",
      "======\n",
      "Related BPIDs found:  2 = ['8200856009', '8200828607']\n"
     ]
    },
    {
     "data": {
      "application/vnd.jupyter.widget-view+json": {
       "model_id": "57a9038b9b7843159d40d12e361fcb5e",
       "version_major": 2,
       "version_minor": 0
      },
      "text/plain": [
       "HBox(children=(FloatProgress(value=0.0, max=2.0), HTML(value='')))"
      ]
     },
     "metadata": {},
     "output_type": "display_data"
    },
    {
     "name": "stdout",
     "output_type": "stream",
     "text": [
      "===\n",
      "Extracting Nature Usage for 8200856009  -- top level= 8200856009 Site_id= 1283\n",
      "..saving..\n",
      "...mapping from 8200828607  to Site_id not found: skipping\n",
      "\n",
      "======\n",
      "Checking Pre-saved Hierarchy for BPID:  8200730943 \n",
      "======\n",
      "Related BPIDs found:  2 = ['8200730943', '8200828607']\n"
     ]
    },
    {
     "data": {
      "application/vnd.jupyter.widget-view+json": {
       "model_id": "3d657cc1ff0f47e1a615bb1e525a20eb",
       "version_major": 2,
       "version_minor": 0
      },
      "text/plain": [
       "HBox(children=(FloatProgress(value=0.0, max=2.0), HTML(value='')))"
      ]
     },
     "metadata": {},
     "output_type": "display_data"
    },
    {
     "name": "stdout",
     "output_type": "stream",
     "text": [
      "===\n",
      "Extracting Nature Usage for 8200730943  -- top level= 8200730943 Site_id= 1381\n",
      "..saving..\n",
      "...mapping from 8200828607  to Site_id not found: skipping\n",
      "\n",
      "======\n",
      "Checking Pre-saved Hierarchy for BPID:  8200730943 \n",
      "======\n",
      "Related BPIDs found:  2 = ['8200730943', '8200828607']\n"
     ]
    },
    {
     "data": {
      "application/vnd.jupyter.widget-view+json": {
       "model_id": "2f36402d063f4d019bfac0003b46be64",
       "version_major": 2,
       "version_minor": 0
      },
      "text/plain": [
       "HBox(children=(FloatProgress(value=0.0, max=2.0), HTML(value='')))"
      ]
     },
     "metadata": {},
     "output_type": "display_data"
    },
    {
     "name": "stdout",
     "output_type": "stream",
     "text": [
      "===\n",
      "Extracting Nature Usage for 8200730943  -- top level= 8200730943 Site_id= 1381\n",
      "..saving..\n",
      "...mapping from 8200828607  to Site_id not found: skipping\n",
      "\n",
      "======\n",
      "Checking Pre-saved Hierarchy for BPID:  2000668629 \n",
      "======\n",
      "Related BPIDs found:  2 = ['2000668629', '8200828607']\n"
     ]
    },
    {
     "data": {
      "application/vnd.jupyter.widget-view+json": {
       "model_id": "afa9b3ca5ec149f3b02473f9c4d24af9",
       "version_major": 2,
       "version_minor": 0
      },
      "text/plain": [
       "HBox(children=(FloatProgress(value=0.0, max=2.0), HTML(value='')))"
      ]
     },
     "metadata": {},
     "output_type": "display_data"
    },
    {
     "name": "stdout",
     "output_type": "stream",
     "text": [
      "===\n",
      "Extracting Nature Usage for 2000668629  -- top level= 2000668629 Site_id= 996\n",
      "..saving..\n",
      "...mapping from 8200828607  to Site_id not found: skipping\n",
      "\n",
      "======\n",
      "Checking Pre-saved Hierarchy for BPID:  2000189191 \n",
      "======\n",
      "Related BPIDs found:  2 = ['2000189191', '8200828607']\n"
     ]
    },
    {
     "data": {
      "application/vnd.jupyter.widget-view+json": {
       "model_id": "de8f12d094f040c98af2c1cc945f3708",
       "version_major": 2,
       "version_minor": 0
      },
      "text/plain": [
       "HBox(children=(FloatProgress(value=0.0, max=2.0), HTML(value='')))"
      ]
     },
     "metadata": {},
     "output_type": "display_data"
    },
    {
     "name": "stdout",
     "output_type": "stream",
     "text": [
      "===\n",
      "Extracting Nature Usage for 2000189191  -- top level= 2000189191 Site_id= 1307\n",
      "..saving..\n",
      "...mapping from 8200828607  to Site_id not found: skipping\n",
      "\n",
      "======\n",
      "Checking Pre-saved Hierarchy for BPID:  3000133174 \n",
      "======\n",
      "Related BPIDs found:  3 = ['3000133174', '8200828607', '3000176756']\n"
     ]
    },
    {
     "data": {
      "application/vnd.jupyter.widget-view+json": {
       "model_id": "5a716ed45ae7428290102f7e5bdda829",
       "version_major": 2,
       "version_minor": 0
      },
      "text/plain": [
       "HBox(children=(FloatProgress(value=0.0, max=3.0), HTML(value='')))"
      ]
     },
     "metadata": {},
     "output_type": "display_data"
    },
    {
     "name": "stdout",
     "output_type": "stream",
     "text": [
      "===\n",
      "Extracting Nature Usage for 3000133174  -- top level= 3000133174 Site_id= 7805\n",
      "..saving..\n",
      "...mapping from 8200828607  to Site_id not found: skipping\n",
      "...mapping from 3000176756  to Site_id not found: skipping\n",
      "\n",
      "======\n",
      "Checking Pre-saved Hierarchy for BPID:  3000118482 \n",
      "======\n",
      "Related BPIDs found:  2 = ['3000118482', '8200828607']\n"
     ]
    },
    {
     "data": {
      "application/vnd.jupyter.widget-view+json": {
       "model_id": "6e995bc30819435cafaf979287941a51",
       "version_major": 2,
       "version_minor": 0
      },
      "text/plain": [
       "HBox(children=(FloatProgress(value=0.0, max=2.0), HTML(value='')))"
      ]
     },
     "metadata": {},
     "output_type": "display_data"
    },
    {
     "name": "stdout",
     "output_type": "stream",
     "text": [
      "===\n",
      "Extracting Nature Usage for 3000118482  -- top level= 3000118482 Site_id= 9153\n",
      "..saving..\n",
      "...mapping from 8200828607  to Site_id not found: skipping\n",
      "\n",
      "======\n",
      "Checking Pre-saved Hierarchy for BPID:  8200696853 \n",
      "======\n",
      "Related BPIDs found:  2 = ['8200696853', '8200828607']\n"
     ]
    },
    {
     "data": {
      "application/vnd.jupyter.widget-view+json": {
       "model_id": "6ed4b85e8e6f4eb2bab345b03fe938f6",
       "version_major": 2,
       "version_minor": 0
      },
      "text/plain": [
       "HBox(children=(FloatProgress(value=0.0, max=2.0), HTML(value='')))"
      ]
     },
     "metadata": {},
     "output_type": "display_data"
    },
    {
     "name": "stdout",
     "output_type": "stream",
     "text": [
      "===\n",
      "Extracting Nature Usage for 8200696853  -- top level= 8200696853 Site_id= 7306\n",
      "..saving..\n",
      "...mapping from 8200828607  to Site_id not found: skipping\n",
      "\n",
      "======\n",
      "Checking Pre-saved Hierarchy for BPID:  8200969199 \n",
      "======\n",
      "Related BPIDs found:  2 = ['8200969199', '8200828607']\n"
     ]
    },
    {
     "data": {
      "application/vnd.jupyter.widget-view+json": {
       "model_id": "88aa738cbd0f43bf86bf00a39cb316da",
       "version_major": 2,
       "version_minor": 0
      },
      "text/plain": [
       "HBox(children=(FloatProgress(value=0.0, max=2.0), HTML(value='')))"
      ]
     },
     "metadata": {},
     "output_type": "display_data"
    },
    {
     "name": "stdout",
     "output_type": "stream",
     "text": [
      "===\n",
      "Extracting Nature Usage for 8200969199  -- top level= 8200969199 Site_id= 1280\n",
      "..saving..\n",
      "...mapping from 8200828607  to Site_id not found: skipping\n",
      "\n",
      "======\n",
      "Checking Pre-saved Hierarchy for BPID:  8200969199 \n",
      "======\n",
      "Related BPIDs found:  2 = ['8200969199', '8200828607']\n"
     ]
    },
    {
     "data": {
      "application/vnd.jupyter.widget-view+json": {
       "model_id": "b6c4949da88f4b679948fa184313095b",
       "version_major": 2,
       "version_minor": 0
      },
      "text/plain": [
       "HBox(children=(FloatProgress(value=0.0, max=2.0), HTML(value='')))"
      ]
     },
     "metadata": {},
     "output_type": "display_data"
    },
    {
     "name": "stdout",
     "output_type": "stream",
     "text": [
      "===\n",
      "Extracting Nature Usage for 8200969199  -- top level= 8200969199 Site_id= 1280\n",
      "..saving..\n",
      "...mapping from 8200828607  to Site_id not found: skipping\n",
      "\n",
      "======\n",
      "Checking Pre-saved Hierarchy for BPID:  8200595982 \n",
      "======\n",
      "Related BPIDs found:  2 = ['8200595982', '8200828607']\n"
     ]
    },
    {
     "data": {
      "application/vnd.jupyter.widget-view+json": {
       "model_id": "cea4d6fe0d4a4ea0a05898712c69b888",
       "version_major": 2,
       "version_minor": 0
      },
      "text/plain": [
       "HBox(children=(FloatProgress(value=0.0, max=2.0), HTML(value='')))"
      ]
     },
     "metadata": {},
     "output_type": "display_data"
    },
    {
     "name": "stdout",
     "output_type": "stream",
     "text": [
      "===\n",
      "Extracting Nature Usage for 8200595982  -- top level= 8200595982 Site_id= 1313\n",
      "..saving..\n",
      "...mapping from 8200828607  to Site_id not found: skipping\n",
      "\n",
      "======\n",
      "Checking Pre-saved Hierarchy for BPID:  8200831269 \n",
      "======\n",
      "Related BPIDs found:  2 = ['8200831269', '8200828607']\n"
     ]
    },
    {
     "data": {
      "application/vnd.jupyter.widget-view+json": {
       "model_id": "148f8cc15b4e4a33bde0dd89b68ba5ec",
       "version_major": 2,
       "version_minor": 0
      },
      "text/plain": [
       "HBox(children=(FloatProgress(value=0.0, max=2.0), HTML(value='')))"
      ]
     },
     "metadata": {},
     "output_type": "display_data"
    },
    {
     "name": "stdout",
     "output_type": "stream",
     "text": [
      "===\n",
      "Extracting Nature Usage for 8200831269  -- top level= 8200831269 Site_id= 520\n",
      "..saving..\n",
      "...mapping from 8200828607  to Site_id not found: skipping\n",
      "\n",
      "======\n",
      "Checking Pre-saved Hierarchy for BPID:  8200400967 \n",
      "======\n",
      "Related BPIDs found:  3 = ['8200400967', '3000176734', '8200828607']\n"
     ]
    },
    {
     "data": {
      "application/vnd.jupyter.widget-view+json": {
       "model_id": "c3e6be16147b4e8db997b54f388e63b6",
       "version_major": 2,
       "version_minor": 0
      },
      "text/plain": [
       "HBox(children=(FloatProgress(value=0.0, max=3.0), HTML(value='')))"
      ]
     },
     "metadata": {},
     "output_type": "display_data"
    },
    {
     "name": "stdout",
     "output_type": "stream",
     "text": [
      "===\n",
      "Extracting Nature Usage for 8200400967  -- top level= 8200400967 Site_id= 9907\n",
      "..saving..\n",
      "...mapping from 3000176734  to Site_id not found: skipping\n",
      "...mapping from 8200828607  to Site_id not found: skipping\n",
      "\n",
      "======\n",
      "Checking Pre-saved Hierarchy for BPID:  8200692383 \n",
      "======\n",
      "Related BPIDs found:  3 = ['8200692383', '3000176756', '8200828607']\n"
     ]
    },
    {
     "data": {
      "application/vnd.jupyter.widget-view+json": {
       "model_id": "53eca60bf9964af3aaeecdb983d89c88",
       "version_major": 2,
       "version_minor": 0
      },
      "text/plain": [
       "HBox(children=(FloatProgress(value=0.0, max=3.0), HTML(value='')))"
      ]
     },
     "metadata": {},
     "output_type": "display_data"
    },
    {
     "name": "stdout",
     "output_type": "stream",
     "text": [
      "===\n",
      "Extracting Nature Usage for 8200692383  -- top level= 8200692383 Site_id= 416\n",
      "..saving..\n",
      "...mapping from 3000176756  to Site_id not found: skipping\n",
      "...mapping from 8200828607  to Site_id not found: skipping\n",
      "\n",
      "======\n",
      "Checking Pre-saved Hierarchy for BPID:  8200763073 \n",
      "======\n",
      "Related BPIDs found:  2 = ['8200763073', '8200828607']\n"
     ]
    },
    {
     "data": {
      "application/vnd.jupyter.widget-view+json": {
       "model_id": "687df2d4f25242d99a1a2bfce7d60e35",
       "version_major": 2,
       "version_minor": 0
      },
      "text/plain": [
       "HBox(children=(FloatProgress(value=0.0, max=2.0), HTML(value='')))"
      ]
     },
     "metadata": {},
     "output_type": "display_data"
    },
    {
     "name": "stdout",
     "output_type": "stream",
     "text": [
      "===\n",
      "Extracting Nature Usage for 8200763073  -- top level= 8200763073 Site_id= 2438\n",
      "..saving..\n",
      "...mapping from 8200828607  to Site_id not found: skipping\n",
      "\n",
      "======\n",
      "Checking Pre-saved Hierarchy for BPID:  8200724015 \n",
      "======\n",
      "Related BPIDs found:  2 = ['8200724015', '8200828607']\n"
     ]
    },
    {
     "data": {
      "application/vnd.jupyter.widget-view+json": {
       "model_id": "5ae33d6dbb5e4ae68b54e0616f851213",
       "version_major": 2,
       "version_minor": 0
      },
      "text/plain": [
       "HBox(children=(FloatProgress(value=0.0, max=2.0), HTML(value='')))"
      ]
     },
     "metadata": {},
     "output_type": "display_data"
    },
    {
     "name": "stdout",
     "output_type": "stream",
     "text": [
      "===\n",
      "Extracting Nature Usage for 8200724015  -- top level= 8200724015 Site_id= 485\n",
      "..saving..\n",
      "...mapping from 8200828607  to Site_id not found: skipping\n",
      "\n",
      "======\n",
      "Checking Pre-saved Hierarchy for BPID:  8200972026 \n",
      "======\n",
      "Related BPIDs found:  4 = ['8200972026', '3000176734', '8200828607', '3000176756']\n"
     ]
    },
    {
     "data": {
      "application/vnd.jupyter.widget-view+json": {
       "model_id": "aa598c55a77a462c9df074529100a493",
       "version_major": 2,
       "version_minor": 0
      },
      "text/plain": [
       "HBox(children=(FloatProgress(value=0.0, max=4.0), HTML(value='')))"
      ]
     },
     "metadata": {},
     "output_type": "display_data"
    },
    {
     "name": "stdout",
     "output_type": "stream",
     "text": [
      "===\n",
      "Extracting Nature Usage for 8200972026  -- top level= 8200972026 Site_id= 7355\n",
      "..saving..\n",
      "...mapping from 3000176734  to Site_id not found: skipping\n",
      "...mapping from 8200828607  to Site_id not found: skipping\n",
      "...mapping from 3000176756  to Site_id not found: skipping\n",
      "\n",
      "======\n",
      "Checking Pre-saved Hierarchy for BPID:  8200836846 \n",
      "======\n",
      "Related BPIDs found:  4 = ['8200836846', '3000176734', '8200828607', '3000176756']\n"
     ]
    },
    {
     "data": {
      "application/vnd.jupyter.widget-view+json": {
       "model_id": "91961fa1a16940bfb41e236a0398c4e0",
       "version_major": 2,
       "version_minor": 0
      },
      "text/plain": [
       "HBox(children=(FloatProgress(value=0.0, max=4.0), HTML(value='')))"
      ]
     },
     "metadata": {},
     "output_type": "display_data"
    },
    {
     "name": "stdout",
     "output_type": "stream",
     "text": [
      "===\n",
      "Extracting Nature Usage for 8200836846  -- top level= 8200836846 Site_id= 2556\n",
      "..saving..\n",
      "...mapping from 3000176734  to Site_id not found: skipping\n",
      "...mapping from 8200828607  to Site_id not found: skipping\n",
      "...mapping from 3000176756  to Site_id not found: skipping\n",
      "\n",
      "======\n",
      "Checking Pre-saved Hierarchy for BPID:  8200406196 \n",
      "======\n",
      "Related BPIDs found:  3 = ['8200406196', '3000176734', '8200828607']\n"
     ]
    },
    {
     "data": {
      "application/vnd.jupyter.widget-view+json": {
       "model_id": "8b4c7e36f445428bb8b4fa915dbf6ccb",
       "version_major": 2,
       "version_minor": 0
      },
      "text/plain": [
       "HBox(children=(FloatProgress(value=0.0, max=3.0), HTML(value='')))"
      ]
     },
     "metadata": {},
     "output_type": "display_data"
    },
    {
     "name": "stdout",
     "output_type": "stream",
     "text": [
      "===\n",
      "Extracting Nature Usage for 8200406196  -- top level= 8200406196 Site_id= 4662\n",
      "..saving..\n",
      "...mapping from 3000176734  to Site_id not found: skipping\n",
      "...mapping from 8200828607  to Site_id not found: skipping\n",
      "\n",
      "======\n",
      "Checking Pre-saved Hierarchy for BPID:  8201005121 \n",
      "======\n",
      "Related BPIDs found:  2 = ['8201005121', '8200828607']\n"
     ]
    },
    {
     "data": {
      "application/vnd.jupyter.widget-view+json": {
       "model_id": "629a92fa04174dafac3e26f99aad075a",
       "version_major": 2,
       "version_minor": 0
      },
      "text/plain": [
       "HBox(children=(FloatProgress(value=0.0, max=2.0), HTML(value='')))"
      ]
     },
     "metadata": {},
     "output_type": "display_data"
    },
    {
     "name": "stdout",
     "output_type": "stream",
     "text": [
      "===\n",
      "Extracting Nature Usage for 8201005121  -- top level= 8201005121 Site_id= 1098\n",
      "..saving..\n",
      "...mapping from 8200828607  to Site_id not found: skipping\n",
      "\n",
      "======\n",
      "Checking Pre-saved Hierarchy for BPID:  8200832077 \n",
      "======\n",
      "Related BPIDs found:  2 = ['8200832077', '8200828607']\n"
     ]
    },
    {
     "data": {
      "application/vnd.jupyter.widget-view+json": {
       "model_id": "2dbe58d1c5754556bcb5882b64e58010",
       "version_major": 2,
       "version_minor": 0
      },
      "text/plain": [
       "HBox(children=(FloatProgress(value=0.0, max=2.0), HTML(value='')))"
      ]
     },
     "metadata": {},
     "output_type": "display_data"
    },
    {
     "name": "stdout",
     "output_type": "stream",
     "text": [
      "===\n",
      "Extracting Nature Usage for 8200832077  -- top level= 8200832077 Site_id= 6855\n",
      "..saving..\n",
      "...mapping from 8200828607  to Site_id not found: skipping\n",
      "\n",
      "======\n",
      "Checking Pre-saved Hierarchy for BPID:  8200832017 \n",
      "======\n",
      "Related BPIDs found:  2 = ['8200832017', '8200828607']\n"
     ]
    },
    {
     "data": {
      "application/vnd.jupyter.widget-view+json": {
       "model_id": "db35f813a1c2459a980fb588e4afcd29",
       "version_major": 2,
       "version_minor": 0
      },
      "text/plain": [
       "HBox(children=(FloatProgress(value=0.0, max=2.0), HTML(value='')))"
      ]
     },
     "metadata": {},
     "output_type": "display_data"
    },
    {
     "name": "stdout",
     "output_type": "stream",
     "text": [
      "===\n",
      "Extracting Nature Usage for 8200832017  -- top level= 8200832017 Site_id= 1335\n",
      "..saving..\n",
      "...mapping from 8200828607  to Site_id not found: skipping\n",
      "\n",
      "======\n",
      "Checking Pre-saved Hierarchy for BPID:  8200706463 \n",
      "======\n",
      "Related BPIDs found:  2 = ['8200706463', '8200828607']\n"
     ]
    },
    {
     "data": {
      "application/vnd.jupyter.widget-view+json": {
       "model_id": "be24e1479daa4f9d991f74ea4060b83a",
       "version_major": 2,
       "version_minor": 0
      },
      "text/plain": [
       "HBox(children=(FloatProgress(value=0.0, max=2.0), HTML(value='')))"
      ]
     },
     "metadata": {},
     "output_type": "display_data"
    },
    {
     "name": "stdout",
     "output_type": "stream",
     "text": [
      "===\n",
      "Extracting Nature Usage for 8200706463  -- top level= 8200706463 Site_id= 6174\n",
      "..saving..\n",
      "...mapping from 8200828607  to Site_id not found: skipping\n",
      "\n",
      "======\n",
      "Checking Pre-saved Hierarchy for BPID:  8200979403 \n",
      "======\n",
      "Related BPIDs found:  2 = ['8200979403', '8200828607']\n"
     ]
    },
    {
     "data": {
      "application/vnd.jupyter.widget-view+json": {
       "model_id": "c4d5996482684d8aa5d670e15151fedb",
       "version_major": 2,
       "version_minor": 0
      },
      "text/plain": [
       "HBox(children=(FloatProgress(value=0.0, max=2.0), HTML(value='')))"
      ]
     },
     "metadata": {},
     "output_type": "display_data"
    },
    {
     "name": "stdout",
     "output_type": "stream",
     "text": [
      "===\n",
      "Extracting Nature Usage for 8200979403  -- top level= 8200979403 Site_id= 7676\n",
      "..saving..\n",
      "...mapping from 8200828607  to Site_id not found: skipping\n",
      "\n",
      "======\n",
      "Checking Pre-saved Hierarchy for BPID:  8200831900 \n",
      "======\n",
      "Related BPIDs found:  2 = ['8200831900', '8200828607']\n"
     ]
    },
    {
     "data": {
      "application/vnd.jupyter.widget-view+json": {
       "model_id": "039f31435ebe41c9aa58411d42a698fb",
       "version_major": 2,
       "version_minor": 0
      },
      "text/plain": [
       "HBox(children=(FloatProgress(value=0.0, max=2.0), HTML(value='')))"
      ]
     },
     "metadata": {},
     "output_type": "display_data"
    },
    {
     "name": "stdout",
     "output_type": "stream",
     "text": [
      "===\n",
      "Extracting Nature Usage for 8200831900  -- top level= 8200831900 Site_id= 1290\n",
      "..saving..\n",
      "...mapping from 8200828607  to Site_id not found: skipping\n",
      "\n",
      "======\n",
      "Checking Pre-saved Hierarchy for BPID:  2000481557 \n",
      "======\n",
      "Related BPIDs found:  2 = ['2000481557', '8200828607']\n"
     ]
    },
    {
     "data": {
      "application/vnd.jupyter.widget-view+json": {
       "model_id": "9575e018b8c04a4885497b2c1722cf0f",
       "version_major": 2,
       "version_minor": 0
      },
      "text/plain": [
       "HBox(children=(FloatProgress(value=0.0, max=2.0), HTML(value='')))"
      ]
     },
     "metadata": {},
     "output_type": "display_data"
    },
    {
     "name": "stdout",
     "output_type": "stream",
     "text": [
      "===\n",
      "Extracting Nature Usage for 2000481557  -- top level= 2000481557 Site_id= 1302\n",
      "..saving..\n",
      "...mapping from 8200828607  to Site_id not found: skipping\n",
      "\n",
      "======\n",
      "Checking Pre-saved Hierarchy for BPID:  8200706739 \n",
      "======\n",
      "Related BPIDs found:  2 = ['8200706739', '8200828607']\n"
     ]
    },
    {
     "data": {
      "application/vnd.jupyter.widget-view+json": {
       "model_id": "2080e79c76754f80b872bcb3309cc67c",
       "version_major": 2,
       "version_minor": 0
      },
      "text/plain": [
       "HBox(children=(FloatProgress(value=0.0, max=2.0), HTML(value='')))"
      ]
     },
     "metadata": {},
     "output_type": "display_data"
    },
    {
     "name": "stdout",
     "output_type": "stream",
     "text": [
      "===\n",
      "Extracting Nature Usage for 8200706739  -- top level= 8200706739 Site_id= 14012\n",
      "..saving..\n",
      "...mapping from 8200828607  to Site_id not found: skipping\n",
      "\n",
      "======\n",
      "Checking Pre-saved Hierarchy for BPID:  8200972206 \n",
      "======\n",
      "Related BPIDs found:  2 = ['8200972206', '8200828607']\n"
     ]
    },
    {
     "data": {
      "application/vnd.jupyter.widget-view+json": {
       "model_id": "b5c01ab7d7dd4ab38bd60d3056432a76",
       "version_major": 2,
       "version_minor": 0
      },
      "text/plain": [
       "HBox(children=(FloatProgress(value=0.0, max=2.0), HTML(value='')))"
      ]
     },
     "metadata": {},
     "output_type": "display_data"
    },
    {
     "name": "stdout",
     "output_type": "stream",
     "text": [
      "===\n",
      "Extracting Nature Usage for 8200972206  -- top level= 8200972206 Site_id= 1883\n",
      "..saving..\n",
      "...mapping from 8200828607  to Site_id not found: skipping\n",
      "\n",
      "======\n",
      "Checking Pre-saved Hierarchy for BPID:  8200831826 \n",
      "======\n",
      "Related BPIDs found:  2 = ['8200831826', '8200828607']\n"
     ]
    },
    {
     "data": {
      "application/vnd.jupyter.widget-view+json": {
       "model_id": "20528d0f084442bda221459e40aaff1e",
       "version_major": 2,
       "version_minor": 0
      },
      "text/plain": [
       "HBox(children=(FloatProgress(value=0.0, max=2.0), HTML(value='')))"
      ]
     },
     "metadata": {},
     "output_type": "display_data"
    },
    {
     "name": "stdout",
     "output_type": "stream",
     "text": [
      "===\n",
      "Extracting Nature Usage for 8200831826  -- top level= 8200831826 Site_id= 9666\n",
      "..saving..\n",
      "...mapping from 8200828607  to Site_id not found: skipping\n",
      "\n",
      "======\n",
      "Checking Pre-saved Hierarchy for BPID:  8200706780 \n",
      "======\n",
      "Related BPIDs found:  2 = ['8200706780', '8200828607']\n"
     ]
    },
    {
     "data": {
      "application/vnd.jupyter.widget-view+json": {
       "model_id": "223321c08e8a49b58c14b169e68d4c79",
       "version_major": 2,
       "version_minor": 0
      },
      "text/plain": [
       "HBox(children=(FloatProgress(value=0.0, max=2.0), HTML(value='')))"
      ]
     },
     "metadata": {},
     "output_type": "display_data"
    },
    {
     "name": "stdout",
     "output_type": "stream",
     "text": [
      "===\n",
      "Extracting Nature Usage for 8200706780  -- top level= 8200706780 Site_id= 13623\n",
      "..saving..\n",
      "...mapping from 8200828607  to Site_id not found: skipping\n",
      "\n",
      "======\n",
      "Checking Pre-saved Hierarchy for BPID:  8200868601 \n",
      "======\n",
      "Related BPIDs found:  3 = ['8200868601', '8200828607', '3000133814']\n"
     ]
    },
    {
     "data": {
      "application/vnd.jupyter.widget-view+json": {
       "model_id": "1b7bef81a1d5446aab98cacfb45b0e86",
       "version_major": 2,
       "version_minor": 0
      },
      "text/plain": [
       "HBox(children=(FloatProgress(value=0.0, max=3.0), HTML(value='')))"
      ]
     },
     "metadata": {},
     "output_type": "display_data"
    },
    {
     "name": "stdout",
     "output_type": "stream",
     "text": [
      "===\n",
      "Extracting Nature Usage for 8200868601  -- top level= 8200868601 Site_id= 984\n",
      "..saving..\n",
      "...mapping from 8200828607  to Site_id not found: skipping\n",
      "...mapping from 3000133814  to Site_id not found: skipping\n",
      "\n",
      "======\n",
      "Checking Pre-saved Hierarchy for BPID:  3000167069 \n",
      "======\n",
      "Related BPIDs found:  2 = ['3000167069', '8200828607']\n"
     ]
    },
    {
     "data": {
      "application/vnd.jupyter.widget-view+json": {
       "model_id": "e10759130fb34cc8a5175cce6dc77890",
       "version_major": 2,
       "version_minor": 0
      },
      "text/plain": [
       "HBox(children=(FloatProgress(value=0.0, max=2.0), HTML(value='')))"
      ]
     },
     "metadata": {},
     "output_type": "display_data"
    },
    {
     "name": "stdout",
     "output_type": "stream",
     "text": [
      "===\n",
      "Extracting Nature Usage for 3000167069  -- top level= 3000167069 Site_id= 2897\n",
      "..saving..\n",
      "...mapping from 8200828607  to Site_id not found: skipping\n",
      "\n",
      "======\n",
      "Checking Pre-saved Hierarchy for BPID:  8200924855 \n",
      "======\n",
      "Related BPIDs found:  2 = ['8200924855', '8200828607']\n"
     ]
    },
    {
     "data": {
      "application/vnd.jupyter.widget-view+json": {
       "model_id": "c8491d8b0b6d4b70a32c10e8e536179a",
       "version_major": 2,
       "version_minor": 0
      },
      "text/plain": [
       "HBox(children=(FloatProgress(value=0.0, max=2.0), HTML(value='')))"
      ]
     },
     "metadata": {},
     "output_type": "display_data"
    },
    {
     "name": "stdout",
     "output_type": "stream",
     "text": [
      "===\n",
      "Extracting Nature Usage for 8200924855  -- top level= 8200924855 Site_id= 692\n",
      "..saving..\n",
      "...mapping from 8200828607  to Site_id not found: skipping\n",
      "\n",
      "======\n",
      "Checking Pre-saved Hierarchy for BPID:  8200150001 \n",
      "======\n",
      "Related BPIDs found:  2 = ['8200150001', '8200828607']\n"
     ]
    },
    {
     "data": {
      "application/vnd.jupyter.widget-view+json": {
       "model_id": "812d46cb541a42929f18f0b471a54ec8",
       "version_major": 2,
       "version_minor": 0
      },
      "text/plain": [
       "HBox(children=(FloatProgress(value=0.0, max=2.0), HTML(value='')))"
      ]
     },
     "metadata": {},
     "output_type": "display_data"
    },
    {
     "name": "stdout",
     "output_type": "stream",
     "text": [
      "===\n",
      "Extracting Nature Usage for 8200150001  -- top level= 8200150001 Site_id= 4984\n",
      "..saving..\n",
      "...mapping from 8200828607  to Site_id not found: skipping\n",
      "\n",
      "======\n",
      "Checking Pre-saved Hierarchy for BPID:  8200911654 \n",
      "======\n",
      "Related BPIDs found:  2 = ['8200911654', '8200828607']\n"
     ]
    },
    {
     "data": {
      "application/vnd.jupyter.widget-view+json": {
       "model_id": "9a5cf576edb6440595948f526fe7bc41",
       "version_major": 2,
       "version_minor": 0
      },
      "text/plain": [
       "HBox(children=(FloatProgress(value=0.0, max=2.0), HTML(value='')))"
      ]
     },
     "metadata": {},
     "output_type": "display_data"
    },
    {
     "name": "stdout",
     "output_type": "stream",
     "text": [
      "===\n",
      "Extracting Nature Usage for 8200911654  -- top level= 8200911654 Site_id= 8810\n",
      "..saving..\n",
      "...mapping from 8200828607  to Site_id not found: skipping\n",
      "\n",
      "======\n",
      "Checking Pre-saved Hierarchy for BPID:  8200769361 \n",
      "======\n",
      "++++ ERROR ++++\n",
      "Errors index = [30036927080, 3003695120, 3003343017, 3000633321, 2000341714, 8200769361]\n"
     ]
    },
    {
     "data": {
      "application/vnd.jupyter.widget-view+json": {
       "model_id": "13a76fe53b4b44c1a7c5d9ca4c2c9b29",
       "version_major": 2,
       "version_minor": 0
      },
      "text/plain": [
       "HBox(children=(FloatProgress(value=1.0, bar_style='info', max=1.0), HTML(value='')))"
      ]
     },
     "metadata": {},
     "output_type": "display_data"
    },
    {
     "name": "stdout",
     "output_type": "stream",
     "text": [
      "\n",
      "======\n",
      "Checking Pre-saved Hierarchy for BPID:  8200724245 \n",
      "======\n",
      "Related BPIDs found:  2 = ['8200724245', '8200828607']\n"
     ]
    },
    {
     "data": {
      "application/vnd.jupyter.widget-view+json": {
       "model_id": "09175219f25640cc87ef3bcf68c6e9ee",
       "version_major": 2,
       "version_minor": 0
      },
      "text/plain": [
       "HBox(children=(FloatProgress(value=0.0, max=2.0), HTML(value='')))"
      ]
     },
     "metadata": {},
     "output_type": "display_data"
    },
    {
     "name": "stdout",
     "output_type": "stream",
     "text": [
      "===\n",
      "Extracting Nature Usage for 8200724245  -- top level= 8200724245 Site_id= 6371\n",
      "..saving..\n",
      "...mapping from 8200828607  to Site_id not found: skipping\n",
      "\n",
      "======\n",
      "Checking Pre-saved Hierarchy for BPID:  3000121833 \n",
      "======\n",
      "Related BPIDs found:  3 = ['3000121833', '8200828607', '3000176756']\n"
     ]
    },
    {
     "data": {
      "application/vnd.jupyter.widget-view+json": {
       "model_id": "d00d41d7d50e44f0a77d9cc0f05871e6",
       "version_major": 2,
       "version_minor": 0
      },
      "text/plain": [
       "HBox(children=(FloatProgress(value=0.0, max=3.0), HTML(value='')))"
      ]
     },
     "metadata": {},
     "output_type": "display_data"
    },
    {
     "name": "stdout",
     "output_type": "stream",
     "text": [
      "===\n",
      "Extracting Nature Usage for 3000121833  -- top level= 3000121833 Site_id= 7919\n",
      "..saving..\n",
      "...mapping from 8200828607  to Site_id not found: skipping\n",
      "...mapping from 3000176756  to Site_id not found: skipping\n",
      "\n",
      "======\n",
      "Checking Pre-saved Hierarchy for BPID:  3000121833 \n",
      "======\n",
      "Related BPIDs found:  3 = ['3000121833', '8200828607', '3000176756']\n"
     ]
    },
    {
     "data": {
      "application/vnd.jupyter.widget-view+json": {
       "model_id": "31641bcf5c5d4c3692fd84da162c0400",
       "version_major": 2,
       "version_minor": 0
      },
      "text/plain": [
       "HBox(children=(FloatProgress(value=0.0, max=3.0), HTML(value='')))"
      ]
     },
     "metadata": {},
     "output_type": "display_data"
    },
    {
     "name": "stdout",
     "output_type": "stream",
     "text": [
      "===\n",
      "Extracting Nature Usage for 3000121833  -- top level= 3000121833 Site_id= 7919\n",
      "..saving..\n",
      "...mapping from 8200828607  to Site_id not found: skipping\n",
      "...mapping from 3000176756  to Site_id not found: skipping\n",
      "\n",
      "======\n",
      "Checking Pre-saved Hierarchy for BPID:  3000163017 \n",
      "======\n",
      "Related BPIDs found:  3 = ['3000163017', '3000141917', '8200828607']\n"
     ]
    },
    {
     "data": {
      "application/vnd.jupyter.widget-view+json": {
       "model_id": "08d75a32857544b3921b16365dfac6a9",
       "version_major": 2,
       "version_minor": 0
      },
      "text/plain": [
       "HBox(children=(FloatProgress(value=0.0, max=3.0), HTML(value='')))"
      ]
     },
     "metadata": {},
     "output_type": "display_data"
    },
    {
     "name": "stdout",
     "output_type": "stream",
     "text": [
      "===\n",
      "Extracting Nature Usage for 3000163017  -- top level= 3000163017 Site_id= 3835\n",
      "..saving..\n",
      "...mapping from 3000141917  to Site_id not found: skipping\n",
      "...mapping from 8200828607  to Site_id not found: skipping\n",
      "\n",
      "======\n",
      "Checking Pre-saved Hierarchy for BPID:  8200177545 \n",
      "======\n",
      "Related BPIDs found:  2 = ['8200177545', '8200828607']\n"
     ]
    },
    {
     "data": {
      "application/vnd.jupyter.widget-view+json": {
       "model_id": "95d514bfc08c46f8a2e2925f544c7be9",
       "version_major": 2,
       "version_minor": 0
      },
      "text/plain": [
       "HBox(children=(FloatProgress(value=0.0, max=2.0), HTML(value='')))"
      ]
     },
     "metadata": {},
     "output_type": "display_data"
    },
    {
     "name": "stdout",
     "output_type": "stream",
     "text": [
      "===\n",
      "Extracting Nature Usage for 8200177545  -- top level= 8200177545 Site_id= 1097\n",
      "..saving..\n",
      "...mapping from 8200828607  to Site_id not found: skipping\n",
      "\n",
      "======\n",
      "Checking Pre-saved Hierarchy for BPID:  3000145097 \n",
      "======\n",
      "Related BPIDs found:  2 = ['3000145097', '8200828607']\n"
     ]
    },
    {
     "data": {
      "application/vnd.jupyter.widget-view+json": {
       "model_id": "7708362fa39a4fe3a3a5801ba086c1cf",
       "version_major": 2,
       "version_minor": 0
      },
      "text/plain": [
       "HBox(children=(FloatProgress(value=0.0, max=2.0), HTML(value='')))"
      ]
     },
     "metadata": {},
     "output_type": "display_data"
    },
    {
     "name": "stdout",
     "output_type": "stream",
     "text": [
      "===\n",
      "Extracting Nature Usage for 3000145097  -- top level= 3000145097 Site_id= 1507\n",
      "..saving..\n",
      "...mapping from 8200828607  to Site_id not found: skipping\n",
      "\n",
      "======\n",
      "Checking Pre-saved Hierarchy for BPID:  3000210508 \n",
      "======\n",
      "Related BPIDs found:  1 = ['3000210508']\n"
     ]
    },
    {
     "data": {
      "application/vnd.jupyter.widget-view+json": {
       "model_id": "3f0da325b1284f6d9c86e1dc748ab00b",
       "version_major": 2,
       "version_minor": 0
      },
      "text/plain": [
       "HBox(children=(FloatProgress(value=0.0, max=1.0), HTML(value='')))"
      ]
     },
     "metadata": {},
     "output_type": "display_data"
    },
    {
     "name": "stdout",
     "output_type": "stream",
     "text": [
      "...mapping from 3000210508  to Site_id not found: skipping\n",
      "\n",
      "======\n",
      "Checking Pre-saved Hierarchy for BPID:  8200707989 \n",
      "======\n",
      "Related BPIDs found:  2 = ['8200707989', '8200828607']\n"
     ]
    },
    {
     "data": {
      "application/vnd.jupyter.widget-view+json": {
       "model_id": "d2b2645f158a4b23bfdb150d95df6c35",
       "version_major": 2,
       "version_minor": 0
      },
      "text/plain": [
       "HBox(children=(FloatProgress(value=0.0, max=2.0), HTML(value='')))"
      ]
     },
     "metadata": {},
     "output_type": "display_data"
    },
    {
     "name": "stdout",
     "output_type": "stream",
     "text": [
      "...mapping from 8200707989  to Site_id not found: skipping\n",
      "...mapping from 8200828607  to Site_id not found: skipping\n",
      "\n",
      "======\n",
      "Checking Pre-saved Hierarchy for BPID:  8200177774 \n",
      "======\n",
      "Related BPIDs found:  2 = ['8200177774', '8200828607']\n"
     ]
    },
    {
     "data": {
      "application/vnd.jupyter.widget-view+json": {
       "model_id": "6d95f45049344bdebc589bfcd1a10a8b",
       "version_major": 2,
       "version_minor": 0
      },
      "text/plain": [
       "HBox(children=(FloatProgress(value=0.0, max=2.0), HTML(value='')))"
      ]
     },
     "metadata": {},
     "output_type": "display_data"
    },
    {
     "name": "stdout",
     "output_type": "stream",
     "text": [
      "===\n",
      "Extracting Nature Usage for 8200177774  -- top level= 8200177774 Site_id= 1331\n",
      "..saving..\n",
      "...mapping from 8200828607  to Site_id not found: skipping\n",
      "\n",
      "======\n",
      "Checking Pre-saved Hierarchy for BPID:  8200408873 \n",
      "======\n",
      "Related BPIDs found:  2 = ['8200408873', '8200828607']\n"
     ]
    },
    {
     "data": {
      "application/vnd.jupyter.widget-view+json": {
       "model_id": "85cfc5cf6d4a433dbc0331e5c61845d3",
       "version_major": 2,
       "version_minor": 0
      },
      "text/plain": [
       "HBox(children=(FloatProgress(value=0.0, max=2.0), HTML(value='')))"
      ]
     },
     "metadata": {},
     "output_type": "display_data"
    },
    {
     "name": "stdout",
     "output_type": "stream",
     "text": [
      "===\n",
      "Extracting Nature Usage for 8200408873  -- top level= 8200408873 Site_id= 5060\n",
      "..saving..\n",
      "...mapping from 8200828607  to Site_id not found: skipping\n",
      "\n",
      "======\n",
      "Checking Pre-saved Hierarchy for BPID:  8200922455 \n",
      "======\n",
      "Related BPIDs found:  2 = ['8200922455', '8200828607']\n"
     ]
    },
    {
     "data": {
      "application/vnd.jupyter.widget-view+json": {
       "model_id": "f5d12a541aab44bbbccdfbd3c93434b0",
       "version_major": 2,
       "version_minor": 0
      },
      "text/plain": [
       "HBox(children=(FloatProgress(value=0.0, max=2.0), HTML(value='')))"
      ]
     },
     "metadata": {},
     "output_type": "display_data"
    },
    {
     "name": "stdout",
     "output_type": "stream",
     "text": [
      "===\n",
      "Extracting Nature Usage for 8200922455  -- top level= 8200922455 Site_id= 6389\n",
      "..saving..\n",
      "...mapping from 8200828607  to Site_id not found: skipping\n",
      "\n",
      "======\n",
      "Checking Pre-saved Hierarchy for BPID:  8200707409 \n",
      "======\n",
      "Related BPIDs found:  2 = ['8200707409', '8200828607']\n"
     ]
    },
    {
     "data": {
      "application/vnd.jupyter.widget-view+json": {
       "model_id": "2be2b2cce1864dcfb4536063d6ae5d55",
       "version_major": 2,
       "version_minor": 0
      },
      "text/plain": [
       "HBox(children=(FloatProgress(value=0.0, max=2.0), HTML(value='')))"
      ]
     },
     "metadata": {},
     "output_type": "display_data"
    },
    {
     "name": "stdout",
     "output_type": "stream",
     "text": [
      "===\n",
      "Extracting Nature Usage for 8200707409  -- top level= 8200707409 Site_id= 1598\n",
      "..saving..\n",
      "...mapping from 8200828607  to Site_id not found: skipping\n",
      "\n",
      "======\n",
      "Checking Pre-saved Hierarchy for BPID:  3000123139 \n",
      "======\n",
      "Related BPIDs found:  2 = ['3000123139', '8200828607']\n"
     ]
    },
    {
     "data": {
      "application/vnd.jupyter.widget-view+json": {
       "model_id": "8905a684b8dd4085846372498adf0ee7",
       "version_major": 2,
       "version_minor": 0
      },
      "text/plain": [
       "HBox(children=(FloatProgress(value=0.0, max=2.0), HTML(value='')))"
      ]
     },
     "metadata": {},
     "output_type": "display_data"
    },
    {
     "name": "stdout",
     "output_type": "stream",
     "text": [
      "===\n",
      "Extracting Nature Usage for 3000123139  -- top level= 3000123139 Site_id= 585\n",
      "..saving..\n",
      "...mapping from 8200828607  to Site_id not found: skipping\n",
      "\n",
      "======\n",
      "Checking Pre-saved Hierarchy for BPID:  8201037522 \n",
      "======\n",
      "Related BPIDs found:  2 = ['8201037522', '8200828607']\n"
     ]
    },
    {
     "data": {
      "application/vnd.jupyter.widget-view+json": {
       "model_id": "3fa71e5ce3f9427f94401ad55daf8543",
       "version_major": 2,
       "version_minor": 0
      },
      "text/plain": [
       "HBox(children=(FloatProgress(value=0.0, max=2.0), HTML(value='')))"
      ]
     },
     "metadata": {},
     "output_type": "display_data"
    },
    {
     "name": "stdout",
     "output_type": "stream",
     "text": [
      "===\n",
      "Extracting Nature Usage for 8201037522  -- top level= 8201037522 Site_id= 10339\n",
      "..saving..\n",
      "...mapping from 8200828607  to Site_id not found: skipping\n",
      "\n",
      "======\n",
      "Checking Pre-saved Hierarchy for BPID:  3000184373 \n",
      "======\n",
      "Related BPIDs found:  2 = ['3000184373', '8200828607']\n"
     ]
    },
    {
     "data": {
      "application/vnd.jupyter.widget-view+json": {
       "model_id": "2617f5cf891d408eac76069c81dfb1b5",
       "version_major": 2,
       "version_minor": 0
      },
      "text/plain": [
       "HBox(children=(FloatProgress(value=0.0, max=2.0), HTML(value='')))"
      ]
     },
     "metadata": {},
     "output_type": "display_data"
    },
    {
     "name": "stdout",
     "output_type": "stream",
     "text": [
      "===\n",
      "Extracting Nature Usage for 3000184373  -- top level= 3000184373 Site_id= 1329\n",
      "..saving..\n",
      "...mapping from 8200828607  to Site_id not found: skipping\n",
      "\n",
      "======\n",
      "Checking Pre-saved Hierarchy for BPID:  8200831638 \n",
      "======\n",
      "Related BPIDs found:  3 = ['8200831638', '3000176756', '8200828607']\n"
     ]
    },
    {
     "data": {
      "application/vnd.jupyter.widget-view+json": {
       "model_id": "28b0710deab14628950b11ecc349859b",
       "version_major": 2,
       "version_minor": 0
      },
      "text/plain": [
       "HBox(children=(FloatProgress(value=0.0, max=3.0), HTML(value='')))"
      ]
     },
     "metadata": {},
     "output_type": "display_data"
    },
    {
     "name": "stdout",
     "output_type": "stream",
     "text": [
      "===\n",
      "Extracting Nature Usage for 8200831638  -- top level= 8200831638 Site_id= 2587\n",
      "..saving..\n",
      "...mapping from 3000176756  to Site_id not found: skipping\n",
      "...mapping from 8200828607  to Site_id not found: skipping\n",
      "\n",
      "======\n",
      "Checking Pre-saved Hierarchy for BPID:  3000121840 \n",
      "======\n",
      "Related BPIDs found:  2 = ['3000121840', '8200828607']\n"
     ]
    },
    {
     "data": {
      "application/vnd.jupyter.widget-view+json": {
       "model_id": "ee9b3a89f194412890b6f1cefee02ddc",
       "version_major": 2,
       "version_minor": 0
      },
      "text/plain": [
       "HBox(children=(FloatProgress(value=0.0, max=2.0), HTML(value='')))"
      ]
     },
     "metadata": {},
     "output_type": "display_data"
    },
    {
     "name": "stdout",
     "output_type": "stream",
     "text": [
      "===\n",
      "Extracting Nature Usage for 3000121840  -- top level= 3000121840 Site_id= 994\n",
      "..saving..\n",
      "...mapping from 8200828607  to Site_id not found: skipping\n",
      "\n",
      "======\n",
      "Checking Pre-saved Hierarchy for BPID:  8200708154 \n",
      "======\n",
      "Related BPIDs found:  2 = ['8200708154', '8200828607']\n"
     ]
    },
    {
     "data": {
      "application/vnd.jupyter.widget-view+json": {
       "model_id": "871831043fd3461c8b5b82ee3c23fe52",
       "version_major": 2,
       "version_minor": 0
      },
      "text/plain": [
       "HBox(children=(FloatProgress(value=0.0, max=2.0), HTML(value='')))"
      ]
     },
     "metadata": {},
     "output_type": "display_data"
    },
    {
     "name": "stdout",
     "output_type": "stream",
     "text": [
      "===\n",
      "Extracting Nature Usage for 8200708154  -- top level= 8200708154 Site_id= 8937\n",
      "..saving..\n",
      "...mapping from 8200828607  to Site_id not found: skipping\n",
      "\n",
      "======\n",
      "Checking Pre-saved Hierarchy for BPID:  8200707539 \n",
      "======\n",
      "Related BPIDs found:  2 = ['8200707539', '8200828607']\n"
     ]
    },
    {
     "data": {
      "application/vnd.jupyter.widget-view+json": {
       "model_id": "81212054a7df43b6bbb1196514a43b18",
       "version_major": 2,
       "version_minor": 0
      },
      "text/plain": [
       "HBox(children=(FloatProgress(value=0.0, max=2.0), HTML(value='')))"
      ]
     },
     "metadata": {},
     "output_type": "display_data"
    },
    {
     "name": "stdout",
     "output_type": "stream",
     "text": [
      "===\n",
      "Extracting Nature Usage for 8200707539  -- top level= 8200707539 Site_id= 7143\n",
      "..saving..\n",
      "...mapping from 8200828607  to Site_id not found: skipping\n",
      "\n",
      "======\n",
      "Checking Pre-saved Hierarchy for BPID:  8200177967 \n",
      "======\n",
      "Related BPIDs found:  2 = ['8200177967', '8200828607']\n"
     ]
    },
    {
     "data": {
      "application/vnd.jupyter.widget-view+json": {
       "model_id": "4f765a7455704a838aaf2c608dddab9f",
       "version_major": 2,
       "version_minor": 0
      },
      "text/plain": [
       "HBox(children=(FloatProgress(value=0.0, max=2.0), HTML(value='')))"
      ]
     },
     "metadata": {},
     "output_type": "display_data"
    },
    {
     "name": "stdout",
     "output_type": "stream",
     "text": [
      "===\n",
      "Extracting Nature Usage for 8200177967  -- top level= 8200177967 Site_id= 1303\n",
      "..saving..\n",
      "...mapping from 8200828607  to Site_id not found: skipping\n",
      "\n",
      "======\n",
      "Checking Pre-saved Hierarchy for BPID:  8200724720 \n",
      "======\n",
      "Related BPIDs found:  3 = ['8200724720', '3000122248', '8200828607']\n"
     ]
    },
    {
     "data": {
      "application/vnd.jupyter.widget-view+json": {
       "model_id": "d13a3a693f144b1695522f4469fd4ee7",
       "version_major": 2,
       "version_minor": 0
      },
      "text/plain": [
       "HBox(children=(FloatProgress(value=0.0, max=3.0), HTML(value='')))"
      ]
     },
     "metadata": {},
     "output_type": "display_data"
    },
    {
     "name": "stdout",
     "output_type": "stream",
     "text": [
      "===\n",
      "Extracting Nature Usage for 8200724720  -- top level= 8200724720 Site_id= 417\n",
      "..saving..\n",
      "...mapping from 3000122248  to Site_id not found: skipping\n",
      "...mapping from 8200828607  to Site_id not found: skipping\n",
      "\n",
      "======\n",
      "Checking Pre-saved Hierarchy for BPID:  8200881174 \n",
      "======\n",
      "Related BPIDs found:  2 = ['8200881174', '8200828607']\n"
     ]
    },
    {
     "data": {
      "application/vnd.jupyter.widget-view+json": {
       "model_id": "bbd5c822e8d24db78976f49a9fda805a",
       "version_major": 2,
       "version_minor": 0
      },
      "text/plain": [
       "HBox(children=(FloatProgress(value=0.0, max=2.0), HTML(value='')))"
      ]
     },
     "metadata": {},
     "output_type": "display_data"
    },
    {
     "name": "stdout",
     "output_type": "stream",
     "text": [
      "===\n",
      "Extracting Nature Usage for 8200881174  -- top level= 8200881174 Site_id= 2601\n",
      "..saving..\n",
      "...mapping from 8200828607  to Site_id not found: skipping\n",
      "\n",
      "======\n",
      "Checking Pre-saved Hierarchy for BPID:  3000142567 \n",
      "======\n",
      "Related BPIDs found:  2 = ['3000142567', '8200828607']\n"
     ]
    },
    {
     "data": {
      "application/vnd.jupyter.widget-view+json": {
       "model_id": "012b23c8272b4c6fa7b34484bc2c9d66",
       "version_major": 2,
       "version_minor": 0
      },
      "text/plain": [
       "HBox(children=(FloatProgress(value=0.0, max=2.0), HTML(value='')))"
      ]
     },
     "metadata": {},
     "output_type": "display_data"
    },
    {
     "name": "stdout",
     "output_type": "stream",
     "text": [
      "===\n",
      "Extracting Nature Usage for 3000142567  -- top level= 3000142567 Site_id= 1558\n",
      "..saving..\n",
      "...mapping from 8200828607  to Site_id not found: skipping\n",
      "\n",
      "======\n",
      "Checking Pre-saved Hierarchy for BPID:  8200178197 \n",
      "======\n",
      "Related BPIDs found:  2 = ['8200178197', '8200828607']\n"
     ]
    },
    {
     "data": {
      "application/vnd.jupyter.widget-view+json": {
       "model_id": "4e3c35eb5f2846c3b6bbe753a99cb46d",
       "version_major": 2,
       "version_minor": 0
      },
      "text/plain": [
       "HBox(children=(FloatProgress(value=0.0, max=2.0), HTML(value='')))"
      ]
     },
     "metadata": {},
     "output_type": "display_data"
    },
    {
     "name": "stdout",
     "output_type": "stream",
     "text": [
      "===\n",
      "Extracting Nature Usage for 8200178197  -- top level= 8200178197 Site_id= 9660\n",
      "..saving..\n",
      "...mapping from 8200828607  to Site_id not found: skipping\n",
      "\n",
      "======\n",
      "Checking Pre-saved Hierarchy for BPID:  8200699471 \n",
      "======\n",
      "Related BPIDs found:  2 = ['8200699471', '8200828607']\n"
     ]
    },
    {
     "data": {
      "application/vnd.jupyter.widget-view+json": {
       "model_id": "26cc5575b7f94843896096dba10eebaf",
       "version_major": 2,
       "version_minor": 0
      },
      "text/plain": [
       "HBox(children=(FloatProgress(value=0.0, max=2.0), HTML(value='')))"
      ]
     },
     "metadata": {},
     "output_type": "display_data"
    },
    {
     "name": "stdout",
     "output_type": "stream",
     "text": [
      "===\n",
      "Extracting Nature Usage for 8200699471  -- top level= 8200699471 Site_id= 4474\n",
      "..saving..\n",
      "...mapping from 8200828607  to Site_id not found: skipping\n",
      "\n",
      "======\n",
      "Checking Pre-saved Hierarchy for BPID:  8200711893 \n",
      "======\n",
      "Related BPIDs found:  2 = ['8200711893', '8200828607']\n"
     ]
    },
    {
     "data": {
      "application/vnd.jupyter.widget-view+json": {
       "model_id": "f6598f23fbe6456699b2cda56a0604b2",
       "version_major": 2,
       "version_minor": 0
      },
      "text/plain": [
       "HBox(children=(FloatProgress(value=0.0, max=2.0), HTML(value='')))"
      ]
     },
     "metadata": {},
     "output_type": "display_data"
    },
    {
     "name": "stdout",
     "output_type": "stream",
     "text": [
      "===\n",
      "Extracting Nature Usage for 8200711893  -- top level= 8200711893 Site_id= 1566\n",
      "..saving..\n",
      "...mapping from 8200828607  to Site_id not found: skipping\n",
      "\n",
      "======\n",
      "Checking Pre-saved Hierarchy for BPID:  8200930480 \n",
      "======\n",
      "Related BPIDs found:  2 = ['8200930480', '8200828607']\n"
     ]
    },
    {
     "data": {
      "application/vnd.jupyter.widget-view+json": {
       "model_id": "685643dda7fb4a9c94c53415bd3a05f4",
       "version_major": 2,
       "version_minor": 0
      },
      "text/plain": [
       "HBox(children=(FloatProgress(value=0.0, max=2.0), HTML(value='')))"
      ]
     },
     "metadata": {},
     "output_type": "display_data"
    },
    {
     "name": "stdout",
     "output_type": "stream",
     "text": [
      "===\n",
      "Extracting Nature Usage for 8200930480  -- top level= 8200930480 Site_id= 1282\n",
      "..saving..\n",
      "...mapping from 8200828607  to Site_id not found: skipping\n",
      "\n",
      "\n",
      "**** completed ****\n",
      "Errors index = [30036927080, 3003695120, 3003343017, 3000633321, 2000341714, 8200769361]\n"
     ]
    }
   ],
   "source": [
    "source_data = BPIDS_LIST\n",
    "errors = []\n",
    "\n",
    "for b1 in progress(source_data):\n",
    "    try:\n",
    "        related = extract_related_bpids_from_local_file(b1)\n",
    "    except:\n",
    "        related = []\n",
    "        errors.append(b1)\n",
    "        print(\"++++ ERROR ++++\")\n",
    "        print(\"Errors index =\", errors)\n",
    "    # if BPIDs are found\n",
    "    for b2 in progress(related):\n",
    "        extract_usage_nature(b2, b1)\n",
    "\n",
    "print(\"**** completed ****\")\n",
    "print(\"Errors index =\", errors)"
   ]
  },
  {
   "cell_type": "code",
   "execution_count": null,
   "metadata": {
    "Collapsed": "false"
   },
   "outputs": [],
   "source": []
  }
 ],
 "metadata": {
  "kernelspec": {
   "display_name": "Python 3",
   "language": "python",
   "name": "python3"
  },
  "language_info": {
   "codemirror_mode": {
    "name": "ipython",
    "version": 3
   },
   "file_extension": ".py",
   "mimetype": "text/x-python",
   "name": "python",
   "nbconvert_exporter": "python",
   "pygments_lexer": "ipython3",
   "version": "3.8.5"
  }
 },
 "nbformat": 4,
 "nbformat_minor": 4
}
