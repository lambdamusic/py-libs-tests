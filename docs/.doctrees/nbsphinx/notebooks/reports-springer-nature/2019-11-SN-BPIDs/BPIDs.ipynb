{
 "cells": [
  {
   "cell_type": "markdown",
   "metadata": {
    "Collapsed": "false"
   },
   "source": [
    "# SN BPIDs analysis"
   ]
  },
  {
   "cell_type": "code",
   "execution_count": 104,
   "metadata": {
    "Collapsed": "false",
    "button": false,
    "collapsed": true,
    "deletable": true,
    "jupyter": {
     "outputs_hidden": true
    },
    "new_sheet": false,
    "run_control": {
     "read_only": false
    }
   },
   "outputs": [],
   "source": [
    "import pandas as pd\n",
    "import webbrowser\n",
    "from IPython.display import display, Markdown # replace calling print for rich media objects"
   ]
  },
  {
   "cell_type": "code",
   "execution_count": 10,
   "metadata": {
    "Collapsed": "false",
    "button": false,
    "collapsed": true,
    "deletable": true,
    "jupyter": {
     "outputs_hidden": true
    },
    "new_sheet": false,
    "run_control": {
     "read_only": false
    }
   },
   "outputs": [],
   "source": [
    "df = pd.read_csv(\"/Users/michele.pasin/datasets/BPIDs/20181112_bpidtogrid.csv\", sep = '^')"
   ]
  },
  {
   "cell_type": "code",
   "execution_count": 11,
   "metadata": {
    "Collapsed": "false",
    "button": false,
    "collapsed": false,
    "deletable": true,
    "jupyter": {
     "outputs_hidden": false
    },
    "new_sheet": false,
    "run_control": {
     "read_only": false
    }
   },
   "outputs": [
    {
     "data": {
      "text/html": [
       "<div>\n",
       "<style scoped>\n",
       "    .dataframe tbody tr th:only-of-type {\n",
       "        vertical-align: middle;\n",
       "    }\n",
       "\n",
       "    .dataframe tbody tr th {\n",
       "        vertical-align: top;\n",
       "    }\n",
       "\n",
       "    .dataframe thead th {\n",
       "        text-align: right;\n",
       "    }\n",
       "</style>\n",
       "<table border=\"1\" class=\"dataframe\">\n",
       "  <thead>\n",
       "    <tr style=\"text-align: right;\">\n",
       "      <th></th>\n",
       "      <th>\"Child BPID\"ME_BMBILL:0ME_BMBILL</th>\n",
       "      <th>\"Partner:Partner Type\"BP_TYPE_0180:0BP_TYPE</th>\n",
       "      <th>\"Parent BPID\"BPARTNER1:0BPARTNER1</th>\n",
       "      <th>\"Valid From\"RT_DATEF:0RT_DATEF</th>\n",
       "      <th>\"Valid To\"RT_DATEU:0RT_DATEU</th>\n",
       "    </tr>\n",
       "  </thead>\n",
       "  <tbody>\n",
       "    <tr>\n",
       "      <th>count</th>\n",
       "      <td>6.085400e+04</td>\n",
       "      <td>60854.0</td>\n",
       "      <td>6.085400e+04</td>\n",
       "      <td>6.085400e+04</td>\n",
       "      <td>6.085300e+04</td>\n",
       "    </tr>\n",
       "    <tr>\n",
       "      <th>mean</th>\n",
       "      <td>3.310156e+09</td>\n",
       "      <td>4.0</td>\n",
       "      <td>3.463378e+09</td>\n",
       "      <td>2.006630e+07</td>\n",
       "      <td>9.970138e+07</td>\n",
       "    </tr>\n",
       "    <tr>\n",
       "      <th>std</th>\n",
       "      <td>1.856980e+09</td>\n",
       "      <td>0.0</td>\n",
       "      <td>2.125961e+09</td>\n",
       "      <td>3.401648e+05</td>\n",
       "      <td>4.800966e+06</td>\n",
       "    </tr>\n",
       "    <tr>\n",
       "      <th>min</th>\n",
       "      <td>8.417132e+07</td>\n",
       "      <td>4.0</td>\n",
       "      <td>2.012051e+07</td>\n",
       "      <td>1.990010e+07</td>\n",
       "      <td>2.018011e+07</td>\n",
       "    </tr>\n",
       "    <tr>\n",
       "      <th>25%</th>\n",
       "      <td>2.000632e+09</td>\n",
       "      <td>4.0</td>\n",
       "      <td>2.000457e+09</td>\n",
       "      <td>1.990010e+07</td>\n",
       "      <td>9.999123e+07</td>\n",
       "    </tr>\n",
       "    <tr>\n",
       "      <th>50%</th>\n",
       "      <td>3.000318e+09</td>\n",
       "      <td>4.0</td>\n",
       "      <td>3.000147e+09</td>\n",
       "      <td>2.011011e+07</td>\n",
       "      <td>9.999123e+07</td>\n",
       "    </tr>\n",
       "    <tr>\n",
       "      <th>75%</th>\n",
       "      <td>3.002477e+09</td>\n",
       "      <td>4.0</td>\n",
       "      <td>3.001167e+09</td>\n",
       "      <td>2.014043e+07</td>\n",
       "      <td>9.999123e+07</td>\n",
       "    </tr>\n",
       "    <tr>\n",
       "      <th>max</th>\n",
       "      <td>9.000014e+09</td>\n",
       "      <td>4.0</td>\n",
       "      <td>8.209411e+09</td>\n",
       "      <td>9.999123e+07</td>\n",
       "      <td>9.999123e+07</td>\n",
       "    </tr>\n",
       "  </tbody>\n",
       "</table>\n",
       "</div>"
      ],
      "text/plain": [
       "       \"Child BPID\"ME_BMBILL:0ME_BMBILL  \\\n",
       "count                      6.085400e+04   \n",
       "mean                       3.310156e+09   \n",
       "std                        1.856980e+09   \n",
       "min                        8.417132e+07   \n",
       "25%                        2.000632e+09   \n",
       "50%                        3.000318e+09   \n",
       "75%                        3.002477e+09   \n",
       "max                        9.000014e+09   \n",
       "\n",
       "       \"Partner:Partner Type\"BP_TYPE_0180:0BP_TYPE  \\\n",
       "count                                      60854.0   \n",
       "mean                                           4.0   \n",
       "std                                            0.0   \n",
       "min                                            4.0   \n",
       "25%                                            4.0   \n",
       "50%                                            4.0   \n",
       "75%                                            4.0   \n",
       "max                                            4.0   \n",
       "\n",
       "       \"Parent BPID\"BPARTNER1:0BPARTNER1  \"Valid From\"RT_DATEF:0RT_DATEF  \\\n",
       "count                       6.085400e+04                    6.085400e+04   \n",
       "mean                        3.463378e+09                    2.006630e+07   \n",
       "std                         2.125961e+09                    3.401648e+05   \n",
       "min                         2.012051e+07                    1.990010e+07   \n",
       "25%                         2.000457e+09                    1.990010e+07   \n",
       "50%                         3.000147e+09                    2.011011e+07   \n",
       "75%                         3.001167e+09                    2.014043e+07   \n",
       "max                         8.209411e+09                    9.999123e+07   \n",
       "\n",
       "       \"Valid To\"RT_DATEU:0RT_DATEU  \n",
       "count                  6.085300e+04  \n",
       "mean                   9.970138e+07  \n",
       "std                    4.800966e+06  \n",
       "min                    2.018011e+07  \n",
       "25%                    9.999123e+07  \n",
       "50%                    9.999123e+07  \n",
       "75%                    9.999123e+07  \n",
       "max                    9.999123e+07  "
      ]
     },
     "execution_count": 11,
     "metadata": {},
     "output_type": "execute_result"
    }
   ],
   "source": [
    "df.describe()"
   ]
  },
  {
   "cell_type": "code",
   "execution_count": 12,
   "metadata": {
    "Collapsed": "false",
    "button": false,
    "collapsed": false,
    "deletable": true,
    "jupyter": {
     "outputs_hidden": false
    },
    "new_sheet": false,
    "run_control": {
     "read_only": false
    }
   },
   "outputs": [
    {
     "data": {
      "text/plain": [
       "Index(['\"Child BPID\"ME_BMBILL:0ME_BMBILL',\n",
       "       '\"BP: First Name\"BP_FSTNAME_0181:0BP_FSTNAME',\n",
       "       '\"BP: Surname\"BP_LSTNAME_0182:0BP_LSTNAME',\n",
       "       '\"Partner:Partner Type\"BP_TYPE_0180:0BP_TYPE',\n",
       "       '\"Country key\"COUNTRY_0187:0COUNTRY',\n",
       "       '\"BP: Org. Name 1\"NAME_ORG1_0183:0NAME_ORG1',\n",
       "       '\"BP: Org. Name 2\"NAME_ORG2_0184:0NAME_ORG2',\n",
       "       '\"BP: Org. Name 3\"NAME_ORG3_0185:0NAME_ORG3',\n",
       "       '\"BP: Org. Name 4\"NAME_ORG4_0186:0NAME_ORG4',\n",
       "       '\"Macmillan Business P\"/BIC/SMCMBPNUM:SMCMBPNUM',\n",
       "       '\"Parent BPID\"BPARTNER1:0BPARTNER1', '\"Valid From\"RT_DATEF:0RT_DATEF',\n",
       "       '\"Valid To\"RT_DATEU:0RT_DATEU'],\n",
       "      dtype='object')"
      ]
     },
     "execution_count": 12,
     "metadata": {},
     "output_type": "execute_result"
    }
   ],
   "source": [
    "df.columns"
   ]
  },
  {
   "cell_type": "code",
   "execution_count": 13,
   "metadata": {
    "Collapsed": "false",
    "button": false,
    "collapsed": false,
    "deletable": true,
    "jupyter": {
     "outputs_hidden": false
    },
    "new_sheet": false,
    "run_control": {
     "read_only": false
    }
   },
   "outputs": [
    {
     "data": {
      "text/html": [
       "<div>\n",
       "<style scoped>\n",
       "    .dataframe tbody tr th:only-of-type {\n",
       "        vertical-align: middle;\n",
       "    }\n",
       "\n",
       "    .dataframe tbody tr th {\n",
       "        vertical-align: top;\n",
       "    }\n",
       "\n",
       "    .dataframe thead th {\n",
       "        text-align: right;\n",
       "    }\n",
       "</style>\n",
       "<table border=\"1\" class=\"dataframe\">\n",
       "  <thead>\n",
       "    <tr style=\"text-align: right;\">\n",
       "      <th></th>\n",
       "      <th>\"Child BPID\"ME_BMBILL:0ME_BMBILL</th>\n",
       "      <th>\"BP: First Name\"BP_FSTNAME_0181:0BP_FSTNAME</th>\n",
       "      <th>\"BP: Surname\"BP_LSTNAME_0182:0BP_LSTNAME</th>\n",
       "      <th>\"Partner:Partner Type\"BP_TYPE_0180:0BP_TYPE</th>\n",
       "      <th>\"Country key\"COUNTRY_0187:0COUNTRY</th>\n",
       "      <th>\"BP: Org. Name 1\"NAME_ORG1_0183:0NAME_ORG1</th>\n",
       "      <th>\"BP: Org. Name 2\"NAME_ORG2_0184:0NAME_ORG2</th>\n",
       "      <th>\"BP: Org. Name 3\"NAME_ORG3_0185:0NAME_ORG3</th>\n",
       "      <th>\"BP: Org. Name 4\"NAME_ORG4_0186:0NAME_ORG4</th>\n",
       "      <th>\"Macmillan Business P\"/BIC/SMCMBPNUM:SMCMBPNUM</th>\n",
       "      <th>\"Parent BPID\"BPARTNER1:0BPARTNER1</th>\n",
       "      <th>\"Valid From\"RT_DATEF:0RT_DATEF</th>\n",
       "      <th>\"Valid To\"RT_DATEU:0RT_DATEU</th>\n",
       "    </tr>\n",
       "  </thead>\n",
       "  <tbody>\n",
       "    <tr>\n",
       "      <th>0</th>\n",
       "      <td>1000157932</td>\n",
       "      <td>NaN</td>\n",
       "      <td>NaN</td>\n",
       "      <td>4</td>\n",
       "      <td>DE</td>\n",
       "      <td>Forschungszentrum Jülich GmbH</td>\n",
       "      <td>Zentralbibliothek</td>\n",
       "      <td>Frau Specht</td>\n",
       "      <td>NaN</td>\n",
       "      <td>GRID.8385.6</td>\n",
       "      <td>2000420541</td>\n",
       "      <td>19900101</td>\n",
       "      <td>99991231.0</td>\n",
       "    </tr>\n",
       "    <tr>\n",
       "      <th>1</th>\n",
       "      <td>1000194767</td>\n",
       "      <td>NaN</td>\n",
       "      <td>NaN</td>\n",
       "      <td>4</td>\n",
       "      <td>DE</td>\n",
       "      <td>Research Center Borstel</td>\n",
       "      <td>Leibniz-Center</td>\n",
       "      <td>for Medicine and Biosciences</td>\n",
       "      <td>NaN</td>\n",
       "      <td>GRID.418187.3</td>\n",
       "      <td>3000137278</td>\n",
       "      <td>20100208</td>\n",
       "      <td>99991231.0</td>\n",
       "    </tr>\n",
       "    <tr>\n",
       "      <th>2</th>\n",
       "      <td>1000194767</td>\n",
       "      <td>NaN</td>\n",
       "      <td>NaN</td>\n",
       "      <td>4</td>\n",
       "      <td>DE</td>\n",
       "      <td>Research Center Borstel</td>\n",
       "      <td>Leibniz-Center</td>\n",
       "      <td>for Medicine and Biosciences</td>\n",
       "      <td>NaN</td>\n",
       "      <td>GRID.418187.3</td>\n",
       "      <td>3000137282</td>\n",
       "      <td>20100205</td>\n",
       "      <td>99991231.0</td>\n",
       "    </tr>\n",
       "    <tr>\n",
       "      <th>3</th>\n",
       "      <td>1000194767</td>\n",
       "      <td>NaN</td>\n",
       "      <td>NaN</td>\n",
       "      <td>4</td>\n",
       "      <td>DE</td>\n",
       "      <td>Research Center Borstel</td>\n",
       "      <td>Leibniz-Center</td>\n",
       "      <td>for Medicine and Biosciences</td>\n",
       "      <td>NaN</td>\n",
       "      <td>GRID.418187.3</td>\n",
       "      <td>3000205744</td>\n",
       "      <td>20141205</td>\n",
       "      <td>99991231.0</td>\n",
       "    </tr>\n",
       "    <tr>\n",
       "      <th>4</th>\n",
       "      <td>1000194767</td>\n",
       "      <td>NaN</td>\n",
       "      <td>NaN</td>\n",
       "      <td>4</td>\n",
       "      <td>DE</td>\n",
       "      <td>Research Center Borstel</td>\n",
       "      <td>Leibniz-Center</td>\n",
       "      <td>for Medicine and Biosciences</td>\n",
       "      <td>NaN</td>\n",
       "      <td>GRID.418187.3</td>\n",
       "      <td>3000262825</td>\n",
       "      <td>20110202</td>\n",
       "      <td>99991231.0</td>\n",
       "    </tr>\n",
       "  </tbody>\n",
       "</table>\n",
       "</div>"
      ],
      "text/plain": [
       "   \"Child BPID\"ME_BMBILL:0ME_BMBILL  \\\n",
       "0                        1000157932   \n",
       "1                        1000194767   \n",
       "2                        1000194767   \n",
       "3                        1000194767   \n",
       "4                        1000194767   \n",
       "\n",
       "  \"BP: First Name\"BP_FSTNAME_0181:0BP_FSTNAME  \\\n",
       "0                                         NaN   \n",
       "1                                         NaN   \n",
       "2                                         NaN   \n",
       "3                                         NaN   \n",
       "4                                         NaN   \n",
       "\n",
       "  \"BP: Surname\"BP_LSTNAME_0182:0BP_LSTNAME  \\\n",
       "0                                      NaN   \n",
       "1                                      NaN   \n",
       "2                                      NaN   \n",
       "3                                      NaN   \n",
       "4                                      NaN   \n",
       "\n",
       "   \"Partner:Partner Type\"BP_TYPE_0180:0BP_TYPE  \\\n",
       "0                                            4   \n",
       "1                                            4   \n",
       "2                                            4   \n",
       "3                                            4   \n",
       "4                                            4   \n",
       "\n",
       "  \"Country key\"COUNTRY_0187:0COUNTRY  \\\n",
       "0                                 DE   \n",
       "1                                 DE   \n",
       "2                                 DE   \n",
       "3                                 DE   \n",
       "4                                 DE   \n",
       "\n",
       "  \"BP: Org. Name 1\"NAME_ORG1_0183:0NAME_ORG1  \\\n",
       "0              Forschungszentrum Jülich GmbH   \n",
       "1                    Research Center Borstel   \n",
       "2                    Research Center Borstel   \n",
       "3                    Research Center Borstel   \n",
       "4                    Research Center Borstel   \n",
       "\n",
       "  \"BP: Org. Name 2\"NAME_ORG2_0184:0NAME_ORG2  \\\n",
       "0                          Zentralbibliothek   \n",
       "1                             Leibniz-Center   \n",
       "2                             Leibniz-Center   \n",
       "3                             Leibniz-Center   \n",
       "4                             Leibniz-Center   \n",
       "\n",
       "  \"BP: Org. Name 3\"NAME_ORG3_0185:0NAME_ORG3  \\\n",
       "0                                Frau Specht   \n",
       "1               for Medicine and Biosciences   \n",
       "2               for Medicine and Biosciences   \n",
       "3               for Medicine and Biosciences   \n",
       "4               for Medicine and Biosciences   \n",
       "\n",
       "  \"BP: Org. Name 4\"NAME_ORG4_0186:0NAME_ORG4  \\\n",
       "0                                        NaN   \n",
       "1                                        NaN   \n",
       "2                                        NaN   \n",
       "3                                        NaN   \n",
       "4                                        NaN   \n",
       "\n",
       "  \"Macmillan Business P\"/BIC/SMCMBPNUM:SMCMBPNUM  \\\n",
       "0                                    GRID.8385.6   \n",
       "1                                  GRID.418187.3   \n",
       "2                                  GRID.418187.3   \n",
       "3                                  GRID.418187.3   \n",
       "4                                  GRID.418187.3   \n",
       "\n",
       "   \"Parent BPID\"BPARTNER1:0BPARTNER1  \"Valid From\"RT_DATEF:0RT_DATEF  \\\n",
       "0                         2000420541                        19900101   \n",
       "1                         3000137278                        20100208   \n",
       "2                         3000137282                        20100205   \n",
       "3                         3000205744                        20141205   \n",
       "4                         3000262825                        20110202   \n",
       "\n",
       "   \"Valid To\"RT_DATEU:0RT_DATEU  \n",
       "0                    99991231.0  \n",
       "1                    99991231.0  \n",
       "2                    99991231.0  \n",
       "3                    99991231.0  \n",
       "4                    99991231.0  "
      ]
     },
     "execution_count": 13,
     "metadata": {},
     "output_type": "execute_result"
    }
   ],
   "source": [
    "df.head()\n"
   ]
  },
  {
   "cell_type": "markdown",
   "metadata": {
    "Collapsed": "false",
    "button": false,
    "deletable": true,
    "new_sheet": false,
    "run_control": {
     "read_only": false
    }
   },
   "source": [
    "#### Rename the columns for improved readability"
   ]
  },
  {
   "cell_type": "code",
   "execution_count": 14,
   "metadata": {
    "Collapsed": "false",
    "button": false,
    "collapsed": true,
    "deletable": true,
    "jupyter": {
     "outputs_hidden": true
    },
    "new_sheet": false,
    "run_control": {
     "read_only": false
    }
   },
   "outputs": [],
   "source": [
    "df.columns = ['BPID', 'Name', 'Surname', 'Type', 'Country', 'Org1', 'Org2', 'Org3', 'Org4', 'GRID', 'Parent', 'ValidFrom', 'ValidTo']"
   ]
  },
  {
   "cell_type": "code",
   "execution_count": 15,
   "metadata": {
    "Collapsed": "false",
    "button": false,
    "collapsed": false,
    "deletable": true,
    "jupyter": {
     "outputs_hidden": false
    },
    "new_sheet": false,
    "run_control": {
     "read_only": false
    }
   },
   "outputs": [
    {
     "data": {
      "text/html": [
       "<div>\n",
       "<style scoped>\n",
       "    .dataframe tbody tr th:only-of-type {\n",
       "        vertical-align: middle;\n",
       "    }\n",
       "\n",
       "    .dataframe tbody tr th {\n",
       "        vertical-align: top;\n",
       "    }\n",
       "\n",
       "    .dataframe thead th {\n",
       "        text-align: right;\n",
       "    }\n",
       "</style>\n",
       "<table border=\"1\" class=\"dataframe\">\n",
       "  <thead>\n",
       "    <tr style=\"text-align: right;\">\n",
       "      <th></th>\n",
       "      <th>BPID</th>\n",
       "      <th>Name</th>\n",
       "      <th>Surname</th>\n",
       "      <th>Type</th>\n",
       "      <th>Country</th>\n",
       "      <th>Org1</th>\n",
       "      <th>Org2</th>\n",
       "      <th>Org3</th>\n",
       "      <th>Org4</th>\n",
       "      <th>GRID</th>\n",
       "      <th>Parent</th>\n",
       "      <th>ValidFrom</th>\n",
       "      <th>ValidTo</th>\n",
       "    </tr>\n",
       "  </thead>\n",
       "  <tbody>\n",
       "    <tr>\n",
       "      <th>0</th>\n",
       "      <td>1000157932</td>\n",
       "      <td>NaN</td>\n",
       "      <td>NaN</td>\n",
       "      <td>4</td>\n",
       "      <td>DE</td>\n",
       "      <td>Forschungszentrum Jülich GmbH</td>\n",
       "      <td>Zentralbibliothek</td>\n",
       "      <td>Frau Specht</td>\n",
       "      <td>NaN</td>\n",
       "      <td>GRID.8385.6</td>\n",
       "      <td>2000420541</td>\n",
       "      <td>19900101</td>\n",
       "      <td>99991231.0</td>\n",
       "    </tr>\n",
       "    <tr>\n",
       "      <th>1</th>\n",
       "      <td>1000194767</td>\n",
       "      <td>NaN</td>\n",
       "      <td>NaN</td>\n",
       "      <td>4</td>\n",
       "      <td>DE</td>\n",
       "      <td>Research Center Borstel</td>\n",
       "      <td>Leibniz-Center</td>\n",
       "      <td>for Medicine and Biosciences</td>\n",
       "      <td>NaN</td>\n",
       "      <td>GRID.418187.3</td>\n",
       "      <td>3000137278</td>\n",
       "      <td>20100208</td>\n",
       "      <td>99991231.0</td>\n",
       "    </tr>\n",
       "    <tr>\n",
       "      <th>2</th>\n",
       "      <td>1000194767</td>\n",
       "      <td>NaN</td>\n",
       "      <td>NaN</td>\n",
       "      <td>4</td>\n",
       "      <td>DE</td>\n",
       "      <td>Research Center Borstel</td>\n",
       "      <td>Leibniz-Center</td>\n",
       "      <td>for Medicine and Biosciences</td>\n",
       "      <td>NaN</td>\n",
       "      <td>GRID.418187.3</td>\n",
       "      <td>3000137282</td>\n",
       "      <td>20100205</td>\n",
       "      <td>99991231.0</td>\n",
       "    </tr>\n",
       "    <tr>\n",
       "      <th>3</th>\n",
       "      <td>1000194767</td>\n",
       "      <td>NaN</td>\n",
       "      <td>NaN</td>\n",
       "      <td>4</td>\n",
       "      <td>DE</td>\n",
       "      <td>Research Center Borstel</td>\n",
       "      <td>Leibniz-Center</td>\n",
       "      <td>for Medicine and Biosciences</td>\n",
       "      <td>NaN</td>\n",
       "      <td>GRID.418187.3</td>\n",
       "      <td>3000205744</td>\n",
       "      <td>20141205</td>\n",
       "      <td>99991231.0</td>\n",
       "    </tr>\n",
       "    <tr>\n",
       "      <th>4</th>\n",
       "      <td>1000194767</td>\n",
       "      <td>NaN</td>\n",
       "      <td>NaN</td>\n",
       "      <td>4</td>\n",
       "      <td>DE</td>\n",
       "      <td>Research Center Borstel</td>\n",
       "      <td>Leibniz-Center</td>\n",
       "      <td>for Medicine and Biosciences</td>\n",
       "      <td>NaN</td>\n",
       "      <td>GRID.418187.3</td>\n",
       "      <td>3000262825</td>\n",
       "      <td>20110202</td>\n",
       "      <td>99991231.0</td>\n",
       "    </tr>\n",
       "  </tbody>\n",
       "</table>\n",
       "</div>"
      ],
      "text/plain": [
       "         BPID Name Surname  Type Country                           Org1  \\\n",
       "0  1000157932  NaN     NaN     4      DE  Forschungszentrum Jülich GmbH   \n",
       "1  1000194767  NaN     NaN     4      DE        Research Center Borstel   \n",
       "2  1000194767  NaN     NaN     4      DE        Research Center Borstel   \n",
       "3  1000194767  NaN     NaN     4      DE        Research Center Borstel   \n",
       "4  1000194767  NaN     NaN     4      DE        Research Center Borstel   \n",
       "\n",
       "                Org2                          Org3 Org4           GRID  \\\n",
       "0  Zentralbibliothek                   Frau Specht  NaN    GRID.8385.6   \n",
       "1     Leibniz-Center  for Medicine and Biosciences  NaN  GRID.418187.3   \n",
       "2     Leibniz-Center  for Medicine and Biosciences  NaN  GRID.418187.3   \n",
       "3     Leibniz-Center  for Medicine and Biosciences  NaN  GRID.418187.3   \n",
       "4     Leibniz-Center  for Medicine and Biosciences  NaN  GRID.418187.3   \n",
       "\n",
       "       Parent  ValidFrom     ValidTo  \n",
       "0  2000420541   19900101  99991231.0  \n",
       "1  3000137278   20100208  99991231.0  \n",
       "2  3000137282   20100205  99991231.0  \n",
       "3  3000205744   20141205  99991231.0  \n",
       "4  3000262825   20110202  99991231.0  "
      ]
     },
     "execution_count": 15,
     "metadata": {},
     "output_type": "execute_result"
    }
   ],
   "source": [
    "df.head()\n"
   ]
  },
  {
   "cell_type": "code",
   "execution_count": 17,
   "metadata": {
    "Collapsed": "false",
    "button": false,
    "collapsed": false,
    "deletable": true,
    "jupyter": {
     "outputs_hidden": false
    },
    "new_sheet": false,
    "run_control": {
     "read_only": false
    }
   },
   "outputs": [
    {
     "data": {
      "text/plain": [
       "False"
      ]
     },
     "execution_count": 17,
     "metadata": {},
     "output_type": "execute_result"
    }
   ],
   "source": [
    "df['BPID'].is_unique"
   ]
  },
  {
   "cell_type": "markdown",
   "metadata": {
    "Collapsed": "false",
    "button": false,
    "deletable": true,
    "new_sheet": false,
    "run_control": {
     "read_only": false
    }
   },
   "source": [
    "The loc method allows to get a row by its main identifier. "
   ]
  },
  {
   "cell_type": "code",
   "execution_count": 18,
   "metadata": {
    "Collapsed": "false",
    "button": false,
    "collapsed": false,
    "deletable": true,
    "jupyter": {
     "outputs_hidden": false
    },
    "new_sheet": false,
    "run_control": {
     "read_only": false
    }
   },
   "outputs": [
    {
     "data": {
      "text/plain": [
       "BPID                           1000194767\n",
       "Name                                  NaN\n",
       "Surname                               NaN\n",
       "Type                                    4\n",
       "Country                                DE\n",
       "Org1              Research Center Borstel\n",
       "Org2                       Leibniz-Center\n",
       "Org3         for Medicine and Biosciences\n",
       "Org4                                  NaN\n",
       "GRID                        GRID.418187.3\n",
       "Parent                         3000137278\n",
       "ValidFrom                        20100208\n",
       "ValidTo                       9.99912e+07\n",
       "Name: 1, dtype: object"
      ]
     },
     "execution_count": 18,
     "metadata": {},
     "output_type": "execute_result"
    }
   ],
   "source": [
    "df.loc[1]"
   ]
  },
  {
   "cell_type": "code",
   "execution_count": 24,
   "metadata": {
    "Collapsed": "false",
    "button": false,
    "collapsed": false,
    "deletable": true,
    "jupyter": {
     "outputs_hidden": false
    },
    "new_sheet": false,
    "run_control": {
     "read_only": false
    }
   },
   "outputs": [
    {
     "name": "stdout",
     "output_type": "stream",
     "text": [
      "60854 60851 60854\n"
     ]
    }
   ],
   "source": [
    "print(df.BPID.count(), df.Country.count(), df.Parent.count())"
   ]
  },
  {
   "cell_type": "code",
   "execution_count": 25,
   "metadata": {
    "Collapsed": "false",
    "button": false,
    "collapsed": false,
    "deletable": true,
    "jupyter": {
     "outputs_hidden": false
    },
    "new_sheet": false,
    "run_control": {
     "read_only": false
    }
   },
   "outputs": [
    {
     "data": {
      "text/plain": [
       "array(['DE', 'PT', 'IT', 'KR', 'BE', 'AT', 'ET', 'GB', 'PL', 'TH', 'ES',\n",
       "       'SI', 'NL', 'CH', 'JP', 'LT', 'TW', 'BN', 'ZA', 'FR', 'IN', 'SE',\n",
       "       'DK', 'HK', 'FI', 'HU', 'AU', 'NO', 'TR', 'PH', 'EG', 'US', 'RU',\n",
       "       'NZ', 'RS', 'SG', 'BR', 'AR', 'UG', 'IL', 'BD', 'IE', 'MY', 'GR',\n",
       "       'IR', 'CY', 'CZ', 'RO', 'LU', 'PK', 'MX', 'HR', 'BG', 'IS', 'EE',\n",
       "       'KE', 'CN', 'CA', 'MT', 'SK', 'LI', 'JO', 'VN', 'KW', 'BW', 'SZ',\n",
       "       'QA', 'LB', 'FJ', 'AE', 'LK', 'SA', 'ID', 'CL', 'PS', nan, 'MU',\n",
       "       'MO', 'LS', 'TN', 'OM', 'NP', 'MA', 'DZ', 'VE', 'BB', 'BH', 'TZ',\n",
       "       'ZM', 'ZW', 'PR', 'PE', 'CO', 'JM', 'KZ', 'KN', 'TT', 'GH', 'CR',\n",
       "       'LV', 'PG', 'RW', 'NG', 'SY', 'UA', 'MW', 'CW', 'UY', 'BY', 'TG',\n",
       "       'EC', 'MD', 'SD', 'LY', 'TM', 'KG', 'PA', 'BO', 'AZ', 'HN', 'TJ',\n",
       "       'UZ', 'NI', 'GE', 'MZ', 'CU', 'GP', 'ME', 'AM', 'BA', 'YE', 'NC',\n",
       "       'MN', 'AO', 'VI', 'GM', 'BF', 'CI', 'TD', 'GN', 'SO', 'SR', 'DO',\n",
       "       'PF', 'CV', 'CG', 'SV', 'AS', 'MG', 'GU', 'GD', 'CD', 'ER', 'HT',\n",
       "       'RE'], dtype=object)"
      ]
     },
     "execution_count": 25,
     "metadata": {},
     "output_type": "execute_result"
    }
   ],
   "source": [
    "df.Country.unique()"
   ]
  },
  {
   "cell_type": "markdown",
   "metadata": {
    "Collapsed": "false",
    "button": false,
    "deletable": true,
    "new_sheet": false,
    "run_control": {
     "read_only": false
    }
   },
   "source": [
    "To see how many unique values in a column, use Series.nunique:"
   ]
  },
  {
   "cell_type": "code",
   "execution_count": 29,
   "metadata": {
    "Collapsed": "false",
    "button": false,
    "collapsed": false,
    "deletable": true,
    "jupyter": {
     "outputs_hidden": false
    },
    "new_sheet": false,
    "run_control": {
     "read_only": false
    }
   },
   "outputs": [
    {
     "data": {
      "text/plain": [
       "154"
      ]
     },
     "execution_count": 29,
     "metadata": {},
     "output_type": "execute_result"
    }
   ],
   "source": [
    "df.Country.nunique()"
   ]
  },
  {
   "cell_type": "markdown",
   "metadata": {
    "Collapsed": "false",
    "button": false,
    "deletable": true,
    "new_sheet": false,
    "run_control": {
     "read_only": false
    }
   },
   "source": [
    "to count distinct values in single column, you can use Series.value_counts:"
   ]
  },
  {
   "cell_type": "code",
   "execution_count": 35,
   "metadata": {
    "Collapsed": "false",
    "button": false,
    "collapsed": false,
    "deletable": true,
    "jupyter": {
     "outputs_hidden": false
    },
    "new_sheet": false,
    "run_control": {
     "read_only": false
    }
   },
   "outputs": [
    {
     "data": {
      "text/plain": [
       "US    12535\n",
       "DE     9912\n",
       "GB     3892\n",
       "JP     3845\n",
       "CN     3302\n",
       "IT     2297\n",
       "FR     2103\n",
       "IN     1634\n",
       "TW     1505\n",
       "NL     1484\n",
       "KR     1421\n",
       "ES     1290\n",
       "CH     1128\n",
       "CA     1111\n",
       "AU     1094\n",
       "AT      937\n",
       "SE      812\n",
       "TR      670\n",
       "BE      618\n",
       "BR      504\n",
       "MX      463\n",
       "RU      438\n",
       "NO      427\n",
       "TH      421\n",
       "PL      418\n",
       "ZA      329\n",
       "FI      326\n",
       "MY      287\n",
       "DK      285\n",
       "PT      283\n",
       "      ...  \n",
       "TJ        3\n",
       "MG        3\n",
       "LI        3\n",
       "YE        3\n",
       "SD        2\n",
       "TG        2\n",
       "PG        2\n",
       "CG        2\n",
       "GP        2\n",
       "LY        2\n",
       "LS        1\n",
       "GD        1\n",
       "CD        1\n",
       "CV        1\n",
       "RE        1\n",
       "AO        1\n",
       "SO        1\n",
       "DO        1\n",
       "GM        1\n",
       "PF        1\n",
       "KN        1\n",
       "TM        1\n",
       "BF        1\n",
       "TD        1\n",
       "ME        1\n",
       "GN        1\n",
       "HT        1\n",
       "VI        1\n",
       "AS        1\n",
       "ER        1\n",
       "Name: Country, Length: 154, dtype: int64"
      ]
     },
     "execution_count": 35,
     "metadata": {},
     "output_type": "execute_result"
    }
   ],
   "source": [
    "df.Country.value_counts()"
   ]
  },
  {
   "cell_type": "code",
   "execution_count": 40,
   "metadata": {
    "Collapsed": "false",
    "button": false,
    "collapsed": false,
    "deletable": true,
    "jupyter": {
     "outputs_hidden": false
    },
    "new_sheet": false,
    "run_control": {
     "read_only": false
    }
   },
   "outputs": [
    {
     "data": {
      "text/plain": [
       "2000671164    21\n",
       "2000317212    18\n",
       "2000329723    16\n",
       "2000363739    16\n",
       "2000443671    16\n",
       "3000092728    16\n",
       "2000459507    16\n",
       "3000092507    16\n",
       "1000895102    15\n",
       "1000835702    15\n",
       "2000261790    15\n",
       "3000169362    15\n",
       "1000835615    15\n",
       "2000280714    15\n",
       "3000092453    15\n",
       "2000428449    15\n",
       "1000835666    14\n",
       "1000835717    14\n",
       "2000518321    14\n",
       "2000162433    14\n",
       "3002737458    14\n",
       "3000120355    13\n",
       "2000359082    13\n",
       "2000575695    13\n",
       "2000352531    13\n",
       "2000004960    13\n",
       "1000835613    13\n",
       "2000354463    13\n",
       "2000297136    13\n",
       "2000423744    13\n",
       "              ..\n",
       "3000162929     1\n",
       "2000343664     1\n",
       "2000542165     1\n",
       "3001049702     1\n",
       "8200538723     1\n",
       "2000312993     1\n",
       "3002360486     1\n",
       "3000239984     1\n",
       "3000199879     1\n",
       "2000138972     1\n",
       "3000077019     1\n",
       "3000074970     1\n",
       "3000605401     1\n",
       "3002804943     1\n",
       "8200725198     1\n",
       "3001891533     1\n",
       "3002796747     1\n",
       "3993699018     1\n",
       "3000060611     1\n",
       "3002348204     1\n",
       "3002817217     1\n",
       "2000507584     1\n",
       "8200699504     1\n",
       "2000540642     1\n",
       "3000273595     1\n",
       "2000329401     1\n",
       "4520075958     1\n",
       "3000160944     1\n",
       "3002475182     1\n",
       "2000551936     1\n",
       "Name: BPID, Length: 51610, dtype: int64"
      ]
     },
     "execution_count": 40,
     "metadata": {},
     "output_type": "execute_result"
    }
   ],
   "source": [
    "df.BPID.value_counts()"
   ]
  },
  {
   "cell_type": "markdown",
   "metadata": {
    "Collapsed": "false",
    "button": false,
    "deletable": true,
    "new_sheet": false,
    "run_control": {
     "read_only": false
    }
   },
   "source": [
    "Find out more about BPID 2000671164 which seems to come up a lot of times! It actually turns out that this guy has a lot of parents!"
   ]
  },
  {
   "cell_type": "code",
   "execution_count": 41,
   "metadata": {
    "Collapsed": "false",
    "button": false,
    "collapsed": false,
    "deletable": true,
    "jupyter": {
     "outputs_hidden": false
    },
    "new_sheet": false,
    "run_control": {
     "read_only": false
    }
   },
   "outputs": [
    {
     "data": {
      "text/html": [
       "<div>\n",
       "<style scoped>\n",
       "    .dataframe tbody tr th:only-of-type {\n",
       "        vertical-align: middle;\n",
       "    }\n",
       "\n",
       "    .dataframe tbody tr th {\n",
       "        vertical-align: top;\n",
       "    }\n",
       "\n",
       "    .dataframe thead th {\n",
       "        text-align: right;\n",
       "    }\n",
       "</style>\n",
       "<table border=\"1\" class=\"dataframe\">\n",
       "  <thead>\n",
       "    <tr style=\"text-align: right;\">\n",
       "      <th></th>\n",
       "      <th>BPID</th>\n",
       "      <th>Name</th>\n",
       "      <th>Surname</th>\n",
       "      <th>Type</th>\n",
       "      <th>Country</th>\n",
       "      <th>Org1</th>\n",
       "      <th>Org2</th>\n",
       "      <th>Org3</th>\n",
       "      <th>Org4</th>\n",
       "      <th>GRID</th>\n",
       "      <th>Parent</th>\n",
       "      <th>ValidFrom</th>\n",
       "      <th>ValidTo</th>\n",
       "    </tr>\n",
       "  </thead>\n",
       "  <tbody>\n",
       "    <tr>\n",
       "      <th>19523</th>\n",
       "      <td>2000671164</td>\n",
       "      <td>NaN</td>\n",
       "      <td>NaN</td>\n",
       "      <td>4</td>\n",
       "      <td>TH</td>\n",
       "      <td>Mahidol University</td>\n",
       "      <td>NaN</td>\n",
       "      <td>NaN</td>\n",
       "      <td>NaN</td>\n",
       "      <td>GRID.10223.32</td>\n",
       "      <td>3000122015</td>\n",
       "      <td>20100913</td>\n",
       "      <td>99991231.0</td>\n",
       "    </tr>\n",
       "    <tr>\n",
       "      <th>19524</th>\n",
       "      <td>2000671164</td>\n",
       "      <td>NaN</td>\n",
       "      <td>NaN</td>\n",
       "      <td>4</td>\n",
       "      <td>TH</td>\n",
       "      <td>Mahidol University</td>\n",
       "      <td>NaN</td>\n",
       "      <td>NaN</td>\n",
       "      <td>NaN</td>\n",
       "      <td>GRID.10223.32</td>\n",
       "      <td>3000122113</td>\n",
       "      <td>20100330</td>\n",
       "      <td>99991231.0</td>\n",
       "    </tr>\n",
       "    <tr>\n",
       "      <th>19525</th>\n",
       "      <td>2000671164</td>\n",
       "      <td>NaN</td>\n",
       "      <td>NaN</td>\n",
       "      <td>4</td>\n",
       "      <td>TH</td>\n",
       "      <td>Mahidol University</td>\n",
       "      <td>NaN</td>\n",
       "      <td>NaN</td>\n",
       "      <td>NaN</td>\n",
       "      <td>GRID.10223.32</td>\n",
       "      <td>3000130811</td>\n",
       "      <td>20100913</td>\n",
       "      <td>99991231.0</td>\n",
       "    </tr>\n",
       "    <tr>\n",
       "      <th>19526</th>\n",
       "      <td>2000671164</td>\n",
       "      <td>NaN</td>\n",
       "      <td>NaN</td>\n",
       "      <td>4</td>\n",
       "      <td>TH</td>\n",
       "      <td>Mahidol University</td>\n",
       "      <td>NaN</td>\n",
       "      <td>NaN</td>\n",
       "      <td>NaN</td>\n",
       "      <td>GRID.10223.32</td>\n",
       "      <td>3000185077</td>\n",
       "      <td>20110318</td>\n",
       "      <td>99991231.0</td>\n",
       "    </tr>\n",
       "    <tr>\n",
       "      <th>19527</th>\n",
       "      <td>2000671164</td>\n",
       "      <td>NaN</td>\n",
       "      <td>NaN</td>\n",
       "      <td>4</td>\n",
       "      <td>TH</td>\n",
       "      <td>Mahidol University</td>\n",
       "      <td>NaN</td>\n",
       "      <td>NaN</td>\n",
       "      <td>NaN</td>\n",
       "      <td>GRID.10223.32</td>\n",
       "      <td>3000208665</td>\n",
       "      <td>20100819</td>\n",
       "      <td>99991231.0</td>\n",
       "    </tr>\n",
       "    <tr>\n",
       "      <th>19528</th>\n",
       "      <td>2000671164</td>\n",
       "      <td>NaN</td>\n",
       "      <td>NaN</td>\n",
       "      <td>4</td>\n",
       "      <td>TH</td>\n",
       "      <td>Mahidol University</td>\n",
       "      <td>NaN</td>\n",
       "      <td>NaN</td>\n",
       "      <td>NaN</td>\n",
       "      <td>GRID.10223.32</td>\n",
       "      <td>3000241235</td>\n",
       "      <td>20110323</td>\n",
       "      <td>99991231.0</td>\n",
       "    </tr>\n",
       "    <tr>\n",
       "      <th>19529</th>\n",
       "      <td>2000671164</td>\n",
       "      <td>NaN</td>\n",
       "      <td>NaN</td>\n",
       "      <td>4</td>\n",
       "      <td>TH</td>\n",
       "      <td>Mahidol University</td>\n",
       "      <td>NaN</td>\n",
       "      <td>NaN</td>\n",
       "      <td>NaN</td>\n",
       "      <td>GRID.10223.32</td>\n",
       "      <td>3000481104</td>\n",
       "      <td>20110307</td>\n",
       "      <td>99991231.0</td>\n",
       "    </tr>\n",
       "    <tr>\n",
       "      <th>19530</th>\n",
       "      <td>2000671164</td>\n",
       "      <td>NaN</td>\n",
       "      <td>NaN</td>\n",
       "      <td>4</td>\n",
       "      <td>TH</td>\n",
       "      <td>Mahidol University</td>\n",
       "      <td>NaN</td>\n",
       "      <td>NaN</td>\n",
       "      <td>NaN</td>\n",
       "      <td>GRID.10223.32</td>\n",
       "      <td>3000507700</td>\n",
       "      <td>20110323</td>\n",
       "      <td>99991231.0</td>\n",
       "    </tr>\n",
       "    <tr>\n",
       "      <th>19531</th>\n",
       "      <td>2000671164</td>\n",
       "      <td>NaN</td>\n",
       "      <td>NaN</td>\n",
       "      <td>4</td>\n",
       "      <td>TH</td>\n",
       "      <td>Mahidol University</td>\n",
       "      <td>NaN</td>\n",
       "      <td>NaN</td>\n",
       "      <td>NaN</td>\n",
       "      <td>GRID.10223.32</td>\n",
       "      <td>3000520017</td>\n",
       "      <td>20110413</td>\n",
       "      <td>99991231.0</td>\n",
       "    </tr>\n",
       "    <tr>\n",
       "      <th>19532</th>\n",
       "      <td>2000671164</td>\n",
       "      <td>NaN</td>\n",
       "      <td>NaN</td>\n",
       "      <td>4</td>\n",
       "      <td>TH</td>\n",
       "      <td>Mahidol University</td>\n",
       "      <td>NaN</td>\n",
       "      <td>NaN</td>\n",
       "      <td>NaN</td>\n",
       "      <td>GRID.10223.32</td>\n",
       "      <td>3000653560</td>\n",
       "      <td>20111006</td>\n",
       "      <td>99991231.0</td>\n",
       "    </tr>\n",
       "    <tr>\n",
       "      <th>19533</th>\n",
       "      <td>2000671164</td>\n",
       "      <td>NaN</td>\n",
       "      <td>NaN</td>\n",
       "      <td>4</td>\n",
       "      <td>TH</td>\n",
       "      <td>Mahidol University</td>\n",
       "      <td>NaN</td>\n",
       "      <td>NaN</td>\n",
       "      <td>NaN</td>\n",
       "      <td>GRID.10223.32</td>\n",
       "      <td>3000681389</td>\n",
       "      <td>20120110</td>\n",
       "      <td>99991231.0</td>\n",
       "    </tr>\n",
       "    <tr>\n",
       "      <th>19534</th>\n",
       "      <td>2000671164</td>\n",
       "      <td>NaN</td>\n",
       "      <td>NaN</td>\n",
       "      <td>4</td>\n",
       "      <td>TH</td>\n",
       "      <td>Mahidol University</td>\n",
       "      <td>NaN</td>\n",
       "      <td>NaN</td>\n",
       "      <td>NaN</td>\n",
       "      <td>GRID.10223.32</td>\n",
       "      <td>3000824225</td>\n",
       "      <td>20121003</td>\n",
       "      <td>99991231.0</td>\n",
       "    </tr>\n",
       "    <tr>\n",
       "      <th>19535</th>\n",
       "      <td>2000671164</td>\n",
       "      <td>NaN</td>\n",
       "      <td>NaN</td>\n",
       "      <td>4</td>\n",
       "      <td>TH</td>\n",
       "      <td>Mahidol University</td>\n",
       "      <td>NaN</td>\n",
       "      <td>NaN</td>\n",
       "      <td>NaN</td>\n",
       "      <td>GRID.10223.32</td>\n",
       "      <td>3000871461</td>\n",
       "      <td>20121003</td>\n",
       "      <td>99991231.0</td>\n",
       "    </tr>\n",
       "    <tr>\n",
       "      <th>19536</th>\n",
       "      <td>2000671164</td>\n",
       "      <td>NaN</td>\n",
       "      <td>NaN</td>\n",
       "      <td>4</td>\n",
       "      <td>TH</td>\n",
       "      <td>Mahidol University</td>\n",
       "      <td>NaN</td>\n",
       "      <td>NaN</td>\n",
       "      <td>NaN</td>\n",
       "      <td>GRID.10223.32</td>\n",
       "      <td>3000995705</td>\n",
       "      <td>20130308</td>\n",
       "      <td>99991231.0</td>\n",
       "    </tr>\n",
       "    <tr>\n",
       "      <th>19537</th>\n",
       "      <td>2000671164</td>\n",
       "      <td>NaN</td>\n",
       "      <td>NaN</td>\n",
       "      <td>4</td>\n",
       "      <td>TH</td>\n",
       "      <td>Mahidol University</td>\n",
       "      <td>NaN</td>\n",
       "      <td>NaN</td>\n",
       "      <td>NaN</td>\n",
       "      <td>GRID.10223.32</td>\n",
       "      <td>3001227016</td>\n",
       "      <td>20140113</td>\n",
       "      <td>99991231.0</td>\n",
       "    </tr>\n",
       "    <tr>\n",
       "      <th>19538</th>\n",
       "      <td>2000671164</td>\n",
       "      <td>NaN</td>\n",
       "      <td>NaN</td>\n",
       "      <td>4</td>\n",
       "      <td>TH</td>\n",
       "      <td>Mahidol University</td>\n",
       "      <td>NaN</td>\n",
       "      <td>NaN</td>\n",
       "      <td>NaN</td>\n",
       "      <td>GRID.10223.32</td>\n",
       "      <td>3001231873</td>\n",
       "      <td>20151007</td>\n",
       "      <td>99991231.0</td>\n",
       "    </tr>\n",
       "    <tr>\n",
       "      <th>19539</th>\n",
       "      <td>2000671164</td>\n",
       "      <td>NaN</td>\n",
       "      <td>NaN</td>\n",
       "      <td>4</td>\n",
       "      <td>TH</td>\n",
       "      <td>Mahidol University</td>\n",
       "      <td>NaN</td>\n",
       "      <td>NaN</td>\n",
       "      <td>NaN</td>\n",
       "      <td>GRID.10223.32</td>\n",
       "      <td>3991447120</td>\n",
       "      <td>20140419</td>\n",
       "      <td>99991231.0</td>\n",
       "    </tr>\n",
       "    <tr>\n",
       "      <th>19540</th>\n",
       "      <td>2000671164</td>\n",
       "      <td>NaN</td>\n",
       "      <td>NaN</td>\n",
       "      <td>4</td>\n",
       "      <td>TH</td>\n",
       "      <td>Mahidol University</td>\n",
       "      <td>NaN</td>\n",
       "      <td>NaN</td>\n",
       "      <td>NaN</td>\n",
       "      <td>GRID.10223.32</td>\n",
       "      <td>3001358138</td>\n",
       "      <td>20140604</td>\n",
       "      <td>99991231.0</td>\n",
       "    </tr>\n",
       "    <tr>\n",
       "      <th>19541</th>\n",
       "      <td>2000671164</td>\n",
       "      <td>NaN</td>\n",
       "      <td>NaN</td>\n",
       "      <td>4</td>\n",
       "      <td>TH</td>\n",
       "      <td>Mahidol University</td>\n",
       "      <td>NaN</td>\n",
       "      <td>NaN</td>\n",
       "      <td>NaN</td>\n",
       "      <td>GRID.10223.32</td>\n",
       "      <td>3991451413</td>\n",
       "      <td>20140521</td>\n",
       "      <td>99991231.0</td>\n",
       "    </tr>\n",
       "    <tr>\n",
       "      <th>19542</th>\n",
       "      <td>2000671164</td>\n",
       "      <td>NaN</td>\n",
       "      <td>NaN</td>\n",
       "      <td>4</td>\n",
       "      <td>TH</td>\n",
       "      <td>Mahidol University</td>\n",
       "      <td>NaN</td>\n",
       "      <td>NaN</td>\n",
       "      <td>NaN</td>\n",
       "      <td>GRID.10223.32</td>\n",
       "      <td>3991451557</td>\n",
       "      <td>20140530</td>\n",
       "      <td>99991231.0</td>\n",
       "    </tr>\n",
       "    <tr>\n",
       "      <th>19543</th>\n",
       "      <td>2000671164</td>\n",
       "      <td>NaN</td>\n",
       "      <td>NaN</td>\n",
       "      <td>4</td>\n",
       "      <td>TH</td>\n",
       "      <td>Mahidol University</td>\n",
       "      <td>NaN</td>\n",
       "      <td>NaN</td>\n",
       "      <td>NaN</td>\n",
       "      <td>GRID.10223.32</td>\n",
       "      <td>3991461121</td>\n",
       "      <td>20150204</td>\n",
       "      <td>99991231.0</td>\n",
       "    </tr>\n",
       "  </tbody>\n",
       "</table>\n",
       "</div>"
      ],
      "text/plain": [
       "             BPID Name Surname  Type Country                Org1 Org2 Org3  \\\n",
       "19523  2000671164  NaN     NaN     4      TH  Mahidol University  NaN  NaN   \n",
       "19524  2000671164  NaN     NaN     4      TH  Mahidol University  NaN  NaN   \n",
       "19525  2000671164  NaN     NaN     4      TH  Mahidol University  NaN  NaN   \n",
       "19526  2000671164  NaN     NaN     4      TH  Mahidol University  NaN  NaN   \n",
       "19527  2000671164  NaN     NaN     4      TH  Mahidol University  NaN  NaN   \n",
       "19528  2000671164  NaN     NaN     4      TH  Mahidol University  NaN  NaN   \n",
       "19529  2000671164  NaN     NaN     4      TH  Mahidol University  NaN  NaN   \n",
       "19530  2000671164  NaN     NaN     4      TH  Mahidol University  NaN  NaN   \n",
       "19531  2000671164  NaN     NaN     4      TH  Mahidol University  NaN  NaN   \n",
       "19532  2000671164  NaN     NaN     4      TH  Mahidol University  NaN  NaN   \n",
       "19533  2000671164  NaN     NaN     4      TH  Mahidol University  NaN  NaN   \n",
       "19534  2000671164  NaN     NaN     4      TH  Mahidol University  NaN  NaN   \n",
       "19535  2000671164  NaN     NaN     4      TH  Mahidol University  NaN  NaN   \n",
       "19536  2000671164  NaN     NaN     4      TH  Mahidol University  NaN  NaN   \n",
       "19537  2000671164  NaN     NaN     4      TH  Mahidol University  NaN  NaN   \n",
       "19538  2000671164  NaN     NaN     4      TH  Mahidol University  NaN  NaN   \n",
       "19539  2000671164  NaN     NaN     4      TH  Mahidol University  NaN  NaN   \n",
       "19540  2000671164  NaN     NaN     4      TH  Mahidol University  NaN  NaN   \n",
       "19541  2000671164  NaN     NaN     4      TH  Mahidol University  NaN  NaN   \n",
       "19542  2000671164  NaN     NaN     4      TH  Mahidol University  NaN  NaN   \n",
       "19543  2000671164  NaN     NaN     4      TH  Mahidol University  NaN  NaN   \n",
       "\n",
       "      Org4           GRID      Parent  ValidFrom     ValidTo  \n",
       "19523  NaN  GRID.10223.32  3000122015   20100913  99991231.0  \n",
       "19524  NaN  GRID.10223.32  3000122113   20100330  99991231.0  \n",
       "19525  NaN  GRID.10223.32  3000130811   20100913  99991231.0  \n",
       "19526  NaN  GRID.10223.32  3000185077   20110318  99991231.0  \n",
       "19527  NaN  GRID.10223.32  3000208665   20100819  99991231.0  \n",
       "19528  NaN  GRID.10223.32  3000241235   20110323  99991231.0  \n",
       "19529  NaN  GRID.10223.32  3000481104   20110307  99991231.0  \n",
       "19530  NaN  GRID.10223.32  3000507700   20110323  99991231.0  \n",
       "19531  NaN  GRID.10223.32  3000520017   20110413  99991231.0  \n",
       "19532  NaN  GRID.10223.32  3000653560   20111006  99991231.0  \n",
       "19533  NaN  GRID.10223.32  3000681389   20120110  99991231.0  \n",
       "19534  NaN  GRID.10223.32  3000824225   20121003  99991231.0  \n",
       "19535  NaN  GRID.10223.32  3000871461   20121003  99991231.0  \n",
       "19536  NaN  GRID.10223.32  3000995705   20130308  99991231.0  \n",
       "19537  NaN  GRID.10223.32  3001227016   20140113  99991231.0  \n",
       "19538  NaN  GRID.10223.32  3001231873   20151007  99991231.0  \n",
       "19539  NaN  GRID.10223.32  3991447120   20140419  99991231.0  \n",
       "19540  NaN  GRID.10223.32  3001358138   20140604  99991231.0  \n",
       "19541  NaN  GRID.10223.32  3991451413   20140521  99991231.0  \n",
       "19542  NaN  GRID.10223.32  3991451557   20140530  99991231.0  \n",
       "19543  NaN  GRID.10223.32  3991461121   20150204  99991231.0  "
      ]
     },
     "execution_count": 41,
     "metadata": {},
     "output_type": "execute_result"
    }
   ],
   "source": [
    "df.loc[df.BPID == 2000671164]"
   ]
  },
  {
   "cell_type": "markdown",
   "metadata": {
    "Collapsed": "false",
    "button": false,
    "deletable": true,
    "new_sheet": false,
    "run_control": {
     "read_only": false
    }
   },
   "source": [
    "#### Function to get rows based on BPID "
   ]
  },
  {
   "cell_type": "code",
   "execution_count": 72,
   "metadata": {
    "Collapsed": "false",
    "button": false,
    "collapsed": true,
    "deletable": true,
    "jupyter": {
     "outputs_hidden": true
    },
    "new_sheet": false,
    "run_control": {
     "read_only": false
    }
   },
   "outputs": [],
   "source": [
    "def get_bpid(bpid):\n",
    "    return df.loc[df.BPID == bpid]"
   ]
  },
  {
   "cell_type": "code",
   "execution_count": 74,
   "metadata": {
    "Collapsed": "false",
    "button": false,
    "collapsed": false,
    "deletable": true,
    "jupyter": {
     "outputs_hidden": false
    },
    "new_sheet": false,
    "run_control": {
     "read_only": false
    }
   },
   "outputs": [
    {
     "data": {
      "text/html": [
       "<div>\n",
       "<style scoped>\n",
       "    .dataframe tbody tr th:only-of-type {\n",
       "        vertical-align: middle;\n",
       "    }\n",
       "\n",
       "    .dataframe tbody tr th {\n",
       "        vertical-align: top;\n",
       "    }\n",
       "\n",
       "    .dataframe thead th {\n",
       "        text-align: right;\n",
       "    }\n",
       "</style>\n",
       "<table border=\"1\" class=\"dataframe\">\n",
       "  <thead>\n",
       "    <tr style=\"text-align: right;\">\n",
       "      <th></th>\n",
       "      <th>BPID</th>\n",
       "      <th>Name</th>\n",
       "      <th>Surname</th>\n",
       "      <th>Type</th>\n",
       "      <th>Country</th>\n",
       "      <th>Org1</th>\n",
       "      <th>Org2</th>\n",
       "      <th>Org3</th>\n",
       "      <th>Org4</th>\n",
       "      <th>GRID</th>\n",
       "      <th>Parent</th>\n",
       "      <th>ValidFrom</th>\n",
       "      <th>ValidTo</th>\n",
       "    </tr>\n",
       "  </thead>\n",
       "  <tbody>\n",
       "  </tbody>\n",
       "</table>\n",
       "</div>"
      ],
      "text/plain": [
       "Empty DataFrame\n",
       "Columns: [BPID, Name, Surname, Type, Country, Org1, Org2, Org3, Org4, GRID, Parent, ValidFrom, ValidTo]\n",
       "Index: []"
      ]
     },
     "execution_count": 74,
     "metadata": {},
     "output_type": "execute_result"
    }
   ],
   "source": [
    "get_bpid(3000481104)"
   ]
  },
  {
   "cell_type": "markdown",
   "metadata": {
    "Collapsed": "false",
    "button": false,
    "deletable": true,
    "new_sheet": false,
    "run_control": {
     "read_only": false
    }
   },
   "source": [
    "##### Let's pull out all parents for this object...\n",
    "\n",
    "Do parents exists? Apparenlty not.."
   ]
  },
  {
   "cell_type": "code",
   "execution_count": 48,
   "metadata": {
    "Collapsed": "false",
    "button": false,
    "collapsed": false,
    "deletable": true,
    "jupyter": {
     "outputs_hidden": false
    },
    "new_sheet": false,
    "run_control": {
     "read_only": false
    }
   },
   "outputs": [
    {
     "data": {
      "text/plain": [
       "19523    3000122015\n",
       "19524    3000122113\n",
       "19525    3000130811\n",
       "19526    3000185077\n",
       "19527    3000208665\n",
       "19528    3000241235\n",
       "19529    3000481104\n",
       "19530    3000507700\n",
       "19531    3000520017\n",
       "19532    3000653560\n",
       "19533    3000681389\n",
       "19534    3000824225\n",
       "19535    3000871461\n",
       "19536    3000995705\n",
       "19537    3001227016\n",
       "19538    3001231873\n",
       "19539    3991447120\n",
       "19540    3001358138\n",
       "19541    3991451413\n",
       "19542    3991451557\n",
       "19543    3991461121\n",
       "Name: Parent, dtype: int64"
      ]
     },
     "execution_count": 48,
     "metadata": {},
     "output_type": "execute_result"
    }
   ],
   "source": [
    "df.loc[df.BPID == 2000671164]['Parent']"
   ]
  },
  {
   "cell_type": "code",
   "execution_count": 52,
   "metadata": {
    "Collapsed": "false",
    "button": false,
    "collapsed": true,
    "deletable": true,
    "jupyter": {
     "outputs_hidden": true
    },
    "new_sheet": false,
    "run_control": {
     "read_only": false
    }
   },
   "outputs": [],
   "source": [
    "parents = [x for x in df.loc[df.BPID == 2000671164]['Parent']]"
   ]
  },
  {
   "cell_type": "code",
   "execution_count": 56,
   "metadata": {
    "Collapsed": "false",
    "button": false,
    "collapsed": false,
    "deletable": true,
    "jupyter": {
     "outputs_hidden": false
    },
    "new_sheet": false,
    "run_control": {
     "read_only": false
    }
   },
   "outputs": [
    {
     "name": "stdout",
     "output_type": "stream",
     "text": [
      "0\n",
      "0\n",
      "0\n",
      "0\n",
      "0\n",
      "0\n",
      "0\n",
      "0\n",
      "0\n",
      "0\n",
      "0\n",
      "0\n",
      "0\n",
      "0\n",
      "0\n",
      "0\n",
      "0\n",
      "0\n",
      "0\n",
      "0\n",
      "0\n"
     ]
    }
   ],
   "source": [
    "for p in parents:\n",
    "    print(len(df.loc[df.BPID == p]))"
   ]
  },
  {
   "cell_type": "markdown",
   "metadata": {
    "Collapsed": "false",
    "button": false,
    "deletable": true,
    "new_sheet": false,
    "run_control": {
     "read_only": false
    }
   },
   "source": [
    "#### Function to check if there's any parent!"
   ]
  },
  {
   "cell_type": "code",
   "execution_count": 57,
   "metadata": {
    "Collapsed": "false",
    "button": false,
    "collapsed": true,
    "deletable": true,
    "jupyter": {
     "outputs_hidden": true
    },
    "new_sheet": false,
    "run_control": {
     "read_only": false
    }
   },
   "outputs": [],
   "source": [
    "def parents_exist(bpid):\n",
    "    parents = [x for x in df.loc[df.BPID == bpid]['Parent']]\n",
    "    d = {'yes' : 0, 'no' : 0}\n",
    "    for p in parents:\n",
    "        if len(df.loc[df.BPID == p]):\n",
    "            d['yes'] += 1\n",
    "        else:\n",
    "            d['no'] += 1\n",
    "    return d        "
   ]
  },
  {
   "cell_type": "code",
   "execution_count": 58,
   "metadata": {
    "Collapsed": "false",
    "button": false,
    "collapsed": false,
    "deletable": true,
    "jupyter": {
     "outputs_hidden": false
    },
    "new_sheet": false,
    "run_control": {
     "read_only": false
    }
   },
   "outputs": [
    {
     "data": {
      "text/plain": [
       "{'yes': 0, 'no': 21}"
      ]
     },
     "execution_count": 58,
     "metadata": {},
     "output_type": "execute_result"
    }
   ],
   "source": [
    "parents_exist(2000671164)"
   ]
  },
  {
   "cell_type": "code",
   "execution_count": 60,
   "metadata": {
    "Collapsed": "false",
    "button": false,
    "collapsed": false,
    "deletable": true,
    "jupyter": {
     "outputs_hidden": false
    },
    "new_sheet": false,
    "run_control": {
     "read_only": false
    }
   },
   "outputs": [
    {
     "data": {
      "text/plain": [
       "{'yes': 1, 'no': 0}"
      ]
     },
     "execution_count": 60,
     "metadata": {},
     "output_type": "execute_result"
    }
   ],
   "source": [
    "parents_exist(3993699018)"
   ]
  },
  {
   "cell_type": "markdown",
   "metadata": {
    "Collapsed": "false",
    "button": false,
    "deletable": true,
    "new_sheet": false,
    "run_control": {
     "read_only": false
    }
   },
   "source": [
    "#### Function to pull out / open GRID webpages"
   ]
  },
  {
   "cell_type": "code",
   "execution_count": 68,
   "metadata": {
    "Collapsed": "false",
    "button": false,
    "collapsed": true,
    "deletable": true,
    "jupyter": {
     "outputs_hidden": true
    },
    "new_sheet": false,
    "run_control": {
     "read_only": false
    }
   },
   "outputs": [],
   "source": [
    "def open_grid(bpid, web=True):\n",
    "    t = \"https://grid.ac/institutes/\"\n",
    "    grids = [x for x in df.loc[df.BPID == bpid]['GRID']]\n",
    "    grids = list(set(grids))\n",
    "    if not web: return grids\n",
    "    for g in grids:\n",
    "        webbrowser.open(t + g)\n",
    "    "
   ]
  },
  {
   "cell_type": "code",
   "execution_count": 119,
   "metadata": {
    "Collapsed": "false",
    "button": false,
    "collapsed": true,
    "deletable": true,
    "jupyter": {
     "outputs_hidden": true
    },
    "new_sheet": false,
    "run_control": {
     "read_only": false
    }
   },
   "outputs": [],
   "source": [
    "open_grid(3000123021)"
   ]
  },
  {
   "cell_type": "markdown",
   "metadata": {
    "Collapsed": "false",
    "button": false,
    "deletable": true,
    "new_sheet": false,
    "run_control": {
     "read_only": false
    }
   },
   "source": [
    "### Holding Analysis Prototype: get some info for the 3 selected BPIDs\n",
    "\n",
    "1. Utrecht University (NED; BPID 2000323035)\n",
    "2. University of Massachusetts (USA; BPID 8200177774)\n",
    "3. Otto-von-Guericke-Universität Magdeburg (GER; BPID 3000123021)"
   ]
  },
  {
   "cell_type": "code",
   "execution_count": 88,
   "metadata": {
    "Collapsed": "false",
    "button": false,
    "collapsed": true,
    "deletable": true,
    "jupyter": {
     "outputs_hidden": true
    },
    "new_sheet": false,
    "run_control": {
     "read_only": false
    }
   },
   "outputs": [],
   "source": [
    "candidates = [2000323035, 8200177774, 3000123021]"
   ]
  },
  {
   "cell_type": "code",
   "execution_count": 116,
   "metadata": {
    "Collapsed": "false",
    "button": false,
    "collapsed": false,
    "deletable": true,
    "jupyter": {
     "outputs_hidden": false
    },
    "new_sheet": false,
    "run_control": {
     "read_only": false
    }
   },
   "outputs": [
    {
     "data": {
      "text/markdown": [
       "### BPID: 2000323035 "
      ],
      "text/plain": [
       "<IPython.core.display.Markdown object>"
      ]
     },
     "metadata": {},
     "output_type": "display_data"
    },
    {
     "data": {
      "text/markdown": [
       "Associated GRID: ['GRID.5477.1']     "
      ],
      "text/plain": [
       "<IPython.core.display.Markdown object>"
      ]
     },
     "metadata": {},
     "output_type": "display_data"
    },
    {
     "data": {
      "text/markdown": [
       "Parents BPID exist? {'yes': 0, 'no': 2}     "
      ],
      "text/plain": [
       "<IPython.core.display.Markdown object>"
      ]
     },
     "metadata": {},
     "output_type": "display_data"
    },
    {
     "data": {
      "text/markdown": [
       "#### Full data  "
      ],
      "text/plain": [
       "<IPython.core.display.Markdown object>"
      ]
     },
     "metadata": {},
     "output_type": "display_data"
    },
    {
     "data": {
      "text/html": [
       "<div>\n",
       "<style scoped>\n",
       "    .dataframe tbody tr th:only-of-type {\n",
       "        vertical-align: middle;\n",
       "    }\n",
       "\n",
       "    .dataframe tbody tr th {\n",
       "        vertical-align: top;\n",
       "    }\n",
       "\n",
       "    .dataframe thead th {\n",
       "        text-align: right;\n",
       "    }\n",
       "</style>\n",
       "<table border=\"1\" class=\"dataframe\">\n",
       "  <thead>\n",
       "    <tr style=\"text-align: right;\">\n",
       "      <th></th>\n",
       "      <th>BPID</th>\n",
       "      <th>Name</th>\n",
       "      <th>Surname</th>\n",
       "      <th>Type</th>\n",
       "      <th>Country</th>\n",
       "      <th>Org1</th>\n",
       "      <th>Org2</th>\n",
       "      <th>Org3</th>\n",
       "      <th>Org4</th>\n",
       "      <th>GRID</th>\n",
       "      <th>Parent</th>\n",
       "      <th>ValidFrom</th>\n",
       "      <th>ValidTo</th>\n",
       "    </tr>\n",
       "  </thead>\n",
       "  <tbody>\n",
       "    <tr>\n",
       "      <th>6748</th>\n",
       "      <td>2000323035</td>\n",
       "      <td>NaN</td>\n",
       "      <td>NaN</td>\n",
       "      <td>4</td>\n",
       "      <td>NL</td>\n",
       "      <td>Utrecht University Library</td>\n",
       "      <td>NaN</td>\n",
       "      <td>NaN</td>\n",
       "      <td>NaN</td>\n",
       "      <td>GRID.5477.1</td>\n",
       "      <td>3000174899</td>\n",
       "      <td>20100413</td>\n",
       "      <td>99991231.0</td>\n",
       "    </tr>\n",
       "    <tr>\n",
       "      <th>6749</th>\n",
       "      <td>2000323035</td>\n",
       "      <td>NaN</td>\n",
       "      <td>NaN</td>\n",
       "      <td>4</td>\n",
       "      <td>NL</td>\n",
       "      <td>Utrecht University Library</td>\n",
       "      <td>NaN</td>\n",
       "      <td>NaN</td>\n",
       "      <td>NaN</td>\n",
       "      <td>GRID.5477.1</td>\n",
       "      <td>3001974408</td>\n",
       "      <td>20150825</td>\n",
       "      <td>99991231.0</td>\n",
       "    </tr>\n",
       "  </tbody>\n",
       "</table>\n",
       "</div>"
      ],
      "text/plain": [
       "            BPID Name Surname  Type Country                        Org1 Org2  \\\n",
       "6748  2000323035  NaN     NaN     4      NL  Utrecht University Library  NaN   \n",
       "6749  2000323035  NaN     NaN     4      NL  Utrecht University Library  NaN   \n",
       "\n",
       "     Org3 Org4         GRID      Parent  ValidFrom     ValidTo  \n",
       "6748  NaN  NaN  GRID.5477.1  3000174899   20100413  99991231.0  \n",
       "6749  NaN  NaN  GRID.5477.1  3001974408   20150825  99991231.0  "
      ]
     },
     "metadata": {},
     "output_type": "display_data"
    },
    {
     "data": {
      "text/markdown": [
       "### BPID: 8200177774 "
      ],
      "text/plain": [
       "<IPython.core.display.Markdown object>"
      ]
     },
     "metadata": {},
     "output_type": "display_data"
    },
    {
     "data": {
      "text/markdown": [
       "Associated GRID: ['GRID.266683.F']     "
      ],
      "text/plain": [
       "<IPython.core.display.Markdown object>"
      ]
     },
     "metadata": {},
     "output_type": "display_data"
    },
    {
     "data": {
      "text/markdown": [
       "Parents BPID exist? {'yes': 0, 'no': 1}     "
      ],
      "text/plain": [
       "<IPython.core.display.Markdown object>"
      ]
     },
     "metadata": {},
     "output_type": "display_data"
    },
    {
     "data": {
      "text/markdown": [
       "#### Full data  "
      ],
      "text/plain": [
       "<IPython.core.display.Markdown object>"
      ]
     },
     "metadata": {},
     "output_type": "display_data"
    },
    {
     "data": {
      "text/html": [
       "<div>\n",
       "<style scoped>\n",
       "    .dataframe tbody tr th:only-of-type {\n",
       "        vertical-align: middle;\n",
       "    }\n",
       "\n",
       "    .dataframe tbody tr th {\n",
       "        vertical-align: top;\n",
       "    }\n",
       "\n",
       "    .dataframe thead th {\n",
       "        text-align: right;\n",
       "    }\n",
       "</style>\n",
       "<table border=\"1\" class=\"dataframe\">\n",
       "  <thead>\n",
       "    <tr style=\"text-align: right;\">\n",
       "      <th></th>\n",
       "      <th>BPID</th>\n",
       "      <th>Name</th>\n",
       "      <th>Surname</th>\n",
       "      <th>Type</th>\n",
       "      <th>Country</th>\n",
       "      <th>Org1</th>\n",
       "      <th>Org2</th>\n",
       "      <th>Org3</th>\n",
       "      <th>Org4</th>\n",
       "      <th>GRID</th>\n",
       "      <th>Parent</th>\n",
       "      <th>ValidFrom</th>\n",
       "      <th>ValidTo</th>\n",
       "    </tr>\n",
       "  </thead>\n",
       "  <tbody>\n",
       "    <tr>\n",
       "      <th>12866</th>\n",
       "      <td>8200177774</td>\n",
       "      <td>NaN</td>\n",
       "      <td>NaN</td>\n",
       "      <td>4</td>\n",
       "      <td>US</td>\n",
       "      <td>University of Massachusetts Amherst</td>\n",
       "      <td>UMASS</td>\n",
       "      <td>WEB DuBois Library</td>\n",
       "      <td>NaN</td>\n",
       "      <td>GRID.266683.F</td>\n",
       "      <td>8200828607</td>\n",
       "      <td>20110411</td>\n",
       "      <td>99991231.0</td>\n",
       "    </tr>\n",
       "  </tbody>\n",
       "</table>\n",
       "</div>"
      ],
      "text/plain": [
       "             BPID Name Surname  Type Country  \\\n",
       "12866  8200177774  NaN     NaN     4      US   \n",
       "\n",
       "                                      Org1   Org2                Org3 Org4  \\\n",
       "12866  University of Massachusetts Amherst  UMASS  WEB DuBois Library  NaN   \n",
       "\n",
       "                GRID      Parent  ValidFrom     ValidTo  \n",
       "12866  GRID.266683.F  8200828607   20110411  99991231.0  "
      ]
     },
     "metadata": {},
     "output_type": "display_data"
    },
    {
     "data": {
      "text/markdown": [
       "### BPID: 3000123021 "
      ],
      "text/plain": [
       "<IPython.core.display.Markdown object>"
      ]
     },
     "metadata": {},
     "output_type": "display_data"
    },
    {
     "data": {
      "text/markdown": [
       "Associated GRID: ['GRID.5807.A']     "
      ],
      "text/plain": [
       "<IPython.core.display.Markdown object>"
      ]
     },
     "metadata": {},
     "output_type": "display_data"
    },
    {
     "data": {
      "text/markdown": [
       "Parents BPID exist? {'yes': 0, 'no': 8}     "
      ],
      "text/plain": [
       "<IPython.core.display.Markdown object>"
      ]
     },
     "metadata": {},
     "output_type": "display_data"
    },
    {
     "data": {
      "text/markdown": [
       "#### Full data  "
      ],
      "text/plain": [
       "<IPython.core.display.Markdown object>"
      ]
     },
     "metadata": {},
     "output_type": "display_data"
    },
    {
     "data": {
      "text/html": [
       "<div>\n",
       "<style scoped>\n",
       "    .dataframe tbody tr th:only-of-type {\n",
       "        vertical-align: middle;\n",
       "    }\n",
       "\n",
       "    .dataframe tbody tr th {\n",
       "        vertical-align: top;\n",
       "    }\n",
       "\n",
       "    .dataframe thead th {\n",
       "        text-align: right;\n",
       "    }\n",
       "</style>\n",
       "<table border=\"1\" class=\"dataframe\">\n",
       "  <thead>\n",
       "    <tr style=\"text-align: right;\">\n",
       "      <th></th>\n",
       "      <th>BPID</th>\n",
       "      <th>Name</th>\n",
       "      <th>Surname</th>\n",
       "      <th>Type</th>\n",
       "      <th>Country</th>\n",
       "      <th>Org1</th>\n",
       "      <th>Org2</th>\n",
       "      <th>Org3</th>\n",
       "      <th>Org4</th>\n",
       "      <th>GRID</th>\n",
       "      <th>Parent</th>\n",
       "      <th>ValidFrom</th>\n",
       "      <th>ValidTo</th>\n",
       "    </tr>\n",
       "  </thead>\n",
       "  <tbody>\n",
       "    <tr>\n",
       "      <th>27994</th>\n",
       "      <td>3000123021</td>\n",
       "      <td>NaN</td>\n",
       "      <td>NaN</td>\n",
       "      <td>4</td>\n",
       "      <td>DE</td>\n",
       "      <td>Universität Magdeburg</td>\n",
       "      <td>Otto-von-Guericke-Universität</td>\n",
       "      <td>Unibibliothek Frau Dr. A. Weiss</td>\n",
       "      <td>NaN</td>\n",
       "      <td>GRID.5807.A</td>\n",
       "      <td>3000137278</td>\n",
       "      <td>20100917</td>\n",
       "      <td>99991231.0</td>\n",
       "    </tr>\n",
       "    <tr>\n",
       "      <th>27995</th>\n",
       "      <td>3000123021</td>\n",
       "      <td>NaN</td>\n",
       "      <td>NaN</td>\n",
       "      <td>4</td>\n",
       "      <td>DE</td>\n",
       "      <td>Universität Magdeburg</td>\n",
       "      <td>Otto-von-Guericke-Universität</td>\n",
       "      <td>Unibibliothek Frau Dr. A. Weiss</td>\n",
       "      <td>NaN</td>\n",
       "      <td>GRID.5807.A</td>\n",
       "      <td>3000137282</td>\n",
       "      <td>20100917</td>\n",
       "      <td>99991231.0</td>\n",
       "    </tr>\n",
       "    <tr>\n",
       "      <th>27996</th>\n",
       "      <td>3000123021</td>\n",
       "      <td>NaN</td>\n",
       "      <td>NaN</td>\n",
       "      <td>4</td>\n",
       "      <td>DE</td>\n",
       "      <td>Universität Magdeburg</td>\n",
       "      <td>Otto-von-Guericke-Universität</td>\n",
       "      <td>Unibibliothek Frau Dr. A. Weiss</td>\n",
       "      <td>NaN</td>\n",
       "      <td>GRID.5807.A</td>\n",
       "      <td>3000194567</td>\n",
       "      <td>20100615</td>\n",
       "      <td>99991231.0</td>\n",
       "    </tr>\n",
       "    <tr>\n",
       "      <th>27997</th>\n",
       "      <td>3000123021</td>\n",
       "      <td>NaN</td>\n",
       "      <td>NaN</td>\n",
       "      <td>4</td>\n",
       "      <td>DE</td>\n",
       "      <td>Universität Magdeburg</td>\n",
       "      <td>Otto-von-Guericke-Universität</td>\n",
       "      <td>Unibibliothek Frau Dr. A. Weiss</td>\n",
       "      <td>NaN</td>\n",
       "      <td>GRID.5807.A</td>\n",
       "      <td>3000262825</td>\n",
       "      <td>20110202</td>\n",
       "      <td>99991231.0</td>\n",
       "    </tr>\n",
       "    <tr>\n",
       "      <th>27998</th>\n",
       "      <td>3000123021</td>\n",
       "      <td>NaN</td>\n",
       "      <td>NaN</td>\n",
       "      <td>4</td>\n",
       "      <td>DE</td>\n",
       "      <td>Universität Magdeburg</td>\n",
       "      <td>Otto-von-Guericke-Universität</td>\n",
       "      <td>Unibibliothek Frau Dr. A. Weiss</td>\n",
       "      <td>NaN</td>\n",
       "      <td>GRID.5807.A</td>\n",
       "      <td>3000262839</td>\n",
       "      <td>20110202</td>\n",
       "      <td>99991231.0</td>\n",
       "    </tr>\n",
       "    <tr>\n",
       "      <th>27999</th>\n",
       "      <td>3000123021</td>\n",
       "      <td>NaN</td>\n",
       "      <td>NaN</td>\n",
       "      <td>4</td>\n",
       "      <td>DE</td>\n",
       "      <td>Universität Magdeburg</td>\n",
       "      <td>Otto-von-Guericke-Universität</td>\n",
       "      <td>Unibibliothek Frau Dr. A. Weiss</td>\n",
       "      <td>NaN</td>\n",
       "      <td>GRID.5807.A</td>\n",
       "      <td>3991444337</td>\n",
       "      <td>20131030</td>\n",
       "      <td>99991231.0</td>\n",
       "    </tr>\n",
       "    <tr>\n",
       "      <th>28000</th>\n",
       "      <td>3000123021</td>\n",
       "      <td>NaN</td>\n",
       "      <td>NaN</td>\n",
       "      <td>4</td>\n",
       "      <td>DE</td>\n",
       "      <td>Universität Magdeburg</td>\n",
       "      <td>Otto-von-Guericke-Universität</td>\n",
       "      <td>Unibibliothek Frau Dr. A. Weiss</td>\n",
       "      <td>NaN</td>\n",
       "      <td>GRID.5807.A</td>\n",
       "      <td>3994313832</td>\n",
       "      <td>20160805</td>\n",
       "      <td>99991231.0</td>\n",
       "    </tr>\n",
       "    <tr>\n",
       "      <th>28001</th>\n",
       "      <td>3000123021</td>\n",
       "      <td>NaN</td>\n",
       "      <td>NaN</td>\n",
       "      <td>4</td>\n",
       "      <td>DE</td>\n",
       "      <td>Universität Magdeburg</td>\n",
       "      <td>Otto-von-Guericke-Universität</td>\n",
       "      <td>Unibibliothek Frau Dr. A. Weiss</td>\n",
       "      <td>NaN</td>\n",
       "      <td>GRID.5807.A</td>\n",
       "      <td>3003169293</td>\n",
       "      <td>20180105</td>\n",
       "      <td>99991231.0</td>\n",
       "    </tr>\n",
       "  </tbody>\n",
       "</table>\n",
       "</div>"
      ],
      "text/plain": [
       "             BPID Name Surname  Type Country                   Org1  \\\n",
       "27994  3000123021  NaN     NaN     4      DE  Universität Magdeburg   \n",
       "27995  3000123021  NaN     NaN     4      DE  Universität Magdeburg   \n",
       "27996  3000123021  NaN     NaN     4      DE  Universität Magdeburg   \n",
       "27997  3000123021  NaN     NaN     4      DE  Universität Magdeburg   \n",
       "27998  3000123021  NaN     NaN     4      DE  Universität Magdeburg   \n",
       "27999  3000123021  NaN     NaN     4      DE  Universität Magdeburg   \n",
       "28000  3000123021  NaN     NaN     4      DE  Universität Magdeburg   \n",
       "28001  3000123021  NaN     NaN     4      DE  Universität Magdeburg   \n",
       "\n",
       "                                Org2                             Org3 Org4  \\\n",
       "27994  Otto-von-Guericke-Universität  Unibibliothek Frau Dr. A. Weiss  NaN   \n",
       "27995  Otto-von-Guericke-Universität  Unibibliothek Frau Dr. A. Weiss  NaN   \n",
       "27996  Otto-von-Guericke-Universität  Unibibliothek Frau Dr. A. Weiss  NaN   \n",
       "27997  Otto-von-Guericke-Universität  Unibibliothek Frau Dr. A. Weiss  NaN   \n",
       "27998  Otto-von-Guericke-Universität  Unibibliothek Frau Dr. A. Weiss  NaN   \n",
       "27999  Otto-von-Guericke-Universität  Unibibliothek Frau Dr. A. Weiss  NaN   \n",
       "28000  Otto-von-Guericke-Universität  Unibibliothek Frau Dr. A. Weiss  NaN   \n",
       "28001  Otto-von-Guericke-Universität  Unibibliothek Frau Dr. A. Weiss  NaN   \n",
       "\n",
       "              GRID      Parent  ValidFrom     ValidTo  \n",
       "27994  GRID.5807.A  3000137278   20100917  99991231.0  \n",
       "27995  GRID.5807.A  3000137282   20100917  99991231.0  \n",
       "27996  GRID.5807.A  3000194567   20100615  99991231.0  \n",
       "27997  GRID.5807.A  3000262825   20110202  99991231.0  \n",
       "27998  GRID.5807.A  3000262839   20110202  99991231.0  \n",
       "27999  GRID.5807.A  3991444337   20131030  99991231.0  \n",
       "28000  GRID.5807.A  3994313832   20160805  99991231.0  \n",
       "28001  GRID.5807.A  3003169293   20180105  99991231.0  "
      ]
     },
     "metadata": {},
     "output_type": "display_data"
    }
   ],
   "source": [
    "for c in candidates:\n",
    "    display(Markdown(\"### BPID: %d \" % c))\n",
    "    display(Markdown(\"Associated GRID: %s     \" % open_grid(c, False)))\n",
    "    display(Markdown(\"Parents BPID exist? %s     \" % parents_exist(c)))\n",
    "    display(Markdown(\"#### Full data  \"))\n",
    "    display(get_bpid(c))\n",
    "    # print(open_grid(c, False))\n",
    "    # print(parents_exist(c))"
   ]
  },
  {
   "cell_type": "code",
   "execution_count": null,
   "metadata": {
    "Collapsed": "false",
    "button": false,
    "collapsed": true,
    "deletable": true,
    "jupyter": {
     "outputs_hidden": true
    },
    "new_sheet": false,
    "run_control": {
     "read_only": false
    }
   },
   "outputs": [],
   "source": []
  }
 ],
 "metadata": {
  "kernelspec": {
   "display_name": "Python 3",
   "language": "python",
   "name": "python3"
  },
  "language_info": {
   "codemirror_mode": {
    "name": "ipython",
    "version": 3
   },
   "file_extension": ".py",
   "mimetype": "text/x-python",
   "name": "python",
   "nbconvert_exporter": "python",
   "pygments_lexer": "ipython3",
   "version": "3.8.5"
  }
 },
 "nbformat": 4,
 "nbformat_minor": 4
}
