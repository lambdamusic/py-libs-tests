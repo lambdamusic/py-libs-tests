{
 "cells": [
  {
   "cell_type": "markdown",
   "metadata": {
    "Collapsed": "false"
   },
   "source": [
    "# 2019-08 Anouska request "
   ]
  },
  {
   "cell_type": "code",
   "execution_count": 61,
   "metadata": {
    "Collapsed": "false"
   },
   "outputs": [],
   "source": [
    "import dimcli\n",
    "import os\n",
    "import time\n",
    "import pandas as pd\n",
    "dsl = dimcli.Dsl()"
   ]
  },
  {
   "cell_type": "code",
   "execution_count": 24,
   "metadata": {
    "Collapsed": "false"
   },
   "outputs": [],
   "source": [
    "df = pd.read_csv(\"gridslist.csv\")"
   ]
  },
  {
   "cell_type": "code",
   "execution_count": 53,
   "metadata": {
    "Collapsed": "false"
   },
   "outputs": [],
   "source": [
    "grids = df[['GRID ID','GRID NAME']]"
   ]
  },
  {
   "cell_type": "code",
   "execution_count": 65,
   "metadata": {
    "Collapsed": "false"
   },
   "outputs": [],
   "source": [
    "q1 = \"\"\"search publications where research_orgs=\"{}\" return FOR limit 1000\"\"\"\n",
    "q2 = \"\"\"search publications where research_orgs=\"{}\" and year={} return FOR limit 1000\"\"\"\n",
    "YEARS = [x for x in range(2009, 2019)]"
   ]
  },
  {
   "cell_type": "code",
   "execution_count": 75,
   "metadata": {
    "Collapsed": "false"
   },
   "outputs": [],
   "source": [
    "# pull all data per a gridid, one call every 2 seconds\n",
    "def pull_data(gridid, path):\n",
    "    try:\n",
    "        alltime = dsl.query(q1.format(gridid)).as_dataframe()\n",
    "    except:\n",
    "        alltime = pd.DataFrame()\n",
    "    alltime.to_csv(path+\"/\"+gridid+\"_alltime.csv\")\n",
    "    time.sleep(2)\n",
    "    \n",
    "def pull_data_years(gridid, path):\n",
    "    for year in YEARS:\n",
    "        try:\n",
    "            data = dsl.query(q2.format(gridid, year)).as_dataframe()\n",
    "        except:\n",
    "            data = pd.DataFrame()\n",
    "        data.to_csv(path+\"/\"+gridid+\"_\"+str(year)+\".csv\")\n",
    "        time.sleep(2)"
   ]
  },
  {
   "cell_type": "code",
   "execution_count": null,
   "metadata": {
    "Collapsed": "false"
   },
   "outputs": [],
   "source": [
    "for index, row in grids.iterrows():\n",
    "    gridid, gridname = row['GRID ID'], row['GRID NAME']\n",
    "#     print(row['GRID ID'], row['Name'])\n",
    "    path = \"output/\"+gridid+\"_\"+gridname\n",
    "    if not os.path.exists(path):\n",
    "        os.makedirs(path)\n",
    "    print(gridid)\n",
    "    pull_data(gridid, path)\n",
    "    pull_data_years(gridid, path)"
   ]
  },
  {
   "cell_type": "code",
   "execution_count": 59,
   "metadata": {
    "Collapsed": "false"
   },
   "outputs": [],
   "source": []
  }
 ],
 "metadata": {
  "kernelspec": {
   "display_name": "Python 3",
   "language": "python",
   "name": "python3"
  },
  "language_info": {
   "codemirror_mode": {
    "name": "ipython",
    "version": 3
   },
   "file_extension": ".py",
   "mimetype": "text/x-python",
   "name": "python",
   "nbconvert_exporter": "python",
   "pygments_lexer": "ipython3",
   "version": "3.8.5"
  }
 },
 "nbformat": 4,
 "nbformat_minor": 4
}
