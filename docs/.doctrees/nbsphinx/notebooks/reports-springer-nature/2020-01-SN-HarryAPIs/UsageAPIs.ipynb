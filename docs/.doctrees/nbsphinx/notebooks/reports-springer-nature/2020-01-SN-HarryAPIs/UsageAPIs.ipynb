{
 "cells": [
  {
   "cell_type": "markdown",
   "metadata": {
    "Collapsed": "false"
   },
   "source": [
    "Eg https://hub.springer-sbm.com/gbs/gcp/es/stage/downloads-denials-historical-dimension/_search?q=%2210.1007/978-3-642-00563-3_13%22"
   ]
  },
  {
   "cell_type": "code",
   "execution_count": 6,
   "metadata": {
    "Collapsed": "false"
   },
   "outputs": [],
   "source": [
    "endpoint = \"https://hub.springer-sbm.com/gbs/gcp/es/stage/downloads-denials-historical-dimension/_search?q=\""
   ]
  },
  {
   "cell_type": "code",
   "execution_count": 9,
   "metadata": {
    "Collapsed": "false"
   },
   "outputs": [],
   "source": [
    "import requests\n",
    "import pandas as pd"
   ]
  },
  {
   "cell_type": "code",
   "execution_count": 25,
   "metadata": {
    "Collapsed": "false"
   },
   "outputs": [],
   "source": [
    "def get_doi(doi):\n",
    "    doi = f'\"{doi.upper()}\"'\n",
    "    r = requests.get(endpoint+doi)\n",
    "#     print(\" .  \", r.url)\n",
    "    return r.json()\n",
    "\n",
    "def is_found(response):\n",
    "    try:\n",
    "        return response['hits']['total']['value']\n",
    "    except:\n",
    "        print(\"Error parsing response..\")\n",
    "        return None\n",
    "    \n",
    "# eg \n",
    "# is_found(get_doi(\"10.1007/978-3-642-00563-3_13\"))\n",
    "# => 1"
   ]
  },
  {
   "cell_type": "markdown",
   "metadata": {
    "Collapsed": "false"
   },
   "source": [
    "### Version with CSV list of DOIS"
   ]
  },
  {
   "cell_type": "code",
   "execution_count": null,
   "metadata": {
    "Collapsed": "false"
   },
   "outputs": [],
   "source": [
    "test_dois= pd.read_csv(\"missing_dois.csv\") #['doi'].to_list()\n",
    "test_dois = test_dois.fillna(\"\")\n",
    "count = 0\n",
    "while count < len(test_dois):\n",
    "    count += 100\n",
    "    doi = test_dois.iloc[count]['doi']\n",
    "    if doi:\n",
    "        print(\"[{}] {}: {}\".format(count, \"dx.doi.org/\"+doi, bool(is_found(get_doi(doi)))))"
   ]
  },
  {
   "cell_type": "markdown",
   "metadata": {
    "Collapsed": "false"
   },
   "source": [
    "\n",
    "### Version with TXT list of DOIs"
   ]
  },
  {
   "cell_type": "code",
   "execution_count": null,
   "metadata": {
    "Collapsed": "false"
   },
   "outputs": [],
   "source": [
    "test_dois= open(\"missing_dois.txt\")\n",
    "\n",
    "count = 0\n",
    "while count < 5000:\n",
    "    count += 10\n",
    "    line = test_dois.readline()\n",
    "    if not line: \n",
    "        break\n",
    "    doi = line.strip()\n",
    "    print(\"[{}] {}: {}\".format(count, \"dx.doi.org/\"+doi, bool(is_found(get_doi(doi)))))"
   ]
  },
  {
   "cell_type": "code",
   "execution_count": null,
   "metadata": {
    "Collapsed": "false"
   },
   "outputs": [],
   "source": []
  }
 ],
 "metadata": {
  "kernelspec": {
   "display_name": "Python 3",
   "language": "python",
   "name": "python3"
  },
  "language_info": {
   "codemirror_mode": {
    "name": "ipython",
    "version": 3
   },
   "file_extension": ".py",
   "mimetype": "text/x-python",
   "name": "python",
   "nbconvert_exporter": "python",
   "pygments_lexer": "ipython3",
   "version": "3.7.4"
  }
 },
 "nbformat": 4,
 "nbformat_minor": 4
}
