{
 "cells": [
  {
   "cell_type": "markdown",
   "metadata": {
    "Collapsed": "false",
    "colab_type": "text",
    "id": "AuCkj0Qwywjy"
   },
   "source": [
    "# QA of DSL Release v1.22\n",
    "The purpose of this notebook is to review and test the new features in 1.22\n",
    "\n",
    "Docs: https://docs.dimensions.ai/dsl/1.22.0-preview/\n"
   ]
  },
  {
   "cell_type": "markdown",
   "metadata": {
    "Collapsed": "false",
    "colab_type": "text",
    "id": "dj3FxL-cbjrM"
   },
   "source": [
    "## Prerequisites\n",
    "\n",
    "Please install the latest versions of these libraries to run this notebook. "
   ]
  },
  {
   "cell_type": "code",
   "execution_count": 14,
   "metadata": {
    "Collapsed": "false",
    "cellView": "form",
    "colab": {
     "base_uri": "https://localhost:8080/",
     "height": 153
    },
    "colab_type": "code",
    "executionInfo": {
     "elapsed": 10861,
     "status": "ok",
     "timestamp": 1570722986241,
     "user": {
      "displayName": "Michele Pasin",
      "photoUrl": "https://lh3.googleusercontent.com/a-/AAuE7mBu8LVjIGgontF2Wax51BoL5KFx8esezX3bUmaa0g=s64",
      "userId": "10309320684375994511"
     },
     "user_tz": -60
    },
    "id": "BLUcxPxVb1vl",
    "outputId": "182031e3-7618-4a76-f7ee-d89fe4a4a6c7"
   },
   "outputs": [
    {
     "name": "stdout",
     "output_type": "stream",
     "text": [
      "DimCli v0.6.2.4 - Succesfully connected to <https://integration.ds-metrics.com> (method: dsl.ini file)\n"
     ]
    }
   ],
   "source": [
    "#\n",
    "# load common libraries\n",
    "import pandas as pd\n",
    "from pandas.io.json import json_normalize\n",
    "import time\n",
    "import json\n",
    "from tqdm import tqdm_notebook as tqdm\n",
    "import plotly_express as px\n",
    "import dimcli\n",
    "from dimcli.shortcuts import *\n",
    "\n",
    "dimcli.login(instance=\"test\")\n",
    "dsl = dimcli.Dsl() \n"
   ]
  },
  {
   "cell_type": "markdown",
   "metadata": {
    "Collapsed": "false",
    "colab_type": "text",
    "id": "JcnVEdOAywj3"
   },
   "source": [
    "---"
   ]
  },
  {
   "cell_type": "markdown",
   "metadata": {
    "Collapsed": "true",
    "colab_type": "text",
    "id": "YBSdHL4Tywj4"
   },
   "source": [
    "## [DSL-307] Improve warning messages\n",
    "\n",
    "https://uberresearch.atlassian.net/browse/DSL-307"
   ]
  },
  {
   "cell_type": "code",
   "execution_count": 3,
   "metadata": {
    "Collapsed": "false",
    "colab": {
     "base_uri": "https://localhost:8080/",
     "height": 105
    },
    "colab_type": "code",
    "executionInfo": {
     "elapsed": 659,
     "status": "ok",
     "timestamp": 1570707770181,
     "user": {
      "displayName": "Michele Pasin",
      "photoUrl": "https://lh3.googleusercontent.com/a-/AAuE7mBu8LVjIGgontF2Wax51BoL5KFx8esezX3bUmaa0g=s64",
      "userId": "10309320684375994511"
     },
     "user_tz": -60
    },
    "id": "l7KahNINbjrU",
    "outputId": "278ef272-4cb2-4eb7-9270-0c095df298c6"
   },
   "outputs": [
    {
     "name": "stdout",
     "output_type": "stream",
     "text": [
      "Returned Publications: 20 (total = 27779)\n",
      "WARNINGS [2]\n",
      "Usage of entity filters (research_orgs.types) is discouraged as it often leads to incomplete results. Please see https://docs.dimensions.ai/dsl/language.html#literal-fields-vs-entity-fields for more details.\n",
      "Query is too long or complex. Please see https://docs.dimensions.ai/dsl/faq.html for more information. [code: 4]\n"
     ]
    },
    {
     "data": {
      "application/json": {
       "_stats": {
        "total_count": 27779
       },
       "_warnings": [
        "Usage of entity filters (research_orgs.types) is discouraged as it often leads to incomplete results. Please see https://docs.dimensions.ai/dsl/language.html#literal-fields-vs-entity-fields for more details.",
        "Query is too long or complex. Please see https://docs.dimensions.ai/dsl/faq.html for more information. [code: 4]"
       ],
       "publications": [
        {
         "author_affiliations": [
          [
           {
            "affiliations": [
             {
              "city": "Toronto",
              "city_id": 6167865,
              "country": "Canada",
              "country_code": "CA",
              "id": "grid.17063.33",
              "name": "University of Toronto",
              "state": "Ontario",
              "state_code": "CA-ON"
             }
            ],
            "corresponding": "",
            "current_organization_id": "grid.17063.33",
            "first_name": "Jacob A.",
            "last_name": "Udell",
            "orcid": "['0000-0001-7402-9584']",
            "raw_affiliation": [
             "Cardiovascular Division, Women's College Hospital, University of Toronto, Toronto, Ontario, Canada"
            ],
            "researcher_id": "ur.01016165734.22"
           },
           {
            "affiliations": [
             {
              "city": "Boston",
              "city_id": 4930956,
              "country": "United States",
              "country_code": "US",
              "id": "grid.492942.0",
              "name": "Thrombolysis in Myocardial Infarction Study Group",
              "state": "Massachusetts",
              "state_code": "US-MA"
             }
            ],
            "corresponding": "",
            "current_organization_id": "grid.38142.3c",
            "first_name": "Deepak L.",
            "last_name": "Bhatt",
            "orcid": "['0000-0002-1278-6245']",
            "raw_affiliation": [
             "TIMI Study Group, Cardiovascular Division, Brigham and Women’s Hospital and Harvard Medical School, Boston, MA"
            ],
            "researcher_id": "ur.01111066700.89"
           },
           {
            "affiliations": [
             {
              "city": "Boston",
              "city_id": 4930956,
              "country": "United States",
              "country_code": "US",
              "id": "grid.492942.0",
              "name": "Thrombolysis in Myocardial Infarction Study Group",
              "state": "Massachusetts",
              "state_code": "US-MA"
             }
            ],
            "corresponding": "",
            "current_organization_id": "grid.62560.37",
            "first_name": "Eugene",
            "last_name": "Braunwald",
            "orcid": "",
            "raw_affiliation": [
             "TIMI Study Group, Cardiovascular Division, Brigham and Women’s Hospital and Harvard Medical School, Boston, MA"
            ],
            "researcher_id": "ur.01016436204.18"
           },
           {
            "affiliations": [
             {
              "city": "Boston",
              "city_id": 4930956,
              "country": "United States",
              "country_code": "US",
              "id": "grid.492942.0",
              "name": "Thrombolysis in Myocardial Infarction Study Group",
              "state": "Massachusetts",
              "state_code": "US-MA"
             }
            ],
            "corresponding": "",
            "current_organization_id": "grid.410711.2",
            "first_name": "Matthew A.",
            "last_name": "Cavender",
            "orcid": "",
            "raw_affiliation": [
             "TIMI Study Group, Cardiovascular Division, Brigham and Women’s Hospital and Harvard Medical School, Boston, MA"
            ],
            "researcher_id": "ur.01324565406.44"
           },
           {
            "affiliations": [
             {
              "city": "Jerusalem",
              "city_id": 281184,
              "country": "Israel",
              "country_code": "IL",
              "id": "grid.17788.31",
              "name": "Hadassah Medical Center",
              "state": null,
              "state_code": null
             }
            ],
            "corresponding": "",
            "current_organization_id": "grid.17788.31",
            "first_name": "Ofri",
            "last_name": "Mosenzon",
            "orcid": "",
            "raw_affiliation": [
             "Diabetes Unit, Division of Internal Medicine, Hadassah Hebrew University Hospital, Jerusalem, Israel"
            ],
            "researcher_id": "ur.0643762266.28"
           },
           {
            "affiliations": [
             {
              "name": "Département Hospitalo-Universitaire-Fibrosis Inflammation Remodelling, INSERM U-1148, Université Paris-Diderot, and Hôpital Bichat, AP-HP, Paris, France"
             },
             {
              "city": "London",
              "city_id": 2643743,
              "country": "United Kingdom",
              "country_code": "GB",
              "id": "grid.7445.2",
              "name": "Imperial College London",
              "state": null,
              "state_code": null
             }
            ],
            "corresponding": "",
            "current_organization_id": "grid.7445.2",
            "first_name": "Ph. Gabriel",
            "last_name": "Steg",
            "orcid": "['0000-0001-6896-2941']",
            "raw_affiliation": [
             "Département Hospitalo-Universitaire-Fibrosis Inflammation Remodelling, INSERM U-1148, Université Paris-Diderot, and Hôpital Bichat, AP-HP, Paris, France",
             "Imperial College, Royal Brompton Hospital, London, U.K"
            ],
            "researcher_id": "ur.015111031462.41"
           },
           {
            "affiliations": [
             {
              "city": "Dallas",
              "city_id": 4684888,
              "country": "United States",
              "country_code": "US",
              "id": "grid.267313.2",
              "name": "The University of Texas Southwestern Medical Center",
              "state": "Texas",
              "state_code": "US-TX"
             }
            ],
            "corresponding": "",
            "current_organization_id": "grid.267313.2",
            "first_name": "Jaime A.",
            "last_name": "Davidson",
            "orcid": "",
            "raw_affiliation": [
             "Division of Endocrinology, Department of Internal Medicine, University of Texas Southwestern Medical Center, Dallas, TX"
            ],
            "researcher_id": "ur.0757662006.70"
           },
           {
            "affiliations": [
             {
              "city": "São Paulo",
              "city_id": 3448439,
              "country": "Brazil",
              "country_code": "BR",
              "id": "grid.11899.38",
              "name": "University of Sao Paulo",
              "state": null,
              "state_code": null
             }
            ],
            "corresponding": "",
            "current_organization_id": "grid.11899.38",
            "first_name": "Jose C.",
            "last_name": "Nicolau",
            "orcid": "",
            "raw_affiliation": [
             "Heart Institute (InCor), University of São Paulo Medical School, São Paulo, Brazil"
            ],
            "researcher_id": "ur.0607417223.32"
           },
           {
            "affiliations": [
             {
              "city": "Santiago",
              "city_id": 3871336,
              "country": "Chile",
              "country_code": "CL",
              "id": "grid.7870.8",
              "name": "Pontifical Catholic University of Chile",
              "state": null,
              "state_code": null
             }
            ],
            "corresponding": "",
            "current_organization_id": "grid.7870.8",
            "first_name": "Ramon",
            "last_name": "Corbalan",
            "orcid": "",
            "raw_affiliation": [
             "Cardiovascular Division, Pontificia Universidad Católica de Chile, Santiago, Chile"
            ],
            "researcher_id": "ur.01314551155.35"
           },
           {
            "affiliations": [
             {
              "city": "Wilmington",
              "city_id": 4145381,
              "country": "United States",
              "country_code": "US",
              "id": "grid.418152.b",
              "name": "AstraZeneca (United States)",
              "state": "Delaware",
              "state_code": "US-DE"
             }
            ],
            "corresponding": "",
            "current_organization_id": "grid.418152.b",
            "first_name": "Boaz",
            "last_name": "Hirshberg",
            "orcid": "",
            "raw_affiliation": [
             "AstraZeneca Research and Development, Wilmington, DE"
            ],
            "researcher_id": "ur.01363071334.17"
           },
           {
            "affiliations": [
             {
              "city": "New York",
              "city_id": 5128581,
              "country": "United States",
              "country_code": "US",
              "id": "grid.419971.3",
              "name": "Bristol-Myers Squibb (United States)",
              "state": "New York",
              "state_code": "US-NY"
             }
            ],
            "corresponding": "",
            "current_organization_id": "grid.419971.3",
            "first_name": "Robert",
            "last_name": "Frederich",
            "orcid": "",
            "raw_affiliation": [
             "Bristol-Myers Squibb, Princeton, NJ"
            ],
            "researcher_id": "ur.0663120426.33"
           },
           {
            "affiliations": [
             {
              "city": "Boston",
              "city_id": 4930956,
              "country": "United States",
              "country_code": "US",
              "id": "grid.492942.0",
              "name": "Thrombolysis in Myocardial Infarction Study Group",
              "state": "Massachusetts",
              "state_code": "US-MA"
             }
            ],
            "corresponding": "",
            "current_organization_id": "grid.62560.37",
            "first_name": "KyungAh",
            "last_name": "Im",
            "orcid": "",
            "raw_affiliation": [
             "TIMI Study Group, Cardiovascular Division, Brigham and Women’s Hospital and Harvard Medical School, Boston, MA"
            ],
            "researcher_id": "ur.010501160477.03"
           },
           {
            "affiliations": [
             {
              "city": "Boston",
              "city_id": 4930956,
              "country": "United States",
              "country_code": "US",
              "id": "grid.492942.0",
              "name": "Thrombolysis in Myocardial Infarction Study Group",
              "state": "Massachusetts",
              "state_code": "US-MA"
             }
            ],
            "corresponding": "",
            "current_organization_id": "",
            "first_name": "Amarachi A.",
            "last_name": "Umez-Eronini",
            "orcid": "",
            "raw_affiliation": [
             "TIMI Study Group, Cardiovascular Division, Brigham and Women’s Hospital and Harvard Medical School, Boston, MA"
            ],
            "researcher_id": "ur.01307362113.85"
           },
           {
            "affiliations": [
             {
              "city": "Boston",
              "city_id": 4930956,
              "country": "United States",
              "country_code": "US",
              "id": "grid.492942.0",
              "name": "Thrombolysis in Myocardial Infarction Study Group",
              "state": "Massachusetts",
              "state_code": "US-MA"
             }
            ],
            "corresponding": "",
            "current_organization_id": "grid.62560.37",
            "first_name": "Ping",
            "last_name": "He",
            "orcid": "",
            "raw_affiliation": [
             "TIMI Study Group, Cardiovascular Division, Brigham and Women’s Hospital and Harvard Medical School, Boston, MA"
            ],
            "researcher_id": "ur.0611652136.59"
           },
           {
            "affiliations": [
             {
              "city": "Dallas",
              "city_id": 4684888,
              "country": "United States",
              "country_code": "US",
              "id": "grid.267313.2",
              "name": "The University of Texas Southwestern Medical Center",
              "state": "Texas",
              "state_code": "US-TX"
             }
            ],
            "corresponding": "",
            "current_organization_id": "grid.267313.2",
            "first_name": "Darren K.",
            "last_name": "McGuire",
            "orcid": "['0000-0002-6412-7989']",
            "raw_affiliation": [
             "Division of Cardiovascular Medicine, Department of Internal Medicine, University of Texas Southwestern Medical Center, Dallas, TX"
            ],
            "researcher_id": "ur.0707427032.75"
           },
           {
            "affiliations": [
             {
              "city": "Toronto",
              "city_id": 6167865,
              "country": "Canada",
              "country_code": "CA",
              "id": "grid.17063.33",
              "name": "University of Toronto",
              "state": "Ontario",
              "state_code": "CA-ON"
             }
            ],
            "corresponding": "",
            "current_organization_id": "grid.17063.33",
            "first_name": "Lawrence A.",
            "last_name": "Leiter",
            "orcid": "['0000-0002-1040-6229']",
            "raw_affiliation": [
             "Division of Endocrinology and Metabolism, Keenan Research Centre in the Li Ka Shing Knowledge Institute of St. Michael’s Hospital, University of Toronto, Toronto, Ontario, Canada"
            ],
            "researcher_id": "ur.0661011123.50"
           },
           {
            "affiliations": [
             {
              "city": "Jerusalem",
              "city_id": 281184,
              "country": "Israel",
              "country_code": "IL",
              "id": "grid.17788.31",
              "name": "Hadassah Medical Center",
              "state": null,
              "state_code": null
             }
            ],
            "corresponding": "",
            "current_organization_id": "grid.17788.31",
            "first_name": "Itamar",
            "last_name": "Raz",
            "orcid": "",
            "raw_affiliation": [
             "Diabetes Unit, Division of Internal Medicine, Hadassah Hebrew University Hospital, Jerusalem, Israel"
            ],
            "researcher_id": "ur.01240315114.16"
           },
           {
            "affiliations": [
             {
              "city": "Boston",
              "city_id": 4930956,
              "country": "United States",
              "country_code": "US",
              "id": "grid.492942.0",
              "name": "Thrombolysis in Myocardial Infarction Study Group",
              "state": "Massachusetts",
              "state_code": "US-MA"
             }
            ],
            "corresponding": "",
            "current_organization_id": "grid.62560.37",
            "first_name": "Benjamin M.",
            "last_name": "Scirica",
            "orcid": "",
            "raw_affiliation": [
             "TIMI Study Group, Cardiovascular Division, Brigham and Women’s Hospital and Harvard Medical School, Boston, MA"
            ],
            "researcher_id": "ur.01251365345.81"
           }
          ]
         ],
         "id": "pub.1026853025",
         "issue": "4",
         "journal": {
          "id": "jour.1103715",
          "title": "Diabetes Care"
         },
         "pages": "696-705",
         "title": "Saxagliptin and Cardiovascular Outcomes in Patients With Type 2 Diabetes and Moderate or Severe Renal Impairment: Observations From the SAVOR-TIMI 53 Trial",
         "type": "article",
         "volume": "38",
         "year": 2014
        },
        {
         "author_affiliations": [
          [
           {
            "affiliations": [
             {
              "city": "Graz",
              "city_id": 2778067,
              "country": "Austria",
              "country_code": "AT",
              "id": "grid.410413.3",
              "name": "Graz University of Technology",
              "state": null,
              "state_code": null
             }
            ],
            "corresponding": "",
            "current_organization_id": "grid.410413.3",
            "first_name": "Christian",
            "last_name": "Partl",
            "orcid": "",
            "raw_affiliation": [
             "Graz Univ. of Technol., Graz, Austria"
            ],
            "researcher_id": "ur.01271617752.52"
           },
           {
            "affiliations": [
             {
              "city": "Cambridge",
              "city_id": 4931972,
              "country": "United States",
              "country_code": "US",
              "id": "grid.38142.3c",
              "name": "Harvard University",
              "state": "Massachusetts",
              "state_code": "US-MA"
             }
            ],
            "corresponding": "",
            "current_organization_id": "grid.223827.e",
            "first_name": "Alexander",
            "last_name": "Lex",
            "orcid": "['0000-0001-6930-5468']",
            "raw_affiliation": [
             "Harvard Univ., Cambridge, MA, USA"
            ],
            "researcher_id": "ur.01270207231.43"
           },
           {
            "affiliations": [
             {
              "city": "Linz",
              "city_id": 2772400,
              "country": "Austria",
              "country_code": "AT",
              "id": "grid.9970.7",
              "name": "Johannes Kepler University of Linz",
              "state": null,
              "state_code": null
             }
            ],
            "corresponding": "",
            "current_organization_id": "grid.9970.7",
            "first_name": "Marc",
            "last_name": "Streit",
            "orcid": "['0000-0001-9186-2092']",
            "raw_affiliation": [
             "Johannes Kepler Univ., Linz, Austria"
            ],
            "researcher_id": "ur.01043676571.42"
           },
           {
            "affiliations": [
             {
              "city": "Cambridge",
              "city_id": 4931972,
              "country": "United States",
              "country_code": "US",
              "id": "grid.38142.3c",
              "name": "Harvard University",
              "state": "Massachusetts",
              "state_code": "US-MA"
             }
            ],
            "corresponding": "",
            "current_organization_id": "grid.38142.3c",
            "first_name": "Hendrik",
            "last_name": "Strobelt",
            "orcid": "",
            "raw_affiliation": [
             "Harvard Univ., Cambridge, MA, USA"
            ],
            "researcher_id": "ur.01205126215.55"
           },
           {
            "affiliations": [
             {
              "city": "New York",
              "city_id": 5128581,
              "country": "United States",
              "country_code": "US",
              "id": "grid.418424.f",
              "name": "Novartis (United States)",
              "state": "New York",
              "state_code": "US-NY"
             }
            ],
            "corresponding": "",
            "current_organization_id": "grid.417993.1",
            "first_name": "Anne-Mai",
            "last_name": "Wassermann",
            "orcid": "",
            "raw_affiliation": [
             "Novartis Inst. for BioMedical Res., USA"
            ],
            "researcher_id": "ur.01024677500.05"
           },
           {
            "affiliations": [
             {
              "city": "Cambridge",
              "city_id": 4931972,
              "country": "United States",
              "country_code": "US",
              "id": "grid.38142.3c",
              "name": "Harvard University",
              "state": "Massachusetts",
              "state_code": "US-MA"
             }
            ],
            "corresponding": "",
            "current_organization_id": "grid.38142.3c",
            "first_name": "Hanspeter",
            "last_name": "Pfister",
            "orcid": "['0000-0002-3620-2582']",
            "raw_affiliation": [
             "Harvard Univ., Cambridge, MA, USA"
            ],
            "researcher_id": "ur.01236251211.88"
           },
           {
            "affiliations": [
             {
              "city": "Graz",
              "city_id": 2778067,
              "country": "Austria",
              "country_code": "AT",
              "id": "grid.410413.3",
              "name": "Graz University of Technology",
              "state": null,
              "state_code": null
             }
            ],
            "corresponding": "",
            "current_organization_id": "grid.410413.3",
            "first_name": "Dieter",
            "last_name": "Schmalstieg",
            "orcid": "",
            "raw_affiliation": [
             "Graz Univ. of Technol., Graz, Austria"
            ],
            "researcher_id": "ur.01155321037.06"
           }
          ]
         ],
         "id": "pub.1049699530",
         "issue": "12",
         "journal": {
          "id": "jour.1135168",
          "title": "IEEE Transactions on Visualization and Computer Graphics"
         },
         "pages": "1883-1892",
         "title": "ConTour: Data-Driven Exploration of Multi-Relational Datasets for Drug Discovery",
         "type": "article",
         "volume": "20",
         "year": 2014
        },
        {
         "author_affiliations": [
          [
           {
            "affiliations": [
             {
              "city": "Kenilworth",
              "city_id": 5100007,
              "country": "United States",
              "country_code": "US",
              "id": "grid.417993.1",
              "name": "MSD (United States)",
              "state": "New Jersey",
              "state_code": "US-NJ"
             }
            ],
            "corresponding": "",
            "current_organization_id": "grid.417993.1",
            "first_name": "A. Lawrence",
            "last_name": "Gould",
            "orcid": "",
            "raw_affiliation": [
             "Merck Research Laboratories, 770 Sumneytown Pike, West Point, PA 19486, USA"
            ],
            "researcher_id": "ur.01230015576.33"
           }
          ]
         ],
         "id": "pub.1026020570",
         "pages": "1-21",
         "title": "Introduction",
         "type": "chapter",
         "year": 2014
        },
        {
         "author_affiliations": [
          [
           {
            "affiliations": [
             {
              "city": "Kenilworth",
              "city_id": 5100007,
              "country": "United States",
              "country_code": "US",
              "id": "grid.417993.1",
              "name": "MSD (United States)",
              "state": "New Jersey",
              "state_code": "US-NJ"
             }
            ],
            "corresponding": "",
            "current_organization_id": "grid.417993.1",
            "first_name": "A. Lawrence",
            "last_name": "Gould",
            "orcid": "",
            "raw_affiliation": [
             "Merck Research Laboratories, 770 Sumneytown Pike, West Point, PA 19486, USA"
            ],
            "researcher_id": "ur.01230015576.33"
           }
          ]
         ],
         "id": "pub.1040315843",
         "pages": "122-179",
         "title": "Summarizing adverse event risk",
         "type": "chapter",
         "year": 2014
        },
        {
         "author_affiliations": [
          [
           {
            "affiliations": [
             {
              "city": "Kenilworth",
              "city_id": 5100007,
              "country": "United States",
              "country_code": "US",
              "id": "grid.417993.1",
              "name": "MSD (United States)",
              "state": "New Jersey",
              "state_code": "US-NJ"
             }
            ],
            "corresponding": "",
            "current_organization_id": "grid.417993.1",
            "first_name": "A. Lawrence",
            "last_name": "Gould",
            "orcid": "",
            "raw_affiliation": [
             "Merck Research Laboratories, 770 Sumneytown Pike, West Point, PA 19486, USA"
            ],
            "researcher_id": "ur.01230015576.33"
           }
          ]
         ],
         "id": "pub.1052757054",
         "pages": "22-65",
         "title": "Safety graphics",
         "type": "chapter",
         "year": 2014
        },
        {
         "author_affiliations": [
          [
           {
            "affiliations": [
             {
              "name": "Dept. of Comput.-Aided Med. Procedures, Tech. Univ. Munchen, Mu&#x0308;nchen, Germany"
             }
            ],
            "corresponding": "",
            "current_organization_id": "grid.6936.a",
            "first_name": "Christian Schulte zu",
            "last_name": "Berge",
            "orcid": "",
            "raw_affiliation": [
             "Dept. of Comput.-Aided Med. Procedures, Tech. Univ. Munchen, Mu&#x0308;nchen, Germany"
            ],
            "researcher_id": "ur.013373314215.28"
           },
           {
            "affiliations": [
             {
              "name": "Dept. of Comput.-Aided Med. Procedures, Tech. Univ. Munchen, Mu&#x0308;nchen, Germany"
             }
            ],
            "corresponding": "",
            "current_organization_id": "grid.6936.a",
            "first_name": "Maximilian",
            "last_name": "Baust",
            "orcid": "",
            "raw_affiliation": [
             "Dept. of Comput.-Aided Med. Procedures, Tech. Univ. Munchen, Mu&#x0308;nchen, Germany"
            ],
            "researcher_id": "ur.01073776466.31"
           },
           {
            "affiliations": [
             {
              "city": "Princeton",
              "city_id": 5102922,
              "country": "United States",
              "country_code": "US",
              "id": "grid.419233.e",
              "name": "Siemens (United States)",
              "state": "New Jersey",
              "state_code": "US-NJ"
             }
            ],
            "corresponding": "",
            "current_organization_id": "grid.419233.e",
            "first_name": "Ankur",
            "last_name": "Kapoor",
            "orcid": "",
            "raw_affiliation": [
             "Imaging &amp; Comput. Vision, Siemens Corp., Princeton, NJ, USA"
            ],
            "researcher_id": "ur.013364016465.49"
           },
           {
            "affiliations": [
             {
              "name": "Dept. of Comput.-Aided Med. Procedures, Tech. Univ. Munchen, Mu&#x0308;nchen, Germany"
             }
            ],
            "corresponding": "",
            "current_organization_id": "grid.6936.a",
            "first_name": "Nassir",
            "last_name": "Navab",
            "orcid": "",
            "raw_affiliation": [
             "Dept. of Comput.-Aided Med. Procedures, Tech. Univ. Munchen, Mu&#x0308;nchen, Germany"
            ],
            "researcher_id": "ur.01275015030.20"
           }
          ]
         ],
         "id": "pub.1061814269",
         "issue": "12",
         "journal": {
          "id": "jour.1135168",
          "title": "IEEE Transactions on Visualization and Computer Graphics"
         },
         "pages": "2379-2387",
         "title": "Predicate-Based Focus-and-Context Visualization for 3D Ultrasound",
         "type": "article",
         "volume": "20",
         "year": 2014
        },
        {
         "author_affiliations": [
          [
           {
            "affiliations": [
             {
              "city": "Kenilworth",
              "city_id": 5100007,
              "country": "United States",
              "country_code": "US",
              "id": "grid.417993.1",
              "name": "MSD (United States)",
              "state": "New Jersey",
              "state_code": "US-NJ"
             }
            ],
            "corresponding": "",
            "current_organization_id": "grid.417993.1",
            "first_name": "A. Lawrence",
            "last_name": "Gould",
            "orcid": "",
            "raw_affiliation": [
             "Merck Research Laboratories, 770 Sumneytown Pike, West Point, PA, 19486, USA"
            ],
            "researcher_id": "ur.01230015576.33"
           }
          ]
         ],
         "id": "pub.1033398941",
         "pages": "345-360",
         "title": "Pharmacovigilance using observational/longitudinal databases and web‐based information",
         "type": "chapter",
         "year": 2014
        },
        {
         "author_affiliations": [
          [
           {
            "affiliations": [
             {
              "city": "Creve Coeur",
              "city_id": 4382837,
              "country": "United States",
              "country_code": "US",
              "id": "grid.418554.9",
              "name": "Monsanto (United States)",
              "state": "Missouri",
              "state_code": "US-MO"
             }
            ],
            "corresponding": "",
            "current_organization_id": "grid.418554.9",
            "first_name": "Changlin",
            "last_name": "Fu",
            "orcid": "",
            "raw_affiliation": [
             "Biotechnology, Monsanto Company, St. Louis, Missouri, United States of America"
            ],
            "researcher_id": "ur.01317545147.24"
           },
           {
            "affiliations": [
             {
              "city": "Creve Coeur",
              "city_id": 4382837,
              "country": "United States",
              "country_code": "US",
              "id": "grid.418554.9",
              "name": "Monsanto (United States)",
              "state": "Missouri",
              "state_code": "US-MO"
             }
            ],
            "corresponding": "",
            "current_organization_id": "grid.418554.9",
            "first_name": "William P.",
            "last_name": "Donovan",
            "orcid": "",
            "raw_affiliation": [
             "Biotechnology, Monsanto Company, St. Louis, Missouri, United States of America"
            ],
            "researcher_id": "ur.01172107756.98"
           },
           {
            "affiliations": [
             {
              "city": "Creve Coeur",
              "city_id": 4382837,
              "country": "United States",
              "country_code": "US",
              "id": "grid.418554.9",
              "name": "Monsanto (United States)",
              "state": "Missouri",
              "state_code": "US-MO"
             }
            ],
            "corresponding": "",
            "current_organization_id": "",
            "first_name": "Olga",
            "last_name": "Shikapwashya-Hasser",
            "orcid": "",
            "raw_affiliation": [
             "Biotechnology, Monsanto Company, St. Louis, Missouri, United States of America"
            ],
            "researcher_id": ""
           },
           {
            "affiliations": [
             {
              "city": "Creve Coeur",
              "city_id": 4382837,
              "country": "United States",
              "country_code": "US",
              "id": "grid.418554.9",
              "name": "Monsanto (United States)",
              "state": "Missouri",
              "state_code": "US-MO"
             }
            ],
            "corresponding": "",
            "current_organization_id": "grid.418554.9",
            "first_name": "Xudong",
            "last_name": "Ye",
            "orcid": "['0000-0001-5104-6947']",
            "raw_affiliation": [
             "Biotechnology, Monsanto Company, St. Louis, Missouri, United States of America"
            ],
            "researcher_id": "ur.0645573575.16"
           },
           {
            "affiliations": [
             {
              "city": "Creve Coeur",
              "city_id": 4382837,
              "country": "United States",
              "country_code": "US",
              "id": "grid.418554.9",
              "name": "Monsanto (United States)",
              "state": "Missouri",
              "state_code": "US-MO"
             }
            ],
            "corresponding": "",
            "current_organization_id": "",
            "first_name": "Robert H.",
            "last_name": "Cole",
            "orcid": "",
            "raw_affiliation": [
             "Biotechnology, Monsanto Company, St. Louis, Missouri, United States of America"
            ],
            "researcher_id": ""
           }
          ]
         ],
         "id": "pub.1021078144",
         "issue": "12",
         "journal": {
          "id": "jour.1037553",
          "title": "PLoS ONE"
         },
         "pages": "e115318",
         "title": "Hot Fusion: An Efficient Method to Clone Multiple DNA Fragments as Well as Inverted Repeats without Ligase",
         "type": "article",
         "volume": "9",
         "year": 2014
        },
        {
         "author_affiliations": [
          [
           {
            "affiliations": [
             {
              "city": "Bordeaux",
              "city_id": 3031582,
              "country": "France",
              "country_code": "FR",
              "id": "grid.412041.2",
              "name": "University of Bordeaux",
              "state": null,
              "state_code": null
             }
            ],
            "corresponding": "",
            "current_organization_id": "",
            "first_name": "Nicholas",
            "last_name": "Derval",
            "orcid": "",
            "raw_affiliation": [
             "Department of Cardiac Electrophysiology, Hôpital Cardiologique du Haut-Lévêque and Université Victor Segalen Bordeaux II, Bordeaux, France."
            ],
            "researcher_id": ""
           },
           {
            "affiliations": [
             {
              "city": "Bordeaux",
              "city_id": 3031582,
              "country": "France",
              "country_code": "FR",
              "id": "grid.412041.2",
              "name": "University of Bordeaux",
              "state": null,
              "state_code": null
             }
            ],
            "corresponding": "",
            "current_organization_id": "grid.416979.4",
            "first_name": "Darren",
            "last_name": "Hooks",
            "orcid": "",
            "raw_affiliation": [
             "Department of Cardiac Electrophysiology, Hôpital Cardiologique du Haut-Lévêque and Université Victor Segalen Bordeaux II, Bordeaux, France."
            ],
            "researcher_id": "ur.01265017500.54"
           },
           {
            "affiliations": [
             {
              "city": "Saint Paul",
              "city_id": 5045360,
              "country": "United States",
              "country_code": "US",
              "id": "grid.453884.6",
              "name": "St. Jude Medical (United States)",
              "state": "Minnesota",
              "state_code": "US-MN"
             }
            ],
            "corresponding": "",
            "current_organization_id": "grid.94365.3d",
            "first_name": "Steven",
            "last_name": "Kim",
            "orcid": "",
            "raw_affiliation": [
             "St. Jude Medical, Inc., St. Paul, MN, USA."
            ],
            "researcher_id": "ur.01014501741.90"
           },
           {
            "affiliations": [
             {
              "city": "Saint Paul",
              "city_id": 5045360,
              "country": "United States",
              "country_code": "US",
              "id": "grid.453884.6",
              "name": "St. Jude Medical (United States)",
              "state": "Minnesota",
              "state_code": "US-MN"
             }
            ],
            "corresponding": "",
            "current_organization_id": "",
            "first_name": "Melissa",
            "last_name": "Sjoquist",
            "orcid": "",
            "raw_affiliation": [
             "St. Jude Medical, Inc., St. Paul, MN, USA."
            ],
            "researcher_id": ""
           },
           {
            "affiliations": [
             {
              "city": "Saint Paul",
              "city_id": 5045360,
              "country": "United States",
              "country_code": "US",
              "id": "grid.453884.6",
              "name": "St. Jude Medical (United States)",
              "state": "Minnesota",
              "state_code": "US-MN"
             }
            ],
            "corresponding": "",
            "current_organization_id": "grid.417574.4",
            "first_name": "Srijoy",
            "last_name": "Mahapatra",
            "orcid": "",
            "raw_affiliation": [
             "St. Jude Medical, Inc., St. Paul, MN, USA."
            ],
            "researcher_id": "ur.0662457300.16"
           },
           {
            "affiliations": [
             {
              "city": "Bordeaux",
              "city_id": 3031582,
              "country": "France",
              "country_code": "FR",
              "id": "grid.412041.2",
              "name": "University of Bordeaux",
              "state": null,
              "state_code": null
             }
            ],
            "corresponding": "",
            "current_organization_id": "",
            "first_name": "Fred",
            "last_name": "Sacher",
            "orcid": "",
            "raw_affiliation": [
             "Department of Cardiac Electrophysiology, Hôpital Cardiologique du Haut-Lévêque and Université Victor Segalen Bordeaux II, Bordeaux, France."
            ],
            "researcher_id": ""
           },
           {
            "affiliations": [
             {
              "city": "Bordeaux",
              "city_id": 3031582,
              "country": "France",
              "country_code": "FR",
              "id": "grid.412041.2",
              "name": "University of Bordeaux",
              "state": null,
              "state_code": null
             }
            ],
            "corresponding": "",
            "current_organization_id": "grid.412041.2",
            "first_name": "Pierre",
            "last_name": "Jais",
            "orcid": "",
            "raw_affiliation": [
             "Department of Cardiac Electrophysiology, Hôpital Cardiologique du Haut-Lévêque and Université Victor Segalen Bordeaux II, Bordeaux, France."
            ],
            "researcher_id": "ur.01130173603.27"
           }
          ]
         ],
         "id": "pub.1079375684",
         "issue": "4",
         "journal": {
          "id": "jour.1042072",
          "title": "Journal of Atrial Fibrillation"
         },
         "pages": "1204",
         "title": "Initial Experience with A Novel Flexible-Tip Irrigated Ablation Catheter in a Case of Paroxysmal Atrial Fibrillation.",
         "type": "article",
         "volume": "7",
         "year": 2014
        },
        {
         "author_affiliations": [
          [
           {
            "affiliations": [
             {
              "city": "Ingelheim am Rhein",
              "city_id": 2896020,
              "country": "Germany",
              "country_code": "DE",
              "id": "grid.420061.1",
              "name": "Boehringer Ingelheim (Germany)",
              "state": null,
              "state_code": null
             }
            ],
            "corresponding": "",
            "current_organization_id": "",
            "first_name": "Silke",
            "last_name": "Uhrig-Schmidt",
            "orcid": "",
            "raw_affiliation": [
             "Boehringer Ingelheim Pharma GmbH & Co. KG, Biberach an der Riss, Germany"
            ],
            "researcher_id": ""
           },
           {
            "affiliations": [
             {
              "city": "Zurich",
              "city_id": 2657896,
              "country": "Switzerland",
              "country_code": "CH",
              "id": "grid.5801.c",
              "name": "Swiss Federal Institute of Technology in Zurich",
              "state": null,
              "state_code": null
             }
            ],
            "corresponding": "",
            "current_organization_id": "grid.5801.c",
            "first_name": "Matthias",
            "last_name": "Geiger",
            "orcid": "",
            "raw_affiliation": [
             "Swiss Federal Institute of Technology, ETH Zurich, SLA C92, Institute of Food Nutrition and Health, Schwerzenbach, Switzerland"
            ],
            "researcher_id": "ur.0741555372.05"
           },
           {
            "affiliations": [
             {
              "city": "Ingelheim am Rhein",
              "city_id": 2896020,
              "country": "Germany",
              "country_code": "DE",
              "id": "grid.420061.1",
              "name": "Boehringer Ingelheim (Germany)",
              "state": null,
              "state_code": null
             }
            ],
            "corresponding": "",
            "current_organization_id": "grid.420061.1",
            "first_name": "Gerd",
            "last_name": "Luippold",
            "orcid": "",
            "raw_affiliation": [
             "Boehringer Ingelheim Pharma GmbH & Co. KG, Biberach an der Riss, Germany"
            ],
            "researcher_id": "ur.0766616751.41"
           },
           {
            "affiliations": [
             {
              "city": "Ingelheim am Rhein",
              "city_id": 2896020,
              "country": "Germany",
              "country_code": "DE",
              "id": "grid.420061.1",
              "name": "Boehringer Ingelheim (Germany)",
              "state": null,
              "state_code": null
             }
            ],
            "corresponding": "",
            "current_organization_id": "grid.420061.1",
            "first_name": "Gerald",
            "last_name": "Birk",
            "orcid": "",
            "raw_affiliation": [
             "Boehringer Ingelheim Pharma GmbH & Co. KG, Biberach an der Riss, Germany"
            ],
            "researcher_id": "ur.0721112543.08"
           },
           {
            "affiliations": [
             {
              "city": "Ingelheim am Rhein",
              "city_id": 2896020,
              "country": "Germany",
              "country_code": "DE",
              "id": "grid.420061.1",
              "name": "Boehringer Ingelheim (Germany)",
              "state": null,
              "state_code": null
             }
            ],
            "corresponding": "",
            "current_organization_id": "grid.418412.a",
            "first_name": "Detlev",
            "last_name": "Mennerich",
            "orcid": "",
            "raw_affiliation": [
             "Boehringer Ingelheim Pharma GmbH & Co. KG, Biberach an der Riss, Germany"
            ],
            "researcher_id": "ur.01111505504.22"
           },
           {
            "affiliations": [
             {
              "city": "Ingelheim am Rhein",
              "city_id": 2896020,
              "country": "Germany",
              "country_code": "DE",
              "id": "grid.420061.1",
              "name": "Boehringer Ingelheim (Germany)",
              "state": null,
              "state_code": null
             }
            ],
            "corresponding": "",
            "current_organization_id": "grid.420061.1",
            "first_name": "Heike",
            "last_name": "Neubauer",
            "orcid": "",
            "raw_affiliation": [
             "Boehringer Ingelheim Pharma GmbH & Co. KG, Biberach an der Riss, Germany"
            ],
            "researcher_id": "ur.01216136124.94"
           },
           {
            "affiliations": [
             {
              "city": "Heidelberg",
              "city_id": 2907911,
              "country": "Germany",
              "country_code": "DE",
              "id": "grid.7700.0",
              "name": "Heidelberg University",
              "state": null,
              "state_code": null
             }
            ],
            "corresponding": "",
            "current_organization_id": "grid.5253.1",
            "first_name": "Dirk",
            "last_name": "Grimm",
            "orcid": "",
            "raw_affiliation": [
             "Centre for Infectious Diseases/Virology, Heidelberg University Hospital and Cluster of Excellence CellNetworks, Heidelberg University, Im Neuenheimer Feld 267, Heidelberg, Germany"
            ],
            "researcher_id": "ur.01270621631.76"
           },
           {
            "affiliations": [
             {
              "city": "Zurich",
              "city_id": 2657896,
              "country": "Switzerland",
              "country_code": "CH",
              "id": "grid.5801.c",
              "name": "Swiss Federal Institute of Technology in Zurich",
              "state": null,
              "state_code": null
             }
            ],
            "corresponding": "",
            "current_organization_id": "grid.5801.c",
            "first_name": "Christian",
            "last_name": "Wolfrum",
            "orcid": "",
            "raw_affiliation": [
             "Swiss Federal Institute of Technology, ETH Zurich, SLA C92, Institute of Food Nutrition and Health, Schwerzenbach, Switzerland"
            ],
            "researcher_id": "ur.01062751646.14"
           },
           {
            "affiliations": [
             {
              "city": "Ingelheim am Rhein",
              "city_id": 2896020,
              "country": "Germany",
              "country_code": "DE",
              "id": "grid.420061.1",
              "name": "Boehringer Ingelheim (Germany)",
              "state": null,
              "state_code": null
             }
            ],
            "corresponding": "",
            "current_organization_id": "grid.420061.1",
            "first_name": "Sebastian",
            "last_name": "Kreuz",
            "orcid": "",
            "raw_affiliation": [
             "Boehringer Ingelheim Pharma GmbH & Co. KG, Biberach an der Riss, Germany"
            ],
            "researcher_id": "ur.0655530550.35"
           }
          ]
         ],
         "id": "pub.1013171743",
         "issue": "12",
         "journal": {
          "id": "jour.1037553",
          "title": "PLoS ONE"
         },
         "pages": "e116288",
         "title": "Gene Delivery to Adipose Tissue Using Transcriptionally Targeted rAAV8 Vectors",
         "type": "article",
         "volume": "9",
         "year": 2014
        },
        {
         "author_affiliations": [
          [
           {
            "affiliations": [
             {
              "city": "Kenilworth",
              "city_id": 5100007,
              "country": "United States",
              "country_code": "US",
              "id": "grid.417993.1",
              "name": "MSD (United States)",
              "state": "New Jersey",
              "state_code": "US-NJ"
             }
            ],
            "corresponding": "",
            "current_organization_id": "grid.417993.1",
            "first_name": "A. Lawrence",
            "last_name": "Gould",
            "orcid": "",
            "raw_affiliation": [
             "Merck Research Laboratories, 770 Sumneytown Pike, West Point, PA 19486, USA"
            ],
            "researcher_id": "ur.01230015576.33"
           }
          ]
         ],
         "id": "pub.1020309919",
         "pages": "99-121",
         "title": "Phase 1 trials",
         "type": "chapter",
         "year": 2014
        },
        {
         "author_affiliations": [
          [
           {
            "affiliations": [
             {
              "city": "New Haven",
              "city_id": 4839366,
              "country": "United States",
              "country_code": "US",
              "id": "grid.47100.32",
              "name": "Yale University",
              "state": "Connecticut",
              "state_code": "US-CT"
             }
            ],
            "corresponding": "",
            "current_organization_id": "grid.214007.0",
            "first_name": "Patrick J.",
            "last_name": "McEnaney",
            "orcid": "",
            "raw_affiliation": [
             "Department of Chemistry, Yale University, 225 Prospect Street, New Haven, Connecticut 06511, United States"
            ],
            "researcher_id": "ur.0673553001.53"
           },
           {
            "affiliations": [
             {
              "city": "New Haven",
              "city_id": 4839366,
              "country": "United States",
              "country_code": "US",
              "id": "grid.47100.32",
              "name": "Yale University",
              "state": "Connecticut",
              "state_code": "US-CT"
             }
            ],
            "corresponding": "",
            "current_organization_id": "grid.47100.32",
            "first_name": "Kelly J.",
            "last_name": "Fitzgerald",
            "orcid": "",
            "raw_affiliation": [
             "Department of Pharmacology, Yale Medical School, 333 Cedar Street, New Haven, Connecticut 06510, United States"
            ],
            "researcher_id": "ur.0746346705.84"
           },
           {
            "affiliations": [
             {
              "city": "New Haven",
              "city_id": 4839366,
              "country": "United States",
              "country_code": "US",
              "id": "grid.47100.32",
              "name": "Yale University",
              "state": "Connecticut",
              "state_code": "US-CT"
             }
            ],
            "corresponding": "",
            "current_organization_id": "",
            "first_name": "Andrew X.",
            "last_name": "Zhang",
            "orcid": "",
            "raw_affiliation": [
             "Department of Chemistry, Yale University, 225 Prospect Street, New Haven, Connecticut 06511, United States"
            ],
            "researcher_id": "ur.01110751535.89"
           },
           {
            "affiliations": [
             {
              "city": "New Haven",
              "city_id": 4839366,
              "country": "United States",
              "country_code": "US",
              "id": "grid.47100.32",
              "name": "Yale University",
              "state": "Connecticut",
              "state_code": "US-CT"
             }
            ],
            "corresponding": "",
            "current_organization_id": "grid.21729.3f",
            "first_name": "Eugene F.",
            "last_name": "Douglass",
            "orcid": "['0000-0003-3418-9203']",
            "raw_affiliation": [
             "Department of Chemistry, Yale University, 225 Prospect Street, New Haven, Connecticut 06511, United States"
            ],
            "researcher_id": "ur.0674747136.91"
           },
           {
            "affiliations": [
             {
              "city": "New York",
              "city_id": 5128581,
              "country": "United States",
              "country_code": "US",
              "id": "grid.419971.3",
              "name": "Bristol-Myers Squibb (United States)",
              "state": "New York",
              "state_code": "US-NY"
             }
            ],
            "corresponding": "",
            "current_organization_id": "grid.419971.3",
            "first_name": "Weifang",
            "last_name": "Shan",
            "orcid": "",
            "raw_affiliation": [
             "Bristol-Myers Squibb Research and Development, P.O. Box 4000, Princeton, New Jersey 08543, United States"
            ],
            "researcher_id": "ur.01313407477.70"
           },
           {
            "affiliations": [
             {
              "city": "New York",
              "city_id": 5128581,
              "country": "United States",
              "country_code": "US",
              "id": "grid.419971.3",
              "name": "Bristol-Myers Squibb (United States)",
              "state": "New York",
              "state_code": "US-NY"
             }
            ],
            "corresponding": "",
            "current_organization_id": "grid.419971.3",
            "first_name": "Aaron",
            "last_name": "Balog",
            "orcid": "['0000-0002-1774-0596']",
            "raw_affiliation": [
             "Bristol-Myers Squibb Research and Development, P.O. Box 4000, Princeton, New Jersey 08543, United States"
            ],
            "researcher_id": "ur.0604435336.40"
           },
           {
            "affiliations": [
             {
              "city": "New Haven",
              "city_id": 4839366,
              "country": "United States",
              "country_code": "US",
              "id": "grid.47100.32",
              "name": "Yale University",
              "state": "Connecticut",
              "state_code": "US-CT"
             }
            ],
            "corresponding": "",
            "current_organization_id": "grid.450467.4",
            "first_name": "Mariya D.",
            "last_name": "Kolesnikova",
            "orcid": "",
            "raw_affiliation": [
             "Department of Chemistry, Yale University, 225 Prospect Street, New Haven, Connecticut 06511, United States"
            ],
            "researcher_id": "ur.0700534222.25"
           },
           {
            "affiliations": [
             {
              "city": "New Haven",
              "city_id": 4839366,
              "country": "United States",
              "country_code": "US",
              "id": "grid.47100.32",
              "name": "Yale University",
              "state": "Connecticut",
              "state_code": "US-CT"
             }
            ],
            "corresponding": "",
            "current_organization_id": "grid.47100.32",
            "first_name": "David A.",
            "last_name": "Spiegel",
            "orcid": "",
            "raw_affiliation": [
             "Department of Chemistry, Yale University, 225 Prospect Street, New Haven, Connecticut 06511, United States",
             "Department of Pharmacology, Yale Medical School, 333 Cedar Street, New Haven, Connecticut 06510, United States"
            ],
            "researcher_id": "ur.0745443525.71"
           }
          ]
         ],
         "id": "pub.1052487039",
         "issue": "52",
         "journal": {
          "id": "jour.1081898",
          "title": "Journal of the American Chemical Society"
         },
         "pages": "18034-43",
         "title": "Chemically synthesized molecules with the targeting and effector functions of antibodies.",
         "type": "article",
         "volume": "136",
         "year": 2014
        },
        {
         "author_affiliations": [
          [
           {
            "affiliations": [
             {
              "city": "Kenilworth",
              "city_id": 5100007,
              "country": "United States",
              "country_code": "US",
              "id": "grid.417993.1",
              "name": "MSD (United States)",
              "state": "New Jersey",
              "state_code": "US-NJ"
             }
            ],
            "corresponding": "",
            "current_organization_id": "grid.417993.1",
            "first_name": "Andy",
            "last_name": "Liaw",
            "orcid": "",
            "raw_affiliation": [
             "Biometrics Research, Merck & Co., Inc, Rahway, NJ 07065, USA"
            ],
            "researcher_id": "ur.01075467643.24"
           },
           {
            "affiliations": [
             {
              "city": "Kenilworth",
              "city_id": 5100007,
              "country": "United States",
              "country_code": "US",
              "id": "grid.417993.1",
              "name": "MSD (United States)",
              "state": "New Jersey",
              "state_code": "US-NJ"
             }
            ],
            "corresponding": "",
            "current_organization_id": "grid.417993.1",
            "first_name": "Vladimir",
            "last_name": "Svetnik",
            "orcid": "",
            "raw_affiliation": [
             "Biometrics Research, Merck & Co., Inc, Rahway, NJ 07065, USA"
            ],
            "researcher_id": "ur.01014406101.34"
           }
          ]
         ],
         "id": "pub.1004971044",
         "pages": "66-83",
         "title": "QSAR modeling: prediction of biological activity from chemical structure",
         "type": "chapter",
         "year": 2014
        },
        {
         "author_affiliations": [
          [
           {
            "affiliations": [
             {
              "city": "Kenilworth",
              "city_id": 5100007,
              "country": "United States",
              "country_code": "US",
              "id": "grid.417993.1",
              "name": "MSD (United States)",
              "state": "New Jersey",
              "state_code": "US-NJ"
             }
            ],
            "corresponding": "",
            "current_organization_id": "grid.417993.1",
            "first_name": "A. Lawrence",
            "last_name": "Gould",
            "orcid": "",
            "raw_affiliation": [
             "Merck Research Laboratories, 770 Sumneytown Pike, West Point, PA, 19486, USA"
            ],
            "researcher_id": "ur.01230015576.33"
           }
          ]
         ],
         "id": "pub.1020271526",
         "pages": "271-292",
         "title": "Neurotoxicity",
         "type": "chapter",
         "year": 2014
        },
        {
         "author_affiliations": [
          [
           {
            "affiliations": [
             {
              "city": "Albany",
              "city_id": 5106834,
              "country": "United States",
              "country_code": "US",
              "id": "grid.465232.4",
              "name": "Plant Gene Expression Center",
              "state": "New York",
              "state_code": "US-NY"
             }
            ],
            "corresponding": "",
            "current_organization_id": "grid.65519.3e",
            "first_name": "George S.",
            "last_name": "Chuck",
            "orcid": "",
            "raw_affiliation": [
             "Plant Gene Expression Center, Albany, CA 94710;"
            ],
            "researcher_id": "ur.0672043341.08"
           },
           {
            "affiliations": [
             {
              "city": "Urbana",
              "city_id": 4914570,
              "country": "United States",
              "country_code": "US",
              "id": "grid.35403.31",
              "name": "University of Illinois at Urbana Champaign",
              "state": "Illinois",
              "state_code": "US-IL"
             }
            ],
            "corresponding": "",
            "current_organization_id": "grid.27860.3b",
            "first_name": "Patrick J.",
            "last_name": "Brown",
            "orcid": "['0000-0003-1332-711X']",
            "raw_affiliation": [
             "Department of Crop Sciences, University of Illinois, Urbana, IL 61801; and"
            ],
            "researcher_id": "ur.01353725126.03"
           },
           {
            "affiliations": [
             {
              "city": "Johnston",
              "city_id": 4862760,
              "country": "United States",
              "country_code": "US",
              "id": "grid.292487.2",
              "name": "Pioneer Hi-Bred",
              "state": "Iowa",
              "state_code": "US-IA"
             }
            ],
            "corresponding": "",
            "current_organization_id": "grid.292487.2",
            "first_name": "Robert",
            "last_name": "Meeley",
            "orcid": "",
            "raw_affiliation": [
             "Pioneer Hi-Bred International, Johnston, IA 50131"
            ],
            "researcher_id": "ur.01072725665.80"
           },
           {
            "affiliations": [
             {
              "city": "Albany",
              "city_id": 5106834,
              "country": "United States",
              "country_code": "US",
              "id": "grid.465232.4",
              "name": "Plant Gene Expression Center",
              "state": "New York",
              "state_code": "US-NY"
             }
            ],
            "corresponding": "",
            "current_organization_id": "grid.47840.3f",
            "first_name": "Sarah",
            "last_name": "Hake",
            "orcid": "['0000-0001-6953-1529']",
            "raw_affiliation": [
             "Plant Gene Expression Center, Albany, CA 94710;"
            ],
            "researcher_id": "ur.01070070270.47"
           }
          ]
         ],
         "id": "pub.1006936539",
         "issue": "52",
         "journal": {
          "id": "jour.1082971",
          "title": "Proceedings of the National Academy of Sciences"
         },
         "pages": "18775-18780",
         "title": "Maize SBP-box transcription factors unbranched2 and unbranched3 affect yield traits by regulating the rate of lateral primordia initiation",
         "type": "article",
         "volume": "111",
         "year": 2014
        },
        {
         "author_affiliations": [
          [
           {
            "affiliations": [
             {
              "name": "Early Stage Pharmaceutical Development Department,"
             }
            ],
            "corresponding": "",
            "current_organization_id": "grid.418158.1",
            "first_name": "Vikas K.",
            "last_name": "Sharma",
            "orcid": "",
            "raw_affiliation": [
             "Early Stage Pharmaceutical Development Department,"
            ],
            "researcher_id": "ur.01222523520.02"
           },
           {
            "affiliations": [
             {
              "name": "Early Stage Pharmaceutical Development Department,"
             }
            ],
            "corresponding": "",
            "current_organization_id": "grid.418158.1",
            "first_name": "Thomas W.",
            "last_name": "Patapoff",
            "orcid": "",
            "raw_affiliation": [
             "Early Stage Pharmaceutical Development Department,"
            ],
            "researcher_id": "ur.01337151647.27"
           },
           {
            "affiliations": [
             {
              "name": "Early Stage Pharmaceutical Development Department,"
             }
            ],
            "corresponding": "",
            "current_organization_id": "grid.418158.1",
            "first_name": "Bruce",
            "last_name": "Kabakoff",
            "orcid": "",
            "raw_affiliation": [
             "Early Stage Pharmaceutical Development Department,"
            ],
            "researcher_id": "ur.01116576336.11"
           },
           {
            "affiliations": [
             {
              "name": "Early Stage Pharmaceutical Development Department,"
             }
            ],
            "corresponding": "",
            "current_organization_id": "",
            "first_name": "Satyan",
            "last_name": "Pai",
            "orcid": "",
            "raw_affiliation": [
             "Early Stage Pharmaceutical Development Department,"
            ],
            "researcher_id": ""
           },
           {
            "affiliations": [
             {
              "name": "Early Stage Pharmaceutical Development Department,"
             }
            ],
            "corresponding": "",
            "current_organization_id": "",
            "first_name": "Eric",
            "last_name": "Hilario",
            "orcid": "",
            "raw_affiliation": [
             "Early Stage Pharmaceutical Development Department,"
            ],
            "researcher_id": "ur.01066220070.13"
           },
           {
            "affiliations": [
             {
              "name": "Protein Analytical Chemistry, and"
             }
            ],
            "corresponding": "",
            "current_organization_id": "grid.418158.1",
            "first_name": "Boyan",
            "last_name": "Zhang",
            "orcid": "",
            "raw_affiliation": [
             "Protein Analytical Chemistry, and"
            ],
            "researcher_id": "ur.01007561741.81"
           },
           {
            "affiliations": [
             {
              "name": "Protein Analytical Chemistry, and"
             }
            ],
            "corresponding": "",
            "current_organization_id": "grid.418158.1",
            "first_name": "Charlene",
            "last_name": "Li",
            "orcid": "",
            "raw_affiliation": [
             "Protein Analytical Chemistry, and"
            ],
            "researcher_id": "ur.01162157415.45"
           },
           {
            "affiliations": [
             {
              "name": "Protein Analytical Chemistry, and"
             }
            ],
            "corresponding": "",
            "current_organization_id": "",
            "first_name": "Oleg",
            "last_name": "Borisov",
            "orcid": "",
            "raw_affiliation": [
             "Protein Analytical Chemistry, and"
            ],
            "researcher_id": ""
           },
           {
            "affiliations": [
             {
              "city": "Nutley",
              "city_id": 5102076,
              "country": "United States",
              "country_code": "US",
              "id": "grid.418158.1",
              "name": "Roche (United States)",
              "state": "New Jersey",
              "state_code": "US-NJ"
             }
            ],
            "corresponding": "",
            "current_organization_id": "grid.418158.1",
            "first_name": "Robert F.",
            "last_name": "Kelley",
            "orcid": "",
            "raw_affiliation": [
             "Drug Delivery, Genentech Inc., South San Francisco, CA 94080;"
            ],
            "researcher_id": "ur.01126614110.05"
           },
           {
            "affiliations": [
             {
              "name": "Simprota Corp., San Francisco, CA 94158; and"
             }
            ],
            "corresponding": "",
            "current_organization_id": "grid.185669.5",
            "first_name": "Ilya",
            "last_name": "Chorny",
            "orcid": "",
            "raw_affiliation": [
             "Simprota Corp., San Francisco, CA 94158; and"
            ],
            "researcher_id": "ur.01262737414.13"
           },
           {
            "affiliations": [
             {
              "name": "Simprota Corp., San Francisco, CA 94158; and"
             }
            ],
            "corresponding": "",
            "current_organization_id": "",
            "first_name": "Joe Z.",
            "last_name": "Zhou",
            "orcid": "",
            "raw_affiliation": [
             "Simprota Corp., San Francisco, CA 94158; and"
            ],
            "researcher_id": "ur.01223125253.18"
           },
           {
            "affiliations": [
             {
              "city": "Stony Brook",
              "city_id": 5139865,
              "country": "United States",
              "country_code": "US",
              "id": "grid.36425.36",
              "name": "Stony Brook University",
              "state": "New York",
              "state_code": "US-NY"
             }
            ],
            "corresponding": "",
            "current_organization_id": "grid.36425.36",
            "first_name": "Ken A.",
            "last_name": "Dill",
            "orcid": "",
            "raw_affiliation": [
             "Laufer Center for Physical and Quantitative Biology, Stony Brook University, Stony Brook, NY 11794"
            ],
            "researcher_id": "ur.012373520377.63"
           },
           {
            "affiliations": [
             {
              "name": "Early Stage Pharmaceutical Development Department,"
             }
            ],
            "corresponding": "",
            "current_organization_id": "",
            "first_name": "Trevor E.",
            "last_name": "Swartz",
            "orcid": "",
            "raw_affiliation": [
             "Early Stage Pharmaceutical Development Department,"
            ],
            "researcher_id": "ur.0642234347.58"
           }
          ]
         ],
         "id": "pub.1012770573",
         "issue": "52",
         "journal": {
          "id": "jour.1082971",
          "title": "Proceedings of the National Academy of Sciences"
         },
         "pages": "18601-18606",
         "title": "In silico selection of therapeutic antibodies for development: Viscosity, clearance, and chemical stability",
         "type": "article",
         "volume": "111",
         "year": 2014
        },
        {
         "author_affiliations": [
          [
           {
            "affiliations": [
             {
              "city": "Cambridge",
              "city_id": 2653941,
              "country": "United Kingdom",
              "country_code": "GB",
              "id": "grid.417815.e",
              "name": "AstraZeneca (United Kingdom)",
              "state": null,
              "state_code": null
             }
            ],
            "corresponding": "",
            "current_organization_id": "grid.417815.e",
            "first_name": "Russell D. J.",
            "last_name": "Huby",
            "orcid": "",
            "raw_affiliation": [
             "Department Molecular Toxicology, Global Safety Assessment, AstraZeneca, Macclesfield, Cheshire, United Kingdom"
            ],
            "researcher_id": "ur.011252305114.50"
           },
           {
            "affiliations": [
             {
              "city": "Cambridge",
              "city_id": 2653941,
              "country": "United Kingdom",
              "country_code": "GB",
              "id": "grid.417815.e",
              "name": "AstraZeneca (United Kingdom)",
              "state": null,
              "state_code": null
             }
            ],
            "corresponding": "",
            "current_organization_id": "grid.417815.e",
            "first_name": "Philip",
            "last_name": "Glaves",
            "orcid": "",
            "raw_affiliation": [
             "Department Molecular Toxicology, Global Safety Assessment, AstraZeneca, Macclesfield, Cheshire, United Kingdom"
            ],
            "researcher_id": "ur.01372424601.10"
           },
           {
            "affiliations": [
             {
              "city": "Cambridge",
              "city_id": 2653941,
              "country": "United Kingdom",
              "country_code": "GB",
              "id": "grid.417815.e",
              "name": "AstraZeneca (United Kingdom)",
              "state": null,
              "state_code": null
             }
            ],
            "corresponding": "",
            "current_organization_id": "grid.13097.3c",
            "first_name": "Richard",
            "last_name": "Jackson",
            "orcid": "['0000-0002-3278-8547']",
            "raw_affiliation": [
             "Department Molecular Toxicology, Global Safety Assessment, AstraZeneca, Macclesfield, Cheshire, United Kingdom"
            ],
            "researcher_id": "ur.01272401001.34"
           }
          ]
         ],
         "id": "pub.1031386189",
         "issue": "12",
         "journal": {
          "id": "jour.1037553",
          "title": "PLoS ONE"
         },
         "pages": "e115792",
         "title": "The Incidence of Sexually Dimorphic Gene Expression Varies Greatly between Tissues in the Rat",
         "type": "article",
         "volume": "9",
         "year": 2014
        },
        {
         "author_affiliations": [
          [
           {
            "affiliations": [
             {
              "city": "Pittsburgh",
              "city_id": 5206379,
              "country": "United States",
              "country_code": "US",
              "id": "grid.147455.6",
              "name": "Carnegie Mellon University",
              "state": "Pennsylvania",
              "state_code": "US-PA"
             }
            ],
            "corresponding": "",
            "current_organization_id": "grid.147455.6",
            "first_name": "Kaushik",
            "last_name": "Vaidyanathan",
            "orcid": "",
            "raw_affiliation": [
             "Carnegie Mellon University, Department of ECE, 5000 Forbes Avenue, Hamerschlag Hall 2114-D, Pittsburgh, Pennsylvania 15213, United States"
            ],
            "researcher_id": "ur.015523760751.21"
           },
           {
            "affiliations": [
             {
              "city": "Pittsburgh",
              "city_id": 5206379,
              "country": "United States",
              "country_code": "US",
              "id": "grid.147455.6",
              "name": "Carnegie Mellon University",
              "state": "Pennsylvania",
              "state_code": "US-PA"
             }
            ],
            "corresponding": "",
            "current_organization_id": "grid.147455.6",
            "first_name": "Qiuling",
            "last_name": "Zhu",
            "orcid": "",
            "raw_affiliation": [
             "Carnegie Mellon University, Department of ECE, 5000 Forbes Avenue, Hamerschlag Hall 2114-D, Pittsburgh, Pennsylvania 15213, United States"
            ],
            "researcher_id": "ur.013207113135.13"
           },
           {
            "affiliations": [
             {
              "city": "Armonk",
              "city_id": 5107346,
              "country": "United States",
              "country_code": "US",
              "id": "grid.410484.d",
              "name": "IBM (United States)",
              "state": "New York",
              "state_code": "US-NY"
             }
            ],
            "corresponding": "",
            "current_organization_id": "grid.482764.b",
            "first_name": "Lars",
            "last_name": "Liebmann",
            "orcid": "",
            "raw_affiliation": [
             "IBM, 2070 Route 52, Hopewell Junction, New York 12533, United States"
            ],
            "researcher_id": "ur.012172262235.39"
           },
           {
            "affiliations": [
             {
              "city": "Armonk",
              "city_id": 5107346,
              "country": "United States",
              "country_code": "US",
              "id": "grid.410484.d",
              "name": "IBM (United States)",
              "state": "New York",
              "state_code": "US-NY"
             }
            ],
            "corresponding": "",
            "current_organization_id": "grid.481554.9",
            "first_name": "Kafai",
            "last_name": "Lai",
            "orcid": "",
            "raw_affiliation": [
             "IBM, 2070 Route 52, Hopewell Junction, New York 12533, United States"
            ],
            "researcher_id": "ur.016267754363.33"
           },
           {
            "affiliations": [
             {
              "city": "Armonk",
              "city_id": 5107346,
              "country": "United States",
              "country_code": "US",
              "id": "grid.410484.d",
              "name": "IBM (United States)",
              "state": "New York",
              "state_code": "US-NY"
             }
            ],
            "corresponding": "",
            "current_organization_id": "",
            "first_name": "Stephen",
            "last_name": "Wu",
            "orcid": "",
            "raw_affiliation": [
             "IBM, 2070 Route 52, Hopewell Junction, New York 12533, United States"
            ],
            "researcher_id": ""
           },
           {
            "affiliations": [
             {
              "city": "Pittsburgh",
              "city_id": 5206379,
              "country": "United States",
              "country_code": "US",
              "id": "grid.147455.6",
              "name": "Carnegie Mellon University",
              "state": "Pennsylvania",
              "state_code": "US-PA"
             }
            ],
            "corresponding": "",
            "current_organization_id": "grid.419318.6",
            "first_name": "Renzhi",
            "last_name": "Liu",
            "orcid": "",
            "raw_affiliation": [
             "Carnegie Mellon University, Department of ECE, 5000 Forbes Avenue, Hamerschlag Hall 2114-D, Pittsburgh, Pennsylvania 15213, United States"
            ],
            "researcher_id": "ur.014625175353.17"
           },
           {
            "affiliations": [
             {
              "city": "Armonk",
              "city_id": 5107346,
              "country": "United States",
              "country_code": "US",
              "id": "grid.410484.d",
              "name": "IBM (United States)",
              "state": "New York",
              "state_code": "US-NY"
             }
            ],
            "corresponding": "",
            "current_organization_id": "",
            "first_name": "Yandong",
            "last_name": "Liu",
            "orcid": "",
            "raw_affiliation": [
             "IBM, 2070 Route 52, Hopewell Junction, New York 12533, United States"
            ],
            "researcher_id": ""
           },
           {
            "affiliations": [
             {
              "city": "Pittsburgh",
              "city_id": 5206379,
              "country": "United States",
              "country_code": "US",
              "id": "grid.147455.6",
              "name": "Carnegie Mellon University",
              "state": "Pennsylvania",
              "state_code": "US-PA"
             }
            ],
            "corresponding": "",
            "current_organization_id": "grid.147455.6",
            "first_name": "Andzrej",
            "last_name": "Strojwas",
            "orcid": "",
            "raw_affiliation": [
             "Carnegie Mellon University, Department of ECE, 5000 Forbes Avenue, Hamerschlag Hall 2114-D, Pittsburgh, Pennsylvania 15213, United States"
            ],
            "researcher_id": "ur.011257344351.38"
           },
           {
            "affiliations": [
             {
              "city": "Pittsburgh",
              "city_id": 5206379,
              "country": "United States",
              "country_code": "US",
              "id": "grid.147455.6",
              "name": "Carnegie Mellon University",
              "state": "Pennsylvania",
              "state_code": "US-PA"
             }
            ],
            "corresponding": "",
            "current_organization_id": "grid.147455.6",
            "first_name": "Larry",
            "last_name": "Pileggi",
            "orcid": "",
            "raw_affiliation": [
             "Carnegie Mellon University, Department of ECE, 5000 Forbes Avenue, Hamerschlag Hall 2114-D, Pittsburgh, Pennsylvania 15213, United States"
            ],
            "researcher_id": "ur.015674327063.80"
           }
          ]
         ],
         "id": "pub.1001266630",
         "issue": "1",
         "journal": {
          "id": "jour.1045031",
          "title": "Journal of Micro/Nanolithography MEMS and MOEMS"
         },
         "pages": "011007-011007",
         "title": "Exploiting sub-20-nm complementary metal-oxide semiconductor technology challenges to design affordable systems-on-chip",
         "type": "article",
         "volume": "14",
         "year": 2014
        },
        {
         "author_affiliations": [
          [
           {
            "affiliations": [
             {
              "city": "Basel",
              "city_id": 2661604,
              "country": "Switzerland",
              "country_code": "CH",
              "id": "grid.419481.1",
              "name": "Novartis (Switzerland)",
              "state": null,
              "state_code": null
             },
             {
              "name": "Institute for Biometry Hannover Medical School Hannover Germany"
             }
            ],
            "corresponding": "",
            "current_organization_id": "grid.419481.1",
            "first_name": "Markus R.",
            "last_name": "Lange",
            "orcid": "",
            "raw_affiliation": [
             "Novartis Pharma AG Statistical Methodology, Development Basel Switzerland",
             "Institute for Biometry Hannover Medical School Hannover Germany"
            ],
            "researcher_id": "ur.01332056462.91"
           },
           {
            "affiliations": [
             {
              "city": "Basel",
              "city_id": 2661604,
              "country": "Switzerland",
              "country_code": "CH",
              "id": "grid.419481.1",
              "name": "Novartis (Switzerland)",
              "state": null,
              "state_code": null
             }
            ],
            "corresponding": "",
            "current_organization_id": "grid.419481.1",
            "first_name": "Heinz",
            "last_name": "Schmidli",
            "orcid": "['0000-0003-0934-1066']",
            "raw_affiliation": [
             "Novartis Pharma AG Statistical Methodology, Development Basel Switzerland"
            ],
            "researcher_id": "ur.01130724645.06"
           }
          ]
         ],
         "id": "pub.1045237889",
         "issue": "30",
         "journal": {
          "id": "jour.1093461",
          "title": "Statistics in Medicine"
         },
         "pages": "5249-5264",
         "title": "Optimal design of clinical trials with biologics using dose‐time‐response models",
         "type": "article",
         "volume": "33",
         "year": 2014
        },
        {
         "author_affiliations": [
          [
           {
            "affiliations": [
             {
              "city": "Basel",
              "city_id": 2661604,
              "country": "Switzerland",
              "country_code": "CH",
              "id": "grid.417570.0",
              "name": "Roche (Switzerland)",
              "state": null,
              "state_code": null
             }
            ],
            "corresponding": "",
            "current_organization_id": "grid.417570.0",
            "first_name": "Andreas",
            "last_name": "Brink",
            "orcid": "",
            "raw_affiliation": [
             "Roche Pharmaceutical Research and Early Development Drug Disposition and Safety, Roche Innovation Center Basel, F. Hoffmann‐La Roche Ltd Basel Switzerland"
            ],
            "researcher_id": "ur.01356656332.68"
           },
           {
            "affiliations": [
             {
              "name": "Lead Molecular Design Barcelona Spain"
             },
             {
              "name": "Molecular Discovery Middlesex UK"
             }
            ],
            "corresponding": "",
            "current_organization_id": "",
            "first_name": "Fabien",
            "last_name": "Fontaine",
            "orcid": "",
            "raw_affiliation": [
             "Lead Molecular Design Barcelona Spain",
             "Molecular Discovery Middlesex UK"
            ],
            "researcher_id": "ur.01272712751.11"
           },
           {
            "affiliations": [
             {
              "city": "Basel",
              "city_id": 2661604,
              "country": "Switzerland",
              "country_code": "CH",
              "id": "grid.417570.0",
              "name": "Roche (Switzerland)",
              "state": null,
              "state_code": null
             }
            ],
            "corresponding": "",
            "current_organization_id": "grid.417570.0",
            "first_name": "Michaela",
            "last_name": "Marschmann",
            "orcid": "",
            "raw_affiliation": [
             "Roche Pharmaceutical Research and Early Development Drug Disposition and Safety, Roche Innovation Center Basel, F. Hoffmann‐La Roche Ltd Basel Switzerland"
            ],
            "researcher_id": "ur.01040470303.54"
           },
           {
            "affiliations": [
             {
              "city": "Basel",
              "city_id": 2661604,
              "country": "Switzerland",
              "country_code": "CH",
              "id": "grid.417570.0",
              "name": "Roche (Switzerland)",
              "state": null,
              "state_code": null
             }
            ],
            "corresponding": "",
            "current_organization_id": "",
            "first_name": "Bernd",
            "last_name": "Steinhuber",
            "orcid": "",
            "raw_affiliation": [
             "Roche Pharmaceutical Research and Early Development Drug Disposition and Safety, Roche Innovation Center Basel, F. Hoffmann‐La Roche Ltd Basel Switzerland"
            ],
            "researcher_id": "ur.0747500632.77"
           },
           {
            "affiliations": [
             {
              "name": "Lead Molecular Design Barcelona Spain"
             }
            ],
            "corresponding": "",
            "current_organization_id": "",
            "first_name": "Esra Nurten",
            "last_name": "Cece",
            "orcid": "",
            "raw_affiliation": [
             "Lead Molecular Design Barcelona Spain"
            ],
            "researcher_id": ""
           },
           {
            "affiliations": [
             {
              "name": "Lead Molecular Design Barcelona Spain"
             }
            ],
            "corresponding": "",
            "current_organization_id": "grid.5612.0",
            "first_name": "Ismael",
            "last_name": "Zamora",
            "orcid": "['0000-0002-7700-0354']",
            "raw_affiliation": [
             "Lead Molecular Design Barcelona Spain"
            ],
            "researcher_id": "ur.01153145306.30"
           },
           {
            "affiliations": [
             {
              "city": "Basel",
              "city_id": 2661604,
              "country": "Switzerland",
              "country_code": "CH",
              "id": "grid.417570.0",
              "name": "Roche (Switzerland)",
              "state": null,
              "state_code": null
             }
            ],
            "corresponding": "",
            "current_organization_id": "grid.417570.0",
            "first_name": "Axel",
            "last_name": "Pähler",
            "orcid": "",
            "raw_affiliation": [
             "Roche Pharmaceutical Research and Early Development Drug Disposition and Safety, Roche Innovation Center Basel, F. Hoffmann‐La Roche Ltd Basel Switzerland"
            ],
            "researcher_id": "ur.0712423242.67"
           }
          ]
         ],
         "id": "pub.1032081093",
         "issue": "24",
         "journal": {
          "id": "jour.1097836",
          "title": "Rapid Communications in Mass Spectrometry"
         },
         "pages": "2695-2703",
         "title": "Post‐acquisition analysis of untargeted accurate mass quadrupole time‐of‐flight MSE data for multiple collision‐induced neutral losses and fragment ions of glutathione conjugates",
         "type": "article",
         "volume": "28",
         "year": 2014
        }
       ]
      },
      "text/plain": [
       "<dimcli.Dataset object #4666093648. Records: 20/27779>"
      ]
     },
     "execution_count": 3,
     "metadata": {
      "application/json": {
       "expanded": false,
       "root": "root"
      }
     },
     "output_type": "execute_result"
    }
   ],
   "source": [
    "%dsl search publications where research_orgs.types=\"Company\" and year = 2014"
   ]
  },
  {
   "cell_type": "code",
   "execution_count": 4,
   "metadata": {
    "Collapsed": "false"
   },
   "outputs": [
    {
     "name": "stdout",
     "output_type": "stream",
     "text": [
      "Returned Funders: 20\n",
      "WARNINGS [2]\n",
      "Usage of entity filters (funders.types) is discouraged as it often leads to incomplete results. Please see https://docs.dimensions.ai/dsl/language.html#literal-fields-vs-entity-fields for more details.\n",
      "Query is too long or complex. Please see https://docs.dimensions.ai/dsl/faq.html for more information. [code: 4]\n"
     ]
    },
    {
     "data": {
      "application/json": {
       "_stats": {
        "total_count": 508
       },
       "_warnings": [
        "Usage of entity filters (funders.types) is discouraged as it often leads to incomplete results. Please see https://docs.dimensions.ai/dsl/language.html#literal-fields-vs-entity-fields for more details.",
        "Query is too long or complex. Please see https://docs.dimensions.ai/dsl/faq.html for more information. [code: 4]"
       ],
       "funders": [
        {
         "acronym": "Pfizer",
         "city_name": "New York",
         "count": 173,
         "country_name": "United States",
         "id": "grid.410513.2",
         "latitude": 40.750362,
         "linkout": [
          "http://www.pfizer.com/"
         ],
         "longitude": -73.97254,
         "name": "Pfizer (United States)",
         "state_name": "New York",
         "types": [
          "Company"
         ]
        },
        {
         "city_name": "Basel",
         "count": 123,
         "country_name": "Switzerland",
         "id": "grid.417570.0",
         "latitude": 47.558624,
         "linkout": [
          "http://www.roche.ch/en/index.htm"
         ],
         "longitude": 7.606017,
         "name": "Roche (Switzerland)",
         "types": [
          "Company"
         ]
        },
        {
         "city_name": "Basel",
         "count": 119,
         "country_name": "Switzerland",
         "id": "grid.419481.1",
         "latitude": 47.57432,
         "linkout": [
          "https://www.novartis.com/"
         ],
         "longitude": 7.579728,
         "name": "Novartis (Switzerland)",
         "types": [
          "Company"
         ]
        },
        {
         "acronym": "BMS",
         "city_name": "New York",
         "count": 109,
         "country_name": "United States",
         "id": "grid.419971.3",
         "latitude": 40.75811,
         "linkout": [
          "http://www.bms.com/pages/default.aspx"
         ],
         "longitude": -73.97287,
         "name": "Bristol-Myers Squibb (United States)",
         "state_name": "New York",
         "types": [
          "Company"
         ]
        },
        {
         "city_name": "Darmstadt",
         "count": 79,
         "country_name": "Germany",
         "id": "grid.39009.33",
         "latitude": 49.767105,
         "linkout": [
          "http://www.merckgroup.com/en/index.html"
         ],
         "longitude": 8.48024,
         "name": "Merck (Germany)",
         "types": [
          "Company"
         ]
        },
        {
         "city_name": "Cambridge",
         "count": 76,
         "country_name": "United Kingdom",
         "id": "grid.417815.e",
         "latitude": 51.51959,
         "linkout": [
          "http://www.astrazeneca.co.uk/home"
         ],
         "longitude": -0.181646,
         "name": "AstraZeneca (United Kingdom)",
         "types": [
          "Company"
         ]
        },
        {
         "acronym": "Roche",
         "city_name": "Nutley",
         "count": 73,
         "country_name": "United States",
         "id": "grid.418158.1",
         "latitude": 40.83348,
         "linkout": [
          "http://www.roche.com/careers/usa.htm"
         ],
         "longitude": -74.15691,
         "name": "Roche (United States)",
         "state_name": "New Jersey",
         "types": [
          "Company"
         ]
        },
        {
         "acronym": "MSD",
         "city_name": "Kenilworth",
         "count": 71,
         "country_name": "United States",
         "id": "grid.417993.1",
         "latitude": 40.678677,
         "linkout": [
          "http://www.merck.com/"
         ],
         "longitude": -74.272575,
         "name": "MSD (United States)",
         "state_name": "New Jersey",
         "types": [
          "Company"
         ]
        },
        {
         "acronym": "AstraZeneca",
         "city_name": "Wilmington",
         "count": 65,
         "country_name": "United States",
         "id": "grid.418152.b",
         "latitude": 39.785908,
         "linkout": [
          "http://www.astrazeneca-us.com/home/"
         ],
         "longitude": -75.54896,
         "name": "AstraZeneca (United States)",
         "state_name": "Delaware",
         "types": [
          "Company"
         ]
        },
        {
         "acronym": "NCI",
         "city_name": "Rockville",
         "count": 65,
         "country_name": "United States",
         "id": "grid.48336.3a",
         "latitude": 39.004326,
         "linkout": [
          "http://www.cancer.gov/"
         ],
         "longitude": -77.10119,
         "name": "National Cancer Institute",
         "state_name": "Maryland",
         "types": [
          "Government"
         ]
        },
        {
         "acronym": "Eli Lilly & Company",
         "city_name": "Indianapolis",
         "count": 61,
         "country_name": "United States",
         "id": "grid.417540.3",
         "latitude": 39.75627,
         "linkout": [
          "http://www.lilly.com/"
         ],
         "longitude": -86.15307,
         "name": "Eli Lilly (United States)",
         "state_name": "Indiana",
         "types": [
          "Company"
         ]
        },
        {
         "city_name": "Ingelheim am Rhein",
         "count": 57,
         "country_name": "Germany",
         "id": "grid.420061.1",
         "latitude": 49.977066,
         "linkout": [
          "http://www.boehringer-ingelheim.de/"
         ],
         "longitude": 8.043752,
         "name": "Boehringer Ingelheim (Germany)",
         "types": [
          "Company"
         ]
        },
        {
         "acronym": "Celgene",
         "city_name": "Summit",
         "count": 48,
         "country_name": "United States",
         "id": "grid.418722.a",
         "latitude": 40.879154,
         "linkout": [
          "https://www.celgene.com/"
         ],
         "longitude": -74.43688,
         "name": "Celgene (United States)",
         "state_name": "New Jersey",
         "types": [
          "Company"
         ]
        },
        {
         "acronym": "NPC",
         "city_name": "New York",
         "count": 45,
         "country_name": "United States",
         "id": "grid.418424.f",
         "latitude": 40.844296,
         "linkout": [
          "http://www.pharma.us.novartis.com/index.jsp"
         ],
         "longitude": -74.50225,
         "name": "Novartis (United States)",
         "state_name": "New York",
         "types": [
          "Company"
         ]
        },
        {
         "acronym": "Amgen, Inc.",
         "city_name": "Thousand Oaks",
         "count": 40,
         "country_name": "United States",
         "id": "grid.417886.4",
         "latitude": 34.17362,
         "linkout": [
          "http://www.amgen.com/"
         ],
         "longitude": -118.83842,
         "name": "Amgen (United States)",
         "state_name": "California",
         "types": [
          "Company"
         ]
        },
        {
         "acronym": "Millennium Pharmaceuticals, Inc",
         "city_name": "Deerfield",
         "count": 36,
         "country_name": "United States",
         "id": "grid.419849.9",
         "latitude": 42.153786,
         "linkout": [
          "http://www.takeda.com/"
         ],
         "longitude": -87.87817,
         "name": "Takeda (United States)",
         "state_name": "Illinois",
         "types": [
          "Company"
         ]
        },
        {
         "city_name": "Cambridge",
         "count": 34,
         "country_name": "United States",
         "id": "grid.418092.6",
         "latitude": 42.36094,
         "linkout": [
          "http://www.ariad.com/"
         ],
         "longitude": -71.09879,
         "name": "ARIAD Pharmaceuticals (United States)",
         "state_name": "Massachusetts",
         "types": [
          "Company"
         ]
        },
        {
         "acronym": "Boehringer Ingelheim Pharmaceuticals",
         "city_name": "Ridgefield",
         "count": 34,
         "country_name": "United States",
         "id": "grid.418412.a",
         "latitude": 41.373573,
         "linkout": [
          "http://us.boehringer-ingelheim.com/"
         ],
         "longitude": -73.51311,
         "name": "Boehringer Ingelheim (United States)",
         "state_name": "Connecticut",
         "types": [
          "Company"
         ]
        },
        {
         "acronym": "J&J",
         "city_name": "New Brunswick",
         "count": 31,
         "country_name": "United States",
         "id": "grid.417429.d",
         "latitude": 40.49861,
         "linkout": [
          "http://www.jnj.com/"
         ],
         "longitude": -74.44361,
         "name": "Johnson & Johnson (United States)",
         "state_name": "New Jersey",
         "types": [
          "Company"
         ]
        },
        {
         "acronym": "GSK",
         "city_name": "London",
         "count": 30,
         "country_name": "United Kingdom",
         "id": "grid.418236.a",
         "latitude": 51.4882,
         "linkout": [
          "http://uk.gsk.com/"
         ],
         "longitude": -0.31669,
         "name": "GlaxoSmithKline (United Kingdom)",
         "types": [
          "Company"
         ]
        }
       ]
      },
      "text/plain": [
       "<dimcli.Dataset object #4666115152. Records: 20/508>"
      ]
     },
     "execution_count": 4,
     "metadata": {
      "application/json": {
       "expanded": false,
       "root": "root"
      }
     },
     "output_type": "execute_result"
    }
   ],
   "source": [
    "%%dsl \n",
    "search publications in full_data for \"\\\"ALK non small cell lung cancer\\\"~5 OR \\\"ALK NSCLC\\\"~5\"\n",
    "where year in [2015:2019] and funders.types in [\"Company\"]\n",
    "return funders"
   ]
  },
  {
   "cell_type": "code",
   "execution_count": 5,
   "metadata": {
    "Collapsed": "false"
   },
   "outputs": [
    {
     "name": "stdout",
     "output_type": "stream",
     "text": [
      "Returned Researchers: 11\n",
      "WARNINGS [2]\n",
      "Query is too long or complex. Please see https://docs.dimensions.ai/dsl/faq.html for more information. [code: 4]\n",
      "Usage of entity filters (researchers.first_publication_year) is discouraged as it often leads to incomplete results. Please see https://docs.dimensions.ai/dsl/language.html#literal-fields-vs-entity-fields for more details.\n"
     ]
    },
    {
     "data": {
      "application/json": {
       "_stats": {
        "total_count": 1
       },
       "_warnings": [
        "Query is too long or complex. Please see https://docs.dimensions.ai/dsl/faq.html for more information. [code: 4]",
        "Usage of entity filters (researchers.first_publication_year) is discouraged as it often leads to incomplete results. Please see https://docs.dimensions.ai/dsl/language.html#literal-fields-vs-entity-fields for more details."
       ],
       "researchers": [
        {
         "count": 1,
         "current_research_org": "grid.40263.33",
         "first_grant_year": 2009,
         "first_name": "Bum Rak",
         "first_publication_year": 1998,
         "id": "ur.01031727324.08",
         "last_grant_year": 2015,
         "last_name": "Choi",
         "last_publication_year": 2019,
         "research_orgs": [
          "grid.261112.7",
          "grid.40263.33",
          "grid.21925.3d",
          "grid.240588.3",
          "grid.9918.9",
          "grid.265219.b"
         ],
         "total_grants": 1,
         "total_publications": 85
        },
        {
         "count": 1,
         "current_research_org": "grid.40263.33",
         "first_name": "Weiyan",
         "first_publication_year": 2012,
         "id": "ur.01100053534.14",
         "last_name": "Li",
         "last_publication_year": 2019,
         "research_orgs": [
          "grid.240588.3",
          "grid.261112.7",
          "grid.40263.33"
         ],
         "total_publications": 17
        },
        {
         "count": 1,
         "current_research_org": "grid.40263.33",
         "first_name": "Radmila",
         "first_publication_year": 2003,
         "id": "ur.01142341674.23",
         "last_name": "Terentyeva",
         "last_publication_year": 2019,
         "research_orgs": [
          "grid.240588.3",
          "grid.412332.5",
          "grid.15276.37",
          "grid.261331.4",
          "grid.261112.7",
          "grid.9601.e",
          "grid.6190.e",
          "grid.418378.1",
          "grid.416992.1",
          "grid.40263.33"
         ],
         "total_publications": 48
        },
        {
         "count": 1,
         "current_research_org": "grid.40263.33",
         "first_name": "Ian D",
         "first_publication_year": 2003,
         "id": "ur.01176724342.63",
         "last_name": "Greener",
         "last_publication_year": 2017,
         "research_orgs": [
          "grid.240588.3",
          "grid.9909.9",
          "grid.185648.6",
          "grid.40263.33",
          "grid.5379.8",
          "grid.67105.35"
         ],
         "total_publications": 42
        },
        {
         "count": 1,
         "current_research_org": "grid.17635.36",
         "first_grant_year": 1989,
         "first_name": "Samuel C",
         "first_publication_year": 1990,
         "id": "ur.01213340622.17",
         "last_grant_year": 2024,
         "last_name": "Dudley",
         "last_publication_year": 2019,
         "orcid_id": [
          "0000-0001-5843-5961"
         ],
         "research_orgs": [
          "grid.185648.6",
          "grid.65499.37",
          "grid.35403.31",
          "grid.17635.36",
          "grid.413904.b",
          "grid.411654.3",
          "grid.419823.5",
          "grid.189967.8",
          "grid.470935.c",
          "grid.21925.3d",
          "grid.214572.7",
          "grid.240588.3",
          "grid.414026.5",
          "grid.413808.6",
          "grid.10420.37",
          "grid.170205.1",
          "grid.40263.33",
          "grid.280892.9",
          "grid.239395.7",
          "grid.412094.a"
         ],
         "total_grants": 13,
         "total_publications": 191
        },
        {
         "count": 1,
         "current_research_org": "grid.40263.33",
         "first_name": "Karim H F",
         "first_publication_year": 2003,
         "id": "ur.01223033662.85",
         "last_name": "Roder",
         "last_publication_year": 2019,
         "research_orgs": [
          "grid.240588.3",
          "grid.40263.33"
         ],
         "total_publications": 22
        },
        {
         "count": 1,
         "current_research_org": "grid.40263.33",
         "first_grant_year": 2008,
         "first_name": "Richard T",
         "first_publication_year": 2006,
         "id": "ur.01357611565.86",
         "last_grant_year": 2022,
         "last_name": "Clements",
         "last_publication_year": 2019,
         "research_orgs": [
          "grid.40263.33",
          "grid.240588.3",
          "grid.413904.b",
          "grid.239395.7",
          "grid.38142.3c",
          "grid.20431.34"
         ],
         "total_grants": 5,
         "total_publications": 81
        },
        {
         "count": 1,
         "current_research_org": "grid.240588.3",
         "first_name": "Taeyun",
         "first_publication_year": 2015,
         "id": "ur.013602273567.04",
         "last_name": "Kim",
         "last_publication_year": 2016,
         "research_orgs": [
          "grid.240588.3",
          "grid.40263.33"
         ],
         "total_publications": 3
        },
        {
         "count": 1,
         "current_research_org": "grid.17635.36",
         "first_name": "Man",
         "first_publication_year": 1999,
         "id": "ur.01371536062.84",
         "last_name": "Liu",
         "last_publication_year": 2019,
         "orcid_id": [
          "0000-0002-1390-7862"
         ],
         "research_orgs": [
          "grid.240588.3",
          "grid.280892.9",
          "grid.35403.31",
          "grid.185648.6",
          "grid.10548.38",
          "grid.36425.36",
          "grid.216938.7",
          "grid.21925.3d",
          "grid.40263.33",
          "grid.17635.36",
          "grid.7839.5",
          "grid.413904.b"
         ],
         "total_publications": 47
        },
        {
         "count": 1,
         "current_research_org": "grid.12136.37",
         "first_grant_year": 1986,
         "first_name": "Gideon",
         "first_publication_year": 1983,
         "id": "ur.0755720172.61",
         "last_grant_year": 2022,
         "last_name": "Koren",
         "last_publication_year": 2020,
         "research_orgs": [
          "grid.5133.4",
          "grid.411434.7",
          "grid.46078.3d",
          "grid.17788.31",
          "grid.413953.9",
          "grid.21925.3d",
          "grid.410356.5",
          "grid.419720.9",
          "grid.415224.4",
          "grid.7489.2",
          "grid.17091.3e",
          "grid.411024.2",
          "grid.418193.6",
          "grid.420089.7",
          "grid.17089.37",
          "grid.17063.33",
          "grid.12136.37",
          "grid.449712.d",
          "grid.415822.8",
          "grid.417184.f",
          "grid.42327.30",
          "grid.40263.33",
          "grid.29857.31",
          "grid.239552.a",
          "grid.413104.3",
          "grid.38142.3c",
          "grid.416216.6",
          "grid.413957.d",
          "grid.213910.8",
          "grid.4367.6",
          "grid.14848.31",
          "grid.261112.7",
          "grid.241116.1",
          "grid.266100.3",
          "grid.239585.0",
          "grid.415526.1",
          "grid.5570.7",
          "grid.240588.3",
          "grid.9619.7",
          "grid.62560.37",
          "grid.2515.3",
          "grid.21729.3f",
          "grid.415502.7",
          "grid.412686.f",
          "grid.425380.8",
          "grid.475010.7",
          "grid.414840.d",
          "grid.39381.30",
          "grid.413990.6",
          "grid.176731.5",
          "grid.420468.c",
          "grid.4527.4",
          "grid.25073.33",
          "grid.239560.b",
          "grid.10041.34",
          "grid.413731.3"
         ],
         "total_grants": 46,
         "total_publications": 1900
        },
        {
         "count": 1,
         "current_research_org": "grid.40263.33",
         "first_grant_year": 2014,
         "first_name": "Dmitry A",
         "first_publication_year": 2002,
         "id": "ur.07760630447.25",
         "last_grant_year": 2019,
         "last_name": "Terentyev",
         "last_publication_year": 2019,
         "research_orgs": [
          "grid.240588.3",
          "grid.412332.5",
          "grid.15276.37",
          "grid.261331.4",
          "grid.261112.7",
          "grid.9601.e",
          "grid.6190.e",
          "grid.418378.1",
          "grid.416992.1",
          "grid.40263.33"
         ],
         "total_grants": 1,
         "total_publications": 87
        }
       ]
      },
      "text/plain": [
       "<dimcli.Dataset object #4666140624. Records: 11/1>"
      ]
     },
     "execution_count": 5,
     "metadata": {
      "application/json": {
       "expanded": false,
       "root": "root"
      }
     },
     "output_type": "execute_result"
    }
   ],
   "source": [
    "%%dsl \n",
    "search publications in full_data for \"CRISPR\\/CAS9\"\n",
    "where researchers.first_publication_year>2014\n",
    "return researchers[all] "
   ]
  },
  {
   "cell_type": "code",
   "execution_count": 6,
   "metadata": {
    "Collapsed": "false"
   },
   "outputs": [
    {
     "name": "stdout",
     "output_type": "stream",
     "text": [
      "Returned Publications: 20 (total = 107124256)\n",
      "Returned Researchers: 20\n"
     ]
    },
    {
     "data": {
      "application/json": {
       "_stats": {
        "total_count": 107124256
       },
       "publications": [
        {},
        {},
        {},
        {
         "researchers": [
          {
           "first_name": "Leticia",
           "id": "ur.016114416601.43",
           "last_name": "Robles-Moreno",
           "research_orgs": [
            "grid.137628.9"
           ]
          }
         ]
        },
        {
         "researchers": [
          {
           "first_name": "María José Contreras",
           "id": "ur.012503605455.63",
           "last_name": "Lorenzini"
          }
         ]
        },
        {},
        {
         "researchers": [
          {
           "first_name": "Miranda",
           "id": "ur.014631564175.03",
           "last_name": "Jakiša"
          }
         ]
        },
        {},
        {},
        {},
        {},
        {},
        {},
        {},
        {},
        {},
        {},
        {},
        {},
        {}
       ],
       "researchers": [
        {
         "count": 8817,
         "first_name": "H V",
         "id": "ur.011177563061.78",
         "last_name": "Kehiaian",
         "research_orgs": [
          "grid.7452.4"
         ]
        },
        {
         "count": 7910,
         "first_name": "Roman E",
         "id": "ur.012623766757.24",
         "last_name": "Gladyshevskii",
         "orcid_id": [
          "0000-0003-1320-155X"
         ],
         "research_orgs": [
          "grid.77054.31",
          "grid.29328.32",
          "grid.6936.a",
          "grid.8591.5",
          "grid.10711.36",
          "grid.5388.6"
         ]
        },
        {
         "count": 7754,
         "first_name": "Karin",
         "id": "ur.014174005714.85",
         "last_name": "Cenzual",
         "research_orgs": [
          "grid.8591.5",
          "grid.77054.31"
         ]
        },
        {
         "count": 7014,
         "first_name": "Christian",
         "id": "ur.011611324205.92",
         "last_name": "Wohlfarth",
         "research_orgs": [
          "grid.9018.0"
         ]
        },
        {
         "count": 6071,
         "first_name": "J C",
         "id": "ur.07604622061.38",
         "last_name": "Fontaine",
         "research_orgs": [
          "grid.4444.0"
         ]
        },
        {
         "count": 5948,
         "first_name": "Ivan",
         "id": "ur.07365673751.25",
         "last_name": "Cibulka",
         "orcid_id": [
          "0000-0002-7435-136X"
         ],
         "research_orgs": [
          "grid.448072.d"
         ]
        },
        {
         "count": 4247,
         "first_name": "Ram T",
         "id": "ur.07603206371.32",
         "last_name": "Pardasani",
         "research_orgs": [
          "grid.418304.a",
          "grid.4827.9",
          "grid.462331.1",
          "grid.412746.2"
         ]
        },
        {
         "count": 4220,
         "first_name": "Pushpa",
         "id": "ur.011257172733.66",
         "last_name": "Pardasani",
         "research_orgs": [
          "grid.418304.a",
          "grid.4827.9",
          "grid.412746.2"
         ]
        },
        {
         "count": 3999,
         "first_name": "Wei",
         "id": "ur.012724545020.23",
         "last_name": "Zhang",
         "orcid_id": [
          "0000-0002-9756-9994"
         ],
         "research_orgs": [
          "grid.450275.1",
          "grid.412262.1",
          "grid.5170.3",
          "grid.170205.1",
          "grid.412679.f",
          "grid.15276.37",
          "grid.458495.1",
          "grid.185648.6",
          "grid.453135.5",
          "grid.411472.5",
          "grid.458458.0",
          "grid.453127.6",
          "grid.9227.e",
          "grid.169077.e",
          "grid.16821.3c",
          "grid.424975.9",
          "grid.266871.c",
          "grid.458445.c",
          "grid.410717.4",
          "grid.502801.e",
          "grid.411971.b",
          "grid.260463.5",
          "grid.423905.9",
          "grid.24696.3f",
          "grid.22935.3f",
          "grid.265008.9",
          "grid.454798.3",
          "grid.64212.33",
          "grid.452223.0",
          "grid.20513.35",
          "grid.415869.7",
          "grid.410585.d",
          "grid.412017.1",
          "grid.32566.34",
          "grid.35155.37",
          "grid.413558.e",
          "grid.419092.7",
          "grid.280664.e",
          "grid.412793.a",
          "grid.412022.7",
          "grid.460018.b",
          "grid.429485.6",
          "grid.216417.7",
          "grid.419087.3",
          "grid.419093.6",
          "grid.422728.9",
          "grid.27255.37",
          "grid.488530.2",
          "grid.260493.a",
          "grid.411617.4",
          "grid.412604.5",
          "grid.440601.7",
          "grid.418929.f",
          "grid.410559.c",
          "grid.30055.33",
          "grid.66741.32",
          "grid.440323.2",
          "grid.21925.3d",
          "grid.29857.31",
          "grid.418036.8",
          "grid.458460.b",
          "grid.411407.7",
          "grid.265021.2",
          "grid.259384.1",
          "grid.410726.6",
          "grid.454727.7",
          "grid.419265.d",
          "grid.258164.c",
          "grid.411461.7",
          "grid.12981.33",
          "grid.266100.3",
          "grid.452209.8",
          "grid.213917.f",
          "grid.439104.b",
          "grid.266185.e",
          "grid.412524.4",
          "grid.265850.c",
          "grid.458498.c",
          "grid.69775.3a",
          "grid.434918.3",
          "grid.263761.7",
          "grid.8547.e",
          "grid.415468.a",
          "grid.458449.0",
          "grid.412860.9",
          "grid.59734.3c",
          "grid.64924.3d",
          "grid.420826.a",
          "grid.458463.8",
          "grid.458446.f",
          "grid.477162.1",
          "grid.418558.5",
          "grid.49470.3e",
          "grid.4280.e",
          "grid.203507.3",
          "grid.458438.6",
          "grid.24434.35",
          "grid.454850.8",
          "grid.453213.2",
          "grid.39436.3b",
          "grid.33764.35",
          "grid.11841.3d",
          "grid.414373.6",
          "grid.12527.33",
          "grid.4391.f",
          "grid.411024.2",
          "grid.411918.4",
          "grid.216566.0",
          "grid.429211.d",
          "grid.47100.32",
          "grid.424071.4",
          "grid.419897.a",
          "grid.458522.c",
          "grid.162110.5",
          "grid.418028.7",
          "grid.412498.2",
          "grid.413087.9",
          "grid.412542.4",
          "grid.419564.b",
          "grid.458504.8",
          "grid.444515.5",
          "grid.410621.0",
          "grid.411351.3",
          "grid.464309.c",
          "grid.256883.2",
          "grid.17635.36",
          "grid.411578.e",
          "grid.458437.9",
          "grid.5475.3",
          "grid.458475.f",
          "grid.424810.b",
          "grid.257413.6",
          "grid.24539.39",
          "grid.207374.5",
          "grid.411866.c",
          "grid.11135.37",
          "grid.419666.a",
          "grid.496923.3",
          "grid.266685.9",
          "grid.497485.3",
          "grid.469516.9",
          "grid.267308.8",
          "grid.411427.5",
          "grid.484039.2",
          "grid.16753.36",
          "grid.422150.0",
          "grid.411607.5",
          "grid.135519.a",
          "grid.1003.2",
          "grid.410611.3",
          "grid.251993.5",
          "grid.424082.8",
          "grid.429126.a",
          "grid.419082.6",
          "grid.440682.c",
          "grid.460217.6",
          "grid.266900.b",
          "grid.450259.f",
          "grid.59053.3a",
          "grid.413597.d",
          "grid.454164.6",
          "grid.473665.5",
          "grid.19373.3f",
          "grid.240145.6",
          "grid.266683.f",
          "grid.452944.a",
          "grid.69566.3a",
          "grid.411503.2",
          "grid.248762.d",
          "grid.449428.7",
          "grid.484590.4",
          "grid.266190.a",
          "grid.189747.4",
          "grid.10025.36",
          "grid.13291.38",
          "grid.263901.f",
          "grid.4422.0",
          "grid.421482.9",
          "grid.412561.5",
          "grid.458488.d",
          "grid.24515.37",
          "grid.440773.3",
          "grid.412645.0",
          "grid.267313.2",
          "grid.241167.7",
          "grid.214458.e",
          "grid.452402.5",
          "grid.454832.c",
          "grid.464256.7"
         ]
        },
        {
         "count": 3847,
         "first_name": "Hagop M",
         "id": "ur.07607502677.73",
         "last_name": "Kantarjian",
         "research_orgs": [
          "grid.25073.33",
          "grid.413083.d",
          "grid.418562.c",
          "grid.248762.d",
          "grid.413262.0",
          "grid.254880.3",
          "grid.240614.5",
          "grid.414473.1",
          "grid.6190.e",
          "grid.240473.6",
          "grid.422300.7",
          "grid.55460.32",
          "grid.48336.3a",
          "grid.51462.34",
          "grid.270240.3",
          "grid.240684.c",
          "grid.7839.5",
          "grid.11318.3a",
          "grid.10417.33",
          "grid.239578.2",
          "grid.21107.35",
          "grid.430269.a",
          "grid.240145.6",
          "grid.4991.5",
          "grid.22903.3a",
          "grid.417993.1",
          "grid.25879.31",
          "grid.412311.4",
          "grid.32224.35",
          "grid.477771.5",
          "grid.7445.2",
          "grid.5288.7",
          "grid.134563.6",
          "grid.7605.4",
          "grid.419481.1",
          "grid.418722.a",
          "grid.414733.6",
          "grid.240871.8",
          "grid.412180.e",
          "grid.65499.37",
          "grid.415084.c",
          "grid.411841.9",
          "grid.13097.3c",
          "grid.413731.3",
          "grid.410567.1",
          "grid.5386.8",
          "grid.267313.2",
          "grid.412332.5",
          "grid.469474.c",
          "grid.412578.d",
          "grid.4494.d",
          "grid.419619.2",
          "grid.411947.e",
          "grid.34477.33",
          "grid.6292.f",
          "grid.7700.0",
          "grid.417468.8",
          "grid.5337.2",
          "grid.89336.37",
          "grid.411162.1",
          "grid.4691.a",
          "grid.413104.3",
          "grid.39382.33",
          "grid.241167.7",
          "grid.419943.2",
          "grid.412590.b",
          "grid.42505.36",
          "grid.189967.8",
          "grid.22937.3d",
          "grid.415081.9",
          "grid.417886.4",
          "grid.170205.1",
          "grid.416173.6",
          "grid.59734.3c",
          "grid.66875.3a",
          "grid.26009.3d",
          "grid.266100.3",
          "grid.5963.9",
          "grid.9647.c",
          "grid.415967.8",
          "grid.413734.6",
          "grid.239835.6",
          "grid.223827.e",
          "grid.8158.4",
          "grid.418124.a",
          "grid.413105.2",
          "grid.30760.32",
          "grid.420754.0",
          "grid.16753.36",
          "grid.481607.c",
          "grid.413591.b",
          "grid.21940.3e",
          "grid.413328.f",
          "grid.5361.1",
          "grid.254293.b",
          "grid.418424.f",
          "grid.184769.5",
          "grid.468198.a",
          "grid.11899.38",
          "grid.267033.3",
          "grid.266102.1",
          "grid.267308.8",
          "grid.417467.7",
          "grid.21729.3f",
          "grid.476875.f",
          "grid.267309.9",
          "grid.477947.e",
          "grid.275559.9",
          "grid.19006.3e",
          "grid.168010.e",
          "grid.490121.f",
          "grid.412354.5",
          "grid.410569.f",
          "grid.48769.34",
          "grid.412950.b",
          "grid.38142.3c",
          "grid.7450.6",
          "grid.418443.e",
          "grid.266813.8",
          "grid.413890.7",
          "grid.477314.2",
          "grid.411327.2"
         ]
        },
        {
         "count": 3679,
         "first_name": "Hans Otto",
         "id": "ur.010575762305.25",
         "last_name": "Kalinowski",
         "research_orgs": [
          "grid.8664.c",
          "grid.7839.5",
          "grid.10392.39"
         ]
        },
        {
         "count": 3620,
         "first_name": "Dietmar",
         "id": "ur.011774603515.20",
         "last_name": "Schomburg",
         "orcid_id": [
          "0000-0002-3354-822X"
         ],
         "research_orgs": [
          "grid.7490.a",
          "grid.4444.0",
          "grid.208504.b",
          "grid.7450.6",
          "grid.9122.8",
          "grid.16149.3b",
          "grid.8379.5",
          "grid.7892.4",
          "grid.6738.a",
          "grid.5719.a",
          "grid.5560.6",
          "grid.6190.e",
          "grid.6612.3",
          "grid.418615.f"
         ]
        },
        {
         "count": 3573,
         "first_name": "V",
         "id": "ur.016421210125.45",
         "last_name": "Gupta",
         "research_orgs": [
          "grid.412746.2"
         ]
        },
        {
         "count": 3176,
         "first_name": "Anna I",
         "id": "ur.010547152213.38",
         "last_name": "Glushenkova",
         "research_orgs": [
          "grid.469986.c",
          "grid.419209.7"
         ]
        },
        {
         "count": 3130,
         "first_name": "V",
         "id": "ur.015011021367.44",
         "last_name": "Kuprysyuk",
         "research_orgs": [
          "grid.29328.32",
          "grid.77054.31"
         ]
        },
        {
         "count": 3116,
         "first_name": "L",
         "id": "ur.011556215351.79",
         "last_name": "Hnědkovský",
         "research_orgs": [
          "grid.448072.d"
         ]
        },
        {
         "count": 3079,
         "first_name": "Бинь",
         "id": "ur.010452216040.82",
         "last_name": "Liu",
         "orcid_id": [
          "0000-0002-5836-2333"
         ],
         "research_orgs": [
          "grid.412262.1",
          "grid.8051.c",
          "grid.59025.3b",
          "grid.464345.4",
          "grid.413254.5",
          "grid.190737.b",
          "grid.67293.39",
          "grid.411680.a",
          "grid.412901.f",
          "grid.412461.4",
          "grid.9227.e",
          "grid.16821.3c",
          "grid.415880.0",
          "grid.410752.5",
          "grid.418788.a",
          "grid.256922.8",
          "grid.25879.31",
          "grid.249880.f",
          "grid.423905.9",
          "grid.184769.5",
          "grid.63054.34",
          "grid.22935.3f",
          "grid.452422.7",
          "grid.472710.7",
          "grid.464477.2",
          "grid.411304.3",
          "grid.32566.34",
          "grid.35403.31",
          "grid.419093.6",
          "grid.410727.7",
          "grid.418929.f",
          "grid.30055.33",
          "grid.458469.2",
          "grid.458460.b",
          "grid.410560.6",
          "grid.27860.3b",
          "grid.410726.6",
          "grid.481796.5",
          "grid.47840.3f",
          "grid.263906.8",
          "grid.458457.f",
          "grid.258164.c",
          "grid.411461.7",
          "grid.35030.35",
          "grid.464495.e",
          "grid.418531.a",
          "grid.410651.7",
          "grid.116068.8",
          "grid.8547.e",
          "grid.260478.f",
          "grid.24516.34",
          "grid.19006.3e",
          "grid.458446.f",
          "grid.412578.d",
          "grid.41156.37",
          "grid.418558.5",
          "grid.440660.0",
          "grid.452274.2",
          "grid.4280.e",
          "grid.420241.1",
          "grid.454850.8",
          "grid.181531.f",
          "grid.39436.3b",
          "grid.33764.35",
          "grid.412277.5",
          "grid.12527.33",
          "grid.256609.e",
          "grid.411734.4",
          "grid.256885.4",
          "grid.134907.8",
          "grid.488482.a",
          "grid.419897.a",
          "grid.413385.8",
          "grid.266097.c",
          "grid.412498.2",
          "grid.458451.9",
          "grid.418873.1",
          "grid.430276.4",
          "grid.216938.7",
          "grid.185448.4",
          "grid.17635.36",
          "grid.411679.c",
          "grid.458476.c",
          "grid.11135.37",
          "grid.419666.a",
          "grid.458502.e",
          "grid.203458.8",
          "grid.413372.0",
          "grid.133342.4",
          "grid.263817.9",
          "grid.42505.36",
          "grid.453246.2",
          "grid.13402.34",
          "grid.410595.c",
          "grid.450259.f",
          "grid.21107.35",
          "grid.59053.3a",
          "grid.458487.2",
          "grid.494629.4",
          "grid.258799.8",
          "grid.452206.7",
          "grid.69566.3a",
          "grid.412982.4",
          "grid.464209.d",
          "grid.440673.2",
          "grid.413390.c",
          "grid.263451.7",
          "grid.440736.2",
          "grid.13291.38",
          "grid.4422.0",
          "grid.163032.5",
          "grid.31880.32",
          "grid.459319.3",
          "grid.48166.3d",
          "grid.412561.5",
          "grid.458488.d",
          "grid.73113.37",
          "grid.33763.32",
          "grid.440588.5",
          "grid.464353.3",
          "grid.458465.e",
          "grid.263662.5",
          "grid.454832.c",
          "grid.15596.3e"
         ]
        },
        {
         "count": 3076,
         "first_name": "Wei E",
         "id": "ur.011643105400.46",
         "last_name": "Huang",
         "orcid_id": [
          "0000-0001-7004-6408"
         ],
         "research_orgs": [
          "grid.459786.1",
          "grid.418929.f",
          "grid.450275.1",
          "grid.494924.6",
          "grid.454850.8",
          "grid.454856.e",
          "grid.458474.e",
          "grid.59025.3b",
          "grid.263817.9",
          "grid.412679.f",
          "grid.453246.2",
          "grid.411407.7",
          "grid.190737.b",
          "grid.410726.6",
          "grid.67293.39",
          "grid.30064.31",
          "grid.464275.6",
          "grid.419052.b",
          "grid.7450.6",
          "grid.9227.e",
          "grid.8155.9",
          "grid.440656.5",
          "grid.424975.9",
          "grid.418788.a",
          "grid.26999.3d",
          "grid.59053.3a",
          "grid.252245.6",
          "grid.411412.3",
          "grid.419900.5",
          "grid.263826.b",
          "grid.419897.a",
          "grid.467841.8",
          "grid.458522.c",
          "grid.11835.3e",
          "grid.194645.b",
          "grid.484516.a",
          "grid.453137.7",
          "grid.40263.33",
          "grid.454798.3",
          "grid.495450.9",
          "grid.263761.7",
          "grid.8547.e",
          "grid.260474.3",
          "grid.4991.5",
          "grid.440673.2",
          "grid.464209.d",
          "grid.216938.7",
          "grid.458454.c",
          "grid.260478.f",
          "grid.451303.0",
          "grid.136593.b",
          "grid.35155.37",
          "grid.411643.5",
          "grid.458472.8",
          "grid.440648.a",
          "grid.412022.7",
          "grid.8186.7",
          "grid.458500.c",
          "grid.41156.37",
          "grid.458478.2",
          "grid.11135.37",
          "grid.440588.5",
          "grid.467196.b",
          "grid.419093.6",
          "grid.473484.8",
          "grid.4280.e",
          "grid.411427.5"
         ]
        },
        {
         "count": 3053,
         "first_name": "Michael-Peter",
         "id": "ur.010652602432.51",
         "last_name": "Manns",
         "orcid_id": [
          "0000-0002-4485-8856"
         ],
         "research_orgs": [
          "grid.411339.d",
          "grid.411083.f",
          "grid.17635.36",
          "grid.410607.4",
          "grid.5386.8",
          "grid.1010.0",
          "grid.15090.3d",
          "grid.266100.3",
          "grid.279885.9",
          "grid.411088.4",
          "grid.420252.3",
          "grid.411937.9",
          "grid.5395.a",
          "grid.21729.3f",
          "grid.265892.2",
          "grid.134563.6",
          "grid.9122.8",
          "grid.4494.d",
          "grid.39382.33",
          "grid.461671.3",
          "grid.9026.d",
          "grid.10423.34",
          "grid.410372.3",
          "grid.420086.8",
          "grid.66875.3a",
          "grid.170202.6",
          "grid.7700.0",
          "grid.419971.3",
          "grid.13648.38",
          "grid.1006.7",
          "grid.266102.1",
          "grid.5802.f",
          "grid.417993.1",
          "grid.443984.6",
          "grid.7490.a",
          "grid.224260.0",
          "grid.5330.5",
          "grid.9464.f",
          "grid.10388.32",
          "grid.452463.2",
          "grid.14095.39",
          "grid.414602.5",
          "grid.6572.6",
          "grid.262962.b",
          "grid.489806.b",
          "grid.461707.3",
          "grid.13097.3c",
          "grid.27860.3b",
          "grid.189967.8",
          "grid.16149.3b",
          "grid.411439.a",
          "grid.452465.4",
          "grid.418009.4"
         ]
        },
        {
         "count": 3053,
         "first_name": "Wei Qi",
         "id": "ur.016205376120.55",
         "last_name": "Li",
         "orcid_id": [
          "0000-0003-0430-2068"
         ],
         "research_orgs": [
          "grid.27871.3b",
          "grid.411457.2",
          "grid.170205.1",
          "grid.412899.f",
          "grid.411992.6",
          "grid.59025.3b",
          "grid.484648.2",
          "grid.454865.e",
          "grid.458458.0",
          "grid.9613.d",
          "grid.254444.7",
          "grid.9227.e",
          "grid.267309.9",
          "grid.16821.3c",
          "grid.266436.3",
          "grid.266621.7",
          "grid.25879.31",
          "grid.260463.5",
          "grid.415105.4",
          "grid.416229.a",
          "grid.423905.9",
          "grid.412481.a",
          "grid.452451.3",
          "grid.62560.37",
          "grid.24696.3f",
          "grid.194645.b",
          "grid.261128.e",
          "grid.253615.6",
          "grid.89957.3a",
          "grid.20513.35",
          "grid.253663.7",
          "grid.417119.b",
          "grid.464378.a",
          "grid.34477.33",
          "grid.79703.3a",
          "grid.413073.2",
          "grid.267457.5",
          "grid.488530.2",
          "grid.411617.4",
          "grid.454868.3",
          "grid.240372.0",
          "grid.83440.3b",
          "grid.488157.7",
          "grid.266539.d",
          "grid.412532.3",
          "grid.433160.3",
          "grid.460699.4",
          "grid.410726.6",
          "grid.412246.7",
          "grid.499891.4",
          "grid.440668.8",
          "grid.419265.d",
          "grid.12981.33",
          "grid.263826.b",
          "grid.439104.b",
          "grid.264771.1",
          "grid.467559.c",
          "grid.28046.38",
          "grid.263761.7",
          "grid.8547.e",
          "grid.254229.a",
          "grid.258151.a",
          "grid.24516.34",
          "grid.89336.37",
          "grid.64924.3d",
          "grid.429222.d",
          "grid.267476.6",
          "grid.410631.1",
          "grid.410729.9",
          "grid.410795.e",
          "grid.8302.9",
          "grid.418558.5",
          "grid.49470.3e",
          "grid.411609.b",
          "grid.458515.8",
          "grid.257160.7",
          "grid.412028.d",
          "grid.458438.6",
          "grid.454850.8",
          "grid.453213.2",
          "grid.418741.f",
          "grid.58095.31",
          "grid.464312.6",
          "grid.240614.5",
          "grid.411482.a",
          "grid.413389.4",
          "grid.12527.33",
          "grid.256885.4",
          "grid.239395.7",
          "grid.414252.4",
          "grid.411918.4",
          "grid.429211.d",
          "grid.5216.0",
          "grid.458442.b",
          "grid.413259.8",
          "grid.419897.a",
          "grid.28056.39",
          "grid.64337.35",
          "grid.413106.1",
          "grid.268415.c",
          "grid.412787.f",
          "grid.33199.31",
          "grid.410318.f",
          "grid.411083.f",
          "grid.168645.8",
          "grid.458476.c",
          "grid.452609.c",
          "grid.189509.c",
          "grid.46078.3d",
          "grid.5371.0",
          "grid.428392.6",
          "grid.16753.36",
          "grid.477514.4",
          "grid.267337.4",
          "grid.26009.3d",
          "grid.266456.5",
          "grid.417808.2",
          "grid.42505.36",
          "grid.464333.5",
          "grid.267827.e",
          "grid.412676.0",
          "grid.411050.1",
          "grid.419635.c",
          "grid.198530.6",
          "grid.412243.2",
          "grid.13402.34",
          "grid.19373.3f",
          "grid.256304.6",
          "grid.412830.c",
          "grid.462326.7",
          "grid.4714.6",
          "grid.27446.33",
          "grid.136593.b",
          "grid.430605.4",
          "grid.31880.32",
          "grid.412608.9",
          "grid.48166.3d",
          "grid.418856.6",
          "grid.411667.3",
          "grid.458488.d",
          "grid.504449.8",
          "grid.214458.e",
          "grid.33763.32",
          "grid.464353.3",
          "grid.143640.4",
          "grid.458443.a",
          "grid.38142.3c",
          "grid.266623.5",
          "grid.410470.6"
         ]
        }
       ]
      },
      "text/plain": [
       "<dimcli.Dataset object #4666247184. Records: 20/107124256>"
      ]
     },
     "execution_count": 6,
     "metadata": {
      "application/json": {
       "expanded": false,
       "root": "root"
      }
     },
     "output_type": "execute_result"
    }
   ],
   "source": [
    "%%dsl \n",
    "search publications return publications[researchers] return researchers[all]"
   ]
  },
  {
   "cell_type": "markdown",
   "metadata": {
    "Collapsed": "false"
   },
   "source": [
    "**Comments** \n",
    "\n",
    "* Change message as follows: “Please review your query, as it contains an entity filter (XX-XX-XX) that can lead to incomplete results. More details on https://docs.dimensions.ai/dsl/language.html#literal-fields-vs-entity-fields.“\n",
    "* Be selective when to show message\n",
    "    * Do not show message for entities: states, open_access, countries, categories, org groups  \n",
    "    * Show message for entities: journals, orgs, cities (not 100% sure about cities so please dbcheck) \n",
    "* Show a single message: ie no need to also show also the warning 'Query is too long or complex.etc..'"
   ]
  },
  {
   "cell_type": "markdown",
   "metadata": {
    "Collapsed": "true",
    "colab_type": "text",
    "id": "YBSdHL4Tywj4"
   },
   "source": [
    "## [DSL-325] Add clinical_trials.acronym and clinical_trials.brief_title\n",
    "\n",
    "https://uberresearch.atlassian.net/browse/DSL-325"
   ]
  },
  {
   "cell_type": "code",
   "execution_count": 8,
   "metadata": {
    "Collapsed": "false"
   },
   "outputs": [],
   "source": [
    "fields = [\"acronym\", \"brief_title\", \"interventions\"]"
   ]
  },
  {
   "cell_type": "code",
   "execution_count": 9,
   "metadata": {
    "Collapsed": "false"
   },
   "outputs": [
    {
     "data": {
      "text/html": [
       "<div>\n",
       "<style scoped>\n",
       "    .dataframe tbody tr th:only-of-type {\n",
       "        vertical-align: middle;\n",
       "    }\n",
       "\n",
       "    .dataframe tbody tr th {\n",
       "        vertical-align: top;\n",
       "    }\n",
       "\n",
       "    .dataframe thead th {\n",
       "        text-align: right;\n",
       "    }\n",
       "</style>\n",
       "<table border=\"1\" class=\"dataframe\">\n",
       "  <thead>\n",
       "    <tr style=\"text-align: right;\">\n",
       "      <th></th>\n",
       "      <th>sources</th>\n",
       "      <th>field</th>\n",
       "      <th>type</th>\n",
       "      <th>description</th>\n",
       "      <th>is_filter</th>\n",
       "      <th>is_entity</th>\n",
       "      <th>is_facet</th>\n",
       "    </tr>\n",
       "  </thead>\n",
       "  <tbody>\n",
       "    <tr>\n",
       "      <th>0</th>\n",
       "      <td>clinical_trials</td>\n",
       "      <td>abstract</td>\n",
       "      <td>string</td>\n",
       "      <td>Abstract or description of the clinical trial.</td>\n",
       "      <td>False</td>\n",
       "      <td>False</td>\n",
       "      <td>False</td>\n",
       "    </tr>\n",
       "    <tr>\n",
       "      <th>1</th>\n",
       "      <td>clinical_trials</td>\n",
       "      <td>acronym</td>\n",
       "      <td>string</td>\n",
       "      <td>Acronym of the clinical trial.</td>\n",
       "      <td>True</td>\n",
       "      <td>False</td>\n",
       "      <td>False</td>\n",
       "    </tr>\n",
       "    <tr>\n",
       "      <th>2</th>\n",
       "      <td>clinical_trials</td>\n",
       "      <td>active_years</td>\n",
       "      <td>integer</td>\n",
       "      <td>List of active years for a clinical trial.</td>\n",
       "      <td>True</td>\n",
       "      <td>False</td>\n",
       "      <td>True</td>\n",
       "    </tr>\n",
       "    <tr>\n",
       "      <th>3</th>\n",
       "      <td>clinical_trials</td>\n",
       "      <td>associated_grant_ids</td>\n",
       "      <td>string</td>\n",
       "      <td>Dimensions IDs of the grants associated to the...</td>\n",
       "      <td>True</td>\n",
       "      <td>False</td>\n",
       "      <td>False</td>\n",
       "    </tr>\n",
       "    <tr>\n",
       "      <th>4</th>\n",
       "      <td>clinical_trials</td>\n",
       "      <td>brief_title</td>\n",
       "      <td>string</td>\n",
       "      <td>Brief title of the clinical trial.</td>\n",
       "      <td>True</td>\n",
       "      <td>False</td>\n",
       "      <td>False</td>\n",
       "    </tr>\n",
       "    <tr>\n",
       "      <th>5</th>\n",
       "      <td>clinical_trials</td>\n",
       "      <td>category_bra</td>\n",
       "      <td>categories</td>\n",
       "      <td>`Broad Research Areas &lt;https://app.dimensions....</td>\n",
       "      <td>True</td>\n",
       "      <td>True</td>\n",
       "      <td>True</td>\n",
       "    </tr>\n",
       "    <tr>\n",
       "      <th>6</th>\n",
       "      <td>clinical_trials</td>\n",
       "      <td>category_for</td>\n",
       "      <td>categories</td>\n",
       "      <td>`ANZSRC Fields of Research classification &lt;htt...</td>\n",
       "      <td>True</td>\n",
       "      <td>True</td>\n",
       "      <td>True</td>\n",
       "    </tr>\n",
       "    <tr>\n",
       "      <th>7</th>\n",
       "      <td>clinical_trials</td>\n",
       "      <td>category_hra</td>\n",
       "      <td>categories</td>\n",
       "      <td>`Health Research Areas &lt;https://app.dimensions...</td>\n",
       "      <td>True</td>\n",
       "      <td>True</td>\n",
       "      <td>True</td>\n",
       "    </tr>\n",
       "    <tr>\n",
       "      <th>8</th>\n",
       "      <td>clinical_trials</td>\n",
       "      <td>category_hrcs_hc</td>\n",
       "      <td>categories</td>\n",
       "      <td>`HRCS - Health Categories &lt;https://app.dimensi...</td>\n",
       "      <td>True</td>\n",
       "      <td>True</td>\n",
       "      <td>True</td>\n",
       "    </tr>\n",
       "    <tr>\n",
       "      <th>9</th>\n",
       "      <td>clinical_trials</td>\n",
       "      <td>category_hrcs_rac</td>\n",
       "      <td>categories</td>\n",
       "      <td>`HRCS – Research Activity Codes &lt;https://app.d...</td>\n",
       "      <td>True</td>\n",
       "      <td>True</td>\n",
       "      <td>True</td>\n",
       "    </tr>\n",
       "    <tr>\n",
       "      <th>10</th>\n",
       "      <td>clinical_trials</td>\n",
       "      <td>category_icrp_cso</td>\n",
       "      <td>categories</td>\n",
       "      <td>`ICRP Common Scientific Outline &lt;https://app.d...</td>\n",
       "      <td>True</td>\n",
       "      <td>True</td>\n",
       "      <td>True</td>\n",
       "    </tr>\n",
       "    <tr>\n",
       "      <th>11</th>\n",
       "      <td>clinical_trials</td>\n",
       "      <td>category_icrp_ct</td>\n",
       "      <td>categories</td>\n",
       "      <td>`ICRP Cancer Types &lt;https://app.dimensions.ai/...</td>\n",
       "      <td>True</td>\n",
       "      <td>True</td>\n",
       "      <td>True</td>\n",
       "    </tr>\n",
       "    <tr>\n",
       "      <th>12</th>\n",
       "      <td>clinical_trials</td>\n",
       "      <td>category_rcdc</td>\n",
       "      <td>categories</td>\n",
       "      <td>`Research, Condition, and Disease Categorizati...</td>\n",
       "      <td>True</td>\n",
       "      <td>True</td>\n",
       "      <td>True</td>\n",
       "    </tr>\n",
       "    <tr>\n",
       "      <th>13</th>\n",
       "      <td>clinical_trials</td>\n",
       "      <td>conditions</td>\n",
       "      <td>string</td>\n",
       "      <td>List of medical conditions names, e.g. 'Breast...</td>\n",
       "      <td>True</td>\n",
       "      <td>False</td>\n",
       "      <td>False</td>\n",
       "    </tr>\n",
       "    <tr>\n",
       "      <th>14</th>\n",
       "      <td>clinical_trials</td>\n",
       "      <td>date</td>\n",
       "      <td>date</td>\n",
       "      <td>Start date of a clinical trial.</td>\n",
       "      <td>True</td>\n",
       "      <td>False</td>\n",
       "      <td>False</td>\n",
       "    </tr>\n",
       "    <tr>\n",
       "      <th>15</th>\n",
       "      <td>clinical_trials</td>\n",
       "      <td>date_inserted</td>\n",
       "      <td>date</td>\n",
       "      <td>Date when the record was inserted into Dimensi...</td>\n",
       "      <td>True</td>\n",
       "      <td>False</td>\n",
       "      <td>False</td>\n",
       "    </tr>\n",
       "    <tr>\n",
       "      <th>16</th>\n",
       "      <td>clinical_trials</td>\n",
       "      <td>funder_countries</td>\n",
       "      <td>countries</td>\n",
       "      <td>The country group the funding organisations.</td>\n",
       "      <td>True</td>\n",
       "      <td>True</td>\n",
       "      <td>True</td>\n",
       "    </tr>\n",
       "    <tr>\n",
       "      <th>17</th>\n",
       "      <td>clinical_trials</td>\n",
       "      <td>funder_groups</td>\n",
       "      <td>org_groups</td>\n",
       "      <td>The organisation group the funding organisations.</td>\n",
       "      <td>True</td>\n",
       "      <td>True</td>\n",
       "      <td>True</td>\n",
       "    </tr>\n",
       "    <tr>\n",
       "      <th>18</th>\n",
       "      <td>clinical_trials</td>\n",
       "      <td>funders</td>\n",
       "      <td>organizations</td>\n",
       "      <td>GRID funding organisations that are involved w...</td>\n",
       "      <td>True</td>\n",
       "      <td>True</td>\n",
       "      <td>True</td>\n",
       "    </tr>\n",
       "    <tr>\n",
       "      <th>19</th>\n",
       "      <td>clinical_trials</td>\n",
       "      <td>gender</td>\n",
       "      <td>string</td>\n",
       "      <td>The gender of the clinical trial subjects e.g....</td>\n",
       "      <td>True</td>\n",
       "      <td>False</td>\n",
       "      <td>False</td>\n",
       "    </tr>\n",
       "    <tr>\n",
       "      <th>20</th>\n",
       "      <td>clinical_trials</td>\n",
       "      <td>id</td>\n",
       "      <td>string</td>\n",
       "      <td>Dimensions clinical trial ID</td>\n",
       "      <td>True</td>\n",
       "      <td>False</td>\n",
       "      <td>False</td>\n",
       "    </tr>\n",
       "    <tr>\n",
       "      <th>21</th>\n",
       "      <td>clinical_trials</td>\n",
       "      <td>interventions</td>\n",
       "      <td>json</td>\n",
       "      <td>Structured JSON object containing information ...</td>\n",
       "      <td>True</td>\n",
       "      <td>False</td>\n",
       "      <td>False</td>\n",
       "    </tr>\n",
       "    <tr>\n",
       "      <th>22</th>\n",
       "      <td>clinical_trials</td>\n",
       "      <td>investigator_details</td>\n",
       "      <td>json</td>\n",
       "      <td>Additional details about investigators, includ...</td>\n",
       "      <td>True</td>\n",
       "      <td>False</td>\n",
       "      <td>False</td>\n",
       "    </tr>\n",
       "    <tr>\n",
       "      <th>23</th>\n",
       "      <td>clinical_trials</td>\n",
       "      <td>linkout</td>\n",
       "      <td>string</td>\n",
       "      <td>Original URL for the clinical trial.</td>\n",
       "      <td>False</td>\n",
       "      <td>False</td>\n",
       "      <td>False</td>\n",
       "    </tr>\n",
       "    <tr>\n",
       "      <th>24</th>\n",
       "      <td>clinical_trials</td>\n",
       "      <td>organizations</td>\n",
       "      <td>organizations</td>\n",
       "      <td>GRID organizations involved, e.g. as sponsors ...</td>\n",
       "      <td>True</td>\n",
       "      <td>True</td>\n",
       "      <td>True</td>\n",
       "    </tr>\n",
       "    <tr>\n",
       "      <th>25</th>\n",
       "      <td>clinical_trials</td>\n",
       "      <td>phase</td>\n",
       "      <td>string</td>\n",
       "      <td>Phase of the clinical trial, as a string.</td>\n",
       "      <td>True</td>\n",
       "      <td>False</td>\n",
       "      <td>False</td>\n",
       "    </tr>\n",
       "    <tr>\n",
       "      <th>26</th>\n",
       "      <td>clinical_trials</td>\n",
       "      <td>publication_ids</td>\n",
       "      <td>string</td>\n",
       "      <td>Dimensions IDs of the publications related to ...</td>\n",
       "      <td>True</td>\n",
       "      <td>False</td>\n",
       "      <td>False</td>\n",
       "    </tr>\n",
       "    <tr>\n",
       "      <th>27</th>\n",
       "      <td>clinical_trials</td>\n",
       "      <td>registry</td>\n",
       "      <td>string</td>\n",
       "      <td>The platform where the clinical trial has been...</td>\n",
       "      <td>True</td>\n",
       "      <td>False</td>\n",
       "      <td>False</td>\n",
       "    </tr>\n",
       "    <tr>\n",
       "      <th>28</th>\n",
       "      <td>clinical_trials</td>\n",
       "      <td>researchers</td>\n",
       "      <td>researchers</td>\n",
       "      <td>Dimensions researchers IDs associated to the c...</td>\n",
       "      <td>True</td>\n",
       "      <td>True</td>\n",
       "      <td>True</td>\n",
       "    </tr>\n",
       "    <tr>\n",
       "      <th>29</th>\n",
       "      <td>clinical_trials</td>\n",
       "      <td>title</td>\n",
       "      <td>string</td>\n",
       "      <td>The title of the clinical trial.</td>\n",
       "      <td>False</td>\n",
       "      <td>False</td>\n",
       "      <td>False</td>\n",
       "    </tr>\n",
       "  </tbody>\n",
       "</table>\n",
       "</div>"
      ],
      "text/plain": [
       "            sources                 field           type  \\\n",
       "0   clinical_trials              abstract         string   \n",
       "1   clinical_trials               acronym         string   \n",
       "2   clinical_trials          active_years        integer   \n",
       "3   clinical_trials  associated_grant_ids         string   \n",
       "4   clinical_trials           brief_title         string   \n",
       "5   clinical_trials          category_bra     categories   \n",
       "6   clinical_trials          category_for     categories   \n",
       "7   clinical_trials          category_hra     categories   \n",
       "8   clinical_trials      category_hrcs_hc     categories   \n",
       "9   clinical_trials     category_hrcs_rac     categories   \n",
       "10  clinical_trials     category_icrp_cso     categories   \n",
       "11  clinical_trials      category_icrp_ct     categories   \n",
       "12  clinical_trials         category_rcdc     categories   \n",
       "13  clinical_trials            conditions         string   \n",
       "14  clinical_trials                  date           date   \n",
       "15  clinical_trials         date_inserted           date   \n",
       "16  clinical_trials      funder_countries      countries   \n",
       "17  clinical_trials         funder_groups     org_groups   \n",
       "18  clinical_trials               funders  organizations   \n",
       "19  clinical_trials                gender         string   \n",
       "20  clinical_trials                    id         string   \n",
       "21  clinical_trials         interventions           json   \n",
       "22  clinical_trials  investigator_details           json   \n",
       "23  clinical_trials               linkout         string   \n",
       "24  clinical_trials         organizations  organizations   \n",
       "25  clinical_trials                 phase         string   \n",
       "26  clinical_trials       publication_ids         string   \n",
       "27  clinical_trials              registry         string   \n",
       "28  clinical_trials           researchers    researchers   \n",
       "29  clinical_trials                 title         string   \n",
       "\n",
       "                                          description  is_filter  is_entity  \\\n",
       "0      Abstract or description of the clinical trial.      False      False   \n",
       "1                      Acronym of the clinical trial.       True      False   \n",
       "2          List of active years for a clinical trial.       True      False   \n",
       "3   Dimensions IDs of the grants associated to the...       True      False   \n",
       "4                  Brief title of the clinical trial.       True      False   \n",
       "5   `Broad Research Areas <https://app.dimensions....       True       True   \n",
       "6   `ANZSRC Fields of Research classification <htt...       True       True   \n",
       "7   `Health Research Areas <https://app.dimensions...       True       True   \n",
       "8   `HRCS - Health Categories <https://app.dimensi...       True       True   \n",
       "9   `HRCS – Research Activity Codes <https://app.d...       True       True   \n",
       "10  `ICRP Common Scientific Outline <https://app.d...       True       True   \n",
       "11  `ICRP Cancer Types <https://app.dimensions.ai/...       True       True   \n",
       "12  `Research, Condition, and Disease Categorizati...       True       True   \n",
       "13  List of medical conditions names, e.g. 'Breast...       True      False   \n",
       "14                    Start date of a clinical trial.       True      False   \n",
       "15  Date when the record was inserted into Dimensi...       True      False   \n",
       "16       The country group the funding organisations.       True       True   \n",
       "17  The organisation group the funding organisations.       True       True   \n",
       "18  GRID funding organisations that are involved w...       True       True   \n",
       "19  The gender of the clinical trial subjects e.g....       True      False   \n",
       "20                       Dimensions clinical trial ID       True      False   \n",
       "21  Structured JSON object containing information ...       True      False   \n",
       "22  Additional details about investigators, includ...       True      False   \n",
       "23               Original URL for the clinical trial.      False      False   \n",
       "24  GRID organizations involved, e.g. as sponsors ...       True       True   \n",
       "25          Phase of the clinical trial, as a string.       True      False   \n",
       "26  Dimensions IDs of the publications related to ...       True      False   \n",
       "27  The platform where the clinical trial has been...       True      False   \n",
       "28  Dimensions researchers IDs associated to the c...       True       True   \n",
       "29                   The title of the clinical trial.      False      False   \n",
       "\n",
       "    is_facet  \n",
       "0      False  \n",
       "1      False  \n",
       "2       True  \n",
       "3      False  \n",
       "4      False  \n",
       "5       True  \n",
       "6       True  \n",
       "7       True  \n",
       "8       True  \n",
       "9       True  \n",
       "10      True  \n",
       "11      True  \n",
       "12      True  \n",
       "13     False  \n",
       "14     False  \n",
       "15     False  \n",
       "16      True  \n",
       "17      True  \n",
       "18      True  \n",
       "19     False  \n",
       "20     False  \n",
       "21     False  \n",
       "22     False  \n",
       "23     False  \n",
       "24      True  \n",
       "25     False  \n",
       "26     False  \n",
       "27     False  \n",
       "28      True  \n",
       "29     False  "
      ]
     },
     "execution_count": 9,
     "metadata": {},
     "output_type": "execute_result"
    }
   ],
   "source": [
    "%dsldocs clinical_trials"
   ]
  },
  {
   "cell_type": "code",
   "execution_count": 10,
   "metadata": {
    "Collapsed": "false"
   },
   "outputs": [
    {
     "name": "stdout",
     "output_type": "stream",
     "text": [
      "Returned Clinical_trials: 20 (total = 95345)\n",
      "{'total_count': 95345}\n",
      "Returned Clinical_trials: 20 (total = 486704)\n",
      "{'total_count': 486704}\n",
      "Returned Clinical_trials: 20 (total = 328633)\n",
      "{'total_count': 328633}\n"
     ]
    }
   ],
   "source": [
    "q = \"\"\"search clinical_trials where {} is not empty return clinical_trials\"\"\"\n",
    "\n",
    "for x in fields:\n",
    "    data = dsl.query(q.format(x))\n",
    "    print(data.stats)"
   ]
  },
  {
   "cell_type": "code",
   "execution_count": 11,
   "metadata": {
    "Collapsed": "false"
   },
   "outputs": [
    {
     "name": "stdout",
     "output_type": "stream",
     "text": [
      "Returned Clinical_trials: 1 (total = 2804)\n",
      "{'_stats': {'total_count': 2804, 'limit': 1, 'offset': 0}, 'clinical_trials': [{'brief_title': 'The Prevalence of Neurocognitive Disorder in a Primary Care-based HIV Cohort Compared to a HIV-negative Control Cohort -', 'id': 'NCT01434563', 'acronym': 'CNS HAND'}]}\n",
      "Returned Clinical_trials: 1 (total = 11132)\n",
      "{'_stats': {'total_count': 11132, 'limit': 1, 'offset': 0}, 'clinical_trials': [{'brief_title': 'Exploratory open-label randomized clinical trial to assess the efficacy of first-line dual vs triple antiretroviral therapy art in hiv-1 reservoir and in peripheral compartments in hiv-infected patients', 'id': '2019-002733-10'}]}\n",
      "Returned Clinical_trials: 1 (total = 9035)\n",
      "{'_stats': {'total_count': 9035, 'limit': 1, 'offset': 0}, 'clinical_trials': [{'brief_title': 'Impact of CMV Status on HIV Viral Load Decay', 'id': 'NCT03349359', 'interventions': [{'type': 'Drug', 'name': 'HIV antiretroviral therapy', 'description': \"HIV patients are receiving an antiretroviral therapy according to the physician's discretion and the availability of drugs\", 'arm_group_labels': '', 'other_names': ''}]}]}\n"
     ]
    }
   ],
   "source": [
    "q = \"\"\"search clinical_trials for \"hiv\" where {} is not empty return clinical_trials[id+brief_title+acronym+interventions] limit 1\"\"\"\n",
    "\n",
    "for x in fields:\n",
    "    data = dsl.query(q.format(x))\n",
    "    print(data.json)"
   ]
  },
  {
   "cell_type": "markdown",
   "metadata": {
    "Collapsed": "true",
    "colab_type": "text",
    "id": "YBSdHL4Tywj4"
   },
   "source": [
    "## [DSL-329] Fix error with missing cities IDs when only one is missing\n",
    "\n",
    "https://uberresearch.atlassian.net/browse/DSL-329"
   ]
  },
  {
   "cell_type": "code",
   "execution_count": 13,
   "metadata": {
    "Collapsed": "false"
   },
   "outputs": [
    {
     "name": "stdout",
     "output_type": "stream",
     "text": [
      "Returned Publications: 1 (total = 1)\n",
      "WARNINGS [9]\n",
      "Field 'author_affiliations' is deprecated in favor of authors. Please refer to https://docs.dimensions.ai/dsl/releasenotes.html for more details\n",
      "Field 'open_access' is deprecated in favor of open_access_categories. Please refer to https://docs.dimensions.ai/dsl/releasenotes.html for more details\n",
      "Field 'terms' is deprecated in favor of concepts. Please refer to https://docs.dimensions.ai/dsl/releasenotes.html for more details\n",
      "Field 'references' is deprecated in favor of reference_ids. Please refer to https://docs.dimensions.ai/dsl/releasenotes.html for more details\n",
      "Field 'HRCS_RAC' is deprecated in favor of category_hrcs_rac. Please refer to https://docs.dimensions.ai/dsl/releasenotes.html for more details\n",
      "Field 'FOR_first' is deprecated in favor of category_for. Please refer to https://docs.dimensions.ai/dsl/releasenotes.html for more details\n",
      "Field 'HRCS_HC' is deprecated in favor of category_hrcs_hc. Please refer to https://docs.dimensions.ai/dsl/releasenotes.html for more details\n",
      "Field 'FOR' is deprecated in favor of category_for. Please refer to https://docs.dimensions.ai/dsl/releasenotes.html for more details\n",
      "Field 'RCDC' is deprecated in favor of category_rcdc. Please refer to https://docs.dimensions.ai/dsl/releasenotes.html for more details\n"
     ]
    },
    {
     "data": {
      "application/json": {
       "_stats": {
        "limit": 25,
        "offset": 0,
        "total_count": 1
       },
       "_warnings": [
        "Field 'author_affiliations' is deprecated in favor of authors. Please refer to https://docs.dimensions.ai/dsl/releasenotes.html for more details",
        "Field 'open_access' is deprecated in favor of open_access_categories. Please refer to https://docs.dimensions.ai/dsl/releasenotes.html for more details",
        "Field 'terms' is deprecated in favor of concepts. Please refer to https://docs.dimensions.ai/dsl/releasenotes.html for more details",
        "Field 'references' is deprecated in favor of reference_ids. Please refer to https://docs.dimensions.ai/dsl/releasenotes.html for more details",
        "Field 'HRCS_RAC' is deprecated in favor of category_hrcs_rac. Please refer to https://docs.dimensions.ai/dsl/releasenotes.html for more details",
        "Field 'FOR_first' is deprecated in favor of category_for. Please refer to https://docs.dimensions.ai/dsl/releasenotes.html for more details",
        "Field 'HRCS_HC' is deprecated in favor of category_hrcs_hc. Please refer to https://docs.dimensions.ai/dsl/releasenotes.html for more details",
        "Field 'FOR' is deprecated in favor of category_for. Please refer to https://docs.dimensions.ai/dsl/releasenotes.html for more details",
        "Field 'RCDC' is deprecated in favor of category_rcdc. Please refer to https://docs.dimensions.ai/dsl/releasenotes.html for more details"
       ],
       "publications": [
        {
         "author_affiliations": [
          [
           {
            "affiliations": [
             {
              "name": "Melbourne, 2015"
             }
            ],
            "corresponding": "",
            "current_organization_id": "grid.1017.7",
            "first_name": "Russell J",
            "last_name": "Crawford",
            "orcid": "['0000-0003-1054-5285']",
            "raw_affiliation": [
             "Melbourne, 2015"
            ],
            "researcher_id": "ur.01351445450.75"
           },
           {
            "affiliations": [
             {
              "name": "Melbourne, 2015"
             }
            ],
            "corresponding": "",
            "current_organization_id": "grid.1017.7",
            "first_name": "Elena P",
            "last_name": "Ivanova",
            "orcid": "['0000-0002-5509-8071']",
            "raw_affiliation": [
             "Melbourne, 2015"
            ],
            "researcher_id": "ur.01137557647.27"
           }
          ]
         ],
         "authors": [
          {
           "affiliations": [
            {
             "name": "Melbourne, 2015"
            }
           ],
           "corresponding": "",
           "current_organization_id": "grid.1017.7",
           "first_name": "Russell J",
           "last_name": "Crawford",
           "orcid": "['0000-0003-1054-5285']",
           "raw_affiliation": [
            "Melbourne, 2015"
           ],
           "researcher_id": "ur.01351445450.75"
          },
          {
           "affiliations": [
            {
             "name": "Melbourne, 2015"
            }
           ],
           "corresponding": "",
           "current_organization_id": "grid.1017.7",
           "first_name": "Elena P",
           "last_name": "Ivanova",
           "orcid": "['0000-0002-5509-8071']",
           "raw_affiliation": [
            "Melbourne, 2015"
           ],
           "researcher_id": "ur.01137557647.27"
          }
         ],
         "book_title": "Superhydrophobic Surfaces",
         "date": "2015-01-01",
         "date_inserted": "2017-08-31",
         "doi": "10.1016/b978-0-12-801109-6.05001-1",
         "id": "pub.1027065973",
         "open_access_categories": [
          {
           "description": "No freely available copy has been identified",
           "id": "closed",
           "name": "Closed"
          }
         ],
         "pages": "xi",
         "publisher": "Elsevier",
         "research_org_countries": [
          {
           "id": "AU",
           "name": "Australia"
          }
         ],
         "research_org_country_names": [
          "Australia"
         ],
         "research_org_state_names": [
          "New South Wales"
         ],
         "researchers": [
          {
           "first_name": "Russell J",
           "id": "ur.01351445450.75",
           "last_name": "Crawford",
           "orcid_id": [
            "0000-0003-1054-5285"
           ],
           "research_orgs": [
            "grid.1017.7",
            "grid.1027.4"
           ]
          },
          {
           "first_name": "Elena P",
           "id": "ur.01137557647.27",
           "last_name": "Ivanova",
           "orcid_id": [
            "0000-0002-5509-8071"
           ],
           "research_orgs": [
            "grid.1011.1",
            "grid.10548.38",
            "grid.417808.2",
            "grid.465320.6",
            "grid.1007.6",
            "grid.411024.2",
            "grid.4886.2",
            "grid.1027.4",
            "grid.465369.b",
            "grid.418820.7",
            "grid.1017.7",
            "grid.253294.b"
           ]
          }
         ],
         "score": 1,
         "title": "Preface",
         "type": "chapter",
         "year": 2015
        }
       ]
      },
      "text/plain": [
       "<dimcli.Dataset object #4677885712. Records: 1/1>"
      ]
     },
     "execution_count": 13,
     "metadata": {
      "application/json": {
       "expanded": false,
       "root": "root"
      }
     },
     "output_type": "execute_result"
    }
   ],
   "source": [
    "%dsl search publications  where type in [\"article\", \"chapter\", \"proceeding\", \"monograph\"] and (id in [\"pub.1027065973\"]) return publications[all] sort by id  limit 25 skip 0"
   ]
  },
  {
   "cell_type": "markdown",
   "metadata": {
    "Collapsed": "true",
    "colab_type": "text",
    "id": "YBSdHL4Tywj4"
   },
   "source": [
    "## [DSL-244] Publications.resulting_publication_doi (link from preprints)\n",
    "\n",
    "https://uberresearch.atlassian.net/browse/DSL-244"
   ]
  },
  {
   "cell_type": "code",
   "execution_count": 6,
   "metadata": {
    "Collapsed": "false"
   },
   "outputs": [
    {
     "name": "stdout",
     "output_type": "stream",
     "text": [
      "Returned Publications: 20 (total = 871144)\n"
     ]
    },
    {
     "data": {
      "text/html": [
       "<div>\n",
       "<style scoped>\n",
       "    .dataframe tbody tr th:only-of-type {\n",
       "        vertical-align: middle;\n",
       "    }\n",
       "\n",
       "    .dataframe tbody tr th {\n",
       "        vertical-align: top;\n",
       "    }\n",
       "\n",
       "    .dataframe thead th {\n",
       "        text-align: right;\n",
       "    }\n",
       "</style>\n",
       "<table border=\"1\" class=\"dataframe\">\n",
       "  <thead>\n",
       "    <tr style=\"text-align: right;\">\n",
       "      <th></th>\n",
       "      <th>id</th>\n",
       "      <th>journal.id</th>\n",
       "      <th>journal.title</th>\n",
       "      <th>resulting_publication_doi</th>\n",
       "      <th>title</th>\n",
       "      <th>type</th>\n",
       "      <th>year</th>\n",
       "    </tr>\n",
       "  </thead>\n",
       "  <tbody>\n",
       "    <tr>\n",
       "      <th>0</th>\n",
       "      <td>pub.1123829662</td>\n",
       "      <td>jour.1371339</td>\n",
       "      <td>arXiv</td>\n",
       "      <td>10.1145/3369199.3369225</td>\n",
       "      <td>Femoral Neck Angle Impacts Hip Disorder and Su...</td>\n",
       "      <td>preprint</td>\n",
       "      <td>2020</td>\n",
       "    </tr>\n",
       "    <tr>\n",
       "      <th>1</th>\n",
       "      <td>pub.1123829659</td>\n",
       "      <td>jour.1371339</td>\n",
       "      <td>arXiv</td>\n",
       "      <td>10.1103/physrevd.100.124059</td>\n",
       "      <td>Revisiting scalar and tensor perturbations in ...</td>\n",
       "      <td>preprint</td>\n",
       "      <td>2020</td>\n",
       "    </tr>\n",
       "    <tr>\n",
       "      <th>2</th>\n",
       "      <td>pub.1123829724</td>\n",
       "      <td>jour.1371339</td>\n",
       "      <td>arXiv</td>\n",
       "      <td>10.1080/15384101.2019.1706903</td>\n",
       "      <td>The double dealing of cyclin D1</td>\n",
       "      <td>preprint</td>\n",
       "      <td>2020</td>\n",
       "    </tr>\n",
       "    <tr>\n",
       "      <th>3</th>\n",
       "      <td>pub.1123829794</td>\n",
       "      <td>jour.1371339</td>\n",
       "      <td>arXiv</td>\n",
       "      <td>10.1038/s41467-019-14031-2</td>\n",
       "      <td>Colloidal interactions and unusual crystalliza...</td>\n",
       "      <td>preprint</td>\n",
       "      <td>2020</td>\n",
       "    </tr>\n",
       "    <tr>\n",
       "      <th>4</th>\n",
       "      <td>pub.1123829749</td>\n",
       "      <td>jour.1371339</td>\n",
       "      <td>arXiv</td>\n",
       "      <td>10.1142/11186</td>\n",
       "      <td>Astrophysical Constraints on Strong Modified G...</td>\n",
       "      <td>preprint</td>\n",
       "      <td>2020</td>\n",
       "    </tr>\n",
       "    <tr>\n",
       "      <th>5</th>\n",
       "      <td>pub.1123829786</td>\n",
       "      <td>jour.1371339</td>\n",
       "      <td>arXiv</td>\n",
       "      <td>10.1007/978-3-319-27279-5_10</td>\n",
       "      <td>On phase asymmetries in oscillatory pipe flow</td>\n",
       "      <td>preprint</td>\n",
       "      <td>2020</td>\n",
       "    </tr>\n",
       "    <tr>\n",
       "      <th>6</th>\n",
       "      <td>pub.1123829758</td>\n",
       "      <td>jour.1371339</td>\n",
       "      <td>arXiv</td>\n",
       "      <td>10.1007/s11468-019-01105-6</td>\n",
       "      <td>Plasmonic sensors based on funneling light thr...</td>\n",
       "      <td>preprint</td>\n",
       "      <td>2020</td>\n",
       "    </tr>\n",
       "    <tr>\n",
       "      <th>7</th>\n",
       "      <td>pub.1123829753</td>\n",
       "      <td>jour.1371339</td>\n",
       "      <td>arXiv</td>\n",
       "      <td>10.1109/jsen.2019.2960556</td>\n",
       "      <td>Ultra-narrow spectral response of a hybrid pla...</td>\n",
       "      <td>preprint</td>\n",
       "      <td>2020</td>\n",
       "    </tr>\n",
       "    <tr>\n",
       "      <th>8</th>\n",
       "      <td>pub.1123829716</td>\n",
       "      <td>jour.1371339</td>\n",
       "      <td>arXiv</td>\n",
       "      <td>10.1039/c8cp07764a</td>\n",
       "      <td>Entangling non planar molecules via inversion ...</td>\n",
       "      <td>preprint</td>\n",
       "      <td>2020</td>\n",
       "    </tr>\n",
       "    <tr>\n",
       "      <th>9</th>\n",
       "      <td>pub.1123829656</td>\n",
       "      <td>jour.1371339</td>\n",
       "      <td>arXiv</td>\n",
       "      <td>10.1109/mgrs.2019.2955120</td>\n",
       "      <td>A Review on InSAR Phase Denoising</td>\n",
       "      <td>preprint</td>\n",
       "      <td>2020</td>\n",
       "    </tr>\n",
       "    <tr>\n",
       "      <th>10</th>\n",
       "      <td>pub.1123829816</td>\n",
       "      <td>jour.1371339</td>\n",
       "      <td>arXiv</td>\n",
       "      <td>10.1017/s1743921318008025</td>\n",
       "      <td>The analogy of K-correction in the topic of ga...</td>\n",
       "      <td>preprint</td>\n",
       "      <td>2020</td>\n",
       "    </tr>\n",
       "    <tr>\n",
       "      <th>11</th>\n",
       "      <td>pub.1123829626</td>\n",
       "      <td>jour.1371339</td>\n",
       "      <td>arXiv</td>\n",
       "      <td>10.1088/0305-4470/38/7/l03</td>\n",
       "      <td>Functional-integral approach to Coulomb fluids...</td>\n",
       "      <td>preprint</td>\n",
       "      <td>2020</td>\n",
       "    </tr>\n",
       "    <tr>\n",
       "      <th>12</th>\n",
       "      <td>pub.1123829663</td>\n",
       "      <td>jour.1371339</td>\n",
       "      <td>arXiv</td>\n",
       "      <td>10.1063/1.5132419</td>\n",
       "      <td>Phonon dispersion in two-dimensional solids fr...</td>\n",
       "      <td>preprint</td>\n",
       "      <td>2020</td>\n",
       "    </tr>\n",
       "    <tr>\n",
       "      <th>13</th>\n",
       "      <td>pub.1123829620</td>\n",
       "      <td>jour.1371339</td>\n",
       "      <td>arXiv</td>\n",
       "      <td>10.1038/s41586-019-1247-7</td>\n",
       "      <td>Elastic colloidal monopoles and reconfigurable...</td>\n",
       "      <td>preprint</td>\n",
       "      <td>2020</td>\n",
       "    </tr>\n",
       "    <tr>\n",
       "      <th>14</th>\n",
       "      <td>pub.1123829817</td>\n",
       "      <td>jour.1371339</td>\n",
       "      <td>arXiv</td>\n",
       "      <td>10.1017/s1743921319000036</td>\n",
       "      <td>Gamma-ray bursts: A brief survey of the diversity</td>\n",
       "      <td>preprint</td>\n",
       "      <td>2020</td>\n",
       "    </tr>\n",
       "    <tr>\n",
       "      <th>15</th>\n",
       "      <td>pub.1123829745</td>\n",
       "      <td>jour.1371339</td>\n",
       "      <td>arXiv</td>\n",
       "      <td>10.1016/j.cie.2019.06.051</td>\n",
       "      <td>A cutting-plane algorithm for the Steiner team...</td>\n",
       "      <td>preprint</td>\n",
       "      <td>2020</td>\n",
       "    </tr>\n",
       "    <tr>\n",
       "      <th>16</th>\n",
       "      <td>pub.1123829735</td>\n",
       "      <td>jour.1371339</td>\n",
       "      <td>arXiv</td>\n",
       "      <td>10.1103/physrevfluids.3.110504</td>\n",
       "      <td>Bubble puzzles: From fundamentals to applications</td>\n",
       "      <td>preprint</td>\n",
       "      <td>2020</td>\n",
       "    </tr>\n",
       "    <tr>\n",
       "      <th>17</th>\n",
       "      <td>pub.1123793690</td>\n",
       "      <td>jour.1371339</td>\n",
       "      <td>arXiv</td>\n",
       "      <td>10.3390/sym12010084</td>\n",
       "      <td>RDF 1.1: Knowledge Representation and Data Int...</td>\n",
       "      <td>preprint</td>\n",
       "      <td>2020</td>\n",
       "    </tr>\n",
       "    <tr>\n",
       "      <th>18</th>\n",
       "      <td>pub.1123793777</td>\n",
       "      <td>jour.1371339</td>\n",
       "      <td>arXiv</td>\n",
       "      <td>10.1142/s2010326320400043</td>\n",
       "      <td>On the Distribution of an Arbitrary Subset of ...</td>\n",
       "      <td>preprint</td>\n",
       "      <td>2020</td>\n",
       "    </tr>\n",
       "    <tr>\n",
       "      <th>19</th>\n",
       "      <td>pub.1123829576</td>\n",
       "      <td>jour.1371339</td>\n",
       "      <td>arXiv</td>\n",
       "      <td>10.1109/tmi.2019.2963446</td>\n",
       "      <td>Robust Self-Supervised Learning of Determinist...</td>\n",
       "      <td>preprint</td>\n",
       "      <td>2020</td>\n",
       "    </tr>\n",
       "  </tbody>\n",
       "</table>\n",
       "</div>"
      ],
      "text/plain": [
       "                id    journal.id journal.title  \\\n",
       "0   pub.1123829662  jour.1371339         arXiv   \n",
       "1   pub.1123829659  jour.1371339         arXiv   \n",
       "2   pub.1123829724  jour.1371339         arXiv   \n",
       "3   pub.1123829794  jour.1371339         arXiv   \n",
       "4   pub.1123829749  jour.1371339         arXiv   \n",
       "5   pub.1123829786  jour.1371339         arXiv   \n",
       "6   pub.1123829758  jour.1371339         arXiv   \n",
       "7   pub.1123829753  jour.1371339         arXiv   \n",
       "8   pub.1123829716  jour.1371339         arXiv   \n",
       "9   pub.1123829656  jour.1371339         arXiv   \n",
       "10  pub.1123829816  jour.1371339         arXiv   \n",
       "11  pub.1123829626  jour.1371339         arXiv   \n",
       "12  pub.1123829663  jour.1371339         arXiv   \n",
       "13  pub.1123829620  jour.1371339         arXiv   \n",
       "14  pub.1123829817  jour.1371339         arXiv   \n",
       "15  pub.1123829745  jour.1371339         arXiv   \n",
       "16  pub.1123829735  jour.1371339         arXiv   \n",
       "17  pub.1123793690  jour.1371339         arXiv   \n",
       "18  pub.1123793777  jour.1371339         arXiv   \n",
       "19  pub.1123829576  jour.1371339         arXiv   \n",
       "\n",
       "         resulting_publication_doi  \\\n",
       "0          10.1145/3369199.3369225   \n",
       "1      10.1103/physrevd.100.124059   \n",
       "2    10.1080/15384101.2019.1706903   \n",
       "3       10.1038/s41467-019-14031-2   \n",
       "4                    10.1142/11186   \n",
       "5     10.1007/978-3-319-27279-5_10   \n",
       "6       10.1007/s11468-019-01105-6   \n",
       "7        10.1109/jsen.2019.2960556   \n",
       "8               10.1039/c8cp07764a   \n",
       "9        10.1109/mgrs.2019.2955120   \n",
       "10       10.1017/s1743921318008025   \n",
       "11      10.1088/0305-4470/38/7/l03   \n",
       "12               10.1063/1.5132419   \n",
       "13       10.1038/s41586-019-1247-7   \n",
       "14       10.1017/s1743921319000036   \n",
       "15       10.1016/j.cie.2019.06.051   \n",
       "16  10.1103/physrevfluids.3.110504   \n",
       "17             10.3390/sym12010084   \n",
       "18       10.1142/s2010326320400043   \n",
       "19        10.1109/tmi.2019.2963446   \n",
       "\n",
       "                                                title      type  year  \n",
       "0   Femoral Neck Angle Impacts Hip Disorder and Su...  preprint  2020  \n",
       "1   Revisiting scalar and tensor perturbations in ...  preprint  2020  \n",
       "2                     The double dealing of cyclin D1  preprint  2020  \n",
       "3   Colloidal interactions and unusual crystalliza...  preprint  2020  \n",
       "4   Astrophysical Constraints on Strong Modified G...  preprint  2020  \n",
       "5       On phase asymmetries in oscillatory pipe flow  preprint  2020  \n",
       "6   Plasmonic sensors based on funneling light thr...  preprint  2020  \n",
       "7   Ultra-narrow spectral response of a hybrid pla...  preprint  2020  \n",
       "8   Entangling non planar molecules via inversion ...  preprint  2020  \n",
       "9                   A Review on InSAR Phase Denoising  preprint  2020  \n",
       "10  The analogy of K-correction in the topic of ga...  preprint  2020  \n",
       "11  Functional-integral approach to Coulomb fluids...  preprint  2020  \n",
       "12  Phonon dispersion in two-dimensional solids fr...  preprint  2020  \n",
       "13  Elastic colloidal monopoles and reconfigurable...  preprint  2020  \n",
       "14  Gamma-ray bursts: A brief survey of the diversity  preprint  2020  \n",
       "15  A cutting-plane algorithm for the Steiner team...  preprint  2020  \n",
       "16  Bubble puzzles: From fundamentals to applications  preprint  2020  \n",
       "17  RDF 1.1: Knowledge Representation and Data Int...  preprint  2020  \n",
       "18  On the Distribution of an Arbitrary Subset of ...  preprint  2020  \n",
       "19  Robust Self-Supervised Learning of Determinist...  preprint  2020  "
      ]
     },
     "execution_count": 6,
     "metadata": {},
     "output_type": "execute_result"
    }
   ],
   "source": [
    "%dsldf search publications where resulting_publication_doi is not empty return publications[id+doi+title+journal+type+year+resulting_publication_doi]"
   ]
  },
  {
   "cell_type": "code",
   "execution_count": 9,
   "metadata": {
    "Collapsed": "false"
   },
   "outputs": [
    {
     "name": "stdout",
     "output_type": "stream",
     "text": [
      "Returned Publications: 1 (total = 1)\n"
     ]
    },
    {
     "data": {
      "text/html": [
       "<div>\n",
       "<style scoped>\n",
       "    .dataframe tbody tr th:only-of-type {\n",
       "        vertical-align: middle;\n",
       "    }\n",
       "\n",
       "    .dataframe tbody tr th {\n",
       "        vertical-align: top;\n",
       "    }\n",
       "\n",
       "    .dataframe thead th {\n",
       "        text-align: right;\n",
       "    }\n",
       "</style>\n",
       "<table border=\"1\" class=\"dataframe\">\n",
       "  <thead>\n",
       "    <tr style=\"text-align: right;\">\n",
       "      <th></th>\n",
       "      <th>author_affiliations</th>\n",
       "      <th>id</th>\n",
       "      <th>issue</th>\n",
       "      <th>journal.id</th>\n",
       "      <th>journal.title</th>\n",
       "      <th>pages</th>\n",
       "      <th>title</th>\n",
       "      <th>type</th>\n",
       "      <th>volume</th>\n",
       "      <th>year</th>\n",
       "    </tr>\n",
       "  </thead>\n",
       "  <tbody>\n",
       "    <tr>\n",
       "      <th>0</th>\n",
       "      <td>[[{'first_name': 'Ye', 'last_name': 'Yuan', 'c...</td>\n",
       "      <td>pub.1115995497</td>\n",
       "      <td>7760</td>\n",
       "      <td>jour.1018957</td>\n",
       "      <td>Nature</td>\n",
       "      <td>214-218</td>\n",
       "      <td>Elastic colloidal monopoles and reconfigurable...</td>\n",
       "      <td>article</td>\n",
       "      <td>570</td>\n",
       "      <td>2019</td>\n",
       "    </tr>\n",
       "  </tbody>\n",
       "</table>\n",
       "</div>"
      ],
      "text/plain": [
       "                                 author_affiliations              id issue  \\\n",
       "0  [[{'first_name': 'Ye', 'last_name': 'Yuan', 'c...  pub.1115995497  7760   \n",
       "\n",
       "     journal.id journal.title    pages  \\\n",
       "0  jour.1018957        Nature  214-218   \n",
       "\n",
       "                                               title     type volume  year  \n",
       "0  Elastic colloidal monopoles and reconfigurable...  article    570  2019  "
      ]
     },
     "execution_count": 9,
     "metadata": {},
     "output_type": "execute_result"
    }
   ],
   "source": [
    "%dsldf search publications where doi=\"10.1038/s41586-019-1247-7\""
   ]
  },
  {
   "cell_type": "code",
   "execution_count": 12,
   "metadata": {
    "Collapsed": "false"
   },
   "outputs": [
    {
     "name": "stdout",
     "output_type": "stream",
     "text": [
      "Returned Year: 32\n"
     ]
    },
    {
     "data": {
      "text/html": [
       "<div>\n",
       "<style scoped>\n",
       "    .dataframe tbody tr th:only-of-type {\n",
       "        vertical-align: middle;\n",
       "    }\n",
       "\n",
       "    .dataframe tbody tr th {\n",
       "        vertical-align: top;\n",
       "    }\n",
       "\n",
       "    .dataframe thead th {\n",
       "        text-align: right;\n",
       "    }\n",
       "</style>\n",
       "<table border=\"1\" class=\"dataframe\">\n",
       "  <thead>\n",
       "    <tr style=\"text-align: right;\">\n",
       "      <th></th>\n",
       "      <th>count</th>\n",
       "      <th>id</th>\n",
       "    </tr>\n",
       "  </thead>\n",
       "  <tbody>\n",
       "    <tr>\n",
       "      <th>0</th>\n",
       "      <td>61207</td>\n",
       "      <td>2018</td>\n",
       "    </tr>\n",
       "    <tr>\n",
       "      <th>1</th>\n",
       "      <td>59532</td>\n",
       "      <td>2017</td>\n",
       "    </tr>\n",
       "    <tr>\n",
       "      <th>2</th>\n",
       "      <td>58371</td>\n",
       "      <td>2016</td>\n",
       "    </tr>\n",
       "    <tr>\n",
       "      <th>3</th>\n",
       "      <td>54099</td>\n",
       "      <td>2015</td>\n",
       "    </tr>\n",
       "    <tr>\n",
       "      <th>4</th>\n",
       "      <td>53272</td>\n",
       "      <td>2014</td>\n",
       "    </tr>\n",
       "    <tr>\n",
       "      <th>5</th>\n",
       "      <td>50383</td>\n",
       "      <td>2013</td>\n",
       "    </tr>\n",
       "    <tr>\n",
       "      <th>6</th>\n",
       "      <td>47979</td>\n",
       "      <td>2012</td>\n",
       "    </tr>\n",
       "    <tr>\n",
       "      <th>7</th>\n",
       "      <td>44821</td>\n",
       "      <td>2011</td>\n",
       "    </tr>\n",
       "    <tr>\n",
       "      <th>8</th>\n",
       "      <td>41742</td>\n",
       "      <td>2010</td>\n",
       "    </tr>\n",
       "    <tr>\n",
       "      <th>9</th>\n",
       "      <td>38347</td>\n",
       "      <td>2009</td>\n",
       "    </tr>\n",
       "    <tr>\n",
       "      <th>10</th>\n",
       "      <td>36914</td>\n",
       "      <td>2019</td>\n",
       "    </tr>\n",
       "    <tr>\n",
       "      <th>11</th>\n",
       "      <td>35919</td>\n",
       "      <td>2008</td>\n",
       "    </tr>\n",
       "    <tr>\n",
       "      <th>12</th>\n",
       "      <td>33535</td>\n",
       "      <td>2007</td>\n",
       "    </tr>\n",
       "    <tr>\n",
       "      <th>13</th>\n",
       "      <td>31555</td>\n",
       "      <td>2006</td>\n",
       "    </tr>\n",
       "    <tr>\n",
       "      <th>14</th>\n",
       "      <td>29836</td>\n",
       "      <td>2005</td>\n",
       "    </tr>\n",
       "    <tr>\n",
       "      <th>15</th>\n",
       "      <td>27875</td>\n",
       "      <td>2004</td>\n",
       "    </tr>\n",
       "    <tr>\n",
       "      <th>16</th>\n",
       "      <td>24877</td>\n",
       "      <td>2003</td>\n",
       "    </tr>\n",
       "    <tr>\n",
       "      <th>17</th>\n",
       "      <td>23009</td>\n",
       "      <td>2002</td>\n",
       "    </tr>\n",
       "    <tr>\n",
       "      <th>18</th>\n",
       "      <td>21391</td>\n",
       "      <td>2001</td>\n",
       "    </tr>\n",
       "    <tr>\n",
       "      <th>19</th>\n",
       "      <td>19050</td>\n",
       "      <td>2000</td>\n",
       "    </tr>\n",
       "    <tr>\n",
       "      <th>20</th>\n",
       "      <td>17051</td>\n",
       "      <td>1999</td>\n",
       "    </tr>\n",
       "    <tr>\n",
       "      <th>21</th>\n",
       "      <td>14946</td>\n",
       "      <td>1998</td>\n",
       "    </tr>\n",
       "    <tr>\n",
       "      <th>22</th>\n",
       "      <td>12793</td>\n",
       "      <td>1997</td>\n",
       "    </tr>\n",
       "    <tr>\n",
       "      <th>23</th>\n",
       "      <td>10191</td>\n",
       "      <td>1996</td>\n",
       "    </tr>\n",
       "    <tr>\n",
       "      <th>24</th>\n",
       "      <td>8479</td>\n",
       "      <td>1995</td>\n",
       "    </tr>\n",
       "    <tr>\n",
       "      <th>25</th>\n",
       "      <td>6662</td>\n",
       "      <td>1994</td>\n",
       "    </tr>\n",
       "    <tr>\n",
       "      <th>26</th>\n",
       "      <td>4657</td>\n",
       "      <td>1993</td>\n",
       "    </tr>\n",
       "    <tr>\n",
       "      <th>27</th>\n",
       "      <td>2359</td>\n",
       "      <td>1992</td>\n",
       "    </tr>\n",
       "    <tr>\n",
       "      <th>28</th>\n",
       "      <td>235</td>\n",
       "      <td>1991</td>\n",
       "    </tr>\n",
       "    <tr>\n",
       "      <th>29</th>\n",
       "      <td>54</td>\n",
       "      <td>2020</td>\n",
       "    </tr>\n",
       "    <tr>\n",
       "      <th>30</th>\n",
       "      <td>2</td>\n",
       "      <td>1990</td>\n",
       "    </tr>\n",
       "    <tr>\n",
       "      <th>31</th>\n",
       "      <td>1</td>\n",
       "      <td>1986</td>\n",
       "    </tr>\n",
       "  </tbody>\n",
       "</table>\n",
       "</div>"
      ],
      "text/plain": [
       "    count    id\n",
       "0   61207  2018\n",
       "1   59532  2017\n",
       "2   58371  2016\n",
       "3   54099  2015\n",
       "4   53272  2014\n",
       "5   50383  2013\n",
       "6   47979  2012\n",
       "7   44821  2011\n",
       "8   41742  2010\n",
       "9   38347  2009\n",
       "10  36914  2019\n",
       "11  35919  2008\n",
       "12  33535  2007\n",
       "13  31555  2006\n",
       "14  29836  2005\n",
       "15  27875  2004\n",
       "16  24877  2003\n",
       "17  23009  2002\n",
       "18  21391  2001\n",
       "19  19050  2000\n",
       "20  17051  1999\n",
       "21  14946  1998\n",
       "22  12793  1997\n",
       "23  10191  1996\n",
       "24   8479  1995\n",
       "25   6662  1994\n",
       "26   4657  1993\n",
       "27   2359  1992\n",
       "28    235  1991\n",
       "29     54  2020\n",
       "30      2  1990\n",
       "31      1  1986"
      ]
     },
     "execution_count": 12,
     "metadata": {},
     "output_type": "execute_result"
    }
   ],
   "source": [
    "%dsldf search publications where resulting_publication_doi is not empty return year limit 100"
   ]
  },
  {
   "cell_type": "code",
   "execution_count": 13,
   "metadata": {
    "Collapsed": "false"
   },
   "outputs": [
    {
     "name": "stdout",
     "output_type": "stream",
     "text": [
      "Returned Journal: 4\n"
     ]
    },
    {
     "data": {
      "text/html": [
       "<div>\n",
       "<style scoped>\n",
       "    .dataframe tbody tr th:only-of-type {\n",
       "        vertical-align: middle;\n",
       "    }\n",
       "\n",
       "    .dataframe tbody tr th {\n",
       "        vertical-align: top;\n",
       "    }\n",
       "\n",
       "    .dataframe thead th {\n",
       "        text-align: right;\n",
       "    }\n",
       "</style>\n",
       "<table border=\"1\" class=\"dataframe\">\n",
       "  <thead>\n",
       "    <tr style=\"text-align: right;\">\n",
       "      <th></th>\n",
       "      <th>count</th>\n",
       "      <th>id</th>\n",
       "      <th>title</th>\n",
       "    </tr>\n",
       "  </thead>\n",
       "  <tbody>\n",
       "    <tr>\n",
       "      <th>0</th>\n",
       "      <td>860210</td>\n",
       "      <td>jour.1371339</td>\n",
       "      <td>arXiv</td>\n",
       "    </tr>\n",
       "    <tr>\n",
       "      <th>1</th>\n",
       "      <td>8074</td>\n",
       "      <td>jour.1293558</td>\n",
       "      <td>bioRxiv</td>\n",
       "    </tr>\n",
       "    <tr>\n",
       "      <th>2</th>\n",
       "      <td>1660</td>\n",
       "      <td>jour.1345647</td>\n",
       "      <td>JMIR Preprints</td>\n",
       "    </tr>\n",
       "    <tr>\n",
       "      <th>3</th>\n",
       "      <td>1200</td>\n",
       "      <td>jour.1053424</td>\n",
       "      <td>PeerJ Preprints</td>\n",
       "    </tr>\n",
       "  </tbody>\n",
       "</table>\n",
       "</div>"
      ],
      "text/plain": [
       "    count            id            title\n",
       "0  860210  jour.1371339            arXiv\n",
       "1    8074  jour.1293558          bioRxiv\n",
       "2    1660  jour.1345647   JMIR Preprints\n",
       "3    1200  jour.1053424  PeerJ Preprints"
      ]
     },
     "execution_count": 13,
     "metadata": {},
     "output_type": "execute_result"
    }
   ],
   "source": [
    "%dsldf search publications where resulting_publication_doi is not empty return journal limit 50"
   ]
  },
  {
   "cell_type": "code",
   "execution_count": 14,
   "metadata": {
    "Collapsed": "false"
   },
   "outputs": [
    {
     "name": "stdout",
     "output_type": "stream",
     "text": [
      "Returned Type: 1\n"
     ]
    },
    {
     "data": {
      "text/html": [
       "<div>\n",
       "<style scoped>\n",
       "    .dataframe tbody tr th:only-of-type {\n",
       "        vertical-align: middle;\n",
       "    }\n",
       "\n",
       "    .dataframe tbody tr th {\n",
       "        vertical-align: top;\n",
       "    }\n",
       "\n",
       "    .dataframe thead th {\n",
       "        text-align: right;\n",
       "    }\n",
       "</style>\n",
       "<table border=\"1\" class=\"dataframe\">\n",
       "  <thead>\n",
       "    <tr style=\"text-align: right;\">\n",
       "      <th></th>\n",
       "      <th>count</th>\n",
       "      <th>id</th>\n",
       "    </tr>\n",
       "  </thead>\n",
       "  <tbody>\n",
       "    <tr>\n",
       "      <th>0</th>\n",
       "      <td>871144</td>\n",
       "      <td>preprint</td>\n",
       "    </tr>\n",
       "  </tbody>\n",
       "</table>\n",
       "</div>"
      ],
      "text/plain": [
       "    count        id\n",
       "0  871144  preprint"
      ]
     },
     "execution_count": 14,
     "metadata": {},
     "output_type": "execute_result"
    }
   ],
   "source": [
    "%dsldf search publications where resulting_publication_doi is not empty return type"
   ]
  },
  {
   "cell_type": "code",
   "execution_count": 16,
   "metadata": {
    "Collapsed": "false"
   },
   "outputs": [
    {
     "name": "stdout",
     "output_type": "stream",
     "text": [
      "Returned Publications: 1 (total = 1)\n"
     ]
    },
    {
     "data": {
      "text/html": [
       "<div>\n",
       "<style scoped>\n",
       "    .dataframe tbody tr th:only-of-type {\n",
       "        vertical-align: middle;\n",
       "    }\n",
       "\n",
       "    .dataframe tbody tr th {\n",
       "        vertical-align: top;\n",
       "    }\n",
       "\n",
       "    .dataframe thead th {\n",
       "        text-align: right;\n",
       "    }\n",
       "</style>\n",
       "<table border=\"1\" class=\"dataframe\">\n",
       "  <thead>\n",
       "    <tr style=\"text-align: right;\">\n",
       "      <th></th>\n",
       "      <th>author_affiliations</th>\n",
       "      <th>id</th>\n",
       "      <th>journal.id</th>\n",
       "      <th>journal.title</th>\n",
       "      <th>title</th>\n",
       "      <th>type</th>\n",
       "      <th>year</th>\n",
       "    </tr>\n",
       "  </thead>\n",
       "  <tbody>\n",
       "    <tr>\n",
       "      <th>0</th>\n",
       "      <td>[[{'first_name': 'Ye', 'last_name': 'Yuan', 'c...</td>\n",
       "      <td>pub.1123829620</td>\n",
       "      <td>jour.1371339</td>\n",
       "      <td>arXiv</td>\n",
       "      <td>Elastic colloidal monopoles and reconfigurable...</td>\n",
       "      <td>preprint</td>\n",
       "      <td>2020</td>\n",
       "    </tr>\n",
       "  </tbody>\n",
       "</table>\n",
       "</div>"
      ],
      "text/plain": [
       "                                 author_affiliations              id  \\\n",
       "0  [[{'first_name': 'Ye', 'last_name': 'Yuan', 'c...  pub.1123829620   \n",
       "\n",
       "     journal.id journal.title  \\\n",
       "0  jour.1371339         arXiv   \n",
       "\n",
       "                                               title      type  year  \n",
       "0  Elastic colloidal monopoles and reconfigurable...  preprint  2020  "
      ]
     },
     "execution_count": 16,
     "metadata": {},
     "output_type": "execute_result"
    }
   ],
   "source": [
    "%dsldf search publications where resulting_publication_doi = \"10.1038/s41586-019-1247-7\""
   ]
  },
  {
   "cell_type": "markdown",
   "metadata": {
    "Collapsed": "true",
    "colab_type": "text",
    "id": "YBSdHL4Tywj4"
   },
   "source": [
    "## [DSL-310] Extend policy documents: FOR v2, cancer types\n",
    "\n",
    "https://uberresearch.atlassian.net/browse/DSL-310\n",
    "\n",
    "> tests based on the previous QA of 1.21 https://github.com/digital-science/dsl-QA/blob/master/v1.21/v1-1.21-qa.ipynb"
   ]
  },
  {
   "cell_type": "markdown",
   "metadata": {
    "Collapsed": "false"
   },
   "source": [
    "**Testing FOR v2**"
   ]
  },
  {
   "cell_type": "code",
   "execution_count": 19,
   "metadata": {
    "Collapsed": "false"
   },
   "outputs": [
    {
     "name": "stdout",
     "output_type": "stream",
     "text": [
      "search policy_documents where category_for.name=\"04 Earth Sciences\" return policy_documents \n",
      "Returned Policy_documents: 20 (total = 3936)\n",
      "search policy_documents where category_for.name=\"0201 Astronomical and Space Sciences\" return policy_documents \n",
      "Returned Policy_documents: 20 (total = 120)\n"
     ]
    }
   ],
   "source": [
    "for x in ['policy_documents']:\n",
    "    one = \"04 Earth Sciences\"\n",
    "    two = \"0201 Astronomical and Space Sciences\"\n",
    "    q = f\"\"\"search {x} where category_for.name=\"{one}\" return {x} \"\"\"\n",
    "    print(q)\n",
    "    data = dsl.query(q)\n",
    "    q = f\"\"\"search {x} where category_for.name=\"{two}\" return {x} \"\"\"\n",
    "    print(q)\n",
    "    data = dsl.query(q)"
   ]
  },
  {
   "cell_type": "markdown",
   "metadata": {
    "Collapsed": "false"
   },
   "source": [
    "**Testing that we get warnings with old FOR**"
   ]
  },
  {
   "cell_type": "code",
   "execution_count": 20,
   "metadata": {
    "Collapsed": "false"
   },
   "outputs": [
    {
     "name": "stdout",
     "output_type": "stream",
     "text": [
      "===\n",
      " search policy_documents where FOR.name=\"04 Earth Sciences\" return policy_documents \n",
      "Returned Policy_documents: 0\n",
      "WARNINGS [1]\n",
      "Field 'FOR' is deprecated in favor of category_for. Please refer to https://docs.dimensions.ai/dsl/releasenotes.html for more details\n",
      "===\n",
      " search policy_documents where FOR.name=\"0201 Astronomical and Space Sciences\" return policy_documents \n",
      "Returned Policy_documents: 20 (total = 120)\n",
      "WARNINGS [1]\n",
      "Field 'FOR' is deprecated in favor of category_for. Please refer to https://docs.dimensions.ai/dsl/releasenotes.html for more details\n"
     ]
    }
   ],
   "source": [
    "\n",
    "for x in ['policy_documents']:\n",
    "    one = \"04 Earth Sciences\"\n",
    "    two = \"0201 Astronomical and Space Sciences\"\n",
    "    q = f\"\"\"search {x} where FOR.name=\"{one}\" return {x} \"\"\"\n",
    "    print(\"===\\n\", q)\n",
    "    data = dsl.query(q)\n",
    "    q = f\"\"\"search {x} where FOR.name=\"{two}\" return {x} \"\"\"\n",
    "    print(\"===\\n\", q)\n",
    "    data = dsl.query(q)"
   ]
  },
  {
   "cell_type": "markdown",
   "metadata": {
    "Collapsed": "false"
   },
   "source": [
    "**Testing cancer types classifications**"
   ]
  },
  {
   "cell_type": "markdown",
   "metadata": {
    "Collapsed": "false"
   },
   "source": [
    "looks good, now there is also `category_icrp_ct`"
   ]
  },
  {
   "cell_type": "code",
   "execution_count": 22,
   "metadata": {
    "Collapsed": "false"
   },
   "outputs": [
    {
     "data": {
      "text/html": [
       "<div>\n",
       "<style scoped>\n",
       "    .dataframe tbody tr th:only-of-type {\n",
       "        vertical-align: middle;\n",
       "    }\n",
       "\n",
       "    .dataframe tbody tr th {\n",
       "        vertical-align: top;\n",
       "    }\n",
       "\n",
       "    .dataframe thead th {\n",
       "        text-align: right;\n",
       "    }\n",
       "</style>\n",
       "<table border=\"1\" class=\"dataframe\">\n",
       "  <thead>\n",
       "    <tr style=\"text-align: right;\">\n",
       "      <th></th>\n",
       "      <th>sources</th>\n",
       "      <th>field</th>\n",
       "      <th>type</th>\n",
       "      <th>description</th>\n",
       "      <th>is_filter</th>\n",
       "      <th>is_entity</th>\n",
       "      <th>is_facet</th>\n",
       "    </tr>\n",
       "  </thead>\n",
       "  <tbody>\n",
       "    <tr>\n",
       "      <th>0</th>\n",
       "      <td>policy_documents</td>\n",
       "      <td>category_bra</td>\n",
       "      <td>categories</td>\n",
       "      <td>`Broad Research Areas &lt;https://app.dimensions....</td>\n",
       "      <td>True</td>\n",
       "      <td>True</td>\n",
       "      <td>True</td>\n",
       "    </tr>\n",
       "    <tr>\n",
       "      <th>1</th>\n",
       "      <td>policy_documents</td>\n",
       "      <td>category_for</td>\n",
       "      <td>categories</td>\n",
       "      <td>`ANZSRC Fields of Research classification &lt;htt...</td>\n",
       "      <td>True</td>\n",
       "      <td>True</td>\n",
       "      <td>True</td>\n",
       "    </tr>\n",
       "    <tr>\n",
       "      <th>2</th>\n",
       "      <td>policy_documents</td>\n",
       "      <td>category_hra</td>\n",
       "      <td>categories</td>\n",
       "      <td>`Health Research Areas &lt;https://app.dimensions...</td>\n",
       "      <td>True</td>\n",
       "      <td>True</td>\n",
       "      <td>True</td>\n",
       "    </tr>\n",
       "    <tr>\n",
       "      <th>3</th>\n",
       "      <td>policy_documents</td>\n",
       "      <td>category_hrcs_hc</td>\n",
       "      <td>categories</td>\n",
       "      <td>`HRCS - Health Categories &lt;https://app.dimensi...</td>\n",
       "      <td>True</td>\n",
       "      <td>True</td>\n",
       "      <td>True</td>\n",
       "    </tr>\n",
       "    <tr>\n",
       "      <th>4</th>\n",
       "      <td>policy_documents</td>\n",
       "      <td>category_hrcs_rac</td>\n",
       "      <td>categories</td>\n",
       "      <td>`HRCS – Research Activity Codes &lt;https://app.d...</td>\n",
       "      <td>True</td>\n",
       "      <td>True</td>\n",
       "      <td>True</td>\n",
       "    </tr>\n",
       "    <tr>\n",
       "      <th>5</th>\n",
       "      <td>policy_documents</td>\n",
       "      <td>category_icrp_cso</td>\n",
       "      <td>categories</td>\n",
       "      <td>`ICRP Common Scientific Outline &lt;https://app.d...</td>\n",
       "      <td>True</td>\n",
       "      <td>True</td>\n",
       "      <td>True</td>\n",
       "    </tr>\n",
       "    <tr>\n",
       "      <th>6</th>\n",
       "      <td>policy_documents</td>\n",
       "      <td>category_icrp_ct</td>\n",
       "      <td>categories</td>\n",
       "      <td>`ICRP Cancer Types &lt;https://app.dimensions.ai/...</td>\n",
       "      <td>True</td>\n",
       "      <td>True</td>\n",
       "      <td>True</td>\n",
       "    </tr>\n",
       "    <tr>\n",
       "      <th>7</th>\n",
       "      <td>policy_documents</td>\n",
       "      <td>category_rcdc</td>\n",
       "      <td>categories</td>\n",
       "      <td>`Research, Condition, and Disease Categorizati...</td>\n",
       "      <td>True</td>\n",
       "      <td>True</td>\n",
       "      <td>True</td>\n",
       "    </tr>\n",
       "    <tr>\n",
       "      <th>8</th>\n",
       "      <td>policy_documents</td>\n",
       "      <td>date_inserted</td>\n",
       "      <td>date</td>\n",
       "      <td>Date when the record was inserted into Dimensi...</td>\n",
       "      <td>True</td>\n",
       "      <td>False</td>\n",
       "      <td>False</td>\n",
       "    </tr>\n",
       "    <tr>\n",
       "      <th>9</th>\n",
       "      <td>policy_documents</td>\n",
       "      <td>id</td>\n",
       "      <td>string</td>\n",
       "      <td>Dimensions policy document ID</td>\n",
       "      <td>True</td>\n",
       "      <td>False</td>\n",
       "      <td>False</td>\n",
       "    </tr>\n",
       "    <tr>\n",
       "      <th>10</th>\n",
       "      <td>policy_documents</td>\n",
       "      <td>linkout</td>\n",
       "      <td>string</td>\n",
       "      <td>Original URL for the policy document.</td>\n",
       "      <td>False</td>\n",
       "      <td>False</td>\n",
       "      <td>False</td>\n",
       "    </tr>\n",
       "    <tr>\n",
       "      <th>11</th>\n",
       "      <td>policy_documents</td>\n",
       "      <td>publication_ids</td>\n",
       "      <td>string</td>\n",
       "      <td>Dimensions IDs of the publications related to ...</td>\n",
       "      <td>True</td>\n",
       "      <td>False</td>\n",
       "      <td>False</td>\n",
       "    </tr>\n",
       "    <tr>\n",
       "      <th>12</th>\n",
       "      <td>policy_documents</td>\n",
       "      <td>publisher_org</td>\n",
       "      <td>organizations</td>\n",
       "      <td>GRID organization publishing the policy document.</td>\n",
       "      <td>True</td>\n",
       "      <td>True</td>\n",
       "      <td>True</td>\n",
       "    </tr>\n",
       "    <tr>\n",
       "      <th>13</th>\n",
       "      <td>policy_documents</td>\n",
       "      <td>publisher_org_city</td>\n",
       "      <td>cities</td>\n",
       "      <td>City of the organization publishing the policy...</td>\n",
       "      <td>True</td>\n",
       "      <td>True</td>\n",
       "      <td>True</td>\n",
       "    </tr>\n",
       "    <tr>\n",
       "      <th>14</th>\n",
       "      <td>policy_documents</td>\n",
       "      <td>publisher_org_country</td>\n",
       "      <td>countries</td>\n",
       "      <td>Country of the organization publishing the pol...</td>\n",
       "      <td>True</td>\n",
       "      <td>True</td>\n",
       "      <td>True</td>\n",
       "    </tr>\n",
       "    <tr>\n",
       "      <th>15</th>\n",
       "      <td>policy_documents</td>\n",
       "      <td>publisher_org_state</td>\n",
       "      <td>states</td>\n",
       "      <td>State of the organization publishing the polic...</td>\n",
       "      <td>True</td>\n",
       "      <td>True</td>\n",
       "      <td>True</td>\n",
       "    </tr>\n",
       "    <tr>\n",
       "      <th>16</th>\n",
       "      <td>policy_documents</td>\n",
       "      <td>title</td>\n",
       "      <td>string</td>\n",
       "      <td>Title of the policy document.</td>\n",
       "      <td>True</td>\n",
       "      <td>False</td>\n",
       "      <td>False</td>\n",
       "    </tr>\n",
       "    <tr>\n",
       "      <th>17</th>\n",
       "      <td>policy_documents</td>\n",
       "      <td>year</td>\n",
       "      <td>integer</td>\n",
       "      <td>Year of publication of the policy document.</td>\n",
       "      <td>True</td>\n",
       "      <td>False</td>\n",
       "      <td>True</td>\n",
       "    </tr>\n",
       "  </tbody>\n",
       "</table>\n",
       "</div>"
      ],
      "text/plain": [
       "             sources                  field           type  \\\n",
       "0   policy_documents           category_bra     categories   \n",
       "1   policy_documents           category_for     categories   \n",
       "2   policy_documents           category_hra     categories   \n",
       "3   policy_documents       category_hrcs_hc     categories   \n",
       "4   policy_documents      category_hrcs_rac     categories   \n",
       "5   policy_documents      category_icrp_cso     categories   \n",
       "6   policy_documents       category_icrp_ct     categories   \n",
       "7   policy_documents          category_rcdc     categories   \n",
       "8   policy_documents          date_inserted           date   \n",
       "9   policy_documents                     id         string   \n",
       "10  policy_documents                linkout         string   \n",
       "11  policy_documents        publication_ids         string   \n",
       "12  policy_documents          publisher_org  organizations   \n",
       "13  policy_documents     publisher_org_city         cities   \n",
       "14  policy_documents  publisher_org_country      countries   \n",
       "15  policy_documents    publisher_org_state         states   \n",
       "16  policy_documents                  title         string   \n",
       "17  policy_documents                   year        integer   \n",
       "\n",
       "                                          description  is_filter  is_entity  \\\n",
       "0   `Broad Research Areas <https://app.dimensions....       True       True   \n",
       "1   `ANZSRC Fields of Research classification <htt...       True       True   \n",
       "2   `Health Research Areas <https://app.dimensions...       True       True   \n",
       "3   `HRCS - Health Categories <https://app.dimensi...       True       True   \n",
       "4   `HRCS – Research Activity Codes <https://app.d...       True       True   \n",
       "5   `ICRP Common Scientific Outline <https://app.d...       True       True   \n",
       "6   `ICRP Cancer Types <https://app.dimensions.ai/...       True       True   \n",
       "7   `Research, Condition, and Disease Categorizati...       True       True   \n",
       "8   Date when the record was inserted into Dimensi...       True      False   \n",
       "9                       Dimensions policy document ID       True      False   \n",
       "10              Original URL for the policy document.      False      False   \n",
       "11  Dimensions IDs of the publications related to ...       True      False   \n",
       "12  GRID organization publishing the policy document.       True       True   \n",
       "13  City of the organization publishing the policy...       True       True   \n",
       "14  Country of the organization publishing the pol...       True       True   \n",
       "15  State of the organization publishing the polic...       True       True   \n",
       "16                      Title of the policy document.       True      False   \n",
       "17        Year of publication of the policy document.       True      False   \n",
       "\n",
       "    is_facet  \n",
       "0       True  \n",
       "1       True  \n",
       "2       True  \n",
       "3       True  \n",
       "4       True  \n",
       "5       True  \n",
       "6       True  \n",
       "7       True  \n",
       "8      False  \n",
       "9      False  \n",
       "10     False  \n",
       "11     False  \n",
       "12      True  \n",
       "13      True  \n",
       "14      True  \n",
       "15      True  \n",
       "16     False  \n",
       "17      True  "
      ]
     },
     "execution_count": 22,
     "metadata": {},
     "output_type": "execute_result"
    }
   ],
   "source": [
    "%dsldocs policy_documents"
   ]
  },
  {
   "cell_type": "code",
   "execution_count": 25,
   "metadata": {
    "Collapsed": "false"
   },
   "outputs": [],
   "source": [
    "fields = [\"category_icrp_ct\"]\n",
    "sources = ['policy_documents']"
   ]
  },
  {
   "cell_type": "code",
   "execution_count": 29,
   "metadata": {
    "Collapsed": "false"
   },
   "outputs": [
    {
     "name": "stdout",
     "output_type": "stream",
     "text": [
      "===\n",
      " policy_documents\n",
      "----\n",
      " search policy_documents where category_icrp_ct is not empty return policy_documents \n",
      "Returned Policy_documents: 20 (total = 15880)\n",
      "----\n",
      " search policy_documents where category_icrp_ct.name=\"Blood Cancer\" return policy_documents \n",
      "Returned Policy_documents: 1 (total = 1)\n",
      "----\n",
      " search policy_documents where category_icrp_ct.name=\"3.4 Vaccines\" return policy_documents \n",
      "Returned Policy_documents: 0\n",
      "----\n",
      " search policy_documents where category_icrp_ct is not empty return  category_icrp_ct limit 100 \n",
      "Returned Category_icrp_ct: 36\n",
      "    count    id                                               name\n",
      "0   10672  3816                           Not Site-Specific Cancer\n",
      "1    2742  3809                                        Lung Cancer\n",
      "2    1550  3793                            Colon and Rectal Cancer\n",
      "3    1083  3796                    Esophageal / Oesophageal Cancer\n",
      "4     963  3822                                  Pharyngeal Cancer\n",
      "5     946  3806                                   Laryngeal Cancer\n",
      "6     749  3790                                      Breast Cancer\n",
      "7     491  3792                                    Cervical Cancer\n",
      "8     432  3808                                       Liver Cancer\n",
      "9     213  3786                                     Bladder Cancer\n",
      "10    177  3807                               Leukemia / Leukaemia\n",
      "11    177  3826                                    Prostate Cancer\n",
      "12    159  3817                         Oral Cavity and Lip Cancer\n",
      "13    143  3815                             Non-Hodgkin's Lymphoma\n",
      "14    116  3810                                           Melanoma\n",
      "15     95  3833                                        Skin Cancer\n",
      "16     92  3818                                     Ovarian Cancer\n",
      "17     63  3789                                        Brain Tumor\n",
      "18     49  3819                                  Pancreatic Cancer\n",
      "19     45  3805                                      Kidney Cancer\n",
      "20     43  3795                                 Endometrial Cancer\n",
      "21     43  3835                                     Stomach Cancer\n",
      "22     42  3811                                            Myeloma\n",
      "23     29  3802                               Head and Neck Cancer\n",
      "24     21  3803                                  Hodgkin's Disease\n",
      "25     17  3838                                     Thyroid Cancer\n",
      "26     13  3830                                            Sarcoma\n",
      "27     10  3785                                        Anal Cancer\n",
      "28      6  3813                                     Nervous System\n",
      "29      4  3829                              Salivary Gland Cancer\n",
      "30      4  3836                                  Testicular Cancer\n",
      "31      3  3814                                      Neuroblastoma\n",
      "32      2  3788  Bone Cancer Osteosarcoma / Malignant Fibrous H...\n",
      "33      1  3787                                       Blood Cancer\n",
      "34      1  3804                                   Kaposi's Sarcoma\n",
      "35      1  3823                                    Pituitary Tumor\n"
     ]
    }
   ],
   "source": [
    "for x in sources:\n",
    "    print(\"===\\n\", x)\n",
    "    for f in fields:\n",
    "        q = f\"\"\"search {x} where {f} is not empty return {x} \"\"\"\n",
    "        print(\"----\\n\", q)\n",
    "        data = dsl.query(q, verbose=True)\n",
    "        q = f\"\"\"search {x} where {f}.name=\"Blood Cancer\" return {x} \"\"\"\n",
    "        print(\"----\\n\", q)\n",
    "        data = dsl.query(q, verbose=True)\n",
    "        q = f\"\"\"search {x} where {f}.name=\"3.4 Vaccines\" return {x} \"\"\"\n",
    "        print(\"----\\n\", q)\n",
    "        data = dsl.query(q, verbose=True)\n",
    "        q = f\"\"\"search {x} where {f} is not empty return  {f} limit 100 \"\"\"\n",
    "        print(\"----\\n\", q)\n",
    "        data = dsl.query(q, verbose=True)\n",
    "        print(data.as_dataframe())"
   ]
  },
  {
   "cell_type": "markdown",
   "metadata": {
    "Collapsed": "true",
    "colab_type": "text",
    "id": "YBSdHL4Tywj4"
   },
   "source": [
    "## [DSL-296] Add public NIH metadata to API\n",
    "\n",
    "https://uberresearch.atlassian.net/browse/DSL-296"
   ]
  },
  {
   "cell_type": "code",
   "execution_count": 45,
   "metadata": {
    "Collapsed": "false"
   },
   "outputs": [
    {
     "name": "stdout",
     "output_type": "stream",
     "text": [
      "New query...\n",
      "> search grants where foa_number is empty return grants[id+foa_number] limit 5\n",
      "\n",
      "Returned Grants: 5 (total = 4017008)\n",
      "              id\n",
      "0  grant.8587603\n",
      "1  grant.8586109\n",
      "2  grant.8558602\n",
      "3  grant.8671733\n",
      "4  grant.8672077\n",
      "\n",
      "=======\n",
      "\n",
      "New query...\n",
      "> search grants where foa_number is not empty return grants[id+foa_number+funding_org_name+active_year] limit 5\n",
      "\n",
      "Returned Grants: 5 (total = 992720)\n",
      "                            active_year     foa_number  \\\n",
      "0                          [2020, 2021]  Not available   \n",
      "1  [2020, 2021, 2022, 2023, 2024, 2025]  Not available   \n",
      "2  [2020, 2021, 2022, 2023, 2024, 2025]  Not available   \n",
      "3  [2020, 2021, 2022, 2023, 2024, 2025]  Not available   \n",
      "4                    [2020, 2021, 2022]  Not available   \n",
      "\n",
      "                                    funding_org_name             id  \n",
      "0  Directorate for Social, Behavioral & Economic ...  grant.8674931  \n",
      "1                        Directorate for Engineering  grant.8674911  \n",
      "2   Directorate for Mathematical & Physical Sciences  grant.8674852  \n",
      "3   Directorate for Mathematical & Physical Sciences  grant.8674919  \n",
      "4                        Directorate for Geosciences  grant.8540743  \n",
      "\n",
      "=======\n",
      "\n",
      "New query...\n",
      "> search grants where foa_number is not empty return active_year limit 50\n",
      "\n",
      "Returned Active_year: 50\n",
      "     count    id\n",
      "0   158224  2010\n",
      "1   155616  2011\n",
      "2   155199  2012\n",
      "3   152728  2009\n",
      "4   149176  2013\n",
      "5   145326  2014\n",
      "6   144550  2008\n",
      "7   144202  2015\n",
      "8   142338  2016\n",
      "9   141547  2018\n",
      "10  140805  2007\n",
      "11  140434  2017\n",
      "12  137666  2019\n",
      "13  136152  2006\n",
      "14  133129  2005\n",
      "15  128699  2004\n",
      "16  122282  2003\n",
      "17  115224  2002\n",
      "18  109820  2001\n",
      "19  109639  2020\n",
      "20  105935  2000\n",
      "21  101836  1999\n",
      "22   99181  1998\n",
      "23   97118  1997\n",
      "24   95957  1995\n",
      "25   95933  1996\n",
      "26   95142  1994\n",
      "27   93112  1993\n",
      "28   92888  1992\n",
      "29   89225  1991\n",
      "30   84982  1990\n",
      "31   81547  1989\n",
      "32   79717  1988\n",
      "33   77006  1987\n",
      "34   74021  1986\n",
      "35   66833  1985\n",
      "36   62208  2021\n",
      "37   52941  1984\n",
      "38   45386  1983\n",
      "39   39891  1982\n",
      "40   37985  1981\n",
      "41   37665  2022\n",
      "42   35357  1980\n",
      "43   32238  1979\n",
      "44   29049  1978\n",
      "45   26755  1977\n",
      "46   25701  1974\n",
      "47   23834  1975\n",
      "48   22957  1976\n",
      "49   21433  1973\n",
      "\n",
      "=======\n",
      "\n",
      "New query...\n",
      "> search grants where foa_number = \"Not available\" return grants[id+foa_number+funding_org_name+active_year] limit 5\n",
      "\n",
      "Returned Grants: 5 (total = 726946)\n",
      "                            active_year     foa_number  \\\n",
      "0                          [2020, 2021]  Not available   \n",
      "1  [2020, 2021, 2022, 2023, 2024, 2025]  Not available   \n",
      "2  [2020, 2021, 2022, 2023, 2024, 2025]  Not available   \n",
      "3  [2020, 2021, 2022, 2023, 2024, 2025]  Not available   \n",
      "4                    [2020, 2021, 2022]  Not available   \n",
      "\n",
      "                                    funding_org_name             id  \n",
      "0  Directorate for Social, Behavioral & Economic ...  grant.8674931  \n",
      "1                        Directorate for Engineering  grant.8674911  \n",
      "2   Directorate for Mathematical & Physical Sciences  grant.8674852  \n",
      "3   Directorate for Mathematical & Physical Sciences  grant.8674919  \n",
      "4                        Directorate for Geosciences  grant.8540743  \n",
      "\n",
      "=======\n",
      "\n",
      "New query...\n",
      "> search grants where foa_number is not empty and foa_number != \"Not available\" return grants[id+foa_number+funding_org_name+active_year] limit 20\n",
      "\n",
      "Returned Grants: 20 (total = 265774)\n",
      "   active_year foa_number                                   funding_org_name  \\\n",
      "0       [2020]  PA-18-671  National Institute On Alcohol Abuse and Alcoho...   \n",
      "1       [2020]  PA-19-195  National Institute On Alcohol Abuse and Alcoho...   \n",
      "2       [2020]  PA-18-671  National Institute On Alcohol Abuse and Alcoho...   \n",
      "3       [2020]  PA-19-188  National Institute On Alcohol Abuse and Alcoho...   \n",
      "4       [2020]  PA-19-188  National Institute On Alcohol Abuse and Alcoho...   \n",
      "5       [2020]  PA-19-188  National Institute On Alcohol Abuse and Alcoho...   \n",
      "6       [2020]  PA-18-671  National Institute On Alcohol Abuse and Alcoho...   \n",
      "7       [2020]  PA-18-670  National Institute On Alcohol Abuse and Alcoho...   \n",
      "8       [2020]  PA-18-670  National Institute On Alcohol Abuse and Alcoho...   \n",
      "9       [2020]  PA-18-671            National Heart Lung and Blood Institute   \n",
      "10      [2020]  PA-18-671  National Institute On Alcohol Abuse and Alcoho...   \n",
      "11      [2020]  PA-19-195  National Institute On Alcohol Abuse and Alcoho...   \n",
      "12      [2020]  PA-18-668  National Institute On Alcohol Abuse and Alcoho...   \n",
      "13      [2020]  PA-18-671  National Institute On Alcohol Abuse and Alcoho...   \n",
      "14      [2020]  PA-18-671  National Institute On Alcohol Abuse and Alcoho...   \n",
      "15      [2020]  PA-19-195  National Institute On Alcohol Abuse and Alcoho...   \n",
      "16      [2020]  PA-19-195  National Institute On Alcohol Abuse and Alcoho...   \n",
      "17      [2020]  PA-19-192  National Institute On Alcohol Abuse and Alcoho...   \n",
      "18      [2020]  PA-18-671  National Institute On Alcohol Abuse and Alcoho...   \n",
      "19      [2019]  PA-18-670  National Institute On Alcohol Abuse and Alcoho...   \n",
      "\n",
      "               id  \n",
      "0   grant.8631653  \n",
      "1   grant.8634620  \n",
      "2   grant.8634615  \n",
      "3   grant.8632973  \n",
      "4   grant.8632972  \n",
      "5   grant.8632974  \n",
      "6   grant.8634617  \n",
      "7   grant.8632968  \n",
      "8   grant.8634450  \n",
      "9   grant.8556343  \n",
      "10  grant.8631768  \n",
      "11  grant.8634622  \n",
      "12  grant.8633077  \n",
      "13  grant.8556758  \n",
      "14  grant.8556768  \n",
      "15  grant.8634623  \n",
      "16  grant.8634614  \n",
      "17  grant.8633079  \n",
      "18  grant.8556767  \n",
      "19  grant.8474230  \n",
      "\n",
      "=======\n",
      "\n",
      "New query...\n",
      "> search grants where foa_number = \"PA-18-670\" return grants[id+foa_number+funding_org_name+active_year] limit 20\n",
      "\n",
      "Returned Grants: 20 (total = 410)\n",
      "                 active_year foa_number  \\\n",
      "0                     [2020]  PA-18-670   \n",
      "1                     [2020]  PA-18-670   \n",
      "2                     [2019]  PA-18-670   \n",
      "3                     [2019]  PA-18-670   \n",
      "4                     [2019]  PA-18-670   \n",
      "5         [2019, 2020, 2021]  PA-18-670   \n",
      "6   [2019, 2020, 2021, 2022]  PA-18-670   \n",
      "7   [2019, 2020, 2021, 2022]  PA-18-670   \n",
      "8   [2019, 2020, 2021, 2022]  PA-18-670   \n",
      "9               [2019, 2020]  PA-18-670   \n",
      "10        [2019, 2020, 2021]  PA-18-670   \n",
      "11  [2019, 2020, 2021, 2022]  PA-18-670   \n",
      "12  [2019, 2020, 2021, 2022]  PA-18-670   \n",
      "13  [2019, 2020, 2021, 2022]  PA-18-670   \n",
      "14        [2019, 2020, 2021]  PA-18-670   \n",
      "15              [2019, 2020]  PA-18-670   \n",
      "16  [2019, 2020, 2021, 2022]  PA-18-670   \n",
      "17  [2019, 2020, 2021, 2022]  PA-18-670   \n",
      "18  [2019, 2020, 2021, 2022]  PA-18-670   \n",
      "19  [2019, 2020, 2021, 2022]  PA-18-670   \n",
      "\n",
      "                                     funding_org_name             id  \n",
      "0   National Institute On Alcohol Abuse and Alcoho...  grant.8632968  \n",
      "1   National Institute On Alcohol Abuse and Alcoho...  grant.8634450  \n",
      "2   National Institute On Alcohol Abuse and Alcoho...  grant.8474230  \n",
      "3   National Institute On Alcohol Abuse and Alcoho...  grant.8474268  \n",
      "4   National Institute On Alcohol Abuse and Alcoho...  grant.8474311  \n",
      "5   National Institute of Child Health and Human D...  grant.8677936  \n",
      "6   National Institute of Child Health and Human D...  grant.8677988  \n",
      "7   National Institute of Child Health and Human D...  grant.8677934  \n",
      "8   National Institute of Child Health and Human D...  grant.8677937  \n",
      "9                         National Institute on Aging  grant.8677890  \n",
      "10  National Institute of Diabetes and Digestive a...  grant.8678029  \n",
      "11                National Institute of Mental Health  grant.8631665  \n",
      "12     National Institute of General Medical Sciences  grant.8633129  \n",
      "13     National Institute of General Medical Sciences  grant.8678006  \n",
      "14     National Institute of General Medical Sciences  grant.8633126  \n",
      "15     National Institute of General Medical Sciences  grant.8633158  \n",
      "16                          National Cancer Institute  grant.8472606  \n",
      "17     National Institute of General Medical Sciences  grant.8631216  \n",
      "18  National Institute of Allergy and Infectious D...  grant.8634120  \n",
      "19  National Institute of Dental and Craniofacial ...  grant.8632217  \n",
      "\n",
      "=======\n",
      "\n"
     ]
    }
   ],
   "source": [
    "x = \"foa_number\"\n",
    "q = [\n",
    "    # counting how many have no value\n",
    "    f\"search grants where {x} is empty return grants[id+{x}] limit 5\" ,\n",
    "    # counting how many have some value - including the string \"Not available\"\n",
    "    f\"search grants where {x} is not empty return grants[id+{x}+funding_org_name+active_year] limit 5\" ,\n",
    "    # counting years\n",
    "    f\"search grants where {x} is not empty return active_year limit 50\" ,\n",
    "    # counting how many have the wrong \"Not available\" value\n",
    "    f\"\"\"search grants where {x} = \"Not available\" return grants[id+{x}+funding_org_name+active_year] limit 5\"\"\" ,\n",
    "    # counting how many have proper good values\n",
    "    f\"\"\"search grants where {x} is not empty and {x} != \"Not available\" return grants[id+{x}+funding_org_name+active_year] limit 20\"\"\",\n",
    "    # search for valid ID\n",
    "    f\"\"\"search grants where {x} = \"PA-18-670\" return grants[id+{x}+funding_org_name+active_year] limit 20\"\"\" ,\n",
    "]\n",
    "\n",
    "for el in q: \n",
    "    print(\"New query...\\n> \" + el + \"\\n\")\n",
    "    data = dsl.query(el)\n",
    "    print(data.as_dataframe())\n",
    "    print(\"\\n=======\\n\")\n",
    "    "
   ]
  },
  {
   "cell_type": "markdown",
   "metadata": {
    "Collapsed": "true",
    "colab_type": "text",
    "id": "YBSdHL4Tywj4"
   },
   "source": [
    "## [DSL-318] Deprecate patents.funder_groups and clinical_trials.funder_groups\n",
    "\n",
    "https://uberresearch.atlassian.net/browse/DSL-318"
   ]
  },
  {
   "cell_type": "code",
   "execution_count": 47,
   "metadata": {
    "Collapsed": "false"
   },
   "outputs": [
    {
     "name": "stdout",
     "output_type": "stream",
     "text": [
      "Returned Patents: 5 (total = 175144)\n",
      "WARNINGS [1]\n",
      "Field 'funder_groups' is deprecated. Please refer to https://docs.dimensions.ai/dsl/releasenotes.html for more details\n"
     ]
    },
    {
     "data": {
      "text/html": [
       "<div>\n",
       "<style scoped>\n",
       "    .dataframe tbody tr th:only-of-type {\n",
       "        vertical-align: middle;\n",
       "    }\n",
       "\n",
       "    .dataframe tbody tr th {\n",
       "        vertical-align: top;\n",
       "    }\n",
       "\n",
       "    .dataframe thead th {\n",
       "        text-align: right;\n",
       "    }\n",
       "</style>\n",
       "<table border=\"1\" class=\"dataframe\">\n",
       "  <thead>\n",
       "    <tr style=\"text-align: right;\">\n",
       "      <th></th>\n",
       "      <th>assignee_names</th>\n",
       "      <th>assignees</th>\n",
       "      <th>filing_status</th>\n",
       "      <th>granted_year</th>\n",
       "      <th>id</th>\n",
       "      <th>inventor_names</th>\n",
       "      <th>publication_date</th>\n",
       "      <th>times_cited</th>\n",
       "      <th>title</th>\n",
       "      <th>year</th>\n",
       "    </tr>\n",
       "  </thead>\n",
       "  <tbody>\n",
       "    <tr>\n",
       "      <th>0</th>\n",
       "      <td>[Wisconsin Alumni Research Foundation, WISCONS...</td>\n",
       "      <td>[{'id': 'grid.453773.1', 'name': 'Wisconsin Al...</td>\n",
       "      <td>Grant</td>\n",
       "      <td>2003.0</td>\n",
       "      <td>US-PP14225-P2</td>\n",
       "      <td>[Brent H. McCown, Eric L. Zeldin, Peter Normin...</td>\n",
       "      <td>2003-10-14</td>\n",
       "      <td>1.0</td>\n",
       "      <td>Cranberry variety named ‘HyRed’</td>\n",
       "      <td>2002</td>\n",
       "    </tr>\n",
       "    <tr>\n",
       "      <th>1</th>\n",
       "      <td>[Princeton University, UNIV PRINCETON]</td>\n",
       "      <td>[{'id': 'grid.16750.35', 'name': 'Princeton Un...</td>\n",
       "      <td>Application</td>\n",
       "      <td>NaN</td>\n",
       "      <td>US-20020146797-A1</td>\n",
       "      <td>[Kevan Shokat]</td>\n",
       "      <td>2002-10-10</td>\n",
       "      <td>NaN</td>\n",
       "      <td>Engineered protein kinases which can utilize m...</td>\n",
       "      <td>2001</td>\n",
       "    </tr>\n",
       "    <tr>\n",
       "      <th>2</th>\n",
       "      <td>[Beth Israel Deaconess Medical Center Inc, BET...</td>\n",
       "      <td>[{'id': 'grid.239395.7', 'name': 'Beth Israel ...</td>\n",
       "      <td>Grant</td>\n",
       "      <td>2003.0</td>\n",
       "      <td>US-6667388-B2</td>\n",
       "      <td>[Kiflai Bein, Michael Simons]</td>\n",
       "      <td>2003-12-23</td>\n",
       "      <td>5.0</td>\n",
       "      <td>Peptide inhibitor of MMP activity and angiogen...</td>\n",
       "      <td>2001</td>\n",
       "    </tr>\n",
       "    <tr>\n",
       "      <th>3</th>\n",
       "      <td>[University of California, UNIV CALIFORNIA]</td>\n",
       "      <td>[{'id': 'grid.30389.31', 'name': 'University o...</td>\n",
       "      <td>Grant</td>\n",
       "      <td>2003.0</td>\n",
       "      <td>US-6656390-B2</td>\n",
       "      <td>[Lin Song Li, Quanxi Jia]</td>\n",
       "      <td>2003-12-02</td>\n",
       "      <td>NaN</td>\n",
       "      <td>Preparation of energy storage materials</td>\n",
       "      <td>2003</td>\n",
       "    </tr>\n",
       "    <tr>\n",
       "      <th>4</th>\n",
       "      <td>[University of Alabama at Birmingham Research ...</td>\n",
       "      <td>[{'id': 'grid.265892.2', 'name': 'University o...</td>\n",
       "      <td>Grant</td>\n",
       "      <td>2004.0</td>\n",
       "      <td>US-6743893-B2</td>\n",
       "      <td>[Jeffrey A. Engler, Jae Hwy Lee, James F. Coll...</td>\n",
       "      <td>2004-06-01</td>\n",
       "      <td>27.0</td>\n",
       "      <td>Receptor-mediated uptake of peptides that bind...</td>\n",
       "      <td>2001</td>\n",
       "    </tr>\n",
       "  </tbody>\n",
       "</table>\n",
       "</div>"
      ],
      "text/plain": [
       "                                      assignee_names  \\\n",
       "0  [Wisconsin Alumni Research Foundation, WISCONS...   \n",
       "1             [Princeton University, UNIV PRINCETON]   \n",
       "2  [Beth Israel Deaconess Medical Center Inc, BET...   \n",
       "3        [University of California, UNIV CALIFORNIA]   \n",
       "4  [University of Alabama at Birmingham Research ...   \n",
       "\n",
       "                                           assignees filing_status  \\\n",
       "0  [{'id': 'grid.453773.1', 'name': 'Wisconsin Al...         Grant   \n",
       "1  [{'id': 'grid.16750.35', 'name': 'Princeton Un...   Application   \n",
       "2  [{'id': 'grid.239395.7', 'name': 'Beth Israel ...         Grant   \n",
       "3  [{'id': 'grid.30389.31', 'name': 'University o...         Grant   \n",
       "4  [{'id': 'grid.265892.2', 'name': 'University o...         Grant   \n",
       "\n",
       "   granted_year                 id  \\\n",
       "0        2003.0      US-PP14225-P2   \n",
       "1           NaN  US-20020146797-A1   \n",
       "2        2003.0      US-6667388-B2   \n",
       "3        2003.0      US-6656390-B2   \n",
       "4        2004.0      US-6743893-B2   \n",
       "\n",
       "                                      inventor_names publication_date  \\\n",
       "0  [Brent H. McCown, Eric L. Zeldin, Peter Normin...       2003-10-14   \n",
       "1                                     [Kevan Shokat]       2002-10-10   \n",
       "2                      [Kiflai Bein, Michael Simons]       2003-12-23   \n",
       "3                          [Lin Song Li, Quanxi Jia]       2003-12-02   \n",
       "4  [Jeffrey A. Engler, Jae Hwy Lee, James F. Coll...       2004-06-01   \n",
       "\n",
       "   times_cited                                              title  year  \n",
       "0          1.0                    Cranberry variety named ‘HyRed’  2002  \n",
       "1          NaN  Engineered protein kinases which can utilize m...  2001  \n",
       "2          5.0  Peptide inhibitor of MMP activity and angiogen...  2001  \n",
       "3          NaN            Preparation of energy storage materials  2003  \n",
       "4         27.0  Receptor-mediated uptake of peptides that bind...  2001  "
      ]
     },
     "execution_count": 47,
     "metadata": {},
     "output_type": "execute_result"
    }
   ],
   "source": [
    "%dsldf search patents where funder_groups is not empty return patents limit 5"
   ]
  },
  {
   "cell_type": "code",
   "execution_count": 48,
   "metadata": {
    "Collapsed": "false"
   },
   "outputs": [
    {
     "name": "stdout",
     "output_type": "stream",
     "text": [
      "Returned Clinical_trials: 5 (total = 45962)\n",
      "WARNINGS [1]\n",
      "Field 'funder_groups' is deprecated. Please refer to https://docs.dimensions.ai/dsl/releasenotes.html for more details\n"
     ]
    },
    {
     "data": {
      "text/html": [
       "<div>\n",
       "<style scoped>\n",
       "    .dataframe tbody tr th:only-of-type {\n",
       "        vertical-align: middle;\n",
       "    }\n",
       "\n",
       "    .dataframe tbody tr th {\n",
       "        vertical-align: top;\n",
       "    }\n",
       "\n",
       "    .dataframe thead th {\n",
       "        text-align: right;\n",
       "    }\n",
       "</style>\n",
       "<table border=\"1\" class=\"dataframe\">\n",
       "  <thead>\n",
       "    <tr style=\"text-align: right;\">\n",
       "      <th></th>\n",
       "      <th>active_years</th>\n",
       "      <th>id</th>\n",
       "      <th>investigator_details</th>\n",
       "      <th>title</th>\n",
       "    </tr>\n",
       "  </thead>\n",
       "  <tbody>\n",
       "    <tr>\n",
       "      <th>0</th>\n",
       "      <td>[2005, 2006, 2007, 2008, 2009, 2010]</td>\n",
       "      <td>NCT00249756</td>\n",
       "      <td>[[Stanley Sacks, PhD, Principal Investigator, ...</td>\n",
       "      <td>Re-Entry MTC for Offenders With MICA Disorders</td>\n",
       "    </tr>\n",
       "    <tr>\n",
       "      <th>1</th>\n",
       "      <td>[2005, 2006, 2007]</td>\n",
       "      <td>NCT00250185</td>\n",
       "      <td>NaN</td>\n",
       "      <td>The Role of Nitrite in Preconditioning Mediate...</td>\n",
       "    </tr>\n",
       "    <tr>\n",
       "      <th>2</th>\n",
       "      <td>[2005, 2006]</td>\n",
       "      <td>NCT00250198</td>\n",
       "      <td>NaN</td>\n",
       "      <td>A Randomized, Double-blind, Pilot Study of the...</td>\n",
       "    </tr>\n",
       "    <tr>\n",
       "      <th>3</th>\n",
       "      <td>[2004, 2005, 2006, 2007, 2008, 2009, 2010]</td>\n",
       "      <td>NCT00250484</td>\n",
       "      <td>[[Steven D Freedman, PhD, MD, Principal Invest...</td>\n",
       "      <td>The Effect of 10-Day Treatment of Repetitive T...</td>\n",
       "    </tr>\n",
       "    <tr>\n",
       "      <th>4</th>\n",
       "      <td>[2003, 2004, 2005, 2006, 2007, 2008, 2009, 201...</td>\n",
       "      <td>NCT00250523</td>\n",
       "      <td>[[Jason L Sperry, MD, Principal Investigator, ...</td>\n",
       "      <td>Mathematical Modeling of the Acute Inflammator...</td>\n",
       "    </tr>\n",
       "  </tbody>\n",
       "</table>\n",
       "</div>"
      ],
      "text/plain": [
       "                                        active_years           id  \\\n",
       "0               [2005, 2006, 2007, 2008, 2009, 2010]  NCT00249756   \n",
       "1                                 [2005, 2006, 2007]  NCT00250185   \n",
       "2                                       [2005, 2006]  NCT00250198   \n",
       "3         [2004, 2005, 2006, 2007, 2008, 2009, 2010]  NCT00250484   \n",
       "4  [2003, 2004, 2005, 2006, 2007, 2008, 2009, 201...  NCT00250523   \n",
       "\n",
       "                                investigator_details  \\\n",
       "0  [[Stanley Sacks, PhD, Principal Investigator, ...   \n",
       "1                                                NaN   \n",
       "2                                                NaN   \n",
       "3  [[Steven D Freedman, PhD, MD, Principal Invest...   \n",
       "4  [[Jason L Sperry, MD, Principal Investigator, ...   \n",
       "\n",
       "                                               title  \n",
       "0     Re-Entry MTC for Offenders With MICA Disorders  \n",
       "1  The Role of Nitrite in Preconditioning Mediate...  \n",
       "2  A Randomized, Double-blind, Pilot Study of the...  \n",
       "3  The Effect of 10-Day Treatment of Repetitive T...  \n",
       "4  Mathematical Modeling of the Acute Inflammator...  "
      ]
     },
     "execution_count": 48,
     "metadata": {},
     "output_type": "execute_result"
    }
   ],
   "source": [
    "%dsldf search clinical_trials where funder_groups is not empty return clinical_trials limit 5"
   ]
  },
  {
   "cell_type": "markdown",
   "metadata": {
    "Collapsed": "true",
    "colab_type": "text",
    "id": "YBSdHL4Tywj4"
   },
   "source": [
    "## [DSL-307] Improve warnings on sub-query errors\n",
    "\n",
    "https://uberresearch.atlassian.net/browse/DSL-307"
   ]
  },
  {
   "cell_type": "markdown",
   "metadata": {
    "Collapsed": "false"
   },
   "source": [
    "Show message for entities: `journals`, `orgs`, `cities`"
   ]
  },
  {
   "cell_type": "code",
   "execution_count": 53,
   "metadata": {
    "Collapsed": "false"
   },
   "outputs": [
    {
     "name": "stdout",
     "output_type": "stream",
     "text": [
      "Returned Publications: 20 (total = 736654)\n",
      "WARNINGS [1]\n",
      "Please review your query, as it contains an entity filter (research_orgs.types) that can lead to incomplete results. More details on https://docs.dimensions.ai/dsl/language.html#literal-fields-vs-entity-fields\n"
     ]
    },
    {
     "data": {
      "application/json": {
       "_stats": {
        "total_count": 736654
       },
       "_warnings": [
        "Please review your query, as it contains an entity filter (research_orgs.types) that can lead to incomplete results. More details on https://docs.dimensions.ai/dsl/language.html#literal-fields-vs-entity-fields"
       ],
       "publications": [
        {
         "author_affiliations": [
          [
           {
            "affiliations": [
             {
              "city": "Kyoto",
              "city_id": 1857910,
              "country": "Japan",
              "country_code": "JP",
              "id": "grid.258799.8",
              "name": "Kyoto University",
              "state": null,
              "state_code": null
             }
            ],
            "corresponding": "",
            "current_organization_id": "grid.258799.8",
            "first_name": "Takahiro",
            "last_name": "Tsuji",
            "orcid": "['0000-0002-5706-8300']",
            "raw_affiliation": [
             "Department of Respiratory Medicine, Graduate School of Medicine, Kyoto University, 606-8507, Kyoto, Japan"
            ],
            "researcher_id": "ur.01153222051.23"
           },
           {
            "affiliations": [
             {
              "city": "Kyoto",
              "city_id": 1857910,
              "country": "Japan",
              "country_code": "JP",
              "id": "grid.258799.8",
              "name": "Kyoto University",
              "state": null,
              "state_code": null
             }
            ],
            "corresponding": true,
            "current_organization_id": "grid.258799.8",
            "first_name": "Hiroaki",
            "last_name": "Ozasa",
            "orcid": "",
            "raw_affiliation": [
             "Department of Respiratory Medicine, Graduate School of Medicine, Kyoto University, 606-8507, Kyoto, Japan"
            ],
            "researcher_id": "ur.0704224345.93"
           },
           {
            "affiliations": [
             {
              "city": "Kyoto",
              "city_id": 1857910,
              "country": "Japan",
              "country_code": "JP",
              "id": "grid.258799.8",
              "name": "Kyoto University",
              "state": null,
              "state_code": null
             }
            ],
            "corresponding": "",
            "current_organization_id": "grid.258799.8",
            "first_name": "Wataru",
            "last_name": "Aoki",
            "orcid": "['0000-0002-3118-9390']",
            "raw_affiliation": [
             "Division of Applied Life Sciences, Graduate School of Agriculture, Kyoto University, 606-8502, Kyoto, Japan"
            ],
            "researcher_id": "ur.01355601723.21"
           },
           {
            "affiliations": [
             {
              "city": "Kyoto",
              "city_id": 1857910,
              "country": "Japan",
              "country_code": "JP",
              "id": "grid.258799.8",
              "name": "Kyoto University",
              "state": null,
              "state_code": null
             }
            ],
            "corresponding": "",
            "current_organization_id": "grid.258799.8",
            "first_name": "Shunsuke",
            "last_name": "Aburaya",
            "orcid": "['0000-0001-6194-9664']",
            "raw_affiliation": [
             "Division of Applied Life Sciences, Graduate School of Agriculture, Kyoto University, 606-8502, Kyoto, Japan"
            ],
            "researcher_id": "ur.01123744645.31"
           },
           {
            "affiliations": [
             {
              "city": "Kyoto",
              "city_id": 1857910,
              "country": "Japan",
              "country_code": "JP",
              "id": "grid.258799.8",
              "name": "Kyoto University",
              "state": null,
              "state_code": null
             }
            ],
            "corresponding": "",
            "current_organization_id": "",
            "first_name": "Tomoko",
            "last_name": "Yamamoto Funazo",
            "orcid": "",
            "raw_affiliation": [
             "Department of Respiratory Medicine, Graduate School of Medicine, Kyoto University, 606-8507, Kyoto, Japan"
            ],
            "researcher_id": ""
           },
           {
            "affiliations": [
             {
              "city": "Tokyo",
              "city_id": 1850147,
              "country": "Japan",
              "country_code": "JP",
              "id": "grid.418587.7",
              "name": "Roche (Japan)",
              "state": null,
              "state_code": null
             }
            ],
            "corresponding": "",
            "current_organization_id": "grid.418587.7",
            "first_name": "Koh",
            "last_name": "Furugaki",
            "orcid": "",
            "raw_affiliation": [
             "Product Research Department, Kamakura Research Laboratories, Chugai Pharmaceutical Co., Ltd, 247-8530, Kanagawa, Japan"
            ],
            "researcher_id": "ur.0636340373.93"
           },
           {
            "affiliations": [
             {
              "city": "Tokyo",
              "city_id": 1850147,
              "country": "Japan",
              "country_code": "JP",
              "id": "grid.418587.7",
              "name": "Roche (Japan)",
              "state": null,
              "state_code": null
             }
            ],
            "corresponding": "",
            "current_organization_id": "grid.418587.7",
            "first_name": "Yasushi",
            "last_name": "Yoshimura",
            "orcid": "",
            "raw_affiliation": [
             "Product Research Department, Kamakura Research Laboratories, Chugai Pharmaceutical Co., Ltd, 247-8530, Kanagawa, Japan"
            ],
            "researcher_id": "ur.0653534502.01"
           },
           {
            "affiliations": [
             {
              "city": "Kyoto",
              "city_id": 1857910,
              "country": "Japan",
              "country_code": "JP",
              "id": "grid.258799.8",
              "name": "Kyoto University",
              "state": null,
              "state_code": null
             }
            ],
            "corresponding": "",
            "current_organization_id": "grid.258799.8",
            "first_name": "Masatoshi",
            "last_name": "Yamazoe",
            "orcid": "",
            "raw_affiliation": [
             "Department of Respiratory Medicine, Graduate School of Medicine, Kyoto University, 606-8507, Kyoto, Japan"
            ],
            "researcher_id": "ur.012461277227.03"
           },
           {
            "affiliations": [
             {
              "city": "Kyoto",
              "city_id": 1857910,
              "country": "Japan",
              "country_code": "JP",
              "id": "grid.258799.8",
              "name": "Kyoto University",
              "state": null,
              "state_code": null
             }
            ],
            "corresponding": "",
            "current_organization_id": "grid.258799.8",
            "first_name": "Hitomi",
            "last_name": "Ajimizu",
            "orcid": "['0000-0001-6625-7464']",
            "raw_affiliation": [
             "Department of Respiratory Medicine, Graduate School of Medicine, Kyoto University, 606-8507, Kyoto, Japan"
            ],
            "researcher_id": "ur.01101455274.36"
           },
           {
            "affiliations": [
             {
              "city": "Kyoto",
              "city_id": 1857910,
              "country": "Japan",
              "country_code": "JP",
              "id": "grid.258799.8",
              "name": "Kyoto University",
              "state": null,
              "state_code": null
             }
            ],
            "corresponding": "",
            "current_organization_id": "grid.258799.8",
            "first_name": "Yuto",
            "last_name": "Yasuda",
            "orcid": "['0000-0002-5703-4119']",
            "raw_affiliation": [
             "Department of Respiratory Medicine, Graduate School of Medicine, Kyoto University, 606-8507, Kyoto, Japan"
            ],
            "researcher_id": "ur.010045455367.03"
           },
           {
            "affiliations": [
             {
              "city": "Kyoto",
              "city_id": 1857910,
              "country": "Japan",
              "country_code": "JP",
              "id": "grid.258799.8",
              "name": "Kyoto University",
              "state": null,
              "state_code": null
             }
            ],
            "corresponding": "",
            "current_organization_id": "grid.258799.8",
            "first_name": "Takashi",
            "last_name": "Nomizo",
            "orcid": "",
            "raw_affiliation": [
             "Department of Respiratory Medicine, Graduate School of Medicine, Kyoto University, 606-8507, Kyoto, Japan"
            ],
            "researcher_id": "ur.016350335061.04"
           },
           {
            "affiliations": [
             {
              "city": "Kyoto",
              "city_id": 1857910,
              "country": "Japan",
              "country_code": "JP",
              "id": "grid.258799.8",
              "name": "Kyoto University",
              "state": null,
              "state_code": null
             }
            ],
            "corresponding": "",
            "current_organization_id": "grid.258799.8",
            "first_name": "Hironori",
            "last_name": "Yoshida",
            "orcid": "['0000-0002-1676-0173']",
            "raw_affiliation": [
             "Department of Respiratory Medicine, Graduate School of Medicine, Kyoto University, 606-8507, Kyoto, Japan"
            ],
            "researcher_id": "ur.016110333161.29"
           },
           {
            "affiliations": [
             {
              "city": "Kyoto",
              "city_id": 1857910,
              "country": "Japan",
              "country_code": "JP",
              "id": "grid.258799.8",
              "name": "Kyoto University",
              "state": null,
              "state_code": null
             }
            ],
            "corresponding": "",
            "current_organization_id": "grid.258799.8",
            "first_name": "Yuichi",
            "last_name": "Sakamori",
            "orcid": "",
            "raw_affiliation": [
             "Department of Respiratory Medicine, Graduate School of Medicine, Kyoto University, 606-8507, Kyoto, Japan"
            ],
            "researcher_id": "ur.01122452671.69"
           },
           {
            "affiliations": [
             {
              "city": "Kobe",
              "city_id": 1859171,
              "country": "Japan",
              "country_code": "JP",
              "id": "grid.31432.37",
              "name": "Kobe University",
              "state": null,
              "state_code": null
             }
            ],
            "corresponding": "",
            "current_organization_id": "grid.419082.6",
            "first_name": "Hiroaki",
            "last_name": "Wake",
            "orcid": "",
            "raw_affiliation": [
             "Division of System Neuroscience, Graduate School of Medicine, Kobe University, 650-0017, Kobe, Japan"
            ],
            "researcher_id": "ur.01235306146.03"
           },
           {
            "affiliations": [
             {
              "city": "Kyoto",
              "city_id": 1857910,
              "country": "Japan",
              "country_code": "JP",
              "id": "grid.258799.8",
              "name": "Kyoto University",
              "state": null,
              "state_code": null
             }
            ],
            "corresponding": "",
            "current_organization_id": "grid.258799.8",
            "first_name": "Mitsuyoshi",
            "last_name": "Ueda",
            "orcid": "",
            "raw_affiliation": [
             "Division of Applied Life Sciences, Graduate School of Agriculture, Kyoto University, 606-8502, Kyoto, Japan"
            ],
            "researcher_id": "ur.01266755172.39"
           },
           {
            "affiliations": [
             {
              "city": "Kyoto",
              "city_id": 1857910,
              "country": "Japan",
              "country_code": "JP",
              "id": "grid.258799.8",
              "name": "Kyoto University",
              "state": null,
              "state_code": null
             }
            ],
            "corresponding": "",
            "current_organization_id": "grid.258799.8",
            "first_name": "Young Hak",
            "last_name": "Kim",
            "orcid": "",
            "raw_affiliation": [
             "Department of Respiratory Medicine, Graduate School of Medicine, Kyoto University, 606-8507, Kyoto, Japan"
            ],
            "researcher_id": "ur.0764413403.98"
           },
           {
            "affiliations": [
             {
              "city": "Kyoto",
              "city_id": 1857910,
              "country": "Japan",
              "country_code": "JP",
              "id": "grid.258799.8",
              "name": "Kyoto University",
              "state": null,
              "state_code": null
             }
            ],
            "corresponding": "",
            "current_organization_id": "grid.258799.8",
            "first_name": "Toyohiro",
            "last_name": "Hirai",
            "orcid": "",
            "raw_affiliation": [
             "Department of Respiratory Medicine, Graduate School of Medicine, Kyoto University, 606-8507, Kyoto, Japan"
            ],
            "researcher_id": "ur.0710137011.74"
           }
          ]
         ],
         "id": "pub.1123793144",
         "issue": "1",
         "journal": {
          "id": "jour.1043282",
          "title": "Nature Communications"
         },
         "pages": "74",
         "title": "YAP1 mediates survival of ALK-rearranged lung cancer cells treated with alectinib via pro-apoptotic protein regulation",
         "type": "article",
         "volume": "11",
         "year": 2020
        },
        {
         "author_affiliations": [
          [
           {
            "affiliations": [
             {
              "name": "Paris Descartes University, Department of Rheumatology, Hôpital Cochin, Assistance Publique - Hôpitaux de Paris, INSERM (U1153), Clinical epidemiology and biostatistics, PRES Sorbonne Paris-Cité, Paris, France"
             }
            ],
            "corresponding": true,
            "current_organization_id": "",
            "first_name": "Maxime",
            "last_name": "Dougados",
            "orcid": "",
            "raw_affiliation": [
             "Paris Descartes University, Department of Rheumatology, Hôpital Cochin, Assistance Publique - Hôpitaux de Paris, INSERM (U1153), Clinical epidemiology and biostatistics, PRES Sorbonne Paris-Cité, Paris, France"
            ],
            "researcher_id": ""
           },
           {
            "affiliations": [
             {
              "city": "Leiden",
              "city_id": 2751773,
              "country": "Netherlands",
              "country_code": "NL",
              "id": "grid.10419.3d",
              "name": "Leiden University Medical Center",
              "state": null,
              "state_code": null
             }
            ],
            "corresponding": "",
            "current_organization_id": "",
            "first_name": "Désirée",
            "last_name": "van der Heijde",
            "orcid": "",
            "raw_affiliation": [
             "Leiden University Medical Center, Leiden, The Netherlands"
            ],
            "researcher_id": ""
           },
           {
            "affiliations": [
             {
              "city": "Kaohsiung City",
              "city_id": 1673820,
              "country": "Taiwan",
              "country_code": "TW",
              "id": "grid.412019.f",
              "name": "Kaohsiung Medical University",
              "state": null,
              "state_code": null
             }
            ],
            "corresponding": "",
            "current_organization_id": "",
            "first_name": "Wen-Chan",
            "last_name": "Tsai",
            "orcid": "",
            "raw_affiliation": [
             "Kaohsiung Medical University, Kaohsiung City, Taiwan"
            ],
            "researcher_id": ""
           },
           {
            "affiliations": [
             {
              "name": "Medicity S.A.S, Bucaramanga, Colombia"
             }
            ],
            "corresponding": "",
            "current_organization_id": "",
            "first_name": "Diego",
            "last_name": "Saaibi",
            "orcid": "",
            "raw_affiliation": [
             "Medicity S.A.S, Bucaramanga, Colombia"
            ],
            "researcher_id": ""
           },
           {
            "affiliations": [
             {
              "city": "New York",
              "city_id": 5128581,
              "country": "United States",
              "country_code": "US",
              "id": "grid.410513.2",
              "name": "Pfizer (United States)",
              "state": "New York",
              "state_code": "US-NY"
             }
            ],
            "corresponding": "",
            "current_organization_id": "",
            "first_name": "Lisa",
            "last_name": "Marshall",
            "orcid": "",
            "raw_affiliation": [
             "Pfizer, Collegeville, PA, USA"
            ],
            "researcher_id": ""
           },
           {
            "affiliations": [
             {
              "city": "New York",
              "city_id": 5128581,
              "country": "United States",
              "country_code": "US",
              "id": "grid.410513.2",
              "name": "Pfizer (United States)",
              "state": "New York",
              "state_code": "US-NY"
             }
            ],
            "corresponding": "",
            "current_organization_id": "",
            "first_name": "Heather",
            "last_name": "Jones",
            "orcid": "",
            "raw_affiliation": [
             "Pfizer, Collegeville, PA, USA"
            ],
            "researcher_id": ""
           },
           {
            "affiliations": [
             {
              "city": "New York",
              "city_id": 5128581,
              "country": "United States",
              "country_code": "US",
              "id": "grid.410513.2",
              "name": "Pfizer (United States)",
              "state": "New York",
              "state_code": "US-NY"
             }
            ],
            "corresponding": "",
            "current_organization_id": "",
            "first_name": "Ron",
            "last_name": "Pedersen",
            "orcid": "",
            "raw_affiliation": [
             "Pfizer, Collegeville, PA, USA"
            ],
            "researcher_id": ""
           },
           {
            "affiliations": [
             {
              "city": "New York",
              "city_id": 5128581,
              "country": "United States",
              "country_code": "US",
              "id": "grid.410513.2",
              "name": "Pfizer (United States)",
              "state": "New York",
              "state_code": "US-NY"
             }
            ],
            "corresponding": "",
            "current_organization_id": "",
            "first_name": "Bonnie",
            "last_name": "Vlahos",
            "orcid": "",
            "raw_affiliation": [
             "Pfizer, Collegeville, PA, USA"
            ],
            "researcher_id": ""
           },
           {
            "affiliations": [
             {
              "city": "Rome",
              "city_id": 3169070,
              "country": "Italy",
              "country_code": "IT",
              "id": "grid.439132.e",
              "name": "Pfizer (Italy)",
              "state": null,
              "state_code": null
             }
            ],
            "corresponding": "",
            "current_organization_id": "",
            "first_name": "Miriam",
            "last_name": "Tarallo",
            "orcid": "",
            "raw_affiliation": [
             "Pfizer, Rome, Italy"
            ],
            "researcher_id": ""
           }
          ]
         ],
         "id": "pub.1123812736",
         "issue": "1",
         "journal": {
          "id": "jour.1031326",
          "title": "Health and Quality of Life Outcomes"
         },
         "pages": "4",
         "title": "Relationship between disease activity status or clinical response and patient-reported outcomes in patients with non-radiographic axial spondyloarthritis: 104-week results from the randomized controlled EMBARK study",
         "type": "article",
         "volume": "18",
         "year": 2020
        },
        {
         "author_affiliations": [
          [
           {
            "affiliations": [
             {
              "city": "New York",
              "city_id": 5128581,
              "country": "United States",
              "country_code": "US",
              "id": "grid.410513.2",
              "name": "Pfizer (United States)",
              "state": "New York",
              "state_code": "US-NY"
             }
            ],
            "corresponding": true,
            "current_organization_id": "grid.410513.2",
            "first_name": "Wenyan",
            "last_name": "Zhong",
            "orcid": "",
            "raw_affiliation": [
             "Oncology Research & Development, Pfizer Worldwide Research and Development, 10965, New York, Pearl River, USA"
            ],
            "researcher_id": "ur.01224473116.06"
           },
           {
            "affiliations": [
             {
              "city": "New York",
              "city_id": 5128581,
              "country": "United States",
              "country_code": "US",
              "id": "grid.410513.2",
              "name": "Pfizer (United States)",
              "state": "New York",
              "state_code": "US-NY"
             }
            ],
            "corresponding": "",
            "current_organization_id": "grid.410513.2",
            "first_name": "Jeremy S.",
            "last_name": "Myers",
            "orcid": "",
            "raw_affiliation": [
             "Oncology Research & Development, Pfizer Worldwide Research and Development, 10965, New York, Pearl River, USA"
            ],
            "researcher_id": "ur.0622254071.47"
           },
           {
            "affiliations": [
             {
              "city": "New York",
              "city_id": 5128581,
              "country": "United States",
              "country_code": "US",
              "id": "grid.410513.2",
              "name": "Pfizer (United States)",
              "state": "New York",
              "state_code": "US-NY"
             }
            ],
            "corresponding": "",
            "current_organization_id": "grid.410513.2",
            "first_name": "Fang",
            "last_name": "Wang",
            "orcid": "",
            "raw_affiliation": [
             "Oncology Research & Development, Pfizer Worldwide Research and Development, 10965, New York, Pearl River, USA"
            ],
            "researcher_id": "ur.01113540020.51"
           },
           {
            "affiliations": [
             {
              "city": "New York",
              "city_id": 5128581,
              "country": "United States",
              "country_code": "US",
              "id": "grid.410513.2",
              "name": "Pfizer (United States)",
              "state": "New York",
              "state_code": "US-NY"
             }
            ],
            "corresponding": "",
            "current_organization_id": "grid.410513.2",
            "first_name": "Kai",
            "last_name": "Wang",
            "orcid": "['0000-0003-0567-3004']",
            "raw_affiliation": [
             "Oncology Research & Development, Pfizer Worldwide Research and Development, 92121, San Diego, CA, USA"
            ],
            "researcher_id": "ur.01347061317.27"
           },
           {
            "affiliations": [
             {
              "city": "New York",
              "city_id": 5128581,
              "country": "United States",
              "country_code": "US",
              "id": "grid.410513.2",
              "name": "Pfizer (United States)",
              "state": "New York",
              "state_code": "US-NY"
             }
            ],
            "corresponding": "",
            "current_organization_id": "grid.410513.2",
            "first_name": "Justin",
            "last_name": "Lucas",
            "orcid": "",
            "raw_affiliation": [
             "Oncology Research & Development, Pfizer Worldwide Research and Development, 10965, New York, Pearl River, USA"
            ],
            "researcher_id": "ur.07727672747.33"
           },
           {
            "affiliations": [
             {
              "city": "New York",
              "city_id": 5128581,
              "country": "United States",
              "country_code": "US",
              "id": "grid.410513.2",
              "name": "Pfizer (United States)",
              "state": "New York",
              "state_code": "US-NY"
             }
            ],
            "corresponding": "",
            "current_organization_id": "",
            "first_name": "Edward",
            "last_name": "Rosfjord",
            "orcid": "",
            "raw_affiliation": [
             "Oncology Research & Development, Pfizer Worldwide Research and Development, 10965, New York, Pearl River, USA"
            ],
            "researcher_id": ""
           },
           {
            "affiliations": [
             {
              "city": "New York",
              "city_id": 5128581,
              "country": "United States",
              "country_code": "US",
              "id": "grid.410513.2",
              "name": "Pfizer (United States)",
              "state": "New York",
              "state_code": "US-NY"
             }
            ],
            "corresponding": "",
            "current_organization_id": "grid.410513.2",
            "first_name": "Judy",
            "last_name": "Lucas",
            "orcid": "",
            "raw_affiliation": [
             "Oncology Research & Development, Pfizer Worldwide Research and Development, 10965, New York, Pearl River, USA"
            ],
            "researcher_id": "ur.01166440523.41"
           },
           {
            "affiliations": [
             {
              "city": "New York",
              "city_id": 5128581,
              "country": "United States",
              "country_code": "US",
              "id": "grid.410513.2",
              "name": "Pfizer (United States)",
              "state": "New York",
              "state_code": "US-NY"
             }
            ],
            "corresponding": "",
            "current_organization_id": "grid.410513.2",
            "first_name": "Andrea T.",
            "last_name": "Hooper",
            "orcid": "",
            "raw_affiliation": [
             "Oncology Research & Development, Pfizer Worldwide Research and Development, 10965, New York, Pearl River, USA"
            ],
            "researcher_id": "ur.014652673543.73"
           },
           {
            "affiliations": [
             {
              "city": "New York",
              "city_id": 5128581,
              "country": "United States",
              "country_code": "US",
              "id": "grid.410513.2",
              "name": "Pfizer (United States)",
              "state": "New York",
              "state_code": "US-NY"
             }
            ],
            "corresponding": "",
            "current_organization_id": "grid.410513.2",
            "first_name": "Sharon",
            "last_name": "Yang",
            "orcid": "",
            "raw_affiliation": [
             "Oncology Research & Development, Pfizer Worldwide Research and Development, 10965, New York, Pearl River, USA"
            ],
            "researcher_id": "ur.016635755673.03"
           },
           {
            "affiliations": [
             {
              "city": "New York",
              "city_id": 5128581,
              "country": "United States",
              "country_code": "US",
              "id": "grid.410513.2",
              "name": "Pfizer (United States)",
              "state": "New York",
              "state_code": "US-NY"
             }
            ],
            "corresponding": "",
            "current_organization_id": "grid.410513.2",
            "first_name": "Lu Anna",
            "last_name": "Lemon",
            "orcid": "",
            "raw_affiliation": [
             "Oncology Research & Development, Pfizer Worldwide Research and Development, 10965, New York, Pearl River, USA"
            ],
            "researcher_id": "ur.01172423515.44"
           },
           {
            "affiliations": [
             {
              "city": "New York",
              "city_id": 5128581,
              "country": "United States",
              "country_code": "US",
              "id": "grid.410513.2",
              "name": "Pfizer (United States)",
              "state": "New York",
              "state_code": "US-NY"
             }
            ],
            "corresponding": "",
            "current_organization_id": "grid.410513.2",
            "first_name": "Magali",
            "last_name": "Guffroy",
            "orcid": "",
            "raw_affiliation": [
             "Drug Safety Research and Development, Pfizer Worldwide Research and Development, 10965, New York, Pearl River, USA"
            ],
            "researcher_id": "ur.01063143010.64"
           },
           {
            "affiliations": [
             {
              "city": "New York",
              "city_id": 5128581,
              "country": "United States",
              "country_code": "US",
              "id": "grid.410513.2",
              "name": "Pfizer (United States)",
              "state": "New York",
              "state_code": "US-NY"
             }
            ],
            "corresponding": "",
            "current_organization_id": "grid.410513.2",
            "first_name": "Chad",
            "last_name": "May",
            "orcid": "",
            "raw_affiliation": [
             "Oncology Research & Development, Pfizer Worldwide Research and Development, 10965, New York, Pearl River, USA"
            ],
            "researcher_id": "ur.01211147621.56"
           },
           {
            "affiliations": [
             {
              "city": "New York",
              "city_id": 5128581,
              "country": "United States",
              "country_code": "US",
              "id": "grid.410513.2",
              "name": "Pfizer (United States)",
              "state": "New York",
              "state_code": "US-NY"
             }
            ],
            "corresponding": "",
            "current_organization_id": "grid.410513.2",
            "first_name": "Jadwiga R.",
            "last_name": "Bienkowska",
            "orcid": "",
            "raw_affiliation": [
             "Oncology Research & Development, Pfizer Worldwide Research and Development, 92121, San Diego, CA, USA"
            ],
            "researcher_id": "ur.01310403370.77"
           },
           {
            "affiliations": [
             {
              "city": "New York",
              "city_id": 5128581,
              "country": "United States",
              "country_code": "US",
              "id": "grid.410513.2",
              "name": "Pfizer (United States)",
              "state": "New York",
              "state_code": "US-NY"
             }
            ],
            "corresponding": true,
            "current_organization_id": "grid.410513.2",
            "first_name": "Paul A.",
            "last_name": "Rejto",
            "orcid": "",
            "raw_affiliation": [
             "Oncology Research & Development, Pfizer Worldwide Research and Development, 92121, San Diego, CA, USA"
            ],
            "researcher_id": "ur.0772712147.50"
           }
          ]
         ],
         "id": "pub.1123790112",
         "issue": "1",
         "journal": {
          "id": "jour.1023790",
          "title": "BMC Genomics"
         },
         "pages": "2",
         "title": "Comparison of the molecular and cellular phenotypes of common mouse syngeneic models with human tumors",
         "type": "article",
         "volume": "21",
         "year": 2020
        },
        {
         "author_affiliations": [
          [
           {
            "affiliations": [
             {
              "city": "Glasgow",
              "city_id": 2648579,
              "country": "United Kingdom",
              "country_code": "GB",
              "id": "grid.8756.c",
              "name": "University of Glasgow",
              "state": null,
              "state_code": null
             }
            ],
            "corresponding": "",
            "current_organization_id": "grid.8756.c",
            "first_name": "Iain R.",
            "last_name": "Macpherson",
            "orcid": "['0000-0003-4295-8885']",
            "raw_affiliation": [
             "Institute of Cancer Sciences, University of Glasgow, Glasgow, UK"
            ],
            "researcher_id": "ur.01015014442.27"
           },
           {
            "affiliations": [
             {
              "city": "Glasgow",
              "city_id": 2648579,
              "country": "United Kingdom",
              "country_code": "GB",
              "id": "grid.8756.c",
              "name": "University of Glasgow",
              "state": null,
              "state_code": null
             }
            ],
            "corresponding": "",
            "current_organization_id": "grid.422301.6",
            "first_name": "Pavlina",
            "last_name": "Spiliopoulou",
            "orcid": "['0000-0002-6486-6319']",
            "raw_affiliation": [
             "Institute of Cancer Sciences, University of Glasgow, Glasgow, UK"
            ],
            "researcher_id": "ur.0734016070.30"
           },
           {
            "affiliations": [
             {
              "city": "London",
              "city_id": 2643743,
              "country": "United Kingdom",
              "country_code": "GB",
              "id": "grid.477834.b",
              "name": "Sarah Cannon Research Institute",
              "state": null,
              "state_code": null
             }
            ],
            "corresponding": "",
            "current_organization_id": "grid.477834.b",
            "first_name": "Saeed",
            "last_name": "Rafii",
            "orcid": "",
            "raw_affiliation": [
             "Sarah Cannon Research Institute UK, London, UK"
            ],
            "researcher_id": "ur.07505664611.88"
           },
           {
            "affiliations": [
             {
              "city": "London",
              "city_id": 2643743,
              "country": "United Kingdom",
              "country_code": "GB",
              "id": "grid.477834.b",
              "name": "Sarah Cannon Research Institute",
              "state": null,
              "state_code": null
             }
            ],
            "corresponding": "",
            "current_organization_id": "grid.83440.3b",
            "first_name": "Matilde",
            "last_name": "Saggese",
            "orcid": "",
            "raw_affiliation": [
             "Sarah Cannon Research Institute UK, London, UK"
            ],
            "researcher_id": "ur.01067036020.22"
           },
           {
            "affiliations": [
             {
              "city": "Cambridge",
              "city_id": 2653941,
              "country": "United Kingdom",
              "country_code": "GB",
              "id": "grid.498239.d",
              "name": "Cambridge Centre",
              "state": null,
              "state_code": null
             }
            ],
            "corresponding": "",
            "current_organization_id": "grid.498239.d",
            "first_name": "Richard D.",
            "last_name": "Baird",
            "orcid": "['0000-0001-7071-6483']",
            "raw_affiliation": [
             "Cancer Research UK Cambridge Centre, Cambridge, UK"
            ],
            "researcher_id": "ur.01200143206.39"
           },
           {
            "affiliations": [
             {
              "city": "Cambridge",
              "city_id": 2653941,
              "country": "United Kingdom",
              "country_code": "GB",
              "id": "grid.498239.d",
              "name": "Cambridge Centre",
              "state": null,
              "state_code": null
             }
            ],
            "corresponding": "",
            "current_organization_id": "grid.410458.c",
            "first_name": "Javier",
            "last_name": "Garcia-Corbacho",
            "orcid": "",
            "raw_affiliation": [
             "Cancer Research UK Cambridge Centre, Cambridge, UK"
            ],
            "researcher_id": "ur.011057201205.10"
           },
           {
            "affiliations": [
             {
              "city": "Bordeaux",
              "city_id": 3031582,
              "country": "France",
              "country_code": "FR",
              "id": "grid.476460.7",
              "name": "Institut Bergonié",
              "state": null,
              "state_code": null
             }
            ],
            "corresponding": "",
            "current_organization_id": "grid.476460.7",
            "first_name": "Antoine",
            "last_name": "Italiano",
            "orcid": "",
            "raw_affiliation": [
             "Institut Bergonie, Bordeaux, France"
            ],
            "researcher_id": "ur.01076406503.14"
           },
           {
            "affiliations": [
             {
              "city": "Lille",
              "city_id": 2998324,
              "country": "France",
              "country_code": "FR",
              "id": "grid.452351.4",
              "name": "Centre Oscar Lambret",
              "state": null,
              "state_code": null
             }
            ],
            "corresponding": "",
            "current_organization_id": "grid.452351.4",
            "first_name": "Jacques",
            "last_name": "Bonneterre",
            "orcid": "",
            "raw_affiliation": [
             "Centre Oscar Lambret, Lille, France"
            ],
            "researcher_id": "ur.0726624375.81"
           },
           {
            "affiliations": [
             {
              "name": "Institut de cancérologie de l’Ouest Site René Gauducheau, Saint Herblain, France"
             }
            ],
            "corresponding": "",
            "current_organization_id": "grid.418191.4",
            "first_name": "Mario",
            "last_name": "Campone",
            "orcid": "",
            "raw_affiliation": [
             "Institut de cancérologie de l’Ouest Site René Gauducheau, Saint Herblain, France"
            ],
            "researcher_id": "ur.0773526204.78"
           },
           {
            "affiliations": [
             {
              "name": "Newcastle upon Tyne and Sir Bobby Robson Cancer Trials Research Centre, Freeman Hospital, Newcastle University, Newcastle Upon Tyne, UK"
             }
            ],
            "corresponding": "",
            "current_organization_id": "grid.415050.5",
            "first_name": "Nicola",
            "last_name": "Cresti",
            "orcid": "",
            "raw_affiliation": [
             "Newcastle upon Tyne and Sir Bobby Robson Cancer Trials Research Centre, Freeman Hospital, Newcastle University, Newcastle Upon Tyne, UK"
            ],
            "researcher_id": "ur.0726625446.34"
           },
           {
            "affiliations": [
             {
              "city": "Osaka",
              "city_id": 1853909,
              "country": "Japan",
              "country_code": "JP",
              "id": "grid.419164.f",
              "name": "Shionogi (Japan)",
              "state": null,
              "state_code": null
             }
            ],
            "corresponding": "",
            "current_organization_id": "grid.419164.f",
            "first_name": "John",
            "last_name": "Posner",
            "orcid": "",
            "raw_affiliation": [
             "Shionogi & Co. Ltd., Osaka, Japan"
            ],
            "researcher_id": "ur.010577130371.52"
           },
           {
            "affiliations": [
             {
              "city": "Osaka",
              "city_id": 1853909,
              "country": "Japan",
              "country_code": "JP",
              "id": "grid.419164.f",
              "name": "Shionogi (Japan)",
              "state": null,
              "state_code": null
             }
            ],
            "corresponding": "",
            "current_organization_id": "grid.419164.f",
            "first_name": "Yousuke",
            "last_name": "Takeda",
            "orcid": "",
            "raw_affiliation": [
             "Shionogi & Co. Ltd., Osaka, Japan"
            ],
            "researcher_id": "ur.012060550011.40"
           },
           {
            "affiliations": [
             {
              "city": "Osaka",
              "city_id": 1853909,
              "country": "Japan",
              "country_code": "JP",
              "id": "grid.419164.f",
              "name": "Shionogi (Japan)",
              "state": null,
              "state_code": null
             }
            ],
            "corresponding": "",
            "current_organization_id": "grid.419164.f",
            "first_name": "Akinori",
            "last_name": "Arimura",
            "orcid": "",
            "raw_affiliation": [
             "Shionogi & Co. Ltd., Osaka, Japan"
            ],
            "researcher_id": "ur.01052565446.27"
           },
           {
            "affiliations": [
             {
              "city": "London",
              "city_id": 2643743,
              "country": "United Kingdom",
              "country_code": "GB",
              "id": "grid.13097.3c",
              "name": "King's College London",
              "state": null,
              "state_code": null
             }
            ],
            "corresponding": true,
            "current_organization_id": "grid.13097.3c",
            "first_name": "James",
            "last_name": "Spicer",
            "orcid": "",
            "raw_affiliation": [
             "School of Cancer and Pharmaceutical Sciences, King’s College London, Guy’s Hospital, 3rd Floor, Bermondsey Wing, St Thomas Street, SE1 9RT, London, UK"
            ],
            "researcher_id": "ur.0750470331.57"
           }
          ]
         ],
         "id": "pub.1123755038",
         "issue": "1",
         "journal": {
          "id": "jour.1022375",
          "title": "Breast Cancer Research"
         },
         "pages": "1",
         "title": "A phase I/II study of epertinib plus trastuzumab with or without chemotherapy in patients with HER2-positive metastatic breast cancer",
         "type": "article",
         "volume": "22",
         "year": 2020
        },
        {
         "author_affiliations": [
          [
           {
            "affiliations": [
             {
              "city": "Lyon",
              "city_id": 2996944,
              "country": "France",
              "country_code": "FR",
              "id": "grid.423973.8",
              "name": "Bayer (France)",
              "state": null,
              "state_code": null
             },
             {
              "name": "Bloomoon, 13 Avenue Albert Einstein, 69100, Villeurbanne, France"
             }
            ],
            "corresponding": true,
            "current_organization_id": "grid.9486.3",
            "first_name": "Oscar",
            "last_name": "Méndez-Lucio",
            "orcid": "['0000-0003-0345-1168']",
            "raw_affiliation": [
             "Bayer SAS, Bayer Crop Science, 355 rue Dostoïevski, CS 90153, 06906, Valbonne, Sophia Antipolis Cedex, France",
             "Bloomoon, 13 Avenue Albert Einstein, 69100, Villeurbanne, France"
            ],
            "researcher_id": "ur.01245615121.06"
           },
           {
            "affiliations": [
             {
              "city": "Lyon",
              "city_id": 2996944,
              "country": "France",
              "country_code": "FR",
              "id": "grid.423973.8",
              "name": "Bayer (France)",
              "state": null,
              "state_code": null
             }
            ],
            "corresponding": "",
            "current_organization_id": "",
            "first_name": "Benoit",
            "last_name": "Baillif",
            "orcid": "",
            "raw_affiliation": [
             "Bayer SAS, Bayer Crop Science, 355 rue Dostoïevski, CS 90153, 06906, Valbonne, Sophia Antipolis Cedex, France"
            ],
            "researcher_id": ""
           },
           {
            "affiliations": [
             {
              "city": "Leverkusen",
              "city_id": 2878234,
              "country": "Germany",
              "country_code": "DE",
              "id": "grid.420044.6",
              "name": "Bayer (Germany)",
              "state": null,
              "state_code": null
             }
            ],
            "corresponding": "",
            "current_organization_id": "grid.420044.6",
            "first_name": "Djork-Arné",
            "last_name": "Clevert",
            "orcid": "['0000-0003-4191-2156']",
            "raw_affiliation": [
             "Department of Machine Learning Research, Bayer AG, 13353, Berlin, Germany"
            ],
            "researcher_id": "ur.01316241753.73"
           },
           {
            "affiliations": [
             {
              "city": "Lyon",
              "city_id": 2996944,
              "country": "France",
              "country_code": "FR",
              "id": "grid.423973.8",
              "name": "Bayer (France)",
              "state": null,
              "state_code": null
             }
            ],
            "corresponding": true,
            "current_organization_id": "grid.423973.8",
            "first_name": "David",
            "last_name": "Rouquié",
            "orcid": "",
            "raw_affiliation": [
             "Bayer SAS, Bayer Crop Science, 355 rue Dostoïevski, CS 90153, 06906, Valbonne, Sophia Antipolis Cedex, France"
            ],
            "researcher_id": "ur.01351052763.93"
           },
           {
            "affiliations": [
             {
              "city": "Leverkusen",
              "city_id": 2878234,
              "country": "Germany",
              "country_code": "DE",
              "id": "grid.420044.6",
              "name": "Bayer (Germany)",
              "state": null,
              "state_code": null
             }
            ],
            "corresponding": true,
            "current_organization_id": "grid.420044.6",
            "first_name": "Joerg",
            "last_name": "Wichard",
            "orcid": "",
            "raw_affiliation": [
             "Department of Genetic Toxicology, Bayer AG, 13353, Berlin, Germany"
            ],
            "researcher_id": "ur.01037155035.20"
           }
          ]
         ],
         "id": "pub.1123785757",
         "issue": "1",
         "journal": {
          "id": "jour.1043282",
          "title": "Nature Communications"
         },
         "pages": "10",
         "title": "De novo generation of hit-like molecules from gene expression signatures using artificial intelligence",
         "type": "article",
         "volume": "11",
         "year": 2020
        },
        {
         "author_affiliations": [
          [
           {
            "affiliations": [
             {
              "city": "Hamilton",
              "city_id": 2190324,
              "country": "New Zealand",
              "country_code": "NZ",
              "id": "grid.417738.e",
              "name": "AgResearch (New Zealand)",
              "state": null,
              "state_code": null
             }
            ],
            "corresponding": "",
            "current_organization_id": "grid.501372.2",
            "first_name": "Daniel A",
            "last_name": "Bastías",
            "orcid": "['0000-0002-0522-5538']",
            "raw_affiliation": [
             "Forage Science, AgResearch Limited, Grasslands Research Centre, Palmerston North, New Zealand"
            ],
            "researcher_id": "ur.01276206104.31"
           },
           {
            "affiliations": [
             {
              "city": "Hamilton",
              "city_id": 2190324,
              "country": "New Zealand",
              "country_code": "NZ",
              "id": "grid.417738.e",
              "name": "AgResearch (New Zealand)",
              "state": null,
              "state_code": null
             }
            ],
            "corresponding": "",
            "current_organization_id": "grid.417738.e",
            "first_name": "Linda J",
            "last_name": "Johnson",
            "orcid": "['0000-0002-3779-0902']",
            "raw_affiliation": [
             "Forage Science, AgResearch Limited, Grasslands Research Centre, Palmerston North, New Zealand"
            ],
            "researcher_id": "ur.01102311251.85"
           },
           {
            "affiliations": [
             {
              "city": "Hamilton",
              "city_id": 2190324,
              "country": "New Zealand",
              "country_code": "NZ",
              "id": "grid.417738.e",
              "name": "AgResearch (New Zealand)",
              "state": null,
              "state_code": null
             }
            ],
            "corresponding": "",
            "current_organization_id": "grid.417738.e",
            "first_name": "Stuart D",
            "last_name": "Card",
            "orcid": "['0000-0001-7140-7471']",
            "raw_affiliation": [
             "Forage Science, AgResearch Limited, Grasslands Research Centre, Palmerston North, New Zealand"
            ],
            "researcher_id": "ur.01056131504.39"
           }
          ]
         ],
         "id": "pub.1122985480",
         "journal": {
          "id": "jour.1020739",
          "title": "Current Opinion in Plant Biology"
         },
         "pages": "1-8",
         "title": "Symbiotic bacteria of plant-associated fungi: friends or foes?",
         "type": "article",
         "volume": "56",
         "year": 2020
        },
        {
         "author_affiliations": [
          [
           {
            "affiliations": [
             {
              "city": "Beijing",
              "city_id": 1816670,
              "country": "China",
              "country_code": "CN",
              "id": "grid.64939.31",
              "name": "Beihang University",
              "state": null,
              "state_code": null
             }
            ],
            "corresponding": "",
            "current_organization_id": "",
            "first_name": "Shaoqing",
            "last_name": "Zhu",
            "orcid": "",
            "raw_affiliation": [
             "School of Mechanical Engineering Automation, Beihang University, Beijing 100191, China"
            ],
            "researcher_id": ""
           },
           {
            "affiliations": [
             {
              "city": "Beijing",
              "city_id": 1816670,
              "country": "China",
              "country_code": "CN",
              "id": "grid.433158.8",
              "name": "State Grid Corporation of China (China)",
              "state": null,
              "state_code": null
             }
            ],
            "corresponding": "",
            "current_organization_id": "grid.433158.8",
            "first_name": "Chen",
            "last_name": "Hu",
            "orcid": "",
            "raw_affiliation": [
             "State Key Laboratory of Operation and Control of Renewable Energy Storage Systems, China Electric Power Research Institute, Beijing 100192, China"
            ],
            "researcher_id": "ur.012637676237.51"
           },
           {
            "affiliations": [
             {
              "city": "Beijing",
              "city_id": 1816670,
              "country": "China",
              "country_code": "CN",
              "id": "grid.64939.31",
              "name": "Beihang University",
              "state": null,
              "state_code": null
             }
            ],
            "corresponding": true,
            "current_organization_id": "",
            "first_name": "Ye",
            "last_name": "Xu",
            "orcid": "",
            "raw_affiliation": [
             "School of Mechanical Engineering Automation, Beihang University, Beijing 100191, China"
            ],
            "researcher_id": ""
           },
           {
            "affiliations": [
             {
              "city": "Beijing",
              "city_id": 1816670,
              "country": "China",
              "country_code": "CN",
              "id": "grid.433158.8",
              "name": "State Grid Corporation of China (China)",
              "state": null,
              "state_code": null
             }
            ],
            "corresponding": true,
            "current_organization_id": "grid.433158.8",
            "first_name": "Yi",
            "last_name": "Jin",
            "orcid": "",
            "raw_affiliation": [
             "State Key Laboratory of Operation and Control of Renewable Energy Storage Systems, China Electric Power Research Institute, Beijing 100192, China"
            ],
            "researcher_id": "ur.012557710753.45"
           },
           {
            "affiliations": [
             {
              "city": "Beijing",
              "city_id": 1816670,
              "country": "China",
              "country_code": "CN",
              "id": "grid.64939.31",
              "name": "Beihang University",
              "state": null,
              "state_code": null
             }
            ],
            "corresponding": true,
            "current_organization_id": "grid.64939.31",
            "first_name": "Jianglan",
            "last_name": "Shui",
            "orcid": "",
            "raw_affiliation": [
             "School of Materials Science Engineering, Beihang University, Beijing 100191, China"
            ],
            "researcher_id": "ur.0705160700.27"
           }
          ]
         ],
         "id": "pub.1122806843",
         "journal": {
          "id": "jour.1141184",
          "title": "Journal of Energy Chemistry"
         },
         "pages": "208-214",
         "title": "Performance improvement of lithium-ion battery by pulse current",
         "type": "article",
         "volume": "46",
         "year": 2020
        },
        {
         "author_affiliations": [
          [
           {
            "affiliations": [
             {
              "city": "Beijing",
              "city_id": 1816670,
              "country": "China",
              "country_code": "CN",
              "id": "grid.12527.33",
              "name": "Tsinghua University",
              "state": null,
              "state_code": null
             }
            ],
            "corresponding": "",
            "current_organization_id": "",
            "first_name": "Siqi",
            "last_name": "Yu",
            "orcid": "",
            "raw_affiliation": [
             "Department of Electrical Engineering, Tsinghua University, Beijing, China"
            ],
            "researcher_id": ""
           },
           {
            "affiliations": [
             {
              "city": "Beijing",
              "city_id": 1816670,
              "country": "China",
              "country_code": "CN",
              "id": "grid.12527.33",
              "name": "Tsinghua University",
              "state": null,
              "state_code": null
             }
            ],
            "corresponding": true,
            "current_organization_id": "",
            "first_name": "Shuqing",
            "last_name": "Zhang",
            "orcid": "",
            "raw_affiliation": [
             "Department of Electrical Engineering, Tsinghua University, Beijing, China"
            ],
            "researcher_id": ""
           },
           {
            "affiliations": [
             {
              "city": "Beijing",
              "city_id": 1816670,
              "country": "China",
              "country_code": "CN",
              "id": "grid.12527.33",
              "name": "Tsinghua University",
              "state": null,
              "state_code": null
             }
            ],
            "corresponding": "",
            "current_organization_id": "grid.12527.33",
            "first_name": "Yingduo",
            "last_name": "Han",
            "orcid": "",
            "raw_affiliation": [
             "Department of Electrical Engineering, Tsinghua University, Beijing, China"
            ],
            "researcher_id": "ur.011407201073.79"
           },
           {
            "affiliations": [
             {
              "name": "RD Center, Xuji Group Corporation, Beijing, China"
             }
            ],
            "corresponding": "",
            "current_organization_id": "",
            "first_name": "Qingping",
            "last_name": "Wang",
            "orcid": "",
            "raw_affiliation": [
             "RD Center, Xuji Group Corporation, Beijing, China"
            ],
            "researcher_id": ""
           },
           {
            "affiliations": [
             {
              "name": "RD Center, Xuji Group Corporation, Beijing, China"
             }
            ],
            "corresponding": "",
            "current_organization_id": "",
            "first_name": "Di",
            "last_name": "Wu",
            "orcid": "",
            "raw_affiliation": [
             "RD Center, Xuji Group Corporation, Beijing, China"
            ],
            "researcher_id": ""
           },
           {
            "affiliations": [
             {
              "city": "Beijing",
              "city_id": 1816670,
              "country": "China",
              "country_code": "CN",
              "id": "grid.433158.8",
              "name": "State Grid Corporation of China (China)",
              "state": null,
              "state_code": null
             }
            ],
            "corresponding": "",
            "current_organization_id": "",
            "first_name": "Guanglei",
            "last_name": "Li",
            "orcid": "",
            "raw_affiliation": [
             "Shandong Electric Power Research Institute, Shandong, China"
            ],
            "researcher_id": ""
           },
           {
            "affiliations": [
             {
              "city": "Beijing",
              "city_id": 1816670,
              "country": "China",
              "country_code": "CN",
              "id": "grid.433158.8",
              "name": "State Grid Corporation of China (China)",
              "state": null,
              "state_code": null
             }
            ],
            "corresponding": "",
            "current_organization_id": "grid.433158.8",
            "first_name": "Shumin",
            "last_name": "Sun",
            "orcid": "",
            "raw_affiliation": [
             "Shandong Electric Power Research Institute, Shandong, China"
            ],
            "researcher_id": "ur.011610260404.34"
           }
          ]
         ],
         "id": "pub.1123152692",
         "journal": {
          "id": "jour.1137152",
          "title": "International Journal of Electrical Power & Energy Systems"
         },
         "pages": "105737",
         "title": "Transfer function models of gas distribution networks for studying gas-electricity coupling: Modeling, networking and evaluation",
         "type": "article",
         "volume": "118",
         "year": 2020
        },
        {
         "author_affiliations": [
          [
           {
            "affiliations": [
             {
              "city": "San Rafael",
              "city_id": 5392567,
              "country": "United States",
              "country_code": "US",
              "id": "grid.422932.c",
              "name": "BioMarin (United States)",
              "state": "California",
              "state_code": "US-CA"
             }
            ],
            "corresponding": "",
            "current_organization_id": "grid.422932.c",
            "first_name": "Lening",
            "last_name": "Zhang",
            "orcid": "",
            "raw_affiliation": [
             "Translational Biology, BioMarin Pharmaceutical Inc., Novato, California, USA"
            ],
            "researcher_id": "ur.013173676144.93"
           },
           {
            "affiliations": [
             {
              "city": "San Rafael",
              "city_id": 5392567,
              "country": "United States",
              "country_code": "US",
              "id": "grid.422932.c",
              "name": "BioMarin (United States)",
              "state": "California",
              "state_code": "US-CA"
             }
            ],
            "corresponding": "",
            "current_organization_id": "",
            "first_name": "Britta",
            "last_name": "Handyside",
            "orcid": "",
            "raw_affiliation": [
             "Translational Biology, BioMarin Pharmaceutical Inc., Novato, California, USA"
            ],
            "researcher_id": ""
           },
           {
            "affiliations": [
             {
              "city": "San Rafael",
              "city_id": 5392567,
              "country": "United States",
              "country_code": "US",
              "id": "grid.422932.c",
              "name": "BioMarin (United States)",
              "state": "California",
              "state_code": "US-CA"
             }
            ],
            "corresponding": "",
            "current_organization_id": "grid.422932.c",
            "first_name": "Ryan",
            "last_name": "Murphy",
            "orcid": "",
            "raw_affiliation": [
             "Translational Biology, BioMarin Pharmaceutical Inc., Novato, California, USA"
            ],
            "researcher_id": "ur.011723555363.36"
           },
           {
            "affiliations": [
             {
              "city": "San Rafael",
              "city_id": 5392567,
              "country": "United States",
              "country_code": "US",
              "id": "grid.422932.c",
              "name": "BioMarin (United States)",
              "state": "California",
              "state_code": "US-CA"
             }
            ],
            "corresponding": "",
            "current_organization_id": "grid.422932.c",
            "first_name": "Choong-Ryoul",
            "last_name": "Sihn",
            "orcid": "",
            "raw_affiliation": [
             "Translational Biology, BioMarin Pharmaceutical Inc., Novato, California, USA"
            ],
            "researcher_id": "ur.0622142751.53"
           },
           {
            "affiliations": [
             {
              "city": "San Rafael",
              "city_id": 5392567,
              "country": "United States",
              "country_code": "US",
              "id": "grid.422932.c",
              "name": "BioMarin (United States)",
              "state": "California",
              "state_code": "US-CA"
             }
            ],
            "corresponding": "",
            "current_organization_id": "grid.422932.c",
            "first_name": "Lin",
            "last_name": "Xie",
            "orcid": "",
            "raw_affiliation": [
             "Translational Biology, BioMarin Pharmaceutical Inc., Novato, California, USA"
            ],
            "researcher_id": "ur.010727015627.89"
           },
           {
            "affiliations": [
             {
              "city": "San Rafael",
              "city_id": 5392567,
              "country": "United States",
              "country_code": "US",
              "id": "grid.422932.c",
              "name": "BioMarin (United States)",
              "state": "California",
              "state_code": "US-CA"
             }
            ],
            "corresponding": "",
            "current_organization_id": "grid.422932.c",
            "first_name": "Catherine",
            "last_name": "Vitelli",
            "orcid": "",
            "raw_affiliation": [
             "Translational Biology, BioMarin Pharmaceutical Inc., Novato, California, USA"
            ],
            "researcher_id": "ur.010614460005.42"
           },
           {
            "affiliations": [
             {
              "city": "San Rafael",
              "city_id": 5392567,
              "country": "United States",
              "country_code": "US",
              "id": "grid.422932.c",
              "name": "BioMarin (United States)",
              "state": "California",
              "state_code": "US-CA"
             }
            ],
            "corresponding": "",
            "current_organization_id": "grid.422932.c",
            "first_name": "Danielle",
            "last_name": "Harmon",
            "orcid": "",
            "raw_affiliation": [
             "Translational Biology, BioMarin Pharmaceutical Inc., Novato, California, USA"
            ],
            "researcher_id": "ur.011175761640.13"
           },
           {
            "affiliations": [
             {
              "city": "San Rafael",
              "city_id": 5392567,
              "country": "United States",
              "country_code": "US",
              "id": "grid.422932.c",
              "name": "BioMarin (United States)",
              "state": "California",
              "state_code": "US-CA"
             }
            ],
            "corresponding": "",
            "current_organization_id": "",
            "first_name": "Sílvia",
            "last_name": "Sisó",
            "orcid": "",
            "raw_affiliation": [
             "Translational Biology, BioMarin Pharmaceutical Inc., Novato, California, USA"
            ],
            "researcher_id": ""
           },
           {
            "affiliations": [
             {
              "city": "San Rafael",
              "city_id": 5392567,
              "country": "United States",
              "country_code": "US",
              "id": "grid.422932.c",
              "name": "BioMarin (United States)",
              "state": "California",
              "state_code": "US-CA"
             }
            ],
            "corresponding": "",
            "current_organization_id": "",
            "first_name": "Su",
            "last_name": "Liu",
            "orcid": "",
            "raw_affiliation": [
             "Translational Biology, BioMarin Pharmaceutical Inc., Novato, California, USA"
            ],
            "researcher_id": ""
           },
           {
            "affiliations": [
             {
              "city": "San Rafael",
              "city_id": 5392567,
              "country": "United States",
              "country_code": "US",
              "id": "grid.422932.c",
              "name": "BioMarin (United States)",
              "state": "California",
              "state_code": "US-CA"
             }
            ],
            "corresponding": "",
            "current_organization_id": "grid.422932.c",
            "first_name": "Sherry",
            "last_name": "Bullens",
            "orcid": "",
            "raw_affiliation": [
             "Translational Biology, BioMarin Pharmaceutical Inc., Novato, California, USA"
            ],
            "researcher_id": "ur.01151730715.22"
           },
           {
            "affiliations": [
             {
              "city": "San Rafael",
              "city_id": 5392567,
              "country": "United States",
              "country_code": "US",
              "id": "grid.422932.c",
              "name": "BioMarin (United States)",
              "state": "California",
              "state_code": "US-CA"
             }
            ],
            "corresponding": "",
            "current_organization_id": "grid.422932.c",
            "first_name": "Stuart",
            "last_name": "Bunting",
            "orcid": "",
            "raw_affiliation": [
             "Translational Biology, BioMarin Pharmaceutical Inc., Novato, California, USA"
            ],
            "researcher_id": "ur.01032513063.24"
           },
           {
            "affiliations": [
             {
              "city": "San Rafael",
              "city_id": 5392567,
              "country": "United States",
              "country_code": "US",
              "id": "grid.422932.c",
              "name": "BioMarin (United States)",
              "state": "California",
              "state_code": "US-CA"
             }
            ],
            "corresponding": true,
            "current_organization_id": "grid.422932.c",
            "first_name": "Sylvia",
            "last_name": "Fong",
            "orcid": "",
            "raw_affiliation": [
             "Translational Biology, BioMarin Pharmaceutical Inc., Novato, California, USA"
            ],
            "researcher_id": "ur.014276662627.38"
           }
          ]
         ],
         "id": "pub.1122754192",
         "journal": {
          "id": "jour.1049606",
          "title": "Molecular Therapy - Methods & Clinical Development"
         },
         "pages": "13-20",
         "title": "Prednisolone Does Not Regulate Factor VIII Expression in Mice Receiving AAV5-hFVIII-SQ: Valoctocogene Roxaparvovec",
         "type": "article",
         "volume": "17",
         "year": 2020
        },
        {
         "author_affiliations": [
          [
           {
            "affiliations": [
             {
              "city": "Beijing",
              "city_id": 1816670,
              "country": "China",
              "country_code": "CN",
              "id": "grid.261049.8",
              "name": "North China Electric Power University",
              "state": null,
              "state_code": null
             }
            ],
            "corresponding": true,
            "current_organization_id": "grid.21925.3d",
            "first_name": "Bo",
            "last_name": "Zeng",
            "orcid": "",
            "raw_affiliation": [
             "State Key Laboratory of Alternate Electrical Power System with Renewable Energy Sources, North China Electric Power University, Beijing 102206, China"
            ],
            "researcher_id": "ur.01054434254.44"
           },
           {
            "affiliations": [
             {
              "city": "Beijing",
              "city_id": 1816670,
              "country": "China",
              "country_code": "CN",
              "id": "grid.261049.8",
              "name": "North China Electric Power University",
              "state": null,
              "state_code": null
             }
            ],
            "corresponding": "",
            "current_organization_id": "grid.261049.8",
            "first_name": "Xuan",
            "last_name": "Wei",
            "orcid": "",
            "raw_affiliation": [
             "State Key Laboratory of Alternate Electrical Power System with Renewable Energy Sources, North China Electric Power University, Beijing 102206, China"
            ],
            "researcher_id": "ur.012754420000.04"
           },
           {
            "affiliations": [
             {
              "city": "Beijing",
              "city_id": 1816670,
              "country": "China",
              "country_code": "CN",
              "id": "grid.261049.8",
              "name": "North China Electric Power University",
              "state": null,
              "state_code": null
             }
            ],
            "corresponding": "",
            "current_organization_id": "",
            "first_name": "Bo",
            "last_name": "Sun",
            "orcid": "",
            "raw_affiliation": [
             "State Key Laboratory of Alternate Electrical Power System with Renewable Energy Sources, North China Electric Power University, Beijing 102206, China"
            ],
            "researcher_id": ""
           },
           {
            "affiliations": [
             {
              "city": "Beijing",
              "city_id": 1816670,
              "country": "China",
              "country_code": "CN",
              "id": "grid.261049.8",
              "name": "North China Electric Power University",
              "state": null,
              "state_code": null
             }
            ],
            "corresponding": "",
            "current_organization_id": "grid.187073.a",
            "first_name": "Feng",
            "last_name": "Qiu",
            "orcid": "['0000-0003-2819-2764']",
            "raw_affiliation": [
             "State Key Laboratory of Alternate Electrical Power System with Renewable Energy Sources, North China Electric Power University, Beijing 102206, China"
            ],
            "researcher_id": "ur.010514211652.05"
           },
           {
            "affiliations": [
             {
              "city": "Beijing",
              "city_id": 1816670,
              "country": "China",
              "country_code": "CN",
              "id": "grid.261049.8",
              "name": "North China Electric Power University",
              "state": null,
              "state_code": null
             }
            ],
            "corresponding": "",
            "current_organization_id": "grid.261049.8",
            "first_name": "Jianhua",
            "last_name": "Zhang",
            "orcid": "['0000-0001-8828-3751']",
            "raw_affiliation": [
             "State Key Laboratory of Alternate Electrical Power System with Renewable Energy Sources, North China Electric Power University, Beijing 102206, China"
            ],
            "researcher_id": "ur.011673245736.98"
           },
           {
            "affiliations": [
             {
              "city": "Beijing",
              "city_id": 1816670,
              "country": "China",
              "country_code": "CN",
              "id": "grid.433158.8",
              "name": "State Grid Corporation of China (China)",
              "state": null,
              "state_code": null
             }
            ],
            "corresponding": "",
            "current_organization_id": "",
            "first_name": "Xuanrong",
            "last_name": "Quan",
            "orcid": "",
            "raw_affiliation": [
             "State Grid Beijing Electric Power Company, Beijing 100031, China"
            ],
            "researcher_id": ""
           }
          ]
         ],
         "id": "pub.1123163366",
         "journal": {
          "id": "jour.1137152",
          "title": "International Journal of Electrical Power & Energy Systems"
         },
         "pages": "105745",
         "title": "Assessing capacity credit of demand response in smart distribution grids with behavior-driven modeling framework",
         "type": "article",
         "volume": "118",
         "year": 2020
        },
        {
         "author_affiliations": [
          [
           {
            "affiliations": [
             {
              "city": "Delft",
              "city_id": 2757345,
              "country": "Netherlands",
              "country_code": "NL",
              "id": "grid.5292.c",
              "name": "Delft University of Technology",
              "state": null,
              "state_code": null
             }
            ],
            "corresponding": true,
            "current_organization_id": "",
            "first_name": "Niels",
            "last_name": "van Linden",
            "orcid": "",
            "raw_affiliation": [
             "Delft University of Technology, Faculty of Civil Engineering and Geosciences, Stevinweg 1, 2628 CN, Delft, the Netherlands"
            ],
            "researcher_id": ""
           },
           {
            "affiliations": [
             {
              "city": "Delft",
              "city_id": 2757345,
              "country": "Netherlands",
              "country_code": "NL",
              "id": "grid.5292.c",
              "name": "Delft University of Technology",
              "state": null,
              "state_code": null
             }
            ],
            "corresponding": "",
            "current_organization_id": "grid.5292.c",
            "first_name": "Ran",
            "last_name": "Shang",
            "orcid": "['0000-0002-7871-456X']",
            "raw_affiliation": [
             "Delft University of Technology, Faculty of Civil Engineering and Geosciences, Stevinweg 1, 2628 CN, Delft, the Netherlands"
            ],
            "researcher_id": "ur.01207033640.18"
           },
           {
            "affiliations": [
             {
              "city": "The Hague",
              "city_id": 2747373,
              "country": "Netherlands",
              "country_code": "NL",
              "id": "grid.422154.4",
              "name": "Shell (Netherlands)",
              "state": null,
              "state_code": null
             }
            ],
            "corresponding": "",
            "current_organization_id": "",
            "first_name": "Georg",
            "last_name": "Stockinger",
            "orcid": "",
            "raw_affiliation": [
             "Shell Global Solutions International B.V., Grasweg 31, 1031 HW, Amsterdam, the Netherlands"
            ],
            "researcher_id": ""
           },
           {
            "affiliations": [
             {
              "city": "Delft",
              "city_id": 2757345,
              "country": "Netherlands",
              "country_code": "NL",
              "id": "grid.5292.c",
              "name": "Delft University of Technology",
              "state": null,
              "state_code": null
             }
            ],
            "corresponding": "",
            "current_organization_id": "grid.5292.c",
            "first_name": "Bas",
            "last_name": "Heijman",
            "orcid": "['0000-0003-2582-3030']",
            "raw_affiliation": [
             "Delft University of Technology, Faculty of Civil Engineering and Geosciences, Stevinweg 1, 2628 CN, Delft, the Netherlands"
            ],
            "researcher_id": "ur.0620453215.71"
           },
           {
            "affiliations": [
             {
              "city": "Delft",
              "city_id": 2757345,
              "country": "Netherlands",
              "country_code": "NL",
              "id": "grid.5292.c",
              "name": "Delft University of Technology",
              "state": null,
              "state_code": null
             }
            ],
            "corresponding": "",
            "current_organization_id": "grid.5292.c",
            "first_name": "Henri",
            "last_name": "Spanjers",
            "orcid": "['0000-0002-9035-9417']",
            "raw_affiliation": [
             "Delft University of Technology, Faculty of Civil Engineering and Geosciences, Stevinweg 1, 2628 CN, Delft, the Netherlands"
            ],
            "researcher_id": "ur.01031561242.39"
           }
          ]
         ],
         "id": "pub.1122258367",
         "journal": {
          "id": "jour.1149151",
          "title": "Water Resources and Industry"
         },
         "pages": "100117",
         "title": "Separation of natural organic matter and sodium chloride for salt recovery purposes in zero liquid discharge",
         "type": "article",
         "volume": "23",
         "year": 2020
        },
        {
         "author_affiliations": [
          [
           {
            "affiliations": [
             {
              "name": "Institut National de la Recherche Scientifique-Énergie Matériaux et Télécommunications, Varennes, QC J3X 1S2, Canada"
             }
            ],
            "corresponding": "",
            "current_organization_id": "grid.38678.32",
            "first_name": "Xiaohua",
            "last_name": "Yang",
            "orcid": "",
            "raw_affiliation": [
             "Institut National de la Recherche Scientifique-Énergie Matériaux et Télécommunications, Varennes, QC J3X 1S2, Canada"
            ],
            "researcher_id": "ur.012262554513.74"
           },
           {
            "affiliations": [
             {
              "name": "Institut National de la Recherche Scientifique-Énergie Matériaux et Télécommunications, Varennes, QC J3X 1S2, Canada"
             },
             {
              "city": "Amoy",
              "city_id": 1790645,
              "country": "China",
              "country_code": "CN",
              "id": "grid.12955.3a",
              "name": "Xiamen University",
              "state": null,
              "state_code": null
             }
            ],
            "corresponding": "",
            "current_organization_id": "grid.12955.3a",
            "first_name": "Yucheng",
            "last_name": "Wang",
            "orcid": "['0000-0002-3356-3403']",
            "raw_affiliation": [
             "Institut National de la Recherche Scientifique-Énergie Matériaux et Télécommunications, Varennes, QC J3X 1S2, Canada",
             "State Key Laboratory of Physical Chemistry of Solid Surfaces, Collaborative innovation center of Chemistry for Energy Materials, College of Chemistry and Chemical Engineering, Xiamen University, Xiamen, 361005, China"
            ],
            "researcher_id": "ur.015210174005.64"
           },
           {
            "affiliations": [
             {
              "name": "Institut National de la Recherche Scientifique-Énergie Matériaux et Télécommunications, Varennes, QC J3X 1S2, Canada"
             }
            ],
            "corresponding": true,
            "current_organization_id": "grid.418084.1",
            "first_name": "Gaixia",
            "last_name": "Zhang",
            "orcid": "['0000-0002-5340-8961']",
            "raw_affiliation": [
             "Institut National de la Recherche Scientifique-Énergie Matériaux et Télécommunications, Varennes, QC J3X 1S2, Canada"
            ],
            "researcher_id": "ur.01224410400.03"
           },
           {
            "affiliations": [
             {
              "name": "Institut National de la Recherche Scientifique-Énergie Matériaux et Télécommunications, Varennes, QC J3X 1S2, Canada"
             }
            ],
            "corresponding": "",
            "current_organization_id": "grid.19373.3f",
            "first_name": "Lei",
            "last_name": "Du",
            "orcid": "['0000-0001-9584-4748']",
            "raw_affiliation": [
             "Institut National de la Recherche Scientifique-Énergie Matériaux et Télécommunications, Varennes, QC J3X 1S2, Canada"
            ],
            "researcher_id": "ur.0576277724.23"
           },
           {
            "affiliations": [
             {
              "city": "Burnaby",
              "city_id": 5911606,
              "country": "Canada",
              "country_code": "CA",
              "id": "grid.163507.6",
              "name": "Ballard Power Systems (Canada)",
              "state": "British Columbia",
              "state_code": "CA-BC"
             }
            ],
            "corresponding": "",
            "current_organization_id": "grid.163507.6",
            "first_name": "Lijun",
            "last_name": "Yang",
            "orcid": "",
            "raw_affiliation": [
             "Ballard Power Systems Inc., Burnaby, V5J 5J8, Canada"
            ],
            "researcher_id": "ur.014453076113.15"
           },
           {
            "affiliations": [
             {
              "city": "Burnaby",
              "city_id": 5911606,
              "country": "Canada",
              "country_code": "CA",
              "id": "grid.163507.6",
              "name": "Ballard Power Systems (Canada)",
              "state": "British Columbia",
              "state_code": "CA-BC"
             }
            ],
            "corresponding": "",
            "current_organization_id": "grid.163507.6",
            "first_name": "Matthew",
            "last_name": "Markiewicz",
            "orcid": "",
            "raw_affiliation": [
             "Ballard Power Systems Inc., Burnaby, V5J 5J8, Canada"
            ],
            "researcher_id": "ur.016114112131.31"
           },
           {
            "affiliations": [
             {
              "city": "Burnaby",
              "city_id": 5911606,
              "country": "Canada",
              "country_code": "CA",
              "id": "grid.163507.6",
              "name": "Ballard Power Systems (Canada)",
              "state": "British Columbia",
              "state_code": "CA-BC"
             }
            ],
            "corresponding": "",
            "current_organization_id": "grid.46078.3d",
            "first_name": "Ja-yeon",
            "last_name": "Choi",
            "orcid": "['0000-0002-6773-9630']",
            "raw_affiliation": [
             "Ballard Power Systems Inc., Burnaby, V5J 5J8, Canada"
            ],
            "researcher_id": "ur.01216503664.37"
           },
           {
            "affiliations": [
             {
              "name": "Institut National de la Recherche Scientifique-Énergie Matériaux et Télécommunications, Varennes, QC J3X 1S2, Canada"
             }
            ],
            "corresponding": "",
            "current_organization_id": "",
            "first_name": "Chenitz",
            "last_name": "Régis",
            "orcid": "",
            "raw_affiliation": [
             "Institut National de la Recherche Scientifique-Énergie Matériaux et Télécommunications, Varennes, QC J3X 1S2, Canada"
            ],
            "researcher_id": ""
           },
           {
            "affiliations": [
             {
              "name": "Institut National de la Recherche Scientifique-Énergie Matériaux et Télécommunications, Varennes, QC J3X 1S2, Canada"
             }
            ],
            "corresponding": true,
            "current_organization_id": "grid.418084.1",
            "first_name": "Shuhui",
            "last_name": "Sun",
            "orcid": "",
            "raw_affiliation": [
             "Institut National de la Recherche Scientifique-Énergie Matériaux et Télécommunications, Varennes, QC J3X 1S2, Canada"
            ],
            "researcher_id": "ur.0735206130.24"
           }
          ]
         ],
         "id": "pub.1123343143",
         "journal": {
          "id": "jour.1039901",
          "title": "Applied Catalysis B Environmental"
         },
         "pages": "118523",
         "title": "SiO2-Fe/N/C catalyst with enhanced mass transport in PEM Fuel Cells",
         "type": "article",
         "volume": "264",
         "year": 2020
        },
        {
         "author_affiliations": [
          [
           {
            "affiliations": [
             {
              "city": "Wuhan",
              "city_id": 1791247,
              "country": "China",
              "country_code": "CN",
              "id": "grid.33199.31",
              "name": "Huazhong University of Science and Technology",
              "state": null,
              "state_code": null
             },
             {
              "city": "Changsha",
              "city_id": 1815577,
              "country": "China",
              "country_code": "CN",
              "id": "grid.216417.7",
              "name": "Central South University",
              "state": null,
              "state_code": null
             }
            ],
            "corresponding": "",
            "current_organization_id": "",
            "first_name": "Bin",
            "last_name": "Ji",
            "orcid": "",
            "raw_affiliation": [
             "School of Hydropower and Information Engineering, Huazhong University of Science and Technology, Wuhan, 430074, China",
             "School of Traffic & Transportation Engineering, Central South University, Changsha, 410075, China"
            ],
            "researcher_id": ""
           },
           {
            "affiliations": [
             {
              "name": "Shanghai Marine Equipment Research Institute, Shanghai, 200031, China"
             }
            ],
            "corresponding": "",
            "current_organization_id": "",
            "first_name": "Hongjun",
            "last_name": "Sun",
            "orcid": "",
            "raw_affiliation": [
             "Shanghai Marine Equipment Research Institute, Shanghai, 200031, China"
            ],
            "researcher_id": ""
           },
           {
            "affiliations": [
             {
              "city": "Wuhan",
              "city_id": 1791247,
              "country": "China",
              "country_code": "CN",
              "id": "grid.33199.31",
              "name": "Huazhong University of Science and Technology",
              "state": null,
              "state_code": null
             },
             {
              "city": "Beijing",
              "city_id": 1816670,
              "country": "China",
              "country_code": "CN",
              "id": "grid.433158.8",
              "name": "State Grid Corporation of China (China)",
              "state": null,
              "state_code": null
             }
            ],
            "corresponding": "",
            "current_organization_id": "grid.33199.31",
            "first_name": "Xiaohui",
            "last_name": "Yuan",
            "orcid": "",
            "raw_affiliation": [
             "School of Hydropower and Information Engineering, Huazhong University of Science and Technology, Wuhan, 430074, China",
             "State Key Laboratory of Operation and Control of Renewable Energy & Storage Systems, China Electric Power Research Institute, Beijing, 100192, China"
            ],
            "researcher_id": "ur.016235026141.96"
           },
           {
            "affiliations": [
             {
              "city": "Wuhan",
              "city_id": 1791247,
              "country": "China",
              "country_code": "CN",
              "id": "grid.162110.5",
              "name": "Wuhan University of Technology",
              "state": null,
              "state_code": null
             }
            ],
            "corresponding": "",
            "current_organization_id": "grid.162110.5",
            "first_name": "Yanbin",
            "last_name": "Yuan",
            "orcid": "",
            "raw_affiliation": [
             "School of Resource and Environmental Engineering, Wuhan University of Technology, Wuhan, 430070, China"
            ],
            "researcher_id": "ur.012410053631.28"
           },
           {
            "affiliations": [
             {
              "city": "Beijing",
              "city_id": 1816670,
              "country": "China",
              "country_code": "CN",
              "id": "grid.433158.8",
              "name": "State Grid Corporation of China (China)",
              "state": null,
              "state_code": null
             }
            ],
            "corresponding": "",
            "current_organization_id": "",
            "first_name": "Xiaorong",
            "last_name": "Wang",
            "orcid": "",
            "raw_affiliation": [
             "State Key Laboratory of Operation and Control of Renewable Energy & Storage Systems, China Electric Power Research Institute, Beijing, 100192, China"
            ],
            "researcher_id": ""
           }
          ]
         ],
         "id": "pub.1121112008",
         "issue": "3",
         "journal": {
          "id": "jour.1042605",
          "title": "International Transactions in Operational Research"
         },
         "pages": "1501-1525",
         "title": "Coordinated optimized scheduling of locks and transshipment in inland waterway transportation using binary NSGA‐II",
         "type": "article",
         "volume": "27",
         "year": 2020
        },
        {
         "author_affiliations": [
          [
           {
            "affiliations": [
             {
              "name": "James L. Winkle College of Pharmacy, University of Cincinnati Academic Health Center, Cincinnati, OH, USA"
             }
            ],
            "corresponding": true,
            "current_organization_id": "grid.24827.3b",
            "first_name": "Xiaomeng",
            "last_name": "Yue",
            "orcid": "",
            "raw_affiliation": [
             "James L. Winkle College of Pharmacy, University of Cincinnati Academic Health Center, Cincinnati, OH, USA"
            ],
            "researcher_id": "ur.010556566163.18"
           },
           {
            "affiliations": [
             {
              "city": "Beijing",
              "city_id": 1816670,
              "country": "China",
              "country_code": "CN",
              "id": "grid.440241.7",
              "name": "PLA 306 Hospital",
              "state": null,
              "state_code": null
             }
            ],
            "corresponding": "",
            "current_organization_id": "grid.440241.7",
            "first_name": "Jiuhong",
            "last_name": "Wu",
            "orcid": "",
            "raw_affiliation": [
             "The 306th Hospital of PLA, Beijing, China"
            ],
            "researcher_id": "ur.0757105575.06"
           },
           {
            "affiliations": [
             {
              "name": "Novo Nordisk (China) Pharmaceuticals Co, Ltd, Beijing, China"
             }
            ],
            "corresponding": "",
            "current_organization_id": "",
            "first_name": "Zhen",
            "last_name": "Ruan",
            "orcid": "",
            "raw_affiliation": [
             "Novo Nordisk (China) Pharmaceuticals Co, Ltd, Beijing, China"
            ],
            "researcher_id": "ur.016044377056.55"
           },
           {
            "affiliations": [
             {
              "city": "Copenhagen",
              "city_id": 2618425,
              "country": "Denmark",
              "country_code": "DK",
              "id": "grid.425956.9",
              "name": "Novo Nordisk (Denmark)",
              "state": null,
              "state_code": null
             }
            ],
            "corresponding": "",
            "current_organization_id": "grid.425956.9",
            "first_name": "Michael L.",
            "last_name": "Wolden",
            "orcid": "",
            "raw_affiliation": [
             "Novo Nordisk A/S, Søborg, Denmark"
            ],
            "researcher_id": "ur.01112220537.57"
           },
           {
            "affiliations": [
             {
              "name": "Shanghai Palan DataRx Co, Ltd, Shanghai, China"
             }
            ],
            "corresponding": "",
            "current_organization_id": "",
            "first_name": "Lanting",
            "last_name": "Li",
            "orcid": "",
            "raw_affiliation": [
             "Shanghai Palan DataRx Co, Ltd, Shanghai, China"
            ],
            "researcher_id": ""
           },
           {
            "affiliations": [
             {
              "name": "Shanghai Palan DataRx Co, Ltd, Shanghai, China"
             }
            ],
            "corresponding": "",
            "current_organization_id": "",
            "first_name": "Yong",
            "last_name": "Lin",
            "orcid": "",
            "raw_affiliation": [
             "Shanghai Palan DataRx Co, Ltd, Shanghai, China"
            ],
            "researcher_id": ""
           }
          ]
         ],
         "id": "pub.1121924806",
         "journal": {
          "id": "jour.1047455",
          "title": "Value in Health Regional Issues"
         },
         "pages": "17-21",
         "title": "The Burden of Hypoglycemia in Patients With Insulin-Treated Diabetes Mellitus in China: Analysis of Electronic Medical Records From 4 Tertiary Hospitals",
         "type": "article",
         "volume": "21",
         "year": 2020
        },
        {
         "author_affiliations": [
          [
           {
            "affiliations": [
             {
              "city": "Wuhan",
              "city_id": 1791247,
              "country": "China",
              "country_code": "CN",
              "id": "grid.49470.3e",
              "name": "Wuhan University",
              "state": null,
              "state_code": null
             }
            ],
            "corresponding": "",
            "current_organization_id": "",
            "first_name": "Yahong",
            "last_name": "Chen",
            "orcid": "",
            "raw_affiliation": [
             "School of Electrical Engineering and Automation, Wuhan University, Wuhan 430072, Hubei Province, China"
            ],
            "researcher_id": ""
           },
           {
            "affiliations": [
             {
              "city": "Wuhan",
              "city_id": 1791247,
              "country": "China",
              "country_code": "CN",
              "id": "grid.49470.3e",
              "name": "Wuhan University",
              "state": null,
              "state_code": null
             }
            ],
            "corresponding": true,
            "current_organization_id": "grid.49470.3e",
            "first_name": "Changhong",
            "last_name": "Deng",
            "orcid": "",
            "raw_affiliation": [
             "School of Electrical Engineering and Automation, Wuhan University, Wuhan 430072, Hubei Province, China"
            ],
            "researcher_id": "ur.015502576055.87"
           },
           {
            "affiliations": [
             {
              "city": "Guangzhou",
              "city_id": 1809858,
              "country": "China",
              "country_code": "CN",
              "id": "grid.454193.e",
              "name": "China Southern Power Grid (China)",
              "state": null,
              "state_code": null
             }
            ],
            "corresponding": "",
            "current_organization_id": "grid.454193.e",
            "first_name": "Dinglin",
            "last_name": "Li",
            "orcid": "",
            "raw_affiliation": [
             "China Southern Power Grid Power Generation Company, Guangzhou 510630, Guangdong Province, China"
            ],
            "researcher_id": "ur.014643415444.07"
           },
           {
            "affiliations": [
             {
              "city": "Guangzhou",
              "city_id": 1809858,
              "country": "China",
              "country_code": "CN",
              "id": "grid.454193.e",
              "name": "China Southern Power Grid (China)",
              "state": null,
              "state_code": null
             }
            ],
            "corresponding": "",
            "current_organization_id": "grid.454193.e",
            "first_name": "Man",
            "last_name": "Chen",
            "orcid": "",
            "raw_affiliation": [
             "China Southern Power Grid Power Generation Company, Guangzhou 510630, Guangdong Province, China"
            ],
            "researcher_id": "ur.015440776044.35"
           }
          ]
         ],
         "id": "pub.1122809400",
         "journal": {
          "id": "jour.1137152",
          "title": "International Journal of Electrical Power & Energy Systems"
         },
         "pages": "105710",
         "title": "Quantifying cumulative effects of stochastic forecast errors of renewable energy generation on energy storage SOC and application of Hybrid-MPC approach to microgrid",
         "type": "article",
         "volume": "117",
         "year": 2020
        },
        {
         "author_affiliations": [
          [
           {
            "affiliations": [
             {
              "city": "Tokyo",
              "city_id": 1850147,
              "country": "Japan",
              "country_code": "JP",
              "id": "grid.32197.3e",
              "name": "Tokyo Institute of Technology",
              "state": null,
              "state_code": null
             }
            ],
            "corresponding": "",
            "current_organization_id": "",
            "first_name": "Kana",
            "last_name": "Ishisone",
            "orcid": "",
            "raw_affiliation": [
             "Department of Materials Science and Engineering, Graduate School of Materials and Chemical Technology, Tokyo Institute of Technology, 2-12-1 O-okayama, Meguro, Tokyo, 152-8552, Japan"
            ],
            "researcher_id": ""
           },
           {
            "affiliations": [
             {
              "city": "Tokyo",
              "city_id": 1850147,
              "country": "Japan",
              "country_code": "JP",
              "id": "grid.32197.3e",
              "name": "Tokyo Institute of Technology",
              "state": null,
              "state_code": null
             }
            ],
            "corresponding": "",
            "current_organization_id": "grid.32197.3e",
            "first_name": "Noppakhate",
            "last_name": "Jiraborvornpongsa",
            "orcid": "",
            "raw_affiliation": [
             "Department of Materials Science and Engineering, Graduate School of Materials and Chemical Technology, Tokyo Institute of Technology, 2-12-1 O-okayama, Meguro, Tokyo, 152-8552, Japan"
            ],
            "researcher_id": "ur.011026054217.90"
           },
           {
            "affiliations": [
             {
              "city": "Tokyo",
              "city_id": 1850147,
              "country": "Japan",
              "country_code": "JP",
              "id": "grid.32197.3e",
              "name": "Tokyo Institute of Technology",
              "state": null,
              "state_code": null
             }
            ],
            "corresponding": "",
            "current_organization_id": "grid.32197.3e",
            "first_name": "Toshihiro",
            "last_name": "Isobe",
            "orcid": "['0000-0002-2726-6728']",
            "raw_affiliation": [
             "Department of Materials Science and Engineering, Graduate School of Materials and Chemical Technology, Tokyo Institute of Technology, 2-12-1 O-okayama, Meguro, Tokyo, 152-8552, Japan"
            ],
            "researcher_id": "ur.01066130217.60"
           },
           {
            "affiliations": [
             {
              "city": "Tokyo",
              "city_id": 1850147,
              "country": "Japan",
              "country_code": "JP",
              "id": "grid.32197.3e",
              "name": "Tokyo Institute of Technology",
              "state": null,
              "state_code": null
             }
            ],
            "corresponding": "",
            "current_organization_id": "grid.32197.3e",
            "first_name": "Sachiko",
            "last_name": "Matsushita",
            "orcid": "['0000-0001-8699-295X']",
            "raw_affiliation": [
             "Department of Materials Science and Engineering, Graduate School of Materials and Chemical Technology, Tokyo Institute of Technology, 2-12-1 O-okayama, Meguro, Tokyo, 152-8552, Japan"
            ],
            "researcher_id": "ur.010601157462.04"
           },
           {
            "affiliations": [
             {
              "city": "Tokyo",
              "city_id": 1850147,
              "country": "Japan",
              "country_code": "JP",
              "id": "grid.418251.b",
              "name": "Fujitsu (Japan)",
              "state": null,
              "state_code": null
             }
            ],
            "corresponding": "",
            "current_organization_id": "",
            "first_name": "Masato",
            "last_name": "Wakumura",
            "orcid": "",
            "raw_affiliation": [
             "Market Exploration Group, Fujitsu Laboratories Ltd, 10-1 Morinosato-Wakamiya, Atsugi, Kanagawa, 243-0197, Japan"
            ],
            "researcher_id": ""
           },
           {
            "affiliations": [
             {
              "city": "Tsukuba",
              "city_id": 2110683,
              "country": "Japan",
              "country_code": "JP",
              "id": "grid.21941.3f",
              "name": "National Institute for Materials Science",
              "state": null,
              "state_code": null
             }
            ],
            "corresponding": true,
            "current_organization_id": "grid.21941.3f",
            "first_name": "Mitsutake",
            "last_name": "Oshikiri",
            "orcid": "",
            "raw_affiliation": [
             "International Center for Materials Nanoarchitectonics (WPI-MANA), National Institute for Materials Science (NIMS), 3-13 Sakura, Ibaraki, 305-0003, Japan"
            ],
            "researcher_id": "ur.07617622163.98"
           },
           {
            "affiliations": [
             {
              "city": "Tokyo",
              "city_id": 1850147,
              "country": "Japan",
              "country_code": "JP",
              "id": "grid.32197.3e",
              "name": "Tokyo Institute of Technology",
              "state": null,
              "state_code": null
             }
            ],
            "corresponding": true,
            "current_organization_id": "grid.32197.3e",
            "first_name": "Akira",
            "last_name": "Nakajima",
            "orcid": "",
            "raw_affiliation": [
             "Department of Materials Science and Engineering, Graduate School of Materials and Chemical Technology, Tokyo Institute of Technology, 2-12-1 O-okayama, Meguro, Tokyo, 152-8552, Japan"
            ],
            "researcher_id": "ur.01221521447.06"
           }
          ]
         ],
         "id": "pub.1123229384",
         "journal": {
          "id": "jour.1039901",
          "title": "Applied Catalysis B Environmental"
         },
         "pages": "118516",
         "title": "Experimental and theoretical investigation of WO x modification effects on the photocatalytic activity of titanium-substituted hydroxyapatite",
         "type": "article",
         "volume": "264",
         "year": 2020
        },
        {
         "author_affiliations": [
          [
           {
            "affiliations": [
             {
              "city": "Madrid",
              "city_id": 3117735,
              "country": "Spain",
              "country_code": "ES",
              "id": "grid.424216.7",
              "name": "Endesa (Spain)",
              "state": null,
              "state_code": null
             }
            ],
            "corresponding": "",
            "current_organization_id": "",
            "first_name": "J.",
            "last_name": "Rodrguez-Rivero",
            "orcid": "",
            "raw_affiliation": [
             "Endesa, Madrid, Spain"
            ],
            "researcher_id": ""
           },
           {
            "affiliations": [
             {
              "city": "Granada",
              "city_id": 2517117,
              "country": "Spain",
              "country_code": "ES",
              "id": "grid.4489.1",
              "name": "University of Granada",
              "state": null,
              "state_code": null
             }
            ],
            "corresponding": "",
            "current_organization_id": "grid.4489.1",
            "first_name": "J.",
            "last_name": "Ramirez",
            "orcid": "['0000-0002-6229-2921']",
            "raw_affiliation": [
             "Dpt. Signal Theory, Networking and Communications, University of Granada, Spain"
            ],
            "researcher_id": "ur.0725760070.68"
           },
           {
            "affiliations": [
             {
              "city": "Granada",
              "city_id": 2517117,
              "country": "Spain",
              "country_code": "ES",
              "id": "grid.4489.1",
              "name": "University of Granada",
              "state": null,
              "state_code": null
             }
            ],
            "corresponding": "",
            "current_organization_id": "grid.4489.1",
            "first_name": "F.J.",
            "last_name": "Martínez-Murcia",
            "orcid": "['0000-0001-8146-7056']",
            "raw_affiliation": [
             "Dpt. Signal Theory, Networking and Communications, University of Granada, Spain"
            ],
            "researcher_id": "ur.01345474026.52"
           },
           {
            "affiliations": [
             {
              "city": "Granada",
              "city_id": 2517117,
              "country": "Spain",
              "country_code": "ES",
              "id": "grid.4489.1",
              "name": "University of Granada",
              "state": null,
              "state_code": null
             }
            ],
            "corresponding": "",
            "current_organization_id": "grid.4489.1",
            "first_name": "F.",
            "last_name": "Segovia",
            "orcid": "['0000-0003-1940-8834']",
            "raw_affiliation": [
             "Dpt. Signal Theory, Networking and Communications, University of Granada, Spain"
            ],
            "researcher_id": "ur.01110321670.33"
           },
           {
            "affiliations": [
             {
              "city": "Granada",
              "city_id": 2517117,
              "country": "Spain",
              "country_code": "ES",
              "id": "grid.4489.1",
              "name": "University of Granada",
              "state": null,
              "state_code": null
             }
            ],
            "corresponding": "",
            "current_organization_id": "grid.10215.37",
            "first_name": "A.",
            "last_name": "Ortiz",
            "orcid": "",
            "raw_affiliation": [
             "Dpt. Signal Theory, Networking and Communications, University of Granada, Spain"
            ],
            "researcher_id": "ur.01354232033.92"
           },
           {
            "affiliations": [
             {
              "city": "Granada",
              "city_id": 2517117,
              "country": "Spain",
              "country_code": "ES",
              "id": "grid.4489.1",
              "name": "University of Granada",
              "state": null,
              "state_code": null
             }
            ],
            "corresponding": "",
            "current_organization_id": "grid.4489.1",
            "first_name": "D.",
            "last_name": "Salas",
            "orcid": "['0000-0001-5618-7140']",
            "raw_affiliation": [
             "Dpt. Signal Theory, Networking and Communications, University of Granada, Spain"
            ],
            "researcher_id": "ur.011215162355.31"
           },
           {
            "affiliations": [
             {
              "city": "Granada",
              "city_id": 2517117,
              "country": "Spain",
              "country_code": "ES",
              "id": "grid.4489.1",
              "name": "University of Granada",
              "state": null,
              "state_code": null
             }
            ],
            "corresponding": "",
            "current_organization_id": "",
            "first_name": "D.",
            "last_name": "Castillo",
            "orcid": "",
            "raw_affiliation": [
             "Dpt. Signal Theory, Networking and Communications, University of Granada, Spain"
            ],
            "researcher_id": ""
           },
           {
            "affiliations": [
             {
              "city": "Granada",
              "city_id": 2517117,
              "country": "Spain",
              "country_code": "ES",
              "id": "grid.4489.1",
              "name": "University of Granada",
              "state": null,
              "state_code": null
             }
            ],
            "corresponding": "",
            "current_organization_id": "grid.4489.1",
            "first_name": "I.A.",
            "last_name": "Illan",
            "orcid": "['0000-0002-5094-8911']",
            "raw_affiliation": [
             "Dpt. Signal Theory, Networking and Communications, University of Granada, Spain"
            ],
            "researcher_id": "ur.01034571443.15"
           },
           {
            "affiliations": [
             {
              "city": "Granada",
              "city_id": 2517117,
              "country": "Spain",
              "country_code": "ES",
              "id": "grid.4489.1",
              "name": "University of Granada",
              "state": null,
              "state_code": null
             }
            ],
            "corresponding": "",
            "current_organization_id": "",
            "first_name": "C.G.",
            "last_name": "Puntonet",
            "orcid": "",
            "raw_affiliation": [
             "Dpt. Computer Technology and Architecture, University of Granada, Spain"
            ],
            "researcher_id": ""
           },
           {
            "affiliations": [
             {
              "city": "Granada",
              "city_id": 2517117,
              "country": "Spain",
              "country_code": "ES",
              "id": "grid.4489.1",
              "name": "University of Granada",
              "state": null,
              "state_code": null
             }
            ],
            "corresponding": "",
            "current_organization_id": "",
            "first_name": "C.",
            "last_name": "Jimenez-Mesa",
            "orcid": "",
            "raw_affiliation": [
             "Dpt. Signal Theory, Networking and Communications, University of Granada, Spain"
            ],
            "researcher_id": ""
           },
           {
            "affiliations": [
             {
              "city": "Madrid",
              "city_id": 3117735,
              "country": "Spain",
              "country_code": "ES",
              "id": "grid.424216.7",
              "name": "Endesa (Spain)",
              "state": null,
              "state_code": null
             }
            ],
            "corresponding": "",
            "current_organization_id": "",
            "first_name": "F.J.",
            "last_name": "Leiva",
            "orcid": "",
            "raw_affiliation": [
             "Endesa, Madrid, Spain"
            ],
            "researcher_id": ""
           },
           {
            "affiliations": [
             {
              "city": "Madrid",
              "city_id": 3117735,
              "country": "Spain",
              "country_code": "ES",
              "id": "grid.424216.7",
              "name": "Endesa (Spain)",
              "state": null,
              "state_code": null
             }
            ],
            "corresponding": "",
            "current_organization_id": "",
            "first_name": "S.",
            "last_name": "Carillo",
            "orcid": "",
            "raw_affiliation": [
             "Endesa, Madrid, Spain"
            ],
            "researcher_id": ""
           },
           {
            "affiliations": [
             {
              "city": "Cambridge",
              "city_id": 2653941,
              "country": "United Kingdom",
              "country_code": "GB",
              "id": "grid.5335.0",
              "name": "University of Cambridge",
              "state": null,
              "state_code": null
             }
            ],
            "corresponding": "",
            "current_organization_id": "grid.5335.0",
            "first_name": "J.",
            "last_name": "Suckling",
            "orcid": "['0000-0002-5098-1527']",
            "raw_affiliation": [
             "Department of Psychiatry, University of Cambridge, UK"
            ],
            "researcher_id": "ur.01354663052.50"
           },
           {
            "affiliations": [
             {
              "city": "Granada",
              "city_id": 2517117,
              "country": "Spain",
              "country_code": "ES",
              "id": "grid.4489.1",
              "name": "University of Granada",
              "state": null,
              "state_code": null
             },
             {
              "city": "Málaga",
              "city_id": 2514256,
              "country": "Spain",
              "country_code": "ES",
              "id": "grid.10215.37",
              "name": "University of Malaga",
              "state": null,
              "state_code": null
             },
             {
              "city": "Cambridge",
              "city_id": 2653941,
              "country": "United Kingdom",
              "country_code": "GB",
              "id": "grid.5335.0",
              "name": "University of Cambridge",
              "state": null,
              "state_code": null
             }
            ],
            "corresponding": true,
            "current_organization_id": "grid.4489.1",
            "first_name": "J.M.",
            "last_name": "Gorriz",
            "orcid": "['0000-0001-7069-1714']",
            "raw_affiliation": [
             "Dpt. Signal Theory, Networking and Communications, University of Granada, Spain",
             "Department of Communications Engineering, University of Málaga, Spain",
             "Department of Psychiatry, University of Cambridge, UK"
            ],
            "researcher_id": "ur.0657644670.01"
           }
          ]
         ],
         "id": "pub.1123261069",
         "journal": {
          "id": "jour.1041964",
          "title": "Information Fusion"
         },
         "pages": "59-70",
         "title": "Granger Causality-based Information Fusion Applied to Electrical Measurements from Power Transformers",
         "type": "article",
         "volume": "57",
         "year": 2020
        },
        {
         "author_affiliations": [
          [
           {
            "affiliations": [
             {
              "city": "Tehran",
              "city_id": 112931,
              "country": "Iran",
              "country_code": "IR",
              "id": "grid.411368.9",
              "name": "Amirkabir University of Technology",
              "state": null,
              "state_code": null
             }
            ],
            "corresponding": "",
            "current_organization_id": "grid.412673.5",
            "first_name": "Mohamad-Amin",
            "last_name": "Nasr",
            "orcid": "['0000-0002-8325-2304']",
            "raw_affiliation": [
             "Center of Excellence in Power Systems, Department of Electrical Engineering, Amirkabir University of Technology, Tehran, Iran"
            ],
            "researcher_id": "ur.011247021560.47"
           },
           {
            "affiliations": [
             {
              "city": "Zanjān",
              "city_id": 111453,
              "country": "Iran",
              "country_code": "IR",
              "id": "grid.412673.5",
              "name": "University of Zanjan",
              "state": null,
              "state_code": null
             }
            ],
            "corresponding": true,
            "current_organization_id": "grid.412673.5",
            "first_name": "Saman",
            "last_name": "Nikkhah",
            "orcid": "",
            "raw_affiliation": [
             "Department of Electrical Engineering, University of Zanjan, Zanjan, Iran"
            ],
            "researcher_id": "ur.012114545541.19"
           },
           {
            "affiliations": [
             {
              "city": "Tehran",
              "city_id": 112931,
              "country": "Iran",
              "country_code": "IR",
              "id": "grid.411368.9",
              "name": "Amirkabir University of Technology",
              "state": null,
              "state_code": null
             }
            ],
            "corresponding": "",
            "current_organization_id": "grid.411368.9",
            "first_name": "Gevork B.",
            "last_name": "Gharehpetian",
            "orcid": "['0000-0003-1521-790X']",
            "raw_affiliation": [
             "Center of Excellence in Power Systems, Department of Electrical Engineering, Amirkabir University of Technology, Tehran, Iran"
            ],
            "researcher_id": "ur.014364044677.26"
           },
           {
            "affiliations": [
             {
              "city": "Redmond",
              "city_id": 5808079,
              "country": "United States",
              "country_code": "US",
              "id": "grid.419815.0",
              "name": "Microsoft (United States)",
              "state": "Washington",
              "state_code": "US-WA"
             }
            ],
            "corresponding": "",
            "current_organization_id": "grid.419815.0",
            "first_name": "Ehsan",
            "last_name": "Nasr-Azadani",
            "orcid": "['0000-0003-1281-7299']",
            "raw_affiliation": [
             "Microsoft Corporation, Redmond, WA, USA"
            ],
            "researcher_id": "ur.013055070622.83"
           },
           {
            "affiliations": [
             {
              "city": "Tehran",
              "city_id": 112931,
              "country": "Iran",
              "country_code": "IR",
              "id": "grid.411368.9",
              "name": "Amirkabir University of Technology",
              "state": null,
              "state_code": null
             }
            ],
            "corresponding": "",
            "current_organization_id": "grid.411368.9",
            "first_name": "Seyed Hossein",
            "last_name": "Hosseinian",
            "orcid": "",
            "raw_affiliation": [
             "Center of Excellence in Power Systems, Department of Electrical Engineering, Amirkabir University of Technology, Tehran, Iran"
            ],
            "researcher_id": "ur.010656602771.99"
           }
          ]
         ],
         "id": "pub.1122413780",
         "journal": {
          "id": "jour.1137152",
          "title": "International Journal of Electrical Power & Energy Systems"
         },
         "pages": "105646",
         "title": "A multi-objective voltage stability constrained energy management system for isolated microgrids",
         "type": "article",
         "volume": "117",
         "year": 2020
        },
        {
         "author_affiliations": [
          [
           {
            "affiliations": [
             {
              "name": "Civil Engineering Division, College of Environment, Karaj, P.O. Box 31746-74761, Alborz, Iran"
             }
            ],
            "corresponding": "",
            "current_organization_id": "",
            "first_name": "Zahra",
            "last_name": "Rouzitalab",
            "orcid": "",
            "raw_affiliation": [
             "Civil Engineering Division, College of Environment, Karaj, P.O. Box 31746-74761, Alborz, Iran"
            ],
            "researcher_id": ""
           },
           {
            "affiliations": [
             {
              "city": "Tehran",
              "city_id": 112931,
              "country": "Iran",
              "country_code": "IR",
              "id": "grid.419140.9",
              "name": "National Iranian Oil Company (Iran)",
              "state": null,
              "state_code": null
             }
            ],
            "corresponding": "",
            "current_organization_id": "grid.419140.9",
            "first_name": "Davood Mohammady",
            "last_name": "Maklavany",
            "orcid": "['0000-0002-8060-4693']",
            "raw_affiliation": [
             "Carbon Nanotechnology Research Center, Research Institute of Petroleum Industry (RIPI), Tehran, P.O. Box 14857-33111, Tehran, Iran"
            ],
            "researcher_id": "ur.011540544726.06"
           },
           {
            "affiliations": [
             {
              "city": "Tuskegee",
              "city_id": 4094490,
              "country": "United States",
              "country_code": "US",
              "id": "grid.265253.5",
              "name": "Tuskegee University",
              "state": "Alabama",
              "state_code": "US-AL"
             }
            ],
            "corresponding": "",
            "current_organization_id": "grid.265253.5",
            "first_name": "Shahryar",
            "last_name": "Jafarinejad",
            "orcid": "",
            "raw_affiliation": [
             "Department of Chemical Engineering, College of Engineering, Tuskegee University, Tuskegee, P.O. Box 5899, Alabama 36088, USA"
            ],
            "researcher_id": "ur.016334631777.36"
           },
           {
            "affiliations": [
             {
              "city": "Tehran",
              "city_id": 112931,
              "country": "Iran",
              "country_code": "IR",
              "id": "grid.419140.9",
              "name": "National Iranian Oil Company (Iran)",
              "state": null,
              "state_code": null
             }
            ],
            "corresponding": true,
            "current_organization_id": "grid.419140.9",
            "first_name": "Alimorad",
            "last_name": "Rashidi",
            "orcid": "['0000-0001-6753-1939']",
            "raw_affiliation": [
             "Carbon Nanotechnology Research Center, Research Institute of Petroleum Industry (RIPI), Tehran, P.O. Box 14857-33111, Tehran, Iran"
            ],
            "researcher_id": "ur.01011146106.13"
           }
          ]
         ],
         "id": "pub.1123669095",
         "journal": {
          "id": "jour.1015185",
          "title": "Chemosphere"
         },
         "pages": "125756",
         "title": "Lignocellulose-based Adsorbents: A Spotlight Review of the Effective Parameters on Carbon Dioxide Capture Process",
         "type": "article",
         "volume": "246",
         "year": 2020
        },
        {
         "author_affiliations": [
          [
           {
            "affiliations": [
             {
              "city": "Beijing",
              "city_id": 1816670,
              "country": "China",
              "country_code": "CN",
              "id": "grid.69775.3a",
              "name": "University of Science and Technology Beijing",
              "state": null,
              "state_code": null
             }
            ],
            "corresponding": "",
            "current_organization_id": "",
            "first_name": "Yuhao",
            "last_name": "Wang",
            "orcid": "",
            "raw_affiliation": [
             "School of Automation & Electrical Engineering, University of Science and Technology, Beijing, China; Key Laboratory of Knowledge Automation for Industrial Processes, Ministry of Education, Beijing, China, View further author information"
            ],
            "researcher_id": ""
           },
           {
            "affiliations": [
             {
              "city": "Beijing",
              "city_id": 1816670,
              "country": "China",
              "country_code": "CN",
              "id": "grid.69775.3a",
              "name": "University of Science and Technology Beijing",
              "state": null,
              "state_code": null
             }
            ],
            "corresponding": "",
            "current_organization_id": "grid.69775.3a",
            "first_name": "Binxiu",
            "last_name": "Liang",
            "orcid": "",
            "raw_affiliation": [
             "School of Automation & Electrical Engineering, University of Science and Technology, Beijing, China; Key Laboratory of Knowledge Automation for Industrial Processes, Ministry of Education, Beijing, China, View further author information"
            ],
            "researcher_id": "ur.015214160663.39"
           },
           {
            "affiliations": [
             {
              "city": "Waltham",
              "city_id": 4954380,
              "country": "United States",
              "country_code": "US",
              "id": "grid.418190.5",
              "name": "Thermo Fisher Scientific (United States)",
              "state": "Massachusetts",
              "state_code": "US-MA"
             }
            ],
            "corresponding": "",
            "current_organization_id": "grid.418190.5",
            "first_name": "Meng",
            "last_name": "Ding",
            "orcid": "['0000-0003-3125-3847']",
            "raw_affiliation": [
             "Thermo Fisher Scientific, Richardson, TX, USA, https://orcid.org/0000-0003-3125-3847, View further author information"
            ],
            "researcher_id": "ur.015047414447.75"
           },
           {
            "affiliations": [
             {
              "city": "Beijing",
              "city_id": 1816670,
              "country": "China",
              "country_code": "CN",
              "id": "grid.69775.3a",
              "name": "University of Science and Technology Beijing",
              "state": null,
              "state_code": null
             }
            ],
            "corresponding": "",
            "current_organization_id": "grid.69775.3a",
            "first_name": "Jiangyun",
            "last_name": "Li",
            "orcid": "['0000-0003-2288-7901']",
            "raw_affiliation": [
             "School of Automation & Electrical Engineering, University of Science and Technology, Beijing, China; Key Laboratory of Knowledge Automation for Industrial Processes, Ministry of Education, Beijing, China, Correspondenceleejy@ustb.edu.cn, https://orcid.org/0000-0003-2288-7901, View further author information"
            ],
            "researcher_id": "ur.010114172547.30"
           }
          ]
         ],
         "id": "pub.1122870690",
         "issue": "7",
         "journal": {
          "id": "jour.1122771",
          "title": "International Journal of Remote Sensing"
         },
         "pages": "1-22",
         "title": "Dual-branch dense residual network for hyperspectral imagery classification",
         "type": "article",
         "volume": "41",
         "year": 2020
        }
       ]
      },
      "text/plain": [
       "<dimcli.Dataset object #4578230672. Records: 20/736654>"
      ]
     },
     "execution_count": 53,
     "metadata": {
      "application/json": {
       "expanded": false,
       "root": "root"
      }
     },
     "output_type": "execute_result"
    }
   ],
   "source": [
    "%dsl search publications where research_orgs.types=\"Company\" "
   ]
  },
  {
   "cell_type": "code",
   "execution_count": 52,
   "metadata": {
    "Collapsed": "false"
   },
   "outputs": [
    {
     "name": "stdout",
     "output_type": "stream",
     "text": [
      "Returned Publications: 20 (total = 1349)\n",
      "WARNINGS [1]\n",
      "Please review your query, as it contains an entity filter (journal.title) that can lead to incomplete results. More details on https://docs.dimensions.ai/dsl/language.html#literal-fields-vs-entity-fields\n"
     ]
    },
    {
     "data": {
      "application/json": {
       "_stats": {
        "total_count": 1349
       },
       "_warnings": [
        "Please review your query, as it contains an entity filter (journal.title) that can lead to incomplete results. More details on https://docs.dimensions.ai/dsl/language.html#literal-fields-vs-entity-fields"
       ],
       "publications": [
        {
         "author_affiliations": [
          [
           {
            "affiliations": [
             {
              "city": "Istanbul",
              "city_id": 745044,
              "country": "Turkey",
              "country_code": "TR",
              "id": "grid.9601.e",
              "name": "Istanbul University",
              "state": null,
              "state_code": null
             }
            ],
            "corresponding": "",
            "current_organization_id": "grid.9601.e",
            "first_name": "Cem",
            "last_name": "Veziroglu",
            "orcid": "['0000-0001-5776-5846']",
            "raw_affiliation": [
             "Research assistant, Koç, University Law School, Istanbul, Turkey, ; PhD candidate, University of Istanbul, Istanbul, Turkey."
            ],
            "researcher_id": "ur.015707777031.57"
           }
          ]
         ],
         "id": "pub.1123274401",
         "issue": "6",
         "journal": {
          "id": "jour.1143038",
          "title": "European Company and Financial Law Review"
         },
         "pages": "771-806",
         "title": "Arbitration of Corporate Law Disputes in Joint Stock Companies under Turkish Law: A Comparative Analysis",
         "type": "article",
         "volume": "16",
         "year": 2019
        },
        {
         "author_affiliations": [
          [
           {
            "affiliations": [
             {
              "name": "Full Professor of, Private Comparative Law, at, University of Calabria, (, Cosenza, Italy), Italy, and Adjunct Professor of Law and Economics (, Business and Company Law, ) at, LUISS G.Carli, Rome (Italy), Italy, ; PhD. University of Florence (Italy); M.Litt. (Oxford University, U.K.); 2019 Visiting Scholar at Stanford Law School (U.S.A.); 2010 Fulbright Visiting Scholar at Harvard Law School (U.S.A.)."
             }
            ],
            "corresponding": "",
            "current_organization_id": "",
            "first_name": "Sabrina",
            "last_name": "Bruno",
            "orcid": "",
            "raw_affiliation": [
             "Full Professor of, Private Comparative Law, at, University of Calabria, (, Cosenza, Italy), Italy, and Adjunct Professor of Law and Economics (, Business and Company Law, ) at, LUISS G.Carli, Rome (Italy), Italy, ; PhD. University of Florence (Italy); M.Litt. (Oxford University, U.K.); 2019 Visiting Scholar at Stanford Law School (U.S.A.); 2010 Fulbright Visiting Scholar at Harvard Law School (U.S.A.)."
            ],
            "researcher_id": ""
           }
          ]
         ],
         "id": "pub.1123274403",
         "issue": "6",
         "journal": {
          "id": "jour.1143038",
          "title": "European Company and Financial Law Review"
         },
         "pages": "687-723",
         "title": "Climate Corporate Governance: Europe vs. USA?",
         "type": "article",
         "volume": "16",
         "year": 2019
        },
        {
         "author_affiliations": [
          [
           {
            "affiliations": [
             {
              "city": "Berlin",
              "city_id": 2950159,
              "country": "Germany",
              "country_code": "DE",
              "id": "grid.7468.d",
              "name": "Humboldt University of Berlin",
              "state": null,
              "state_code": null
             }
            ],
            "corresponding": "",
            "current_organization_id": "",
            "first_name": "Ronny",
            "last_name": "Hauck",
            "orcid": "",
            "raw_affiliation": [
             "Humboldt-Universität, zu, Berlin, /National Research University Higher School of Economics., Germany"
            ],
            "researcher_id": ""
           }
          ]
         ],
         "id": "pub.1123274400",
         "issue": "6",
         "journal": {
          "id": "jour.1143038",
          "title": "European Company and Financial Law Review"
         },
         "pages": "724-745",
         "title": "Personal Data in Insolvency Proceedings: The Interface between the New General Data Protection Regulation and (German) Insolvency Law",
         "type": "article",
         "volume": "16",
         "year": 2019
        },
        {
         "author_affiliations": [
          [
           {
            "affiliations": [
             {
              "name": "Lecturer, University of, Reading, School of Law, ., United Kingdom of Great Britan and Northern Ireland"
             }
            ],
            "corresponding": "",
            "current_organization_id": "",
            "first_name": "Andrea",
            "last_name": "Miglionico",
            "orcid": "",
            "raw_affiliation": [
             "Lecturer, University of, Reading, School of Law, ., United Kingdom of Great Britan and Northern Ireland"
            ],
            "researcher_id": ""
           }
          ]
         ],
         "id": "pub.1123274402",
         "issue": "6",
         "journal": {
          "id": "jour.1143038",
          "title": "European Company and Financial Law Review"
         },
         "pages": "746-770",
         "title": "Restructuring Non-Performing Loans for Bank Recovery: Private Workouts and Securitisation Mechanisms",
         "type": "article",
         "volume": "16",
         "year": 2019
        },
        {
         "author_affiliations": [
          [
           {
            "affiliations": [
             {
              "name": "The editor was a member of the committee that proposed the current Danish 2009 Companies Act and was a co-signature on the address by company law professors to the committee of Parliament responsible for the act to abolish IVS in 2019., Copenhagen, Denmark"
             }
            ],
            "corresponding": "",
            "current_organization_id": "",
            "first_name": "Jesper Lau",
            "last_name": "Hansen",
            "orcid": "",
            "raw_affiliation": [
             "The editor was a member of the committee that proposed the current Danish 2009 Companies Act and was a co-signature on the address by company law professors to the committee of Parliament responsible for the act to abolish IVS in 2019., Copenhagen, Denmark"
            ],
            "researcher_id": ""
           }
          ]
         ],
         "id": "pub.1123274404",
         "issue": "6",
         "journal": {
          "id": "jour.1143038",
          "title": "European Company and Financial Law Review"
         },
         "pages": "677-686",
         "title": "Editors’ Note: Companies without Legal Capital and the Strange Case of Denmark",
         "type": "article",
         "volume": "16",
         "year": 2019
        },
        {
         "author_affiliations": [
          [
           {
            "affiliations": [
             {
              "city": "Moscow",
              "city_id": 524901,
              "country": "Russia",
              "country_code": "RU",
              "id": "grid.445986.2",
              "name": "MGIMO University",
              "state": null,
              "state_code": null
             }
            ],
            "corresponding": "",
            "current_organization_id": "",
            "first_name": "Rustam A.",
            "last_name": "Kasyanov",
            "orcid": "",
            "raw_affiliation": [
             "Ph.D. in Law (Russia), Ph.D. in EU Law (France), Senior lecturer of the, European Law Department, of, MGIMO University (Moscow State Institute of International Relations), ., Russian Federation"
            ],
            "researcher_id": "ur.010445523034.58"
           }
          ]
         ],
         "id": "pub.1122211977",
         "issue": "5",
         "journal": {
          "id": "jour.1143038",
          "title": "European Company and Financial Law Review"
         },
         "pages": "592-621",
         "title": "The EU Experience as a Model for the Development of a Single Financial Market Regulation in the Eurasian Economic Union (EAEU)",
         "type": "article",
         "volume": "16",
         "year": 2019
        },
        {
         "author_affiliations": [
          [
           {
            "affiliations": [
             {
              "city": "Reykjavik",
              "city_id": 3413829,
              "country": "Iceland",
              "country_code": "IS",
              "id": "grid.9580.4",
              "name": "Reykjavík University",
              "state": null,
              "state_code": null
             }
            ],
            "corresponding": "",
            "current_organization_id": "grid.5254.6",
            "first_name": "Andri Fannar",
            "last_name": "Bergþórsson",
            "orcid": "",
            "raw_affiliation": [
             "Ph.D. (2017) from, University of Copenhagen, and Associate Professor of Capital Market Law at, Reykjavik University, School of Law, ., Reykjavik, Island"
            ],
            "researcher_id": "ur.013076363333.50"
           }
          ]
         ],
         "id": "pub.1122211976",
         "issue": "5",
         "journal": {
          "id": "jour.1143038",
          "title": "European Company and Financial Law Review"
         },
         "pages": "557-591",
         "title": "Adapting the European System of Financial Supervision (ESFS) to the EEA Two-Pillar Structure – A Workable Solution?",
         "type": "article",
         "volume": "16",
         "year": 2019
        },
        {
         "author_affiliations": [
          [
           {
            "affiliations": [
             {
              "city": "Islamabad",
              "city_id": 1176615,
              "country": "Pakistan",
              "country_code": "PK",
              "id": "grid.444797.d",
              "name": "National University of Computer and Emerging Sciences",
              "state": null,
              "state_code": null
             }
            ],
            "corresponding": "",
            "current_organization_id": "",
            "first_name": "Ahmed",
            "last_name": "Arif",
            "orcid": "",
            "raw_affiliation": [
             "Assistant Professor, FAST School of Management, National University of Computer and Emerging Sciences (FAST-NUCES), Lahore-Campus, . The author would like to express his gratitude to Gabriella Chiesa of University of Bologna and Alessio Pacces of Faculty of Law, University of Amsterdam for their guidance and to the participants of EDLE Seminar Series at Rotterdam Institute of Law and Economics (RILE) for their useful feedback and comments. All errors are the author’s., Pakistan"
            ],
            "researcher_id": ""
           }
          ]
         ],
         "id": "pub.1122211975",
         "issue": "5",
         "journal": {
          "id": "jour.1143038",
          "title": "European Company and Financial Law Review"
         },
         "pages": "535-556",
         "title": "Regulations for Securitisation and Covered Bonds: Too Much or Too Little",
         "type": "article",
         "volume": "16",
         "year": 2019
        },
        {
         "author_affiliations": [
          [
           {
            "affiliations": [
             {
              "name": "Professor of, Private Law, at the, University of, Orléans, Labex-Refi. The author has presented a summary version of this article at ESMA, on January 29, 2019., France"
             }
            ],
            "corresponding": "",
            "current_organization_id": "",
            "first_name": "Anastasia",
            "last_name": "Sotiropoulou",
            "orcid": "",
            "raw_affiliation": [
             "Professor of, Private Law, at the, University of, Orléans, Labex-Refi. The author has presented a summary version of this article at ESMA, on January 29, 2019., France"
            ],
            "researcher_id": ""
           },
           {
            "affiliations": [
             {
              "name": "PhD in Management at the, University, Paris, 1 Panthéon-Sorbonne, PRISM Sorbonne and Labex-Refi, France, ."
             }
            ],
            "corresponding": "",
            "current_organization_id": "",
            "first_name": "Stéphanie",
            "last_name": "Ligot",
            "orcid": "",
            "raw_affiliation": [
             "PhD in Management at the, University, Paris, 1 Panthéon-Sorbonne, PRISM Sorbonne and Labex-Refi, France, ."
            ],
            "researcher_id": ""
           }
          ]
         ],
         "id": "pub.1122211979",
         "issue": "5",
         "journal": {
          "id": "jour.1143038",
          "title": "European Company and Financial Law Review"
         },
         "pages": "652-676",
         "title": "Legal Challenges of Cryptocurrencies: Isn’t It Time to Regulate the Intermediaries?",
         "type": "article",
         "volume": "16",
         "year": 2019
        },
        {
         "author_affiliations": [
          [
           {
            "affiliations": [
             {
              "city": "Munich",
              "city_id": 2867714,
              "country": "Germany",
              "country_code": "DE",
              "id": "grid.6936.a",
              "name": "Technical University Munich",
              "state": null,
              "state_code": null
             }
            ],
            "corresponding": "",
            "current_organization_id": "",
            "first_name": "Philipp",
            "last_name": "Maume",
            "orcid": "",
            "raw_affiliation": [
             "PhD (Augsburg Univ.), SJD (La Trobe Univ.), Associate Professor of Law at, TUM School of Management, Technical University of Munich, Germany, ."
            ],
            "researcher_id": ""
           }
          ]
         ],
         "id": "pub.1122211978",
         "issue": "5",
         "journal": {
          "id": "jour.1143038",
          "title": "European Company and Financial Law Review"
         },
         "pages": "622-651",
         "title": "Reducing Legal Uncertainty and Regulatory Arbitrage for Robo-Advice",
         "type": "article",
         "volume": "16",
         "year": 2019
        },
        {
         "author_affiliations": [
          [
           {
            "affiliations": [
             {
              "name": "Associate at EY Law., Austria"
             }
            ],
            "corresponding": "",
            "current_organization_id": "",
            "first_name": "Mario",
            "last_name": "Hössl-Neumann",
            "orcid": "",
            "raw_affiliation": [
             "Associate at EY Law., Austria"
            ],
            "researcher_id": ""
           },
           {
            "affiliations": [
             {
              "name": "Assistant Professor (post-doc) at the University of, Vienna, School of Law, The authors wish to thank the editors of the Stanford Law School TTLF EU Law Working Paper Series, the editors of the Oxford Business Law Blog and two anonymous referees for their invaluable comments. The views of the authors as well as all mistakes are entirely their own., Austria"
             }
            ],
            "corresponding": "",
            "current_organization_id": "",
            "first_name": "Andreas",
            "last_name": "Baumgartner",
            "orcid": "",
            "raw_affiliation": [
             "Assistant Professor (post-doc) at the University of, Vienna, School of Law, The authors wish to thank the editors of the Stanford Law School TTLF EU Law Working Paper Series, the editors of the Oxford Business Law Blog and two anonymous referees for their invaluable comments. The views of the authors as well as all mistakes are entirely their own., Austria"
            ],
            "researcher_id": ""
           }
          ]
         ],
         "id": "pub.1120363934",
         "issue": "4",
         "journal": {
          "id": "jour.1143038",
          "title": "European Company and Financial Law Review"
         },
         "pages": "484-534",
         "title": "Dealing with Corporate Scandal under European Market Abuse Law: The Case of VW",
         "type": "article",
         "volume": "16",
         "year": 2019
        },
        {
         "author_affiliations": [
          [
           {
            "affiliations": [
             {
              "city": "Ghent",
              "city_id": 2797656,
              "country": "Belgium",
              "country_code": "BE",
              "id": "grid.5342.0",
              "name": "Ghent University",
              "state": null,
              "state_code": null
             }
            ],
            "corresponding": "",
            "current_organization_id": "",
            "first_name": "Eddy",
            "last_name": "Wymeersch",
            "orcid": "",
            "raw_affiliation": [
             "Professor, (University of, Gent), ., Belgium"
            ],
            "researcher_id": ""
           }
          ]
         ],
         "id": "pub.1120363935",
         "issue": "4",
         "journal": {
          "id": "jour.1143038",
          "title": "European Company and Financial Law Review"
         },
         "pages": "415-433",
         "title": "Systemic Risk after Brexit: Transitional Measures for the Financial Markets",
         "type": "article",
         "volume": "16",
         "year": 2019
        },
        {
         "author_affiliations": [
          [
           {
            "affiliations": [
             {
              "city": "Brussels",
              "city_id": 2800866,
              "country": "Belgium",
              "country_code": "BE",
              "id": "grid.270680.b",
              "name": "European Commission",
              "state": null,
              "state_code": null
             }
            ],
            "corresponding": "",
            "current_organization_id": "",
            "first_name": "Bartlomiej",
            "last_name": "Kurcz",
            "orcid": "",
            "raw_affiliation": [
             "European Commission., Brüssel, Belgien"
            ],
            "researcher_id": ""
           },
           {
            "affiliations": [
             {
              "name": "Attorney-at-Law at Ballas, Pelecanos & Associates L.P.C., The views are only of those of the authors and cannot in any circumstances be attributed to the institutions for which they work, in particular to the European Commission. We thank Piotr Markiewicz, a judge, for reviewing the draft., Greece"
             }
            ],
            "corresponding": "",
            "current_organization_id": "",
            "first_name": "Athanasios",
            "last_name": "Paizis",
            "orcid": "",
            "raw_affiliation": [
             "Attorney-at-Law at Ballas, Pelecanos & Associates L.P.C., The views are only of those of the authors and cannot in any circumstances be attributed to the institutions for which they work, in particular to the European Commission. We thank Piotr Markiewicz, a judge, for reviewing the draft., Greece"
            ],
            "researcher_id": ""
           }
          ]
         ],
         "id": "pub.1120363933",
         "issue": "4",
         "journal": {
          "id": "jour.1143038",
          "title": "European Company and Financial Law Review"
         },
         "pages": "434-456",
         "title": "Company Law, Connecting Factors and the Digital Age – A New Outlook",
         "type": "article",
         "volume": "16",
         "year": 2019
        },
        {
         "author_affiliations": [
          [
           {
            "affiliations": [
             {
              "city": "Hamburg",
              "city_id": 2911298,
              "country": "Germany",
              "country_code": "DE",
              "id": "grid.461688.5",
              "name": "Bucerius Law School",
              "state": null,
              "state_code": null
             }
            ],
            "corresponding": "",
            "current_organization_id": "",
            "first_name": "Andreas",
            "last_name": "Kerkemeyer",
            "orcid": "",
            "raw_affiliation": [
             "Academic Assistant at the Chair for Public Law I, Prof. Dr. Jörn Axel Kämmerer, Bucerius Law School, Hamburg, . The author thanks the two anonymous referees for their helpful comments on an earlier version of this article. This article summarizes some results of my dissertation \"Möglichkeiten und Grenzen bei der Regulierung von Derivaten\" (Mohr-Siebeck 2018) and develops them further., Germany"
            ],
            "researcher_id": ""
           }
          ]
         ],
         "id": "pub.1120363932",
         "issue": "4",
         "journal": {
          "id": "jour.1143038",
          "title": "European Company and Financial Law Review"
         },
         "pages": "457-483",
         "title": "A Decade after Lehman: An Assessment of Key Regulatory Responses to the Global Financial Crisis",
         "type": "article",
         "volume": "16",
         "year": 2019
        },
        {
         "author_affiliations": [
          [
           {
            "affiliations": [
             {
              "city": "Frankfurt am Main",
              "city_id": 2925533,
              "country": "Germany",
              "country_code": "DE",
              "id": "grid.7839.5",
              "name": "Goethe University Frankfurt",
              "state": null,
              "state_code": null
             }
            ],
            "corresponding": "",
            "current_organization_id": "grid.7839.5",
            "first_name": "Tobias H.",
            "last_name": "Tröger",
            "orcid": "",
            "raw_affiliation": [
             "Professor of Private Law, Trade and Business Law, Jurisprudence, Goethe University, Frankfurt am Main, . Program Director Corporate Finance and Corporate Governance, Research Center Sustainable Architecture for Finance in Europe (SAFE). Research Member European Corporate Governance Institute (ECGI)., Germany"
            ],
            "researcher_id": "ur.016420761463.07"
           },
           {
            "affiliations": [
             {
              "city": "Frankfurt am Main",
              "city_id": 2925533,
              "country": "Germany",
              "country_code": "DE",
              "id": "grid.7839.5",
              "name": "Goethe University Frankfurt",
              "state": null,
              "state_code": null
             }
            ],
            "corresponding": "",
            "current_organization_id": "grid.7839.5",
            "first_name": "Uwe",
            "last_name": "Walz",
            "orcid": "",
            "raw_affiliation": [
             "Professor of Economics, Chair for Industrial Economics, Goethe University, Frankfurt am Main, . Director Center for Financial Studies and Research Center Sustainable Architecture for Finance in Europe (SAFE). Research Member ECGI. The authors are thankful for comments and critique provided by friends and colleagues as well as two anonymous referees. Input by Arnoud Boot, Paul Davies, Jeff Gordon and Kin Lo as well as participants at the annual Oxford-LSE law and finance conference, the SAFE workshop on say on pay, and the ETH-NYU banking and finance conference were particularly beneficial. We gratefully acknowledge financial support of the LOEWE Research Center Sustainable Architecture for Finance in Europe (SAFE)., Germany"
            ],
            "researcher_id": "ur.015267214555.23"
           }
          ]
         ],
         "id": "pub.1117170217",
         "issue": "3",
         "journal": {
          "id": "jour.1143038",
          "title": "European Company and Financial Law Review"
         },
         "pages": "381-414",
         "title": "Does Say on Pay Matter? Evidence from Germany",
         "type": "article",
         "volume": "16",
         "year": 2019
        },
        {
         "author_affiliations": [
          [
           {
            "affiliations": [
             {
              "name": "Associate Professor at the, Free University, of, Bozen-Bolzano, (Italy, Italy, ), CRELE and ECGI Research Member;"
             }
            ],
            "corresponding": "",
            "current_organization_id": "",
            "first_name": "Stefano",
            "last_name": "Lombardo",
            "orcid": "",
            "raw_affiliation": [
             "Associate Professor at the, Free University, of, Bozen-Bolzano, (Italy, Italy, ), CRELE and ECGI Research Member;"
            ],
            "researcher_id": ""
           },
           {
            "affiliations": [
             {
              "name": "Reader at SOAS, University of London, (U.K.) and Associate Professor at University of Modena Reggio Emilia (Italy). A previous version of this work was presented during a PhD Business Law Seminar, Bocconi University, Milan, 14th May 2018. We would like to thank Pierre-Henri Conac, Renzo Costi, Nicholas Foster, Sergio Gilotta, Paolo Giudici, Chiara Mosca, Mario Notari, Mathias Siems and Giovanni Strampelli as well as an anonymous referee for their helpful comments and suggestions. We are, of course, the only persons responsible for omissions or mistakes. This article has been conceived, discussed and elaborated together by the authors; for the purpose of academic evaluation, Section 2 was written by Stefano Lombardo while Section 3 was written by Federico M. Mucciarelli; Sections 1 and 4 were written by the authors together., London, United Kingdom of Great Britain and Northern Ireland"
             }
            ],
            "corresponding": "",
            "current_organization_id": "grid.22631.34",
            "first_name": "Federico M.",
            "last_name": "Mucciarelli",
            "orcid": "['0000-0002-2685-6443']",
            "raw_affiliation": [
             "Reader at SOAS, University of London, (U.K.) and Associate Professor at University of Modena Reggio Emilia (Italy). A previous version of this work was presented during a PhD Business Law Seminar, Bocconi University, Milan, 14th May 2018. We would like to thank Pierre-Henri Conac, Renzo Costi, Nicholas Foster, Sergio Gilotta, Paolo Giudici, Chiara Mosca, Mario Notari, Mathias Siems and Giovanni Strampelli as well as an anonymous referee for their helpful comments and suggestions. We are, of course, the only persons responsible for omissions or mistakes. This article has been conceived, discussed and elaborated together by the authors; for the purpose of academic evaluation, Section 2 was written by Stefano Lombardo while Section 3 was written by Federico M. Mucciarelli; Sections 1 and 4 were written by the authors together., London, United Kingdom of Great Britain and Northern Ireland"
            ],
            "researcher_id": "ur.016627571507.33"
           }
          ]
         ],
         "id": "pub.1117170215",
         "issue": "3",
         "journal": {
          "id": "jour.1143038",
          "title": "European Company and Financial Law Review"
         },
         "pages": "310-348",
         "title": "Market Soundings: The Interaction between Securities Regulation and Company Law in the United Kingdom and Italy",
         "type": "article",
         "volume": "16",
         "year": 2019
        },
        {
         "author_affiliations": [
          [
           {
            "affiliations": [
             {
              "city": "Rome",
              "city_id": 3169070,
              "country": "Italy",
              "country_code": "IT",
              "id": "grid.8509.4",
              "name": "Roma Tre University",
              "state": null,
              "state_code": null
             }
            ],
            "corresponding": "",
            "current_organization_id": "grid.8509.4",
            "first_name": "Concetta Brescia",
            "last_name": "Morra",
            "orcid": "",
            "raw_affiliation": [
             "Professor of EU Financial Law, University of Roma Tre, and vice-chair of the Administrative Board of Review (ABoR) of the Single Supervisory Mechanism of participating EU countries set up by the European Central Bank (ECB). The opinions expressed in this article are solely those of the author and do not represent the official policy or position of the ABoR or of the ECB. I wish to thank the following individuals for their very useful comments: Boudewijn Berger, Danny Busch, Stefano Cappiello, Amélie Champsaur, Raffaele D’Ambrosio, Victor De Serière, Christos Hadjiemmauil, Luis Silva Morais, Marino Perassi, Federico Signorini. I am, of course, solely responsible for any remaining errors., Roma, Italy"
            ],
            "researcher_id": "ur.010304271255.05"
           }
          ]
         ],
         "id": "pub.1117170216",
         "issue": "3",
         "journal": {
          "id": "jour.1143038",
          "title": "European Company and Financial Law Review"
         },
         "pages": "349-380",
         "title": "The New European Union Framework for Banking Crisis Management: Rules versus Discretion",
         "type": "article",
         "volume": "16",
         "year": 2019
        },
        {
         "author_affiliations": [
          [
           {
            "affiliations": [
             {
              "city": "Warsaw",
              "city_id": 756135,
              "country": "Poland",
              "country_code": "PL",
              "id": "grid.12847.38",
              "name": "University of Warsaw",
              "state": null,
              "state_code": null
             }
            ],
            "corresponding": "",
            "current_organization_id": "grid.12847.38",
            "first_name": "Jacek",
            "last_name": "Jastrzębski",
            "orcid": "",
            "raw_affiliation": [
             "Associate professor, Faculty of Law and Administration, Warsaw University, and Chairman of the Board of the Polish Financial Supervision Authority (PFSA); the views and opinions expressed in this article are those of the author and do not necessarily reflect the official policy or position of the PFSA., Warsaw, Poland"
            ],
            "researcher_id": "ur.014257243500.18"
           }
          ]
         ],
         "id": "pub.1117170214",
         "issue": "3",
         "journal": {
          "id": "jour.1143038",
          "title": "European Company and Financial Law Review"
         },
         "pages": "273-309",
         "title": "Value Creation in Negotiations of Contractual Warranties and Indemnifications",
         "type": "article",
         "volume": "16",
         "year": 2019
        },
        {
         "author_affiliations": [
          [
           {
            "affiliations": [
             {
              "name": "Professor of Business Law, Vienna, University of Economics and Business., Austria"
             }
            ],
            "corresponding": "",
            "current_organization_id": "",
            "first_name": "Martin",
            "last_name": "Winner",
            "orcid": "",
            "raw_affiliation": [
             "Professor of Business Law, Vienna, University of Economics and Business., Austria"
            ],
            "researcher_id": ""
           }
          ]
         ],
         "id": "pub.1114051985",
         "issue": "1-2",
         "journal": {
          "id": "jour.1143038",
          "title": "European Company and Financial Law Review"
         },
         "pages": "44-73",
         "title": "Protection of Creditors and Minority Shareholders in Cross-border Transactions",
         "type": "article",
         "volume": "16",
         "year": 2019
        },
        {
         "id": "pub.1114038635",
         "issue": "1-2",
         "journal": {
          "id": "jour.1143038",
          "title": "European Company and Financial Law Review"
         },
         "pages": "1-2",
         "title": "Editorial",
         "type": "article",
         "volume": "16",
         "year": 2019
        }
       ]
      },
      "text/plain": [
       "<dimcli.Dataset object #4577708368. Records: 20/1349>"
      ]
     },
     "execution_count": 52,
     "metadata": {
      "application/json": {
       "expanded": false,
       "root": "root"
      }
     },
     "output_type": "execute_result"
    }
   ],
   "source": [
    "%dsl search publications where journal.title=\"Company\""
   ]
  },
  {
   "cell_type": "code",
   "execution_count": 55,
   "metadata": {
    "Collapsed": "false"
   },
   "outputs": [
    {
     "name": "stdout",
     "output_type": "stream",
     "text": [
      "Returned Publications: 0\n",
      "WARNINGS [1]\n",
      "Please review your query, as it contains an entity filter (research_org_cities.name) that can lead to incomplete results. More details on https://docs.dimensions.ai/dsl/language.html#literal-fields-vs-entity-fields\n"
     ]
    },
    {
     "data": {
      "application/json": {
       "_stats": {
        "total_count": 0
       },
       "_warnings": [
        "Please review your query, as it contains an entity filter (research_org_cities.name) that can lead to incomplete results. More details on https://docs.dimensions.ai/dsl/language.html#literal-fields-vs-entity-fields"
       ],
       "publications": []
      },
      "text/plain": [
       "<dimcli.Dataset object #4578234128. Records: 0/0>"
      ]
     },
     "execution_count": 55,
     "metadata": {
      "application/json": {
       "expanded": false,
       "root": "root"
      }
     },
     "output_type": "execute_result"
    }
   ],
   "source": [
    "%dsl search publications where research_org_cities.name=\"Company\""
   ]
  },
  {
   "cell_type": "markdown",
   "metadata": {
    "Collapsed": "false"
   },
   "source": [
    "Do not show message for entities: `states`, `open_access`, `countries`, `categories`, `org groups`  "
   ]
  },
  {
   "cell_type": "code",
   "execution_count": 57,
   "metadata": {
    "Collapsed": "false"
   },
   "outputs": [
    {
     "name": "stdout",
     "output_type": "stream",
     "text": [
      "Returned Publications: 0\n"
     ]
    },
    {
     "data": {
      "application/json": {
       "_stats": {
        "total_count": 0
       },
       "publications": []
      },
      "text/plain": [
       "<dimcli.Dataset object #4578351056. Records: 0/0>"
      ]
     },
     "execution_count": 57,
     "metadata": {
      "application/json": {
       "expanded": false,
       "root": "root"
      }
     },
     "output_type": "execute_result"
    }
   ],
   "source": [
    "%dsl search publications where research_org_state_codes.name=\"Company\" "
   ]
  },
  {
   "cell_type": "code",
   "execution_count": 59,
   "metadata": {
    "Collapsed": "false"
   },
   "outputs": [
    {
     "name": "stdout",
     "output_type": "stream",
     "text": [
      "Returned Publications: 20 (total = 28312868)\n"
     ]
    },
    {
     "data": {
      "application/json": {
       "_stats": {
        "total_count": 28312868
       },
       "publications": [
        {
         "author_affiliations": [
          [
           {
            "affiliations": [],
            "corresponding": "",
            "current_organization_id": "",
            "first_name": "رضا مصیلحـی أحمد",
            "last_name": "إسماعیل",
            "orcid": "",
            "raw_affiliation": [],
            "researcher_id": "ur.07620036723.03"
           }
          ]
         ],
         "id": "pub.1117846292",
         "issue": "0",
         "journal": {
          "id": "jour.1355486",
          "title": "المجلة العربیة للإدارة"
         },
         "pages": "3-32",
         "title": "تأثیـر القیم التنافسیة کمتغیـر وسیط فی العلاقة بیـن القیادة التحویلیة وفاعلیة التغییـر التنظیمـی «دراسة میدانیة على مستشفیات جامعة القاهرة»",
         "type": "article",
         "volume": "0",
         "year": 2020
        },
        {
         "author_affiliations": [
          [
           {
            "affiliations": [],
            "corresponding": "",
            "current_organization_id": "grid.412366.4",
            "first_name": "Figen ÖNGÖZ",
            "last_name": "DEDE",
            "orcid": "",
            "raw_affiliation": [],
            "researcher_id": "ur.01100457627.73"
           },
           {
            "affiliations": [],
            "corresponding": "",
            "current_organization_id": "",
            "first_name": "Selman",
            "last_name": "ÇELEN",
            "orcid": "",
            "raw_affiliation": [],
            "researcher_id": ""
           },
           {
            "affiliations": [],
            "corresponding": "",
            "current_organization_id": "grid.7256.6",
            "first_name": "Şeyma BOZKURT",
            "last_name": "DOĞAN",
            "orcid": "",
            "raw_affiliation": [],
            "researcher_id": "ur.0715042735.55"
           },
           {
            "affiliations": [],
            "corresponding": "",
            "current_organization_id": "",
            "first_name": "Varol",
            "last_name": "ÇANAKÇI",
            "orcid": "",
            "raw_affiliation": [],
            "researcher_id": "ur.0752004330.12"
           }
          ]
         ],
         "id": "pub.1112148870",
         "journal": {
          "id": "jour.1114723",
          "title": "Atatürk Üniversitesi Diş Hekimliği Fakültesi Dergisi"
         },
         "pages": "1-1",
         "title": "PERİ-İMPLANT DEFEKTİN TEDAVİSİNDE ALTERNATİF BİR METOD OLARAK BUKKAL YAĞ DOKUNUN KULLANIMI: BİR OLGU RAPORU",
         "type": "article",
         "year": 2020
        },
        {
         "author_affiliations": [
          [
           {
            "affiliations": [],
            "corresponding": "",
            "current_organization_id": "",
            "first_name": "Merve",
            "last_name": "YILDIRAK",
            "orcid": "",
            "raw_affiliation": [],
            "researcher_id": ""
           },
           {
            "affiliations": [],
            "corresponding": "",
            "current_organization_id": "grid.16477.33",
            "first_name": "Rıfat",
            "last_name": "GÖZNELİ",
            "orcid": "",
            "raw_affiliation": [],
            "researcher_id": "ur.0652113643.60"
           }
          ]
         ],
         "id": "pub.1112199483",
         "journal": {
          "id": "jour.1114723",
          "title": "Atatürk Üniversitesi Diş Hekimliği Fakültesi Dergisi"
         },
         "pages": "1-1",
         "title": "DİŞ BEYAZLATMA İŞLEMİNİN LİTYUM DİSİLİKAT SERAMİĞİN BAĞLANMA DAYANIMINA ETKİSİ",
         "type": "article",
         "year": 2020
        },
        {
         "author_affiliations": [
          [
           {
            "affiliations": [],
            "corresponding": "",
            "current_organization_id": "grid.412216.2",
            "first_name": "Banu",
            "last_name": "ARICIOĞLU",
            "orcid": "",
            "raw_affiliation": [],
            "researcher_id": "ur.015011557476.87"
           },
           {
            "affiliations": [],
            "corresponding": "",
            "current_organization_id": "grid.411741.6",
            "first_name": "Ömer",
            "last_name": "HATİPOĞLU",
            "orcid": "['0000-0002-4628-8551']",
            "raw_affiliation": [],
            "researcher_id": "ur.01272555057.79"
           }
          ]
         ],
         "id": "pub.1112148869",
         "journal": {
          "id": "jour.1114723",
          "title": "Atatürk Üniversitesi Diş Hekimliği Fakültesi Dergisi"
         },
         "pages": "1-1",
         "title": "YENİ SONİK SİSTEM VİBRİNGE İLE FARKLI İRRİGASYON SİSTEMLERİNİN KÖK KANALLARINDAN KALSİYUM HİDROKSİT UZAKLAŞTIRMA ETKİNLİKLERİNİN KARŞILAŞTIRILMASI",
         "type": "article",
         "year": 2020
        },
        {
         "author_affiliations": [
          [
           {
            "affiliations": [],
            "corresponding": "",
            "current_organization_id": "",
            "first_name": ". Işıl Damla ŞENER",
            "last_name": "YAMANER",
            "orcid": "",
            "raw_affiliation": [],
            "researcher_id": "ur.010533732173.34"
           }
          ]
         ],
         "id": "pub.1112148872",
         "journal": {
          "id": "jour.1114723",
          "title": "Atatürk Üniversitesi Diş Hekimliği Fakültesi Dergisi"
         },
         "pages": "1-1",
         "title": "PERİODONTAL HASTALIK GEÇMİŞİ OLAN HASTALARDA VE PERİODONTAL OLARAK SAĞLIKLI BİREYLERDE YAPILAN İMPLANTLARIN 29 AYLIK GERİYE DÖNÜK KLİNİK BAŞARILARININ DEĞERLENDİRİLMESİ",
         "type": "article",
         "year": 2020
        },
        {
         "author_affiliations": [
          [
           {
            "affiliations": [],
            "corresponding": "",
            "current_organization_id": "",
            "first_name": "Kübra",
            "last_name": "CANTÜRK",
            "orcid": "",
            "raw_affiliation": [],
            "researcher_id": ""
           },
           {
            "affiliations": [],
            "corresponding": "",
            "current_organization_id": "",
            "first_name": "Buket",
            "last_name": "KARALAR",
            "orcid": "",
            "raw_affiliation": [],
            "researcher_id": ""
           },
           {
            "affiliations": [],
            "corresponding": "",
            "current_organization_id": "grid.411445.1",
            "first_name": "Ömer",
            "last_name": "SAĞSÖZ",
            "orcid": "['0000-0002-6506-537X']",
            "raw_affiliation": [],
            "researcher_id": "ur.01040424575.68"
           },
           {
            "affiliations": [],
            "corresponding": "",
            "current_organization_id": "grid.411445.1",
            "first_name": "Nilgün",
            "last_name": "SEVEN",
            "orcid": "",
            "raw_affiliation": [],
            "researcher_id": "ur.01200057667.88"
           },
           {
            "affiliations": [],
            "corresponding": "",
            "current_organization_id": "grid.411445.1",
            "first_name": "Nurdan POLAT",
            "last_name": "SAĞSÖZ",
            "orcid": "",
            "raw_affiliation": [],
            "researcher_id": "ur.01304376737.87"
           },
           {
            "affiliations": [],
            "corresponding": "",
            "current_organization_id": "grid.411445.1",
            "first_name": "Yusuf Ziya",
            "last_name": "BAYINDIR",
            "orcid": "",
            "raw_affiliation": [],
            "researcher_id": "ur.01141537700.08"
           }
          ]
         ],
         "id": "pub.1112200791",
         "journal": {
          "id": "jour.1114723",
          "title": "Atatürk Üniversitesi Diş Hekimliği Fakültesi Dergisi"
         },
         "pages": "1-1",
         "title": "FARKLI ÜNİVERSAL BAĞLAYICI AJANLARIN CAD/CAM SERAMİKLERİN KOMPOZİT REZİN İLE TAMİRİ SONRASI BAĞLANMA KUVVETİNE ETKİSİ",
         "type": "article",
         "year": 2020
        },
        {
         "author_affiliations": [
          [
           {
            "affiliations": [],
            "corresponding": "",
            "current_organization_id": "",
            "first_name": "KURT",
            "last_name": "Meral",
            "orcid": "",
            "raw_affiliation": [],
            "researcher_id": ""
           },
           {
            "affiliations": [],
            "corresponding": "",
            "current_organization_id": "",
            "first_name": "Necla",
            "last_name": "KILIÇKAYA",
            "orcid": "",
            "raw_affiliation": [],
            "researcher_id": ""
           },
           {
            "affiliations": [],
            "corresponding": "",
            "current_organization_id": "grid.25769.3f",
            "first_name": "Merve BANKOĞLU",
            "last_name": "GÜNGÖR",
            "orcid": "",
            "raw_affiliation": [],
            "researcher_id": "ur.07740021323.20"
           },
           {
            "affiliations": [],
            "corresponding": "",
            "current_organization_id": "grid.25769.3f",
            "first_name": "Seçil KARAKOCA",
            "last_name": "NEMLİ",
            "orcid": "",
            "raw_affiliation": [],
            "researcher_id": "ur.01361260573.15"
           }
          ]
         ],
         "id": "pub.1112148871",
         "journal": {
          "id": "jour.1114723",
          "title": "Atatürk Üniversitesi Diş Hekimliği Fakültesi Dergisi"
         },
         "pages": "1-1",
         "title": "DEZENFEKSİYONUN MAKSİLLOFASİYAL SİLİKON ELASTOMERİN FİZİKSEL ÖZELLİKLERİ ÜZERİNE ETKİLERİ",
         "type": "article",
         "year": 2020
        },
        {
         "author_affiliations": [
          [
           {
            "affiliations": [],
            "corresponding": "",
            "current_organization_id": "grid.411548.d",
            "first_name": "ÖTER",
            "last_name": "Banu",
            "orcid": "",
            "raw_affiliation": [],
            "researcher_id": "ur.01357514100.64"
           },
           {
            "affiliations": [],
            "corresponding": "",
            "current_organization_id": "",
            "first_name": "Barış",
            "last_name": "KARABULUT",
            "orcid": "",
            "raw_affiliation": [],
            "researcher_id": ""
           },
           {
            "affiliations": [],
            "corresponding": "",
            "current_organization_id": "",
            "first_name": "Günseli GÜVEN",
            "last_name": "POLAT",
            "orcid": "",
            "raw_affiliation": [],
            "researcher_id": "ur.01013766242.27"
           },
           {
            "affiliations": [],
            "corresponding": "",
            "current_organization_id": "grid.411548.d",
            "first_name": "Sevi Burçak",
            "last_name": "ÇEHRELİ",
            "orcid": "",
            "raw_affiliation": [],
            "researcher_id": "ur.01247313146.94"
           }
          ]
         ],
         "id": "pub.1112148873",
         "journal": {
          "id": "jour.1114723",
          "title": "Atatürk Üniversitesi Diş Hekimliği Fakültesi Dergisi"
         },
         "pages": "1-1",
         "title": "AİLELERİN FLORÜRLÜ AĞIZ BAKIM ÜRÜNLERİNE BAKIŞ AÇILARININ VE DAVRANIŞLARININ DEĞERLENDİRİLMESİ",
         "type": "article",
         "year": 2020
        },
        {
         "author_affiliations": [
          [
           {
            "affiliations": [
             {
              "city": "Porto Alegre",
              "city_id": 3452925,
              "country": "Brazil",
              "country_code": "BR",
              "id": "grid.8532.c",
              "name": "Federal University of Rio Grande do Sul",
              "state": null,
              "state_code": null
             }
            ],
            "corresponding": "",
            "current_organization_id": "grid.8532.c",
            "first_name": "Darlene dos Santos",
            "last_name": "Daltro",
            "orcid": "",
            "raw_affiliation": [
             "Animal Science Department, Federal University of Rio Grande do Sul, Porto Alegre, Brazil;"
            ],
            "researcher_id": "ur.015660515541.92"
           },
           {
            "affiliations": [
             {
              "city": "Brasília",
              "city_id": 3469058,
              "country": "Brazil",
              "country_code": "BR",
              "id": "grid.460200.0",
              "name": "Brazilian Agricultural Research Corporation",
              "state": null,
              "state_code": null
             }
            ],
            "corresponding": "",
            "current_organization_id": "grid.460200.0",
            "first_name": "Marcos Vinícius Gualberto Barbosa d",
            "last_name": "Silva",
            "orcid": "",
            "raw_affiliation": [
             "Embrapa Gado de Leite, Juiz de Fora, Brazil;"
            ],
            "researcher_id": "ur.015773452042.87"
           },
           {
            "affiliations": [
             {
              "city": "Lisbon",
              "city_id": 2267057,
              "country": "Portugal",
              "country_code": "PT",
              "id": "grid.9983.b",
              "name": "University of Lisbon",
              "state": null,
              "state_code": null
             }
            ],
            "corresponding": "",
            "current_organization_id": "",
            "first_name": "Luís",
            "last_name": "Telo da Gama",
            "orcid": "",
            "raw_affiliation": [
             "Faculdade de Medicina Veterinária, Technical University of Lisbon, Lisboa, Portugal;"
            ],
            "researcher_id": ""
           },
           {
            "affiliations": [
             {
              "city": "Porto Alegre",
              "city_id": 3452925,
              "country": "Brazil",
              "country_code": "BR",
              "id": "grid.8532.c",
              "name": "Federal University of Rio Grande do Sul",
              "state": null,
              "state_code": null
             }
            ],
            "corresponding": "",
            "current_organization_id": "",
            "first_name": "Juliana Dementshuck",
            "last_name": "Machado",
            "orcid": "",
            "raw_affiliation": [
             "Animal Science Department, Federal University of Rio Grande do Sul, Porto Alegre, Brazil;"
            ],
            "researcher_id": ""
           },
           {
            "affiliations": [
             {
              "name": "Center for Agricultural Sciences, States University of Western Paraná, Cascavel, Brazil"
             }
            ],
            "corresponding": "",
            "current_organization_id": "grid.441662.3",
            "first_name": "Elisandra Lurdes",
            "last_name": "Kern",
            "orcid": "['0000-0002-5323-2353']",
            "raw_affiliation": [
             "Center for Agricultural Sciences, States University of Western Paraná, Cascavel, Brazil"
            ],
            "researcher_id": "ur.0710406360.23"
           },
           {
            "affiliations": [
             {
              "city": "Porto Alegre",
              "city_id": 3452925,
              "country": "Brazil",
              "country_code": "BR",
              "id": "grid.8532.c",
              "name": "Federal University of Rio Grande do Sul",
              "state": null,
              "state_code": null
             }
            ],
            "corresponding": "",
            "current_organization_id": "grid.411221.5",
            "first_name": "Gabriel Soares",
            "last_name": "Campos",
            "orcid": "['0000-0002-7459-824X']",
            "raw_affiliation": [
             "Animal Science Department, Federal University of Rio Grande do Sul, Porto Alegre, Brazil;"
            ],
            "researcher_id": "ur.010555242421.34"
           },
           {
            "affiliations": [
             {
              "city": "Brasília",
              "city_id": 3469058,
              "country": "Brazil",
              "country_code": "BR",
              "id": "grid.460200.0",
              "name": "Brazilian Agricultural Research Corporation",
              "state": null,
              "state_code": null
             }
            ],
            "corresponding": "",
            "current_organization_id": "grid.460200.0",
            "first_name": "João Claudio do Carmo",
            "last_name": "Panetto",
            "orcid": "['0000-0002-9198-9728']",
            "raw_affiliation": [
             "Embrapa Gado de Leite, Juiz de Fora, Brazil;"
            ],
            "researcher_id": "ur.011632451721.97"
           },
           {
            "affiliations": [
             {
              "city": "Porto Alegre",
              "city_id": 3452925,
              "country": "Brazil",
              "country_code": "BR",
              "id": "grid.8532.c",
              "name": "Federal University of Rio Grande do Sul",
              "state": null,
              "state_code": null
             }
            ],
            "corresponding": "",
            "current_organization_id": "grid.8532.c",
            "first_name": "Jaime Araujo",
            "last_name": "Cobuci",
            "orcid": "['0000-0002-1414-4967']",
            "raw_affiliation": [
             "Animal Science Department, Federal University of Rio Grande do Sul, Porto Alegre, Brazil;"
            ],
            "researcher_id": "ur.01316602724.29"
           }
          ]
         ],
         "id": "pub.1123509260",
         "issue": "1",
         "journal": {
          "id": "jour.1032284",
          "title": "Italian Journal of Animal Science"
         },
         "pages": "86-94",
         "title": "Estimates of genetic and crossbreeding parameters for 305-day milk yield of Girolando cows",
         "type": "article",
         "volume": "19",
         "year": 2020
        },
        {
         "author_affiliations": [
          [
           {
            "affiliations": [
             {
              "city": "Shanghai",
              "city_id": 1796236,
              "country": "China",
              "country_code": "CN",
              "id": "grid.16821.3c",
              "name": "Shanghai Jiao Tong University",
              "state": null,
              "state_code": null
             }
            ],
            "corresponding": "",
            "current_organization_id": "grid.16821.3c",
            "first_name": "Wenli",
            "last_name": "Luo",
            "orcid": "",
            "raw_affiliation": [
             "Shanghai Key Laboratory of Veterinary Biotechnology, School of Agriculture and Biology, Shanghai Jiao Tong University, Shanghai, People’s Republic of China;, View further author information"
            ],
            "researcher_id": "ur.011074746735.47"
           },
           {
            "affiliations": [
             {
              "city": "Shanghai",
              "city_id": 1796236,
              "country": "China",
              "country_code": "CN",
              "id": "grid.16821.3c",
              "name": "Shanghai Jiao Tong University",
              "state": null,
              "state_code": null
             }
            ],
            "corresponding": "",
            "current_organization_id": "grid.16821.3c",
            "first_name": "Xue",
            "last_name": "Xu",
            "orcid": "",
            "raw_affiliation": [
             "Shanghai Key Laboratory of Veterinary Biotechnology, School of Agriculture and Biology, Shanghai Jiao Tong University, Shanghai, People’s Republic of China;, View further author information"
            ],
            "researcher_id": "ur.011661612074.99"
           },
           {
            "affiliations": [
             {
              "city": "Shanghai",
              "city_id": 1796236,
              "country": "China",
              "country_code": "CN",
              "id": "grid.16821.3c",
              "name": "Shanghai Jiao Tong University",
              "state": null,
              "state_code": null
             }
            ],
            "corresponding": "",
            "current_organization_id": "grid.16821.3c",
            "first_name": "Zhen",
            "last_name": "Luo",
            "orcid": "",
            "raw_affiliation": [
             "Shanghai Key Laboratory of Veterinary Biotechnology, School of Agriculture and Biology, Shanghai Jiao Tong University, Shanghai, People’s Republic of China;, View further author information"
            ],
            "researcher_id": "ur.016205057135.50"
           },
           {
            "affiliations": [
             {
              "city": "Morgantown",
              "city_id": 4815352,
              "country": "United States",
              "country_code": "US",
              "id": "grid.268154.c",
              "name": "West Virginia University",
              "state": "West Virginia",
              "state_code": "US-WV"
             }
            ],
            "corresponding": "",
            "current_organization_id": "grid.268154.c",
            "first_name": "Jianbo",
            "last_name": "Yao",
            "orcid": "",
            "raw_affiliation": [
             "Division of Animal and Nutritional Sciences West, Virginia University Morgantown, Morgantown, WV, USA, View further author information"
            ],
            "researcher_id": "ur.01230713104.27"
           },
           {
            "affiliations": [
             {
              "city": "Shanghai",
              "city_id": 1796236,
              "country": "China",
              "country_code": "CN",
              "id": "grid.16821.3c",
              "name": "Shanghai Jiao Tong University",
              "state": null,
              "state_code": null
             }
            ],
            "corresponding": "",
            "current_organization_id": "",
            "first_name": "Jing",
            "last_name": "Zhang",
            "orcid": "",
            "raw_affiliation": [
             "Shanghai Key Laboratory of Veterinary Biotechnology, School of Agriculture and Biology, Shanghai Jiao Tong University, Shanghai, People’s Republic of China;, View further author information"
            ],
            "researcher_id": ""
           },
           {
            "affiliations": [
             {
              "city": "Shanghai",
              "city_id": 1796236,
              "country": "China",
              "country_code": "CN",
              "id": "grid.16821.3c",
              "name": "Shanghai Jiao Tong University",
              "state": null,
              "state_code": null
             }
            ],
            "corresponding": "",
            "current_organization_id": "grid.16821.3c",
            "first_name": "Weina",
            "last_name": "Xu",
            "orcid": "",
            "raw_affiliation": [
             "Shanghai Key Laboratory of Veterinary Biotechnology, School of Agriculture and Biology, Shanghai Jiao Tong University, Shanghai, People’s Republic of China;, View further author information"
            ],
            "researcher_id": "ur.012467707735.48"
           },
           {
            "affiliations": [
             {
              "city": "Shanghai",
              "city_id": 1796236,
              "country": "China",
              "country_code": "CN",
              "id": "grid.16821.3c",
              "name": "Shanghai Jiao Tong University",
              "state": null,
              "state_code": null
             }
            ],
            "corresponding": "",
            "current_organization_id": "grid.16821.3c",
            "first_name": "Jianxiong",
            "last_name": "Xu",
            "orcid": "",
            "raw_affiliation": [
             "Shanghai Key Laboratory of Veterinary Biotechnology, School of Agriculture and Biology, Shanghai Jiao Tong University, Shanghai, People’s Republic of China;, Correspondencejxxu1962@sjtu.edu.cn, View further author information"
            ],
            "researcher_id": "ur.01265367110.80"
           }
          ]
         ],
         "id": "pub.1122581501",
         "issue": "1",
         "journal": {
          "id": "jour.1032284",
          "title": "Italian Journal of Animal Science"
         },
         "pages": "8-17",
         "title": "Effect of fish oil supplementation in sow diet during late gestation and lactation period on litter characteristics, milk composition and fatty acid profile of sows and their offspring",
         "type": "article",
         "volume": "19",
         "year": 2020
        },
        {
         "author_affiliations": [
          [
           {
            "affiliations": [
             {
              "name": "Centro de Apoyo Logístico a las Operaciones, Cuartel General de la Fuerza Logística Operativa, Ejército de Tierra, Ministry of Defense, La Coruña, Spain;"
             }
            ],
            "corresponding": "",
            "current_organization_id": "",
            "first_name": "Lourdes",
            "last_name": "Sanmartín Sánchez",
            "orcid": "",
            "raw_affiliation": [
             "Centro de Apoyo Logístico a las Operaciones, Cuartel General de la Fuerza Logística Operativa, Ejército de Tierra, Ministry of Defense, La Coruña, Spain;"
            ],
            "researcher_id": ""
           },
           {
            "affiliations": [
             {
              "city": "Uppsala",
              "city_id": 2666199,
              "country": "Sweden",
              "country_code": "SE",
              "id": "grid.6341.0",
              "name": "Swedish University of Agricultural Sciences",
              "state": null,
              "state_code": null
             }
            ],
            "corresponding": "",
            "current_organization_id": "",
            "first_name": "Isabel",
            "last_name": "Blanco-Penedo",
            "orcid": "",
            "raw_affiliation": [
             "Institutionen för kliniska vetenskaper, Swedish University of Agricultural Sciences (SLU), Uppsala, Sweden;"
            ],
            "researcher_id": ""
           },
           {
            "affiliations": [
             {
              "city": "Cordova",
              "city_id": 2519240,
              "country": "Spain",
              "country_code": "ES",
              "id": "grid.411901.c",
              "name": "University of Córdoba",
              "state": null,
              "state_code": null
             }
            ],
            "corresponding": "",
            "current_organization_id": "",
            "first_name": "José Manuel",
            "last_name": "Perea Muñoz",
            "orcid": "",
            "raw_affiliation": [
             "Departamento de Producción Animal, University of Córdoba, Córdoba, Spain;"
            ],
            "researcher_id": ""
           },
           {
            "affiliations": [
             {
              "name": "Laboratorio de Investigación Aplicada, Cría Caballar de las Fuerzas Armadas Ministry of Defense, Córdoba, Spain;"
             }
            ],
            "corresponding": "",
            "current_organization_id": "",
            "first_name": "Carlota",
            "last_name": "Quiñones Pérez",
            "orcid": "",
            "raw_affiliation": [
             "Laboratorio de Investigación Aplicada, Cría Caballar de las Fuerzas Armadas Ministry of Defense, Córdoba, Spain;"
            ],
            "researcher_id": ""
           },
           {
            "affiliations": [
             {
              "city": "Cordova",
              "city_id": 2519240,
              "country": "Spain",
              "country_code": "ES",
              "id": "grid.411901.c",
              "name": "University of Córdoba",
              "state": null,
              "state_code": null
             }
            ],
            "corresponding": "",
            "current_organization_id": "",
            "first_name": "Juan Vicente",
            "last_name": "Delgado",
            "orcid": "",
            "raw_affiliation": [
             "Departamento de Genética, University of Córdoba, Campus Rabanales, Córdoba, Spain"
            ],
            "researcher_id": ""
           },
           {
            "affiliations": [
             {
              "name": "Laboratorio de Investigación Aplicada, Cría Caballar de las Fuerzas Armadas Ministry of Defense, Córdoba, Spain;"
             }
            ],
            "corresponding": "",
            "current_organization_id": "",
            "first_name": "José Luis",
            "last_name": "Vega-Pla",
            "orcid": "",
            "raw_affiliation": [
             "Laboratorio de Investigación Aplicada, Cría Caballar de las Fuerzas Armadas Ministry of Defense, Córdoba, Spain;"
            ],
            "researcher_id": ""
           }
          ]
         ],
         "id": "pub.1123834351",
         "issue": "1",
         "journal": {
          "id": "jour.1032284",
          "title": "Italian Journal of Animal Science"
         },
         "pages": "137-146",
         "title": "Welfare assessment at a Spanish Army Equine Breeding Centre",
         "type": "article",
         "volume": "19",
         "year": 2020
        },
        {
         "author_affiliations": [
          [
           {
            "affiliations": [
             {
              "city": "Padua",
              "city_id": 3171728,
              "country": "Italy",
              "country_code": "IT",
              "id": "grid.5608.b",
              "name": "University of Padua",
              "state": null,
              "state_code": null
             }
            ],
            "corresponding": "",
            "current_organization_id": "grid.5608.b",
            "first_name": "G.",
            "last_name": "Bittante",
            "orcid": "['0000-0001-7137-7049']",
            "raw_affiliation": [
             "Dipartimento di Agronomia, Animali, Alimenti, Risorse naturali e Ambiente (DAFNAE), University of Padova, Legnaro, Italy"
            ],
            "researcher_id": "ur.0615106630.53"
           },
           {
            "affiliations": [
             {
              "city": "Padua",
              "city_id": 3171728,
              "country": "Italy",
              "country_code": "IT",
              "id": "grid.5608.b",
              "name": "University of Padua",
              "state": null,
              "state_code": null
             }
            ],
            "corresponding": "",
            "current_organization_id": "grid.5608.b",
            "first_name": "A.",
            "last_name": "Cecchinato",
            "orcid": "",
            "raw_affiliation": [
             "Dipartimento di Agronomia, Animali, Alimenti, Risorse naturali e Ambiente (DAFNAE), University of Padova, Legnaro, Italy"
            ],
            "researcher_id": "ur.01003556266.45"
           }
          ]
         ],
         "id": "pub.1123673633",
         "issue": "1",
         "journal": {
          "id": "jour.1032284",
          "title": "Italian Journal of Animal Science"
         },
         "pages": "114-126",
         "title": "Heritability estimates of enteric methane emissions predicted from fatty acid profiles, and their relationships with milk composition, cheese-yield and body size and condition",
         "type": "article",
         "volume": "19",
         "year": 2020
        },
        {
         "author_affiliations": [
          [
           {
            "affiliations": [
             {
              "name": "Agenzia Regionale per lo Sviluppo e l'Innovazione dell'Agricoltura del Lazio (ARSIAL), Roma, Italy;, http://orcid.org/0000-0001-5270-004X, View further author information"
             }
            ],
            "corresponding": "",
            "current_organization_id": "",
            "first_name": "Giorgio Antonio",
            "last_name": "Presicce",
            "orcid": "",
            "raw_affiliation": [
             "Agenzia Regionale per lo Sviluppo e l'Innovazione dell'Agricoltura del Lazio (ARSIAL), Roma, Italy;, http://orcid.org/0000-0001-5270-004X, View further author information"
            ],
            "researcher_id": "ur.01064734557.77"
           },
           {
            "affiliations": [
             {
              "city": "Naples",
              "city_id": 3172394,
              "country": "Italy",
              "country_code": "IT",
              "id": "grid.4691.a",
              "name": "University of Naples Federico II",
              "state": null,
              "state_code": null
             }
            ],
            "corresponding": "",
            "current_organization_id": "grid.4691.a",
            "first_name": "Gianluca",
            "last_name": "Neglia",
            "orcid": "['0000-0002-0989-6072']",
            "raw_affiliation": [
             "Dipartimento di Medicina Veterinaria e Produzioni Animali, University of Napoli “Federico II”, Napoli, Italy;, http://orcid.org/0000-0002-0989-6072, View further author information"
            ],
            "researcher_id": "ur.0651653013.44"
           },
           {
            "affiliations": [
             {
              "city": "Naples",
              "city_id": 3172394,
              "country": "Italy",
              "country_code": "IT",
              "id": "grid.4691.a",
              "name": "University of Naples Federico II",
              "state": null,
              "state_code": null
             }
            ],
            "corresponding": "",
            "current_organization_id": "grid.4691.a",
            "first_name": "Angela",
            "last_name": "Salzano",
            "orcid": "",
            "raw_affiliation": [
             "Dipartimento di Medicina Veterinaria e Produzioni Animali, University of Napoli “Federico II”, Napoli, Italy;, http://orcid.org/0000-0003-2199-7092, View further author information"
            ],
            "researcher_id": "ur.01223417202.10"
           },
           {
            "affiliations": [
             {
              "city": "Bologna",
              "city_id": 3181928,
              "country": "Italy",
              "country_code": "IT",
              "id": "grid.6292.f",
              "name": "University of Bologna",
              "state": null,
              "state_code": null
             }
            ],
            "corresponding": "",
            "current_organization_id": "grid.7644.1",
            "first_name": "Barbara",
            "last_name": "Padalino",
            "orcid": "['0000-0002-7630-8285']",
            "raw_affiliation": [
             "Dipartimento di Scienze e Tecnologie Agro-Alimentari, Alma Mater Studiorum, University of Bologna, Bologna, Italia;, Correspondencebarbara.padalino@unibo.it, http://orcid.org/0000-0002-7630-8285, View further author information"
            ],
            "researcher_id": "ur.0636373000.99"
           },
           {
            "affiliations": [
             {
              "city": "Naples",
              "city_id": 3172394,
              "country": "Italy",
              "country_code": "IT",
              "id": "grid.4691.a",
              "name": "University of Naples Federico II",
              "state": null,
              "state_code": null
             }
            ],
            "corresponding": "",
            "current_organization_id": "grid.4691.a",
            "first_name": "Valentina",
            "last_name": "Longobardi",
            "orcid": "['0000-0001-6560-3572']",
            "raw_affiliation": [
             "Dipartimento di Medicina Veterinaria e Produzioni Animali, University of Napoli “Federico II”, Napoli, Italy;, http://orcid.org/0000-0001-6560-3572, View further author information"
            ],
            "researcher_id": "ur.01051700510.20"
           },
           {
            "affiliations": [
             {
              "city": "Portici",
              "city_id": 3170116,
              "country": "Italy",
              "country_code": "IT",
              "id": "grid.419577.9",
              "name": "Istituto Zooprofilattico Sperimentale del Mezzogiorno",
              "state": null,
              "state_code": null
             }
            ],
            "corresponding": "",
            "current_organization_id": "grid.419577.9",
            "first_name": "Domenico",
            "last_name": "Vecchio",
            "orcid": "['0000-0002-8766-7224']",
            "raw_affiliation": [
             "Centro di Referenza Nazionale sull’igiene e le tecnologie dell’allevamento e delle produzioni bufaline, Istituto Zooprofilattico Sperimentale del Mezzogiorno, Salerno, Italy, http://orcid.org/0000-0002-8766-7224, View further author information"
            ],
            "researcher_id": "ur.01106317467.16"
           },
           {
            "affiliations": [
             {
              "city": "Portici",
              "city_id": 3170116,
              "country": "Italy",
              "country_code": "IT",
              "id": "grid.419577.9",
              "name": "Istituto Zooprofilattico Sperimentale del Mezzogiorno",
              "state": null,
              "state_code": null
             }
            ],
            "corresponding": "",
            "current_organization_id": "grid.419577.9",
            "first_name": "Esterina",
            "last_name": "De Carlo",
            "orcid": "['0000-0001-7883-1283']",
            "raw_affiliation": [
             "Centro di Referenza Nazionale sull’igiene e le tecnologie dell’allevamento e delle produzioni bufaline, Istituto Zooprofilattico Sperimentale del Mezzogiorno, Salerno, Italy, http://orcid.org/0000-0001-7883-1283, View further author information"
            ],
            "researcher_id": "ur.0724277030.20"
           },
           {
            "affiliations": [
             {
              "city": "Naples",
              "city_id": 3172394,
              "country": "Italy",
              "country_code": "IT",
              "id": "grid.4691.a",
              "name": "University of Naples Federico II",
              "state": null,
              "state_code": null
             }
            ],
            "corresponding": "",
            "current_organization_id": "grid.4691.a",
            "first_name": "Bianca",
            "last_name": "Gasparrini",
            "orcid": "['0000-0002-5086-7767']",
            "raw_affiliation": [
             "Dipartimento di Medicina Veterinaria e Produzioni Animali, University of Napoli “Federico II”, Napoli, Italy;, http://orcid.org/0000-0002-5086-7767, View further author information"
            ],
            "researcher_id": "ur.0651646740.80"
           }
          ]
         ],
         "id": "pub.1122798629",
         "issue": "1",
         "journal": {
          "id": "jour.1032284",
          "title": "Italian Journal of Animal Science"
         },
         "pages": "31-40",
         "title": "Efficacy of repeated ovum pick-up in Podolic cattle for preservation strategies: a pilot study",
         "type": "article",
         "volume": "19",
         "year": 2020
        },
        {
         "author_affiliations": [
          [
           {
            "affiliations": [
             {
              "city": "Curitiba",
              "city_id": 3464975,
              "country": "Brazil",
              "country_code": "BR",
              "id": "grid.20736.30",
              "name": "Federal University of Paraná",
              "state": null,
              "state_code": null
             }
            ],
            "corresponding": "",
            "current_organization_id": "grid.20736.30",
            "first_name": "Ananda Portella",
            "last_name": "Félix",
            "orcid": "['0000-0002-8570-5725']",
            "raw_affiliation": [
             "Department of Animal Science, Federal University of Paraná, Curitiba, Brazil"
            ],
            "researcher_id": "ur.016466747707.34"
           },
           {
            "affiliations": [
             {
              "city": "Curitiba",
              "city_id": 3464975,
              "country": "Brazil",
              "country_code": "BR",
              "id": "grid.20736.30",
              "name": "Federal University of Paraná",
              "state": null,
              "state_code": null
             }
            ],
            "corresponding": "",
            "current_organization_id": "grid.20736.30",
            "first_name": "Camilla Mariane",
            "last_name": "Menezes Souza",
            "orcid": "['0000-0003-2095-5835']",
            "raw_affiliation": [
             "Department of Animal Science, Federal University of Paraná, Curitiba, Brazil"
            ],
            "researcher_id": "ur.013472312340.24"
           },
           {
            "affiliations": [
             {
              "city": "Curitiba",
              "city_id": 3464975,
              "country": "Brazil",
              "country_code": "BR",
              "id": "grid.20736.30",
              "name": "Federal University of Paraná",
              "state": null,
              "state_code": null
             }
            ],
            "corresponding": "",
            "current_organization_id": "grid.20736.30",
            "first_name": "Taís Silvino",
            "last_name": "Bastos",
            "orcid": "",
            "raw_affiliation": [
             "Department of Animal Science, Federal University of Paraná, Curitiba, Brazil"
            ],
            "researcher_id": "ur.014437060064.26"
           },
           {
            "affiliations": [
             {
              "city": "Curitiba",
              "city_id": 3464975,
              "country": "Brazil",
              "country_code": "BR",
              "id": "grid.20736.30",
              "name": "Federal University of Paraná",
              "state": null,
              "state_code": null
             }
            ],
            "corresponding": "",
            "current_organization_id": "grid.20736.30",
            "first_name": "Gislaine Cristina Bill",
            "last_name": "Kaelle",
            "orcid": "",
            "raw_affiliation": [
             "Department of Animal Science, Federal University of Paraná, Curitiba, Brazil"
            ],
            "researcher_id": "ur.014764440752.96"
           },
           {
            "affiliations": [
             {
              "city": "Curitiba",
              "city_id": 3464975,
              "country": "Brazil",
              "country_code": "BR",
              "id": "grid.20736.30",
              "name": "Federal University of Paraná",
              "state": null,
              "state_code": null
             }
            ],
            "corresponding": "",
            "current_organization_id": "grid.20736.30",
            "first_name": "Simone Gisele",
            "last_name": "Oliveira",
            "orcid": "",
            "raw_affiliation": [
             "Department of Animal Science, Federal University of Paraná, Curitiba, Brazil"
            ],
            "researcher_id": "ur.0712006315.29"
           },
           {
            "affiliations": [
             {
              "city": "Curitiba",
              "city_id": 3464975,
              "country": "Brazil",
              "country_code": "BR",
              "id": "grid.20736.30",
              "name": "Federal University of Paraná",
              "state": null,
              "state_code": null
             }
            ],
            "corresponding": "",
            "current_organization_id": "grid.20736.30",
            "first_name": "Alex",
            "last_name": "Maiorka",
            "orcid": "",
            "raw_affiliation": [
             "Department of Animal Science, Federal University of Paraná, Curitiba, Brazil"
            ],
            "researcher_id": "ur.015052714131.68"
           }
          ]
         ],
         "id": "pub.1123604010",
         "issue": "1",
         "journal": {
          "id": "jour.1032284",
          "title": "Italian Journal of Animal Science"
         },
         "pages": "95-102",
         "title": "Digestibility of raw soybeans in extruded diets for dogs determined by different methods",
         "type": "article",
         "volume": "19",
         "year": 2020
        },
        {
         "author_affiliations": [
          [
           {
            "affiliations": [
             {
              "name": "Department of Animal Science, Qaemshahr Branch, Islamic Azad University, Qaemshahr, Iran;, CorrespondenceS.gharavysi@gmail.com, http://orcid.org/0000-0002-1069-0215"
             }
            ],
            "corresponding": "",
            "current_organization_id": "",
            "first_name": "Shahabodin",
            "last_name": "Gharahveysi",
            "orcid": "['0000-0002-1069-0215']",
            "raw_affiliation": [
             "Department of Animal Science, Qaemshahr Branch, Islamic Azad University, Qaemshahr, Iran;, CorrespondenceS.gharavysi@gmail.com, http://orcid.org/0000-0002-1069-0215"
            ],
            "researcher_id": "ur.016534745653.17"
           },
           {
            "affiliations": [
             {
              "name": "Department of Animal Science, Qaemshahr Branch, Islamic Azad University, Qaemshahr, Iran;"
             }
            ],
            "corresponding": "",
            "current_organization_id": "",
            "first_name": "Mehrdad",
            "last_name": "Irani",
            "orcid": "",
            "raw_affiliation": [
             "Department of Animal Science, Qaemshahr Branch, Islamic Azad University, Qaemshahr, Iran;"
            ],
            "researcher_id": ""
           },
           {
            "affiliations": [
             {
              "name": "Department of Animal Science, Qaemshahr Branch, Islamic Azad University, Qaemshahr, Iran;"
             }
            ],
            "corresponding": "",
            "current_organization_id": "",
            "first_name": "Taher Asadi",
            "last_name": "Kenari",
            "orcid": "",
            "raw_affiliation": [
             "Department of Animal Science, Qaemshahr Branch, Islamic Azad University, Qaemshahr, Iran;"
            ],
            "researcher_id": ""
           },
           {
            "affiliations": [
             {
              "name": "Department of Animal Resources, College of Agriculture, Salahaddin University, Erbil, Iraq"
             }
            ],
            "corresponding": "",
            "current_organization_id": "",
            "first_name": "Kanyaw Ismail",
            "last_name": "Mahmud",
            "orcid": "",
            "raw_affiliation": [
             "Department of Animal Resources, College of Agriculture, Salahaddin University, Erbil, Iraq"
            ],
            "researcher_id": ""
           }
          ]
         ],
         "id": "pub.1122463756",
         "issue": "1",
         "journal": {
          "id": "jour.1032284",
          "title": "Italian Journal of Animal Science"
         },
         "pages": "1-7",
         "title": "Effects of colour and intensity of artificial light produced by incandescent bulbs on the performance traits, thyroid hormones, and blood metabolites of broiler chickens",
         "type": "article",
         "volume": "19",
         "year": 2020
        },
        {
         "author_affiliations": [
          [
           {
            "affiliations": [
             {
              "city": "Sanandij",
              "city_id": 117574,
              "country": "Iran",
              "country_code": "IR",
              "id": "grid.411189.4",
              "name": "University of Kurdistan",
              "state": null,
              "state_code": null
             }
            ],
            "corresponding": "",
            "current_organization_id": "grid.411189.4",
            "first_name": "Ali",
            "last_name": "Raei",
            "orcid": "",
            "raw_affiliation": [
             "Department of Animal Science, University of Kurdistan, Sanandaj, Iran"
            ],
            "researcher_id": "ur.012641462467.09"
           },
           {
            "affiliations": [
             {
              "city": "Sanandij",
              "city_id": 117574,
              "country": "Iran",
              "country_code": "IR",
              "id": "grid.411189.4",
              "name": "University of Kurdistan",
              "state": null,
              "state_code": null
             }
            ],
            "corresponding": "",
            "current_organization_id": "grid.411189.4",
            "first_name": "Ahmad",
            "last_name": "Karimi",
            "orcid": "",
            "raw_affiliation": [
             "Department of Animal Science, University of Kurdistan, Sanandaj, Iran, Correspondenceakarimi@uok.ac.ir"
            ],
            "researcher_id": "ur.0737003723.33"
           },
           {
            "affiliations": [
             {
              "city": "Sanandij",
              "city_id": 117574,
              "country": "Iran",
              "country_code": "IR",
              "id": "grid.411189.4",
              "name": "University of Kurdistan",
              "state": null,
              "state_code": null
             }
            ],
            "corresponding": "",
            "current_organization_id": "grid.411189.4",
            "first_name": "Amirali",
            "last_name": "Sadeghi",
            "orcid": "",
            "raw_affiliation": [
             "Department of Animal Science, University of Kurdistan, Sanandaj, Iran"
            ],
            "researcher_id": "ur.07761373355.17"
           }
          ]
         ],
         "id": "pub.1123259623",
         "issue": "1",
         "journal": {
          "id": "jour.1032284",
          "title": "Italian Journal of Animal Science"
         },
         "pages": "75-85",
         "title": "Performance, antioxidant status, nutrient retention and serum profile responses of laying Japanese quails to increasing addition levels of dietary guanidinoacetic acid",
         "type": "article",
         "volume": "19",
         "year": 2020
        },
        {
         "author_affiliations": [
          [
           {
            "affiliations": [
             {
              "city": "Parma",
              "city_id": 3171457,
              "country": "Italy",
              "country_code": "IT",
              "id": "grid.10383.39",
              "name": "University of Parma",
              "state": null,
              "state_code": null
             }
            ],
            "corresponding": "",
            "current_organization_id": "grid.10383.39",
            "first_name": "Alberto",
            "last_name": "Sabbioni",
            "orcid": "['0000-0002-2141-6668']",
            "raw_affiliation": [
             "Dipartimento di Scienze Medico-Veterinarie, University of Parma, Parma, Italy, Correspondencealberto.sabbioni@unipr.it, http://orcid.org/0000-0002-2141-6668, View further author information"
            ],
            "researcher_id": "ur.010457016440.11"
           },
           {
            "affiliations": [
             {
              "city": "Parma",
              "city_id": 3171457,
              "country": "Italy",
              "country_code": "IT",
              "id": "grid.10383.39",
              "name": "University of Parma",
              "state": null,
              "state_code": null
             }
            ],
            "corresponding": "",
            "current_organization_id": "grid.10383.39",
            "first_name": "Valentino",
            "last_name": "Beretti",
            "orcid": "",
            "raw_affiliation": [
             "Dipartimento di Scienze Medico-Veterinarie, University of Parma, Parma, Italy, View further author information"
            ],
            "researcher_id": "ur.014311524253.30"
           },
           {
            "affiliations": [
             {
              "city": "Parma",
              "city_id": 3171457,
              "country": "Italy",
              "country_code": "IT",
              "id": "grid.10383.39",
              "name": "University of Parma",
              "state": null,
              "state_code": null
             }
            ],
            "corresponding": "",
            "current_organization_id": "grid.10383.39",
            "first_name": "Paola",
            "last_name": "Superchi",
            "orcid": "",
            "raw_affiliation": [
             "Dipartimento di Scienze Medico-Veterinarie, University of Parma, Parma, Italy, http://orcid.org/0000-0001-7605-6797, View further author information"
            ],
            "researcher_id": "ur.013755242261.20"
           },
           {
            "affiliations": [
             {
              "city": "Parma",
              "city_id": 3171457,
              "country": "Italy",
              "country_code": "IT",
              "id": "grid.10383.39",
              "name": "University of Parma",
              "state": null,
              "state_code": null
             }
            ],
            "corresponding": "",
            "current_organization_id": "grid.10383.39",
            "first_name": "Michela",
            "last_name": "Ablondi",
            "orcid": "['0000-0003-3700-1042']",
            "raw_affiliation": [
             "Dipartimento di Scienze Medico-Veterinarie, University of Parma, Parma, Italy, http://orcid.org/0000-0003-3700-1042, View further author information"
            ],
            "researcher_id": "ur.013526614661.25"
           }
          ]
         ],
         "id": "pub.1122681293",
         "issue": "1",
         "journal": {
          "id": "jour.1032284",
          "title": "Italian Journal of Animal Science"
         },
         "pages": "25-30",
         "title": "Body weight estimation from body measures in Cornigliese sheep breed",
         "type": "article",
         "volume": "19",
         "year": 2020
        },
        {
         "author_affiliations": [
          [
           {
            "affiliations": [
             {
              "city": "Hangzhou",
              "city_id": 1808926,
              "country": "China",
              "country_code": "CN",
              "id": "grid.13402.34",
              "name": "Zhejiang University",
              "state": null,
              "state_code": null
             }
            ],
            "corresponding": "",
            "current_organization_id": "",
            "first_name": "K. Y.",
            "last_name": "Yao",
            "orcid": "",
            "raw_affiliation": [
             "College of Animal Sciences, Institute of Dairy Science, Zhejiang University, Hangzhou, China, View further author information"
            ],
            "researcher_id": ""
           },
           {
            "affiliations": [
             {
              "city": "Hangzhou",
              "city_id": 1808926,
              "country": "China",
              "country_code": "CN",
              "id": "grid.13402.34",
              "name": "Zhejiang University",
              "state": null,
              "state_code": null
             }
            ],
            "corresponding": "",
            "current_organization_id": "",
            "first_name": "F. F.",
            "last_name": "Gu",
            "orcid": "",
            "raw_affiliation": [
             "College of Animal Sciences, Institute of Dairy Science, Zhejiang University, Hangzhou, China, View further author information"
            ],
            "researcher_id": ""
           },
           {
            "affiliations": [
             {
              "city": "Hangzhou",
              "city_id": 1808926,
              "country": "China",
              "country_code": "CN",
              "id": "grid.13402.34",
              "name": "Zhejiang University",
              "state": null,
              "state_code": null
             }
            ],
            "corresponding": "",
            "current_organization_id": "",
            "first_name": "J. X.",
            "last_name": "Liu",
            "orcid": "",
            "raw_affiliation": [
             "College of Animal Sciences, Institute of Dairy Science, Zhejiang University, Hangzhou, China, Correspondenceliujx@zju.edu.cn, View further author information"
            ],
            "researcher_id": ""
           }
          ]
         ],
         "id": "pub.1122487099",
         "issue": "1",
         "journal": {
          "id": "jour.1032284",
          "title": "Italian Journal of Animal Science"
         },
         "pages": "18-24",
         "title": "In vitro rumen fermentation characteristics of substrate mixtures with soybean meal partially replaced by microbially fermented yellow wine lees",
         "type": "article",
         "volume": "19",
         "year": 2020
        },
        {
         "author_affiliations": [
          [
           {
            "affiliations": [
             {
              "city": "Milan",
              "city_id": 3173435,
              "country": "Italy",
              "country_code": "IT",
              "id": "grid.8142.f",
              "name": "Catholic University of the Sacred Heart",
              "state": null,
              "state_code": null
             }
            ],
            "corresponding": "",
            "current_organization_id": "grid.8142.f",
            "first_name": "Matteo",
            "last_name": "Mezzetti",
            "orcid": "['0000-0001-6554-0022']",
            "raw_affiliation": [
             "Department of Animal Sciences, Food and Nutrition (DIANA), Facoltà di Scienze Agrarie, Alimentari e Ambientali, Università Cattolica del Sacro Cuore, Piacenza, Italy, http://orcid.org/0000-0001-6554-0022, View further author information"
            ],
            "researcher_id": "ur.011466623136.76"
           },
           {
            "affiliations": [
             {
              "city": "Milan",
              "city_id": 3173435,
              "country": "Italy",
              "country_code": "IT",
              "id": "grid.8142.f",
              "name": "Catholic University of the Sacred Heart",
              "state": null,
              "state_code": null
             }
            ],
            "corresponding": "",
            "current_organization_id": "grid.8142.f",
            "first_name": "Andrea",
            "last_name": "Minuti",
            "orcid": "['0000-0002-0617-6571']",
            "raw_affiliation": [
             "Department of Animal Sciences, Food and Nutrition (DIANA), Facoltà di Scienze Agrarie, Alimentari e Ambientali, Università Cattolica del Sacro Cuore, Piacenza, Italy, Correspondenceandrea.minuti@unicatt.it, http://orcid.org/0000-0002-0617-6571, View further author information"
            ],
            "researcher_id": "ur.0766317075.00"
           },
           {
            "affiliations": [
             {
              "city": "Milan",
              "city_id": 3173435,
              "country": "Italy",
              "country_code": "IT",
              "id": "grid.8142.f",
              "name": "Catholic University of the Sacred Heart",
              "state": null,
              "state_code": null
             }
            ],
            "corresponding": "",
            "current_organization_id": "grid.8142.f",
            "first_name": "Fiorenzo",
            "last_name": "Piccioli-Cappelli",
            "orcid": "['0000-0003-1277-7821']",
            "raw_affiliation": [
             "Department of Animal Sciences, Food and Nutrition (DIANA), Facoltà di Scienze Agrarie, Alimentari e Ambientali, Università Cattolica del Sacro Cuore, Piacenza, Italy, https://orcid.org/0000-0003-1277-7821, View further author information"
            ],
            "researcher_id": "ur.01140102514.13"
           },
           {
            "affiliations": [
             {
              "city": "Milan",
              "city_id": 3173435,
              "country": "Italy",
              "country_code": "IT",
              "id": "grid.8142.f",
              "name": "Catholic University of the Sacred Heart",
              "state": null,
              "state_code": null
             }
            ],
            "corresponding": "",
            "current_organization_id": "grid.8142.f",
            "first_name": "Erminio",
            "last_name": "Trevisi",
            "orcid": "['0000-0003-1644-1911']",
            "raw_affiliation": [
             "Department of Animal Sciences, Food and Nutrition (DIANA), Facoltà di Scienze Agrarie, Alimentari e Ambientali, Università Cattolica del Sacro Cuore, Piacenza, Italy, http://orcid.org/0000-0003-1644-1911, View further author information"
            ],
            "researcher_id": "ur.01313170207.89"
           }
          ]
         ],
         "id": "pub.1122857795",
         "issue": "1",
         "journal": {
          "id": "jour.1032284",
          "title": "Italian Journal of Animal Science"
         },
         "pages": "51-65",
         "title": "Inflammatory status and metabolic changes at dry-off in high-yield dairy cows",
         "type": "article",
         "volume": "19",
         "year": 2020
        },
        {
         "author_affiliations": [
          [
           {
            "affiliations": [
             {
              "city": "Milan",
              "city_id": 3173435,
              "country": "Italy",
              "country_code": "IT",
              "id": "grid.4708.b",
              "name": "University of Milan",
              "state": null,
              "state_code": null
             }
            ],
            "corresponding": "",
            "current_organization_id": "grid.4708.b",
            "first_name": "Alfonso",
            "last_name": "Zecconi",
            "orcid": "['0000-0002-3127-8385']",
            "raw_affiliation": [
             "Dipartimento di Scienze Biomediche Chirurgiche e Odontoiatriche, Università degli Studi di Milano, Milan, Italy;, Correspondencealfonso.zecconi@unimi.it, http://orcid.org/0000-0002-3127-8385"
            ],
            "researcher_id": "ur.0635340243.81"
           },
           {
            "affiliations": [
             {
              "city": "Milan",
              "city_id": 3173435,
              "country": "Italy",
              "country_code": "IT",
              "id": "grid.4708.b",
              "name": "University of Milan",
              "state": null,
              "state_code": null
             }
            ],
            "corresponding": "",
            "current_organization_id": "grid.4708.b",
            "first_name": "Francesca",
            "last_name": "dell’Orco",
            "orcid": "",
            "raw_affiliation": [
             "Dipartimento di Scienze Biomediche Chirurgiche e Odontoiatriche, Università degli Studi di Milano, Milan, Italy;"
            ],
            "researcher_id": "ur.010356010430.09"
           },
           {
            "affiliations": [
             {
              "city": "Crema",
              "city_id": 3177841,
              "country": "Italy",
              "country_code": "IT",
              "id": "grid.431827.b",
              "name": "Associazione Regionale Allevatori della Lombardia",
              "state": null,
              "state_code": null
             }
            ],
            "corresponding": "",
            "current_organization_id": "grid.431827.b",
            "first_name": "Nicoletta",
            "last_name": "Rizzi",
            "orcid": "",
            "raw_affiliation": [
             "Associazione Regionale Allevatori Lombardia, Crema, Italy;"
            ],
            "researcher_id": "ur.012623772141.12"
           },
           {
            "affiliations": [
             {
              "city": "Crema",
              "city_id": 3177841,
              "country": "Italy",
              "country_code": "IT",
              "id": "grid.431827.b",
              "name": "Associazione Regionale Allevatori della Lombardia",
              "state": null,
              "state_code": null
             }
            ],
            "corresponding": "",
            "current_organization_id": "grid.431827.b",
            "first_name": "Diego",
            "last_name": "Vairani",
            "orcid": "",
            "raw_affiliation": [
             "Associazione Regionale Allevatori Lombardia, Crema, Italy;"
            ],
            "researcher_id": "ur.010264003027.35"
           },
           {
            "affiliations": [
             {
              "name": "Private Practitioner, Lodi, Italy;"
             }
            ],
            "corresponding": "",
            "current_organization_id": "grid.4708.b",
            "first_name": "Micaela",
            "last_name": "Cipolla",
            "orcid": "",
            "raw_affiliation": [
             "Private Practitioner, Lodi, Italy;"
            ],
            "researcher_id": "ur.01034711271.15"
           },
           {
            "affiliations": [
             {
              "city": "Turin",
              "city_id": 3165524,
              "country": "Italy",
              "country_code": "IT",
              "id": "grid.7605.4",
              "name": "University of Turin",
              "state": null,
              "state_code": null
             }
            ],
            "corresponding": "",
            "current_organization_id": "grid.7605.4",
            "first_name": "Paolo",
            "last_name": "Pozzi",
            "orcid": "['0000-0002-0228-2537']",
            "raw_affiliation": [
             "Dipartimento di Scienze Veterinarie, Università degli Studi di Torino, Torino, Italy, http://orcid.org/0000-0002-0228-2537"
            ],
            "researcher_id": "ur.01151602312.90"
           },
           {
            "affiliations": [
             {
              "city": "Crema",
              "city_id": 3177841,
              "country": "Italy",
              "country_code": "IT",
              "id": "grid.431827.b",
              "name": "Associazione Regionale Allevatori della Lombardia",
              "state": null,
              "state_code": null
             }
            ],
            "corresponding": "",
            "current_organization_id": "grid.431827.b",
            "first_name": "Lucio",
            "last_name": "Zanini",
            "orcid": "",
            "raw_affiliation": [
             "Associazione Regionale Allevatori Lombardia, Crema, Italy;"
            ],
            "researcher_id": "ur.01040350464.64"
           }
          ]
         ],
         "id": "pub.1123232835",
         "issue": "1",
         "journal": {
          "id": "jour.1032284",
          "title": "Italian Journal of Animal Science"
         },
         "pages": "66-74",
         "title": "Cross-sectional study on the prevalence of contagious pathogens in bulk tank milk and their effects on somatic cell counts and milk yield",
         "type": "article",
         "volume": "19",
         "year": 2020
        }
       ]
      },
      "text/plain": [
       "<dimcli.Dataset object #4577655696. Records: 20/28312868>"
      ]
     },
     "execution_count": 59,
     "metadata": {
      "application/json": {
       "expanded": false,
       "root": "root"
      }
     },
     "output_type": "execute_result"
    }
   ],
   "source": [
    "%dsl search publications where open_access_categories.name=\"All\" "
   ]
  },
  {
   "cell_type": "code",
   "execution_count": 61,
   "metadata": {
    "Collapsed": "false"
   },
   "outputs": [
    {
     "name": "stdout",
     "output_type": "stream",
     "text": [
      "Returned Publications: 0\n"
     ]
    },
    {
     "data": {
      "application/json": {
       "_stats": {
        "total_count": 0
       },
       "publications": []
      },
      "text/plain": [
       "<dimcli.Dataset object #4577345168. Records: 0/0>"
      ]
     },
     "execution_count": 61,
     "metadata": {
      "application/json": {
       "expanded": false,
       "root": "root"
      }
     },
     "output_type": "execute_result"
    }
   ],
   "source": [
    "%dsl search publications where research_org_countries.name=\"All\" "
   ]
  },
  {
   "cell_type": "code",
   "execution_count": 62,
   "metadata": {
    "Collapsed": "false"
   },
   "outputs": [
    {
     "name": "stdout",
     "output_type": "stream",
     "text": [
      "Returned Publications: 0\n"
     ]
    },
    {
     "data": {
      "application/json": {
       "_stats": {
        "total_count": 0
       },
       "publications": []
      },
      "text/plain": [
       "<dimcli.Dataset object #4577674000. Records: 0/0>"
      ]
     },
     "execution_count": 62,
     "metadata": {
      "application/json": {
       "expanded": false,
       "root": "root"
      }
     },
     "output_type": "execute_result"
    }
   ],
   "source": [
    "%dsl search publications where category_for.name=\"All\" "
   ]
  },
  {
   "cell_type": "markdown",
   "metadata": {
    "Collapsed": "true",
    "colab_type": "text",
    "id": "YBSdHL4Tywj4"
   },
   "source": [
    "## [DSL-337] Remove _email field from describe\n",
    "\n",
    "https://uberresearch.atlassian.net/browse/DSL-337"
   ]
  },
  {
   "cell_type": "code",
   "execution_count": 128,
   "metadata": {
    "Collapsed": "false"
   },
   "outputs": [
    {
     "data": {
      "text/html": [
       "<div>\n",
       "<style scoped>\n",
       "    .dataframe tbody tr th:only-of-type {\n",
       "        vertical-align: middle;\n",
       "    }\n",
       "\n",
       "    .dataframe tbody tr th {\n",
       "        vertical-align: top;\n",
       "    }\n",
       "\n",
       "    .dataframe thead th {\n",
       "        text-align: right;\n",
       "    }\n",
       "</style>\n",
       "<table border=\"1\" class=\"dataframe\">\n",
       "  <thead>\n",
       "    <tr style=\"text-align: right;\">\n",
       "      <th></th>\n",
       "      <th>sources</th>\n",
       "      <th>field</th>\n",
       "      <th>type</th>\n",
       "      <th>description</th>\n",
       "      <th>is_filter</th>\n",
       "      <th>is_entity</th>\n",
       "      <th>is_facet</th>\n",
       "    </tr>\n",
       "  </thead>\n",
       "  <tbody>\n",
       "    <tr>\n",
       "      <th>0</th>\n",
       "      <td>researchers</td>\n",
       "      <td>current_research_org</td>\n",
       "      <td>organizations</td>\n",
       "      <td>The most recent research organization linked t...</td>\n",
       "      <td>True</td>\n",
       "      <td>True</td>\n",
       "      <td>True</td>\n",
       "    </tr>\n",
       "    <tr>\n",
       "      <th>1</th>\n",
       "      <td>researchers</td>\n",
       "      <td>first_grant_year</td>\n",
       "      <td>integer</td>\n",
       "      <td>First year the researcher was awarded a grant.</td>\n",
       "      <td>True</td>\n",
       "      <td>False</td>\n",
       "      <td>True</td>\n",
       "    </tr>\n",
       "    <tr>\n",
       "      <th>2</th>\n",
       "      <td>researchers</td>\n",
       "      <td>first_name</td>\n",
       "      <td>string</td>\n",
       "      <td>First Name.</td>\n",
       "      <td>True</td>\n",
       "      <td>False</td>\n",
       "      <td>False</td>\n",
       "    </tr>\n",
       "    <tr>\n",
       "      <th>3</th>\n",
       "      <td>researchers</td>\n",
       "      <td>first_publication_year</td>\n",
       "      <td>integer</td>\n",
       "      <td>None</td>\n",
       "      <td>True</td>\n",
       "      <td>False</td>\n",
       "      <td>True</td>\n",
       "    </tr>\n",
       "    <tr>\n",
       "      <th>4</th>\n",
       "      <td>researchers</td>\n",
       "      <td>id</td>\n",
       "      <td>string</td>\n",
       "      <td>Dimensions researcher ID.</td>\n",
       "      <td>True</td>\n",
       "      <td>False</td>\n",
       "      <td>False</td>\n",
       "    </tr>\n",
       "    <tr>\n",
       "      <th>5</th>\n",
       "      <td>researchers</td>\n",
       "      <td>last_grant_year</td>\n",
       "      <td>integer</td>\n",
       "      <td>Last year the researcher was awarded a grant.</td>\n",
       "      <td>True</td>\n",
       "      <td>False</td>\n",
       "      <td>True</td>\n",
       "    </tr>\n",
       "    <tr>\n",
       "      <th>6</th>\n",
       "      <td>researchers</td>\n",
       "      <td>last_name</td>\n",
       "      <td>string</td>\n",
       "      <td>Last Name.</td>\n",
       "      <td>True</td>\n",
       "      <td>False</td>\n",
       "      <td>False</td>\n",
       "    </tr>\n",
       "    <tr>\n",
       "      <th>7</th>\n",
       "      <td>researchers</td>\n",
       "      <td>last_publication_year</td>\n",
       "      <td>integer</td>\n",
       "      <td>None</td>\n",
       "      <td>True</td>\n",
       "      <td>False</td>\n",
       "      <td>True</td>\n",
       "    </tr>\n",
       "    <tr>\n",
       "      <th>8</th>\n",
       "      <td>researchers</td>\n",
       "      <td>nih_ppid</td>\n",
       "      <td>string</td>\n",
       "      <td>The PI Profile ID (i.e., ppid) is a Researcher...</td>\n",
       "      <td>True</td>\n",
       "      <td>False</td>\n",
       "      <td>False</td>\n",
       "    </tr>\n",
       "    <tr>\n",
       "      <th>9</th>\n",
       "      <td>researchers</td>\n",
       "      <td>obsolete</td>\n",
       "      <td>integer</td>\n",
       "      <td>Indicates researcher ID status. 0 means that t...</td>\n",
       "      <td>True</td>\n",
       "      <td>False</td>\n",
       "      <td>False</td>\n",
       "    </tr>\n",
       "    <tr>\n",
       "      <th>10</th>\n",
       "      <td>researchers</td>\n",
       "      <td>orcid_id</td>\n",
       "      <td>string</td>\n",
       "      <td>`ORCID &lt;https://orcid.org/&gt;`_ ID.</td>\n",
       "      <td>True</td>\n",
       "      <td>False</td>\n",
       "      <td>False</td>\n",
       "    </tr>\n",
       "    <tr>\n",
       "      <th>11</th>\n",
       "      <td>researchers</td>\n",
       "      <td>redirect</td>\n",
       "      <td>string</td>\n",
       "      <td>Indicates status of a researcher ID marked as ...</td>\n",
       "      <td>True</td>\n",
       "      <td>False</td>\n",
       "      <td>False</td>\n",
       "    </tr>\n",
       "    <tr>\n",
       "      <th>12</th>\n",
       "      <td>researchers</td>\n",
       "      <td>research_orgs</td>\n",
       "      <td>organizations</td>\n",
       "      <td>All research organizations linked to the resea...</td>\n",
       "      <td>True</td>\n",
       "      <td>True</td>\n",
       "      <td>True</td>\n",
       "    </tr>\n",
       "    <tr>\n",
       "      <th>13</th>\n",
       "      <td>researchers</td>\n",
       "      <td>total_grants</td>\n",
       "      <td>integer</td>\n",
       "      <td>Total grants count.</td>\n",
       "      <td>True</td>\n",
       "      <td>False</td>\n",
       "      <td>True</td>\n",
       "    </tr>\n",
       "    <tr>\n",
       "      <th>14</th>\n",
       "      <td>researchers</td>\n",
       "      <td>total_publications</td>\n",
       "      <td>integer</td>\n",
       "      <td>Total publications count.</td>\n",
       "      <td>True</td>\n",
       "      <td>False</td>\n",
       "      <td>True</td>\n",
       "    </tr>\n",
       "  </tbody>\n",
       "</table>\n",
       "</div>"
      ],
      "text/plain": [
       "        sources                   field           type  \\\n",
       "0   researchers    current_research_org  organizations   \n",
       "1   researchers        first_grant_year        integer   \n",
       "2   researchers              first_name         string   \n",
       "3   researchers  first_publication_year        integer   \n",
       "4   researchers                      id         string   \n",
       "5   researchers         last_grant_year        integer   \n",
       "6   researchers               last_name         string   \n",
       "7   researchers   last_publication_year        integer   \n",
       "8   researchers                nih_ppid         string   \n",
       "9   researchers                obsolete        integer   \n",
       "10  researchers                orcid_id         string   \n",
       "11  researchers                redirect         string   \n",
       "12  researchers           research_orgs  organizations   \n",
       "13  researchers            total_grants        integer   \n",
       "14  researchers      total_publications        integer   \n",
       "\n",
       "                                          description  is_filter  is_entity  \\\n",
       "0   The most recent research organization linked t...       True       True   \n",
       "1      First year the researcher was awarded a grant.       True      False   \n",
       "2                                         First Name.       True      False   \n",
       "3                                                None       True      False   \n",
       "4                           Dimensions researcher ID.       True      False   \n",
       "5       Last year the researcher was awarded a grant.       True      False   \n",
       "6                                          Last Name.       True      False   \n",
       "7                                                None       True      False   \n",
       "8   The PI Profile ID (i.e., ppid) is a Researcher...       True      False   \n",
       "9   Indicates researcher ID status. 0 means that t...       True      False   \n",
       "10                  `ORCID <https://orcid.org/>`_ ID.       True      False   \n",
       "11  Indicates status of a researcher ID marked as ...       True      False   \n",
       "12  All research organizations linked to the resea...       True       True   \n",
       "13                                Total grants count.       True      False   \n",
       "14                          Total publications count.       True      False   \n",
       "\n",
       "    is_facet  \n",
       "0       True  \n",
       "1       True  \n",
       "2      False  \n",
       "3       True  \n",
       "4      False  \n",
       "5       True  \n",
       "6      False  \n",
       "7       True  \n",
       "8      False  \n",
       "9      False  \n",
       "10     False  \n",
       "11     False  \n",
       "12      True  \n",
       "13      True  \n",
       "14      True  "
      ]
     },
     "execution_count": 128,
     "metadata": {},
     "output_type": "execute_result"
    }
   ],
   "source": [
    "%dsldocs researchers"
   ]
  },
  {
   "cell_type": "markdown",
   "metadata": {
    "Collapsed": "true",
    "colab_type": "text",
    "id": "YBSdHL4Tywj4"
   },
   "source": [
    "## [DSL-302] Empty results should be returned as null: Phase 2 - nested entity fields\n",
    "\n",
    "https://uberresearch.atlassian.net/browse/DSL-302"
   ]
  },
  {
   "cell_type": "code",
   "execution_count": 150,
   "metadata": {
    "Collapsed": "false"
   },
   "outputs": [
    {
     "name": "stdout",
     "output_type": "stream",
     "text": [
      "Returned Policy_documents: 1 (total = 1)\n"
     ]
    },
    {
     "data": {
      "text/plain": [
       "{'_stats': {'total_count': 1},\n",
       " 'policy_documents': [{'id': 'policy.432137',\n",
       "   'publisher_org': {'id': 'grid.454763.7',\n",
       "    'linkout': ['https://www.government.nl'],\n",
       "    'country_name': 'Netherlands',\n",
       "    'state_name': None,\n",
       "    'city_name': 'The Hague',\n",
       "    'name': 'Government of Netherlands',\n",
       "    'acronym': None,\n",
       "    'types': ['Government'],\n",
       "    'longitude': 4.316667,\n",
       "    'latitude': 52.083332}}]}"
      ]
     },
     "execution_count": 150,
     "metadata": {},
     "output_type": "execute_result"
    }
   ],
   "source": [
    "dsl.query(\"\"\"set return_all_keys search policy_documents where id = \"policy.432137\" return policy_documents[publisher_org+id]\"\"\").json"
   ]
  },
  {
   "cell_type": "code",
   "execution_count": 151,
   "metadata": {
    "Collapsed": "false"
   },
   "outputs": [
    {
     "name": "stdout",
     "output_type": "stream",
     "text": [
      "Returned Policy_documents: 1 (total = 1)\n"
     ]
    },
    {
     "data": {
      "text/plain": [
       "{'_stats': {'total_count': 1},\n",
       " 'policy_documents': [{'id': 'policy.432137',\n",
       "   'publisher_org': {'id': 'grid.454763.7',\n",
       "    'linkout': ['https://www.government.nl'],\n",
       "    'country_name': 'Netherlands',\n",
       "    'city_name': 'The Hague',\n",
       "    'name': 'Government of Netherlands',\n",
       "    'types': ['Government'],\n",
       "    'longitude': 4.316667,\n",
       "    'latitude': 52.083332}}]}"
      ]
     },
     "execution_count": 151,
     "metadata": {},
     "output_type": "execute_result"
    }
   ],
   "source": [
    "dsl.query(\"\"\"search policy_documents where id = \"policy.432137\" return policy_documents[publisher_org+id]\"\"\").json"
   ]
  },
  {
   "cell_type": "markdown",
   "metadata": {
    "Collapsed": "true",
    "colab_type": "text",
    "id": "YBSdHL4Tywj4"
   },
   "source": [
    "## [DSL-335] Improve error messages.\n",
    "\n",
    "https://uberresearch.atlassian.net/browse/DSL-335"
   ]
  },
  {
   "cell_type": "markdown",
   "metadata": {
    "Collapsed": "false"
   },
   "source": [
    "**1 - query taking too long to run**"
   ]
  },
  {
   "cell_type": "code",
   "execution_count": 148,
   "metadata": {
    "Collapsed": "false"
   },
   "outputs": [
    {
     "name": "stdout",
     "output_type": "stream",
     "text": [
      "Returned Errors: 1\n",
      "1 EvaluationError found\n",
      "The response generated by your query is too large, e.g. because it includes records with lots of data. Please review it by keeping in mind the guidelines on https://docs.dimensions.ai/dsl/1.22.0-preview/faq.html#queries-and-errors [code: 2]\n"
     ]
    },
    {
     "data": {
      "application/json": {
       "errors": {
        "query": {
         "details": [
          "The response generated by your query is too large, e.g. because it includes records with lots of data. Please review it by keeping in mind the guidelines on https://docs.dimensions.ai/dsl/1.22.0-preview/faq.html#queries-and-errors [code: 2]"
         ],
         "header": "1 EvaluationError found\n",
         "query": "search publications where research_orgs=\"grid.9132.9\" return publications [all] limit 1000 skip 0"
        }
       }
      },
      "text/plain": [
       "<dimcli.Dataset object #4622459792. Errors: 1>"
      ]
     },
     "execution_count": 148,
     "metadata": {
      "application/json": {
       "expanded": false,
       "root": "root"
      }
     },
     "output_type": "execute_result"
    }
   ],
   "source": [
    "dsl.query(\"\"\"search publications where research_orgs=\"grid.9132.9\" return publications [all] limit 1000 skip 0\"\"\")"
   ]
  },
  {
   "cell_type": "markdown",
   "metadata": {
    "Collapsed": "false"
   },
   "source": [
    "**2 - query returning a large response**"
   ]
  },
  {
   "cell_type": "code",
   "execution_count": 149,
   "metadata": {
    "Collapsed": "false"
   },
   "outputs": [
    {
     "name": "stdout",
     "output_type": "stream",
     "text": [
      "Returned Errors: 1\n",
      "1 EvaluationError found\n",
      "The response generated by your query is too large, e.g. because it includes records with lots of data. Please review it by keeping in mind the guidelines on https://docs.dimensions.ai/dsl/1.22.0-preview/faq.html#queries-and-errors [code: 2]\n"
     ]
    },
    {
     "data": {
      "application/json": {
       "errors": {
        "query": {
         "details": [
          "The response generated by your query is too large, e.g. because it includes records with lots of data. Please review it by keeping in mind the guidelines on https://docs.dimensions.ai/dsl/1.22.0-preview/faq.html#queries-and-errors [code: 2]"
         ],
         "header": "1 EvaluationError found\n",
         "query": "search publications for \"0000-0001-5770-4883\" return publications [author_affiliations] limit 500 skip 0"
        }
       }
      },
      "text/plain": [
       "<dimcli.Dataset object #4622474512. Errors: 1>"
      ]
     },
     "execution_count": 149,
     "metadata": {
      "application/json": {
       "expanded": false,
       "root": "root"
      }
     },
     "output_type": "execute_result"
    }
   ],
   "source": [
    "dsl.query(\"\"\"search publications for \"0000-0001-5770-4883\" return publications [author_affiliations] limit 500 skip 0\"\"\")"
   ]
  },
  {
   "cell_type": "markdown",
   "metadata": {
    "Collapsed": "false"
   },
   "source": [
    "**3 - query which is too long**"
   ]
  },
  {
   "cell_type": "markdown",
   "metadata": {
    "Collapsed": "false"
   },
   "source": [
    "Query with lots of keywords fails with over 10k chars..."
   ]
  },
  {
   "cell_type": "code",
   "execution_count": 144,
   "metadata": {
    "Collapsed": "false"
   },
   "outputs": [
    {
     "name": "stdout",
     "output_type": "stream",
     "text": [
      "16373\n"
     ]
    }
   ],
   "source": [
    "q = \"\"\"search publications for \"comprehensive taxonomic revision OR taxonomic revision OR revision OR Acacia OR China OR indigenous species OR species OR critical reassessment OR reassessment OR segregates OR profile OR line drawings OR distribution maps OR maps OR photographs OR plants OR genus OR introduction OR countries OR Britton OR Rose OR Wight OR Arn OR identification key OR key OR Sect OR Maslin OR consequences OR study OR number OR new species OR Senegalia OR new combination OR combination OR Seigler OR Ebinger OR new records OR records OR lectotype OR lectotypification OR Franch OR Kurz OR Hayata OR ex Benth OR Benth OR neotype OR comprehensive taxonomic revision OR taxonomic revision OR revision OR Acacia OR China OR indigenous species OR species OR critical reassessment OR reassessment OR segregates OR profile OR line drawings OR distribution maps OR maps OR photographs OR plants OR genus OR introduction OR countries OR Britton OR Rose OR Wight OR Arn OR identification key OR key OR Sect OR Maslin OR consequences OR study OR number OR new species OR Senegalia OR new combination OR combination OR Seigler OR Ebinger OR new records OR records OR lectotype OR lectotypification OR Franch OR Kurz OR Hayata OR ex Benth OR Benth OR neotype OR area OR species-richness OR richness OR Asia OR high degree OR degree OR endemism OR Yunnan OR most species OR diverse provinces OR Province OR species of Acacia OR Vachelli OR patient conversations OR patient values OR serious illness OR illness OR better outcomes OR outcomes OR cancer care OR care OR efficacy OR quality-improvement interventions OR improvement interventions OR intervention OR occurrence OR timing OR quality OR serious illness conversations OR oncology clinicians OR clinicians OR patients OR advanced cancer OR cancer OR setting OR participants OR cluster randomized clinical trial OR randomized clinical trial OR clinical trials OR trials OR outpatient oncology OR oncology OR Dana-Farber Cancer Institute OR Cancer Institute OR Institute OR physicians OR practice clinicians OR high risk OR risk OR death OR MAIN OUTCOME OR measures OR primary outcome OR Secondary outcomes OR documentation OR initial conversation OR electronic medical records OR medical records OR records OR study OR age OR years OR women OR practice OR females OR medical record review OR record review OR review OR patient death OR higher proportion OR proportion OR intervention patients OR control OR intervention conversations OR median OR months OR greater focus OR prognosis OR illness understanding OR life OR treatment preferences OR end OR life care planning OR care planning OR arm OR more intervention patients OR conclusion OR relevance OR knowledge OR first such study OR such studies OR improvement OR registration OR Improve Communication OR protonproton collisions OR proton collisions OR collisions OR ATLAS detector OR detector OR Large Hadron Collider OR Hadron Collider OR Collider OR center OR mass energy OR energy OR luminosity OR FB OR leptons OR electrons OR muons OR electroweak production OR bosons OR observed significance OR deviation OR fiducial cross-sections OR cross-section OR sections OR interference effects OR effects OR leptonic decay modes OR decay modes OR mode OR EW OR differential fiducial cross-sections OR sum OR electroweak OR strong production OR kinematic observables OR observables OR boson pair production OR pair production OR pp collisions OR TeV OR intrinsic porous structure OR porous structure OR structure OR unique chemical versatility OR chemical versatility OR versatility OR application opportunities OR MOF membranes OR membrane OR research enthusiasm OR ceramic substrate OR substrate OR flexibility OR synthesis OR ZIF-8 membranes OR polyethersulfone hollow fibers OR hollow fibers OR fibers OR facile seed OR method OR resultant membranes OR electron microscopy OR microscopy OR energy dispersive X OR dispersive X OR rays OR ray diffraction OR diffraction OR Fourier OR infrared spectroscopy OR spectroscopy OR prepared membranes OR compact structure OR performance OR H2 OR CO2 OR N2 OR CH4 OR H2 permeance OR permeance OR preferential adsorption OR adsorption OR composite membranes OR high permeance OR potential applications OR applications OR efficient CO2 capture OR CO2 capture OR capture OR industrial mixtures OR mixture OR gas permeation OR permeation OR amount OR ZIF-8 crystals OR crystals OR membrane thickness OR thickness OR reproducibility OR seeding method OR strong adhesion OR adhesion OR ZIF-8 OR PESF OR excellent stability OR stability OR good reproducibility OR simple seed OR onset OR puberty OR increase OR secretion OR hypothalamic gonadotrophin OR gonadotrophin OR hormone OR action OR development OR stimulatory inputs OR release OR gradual decrease OR decrease OR inhibitory inputs OR peptides OR pubertal onset OR dynorphin OR medial basal hypothalamus OR basal hypothalamus OR hypothalamus OR neurokinin B OR puberty approaches OR candidates OR role OR initial study OR study OR acute effects OR effects OR agonists OR senktide OR MBH tissue OR tissue OR vitro OR central injection OR injection OR animals OR days OR assessment OR vitro secretion OR GnRH OR insulin-like growth factor OR like growth factor OR growth factor OR factors OR important role OR additional animals OR administration OR receptor protein OR protein OR receptors OR GnRH secretion OR tissue incubates OR incubates OR chronic studies OR central administration OR identification algorithm OR algorithm OR collisions OR ATLAS experiment OR experiments OR set of techniques OR set OR technique OR jet shape observables OR tagger OR use OR physics analysis OR utility of combinations OR utility OR combination OR decision tree OR trees OR deep neural networks OR neural network OR network OR two-variable combination OR variable combinations OR quark tagging OR tagging OR constituent inputs OR input OR re-optimization OR optimization OR deconstruction techniques OR data OR event topology OR topology OR atlases OR cross-section OR sections OR top-quark pair OR quark pairs OR pairs OR photons OR proton-proton collision data OR collision data OR luminosity OR fb-1 OR ATLAS detector OR detector OR LHC OR center OR mass energy OR energy OR TeV. OR measurements OR dilepton final states OR final state OR state OR fiducial volume OR leptons OR jet OR signal OR background OR fiducial cross-sections OR FB OR dilepton channel OR channels OR function OR photon transverse momentum OR transverse momentum OR momentum OR absolute pseudorapidity OR pseudorapidity OR angular distance OR distance OR azimuthal opening angle OR opening angle OR angle OR pseudorapidity difference OR agreement OR theoretical predictions OR prediction OR differential fiducial cross-sections OR leptonic final states OR atlases OR new particles OR particles OR pairs OR top quark OR quarks OR proton-proton collision data OR collision data OR ATLAS detector OR detector OR Large Hadron Collider OR Hadron Collider OR Collider OR center OR mass energy OR energy OR TeV OR luminosity OR fb-1 OR top-quark pair production OR quark pair production OR pair production OR hadronic decay modes OR decay modes OR mode OR high transverse momentum jets OR momentum jets OR jet OR hadrons OR analysis techniques OR technique OR reconstruction OR different kinematic regimes OR kinematic regime OR regime OR search sensitivity OR sensitivity OR hypothetical particles OR wide mass range OR mass range OR range OR invariant mass distribution OR mass distribution OR distribution OR quark candidates OR candidates OR resonant production OR spin OR decay widths OR width OR significant deviations OR deviation OR standard model prediction OR model predictions OR prediction OR limit OR production cross-section times OR cross-section time OR section times OR time OR fraction OR boson OR bosons OR Kaluza-Klein gravitons OR gravitons OR Kaluza-Klein gluons OR gluons OR production cross sections OR cross sections OR sections OR technicolor models OR model OR mass OR simplified framework OR heavy particles OR top-quark pair OR quark pairs OR hadronic final states OR final state OR state OR pp collisions OR collisions OR taxonomic revision OR revision OR Acacia OR China OR indigenous species OR species OR critical reassessment OR reassessment OR segregates OR profile OR line drawings OR distribution maps OR maps OR photographs OR plants OR genus OR introduction OR countries OR Britton OR Rose OR Wight OR Arn OR identification key OR key OR Sect OR Maslin OR consequences OR study OR number OR new species OR Senegalia OR new combination OR combination OR Seigler OR Ebinger OR new records OR records OR lectotype OR lectotypification OR Franch OR Kurz OR Hayata OR ex Benth OR Benth OR neotype OR comprehensive taxonomic revision OR taxonomic revision OR revision OR Acacia OR China OR indigenous species OR species OR critical reassessment OR reassessment OR segregates OR profile OR line drawings OR distribution maps OR maps OR photographs OR plants OR genus OR introduction OR countries OR Britton OR Rose OR Wight OR Arn OR identification key OR key OR Sect OR Maslin OR consequences OR study OR number OR new species OR Senegalia OR new combination OR combination OR Seigler OR Ebinger OR new records OR records OR lectotype OR lectotypification OR Franch OR Kurz OR Hayata OR ex Benth OR Benth OR neotype OR area OR species-richness OR richness OR Asia OR high degree OR degree OR endemism OR Yunnan OR most species OR diverse provinces OR Province OR species of Acacia OR Vachelli OR patient conversations OR patient values OR serious illness OR illness OR better outcomes OR outcomes OR cancer care OR care OR efficacy OR quality-improvement interventions OR improvement interventions OR intervention OR occurrence OR timing OR quality OR serious illness conversations OR oncology clinicians OR clinicians OR patients OR advanced cancer OR cancer OR setting OR participants OR cluster randomized clinical trial OR randomized clinical trial OR clinical trials OR trials OR outpatient oncology OR oncology OR Dana-Farber Cancer Institute OR Cancer Institute OR Institute OR physicians OR practice clinicians OR high risk OR risk OR death OR MAIN OUTCOME OR measures OR primary outcome OR Secondary outcomes OR documentation OR initial conversation OR electronic medical records OR medical records OR records OR study OR age OR years OR women OR practice OR females OR medical record review OR record review OR review OR patient death OR higher proportion OR proportion OR intervention patients OR control OR intervention conversations OR median OR months OR greater focus OR prognosis OR illness understanding OR life OR treatment preferences OR end OR life care planning OR care planning OR arm OR more intervention patients OR conclusion OR relevance OR knowledge OR first such study OR such studies OR improvement OR registration OR Improve Communication OR protonproton collisions OR proton collisions OR collisions OR ATLAS detector OR detector OR Large Hadron Collider OR Hadron Collider OR Collider OR center OR mass energy OR energy OR luminosity OR FB OR leptons OR electrons OR muons OR electroweak production OR bosons OR observed significance OR deviation OR fiducial cross-sections OR cross-section OR sections OR interference effects OR effects OR leptonic decay modes OR decay modes OR mode OR EW OR differential fiducial cross-sections OR sum OR electroweak OR strong production OR kinematic observables OR observables OR boson pair production OR pair production OR pp collisions OR TeV OR intrinsic porous structure OR porous structure OR structure OR unique chemical versatility OR chemical versatility OR versatility OR application opportunities OR MOF membranes OR membrane OR research enthusiasm OR ceramic substrate OR substrate OR flexibility OR synthesis OR ZIF-8 membranes OR polyethersulfone hollow fibers OR hollow fibers OR fibers OR facile seed OR method OR resultant membranes OR electron microscopy OR microscopy OR energy dispersive X OR dispersive X OR rays OR ray diffraction OR diffraction OR Fourier OR infrared spectroscopy OR spectroscopy OR prepared membranes OR compact structure OR performance OR H2 OR CO2 OR N2 OR CH4 OR H2 permeance OR permeance OR preferential adsorption OR adsorption OR composite membranes OR high permeance OR potential applications OR applications OR efficient CO2 capture OR CO2 capture OR capture OR industrial mixtures OR mixture OR gas permeation OR permeation OR amount OR ZIF-8 crystals OR crystals OR membrane thickness OR thickness OR reproducibility OR seeding method OR strong adhesion OR adhesion OR ZIF-8 OR PESF OR excellent stability OR stability OR good reproducibility OR simple seed OR onset OR puberty OR increase OR secretion OR hypothalamic gonadotrophin OR gonadotrophin OR hormone OR action OR development OR stimulatory inputs OR release OR gradual decrease OR decrease OR inhibitory inputs OR peptides OR pubertal onset OR dynorphin OR medial basal hypothalamus OR basal hypothalamus OR hypothalamus OR neurokinin B OR puberty approaches OR candidates OR role OR initial study OR study OR acute effects OR effects OR agonists OR senktide OR MBH tissue OR tissue OR vitro OR central injection OR injection OR animals OR days OR assessment OR vitro secretion OR GnRH OR insulin-like growth factor OR like growth factor OR growth factor OR factors OR important role OR additional animals OR administration OR receptor protein OR protein OR receptors OR GnRH secretion OR tissue incubates OR incubates OR chronic studies OR central administration OR identification algorithm OR algorithm OR collisions OR ATLAS experiment OR experiments OR set of techniques OR set OR technique OR jet shape observables OR tagger OR use OR physics analysis OR utility of combinations OR utility OR combination OR decision tree OR trees OR deep neural networks OR neural network OR network OR two-variable combination OR variable combinations OR quark tagging OR tagging OR constituent inputs OR input OR re-optimization OR optimization OR deconstruction techniques OR data OR event topology OR topology OR atlases OR cross-section OR sections OR top-quark pair OR quark pairs OR pairs OR photons OR proton-proton collision data OR collision data OR luminosity OR fb-1 OR ATLAS detector OR detector OR LHC OR center OR mass energy OR energy OR TeV. OR measurements OR dilepton final states OR final state OR state OR fiducial volume OR leptons OR jet OR signal OR background OR fiducial cross-sections OR FB OR dilepton channel OR channels OR function OR photon transverse momentum OR transverse momentum OR momentum OR absolute pseudorapidity OR pseudorapidity OR angular distance OR distance OR azimuthal opening angle OR opening angle OR angle OR pseudorapidity difference OR agreement OR theoretical predictions OR prediction OR differential fiducial cross-sections OR leptonic final states OR atlases OR new particles OR particles OR pairs OR top quark OR quarks OR proton-proton collision data OR collision data OR ATLAS detector OR detector OR Large Hadron Collider OR Hadron Collider OR Collider OR center OR mass energy OR energy OR TeV OR luminosity OR fb-1 OR top-quark pair production OR quark pair production OR pair production OR hadronic decay modes OR decay modes OR mode OR high transverse momentum jets OR momentum jets OR jet OR hadrons OR analysis techniques OR technique OR reconstruction OR different kinematic regimes OR kinematic regime OR regime OR search sensitivity OR sensitivity OR hypothetical particles OR wide mass range OR mass range OR range OR invariant mass distribution OR mass distribution OR distribution OR quark candidates OR candidates OR resonant production OR spin OR decay widths OR width OR significant deviations OR deviation OR standard model prediction OR model predictions OR prediction OR limit OR production cross-section times OR cross-section time OR section times OR time OR fraction OR boson OR bosons OR Kaluza-Klein gravitons OR gravitons OR Kaluza-Klein gluons OR gluons OR production cross sections OR cross sections OR sections OR technicolor models OR model OR mass OR simplified framework OR heavy particles OR top-quark pair OR quark pairs OR hadronic final states OR final state OR state OR pp collisions OR collisions\" return publications \"\"\"\n",
    "print(len(q))"
   ]
  },
  {
   "cell_type": "code",
   "execution_count": 145,
   "metadata": {
    "Collapsed": "false"
   },
   "outputs": [
    {
     "name": "stdout",
     "output_type": "stream",
     "text": [
      "Returned Errors: 1\n",
      "1 EvaluationError found\n",
      "Your query is too long e.g. because it includes too many filters. Please review it by keeping in mind the guidelines on https://docs.dimensions.ai/dsl/1.22.0-preview/faq.html#queries-and-errors [code: 3]\n"
     ]
    },
    {
     "data": {
      "application/json": {
       "errors": {
        "query": {
         "details": [
          "Your query is too long e.g. because it includes too many filters. Please review it by keeping in mind the guidelines on https://docs.dimensions.ai/dsl/1.22.0-preview/faq.html#queries-and-errors [code: 3]"
         ],
         "header": "1 EvaluationError found\n",
         "query": "search publications for \"comprehensive taxonomic revision OR taxonomic revision OR revision OR Acacia OR China OR indigenous species OR species OR critical reassessment OR reassessment OR segregates OR profile OR line drawings OR distribution maps OR maps OR photographs OR plants OR genus OR introduction OR countries OR Britton OR Rose OR Wight OR Arn OR identification key OR key OR Sect OR Maslin OR consequences OR study OR number OR new species OR Senegalia OR new combination OR combination OR Seigler OR Ebinger OR new records OR records OR lectotype OR lectotypification OR Franch OR Kurz OR Hayata OR ex Benth OR Benth OR neotype OR comprehensive taxonomic revision OR taxonomic revision OR revision OR Acacia OR China OR indigenous species OR species OR critical reassessment OR reassessment OR segregates OR profile OR line drawings OR distribution maps OR maps OR photographs OR plants OR genus OR introduction OR countries OR Britton OR Rose OR Wight OR Arn OR identification key OR key OR Sect OR Maslin OR consequences OR study OR number OR new species OR Senegalia OR new combination OR combination OR Seigler OR Ebinger OR new records OR records OR lectotype OR lectotypification OR Franch OR Kurz OR Hayata OR ex Benth OR Benth OR neotype OR area OR species-richness OR richness OR Asia OR high degree OR degree OR endemism OR Yunnan OR most species OR diverse provinces OR Province OR species of Acacia OR Vachelli OR patient conversations OR patient values OR serious illness OR illness OR better outcomes OR outcomes OR cancer care OR care OR efficacy OR quality-improvement interventions OR improvement interventions OR intervention OR occurrence OR timing OR quality OR serious illness conversations OR oncology clinicians OR clinicians OR patients OR advanced cancer OR cancer OR setting OR participants OR cluster randomized clinical trial OR randomized clinical trial OR clinical trials OR trials OR outpatient oncology OR oncology OR Dana-Farber Cancer Institute OR Cancer Institute OR Institute OR physicians OR practice clinicians OR high risk OR risk OR death OR MAIN OUTCOME OR measures OR primary outcome OR Secondary outcomes OR documentation OR initial conversation OR electronic medical records OR medical records OR records OR study OR age OR years OR women OR practice OR females OR medical record review OR record review OR review OR patient death OR higher proportion OR proportion OR intervention patients OR control OR intervention conversations OR median OR months OR greater focus OR prognosis OR illness understanding OR life OR treatment preferences OR end OR life care planning OR care planning OR arm OR more intervention patients OR conclusion OR relevance OR knowledge OR first such study OR such studies OR improvement OR registration OR Improve Communication OR protonproton collisions OR proton collisions OR collisions OR ATLAS detector OR detector OR Large Hadron Collider OR Hadron Collider OR Collider OR center OR mass energy OR energy OR luminosity OR FB OR leptons OR electrons OR muons OR electroweak production OR bosons OR observed significance OR deviation OR fiducial cross-sections OR cross-section OR sections OR interference effects OR effects OR leptonic decay modes OR decay modes OR mode OR EW OR differential fiducial cross-sections OR sum OR electroweak OR strong production OR kinematic observables OR observables OR boson pair production OR pair production OR pp collisions OR TeV OR intrinsic porous structure OR porous structure OR structure OR unique chemical versatility OR chemical versatility OR versatility OR application opportunities OR MOF membranes OR membrane OR research enthusiasm OR ceramic substrate OR substrate OR flexibility OR synthesis OR ZIF-8 membranes OR polyethersulfone hollow fibers OR hollow fibers OR fibers OR facile seed OR method OR resultant membranes OR electron microscopy OR microscopy OR energy dispersive X OR dispersive X OR rays OR ray diffraction OR diffraction OR Fourier OR infrared spectroscopy OR spectroscopy OR prepared membranes OR compact structure OR performance OR H2 OR CO2 OR N2 OR CH4 OR H2 permeance OR permeance OR preferential adsorption OR adsorption OR composite membranes OR high permeance OR potential applications OR applications OR efficient CO2 capture OR CO2 capture OR capture OR industrial mixtures OR mixture OR gas permeation OR permeation OR amount OR ZIF-8 crystals OR crystals OR membrane thickness OR thickness OR reproducibility OR seeding method OR strong adhesion OR adhesion OR ZIF-8 OR PESF OR excellent stability OR stability OR good reproducibility OR simple seed OR onset OR puberty OR increase OR secretion OR hypothalamic gonadotrophin OR gonadotrophin OR hormone OR action OR development OR stimulatory inputs OR release OR gradual decrease OR decrease OR inhibitory inputs OR peptides OR pubertal onset OR dynorphin OR medial basal hypothalamus OR basal hypothalamus OR hypothalamus OR neurokinin B OR puberty approaches OR candidates OR role OR initial study OR study OR acute effects OR effects OR agonists OR senktide OR MBH tissue OR tissue OR vitro OR central injection OR injection OR animals OR days OR assessment OR vitro secretion OR GnRH OR insulin-like growth factor OR like growth factor OR growth factor OR factors OR important role OR additional animals OR administration OR receptor protein OR protein OR receptors OR GnRH secretion OR tissue incubates OR incubates OR chronic studies OR central administration OR identification algorithm OR algorithm OR collisions OR ATLAS experiment OR experiments OR set of techniques OR set OR technique OR jet shape observables OR tagger OR use OR physics analysis OR utility of combinations OR utility OR combination OR decision tree OR trees OR deep neural networks OR neural network OR network OR two-variable combination OR variable combinations OR quark tagging OR tagging OR constituent inputs OR input OR re-optimization OR optimization OR deconstruction techniques OR data OR event topology OR topology OR atlases OR cross-section OR sections OR top-quark pair OR quark pairs OR pairs OR photons OR proton-proton collision data OR collision data OR luminosity OR fb-1 OR ATLAS detector OR detector OR LHC OR center OR mass energy OR energy OR TeV. OR measurements OR dilepton final states OR final state OR state OR fiducial volume OR leptons OR jet OR signal OR background OR fiducial cross-sections OR FB OR dilepton channel OR channels OR function OR photon transverse momentum OR transverse momentum OR momentum OR absolute pseudorapidity OR pseudorapidity OR angular distance OR distance OR azimuthal opening angle OR opening angle OR angle OR pseudorapidity difference OR agreement OR theoretical predictions OR prediction OR differential fiducial cross-sections OR leptonic final states OR atlases OR new particles OR particles OR pairs OR top quark OR quarks OR proton-proton collision data OR collision data OR ATLAS detector OR detector OR Large Hadron Collider OR Hadron Collider OR Collider OR center OR mass energy OR energy OR TeV OR luminosity OR fb-1 OR top-quark pair production OR quark pair production OR pair production OR hadronic decay modes OR decay modes OR mode OR high transverse momentum jets OR momentum jets OR jet OR hadrons OR analysis techniques OR technique OR reconstruction OR different kinematic regimes OR kinematic regime OR regime OR search sensitivity OR sensitivity OR hypothetical particles OR wide mass range OR mass range OR range OR invariant mass distribution OR mass distribution OR distribution OR quark candidates OR candidates OR resonant production OR spin OR decay widths OR width OR significant deviations OR deviation OR standard model prediction OR model predictions OR prediction OR limit OR production cross-section times OR cross-section time OR section times OR time OR fraction OR boson OR bosons OR Kaluza-Klein gravitons OR gravitons OR Kaluza-Klein gluons OR gluons OR production cross sections OR cross sections OR sections OR technicolor models OR model OR mass OR simplified framework OR heavy particles OR top-quark pair OR quark pairs OR hadronic final states OR final state OR state OR pp collisions OR collisions OR taxonomic revision OR revision OR Acacia OR China OR indigenous species OR species OR critical reassessment OR reassessment OR segregates OR profile OR line drawings OR distribution maps OR maps OR photographs OR plants OR genus OR introduction OR countries OR Britton OR Rose OR Wight OR Arn OR identification key OR key OR Sect OR Maslin OR consequences OR study OR number OR new species OR Senegalia OR new combination OR combination OR Seigler OR Ebinger OR new records OR records OR lectotype OR lectotypification OR Franch OR Kurz OR Hayata OR ex Benth OR Benth OR neotype OR comprehensive taxonomic revision OR taxonomic revision OR revision OR Acacia OR China OR indigenous species OR species OR critical reassessment OR reassessment OR segregates OR profile OR line drawings OR distribution maps OR maps OR photographs OR plants OR genus OR introduction OR countries OR Britton OR Rose OR Wight OR Arn OR identification key OR key OR Sect OR Maslin OR consequences OR study OR number OR new species OR Senegalia OR new combination OR combination OR Seigler OR Ebinger OR new records OR records OR lectotype OR lectotypification OR Franch OR Kurz OR Hayata OR ex Benth OR Benth OR neotype OR area OR species-richness OR richness OR Asia OR high degree OR degree OR endemism OR Yunnan OR most species OR diverse provinces OR Province OR species of Acacia OR Vachelli OR patient conversations OR patient values OR serious illness OR illness OR better outcomes OR outcomes OR cancer care OR care OR efficacy OR quality-improvement interventions OR improvement interventions OR intervention OR occurrence OR timing OR quality OR serious illness conversations OR oncology clinicians OR clinicians OR patients OR advanced cancer OR cancer OR setting OR participants OR cluster randomized clinical trial OR randomized clinical trial OR clinical trials OR trials OR outpatient oncology OR oncology OR Dana-Farber Cancer Institute OR Cancer Institute OR Institute OR physicians OR practice clinicians OR high risk OR risk OR death OR MAIN OUTCOME OR measures OR primary outcome OR Secondary outcomes OR documentation OR initial conversation OR electronic medical records OR medical records OR records OR study OR age OR years OR women OR practice OR females OR medical record review OR record review OR review OR patient death OR higher proportion OR proportion OR intervention patients OR control OR intervention conversations OR median OR months OR greater focus OR prognosis OR illness understanding OR life OR treatment preferences OR end OR life care planning OR care planning OR arm OR more intervention patients OR conclusion OR relevance OR knowledge OR first such study OR such studies OR improvement OR registration OR Improve Communication OR protonproton collisions OR proton collisions OR collisions OR ATLAS detector OR detector OR Large Hadron Collider OR Hadron Collider OR Collider OR center OR mass energy OR energy OR luminosity OR FB OR leptons OR electrons OR muons OR electroweak production OR bosons OR observed significance OR deviation OR fiducial cross-sections OR cross-section OR sections OR interference effects OR effects OR leptonic decay modes OR decay modes OR mode OR EW OR differential fiducial cross-sections OR sum OR electroweak OR strong production OR kinematic observables OR observables OR boson pair production OR pair production OR pp collisions OR TeV OR intrinsic porous structure OR porous structure OR structure OR unique chemical versatility OR chemical versatility OR versatility OR application opportunities OR MOF membranes OR membrane OR research enthusiasm OR ceramic substrate OR substrate OR flexibility OR synthesis OR ZIF-8 membranes OR polyethersulfone hollow fibers OR hollow fibers OR fibers OR facile seed OR method OR resultant membranes OR electron microscopy OR microscopy OR energy dispersive X OR dispersive X OR rays OR ray diffraction OR diffraction OR Fourier OR infrared spectroscopy OR spectroscopy OR prepared membranes OR compact structure OR performance OR H2 OR CO2 OR N2 OR CH4 OR H2 permeance OR permeance OR preferential adsorption OR adsorption OR composite membranes OR high permeance OR potential applications OR applications OR efficient CO2 capture OR CO2 capture OR capture OR industrial mixtures OR mixture OR gas permeation OR permeation OR amount OR ZIF-8 crystals OR crystals OR membrane thickness OR thickness OR reproducibility OR seeding method OR strong adhesion OR adhesion OR ZIF-8 OR PESF OR excellent stability OR stability OR good reproducibility OR simple seed OR onset OR puberty OR increase OR secretion OR hypothalamic gonadotrophin OR gonadotrophin OR hormone OR action OR development OR stimulatory inputs OR release OR gradual decrease OR decrease OR inhibitory inputs OR peptides OR pubertal onset OR dynorphin OR medial basal hypothalamus OR basal hypothalamus OR hypothalamus OR neurokinin B OR puberty approaches OR candidates OR role OR initial study OR study OR acute effects OR effects OR agonists OR senktide OR MBH tissue OR tissue OR vitro OR central injection OR injection OR animals OR days OR assessment OR vitro secretion OR GnRH OR insulin-like growth factor OR like growth factor OR growth factor OR factors OR important role OR additional animals OR administration OR receptor protein OR protein OR receptors OR GnRH secretion OR tissue incubates OR incubates OR chronic studies OR central administration OR identification algorithm OR algorithm OR collisions OR ATLAS experiment OR experiments OR set of techniques OR set OR technique OR jet shape observables OR tagger OR use OR physics analysis OR utility of combinations OR utility OR combination OR decision tree OR trees OR deep neural networks OR neural network OR network OR two-variable combination OR variable combinations OR quark tagging OR tagging OR constituent inputs OR input OR re-optimization OR optimization OR deconstruction techniques OR data OR event topology OR topology OR atlases OR cross-section OR sections OR top-quark pair OR quark pairs OR pairs OR photons OR proton-proton collision data OR collision data OR luminosity OR fb-1 OR ATLAS detector OR detector OR LHC OR center OR mass energy OR energy OR TeV. OR measurements OR dilepton final states OR final state OR state OR fiducial volume OR leptons OR jet OR signal OR background OR fiducial cross-sections OR FB OR dilepton channel OR channels OR function OR photon transverse momentum OR transverse momentum OR momentum OR absolute pseudorapidity OR pseudorapidity OR angular distance OR distance OR azimuthal opening angle OR opening angle OR angle OR pseudorapidity difference OR agreement OR theoretical predictions OR prediction OR differential fiducial cross-sections OR leptonic final states OR atlases OR new particles OR particles OR pairs OR top quark OR quarks OR proton-proton collision data OR collision data OR ATLAS detector OR detector OR Large Hadron Collider OR Hadron Collider OR Collider OR center OR mass energy OR energy OR TeV OR luminosity OR fb-1 OR top-quark pair production OR quark pair production OR pair production OR hadronic decay modes OR decay modes OR mode OR high transverse momentum jets OR momentum jets OR jet OR hadrons OR analysis techniques OR technique OR reconstruction OR different kinematic regimes OR kinematic regime OR regime OR search sensitivity OR sensitivity OR hypothetical particles OR wide mass range OR mass range OR range OR invariant mass distribution OR mass distribution OR distribution OR quark candidates OR candidates OR resonant production OR spin OR decay widths OR width OR significant deviations OR deviation OR standard model prediction OR model predictions OR prediction OR limit OR production cross-section times OR cross-section time OR section times OR time OR fraction OR boson OR bosons OR Kaluza-Klein gravitons OR gravitons OR Kaluza-Klein gluons OR gluons OR production cross sections OR cross sections OR sections OR technicolor models OR model OR mass OR simplified framework OR heavy particles OR top-quark pair OR quark pairs OR hadronic final states OR final state OR state OR pp collisions OR collisions\" return publications "
        }
       }
      },
      "text/plain": [
       "<dimcli.Dataset object #4622434704. Errors: 1>"
      ]
     },
     "execution_count": 145,
     "metadata": {
      "application/json": {
       "expanded": false,
       "root": "root"
      }
     },
     "output_type": "execute_result"
    }
   ],
   "source": [
    "dsl.query(q)"
   ]
  },
  {
   "cell_type": "markdown",
   "metadata": {
    "Collapsed": "false"
   },
   "source": [
    "Trying a query with lots of where statements - seems to fails after 8k chars"
   ]
  },
  {
   "cell_type": "code",
   "execution_count": 146,
   "metadata": {
    "Collapsed": "false"
   },
   "outputs": [
    {
     "name": "stdout",
     "output_type": "stream",
     "text": [
      "8042\n"
     ]
    }
   ],
   "source": [
    "years_clause = \" or \".join([ \" year = %s\" % y for y in  [x for x in range(1500, 2000)]])\n",
    "q = f\"\"\"search publications where {years_clause} return publications\"\"\"\n",
    "print(len(q))"
   ]
  },
  {
   "cell_type": "code",
   "execution_count": 147,
   "metadata": {
    "Collapsed": "false"
   },
   "outputs": [
    {
     "name": "stdout",
     "output_type": "stream",
     "text": [
      "Returned Errors: 1\n",
      "1 QueryError found\n",
      "Your query is too long e.g. because it includes too many filters. Please review it by keeping in mind the guidelines on https://docs.dimensions.ai/dsl/1.22.0-preview/faq.html#queries-and-errors [code: 6]\n"
     ]
    },
    {
     "data": {
      "application/json": {
       "errors": {
        "query": {
         "details": [
          "Your query is too long e.g. because it includes too many filters. Please review it by keeping in mind the guidelines on https://docs.dimensions.ai/dsl/1.22.0-preview/faq.html#queries-and-errors [code: 6]"
         ],
         "header": "1 QueryError found\n",
         "query": "search publications where  year = 1500 or  year = 1501 or  year = 1502 or  year = 1503 or  year = 1504 or  year = 1505 or  year = 1506 or  year = 1507 or  year = 1508 or  year = 1509 or  year = 1510 or  year = 1511 or  year = 1512 or  year = 1513 or  year = 1514 or  year = 1515 or  year = 1516 or  year = 1517 or  year = 1518 or  year = 1519 or  year = 1520 or  year = 1521 or  year = 1522 or  year = 1523 or  year = 1524 or  year = 1525 or  year = 1526 or  year = 1527 or  year = 1528 or  year = 1529 or  year = 1530 or  year = 1531 or  year = 1532 or  year = 1533 or  year = 1534 or  year = 1535 or  year = 1536 or  year = 1537 or  year = 1538 or  year = 1539 or  year = 1540 or  year = 1541 or  year = 1542 or  year = 1543 or  year = 1544 or  year = 1545 or  year = 1546 or  year = 1547 or  year = 1548 or  year = 1549 or  year = 1550 or  year = 1551 or  year = 1552 or  year = 1553 or  year = 1554 or  year = 1555 or  year = 1556 or  year = 1557 or  year = 1558 or  year = 1559 or  year = 1560 or  year = 1561 or  year = 1562 or  year = 1563 or  year = 1564 or  year = 1565 or  year = 1566 or  year = 1567 or  year = 1568 or  year = 1569 or  year = 1570 or  year = 1571 or  year = 1572 or  year = 1573 or  year = 1574 or  year = 1575 or  year = 1576 or  year = 1577 or  year = 1578 or  year = 1579 or  year = 1580 or  year = 1581 or  year = 1582 or  year = 1583 or  year = 1584 or  year = 1585 or  year = 1586 or  year = 1587 or  year = 1588 or  year = 1589 or  year = 1590 or  year = 1591 or  year = 1592 or  year = 1593 or  year = 1594 or  year = 1595 or  year = 1596 or  year = 1597 or  year = 1598 or  year = 1599 or  year = 1600 or  year = 1601 or  year = 1602 or  year = 1603 or  year = 1604 or  year = 1605 or  year = 1606 or  year = 1607 or  year = 1608 or  year = 1609 or  year = 1610 or  year = 1611 or  year = 1612 or  year = 1613 or  year = 1614 or  year = 1615 or  year = 1616 or  year = 1617 or  year = 1618 or  year = 1619 or  year = 1620 or  year = 1621 or  year = 1622 or  year = 1623 or  year = 1624 or  year = 1625 or  year = 1626 or  year = 1627 or  year = 1628 or  year = 1629 or  year = 1630 or  year = 1631 or  year = 1632 or  year = 1633 or  year = 1634 or  year = 1635 or  year = 1636 or  year = 1637 or  year = 1638 or  year = 1639 or  year = 1640 or  year = 1641 or  year = 1642 or  year = 1643 or  year = 1644 or  year = 1645 or  year = 1646 or  year = 1647 or  year = 1648 or  year = 1649 or  year = 1650 or  year = 1651 or  year = 1652 or  year = 1653 or  year = 1654 or  year = 1655 or  year = 1656 or  year = 1657 or  year = 1658 or  year = 1659 or  year = 1660 or  year = 1661 or  year = 1662 or  year = 1663 or  year = 1664 or  year = 1665 or  year = 1666 or  year = 1667 or  year = 1668 or  year = 1669 or  year = 1670 or  year = 1671 or  year = 1672 or  year = 1673 or  year = 1674 or  year = 1675 or  year = 1676 or  year = 1677 or  year = 1678 or  year = 1679 or  year = 1680 or  year = 1681 or  year = 1682 or  year = 1683 or  year = 1684 or  year = 1685 or  year = 1686 or  year = 1687 or  year = 1688 or  year = 1689 or  year = 1690 or  year = 1691 or  year = 1692 or  year = 1693 or  year = 1694 or  year = 1695 or  year = 1696 or  year = 1697 or  year = 1698 or  year = 1699 or  year = 1700 or  year = 1701 or  year = 1702 or  year = 1703 or  year = 1704 or  year = 1705 or  year = 1706 or  year = 1707 or  year = 1708 or  year = 1709 or  year = 1710 or  year = 1711 or  year = 1712 or  year = 1713 or  year = 1714 or  year = 1715 or  year = 1716 or  year = 1717 or  year = 1718 or  year = 1719 or  year = 1720 or  year = 1721 or  year = 1722 or  year = 1723 or  year = 1724 or  year = 1725 or  year = 1726 or  year = 1727 or  year = 1728 or  year = 1729 or  year = 1730 or  year = 1731 or  year = 1732 or  year = 1733 or  year = 1734 or  year = 1735 or  year = 1736 or  year = 1737 or  year = 1738 or  year = 1739 or  year = 1740 or  year = 1741 or  year = 1742 or  year = 1743 or  year = 1744 or  year = 1745 or  year = 1746 or  year = 1747 or  year = 1748 or  year = 1749 or  year = 1750 or  year = 1751 or  year = 1752 or  year = 1753 or  year = 1754 or  year = 1755 or  year = 1756 or  year = 1757 or  year = 1758 or  year = 1759 or  year = 1760 or  year = 1761 or  year = 1762 or  year = 1763 or  year = 1764 or  year = 1765 or  year = 1766 or  year = 1767 or  year = 1768 or  year = 1769 or  year = 1770 or  year = 1771 or  year = 1772 or  year = 1773 or  year = 1774 or  year = 1775 or  year = 1776 or  year = 1777 or  year = 1778 or  year = 1779 or  year = 1780 or  year = 1781 or  year = 1782 or  year = 1783 or  year = 1784 or  year = 1785 or  year = 1786 or  year = 1787 or  year = 1788 or  year = 1789 or  year = 1790 or  year = 1791 or  year = 1792 or  year = 1793 or  year = 1794 or  year = 1795 or  year = 1796 or  year = 1797 or  year = 1798 or  year = 1799 or  year = 1800 or  year = 1801 or  year = 1802 or  year = 1803 or  year = 1804 or  year = 1805 or  year = 1806 or  year = 1807 or  year = 1808 or  year = 1809 or  year = 1810 or  year = 1811 or  year = 1812 or  year = 1813 or  year = 1814 or  year = 1815 or  year = 1816 or  year = 1817 or  year = 1818 or  year = 1819 or  year = 1820 or  year = 1821 or  year = 1822 or  year = 1823 or  year = 1824 or  year = 1825 or  year = 1826 or  year = 1827 or  year = 1828 or  year = 1829 or  year = 1830 or  year = 1831 or  year = 1832 or  year = 1833 or  year = 1834 or  year = 1835 or  year = 1836 or  year = 1837 or  year = 1838 or  year = 1839 or  year = 1840 or  year = 1841 or  year = 1842 or  year = 1843 or  year = 1844 or  year = 1845 or  year = 1846 or  year = 1847 or  year = 1848 or  year = 1849 or  year = 1850 or  year = 1851 or  year = 1852 or  year = 1853 or  year = 1854 or  year = 1855 or  year = 1856 or  year = 1857 or  year = 1858 or  year = 1859 or  year = 1860 or  year = 1861 or  year = 1862 or  year = 1863 or  year = 1864 or  year = 1865 or  year = 1866 or  year = 1867 or  year = 1868 or  year = 1869 or  year = 1870 or  year = 1871 or  year = 1872 or  year = 1873 or  year = 1874 or  year = 1875 or  year = 1876 or  year = 1877 or  year = 1878 or  year = 1879 or  year = 1880 or  year = 1881 or  year = 1882 or  year = 1883 or  year = 1884 or  year = 1885 or  year = 1886 or  year = 1887 or  year = 1888 or  year = 1889 or  year = 1890 or  year = 1891 or  year = 1892 or  year = 1893 or  year = 1894 or  year = 1895 or  year = 1896 or  year = 1897 or  year = 1898 or  year = 1899 or  year = 1900 or  year = 1901 or  year = 1902 or  year = 1903 or  year = 1904 or  year = 1905 or  year = 1906 or  year = 1907 or  year = 1908 or  year = 1909 or  year = 1910 or  year = 1911 or  year = 1912 or  year = 1913 or  year = 1914 or  year = 1915 or  year = 1916 or  year = 1917 or  year = 1918 or  year = 1919 or  year = 1920 or  year = 1921 or  year = 1922 or  year = 1923 or  year = 1924 or  year = 1925 or  year = 1926 or  year = 1927 or  year = 1928 or  year = 1929 or  year = 1930 or  year = 1931 or  year = 1932 or  year = 1933 or  year = 1934 or  year = 1935 or  year = 1936 or  year = 1937 or  year = 1938 or  year = 1939 or  year = 1940 or  year = 1941 or  year = 1942 or  year = 1943 or  year = 1944 or  year = 1945 or  year = 1946 or  year = 1947 or  year = 1948 or  year = 1949 or  year = 1950 or  year = 1951 or  year = 1952 or  year = 1953 or  year = 1954 or  year = 1955 or  year = 1956 or  year = 1957 or  year = 1958 or  year = 1959 or  year = 1960 or  year = 1961 or  year = 1962 or  year = 1963 or  year = 1964 or  year = 1965 or  year = 1966 or  year = 1967 or  year = 1968 or  year = 1969 or  year = 1970 or  year = 1971 or  year = 1972 or  year = 1973 or  year = 1974 or  year = 1975 or  year = 1976 or  year = 1977 or  year = 1978 or  year = 1979 or  year = 1980 or  year = 1981 or  year = 1982 or  year = 1983 or  year = 1984 or  year = 1985 or  year = 1986 or  year = 1987 or  year = 1988 or  year = 1989 or  year = 1990 or  year = 1991 or  year = 1992 or  year = 1993 or  year = 1994 or  year = 1995 or  year = 1996 or  year = 1997 or  year = 1998 or  year = 1999 return publications"
        }
       }
      },
      "text/plain": [
       "<dimcli.Dataset object #4622475024. Errors: 1>"
      ]
     },
     "execution_count": 147,
     "metadata": {
      "application/json": {
       "expanded": false,
       "root": "root"
      }
     },
     "output_type": "execute_result"
    }
   ],
   "source": [
    "dsl.query(q)"
   ]
  },
  {
   "cell_type": "markdown",
   "metadata": {
    "Collapsed": "false",
    "colab_type": "text",
    "id": "YBSdHL4Tywj4"
   },
   "source": [
    "## [DSL-297] Support Researchers search in Patents\n",
    "\n",
    "https://uberresearch.atlassian.net/browse/DSL-297"
   ]
  },
  {
   "cell_type": "code",
   "execution_count": null,
   "metadata": {
    "Collapsed": "false"
   },
   "outputs": [],
   "source": []
  }
 ],
 "metadata": {
  "colab": {
   "collapsed_sections": [],
   "name": "v1-1.21-qa.ipynb",
   "provenance": []
  },
  "kernelspec": {
   "display_name": "Python 3",
   "language": "python",
   "name": "python3"
  },
  "language_info": {
   "codemirror_mode": {
    "name": "ipython",
    "version": 3
   },
   "file_extension": ".py",
   "mimetype": "text/x-python",
   "name": "python",
   "nbconvert_exporter": "python",
   "pygments_lexer": "ipython3",
   "version": "3.8.5"
  }
 },
 "nbformat": 4,
 "nbformat_minor": 4
}
