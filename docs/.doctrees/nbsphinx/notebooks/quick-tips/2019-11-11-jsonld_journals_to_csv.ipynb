{
 "cells": [
  {
   "cell_type": "markdown",
   "metadata": {
    "colab_type": "text",
    "id": "_lW0FqWbKDEr"
   },
   "source": [
    "# Turning SG JSONLD journals into CSV\n",
    "\n",
    "Journals available on https://sn-scigraph.figshare.com/articles/Dataset_Journals/7376465"
   ]
  },
  {
   "cell_type": "code",
   "execution_count": 0,
   "metadata": {
    "Collapsed": "false",
    "colab": {},
    "colab_type": "code",
    "id": "DxmDuwHZJ_0p"
   },
   "outputs": [],
   "source": [
    "import pandas as pd"
   ]
  },
  {
   "cell_type": "code",
   "execution_count": 0,
   "metadata": {
    "Collapsed": "false",
    "colab": {},
    "colab_type": "code",
    "id": "XqZ9CPDJJ_0s"
   },
   "outputs": [],
   "source": [
    "# first load the dataset into the 'files' tab of colab\n",
    "df = pd.read_json(\"journals_1.jsonl\", lines=True)"
   ]
  },
  {
   "cell_type": "code",
   "execution_count": 0,
   "metadata": {
    "Collapsed": "false",
    "colab": {},
    "colab_type": "code",
    "id": "A6P4niU4J_0v"
   },
   "outputs": [],
   "source": [
    "df2 = df[['id','name', 'issn', 'productId']].copy()"
   ]
  },
  {
   "cell_type": "code",
   "execution_count": 0,
   "metadata": {
    "Collapsed": "false",
    "colab": {},
    "colab_type": "code",
    "id": "w4zDHRVoJ_0x"
   },
   "outputs": [],
   "source": [
    "df2['springerId'] = df2['productId'].apply(lambda x: str([y['value'] for y in x if y['name'] == \"springer_id\"]).replace(\"[\", \"\").replace(\"]\", \"\"))"
   ]
  },
  {
   "cell_type": "code",
   "execution_count": 0,
   "metadata": {
    "Collapsed": "false",
    "colab": {},
    "colab_type": "code",
    "id": "yy5sBSbWJ_0y"
   },
   "outputs": [],
   "source": [
    "df2['dimensionsId'] = df2['productId'].apply(lambda x: str([y['value'] for y in x if y['name'] == \"dimensions_id\"]).replace(\"[\", \"\").replace(\"]\", \"\"))"
   ]
  },
  {
   "cell_type": "code",
   "execution_count": 6,
   "metadata": {
    "Collapsed": "false",
    "colab": {
     "base_uri": "https://localhost:8080/",
     "height": 589
    },
    "colab_type": "code",
    "executionInfo": {
     "elapsed": 769,
     "status": "ok",
     "timestamp": 1573470801477,
     "user": {
      "displayName": "Michele Pasin",
      "photoUrl": "https://lh3.googleusercontent.com/a-/AAuE7mBu8LVjIGgontF2Wax51BoL5KFx8esezX3bUmaa0g=s64",
      "userId": "10309320684375994511"
     },
     "user_tz": 0
    },
    "id": "oeL-WqZKJ_00",
    "outputId": "751acef7-ed56-43ea-8bcc-29e2070148db"
   },
   "outputs": [
    {
     "data": {
      "text/html": [
       "<div>\n",
       "<style scoped>\n",
       "    .dataframe tbody tr th:only-of-type {\n",
       "        vertical-align: middle;\n",
       "    }\n",
       "\n",
       "    .dataframe tbody tr th {\n",
       "        vertical-align: top;\n",
       "    }\n",
       "\n",
       "    .dataframe thead th {\n",
       "        text-align: right;\n",
       "    }\n",
       "</style>\n",
       "<table border=\"1\" class=\"dataframe\">\n",
       "  <thead>\n",
       "    <tr style=\"text-align: right;\">\n",
       "      <th></th>\n",
       "      <th>id</th>\n",
       "      <th>name</th>\n",
       "      <th>issn</th>\n",
       "      <th>productId</th>\n",
       "      <th>springerId</th>\n",
       "      <th>dimensionsId</th>\n",
       "    </tr>\n",
       "  </thead>\n",
       "  <tbody>\n",
       "    <tr>\n",
       "      <th>0</th>\n",
       "      <td>sg:journal.1001267</td>\n",
       "      <td>Community Mental Health Journal</td>\n",
       "      <td>[0010-3853, 1573-2789]</td>\n",
       "      <td>[{'type': 'PropertyValue', 'name': 'dimensions...</td>\n",
       "      <td>'10597'</td>\n",
       "      <td>'1267'</td>\n",
       "    </tr>\n",
       "    <tr>\n",
       "      <th>1</th>\n",
       "      <td>sg:journal.1001482</td>\n",
       "      <td>Diabetologia</td>\n",
       "      <td>[0012-186X, 1432-0428]</td>\n",
       "      <td>[{'type': 'PropertyValue', 'name': 'dimensions...</td>\n",
       "      <td>'125'</td>\n",
       "      <td>'1482'</td>\n",
       "    </tr>\n",
       "    <tr>\n",
       "      <th>2</th>\n",
       "      <td>sg:journal.1001529</td>\n",
       "      <td>Economic Botany</td>\n",
       "      <td>[0013-0001, 1874-9364]</td>\n",
       "      <td>[{'type': 'PropertyValue', 'name': 'dimensions...</td>\n",
       "      <td>'12231'</td>\n",
       "      <td>'1529'</td>\n",
       "    </tr>\n",
       "    <tr>\n",
       "      <th>3</th>\n",
       "      <td>sg:journal.1002160</td>\n",
       "      <td>Indian Phytopathology</td>\n",
       "      <td>[0367-973X, 2248-9800]</td>\n",
       "      <td>[{'type': 'PropertyValue', 'name': 'dimensions...</td>\n",
       "      <td>'42360'</td>\n",
       "      <td>'2160'</td>\n",
       "    </tr>\n",
       "    <tr>\n",
       "      <th>4</th>\n",
       "      <td>sg:journal.1003359</td>\n",
       "      <td>Pädiatrie &amp; Pädologie</td>\n",
       "      <td>[0030-9338, 1613-7558]</td>\n",
       "      <td>[{'type': 'PropertyValue', 'name': 'dimensions...</td>\n",
       "      <td>'608'</td>\n",
       "      <td>'3359'</td>\n",
       "    </tr>\n",
       "    <tr>\n",
       "      <th>...</th>\n",
       "      <td>...</td>\n",
       "      <td>...</td>\n",
       "      <td>...</td>\n",
       "      <td>...</td>\n",
       "      <td>...</td>\n",
       "      <td>...</td>\n",
       "    </tr>\n",
       "    <tr>\n",
       "      <th>4972</th>\n",
       "      <td>sg:journal.1357652</td>\n",
       "      <td>Journal of Infrastructure Preservation and Res...</td>\n",
       "      <td>NaN</td>\n",
       "      <td>[{'type': 'PropertyValue', 'name': 'dimensions...</td>\n",
       "      <td>'43065'</td>\n",
       "      <td>'357652'</td>\n",
       "    </tr>\n",
       "    <tr>\n",
       "      <th>4973</th>\n",
       "      <td>sg:journal.1357653</td>\n",
       "      <td>Journal of Spatial Econometrics</td>\n",
       "      <td>NaN</td>\n",
       "      <td>[{'type': 'PropertyValue', 'name': 'dimensions...</td>\n",
       "      <td>'43071'</td>\n",
       "      <td>'357653'</td>\n",
       "    </tr>\n",
       "    <tr>\n",
       "      <th>4974</th>\n",
       "      <td>sg:journal.1357654</td>\n",
       "      <td>PhotoniX</td>\n",
       "      <td>NaN</td>\n",
       "      <td>[{'type': 'PropertyValue', 'name': 'dimensions...</td>\n",
       "      <td>'43074'</td>\n",
       "      <td>'357654'</td>\n",
       "    </tr>\n",
       "    <tr>\n",
       "      <th>4975</th>\n",
       "      <td>sg:journal.1357957</td>\n",
       "      <td>Analytical and Bioanalytical Chemistry</td>\n",
       "      <td>[1618-2642, 1618-2650]</td>\n",
       "      <td>[{'type': 'PropertyValue', 'name': 'dimensions...</td>\n",
       "      <td>'216'</td>\n",
       "      <td>'357957'</td>\n",
       "    </tr>\n",
       "    <tr>\n",
       "      <th>4976</th>\n",
       "      <td>sg:journal.1357960</td>\n",
       "      <td>Topics in Current Chemistry</td>\n",
       "      <td>[2365-0869, 2364-8961]</td>\n",
       "      <td>[{'type': 'PropertyValue', 'name': 'dimensions...</td>\n",
       "      <td>'41061'</td>\n",
       "      <td>'357960'</td>\n",
       "    </tr>\n",
       "  </tbody>\n",
       "</table>\n",
       "<p>4977 rows × 6 columns</p>\n",
       "</div>"
      ],
      "text/plain": [
       "                      id  ... dimensionsId\n",
       "0     sg:journal.1001267  ...       '1267'\n",
       "1     sg:journal.1001482  ...       '1482'\n",
       "2     sg:journal.1001529  ...       '1529'\n",
       "3     sg:journal.1002160  ...       '2160'\n",
       "4     sg:journal.1003359  ...       '3359'\n",
       "...                  ...  ...          ...\n",
       "4972  sg:journal.1357652  ...     '357652'\n",
       "4973  sg:journal.1357653  ...     '357653'\n",
       "4974  sg:journal.1357654  ...     '357654'\n",
       "4975  sg:journal.1357957  ...     '357957'\n",
       "4976  sg:journal.1357960  ...     '357960'\n",
       "\n",
       "[4977 rows x 6 columns]"
      ]
     },
     "execution_count": 6,
     "metadata": {
      "tags": []
     },
     "output_type": "execute_result"
    }
   ],
   "source": [
    "df2"
   ]
  },
  {
   "cell_type": "code",
   "execution_count": 0,
   "metadata": {
    "Collapsed": "false",
    "colab": {},
    "colab_type": "code",
    "id": "zbsDLoasJ_02"
   },
   "outputs": [],
   "source": [
    "df2.to_csv(\"journals_modified.csv\")"
   ]
  },
  {
   "cell_type": "code",
   "execution_count": 0,
   "metadata": {
    "Collapsed": "false",
    "colab": {},
    "colab_type": "code",
    "id": "AkltFtyeJ_04"
   },
   "outputs": [],
   "source": []
  },
  {
   "cell_type": "code",
   "execution_count": 0,
   "metadata": {
    "Collapsed": "false",
    "colab": {},
    "colab_type": "code",
    "id": "IHfegllOJ_05"
   },
   "outputs": [],
   "source": []
  },
  {
   "cell_type": "code",
   "execution_count": 0,
   "metadata": {
    "Collapsed": "false",
    "colab": {},
    "colab_type": "code",
    "id": "W0FdMPafJ_06",
    "outputId": "cb2075d3-013b-4733-9953-a426c3602622"
   },
   "outputs": [
    {
     "name": "stdout",
     "output_type": "stream",
     "text": [
      "DimCli v0.6.1 - Succesfully connected to <https://app.dimensions.ai> (method: dsl.ini file)\n"
     ]
    }
   ],
   "source": [
    "dimcli.login()"
   ]
  },
  {
   "cell_type": "code",
   "execution_count": 0,
   "metadata": {
    "Collapsed": "false",
    "colab": {},
    "colab_type": "code",
    "id": "DiNm5HhbJ_08",
    "outputId": "863c855f-e7a9-4ef1-93fb-42a6fcae0afc"
   },
   "outputs": [
    {
     "data": {
      "application/json": {
       "grant_id": "grant.8452374"
      },
      "text/plain": [
       "<dimcli.Result object #4577572176. Dict keys: 'grant_id'>"
      ]
     },
     "execution_count": 13,
     "metadata": {
      "application/json": {
       "expanded": false,
       "root": "root"
      },
      "tags": []
     },
     "output_type": "execute_result"
    }
   ],
   "source": [
    "%%dsl\n",
    "extract_grants(grant_number=\"185247\", funder_name=\"Swiss National Science Foundation\")"
   ]
  },
  {
   "cell_type": "code",
   "execution_count": 0,
   "metadata": {
    "Collapsed": "false",
    "colab": {},
    "colab_type": "code",
    "id": "UensrBwWJ_0-",
    "outputId": "7bc06e81-8e5b-4550-a427-9b309f0eadef"
   },
   "outputs": [
    {
     "data": {
      "application/json": {
       "_stats": {
        "total_count": 105892983
       },
       "year": [
        {
         "count": 5044604,
         "id": 2018
        },
        {
         "count": 4708791,
         "id": 2017
        },
        {
         "count": 4461172,
         "id": 2019
        },
        {
         "count": 4367217,
         "id": 2016
        },
        {
         "count": 4182563,
         "id": 2015
        },
        {
         "count": 4056825,
         "id": 2014
        },
        {
         "count": 3847100,
         "id": 2013
        },
        {
         "count": 3590358,
         "id": 2012
        },
        {
         "count": 3481526,
         "id": 2011
        },
        {
         "count": 3059565,
         "id": 2010
        },
        {
         "count": 2929788,
         "id": 2009
        },
        {
         "count": 2775135,
         "id": 2007
        },
        {
         "count": 2757115,
         "id": 2008
        },
        {
         "count": 2469223,
         "id": 2006
        },
        {
         "count": 2261269,
         "id": 2005
        },
        {
         "count": 2154697,
         "id": 2004
        },
        {
         "count": 1963208,
         "id": 2003
        },
        {
         "count": 1834516,
         "id": 2002
        },
        {
         "count": 1773615,
         "id": 2001
        },
        {
         "count": 1725502,
         "id": 2000
        }
       ]
      },
      "text/plain": [
       "<dimcli.Result object #4577387344. Records: 20/105892983>"
      ]
     },
     "execution_count": 10,
     "metadata": {
      "application/json": {
       "expanded": false,
       "root": "root"
      },
      "tags": []
     },
     "output_type": "execute_result"
    }
   ],
   "source": [
    "dsl_last_results"
   ]
  },
  {
   "cell_type": "code",
   "execution_count": 0,
   "metadata": {
    "Collapsed": "false",
    "colab": {},
    "colab_type": "code",
    "id": "QgmSSlKzJ_1A"
   },
   "outputs": [],
   "source": []
  },
  {
   "cell_type": "code",
   "execution_count": 0,
   "metadata": {
    "Collapsed": "false",
    "colab": {
     "base_uri": "https://localhost:8080/",
     "height": 34
    },
    "colab_type": "code",
    "executionInfo": {
     "elapsed": 917,
     "status": "ok",
     "timestamp": 1571141134237,
     "user": {
      "displayName": "Michele Pasin",
      "photoUrl": "https://lh3.googleusercontent.com/a-/AAuE7mBu8LVjIGgontF2Wax51BoL5KFx8esezX3bUmaa0g=s64",
      "userId": "10309320684375994511"
     },
     "user_tz": -60
    },
    "id": "4U0bQQAQTx1t",
    "outputId": "f99d1586-e937-48b6-89cd-97584045acf1"
   },
   "outputs": [
    {
     "data": {
      "text/plain": [
       "<google.colab._shell.Shell at 0x7fa9991f6860>"
      ]
     },
     "execution_count": 25,
     "metadata": {
      "tags": []
     },
     "output_type": "execute_result"
    }
   ],
   "source": [
    "get_ipython()"
   ]
  },
  {
   "cell_type": "code",
   "execution_count": 0,
   "metadata": {
    "Collapsed": "false",
    "colab": {},
    "colab_type": "code",
    "id": "OtZaChVS7ar5"
   },
   "outputs": [],
   "source": [
    "import os"
   ]
  },
  {
   "cell_type": "code",
   "execution_count": 0,
   "metadata": {
    "Collapsed": "false",
    "colab": {
     "base_uri": "https://localhost:8080/",
     "height": 34
    },
    "colab_type": "code",
    "executionInfo": {
     "elapsed": 4705,
     "status": "ok",
     "timestamp": 1571134791341,
     "user": {
      "displayName": "Michele Pasin",
      "photoUrl": "https://lh3.googleusercontent.com/a-/AAuE7mBu8LVjIGgontF2Wax51BoL5KFx8esezX3bUmaa0g=s64",
      "userId": "10309320684375994511"
     },
     "user_tz": -60
    },
    "id": "XxHWiQ057itN",
    "outputId": "0f42749c-b01b-4137-d6e4-7e973a19c3dc"
   },
   "outputs": [
    {
     "name": "stdout",
     "output_type": "stream",
     "text": [
      "\u001b[K     |████████████████████████████████| 122kB 5.2MB/s eta 0:00:01\n",
      "\u001b[?25h"
     ]
    }
   ],
   "source": [
    "pip install dimcli --quiet"
   ]
  },
  {
   "cell_type": "code",
   "execution_count": 0,
   "metadata": {
    "Collapsed": "false",
    "colab": {},
    "colab_type": "code",
    "id": "YuJSKdAo72k_"
   },
   "outputs": [],
   "source": [
    "from IPython import get_ipython"
   ]
  },
  {
   "cell_type": "code",
   "execution_count": 0,
   "metadata": {
    "Collapsed": "false",
    "colab": {},
    "colab_type": "code",
    "id": "2Bt5a5mq7467"
   },
   "outputs": [],
   "source": [
    "g = get_ipython()"
   ]
  },
  {
   "cell_type": "code",
   "execution_count": 0,
   "metadata": {
    "Collapsed": "false",
    "colab": {},
    "colab_type": "code",
    "id": "Ewa3NCJS78XO"
   },
   "outputs": [],
   "source": [
    "g.run_line_magic(\"load_ext\", \"google.colab.data_table\")"
   ]
  },
  {
   "cell_type": "code",
   "execution_count": 0,
   "metadata": {
    "Collapsed": "false",
    "colab": {
     "base_uri": "https://localhost:8080/",
     "height": 34
    },
    "colab_type": "code",
    "executionInfo": {
     "elapsed": 1334,
     "status": "ok",
     "timestamp": 1571136562391,
     "user": {
      "displayName": "Michele Pasin",
      "photoUrl": "https://lh3.googleusercontent.com/a-/AAuE7mBu8LVjIGgontF2Wax51BoL5KFx8esezX3bUmaa0g=s64",
      "userId": "10309320684375994511"
     },
     "user_tz": -60
    },
    "id": "lDcSIksvCUQ8",
    "outputId": "3a7cb5b3-55d7-4aef-9122-95af52bbd802"
   },
   "outputs": [
    {
     "data": {
      "text/plain": [
       "['sample_data']"
      ]
     },
     "execution_count": 22,
     "metadata": {
      "tags": []
     },
     "output_type": "execute_result"
    }
   ],
   "source": [
    "g.run_line_magic(\"sx\", \"ls\")"
   ]
  },
  {
   "cell_type": "code",
   "execution_count": 0,
   "metadata": {
    "Collapsed": "false",
    "colab": {
     "base_uri": "https://localhost:8080/",
     "height": 119
    },
    "colab_type": "code",
    "executionInfo": {
     "elapsed": 27302,
     "status": "ok",
     "timestamp": 1571136417383,
     "user": {
      "displayName": "Michele Pasin",
      "photoUrl": "https://lh3.googleusercontent.com/a-/AAuE7mBu8LVjIGgontF2Wax51BoL5KFx8esezX3bUmaa0g=s64",
      "userId": "10309320684375994511"
     },
     "user_tz": -60
    },
    "id": "k6shgaGJBa2M",
    "outputId": "7d1be379-081e-4af0-879f-d429d63f1b62"
   },
   "outputs": [
    {
     "data": {
      "text/plain": [
       "['\\x1b[2mDimcli - Dimensions API Console (v0.5.8.1)\\x1b[0m',\n",
       " 'Please enter the API URL or leave blank for default [https://app.dimensions.ai]: ',\n",
       " 'Please enter your username: m.pasin@digital-science.com',\n",
       " 'Please enter your password: ',\n",
       " 'Repeat for confirmation: ',\n",
       " '\\x1b[2mCreated /root/.dimensions/dsl.ini\\x1b[0m']"
      ]
     },
     "execution_count": 18,
     "metadata": {
      "tags": []
     },
     "output_type": "execute_result"
    }
   ],
   "source": [
    "g.run_line_magic(\"sx\", \"dimcli --init\")"
   ]
  },
  {
   "cell_type": "code",
   "execution_count": 0,
   "metadata": {
    "Collapsed": "false",
    "colab": {
     "base_uri": "https://localhost:8080/",
     "height": 1000
    },
    "colab_type": "code",
    "executionInfo": {
     "elapsed": 1878,
     "status": "ok",
     "timestamp": 1571137096786,
     "user": {
      "displayName": "Michele Pasin",
      "photoUrl": "https://lh3.googleusercontent.com/a-/AAuE7mBu8LVjIGgontF2Wax51BoL5KFx8esezX3bUmaa0g=s64",
      "userId": "10309320684375994511"
     },
     "user_tz": -60
    },
    "id": "XYEv0veYEW0H",
    "outputId": "36d8baf9-6404-4c3d-8495-fe859d1064a6"
   },
   "outputs": [
    {
     "name": "stdout",
     "output_type": "stream",
     "text": [
      "Package                  Version              \n",
      "------------------------ ---------------------\n",
      "absl-py                  0.8.0                \n",
      "alabaster                0.7.12               \n",
      "albumentations           0.1.12               \n",
      "altair                   3.2.0                \n",
      "astor                    0.8.0                \n",
      "astropy                  3.0.5                \n",
      "atari-py                 0.1.15               \n",
      "atomicwrites             1.3.0                \n",
      "attrs                    19.2.0               \n",
      "audioread                2.1.8                \n",
      "autograd                 1.3                  \n",
      "Babel                    2.7.0                \n",
      "backcall                 0.1.0                \n",
      "backports.tempfile       1.0                  \n",
      "backports.weakref        1.0.post1            \n",
      "beautifulsoup4           4.6.3                \n",
      "bleach                   3.1.0                \n",
      "blis                     0.2.4                \n",
      "bokeh                    1.0.4                \n",
      "boto                     2.49.0               \n",
      "boto3                    1.9.243              \n",
      "botocore                 1.12.243             \n",
      "Bottleneck               1.2.1                \n",
      "branca                   0.3.1                \n",
      "bs4                      0.0.1                \n",
      "bz2file                  0.98                 \n",
      "cachetools               3.1.1                \n",
      "certifi                  2019.9.11            \n",
      "cffi                     1.12.3               \n",
      "chainer                  5.4.0                \n",
      "chardet                  3.0.4                \n",
      "Click                    7.0                  \n",
      "cloudpickle              0.6.1                \n",
      "cmake                    3.12.0               \n",
      "community                1.0.0b1              \n",
      "contextlib2              0.5.5                \n",
      "convertdate              2.1.3                \n",
      "coverage                 3.7.1                \n",
      "coveralls                0.5                  \n",
      "crcmod                   1.7                  \n",
      "cvxopt                   1.2.3                \n",
      "cvxpy                    1.0.25               \n",
      "cycler                   0.10.0               \n",
      "cymem                    2.0.2                \n",
      "Cython                   0.29.13              \n",
      "daft                     0.0.4                \n",
      "dask                     1.1.5                \n",
      "dataclasses              0.6                  \n",
      "datascience              0.10.6               \n",
      "decorator                4.4.0                \n",
      "defusedxml               0.6.0                \n",
      "descartes                1.1.0                \n",
      "dill                     0.3.1.1              \n",
      "dimcli                   0.5.8.1              \n",
      "distributed              1.25.3               \n",
      "Django                   2.2.6                \n",
      "dlib                     19.16.0              \n",
      "dm-sonnet                1.35                 \n",
      "docopt                   0.6.2                \n",
      "docutils                 0.15.2               \n",
      "dopamine-rl              1.0.5                \n",
      "easydict                 1.9                  \n",
      "ecos                     2.0.7.post1          \n",
      "editdistance             0.5.3                \n",
      "en-core-web-sm           2.1.0                \n",
      "entrypoints              0.3                  \n",
      "ephem                    3.7.7.0              \n",
      "et-xmlfile               1.0.1                \n",
      "fa2                      0.3.5                \n",
      "fancyimpute              0.4.3                \n",
      "fastai                   1.0.58               \n",
      "fastcache                1.1.0                \n",
      "fastdtw                  0.3.2                \n",
      "fastprogress             0.1.21               \n",
      "fastrlock                0.4                  \n",
      "fbprophet                0.5                  \n",
      "feather-format           0.4.0                \n",
      "featuretools             0.4.1                \n",
      "filelock                 3.0.12               \n",
      "fix-yahoo-finance        0.0.22               \n",
      "Flask                    1.1.1                \n",
      "folium                   0.8.3                \n",
      "fsspec                   0.5.1                \n",
      "future                   0.16.0               \n",
      "gast                     0.2.2                \n",
      "GDAL                     2.2.2                \n",
      "gdown                    3.6.4                \n",
      "gensim                   3.6.0                \n",
      "geographiclib            1.50                 \n",
      "geopy                    1.17.0               \n",
      "gevent                   1.4.0                \n",
      "gin-config               0.2.1                \n",
      "glob2                    0.7                  \n",
      "google                   2.0.2                \n",
      "google-api-core          1.14.2               \n",
      "google-api-python-client 1.7.11               \n",
      "google-auth              1.4.2                \n",
      "google-auth-httplib2     0.0.3                \n",
      "google-auth-oauthlib     0.4.1                \n",
      "google-cloud-bigquery    1.14.1               \n",
      "google-cloud-core        1.0.3                \n",
      "google-cloud-datastore   1.8.0                \n",
      "google-cloud-language    1.2.0                \n",
      "google-cloud-storage     1.16.2               \n",
      "google-cloud-translate   1.5.0                \n",
      "google-colab             1.0.0                \n",
      "google-pasta             0.1.7                \n",
      "google-resumable-media   0.4.1                \n",
      "googleapis-common-protos 1.6.0                \n",
      "googledrivedownloader    0.4                  \n",
      "graph-nets               1.0.4                \n",
      "graphviz                 0.10.1               \n",
      "greenlet                 0.4.15               \n",
      "grpcio                   1.15.0               \n",
      "gspread                  3.0.1                \n",
      "gspread-dataframe        3.0.3                \n",
      "gunicorn                 19.9.0               \n",
      "gym                      0.10.11              \n",
      "h5py                     2.8.0                \n",
      "HeapDict                 1.0.1                \n",
      "holidays                 0.9.11               \n",
      "html5lib                 1.0.1                \n",
      "httpimport               0.5.18               \n",
      "httplib2                 0.11.3               \n",
      "humanize                 0.5.1                \n",
      "hyperopt                 0.1.2                \n",
      "ideep4py                 2.0.0.post3          \n",
      "idna                     2.8                  \n",
      "image                    1.5.27               \n",
      "imageio                  2.4.1                \n",
      "imagesize                1.1.0                \n",
      "imbalanced-learn         0.4.3                \n",
      "imblearn                 0.0                  \n",
      "imgaug                   0.2.9                \n",
      "importlib-metadata       0.23                 \n",
      "imutils                  0.5.3                \n",
      "inflect                  2.1.0                \n",
      "intel-openmp             2019.0               \n",
      "intervaltree             2.1.0                \n",
      "ipykernel                4.6.1                \n",
      "ipython                  5.5.0                \n",
      "ipython-genutils         0.2.0                \n",
      "ipython-sql              0.3.9                \n",
      "ipywidgets               7.5.1                \n",
      "itsdangerous             1.1.0                \n",
      "jax                      0.1.46               \n",
      "jaxlib                   0.1.26               \n",
      "jdcal                    1.4.1                \n",
      "jedi                     0.15.1               \n",
      "jieba                    0.39                 \n",
      "Jinja2                   2.10.3               \n",
      "jmespath                 0.9.4                \n",
      "joblib                   0.14.0               \n",
      "jpeg4py                  0.1.4                \n",
      "jsonschema               2.6.0                \n",
      "jupyter                  1.0.0                \n",
      "jupyter-client           5.3.3                \n",
      "jupyter-console          5.2.0                \n",
      "jupyter-core             4.5.0                \n",
      "kaggle                   1.5.6                \n",
      "kapre                    0.1.3.1              \n",
      "Keras                    2.2.5                \n",
      "Keras-Applications       1.0.8                \n",
      "Keras-Preprocessing      1.1.0                \n",
      "keras-vis                0.4.1                \n",
      "kiwisolver               1.1.0                \n",
      "knnimpute                0.1.0                \n",
      "librosa                  0.6.3                \n",
      "lightgbm                 2.2.3                \n",
      "llvmlite                 0.29.0               \n",
      "lmdb                     0.97                 \n",
      "lucid                    0.3.8                \n",
      "lunardate                0.2.0                \n",
      "lxml                     4.2.6                \n",
      "magenta                  0.3.19               \n",
      "Markdown                 3.1.1                \n",
      "MarkupSafe               1.1.1                \n",
      "matplotlib               3.0.3                \n",
      "matplotlib-venn          0.11.5               \n",
      "mesh-tensorflow          0.0.5                \n",
      "mido                     1.2.6                \n",
      "mir-eval                 0.5                  \n",
      "missingno                0.4.2                \n",
      "mistune                  0.8.4                \n",
      "mizani                   0.5.4                \n",
      "mkl                      2019.0               \n",
      "mlxtend                  0.14.0               \n",
      "more-itertools           7.2.0                \n",
      "moviepy                  0.2.3.5              \n",
      "mpi4py                   3.0.2                \n",
      "mpmath                   1.1.0                \n",
      "msgpack                  0.5.6                \n",
      "multiprocess             0.70.9               \n",
      "multitasking             0.0.9                \n",
      "murmurhash               1.0.2                \n",
      "music21                  5.5.0                \n",
      "natsort                  5.5.0                \n",
      "nbconvert                5.6.0                \n",
      "nbformat                 4.4.0                \n",
      "networkx                 2.3                  \n",
      "nibabel                  2.3.3                \n",
      "nltk                     3.2.5                \n",
      "notebook                 5.2.2                \n",
      "np-utils                 0.5.11.1             \n",
      "numba                    0.40.1               \n",
      "numexpr                  2.7.0                \n",
      "numpy                    1.16.5               \n",
      "nvidia-ml-py3            7.352.0              \n",
      "oauth2client             4.1.3                \n",
      "oauthlib                 3.1.0                \n",
      "okgrade                  0.4.3                \n",
      "olefile                  0.46                 \n",
      "opencv-contrib-python    3.4.3.18             \n",
      "opencv-python            3.4.7.28             \n",
      "openpyxl                 2.5.9                \n",
      "opt-einsum               3.1.0                \n",
      "osqp                     0.6.1                \n",
      "packaging                19.2                 \n",
      "palettable               3.3.0                \n",
      "pandas                   0.24.2               \n",
      "pandas-datareader        0.7.4                \n",
      "pandas-gbq               0.4.1                \n",
      "pandas-profiling         1.4.1                \n",
      "pandocfilters            1.4.2                \n",
      "parso                    0.5.1                \n",
      "pathlib                  1.0.1                \n",
      "patsy                    0.5.1                \n",
      "pexpect                  4.7.0                \n",
      "pickleshare              0.7.5                \n",
      "Pillow                   4.3.0                \n",
      "pip                      19.2.3               \n",
      "pip-tools                3.9.0                \n",
      "plac                     0.9.6                \n",
      "plotly                   4.1.1                \n",
      "plotnine                 0.5.1                \n",
      "pluggy                   0.7.1                \n",
      "portpicker               1.2.0                \n",
      "prefetch-generator       1.0.1                \n",
      "preshed                  2.0.1                \n",
      "pretty-midi              0.2.8                \n",
      "prettytable              0.7.2                \n",
      "progressbar2             3.38.0               \n",
      "prometheus-client        0.7.1                \n",
      "promise                  2.2.1                \n",
      "prompt-toolkit           1.0.18               \n",
      "protobuf                 3.7.1                \n",
      "psutil                   5.4.8                \n",
      "psycopg2                 2.7.6.1              \n",
      "ptyprocess               0.6.0                \n",
      "py                       1.8.0                \n",
      "pyarrow                  0.14.1               \n",
      "pyasn1                   0.4.7                \n",
      "pyasn1-modules           0.2.6                \n",
      "pycocotools              2.0.0                \n",
      "pycparser                2.19                 \n",
      "pydot                    1.3.0                \n",
      "pydot-ng                 2.0.0                \n",
      "pydotplus                2.0.2                \n",
      "PyDrive                  1.3.1                \n",
      "pyemd                    0.5.1                \n",
      "pyglet                   1.4.4                \n",
      "Pygments                 2.1.3                \n",
      "pygobject                3.26.1               \n",
      "pymc3                    3.7                  \n",
      "pymongo                  3.9.0                \n",
      "pymystem3                0.2.0                \n",
      "PyOpenGL                 3.1.0                \n",
      "pyparsing                2.4.2                \n",
      "pyrsistent               0.15.4               \n",
      "pysndfile                1.3.7                \n",
      "PySocks                  1.7.1                \n",
      "pystan                   2.19.0.0             \n",
      "pytest                   3.6.4                \n",
      "python-apt               1.6.4                \n",
      "python-chess             0.23.11              \n",
      "python-dateutil          2.5.3                \n",
      "python-louvain           0.13                 \n",
      "python-rtmidi            1.3.0                \n",
      "python-slugify           3.0.4                \n",
      "python-utils             2.3.0                \n",
      "pytz                     2018.9               \n",
      "PyWavelets               1.0.3                \n",
      "PyYAML                   3.13                 \n",
      "pyzmq                    17.0.0               \n",
      "qtconsole                4.5.5                \n",
      "requests                 2.21.0               \n",
      "requests-oauthlib        1.2.0                \n",
      "resampy                  0.2.2                \n",
      "retrying                 1.3.3                \n",
      "rpy2                     2.9.5                \n",
      "rsa                      4.0                  \n",
      "s3fs                     0.3.4                \n",
      "s3transfer               0.2.1                \n",
      "scikit-image             0.15.0               \n",
      "scikit-learn             0.21.3               \n",
      "scipy                    1.3.1                \n",
      "screen-resolution-extra  0.0.0                \n",
      "scs                      2.1.1.post2          \n",
      "seaborn                  0.9.0                \n",
      "semantic-version         2.8.2                \n",
      "Send2Trash               1.5.0                \n",
      "setuptools               41.2.0               \n",
      "setuptools-git           1.2                  \n",
      "Shapely                  1.6.4.post2          \n",
      "simplegeneric            0.8.1                \n",
      "six                      1.12.0               \n",
      "sklearn                  0.0                  \n",
      "sklearn-pandas           1.8.0                \n",
      "smart-open               1.8.4                \n",
      "snowballstemmer          2.0.0                \n",
      "sortedcontainers         2.1.0                \n",
      "spacy                    2.1.8                \n",
      "Sphinx                   1.8.5                \n",
      "sphinxcontrib-websupport 1.1.2                \n",
      "SQLAlchemy               1.3.9                \n",
      "sqlparse                 0.3.0                \n",
      "srsly                    0.1.0                \n",
      "stable-baselines         2.2.1                \n",
      "statsmodels              0.10.1               \n",
      "sympy                    1.1.1                \n",
      "tables                   3.4.4                \n",
      "tabulate                 0.8.5                \n",
      "tblib                    1.4.0                \n",
      "tensor2tensor            1.11.0               \n",
      "tensorboard              1.15.0               \n",
      "tensorboardcolab         0.0.22               \n",
      "tensorflow               1.15.0rc3            \n",
      "tensorflow-estimator     1.15.1               \n",
      "tensorflow-hub           0.6.0                \n",
      "tensorflow-metadata      0.14.0               \n",
      "tensorflow-probability   0.7.0                \n",
      "termcolor                1.1.0                \n",
      "terminado                0.8.2                \n",
      "testpath                 0.4.2                \n",
      "text-unidecode           1.3                  \n",
      "textblob                 0.15.3               \n",
      "textgenrnn               1.4.1                \n",
      "tfds-nightly             1.2.0.dev201909050105\n",
      "tflearn                  0.3.2                \n",
      "Theano                   1.0.4                \n",
      "thinc                    7.0.8                \n",
      "toolz                    0.10.0               \n",
      "torch                    1.2.0                \n",
      "torchsummary             1.5.1                \n",
      "torchtext                0.3.1                \n",
      "torchvision              0.4.0                \n",
      "tornado                  4.5.3                \n",
      "tqdm                     4.28.1               \n",
      "traitlets                4.3.3                \n",
      "tweepy                   3.6.0                \n",
      "tzlocal                  1.5.1                \n",
      "umap-learn               0.3.10               \n",
      "uritemplate              3.0.0                \n",
      "urllib3                  1.24.3               \n",
      "vega-datasets            0.7.0                \n",
      "wasabi                   0.2.2                \n",
      "wcwidth                  0.1.7                \n",
      "webencodings             0.5.1                \n",
      "Werkzeug                 0.16.0               \n",
      "wheel                    0.33.6               \n",
      "widgetsnbextension       3.5.1                \n",
      "wordcloud                1.5.0                \n",
      "wrapt                    1.11.2               \n",
      "xarray                   0.11.3               \n",
      "xgboost                  0.90                 \n",
      "xkit                     0.0.0                \n",
      "xlrd                     1.1.0                \n",
      "xlwt                     1.3.0                \n",
      "yellowbrick              0.9.1                \n",
      "zict                     1.0.0                \n",
      "zipp                     0.6.0                \n",
      "zmq                      0.0.0                \n"
     ]
    }
   ],
   "source": [
    "!pip list packaging"
   ]
  },
  {
   "cell_type": "code",
   "execution_count": 0,
   "metadata": {
    "Collapsed": "false",
    "colab": {},
    "colab_type": "code",
    "id": "ACMHKaDUDhLc"
   },
   "outputs": [],
   "source": [
    "from packaging import version"
   ]
  },
  {
   "cell_type": "code",
   "execution_count": 0,
   "metadata": {
    "Collapsed": "false",
    "colab": {},
    "colab_type": "code",
    "id": "Cg3juYqXB2d2"
   },
   "outputs": [],
   "source": [
    "import dimcli"
   ]
  },
  {
   "cell_type": "code",
   "execution_count": 0,
   "metadata": {
    "Collapsed": "false",
    "colab": {
     "base_uri": "https://localhost:8080/",
     "height": 34
    },
    "colab_type": "code",
    "executionInfo": {
     "elapsed": 842,
     "status": "ok",
     "timestamp": 1571136454004,
     "user": {
      "displayName": "Michele Pasin",
      "photoUrl": "https://lh3.googleusercontent.com/a-/AAuE7mBu8LVjIGgontF2Wax51BoL5KFx8esezX3bUmaa0g=s64",
      "userId": "10309320684375994511"
     },
     "user_tz": -60
    },
    "id": "6bdVEoWGB2TQ",
    "outputId": "b7c1118d-3311-4778-e63d-7f1813beec2b"
   },
   "outputs": [
    {
     "name": "stdout",
     "output_type": "stream",
     "text": [
      "DimCli v0.5.8.1 - Succesfully connected to <https://app.dimensions.ai> (method: dsl.ini file)\n"
     ]
    }
   ],
   "source": [
    "dimcli.login()"
   ]
  },
  {
   "cell_type": "code",
   "execution_count": 0,
   "metadata": {
    "Collapsed": "false",
    "colab": {
     "base_uri": "https://localhost:8080/",
     "height": 34
    },
    "colab_type": "code",
    "executionInfo": {
     "elapsed": 444,
     "status": "ok",
     "timestamp": 1571134838922,
     "user": {
      "displayName": "Michele Pasin",
      "photoUrl": "https://lh3.googleusercontent.com/a-/AAuE7mBu8LVjIGgontF2Wax51BoL5KFx8esezX3bUmaa0g=s64",
      "userId": "10309320684375994511"
     },
     "user_tz": -60
    },
    "id": "LggU8Yk27apJ",
    "outputId": "325ecbf5-8846-4abc-a37e-cbd2a752c514"
   },
   "outputs": [
    {
     "data": {
      "text/plain": [
       "<os._wrap_close at 0x7fa98b4ccb38>"
      ]
     },
     "execution_count": 6,
     "metadata": {
      "tags": []
     },
     "output_type": "execute_result"
    }
   ],
   "source": [
    "os.popen(\"dimcli --init\")"
   ]
  }
 ],
 "metadata": {
  "colab": {
   "collapsed_sections": [],
   "name": "jsonld_journals_to_csv.ipynb",
   "provenance": [],
   "toc_visible": true
  },
  "kernelspec": {
   "display_name": "Python 3",
   "language": "python",
   "name": "python3"
  },
  "language_info": {
   "codemirror_mode": {
    "name": "ipython",
    "version": 3
   },
   "file_extension": ".py",
   "mimetype": "text/x-python",
   "name": "python",
   "nbconvert_exporter": "python",
   "pygments_lexer": "ipython3",
   "version": "3.7.4"
  }
 },
 "nbformat": 4,
 "nbformat_minor": 0
}
