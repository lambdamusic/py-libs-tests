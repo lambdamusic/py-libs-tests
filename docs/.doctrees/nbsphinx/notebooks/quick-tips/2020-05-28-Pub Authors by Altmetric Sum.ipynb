{
 "cells": [
  {
   "cell_type": "markdown",
   "metadata": {
    "Collapsed": "false",
    "colab_type": "text",
    "id": "Jj5yFy9v_H2o"
   },
   "source": [
    "# Listing publication authors by altmetric sum "
   ]
  },
  {
   "cell_type": "code",
   "execution_count": 1,
   "metadata": {
    "colab": {
     "base_uri": "https://localhost:8080/",
     "height": 85
    },
    "colab_type": "code",
    "executionInfo": {
     "elapsed": 7338,
     "status": "ok",
     "timestamp": 1590664500808,
     "user": {
      "displayName": "Michele Pasin",
      "photoUrl": "https://lh3.googleusercontent.com/a-/AOh14GiYfmLTPbeMuYDDrETLbTVXTXnfVr9f7eBtkmR73A=s64",
      "userId": "10309320684375994511"
     },
     "user_tz": -60
    },
    "id": "yeyJ-Ftk_R1A",
    "outputId": "076fd29b-407e-4fbb-e51e-6c52cc6c5c55"
   },
   "outputs": [
    {
     "name": "stdout",
     "output_type": "stream",
     "text": [
      "\u001b[?25l\r",
      "\u001b[K     |█▍                              | 10kB 20.7MB/s eta 0:00:01\r",
      "\u001b[K     |██▊                             | 20kB 3.4MB/s eta 0:00:01\r",
      "\u001b[K     |████▏                           | 30kB 4.4MB/s eta 0:00:01\r",
      "\u001b[K     |█████▌                          | 40kB 4.7MB/s eta 0:00:01\r",
      "\u001b[K     |██████▉                         | 51kB 3.8MB/s eta 0:00:01\r",
      "\u001b[K     |████████▎                       | 61kB 4.2MB/s eta 0:00:01\r",
      "\u001b[K     |█████████▋                      | 71kB 4.6MB/s eta 0:00:01\r",
      "\u001b[K     |███████████                     | 81kB 5.0MB/s eta 0:00:01\r",
      "\u001b[K     |████████████▍                   | 92kB 5.4MB/s eta 0:00:01\r",
      "\u001b[K     |█████████████▊                  | 102kB 5.1MB/s eta 0:00:01\r",
      "\u001b[K     |███████████████▏                | 112kB 5.1MB/s eta 0:00:01\r",
      "\u001b[K     |████████████████▌               | 122kB 5.1MB/s eta 0:00:01\r",
      "\u001b[K     |██████████████████              | 133kB 5.1MB/s eta 0:00:01\r",
      "\u001b[K     |███████████████████▎            | 143kB 5.1MB/s eta 0:00:01\r",
      "\u001b[K     |████████████████████▋           | 153kB 5.1MB/s eta 0:00:01\r",
      "\u001b[K     |██████████████████████          | 163kB 5.1MB/s eta 0:00:01\r",
      "\u001b[K     |███████████████████████▍        | 174kB 5.1MB/s eta 0:00:01\r",
      "\u001b[K     |████████████████████████▉       | 184kB 5.1MB/s eta 0:00:01\r",
      "\u001b[K     |██████████████████████████▏     | 194kB 5.1MB/s eta 0:00:01\r",
      "\u001b[K     |███████████████████████████▌    | 204kB 5.1MB/s eta 0:00:01\r",
      "\u001b[K     |█████████████████████████████   | 215kB 5.1MB/s eta 0:00:01\r",
      "\u001b[K     |██████████████████████████████▎ | 225kB 5.1MB/s eta 0:00:01\r",
      "\u001b[K     |███████████████████████████████▊| 235kB 5.1MB/s eta 0:00:01\r",
      "\u001b[K     |████████████████████████████████| 245kB 5.1MB/s \n",
      "\u001b[?25h\u001b[2mDimcli - Dimensions API Client (v0.6.9.1)\u001b[0m\n",
      "\u001b[2mConnected to endpoint: https://app.dimensions.ai - DSL version: 1.25\u001b[0m\n",
      "\u001b[2mMethod: manual login\u001b[0m\n"
     ]
    }
   ],
   "source": [
    "username = \"\" #@param {type: \"string\"}\n",
    "password = \"\" #@param {type: \"string\"}\n",
    "endpoint = \"https://app.dimensions.ai\" #@param {type: \"string\"}\n",
    "\n",
    "!pip install dimcli -U --quiet\n",
    "\n",
    "import dimcli\n",
    "from dimcli.shortcuts import *\n",
    "\n",
    "dimcli.login(username, password, endpoint)\n",
    "dsl = dimcli.Dsl()\n"
   ]
  },
  {
   "cell_type": "code",
   "execution_count": 8,
   "metadata": {
    "Collapsed": "false",
    "colab": {
     "base_uri": "https://localhost:8080/",
     "height": 272
    },
    "colab_type": "code",
    "executionInfo": {
     "elapsed": 39952,
     "status": "ok",
     "timestamp": 1590664662090,
     "user": {
      "displayName": "Michele Pasin",
      "photoUrl": "https://lh3.googleusercontent.com/a-/AOh14GiYfmLTPbeMuYDDrETLbTVXTXnfVr9f7eBtkmR73A=s64",
      "userId": "10309320684375994511"
     },
     "user_tz": -60
    },
    "id": "0c6U8aHi_H2s",
    "outputId": "e0537ec8-bca4-4042-8e3d-5c3c1ef86680"
   },
   "outputs": [
    {
     "name": "stdout",
     "output_type": "stream",
     "text": [
      "1000 / ...\n",
      "1000 / 11312\n",
      "2000 / 11312\n",
      "3000 / 11312\n",
      "4000 / 11312\n",
      "5000 / 11312\n",
      "6000 / 11312\n",
      "7000 / 11312\n",
      "8000 / 11312\n",
      "9000 / 11312\n",
      "10000 / 11312\n",
      "11000 / 11312\n",
      "11312 / 11312\n",
      "===\n",
      "Records extracted: 11312\n"
     ]
    }
   ],
   "source": [
    "q = \"\"\"\n",
    "search publications\n",
    "    where research_orgs.id in [\"grid.266102.1\", \"grid.266102.1\", \"grid.413077.6\", \"grid.414016.6\", \"grid.471399.1\"]  \n",
    "    and year = 2019 \n",
    "return publications[doi+id+authors+altmetric]\n",
    "\"\"\"\n",
    "\n",
    "data = dsl.query_iterative(q)"
   ]
  },
  {
   "cell_type": "code",
   "execution_count": 0,
   "metadata": {
    "Collapsed": "false",
    "colab": {},
    "colab_type": "code",
    "id": "cO5TQkB7_H2v"
   },
   "outputs": [],
   "source": [
    "authors = data.as_dataframe_authors()\n",
    "pubs = data.as_dataframe()"
   ]
  },
  {
   "cell_type": "code",
   "execution_count": 0,
   "metadata": {
    "Collapsed": "false",
    "colab": {},
    "colab_type": "code",
    "id": "ZeNuOPsX_H2x"
   },
   "outputs": [],
   "source": [
    "# add altmetric from pubs\n",
    "authors = authors.join(pubs.set_index('id')['altmetric'], on='pub_id')"
   ]
  },
  {
   "cell_type": "code",
   "execution_count": 11,
   "metadata": {
    "Collapsed": "false",
    "colab": {
     "base_uri": "https://localhost:8080/",
     "height": 385
    },
    "colab_type": "code",
    "executionInfo": {
     "elapsed": 47587,
     "status": "ok",
     "timestamp": 1590664669741,
     "user": {
      "displayName": "Michele Pasin",
      "photoUrl": "https://lh3.googleusercontent.com/a-/AOh14GiYfmLTPbeMuYDDrETLbTVXTXnfVr9f7eBtkmR73A=s64",
      "userId": "10309320684375994511"
     },
     "user_tz": -60
    },
    "id": "qj0brycr_H2z",
    "outputId": "b6e6da12-1271-4d4e-e5a0-dee228fbcba3"
   },
   "outputs": [
    {
     "data": {
      "application/vnd.google.colaboratory.module+javascript": "\n      import \"https://ssl.gstatic.com/colaboratory/data_table/a6224c040fa35dcf/data_table.js\";\n\n      window.createDataTable({\n        data: [[{\n            'v': 0,\n            'f': \"0\",\n        },\n\"Dora\",\n\"Clayton-Jones\",\n\"\",\n\"\",\n\"\",\n\"grid.259670.f\",\n\"ur.01302012473.53\",\n[\"{'id': 'grid.259670.f', 'name': 'Marquette University', 'city': 'Milwaukee', 'city_id': 5263045, 'country': 'United States', 'country_code': 'US', 'state': 'Wisconsin', 'state_code': 'US-WI'}\", \"{'id': 'grid.30760.32', 'name': 'Medical College of Wisconsin', 'city': 'Milwaukee', 'city_id': 5263045, 'country': 'United States', 'country_code': 'US', 'state': 'Wisconsin', 'state_code': 'US-WI'}\"],\n\"pub.1123748442\",\n{\n            'v': 2.0,\n            'f': \"2.0\",\n        }],\n [{\n            'v': 1,\n            'f': \"1\",\n        },\n\"Nadine\",\n\"Matthie\",\n\"\",\n\"\",\n\"\",\n\"grid.189967.8\",\n\"ur.01241414144.11\",\n[\"{'id': 'grid.189967.8', 'name': 'Emory University', 'city': 'Atlanta', 'city_id': 4180439, 'country': 'United States', 'country_code': 'US', 'state': 'Georgia', 'state_code': 'US-GA'}\"],\n\"pub.1123748442\",\n{\n            'v': 2.0,\n            'f': \"2.0\",\n        }],\n [{\n            'v': 2,\n            'f': \"2\",\n        },\n\"Marsha\",\n\"Treadwell\",\n\"\",\n\"\",\n\"\",\n\"grid.414016.6\",\n\"ur.01150255707.02\",\n[\"{'id': 'grid.414016.6', 'name': \\\"UCSF Benioff Children's Hospital\\\", 'city': 'Oakland', 'city_id': 5378538, 'country': 'United States', 'country_code': 'US', 'state': 'California', 'state_code': 'US-CA'}\"],\n\"pub.1123748442\",\n{\n            'v': 2.0,\n            'f': \"2.0\",\n        }],\n [{\n            'v': 3,\n            'f': \"3\",\n        },\n\"Joshua J\",\n\"Field\",\n\"\",\n\"\",\n\"\",\n\"grid.30760.32\",\n\"ur.0611647260.15\",\n[\"{'id': 'grid.30760.32', 'name': 'Medical College of Wisconsin', 'city': 'Milwaukee', 'city_id': 5263045, 'country': 'United States', 'country_code': 'US', 'state': 'Wisconsin', 'state_code': 'US-WI'}\"],\n\"pub.1123748442\",\n{\n            'v': 2.0,\n            'f': \"2.0\",\n        }],\n [{\n            'v': 4,\n            'f': \"4\",\n        },\n\"Amy\",\n\"Mager\",\n\"\",\n\"\",\n\"\",\n\"grid.30760.32\",\n\"ur.0612534103.62\",\n[\"{'id': 'grid.30760.32', 'name': 'Medical College of Wisconsin', 'city': 'Milwaukee', 'city_id': 5263045, 'country': 'United States', 'country_code': 'US', 'state': 'Wisconsin', 'state_code': 'US-WI'}\"],\n\"pub.1123748442\",\n{\n            'v': 2.0,\n            'f': \"2.0\",\n        }]],\n        columns: [[\"number\", \"index\"], [\"string\", \"first_name\"], [\"string\", \"last_name\"], [\"string\", \"initials\"], [\"string\", \"corresponding\"], [\"string\", \"orcid\"], [\"string\", \"current_organization_id\"], [\"string\", \"researcher_id\"], [\"string\", \"affiliations\"], [\"string\", \"pub_id\"], [\"number\", \"altmetric\"]],\n        columnOptions: [{\"width\": \"1px\", \"className\": \"index_column\"}],\n        rowsPerPage: 25,\n        helpUrl: \"https://colab.research.google.com/notebooks/data_table.ipynb\",\n        suppressOutputScrolling: true,\n        minimumWidth: undefined,\n      });\n    ",
      "text/html": [
       "<div>\n",
       "<style scoped>\n",
       "    .dataframe tbody tr th:only-of-type {\n",
       "        vertical-align: middle;\n",
       "    }\n",
       "\n",
       "    .dataframe tbody tr th {\n",
       "        vertical-align: top;\n",
       "    }\n",
       "\n",
       "    .dataframe thead th {\n",
       "        text-align: right;\n",
       "    }\n",
       "</style>\n",
       "<table border=\"1\" class=\"dataframe\">\n",
       "  <thead>\n",
       "    <tr style=\"text-align: right;\">\n",
       "      <th></th>\n",
       "      <th>first_name</th>\n",
       "      <th>last_name</th>\n",
       "      <th>initials</th>\n",
       "      <th>corresponding</th>\n",
       "      <th>orcid</th>\n",
       "      <th>current_organization_id</th>\n",
       "      <th>researcher_id</th>\n",
       "      <th>affiliations</th>\n",
       "      <th>pub_id</th>\n",
       "      <th>altmetric</th>\n",
       "    </tr>\n",
       "  </thead>\n",
       "  <tbody>\n",
       "    <tr>\n",
       "      <th>0</th>\n",
       "      <td>Dora</td>\n",
       "      <td>Clayton-Jones</td>\n",
       "      <td></td>\n",
       "      <td></td>\n",
       "      <td></td>\n",
       "      <td>grid.259670.f</td>\n",
       "      <td>ur.01302012473.53</td>\n",
       "      <td>[{'id': 'grid.259670.f', 'name': 'Marquette Un...</td>\n",
       "      <td>pub.1123748442</td>\n",
       "      <td>2.0</td>\n",
       "    </tr>\n",
       "    <tr>\n",
       "      <th>1</th>\n",
       "      <td>Nadine</td>\n",
       "      <td>Matthie</td>\n",
       "      <td></td>\n",
       "      <td></td>\n",
       "      <td></td>\n",
       "      <td>grid.189967.8</td>\n",
       "      <td>ur.01241414144.11</td>\n",
       "      <td>[{'id': 'grid.189967.8', 'name': 'Emory Univer...</td>\n",
       "      <td>pub.1123748442</td>\n",
       "      <td>2.0</td>\n",
       "    </tr>\n",
       "    <tr>\n",
       "      <th>2</th>\n",
       "      <td>Marsha</td>\n",
       "      <td>Treadwell</td>\n",
       "      <td></td>\n",
       "      <td></td>\n",
       "      <td></td>\n",
       "      <td>grid.414016.6</td>\n",
       "      <td>ur.01150255707.02</td>\n",
       "      <td>[{'id': 'grid.414016.6', 'name': 'UCSF Benioff...</td>\n",
       "      <td>pub.1123748442</td>\n",
       "      <td>2.0</td>\n",
       "    </tr>\n",
       "    <tr>\n",
       "      <th>3</th>\n",
       "      <td>Joshua J</td>\n",
       "      <td>Field</td>\n",
       "      <td></td>\n",
       "      <td></td>\n",
       "      <td></td>\n",
       "      <td>grid.30760.32</td>\n",
       "      <td>ur.0611647260.15</td>\n",
       "      <td>[{'id': 'grid.30760.32', 'name': 'Medical Coll...</td>\n",
       "      <td>pub.1123748442</td>\n",
       "      <td>2.0</td>\n",
       "    </tr>\n",
       "    <tr>\n",
       "      <th>4</th>\n",
       "      <td>Amy</td>\n",
       "      <td>Mager</td>\n",
       "      <td></td>\n",
       "      <td></td>\n",
       "      <td></td>\n",
       "      <td>grid.30760.32</td>\n",
       "      <td>ur.0612534103.62</td>\n",
       "      <td>[{'id': 'grid.30760.32', 'name': 'Medical Coll...</td>\n",
       "      <td>pub.1123748442</td>\n",
       "      <td>2.0</td>\n",
       "    </tr>\n",
       "  </tbody>\n",
       "</table>\n",
       "</div>"
      ],
      "text/plain": [
       "  first_name      last_name  ...          pub_id altmetric\n",
       "0       Dora  Clayton-Jones  ...  pub.1123748442       2.0\n",
       "1     Nadine        Matthie  ...  pub.1123748442       2.0\n",
       "2     Marsha      Treadwell  ...  pub.1123748442       2.0\n",
       "3   Joshua J          Field  ...  pub.1123748442       2.0\n",
       "4        Amy          Mager  ...  pub.1123748442       2.0\n",
       "\n",
       "[5 rows x 10 columns]"
      ]
     },
     "execution_count": 11,
     "metadata": {
      "tags": []
     },
     "output_type": "execute_result"
    }
   ],
   "source": [
    "authors.head()"
   ]
  },
  {
   "cell_type": "code",
   "execution_count": 0,
   "metadata": {
    "Collapsed": "false",
    "colab": {},
    "colab_type": "code",
    "id": "yFUe-CNz_H21"
   },
   "outputs": [],
   "source": [
    "authors['altmetric_sum']  = authors.groupby(\"researcher_id\")['altmetric'].transform(\"sum\")"
   ]
  },
  {
   "cell_type": "code",
   "execution_count": 13,
   "metadata": {
    "Collapsed": "false",
    "colab": {
     "base_uri": "https://localhost:8080/",
     "height": 895
    },
    "colab_type": "code",
    "executionInfo": {
     "elapsed": 47792,
     "status": "ok",
     "timestamp": 1590664669955,
     "user": {
      "displayName": "Michele Pasin",
      "photoUrl": "https://lh3.googleusercontent.com/a-/AOh14GiYfmLTPbeMuYDDrETLbTVXTXnfVr9f7eBtkmR73A=s64",
      "userId": "10309320684375994511"
     },
     "user_tz": -60
    },
    "id": "OkjupuwG_H23",
    "outputId": "4493e31b-ec6d-4cb1-afd1-ed74a401ea91"
   },
   "outputs": [
    {
     "data": {
      "text/html": [
       "<div>\n",
       "<style scoped>\n",
       "    .dataframe tbody tr th:only-of-type {\n",
       "        vertical-align: middle;\n",
       "    }\n",
       "\n",
       "    .dataframe tbody tr th {\n",
       "        vertical-align: top;\n",
       "    }\n",
       "\n",
       "    .dataframe thead th {\n",
       "        text-align: right;\n",
       "    }\n",
       "</style>\n",
       "<table border=\"1\" class=\"dataframe\">\n",
       "  <thead>\n",
       "    <tr style=\"text-align: right;\">\n",
       "      <th></th>\n",
       "      <th>first_name</th>\n",
       "      <th>last_name</th>\n",
       "      <th>initials</th>\n",
       "      <th>corresponding</th>\n",
       "      <th>orcid</th>\n",
       "      <th>current_organization_id</th>\n",
       "      <th>researcher_id</th>\n",
       "      <th>affiliations</th>\n",
       "      <th>pub_id</th>\n",
       "      <th>altmetric</th>\n",
       "      <th>altmetric_sum</th>\n",
       "    </tr>\n",
       "  </thead>\n",
       "  <tbody>\n",
       "    <tr>\n",
       "      <th>40057</th>\n",
       "      <td>John C</td>\n",
       "      <td>Van Swieten</td>\n",
       "      <td></td>\n",
       "      <td></td>\n",
       "      <td></td>\n",
       "      <td></td>\n",
       "      <td></td>\n",
       "      <td>[{'id': 'grid.5645.2', 'name': 'Erasmus Univer...</td>\n",
       "      <td>pub.1115226547</td>\n",
       "      <td>23.0</td>\n",
       "      <td>1362243.0</td>\n",
       "    </tr>\n",
       "    <tr>\n",
       "      <th>39709</th>\n",
       "      <td>D.E.</td>\n",
       "      <td>Roa</td>\n",
       "      <td></td>\n",
       "      <td></td>\n",
       "      <td></td>\n",
       "      <td></td>\n",
       "      <td></td>\n",
       "      <td>[{'id': 'grid.266093.8', 'name': 'University o...</td>\n",
       "      <td>pub.1120994171</td>\n",
       "      <td>NaN</td>\n",
       "      <td>1362243.0</td>\n",
       "    </tr>\n",
       "    <tr>\n",
       "      <th>99605</th>\n",
       "      <td>James</td>\n",
       "      <td>Cole</td>\n",
       "      <td></td>\n",
       "      <td></td>\n",
       "      <td></td>\n",
       "      <td></td>\n",
       "      <td></td>\n",
       "      <td>[{'id': 'grid.13097.3c', 'name': 'King's Colle...</td>\n",
       "      <td>pub.1112395741</td>\n",
       "      <td>63.0</td>\n",
       "      <td>1362243.0</td>\n",
       "    </tr>\n",
       "    <tr>\n",
       "      <th>39724</th>\n",
       "      <td>Cedric</td>\n",
       "      <td>Espenel</td>\n",
       "      <td></td>\n",
       "      <td></td>\n",
       "      <td></td>\n",
       "      <td></td>\n",
       "      <td></td>\n",
       "      <td>[{'id': 'grid.168010.e', 'name': 'Stanford Uni...</td>\n",
       "      <td>pub.1121088681</td>\n",
       "      <td>887.0</td>\n",
       "      <td>1362243.0</td>\n",
       "    </tr>\n",
       "    <tr>\n",
       "      <th>99604</th>\n",
       "      <td>Andre</td>\n",
       "      <td>Marquand</td>\n",
       "      <td></td>\n",
       "      <td></td>\n",
       "      <td></td>\n",
       "      <td></td>\n",
       "      <td></td>\n",
       "      <td>[{'name': 'Radboud University Medical Center;'}]</td>\n",
       "      <td>pub.1112395741</td>\n",
       "      <td>63.0</td>\n",
       "      <td>1362243.0</td>\n",
       "    </tr>\n",
       "    <tr>\n",
       "      <th>...</th>\n",
       "      <td>...</td>\n",
       "      <td>...</td>\n",
       "      <td>...</td>\n",
       "      <td>...</td>\n",
       "      <td>...</td>\n",
       "      <td>...</td>\n",
       "      <td>...</td>\n",
       "      <td>...</td>\n",
       "      <td>...</td>\n",
       "      <td>...</td>\n",
       "      <td>...</td>\n",
       "    </tr>\n",
       "    <tr>\n",
       "      <th>105703</th>\n",
       "      <td>Ignacia</td>\n",
       "      <td>Echeverria</td>\n",
       "      <td></td>\n",
       "      <td></td>\n",
       "      <td>['0000-0003-4717-1467']</td>\n",
       "      <td>grid.266102.1</td>\n",
       "      <td>ur.01332214611.58</td>\n",
       "      <td>[{'id': 'grid.266102.1', 'name': 'University o...</td>\n",
       "      <td>pub.1112161371</td>\n",
       "      <td>NaN</td>\n",
       "      <td>0.0</td>\n",
       "    </tr>\n",
       "    <tr>\n",
       "      <th>105704</th>\n",
       "      <td>Hannes</td>\n",
       "      <td>Braberg</td>\n",
       "      <td></td>\n",
       "      <td></td>\n",
       "      <td></td>\n",
       "      <td>grid.266102.1</td>\n",
       "      <td>ur.01163427115.70</td>\n",
       "      <td>[{'id': 'grid.266102.1', 'name': 'University o...</td>\n",
       "      <td>pub.1112161371</td>\n",
       "      <td>NaN</td>\n",
       "      <td>0.0</td>\n",
       "    </tr>\n",
       "    <tr>\n",
       "      <th>105705</th>\n",
       "      <td>Peter</td>\n",
       "      <td>Cimermancic</td>\n",
       "      <td></td>\n",
       "      <td></td>\n",
       "      <td></td>\n",
       "      <td>grid.266102.1</td>\n",
       "      <td>ur.01221677657.10</td>\n",
       "      <td>[{'name': 'Verily, South San Francisco, CA, US...</td>\n",
       "      <td>pub.1112161371</td>\n",
       "      <td>NaN</td>\n",
       "      <td>0.0</td>\n",
       "    </tr>\n",
       "    <tr>\n",
       "      <th>105707</th>\n",
       "      <td>Dina</td>\n",
       "      <td>Schneidman</td>\n",
       "      <td></td>\n",
       "      <td></td>\n",
       "      <td></td>\n",
       "      <td>grid.9619.7</td>\n",
       "      <td>ur.014647334744.32</td>\n",
       "      <td>[{'id': 'grid.9619.7', 'name': 'Hebrew Univers...</td>\n",
       "      <td>pub.1112161371</td>\n",
       "      <td>NaN</td>\n",
       "      <td>0.0</td>\n",
       "    </tr>\n",
       "    <tr>\n",
       "      <th>68321</th>\n",
       "      <td>Andrew</td>\n",
       "      <td>Ofosu</td>\n",
       "      <td></td>\n",
       "      <td></td>\n",
       "      <td></td>\n",
       "      <td>grid.414639.d</td>\n",
       "      <td>ur.010225021306.18</td>\n",
       "      <td>[{'id': 'grid.414639.d', 'name': 'Brooklyn Hos...</td>\n",
       "      <td>pub.1116536482</td>\n",
       "      <td>NaN</td>\n",
       "      <td>0.0</td>\n",
       "    </tr>\n",
       "  </tbody>\n",
       "</table>\n",
       "<p>118368 rows × 11 columns</p>\n",
       "</div>"
      ],
      "text/plain": [
       "       first_name    last_name  ... altmetric altmetric_sum\n",
       "40057      John C  Van Swieten  ...      23.0     1362243.0\n",
       "39709        D.E.          Roa  ...       NaN     1362243.0\n",
       "99605       James         Cole  ...      63.0     1362243.0\n",
       "39724      Cedric      Espenel  ...     887.0     1362243.0\n",
       "99604       Andre     Marquand  ...      63.0     1362243.0\n",
       "...           ...          ...  ...       ...           ...\n",
       "105703    Ignacia   Echeverria  ...       NaN           0.0\n",
       "105704     Hannes      Braberg  ...       NaN           0.0\n",
       "105705      Peter  Cimermancic  ...       NaN           0.0\n",
       "105707       Dina   Schneidman  ...       NaN           0.0\n",
       "68321      Andrew        Ofosu  ...       NaN           0.0\n",
       "\n",
       "[118368 rows x 11 columns]"
      ]
     },
     "execution_count": 13,
     "metadata": {
      "tags": []
     },
     "output_type": "execute_result"
    }
   ],
   "source": [
    "authors.sort_values(\"altmetric_sum\", ascending=False)"
   ]
  }
 ],
 "metadata": {
  "colab": {
   "collapsed_sections": [],
   "name": "2020-05-28-Pub Authors by Altmetric Sum.ipynb",
   "provenance": []
  },
  "kernelspec": {
   "display_name": "dimcli_env",
   "language": "python",
   "name": "dimcli_env"
  },
  "language_info": {
   "codemirror_mode": {
    "name": "ipython",
    "version": 3
   },
   "file_extension": ".py",
   "mimetype": "text/x-python",
   "name": "python",
   "nbconvert_exporter": "python",
   "pygments_lexer": "ipython3",
   "version": "3.7.4"
  }
 },
 "nbformat": 4,
 "nbformat_minor": 0
}
