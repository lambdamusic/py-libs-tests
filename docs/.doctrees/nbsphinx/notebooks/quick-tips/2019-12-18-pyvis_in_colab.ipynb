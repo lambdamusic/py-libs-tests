{
 "cells": [
  {
   "cell_type": "markdown",
   "metadata": {
    "colab_type": "text",
    "id": "VM58FqoN-fe2"
   },
   "source": [
    "# Using PyVis in Google Colab\n",
    "\n",
    "Background: https://github.com/WestHealth/pyvis/issues/49\n",
    "\n",
    "This examples shows how to use [Pyvis](https://pyvis.readthedocs.io/en/latest/) graphics library within Google Colab. In a nutshell, this is achieved by embedding all the JS pyvis templates need within a single html file, so that it can be rendered within Google Colab. \n",
    "\n",
    "The example below is part of a library called [Dimcli](https://github.com/digital-science/dimcli) (as I needed it there) but it would work anywhere. \n",
    "\n",
    "The relevant code sections to look at are:\n",
    "\n",
    "* [pyvis_inline.html](https://github.com/digital-science/dimcli/tree/master/dimcli/templates) is a modified version of the standard pyvis template where all referenced js is inline\n",
    "* [extra.py](https://github.com/digital-science/dimcli/blob/master/dimcli/core/extras.py) is where the magic happens. This class extends and modifies pyvis.Network so that a) the template path points at the new template and b) the show method checks if we are in Colab and if so it return a `IPython.display.HTML` object istead of an `IFrame`.\n",
    "\n",
    "\n"
   ]
  },
  {
   "cell_type": "code",
   "execution_count": 0,
   "metadata": {
    "colab": {},
    "colab_type": "code",
    "id": "ZZjvuatwoKrl"
   },
   "outputs": [],
   "source": [
    "!pip install dimcli networkx pyvis -U --quiet"
   ]
  },
  {
   "cell_type": "code",
   "execution_count": 0,
   "metadata": {
    "Collapsed": "false",
    "colab": {},
    "colab_type": "code",
    "id": "q6JrFzFZF9-C"
   },
   "outputs": [],
   "source": [
    "from dimcli.core.extras import NetworkViz\n",
    "import networkx as nx"
   ]
  },
  {
   "cell_type": "code",
   "execution_count": 0,
   "metadata": {
    "Collapsed": "false",
    "colab": {},
    "colab_type": "code",
    "id": "K0TjYiVVoGi6"
   },
   "outputs": [],
   "source": [
    "g = NetworkViz(notebook=True)"
   ]
  },
  {
   "cell_type": "code",
   "execution_count": 4,
   "metadata": {
    "Collapsed": "false",
    "colab": {
     "base_uri": "https://localhost:8080/",
     "height": 519
    },
    "colab_type": "code",
    "executionInfo": {
     "elapsed": 970,
     "status": "ok",
     "timestamp": 1576689415496,
     "user": {
      "displayName": "Michele Pasin",
      "photoUrl": "https://lh3.googleusercontent.com/a-/AAuE7mBu8LVjIGgontF2Wax51BoL5KFx8esezX3bUmaa0g=s64",
      "userId": "10309320684375994511"
     },
     "user_tz": 0
    },
    "id": "IUH2lzw9oGi7",
    "outputId": "8e881a0c-77eb-4d55-e19f-cc2949483b9a"
   },
   "outputs": [
    {
     "data": {
      "text/html": [
       "<html>\n",
       "<head>\n",
       "<link rel=\"stylesheet\" href=\"https://cdnjs.cloudflare.com/ajax/libs/vis/4.16.1/vis.css\" type=\"text/css\" />\n",
       "<script type=\"text/javascript\" src=\"https://cdnjs.cloudflare.com/ajax/libs/vis/4.16.1/vis-network.min.js\"> </script>\n",
       "\n",
       "<!-- <link rel=\"stylesheet\" href=\"../node_modules/vis/dist/vis.min.css\" type=\"text/css\" />\n",
       "<script type=\"text/javascript\" src=\"../node_modules/vis/dist/vis.js\"> </script>-->\n",
       "\n",
       "<style type=\"text/css\">\n",
       "\n",
       "        #mynetwork {\n",
       "            width: 500px;\n",
       "            height: 500px;\n",
       "            background-color: #ffffff;\n",
       "            border: 1px solid lightgray;\n",
       "            position: relative;\n",
       "            float: left;\n",
       "        }\n",
       "\n",
       "        \n",
       "\n",
       "        \n",
       "\n",
       "        \n",
       "</style>\n",
       "\n",
       "</head>\n",
       "\n",
       "<body>\n",
       "<div id = \"mynetwork\"></div>\n",
       "\n",
       "\n",
       "<script type=\"text/javascript\">\n",
       "\n",
       "    // initialize global variables.\n",
       "    var edges;\n",
       "    var nodes;\n",
       "    var network; \n",
       "    var container;\n",
       "    var options, data;\n",
       "\n",
       "    \n",
       "    // This method is responsible for drawing the graph, returns the drawn network\n",
       "    function drawGraph() {\n",
       "        var container = document.getElementById('mynetwork');\n",
       "        \n",
       "        \n",
       "\n",
       "        // parsing and collecting nodes and edges from the python\n",
       "        nodes = new vis.DataSet([{\"id\": 0, \"label\": 0, \"shape\": \"dot\", \"title\": \"0\"}, {\"id\": 1, \"label\": 1, \"shape\": \"dot\", \"title\": \"1\"}, {\"id\": 2, \"label\": 2, \"shape\": \"dot\", \"title\": \"2\"}, {\"id\": 3, \"label\": 3, \"shape\": \"dot\", \"title\": \"3\"}, {\"id\": 4, \"label\": 4, \"shape\": \"dot\", \"title\": \"4\"}, {\"id\": 5, \"label\": 5, \"shape\": \"dot\", \"title\": \"5\"}, {\"id\": 6, \"label\": 6, \"shape\": \"dot\", \"title\": \"6\"}, {\"id\": 7, \"label\": 7, \"shape\": \"dot\", \"title\": \"7\"}, {\"id\": 8, \"label\": 8, \"shape\": \"dot\", \"title\": \"8\"}, {\"id\": 9, \"label\": 9, \"shape\": \"dot\", \"title\": \"9\"}]);\n",
       "        edges = new vis.DataSet([{\"from\": 0, \"to\": 1}, {\"from\": 0, \"to\": 2}, {\"from\": 0, \"to\": 3}, {\"from\": 0, \"to\": 4}, {\"from\": 0, \"to\": 5}, {\"from\": 0, \"to\": 6}, {\"from\": 0, \"to\": 7}, {\"from\": 0, \"to\": 8}, {\"from\": 0, \"to\": 9}, {\"from\": 1, \"to\": 2}, {\"from\": 1, \"to\": 3}, {\"from\": 1, \"to\": 4}, {\"from\": 1, \"to\": 5}, {\"from\": 1, \"to\": 6}, {\"from\": 1, \"to\": 7}, {\"from\": 1, \"to\": 8}, {\"from\": 1, \"to\": 9}, {\"from\": 2, \"to\": 3}, {\"from\": 2, \"to\": 4}, {\"from\": 2, \"to\": 5}, {\"from\": 2, \"to\": 6}, {\"from\": 2, \"to\": 7}, {\"from\": 2, \"to\": 8}, {\"from\": 2, \"to\": 9}, {\"from\": 3, \"to\": 4}, {\"from\": 3, \"to\": 5}, {\"from\": 3, \"to\": 6}, {\"from\": 3, \"to\": 7}, {\"from\": 3, \"to\": 8}, {\"from\": 3, \"to\": 9}, {\"from\": 4, \"to\": 5}, {\"from\": 4, \"to\": 6}, {\"from\": 4, \"to\": 7}, {\"from\": 4, \"to\": 8}, {\"from\": 4, \"to\": 9}, {\"from\": 5, \"to\": 6}, {\"from\": 5, \"to\": 7}, {\"from\": 5, \"to\": 8}, {\"from\": 5, \"to\": 9}, {\"from\": 6, \"to\": 7}, {\"from\": 6, \"to\": 8}, {\"from\": 6, \"to\": 9}, {\"from\": 7, \"to\": 8}, {\"from\": 7, \"to\": 9}, {\"from\": 8, \"to\": 9}]);\n",
       "\n",
       "        // adding nodes and edges to the graph\n",
       "        data = {nodes: nodes, edges: edges};\n",
       "\n",
       "        var options = {\n",
       "    \"configure\": {\n",
       "        \"enabled\": false\n",
       "    },\n",
       "    \"edges\": {\n",
       "        \"color\": {\n",
       "            \"inherit\": true\n",
       "        },\n",
       "        \"smooth\": {\n",
       "            \"enabled\": false,\n",
       "            \"type\": \"continuous\"\n",
       "        }\n",
       "    },\n",
       "    \"interaction\": {\n",
       "        \"dragNodes\": true,\n",
       "        \"hideEdgesOnDrag\": false,\n",
       "        \"hideNodesOnDrag\": false\n",
       "    },\n",
       "    \"physics\": {\n",
       "        \"enabled\": true,\n",
       "        \"stabilization\": {\n",
       "            \"enabled\": true,\n",
       "            \"fit\": true,\n",
       "            \"iterations\": 1000,\n",
       "            \"onlyDynamicEdges\": false,\n",
       "            \"updateInterval\": 50\n",
       "        }\n",
       "    }\n",
       "};\n",
       "        \n",
       "        \n",
       "\n",
       "        \n",
       "\n",
       "        network = new vis.Network(container, data, options);\n",
       "\n",
       "        \n",
       "\n",
       "\n",
       "        \n",
       "\n",
       "        return network;\n",
       "\n",
       "    }\n",
       "\n",
       "    drawGraph();\n",
       "\n",
       "</script>\n",
       "</body>\n",
       "</html>"
      ],
      "text/plain": [
       "<IPython.core.display.HTML object>"
      ]
     },
     "execution_count": 4,
     "metadata": {
      "tags": []
     },
     "output_type": "execute_result"
    }
   ],
   "source": [
    "nxg = nx.complete_graph(10)\n",
    "g.from_nx(nxg)\n",
    "g.show(\"example.html\")"
   ]
  }
 ],
 "metadata": {
  "colab": {
   "collapsed_sections": [],
   "name": "pyvis_in_colab.ipynb",
   "provenance": []
  },
  "kernelspec": {
   "display_name": "dimcli_env",
   "language": "python",
   "name": "dimcli_env"
  },
  "language_info": {
   "codemirror_mode": {
    "name": "ipython",
    "version": 3
   },
   "file_extension": ".py",
   "mimetype": "text/x-python",
   "name": "python",
   "nbconvert_exporter": "python",
   "pygments_lexer": "ipython3",
   "version": "3.7.4"
  }
 },
 "nbformat": 4,
 "nbformat_minor": 0
}
