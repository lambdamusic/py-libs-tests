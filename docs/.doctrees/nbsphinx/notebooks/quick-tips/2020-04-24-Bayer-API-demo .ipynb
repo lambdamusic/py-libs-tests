{
 "cells": [
  {
   "cell_type": "markdown",
   "metadata": {
    "colab_type": "text",
    "id": "QBdfHu7X8COk"
   },
   "source": [
    "# Extracting researchers data based on country affiliation \n",
    "\n",
    "In this notebook we show how to \n",
    "\n",
    "* a. query for grants data using the Dimensions API\n",
    "* b. use the researchers and affiliations included in these grants to generate a smaller data including only German researchers. "
   ]
  },
  {
   "cell_type": "markdown",
   "metadata": {
    "colab_type": "text",
    "id": "GZDvDUky4SOk"
   },
   "source": [
    "### Prerequisites\n",
    "\n",
    "First we load some Python libraries and log into the Dimensions API, using [Dimcli](https://api-lab.dimensions.ai/cookbooks/1-getting-started/1-Using-the-Dimcli-library-to-query-the-API.html), the official Dimensions client. \n"
   ]
  },
  {
   "cell_type": "code",
   "execution_count": 3,
   "metadata": {
    "colab": {
     "base_uri": "https://localhost:8080/",
     "height": 34
    },
    "colab_type": "code",
    "executionInfo": {
     "elapsed": 3826,
     "status": "ok",
     "timestamp": 1587742077551,
     "user": {
      "displayName": "Michele Pasin",
      "photoUrl": "https://lh3.googleusercontent.com/a-/AOh14GiYfmLTPbeMuYDDrETLbTVXTXnfVr9f7eBtkmR73A=s64",
      "userId": "10309320684375994511"
     },
     "user_tz": -60
    },
    "id": "JnU4eQN4zFzc",
    "outputId": "063033e0-159c-4a0f-b847-36045a736b7b"
   },
   "outputs": [
    {
     "name": "stdout",
     "output_type": "stream",
     "text": [
      "DimCli v0.6.7 - Succesfully connected to <https://app.dimensions.ai> (method: manual login)\n"
     ]
    }
   ],
   "source": [
    "# @markdown # Get the API library and login \n",
    "# @markdown Click the 'play' button on the left (or shift+enter) after entering your API credentials\n",
    "\n",
    "username = \"\" #@param {type: \"string\"}\n",
    "password = \"\" #@param {type: \"string\"}\n",
    "endpoint = \"https://app.dimensions.ai\" #@param {type: \"string\"}\n",
    "\n",
    "!pip install dimcli plotly tqdm -U --quiet\n",
    "\n",
    "# load common libraries\n",
    "import pandas as pd\n",
    "from pandas.io.json import json_normalize\n",
    "\n",
    "import time\n",
    "import json\n",
    "import sys\n",
    "from tqdm.notebook import tqdm as progress\n",
    "\n",
    "import plotly.express as px\n",
    "from plotly.offline import plot\n",
    "if not 'google.colab' in sys.modules:\n",
    "  # make js dependecies local / needed by html exports \n",
    "  from plotly.offline import init_notebook_mode\n",
    "  init_notebook_mode(connected=True)\n",
    "\n",
    "import dimcli\n",
    "from dimcli.shortcuts import *\n",
    "\n",
    "dimcli.login(username, password, endpoint)\n",
    "dsl = dimcli.Dsl()\n"
   ]
  },
  {
   "cell_type": "markdown",
   "metadata": {
    "colab_type": "text",
    "id": "7WTqX9Qq4rvw"
   },
   "source": [
    "### Query the API\n",
    "\n",
    "For more info on grants search fields see https://docs.dimensions.ai/dsl/datasource-grants.html"
   ]
  },
  {
   "cell_type": "code",
   "execution_count": 16,
   "metadata": {
    "colab": {
     "base_uri": "https://localhost:8080/",
     "height": 34
    },
    "colab_type": "code",
    "executionInfo": {
     "elapsed": 979,
     "status": "ok",
     "timestamp": 1587744037085,
     "user": {
      "displayName": "Michele Pasin",
      "photoUrl": "https://lh3.googleusercontent.com/a-/AOh14GiYfmLTPbeMuYDDrETLbTVXTXnfVr9f7eBtkmR73A=s64",
      "userId": "10309320684375994511"
     },
     "user_tz": -60
    },
    "id": "NBiR3qkFzMpF",
    "outputId": "a476e4db-abc0-491a-a670-5909ded05355"
   },
   "outputs": [
    {
     "name": "stdout",
     "output_type": "stream",
     "text": [
      "Returned Grants: 88 (total = 88)\n"
     ]
    }
   ],
   "source": [
    "data = dslquery(\"\"\"\n",
    "search grants in title_abstract_only for \"gene therapy\" \n",
    "  where start_year=2019 and research_org_countries.id=\"DE\" \n",
    "return grants[id+title+abstract+research_orgs+investigator_details+funders+funding_usd+research_org_countries+research_org_cities+start_date+end_date] limit 1000\n",
    "\"\"\")"
   ]
  },
  {
   "cell_type": "markdown",
   "metadata": {
    "colab_type": "text",
    "id": "hre4KwCz3rOJ"
   },
   "source": [
    "### Quick look at the grants data we obtained"
   ]
  },
  {
   "cell_type": "code",
   "execution_count": 17,
   "metadata": {
    "colab": {
     "base_uri": "https://localhost:8080/",
     "height": 5985
    },
    "colab_type": "code",
    "executionInfo": {
     "elapsed": 758,
     "status": "ok",
     "timestamp": 1587744040205,
     "user": {
      "displayName": "Michele Pasin",
      "photoUrl": "https://lh3.googleusercontent.com/a-/AOh14GiYfmLTPbeMuYDDrETLbTVXTXnfVr9f7eBtkmR73A=s64",
      "userId": "10309320684375994511"
     },
     "user_tz": -60
    },
    "id": "GwWDd6a63u_n",
    "outputId": "7f6f1274-6291-4762-9e7d-fa6ecd1c54ef"
   },
   "outputs": [
    {
     "data": {
      "application/vnd.google.colaboratory.module+javascript": "\n      import \"https://ssl.gstatic.com/colaboratory/data_table/a6224c040fa35dcf/data_table.js\";\n\n      window.createDataTable({\n        data: [[{\n            'v': 0,\n            'f': \"0\",\n        },\n{\n            'v': 588764.0,\n            'f': \"588764.0\",\n        },\n[\"{'id': 'CH', 'name': 'Switzerland'}\", \"{'id': 'CH', 'name': 'Switzerland'}\", \"{'id': 'DE', 'name': 'Germany'}\"],\n[\"{'id': 'grid.425888.b', 'city_name': 'Bern', 'longitude': 7.432395, 'acronym': 'SNF', 'latitude': 46.94923, 'linkout': ['http://www.snf.ch/en'], 'country_name': 'Switzerland', 'types': ['Government'], 'name': 'Swiss National Science Foundation'}\"],\n\"2023-11-30\",\n\"grant.8712748\",\n[\"{'first_name': 'Gabriele', 'id': 'ur.01067661752.69', 'affiliations': [{'city': None, 'city_id': '2660646', 'country': None, 'id': 'grid.8591.5', 'name': 'University of Geneva', 'state_code': None, 'state': None, 'country_code': 'CH'}], 'last_name': 'Thumann', 'role': 'PI', 'middle_name': None}\", \"{'first_name': 'Zolt\\u00e1n', 'id': 'ur.0665574302.37', 'affiliations': [{'city': None, 'city_id': '2881279', 'country': None, 'id': 'grid.425396.f', 'name': 'Paul Ehrlich Institut', 'state_code': None, 'state': None, 'country_code': 'DE'}], 'last_name': 'Ivics', 'role': 'Co-PI', 'middle_name': None}\", \"{'first_name': 'Thais', 'id': 'ur.016520574317.67', 'affiliations': [{'city': None, 'city_id': '2660646', 'country': None, 'id': None, 'name': 'Laboratoire d\\u00b4Ophtalmologie Exp\\u00e9rimentale UNIGE', 'state_code': None, 'state': None, 'country_code': 'CH'}], 'last_name': 'Bascuas-Castillo', 'role': 'Co-PI', 'middle_name': None}\", \"{'role': 'Co-PI', 'first_name': 'Gregg', 'id': 'ur.014444501317.03', 'middle_name': None, 'last_name': 'Sealy'}\"],\n\"2019-12-01\",\n[\"{'id': 'grid.8591.5', 'city_name': 'Geneva', 'longitude': 6.145095, 'acronym': 'UNIGE', 'latitude': 46.199657, 'linkout': ['https://www.unige.ch/'], 'country_name': 'Switzerland', 'types': ['Education'], 'name': 'University of Geneva'}\", \"{'id': 'grid.425396.f', 'city_name': 'Langen', 'longitude': 8.6488, 'acronym': 'PEI', 'latitude': 50.006306, 'linkout': ['http://www.pei.de/EN/home/node.html'], 'country_name': 'Germany', 'types': ['Facility'], 'name': 'Paul Ehrlich Institut'}\"],\n\"Worldwide, millions of patients are affected by retinal degenerative diseases; however, effective therapies are not available. Among these diseases, age-related macular degeneration (AMD) is the most frequent cause of blindness in elderly patients in developed countries with an increasing incidence due to the increased life span and an aging population. There are two forms of AMD, a neovascular (nAMD) and an avascular form or geographic atrophy (GA).  For nAMD treatments, but no cures, exist; for GA no treatments are available. For both types, age is the most important risk factor and results in age-related alterations of the retina that lead to retinal cell death. GA has been associated with inflammatory processes and oxidative stress, which lead to dysfunction, decrease of RPE-synthesized neuroprotective factors, e.g. PEDF, insulin-like growth factors (IGFs) and granulocyte-macrophage colony-stimulating factor (GM-CSF), and loss of retinal pigment epithelial (RPE) cells followed by photoreceptor and retinal ganglion cell (RGC) death. We postulated that continuous administration of neuroprotective factors like PEDF, IGF-1 and GM-CSF protect retinal cells from degeneration. The continuous delivery of factors to the retina is challenging. Polymeric drug delivery systems are a possibility; however, currently available systems do not release drugs in a dose-uniform manner in addition to other difficulties. An ideal system would be the transplantation of cells that not only deliver required factors but would also replace degenerated cells. To meet such goal, we developed a protocol to transplant subretinally pigment epithelial cells that have been transfected ex vivo with the appropriate genes using the Sleeping Beauty transposon system (SB100X). To transfer such a Gene Therapy Medicinal Product (GTMP) to the clinic, safety measures and appropriate quality controls are essential; however, despite progress in the development of gene therapies, suitable methods for the safety and in-process control of personalized GTMPs are not available especially when GTMPs\\u2019 manufacturing relies on time-restricted transfection of small numbers of autologous cells. Current safety measures, e.g. tumorigenicity tests in nude mice, are only of limited transferability and raise serious ethical concerns. The objectives of the proposal are to establish in vitro genotoxicity and tumorigenicity tests for GTMPs in 3D retinal organ cultures to reduce the use of experimental animals; systemic toxicity will be evaluated in healthy rabbits; an universal GMP-compliant on-site in-process quality control system will be developed. Moreover, the safety of the proposed cell-based gene therapy approach will be insured by using the SB100X transposase as mRNA, instead of SB100X DNA. mRNA has the advantage that within minutes of integrating the gene into the host cell\\u2019s genome it is degraded, thus excluding the possible remobilization of the transposon, which could resulting in possible harmful effects.\",\n[\"{'id': 2660646, 'name': 'Gen\\u00e8ve'}\", \"{'id': 2660646, 'name': 'Gen\\u00e8ve'}\", \"{'id': 2881279, 'name': 'Langen'}\"],\n\"Integrative, transposon based vectors in ocular gene therapy - safety improvement and in-process quality control\"],\n [{\n            'v': 1,\n            'f': \"1\",\n        },\n{\n            'v': 294945.0,\n            'f': \"294945.0\",\n        },\n[\"{'id': 'DE', 'name': 'Germany'}\", \"{'id': 'AU', 'name': 'Australia'}\"],\n[\"{'id': 'grid.270680.b', 'city_name': 'Brussels', 'longitude': 4.36367, 'acronym': 'EC', 'latitude': 50.85165, 'linkout': ['http://ec.europa.eu/index_en.htm'], 'country_name': 'Belgium', 'types': ['Government'], 'name': 'European Commission'}\"],\n\"2022-07-31\",\n\"grant.7911778\",\n[\"{'last_name': 'SCHMIDT', 'first_name': 'Karin', 'role': 'PI', 'id': 'ur.011513133663.69', 'middle_name': None}\"],\n\"2019-08-01\",\n[\"{'id': 'grid.6363.0', 'city_name': 'Berlin', 'longitude': 13.379722, 'latitude': 52.52667, 'linkout': ['http://www.charite.de/en/charite/'], 'country_name': 'Germany', 'types': ['Healthcare'], 'name': 'Charit\\u00e9 \\u2013 University Medicine Berlin'}\", \"{'id': 'grid.1002.3', 'city_name': 'Melbourne', 'longitude': 145.138, 'state_name': 'Victoria', 'latitude': -37.9083, 'linkout': ['http://www.monash.edu/'], 'country_name': 'Australia', 'types': ['Education'], 'name': 'Monash University'}\"],\n\"Demographic change includes population ageing, and incidence rates begin to increase for many types of cancer in middle-aged and elderly people. Traditional cancer treatment includes surgery, chemotherapy, and radiation therapy, while tumour immunotherapy by T cell receptor (TCR) gene transfer represents an alternative form of treatment. The transfer of tumour-specific TCR genes into patient\\u2019s peripheral blood lymphocytes targets cancer specifically and effectively. But while patient-derived low-affinity TCRs do not show therapeutic activity, optimal-affinity TCRs, as isolated from newly-generated antigen-negative humanized mice with a diverse human TCR repertoire, can effectively delay tumour regression. X-ray crystallography is a powerful tool of structural biology, which helps researchers to identify the three-dimensional (3D) structures of biological macromolecules such as TCRs complexed to their cognate peptide-loaded major histocompatibility complex (pMHC) molecules. Recent research uncovered the docking topologies of naturally selected TCRs, but therapeutically efficient optimal-affinity TCRs recognizing tumour-associated self-antigens, have not been analysed to date. The exceptional specificity of TCRs is determined by three complementarity-determining regions (CDRs) of the TCR alpha- and beta-chains. Biomedical research on TCR gene therapy and design of future clinical trials will hugely benefit from the identification of CDR-mediated contact points made between therapeutic TCRs and the pMHC on their target cells. TCRabX is an interdisciplinary research project investigating the 3D structures of 13 TCRs complexed to MHC-I or MHC-II, respectively. It connects innovative clinical immunology research in Berlin/Germany and world-class structural biology research in Melbourne/Australia. The proposed research will enhance the health and well-being of citizens in Europe and worldwide by supporting the advancement of cancer immunotherapy approaches.\",\n[\"{'id': 2950159, 'name': 'Berlin'}\", \"{'id': 2158177, 'name': 'Melbourne'}\"],\n\"Structural basis for the therapeutic efficiency of optimal-affinity T cell receptors\"],\n [{\n            'v': 2,\n            'f': \"2\",\n        },\n{\n            'v': 181848.0,\n            'f': \"181848.0\",\n        },\n[\"{'id': 'DE', 'name': 'Germany'}\"],\n[\"{'id': 'grid.270680.b', 'city_name': 'Brussels', 'longitude': 4.36367, 'acronym': 'EC', 'latitude': 50.85165, 'linkout': ['http://ec.europa.eu/index_en.htm'], 'country_name': 'Belgium', 'types': ['Government'], 'name': 'European Commission'}\"],\n\"2021-07-31\",\n\"grant.8584963\",\n[\"{'last_name': 'Hormanseder', 'first_name': 'Eva', 'affiliations': [{'city_id': '2867714', 'city': 'NEUHERBERG', 'country': 'DE', 'state': None, 'state_code': None, 'name': 'HELMHOLTZ ZENTRUM MUENCHEN DEUTSCHES FORSCHUNGSZENTRUM FUER GESUNDHEIT UND UMWELT GMBH', 'id': 'grid.4567.0', 'country_code': 'DE'}], 'role': 'PI', 'id': 'ur.012511757223.70', 'middle_name': None}\"],\n\"2019-08-01\",\n[\"{'id': 'grid.4567.0', 'city_name': 'Munich', 'longitude': 11.593333, 'latitude': 48.2225, 'linkout': ['http://www.helmholtz-muenchen.de/en/index.html'], 'country_name': 'Germany', 'types': ['Facility'], 'name': 'Helmholtz Zentrum M\\u00fcnchen'}\"],\n\"Vertebrate eggs can induce the reprogramming of transplanted somatic nuclei to enable the generation of all cell types of a cloned organism. However, the efficiency of nuclear reprogramming is low, and only a small proportion of the nuclear transfer embryos generated from differentiated cells reach a reproductive adulthood. How the egg achieves the erasure of the previous somatic cell identity and the establishment of totipotency only in some instances remains a question of fundamental importance. Epigenetic modifications were shown to be major roadblocks to reprogramming, but how these roadblocks resist removal by the egg factors and how they are instead propagated during early embryonic cell divisions to induce inappropriate expression of genes in nuclear transfer embryos is not known. This proposal aims at identifying the molecules in the egg that a) help to overcome the epigenetic barriers during successful reprogramming events and b) cause resistance when reprogramming fails. We will then c) interfere with these mechanisms to improve cell fate conversion. The gained molecular insights into cell fate reprogramming via the natural activities present in the egg can then be utilized to develop efficient reprogramming strategies for therapeutic purposes such as enhancing regeneration or improving cell replacement therapies.\",\n[\"{'id': 2867714, 'name': 'Munich'}\"],\n\"The Molecular Mechanisms of Cell Fate Reprogramming in Vertebrate Eggs\"],\n [{\n            'v': 3,\n            'f': \"3\",\n        },\n{\n            'v': 452410.0,\n            'f': \"452410.0\",\n        },\n[\"{'id': 'CH', 'name': 'Switzerland'}\", \"{'id': 'DE', 'name': 'Germany'}\"],\n[\"{'id': 'grid.425888.b', 'city_name': 'Bern', 'longitude': 7.432395, 'acronym': 'SNF', 'latitude': 46.94923, 'linkout': ['http://www.snf.ch/en'], 'country_name': 'Switzerland', 'types': ['Government'], 'name': 'Swiss National Science Foundation'}\"],\n\"2022-06-30\",\n\"grant.8483684\",\n[\"{'first_name': 'Michael', 'id': 'ur.0744526353.25', 'affiliations': [{'city': None, 'city_id': '2657896', 'country': None, 'id': 'grid.7400.3', 'name': 'University of Zurich', 'state_code': None, 'state': None, 'country_code': 'CH'}], 'last_name': 'Weller', 'role': 'PI', 'middle_name': None}\", \"{'role': 'Co-PI', 'first_name': 'Franziska', 'id': 'ur.013124411604.15', 'middle_name': None, 'last_name': 'Wiget'}\", \"{'first_name': 'Guido', 'id': 'ur.07524506162.54', 'affiliations': [{'city': None, 'city_id': '2934246', 'country': None, 'id': 'grid.411327.2', 'name': 'Institut f\\u00fcr Neuropathologie Heinrich Heine Universit\\u00e4t D\\u00fcsseldorf', 'state_code': None, 'state': None, 'country_code': 'DE'}], 'last_name': 'Reifenberger', 'role': 'Co-PI', 'middle_name': None}\", \"{'role': 'Co-PI', 'first_name': 'Evelina', 'id': 'ur.015004760537.19', 'middle_name': None, 'last_name': 'Blomberg'}\"],\n\"2019-07-01\",\n[\"{'id': 'grid.7400.3', 'city_name': 'Zurich', 'longitude': 8.55097, 'acronym': 'UZH', 'latitude': 47.374535, 'linkout': ['http://www.uzh.ch/index_en.html'], 'country_name': 'Switzerland', 'types': ['Education'], 'name': 'University of Zurich'}\", \"{'id': 'grid.411327.2', 'city_name': 'D\\u00fcsseldorf', 'longitude': 6.790581, 'acronym': 'HHU', 'latitude': 51.19679, 'linkout': ['http://www.uni-duesseldorf.de/home/en/home.html'], 'country_name': 'Germany', 'types': ['Education'], 'name': 'Heinrich Heine University D\\u00fcsseldorf'}\"],\n\"The median survival of patients with glioblastoma, the most malignant subtype of glioma, is still limited to approximately one year, despite multi-modal therapy, in population-based studies. The introduction of the alkylating agent temozolomide (TMZ) has improved the outcome selectively in glioblastoma patients with tumors exhibiting promoter methylation of the O6-methylguanine-DNA methyltransferase (MGMT) gene, but even these patients eventually all die from their disease. Our laboratory has a long-standing interest in understanding the role and potential clinical relevance of type I interferon (IFN) signalling in glioblastoma. Recently we have modelled a less aggressive phenotype of glioblastoma that was conferred by repetitive exposure of glioblastoma-initiating cells to IFN-beta and that we refer to as the \\u201cIS\\u201d (IFN-stimulated) phenotype. Although these cells acquire resistance to IFN-induced suppression of spherogenicity, they maintain canonical IFN signalling, but grow more slowly in vitro and in vivo and exhibit features of senescence. AIM 1 of this proposal aims at characterizing this IS phenotype on a molecular level by RNA sequencing and at exploring whether an elucidation of the central pathways mediating the IS phenotype may result in novel therapeutic options for glioblastoma. AIM 2 seeks to develop a novel approach of immunotherapy to glioblastoma that is based on preliminary observations of synergistic growth inhibition of syngeneic mouse gliomas by IFN-beta and programmed death (PD)-1 inhibition. Here we seek to determine the biological significance of IFN-beta-induced induction of PD ligand 1 (PDL1), which would counteract immunotherapy unless blocked by PD-1 inhibition, and whether therapeutic efficacy is mediated by IFN receptors expressed on host or tumor cells. Such combined immunotherapy approaches, if promising in preclinical models in vivo, could be rapidly translated into a clinical setting.\",\n[\"{'id': 2657896, 'name': 'Z\\u00fcrich'}\", \"{'id': 2934246, 'name': 'D\\u00fcsseldorf'}\"],\n\"The role of interferon type I signalling in the malignant phenotype and response to immune checkpoint inhibition in glioblastoma\"],\n [{\n            'v': 4,\n            'f': \"4\",\n        },\n{\n            'v': 2724509.0,\n            'f': \"2724509.0\",\n        },\n[\"{'id': 'IE', 'name': 'Ireland'}\", \"{'id': 'GB', 'name': 'United Kingdom'}\", \"{'id': 'DE', 'name': 'Germany'}\"],\n[\"{'id': 'grid.270680.b', 'city_name': 'Brussels', 'longitude': 4.36367, 'acronym': 'EC', 'latitude': 50.85165, 'linkout': ['http://ec.europa.eu/index_en.htm'], 'country_name': 'Belgium', 'types': ['Government'], 'name': 'European Commission'}\"],\n\"2021-05-31\",\n\"grant.8586122\",\n[],\n\"2019-06-01\",\nNaN,\n\"The detailed analysis of live cells, as shed elements of a human disease process, cell therapies themselves or as factories for the production of biologic drugs, is attracting intense focus globally from diverse companies in automation, imaging, diagnostics and manufacturing. This proposal is made on behalf of a consortium of 3 European SME\\u2019s to support the validation and preparation for commercial take-up of the market entry application, Cell Line Development [CLD], of a new transformative technology at the forefront of these areas and is ideally suited for cell line development, antibody discovery, gene editing, cell therapy, antibody engineering and ex-vivo diagnostic workflows. Each workflow provides a dramatic increase in insight, control, speed and cost, ultimately resulting in faster, cheaper and more regulatory robust medicines for European patients.   Biologic drugs are large in size and are manufactured from a single cell selected following an expensive, relatively crude and time consuming process - Cell Line Development. Our technology can select the 'Top' cell using a detailed analysis of the critical quality attributes along with providing complete image recording and documentation of the growth from a single cell [regulatory requirement]. This cell selection and control is essential as all resulting master and working cell banks are used over the entire life\\u2010cycle of the marketed product that can last multiple decades.   This FTI funding will enable market entry and validation & support external fundraising for the wider penetration of the global drug discovery, Cell therapy & ex-vivo diagnostic markets. This is a potentially transformative technology platform in a very large market with 1 current aggressively funded US competitor and our success will ensure competition, continued innovation and most importantly cheaper medicines for European patients.\",\n[\"{'id': 2964574, 'name': 'Dublin'}\", \"{'id': 2633863, 'name': 'Wimborne Minster'}\", \"{'id': 2949975, 'name': 'Bernried'}\"],\n\"Intelligent Live Cell Analysis [iLCA] to transform disease management through faster, and more regulatory robust, discovery, manufacture and monitoring of biologic drugs & cell therapies\"]],\n        columns: [[\"number\", \"index\"], [\"number\", \"funding_usd\"], [\"string\", \"research_org_countries\"], [\"string\", \"funders\"], [\"string\", \"end_date\"], [\"string\", \"id\"], [\"string\", \"investigator_details\"], [\"string\", \"start_date\"], [\"string\", \"research_orgs\"], [\"string\", \"abstract\"], [\"string\", \"research_org_cities\"], [\"string\", \"title\"]],\n        columnOptions: [{\"width\": \"1px\", \"className\": \"index_column\"}],\n        rowsPerPage: 25,\n        helpUrl: \"https://colab.research.google.com/notebooks/data_table.ipynb\",\n        suppressOutputScrolling: true,\n        minimumWidth: undefined,\n      });\n    ",
      "text/html": [
       "<div>\n",
       "<style scoped>\n",
       "    .dataframe tbody tr th:only-of-type {\n",
       "        vertical-align: middle;\n",
       "    }\n",
       "\n",
       "    .dataframe tbody tr th {\n",
       "        vertical-align: top;\n",
       "    }\n",
       "\n",
       "    .dataframe thead th {\n",
       "        text-align: right;\n",
       "    }\n",
       "</style>\n",
       "<table border=\"1\" class=\"dataframe\">\n",
       "  <thead>\n",
       "    <tr style=\"text-align: right;\">\n",
       "      <th></th>\n",
       "      <th>funding_usd</th>\n",
       "      <th>research_org_countries</th>\n",
       "      <th>funders</th>\n",
       "      <th>end_date</th>\n",
       "      <th>id</th>\n",
       "      <th>investigator_details</th>\n",
       "      <th>start_date</th>\n",
       "      <th>research_orgs</th>\n",
       "      <th>abstract</th>\n",
       "      <th>research_org_cities</th>\n",
       "      <th>title</th>\n",
       "    </tr>\n",
       "  </thead>\n",
       "  <tbody>\n",
       "    <tr>\n",
       "      <th>0</th>\n",
       "      <td>588764.0</td>\n",
       "      <td>[{'id': 'CH', 'name': 'Switzerland'}, {'id': '...</td>\n",
       "      <td>[{'id': 'grid.425888.b', 'city_name': 'Bern', ...</td>\n",
       "      <td>2023-11-30</td>\n",
       "      <td>grant.8712748</td>\n",
       "      <td>[{'first_name': 'Gabriele', 'id': 'ur.01067661...</td>\n",
       "      <td>2019-12-01</td>\n",
       "      <td>[{'id': 'grid.8591.5', 'city_name': 'Geneva', ...</td>\n",
       "      <td>Worldwide, millions of patients are affected b...</td>\n",
       "      <td>[{'id': 2660646, 'name': 'Genève'}, {'id': 266...</td>\n",
       "      <td>Integrative, transposon based vectors in ocula...</td>\n",
       "    </tr>\n",
       "    <tr>\n",
       "      <th>1</th>\n",
       "      <td>294945.0</td>\n",
       "      <td>[{'id': 'DE', 'name': 'Germany'}, {'id': 'AU',...</td>\n",
       "      <td>[{'id': 'grid.270680.b', 'city_name': 'Brussel...</td>\n",
       "      <td>2022-07-31</td>\n",
       "      <td>grant.7911778</td>\n",
       "      <td>[{'last_name': 'SCHMIDT', 'first_name': 'Karin...</td>\n",
       "      <td>2019-08-01</td>\n",
       "      <td>[{'id': 'grid.6363.0', 'city_name': 'Berlin', ...</td>\n",
       "      <td>Demographic change includes population ageing,...</td>\n",
       "      <td>[{'id': 2950159, 'name': 'Berlin'}, {'id': 215...</td>\n",
       "      <td>Structural basis for the therapeutic efficienc...</td>\n",
       "    </tr>\n",
       "    <tr>\n",
       "      <th>2</th>\n",
       "      <td>181848.0</td>\n",
       "      <td>[{'id': 'DE', 'name': 'Germany'}]</td>\n",
       "      <td>[{'id': 'grid.270680.b', 'city_name': 'Brussel...</td>\n",
       "      <td>2021-07-31</td>\n",
       "      <td>grant.8584963</td>\n",
       "      <td>[{'last_name': 'Hormanseder', 'first_name': 'E...</td>\n",
       "      <td>2019-08-01</td>\n",
       "      <td>[{'id': 'grid.4567.0', 'city_name': 'Munich', ...</td>\n",
       "      <td>Vertebrate eggs can induce the reprogramming o...</td>\n",
       "      <td>[{'id': 2867714, 'name': 'Munich'}]</td>\n",
       "      <td>The Molecular Mechanisms of Cell Fate Reprogra...</td>\n",
       "    </tr>\n",
       "    <tr>\n",
       "      <th>3</th>\n",
       "      <td>452410.0</td>\n",
       "      <td>[{'id': 'CH', 'name': 'Switzerland'}, {'id': '...</td>\n",
       "      <td>[{'id': 'grid.425888.b', 'city_name': 'Bern', ...</td>\n",
       "      <td>2022-06-30</td>\n",
       "      <td>grant.8483684</td>\n",
       "      <td>[{'first_name': 'Michael', 'id': 'ur.074452635...</td>\n",
       "      <td>2019-07-01</td>\n",
       "      <td>[{'id': 'grid.7400.3', 'city_name': 'Zurich', ...</td>\n",
       "      <td>The median survival of patients with glioblast...</td>\n",
       "      <td>[{'id': 2657896, 'name': 'Zürich'}, {'id': 293...</td>\n",
       "      <td>The role of interferon type I signalling in th...</td>\n",
       "    </tr>\n",
       "    <tr>\n",
       "      <th>4</th>\n",
       "      <td>2724509.0</td>\n",
       "      <td>[{'id': 'IE', 'name': 'Ireland'}, {'id': 'GB',...</td>\n",
       "      <td>[{'id': 'grid.270680.b', 'city_name': 'Brussel...</td>\n",
       "      <td>2021-05-31</td>\n",
       "      <td>grant.8586122</td>\n",
       "      <td>[]</td>\n",
       "      <td>2019-06-01</td>\n",
       "      <td>NaN</td>\n",
       "      <td>The detailed analysis of live cells, as shed e...</td>\n",
       "      <td>[{'id': 2964574, 'name': 'Dublin'}, {'id': 263...</td>\n",
       "      <td>Intelligent Live Cell Analysis [iLCA] to trans...</td>\n",
       "    </tr>\n",
       "  </tbody>\n",
       "</table>\n",
       "</div>"
      ],
      "text/plain": [
       "   funding_usd  ...                                              title\n",
       "0     588764.0  ...  Integrative, transposon based vectors in ocula...\n",
       "1     294945.0  ...  Structural basis for the therapeutic efficienc...\n",
       "2     181848.0  ...  The Molecular Mechanisms of Cell Fate Reprogra...\n",
       "3     452410.0  ...  The role of interferon type I signalling in th...\n",
       "4    2724509.0  ...  Intelligent Live Cell Analysis [iLCA] to trans...\n",
       "\n",
       "[5 rows x 11 columns]"
      ]
     },
     "execution_count": 17,
     "metadata": {
      "tags": []
     },
     "output_type": "execute_result"
    }
   ],
   "source": [
    "grants = data.as_dataframe()\n",
    "grants.head(5)"
   ]
  },
  {
   "cell_type": "markdown",
   "metadata": {
    "colab_type": "text",
    "id": "dDbtm28W33hf"
   },
   "source": [
    "### Quick look at the investigators mentioned in those grants"
   ]
  },
  {
   "cell_type": "code",
   "execution_count": 18,
   "metadata": {
    "colab": {
     "base_uri": "https://localhost:8080/",
     "height": 337
    },
    "colab_type": "code",
    "executionInfo": {
     "elapsed": 565,
     "status": "ok",
     "timestamp": 1587744046234,
     "user": {
      "displayName": "Michele Pasin",
      "photoUrl": "https://lh3.googleusercontent.com/a-/AOh14GiYfmLTPbeMuYDDrETLbTVXTXnfVr9f7eBtkmR73A=s64",
      "userId": "10309320684375994511"
     },
     "user_tz": -60
    },
    "id": "NHqIUL4_3u9Y",
    "outputId": "9d376b83-691d-45f3-9b29-2dbc9da9113f"
   },
   "outputs": [
    {
     "data": {
      "application/vnd.google.colaboratory.module+javascript": "\n      import \"https://ssl.gstatic.com/colaboratory/data_table/a6224c040fa35dcf/data_table.js\";\n\n      window.createDataTable({\n        data: [[{\n            'v': 0,\n            'f': \"0\",\n        },\n\"Gabriele\",\n\"ur.01067661752.69\",\n[\"{'city': None, 'city_id': '2660646', 'country': None, 'id': 'grid.8591.5', 'name': 'University of Geneva', 'state_code': None, 'state': None, 'country_code': 'CH'}\"],\n\"Thumann\",\n\"PI\",\n{\n            'v': null,\n            'f': \"null\",\n        },\n\"grant.8712748\",\n\"Integrative, transposon based vectors in ocular gene therapy - safety improvement and in-process quality control\",\n\"2019-12-01\",\n\"2023-11-30\"],\n [{\n            'v': 1,\n            'f': \"1\",\n        },\n\"Zolt\\u00e1n\",\n\"ur.0665574302.37\",\n[\"{'city': None, 'city_id': '2881279', 'country': None, 'id': 'grid.425396.f', 'name': 'Paul Ehrlich Institut', 'state_code': None, 'state': None, 'country_code': 'DE'}\"],\n\"Ivics\",\n\"Co-PI\",\n{\n            'v': null,\n            'f': \"null\",\n        },\n\"grant.8712748\",\n\"Integrative, transposon based vectors in ocular gene therapy - safety improvement and in-process quality control\",\n\"2019-12-01\",\n\"2023-11-30\"],\n [{\n            'v': 2,\n            'f': \"2\",\n        },\n\"Thais\",\n\"ur.016520574317.67\",\n[\"{'city': None, 'city_id': '2660646', 'country': None, 'id': None, 'name': 'Laboratoire d\\u00b4Ophtalmologie Exp\\u00e9rimentale UNIGE', 'state_code': None, 'state': None, 'country_code': 'CH'}\"],\n\"Bascuas-Castillo\",\n\"Co-PI\",\n{\n            'v': null,\n            'f': \"null\",\n        },\n\"grant.8712748\",\n\"Integrative, transposon based vectors in ocular gene therapy - safety improvement and in-process quality control\",\n\"2019-12-01\",\n\"2023-11-30\"],\n [{\n            'v': 3,\n            'f': \"3\",\n        },\n\"Gregg\",\n\"ur.014444501317.03\",\nNaN,\n\"Sealy\",\n\"Co-PI\",\n{\n            'v': null,\n            'f': \"null\",\n        },\n\"grant.8712748\",\n\"Integrative, transposon based vectors in ocular gene therapy - safety improvement and in-process quality control\",\n\"2019-12-01\",\n\"2023-11-30\"],\n [{\n            'v': 4,\n            'f': \"4\",\n        },\n\"Karin\",\n\"ur.011513133663.69\",\nNaN,\n\"SCHMIDT\",\n\"PI\",\n{\n            'v': null,\n            'f': \"null\",\n        },\n\"grant.7911778\",\n\"Structural basis for the therapeutic efficiency of optimal-affinity T cell receptors\",\n\"2019-08-01\",\n\"2022-07-31\"]],\n        columns: [[\"number\", \"index\"], [\"string\", \"first_name\"], [\"string\", \"id\"], [\"string\", \"affiliations\"], [\"string\", \"last_name\"], [\"string\", \"role\"], [\"number\", \"middle_name\"], [\"string\", \"grant_id\"], [\"string\", \"grant_title\"], [\"string\", \"grant_start_date\"], [\"string\", \"grant_end_date\"]],\n        columnOptions: [{\"width\": \"1px\", \"className\": \"index_column\"}],\n        rowsPerPage: 25,\n        helpUrl: \"https://colab.research.google.com/notebooks/data_table.ipynb\",\n        suppressOutputScrolling: true,\n        minimumWidth: undefined,\n      });\n    ",
      "text/html": [
       "<div>\n",
       "<style scoped>\n",
       "    .dataframe tbody tr th:only-of-type {\n",
       "        vertical-align: middle;\n",
       "    }\n",
       "\n",
       "    .dataframe tbody tr th {\n",
       "        vertical-align: top;\n",
       "    }\n",
       "\n",
       "    .dataframe thead th {\n",
       "        text-align: right;\n",
       "    }\n",
       "</style>\n",
       "<table border=\"1\" class=\"dataframe\">\n",
       "  <thead>\n",
       "    <tr style=\"text-align: right;\">\n",
       "      <th></th>\n",
       "      <th>first_name</th>\n",
       "      <th>id</th>\n",
       "      <th>affiliations</th>\n",
       "      <th>last_name</th>\n",
       "      <th>role</th>\n",
       "      <th>middle_name</th>\n",
       "      <th>grant_id</th>\n",
       "      <th>grant_title</th>\n",
       "      <th>grant_start_date</th>\n",
       "      <th>grant_end_date</th>\n",
       "    </tr>\n",
       "  </thead>\n",
       "  <tbody>\n",
       "    <tr>\n",
       "      <th>0</th>\n",
       "      <td>Gabriele</td>\n",
       "      <td>ur.01067661752.69</td>\n",
       "      <td>[{'city': None, 'city_id': '2660646', 'country...</td>\n",
       "      <td>Thumann</td>\n",
       "      <td>PI</td>\n",
       "      <td>None</td>\n",
       "      <td>grant.8712748</td>\n",
       "      <td>Integrative, transposon based vectors in ocula...</td>\n",
       "      <td>2019-12-01</td>\n",
       "      <td>2023-11-30</td>\n",
       "    </tr>\n",
       "    <tr>\n",
       "      <th>1</th>\n",
       "      <td>Zoltán</td>\n",
       "      <td>ur.0665574302.37</td>\n",
       "      <td>[{'city': None, 'city_id': '2881279', 'country...</td>\n",
       "      <td>Ivics</td>\n",
       "      <td>Co-PI</td>\n",
       "      <td>None</td>\n",
       "      <td>grant.8712748</td>\n",
       "      <td>Integrative, transposon based vectors in ocula...</td>\n",
       "      <td>2019-12-01</td>\n",
       "      <td>2023-11-30</td>\n",
       "    </tr>\n",
       "    <tr>\n",
       "      <th>2</th>\n",
       "      <td>Thais</td>\n",
       "      <td>ur.016520574317.67</td>\n",
       "      <td>[{'city': None, 'city_id': '2660646', 'country...</td>\n",
       "      <td>Bascuas-Castillo</td>\n",
       "      <td>Co-PI</td>\n",
       "      <td>None</td>\n",
       "      <td>grant.8712748</td>\n",
       "      <td>Integrative, transposon based vectors in ocula...</td>\n",
       "      <td>2019-12-01</td>\n",
       "      <td>2023-11-30</td>\n",
       "    </tr>\n",
       "    <tr>\n",
       "      <th>3</th>\n",
       "      <td>Gregg</td>\n",
       "      <td>ur.014444501317.03</td>\n",
       "      <td>NaN</td>\n",
       "      <td>Sealy</td>\n",
       "      <td>Co-PI</td>\n",
       "      <td>None</td>\n",
       "      <td>grant.8712748</td>\n",
       "      <td>Integrative, transposon based vectors in ocula...</td>\n",
       "      <td>2019-12-01</td>\n",
       "      <td>2023-11-30</td>\n",
       "    </tr>\n",
       "    <tr>\n",
       "      <th>4</th>\n",
       "      <td>Karin</td>\n",
       "      <td>ur.011513133663.69</td>\n",
       "      <td>NaN</td>\n",
       "      <td>SCHMIDT</td>\n",
       "      <td>PI</td>\n",
       "      <td>None</td>\n",
       "      <td>grant.7911778</td>\n",
       "      <td>Structural basis for the therapeutic efficienc...</td>\n",
       "      <td>2019-08-01</td>\n",
       "      <td>2022-07-31</td>\n",
       "    </tr>\n",
       "  </tbody>\n",
       "</table>\n",
       "</div>"
      ],
      "text/plain": [
       "  first_name                  id  ... grant_start_date grant_end_date\n",
       "0   Gabriele   ur.01067661752.69  ...       2019-12-01     2023-11-30\n",
       "1     Zoltán    ur.0665574302.37  ...       2019-12-01     2023-11-30\n",
       "2      Thais  ur.016520574317.67  ...       2019-12-01     2023-11-30\n",
       "3      Gregg  ur.014444501317.03  ...       2019-12-01     2023-11-30\n",
       "4      Karin  ur.011513133663.69  ...       2019-08-01     2022-07-31\n",
       "\n",
       "[5 rows x 10 columns]"
      ]
     },
     "execution_count": 18,
     "metadata": {
      "tags": []
     },
     "output_type": "execute_result"
    }
   ],
   "source": [
    "investigators = data.as_dataframe_investigators()\n",
    "investigators.head(5)"
   ]
  },
  {
   "cell_type": "markdown",
   "metadata": {
    "colab_type": "text",
    "id": "L8rIDxEc4Bty"
   },
   "source": [
    "### Let's filter for German investigators only\n",
    "\n",
    "One way to do this is by building a new dataframe that 'explodes' the `affiliations` column in the investigators list. \n",
    "\n",
    "Then we use the field `aff_country_code` to extract only German researchers. \n"
   ]
  },
  {
   "cell_type": "code",
   "execution_count": 0,
   "metadata": {
    "colab": {},
    "colab_type": "code",
    "id": "KXgmDqtizMww"
   },
   "outputs": [],
   "source": [
    "affiliations = pd.json_normalize(json.loads(investigators.to_json(orient='records')), record_path=['affiliations'], \n",
    "               meta=['id', 'first_name', 'last_name',  'role', 'grant_id', 'grant_title', 'grant_start_date', 'grant_end_date'], record_prefix='aff_')"
   ]
  },
  {
   "cell_type": "code",
   "execution_count": 23,
   "metadata": {
    "colab": {
     "base_uri": "https://localhost:8080/",
     "height": 1401
    },
    "colab_type": "code",
    "executionInfo": {
     "elapsed": 887,
     "status": "ok",
     "timestamp": 1587744328665,
     "user": {
      "displayName": "Michele Pasin",
      "photoUrl": "https://lh3.googleusercontent.com/a-/AOh14GiYfmLTPbeMuYDDrETLbTVXTXnfVr9f7eBtkmR73A=s64",
      "userId": "10309320684375994511"
     },
     "user_tz": -60
    },
    "id": "rc67241CzMzN",
    "outputId": "3035a7be-a3b5-4d9b-bec2-eb50df57ba1f"
   },
   "outputs": [
    {
     "data": {
      "application/vnd.google.colaboratory.module+javascript": "\n      import \"https://ssl.gstatic.com/colaboratory/data_table/a6224c040fa35dcf/data_table.js\";\n\n      window.createDataTable({\n        data: [[{\n            'v': 1,\n            'f': \"1\",\n        },\nnull,\n\"2881279\",\nnull,\n\"grid.425396.f\",\n\"Paul Ehrlich Institut\",\n{\n            'v': null,\n            'f': \"null\",\n        },\n{\n            'v': null,\n            'f': \"null\",\n        },\n\"DE\",\n\"ur.0665574302.37\",\n\"Zolt\\u00e1n\",\n\"Ivics\",\n\"Co-PI\",\n\"grant.8712748\",\n\"Integrative, transposon based vectors in ocular gene therapy - safety improvement and in-process quality control\",\n\"2019-12-01\",\n\"2023-11-30\"],\n [{\n            'v': 3,\n            'f': \"3\",\n        },\n\"NEUHERBERG\",\n\"2867714\",\n\"DE\",\n\"grid.4567.0\",\n\"HELMHOLTZ ZENTRUM MUENCHEN DEUTSCHES FORSCHUNGSZENTRUM FUER GESUNDHEIT UND UMWELT GMBH\",\n{\n            'v': null,\n            'f': \"null\",\n        },\n{\n            'v': null,\n            'f': \"null\",\n        },\n\"DE\",\n\"ur.012511757223.70\",\n\"Eva\",\n\"Hormanseder\",\n\"PI\",\n\"grant.8584963\",\n\"The Molecular Mechanisms of Cell Fate Reprogramming in Vertebrate Eggs\",\n\"2019-08-01\",\n\"2021-07-31\"],\n [{\n            'v': 5,\n            'f': \"5\",\n        },\nnull,\n\"2934246\",\nnull,\n\"grid.411327.2\",\n\"Institut f\\u00fcr Neuropathologie Heinrich Heine Universit\\u00e4t D\\u00fcsseldorf\",\n{\n            'v': null,\n            'f': \"null\",\n        },\n{\n            'v': null,\n            'f': \"null\",\n        },\n\"DE\",\n\"ur.07524506162.54\",\n\"Guido\",\n\"Reifenberger\",\n\"Co-PI\",\n\"grant.8483684\",\n\"The role of interferon type I signalling in the malignant phenotype and response to immune checkpoint inhibition in glioblastoma\",\n\"2019-07-01\",\n\"2022-06-30\"],\n [{\n            'v': 6,\n            'f': \"6\",\n        },\n\"HANNOVER\",\n\"2910831\",\n\"DE\",\n\"grid.10423.34\",\n\"MEDIZINISCHE HOCHSCHULE HANNOVER\",\n{\n            'v': null,\n            'f': \"null\",\n        },\n{\n            'v': null,\n            'f': \"null\",\n        },\n\"DE\",\n\"ur.01125237061.67\",\n\"Axel Rainer\",\n\"Schambach\",\n\"PI\",\n\"grant.8104346\",\n\"Gene therapy of inherited and acquired hearing loss\",\n\"2019-05-01\",\n\"2024-04-30\"],\n [{\n            'v': 8,\n            'f': \"8\",\n        },\nnull,\n\"2867714\",\nnull,\n\"grid.5252.0\",\n\"Max-Eder Research Group 4 Pediatric Sarcomas Institute of Pathology Ludwig-Maximilians-Universit\\u00e4t M\\u00fcnchen\",\n{\n            'v': null,\n            'f': \"null\",\n        },\n{\n            'v': null,\n            'f': \"null\",\n        },\n\"DE\",\n\"ur.013312575257.07\",\n\"Thomas G. P.\",\n\"Gr\\u00fcnewald\",\n\"Co-PI\",\n\"grant.7922081\",\n\"Ewing Sarcoma metastatic invasion dissected through new 3D vascularized human microfluidic models recapitulating endochondral ossification\",\n\"2019-02-01\",\n\"2022-01-31\"],\n [{\n            'v': 10,\n            'f': \"10\",\n        },\nnull,\n\"2867543\",\n\"Germany\",\n\"grid.16149.3b\",\n\"Universit\\u00e4tsklinikum M\\u00fcnster\",\n{\n            'v': null,\n            'f': \"null\",\n        },\n{\n            'v': null,\n            'f': \"null\",\n        },\n\"DE\",\n\"ur.0714336750.46\",\n\"Astrid\",\n\"Jeibmann\",\n\"PI\",\n\"grant.8102456\",\n\"Functional role of genes and pathways in histone H3 mutated gliomas\",\n\"2019-01-01\",\nnull],\n [{\n            'v': 11,\n            'f': \"11\",\n        },\nnull,\n\"2867543\",\n\"Germany\",\n\"grid.16149.3b\",\n\"Universit\\u00e4tsklinikum M\\u00fcnster\",\n{\n            'v': null,\n            'f': \"null\",\n        },\n{\n            'v': null,\n            'f': \"null\",\n        },\n\"DE\",\n\"ur.01137070015.52\",\n\"Martin\",\n\"Hasselblatt\",\n\"PI\",\n\"grant.8102456\",\n\"Functional role of genes and pathways in histone H3 mutated gliomas\",\n\"2019-01-01\",\nnull],\n [{\n            'v': 12,\n            'f': \"12\",\n        },\nnull,\n\"2928810\",\n\"Germany\",\n\"grid.410718.b\",\n\"Universit\\u00e4tsklinikum Essen\",\n{\n            'v': null,\n            'f': \"null\",\n        },\n{\n            'v': null,\n            'f': \"null\",\n        },\n\"DE\",\n\"ur.01372566033.18\",\n\"Jens\",\n\"Siveke\",\n\"PI\",\n\"grant.8102625\",\n\"Identification of regulators of therapy-induced epithelial mesenchymal plasticity in pancreatic cancer\",\n\"2019-01-01\",\nnull],\n [{\n            'v': 13,\n            'f': \"13\",\n        },\nnull,\n\"2918632\",\n\"Germany\",\n\"grid.7450.6\",\n\"Georg-August-Universit\\u00e4t G\\u00f6ttingen\",\n{\n            'v': null,\n            'f': \"null\",\n        },\n{\n            'v': null,\n            'f': \"null\",\n        },\n\"DE\",\n\"ur.01321542450.71\",\n\"Antoine\",\n\"Huet\",\n\"PI\",\n\"grant.8577173\",\n\"Optical Stimulation of the Auditory Pathway by Blue-Shifted Photoswitchable Glutamate Receptor Agonists.\",\n\"2019-01-01\",\nnull],\n [{\n            'v': 14,\n            'f': \"14\",\n        },\nnull,\n\"2918632\",\n\"Germany\",\n\"grid.7450.6\",\n\"Georg-August-Universit\\u00e4t G\\u00f6ttingen\",\n{\n            'v': null,\n            'f': \"null\",\n        },\n{\n            'v': null,\n            'f': \"null\",\n        },\n\"DE\",\n\"ur.01117732564.89\",\n\"Tobias\",\n\"Moser\",\n\"PI\",\n\"grant.8577173\",\n\"Optical Stimulation of the Auditory Pathway by Blue-Shifted Photoswitchable Glutamate Receptor Agonists.\",\n\"2019-01-01\",\nnull]],\n        columns: [[\"number\", \"index\"], [\"string\", \"aff_city\"], [\"string\", \"aff_city_id\"], [\"string\", \"aff_country\"], [\"string\", \"aff_id\"], [\"string\", \"aff_name\"], [\"number\", \"aff_state_code\"], [\"number\", \"aff_state\"], [\"string\", \"aff_country_code\"], [\"string\", \"id\"], [\"string\", \"first_name\"], [\"string\", \"last_name\"], [\"string\", \"role\"], [\"string\", \"grant_id\"], [\"string\", \"grant_title\"], [\"string\", \"grant_start_date\"], [\"string\", \"grant_end_date\"]],\n        columnOptions: [{\"width\": \"1px\", \"className\": \"index_column\"}],\n        rowsPerPage: 25,\n        helpUrl: \"https://colab.research.google.com/notebooks/data_table.ipynb\",\n        suppressOutputScrolling: true,\n        minimumWidth: undefined,\n      });\n    ",
      "text/html": [
       "<div>\n",
       "<style scoped>\n",
       "    .dataframe tbody tr th:only-of-type {\n",
       "        vertical-align: middle;\n",
       "    }\n",
       "\n",
       "    .dataframe tbody tr th {\n",
       "        vertical-align: top;\n",
       "    }\n",
       "\n",
       "    .dataframe thead th {\n",
       "        text-align: right;\n",
       "    }\n",
       "</style>\n",
       "<table border=\"1\" class=\"dataframe\">\n",
       "  <thead>\n",
       "    <tr style=\"text-align: right;\">\n",
       "      <th></th>\n",
       "      <th>aff_city</th>\n",
       "      <th>aff_city_id</th>\n",
       "      <th>aff_country</th>\n",
       "      <th>aff_id</th>\n",
       "      <th>aff_name</th>\n",
       "      <th>aff_state_code</th>\n",
       "      <th>aff_state</th>\n",
       "      <th>aff_country_code</th>\n",
       "      <th>id</th>\n",
       "      <th>first_name</th>\n",
       "      <th>last_name</th>\n",
       "      <th>role</th>\n",
       "      <th>grant_id</th>\n",
       "      <th>grant_title</th>\n",
       "      <th>grant_start_date</th>\n",
       "      <th>grant_end_date</th>\n",
       "    </tr>\n",
       "  </thead>\n",
       "  <tbody>\n",
       "    <tr>\n",
       "      <th>1</th>\n",
       "      <td>None</td>\n",
       "      <td>2881279</td>\n",
       "      <td>None</td>\n",
       "      <td>grid.425396.f</td>\n",
       "      <td>Paul Ehrlich Institut</td>\n",
       "      <td>None</td>\n",
       "      <td>None</td>\n",
       "      <td>DE</td>\n",
       "      <td>ur.0665574302.37</td>\n",
       "      <td>Zoltán</td>\n",
       "      <td>Ivics</td>\n",
       "      <td>Co-PI</td>\n",
       "      <td>grant.8712748</td>\n",
       "      <td>Integrative, transposon based vectors in ocula...</td>\n",
       "      <td>2019-12-01</td>\n",
       "      <td>2023-11-30</td>\n",
       "    </tr>\n",
       "    <tr>\n",
       "      <th>3</th>\n",
       "      <td>NEUHERBERG</td>\n",
       "      <td>2867714</td>\n",
       "      <td>DE</td>\n",
       "      <td>grid.4567.0</td>\n",
       "      <td>HELMHOLTZ ZENTRUM MUENCHEN DEUTSCHES FORSCHUNG...</td>\n",
       "      <td>None</td>\n",
       "      <td>None</td>\n",
       "      <td>DE</td>\n",
       "      <td>ur.012511757223.70</td>\n",
       "      <td>Eva</td>\n",
       "      <td>Hormanseder</td>\n",
       "      <td>PI</td>\n",
       "      <td>grant.8584963</td>\n",
       "      <td>The Molecular Mechanisms of Cell Fate Reprogra...</td>\n",
       "      <td>2019-08-01</td>\n",
       "      <td>2021-07-31</td>\n",
       "    </tr>\n",
       "    <tr>\n",
       "      <th>5</th>\n",
       "      <td>None</td>\n",
       "      <td>2934246</td>\n",
       "      <td>None</td>\n",
       "      <td>grid.411327.2</td>\n",
       "      <td>Institut für Neuropathologie Heinrich Heine Un...</td>\n",
       "      <td>None</td>\n",
       "      <td>None</td>\n",
       "      <td>DE</td>\n",
       "      <td>ur.07524506162.54</td>\n",
       "      <td>Guido</td>\n",
       "      <td>Reifenberger</td>\n",
       "      <td>Co-PI</td>\n",
       "      <td>grant.8483684</td>\n",
       "      <td>The role of interferon type I signalling in th...</td>\n",
       "      <td>2019-07-01</td>\n",
       "      <td>2022-06-30</td>\n",
       "    </tr>\n",
       "    <tr>\n",
       "      <th>6</th>\n",
       "      <td>HANNOVER</td>\n",
       "      <td>2910831</td>\n",
       "      <td>DE</td>\n",
       "      <td>grid.10423.34</td>\n",
       "      <td>MEDIZINISCHE HOCHSCHULE HANNOVER</td>\n",
       "      <td>None</td>\n",
       "      <td>None</td>\n",
       "      <td>DE</td>\n",
       "      <td>ur.01125237061.67</td>\n",
       "      <td>Axel Rainer</td>\n",
       "      <td>Schambach</td>\n",
       "      <td>PI</td>\n",
       "      <td>grant.8104346</td>\n",
       "      <td>Gene therapy of inherited and acquired hearing...</td>\n",
       "      <td>2019-05-01</td>\n",
       "      <td>2024-04-30</td>\n",
       "    </tr>\n",
       "    <tr>\n",
       "      <th>8</th>\n",
       "      <td>None</td>\n",
       "      <td>2867714</td>\n",
       "      <td>None</td>\n",
       "      <td>grid.5252.0</td>\n",
       "      <td>Max-Eder Research Group 4 Pediatric Sarcomas I...</td>\n",
       "      <td>None</td>\n",
       "      <td>None</td>\n",
       "      <td>DE</td>\n",
       "      <td>ur.013312575257.07</td>\n",
       "      <td>Thomas G. P.</td>\n",
       "      <td>Grünewald</td>\n",
       "      <td>Co-PI</td>\n",
       "      <td>grant.7922081</td>\n",
       "      <td>Ewing Sarcoma metastatic invasion dissected th...</td>\n",
       "      <td>2019-02-01</td>\n",
       "      <td>2022-01-31</td>\n",
       "    </tr>\n",
       "    <tr>\n",
       "      <th>10</th>\n",
       "      <td>None</td>\n",
       "      <td>2867543</td>\n",
       "      <td>Germany</td>\n",
       "      <td>grid.16149.3b</td>\n",
       "      <td>Universitätsklinikum Münster</td>\n",
       "      <td>None</td>\n",
       "      <td>None</td>\n",
       "      <td>DE</td>\n",
       "      <td>ur.0714336750.46</td>\n",
       "      <td>Astrid</td>\n",
       "      <td>Jeibmann</td>\n",
       "      <td>PI</td>\n",
       "      <td>grant.8102456</td>\n",
       "      <td>Functional role of genes and pathways in histo...</td>\n",
       "      <td>2019-01-01</td>\n",
       "      <td>None</td>\n",
       "    </tr>\n",
       "    <tr>\n",
       "      <th>11</th>\n",
       "      <td>None</td>\n",
       "      <td>2867543</td>\n",
       "      <td>Germany</td>\n",
       "      <td>grid.16149.3b</td>\n",
       "      <td>Universitätsklinikum Münster</td>\n",
       "      <td>None</td>\n",
       "      <td>None</td>\n",
       "      <td>DE</td>\n",
       "      <td>ur.01137070015.52</td>\n",
       "      <td>Martin</td>\n",
       "      <td>Hasselblatt</td>\n",
       "      <td>PI</td>\n",
       "      <td>grant.8102456</td>\n",
       "      <td>Functional role of genes and pathways in histo...</td>\n",
       "      <td>2019-01-01</td>\n",
       "      <td>None</td>\n",
       "    </tr>\n",
       "    <tr>\n",
       "      <th>12</th>\n",
       "      <td>None</td>\n",
       "      <td>2928810</td>\n",
       "      <td>Germany</td>\n",
       "      <td>grid.410718.b</td>\n",
       "      <td>Universitätsklinikum Essen</td>\n",
       "      <td>None</td>\n",
       "      <td>None</td>\n",
       "      <td>DE</td>\n",
       "      <td>ur.01372566033.18</td>\n",
       "      <td>Jens</td>\n",
       "      <td>Siveke</td>\n",
       "      <td>PI</td>\n",
       "      <td>grant.8102625</td>\n",
       "      <td>Identification of regulators of therapy-induce...</td>\n",
       "      <td>2019-01-01</td>\n",
       "      <td>None</td>\n",
       "    </tr>\n",
       "    <tr>\n",
       "      <th>13</th>\n",
       "      <td>None</td>\n",
       "      <td>2918632</td>\n",
       "      <td>Germany</td>\n",
       "      <td>grid.7450.6</td>\n",
       "      <td>Georg-August-Universität Göttingen</td>\n",
       "      <td>None</td>\n",
       "      <td>None</td>\n",
       "      <td>DE</td>\n",
       "      <td>ur.01321542450.71</td>\n",
       "      <td>Antoine</td>\n",
       "      <td>Huet</td>\n",
       "      <td>PI</td>\n",
       "      <td>grant.8577173</td>\n",
       "      <td>Optical Stimulation of the Auditory Pathway by...</td>\n",
       "      <td>2019-01-01</td>\n",
       "      <td>None</td>\n",
       "    </tr>\n",
       "    <tr>\n",
       "      <th>14</th>\n",
       "      <td>None</td>\n",
       "      <td>2918632</td>\n",
       "      <td>Germany</td>\n",
       "      <td>grid.7450.6</td>\n",
       "      <td>Georg-August-Universität Göttingen</td>\n",
       "      <td>None</td>\n",
       "      <td>None</td>\n",
       "      <td>DE</td>\n",
       "      <td>ur.01117732564.89</td>\n",
       "      <td>Tobias</td>\n",
       "      <td>Moser</td>\n",
       "      <td>PI</td>\n",
       "      <td>grant.8577173</td>\n",
       "      <td>Optical Stimulation of the Auditory Pathway by...</td>\n",
       "      <td>2019-01-01</td>\n",
       "      <td>None</td>\n",
       "    </tr>\n",
       "  </tbody>\n",
       "</table>\n",
       "</div>"
      ],
      "text/plain": [
       "      aff_city aff_city_id  ... grant_start_date grant_end_date\n",
       "1         None     2881279  ...       2019-12-01     2023-11-30\n",
       "3   NEUHERBERG     2867714  ...       2019-08-01     2021-07-31\n",
       "5         None     2934246  ...       2019-07-01     2022-06-30\n",
       "6     HANNOVER     2910831  ...       2019-05-01     2024-04-30\n",
       "8         None     2867714  ...       2019-02-01     2022-01-31\n",
       "10        None     2867543  ...       2019-01-01           None\n",
       "11        None     2867543  ...       2019-01-01           None\n",
       "12        None     2928810  ...       2019-01-01           None\n",
       "13        None     2918632  ...       2019-01-01           None\n",
       "14        None     2918632  ...       2019-01-01           None\n",
       "\n",
       "[10 rows x 16 columns]"
      ]
     },
     "execution_count": 23,
     "metadata": {
      "tags": []
     },
     "output_type": "execute_result"
    }
   ],
   "source": [
    "german_affiliations = affiliations.query(\"aff_country_code == 'DE'\")\n",
    "german_affiliations.head(10)"
   ]
  },
  {
   "cell_type": "markdown",
   "metadata": {
    "colab_type": "text",
    "id": "CSwSnB0x9NxW"
   },
   "source": [
    "### Downloading the data as CSV\n"
   ]
  },
  {
   "cell_type": "code",
   "execution_count": 0,
   "metadata": {
    "colab": {},
    "colab_type": "code",
    "id": "hP6upQvO9XMR"
   },
   "outputs": [],
   "source": [
    "german_affiliations.to_csv(\"german_affiliations.csv\")"
   ]
  }
 ],
 "metadata": {
  "colab": {
   "authorship_tag": "ABX9TyOWuF2SzjcXybx3uJHrXXTa",
   "collapsed_sections": [
    "hre4KwCz3rOJ"
   ],
   "name": "2020-04-24-Bayer-API-demo .ipynb",
   "provenance": []
  },
  "kernelspec": {
   "display_name": "Python 3",
   "name": "python3"
  }
 },
 "nbformat": 4,
 "nbformat_minor": 0
}
