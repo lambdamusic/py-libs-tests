{
 "cells": [
  {
   "cell_type": "markdown",
   "metadata": {
    "Collapsed": "false"
   },
   "source": [
    "# Apple patents citing springer nature"
   ]
  },
  {
   "cell_type": "code",
   "execution_count": 1,
   "metadata": {
    "Collapsed": "false"
   },
   "outputs": [
    {
     "name": "stdout",
     "output_type": "stream",
     "text": [
      "\u001b[2mDimcli - Dimensions API Client (v0.7.3)\u001b[0m\n"
     ]
    },
    {
     "name": "stdout",
     "output_type": "stream",
     "text": [
      "\u001b[2mConnected to: https://app.dimensions.ai - DSL v1.26\u001b[0m\n"
     ]
    },
    {
     "name": "stdout",
     "output_type": "stream",
     "text": [
      "\u001b[2mMethod: dsl.ini file\u001b[0m\n"
     ]
    }
   ],
   "source": [
    "# @markdown # Get the API library and login \n",
    "# @markdown Click the 'play' button on the left (or shift+enter) and enter your API credentials when prompted.\n",
    "\n",
    "import dimcli\n",
    "from dimcli.shortcuts import *\n",
    "dimcli.login()\n",
    "dsl = dimcli.Dsl()\n",
    "\n",
    "from tqdm import tqdm_notebook as tqdm\n",
    "import pandas as pd\n",
    "import json"
   ]
  },
  {
   "cell_type": "markdown",
   "metadata": {
    "Collapsed": "false"
   },
   "source": [
    "## Task\n",
    "\n",
    "Get the number of APple patents that cite Springer Nature articles and chapters\n",
    "\n",
    "### Step 1\n",
    "\n",
    "From Apple patents, get all cited publication IDs\n"
   ]
  },
  {
   "cell_type": "code",
   "execution_count": 2,
   "metadata": {
    "Collapsed": "false"
   },
   "outputs": [
    {
     "name": "stdout",
     "output_type": "stream",
     "text": [
      "Starting iteration with limit=1000 skip=0 ...\n"
     ]
    },
    {
     "name": "stdout",
     "output_type": "stream",
     "text": [
      "0-1000 / 4880 (1.3127570152282715s)\n"
     ]
    },
    {
     "name": "stdout",
     "output_type": "stream",
     "text": [
      "1000-2000 / 4880 (0.8671998977661133s)\n"
     ]
    },
    {
     "name": "stdout",
     "output_type": "stream",
     "text": [
      "2000-3000 / 4880 (0.6878049373626709s)\n"
     ]
    },
    {
     "name": "stdout",
     "output_type": "stream",
     "text": [
      "3000-4000 / 4880 (0.7397639751434326s)\n"
     ]
    },
    {
     "name": "stdout",
     "output_type": "stream",
     "text": [
      "4000-4880 / 4880 (0.659909725189209s)\n",
      "===\n",
      "Records extracted: 4880\n"
     ]
    }
   ],
   "source": [
    "q = \"\"\"search patents where assignees.id=\"grid.455360.1\" and publication_ids is not empty return patents[publication_ids]\"\"\"\n",
    "data = dsl.query_iterative(q)\n",
    "# remove duplicates\n",
    "pubs = set()\n",
    "for row in data.patents:\n",
    "  for pub in row['publication_ids']:\n",
    "    pubs.add(pub)"
   ]
  },
  {
   "cell_type": "code",
   "execution_count": 3,
   "metadata": {
    "Collapsed": "false"
   },
   "outputs": [
    {
     "name": "stdout",
     "output_type": "stream",
     "text": [
      "Unique publications cited by Apple patents : 3284\n"
     ]
    }
   ],
   "source": [
    "print(\"Unique publications cited by Apple patents :\", len(pubs))"
   ]
  },
  {
   "cell_type": "markdown",
   "metadata": {
    "Collapsed": "false"
   },
   "source": [
    "### Step2 \n",
    "\n",
    "Extracting only the SN publications "
   ]
  },
  {
   "cell_type": "code",
   "execution_count": 4,
   "metadata": {
    "Collapsed": "false"
   },
   "outputs": [
    {
     "name": "stderr",
     "output_type": "stream",
     "text": [
      "<ipython-input-4-196ba5e721a1>:6: TqdmDeprecationWarning: This function will be removed in tqdm==5.0.0\n",
      "Please use `tqdm.notebook.tqdm` instead of `tqdm.tqdm_notebook`\n",
      "  for chunk in tqdm(list(chunks_of(pubs, 400))):\n"
     ]
    },
    {
     "data": {
      "application/vnd.jupyter.widget-view+json": {
       "model_id": "f243f4242bb741c18967161cc4c7e367",
       "version_major": 2,
       "version_minor": 0
      },
      "text/plain": [
       "HBox(children=(FloatProgress(value=0.0, max=9.0), HTML(value='')))"
      ]
     },
     "metadata": {},
     "output_type": "display_data"
    },
    {
     "name": "stdout",
     "output_type": "stream",
     "text": [
      "Returned Publications: 20 (total = 20)\n",
      "\u001b[2mTime: 1.0183072090148926s\u001b[0m\n"
     ]
    },
    {
     "name": "stdout",
     "output_type": "stream",
     "text": [
      "Returned Publications: 20 (total = 23)\n",
      "\u001b[2mTime: 0.9195749759674072s\u001b[0m\n"
     ]
    },
    {
     "name": "stdout",
     "output_type": "stream",
     "text": [
      "Returned Publications: 20 (total = 24)\n",
      "\u001b[2mTime: 0.7390191555023193s\u001b[0m\n"
     ]
    },
    {
     "name": "stdout",
     "output_type": "stream",
     "text": [
      "Returned Publications: 17 (total = 17)\n",
      "\u001b[2mTime: 1.1008422374725342s\u001b[0m\n"
     ]
    },
    {
     "name": "stdout",
     "output_type": "stream",
     "text": [
      "Returned Publications: 20 (total = 22)\n",
      "\u001b[2mTime: 0.8139438629150391s\u001b[0m\n"
     ]
    },
    {
     "name": "stdout",
     "output_type": "stream",
     "text": [
      "Returned Publications: 20 (total = 21)\n",
      "\u001b[2mTime: 0.8172192573547363s\u001b[0m\n"
     ]
    },
    {
     "name": "stdout",
     "output_type": "stream",
     "text": [
      "Returned Publications: 20 (total = 23)\n",
      "\u001b[2mTime: 0.8139171600341797s\u001b[0m\n"
     ]
    },
    {
     "name": "stdout",
     "output_type": "stream",
     "text": [
      "Returned Publications: 17 (total = 17)\n",
      "\u001b[2mTime: 0.8240902423858643s\u001b[0m\n"
     ]
    },
    {
     "name": "stdout",
     "output_type": "stream",
     "text": [
      "Returned Publications: 7 (total = 7)\n",
      "\u001b[2mTime: 0.5411350727081299s\u001b[0m\n"
     ]
    },
    {
     "name": "stdout",
     "output_type": "stream",
     "text": [
      "\n"
     ]
    },
    {
     "data": {
      "text/html": [
       "<div>\n",
       "<style scoped>\n",
       "    .dataframe tbody tr th:only-of-type {\n",
       "        vertical-align: middle;\n",
       "    }\n",
       "\n",
       "    .dataframe tbody tr th {\n",
       "        vertical-align: top;\n",
       "    }\n",
       "\n",
       "    .dataframe thead th {\n",
       "        text-align: right;\n",
       "    }\n",
       "</style>\n",
       "<table border=\"1\" class=\"dataframe\">\n",
       "  <thead>\n",
       "    <tr style=\"text-align: right;\">\n",
       "      <th></th>\n",
       "      <th>year</th>\n",
       "      <th>id</th>\n",
       "      <th>title</th>\n",
       "      <th>doi</th>\n",
       "      <th>publisher</th>\n",
       "    </tr>\n",
       "  </thead>\n",
       "  <tbody>\n",
       "    <tr>\n",
       "      <th>0</th>\n",
       "      <td>2008</td>\n",
       "      <td>pub.1031044634</td>\n",
       "      <td>Mobile cinema: canonical processes for video a...</td>\n",
       "      <td>10.1007/s00530-008-0135-z</td>\n",
       "      <td>Springer Nature</td>\n",
       "    </tr>\n",
       "    <tr>\n",
       "      <th>1</th>\n",
       "      <td>2007</td>\n",
       "      <td>pub.1040703009</td>\n",
       "      <td>Stereo for Image-Based Rendering using Image O...</td>\n",
       "      <td>10.1007/s11263-006-0018-8</td>\n",
       "      <td>Springer Nature</td>\n",
       "    </tr>\n",
       "    <tr>\n",
       "      <th>2</th>\n",
       "      <td>2006</td>\n",
       "      <td>pub.1018601963</td>\n",
       "      <td>An adaptive technique for content-based image ...</td>\n",
       "      <td>10.1007/s11042-006-0035-1</td>\n",
       "      <td>Springer Nature</td>\n",
       "    </tr>\n",
       "    <tr>\n",
       "      <th>3</th>\n",
       "      <td>2006</td>\n",
       "      <td>pub.1048138398</td>\n",
       "      <td>Theories, tools and research methods in progra...</td>\n",
       "      <td>10.1007/s11219-006-9216-4</td>\n",
       "      <td>Springer Nature</td>\n",
       "    </tr>\n",
       "    <tr>\n",
       "      <th>4</th>\n",
       "      <td>2005</td>\n",
       "      <td>pub.1048421739</td>\n",
       "      <td>User Modeling 2005, 10th International Confere...</td>\n",
       "      <td>10.1007/11527886</td>\n",
       "      <td>Springer Nature</td>\n",
       "    </tr>\n",
       "    <tr>\n",
       "      <th>...</th>\n",
       "      <td>...</td>\n",
       "      <td>...</td>\n",
       "      <td>...</td>\n",
       "      <td>...</td>\n",
       "      <td>...</td>\n",
       "    </tr>\n",
       "    <tr>\n",
       "      <th>156</th>\n",
       "      <td>2001</td>\n",
       "      <td>pub.1008717077</td>\n",
       "      <td>An Efficient ARQ Protocol for Adaptive Error C...</td>\n",
       "      <td>10.1023/a:1008918530685</td>\n",
       "      <td>Springer Nature</td>\n",
       "    </tr>\n",
       "    <tr>\n",
       "      <th>157</th>\n",
       "      <td>2000</td>\n",
       "      <td>pub.1043117429</td>\n",
       "      <td>CybreMinder: A Context-Aware System for Suppor...</td>\n",
       "      <td>10.1007/3-540-39959-3_13</td>\n",
       "      <td>Springer Nature</td>\n",
       "    </tr>\n",
       "    <tr>\n",
       "      <th>158</th>\n",
       "      <td>1998</td>\n",
       "      <td>pub.1051810449</td>\n",
       "      <td>Incremental Gradient Algorithms with Stepsizes...</td>\n",
       "      <td>10.1023/a:1018366000512</td>\n",
       "      <td>Springer Nature</td>\n",
       "    </tr>\n",
       "    <tr>\n",
       "      <th>159</th>\n",
       "      <td>1995</td>\n",
       "      <td>pub.1019730206</td>\n",
       "      <td>A dynamic policy of segment replication for lo...</td>\n",
       "      <td>10.1007/bf01542861</td>\n",
       "      <td>Springer Nature</td>\n",
       "    </tr>\n",
       "    <tr>\n",
       "      <th>160</th>\n",
       "      <td>1972</td>\n",
       "      <td>pub.1028855335</td>\n",
       "      <td>Minimal cues in the vocal communication of aff...</td>\n",
       "      <td>10.1007/bf01074443</td>\n",
       "      <td>Springer Nature</td>\n",
       "    </tr>\n",
       "  </tbody>\n",
       "</table>\n",
       "<p>161 rows × 5 columns</p>\n",
       "</div>"
      ],
      "text/plain": [
       "     year              id                                              title  \\\n",
       "0    2008  pub.1031044634  Mobile cinema: canonical processes for video a...   \n",
       "1    2007  pub.1040703009  Stereo for Image-Based Rendering using Image O...   \n",
       "2    2006  pub.1018601963  An adaptive technique for content-based image ...   \n",
       "3    2006  pub.1048138398  Theories, tools and research methods in progra...   \n",
       "4    2005  pub.1048421739  User Modeling 2005, 10th International Confere...   \n",
       "..    ...             ...                                                ...   \n",
       "156  2001  pub.1008717077  An Efficient ARQ Protocol for Adaptive Error C...   \n",
       "157  2000  pub.1043117429  CybreMinder: A Context-Aware System for Suppor...   \n",
       "158  1998  pub.1051810449  Incremental Gradient Algorithms with Stepsizes...   \n",
       "159  1995  pub.1019730206  A dynamic policy of segment replication for lo...   \n",
       "160  1972  pub.1028855335  Minimal cues in the vocal communication of aff...   \n",
       "\n",
       "                           doi        publisher  \n",
       "0    10.1007/s00530-008-0135-z  Springer Nature  \n",
       "1    10.1007/s11263-006-0018-8  Springer Nature  \n",
       "2    10.1007/s11042-006-0035-1  Springer Nature  \n",
       "3    10.1007/s11219-006-9216-4  Springer Nature  \n",
       "4             10.1007/11527886  Springer Nature  \n",
       "..                         ...              ...  \n",
       "156    10.1023/a:1008918530685  Springer Nature  \n",
       "157   10.1007/3-540-39959-3_13  Springer Nature  \n",
       "158    10.1023/a:1018366000512  Springer Nature  \n",
       "159         10.1007/bf01542861  Springer Nature  \n",
       "160         10.1007/bf01074443  Springer Nature  \n",
       "\n",
       "[161 rows x 5 columns]"
      ]
     },
     "execution_count": 4,
     "metadata": {},
     "output_type": "execute_result"
    }
   ],
   "source": [
    "snpubs = []\n",
    "#\n",
    "query = \"\"\"search publications where id in {} and publisher=\"Springer Nature\" return publications[id+doi+title+year+publisher]\"\"\"\n",
    "# note: the outer list() call serves for the progress barm to display correctly\n",
    "out = []\n",
    "for chunk in tqdm(list(chunks_of(pubs, 400))):\n",
    "    q = dsl.query(query.format(json.dumps(chunk)))\n",
    "    snpubs += q.publications\n",
    "\n",
    "    # finally save to a df\n",
    "df = pd.DataFrame().from_dict(snpubs)\n",
    "df"
   ]
  }
 ],
 "metadata": {
  "kernelspec": {
   "display_name": "Python 3",
   "language": "python",
   "name": "python3"
  },
  "language_info": {
   "codemirror_mode": {
    "name": "ipython",
    "version": 3
   },
   "file_extension": ".py",
   "mimetype": "text/x-python",
   "name": "python",
   "nbconvert_exporter": "python",
   "pygments_lexer": "ipython3",
   "version": "3.8.5"
  },
  "widgets": {
   "application/vnd.jupyter.widget-state+json": {
    "state": {
     "17a7cc56b20942eeb1a014dc9d580644": {
      "model_module": "@jupyter-widgets/controls",
      "model_module_version": "1.5.0",
      "model_name": "DescriptionStyleModel",
      "state": {
       "_model_module": "@jupyter-widgets/controls",
       "_model_module_version": "1.5.0",
       "_model_name": "DescriptionStyleModel",
       "_view_count": null,
       "_view_module": "@jupyter-widgets/base",
       "_view_module_version": "1.2.0",
       "_view_name": "StyleView",
       "description_width": ""
      }
     },
     "3e4df2b8800b496c9ad7ec5e80a6d40b": {
      "model_module": "@jupyter-widgets/base",
      "model_module_version": "1.2.0",
      "model_name": "LayoutModel",
      "state": {
       "_model_module": "@jupyter-widgets/base",
       "_model_module_version": "1.2.0",
       "_model_name": "LayoutModel",
       "_view_count": null,
       "_view_module": "@jupyter-widgets/base",
       "_view_module_version": "1.2.0",
       "_view_name": "LayoutView",
       "align_content": null,
       "align_items": null,
       "align_self": null,
       "border": null,
       "bottom": null,
       "display": null,
       "flex": null,
       "flex_flow": null,
       "grid_area": null,
       "grid_auto_columns": null,
       "grid_auto_flow": null,
       "grid_auto_rows": null,
       "grid_column": null,
       "grid_gap": null,
       "grid_row": null,
       "grid_template_areas": null,
       "grid_template_columns": null,
       "grid_template_rows": null,
       "height": null,
       "justify_content": null,
       "justify_items": null,
       "left": null,
       "margin": null,
       "max_height": null,
       "max_width": null,
       "min_height": null,
       "min_width": null,
       "object_fit": null,
       "object_position": null,
       "order": null,
       "overflow": null,
       "overflow_x": null,
       "overflow_y": null,
       "padding": null,
       "right": null,
       "top": null,
       "visibility": null,
       "width": null
      }
     },
     "4019f71f024149fda5139e4c87e69d00": {
      "model_module": "@jupyter-widgets/base",
      "model_module_version": "1.2.0",
      "model_name": "LayoutModel",
      "state": {
       "_model_module": "@jupyter-widgets/base",
       "_model_module_version": "1.2.0",
       "_model_name": "LayoutModel",
       "_view_count": null,
       "_view_module": "@jupyter-widgets/base",
       "_view_module_version": "1.2.0",
       "_view_name": "LayoutView",
       "align_content": null,
       "align_items": null,
       "align_self": null,
       "border": null,
       "bottom": null,
       "display": null,
       "flex": null,
       "flex_flow": null,
       "grid_area": null,
       "grid_auto_columns": null,
       "grid_auto_flow": null,
       "grid_auto_rows": null,
       "grid_column": null,
       "grid_gap": null,
       "grid_row": null,
       "grid_template_areas": null,
       "grid_template_columns": null,
       "grid_template_rows": null,
       "height": null,
       "justify_content": null,
       "justify_items": null,
       "left": null,
       "margin": null,
       "max_height": null,
       "max_width": null,
       "min_height": null,
       "min_width": null,
       "object_fit": null,
       "object_position": null,
       "order": null,
       "overflow": null,
       "overflow_x": null,
       "overflow_y": null,
       "padding": null,
       "right": null,
       "top": null,
       "visibility": null,
       "width": null
      }
     },
     "4660ac053e344839a34d627d9010ad75": {
      "model_module": "@jupyter-widgets/controls",
      "model_module_version": "1.5.0",
      "model_name": "HTMLModel",
      "state": {
       "_dom_classes": [],
       "_model_module": "@jupyter-widgets/controls",
       "_model_module_version": "1.5.0",
       "_model_name": "HTMLModel",
       "_view_count": null,
       "_view_module": "@jupyter-widgets/controls",
       "_view_module_version": "1.5.0",
       "_view_name": "HTMLView",
       "description": "",
       "description_tooltip": null,
       "layout": "IPY_MODEL_7870f4a8934d4d37a9f5aa91526517cc",
       "placeholder": "​",
       "style": "IPY_MODEL_17a7cc56b20942eeb1a014dc9d580644",
       "value": " 9/9 [00:07&lt;00:00,  1.18it/s]"
      }
     },
     "7870f4a8934d4d37a9f5aa91526517cc": {
      "model_module": "@jupyter-widgets/base",
      "model_module_version": "1.2.0",
      "model_name": "LayoutModel",
      "state": {
       "_model_module": "@jupyter-widgets/base",
       "_model_module_version": "1.2.0",
       "_model_name": "LayoutModel",
       "_view_count": null,
       "_view_module": "@jupyter-widgets/base",
       "_view_module_version": "1.2.0",
       "_view_name": "LayoutView",
       "align_content": null,
       "align_items": null,
       "align_self": null,
       "border": null,
       "bottom": null,
       "display": null,
       "flex": null,
       "flex_flow": null,
       "grid_area": null,
       "grid_auto_columns": null,
       "grid_auto_flow": null,
       "grid_auto_rows": null,
       "grid_column": null,
       "grid_gap": null,
       "grid_row": null,
       "grid_template_areas": null,
       "grid_template_columns": null,
       "grid_template_rows": null,
       "height": null,
       "justify_content": null,
       "justify_items": null,
       "left": null,
       "margin": null,
       "max_height": null,
       "max_width": null,
       "min_height": null,
       "min_width": null,
       "object_fit": null,
       "object_position": null,
       "order": null,
       "overflow": null,
       "overflow_x": null,
       "overflow_y": null,
       "padding": null,
       "right": null,
       "top": null,
       "visibility": null,
       "width": null
      }
     },
     "a37421bafe9c49fabacfc36dc6b2d252": {
      "model_module": "@jupyter-widgets/controls",
      "model_module_version": "1.5.0",
      "model_name": "ProgressStyleModel",
      "state": {
       "_model_module": "@jupyter-widgets/controls",
       "_model_module_version": "1.5.0",
       "_model_name": "ProgressStyleModel",
       "_view_count": null,
       "_view_module": "@jupyter-widgets/base",
       "_view_module_version": "1.2.0",
       "_view_name": "StyleView",
       "bar_color": null,
       "description_width": "initial"
      }
     },
     "d4e18201f35842dfb59753c411df5eb6": {
      "model_module": "@jupyter-widgets/controls",
      "model_module_version": "1.5.0",
      "model_name": "FloatProgressModel",
      "state": {
       "_dom_classes": [],
       "_model_module": "@jupyter-widgets/controls",
       "_model_module_version": "1.5.0",
       "_model_name": "FloatProgressModel",
       "_view_count": null,
       "_view_module": "@jupyter-widgets/controls",
       "_view_module_version": "1.5.0",
       "_view_name": "ProgressView",
       "bar_style": "success",
       "description": "100%",
       "description_tooltip": null,
       "layout": "IPY_MODEL_4019f71f024149fda5139e4c87e69d00",
       "max": 9.0,
       "min": 0.0,
       "orientation": "horizontal",
       "style": "IPY_MODEL_a37421bafe9c49fabacfc36dc6b2d252",
       "value": 9.0
      }
     },
     "f243f4242bb741c18967161cc4c7e367": {
      "model_module": "@jupyter-widgets/controls",
      "model_module_version": "1.5.0",
      "model_name": "HBoxModel",
      "state": {
       "_dom_classes": [],
       "_model_module": "@jupyter-widgets/controls",
       "_model_module_version": "1.5.0",
       "_model_name": "HBoxModel",
       "_view_count": null,
       "_view_module": "@jupyter-widgets/controls",
       "_view_module_version": "1.5.0",
       "_view_name": "HBoxView",
       "box_style": "",
       "children": [
        "IPY_MODEL_d4e18201f35842dfb59753c411df5eb6",
        "IPY_MODEL_4660ac053e344839a34d627d9010ad75"
       ],
       "layout": "IPY_MODEL_3e4df2b8800b496c9ad7ec5e80a6d40b"
      }
     }
    },
    "version_major": 2,
    "version_minor": 0
   }
  }
 },
 "nbformat": 4,
 "nbformat_minor": 4
}
