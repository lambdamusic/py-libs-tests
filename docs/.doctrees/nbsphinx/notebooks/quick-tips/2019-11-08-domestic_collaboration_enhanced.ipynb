{
 "cells": [
  {
   "cell_type": "markdown",
   "metadata": {
    "colab_type": "text",
    "id": "rPI3UJT4z6T6"
   },
   "source": [
    "# Domestic Collaboration Queries\n",
    "\n",
    "Usecase:\n",
    "\n",
    "> How can we identify domestic collaborations, including also publications that have both domestic and international collaborations? For example, a publication may have authors from the University of Auckland (NZ), University of Otago (NZ) and Stanford University (US), so we'd like to include it in a report focusing on New Zealand.\n",
    "\n",
    "So the goal is to extract all publications that are affiliated with more than one NZ institutions - irrespectively of whether they have also other international affiliations. \n"
   ]
  },
  {
   "cell_type": "code",
   "execution_count": 0,
   "metadata": {
    "colab": {},
    "colab_type": "code",
    "id": "oHHzqR5c2OLI"
   },
   "outputs": [],
   "source": [
    "# fill in as needed!\n",
    "username = \"\"\n",
    "password = \"\""
   ]
  },
  {
   "cell_type": "code",
   "execution_count": 0,
   "metadata": {
    "Collapsed": "false",
    "colab": {
     "base_uri": "https://localhost:8080/",
     "height": 34
    },
    "colab_type": "code",
    "executionInfo": {
     "elapsed": 3421,
     "status": "ok",
     "timestamp": 1573129911366,
     "user": {
      "displayName": "Michele Pasin",
      "photoUrl": "https://lh3.googleusercontent.com/a-/AAuE7mBu8LVjIGgontF2Wax51BoL5KFx8esezX3bUmaa0g=s64",
      "userId": "10309320684375994511"
     },
     "user_tz": 0
    },
    "id": "y8cqMFrtG-0q",
    "outputId": "e4e5f74e-dd0f-4ae8-8135-4bcfa6aaa9d6"
   },
   "outputs": [
    {
     "name": "stdout",
     "output_type": "stream",
     "text": [
      "DimCli v0.6 - Succesfully connected to <https://app.dimensions.ai> (method: manual login)\n"
     ]
    }
   ],
   "source": [
    "!pip install dimcli --quiet\n",
    "import dimcli\n",
    "dimcli.login(username, password)"
   ]
  },
  {
   "cell_type": "code",
   "execution_count": 0,
   "metadata": {
    "Collapsed": "false",
    "colab": {},
    "colab_type": "code",
    "id": "tJHd8NoqHKcA"
   },
   "outputs": [],
   "source": [
    "dsl = dimcli.Dsl()"
   ]
  },
  {
   "cell_type": "markdown",
   "metadata": {
    "Collapsed": "false",
    "colab_type": "text",
    "id": "Db18eTbVz15k"
   },
   "source": [
    "## Approach 1\n",
    "\n",
    "Using this approach we can identify publications with more than one affiliation, but with all affiliation from a specific country (eg NZ). This can be achieved in two steps:\n",
    "\n",
    "#### Step 1. identify countries co-appearing with NZ in multi-country publications \n",
    "\n",
    "```\n",
    "search publications\n",
    "where count(research_orgs) > 1\n",
    "and research_org_country_names = \"New Zealand\"\n",
    "return research_org_countries limit 1000\n",
    "```\n",
    "\n",
    "#### Step 2. use the countries list to form a new query where these are filtered out (so to return only research orgs from NZ). \n",
    "\n",
    "```\n",
    "search publications\n",
    "where count(research_orgs) > 1\n",
    "and research_org_country_names = \"New Zealand\" \n",
    "and research_org_country_names != \"United States\" \n",
    "and research_org_country_names != \"Australia [etc....]\n",
    "return funders limit 1000\"\"\"\n",
    "```\n",
    "\n",
    "> **Limitation of this approach**\n",
    "The main limitation of this approach is that it won't produce any result where we have a collaboration between 2 NZ organizations and another international one. \n",
    "\n",
    "### Implementation"
   ]
  },
  {
   "cell_type": "code",
   "execution_count": 0,
   "metadata": {
    "Collapsed": "false",
    "colab": {
     "base_uri": "https://localhost:8080/",
     "height": 34
    },
    "colab_type": "code",
    "executionInfo": {
     "elapsed": 1243,
     "status": "ok",
     "timestamp": 1573129921247,
     "user": {
      "displayName": "Michele Pasin",
      "photoUrl": "https://lh3.googleusercontent.com/a-/AAuE7mBu8LVjIGgontF2Wax51BoL5KFx8esezX3bUmaa0g=s64",
      "userId": "10309320684375994511"
     },
     "user_tz": 0
    },
    "id": "DJIi0eF5HryM",
    "outputId": "ddc0330b-8f7f-40b1-9d38-54435604b0f0"
   },
   "outputs": [
    {
     "name": "stdout",
     "output_type": "stream",
     "text": [
      "Returned Research_org_countries: 228\n"
     ]
    }
   ],
   "source": [
    "all_countries = dsl.query(\"\"\"\n",
    "search publications\n",
    "where count(research_orgs) > 1\n",
    "and research_org_country_names = \"New Zealand\"\n",
    "return research_org_countries limit 1000\"\"\").as_dataframe()"
   ]
  },
  {
   "cell_type": "code",
   "execution_count": 0,
   "metadata": {
    "Collapsed": "false",
    "colab": {},
    "colab_type": "code",
    "id": "JURwX0V7z15p"
   },
   "outputs": [],
   "source": [
    "countries = list(all_countries['name'])\n",
    "countries.remove(\"New Zealand\")"
   ]
  },
  {
   "cell_type": "code",
   "execution_count": 0,
   "metadata": {
    "Collapsed": "false",
    "colab": {},
    "colab_type": "code",
    "id": "kph1WKLjz15r"
   },
   "outputs": [],
   "source": [
    "query_component = \"\"\n",
    "for x in countries:\n",
    "    query_component += \"\"\"and research_org_country_names != \"{}\" \"\"\".format(x)"
   ]
  },
  {
   "cell_type": "code",
   "execution_count": 0,
   "metadata": {
    "Collapsed": "false",
    "colab": {
     "base_uri": "https://localhost:8080/",
     "height": 54
    },
    "colab_type": "code",
    "executionInfo": {
     "elapsed": 317,
     "status": "ok",
     "timestamp": 1573129924745,
     "user": {
      "displayName": "Michele Pasin",
      "photoUrl": "https://lh3.googleusercontent.com/a-/AAuE7mBu8LVjIGgontF2Wax51BoL5KFx8esezX3bUmaa0g=s64",
      "userId": "10309320684375994511"
     },
     "user_tz": 0
    },
    "id": "sStKwSj_z15t",
    "outputId": "08196d08-5c9f-4449-b43e-5b5c106deccd"
   },
   "outputs": [
    {
     "data": {
      "text/plain": [
       "'and research_org_country_names != \"United States\" and research_org_country_names != \"Australia\" and research_org_country_names != \"United Kingdom\" and research_org_country_names != \"Germany\" and research_org_country_names != \"Canada\" and research_org_country_names != \"China\" and research_org_country_names != \"France\" and research_org_country_names != \"Italy\" and research_org_country_names != \"Netherlands\" and research_org_country_names != \"Japan\" and research_org_country_names != \"Spain\" and research_org_country_names != \"Switzerland\" and research_org_country_names != \"Sweden\" and research_org_country_names != \"Belgium\" and research_org_country_names != \"India\" and research_org_country_names != \"Brazil\" and research_org_country_names != \"Singapore\" and research_org_country_names != \"Austria\" and research_org_country_names != \"Finland\" and research_org_country_names != \"Denmark\" and research_org_country_names != \"South Korea\" and research_org_country_names != \"Ireland\" and research_org_country_names != \"South Africa\" and research_org_country_names != \"Malaysia\" and research_org_country_names != \"Poland\" and research_org_country_names != \"Russia\" and research_org_country_names != \"Taiwan\" and research_org_country_names != \"Norway\" and research_org_country_names != \"Portugal\" and research_org_country_names != \"Mexico\" and research_org_country_names != \"Iran\" and research_org_country_names != \"Czechia\" and research_org_country_names != \"Thailand\" and research_org_country_names != \"Greece\" and research_org_country_names != \"Turkey\" and research_org_country_names != \"Pakistan\" and research_org_country_names != \"Hungary\" and research_org_country_names != \"Colombia\" and research_org_country_names != \"Egypt\" and research_org_country_names != \"Israel\" and research_org_country_names != \"Estonia\" and research_org_country_names != \"Croatia\" and research_org_country_names != \"Chile\" and research_org_country_names != \"Bulgaria\" and research_org_country_names != \"Serbia\" and research_org_country_names != \"Ukraine\" and research_org_country_names != \"Lithuania\" and research_org_country_names != \"Cyprus\" and research_org_country_names != \"Belarus\" and research_org_country_names != \"Georgia\" and research_org_country_names != \"Argentina\" and research_org_country_names != \"Armenia\" and research_org_country_names != \"Saudi Arabia\" and research_org_country_names != \"Sri Lanka\" and research_org_country_names != \"Indonesia\" and research_org_country_names != \"Ecuador\" and research_org_country_names != \"Qatar\" and research_org_country_names != \"Vietnam\" and research_org_country_names != \"Romania\" and research_org_country_names != \"United Arab Emirates\" and research_org_country_names != \"Kenya\" and research_org_country_names != \"Philippines\" and research_org_country_names != \"Fiji\" and research_org_country_names != \"Nigeria\" and research_org_country_names != \"Slovakia\" and research_org_country_names != \"Iceland\" and research_org_country_names != \"Latvia\" and research_org_country_names != \"Bangladesh\" and research_org_country_names != \"Bermuda\" and research_org_country_names != \"Barbados\" and research_org_country_names != \"Slovenia\" and research_org_country_names != \"Lebanon\" and research_org_country_names != \"Nepal\" and research_org_country_names != \"Uruguay\" and research_org_country_names != \"Malta\" and research_org_country_names != \"Peru\" and research_org_country_names != \"New Caledonia\" and research_org_country_names != \"Tanzania\" and research_org_country_names != \"Ghana\" and research_org_country_names != \"Oman\" and research_org_country_names != \"Ethiopia\" and research_org_country_names != \"Uganda\" and research_org_country_names != \"Somalia\" and research_org_country_names != \"Costa Rica\" and research_org_country_names != \"Jamaica\" and research_org_country_names != \"Luxembourg\" and research_org_country_names != \"Tunisia\" and research_org_country_names != \"Venezuela\" and research_org_country_names != \"Panama\" and research_org_country_names != \"Iraq\" and research_org_country_names != \"Papua New Guinea\" and research_org_country_names != \"Gambia\" and research_org_country_names != \"Morocco\" and research_org_country_names != \"Jordan\" and research_org_country_names != \"Mongolia\" and research_org_country_names != \"Cameroon\" and research_org_country_names != \"Macao\" and research_org_country_names != \"Cambodia\" and research_org_country_names != \"French Polynesia\" and research_org_country_names != \"Samoa\" and research_org_country_names != \"Kuwait\" and research_org_country_names != \"Malawi\" and research_org_country_names != \"Trinidad and Tobago\" and research_org_country_names != \"Zambia\" and research_org_country_names != \"Botswana\" and research_org_country_names != \"Bosnia and Herzegovina\" and research_org_country_names != \"Cuba\" and research_org_country_names != \"Mauritius\" and research_org_country_names != \"Algeria\" and research_org_country_names != \"Tonga\" and research_org_country_names != \"Laos\" and research_org_country_names != \"Myanmar\" and research_org_country_names != \"Bahrain\" and research_org_country_names != \"Kazakhstan\" and research_org_country_names != \"Bolivia\" and research_org_country_names != \"Madagascar\" and research_org_country_names != \"Sudan\" and research_org_country_names != \"Bahamas\" and research_org_country_names != \"Namibia\" and research_org_country_names != \"Brunei\" and research_org_country_names != \"Zimbabwe\" and research_org_country_names != \"Guatemala\" and research_org_country_names != \"Monaco\" and research_org_country_names != \"Montenegro\" and research_org_country_names != \"Syria\" and research_org_country_names != \"Guinea\" and research_org_country_names != \"Macedonia\" and research_org_country_names != \"Senegal\" and research_org_country_names != \"Mali\" and research_org_country_names != \"Cook Islands\" and research_org_country_names != \"Vanuatu\" and research_org_country_names != \"Burkina Faso\" and research_org_country_names != \"Rwanda\" and research_org_country_names != \"Azerbaijan\" and research_org_country_names != \"Uzbekistan\" and research_org_country_names != \"Kyrgyzstan\" and research_org_country_names != \"State of Palestine\" and research_org_country_names != \"Reunion\" and research_org_country_names != \"Solomon Islands\" and research_org_country_names != \"Democratic Republic of the Congo\" and research_org_country_names != \"Falkland Islands\" and research_org_country_names != \"Bhutan\" and research_org_country_names != \"Moldova\" and research_org_country_names != \"Mozambique\" and research_org_country_names != \"Benin\" and research_org_country_names != \"Paraguay\" and research_org_country_names != \"Ivory Coast\" and research_org_country_names != \"Dominican Republic\" and research_org_country_names != \"Montserrat\" and research_org_country_names != \"Nicaragua\" and research_org_country_names != \"Honduras\" and research_org_country_names != \"Saint Lucia\" and research_org_country_names != \"Saint Kitts and Nevis\" and research_org_country_names != \"Libya\" and research_org_country_names != \"Albania\" and research_org_country_names != \"El Salvador\" and research_org_country_names != \"Guinea-Bissau\" and research_org_country_names != \"Maldives\" and research_org_country_names != \"Seychelles\" and research_org_country_names != \"East Timor\" and research_org_country_names != \"Norfolk Island\" and research_org_country_names != \"Afghanistan\" and research_org_country_names != \"Micronesia\" and research_org_country_names != \"French Guiana\" and research_org_country_names != \"Liberia\" and research_org_country_names != \"Grenada\" and research_org_country_names != \"Kiribati\" and research_org_country_names != \"Gabon\" and research_org_country_names != \"Greenland\" and research_org_country_names != \"Republic of the Congo\" and research_org_country_names != \"Guadeloupe\" and research_org_country_names != \"Lesotho\" and research_org_country_names != \"Palau\" and research_org_country_names != \"Swaziland\" and research_org_country_names != \"Togo\" and research_org_country_names != \"Angola\" and research_org_country_names != \"Faroe Islands\" and research_org_country_names != \"Sierra Leone\" and research_org_country_names != \"Guernsey\" and research_org_country_names != \"Marshall Islands\" and research_org_country_names != \"Niue\" and research_org_country_names != \"Suriname\" and research_org_country_names != \"Yemen\" and research_org_country_names != \"Burundi\" and research_org_country_names != \"Cape Verde\" and research_org_country_names != \"Guyana\" and research_org_country_names != \"Isle of Man\" and research_org_country_names != \"Liechtenstein\" and research_org_country_names != \"Belize\" and research_org_country_names != \"Central African Republic\" and research_org_country_names != \"Haiti\" and research_org_country_names != \"British Indian Ocean Territory\" and research_org_country_names != \"Jersey\" and research_org_country_names != \"Niger\" and research_org_country_names != \"Tajikistan\" and research_org_country_names != \"Tuvalu\" and research_org_country_names != \"Antigua and Barbuda\" and research_org_country_names != \"Antarctica\" and research_org_country_names != \"Serbia and Montenegro\" and research_org_country_names != \"Dominica\" and research_org_country_names != \"Gibraltar\" and research_org_country_names != \"Martinique\" and research_org_country_names != \"Nauru\" and research_org_country_names != \"Kosovo\" and research_org_country_names != \"Anguilla\" and research_org_country_names != \"Netherlands Antilles\" and research_org_country_names != \"Bonaire, Saint Eustatius and Saba \" and research_org_country_names != \"Eritrea\" and research_org_country_names != \"Comoros\" and research_org_country_names != \"North Korea\" and research_org_country_names != \"Mauritania\" and research_org_country_names != \"Chad\" and research_org_country_names != \"Vatican\" and research_org_country_names != \"Mayotte\" and research_org_country_names != \"Andorra\" and research_org_country_names != \"Aruba\" and research_org_country_names != \"Aland Islands\" and research_org_country_names != \"Curacao\" and research_org_country_names != \"Christmas Island\" and research_org_country_names != \"Djibouti\" and research_org_country_names != \"Equatorial Guinea\" and research_org_country_names != \"Saint Helena\" and research_org_country_names != \"Svalbard and Jan Mayen\" and research_org_country_names != \"South Sudan\" and research_org_country_names != \"Sao Tome and Principe\" and research_org_country_names != \"Sint Maarten\" and research_org_country_names != \"Turkmenistan\" '"
      ]
     },
     "execution_count": 9,
     "metadata": {
      "tags": []
     },
     "output_type": "execute_result"
    }
   ],
   "source": [
    "query_component"
   ]
  },
  {
   "cell_type": "markdown",
   "metadata": {
    "colab_type": "text",
    "id": "_kvR0pR54wVI"
   },
   "source": [
    "Eg to return funders we can do the following"
   ]
  },
  {
   "cell_type": "code",
   "execution_count": 0,
   "metadata": {
    "Collapsed": "false",
    "colab": {
     "base_uri": "https://localhost:8080/",
     "height": 34
    },
    "colab_type": "code",
    "executionInfo": {
     "elapsed": 613,
     "status": "ok",
     "timestamp": 1573129927986,
     "user": {
      "displayName": "Michele Pasin",
      "photoUrl": "https://lh3.googleusercontent.com/a-/AAuE7mBu8LVjIGgontF2Wax51BoL5KFx8esezX3bUmaa0g=s64",
      "userId": "10309320684375994511"
     },
     "user_tz": 0
    },
    "id": "j7jtJvVZz15v",
    "outputId": "2fde49a0-6eda-44b9-cb4d-402498a760f5"
   },
   "outputs": [
    {
     "name": "stdout",
     "output_type": "stream",
     "text": [
      "Returned Funders: 197\n"
     ]
    }
   ],
   "source": [
    "all_funders = dsl.query(f\"\"\"\n",
    "search publications\n",
    "where count(research_orgs) > 1\n",
    "and research_org_country_names = \"New Zealand\" {query_component}\n",
    "return funders limit 1000\"\"\").as_dataframe()"
   ]
  },
  {
   "cell_type": "code",
   "execution_count": 0,
   "metadata": {
    "Collapsed": "false",
    "colab": {
     "base_uri": "https://localhost:8080/",
     "height": 193
    },
    "colab_type": "code",
    "executionInfo": {
     "elapsed": 496,
     "status": "ok",
     "timestamp": 1573129929020,
     "user": {
      "displayName": "Michele Pasin",
      "photoUrl": "https://lh3.googleusercontent.com/a-/AAuE7mBu8LVjIGgontF2Wax51BoL5KFx8esezX3bUmaa0g=s64",
      "userId": "10309320684375994511"
     },
     "user_tz": 0
    },
    "id": "_do-JwYwz15w",
    "outputId": "bed9a315-6a64-4b7e-b038-5d3d39d80155"
   },
   "outputs": [
    {
     "data": {
      "application/vnd.google.colaboratory.module+javascript": "\n      import \"https://ssl.gstatic.com/colaboratory/data_table/9e554b27bdd509f3/data_table.js\";\n\n      window.createDataTable({\n        data: [[{\n            'v': 0,\n            'f': \"0\",\n        },\n\"grid.431594.e\",\n{\n            'v': 1493,\n            'f': \"1493\",\n        },\n\"MBIE\",\n\"Ministry of Business, Innovation and Employment\",\n\"New Zealand\"],\n [{\n            'v': 1,\n            'f': \"1\",\n        },\n\"grid.452999.a\",\n{\n            'v': 758,\n            'f': \"758\",\n        },\n\"HRC\",\n\"Health Research Council of New Zealand\",\n\"New Zealand\"],\n [{\n            'v': 2,\n            'f': \"2\",\n        },\n\"grid.431457.0\",\n{\n            'v': 532,\n            'f': \"532\",\n        },\n\"RSNZ\",\n\"Royal Society of New Zealand\",\n\"New Zealand\"],\n [{\n            'v': 3,\n            'f': \"3\",\n        },\n\"grid.417738.e\",\n{\n            'v': 276,\n            'f': \"276\",\n        },\nNaN,\n\"AgResearch (New Zealand)\",\n\"New Zealand\"],\n [{\n            'v': 4,\n            'f': \"4\",\n        },\n\"grid.419676.b\",\n{\n            'v': 231,\n            'f': \"231\",\n        },\n\"NIWA\",\n\"National Institute of Water and Atmospheric Research\",\n\"New Zealand\"]],\n        columns: [[\"number\", \"index\"], [\"string\", \"id\"], [\"number\", \"count\"], [\"string\", \"acronym\"], [\"string\", \"name\"], [\"string\", \"country_name\"]],\n        columnOptions: [{\"width\": \"1px\", \"className\": \"index_column\"}],\n        rowsPerPage: 25,\n        helpUrl: \"https://colab.research.google.com/notebooks/data_table.ipynb\",\n      });\n    ",
      "text/html": [
       "<div>\n",
       "<style scoped>\n",
       "    .dataframe tbody tr th:only-of-type {\n",
       "        vertical-align: middle;\n",
       "    }\n",
       "\n",
       "    .dataframe tbody tr th {\n",
       "        vertical-align: top;\n",
       "    }\n",
       "\n",
       "    .dataframe thead th {\n",
       "        text-align: right;\n",
       "    }\n",
       "</style>\n",
       "<table border=\"1\" class=\"dataframe\">\n",
       "  <thead>\n",
       "    <tr style=\"text-align: right;\">\n",
       "      <th></th>\n",
       "      <th>id</th>\n",
       "      <th>count</th>\n",
       "      <th>acronym</th>\n",
       "      <th>name</th>\n",
       "      <th>country_name</th>\n",
       "    </tr>\n",
       "  </thead>\n",
       "  <tbody>\n",
       "    <tr>\n",
       "      <th>0</th>\n",
       "      <td>grid.431594.e</td>\n",
       "      <td>1493</td>\n",
       "      <td>MBIE</td>\n",
       "      <td>Ministry of Business, Innovation and Employment</td>\n",
       "      <td>New Zealand</td>\n",
       "    </tr>\n",
       "    <tr>\n",
       "      <th>1</th>\n",
       "      <td>grid.452999.a</td>\n",
       "      <td>758</td>\n",
       "      <td>HRC</td>\n",
       "      <td>Health Research Council of New Zealand</td>\n",
       "      <td>New Zealand</td>\n",
       "    </tr>\n",
       "    <tr>\n",
       "      <th>2</th>\n",
       "      <td>grid.431457.0</td>\n",
       "      <td>532</td>\n",
       "      <td>RSNZ</td>\n",
       "      <td>Royal Society of New Zealand</td>\n",
       "      <td>New Zealand</td>\n",
       "    </tr>\n",
       "    <tr>\n",
       "      <th>3</th>\n",
       "      <td>grid.417738.e</td>\n",
       "      <td>276</td>\n",
       "      <td>NaN</td>\n",
       "      <td>AgResearch (New Zealand)</td>\n",
       "      <td>New Zealand</td>\n",
       "    </tr>\n",
       "    <tr>\n",
       "      <th>4</th>\n",
       "      <td>grid.419676.b</td>\n",
       "      <td>231</td>\n",
       "      <td>NIWA</td>\n",
       "      <td>National Institute of Water and Atmospheric Re...</td>\n",
       "      <td>New Zealand</td>\n",
       "    </tr>\n",
       "  </tbody>\n",
       "</table>\n",
       "</div>"
      ],
      "text/plain": [
       "              id  ...  country_name\n",
       "0  grid.431594.e  ...   New Zealand\n",
       "1  grid.452999.a  ...   New Zealand\n",
       "2  grid.431457.0  ...   New Zealand\n",
       "3  grid.417738.e  ...   New Zealand\n",
       "4  grid.419676.b  ...   New Zealand\n",
       "\n",
       "[5 rows x 5 columns]"
      ]
     },
     "execution_count": 11,
     "metadata": {
      "tags": []
     },
     "output_type": "execute_result"
    }
   ],
   "source": [
    "all_funders.head()"
   ]
  },
  {
   "cell_type": "markdown",
   "metadata": {
    "colab_type": "text",
    "id": "qF3gDqHVz15y"
   },
   "source": [
    "# Approach 2"
   ]
  },
  {
   "cell_type": "markdown",
   "metadata": {
    "colab_type": "text",
    "id": "CNg70TGU6G9t"
   },
   "source": [
    "Another appraoch that will lead to more complete results is to \n",
    "1. extract all publications records, and \n",
    "2. aggregate them by research org / country in order to highlight collaboration patterns. \n",
    "\n",
    "The main drawback of this approach is that it takes longer since we are downloading lots of data. In particular, since the maximum one can download from a single API search is 50k records, the source dataset (= all the publications) might need to be created by concatenating the results of multiple queries. \n",
    "\n",
    "For the purpose of this example, we only take records from 2015.  "
   ]
  },
  {
   "cell_type": "code",
   "execution_count": 0,
   "metadata": {
    "colab": {
     "base_uri": "https://localhost:8080/",
     "height": 289
    },
    "colab_type": "code",
    "executionInfo": {
     "elapsed": 73376,
     "status": "ok",
     "timestamp": 1573133613153,
     "user": {
      "displayName": "Michele Pasin",
      "photoUrl": "https://lh3.googleusercontent.com/a-/AAuE7mBu8LVjIGgontF2Wax51BoL5KFx8esezX3bUmaa0g=s64",
      "userId": "10309320684375994511"
     },
     "user_tz": 0
    },
    "id": "MmDftyEI2tN_",
    "outputId": "5edb5170-546d-4b01-8bf0-a12efd05c759"
   },
   "outputs": [
    {
     "name": "stdout",
     "output_type": "stream",
     "text": [
      "500 / 7591\n",
      "1000 / 7591\n",
      "1500 / 7591\n",
      "2000 / 7591\n",
      "2500 / 7591\n",
      "3000 / 7591\n",
      "3500 / 7591\n",
      "4000 / 7591\n",
      "4500 / 7591\n",
      "5000 / 7591\n",
      "5500 / 7591\n",
      "6000 / 7591\n",
      "6500 / 7591\n",
      "7000 / 7591\n",
      "7500 / 7591\n",
      "7591 / 7591\n"
     ]
    }
   ],
   "source": [
    "data = dsl.query_iterative(\"\"\"\n",
    "search publications where count(research_orgs) > 1 \n",
    "and year = 2015\n",
    "and research_org_country_names = \"New Zealand\"\n",
    "return publications\n",
    "\"\"\", limit=500).as_dataframe_authors_affiliations()"
   ]
  },
  {
   "cell_type": "markdown",
   "metadata": {
    "colab_type": "text",
    "id": "SV_e_lMA7HQm"
   },
   "source": [
    "Now we can identify only affiliations to a certain country eg NZ"
   ]
  },
  {
   "cell_type": "code",
   "execution_count": 0,
   "metadata": {
    "colab": {
     "base_uri": "https://localhost:8080/",
     "height": 193
    },
    "colab_type": "code",
    "executionInfo": {
     "elapsed": 468,
     "status": "ok",
     "timestamp": 1573133618880,
     "user": {
      "displayName": "Michele Pasin",
      "photoUrl": "https://lh3.googleusercontent.com/a-/AAuE7mBu8LVjIGgontF2Wax51BoL5KFx8esezX3bUmaa0g=s64",
      "userId": "10309320684375994511"
     },
     "user_tz": 0
    },
    "id": "yjc-v81E29jI",
    "outputId": "468c181f-1f92-4fb7-e96b-d46c6ecf98e8"
   },
   "outputs": [
    {
     "data": {
      "application/vnd.google.colaboratory.module+javascript": "\n      import \"https://ssl.gstatic.com/colaboratory/data_table/9e554b27bdd509f3/data_table.js\";\n\n      window.createDataTable({\n        data: [[{\n            'v': 4,\n            'f': \"4\",\n        },\n\"University of Otago\",\n\"grid.29980.3a\",\n\"Dunedin\",\n{\n            'v': 2191562.0,\n            'f': \"2191562.0\",\n        },\n\"New Zealand\",\n\"NZ\",\n\"\",\n\"\",\n\"pub.1028580728\",\n\"\",\n\"Edward J.\",\n\"Gane\"],\n [{\n            'v': 19,\n            'f': \"19\",\n        },\n\"University of Otago\",\n\"grid.29980.3a\",\n\"Dunedin\",\n{\n            'v': 2191562.0,\n            'f': \"2191562.0\",\n        },\n\"New Zealand\",\n\"NZ\",\n\"\",\n\"\",\n\"pub.1028580728\",\n\"ur.016520575067.32\",\n\"Catherine A.M.\",\n\"Stedman\"],\n [{\n            'v': 34,\n            'f': \"34\",\n        },\n\"Christchurch Hospital\",\n\"grid.414299.3\",\n\"Christchurch\",\n{\n            'v': 2192362.0,\n            'f': \"2192362.0\",\n        },\n\"New Zealand\",\n\"NZ\",\n\"\",\n\"\",\n\"pub.1030129103\",\n\"ur.0712013775.41\",\n\"Nicholas M.\",\n\"Douglas\"],\n [{\n            'v': 48,\n            'f': \"48\",\n        },\n\"Auckland University of Technology\",\n\"grid.252547.3\",\n\"Auckland\",\n{\n            'v': 2193733.0,\n            'f': \"2193733.0\",\n        },\n\"New Zealand\",\n\"NZ\",\n\"\",\n\"\",\n\"pub.1013651732\",\n\"ur.013116146115.26\",\n\"Tao\",\n\"Gao\"],\n [{\n            'v': 49,\n            'f': \"49\",\n        },\n\"Auckland University of Technology\",\n\"grid.252547.3\",\n\"Auckland\",\n{\n            'v': 2193733.0,\n            'f': \"2193733.0\",\n        },\n\"New Zealand\",\n\"NZ\",\n\"\",\n\"\",\n\"pub.1013651732\",\n\"ur.010060432633.19\",\n\"Nikola\",\n\"Kasabov\"]],\n        columns: [[\"number\", \"index\"], [\"string\", \"aff_name\"], [\"string\", \"aff_id\"], [\"string\", \"aff_city\"], [\"number\", \"aff_city_id\"], [\"string\", \"aff_country\"], [\"string\", \"aff_country_code\"], [\"string\", \"aff_state\"], [\"string\", \"aff_state_code\"], [\"string\", \"pub_id\"], [\"string\", \"researcher_id\"], [\"string\", \"first_name\"], [\"string\", \"last_name\"]],\n        columnOptions: [{\"width\": \"1px\", \"className\": \"index_column\"}],\n        rowsPerPage: 25,\n        helpUrl: \"https://colab.research.google.com/notebooks/data_table.ipynb\",\n      });\n    ",
      "text/html": [
       "<div>\n",
       "<style scoped>\n",
       "    .dataframe tbody tr th:only-of-type {\n",
       "        vertical-align: middle;\n",
       "    }\n",
       "\n",
       "    .dataframe tbody tr th {\n",
       "        vertical-align: top;\n",
       "    }\n",
       "\n",
       "    .dataframe thead th {\n",
       "        text-align: right;\n",
       "    }\n",
       "</style>\n",
       "<table border=\"1\" class=\"dataframe\">\n",
       "  <thead>\n",
       "    <tr style=\"text-align: right;\">\n",
       "      <th></th>\n",
       "      <th>aff_name</th>\n",
       "      <th>aff_id</th>\n",
       "      <th>aff_city</th>\n",
       "      <th>aff_city_id</th>\n",
       "      <th>aff_country</th>\n",
       "      <th>aff_country_code</th>\n",
       "      <th>aff_state</th>\n",
       "      <th>aff_state_code</th>\n",
       "      <th>pub_id</th>\n",
       "      <th>researcher_id</th>\n",
       "      <th>first_name</th>\n",
       "      <th>last_name</th>\n",
       "    </tr>\n",
       "  </thead>\n",
       "  <tbody>\n",
       "    <tr>\n",
       "      <th>4</th>\n",
       "      <td>University of Otago</td>\n",
       "      <td>grid.29980.3a</td>\n",
       "      <td>Dunedin</td>\n",
       "      <td>2.19156e+06</td>\n",
       "      <td>New Zealand</td>\n",
       "      <td>NZ</td>\n",
       "      <td></td>\n",
       "      <td></td>\n",
       "      <td>pub.1028580728</td>\n",
       "      <td></td>\n",
       "      <td>Edward J.</td>\n",
       "      <td>Gane</td>\n",
       "    </tr>\n",
       "    <tr>\n",
       "      <th>19</th>\n",
       "      <td>University of Otago</td>\n",
       "      <td>grid.29980.3a</td>\n",
       "      <td>Dunedin</td>\n",
       "      <td>2.19156e+06</td>\n",
       "      <td>New Zealand</td>\n",
       "      <td>NZ</td>\n",
       "      <td></td>\n",
       "      <td></td>\n",
       "      <td>pub.1028580728</td>\n",
       "      <td>ur.016520575067.32</td>\n",
       "      <td>Catherine A.M.</td>\n",
       "      <td>Stedman</td>\n",
       "    </tr>\n",
       "    <tr>\n",
       "      <th>34</th>\n",
       "      <td>Christchurch Hospital</td>\n",
       "      <td>grid.414299.3</td>\n",
       "      <td>Christchurch</td>\n",
       "      <td>2.19236e+06</td>\n",
       "      <td>New Zealand</td>\n",
       "      <td>NZ</td>\n",
       "      <td></td>\n",
       "      <td></td>\n",
       "      <td>pub.1030129103</td>\n",
       "      <td>ur.0712013775.41</td>\n",
       "      <td>Nicholas M.</td>\n",
       "      <td>Douglas</td>\n",
       "    </tr>\n",
       "    <tr>\n",
       "      <th>48</th>\n",
       "      <td>Auckland University of Technology</td>\n",
       "      <td>grid.252547.3</td>\n",
       "      <td>Auckland</td>\n",
       "      <td>2.19373e+06</td>\n",
       "      <td>New Zealand</td>\n",
       "      <td>NZ</td>\n",
       "      <td></td>\n",
       "      <td></td>\n",
       "      <td>pub.1013651732</td>\n",
       "      <td>ur.013116146115.26</td>\n",
       "      <td>Tao</td>\n",
       "      <td>Gao</td>\n",
       "    </tr>\n",
       "    <tr>\n",
       "      <th>49</th>\n",
       "      <td>Auckland University of Technology</td>\n",
       "      <td>grid.252547.3</td>\n",
       "      <td>Auckland</td>\n",
       "      <td>2.19373e+06</td>\n",
       "      <td>New Zealand</td>\n",
       "      <td>NZ</td>\n",
       "      <td></td>\n",
       "      <td></td>\n",
       "      <td>pub.1013651732</td>\n",
       "      <td>ur.010060432633.19</td>\n",
       "      <td>Nikola</td>\n",
       "      <td>Kasabov</td>\n",
       "    </tr>\n",
       "  </tbody>\n",
       "</table>\n",
       "</div>"
      ],
      "text/plain": [
       "                             aff_name         aff_id  ...      first_name last_name\n",
       "4                 University of Otago  grid.29980.3a  ...       Edward J.      Gane\n",
       "19                University of Otago  grid.29980.3a  ...  Catherine A.M.   Stedman\n",
       "34              Christchurch Hospital  grid.414299.3  ...     Nicholas M.   Douglas\n",
       "48  Auckland University of Technology  grid.252547.3  ...             Tao       Gao\n",
       "49  Auckland University of Technology  grid.252547.3  ...          Nikola   Kasabov\n",
       "\n",
       "[5 rows x 12 columns]"
      ]
     },
     "execution_count": 60,
     "metadata": {
      "tags": []
     },
     "output_type": "execute_result"
    }
   ],
   "source": [
    "country_affiliations = data.query('aff_country == \"New Zealand\"')\n",
    "country_affiliations.head()"
   ]
  },
  {
   "cell_type": "markdown",
   "metadata": {
    "colab_type": "text",
    "id": "l1BsDAYX4gNd"
   },
   "source": [
    "Next we want a list of the publications where we have at list two separate GRIDS - in other words, the \n",
    "* publications that appear more than once in the table above\n",
    "* publications that have at least 2 different GRIDs"
   ]
  },
  {
   "cell_type": "code",
   "execution_count": 0,
   "metadata": {
    "colab": {
     "base_uri": "https://localhost:8080/",
     "height": 221
    },
    "colab_type": "code",
    "executionInfo": {
     "elapsed": 466,
     "status": "ok",
     "timestamp": 1573133623119,
     "user": {
      "displayName": "Michele Pasin",
      "photoUrl": "https://lh3.googleusercontent.com/a-/AAuE7mBu8LVjIGgontF2Wax51BoL5KFx8esezX3bUmaa0g=s64",
      "userId": "10309320684375994511"
     },
     "user_tz": 0
    },
    "id": "0YXEi45PAGak",
    "outputId": "2436b016-b495-46a3-dbcc-ce1099c69a38"
   },
   "outputs": [
    {
     "name": "stderr",
     "output_type": "stream",
     "text": [
      "/usr/local/lib/python3.6/dist-packages/ipykernel_launcher.py:1: SettingWithCopyWarning: \n",
      "A value is trying to be set on a copy of a slice from a DataFrame.\n",
      "Try using .loc[row_indexer,col_indexer] = value instead\n",
      "\n",
      "See the caveats in the documentation: http://pandas.pydata.org/pandas-docs/stable/user_guide/indexing.html#returning-a-view-versus-a-copy\n",
      "  \"\"\"Entry point for launching an IPython kernel.\n",
      "/usr/local/lib/python3.6/dist-packages/ipykernel_launcher.py:2: SettingWithCopyWarning: \n",
      "A value is trying to be set on a copy of a slice from a DataFrame.\n",
      "Try using .loc[row_indexer,col_indexer] = value instead\n",
      "\n",
      "See the caveats in the documentation: http://pandas.pydata.org/pandas-docs/stable/user_guide/indexing.html#returning-a-view-versus-a-copy\n",
      "  \n"
     ]
    }
   ],
   "source": [
    "country_affiliations[\"grids_tot\"] =  country_affiliations.groupby(['pub_id'])['aff_id'].transform('count')\n",
    "country_affiliations[\"grids_unique\"] =  country_affiliations.groupby(['pub_id'])['aff_id'].transform('nunique')"
   ]
  },
  {
   "cell_type": "markdown",
   "metadata": {
    "colab_type": "text",
    "id": "MEHmWjEp9A53"
   },
   "source": [
    "We have added two new columns to the table: `grids_tot` tells us how many affiliations we have per publication (normally one per author) and `grids_unique` tell us instead how many of these are unique in the context of a publication.  "
   ]
  },
  {
   "cell_type": "code",
   "execution_count": 0,
   "metadata": {
    "colab": {
     "base_uri": "https://localhost:8080/",
     "height": 193
    },
    "colab_type": "code",
    "executionInfo": {
     "elapsed": 548,
     "status": "ok",
     "timestamp": 1573133627028,
     "user": {
      "displayName": "Michele Pasin",
      "photoUrl": "https://lh3.googleusercontent.com/a-/AAuE7mBu8LVjIGgontF2Wax51BoL5KFx8esezX3bUmaa0g=s64",
      "userId": "10309320684375994511"
     },
     "user_tz": 0
    },
    "id": "kQSyAo3o9jl3",
    "outputId": "abc96782-b113-43a4-e0b1-ee2d9cfe3737"
   },
   "outputs": [
    {
     "data": {
      "application/vnd.google.colaboratory.module+javascript": "\n      import \"https://ssl.gstatic.com/colaboratory/data_table/9e554b27bdd509f3/data_table.js\";\n\n      window.createDataTable({\n        data: [[{\n            'v': 4,\n            'f': \"4\",\n        },\n\"University of Otago\",\n\"grid.29980.3a\",\n\"Dunedin\",\n{\n            'v': 2191562.0,\n            'f': \"2191562.0\",\n        },\n\"New Zealand\",\n\"NZ\",\n\"\",\n\"\",\n\"pub.1028580728\",\n\"\",\n\"Edward J.\",\n\"Gane\",\n{\n            'v': 2,\n            'f': \"2\",\n        },\n{\n            'v': 1,\n            'f': \"1\",\n        }],\n [{\n            'v': 19,\n            'f': \"19\",\n        },\n\"University of Otago\",\n\"grid.29980.3a\",\n\"Dunedin\",\n{\n            'v': 2191562.0,\n            'f': \"2191562.0\",\n        },\n\"New Zealand\",\n\"NZ\",\n\"\",\n\"\",\n\"pub.1028580728\",\n\"ur.016520575067.32\",\n\"Catherine A.M.\",\n\"Stedman\",\n{\n            'v': 2,\n            'f': \"2\",\n        },\n{\n            'v': 1,\n            'f': \"1\",\n        }],\n [{\n            'v': 34,\n            'f': \"34\",\n        },\n\"Christchurch Hospital\",\n\"grid.414299.3\",\n\"Christchurch\",\n{\n            'v': 2192362.0,\n            'f': \"2192362.0\",\n        },\n\"New Zealand\",\n\"NZ\",\n\"\",\n\"\",\n\"pub.1030129103\",\n\"ur.0712013775.41\",\n\"Nicholas M.\",\n\"Douglas\",\n{\n            'v': 1,\n            'f': \"1\",\n        },\n{\n            'v': 1,\n            'f': \"1\",\n        }],\n [{\n            'v': 48,\n            'f': \"48\",\n        },\n\"Auckland University of Technology\",\n\"grid.252547.3\",\n\"Auckland\",\n{\n            'v': 2193733.0,\n            'f': \"2193733.0\",\n        },\n\"New Zealand\",\n\"NZ\",\n\"\",\n\"\",\n\"pub.1013651732\",\n\"ur.013116146115.26\",\n\"Tao\",\n\"Gao\",\n{\n            'v': 2,\n            'f': \"2\",\n        },\n{\n            'v': 1,\n            'f': \"1\",\n        }],\n [{\n            'v': 49,\n            'f': \"49\",\n        },\n\"Auckland University of Technology\",\n\"grid.252547.3\",\n\"Auckland\",\n{\n            'v': 2193733.0,\n            'f': \"2193733.0\",\n        },\n\"New Zealand\",\n\"NZ\",\n\"\",\n\"\",\n\"pub.1013651732\",\n\"ur.010060432633.19\",\n\"Nikola\",\n\"Kasabov\",\n{\n            'v': 2,\n            'f': \"2\",\n        },\n{\n            'v': 1,\n            'f': \"1\",\n        }]],\n        columns: [[\"number\", \"index\"], [\"string\", \"aff_name\"], [\"string\", \"aff_id\"], [\"string\", \"aff_city\"], [\"number\", \"aff_city_id\"], [\"string\", \"aff_country\"], [\"string\", \"aff_country_code\"], [\"string\", \"aff_state\"], [\"string\", \"aff_state_code\"], [\"string\", \"pub_id\"], [\"string\", \"researcher_id\"], [\"string\", \"first_name\"], [\"string\", \"last_name\"], [\"number\", \"grids_tot\"], [\"number\", \"grids_unique\"]],\n        columnOptions: [{\"width\": \"1px\", \"className\": \"index_column\"}],\n        rowsPerPage: 25,\n        helpUrl: \"https://colab.research.google.com/notebooks/data_table.ipynb\",\n      });\n    ",
      "text/html": [
       "<div>\n",
       "<style scoped>\n",
       "    .dataframe tbody tr th:only-of-type {\n",
       "        vertical-align: middle;\n",
       "    }\n",
       "\n",
       "    .dataframe tbody tr th {\n",
       "        vertical-align: top;\n",
       "    }\n",
       "\n",
       "    .dataframe thead th {\n",
       "        text-align: right;\n",
       "    }\n",
       "</style>\n",
       "<table border=\"1\" class=\"dataframe\">\n",
       "  <thead>\n",
       "    <tr style=\"text-align: right;\">\n",
       "      <th></th>\n",
       "      <th>aff_name</th>\n",
       "      <th>aff_id</th>\n",
       "      <th>aff_city</th>\n",
       "      <th>aff_city_id</th>\n",
       "      <th>aff_country</th>\n",
       "      <th>aff_country_code</th>\n",
       "      <th>aff_state</th>\n",
       "      <th>aff_state_code</th>\n",
       "      <th>pub_id</th>\n",
       "      <th>researcher_id</th>\n",
       "      <th>first_name</th>\n",
       "      <th>last_name</th>\n",
       "      <th>grids_tot</th>\n",
       "      <th>grids_unique</th>\n",
       "    </tr>\n",
       "  </thead>\n",
       "  <tbody>\n",
       "    <tr>\n",
       "      <th>4</th>\n",
       "      <td>University of Otago</td>\n",
       "      <td>grid.29980.3a</td>\n",
       "      <td>Dunedin</td>\n",
       "      <td>2.19156e+06</td>\n",
       "      <td>New Zealand</td>\n",
       "      <td>NZ</td>\n",
       "      <td></td>\n",
       "      <td></td>\n",
       "      <td>pub.1028580728</td>\n",
       "      <td></td>\n",
       "      <td>Edward J.</td>\n",
       "      <td>Gane</td>\n",
       "      <td>2</td>\n",
       "      <td>1</td>\n",
       "    </tr>\n",
       "    <tr>\n",
       "      <th>19</th>\n",
       "      <td>University of Otago</td>\n",
       "      <td>grid.29980.3a</td>\n",
       "      <td>Dunedin</td>\n",
       "      <td>2.19156e+06</td>\n",
       "      <td>New Zealand</td>\n",
       "      <td>NZ</td>\n",
       "      <td></td>\n",
       "      <td></td>\n",
       "      <td>pub.1028580728</td>\n",
       "      <td>ur.016520575067.32</td>\n",
       "      <td>Catherine A.M.</td>\n",
       "      <td>Stedman</td>\n",
       "      <td>2</td>\n",
       "      <td>1</td>\n",
       "    </tr>\n",
       "    <tr>\n",
       "      <th>34</th>\n",
       "      <td>Christchurch Hospital</td>\n",
       "      <td>grid.414299.3</td>\n",
       "      <td>Christchurch</td>\n",
       "      <td>2.19236e+06</td>\n",
       "      <td>New Zealand</td>\n",
       "      <td>NZ</td>\n",
       "      <td></td>\n",
       "      <td></td>\n",
       "      <td>pub.1030129103</td>\n",
       "      <td>ur.0712013775.41</td>\n",
       "      <td>Nicholas M.</td>\n",
       "      <td>Douglas</td>\n",
       "      <td>1</td>\n",
       "      <td>1</td>\n",
       "    </tr>\n",
       "    <tr>\n",
       "      <th>48</th>\n",
       "      <td>Auckland University of Technology</td>\n",
       "      <td>grid.252547.3</td>\n",
       "      <td>Auckland</td>\n",
       "      <td>2.19373e+06</td>\n",
       "      <td>New Zealand</td>\n",
       "      <td>NZ</td>\n",
       "      <td></td>\n",
       "      <td></td>\n",
       "      <td>pub.1013651732</td>\n",
       "      <td>ur.013116146115.26</td>\n",
       "      <td>Tao</td>\n",
       "      <td>Gao</td>\n",
       "      <td>2</td>\n",
       "      <td>1</td>\n",
       "    </tr>\n",
       "    <tr>\n",
       "      <th>49</th>\n",
       "      <td>Auckland University of Technology</td>\n",
       "      <td>grid.252547.3</td>\n",
       "      <td>Auckland</td>\n",
       "      <td>2.19373e+06</td>\n",
       "      <td>New Zealand</td>\n",
       "      <td>NZ</td>\n",
       "      <td></td>\n",
       "      <td></td>\n",
       "      <td>pub.1013651732</td>\n",
       "      <td>ur.010060432633.19</td>\n",
       "      <td>Nikola</td>\n",
       "      <td>Kasabov</td>\n",
       "      <td>2</td>\n",
       "      <td>1</td>\n",
       "    </tr>\n",
       "  </tbody>\n",
       "</table>\n",
       "</div>"
      ],
      "text/plain": [
       "                             aff_name         aff_id  ... grids_tot grids_unique\n",
       "4                 University of Otago  grid.29980.3a  ...         2            1\n",
       "19                University of Otago  grid.29980.3a  ...         2            1\n",
       "34              Christchurch Hospital  grid.414299.3  ...         1            1\n",
       "48  Auckland University of Technology  grid.252547.3  ...         2            1\n",
       "49  Auckland University of Technology  grid.252547.3  ...         2            1\n",
       "\n",
       "[5 rows x 14 columns]"
      ]
     },
     "execution_count": 62,
     "metadata": {
      "tags": []
     },
     "output_type": "execute_result"
    }
   ],
   "source": [
    "country_affiliations.head()"
   ]
  },
  {
   "cell_type": "markdown",
   "metadata": {
    "colab_type": "text",
    "id": "uLoJFzSF_3BV"
   },
   "source": [
    "Now we can pull out publications rows where `grids_unique` > 1 in order to identify NZ collaborations."
   ]
  },
  {
   "cell_type": "code",
   "execution_count": 0,
   "metadata": {
    "colab": {
     "base_uri": "https://localhost:8080/",
     "height": 298
    },
    "colab_type": "code",
    "executionInfo": {
     "elapsed": 485,
     "status": "ok",
     "timestamp": 1573133644275,
     "user": {
      "displayName": "Michele Pasin",
      "photoUrl": "https://lh3.googleusercontent.com/a-/AAuE7mBu8LVjIGgontF2Wax51BoL5KFx8esezX3bUmaa0g=s64",
      "userId": "10309320684375994511"
     },
     "user_tz": 0
    },
    "id": "yOPLqBQ8BBYn",
    "outputId": "dbc49194-138d-4b5c-909c-1ad4763a1323"
   },
   "outputs": [
    {
     "data": {
      "application/vnd.google.colaboratory.module+javascript": "\n      import \"https://ssl.gstatic.com/colaboratory/data_table/9e554b27bdd509f3/data_table.js\";\n\n      window.createDataTable({\n        data: [[{\n            'v': 91,\n            'f': \"91\",\n        },\n\"University of Otago\",\n\"grid.29980.3a\",\n\"Dunedin\",\n{\n            'v': 2191562.0,\n            'f': \"2191562.0\",\n        },\n\"New Zealand\",\n\"NZ\",\n\"\",\n\"\",\n\"pub.1004307959\",\n\"ur.01166573331.81\",\n\"Tracy R.\",\n\"Melzer\",\n{\n            'v': 8,\n            'f': \"8\",\n        },\n{\n            'v': 3,\n            'f': \"3\",\n        }],\n [{\n            'v': 94,\n            'f': \"94\",\n        },\n\"University of Otago\",\n\"grid.29980.3a\",\n\"Dunedin\",\n{\n            'v': 2191562.0,\n            'f': \"2191562.0\",\n        },\n\"New Zealand\",\n\"NZ\",\n\"\",\n\"\",\n\"pub.1004307959\",\n\"ur.01205755463.23\",\n\"Michael R.\",\n\"MacAskill\",\n{\n            'v': 8,\n            'f': \"8\",\n        },\n{\n            'v': 3,\n            'f': \"3\",\n        }],\n [{\n            'v': 96,\n            'f': \"96\",\n        },\n\"University of Otago\",\n\"grid.29980.3a\",\n\"Dunedin\",\n{\n            'v': 2191562.0,\n            'f': \"2191562.0\",\n        },\n\"New Zealand\",\n\"NZ\",\n\"\",\n\"\",\n\"pub.1004307959\",\n\"ur.0660231346.35\",\n\"Toni L.\",\n\"Pitcher\",\n{\n            'v': 8,\n            'f': \"8\",\n        },\n{\n            'v': 3,\n            'f': \"3\",\n        }],\n [{\n            'v': 98,\n            'f': \"98\",\n        },\n\"University of Otago\",\n\"grid.29980.3a\",\n\"Dunedin\",\n{\n            'v': 2191562.0,\n            'f': \"2191562.0\",\n        },\n\"New Zealand\",\n\"NZ\",\n\"\",\n\"\",\n\"pub.1004307959\",\n\"ur.0615411424.15\",\n\"Leslie\",\n\"Livingston\",\n{\n            'v': 8,\n            'f': \"8\",\n        },\n{\n            'v': 3,\n            'f': \"3\",\n        }],\n [{\n            'v': 103,\n            'f': \"103\",\n        },\n\"University of Otago\",\n\"grid.29980.3a\",\n\"Dunedin\",\n{\n            'v': 2191562.0,\n            'f': \"2191562.0\",\n        },\n\"New Zealand\",\n\"NZ\",\n\"\",\n\"\",\n\"pub.1004307959\",\n\"ur.0777753224.45\",\n\"John C.\",\n\"Dalrymple-Alford\",\n{\n            'v': 8,\n            'f': \"8\",\n        },\n{\n            'v': 3,\n            'f': \"3\",\n        }],\n [{\n            'v': 104,\n            'f': \"104\",\n        },\n\"University of Canterbury\",\n\"grid.21006.35\",\n\"Christchurch\",\n{\n            'v': 2192362.0,\n            'f': \"2192362.0\",\n        },\n\"New Zealand\",\n\"NZ\",\n\"\",\n\"\",\n\"pub.1004307959\",\n\"ur.0777753224.45\",\n\"John C.\",\n\"Dalrymple-Alford\",\n{\n            'v': 8,\n            'f': \"8\",\n        },\n{\n            'v': 3,\n            'f': \"3\",\n        }],\n [{\n            'v': 106,\n            'f': \"106\",\n        },\n\"University of Otago\",\n\"grid.29980.3a\",\n\"Dunedin\",\n{\n            'v': 2191562.0,\n            'f': \"2191562.0\",\n        },\n\"New Zealand\",\n\"NZ\",\n\"\",\n\"\",\n\"pub.1004307959\",\n\"ur.07523657762.60\",\n\"Tim J.\",\n\"Anderson\",\n{\n            'v': 8,\n            'f': \"8\",\n        },\n{\n            'v': 3,\n            'f': \"3\",\n        }],\n [{\n            'v': 107,\n            'f': \"107\",\n        },\n\"Christchurch Hospital\",\n\"grid.414299.3\",\n\"Christchurch\",\n{\n            'v': 2192362.0,\n            'f': \"2192362.0\",\n        },\n\"New Zealand\",\n\"NZ\",\n\"\",\n\"\",\n\"pub.1004307959\",\n\"ur.07523657762.60\",\n\"Tim J.\",\n\"Anderson\",\n{\n            'v': 8,\n            'f': \"8\",\n        },\n{\n            'v': 3,\n            'f': \"3\",\n        }],\n [{\n            'v': 128,\n            'f': \"128\",\n        },\n\"University of Waikato\",\n\"grid.49481.30\",\n\"Hamilton\",\n{\n            'v': 2190324.0,\n            'f': \"2190324.0\",\n        },\n\"New Zealand\",\n\"NZ\",\n\"\",\n\"\",\n\"pub.1003242215\",\n\"ur.01275740267.59\",\n\"Mathew G.\",\n\"Allan\",\n{\n            'v': 3,\n            'f': \"3\",\n        },\n{\n            'v': 2,\n            'f': \"2\",\n        }],\n [{\n            'v': 137,\n            'f': \"137\",\n        },\n\"University of Waikato\",\n\"grid.49481.30\",\n\"Hamilton\",\n{\n            'v': 2190324.0,\n            'f': \"2190324.0\",\n        },\n\"New Zealand\",\n\"NZ\",\n\"\",\n\"\",\n\"pub.1003242215\",\n\"ur.010451702061.39\",\n\"David P.\",\n\"Hamilton\",\n{\n            'v': 3,\n            'f': \"3\",\n        },\n{\n            'v': 2,\n            'f': \"2\",\n        }]],\n        columns: [[\"number\", \"index\"], [\"string\", \"aff_name\"], [\"string\", \"aff_id\"], [\"string\", \"aff_city\"], [\"number\", \"aff_city_id\"], [\"string\", \"aff_country\"], [\"string\", \"aff_country_code\"], [\"string\", \"aff_state\"], [\"string\", \"aff_state_code\"], [\"string\", \"pub_id\"], [\"string\", \"researcher_id\"], [\"string\", \"first_name\"], [\"string\", \"last_name\"], [\"number\", \"grids_tot\"], [\"number\", \"grids_unique\"]],\n        columnOptions: [{\"width\": \"1px\", \"className\": \"index_column\"}],\n        rowsPerPage: 25,\n        helpUrl: \"https://colab.research.google.com/notebooks/data_table.ipynb\",\n      });\n    ",
      "text/html": [
       "<div>\n",
       "<style scoped>\n",
       "    .dataframe tbody tr th:only-of-type {\n",
       "        vertical-align: middle;\n",
       "    }\n",
       "\n",
       "    .dataframe tbody tr th {\n",
       "        vertical-align: top;\n",
       "    }\n",
       "\n",
       "    .dataframe thead th {\n",
       "        text-align: right;\n",
       "    }\n",
       "</style>\n",
       "<table border=\"1\" class=\"dataframe\">\n",
       "  <thead>\n",
       "    <tr style=\"text-align: right;\">\n",
       "      <th></th>\n",
       "      <th>aff_name</th>\n",
       "      <th>aff_id</th>\n",
       "      <th>aff_city</th>\n",
       "      <th>aff_city_id</th>\n",
       "      <th>aff_country</th>\n",
       "      <th>aff_country_code</th>\n",
       "      <th>aff_state</th>\n",
       "      <th>aff_state_code</th>\n",
       "      <th>pub_id</th>\n",
       "      <th>researcher_id</th>\n",
       "      <th>first_name</th>\n",
       "      <th>last_name</th>\n",
       "      <th>grids_tot</th>\n",
       "      <th>grids_unique</th>\n",
       "    </tr>\n",
       "  </thead>\n",
       "  <tbody>\n",
       "    <tr>\n",
       "      <th>91</th>\n",
       "      <td>University of Otago</td>\n",
       "      <td>grid.29980.3a</td>\n",
       "      <td>Dunedin</td>\n",
       "      <td>2.19156e+06</td>\n",
       "      <td>New Zealand</td>\n",
       "      <td>NZ</td>\n",
       "      <td></td>\n",
       "      <td></td>\n",
       "      <td>pub.1004307959</td>\n",
       "      <td>ur.01166573331.81</td>\n",
       "      <td>Tracy R.</td>\n",
       "      <td>Melzer</td>\n",
       "      <td>8</td>\n",
       "      <td>3</td>\n",
       "    </tr>\n",
       "    <tr>\n",
       "      <th>94</th>\n",
       "      <td>University of Otago</td>\n",
       "      <td>grid.29980.3a</td>\n",
       "      <td>Dunedin</td>\n",
       "      <td>2.19156e+06</td>\n",
       "      <td>New Zealand</td>\n",
       "      <td>NZ</td>\n",
       "      <td></td>\n",
       "      <td></td>\n",
       "      <td>pub.1004307959</td>\n",
       "      <td>ur.01205755463.23</td>\n",
       "      <td>Michael R.</td>\n",
       "      <td>MacAskill</td>\n",
       "      <td>8</td>\n",
       "      <td>3</td>\n",
       "    </tr>\n",
       "    <tr>\n",
       "      <th>96</th>\n",
       "      <td>University of Otago</td>\n",
       "      <td>grid.29980.3a</td>\n",
       "      <td>Dunedin</td>\n",
       "      <td>2.19156e+06</td>\n",
       "      <td>New Zealand</td>\n",
       "      <td>NZ</td>\n",
       "      <td></td>\n",
       "      <td></td>\n",
       "      <td>pub.1004307959</td>\n",
       "      <td>ur.0660231346.35</td>\n",
       "      <td>Toni L.</td>\n",
       "      <td>Pitcher</td>\n",
       "      <td>8</td>\n",
       "      <td>3</td>\n",
       "    </tr>\n",
       "    <tr>\n",
       "      <th>98</th>\n",
       "      <td>University of Otago</td>\n",
       "      <td>grid.29980.3a</td>\n",
       "      <td>Dunedin</td>\n",
       "      <td>2.19156e+06</td>\n",
       "      <td>New Zealand</td>\n",
       "      <td>NZ</td>\n",
       "      <td></td>\n",
       "      <td></td>\n",
       "      <td>pub.1004307959</td>\n",
       "      <td>ur.0615411424.15</td>\n",
       "      <td>Leslie</td>\n",
       "      <td>Livingston</td>\n",
       "      <td>8</td>\n",
       "      <td>3</td>\n",
       "    </tr>\n",
       "    <tr>\n",
       "      <th>103</th>\n",
       "      <td>University of Otago</td>\n",
       "      <td>grid.29980.3a</td>\n",
       "      <td>Dunedin</td>\n",
       "      <td>2.19156e+06</td>\n",
       "      <td>New Zealand</td>\n",
       "      <td>NZ</td>\n",
       "      <td></td>\n",
       "      <td></td>\n",
       "      <td>pub.1004307959</td>\n",
       "      <td>ur.0777753224.45</td>\n",
       "      <td>John C.</td>\n",
       "      <td>Dalrymple-Alford</td>\n",
       "      <td>8</td>\n",
       "      <td>3</td>\n",
       "    </tr>\n",
       "    <tr>\n",
       "      <th>104</th>\n",
       "      <td>University of Canterbury</td>\n",
       "      <td>grid.21006.35</td>\n",
       "      <td>Christchurch</td>\n",
       "      <td>2.19236e+06</td>\n",
       "      <td>New Zealand</td>\n",
       "      <td>NZ</td>\n",
       "      <td></td>\n",
       "      <td></td>\n",
       "      <td>pub.1004307959</td>\n",
       "      <td>ur.0777753224.45</td>\n",
       "      <td>John C.</td>\n",
       "      <td>Dalrymple-Alford</td>\n",
       "      <td>8</td>\n",
       "      <td>3</td>\n",
       "    </tr>\n",
       "    <tr>\n",
       "      <th>106</th>\n",
       "      <td>University of Otago</td>\n",
       "      <td>grid.29980.3a</td>\n",
       "      <td>Dunedin</td>\n",
       "      <td>2.19156e+06</td>\n",
       "      <td>New Zealand</td>\n",
       "      <td>NZ</td>\n",
       "      <td></td>\n",
       "      <td></td>\n",
       "      <td>pub.1004307959</td>\n",
       "      <td>ur.07523657762.60</td>\n",
       "      <td>Tim J.</td>\n",
       "      <td>Anderson</td>\n",
       "      <td>8</td>\n",
       "      <td>3</td>\n",
       "    </tr>\n",
       "    <tr>\n",
       "      <th>107</th>\n",
       "      <td>Christchurch Hospital</td>\n",
       "      <td>grid.414299.3</td>\n",
       "      <td>Christchurch</td>\n",
       "      <td>2.19236e+06</td>\n",
       "      <td>New Zealand</td>\n",
       "      <td>NZ</td>\n",
       "      <td></td>\n",
       "      <td></td>\n",
       "      <td>pub.1004307959</td>\n",
       "      <td>ur.07523657762.60</td>\n",
       "      <td>Tim J.</td>\n",
       "      <td>Anderson</td>\n",
       "      <td>8</td>\n",
       "      <td>3</td>\n",
       "    </tr>\n",
       "    <tr>\n",
       "      <th>128</th>\n",
       "      <td>University of Waikato</td>\n",
       "      <td>grid.49481.30</td>\n",
       "      <td>Hamilton</td>\n",
       "      <td>2.19032e+06</td>\n",
       "      <td>New Zealand</td>\n",
       "      <td>NZ</td>\n",
       "      <td></td>\n",
       "      <td></td>\n",
       "      <td>pub.1003242215</td>\n",
       "      <td>ur.01275740267.59</td>\n",
       "      <td>Mathew G.</td>\n",
       "      <td>Allan</td>\n",
       "      <td>3</td>\n",
       "      <td>2</td>\n",
       "    </tr>\n",
       "    <tr>\n",
       "      <th>137</th>\n",
       "      <td>University of Waikato</td>\n",
       "      <td>grid.49481.30</td>\n",
       "      <td>Hamilton</td>\n",
       "      <td>2.19032e+06</td>\n",
       "      <td>New Zealand</td>\n",
       "      <td>NZ</td>\n",
       "      <td></td>\n",
       "      <td></td>\n",
       "      <td>pub.1003242215</td>\n",
       "      <td>ur.010451702061.39</td>\n",
       "      <td>David P.</td>\n",
       "      <td>Hamilton</td>\n",
       "      <td>3</td>\n",
       "      <td>2</td>\n",
       "    </tr>\n",
       "  </tbody>\n",
       "</table>\n",
       "</div>"
      ],
      "text/plain": [
       "                     aff_name         aff_id  ... grids_tot grids_unique\n",
       "91        University of Otago  grid.29980.3a  ...         8            3\n",
       "94        University of Otago  grid.29980.3a  ...         8            3\n",
       "96        University of Otago  grid.29980.3a  ...         8            3\n",
       "98        University of Otago  grid.29980.3a  ...         8            3\n",
       "103       University of Otago  grid.29980.3a  ...         8            3\n",
       "104  University of Canterbury  grid.21006.35  ...         8            3\n",
       "106       University of Otago  grid.29980.3a  ...         8            3\n",
       "107     Christchurch Hospital  grid.414299.3  ...         8            3\n",
       "128     University of Waikato  grid.49481.30  ...         3            2\n",
       "137     University of Waikato  grid.49481.30  ...         3            2\n",
       "\n",
       "[10 rows x 14 columns]"
      ]
     },
     "execution_count": 64,
     "metadata": {
      "tags": []
     },
     "output_type": "execute_result"
    }
   ],
   "source": [
    "country_affiliations.query(\"grids_unique > 1\").head(10)"
   ]
  },
  {
   "cell_type": "markdown",
   "metadata": {
    "colab_type": "text",
    "id": "Wqg2Voj9BIIJ"
   },
   "source": [
    "## Next steps \n",
    "\n",
    "* the list of publications with `grids_unique > 1` can be used to do more analyses on affiliation names or cities \n",
    "* the same list can be used to identify funders eg `search publications where id in [.....] return funders`"
   ]
  }
 ],
 "metadata": {
  "colab": {
   "collapsed_sections": [],
   "name": "domestic_collaboration_enhanced.ipynb",
   "provenance": []
  },
  "kernelspec": {
   "display_name": "dimcli_env",
   "language": "python",
   "name": "dimcli_env"
  },
  "language_info": {
   "codemirror_mode": {
    "name": "ipython",
    "version": 3
   },
   "file_extension": ".py",
   "mimetype": "text/x-python",
   "name": "python",
   "nbconvert_exporter": "python",
   "pygments_lexer": "ipython3",
   "version": "3.7.4"
  }
 },
 "nbformat": 4,
 "nbformat_minor": 0
}
