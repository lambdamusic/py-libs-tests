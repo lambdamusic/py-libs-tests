{
 "cells": [
  {
   "cell_type": "markdown",
   "metadata": {
    "colab_type": "text",
    "id": "ktxvaUj_lD2B"
   },
   "source": [
    "# Coronavirus clinical trials\n",
    "\n",
    "This notebook shows how to generate a **Coronavirus** query for clinical trials similar to the one publicly accessible at https://covid-19.dimensions.ai.  \n",
    "\n",
    "\n",
    "The search filter is \n",
    "\n",
    "```\n",
    "'\"2019-nCoV\" OR \"COVID-19\" OR \"SARS-CoV-2\" OR ((\"coronavirus\"  OR \"corona virus\") AND (Wuhan OR China))'\n",
    "```\n",
    "\n",
    "So the full query is \n",
    "\n",
    "```\n",
    "search clinical_trials \n",
    "        in full_data for \"\\\"2019-nCoV\\\" OR \\\"COVID-19\\\" OR \\\"SARS-CoV-2\\\" OR ((\\\"coronavirus\\\"  OR \\\"corona virus\\\") AND (Wuhan OR China))\" \n",
    "        where active_years=2020 \n",
    "return clinical_trials limit 1000\n",
    "```\n",
    "\n",
    "\n",
    "\n",
    "> NOTE: the webapp has a facet *start year* which is not available in the API. So we are using **active years**\n",
    "\n",
    "Once we have the query results, we also add an extra column with the full Dimensions URL for the object. \n"
   ]
  },
  {
   "cell_type": "markdown",
   "metadata": {
    "colab_type": "text",
    "id": "PyfHy1TDltTO"
   },
   "source": [
    "## Prerequisites"
   ]
  },
  {
   "cell_type": "code",
   "execution_count": 1,
   "metadata": {
    "colab": {
     "base_uri": "https://localhost:8080/",
     "height": 51
    },
    "colab_type": "code",
    "executionInfo": {
     "elapsed": 4511,
     "status": "ok",
     "timestamp": 1582907132610,
     "user": {
      "displayName": "Michele Pasin",
      "photoUrl": "https://lh3.googleusercontent.com/a-/AAuE7mBu8LVjIGgontF2Wax51BoL5KFx8esezX3bUmaa0g=s64",
      "userId": "10309320684375994511"
     },
     "user_tz": 0
    },
    "id": "6zmVIqS9lbDJ",
    "outputId": "ab37d32f-957e-46c3-efc3-73feb062c8a4"
   },
   "outputs": [
    {
     "name": "stdout",
     "output_type": "stream",
     "text": [
      "\u001b[?25l\r",
      "\u001b[K     |█▍                              | 10kB 26.3MB/s eta 0:00:01\r",
      "\u001b[K     |██▉                             | 20kB 1.8MB/s eta 0:00:01\r",
      "\u001b[K     |████▎                           | 30kB 2.1MB/s eta 0:00:01\r",
      "\u001b[K     |█████▊                          | 40kB 1.7MB/s eta 0:00:01\r",
      "\u001b[K     |███████▏                        | 51kB 1.9MB/s eta 0:00:01\r",
      "\u001b[K     |████████▋                       | 61kB 2.2MB/s eta 0:00:01\r",
      "\u001b[K     |██████████                      | 71kB 2.4MB/s eta 0:00:01\r",
      "\u001b[K     |███████████▌                    | 81kB 2.6MB/s eta 0:00:01\r",
      "\u001b[K     |█████████████                   | 92kB 2.9MB/s eta 0:00:01\r",
      "\u001b[K     |██████████████▎                 | 102kB 2.8MB/s eta 0:00:01\r",
      "\u001b[K     |███████████████▊                | 112kB 2.8MB/s eta 0:00:01\r",
      "\u001b[K     |█████████████████▏              | 122kB 2.8MB/s eta 0:00:01\r",
      "\u001b[K     |██████████████████▋             | 133kB 2.8MB/s eta 0:00:01\r",
      "\u001b[K     |████████████████████            | 143kB 2.8MB/s eta 0:00:01\r",
      "\u001b[K     |█████████████████████▌          | 153kB 2.8MB/s eta 0:00:01\r",
      "\u001b[K     |███████████████████████         | 163kB 2.8MB/s eta 0:00:01\r",
      "\u001b[K     |████████████████████████▍       | 174kB 2.8MB/s eta 0:00:01\r",
      "\u001b[K     |█████████████████████████▉      | 184kB 2.8MB/s eta 0:00:01\r",
      "\u001b[K     |███████████████████████████▏    | 194kB 2.8MB/s eta 0:00:01\r",
      "\u001b[K     |████████████████████████████▋   | 204kB 2.8MB/s eta 0:00:01\r",
      "\u001b[K     |██████████████████████████████  | 215kB 2.8MB/s eta 0:00:01\r",
      "\u001b[K     |███████████████████████████████▌| 225kB 2.8MB/s eta 0:00:01\r",
      "\u001b[K     |████████████████████████████████| 235kB 2.8MB/s \n",
      "\u001b[?25hDimCli v0.6.4.2 - Succesfully connected to <https://app.dimensions.ai> (method: manual login)\n"
     ]
    }
   ],
   "source": [
    "# @markdown # Get the API library and login \n",
    "# @markdown Click the 'play' button on the left (or shift+enter) after entering your API credentials\n",
    "\n",
    "username = \"\" #@param {type: \"string\"}\n",
    "password = \"\" #@param {type: \"string\"}\n",
    "endpoint = \"https://app.dimensions.ai\" #@param {type: \"string\"}\n",
    "\n",
    "!pip install dimcli -U --quiet\n",
    "\n",
    "from datetime import date\n",
    "\n",
    "import dimcli\n",
    "from dimcli.shortcuts import *\n",
    "dimcli.login(username, password, endpoint)\n",
    "dsl = dimcli.Dsl()"
   ]
  },
  {
   "cell_type": "markdown",
   "metadata": {
    "colab_type": "text",
    "id": "2e1948REl02s"
   },
   "source": [
    "## Query and download the data \n"
   ]
  },
  {
   "cell_type": "code",
   "execution_count": 25,
   "metadata": {
    "colab": {
     "base_uri": "https://localhost:8080/",
     "height": 34
    },
    "colab_type": "code",
    "executionInfo": {
     "elapsed": 695,
     "status": "ok",
     "timestamp": 1582908361789,
     "user": {
      "displayName": "Michele Pasin",
      "photoUrl": "https://lh3.googleusercontent.com/a-/AAuE7mBu8LVjIGgontF2Wax51BoL5KFx8esezX3bUmaa0g=s64",
      "userId": "10309320684375994511"
     },
     "user_tz": 0
    },
    "id": "TI_EEYWkmAwn",
    "outputId": "e68c621e-6935-4aef-bb31-a90801cf1cd2"
   },
   "outputs": [
    {
     "name": "stdout",
     "output_type": "stream",
     "text": [
      "Returned Clinical_trials: 61 (total = 61)\n"
     ]
    }
   ],
   "source": [
    "q = '\"2019-nCoV\" OR \"COVID-19\" OR \"SARS-CoV-2\" OR ((\"coronavirus\"  OR \"corona virus\") AND (Wuhan OR China))'\n",
    "\n",
    "data = dsl.query(f\"\"\"search clinical_trials \n",
    "        in full_data for \"{dsl_escape(q)}\" \n",
    "        where active_years=2020 return clinical_trials limit 1000\"\"\").as_dataframe()\n",
    "\n",
    "data['dimensions_url'] = data['id'].apply(lambda x: dimensions_url(x, \"clinical_trials\"))   \n",
    "\n",
    "today = date.today().strftime(\"%d-%m-%Y\")\n",
    "title = \"clinical_trials_about_coronavirus-\" + today\n",
    "data.to_csv(title + \".csv\")"
   ]
  },
  {
   "cell_type": "markdown",
   "metadata": {
    "colab_type": "text",
    "id": "HsqDSxVbtIOT"
   },
   "source": [
    "### Save the data to a new Google Sheet\n",
    "\n",
    "This involves an authorization step from Google. The new spreadsheet URL will appear at the bottom. "
   ]
  },
  {
   "cell_type": "code",
   "execution_count": 31,
   "metadata": {
    "colab": {
     "base_uri": "https://localhost:8080/",
     "height": 34
    },
    "colab_type": "code",
    "executionInfo": {
     "elapsed": 4015,
     "status": "ok",
     "timestamp": 1582908718022,
     "user": {
      "displayName": "Michele Pasin",
      "photoUrl": "https://lh3.googleusercontent.com/a-/AAuE7mBu8LVjIGgontF2Wax51BoL5KFx8esezX3bUmaa0g=s64",
      "userId": "10309320684375994511"
     },
     "user_tz": 0
    },
    "id": "6SXkyWkhqtSE",
    "outputId": "880026e9-451b-4385-9f8b-d0aa28be7040"
   },
   "outputs": [
    {
     "name": "stdout",
     "output_type": "stream",
     "text": [
      "https://docs.google.com/spreadsheets/d/1T0PpOyFZRNzAfbQSS3KrGZm_f4ghklHHzNrjDuz-w8w\n"
     ]
    }
   ],
   "source": [
    "from google.colab import auth\n",
    "auth.authenticate_user()\n",
    "\n",
    "import gspread\n",
    "from gspread_dataframe import get_as_dataframe, set_with_dataframe\n",
    "import pandas as pd\n",
    "from oauth2client.client import GoogleCredentials\n",
    "\n",
    "gc = gspread.authorize(GoogleCredentials.get_application_default())\n",
    "\n",
    "sh = gc.create(title)\n",
    "worksheet = gc.open(title).sheet1\n",
    "set_with_dataframe(worksheet, data)\n",
    "spreadsheet_url = \"https://docs.google.com/spreadsheets/d/%s\" % sh.id\n",
    "print(spreadsheet_url)"
   ]
  }
 ],
 "metadata": {
  "colab": {
   "authorship_tag": "ABX9TyPMmVHfVZz0n7k2EfXu3xLA",
   "collapsed_sections": [],
   "name": "Coronavirus - clinical trials.ipynb",
   "provenance": []
  },
  "kernelspec": {
   "display_name": "Python 3",
   "name": "python3"
  }
 },
 "nbformat": 4,
 "nbformat_minor": 0
}
