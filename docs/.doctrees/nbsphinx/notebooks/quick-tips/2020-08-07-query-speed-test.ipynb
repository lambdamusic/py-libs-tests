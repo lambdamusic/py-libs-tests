{
 "cells": [
  {
   "cell_type": "markdown",
   "metadata": {
    "Collapsed": "false",
    "colab_type": "text",
    "id": "Er_yJldcizDG"
   },
   "source": [
    "# 2020-08-07 Queries speed test\n"
   ]
  },
  {
   "cell_type": "code",
   "execution_count": null,
   "metadata": {
    "Collapsed": "false",
    "colab": {
     "base_uri": "https://localhost:8080/",
     "height": 136
    },
    "colab_type": "code",
    "executionInfo": {
     "elapsed": 17473,
     "status": "ok",
     "timestamp": 1591278599343,
     "user": {
      "displayName": "Michele Pasin",
      "photoUrl": "https://lh3.googleusercontent.com/a-/AOh14GiYfmLTPbeMuYDDrETLbTVXTXnfVr9f7eBtkmR73A=s64",
      "userId": "10309320684375994511"
     },
     "user_tz": -60
    },
    "id": "dAEE-E-1izDH",
    "outputId": "170dfbd0-b94e-492d-8f61-d3e6fc6074f7"
   },
   "outputs": [
    {
     "name": "stdout",
     "output_type": "stream",
     "text": [
      "\u001b[2mDimcli - Dimensions API Client (v0.7.2)\u001b[0m\n",
      "\u001b[2mConnected to: https://app.dimensions.ai - DSL v1.26\u001b[0m\n",
      "\u001b[2mMethod: dsl.ini file\u001b[0m\n"
     ]
    }
   ],
   "source": [
    "import dimcli\n",
    "import time\n",
    "username = \"\" #@param {type: \"string\"}\n",
    "password = \"\" #@param {type: \"string\"}\n",
    "endpoint = \"https://app.dimensions.ai\" #@param {type: \"string\"}\n",
    "dimcli.login()    \n",
    "dsl = dimcli.Dsl(username, password, endpoint)"
   ]
  },
  {
   "cell_type": "code",
   "execution_count": null,
   "metadata": {
    "Collapsed": "false",
    "colab": {},
    "colab_type": "code",
    "id": "o6pBmu20gvQd",
    "outputId": "2aca3422-35ac-418b-9abb-32975ce3309f"
   },
   "outputs": [
    {
     "name": "stdout",
     "output_type": "stream",
     "text": [
      "Returned Publications: 1 (total = 1828342)\n",
      "posttraumatic stress disorder  =>  1.6303720474243164\n",
      "PTSD-depression comorbidity  =>  0.829031229019165\n",
      "health-related quality  =>  1.4187331199645996\n",
      "treatment-seeking veterans  =>  1.3399651050567627\n",
      "PTSD symptoms  =>  1.0326828956604004\n",
      "mental HRQOL  =>  0.8217391967773438\n",
      "depression symptoms  =>  0.9063947200775146\n",
      "greater depression symptom severity  =>  1.2248799800872803\n",
      "probable posttraumatic stress disorder  =>  0.9366471767425537\n",
      "Canadian Armed Forces Veterans  =>  0.9296970367431641\n",
      "alcohol/substance abuse  =>  0.7913768291473389\n",
      "physical HRQOL domain  =>  1.2859787940979004\n",
      "impact of PTSD  =>  1.0720057487487793\n",
      "depression symptom severity  =>  0.8227748870849609\n",
      "lower depression symptoms  =>  0.9232571125030518\n",
      "physical HRQOL  =>  1.3240628242492676\n",
      "role impairment  =>  1.3371648788452148\n",
      "comorbid depression  =>  0.8935270309448242\n",
      "HRQOL domains  =>  0.6971697807312012\n",
      "armed forces veterans  =>  1.389357089996338\n",
      "specialized clinics  =>  1.3417787551879883\n",
      "major depression  =>  0.898327112197876\n",
      "HRQOL  =>  0.8282768726348877\n",
      "clinical data  =>  1.4260540008544922\n",
      "depressive symptoms  =>  1.329230785369873\n",
      "adjusted model  =>  0.9096450805664062\n",
      "symptom severity  =>  2.2717740535736084\n",
      "stress disorder  =>  1.426858901977539\n",
      "only depression  =>  0.9473421573638916\n",
      "symptoms  =>  1.1025230884552002\n"
     ]
    }
   ],
   "source": [
    "# get some random keywords for our searches\n",
    "random_keywords = dsl.query(\"\"\"\n",
    "    search publications for \"ibm\" \n",
    "    return publications[concepts] limit 1\"\"\").publications[0]['concepts']\n",
    "\n",
    "for t in random_keywords[:30]:\n",
    "    start = time.time()\n",
    "    q = f\"\"\"search publications in title_abstract_only for \"{t}\" \n",
    "        return publications \n",
    "        return mesh_terms \n",
    "        return category_hrcs_rac \n",
    "        return journal \n",
    "        return year limit 100 \n",
    "        return researchers[all]\"\"\"\n",
    "    res = dsl.query(q, verbose=False)\n",
    "    end = time.time()\n",
    "    print(t, \" => \", end - start)"
   ]
  }
 ],
 "metadata": {
  "colab": {
   "collapsed_sections": [],
   "name": "2020-08-07-query-speed-test.ipynb",
   "provenance": []
  },
  "kernelspec": {
   "display_name": "Python 3",
   "language": "python",
   "name": "python3"
  },
  "language_info": {
   "codemirror_mode": {
    "name": "ipython",
    "version": 3
   },
   "file_extension": ".py",
   "mimetype": "text/x-python",
   "name": "python",
   "nbconvert_exporter": "python",
   "pygments_lexer": "ipython3",
   "version": "3.8.5"
  }
 },
 "nbformat": 4,
 "nbformat_minor": 0
}
