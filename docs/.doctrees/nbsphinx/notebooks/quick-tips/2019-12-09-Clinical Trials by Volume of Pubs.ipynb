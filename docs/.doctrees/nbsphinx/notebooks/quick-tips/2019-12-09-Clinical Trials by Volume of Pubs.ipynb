{
 "cells": [
  {
   "cell_type": "markdown",
   "metadata": {
    "colab_type": "text",
    "id": "70_AcCo6JSwn"
   },
   "source": [
    "# Clinical Trials by volume of publications\n",
    "\n",
    "This notebook shows how to get a list of clinical trials records and then sort them by the total number of publications they cite"
   ]
  },
  {
   "cell_type": "code",
   "execution_count": 2,
   "metadata": {
    "colab": {
     "base_uri": "https://localhost:8080/",
     "height": 34
    },
    "colab_type": "code",
    "executionInfo": {
     "elapsed": 5422,
     "status": "ok",
     "timestamp": 1575890644681,
     "user": {
      "displayName": "Michele Pasin",
      "photoUrl": "https://lh3.googleusercontent.com/a-/AAuE7mBu8LVjIGgontF2Wax51BoL5KFx8esezX3bUmaa0g=s64",
      "userId": "10309320684375994511"
     },
     "user_tz": 0
    },
    "id": "OKFJQfmazuGT",
    "outputId": "ef0e4702-3baf-4664-afa2-8d5d2a863743"
   },
   "outputs": [
    {
     "name": "stdout",
     "output_type": "stream",
     "text": [
      "DimCli v0.6.1.2 - Succesfully connected to <https://app.dimensions.ai> (method: manual login)\n"
     ]
    }
   ],
   "source": [
    "# @markdown # Get the API library and login \n",
    "# @markdown Click the 'play' button on the left (or shift+enter) after entering your API credentials\n",
    "\n",
    "username = \"dsl.demo.1@dimensions.ai\" #@param {type: \"string\"}\n",
    "password = \"1.Demo.Dsl\" #@param {type: \"string\"}\n",
    "endpoint = \"https://app.dimensions.ai\" #@param {type: \"string\"}\n",
    "\n",
    "\n",
    "!pip install dimcli plotly_express -U --quiet \n",
    "import dimcli\n",
    "from dimcli.shortcuts import *\n",
    "dimcli.login(username, password, endpoint)\n",
    "dsl = dimcli.Dsl()\n",
    "\n",
    "#\n",
    "# load common libraries\n",
    "import time\n",
    "import sys\n",
    "import json\n",
    "import pandas as pd\n",
    "from pandas.io.json import json_normalize\n",
    "from tqdm import tqdm_notebook as tqdm\n",
    "\n",
    "#\n",
    "# charts libs\n",
    "import plotly_express as px\n",
    "if not 'google.colab' in sys.modules:\n",
    "  # make js dependecies local / needed by html exports \n",
    "  from plotly.offline import init_notebook_mode\n",
    "  init_notebook_mode(connected=True)\n",
    "\n",
    "\n"
   ]
  },
  {
   "cell_type": "code",
   "execution_count": 0,
   "metadata": {
    "colab": {},
    "colab_type": "code",
    "id": "kCyRd6xE_GQJ"
   },
   "outputs": [],
   "source": [
    "q = \"\"\"search clinical_trials where category_rcdc.name=\"Multiple Sclerosis\" \n",
    "        and active_years=[2017, 2018, 2019] \n",
    "        return clinical_trials[basics+publication_ids]\"\"\""
   ]
  },
  {
   "cell_type": "code",
   "execution_count": 4,
   "metadata": {
    "colab": {
     "base_uri": "https://localhost:8080/",
     "height": 324
    },
    "colab_type": "code",
    "executionInfo": {
     "elapsed": 11645,
     "status": "ok",
     "timestamp": 1575890650915,
     "user": {
      "displayName": "Michele Pasin",
      "photoUrl": "https://lh3.googleusercontent.com/a-/AAuE7mBu8LVjIGgontF2Wax51BoL5KFx8esezX3bUmaa0g=s64",
      "userId": "10309320684375994511"
     },
     "user_tz": 0
    },
    "id": "pNV3BZ5G_cD1",
    "outputId": "562b8f2b-78dd-4564-935f-264f1ee44232"
   },
   "outputs": [
    {
     "name": "stdout",
     "output_type": "stream",
     "text": [
      "1000 / 2132\n",
      "2000 / 2132\n",
      "2132 / 2132\n"
     ]
    },
    {
     "data": {
      "application/vnd.google.colaboratory.module+javascript": "\n      import \"https://ssl.gstatic.com/colaboratory/data_table/9e554b27bdd509f3/data_table.js\";\n\n      window.createDataTable({\n        data: [[{\n            'v': 0,\n            'f': \"0\",\n        },\n[2005, 2006, 2007, 2008, 2009],\n[\"pub.1016078006\"],\n\"NCT00257855\",\n\"A Randomised Controlled Trial of Neuroprotection With Lamotrigine in Secondary Progressive Multiple Sclerosis: Single Centre, Phase 2 Trial\",\n[[\"Raju Kapoor\", \"MD PhD\", \"Study Director\", \"National Hospital for Neurology and Neurosurgery\", \"National Hospital for Neurology and Neurosurgery\", \"grid.436283.8\"]]],\n [{\n            'v': 1,\n            'f': \"1\",\n        },\n[2003, 2004, 2005, 2006],\nnull,\n\"NCT00260741\",\n\"Cannabis for Spasticity in Multiple Sclerosis: A Placebo-Controlled Study\",\n[[\"Mark Agius\", \"MD\", \"Principal Investigator\", \"University of California, Davis\", \"University of California, Davis\", \"grid.27860.3b\"]]],\n [{\n            'v': 2,\n            'f': \"2\",\n        },\n[2006, 2007, 2008, 2009, 2010, 2011],\n[\"pub.1014996254\"],\n\"NCT00261326\",\n\"Simvastatin Treatment of Patients With Acut Optic Neuritis. A Doubleblind, Randomized and Placebo Controlled Fase III Trial\",\n[[\"Jette L Frederiksen\", \"DrMed\", \"Study Director\", \"\", \"\", \"\"]]],\n [{\n            'v': 3,\n            'f': \"3\",\n        },\n[2000, 2001, 2002, 2003, 2004, 2005, 2006, 2007, 2008],\nnull,\n\"NCT00262314\",\n\"Prospective, Open-label Tolerability and Safety Monitoring Study of Novantrone in a Selected Cohort of Multiple Sclerosis Patients\",\n[[\"Randy Bennett\", \"\", \"Study Director\", \"EMD Serono\", \"EMD Serono (United States)\", \"grid.467308.e\"]]],\n [{\n            'v': 4,\n            'f': \"4\",\n        },\nnull,\nnull,\n\"NCT00267319\",\n\"Fatigue Outcomes of Copaxone Users in Relapsing-remitting Multiple Sclerosis\",\n[[\"Zuzana Priborska\", \"\", \"Study Director\", \"Sanofi\", \"Sanofi (United States)\", \"grid.417555.7\"]]]],\n        columns: [[\"number\", \"index\"], [\"string\", \"active_years\"], [\"string\", \"publication_ids\"], [\"string\", \"id\"], [\"string\", \"title\"], [\"string\", \"investigator_details\"]],\n        columnOptions: [{\"width\": \"1px\", \"className\": \"index_column\"}],\n        rowsPerPage: 25,\n        helpUrl: \"https://colab.research.google.com/notebooks/data_table.ipynb\",\n      });\n    ",
      "text/html": [
       "<div>\n",
       "<style scoped>\n",
       "    .dataframe tbody tr th:only-of-type {\n",
       "        vertical-align: middle;\n",
       "    }\n",
       "\n",
       "    .dataframe tbody tr th {\n",
       "        vertical-align: top;\n",
       "    }\n",
       "\n",
       "    .dataframe thead th {\n",
       "        text-align: right;\n",
       "    }\n",
       "</style>\n",
       "<table border=\"1\" class=\"dataframe\">\n",
       "  <thead>\n",
       "    <tr style=\"text-align: right;\">\n",
       "      <th></th>\n",
       "      <th>active_years</th>\n",
       "      <th>publication_ids</th>\n",
       "      <th>id</th>\n",
       "      <th>title</th>\n",
       "      <th>investigator_details</th>\n",
       "    </tr>\n",
       "  </thead>\n",
       "  <tbody>\n",
       "    <tr>\n",
       "      <th>0</th>\n",
       "      <td>[2005, 2006, 2007, 2008, 2009]</td>\n",
       "      <td>[pub.1016078006]</td>\n",
       "      <td>NCT00257855</td>\n",
       "      <td>A Randomised Controlled Trial of Neuroprotecti...</td>\n",
       "      <td>[[Raju Kapoor, MD PhD, Study Director, Nationa...</td>\n",
       "    </tr>\n",
       "    <tr>\n",
       "      <th>1</th>\n",
       "      <td>[2003, 2004, 2005, 2006]</td>\n",
       "      <td>None</td>\n",
       "      <td>NCT00260741</td>\n",
       "      <td>Cannabis for Spasticity in Multiple Sclerosis:...</td>\n",
       "      <td>[[Mark Agius, MD, Principal Investigator, Univ...</td>\n",
       "    </tr>\n",
       "    <tr>\n",
       "      <th>2</th>\n",
       "      <td>[2006, 2007, 2008, 2009, 2010, 2011]</td>\n",
       "      <td>[pub.1014996254]</td>\n",
       "      <td>NCT00261326</td>\n",
       "      <td>Simvastatin Treatment of Patients With Acut Op...</td>\n",
       "      <td>[[Jette L Frederiksen, DrMed, Study Director, ...</td>\n",
       "    </tr>\n",
       "    <tr>\n",
       "      <th>3</th>\n",
       "      <td>[2000, 2001, 2002, 2003, 2004, 2005, 2006, 200...</td>\n",
       "      <td>None</td>\n",
       "      <td>NCT00262314</td>\n",
       "      <td>Prospective, Open-label Tolerability and Safet...</td>\n",
       "      <td>[[Randy Bennett, , Study Director, EMD Serono,...</td>\n",
       "    </tr>\n",
       "    <tr>\n",
       "      <th>4</th>\n",
       "      <td>None</td>\n",
       "      <td>None</td>\n",
       "      <td>NCT00267319</td>\n",
       "      <td>Fatigue Outcomes of Copaxone Users in Relapsin...</td>\n",
       "      <td>[[Zuzana Priborska, , Study Director, Sanofi, ...</td>\n",
       "    </tr>\n",
       "  </tbody>\n",
       "</table>\n",
       "</div>"
      ],
      "text/plain": [
       "                                        active_years  ...                               investigator_details\n",
       "0                     [2005, 2006, 2007, 2008, 2009]  ...  [[Raju Kapoor, MD PhD, Study Director, Nationa...\n",
       "1                           [2003, 2004, 2005, 2006]  ...  [[Mark Agius, MD, Principal Investigator, Univ...\n",
       "2               [2006, 2007, 2008, 2009, 2010, 2011]  ...  [[Jette L Frederiksen, DrMed, Study Director, ...\n",
       "3  [2000, 2001, 2002, 2003, 2004, 2005, 2006, 200...  ...  [[Randy Bennett, , Study Director, EMD Serono,...\n",
       "4                                               None  ...  [[Zuzana Priborska, , Study Director, Sanofi, ...\n",
       "\n",
       "[5 rows x 5 columns]"
      ]
     },
     "execution_count": 4,
     "metadata": {
      "tags": []
     },
     "output_type": "execute_result"
    }
   ],
   "source": [
    "df = dsl.query_iterative(q).as_dataframe()\n",
    "df.head()"
   ]
  },
  {
   "cell_type": "code",
   "execution_count": 0,
   "metadata": {
    "colab": {},
    "colab_type": "code",
    "id": "SH_uUZ5tAqjh"
   },
   "outputs": [],
   "source": [
    "# replace empty values with empty lists so that they can be counted\n",
    "for row in df.loc[df.publication_ids.isnull(), 'publication_ids'].index:\n",
    "    df.at[row, 'publication_ids'] = []\n",
    "# create new column\n",
    "df['pubs_tot'] = df['publication_ids'].apply(lambda x: len(x))"
   ]
  },
  {
   "cell_type": "code",
   "execution_count": 0,
   "metadata": {
    "colab": {},
    "colab_type": "code",
    "id": "ZeRHgnYjAJIJ"
   },
   "outputs": [],
   "source": [
    "# sort \n",
    "df.sort_values(\"pubs_tot\", ascending=False, inplace=True)\n",
    "# df.head(10)"
   ]
  },
  {
   "cell_type": "code",
   "execution_count": 0,
   "metadata": {
    "colab": {},
    "colab_type": "code",
    "id": "1nzBFhgeAuKI"
   },
   "outputs": [],
   "source": [
    "# df.to_csv(\"clinical_trials.csv\")"
   ]
  },
  {
   "cell_type": "code",
   "execution_count": 10,
   "metadata": {
    "colab": {
     "base_uri": "https://localhost:8080/",
     "height": 617
    },
    "colab_type": "code",
    "executionInfo": {
     "elapsed": 1530,
     "status": "ok",
     "timestamp": 1575890671407,
     "user": {
      "displayName": "Michele Pasin",
      "photoUrl": "https://lh3.googleusercontent.com/a-/AAuE7mBu8LVjIGgontF2Wax51BoL5KFx8esezX3bUmaa0g=s64",
      "userId": "10309320684375994511"
     },
     "user_tz": 0
    },
    "id": "9giBxuAqWi8c",
    "outputId": "ca11f394-d8bf-4329-c235-bee1fdcbb6aa"
   },
   "outputs": [
    {
     "data": {
      "text/html": [
       "<html>\n",
       "<head><meta charset=\"utf-8\" /></head>\n",
       "<body>\n",
       "    <div>\n",
       "            <script src=\"https://cdnjs.cloudflare.com/ajax/libs/mathjax/2.7.5/MathJax.js?config=TeX-AMS-MML_SVG\"></script><script type=\"text/javascript\">if (window.MathJax) {MathJax.Hub.Config({SVG: {font: \"STIX-Web\"}});}</script>\n",
       "                <script type=\"text/javascript\">window.PlotlyConfig = {MathJaxConfig: 'local'};</script>\n",
       "        <script src=\"https://cdn.plot.ly/plotly-latest.min.js\"></script>    \n",
       "            <div id=\"9cf922d7-1582-4d43-a814-54b9e0f70634\" class=\"plotly-graph-div\" style=\"height:600px; width:100%;\"></div>\n",
       "            <script type=\"text/javascript\">\n",
       "                \n",
       "                    window.PLOTLYENV=window.PLOTLYENV || {};\n",
       "                    \n",
       "                if (document.getElementById(\"9cf922d7-1582-4d43-a814-54b9e0f70634\")) {\n",
       "                    Plotly.newPlot(\n",
       "                        '9cf922d7-1582-4d43-a814-54b9e0f70634',\n",
       "                        [{\"alignmentgroup\": \"True\", \"hoverlabel\": {\"namelength\": 0}, \"hovertemplate\": \"id=%{x}<br>pubs_tot=%{y}\", \"legendgroup\": \"\", \"marker\": {\"color\": \"#636efa\"}, \"name\": \"\", \"offsetgroup\": \"\", \"orientation\": \"v\", \"showlegend\": false, \"textposition\": \"auto\", \"type\": \"bar\", \"x\": [\"NCT04073940\", \"NCT03782246\", \"NCT02104661\", \"NCT03004079\", \"NCT02367222\", \"NCT01018537\", \"NCT03949296\", \"NCT04178005\", \"NCT03896217\", \"NCT04113135\", \"NCT02364505\", \"NCT01337986\", \"NCT02849782\", \"NCT03736902\", \"NCT03135249\", \"NCT01149525\", \"NCT02489877\", \"NCT02544373\", \"NCT02290444\", \"NCT00000147\", \"NCT02377323\", \"NCT03889327\", \"NCT00000146\", \"NCT02988401\", \"NCT03113162\", \"NCT02493049\", \"NCT02939859\", \"NCT02833714\", \"NCT03586986\", \"NCT02280876\", \"NCT03826095\", \"NCT03193086\", \"NCT02525367\", \"NCT03508284\", \"NCT03999788\", \"NCT03976128\", \"NCT04101058\", \"NCT03464448\", \"NCT01973517\", \"NCT03345537\", \"NCT03975413\", \"NCT02688231\", \"NCT03562975\", \"NCT03735524\", \"NCT00185211\", \"NCT03451955\", \"NCT00630383\", \"NCT02870023\", \"NCT01563900\", \"NCT03505294\", \"NCT02914964\", \"NCT04153773\", \"NCT02335450\", \"NCT01836055\", \"NCT03512886\", \"NCT01679041\", \"NCT01555684\", \"NCT01271699\", \"NCT03315923\", \"NCT03000127\", \"NCT00288626\", \"DRKS00011257\", \"NCT02903537\", \"NCT03594487\", \"NCT03621761\", \"NCT02308137\", \"NCT02419638\", \"NCT01144052\", \"NCT02391298\", \"NCT00420212\", \"NCT04182269\", \"NCT02506751\", \"NCT00289978\", \"NCT00151801\", \"NCT02710214\", \"NCT02291107\", \"NCT01627938\", \"NCT04048577\", \"NCT00451451\", \"NCT03284801\", \"NCT00050778\", \"NCT01970410\", \"NCT04157283\", \"NCT02273635\", \"NCT03345940\", \"NCT00451204\", \"NCT00364936\", \"NCT03150966\", \"NCT00134563\", \"NCT03825055\", \"NCT04122989\", \"NCT00270816\", \"NCT01466114\", \"NCT03847545\", \"NCT04183751\", \"NCT03591809\", \"NCT02644044\", \"NCT00904826\", \"NCT03653585\", \"NCT00202410\"], \"xaxis\": \"x\", \"y\": [92, 72, 48, 46, 43, 41, 39, 38, 37, 34, 34, 33, 30, 29, 27, 27, 26, 25, 24, 23, 23, 23, 22, 22, 21, 20, 20, 20, 19, 18, 17, 17, 17, 16, 16, 16, 16, 16, 15, 15, 15, 15, 14, 14, 14, 13, 13, 13, 13, 13, 13, 13, 12, 12, 12, 12, 12, 11, 11, 11, 11, 11, 10, 10, 10, 10, 10, 10, 10, 10, 10, 9, 9, 9, 9, 9, 9, 9, 9, 9, 9, 9, 9, 9, 9, 9, 8, 8, 8, 8, 8, 8, 8, 8, 8, 8, 8, 8, 8, 7], \"yaxis\": \"y\"}],\n",
       "                        {\"barmode\": \"relative\", \"height\": 600, \"legend\": {\"tracegroupgap\": 0}, \"margin\": {\"t\": 60}, \"template\": {\"data\": {\"bar\": [{\"error_x\": {\"color\": \"#2a3f5f\"}, \"error_y\": {\"color\": \"#2a3f5f\"}, \"marker\": {\"line\": {\"color\": \"#E5ECF6\", \"width\": 0.5}}, \"type\": \"bar\"}], \"barpolar\": [{\"marker\": {\"line\": {\"color\": \"#E5ECF6\", \"width\": 0.5}}, \"type\": \"barpolar\"}], \"carpet\": [{\"aaxis\": {\"endlinecolor\": \"#2a3f5f\", \"gridcolor\": \"white\", \"linecolor\": \"white\", \"minorgridcolor\": \"white\", \"startlinecolor\": \"#2a3f5f\"}, \"baxis\": {\"endlinecolor\": \"#2a3f5f\", \"gridcolor\": \"white\", \"linecolor\": \"white\", \"minorgridcolor\": \"white\", \"startlinecolor\": \"#2a3f5f\"}, \"type\": \"carpet\"}], \"choropleth\": [{\"colorbar\": {\"outlinewidth\": 0, \"ticks\": \"\"}, \"type\": \"choropleth\"}], \"contour\": [{\"colorbar\": {\"outlinewidth\": 0, \"ticks\": \"\"}, \"colorscale\": [[0.0, \"#0d0887\"], [0.1111111111111111, \"#46039f\"], [0.2222222222222222, \"#7201a8\"], [0.3333333333333333, \"#9c179e\"], [0.4444444444444444, \"#bd3786\"], [0.5555555555555556, \"#d8576b\"], [0.6666666666666666, \"#ed7953\"], [0.7777777777777778, \"#fb9f3a\"], [0.8888888888888888, \"#fdca26\"], [1.0, \"#f0f921\"]], \"type\": \"contour\"}], \"contourcarpet\": [{\"colorbar\": {\"outlinewidth\": 0, \"ticks\": \"\"}, \"type\": \"contourcarpet\"}], \"heatmap\": [{\"colorbar\": {\"outlinewidth\": 0, \"ticks\": \"\"}, \"colorscale\": [[0.0, \"#0d0887\"], [0.1111111111111111, \"#46039f\"], [0.2222222222222222, \"#7201a8\"], [0.3333333333333333, \"#9c179e\"], [0.4444444444444444, \"#bd3786\"], [0.5555555555555556, \"#d8576b\"], [0.6666666666666666, \"#ed7953\"], [0.7777777777777778, \"#fb9f3a\"], [0.8888888888888888, \"#fdca26\"], [1.0, \"#f0f921\"]], \"type\": \"heatmap\"}], \"heatmapgl\": [{\"colorbar\": {\"outlinewidth\": 0, \"ticks\": \"\"}, \"colorscale\": [[0.0, \"#0d0887\"], [0.1111111111111111, \"#46039f\"], [0.2222222222222222, \"#7201a8\"], [0.3333333333333333, \"#9c179e\"], [0.4444444444444444, \"#bd3786\"], [0.5555555555555556, \"#d8576b\"], [0.6666666666666666, \"#ed7953\"], [0.7777777777777778, \"#fb9f3a\"], [0.8888888888888888, \"#fdca26\"], [1.0, \"#f0f921\"]], \"type\": \"heatmapgl\"}], \"histogram\": [{\"marker\": {\"colorbar\": {\"outlinewidth\": 0, \"ticks\": \"\"}}, \"type\": \"histogram\"}], \"histogram2d\": [{\"colorbar\": {\"outlinewidth\": 0, \"ticks\": \"\"}, \"colorscale\": [[0.0, \"#0d0887\"], [0.1111111111111111, \"#46039f\"], [0.2222222222222222, \"#7201a8\"], [0.3333333333333333, \"#9c179e\"], [0.4444444444444444, \"#bd3786\"], [0.5555555555555556, \"#d8576b\"], [0.6666666666666666, \"#ed7953\"], [0.7777777777777778, \"#fb9f3a\"], [0.8888888888888888, \"#fdca26\"], [1.0, \"#f0f921\"]], \"type\": \"histogram2d\"}], \"histogram2dcontour\": [{\"colorbar\": {\"outlinewidth\": 0, \"ticks\": \"\"}, \"colorscale\": [[0.0, \"#0d0887\"], [0.1111111111111111, \"#46039f\"], [0.2222222222222222, \"#7201a8\"], [0.3333333333333333, \"#9c179e\"], [0.4444444444444444, \"#bd3786\"], [0.5555555555555556, \"#d8576b\"], [0.6666666666666666, \"#ed7953\"], [0.7777777777777778, \"#fb9f3a\"], [0.8888888888888888, \"#fdca26\"], [1.0, \"#f0f921\"]], \"type\": \"histogram2dcontour\"}], \"mesh3d\": [{\"colorbar\": {\"outlinewidth\": 0, \"ticks\": \"\"}, \"type\": \"mesh3d\"}], \"parcoords\": [{\"line\": {\"colorbar\": {\"outlinewidth\": 0, \"ticks\": \"\"}}, \"type\": \"parcoords\"}], \"scatter\": [{\"marker\": {\"colorbar\": {\"outlinewidth\": 0, \"ticks\": \"\"}}, \"type\": \"scatter\"}], \"scatter3d\": [{\"line\": {\"colorbar\": {\"outlinewidth\": 0, \"ticks\": \"\"}}, \"marker\": {\"colorbar\": {\"outlinewidth\": 0, \"ticks\": \"\"}}, \"type\": \"scatter3d\"}], \"scattercarpet\": [{\"marker\": {\"colorbar\": {\"outlinewidth\": 0, \"ticks\": \"\"}}, \"type\": \"scattercarpet\"}], \"scattergeo\": [{\"marker\": {\"colorbar\": {\"outlinewidth\": 0, \"ticks\": \"\"}}, \"type\": \"scattergeo\"}], \"scattergl\": [{\"marker\": {\"colorbar\": {\"outlinewidth\": 0, \"ticks\": \"\"}}, \"type\": \"scattergl\"}], \"scattermapbox\": [{\"marker\": {\"colorbar\": {\"outlinewidth\": 0, \"ticks\": \"\"}}, \"type\": \"scattermapbox\"}], \"scatterpolar\": [{\"marker\": {\"colorbar\": {\"outlinewidth\": 0, \"ticks\": \"\"}}, \"type\": \"scatterpolar\"}], \"scatterpolargl\": [{\"marker\": {\"colorbar\": {\"outlinewidth\": 0, \"ticks\": \"\"}}, \"type\": \"scatterpolargl\"}], \"scatterternary\": [{\"marker\": {\"colorbar\": {\"outlinewidth\": 0, \"ticks\": \"\"}}, \"type\": \"scatterternary\"}], \"surface\": [{\"colorbar\": {\"outlinewidth\": 0, \"ticks\": \"\"}, \"colorscale\": [[0.0, \"#0d0887\"], [0.1111111111111111, \"#46039f\"], [0.2222222222222222, \"#7201a8\"], [0.3333333333333333, \"#9c179e\"], [0.4444444444444444, \"#bd3786\"], [0.5555555555555556, \"#d8576b\"], [0.6666666666666666, \"#ed7953\"], [0.7777777777777778, \"#fb9f3a\"], [0.8888888888888888, \"#fdca26\"], [1.0, \"#f0f921\"]], \"type\": \"surface\"}], \"table\": [{\"cells\": {\"fill\": {\"color\": \"#EBF0F8\"}, \"line\": {\"color\": \"white\"}}, \"header\": {\"fill\": {\"color\": \"#C8D4E3\"}, \"line\": {\"color\": \"white\"}}, \"type\": \"table\"}]}, \"layout\": {\"annotationdefaults\": {\"arrowcolor\": \"#2a3f5f\", \"arrowhead\": 0, \"arrowwidth\": 1}, \"colorscale\": {\"diverging\": [[0, \"#8e0152\"], [0.1, \"#c51b7d\"], [0.2, \"#de77ae\"], [0.3, \"#f1b6da\"], [0.4, \"#fde0ef\"], [0.5, \"#f7f7f7\"], [0.6, \"#e6f5d0\"], [0.7, \"#b8e186\"], [0.8, \"#7fbc41\"], [0.9, \"#4d9221\"], [1, \"#276419\"]], \"sequential\": [[0.0, \"#0d0887\"], [0.1111111111111111, \"#46039f\"], [0.2222222222222222, \"#7201a8\"], [0.3333333333333333, \"#9c179e\"], [0.4444444444444444, \"#bd3786\"], [0.5555555555555556, \"#d8576b\"], [0.6666666666666666, \"#ed7953\"], [0.7777777777777778, \"#fb9f3a\"], [0.8888888888888888, \"#fdca26\"], [1.0, \"#f0f921\"]], \"sequentialminus\": [[0.0, \"#0d0887\"], [0.1111111111111111, \"#46039f\"], [0.2222222222222222, \"#7201a8\"], [0.3333333333333333, \"#9c179e\"], [0.4444444444444444, \"#bd3786\"], [0.5555555555555556, \"#d8576b\"], [0.6666666666666666, \"#ed7953\"], [0.7777777777777778, \"#fb9f3a\"], [0.8888888888888888, \"#fdca26\"], [1.0, \"#f0f921\"]]}, \"colorway\": [\"#636efa\", \"#EF553B\", \"#00cc96\", \"#ab63fa\", \"#FFA15A\", \"#19d3f3\", \"#FF6692\", \"#B6E880\", \"#FF97FF\", \"#FECB52\"], \"font\": {\"color\": \"#2a3f5f\"}, \"geo\": {\"bgcolor\": \"white\", \"lakecolor\": \"white\", \"landcolor\": \"#E5ECF6\", \"showlakes\": true, \"showland\": true, \"subunitcolor\": \"white\"}, \"hoverlabel\": {\"align\": \"left\"}, \"hovermode\": \"closest\", \"mapbox\": {\"style\": \"light\"}, \"paper_bgcolor\": \"white\", \"plot_bgcolor\": \"#E5ECF6\", \"polar\": {\"angularaxis\": {\"gridcolor\": \"white\", \"linecolor\": \"white\", \"ticks\": \"\"}, \"bgcolor\": \"#E5ECF6\", \"radialaxis\": {\"gridcolor\": \"white\", \"linecolor\": \"white\", \"ticks\": \"\"}}, \"scene\": {\"xaxis\": {\"backgroundcolor\": \"#E5ECF6\", \"gridcolor\": \"white\", \"gridwidth\": 2, \"linecolor\": \"white\", \"showbackground\": true, \"ticks\": \"\", \"zerolinecolor\": \"white\"}, \"yaxis\": {\"backgroundcolor\": \"#E5ECF6\", \"gridcolor\": \"white\", \"gridwidth\": 2, \"linecolor\": \"white\", \"showbackground\": true, \"ticks\": \"\", \"zerolinecolor\": \"white\"}, \"zaxis\": {\"backgroundcolor\": \"#E5ECF6\", \"gridcolor\": \"white\", \"gridwidth\": 2, \"linecolor\": \"white\", \"showbackground\": true, \"ticks\": \"\", \"zerolinecolor\": \"white\"}}, \"shapedefaults\": {\"line\": {\"color\": \"#2a3f5f\"}}, \"ternary\": {\"aaxis\": {\"gridcolor\": \"white\", \"linecolor\": \"white\", \"ticks\": \"\"}, \"baxis\": {\"gridcolor\": \"white\", \"linecolor\": \"white\", \"ticks\": \"\"}, \"bgcolor\": \"#E5ECF6\", \"caxis\": {\"gridcolor\": \"white\", \"linecolor\": \"white\", \"ticks\": \"\"}}, \"title\": {\"x\": 0.05}, \"xaxis\": {\"automargin\": true, \"gridcolor\": \"white\", \"linecolor\": \"white\", \"ticks\": \"\", \"zerolinecolor\": \"white\", \"zerolinewidth\": 2}, \"yaxis\": {\"automargin\": true, \"gridcolor\": \"white\", \"linecolor\": \"white\", \"ticks\": \"\", \"zerolinecolor\": \"white\", \"zerolinewidth\": 2}}}, \"xaxis\": {\"anchor\": \"y\", \"domain\": [0.0, 0.98], \"title\": {\"text\": \"id\"}}, \"yaxis\": {\"anchor\": \"x\", \"domain\": [0.0, 1.0], \"title\": {\"text\": \"pubs_tot\"}}},\n",
       "                        {\"responsive\": true}\n",
       "                    ).then(function(){\n",
       "                            \n",
       "var gd = document.getElementById('9cf922d7-1582-4d43-a814-54b9e0f70634');\n",
       "var x = new MutationObserver(function (mutations, observer) {{\n",
       "        var display = window.getComputedStyle(gd).display;\n",
       "        if (!display || display === 'none') {{\n",
       "            console.log([gd, 'removed!']);\n",
       "            Plotly.purge(gd);\n",
       "            observer.disconnect();\n",
       "        }}\n",
       "}});\n",
       "\n",
       "// Listen for the removal of the full notebook cells\n",
       "var notebookContainer = gd.closest('#notebook-container');\n",
       "if (notebookContainer) {{\n",
       "    x.observe(notebookContainer, {childList: true});\n",
       "}}\n",
       "\n",
       "// Listen for the clearing of the current output cell\n",
       "var outputEl = gd.closest('.output');\n",
       "if (outputEl) {{\n",
       "    x.observe(outputEl, {childList: true});\n",
       "}}\n",
       "\n",
       "                        })\n",
       "                };\n",
       "                \n",
       "            </script>\n",
       "        </div>\n",
       "</body>\n",
       "</html>"
      ]
     },
     "metadata": {
      "tags": []
     },
     "output_type": "display_data"
    }
   ],
   "source": [
    "px.bar(df[:100], x=\"id\", y=\"pubs_tot\")"
   ]
  },
  {
   "cell_type": "code",
   "execution_count": 0,
   "metadata": {
    "colab": {},
    "colab_type": "code",
    "id": "Mc8SR1TWWjMV"
   },
   "outputs": [],
   "source": []
  },
  {
   "cell_type": "code",
   "execution_count": 0,
   "metadata": {
    "colab": {},
    "colab_type": "code",
    "id": "gfT-Cg0KWjPY"
   },
   "outputs": [],
   "source": []
  },
  {
   "cell_type": "markdown",
   "metadata": {
    "colab_type": "text",
    "id": "lrhRb5ClHRmz"
   },
   "source": [
    "**TIP: downloading the file to your computer:**\n",
    "* open the sidebar on the left hand side (or Apple+B / Ctrl+B) \n",
    "* select the 'Files' tab \n",
    "* right-click on the `clinical_trials.csv` file and select 'Download'"
   ]
  }
 ],
 "metadata": {
  "colab": {
   "collapsed_sections": [],
   "name": "Clinical Trials by Volume of Pubs.ipynb",
   "provenance": []
  },
  "kernelspec": {
   "display_name": "Python 3",
   "name": "python3"
  }
 },
 "nbformat": 4,
 "nbformat_minor": 0
}
