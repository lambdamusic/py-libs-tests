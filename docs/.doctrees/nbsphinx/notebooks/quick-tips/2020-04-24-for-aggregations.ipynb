{
 "cells": [
  {
   "cell_type": "markdown",
   "metadata": {
    "Collapsed": "false",
    "colab_type": "text",
    "id": "XbiBZTHYDulw"
   },
   "source": [
    "# Do FOR categories aggregations reflect the FOR hierarchy? \n",
    "\n",
    "Doesnt look like it..\n",
    "\n",
    "Each category is assigned independently, hence one cannot sum up the level2s to obtain the count obtained by looking at the level1s only. \n",
    "\n",
    "In practice, although it's a taxonomy, we Dimensions uses FORs as a single-level categorization. "
   ]
  },
  {
   "cell_type": "code",
   "execution_count": 0,
   "metadata": {
    "colab": {},
    "colab_type": "code",
    "id": "RHaNeqtPDw-F"
   },
   "outputs": [],
   "source": [
    "!pip install dimcli -U"
   ]
  },
  {
   "cell_type": "code",
   "execution_count": 0,
   "metadata": {
    "Collapsed": "false",
    "colab": {},
    "colab_type": "code",
    "id": "it-6SF9rDulx",
    "outputId": "da275d4e-b2ac-4a18-9d61-3a20b794bfec"
   },
   "outputs": [
    {
     "name": "stdout",
     "output_type": "stream",
     "text": [
      "DimCli v0.6.7 - Succesfully connected to <https://app.dimensions.ai> (method: dsl.ini file)\n"
     ]
    }
   ],
   "source": [
    "import dimcli\n",
    "dimcli.login()"
   ]
  },
  {
   "cell_type": "code",
   "execution_count": 0,
   "metadata": {
    "Collapsed": "false",
    "colab": {},
    "colab_type": "code",
    "id": "ipl_DwbdDul1",
    "outputId": "c7872db4-0c86-4da2-d6b4-dea9af848481"
   },
   "outputs": [
    {
     "name": "stdout",
     "output_type": "stream",
     "text": [
      "Returned Category_for: 175\n"
     ]
    },
    {
     "data": {
      "application/json": {
       "_stats": {
        "total_count": 94838
       },
       "category_for": [
        {
         "count": 11732,
         "id": "2209",
         "name": "09 Engineering"
        },
        {
         "count": 8947,
         "id": "2211",
         "name": "11 Medical and Health Sciences"
        },
        {
         "count": 8467,
         "id": "2208",
         "name": "08 Information and Computing Sciences"
        },
        {
         "count": 8153,
         "id": "2215",
         "name": "15 Commerce, Management, Tourism and Services"
        },
        {
         "count": 5361,
         "id": "3342",
         "name": "1503 Business and Management"
        },
        {
         "count": 4530,
         "id": "2746",
         "name": "0801 Artificial Intelligence and Image Processing"
        },
        {
         "count": 4203,
         "id": "2216",
         "name": "16 Studies in Human Society"
        },
        {
         "count": 3967,
         "id": "2214",
         "name": "14 Economics"
        },
        {
         "count": 3552,
         "id": "3292",
         "name": "1402 Applied Economics"
        },
        {
         "count": 3537,
         "id": "2921",
         "name": "0912 Materials Engineering"
        },
        {
         "count": 3353,
         "id": "3053",
         "name": "1103 Clinical Sciences"
        },
        {
         "count": 3118,
         "id": "2790",
         "name": "0806 Information Systems"
        },
        {
         "count": 2947,
         "id": "2217",
         "name": "17 Psychology and Cognitive Sciences"
        },
        {
         "count": 2415,
         "id": "3468",
         "name": "1701 Psychology"
        },
        {
         "count": 2286,
         "id": "2201",
         "name": "01 Mathematical Sciences"
        },
        {
         "count": 2260,
         "id": "2220",
         "name": "20 Language, Communication and Culture"
        },
        {
         "count": 2237,
         "id": "2203",
         "name": "03 Chemical Sciences"
        },
        {
         "count": 1980,
         "id": "2867",
         "name": "0906 Electrical and Electronic Engineering"
        },
        {
         "count": 1774,
         "id": "3177",
         "name": "1117 Public Health and Health Services"
        },
        {
         "count": 1772,
         "id": "2953",
         "name": "0915 Interdisciplinary Engineering"
        },
        {
         "count": 1734,
         "id": "3364",
         "name": "1505 Marketing"
        },
        {
         "count": 1694,
         "id": "2221",
         "name": "21 History and Archaeology"
        },
        {
         "count": 1583,
         "id": "3048",
         "name": "1102 Cardiorespiratory Medicine and Haematology"
        },
        {
         "count": 1579,
         "id": "3675",
         "name": "2103 Historical Studies"
        },
        {
         "count": 1548,
         "id": "2206",
         "name": "06 Biological Sciences"
        },
        {
         "count": 1455,
         "id": "2202",
         "name": "02 Physical Sciences"
        },
        {
         "count": 1447,
         "id": "2218",
         "name": "18 Law and Legal Studies"
        },
        {
         "count": 1432,
         "id": "3494",
         "name": "1801 Law"
        },
        {
         "count": 1397,
         "id": "2210",
         "name": "10 Technology"
        },
        {
         "count": 1310,
         "id": "3448",
         "name": "1608 Sociology"
        },
        {
         "count": 1297,
         "id": "2471",
         "name": "0306 Physical Chemistry (incl. Structural)"
        },
        {
         "count": 1202,
         "id": "3577",
         "name": "2002 Cultural Studies"
        },
        {
         "count": 1182,
         "id": "2212",
         "name": "12 Built Environment and Design"
        },
        {
         "count": 1178,
         "id": "2933",
         "name": "0913 Mechanical Engineering"
        },
        {
         "count": 1163,
         "id": "3432",
         "name": "1606 Political Science"
        },
        {
         "count": 1115,
         "id": "3001",
         "name": "1005 Communications Technologies"
        },
        {
         "count": 1021,
         "id": "3416",
         "name": "1605 Policy and Administration"
        },
        {
         "count": 1016,
         "id": "2766",
         "name": "0803 Computer Software"
        },
        {
         "count": 1009,
         "id": "2856",
         "name": "0905 Civil Engineering"
        },
        {
         "count": 944,
         "id": "2899",
         "name": "0910 Manufacturing Engineering"
        },
        {
         "count": 935,
         "id": "2344",
         "name": "0102 Applied Mathematics"
        },
        {
         "count": 832,
         "id": "2878",
         "name": "0907 Environmental Engineering"
        },
        {
         "count": 807,
         "id": "3335",
         "name": "1502 Banking, Finance and Investment"
        },
        {
         "count": 803,
         "id": "2204",
         "name": "04 Earth Sciences"
        },
        {
         "count": 778,
         "id": "2222",
         "name": "22 Philosophy and Religious Studies"
        },
        {
         "count": 721,
         "id": "2213",
         "name": "13 Education"
        },
        {
         "count": 665,
         "id": "3410",
         "name": "1604 Human Geography"
        },
        {
         "count": 662,
         "id": "3120",
         "name": "1109 Neurosciences"
        },
        {
         "count": 657,
         "id": "2205",
         "name": "05 Environmental Sciences"
        },
        {
         "count": 613,
         "id": "2421",
         "name": "0299 Other Physical Sciences"
        },
        {
         "count": 542,
         "id": "3484",
         "name": "1702 Cognitive Sciences"
        },
        {
         "count": 527,
         "id": "3230",
         "name": "1205 Urban and Regional Planning"
        },
        {
         "count": 524,
         "id": "2844",
         "name": "0904 Chemical Engineering"
        },
        {
         "count": 514,
         "id": "2330",
         "name": "0101 Pure Mathematics"
        },
        {
         "count": 484,
         "id": "3616",
         "name": "2004 Linguistics"
        },
        {
         "count": 483,
         "id": "3626",
         "name": "2005 Literary Studies"
        },
        {
         "count": 463,
         "id": "3268",
         "name": "1303 Specialist Studies In Education"
        },
        {
         "count": 455,
         "id": "3381",
         "name": "1507 Transportation and Freight Services"
        },
        {
         "count": 454,
         "id": "2358",
         "name": "0104 Statistics"
        },
        {
         "count": 449,
         "id": "2389",
         "name": "0202 Atomic, Molecular, Nuclear, Particle and Plasma Physics"
        },
        {
         "count": 446,
         "id": "2581",
         "name": "0601 Biochemistry and Cell Biology"
        },
        {
         "count": 434,
         "id": "2837",
         "name": "0903 Biomedical Engineering"
        },
        {
         "count": 429,
         "id": "3313",
         "name": "1403 Econometrics"
        },
        {
         "count": 427,
         "id": "2558",
         "name": "0502 Environmental Science and Management"
        },
        {
         "count": 412,
         "id": "2207",
         "name": "07 Agricultural and Veterinary Sciences"
        },
        {
         "count": 412,
         "id": "2219",
         "name": "19 Studies in Creative Arts and Writing"
        },
        {
         "count": 404,
         "id": "2620",
         "name": "0604 Genetics"
        },
        {
         "count": 378,
         "id": "2777",
         "name": "0804 Data Format"
        },
        {
         "count": 373,
         "id": "3142",
         "name": "1112 Oncology and Carcinogenesis"
        },
        {
         "count": 370,
         "id": "2447",
         "name": "0303 Macromolecular and Materials Chemistry"
        },
        {
         "count": 359,
         "id": "2759",
         "name": "0802 Computation Theory and Mathematics"
        },
        {
         "count": 344,
         "id": "2509",
         "name": "0403 Geology"
        },
        {
         "count": 331,
         "id": "2830",
         "name": "0902 Automotive Engineering"
        },
        {
         "count": 308,
         "id": "3714",
         "name": "2203 Philosophy"
        },
        {
         "count": 294,
         "id": "3214",
         "name": "1203 Design Practice and Management"
        },
        {
         "count": 290,
         "id": "3128",
         "name": "1110 Nursing"
        },
        {
         "count": 285,
         "id": "3158",
         "name": "1114 Paediatrics and Reproductive Medicine"
        },
        {
         "count": 249,
         "id": "2353",
         "name": "0103 Numerical and Computational Mathematics"
        },
        {
         "count": 247,
         "id": "3570",
         "name": "2001 Communication and Media Studies"
        },
        {
         "count": 245,
         "id": "3702",
         "name": "2202 History and Philosophy of Specific Fields"
        },
        {
         "count": 241,
         "id": "3253",
         "name": "1302 Curriculum and Pedagogy"
        },
        {
         "count": 238,
         "id": "3373",
         "name": "1506 Tourism"
        },
        {
         "count": 236,
         "id": "2944",
         "name": "0914 Resources Engineering and Extractive Metallurgy"
        },
        {
         "count": 227,
         "id": "2525",
         "name": "0404 Geophysics"
        },
        {
         "count": 224,
         "id": "2438",
         "name": "0302 Inorganic Chemistry"
        },
        {
         "count": 219,
         "id": "3326",
         "name": "1501 Accounting, Auditing and Accountability"
        },
        {
         "count": 210,
         "id": "3389",
         "name": "1601 Anthropology"
        },
        {
         "count": 205,
         "id": "3114",
         "name": "1108 Medical Microbiology"
        },
        {
         "count": 203,
         "id": "3460",
         "name": "1699 Other Studies In Human Society"
        },
        {
         "count": 195,
         "id": "3735",
         "name": "2204 Religion and Religious Studies"
        },
        {
         "count": 188,
         "id": "3200",
         "name": "1201 Architecture"
        },
        {
         "count": 185,
         "id": "3103",
         "name": "1107 Immunology"
        },
        {
         "count": 179,
         "id": "2539",
         "name": "0406 Physical Geography and Environmental Geoscience"
        },
        {
         "count": 177,
         "id": "2597",
         "name": "0602 Ecology"
        },
        {
         "count": 175,
         "id": "2891",
         "name": "0909 Geomatic Engineering"
        },
        {
         "count": 164,
         "id": "2377",
         "name": "0201 Astronomical and Space Sciences"
        },
        {
         "count": 161,
         "id": "3537",
         "name": "1902 Film, Television and Digital Media"
        },
        {
         "count": 154,
         "id": "3286",
         "name": "1401 Economic Theory"
        },
        {
         "count": 153,
         "id": "2634",
         "name": "0605 Microbiology"
        },
        {
         "count": 152,
         "id": "2428",
         "name": "0301 Analytical Chemistry"
        },
        {
         "count": 152,
         "id": "3086",
         "name": "1105 Dentistry"
        },
        {
         "count": 149,
         "id": "3164",
         "name": "1115 Pharmacology and Pharmaceutical Sciences"
        },
        {
         "count": 146,
         "id": "2820",
         "name": "0901 Aerospace Engineering"
        },
        {
         "count": 144,
         "id": "3172",
         "name": "1116 Medical Physiology"
        },
        {
         "count": 141,
         "id": "2486",
         "name": "0399 Other Chemical Sciences"
        },
        {
         "count": 141,
         "id": "2648",
         "name": "0607 Plant Biology"
        },
        {
         "count": 139,
         "id": "2401",
         "name": "0204 Condensed Matter Physics"
        },
        {
         "count": 136,
         "id": "3395",
         "name": "1602 Criminology"
        },
        {
         "count": 126,
         "id": "2783",
         "name": "0805 Distributed Computing"
        },
        {
         "count": 126,
         "id": "3549",
         "name": "1904 Performing Arts and Creative Writing"
        },
        {
         "count": 122,
         "id": "2415",
         "name": "0206 Quantum Physics"
        },
        {
         "count": 122,
         "id": "3097",
         "name": "1106 Human Movement and Sports Science"
        },
        {
         "count": 121,
         "id": "2464",
         "name": "0305 Organic Chemistry"
        },
        {
         "count": 114,
         "id": "3358",
         "name": "1504 Commercial Services"
        },
        {
         "count": 111,
         "id": "2493",
         "name": "0401 Atmospheric Sciences"
        },
        {
         "count": 100,
         "id": "2681",
         "name": "0702 Animal Production"
        },
        {
         "count": 90,
         "id": "3243",
         "name": "1301 Education Systems"
        },
        {
         "count": 83,
         "id": "3591",
         "name": "2003 Language Studies"
        },
        {
         "count": 79,
         "id": "2534",
         "name": "0405 Oceanography"
        },
        {
         "count": 75,
         "id": "3021",
         "name": "1007 Nanotechnology"
        },
        {
         "count": 74,
         "id": "2409",
         "name": "0205 Optical Physics"
        },
        {
         "count": 73,
         "id": "3693",
         "name": "2201 Applied Ethics"
        },
        {
         "count": 71,
         "id": "3657",
         "name": "2101 Archaeology"
        },
        {
         "count": 70,
         "id": "2883",
         "name": "0908 Food Sciences"
        },
        {
         "count": 69,
         "id": "2655",
         "name": "0608 Zoology"
        },
        {
         "count": 69,
         "id": "2806",
         "name": "0807 Library and Information Studies"
        },
        {
         "count": 68,
         "id": "3403",
         "name": "1603 Demography"
        },
        {
         "count": 65,
         "id": "2690",
         "name": "0703 Crop and Pasture Production"
        },
        {
         "count": 65,
         "id": "3544",
         "name": "1903 Journalism and Professional Writing"
        },
        {
         "count": 64,
         "id": "2503",
         "name": "0402 Geochemistry"
        },
        {
         "count": 64,
         "id": "2571",
         "name": "0503 Soil Sciences"
        },
        {
         "count": 62,
         "id": "2727",
         "name": "0707 Veterinary Sciences"
        },
        {
         "count": 59,
         "id": "3669",
         "name": "2102 Curatorial and Related Studies"
        },
        {
         "count": 55,
         "id": "2480",
         "name": "0307 Theoretical and Computational Chemistry"
        },
        {
         "count": 55,
         "id": "2708",
         "name": "0705 Forestry Sciences"
        },
        {
         "count": 55,
         "id": "3153",
         "name": "1113 Ophthalmology and Optometry"
        },
        {
         "count": 54,
         "id": "3209",
         "name": "1202 Building"
        },
        {
         "count": 51,
         "id": "2607",
         "name": "0603 Evolutionary Biology"
        },
        {
         "count": 49,
         "id": "3561",
         "name": "1905 Visual Arts and Crafts"
        },
        {
         "count": 48,
         "id": "2456",
         "name": "0304 Medicinal and Biomolecular Chemistry"
        },
        {
         "count": 48,
         "id": "3320",
         "name": "1499 Other Economics"
        },
        {
         "count": 45,
         "id": "3039",
         "name": "1101 Medical Biochemistry and Metabolomics"
        },
        {
         "count": 41,
         "id": "2671",
         "name": "0701 Agriculture, Land and Farm Management"
        },
        {
         "count": 40,
         "id": "2817",
         "name": "0899 Other Information and Computing Sciences"
        },
        {
         "count": 40,
         "id": "2913",
         "name": "0911 Maritime Engineering"
        },
        {
         "count": 39,
         "id": "3013",
         "name": "1006 Computer Hardware"
        },
        {
         "count": 38,
         "id": "2366",
         "name": "0105 Mathematical Physics"
        },
        {
         "count": 38,
         "id": "3136",
         "name": "1111 Nutrition and Dietetics"
        },
        {
         "count": 37,
         "id": "2395",
         "name": "0203 Classical Physics"
        },
        {
         "count": 32,
         "id": "3197",
         "name": "1199 Other Medical and Health Sciences"
        },
        {
         "count": 31,
         "id": "2642",
         "name": "0606 Physiology"
        },
        {
         "count": 31,
         "id": "3079",
         "name": "1104 Complementary and Alternative Medicine"
        },
        {
         "count": 31,
         "id": "3531",
         "name": "1901 Art Theory and Criticism"
        },
        {
         "count": 30,
         "id": "3443",
         "name": "1607 Social Work"
        },
        {
         "count": 26,
         "id": "2552",
         "name": "0501 Ecological Applications"
        },
        {
         "count": 23,
         "id": "2995",
         "name": "1004 Medical Biotechnology"
        },
        {
         "count": 22,
         "id": "3036",
         "name": "1099 Other Technology"
        },
        {
         "count": 18,
         "id": "2666",
         "name": "0699 Other Biological Sciences"
        },
        {
         "count": 18,
         "id": "3283",
         "name": "1399 Other Education"
        },
        {
         "count": 16,
         "id": "2578",
         "name": "0599 Other Environmental Sciences"
        },
        {
         "count": 13,
         "id": "2987",
         "name": "1003 Industrial Biotechnology"
        },
        {
         "count": 12,
         "id": "2963",
         "name": "0999 Other Engineering"
        },
        {
         "count": 11,
         "id": "2700",
         "name": "0704 Fisheries Sciences"
        },
        {
         "count": 10,
         "id": "2720",
         "name": "0706 Horticultural Production"
        },
        {
         "count": 9,
         "id": "2741",
         "name": "0799 Other Agricultural and Veterinary Sciences"
        },
        {
         "count": 9,
         "id": "3690",
         "name": "2199 Other History and Archaeology"
        },
        {
         "count": 7,
         "id": "3654",
         "name": "2099 Other Language, Communication and Culture"
        },
        {
         "count": 4,
         "id": "2549",
         "name": "0499 Other Earth Sciences"
        },
        {
         "count": 4,
         "id": "3528",
         "name": "1899 Other Law and Legal Studies"
        },
        {
         "count": 3,
         "id": "3491",
         "name": "1799 Other Psychology and Cognitive Sciences"
        },
        {
         "count": 2,
         "id": "2968",
         "name": "1001 Agricultural Biotechnology"
        },
        {
         "count": 2,
         "id": "2979",
         "name": "1002 Environmental Biotechnology"
        },
        {
         "count": 2,
         "id": "3567",
         "name": "1999 Other Studies In Creative Arts and Writing"
        },
        {
         "count": 1,
         "id": "3240",
         "name": "1299 Other Built Environment and Design"
        },
        {
         "count": 1,
         "id": "3744",
         "name": "2299 Other Philosophy and Religious Studies"
        }
       ]
      },
      "text/plain": [
       "<dimcli.Dataset object #4736622736. Records: 175/94838>"
      ]
     },
     "execution_count": 16,
     "metadata": {
      "application/json": {
       "expanded": false,
       "root": "root"
      },
      "tags": []
     },
     "output_type": "execute_result"
    }
   ],
   "source": [
    "%dsl search publications for \"bmw\" return category_for limit 1000"
   ]
  },
  {
   "cell_type": "code",
   "execution_count": 0,
   "metadata": {
    "Collapsed": "false",
    "colab": {},
    "colab_type": "code",
    "id": "XNmzcMlcDul4"
   },
   "outputs": [],
   "source": [
    "data = dsl_last_results.category_for\n",
    "\n",
    "def get_level_1s(jjson):\n",
    "    return [x for x in jjson if len(x['name'].split()[0]) == 2]\n",
    "\n",
    "def get_level_2s(jjson):\n",
    "    return [x for x in jjson if len(x['name'].split()[0]) > 2]\n",
    "\n",
    "def get_by_digits_start(jjson, pattern):\n",
    "    return [x for x in jjson if x['name'].startswith(pattern)]\n",
    "\n",
    "def get_tot_count(jjson):\n",
    "    return sum([x['count'] for x in jjson])\n",
    "        "
   ]
  },
  {
   "cell_type": "code",
   "execution_count": 0,
   "metadata": {
    "Collapsed": "false",
    "colab": {},
    "colab_type": "code",
    "id": "8ZB_0GfpDul6",
    "outputId": "fa798034-2c24-47f0-be62-c376716700fc"
   },
   "outputs": [
    {
     "name": "stdout",
     "output_type": "stream",
     "text": [
      "== 09 Engineering\n",
      ".. count-local: 11732\n",
      ".... count-tot: 13220\n",
      "== 11 Medical and Health Sciences\n",
      ".. count-local: 8947\n",
      ".... count-tot: 9478\n",
      "== 08 Information and Computing Sciences\n",
      ".. count-local: 8467\n",
      ".... count-tot: 9636\n",
      "== 15 Commerce, Management, Tourism and Services\n",
      ".. count-local: 8153\n",
      ".... count-tot: 8928\n",
      "== 16 Studies in Human Society\n",
      ".. count-local: 4203\n",
      ".... count-tot: 4806\n",
      "== 14 Economics\n",
      ".. count-local: 3967\n",
      ".... count-tot: 4183\n",
      "== 17 Psychology and Cognitive Sciences\n",
      ".. count-local: 2947\n",
      ".... count-tot: 2960\n",
      "== 01 Mathematical Sciences\n",
      ".. count-local: 2286\n",
      ".... count-tot: 2190\n",
      "== 20 Language, Communication and Culture\n",
      ".. count-local: 2260\n",
      ".... count-tot: 2506\n",
      "== 03 Chemical Sciences\n",
      ".. count-local: 2237\n",
      ".... count-tot: 2408\n",
      "== 21 History and Archaeology\n",
      ".. count-local: 1694\n",
      ".... count-tot: 1718\n",
      "== 06 Biological Sciences\n",
      ".. count-local: 1548\n",
      ".... count-tot: 1490\n",
      "== 02 Physical Sciences\n",
      ".. count-local: 1455\n",
      ".... count-tot: 1598\n",
      "== 18 Law and Legal Studies\n",
      ".. count-local: 1447\n",
      ".... count-tot: 1436\n",
      "== 10 Technology\n",
      ".. count-local: 1397\n",
      ".... count-tot: 1291\n",
      "== 12 Built Environment and Design\n",
      ".. count-local: 1182\n",
      ".... count-tot: 1064\n",
      "== 04 Earth Sciences\n",
      ".. count-local: 803\n",
      ".... count-tot: 1008\n",
      "== 22 Philosophy and Religious Studies\n",
      ".. count-local: 778\n",
      ".... count-tot: 822\n",
      "== 13 Education\n",
      ".. count-local: 721\n",
      ".... count-tot: 812\n",
      "== 05 Environmental Sciences\n",
      ".. count-local: 657\n",
      ".... count-tot: 533\n",
      "== 07 Agricultural and Veterinary Sciences\n",
      ".. count-local: 412\n",
      ".... count-tot: 353\n",
      "== 19 Studies in Creative Arts and Writing\n",
      ".. count-local: 412\n",
      ".... count-tot: 434\n"
     ]
    }
   ],
   "source": [
    "# print summary of aggregration stats \n",
    "for l1 in get_level_1s(data):\n",
    "    print(\"==\", l1[\"name\"])\n",
    "    print(\".. count-local:\", l1[\"count\"])\n",
    "    pattern = l1['name'].split()[0]\n",
    "    subset = get_tot_count(get_by_digits_start(get_level_2s(data), pattern))\n",
    "    print(\".... count-tot:\", subset)"
   ]
  }
 ],
 "metadata": {
  "colab": {
   "collapsed_sections": [],
   "name": "for-aggregations.ipynb",
   "provenance": []
  },
  "kernelspec": {
   "display_name": "dimcli_env",
   "language": "python",
   "name": "dimcli_env"
  },
  "language_info": {
   "codemirror_mode": {
    "name": "ipython",
    "version": 3
   },
   "file_extension": ".py",
   "mimetype": "text/x-python",
   "name": "python",
   "nbconvert_exporter": "python",
   "pygments_lexer": "ipython3",
   "version": "3.7.4"
  }
 },
 "nbformat": 4,
 "nbformat_minor": 0
}
