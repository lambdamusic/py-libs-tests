{
 "cells": [
  {
   "cell_type": "markdown",
   "metadata": {
    "colab_type": "text",
    "id": "YJxAE7Q_uxEq"
   },
   "source": [
    "# Goal\n",
    "\n",
    "Allowing Cristina to create a library of real-world API usage examples which can be shared with (prospective or not) customers.\n",
    "\n",
    "### Plan:\n",
    "\n",
    "* Cristina creates a shared folder with Colab notebooks so that Adam and Michele can access it\n",
    "* Cristina adds new stuff as needed, and lets API team know for feedback \n",
    "* Cristina sets up a slack channel with me and Adam Kovari\n",
    "* later on we can talk about having a regular catch up eg every 2 weeks or so\n",
    "\n",
    "\n"
   ]
  },
  {
   "cell_type": "markdown",
   "metadata": {
    "colab_type": "text",
    "id": "mQ1ivr3VxWop"
   },
   "source": [
    "## Getting started with dimcli"
   ]
  },
  {
   "cell_type": "markdown",
   "metadata": {
    "colab_type": "text",
    "id": "3Ii93EDHxiru"
   },
   "source": [
    "Run these lines of code each time you start a new notebook"
   ]
  },
  {
   "cell_type": "code",
   "execution_count": 19,
   "metadata": {
    "colab": {
     "base_uri": "https://localhost:8080/",
     "height": 170
    },
    "colab_type": "code",
    "executionInfo": {
     "elapsed": 26785,
     "status": "ok",
     "timestamp": 1571132227705,
     "user": {
      "displayName": "Michele Pasin",
      "photoUrl": "https://lh3.googleusercontent.com/a-/AAuE7mBu8LVjIGgontF2Wax51BoL5KFx8esezX3bUmaa0g=s64",
      "userId": "10309320684375994511"
     },
     "user_tz": -60
    },
    "id": "TEN-wCFVh1u1",
    "outputId": "829cc785-4914-4891-a88b-6311f524e1a2"
   },
   "outputs": [
    {
     "name": "stdout",
     "output_type": "stream",
     "text": [
      "\u001b[2mDimcli - Dimensions API Console (v0.5.8.1)\u001b[0m\n",
      "\u001b[31mThe config file `/root/.dimensions/dsl.ini` already exists.\u001b[0m\n",
      "Overwrite? [y/N]: y\n",
      "Please enter the API URL or leave blank for default [https://app.dimensions.ai]: \n",
      "Please enter your username: m.pasin@digital-science.com\n",
      "Please enter your password: \n",
      "Repeat for confirmation: \n",
      "\u001b[2mCreated /root/.dimensions/dsl.ini\u001b[0m\n",
      "DimCli v0.5.8.1 - Succesfully connected to <https://app.dimensions.ai> (method: dsl.ini file)\n"
     ]
    }
   ],
   "source": [
    "!pip install dimcli --quiet\n",
    "!dimcli --init\n",
    "import dimcli\n",
    "from dimcli.shortcuts import *\n",
    "dimcli.login()"
   ]
  },
  {
   "cell_type": "code",
   "execution_count": 20,
   "metadata": {
    "colab": {
     "base_uri": "https://localhost:8080/",
     "height": 1000
    },
    "colab_type": "code",
    "executionInfo": {
     "elapsed": 1674,
     "status": "ok",
     "timestamp": 1571132256019,
     "user": {
      "displayName": "Michele Pasin",
      "photoUrl": "https://lh3.googleusercontent.com/a-/AAuE7mBu8LVjIGgontF2Wax51BoL5KFx8esezX3bUmaa0g=s64",
      "userId": "10309320684375994511"
     },
     "user_tz": -60
    },
    "id": "hzsxV-tnsKq-",
    "outputId": "da361d1b-ff3a-4202-afcc-56af5cc3f0ff"
   },
   "outputs": [
    {
     "name": "stdout",
     "output_type": "stream",
     "text": [
      "Returned Publications: 20 (total = 23195)\n"
     ]
    },
    {
     "data": {
      "text/html": [
       "<div>\n",
       "<style scoped>\n",
       "    .dataframe tbody tr th:only-of-type {\n",
       "        vertical-align: middle;\n",
       "    }\n",
       "\n",
       "    .dataframe tbody tr th {\n",
       "        vertical-align: top;\n",
       "    }\n",
       "\n",
       "    .dataframe thead th {\n",
       "        text-align: right;\n",
       "    }\n",
       "</style>\n",
       "<table border=\"1\" class=\"dataframe\">\n",
       "  <thead>\n",
       "    <tr style=\"text-align: right;\">\n",
       "      <th></th>\n",
       "      <th>author_affiliations</th>\n",
       "      <th>id</th>\n",
       "      <th>issue</th>\n",
       "      <th>journal.id</th>\n",
       "      <th>journal.title</th>\n",
       "      <th>pages</th>\n",
       "      <th>title</th>\n",
       "      <th>type</th>\n",
       "      <th>volume</th>\n",
       "      <th>year</th>\n",
       "    </tr>\n",
       "  </thead>\n",
       "  <tbody>\n",
       "    <tr>\n",
       "      <th>0</th>\n",
       "      <td>[[{'first_name': 'Derek D', 'last_name': 'Ruck...</td>\n",
       "      <td>pub.1118086135</td>\n",
       "      <td>NaN</td>\n",
       "      <td>jour.1051202</td>\n",
       "      <td>Current Opinion in Psychology</td>\n",
       "      <td>57-61</td>\n",
       "      <td>Social Rank: Implications for Consumers as Act...</td>\n",
       "      <td>article</td>\n",
       "      <td>33</td>\n",
       "      <td>2020</td>\n",
       "    </tr>\n",
       "    <tr>\n",
       "      <th>1</th>\n",
       "      <td>[[{'first_name': 'Yupu', 'last_name': 'Ma', 'c...</td>\n",
       "      <td>pub.1119900609</td>\n",
       "      <td>1</td>\n",
       "      <td>jour.1049903</td>\n",
       "      <td>Journal of Electronic Packaging</td>\n",
       "      <td>NaN</td>\n",
       "      <td>Packaging for Laser-Based White Lighting: Stat...</td>\n",
       "      <td>article</td>\n",
       "      <td>142</td>\n",
       "      <td>2020</td>\n",
       "    </tr>\n",
       "    <tr>\n",
       "      <th>2</th>\n",
       "      <td>[[{'first_name': 'SoYeop', 'last_name': 'Yoo',...</td>\n",
       "      <td>pub.1121112857</td>\n",
       "      <td>NaN</td>\n",
       "      <td>jour.1128045</td>\n",
       "      <td>Expert Systems with Applications</td>\n",
       "      <td>112965</td>\n",
       "      <td>Automating the Expansion of a Knowledge graph</td>\n",
       "      <td>article</td>\n",
       "      <td>141</td>\n",
       "      <td>2020</td>\n",
       "    </tr>\n",
       "    <tr>\n",
       "      <th>3</th>\n",
       "      <td>[[{'first_name': 'Ahmad', 'last_name': 'Beltag...</td>\n",
       "      <td>pub.1120599567</td>\n",
       "      <td>1</td>\n",
       "      <td>jour.1015700</td>\n",
       "      <td>Research Policy</td>\n",
       "      <td>103833</td>\n",
       "      <td>Exaptation in a digital innovation ecosystem: ...</td>\n",
       "      <td>article</td>\n",
       "      <td>49</td>\n",
       "      <td>2020</td>\n",
       "    </tr>\n",
       "    <tr>\n",
       "      <th>4</th>\n",
       "      <td>[[{'first_name': 'Jaime', 'last_name': 'Juan',...</td>\n",
       "      <td>pub.1117486593</td>\n",
       "      <td>1</td>\n",
       "      <td>jour.1033314</td>\n",
       "      <td>Journal of Mechanical Design</td>\n",
       "      <td>NaN</td>\n",
       "      <td>Design of a Prototype for the In Situ Forming ...</td>\n",
       "      <td>article</td>\n",
       "      <td>142</td>\n",
       "      <td>2020</td>\n",
       "    </tr>\n",
       "    <tr>\n",
       "      <th>5</th>\n",
       "      <td>[[{'first_name': 'Stijn', 'last_name': 'Kerst'...</td>\n",
       "      <td>pub.1112077875</td>\n",
       "      <td>1</td>\n",
       "      <td>jour.1033601</td>\n",
       "      <td>IEEE Transactions on Industrial Electronics</td>\n",
       "      <td>461-470</td>\n",
       "      <td>A Model-Based Approach for the Estimation of B...</td>\n",
       "      <td>article</td>\n",
       "      <td>67</td>\n",
       "      <td>2020</td>\n",
       "    </tr>\n",
       "    <tr>\n",
       "      <th>6</th>\n",
       "      <td>[[{'first_name': 'Ziyoung', 'last_name': 'Lee'...</td>\n",
       "      <td>pub.1121084404</td>\n",
       "      <td>NaN</td>\n",
       "      <td>jour.1044923</td>\n",
       "      <td>Fuel</td>\n",
       "      <td>116209</td>\n",
       "      <td>Review on spray, combustion, and emission char...</td>\n",
       "      <td>article</td>\n",
       "      <td>259</td>\n",
       "      <td>2020</td>\n",
       "    </tr>\n",
       "    <tr>\n",
       "      <th>7</th>\n",
       "      <td>[[{'first_name': 'Christina', 'last_name': 'Bo...</td>\n",
       "      <td>pub.1112365217</td>\n",
       "      <td>J. Algebra 177 1995</td>\n",
       "      <td>jour.1052489</td>\n",
       "      <td>Journal of Symbolic Computation</td>\n",
       "      <td>62-84</td>\n",
       "      <td>The BMM symmetrising trace conjecture for grou...</td>\n",
       "      <td>article</td>\n",
       "      <td>96</td>\n",
       "      <td>2020</td>\n",
       "    </tr>\n",
       "    <tr>\n",
       "      <th>8</th>\n",
       "      <td>[[{'first_name': 'Vahid', 'last_name': 'Abbasi...</td>\n",
       "      <td>pub.1120985023</td>\n",
       "      <td>NaN</td>\n",
       "      <td>jour.1052495</td>\n",
       "      <td>Measurement</td>\n",
       "      <td>107035</td>\n",
       "      <td>Measurement and evaluation of produced energy ...</td>\n",
       "      <td>article</td>\n",
       "      <td>149</td>\n",
       "      <td>2020</td>\n",
       "    </tr>\n",
       "    <tr>\n",
       "      <th>9</th>\n",
       "      <td>[[{'first_name': 'Neil', 'last_name': 'Mansfie...</td>\n",
       "      <td>pub.1120930511</td>\n",
       "      <td>NaN</td>\n",
       "      <td>jour.1014244</td>\n",
       "      <td>Applied Ergonomics</td>\n",
       "      <td>102917</td>\n",
       "      <td>Integrating and applying models of comfort</td>\n",
       "      <td>article</td>\n",
       "      <td>82</td>\n",
       "      <td>2020</td>\n",
       "    </tr>\n",
       "    <tr>\n",
       "      <th>10</th>\n",
       "      <td>[[{'first_name': 'Intissar', 'last_name': 'Abb...</td>\n",
       "      <td>pub.1120027495</td>\n",
       "      <td>NaN</td>\n",
       "      <td>jour.1138238</td>\n",
       "      <td>Journal of Retailing and Consumer Services</td>\n",
       "      <td>101885</td>\n",
       "      <td>Second-hand shopping and brand loyalty: The ro...</td>\n",
       "      <td>article</td>\n",
       "      <td>52</td>\n",
       "      <td>2020</td>\n",
       "    </tr>\n",
       "    <tr>\n",
       "      <th>11</th>\n",
       "      <td>[[{'first_name': 'Maria Gavila', 'last_name': ...</td>\n",
       "      <td>pub.1120387775</td>\n",
       "      <td>NaN</td>\n",
       "      <td>jour.1123347</td>\n",
       "      <td>Applied Acoustics</td>\n",
       "      <td>106996</td>\n",
       "      <td>On the numerical modeling of poroelastic layer...</td>\n",
       "      <td>article</td>\n",
       "      <td>157</td>\n",
       "      <td>2020</td>\n",
       "    </tr>\n",
       "    <tr>\n",
       "      <th>12</th>\n",
       "      <td>[[{'first_name': 'Xian jie', 'last_name': 'Zho...</td>\n",
       "      <td>pub.1121302950</td>\n",
       "      <td>NaN</td>\n",
       "      <td>jour.1050279</td>\n",
       "      <td>Mechanism and Machine Theory</td>\n",
       "      <td>103624</td>\n",
       "      <td>Kinematics analysis and design method of a new...</td>\n",
       "      <td>article</td>\n",
       "      <td>143</td>\n",
       "      <td>2020</td>\n",
       "    </tr>\n",
       "    <tr>\n",
       "      <th>13</th>\n",
       "      <td>[[{'first_name': 'Alfons', 'last_name': 'Pries...</td>\n",
       "      <td>pub.1120954065</td>\n",
       "      <td>NaN</td>\n",
       "      <td>jour.1327410</td>\n",
       "      <td>Ecological Economics</td>\n",
       "      <td>106381</td>\n",
       "      <td>Can product bundling increase the joint adopti...</td>\n",
       "      <td>article</td>\n",
       "      <td>167</td>\n",
       "      <td>2020</td>\n",
       "    </tr>\n",
       "    <tr>\n",
       "      <th>14</th>\n",
       "      <td>[[{'first_name': 'Andreas', 'last_name': 'Oehl...</td>\n",
       "      <td>pub.1120997475</td>\n",
       "      <td>NaN</td>\n",
       "      <td>jour.1140375</td>\n",
       "      <td>Research in International Business and Finance</td>\n",
       "      <td>101103</td>\n",
       "      <td>Household Portfolio Optimization with XTFs? An...</td>\n",
       "      <td>article</td>\n",
       "      <td>51</td>\n",
       "      <td>2020</td>\n",
       "    </tr>\n",
       "    <tr>\n",
       "      <th>15</th>\n",
       "      <td>[[{'first_name': 'Canqun', 'last_name': 'He', ...</td>\n",
       "      <td>pub.1117013309</td>\n",
       "      <td>NaN</td>\n",
       "      <td>NaN</td>\n",
       "      <td>NaN</td>\n",
       "      <td>146-158</td>\n",
       "      <td>Research on Evaluation of CMF Based on Vision ...</td>\n",
       "      <td>chapter</td>\n",
       "      <td>968</td>\n",
       "      <td>2020</td>\n",
       "    </tr>\n",
       "    <tr>\n",
       "      <th>16</th>\n",
       "      <td>[[{'first_name': 'Benjamin', 'last_name': 'Kam...</td>\n",
       "      <td>pub.1117157638</td>\n",
       "      <td>NaN</td>\n",
       "      <td>NaN</td>\n",
       "      <td>NaN</td>\n",
       "      <td>35-45</td>\n",
       "      <td>Hybrid Substructure Assembly Techniques for Ef...</td>\n",
       "      <td>chapter</td>\n",
       "      <td>NaN</td>\n",
       "      <td>2020</td>\n",
       "    </tr>\n",
       "    <tr>\n",
       "      <th>17</th>\n",
       "      <td>[[{'first_name': 'Jens', 'last_name': 'Klingma...</td>\n",
       "      <td>pub.1118126696</td>\n",
       "      <td>NaN</td>\n",
       "      <td>NaN</td>\n",
       "      <td>NaN</td>\n",
       "      <td>219-233</td>\n",
       "      <td>Hydrogen and Hydrogen-Rich Fuels: Production a...</td>\n",
       "      <td>chapter</td>\n",
       "      <td>NaN</td>\n",
       "      <td>2020</td>\n",
       "    </tr>\n",
       "    <tr>\n",
       "      <th>18</th>\n",
       "      <td>NaN</td>\n",
       "      <td>pub.1113978602</td>\n",
       "      <td>NaN</td>\n",
       "      <td>NaN</td>\n",
       "      <td>NaN</td>\n",
       "      <td>NaN</td>\n",
       "      <td>Progress in Computer Recognition Systems</td>\n",
       "      <td>book</td>\n",
       "      <td>977</td>\n",
       "      <td>2020</td>\n",
       "    </tr>\n",
       "    <tr>\n",
       "      <th>19</th>\n",
       "      <td>NaN</td>\n",
       "      <td>pub.1117365153</td>\n",
       "      <td>NaN</td>\n",
       "      <td>NaN</td>\n",
       "      <td>NaN</td>\n",
       "      <td>NaN</td>\n",
       "      <td>Smart Infrastructure and Applications, Foundat...</td>\n",
       "      <td>book</td>\n",
       "      <td>NaN</td>\n",
       "      <td>2020</td>\n",
       "    </tr>\n",
       "  </tbody>\n",
       "</table>\n",
       "</div>"
      ],
      "text/plain": [
       "                                  author_affiliations  ...  year\n",
       "0   [[{'first_name': 'Derek D', 'last_name': 'Ruck...  ...  2020\n",
       "1   [[{'first_name': 'Yupu', 'last_name': 'Ma', 'c...  ...  2020\n",
       "2   [[{'first_name': 'SoYeop', 'last_name': 'Yoo',...  ...  2020\n",
       "3   [[{'first_name': 'Ahmad', 'last_name': 'Beltag...  ...  2020\n",
       "4   [[{'first_name': 'Jaime', 'last_name': 'Juan',...  ...  2020\n",
       "5   [[{'first_name': 'Stijn', 'last_name': 'Kerst'...  ...  2020\n",
       "6   [[{'first_name': 'Ziyoung', 'last_name': 'Lee'...  ...  2020\n",
       "7   [[{'first_name': 'Christina', 'last_name': 'Bo...  ...  2020\n",
       "8   [[{'first_name': 'Vahid', 'last_name': 'Abbasi...  ...  2020\n",
       "9   [[{'first_name': 'Neil', 'last_name': 'Mansfie...  ...  2020\n",
       "10  [[{'first_name': 'Intissar', 'last_name': 'Abb...  ...  2020\n",
       "11  [[{'first_name': 'Maria Gavila', 'last_name': ...  ...  2020\n",
       "12  [[{'first_name': 'Xian jie', 'last_name': 'Zho...  ...  2020\n",
       "13  [[{'first_name': 'Alfons', 'last_name': 'Pries...  ...  2020\n",
       "14  [[{'first_name': 'Andreas', 'last_name': 'Oehl...  ...  2020\n",
       "15  [[{'first_name': 'Canqun', 'last_name': 'He', ...  ...  2020\n",
       "16  [[{'first_name': 'Benjamin', 'last_name': 'Kam...  ...  2020\n",
       "17  [[{'first_name': 'Jens', 'last_name': 'Klingma...  ...  2020\n",
       "18                                                NaN  ...  2020\n",
       "19                                                NaN  ...  2020\n",
       "\n",
       "[20 rows x 10 columns]"
      ]
     },
     "execution_count": 20,
     "metadata": {
      "tags": []
     },
     "output_type": "execute_result"
    }
   ],
   "source": [
    "%dsldf search publications for \"bmw\" where date > \"2015\" return publications"
   ]
  },
  {
   "cell_type": "markdown",
   "metadata": {
    "colab_type": "text",
    "id": "jw11m3myx_jM"
   },
   "source": [
    "Save data to a local CSV file, which can be downloaded by opening the left sidebar (Files) and right-clicking on the file. "
   ]
  },
  {
   "cell_type": "code",
   "execution_count": 0,
   "metadata": {
    "colab": {},
    "colab_type": "code",
    "id": "vUv5W2C8sV0a"
   },
   "outputs": [],
   "source": [
    "dsl_last_results.to_csv(\"temp.csv\")"
   ]
  },
  {
   "cell_type": "code",
   "execution_count": 0,
   "metadata": {
    "colab": {},
    "colab_type": "code",
    "id": "0gJ1TXL6sgLr"
   },
   "outputs": [],
   "source": [
    "import pandas as pd"
   ]
  },
  {
   "cell_type": "markdown",
   "metadata": {
    "colab_type": "text",
    "id": "xSNrzOeeyMy-"
   },
   "source": [
    "If you manually uploade another file (eg temp_copy.csv) from your computer into the 'Files' section, you can then load it like this "
   ]
  },
  {
   "cell_type": "code",
   "execution_count": 0,
   "metadata": {
    "colab": {},
    "colab_type": "code",
    "id": "zThl09K6s-m9"
   },
   "outputs": [],
   "source": [
    "data = pd.read_csv(\"temp_copy.csv\")"
   ]
  },
  {
   "cell_type": "code",
   "execution_count": 12,
   "metadata": {
    "colab": {
     "base_uri": "https://localhost:8080/",
     "height": 306
    },
    "colab_type": "code",
    "executionInfo": {
     "elapsed": 558,
     "status": "ok",
     "timestamp": 1571131010585,
     "user": {
      "displayName": "Michele Pasin",
      "photoUrl": "https://lh3.googleusercontent.com/a-/AAuE7mBu8LVjIGgontF2Wax51BoL5KFx8esezX3bUmaa0g=s64",
      "userId": "10309320684375994511"
     },
     "user_tz": -60
    },
    "id": "O39V2AGvtJwv",
    "outputId": "7905f199-b164-4005-fec8-a19cb561d1dc"
   },
   "outputs": [
    {
     "data": {
      "text/html": [
       "<div>\n",
       "<style scoped>\n",
       "    .dataframe tbody tr th:only-of-type {\n",
       "        vertical-align: middle;\n",
       "    }\n",
       "\n",
       "    .dataframe tbody tr th {\n",
       "        vertical-align: top;\n",
       "    }\n",
       "\n",
       "    .dataframe thead th {\n",
       "        text-align: right;\n",
       "    }\n",
       "</style>\n",
       "<table border=\"1\" class=\"dataframe\">\n",
       "  <thead>\n",
       "    <tr style=\"text-align: right;\">\n",
       "      <th></th>\n",
       "      <th>Unnamed: 0</th>\n",
       "      <th>author_affiliations</th>\n",
       "      <th>id</th>\n",
       "      <th>issue</th>\n",
       "      <th>journal.id</th>\n",
       "      <th>journal.title</th>\n",
       "      <th>pages</th>\n",
       "      <th>title</th>\n",
       "      <th>type</th>\n",
       "      <th>volume</th>\n",
       "      <th>year</th>\n",
       "    </tr>\n",
       "  </thead>\n",
       "  <tbody>\n",
       "    <tr>\n",
       "      <th>0</th>\n",
       "      <td>0</td>\n",
       "      <td>[[{'first_name': 'Derek D', 'last_name': 'Ruck...</td>\n",
       "      <td>pub.1118086135</td>\n",
       "      <td>NaN</td>\n",
       "      <td>jour.1051202</td>\n",
       "      <td>Current Opinion in Psychology</td>\n",
       "      <td>57-61</td>\n",
       "      <td>Social Rank: Implications for Consumers as Act...</td>\n",
       "      <td>article</td>\n",
       "      <td>33.0</td>\n",
       "      <td>2020</td>\n",
       "    </tr>\n",
       "    <tr>\n",
       "      <th>1</th>\n",
       "      <td>1</td>\n",
       "      <td>[[{'first_name': 'Yupu', 'last_name': 'Ma', 'c...</td>\n",
       "      <td>pub.1119900609</td>\n",
       "      <td>1</td>\n",
       "      <td>jour.1049903</td>\n",
       "      <td>Journal of Electronic Packaging</td>\n",
       "      <td>NaN</td>\n",
       "      <td>Packaging for Laser-Based White Lighting: Stat...</td>\n",
       "      <td>article</td>\n",
       "      <td>142.0</td>\n",
       "      <td>2020</td>\n",
       "    </tr>\n",
       "    <tr>\n",
       "      <th>2</th>\n",
       "      <td>2</td>\n",
       "      <td>[[{'first_name': 'SoYeop', 'last_name': 'Yoo',...</td>\n",
       "      <td>pub.1121112857</td>\n",
       "      <td>NaN</td>\n",
       "      <td>jour.1128045</td>\n",
       "      <td>Expert Systems with Applications</td>\n",
       "      <td>112965</td>\n",
       "      <td>Automating the Expansion of a Knowledge graph</td>\n",
       "      <td>article</td>\n",
       "      <td>141.0</td>\n",
       "      <td>2020</td>\n",
       "    </tr>\n",
       "    <tr>\n",
       "      <th>3</th>\n",
       "      <td>3</td>\n",
       "      <td>[[{'first_name': 'Ahmad', 'last_name': 'Beltag...</td>\n",
       "      <td>pub.1120599567</td>\n",
       "      <td>1</td>\n",
       "      <td>jour.1015700</td>\n",
       "      <td>Research Policy</td>\n",
       "      <td>103833</td>\n",
       "      <td>Exaptation in a digital innovation ecosystem: ...</td>\n",
       "      <td>article</td>\n",
       "      <td>49.0</td>\n",
       "      <td>2020</td>\n",
       "    </tr>\n",
       "    <tr>\n",
       "      <th>4</th>\n",
       "      <td>4</td>\n",
       "      <td>[[{'first_name': 'Jaime', 'last_name': 'Juan',...</td>\n",
       "      <td>pub.1117486593</td>\n",
       "      <td>1</td>\n",
       "      <td>jour.1033314</td>\n",
       "      <td>Journal of Mechanical Design</td>\n",
       "      <td>NaN</td>\n",
       "      <td>Design of a Prototype for the In Situ Forming ...</td>\n",
       "      <td>article</td>\n",
       "      <td>142.0</td>\n",
       "      <td>2020</td>\n",
       "    </tr>\n",
       "  </tbody>\n",
       "</table>\n",
       "</div>"
      ],
      "text/plain": [
       "   Unnamed: 0                                author_affiliations  ... volume  year\n",
       "0           0  [[{'first_name': 'Derek D', 'last_name': 'Ruck...  ...   33.0  2020\n",
       "1           1  [[{'first_name': 'Yupu', 'last_name': 'Ma', 'c...  ...  142.0  2020\n",
       "2           2  [[{'first_name': 'SoYeop', 'last_name': 'Yoo',...  ...  141.0  2020\n",
       "3           3  [[{'first_name': 'Ahmad', 'last_name': 'Beltag...  ...   49.0  2020\n",
       "4           4  [[{'first_name': 'Jaime', 'last_name': 'Juan',...  ...  142.0  2020\n",
       "\n",
       "[5 rows x 11 columns]"
      ]
     },
     "execution_count": 12,
     "metadata": {
      "tags": []
     },
     "output_type": "execute_result"
    }
   ],
   "source": [
    "data.head()"
   ]
  },
  {
   "cell_type": "markdown",
   "metadata": {
    "colab_type": "text",
    "id": "KGqom03ayV2Y"
   },
   "source": [
    "In order to work with google sheets we need a couple more libraries"
   ]
  },
  {
   "cell_type": "code",
   "execution_count": 0,
   "metadata": {
    "colab": {},
    "colab_type": "code",
    "id": "pdbXXeAltXBp"
   },
   "outputs": [],
   "source": [
    "!pip install --upgrade --quiet gspread gspread-dataframe"
   ]
  },
  {
   "cell_type": "code",
   "execution_count": 0,
   "metadata": {
    "colab": {},
    "colab_type": "code",
    "id": "uuDGcUUYtXBM"
   },
   "outputs": [],
   "source": [
    "from google.colab import auth\n",
    "auth.authenticate_user()\n",
    "\n",
    "import gspread\n",
    "from gspread_dataframe import get_as_dataframe, set_with_dataframe\n",
    "import pandas as pd\n",
    "from oauth2client.client import GoogleCredentials\n",
    "\n",
    "gc = gspread.authorize(GoogleCredentials.get_application_default())"
   ]
  },
  {
   "cell_type": "markdown",
   "metadata": {
    "colab_type": "text",
    "id": "GNCyqRcYydjR"
   },
   "source": [
    "Now we can save the datafame object from above directly into a spreadsheet!"
   ]
  },
  {
   "cell_type": "code",
   "execution_count": 0,
   "metadata": {
    "colab": {},
    "colab_type": "code",
    "id": "hMgtpLcQt541"
   },
   "outputs": [],
   "source": [
    "sh = gc.create('Cristina Demo')"
   ]
  },
  {
   "cell_type": "code",
   "execution_count": 0,
   "metadata": {
    "colab": {},
    "colab_type": "code",
    "id": "tmD7KMWnt-Qe"
   },
   "outputs": [],
   "source": [
    "worksheet = gc.open('Cristina Demo').sheet1"
   ]
  },
  {
   "cell_type": "code",
   "execution_count": 0,
   "metadata": {
    "colab": {},
    "colab_type": "code",
    "id": "rzfqpGFAuFLM"
   },
   "outputs": [],
   "source": [
    "set_with_dataframe(worksheet, data)"
   ]
  }
 ],
 "metadata": {
  "colab": {
   "collapsed_sections": [],
   "name": "Cristina-getting started with Colab.ipynb",
   "provenance": []
  },
  "kernelspec": {
   "display_name": "Python 3",
   "name": "python3"
  }
 },
 "nbformat": 4,
 "nbformat_minor": 0
}
