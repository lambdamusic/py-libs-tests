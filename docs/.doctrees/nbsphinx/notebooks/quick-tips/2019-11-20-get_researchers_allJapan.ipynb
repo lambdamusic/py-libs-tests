{
 "cells": [
  {
   "cell_type": "markdown",
   "metadata": {
    "Collapsed": "false"
   },
   "source": [
    "# Get all Japanese researchers"
   ]
  },
  {
   "cell_type": "code",
   "execution_count": 1,
   "metadata": {
    "Collapsed": "false"
   },
   "outputs": [],
   "source": [
    "### read grid file\n",
    "\n",
    "# 数値計算ライブラリ\n",
    "# import numpy as np\n",
    "import pandas as pd\n",
    "\n",
    "grid_file = \"GRID_alljapan.xlsx\"\n",
    "grid_file=\"GRID_skipped.xlsx\"\n",
    "griddf = pd.read_excel(grid_file)"
   ]
  },
  {
   "cell_type": "code",
   "execution_count": 2,
   "metadata": {
    "Collapsed": "false"
   },
   "outputs": [
    {
     "data": {
      "text/html": [
       "<div>\n",
       "<style scoped>\n",
       "    .dataframe tbody tr th:only-of-type {\n",
       "        vertical-align: middle;\n",
       "    }\n",
       "\n",
       "    .dataframe tbody tr th {\n",
       "        vertical-align: top;\n",
       "    }\n",
       "\n",
       "    .dataframe thead th {\n",
       "        text-align: right;\n",
       "    }\n",
       "</style>\n",
       "<table border=\"1\" class=\"dataframe\">\n",
       "  <thead>\n",
       "    <tr style=\"text-align: right;\">\n",
       "      <th></th>\n",
       "      <th>grid_id</th>\n",
       "      <th>name</th>\n",
       "      <th>研究機関名（和名）</th>\n",
       "    </tr>\n",
       "  </thead>\n",
       "  <tbody>\n",
       "    <tr>\n",
       "      <th>0</th>\n",
       "      <td>grid.258799.8</td>\n",
       "      <td>Kyoto University</td>\n",
       "      <td>京都大学</td>\n",
       "    </tr>\n",
       "    <tr>\n",
       "      <th>1</th>\n",
       "      <td>grid.177174.3</td>\n",
       "      <td>Kyushu University</td>\n",
       "      <td>九州大学</td>\n",
       "    </tr>\n",
       "    <tr>\n",
       "      <th>2</th>\n",
       "      <td>grid.136593.b</td>\n",
       "      <td>Osaka University</td>\n",
       "      <td>大阪大学</td>\n",
       "    </tr>\n",
       "    <tr>\n",
       "      <th>3</th>\n",
       "      <td>grid.27476.30</td>\n",
       "      <td>Nagoya University</td>\n",
       "      <td>名古屋大学</td>\n",
       "    </tr>\n",
       "    <tr>\n",
       "      <th>4</th>\n",
       "      <td>grid.26999.3d</td>\n",
       "      <td>University of Tokyo</td>\n",
       "      <td>東京大学</td>\n",
       "    </tr>\n",
       "  </tbody>\n",
       "</table>\n",
       "</div>"
      ],
      "text/plain": [
       "         grid_id                 name 研究機関名（和名）\n",
       "0  grid.258799.8     Kyoto University      京都大学\n",
       "1  grid.177174.3    Kyushu University      九州大学\n",
       "2  grid.136593.b     Osaka University      大阪大学\n",
       "3  grid.27476.30    Nagoya University     名古屋大学\n",
       "4  grid.26999.3d  University of Tokyo      東京大学"
      ]
     },
     "execution_count": 2,
     "metadata": {},
     "output_type": "execute_result"
    }
   ],
   "source": [
    "griddf.head()"
   ]
  },
  {
   "cell_type": "code",
   "execution_count": 3,
   "metadata": {
    "Collapsed": "false"
   },
   "outputs": [
    {
     "name": "stdout",
     "output_type": "stream",
     "text": [
      "DimCli v0.6.1 - Succesfully connected to <https://app.dimensions.ai> (method: manual login)\n"
     ]
    }
   ],
   "source": [
    "import json \n",
    "import pandas as pd\n",
    "from pandas.io.json import json_normalize\n",
    "from tqdm import tnrange, tqdm_notebook as bar\n",
    "from time import sleep\n",
    "import dimcli \n",
    "from dimcli.shortcuts import dslquery, dslqueryall\n",
    "dimcli.login(username=\"noritaka.usami.a3n@cao.go.jp\", password=\"CO287180\")\n",
    "dsl = dimcli.Dsl()"
   ]
  },
  {
   "cell_type": "code",
   "execution_count": 5,
   "metadata": {
    "Collapsed": "false",
    "scrolled": true
   },
   "outputs": [
    {
     "name": "stdout",
     "output_type": "stream",
     "text": [
      "grid.258799.8 Kyoto University\n",
      "search publications where year in [2017:2017] and research_orgs=\"grid.258799.8\" return publications\n",
      "300 / 8691\n",
      "600 / 8691\n",
      "900 / 8691\n",
      "1200 / 8691\n",
      "1500 / 8691\n",
      "1800 / 8691\n",
      "2100 / 8691\n",
      "2400 / 8691\n",
      "2700 / 8691\n",
      "3000 / 8691\n",
      "3300 / 8691\n",
      "3600 / 8691\n",
      "3900 / 8691\n",
      "4200 / 8691\n",
      "4500 / 8691\n",
      "4800 / 8691\n",
      "5100 / 8691\n",
      "5400 / 8691\n",
      "5700 / 8691\n",
      "6000 / 8691\n",
      "6300 / 8691\n",
      "6600 / 8691\n",
      "6900 / 8691\n",
      "7200 / 8691\n",
      "7500 / 8691\n",
      "7800 / 8691\n",
      "8100 / 8691\n",
      "8400 / 8691\n",
      "8691 / 8691\n",
      "here\n"
     ]
    },
    {
     "ename": "NameError",
     "evalue": "name 'np' is not defined",
     "output_type": "error",
     "traceback": [
      "\u001b[0;31m---------------------------------------------------------------------------\u001b[0m",
      "\u001b[0;31mNameError\u001b[0m                                 Traceback (most recent call last)",
      "\u001b[0;32m<ipython-input-5-89df8c50d755>\u001b[0m in \u001b[0;36m<module>\u001b[0;34m\u001b[0m\n\u001b[1;32m     35\u001b[0m \u001b[0;34m\u001b[0m\u001b[0m\n\u001b[1;32m     36\u001b[0m         \u001b[0;31m# Drop empty values and duplicates\u001b[0m\u001b[0;34m\u001b[0m\u001b[0;34m\u001b[0m\u001b[0;34m\u001b[0m\u001b[0m\n\u001b[0;32m---> 37\u001b[0;31m         \u001b[0mm1_researchers\u001b[0m \u001b[0;34m=\u001b[0m \u001b[0mm1_researchers\u001b[0m\u001b[0;34m.\u001b[0m\u001b[0mreplace\u001b[0m\u001b[0;34m(\u001b[0m\u001b[0;34m''\u001b[0m\u001b[0;34m,\u001b[0m \u001b[0mnp\u001b[0m\u001b[0;34m.\u001b[0m\u001b[0mnan\u001b[0m\u001b[0;34m,\u001b[0m \u001b[0minplace\u001b[0m\u001b[0;34m=\u001b[0m\u001b[0;32mFalse\u001b[0m\u001b[0;34m)\u001b[0m\u001b[0;34m.\u001b[0m\u001b[0mdropna\u001b[0m\u001b[0;34m(\u001b[0m\u001b[0;34m)\u001b[0m\u001b[0;34m.\u001b[0m\u001b[0mdrop_duplicates\u001b[0m\u001b[0;34m(\u001b[0m\u001b[0;34m)\u001b[0m\u001b[0;34m\u001b[0m\u001b[0;34m\u001b[0m\u001b[0m\n\u001b[0m\u001b[1;32m     38\u001b[0m         \u001b[0mm1_researchers\u001b[0m\u001b[0;34m=\u001b[0m\u001b[0mm1_researchers\u001b[0m\u001b[0;34m.\u001b[0m\u001b[0mreset_index\u001b[0m\u001b[0;34m(\u001b[0m\u001b[0mdrop\u001b[0m\u001b[0;34m=\u001b[0m\u001b[0;32mTrue\u001b[0m\u001b[0;34m)\u001b[0m\u001b[0;34m\u001b[0m\u001b[0;34m\u001b[0m\u001b[0m\n\u001b[1;32m     39\u001b[0m \u001b[0;34m\u001b[0m\u001b[0m\n",
      "\u001b[0;31mNameError\u001b[0m: name 'np' is not defined"
     ]
    }
   ],
   "source": [
    "# get researcher ids for a given grid id and publication year\n",
    "\n",
    "start_year=2017\n",
    "end_year=2018\n",
    "\n",
    "yr=start_year\n",
    "while (yr<=end_year):\n",
    "    YEARS='['+str(yr)+':'+str(yr)+']'\n",
    "\n",
    "    for num in range(10):\n",
    "        gid=griddf['grid_id'][num]\n",
    "        print(gid,griddf['name'][num])\n",
    "        \n",
    "        q = f\"\"\"search publications where year in {YEARS} and research_orgs=\"%s\" return publications\"\"\"%(gid)\n",
    "        print(q)\n",
    "        m1_pubs_api_data = dsl.query_iterative(q, limit=300)\n",
    "        print(\"here\")\n",
    "        # simplify dict structure nesting PS careful about running this twice!\n",
    "        for x in m1_pubs_api_data.publications:\n",
    "            if 'author_affiliations' in x:\n",
    "                x['author_affiliations'] = x['author_affiliations'][0]\n",
    "            else:\n",
    "                x['author_affiliations'] = []\n",
    "            \n",
    "        m1_authors = json_normalize(m1_pubs_api_data.publications, record_path=['author_affiliations'], meta=[\"id\"], errors='ignore')\n",
    "        #m1_authors.head()\n",
    "    \n",
    "        m1_affiliations = json_normalize(json.loads(m1_authors.to_json(orient='records')), record_path=['affiliations'], \n",
    "                meta=['id', 'researcher_id', 'first_name', 'last_name'], record_prefix='aff_')\n",
    "            #m1_affiliations.head()\n",
    "    \n",
    "        m1_researchers_1=pd.DataFrame({'researcher_id': m1_affiliations[m1_affiliations['aff_id'] == gid].researcher_id, 'first_name': m1_affiliations[m1_affiliations['aff_id'] == gid].first_name,'last_name': m1_affiliations[m1_affiliations['aff_id'] == gid].last_name,'aff_id': m1_affiliations[m1_affiliations['aff_id'] == gid].aff_id })\n",
    "        m1_researchers_2=pd.DataFrame({'researcher_id': m1_authors[m1_authors['current_organization_id'] == gid].researcher_id, 'first_name': m1_authors[m1_authors['current_organization_id'] == gid].first_name,'last_name': m1_authors[m1_authors['current_organization_id'] == gid].last_name,'aff_id': m1_authors[m1_authors['current_organization_id'] == gid].current_organization_id })\n",
    "        m1_researchers = pd.concat([m1_researchers_1, m1_researchers_2])\n",
    "    \n",
    "        # Drop empty values and duplicates\n",
    "        m1_researchers = m1_researchers.replace('', np.nan, inplace=False).dropna().drop_duplicates()\n",
    "        m1_researchers=m1_researchers.reset_index(drop=True)\n",
    "    \n",
    "        fname=\"m1_researchers_\"+gid+\"_\"+str(yr)+\".csv\"\n",
    "        m1_researchers.to_csv(fname, header=True)\n",
    "        print('saved '+str(len(m1_researchers))+' unique researchers_id in '+fname)\n",
    "    \n",
    "        \n",
    "    yr+=1\n",
    "    "
   ]
  },
  {
   "cell_type": "code",
   "execution_count": null,
   "metadata": {
    "Collapsed": "false"
   },
   "outputs": [],
   "source": [
    "%dslloop search publications where year in [2017:2017] and research_orgs=\"grid.258799.8\" return publications"
   ]
  },
  {
   "cell_type": "code",
   "execution_count": null,
   "metadata": {
    "Collapsed": "false"
   },
   "outputs": [],
   "source": []
  }
 ],
 "metadata": {
  "kernel_info": {
   "name": "python3"
  },
  "kernelspec": {
   "display_name": "Python 3",
   "language": "python",
   "name": "python3"
  },
  "language_info": {
   "codemirror_mode": {
    "name": "ipython",
    "version": 3
   },
   "file_extension": ".py",
   "mimetype": "text/x-python",
   "name": "python",
   "nbconvert_exporter": "python",
   "pygments_lexer": "ipython3",
   "version": "3.8.5"
  },
  "nteract": {
   "version": "0.15.0"
  }
 },
 "nbformat": 4,
 "nbformat_minor": 4
}
