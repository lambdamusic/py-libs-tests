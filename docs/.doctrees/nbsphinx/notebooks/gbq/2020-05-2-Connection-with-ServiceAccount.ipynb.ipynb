{
 "cells": [
  {
   "cell_type": "markdown",
   "metadata": {
    "Collapsed": "false"
   },
   "source": [
    "# Getting started - connection with Service account\n",
    "\n",
    "* https://googleapis.dev/python/bigquery/latest/index.html\n",
    "* https://googleapis.dev/python/bigquery/latest/usage/pandas.html"
   ]
  },
  {
   "cell_type": "code",
   "execution_count": 1,
   "metadata": {
    "Collapsed": "false"
   },
   "outputs": [],
   "source": [
    "!pip install google-cloud-bigquery -U --quiet"
   ]
  },
  {
   "cell_type": "code",
   "execution_count": 2,
   "metadata": {
    "Collapsed": "false"
   },
   "outputs": [],
   "source": [
    "from google.cloud import bigquery"
   ]
  },
  {
   "cell_type": "code",
   "execution_count": 3,
   "metadata": {
    "Collapsed": "false"
   },
   "outputs": [],
   "source": [
    "credentials_file = 'test-bigquery-bob-0ee81e306b75.json'\n",
    "project_id = 'test-bigquery-bob'\n",
    "# Explicitly use service account credentials by specifying the private key file\n",
    "client_ref = bigquery.Client.from_service_account_json(credentials_file)\n",
    "\n",
    "query_1  = '''\n",
    "select count(id) as tot , count(doi) as dois , journal.id , journal.title\n",
    "from `data_analytics.publications`\n",
    "where journal.id is not null \n",
    "group by journal.id, journal.title\n",
    "order by tot desc\n",
    "limit 5\n",
    "'''"
   ]
  },
  {
   "cell_type": "code",
   "execution_count": 11,
   "metadata": {
    "Collapsed": "false"
   },
   "outputs": [
    {
     "name": "stdout",
     "output_type": "stream",
     "text": [
      "Row((1692922, 0, 'jour.1371339', 'arXiv'), {'tot': 0, 'dois': 1, 'id': 2, 'title': 3})\n",
      "Row((791875, 791875, 'jour.1016355', 'ChemInform'), {'tot': 0, 'dois': 1, 'id': 2, 'title': 3})\n",
      "Row((452394, 445135, 'jour.1077219', 'The Lancet'), {'tot': 0, 'dois': 1, 'id': 2, 'title': 3})\n",
      "Row((429703, 420223, 'jour.1017377', 'The BMJ'), {'tot': 0, 'dois': 1, 'id': 2, 'title': 3})\n",
      "Row((416158, 415711, 'jour.1018957', 'Nature'), {'tot': 0, 'dois': 1, 'id': 2, 'title': 3})\n"
     ]
    }
   ],
   "source": [
    "# 1 - verbose way\n",
    "\n",
    "query_job = client_ref.query(query_1)\n",
    "results = query_job.result()\n",
    "for row in results:\n",
    "    print(row)   "
   ]
  },
  {
   "cell_type": "code",
   "execution_count": 12,
   "metadata": {
    "Collapsed": "false"
   },
   "outputs": [
    {
     "name": "stdout",
     "output_type": "stream",
     "text": [
      "Row((1692922, 0, 'jour.1371339', 'arXiv'), {'tot': 0, 'dois': 1, 'id': 2, 'title': 3})\n",
      "Row((791875, 791875, 'jour.1016355', 'ChemInform'), {'tot': 0, 'dois': 1, 'id': 2, 'title': 3})\n",
      "Row((452394, 445135, 'jour.1077219', 'The Lancet'), {'tot': 0, 'dois': 1, 'id': 2, 'title': 3})\n",
      "Row((429703, 420223, 'jour.1017377', 'The BMJ'), {'tot': 0, 'dois': 1, 'id': 2, 'title': 3})\n",
      "Row((416158, 415711, 'jour.1018957', 'Nature'), {'tot': 0, 'dois': 1, 'id': 2, 'title': 3})\n"
     ]
    }
   ],
   "source": [
    "# 2 - omit calling result()\n",
    "\n",
    "query_job = client_ref.query(query_1)\n",
    "for row in query_job:\n",
    "    print(row) "
   ]
  },
  {
   "cell_type": "code",
   "execution_count": 13,
   "metadata": {
    "Collapsed": "false"
   },
   "outputs": [
    {
     "data": {
      "text/html": [
       "<div>\n",
       "<style scoped>\n",
       "    .dataframe tbody tr th:only-of-type {\n",
       "        vertical-align: middle;\n",
       "    }\n",
       "\n",
       "    .dataframe tbody tr th {\n",
       "        vertical-align: top;\n",
       "    }\n",
       "\n",
       "    .dataframe thead th {\n",
       "        text-align: right;\n",
       "    }\n",
       "</style>\n",
       "<table border=\"1\" class=\"dataframe\">\n",
       "  <thead>\n",
       "    <tr style=\"text-align: right;\">\n",
       "      <th></th>\n",
       "      <th>tot</th>\n",
       "      <th>dois</th>\n",
       "      <th>id</th>\n",
       "      <th>title</th>\n",
       "    </tr>\n",
       "  </thead>\n",
       "  <tbody>\n",
       "    <tr>\n",
       "      <th>0</th>\n",
       "      <td>1692922</td>\n",
       "      <td>0</td>\n",
       "      <td>jour.1371339</td>\n",
       "      <td>arXiv</td>\n",
       "    </tr>\n",
       "    <tr>\n",
       "      <th>1</th>\n",
       "      <td>791875</td>\n",
       "      <td>791875</td>\n",
       "      <td>jour.1016355</td>\n",
       "      <td>ChemInform</td>\n",
       "    </tr>\n",
       "    <tr>\n",
       "      <th>2</th>\n",
       "      <td>452394</td>\n",
       "      <td>445135</td>\n",
       "      <td>jour.1077219</td>\n",
       "      <td>The Lancet</td>\n",
       "    </tr>\n",
       "    <tr>\n",
       "      <th>3</th>\n",
       "      <td>429703</td>\n",
       "      <td>420223</td>\n",
       "      <td>jour.1017377</td>\n",
       "      <td>The BMJ</td>\n",
       "    </tr>\n",
       "    <tr>\n",
       "      <th>4</th>\n",
       "      <td>416158</td>\n",
       "      <td>415711</td>\n",
       "      <td>jour.1018957</td>\n",
       "      <td>Nature</td>\n",
       "    </tr>\n",
       "  </tbody>\n",
       "</table>\n",
       "</div>"
      ],
      "text/plain": [
       "       tot    dois            id       title\n",
       "0  1692922       0  jour.1371339       arXiv\n",
       "1   791875  791875  jour.1016355  ChemInform\n",
       "2   452394  445135  jour.1077219  The Lancet\n",
       "3   429703  420223  jour.1017377     The BMJ\n",
       "4   416158  415711  jour.1018957      Nature"
      ]
     },
     "execution_count": 13,
     "metadata": {},
     "output_type": "execute_result"
    }
   ],
   "source": [
    "# 3 - to dataframe\n",
    "\n",
    "query_job = client_ref.query(query_1).to_dataframe()\n",
    "query_job"
   ]
  }
 ],
 "metadata": {
  "kernelspec": {
   "display_name": "Python 3",
   "language": "python",
   "name": "python3"
  },
  "language_info": {
   "codemirror_mode": {
    "name": "ipython",
    "version": 3
   },
   "file_extension": ".py",
   "mimetype": "text/x-python",
   "name": "python",
   "nbconvert_exporter": "python",
   "pygments_lexer": "ipython3",
   "version": "3.8.5"
  }
 },
 "nbformat": 4,
 "nbformat_minor": 4
}
