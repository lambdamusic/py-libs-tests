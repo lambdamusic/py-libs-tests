{
 "cells": [
  {
   "cell_type": "markdown",
   "metadata": {
    "Collapsed": "false",
    "deletable": true,
    "editable": true
   },
   "source": [
    "# Elastic search first steps \n",
    "\n",
    "https://tryolabs.com/blog/2015/02/17/python-elasticsearch-first-steps/"
   ]
  },
  {
   "cell_type": "code",
   "execution_count": 1,
   "metadata": {
    "Collapsed": "false",
    "collapsed": false,
    "deletable": true,
    "editable": true,
    "jupyter": {
     "outputs_hidden": false
    }
   },
   "outputs": [
    {
     "name": "stdout",
     "output_type": "stream",
     "text": [
      "Requirement already satisfied: elasticsearch in /usr/local/lib/python3.7/site-packages (6.3.1)\n",
      "Requirement already satisfied: urllib3>=1.21.1 in /usr/local/lib/python3.7/site-packages (from elasticsearch) (1.23)\n"
     ]
    }
   ],
   "source": [
    "!pip install elasticsearch"
   ]
  },
  {
   "cell_type": "code",
   "execution_count": 18,
   "metadata": {
    "Collapsed": "false",
    "collapsed": false,
    "deletable": true,
    "editable": true,
    "jupyter": {
     "outputs_hidden": false
    }
   },
   "outputs": [],
   "source": [
    "#connect to our cluster\n",
    "from elasticsearch import Elasticsearch\n",
    "es = Elasticsearch([{'host': 'localhost', 'port': 9200}])"
   ]
  },
  {
   "cell_type": "code",
   "execution_count": 19,
   "metadata": {
    "Collapsed": "false",
    "collapsed": false,
    "deletable": true,
    "editable": true,
    "jupyter": {
     "outputs_hidden": false
    }
   },
   "outputs": [
    {
     "name": "stdout",
     "output_type": "stream",
     "text": [
      "18\n"
     ]
    }
   ],
   "source": [
    "import requests\n",
    "import json\n",
    "r = requests.get('http://localhost:9200') \n",
    "i = 1\n",
    "while r.status_code == 200:\n",
    "    r = requests.get('http://swapi.co/api/people/'+ str(i))\n",
    "    es.index(index='sw', doc_type='people', id=i, body=json.loads(r.content))\n",
    "    i=i+1\n",
    " \n",
    "print(i)"
   ]
  },
  {
   "cell_type": "code",
   "execution_count": 5,
   "metadata": {
    "Collapsed": "false",
    "collapsed": false,
    "deletable": true,
    "editable": true,
    "jupyter": {
     "outputs_hidden": false
    },
    "scrolled": true
   },
   "outputs": [
    {
     "data": {
      "text/plain": [
       "{u'_id': u'5',\n",
       " u'_index': u'sw',\n",
       " u'_source': {u'birth_year': u'19BBY',\n",
       "  u'created': u'2014-12-10T15:20:09.791000Z',\n",
       "  u'edited': u'2014-12-20T21:17:50.315000Z',\n",
       "  u'eye_color': u'brown',\n",
       "  u'films': [u'http://swapi.co/api/films/6/',\n",
       "   u'http://swapi.co/api/films/3/',\n",
       "   u'http://swapi.co/api/films/2/',\n",
       "   u'http://swapi.co/api/films/1/',\n",
       "   u'http://swapi.co/api/films/7/'],\n",
       "  u'gender': u'female',\n",
       "  u'hair_color': u'brown',\n",
       "  u'height': u'150',\n",
       "  u'homeworld': u'http://swapi.co/api/planets/2/',\n",
       "  u'mass': u'49',\n",
       "  u'name': u'Leia Organa',\n",
       "  u'skin_color': u'light',\n",
       "  u'species': [u'http://swapi.co/api/species/1/'],\n",
       "  u'starships': [],\n",
       "  u'url': u'http://swapi.co/api/people/5/',\n",
       "  u'vehicles': [u'http://swapi.co/api/vehicles/30/']},\n",
       " u'_type': u'people',\n",
       " u'_version': 1,\n",
       " u'found': True}"
      ]
     },
     "execution_count": 5,
     "metadata": {},
     "output_type": "execute_result"
    }
   ],
   "source": [
    "es.get(index='sw', doc_type='people', id=5)"
   ]
  },
  {
   "cell_type": "code",
   "execution_count": 6,
   "metadata": {
    "Collapsed": "false",
    "collapsed": true,
    "deletable": true,
    "editable": true,
    "jupyter": {
     "outputs_hidden": true
    }
   },
   "outputs": [
    {
     "data": {
      "text/plain": [
       "{u'_shards': {u'failed': 0, u'successful': 5, u'total': 5},\n",
       " u'hits': {u'hits': [{u'_id': u'4',\n",
       "    u'_index': u'sw',\n",
       "    u'_score': 2.0245886,\n",
       "    u'_source': {u'birth_year': u'41.9BBY',\n",
       "     u'created': u'2014-12-10T15:18:20.704000Z',\n",
       "     u'edited': u'2014-12-20T21:17:50.313000Z',\n",
       "     u'eye_color': u'yellow',\n",
       "     u'films': [u'http://swapi.co/api/films/6/',\n",
       "      u'http://swapi.co/api/films/3/',\n",
       "      u'http://swapi.co/api/films/2/',\n",
       "      u'http://swapi.co/api/films/1/'],\n",
       "     u'gender': u'male',\n",
       "     u'hair_color': u'none',\n",
       "     u'height': u'202',\n",
       "     u'homeworld': u'http://swapi.co/api/planets/1/',\n",
       "     u'mass': u'136',\n",
       "     u'name': u'Darth Vader',\n",
       "     u'skin_color': u'white',\n",
       "     u'species': [u'http://swapi.co/api/species/1/'],\n",
       "     u'starships': [u'http://swapi.co/api/starships/13/'],\n",
       "     u'url': u'http://swapi.co/api/people/4/',\n",
       "     u'vehicles': []},\n",
       "    u'_type': u'people'}],\n",
       "  u'max_score': 2.0245886,\n",
       "  u'total': 1},\n",
       " u'timed_out': False,\n",
       " u'took': 114}"
      ]
     },
     "execution_count": 6,
     "metadata": {},
     "output_type": "execute_result"
    }
   ],
   "source": [
    "es.search(index=\"sw\", body={\"query\": {\"match\": {'name':'Darth Vader'}}})"
   ]
  },
  {
   "cell_type": "code",
   "execution_count": 7,
   "metadata": {
    "Collapsed": "false",
    "collapsed": false,
    "deletable": true,
    "editable": true,
    "jupyter": {
     "outputs_hidden": false
    }
   },
   "outputs": [
    {
     "data": {
      "text/plain": [
       "{u'_shards': {u'failed': 0, u'successful': 5, u'total': 5},\n",
       " u'hits': {u'hits': [{u'_id': u'1',\n",
       "    u'_index': u'sw',\n",
       "    u'_score': 1.0,\n",
       "    u'_source': {u'birth_year': u'19BBY',\n",
       "     u'created': u'2014-12-09T13:50:51.644000Z',\n",
       "     u'edited': u'2014-12-20T21:17:56.891000Z',\n",
       "     u'eye_color': u'blue',\n",
       "     u'films': [u'http://swapi.co/api/films/6/',\n",
       "      u'http://swapi.co/api/films/3/',\n",
       "      u'http://swapi.co/api/films/2/',\n",
       "      u'http://swapi.co/api/films/1/',\n",
       "      u'http://swapi.co/api/films/7/'],\n",
       "     u'gender': u'male',\n",
       "     u'hair_color': u'blond',\n",
       "     u'height': u'172',\n",
       "     u'homeworld': u'http://swapi.co/api/planets/1/',\n",
       "     u'mass': u'77',\n",
       "     u'name': u'Luke Skywalker',\n",
       "     u'skin_color': u'fair',\n",
       "     u'species': [u'http://swapi.co/api/species/1/'],\n",
       "     u'starships': [u'http://swapi.co/api/starships/12/',\n",
       "      u'http://swapi.co/api/starships/22/'],\n",
       "     u'url': u'http://swapi.co/api/people/1/',\n",
       "     u'vehicles': [u'http://swapi.co/api/vehicles/14/',\n",
       "      u'http://swapi.co/api/vehicles/30/']},\n",
       "    u'_type': u'people'}],\n",
       "  u'max_score': 1.0,\n",
       "  u'total': 1},\n",
       " u'timed_out': False,\n",
       " u'took': 19}"
      ]
     },
     "execution_count": 7,
     "metadata": {},
     "output_type": "execute_result"
    }
   ],
   "source": [
    "\n",
    "es.search(index=\"sw\", body={\"query\": {\"prefix\" : { \"name\" : \"lu\" }}})"
   ]
  },
  {
   "cell_type": "code",
   "execution_count": 9,
   "metadata": {
    "Collapsed": "false",
    "collapsed": false,
    "deletable": true,
    "editable": true,
    "jupyter": {
     "outputs_hidden": false
    }
   },
   "outputs": [
    {
     "data": {
      "text/plain": [
       "{u'_shards': {u'failed': 0, u'successful': 5, u'total': 5},\n",
       " u'hits': {u'hits': [{u'_id': u'16',\n",
       "    u'_index': u'sw',\n",
       "    u'_score': 0.90153337,\n",
       "    u'_source': {u'birth_year': u'600BBY',\n",
       "     u'created': u'2014-12-10T17:11:31.638000Z',\n",
       "     u'edited': u'2014-12-20T21:17:50.338000Z',\n",
       "     u'eye_color': u'orange',\n",
       "     u'films': [u'http://swapi.co/api/films/4/',\n",
       "      u'http://swapi.co/api/films/3/',\n",
       "      u'http://swapi.co/api/films/1/'],\n",
       "     u'gender': u'hermaphrodite',\n",
       "     u'hair_color': u'n/a',\n",
       "     u'height': u'175',\n",
       "     u'homeworld': u'http://swapi.co/api/planets/24/',\n",
       "     u'mass': u'1,358',\n",
       "     u'name': u'Jabba Desilijic Tiure',\n",
       "     u'skin_color': u'green-tan, brown',\n",
       "     u'species': [u'http://swapi.co/api/species/5/'],\n",
       "     u'starships': [],\n",
       "     u'url': u'http://swapi.co/api/people/16/',\n",
       "     u'vehicles': []},\n",
       "    u'_type': u'people'}],\n",
       "  u'max_score': 0.90153337,\n",
       "  u'total': 1},\n",
       " u'timed_out': False,\n",
       " u'took': 38}"
      ]
     },
     "execution_count": 9,
     "metadata": {},
     "output_type": "execute_result"
    }
   ],
   "source": [
    "es.search(index=\"sw\", body={\"query\": {\"multi_match\": {\"fields\": [\"_all\"], \"query\": \"jaba\", \"fuzziness\": \"AUTO\"}}})"
   ]
  },
  {
   "cell_type": "code",
   "execution_count": 10,
   "metadata": {
    "Collapsed": "false",
    "collapsed": true,
    "deletable": true,
    "editable": true,
    "jupyter": {
     "outputs_hidden": true
    }
   },
   "outputs": [],
   "source": [
    "r = requests.get('http://swapi.co/api/people/1')"
   ]
  },
  {
   "cell_type": "code",
   "execution_count": 11,
   "metadata": {
    "Collapsed": "false",
    "collapsed": true,
    "deletable": true,
    "editable": true,
    "jupyter": {
     "outputs_hidden": true
    }
   },
   "outputs": [],
   "source": [
    "b = json.loads(r.content)"
   ]
  },
  {
   "cell_type": "code",
   "execution_count": 12,
   "metadata": {
    "Collapsed": "false",
    "collapsed": false,
    "deletable": true,
    "editable": true,
    "jupyter": {
     "outputs_hidden": false
    }
   },
   "outputs": [
    {
     "data": {
      "text/plain": [
       "{u'birth_year': u'19BBY',\n",
       " u'created': u'2014-12-09T13:50:51.644000Z',\n",
       " u'edited': u'2014-12-20T21:17:56.891000Z',\n",
       " u'eye_color': u'blue',\n",
       " u'films': [u'http://swapi.co/api/films/6/',\n",
       "  u'http://swapi.co/api/films/3/',\n",
       "  u'http://swapi.co/api/films/2/',\n",
       "  u'http://swapi.co/api/films/1/',\n",
       "  u'http://swapi.co/api/films/7/'],\n",
       " u'gender': u'male',\n",
       " u'hair_color': u'blond',\n",
       " u'height': u'172',\n",
       " u'homeworld': u'http://swapi.co/api/planets/1/',\n",
       " u'mass': u'77',\n",
       " u'name': u'Luke Skywalker',\n",
       " u'skin_color': u'fair',\n",
       " u'species': [u'http://swapi.co/api/species/1/'],\n",
       " u'starships': [u'http://swapi.co/api/starships/12/',\n",
       "  u'http://swapi.co/api/starships/22/'],\n",
       " u'url': u'http://swapi.co/api/people/1/',\n",
       " u'vehicles': [u'http://swapi.co/api/vehicles/14/',\n",
       "  u'http://swapi.co/api/vehicles/30/']}"
      ]
     },
     "execution_count": 12,
     "metadata": {},
     "output_type": "execute_result"
    }
   ],
   "source": [
    "b"
   ]
  },
  {
   "cell_type": "code",
   "execution_count": 13,
   "metadata": {
    "Collapsed": "false",
    "collapsed": false,
    "deletable": true,
    "editable": true,
    "jupyter": {
     "outputs_hidden": false
    }
   },
   "outputs": [
    {
     "data": {
      "text/plain": [
       "dict"
      ]
     },
     "execution_count": 13,
     "metadata": {},
     "output_type": "execute_result"
    }
   ],
   "source": [
    "type(b)"
   ]
  },
  {
   "cell_type": "code",
   "execution_count": 15,
   "metadata": {
    "Collapsed": "false",
    "collapsed": false,
    "deletable": true,
    "editable": true,
    "jupyter": {
     "outputs_hidden": false
    }
   },
   "outputs": [
    {
     "data": {
      "text/plain": [
       "{u'_shards': {u'failed': 0, u'successful': 5, u'total': 5},\n",
       " u'hits': {u'hits': [], u'max_score': None, u'total': 0},\n",
       " u'timed_out': False,\n",
       " u'took': 3}"
      ]
     },
     "execution_count": 15,
     "metadata": {},
     "output_type": "execute_result"
    }
   ],
   "source": [
    "es.search(index=\"sw\", body={\"query\": {\"multi_match\": {\"fields\": [\"_all\"], \"query\": \"he\", \"fuzziness\": \"AUTO\"}}})"
   ]
  },
  {
   "cell_type": "code",
   "execution_count": 17,
   "metadata": {
    "Collapsed": "false",
    "collapsed": false,
    "deletable": true,
    "editable": true,
    "jupyter": {
     "outputs_hidden": false
    }
   },
   "outputs": [
    {
     "data": {
      "text/plain": [
       "{u'_shards': {u'failed': 0, u'successful': 5, u'total': 5},\n",
       " u'hits': {u'hits': [], u'max_score': None, u'total': 0},\n",
       " u'timed_out': False,\n",
       " u'took': 3}"
      ]
     },
     "execution_count": 17,
     "metadata": {},
     "output_type": "execute_result"
    }
   ],
   "source": [
    "es.search(index=\"sw\", body={\"query\": {\"prefix\" : { \"@value\" : \"A\" }}})"
   ]
  },
  {
   "cell_type": "markdown",
   "metadata": {
    "Collapsed": "false"
   },
   "source": [
    "#### what can we do with this? \n",
    "I'd like to get a list of all indeces.."
   ]
  },
  {
   "cell_type": "code",
   "execution_count": 21,
   "metadata": {
    "Collapsed": "false",
    "collapsed": false,
    "deletable": true,
    "editable": true,
    "jupyter": {
     "outputs_hidden": false
    }
   },
   "outputs": [
    {
     "data": {
      "text/plain": [
       "<elasticsearch.client.indices.IndicesClient at 0x107a5d710>"
      ]
     },
     "execution_count": 21,
     "metadata": {},
     "output_type": "execute_result"
    }
   ],
   "source": [
    "es.indices"
   ]
  },
  {
   "cell_type": "code",
   "execution_count": 23,
   "metadata": {
    "Collapsed": "false",
    "collapsed": false,
    "jupyter": {
     "outputs_hidden": false
    }
   },
   "outputs": [
    {
     "data": {
      "text/plain": [
       "{u'cluster_name': u'elasticsearch',\n",
       " u'cluster_uuid': u'qnxZyG3BSRGDjb7rogsJBw',\n",
       " u'name': u'dYLWeol',\n",
       " u'tagline': u'You Know, for Search',\n",
       " u'version': {u'build_date': u'2017-02-24T17:26:45.835Z',\n",
       "  u'build_hash': u'f9d9b74',\n",
       "  u'build_snapshot': False,\n",
       "  u'lucene_version': u'6.4.1',\n",
       "  u'number': u'5.2.2'}}"
      ]
     },
     "execution_count": 23,
     "metadata": {},
     "output_type": "execute_result"
    }
   ],
   "source": [
    "es.info()"
   ]
  },
  {
   "cell_type": "code",
   "execution_count": null,
   "metadata": {
    "Collapsed": "false",
    "collapsed": true,
    "jupyter": {
     "outputs_hidden": true
    }
   },
   "outputs": [],
   "source": []
  }
 ],
 "metadata": {
  "kernelspec": {
   "display_name": "Python 3",
   "language": "python",
   "name": "python3"
  },
  "language_info": {
   "codemirror_mode": {
    "name": "ipython",
    "version": 3
   },
   "file_extension": ".py",
   "mimetype": "text/x-python",
   "name": "python",
   "nbconvert_exporter": "python",
   "pygments_lexer": "ipython3",
   "version": "3.8.5"
  }
 },
 "nbformat": 4,
 "nbformat_minor": 4
}
