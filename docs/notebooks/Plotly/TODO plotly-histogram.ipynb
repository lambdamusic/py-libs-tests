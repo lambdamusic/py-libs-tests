{
 "cells": [
  {
   "cell_type": "markdown",
   "metadata": {
    "Collapsed": "false",
    "colab_type": "text",
    "id": "BLVy9ZifwYiV"
   },
   "source": [
    "#  TODO Plotly Histograms with Dimensions data\n",
    "\n",
    "* https://plotly.com/python-api-reference/generated/plotly.express.histogram.html#plotly.express.histogram\n"
   ]
  },
  {
   "cell_type": "code",
   "execution_count": null,
   "metadata": {
    "Collapsed": "false",
    "colab": {},
    "colab_type": "code",
    "id": "o_zL5ZigwYiY",
    "outputId": "7c2f5368-af63-4199-b21a-ba7c401474dd"
   },
   "outputs": [
    {
     "name": "stdout",
     "output_type": "stream",
     "text": [
      "DimCli v0.5.4 - Succesfully connected to <https://app.dimensions.ai> (method: dsl.ini file)\n"
     ]
    }
   ],
   "source": [
    "import os\n",
    "import sys\n",
    "import time\n",
    "import json\n",
    "import pandas as pd\n",
    "from pandas import json_normalize\n",
    "from tqdm.notebook import tqdm as progress\n",
    "import plotly.express as px\n",
    "from plotly.offline import plot\n",
    "if not 'google.colab' in sys.modules:\n",
    "  # make js dependecies local / needed by html exports \n",
    "  from plotly.offline import init_notebook_mode\n",
    "  init_notebook_mode(connected=True)\n",
    "#\n",
    "import dimcli\n",
    "from dimcli.shortcuts import *\n",
    "#\n",
    "dimcli.login()\n",
    "dsl = dimcli.Dsl()"
   ]
  },
  {
   "cell_type": "markdown",
   "metadata": {
    "Collapsed": "false",
    "colab_type": "text",
    "id": "jxYHheQXwYic"
   },
   "source": [
    "### Testing out plotly_express with DSL data"
   ]
  },
  {
   "cell_type": "code",
   "execution_count": null,
   "metadata": {
    "Collapsed": "false",
    "colab": {},
    "colab_type": "code",
    "id": "2hSnZfIFwYid",
    "outputId": "35271541-a7db-4288-e7c7-618e53e3024a"
   },
   "outputs": [
    {
     "name": "stdout",
     "output_type": "stream",
     "text": [
      "Returned Publications: 500 (total = 3331)\n"
     ]
    }
   ],
   "source": [
    "res = dslquery(\"\"\"search publications for \"malaria\" where research_org_country_names=\"Italy\" and year < 2010 return publications[basics] limit 500\"\"\")"
   ]
  },
  {
   "cell_type": "code",
   "execution_count": null,
   "metadata": {
    "Collapsed": "false",
    "colab": {},
    "colab_type": "code",
    "id": "w4e8O27gwYif"
   },
   "outputs": [],
   "source": [
    "df = res.as_dataframe()\n",
    "df = df.fillna(\"undefined\")"
   ]
  },
  {
   "cell_type": "code",
   "execution_count": null,
   "metadata": {
    "Collapsed": "false",
    "colab": {},
    "colab_type": "code",
    "id": "U_Du2HpSwYii",
    "outputId": "9cdef24f-31a5-436e-dabf-21bb35097d33"
   },
   "outputs": [
    {
     "data": {
      "text/html": [
       "<div>\n",
       "<style scoped>\n",
       "    .dataframe tbody tr th:only-of-type {\n",
       "        vertical-align: middle;\n",
       "    }\n",
       "\n",
       "    .dataframe tbody tr th {\n",
       "        vertical-align: top;\n",
       "    }\n",
       "\n",
       "    .dataframe thead th {\n",
       "        text-align: right;\n",
       "    }\n",
       "</style>\n",
       "<table border=\"1\" class=\"dataframe\">\n",
       "  <thead>\n",
       "    <tr style=\"text-align: right;\">\n",
       "      <th></th>\n",
       "      <th>author_affiliations</th>\n",
       "      <th>id</th>\n",
       "      <th>issue</th>\n",
       "      <th>journal.id</th>\n",
       "      <th>journal.title</th>\n",
       "      <th>pages</th>\n",
       "      <th>title</th>\n",
       "      <th>type</th>\n",
       "      <th>volume</th>\n",
       "      <th>year</th>\n",
       "    </tr>\n",
       "  </thead>\n",
       "  <tbody>\n",
       "    <tr>\n",
       "      <th>0</th>\n",
       "      <td>[[{'first_name': 'Francesco', 'last_name': 'Se...</td>\n",
       "      <td>pub.1032403232</td>\n",
       "      <td>2</td>\n",
       "      <td>jour.1295566</td>\n",
       "      <td>Fragmenta entomologica</td>\n",
       "      <td>213-372</td>\n",
       "      <td>LE ZANZARE ITALIANE: GENERALITÀ E IDENTIFICAZI...</td>\n",
       "      <td>article</td>\n",
       "      <td>41</td>\n",
       "      <td>2009</td>\n",
       "    </tr>\n",
       "    <tr>\n",
       "      <th>1</th>\n",
       "      <td>[[{'first_name': 'Barbara C.', 'last_name': 'B...</td>\n",
       "      <td>pub.1004146769</td>\n",
       "      <td>undefined</td>\n",
       "      <td>undefined</td>\n",
       "      <td>undefined</td>\n",
       "      <td>261-285</td>\n",
       "      <td>Determining the Activity of Mucosal Adjuvants</td>\n",
       "      <td>chapter</td>\n",
       "      <td>626</td>\n",
       "      <td>2009</td>\n",
       "    </tr>\n",
       "    <tr>\n",
       "      <th>2</th>\n",
       "      <td>[[{'first_name': 'David W.', 'last_name': 'Rog...</td>\n",
       "      <td>pub.1052568629</td>\n",
       "      <td>12</td>\n",
       "      <td>jour.1032549</td>\n",
       "      <td>PLoS Biology</td>\n",
       "      <td>e1000272</td>\n",
       "      <td>Transglutaminase-Mediated Semen Coagulation Co...</td>\n",
       "      <td>article</td>\n",
       "      <td>7</td>\n",
       "      <td>2009</td>\n",
       "    </tr>\n",
       "    <tr>\n",
       "      <th>3</th>\n",
       "      <td>[[{'first_name': 'Devendra', 'last_name': 'Ban...</td>\n",
       "      <td>pub.1007487910</td>\n",
       "      <td>12</td>\n",
       "      <td>jour.1037553</td>\n",
       "      <td>PLoS ONE</td>\n",
       "      <td>e8245</td>\n",
       "      <td>IgG Autoantibody to Brain Beta Tubulin III Ass...</td>\n",
       "      <td>article</td>\n",
       "      <td>4</td>\n",
       "      <td>2009</td>\n",
       "    </tr>\n",
       "    <tr>\n",
       "      <th>4</th>\n",
       "      <td>[[{'first_name': 'Paolo', 'last_name': 'Coghi'...</td>\n",
       "      <td>pub.1026635135</td>\n",
       "      <td>12</td>\n",
       "      <td>jour.1036021</td>\n",
       "      <td>ChemMedChem</td>\n",
       "      <td>1957-1957</td>\n",
       "      <td>Cover Picture: Interaction of Artemisinins wit...</td>\n",
       "      <td>article</td>\n",
       "      <td>4</td>\n",
       "      <td>2009</td>\n",
       "    </tr>\n",
       "  </tbody>\n",
       "</table>\n",
       "</div>"
      ],
      "text/plain": [
       "                                 author_affiliations              id  \\\n",
       "0  [[{'first_name': 'Francesco', 'last_name': 'Se...  pub.1032403232   \n",
       "1  [[{'first_name': 'Barbara C.', 'last_name': 'B...  pub.1004146769   \n",
       "2  [[{'first_name': 'David W.', 'last_name': 'Rog...  pub.1052568629   \n",
       "3  [[{'first_name': 'Devendra', 'last_name': 'Ban...  pub.1007487910   \n",
       "4  [[{'first_name': 'Paolo', 'last_name': 'Coghi'...  pub.1026635135   \n",
       "\n",
       "       issue    journal.id           journal.title      pages  \\\n",
       "0          2  jour.1295566  Fragmenta entomologica    213-372   \n",
       "1  undefined     undefined               undefined    261-285   \n",
       "2         12  jour.1032549            PLoS Biology   e1000272   \n",
       "3         12  jour.1037553                PLoS ONE      e8245   \n",
       "4         12  jour.1036021             ChemMedChem  1957-1957   \n",
       "\n",
       "                                               title     type volume  year  \n",
       "0  LE ZANZARE ITALIANE: GENERALITÀ E IDENTIFICAZI...  article     41  2009  \n",
       "1      Determining the Activity of Mucosal Adjuvants  chapter    626  2009  \n",
       "2  Transglutaminase-Mediated Semen Coagulation Co...  article      7  2009  \n",
       "3  IgG Autoantibody to Brain Beta Tubulin III Ass...  article      4  2009  \n",
       "4  Cover Picture: Interaction of Artemisinins wit...  article      4  2009  "
      ]
     },
     "execution_count": 46,
     "metadata": {
      "tags": []
     },
     "output_type": "execute_result"
    }
   ],
   "source": [
    "df.head(5)"
   ]
  },
  {
   "cell_type": "code",
   "execution_count": null,
   "metadata": {
    "Collapsed": "false",
    "colab": {},
    "colab_type": "code",
    "id": "_FxIIoLmwYik",
    "outputId": "ea7fb316-3638-4784-abbc-23848d01a874"
   },
   "outputs": [
    {
     "data": {
      "application/vnd.plotly.v1+json": {
       "config": {
        "linkText": "Export to plot.ly",
        "plotlyServerURL": "https://plot.ly",
        "showLink": false
       },
       "data": [
        {
         "alignmentgroup": "True",
         "bingroup": "x",
         "hoverlabel": {
          "namelength": 0
         },
         "hovertemplate": "type=article<br>year=%{x}<br>count of id=%{y}",
         "legendgroup": "type=article",
         "marker": {
          "color": "#636efa"
         },
         "name": "type=article",
         "offsetgroup": "type=article",
         "orientation": "v",
         "showlegend": true,
         "type": "histogram",
         "uid": "088607b1-d1af-4f3a-bf3a-39f97f585e90",
         "x": [
          2009,
          2009,
          2009,
          2009,
          2009,
          2009,
          2009,
          2009,
          2009,
          2009,
          2009,
          2009,
          2009,
          2009,
          2009,
          2009,
          2009,
          2009,
          2009,
          2009,
          2009,
          2009,
          2009,
          2009,
          2009,
          2009,
          2009,
          2009,
          2009,
          2009,
          2009,
          2009,
          2009,
          2009,
          2009,
          2009,
          2009,
          2009,
          2009,
          2009,
          2009,
          2009,
          2009,
          2009,
          2009,
          2009,
          2009,
          2009,
          2009,
          2009,
          2009,
          2009,
          2009,
          2009,
          2009,
          2009,
          2009,
          2009,
          2009,
          2009,
          2009,
          2009,
          2009,
          2009,
          2009,
          2009,
          2009,
          2009,
          2009,
          2009,
          2009,
          2009,
          2009,
          2009,
          2009,
          2009,
          2009,
          2009,
          2009,
          2009,
          2009,
          2009,
          2009,
          2009,
          2009,
          2009,
          2009,
          2009,
          2009,
          2009,
          2009,
          2009,
          2009,
          2009,
          2009,
          2009,
          2009,
          2009,
          2009,
          2009,
          2009,
          2009,
          2009,
          2009,
          2009,
          2009,
          2009,
          2009,
          2009,
          2009,
          2009,
          2009,
          2009,
          2009,
          2009,
          2009,
          2009,
          2009,
          2009,
          2009,
          2009,
          2009,
          2009,
          2009,
          2009,
          2009,
          2009,
          2009,
          2009,
          2009,
          2009,
          2009,
          2009,
          2009,
          2009,
          2009,
          2009,
          2009,
          2009,
          2009,
          2009,
          2009,
          2009,
          2009,
          2009,
          2009,
          2009,
          2009,
          2009,
          2009,
          2009,
          2009,
          2009,
          2009,
          2009,
          2009,
          2009,
          2009,
          2009,
          2009,
          2009,
          2009,
          2009,
          2009,
          2009,
          2009,
          2009,
          2009,
          2009,
          2009,
          2009,
          2009,
          2009,
          2009,
          2009,
          2009,
          2009,
          2009,
          2009,
          2009,
          2009,
          2009,
          2009,
          2009,
          2009,
          2009,
          2009,
          2009,
          2009,
          2009,
          2009,
          2009,
          2009,
          2009,
          2009,
          2009,
          2009,
          2009,
          2009,
          2009,
          2009,
          2009,
          2009,
          2009,
          2009,
          2009,
          2009,
          2009,
          2009,
          2009,
          2009,
          2009,
          2009,
          2009,
          2009,
          2009,
          2009,
          2009,
          2009,
          2009,
          2009,
          2009,
          2009,
          2009,
          2009,
          2009,
          2009,
          2009,
          2009,
          2009,
          2009,
          2009,
          2009,
          2009,
          2009,
          2009,
          2009,
          2009,
          2009,
          2009,
          2009,
          2009,
          2009,
          2009,
          2009,
          2009,
          2009,
          2009,
          2009,
          2009,
          2009,
          2009,
          2009,
          2009,
          2009,
          2009,
          2009,
          2009,
          2009,
          2009,
          2009,
          2009,
          2009,
          2009,
          2009,
          2009,
          2009,
          2009,
          2009,
          2009,
          2009,
          2009,
          2009,
          2009,
          2009,
          2009,
          2009,
          2009,
          2009,
          2009,
          2009,
          2009,
          2009,
          2009,
          2009,
          2009,
          2008,
          2008,
          2008,
          2008,
          2008,
          2008,
          2008,
          2008,
          2008,
          2008,
          2008,
          2008,
          2008,
          2008,
          2008,
          2008,
          2008,
          2008,
          2008,
          2008,
          2008,
          2008,
          2008,
          2008,
          2008,
          2008,
          2008,
          2008,
          2008,
          2008,
          2008,
          2008,
          2008,
          2008,
          2008,
          2008,
          2008,
          2008,
          2008,
          2008,
          2008,
          2008,
          2008,
          2008,
          2008,
          2008,
          2008,
          2008,
          2008,
          2008,
          2008,
          2008,
          2008,
          2008,
          2008,
          2008,
          2008,
          2008,
          2008,
          2008,
          2008,
          2008,
          2008,
          2008,
          2008,
          2008,
          2008,
          2008,
          2008,
          2008,
          2008,
          2008,
          2008,
          2008,
          2008,
          2008,
          2008,
          2008,
          2008,
          2008,
          2008,
          2008,
          2008,
          2008,
          2008,
          2008,
          2008,
          2008,
          2008,
          2008,
          2008,
          2008,
          2008,
          2008,
          2008,
          2008,
          2008,
          2008,
          2008,
          2008,
          2008,
          2008,
          2008,
          2008,
          2008,
          2008,
          2008,
          2008,
          2008,
          2008,
          2008,
          2008,
          2008,
          2008,
          2008,
          2008,
          2008,
          2008,
          2008,
          2008,
          2008,
          2008,
          2008,
          2008,
          2008,
          2008,
          2008,
          2008,
          2008,
          2008,
          2008,
          2008,
          2008,
          2008,
          2008,
          2008,
          2008,
          2008,
          2008,
          2008,
          2008,
          2008,
          2008,
          2008,
          2008,
          2008,
          2008,
          2008,
          2008,
          2008,
          2008,
          2008,
          2008,
          2008,
          2008,
          2008,
          2008,
          2008,
          2008
         ],
         "xaxis": "x",
         "y": [
          "pub.1032403232",
          "pub.1052568629",
          "pub.1007487910",
          "pub.1026635135",
          "pub.1006821510",
          "pub.1028854617",
          "pub.1019132833",
          "pub.1021970815",
          "pub.1014504273",
          "pub.1037800271",
          "pub.1034002107",
          "pub.1032683029",
          "pub.1078043275",
          "pub.1009009163",
          "pub.1016872792",
          "pub.1035451518",
          "pub.1018616185",
          "pub.1040933655",
          "pub.1029106827",
          "pub.1025973753",
          "pub.1008611921",
          "pub.1044911973",
          "pub.1015523549",
          "pub.1008855340",
          "pub.1004240388",
          "pub.1045917204",
          "pub.1022742274",
          "pub.1019306297",
          "pub.1028706032",
          "pub.1038263226",
          "pub.1059267554",
          "pub.1053506395",
          "pub.1044093441",
          "pub.1000412193",
          "pub.1048484678",
          "pub.1028820311",
          "pub.1029410026",
          "pub.1059324702",
          "pub.1025839316",
          "pub.1049748462",
          "pub.1008846733",
          "pub.1078043252",
          "pub.1078043278",
          "pub.1002922723",
          "pub.1011246061",
          "pub.1002447086",
          "pub.1025192324",
          "pub.1024792872",
          "pub.1000214801",
          "pub.1045879857",
          "pub.1023624955",
          "pub.1022178351",
          "pub.1033621462",
          "pub.1003418767",
          "pub.1078043266",
          "pub.1016025665",
          "pub.1053287199",
          "pub.1007935574",
          "pub.1006431482",
          "pub.1050837624",
          "pub.1040251532",
          "pub.1006271847",
          "pub.1047413957",
          "pub.1029333938",
          "pub.1045067677",
          "pub.1004235060",
          "pub.1039059010",
          "pub.1006130530",
          "pub.1038989604",
          "pub.1028347426",
          "pub.1004032536",
          "pub.1042697006",
          "pub.1016287978",
          "pub.1053535619",
          "pub.1044509991",
          "pub.1084417989",
          "pub.1041551172",
          "pub.1019243015",
          "pub.1029671500",
          "pub.1041608406",
          "pub.1025704569",
          "pub.1017993354",
          "pub.1077964847",
          "pub.1018315654",
          "pub.1040985388",
          "pub.1015445070",
          "pub.1020715611",
          "pub.1010526636",
          "pub.1019154763",
          "pub.1012663229",
          "pub.1044331506",
          "pub.1041193347",
          "pub.1037778902",
          "pub.1032609991",
          "pub.1046114574",
          "pub.1047246365",
          "pub.1046148433",
          "pub.1010057317",
          "pub.1001187066",
          "pub.1001349774",
          "pub.1023807536",
          "pub.1003943331",
          "pub.1077978931",
          "pub.1020474446",
          "pub.1035381055",
          "pub.1000690158",
          "pub.1012838810",
          "pub.1057051465",
          "pub.1077972657",
          "pub.1021164720",
          "pub.1006592382",
          "pub.1020647821",
          "pub.1004142261",
          "pub.1000248631",
          "pub.1023493507",
          "pub.1033283386",
          "pub.1042687769",
          "pub.1078022978",
          "pub.1013446136",
          "pub.1047363911",
          "pub.1014698109",
          "pub.1051127574",
          "pub.1028098630",
          "pub.1049560247",
          "pub.1024990457",
          "pub.1004950111",
          "pub.1017659093",
          "pub.1013700632",
          "pub.1077965644",
          "pub.1051949698",
          "pub.1007057882",
          "pub.1044688860",
          "pub.1040510850",
          "pub.1019930142",
          "pub.1021211748",
          "pub.1038448988",
          "pub.1032712225",
          "pub.1021739351",
          "pub.1010288529",
          "pub.1034730288",
          "pub.1061540726",
          "pub.1010513006",
          "pub.1050002549",
          "pub.1004728063",
          "pub.1009899288",
          "pub.1004443623",
          "pub.1048131701",
          "pub.1024606042",
          "pub.1019250152",
          "pub.1046799287",
          "pub.1036777909",
          "pub.1001771502",
          "pub.1040423771",
          "pub.1005092154",
          "pub.1053494222",
          "pub.1038792360",
          "pub.1015447961",
          "pub.1038575974",
          "pub.1062694188",
          "pub.1050751929",
          "pub.1052163926",
          "pub.1022011200",
          "pub.1049618220",
          "pub.1035743740",
          "pub.1047421069",
          "pub.1027321445",
          "pub.1040449072",
          "pub.1046635508",
          "pub.1010641532",
          "pub.1050142343",
          "pub.1053814390",
          "pub.1022159533",
          "pub.1016537326",
          "pub.1048877946",
          "pub.1040094287",
          "pub.1034456909",
          "pub.1028142582",
          "pub.1005909256",
          "pub.1049801409",
          "pub.1029461255",
          "pub.1033495538",
          "pub.1008137916",
          "pub.1062460037",
          "pub.1006867507",
          "pub.1034519695",
          "pub.1077893234",
          "pub.1013311131",
          "pub.1015205346",
          "pub.1001521352",
          "pub.1035951248",
          "pub.1005140647",
          "pub.1002333931",
          "pub.1037381754",
          "pub.1015760639",
          "pub.1042433637",
          "pub.1042272392",
          "pub.1030112208",
          "pub.1020858930",
          "pub.1002455191",
          "pub.1050544699",
          "pub.1027663252",
          "pub.1040243910",
          "pub.1044152175",
          "pub.1024999945",
          "pub.1035085855",
          "pub.1010671520",
          "pub.1029830986",
          "pub.1040571197",
          "pub.1013879729",
          "pub.1044235419",
          "pub.1021132133",
          "pub.1036505489",
          "pub.1019137201",
          "pub.1008985535",
          "pub.1006815927",
          "pub.1021666774",
          "pub.1031520099",
          "pub.1027149830",
          "pub.1062458978",
          "pub.1062457777",
          "pub.1049075383",
          "pub.1026178187",
          "pub.1048841058",
          "pub.1030429735",
          "pub.1043683218",
          "pub.1031264770",
          "pub.1012080377",
          "pub.1008268771",
          "pub.1003643418",
          "pub.1028348139",
          "pub.1041030563",
          "pub.1051237550",
          "pub.1020486300",
          "pub.1007659006",
          "pub.1017650584",
          "pub.1028184892",
          "pub.1018662428",
          "pub.1007218371",
          "pub.1077884742",
          "pub.1062684030",
          "pub.1039939152",
          "pub.1025068644",
          "pub.1016602983",
          "pub.1046705580",
          "pub.1003435542",
          "pub.1026074425",
          "pub.1017647041",
          "pub.1060340680",
          "pub.1029860742",
          "pub.1010639665",
          "pub.1052972474",
          "pub.1033365432",
          "pub.1010607014",
          "pub.1039393742",
          "pub.1006957372",
          "pub.1018945850",
          "pub.1018262393",
          "pub.1038644474",
          "pub.1019372328",
          "pub.1041684492",
          "pub.1044199285",
          "pub.1020804815",
          "pub.1005440149",
          "pub.1049490543",
          "pub.1000892536",
          "pub.1047188908",
          "pub.1047293390",
          "pub.1029960745",
          "pub.1036733276",
          "pub.1042397642",
          "pub.1005573848",
          "pub.1002102434",
          "pub.1040540197",
          "pub.1047402928",
          "pub.1023768061",
          "pub.1028547479",
          "pub.1030205123",
          "pub.1015969994",
          "pub.1071361632",
          "pub.1041139955",
          "pub.1047013413",
          "pub.1017732938",
          "pub.1035764793",
          "pub.1006888634",
          "pub.1015683947",
          "pub.1029541331",
          "pub.1024376830",
          "pub.1039407787",
          "pub.1029699125",
          "pub.1048567536",
          "pub.1047941789",
          "pub.1043086720",
          "pub.1015096065",
          "pub.1041830597",
          "pub.1053678151",
          "pub.1030389793",
          "pub.1043131446",
          "pub.1034575724",
          "pub.1000749997",
          "pub.1014409708",
          "pub.1004835929",
          "pub.1022759138",
          "pub.1047868967",
          "pub.1043340457",
          "pub.1028336708",
          "pub.1017478378",
          "pub.1010550899",
          "pub.1112982193",
          "pub.1017134427",
          "pub.1035535932",
          "pub.1027411215",
          "pub.1006847927",
          "pub.1014075126",
          "pub.1078031901",
          "pub.1077837020",
          "pub.1112991156",
          "pub.1044877031",
          "pub.1022084959",
          "pub.1000803618",
          "pub.1047984850",
          "pub.1112987053",
          "pub.1047035337",
          "pub.1024943957",
          "pub.1026815362",
          "pub.1044611416",
          "pub.1057051440",
          "pub.1026596648",
          "pub.1040433754",
          "pub.1021596516",
          "pub.1019682862",
          "pub.1052400460",
          "pub.1011508610",
          "pub.1019533591",
          "pub.1020228908",
          "pub.1048357776",
          "pub.1033428116",
          "pub.1011849750",
          "pub.1041912835",
          "pub.1011673918",
          "pub.1002886075",
          "pub.1047084305",
          "pub.1007300652",
          "pub.1050850987",
          "pub.1016644593",
          "pub.1046412051",
          "pub.1077727895",
          "pub.1002731138",
          "pub.1017723430",
          "pub.1002834180",
          "pub.1039391607",
          "pub.1040045290",
          "pub.1050290345",
          "pub.1048798866",
          "pub.1046381807",
          "pub.1005874439",
          "pub.1016305785",
          "pub.1042297370",
          "pub.1033516068",
          "pub.1077831144",
          "pub.1018131981",
          "pub.1036048918",
          "pub.1050979669",
          "pub.1012709793",
          "pub.1049651577",
          "pub.1027450834",
          "pub.1000190747",
          "pub.1004610655",
          "pub.1018382550",
          "pub.1038441499",
          "pub.1038181239",
          "pub.1010771629",
          "pub.1031220610",
          "pub.1047520285",
          "pub.1016687915",
          "pub.1045364616",
          "pub.1002015294",
          "pub.1028855700",
          "pub.1015081855",
          "pub.1018661761",
          "pub.1015236059",
          "pub.1037066941",
          "pub.1001578024",
          "pub.1068333484",
          "pub.1026278112",
          "pub.1026297374",
          "pub.1032088611",
          "pub.1028851896",
          "pub.1032377717",
          "pub.1046405415",
          "pub.1040154248",
          "pub.1012026230",
          "pub.1053443873",
          "pub.1012297185",
          "pub.1031790712",
          "pub.1027283847",
          "pub.1022180359",
          "pub.1021471259",
          "pub.1041136141",
          "pub.1002364607",
          "pub.1004348941",
          "pub.1045391371",
          "pub.1034588817",
          "pub.1042145078",
          "pub.1024542418",
          "pub.1077671685",
          "pub.1052028172",
          "pub.1010546622",
          "pub.1022655749",
          "pub.1045822722",
          "pub.1021036103",
          "pub.1028717148",
          "pub.1032102979",
          "pub.1052522372",
          "pub.1028044657",
          "pub.1027150715",
          "pub.1030159828",
          "pub.1009944356",
          "pub.1048784662",
          "pub.1047728765",
          "pub.1014316491",
          "pub.1017829741",
          "pub.1025977739",
          "pub.1019744014",
          "pub.1059273086",
          "pub.1038497983",
          "pub.1011194957",
          "pub.1001014497",
          "pub.1004775956",
          "pub.1036481048",
          "pub.1028305000",
          "pub.1052772605",
          "pub.1018059563",
          "pub.1029431711",
          "pub.1044451126",
          "pub.1077687903",
          "pub.1043678684",
          "pub.1077687900",
          "pub.1077687901",
          "pub.1024945011",
          "pub.1077687899",
          "pub.1024785954",
          "pub.1040598371",
          "pub.1100992048",
          "pub.1040934728",
          "pub.1041116696"
         ],
         "yaxis": "y"
        },
        {
         "alignmentgroup": "True",
         "bingroup": "x",
         "hoverlabel": {
          "namelength": 0
         },
         "hovertemplate": "type=chapter<br>year=%{x}<br>count of id=%{y}",
         "legendgroup": "type=chapter",
         "marker": {
          "color": "#EF553B"
         },
         "name": "type=chapter",
         "offsetgroup": "type=chapter",
         "orientation": "v",
         "showlegend": true,
         "type": "histogram",
         "uid": "48f508f1-2aab-4bfc-9809-9899bc450a76",
         "x": [
          2009,
          2009,
          2009,
          2009,
          2009,
          2009,
          2009,
          2009,
          2009,
          2009,
          2009,
          2009,
          2009,
          2009,
          2009,
          2009,
          2009,
          2009,
          2009,
          2009,
          2009,
          2009,
          2009,
          2009,
          2009,
          2009,
          2009,
          2009,
          2009,
          2009,
          2009,
          2009,
          2009,
          2009,
          2009,
          2009,
          2009,
          2009,
          2009,
          2009,
          2009,
          2009,
          2009,
          2009,
          2009,
          2009,
          2009,
          2009,
          2009,
          2008,
          2008,
          2008,
          2008
         ],
         "xaxis": "x",
         "y": [
          "pub.1004146769",
          "pub.1028411229",
          "pub.1040565106",
          "pub.1020536493",
          "pub.1017919852",
          "pub.1049213925",
          "pub.1041926479",
          "pub.1012779983",
          "pub.1014147798",
          "pub.1021449791",
          "pub.1009564503",
          "pub.1039456929",
          "pub.1017048159",
          "pub.1025361239",
          "pub.1018744226",
          "pub.1031475206",
          "pub.1038210389",
          "pub.1000590205",
          "pub.1017828106",
          "pub.1020712106",
          "pub.1005836680",
          "pub.1019468789",
          "pub.1021142898",
          "pub.1021399905",
          "pub.1026885405",
          "pub.1008502779",
          "pub.1039593877",
          "pub.1012772463",
          "pub.1022548336",
          "pub.1003671243",
          "pub.1049984662",
          "pub.1019969028",
          "pub.1006270416",
          "pub.1017378181",
          "pub.1009889400",
          "pub.1034479834",
          "pub.1002069875",
          "pub.1039421001",
          "pub.1002789428",
          "pub.1037051307",
          "pub.1019996561",
          "pub.1042437863",
          "pub.1053671890",
          "pub.1006999113",
          "pub.1018189879",
          "pub.1044579992",
          "pub.1005625481",
          "pub.1028352079",
          "pub.1053346196",
          "pub.1043800498",
          "pub.1049897520",
          "pub.1036471558",
          "pub.1015366798"
         ],
         "yaxis": "y"
        },
        {
         "alignmentgroup": "True",
         "bingroup": "x",
         "hoverlabel": {
          "namelength": 0
         },
         "hovertemplate": "type=proceeding<br>year=%{x}<br>count of id=%{y}",
         "legendgroup": "type=proceeding",
         "marker": {
          "color": "#00cc96"
         },
         "name": "type=proceeding",
         "offsetgroup": "type=proceeding",
         "orientation": "v",
         "showlegend": true,
         "type": "histogram",
         "uid": "1287a3e4-66d3-414d-b71c-d71828158d95",
         "x": [
          2009
         ],
         "xaxis": "x",
         "y": [
          "pub.1026196330"
         ],
         "yaxis": "y"
        },
        {
         "alignmentgroup": "True",
         "bingroup": "x",
         "hoverlabel": {
          "namelength": 0
         },
         "hovertemplate": "type=monograph<br>year=%{x}<br>count of id=%{y}",
         "legendgroup": "type=monograph",
         "marker": {
          "color": "#ab63fa"
         },
         "name": "type=monograph",
         "offsetgroup": "type=monograph",
         "orientation": "v",
         "showlegend": true,
         "type": "histogram",
         "uid": "1b72adcd-d5fc-4aa9-a870-2528309e8498",
         "x": [
          2009
         ],
         "xaxis": "x",
         "y": [
          "pub.1022726774"
         ],
         "yaxis": "y"
        }
       ],
       "layout": {
        "autosize": true,
        "barmode": "relative",
        "grid": {
         "xaxes": [
          "x"
         ],
         "xgap": 0.1,
         "xside": "bottom",
         "yaxes": [
          "y"
         ],
         "ygap": 0.1,
         "yside": "left"
        },
        "legend": {
         "tracegroupgap": 0
        },
        "margin": {
         "t": 60
        },
        "template": {
         "data": {
          "bar": [
           {
            "marker": {
             "line": {
              "color": "#E5ECF6",
              "width": 0.5
             }
            },
            "type": "bar"
           }
          ],
          "barpolar": [
           {
            "marker": {
             "line": {
              "color": "#E5ECF6",
              "width": 0.5
             }
            },
            "type": "barpolar"
           }
          ],
          "carpet": [
           {
            "aaxis": {
             "endlinecolor": "#2a3f5f",
             "gridcolor": "white",
             "linecolor": "white",
             "minorgridcolor": "white",
             "startlinecolor": "#2a3f5f"
            },
            "baxis": {
             "endlinecolor": "#2a3f5f",
             "gridcolor": "white",
             "linecolor": "white",
             "minorgridcolor": "white",
             "startlinecolor": "#2a3f5f"
            },
            "type": "carpet"
           }
          ],
          "choropleth": [
           {
            "colorbar": {
             "outlinewidth": 0,
             "ticks": ""
            },
            "type": "choropleth"
           }
          ],
          "contour": [
           {
            "colorbar": {
             "outlinewidth": 0,
             "ticks": ""
            },
            "colorscale": [
             [
              0,
              "#0508b8"
             ],
             [
              0.0893854748603352,
              "#1910d8"
             ],
             [
              0.1787709497206704,
              "#3c19f0"
             ],
             [
              0.2681564245810056,
              "#6b1cfb"
             ],
             [
              0.3575418994413408,
              "#981cfd"
             ],
             [
              0.44692737430167595,
              "#bf1cfd"
             ],
             [
              0.5363128491620112,
              "#dd2bfd"
             ],
             [
              0.6256983240223464,
              "#f246fe"
             ],
             [
              0.7150837988826816,
              "#fc67fd"
             ],
             [
              0.8044692737430168,
              "#fe88fc"
             ],
             [
              0.8938547486033519,
              "#fea5fd"
             ],
             [
              0.9832402234636871,
              "#febefe"
             ],
             [
              1,
              "#fec3fe"
             ]
            ],
            "type": "contour"
           }
          ],
          "contourcarpet": [
           {
            "colorbar": {
             "outlinewidth": 0,
             "ticks": ""
            },
            "type": "contourcarpet"
           }
          ],
          "heatmap": [
           {
            "colorbar": {
             "outlinewidth": 0,
             "ticks": ""
            },
            "colorscale": [
             [
              0,
              "#0508b8"
             ],
             [
              0.0893854748603352,
              "#1910d8"
             ],
             [
              0.1787709497206704,
              "#3c19f0"
             ],
             [
              0.2681564245810056,
              "#6b1cfb"
             ],
             [
              0.3575418994413408,
              "#981cfd"
             ],
             [
              0.44692737430167595,
              "#bf1cfd"
             ],
             [
              0.5363128491620112,
              "#dd2bfd"
             ],
             [
              0.6256983240223464,
              "#f246fe"
             ],
             [
              0.7150837988826816,
              "#fc67fd"
             ],
             [
              0.8044692737430168,
              "#fe88fc"
             ],
             [
              0.8938547486033519,
              "#fea5fd"
             ],
             [
              0.9832402234636871,
              "#febefe"
             ],
             [
              1,
              "#fec3fe"
             ]
            ],
            "type": "heatmap"
           }
          ],
          "heatmapgl": [
           {
            "colorbar": {
             "outlinewidth": 0,
             "ticks": ""
            },
            "type": "heatmapgl"
           }
          ],
          "histogram": [
           {
            "marker": {
             "colorbar": {
              "outlinewidth": 0,
              "ticks": ""
             }
            },
            "type": "histogram"
           }
          ],
          "histogram2d": [
           {
            "colorbar": {
             "outlinewidth": 0,
             "ticks": ""
            },
            "colorscale": [
             [
              0,
              "#0508b8"
             ],
             [
              0.0893854748603352,
              "#1910d8"
             ],
             [
              0.1787709497206704,
              "#3c19f0"
             ],
             [
              0.2681564245810056,
              "#6b1cfb"
             ],
             [
              0.3575418994413408,
              "#981cfd"
             ],
             [
              0.44692737430167595,
              "#bf1cfd"
             ],
             [
              0.5363128491620112,
              "#dd2bfd"
             ],
             [
              0.6256983240223464,
              "#f246fe"
             ],
             [
              0.7150837988826816,
              "#fc67fd"
             ],
             [
              0.8044692737430168,
              "#fe88fc"
             ],
             [
              0.8938547486033519,
              "#fea5fd"
             ],
             [
              0.9832402234636871,
              "#febefe"
             ],
             [
              1,
              "#fec3fe"
             ]
            ],
            "type": "histogram2d"
           }
          ],
          "histogram2dcontour": [
           {
            "colorbar": {
             "outlinewidth": 0,
             "ticks": ""
            },
            "colorscale": [
             [
              0,
              "#0508b8"
             ],
             [
              0.0893854748603352,
              "#1910d8"
             ],
             [
              0.1787709497206704,
              "#3c19f0"
             ],
             [
              0.2681564245810056,
              "#6b1cfb"
             ],
             [
              0.3575418994413408,
              "#981cfd"
             ],
             [
              0.44692737430167595,
              "#bf1cfd"
             ],
             [
              0.5363128491620112,
              "#dd2bfd"
             ],
             [
              0.6256983240223464,
              "#f246fe"
             ],
             [
              0.7150837988826816,
              "#fc67fd"
             ],
             [
              0.8044692737430168,
              "#fe88fc"
             ],
             [
              0.8938547486033519,
              "#fea5fd"
             ],
             [
              0.9832402234636871,
              "#febefe"
             ],
             [
              1,
              "#fec3fe"
             ]
            ],
            "type": "histogram2dcontour"
           }
          ],
          "mesh3d": [
           {
            "colorbar": {
             "outlinewidth": 0,
             "ticks": ""
            },
            "type": "mesh3d"
           }
          ],
          "parcoords": [
           {
            "line": {
             "colorbar": {
              "outlinewidth": 0,
              "ticks": ""
             }
            },
            "type": "parcoords"
           }
          ],
          "scatter": [
           {
            "marker": {
             "colorbar": {
              "outlinewidth": 0,
              "ticks": ""
             }
            },
            "type": "scatter"
           }
          ],
          "scatter3d": [
           {
            "marker": {
             "colorbar": {
              "outlinewidth": 0,
              "ticks": ""
             }
            },
            "type": "scatter3d"
           }
          ],
          "scattercarpet": [
           {
            "marker": {
             "colorbar": {
              "outlinewidth": 0,
              "ticks": ""
             }
            },
            "type": "scattercarpet"
           }
          ],
          "scattergeo": [
           {
            "marker": {
             "colorbar": {
              "outlinewidth": 0,
              "ticks": ""
             }
            },
            "type": "scattergeo"
           }
          ],
          "scattergl": [
           {
            "marker": {
             "colorbar": {
              "outlinewidth": 0,
              "ticks": ""
             }
            },
            "type": "scattergl"
           }
          ],
          "scattermapbox": [
           {
            "marker": {
             "colorbar": {
              "outlinewidth": 0,
              "ticks": ""
             }
            },
            "type": "scattermapbox"
           }
          ],
          "scatterpolar": [
           {
            "marker": {
             "colorbar": {
              "outlinewidth": 0,
              "ticks": ""
             }
            },
            "type": "scatterpolar"
           }
          ],
          "scatterpolargl": [
           {
            "marker": {
             "colorbar": {
              "outlinewidth": 0,
              "ticks": ""
             }
            },
            "type": "scatterpolargl"
           }
          ],
          "scatterternary": [
           {
            "marker": {
             "colorbar": {
              "outlinewidth": 0,
              "ticks": ""
             }
            },
            "type": "scatterternary"
           }
          ],
          "surface": [
           {
            "colorbar": {
             "outlinewidth": 0,
             "ticks": ""
            },
            "type": "surface"
           }
          ],
          "table": [
           {
            "cells": {
             "fill": {
              "color": "#EBF0F8"
             },
             "line": {
              "color": "white"
             }
            },
            "header": {
             "fill": {
              "color": "#C8D4E3"
             },
             "line": {
              "color": "white"
             }
            },
            "type": "table"
           }
          ]
         },
         "layout": {
          "annotationdefaults": {
           "arrowcolor": "#506784",
           "arrowhead": 0,
           "arrowwidth": 1
          },
          "colorscale": {
           "diverging": [
            [
             0,
             "#8e0152"
            ],
            [
             0.1,
             "#c51b7d"
            ],
            [
             0.2,
             "#de77ae"
            ],
            [
             0.3,
             "#f1b6da"
            ],
            [
             0.4,
             "#fde0ef"
            ],
            [
             0.5,
             "#f7f7f7"
            ],
            [
             0.6,
             "#e6f5d0"
            ],
            [
             0.7,
             "#b8e186"
            ],
            [
             0.8,
             "#7fbc41"
            ],
            [
             0.9,
             "#4d9221"
            ],
            [
             1,
             "#276419"
            ]
           ],
           "sequential": [
            [
             0,
             "#0508b8"
            ],
            [
             0.0893854748603352,
             "#1910d8"
            ],
            [
             0.1787709497206704,
             "#3c19f0"
            ],
            [
             0.2681564245810056,
             "#6b1cfb"
            ],
            [
             0.3575418994413408,
             "#981cfd"
            ],
            [
             0.44692737430167595,
             "#bf1cfd"
            ],
            [
             0.5363128491620112,
             "#dd2bfd"
            ],
            [
             0.6256983240223464,
             "#f246fe"
            ],
            [
             0.7150837988826816,
             "#fc67fd"
            ],
            [
             0.8044692737430168,
             "#fe88fc"
            ],
            [
             0.8938547486033519,
             "#fea5fd"
            ],
            [
             0.9832402234636871,
             "#febefe"
            ],
            [
             1,
             "#fec3fe"
            ]
           ],
           "sequentialminus": [
            [
             0,
             "#0508b8"
            ],
            [
             0.0893854748603352,
             "#1910d8"
            ],
            [
             0.1787709497206704,
             "#3c19f0"
            ],
            [
             0.2681564245810056,
             "#6b1cfb"
            ],
            [
             0.3575418994413408,
             "#981cfd"
            ],
            [
             0.44692737430167595,
             "#bf1cfd"
            ],
            [
             0.5363128491620112,
             "#dd2bfd"
            ],
            [
             0.6256983240223464,
             "#f246fe"
            ],
            [
             0.7150837988826816,
             "#fc67fd"
            ],
            [
             0.8044692737430168,
             "#fe88fc"
            ],
            [
             0.8938547486033519,
             "#fea5fd"
            ],
            [
             0.9832402234636871,
             "#febefe"
            ],
            [
             1,
             "#fec3fe"
            ]
           ]
          },
          "colorway": [
           "#636efa",
           "#EF553B",
           "#00cc96",
           "#ab63fa",
           "#19d3f3",
           "#e763fa",
           "#FECB52",
           "#FFA15A",
           "#FF6692",
           "#B6E880"
          ],
          "font": {
           "color": "#2a3f5f"
          },
          "geo": {
           "bgcolor": "white",
           "lakecolor": "white",
           "landcolor": "#E5ECF6",
           "showlakes": true,
           "showland": true,
           "subunitcolor": "white"
          },
          "hoverlabel": {
           "align": "left"
          },
          "hovermode": "closest",
          "mapbox": {
           "style": "light"
          },
          "paper_bgcolor": "white",
          "plot_bgcolor": "#E5ECF6",
          "polar": {
           "angularaxis": {
            "gridcolor": "white",
            "linecolor": "white",
            "ticks": ""
           },
           "bgcolor": "#E5ECF6",
           "radialaxis": {
            "gridcolor": "white",
            "linecolor": "white",
            "ticks": ""
           }
          },
          "scene": {
           "xaxis": {
            "backgroundcolor": "#E5ECF6",
            "gridcolor": "white",
            "gridwidth": 2,
            "linecolor": "white",
            "showbackground": true,
            "ticks": "",
            "zerolinecolor": "white"
           },
           "yaxis": {
            "backgroundcolor": "#E5ECF6",
            "gridcolor": "white",
            "gridwidth": 2,
            "linecolor": "white",
            "showbackground": true,
            "ticks": "",
            "zerolinecolor": "white"
           },
           "zaxis": {
            "backgroundcolor": "#E5ECF6",
            "gridcolor": "white",
            "gridwidth": 2,
            "linecolor": "white",
            "showbackground": true,
            "ticks": "",
            "zerolinecolor": "white"
           }
          },
          "shapedefaults": {
           "fillcolor": "#506784",
           "line": {
            "width": 0
           },
           "opacity": 0.4
          },
          "ternary": {
           "aaxis": {
            "gridcolor": "white",
            "linecolor": "white",
            "ticks": ""
           },
           "baxis": {
            "gridcolor": "white",
            "linecolor": "white",
            "ticks": ""
           },
           "bgcolor": "#E5ECF6",
           "caxis": {
            "gridcolor": "white",
            "linecolor": "white",
            "ticks": ""
           }
          },
          "title": {
           "x": 0.05
          },
          "xaxis": {
           "automargin": true,
           "gridcolor": "white",
           "linecolor": "white",
           "ticks": "",
           "zerolinecolor": "white",
           "zerolinewidth": 2
          },
          "yaxis": {
           "automargin": true,
           "gridcolor": "white",
           "linecolor": "white",
           "ticks": "",
           "zerolinecolor": "white",
           "zerolinewidth": 2
          }
         }
        },
        "xaxis": {
         "autorange": true,
         "range": [
          2007.5,
          2009.5
         ],
         "title": {
          "text": "year"
         },
         "type": "linear"
        },
        "yaxis": {
         "autorange": true,
         "range": [
          0,
          354.7368421052632
         ],
         "title": {
          "text": "count of id"
         },
         "type": "linear"
        }
       }
      },
      "image/png": "[encoded data removed]",
      "text/html": [
       "<div>\n",
       "        \n",
       "        \n",
       "            <div id=\"9259d16f-2fd9-483c-bd67-e54854f8265b\" class=\"plotly-graph-div\" style=\"height:600px; width:100%;\"></div>\n",
       "            <script type=\"text/javascript\">\n",
       "                require([\"plotly\"], function(Plotly) {\n",
       "                    window.PLOTLYENV=window.PLOTLYENV || {};\n",
       "                    window.PLOTLYENV.BASE_URL='https://plot.ly';\n",
       "                    \n",
       "                if (document.getElementById(\"9259d16f-2fd9-483c-bd67-e54854f8265b\")) {\n",
       "                    Plotly.newPlot(\n",
       "                        '9259d16f-2fd9-483c-bd67-e54854f8265b',\n",
       "                        [{\"alignmentgroup\": \"True\", \"bingroup\": \"x\", \"hoverlabel\": {\"namelength\": 0}, \"hovertemplate\": \"type=article<br>year=%{x}<br>count of id=%{y}\", \"legendgroup\": \"type=article\", \"marker\": {\"color\": \"#636efa\"}, \"name\": \"type=article\", \"offsetgroup\": \"type=article\", \"orientation\": \"v\", \"showlegend\": true, \"type\": \"histogram\", \"uid\": \"088607b1-d1af-4f3a-bf3a-39f97f585e90\", \"x\": [2009, 2009, 2009, 2009, 2009, 2009, 2009, 2009, 2009, 2009, 2009, 2009, 2009, 2009, 2009, 2009, 2009, 2009, 2009, 2009, 2009, 2009, 2009, 2009, 2009, 2009, 2009, 2009, 2009, 2009, 2009, 2009, 2009, 2009, 2009, 2009, 2009, 2009, 2009, 2009, 2009, 2009, 2009, 2009, 2009, 2009, 2009, 2009, 2009, 2009, 2009, 2009, 2009, 2009, 2009, 2009, 2009, 2009, 2009, 2009, 2009, 2009, 2009, 2009, 2009, 2009, 2009, 2009, 2009, 2009, 2009, 2009, 2009, 2009, 2009, 2009, 2009, 2009, 2009, 2009, 2009, 2009, 2009, 2009, 2009, 2009, 2009, 2009, 2009, 2009, 2009, 2009, 2009, 2009, 2009, 2009, 2009, 2009, 2009, 2009, 2009, 2009, 2009, 2009, 2009, 2009, 2009, 2009, 2009, 2009, 2009, 2009, 2009, 2009, 2009, 2009, 2009, 2009, 2009, 2009, 2009, 2009, 2009, 2009, 2009, 2009, 2009, 2009, 2009, 2009, 2009, 2009, 2009, 2009, 2009, 2009, 2009, 2009, 2009, 2009, 2009, 2009, 2009, 2009, 2009, 2009, 2009, 2009, 2009, 2009, 2009, 2009, 2009, 2009, 2009, 2009, 2009, 2009, 2009, 2009, 2009, 2009, 2009, 2009, 2009, 2009, 2009, 2009, 2009, 2009, 2009, 2009, 2009, 2009, 2009, 2009, 2009, 2009, 2009, 2009, 2009, 2009, 2009, 2009, 2009, 2009, 2009, 2009, 2009, 2009, 2009, 2009, 2009, 2009, 2009, 2009, 2009, 2009, 2009, 2009, 2009, 2009, 2009, 2009, 2009, 2009, 2009, 2009, 2009, 2009, 2009, 2009, 2009, 2009, 2009, 2009, 2009, 2009, 2009, 2009, 2009, 2009, 2009, 2009, 2009, 2009, 2009, 2009, 2009, 2009, 2009, 2009, 2009, 2009, 2009, 2009, 2009, 2009, 2009, 2009, 2009, 2009, 2009, 2009, 2009, 2009, 2009, 2009, 2009, 2009, 2009, 2009, 2009, 2009, 2009, 2009, 2009, 2009, 2009, 2009, 2009, 2009, 2009, 2009, 2009, 2009, 2009, 2009, 2009, 2009, 2009, 2009, 2009, 2009, 2009, 2009, 2009, 2009, 2009, 2009, 2009, 2009, 2009, 2009, 2009, 2009, 2008, 2008, 2008, 2008, 2008, 2008, 2008, 2008, 2008, 2008, 2008, 2008, 2008, 2008, 2008, 2008, 2008, 2008, 2008, 2008, 2008, 2008, 2008, 2008, 2008, 2008, 2008, 2008, 2008, 2008, 2008, 2008, 2008, 2008, 2008, 2008, 2008, 2008, 2008, 2008, 2008, 2008, 2008, 2008, 2008, 2008, 2008, 2008, 2008, 2008, 2008, 2008, 2008, 2008, 2008, 2008, 2008, 2008, 2008, 2008, 2008, 2008, 2008, 2008, 2008, 2008, 2008, 2008, 2008, 2008, 2008, 2008, 2008, 2008, 2008, 2008, 2008, 2008, 2008, 2008, 2008, 2008, 2008, 2008, 2008, 2008, 2008, 2008, 2008, 2008, 2008, 2008, 2008, 2008, 2008, 2008, 2008, 2008, 2008, 2008, 2008, 2008, 2008, 2008, 2008, 2008, 2008, 2008, 2008, 2008, 2008, 2008, 2008, 2008, 2008, 2008, 2008, 2008, 2008, 2008, 2008, 2008, 2008, 2008, 2008, 2008, 2008, 2008, 2008, 2008, 2008, 2008, 2008, 2008, 2008, 2008, 2008, 2008, 2008, 2008, 2008, 2008, 2008, 2008, 2008, 2008, 2008, 2008, 2008, 2008, 2008, 2008, 2008, 2008, 2008, 2008, 2008, 2008, 2008], \"xaxis\": \"x\", \"y\": [\"pub.1032403232\", \"pub.1052568629\", \"pub.1007487910\", \"pub.1026635135\", \"pub.1006821510\", \"pub.1028854617\", \"pub.1019132833\", \"pub.1021970815\", \"pub.1014504273\", \"pub.1037800271\", \"pub.1034002107\", \"pub.1032683029\", \"pub.1078043275\", \"pub.1009009163\", \"pub.1016872792\", \"pub.1035451518\", \"pub.1018616185\", \"pub.1040933655\", \"pub.1029106827\", \"pub.1025973753\", \"pub.1008611921\", \"pub.1044911973\", \"pub.1015523549\", \"pub.1008855340\", \"pub.1004240388\", \"pub.1045917204\", \"pub.1022742274\", \"pub.1019306297\", \"pub.1028706032\", \"pub.1038263226\", \"pub.1059267554\", \"pub.1053506395\", \"pub.1044093441\", \"pub.1000412193\", \"pub.1048484678\", \"pub.1028820311\", \"pub.1029410026\", \"pub.1059324702\", \"pub.1025839316\", \"pub.1049748462\", \"pub.1008846733\", \"pub.1078043252\", \"pub.1078043278\", \"pub.1002922723\", \"pub.1011246061\", \"pub.1002447086\", \"pub.1025192324\", \"pub.1024792872\", \"pub.1000214801\", \"pub.1045879857\", \"pub.1023624955\", \"pub.1022178351\", \"pub.1033621462\", \"pub.1003418767\", \"pub.1078043266\", \"pub.1016025665\", \"pub.1053287199\", \"pub.1007935574\", \"pub.1006431482\", \"pub.1050837624\", \"pub.1040251532\", \"pub.1006271847\", \"pub.1047413957\", \"pub.1029333938\", \"pub.1045067677\", \"pub.1004235060\", \"pub.1039059010\", \"pub.1006130530\", \"pub.1038989604\", \"pub.1028347426\", \"pub.1004032536\", \"pub.1042697006\", \"pub.1016287978\", \"pub.1053535619\", \"pub.1044509991\", \"pub.1084417989\", \"pub.1041551172\", \"pub.1019243015\", \"pub.1029671500\", \"pub.1041608406\", \"pub.1025704569\", \"pub.1017993354\", \"pub.1077964847\", \"pub.1018315654\", \"pub.1040985388\", \"pub.1015445070\", \"pub.1020715611\", \"pub.1010526636\", \"pub.1019154763\", \"pub.1012663229\", \"pub.1044331506\", \"pub.1041193347\", \"pub.1037778902\", \"pub.1032609991\", \"pub.1046114574\", \"pub.1047246365\", \"pub.1046148433\", \"pub.1010057317\", \"pub.1001187066\", \"pub.1001349774\", \"pub.1023807536\", \"pub.1003943331\", \"pub.1077978931\", \"pub.1020474446\", \"pub.1035381055\", \"pub.1000690158\", \"pub.1012838810\", \"pub.1057051465\", \"pub.1077972657\", \"pub.1021164720\", \"pub.1006592382\", \"pub.1020647821\", \"pub.1004142261\", \"pub.1000248631\", \"pub.1023493507\", \"pub.1033283386\", \"pub.1042687769\", \"pub.1078022978\", \"pub.1013446136\", \"pub.1047363911\", \"pub.1014698109\", \"pub.1051127574\", \"pub.1028098630\", \"pub.1049560247\", \"pub.1024990457\", \"pub.1004950111\", \"pub.1017659093\", \"pub.1013700632\", \"pub.1077965644\", \"pub.1051949698\", \"pub.1007057882\", \"pub.1044688860\", \"pub.1040510850\", \"pub.1019930142\", \"pub.1021211748\", \"pub.1038448988\", \"pub.1032712225\", \"pub.1021739351\", \"pub.1010288529\", \"pub.1034730288\", \"pub.1061540726\", \"pub.1010513006\", \"pub.1050002549\", \"pub.1004728063\", \"pub.1009899288\", \"pub.1004443623\", \"pub.1048131701\", \"pub.1024606042\", \"pub.1019250152\", \"pub.1046799287\", \"pub.1036777909\", \"pub.1001771502\", \"pub.1040423771\", \"pub.1005092154\", \"pub.1053494222\", \"pub.1038792360\", \"pub.1015447961\", \"pub.1038575974\", \"pub.1062694188\", \"pub.1050751929\", \"pub.1052163926\", \"pub.1022011200\", \"pub.1049618220\", \"pub.1035743740\", \"pub.1047421069\", \"pub.1027321445\", \"pub.1040449072\", \"pub.1046635508\", \"pub.1010641532\", \"pub.1050142343\", \"pub.1053814390\", \"pub.1022159533\", \"pub.1016537326\", \"pub.1048877946\", \"pub.1040094287\", \"pub.1034456909\", \"pub.1028142582\", \"pub.1005909256\", \"pub.1049801409\", \"pub.1029461255\", \"pub.1033495538\", \"pub.1008137916\", \"pub.1062460037\", \"pub.1006867507\", \"pub.1034519695\", \"pub.1077893234\", \"pub.1013311131\", \"pub.1015205346\", \"pub.1001521352\", \"pub.1035951248\", \"pub.1005140647\", \"pub.1002333931\", \"pub.1037381754\", \"pub.1015760639\", \"pub.1042433637\", \"pub.1042272392\", \"pub.1030112208\", \"pub.1020858930\", \"pub.1002455191\", \"pub.1050544699\", \"pub.1027663252\", \"pub.1040243910\", \"pub.1044152175\", \"pub.1024999945\", \"pub.1035085855\", \"pub.1010671520\", \"pub.1029830986\", \"pub.1040571197\", \"pub.1013879729\", \"pub.1044235419\", \"pub.1021132133\", \"pub.1036505489\", \"pub.1019137201\", \"pub.1008985535\", \"pub.1006815927\", \"pub.1021666774\", \"pub.1031520099\", \"pub.1027149830\", \"pub.1062458978\", \"pub.1062457777\", \"pub.1049075383\", \"pub.1026178187\", \"pub.1048841058\", \"pub.1030429735\", \"pub.1043683218\", \"pub.1031264770\", \"pub.1012080377\", \"pub.1008268771\", \"pub.1003643418\", \"pub.1028348139\", \"pub.1041030563\", \"pub.1051237550\", \"pub.1020486300\", \"pub.1007659006\", \"pub.1017650584\", \"pub.1028184892\", \"pub.1018662428\", \"pub.1007218371\", \"pub.1077884742\", \"pub.1062684030\", \"pub.1039939152\", \"pub.1025068644\", \"pub.1016602983\", \"pub.1046705580\", \"pub.1003435542\", \"pub.1026074425\", \"pub.1017647041\", \"pub.1060340680\", \"pub.1029860742\", \"pub.1010639665\", \"pub.1052972474\", \"pub.1033365432\", \"pub.1010607014\", \"pub.1039393742\", \"pub.1006957372\", \"pub.1018945850\", \"pub.1018262393\", \"pub.1038644474\", \"pub.1019372328\", \"pub.1041684492\", \"pub.1044199285\", \"pub.1020804815\", \"pub.1005440149\", \"pub.1049490543\", \"pub.1000892536\", \"pub.1047188908\", \"pub.1047293390\", \"pub.1029960745\", \"pub.1036733276\", \"pub.1042397642\", \"pub.1005573848\", \"pub.1002102434\", \"pub.1040540197\", \"pub.1047402928\", \"pub.1023768061\", \"pub.1028547479\", \"pub.1030205123\", \"pub.1015969994\", \"pub.1071361632\", \"pub.1041139955\", \"pub.1047013413\", \"pub.1017732938\", \"pub.1035764793\", \"pub.1006888634\", \"pub.1015683947\", \"pub.1029541331\", \"pub.1024376830\", \"pub.1039407787\", \"pub.1029699125\", \"pub.1048567536\", \"pub.1047941789\", \"pub.1043086720\", \"pub.1015096065\", \"pub.1041830597\", \"pub.1053678151\", \"pub.1030389793\", \"pub.1043131446\", \"pub.1034575724\", \"pub.1000749997\", \"pub.1014409708\", \"pub.1004835929\", \"pub.1022759138\", \"pub.1047868967\", \"pub.1043340457\", \"pub.1028336708\", \"pub.1017478378\", \"pub.1010550899\", \"pub.1112982193\", \"pub.1017134427\", \"pub.1035535932\", \"pub.1027411215\", \"pub.1006847927\", \"pub.1014075126\", \"pub.1078031901\", \"pub.1077837020\", \"pub.1112991156\", \"pub.1044877031\", \"pub.1022084959\", \"pub.1000803618\", \"pub.1047984850\", \"pub.1112987053\", \"pub.1047035337\", \"pub.1024943957\", \"pub.1026815362\", \"pub.1044611416\", \"pub.1057051440\", \"pub.1026596648\", \"pub.1040433754\", \"pub.1021596516\", \"pub.1019682862\", \"pub.1052400460\", \"pub.1011508610\", \"pub.1019533591\", \"pub.1020228908\", \"pub.1048357776\", \"pub.1033428116\", \"pub.1011849750\", \"pub.1041912835\", \"pub.1011673918\", \"pub.1002886075\", \"pub.1047084305\", \"pub.1007300652\", \"pub.1050850987\", \"pub.1016644593\", \"pub.1046412051\", \"pub.1077727895\", \"pub.1002731138\", \"pub.1017723430\", \"pub.1002834180\", \"pub.1039391607\", \"pub.1040045290\", \"pub.1050290345\", \"pub.1048798866\", \"pub.1046381807\", \"pub.1005874439\", \"pub.1016305785\", \"pub.1042297370\", \"pub.1033516068\", \"pub.1077831144\", \"pub.1018131981\", \"pub.1036048918\", \"pub.1050979669\", \"pub.1012709793\", \"pub.1049651577\", \"pub.1027450834\", \"pub.1000190747\", \"pub.1004610655\", \"pub.1018382550\", \"pub.1038441499\", \"pub.1038181239\", \"pub.1010771629\", \"pub.1031220610\", \"pub.1047520285\", \"pub.1016687915\", \"pub.1045364616\", \"pub.1002015294\", \"pub.1028855700\", \"pub.1015081855\", \"pub.1018661761\", \"pub.1015236059\", \"pub.1037066941\", \"pub.1001578024\", \"pub.1068333484\", \"pub.1026278112\", \"pub.1026297374\", \"pub.1032088611\", \"pub.1028851896\", \"pub.1032377717\", \"pub.1046405415\", \"pub.1040154248\", \"pub.1012026230\", \"pub.1053443873\", \"pub.1012297185\", \"pub.1031790712\", \"pub.1027283847\", \"pub.1022180359\", \"pub.1021471259\", \"pub.1041136141\", \"pub.1002364607\", \"pub.1004348941\", \"pub.1045391371\", \"pub.1034588817\", \"pub.1042145078\", \"pub.1024542418\", \"pub.1077671685\", \"pub.1052028172\", \"pub.1010546622\", \"pub.1022655749\", \"pub.1045822722\", \"pub.1021036103\", \"pub.1028717148\", \"pub.1032102979\", \"pub.1052522372\", \"pub.1028044657\", \"pub.1027150715\", \"pub.1030159828\", \"pub.1009944356\", \"pub.1048784662\", \"pub.1047728765\", \"pub.1014316491\", \"pub.1017829741\", \"pub.1025977739\", \"pub.1019744014\", \"pub.1059273086\", \"pub.1038497983\", \"pub.1011194957\", \"pub.1001014497\", \"pub.1004775956\", \"pub.1036481048\", \"pub.1028305000\", \"pub.1052772605\", \"pub.1018059563\", \"pub.1029431711\", \"pub.1044451126\", \"pub.1077687903\", \"pub.1043678684\", \"pub.1077687900\", \"pub.1077687901\", \"pub.1024945011\", \"pub.1077687899\", \"pub.1024785954\", \"pub.1040598371\", \"pub.1100992048\", \"pub.1040934728\", \"pub.1041116696\"], \"yaxis\": \"y\"}, {\"alignmentgroup\": \"True\", \"bingroup\": \"x\", \"hoverlabel\": {\"namelength\": 0}, \"hovertemplate\": \"type=chapter<br>year=%{x}<br>count of id=%{y}\", \"legendgroup\": \"type=chapter\", \"marker\": {\"color\": \"#EF553B\"}, \"name\": \"type=chapter\", \"offsetgroup\": \"type=chapter\", \"orientation\": \"v\", \"showlegend\": true, \"type\": \"histogram\", \"uid\": \"48f508f1-2aab-4bfc-9809-9899bc450a76\", \"x\": [2009, 2009, 2009, 2009, 2009, 2009, 2009, 2009, 2009, 2009, 2009, 2009, 2009, 2009, 2009, 2009, 2009, 2009, 2009, 2009, 2009, 2009, 2009, 2009, 2009, 2009, 2009, 2009, 2009, 2009, 2009, 2009, 2009, 2009, 2009, 2009, 2009, 2009, 2009, 2009, 2009, 2009, 2009, 2009, 2009, 2009, 2009, 2009, 2009, 2008, 2008, 2008, 2008], \"xaxis\": \"x\", \"y\": [\"pub.1004146769\", \"pub.1028411229\", \"pub.1040565106\", \"pub.1020536493\", \"pub.1017919852\", \"pub.1049213925\", \"pub.1041926479\", \"pub.1012779983\", \"pub.1014147798\", \"pub.1021449791\", \"pub.1009564503\", \"pub.1039456929\", \"pub.1017048159\", \"pub.1025361239\", \"pub.1018744226\", \"pub.1031475206\", \"pub.1038210389\", \"pub.1000590205\", \"pub.1017828106\", \"pub.1020712106\", \"pub.1005836680\", \"pub.1019468789\", \"pub.1021142898\", \"pub.1021399905\", \"pub.1026885405\", \"pub.1008502779\", \"pub.1039593877\", \"pub.1012772463\", \"pub.1022548336\", \"pub.1003671243\", \"pub.1049984662\", \"pub.1019969028\", \"pub.1006270416\", \"pub.1017378181\", \"pub.1009889400\", \"pub.1034479834\", \"pub.1002069875\", \"pub.1039421001\", \"pub.1002789428\", \"pub.1037051307\", \"pub.1019996561\", \"pub.1042437863\", \"pub.1053671890\", \"pub.1006999113\", \"pub.1018189879\", \"pub.1044579992\", \"pub.1005625481\", \"pub.1028352079\", \"pub.1053346196\", \"pub.1043800498\", \"pub.1049897520\", \"pub.1036471558\", \"pub.1015366798\"], \"yaxis\": \"y\"}, {\"alignmentgroup\": \"True\", \"bingroup\": \"x\", \"hoverlabel\": {\"namelength\": 0}, \"hovertemplate\": \"type=proceeding<br>year=%{x}<br>count of id=%{y}\", \"legendgroup\": \"type=proceeding\", \"marker\": {\"color\": \"#00cc96\"}, \"name\": \"type=proceeding\", \"offsetgroup\": \"type=proceeding\", \"orientation\": \"v\", \"showlegend\": true, \"type\": \"histogram\", \"uid\": \"1287a3e4-66d3-414d-b71c-d71828158d95\", \"x\": [2009], \"xaxis\": \"x\", \"y\": [\"pub.1026196330\"], \"yaxis\": \"y\"}, {\"alignmentgroup\": \"True\", \"bingroup\": \"x\", \"hoverlabel\": {\"namelength\": 0}, \"hovertemplate\": \"type=monograph<br>year=%{x}<br>count of id=%{y}\", \"legendgroup\": \"type=monograph\", \"marker\": {\"color\": \"#ab63fa\"}, \"name\": \"type=monograph\", \"offsetgroup\": \"type=monograph\", \"orientation\": \"v\", \"showlegend\": true, \"type\": \"histogram\", \"uid\": \"1b72adcd-d5fc-4aa9-a870-2528309e8498\", \"x\": [2009], \"xaxis\": \"x\", \"y\": [\"pub.1022726774\"], \"yaxis\": \"y\"}],\n",
       "                        {\"barmode\": \"relative\", \"grid\": {\"xaxes\": [\"x\"], \"xgap\": 0.1, \"xside\": \"bottom\", \"yaxes\": [\"y\"], \"ygap\": 0.1, \"yside\": \"left\"}, \"height\": 600, \"legend\": {\"tracegroupgap\": 0}, \"margin\": {\"t\": 60}, \"template\": {\"data\": {\"bar\": [{\"marker\": {\"line\": {\"color\": \"#E5ECF6\", \"width\": 0.5}}, \"type\": \"bar\"}], \"barpolar\": [{\"marker\": {\"line\": {\"color\": \"#E5ECF6\", \"width\": 0.5}}, \"type\": \"barpolar\"}], \"carpet\": [{\"aaxis\": {\"endlinecolor\": \"#2a3f5f\", \"gridcolor\": \"white\", \"linecolor\": \"white\", \"minorgridcolor\": \"white\", \"startlinecolor\": \"#2a3f5f\"}, \"baxis\": {\"endlinecolor\": \"#2a3f5f\", \"gridcolor\": \"white\", \"linecolor\": \"white\", \"minorgridcolor\": \"white\", \"startlinecolor\": \"#2a3f5f\"}, \"type\": \"carpet\"}], \"choropleth\": [{\"colorbar\": {\"outlinewidth\": 0, \"ticks\": \"\"}, \"type\": \"choropleth\"}], \"contour\": [{\"colorbar\": {\"outlinewidth\": 0, \"ticks\": \"\"}, \"colorscale\": [[0.0, \"#0508b8\"], [0.0893854748603352, \"#1910d8\"], [0.1787709497206704, \"#3c19f0\"], [0.2681564245810056, \"#6b1cfb\"], [0.3575418994413408, \"#981cfd\"], [0.44692737430167595, \"#bf1cfd\"], [0.5363128491620112, \"#dd2bfd\"], [0.6256983240223464, \"#f246fe\"], [0.7150837988826816, \"#fc67fd\"], [0.8044692737430168, \"#fe88fc\"], [0.8938547486033519, \"#fea5fd\"], [0.9832402234636871, \"#febefe\"], [1.0, \"#fec3fe\"]], \"type\": \"contour\"}], \"contourcarpet\": [{\"colorbar\": {\"outlinewidth\": 0, \"ticks\": \"\"}, \"type\": \"contourcarpet\"}], \"heatmap\": [{\"colorbar\": {\"outlinewidth\": 0, \"ticks\": \"\"}, \"colorscale\": [[0.0, \"#0508b8\"], [0.0893854748603352, \"#1910d8\"], [0.1787709497206704, \"#3c19f0\"], [0.2681564245810056, \"#6b1cfb\"], [0.3575418994413408, \"#981cfd\"], [0.44692737430167595, \"#bf1cfd\"], [0.5363128491620112, \"#dd2bfd\"], [0.6256983240223464, \"#f246fe\"], [0.7150837988826816, \"#fc67fd\"], [0.8044692737430168, \"#fe88fc\"], [0.8938547486033519, \"#fea5fd\"], [0.9832402234636871, \"#febefe\"], [1.0, \"#fec3fe\"]], \"type\": \"heatmap\"}], \"heatmapgl\": [{\"colorbar\": {\"outlinewidth\": 0, \"ticks\": \"\"}, \"type\": \"heatmapgl\"}], \"histogram\": [{\"marker\": {\"colorbar\": {\"outlinewidth\": 0, \"ticks\": \"\"}}, \"type\": \"histogram\"}], \"histogram2d\": [{\"colorbar\": {\"outlinewidth\": 0, \"ticks\": \"\"}, \"colorscale\": [[0.0, \"#0508b8\"], [0.0893854748603352, \"#1910d8\"], [0.1787709497206704, \"#3c19f0\"], [0.2681564245810056, \"#6b1cfb\"], [0.3575418994413408, \"#981cfd\"], [0.44692737430167595, \"#bf1cfd\"], [0.5363128491620112, \"#dd2bfd\"], [0.6256983240223464, \"#f246fe\"], [0.7150837988826816, \"#fc67fd\"], [0.8044692737430168, \"#fe88fc\"], [0.8938547486033519, \"#fea5fd\"], [0.9832402234636871, \"#febefe\"], [1.0, \"#fec3fe\"]], \"type\": \"histogram2d\"}], \"histogram2dcontour\": [{\"colorbar\": {\"outlinewidth\": 0, \"ticks\": \"\"}, \"colorscale\": [[0.0, \"#0508b8\"], [0.0893854748603352, \"#1910d8\"], [0.1787709497206704, \"#3c19f0\"], [0.2681564245810056, \"#6b1cfb\"], [0.3575418994413408, \"#981cfd\"], [0.44692737430167595, \"#bf1cfd\"], [0.5363128491620112, \"#dd2bfd\"], [0.6256983240223464, \"#f246fe\"], [0.7150837988826816, \"#fc67fd\"], [0.8044692737430168, \"#fe88fc\"], [0.8938547486033519, \"#fea5fd\"], [0.9832402234636871, \"#febefe\"], [1.0, \"#fec3fe\"]], \"type\": \"histogram2dcontour\"}], \"mesh3d\": [{\"colorbar\": {\"outlinewidth\": 0, \"ticks\": \"\"}, \"type\": \"mesh3d\"}], \"parcoords\": [{\"line\": {\"colorbar\": {\"outlinewidth\": 0, \"ticks\": \"\"}}, \"type\": \"parcoords\"}], \"scatter\": [{\"marker\": {\"colorbar\": {\"outlinewidth\": 0, \"ticks\": \"\"}}, \"type\": \"scatter\"}], \"scatter3d\": [{\"marker\": {\"colorbar\": {\"outlinewidth\": 0, \"ticks\": \"\"}}, \"type\": \"scatter3d\"}], \"scattercarpet\": [{\"marker\": {\"colorbar\": {\"outlinewidth\": 0, \"ticks\": \"\"}}, \"type\": \"scattercarpet\"}], \"scattergeo\": [{\"marker\": {\"colorbar\": {\"outlinewidth\": 0, \"ticks\": \"\"}}, \"type\": \"scattergeo\"}], \"scattergl\": [{\"marker\": {\"colorbar\": {\"outlinewidth\": 0, \"ticks\": \"\"}}, \"type\": \"scattergl\"}], \"scattermapbox\": [{\"marker\": {\"colorbar\": {\"outlinewidth\": 0, \"ticks\": \"\"}}, \"type\": \"scattermapbox\"}], \"scatterpolar\": [{\"marker\": {\"colorbar\": {\"outlinewidth\": 0, \"ticks\": \"\"}}, \"type\": \"scatterpolar\"}], \"scatterpolargl\": [{\"marker\": {\"colorbar\": {\"outlinewidth\": 0, \"ticks\": \"\"}}, \"type\": \"scatterpolargl\"}], \"scatterternary\": [{\"marker\": {\"colorbar\": {\"outlinewidth\": 0, \"ticks\": \"\"}}, \"type\": \"scatterternary\"}], \"surface\": [{\"colorbar\": {\"outlinewidth\": 0, \"ticks\": \"\"}, \"type\": \"surface\"}], \"table\": [{\"cells\": {\"fill\": {\"color\": \"#EBF0F8\"}, \"line\": {\"color\": \"white\"}}, \"header\": {\"fill\": {\"color\": \"#C8D4E3\"}, \"line\": {\"color\": \"white\"}}, \"type\": \"table\"}]}, \"layout\": {\"annotationdefaults\": {\"arrowcolor\": \"#506784\", \"arrowhead\": 0, \"arrowwidth\": 1}, \"colorscale\": {\"diverging\": [[0, \"#8e0152\"], [0.1, \"#c51b7d\"], [0.2, \"#de77ae\"], [0.3, \"#f1b6da\"], [0.4, \"#fde0ef\"], [0.5, \"#f7f7f7\"], [0.6, \"#e6f5d0\"], [0.7, \"#b8e186\"], [0.8, \"#7fbc41\"], [0.9, \"#4d9221\"], [1, \"#276419\"]], \"sequential\": [[0.0, \"#0508b8\"], [0.0893854748603352, \"#1910d8\"], [0.1787709497206704, \"#3c19f0\"], [0.2681564245810056, \"#6b1cfb\"], [0.3575418994413408, \"#981cfd\"], [0.44692737430167595, \"#bf1cfd\"], [0.5363128491620112, \"#dd2bfd\"], [0.6256983240223464, \"#f246fe\"], [0.7150837988826816, \"#fc67fd\"], [0.8044692737430168, \"#fe88fc\"], [0.8938547486033519, \"#fea5fd\"], [0.9832402234636871, \"#febefe\"], [1.0, \"#fec3fe\"]], \"sequentialminus\": [[0.0, \"#0508b8\"], [0.0893854748603352, \"#1910d8\"], [0.1787709497206704, \"#3c19f0\"], [0.2681564245810056, \"#6b1cfb\"], [0.3575418994413408, \"#981cfd\"], [0.44692737430167595, \"#bf1cfd\"], [0.5363128491620112, \"#dd2bfd\"], [0.6256983240223464, \"#f246fe\"], [0.7150837988826816, \"#fc67fd\"], [0.8044692737430168, \"#fe88fc\"], [0.8938547486033519, \"#fea5fd\"], [0.9832402234636871, \"#febefe\"], [1.0, \"#fec3fe\"]]}, \"colorway\": [\"#636efa\", \"#EF553B\", \"#00cc96\", \"#ab63fa\", \"#19d3f3\", \"#e763fa\", \"#FECB52\", \"#FFA15A\", \"#FF6692\", \"#B6E880\"], \"font\": {\"color\": \"#2a3f5f\"}, \"geo\": {\"bgcolor\": \"white\", \"lakecolor\": \"white\", \"landcolor\": \"#E5ECF6\", \"showlakes\": true, \"showland\": true, \"subunitcolor\": \"white\"}, \"hoverlabel\": {\"align\": \"left\"}, \"hovermode\": \"closest\", \"mapbox\": {\"style\": \"light\"}, \"paper_bgcolor\": \"white\", \"plot_bgcolor\": \"#E5ECF6\", \"polar\": {\"angularaxis\": {\"gridcolor\": \"white\", \"linecolor\": \"white\", \"ticks\": \"\"}, \"bgcolor\": \"#E5ECF6\", \"radialaxis\": {\"gridcolor\": \"white\", \"linecolor\": \"white\", \"ticks\": \"\"}}, \"scene\": {\"xaxis\": {\"backgroundcolor\": \"#E5ECF6\", \"gridcolor\": \"white\", \"gridwidth\": 2, \"linecolor\": \"white\", \"showbackground\": true, \"ticks\": \"\", \"zerolinecolor\": \"white\"}, \"yaxis\": {\"backgroundcolor\": \"#E5ECF6\", \"gridcolor\": \"white\", \"gridwidth\": 2, \"linecolor\": \"white\", \"showbackground\": true, \"ticks\": \"\", \"zerolinecolor\": \"white\"}, \"zaxis\": {\"backgroundcolor\": \"#E5ECF6\", \"gridcolor\": \"white\", \"gridwidth\": 2, \"linecolor\": \"white\", \"showbackground\": true, \"ticks\": \"\", \"zerolinecolor\": \"white\"}}, \"shapedefaults\": {\"fillcolor\": \"#506784\", \"line\": {\"width\": 0}, \"opacity\": 0.4}, \"ternary\": {\"aaxis\": {\"gridcolor\": \"white\", \"linecolor\": \"white\", \"ticks\": \"\"}, \"baxis\": {\"gridcolor\": \"white\", \"linecolor\": \"white\", \"ticks\": \"\"}, \"bgcolor\": \"#E5ECF6\", \"caxis\": {\"gridcolor\": \"white\", \"linecolor\": \"white\", \"ticks\": \"\"}}, \"title\": {\"x\": 0.05}, \"xaxis\": {\"automargin\": true, \"gridcolor\": \"white\", \"linecolor\": \"white\", \"ticks\": \"\", \"zerolinecolor\": \"white\", \"zerolinewidth\": 2}, \"yaxis\": {\"automargin\": true, \"gridcolor\": \"white\", \"linecolor\": \"white\", \"ticks\": \"\", \"zerolinecolor\": \"white\", \"zerolinewidth\": 2}}}, \"xaxis\": {\"title\": {\"text\": \"year\"}}, \"yaxis\": {\"title\": {\"text\": \"count of id\"}}},\n",
       "                        {\"showLink\": false, \"linkText\": \"Export to plot.ly\", \"plotlyServerURL\": \"https://plot.ly\", \"responsive\": true}\n",
       "                    ).then(function(){\n",
       "                            \n",
       "var gd = document.getElementById('9259d16f-2fd9-483c-bd67-e54854f8265b');\n",
       "var x = new MutationObserver(function (mutations, observer) {{\n",
       "        var display = window.getComputedStyle(gd).display;\n",
       "        if (!display || display === 'none') {{\n",
       "            console.log([gd, 'removed!']);\n",
       "            Plotly.purge(gd);\n",
       "            observer.disconnect();\n",
       "        }}\n",
       "}});\n",
       "\n",
       "// Listen for the removal of the full notebook cells\n",
       "var notebookContainer = gd.closest('#notebook-container');\n",
       "if (notebookContainer) {{\n",
       "    x.observe(notebookContainer, {childList: true});\n",
       "}}\n",
       "\n",
       "// Listen for the clearing of the current output cell\n",
       "var outputEl = gd.closest('.output');\n",
       "if (outputEl) {{\n",
       "    x.observe(outputEl, {childList: true});\n",
       "}}\n",
       "\n",
       "                        })\n",
       "                };\n",
       "                });\n",
       "            </script>\n",
       "        </div>"
      ]
     },
     "metadata": {
      "tags": []
     },
     "output_type": "display_data"
    }
   ],
   "source": [
    "px.histogram(df, x='year', y='id', color=\"type\")"
   ]
  }
 ],
 "metadata": {
  "colab": {
   "collapsed_sections": [],
   "name": "sankey.ipynb",
   "provenance": []
  },
  "kernelspec": {
   "display_name": "Python 3",
   "language": "python",
   "name": "python3"
  },
  "language_info": {
   "codemirror_mode": {
    "name": "ipython",
    "version": 3
   },
   "file_extension": ".py",
   "mimetype": "text/x-python",
   "name": "python",
   "nbconvert_exporter": "python",
   "pygments_lexer": "ipython3",
   "version": "3.8.5"
  },
  "toc-autonumbering": false,
  "toc-showcode": false,
  "toc-showmarkdowntxt": true,
  "toc-showtags": false
 },
 "nbformat": 4,
 "nbformat_minor": 4
}
