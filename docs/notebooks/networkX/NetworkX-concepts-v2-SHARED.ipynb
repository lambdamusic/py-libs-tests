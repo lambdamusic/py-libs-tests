{
 "cells": [
  {
   "cell_type": "markdown",
   "metadata": {
    "Collapsed": "false",
    "colab_type": "text",
    "id": "T-R4Td-U8auO"
   },
   "source": [
    "# Creating a topic map visualization using concepts \n",
    "* https://networkx.github.io/documentation/stable/reference/introduction.html\n",
    "* https://pyvis.readthedocs.io/en/latest/tutorial.html"
   ]
  },
  {
   "cell_type": "code",
   "execution_count": 1,
   "metadata": {
    "Collapsed": "false"
   },
   "outputs": [],
   "source": [
    "!pip install pyvis jsonpickle plotly dimcli -U --quiet"
   ]
  },
  {
   "cell_type": "code",
   "execution_count": 2,
   "metadata": {
    "Collapsed": "false",
    "colab": {
     "base_uri": "https://localhost:8080/",
     "height": 136
    },
    "colab_type": "code",
    "executionInfo": {
     "elapsed": 25240,
     "status": "ok",
     "timestamp": 1594223315965,
     "user": {
      "displayName": "Michele Pasin",
      "photoUrl": "https://lh3.googleusercontent.com/a-/AOh14GiYfmLTPbeMuYDDrETLbTVXTXnfVr9f7eBtkmR73A=s64",
      "userId": "10309320684375994511"
     },
     "user_tz": -60
    },
    "id": "DLvU1a94tsyL",
    "outputId": "28c39e72-ae52-41c7-8cdd-374b5bfac11f"
   },
   "outputs": [
    {
     "name": "stdout",
     "output_type": "stream",
     "text": [
      "==\n",
      "Logging in..\n",
      "\u001b[2mDimcli - Dimensions API Client (v0.7.2)\u001b[0m\n",
      "\u001b[2mConnected to: https://app.dimensions.ai - DSL v1.26\u001b[0m\n",
      "\u001b[2mMethod: dsl.ini file\u001b[0m\n"
     ]
    }
   ],
   "source": [
    "import dimcli\n",
    "from dimcli.shortcuts import *\n",
    "from dimcli.core.extras import NetworkViz as Network # custom version of pyvis - colab-compatible\n",
    "\n",
    "import json\n",
    "import sys\n",
    "import pandas as pd\n",
    "import networkx as nx\n",
    "import itertools\n",
    "\n",
    "print(\"==\\nLogging in..\")\n",
    "# https://github.com/digital-science/dimcli#authentication\n",
    "ENDPOINT = \"https://app.dimensions.ai\"\n",
    "if 'google.colab' in sys.modules:\n",
    "  import getpass\n",
    "  USERNAME = getpass.getpass(prompt='Username: ')\n",
    "  PASSWORD = getpass.getpass(prompt='Password: ')\n",
    "  dimcli.login(USERNAME, PASSWORD, ENDPOINT)\n",
    "else:\n",
    "  USERNAME, PASSWORD  = \"\", \"\"\n",
    "  dimcli.login(USERNAME, PASSWORD, ENDPOINT)\n",
    "dsl = dimcli.Dsl()"
   ]
  },
  {
   "cell_type": "markdown",
   "metadata": {
    "Collapsed": "false",
    "colab_type": "text",
    "id": "cBrlkPX5HMY6"
   },
   "source": [
    "## Step 1: Get some data \n",
    "\n",
    "This query will return a list of documents with related concepts. \n",
    "\n",
    "Try changing the query in order to get different results."
   ]
  },
  {
   "cell_type": "code",
   "execution_count": 3,
   "metadata": {
    "Collapsed": "false",
    "colab": {},
    "colab_type": "code",
    "id": "iMMJGVQEt8ob"
   },
   "outputs": [
    {
     "name": "stdout",
     "output_type": "stream",
     "text": [
      "Returned Publications: 1000 (total = 142083)\n",
      "Total concepts: 46017\n",
      "Concepts score average 0.37944545037703453\n"
     ]
    },
    {
     "data": {
      "text/html": [
       "<div>\n",
       "<style scoped>\n",
       "    .dataframe tbody tr th:only-of-type {\n",
       "        vertical-align: middle;\n",
       "    }\n",
       "\n",
       "    .dataframe tbody tr th {\n",
       "        vertical-align: top;\n",
       "    }\n",
       "\n",
       "    .dataframe thead th {\n",
       "        text-align: right;\n",
       "    }\n",
       "</style>\n",
       "<table border=\"1\" class=\"dataframe\">\n",
       "  <thead>\n",
       "    <tr style=\"text-align: right;\">\n",
       "      <th></th>\n",
       "      <th>id</th>\n",
       "      <th>title</th>\n",
       "      <th>concepts_count</th>\n",
       "      <th>concept</th>\n",
       "      <th>score</th>\n",
       "      <th>frequency</th>\n",
       "      <th>score_avg</th>\n",
       "    </tr>\n",
       "  </thead>\n",
       "  <tbody>\n",
       "    <tr>\n",
       "      <th>0</th>\n",
       "      <td>pub.1007137639</td>\n",
       "      <td>Building better batteries</td>\n",
       "      <td>67</td>\n",
       "      <td>materials science</td>\n",
       "      <td>0.06888</td>\n",
       "      <td>4</td>\n",
       "      <td>0.20473</td>\n",
       "    </tr>\n",
       "    <tr>\n",
       "      <th>1</th>\n",
       "      <td>pub.1007137639</td>\n",
       "      <td>Building better batteries</td>\n",
       "      <td>67</td>\n",
       "      <td>new series</td>\n",
       "      <td>0.06877</td>\n",
       "      <td>3</td>\n",
       "      <td>0.05128</td>\n",
       "    </tr>\n",
       "    <tr>\n",
       "      <th>2</th>\n",
       "      <td>pub.1007137639</td>\n",
       "      <td>Building better batteries</td>\n",
       "      <td>67</td>\n",
       "      <td>better batteries</td>\n",
       "      <td>0.06703</td>\n",
       "      <td>1</td>\n",
       "      <td>0.06703</td>\n",
       "    </tr>\n",
       "    <tr>\n",
       "      <th>3</th>\n",
       "      <td>pub.1007137639</td>\n",
       "      <td>Building better batteries</td>\n",
       "      <td>67</td>\n",
       "      <td>batteries</td>\n",
       "      <td>0.06070</td>\n",
       "      <td>3</td>\n",
       "      <td>0.03250</td>\n",
       "    </tr>\n",
       "    <tr>\n",
       "      <th>4</th>\n",
       "      <td>pub.1007137639</td>\n",
       "      <td>Building better batteries</td>\n",
       "      <td>67</td>\n",
       "      <td>Murray-Rust</td>\n",
       "      <td>0.05667</td>\n",
       "      <td>3</td>\n",
       "      <td>0.02170</td>\n",
       "    </tr>\n",
       "  </tbody>\n",
       "</table>\n",
       "</div>"
      ],
      "text/plain": [
       "               id                      title  concepts_count  \\\n",
       "0  pub.1007137639  Building better batteries              67   \n",
       "1  pub.1007137639  Building better batteries              67   \n",
       "2  pub.1007137639  Building better batteries              67   \n",
       "3  pub.1007137639  Building better batteries              67   \n",
       "4  pub.1007137639  Building better batteries              67   \n",
       "\n",
       "             concept    score  frequency  score_avg  \n",
       "0  materials science  0.06888          4    0.20473  \n",
       "1         new series  0.06877          3    0.05128  \n",
       "2   better batteries  0.06703          1    0.06703  \n",
       "3          batteries  0.06070          3    0.03250  \n",
       "4        Murray-Rust  0.05667          3    0.02170  "
      ]
     },
     "execution_count": 3,
     "metadata": {},
     "output_type": "execute_result"
    }
   ],
   "source": [
    "q = \"\"\"search publications \n",
    "            for \"\\\\\"Semantic Web\\\\\"\" \n",
    "        return publications[id+title+concepts_scores] \n",
    "        sort by times_cited limit 1000\"\"\"\n",
    "\n",
    "\n",
    "\n",
    "data = dsl.query(q)\n",
    "concepts = data.as_dataframe_concepts()\n",
    "print(\"Total concepts:\", len(concepts))\n",
    "print(\"Concepts score average\", concepts['score_avg'].mean())\n",
    "concepts.head()"
   ]
  },
  {
   "cell_type": "markdown",
   "metadata": {
    "Collapsed": "false",
    "colab_type": "text",
    "id": "0SRjG7AE8auX"
   },
   "source": [
    "## Step 2: Build a Network Data Structure \n",
    "\n",
    "* for each publication add all nodes with selected features (eg score > MIN, FREQUENCY > MIN)\n",
    "* also, for each publication create edges among all of them\n",
    "    * generate all possible combinations for a single pub concepts\n",
    "    * if edge already exists, do a +1 on its strength\n",
    "* as a second step, keep only nodes that have an edge > MIN WEIGHT"
   ]
  },
  {
   "cell_type": "code",
   "execution_count": 4,
   "metadata": {
    "Collapsed": "false",
    "colab": {},
    "colab_type": "code",
    "id": "hQP7yyd28auZ"
   },
   "outputs": [
    {
     "name": "stdout",
     "output_type": "stream",
     "text": [
      "Nodes: 174 Edges: 0\n",
      "Nodes: 174 Edges: 1063\n",
      ".. cleaning up edges with weight < 2...\n",
      "..Done\n",
      " => Nodes: 174 Edges: 200\n"
     ]
    }
   ],
   "source": [
    "G = nx.Graph()\n",
    "\n",
    "# play with these parameters to make a more interesting network\n",
    "MIN_CONCEPT_SCORE = 0.6\n",
    "MIN_CONCEPT_FREQUENCY = 4\n",
    "MIN_EDGE_WEIGHT = 2\n",
    "\n",
    "top_concepts = concepts.query(f\"score_avg >= {MIN_CONCEPT_SCORE} & frequency >=  {MIN_CONCEPT_FREQUENCY}\")\n",
    "\n",
    "\n",
    "#\n",
    "# build nodes from concepts, including score_avg and frequency\n",
    "#\n",
    "mean_score = top_concepts['score_avg'].mean()\n",
    "for index, row in top_concepts.drop_duplicates(\"concept\").iterrows():\n",
    "    score_bucket = 1 if row['score_avg'] > mean_score else 2\n",
    "    G.add_node(row['concept'],frequency=row['frequency'], score_avg=row['score_avg'], score_bucket=score_bucket)\n",
    "print(\"Nodes:\", len(G.nodes()), \"Edges:\", len(G.edges()))\n",
    "\n",
    "#\n",
    "# build edges, based on concepts co-occurrence within pubs\n",
    "# -- calculate a 'weight' based on how often two concepts co-occur\n",
    "#\n",
    "pubs_list = top_concepts.drop_duplicates(\"id\")['id'].to_list()\n",
    "\n",
    "for p in pubs_list:\n",
    "    concepts_for_this_pub = top_concepts[top_concepts['id'] == p]['concept'].to_list()\n",
    "    for group in itertools.combinations(concepts_for_this_pub, 2):  # gen all permutations\n",
    "        a, b = group[0], group[1]\n",
    "        try:\n",
    "            G.edges[a, b]['weight'] = G.edges[a, b]['weight'] + 1 \n",
    "        except:\n",
    "            G.add_edge(a, b, weight=1)\n",
    "            \n",
    "print(\"Nodes:\", len(G.nodes()), \"Edges:\", len(G.edges()))\n",
    "\n",
    "#\n",
    "# this extra step is useful to remove low-weight connections\n",
    "#\n",
    "\n",
    "print(f\".. cleaning up edges with weight < {MIN_EDGE_WEIGHT}...\")\n",
    "\n",
    "for a, b, w in list(G.edges(data='weight')):\n",
    "    if w < MIN_EDGE_WEIGHT:\n",
    "        G.remove_edge(a, b)\n",
    "\n",
    "print(\"..Done\")\n",
    "print(\" => Nodes:\", len(G.nodes()), \"Edges:\", len(G.edges()))\n"
   ]
  },
  {
   "cell_type": "markdown",
   "metadata": {
    "Collapsed": "false",
    "colab_type": "text",
    "id": "X7JMkbPy8aub"
   },
   "source": [
    "## Step 3: Visualize"
   ]
  },
  {
   "cell_type": "markdown",
   "metadata": {
    "Collapsed": "false",
    "colab_type": "text",
    "id": "mSxz5bqY8auc"
   },
   "source": [
    "* NOTE the `from_nx` method doesn't carry through the WEIGHT or any other value\n",
    "* so we need to set it manually using via another pass eg example  - see https://github.com/WestHealth/pyvis/issues/16"
   ]
  },
  {
   "cell_type": "code",
   "execution_count": 5,
   "metadata": {
    "Collapsed": "false",
    "colab": {},
    "colab_type": "code",
    "id": "Sy5TRJ454qi6"
   },
   "outputs": [
    {
     "data": {
      "text/html": [
       "\n",
       "        <iframe\n",
       "            width=\"100%\"\n",
       "            height=\"800px\"\n",
       "            src=\"test.html\"\n",
       "            frameborder=\"0\"\n",
       "            allowfullscreen\n",
       "        ></iframe>\n",
       "        "
      ],
      "text/plain": [
       "<IPython.lib.display.IFrame at 0x1249a1a30>"
      ]
     },
     "execution_count": 5,
     "metadata": {},
     "output_type": "execute_result"
    }
   ],
   "source": [
    "viznet = Network(notebook=True, width=\"100%\", height=\"800px\")\n",
    "viznet.toggle_hide_edges_on_drag(True)\n",
    "viznet.barnes_hut()\n",
    "viznet.repulsion(300)\n",
    "\n",
    "# reuse plotly color palette\n",
    "import plotly.express as px\n",
    "palette = px.colors.diverging.Temps  # 7 colors\n",
    "\n",
    "viznet.from_nx(G)\n",
    "\n",
    "\n",
    "# update visual features \n",
    "\n",
    "for node in viznet.nodes:\n",
    "    freq = G.nodes[node['label']]['frequency']\n",
    "    score_avg = G.nodes[node['label']]['score_avg']\n",
    "    score_bucket = G.nodes[node['label']]['score_bucket'] # get from original network\n",
    "\n",
    "    node['size'] = freq * 2\n",
    "    node['color'] = palette[score_bucket*3]\n",
    "    node['borderWidthSelected'] = 5\n",
    "    node['title'] = f\"<h4>Concept: '{node['label']}'</h4><hr>Frequency: {freq}<br>Score avg: {score_avg}\",\n",
    "    # print(node)\n",
    "for edge in viznet.edges:\n",
    "    # get value from main Network weight\n",
    "    edge['value'] = G.edges[edge['from'], edge['to']]['weight']\n",
    "    # print(edge)\n",
    "    \n",
    "viznet.show(\"test.html\")\n",
    "\n"
   ]
  },
  {
   "cell_type": "code",
   "execution_count": null,
   "metadata": {
    "Collapsed": "false",
    "colab": {},
    "colab_type": "code",
    "id": "6PBbHDCxHMZC"
   },
   "outputs": [],
   "source": []
  }
 ],
 "metadata": {
  "colab": {
   "collapsed_sections": [],
   "name": "NetworkX-concepts-v2.ipynb",
   "provenance": []
  },
  "kernelspec": {
   "display_name": "Python 3",
   "language": "python",
   "name": "python3"
  },
  "language_info": {
   "codemirror_mode": {
    "name": "ipython",
    "version": 3
   },
   "file_extension": ".py",
   "mimetype": "text/x-python",
   "name": "python",
   "nbconvert_exporter": "python",
   "pygments_lexer": "ipython3",
   "version": "3.8.5"
  }
 },
 "nbformat": 4,
 "nbformat_minor": 4
}
